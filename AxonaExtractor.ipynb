{
 "cells": [
  {
   "cell_type": "code",
   "execution_count": 2,
   "id": "clean-excellence",
   "metadata": {},
   "outputs": [
    {
     "name": "stdout",
     "output_type": "stream",
     "text": [
      "3.8.5 (default, Sep  4 2020, 07:30:14) \n",
      "[GCC 7.3.0] linux /home/sbuergers/spikeinterface/spikeinterface_new_api/venv/bin/python\n"
     ]
    }
   ],
   "source": [
    "import sys\n",
    "print(sys.version, sys.platform, sys.executable)"
   ]
  },
  {
   "cell_type": "code",
   "execution_count": 3,
   "id": "extreme-robert",
   "metadata": {},
   "outputs": [],
   "source": [
    "# Establish filename\n",
    "\n",
    "import os\n",
    "import numpy as np\n",
    "\n",
    "dir_name = r'/mnt/d/freelance-work/catalyst-neuro/hussaini-lab-to-nwb/sample_bin_to_tint'\n",
    "base_filename = 'axona_sample.set'\n",
    "filename = os.path.join(dir_name, base_filename)"
   ]
  },
  {
   "cell_type": "code",
   "execution_count": 4,
   "id": "early-technology",
   "metadata": {},
   "outputs": [
    {
     "data": {
      "text/plain": [
       "'/mnt/d/freelance-work/catalyst-neuro/hussaini-lab-to-nwb/sample_bin_to_tint/axona_sample.set'"
      ]
     },
     "execution_count": 4,
     "metadata": {},
     "output_type": "execute_result"
    }
   ],
   "source": [
    "filename"
   ]
  },
  {
   "cell_type": "code",
   "execution_count": 5,
   "id": "9e607dc3",
   "metadata": {},
   "outputs": [],
   "source": [
    "from spikeextractors.extractors.neoextractors import AxonaRecordingExtractor"
   ]
  },
  {
   "cell_type": "markdown",
   "id": "c97958c5",
   "metadata": {},
   "source": [
    "## AxonaRecordingExtractor --- .bin and .set data"
   ]
  },
  {
   "cell_type": "code",
   "execution_count": 1,
   "id": "2c2920a6",
   "metadata": {},
   "outputs": [
    {
     "ename": "NameError",
     "evalue": "name 'AxonaRecordingExtractor' is not defined",
     "output_type": "error",
     "traceback": [
      "\u001b[0;31m---------------------------------------------------------------------------\u001b[0m",
      "\u001b[0;31mNameError\u001b[0m                                 Traceback (most recent call last)",
      "\u001b[0;32m<ipython-input-1-9f64d335b62d>\u001b[0m in \u001b[0;36m<module>\u001b[0;34m\u001b[0m\n\u001b[0;32m----> 1\u001b[0;31m \u001b[0mre\u001b[0m \u001b[0;34m=\u001b[0m \u001b[0mAxonaRecordingExtractor\u001b[0m\u001b[0;34m(\u001b[0m\u001b[0mfilename\u001b[0m\u001b[0;34m=\u001b[0m\u001b[0mfilename\u001b[0m\u001b[0;34m)\u001b[0m\u001b[0;34m\u001b[0m\u001b[0;34m\u001b[0m\u001b[0m\n\u001b[0m",
      "\u001b[0;31mNameError\u001b[0m: name 'AxonaRecordingExtractor' is not defined"
     ]
    }
   ],
   "source": [
    "re = AxonaRecordingExtractor(filename=filename)"
   ]
  },
  {
   "cell_type": "code",
   "execution_count": 7,
   "id": "86a80896",
   "metadata": {},
   "outputs": [
    {
     "name": "stdout",
     "output_type": "stream",
     "text": [
      "Channel ids = [0, 1, 2, 3, 4, 5, 6, 7, 8, 9, 10, 11, 12, 13, 14, 15]\n",
      "Num. channels = 16\n",
      "Sampling frequency = 48000.0 Hz\n",
      "Num. timepoints = 57600\n",
      "Location of third electrode = [nan nan]\n",
      "Channel groups = [0 0 0 0 1 1 1 1 2 2 2 2 3 3 3 3]\n"
     ]
    }
   ],
   "source": [
    "recording = re\n",
    "print('Channel ids = {}'.format(recording.get_channel_ids()))\n",
    "print('Num. channels = {}'.format(len(recording.get_channel_ids())))\n",
    "print('Sampling frequency = {} Hz'.format(recording.get_sampling_frequency()))\n",
    "print('Num. timepoints = {}'.format(recording.get_num_frames()))\n",
    "#print('Stdev. on third channel = {}'.format(np.std(recording.get_traces(channel_ids=2))))\n",
    "print('Location of third electrode = {}'.format(recording.get_channel_property(channel_id=2, property_name='location')))\n",
    "print('Channel groups = {}'.format(recording.get_channel_groups()))"
   ]
  },
  {
   "cell_type": "code",
   "execution_count": 8,
   "id": "9f9e2f15",
   "metadata": {},
   "outputs": [
    {
     "data": {
      "text/plain": [
       "array([('1a', '0', 48000., 'int16', 'uV', 0.00457764, 0., '0'),\n",
       "       ('1b', '1', 48000., 'int16', 'uV', 0.00457764, 0., '0'),\n",
       "       ('1c', '2', 48000., 'int16', 'uV', 0.00457764, 0., '0'),\n",
       "       ('1d', '3', 48000., 'int16', 'uV', 0.00457764, 0., '0'),\n",
       "       ('2a', '4', 48000., 'int16', 'uV', 0.00228882, 0., '0'),\n",
       "       ('2b', '5', 48000., 'int16', 'uV', 0.00228882, 0., '0'),\n",
       "       ('2c', '6', 48000., 'int16', 'uV', 0.00228882, 0., '0'),\n",
       "       ('2d', '7', 48000., 'int16', 'uV', 0.00228882, 0., '0'),\n",
       "       ('3a', '8', 48000., 'int16', 'uV', 0.00305176, 0., '0'),\n",
       "       ('3b', '9', 48000., 'int16', 'uV', 0.00305176, 0., '0'),\n",
       "       ('3c', '10', 48000., 'int16', 'uV', 0.00305176, 0., '0'),\n",
       "       ('3d', '11', 48000., 'int16', 'uV', 0.00305176, 0., '0'),\n",
       "       ('4a', '12', 48000., 'int16', 'uV', 0.00305176, 0., '0'),\n",
       "       ('4b', '13', 48000., 'int16', 'uV', 0.00305176, 0., '0'),\n",
       "       ('4c', '14', 48000., 'int16', 'uV', 0.00305176, 0., '0'),\n",
       "       ('4d', '15', 48000., 'int16', 'uV', 0.00305176, 0., '0')],\n",
       "      dtype=[('name', '<U64'), ('id', '<U64'), ('sampling_rate', '<f8'), ('dtype', '<U16'), ('units', '<U64'), ('gain', '<f8'), ('offset', '<f8'), ('stream_id', '<U64')])"
      ]
     },
     "execution_count": 8,
     "metadata": {},
     "output_type": "execute_result"
    }
   ],
   "source": [
    "recording.neo_reader.header['signal_channels']"
   ]
  },
  {
   "cell_type": "code",
   "execution_count": 9,
   "id": "9768e55d",
   "metadata": {},
   "outputs": [
    {
     "data": {
      "text/plain": [
       "array([0.00457764, 0.00457764, 0.00457764, 0.00457764, 0.00228882,\n",
       "       0.00228882, 0.00228882, 0.00228882, 0.00305176, 0.00305176,\n",
       "       0.00305176, 0.00305176, 0.00305176, 0.00305176, 0.00305176,\n",
       "       0.00305176])"
      ]
     },
     "execution_count": 9,
     "metadata": {},
     "output_type": "execute_result"
    }
   ],
   "source": [
    "re.get_channel_gains()"
   ]
  },
  {
   "cell_type": "code",
   "execution_count": 10,
   "id": "647e04ca",
   "metadata": {},
   "outputs": [
    {
     "data": {
      "text/plain": [
       "array([[ 16.854858 , -17.715454 ,   0.       , ..., -62.713623 ,\n",
       "        -65.963745 , -54.364014 ],\n",
       "       [  7.8460693,  -0.8605957,   0.       , ..., -41.226196 ,\n",
       "        -45.684814 , -43.496704 ],\n",
       "       [ 47.973633 ,  24.298096 ,   0.       , ..., -38.726807 ,\n",
       "        -33.26111  , -22.457886 ],\n",
       "       ...,\n",
       "       [-16.784668 ,  -0.6286621,   0.       , ..., -55.65796  ,\n",
       "        -54.785156 , -47.027588 ],\n",
       "       [  2.4353027, -28.192139 ,   0.       , ..., -52.15454  ,\n",
       "        -40.722656 , -26.14746  ],\n",
       "       [  7.25708  , -18.920898 ,   0.       , ..., -54.663086 ,\n",
       "        -48.669434 , -34.65576  ]], dtype=float32)"
      ]
     },
     "execution_count": 10,
     "metadata": {},
     "output_type": "execute_result"
    }
   ],
   "source": [
    "re.get_traces()"
   ]
  },
  {
   "cell_type": "code",
   "execution_count": 11,
   "id": "8206d369",
   "metadata": {},
   "outputs": [],
   "source": [
    "def test_axonarecordingextractor(filename):\n",
    "    '''\n",
    "    '''\n",
    "    re = AxonaRecordingExtractor(filename=filename)\n",
    "    \n",
    "    # TEST AXONARECORDINGEXTRACTOR\n",
    "    # Retrieve some simple recording information and print it\n",
    "    recording = re\n",
    "    print('Channel ids = {}'.format(recording.get_channel_ids()))\n",
    "    print('Num. channels = {}'.format(len(recording.get_channel_ids())))\n",
    "    print('Sampling frequency = {} Hz'.format(recording.get_sampling_frequency()))\n",
    "    print('Num. timepoints = {}'.format(recording.get_num_frames()))\n",
    "    print('Stdev. on third channel = {}'.format(np.std(recording.get_traces(channel_ids=2))))\n",
    "    print('Location of third electrode = {}'.format(recording.get_channel_property(channel_id=2, property_name='location')))\n",
    "    print('Channel groups = {}'.format(recording.get_channel_groups()))\n",
    "    \n",
    "    # TEST NEO_READER (axonaio)\n",
    "    print(recording.neo_reader.header['signal_channels'])"
   ]
  },
  {
   "cell_type": "code",
   "execution_count": 12,
   "id": "0937c173",
   "metadata": {},
   "outputs": [
    {
     "name": "stdout",
     "output_type": "stream",
     "text": [
      "==================== axona_sample ====================\n",
      "Channel ids = [0, 1, 2, 3, 4, 5, 6, 7, 8, 9, 10, 11, 12, 13, 14, 15]\n",
      "Num. channels = 16\n",
      "Sampling frequency = 48000.0 Hz\n",
      "Num. timepoints = 57600\n",
      "Stdev. on third channel = 27.731016159057617\n",
      "Location of third electrode = [nan nan]\n",
      "Channel groups = [0 0 0 0 1 1 1 1 2 2 2 2 3 3 3 3]\n",
      "[('1a', '0', 48000., 'int16', 'uV', 0.00457764, 0., '0')\n",
      " ('1b', '1', 48000., 'int16', 'uV', 0.00457764, 0., '0')\n",
      " ('1c', '2', 48000., 'int16', 'uV', 0.00457764, 0., '0')\n",
      " ('1d', '3', 48000., 'int16', 'uV', 0.00457764, 0., '0')\n",
      " ('2a', '4', 48000., 'int16', 'uV', 0.00228882, 0., '0')\n",
      " ('2b', '5', 48000., 'int16', 'uV', 0.00228882, 0., '0')\n",
      " ('2c', '6', 48000., 'int16', 'uV', 0.00228882, 0., '0')\n",
      " ('2d', '7', 48000., 'int16', 'uV', 0.00228882, 0., '0')\n",
      " ('3a', '8', 48000., 'int16', 'uV', 0.00305176, 0., '0')\n",
      " ('3b', '9', 48000., 'int16', 'uV', 0.00305176, 0., '0')\n",
      " ('3c', '10', 48000., 'int16', 'uV', 0.00305176, 0., '0')\n",
      " ('3d', '11', 48000., 'int16', 'uV', 0.00305176, 0., '0')\n",
      " ('4a', '12', 48000., 'int16', 'uV', 0.00305176, 0., '0')\n",
      " ('4b', '13', 48000., 'int16', 'uV', 0.00305176, 0., '0')\n",
      " ('4c', '14', 48000., 'int16', 'uV', 0.00305176, 0., '0')\n",
      " ('4d', '15', 48000., 'int16', 'uV', 0.00305176, 0., '0')]\n",
      "==================== 20201004_Tint ====================\n",
      "Channel ids = [0, 1, 2, 3, 4, 5, 6, 7, 8, 9, 10, 11, 12, 13, 14, 15]\n",
      "Num. channels = 16\n",
      "Sampling frequency = 48000.0 Hz\n",
      "Num. timepoints = 28848000\n"
     ]
    },
    {
     "ename": "AttributeError",
     "evalue": "'NoneType' object has no attribute 'transpose'",
     "output_type": "error",
     "traceback": [
      "\u001b[0;31m---------------------------------------------------------------------------\u001b[0m",
      "\u001b[0;31mAttributeError\u001b[0m                            Traceback (most recent call last)",
      "\u001b[0;32m<ipython-input-12-86ddea50255a>\u001b[0m in \u001b[0;36m<module>\u001b[0;34m\u001b[0m\n\u001b[1;32m     11\u001b[0m \u001b[0mbase_filename\u001b[0m \u001b[0;34m=\u001b[0m \u001b[0;34m'20201004_Tint'\u001b[0m\u001b[0;34m\u001b[0m\u001b[0;34m\u001b[0m\u001b[0m\n\u001b[1;32m     12\u001b[0m \u001b[0mprint\u001b[0m\u001b[0;34m(\u001b[0m\u001b[0;34m'===================='\u001b[0m\u001b[0;34m,\u001b[0m \u001b[0mbase_filename\u001b[0m \u001b[0;34m,\u001b[0m\u001b[0;34m'===================='\u001b[0m\u001b[0;34m)\u001b[0m\u001b[0;34m\u001b[0m\u001b[0;34m\u001b[0m\u001b[0m\n\u001b[0;32m---> 13\u001b[0;31m \u001b[0mtest_axonarecordingextractor\u001b[0m\u001b[0;34m(\u001b[0m\u001b[0mos\u001b[0m\u001b[0;34m.\u001b[0m\u001b[0mpath\u001b[0m\u001b[0;34m.\u001b[0m\u001b[0mjoin\u001b[0m\u001b[0;34m(\u001b[0m\u001b[0mdir_name\u001b[0m\u001b[0;34m,\u001b[0m \u001b[0mbase_filename\u001b[0m \u001b[0;34m+\u001b[0m \u001b[0;34m'.set'\u001b[0m\u001b[0;34m)\u001b[0m\u001b[0;34m)\u001b[0m\u001b[0;34m\u001b[0m\u001b[0;34m\u001b[0m\u001b[0m\n\u001b[0m\u001b[1;32m     14\u001b[0m \u001b[0;34m\u001b[0m\u001b[0m\n\u001b[1;32m     15\u001b[0m \u001b[0;31m# Data with only .X, example 2\u001b[0m\u001b[0;34m\u001b[0m\u001b[0;34m\u001b[0m\u001b[0;34m\u001b[0m\u001b[0m\n",
      "\u001b[0;32m<ipython-input-11-0db9891e7e25>\u001b[0m in \u001b[0;36mtest_axonarecordingextractor\u001b[0;34m(filename)\u001b[0m\n\u001b[1;32m     11\u001b[0m     \u001b[0mprint\u001b[0m\u001b[0;34m(\u001b[0m\u001b[0;34m'Sampling frequency = {} Hz'\u001b[0m\u001b[0;34m.\u001b[0m\u001b[0mformat\u001b[0m\u001b[0;34m(\u001b[0m\u001b[0mrecording\u001b[0m\u001b[0;34m.\u001b[0m\u001b[0mget_sampling_frequency\u001b[0m\u001b[0;34m(\u001b[0m\u001b[0;34m)\u001b[0m\u001b[0;34m)\u001b[0m\u001b[0;34m)\u001b[0m\u001b[0;34m\u001b[0m\u001b[0;34m\u001b[0m\u001b[0m\n\u001b[1;32m     12\u001b[0m     \u001b[0mprint\u001b[0m\u001b[0;34m(\u001b[0m\u001b[0;34m'Num. timepoints = {}'\u001b[0m\u001b[0;34m.\u001b[0m\u001b[0mformat\u001b[0m\u001b[0;34m(\u001b[0m\u001b[0mrecording\u001b[0m\u001b[0;34m.\u001b[0m\u001b[0mget_num_frames\u001b[0m\u001b[0;34m(\u001b[0m\u001b[0;34m)\u001b[0m\u001b[0;34m)\u001b[0m\u001b[0;34m)\u001b[0m\u001b[0;34m\u001b[0m\u001b[0;34m\u001b[0m\u001b[0m\n\u001b[0;32m---> 13\u001b[0;31m     \u001b[0mprint\u001b[0m\u001b[0;34m(\u001b[0m\u001b[0;34m'Stdev. on third channel = {}'\u001b[0m\u001b[0;34m.\u001b[0m\u001b[0mformat\u001b[0m\u001b[0;34m(\u001b[0m\u001b[0mnp\u001b[0m\u001b[0;34m.\u001b[0m\u001b[0mstd\u001b[0m\u001b[0;34m(\u001b[0m\u001b[0mrecording\u001b[0m\u001b[0;34m.\u001b[0m\u001b[0mget_traces\u001b[0m\u001b[0;34m(\u001b[0m\u001b[0mchannel_ids\u001b[0m\u001b[0;34m=\u001b[0m\u001b[0;36m2\u001b[0m\u001b[0;34m)\u001b[0m\u001b[0;34m)\u001b[0m\u001b[0;34m)\u001b[0m\u001b[0;34m)\u001b[0m\u001b[0;34m\u001b[0m\u001b[0;34m\u001b[0m\u001b[0m\n\u001b[0m\u001b[1;32m     14\u001b[0m     \u001b[0mprint\u001b[0m\u001b[0;34m(\u001b[0m\u001b[0;34m'Location of third electrode = {}'\u001b[0m\u001b[0;34m.\u001b[0m\u001b[0mformat\u001b[0m\u001b[0;34m(\u001b[0m\u001b[0mrecording\u001b[0m\u001b[0;34m.\u001b[0m\u001b[0mget_channel_property\u001b[0m\u001b[0;34m(\u001b[0m\u001b[0mchannel_id\u001b[0m\u001b[0;34m=\u001b[0m\u001b[0;36m2\u001b[0m\u001b[0;34m,\u001b[0m \u001b[0mproperty_name\u001b[0m\u001b[0;34m=\u001b[0m\u001b[0;34m'location'\u001b[0m\u001b[0;34m)\u001b[0m\u001b[0;34m)\u001b[0m\u001b[0;34m)\u001b[0m\u001b[0;34m\u001b[0m\u001b[0;34m\u001b[0m\u001b[0m\n\u001b[1;32m     15\u001b[0m     \u001b[0mprint\u001b[0m\u001b[0;34m(\u001b[0m\u001b[0;34m'Channel groups = {}'\u001b[0m\u001b[0;34m.\u001b[0m\u001b[0mformat\u001b[0m\u001b[0;34m(\u001b[0m\u001b[0mrecording\u001b[0m\u001b[0;34m.\u001b[0m\u001b[0mget_channel_groups\u001b[0m\u001b[0;34m(\u001b[0m\u001b[0;34m)\u001b[0m\u001b[0;34m)\u001b[0m\u001b[0;34m)\u001b[0m\u001b[0;34m\u001b[0m\u001b[0;34m\u001b[0m\u001b[0m\n",
      "\u001b[0;32m~/spikeinterface/spikeextractors/spikeextractors/extraction_tools.py\u001b[0m in \u001b[0;36mcorrected_args\u001b[0;34m(recording, channel_ids, start_frame, end_frame, return_scaled, **kwargs)\u001b[0m\n\u001b[1;32m    803\u001b[0m             \u001b[0mreturn_scaled\u001b[0m \u001b[0;34m=\u001b[0m \u001b[0;32mTrue\u001b[0m\u001b[0;34m\u001b[0m\u001b[0;34m\u001b[0m\u001b[0m\n\u001b[1;32m    804\u001b[0m \u001b[0;34m\u001b[0m\u001b[0m\n\u001b[0;32m--> 805\u001b[0;31m         traces = func(recording, channel_ids=channel_ids, start_frame=start_frame, end_frame=end_frame,\n\u001b[0m\u001b[1;32m    806\u001b[0m                       return_scaled=return_scaled, **kwargs)\n\u001b[1;32m    807\u001b[0m \u001b[0;34m\u001b[0m\u001b[0m\n",
      "\u001b[0;32m~/spikeinterface/spikeextractors/spikeextractors/extractors/neoextractors/neobaseextractor.py\u001b[0m in \u001b[0;36mget_traces\u001b[0;34m(self, channel_ids, start_frame, end_frame, return_scaled)\u001b[0m\n\u001b[1;32m    132\u001b[0m         \u001b[0;31m# neo works with (samples, channels) strides\u001b[0m\u001b[0;34m\u001b[0m\u001b[0;34m\u001b[0m\u001b[0;34m\u001b[0m\u001b[0m\n\u001b[1;32m    133\u001b[0m         \u001b[0;31m# so transpose to spikeextractors wolrd\u001b[0m\u001b[0;34m\u001b[0m\u001b[0;34m\u001b[0m\u001b[0;34m\u001b[0m\u001b[0m\n\u001b[0;32m--> 134\u001b[0;31m         \u001b[0;32mreturn\u001b[0m \u001b[0mraw_traces\u001b[0m\u001b[0;34m.\u001b[0m\u001b[0mtranspose\u001b[0m\u001b[0;34m(\u001b[0m\u001b[0;34m)\u001b[0m\u001b[0;34m\u001b[0m\u001b[0;34m\u001b[0m\u001b[0m\n\u001b[0m\u001b[1;32m    135\u001b[0m \u001b[0;34m\u001b[0m\u001b[0m\n\u001b[1;32m    136\u001b[0m     \u001b[0;32mdef\u001b[0m \u001b[0mget_num_frames\u001b[0m\u001b[0;34m(\u001b[0m\u001b[0mself\u001b[0m\u001b[0;34m)\u001b[0m\u001b[0;34m:\u001b[0m\u001b[0;34m\u001b[0m\u001b[0;34m\u001b[0m\u001b[0m\n",
      "\u001b[0;31mAttributeError\u001b[0m: 'NoneType' object has no attribute 'transpose'"
     ]
    }
   ],
   "source": [
    "import os\n",
    "\n",
    "# Data with both .bin and .X\n",
    "dir_name = r'/mnt/d/freelance-work/catalyst-neuro/hussaini-lab-to-nwb/sample_bin_to_tint'\n",
    "base_filename = 'axona_sample'\n",
    "print('====================', base_filename ,'====================')\n",
    "test_axonarecordingextractor(os.path.join(dir_name, base_filename + '.set'))\n",
    "\n",
    "# Data with only .X, example 1\n",
    "dir_name = r'/mnt/d/freelance-work/catalyst-neuro/hussaini-lab-to-nwb/Axona_Tint_1ms'\n",
    "base_filename = '20201004_Tint'\n",
    "print('====================', base_filename ,'====================')\n",
    "test_axonarecordingextractor(os.path.join(dir_name, base_filename + '.set'))\n",
    "\n",
    "# Data with only .X, example 2\n",
    "dir_name = r'/mnt/d/freelance-work/catalyst-neuro/hussaini-lab-to-nwb/example_data_units/Axona_Unit_Mode_SmallFile'\n",
    "base_filename = '20140815-180secs'\n",
    "print('====================', base_filename ,'====================')\n",
    "test_axonarecordingextractor(os.path.join(dir_name, base_filename + '.set'))\n",
    "\n",
    "# Data with only .X, example 3\n",
    "dir_name = r'/mnt/d/freelance-work/catalyst-neuro/hussaini-lab-to-nwb/sample_bin_to_tint_no_bin'\n",
    "base_filename = 'axona_sample'\n",
    "print('====================', base_filename ,'====================')\n",
    "test_axonarecordingextractor(os.path.join(dir_name, base_filename + '.set'))\n"
   ]
  },
  {
   "cell_type": "code",
   "execution_count": null,
   "id": "731fad20",
   "metadata": {},
   "outputs": [],
   "source": []
  },
  {
   "cell_type": "code",
   "execution_count": null,
   "id": "dcc85784",
   "metadata": {},
   "outputs": [],
   "source": []
  },
  {
   "cell_type": "code",
   "execution_count": null,
   "id": "2e1f450f",
   "metadata": {},
   "outputs": [],
   "source": []
  },
  {
   "cell_type": "markdown",
   "id": "97be1e2d",
   "metadata": {},
   "source": [
    "## AxonaUnitRecordingExtractor --- .X and .set data"
   ]
  },
  {
   "cell_type": "code",
   "execution_count": 6,
   "id": "fa8453fd",
   "metadata": {},
   "outputs": [],
   "source": [
    "from neo.rawio import AxonaRawIO"
   ]
  },
  {
   "cell_type": "code",
   "execution_count": 7,
   "id": "617038b7",
   "metadata": {},
   "outputs": [],
   "source": [
    "from spikeextractors.extractors.axonaunitrecordingextractor import AxonaUnitRecordingExtractor"
   ]
  },
  {
   "cell_type": "code",
   "execution_count": 8,
   "id": "9b06a5f1",
   "metadata": {
    "scrolled": false
   },
   "outputs": [
    {
     "name": "stdout",
     "output_type": "stream",
     "text": [
      "==================== axona_sample ====================\n",
      "Channel ids = [0, 1, 2, 3, 4, 5, 6, 7, 8, 9, 10, 11, 12, 13, 14, 15]\n",
      "Num. channels = 16\n",
      "Sampling frequency = 48000 Hz\n",
      "Num. timepoints = 57600\n",
      "Stdev. on third channel = 12.506070137023926\n",
      "Location of third electrode = [nan nan]\n",
      "Channel groups = [0 0 0 0 1 1 1 1 2 2 2 2 3 3 3 3]\n",
      "[('1a', '0', 48000., 'int16', 'uV', 0.00457764, 0., '0')\n",
      " ('1b', '1', 48000., 'int16', 'uV', 0.00457764, 0., '0')\n",
      " ('1c', '2', 48000., 'int16', 'uV', 0.00457764, 0., '0')\n",
      " ('1d', '3', 48000., 'int16', 'uV', 0.00457764, 0., '0')\n",
      " ('2a', '4', 48000., 'int16', 'uV', 0.00228882, 0., '0')\n",
      " ('2b', '5', 48000., 'int16', 'uV', 0.00228882, 0., '0')\n",
      " ('2c', '6', 48000., 'int16', 'uV', 0.00228882, 0., '0')\n",
      " ('2d', '7', 48000., 'int16', 'uV', 0.00228882, 0., '0')\n",
      " ('3a', '8', 48000., 'int16', 'uV', 0.00305176, 0., '0')\n",
      " ('3b', '9', 48000., 'int16', 'uV', 0.00305176, 0., '0')\n",
      " ('3c', '10', 48000., 'int16', 'uV', 0.00305176, 0., '0')\n",
      " ('3d', '11', 48000., 'int16', 'uV', 0.00305176, 0., '0')\n",
      " ('4a', '12', 48000., 'int16', 'uV', 0.00305176, 0., '0')\n",
      " ('4b', '13', 48000., 'int16', 'uV', 0.00305176, 0., '0')\n",
      " ('4c', '14', 48000., 'int16', 'uV', 0.00305176, 0., '0')\n",
      " ('4d', '15', 48000., 'int16', 'uV', 0.00305176, 0., '0')]\n",
      "==================== 20201004_Tint ====================\n",
      "Channel ids = [0, 1, 2, 3, 4, 5, 6, 7, 8, 9, 10, 11, 12, 13, 14, 15]\n",
      "Num. channels = 16\n",
      "Sampling frequency = 48000 Hz\n",
      "Num. timepoints = 28848000\n",
      "Stdev. on third channel = 12.94384479522705\n",
      "Location of third electrode = [nan nan]\n",
      "Channel groups = [0 0 0 0 1 1 1 1 2 2 2 2 3 3 3 3]\n",
      "[('1a', '0', 48000., 'int16', 'uV', 0.00457764, 0., '0')\n",
      " ('1b', '1', 48000., 'int16', 'uV', 0.00457764, 0., '0')\n",
      " ('1c', '2', 48000., 'int16', 'uV', 0.00457764, 0., '0')\n",
      " ('1d', '3', 48000., 'int16', 'uV', 0.00457764, 0., '0')\n",
      " ('2a', '4', 48000., 'int16', 'uV', 0.00228882, 0., '0')\n",
      " ('2b', '5', 48000., 'int16', 'uV', 0.00228882, 0., '0')\n",
      " ('2c', '6', 48000., 'int16', 'uV', 0.00228882, 0., '0')\n",
      " ('2d', '7', 48000., 'int16', 'uV', 0.00228882, 0., '0')\n",
      " ('3a', '8', 48000., 'int16', 'uV', 0.00305176, 0., '0')\n",
      " ('3b', '9', 48000., 'int16', 'uV', 0.00305176, 0., '0')\n",
      " ('3c', '10', 48000., 'int16', 'uV', 0.00305176, 0., '0')\n",
      " ('3d', '11', 48000., 'int16', 'uV', 0.00305176, 0., '0')\n",
      " ('4a', '12', 48000., 'int16', 'uV', 0.00305176, 0., '0')\n",
      " ('4b', '13', 48000., 'int16', 'uV', 0.00305176, 0., '0')\n",
      " ('4c', '14', 48000., 'int16', 'uV', 0.00305176, 0., '0')\n",
      " ('4d', '15', 48000., 'int16', 'uV', 0.00305176, 0., '0')]\n",
      "==================== 20201004_Tint ====================\n",
      "Channel ids = [0, 1, 2, 3, 4, 5, 6, 7, 8, 9, 10, 11, 12, 13, 14, 15]\n",
      "Num. channels = 16\n",
      "Sampling frequency = 48000 Hz\n",
      "Num. timepoints = 28848000\n",
      "Stdev. on third channel = 10.728663444519043\n",
      "Location of third electrode = [nan nan]\n",
      "Channel groups = [0 0 0 0 1 1 1 1 2 2 2 2 3 3 3 3]\n",
      "[('1a', '0', 48000., 'int16', 'uV', 0.00457764, 0., '0')\n",
      " ('1b', '1', 48000., 'int16', 'uV', 0.00457764, 0., '0')\n",
      " ('1c', '2', 48000., 'int16', 'uV', 0.00457764, 0., '0')\n",
      " ('1d', '3', 48000., 'int16', 'uV', 0.00457764, 0., '0')\n",
      " ('2a', '4', 48000., 'int16', 'uV', 0.00228882, 0., '0')\n",
      " ('2b', '5', 48000., 'int16', 'uV', 0.00228882, 0., '0')\n",
      " ('2c', '6', 48000., 'int16', 'uV', 0.00228882, 0., '0')\n",
      " ('2d', '7', 48000., 'int16', 'uV', 0.00228882, 0., '0')\n",
      " ('3a', '8', 48000., 'int16', 'uV', 0.00305176, 0., '0')\n",
      " ('3b', '9', 48000., 'int16', 'uV', 0.00305176, 0., '0')\n",
      " ('3c', '10', 48000., 'int16', 'uV', 0.00305176, 0., '0')\n",
      " ('3d', '11', 48000., 'int16', 'uV', 0.00305176, 0., '0')\n",
      " ('4a', '12', 48000., 'int16', 'uV', 0.00305176, 0., '0')\n",
      " ('4b', '13', 48000., 'int16', 'uV', 0.00305176, 0., '0')\n",
      " ('4c', '14', 48000., 'int16', 'uV', 0.00305176, 0., '0')\n",
      " ('4d', '15', 48000., 'int16', 'uV', 0.00305176, 0., '0')]\n",
      "==================== 20140815-180secs ====================\n",
      "Channel ids = [0, 1, 2, 3, 4, 5, 6, 7, 8, 9, 10, 11, 12, 13, 14, 15]\n",
      "Num. channels = 16\n",
      "Sampling frequency = 48000 Hz\n",
      "Num. timepoints = 8640000\n",
      "Stdev. on third channel = 17.322782516479492\n",
      "Location of third electrode = [nan nan]\n",
      "Channel groups = [0 0 0 0 1 1 1 1 2 2 2 2 3 3 3 3]\n",
      "[('1a', '0', 48000., 'int16', 'uV', 0.00457764, 0., '0')\n",
      " ('1b', '1', 48000., 'int16', 'uV', 0.00457764, 0., '0')\n",
      " ('1c', '2', 48000., 'int16', 'uV', 0.00457764, 0., '0')\n",
      " ('1d', '3', 48000., 'int16', 'uV', 0.00457764, 0., '0')\n",
      " ('2a', '4', 48000., 'int16', 'uV', 0.00352126, 0., '0')\n",
      " ('2b', '5', 48000., 'int16', 'uV', 0.00286102, 0., '0')\n",
      " ('2c', '6', 48000., 'int16', 'uV', 0.00286102, 0., '0')\n",
      " ('2d', '7', 48000., 'int16', 'uV', 0.00352126, 0., '0')\n",
      " ('3a', '8', 48000., 'int16', 'uV', 0.00254313, 0., '0')\n",
      " ('3b', '9', 48000., 'int16', 'uV', 0.00217983, 0., '0')\n",
      " ('3c', '10', 48000., 'int16', 'uV', 0.00217983, 0., '0')\n",
      " ('3d', '11', 48000., 'int16', 'uV', 0.00240928, 0., '0')\n",
      " ('4a', '12', 48000., 'int16', 'uV', 0.0038147 , 0., '0')\n",
      " ('4b', '13', 48000., 'int16', 'uV', 0.00326974, 0., '0')\n",
      " ('4c', '14', 48000., 'int16', 'uV', 0.0038147 , 0., '0')\n",
      " ('4d', '15', 48000., 'int16', 'uV', 0.00326974, 0., '0')]\n",
      "==================== axona_sample ====================\n",
      "Channel ids = [0, 1, 2, 3, 4, 5, 6, 7, 8, 9, 10, 11, 12, 13, 14, 15]\n",
      "Num. channels = 16\n",
      "Sampling frequency = 48000 Hz\n",
      "Num. timepoints = 57600\n",
      "Stdev. on third channel = 11.892948150634766\n",
      "Location of third electrode = [nan nan]\n",
      "Channel groups = [0 0 0 0 1 1 1 1 2 2 2 2 3 3 3 3]\n",
      "[('1a', '0', 48000., 'int16', 'uV', 0.00457764, 0., '0')\n",
      " ('1b', '1', 48000., 'int16', 'uV', 0.00457764, 0., '0')\n",
      " ('1c', '2', 48000., 'int16', 'uV', 0.00457764, 0., '0')\n",
      " ('1d', '3', 48000., 'int16', 'uV', 0.00457764, 0., '0')\n",
      " ('2a', '4', 48000., 'int16', 'uV', 0.00228882, 0., '0')\n",
      " ('2b', '5', 48000., 'int16', 'uV', 0.00228882, 0., '0')\n",
      " ('2c', '6', 48000., 'int16', 'uV', 0.00228882, 0., '0')\n",
      " ('2d', '7', 48000., 'int16', 'uV', 0.00228882, 0., '0')\n",
      " ('3a', '8', 48000., 'int16', 'uV', 0.00305176, 0., '0')\n",
      " ('3b', '9', 48000., 'int16', 'uV', 0.00305176, 0., '0')\n",
      " ('3c', '10', 48000., 'int16', 'uV', 0.00305176, 0., '0')\n",
      " ('3d', '11', 48000., 'int16', 'uV', 0.00305176, 0., '0')\n",
      " ('4a', '12', 48000., 'int16', 'uV', 0.00305176, 0., '0')\n",
      " ('4b', '13', 48000., 'int16', 'uV', 0.00305176, 0., '0')\n",
      " ('4c', '14', 48000., 'int16', 'uV', 0.00305176, 0., '0')\n",
      " ('4d', '15', 48000., 'int16', 'uV', 0.00305176, 0., '0')]\n"
     ]
    }
   ],
   "source": [
    "from spikeextractors.extractors.axonaunitrecordingextractor import AxonaUnitRecordingExtractor\n",
    "import os\n",
    "\n",
    "\n",
    "def test_axonaunitrecordingextractor(filename):\n",
    "    '''\n",
    "    '''\n",
    "    re = AxonaUnitRecordingExtractor(filename=filename)\n",
    "    \n",
    "    # TEST AXONARECORDINGEXTRACTOR\n",
    "    # Retrieve some simple recording information and print it\n",
    "    recording = re\n",
    "    print('Channel ids = {}'.format(recording.get_channel_ids()))\n",
    "    print('Num. channels = {}'.format(len(recording.get_channel_ids())))\n",
    "    print('Sampling frequency = {} Hz'.format(recording.get_sampling_frequency()))\n",
    "    print('Num. timepoints = {}'.format(recording.get_num_frames()))\n",
    "    print('Stdev. on third channel = {}'.format(np.std(recording.get_traces(channel_ids=2))))\n",
    "    print('Location of third electrode = {}'.format(recording.get_channel_property(channel_id=2, property_name='location')))\n",
    "    print('Channel groups = {}'.format(recording.get_channel_groups()))\n",
    "    \n",
    "    # TEST NEO_READER (axonaio)\n",
    "    print(recording.neo_reader.header['signal_channels'])\n",
    "    \n",
    "\n",
    "# Data with both .bin and .X\n",
    "dir_name = r'/mnt/d/freelance-work/catalyst-neuro/hussaini-lab-to-nwb/sample_bin_to_tint'\n",
    "base_filename = 'axona_sample'\n",
    "print('====================', base_filename ,'====================')\n",
    "test_axonaunitrecordingextractor(os.path.join(dir_name, base_filename + '.set'))\n",
    "\n",
    "# Data with only .X, example 1\n",
    "dir_name = r'/mnt/d/freelance-work/catalyst-neuro/hussaini-lab-to-nwb/Axona_Tint_1ms'\n",
    "base_filename = '20201004_Tint'\n",
    "print('====================', base_filename ,'====================')\n",
    "test_axonaunitrecordingextractor(os.path.join(dir_name, base_filename + '.set'))\n",
    "\n",
    "# Data with only .X, example 2\n",
    "dir_name = r'/mnt/d/freelance-work/catalyst-neuro/hussaini-lab-to-nwb/Axona_Tint_2ms'\n",
    "base_filename = '20201004_Tint'\n",
    "print('====================', base_filename ,'====================')\n",
    "test_axonaunitrecordingextractor(os.path.join(dir_name, base_filename + '.set'))\n",
    "\n",
    "# Data with only .X, example 3\n",
    "dir_name = r'/mnt/d/freelance-work/catalyst-neuro/hussaini-lab-to-nwb/example_data_units/Axona_Unit_Mode_SmallFile'\n",
    "base_filename = '20140815-180secs'\n",
    "print('====================', base_filename ,'====================')\n",
    "test_axonaunitrecordingextractor(os.path.join(dir_name, base_filename + '.set'))\n",
    "\n",
    "# Data with only .X, example 4\n",
    "dir_name = r'/mnt/d/freelance-work/catalyst-neuro/hussaini-lab-to-nwb/sample_bin_to_tint_no_bin'\n",
    "base_filename = 'axona_sample'\n",
    "print('====================', base_filename ,'====================')\n",
    "test_axonaunitrecordingextractor(os.path.join(dir_name, base_filename + '.set'))\n"
   ]
  },
  {
   "cell_type": "code",
   "execution_count": 16,
   "id": "73a65571",
   "metadata": {},
   "outputs": [
    {
     "data": {
      "text/plain": [
       "(57600, 16)"
      ]
     },
     "execution_count": 16,
     "metadata": {},
     "output_type": "execute_result"
    }
   ],
   "source": [
    "recording = AxonaUnitRecordingExtractor(filename=filename)\n",
    "\n",
    "recording.get_traces(return_scaled=False).transpose().shape"
   ]
  },
  {
   "cell_type": "code",
   "execution_count": 9,
   "id": "2ca5a322",
   "metadata": {},
   "outputs": [],
   "source": [
    "def test_axonaunitrecordingextractor(filename):\n",
    "    '''\n",
    "    '''\n",
    "    re = AxonaUnitRecordingExtractor(filename=filename)\n",
    "    \n",
    "    # TEST AXONARECORDINGEXTRACTOR\n",
    "    # Retrieve some simple recording information and print it\n",
    "    recording = re\n",
    "    print('Channel ids = {}'.format(recording.get_channel_ids()))\n",
    "    print('Num. channels = {}'.format(len(recording.get_channel_ids())))\n",
    "    print('Sampling frequency = {} Hz'.format(recording.get_sampling_frequency()))\n",
    "    print('Num. timepoints = {}'.format(recording.get_num_frames()))\n",
    "    print('Stdev. on third channel = {}'.format(np.std(recording.get_traces(channel_ids=2))))\n",
    "    print('Location of third electrode = {}'.format(recording.get_channel_property(channel_id=2, property_name='location')))\n",
    "    print('Channel groups = {}'.format(recording.get_channel_groups()))\n",
    "    \n",
    "    # TEST NEO_READER (axonaio)\n",
    "    print(recording.neo_reader.header['signal_channels'])\n",
    "    \n"
   ]
  },
  {
   "cell_type": "code",
   "execution_count": 17,
   "id": "dd0d82e9",
   "metadata": {},
   "outputs": [
    {
     "name": "stdout",
     "output_type": "stream",
     "text": [
      "==================== axona_sample ====================\n",
      "Channel ids = [0, 1, 2, 3, 4, 5, 6, 7, 8, 9, 10, 11, 12, 13, 14, 15]\n",
      "Num. channels = 16\n",
      "Sampling frequency = 48000 Hz\n",
      "Num. timepoints = 57600\n",
      "Stdev. on third channel = 12.504105567932129\n",
      "Location of third electrode = [nan nan]\n",
      "Channel groups = [0 0 0 0 1 1 1 1 2 2 2 2 3 3 3 3]\n",
      "[('1a', '0', 48000., 'int16', 'uV', 0.00457764, 0., '0')\n",
      " ('1b', '1', 48000., 'int16', 'uV', 0.00457764, 0., '0')\n",
      " ('1c', '2', 48000., 'int16', 'uV', 0.00457764, 0., '0')\n",
      " ('1d', '3', 48000., 'int16', 'uV', 0.00457764, 0., '0')\n",
      " ('2a', '4', 48000., 'int16', 'uV', 0.00228882, 0., '0')\n",
      " ('2b', '5', 48000., 'int16', 'uV', 0.00228882, 0., '0')\n",
      " ('2c', '6', 48000., 'int16', 'uV', 0.00228882, 0., '0')\n",
      " ('2d', '7', 48000., 'int16', 'uV', 0.00228882, 0., '0')\n",
      " ('3a', '8', 48000., 'int16', 'uV', 0.00305176, 0., '0')\n",
      " ('3b', '9', 48000., 'int16', 'uV', 0.00305176, 0., '0')\n",
      " ('3c', '10', 48000., 'int16', 'uV', 0.00305176, 0., '0')\n",
      " ('3d', '11', 48000., 'int16', 'uV', 0.00305176, 0., '0')\n",
      " ('4a', '12', 48000., 'int16', 'uV', 0.00305176, 0., '0')\n",
      " ('4b', '13', 48000., 'int16', 'uV', 0.00305176, 0., '0')\n",
      " ('4c', '14', 48000., 'int16', 'uV', 0.00305176, 0., '0')\n",
      " ('4d', '15', 48000., 'int16', 'uV', 0.00305176, 0., '0')]\n",
      "==================== 20201004_Tint ====================\n",
      "Channel ids = [0, 1, 2, 3, 4, 5, 6, 7, 8, 9, 10, 11, 12, 13, 14, 15]\n",
      "Num. channels = 16\n",
      "Sampling frequency = 48000 Hz\n",
      "Num. timepoints = 28848000\n",
      "Stdev. on third channel = 12.943658828735352\n",
      "Location of third electrode = [nan nan]\n",
      "Channel groups = [0 0 0 0 1 1 1 1 2 2 2 2 3 3 3 3]\n",
      "[('1a', '0', 48000., 'int16', 'uV', 0.00457764, 0., '0')\n",
      " ('1b', '1', 48000., 'int16', 'uV', 0.00457764, 0., '0')\n",
      " ('1c', '2', 48000., 'int16', 'uV', 0.00457764, 0., '0')\n",
      " ('1d', '3', 48000., 'int16', 'uV', 0.00457764, 0., '0')\n",
      " ('2a', '4', 48000., 'int16', 'uV', 0.00228882, 0., '0')\n",
      " ('2b', '5', 48000., 'int16', 'uV', 0.00228882, 0., '0')\n",
      " ('2c', '6', 48000., 'int16', 'uV', 0.00228882, 0., '0')\n",
      " ('2d', '7', 48000., 'int16', 'uV', 0.00228882, 0., '0')\n",
      " ('3a', '8', 48000., 'int16', 'uV', 0.00305176, 0., '0')\n",
      " ('3b', '9', 48000., 'int16', 'uV', 0.00305176, 0., '0')\n",
      " ('3c', '10', 48000., 'int16', 'uV', 0.00305176, 0., '0')\n",
      " ('3d', '11', 48000., 'int16', 'uV', 0.00305176, 0., '0')\n",
      " ('4a', '12', 48000., 'int16', 'uV', 0.00305176, 0., '0')\n",
      " ('4b', '13', 48000., 'int16', 'uV', 0.00305176, 0., '0')\n",
      " ('4c', '14', 48000., 'int16', 'uV', 0.00305176, 0., '0')\n",
      " ('4d', '15', 48000., 'int16', 'uV', 0.00305176, 0., '0')]\n",
      "==================== 20140815-180secs ====================\n",
      "Channel ids = [0, 1, 2, 3, 4, 5, 6, 7, 8, 9, 10, 11, 12, 13, 14, 15]\n",
      "Num. channels = 16\n",
      "Sampling frequency = 48000 Hz\n",
      "Num. timepoints = 8640000\n",
      "Stdev. on third channel = 17.32270050048828\n",
      "Location of third electrode = [nan nan]\n",
      "Channel groups = [0 0 0 0 1 1 1 1 2 2 2 2 3 3 3 3]\n",
      "[('1a', '0', 48000., 'int16', 'uV', 0.00457764, 0., '0')\n",
      " ('1b', '1', 48000., 'int16', 'uV', 0.00457764, 0., '0')\n",
      " ('1c', '2', 48000., 'int16', 'uV', 0.00457764, 0., '0')\n",
      " ('1d', '3', 48000., 'int16', 'uV', 0.00457764, 0., '0')\n",
      " ('2a', '4', 48000., 'int16', 'uV', 0.00352126, 0., '0')\n",
      " ('2b', '5', 48000., 'int16', 'uV', 0.00286102, 0., '0')\n",
      " ('2c', '6', 48000., 'int16', 'uV', 0.00286102, 0., '0')\n",
      " ('2d', '7', 48000., 'int16', 'uV', 0.00352126, 0., '0')\n",
      " ('3a', '8', 48000., 'int16', 'uV', 0.00254313, 0., '0')\n",
      " ('3b', '9', 48000., 'int16', 'uV', 0.00217983, 0., '0')\n",
      " ('3c', '10', 48000., 'int16', 'uV', 0.00217983, 0., '0')\n",
      " ('3d', '11', 48000., 'int16', 'uV', 0.00240928, 0., '0')\n",
      " ('4a', '12', 48000., 'int16', 'uV', 0.0038147 , 0., '0')\n",
      " ('4b', '13', 48000., 'int16', 'uV', 0.00326974, 0., '0')\n",
      " ('4c', '14', 48000., 'int16', 'uV', 0.0038147 , 0., '0')\n",
      " ('4d', '15', 48000., 'int16', 'uV', 0.00326974, 0., '0')]\n",
      "==================== axona_sample ====================\n",
      "Channel ids = [0, 1, 2, 3, 4, 5, 6, 7, 8, 9, 10, 11, 12, 13, 14, 15]\n",
      "Num. channels = 16\n",
      "Sampling frequency = 48000 Hz\n",
      "Num. timepoints = 57600\n",
      "Stdev. on third channel = 11.893781661987305\n",
      "Location of third electrode = [nan nan]\n",
      "Channel groups = [0 0 0 0 1 1 1 1 2 2 2 2 3 3 3 3]\n",
      "[('1a', '0', 48000., 'int16', 'uV', 0.00457764, 0., '0')\n",
      " ('1b', '1', 48000., 'int16', 'uV', 0.00457764, 0., '0')\n",
      " ('1c', '2', 48000., 'int16', 'uV', 0.00457764, 0., '0')\n",
      " ('1d', '3', 48000., 'int16', 'uV', 0.00457764, 0., '0')\n",
      " ('2a', '4', 48000., 'int16', 'uV', 0.00228882, 0., '0')\n",
      " ('2b', '5', 48000., 'int16', 'uV', 0.00228882, 0., '0')\n",
      " ('2c', '6', 48000., 'int16', 'uV', 0.00228882, 0., '0')\n",
      " ('2d', '7', 48000., 'int16', 'uV', 0.00228882, 0., '0')\n",
      " ('3a', '8', 48000., 'int16', 'uV', 0.00305176, 0., '0')\n",
      " ('3b', '9', 48000., 'int16', 'uV', 0.00305176, 0., '0')\n",
      " ('3c', '10', 48000., 'int16', 'uV', 0.00305176, 0., '0')\n",
      " ('3d', '11', 48000., 'int16', 'uV', 0.00305176, 0., '0')\n",
      " ('4a', '12', 48000., 'int16', 'uV', 0.00305176, 0., '0')\n",
      " ('4b', '13', 48000., 'int16', 'uV', 0.00305176, 0., '0')\n",
      " ('4c', '14', 48000., 'int16', 'uV', 0.00305176, 0., '0')\n",
      " ('4d', '15', 48000., 'int16', 'uV', 0.00305176, 0., '0')]\n"
     ]
    }
   ],
   "source": [
    "import os\n",
    "\n",
    "# Data with both .bin and .X\n",
    "dir_name = r'/mnt/d/freelance-work/catalyst-neuro/hussaini-lab-to-nwb/sample_bin_to_tint'\n",
    "base_filename = 'axona_sample'\n",
    "print('====================', base_filename ,'====================')\n",
    "test_axonaunitrecordingextractor(os.path.join(dir_name, base_filename + '.set'))\n",
    "\n",
    "# Data with only .X, example 1\n",
    "dir_name = r'/mnt/d/freelance-work/catalyst-neuro/hussaini-lab-to-nwb/Axona_Tint_1ms'\n",
    "base_filename = '20201004_Tint'\n",
    "print('====================', base_filename ,'====================')\n",
    "test_axonaunitrecordingextractor(os.path.join(dir_name, base_filename + '.set'))\n",
    "\n",
    "# Data with only .X, example 2\n",
    "dir_name = r'/mnt/d/freelance-work/catalyst-neuro/hussaini-lab-to-nwb/example_data_units/Axona_Unit_Mode_SmallFile'\n",
    "base_filename = '20140815-180secs'\n",
    "print('====================', base_filename ,'====================')\n",
    "test_axonaunitrecordingextractor(os.path.join(dir_name, base_filename + '.set'))\n",
    "\n",
    "# Data with only .X, example 3\n",
    "dir_name = r'/mnt/d/freelance-work/catalyst-neuro/hussaini-lab-to-nwb/sample_bin_to_tint_no_bin'\n",
    "base_filename = 'axona_sample'\n",
    "print('====================', base_filename ,'====================')\n",
    "test_axonaunitrecordingextractor(os.path.join(dir_name, base_filename + '.set'))\n"
   ]
  },
  {
   "cell_type": "code",
   "execution_count": 18,
   "id": "fee62072",
   "metadata": {},
   "outputs": [],
   "source": [
    "rawio_works = AxonaRawIO(\n",
    "    filename='/mnt/d/freelance-work/catalyst-neuro/hussaini-lab-to-nwb/sample_bin_to_tint/axona_sample.set')\n",
    "rawio_works.parse_header()"
   ]
  },
  {
   "cell_type": "code",
   "execution_count": 15,
   "id": "d12c988a",
   "metadata": {},
   "outputs": [
    {
     "data": {
      "text/plain": [
       "48000"
      ]
     },
     "execution_count": 15,
     "metadata": {},
     "output_type": "execute_result"
    }
   ],
   "source": [
    "rawio_works.file_parameters['set']['sampling_rate']"
   ]
  },
  {
   "cell_type": "code",
   "execution_count": 17,
   "id": "c3b2fa60",
   "metadata": {},
   "outputs": [
    {
     "data": {
      "text/plain": [
       "28848000"
      ]
     },
     "execution_count": 17,
     "metadata": {},
     "output_type": "execute_result"
    }
   ],
   "source": [
    "sr = rawio_works.file_parameters['set']['sampling_rate']\n",
    "int(rawio_works.file_parameters['unit']['duration']) * sr"
   ]
  },
  {
   "cell_type": "code",
   "execution_count": 18,
   "id": "e5b383b9",
   "metadata": {},
   "outputs": [
    {
     "data": {
      "text/plain": [
       "57600"
      ]
     },
     "execution_count": 18,
     "metadata": {},
     "output_type": "execute_result"
    }
   ],
   "source": [
    "rawio_works.file_parameters['bin']['num_total_samples']"
   ]
  },
  {
   "cell_type": "code",
   "execution_count": 36,
   "id": "1366b024",
   "metadata": {},
   "outputs": [
    {
     "name": "stdout",
     "output_type": "stream",
     "text": [
      "/mnt/d/freelance-work/catalyst-neuro/hussaini-lab-to-nwb/Axona_Tint_1ms/20201004_Tint.set\n"
     ]
    }
   ],
   "source": [
    "filename = os.path.join(dir_name, base_filename + '.set')\n",
    "print(filename)"
   ]
  },
  {
   "cell_type": "code",
   "execution_count": 39,
   "id": "ae8fe33f",
   "metadata": {},
   "outputs": [],
   "source": [
    "rawio = AxonaRawIO(filename=filename)"
   ]
  },
  {
   "cell_type": "code",
   "execution_count": 46,
   "id": "bf30bd40",
   "metadata": {},
   "outputs": [
    {
     "data": {
      "text/plain": [
       "AxonaRawIO: /mnt/d/freelance-work/catalyst-neuro/hussaini-lab-to-nwb/Axona_Tint_1ms/20201004_Tint"
      ]
     },
     "execution_count": 46,
     "metadata": {},
     "output_type": "execute_result"
    }
   ],
   "source": [
    "rawio"
   ]
  },
  {
   "cell_type": "code",
   "execution_count": 59,
   "id": "5f77c7b3",
   "metadata": {},
   "outputs": [],
   "source": []
  },
  {
   "cell_type": "code",
   "execution_count": 68,
   "id": "fdab0b76",
   "metadata": {},
   "outputs": [
    {
     "data": {
      "text/plain": [
       "array([('stream 0', '0')], dtype=[('name', '<U64'), ('id', '<U64')])"
      ]
     },
     "execution_count": 68,
     "metadata": {},
     "output_type": "execute_result"
    }
   ],
   "source": [
    "rawio_works.header['signal_streams']"
   ]
  },
  {
   "cell_type": "code",
   "execution_count": 67,
   "id": "0489473f",
   "metadata": {},
   "outputs": [
    {
     "data": {
      "text/plain": [
       "array([], dtype=[('name', '<U64'), ('id', '<U64')])"
      ]
     },
     "execution_count": 67,
     "metadata": {},
     "output_type": "execute_result"
    }
   ],
   "source": [
    "rawio.parse_header()\n",
    "rawio.header['signal_streams']"
   ]
  },
  {
   "cell_type": "code",
   "execution_count": 63,
   "id": "46180add",
   "metadata": {},
   "outputs": [
    {
     "data": {
      "text/plain": [
       "0"
      ]
     },
     "execution_count": 63,
     "metadata": {},
     "output_type": "execute_result"
    }
   ],
   "source": [
    "rawio.signal_streams_count()"
   ]
  },
  {
   "cell_type": "code",
   "execution_count": 66,
   "id": "c14168db",
   "metadata": {},
   "outputs": [
    {
     "ename": "AttributeError",
     "evalue": "'AxonaRawIO' object has no attribute 'get_group_channel_indexes'",
     "output_type": "error",
     "traceback": [
      "\u001b[0;31m---------------------------------------------------------------------------\u001b[0m",
      "\u001b[0;31mAttributeError\u001b[0m                            Traceback (most recent call last)",
      "\u001b[0;32m<ipython-input-66-c64cdc31c8d7>\u001b[0m in \u001b[0;36m<module>\u001b[0;34m\u001b[0m\n\u001b[0;32m----> 1\u001b[0;31m \u001b[0mrawio\u001b[0m\u001b[0;34m.\u001b[0m\u001b[0mget_group_channel_indexes\u001b[0m\u001b[0;34m(\u001b[0m\u001b[0;34m)\u001b[0m\u001b[0;34m\u001b[0m\u001b[0;34m\u001b[0m\u001b[0m\n\u001b[0m",
      "\u001b[0;31mAttributeError\u001b[0m: 'AxonaRawIO' object has no attribute 'get_group_channel_indexes'"
     ]
    }
   ],
   "source": [
    "rawio.get_group_channel_indexes()"
   ]
  },
  {
   "cell_type": "code",
   "execution_count": 37,
   "id": "e338fa03",
   "metadata": {},
   "outputs": [
    {
     "ename": "AssertionError",
     "evalue": "This file have several signal streams spikeextractors support only one streamsMaybe you can use option to select only one stream",
     "output_type": "error",
     "traceback": [
      "\u001b[0;31m---------------------------------------------------------------------------\u001b[0m",
      "\u001b[0;31mAssertionError\u001b[0m                            Traceback (most recent call last)",
      "\u001b[0;32m<ipython-input-37-8b42ac45e4ef>\u001b[0m in \u001b[0;36m<module>\u001b[0;34m\u001b[0m\n\u001b[0;32m----> 1\u001b[0;31m \u001b[0mue\u001b[0m \u001b[0;34m=\u001b[0m \u001b[0mAxonaUnitRecordingExtractor\u001b[0m\u001b[0;34m(\u001b[0m\u001b[0mfilename\u001b[0m\u001b[0;34m=\u001b[0m\u001b[0mfilename\u001b[0m\u001b[0;34m)\u001b[0m\u001b[0;34m\u001b[0m\u001b[0;34m\u001b[0m\u001b[0m\n\u001b[0m",
      "\u001b[0;32m~/spikeinterface/spikeextractors/spikeextractors/extractors/axonaunitrecordingextractor/axonaunitrecordingextractor.py\u001b[0m in \u001b[0;36m__init__\u001b[0;34m(self, noise_std, block_index, seg_index, **kargs)\u001b[0m\n\u001b[1;32m     33\u001b[0m \u001b[0;34m\u001b[0m\u001b[0m\n\u001b[1;32m     34\u001b[0m     \u001b[0;32mdef\u001b[0m \u001b[0m__init__\u001b[0m\u001b[0;34m(\u001b[0m\u001b[0mself\u001b[0m\u001b[0;34m,\u001b[0m \u001b[0mnoise_std\u001b[0m\u001b[0;34m:\u001b[0m \u001b[0mfloat\u001b[0m \u001b[0;34m=\u001b[0m \u001b[0;36m3\u001b[0m\u001b[0;34m,\u001b[0m \u001b[0mblock_index\u001b[0m\u001b[0;34m=\u001b[0m\u001b[0;32mNone\u001b[0m\u001b[0;34m,\u001b[0m \u001b[0mseg_index\u001b[0m\u001b[0;34m=\u001b[0m\u001b[0;32mNone\u001b[0m\u001b[0;34m,\u001b[0m \u001b[0;34m**\u001b[0m\u001b[0mkargs\u001b[0m\u001b[0;34m)\u001b[0m\u001b[0;34m:\u001b[0m\u001b[0;34m\u001b[0m\u001b[0;34m\u001b[0m\u001b[0m\n\u001b[0;32m---> 35\u001b[0;31m         \u001b[0msuper\u001b[0m\u001b[0;34m(\u001b[0m\u001b[0;34m)\u001b[0m\u001b[0;34m.\u001b[0m\u001b[0m__init__\u001b[0m\u001b[0;34m(\u001b[0m\u001b[0mblock_index\u001b[0m\u001b[0;34m=\u001b[0m\u001b[0mblock_index\u001b[0m\u001b[0;34m,\u001b[0m \u001b[0mseg_index\u001b[0m\u001b[0;34m=\u001b[0m\u001b[0mseg_index\u001b[0m\u001b[0;34m,\u001b[0m \u001b[0;34m**\u001b[0m\u001b[0mkargs\u001b[0m\u001b[0;34m)\u001b[0m\u001b[0;34m\u001b[0m\u001b[0;34m\u001b[0m\u001b[0m\n\u001b[0m\u001b[1;32m     36\u001b[0m         \u001b[0mself\u001b[0m\u001b[0;34m.\u001b[0m\u001b[0m_noise_std\u001b[0m \u001b[0;34m=\u001b[0m \u001b[0mnoise_std\u001b[0m\u001b[0;34m\u001b[0m\u001b[0;34m\u001b[0m\u001b[0m\n\u001b[1;32m     37\u001b[0m \u001b[0;34m\u001b[0m\u001b[0m\n",
      "\u001b[0;32m~/spikeinterface/spikeextractors/spikeextractors/extractors/neoextractors/neobaseextractor.py\u001b[0m in \u001b[0;36m__init__\u001b[0;34m(self, block_index, seg_index, **kargs)\u001b[0m\n\u001b[1;32m     76\u001b[0m             \u001b[0;32mraise\u001b[0m \u001b[0mValueError\u001b[0m\u001b[0;34m(\u001b[0m\u001b[0;34m'Strange neo version. Please upgrade your neo package: pip install --upgrade neo'\u001b[0m\u001b[0;34m)\u001b[0m\u001b[0;34m\u001b[0m\u001b[0;34m\u001b[0m\u001b[0m\n\u001b[1;32m     77\u001b[0m \u001b[0;34m\u001b[0m\u001b[0m\n\u001b[0;32m---> 78\u001b[0;31m         \u001b[0;32massert\u001b[0m \u001b[0mnum_streams\u001b[0m \u001b[0;34m==\u001b[0m \u001b[0;36m1\u001b[0m\u001b[0;34m,\u001b[0m \u001b[0;34m'This file have several signal streams spikeextractors support only one streams'\u001b[0m\u001b[0;31m \u001b[0m\u001b[0;31m\\\u001b[0m\u001b[0;34m\u001b[0m\u001b[0;34m\u001b[0m\u001b[0m\n\u001b[0m\u001b[1;32m     79\u001b[0m                                  \u001b[0;34m'Maybe you can use option to select only one stream'\u001b[0m\u001b[0;34m\u001b[0m\u001b[0;34m\u001b[0m\u001b[0m\n\u001b[1;32m     80\u001b[0m \u001b[0;34m\u001b[0m\u001b[0m\n",
      "\u001b[0;31mAssertionError\u001b[0m: This file have several signal streams spikeextractors support only one streamsMaybe you can use option to select only one stream"
     ]
    }
   ],
   "source": [
    "ue = AxonaUnitRecordingExtractor(filename=filename)"
   ]
  },
  {
   "cell_type": "code",
   "execution_count": 13,
   "id": "3506e5f9",
   "metadata": {},
   "outputs": [
    {
     "name": "stdout",
     "output_type": "stream",
     "text": [
      "Channel ids = [0, 1, 2, 3, 4, 5, 6, 7, 8, 9, 10, 11, 12, 13, 14, 15]\n",
      "Num. channels = 16\n",
      "Sampling frequency = 48000 Hz\n",
      "Num. timepoints = 57600\n",
      "Location of third electrode = [nan nan]\n",
      "Channel groups = [0 0 0 0 1 1 1 1 2 2 2 2 3 3 3 3]\n"
     ]
    }
   ],
   "source": [
    "recording = ue\n",
    "print('Channel ids = {}'.format(recording.get_channel_ids()))\n",
    "print('Num. channels = {}'.format(len(recording.get_channel_ids())))\n",
    "print('Sampling frequency = {} Hz'.format(recording.get_sampling_frequency()))\n",
    "print('Num. timepoints = {}'.format(recording.get_num_frames()))\n",
    "#print('Stdev. on third channel = {}'.format(np.std(recording.get_traces(channel_ids=2))))\n",
    "print('Location of third electrode = {}'.format(recording.get_channel_property(channel_id=2, property_name='location')))\n",
    "print('Channel groups = {}'.format(recording.get_channel_groups()))"
   ]
  },
  {
   "cell_type": "code",
   "execution_count": 14,
   "id": "6eab4a23",
   "metadata": {},
   "outputs": [
    {
     "data": {
      "text/plain": [
       "[0, 1, 2, 3, 4, 5, 6, 7, 8, 9, 10, 11, 12, 13, 14, 15]"
      ]
     },
     "execution_count": 14,
     "metadata": {},
     "output_type": "execute_result"
    }
   ],
   "source": [
    "ue._channel_ids"
   ]
  },
  {
   "cell_type": "code",
   "execution_count": 15,
   "id": "3cdda08e",
   "metadata": {},
   "outputs": [
    {
     "data": {
      "text/plain": [
       "57600"
      ]
     },
     "execution_count": 15,
     "metadata": {},
     "output_type": "execute_result"
    }
   ],
   "source": [
    "ue.get_num_frames()"
   ]
  },
  {
   "cell_type": "code",
   "execution_count": 10,
   "id": "f102a25a",
   "metadata": {},
   "outputs": [
    {
     "ename": "AttributeError",
     "evalue": "'AxonaUnitRecordingExtractor' object has no attribute 'get_num_samples'",
     "output_type": "error",
     "traceback": [
      "\u001b[0;31m---------------------------------------------------------------------------\u001b[0m",
      "\u001b[0;31mAttributeError\u001b[0m                            Traceback (most recent call last)",
      "\u001b[0;32m<ipython-input-10-efdedcbf84a4>\u001b[0m in \u001b[0;36m<module>\u001b[0;34m\u001b[0m\n\u001b[0;32m----> 1\u001b[0;31m \u001b[0mue\u001b[0m\u001b[0;34m.\u001b[0m\u001b[0mget_num_samples\u001b[0m\u001b[0;34m(\u001b[0m\u001b[0;34m)\u001b[0m\u001b[0;34m\u001b[0m\u001b[0;34m\u001b[0m\u001b[0m\n\u001b[0m",
      "\u001b[0;31mAttributeError\u001b[0m: 'AxonaUnitRecordingExtractor' object has no attribute 'get_num_samples'"
     ]
    }
   ],
   "source": [
    "ue.get_num_samples()"
   ]
  },
  {
   "cell_type": "code",
   "execution_count": 21,
   "id": "e5ea2aa1",
   "metadata": {},
   "outputs": [],
   "source": [
    "channel_ids = ['1', '2', '3']"
   ]
  },
  {
   "cell_type": "code",
   "execution_count": 22,
   "id": "59935b24",
   "metadata": {},
   "outputs": [
    {
     "data": {
      "text/plain": [
       "{'data_type': dtype([('spiketimes', '>i4'), ('samples', 'i1', (50,))]),\n",
       " 'tetrode_ids': [1, 2, 3, 4],\n",
       " 'header_encoding': 'cp1252',\n",
       " 1: {'num_spikes': 159,\n",
       "  'filename': PosixPath('/mnt/d/freelance-work/catalyst-neuro/hussaini-lab-to-nwb/sample_bin_to_tint/axona_sample.1'),\n",
       "  'header_size': 286},\n",
       " 2: {'num_spikes': 59,\n",
       "  'filename': PosixPath('/mnt/d/freelance-work/catalyst-neuro/hussaini-lab-to-nwb/sample_bin_to_tint/axona_sample.2'),\n",
       "  'header_size': 285},\n",
       " 3: {'num_spikes': 126,\n",
       "  'filename': PosixPath('/mnt/d/freelance-work/catalyst-neuro/hussaini-lab-to-nwb/sample_bin_to_tint/axona_sample.3'),\n",
       "  'header_size': 286},\n",
       " 4: {'num_spikes': 96,\n",
       "  'filename': PosixPath('/mnt/d/freelance-work/catalyst-neuro/hussaini-lab-to-nwb/sample_bin_to_tint/axona_sample.4'),\n",
       "  'header_size': 285},\n",
       " 'trial_date': 'Sunday, 4 Oct 2020',\n",
       " 'trial_time': '11:07:07',\n",
       " 'experimenter': 'Abid',\n",
       " 'comments': '',\n",
       " 'duration': '601',\n",
       " 'sw_version': '1.2.2.16',\n",
       " 'num_chans': 4,\n",
       " 'timebase': '96000 hz',\n",
       " 'bytes_per_timestamp': '4',\n",
       " 'samples_per_spike': '50',\n",
       " 'sample_rate': '48000 hz',\n",
       " 'bytes_per_sample': '1',\n",
       " 'spike_format': 't,ch1,t,ch2,t,ch3,t,ch4'}"
      ]
     },
     "execution_count": 22,
     "metadata": {},
     "output_type": "execute_result"
    }
   ],
   "source": [
    "ue.neo_reader.file_parameters['unit']"
   ]
  },
  {
   "cell_type": "code",
   "execution_count": 18,
   "id": "05434a2e",
   "metadata": {},
   "outputs": [
    {
     "ename": "NameError",
     "evalue": "name 'ue' is not defined",
     "output_type": "error",
     "traceback": [
      "\u001b[0;31m---------------------------------------------------------------------------\u001b[0m",
      "\u001b[0;31mNameError\u001b[0m                                 Traceback (most recent call last)",
      "\u001b[0;32m<ipython-input-18-27d0079c0a87>\u001b[0m in \u001b[0;36m<module>\u001b[0;34m\u001b[0m\n\u001b[0;32m----> 1\u001b[0;31m \u001b[0mue\u001b[0m\u001b[0;34m.\u001b[0m\u001b[0m_get_tetrode_channel_table\u001b[0m\u001b[0;34m(\u001b[0m\u001b[0mchannel_ids\u001b[0m\u001b[0;34m)\u001b[0m\u001b[0;34m\u001b[0m\u001b[0;34m\u001b[0m\u001b[0m\n\u001b[0m",
      "\u001b[0;31mNameError\u001b[0m: name 'ue' is not defined"
     ]
    }
   ],
   "source": [
    "ue._get_tetrode_channel_table(channel_ids)"
   ]
  },
  {
   "cell_type": "code",
   "execution_count": 24,
   "id": "9586c255",
   "metadata": {
    "scrolled": true
   },
   "outputs": [
    {
     "data": {
      "text/plain": [
       "array([[ 5.82326143e-01,  1.50979368e+00,  1.01306579e+00],\n",
       "       [-2.52424619e-01,  3.14001339e+00,  1.45118559e+00],\n",
       "       [ 2.04500084e-01,  6.83728045e+00,  9.55637117e-01],\n",
       "       ...,\n",
       "       [-5.48513999e-02,  1.45252914e+00,  1.58704156e-01],\n",
       "       [-5.24182931e+00,  8.51444863e+00, -6.37102964e-03],\n",
       "       [-2.70285039e+00,  1.39221096e+00,  8.08949563e-01]])"
      ]
     },
     "execution_count": 24,
     "metadata": {},
     "output_type": "execute_result"
    }
   ],
   "source": [
    "ue.get_traces(channel_ids=channel_ids)"
   ]
  },
  {
   "cell_type": "code",
   "execution_count": null,
   "id": "60efe08a",
   "metadata": {},
   "outputs": [],
   "source": []
  },
  {
   "cell_type": "markdown",
   "id": "15b42412",
   "metadata": {},
   "source": [
    "## Compare AxonaUnitRecordingExtractor with new and old API"
   ]
  },
  {
   "cell_type": "code",
   "execution_count": 25,
   "id": "77ec53f3",
   "metadata": {},
   "outputs": [],
   "source": [
    "import os\n",
    "\n",
    "import numpy as np\n",
    "\n",
    "dir_name = r'/mnt/d/freelance-work/catalyst-neuro/hussaini-lab-to-nwb/sample_bin_to_tint'\n",
    "base_filename = 'axona_sample.set'\n",
    "filename = os.path.join(dir_name, base_filename)"
   ]
  },
  {
   "cell_type": "code",
   "execution_count": 26,
   "id": "11f07e29",
   "metadata": {},
   "outputs": [],
   "source": [
    "channel_ids = ['1', '2', '3']"
   ]
  },
  {
   "cell_type": "code",
   "execution_count": 27,
   "id": "6b164be7",
   "metadata": {},
   "outputs": [
    {
     "name": "stdout",
     "output_type": "stream",
     "text": [
      "Spike 0, extracting waveform between samples 454-504\n"
     ]
    },
    {
     "ename": "AssertionError",
     "evalue": "",
     "output_type": "error",
     "traceback": [
      "\u001b[0;31m---------------------------------------------------------------------------\u001b[0m",
      "\u001b[0;31mAssertionError\u001b[0m                            Traceback (most recent call last)",
      "\u001b[0;32m<ipython-input-27-f9fc9d1979e5>\u001b[0m in \u001b[0;36m<module>\u001b[0;34m\u001b[0m\n\u001b[1;32m     48\u001b[0m \u001b[0;34m\u001b[0m\u001b[0m\n\u001b[1;32m     49\u001b[0m     \u001b[0;31m# Are they equal?\u001b[0m\u001b[0;34m\u001b[0m\u001b[0;34m\u001b[0m\u001b[0;34m\u001b[0m\u001b[0m\n\u001b[0;32m---> 50\u001b[0;31m     \u001b[0;32massert\u001b[0m \u001b[0mnp\u001b[0m\u001b[0;34m.\u001b[0m\u001b[0marray_equal\u001b[0m\u001b[0;34m(\u001b[0m\u001b[0mneo_waves\u001b[0m\u001b[0;34m,\u001b[0m \u001b[0mspikeinterface_waves\u001b[0m\u001b[0;34m,\u001b[0m \u001b[0mequal_nan\u001b[0m\u001b[0;34m=\u001b[0m\u001b[0;32mFalse\u001b[0m\u001b[0;34m)\u001b[0m\u001b[0;34m\u001b[0m\u001b[0;34m\u001b[0m\u001b[0m\n\u001b[0m\u001b[1;32m     51\u001b[0m     \u001b[0;32massert\u001b[0m \u001b[0mnp\u001b[0m\u001b[0;34m.\u001b[0m\u001b[0marray_equal\u001b[0m\u001b[0;34m(\u001b[0m\u001b[0mneo_waves\u001b[0m\u001b[0;34m,\u001b[0m \u001b[0mspikeextractors_waves\u001b[0m\u001b[0;34m,\u001b[0m \u001b[0mequal_nan\u001b[0m\u001b[0;34m=\u001b[0m\u001b[0;32mFalse\u001b[0m\u001b[0;34m)\u001b[0m\u001b[0;34m\u001b[0m\u001b[0;34m\u001b[0m\u001b[0m\n\u001b[1;32m     52\u001b[0m     \u001b[0;32massert\u001b[0m \u001b[0mnp\u001b[0m\u001b[0;34m.\u001b[0m\u001b[0marray_equal\u001b[0m\u001b[0;34m(\u001b[0m\u001b[0mspikeinterface_waves\u001b[0m\u001b[0;34m,\u001b[0m \u001b[0mspikeextractors_waves\u001b[0m\u001b[0;34m,\u001b[0m \u001b[0mequal_nan\u001b[0m\u001b[0;34m=\u001b[0m\u001b[0;32mFalse\u001b[0m\u001b[0;34m)\u001b[0m\u001b[0;34m\u001b[0m\u001b[0;34m\u001b[0m\u001b[0m\n",
      "\u001b[0;31mAssertionError\u001b[0m: "
     ]
    }
   ],
   "source": [
    "from spikeinterface.extractors.neoextractors.axona import AxonaUnitRecordingExtractor\n",
    "from spikeextractors.extractors.axonaunitrecordingextractor import AxonaUnitRecordingExtractor as AURE_old_api\n",
    "\n",
    "ue_old_api = AURE_old_api(filename=filename, noise_std=0)\n",
    "ue = AxonaUnitRecordingExtractor(file_path=filename, noise_std=0)\n",
    "\n",
    "# Get waveforms for comparison with AxonaUnitRecordingExtractor.get_traces\n",
    "waveforms = ue.neo_reader._get_spike_raw_waveforms(\n",
    "    block_index=0,\n",
    "    seg_index=0,\n",
    "    unit_index=0,\n",
    "    t_start=None,\n",
    "    t_stop=None\n",
    ")\n",
    "\n",
    "# Get time stamps of waveforms to look in the right place in AxonaUnitRecordingExtractor.get_traces\n",
    "spike_times = ue.neo_reader._get_spike_timestamps(\n",
    "    block_index=0,\n",
    "    seg_index=0,\n",
    "    unit_index=0,\n",
    "    t_start=None,\n",
    "    t_stop=None\n",
    ")\n",
    "\n",
    "for i in range(len(spike_times)):\n",
    "\n",
    "    spike_time = spike_times[i] // 2\n",
    "    print('Spike {}, extracting waveform between samples {}-{}'.format(i, spike_time-10, spike_time+40))\n",
    "\n",
    "    # Get waveforms for spikeextractor and spikeinterface axona api\n",
    "    traces = ue.get_traces(\n",
    "        start_frame=spike_time - 10,\n",
    "        end_frame=spike_time + 40,\n",
    "        channel_ids=channel_ids\n",
    "    )\n",
    "\n",
    "    traces_old_api = ue_old_api.get_traces(\n",
    "        start_frame=spike_time - 10,\n",
    "        end_frame=spike_time + 40,\n",
    "        channel_ids=[int(ch) for ch in channel_ids],\n",
    "        return_scaled=False\n",
    "    )\n",
    "\n",
    "    # Make sure arrays have the same data type\n",
    "    neo_waves = np.array(waveforms[i, 1:4, :], dtype=np.float32)\n",
    "    spikeinterface_waves = np.array(traces, dtype=np.float32)\n",
    "    spikeextractors_waves = np.array(traces_old_api, dtype=np.float32)\n",
    "\n",
    "    # Are they equal?\n",
    "    assert np.array_equal(neo_waves, spikeinterface_waves, equal_nan=False)\n",
    "    assert np.array_equal(neo_waves, spikeextractors_waves, equal_nan=False)\n",
    "    assert np.array_equal(spikeinterface_waves, spikeextractors_waves, equal_nan=False)"
   ]
  },
  {
   "cell_type": "code",
   "execution_count": null,
   "id": "e035edf6",
   "metadata": {},
   "outputs": [],
   "source": [
    "spikeextractors_waves"
   ]
  },
  {
   "cell_type": "code",
   "execution_count": 28,
   "id": "075332e4",
   "metadata": {},
   "outputs": [
    {
     "data": {
      "text/plain": [
       "array([[ -6.,  -2., -18.],\n",
       "       [ -2.,   3.,  -6.],\n",
       "       [  1.,  14.,  13.],\n",
       "       [  8.,  26.,  32.],\n",
       "       [ 20.,  35.,  43.],\n",
       "       [ 30.,  36.,  42.],\n",
       "       [ 37.,  32.,  37.],\n",
       "       [ 44.,  30.,  34.],\n",
       "       [ 52.,  32.,  38.],\n",
       "       [ 60.,  37.,  48.],\n",
       "       [ 60.,  37.,  53.],\n",
       "       [ 47.,  32.,  48.],\n",
       "       [ 27.,  26.,  40.],\n",
       "       [ 10.,  21.,  37.],\n",
       "       [  0.,  16.,  36.],\n",
       "       [ -5.,   2.,  30.],\n",
       "       [-16., -20.,  14.],\n",
       "       [-31., -45.,  -2.],\n",
       "       [-41., -56.,  -8.],\n",
       "       [-40., -50.,   1.],\n",
       "       [-31., -31.,  20.],\n",
       "       [-21.,  -9.,  37.],\n",
       "       [-14.,   6.,  50.],\n",
       "       [ -9.,  12.,  59.],\n",
       "       [ -7.,  12.,  58.],\n",
       "       [ -5.,  12.,  41.],\n",
       "       [  0.,  13.,  11.],\n",
       "       [  4.,  11., -22.],\n",
       "       [  6.,   6., -46.],\n",
       "       [  3.,   0., -56.],\n",
       "       [ -6.,  -8., -53.],\n",
       "       [-20., -14., -40.],\n",
       "       [-31., -12., -22.],\n",
       "       [-31.,  -2.,  -3.],\n",
       "       [-21.,  10.,  12.],\n",
       "       [ -8.,  19.,  18.],\n",
       "       [  0.,  19.,  14.],\n",
       "       [  2.,   9.,   2.],\n",
       "       [ -2.,  -5., -13.],\n",
       "       [ -8., -18., -22.],\n",
       "       [ -9., -24., -24.],\n",
       "       [ -3., -21., -19.],\n",
       "       [  4., -12., -11.],\n",
       "       [  8.,   0.,  -1.],\n",
       "       [  9.,  10.,  10.],\n",
       "       [ 13.,  20.,  20.],\n",
       "       [ 20.,  28.,  25.],\n",
       "       [ 25.,  30.,  22.],\n",
       "       [ 25.,  24.,  10.],\n",
       "       [ 22.,  14.,  -3.]], dtype=float32)"
      ]
     },
     "execution_count": 28,
     "metadata": {},
     "output_type": "execute_result"
    }
   ],
   "source": [
    "spikeinterface_waves"
   ]
  },
  {
   "cell_type": "code",
   "execution_count": 29,
   "id": "b9a33997",
   "metadata": {},
   "outputs": [
    {
     "data": {
      "text/plain": [
       "array([[ -6.,  -2.,   1.,   8.,  20.,  30.,  37.,  44.,  52.,  60.,  60.,\n",
       "         47.,  27.,  10.,   0.,  -5., -16., -31., -41., -40., -31., -21.,\n",
       "        -14.,  -9.,  -7.,  -5.,   0.,   4.,   6.,   3.,  -6., -20., -31.,\n",
       "        -31., -21.,  -8.,   0.,   2.,  -2.,  -8.,  -9.,  -3.,   4.,   8.,\n",
       "          9.,  13.,  20.,  25.,  25.,  22.],\n",
       "       [ -2.,   3.,  14.,  26.,  35.,  36.,  32.,  30.,  32.,  37.,  37.,\n",
       "         32.,  26.,  21.,  16.,   2., -20., -45., -56., -50., -31.,  -9.,\n",
       "          6.,  12.,  12.,  12.,  13.,  11.,   6.,   0.,  -8., -14., -12.,\n",
       "         -2.,  10.,  19.,  19.,   9.,  -5., -18., -24., -21., -12.,   0.,\n",
       "         10.,  20.,  28.,  30.,  24.,  14.],\n",
       "       [-18.,  -6.,  13.,  32.,  43.,  42.,  37.,  34.,  38.,  48.,  53.,\n",
       "         48.,  40.,  37.,  36.,  30.,  14.,  -2.,  -8.,   1.,  20.,  37.,\n",
       "         50.,  59.,  58.,  41.,  11., -22., -46., -56., -53., -40., -22.,\n",
       "         -3.,  12.,  18.,  14.,   2., -13., -22., -24., -19., -11.,  -1.,\n",
       "         10.,  20.,  25.,  22.,  10.,  -3.]], dtype=float32)"
      ]
     },
     "execution_count": 29,
     "metadata": {},
     "output_type": "execute_result"
    }
   ],
   "source": [
    "neo_waves"
   ]
  },
  {
   "cell_type": "code",
   "execution_count": null,
   "id": "25fa4c2c",
   "metadata": {},
   "outputs": [],
   "source": []
  },
  {
   "cell_type": "markdown",
   "id": "7a7a148e",
   "metadata": {},
   "source": [
    "## Further tests AxonaRecordingExtractor"
   ]
  },
  {
   "cell_type": "code",
   "execution_count": 30,
   "id": "b387291c",
   "metadata": {},
   "outputs": [],
   "source": [
    "# Run tests in command line... the line below crashes in the nb, but I can run the test fine in vscode"
   ]
  },
  {
   "cell_type": "code",
   "execution_count": 31,
   "id": "9f3243be",
   "metadata": {},
   "outputs": [
    {
     "name": "stdout",
     "output_type": "stream",
     "text": [
      "E\r\n",
      "======================================================================\r\n",
      "ERROR: /home/sbuergers/spikeinterface/spikeinterface_new_api/spikeinterface/spikeinterface/extractors/tests/test_neoextractors (unittest.loader._FailedTest)\r\n",
      "----------------------------------------------------------------------\r\n",
      "ImportError: Failed to import test module: /home/sbuergers/spikeinterface/spikeinterface_new_api/spikeinterface/spikeinterface/extractors/tests/test_neoextractors\r\n",
      "Traceback (most recent call last):\r\n",
      "  File \"/home/sbuergers/conda/lib/python3.8/unittest/loader.py\", line 154, in loadTestsFromName\r\n",
      "    module = __import__(module_name)\r\n",
      "ModuleNotFoundError: No module named '/home/sbuergers/spikeinterface/spikeinterface_new_api/spikeinterface/spikeinterface/extractors/tests/test_neoextractors'\r\n",
      "\r\n",
      "\r\n",
      "----------------------------------------------------------------------\r\n",
      "Ran 1 test in 0.000s\r\n",
      "\r\n",
      "FAILED (errors=1)\r\n"
     ]
    }
   ],
   "source": [
    "!python3 -m unittest ~/spikeinterface/spikeinterface_new_api/spikeinterface/spikeinterface/extractors/tests/test_neoextractors.AxonaRecordingTest"
   ]
  },
  {
   "cell_type": "code",
   "execution_count": 32,
   "id": "27879c6a",
   "metadata": {},
   "outputs": [],
   "source": [
    "rec = AxonaRecordingExtractor(file_path=filename)"
   ]
  },
  {
   "cell_type": "code",
   "execution_count": 33,
   "id": "b1f6b3b4",
   "metadata": {},
   "outputs": [
    {
     "data": {
      "text/plain": [
       "0"
      ]
     },
     "execution_count": 33,
     "metadata": {},
     "output_type": "execute_result"
    }
   ],
   "source": [
    "segment_index = 0\n",
    "rec._check_segment_index(segment_index)"
   ]
  },
  {
   "cell_type": "code",
   "execution_count": 36,
   "id": "3375f0a0",
   "metadata": {},
   "outputs": [],
   "source": [
    "start_frame = None\n",
    "end_frame = None\n",
    "channel_ids = None\n",
    "order = None\n",
    "return_scaled = False\n",
    "\n",
    "segment_index = rec._check_segment_index(segment_index)\n",
    "channel_indices = rec.ids_to_indices(channel_ids, prefer_slice=False)\n",
    "rs = rec._recording_segments[segment_index]\n",
    "traces = rs.get_traces(start_frame=start_frame, end_frame=end_frame, channel_indices=channel_indices)\n",
    "if order is not None:\n",
    "    traces = np.asanyarray(traces, order=order)\n",
    "if return_scaled:\n",
    "    gains = rec.get_property('gain_to_uV')\n",
    "    offsets = rec.get_property('offset_to_uV')\n",
    "    if gains is None or offsets is None:\n",
    "        raise ValueError('This recording do not support return_scaled=True (need gain_to_uV and offset_to_uV properties)')\n",
    "    gains = gains[channel_indices].astype('float32')\n",
    "    offsets = offsets[channel_indices].astype('float32')\n",
    "    traces = traces.astype('float32') * gains + offsets"
   ]
  },
  {
   "cell_type": "code",
   "execution_count": 37,
   "id": "4cb18b58",
   "metadata": {},
   "outputs": [],
   "source": [
    "full_traces = rec.get_traces(segment_index=segment_index)"
   ]
  },
  {
   "cell_type": "code",
   "execution_count": 38,
   "id": "4ae4f3ba",
   "metadata": {},
   "outputs": [
    {
     "data": {
      "text/plain": [
       "array([[  3682,   1714,  10480, ...,  -5500,    798,   2378],\n",
       "       [ -3870,   -188,   5308, ...,   -206,  -9238,  -6200],\n",
       "       [     0,      0,      0, ...,      0,      0,      0],\n",
       "       ...,\n",
       "       [-13700,  -9006,  -8460, ..., -18238, -17090, -17912],\n",
       "       [-14410,  -9980,  -7266, ..., -17952, -13344, -15948],\n",
       "       [-11876,  -9502,  -4906, ..., -15410,  -8568, -11356]], dtype=int16)"
      ]
     },
     "execution_count": 38,
     "metadata": {},
     "output_type": "execute_result"
    }
   ],
   "source": [
    "full_traces"
   ]
  },
  {
   "cell_type": "code",
   "execution_count": null,
   "id": "c3e371fb",
   "metadata": {},
   "outputs": [],
   "source": []
  },
  {
   "cell_type": "code",
   "execution_count": null,
   "id": "cbcdede4",
   "metadata": {},
   "outputs": [],
   "source": []
  },
  {
   "cell_type": "code",
   "execution_count": null,
   "id": "3acf70f4",
   "metadata": {},
   "outputs": [],
   "source": []
  },
  {
   "cell_type": "code",
   "execution_count": null,
   "id": "ecf131a1",
   "metadata": {},
   "outputs": [],
   "source": []
  },
  {
   "cell_type": "markdown",
   "id": "7302eecb",
   "metadata": {},
   "source": [
    "## Further tests AxonaUnitRecordingExtractor"
   ]
  },
  {
   "cell_type": "code",
   "execution_count": 13,
   "id": "e8c11ee6",
   "metadata": {},
   "outputs": [],
   "source": [
    "ue = AxonaUnitRecordingExtractor(file_path=filename)"
   ]
  },
  {
   "cell_type": "code",
   "execution_count": 14,
   "id": "baba3e44",
   "metadata": {},
   "outputs": [
    {
     "data": {
      "text/plain": [
       "1"
      ]
     },
     "execution_count": 14,
     "metadata": {},
     "output_type": "execute_result"
    }
   ],
   "source": [
    "ue.get_num_segments()"
   ]
  },
  {
   "cell_type": "code",
   "execution_count": 15,
   "id": "b6f469c4",
   "metadata": {},
   "outputs": [
    {
     "data": {
      "text/plain": [
       "array([[  3682,   1714,  10480, ...,  -5500,    798,   2378],\n",
       "       [ -3870,   -188,   5308, ...,   -206,  -9238,  -6200],\n",
       "       [     0,      0,      0, ...,      0,      0,      0],\n",
       "       ...,\n",
       "       [-13700,  -9006,  -8460, ..., -18238, -17090, -17912],\n",
       "       [-14410,  -9980,  -7266, ..., -17952, -13344, -15948],\n",
       "       [-11876,  -9502,  -4906, ..., -15410,  -8568, -11356]], dtype=int16)"
      ]
     },
     "execution_count": 15,
     "metadata": {},
     "output_type": "execute_result"
    }
   ],
   "source": [
    "ue.neo_reader.get_analogsignal_chunk()"
   ]
  },
  {
   "cell_type": "code",
   "execution_count": 16,
   "id": "18402363",
   "metadata": {},
   "outputs": [
    {
     "data": {
      "text/plain": [
       "'0'"
      ]
     },
     "execution_count": 16,
     "metadata": {},
     "output_type": "execute_result"
    }
   ],
   "source": [
    "ue.neo_reader.header['signal_streams']['id'][0]"
   ]
  },
  {
   "cell_type": "code",
   "execution_count": 17,
   "id": "bf0f32fb",
   "metadata": {},
   "outputs": [
    {
     "ename": "NameError",
     "evalue": "name 'full_traces' is not defined",
     "output_type": "error",
     "traceback": [
      "\u001b[0;31m---------------------------------------------------------------------------\u001b[0m",
      "\u001b[0;31mNameError\u001b[0m                                 Traceback (most recent call last)",
      "\u001b[0;32m<ipython-input-17-b23b271f32c7>\u001b[0m in \u001b[0;36m<module>\u001b[0;34m\u001b[0m\n\u001b[0;32m----> 1\u001b[0;31m \u001b[0mfull_traces\u001b[0m\u001b[0;34m.\u001b[0m\u001b[0mshape\u001b[0m\u001b[0;34m\u001b[0m\u001b[0;34m\u001b[0m\u001b[0m\n\u001b[0m",
      "\u001b[0;31mNameError\u001b[0m: name 'full_traces' is not defined"
     ]
    }
   ],
   "source": [
    "full_traces.shape"
   ]
  },
  {
   "cell_type": "code",
   "execution_count": 18,
   "id": "44b11b74",
   "metadata": {},
   "outputs": [
    {
     "ename": "NameError",
     "evalue": "name 'num_samples' is not defined",
     "output_type": "error",
     "traceback": [
      "\u001b[0;31m---------------------------------------------------------------------------\u001b[0m",
      "\u001b[0;31mNameError\u001b[0m                                 Traceback (most recent call last)",
      "\u001b[0;32m<ipython-input-18-99ff6f7b8725>\u001b[0m in \u001b[0;36m<module>\u001b[0;34m\u001b[0m\n\u001b[0;32m----> 1\u001b[0;31m \u001b[0;34m(\u001b[0m\u001b[0mnum_samples\u001b[0m\u001b[0;34m,\u001b[0m \u001b[0mnum_chans\u001b[0m\u001b[0;34m)\u001b[0m\u001b[0;34m\u001b[0m\u001b[0;34m\u001b[0m\u001b[0m\n\u001b[0m",
      "\u001b[0;31mNameError\u001b[0m: name 'num_samples' is not defined"
     ]
    }
   ],
   "source": [
    "(num_samples, num_chans)"
   ]
  },
  {
   "cell_type": "code",
   "execution_count": 19,
   "id": "3a877f5b",
   "metadata": {},
   "outputs": [
    {
     "ename": "NameError",
     "evalue": "name 'full_traces' is not defined",
     "output_type": "error",
     "traceback": [
      "\u001b[0;31m---------------------------------------------------------------------------\u001b[0m",
      "\u001b[0;31mNameError\u001b[0m                                 Traceback (most recent call last)",
      "\u001b[0;32m<ipython-input-19-3d03ca156f20>\u001b[0m in \u001b[0;36m<module>\u001b[0;34m\u001b[0m\n\u001b[0;32m----> 1\u001b[0;31m \u001b[0mfull_traces\u001b[0m\u001b[0;34m.\u001b[0m\u001b[0mdtype\u001b[0m\u001b[0;34m\u001b[0m\u001b[0;34m\u001b[0m\u001b[0m\n\u001b[0m",
      "\u001b[0;31mNameError\u001b[0m: name 'full_traces' is not defined"
     ]
    }
   ],
   "source": [
    "full_traces.dtype"
   ]
  },
  {
   "cell_type": "code",
   "execution_count": 20,
   "id": "eb70afc9",
   "metadata": {},
   "outputs": [
    {
     "ename": "NameError",
     "evalue": "name 'dtype' is not defined",
     "output_type": "error",
     "traceback": [
      "\u001b[0;31m---------------------------------------------------------------------------\u001b[0m",
      "\u001b[0;31mNameError\u001b[0m                                 Traceback (most recent call last)",
      "\u001b[0;32m<ipython-input-20-ecc87eca7676>\u001b[0m in \u001b[0;36m<module>\u001b[0;34m\u001b[0m\n\u001b[0;32m----> 1\u001b[0;31m \u001b[0mdtype\u001b[0m\u001b[0;34m\u001b[0m\u001b[0;34m\u001b[0m\u001b[0m\n\u001b[0m",
      "\u001b[0;31mNameError\u001b[0m: name 'dtype' is not defined"
     ]
    }
   ],
   "source": [
    "dtype"
   ]
  },
  {
   "cell_type": "code",
   "execution_count": 21,
   "id": "46c0ea0e",
   "metadata": {},
   "outputs": [
    {
     "ename": "NameError",
     "evalue": "name 'ful' is not defined",
     "output_type": "error",
     "traceback": [
      "\u001b[0;31m---------------------------------------------------------------------------\u001b[0m",
      "\u001b[0;31mNameError\u001b[0m                                 Traceback (most recent call last)",
      "\u001b[0;32m<ipython-input-21-1521c08647ac>\u001b[0m in \u001b[0;36m<module>\u001b[0;34m\u001b[0m\n\u001b[0;32m----> 1\u001b[0;31m \u001b[0mful\u001b[0m\u001b[0;34m\u001b[0m\u001b[0;34m\u001b[0m\u001b[0m\n\u001b[0m",
      "\u001b[0;31mNameError\u001b[0m: name 'ful' is not defined"
     ]
    }
   ],
   "source": [
    "ful"
   ]
  },
  {
   "cell_type": "code",
   "execution_count": 23,
   "id": "ce1cec1a",
   "metadata": {},
   "outputs": [
    {
     "data": {
      "text/plain": [
       "dtype('int16')"
      ]
     },
     "execution_count": 23,
     "metadata": {},
     "output_type": "execute_result"
    }
   ],
   "source": [
    "dtype"
   ]
  },
  {
   "cell_type": "code",
   "execution_count": 25,
   "id": "c931e2ec",
   "metadata": {},
   "outputs": [
    {
     "data": {
      "text/plain": [
       "dtype('float64')"
      ]
     },
     "execution_count": 25,
     "metadata": {},
     "output_type": "execute_result"
    }
   ],
   "source": [
    "full_traces.dtype"
   ]
  },
  {
   "cell_type": "code",
   "execution_count": 22,
   "id": "8f44e987",
   "metadata": {},
   "outputs": [
    {
     "ename": "AssertionError",
     "evalue": "",
     "output_type": "error",
     "traceback": [
      "\u001b[0;31m---------------------------------------------------------------------------\u001b[0m",
      "\u001b[0;31mAssertionError\u001b[0m                            Traceback (most recent call last)",
      "\u001b[0;32m<ipython-input-22-12c4e563fa6b>\u001b[0m in \u001b[0;36m<module>\u001b[0;34m\u001b[0m\n\u001b[1;32m     11\u001b[0m     \u001b[0mfull_traces\u001b[0m \u001b[0;34m=\u001b[0m \u001b[0mrec\u001b[0m\u001b[0;34m.\u001b[0m\u001b[0mget_traces\u001b[0m\u001b[0;34m(\u001b[0m\u001b[0msegment_index\u001b[0m\u001b[0;34m=\u001b[0m\u001b[0msegment_index\u001b[0m\u001b[0;34m)\u001b[0m\u001b[0;34m\u001b[0m\u001b[0;34m\u001b[0m\u001b[0m\n\u001b[1;32m     12\u001b[0m     \u001b[0;32massert\u001b[0m \u001b[0mfull_traces\u001b[0m\u001b[0;34m.\u001b[0m\u001b[0mshape\u001b[0m \u001b[0;34m==\u001b[0m \u001b[0;34m(\u001b[0m\u001b[0mnum_samples\u001b[0m\u001b[0;34m,\u001b[0m \u001b[0mnum_chans\u001b[0m\u001b[0;34m)\u001b[0m\u001b[0;34m\u001b[0m\u001b[0;34m\u001b[0m\u001b[0m\n\u001b[0;32m---> 13\u001b[0;31m     \u001b[0;32massert\u001b[0m \u001b[0mfull_traces\u001b[0m\u001b[0;34m.\u001b[0m\u001b[0mdtype\u001b[0m \u001b[0;34m==\u001b[0m \u001b[0mdtype\u001b[0m\u001b[0;34m\u001b[0m\u001b[0;34m\u001b[0m\u001b[0m\n\u001b[0m\u001b[1;32m     14\u001b[0m \u001b[0;34m\u001b[0m\u001b[0m\n\u001b[1;32m     15\u001b[0m \u001b[0;34m\u001b[0m\u001b[0m\n",
      "\u001b[0;31mAssertionError\u001b[0m: "
     ]
    }
   ],
   "source": [
    "rec = ue\n",
    "# print(rec)\n",
    "\n",
    "num_seg = rec.get_num_segments()\n",
    "num_chans = rec.get_num_channels()\n",
    "dtype = rec.get_dtype()\n",
    "\n",
    "for segment_index in range(num_seg):\n",
    "    num_samples = rec.get_num_samples(segment_index=segment_index)\n",
    "\n",
    "    full_traces = rec.get_traces(segment_index=segment_index)\n",
    "    assert full_traces.shape == (num_samples, num_chans)\n",
    "    assert full_traces.dtype == dtype\n",
    "\n",
    "\n",
    "    traces_sample_first = rec.get_traces(segment_index=segment_index, start_frame=0, end_frame=1)\n",
    "    assert traces_sample_first.shape == (1, num_chans)\n",
    "    assert np.all(full_traces[0, :] == traces_sample_first[0, :])\n",
    "\n",
    "    traces_sample_last = rec.get_traces(segment_index=segment_index, start_frame=num_samples-1, end_frame=num_samples)\n",
    "    assert traces_sample_last.shape == (1, num_chans)\n",
    "    assert np.all(full_traces[-1, :] == traces_sample_last[0, :])\n",
    "\n",
    "# try return_scaled\n",
    "if isinstance(rec, NeoBaseRecordingExtractor):\n",
    "    assert rec.get_property('gain_to_uV') is not None\n",
    "    assert rec.get_property('offset_to_uV') is not None\n",
    "\n",
    "if rec.get_property('gain_to_uV') is not None and rec.get_property('offset_to_uV') is not None:\n",
    "    trace_scaled = rec.get_traces(segment_index=segment_index, return_scaled=True)\n",
    "    assert trace_scaled.dtype == 'float32'"
   ]
  },
  {
   "cell_type": "code",
   "execution_count": null,
   "id": "f0ac8afb",
   "metadata": {},
   "outputs": [],
   "source": []
  },
  {
   "cell_type": "code",
   "execution_count": 47,
   "id": "6e2af4c4",
   "metadata": {},
   "outputs": [
    {
     "ename": "IndexError",
     "evalue": "index 0 is out of bounds for axis 0 with size 0",
     "output_type": "error",
     "traceback": [
      "\u001b[0;31m---------------------------------------------------------------------------\u001b[0m",
      "\u001b[0;31mIndexError\u001b[0m                                Traceback (most recent call last)",
      "\u001b[0;32m<ipython-input-47-bf6fa4b2c19f>\u001b[0m in \u001b[0;36m<module>\u001b[0;34m\u001b[0m\n\u001b[1;32m      2\u001b[0m     \u001b[0;34m'/home/sbuergers/spikeinterface_datasets/ephy_testing_data/axona/dataset_unit_spikes/20140815-180secs.set'\u001b[0m\u001b[0;34m\u001b[0m\u001b[0;34m\u001b[0m\u001b[0m\n\u001b[1;32m      3\u001b[0m \u001b[0;34m\u001b[0m\u001b[0m\n\u001b[0;32m----> 4\u001b[0;31m \u001b[0mue\u001b[0m \u001b[0;34m=\u001b[0m \u001b[0mAxonaUnitRecordingExtractor\u001b[0m\u001b[0;34m(\u001b[0m\u001b[0mfile_path\u001b[0m\u001b[0;34m=\u001b[0m\u001b[0mset_file_string\u001b[0m\u001b[0;34m,\u001b[0m \u001b[0mnoise_std\u001b[0m\u001b[0;34m=\u001b[0m\u001b[0;36m0\u001b[0m\u001b[0;34m)\u001b[0m\u001b[0;34m\u001b[0m\u001b[0;34m\u001b[0m\u001b[0m\n\u001b[0m",
      "\u001b[0;32m~/spikeinterface/spikeinterface_new_api/spikeinterface/spikeinterface/extractors/neoextractors/axona.py\u001b[0m in \u001b[0;36m__init__\u001b[0;34m(self, file_path, noise_std, **kargs)\u001b[0m\n\u001b[1;32m     80\u001b[0m     \u001b[0;32mdef\u001b[0m \u001b[0m__init__\u001b[0m\u001b[0;34m(\u001b[0m\u001b[0mself\u001b[0m\u001b[0;34m,\u001b[0m \u001b[0mfile_path\u001b[0m\u001b[0;34m,\u001b[0m \u001b[0mnoise_std\u001b[0m\u001b[0;34m:\u001b[0m \u001b[0mfloat\u001b[0m \u001b[0;34m=\u001b[0m \u001b[0;36m3\u001b[0m\u001b[0;34m,\u001b[0m \u001b[0;34m**\u001b[0m\u001b[0mkargs\u001b[0m\u001b[0;34m)\u001b[0m\u001b[0;34m:\u001b[0m\u001b[0;34m\u001b[0m\u001b[0;34m\u001b[0m\u001b[0m\n\u001b[1;32m     81\u001b[0m         \u001b[0mneo_kwargs\u001b[0m \u001b[0;34m=\u001b[0m \u001b[0;34m{\u001b[0m\u001b[0;34m'filename'\u001b[0m\u001b[0;34m:\u001b[0m \u001b[0mstr\u001b[0m\u001b[0;34m(\u001b[0m\u001b[0mfile_path\u001b[0m\u001b[0;34m)\u001b[0m\u001b[0;34m}\u001b[0m\u001b[0;34m\u001b[0m\u001b[0;34m\u001b[0m\u001b[0m\n\u001b[0;32m---> 82\u001b[0;31m         \u001b[0msuper\u001b[0m\u001b[0;34m(\u001b[0m\u001b[0;34m)\u001b[0m\u001b[0;34m.\u001b[0m\u001b[0m__init__\u001b[0m\u001b[0;34m(\u001b[0m\u001b[0;34m**\u001b[0m\u001b[0mneo_kwargs\u001b[0m\u001b[0;34m)\u001b[0m\u001b[0;34m\u001b[0m\u001b[0;34m\u001b[0m\u001b[0m\n\u001b[0m\u001b[1;32m     83\u001b[0m         \u001b[0mself\u001b[0m\u001b[0;34m.\u001b[0m\u001b[0m_noise_std\u001b[0m \u001b[0;34m=\u001b[0m \u001b[0mnoise_std\u001b[0m\u001b[0;34m\u001b[0m\u001b[0;34m\u001b[0m\u001b[0m\n\u001b[1;32m     84\u001b[0m \u001b[0;34m\u001b[0m\u001b[0m\n",
      "\u001b[0;32m~/spikeinterface/spikeinterface_new_api/spikeinterface/spikeinterface/extractors/neoextractors/neobaseextractor.py\u001b[0m in \u001b[0;36m__init__\u001b[0;34m(self, stream_id, **neo_kwargs)\u001b[0m\n\u001b[1;32m     36\u001b[0m                 \u001b[0;32mraise\u001b[0m \u001b[0mValueError\u001b[0m\u001b[0;34m(\u001b[0m\u001b[0;34mf'This reader have several streams({stream_ids}), specify it with stream_id='\u001b[0m\u001b[0;34m)\u001b[0m\u001b[0;34m\u001b[0m\u001b[0;34m\u001b[0m\u001b[0m\n\u001b[1;32m     37\u001b[0m             \u001b[0;32melse\u001b[0m\u001b[0;34m:\u001b[0m\u001b[0;34m\u001b[0m\u001b[0;34m\u001b[0m\u001b[0m\n\u001b[0;32m---> 38\u001b[0;31m                 \u001b[0mstream_id\u001b[0m \u001b[0;34m=\u001b[0m \u001b[0mstream_ids\u001b[0m\u001b[0;34m[\u001b[0m\u001b[0;36m0\u001b[0m\u001b[0;34m]\u001b[0m\u001b[0;34m\u001b[0m\u001b[0;34m\u001b[0m\u001b[0m\n\u001b[0m\u001b[1;32m     39\u001b[0m         \u001b[0;32melse\u001b[0m\u001b[0;34m:\u001b[0m\u001b[0;34m\u001b[0m\u001b[0;34m\u001b[0m\u001b[0m\n\u001b[1;32m     40\u001b[0m             \u001b[0;32massert\u001b[0m \u001b[0mstream_id\u001b[0m \u001b[0;32min\u001b[0m \u001b[0mstream_ids\u001b[0m\u001b[0;34m,\u001b[0m \u001b[0;34mf'stream_id {stream_id} is no in {stream_ids}'\u001b[0m\u001b[0;34m\u001b[0m\u001b[0;34m\u001b[0m\u001b[0m\n",
      "\u001b[0;31mIndexError\u001b[0m: index 0 is out of bounds for axis 0 with size 0"
     ]
    }
   ],
   "source": [
    "set_file_string = \\\n",
    "    '/home/sbuergers/spikeinterface_datasets/ephy_testing_data/axona/dataset_unit_spikes/20140815-180secs.set'\n",
    "\n",
    "ue = AxonaUnitRecordingExtractor(file_path=set_file_string, noise_std=0)"
   ]
  },
  {
   "cell_type": "code",
   "execution_count": 49,
   "id": "6c0be259",
   "metadata": {},
   "outputs": [],
   "source": [
    "set_file_string = \\\n",
    "    '/home/sbuergers/spikeinterface_datasets/ephy_testing_data/axona/dataset_multi_modal/axona_sample.set'\n",
    "\n",
    "ue = AxonaUnitRecordingExtractor(file_path=set_file_string, noise_std=0)"
   ]
  },
  {
   "cell_type": "code",
   "execution_count": 55,
   "id": "0eef2a02",
   "metadata": {},
   "outputs": [],
   "source": [
    "ue.neo_reader._get_channel_indexes(stream_index=0, channel_indexes=None, channel_names=None, channel_ids=None)"
   ]
  },
  {
   "cell_type": "code",
   "execution_count": 80,
   "id": "dc144bfc",
   "metadata": {},
   "outputs": [
    {
     "data": {
      "text/plain": [
       "array(['0', '1', '2', '3', '4', '5', '6', '7', '8', '9', '10', '11', '12',\n",
       "       '13', '14', '15'], dtype='<U2')"
      ]
     },
     "execution_count": 80,
     "metadata": {},
     "output_type": "execute_result"
    }
   ],
   "source": [
    "ue.neo_reader.raw_annotations['blocks'][0]['segments'][0]['signals'][0]['__array_annotations__']['channel_ids']"
   ]
  },
  {
   "cell_type": "code",
   "execution_count": 57,
   "id": "fcb7bb6c",
   "metadata": {},
   "outputs": [
    {
     "data": {
      "text/plain": [
       "<bound method BaseRawIO._repr_annotations of AxonaRawIO: /home/sbuergers/spikeinterface_datasets/ephy_testing_data/axona/dataset_multi_modal/axona_sample\n",
       "nb_block: 1\n",
       "nb_segment:  [1]\n",
       "signal_streams: [stream 0 (chans: 16)]\n",
       "signal_channels: [1a, 1b, 1c, 1d ... 4a , 4b , 4c , 4d]\n",
       "spike_channels: [tetrode 1, tetrode 2, tetrode 3, tetrode 4]\n",
       "event_channels: []\n",
       ">"
      ]
     },
     "execution_count": 57,
     "metadata": {},
     "output_type": "execute_result"
    }
   ],
   "source": [
    "ue.neo_reader._repr_annotations"
   ]
  },
  {
   "cell_type": "code",
   "execution_count": 30,
   "id": "95edbbe0",
   "metadata": {},
   "outputs": [],
   "source": [
    "# Below: Old code"
   ]
  },
  {
   "cell_type": "code",
   "execution_count": null,
   "id": "6b5d735a",
   "metadata": {},
   "outputs": [],
   "source": []
  },
  {
   "cell_type": "code",
   "execution_count": 31,
   "id": "6f9bcea7",
   "metadata": {},
   "outputs": [],
   "source": [
    "import pathlib"
   ]
  },
  {
   "cell_type": "code",
   "execution_count": 32,
   "id": "a35b6f4e",
   "metadata": {},
   "outputs": [
    {
     "data": {
      "text/plain": [
       "'/mnt/d/freelance-work/catalyst-neuro/hussaini-lab-to-nwb/sample_bin_to_tint/axona_sample.set'"
      ]
     },
     "execution_count": 32,
     "metadata": {},
     "output_type": "execute_result"
    }
   ],
   "source": [
    "filename"
   ]
  },
  {
   "cell_type": "code",
   "execution_count": 33,
   "id": "13a0f8cf",
   "metadata": {},
   "outputs": [
    {
     "data": {
      "text/plain": [
       "PosixPath('/mnt/d/freelance-work/catalyst-neuro/hussaini-lab-to-nwb/sample_bin_to_tint/axona_sample')"
      ]
     },
     "execution_count": 33,
     "metadata": {},
     "output_type": "execute_result"
    }
   ],
   "source": [
    "fn = pathlib.Path(filename).with_suffix('')\n",
    "fn"
   ]
  },
  {
   "cell_type": "code",
   "execution_count": 34,
   "id": "e61d91b2",
   "metadata": {},
   "outputs": [
    {
     "data": {
      "text/plain": [
       "PosixPath('/mnt/d/freelance-work/catalyst-neuro/hussaini-lab-to-nwb/sample_bin_to_tint/axona_sample.set')"
      ]
     },
     "execution_count": 34,
     "metadata": {},
     "output_type": "execute_result"
    }
   ],
   "source": [
    "set_file = fn.with_suffix('.set')\n",
    "set_file"
   ]
  },
  {
   "cell_type": "code",
   "execution_count": 35,
   "id": "d49d5232",
   "metadata": {},
   "outputs": [
    {
     "data": {
      "text/plain": [
       "True"
      ]
     },
     "execution_count": 35,
     "metadata": {},
     "output_type": "execute_result"
    }
   ],
   "source": [
    "set_file.exists()"
   ]
  },
  {
   "cell_type": "code",
   "execution_count": 36,
   "id": "b03616bf",
   "metadata": {},
   "outputs": [],
   "source": [
    "set_file_string = '/home/sbuergers/spikeinterface_datasets/ephy_testing_data/axona/dataset_unit_spikes/20140815-180secs.set'"
   ]
  },
  {
   "cell_type": "code",
   "execution_count": 38,
   "id": "4b12ec58",
   "metadata": {},
   "outputs": [
    {
     "ename": "IndexError",
     "evalue": "index 0 is out of bounds for axis 0 with size 0",
     "output_type": "error",
     "traceback": [
      "\u001b[0;31m---------------------------------------------------------------------------\u001b[0m",
      "\u001b[0;31mIndexError\u001b[0m                                Traceback (most recent call last)",
      "\u001b[0;32m<ipython-input-38-99c048fe4af7>\u001b[0m in \u001b[0;36m<module>\u001b[0;34m\u001b[0m\n\u001b[0;32m----> 1\u001b[0;31m \u001b[0mue\u001b[0m \u001b[0;34m=\u001b[0m \u001b[0mAxonaUnitRecordingExtractor\u001b[0m\u001b[0;34m(\u001b[0m\u001b[0mfile_path\u001b[0m\u001b[0;34m=\u001b[0m\u001b[0mset_file_string\u001b[0m\u001b[0;34m,\u001b[0m \u001b[0mnoise_std\u001b[0m\u001b[0;34m=\u001b[0m\u001b[0;36m0\u001b[0m\u001b[0;34m)\u001b[0m\u001b[0;34m\u001b[0m\u001b[0;34m\u001b[0m\u001b[0m\n\u001b[0m",
      "\u001b[0;32m~/spikeinterface/spikeinterface_new_api/spikeinterface/spikeinterface/extractors/neoextractors/axona.py\u001b[0m in \u001b[0;36m__init__\u001b[0;34m(self, file_path, noise_std, **kargs)\u001b[0m\n\u001b[1;32m     80\u001b[0m     \u001b[0;32mdef\u001b[0m \u001b[0m__init__\u001b[0m\u001b[0;34m(\u001b[0m\u001b[0mself\u001b[0m\u001b[0;34m,\u001b[0m \u001b[0mfile_path\u001b[0m\u001b[0;34m,\u001b[0m \u001b[0mnoise_std\u001b[0m\u001b[0;34m:\u001b[0m \u001b[0mfloat\u001b[0m \u001b[0;34m=\u001b[0m \u001b[0;36m3\u001b[0m\u001b[0;34m,\u001b[0m \u001b[0;34m**\u001b[0m\u001b[0mkargs\u001b[0m\u001b[0;34m)\u001b[0m\u001b[0;34m:\u001b[0m\u001b[0;34m\u001b[0m\u001b[0;34m\u001b[0m\u001b[0m\n\u001b[1;32m     81\u001b[0m         \u001b[0mneo_kwargs\u001b[0m \u001b[0;34m=\u001b[0m \u001b[0;34m{\u001b[0m\u001b[0;34m'filename'\u001b[0m\u001b[0;34m:\u001b[0m \u001b[0mstr\u001b[0m\u001b[0;34m(\u001b[0m\u001b[0mfile_path\u001b[0m\u001b[0;34m)\u001b[0m\u001b[0;34m}\u001b[0m\u001b[0;34m\u001b[0m\u001b[0;34m\u001b[0m\u001b[0m\n\u001b[0;32m---> 82\u001b[0;31m         \u001b[0msuper\u001b[0m\u001b[0;34m(\u001b[0m\u001b[0;34m)\u001b[0m\u001b[0;34m.\u001b[0m\u001b[0m__init__\u001b[0m\u001b[0;34m(\u001b[0m\u001b[0;34m**\u001b[0m\u001b[0mneo_kwargs\u001b[0m\u001b[0;34m)\u001b[0m\u001b[0;34m\u001b[0m\u001b[0;34m\u001b[0m\u001b[0m\n\u001b[0m\u001b[1;32m     83\u001b[0m         \u001b[0mself\u001b[0m\u001b[0;34m.\u001b[0m\u001b[0m_noise_std\u001b[0m \u001b[0;34m=\u001b[0m \u001b[0mnoise_std\u001b[0m\u001b[0;34m\u001b[0m\u001b[0;34m\u001b[0m\u001b[0m\n\u001b[1;32m     84\u001b[0m \u001b[0;34m\u001b[0m\u001b[0m\n",
      "\u001b[0;32m~/spikeinterface/spikeinterface_new_api/spikeinterface/spikeinterface/extractors/neoextractors/neobaseextractor.py\u001b[0m in \u001b[0;36m__init__\u001b[0;34m(self, stream_id, **neo_kwargs)\u001b[0m\n\u001b[1;32m     36\u001b[0m                 \u001b[0;32mraise\u001b[0m \u001b[0mValueError\u001b[0m\u001b[0;34m(\u001b[0m\u001b[0;34mf'This reader have several streams({stream_ids}), specify it with stream_id='\u001b[0m\u001b[0;34m)\u001b[0m\u001b[0;34m\u001b[0m\u001b[0;34m\u001b[0m\u001b[0m\n\u001b[1;32m     37\u001b[0m             \u001b[0;32melse\u001b[0m\u001b[0;34m:\u001b[0m\u001b[0;34m\u001b[0m\u001b[0;34m\u001b[0m\u001b[0m\n\u001b[0;32m---> 38\u001b[0;31m                 \u001b[0mstream_id\u001b[0m \u001b[0;34m=\u001b[0m \u001b[0mstream_ids\u001b[0m\u001b[0;34m[\u001b[0m\u001b[0;36m0\u001b[0m\u001b[0;34m]\u001b[0m\u001b[0;34m\u001b[0m\u001b[0;34m\u001b[0m\u001b[0m\n\u001b[0m\u001b[1;32m     39\u001b[0m         \u001b[0;32melse\u001b[0m\u001b[0;34m:\u001b[0m\u001b[0;34m\u001b[0m\u001b[0;34m\u001b[0m\u001b[0m\n\u001b[1;32m     40\u001b[0m             \u001b[0;32massert\u001b[0m \u001b[0mstream_id\u001b[0m \u001b[0;32min\u001b[0m \u001b[0mstream_ids\u001b[0m\u001b[0;34m,\u001b[0m \u001b[0;34mf'stream_id {stream_id} is no in {stream_ids}'\u001b[0m\u001b[0;34m\u001b[0m\u001b[0;34m\u001b[0m\u001b[0m\n",
      "\u001b[0;31mIndexError\u001b[0m: index 0 is out of bounds for axis 0 with size 0"
     ]
    }
   ],
   "source": [
    "ue = AxonaUnitRecordingExtractor(file_path=set_file_string, noise_std=0)"
   ]
  },
  {
   "cell_type": "code",
   "execution_count": 17,
   "id": "553e092b",
   "metadata": {},
   "outputs": [
    {
     "name": "stdout",
     "output_type": "stream",
     "text": [
      "20140815-180secs.1  20140815-180secs.4\t  20140815-180secs.set\r\n",
      "20140815-180secs.2  20140815-180secs.eeg\r\n",
      "20140815-180secs.3  20140815-180secs.pos\r\n"
     ]
    }
   ],
   "source": [
    "!ls /home/sbuergers/spikeinterface_datasets/ephy_testing_data/axona/dataset_unit_spikes"
   ]
  },
  {
   "cell_type": "code",
   "execution_count": 18,
   "id": "8363f595",
   "metadata": {},
   "outputs": [],
   "source": [
    "fn_test = pathlib.Path(set_file_string).with_suffix('')"
   ]
  },
  {
   "cell_type": "code",
   "execution_count": 19,
   "id": "8db65045",
   "metadata": {},
   "outputs": [
    {
     "data": {
      "text/plain": [
       "PosixPath('/home/sbuergers/spikeinterface_datasets/ephy_testing_data/axona/dataset_unit_spikes/20140815-180secs')"
      ]
     },
     "execution_count": 19,
     "metadata": {},
     "output_type": "execute_result"
    }
   ],
   "source": [
    "fn_test"
   ]
  },
  {
   "cell_type": "code",
   "execution_count": 20,
   "id": "3618f67c",
   "metadata": {},
   "outputs": [
    {
     "data": {
      "text/plain": [
       "PosixPath('/home/sbuergers/spikeinterface_datasets/ephy_testing_data/axona/dataset_unit_spikes/20140815-180secs.set')"
      ]
     },
     "execution_count": 20,
     "metadata": {},
     "output_type": "execute_result"
    }
   ],
   "source": [
    "fn_set = fn_test.with_suffix('.set')\n",
    "fn_set"
   ]
  },
  {
   "cell_type": "code",
   "execution_count": 21,
   "id": "432aa37c",
   "metadata": {},
   "outputs": [
    {
     "data": {
      "text/plain": [
       "True"
      ]
     },
     "execution_count": 21,
     "metadata": {},
     "output_type": "execute_result"
    }
   ],
   "source": [
    "fn_set.exists()"
   ]
  },
  {
   "cell_type": "code",
   "execution_count": 22,
   "id": "9694b26a",
   "metadata": {},
   "outputs": [
    {
     "ename": "NameError",
     "evalue": "name 'ue' is not defined",
     "output_type": "error",
     "traceback": [
      "\u001b[0;31m---------------------------------------------------------------------------\u001b[0m",
      "\u001b[0;31mNameError\u001b[0m                                 Traceback (most recent call last)",
      "\u001b[0;32m<ipython-input-22-29eb27842008>\u001b[0m in \u001b[0;36m<module>\u001b[0;34m\u001b[0m\n\u001b[0;32m----> 1\u001b[0;31m \u001b[0mue\u001b[0m\u001b[0;34m.\u001b[0m\u001b[0mget_num_segments\u001b[0m\u001b[0;34m(\u001b[0m\u001b[0;34m)\u001b[0m\u001b[0;34m\u001b[0m\u001b[0;34m\u001b[0m\u001b[0m\n\u001b[0m",
      "\u001b[0;31mNameError\u001b[0m: name 'ue' is not defined"
     ]
    }
   ],
   "source": [
    "ue.get_num_segments()"
   ]
  },
  {
   "cell_type": "code",
   "execution_count": null,
   "id": "031d9a4f",
   "metadata": {},
   "outputs": [],
   "source": []
  },
  {
   "cell_type": "code",
   "execution_count": null,
   "id": "73e1b41b",
   "metadata": {},
   "outputs": [],
   "source": []
  },
  {
   "cell_type": "code",
   "execution_count": null,
   "id": "e828099d",
   "metadata": {},
   "outputs": [],
   "source": []
  },
  {
   "cell_type": "code",
   "execution_count": null,
   "id": "1a0571ab",
   "metadata": {},
   "outputs": [],
   "source": []
  },
  {
   "cell_type": "code",
   "execution_count": null,
   "id": "6848f1dc",
   "metadata": {},
   "outputs": [],
   "source": []
  },
  {
   "cell_type": "code",
   "execution_count": 34,
   "id": "2718192d",
   "metadata": {},
   "outputs": [],
   "source": [
    "import neo\n",
    "\n",
    "from spikeinterface.core import (BaseRecording, BaseSorting, BaseEvent,\n",
    "                                 BaseRecordingSegment, BaseSortingSegment, BaseEventSegment)"
   ]
  },
  {
   "cell_type": "code",
   "execution_count": 12,
   "id": "d33dc482",
   "metadata": {},
   "outputs": [
    {
     "ename": "SyntaxError",
     "evalue": "invalid syntax (<ipython-input-12-60ec5dc29426>, line 9)",
     "output_type": "error",
     "traceback": [
      "\u001b[0;36m  File \u001b[0;32m\"<ipython-input-12-60ec5dc29426>\"\u001b[0;36m, line \u001b[0;32m9\u001b[0m\n\u001b[0;31m    self =\u001b[0m\n\u001b[0m           ^\u001b[0m\n\u001b[0;31mSyntaxError\u001b[0m\u001b[0;31m:\u001b[0m invalid syntax\n"
     ]
    }
   ],
   "source": [
    "stream_id=None\n",
    "\n",
    "# From NeoBaseExtractor\n",
    "NeoRawIOClass = 'AxonaRawIO'\n",
    "installed = True\n",
    "is_writable = False\n",
    "\n",
    "neoIOclass = eval('neo.rawio.' + NeoRawIOClass)\n",
    "self = \n",
    "self.neo_reader = neoIOclass(filename=filename)\n",
    "self.neo_reader.parse_header()\n",
    "\n",
    "assert self.neo_reader.block_count() == 1, \\\n",
    "    'This file is neo multi block spikeinterface support one block only dataset'\n",
    "\n",
    "# From NeoBaseRecordingExtractor\n",
    "stream_channels = self.neo_reader.header['signal_streams']\n",
    "stream_ids = stream_channels['id']\n",
    "if stream_id is None:\n",
    "    if stream_channels.size > 1:\n",
    "        raise ValueError(f'This reader have several streams({stream_ids}), specify it with stream_id=')\n",
    "    else:\n",
    "        stream_id = stream_ids[0]\n",
    "else:\n",
    "    assert stream_id in stream_ids, f'stream_id {stream_id} is no in {stream_ids}'\n",
    "\n",
    "self.stream_index = list(stream_ids).index(stream_id)\n",
    "self.stream_id = stream_id\n",
    "\n",
    "# need neo 0.10.0\n",
    "signal_channels = self.neo_reader.header['signal_channels']\n",
    "mask = signal_channels['stream_id'] == stream_id\n",
    "signal_channels = signal_channels[mask]\n",
    "\n",
    "# check channel groups\n",
    "chan_ids = signal_channels['id']\n",
    "raw_dtypes = signal_channels['dtype']\n",
    "\n",
    "sampling_frequency = self.neo_reader.get_signal_sampling_rate(stream_index=self.stream_index)\n",
    "dtype = signal_channels['dtype'][0]\n",
    "BaseRecording.__init__(self, sampling_frequency, chan_ids, dtype)"
   ]
  },
  {
   "cell_type": "code",
   "execution_count": 34,
   "id": "2fd50bff",
   "metadata": {},
   "outputs": [
    {
     "data": {
      "text/plain": [
       "array([('1a', '0', 48000., \"<class 'numpy.in\", 'uV', 1.171875 , 0., '0'),\n",
       "       ('1b', '1', 48000., \"<class 'numpy.in\", 'uV', 1.171875 , 0., '0'),\n",
       "       ('1c', '2', 48000., \"<class 'numpy.in\", 'uV', 1.171875 , 0., '0'),\n",
       "       ('1d', '3', 48000., \"<class 'numpy.in\", 'uV', 1.171875 , 0., '0'),\n",
       "       ('2a', '4', 48000., \"<class 'numpy.in\", 'uV', 0.5859375, 0., '0'),\n",
       "       ('2b', '5', 48000., \"<class 'numpy.in\", 'uV', 0.5859375, 0., '0'),\n",
       "       ('2c', '6', 48000., \"<class 'numpy.in\", 'uV', 0.5859375, 0., '0'),\n",
       "       ('2d', '7', 48000., \"<class 'numpy.in\", 'uV', 0.5859375, 0., '0'),\n",
       "       ('3a', '8', 48000., \"<class 'numpy.in\", 'uV', 0.78125  , 0., '0'),\n",
       "       ('3b', '9', 48000., \"<class 'numpy.in\", 'uV', 0.78125  , 0., '0'),\n",
       "       ('3c', '10', 48000., \"<class 'numpy.in\", 'uV', 0.78125  , 0., '0'),\n",
       "       ('3d', '11', 48000., \"<class 'numpy.in\", 'uV', 0.78125  , 0., '0'),\n",
       "       ('4a', '12', 48000., \"<class 'numpy.in\", 'uV', 0.78125  , 0., '0'),\n",
       "       ('4b', '13', 48000., \"<class 'numpy.in\", 'uV', 0.78125  , 0., '0'),\n",
       "       ('4c', '14', 48000., \"<class 'numpy.in\", 'uV', 0.78125  , 0., '0'),\n",
       "       ('4d', '15', 48000., \"<class 'numpy.in\", 'uV', 0.78125  , 0., '0')],\n",
       "      dtype=[('name', '<U64'), ('id', '<U64'), ('sampling_rate', '<f8'), ('dtype', '<U16'), ('units', '<U64'), ('gain', '<f8'), ('offset', '<f8'), ('stream_id', '<U64')])"
      ]
     },
     "execution_count": 34,
     "metadata": {},
     "output_type": "execute_result"
    }
   ],
   "source": [
    "signal_channels"
   ]
  },
  {
   "cell_type": "code",
   "execution_count": 33,
   "id": "025595e7",
   "metadata": {},
   "outputs": [
    {
     "data": {
      "text/plain": [
       "\"<class 'numpy.in\""
      ]
     },
     "execution_count": 33,
     "metadata": {},
     "output_type": "execute_result"
    }
   ],
   "source": [
    "dtype"
   ]
  },
  {
   "cell_type": "code",
   "execution_count": 17,
   "id": "2910eddc",
   "metadata": {},
   "outputs": [
    {
     "ename": "TypeError",
     "evalue": "data type \"<class 'numpy.in\" not understood",
     "output_type": "error",
     "traceback": [
      "\u001b[0;31m---------------------------------------------------------------------------\u001b[0m",
      "\u001b[0;31mTypeError\u001b[0m                                 Traceback (most recent call last)",
      "\u001b[0;32m<ipython-input-17-9f64d335b62d>\u001b[0m in \u001b[0;36m<module>\u001b[0;34m\u001b[0m\n\u001b[0;32m----> 1\u001b[0;31m \u001b[0mre\u001b[0m \u001b[0;34m=\u001b[0m \u001b[0mAxonaRecordingExtractor\u001b[0m\u001b[0;34m(\u001b[0m\u001b[0mfilename\u001b[0m\u001b[0;34m=\u001b[0m\u001b[0mfilename\u001b[0m\u001b[0;34m)\u001b[0m\u001b[0;34m\u001b[0m\u001b[0;34m\u001b[0m\u001b[0m\n\u001b[0m",
      "\u001b[0;32m~/spikeinterface/spikeinterface_new_api/spikeinterface/spikeinterface/extractors/neoextractors/axona.py\u001b[0m in \u001b[0;36m__init__\u001b[0;34m(self, **kargs)\u001b[0m\n\u001b[1;32m     14\u001b[0m \u001b[0;34m\u001b[0m\u001b[0m\n\u001b[1;32m     15\u001b[0m     \u001b[0;32mdef\u001b[0m \u001b[0m__init__\u001b[0m\u001b[0;34m(\u001b[0m\u001b[0mself\u001b[0m\u001b[0;34m,\u001b[0m \u001b[0;34m**\u001b[0m\u001b[0mkargs\u001b[0m\u001b[0;34m)\u001b[0m\u001b[0;34m:\u001b[0m\u001b[0;34m\u001b[0m\u001b[0;34m\u001b[0m\u001b[0m\n\u001b[0;32m---> 16\u001b[0;31m         \u001b[0msuper\u001b[0m\u001b[0;34m(\u001b[0m\u001b[0;34m)\u001b[0m\u001b[0;34m.\u001b[0m\u001b[0m__init__\u001b[0m\u001b[0;34m(\u001b[0m\u001b[0;34m**\u001b[0m\u001b[0mkargs\u001b[0m\u001b[0;34m)\u001b[0m\u001b[0;34m\u001b[0m\u001b[0;34m\u001b[0m\u001b[0m\n\u001b[0m\u001b[1;32m     17\u001b[0m \u001b[0;34m\u001b[0m\u001b[0m\n\u001b[1;32m     18\u001b[0m         \u001b[0;31m# Read channel groups by tetrode IDs\u001b[0m\u001b[0;34m\u001b[0m\u001b[0;34m\u001b[0m\u001b[0;34m\u001b[0m\u001b[0m\n",
      "\u001b[0;32m~/spikeinterface/spikeinterface_new_api/spikeinterface/spikeinterface/extractors/neoextractors/neobaseextractor.py\u001b[0m in \u001b[0;36m__init__\u001b[0;34m(self, stream_id, **neo_kwargs)\u001b[0m\n\u001b[1;32m     54\u001b[0m         \u001b[0msampling_frequency\u001b[0m \u001b[0;34m=\u001b[0m \u001b[0mself\u001b[0m\u001b[0;34m.\u001b[0m\u001b[0mneo_reader\u001b[0m\u001b[0;34m.\u001b[0m\u001b[0mget_signal_sampling_rate\u001b[0m\u001b[0;34m(\u001b[0m\u001b[0mstream_index\u001b[0m\u001b[0;34m=\u001b[0m\u001b[0mself\u001b[0m\u001b[0;34m.\u001b[0m\u001b[0mstream_index\u001b[0m\u001b[0;34m)\u001b[0m\u001b[0;34m\u001b[0m\u001b[0;34m\u001b[0m\u001b[0m\n\u001b[1;32m     55\u001b[0m         \u001b[0mdtype\u001b[0m \u001b[0;34m=\u001b[0m \u001b[0msignal_channels\u001b[0m\u001b[0;34m[\u001b[0m\u001b[0;34m'dtype'\u001b[0m\u001b[0;34m]\u001b[0m\u001b[0;34m[\u001b[0m\u001b[0;36m0\u001b[0m\u001b[0;34m]\u001b[0m\u001b[0;34m\u001b[0m\u001b[0;34m\u001b[0m\u001b[0m\n\u001b[0;32m---> 56\u001b[0;31m         \u001b[0mBaseRecording\u001b[0m\u001b[0;34m.\u001b[0m\u001b[0m__init__\u001b[0m\u001b[0;34m(\u001b[0m\u001b[0mself\u001b[0m\u001b[0;34m,\u001b[0m \u001b[0msampling_frequency\u001b[0m\u001b[0;34m,\u001b[0m \u001b[0mchan_ids\u001b[0m\u001b[0;34m,\u001b[0m \u001b[0mdtype\u001b[0m\u001b[0;34m)\u001b[0m\u001b[0;34m\u001b[0m\u001b[0;34m\u001b[0m\u001b[0m\n\u001b[0m\u001b[1;32m     57\u001b[0m \u001b[0;34m\u001b[0m\u001b[0m\n\u001b[1;32m     58\u001b[0m         \u001b[0;31m# find the gain to uV\u001b[0m\u001b[0;34m\u001b[0m\u001b[0;34m\u001b[0m\u001b[0;34m\u001b[0m\u001b[0m\n",
      "\u001b[0;32m~/spikeinterface/spikeinterface_new_api/spikeinterface/spikeinterface/core/baserecording.py\u001b[0m in \u001b[0;36m__init__\u001b[0;34m(self, sampling_frequency, channel_ids, dtype)\u001b[0m\n\u001b[1;32m     27\u001b[0m \u001b[0;34m\u001b[0m\u001b[0m\n\u001b[1;32m     28\u001b[0m         \u001b[0mself\u001b[0m\u001b[0;34m.\u001b[0m\u001b[0m_sampling_frequency\u001b[0m \u001b[0;34m=\u001b[0m \u001b[0msampling_frequency\u001b[0m\u001b[0;34m\u001b[0m\u001b[0;34m\u001b[0m\u001b[0m\n\u001b[0;32m---> 29\u001b[0;31m         \u001b[0mself\u001b[0m\u001b[0;34m.\u001b[0m\u001b[0m_dtype\u001b[0m \u001b[0;34m=\u001b[0m \u001b[0mnp\u001b[0m\u001b[0;34m.\u001b[0m\u001b[0mdtype\u001b[0m\u001b[0;34m(\u001b[0m\u001b[0mdtype\u001b[0m\u001b[0;34m)\u001b[0m\u001b[0;34m\u001b[0m\u001b[0;34m\u001b[0m\u001b[0m\n\u001b[0m\u001b[1;32m     30\u001b[0m \u001b[0;34m\u001b[0m\u001b[0m\n\u001b[1;32m     31\u001b[0m         \u001b[0mself\u001b[0m\u001b[0;34m.\u001b[0m\u001b[0m_recording_segments\u001b[0m\u001b[0;34m:\u001b[0m \u001b[0mList\u001b[0m\u001b[0;34m[\u001b[0m\u001b[0mBaseRecordingSegment\u001b[0m\u001b[0;34m]\u001b[0m \u001b[0;34m=\u001b[0m \u001b[0;34m[\u001b[0m\u001b[0;34m]\u001b[0m\u001b[0;34m\u001b[0m\u001b[0;34m\u001b[0m\u001b[0m\n",
      "\u001b[0;31mTypeError\u001b[0m: data type \"<class 'numpy.in\" not understood"
     ]
    }
   ],
   "source": [
    "re = AxonaRecordingExtractor(filename=filename)"
   ]
  },
  {
   "cell_type": "code",
   "execution_count": null,
   "id": "9ae6287c",
   "metadata": {},
   "outputs": [],
   "source": []
  },
  {
   "cell_type": "code",
   "execution_count": 11,
   "id": "applied-circulation",
   "metadata": {},
   "outputs": [
    {
     "ename": "NameError",
     "evalue": "name 'recording' is not defined",
     "output_type": "error",
     "traceback": [
      "\u001b[0;31m---------------------------------------------------------------------------\u001b[0m",
      "\u001b[0;31mNameError\u001b[0m                                 Traceback (most recent call last)",
      "\u001b[0;32m<ipython-input-11-c818b22524b7>\u001b[0m in \u001b[0;36m<module>\u001b[0;34m\u001b[0m\n\u001b[0;32m----> 1\u001b[0;31m \u001b[0mprint\u001b[0m\u001b[0;34m(\u001b[0m\u001b[0;34m'Channel ids = {}'\u001b[0m\u001b[0;34m.\u001b[0m\u001b[0mformat\u001b[0m\u001b[0;34m(\u001b[0m\u001b[0mrecording\u001b[0m\u001b[0;34m.\u001b[0m\u001b[0mget_channel_ids\u001b[0m\u001b[0;34m(\u001b[0m\u001b[0;34m)\u001b[0m\u001b[0;34m)\u001b[0m\u001b[0;34m)\u001b[0m\u001b[0;34m\u001b[0m\u001b[0;34m\u001b[0m\u001b[0m\n\u001b[0m\u001b[1;32m      2\u001b[0m \u001b[0mprint\u001b[0m\u001b[0;34m(\u001b[0m\u001b[0;34m'Num. channels = {}'\u001b[0m\u001b[0;34m.\u001b[0m\u001b[0mformat\u001b[0m\u001b[0;34m(\u001b[0m\u001b[0mlen\u001b[0m\u001b[0;34m(\u001b[0m\u001b[0mrecording\u001b[0m\u001b[0;34m.\u001b[0m\u001b[0mget_channel_ids\u001b[0m\u001b[0;34m(\u001b[0m\u001b[0;34m)\u001b[0m\u001b[0;34m)\u001b[0m\u001b[0;34m)\u001b[0m\u001b[0;34m)\u001b[0m\u001b[0;34m\u001b[0m\u001b[0;34m\u001b[0m\u001b[0m\n\u001b[1;32m      3\u001b[0m \u001b[0mprint\u001b[0m\u001b[0;34m(\u001b[0m\u001b[0;34m'Sampling frequency = {} Hz'\u001b[0m\u001b[0;34m.\u001b[0m\u001b[0mformat\u001b[0m\u001b[0;34m(\u001b[0m\u001b[0mrecording\u001b[0m\u001b[0;34m.\u001b[0m\u001b[0mget_sampling_frequency\u001b[0m\u001b[0;34m(\u001b[0m\u001b[0;34m)\u001b[0m\u001b[0;34m)\u001b[0m\u001b[0;34m)\u001b[0m\u001b[0;34m\u001b[0m\u001b[0;34m\u001b[0m\u001b[0m\n\u001b[1;32m      4\u001b[0m \u001b[0mprint\u001b[0m\u001b[0;34m(\u001b[0m\u001b[0;34m'Num. timepoints = {}'\u001b[0m\u001b[0;34m.\u001b[0m\u001b[0mformat\u001b[0m\u001b[0;34m(\u001b[0m\u001b[0mrecording\u001b[0m\u001b[0;34m.\u001b[0m\u001b[0mget_num_frames\u001b[0m\u001b[0;34m(\u001b[0m\u001b[0;34m)\u001b[0m\u001b[0;34m)\u001b[0m\u001b[0;34m)\u001b[0m\u001b[0;34m\u001b[0m\u001b[0;34m\u001b[0m\u001b[0m\n\u001b[1;32m      5\u001b[0m \u001b[0;31m#print('Stdev. on third channel = {}'.format(np.std(recording.get_traces(channel_ids=2))))\u001b[0m\u001b[0;34m\u001b[0m\u001b[0;34m\u001b[0m\u001b[0;34m\u001b[0m\u001b[0m\n",
      "\u001b[0;31mNameError\u001b[0m: name 'recording' is not defined"
     ]
    }
   ],
   "source": [
    "print('Channel ids = {}'.format(recording.get_channel_ids()))\n",
    "print('Num. channels = {}'.format(len(recording.get_channel_ids())))\n",
    "print('Sampling frequency = {} Hz'.format(recording.get_sampling_frequency()))\n",
    "print('Num. timepoints = {}'.format(recording.get_num_frames()))\n",
    "#print('Stdev. on third channel = {}'.format(np.std(recording.get_traces(channel_ids=2))))\n",
    "print('Location of third electrode = {}'.format(recording.get_channel_property(channel_id=2, property_name='location')))\n",
    "print('Channel groups = {}'.format(recording.get_channel_groups()))"
   ]
  },
  {
   "cell_type": "markdown",
   "id": "maritime-consent",
   "metadata": {},
   "source": [
    "Try to get to `seg_ann['signals'][0]['__array_annotations__']['tetrode_id']`, defined in axonarawio for python-neo"
   ]
  },
  {
   "cell_type": "code",
   "execution_count": null,
   "id": "interim-attendance",
   "metadata": {},
   "outputs": [],
   "source": [
    "from neo import AxonaIO"
   ]
  },
  {
   "cell_type": "code",
   "execution_count": 18,
   "id": "square-nudist",
   "metadata": {},
   "outputs": [],
   "source": [
    "axneo = AxonaIO(filename=filename)"
   ]
  },
  {
   "cell_type": "code",
   "execution_count": 19,
   "id": "disturbed-student",
   "metadata": {},
   "outputs": [
    {
     "data": {
      "text/plain": [
       "array(['1a', '1b', '1c', '1d', '2a', '2b', '2c', '2d', '3a', '3b', '3c',\n",
       "       '3d', '4a', '4b', '4c', '4d'], dtype='<U2')"
      ]
     },
     "execution_count": 19,
     "metadata": {},
     "output_type": "execute_result"
    }
   ],
   "source": [
    "axneo.raw_annotations['blocks'][0]['segments'][0]['signals'][0]['__array_annotations__']['channel_names']"
   ]
  },
  {
   "cell_type": "code",
   "execution_count": 20,
   "id": "facial-reply",
   "metadata": {},
   "outputs": [
    {
     "data": {
      "text/plain": [
       "array(['0', '1', '2', '3', '4', '5', '6', '7', '8', '9', '10', '11', '12',\n",
       "       '13', '14', '15'], dtype='<U2')"
      ]
     },
     "execution_count": 20,
     "metadata": {},
     "output_type": "execute_result"
    }
   ],
   "source": [
    "axneo.raw_annotations['blocks'][0]['segments'][0]['signals'][0]['__array_annotations__']['channel_ids']"
   ]
  },
  {
   "cell_type": "code",
   "execution_count": 21,
   "id": "valid-happiness",
   "metadata": {},
   "outputs": [
    {
     "data": {
      "text/plain": [
       "{'blocks': [{'file_origin': '../../freelance-work/catalyst-neuro/hussaini-lab-to-nwb/example_data_raw/20201004_Raw.set',\n",
       "   'segments': [{'file_origin': '../../freelance-work/catalyst-neuro/hussaini-lab-to-nwb/example_data_raw/20201004_Raw.set',\n",
       "     'signals': [{'name': 'stream 0',\n",
       "       'stream_id': '0',\n",
       "       'file_origin': '../../freelance-work/catalyst-neuro/hussaini-lab-to-nwb/example_data_raw/20201004_Raw.set',\n",
       "       '__array_annotations__': {'channel_names': array(['1a', '1b', '1c', '1d', '2a', '2b', '2c', '2d', '3a', '3b', '3c',\n",
       "               '3d', '4a', '4b', '4c', '4d'], dtype='<U2'),\n",
       "        'channel_ids': array(['0', '1', '2', '3', '4', '5', '6', '7', '8', '9', '10', '11', '12',\n",
       "               '13', '14', '15'], dtype='<U2'),\n",
       "        'tetrode_id': [1, 1, 1, 1, 2, 2, 2, 2, 3, 3, 3, 3, 4, 4, 4, 4]}}],\n",
       "     'spikes': [],\n",
       "     'events': [],\n",
       "     'rec_datetime': datetime.datetime(2020, 10, 4, 11, 7, 7)}]}]}"
      ]
     },
     "execution_count": 21,
     "metadata": {},
     "output_type": "execute_result"
    }
   ],
   "source": [
    "axneo.raw_annotations"
   ]
  },
  {
   "cell_type": "code",
   "execution_count": 22,
   "id": "chemical-kernel",
   "metadata": {},
   "outputs": [
    {
     "data": {
      "text/plain": [
       "\"\\nfrom spikeextractors.extractors.neoextractors.neobaseextractor import NeoBaseRecordingExtractor\\n\\ntry:\\n    import neo\\n\\n    HAVE_NEO = True\\nexcept ImportError:\\n    HAVE_NEO = False\\n\\n\\nclass AxonaRecordingExtractor(NeoBaseRecordingExtractor):\\n    extractor_name = 'AxonaRecording'\\n    mode = 'file'\\n    NeoRawIOClass = 'AxonaRawIO'\\n\\n    def __init__(self, **kargs):\\n        NeoBaseRecordingExtractor.__init__(self, **kargs)\\n        \\n        # Read channel groups by tetrode IDs\\n        self._key_properties['group'] = self.neo_reader.            raw_annotations['blocks'][0]['segments'][0]['signals']                           [0]['__array_annotations__']['tetrode_id']\\n\\n        # Enforce 0-based indexing in spikeextractors\\n        self._key_properties['group'] = [el-1 for el in self._key_properties['group']]\\n        self._channel_ids = [el-1 for el in self._channel_ids]\\n\\n        header_channels = self.neo_reader.header['signal_channels'][slice(None)]\\n\\n        gains = header_channels['gain'] * self.additional_gain[0]\\n        self.set_channel_gains(gains=gains, channel_ids=self._channel_ids)\\n\\n        names = header_channels['name']\\n        for i, ind in enumerate(self._channel_ids):\\n            self.set_channel_property(channel_id=ind, property_name='name', value=names[i])\\n\""
      ]
     },
     "execution_count": 22,
     "metadata": {},
     "output_type": "execute_result"
    }
   ],
   "source": [
    "'''\n",
    "from spikeextractors.extractors.neoextractors.neobaseextractor import NeoBaseRecordingExtractor\n",
    "\n",
    "try:\n",
    "    import neo\n",
    "\n",
    "    HAVE_NEO = True\n",
    "except ImportError:\n",
    "    HAVE_NEO = False\n",
    "\n",
    "\n",
    "class AxonaRecordingExtractor(NeoBaseRecordingExtractor):\n",
    "    extractor_name = 'AxonaRecording'\n",
    "    mode = 'file'\n",
    "    NeoRawIOClass = 'AxonaRawIO'\n",
    "\n",
    "    def __init__(self, **kargs):\n",
    "        NeoBaseRecordingExtractor.__init__(self, **kargs)\n",
    "        \n",
    "        # Read channel groups by tetrode IDs\n",
    "        self._key_properties['group'] = self.neo_reader.\\\n",
    "            raw_annotations['blocks'][0]['segments'][0]['signals']\\\n",
    "                           [0]['__array_annotations__']['tetrode_id']\n",
    "\n",
    "        # Enforce 0-based indexing in spikeextractors\n",
    "        self._key_properties['group'] = [el-1 for el in self._key_properties['group']]\n",
    "        self._channel_ids = [el-1 for el in self._channel_ids]\n",
    "\n",
    "        header_channels = self.neo_reader.header['signal_channels'][slice(None)]\n",
    "\n",
    "        gains = header_channels['gain'] * self.additional_gain[0]\n",
    "        self.set_channel_gains(gains=gains, channel_ids=self._channel_ids)\n",
    "\n",
    "        names = header_channels['name']\n",
    "        for i, ind in enumerate(self._channel_ids):\n",
    "            self.set_channel_property(channel_id=ind, property_name='name', value=names[i])\n",
    "'''"
   ]
  },
  {
   "cell_type": "code",
   "execution_count": 23,
   "id": "dietary-shirt",
   "metadata": {},
   "outputs": [],
   "source": [
    "axore = AxonaRecordingExtractor(filename=filename)"
   ]
  },
  {
   "cell_type": "code",
   "execution_count": 24,
   "id": "impaired-digest",
   "metadata": {},
   "outputs": [
    {
     "data": {
      "text/plain": [
       "<spikeextractors.extractors.neoextractors.axonaextractor.AxonaRecordingExtractor at 0x7f5f697c65e0>"
      ]
     },
     "execution_count": 24,
     "metadata": {},
     "output_type": "execute_result"
    }
   ],
   "source": [
    "axore"
   ]
  },
  {
   "cell_type": "code",
   "execution_count": 25,
   "id": "mediterranean-mercy",
   "metadata": {},
   "outputs": [],
   "source": [
    "recording = axore"
   ]
  },
  {
   "cell_type": "code",
   "execution_count": 26,
   "id": "suspected-history",
   "metadata": {},
   "outputs": [
    {
     "data": {
      "text/plain": [
       "[0, 1, 2, 3, 4, 5, 6, 7, 8, 9, 10, 11, 12, 13, 14, 15]"
      ]
     },
     "execution_count": 26,
     "metadata": {},
     "output_type": "execute_result"
    }
   ],
   "source": [
    "axore.get_channel_ids()"
   ]
  },
  {
   "cell_type": "code",
   "execution_count": 27,
   "id": "attached-chicago",
   "metadata": {},
   "outputs": [
    {
     "data": {
      "text/plain": [
       "['gain', 'group', 'name', 'offset']"
      ]
     },
     "execution_count": 27,
     "metadata": {},
     "output_type": "execute_result"
    }
   ],
   "source": [
    "recording.get_channel_property_names(channel_id = 0)"
   ]
  },
  {
   "cell_type": "code",
   "execution_count": 28,
   "id": "designing-general",
   "metadata": {},
   "outputs": [
    {
     "data": {
      "text/plain": [
       "'1c'"
      ]
     },
     "execution_count": 28,
     "metadata": {},
     "output_type": "execute_result"
    }
   ],
   "source": [
    "recording.get_channel_property(channel_id=2, property_name='name')"
   ]
  },
  {
   "cell_type": "code",
   "execution_count": 29,
   "id": "funny-chart",
   "metadata": {},
   "outputs": [
    {
     "name": "stdout",
     "output_type": "stream",
     "text": [
      "Channel groups: [0 0 0 0 1 1 1 1 2 2 2 2 3 3 3 3]\n"
     ]
    }
   ],
   "source": [
    "print('Channel groups:', recording.get_channel_groups())"
   ]
  },
  {
   "cell_type": "code",
   "execution_count": 30,
   "id": "guilty-programming",
   "metadata": {},
   "outputs": [
    {
     "name": "stdout",
     "output_type": "stream",
     "text": [
      "Channel ids = [0, 1, 2, 3, 4, 5, 6, 7, 8, 9, 10, 11, 12, 13, 14, 15]\n",
      "Num. channels = 16\n",
      "Sampling frequency = 48000.0 Hz\n",
      "Num. timepoints = 28800300\n",
      "Location of third electrode = [nan nan]\n"
     ]
    }
   ],
   "source": [
    "print('Channel ids = {}'.format(recording.get_channel_ids()))\n",
    "print('Num. channels = {}'.format(len(recording.get_channel_ids())))\n",
    "print('Sampling frequency = {} Hz'.format(recording.get_sampling_frequency()))\n",
    "print('Num. timepoints = {}'.format(recording.get_num_frames()))\n",
    "#print('Stdev. on third channel = {}'.format(np.std(recording.get_traces(channel_ids=2))))\n",
    "print('Location of third electrode = {}'.format(recording.get_channel_property(channel_id=2, property_name='location')))"
   ]
  },
  {
   "cell_type": "code",
   "execution_count": 5,
   "id": "exciting-broadcast",
   "metadata": {},
   "outputs": [],
   "source": [
    "from pathlib import Path"
   ]
  },
  {
   "cell_type": "code",
   "execution_count": 32,
   "id": "christian-subdivision",
   "metadata": {},
   "outputs": [
    {
     "name": "stdout",
     "output_type": "stream",
     "text": [
      "../../freelance-work/catalyst-neuro/hussaini-lab-to-nwb/example_data_raw/20201004_Raw.set\n"
     ]
    }
   ],
   "source": [
    "print(os.path.join(dir_name, base_filename))"
   ]
  },
  {
   "cell_type": "code",
   "execution_count": 33,
   "id": "surface-porter",
   "metadata": {},
   "outputs": [
    {
     "data": {
      "text/plain": [
       "'20201004_Raw'"
      ]
     },
     "execution_count": 33,
     "metadata": {},
     "output_type": "execute_result"
    }
   ],
   "source": [
    "Path(os.path.join(dir_name, base_filename)).stem"
   ]
  },
  {
   "cell_type": "code",
   "execution_count": null,
   "id": "grave-simpson",
   "metadata": {},
   "outputs": [],
   "source": [
    "print(set_params['pretrigSamps'])\n",
    "print(set_params['spikeLockout'])"
   ]
  },
  {
   "cell_type": "code",
   "execution_count": 34,
   "id": "running-springfield",
   "metadata": {},
   "outputs": [
    {
     "ename": "NameError",
     "evalue": "name 'se' is not defined",
     "output_type": "error",
     "traceback": [
      "\u001b[0;31m---------------------------------------------------------------------------\u001b[0m",
      "\u001b[0;31mNameError\u001b[0m                                 Traceback (most recent call last)",
      "\u001b[0;32m<ipython-input-34-b9d7bb16672c>\u001b[0m in \u001b[0;36m<module>\u001b[0;34m\u001b[0m\n\u001b[0;32m----> 1\u001b[0;31m \u001b[0mse\u001b[0m\u001b[0;34m.\u001b[0m\u001b[0mAxonaRecordingExtractor\u001b[0m\u001b[0;34m.\u001b[0m\u001b[0m__name__\u001b[0m\u001b[0;34m\u001b[0m\u001b[0;34m\u001b[0m\u001b[0m\n\u001b[0m",
      "\u001b[0;31mNameError\u001b[0m: name 'se' is not defined"
     ]
    }
   ],
   "source": [
    "se.AxonaRecordingExtractor.__name__"
   ]
  },
  {
   "cell_type": "markdown",
   "id": "mechanical-serial",
   "metadata": {},
   "source": [
    "# Try axonaunitextractor (written by Alessio)"
   ]
  },
  {
   "cell_type": "code",
   "execution_count": 35,
   "id": "sustainable-delhi",
   "metadata": {},
   "outputs": [
    {
     "name": "stdout",
     "output_type": "stream",
     "text": [
      "../../freelance-work/catalyst-neuro/hussaini-lab-to-nwb/Axona_Tint_1ms/20201004_Tint\n"
     ]
    }
   ],
   "source": [
    "# mini sample data\n",
    "unit_dir_name = r'../../freelance-work/catalyst-neuro/hussaini-lab-to-nwb/example_data_units/Axona_Unit_Mode_SmallFile'\n",
    "unit_base_filename = '20140815-180secs'\n",
    "unit_filename = os.path.join(unit_dir_name, unit_base_filename)\n",
    "\n",
    "# 1ms sample data\n",
    "unit_dir_name = r'../../freelance-work/catalyst-neuro/hussaini-lab-to-nwb/Axona_Tint_1ms'\n",
    "unit_base_filename = '20201004_Tint'\n",
    "unit_filename = os.path.join(unit_dir_name, unit_base_filename)\n",
    "\n",
    "print(unit_filename)"
   ]
  },
  {
   "cell_type": "code",
   "execution_count": 7,
   "id": "empirical-saying",
   "metadata": {},
   "outputs": [],
   "source": [
    "## Version from axonaunitrecordingextractor 11/05/21\n",
    "\n",
    "from spikeextractors.extraction_tools import check_get_traces_args\n",
    "from spikeextractors import RecordingExtractor\n",
    "from pathlib import Path\n",
    "import numpy as np\n",
    "from typing import Union\n",
    "\n",
    "PathType = Union[Path, str]\n",
    "\n",
    "\n",
    "try:\n",
    "    import pyxona\n",
    "    HAVE_PYXONA = True\n",
    "except ImportError:\n",
    "    HAVE_PYXONA = False\n",
    "\n",
    "\n",
    "class AxonaUnitRecordingExtractor(RecordingExtractor):\n",
    "    \"\"\"\n",
    "    Instantiates a RecordinExtractor from an Axon Unit mode file.\n",
    "\n",
    "    Since the unit mode format only saves waveforms cutouts, the get_traces function fills in the rest of the\n",
    "    recording with Gaussian uncorrelated noise\n",
    "\n",
    "    Parameters\n",
    "    ----------\n",
    "\n",
    "    file_path: Path type\n",
    "        The file path to the .set file\n",
    "    noise_std: float\n",
    "        Standard deviation of the Gaussian background noise\n",
    "    \"\"\"\n",
    "    extractor_name = 'AxonaUnitRecording'\n",
    "    has_default_locations = False\n",
    "    has_unscaled = False\n",
    "    installed = HAVE_PYXONA  # check at class level if installed or not\n",
    "    is_writable = False\n",
    "    mode = 'file'\n",
    "    installation_mesg = \"To use the AxonaUnitRecordingExtractor install pyxona: \\n\\n pip install pyxona\\n\\n\"\n",
    "\n",
    "    def __init__(self, file_path: PathType, noise_std: float = 3):\n",
    "        RecordingExtractor.__init__(self)\n",
    "        self._fileobj = pyxona.File(str(file_path))\n",
    "\n",
    "        channel_ids = []\n",
    "        channel_groups = []\n",
    "        spike_trains = []\n",
    "        channel_indexes = []\n",
    "        waveforms = []\n",
    "        for i, chan_grp in enumerate(self._fileobj.channel_groups):\n",
    "            sample_rate = chan_grp.spike_train.sample_rate.magnitude\n",
    "            if i == 0:\n",
    "                self._fs = sample_rate\n",
    "            spike_trains.append(np.array(chan_grp.spike_train.times.magnitude * sample_rate).astype(int))\n",
    "            waveforms.append(chan_grp.spike_train.waveforms)\n",
    "            channel_indexes.append([ch.index for ch in chan_grp.channels])\n",
    "            for ch in chan_grp.channels:\n",
    "                channel_ids.append(ch.index)\n",
    "                channel_groups.append(chan_grp.channel_group_id)\n",
    "\n",
    "        self._waveforms = waveforms\n",
    "        self._spike_trains = spike_trains\n",
    "        self._channel_indexes = channel_indexes\n",
    "        self._channel_ids = channel_ids\n",
    "\n",
    "        self._num_frames = int((self._fileobj._duration.magnitude * sample_rate))\n",
    "\n",
    "        self._noise_std = noise_std\n",
    "\n",
    "        # set groups\n",
    "        self.set_channel_groups(channel_groups)\n",
    "\n",
    "        self._kwargs = {'file_path': Path(file_path).absolute(), 'noise_std': noise_std}\n",
    "\n",
    "    def get_channel_ids(self):\n",
    "        return self._channel_ids\n",
    "\n",
    "    def get_sampling_frequency(self):\n",
    "        return self._fs\n",
    "\n",
    "    def get_num_frames(self):\n",
    "        return self._num_frames\n",
    "\n",
    "    @check_get_traces_args\n",
    "    def get_traces(self, channel_ids=None, start_frame=None, end_frame=None, return_scaled=True):\n",
    "        num_frames_traces = end_frame - start_frame\n",
    "        traces = self._noise_std * np.random.randn(len(channel_ids), num_frames_traces)\n",
    "\n",
    "        channel_idxs = [self.get_channel_ids().index(ch) for ch in channel_ids]\n",
    "\n",
    "        for (chan_idxs, spike_train, waveform) in zip(self._channel_indexes, self._spike_trains, self._waveforms):\n",
    "            spike_times_idxs = np.where((spike_train > start_frame) & (spike_train <= end_frame))\n",
    "            spike_times_i = spike_train[spike_times_idxs]\n",
    "\n",
    "            waveforms_i = waveform[spike_times_idxs]\n",
    "            wf_samples = waveforms_i.shape[2]\n",
    "\n",
    "            for t, wf in zip(spike_times_i, waveforms_i):\n",
    "                t = t - start_frame\n",
    "\n",
    "                if t - wf_samples // 2 < 0:\n",
    "                    traces[chan_idxs, :t + wf_samples // 2] = wf[:, wf_samples // 2 - t:]\n",
    "                elif t + wf_samples // 2 > num_frames_traces:\n",
    "                    traces[chan_idxs, t - wf_samples // 2:] = wf[:, :num_frames_traces - (t + wf_samples // 2)]\n",
    "                else:\n",
    "                    traces[chan_idxs, t - wf_samples // 2:t + wf_samples // 2] = wf\n",
    "        return traces[channel_idxs]\n"
   ]
  },
  {
   "cell_type": "code",
   "execution_count": 314,
   "id": "recovered-bishop",
   "metadata": {},
   "outputs": [],
   "source": [
    "from spikeextractors.extraction_tools import check_get_traces_args\n",
    "from spikeextractors import RecordingExtractor\n",
    "from pathlib import Path\n",
    "import numpy as np\n",
    "from typing import Union\n",
    "\n",
    "PathType = Union[Path, str]\n",
    "\n",
    "\n",
    "try:\n",
    "    import pyxona\n",
    "    HAVE_PYXONA = True\n",
    "except ImportError:\n",
    "    HAVE_PYXONA = False\n",
    "\n",
    "\n",
    "class AxonaUnitRecordingExtractor(RecordingExtractor):\n",
    "    \"\"\"\n",
    "    Instantiates a RecordinExtractor from an Axon Unit mode file.\n",
    "\n",
    "    Since the unit mode format only saves waveforms cutouts, the get_traces function fills in the rest of the\n",
    "    recording with Gaussian uncorrelated noise\n",
    "\n",
    "    Parameters\n",
    "    ----------\n",
    "\n",
    "    file_path: Path type\n",
    "        The file path to the .set file\n",
    "    noise_std: float\n",
    "        Standard deviation of the Gaussian background noise\n",
    "    \"\"\"\n",
    "    extractor_name = 'AxonaUnitRecording'\n",
    "    has_default_locations = False\n",
    "    has_unscaled = False\n",
    "    installed = HAVE_PYXONA  # check at class level if installed or not\n",
    "    is_writable = False\n",
    "    mode = 'file'\n",
    "    installation_mesg = \"To use the AxonaUnitRecordingExtractor install pyxona: \\n\\n pip install pyxona\\n\\n\"\n",
    "\n",
    "    def __init__(self, file_path: PathType, noise_std: float = 3):\n",
    "        RecordingExtractor.__init__(self)\n",
    "        self._fileobj = pyxona.File(str(file_path))\n",
    "\n",
    "        channel_ids = []\n",
    "        channel_groups = []\n",
    "        spike_trains = []\n",
    "        channel_indexes = []\n",
    "        waveforms = []\n",
    "        for i, chan_grp in enumerate(self._fileobj.channel_groups):\n",
    "            sample_rate = chan_grp.spike_train.sample_rate.magnitude\n",
    "            if i == 0:\n",
    "                self._fs = sample_rate\n",
    "            spike_trains.append(np.array(chan_grp.spike_train.times.magnitude * sample_rate).astype(int))\n",
    "            waveforms.append(chan_grp.spike_train.waveforms)\n",
    "            channel_indexes.append([ch.index for ch in chan_grp.channels])\n",
    "            for ch in chan_grp.channels:\n",
    "                channel_ids.append(ch.index)\n",
    "                channel_groups.append(chan_grp.channel_group_id)\n",
    "\n",
    "        self._waveforms = waveforms\n",
    "        self._spike_trains = spike_trains\n",
    "        self._channel_indexes = channel_indexes\n",
    "        self._channel_ids = channel_ids\n",
    "\n",
    "        self._num_frames = int((self._fileobj._duration.magnitude * sample_rate))\n",
    "\n",
    "        self._noise_std = noise_std\n",
    "\n",
    "        # set groups\n",
    "        self.set_channel_groups(channel_groups)\n",
    "\n",
    "        self._kwargs = {'file_path': Path(file_path).absolute(), 'noise_std': noise_std}\n",
    "\n",
    "    def get_channel_ids(self):\n",
    "        return self._channel_ids\n",
    "\n",
    "    def get_sampling_frequency(self):\n",
    "        return self._fs\n",
    "\n",
    "    def get_num_frames(self):\n",
    "        return self._num_frames\n",
    "\n",
    "    @check_get_traces_args\n",
    "    def get_traces(self, channel_ids=None, start_frame=None, end_frame=None, return_scaled=True):\n",
    "        \n",
    "        num_frames_traces = end_frame - start_frame\n",
    "        traces = unit._noise_std * np.random.randn(len(channel_ids), num_frames_traces)\n",
    "\n",
    "        channel_idxs = [unit.get_channel_ids().index(ch) for ch in channel_ids]\n",
    "\n",
    "        itrc = 0\n",
    "        for (chan_idxs, spike_train, waveform) in zip(unit._channel_indexes, unit._spike_trains, unit._waveforms):\n",
    "\n",
    "            # Find channels on tetrode to include and their indices\n",
    "            chan_sublist = list(set(channel_idxs) & set(chan_idxs))\n",
    "            chan_sublist_idxs = [i for i, val in enumerate(chan_idxs) if val in chan_sublist]\n",
    "            nch = len(chan_sublist_idxs)\n",
    "\n",
    "            spike_times_idxs = np.where((spike_train > start_frame) & (spike_train <= end_frame))\n",
    "            spike_times_i = spike_train[spike_times_idxs]  # spike_train is in samples (so spike_times_i is too)\n",
    "\n",
    "            waveforms_i = waveform[spike_times_idxs]\n",
    "            wf_samples = waveforms_i.shape[2]\n",
    "\n",
    "            if chan_sublist:\n",
    "\n",
    "                for t, wf in zip(spike_times_i, waveforms_i):\n",
    "\n",
    "                    t = t - start_frame\n",
    "\n",
    "                    if t - wf_samples // 2 < 0:\n",
    "                        traces[itrc:itrc+nch, :t + wf_samples // 2] = \\\n",
    "                            wf[chan_sublist_idxs, wf_samples // 2 - t:]\n",
    "                    elif t + wf_samples // 2 > num_frames_traces:\n",
    "                        traces[itrc:itrc+nch, t - wf_samples // 2:] = \\\n",
    "                            wf[chan_sublist_idxs, :num_frames_traces - (t + wf_samples // 2)]\n",
    "                    else:\n",
    "                        traces[itrc:itrc+nch, t - wf_samples // 2:t + wf_samples // 2] = \\\n",
    "                            wf[chan_sublist_idxs, :]\n",
    "\n",
    "                itrc += nch\n",
    "                \n",
    "        return traces"
   ]
  },
  {
   "cell_type": "code",
   "execution_count": 315,
   "id": "endangered-saturday",
   "metadata": {},
   "outputs": [
    {
     "data": {
      "text/plain": [
       "'../../freelance-work/catalyst-neuro/hussaini-lab-to-nwb/sample_bin_to_tint/axona_sample.set'"
      ]
     },
     "execution_count": 315,
     "metadata": {},
     "output_type": "execute_result"
    }
   ],
   "source": [
    "filename"
   ]
  },
  {
   "cell_type": "code",
   "execution_count": 316,
   "id": "patient-prototype",
   "metadata": {},
   "outputs": [],
   "source": [
    "re_pyxona = AxonaUnitRecordingExtractor(file_path=filename)"
   ]
  },
  {
   "cell_type": "markdown",
   "id": "color-motion",
   "metadata": {},
   "source": [
    "## Re-write `AxonaUnitRecordingExtractor` using `axonarawio.py`"
   ]
  },
  {
   "cell_type": "markdown",
   "id": "theoretical-handle",
   "metadata": {},
   "source": [
    "Use `.set` filename from folder that includes both raw (`.bin`) and Unit data (`.X`)"
   ]
  },
  {
   "cell_type": "code",
   "execution_count": 7,
   "id": "d40ea6f6",
   "metadata": {},
   "outputs": [],
   "source": [
    "from spikeextractors.extraction_tools import check_get_traces_args\n",
    "from spikeextractors.extractors.neoextractors.neobaseextractor import NeoBaseRecordingExtractor\n",
    "from pathlib import Path\n",
    "import numpy as np\n",
    "from typing import Union\n",
    "\n",
    "PathType = Union[Path, str]\n",
    "\n",
    "try:\n",
    "    import neo\n",
    "    HAVE_NEO = True\n",
    "except ImportError:\n",
    "    HAVE_NEO = False\n",
    "\n",
    "\n",
    "class AxonaUnitRecordingExtractor(NeoBaseRecordingExtractor):\n",
    "    \"\"\"\n",
    "    Instantiates a RecordinExtractor from an Axon Unit mode file.\n",
    "\n",
    "    Since the unit mode format only saves waveform cutouts, the get_traces\n",
    "    function fills in the rest of the recording with Gaussian uncorrelated\n",
    "    noise\n",
    "\n",
    "    Parameters\n",
    "    ----------\n",
    "\n",
    "    noise_std: float\n",
    "        Standard deviation of the Gaussian background noise\n",
    "    \"\"\"\n",
    "    extractor_name = 'AxonaUnitRecording'\n",
    "    mode = 'file'\n",
    "    NeoRawIOClass = 'AxonaRawIO'\n",
    "\n",
    "    def __init__(self, noise_std: float = 3, block_index=None, seg_index=None, **kargs):\n",
    "        super().__init__(block_index=block_index, seg_index=seg_index, **kargs)\n",
    "        self._noise_std = noise_std\n",
    "\n",
    "    @check_get_traces_args\n",
    "    def get_traces(self, channel_ids=None, start_frame=None, end_frame=None, return_scaled=True):\n",
    "\n",
    "        timebase_sr = int(self.neo_reader.file_parameters['unit']['timebase'].split(' ')[0])\n",
    "        samples_pre = int(self.neo_reader.file_parameters['set']['file_header']['pretrigSamps'])\n",
    "        samples_post = int(self.neo_reader.file_parameters['set']['file_header']['spikeLockout'])\n",
    "\n",
    "        tcmap = self._get_tetrode_channel_table(channel_ids)\n",
    "\n",
    "        traces = self._noise_std * np.random.randn(len(channel_ids), end_frame - start_frame)\n",
    "\n",
    "        # Loop through tetrodes and include requested channels in traces\n",
    "        itrc = 0\n",
    "        for tetrode_id in np.unique(tcmap[:, 0]):\n",
    "\n",
    "            channels_oi = tcmap[tcmap[:, 0] == tetrode_id, 2]\n",
    "\n",
    "            waveforms = self.neo_reader._get_spike_raw_waveforms(\n",
    "                block_index=0, seg_index=0,\n",
    "                unit_index=tetrode_id - 1,  # Tetrodes IDs are 1-indexed\n",
    "                t_start=start_frame / timebase_sr,\n",
    "                t_stop=end_frame / timebase_sr\n",
    "            )\n",
    "            waveforms = waveforms[:, channels_oi, :]\n",
    "            nch = len(channels_oi)\n",
    "\n",
    "            spike_train = self.neo_reader._get_spike_timestamps(\n",
    "                block_index=0, seg_index=0,\n",
    "                unit_index=tetrode_id - 1,\n",
    "                t_start=start_frame / timebase_sr,\n",
    "                t_stop=end_frame / timebase_sr\n",
    "            )\n",
    "\n",
    "            # Fill waveforms into traces timestamp by timestamp\n",
    "            for t, wf in zip(spike_train, waveforms):\n",
    "\n",
    "                t = t - start_frame\n",
    "                if t - samples_pre < 0:\n",
    "                    traces[itrc:itrc + nch, :t + samples_post] = wf[:, samples_pre - t:]\n",
    "                elif t + samples_post > traces.shape[1]:\n",
    "                    traces[itrc:itrc + nch, t - samples_pre:] = wf[:, :traces.shape[1] - (t - samples_pre)]\n",
    "                else:\n",
    "                    traces[itrc:itrc + nch, t - samples_pre:t + samples_post] = wf\n",
    "\n",
    "            itrc += nch\n",
    "\n",
    "        return traces\n",
    "\n",
    "    def get_num_frames(self):\n",
    "        n = self.neo_reader.get_signal_size(self.block_index, self.seg_index, stream_index=0)\n",
    "        if self.get_sampling_frequency() == 24000:\n",
    "            n = n // 2\n",
    "        return n\n",
    "\n",
    "    def get_sampling_frequency(self):\n",
    "        return int(self.neo_reader.file_parameters[\n",
    "            'unit']['sample_rate'].split(' ')[0])\n",
    "\n",
    "    def get_channel_ids(self):\n",
    "        return self._channel_ids\n",
    "\n",
    "    def _get_tetrode_channel_table(self, channel_ids):\n",
    "        '''Create auxiliary np.array with the following columns:\n",
    "        Tetrode ID, Channel ID, Channel ID within tetrode\n",
    "        This is useful in `get_traces()`\n",
    "\n",
    "        Parameters\n",
    "        ----------\n",
    "        channel_ids : list\n",
    "            List of channel ids to include in table\n",
    "\n",
    "        Returns\n",
    "        -------\n",
    "        np.array\n",
    "            Rows = channels,\n",
    "            columns = TetrodeID, ChannelID, ChannelID within Tetrode\n",
    "        '''\n",
    "        active_tetrodes = self.neo_reader.get_active_tetrode()\n",
    "\n",
    "        tcmap = np.zeros((len(active_tetrodes) * 4, 3), dtype=int)\n",
    "        row_id = 0\n",
    "        for tetrode_id in [int(s[0].split(' ')[1]) for s in self.neo_reader.header['spike_channels']]:\n",
    "\n",
    "            all_channel_ids = self.neo_reader._get_channel_from_tetrode(tetrode_id)\n",
    "\n",
    "            for i in range(4):\n",
    "                tcmap[row_id, 0] = int(tetrode_id)\n",
    "                tcmap[row_id, 1] = int(all_channel_ids[i])\n",
    "                tcmap[row_id, 2] = int(i)\n",
    "                row_id += 1\n",
    "\n",
    "        del_idx = [False if i in channel_ids else True for i in tcmap[:, 1]]\n",
    "\n",
    "        return np.delete(tcmap, del_idx, axis=0)\n"
   ]
  },
  {
   "cell_type": "code",
   "execution_count": 12,
   "id": "desperate-minority",
   "metadata": {},
   "outputs": [],
   "source": [
    "import os\n",
    "\n",
    "dir_name = r'/mnt/d/freelance-work/catalyst-neuro/hussaini-lab-to-nwb/sample_bin_to_tint'\n",
    "base_filename = 'axona_sample.set'\n",
    "filename = os.path.join(dir_name, base_filename)"
   ]
  },
  {
   "cell_type": "code",
   "execution_count": 10,
   "id": "straight-hypothetical",
   "metadata": {},
   "outputs": [],
   "source": [
    "import numpy as np"
   ]
  },
  {
   "cell_type": "code",
   "execution_count": 6,
   "id": "frank-burton",
   "metadata": {},
   "outputs": [
    {
     "ename": "ImportError",
     "evalue": "cannot import name 'AxonaUnitRecordingExtractor' from 'spikeextractors.extractors.axonaunitrecordingextractor' (unknown location)",
     "output_type": "error",
     "traceback": [
      "\u001b[0;31m---------------------------------------------------------------------------\u001b[0m",
      "\u001b[0;31mImportError\u001b[0m                               Traceback (most recent call last)",
      "\u001b[0;32m<ipython-input-6-9094e8f1902b>\u001b[0m in \u001b[0;36m<module>\u001b[0;34m\u001b[0m\n\u001b[0;32m----> 1\u001b[0;31m \u001b[0;32mfrom\u001b[0m \u001b[0mspikeextractors\u001b[0m\u001b[0;34m.\u001b[0m\u001b[0mextractors\u001b[0m\u001b[0;34m.\u001b[0m\u001b[0maxonaunitrecordingextractor\u001b[0m \u001b[0;32mimport\u001b[0m \u001b[0mAxonaUnitRecordingExtractor\u001b[0m\u001b[0;34m\u001b[0m\u001b[0;34m\u001b[0m\u001b[0m\n\u001b[0m",
      "\u001b[0;31mImportError\u001b[0m: cannot import name 'AxonaUnitRecordingExtractor' from 'spikeextractors.extractors.axonaunitrecordingextractor' (unknown location)"
     ]
    }
   ],
   "source": [
    "from spikeextractors.extractors.axonaunitrecordingextractor import AxonaUnitRecordingExtractor"
   ]
  },
  {
   "cell_type": "code",
   "execution_count": 13,
   "id": "virgin-hobby",
   "metadata": {},
   "outputs": [],
   "source": [
    "unit = AxonaUnitRecordingExtractor(filename=filename)"
   ]
  },
  {
   "cell_type": "code",
   "execution_count": 14,
   "id": "liberal-horror",
   "metadata": {},
   "outputs": [
    {
     "data": {
      "text/plain": [
       "array([[-2.9045954 , -4.386962  , -3.7096627 , ..., -7.084079  ,\n",
       "        -0.01082671, -4.6544185 ],\n",
       "       [ 0.74532306, -8.229045  ,  0.18542379, ...,  0.57897466,\n",
       "         1.5628768 ,  0.54473233],\n",
       "       [-4.443182  ,  5.5561256 ,  1.4640304 , ...,  4.600341  ,\n",
       "         3.0821953 , -2.9983215 ],\n",
       "       ...,\n",
       "       [ 4.601186  ,  3.550506  ,  2.9889307 , ...,  0.13638465,\n",
       "        -3.9738827 ,  3.1218581 ],\n",
       "       [ 0.24519353,  1.42593   , -0.6546724 , ...,  1.7056534 ,\n",
       "         1.1232183 ,  1.4461123 ],\n",
       "       [-0.82465243,  1.6235102 , -3.4857855 , ..., -2.7414725 ,\n",
       "        -3.8551557 , -2.8063977 ]], dtype=float32)"
      ]
     },
     "execution_count": 14,
     "metadata": {},
     "output_type": "execute_result"
    }
   ],
   "source": [
    "unit.get_traces()"
   ]
  },
  {
   "cell_type": "code",
   "execution_count": null,
   "id": "welcome-elder",
   "metadata": {},
   "outputs": [],
   "source": [
    "# Add tests here!"
   ]
  },
  {
   "cell_type": "code",
   "execution_count": null,
   "id": "guided-difference",
   "metadata": {},
   "outputs": [],
   "source": [
    "# ...."
   ]
  },
  {
   "cell_type": "code",
   "execution_count": 20,
   "id": "fossil-participant",
   "metadata": {},
   "outputs": [
    {
     "name": "stdout",
     "output_type": "stream",
     "text": [
      "Waveforms:\n",
      " [  0  -5 -17 -30 -38 -35 -22  -4   8  10   6   0 -10 -19 -21 -11   8  28\n",
      "  41  47  45  33  15  -1 -13 -19 -19 -14  -5   5  16  21  18   8   0  -1\n",
      "  -3  -8 -15 -16  -1  21  35  32  20  13  15  18  16   5]\n",
      "\n",
      "Traces:\n",
      " [[-66. -49. -24.   1.  23.  39.  55.  77. 101. 121. 124. 109.  88.  72.\n",
      "   58.  41.  16. -13. -45. -74. -89. -86. -65. -29.  16.  64. 103. 122.\n",
      "  115.  83.  40.   3. -14. -15. -13. -14. -14. -10.  -4.   0.   1.  -4.\n",
      "  -14. -24. -31. -34. -42. -56. -70. -69.]]\n"
     ]
    }
   ],
   "source": [
    "# Find some timestamps that have spikes (we presumably filled in)\n",
    "timebase_sr  = 96000\n",
    "spike_train = unit.neo_reader._get_spike_timestamps(\n",
    "    block_index=0, seg_index=0,\n",
    "    unit_index=1,\n",
    "    t_start=None,\n",
    "    t_stop=None\n",
    ")\n",
    "\n",
    "waveforms = unit.neo_reader._get_spike_raw_waveforms(\n",
    "    block_index=0, seg_index=0,\n",
    "    unit_index=1,  # Tetrodes IDs are 1-indexed\n",
    "    t_start=None,\n",
    "    t_stop=None\n",
    ")\n",
    "\n",
    "print('Waveforms:\\n', waveforms[10,0,:])\n",
    "\n",
    "# Note that here channel_ids are still 1 indexed, that should not be the case ultimately!!! Then channel_ids=[4]\n",
    "traces = unit.get_traces(start_frame=spike_train[10]-10, end_frame=spike_train[10]+40, channel_ids=[5], return_scaled=False)\n",
    "print('\\nTraces:\\n', traces)"
   ]
  },
  {
   "cell_type": "code",
   "execution_count": null,
   "id": "unlike-universe",
   "metadata": {},
   "outputs": [],
   "source": []
  },
  {
   "cell_type": "code",
   "execution_count": null,
   "id": "authorized-ordinance",
   "metadata": {},
   "outputs": [],
   "source": []
  },
  {
   "cell_type": "code",
   "execution_count": null,
   "id": "terminal-longer",
   "metadata": {},
   "outputs": [],
   "source": []
  },
  {
   "cell_type": "code",
   "execution_count": null,
   "id": "tested-director",
   "metadata": {},
   "outputs": [],
   "source": []
  },
  {
   "cell_type": "code",
   "execution_count": 4,
   "id": "requested-latter",
   "metadata": {},
   "outputs": [],
   "source": [
    "import neo\n",
    "from neo import io, rawio"
   ]
  },
  {
   "cell_type": "code",
   "execution_count": null,
   "id": "bulgarian-joint",
   "metadata": {},
   "outputs": [],
   "source": []
  },
  {
   "cell_type": "code",
   "execution_count": null,
   "id": "russian-round",
   "metadata": {},
   "outputs": [],
   "source": []
  },
  {
   "cell_type": "code",
   "execution_count": null,
   "id": "concrete-charleston",
   "metadata": {},
   "outputs": [],
   "source": []
  },
  {
   "cell_type": "code",
   "execution_count": null,
   "id": "distant-digest",
   "metadata": {},
   "outputs": [],
   "source": []
  },
  {
   "cell_type": "code",
   "execution_count": null,
   "id": "alpine-reasoning",
   "metadata": {},
   "outputs": [],
   "source": []
  },
  {
   "cell_type": "code",
   "execution_count": 3,
   "id": "russian-warning",
   "metadata": {},
   "outputs": [],
   "source": [
    "r = io.AxonaIO(filename=os.path.join(dir_name, base_filename + '.set'))"
   ]
  },
  {
   "cell_type": "code",
   "execution_count": 4,
   "id": "worthy-shepherd",
   "metadata": {},
   "outputs": [
    {
     "data": {
      "text/plain": [
       "AxonaIO: ../../freelance-work/catalyst-neuro/hussaini-lab-to-nwb/sample_bin_to_tint/axona_sample.set.set\n",
       "nb_block: 1\n",
       "nb_segment:  [1]\n",
       "signal_streams: [stream 0 (chans: 16)]\n",
       "signal_channels: [0a, 0b, 0c, 0d ... 3a , 3b , 3c , 3d]\n",
       "spike_channels: [tetrode 1, tetrode 2, tetrode 3, tetrode 4]\n",
       "event_channels: []"
      ]
     },
     "execution_count": 4,
     "metadata": {},
     "output_type": "execute_result"
    }
   ],
   "source": [
    "r"
   ]
  },
  {
   "cell_type": "code",
   "execution_count": 5,
   "id": "oriental-continent",
   "metadata": {},
   "outputs": [
    {
     "ename": "TypeError",
     "evalue": "_get_temporal_mask() missing 3 required positional arguments: 't_start', 't_stop', and 'tetrode_id'",
     "output_type": "error",
     "traceback": [
      "\u001b[0;31m---------------------------------------------------------------------------\u001b[0m",
      "\u001b[0;31mTypeError\u001b[0m                                 Traceback (most recent call last)",
      "\u001b[0;32m<ipython-input-5-48e7a0dfd4d6>\u001b[0m in \u001b[0;36m<module>\u001b[0;34m\u001b[0m\n\u001b[0;32m----> 1\u001b[0;31m \u001b[0mr\u001b[0m\u001b[0;34m.\u001b[0m\u001b[0m_get_temporal_mask\u001b[0m\u001b[0;34m(\u001b[0m\u001b[0;34m)\u001b[0m\u001b[0;34m\u001b[0m\u001b[0;34m\u001b[0m\u001b[0m\n\u001b[0m",
      "\u001b[0;31mTypeError\u001b[0m: _get_temporal_mask() missing 3 required positional arguments: 't_start', 't_stop', and 'tetrode_id'"
     ]
    }
   ],
   "source": [
    "r._get_temporal_mask()"
   ]
  },
  {
   "cell_type": "code",
   "execution_count": 7,
   "id": "finnish-motion",
   "metadata": {},
   "outputs": [],
   "source": [
    "r.parse_header()  # not sure if specifically needed, but part of neobaseextractor.py"
   ]
  },
  {
   "cell_type": "code",
   "execution_count": 22,
   "id": "induced-beauty",
   "metadata": {},
   "outputs": [
    {
     "name": "stderr",
     "output_type": "stream",
     "text": [
      "/mnt/d/spikeinterface/pyxona/pyxona/core.py:139: FutureWarning: Passing (type, 1) or '1type' as a synonym of type is deprecated; in a future version of numpy, it will be understood as (type, (1,)) / '(1,)type'.\n",
      "  dtype = np.dtype([(\"times\", (timestamp_dtype, 1), 1), (\"waveforms\", (waveform_dtype, 1), samples_per_spike)])\n"
     ]
    }
   ],
   "source": [
    "unit = AxonaUnitRecordingExtractor(file_path=filename)"
   ]
  },
  {
   "cell_type": "code",
   "execution_count": 23,
   "id": "legitimate-bruce",
   "metadata": {},
   "outputs": [
    {
     "name": "stdout",
     "output_type": "stream",
     "text": [
      "0 464 [0, 1, 2, 3] 4\n",
      "0 786 [0, 1, 2, 3] 4\n",
      "0 1570 [0, 1, 2, 3] 4\n",
      "0 1632 [0, 1, 2, 3] 4\n",
      "0 1826 [0, 1, 2, 3] 4\n",
      "0 2017 [0, 1, 2, 3] 4\n",
      "0 2228 [0, 1, 2, 3] 4\n",
      "0 2322 [0, 1, 2, 3] 4\n",
      "0 2493 [0, 1, 2, 3] 4\n",
      "0 2634 [0, 1, 2, 3] 4\n",
      "0 2905 [0, 1, 2, 3] 4\n",
      "0 3118 [0, 1, 2, 3] 4\n",
      "0 3872 [0, 1, 2, 3] 4\n",
      "0 3926 [0, 1, 2, 3] 4\n",
      "0 4103 [0, 1, 2, 3] 4\n",
      "0 4577 [0, 1, 2, 3] 4\n",
      "0 4673 [0, 1, 2, 3] 4\n",
      "0 5024 [0, 1, 2, 3] 4\n",
      "0 5781 [0, 1, 2, 3] 4\n",
      "0 5974 [0, 1, 2, 3] 4\n",
      "0 6019 [0, 1, 2, 3] 4\n",
      "0 6208 [0, 1, 2, 3] 4\n",
      "0 6259 [0, 1, 2, 3] 4\n",
      "0 6705 [0, 1, 2, 3] 4\n",
      "0 7061 [0, 1, 2, 3] 4\n",
      "0 7482 [0, 1, 2, 3] 4\n",
      "0 7600 [0, 1, 2, 3] 4\n",
      "0 7685 [0, 1, 2, 3] 4\n",
      "0 8022 [0, 1, 2, 3] 4\n",
      "0 8173 [0, 1, 2, 3] 4\n",
      "0 8222 [0, 1, 2, 3] 4\n",
      "0 9696 [0, 1, 2, 3] 4\n",
      "0 9771 [0, 1, 2, 3] 4\n",
      "4 571 [0, 1] 2\n",
      "4 2864 [0, 1] 2\n",
      "4 3883 [0, 1] 2\n",
      "4 4000 [0, 1] 2\n",
      "4 4165 [0, 1] 2\n",
      "4 5314 [0, 1] 2\n",
      "4 5692 [0, 1] 2\n",
      "4 5975 [0, 1] 2\n",
      "4 8221 [0, 1] 2\n",
      "4 9309 [0, 1] 2\n",
      "6 94 [2, 3] 2\n",
      "6 1366 [2, 3] 2\n",
      "6 1472 [2, 3] 2\n",
      "6 1703 [2, 3] 2\n",
      "6 2801 [2, 3] 2\n",
      "6 2906 [2, 3] 2\n",
      "6 4674 [2, 3] 2\n",
      "6 5128 [2, 3] 2\n",
      "6 5232 [2, 3] 2\n",
      "6 5888 [2, 3] 2\n",
      "6 6409 [2, 3] 2\n",
      "6 6705 [2, 3] 2\n",
      "6 6936 [2, 3] 2\n",
      "6 7065 [2, 3] 2\n",
      "6 7208 [2, 3] 2\n",
      "6 7255 [2, 3] 2\n",
      "6 8878 [2, 3] 2\n",
      "6 9699 [2, 3] 2\n"
     ]
    }
   ],
   "source": [
    "end_frame = 10000\n",
    "start_frame = 0\n",
    "channel_ids = [0,1,2,3,4,5,14,15]\n",
    "return_scaled = True\n",
    "\n",
    "num_frames_traces = end_frame - start_frame\n",
    "traces = unit._noise_std * np.random.randn(len(channel_ids), num_frames_traces)\n",
    "\n",
    "channel_idxs = [unit.get_channel_ids().index(ch) for ch in channel_ids]  # not used!\n",
    "\n",
    "itrc = 0\n",
    "for (chan_idxs, spike_train, waveform) in zip(unit._channel_indexes, unit._spike_trains, unit._waveforms):\n",
    "    \n",
    "    # Find channels on tetrode to include and their indices\n",
    "    chan_sublist = list(set(channel_idxs) & set(chan_idxs))\n",
    "    chan_sublist_idxs = [i for i, val in enumerate(chan_idxs) if val in chan_sublist]\n",
    "    nch = len(chan_sublist_idxs)\n",
    "                \n",
    "    spike_times_idxs = np.where((spike_train > start_frame) & (spike_train <= end_frame))\n",
    "    spike_times_i = spike_train[spike_times_idxs]  # spike_train is in samples (so spike_times_i is too)\n",
    "\n",
    "    waveforms_i = waveform[spike_times_idxs]\n",
    "    wf_samples = waveforms_i.shape[2]\n",
    "\n",
    "    #print((chan_idxs, spike_train[0:3], waveform[0:2,0:2,0:2]))\n",
    "    \n",
    "    if chan_sublist:\n",
    "        \n",
    "        for t, wf in zip(spike_times_i, waveforms_i):\n",
    "            \n",
    "            print(itrc, t, chan_sublist_idxs, nch)\n",
    "            \n",
    "            t = t - start_frame\n",
    "\n",
    "            if t - wf_samples // 2 < 0:\n",
    "                traces[itrc:itrc+nch, :t + wf_samples // 2] = \\\n",
    "                    wf[chan_sublist_idxs, wf_samples // 2 - t:]\n",
    "            elif t + wf_samples // 2 > num_frames_traces:\n",
    "                traces[itrc:itrc+nch, t - wf_samples // 2:] = \\\n",
    "                    wf[chan_sublist_idxs, :num_frames_traces - (t + wf_samples // 2)]\n",
    "            else:\n",
    "                traces[itrc:itrc+nch, t - wf_samples // 2:t + wf_samples // 2] = \\\n",
    "                    wf[chan_sublist_idxs, :]\n",
    "                \n",
    "        itrc += nch"
   ]
  },
  {
   "cell_type": "code",
   "execution_count": 24,
   "id": "rolled-array",
   "metadata": {},
   "outputs": [
    {
     "data": {
      "text/plain": [
       "(8, 10000)"
      ]
     },
     "execution_count": 24,
     "metadata": {},
     "output_type": "execute_result"
    }
   ],
   "source": [
    "traces.shape"
   ]
  },
  {
   "cell_type": "code",
   "execution_count": 94,
   "id": "packed-warner",
   "metadata": {},
   "outputs": [
    {
     "data": {
      "text/plain": [
       "list"
      ]
     },
     "execution_count": 94,
     "metadata": {},
     "output_type": "execute_result"
    }
   ],
   "source": [
    "type(unit._waveforms)"
   ]
  },
  {
   "cell_type": "code",
   "execution_count": 95,
   "id": "allied-activity",
   "metadata": {},
   "outputs": [
    {
     "data": {
      "text/plain": [
       "4"
      ]
     },
     "execution_count": 95,
     "metadata": {},
     "output_type": "execute_result"
    }
   ],
   "source": [
    "len(unit._waveforms)"
   ]
  },
  {
   "cell_type": "code",
   "execution_count": 97,
   "id": "helpful-jacket",
   "metadata": {},
   "outputs": [
    {
     "data": {
      "text/plain": [
       "(159, 4, 50)"
      ]
     },
     "execution_count": 97,
     "metadata": {},
     "output_type": "execute_result"
    }
   ],
   "source": [
    "unit._waveforms[0].shape"
   ]
  },
  {
   "cell_type": "code",
   "execution_count": 99,
   "id": "developmental-strategy",
   "metadata": {},
   "outputs": [
    {
     "data": {
      "text/plain": [
       "list"
      ]
     },
     "execution_count": 99,
     "metadata": {},
     "output_type": "execute_result"
    }
   ],
   "source": [
    "type(unit._spike_trains)"
   ]
  },
  {
   "cell_type": "code",
   "execution_count": 100,
   "id": "superior-major",
   "metadata": {},
   "outputs": [
    {
     "data": {
      "text/plain": [
       "(159,)"
      ]
     },
     "execution_count": 100,
     "metadata": {},
     "output_type": "execute_result"
    }
   ],
   "source": [
    "unit._spike_trains[0].shape"
   ]
  },
  {
   "cell_type": "code",
   "execution_count": 91,
   "id": "corresponding-senegal",
   "metadata": {},
   "outputs": [
    {
     "data": {
      "text/plain": [
       "[array([  464,   786,  1570,  1632,  1826,  2017,  2228,  2322,  2493,\n",
       "         2634,  2905,  3118,  3872,  3926,  4103,  4577,  4673,  5024,\n",
       "         5781,  5974,  6019,  6208,  6259,  6705,  7061,  7482,  7600,\n",
       "         7685,  8022,  8173,  8222,  9696,  9771, 10217, 10376, 11066,\n",
       "        11954, 12676, 12775, 12891, 13078, 13642, 13905, 14037, 14112,\n",
       "        14966, 15308, 15676, 15951, 16427, 17056, 17397, 17573, 17654,\n",
       "        17747, 18319, 18757, 18957, 19217, 19592, 19824, 19899, 20139,\n",
       "        20212, 20848, 21441, 21525, 22105, 22556, 22712, 23301, 23493,\n",
       "        24084, 24158, 24595, 24754, 25142, 25460, 26020, 26253, 26346,\n",
       "        26508, 27579, 27694, 27752, 29282, 29794, 29888, 30099, 30340,\n",
       "        30734, 31678, 31750, 32959, 33704, 34262, 35028, 36011, 36378,\n",
       "        36669, 37138, 37670, 38607, 38709, 39047, 39195, 39724, 39873,\n",
       "        40218, 40265, 41013, 41473, 41587, 42088, 42288, 43201, 43409,\n",
       "        43595, 43913, 44329, 44479, 44665, 44850, 44895, 44942, 45135,\n",
       "        45451, 45586, 45752, 46420, 46523, 46765, 47061, 47585, 47783,\n",
       "        48165, 48446, 48655, 48892, 49114, 49391, 49538, 49624, 49788,\n",
       "        50304, 50454, 50647, 51143, 51566, 51683, 51919, 52024, 52082,\n",
       "        52251, 52519, 54367, 55855, 56202, 57261]),\n",
       " array([  571,  2864,  3883,  4000,  4165,  5314,  5692,  5975,  8221,\n",
       "         9309, 12016, 14331, 14483, 14762, 15708, 15830, 16187, 16581,\n",
       "        16984, 17445, 17503, 18068, 18257, 18319, 19073, 19898, 20138,\n",
       "        20212, 21522, 22556, 22613, 23094, 26595, 26823, 29840, 30032,\n",
       "        30099, 30235, 32247, 32374, 35605, 38479, 42148, 42449, 43409,\n",
       "        43832, 44320, 44692, 44894, 45467, 46669, 49745, 51868, 51918,\n",
       "        52022, 52384, 52437, 52519, 53593]),\n",
       " array([   92,   352,   543,   653,  1588,  2283,  2634,  3274,  3652,\n",
       "         4063,  4352,  5129,  5232,  5784,  6401,  6762,  6938,  7062,\n",
       "         7255,  7886,  8221,  9045,  9556, 10519, 10722, 12890, 13684,\n",
       "        14483, 14966, 15122, 15401, 16108, 16187, 16262, 16509, 16582,\n",
       "        16755, 17043, 17654, 17747, 17907, 18178, 18256, 18757, 19042,\n",
       "        19343, 19591, 19823, 19899, 20139, 20282, 21009, 21082, 21523,\n",
       "        22614, 22712, 23036, 23298, 25814, 25931, 26020, 26238, 26642,\n",
       "        26913, 27030, 27751, 28151, 28512, 29281, 29784, 29965, 30326,\n",
       "        31148, 31711, 31964, 32243, 32495, 33263, 34253, 34466, 35778,\n",
       "        36244, 36484, 36628, 36671, 36781, 36980, 37132, 37669, 37987,\n",
       "        38236, 38790, 39193, 39493, 39768, 40219, 40381, 40453, 40636,\n",
       "        40777, 40896, 41740, 42678, 43017, 43432, 44329, 44479, 44531,\n",
       "        44685, 46306, 46950, 47526, 49014, 49493, 49536, 50109, 52023,\n",
       "        52190, 52844, 53594, 53842, 53891, 54007, 55932, 56202, 56570]),\n",
       " array([   94,  1366,  1472,  1703,  2801,  2906,  4674,  5128,  5232,\n",
       "         5888,  6409,  6705,  6936,  7065,  7208,  7255,  8878,  9699,\n",
       "        10216, 10723, 10868, 11167, 11380, 11787, 11955, 12687, 12890,\n",
       "        14241, 14483, 15123, 15405, 15659, 16582, 16635, 16756, 16832,\n",
       "        17395, 18320, 19592, 19824, 20696, 21307, 21458, 21523, 22089,\n",
       "        22367, 22711, 23039, 23544, 23798, 23983, 24415, 25205, 25381,\n",
       "        25458, 26021, 26349, 27022, 27750, 29281, 33551, 35914, 37133,\n",
       "        37434, 38054, 38176, 39493, 39873, 40218, 42155, 42299, 42557,\n",
       "        42679, 43437, 44094, 44479, 44531, 44852, 44938, 45589, 46423,\n",
       "        47243, 47319, 47453, 48432, 48667, 49083, 49494, 50261, 51166,\n",
       "        51948, 52519, 55150, 56205, 57053, 57464])]"
      ]
     },
     "execution_count": 91,
     "metadata": {},
     "output_type": "execute_result"
    }
   ],
   "source": [
    "unit._spike_trains"
   ]
  },
  {
   "cell_type": "code",
   "execution_count": 90,
   "id": "bright-prison",
   "metadata": {},
   "outputs": [
    {
     "data": {
      "text/plain": [
       "[[0, 1, 2, 3], [4, 5, 6, 7], [8, 9, 10, 11], [12, 13, 14, 15]]"
      ]
     },
     "execution_count": 90,
     "metadata": {},
     "output_type": "execute_result"
    }
   ],
   "source": [
    "unit._channel_indexes"
   ]
  },
  {
   "cell_type": "code",
   "execution_count": 106,
   "id": "behavioral-passing",
   "metadata": {},
   "outputs": [
    {
     "data": {
      "text/plain": [
       "array([('0a', '1', 48000., \"<class 'numpy.in\", 'uV', 1.171875 , 0., '0'),\n",
       "       ('0b', '2', 48000., \"<class 'numpy.in\", 'uV', 1.171875 , 0., '0'),\n",
       "       ('0c', '3', 48000., \"<class 'numpy.in\", 'uV', 1.171875 , 0., '0'),\n",
       "       ('0d', '4', 48000., \"<class 'numpy.in\", 'uV', 1.171875 , 0., '0'),\n",
       "       ('1a', '5', 48000., \"<class 'numpy.in\", 'uV', 0.5859375, 0., '0'),\n",
       "       ('1b', '6', 48000., \"<class 'numpy.in\", 'uV', 0.5859375, 0., '0'),\n",
       "       ('1c', '7', 48000., \"<class 'numpy.in\", 'uV', 0.5859375, 0., '0'),\n",
       "       ('1d', '8', 48000., \"<class 'numpy.in\", 'uV', 0.5859375, 0., '0'),\n",
       "       ('2a', '9', 48000., \"<class 'numpy.in\", 'uV', 0.78125  , 0., '0'),\n",
       "       ('2b', '10', 48000., \"<class 'numpy.in\", 'uV', 0.78125  , 0., '0'),\n",
       "       ('2c', '11', 48000., \"<class 'numpy.in\", 'uV', 0.78125  , 0., '0'),\n",
       "       ('2d', '12', 48000., \"<class 'numpy.in\", 'uV', 0.78125  , 0., '0'),\n",
       "       ('3a', '13', 48000., \"<class 'numpy.in\", 'uV', 0.78125  , 0., '0'),\n",
       "       ('3b', '14', 48000., \"<class 'numpy.in\", 'uV', 0.78125  , 0., '0'),\n",
       "       ('3c', '15', 48000., \"<class 'numpy.in\", 'uV', 0.78125  , 0., '0'),\n",
       "       ('3d', '16', 48000., \"<class 'numpy.in\", 'uV', 0.78125  , 0., '0')],\n",
       "      dtype=[('name', '<U64'), ('id', '<U64'), ('sampling_rate', '<f8'), ('dtype', '<U16'), ('units', '<U64'), ('gain', '<f8'), ('offset', '<f8'), ('stream_id', '<U64')])"
      ]
     },
     "execution_count": 106,
     "metadata": {},
     "output_type": "execute_result"
    }
   ],
   "source": [
    "r.header['signal_channels']"
   ]
  },
  {
   "cell_type": "code",
   "execution_count": 109,
   "id": "strategic-emerald",
   "metadata": {},
   "outputs": [
    {
     "data": {
      "text/plain": [
       "array([1, 2, 3, 4])"
      ]
     },
     "execution_count": 109,
     "metadata": {},
     "output_type": "execute_result"
    }
   ],
   "source": [
    "r._get_channel_from_tetrode(1)"
   ]
  },
  {
   "cell_type": "code",
   "execution_count": 116,
   "id": "angry-alert",
   "metadata": {},
   "outputs": [
    {
     "data": {
      "text/plain": [
       "[1, 2, 3, 4]"
      ]
     },
     "execution_count": 116,
     "metadata": {},
     "output_type": "execute_result"
    }
   ],
   "source": [
    "[int(s[0].split(' ')[1]) for s in r.header['spike_channels']]"
   ]
  },
  {
   "cell_type": "code",
   "execution_count": 11,
   "id": "fifteen-immune",
   "metadata": {},
   "outputs": [],
   "source": [
    "waveforms = r._get_spike_raw_waveforms(\n",
    "    block_index=0,\n",
    "    seg_index=0,\n",
    "    unit_index=0,\n",
    "    t_start=None,\n",
    "    t_stop=None\n",
    ")"
   ]
  },
  {
   "cell_type": "code",
   "execution_count": 157,
   "id": "constant-agenda",
   "metadata": {},
   "outputs": [],
   "source": [
    "spike_times = r._get_spike_timestamps(\n",
    "    block_index=0,\n",
    "    seg_index=0,\n",
    "    unit_index=0,\n",
    "    t_start=None,\n",
    "    t_stop=None\n",
    ")"
   ]
  },
  {
   "cell_type": "code",
   "execution_count": 158,
   "id": "statutory-temple",
   "metadata": {},
   "outputs": [
    {
     "data": {
      "text/plain": [
       "array([   928,   1573,   3141,   3264,   3652,   4034,   4456,   4644,\n",
       "         4986,   5268,   5810,   6236,   7744,   7852,   8206,   9154,\n",
       "         9346,  10048,  11562,  11948,  12038,  12416,  12519,  13411,\n",
       "        14122,  14964,  15201,  15371,  16044,  16346,  16444,  19392,\n",
       "        19542,  20434,  20752,  22132,  23908,  25353,  25550,  25782,\n",
       "        26156,  27284,  27810,  28074,  28224,  29932,  30616,  31352,\n",
       "        31903,  32854,  34112,  34794,  35146,  35308,  35494,  36638,\n",
       "        37514,  37914,  38434,  39184,  39648,  39798,  40278,  40424,\n",
       "        41696,  42882,  43050,  44210,  45112,  45424,  46602,  46986,\n",
       "        48168,  48316,  49190,  49508,  50284,  50920,  52040,  52506,\n",
       "        52692,  53016,  55158,  55388,  55504,  58564,  59588,  59776,\n",
       "        60198,  60680,  61469,  63356,  63500,  65918,  67408,  68524,\n",
       "        70056,  72022,  72756,  73338,  74276,  75340,  77214,  77418,\n",
       "        78094,  78390,  79448,  79746,  80436,  80530,  82026,  82946,\n",
       "        83174,  84176,  84576,  86402,  86818,  87190,  87826,  88658,\n",
       "        88958,  89330,  89700,  89790,  89884,  90270,  90902,  91172,\n",
       "        91504,  92840,  93046,  93530,  94122,  95170,  95566,  96330,\n",
       "        96892,  97310,  97784,  98228,  98783,  99076,  99248,  99576,\n",
       "       100608, 100909, 101295, 102286, 103132, 103366, 103838, 104048,\n",
       "       104164, 104503, 105038, 108734, 111710, 112405, 114522],\n",
       "      dtype=int32)"
      ]
     },
     "execution_count": 158,
     "metadata": {},
     "output_type": "execute_result"
    }
   ],
   "source": [
    "spike_times"
   ]
  },
  {
   "cell_type": "code",
   "execution_count": 164,
   "id": "knowing-credit",
   "metadata": {},
   "outputs": [],
   "source": [
    "tdict = r.get_header_parameters(tetrode_file, 'unit')\n",
    "tdict['filename'] = tetrode_file\n",
    "tdict['num_chans'] = int(tdict['num_chans'])\n",
    "tdict['num_spikes'] = int(tdict['num_spikes'])\n",
    "tdict['header_size'] = len(\n",
    "    r.get_header_bstring(tetrode_file))"
   ]
  },
  {
   "cell_type": "code",
   "execution_count": 180,
   "id": "functional-baptist",
   "metadata": {},
   "outputs": [],
   "source": [
    "spikes = np.memmap(\n",
    "    tetrode_file,\n",
    "    dtype=np.dtype([('spiketimes', '>i4'),\n",
    "                    ('samples', 'int8', (50,))]),\n",
    "    mode='r', offset=tdict['header_size'],\n",
    "    shape=(int(tdict['num_spikes']) * 4)\n",
    ")"
   ]
  },
  {
   "cell_type": "code",
   "execution_count": 181,
   "id": "cubic-brazil",
   "metadata": {},
   "outputs": [
    {
     "data": {
      "text/plain": [
       "(636,)"
      ]
     },
     "execution_count": 181,
     "metadata": {},
     "output_type": "execute_result"
    }
   ],
   "source": [
    "spikes.shape"
   ]
  },
  {
   "cell_type": "code",
   "execution_count": 189,
   "id": "automotive-arena",
   "metadata": {},
   "outputs": [
    {
     "data": {
      "text/plain": [
       "(159,)"
      ]
     },
     "execution_count": 189,
     "metadata": {},
     "output_type": "execute_result"
    }
   ],
   "source": [
    "spikes['spiketimes'][::4].shape"
   ]
  },
  {
   "cell_type": "code",
   "execution_count": 155,
   "id": "tough-tumor",
   "metadata": {},
   "outputs": [],
   "source": [
    "raw_spikes = r._raw_spikes[0]"
   ]
  },
  {
   "cell_type": "code",
   "execution_count": 193,
   "id": "trained-taylor",
   "metadata": {},
   "outputs": [
    {
     "data": {
      "text/plain": [
       "(159,)"
      ]
     },
     "execution_count": 193,
     "metadata": {},
     "output_type": "execute_result"
    }
   ],
   "source": [
    "r._get_spike_timestamps(\n",
    "    block_index=0, seg_index=0,\n",
    "    unit_index=0,\n",
    "    t_start=100, t_stop=1000\n",
    ").shape"
   ]
  },
  {
   "cell_type": "code",
   "execution_count": 145,
   "id": "unauthorized-theme",
   "metadata": {},
   "outputs": [
    {
     "data": {
      "text/plain": [
       "array([   928,   1573,   3141,   3264,   3652,   4034,   4456,   4644,\n",
       "         4986,   5268,   5810,   6236,   7744,   7852,   8206,   9154,\n",
       "         9346,  10048,  11562,  11948,  12038,  12416,  12519,  13411,\n",
       "        14122,  14964,  15201,  15371,  16044,  16346,  16444,  19392,\n",
       "        19542,  20434,  20752,  22132,  23908,  25353,  25550,  25782,\n",
       "        26156,  27284,  27810,  28074,  28224,  29932,  30616,  31352,\n",
       "        31903,  32854,  34112,  34794,  35146,  35308,  35494,  36638,\n",
       "        37514,  37914,  38434,  39184,  39648,  39798,  40278,  40424,\n",
       "        41696,  42882,  43050,  44210,  45112,  45424,  46602,  46986,\n",
       "        48168,  48316,  49190,  49508,  50284,  50920,  52040,  52506,\n",
       "        52692,  53016,  55158,  55388,  55504,  58564,  59588,  59776,\n",
       "        60198,  60680,  61469,  63356,  63500,  65918,  67408,  68524,\n",
       "        70056,  72022,  72756,  73338,  74276,  75340,  77214,  77418,\n",
       "        78094,  78390,  79448,  79746,  80436,  80530,  82026,  82946,\n",
       "        83174,  84176,  84576,  86402,  86818,  87190,  87826,  88658,\n",
       "        88958,  89330,  89700,  89790,  89884,  90270,  90902,  91172,\n",
       "        91504,  92840,  93046,  93530,  94122,  95170,  95566,  96330,\n",
       "        96892,  97310,  97784,  98228,  98783,  99076,  99248,  99576,\n",
       "       100608, 100909, 101295, 102286, 103132, 103366, 103838, 104048,\n",
       "       104164, 104503, 105038, 108734, 111710, 112405, 114522],\n",
       "      dtype=int32)"
      ]
     },
     "execution_count": 145,
     "metadata": {},
     "output_type": "execute_result"
    }
   ],
   "source": [
    "spike_times"
   ]
  },
  {
   "cell_type": "code",
   "execution_count": 122,
   "id": "transsexual-vermont",
   "metadata": {},
   "outputs": [],
   "source": [
    "active_tetrodes = r.get_active_tetrode()"
   ]
  },
  {
   "cell_type": "code",
   "execution_count": 8,
   "id": "international-insurance",
   "metadata": {},
   "outputs": [
    {
     "ename": "NameError",
     "evalue": "name 'active_tetrodes' is not defined",
     "output_type": "error",
     "traceback": [
      "\u001b[0;31m---------------------------------------------------------------------------\u001b[0m",
      "\u001b[0;31mNameError\u001b[0m                                 Traceback (most recent call last)",
      "\u001b[0;32m<ipython-input-8-bb52995cf856>\u001b[0m in \u001b[0;36m<module>\u001b[0;34m\u001b[0m\n\u001b[1;32m      1\u001b[0m \u001b[0;31m# Create table for indexing tetrode ID by channel ID\u001b[0m\u001b[0;34m\u001b[0m\u001b[0;34m\u001b[0m\u001b[0;34m\u001b[0m\u001b[0m\n\u001b[1;32m      2\u001b[0m \u001b[0;34m\u001b[0m\u001b[0m\n\u001b[0;32m----> 3\u001b[0;31m \u001b[0mtetrode_channel_table\u001b[0m \u001b[0;34m=\u001b[0m \u001b[0mnp\u001b[0m\u001b[0;34m.\u001b[0m\u001b[0mzeros\u001b[0m\u001b[0;34m(\u001b[0m\u001b[0;34m(\u001b[0m\u001b[0mlen\u001b[0m\u001b[0;34m(\u001b[0m\u001b[0mactive_tetrodes\u001b[0m\u001b[0;34m)\u001b[0m\u001b[0;34m*\u001b[0m\u001b[0;36m4\u001b[0m\u001b[0;34m,\u001b[0m \u001b[0;36m2\u001b[0m\u001b[0;34m)\u001b[0m\u001b[0;34m)\u001b[0m\u001b[0;34m\u001b[0m\u001b[0;34m\u001b[0m\u001b[0m\n\u001b[0m\u001b[1;32m      4\u001b[0m \u001b[0mrow_id\u001b[0m \u001b[0;34m=\u001b[0m \u001b[0;36m0\u001b[0m\u001b[0;34m\u001b[0m\u001b[0;34m\u001b[0m\u001b[0m\n\u001b[1;32m      5\u001b[0m for tetrode_id in [int(s[0].split(' ')[1])\n",
      "\u001b[0;31mNameError\u001b[0m: name 'active_tetrodes' is not defined"
     ]
    }
   ],
   "source": [
    "# Create table for indexing tetrode ID by channel ID\n",
    "\n",
    "tetrode_channel_table = np.zeros((len(active_tetrodes)*4, 2))\n",
    "row_id = 0\n",
    "for tetrode_id in [int(s[0].split(' ')[1])\n",
    "                   for s in r.header['spike_channels']]:\n",
    "    channel_ids = r._get_channel_from_tetrode(tetrode_id)\n",
    "    for i in range(4):\n",
    "        tetrode_channel_table[row_id, 0] = int(tetrode_id)\n",
    "        tetrode_channel_table[row_id, 1] = int(channel_ids[i])\n",
    "        row_id += 1\n",
    "        \n",
    "tetrode_channel_table"
   ]
  },
  {
   "cell_type": "code",
   "execution_count": 105,
   "id": "global-humanitarian",
   "metadata": {},
   "outputs": [
    {
     "data": {
      "text/plain": [
       "(159, 4, 50)"
      ]
     },
     "execution_count": 105,
     "metadata": {},
     "output_type": "execute_result"
    }
   ],
   "source": [
    "waveforms.shape"
   ]
  },
  {
   "cell_type": "code",
   "execution_count": 130,
   "id": "transsexual-reynolds",
   "metadata": {},
   "outputs": [],
   "source": [
    "from collections import deque "
   ]
  },
  {
   "cell_type": "code",
   "execution_count": 131,
   "id": "organized-wagner",
   "metadata": {},
   "outputs": [
    {
     "data": {
      "text/plain": [
       "deque([1, 2, 3])"
      ]
     },
     "execution_count": 131,
     "metadata": {},
     "output_type": "execute_result"
    }
   ],
   "source": [
    "test = deque([0,1,2,3])\n",
    "test.popleft()\n",
    "test"
   ]
  },
  {
   "cell_type": "code",
   "execution_count": 132,
   "id": "crazy-estate",
   "metadata": {},
   "outputs": [
    {
     "data": {
      "text/plain": [
       "array([13, 14, 15, 16])"
      ]
     },
     "execution_count": 132,
     "metadata": {},
     "output_type": "execute_result"
    }
   ],
   "source": [
    "r._get_channel_from_tetrode(tetrode_id)"
   ]
  },
  {
   "cell_type": "code",
   "execution_count": 136,
   "id": "dress-private",
   "metadata": {},
   "outputs": [],
   "source": [
    "channel_ids = [0,1,2,3,4,5,14,15]\n"
   ]
  },
  {
   "cell_type": "code",
   "execution_count": 137,
   "id": "voluntary-costs",
   "metadata": {},
   "outputs": [
    {
     "data": {
      "text/plain": [
       "array([1., 2., 4.])"
      ]
     },
     "execution_count": 137,
     "metadata": {},
     "output_type": "execute_result"
    }
   ],
   "source": [
    "np.unique(tetrode_channel_table[channel_ids, 0])"
   ]
  },
  {
   "cell_type": "code",
   "execution_count": 143,
   "id": "changed-cooperative",
   "metadata": {},
   "outputs": [
    {
     "data": {
      "text/plain": [
       "array([13, 14, 15, 16])"
      ]
     },
     "execution_count": 143,
     "metadata": {},
     "output_type": "execute_result"
    }
   ],
   "source": [
    "r._get_channel_from_tetrode(tetrode_id)"
   ]
  },
  {
   "cell_type": "code",
   "execution_count": null,
   "id": "great-reach",
   "metadata": {},
   "outputs": [],
   "source": [
    "print(set_params['pretrigSamps'])\n",
    "print(set_params['spikeLockout'])"
   ]
  },
  {
   "cell_type": "code",
   "execution_count": 633,
   "id": "buried-membership",
   "metadata": {},
   "outputs": [
    {
     "ename": "KeyError",
     "evalue": "'spikeLockout'",
     "output_type": "error",
     "traceback": [
      "\u001b[0;31m---------------------------------------------------------------------------\u001b[0m",
      "\u001b[0;31mKeyError\u001b[0m                                  Traceback (most recent call last)",
      "\u001b[0;32m<ipython-input-633-b997870cb17f>\u001b[0m in \u001b[0;36m<module>\u001b[0;34m\u001b[0m\n\u001b[0;32m----> 1\u001b[0;31m \u001b[0mr\u001b[0m\u001b[0;34m.\u001b[0m\u001b[0mfile_parameters\u001b[0m\u001b[0;34m[\u001b[0m\u001b[0;34m'set'\u001b[0m\u001b[0;34m]\u001b[0m\u001b[0;34m[\u001b[0m\u001b[0;34m'spikeLockout'\u001b[0m\u001b[0;34m]\u001b[0m\u001b[0;34m\u001b[0m\u001b[0;34m\u001b[0m\u001b[0m\n\u001b[0m",
      "\u001b[0;31mKeyError\u001b[0m: 'spikeLockout'"
     ]
    }
   ],
   "source": [
    "r.file_parameters['set']['spikeLockout']"
   ]
  },
  {
   "cell_type": "code",
   "execution_count": null,
   "id": "strange-dietary",
   "metadata": {},
   "outputs": [],
   "source": [
    "set_params = "
   ]
  },
  {
   "cell_type": "code",
   "execution_count": 621,
   "id": "senior-refrigerator",
   "metadata": {},
   "outputs": [
    {
     "ename": "NameError",
     "evalue": "name 'set_params' is not defined",
     "output_type": "error",
     "traceback": [
      "\u001b[0;31m---------------------------------------------------------------------------\u001b[0m",
      "\u001b[0;31mNameError\u001b[0m                                 Traceback (most recent call last)",
      "\u001b[0;32m<ipython-input-621-8e50744e8f90>\u001b[0m in \u001b[0;36m<module>\u001b[0;34m\u001b[0m\n\u001b[0;32m----> 1\u001b[0;31m \u001b[0mprint\u001b[0m\u001b[0;34m(\u001b[0m\u001b[0mset_params\u001b[0m\u001b[0;34m[\u001b[0m\u001b[0;34m'pretrigSamps'\u001b[0m\u001b[0;34m]\u001b[0m\u001b[0;34m)\u001b[0m\u001b[0;34m\u001b[0m\u001b[0;34m\u001b[0m\u001b[0m\n\u001b[0m\u001b[1;32m      2\u001b[0m \u001b[0mprint\u001b[0m\u001b[0;34m(\u001b[0m\u001b[0mset_params\u001b[0m\u001b[0;34m[\u001b[0m\u001b[0;34m'spikeLockout'\u001b[0m\u001b[0;34m]\u001b[0m\u001b[0;34m)\u001b[0m\u001b[0;34m\u001b[0m\u001b[0;34m\u001b[0m\u001b[0m\n",
      "\u001b[0;31mNameError\u001b[0m: name 'set_params' is not defined"
     ]
    }
   ],
   "source": [
    "print(set_params['pretrigSamps'])\n",
    "print(set_params['spikeLockout'])"
   ]
  },
  {
   "cell_type": "code",
   "execution_count": 191,
   "id": "published-antenna",
   "metadata": {
    "scrolled": true
   },
   "outputs": [
    {
     "data": {
      "text/plain": [
       "96000"
      ]
     },
     "execution_count": 191,
     "metadata": {},
     "output_type": "execute_result"
    }
   ],
   "source": [
    "r._to_hz(r.file_parameters['unit']['timebase'])"
   ]
  },
  {
   "cell_type": "code",
   "execution_count": 350,
   "id": "fancy-joining",
   "metadata": {},
   "outputs": [
    {
     "name": "stdout",
     "output_type": "stream",
     "text": [
      "[[ 1  1  0]\n",
      " [ 1  2  1]\n",
      " [ 1  3  2]\n",
      " [ 1  4  3]\n",
      " [ 2  5  0]\n",
      " [ 2  6  1]\n",
      " [ 2  7  2]\n",
      " [ 2  8  3]\n",
      " [ 3  9  0]\n",
      " [ 3 10  1]\n",
      " [ 3 11  2]\n",
      " [ 3 12  3]\n",
      " [ 4 13  0]\n",
      " [ 4 14  1]\n",
      " [ 4 15  2]\n",
      " [ 4 16  3]]\n",
      "[[1 3 2]\n",
      " [1 4 3]\n",
      " [2 6 1]]\n"
     ]
    }
   ],
   "source": [
    "# Create table for indexing tetrode ID by channel ID\n",
    "\n",
    "active_tetrodes = r.get_active_tetrode()\n",
    "\n",
    "tcmap = np.zeros((len(active_tetrodes)*4, 3), dtype=int)\n",
    "row_id = 0\n",
    "for tetrode_id in [int(s[0].split(' ')[1])\n",
    "                   for s in r.header['spike_channels']]:\n",
    "    channel_ids = r._get_channel_from_tetrode(tetrode_id)\n",
    "    for i in range(4):\n",
    "        tcmap[row_id, 0] = int(tetrode_id)\n",
    "        tcmap[row_id, 1] = int(channel_ids[i])\n",
    "        tcmap[row_id, 2] = int(i)\n",
    "        row_id += 1\n",
    "        \n",
    "print(tcmap)\n",
    "\n",
    "# Removing rows from tcmap that are not of interest\n",
    "\n",
    "channel_ids = [3,4,6]\n",
    "\n",
    "del_idx = [False if i in channel_ids else True for i in tcmap[:, 1]]\n",
    "tcmap = np.delete(tcmap, del_idx, axis=0)\n",
    "\n",
    "print(tcmap)"
   ]
  },
  {
   "cell_type": "code",
   "execution_count": 489,
   "id": "narrative-aruba",
   "metadata": {},
   "outputs": [],
   "source": [
    "def get_traces(self, channel_ids=None, start_frame=None, end_frame=None, return_scaled=True):\n",
    "        \n",
    "    sr = int(self.neo_reader.file_parameters['unit']['timebase'].split(' ')[0])\n",
    "    samples_pre = 10\n",
    "    samples_post = 40\n",
    "\n",
    "    tcmap = r._get_tetrode_channel_table(channel_ids)\n",
    "\n",
    "    num_frames_traces = end_frame - start_frame\n",
    "    traces = r._noise_std * np.random.randn(len(channel_ids), num_frames_traces)\n",
    "\n",
    "    itrc = 0\n",
    "    for tetrode_id in np.unique(tcmap[:, 0]):\n",
    "\n",
    "        tetrode_channels = r.neo_reader._get_channel_from_tetrode(tetrode_id)\n",
    "        channels_oi = tcmap[tcmap[:, 0] == tetrode_id, 2]\n",
    "\n",
    "        waveforms = r.neo_reader._get_spike_raw_waveforms(\n",
    "            block_index=0,\n",
    "            seg_index=0,\n",
    "            unit_index=tetrode_id - 1,  # Tetrodes IDs are 1-indexed\n",
    "            t_start=start_frame/sr,\n",
    "            t_stop=end_frame/sr\n",
    "        )\n",
    "        waveforms = waveforms[:, channels_oi, :]\n",
    "        wf_samples = waveforms.shape[2]\n",
    "        nch = len(channels_oi)\n",
    "\n",
    "        spike_train = r.neo_reader._get_spike_timestamps(\n",
    "            block_index=0,\n",
    "            seg_index=0,\n",
    "            unit_index=tetrode_id - 1,  # Tetrodes IDs are 1-indexed\n",
    "            t_start=start_frame/sr,\n",
    "            t_stop=end_frame/sr\n",
    "        )\n",
    "\n",
    "        for t, wf in zip(spike_train, waveforms):\n",
    "\n",
    "            t = t - start_frame\n",
    "            add_waveform_to_traces(traces, wf, t, samples_pre, samples_post)\n",
    "\n",
    "        itrc += nch\n",
    "\n",
    "    return traces\n",
    "\n",
    "def add_waveform_to_traces(traces, wf, t, samples_pre, samples_post):\n",
    "    '''\n",
    "    Given a np.array `traces` (chan x time), we want to fill in a waveform\n",
    "    timeseries (50 samples) at time t, with the specified samples prior to \n",
    "    and after time t (samples_pre, samples_post).\n",
    "    '''\n",
    "    if t - samples_pre < 0:\n",
    "        print('CASE 1: Waveform beginning cut off')\n",
    "        traces[itrc:itrc+nch, :t + samples_post] = wf[:, samples_pre - t:]\n",
    "    elif t + samples_post > traces.shape[1]:\n",
    "        print('CASE 2: Waveform end cut off')\n",
    "        traces[itrc:itrc+nch, t - samples_pre:] = wf[:, :traces.shape[1] - (t - samples_pre)]\n",
    "    else:\n",
    "        print('CASE 3: Waveform not cut off')\n",
    "        traces[itrc:itrc+nch, t - samples_pre:t + samples_post] = wf\n",
    "        \n",
    "    return traces"
   ]
  },
  {
   "cell_type": "code",
   "execution_count": 488,
   "id": "excessive-chess",
   "metadata": {},
   "outputs": [
    {
     "name": "stdout",
     "output_type": "stream",
     "text": [
      "CASE 2: Waveform end cut off\n"
     ]
    },
    {
     "data": {
      "text/plain": [
       "array([[ 1.01599288, -2.52201825, -2.90509273, ...,  0.14942698,\n",
       "         5.95067373,  1.05458482],\n",
       "       [ 1.48561478, -6.44736637,  2.75657458, ..., -3.30456075,\n",
       "        -5.11339197, -1.37986257],\n",
       "       [ 0.90967514, -4.10036529, -1.78957986, ..., -2.94819081,\n",
       "         2.43335929,  1.19110307]])"
      ]
     },
     "execution_count": 488,
     "metadata": {},
     "output_type": "execute_result"
    }
   ],
   "source": [
    "t = num_frames_traces - 10\n",
    "add_waveform_to_traces(traces, wf, t, samples_pre=10, samples_post=40)"
   ]
  },
  {
   "cell_type": "code",
   "execution_count": null,
   "id": "patient-impact",
   "metadata": {},
   "outputs": [],
   "source": [
    "get_traces()"
   ]
  },
  {
   "cell_type": "code",
   "execution_count": null,
   "id": "proud-lodge",
   "metadata": {},
   "outputs": [],
   "source": []
  },
  {
   "cell_type": "code",
   "execution_count": 464,
   "id": "veterinary-verse",
   "metadata": {},
   "outputs": [
    {
     "name": "stdout",
     "output_type": "stream",
     "text": [
      "channels_oi [2 3]\n",
      "0 928 2\n",
      "0 1573 2\n",
      "0 3141 2\n",
      "0 3264 2\n",
      "0 3652 2\n",
      "0 4034 2\n",
      "0 4456 2\n",
      "0 4644 2\n",
      "0 4986 2\n",
      "0 5268 2\n",
      "0 5810 2\n",
      "0 6236 2\n",
      "0 7744 2\n",
      "0 7852 2\n",
      "0 8206 2\n",
      "0 9154 2\n",
      "0 9346 2\n",
      "0 10048 2\n",
      "0 11562 2\n",
      "0 11948 2\n",
      "0 12038 2\n",
      "0 12416 2\n",
      "0 12519 2\n",
      "0 13411 2\n",
      "0 14122 2\n",
      "0 14964 2\n",
      "0 15201 2\n",
      "0 15371 2\n",
      "0 16044 2\n",
      "0 16346 2\n",
      "0 16444 2\n",
      "0 19392 2\n",
      "0 19542 2\n",
      "0 20434 2\n",
      "0 20752 2\n",
      "0 22132 2\n",
      "0 23908 2\n",
      "0 25353 2\n",
      "0 25550 2\n",
      "0 25782 2\n",
      "0 26156 2\n",
      "0 27284 2\n",
      "0 27810 2\n",
      "0 28074 2\n",
      "0 28224 2\n",
      "0 29932 2\n",
      "0 30616 2\n",
      "0 31352 2\n",
      "0 31903 2\n",
      "0 32854 2\n",
      "0 34112 2\n",
      "0 34794 2\n",
      "0 35146 2\n",
      "0 35308 2\n",
      "0 35494 2\n",
      "0 36638 2\n",
      "0 37514 2\n",
      "0 37914 2\n",
      "0 38434 2\n",
      "0 39184 2\n",
      "0 39648 2\n",
      "0 39798 2\n",
      "0 40278 2\n",
      "0 40424 2\n",
      "0 41696 2\n",
      "0 42882 2\n",
      "0 43050 2\n",
      "0 44210 2\n",
      "0 45112 2\n",
      "0 45424 2\n",
      "channels_oi [1]\n",
      "2 1142 1\n",
      "2 5728 1\n",
      "2 7766 1\n",
      "2 8000 1\n",
      "2 8330 1\n",
      "2 10628 1\n",
      "2 11384 1\n",
      "2 11950 1\n",
      "2 16442 1\n",
      "2 18618 1\n",
      "2 24032 1\n",
      "2 28663 1\n",
      "2 28966 1\n",
      "2 29524 1\n",
      "2 31416 1\n",
      "2 31660 1\n",
      "2 32374 1\n",
      "2 33162 1\n",
      "2 33968 1\n",
      "2 34890 1\n",
      "2 35006 1\n",
      "2 36136 1\n",
      "2 36514 1\n",
      "2 36638 1\n",
      "2 38146 1\n",
      "2 39796 1\n",
      "2 40276 1\n",
      "2 40424 1\n",
      "2 43044 1\n",
      "2 45112 1\n",
      "2 45226 1\n"
     ]
    }
   ],
   "source": [
    "noise_std = 3\n",
    "start_frame = 0\n",
    "end_frame = 46000\n",
    "channel_ids = [3,4,6]\n",
    "return_scaled = True\n",
    "sr = 96000\n",
    "\n",
    "num_frames_traces = end_frame - start_frame\n",
    "traces = noise_std * np.random.randn(len(channel_ids), num_frames_traces)\n",
    "\n",
    "itrc = 0\n",
    "for tetrode_id in np.unique(tcmap[:, 0]):\n",
    "    \n",
    "    tetrode_channels = r._get_channel_from_tetrode(tetrode_id)\n",
    "    channels_oi = tcmap[tcmap[:, 0] == tetrode_id, 2]\n",
    "    print('channels_oi', channels_oi)\n",
    "    \n",
    "    waveforms = r._get_spike_raw_waveforms(\n",
    "        block_index=0,\n",
    "        seg_index=0,\n",
    "        unit_index=tetrode_id - 1,  # Tetrodes IDs are 1-indexed\n",
    "        t_start=start_frame/sr,\n",
    "        t_stop=end_frame/sr\n",
    "    )\n",
    "    waveforms = waveforms[:, channels_oi, :]\n",
    "    wf_samples = waveforms.shape[2]\n",
    "    nch = len(channels_oi)\n",
    "\n",
    "    spike_train = r._get_spike_timestamps(\n",
    "        block_index=0,\n",
    "        seg_index=0,\n",
    "        unit_index=tetrode_id - 1,  # Tetrodes IDs are 1-indexed\n",
    "        t_start=start_frame/sr,\n",
    "        t_stop=end_frame/sr\n",
    "    )\n",
    "\n",
    "    for t, wf in zip(spike_train, waveforms):\n",
    "\n",
    "        t = t - start_frame\n",
    "        \n",
    "        print(itrc, t, nch)\n",
    "\n",
    "        if t - wf_samples // 2 < 0:\n",
    "            traces[itrc:itrc+nch, :t + wf_samples // 2] = \\\n",
    "                wf[:, wf_samples // 2 - t:]\n",
    "        elif t + wf_samples // 2 > num_frames_traces:\n",
    "            traces[itrc:itrc+nch, t - wf_samples // 2:] = \\\n",
    "                wf[:, :num_frames_traces - (t + wf_samples // 2)]\n",
    "        else:\n",
    "            traces[itrc:itrc+nch, t - wf_samples // 2:t + wf_samples // 2] = \\\n",
    "                wf[:, :]\n",
    "\n",
    "    itrc += nch"
   ]
  },
  {
   "cell_type": "code",
   "execution_count": null,
   "id": "southeast-operations",
   "metadata": {},
   "outputs": [],
   "source": []
  },
  {
   "cell_type": "code",
   "execution_count": 612,
   "id": "eleven-trinity",
   "metadata": {},
   "outputs": [
    {
     "data": {
      "text/plain": [
       "{'bin': {'filename': PosixPath('../../freelance-work/catalyst-neuro/hussaini-lab-to-nwb/sample_bin_to_tint/axona_sample.bin'),\n",
       "  'bytes_packet': 432,\n",
       "  'bytes_data': 384,\n",
       "  'bytes_head': 32,\n",
       "  'bytes_tail': 16,\n",
       "  'data_type': numpy.int16,\n",
       "  'header_size': 0,\n",
       "  'header_encoding': None,\n",
       "  'num_channels': 16,\n",
       "  'num_total_packets': 19200,\n",
       "  'num_total_samples': 57600},\n",
       " 'set': {'filename': PosixPath('../../freelance-work/catalyst-neuro/hussaini-lab-to-nwb/sample_bin_to_tint/axona_sample.set'),\n",
       "  'header_encoding': 'cp1252',\n",
       "  'file_header': {'trial_date': 'Sunday, 4 Oct 2020',\n",
       "   'trial_time': '11:07:07',\n",
       "   'experimenter': 'Abid',\n",
       "   'comments': '',\n",
       "   'duration': '601',\n",
       "   'sw_version': '1.2.2.16',\n",
       "   'ADC_fullscale_mv': '1500',\n",
       "   'tracker_version': '0',\n",
       "   'stim_version': '1',\n",
       "   'audio_version': '0',\n",
       "   'gain_ch_0': '10000',\n",
       "   'filter_ch_0': '2',\n",
       "   'a_in_ch_0': '0',\n",
       "   'b_in_ch_0': '5',\n",
       "   'mode_ch_0': '4',\n",
       "   'filtresp_ch_0': '0',\n",
       "   'filtkind_ch_0': '0',\n",
       "   'filtfreq1_ch_0': '0',\n",
       "   'filtfreq2_ch_0': '0',\n",
       "   'filtripple_ch_0': '0.00',\n",
       "   'filtdcblock_ch_0': '0',\n",
       "   'dispmode_ch_0': '1',\n",
       "   'channame_ch_0': '',\n",
       "   'gain_ch_1': '10000',\n",
       "   'filter_ch_1': '2',\n",
       "   'a_in_ch_1': '1',\n",
       "   'b_in_ch_1': '5',\n",
       "   'mode_ch_1': '4',\n",
       "   'filtresp_ch_1': '0',\n",
       "   'filtkind_ch_1': '0',\n",
       "   'filtfreq1_ch_1': '0',\n",
       "   'filtfreq2_ch_1': '0',\n",
       "   'filtripple_ch_1': '0.00',\n",
       "   'filtdcblock_ch_1': '0',\n",
       "   'dispmode_ch_1': '1',\n",
       "   'channame_ch_1': '',\n",
       "   'gain_ch_2': '10000',\n",
       "   'filter_ch_2': '2',\n",
       "   'a_in_ch_2': '2',\n",
       "   'b_in_ch_2': '5',\n",
       "   'mode_ch_2': '4',\n",
       "   'filtresp_ch_2': '0',\n",
       "   'filtkind_ch_2': '0',\n",
       "   'filtfreq1_ch_2': '0',\n",
       "   'filtfreq2_ch_2': '0',\n",
       "   'filtripple_ch_2': '0.00',\n",
       "   'filtdcblock_ch_2': '0',\n",
       "   'dispmode_ch_2': '1',\n",
       "   'channame_ch_2': '',\n",
       "   'gain_ch_3': '10000',\n",
       "   'filter_ch_3': '2',\n",
       "   'a_in_ch_3': '3',\n",
       "   'b_in_ch_3': '5',\n",
       "   'mode_ch_3': '4',\n",
       "   'filtresp_ch_3': '0',\n",
       "   'filtkind_ch_3': '0',\n",
       "   'filtfreq1_ch_3': '0',\n",
       "   'filtfreq2_ch_3': '0',\n",
       "   'filtripple_ch_3': '0.00',\n",
       "   'filtdcblock_ch_3': '0',\n",
       "   'dispmode_ch_3': '1',\n",
       "   'channame_ch_3': '',\n",
       "   'gain_ch_4': '20000',\n",
       "   'filter_ch_4': '2',\n",
       "   'a_in_ch_4': '4',\n",
       "   'b_in_ch_4': '5',\n",
       "   'mode_ch_4': '4',\n",
       "   'filtresp_ch_4': '0',\n",
       "   'filtkind_ch_4': '0',\n",
       "   'filtfreq1_ch_4': '0',\n",
       "   'filtfreq2_ch_4': '0',\n",
       "   'filtripple_ch_4': '0.00',\n",
       "   'filtdcblock_ch_4': '0',\n",
       "   'dispmode_ch_4': '1',\n",
       "   'channame_ch_4': '',\n",
       "   'gain_ch_5': '20000',\n",
       "   'filter_ch_5': '2',\n",
       "   'a_in_ch_5': '5',\n",
       "   'b_in_ch_5': '15',\n",
       "   'mode_ch_5': '4',\n",
       "   'filtresp_ch_5': '0',\n",
       "   'filtkind_ch_5': '0',\n",
       "   'filtfreq1_ch_5': '0',\n",
       "   'filtfreq2_ch_5': '0',\n",
       "   'filtripple_ch_5': '0.00',\n",
       "   'filtdcblock_ch_5': '0',\n",
       "   'dispmode_ch_5': '1',\n",
       "   'channame_ch_5': '',\n",
       "   'gain_ch_6': '20000',\n",
       "   'filter_ch_6': '2',\n",
       "   'a_in_ch_6': '6',\n",
       "   'b_in_ch_6': '5',\n",
       "   'mode_ch_6': '4',\n",
       "   'filtresp_ch_6': '0',\n",
       "   'filtkind_ch_6': '0',\n",
       "   'filtfreq1_ch_6': '0',\n",
       "   'filtfreq2_ch_6': '0',\n",
       "   'filtripple_ch_6': '0.00',\n",
       "   'filtdcblock_ch_6': '0',\n",
       "   'dispmode_ch_6': '1',\n",
       "   'channame_ch_6': '',\n",
       "   'gain_ch_7': '20000',\n",
       "   'filter_ch_7': '2',\n",
       "   'a_in_ch_7': '7',\n",
       "   'b_in_ch_7': '5',\n",
       "   'mode_ch_7': '4',\n",
       "   'filtresp_ch_7': '0',\n",
       "   'filtkind_ch_7': '0',\n",
       "   'filtfreq1_ch_7': '0',\n",
       "   'filtfreq2_ch_7': '0',\n",
       "   'filtripple_ch_7': '0.00',\n",
       "   'filtdcblock_ch_7': '0',\n",
       "   'dispmode_ch_7': '1',\n",
       "   'channame_ch_7': '',\n",
       "   'gain_ch_8': '15000',\n",
       "   'filter_ch_8': '2',\n",
       "   'a_in_ch_8': '8',\n",
       "   'b_in_ch_8': '5',\n",
       "   'mode_ch_8': '4',\n",
       "   'filtresp_ch_8': '0',\n",
       "   'filtkind_ch_8': '0',\n",
       "   'filtfreq1_ch_8': '0',\n",
       "   'filtfreq2_ch_8': '0',\n",
       "   'filtripple_ch_8': '0.00',\n",
       "   'filtdcblock_ch_8': '0',\n",
       "   'dispmode_ch_8': '1',\n",
       "   'channame_ch_8': '',\n",
       "   'gain_ch_9': '15000',\n",
       "   'filter_ch_9': '2',\n",
       "   'a_in_ch_9': '9',\n",
       "   'b_in_ch_9': '5',\n",
       "   'mode_ch_9': '4',\n",
       "   'filtresp_ch_9': '0',\n",
       "   'filtkind_ch_9': '0',\n",
       "   'filtfreq1_ch_9': '0',\n",
       "   'filtfreq2_ch_9': '0',\n",
       "   'filtripple_ch_9': '0.00',\n",
       "   'filtdcblock_ch_9': '0',\n",
       "   'dispmode_ch_9': '1',\n",
       "   'channame_ch_9': '',\n",
       "   'gain_ch_10': '15000',\n",
       "   'filter_ch_10': '2',\n",
       "   'a_in_ch_10': '10',\n",
       "   'b_in_ch_10': '5',\n",
       "   'mode_ch_10': '4',\n",
       "   'filtresp_ch_10': '0',\n",
       "   'filtkind_ch_10': '0',\n",
       "   'filtfreq1_ch_10': '0',\n",
       "   'filtfreq2_ch_10': '0',\n",
       "   'filtripple_ch_10': '0.00',\n",
       "   'filtdcblock_ch_10': '0',\n",
       "   'dispmode_ch_10': '1',\n",
       "   'channame_ch_10': '',\n",
       "   'gain_ch_11': '15000',\n",
       "   'filter_ch_11': '2',\n",
       "   'a_in_ch_11': '11',\n",
       "   'b_in_ch_11': '5',\n",
       "   'mode_ch_11': '4',\n",
       "   'filtresp_ch_11': '0',\n",
       "   'filtkind_ch_11': '0',\n",
       "   'filtfreq1_ch_11': '0',\n",
       "   'filtfreq2_ch_11': '0',\n",
       "   'filtripple_ch_11': '0.00',\n",
       "   'filtdcblock_ch_11': '0',\n",
       "   'dispmode_ch_11': '1',\n",
       "   'channame_ch_11': '',\n",
       "   'gain_ch_12': '15000',\n",
       "   'filter_ch_12': '2',\n",
       "   'a_in_ch_12': '12',\n",
       "   'b_in_ch_12': '5',\n",
       "   'mode_ch_12': '4',\n",
       "   'filtresp_ch_12': '0',\n",
       "   'filtkind_ch_12': '0',\n",
       "   'filtfreq1_ch_12': '0',\n",
       "   'filtfreq2_ch_12': '0',\n",
       "   'filtripple_ch_12': '0.00',\n",
       "   'filtdcblock_ch_12': '0',\n",
       "   'dispmode_ch_12': '1',\n",
       "   'channame_ch_12': '',\n",
       "   'gain_ch_13': '15000',\n",
       "   'filter_ch_13': '2',\n",
       "   'a_in_ch_13': '13',\n",
       "   'b_in_ch_13': '5',\n",
       "   'mode_ch_13': '4',\n",
       "   'filtresp_ch_13': '0',\n",
       "   'filtkind_ch_13': '0',\n",
       "   'filtfreq1_ch_13': '0',\n",
       "   'filtfreq2_ch_13': '0',\n",
       "   'filtripple_ch_13': '0.00',\n",
       "   'filtdcblock_ch_13': '0',\n",
       "   'dispmode_ch_13': '1',\n",
       "   'channame_ch_13': '',\n",
       "   'gain_ch_14': '15000',\n",
       "   'filter_ch_14': '2',\n",
       "   'a_in_ch_14': '14',\n",
       "   'b_in_ch_14': '5',\n",
       "   'mode_ch_14': '4',\n",
       "   'filtresp_ch_14': '0',\n",
       "   'filtkind_ch_14': '0',\n",
       "   'filtfreq1_ch_14': '0',\n",
       "   'filtfreq2_ch_14': '0',\n",
       "   'filtripple_ch_14': '0.00',\n",
       "   'filtdcblock_ch_14': '0',\n",
       "   'dispmode_ch_14': '1',\n",
       "   'channame_ch_14': '',\n",
       "   'gain_ch_15': '15000',\n",
       "   'filter_ch_15': '2',\n",
       "   'a_in_ch_15': '15',\n",
       "   'b_in_ch_15': '5',\n",
       "   'mode_ch_15': '4',\n",
       "   'filtresp_ch_15': '0',\n",
       "   'filtkind_ch_15': '0',\n",
       "   'filtfreq1_ch_15': '0',\n",
       "   'filtfreq2_ch_15': '0',\n",
       "   'filtripple_ch_15': '0.00',\n",
       "   'filtdcblock_ch_15': '0',\n",
       "   'dispmode_ch_15': '1',\n",
       "   'channame_ch_15': '',\n",
       "   'gain_ch_16': '4000',\n",
       "   'filter_ch_16': '4',\n",
       "   'a_in_ch_16': '16',\n",
       "   'b_in_ch_16': '0',\n",
       "   'mode_ch_16': '1',\n",
       "   'filtresp_ch_16': '0',\n",
       "   'filtkind_ch_16': '0',\n",
       "   'filtfreq1_ch_16': '0',\n",
       "   'filtfreq2_ch_16': '0',\n",
       "   'filtripple_ch_16': '0.00',\n",
       "   'filtdcblock_ch_16': '0',\n",
       "   'dispmode_ch_16': '1',\n",
       "   'channame_ch_16': '',\n",
       "   'gain_ch_17': '3000',\n",
       "   'filter_ch_17': '4',\n",
       "   'a_in_ch_17': '17',\n",
       "   'b_in_ch_17': '0',\n",
       "   'mode_ch_17': '1',\n",
       "   'filtresp_ch_17': '0',\n",
       "   'filtkind_ch_17': '0',\n",
       "   'filtfreq1_ch_17': '0',\n",
       "   'filtfreq2_ch_17': '0',\n",
       "   'filtripple_ch_17': '0.00',\n",
       "   'filtdcblock_ch_17': '0',\n",
       "   'dispmode_ch_17': '1',\n",
       "   'channame_ch_17': '',\n",
       "   'gain_ch_18': '2000',\n",
       "   'filter_ch_18': '4',\n",
       "   'a_in_ch_18': '18',\n",
       "   'b_in_ch_18': '0',\n",
       "   'mode_ch_18': '1',\n",
       "   'filtresp_ch_18': '0',\n",
       "   'filtkind_ch_18': '0',\n",
       "   'filtfreq1_ch_18': '0',\n",
       "   'filtfreq2_ch_18': '0',\n",
       "   'filtripple_ch_18': '0.00',\n",
       "   'filtdcblock_ch_18': '0',\n",
       "   'dispmode_ch_18': '1',\n",
       "   'channame_ch_18': '',\n",
       "   'gain_ch_19': '500',\n",
       "   'filter_ch_19': '4',\n",
       "   'a_in_ch_19': '19',\n",
       "   'b_in_ch_19': '0',\n",
       "   'mode_ch_19': '3',\n",
       "   'filtresp_ch_19': '0',\n",
       "   'filtkind_ch_19': '0',\n",
       "   'filtfreq1_ch_19': '0',\n",
       "   'filtfreq2_ch_19': '0',\n",
       "   'filtripple_ch_19': '0.00',\n",
       "   'filtdcblock_ch_19': '0',\n",
       "   'dispmode_ch_19': '1',\n",
       "   'channame_ch_19': '',\n",
       "   'gain_ch_20': '30000',\n",
       "   'filter_ch_20': '2',\n",
       "   'a_in_ch_20': '20',\n",
       "   'b_in_ch_20': '26',\n",
       "   'mode_ch_20': '6',\n",
       "   'filtresp_ch_20': '2',\n",
       "   'filtkind_ch_20': '0',\n",
       "   'filtfreq1_ch_20': '300',\n",
       "   'filtfreq2_ch_20': '7000',\n",
       "   'filtripple_ch_20': '0.10',\n",
       "   'filtdcblock_ch_20': '1',\n",
       "   'dispmode_ch_20': '1',\n",
       "   'channame_ch_20': '',\n",
       "   'gain_ch_21': '30000',\n",
       "   'filter_ch_21': '2',\n",
       "   'a_in_ch_21': '21',\n",
       "   'b_in_ch_21': '26',\n",
       "   'mode_ch_21': '6',\n",
       "   'filtresp_ch_21': '2',\n",
       "   'filtkind_ch_21': '0',\n",
       "   'filtfreq1_ch_21': '300',\n",
       "   'filtfreq2_ch_21': '7000',\n",
       "   'filtripple_ch_21': '0.10',\n",
       "   'filtdcblock_ch_21': '1',\n",
       "   'dispmode_ch_21': '1',\n",
       "   'channame_ch_21': '',\n",
       "   'gain_ch_22': '30000',\n",
       "   'filter_ch_22': '2',\n",
       "   'a_in_ch_22': '22',\n",
       "   'b_in_ch_22': '26',\n",
       "   'mode_ch_22': '6',\n",
       "   'filtresp_ch_22': '2',\n",
       "   'filtkind_ch_22': '0',\n",
       "   'filtfreq1_ch_22': '300',\n",
       "   'filtfreq2_ch_22': '7000',\n",
       "   'filtripple_ch_22': '0.10',\n",
       "   'filtdcblock_ch_22': '1',\n",
       "   'dispmode_ch_22': '1',\n",
       "   'channame_ch_22': '',\n",
       "   'gain_ch_23': '30000',\n",
       "   'filter_ch_23': '2',\n",
       "   'a_in_ch_23': '23',\n",
       "   'b_in_ch_23': '26',\n",
       "   'mode_ch_23': '6',\n",
       "   'filtresp_ch_23': '2',\n",
       "   'filtkind_ch_23': '0',\n",
       "   'filtfreq1_ch_23': '300',\n",
       "   'filtfreq2_ch_23': '7000',\n",
       "   'filtripple_ch_23': '0.10',\n",
       "   'filtdcblock_ch_23': '1',\n",
       "   'dispmode_ch_23': '1',\n",
       "   'channame_ch_23': '',\n",
       "   'gain_ch_24': '30000',\n",
       "   'filter_ch_24': '2',\n",
       "   'a_in_ch_24': '24',\n",
       "   'b_in_ch_24': '26',\n",
       "   'mode_ch_24': '6',\n",
       "   'filtresp_ch_24': '2',\n",
       "   'filtkind_ch_24': '0',\n",
       "   'filtfreq1_ch_24': '300',\n",
       "   'filtfreq2_ch_24': '7000',\n",
       "   'filtripple_ch_24': '0.10',\n",
       "   'filtdcblock_ch_24': '1',\n",
       "   'dispmode_ch_24': '1',\n",
       "   'channame_ch_24': '',\n",
       "   'gain_ch_25': '30000',\n",
       "   'filter_ch_25': '2',\n",
       "   'a_in_ch_25': '25',\n",
       "   'b_in_ch_25': '26',\n",
       "   'mode_ch_25': '6',\n",
       "   'filtresp_ch_25': '2',\n",
       "   'filtkind_ch_25': '0',\n",
       "   'filtfreq1_ch_25': '300',\n",
       "   'filtfreq2_ch_25': '7000',\n",
       "   'filtripple_ch_25': '0.10',\n",
       "   'filtdcblock_ch_25': '1',\n",
       "   'dispmode_ch_25': '1',\n",
       "   'channame_ch_25': '',\n",
       "   'gain_ch_26': '30000',\n",
       "   'filter_ch_26': '2',\n",
       "   'a_in_ch_26': '26',\n",
       "   'b_in_ch_26': '0',\n",
       "   'mode_ch_26': '6',\n",
       "   'filtresp_ch_26': '2',\n",
       "   'filtkind_ch_26': '0',\n",
       "   'filtfreq1_ch_26': '300',\n",
       "   'filtfreq2_ch_26': '7000',\n",
       "   'filtripple_ch_26': '0.10',\n",
       "   'filtdcblock_ch_26': '1',\n",
       "   'dispmode_ch_26': '1',\n",
       "   'channame_ch_26': '',\n",
       "   'gain_ch_27': '30000',\n",
       "   'filter_ch_27': '2',\n",
       "   'a_in_ch_27': '27',\n",
       "   'b_in_ch_27': '26',\n",
       "   'mode_ch_27': '6',\n",
       "   'filtresp_ch_27': '2',\n",
       "   'filtkind_ch_27': '0',\n",
       "   'filtfreq1_ch_27': '300',\n",
       "   'filtfreq2_ch_27': '7000',\n",
       "   'filtripple_ch_27': '0.10',\n",
       "   'filtdcblock_ch_27': '1',\n",
       "   'dispmode_ch_27': '1',\n",
       "   'channame_ch_27': '',\n",
       "   'gain_ch_28': '30000',\n",
       "   'filter_ch_28': '2',\n",
       "   'a_in_ch_28': '28',\n",
       "   'b_in_ch_28': '26',\n",
       "   'mode_ch_28': '6',\n",
       "   'filtresp_ch_28': '2',\n",
       "   'filtkind_ch_28': '0',\n",
       "   'filtfreq1_ch_28': '300',\n",
       "   'filtfreq2_ch_28': '7000',\n",
       "   'filtripple_ch_28': '0.10',\n",
       "   'filtdcblock_ch_28': '1',\n",
       "   'dispmode_ch_28': '1',\n",
       "   'channame_ch_28': '',\n",
       "   'gain_ch_29': '30000',\n",
       "   'filter_ch_29': '2',\n",
       "   'a_in_ch_29': '29',\n",
       "   'b_in_ch_29': '26',\n",
       "   'mode_ch_29': '6',\n",
       "   'filtresp_ch_29': '2',\n",
       "   'filtkind_ch_29': '0',\n",
       "   'filtfreq1_ch_29': '300',\n",
       "   'filtfreq2_ch_29': '7000',\n",
       "   'filtripple_ch_29': '0.10',\n",
       "   'filtdcblock_ch_29': '1',\n",
       "   'dispmode_ch_29': '1',\n",
       "   'channame_ch_29': '',\n",
       "   'gain_ch_30': '30000',\n",
       "   'filter_ch_30': '2',\n",
       "   'a_in_ch_30': '30',\n",
       "   'b_in_ch_30': '26',\n",
       "   'mode_ch_30': '6',\n",
       "   'filtresp_ch_30': '2',\n",
       "   'filtkind_ch_30': '0',\n",
       "   'filtfreq1_ch_30': '300',\n",
       "   'filtfreq2_ch_30': '7000',\n",
       "   'filtripple_ch_30': '0.10',\n",
       "   'filtdcblock_ch_30': '1',\n",
       "   'dispmode_ch_30': '1',\n",
       "   'channame_ch_30': '',\n",
       "   'gain_ch_31': '30000',\n",
       "   'filter_ch_31': '2',\n",
       "   'a_in_ch_31': '31',\n",
       "   'b_in_ch_31': '26',\n",
       "   'mode_ch_31': '6',\n",
       "   'filtresp_ch_31': '2',\n",
       "   'filtkind_ch_31': '0',\n",
       "   'filtfreq1_ch_31': '300',\n",
       "   'filtfreq2_ch_31': '7000',\n",
       "   'filtripple_ch_31': '0.10',\n",
       "   'filtdcblock_ch_31': '1',\n",
       "   'dispmode_ch_31': '1',\n",
       "   'channame_ch_31': '',\n",
       "   'gain_ch_32': '4000',\n",
       "   'filter_ch_32': '2',\n",
       "   'a_in_ch_32': '32',\n",
       "   'b_in_ch_32': '5',\n",
       "   'mode_ch_32': '5',\n",
       "   'filtresp_ch_32': '2',\n",
       "   'filtkind_ch_32': '0',\n",
       "   'filtfreq1_ch_32': '300',\n",
       "   'filtfreq2_ch_32': '7000',\n",
       "   'filtripple_ch_32': '0.10',\n",
       "   'filtdcblock_ch_32': '1',\n",
       "   'dispmode_ch_32': '1',\n",
       "   'channame_ch_32': '',\n",
       "   'gain_ch_33': '4000',\n",
       "   'filter_ch_33': '2',\n",
       "   'a_in_ch_33': '33',\n",
       "   'b_in_ch_33': '5',\n",
       "   'mode_ch_33': '5',\n",
       "   'filtresp_ch_33': '2',\n",
       "   'filtkind_ch_33': '0',\n",
       "   'filtfreq1_ch_33': '300',\n",
       "   'filtfreq2_ch_33': '7000',\n",
       "   'filtripple_ch_33': '0.10',\n",
       "   'filtdcblock_ch_33': '1',\n",
       "   'dispmode_ch_33': '1',\n",
       "   'channame_ch_33': '',\n",
       "   'gain_ch_34': '4000',\n",
       "   'filter_ch_34': '2',\n",
       "   'a_in_ch_34': '34',\n",
       "   'b_in_ch_34': '5',\n",
       "   'mode_ch_34': '5',\n",
       "   'filtresp_ch_34': '2',\n",
       "   'filtkind_ch_34': '0',\n",
       "   'filtfreq1_ch_34': '300',\n",
       "   'filtfreq2_ch_34': '7000',\n",
       "   'filtripple_ch_34': '0.10',\n",
       "   'filtdcblock_ch_34': '1',\n",
       "   'dispmode_ch_34': '1',\n",
       "   'channame_ch_34': '',\n",
       "   'gain_ch_35': '4000',\n",
       "   'filter_ch_35': '2',\n",
       "   'a_in_ch_35': '35',\n",
       "   'b_in_ch_35': '5',\n",
       "   'mode_ch_35': '5',\n",
       "   'filtresp_ch_35': '2',\n",
       "   'filtkind_ch_35': '0',\n",
       "   'filtfreq1_ch_35': '300',\n",
       "   'filtfreq2_ch_35': '7000',\n",
       "   'filtripple_ch_35': '0.10',\n",
       "   'filtdcblock_ch_35': '1',\n",
       "   'dispmode_ch_35': '1',\n",
       "   'channame_ch_35': '',\n",
       "   'gain_ch_36': '4000',\n",
       "   'filter_ch_36': '2',\n",
       "   'a_in_ch_36': '36',\n",
       "   'b_in_ch_36': '4',\n",
       "   'mode_ch_36': '5',\n",
       "   'filtresp_ch_36': '2',\n",
       "   'filtkind_ch_36': '0',\n",
       "   'filtfreq1_ch_36': '300',\n",
       "   'filtfreq2_ch_36': '7000',\n",
       "   'filtripple_ch_36': '0.10',\n",
       "   'filtdcblock_ch_36': '1',\n",
       "   'dispmode_ch_36': '1',\n",
       "   'channame_ch_36': '',\n",
       "   'gain_ch_37': '4000',\n",
       "   'filter_ch_37': '2',\n",
       "   'a_in_ch_37': '37',\n",
       "   'b_in_ch_37': '4',\n",
       "   'mode_ch_37': '5',\n",
       "   'filtresp_ch_37': '2',\n",
       "   'filtkind_ch_37': '0',\n",
       "   'filtfreq1_ch_37': '300',\n",
       "   'filtfreq2_ch_37': '7000',\n",
       "   'filtripple_ch_37': '0.10',\n",
       "   'filtdcblock_ch_37': '1',\n",
       "   'dispmode_ch_37': '1',\n",
       "   'channame_ch_37': '',\n",
       "   'gain_ch_38': '4000',\n",
       "   'filter_ch_38': '2',\n",
       "   'a_in_ch_38': '38',\n",
       "   'b_in_ch_38': '4',\n",
       "   'mode_ch_38': '5',\n",
       "   'filtresp_ch_38': '2',\n",
       "   'filtkind_ch_38': '0',\n",
       "   'filtfreq1_ch_38': '300',\n",
       "   'filtfreq2_ch_38': '7000',\n",
       "   'filtripple_ch_38': '0.10',\n",
       "   'filtdcblock_ch_38': '1',\n",
       "   'dispmode_ch_38': '1',\n",
       "   'channame_ch_38': '',\n",
       "   'gain_ch_39': '4000',\n",
       "   'filter_ch_39': '2',\n",
       "   'a_in_ch_39': '39',\n",
       "   'b_in_ch_39': '4',\n",
       "   'mode_ch_39': '5',\n",
       "   'filtresp_ch_39': '2',\n",
       "   'filtkind_ch_39': '0',\n",
       "   'filtfreq1_ch_39': '300',\n",
       "   'filtfreq2_ch_39': '7000',\n",
       "   'filtripple_ch_39': '0.10',\n",
       "   'filtdcblock_ch_39': '1',\n",
       "   'dispmode_ch_39': '1',\n",
       "   'channame_ch_39': '',\n",
       "   'gain_ch_40': '4000',\n",
       "   'filter_ch_40': '2',\n",
       "   'a_in_ch_40': '40',\n",
       "   'b_in_ch_40': '5',\n",
       "   'mode_ch_40': '5',\n",
       "   'filtresp_ch_40': '2',\n",
       "   'filtkind_ch_40': '0',\n",
       "   'filtfreq1_ch_40': '300',\n",
       "   'filtfreq2_ch_40': '7000',\n",
       "   'filtripple_ch_40': '0.10',\n",
       "   'filtdcblock_ch_40': '1',\n",
       "   'dispmode_ch_40': '1',\n",
       "   'channame_ch_40': '',\n",
       "   'gain_ch_41': '4000',\n",
       "   'filter_ch_41': '2',\n",
       "   'a_in_ch_41': '41',\n",
       "   'b_in_ch_41': '5',\n",
       "   'mode_ch_41': '5',\n",
       "   'filtresp_ch_41': '2',\n",
       "   'filtkind_ch_41': '0',\n",
       "   'filtfreq1_ch_41': '300',\n",
       "   'filtfreq2_ch_41': '7000',\n",
       "   'filtripple_ch_41': '0.10',\n",
       "   'filtdcblock_ch_41': '1',\n",
       "   'dispmode_ch_41': '1',\n",
       "   'channame_ch_41': '',\n",
       "   'gain_ch_42': '4000',\n",
       "   'filter_ch_42': '2',\n",
       "   'a_in_ch_42': '42',\n",
       "   'b_in_ch_42': '5',\n",
       "   'mode_ch_42': '5',\n",
       "   'filtresp_ch_42': '2',\n",
       "   'filtkind_ch_42': '0',\n",
       "   'filtfreq1_ch_42': '300',\n",
       "   'filtfreq2_ch_42': '7000',\n",
       "   'filtripple_ch_42': '0.10',\n",
       "   'filtdcblock_ch_42': '1',\n",
       "   'dispmode_ch_42': '1',\n",
       "   'channame_ch_42': '',\n",
       "   'gain_ch_43': '4000',\n",
       "   'filter_ch_43': '2',\n",
       "   'a_in_ch_43': '43',\n",
       "   'b_in_ch_43': '5',\n",
       "   'mode_ch_43': '5',\n",
       "   'filtresp_ch_43': '2',\n",
       "   'filtkind_ch_43': '0',\n",
       "   'filtfreq1_ch_43': '300',\n",
       "   'filtfreq2_ch_43': '7000',\n",
       "   'filtripple_ch_43': '0.10',\n",
       "   'filtdcblock_ch_43': '1',\n",
       "   'dispmode_ch_43': '1',\n",
       "   'channame_ch_43': '',\n",
       "   'gain_ch_44': '4000',\n",
       "   'filter_ch_44': '2',\n",
       "   'a_in_ch_44': '44',\n",
       "   'b_in_ch_44': '4',\n",
       "   'mode_ch_44': '5',\n",
       "   'filtresp_ch_44': '2',\n",
       "   'filtkind_ch_44': '0',\n",
       "   'filtfreq1_ch_44': '300',\n",
       "   'filtfreq2_ch_44': '7000',\n",
       "   'filtripple_ch_44': '0.10',\n",
       "   'filtdcblock_ch_44': '1',\n",
       "   'dispmode_ch_44': '1',\n",
       "   'channame_ch_44': '',\n",
       "   'gain_ch_45': '4000',\n",
       "   'filter_ch_45': '2',\n",
       "   'a_in_ch_45': '45',\n",
       "   'b_in_ch_45': '4',\n",
       "   'mode_ch_45': '5',\n",
       "   'filtresp_ch_45': '2',\n",
       "   'filtkind_ch_45': '0',\n",
       "   'filtfreq1_ch_45': '300',\n",
       "   'filtfreq2_ch_45': '7000',\n",
       "   'filtripple_ch_45': '0.10',\n",
       "   'filtdcblock_ch_45': '1',\n",
       "   'dispmode_ch_45': '1',\n",
       "   'channame_ch_45': '',\n",
       "   'gain_ch_46': '4000',\n",
       "   'filter_ch_46': '2',\n",
       "   'a_in_ch_46': '46',\n",
       "   'b_in_ch_46': '4',\n",
       "   'mode_ch_46': '5',\n",
       "   'filtresp_ch_46': '2',\n",
       "   'filtkind_ch_46': '0',\n",
       "   'filtfreq1_ch_46': '300',\n",
       "   'filtfreq2_ch_46': '7000',\n",
       "   'filtripple_ch_46': '0.10',\n",
       "   'filtdcblock_ch_46': '1',\n",
       "   'dispmode_ch_46': '1',\n",
       "   'channame_ch_46': '',\n",
       "   'gain_ch_47': '4000',\n",
       "   'filter_ch_47': '2',\n",
       "   'a_in_ch_47': '47',\n",
       "   'b_in_ch_47': '4',\n",
       "   'mode_ch_47': '5',\n",
       "   'filtresp_ch_47': '2',\n",
       "   'filtkind_ch_47': '0',\n",
       "   'filtfreq1_ch_47': '300',\n",
       "   'filtfreq2_ch_47': '7000',\n",
       "   'filtripple_ch_47': '0.10',\n",
       "   'filtdcblock_ch_47': '1',\n",
       "   'dispmode_ch_47': '1',\n",
       "   'channame_ch_47': '',\n",
       "   'gain_ch_48': '4000',\n",
       "   'filter_ch_48': '2',\n",
       "   'a_in_ch_48': '48',\n",
       "   'b_in_ch_48': '7',\n",
       "   'mode_ch_48': '5',\n",
       "   'filtresp_ch_48': '2',\n",
       "   'filtkind_ch_48': '0',\n",
       "   'filtfreq1_ch_48': '300',\n",
       "   'filtfreq2_ch_48': '7000',\n",
       "   'filtripple_ch_48': '0.10',\n",
       "   'filtdcblock_ch_48': '1',\n",
       "   'dispmode_ch_48': '1',\n",
       "   'channame_ch_48': '',\n",
       "   'gain_ch_49': '4000',\n",
       "   'filter_ch_49': '2',\n",
       "   'a_in_ch_49': '49',\n",
       "   'b_in_ch_49': '7',\n",
       "   'mode_ch_49': '5',\n",
       "   'filtresp_ch_49': '2',\n",
       "   'filtkind_ch_49': '0',\n",
       "   'filtfreq1_ch_49': '300',\n",
       "   'filtfreq2_ch_49': '7000',\n",
       "   'filtripple_ch_49': '0.10',\n",
       "   'filtdcblock_ch_49': '1',\n",
       "   'dispmode_ch_49': '1',\n",
       "   'channame_ch_49': '',\n",
       "   'gain_ch_50': '4000',\n",
       "   'filter_ch_50': '2',\n",
       "   'a_in_ch_50': '50',\n",
       "   'b_in_ch_50': '7',\n",
       "   'mode_ch_50': '5',\n",
       "   'filtresp_ch_50': '2',\n",
       "   'filtkind_ch_50': '0',\n",
       "   'filtfreq1_ch_50': '300',\n",
       "   'filtfreq2_ch_50': '7000',\n",
       "   'filtripple_ch_50': '0.10',\n",
       "   'filtdcblock_ch_50': '1',\n",
       "   'dispmode_ch_50': '1',\n",
       "   'channame_ch_50': '',\n",
       "   'gain_ch_51': '4000',\n",
       "   'filter_ch_51': '2',\n",
       "   'a_in_ch_51': '51',\n",
       "   'b_in_ch_51': '7',\n",
       "   'mode_ch_51': '5',\n",
       "   'filtresp_ch_51': '2',\n",
       "   'filtkind_ch_51': '0',\n",
       "   'filtfreq1_ch_51': '300',\n",
       "   'filtfreq2_ch_51': '7000',\n",
       "   'filtripple_ch_51': '0.10',\n",
       "   'filtdcblock_ch_51': '1',\n",
       "   'dispmode_ch_51': '1',\n",
       "   'channame_ch_51': '',\n",
       "   'gain_ch_52': '4000',\n",
       "   'filter_ch_52': '2',\n",
       "   'a_in_ch_52': '52',\n",
       "   'b_in_ch_52': '6',\n",
       "   'mode_ch_52': '5',\n",
       "   'filtresp_ch_52': '2',\n",
       "   'filtkind_ch_52': '0',\n",
       "   'filtfreq1_ch_52': '300',\n",
       "   'filtfreq2_ch_52': '7000',\n",
       "   'filtripple_ch_52': '0.10',\n",
       "   'filtdcblock_ch_52': '1',\n",
       "   'dispmode_ch_52': '1',\n",
       "   'channame_ch_52': '',\n",
       "   'gain_ch_53': '4000',\n",
       "   'filter_ch_53': '2',\n",
       "   'a_in_ch_53': '53',\n",
       "   'b_in_ch_53': '6',\n",
       "   'mode_ch_53': '5',\n",
       "   'filtresp_ch_53': '2',\n",
       "   'filtkind_ch_53': '0',\n",
       "   'filtfreq1_ch_53': '300',\n",
       "   'filtfreq2_ch_53': '7000',\n",
       "   'filtripple_ch_53': '0.10',\n",
       "   'filtdcblock_ch_53': '1',\n",
       "   'dispmode_ch_53': '1',\n",
       "   'channame_ch_53': '',\n",
       "   'gain_ch_54': '4000',\n",
       "   'filter_ch_54': '2',\n",
       "   'a_in_ch_54': '54',\n",
       "   'b_in_ch_54': '6',\n",
       "   'mode_ch_54': '5',\n",
       "   'filtresp_ch_54': '2',\n",
       "   'filtkind_ch_54': '0',\n",
       "   'filtfreq1_ch_54': '300',\n",
       "   'filtfreq2_ch_54': '7000',\n",
       "   'filtripple_ch_54': '0.10',\n",
       "   'filtdcblock_ch_54': '1',\n",
       "   'dispmode_ch_54': '1',\n",
       "   'channame_ch_54': '',\n",
       "   'gain_ch_55': '4000',\n",
       "   'filter_ch_55': '2',\n",
       "   'a_in_ch_55': '55',\n",
       "   'b_in_ch_55': '6',\n",
       "   'mode_ch_55': '5',\n",
       "   'filtresp_ch_55': '2',\n",
       "   'filtkind_ch_55': '0',\n",
       "   'filtfreq1_ch_55': '300',\n",
       "   'filtfreq2_ch_55': '7000',\n",
       "   'filtripple_ch_55': '0.10',\n",
       "   'filtdcblock_ch_55': '1',\n",
       "   'dispmode_ch_55': '1',\n",
       "   'channame_ch_55': '',\n",
       "   'gain_ch_56': '4000',\n",
       "   'filter_ch_56': '2',\n",
       "   'a_in_ch_56': '56',\n",
       "   'b_in_ch_56': '7',\n",
       "   'mode_ch_56': '5',\n",
       "   'filtresp_ch_56': '2',\n",
       "   'filtkind_ch_56': '0',\n",
       "   'filtfreq1_ch_56': '300',\n",
       "   'filtfreq2_ch_56': '7000',\n",
       "   'filtripple_ch_56': '0.10',\n",
       "   'filtdcblock_ch_56': '1',\n",
       "   'dispmode_ch_56': '1',\n",
       "   'channame_ch_56': '',\n",
       "   'gain_ch_57': '4000',\n",
       "   'filter_ch_57': '2',\n",
       "   'a_in_ch_57': '57',\n",
       "   'b_in_ch_57': '7',\n",
       "   'mode_ch_57': '5',\n",
       "   'filtresp_ch_57': '2',\n",
       "   'filtkind_ch_57': '0',\n",
       "   'filtfreq1_ch_57': '300',\n",
       "   'filtfreq2_ch_57': '7000',\n",
       "   'filtripple_ch_57': '0.10',\n",
       "   'filtdcblock_ch_57': '1',\n",
       "   'dispmode_ch_57': '1',\n",
       "   'channame_ch_57': '',\n",
       "   'gain_ch_58': '4000',\n",
       "   'filter_ch_58': '2',\n",
       "   'a_in_ch_58': '58',\n",
       "   'b_in_ch_58': '7',\n",
       "   'mode_ch_58': '5',\n",
       "   'filtresp_ch_58': '2',\n",
       "   'filtkind_ch_58': '0',\n",
       "   'filtfreq1_ch_58': '300',\n",
       "   'filtfreq2_ch_58': '7000',\n",
       "   'filtripple_ch_58': '0.10',\n",
       "   'filtdcblock_ch_58': '1',\n",
       "   'dispmode_ch_58': '1',\n",
       "   'channame_ch_58': '',\n",
       "   'gain_ch_59': '4000',\n",
       "   'filter_ch_59': '2',\n",
       "   'a_in_ch_59': '59',\n",
       "   'b_in_ch_59': '7',\n",
       "   'mode_ch_59': '5',\n",
       "   'filtresp_ch_59': '2',\n",
       "   'filtkind_ch_59': '0',\n",
       "   'filtfreq1_ch_59': '300',\n",
       "   'filtfreq2_ch_59': '7000',\n",
       "   'filtripple_ch_59': '0.10',\n",
       "   'filtdcblock_ch_59': '1',\n",
       "   'dispmode_ch_59': '1',\n",
       "   'channame_ch_59': '',\n",
       "   'gain_ch_60': '4000',\n",
       "   'filter_ch_60': '2',\n",
       "   'a_in_ch_60': '60',\n",
       "   'b_in_ch_60': '6',\n",
       "   'mode_ch_60': '5',\n",
       "   'filtresp_ch_60': '2',\n",
       "   'filtkind_ch_60': '0',\n",
       "   'filtfreq1_ch_60': '300',\n",
       "   'filtfreq2_ch_60': '7000',\n",
       "   'filtripple_ch_60': '0.10',\n",
       "   'filtdcblock_ch_60': '1',\n",
       "   'dispmode_ch_60': '1',\n",
       "   'channame_ch_60': '',\n",
       "   'gain_ch_61': '4000',\n",
       "   'filter_ch_61': '2',\n",
       "   'a_in_ch_61': '61',\n",
       "   'b_in_ch_61': '6',\n",
       "   'mode_ch_61': '5',\n",
       "   'filtresp_ch_61': '2',\n",
       "   'filtkind_ch_61': '0',\n",
       "   'filtfreq1_ch_61': '300',\n",
       "   'filtfreq2_ch_61': '7000',\n",
       "   'filtripple_ch_61': '0.10',\n",
       "   'filtdcblock_ch_61': '1',\n",
       "   'dispmode_ch_61': '1',\n",
       "   'channame_ch_61': '',\n",
       "   'gain_ch_62': '4000',\n",
       "   'filter_ch_62': '2',\n",
       "   'a_in_ch_62': '62',\n",
       "   'b_in_ch_62': '6',\n",
       "   'mode_ch_62': '5',\n",
       "   'filtresp_ch_62': '2',\n",
       "   'filtkind_ch_62': '0',\n",
       "   'filtfreq1_ch_62': '300',\n",
       "   'filtfreq2_ch_62': '7000',\n",
       "   'filtripple_ch_62': '0.10',\n",
       "   'filtdcblock_ch_62': '1',\n",
       "   'dispmode_ch_62': '1',\n",
       "   'channame_ch_62': '',\n",
       "   'gain_ch_63': '4000',\n",
       "   'filter_ch_63': '2',\n",
       "   'a_in_ch_63': '63',\n",
       "   'b_in_ch_63': '6',\n",
       "   'mode_ch_63': '5',\n",
       "   'filtresp_ch_63': '2',\n",
       "   'filtkind_ch_63': '0',\n",
       "   'filtfreq1_ch_63': '300',\n",
       "   'filtfreq2_ch_63': '7000',\n",
       "   'filtripple_ch_63': '0.10',\n",
       "   'filtdcblock_ch_63': '1',\n",
       "   'dispmode_ch_63': '1',\n",
       "   'channame_ch_63': '',\n",
       "   'second_audio': '9',\n",
       "   'default_filtresp_hp': '2',\n",
       "   'default_filtkind_hp': '0',\n",
       "   'default_filtfreq1_hp': '300',\n",
       "   'default_filtfreq2_hp': '7000',\n",
       "   'default_filtripple_hp': '0.10',\n",
       "   'default_filtdcblock_hp': '1',\n",
       "   'default_filtresp_lp': '0',\n",
       "   'default_filtkind_lp': '1',\n",
       "   'default_filtfreq1_lp': '500',\n",
       "   'default_filtfreq2_lp': '0',\n",
       "   'default_filtripple_lp': '0.10',\n",
       "   'default_filtdcblock_lp': '1',\n",
       "   'notch_frequency': '60',\n",
       "   'ref_0': '4',\n",
       "   'ref_1': '5',\n",
       "   'ref_2': '0',\n",
       "   'ref_3': '2',\n",
       "   'ref_4': '3',\n",
       "   'ref_5': '7',\n",
       "   'ref_6': '6',\n",
       "   'ref_7': '0',\n",
       "   'trigger_chan': '6',\n",
       "   'selected_slot': '6',\n",
       "   'sweeprate': '5',\n",
       "   'trig_point': '3',\n",
       "   'trig_slope': '1',\n",
       "   'threshold': '18944',\n",
       "   'leftthreshold': '0',\n",
       "   'rightthreshold': '0',\n",
       "   'aud_threshold': '1',\n",
       "   'chan_group': '1',\n",
       "   'groups_1_0': '0',\n",
       "   'groups_1_1': '1',\n",
       "   'groups_1_2': '2',\n",
       "   'groups_1_3': '3',\n",
       "   'groups_1_4': '-1',\n",
       "   'groups_1_5': '4',\n",
       "   'groups_1_6': '5',\n",
       "   'groups_1_7': '6',\n",
       "   'groups_1_8': '7',\n",
       "   'groups_1_9': '-1',\n",
       "   'groups_2_0': '8',\n",
       "   'groups_2_1': '9',\n",
       "   'groups_2_2': '10',\n",
       "   'groups_2_3': '11',\n",
       "   'groups_2_4': '-1',\n",
       "   'groups_2_5': '12',\n",
       "   'groups_2_6': '13',\n",
       "   'groups_2_7': '14',\n",
       "   'groups_2_8': '15',\n",
       "   'groups_2_9': '-1',\n",
       "   'groups_3_0': '16',\n",
       "   'groups_3_1': '17',\n",
       "   'groups_3_2': '18',\n",
       "   'groups_3_3': '19',\n",
       "   'groups_3_4': '-1',\n",
       "   'groups_3_5': '20',\n",
       "   'groups_3_6': '21',\n",
       "   'groups_3_7': '22',\n",
       "   'groups_3_8': '23',\n",
       "   'groups_3_9': '-1',\n",
       "   'groups_4_0': '24',\n",
       "   'groups_4_1': '25',\n",
       "   'groups_4_2': '26',\n",
       "   'groups_4_3': '27',\n",
       "   'groups_4_4': '-1',\n",
       "   'groups_4_5': '28',\n",
       "   'groups_4_6': '29',\n",
       "   'groups_4_7': '30',\n",
       "   'groups_4_8': '31',\n",
       "   'groups_4_9': '-1',\n",
       "   'groups_5_0': '0',\n",
       "   'groups_5_1': '1',\n",
       "   'groups_5_2': '2',\n",
       "   'groups_5_3': '3',\n",
       "   'groups_5_4': '-1',\n",
       "   'groups_5_5': '4',\n",
       "   'groups_5_6': '5',\n",
       "   'groups_5_7': '6',\n",
       "   'groups_5_8': '7',\n",
       "   'groups_5_9': '-1',\n",
       "   'groups_6_0': '40',\n",
       "   'groups_6_1': '41',\n",
       "   'groups_6_2': '42',\n",
       "   'groups_6_3': '43',\n",
       "   'groups_6_4': '-1',\n",
       "   'groups_6_5': '44',\n",
       "   'groups_6_6': '45',\n",
       "   'groups_6_7': '46',\n",
       "   'groups_6_8': '47',\n",
       "   'groups_6_9': '-1',\n",
       "   'groups_7_0': '48',\n",
       "   'groups_7_1': '49',\n",
       "   'groups_7_2': '50',\n",
       "   'groups_7_3': '51',\n",
       "   'groups_7_4': '-1',\n",
       "   'groups_7_5': '52',\n",
       "   'groups_7_6': '53',\n",
       "   'groups_7_7': '54',\n",
       "   'groups_7_8': '55',\n",
       "   'groups_7_9': '-1',\n",
       "   'groups_8_0': '56',\n",
       "   'groups_8_1': '57',\n",
       "   'groups_8_2': '58',\n",
       "   'groups_8_3': '59',\n",
       "   'groups_8_4': '-1',\n",
       "   'groups_8_5': '60',\n",
       "   'groups_8_6': '61',\n",
       "   'groups_8_7': '62',\n",
       "   'groups_8_8': '63',\n",
       "   'groups_8_9': '-1',\n",
       "   'groups_9_0': '-1',\n",
       "   'groups_9_1': '-1',\n",
       "   'groups_9_2': '-1',\n",
       "   'groups_9_3': '-1',\n",
       "   'groups_9_4': '-1',\n",
       "   'groups_9_5': '-1',\n",
       "   'groups_9_6': '-1',\n",
       "   'groups_9_7': '-1',\n",
       "   'groups_9_8': '-1',\n",
       "   'groups_9_9': '-1',\n",
       "   'groups_10_0': '72',\n",
       "   'groups_10_1': '73',\n",
       "   'groups_10_2': '74',\n",
       "   'groups_10_3': '75',\n",
       "   'groups_10_4': '-1',\n",
       "   'groups_10_5': '76',\n",
       "   'groups_10_6': '77',\n",
       "   'groups_10_7': '78',\n",
       "   'groups_10_8': '79',\n",
       "   'groups_10_9': '-1',\n",
       "   'groups_11_0': '80',\n",
       "   'groups_11_1': '81',\n",
       "   'groups_11_2': '82',\n",
       "   'groups_11_3': '83',\n",
       "   'groups_11_4': '-1',\n",
       "   'groups_11_5': '84',\n",
       "   'groups_11_6': '85',\n",
       "   'groups_11_7': '86',\n",
       "   'groups_11_8': '87',\n",
       "   'groups_11_9': '-1',\n",
       "   'groups_12_0': '88',\n",
       "   'groups_12_1': '89',\n",
       "   'groups_12_2': '90',\n",
       "   'groups_12_3': '91',\n",
       "   'groups_12_4': '-1',\n",
       "   'groups_12_5': '92',\n",
       "   'groups_12_6': '93',\n",
       "   'groups_12_7': '94',\n",
       "   'groups_12_8': '95',\n",
       "   'groups_12_9': '-1',\n",
       "   'groups_13_0': '96',\n",
       "   'groups_13_1': '97',\n",
       "   'groups_13_2': '98',\n",
       "   'groups_13_3': '99',\n",
       "   'groups_13_4': '-1',\n",
       "   'groups_13_5': '100',\n",
       "   ...},\n",
       "  'sampling_rate': 48000},\n",
       " 'unit': {'data_type': dtype([('spiketimes', '>i4'), ('samples', 'i1', (50,))]),\n",
       "  'tetrode_ids': [1, 2, 3, 4],\n",
       "  'header_encoding': 'cp1252',\n",
       "  1: {'num_spikes': 159,\n",
       "   'filename': PosixPath('../../freelance-work/catalyst-neuro/hussaini-lab-to-nwb/sample_bin_to_tint/axona_sample.1'),\n",
       "   'header_size': 286},\n",
       "  2: {'num_spikes': 59,\n",
       "   'filename': PosixPath('../../freelance-work/catalyst-neuro/hussaini-lab-to-nwb/sample_bin_to_tint/axona_sample.2'),\n",
       "   'header_size': 285},\n",
       "  3: {'num_spikes': 126,\n",
       "   'filename': PosixPath('../../freelance-work/catalyst-neuro/hussaini-lab-to-nwb/sample_bin_to_tint/axona_sample.3'),\n",
       "   'header_size': 286},\n",
       "  4: {'num_spikes': 96,\n",
       "   'filename': PosixPath('../../freelance-work/catalyst-neuro/hussaini-lab-to-nwb/sample_bin_to_tint/axona_sample.4'),\n",
       "   'header_size': 285},\n",
       "  'trial_date': 'Sunday, 4 Oct 2020',\n",
       "  'trial_time': '11:07:07',\n",
       "  'experimenter': 'Abid',\n",
       "  'comments': '',\n",
       "  'duration': '601',\n",
       "  'sw_version': '1.2.2.16',\n",
       "  'num_chans': 4,\n",
       "  'timebase': '96000 hz',\n",
       "  'bytes_per_timestamp': '4',\n",
       "  'samples_per_spike': '50',\n",
       "  'sample_rate': '48000 hz',\n",
       "  'bytes_per_sample': '1',\n",
       "  'spike_format': 't,ch1,t,ch2,t,ch3,t,ch4'}}"
      ]
     },
     "execution_count": 612,
     "metadata": {},
     "output_type": "execute_result"
    }
   ],
   "source": [
    "re.neo_reader.file_parameters['']"
   ]
  },
  {
   "cell_type": "code",
   "execution_count": 170,
   "id": "hispanic-citation",
   "metadata": {},
   "outputs": [],
   "source": [
    "from spikeextractors.extraction_tools import check_get_traces_args\n",
    "from spikeextractors import RecordingExtractor\n",
    "from spikeextractors.extractors.neoextractors.neobaseextractor import NeoBaseRecordingExtractor\n",
    "from pathlib import Path\n",
    "import numpy as np\n",
    "from typing import Union\n",
    "\n",
    "PathType = Union[Path, str]\n",
    "\n",
    "try:\n",
    "    import neo\n",
    "    HAVE_NEO = True\n",
    "except ImportError:\n",
    "    HAVE_NEO = False"
   ]
  },
  {
   "cell_type": "code",
   "execution_count": 569,
   "id": "interim-store",
   "metadata": {},
   "outputs": [],
   "source": [
    "# Use this one to build class in spikeextractors\n",
    "\n",
    "class AxonaUnitRecordingExtractor(NeoBaseRecordingExtractor):\n",
    "    \"\"\"\n",
    "    Instantiates a RecordinExtractor from an Axon Unit mode file.\n",
    "\n",
    "    Since the unit mode format only saves waveform cutouts, the get_traces\n",
    "    function fills in the rest of the recording with Gaussian uncorrelated noise\n",
    "\n",
    "    Parameters\n",
    "    ----------\n",
    "\n",
    "    noise_std: float\n",
    "        Standard deviation of the Gaussian background noise\n",
    "    \"\"\"\n",
    "    extractor_name = 'AxonaUnitRecording'\n",
    "    mode = 'file'\n",
    "    NeoRawIOClass = 'AxonaRawIO'\n",
    "\n",
    "    def __init__(self, noise_std: float = 3, block_index=None, seg_index=None, **kargs):\n",
    "        NeoBaseRecordingExtractor.__init__(self, block_index=block_index, seg_index=seg_index,\n",
    "                                           **kargs)\n",
    "        self._noise_std = 0  #noise_std\n",
    "\n",
    "    @check_get_traces_args\n",
    "    def get_traces(self, channel_ids=None, start_frame=None, end_frame=None, return_scaled=True):\n",
    "        \n",
    "        timebase_sr = int(self.neo_reader.file_parameters['unit']['timebase'].split(' ')[0])\n",
    "\n",
    "        tcmap = self._get_tetrode_channel_table(channel_ids)\n",
    "        \n",
    "        num_frames_traces = end_frame - start_frame\n",
    "        traces = self._noise_std * np.random.randn(len(channel_ids), num_frames_traces)\n",
    "\n",
    "        itrc = 0\n",
    "        for tetrode_id in np.unique(tcmap[:, 0]):\n",
    "\n",
    "            tetrode_channels = self.neo_reader._get_channel_from_tetrode(tetrode_id)\n",
    "            channels_oi = tcmap[tcmap[:, 0] == tetrode_id, 2]\n",
    "\n",
    "            waveforms = self.neo_reader._get_spike_raw_waveforms(\n",
    "                block_index=0, seg_index=0,\n",
    "                unit_index=tetrode_id - 1,  # Tetrodes IDs are 1-indexed\n",
    "                t_start=start_frame / timebase_sr,\n",
    "                t_stop=end_frame / timebase_sr\n",
    "            )\n",
    "            waveforms = waveforms[:, channels_oi, :]\n",
    "            wf_samples = waveforms.shape[2]\n",
    "            nch = len(channels_oi)\n",
    "\n",
    "            spike_train = self.neo_reader._get_spike_timestamps(\n",
    "                block_index=0, seg_index=0,\n",
    "                unit_index=tetrode_id - 1,\n",
    "                t_start=start_frame / timebase_sr,\n",
    "                t_stop=end_frame / timebase_sr\n",
    "            )\n",
    "\n",
    "            for t, wf in zip(spike_train, waveforms):\n",
    "\n",
    "                t = t - start_frame\n",
    "                if t - samples_pre < 0:\n",
    "                    traces[itrc:itrc+nch, :t + samples_post] = wf[:, samples_pre - t:]\n",
    "                elif t + samples_post > traces.shape[1]:\n",
    "                    traces[itrc:itrc+nch, t - samples_pre:] = wf[:, :traces.shape[1] - (t - samples_pre)]\n",
    "                else:\n",
    "                    traces[itrc:itrc+nch, t - samples_pre:t + samples_post] = wf\n",
    "\n",
    "                print(tetrode_id, t - samples_pre, t + samples_post)\n",
    "            itrc += nch\n",
    "\n",
    "        return traces\n",
    "\n",
    "    def get_num_frames(self):\n",
    "        n = self.neo_reader.get_signal_size(self.block_index, self.seg_index, stream_index=0)\n",
    "        if self.get_sampling_frequency() == 24000:\n",
    "            n = n // 2\n",
    "        return n\n",
    "\n",
    "    def get_sampling_frequency(self):\n",
    "        return int(re.neo_reader.file_parameters['unit']['sample_rate'].split(' ')[0])\n",
    "\n",
    "    def get_channel_ids(self):\n",
    "        return self._channel_ids\n",
    "    \n",
    "    def _get_tetrode_channel_table(self, channel_ids):\n",
    "        '''Create auxiliary np.array with the following columns:\n",
    "        Tetrode ID, Channel ID, Channel ID within tetrode\n",
    "        This is useful in `get_traces()`\n",
    "        \n",
    "        Parameters\n",
    "        ----------\n",
    "        channel_ids : list\n",
    "            List of channel ids to include in table\n",
    "            \n",
    "        Returns\n",
    "        -------\n",
    "        np.array\n",
    "            Rows = channels, \n",
    "            columns = TetrodeID, ChannelID, ChannelID within Tetrode\n",
    "        '''\n",
    "        active_tetrodes = self.neo_reader.get_active_tetrode()\n",
    "\n",
    "        tcmap = np.zeros((len(active_tetrodes)*4, 3), dtype=int)\n",
    "        row_id = 0\n",
    "        for tetrode_id in [int(s[0].split(' ')[1])\n",
    "            for s in self.neo_reader.header['spike_channels']\n",
    "        ]:\n",
    "            all_channel_ids = self.neo_reader._get_channel_from_tetrode(tetrode_id)\n",
    "            for i in range(4):\n",
    "                tcmap[row_id, 0] = int(tetrode_id)\n",
    "                tcmap[row_id, 1] = int(all_channel_ids[i])\n",
    "                tcmap[row_id, 2] = int(i)\n",
    "                row_id += 1\n",
    "\n",
    "        del_idx = [False if i in channel_ids else True for i in tcmap[:, 1]]\n",
    "        \n",
    "        return np.delete(tcmap, del_idx, axis=0)"
   ]
  },
  {
   "cell_type": "code",
   "execution_count": 570,
   "id": "reduced-tribe",
   "metadata": {},
   "outputs": [
    {
     "data": {
      "text/plain": [
       "57600"
      ]
     },
     "execution_count": 570,
     "metadata": {},
     "output_type": "execute_result"
    }
   ],
   "source": [
    "re.neo_reader.get_signal_size(re.block_index, re.seg_index, stream_index=0)"
   ]
  },
  {
   "cell_type": "code",
   "execution_count": 571,
   "id": "registered-review",
   "metadata": {},
   "outputs": [
    {
     "data": {
      "text/plain": [
       "'../../freelance-work/catalyst-neuro/hussaini-lab-to-nwb/sample_bin_to_tint/axona_sample.set'"
      ]
     },
     "execution_count": 571,
     "metadata": {},
     "output_type": "execute_result"
    }
   ],
   "source": [
    "filename"
   ]
  },
  {
   "cell_type": "code",
   "execution_count": 572,
   "id": "associate-factor",
   "metadata": {},
   "outputs": [
    {
     "data": {
      "text/plain": [
       "57600"
      ]
     },
     "execution_count": 572,
     "metadata": {},
     "output_type": "execute_result"
    }
   ],
   "source": [
    "re.neo_reader.file_parameters['bin']['num_total_samples']"
   ]
  },
  {
   "cell_type": "code",
   "execution_count": 573,
   "id": "seven-trail",
   "metadata": {},
   "outputs": [],
   "source": [
    "re = AxonaUnitRecordingExtractor(filename=filename)"
   ]
  },
  {
   "cell_type": "code",
   "execution_count": 574,
   "id": "julian-warren",
   "metadata": {},
   "outputs": [
    {
     "data": {
      "text/plain": [
       "0"
      ]
     },
     "execution_count": 574,
     "metadata": {},
     "output_type": "execute_result"
    }
   ],
   "source": [
    "re._noise_std"
   ]
  },
  {
   "cell_type": "code",
   "execution_count": 575,
   "id": "after-toner",
   "metadata": {},
   "outputs": [
    {
     "data": {
      "text/plain": [
       "48000"
      ]
     },
     "execution_count": 575,
     "metadata": {},
     "output_type": "execute_result"
    }
   ],
   "source": [
    "int(re.neo_reader.file_parameters['unit']['sample_rate'].split(' ')[0])"
   ]
  },
  {
   "cell_type": "code",
   "execution_count": 576,
   "id": "mighty-memphis",
   "metadata": {},
   "outputs": [
    {
     "data": {
      "text/plain": [
       "array([0, 0, 0, 0, 0, 0, 0, 0, 0, 0, 0, 0, 0, 0, 0, 0])"
      ]
     },
     "execution_count": 576,
     "metadata": {},
     "output_type": "execute_result"
    }
   ],
   "source": [
    "re.get_channel_groups()"
   ]
  },
  {
   "cell_type": "code",
   "execution_count": 577,
   "id": "southwest-graphics",
   "metadata": {},
   "outputs": [
    {
     "data": {
      "text/plain": [
       "48000"
      ]
     },
     "execution_count": 577,
     "metadata": {},
     "output_type": "execute_result"
    }
   ],
   "source": [
    "re.get_sampling_frequency()"
   ]
  },
  {
   "cell_type": "code",
   "execution_count": 578,
   "id": "periodic-button",
   "metadata": {},
   "outputs": [
    {
     "data": {
      "text/plain": [
       "57600"
      ]
     },
     "execution_count": 578,
     "metadata": {},
     "output_type": "execute_result"
    }
   ],
   "source": [
    "re.get_num_frames()"
   ]
  },
  {
   "cell_type": "code",
   "execution_count": 579,
   "id": "statewide-polyester",
   "metadata": {},
   "outputs": [
    {
     "data": {
      "text/plain": [
       "array([[1, 3, 2],\n",
       "       [1, 4, 3],\n",
       "       [2, 6, 1]])"
      ]
     },
     "execution_count": 579,
     "metadata": {},
     "output_type": "execute_result"
    }
   ],
   "source": [
    "re._get_tetrode_channel_table(channel_ids)"
   ]
  },
  {
   "cell_type": "code",
   "execution_count": 602,
   "id": "medium-title",
   "metadata": {},
   "outputs": [
    {
     "name": "stdout",
     "output_type": "stream",
     "text": [
      "1 918 968\n",
      "1 1563 1613\n",
      "1 3131 3181\n",
      "1 3254 3304\n",
      "1 3642 3692\n",
      "1 4024 4074\n",
      "1 4446 4496\n",
      "1 4634 4684\n",
      "1 4976 5026\n",
      "1 5258 5308\n",
      "1 5800 5850\n"
     ]
    },
    {
     "data": {
      "text/plain": [
       "(1, 6000)"
      ]
     },
     "execution_count": 602,
     "metadata": {},
     "output_type": "execute_result"
    }
   ],
   "source": [
    "re.get_traces(start_frame=0, end_frame=6000, channel_ids=[4], return_scaled=False).shape"
   ]
  },
  {
   "cell_type": "code",
   "execution_count": 595,
   "id": "mediterranean-quantum",
   "metadata": {},
   "outputs": [],
   "source": [
    "# Find some timestamps that have spikes (we presumably filled in)\n",
    "timebase_sr  = 96000\n",
    "spike_train = re.neo_reader._get_spike_timestamps(\n",
    "    block_index=0, seg_index=0,\n",
    "    unit_index=1,\n",
    "    t_start=None,\n",
    "    t_stop=None\n",
    ")"
   ]
  },
  {
   "cell_type": "code",
   "execution_count": 596,
   "id": "preliminary-sacrifice",
   "metadata": {},
   "outputs": [
    {
     "data": {
      "text/plain": [
       "memmap([  1142,   5728,   7766,   8000,   8330,  10628,  11384,  11950,\n",
       "         16442,  18618,  24032,  28663,  28966,  29524,  31416,  31660,\n",
       "         32374,  33162,  33968,  34890,  35006,  36136,  36514,  36638,\n",
       "         38146,  39796,  40276,  40424,  43044,  45112,  45226,  46188,\n",
       "         53190,  53646,  59680,  60065,  60198,  60470,  64494,  64748,\n",
       "         71210,  76958,  84296,  84898,  86818,  87664,  88640,  89384,\n",
       "         89788,  90934,  93338,  99490, 103737, 103836, 104044, 104768,\n",
       "        104874, 105038, 107186], dtype=int32)"
      ]
     },
     "execution_count": 596,
     "metadata": {},
     "output_type": "execute_result"
    }
   ],
   "source": [
    "spike_train"
   ]
  },
  {
   "cell_type": "code",
   "execution_count": 597,
   "id": "removable-silly",
   "metadata": {},
   "outputs": [],
   "source": [
    "waveforms = re.neo_reader._get_spike_raw_waveforms(\n",
    "    block_index=0, seg_index=0,\n",
    "    unit_index=1,  # Tetrodes IDs are 1-indexed\n",
    "    t_start=None,\n",
    "    t_stop=None\n",
    ")"
   ]
  },
  {
   "cell_type": "code",
   "execution_count": 598,
   "id": "coated-gossip",
   "metadata": {},
   "outputs": [
    {
     "data": {
      "text/plain": [
       "(59, 4, 50)"
      ]
     },
     "execution_count": 598,
     "metadata": {},
     "output_type": "execute_result"
    }
   ],
   "source": [
    "waveforms.shape"
   ]
  },
  {
   "cell_type": "code",
   "execution_count": 606,
   "id": "excess-tribune",
   "metadata": {},
   "outputs": [
    {
     "data": {
      "text/plain": [
       "memmap([  0,  -5, -17, -30, -38, -35, -22,  -4,   8,  10,   6,   0, -10,\n",
       "        -19, -21, -11,   8,  28,  41,  47,  45,  33,  15,  -1, -13, -19,\n",
       "        -19, -14,  -5,   5,  16,  21,  18,   8,   0,  -1,  -3,  -8, -15,\n",
       "        -16,  -1,  21,  35,  32,  20,  13,  15,  18,  16,   5], dtype=int8)"
      ]
     },
     "execution_count": 606,
     "metadata": {},
     "output_type": "execute_result"
    }
   ],
   "source": [
    "waveforms[10,0,:]"
   ]
  },
  {
   "cell_type": "code",
   "execution_count": 607,
   "id": "historical-latin",
   "metadata": {},
   "outputs": [
    {
     "name": "stdout",
     "output_type": "stream",
     "text": [
      "2 0 50\n"
     ]
    },
    {
     "data": {
      "text/plain": [
       "array([[  0.,  -5., -17., -30., -38., -35., -22.,  -4.,   8.,  10.,   6.,\n",
       "          0., -10., -19., -21., -11.,   8.,  28.,  41.,  47.,  45.,  33.,\n",
       "         15.,  -1., -13., -19., -19., -14.,  -5.,   5.,  16.,  21.,  18.,\n",
       "          8.,   0.,  -1.,  -3.,  -8., -15., -16.,  -1.,  21.,  35.,  32.,\n",
       "         20.,  13.,  15.,  18.,  16.,   5.]])"
      ]
     },
     "execution_count": 607,
     "metadata": {},
     "output_type": "execute_result"
    }
   ],
   "source": [
    "# Note that here channel_ids are still 1 indexed, that should not be the case ultimately!!! Then channel_ids=[4]\n",
    "\n",
    "re.get_traces(start_frame=spike_train[10]-10, end_frame=spike_train[10]+40, channel_ids=[5], return_scaled=False)"
   ]
  },
  {
   "cell_type": "code",
   "execution_count": 605,
   "id": "indoor-uzbekistan",
   "metadata": {},
   "outputs": [
    {
     "data": {
      "text/plain": [
       "array([[ 0.40345915, -3.29589375,  4.37542748,  2.03489127, -2.53145551,\n",
       "         6.75476071, -2.69512132, -2.44365341, -6.22363702, -1.95870716,\n",
       "        -2.1298362 , -0.32359416, -0.66067482, -0.11145797,  1.49362274,\n",
       "        -2.97698911, -1.86905978, -5.61177816,  3.39757374,  0.03210901,\n",
       "         3.19533325,  1.88563769,  2.75224077,  3.00655854,  0.97128778,\n",
       "        -1.64782209,  4.15428289,  3.79038126,  0.62137661,  2.89376966,\n",
       "        -1.48927341, -0.32356674,  0.23761232, -6.60677583, -5.62599875,\n",
       "         1.06542644, -0.14981312,  2.40339408, -1.04052226,  0.95414556,\n",
       "        -0.42149412,  3.10255917,  1.52362542,  1.84697319,  1.16409223,\n",
       "         2.42531176, -0.21778855, -6.59016124, -3.76316075, -1.60337725]])"
      ]
     },
     "execution_count": 605,
     "metadata": {},
     "output_type": "execute_result"
    }
   ],
   "source": [
    "re_pyxona.get_traces(start_frame=spike_train[0]-10, end_frame=spike_train[0]+40, channel_ids=[5], return_scaled=False)"
   ]
  },
  {
   "cell_type": "markdown",
   "id": "religious-prescription",
   "metadata": {},
   "source": [
    "#### Write a test function to assess whether some simulated spike data ends up where it should be"
   ]
  },
  {
   "cell_type": "code",
   "execution_count": 457,
   "id": "necessary-threshold",
   "metadata": {},
   "outputs": [],
   "source": [
    "iunit = 0\n",
    "istart = 0  # for neo these are in seconds\n",
    "istop = 0.2\n",
    "sr = int(re.neo_reader.file_parameters['unit']['sample_rate'].split(' ')[0])\n",
    "\n",
    "raw_waveforms = re.neo_reader._get_spike_raw_waveforms(\n",
    "    block_index=0, seg_index=0,\n",
    "    unit_index=iunit,\n",
    "    t_start=istart, \n",
    "    t_stop=istop\n",
    ")\n",
    "\n",
    "raw_timestamps = re.neo_reader._get_spike_timestamps(\n",
    "    block_index=0, seg_index=0,\n",
    "    unit_index=iunit,\n",
    "    t_start=istart, \n",
    "    t_stop=istop\n",
    ")"
   ]
  },
  {
   "cell_type": "code",
   "execution_count": 458,
   "id": "animated-photograph",
   "metadata": {},
   "outputs": [
    {
     "data": {
      "text/plain": [
       "(31, 4, 50)"
      ]
     },
     "execution_count": 458,
     "metadata": {},
     "output_type": "execute_result"
    }
   ],
   "source": [
    "raw_waveforms.shape"
   ]
  },
  {
   "cell_type": "code",
   "execution_count": 459,
   "id": "acting-bonus",
   "metadata": {},
   "outputs": [
    {
     "data": {
      "text/plain": [
       "(31,)"
      ]
     },
     "execution_count": 459,
     "metadata": {},
     "output_type": "execute_result"
    }
   ],
   "source": [
    "raw_timestamps.shape"
   ]
  },
  {
   "cell_type": "code",
   "execution_count": 462,
   "id": "synthetic-theta",
   "metadata": {},
   "outputs": [
    {
     "name": "stdout",
     "output_type": "stream",
     "text": [
      "[[1 3 2]\n",
      " [1 4 3]\n",
      " [2 6 1]]\n"
     ]
    }
   ],
   "source": [
    "traces = re.get_traces(start_frame=0, end_frame=6000, channel_ids=[3,4,6], return_scaled=False)"
   ]
  },
  {
   "cell_type": "code",
   "execution_count": null,
   "id": "offshore-collection",
   "metadata": {},
   "outputs": [],
   "source": []
  },
  {
   "cell_type": "code",
   "execution_count": 463,
   "id": "appropriate-banner",
   "metadata": {},
   "outputs": [
    {
     "data": {
      "text/plain": [
       "array([[ 3.86163499,  2.27186871, -2.0266837 , ...,  2.59195756,\n",
       "         0.55692274, -0.20443264],\n",
       "       [-1.78728782,  0.11688932,  1.69161086, ..., -3.8512128 ,\n",
       "         0.72551396,  1.72660638],\n",
       "       [-0.38595691, -2.58731283, -3.58503112, ...,  0.37283344,\n",
       "         4.29879487,  3.36023056]])"
      ]
     },
     "execution_count": 463,
     "metadata": {},
     "output_type": "execute_result"
    }
   ],
   "source": [
    "traces"
   ]
  },
  {
   "cell_type": "code",
   "execution_count": 425,
   "id": "exact-blood",
   "metadata": {},
   "outputs": [
    {
     "data": {
      "text/plain": [
       "96000"
      ]
     },
     "execution_count": 425,
     "metadata": {},
     "output_type": "execute_result"
    }
   ],
   "source": [
    "int(re.neo_reader.file_parameters['unit']['timebase'].split(' ')[0])"
   ]
  },
  {
   "cell_type": "code",
   "execution_count": 230,
   "id": "distinct-player",
   "metadata": {},
   "outputs": [],
   "source": [
    "class AxonaUnitRecordingExtractor(NeoBaseRecordingExtractor):\n",
    "    \"\"\"\n",
    "    Instantiates a RecordinExtractor from an Axon Unit mode file.\n",
    "\n",
    "    Since the unit mode format only saves waveform cutouts, the get_traces\n",
    "    function fills in the rest of the recording with Gaussian uncorrelated noise\n",
    "    \n",
    "    \"\"\"\n",
    "    extractor_name = 'AxonaUnitRecording'\n",
    "    mode = 'file'\n",
    "    NeoRawIOClass = 'AxonaRawIO'\n",
    "\n",
    "    @check_get_traces_args\n",
    "    def get_traces(self, channel_ids=None, start_frame=None, end_frame=None, return_scaled=True,\n",
    "                  noise_std=3):\n",
    "        \n",
    "        num_frames_traces = end_frame - start_frame\n",
    "        traces = noise_std * np.random.randn(len(channel_ids), num_frames_traces)\n",
    "\n",
    "        channel_idxs = [unit.get_channel_ids().index(ch) for ch in channel_ids]\n",
    "\n",
    "        itrc = 0\n",
    "        for (chan_idxs, spike_train, waveform) in zip(unit._channel_indexes, unit._spike_trains, unit._waveforms):\n",
    "\n",
    "            # Find channels on tetrode to include and their indices\n",
    "            chan_sublist = list(set(channel_idxs) & set(chan_idxs))\n",
    "            chan_sublist_idxs = [i for i, val in enumerate(chan_idxs) if val in chan_sublist]\n",
    "            nch = len(chan_sublist_idxs)\n",
    "\n",
    "            spike_times_idxs = np.where((spike_train > start_frame) & (spike_train <= end_frame))\n",
    "            spike_times_i = spike_train[spike_times_idxs]  # spike_train is in samples (so spike_times_i is too)\n",
    "\n",
    "            waveforms_i = waveform[spike_times_idxs]\n",
    "            wf_samples = waveforms_i.shape[2]\n",
    "\n",
    "            if chan_sublist:\n",
    "\n",
    "                for t, wf in zip(spike_times_i, waveforms_i):\n",
    "\n",
    "                    t = t - start_frame\n",
    "\n",
    "                    if t - wf_samples // 2 < 0:\n",
    "                        traces[itrc:itrc+nch, :t + wf_samples // 2] = \\\n",
    "                            wf[chan_sublist_idxs, wf_samples // 2 - t:]\n",
    "                    elif t + wf_samples // 2 > num_frames_traces:\n",
    "                        traces[itrc:itrc+nch, t - wf_samples // 2:] = \\\n",
    "                            wf[chan_sublist_idxs, :num_frames_traces - (t + wf_samples // 2)]\n",
    "                    else:\n",
    "                        traces[itrc:itrc+nch, t - wf_samples // 2:t + wf_samples // 2] = \\\n",
    "                            wf[chan_sublist_idxs, :]\n",
    "\n",
    "                itrc += nch\n",
    "                \n",
    "        return traces\n",
    "\n",
    "    def get_num_frames(self):\n",
    "        # channel_indexes=None means all channels\n",
    "        if self.after_v10:\n",
    "            n = self.neo_reader.get_signal_size(self.block_index, self.seg_index, stream_index=0)\n",
    "        else:\n",
    "            n = self.neo_reader.get_signal_size(self.block_index, self.seg_index, channel_indexes=None)\n",
    "        return n\n",
    "\n",
    "    def get_sampling_frequency(self):\n",
    "        # channel_indexes=None means all channels\n",
    "        if self.after_v10:\n",
    "            sf = self.neo_reader.get_signal_sampling_rate(stream_index=0)\n",
    "        else:\n",
    "            sf = self.neo_reader.get_signal_sampling_rate(channel_indexes=None)\n",
    "        return sf\n",
    "\n",
    "    def get_channel_ids(self):\n",
    "        return self._channel_ids\n",
    "    \n",
    "    def get_tetrode_channel_table(self, channel_ids):\n",
    "        '''Create auxiliary np.array with the following columns:\n",
    "        Tetrode ID, Channel ID, Channel ID within tetrode\n",
    "        This is useful in `get_traces()`\n",
    "        \n",
    "        Parameters\n",
    "        ----------\n",
    "        channel_ids : list\n",
    "            List of channel ids to include in table\n",
    "            \n",
    "        Returns\n",
    "        -------\n",
    "        np.array\n",
    "            Rows = channels, \n",
    "            columns = TetrodeID, ChannelID, ChannelID within Tetrode\n",
    "        '''\n",
    "        active_tetrodes = self.neo_reader.get_active_tetrode()\n",
    "\n",
    "        tcmap = np.zeros((len(active_tetrodes)*4, 3), dtype=int)\n",
    "        row_id = 0\n",
    "        for tetrode_id in [int(s[0].split(' ')[1])\n",
    "            for s in self.neo_reader.header['spike_channels']\n",
    "        ]:\n",
    "            channel_ids = self.neo_reader._get_channel_from_tetrode(tetrode_id)\n",
    "            for i in range(4):\n",
    "                tcmap[row_id, 0] = int(tetrode_id)\n",
    "                tcmap[row_id, 1] = int(channel_ids[i])\n",
    "                tcmap[row_id, 2] = int(i)\n",
    "                row_id += 1\n",
    "\n",
    "        del_idx = [False if i in channel_ids else True for i in tcmap[:, 1]]\n",
    "        tcmap = np.delete(tcmap, del_idx, axis=0)"
   ]
  },
  {
   "cell_type": "code",
   "execution_count": 231,
   "id": "analyzed-privacy",
   "metadata": {},
   "outputs": [],
   "source": [
    "unit_neo = AxonaUnitRecordingExtractor(filename=filename)"
   ]
  },
  {
   "cell_type": "code",
   "execution_count": 232,
   "id": "celtic-maryland",
   "metadata": {},
   "outputs": [
    {
     "data": {
      "text/plain": [
       "array([0, 0, 0, 0, 0, 0, 0, 0, 0, 0, 0, 0, 0, 0, 0, 0])"
      ]
     },
     "execution_count": 232,
     "metadata": {},
     "output_type": "execute_result"
    }
   ],
   "source": [
    "unit_neo.get_channel_groups()"
   ]
  },
  {
   "cell_type": "code",
   "execution_count": 233,
   "id": "introductory-mandate",
   "metadata": {},
   "outputs": [
    {
     "data": {
      "text/plain": [
       "48000.0"
      ]
     },
     "execution_count": 233,
     "metadata": {},
     "output_type": "execute_result"
    }
   ],
   "source": [
    "unit_neo.get_sampling_frequency()"
   ]
  },
  {
   "cell_type": "code",
   "execution_count": 234,
   "id": "perceived-reynolds",
   "metadata": {},
   "outputs": [
    {
     "data": {
      "text/plain": [
       "57600"
      ]
     },
     "execution_count": 234,
     "metadata": {},
     "output_type": "execute_result"
    }
   ],
   "source": [
    "unit_neo.get_num_frames()"
   ]
  },
  {
   "cell_type": "code",
   "execution_count": 235,
   "id": "closed-preserve",
   "metadata": {},
   "outputs": [
    {
     "ename": "ValueError",
     "evalue": "16 is not in list",
     "output_type": "error",
     "traceback": [
      "\u001b[0;31m---------------------------------------------------------------------------\u001b[0m",
      "\u001b[0;31mValueError\u001b[0m                                Traceback (most recent call last)",
      "\u001b[0;32m<ipython-input-235-d0dfacb0b83d>\u001b[0m in \u001b[0;36m<module>\u001b[0;34m\u001b[0m\n\u001b[0;32m----> 1\u001b[0;31m \u001b[0munit_neo\u001b[0m\u001b[0;34m.\u001b[0m\u001b[0mget_traces\u001b[0m\u001b[0;34m(\u001b[0m\u001b[0;34m)\u001b[0m\u001b[0;34m\u001b[0m\u001b[0;34m\u001b[0m\u001b[0m\n\u001b[0m",
      "\u001b[0;32m/mnt/d/spikeinterface/spikeextractors/spikeextractors/extraction_tools.py\u001b[0m in \u001b[0;36mcorrected_args\u001b[0;34m(recording, channel_ids, start_frame, end_frame, return_scaled, **kwargs)\u001b[0m\n\u001b[1;32m    794\u001b[0m             \u001b[0mreturn_scaled\u001b[0m \u001b[0;34m=\u001b[0m \u001b[0;32mTrue\u001b[0m\u001b[0;34m\u001b[0m\u001b[0;34m\u001b[0m\u001b[0m\n\u001b[1;32m    795\u001b[0m \u001b[0;34m\u001b[0m\u001b[0m\n\u001b[0;32m--> 796\u001b[0;31m         traces = func(recording, channel_ids=channel_ids, start_frame=start_frame, end_frame=end_frame,\n\u001b[0m\u001b[1;32m    797\u001b[0m                       return_scaled=return_scaled, **kwargs)\n\u001b[1;32m    798\u001b[0m \u001b[0;34m\u001b[0m\u001b[0m\n",
      "\u001b[0;32m<ipython-input-230-4831a27d4ab7>\u001b[0m in \u001b[0;36mget_traces\u001b[0;34m(self, channel_ids, start_frame, end_frame, return_scaled, noise_std)\u001b[0m\n\u001b[1;32m     23\u001b[0m         \u001b[0mtraces\u001b[0m \u001b[0;34m=\u001b[0m \u001b[0mnoise_std\u001b[0m \u001b[0;34m*\u001b[0m \u001b[0mnp\u001b[0m\u001b[0;34m.\u001b[0m\u001b[0mrandom\u001b[0m\u001b[0;34m.\u001b[0m\u001b[0mrandn\u001b[0m\u001b[0;34m(\u001b[0m\u001b[0mlen\u001b[0m\u001b[0;34m(\u001b[0m\u001b[0mchannel_ids\u001b[0m\u001b[0;34m)\u001b[0m\u001b[0;34m,\u001b[0m \u001b[0mnum_frames_traces\u001b[0m\u001b[0;34m)\u001b[0m\u001b[0;34m\u001b[0m\u001b[0;34m\u001b[0m\u001b[0m\n\u001b[1;32m     24\u001b[0m \u001b[0;34m\u001b[0m\u001b[0m\n\u001b[0;32m---> 25\u001b[0;31m         \u001b[0mchannel_idxs\u001b[0m \u001b[0;34m=\u001b[0m \u001b[0;34m[\u001b[0m\u001b[0munit\u001b[0m\u001b[0;34m.\u001b[0m\u001b[0mget_channel_ids\u001b[0m\u001b[0;34m(\u001b[0m\u001b[0;34m)\u001b[0m\u001b[0;34m.\u001b[0m\u001b[0mindex\u001b[0m\u001b[0;34m(\u001b[0m\u001b[0mch\u001b[0m\u001b[0;34m)\u001b[0m \u001b[0;32mfor\u001b[0m \u001b[0mch\u001b[0m \u001b[0;32min\u001b[0m \u001b[0mchannel_ids\u001b[0m\u001b[0;34m]\u001b[0m\u001b[0;34m\u001b[0m\u001b[0;34m\u001b[0m\u001b[0m\n\u001b[0m\u001b[1;32m     26\u001b[0m \u001b[0;34m\u001b[0m\u001b[0m\n\u001b[1;32m     27\u001b[0m         \u001b[0mitrc\u001b[0m \u001b[0;34m=\u001b[0m \u001b[0;36m0\u001b[0m\u001b[0;34m\u001b[0m\u001b[0;34m\u001b[0m\u001b[0m\n",
      "\u001b[0;32m<ipython-input-230-4831a27d4ab7>\u001b[0m in \u001b[0;36m<listcomp>\u001b[0;34m(.0)\u001b[0m\n\u001b[1;32m     23\u001b[0m         \u001b[0mtraces\u001b[0m \u001b[0;34m=\u001b[0m \u001b[0mnoise_std\u001b[0m \u001b[0;34m*\u001b[0m \u001b[0mnp\u001b[0m\u001b[0;34m.\u001b[0m\u001b[0mrandom\u001b[0m\u001b[0;34m.\u001b[0m\u001b[0mrandn\u001b[0m\u001b[0;34m(\u001b[0m\u001b[0mlen\u001b[0m\u001b[0;34m(\u001b[0m\u001b[0mchannel_ids\u001b[0m\u001b[0;34m)\u001b[0m\u001b[0;34m,\u001b[0m \u001b[0mnum_frames_traces\u001b[0m\u001b[0;34m)\u001b[0m\u001b[0;34m\u001b[0m\u001b[0;34m\u001b[0m\u001b[0m\n\u001b[1;32m     24\u001b[0m \u001b[0;34m\u001b[0m\u001b[0m\n\u001b[0;32m---> 25\u001b[0;31m         \u001b[0mchannel_idxs\u001b[0m \u001b[0;34m=\u001b[0m \u001b[0;34m[\u001b[0m\u001b[0munit\u001b[0m\u001b[0;34m.\u001b[0m\u001b[0mget_channel_ids\u001b[0m\u001b[0;34m(\u001b[0m\u001b[0;34m)\u001b[0m\u001b[0;34m.\u001b[0m\u001b[0mindex\u001b[0m\u001b[0;34m(\u001b[0m\u001b[0mch\u001b[0m\u001b[0;34m)\u001b[0m \u001b[0;32mfor\u001b[0m \u001b[0mch\u001b[0m \u001b[0;32min\u001b[0m \u001b[0mchannel_ids\u001b[0m\u001b[0;34m]\u001b[0m\u001b[0;34m\u001b[0m\u001b[0;34m\u001b[0m\u001b[0m\n\u001b[0m\u001b[1;32m     26\u001b[0m \u001b[0;34m\u001b[0m\u001b[0m\n\u001b[1;32m     27\u001b[0m         \u001b[0mitrc\u001b[0m \u001b[0;34m=\u001b[0m \u001b[0;36m0\u001b[0m\u001b[0;34m\u001b[0m\u001b[0;34m\u001b[0m\u001b[0m\n",
      "\u001b[0;31mValueError\u001b[0m: 16 is not in list"
     ]
    }
   ],
   "source": [
    "unit_neo.get_traces()"
   ]
  },
  {
   "cell_type": "markdown",
   "id": "changing-impression",
   "metadata": {},
   "source": [
    "#### I am not sure if reading the spike data from .X files is done correctly in axonarawio.py, let's try comparing to GebaSpike"
   ]
  },
  {
   "cell_type": "code",
   "execution_count": 21,
   "id": "bridal-toyota",
   "metadata": {},
   "outputs": [],
   "source": [
    "# import gebaSpike functions from https://github.com/HussainiLab/gebaSpike/blob/master/gebaSpike/core/Tint_Matlab.py\n",
    "import numpy.matlib\n",
    "\n",
    "def getspikes(fullpath):\n",
    "    \"\"\"\n",
    "    This function will return the spike data, spike times, and spike parameters from Tint tetrode data.\n",
    "    Example:\n",
    "        tetrode_fullpath = 'C:\\\\example\\\\tetrode_1.1'\n",
    "        ts, ch1, ch2, ch3, ch4, spikeparam = getspikes(tetrode_fullpath)\n",
    "    Args:\n",
    "        fullpath (str): the fullpath to the Tint tetrode file you want to acquire the spike data from.\n",
    "    Returns:\n",
    "        ts (ndarray): an Nx1 array for the spike times, where N is the number of spikes.\n",
    "        ch1 (ndarray) an NxM matrix containing the spike data for channel 1, N is the number of spikes,\n",
    "            and M is the chunk length.\n",
    "        ch2 (ndarray) an NxM matrix containing the spike data for channel 2, N is the number of spikes,\n",
    "            and M is the chunk length.\n",
    "        ch3 (ndarray) an NxM matrix containing the spike data for channel 3, N is the number of spikes,\n",
    "            and M is the chunk length.\n",
    "        ch4 (ndarray) an NxM matrix containing the spike data for channel 4, N is the number of spikes,\n",
    "            and M is the chunk length.\n",
    "        spikeparam (dict): a dictionary containing the header values from the tetrode file.\n",
    "    \"\"\"\n",
    "    spikes, spikeparam = importspikes(fullpath)\n",
    "    ts = spikes['t']\n",
    "    nspk = spikeparam['num_spikes']\n",
    "    spikelen = spikeparam['samples_per_spike']\n",
    "\n",
    "    ch1 = spikes['ch1']\n",
    "    ch2 = spikes['ch2']\n",
    "    ch3 = spikes['ch3']\n",
    "    ch4 = spikes['ch4']\n",
    "\n",
    "    return ts, ch1, ch2, ch3, ch4, spikeparam\n",
    "\n",
    "\n",
    "def importspikes(filename):\n",
    "    \"\"\"Reads through the tetrode file as an input and returns two things, a dictionary containing the following:\n",
    "    timestamps, ch1-ch4 waveforms, and it also returns a dictionary containing the spike parameters\"\"\"\n",
    "\n",
    "    with open(filename, 'rb') as f:\n",
    "        for line in f:\n",
    "            if 'data_start' in str(line):\n",
    "                spike_data = np.fromstring((line + f.read())[len('data_start'):-len('\\r\\ndata_end\\r\\n')], dtype='uint8')\n",
    "                break\n",
    "            elif 'num_spikes' in str(line):\n",
    "                num_spikes = int(line.decode(encoding='UTF-8').split(\" \")[1])\n",
    "            elif 'bytes_per_timestamp' in str(line):\n",
    "                bytes_per_timestamp = int(line.decode(encoding='UTF-8').split(\" \")[1])\n",
    "            elif 'samples_per_spike' in str(line):\n",
    "                samples_per_spike = int(line.decode(encoding='UTF-8').split(\" \")[1])\n",
    "            elif 'bytes_per_sample' in str(line):\n",
    "                bytes_per_sample = int(line.decode(encoding='UTF-8').split(\" \")[1])\n",
    "            elif 'timebase' in str(line):\n",
    "                timebase = int(line.decode(encoding='UTF-8').split(\" \")[1])\n",
    "            elif 'duration' in str(line):\n",
    "                duration = int(line.decode(encoding='UTF-8').split(\" \")[1])\n",
    "            elif 'sample_rate' in str(line):\n",
    "                samp_rate = int(line.decode(encoding='UTF-8').split(\" \")[1])\n",
    "\n",
    "                # calculating the big-endian and little endian matrices so we can convert from bytes -> decimal\n",
    "    big_endian_vector = 256 ** np.arange(bytes_per_timestamp - 1, -1, -1)\n",
    "    little_endian_matrix = np.arange(0, bytes_per_sample).reshape(bytes_per_sample, 1)\n",
    "    little_endian_matrix = 256 ** numpy.matlib.repmat(little_endian_matrix, 1, samples_per_spike)\n",
    "\n",
    "    number_channels = 4\n",
    "\n",
    "    # calculating the timestamps\n",
    "    t_start_indices = np.linspace(0, num_spikes * (bytes_per_sample * samples_per_spike * 4 +\n",
    "                                                   bytes_per_timestamp * 4), num=num_spikes, endpoint=False).astype(\n",
    "        int).reshape(num_spikes, 1)\n",
    "    t_indices = t_start_indices\n",
    "\n",
    "    for chan in np.arange(1, number_channels):\n",
    "        t_indices = np.hstack((t_indices, t_start_indices + chan))\n",
    "\n",
    "    t = spike_data[t_indices].reshape(num_spikes, bytes_per_timestamp)  # acquiring the time bytes\n",
    "    t = np.sum(np.multiply(t, big_endian_vector), axis=1) / timebase  # converting from bytes to float values\n",
    "    t_indices = None\n",
    "\n",
    "    waveform_data = np.zeros((number_channels, num_spikes, samples_per_spike))  # (dimensions, rows, columns)\n",
    "\n",
    "    bytes_offset = 0\n",
    "    # read the t,ch1,t,ch2,t,ch3,t,ch4\n",
    "\n",
    "    for chan in range(number_channels):  # only really care about the first time that gets written\n",
    "        chan_start_indices = t_start_indices + chan * samples_per_spike + bytes_per_timestamp + bytes_per_timestamp * chan\n",
    "        for spike_sample in np.arange(1, samples_per_spike):\n",
    "            chan_start_indices = np.hstack((chan_start_indices, t_start_indices +\n",
    "                                            chan * samples_per_spike + bytes_per_timestamp +\n",
    "                                            bytes_per_timestamp * chan + spike_sample))\n",
    "        waveform_data[chan][:][:] = spike_data[chan_start_indices].reshape(num_spikes, samples_per_spike).astype(\n",
    "            'int8')  # acquiring the channel bytes\n",
    "        waveform_data[chan][:][:][np.where(waveform_data[chan][:][:] > 127)] -= 256\n",
    "        waveform_data[chan][:][:] = np.multiply(waveform_data[chan][:][:], little_endian_matrix)\n",
    "\n",
    "    spikeparam = {'timebase': timebase, 'bytes_per_sample': bytes_per_sample, 'samples_per_spike': samples_per_spike,\n",
    "                  'bytes_per_timestamp': bytes_per_timestamp, 'duration': duration, 'num_spikes': num_spikes,\n",
    "                  'sample_rate': samp_rate}\n",
    "\n",
    "    return {'t': t.reshape(num_spikes, 1), 'ch1': np.asarray(waveform_data[0][:][:]),\n",
    "            'ch2': np.asarray(waveform_data[1][:][:]),\n",
    "            'ch3': np.asarray(waveform_data[2][:][:]), 'ch4': np.asarray(waveform_data[3][:][:])}, spikeparam\n"
   ]
  },
  {
   "cell_type": "code",
   "execution_count": 24,
   "id": "reliable-malpractice",
   "metadata": {},
   "outputs": [
    {
     "name": "stderr",
     "output_type": "stream",
     "text": [
      "<ipython-input-21-9234ab7eb1a7>:44: DeprecationWarning: The binary mode of fromstring is deprecated, as it behaves surprisingly on unicode inputs. Use frombuffer instead\n",
      "  spike_data = np.fromstring((line + f.read())[len('data_start'):-len('\\r\\ndata_end\\r\\n')], dtype='uint8')\n"
     ]
    }
   ],
   "source": [
    "geba = getspikes(unit.neo_reader.tetrode_files[0])"
   ]
  },
  {
   "cell_type": "code",
   "execution_count": 25,
   "id": "healthy-pottery",
   "metadata": {},
   "outputs": [
    {
     "data": {
      "text/plain": [
       "'/mnt/d/freelance-work/catalyst-neuro/hussaini-lab-to-nwb/sample_bin_to_tint/axona_sample.set'"
      ]
     },
     "execution_count": 25,
     "metadata": {},
     "output_type": "execute_result"
    }
   ],
   "source": [
    "filename"
   ]
  },
  {
   "cell_type": "code",
   "execution_count": 26,
   "id": "engaged-investment",
   "metadata": {},
   "outputs": [
    {
     "ename": "NameError",
     "evalue": "name 'AxonaIO' is not defined",
     "output_type": "error",
     "traceback": [
      "\u001b[0;31m---------------------------------------------------------------------------\u001b[0m",
      "\u001b[0;31mNameError\u001b[0m                                 Traceback (most recent call last)",
      "\u001b[0;32m<ipython-input-26-4ca9b3b7832a>\u001b[0m in \u001b[0;36m<module>\u001b[0;34m\u001b[0m\n\u001b[0;32m----> 1\u001b[0;31m \u001b[0mr\u001b[0m \u001b[0;34m=\u001b[0m \u001b[0mAxonaIO\u001b[0m\u001b[0;34m(\u001b[0m\u001b[0mfilename\u001b[0m\u001b[0;34m=\u001b[0m\u001b[0mfilename\u001b[0m\u001b[0;34m)\u001b[0m\u001b[0;34m\u001b[0m\u001b[0;34m\u001b[0m\u001b[0m\n\u001b[0m",
      "\u001b[0;31mNameError\u001b[0m: name 'AxonaIO' is not defined"
     ]
    }
   ],
   "source": [
    "r = AxonaIO(filename=filename)"
   ]
  },
  {
   "cell_type": "code",
   "execution_count": null,
   "id": "abandoned-feeding",
   "metadata": {},
   "outputs": [],
   "source": [
    "r._get"
   ]
  },
  {
   "cell_type": "code",
   "execution_count": 56,
   "id": "faced-sense",
   "metadata": {},
   "outputs": [
    {
     "data": {
      "text/plain": [
       "(636, 50)"
      ]
     },
     "execution_count": 56,
     "metadata": {},
     "output_type": "execute_result"
    }
   ],
   "source": [
    "r._raw_spikes[0]['samples'].shape"
   ]
  },
  {
   "cell_type": "code",
   "execution_count": 60,
   "id": "dying-bottom",
   "metadata": {},
   "outputs": [],
   "source": [
    "waveforms = r._get_spike_raw_waveforms(\n",
    "    block_index=0,\n",
    "    seg_index=0,\n",
    "    unit_index=0,\n",
    "    t_start=None,\n",
    "    t_stop=None\n",
    ")"
   ]
  },
  {
   "cell_type": "code",
   "execution_count": 61,
   "id": "cubic-visit",
   "metadata": {},
   "outputs": [
    {
     "data": {
      "text/plain": [
       "(159, 4, 50)"
      ]
     },
     "execution_count": 61,
     "metadata": {},
     "output_type": "execute_result"
    }
   ],
   "source": [
    "waveforms.shape"
   ]
  },
  {
   "cell_type": "code",
   "execution_count": 62,
   "id": "elect-amendment",
   "metadata": {},
   "outputs": [],
   "source": [
    "# Make sure waveforms from axonarawio and gebaspike are identical!!!\n",
    "\n",
    "geba_ch = []\n",
    "for ich in range(4):\n",
    "    \n",
    "    # the first entry are the timestamps\n",
    "    geba_ch.append(geba[ich+1])\n",
    "\n",
    "for ich in range(4):\n",
    "    assert(np.array_equal(geba_ch[ich], waveforms[:,ich,:]))"
   ]
  },
  {
   "cell_type": "code",
   "execution_count": 17,
   "id": "oriental-knock",
   "metadata": {},
   "outputs": [],
   "source": [
    "from spikeextractors.extraction_tools import check_get_traces_args\n",
    "from spikeextractors import RecordingExtractor\n",
    "from spikeextractors.extractors.neoextractors.neobaseextractor import _NeoBaseExtractor\n",
    "from pathlib import Path\n",
    "import numpy as np\n",
    "from typing import Union\n",
    "\n",
    "PathType = Union[Path, str]\n",
    "\n",
    "try:\n",
    "    import neo\n",
    "    HAVE_NEO = True\n",
    "except ImportError:\n",
    "    HAVE_NEO = False\n",
    "\n",
    "\n",
    "class AxonaUnitRecordingExtractor(RecordingExtractor, _NeoBaseExtractor):\n",
    "    \"\"\"\n",
    "    Instantiates a RecordinExtractor from an Axon Unit mode file.\n",
    "\n",
    "    Since the unit mode format only saves waveform cutouts, the get_traces\n",
    "    function fills in the rest of the recording with Gaussian uncorrelated noise\n",
    "\n",
    "    Parameters\n",
    "    ----------\n",
    "\n",
    "    file_path: Path type\n",
    "        The file path to the .set file\n",
    "    noise_std: float\n",
    "        Standard deviation of the Gaussian background noise\n",
    "    \"\"\"\n",
    "    extractor_name = 'AxonaUnitRecording'\n",
    "    mode = 'file'\n",
    "\n",
    "    def __init__(self, file_path: PathType, noise_std: float = 3,\n",
    "                 block_index=None, seg_index=None, **kargs):\n",
    "        \n",
    "        RecordingExtractor.__init__(self)\n",
    "        _NeoBaseExtractor.__init__(self, block_index=block_index,\n",
    "                                   seg_index=seg_index, **kargs)\n",
    "        \n",
    "        self._fileobj = pyxona.File(str(file_path))\n",
    "\n",
    "        channel_ids = []\n",
    "        channel_groups = []\n",
    "        spike_trains = []\n",
    "        channel_indexes = []\n",
    "        waveforms = []\n",
    "        for i, chan_grp in enumerate(self._fileobj.channel_groups):\n",
    "            sample_rate = chan_grp.spike_train.sample_rate.magnitude\n",
    "            if i == 0:\n",
    "                self._fs = sample_rate\n",
    "            spike_trains.append(np.array(chan_grp.spike_train.times.magnitude * sample_rate).astype(int))\n",
    "            waveforms.append(chan_grp.spike_train.waveforms)\n",
    "            channel_indexes.append([ch.index for ch in chan_grp.channels])\n",
    "            for ch in chan_grp.channels:\n",
    "                channel_ids.append(ch.index)\n",
    "                channel_groups.append(chan_grp.channel_group_id)\n",
    "\n",
    "        self._waveforms = waveforms\n",
    "        self._spike_trains = spike_trains\n",
    "        self._channel_indexes = channel_indexes\n",
    "        self._channel_ids = channel_ids\n",
    "\n",
    "        self._num_frames = int((self._fileobj._duration.magnitude * sample_rate))\n",
    "\n",
    "        self._noise_std = noise_std\n",
    "\n",
    "        # set groups\n",
    "        self.set_channel_groups(channel_groups)\n",
    "\n",
    "        self._kwargs = {'file_path': Path(file_path).absolute(), 'noise_std': noise_std}\n",
    "\n",
    "    def get_channel_ids(self):\n",
    "        return self._channel_ids\n",
    "\n",
    "    def get_sampling_frequency(self):\n",
    "        return self._fs\n",
    "\n",
    "    def get_num_frames(self):\n",
    "        return self._num_frames\n",
    "\n",
    "    @check_get_traces_args\n",
    "    def get_traces(self, channel_ids=None, start_frame=None, end_frame=None, return_scaled=True):\n",
    "        \n",
    "        num_frames_traces = end_frame - start_frame\n",
    "        traces = unit._noise_std * np.random.randn(len(channel_ids), num_frames_traces)\n",
    "\n",
    "        channel_idxs = [unit.get_channel_ids().index(ch) for ch in channel_ids]\n",
    "\n",
    "        itrc = 0\n",
    "        for (chan_idxs, spike_train, waveform) in zip(unit._channel_indexes, unit._spike_trains, unit._waveforms):\n",
    "\n",
    "            # Find channels on tetrode to include and their indices\n",
    "            chan_sublist = list(set(channel_idxs) & set(chan_idxs))\n",
    "            chan_sublist_idxs = [i for i, val in enumerate(chan_idxs) if val in chan_sublist]\n",
    "            nch = len(chan_sublist_idxs)\n",
    "\n",
    "            spike_times_idxs = np.where((spike_train > start_frame) & (spike_train <= end_frame))\n",
    "            spike_times_i = spike_train[spike_times_idxs]  # spike_train is in samples (so spike_times_i is too)\n",
    "\n",
    "            waveforms_i = waveform[spike_times_idxs]\n",
    "            wf_samples = waveforms_i.shape[2]\n",
    "\n",
    "            if chan_sublist:\n",
    "\n",
    "                for t, wf in zip(spike_times_i, waveforms_i):\n",
    "\n",
    "                    t = t - start_frame\n",
    "\n",
    "                    if t - wf_samples // 2 < 0:\n",
    "                        traces[itrc:itrc+nch, :t + wf_samples // 2] = \\\n",
    "                            wf[chan_sublist_idxs, wf_samples // 2 - t:]\n",
    "                    elif t + wf_samples // 2 > num_frames_traces:\n",
    "                        traces[itrc:itrc+nch, t - wf_samples // 2:] = \\\n",
    "                            wf[chan_sublist_idxs, :num_frames_traces - (t + wf_samples // 2)]\n",
    "                    else:\n",
    "                        traces[itrc:itrc+nch, t - wf_samples // 2:t + wf_samples // 2] = \\\n",
    "                            wf[chan_sublist_idxs, :]\n",
    "\n",
    "                itrc += nch\n",
    "                \n",
    "        return traces"
   ]
  },
  {
   "cell_type": "code",
   "execution_count": 44,
   "id": "macro-deputy",
   "metadata": {},
   "outputs": [
    {
     "name": "stderr",
     "output_type": "stream",
     "text": [
      "/mnt/d/spikeinterface/hussaini-to-nwb/venv/lib/python3.8/site-packages/pyxona/core.py:139: FutureWarning: Passing (type, 1) or '1type' as a synonym of type is deprecated; in a future version of numpy, it will be understood as (type, (1,)) / '(1,)type'.\n",
      "  dtype = np.dtype([(\"times\", (timestamp_dtype, 1), 1), (\"waveforms\", (waveform_dtype, 1), samples_per_spike)])\n"
     ]
    }
   ],
   "source": [
    "unit = AxonaUnitRecordingExtractor(file_path=unit_filename+'.set')"
   ]
  },
  {
   "cell_type": "code",
   "execution_count": 45,
   "id": "closed-choice",
   "metadata": {},
   "outputs": [
    {
     "data": {
      "text/plain": [
       "[[0, 1, 2, 3], [4, 5, 6, 7], [8, 9, 10, 11], [12, 13, 14, 15]]"
      ]
     },
     "execution_count": 45,
     "metadata": {},
     "output_type": "execute_result"
    }
   ],
   "source": [
    "unit._channel_indexes"
   ]
  },
  {
   "cell_type": "code",
   "execution_count": 46,
   "id": "equal-overall",
   "metadata": {},
   "outputs": [
    {
     "data": {
      "text/plain": [
       "[0, 1, 2, 3, 4, 5, 6, 7, 8, 9, 10, 11, 12, 13, 14, 15]"
      ]
     },
     "execution_count": 46,
     "metadata": {},
     "output_type": "execute_result"
    }
   ],
   "source": [
    "unit.get_channel_ids()"
   ]
  },
  {
   "cell_type": "code",
   "execution_count": 47,
   "id": "necessary-indonesia",
   "metadata": {},
   "outputs": [
    {
     "data": {
      "text/plain": [
       "[array([     204,      361,      419, ..., 28799981, 28800042, 28800259]),\n",
       " array([     155,      197,      442, ..., 28799174, 28799354, 28800140]),\n",
       " array([      46,      143,      186, ..., 28799954, 28800002, 28800199]),\n",
       " array([     309,      349,      389, ..., 28799953, 28800027, 28800091])]"
      ]
     },
     "execution_count": 47,
     "metadata": {},
     "output_type": "execute_result"
    }
   ],
   "source": [
    "unit._spike_trains"
   ]
  },
  {
   "cell_type": "code",
   "execution_count": 48,
   "id": "reverse-cathedral",
   "metadata": {},
   "outputs": [
    {
     "data": {
      "text/plain": [
       "array(48000.)"
      ]
     },
     "execution_count": 48,
     "metadata": {},
     "output_type": "execute_result"
    }
   ],
   "source": [
    "unit._fs"
   ]
  },
  {
   "cell_type": "code",
   "execution_count": 11,
   "id": "broadband-cardiff",
   "metadata": {},
   "outputs": [
    {
     "name": "stdout",
     "output_type": "stream",
     "text": [
      "Num. channels = 16\n",
      "Sampling frequency = 48000.0 Hz\n",
      "Num. timepoints = 28848000\n",
      "Stdev. on third channel = 12.847681233340175\n",
      "Location of third electrode = [nan nan]\n"
     ]
    }
   ],
   "source": [
    "print('Num. channels = {}'.format(len(unit.get_channel_ids())))\n",
    "print('Sampling frequency = {} Hz'.format(unit.get_sampling_frequency()))\n",
    "print('Num. timepoints = {}'.format(unit.get_num_frames()))\n",
    "print('Stdev. on third channel = {}'.format(np.std(unit.get_traces(channel_ids=2))))\n",
    "print('Location of third electrode = {}'.format(unit.get_channel_property(channel_id=2, property_name='location')))"
   ]
  },
  {
   "cell_type": "markdown",
   "id": "broken-lecture",
   "metadata": {},
   "source": [
    "Should the time window where waveforms are filled in not be centered at 200 us? In the original data a spike event is cut out by taking the 200 us prior to and 800 us post-event. So the `t - wf_samples // 2:t + wf_samples // 2` might be incorrect. Plot to see whether that's the case:"
   ]
  },
  {
   "cell_type": "code",
   "execution_count": 12,
   "id": "spatial-iceland",
   "metadata": {},
   "outputs": [],
   "source": [
    "# Get 100ms worth of traces\n",
    "traces = unit.get_traces(channel_ids=2, start_frame=0, end_frame=4800)"
   ]
  },
  {
   "cell_type": "code",
   "execution_count": 13,
   "id": "received-slave",
   "metadata": {},
   "outputs": [],
   "source": [
    "import matplotlib.pyplot as plt"
   ]
  },
  {
   "cell_type": "code",
   "execution_count": 15,
   "id": "printable-cookbook",
   "metadata": {},
   "outputs": [
    {
     "name": "stdout",
     "output_type": "stream",
     "text": [
      "Tetrode has 152938 spikes over 4 electrodes with 50 samples each.\n"
     ]
    },
    {
     "data": {
      "text/plain": [
       "[<matplotlib.lines.Line2D at 0x7f3671a92460>]"
      ]
     },
     "execution_count": 15,
     "metadata": {},
     "output_type": "execute_result"
    },
    {
     "data": {
      "image/png": "[encoded data removed]",
      "text/plain": [
       "<Figure size 576x576 with 4 Axes>"
      ]
     },
     "metadata": {
      "needs_background": "light"
     },
     "output_type": "display_data"
    }
   ],
   "source": [
    "%matplotlib inline\n",
    "# Consider 1st tetrode and plot some example waveforms\n",
    "\n",
    "tetrode_id = 0\n",
    "waves = unit._waveforms[tetrode_id]\n",
    "print('Tetrode has {} spikes over {} electrodes with {} samples each.'\\\n",
    "      .format(waves.shape[0], waves.shape[1], waves.shape[2]))\n",
    "\n",
    "N = 10\n",
    "\n",
    "plt.subplots(figsize=(8, 8))\n",
    "ax = plt.axes()\n",
    "\n",
    "x = np.linspace(-200, 800, 50)\n",
    "for i in range(0,N):\n",
    "    ax1 = plt.subplot(2, 2, 1)\n",
    "    ax1.set_title(\"{} example waveforms\".format(N))\n",
    "    plt.plot(x, waves[i,1,:])\n",
    "    plt.subplot(2, 2, 3)\n",
    "    plt.plot(x, waves[i+N,1,:])\n",
    "ax2 = plt.subplot(2, 2, 2)\n",
    "ax2.set_title(\"Averaged over samples\")\n",
    "plt.plot(x, np.mean(waves[0:N,1,:], axis=0))\n",
    "plt.subplot(2, 2, 4)\n",
    "plt.plot(x, np.mean(waves[N+1:N+N,1,:], axis=0))"
   ]
  },
  {
   "cell_type": "code",
   "execution_count": 14,
   "id": "violent-layer",
   "metadata": {},
   "outputs": [],
   "source": [
    "# From https://github.com/HussainiLab/BinConverter/blob/master/BinConverter/core/Tint_Matlab.py\n",
    "\n",
    "def get_setfile_parameter(parameter, set_filename):\n",
    "    \"\"\"\n",
    "    This function will return the parameter value of a given parameter name for a given set filename.\n",
    "    Args:\n",
    "        parameter (str): the name of the set file parameter that you want to obtain.\n",
    "        set_filename (str): the full path of the .set file that you want to obtain the parameter value from.\n",
    "    Returns:\n",
    "        parameter_value (str): the value for the given parameter\n",
    "    \"\"\"\n",
    "\n",
    "    if not os.path.exists(set_filename):\n",
    "        return\n",
    "\n",
    "    with open(set_filename, 'r+', encoding='cp1252') as f:\n",
    "        for line in f:\n",
    "            if parameter in line:\n",
    "                if line.split(' ')[0] == parameter:\n",
    "                    \n",
    "                    # prevents part of the parameter being in another parameter name\n",
    "                    new_line = line.strip().split(' ')\n",
    "                    if len(new_line) == 2:\n",
    "                        return new_line[-1]\n",
    "                    else:\n",
    "                        return ' '.join(new_line[1:])"
   ]
  },
  {
   "cell_type": "code",
   "execution_count": 634,
   "id": "therapeutic-partner",
   "metadata": {},
   "outputs": [],
   "source": [
    "def parse_generic_header(filename):\n",
    "    \"\"\"\n",
    "    Given a binary file with phrases and line breaks, enters the\n",
    "    first word of a phrase as dictionary key and the following\n",
    "    string (without linebreaks) as value. Returns the dictionary.\n",
    "    \"\"\"\n",
    "    header = {}\n",
    "    with open(filename, 'rb') as f:\n",
    "        for bin_line in f:\n",
    "            if b'data_start' in bin_line:\n",
    "                break\n",
    "            line = bin_line.decode('cp1252').replace('\\r\\n', '').replace('\\r', '').strip()\n",
    "            parts = line.split(' ')\n",
    "            key = parts[0]\n",
    "            value = ' '.join(parts[1:])\n",
    "            header[key] = value\n",
    "            \n",
    "    return header"
   ]
  },
  {
   "cell_type": "code",
   "execution_count": 644,
   "id": "coral-providence",
   "metadata": {},
   "outputs": [
    {
     "data": {
      "text/plain": [
       "1506"
      ]
     },
     "execution_count": 644,
     "metadata": {},
     "output_type": "execute_result"
    }
   ],
   "source": [
    "test = r.get_header_parameters(filename, 'set')\n",
    "len(test)"
   ]
  },
  {
   "cell_type": "code",
   "execution_count": 648,
   "id": "nuclear-federal",
   "metadata": {},
   "outputs": [
    {
     "name": "stdout",
     "output_type": "stream",
     "text": [
      "0 trial_date Sunday, 4 Oct 2020\n",
      "1 trial_time 11:07:07\n",
      "2 experimenter Abid\n",
      "3 comments \n",
      "4 duration 601\n",
      "5 sw_version 1.2.2.16\n",
      "6 ADC_fullscale_mv 1500\n",
      "7 tracker_version 0\n",
      "8 stim_version 1\n",
      "9 audio_version 0\n",
      "10 gain_ch_0 10000\n",
      "11 filter_ch_0 2\n",
      "12 a_in_ch_0 0\n",
      "13 b_in_ch_0 5\n",
      "14 mode_ch_0 4\n",
      "15 filtresp_ch_0 0\n",
      "16 filtkind_ch_0 0\n",
      "17 filtfreq1_ch_0 0\n",
      "18 filtfreq2_ch_0 0\n",
      "19 filtripple_ch_0 0.00\n",
      "20 filtdcblock_ch_0 0\n",
      "21 dispmode_ch_0 1\n",
      "22 channame_ch_0 \n",
      "23 gain_ch_1 10000\n",
      "24 filter_ch_1 2\n",
      "25 a_in_ch_1 1\n",
      "26 b_in_ch_1 5\n",
      "27 mode_ch_1 4\n",
      "28 filtresp_ch_1 0\n",
      "29 filtkind_ch_1 0\n",
      "30 filtfreq1_ch_1 0\n",
      "31 filtfreq2_ch_1 0\n",
      "32 filtripple_ch_1 0.00\n",
      "33 filtdcblock_ch_1 0\n",
      "34 dispmode_ch_1 1\n",
      "35 channame_ch_1 \n",
      "36 gain_ch_2 10000\n",
      "37 filter_ch_2 2\n",
      "38 a_in_ch_2 2\n",
      "39 b_in_ch_2 5\n",
      "40 mode_ch_2 4\n",
      "41 filtresp_ch_2 0\n",
      "42 filtkind_ch_2 0\n",
      "43 filtfreq1_ch_2 0\n",
      "44 filtfreq2_ch_2 0\n",
      "45 filtripple_ch_2 0.00\n",
      "46 filtdcblock_ch_2 0\n",
      "47 dispmode_ch_2 1\n",
      "48 channame_ch_2 \n",
      "49 gain_ch_3 10000\n",
      "50 filter_ch_3 2\n",
      "51 a_in_ch_3 3\n",
      "52 b_in_ch_3 5\n",
      "53 mode_ch_3 4\n",
      "54 filtresp_ch_3 0\n",
      "55 filtkind_ch_3 0\n",
      "56 filtfreq1_ch_3 0\n",
      "57 filtfreq2_ch_3 0\n",
      "58 filtripple_ch_3 0.00\n",
      "59 filtdcblock_ch_3 0\n",
      "60 dispmode_ch_3 1\n",
      "61 channame_ch_3 \n",
      "62 gain_ch_4 20000\n",
      "63 filter_ch_4 2\n",
      "64 a_in_ch_4 4\n",
      "65 b_in_ch_4 5\n",
      "66 mode_ch_4 4\n",
      "67 filtresp_ch_4 0\n",
      "68 filtkind_ch_4 0\n",
      "69 filtfreq1_ch_4 0\n",
      "70 filtfreq2_ch_4 0\n",
      "71 filtripple_ch_4 0.00\n",
      "72 filtdcblock_ch_4 0\n",
      "73 dispmode_ch_4 1\n",
      "74 channame_ch_4 \n",
      "75 gain_ch_5 20000\n",
      "76 filter_ch_5 2\n",
      "77 a_in_ch_5 5\n",
      "78 b_in_ch_5 15\n",
      "79 mode_ch_5 4\n",
      "80 filtresp_ch_5 0\n",
      "81 filtkind_ch_5 0\n",
      "82 filtfreq1_ch_5 0\n",
      "83 filtfreq2_ch_5 0\n",
      "84 filtripple_ch_5 0.00\n",
      "85 filtdcblock_ch_5 0\n",
      "86 dispmode_ch_5 1\n",
      "87 channame_ch_5 \n",
      "88 gain_ch_6 20000\n",
      "89 filter_ch_6 2\n",
      "90 a_in_ch_6 6\n",
      "91 b_in_ch_6 5\n",
      "92 mode_ch_6 4\n",
      "93 filtresp_ch_6 0\n",
      "94 filtkind_ch_6 0\n",
      "95 filtfreq1_ch_6 0\n",
      "96 filtfreq2_ch_6 0\n",
      "97 filtripple_ch_6 0.00\n",
      "98 filtdcblock_ch_6 0\n",
      "99 dispmode_ch_6 1\n",
      "100 channame_ch_6 \n",
      "101 gain_ch_7 20000\n",
      "102 filter_ch_7 2\n",
      "103 a_in_ch_7 7\n",
      "104 b_in_ch_7 5\n",
      "105 mode_ch_7 4\n",
      "106 filtresp_ch_7 0\n",
      "107 filtkind_ch_7 0\n",
      "108 filtfreq1_ch_7 0\n",
      "109 filtfreq2_ch_7 0\n",
      "110 filtripple_ch_7 0.00\n",
      "111 filtdcblock_ch_7 0\n",
      "112 dispmode_ch_7 1\n",
      "113 channame_ch_7 \n",
      "114 gain_ch_8 15000\n",
      "115 filter_ch_8 2\n",
      "116 a_in_ch_8 8\n",
      "117 b_in_ch_8 5\n",
      "118 mode_ch_8 4\n",
      "119 filtresp_ch_8 0\n",
      "120 filtkind_ch_8 0\n",
      "121 filtfreq1_ch_8 0\n",
      "122 filtfreq2_ch_8 0\n",
      "123 filtripple_ch_8 0.00\n",
      "124 filtdcblock_ch_8 0\n",
      "125 dispmode_ch_8 1\n",
      "126 channame_ch_8 \n",
      "127 gain_ch_9 15000\n",
      "128 filter_ch_9 2\n",
      "129 a_in_ch_9 9\n",
      "130 b_in_ch_9 5\n",
      "131 mode_ch_9 4\n",
      "132 filtresp_ch_9 0\n",
      "133 filtkind_ch_9 0\n",
      "134 filtfreq1_ch_9 0\n",
      "135 filtfreq2_ch_9 0\n",
      "136 filtripple_ch_9 0.00\n",
      "137 filtdcblock_ch_9 0\n",
      "138 dispmode_ch_9 1\n",
      "139 channame_ch_9 \n",
      "140 gain_ch_10 15000\n",
      "141 filter_ch_10 2\n",
      "142 a_in_ch_10 10\n",
      "143 b_in_ch_10 5\n",
      "144 mode_ch_10 4\n",
      "145 filtresp_ch_10 0\n",
      "146 filtkind_ch_10 0\n",
      "147 filtfreq1_ch_10 0\n",
      "148 filtfreq2_ch_10 0\n",
      "149 filtripple_ch_10 0.00\n",
      "150 filtdcblock_ch_10 0\n",
      "151 dispmode_ch_10 1\n",
      "152 channame_ch_10 \n",
      "153 gain_ch_11 15000\n",
      "154 filter_ch_11 2\n",
      "155 a_in_ch_11 11\n",
      "156 b_in_ch_11 5\n",
      "157 mode_ch_11 4\n",
      "158 filtresp_ch_11 0\n",
      "159 filtkind_ch_11 0\n",
      "160 filtfreq1_ch_11 0\n",
      "161 filtfreq2_ch_11 0\n",
      "162 filtripple_ch_11 0.00\n",
      "163 filtdcblock_ch_11 0\n",
      "164 dispmode_ch_11 1\n",
      "165 channame_ch_11 \n",
      "166 gain_ch_12 15000\n",
      "167 filter_ch_12 2\n",
      "168 a_in_ch_12 12\n",
      "169 b_in_ch_12 5\n",
      "170 mode_ch_12 4\n",
      "171 filtresp_ch_12 0\n",
      "172 filtkind_ch_12 0\n",
      "173 filtfreq1_ch_12 0\n",
      "174 filtfreq2_ch_12 0\n",
      "175 filtripple_ch_12 0.00\n",
      "176 filtdcblock_ch_12 0\n",
      "177 dispmode_ch_12 1\n",
      "178 channame_ch_12 \n",
      "179 gain_ch_13 15000\n",
      "180 filter_ch_13 2\n",
      "181 a_in_ch_13 13\n",
      "182 b_in_ch_13 5\n",
      "183 mode_ch_13 4\n",
      "184 filtresp_ch_13 0\n",
      "185 filtkind_ch_13 0\n",
      "186 filtfreq1_ch_13 0\n",
      "187 filtfreq2_ch_13 0\n",
      "188 filtripple_ch_13 0.00\n",
      "189 filtdcblock_ch_13 0\n",
      "190 dispmode_ch_13 1\n",
      "191 channame_ch_13 \n",
      "192 gain_ch_14 15000\n",
      "193 filter_ch_14 2\n",
      "194 a_in_ch_14 14\n",
      "195 b_in_ch_14 5\n",
      "196 mode_ch_14 4\n",
      "197 filtresp_ch_14 0\n",
      "198 filtkind_ch_14 0\n",
      "199 filtfreq1_ch_14 0\n",
      "200 filtfreq2_ch_14 0\n",
      "201 filtripple_ch_14 0.00\n",
      "202 filtdcblock_ch_14 0\n",
      "203 dispmode_ch_14 1\n",
      "204 channame_ch_14 \n",
      "205 gain_ch_15 15000\n",
      "206 filter_ch_15 2\n",
      "207 a_in_ch_15 15\n",
      "208 b_in_ch_15 5\n",
      "209 mode_ch_15 4\n",
      "210 filtresp_ch_15 0\n",
      "211 filtkind_ch_15 0\n",
      "212 filtfreq1_ch_15 0\n",
      "213 filtfreq2_ch_15 0\n",
      "214 filtripple_ch_15 0.00\n",
      "215 filtdcblock_ch_15 0\n",
      "216 dispmode_ch_15 1\n",
      "217 channame_ch_15 \n",
      "218 gain_ch_16 4000\n",
      "219 filter_ch_16 4\n",
      "220 a_in_ch_16 16\n",
      "221 b_in_ch_16 0\n",
      "222 mode_ch_16 1\n",
      "223 filtresp_ch_16 0\n",
      "224 filtkind_ch_16 0\n",
      "225 filtfreq1_ch_16 0\n",
      "226 filtfreq2_ch_16 0\n",
      "227 filtripple_ch_16 0.00\n",
      "228 filtdcblock_ch_16 0\n",
      "229 dispmode_ch_16 1\n",
      "230 channame_ch_16 \n",
      "231 gain_ch_17 3000\n",
      "232 filter_ch_17 4\n",
      "233 a_in_ch_17 17\n",
      "234 b_in_ch_17 0\n",
      "235 mode_ch_17 1\n",
      "236 filtresp_ch_17 0\n",
      "237 filtkind_ch_17 0\n",
      "238 filtfreq1_ch_17 0\n",
      "239 filtfreq2_ch_17 0\n",
      "240 filtripple_ch_17 0.00\n",
      "241 filtdcblock_ch_17 0\n",
      "242 dispmode_ch_17 1\n",
      "243 channame_ch_17 \n",
      "244 gain_ch_18 2000\n",
      "245 filter_ch_18 4\n",
      "246 a_in_ch_18 18\n",
      "247 b_in_ch_18 0\n",
      "248 mode_ch_18 1\n",
      "249 filtresp_ch_18 0\n",
      "250 filtkind_ch_18 0\n",
      "251 filtfreq1_ch_18 0\n",
      "252 filtfreq2_ch_18 0\n",
      "253 filtripple_ch_18 0.00\n",
      "254 filtdcblock_ch_18 0\n",
      "255 dispmode_ch_18 1\n",
      "256 channame_ch_18 \n",
      "257 gain_ch_19 500\n",
      "258 filter_ch_19 4\n",
      "259 a_in_ch_19 19\n",
      "260 b_in_ch_19 0\n",
      "261 mode_ch_19 3\n",
      "262 filtresp_ch_19 0\n",
      "263 filtkind_ch_19 0\n",
      "264 filtfreq1_ch_19 0\n",
      "265 filtfreq2_ch_19 0\n",
      "266 filtripple_ch_19 0.00\n",
      "267 filtdcblock_ch_19 0\n",
      "268 dispmode_ch_19 1\n",
      "269 channame_ch_19 \n",
      "270 gain_ch_20 30000\n",
      "271 filter_ch_20 2\n",
      "272 a_in_ch_20 20\n",
      "273 b_in_ch_20 26\n",
      "274 mode_ch_20 6\n",
      "275 filtresp_ch_20 2\n",
      "276 filtkind_ch_20 0\n",
      "277 filtfreq1_ch_20 300\n",
      "278 filtfreq2_ch_20 7000\n",
      "279 filtripple_ch_20 0.10\n",
      "280 filtdcblock_ch_20 1\n",
      "281 dispmode_ch_20 1\n",
      "282 channame_ch_20 \n",
      "283 gain_ch_21 30000\n",
      "284 filter_ch_21 2\n",
      "285 a_in_ch_21 21\n",
      "286 b_in_ch_21 26\n",
      "287 mode_ch_21 6\n",
      "288 filtresp_ch_21 2\n",
      "289 filtkind_ch_21 0\n",
      "290 filtfreq1_ch_21 300\n",
      "291 filtfreq2_ch_21 7000\n",
      "292 filtripple_ch_21 0.10\n",
      "293 filtdcblock_ch_21 1\n",
      "294 dispmode_ch_21 1\n",
      "295 channame_ch_21 \n",
      "296 gain_ch_22 30000\n",
      "297 filter_ch_22 2\n",
      "298 a_in_ch_22 22\n",
      "299 b_in_ch_22 26\n",
      "300 mode_ch_22 6\n",
      "301 filtresp_ch_22 2\n",
      "302 filtkind_ch_22 0\n",
      "303 filtfreq1_ch_22 300\n",
      "304 filtfreq2_ch_22 7000\n",
      "305 filtripple_ch_22 0.10\n",
      "306 filtdcblock_ch_22 1\n",
      "307 dispmode_ch_22 1\n",
      "308 channame_ch_22 \n",
      "309 gain_ch_23 30000\n",
      "310 filter_ch_23 2\n",
      "311 a_in_ch_23 23\n",
      "312 b_in_ch_23 26\n",
      "313 mode_ch_23 6\n",
      "314 filtresp_ch_23 2\n",
      "315 filtkind_ch_23 0\n",
      "316 filtfreq1_ch_23 300\n",
      "317 filtfreq2_ch_23 7000\n",
      "318 filtripple_ch_23 0.10\n",
      "319 filtdcblock_ch_23 1\n",
      "320 dispmode_ch_23 1\n",
      "321 channame_ch_23 \n",
      "322 gain_ch_24 30000\n",
      "323 filter_ch_24 2\n",
      "324 a_in_ch_24 24\n",
      "325 b_in_ch_24 26\n",
      "326 mode_ch_24 6\n",
      "327 filtresp_ch_24 2\n",
      "328 filtkind_ch_24 0\n",
      "329 filtfreq1_ch_24 300\n",
      "330 filtfreq2_ch_24 7000\n",
      "331 filtripple_ch_24 0.10\n",
      "332 filtdcblock_ch_24 1\n",
      "333 dispmode_ch_24 1\n",
      "334 channame_ch_24 \n",
      "335 gain_ch_25 30000\n",
      "336 filter_ch_25 2\n",
      "337 a_in_ch_25 25\n",
      "338 b_in_ch_25 26\n",
      "339 mode_ch_25 6\n",
      "340 filtresp_ch_25 2\n",
      "341 filtkind_ch_25 0\n",
      "342 filtfreq1_ch_25 300\n",
      "343 filtfreq2_ch_25 7000\n",
      "344 filtripple_ch_25 0.10\n",
      "345 filtdcblock_ch_25 1\n",
      "346 dispmode_ch_25 1\n",
      "347 channame_ch_25 \n",
      "348 gain_ch_26 30000\n",
      "349 filter_ch_26 2\n",
      "350 a_in_ch_26 26\n",
      "351 b_in_ch_26 0\n",
      "352 mode_ch_26 6\n",
      "353 filtresp_ch_26 2\n",
      "354 filtkind_ch_26 0\n",
      "355 filtfreq1_ch_26 300\n",
      "356 filtfreq2_ch_26 7000\n",
      "357 filtripple_ch_26 0.10\n",
      "358 filtdcblock_ch_26 1\n",
      "359 dispmode_ch_26 1\n",
      "360 channame_ch_26 \n",
      "361 gain_ch_27 30000\n",
      "362 filter_ch_27 2\n",
      "363 a_in_ch_27 27\n",
      "364 b_in_ch_27 26\n",
      "365 mode_ch_27 6\n",
      "366 filtresp_ch_27 2\n",
      "367 filtkind_ch_27 0\n",
      "368 filtfreq1_ch_27 300\n",
      "369 filtfreq2_ch_27 7000\n",
      "370 filtripple_ch_27 0.10\n",
      "371 filtdcblock_ch_27 1\n",
      "372 dispmode_ch_27 1\n",
      "373 channame_ch_27 \n",
      "374 gain_ch_28 30000\n",
      "375 filter_ch_28 2\n",
      "376 a_in_ch_28 28\n",
      "377 b_in_ch_28 26\n",
      "378 mode_ch_28 6\n",
      "379 filtresp_ch_28 2\n",
      "380 filtkind_ch_28 0\n",
      "381 filtfreq1_ch_28 300\n",
      "382 filtfreq2_ch_28 7000\n",
      "383 filtripple_ch_28 0.10\n",
      "384 filtdcblock_ch_28 1\n",
      "385 dispmode_ch_28 1\n",
      "386 channame_ch_28 \n",
      "387 gain_ch_29 30000\n",
      "388 filter_ch_29 2\n",
      "389 a_in_ch_29 29\n",
      "390 b_in_ch_29 26\n",
      "391 mode_ch_29 6\n",
      "392 filtresp_ch_29 2\n",
      "393 filtkind_ch_29 0\n",
      "394 filtfreq1_ch_29 300\n",
      "395 filtfreq2_ch_29 7000\n",
      "396 filtripple_ch_29 0.10\n",
      "397 filtdcblock_ch_29 1\n",
      "398 dispmode_ch_29 1\n",
      "399 channame_ch_29 \n",
      "400 gain_ch_30 30000\n",
      "401 filter_ch_30 2\n",
      "402 a_in_ch_30 30\n",
      "403 b_in_ch_30 26\n",
      "404 mode_ch_30 6\n",
      "405 filtresp_ch_30 2\n",
      "406 filtkind_ch_30 0\n",
      "407 filtfreq1_ch_30 300\n",
      "408 filtfreq2_ch_30 7000\n",
      "409 filtripple_ch_30 0.10\n",
      "410 filtdcblock_ch_30 1\n",
      "411 dispmode_ch_30 1\n",
      "412 channame_ch_30 \n",
      "413 gain_ch_31 30000\n",
      "414 filter_ch_31 2\n",
      "415 a_in_ch_31 31\n",
      "416 b_in_ch_31 26\n",
      "417 mode_ch_31 6\n",
      "418 filtresp_ch_31 2\n",
      "419 filtkind_ch_31 0\n",
      "420 filtfreq1_ch_31 300\n",
      "421 filtfreq2_ch_31 7000\n",
      "422 filtripple_ch_31 0.10\n",
      "423 filtdcblock_ch_31 1\n",
      "424 dispmode_ch_31 1\n",
      "425 channame_ch_31 \n",
      "426 gain_ch_32 4000\n",
      "427 filter_ch_32 2\n",
      "428 a_in_ch_32 32\n",
      "429 b_in_ch_32 5\n",
      "430 mode_ch_32 5\n",
      "431 filtresp_ch_32 2\n",
      "432 filtkind_ch_32 0\n",
      "433 filtfreq1_ch_32 300\n",
      "434 filtfreq2_ch_32 7000\n",
      "435 filtripple_ch_32 0.10\n",
      "436 filtdcblock_ch_32 1\n",
      "437 dispmode_ch_32 1\n",
      "438 channame_ch_32 \n",
      "439 gain_ch_33 4000\n",
      "440 filter_ch_33 2\n",
      "441 a_in_ch_33 33\n",
      "442 b_in_ch_33 5\n",
      "443 mode_ch_33 5\n",
      "444 filtresp_ch_33 2\n",
      "445 filtkind_ch_33 0\n",
      "446 filtfreq1_ch_33 300\n",
      "447 filtfreq2_ch_33 7000\n",
      "448 filtripple_ch_33 0.10\n",
      "449 filtdcblock_ch_33 1\n",
      "450 dispmode_ch_33 1\n",
      "451 channame_ch_33 \n",
      "452 gain_ch_34 4000\n",
      "453 filter_ch_34 2\n",
      "454 a_in_ch_34 34\n",
      "455 b_in_ch_34 5\n",
      "456 mode_ch_34 5\n",
      "457 filtresp_ch_34 2\n",
      "458 filtkind_ch_34 0\n",
      "459 filtfreq1_ch_34 300\n",
      "460 filtfreq2_ch_34 7000\n",
      "461 filtripple_ch_34 0.10\n",
      "462 filtdcblock_ch_34 1\n",
      "463 dispmode_ch_34 1\n",
      "464 channame_ch_34 \n",
      "465 gain_ch_35 4000\n",
      "466 filter_ch_35 2\n",
      "467 a_in_ch_35 35\n",
      "468 b_in_ch_35 5\n",
      "469 mode_ch_35 5\n",
      "470 filtresp_ch_35 2\n",
      "471 filtkind_ch_35 0\n",
      "472 filtfreq1_ch_35 300\n",
      "473 filtfreq2_ch_35 7000\n",
      "474 filtripple_ch_35 0.10\n"
     ]
    },
    {
     "name": "stdout",
     "output_type": "stream",
     "text": [
      "475 filtdcblock_ch_35 1\n",
      "476 dispmode_ch_35 1\n",
      "477 channame_ch_35 \n",
      "478 gain_ch_36 4000\n",
      "479 filter_ch_36 2\n",
      "480 a_in_ch_36 36\n",
      "481 b_in_ch_36 4\n",
      "482 mode_ch_36 5\n",
      "483 filtresp_ch_36 2\n",
      "484 filtkind_ch_36 0\n",
      "485 filtfreq1_ch_36 300\n",
      "486 filtfreq2_ch_36 7000\n",
      "487 filtripple_ch_36 0.10\n",
      "488 filtdcblock_ch_36 1\n",
      "489 dispmode_ch_36 1\n",
      "490 channame_ch_36 \n",
      "491 gain_ch_37 4000\n",
      "492 filter_ch_37 2\n",
      "493 a_in_ch_37 37\n",
      "494 b_in_ch_37 4\n",
      "495 mode_ch_37 5\n",
      "496 filtresp_ch_37 2\n",
      "497 filtkind_ch_37 0\n",
      "498 filtfreq1_ch_37 300\n",
      "499 filtfreq2_ch_37 7000\n",
      "500 filtripple_ch_37 0.10\n",
      "501 filtdcblock_ch_37 1\n",
      "502 dispmode_ch_37 1\n",
      "503 channame_ch_37 \n",
      "504 gain_ch_38 4000\n",
      "505 filter_ch_38 2\n",
      "506 a_in_ch_38 38\n",
      "507 b_in_ch_38 4\n",
      "508 mode_ch_38 5\n",
      "509 filtresp_ch_38 2\n",
      "510 filtkind_ch_38 0\n",
      "511 filtfreq1_ch_38 300\n",
      "512 filtfreq2_ch_38 7000\n",
      "513 filtripple_ch_38 0.10\n",
      "514 filtdcblock_ch_38 1\n",
      "515 dispmode_ch_38 1\n",
      "516 channame_ch_38 \n",
      "517 gain_ch_39 4000\n",
      "518 filter_ch_39 2\n",
      "519 a_in_ch_39 39\n",
      "520 b_in_ch_39 4\n",
      "521 mode_ch_39 5\n",
      "522 filtresp_ch_39 2\n",
      "523 filtkind_ch_39 0\n",
      "524 filtfreq1_ch_39 300\n",
      "525 filtfreq2_ch_39 7000\n",
      "526 filtripple_ch_39 0.10\n",
      "527 filtdcblock_ch_39 1\n",
      "528 dispmode_ch_39 1\n",
      "529 channame_ch_39 \n",
      "530 gain_ch_40 4000\n",
      "531 filter_ch_40 2\n",
      "532 a_in_ch_40 40\n",
      "533 b_in_ch_40 5\n",
      "534 mode_ch_40 5\n",
      "535 filtresp_ch_40 2\n",
      "536 filtkind_ch_40 0\n",
      "537 filtfreq1_ch_40 300\n",
      "538 filtfreq2_ch_40 7000\n",
      "539 filtripple_ch_40 0.10\n",
      "540 filtdcblock_ch_40 1\n",
      "541 dispmode_ch_40 1\n",
      "542 channame_ch_40 \n",
      "543 gain_ch_41 4000\n",
      "544 filter_ch_41 2\n",
      "545 a_in_ch_41 41\n",
      "546 b_in_ch_41 5\n",
      "547 mode_ch_41 5\n",
      "548 filtresp_ch_41 2\n",
      "549 filtkind_ch_41 0\n",
      "550 filtfreq1_ch_41 300\n",
      "551 filtfreq2_ch_41 7000\n",
      "552 filtripple_ch_41 0.10\n",
      "553 filtdcblock_ch_41 1\n",
      "554 dispmode_ch_41 1\n",
      "555 channame_ch_41 \n",
      "556 gain_ch_42 4000\n",
      "557 filter_ch_42 2\n",
      "558 a_in_ch_42 42\n",
      "559 b_in_ch_42 5\n",
      "560 mode_ch_42 5\n",
      "561 filtresp_ch_42 2\n",
      "562 filtkind_ch_42 0\n",
      "563 filtfreq1_ch_42 300\n",
      "564 filtfreq2_ch_42 7000\n",
      "565 filtripple_ch_42 0.10\n",
      "566 filtdcblock_ch_42 1\n",
      "567 dispmode_ch_42 1\n",
      "568 channame_ch_42 \n",
      "569 gain_ch_43 4000\n",
      "570 filter_ch_43 2\n",
      "571 a_in_ch_43 43\n",
      "572 b_in_ch_43 5\n",
      "573 mode_ch_43 5\n",
      "574 filtresp_ch_43 2\n",
      "575 filtkind_ch_43 0\n",
      "576 filtfreq1_ch_43 300\n",
      "577 filtfreq2_ch_43 7000\n",
      "578 filtripple_ch_43 0.10\n",
      "579 filtdcblock_ch_43 1\n",
      "580 dispmode_ch_43 1\n",
      "581 channame_ch_43 \n",
      "582 gain_ch_44 4000\n",
      "583 filter_ch_44 2\n",
      "584 a_in_ch_44 44\n",
      "585 b_in_ch_44 4\n",
      "586 mode_ch_44 5\n",
      "587 filtresp_ch_44 2\n",
      "588 filtkind_ch_44 0\n",
      "589 filtfreq1_ch_44 300\n",
      "590 filtfreq2_ch_44 7000\n",
      "591 filtripple_ch_44 0.10\n",
      "592 filtdcblock_ch_44 1\n",
      "593 dispmode_ch_44 1\n",
      "594 channame_ch_44 \n",
      "595 gain_ch_45 4000\n",
      "596 filter_ch_45 2\n",
      "597 a_in_ch_45 45\n",
      "598 b_in_ch_45 4\n",
      "599 mode_ch_45 5\n",
      "600 filtresp_ch_45 2\n",
      "601 filtkind_ch_45 0\n",
      "602 filtfreq1_ch_45 300\n",
      "603 filtfreq2_ch_45 7000\n",
      "604 filtripple_ch_45 0.10\n",
      "605 filtdcblock_ch_45 1\n",
      "606 dispmode_ch_45 1\n",
      "607 channame_ch_45 \n",
      "608 gain_ch_46 4000\n",
      "609 filter_ch_46 2\n",
      "610 a_in_ch_46 46\n",
      "611 b_in_ch_46 4\n",
      "612 mode_ch_46 5\n",
      "613 filtresp_ch_46 2\n",
      "614 filtkind_ch_46 0\n",
      "615 filtfreq1_ch_46 300\n",
      "616 filtfreq2_ch_46 7000\n",
      "617 filtripple_ch_46 0.10\n",
      "618 filtdcblock_ch_46 1\n",
      "619 dispmode_ch_46 1\n",
      "620 channame_ch_46 \n",
      "621 gain_ch_47 4000\n",
      "622 filter_ch_47 2\n",
      "623 a_in_ch_47 47\n",
      "624 b_in_ch_47 4\n",
      "625 mode_ch_47 5\n",
      "626 filtresp_ch_47 2\n",
      "627 filtkind_ch_47 0\n",
      "628 filtfreq1_ch_47 300\n",
      "629 filtfreq2_ch_47 7000\n",
      "630 filtripple_ch_47 0.10\n",
      "631 filtdcblock_ch_47 1\n",
      "632 dispmode_ch_47 1\n",
      "633 channame_ch_47 \n",
      "634 gain_ch_48 4000\n",
      "635 filter_ch_48 2\n",
      "636 a_in_ch_48 48\n",
      "637 b_in_ch_48 7\n",
      "638 mode_ch_48 5\n",
      "639 filtresp_ch_48 2\n",
      "640 filtkind_ch_48 0\n",
      "641 filtfreq1_ch_48 300\n",
      "642 filtfreq2_ch_48 7000\n",
      "643 filtripple_ch_48 0.10\n",
      "644 filtdcblock_ch_48 1\n",
      "645 dispmode_ch_48 1\n",
      "646 channame_ch_48 \n",
      "647 gain_ch_49 4000\n",
      "648 filter_ch_49 2\n",
      "649 a_in_ch_49 49\n",
      "650 b_in_ch_49 7\n",
      "651 mode_ch_49 5\n",
      "652 filtresp_ch_49 2\n",
      "653 filtkind_ch_49 0\n",
      "654 filtfreq1_ch_49 300\n",
      "655 filtfreq2_ch_49 7000\n",
      "656 filtripple_ch_49 0.10\n",
      "657 filtdcblock_ch_49 1\n",
      "658 dispmode_ch_49 1\n",
      "659 channame_ch_49 \n",
      "660 gain_ch_50 4000\n",
      "661 filter_ch_50 2\n",
      "662 a_in_ch_50 50\n",
      "663 b_in_ch_50 7\n",
      "664 mode_ch_50 5\n",
      "665 filtresp_ch_50 2\n",
      "666 filtkind_ch_50 0\n",
      "667 filtfreq1_ch_50 300\n",
      "668 filtfreq2_ch_50 7000\n",
      "669 filtripple_ch_50 0.10\n",
      "670 filtdcblock_ch_50 1\n",
      "671 dispmode_ch_50 1\n",
      "672 channame_ch_50 \n",
      "673 gain_ch_51 4000\n",
      "674 filter_ch_51 2\n",
      "675 a_in_ch_51 51\n",
      "676 b_in_ch_51 7\n",
      "677 mode_ch_51 5\n",
      "678 filtresp_ch_51 2\n",
      "679 filtkind_ch_51 0\n",
      "680 filtfreq1_ch_51 300\n",
      "681 filtfreq2_ch_51 7000\n",
      "682 filtripple_ch_51 0.10\n",
      "683 filtdcblock_ch_51 1\n",
      "684 dispmode_ch_51 1\n",
      "685 channame_ch_51 \n",
      "686 gain_ch_52 4000\n",
      "687 filter_ch_52 2\n",
      "688 a_in_ch_52 52\n",
      "689 b_in_ch_52 6\n",
      "690 mode_ch_52 5\n",
      "691 filtresp_ch_52 2\n",
      "692 filtkind_ch_52 0\n",
      "693 filtfreq1_ch_52 300\n",
      "694 filtfreq2_ch_52 7000\n",
      "695 filtripple_ch_52 0.10\n",
      "696 filtdcblock_ch_52 1\n",
      "697 dispmode_ch_52 1\n",
      "698 channame_ch_52 \n",
      "699 gain_ch_53 4000\n",
      "700 filter_ch_53 2\n",
      "701 a_in_ch_53 53\n",
      "702 b_in_ch_53 6\n",
      "703 mode_ch_53 5\n",
      "704 filtresp_ch_53 2\n",
      "705 filtkind_ch_53 0\n",
      "706 filtfreq1_ch_53 300\n",
      "707 filtfreq2_ch_53 7000\n",
      "708 filtripple_ch_53 0.10\n",
      "709 filtdcblock_ch_53 1\n",
      "710 dispmode_ch_53 1\n",
      "711 channame_ch_53 \n",
      "712 gain_ch_54 4000\n",
      "713 filter_ch_54 2\n",
      "714 a_in_ch_54 54\n",
      "715 b_in_ch_54 6\n",
      "716 mode_ch_54 5\n",
      "717 filtresp_ch_54 2\n",
      "718 filtkind_ch_54 0\n",
      "719 filtfreq1_ch_54 300\n",
      "720 filtfreq2_ch_54 7000\n",
      "721 filtripple_ch_54 0.10\n",
      "722 filtdcblock_ch_54 1\n",
      "723 dispmode_ch_54 1\n",
      "724 channame_ch_54 \n",
      "725 gain_ch_55 4000\n",
      "726 filter_ch_55 2\n",
      "727 a_in_ch_55 55\n",
      "728 b_in_ch_55 6\n",
      "729 mode_ch_55 5\n",
      "730 filtresp_ch_55 2\n",
      "731 filtkind_ch_55 0\n",
      "732 filtfreq1_ch_55 300\n",
      "733 filtfreq2_ch_55 7000\n",
      "734 filtripple_ch_55 0.10\n",
      "735 filtdcblock_ch_55 1\n",
      "736 dispmode_ch_55 1\n",
      "737 channame_ch_55 \n",
      "738 gain_ch_56 4000\n",
      "739 filter_ch_56 2\n",
      "740 a_in_ch_56 56\n",
      "741 b_in_ch_56 7\n",
      "742 mode_ch_56 5\n",
      "743 filtresp_ch_56 2\n",
      "744 filtkind_ch_56 0\n",
      "745 filtfreq1_ch_56 300\n",
      "746 filtfreq2_ch_56 7000\n",
      "747 filtripple_ch_56 0.10\n",
      "748 filtdcblock_ch_56 1\n",
      "749 dispmode_ch_56 1\n",
      "750 channame_ch_56 \n",
      "751 gain_ch_57 4000\n",
      "752 filter_ch_57 2\n",
      "753 a_in_ch_57 57\n",
      "754 b_in_ch_57 7\n",
      "755 mode_ch_57 5\n",
      "756 filtresp_ch_57 2\n",
      "757 filtkind_ch_57 0\n",
      "758 filtfreq1_ch_57 300\n",
      "759 filtfreq2_ch_57 7000\n",
      "760 filtripple_ch_57 0.10\n",
      "761 filtdcblock_ch_57 1\n",
      "762 dispmode_ch_57 1\n",
      "763 channame_ch_57 \n",
      "764 gain_ch_58 4000\n",
      "765 filter_ch_58 2\n",
      "766 a_in_ch_58 58\n",
      "767 b_in_ch_58 7\n",
      "768 mode_ch_58 5\n",
      "769 filtresp_ch_58 2\n",
      "770 filtkind_ch_58 0\n",
      "771 filtfreq1_ch_58 300\n",
      "772 filtfreq2_ch_58 7000\n",
      "773 filtripple_ch_58 0.10\n",
      "774 filtdcblock_ch_58 1\n",
      "775 dispmode_ch_58 1\n",
      "776 channame_ch_58 \n",
      "777 gain_ch_59 4000\n",
      "778 filter_ch_59 2\n",
      "779 a_in_ch_59 59\n",
      "780 b_in_ch_59 7\n",
      "781 mode_ch_59 5\n",
      "782 filtresp_ch_59 2\n",
      "783 filtkind_ch_59 0\n",
      "784 filtfreq1_ch_59 300\n",
      "785 filtfreq2_ch_59 7000\n",
      "786 filtripple_ch_59 0.10\n",
      "787 filtdcblock_ch_59 1\n",
      "788 dispmode_ch_59 1\n",
      "789 channame_ch_59 \n",
      "790 gain_ch_60 4000\n",
      "791 filter_ch_60 2\n",
      "792 a_in_ch_60 60\n",
      "793 b_in_ch_60 6\n",
      "794 mode_ch_60 5\n",
      "795 filtresp_ch_60 2\n",
      "796 filtkind_ch_60 0\n",
      "797 filtfreq1_ch_60 300\n",
      "798 filtfreq2_ch_60 7000\n",
      "799 filtripple_ch_60 0.10\n",
      "800 filtdcblock_ch_60 1\n",
      "801 dispmode_ch_60 1\n",
      "802 channame_ch_60 \n",
      "803 gain_ch_61 4000\n",
      "804 filter_ch_61 2\n",
      "805 a_in_ch_61 61\n",
      "806 b_in_ch_61 6\n",
      "807 mode_ch_61 5\n",
      "808 filtresp_ch_61 2\n",
      "809 filtkind_ch_61 0\n",
      "810 filtfreq1_ch_61 300\n",
      "811 filtfreq2_ch_61 7000\n",
      "812 filtripple_ch_61 0.10\n",
      "813 filtdcblock_ch_61 1\n",
      "814 dispmode_ch_61 1\n",
      "815 channame_ch_61 \n",
      "816 gain_ch_62 4000\n",
      "817 filter_ch_62 2\n",
      "818 a_in_ch_62 62\n",
      "819 b_in_ch_62 6\n",
      "820 mode_ch_62 5\n",
      "821 filtresp_ch_62 2\n",
      "822 filtkind_ch_62 0\n",
      "823 filtfreq1_ch_62 300\n",
      "824 filtfreq2_ch_62 7000\n",
      "825 filtripple_ch_62 0.10\n",
      "826 filtdcblock_ch_62 1\n",
      "827 dispmode_ch_62 1\n",
      "828 channame_ch_62 \n",
      "829 gain_ch_63 4000\n",
      "830 filter_ch_63 2\n",
      "831 a_in_ch_63 63\n",
      "832 b_in_ch_63 6\n",
      "833 mode_ch_63 5\n",
      "834 filtresp_ch_63 2\n",
      "835 filtkind_ch_63 0\n",
      "836 filtfreq1_ch_63 300\n",
      "837 filtfreq2_ch_63 7000\n",
      "838 filtripple_ch_63 0.10\n",
      "839 filtdcblock_ch_63 1\n",
      "840 dispmode_ch_63 1\n",
      "841 channame_ch_63 \n",
      "842 second_audio 9\n",
      "843 default_filtresp_hp 2\n",
      "844 default_filtkind_hp 0\n",
      "845 default_filtfreq1_hp 300\n",
      "846 default_filtfreq2_hp 7000\n",
      "847 default_filtripple_hp 0.10\n",
      "848 default_filtdcblock_hp 1\n",
      "849 default_filtresp_lp 0\n",
      "850 default_filtkind_lp 1\n",
      "851 default_filtfreq1_lp 500\n",
      "852 default_filtfreq2_lp 0\n",
      "853 default_filtripple_lp 0.10\n",
      "854 default_filtdcblock_lp 1\n",
      "855 notch_frequency 60\n",
      "856 ref_0 4\n",
      "857 ref_1 5\n",
      "858 ref_2 0\n",
      "859 ref_3 2\n",
      "860 ref_4 3\n",
      "861 ref_5 7\n",
      "862 ref_6 6\n",
      "863 ref_7 0\n",
      "864 trigger_chan 6\n",
      "865 selected_slot 6\n",
      "866 sweeprate 5\n",
      "867 trig_point 3\n",
      "868 trig_slope 1\n",
      "869 threshold 18944\n",
      "870 leftthreshold 0\n",
      "871 rightthreshold 0\n",
      "872 aud_threshold 1\n",
      "873 chan_group 1\n",
      "874 groups_1_0 0\n",
      "875 groups_1_1 1\n",
      "876 groups_1_2 2\n",
      "877 groups_1_3 3\n",
      "878 groups_1_4 -1\n",
      "879 groups_1_5 4\n",
      "880 groups_1_6 5\n",
      "881 groups_1_7 6\n",
      "882 groups_1_8 7\n",
      "883 groups_1_9 -1\n",
      "884 groups_2_0 8\n",
      "885 groups_2_1 9\n",
      "886 groups_2_2 10\n",
      "887 groups_2_3 11\n",
      "888 groups_2_4 -1\n",
      "889 groups_2_5 12\n",
      "890 groups_2_6 13\n",
      "891 groups_2_7 14\n",
      "892 groups_2_8 15\n",
      "893 groups_2_9 -1\n",
      "894 groups_3_0 16\n",
      "895 groups_3_1 17\n",
      "896 groups_3_2 18\n",
      "897 groups_3_3 19\n",
      "898 groups_3_4 -1\n",
      "899 groups_3_5 20\n",
      "900 groups_3_6 21\n",
      "901 groups_3_7 22\n",
      "902 groups_3_8 23\n",
      "903 groups_3_9 -1\n",
      "904 groups_4_0 24\n",
      "905 groups_4_1 25\n",
      "906 groups_4_2 26\n",
      "907 groups_4_3 27\n",
      "908 groups_4_4 -1\n",
      "909 groups_4_5 28\n",
      "910 groups_4_6 29\n",
      "911 groups_4_7 30\n",
      "912 groups_4_8 31\n",
      "913 groups_4_9 -1\n",
      "914 groups_5_0 0\n",
      "915 groups_5_1 1\n",
      "916 groups_5_2 2\n",
      "917 groups_5_3 3\n",
      "918 groups_5_4 -1\n",
      "919 groups_5_5 4\n",
      "920 groups_5_6 5\n",
      "921 groups_5_7 6\n",
      "922 groups_5_8 7\n",
      "923 groups_5_9 -1\n",
      "924 groups_6_0 40\n",
      "925 groups_6_1 41\n",
      "926 groups_6_2 42\n",
      "927 groups_6_3 43\n",
      "928 groups_6_4 -1\n",
      "929 groups_6_5 44\n",
      "930 groups_6_6 45\n",
      "931 groups_6_7 46\n",
      "932 groups_6_8 47\n",
      "933 groups_6_9 -1\n",
      "934 groups_7_0 48\n",
      "935 groups_7_1 49\n",
      "936 groups_7_2 50\n",
      "937 groups_7_3 51\n",
      "938 groups_7_4 -1\n",
      "939 groups_7_5 52\n",
      "940 groups_7_6 53\n",
      "941 groups_7_7 54\n",
      "942 groups_7_8 55\n",
      "943 groups_7_9 -1\n",
      "944 groups_8_0 56\n",
      "945 groups_8_1 57\n",
      "946 groups_8_2 58\n",
      "947 groups_8_3 59\n",
      "948 groups_8_4 -1\n",
      "949 groups_8_5 60\n",
      "950 groups_8_6 61\n",
      "951 groups_8_7 62\n",
      "952 groups_8_8 63\n",
      "953 groups_8_9 -1\n",
      "954 groups_9_0 -1\n",
      "955 groups_9_1 -1\n",
      "956 groups_9_2 -1\n",
      "957 groups_9_3 -1\n",
      "958 groups_9_4 -1\n",
      "959 groups_9_5 -1\n",
      "960 groups_9_6 -1\n",
      "961 groups_9_7 -1\n",
      "962 groups_9_8 -1\n",
      "963 groups_9_9 -1\n",
      "964 groups_10_0 72\n",
      "965 groups_10_1 73\n",
      "966 groups_10_2 74\n",
      "967 groups_10_3 75\n",
      "968 groups_10_4 -1\n",
      "969 groups_10_5 76\n",
      "970 groups_10_6 77\n",
      "971 groups_10_7 78\n",
      "972 groups_10_8 79\n",
      "973 groups_10_9 -1\n",
      "974 groups_11_0 80\n",
      "975 groups_11_1 81\n",
      "976 groups_11_2 82\n",
      "977 groups_11_3 83\n",
      "978 groups_11_4 -1\n",
      "979 groups_11_5 84\n",
      "980 groups_11_6 85\n",
      "981 groups_11_7 86\n",
      "982 groups_11_8 87\n",
      "983 groups_11_9 -1\n",
      "984 groups_12_0 88\n",
      "985 groups_12_1 89\n",
      "986 groups_12_2 90\n",
      "987 groups_12_3 91\n",
      "988 groups_12_4 -1\n",
      "989 groups_12_5 92\n",
      "990 groups_12_6 93\n",
      "991 groups_12_7 94\n",
      "992 groups_12_8 95\n",
      "993 groups_12_9 -1\n",
      "994 groups_13_0 96\n",
      "995 groups_13_1 97\n",
      "996 groups_13_2 98\n",
      "997 groups_13_3 99\n",
      "998 groups_13_4 -1\n",
      "999 groups_13_5 100\n",
      "1000 groups_13_6 101\n",
      "1001 groups_13_7 102\n",
      "1002 groups_13_8 103\n",
      "1003 groups_13_9 -1\n",
      "1004 groups_14_0 104\n",
      "1005 groups_14_1 105\n",
      "1006 groups_14_2 106\n",
      "1007 groups_14_3 107\n",
      "1008 groups_14_4 -1\n",
      "1009 groups_14_5 108\n",
      "1010 groups_14_6 109\n",
      "1011 groups_14_7 110\n",
      "1012 groups_14_8 111\n",
      "1013 groups_14_9 -1\n",
      "1014 groups_15_0 112\n",
      "1015 groups_15_1 113\n",
      "1016 groups_15_2 114\n",
      "1017 groups_15_3 115\n",
      "1018 groups_15_4 -1\n",
      "1019 groups_15_5 116\n",
      "1020 groups_15_6 117\n",
      "1021 groups_15_7 118\n",
      "1022 groups_15_8 119\n",
      "1023 groups_15_9 -1\n",
      "1024 groups_16_0 120\n",
      "1025 groups_16_1 121\n",
      "1026 groups_16_2 122\n",
      "1027 groups_16_3 123\n",
      "1028 groups_16_4 -1\n",
      "1029 groups_16_5 124\n",
      "1030 groups_16_6 125\n",
      "1031 groups_16_7 126\n",
      "1032 groups_16_8 127\n",
      "1033 groups_16_9 -1\n",
      "1034 groups_17_0 -1\n",
      "1035 groups_17_1 -1\n",
      "1036 groups_17_2 -1\n",
      "1037 groups_17_3 0\n",
      "1038 groups_17_4 -1\n",
      "1039 groups_17_5 -1\n",
      "1040 groups_17_6 -1\n",
      "1041 groups_17_7 -1\n",
      "1042 groups_17_8 -1\n",
      "1043 groups_17_9 -1\n",
      "1044 slot_chan_0 0\n",
      "1045 slot_chan_1 1\n",
      "1046 slot_chan_2 2\n",
      "1047 slot_chan_3 3\n",
      "1048 slot_chan_4 -1\n",
      "1049 slot_chan_5 4\n",
      "1050 slot_chan_6 5\n",
      "1051 slot_chan_7 6\n",
      "1052 slot_chan_8 7\n",
      "1053 slot_chan_9 -1\n",
      "1054 extin_port 4\n",
      "1055 extin_bit 5\n",
      "1056 extin_edge 1\n",
      "1057 trigholdwait 1\n",
      "1058 overlap 0\n",
      "1059 xmin 181\n",
      "1060 xmax 481\n",
      "1061 ymin 98\n",
      "1062 ymax 348\n",
      "1063 brightness 232\n",
      "1064 contrast 85\n",
      "1065 saturation 183\n",
      "1066 hue 232\n",
      "1067 gamma 0\n",
      "1068 colmap_1_rmin 77\n",
      "1069 colmap_1_rmax 77\n",
      "1070 colmap_1_gmin 1\n",
      "1071 colmap_1_gmax 10\n",
      "1072 colmap_1_bmin 5\n",
      "1073 colmap_1_bmax 0\n",
      "1074 colmap_2_rmin 0\n",
      "1075 colmap_2_rmax 0\n",
      "1076 colmap_2_gmin 2\n",
      "1077 colmap_2_gmax 31\n",
      "1078 colmap_2_bmin 0\n",
      "1079 colmap_2_bmax 0\n",
      "1080 colmap_3_rmin 5\n",
      "1081 colmap_3_rmax 0\n",
      "1082 colmap_3_gmin 0\n",
      "1083 colmap_3_gmax 5\n",
      "1084 colmap_3_bmin 11\n",
      "1085 colmap_3_bmax 0\n",
      "1086 colmap_4_rmin 2\n",
      "1087 colmap_4_rmax 20\n",
      "1088 colmap_4_gmin 0\n",
      "1089 colmap_4_gmax 0\n",
      "1090 colmap_4_bmin 0\n",
      "1091 colmap_4_bmax 0\n",
      "1092 colactive_1 1\n",
      "1093 colactive_2 0\n",
      "1094 colactive_3 0\n",
      "1095 colactive_4 0\n",
      "1096 tracked_spots 1\n",
      "1097 colmap_algorithm 1\n",
      "1098 cluster_delta 10\n",
      "1099 tracker_pixels_per_metre 300\n",
      "1100 two_cameras 0\n",
      "1101 xcoordsrc 0\n",
      "1102 ycoordsrc 1\n",
      "1103 zcoordsrc 3\n",
      "1104 twocammode 0\n",
      "1105 stim_pwidth 500000\n",
      "1106 stim_pamp 1\n",
      "1107 stim_pperiod 1000000\n",
      "1108 stim_prepeat 0\n",
      "1109 stim_tnumber 1\n",
      "1110 stim_tperiod 1000\n",
      "1111 stim_trepeat 0\n",
      "1112 stim_bnumber 1\n",
      "1113 stim_bperiod 1000000\n",
      "1114 stim_brepeat 0\n",
      "1115 stim_gnumber 1\n",
      "1116 single_pulse_width 100\n",
      "1117 single_pulse_amp 100000\n",
      "1118 stim_patternmask_1 1\n",
      "1119 stim_patterntimes_1 600\n",
      "1120 stim_patternnames_1 Baseline 100 us pulse every 30 s\n",
      "1121 stim_patternmask_2 0\n",
      "1122 stim_patterntimes_2 0\n",
      "1123 stim_patternnames_2 pause (no stimulation)\n",
      "1124 stim_patternmask_3 0\n",
      "1125 stim_patterntimes_3 0\n",
      "1126 stim_patternnames_3 pause (no stimulation)\n",
      "1127 stim_patternmask_4 0\n",
      "1128 stim_patterntimes_4 0\n",
      "1129 stim_patternnames_4 pause (no stimulation)\n",
      "1130 stim_patternmask_5 0\n",
      "1131 stim_patterntimes_5 0\n",
      "1132 stim_patternnames_5 pause (no stimulation)\n",
      "1133 scopestimtrig 1\n",
      "1134 stim_start_delay 1\n",
      "1135 biphasic 1\n",
      "1136 use_dacstim 0\n",
      "1137 stimscript 0\n",
      "1138 stimfile \n",
      "1139 numPatterns 1\n",
      "1140 stim_patt_1 \"One 100 us pulse every 30 s\" 100 100 30000000 0 1 1000 0 1 1000000 0 1\n",
      "1141 numProtocols 1\n",
      "1142 stim_prot_1 \"Ten minutes of 30 s pulse baseline\" 1 600 \"One 100 us pulse every 30 s\" 0 0 \"Pause (no stimulation)\" 0 0 \"Pause (no stimulation)\" 0 0 \"Pause (no stimulation)\" 0 0 \"Pause (no stimulation)\"\n",
      "1143 stim_during_rec 0\n",
      "1144 info_subject \n",
      "1145 info_trial \n",
      "1146 waveform_period 32\n",
      "1147 pretrig_period 1\n",
      "1148 deadzone_period 500\n",
      "1149 fieldtrig 0\n",
      "1150 sa_manauto 1\n",
      "1151 sl_levlat 0\n",
      "1152 sp_manauto 0\n",
      "1153 sa_time 1.00000\n",
      "1154 sl_levstart 0.00000\n",
      "1155 sl_levend 0.50000\n",
      "1156 sl_latstart 2.00000\n",
      "1157 sl_latend 2.50000\n",
      "1158 sp_startt 3.00000\n",
      "1159 sp_endt 10.00000\n",
      "1160 resp_endt 32.00000\n",
      "1161 recordcol 4\n",
      "1162 collectMask_1 1\n",
      "1163 collectMask_2 1\n",
      "1164 collectMask_3 1\n",
      "1165 collectMask_4 1\n",
      "1166 collectMask_5 0\n",
      "1167 collectMask_6 0\n",
      "1168 collectMask_7 0\n",
      "1169 collectMask_8 0\n",
      "1170 collectMask_9 0\n",
      "1171 collectMask_10 0\n",
      "1172 collectMask_11 0\n",
      "1173 collectMask_12 0\n",
      "1174 collectMask_13 0\n",
      "1175 collectMask_14 0\n",
      "1176 collectMask_15 0\n",
      "1177 collectMask_16 0\n",
      "1178 stereoMask_1 0\n",
      "1179 stereoMask_2 0\n",
      "1180 stereoMask_3 0\n",
      "1181 stereoMask_4 0\n",
      "1182 stereoMask_5 0\n",
      "1183 stereoMask_6 0\n",
      "1184 stereoMask_7 0\n",
      "1185 stereoMask_8 0\n",
      "1186 stereoMask_9 0\n",
      "1187 stereoMask_10 0\n",
      "1188 stereoMask_11 0\n",
      "1189 stereoMask_12 0\n",
      "1190 stereoMask_13 0\n",
      "1191 stereoMask_14 0\n",
      "1192 stereoMask_15 0\n",
      "1193 stereoMask_16 0\n",
      "1194 monoMask_1 0\n",
      "1195 monoMask_2 0\n",
      "1196 monoMask_3 0\n",
      "1197 monoMask_4 0\n",
      "1198 monoMask_5 0\n",
      "1199 monoMask_6 0\n",
      "1200 monoMask_7 0\n",
      "1201 monoMask_8 0\n",
      "1202 monoMask_9 0\n",
      "1203 monoMask_10 0\n",
      "1204 monoMask_11 0\n",
      "1205 monoMask_12 0\n",
      "1206 monoMask_13 0\n",
      "1207 monoMask_14 0\n",
      "1208 monoMask_15 0\n",
      "1209 monoMask_16 0\n",
      "1210 EEGmap_1 1\n",
      "1211 EEGmap_2 0\n",
      "1212 EEGmap_3 0\n",
      "1213 EEGmap_4 0\n",
      "1214 EEGmap_5 0\n",
      "1215 EEGmap_6 0\n",
      "1216 EEGmap_7 0\n",
      "1217 EEGmap_8 0\n",
      "1218 EEGmap_9 0\n",
      "1219 EEGmap_10 0\n",
      "1220 EEGmap_11 0\n",
      "1221 EEGmap_12 0\n",
      "1222 EEGmap_13 0\n",
      "1223 EEGmap_14 0\n",
      "1224 EEGmap_15 0\n",
      "1225 EEGmap_16 0\n",
      "1226 EEG_ch_1 17\n",
      "1227 saveEEG_ch_1 1\n",
      "1228 nullEEG 0\n",
      "1229 EEG_ch_2 18\n",
      "1230 saveEEG_ch_2 1\n",
      "1231 EEG_ch_3 19\n",
      "1232 saveEEG_ch_3 1\n",
      "1233 EEG_ch_4 20\n",
      "1234 saveEEG_ch_4 1\n",
      "1235 EEG_ch_5 6\n",
      "1236 saveEEG_ch_5 0\n",
      "1237 EEG_ch_6 9\n",
      "1238 saveEEG_ch_6 0\n",
      "1239 EEG_ch_7 10\n",
      "1240 saveEEG_ch_7 0\n",
      "1241 EEG_ch_8 13\n",
      "1242 saveEEG_ch_8 0\n",
      "1243 EEG_ch_9 14\n",
      "1244 saveEEG_ch_9 0\n",
      "1245 EEG_ch_10 0\n",
      "1246 saveEEG_ch_10 0\n",
      "1247 EEG_ch_11 0\n",
      "1248 saveEEG_ch_11 0\n",
      "1249 EEG_ch_12 0\n",
      "1250 saveEEG_ch_12 0\n",
      "1251 EEG_ch_13 0\n",
      "1252 saveEEG_ch_13 0\n",
      "1253 EEG_ch_14 0\n",
      "1254 saveEEG_ch_14 0\n",
      "1255 EEG_ch_15 0\n",
      "1256 saveEEG_ch_15 0\n",
      "1257 EEG_ch_16 0\n",
      "1258 saveEEG_ch_16 0\n",
      "1259 EEG_ch_17 0\n",
      "1260 saveEEG_ch_17 0\n",
      "1261 EEG_ch_18 0\n",
      "1262 saveEEG_ch_18 0\n",
      "1263 EEG_ch_19 0\n",
      "1264 saveEEG_ch_19 0\n",
      "1265 EEG_ch_20 0\n",
      "1266 saveEEG_ch_20 0\n",
      "1267 EEG_ch_21 0\n",
      "1268 saveEEG_ch_21 0\n",
      "1269 EEG_ch_22 0\n",
      "1270 saveEEG_ch_22 0\n",
      "1271 EEG_ch_23 0\n",
      "1272 saveEEG_ch_23 0\n",
      "1273 EEG_ch_24 0\n",
      "1274 saveEEG_ch_24 0\n",
      "1275 EEG_ch_25 0\n",
      "1276 saveEEG_ch_25 0\n",
      "1277 EEG_ch_26 0\n",
      "1278 saveEEG_ch_26 0\n",
      "1279 EEG_ch_27 0\n",
      "1280 saveEEG_ch_27 0\n",
      "1281 EEG_ch_28 0\n",
      "1282 saveEEG_ch_28 0\n",
      "1283 EEG_ch_29 0\n",
      "1284 saveEEG_ch_29 0\n",
      "1285 EEG_ch_30 0\n",
      "1286 saveEEG_ch_30 0\n",
      "1287 EEG_ch_31 0\n",
      "1288 saveEEG_ch_31 0\n",
      "1289 EEG_ch_32 0\n",
      "1290 saveEEG_ch_32 0\n",
      "1291 EEG_ch_33 0\n",
      "1292 saveEEG_ch_33 0\n",
      "1293 EEG_ch_34 0\n",
      "1294 saveEEG_ch_34 0\n",
      "1295 EEG_ch_35 0\n",
      "1296 saveEEG_ch_35 0\n",
      "1297 EEG_ch_36 0\n",
      "1298 saveEEG_ch_36 0\n",
      "1299 EEG_ch_37 0\n",
      "1300 saveEEG_ch_37 0\n",
      "1301 EEG_ch_38 0\n",
      "1302 saveEEG_ch_38 0\n",
      "1303 EEG_ch_39 0\n",
      "1304 saveEEG_ch_39 0\n",
      "1305 EEG_ch_40 0\n",
      "1306 saveEEG_ch_40 0\n",
      "1307 EEG_ch_41 0\n",
      "1308 saveEEG_ch_41 0\n",
      "1309 EEG_ch_42 0\n",
      "1310 saveEEG_ch_42 0\n",
      "1311 EEG_ch_43 0\n",
      "1312 saveEEG_ch_43 0\n",
      "1313 EEG_ch_44 0\n",
      "1314 saveEEG_ch_44 0\n",
      "1315 EEG_ch_45 0\n",
      "1316 saveEEG_ch_45 0\n",
      "1317 EEG_ch_46 0\n",
      "1318 saveEEG_ch_46 0\n",
      "1319 EEG_ch_47 0\n",
      "1320 saveEEG_ch_47 0\n",
      "1321 EEG_ch_48 0\n",
      "1322 saveEEG_ch_48 0\n",
      "1323 EEG_ch_49 0\n",
      "1324 saveEEG_ch_49 0\n",
      "1325 EEG_ch_50 0\n",
      "1326 saveEEG_ch_50 0\n",
      "1327 EEG_ch_51 0\n",
      "1328 saveEEG_ch_51 0\n",
      "1329 EEG_ch_52 0\n",
      "1330 saveEEG_ch_52 0\n",
      "1331 EEG_ch_53 0\n",
      "1332 saveEEG_ch_53 0\n",
      "1333 EEG_ch_54 0\n",
      "1334 saveEEG_ch_54 0\n",
      "1335 EEG_ch_55 0\n"
     ]
    },
    {
     "name": "stdout",
     "output_type": "stream",
     "text": [
      "1336 saveEEG_ch_55 0\n",
      "1337 EEG_ch_56 0\n",
      "1338 saveEEG_ch_56 0\n",
      "1339 EEG_ch_57 0\n",
      "1340 saveEEG_ch_57 0\n",
      "1341 EEG_ch_58 0\n",
      "1342 saveEEG_ch_58 0\n",
      "1343 EEG_ch_59 0\n",
      "1344 saveEEG_ch_59 0\n",
      "1345 EEG_ch_60 0\n",
      "1346 saveEEG_ch_60 0\n",
      "1347 EEG_ch_61 0\n",
      "1348 saveEEG_ch_61 0\n",
      "1349 EEG_ch_62 0\n",
      "1350 saveEEG_ch_62 0\n",
      "1351 EEG_ch_63 0\n",
      "1352 saveEEG_ch_63 0\n",
      "1353 EEG_ch_64 0\n",
      "1354 saveEEG_ch_64 0\n",
      "1355 EEGdisplay 0\n",
      "1356 lightBearing_1 0\n",
      "1357 lightBearing_2 0\n",
      "1358 lightBearing_3 0\n",
      "1359 lightBearing_4 0\n",
      "1360 artefactReject 1\n",
      "1361 artefactRejectSave 0\n",
      "1362 remoteStart 1\n",
      "1363 remoteChan 16\n",
      "1364 remoteStop 0\n",
      "1365 remoteStopChan 14\n",
      "1366 endBeep 1\n",
      "1367 recordExtin 1\n",
      "1368 recordTracker 1\n",
      "1369 showTracker 1\n",
      "1370 trackerSerial 0\n",
      "1371 serialColour 0\n",
      "1372 recordVideo 1\n",
      "1373 dacqtrackPos 0\n",
      "1374 stimSerial 0\n",
      "1375 recordSerial 0\n",
      "1376 useScript 0\n",
      "1377 script C:\\Users\\Rig-432\\Desktop\\test.bas\n",
      "1378 postProcess 0\n",
      "1379 postProcessor \n",
      "1380 postProcessorParams \n",
      "1381 dataDir F:\\Axona\\\n",
      "1382 sync_out 1\n",
      "1383 syncRate 1.00000\n",
      "1384 autoTrial 0\n",
      "1385 numTrials 10\n",
      "1386 trialPrefix trial\n",
      "1387 autoPrompt 0\n",
      "1388 saveEGF 1\n",
      "1389 rejstart 30\n",
      "1390 rejthreshtail 43\n",
      "1391 rejthreshupper 100\n",
      "1392 rejthreshlower -100\n",
      "1393 rawGate 0\n",
      "1394 rawGateChan 0\n",
      "1395 rawGatePol 1\n",
      "1396 defaultTime 600\n",
      "1397 defaultMode 0\n",
      "1398 trial_comment \n",
      "1399 digout_state 32768\n",
      "1400 stim_phase 90\n",
      "1401 stim_period 100\n",
      "1402 bp1lowcut 0\n",
      "1403 bp1highcut 10\n",
      "1404 thresh_lookback 2\n",
      "1405 palette C:\\DACQ\\default.gvp\n",
      "1406 checkUpdates 0\n",
      "1407 Spike2msMode 0\n",
      "1408 DIOTimeBase 0\n",
      "1409 pretrigSamps 10\n",
      "1410 spikeLockout 40\n",
      "1411 BPFspikelen 2\n",
      "1412 BPFspikeLockout 86\n",
      "1413 BPFEEG_ch_1 30\n",
      "1414 BPFEEG_ch_2 32\n",
      "1415 BPFEEG_ch_3 33\n",
      "1416 BPFEEG_ch_4 34\n",
      "1417 BPFEEG_ch_5 35\n",
      "1418 BPFEEG_ch_6 36\n",
      "1419 BPFEEG_ch_7 37\n",
      "1420 BPFEEG_ch_8 38\n",
      "1421 BPFEEG_ch_9 39\n",
      "1422 BPFEEG_ch_10 40\n",
      "1423 BPFEEG_ch_11 41\n",
      "1424 BPFEEG_ch_12 42\n",
      "1425 BPFEEG_ch_13 43\n",
      "1426 BPFEEG_ch_14 44\n",
      "1427 BPFEEG_ch_15 45\n",
      "1428 BPFEEG_ch_16 46\n",
      "1429 BPFEEG_ch_17 47\n",
      "1430 BPFEEG_ch_18 48\n",
      "1431 BPFEEG_ch_19 49\n",
      "1432 BPFEEG_ch_20 50\n",
      "1433 BPFEEG_ch_21 51\n",
      "1434 BPFEEG_ch_22 52\n",
      "1435 BPFEEG_ch_23 53\n",
      "1436 BPFEEG_ch_24 54\n",
      "1437 BPFEEG_ch_25 55\n",
      "1438 BPFEEG_ch_26 56\n",
      "1439 BPFEEG_ch_27 57\n",
      "1440 BPFEEG_ch_28 58\n",
      "1441 BPFEEG_ch_29 59\n",
      "1442 BPFEEG_ch_30 60\n",
      "1443 BPFEEG_ch_31 61\n",
      "1444 BPFEEG_ch_32 62\n",
      "1445 BPFEEG_ch_33 63\n",
      "1446 BPFEEG_ch_34 64\n",
      "1447 BPFEEG_ch_35 65\n",
      "1448 BPFEEG_ch_36 66\n",
      "1449 BPFEEG_ch_37 67\n",
      "1450 BPFEEG_ch_38 68\n",
      "1451 BPFEEG_ch_39 69\n",
      "1452 BPFEEG_ch_40 70\n",
      "1453 BPFEEG_ch_41 71\n",
      "1454 BPFEEG_ch_42 72\n",
      "1455 BPFEEG_ch_43 73\n",
      "1456 BPFEEG_ch_44 74\n",
      "1457 BPFEEG_ch_45 75\n",
      "1458 BPFEEG_ch_46 76\n",
      "1459 BPFEEG_ch_47 77\n",
      "1460 BPFEEG_ch_48 78\n",
      "1461 BPFEEG_ch_49 79\n",
      "1462 BPFEEG_ch_50 80\n",
      "1463 BPFEEG_ch_51 81\n",
      "1464 BPFEEG_ch_52 82\n",
      "1465 BPFEEG_ch_53 83\n",
      "1466 BPFEEG_ch_54 84\n",
      "1467 BPFEEG_ch_55 85\n",
      "1468 BPFEEG_ch_56 86\n",
      "1469 BPFEEG_ch_57 87\n",
      "1470 BPFEEG_ch_58 88\n",
      "1471 BPFEEG_ch_59 89\n",
      "1472 BPFEEG_ch_60 90\n",
      "1473 BPFEEG_ch_61 91\n",
      "1474 BPFEEG_ch_62 92\n",
      "1475 BPFEEG_ch_63 93\n",
      "1476 BPFEEG_ch_64 94\n",
      "1477 BPFrecord1 1\n",
      "1478 BPFrecord2 0\n",
      "1479 BPFrecord3 0\n",
      "1480 BPFbit1 0\n",
      "1481 BPFbit2 1\n",
      "1482 BPFbit3 2\n",
      "1483 BPFEEGin1 28\n",
      "1484 BPFEEGin2 27\n",
      "1485 BPFEEGin3 26\n",
      "1486 BPFsyncin1 31\n",
      "1487 BPFrecordSyncin1 1\n",
      "1488 BPFunitrecord 0\n",
      "1489 BPFinsightmode 0\n",
      "1490 BPFcaladjust 1.00000000\n",
      "1491 BPFcaladjustmode 0\n",
      "1492 rawRate 48000\n",
      "1493 RawRename 1\n",
      "1494 RawScope 1\n",
      "1495 RawScopeMode 0\n",
      "1496 lastfileext set\n",
      "1497 lasttrialdatetime 1601809627\n",
      "1498 lastupdatecheck 0\n",
      "1499 useupdateproxy 0\n",
      "1500 updateproxy \n",
      "1501 updateproxyid \n",
      "1502 updateproxypw \n",
      "1503 contaudio 0\n",
      "1504 mode128channels 0\n",
      "1505 modeanalog32 1\n"
     ]
    },
    {
     "data": {
      "text/plain": [
       "[None,\n",
       " None,\n",
       " None,\n",
       " None,\n",
       " None,\n",
       " None,\n",
       " None,\n",
       " None,\n",
       " None,\n",
       " None,\n",
       " None,\n",
       " None,\n",
       " None,\n",
       " None,\n",
       " None,\n",
       " None,\n",
       " None,\n",
       " None,\n",
       " None,\n",
       " None,\n",
       " None,\n",
       " None,\n",
       " None,\n",
       " None,\n",
       " None,\n",
       " None,\n",
       " None,\n",
       " None,\n",
       " None,\n",
       " None,\n",
       " None,\n",
       " None,\n",
       " None,\n",
       " None,\n",
       " None,\n",
       " None,\n",
       " None,\n",
       " None,\n",
       " None,\n",
       " None,\n",
       " None,\n",
       " None,\n",
       " None,\n",
       " None,\n",
       " None,\n",
       " None,\n",
       " None,\n",
       " None,\n",
       " None,\n",
       " None,\n",
       " None,\n",
       " None,\n",
       " None,\n",
       " None,\n",
       " None,\n",
       " None,\n",
       " None,\n",
       " None,\n",
       " None,\n",
       " None,\n",
       " None,\n",
       " None,\n",
       " None,\n",
       " None,\n",
       " None,\n",
       " None,\n",
       " None,\n",
       " None,\n",
       " None,\n",
       " None,\n",
       " None,\n",
       " None,\n",
       " None,\n",
       " None,\n",
       " None,\n",
       " None,\n",
       " None,\n",
       " None,\n",
       " None,\n",
       " None,\n",
       " None,\n",
       " None,\n",
       " None,\n",
       " None,\n",
       " None,\n",
       " None,\n",
       " None,\n",
       " None,\n",
       " None,\n",
       " None,\n",
       " None,\n",
       " None,\n",
       " None,\n",
       " None,\n",
       " None,\n",
       " None,\n",
       " None,\n",
       " None,\n",
       " None,\n",
       " None,\n",
       " None,\n",
       " None,\n",
       " None,\n",
       " None,\n",
       " None,\n",
       " None,\n",
       " None,\n",
       " None,\n",
       " None,\n",
       " None,\n",
       " None,\n",
       " None,\n",
       " None,\n",
       " None,\n",
       " None,\n",
       " None,\n",
       " None,\n",
       " None,\n",
       " None,\n",
       " None,\n",
       " None,\n",
       " None,\n",
       " None,\n",
       " None,\n",
       " None,\n",
       " None,\n",
       " None,\n",
       " None,\n",
       " None,\n",
       " None,\n",
       " None,\n",
       " None,\n",
       " None,\n",
       " None,\n",
       " None,\n",
       " None,\n",
       " None,\n",
       " None,\n",
       " None,\n",
       " None,\n",
       " None,\n",
       " None,\n",
       " None,\n",
       " None,\n",
       " None,\n",
       " None,\n",
       " None,\n",
       " None,\n",
       " None,\n",
       " None,\n",
       " None,\n",
       " None,\n",
       " None,\n",
       " None,\n",
       " None,\n",
       " None,\n",
       " None,\n",
       " None,\n",
       " None,\n",
       " None,\n",
       " None,\n",
       " None,\n",
       " None,\n",
       " None,\n",
       " None,\n",
       " None,\n",
       " None,\n",
       " None,\n",
       " None,\n",
       " None,\n",
       " None,\n",
       " None,\n",
       " None,\n",
       " None,\n",
       " None,\n",
       " None,\n",
       " None,\n",
       " None,\n",
       " None,\n",
       " None,\n",
       " None,\n",
       " None,\n",
       " None,\n",
       " None,\n",
       " None,\n",
       " None,\n",
       " None,\n",
       " None,\n",
       " None,\n",
       " None,\n",
       " None,\n",
       " None,\n",
       " None,\n",
       " None,\n",
       " None,\n",
       " None,\n",
       " None,\n",
       " None,\n",
       " None,\n",
       " None,\n",
       " None,\n",
       " None,\n",
       " None,\n",
       " None,\n",
       " None,\n",
       " None,\n",
       " None,\n",
       " None,\n",
       " None,\n",
       " None,\n",
       " None,\n",
       " None,\n",
       " None,\n",
       " None,\n",
       " None,\n",
       " None,\n",
       " None,\n",
       " None,\n",
       " None,\n",
       " None,\n",
       " None,\n",
       " None,\n",
       " None,\n",
       " None,\n",
       " None,\n",
       " None,\n",
       " None,\n",
       " None,\n",
       " None,\n",
       " None,\n",
       " None,\n",
       " None,\n",
       " None,\n",
       " None,\n",
       " None,\n",
       " None,\n",
       " None,\n",
       " None,\n",
       " None,\n",
       " None,\n",
       " None,\n",
       " None,\n",
       " None,\n",
       " None,\n",
       " None,\n",
       " None,\n",
       " None,\n",
       " None,\n",
       " None,\n",
       " None,\n",
       " None,\n",
       " None,\n",
       " None,\n",
       " None,\n",
       " None,\n",
       " None,\n",
       " None,\n",
       " None,\n",
       " None,\n",
       " None,\n",
       " None,\n",
       " None,\n",
       " None,\n",
       " None,\n",
       " None,\n",
       " None,\n",
       " None,\n",
       " None,\n",
       " None,\n",
       " None,\n",
       " None,\n",
       " None,\n",
       " None,\n",
       " None,\n",
       " None,\n",
       " None,\n",
       " None,\n",
       " None,\n",
       " None,\n",
       " None,\n",
       " None,\n",
       " None,\n",
       " None,\n",
       " None,\n",
       " None,\n",
       " None,\n",
       " None,\n",
       " None,\n",
       " None,\n",
       " None,\n",
       " None,\n",
       " None,\n",
       " None,\n",
       " None,\n",
       " None,\n",
       " None,\n",
       " None,\n",
       " None,\n",
       " None,\n",
       " None,\n",
       " None,\n",
       " None,\n",
       " None,\n",
       " None,\n",
       " None,\n",
       " None,\n",
       " None,\n",
       " None,\n",
       " None,\n",
       " None,\n",
       " None,\n",
       " None,\n",
       " None,\n",
       " None,\n",
       " None,\n",
       " None,\n",
       " None,\n",
       " None,\n",
       " None,\n",
       " None,\n",
       " None,\n",
       " None,\n",
       " None,\n",
       " None,\n",
       " None,\n",
       " None,\n",
       " None,\n",
       " None,\n",
       " None,\n",
       " None,\n",
       " None,\n",
       " None,\n",
       " None,\n",
       " None,\n",
       " None,\n",
       " None,\n",
       " None,\n",
       " None,\n",
       " None,\n",
       " None,\n",
       " None,\n",
       " None,\n",
       " None,\n",
       " None,\n",
       " None,\n",
       " None,\n",
       " None,\n",
       " None,\n",
       " None,\n",
       " None,\n",
       " None,\n",
       " None,\n",
       " None,\n",
       " None,\n",
       " None,\n",
       " None,\n",
       " None,\n",
       " None,\n",
       " None,\n",
       " None,\n",
       " None,\n",
       " None,\n",
       " None,\n",
       " None,\n",
       " None,\n",
       " None,\n",
       " None,\n",
       " None,\n",
       " None,\n",
       " None,\n",
       " None,\n",
       " None,\n",
       " None,\n",
       " None,\n",
       " None,\n",
       " None,\n",
       " None,\n",
       " None,\n",
       " None,\n",
       " None,\n",
       " None,\n",
       " None,\n",
       " None,\n",
       " None,\n",
       " None,\n",
       " None,\n",
       " None,\n",
       " None,\n",
       " None,\n",
       " None,\n",
       " None,\n",
       " None,\n",
       " None,\n",
       " None,\n",
       " None,\n",
       " None,\n",
       " None,\n",
       " None,\n",
       " None,\n",
       " None,\n",
       " None,\n",
       " None,\n",
       " None,\n",
       " None,\n",
       " None,\n",
       " None,\n",
       " None,\n",
       " None,\n",
       " None,\n",
       " None,\n",
       " None,\n",
       " None,\n",
       " None,\n",
       " None,\n",
       " None,\n",
       " None,\n",
       " None,\n",
       " None,\n",
       " None,\n",
       " None,\n",
       " None,\n",
       " None,\n",
       " None,\n",
       " None,\n",
       " None,\n",
       " None,\n",
       " None,\n",
       " None,\n",
       " None,\n",
       " None,\n",
       " None,\n",
       " None,\n",
       " None,\n",
       " None,\n",
       " None,\n",
       " None,\n",
       " None,\n",
       " None,\n",
       " None,\n",
       " None,\n",
       " None,\n",
       " None,\n",
       " None,\n",
       " None,\n",
       " None,\n",
       " None,\n",
       " None,\n",
       " None,\n",
       " None,\n",
       " None,\n",
       " None,\n",
       " None,\n",
       " None,\n",
       " None,\n",
       " None,\n",
       " None,\n",
       " None,\n",
       " None,\n",
       " None,\n",
       " None,\n",
       " None,\n",
       " None,\n",
       " None,\n",
       " None,\n",
       " None,\n",
       " None,\n",
       " None,\n",
       " None,\n",
       " None,\n",
       " None,\n",
       " None,\n",
       " None,\n",
       " None,\n",
       " None,\n",
       " None,\n",
       " None,\n",
       " None,\n",
       " None,\n",
       " None,\n",
       " None,\n",
       " None,\n",
       " None,\n",
       " None,\n",
       " None,\n",
       " None,\n",
       " None,\n",
       " None,\n",
       " None,\n",
       " None,\n",
       " None,\n",
       " None,\n",
       " None,\n",
       " None,\n",
       " None,\n",
       " None,\n",
       " None,\n",
       " None,\n",
       " None,\n",
       " None,\n",
       " None,\n",
       " None,\n",
       " None,\n",
       " None,\n",
       " None,\n",
       " None,\n",
       " None,\n",
       " None,\n",
       " None,\n",
       " None,\n",
       " None,\n",
       " None,\n",
       " None,\n",
       " None,\n",
       " None,\n",
       " None,\n",
       " None,\n",
       " None,\n",
       " None,\n",
       " None,\n",
       " None,\n",
       " None,\n",
       " None,\n",
       " None,\n",
       " None,\n",
       " None,\n",
       " None,\n",
       " None,\n",
       " None,\n",
       " None,\n",
       " None,\n",
       " None,\n",
       " None,\n",
       " None,\n",
       " None,\n",
       " None,\n",
       " None,\n",
       " None,\n",
       " None,\n",
       " None,\n",
       " None,\n",
       " None,\n",
       " None,\n",
       " None,\n",
       " None,\n",
       " None,\n",
       " None,\n",
       " None,\n",
       " None,\n",
       " None,\n",
       " None,\n",
       " None,\n",
       " None,\n",
       " None,\n",
       " None,\n",
       " None,\n",
       " None,\n",
       " None,\n",
       " None,\n",
       " None,\n",
       " None,\n",
       " None,\n",
       " None,\n",
       " None,\n",
       " None,\n",
       " None,\n",
       " None,\n",
       " None,\n",
       " None,\n",
       " None,\n",
       " None,\n",
       " None,\n",
       " None,\n",
       " None,\n",
       " None,\n",
       " None,\n",
       " None,\n",
       " None,\n",
       " None,\n",
       " None,\n",
       " None,\n",
       " None,\n",
       " None,\n",
       " None,\n",
       " None,\n",
       " None,\n",
       " None,\n",
       " None,\n",
       " None,\n",
       " None,\n",
       " None,\n",
       " None,\n",
       " None,\n",
       " None,\n",
       " None,\n",
       " None,\n",
       " None,\n",
       " None,\n",
       " None,\n",
       " None,\n",
       " None,\n",
       " None,\n",
       " None,\n",
       " None,\n",
       " None,\n",
       " None,\n",
       " None,\n",
       " None,\n",
       " None,\n",
       " None,\n",
       " None,\n",
       " None,\n",
       " None,\n",
       " None,\n",
       " None,\n",
       " None,\n",
       " None,\n",
       " None,\n",
       " None,\n",
       " None,\n",
       " None,\n",
       " None,\n",
       " None,\n",
       " None,\n",
       " None,\n",
       " None,\n",
       " None,\n",
       " None,\n",
       " None,\n",
       " None,\n",
       " None,\n",
       " None,\n",
       " None,\n",
       " None,\n",
       " None,\n",
       " None,\n",
       " None,\n",
       " None,\n",
       " None,\n",
       " None,\n",
       " None,\n",
       " None,\n",
       " None,\n",
       " None,\n",
       " None,\n",
       " None,\n",
       " None,\n",
       " None,\n",
       " None,\n",
       " None,\n",
       " None,\n",
       " None,\n",
       " None,\n",
       " None,\n",
       " None,\n",
       " None,\n",
       " None,\n",
       " None,\n",
       " None,\n",
       " None,\n",
       " None,\n",
       " None,\n",
       " None,\n",
       " None,\n",
       " None,\n",
       " None,\n",
       " None,\n",
       " None,\n",
       " None,\n",
       " None,\n",
       " None,\n",
       " None,\n",
       " None,\n",
       " None,\n",
       " None,\n",
       " None,\n",
       " None,\n",
       " None,\n",
       " None,\n",
       " None,\n",
       " None,\n",
       " None,\n",
       " None,\n",
       " None,\n",
       " None,\n",
       " None,\n",
       " None,\n",
       " None,\n",
       " None,\n",
       " None,\n",
       " None,\n",
       " None,\n",
       " None,\n",
       " None,\n",
       " None,\n",
       " None,\n",
       " None,\n",
       " None,\n",
       " None,\n",
       " None,\n",
       " None,\n",
       " None,\n",
       " None,\n",
       " None,\n",
       " None,\n",
       " None,\n",
       " None,\n",
       " None,\n",
       " None,\n",
       " None,\n",
       " None,\n",
       " None,\n",
       " None,\n",
       " None,\n",
       " None,\n",
       " None,\n",
       " None,\n",
       " None,\n",
       " None,\n",
       " None,\n",
       " None,\n",
       " None,\n",
       " None,\n",
       " None,\n",
       " None,\n",
       " None,\n",
       " None,\n",
       " None,\n",
       " None,\n",
       " None,\n",
       " None,\n",
       " None,\n",
       " None,\n",
       " None,\n",
       " None,\n",
       " None,\n",
       " None,\n",
       " None,\n",
       " None,\n",
       " None,\n",
       " None,\n",
       " None,\n",
       " None,\n",
       " None,\n",
       " None,\n",
       " None,\n",
       " None,\n",
       " None,\n",
       " None,\n",
       " None,\n",
       " None,\n",
       " None,\n",
       " None,\n",
       " None,\n",
       " None,\n",
       " None,\n",
       " None,\n",
       " None,\n",
       " None,\n",
       " None,\n",
       " None,\n",
       " None,\n",
       " None,\n",
       " None,\n",
       " None,\n",
       " None,\n",
       " None,\n",
       " None,\n",
       " None,\n",
       " None,\n",
       " None,\n",
       " None,\n",
       " None,\n",
       " None,\n",
       " None,\n",
       " None,\n",
       " None,\n",
       " None,\n",
       " None,\n",
       " None,\n",
       " None,\n",
       " None,\n",
       " None,\n",
       " None,\n",
       " None,\n",
       " None,\n",
       " None,\n",
       " None,\n",
       " None,\n",
       " None,\n",
       " None,\n",
       " None,\n",
       " None,\n",
       " None,\n",
       " None,\n",
       " None,\n",
       " None,\n",
       " None,\n",
       " None,\n",
       " None,\n",
       " None,\n",
       " None,\n",
       " None,\n",
       " None,\n",
       " None,\n",
       " None,\n",
       " None,\n",
       " None,\n",
       " None,\n",
       " None,\n",
       " None,\n",
       " None,\n",
       " None,\n",
       " None,\n",
       " None,\n",
       " None,\n",
       " None,\n",
       " None,\n",
       " None,\n",
       " None,\n",
       " None,\n",
       " None,\n",
       " None,\n",
       " None,\n",
       " None,\n",
       " None,\n",
       " None,\n",
       " None,\n",
       " None,\n",
       " None,\n",
       " None,\n",
       " None,\n",
       " None,\n",
       " None,\n",
       " None,\n",
       " None,\n",
       " None,\n",
       " None,\n",
       " None,\n",
       " None,\n",
       " None,\n",
       " None,\n",
       " None,\n",
       " None,\n",
       " None,\n",
       " None,\n",
       " None,\n",
       " None,\n",
       " None,\n",
       " None,\n",
       " None,\n",
       " None,\n",
       " None,\n",
       " None,\n",
       " None,\n",
       " None,\n",
       " None,\n",
       " None,\n",
       " None,\n",
       " None,\n",
       " None,\n",
       " None,\n",
       " None,\n",
       " None,\n",
       " None,\n",
       " None,\n",
       " None,\n",
       " None,\n",
       " None,\n",
       " None,\n",
       " None,\n",
       " None,\n",
       " None,\n",
       " None,\n",
       " None,\n",
       " None,\n",
       " None,\n",
       " None,\n",
       " None,\n",
       " None,\n",
       " None,\n",
       " None,\n",
       " None,\n",
       " None,\n",
       " None,\n",
       " None,\n",
       " None,\n",
       " None,\n",
       " None,\n",
       " None,\n",
       " None,\n",
       " None,\n",
       " None,\n",
       " None,\n",
       " None,\n",
       " None,\n",
       " None,\n",
       " None,\n",
       " None,\n",
       " None,\n",
       " None,\n",
       " None,\n",
       " None,\n",
       " None,\n",
       " None,\n",
       " None,\n",
       " None,\n",
       " None,\n",
       " None,\n",
       " None,\n",
       " None,\n",
       " None,\n",
       " None,\n",
       " None,\n",
       " None,\n",
       " None,\n",
       " None,\n",
       " None,\n",
       " None,\n",
       " None,\n",
       " None,\n",
       " None,\n",
       " None,\n",
       " None,\n",
       " None,\n",
       " None,\n",
       " None,\n",
       " None,\n",
       " None,\n",
       " None,\n",
       " None,\n",
       " None,\n",
       " None,\n",
       " None,\n",
       " None,\n",
       " None,\n",
       " None,\n",
       " None,\n",
       " None,\n",
       " None,\n",
       " None,\n",
       " None,\n",
       " None,\n",
       " None,\n",
       " None,\n",
       " None,\n",
       " None,\n",
       " None,\n",
       " None,\n",
       " None,\n",
       " None,\n",
       " None,\n",
       " None,\n",
       " None,\n",
       " None,\n",
       " None,\n",
       " None,\n",
       " None,\n",
       " None,\n",
       " None,\n",
       " None,\n",
       " None,\n",
       " None,\n",
       " None,\n",
       " None,\n",
       " None,\n",
       " None,\n",
       " None,\n",
       " None,\n",
       " None,\n",
       " None,\n",
       " None,\n",
       " None,\n",
       " None,\n",
       " None,\n",
       " None,\n",
       " None,\n",
       " None,\n",
       " None,\n",
       " None,\n",
       " None,\n",
       " None,\n",
       " None,\n",
       " None,\n",
       " None,\n",
       " None,\n",
       " None,\n",
       " None,\n",
       " None,\n",
       " None,\n",
       " None,\n",
       " None,\n",
       " None,\n",
       " None,\n",
       " None,\n",
       " None,\n",
       " None,\n",
       " None,\n",
       " None,\n",
       " None,\n",
       " None,\n",
       " ...]"
      ]
     },
     "execution_count": 648,
     "metadata": {},
     "output_type": "execute_result"
    }
   ],
   "source": [
    "[print(i, k, v) for i, (k, v) in enumerate(test.items())]"
   ]
  },
  {
   "cell_type": "code",
   "execution_count": 652,
   "id": "brazilian-preserve",
   "metadata": {},
   "outputs": [
    {
     "ename": "KeyError",
     "evalue": "'pretrigSamps'",
     "output_type": "error",
     "traceback": [
      "\u001b[0;31m---------------------------------------------------------------------------\u001b[0m",
      "\u001b[0;31mKeyError\u001b[0m                                  Traceback (most recent call last)",
      "\u001b[0;32m<ipython-input-652-9383eaf5ae96>\u001b[0m in \u001b[0;36m<module>\u001b[0;34m\u001b[0m\n\u001b[0;32m----> 1\u001b[0;31m \u001b[0mre\u001b[0m\u001b[0;34m.\u001b[0m\u001b[0mneo_reader\u001b[0m\u001b[0;34m.\u001b[0m\u001b[0mfile_parameters\u001b[0m\u001b[0;34m[\u001b[0m\u001b[0;34m'pretrigSamps'\u001b[0m\u001b[0;34m]\u001b[0m\u001b[0;34m\u001b[0m\u001b[0;34m\u001b[0m\u001b[0m\n\u001b[0m",
      "\u001b[0;31mKeyError\u001b[0m: 'pretrigSamps'"
     ]
    }
   ],
   "source": [
    "re.neo_reader.file_parameters['pretrigSamps']"
   ]
  },
  {
   "cell_type": "code",
   "execution_count": 654,
   "id": "spoken-darwin",
   "metadata": {},
   "outputs": [
    {
     "data": {
      "text/plain": [
       "'10'"
      ]
     },
     "execution_count": 654,
     "metadata": {},
     "output_type": "execute_result"
    }
   ],
   "source": [
    "re.neo_reader.file_parameters['set']['file_header']['pretrigSamps']"
   ]
  },
  {
   "cell_type": "code",
   "execution_count": 650,
   "id": "former-promise",
   "metadata": {},
   "outputs": [
    {
     "data": {
      "text/plain": [
       "'40'"
      ]
     },
     "execution_count": 650,
     "metadata": {},
     "output_type": "execute_result"
    }
   ],
   "source": [
    "test['pretrigSamps']\n",
    "test['spikeLockout']"
   ]
  },
  {
   "cell_type": "code",
   "execution_count": 643,
   "id": "contrary-damages",
   "metadata": {},
   "outputs": [
    {
     "data": {
      "text/plain": [
       "1507"
      ]
     },
     "execution_count": 643,
     "metadata": {},
     "output_type": "execute_result"
    }
   ],
   "source": [
    "len(set_params)"
   ]
  },
  {
   "cell_type": "code",
   "execution_count": 636,
   "id": "neural-syracuse",
   "metadata": {},
   "outputs": [
    {
     "data": {
      "text/plain": [
       "'../../freelance-work/catalyst-neuro/hussaini-lab-to-nwb/sample_bin_to_tint/axona_sample.set'"
      ]
     },
     "execution_count": 636,
     "metadata": {},
     "output_type": "execute_result"
    }
   ],
   "source": [
    "filename"
   ]
  },
  {
   "cell_type": "code",
   "execution_count": 641,
   "id": "dress-toilet",
   "metadata": {},
   "outputs": [
    {
     "name": "stdout",
     "output_type": "stream",
     "text": [
      "10\n",
      "40\n"
     ]
    }
   ],
   "source": [
    "set_params = parse_generic_header(filename)\n",
    "print(set_params['pretrigSamps'])\n",
    "print(set_params['spikeLockout'])"
   ]
  },
  {
   "cell_type": "code",
   "execution_count": null,
   "id": "natural-federation",
   "metadata": {},
   "outputs": [],
   "source": [
    "pre_spike_samples = int(get_setfile_parameter('pretrigSamps', unit_filename+'.set'))\n",
    "post_spike_samples = int(get_setfile_parameter('spikeLockout', unit_filename+'.set'))"
   ]
  },
  {
   "cell_type": "code",
   "execution_count": null,
   "id": "pleased-netscape",
   "metadata": {},
   "outputs": [],
   "source": [
    "print('samples pre-spike:', pre_spike_samples)\n",
    "print('samples post-spike:', post_spike_samples)"
   ]
  },
  {
   "cell_type": "code",
   "execution_count": null,
   "id": "behavioral-innocent",
   "metadata": {},
   "outputs": [],
   "source": []
  },
  {
   "cell_type": "code",
   "execution_count": 9,
   "id": "amazing-lawyer",
   "metadata": {},
   "outputs": [
    {
     "ename": "NameError",
     "evalue": "name 'unit' is not defined",
     "output_type": "error",
     "traceback": [
      "\u001b[0;31m---------------------------------------------------------------------------\u001b[0m",
      "\u001b[0;31mNameError\u001b[0m                                 Traceback (most recent call last)",
      "\u001b[0;32m<ipython-input-9-fc17c4117fd0>\u001b[0m in \u001b[0;36m<module>\u001b[0;34m\u001b[0m\n\u001b[1;32m      5\u001b[0m \u001b[0;34m\u001b[0m\u001b[0m\n\u001b[1;32m      6\u001b[0m \u001b[0mnum_frames_traces\u001b[0m \u001b[0;34m=\u001b[0m \u001b[0mend_frame\u001b[0m \u001b[0;34m-\u001b[0m \u001b[0mstart_frame\u001b[0m\u001b[0;34m\u001b[0m\u001b[0;34m\u001b[0m\u001b[0m\n\u001b[0;32m----> 7\u001b[0;31m \u001b[0mtraces\u001b[0m \u001b[0;34m=\u001b[0m \u001b[0munit\u001b[0m\u001b[0;34m.\u001b[0m\u001b[0m_noise_std\u001b[0m \u001b[0;34m*\u001b[0m \u001b[0mnp\u001b[0m\u001b[0;34m.\u001b[0m\u001b[0mrandom\u001b[0m\u001b[0;34m.\u001b[0m\u001b[0mrandn\u001b[0m\u001b[0;34m(\u001b[0m\u001b[0mlen\u001b[0m\u001b[0;34m(\u001b[0m\u001b[0mchannel_ids\u001b[0m\u001b[0;34m)\u001b[0m\u001b[0;34m,\u001b[0m \u001b[0mnum_frames_traces\u001b[0m\u001b[0;34m)\u001b[0m\u001b[0;34m\u001b[0m\u001b[0;34m\u001b[0m\u001b[0m\n\u001b[0m\u001b[1;32m      8\u001b[0m \u001b[0;34m\u001b[0m\u001b[0m\n\u001b[1;32m      9\u001b[0m \u001b[0mchannel_idxs\u001b[0m \u001b[0;34m=\u001b[0m \u001b[0;34m[\u001b[0m\u001b[0munit\u001b[0m\u001b[0;34m.\u001b[0m\u001b[0mget_channel_ids\u001b[0m\u001b[0;34m(\u001b[0m\u001b[0;34m)\u001b[0m\u001b[0;34m.\u001b[0m\u001b[0mindex\u001b[0m\u001b[0;34m(\u001b[0m\u001b[0mch\u001b[0m\u001b[0;34m)\u001b[0m \u001b[0;32mfor\u001b[0m \u001b[0mch\u001b[0m \u001b[0;32min\u001b[0m \u001b[0mchannel_ids\u001b[0m\u001b[0;34m]\u001b[0m  \u001b[0;31m# not used!\u001b[0m\u001b[0;34m\u001b[0m\u001b[0;34m\u001b[0m\u001b[0m\n",
      "\u001b[0;31mNameError\u001b[0m: name 'unit' is not defined"
     ]
    }
   ],
   "source": [
    "end_frame = 10000\n",
    "start_frame = 0\n",
    "channel_ids = [0,1,2,3,4,5,14,15]\n",
    "return_scaled = True\n",
    "\n",
    "num_frames_traces = end_frame - start_frame\n",
    "traces = unit._noise_std * np.random.randn(len(channel_ids), num_frames_traces)\n",
    "\n",
    "channel_idxs = [unit.get_channel_ids().index(ch) for ch in channel_ids]  # not used!\n",
    "\n",
    "itrc = 0\n",
    "for (chan_idxs, spike_train, waveform) in zip(unit._channel_indexes, unit._spike_trains, unit._waveforms):\n",
    "    \n",
    "    # Find channels on tetrode to include and their indices\n",
    "    chan_sublist = list(set(channel_idxs) & set(chan_idxs))\n",
    "    chan_sublist_idxs = [i for i, val in enumerate(chan_idxs) if val in chan_sublist]\n",
    "    nch = len(chan_sublist_idxs)\n",
    "                \n",
    "    spike_times_idxs = np.where((spike_train > start_frame) & (spike_train <= end_frame))\n",
    "    spike_times_i = spike_train[spike_times_idxs]  # spike_train is in samples (so spike_times_i is too)\n",
    "\n",
    "    waveforms_i = waveform[spike_times_idxs]\n",
    "    wf_samples = waveforms_i.shape[2]\n",
    "\n",
    "    #print((chan_idxs, spike_train[0:3], waveform[0:2,0:2,0:2]))\n",
    "    \n",
    "    if chan_sublist:\n",
    "        \n",
    "        for t, wf in zip(spike_times_i, waveforms_i):\n",
    "            \n",
    "            print(itrc, t, chan_sublist_idxs, nch)\n",
    "            \n",
    "            t = t - start_frame\n",
    "\n",
    "            if t - wf_samples // 2 < 0:\n",
    "                traces[itrc:itrc+nch, :t + wf_samples // 2] = \\\n",
    "                    wf[chan_sublist_idxs, wf_samples // 2 - t:]\n",
    "            elif t + wf_samples // 2 > num_frames_traces:\n",
    "                traces[itrc:itrc+nch, t - wf_samples // 2:] = \\\n",
    "                    wf[chan_sublist_idxs, :num_frames_traces - (t + wf_samples // 2)]\n",
    "            else:\n",
    "                traces[itrc:itrc+nch, t - wf_samples // 2:t + wf_samples // 2] = \\\n",
    "                    wf[chan_sublist_idxs, :]\n",
    "                \n",
    "        itrc += nch"
   ]
  },
  {
   "cell_type": "markdown",
   "id": "liked-energy",
   "metadata": {},
   "source": [
    "## Try to implement axonaunitrecordingextractor using Julia's neo implementation"
   ]
  },
  {
   "cell_type": "code",
   "execution_count": null,
   "id": "composed-mongolia",
   "metadata": {},
   "outputs": [],
   "source": []
  },
  {
   "cell_type": "code",
   "execution_count": null,
   "id": "ambient-essence",
   "metadata": {},
   "outputs": [],
   "source": []
  },
  {
   "cell_type": "code",
   "execution_count": null,
   "id": "august-indonesia",
   "metadata": {},
   "outputs": [],
   "source": []
  },
  {
   "cell_type": "code",
   "execution_count": null,
   "id": "working-drinking",
   "metadata": {},
   "outputs": [],
   "source": []
  },
  {
   "cell_type": "code",
   "execution_count": null,
   "id": "hybrid-factor",
   "metadata": {},
   "outputs": [],
   "source": []
  },
  {
   "cell_type": "code",
   "execution_count": null,
   "id": "driving-production",
   "metadata": {},
   "outputs": [],
   "source": []
  },
  {
   "cell_type": "code",
   "execution_count": null,
   "id": "fossil-basketball",
   "metadata": {},
   "outputs": [],
   "source": []
  },
  {
   "cell_type": "markdown",
   "id": "appropriate-state",
   "metadata": {},
   "source": [
    "# Pyxona core"
   ]
  },
  {
   "cell_type": "code",
   "execution_count": 69,
   "id": "rough-aircraft",
   "metadata": {},
   "outputs": [],
   "source": [
    "\"\"\"\n",
    "Python library for reading Axona files.\n",
    "Depends on: sys\n",
    "            os\n",
    "            glob\n",
    "            datetime\n",
    "            numpy\n",
    "            quantities\n",
    "\n",
    "Authors: Svenn-Arne Dragly @CINPLA,\n",
    "         Milad H. Mobarhan @CINPLA,\n",
    "         Mikkel E. Lepperød @CINPLA\n",
    "\"\"\"\n",
    "\n",
    "from __future__ import division\n",
    "from __future__ import print_function\n",
    "from __future__ import with_statement\n",
    "\n",
    "import sys\n",
    "import quantities as pq\n",
    "import os\n",
    "import warnings\n",
    "import glob\n",
    "import numpy as np\n",
    "from datetime import datetime\n",
    "\n",
    "\n",
    "data_end_string = \"\\r\\ndata_end\\r\\n\"\n",
    "data_end_length = len(data_end_string)\n",
    "\n",
    "assert(data_end_length == 12)\n",
    "\n",
    "\n",
    "def parse_attrs(text):\n",
    "    attrs = {}\n",
    "\n",
    "    for line in text.split(\"\\n\"):\n",
    "        line = line.strip()\n",
    "\n",
    "        if len(line) == 0:\n",
    "            continue\n",
    "\n",
    "        line_splitted = line.split(\" \", 1)\n",
    "\n",
    "        name = line_splitted[0]\n",
    "        attrs[name] = None\n",
    "\n",
    "        if len(line_splitted) > 1:\n",
    "            try:\n",
    "                attrs[name] = int(line_splitted[1])\n",
    "            except:\n",
    "                try:\n",
    "                    attrs[name] = float(line_splitted[1])\n",
    "                except:\n",
    "                    attrs[name] = line_splitted[1]\n",
    "    return attrs\n",
    "\n",
    "\n",
    "def parse_header_and_leave_cursor(file_handle):\n",
    "    header = \"\"\n",
    "    while True:\n",
    "        search_string = \"data_start\"\n",
    "        byte = file_handle.read(1)\n",
    "        header += str(byte, 'latin-1')\n",
    "\n",
    "        if not byte:\n",
    "            raise IOError(\"Hit end of file before '\" + search_string + \"' found.\")\n",
    "\n",
    "        if header[-len(search_string):] == search_string:\n",
    "            break\n",
    "\n",
    "    attrs = parse_attrs(header)\n",
    "\n",
    "    return attrs\n",
    "\n",
    "\n",
    "def assert_end_of_data(file_handle):\n",
    "    remaining_data = str(file_handle.read(), 'latin1')\n",
    "    assert(remaining_data.strip() == \"data_end\")\n",
    "\n",
    "\n",
    "def scale_analog_signal(value, gain, adc_fullscale_mv, bytes_per_sample):\n",
    "    \"\"\"\n",
    "    Takes value as raw sample data and converts it to millivolts quantity.\n",
    "\n",
    "    The mapping in the case of bytes_per_sample = 1 is\n",
    "\n",
    "        [-128, 127] -> [-1.0, (127.0/128.0)] * adc_fullscale_mv / gain (mV)\n",
    "\n",
    "    The correctness of this mapping has been verified by contacting Axona.\n",
    "    \"\"\"\n",
    "    if type(value) is np.ndarray and value.base is not None:\n",
    "        raise ValueError(\"Value passed to scale_analog_signal cannot be a numpy view because we need to convert the entire array to a quantity.\")\n",
    "    max_value = 2**(8 * bytes_per_sample - 1)  # 128 when bytes_per_sample = 1\n",
    "    result = (value / max_value) * (adc_fullscale_mv / gain)\n",
    "    result = result\n",
    "    return result\n",
    "\n",
    "\n",
    "class Channel:\n",
    "    def __init__(self, index, name, gain):\n",
    "        self.index = index\n",
    "        self.name = name\n",
    "        self.gain = gain\n",
    "\n",
    "\n",
    "class ChannelGroup:\n",
    "    def __init__(self, channel_group_id, filename, channels, adc_fullscale, attrs):\n",
    "        self.attrs = attrs\n",
    "        self.filename = filename\n",
    "        self.channel_group_id = channel_group_id\n",
    "        self.channels = channels\n",
    "        self._adc_fullscale = adc_fullscale\n",
    "\n",
    "    @property\n",
    "    def analog_signals(self):\n",
    "        return self.analog_signals\n",
    "\n",
    "    @property\n",
    "    def spike_train(self):\n",
    "        with open(self.filename, \"rb\") as f:\n",
    "            attrs = parse_header_and_leave_cursor(f)\n",
    "\n",
    "            channel_group_index = self.channel_group_id\n",
    "            bytes_per_timestamp = attrs.get(\"bytes_per_timestamp\", 4)\n",
    "            bytes_per_sample = attrs.get(\"bytes_per_sample\", 1)\n",
    "            num_spikes = attrs.get(\"num_spikes\", 0)\n",
    "            num_chans = attrs.get(\"num_chans\", 1)\n",
    "            samples_per_spike = attrs.get(\"samples_per_spike\", 50)\n",
    "            timebase = int(attrs.get(\"timebase\", \"96000 hz\").split(\" \")[0]) * pq.Hz\n",
    "            sample_rate = attrs.get(\"rawrate\", 48000) * pq.Hz\n",
    "\n",
    "            bytes_per_spike_without_timestamp = samples_per_spike * bytes_per_sample\n",
    "            bytes_per_spike = bytes_per_spike_without_timestamp + bytes_per_timestamp\n",
    "\n",
    "            timestamp_dtype = \">u\" + str(bytes_per_timestamp)\n",
    "            waveform_dtype = \"<i\" + str(bytes_per_sample)\n",
    "\n",
    "            dtype = np.dtype([(\"times\", (timestamp_dtype, 1), 1), (\"waveforms\", (waveform_dtype, 1), samples_per_spike)])\n",
    "\n",
    "            data = np.fromfile(f, dtype=dtype, count=num_spikes * num_chans)\n",
    "            assert_end_of_data(f)\n",
    "\n",
    "        times = data[\"times\"][::4] / timebase  # time for each waveform is the same, so we take each fourth time\n",
    "        waveforms = data[\"waveforms\"]\n",
    "        # TODO is this the correct way to reshape waveforms?\n",
    "        waveforms = waveforms.reshape(num_spikes, num_chans, samples_per_spike)\n",
    "        waveforms = waveforms.astype(float)\n",
    "\n",
    "        channel_gain_matrix = np.ones(waveforms.shape)\n",
    "        for i, channel in enumerate(self.channels):\n",
    "            channel_gain_matrix[:, i, :] *= channel.gain\n",
    "\n",
    "        waveforms = scale_analog_signal(waveforms,\n",
    "                                        channel_gain_matrix,\n",
    "                                        self._adc_fullscale,\n",
    "                                        bytes_per_sample)\n",
    "        # HACK until we find the sign on the signal hafting-fyhn group always have reversed spikes\n",
    "        waveforms = -waveforms\n",
    "        # TODO get proper t_stop Mikkel says: isn't that just the duration, Mikkel answers: yes it is\n",
    "        return SpikeTrain(\n",
    "            times=times,\n",
    "            waveforms=waveforms,\n",
    "            spike_count=num_spikes,\n",
    "            channel_count=num_chans,\n",
    "            samples_per_spike=samples_per_spike,\n",
    "            sample_rate=sample_rate,\n",
    "            attrs=attrs\n",
    "        )\n",
    "\n",
    "    def __str__(self):\n",
    "        return \"<Axona channel_group {}: channel_count: {}>\".format(\n",
    "            self.channel_group_id, len(self.channels)\n",
    "        )\n",
    "\n",
    "\n",
    "class SpikeTrain:\n",
    "    def __init__(self, times, waveforms,\n",
    "                 spike_count, channel_count, samples_per_spike,\n",
    "                 sample_rate, attrs):\n",
    "        self.times = times\n",
    "        self.waveforms = waveforms\n",
    "        self.attrs = attrs\n",
    "\n",
    "        assert(self.waveforms.shape[0] == spike_count)\n",
    "        assert(self.waveforms.shape[1] == channel_count)\n",
    "        assert(self.waveforms.shape[2] == samples_per_spike)\n",
    "\n",
    "        self.spike_count = spike_count\n",
    "        self.channel_count = channel_count\n",
    "        self.samples_per_spike = samples_per_spike\n",
    "        self.sample_rate = sample_rate\n",
    "\n",
    "    @property\n",
    "    def num_spikes(self):\n",
    "        \"\"\"\n",
    "        Alias for spike_count, using same name as in .[0-9]* file.\n",
    "        \"\"\"\n",
    "        return self.spike_count\n",
    "\n",
    "    @property\n",
    "    def num_chans(self):\n",
    "        \"\"\"\n",
    "        Alias for channel_count, using same name as in .[0-9]* file.\n",
    "        \"\"\"\n",
    "        return self.channel_count\n",
    "\n",
    "\n",
    "class AnalogSignal:\n",
    "    def __init__(self, channel_id, signal, sample_rate, attrs):\n",
    "        self.channel_id = channel_id\n",
    "        self.signal = signal\n",
    "        self.sample_rate = sample_rate\n",
    "        self.attrs = attrs\n",
    "\n",
    "    def __str__(self):\n",
    "        return \"<Axona analog signal: channel: {}, shape: {}, sample_rate: {}>\".format(\n",
    "            self.channel_id, self.signal.shape, self.sample_rate\n",
    "        )\n",
    "\n",
    "\n",
    "class TrackingData:\n",
    "    def __init__(self, times, positions, attrs):\n",
    "        self.attrs = attrs\n",
    "        self.times = times\n",
    "        self.positions = positions\n",
    "\n",
    "    def __str__(self):\n",
    "        return \"<Axona tracking data: times shape: {}, positions shape: {}>\".format(\n",
    "            self.times.shape, self.positions.shape\n",
    "        )\n",
    "\n",
    "\n",
    "class InpData:\n",
    "    def __init__(self, duration, times, event_types, values):\n",
    "        self.duration = duration\n",
    "        self.times = times\n",
    "        self.event_types = event_types\n",
    "        self.values = values\n",
    "\n",
    "    def __str__(self):\n",
    "        return \"<Axona inp data: times shape: {}>\".format(self.times.shape)\n",
    "\n",
    "\n",
    "class CutData:\n",
    "    def __init__(self, channel_group_id, indices):\n",
    "        self.channel_group_id = channel_group_id\n",
    "        self.indices = indices\n",
    "\n",
    "    def __str__(self):\n",
    "        return \"<Axona cut data: channel group id: {}, indices shape: {}>\".format(\n",
    "            self.channel_group_id, self.indices.shape\n",
    "        )\n",
    "\n",
    "\n",
    "class File:\n",
    "    \"\"\"\n",
    "    Class for reading experimental data from an Axona dataset.\n",
    "    \"\"\"\n",
    "    def __init__(self, filename):\n",
    "        self._absolute_filename = filename\n",
    "        self._path, relative_filename = os.path.split(filename)\n",
    "        self._base_filename, extension = os.path.splitext(relative_filename)\n",
    "\n",
    "        if extension != \".set\":\n",
    "            raise ValueError(\"file extension must be '.set'\")\n",
    "\n",
    "        with open(self._absolute_filename, mode=\"r\", encoding=\"cp1252\") as f:\n",
    "            text = f.read()\n",
    "\n",
    "        attrs = parse_attrs(text)\n",
    "\n",
    "        self._adc_fullscale = float(attrs[\"ADC_fullscale_mv\"]) * 1000.0 * pq.uV\n",
    "        if all(key in attrs for key in ['trial_date', 'trial_time']):\n",
    "            self._start_datetime = datetime.strptime(attrs['trial_date'] +\n",
    "                                                     attrs['trial_time'],\n",
    "                                                     '%A, %d %b %Y%H:%M:%S')\n",
    "        else:\n",
    "            self._start_datetime = None\n",
    "        self._duration = float(attrs[\"duration\"]) * pq.s\n",
    "        self._tracked_spots_count = int(attrs[\"tracked_spots\"])\n",
    "        self.attrs = attrs\n",
    "\n",
    "        self._channel_groups = []\n",
    "        self._analog_signals = []\n",
    "        self._cuts = []\n",
    "        self._inp_data = None\n",
    "        self._tracking = None\n",
    "\n",
    "        self._channel_groups_dirty = True\n",
    "        self._analog_signals_dirty = True\n",
    "        self._cuts_dirty = True\n",
    "        self._inp_data_dirty = True\n",
    "        self._tracking_dirty = True\n",
    "\n",
    "    @property\n",
    "    def session(self):\n",
    "        return self._base_filename\n",
    "\n",
    "    @property\n",
    "    def related_files(self):\n",
    "        file_path = os.path.join(self._path, self._base_filename)\n",
    "        cut_files = glob.glob(os.path.join(file_path + \"_[0-9]*.cut\"))\n",
    "\n",
    "        return glob.glob(os.path.join(file_path + \".*\")) + cut_files\n",
    "\n",
    "    def channel_group(self, channel_id):\n",
    "        if self._channel_groups_dirty:\n",
    "            self._read_channel_groups()\n",
    "\n",
    "        return self._channel_id_to_channel_group[channel_id]\n",
    "\n",
    "    @property\n",
    "    def channel_groups(self):\n",
    "        if self._channel_groups_dirty:\n",
    "            self._read_channel_groups()\n",
    "\n",
    "        return self._channel_groups\n",
    "\n",
    "    @property\n",
    "    def analog_signals(self):\n",
    "        if self._analog_signals_dirty:\n",
    "            self._read_analog_signals()\n",
    "\n",
    "        return self._analog_signals\n",
    "\n",
    "    @property\n",
    "    def tracking(self):\n",
    "        if self._tracking_dirty:\n",
    "            self._read_tracking()\n",
    "\n",
    "        return self._tracking\n",
    "\n",
    "    @property\n",
    "    def inp_data(self):\n",
    "        if self._inp_data_dirty:\n",
    "            self._read_inp_data()\n",
    "\n",
    "        return self._inp_data\n",
    "\n",
    "    @property\n",
    "    def cuts(self):\n",
    "        if self._cuts_dirty:\n",
    "            self._read_cuts()\n",
    "\n",
    "        return self._cuts\n",
    "\n",
    "    def _read_channel_groups(self):\n",
    "        self._channel_id_to_channel_group = {}\n",
    "        self._channel_group_id_to_channel_group = {}\n",
    "        self._channel_count = 0\n",
    "        self._channel_groups = []\n",
    "\n",
    "        # TODO this file reading can be removed, perhaps?\n",
    "        channel_group_filenames = glob.glob(\n",
    "            os.path.join(self._path, self._base_filename) + \".[0-9]*\")\n",
    "        channel_group_filenames = sorted(\n",
    "            channel_group_filenames,\n",
    "            key=lambda x: os.path.splitext(x)[1][1:])\n",
    "\n",
    "        _, extension = os.path.splitext(channel_group_filenames[0])\n",
    "        start_channel_group = int(extension[1:]) - 1\n",
    "        if start_channel_group != 0:\n",
    "            warnings.warn(\n",
    "                'Channel group file starts at {} '.format(start_channel_group) +\n",
    "                'assumes that channel groups not saved have the same channel ' +\n",
    "                'count and infers channel ids from that.')\n",
    "            with open(channel_group_filenames[0], \"rb\") as f:\n",
    "                channel_group_attrs = parse_header_and_leave_cursor(f)\n",
    "                num_chans = channel_group_attrs[\"num_chans\"]\n",
    "                self._channel_count = (start_channel_group + 1) * num_chans\n",
    "\n",
    "        for ii, channel_group_filename in enumerate(channel_group_filenames, start_channel_group):\n",
    "            # increment before, because channel_groups start at 1\n",
    "            basename, extension = os.path.splitext(channel_group_filename)\n",
    "            channel_group_id = int(extension[1:]) - 1\n",
    "            if ii != channel_group_id:\n",
    "                raise IOError('Missing channel group file, unable to map channel ids')\n",
    "            with open(channel_group_filename, \"rb\") as f:\n",
    "                channel_group_attrs = parse_header_and_leave_cursor(f)\n",
    "                num_chans = channel_group_attrs[\"num_chans\"]\n",
    "                channels = []\n",
    "                for i in range(num_chans):\n",
    "                    channel_id = self._channel_count + i\n",
    "                    channel = Channel(\n",
    "                        channel_id,\n",
    "                        name=\"channel_{}_channel_group_{}_internal_{}\".format(\n",
    "                            channel_id, channel_group_id, i),\n",
    "                        gain=self._channel_gain(channel_group_id, i)\n",
    "                    )\n",
    "                    channels.append(channel)\n",
    "\n",
    "                channel_group = ChannelGroup(\n",
    "                    channel_group_id,\n",
    "                    filename=channel_group_filename,\n",
    "                    channels=channels,\n",
    "                    adc_fullscale=self._adc_fullscale,\n",
    "                    attrs=channel_group_attrs\n",
    "                )\n",
    "\n",
    "                self._channel_groups.append(channel_group)\n",
    "                self._channel_group_id_to_channel_group[channel_group_id] = channel_group\n",
    "\n",
    "                for i in range(num_chans):\n",
    "                    channel_id = self._channel_count + i\n",
    "                    self._channel_id_to_channel_group[channel_id] = channel_group\n",
    "\n",
    "                # increment after, because channels start at 0\n",
    "                self._channel_count += num_chans\n",
    "\n",
    "        # TODO add channels only for files that exist\n",
    "        self._channel_ids = np.arange(self._channel_count)\n",
    "        self._channel_groups_dirty = False\n",
    "\n",
    "    def _channel_gain(self, channel_group_index, channel_index):\n",
    "        # TODO split into two functions, one for mapping and one for gain lookup\n",
    "        global_channel_index = channel_group_index * 4 + channel_index\n",
    "        param_name = \"gain_ch_{}\".format(global_channel_index)\n",
    "        return float(self.attrs[param_name])\n",
    "\n",
    "    def _read_inp_data(self):\n",
    "        \"\"\"\n",
    "        Reads axona .inp files.\n",
    "        Event type can be 'I', 'O', or 'K' representing input,\n",
    "        output, and keypress, respectively.\n",
    "        The value of all event types is assumed to have dtype='>i',\n",
    "        even though this is not true for keypress.\n",
    "        \"\"\"\n",
    "        inp_filename = os.path.join(self._path, self._base_filename + \".inp\")\n",
    "        if not os.path.exists(inp_filename):\n",
    "            raise IOError(\"'.inp' file not found:\" + inp_filename)\n",
    "\n",
    "        with open(inp_filename, \"rb\") as f:\n",
    "            attrs = parse_header_and_leave_cursor(f)\n",
    "\n",
    "            sample_rate_split = attrs[\"timebase\"].split(\" \")\n",
    "            assert(sample_rate_split[1] == \"hz\")\n",
    "            sample_rate = float(sample_rate_split[0]) * pq.Hz  # sample_rate 50.0 hz\n",
    "\n",
    "            duration = float(attrs[\"duration\"]) * pq.s\n",
    "            num_inp_samples = int(attrs[\"num_inp_samples\"])\n",
    "            bytes_per_timestamp = int(attrs[\"bytes_per_timestamp\"])\n",
    "            bytes_per_type = int(attrs[\"bytes_per_type\"])\n",
    "            bytes_per_value = int(attrs[\"bytes_per_value\"])\n",
    "\n",
    "            timestamp_dtype = \">i\" + str(bytes_per_timestamp)\n",
    "            type_dtype = \"S\"\n",
    "            value_dtype = 'i1'\n",
    "\n",
    "            # read data:\n",
    "            dtype = np.dtype([(\"t\", (timestamp_dtype, 1)),\n",
    "                              (\"event_types\", (type_dtype, bytes_per_type)),\n",
    "                              (\"values\", (value_dtype, bytes_per_value))])\n",
    "\n",
    "            # num_inp_samples cannot be used because it\n",
    "            # does not include outputs ('O').\n",
    "            # We need to find the length of the data manually\n",
    "            # by seeking to the end of the file and subtracting\n",
    "            # the position at data_start.\n",
    "            current_position = f.tell()\n",
    "            f.seek(-data_end_length, os.SEEK_END)\n",
    "            end_position = f.tell()\n",
    "            data_byte_count = end_position - current_position\n",
    "            data_count = int(data_byte_count / dtype.itemsize)\n",
    "            assert_end_of_data(f)\n",
    "\n",
    "            # seek back to data start and read the newly calculated\n",
    "            # number of samples\n",
    "            f.seek(current_position, os.SEEK_SET)\n",
    "\n",
    "            data = np.fromfile(f, dtype=dtype, count=data_count)\n",
    "\n",
    "            assert_end_of_data(f)\n",
    "            times = data[\"t\"].astype(float) / sample_rate\n",
    "\n",
    "            inp_data = InpData(\n",
    "                duration=duration,\n",
    "                times=times,\n",
    "                event_types=data[\"event_types\"].astype(str),\n",
    "                values=data[\"values\"],\n",
    "            )\n",
    "\n",
    "        self._inp_data = inp_data\n",
    "        self._inp_data_dirty = False\n",
    "\n",
    "    def _read_tracking(self):\n",
    "        pos_filename = os.path.join(self._path, self._base_filename + \".pos\")\n",
    "        if not os.path.exists(pos_filename):\n",
    "            raise IOError(\"'.pos' file not found:\" + pos_filename)\n",
    "\n",
    "        with open(pos_filename, \"rb\") as f:\n",
    "            attrs = parse_header_and_leave_cursor(f)\n",
    "\n",
    "            sample_rate_split = attrs[\"sample_rate\"].split(\" \")\n",
    "            assert(sample_rate_split[1] == \"hz\")\n",
    "            sample_rate = float(sample_rate_split[0]) * pq.Hz  # sample_rate 50.0 hz\n",
    "\n",
    "            eeg_samples_per_position = float(attrs[\"EEG_samples_per_position\"])\n",
    "            pos_samples_count = int(attrs[\"num_pos_samples\"])\n",
    "            bytes_per_timestamp = int(attrs[\"bytes_per_timestamp\"])\n",
    "            bytes_per_coord = int(attrs[\"bytes_per_coord\"])\n",
    "\n",
    "            timestamp_dtype = \">i\" + str(bytes_per_timestamp)\n",
    "            coord_dtype = \">i\" + str(bytes_per_coord)\n",
    "\n",
    "            bytes_per_pixel_count = 4\n",
    "            pixel_count_dtype = \">i\" + str(bytes_per_pixel_count)\n",
    "\n",
    "            # pos_format is as follows for this file t,x1,y1,x2,y2,numpix1,numpix2.\n",
    "            data_spots_count = 2\n",
    "            assert attrs['pos_format'] == 't,x1,y1,x2,y2,numpix1,numpix2', (\n",
    "                'We only support the given pos format')\n",
    "            # read data:\n",
    "            dtype = np.dtype([(\"t\", (timestamp_dtype, 1)),\n",
    "                             (\"coords\", (coord_dtype, 1), 2 * data_spots_count),\n",
    "                             (\"pixel_count\", (pixel_count_dtype, 1), data_spots_count)])\n",
    "\n",
    "            data = np.fromfile(f, dtype=dtype, count=pos_samples_count)\n",
    "\n",
    "            try:\n",
    "                assert_end_of_data(f)\n",
    "            except AssertionError:\n",
    "                warnings.warn(\"Found remaining data while parsing pos file\")\n",
    "\n",
    "            time_scale = float(attrs[\"timebase\"].split(\" \")[0]) * pq.Hz\n",
    "            times = data[\"t\"].astype(float) / time_scale\n",
    "\n",
    "            window_min_x = float(attrs[\"window_min_x\"])\n",
    "            window_max_x = float(attrs[\"window_max_x\"])\n",
    "            window_min_y = float(attrs[\"window_min_y\"])\n",
    "            window_max_y = float(attrs[\"window_max_y\"])\n",
    "            xsize = window_max_x - window_min_x\n",
    "            ysize = window_max_y - window_min_y\n",
    "            length_scale = [xsize, ysize, xsize, ysize]\n",
    "            coords = data[\"coords\"].astype(float) * pq.m\n",
    "            # dacq doc: positions with value 1023 are missing\n",
    "            coords[data[\"coords\"] == 1023] = np.nan * pq.m\n",
    "            for i in range(2 * data_spots_count):\n",
    "                coords[:, i] /= length_scale[i]\n",
    "\n",
    "            tracking_data = TrackingData(\n",
    "                times=times,\n",
    "                positions=coords,\n",
    "                attrs=attrs\n",
    "            )\n",
    "\n",
    "        self._tracking = tracking_data\n",
    "        self._tracking_dirty = False\n",
    "\n",
    "    def _read_analog_signals(self):\n",
    "        # TODO read for specific channel\n",
    "        # TODO check that .egf file exists\n",
    "\n",
    "        self._analog_signals = []\n",
    "        eeg_basename = os.path.join(self._path, self._base_filename)\n",
    "        eeg_files = glob.glob(eeg_basename + \".eeg\")\n",
    "        eeg_files += glob.glob(eeg_basename + \".eeg[0-9]*\")\n",
    "        eeg_files += glob.glob(eeg_basename + \".egf\")\n",
    "        eeg_files += glob.glob(eeg_basename + \".egf[0-9]*\")\n",
    "        for eeg_filename in sorted(eeg_files):\n",
    "            extension = os.path.splitext(eeg_filename)[-1][1:]\n",
    "            file_type = extension[:3]\n",
    "            suffix = extension[3:]\n",
    "            if suffix == \"\":\n",
    "                suffix = \"1\"\n",
    "            suffix = int(suffix)\n",
    "            with open(eeg_filename, \"rb\") as f:\n",
    "                try:\n",
    "                    attrs = parse_header_and_leave_cursor(f)\n",
    "                except OSError as e:\n",
    "                    warnings.warn(str(e) + ' Unable to load \"' + eeg_filename +\n",
    "                                  '\".')\n",
    "                    continue\n",
    "                attrs[\"raw_filename\"] = eeg_filename\n",
    "\n",
    "                if file_type == \"eeg\":\n",
    "                    sample_count = int(attrs[\"num_EEG_samples\"])\n",
    "                elif file_type == \"egf\":\n",
    "                    sample_count = int(attrs[\"num_EGF_samples\"])\n",
    "                else:\n",
    "                    raise IOError(\"Unknown file type. Should be .eeg or .efg.\")\n",
    "\n",
    "                sample_rate_split = attrs[\"sample_rate\"].split(\" \")\n",
    "                bytes_per_sample = attrs[\"bytes_per_sample\"]\n",
    "                assert(sample_rate_split[1].lower() == \"hz\")\n",
    "                sample_rate = float(sample_rate_split[0]) * pq.Hz  # sample_rate 250.0 hz\n",
    "\n",
    "                sample_dtype = (('<i' + str(bytes_per_sample), 1), attrs[\"num_chans\"])\n",
    "                data = np.fromfile(f, dtype=sample_dtype, count=sample_count)\n",
    "                assert_end_of_data(f)\n",
    "\n",
    "                eeg_final_channel_id = self.attrs[\"EEG_ch_\" + str(suffix)] - 1 # EEG channels are counted from 1, other channels are from 0\n",
    "                if eeg_final_channel_id == -1:\n",
    "                    warnings.warn(\n",
    "                        'eeg saved, but not reffering to any channel' +\n",
    "                        ' skipping {}'.format(eeg_filename))\n",
    "                    continue\n",
    "                assert self.attrs[\"saveEEG_ch_\" + str(suffix)] == 1\n",
    "                eeg_mode = self.attrs[\"mode_ch_\" + str(eeg_final_channel_id)]\n",
    "                if eeg_mode == 0: # signal\n",
    "                    eeg_original_channel_id = eeg_final_channel_id\n",
    "                elif eeg_mode == 1: # ref\n",
    "                    ref_id = self.attrs[\"b_in_ch_\" + str(eeg_final_channel_id)]\n",
    "                    eeg_original_channel_id = self.attrs[\"ref_\" + str(ref_id)]\n",
    "                elif eeg_mode == 2: # what mode is this??\n",
    "                    other_channel = self.attrs[\"b_in_ch_\" + str(eeg_final_channel_id)]\n",
    "                    ref_id = self.attrs[\"b_in_ch_\" + str(other_channel)]\n",
    "                    eeg_original_channel_id = self.attrs[\"ref_\" + str(ref_id)]\n",
    "                    warnings.warn(\n",
    "                        'Not sure how to retrieve original channel from mode ' +\n",
    "                        '{} in {}. '.format(eeg_mode, eeg_filename) +\n",
    "                        'Please make sure it is the correct gain and channel_id.')\n",
    "                else:\n",
    "                    warnings.warn(\n",
    "                        'Not sure how to retrieve original channel from mode ' +\n",
    "                        '{}, skipping {}'.format(eeg_mode, eeg_filename))\n",
    "                    continue\n",
    "\n",
    "                attrs[\"channel_id\"] = eeg_original_channel_id\n",
    "\n",
    "                gain = self.attrs[\"gain_ch_{}\".format(eeg_final_channel_id)]\n",
    "\n",
    "                signal = scale_analog_signal(data,\n",
    "                                             gain,\n",
    "                                             self._adc_fullscale,\n",
    "                                             bytes_per_sample)\n",
    "\n",
    "                # TODO read start time\n",
    "\n",
    "                analog_signal = AnalogSignal(\n",
    "                    channel_id=eeg_original_channel_id,\n",
    "                    signal=signal,\n",
    "                    sample_rate=sample_rate,\n",
    "                    attrs=attrs\n",
    "                )\n",
    "\n",
    "                self._analog_signals.append(analog_signal)\n",
    "\n",
    "        self._analog_signals_dirty = False\n",
    "\n",
    "    def _read_cuts(self):\n",
    "        self._cuts = []\n",
    "        cut_basename = os.path.join(self._path, self._base_filename)\n",
    "        cut_files = glob.glob(cut_basename + \"_[0-9]*.cut\")\n",
    "\n",
    "        if not len(cut_files) > 0:\n",
    "            raise IOError(\"'.cut' file(s) not found\")\n",
    "\n",
    "        for cut_filename in sorted(cut_files):\n",
    "            split_basename = os.path.basename(cut_filename).split(self._base_filename+\"_\")[-1]\n",
    "            suffix = os.path.splitext(split_basename)[0]\n",
    "            try:\n",
    "                channel_group_id = int(suffix) - 1  # -1 to match channel_group_id\n",
    "            except ValueError as e:\n",
    "                warnings.warn(str(e) + ' Unable to load cut file \"' +\n",
    "                              cut_filename + '\".')\n",
    "                continue\n",
    "            lines = \"\"\n",
    "            with open(cut_filename, \"r\") as f:\n",
    "                for line in f:\n",
    "                    if line.lstrip().startswith('Exact_cut_for'):\n",
    "                        break\n",
    "                lines = f.read()\n",
    "                lines = lines.replace(\"\\n\", \"\").strip()\n",
    "                indices = []\n",
    "                try:\n",
    "                    indices += [int(b) for b in lines.split(' ')\n",
    "                                if b.isnumeric()]\n",
    "                except Exception as e:\n",
    "                    raise(type(e)(str(e) +\n",
    "                                  \" Invalid indices in cut file '\" +\n",
    "                                  cut_filename + \"'.\"\n",
    "                          ).with_traceback(sys.exc_info()[2]))\n",
    "                cut = CutData(\n",
    "                    channel_group_id=channel_group_id,\n",
    "                    indices=np.asarray(indices, dtype=np.int)\n",
    "                )\n",
    "                self._cuts.append(cut)\n",
    "\n",
    "        self._cuts_dirty = False\n"
   ]
  },
  {
   "cell_type": "code",
   "execution_count": null,
   "id": "central-irrigation",
   "metadata": {},
   "outputs": [],
   "source": []
  },
  {
   "cell_type": "code",
   "execution_count": null,
   "id": "impressive-understanding",
   "metadata": {},
   "outputs": [],
   "source": []
  },
  {
   "cell_type": "code",
   "execution_count": null,
   "id": "thick-bundle",
   "metadata": {},
   "outputs": [],
   "source": []
  },
  {
   "cell_type": "code",
   "execution_count": null,
   "id": "centered-manhattan",
   "metadata": {},
   "outputs": [],
   "source": []
  },
  {
   "cell_type": "markdown",
   "id": "shaped-tonight",
   "metadata": {},
   "source": [
    "# Read data with Hussaini lab code for comparison (should give same answer)"
   ]
  },
  {
   "cell_type": "code",
   "execution_count": 30,
   "id": "under-prayer",
   "metadata": {
    "scrolled": true
   },
   "outputs": [
    {
     "name": "stdout",
     "output_type": "stream",
     "text": [
      "../../freelance-work/catalyst-neuro/hussaini-lab-to-nwb/example_data_units/Axona_Unit_Mode_SmallFile/20140815-180secs\n",
      "../../freelance-work/catalyst-neuro/hussaini-lab-to-nwb/Axona_Tint_1ms/20201004_Tint\n",
      "Reading UNIT data files:\n",
      "../../freelance-work/catalyst-neuro/hussaini-lab-to-nwb/Axona_Tint_1ms/20201004_Tint.set\n",
      "../../freelance-work/catalyst-neuro/hussaini-lab-to-nwb/Axona_Tint_1ms/20201004_Tint.eeg\n",
      "../../freelance-work/catalyst-neuro/hussaini-lab-to-nwb/Axona_Tint_1ms/20201004_Tint.pos\n",
      "../../freelance-work/catalyst-neuro/hussaini-lab-to-nwb/Axona_Tint_1ms/20201004_Tint.1\n",
      "../../freelance-work/catalyst-neuro/hussaini-lab-to-nwb/Axona_Tint_1ms/20201004_Tint.2\n",
      "../../freelance-work/catalyst-neuro/hussaini-lab-to-nwb/Axona_Tint_1ms/20201004_Tint.3\n",
      "../../freelance-work/catalyst-neuro/hussaini-lab-to-nwb/Axona_Tint_1ms/20201004_Tint.4\n"
     ]
    }
   ],
   "source": [
    "# mini sample data\n",
    "dir_name1 = r'../../freelance-work/catalyst-neuro/hussaini-lab-to-nwb/example_data_units/Axona_Unit_Mode_SmallFile'\n",
    "base_filename1 = '20140815-180secs'\n",
    "filename1 = os.path.join(dir_name1, base_filename1)\n",
    "\n",
    "# 1ms sample data\n",
    "dir_name2 = r'../../freelance-work/catalyst-neuro/hussaini-lab-to-nwb/Axona_Tint_1ms'\n",
    "base_filename2 = '20201004_Tint'\n",
    "filename2 = os.path.join(dir_name2, base_filename2)\n",
    "\n",
    "print(filename1)  # shows waveform centered at ~sample 10\n",
    "print(filename2)  # shows waveform centered at ~sample 25\n",
    "\n",
    "\n",
    "# Set directory and filename\n",
    "\n",
    "dir_name = dir_name2\n",
    "base_filename = base_filename2\n",
    "\n",
    "unit_set_file = os.path.join(dir_name, base_filename + '.set')\n",
    "unit_eeg_file = os.path.join(dir_name, base_filename + '.eeg')\n",
    "unit_pos_file = os.path.join(dir_name, base_filename + '.pos')\n",
    "unit_num_file1 = os.path.join(dir_name, base_filename + '.1')\n",
    "unit_num_file2 = os.path.join(dir_name, base_filename + '.2')\n",
    "unit_num_file3 = os.path.join(dir_name, base_filename + '.3')\n",
    "unit_num_file4 = os.path.join(dir_name, base_filename + '.4')\n",
    "\n",
    "print('Reading UNIT data files:')\n",
    "print(unit_set_file)\n",
    "print(unit_eeg_file)\n",
    "print(unit_pos_file)\n",
    "print(unit_num_file1)\n",
    "print(unit_num_file2)\n",
    "print(unit_num_file3)\n",
    "print(unit_num_file4)"
   ]
  },
  {
   "cell_type": "code",
   "execution_count": 26,
   "id": "desirable-fifty",
   "metadata": {},
   "outputs": [],
   "source": [
    "unit_num_file1 = tetrode_file"
   ]
  },
  {
   "cell_type": "code",
   "execution_count": 64,
   "id": "resistant-involvement",
   "metadata": {},
   "outputs": [
    {
     "name": "stdout",
     "output_type": "stream",
     "text": [
      "286\n"
     ]
    }
   ],
   "source": [
    "with open(unit_num_file1, 'rb') as f:\n",
    "    data_head = f.read(800)\n",
    "    \n",
    "data_start = data_head.find(b'data_start') + len('data_start')\n",
    "print(data_start)"
   ]
  },
  {
   "cell_type": "code",
   "execution_count": 28,
   "id": "multiple-tennessee",
   "metadata": {},
   "outputs": [
    {
     "name": "stdout",
     "output_type": "stream",
     "text": [
      "data_start\n",
      "b'\\x00\\x00\\x03\\xa0\\xf9\\x02\\x12$165344,\\x1d\\x11\\n\\x04\\xfc\\xf0\\xe9\\xec\\xf9\\xf9\\x15\\x1b\\x1b\\x16\\x0b\\xfe\\xf4\\xf1\\xf3\\xf4\\xf4\\xf9\\x02\\x0b\\x12\\x14\\x10\\t\\x02\\x00\\x02\\x08\\x0e\\x13\\x19 !\\x1a\\x0f\\x00\\x00\\x03\\xa0\\xfa\\xfe\\x01\\x08\\x14\\x1e%,4<</\\x1b\\n\\x00\\xfb\\xf0\\xe1\\xd7\\xd8\\xe1\\xeb\\xf2\\xf7\\xf9\\xfb\\x00\\x04\\x06\\x03\\xfa\\xec\\xe1\\xe1\\xeb\\xf8\\x00\\x02\\xfe\\xf8\\xf7\\xfd\\x04\\x08\\t\\r\\x14\\x19\\x19\\x16\\x00\\x00\\x03\\xa0\\xfe\\x03\\x0e\\x1a#$ \\x1e %% \\x1a\\x15\\x10\\x02\\xec\\xd3\\xc8\\xce\\xe1\\xf7\\x06\\x0c\\x0c\\x0c\\r\\x0b\\x06\\x00\\xf8\\xf2\\xf4\\xfe\\n\\x13\\x13\\t\\xfb\\xee\\xe8\\xeb\\xf4\\x00\\n\\x14\\x1c\\x1e\\x18\\x0e\\x00\\x00\\x03\\xa0\\xee\\xfa\\r +*%\"&050(%$\\x1e\\x0e\\xfe\\xf8\\x01\\x14%2;:)\\x0b\\xea\\xd2\\xc8\\xcb\\xd8\\xea\\xfd\\x0c\\x12\\x0e\\x02\\xf3\\xea\\xe8\\xed\\xf5\\xff\\n\\x14\\x19\\x16\\n\\xfd\\x00\\x00\\x06%\\x04\\xfd\\xf5\\xf9\\t\\x1f4AE=,\\x16\\x06\\x00\\x03\\x07\\x08\\x05\\xff\\xf9\\xf8\\xfc\\x01\\x03\\x00\\xf3\\xde\\xcc\\xc6\\xcf\\xe0\\xf2\\xfe\\x02\\x04\\t\\x10\\x16\\x1a\\x1a\\x1d\\x17\\x0e\\x04\\x04\\xf3\\xf2\\xf5\\xf6\\xf4\\x00\\x00\\x06%\\x1c\\x16\\x08\\xfd\\xfa\\x01\\x0e\\x1d,9></\\x1c\\x07\\xf9\\xf1\\xf0\\xf1\\xf2\\xf3\\xf5\\xf8\\xfc\\xfe\\xfd\\xf4\\xe2\\xcf\\xc5\\xc6\\xcf\\xdc\\xe8\\xf2\\xfa\\x00\\x07\\x0b\\x0c\\x0c\\n\\x07\\x05\\x05\\x03\\xff\\xf9\\xf6\\xf4\\x00\\x00\\x06%\\x16\\x0f\\x01\\xf5\\xf2\\xfb\\x0e$7BC<.\\x1c\\x07\\xf5\\xe9\\xe6\\xe7\\xe8\\xe9\\xef\\xf9\\x02\\t\\t\\xff\\xed\\xdd\\xd6\\xd9\\xe3\\xee\\xf7\\xfc\\x00\\x00\\x00\\xfd\\xfb\\xfa\\xf9\\xf9\\xfb\\xfb\\xf8\\xf5\\xf2\\xf1\\xf2\\x00\\x00\\x06%(8942479::3#\\x0f\\x00\\xf6\\xef\\xe6\\xda\\xd1\\xd0\\xda\\xec\\x00\\x14#$\\x13\\xf5\\xd8\\xcd\\xd6\\xeb\\xfc\\xff\\xf4\\xe8\\xe6\\xec\\xf8\\x02\\x06\\x01\\xf9\\xf4\\xf3\\xf5\\xf7\\xf7\\xf1\\xe8\\x00\\x00\\x0cE\\x0f\\x06\\xff\\xfc\\xff\\x03\\r\\rCh\\x7f\\x7ft6\\xbf\\x80\\x80\\x80\\x80\\xd3:w\\x7f\\x7fo^RG7!\\x08\\xf2\\xe5\\xe4\\xea\\xee\\xee\\xea\\xe8\\xec\\xf5\\xfe\\xff\\xf5\\xf5\\xd4\\xd0\\xd8\\xe7\\xf8\\x00\\x00\\x0cE\\x11\\x0e\\x06\\xfe\\xf5\\xf2\\xf3\\xfa\\x05\\x14!\\'\\'\"\\x16\\x00\\xea\\xda\\xd8\\xe1\\xf1\\x01\\x0f\\x1a'\n"
     ]
    }
   ],
   "source": [
    "print(data_head.decode('cp1252')[data_start-10:data_start])\n",
    "print(data_head[data_start:])"
   ]
  },
  {
   "cell_type": "code",
   "execution_count": 29,
   "id": "addressed-egypt",
   "metadata": {},
   "outputs": [],
   "source": [
    "header = parse_generic_header(unit_num_file1)"
   ]
  },
  {
   "cell_type": "code",
   "execution_count": 30,
   "id": "sound-superior",
   "metadata": {},
   "outputs": [
    {
     "data": {
      "text/plain": [
       "{'trial_date': 'Sunday, 4 Oct 2020',\n",
       " 'trial_time': '11:07:07',\n",
       " 'experimenter': 'Abid',\n",
       " 'comments': '',\n",
       " 'duration': '601',\n",
       " 'sw_version': '1.2.2.16',\n",
       " 'num_chans': '4',\n",
       " 'timebase': '96000 hz',\n",
       " 'bytes_per_timestamp': '4',\n",
       " 'samples_per_spike': '50',\n",
       " 'sample_rate': '48000 hz',\n",
       " 'bytes_per_sample': '1',\n",
       " 'spike_format': 't,ch1,t,ch2,t,ch3,t,ch4',\n",
       " 'num_spikes': '159'}"
      ]
     },
     "execution_count": 30,
     "metadata": {},
     "output_type": "execute_result"
    }
   ],
   "source": [
    "header"
   ]
  },
  {
   "cell_type": "code",
   "execution_count": 31,
   "id": "governing-mississippi",
   "metadata": {},
   "outputs": [],
   "source": [
    "num_chans = int(header.get('num_chans', 4))\n",
    "samples_per_spike = int(header.get('samples_per_spike', 50))\n",
    "bytes_per_timestamp = int(header.get('bytes_per_timestamp', 4))\n",
    "bytes_per_sample = int(header.get('bytes_per_sample', 1))\n",
    "bytes_per_packet = (bytes_per_timestamp + bytes_per_sample*samples_per_spike) * num_chans"
   ]
  },
  {
   "cell_type": "code",
   "execution_count": 32,
   "id": "trying-thought",
   "metadata": {},
   "outputs": [
    {
     "data": {
      "text/plain": [
       "216"
      ]
     },
     "execution_count": 32,
     "metadata": {},
     "output_type": "execute_result"
    }
   ],
   "source": [
    "bytes_per_packet"
   ]
  },
  {
   "cell_type": "code",
   "execution_count": 33,
   "id": "complete-appearance",
   "metadata": {},
   "outputs": [
    {
     "data": {
      "text/plain": [
       "dtype([('spiketime', '>i4'), ('samples', 'i1', (50,))])"
      ]
     },
     "execution_count": 33,
     "metadata": {},
     "output_type": "execute_result"
    }
   ],
   "source": [
    "r.file_parameters['unit']['data_type']"
   ]
  },
  {
   "cell_type": "code",
   "execution_count": 34,
   "id": "amber-accessory",
   "metadata": {},
   "outputs": [],
   "source": [
    "time_mm = np.memmap(unit_num_file1, \n",
    "                    dtype='int'+str(int(bytes_per_timestamp)*8), \n",
    "                    mode='r', \n",
    "                    offset=data_start)\n",
    "\n",
    "spike_mm = np.memmap(unit_num_file1, \n",
    "                     dtype='int'+str(int(bytes_per_sample)*8), \n",
    "                     mode='r', \n",
    "                     offset=data_start)"
   ]
  },
  {
   "cell_type": "code",
   "execution_count": 35,
   "id": "south-evaluation",
   "metadata": {},
   "outputs": [],
   "source": [
    "N = 100\n",
    "offs = bytes_per_timestamp\n",
    "\n",
    "my_waves = np.zeros((N, samples_per_spike))\n",
    "for i in range(0, N):\n",
    "    my_waves[i,:] = spike_mm[offs+(i*bytes_per_packet):offs+samples_per_spike+(i*bytes_per_packet)]"
   ]
  },
  {
   "cell_type": "code",
   "execution_count": 38,
   "id": "ceramic-knock",
   "metadata": {},
   "outputs": [
    {
     "data": {
      "text/plain": [
       "(100, 50)"
      ]
     },
     "execution_count": 38,
     "metadata": {},
     "output_type": "execute_result"
    }
   ],
   "source": [
    "my_waves.shape"
   ]
  },
  {
   "cell_type": "code",
   "execution_count": 418,
   "id": "drawn-intranet",
   "metadata": {},
   "outputs": [],
   "source": [
    "def plot_spike_waveforms(waves, N=10):\n",
    "\n",
    "    # Consider 1st tetrode and plot some example waveforms\n",
    "    plt.subplots(figsize=(8, 8))\n",
    "    ax = plt.axes()\n",
    "\n",
    "    x = np.linspace(-200, 800, 50)\n",
    "    for i in range(0,N):\n",
    "        ax1 = plt.subplot(2, 2, 1)\n",
    "        ax1.set_title(\"10 example waveforms\")\n",
    "        plt.plot(x, waves[i,:])\n",
    "    ax2 = plt.subplot(2, 2, 2)\n",
    "    ax2.set_title(\"Averaged over samples\")\n",
    "    plt.plot(x, np.mean(waves[0:N,:], axis=0))"
   ]
  },
  {
   "cell_type": "code",
   "execution_count": 37,
   "id": "paperback-england",
   "metadata": {},
   "outputs": [
    {
     "data": {
      "image/png": "[encoded data removed]",
      "text/plain": [
       "<Figure size 576x576 with 2 Axes>"
      ]
     },
     "metadata": {
      "needs_background": "light"
     },
     "output_type": "display_data"
    }
   ],
   "source": [
    "plot_spike_waveforms(my_waves, N=N)"
   ]
  },
  {
   "cell_type": "code",
   "execution_count": 42,
   "id": "wanted-venture",
   "metadata": {},
   "outputs": [
    {
     "name": "stdout",
     "output_type": "stream",
     "text": [
      "Tetrode has 152938 spikes over 4 electrodes with 50 samples each.\n"
     ]
    },
    {
     "data": {
      "image/png": "[encoded data removed]",
      "text/plain": [
       "<Figure size 576x576 with 2 Axes>"
      ]
     },
     "metadata": {
      "needs_background": "light"
     },
     "output_type": "display_data"
    }
   ],
   "source": [
    "tetrode_id = 0\n",
    "waves = unit._waveforms[tetrode_id]\n",
    "print('Tetrode has {} spikes over {} electrodes with {} samples each.'\\\n",
    "      .format(waves.shape[0], waves.shape[1], waves.shape[2]))\n",
    "\n",
    "plot_spike_waveforms(np.squeeze(waves[:,0,:]), N=100)"
   ]
  },
  {
   "cell_type": "code",
   "execution_count": 46,
   "id": "timely-channel",
   "metadata": {},
   "outputs": [
    {
     "data": {
      "text/plain": [
       "False"
      ]
     },
     "execution_count": 46,
     "metadata": {},
     "output_type": "execute_result"
    }
   ],
   "source": [
    "my_avg_wave = np.mean(my_waves[0:N,:], axis=0)\n",
    "pyxona_avg_wave = np.mean(waves[0:N,0,:], axis=0)\n",
    "\n",
    "np.array_equal(my_avg_wave, -pyxona_avg_wave)"
   ]
  },
  {
   "cell_type": "code",
   "execution_count": 47,
   "id": "greater-password",
   "metadata": {},
   "outputs": [
    {
     "data": {
      "text/plain": [
       "array([  0.57421875,   0.3515625 ,   0.140625  ,  -0.41015625,\n",
       "        -1.5703125 ,  -2.37890625,  -1.9921875 ,  -1.1484375 ,\n",
       "         0.41015625,   0.8671875 ,   1.0078125 ,  -0.0703125 ,\n",
       "        -0.36328125,  -1.65234375,  -2.87109375,  -3.9375    ,\n",
       "        -5.953125  ,  -7.83984375,  -9.2109375 , -10.27734375,\n",
       "        -7.125     ,   1.34765625,  13.34765625,  30.7265625 ,\n",
       "        46.65234375,  53.56640625,  49.69921875,  35.89453125,\n",
       "        15.64453125,  -3.7734375 , -16.1484375 , -20.34375   ,\n",
       "       -17.73046875, -12.2578125 ,  -6.73828125,  -3.80859375,\n",
       "        -2.42578125,  -3.94921875,  -6.26953125,  -7.921875  ,\n",
       "        -9.24609375,  -9.92578125,  -9.64453125,  -9.59765625,\n",
       "       -10.59375   , -11.25      , -10.76953125,  -9.05859375,\n",
       "        -8.953125  ,  -8.296875  ]) * uV"
      ]
     },
     "execution_count": 47,
     "metadata": {},
     "output_type": "execute_result"
    }
   ],
   "source": [
    "-pyxona_avg_wave"
   ]
  },
  {
   "cell_type": "code",
   "execution_count": 48,
   "id": "boxed-conflict",
   "metadata": {},
   "outputs": [
    {
     "data": {
      "text/plain": [
       "array([  0.49,   0.3 ,   0.12,  -0.35,  -1.34,  -2.03,  -1.7 ,  -0.98,\n",
       "         0.35,   0.74,   0.86,  -0.06,  -0.31,  -1.41,  -2.45,  -3.36,\n",
       "        -5.08,  -6.69,  -7.86,  -8.77,  -6.08,   1.15,  11.39,  26.22,\n",
       "        39.81,  45.71,  42.41,  30.63,  13.35,  -3.22, -13.78, -17.36,\n",
       "       -15.13, -10.46,  -5.75,  -3.25,  -2.07,  -3.37,  -5.35,  -6.76,\n",
       "        -7.89,  -8.47,  -8.23,  -8.19,  -9.04,  -9.6 ,  -9.19,  -7.73,\n",
       "        -7.64,  -7.08])"
      ]
     },
     "execution_count": 48,
     "metadata": {},
     "output_type": "execute_result"
    }
   ],
   "source": [
    "my_avg_wave"
   ]
  },
  {
   "cell_type": "code",
   "execution_count": 51,
   "id": "guided-protection",
   "metadata": {},
   "outputs": [
    {
     "name": "stdout",
     "output_type": "stream",
     "text": [
      "128\n",
      "32768\n"
     ]
    }
   ],
   "source": [
    "print(2**7)\n",
    "print(2**(8*2-1))"
   ]
  },
  {
   "cell_type": "markdown",
   "id": "basic-rebecca",
   "metadata": {},
   "source": [
    "### Unit mode\n",
    "\n",
    "In unit mode, data is stored in 1 ms chunks, 200 μs and 800 μs after a threshold event. The header will contain a setting called “spike_format”. Generally, there are 216 bytes per spike, structured as 54 bytes per channel, in order by channel number (so, for tetrode 1, the channels are in the order 1, 2, 3, 4, or actually 1a, 1b, 1c, 1d in dacq2 nomenclature, etc.). The 54 bytes consist of a 4 byte time stamp (most significant byte first), then 50 8-bit samples. The ASCII header specifies you how many spikes there should be in the file (“num_spikes”), and the “timebase” of the timestamps (almost always 96 kHz, which means the 4-byte timestamp value needs to be divided by 96000 to get a time in seconds). The samples themselves are normally collected at 48 kHz (again, specified in the header).\n",
    "Tetrode and stereotrode data is almost identical, in that both store 4-channels worth of data per spike. The only difference is that in stereotrode mode, either channels 3&4 or 1&2 will be all zeroes, corresponding to a spike on stereotrode 1 or 2, respectively (the stereotrode format is very wasteful of file space)."
   ]
  },
  {
   "cell_type": "code",
   "execution_count": 377,
   "id": "automotive-integration",
   "metadata": {},
   "outputs": [
    {
     "data": {
      "text/plain": [
       "memmap([  0,   0,   1, ..., 100,  13,  10], dtype=int8)"
      ]
     },
     "execution_count": 377,
     "metadata": {},
     "output_type": "execute_result"
    }
   ],
   "source": [
    "data"
   ]
  },
  {
   "cell_type": "code",
   "execution_count": null,
   "id": "agreed-singer",
   "metadata": {},
   "outputs": [],
   "source": []
  },
  {
   "cell_type": "code",
   "execution_count": null,
   "id": "important-trailer",
   "metadata": {},
   "outputs": [],
   "source": []
  },
  {
   "cell_type": "code",
   "execution_count": null,
   "id": "smart-forum",
   "metadata": {},
   "outputs": [],
   "source": []
  },
  {
   "cell_type": "code",
   "execution_count": null,
   "id": "detailed-vegetation",
   "metadata": {},
   "outputs": [],
   "source": []
  },
  {
   "cell_type": "code",
   "execution_count": null,
   "id": "specialized-virgin",
   "metadata": {},
   "outputs": [],
   "source": []
  },
  {
   "cell_type": "code",
   "execution_count": null,
   "id": "operational-proportion",
   "metadata": {},
   "outputs": [],
   "source": []
  },
  {
   "cell_type": "code",
   "execution_count": null,
   "id": "exempt-final",
   "metadata": {},
   "outputs": [],
   "source": []
  },
  {
   "cell_type": "code",
   "execution_count": null,
   "id": "economic-beast",
   "metadata": {},
   "outputs": [],
   "source": []
  }
 ],
 "metadata": {
  "kernelspec": {
   "display_name": "spikeinterface",
   "language": "python",
   "name": "venv"
  },
  "language_info": {
   "codemirror_mode": {
    "name": "ipython",
    "version": 3
   },
   "file_extension": ".py",
   "mimetype": "text/x-python",
   "name": "python",
   "nbconvert_exporter": "python",
   "pygments_lexer": "ipython3",
   "version": "3.8.5"
  }
 },
 "nbformat": 4,
 "nbformat_minor": 5
}
