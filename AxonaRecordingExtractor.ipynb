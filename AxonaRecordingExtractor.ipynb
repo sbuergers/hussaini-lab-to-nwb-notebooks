{
 "cells": [
  {
   "cell_type": "code",
   "execution_count": 1,
   "id": "clean-excellence",
   "metadata": {},
   "outputs": [
    {
     "name": "stdout",
     "output_type": "stream",
     "text": [
      "3.8.5 (default, Jan 27 2021, 15:41:15) \n",
      "[GCC 9.3.0] linux /mnt/d/spikeinterface/hussaini-to-nwb/tidy_venv/venv/bin/python3\n"
     ]
    }
   ],
   "source": [
    "import sys\n",
    "print(sys.version, sys.platform, sys.executable)"
   ]
  },
  {
   "cell_type": "code",
   "execution_count": 2,
   "id": "designed-league",
   "metadata": {},
   "outputs": [
    {
     "ename": "ModuleNotFoundError",
     "evalue": "No module named 'spikeinterface'",
     "output_type": "error",
     "traceback": [
      "\u001b[0;31m---------------------------------------------------------------------------\u001b[0m",
      "\u001b[0;31mModuleNotFoundError\u001b[0m                       Traceback (most recent call last)",
      "\u001b[0;32m<ipython-input-2-530fc24443bd>\u001b[0m in \u001b[0;36m<module>\u001b[0;34m\u001b[0m\n\u001b[1;32m      7\u001b[0m \u001b[0;34m\u001b[0m\u001b[0m\n\u001b[1;32m      8\u001b[0m \u001b[0;32mimport\u001b[0m \u001b[0mnumpy\u001b[0m \u001b[0;32mas\u001b[0m \u001b[0mnp\u001b[0m\u001b[0;34m\u001b[0m\u001b[0;34m\u001b[0m\u001b[0m\n\u001b[0;32m----> 9\u001b[0;31m \u001b[0;32mimport\u001b[0m \u001b[0mspikeinterface\u001b[0m\u001b[0;34m.\u001b[0m\u001b[0mextractors\u001b[0m \u001b[0;32mas\u001b[0m \u001b[0mse\u001b[0m\u001b[0;34m\u001b[0m\u001b[0;34m\u001b[0m\u001b[0m\n\u001b[0m\u001b[1;32m     10\u001b[0m \u001b[0;34m\u001b[0m\u001b[0m\n\u001b[1;32m     11\u001b[0m \u001b[0;31m##############################################################################\u001b[0m\u001b[0;34m\u001b[0m\u001b[0;34m\u001b[0m\u001b[0;34m\u001b[0m\u001b[0m\n",
      "\u001b[0;31mModuleNotFoundError\u001b[0m: No module named 'spikeinterface'"
     ]
    }
   ],
   "source": [
    "'''\n",
    "RecordingExtractor objects\n",
    "==========================\n",
    "\n",
    "The :code:`RecordingExtractor` is the basic class for handling recorded data. Here is how it works.\n",
    "'''\n",
    "\n",
    "import numpy as np\n",
    "import spikeinterface.extractors as se\n",
    "\n",
    "##############################################################################\n",
    "# We will create a :code:`RecordingExtractor` object from scratch using :code:`numpy` and the\n",
    "# :code:`NumpyRecordingExtractor`\n",
    "#\n",
    "# Let's define the properties of the dataset\n",
    "\n",
    "num_channels = 7\n",
    "sampling_frequency = 30000  # in Hz\n",
    "duration = 20\n",
    "num_timepoints = int(sampling_frequency * duration)\n",
    "\n",
    "##############################################################################\n",
    "# We can generate a pure-noise timeseries dataset recorded by a linear probe geometry\n",
    "\n",
    "timeseries = np.random.normal(0, 10, (num_channels, num_timepoints))\n",
    "geom = np.zeros((num_channels, 2))\n",
    "geom[:, 0] = range(num_channels)\n",
    "\n",
    "##############################################################################\n",
    "# And instantiate a :code:`NumpyRecordingExtractor`:\n",
    "\n",
    "recording = se.NumpyRecordingExtractor(timeseries=timeseries, geom=geom, sampling_frequency=sampling_frequency)\n",
    "\n",
    "##############################################################################\n",
    "# We can now print properties that the :code:`RecordingExtractor` retrieves from the underlying recording.\n",
    "\n",
    "print('Num. channels = {}'.format(len(recording.get_channel_ids())))\n",
    "print('Sampling frequency = {} Hz'.format(recording.get_sampling_frequency()))\n",
    "print('Num. timepoints = {}'.format(recording.get_num_frames()))\n",
    "print('Stdev. on third channel = {}'.format(np.std(recording.get_traces(channel_ids=2))))\n",
    "print('Location of third electrode = {}'.format(recording.get_channel_property(channel_id=2, property_name='location')))\n",
    "\n",
    "##############################################################################\n",
    "# Some extractors also implement a :code:`write` function. We can for example save our newly created recording into\n",
    "# MDA format (Mountainsort4 format):\n",
    "\n",
    "se.MdaRecordingExtractor.write_recording(recording=recording, save_path='sample_mountainsort_dataset')\n",
    "\n",
    "##############################################################################\n",
    "# and read it back with the proper extractor:\n",
    "\n",
    "recording2 = se.MdaRecordingExtractor(folder_path='sample_mountainsort_dataset')\n",
    "print('Num. channels = {}'.format(len(recording2.get_channel_ids())))\n",
    "print('Sampling frequency = {} Hz'.format(recording2.get_sampling_frequency()))\n",
    "print('Num. timepoints = {}'.format(recording2.get_num_frames()))\n",
    "print('Stdev. on third channel = {}'.format(np.std(recording2.get_traces(channel_ids=2))))\n",
    "print('Location of third electrode = {}'.format(recording.get_channel_property(channel_id=2, property_name='location')))\n",
    "\n",
    "##############################################################################\n",
    "# Sometimes experiments are run with different conditions, e.g. a drug is applied, or stimulation is performed. \n",
    "# In order to define different phases of an experiment, one can use epochs:\n",
    "\n",
    "recording2.add_epoch(epoch_name='stimulation', start_frame=1000, end_frame=6000)\n",
    "recording2.add_epoch(epoch_name='post_stimulation', start_frame=6000, end_frame=10000)\n",
    "recording2.add_epoch(epoch_name='pre_stimulation', start_frame=0, end_frame=1000)\n",
    "\n",
    "recording2.get_epoch_names()\n",
    "\n",
    "##############################################################################\n",
    "# An Epoch can be retrieved and it is returned as a :code:`SubRecordingExtractor`, which is a subclass of the\n",
    "# :code:`RecordingExtractor`, hence maintaining the same functionality.\n",
    "\n",
    "recording3 = recording2.get_epoch(epoch_name='stimulation')\n",
    "epoch_info = recording2.get_epoch_info('stimulation')\n",
    "start_frame = epoch_info['start_frame']\n",
    "end_frame = epoch_info['end_frame']\n",
    "\n",
    "print('Epoch Name = stimulation')\n",
    "print('Start Frame = {}'.format(start_frame))\n",
    "print('End Frame = {}'.format(end_frame))\n",
    "print('Mean. on second channel during stimulation = {}'.format(np.mean(recording3.get_traces(channel_ids=1))))\n",
    "print('Location of third electrode = {}'.format(recording.get_channel_property(channel_id=2, property_name='location')))\n",
    "\n",
    "##############################################################################\n",
    "# :code:`SubRecordingExtractor` objects can be used to extract arbitrary subsets of your data/channels manually without\n",
    "# epoch functionality:\n",
    "\n",
    "recording4 = se.SubRecordingExtractor(parent_recording=recording2, channel_ids=[2, 3, 4, 5], start_frame=14000,\n",
    "                                      end_frame=16000)\n",
    "\n",
    "print('Num. channels = {}'.format(len(recording4.get_channel_ids())))\n",
    "print('Sampling frequency = {} Hz'.format(recording4.get_sampling_frequency()))\n",
    "print('Num. timepoints = {}'.format(recording4.get_num_frames()))\n",
    "print('Stdev. on third channel = {}'.format(np.std(recording4.get_traces(channel_ids=2))))\n",
    "print(\n",
    "    'Location of third electrode = {}'.format(recording4.get_channel_property(channel_id=2, property_name='location')))\n",
    "\n",
    "##############################################################################\n",
    "# or to remap the channel ids:\n",
    "\n",
    "recording5 = se.SubRecordingExtractor(parent_recording=recording2, channel_ids=[2, 3, 4, 5],\n",
    "                                      renamed_channel_ids=[0, 1, 2, 3],\n",
    "                                      start_frame=14000, end_frame=16000)\n",
    "print('New ids = {}'.format(recording5.get_channel_ids()))\n",
    "print('Original ids = {}'.format(recording5.get_original_channel_ids([0, 1, 2, 3])))\n",
    "print('Num. channels = {}'.format(len(recording5.get_channel_ids())))\n",
    "print('Sampling frequency = {} Hz'.format(recording5.get_sampling_frequency()))\n",
    "print('Num. timepoints = {}'.format(recording5.get_num_frames()))\n",
    "print('Stdev. on third channel = {}'.format(np.std(recording5.get_traces(channel_ids=0))))\n",
    "print(\n",
    "    'Location of third electrode = {}'.format(recording5.get_channel_property(channel_id=0, property_name='location')))\n"
   ]
  },
  {
   "cell_type": "code",
   "execution_count": 4,
   "id": "established-accuracy",
   "metadata": {},
   "outputs": [],
   "source": [
    "import spikeextractors"
   ]
  },
  {
   "cell_type": "code",
   "execution_count": 5,
   "id": "optimum-polymer",
   "metadata": {},
   "outputs": [],
   "source": [
    "from spikeextractors.extractors.neoextractors.neobaseextractor import NeoBaseRecordingExtractor, NeoBaseSortingExtractor\n",
    "from spikeextractors.extractors.neoextractors import AxonaRecordingExtractor\n",
    "#from spikeextractors.extractors.axonaunitrecordingextractor import AxonaUnitRecordingExtractor"
   ]
  },
  {
   "cell_type": "code",
   "execution_count": 10,
   "id": "extreme-robert",
   "metadata": {},
   "outputs": [],
   "source": [
    "# Establish filename\n",
    "\n",
    "import os\n",
    "\n",
    "dir_name = r'../../freelance-work/catalyst-neuro/hussaini-lab-to-nwb/example_data_raw'\n",
    "base_filename = 'axona_raw_5s'\n",
    "filename = os.path.join(dir_name, base_filename)"
   ]
  },
  {
   "cell_type": "code",
   "execution_count": 11,
   "id": "isolated-encoding",
   "metadata": {},
   "outputs": [
    {
     "name": "stdout",
     "output_type": "stream",
     "text": [
      "['0', '1', '2', '3', '4', '5', '6', '7', '8', '9', '10', '11', '12', '13', '14', '15']\n",
      "[ 0  1  2  3  4  5  6  7  8  9 10 11 12 13 14 15]\n"
     ]
    },
    {
     "data": {
      "text/plain": [
       "16"
      ]
     },
     "execution_count": 11,
     "metadata": {},
     "output_type": "execute_result"
    }
   ],
   "source": [
    "chan_ids = [str(i) for i in range(16)]\n",
    "print(chan_ids)\n",
    "chan_ids = np.array([int(i) for i in chan_ids])\n",
    "print(chan_ids)\n",
    "np.unique(chan_ids).size\n",
    "chan_ids.size"
   ]
  },
  {
   "cell_type": "code",
   "execution_count": 12,
   "id": "early-technology",
   "metadata": {},
   "outputs": [
    {
     "data": {
      "text/plain": [
       "'../../freelance-work/catalyst-neuro/hussaini-lab-to-nwb/example_data_raw/axona_raw_5s'"
      ]
     },
     "execution_count": 12,
     "metadata": {},
     "output_type": "execute_result"
    }
   ],
   "source": [
    "filename"
   ]
  },
  {
   "cell_type": "code",
   "execution_count": 13,
   "id": "owned-mason",
   "metadata": {},
   "outputs": [],
   "source": [
    "# Create axona recording extractor object\n",
    "\n",
    "axore = AxonaRecordingExtractor(filename=filename)"
   ]
  },
  {
   "cell_type": "code",
   "execution_count": 14,
   "id": "comparative-analysis",
   "metadata": {},
   "outputs": [
    {
     "data": {
      "text/plain": [
       "<spikeextractors.extractors.neoextractors.axonaextractor.AxonaRecordingExtractor at 0x7f6e086d6370>"
      ]
     },
     "execution_count": 14,
     "metadata": {},
     "output_type": "execute_result"
    }
   ],
   "source": [
    "axore"
   ]
  },
  {
   "cell_type": "code",
   "execution_count": 15,
   "id": "cordless-person",
   "metadata": {},
   "outputs": [],
   "source": [
    "recording = axore"
   ]
  },
  {
   "cell_type": "code",
   "execution_count": 17,
   "id": "applied-circulation",
   "metadata": {},
   "outputs": [
    {
     "name": "stdout",
     "output_type": "stream",
     "text": [
      "Channel ids = [1, 2, 3, 4, 5, 6, 7, 8, 9, 10, 11, 12, 13, 14, 15, 16]\n",
      "Num. channels = 16\n",
      "Sampling frequency = 48000.0 Hz\n",
      "Num. timepoints = 720000\n",
      "Stdev. on third channel = 6875.3564453125\n",
      "Location of third electrode = [nan nan]\n"
     ]
    }
   ],
   "source": [
    "print('Channel ids = {}'.format(recording.get_channel_ids()))\n",
    "print('Num. channels = {}'.format(len(recording.get_channel_ids())))\n",
    "print('Sampling frequency = {} Hz'.format(recording.get_sampling_frequency()))\n",
    "print('Num. timepoints = {}'.format(recording.get_num_frames()))\n",
    "print('Stdev. on third channel = {}'.format(np.std(recording.get_traces(channel_ids=2))))\n",
    "print('Location of third electrode = {}'.format(recording.get_channel_property(channel_id=2, property_name='location')))"
   ]
  },
  {
   "cell_type": "code",
   "execution_count": null,
   "id": "parental-given",
   "metadata": {},
   "outputs": [],
   "source": []
  },
  {
   "cell_type": "markdown",
   "id": "maritime-consent",
   "metadata": {},
   "source": [
    "Try to get to `seg_ann['signals'][0]['__array_annotations__']['tetrode_id']`, defined in axonarawio for python-neo"
   ]
  },
  {
   "cell_type": "code",
   "execution_count": 21,
   "id": "interim-attendance",
   "metadata": {},
   "outputs": [],
   "source": [
    "from neo import AxonaIO"
   ]
  },
  {
   "cell_type": "code",
   "execution_count": 22,
   "id": "square-nudist",
   "metadata": {},
   "outputs": [],
   "source": [
    "axneo = AxonaIO(filename=filename)"
   ]
  },
  {
   "cell_type": "code",
   "execution_count": 23,
   "id": "valid-happiness",
   "metadata": {},
   "outputs": [
    {
     "data": {
      "text/plain": [
       "AxonaIO: ../../freelance-work/catalyst-neuro/hussaini-lab-to-nwb/example_data_raw/axona_raw_5s\n",
       "nb_block: 1\n",
       "nb_segment:  [1]\n",
       "signal_streams: [stream 0 (chans: 16)]\n",
       "signal_channels: [0a, 0b, 0c, 0d ... 3a , 3b , 3c , 3d]\n",
       "spike_channels: []\n",
       "event_channels: []"
      ]
     },
     "execution_count": 23,
     "metadata": {},
     "output_type": "execute_result"
    }
   ],
   "source": [
    "axneo"
   ]
  },
  {
   "cell_type": "code",
   "execution_count": 37,
   "id": "chemical-kernel",
   "metadata": {},
   "outputs": [],
   "source": [
    "from spikeextractors.extractors.neoextractors.neobaseextractor import NeoBaseRecordingExtractor\n",
    "\n",
    "try:\n",
    "    import neo\n",
    "\n",
    "    HAVE_NEO = True\n",
    "except ImportError:\n",
    "    HAVE_NEO = False\n",
    "\n",
    "\n",
    "class AxonaRecordingExtractor(NeoBaseRecordingExtractor):\n",
    "    extractor_name = 'AxonaRecording'\n",
    "    mode = 'file'\n",
    "    NeoRawIOClass = 'AxonaRawIO'\n",
    "\n",
    "    def __init__(self, **kargs):\n",
    "        NeoBaseRecordingExtractor.__init__(self, **kargs)  # is this actually needed?\n",
    "        self._key_properties['group'] = [i for i in range(16)]"
   ]
  },
  {
   "cell_type": "code",
   "execution_count": 38,
   "id": "dietary-shirt",
   "metadata": {},
   "outputs": [],
   "source": [
    "axore = AxonaRecordingExtractor(filename=filename)"
   ]
  },
  {
   "cell_type": "code",
   "execution_count": 39,
   "id": "impaired-digest",
   "metadata": {},
   "outputs": [
    {
     "data": {
      "text/plain": [
       "<__main__.AxonaRecordingExtractor at 0x7f6de8891580>"
      ]
     },
     "execution_count": 39,
     "metadata": {},
     "output_type": "execute_result"
    }
   ],
   "source": [
    "axore"
   ]
  },
  {
   "cell_type": "code",
   "execution_count": 40,
   "id": "mediterranean-mercy",
   "metadata": {},
   "outputs": [],
   "source": [
    "recording = axore"
   ]
  },
  {
   "cell_type": "code",
   "execution_count": 41,
   "id": "diagnostic-israeli",
   "metadata": {},
   "outputs": [
    {
     "data": {
      "text/plain": [
       "array([ 0,  1,  2,  3,  4,  5,  6,  7,  8,  9, 10, 11, 12, 13, 14, 15])"
      ]
     },
     "execution_count": 41,
     "metadata": {},
     "output_type": "execute_result"
    }
   ],
   "source": [
    "recording.get_channel_groups()"
   ]
  },
  {
   "cell_type": "code",
   "execution_count": 42,
   "id": "funny-chart",
   "metadata": {},
   "outputs": [
    {
     "name": "stdout",
     "output_type": "stream",
     "text": [
      "Channel groups: [ 0  1  2  3  4  5  6  7  8  9 10 11 12 13 14 15]\n"
     ]
    }
   ],
   "source": [
    "print('Channel groups:', recording.get_channel_groups())"
   ]
  },
  {
   "cell_type": "code",
   "execution_count": 34,
   "id": "guilty-programming",
   "metadata": {},
   "outputs": [
    {
     "name": "stdout",
     "output_type": "stream",
     "text": [
      "Channel ids = [1, 2, 3, 4, 5, 6, 7, 8, 9, 10, 11, 12, 13, 14, 15, 16]\n",
      "Num. channels = 16\n",
      "Sampling frequency = 48000.0 Hz\n",
      "Num. timepoints = 720000\n",
      "Stdev. on third channel = 6875.3564453125\n",
      "Location of third electrode = [nan nan]\n"
     ]
    }
   ],
   "source": [
    "print('Channel ids = {}'.format(recording.get_channel_ids()))\n",
    "print('Num. channels = {}'.format(len(recording.get_channel_ids())))\n",
    "print('Sampling frequency = {} Hz'.format(recording.get_sampling_frequency()))\n",
    "print('Num. timepoints = {}'.format(recording.get_num_frames()))\n",
    "print('Stdev. on third channel = {}'.format(np.std(recording.get_traces(channel_ids=2))))\n",
    "print('Location of third electrode = {}'.format(recording.get_channel_property(channel_id=2, property_name='location')))"
   ]
  },
  {
   "cell_type": "code",
   "execution_count": 43,
   "id": "exempt-ethics",
   "metadata": {},
   "outputs": [],
   "source": [
    "# find annotations:\n",
    "# seg_ann['signals'][0]['__array_annotations__']['tetrode_id']"
   ]
  },
  {
   "cell_type": "code",
   "execution_count": 49,
   "id": "minor-hamburg",
   "metadata": {},
   "outputs": [
    {
     "data": {
      "text/plain": [
       "AxonaIO: ../../freelance-work/catalyst-neuro/hussaini-lab-to-nwb/example_data_raw/axona_raw_5s\n",
       "nb_block: 1\n",
       "nb_segment:  [1]\n",
       "signal_streams: [stream 0 (chans: 16)]\n",
       "signal_channels: [0a, 0b, 0c, 0d ... 3a , 3b , 3c , 3d]\n",
       "spike_channels: []\n",
       "event_channels: []"
      ]
     },
     "execution_count": 49,
     "metadata": {},
     "output_type": "execute_result"
    }
   ],
   "source": [
    "axneo"
   ]
  },
  {
   "cell_type": "code",
   "execution_count": 53,
   "id": "automatic-garbage",
   "metadata": {},
   "outputs": [
    {
     "data": {
      "text/plain": [
       "[1, 2, 3, 4]"
      ]
     },
     "execution_count": 53,
     "metadata": {},
     "output_type": "execute_result"
    }
   ],
   "source": [
    "axneo.get_active_tetrode()"
   ]
  },
  {
   "cell_type": "code",
   "execution_count": null,
   "id": "younger-salon",
   "metadata": {},
   "outputs": [],
   "source": [
    "# I think the update I did with Sam actually does nto pass the new annotations through. Is that correct?\n",
    "# If it is, fix and create a new PR. "
   ]
  },
  {
   "cell_type": "code",
   "execution_count": 64,
   "id": "adolescent-evening",
   "metadata": {},
   "outputs": [
    {
     "data": {
      "text/plain": [
       "{'channel_names': array(['0a', '0b', '0c', '0d', '1a', '1b', '1c', '1d', '2a', '2b', '2c',\n",
       "        '2d', '3a', '3b', '3c', '3d'], dtype='<U2'),\n",
       " 'channel_ids': array(['1', '2', '3', '4', '5', '6', '7', '8', '9', '10', '11', '12',\n",
       "        '13', '14', '15', '16'], dtype='<U2')}"
      ]
     },
     "execution_count": 64,
     "metadata": {},
     "output_type": "execute_result"
    }
   ],
   "source": [
    "axneo.raw_annotations['blocks'][0]['segments'][0]['signals'][0]['__array_annotations__']['tetrode_id']"
   ]
  },
  {
   "cell_type": "markdown",
   "id": "mechanical-serial",
   "metadata": {},
   "source": [
    "# Try axonaunitextractor (written by Alessio)"
   ]
  },
  {
   "cell_type": "code",
   "execution_count": 14,
   "id": "sustainable-delhi",
   "metadata": {},
   "outputs": [
    {
     "name": "stdout",
     "output_type": "stream",
     "text": [
      "../../freelance-work/catalyst-neuro/hussaini-lab-to-nwb/example_data_units/Axona_Unit_Mode_SmallFile/20140815-180secs\n"
     ]
    }
   ],
   "source": [
    "# mini sample data\n",
    "unit_dir_name = r'../../freelance-work/catalyst-neuro/hussaini-lab-to-nwb/example_data_units/Axona_Unit_Mode_SmallFile'\n",
    "unit_base_filename = '20140815-180secs'\n",
    "unit_filename = os.path.join(unit_dir_name, unit_base_filename)\n",
    "\n",
    "# 1ms sample data\n",
    "#unit_dir_name = r'../../freelance-work/catalyst-neuro/hussaini-lab-to-nwb/Axona_Tint_1ms'\n",
    "#unit_base_filename = '20201004_Tint'\n",
    "#unit_filename = os.path.join(unit_dir_name, unit_base_filename)\n",
    "\n",
    "print(unit_filename)"
   ]
  },
  {
   "cell_type": "code",
   "execution_count": 7,
   "id": "recovered-bishop",
   "metadata": {},
   "outputs": [],
   "source": [
    "from spikeextractors.extraction_tools import check_get_traces_args\n",
    "from spikeextractors import RecordingExtractor\n",
    "from pathlib import Path\n",
    "import numpy as np\n",
    "from typing import Union\n",
    "\n",
    "PathType = Union[Path, str]\n",
    "\n",
    "\n",
    "try:\n",
    "    import pyxona\n",
    "    HAVE_PYXONA = True\n",
    "except ImportError:\n",
    "    HAVE_PYXONA = False\n",
    "\n",
    "\n",
    "class AxonaUnitRecordingExtractor(RecordingExtractor):\n",
    "    \"\"\"\n",
    "    Instantiates a RecordinExtractor from an Axon Unit mode file.\n",
    "\n",
    "    Since the unit mode format only saves waveforms cutouts, the get_traces function fills in the rest of the\n",
    "    recording with Gaussian uncorrelated noise\n",
    "\n",
    "    Parameters\n",
    "    ----------\n",
    "\n",
    "    file_path: Path type\n",
    "        The file path to the .set file\n",
    "    noise_std: float\n",
    "        Standard deviation of the Gaussian background noise\n",
    "    \"\"\"\n",
    "    extractor_name = 'AxonaUnitRecording'\n",
    "    has_default_locations = False\n",
    "    has_unscaled = False\n",
    "    installed = HAVE_PYXONA  # check at class level if installed or not\n",
    "    is_writable = False\n",
    "    mode = 'file'\n",
    "    installation_mesg = \"To use the AxonaUnitRecordingExtractor install pyxona: \\n\\n pip install pyxona\\n\\n\"\n",
    "\n",
    "    def __init__(self, file_path: PathType, noise_std: float = 3):\n",
    "        RecordingExtractor.__init__(self)\n",
    "        self._fileobj = pyxona.File(str(file_path))\n",
    "\n",
    "        channel_ids = []\n",
    "        channel_groups = []\n",
    "        spike_trains = []\n",
    "        channel_indexes = []\n",
    "        waveforms = []\n",
    "        for i, chan_grp in enumerate(self._fileobj.channel_groups):\n",
    "            sample_rate = chan_grp.spike_train.sample_rate.magnitude\n",
    "            if i == 0:\n",
    "                self._fs = sample_rate\n",
    "            spike_trains.append(np.array(chan_grp.spike_train.times.magnitude * sample_rate).astype(int))\n",
    "            waveforms.append(chan_grp.spike_train.waveforms)\n",
    "            channel_indexes.append([ch.index for ch in chan_grp.channels])\n",
    "            for ch in chan_grp.channels:\n",
    "                channel_ids.append(ch.index)\n",
    "                channel_groups.append(chan_grp.channel_group_id)\n",
    "\n",
    "        self._waveforms = waveforms\n",
    "        self._spike_trains = spike_trains\n",
    "        self._channel_indexes = channel_indexes\n",
    "        self._channel_ids = channel_ids\n",
    "\n",
    "        self._num_frames = int((self._fileobj._duration.magnitude * sample_rate))\n",
    "\n",
    "        self._noise_std = noise_std\n",
    "\n",
    "        # set groups\n",
    "        self.set_channel_groups(channel_groups)\n",
    "\n",
    "        self._kwargs = {'file_path': Path(file_path).absolute(), 'noise_std': noise_std}\n",
    "\n",
    "    def get_channel_ids(self):\n",
    "        return self._channel_ids\n",
    "\n",
    "    def get_sampling_frequency(self):\n",
    "        return self._fs\n",
    "\n",
    "    def get_num_frames(self):\n",
    "        return self._num_frames\n",
    "\n",
    "    @check_get_traces_args\n",
    "    def get_traces(self, channel_ids=None, start_frame=None, end_frame=None, return_scaled=True):\n",
    "        \n",
    "        num_frames_traces = end_frame - start_frame\n",
    "        traces = unit._noise_std * np.random.randn(len(channel_ids), num_frames_traces)\n",
    "\n",
    "        channel_idxs = [unit.get_channel_ids().index(ch) for ch in channel_ids]\n",
    "\n",
    "        itrc = 0\n",
    "        for (chan_idxs, spike_train, waveform) in zip(unit._channel_indexes, unit._spike_trains, unit._waveforms):\n",
    "\n",
    "            # Find channels on tetrode to include and their indices\n",
    "            chan_sublist = list(set(channel_idxs) & set(chan_idxs))\n",
    "            chan_sublist_idxs = [i for i, val in enumerate(chan_idxs) if val in chan_sublist]\n",
    "            nch = len(chan_sublist_idxs)\n",
    "\n",
    "            spike_times_idxs = np.where((spike_train > start_frame) & (spike_train <= end_frame))\n",
    "            spike_times_i = spike_train[spike_times_idxs]  # spike_train is in samples (so spike_times_i is too)\n",
    "\n",
    "            waveforms_i = waveform[spike_times_idxs]\n",
    "            wf_samples = waveforms_i.shape[2]\n",
    "\n",
    "            if chan_sublist:\n",
    "\n",
    "                for t, wf in zip(spike_times_i, waveforms_i):\n",
    "\n",
    "                    t = t - start_frame\n",
    "\n",
    "                    if t - wf_samples // 2 < 0:\n",
    "                        traces[itrc:itrc+nch, :t + wf_samples // 2] = \\\n",
    "                            wf[chan_sublist_idxs, wf_samples // 2 - t:]\n",
    "                    elif t + wf_samples // 2 > num_frames_traces:\n",
    "                        traces[itrc:itrc+nch, t - wf_samples // 2:] = \\\n",
    "                            wf[chan_sublist_idxs, :num_frames_traces - (t + wf_samples // 2)]\n",
    "                    else:\n",
    "                        traces[itrc:itrc+nch, t - wf_samples // 2:t + wf_samples // 2] = \\\n",
    "                            wf[chan_sublist_idxs, :]\n",
    "\n",
    "                itrc += nch\n",
    "                \n",
    "        return traces"
   ]
  },
  {
   "cell_type": "code",
   "execution_count": 8,
   "id": "macro-deputy",
   "metadata": {},
   "outputs": [
    {
     "ename": "NameError",
     "evalue": "name 'unit_filename' is not defined",
     "output_type": "error",
     "traceback": [
      "\u001b[0;31m---------------------------------------------------------------------------\u001b[0m",
      "\u001b[0;31mNameError\u001b[0m                                 Traceback (most recent call last)",
      "\u001b[0;32m<ipython-input-8-f5fbab6e7811>\u001b[0m in \u001b[0;36m<module>\u001b[0;34m\u001b[0m\n\u001b[0;32m----> 1\u001b[0;31m \u001b[0munit\u001b[0m \u001b[0;34m=\u001b[0m \u001b[0mAxonaUnitRecordingExtractor\u001b[0m\u001b[0;34m(\u001b[0m\u001b[0mfile_path\u001b[0m\u001b[0;34m=\u001b[0m\u001b[0munit_filename\u001b[0m\u001b[0;34m+\u001b[0m\u001b[0;34m'.set'\u001b[0m\u001b[0;34m)\u001b[0m\u001b[0;34m\u001b[0m\u001b[0;34m\u001b[0m\u001b[0m\n\u001b[0m",
      "\u001b[0;31mNameError\u001b[0m: name 'unit_filename' is not defined"
     ]
    }
   ],
   "source": [
    "unit = AxonaUnitRecordingExtractor(file_path=unit_filename+'.set')"
   ]
  },
  {
   "cell_type": "code",
   "execution_count": 9,
   "id": "closed-choice",
   "metadata": {},
   "outputs": [
    {
     "ename": "NameError",
     "evalue": "name 'unit' is not defined",
     "output_type": "error",
     "traceback": [
      "\u001b[0;31m---------------------------------------------------------------------------\u001b[0m",
      "\u001b[0;31mNameError\u001b[0m                                 Traceback (most recent call last)",
      "\u001b[0;32m<ipython-input-9-832348d38b0d>\u001b[0m in \u001b[0;36m<module>\u001b[0;34m\u001b[0m\n\u001b[0;32m----> 1\u001b[0;31m \u001b[0munit\u001b[0m\u001b[0;34m.\u001b[0m\u001b[0m_channel_indexes\u001b[0m\u001b[0;34m\u001b[0m\u001b[0;34m\u001b[0m\u001b[0m\n\u001b[0m",
      "\u001b[0;31mNameError\u001b[0m: name 'unit' is not defined"
     ]
    }
   ],
   "source": [
    "unit._channel_indexes"
   ]
  },
  {
   "cell_type": "code",
   "execution_count": 56,
   "id": "equal-overall",
   "metadata": {},
   "outputs": [
    {
     "data": {
      "text/plain": [
       "[0, 1, 2, 3, 4, 5, 6, 7, 8, 9, 10, 11, 12, 13, 14, 15]"
      ]
     },
     "execution_count": 56,
     "metadata": {},
     "output_type": "execute_result"
    }
   ],
   "source": [
    "unit.get_channel_ids()"
   ]
  },
  {
   "cell_type": "code",
   "execution_count": 57,
   "id": "necessary-indonesia",
   "metadata": {},
   "outputs": [
    {
     "data": {
      "text/plain": [
       "[array([    160,    1044,    1920, ..., 8637858, 8638259, 8639425]),\n",
       " array([    530,     938,     995, ..., 8638720, 8639361, 8639423]),\n",
       " array([    928,    1182,    3472, ..., 8636569, 8637261, 8639204]),\n",
       " array([    564,    1194,    1309, ..., 8637066, 8637480, 8638778])]"
      ]
     },
     "execution_count": 57,
     "metadata": {},
     "output_type": "execute_result"
    }
   ],
   "source": [
    "unit._spike_trains"
   ]
  },
  {
   "cell_type": "code",
   "execution_count": 58,
   "id": "reverse-cathedral",
   "metadata": {},
   "outputs": [
    {
     "data": {
      "text/plain": [
       "array(48000.)"
      ]
     },
     "execution_count": 58,
     "metadata": {},
     "output_type": "execute_result"
    }
   ],
   "source": [
    "unit._fs"
   ]
  },
  {
   "cell_type": "code",
   "execution_count": 59,
   "id": "broadband-cardiff",
   "metadata": {},
   "outputs": [
    {
     "name": "stdout",
     "output_type": "stream",
     "text": [
      "Num. channels = 16\n",
      "Sampling frequency = 48000.0 Hz\n",
      "Num. timepoints = 8640000\n",
      "Stdev. on third channel = 17.234437878418895\n",
      "Location of third electrode = [nan nan]\n"
     ]
    }
   ],
   "source": [
    "print('Num. channels = {}'.format(len(unit.get_channel_ids())))\n",
    "print('Sampling frequency = {} Hz'.format(unit.get_sampling_frequency()))\n",
    "print('Num. timepoints = {}'.format(unit.get_num_frames()))\n",
    "print('Stdev. on third channel = {}'.format(np.std(unit.get_traces(channel_ids=2))))\n",
    "print('Location of third electrode = {}'.format(unit.get_channel_property(channel_id=2, property_name='location')))"
   ]
  },
  {
   "cell_type": "markdown",
   "id": "broken-lecture",
   "metadata": {},
   "source": [
    "Should the time window where waveforms are filled in not be centered at 200 us? In the original data a spike event is cut out by taking the 200 us prior to and 800 us post-event. So the `t - wf_samples // 2:t + wf_samples // 2` might be incorrect. Plot to see whether that's the case:"
   ]
  },
  {
   "cell_type": "code",
   "execution_count": 60,
   "id": "spatial-iceland",
   "metadata": {},
   "outputs": [],
   "source": [
    "# Get 100ms worth of traces\n",
    "traces = unit.get_traces(channel_ids=2, start_frame=0, end_frame=4800)"
   ]
  },
  {
   "cell_type": "code",
   "execution_count": 61,
   "id": "received-slave",
   "metadata": {},
   "outputs": [],
   "source": [
    "import matplotlib.pyplot as plt"
   ]
  },
  {
   "cell_type": "code",
   "execution_count": 68,
   "id": "printable-cookbook",
   "metadata": {},
   "outputs": [
    {
     "name": "stdout",
     "output_type": "stream",
     "text": [
      "Tetrode has 15941 spikes over 4 electrodes with 50 samples each.\n"
     ]
    },
    {
     "data": {
      "text/plain": [
       "[<matplotlib.lines.Line2D at 0x7ffd582643d0>]"
      ]
     },
     "execution_count": 68,
     "metadata": {},
     "output_type": "execute_result"
    },
    {
     "data": {
      "image/png": "[encoded data removed]",
      "text/plain": [
       "<Figure size 576x576 with 4 Axes>"
      ]
     },
     "metadata": {
      "needs_background": "light"
     },
     "output_type": "display_data"
    }
   ],
   "source": [
    "# Consider 1st tetrode and plot some example waveforms\n",
    "\n",
    "tetrode_id = 0\n",
    "waves = unit._waveforms[tetrode_id]\n",
    "print('Tetrode has {} spikes over {} electrodes with {} samples each.'\\\n",
    "      .format(waves.shape[0], waves.shape[1], waves.shape[2]))\n",
    "\n",
    "N = 10\n",
    "\n",
    "plt.subplots(figsize=(8, 8))\n",
    "ax = plt.axes()\n",
    "\n",
    "x = np.linspace(-200, 800, 50)\n",
    "for i in range(0,N):\n",
    "    ax1 = plt.subplot(2, 2, 1)\n",
    "    ax1.set_title(\"{} example waveforms\".format(N))\n",
    "    plt.plot(x, waves[i,1,:])\n",
    "    plt.subplot(2, 2, 3)\n",
    "    plt.plot(x, waves[i+N,1,:])\n",
    "ax2 = plt.subplot(2, 2, 2)\n",
    "ax2.set_title(\"Averaged over samples\")\n",
    "plt.plot(x, np.mean(waves[0:N,1,:], axis=0))\n",
    "plt.subplot(2, 2, 4)\n",
    "plt.plot(x, np.mean(waves[N+1:N+N,1,:], axis=0))"
   ]
  },
  {
   "cell_type": "code",
   "execution_count": 15,
   "id": "violent-layer",
   "metadata": {},
   "outputs": [],
   "source": [
    "# From https://github.com/HussainiLab/BinConverter/blob/master/BinConverter/core/Tint_Matlab.py\n",
    "\n",
    "def get_setfile_parameter(parameter, set_filename):\n",
    "    \"\"\"\n",
    "    This function will return the parameter value of a given parameter name for a given set filename.\n",
    "    Args:\n",
    "        parameter (str): the name of the set file parameter that you want to obtain.\n",
    "        set_filename (str): the full path of the .set file that you want to obtain the parameter value from.\n",
    "    Returns:\n",
    "        parameter_value (str): the value for the given parameter\n",
    "    \"\"\"\n",
    "\n",
    "    if not os.path.exists(set_filename):\n",
    "        return\n",
    "\n",
    "    with open(set_filename, 'r+', encoding='cp1252') as f:\n",
    "        for line in f:\n",
    "            if parameter in line:\n",
    "                if line.split(' ')[0] == parameter:\n",
    "                    \n",
    "                    # prevents part of the parameter being in another parameter name\n",
    "                    new_line = line.strip().split(' ')\n",
    "                    if len(new_line) == 2:\n",
    "                        return new_line[-1]\n",
    "                    else:\n",
    "                        return ' '.join(new_line[1:])"
   ]
  },
  {
   "cell_type": "code",
   "execution_count": 16,
   "id": "therapeutic-partner",
   "metadata": {},
   "outputs": [],
   "source": [
    "def parse_generic_header(filename):\n",
    "    \"\"\"\n",
    "    Given a binary file with phrases and line breaks, enters the\n",
    "    first word of a phrase as dictionary key and the following\n",
    "    string (without linebreaks) as value. Returns the dictionary.\n",
    "    \"\"\"\n",
    "    header = {}\n",
    "    with open(filename, 'rb') as f:\n",
    "        for bin_line in f:\n",
    "            if b'data_start' in bin_line:\n",
    "                break\n",
    "            line = bin_line.decode('cp1252').replace('\\r\\n', '').replace('\\r', '').strip()\n",
    "            parts = line.split(' ')\n",
    "            key = parts[0]\n",
    "            value = ' '.join(parts[1:])\n",
    "            header[key] = value\n",
    "            \n",
    "    return header"
   ]
  },
  {
   "cell_type": "code",
   "execution_count": 17,
   "id": "dress-toilet",
   "metadata": {},
   "outputs": [
    {
     "name": "stdout",
     "output_type": "stream",
     "text": [
      "10\n",
      "40\n"
     ]
    }
   ],
   "source": [
    "set_params = parse_generic_header(unit_filename+'.set')\n",
    "print(set_params['pretrigSamps'])\n",
    "print(set_params['spikeLockout'])"
   ]
  },
  {
   "cell_type": "code",
   "execution_count": 18,
   "id": "natural-federation",
   "metadata": {},
   "outputs": [],
   "source": [
    "pre_spike_samples = int(get_setfile_parameter('pretrigSamps', unit_filename+'.set'))\n",
    "post_spike_samples = int(get_setfile_parameter('spikeLockout', unit_filename+'.set'))"
   ]
  },
  {
   "cell_type": "code",
   "execution_count": 19,
   "id": "pleased-netscape",
   "metadata": {},
   "outputs": [
    {
     "name": "stdout",
     "output_type": "stream",
     "text": [
      "samples pre-spike: 10\n",
      "samples post-spike: 40\n"
     ]
    }
   ],
   "source": [
    "print('samples pre-spike:', pre_spike_samples)\n",
    "print('samples post-spike:', post_spike_samples)"
   ]
  },
  {
   "cell_type": "code",
   "execution_count": null,
   "id": "behavioral-innocent",
   "metadata": {},
   "outputs": [],
   "source": []
  },
  {
   "cell_type": "code",
   "execution_count": 28,
   "id": "amazing-lawyer",
   "metadata": {},
   "outputs": [
    {
     "name": "stdout",
     "output_type": "stream",
     "text": [
      "0 204 [0, 1, 2, 3] 4\n",
      "0 361 [0, 1, 2, 3] 4\n",
      "0 419 [0, 1, 2, 3] 4\n",
      "0 581 [0, 1, 2, 3] 4\n",
      "0 1060 [0, 1, 2, 3] 4\n",
      "0 1478 [0, 1, 2, 3] 4\n",
      "0 1877 [0, 1, 2, 3] 4\n",
      "0 2451 [0, 1, 2, 3] 4\n",
      "0 2492 [0, 1, 2, 3] 4\n",
      "0 2680 [0, 1, 2, 3] 4\n",
      "0 2729 [0, 1, 2, 3] 4\n",
      "0 2810 [0, 1, 2, 3] 4\n",
      "0 3193 [0, 1, 2, 3] 4\n",
      "0 3374 [0, 1, 2, 3] 4\n",
      "0 3435 [0, 1, 2, 3] 4\n",
      "0 3485 [0, 1, 2, 3] 4\n",
      "0 3530 [0, 1, 2, 3] 4\n",
      "0 3695 [0, 1, 2, 3] 4\n",
      "0 3751 [0, 1, 2, 3] 4\n",
      "0 3828 [0, 1, 2, 3] 4\n",
      "0 4046 [0, 1, 2, 3] 4\n",
      "0 4396 [0, 1, 2, 3] 4\n",
      "0 4450 [0, 1, 2, 3] 4\n",
      "0 4673 [0, 1, 2, 3] 4\n",
      "0 4724 [0, 1, 2, 3] 4\n",
      "0 4777 [0, 1, 2, 3] 4\n",
      "0 4821 [0, 1, 2, 3] 4\n",
      "0 4874 [0, 1, 2, 3] 4\n",
      "0 5023 [0, 1, 2, 3] 4\n",
      "0 5567 [0, 1, 2, 3] 4\n",
      "0 5608 [0, 1, 2, 3] 4\n",
      "0 5671 [0, 1, 2, 3] 4\n",
      "0 5726 [0, 1, 2, 3] 4\n",
      "0 6087 [0, 1, 2, 3] 4\n",
      "0 6159 [0, 1, 2, 3] 4\n",
      "0 6207 [0, 1, 2, 3] 4\n",
      "0 6552 [0, 1, 2, 3] 4\n",
      "0 6938 [0, 1, 2, 3] 4\n",
      "0 7254 [0, 1, 2, 3] 4\n",
      "0 7347 [0, 1, 2, 3] 4\n",
      "0 7619 [0, 1, 2, 3] 4\n",
      "0 7685 [0, 1, 2, 3] 4\n",
      "0 7738 [0, 1, 2, 3] 4\n",
      "0 7886 [0, 1, 2, 3] 4\n",
      "0 7988 [0, 1, 2, 3] 4\n",
      "0 8170 [0, 1, 2, 3] 4\n",
      "0 8221 [0, 1, 2, 3] 4\n",
      "0 8271 [0, 1, 2, 3] 4\n",
      "0 8524 [0, 1, 2, 3] 4\n",
      "0 8654 [0, 1, 2, 3] 4\n",
      "0 8875 [0, 1, 2, 3] 4\n",
      "0 9015 [0, 1, 2, 3] 4\n",
      "0 9107 [0, 1, 2, 3] 4\n",
      "0 9227 [0, 1, 2, 3] 4\n",
      "0 9397 [0, 1, 2, 3] 4\n",
      "0 9556 [0, 1, 2, 3] 4\n",
      "0 9710 [0, 1, 2, 3] 4\n",
      "0 9770 [0, 1, 2, 3] 4\n",
      "4 155 [0, 1] 2\n",
      "4 197 [0, 1] 2\n",
      "4 442 [0, 1] 2\n",
      "4 538 [0, 1] 2\n",
      "4 1611 [0, 1] 2\n",
      "4 1887 [0, 1] 2\n",
      "4 1975 [0, 1] 2\n",
      "4 2160 [0, 1] 2\n",
      "4 2431 [0, 1] 2\n",
      "4 2961 [0, 1] 2\n",
      "4 3236 [0, 1] 2\n",
      "4 3334 [0, 1] 2\n",
      "4 3532 [0, 1] 2\n",
      "4 3738 [0, 1] 2\n",
      "4 4893 [0, 1] 2\n",
      "4 6224 [0, 1] 2\n",
      "4 6312 [0, 1] 2\n",
      "4 6462 [0, 1] 2\n",
      "4 7600 [0, 1] 2\n",
      "4 8916 [0, 1] 2\n",
      "4 9076 [0, 1] 2\n",
      "4 9968 [0, 1] 2\n",
      "6 309 [2, 3] 2\n",
      "6 349 [2, 3] 2\n",
      "6 389 [2, 3] 2\n",
      "6 508 [2, 3] 2\n",
      "6 674 [2, 3] 2\n",
      "6 1642 [2, 3] 2\n",
      "6 2128 [2, 3] 2\n",
      "6 2283 [2, 3] 2\n",
      "6 2373 [2, 3] 2\n",
      "6 2771 [2, 3] 2\n",
      "6 3032 [2, 3] 2\n",
      "6 3079 [2, 3] 2\n",
      "6 3119 [2, 3] 2\n",
      "6 3358 [2, 3] 2\n",
      "6 3868 [2, 3] 2\n",
      "6 4112 [2, 3] 2\n",
      "6 4448 [2, 3] 2\n",
      "6 5072 [2, 3] 2\n",
      "6 5174 [2, 3] 2\n",
      "6 5449 [2, 3] 2\n",
      "6 5785 [2, 3] 2\n",
      "6 5826 [2, 3] 2\n",
      "6 6204 [2, 3] 2\n",
      "6 6329 [2, 3] 2\n",
      "6 6763 [2, 3] 2\n",
      "6 7380 [2, 3] 2\n",
      "6 7739 [2, 3] 2\n",
      "6 7922 [2, 3] 2\n",
      "6 8035 [2, 3] 2\n",
      "6 8221 [2, 3] 2\n",
      "6 8262 [2, 3] 2\n",
      "6 8818 [2, 3] 2\n",
      "6 8959 [2, 3] 2\n",
      "6 9226 [2, 3] 2\n",
      "6 9281 [2, 3] 2\n",
      "6 9431 [2, 3] 2\n",
      "6 9590 [2, 3] 2\n",
      "6 9824 [2, 3] 2\n",
      "6 9925 [2, 3] 2\n",
      "6 9969 [2, 3] 2\n"
     ]
    }
   ],
   "source": [
    "end_frame = 10000\n",
    "start_frame = 0\n",
    "channel_ids = [0,1,2,3,4,5,14,15]\n",
    "return_scaled = True\n",
    "\n",
    "num_frames_traces = end_frame - start_frame\n",
    "traces = unit._noise_std * np.random.randn(len(channel_ids), num_frames_traces)\n",
    "\n",
    "channel_idxs = [unit.get_channel_ids().index(ch) for ch in channel_ids]  # not used!\n",
    "\n",
    "itrc = 0\n",
    "for (chan_idxs, spike_train, waveform) in zip(unit._channel_indexes, unit._spike_trains, unit._waveforms):\n",
    "    \n",
    "    # Find channels on tetrode to include and their indices\n",
    "    chan_sublist = list(set(channel_idxs) & set(chan_idxs))\n",
    "    chan_sublist_idxs = [i for i, val in enumerate(chan_idxs) if val in chan_sublist]\n",
    "    nch = len(chan_sublist_idxs)\n",
    "                \n",
    "    spike_times_idxs = np.where((spike_train > start_frame) & (spike_train <= end_frame))\n",
    "    spike_times_i = spike_train[spike_times_idxs]  # spike_train is in samples (so spike_times_i is too)\n",
    "\n",
    "    waveforms_i = waveform[spike_times_idxs]\n",
    "    wf_samples = waveforms_i.shape[2]\n",
    "\n",
    "    #print((chan_idxs, spike_train[0:3], waveform[0:2,0:2,0:2]))\n",
    "    \n",
    "    if chan_sublist:\n",
    "        \n",
    "        for t, wf in zip(spike_times_i, waveforms_i):\n",
    "            \n",
    "            print(itrc, t, chan_sublist_idxs, nch)\n",
    "            \n",
    "            t = t - start_frame\n",
    "\n",
    "            if t - wf_samples // 2 < 0:\n",
    "                traces[itrc:itrc+nch, :t + wf_samples // 2] = \\\n",
    "                    wf[chan_sublist_idxs, wf_samples // 2 - t:]\n",
    "            elif t + wf_samples // 2 > num_frames_traces:\n",
    "                traces[itrc:itrc+nch, t - wf_samples // 2:] = \\\n",
    "                    wf[chan_sublist_idxs, :num_frames_traces - (t + wf_samples // 2)]\n",
    "            else:\n",
    "                traces[itrc:itrc+nch, t - wf_samples // 2:t + wf_samples // 2] = \\\n",
    "                    wf[chan_sublist_idxs, :]\n",
    "                \n",
    "        itrc += nch"
   ]
  },
  {
   "cell_type": "markdown",
   "id": "appropriate-state",
   "metadata": {},
   "source": [
    "# Pyxona core"
   ]
  },
  {
   "cell_type": "code",
   "execution_count": 69,
   "id": "rough-aircraft",
   "metadata": {},
   "outputs": [],
   "source": [
    "\"\"\"\n",
    "Python library for reading Axona files.\n",
    "Depends on: sys\n",
    "            os\n",
    "            glob\n",
    "            datetime\n",
    "            numpy\n",
    "            quantities\n",
    "\n",
    "Authors: Svenn-Arne Dragly @CINPLA,\n",
    "         Milad H. Mobarhan @CINPLA,\n",
    "         Mikkel E. Lepperød @CINPLA\n",
    "\"\"\"\n",
    "\n",
    "from __future__ import division\n",
    "from __future__ import print_function\n",
    "from __future__ import with_statement\n",
    "\n",
    "import sys\n",
    "import quantities as pq\n",
    "import os\n",
    "import warnings\n",
    "import glob\n",
    "import numpy as np\n",
    "from datetime import datetime\n",
    "\n",
    "\n",
    "data_end_string = \"\\r\\ndata_end\\r\\n\"\n",
    "data_end_length = len(data_end_string)\n",
    "\n",
    "assert(data_end_length == 12)\n",
    "\n",
    "\n",
    "def parse_attrs(text):\n",
    "    attrs = {}\n",
    "\n",
    "    for line in text.split(\"\\n\"):\n",
    "        line = line.strip()\n",
    "\n",
    "        if len(line) == 0:\n",
    "            continue\n",
    "\n",
    "        line_splitted = line.split(\" \", 1)\n",
    "\n",
    "        name = line_splitted[0]\n",
    "        attrs[name] = None\n",
    "\n",
    "        if len(line_splitted) > 1:\n",
    "            try:\n",
    "                attrs[name] = int(line_splitted[1])\n",
    "            except:\n",
    "                try:\n",
    "                    attrs[name] = float(line_splitted[1])\n",
    "                except:\n",
    "                    attrs[name] = line_splitted[1]\n",
    "    return attrs\n",
    "\n",
    "\n",
    "def parse_header_and_leave_cursor(file_handle):\n",
    "    header = \"\"\n",
    "    while True:\n",
    "        search_string = \"data_start\"\n",
    "        byte = file_handle.read(1)\n",
    "        header += str(byte, 'latin-1')\n",
    "\n",
    "        if not byte:\n",
    "            raise IOError(\"Hit end of file before '\" + search_string + \"' found.\")\n",
    "\n",
    "        if header[-len(search_string):] == search_string:\n",
    "            break\n",
    "\n",
    "    attrs = parse_attrs(header)\n",
    "\n",
    "    return attrs\n",
    "\n",
    "\n",
    "def assert_end_of_data(file_handle):\n",
    "    remaining_data = str(file_handle.read(), 'latin1')\n",
    "    assert(remaining_data.strip() == \"data_end\")\n",
    "\n",
    "\n",
    "def scale_analog_signal(value, gain, adc_fullscale_mv, bytes_per_sample):\n",
    "    \"\"\"\n",
    "    Takes value as raw sample data and converts it to millivolts quantity.\n",
    "\n",
    "    The mapping in the case of bytes_per_sample = 1 is\n",
    "\n",
    "        [-128, 127] -> [-1.0, (127.0/128.0)] * adc_fullscale_mv / gain (mV)\n",
    "\n",
    "    The correctness of this mapping has been verified by contacting Axona.\n",
    "    \"\"\"\n",
    "    if type(value) is np.ndarray and value.base is not None:\n",
    "        raise ValueError(\"Value passed to scale_analog_signal cannot be a numpy view because we need to convert the entire array to a quantity.\")\n",
    "    max_value = 2**(8 * bytes_per_sample - 1)  # 128 when bytes_per_sample = 1\n",
    "    result = (value / max_value) * (adc_fullscale_mv / gain)\n",
    "    result = result\n",
    "    return result\n",
    "\n",
    "\n",
    "class Channel:\n",
    "    def __init__(self, index, name, gain):\n",
    "        self.index = index\n",
    "        self.name = name\n",
    "        self.gain = gain\n",
    "\n",
    "\n",
    "class ChannelGroup:\n",
    "    def __init__(self, channel_group_id, filename, channels, adc_fullscale, attrs):\n",
    "        self.attrs = attrs\n",
    "        self.filename = filename\n",
    "        self.channel_group_id = channel_group_id\n",
    "        self.channels = channels\n",
    "        self._adc_fullscale = adc_fullscale\n",
    "\n",
    "    @property\n",
    "    def analog_signals(self):\n",
    "        return self.analog_signals\n",
    "\n",
    "    @property\n",
    "    def spike_train(self):\n",
    "        with open(self.filename, \"rb\") as f:\n",
    "            attrs = parse_header_and_leave_cursor(f)\n",
    "\n",
    "            channel_group_index = self.channel_group_id\n",
    "            bytes_per_timestamp = attrs.get(\"bytes_per_timestamp\", 4)\n",
    "            bytes_per_sample = attrs.get(\"bytes_per_sample\", 1)\n",
    "            num_spikes = attrs.get(\"num_spikes\", 0)\n",
    "            num_chans = attrs.get(\"num_chans\", 1)\n",
    "            samples_per_spike = attrs.get(\"samples_per_spike\", 50)\n",
    "            timebase = int(attrs.get(\"timebase\", \"96000 hz\").split(\" \")[0]) * pq.Hz\n",
    "            sample_rate = attrs.get(\"rawrate\", 48000) * pq.Hz\n",
    "\n",
    "            bytes_per_spike_without_timestamp = samples_per_spike * bytes_per_sample\n",
    "            bytes_per_spike = bytes_per_spike_without_timestamp + bytes_per_timestamp\n",
    "\n",
    "            timestamp_dtype = \">u\" + str(bytes_per_timestamp)\n",
    "            waveform_dtype = \"<i\" + str(bytes_per_sample)\n",
    "\n",
    "            dtype = np.dtype([(\"times\", (timestamp_dtype, 1), 1), (\"waveforms\", (waveform_dtype, 1), samples_per_spike)])\n",
    "\n",
    "            data = np.fromfile(f, dtype=dtype, count=num_spikes * num_chans)\n",
    "            assert_end_of_data(f)\n",
    "\n",
    "        times = data[\"times\"][::4] / timebase  # time for each waveform is the same, so we take each fourth time\n",
    "        waveforms = data[\"waveforms\"]\n",
    "        # TODO is this the correct way to reshape waveforms?\n",
    "        waveforms = waveforms.reshape(num_spikes, num_chans, samples_per_spike)\n",
    "        waveforms = waveforms.astype(float)\n",
    "\n",
    "        channel_gain_matrix = np.ones(waveforms.shape)\n",
    "        for i, channel in enumerate(self.channels):\n",
    "            channel_gain_matrix[:, i, :] *= channel.gain\n",
    "\n",
    "        waveforms = scale_analog_signal(waveforms,\n",
    "                                        channel_gain_matrix,\n",
    "                                        self._adc_fullscale,\n",
    "                                        bytes_per_sample)\n",
    "        # HACK until we find the sign on the signal hafting-fyhn group always have reversed spikes\n",
    "        waveforms = -waveforms\n",
    "        # TODO get proper t_stop Mikkel says: isn't that just the duration, Mikkel answers: yes it is\n",
    "        return SpikeTrain(\n",
    "            times=times,\n",
    "            waveforms=waveforms,\n",
    "            spike_count=num_spikes,\n",
    "            channel_count=num_chans,\n",
    "            samples_per_spike=samples_per_spike,\n",
    "            sample_rate=sample_rate,\n",
    "            attrs=attrs\n",
    "        )\n",
    "\n",
    "    def __str__(self):\n",
    "        return \"<Axona channel_group {}: channel_count: {}>\".format(\n",
    "            self.channel_group_id, len(self.channels)\n",
    "        )\n",
    "\n",
    "\n",
    "class SpikeTrain:\n",
    "    def __init__(self, times, waveforms,\n",
    "                 spike_count, channel_count, samples_per_spike,\n",
    "                 sample_rate, attrs):\n",
    "        self.times = times\n",
    "        self.waveforms = waveforms\n",
    "        self.attrs = attrs\n",
    "\n",
    "        assert(self.waveforms.shape[0] == spike_count)\n",
    "        assert(self.waveforms.shape[1] == channel_count)\n",
    "        assert(self.waveforms.shape[2] == samples_per_spike)\n",
    "\n",
    "        self.spike_count = spike_count\n",
    "        self.channel_count = channel_count\n",
    "        self.samples_per_spike = samples_per_spike\n",
    "        self.sample_rate = sample_rate\n",
    "\n",
    "    @property\n",
    "    def num_spikes(self):\n",
    "        \"\"\"\n",
    "        Alias for spike_count, using same name as in .[0-9]* file.\n",
    "        \"\"\"\n",
    "        return self.spike_count\n",
    "\n",
    "    @property\n",
    "    def num_chans(self):\n",
    "        \"\"\"\n",
    "        Alias for channel_count, using same name as in .[0-9]* file.\n",
    "        \"\"\"\n",
    "        return self.channel_count\n",
    "\n",
    "\n",
    "class AnalogSignal:\n",
    "    def __init__(self, channel_id, signal, sample_rate, attrs):\n",
    "        self.channel_id = channel_id\n",
    "        self.signal = signal\n",
    "        self.sample_rate = sample_rate\n",
    "        self.attrs = attrs\n",
    "\n",
    "    def __str__(self):\n",
    "        return \"<Axona analog signal: channel: {}, shape: {}, sample_rate: {}>\".format(\n",
    "            self.channel_id, self.signal.shape, self.sample_rate\n",
    "        )\n",
    "\n",
    "\n",
    "class TrackingData:\n",
    "    def __init__(self, times, positions, attrs):\n",
    "        self.attrs = attrs\n",
    "        self.times = times\n",
    "        self.positions = positions\n",
    "\n",
    "    def __str__(self):\n",
    "        return \"<Axona tracking data: times shape: {}, positions shape: {}>\".format(\n",
    "            self.times.shape, self.positions.shape\n",
    "        )\n",
    "\n",
    "\n",
    "class InpData:\n",
    "    def __init__(self, duration, times, event_types, values):\n",
    "        self.duration = duration\n",
    "        self.times = times\n",
    "        self.event_types = event_types\n",
    "        self.values = values\n",
    "\n",
    "    def __str__(self):\n",
    "        return \"<Axona inp data: times shape: {}>\".format(self.times.shape)\n",
    "\n",
    "\n",
    "class CutData:\n",
    "    def __init__(self, channel_group_id, indices):\n",
    "        self.channel_group_id = channel_group_id\n",
    "        self.indices = indices\n",
    "\n",
    "    def __str__(self):\n",
    "        return \"<Axona cut data: channel group id: {}, indices shape: {}>\".format(\n",
    "            self.channel_group_id, self.indices.shape\n",
    "        )\n",
    "\n",
    "\n",
    "class File:\n",
    "    \"\"\"\n",
    "    Class for reading experimental data from an Axona dataset.\n",
    "    \"\"\"\n",
    "    def __init__(self, filename):\n",
    "        self._absolute_filename = filename\n",
    "        self._path, relative_filename = os.path.split(filename)\n",
    "        self._base_filename, extension = os.path.splitext(relative_filename)\n",
    "\n",
    "        if extension != \".set\":\n",
    "            raise ValueError(\"file extension must be '.set'\")\n",
    "\n",
    "        with open(self._absolute_filename, mode=\"r\", encoding=\"cp1252\") as f:\n",
    "            text = f.read()\n",
    "\n",
    "        attrs = parse_attrs(text)\n",
    "\n",
    "        self._adc_fullscale = float(attrs[\"ADC_fullscale_mv\"]) * 1000.0 * pq.uV\n",
    "        if all(key in attrs for key in ['trial_date', 'trial_time']):\n",
    "            self._start_datetime = datetime.strptime(attrs['trial_date'] +\n",
    "                                                     attrs['trial_time'],\n",
    "                                                     '%A, %d %b %Y%H:%M:%S')\n",
    "        else:\n",
    "            self._start_datetime = None\n",
    "        self._duration = float(attrs[\"duration\"]) * pq.s\n",
    "        self._tracked_spots_count = int(attrs[\"tracked_spots\"])\n",
    "        self.attrs = attrs\n",
    "\n",
    "        self._channel_groups = []\n",
    "        self._analog_signals = []\n",
    "        self._cuts = []\n",
    "        self._inp_data = None\n",
    "        self._tracking = None\n",
    "\n",
    "        self._channel_groups_dirty = True\n",
    "        self._analog_signals_dirty = True\n",
    "        self._cuts_dirty = True\n",
    "        self._inp_data_dirty = True\n",
    "        self._tracking_dirty = True\n",
    "\n",
    "    @property\n",
    "    def session(self):\n",
    "        return self._base_filename\n",
    "\n",
    "    @property\n",
    "    def related_files(self):\n",
    "        file_path = os.path.join(self._path, self._base_filename)\n",
    "        cut_files = glob.glob(os.path.join(file_path + \"_[0-9]*.cut\"))\n",
    "\n",
    "        return glob.glob(os.path.join(file_path + \".*\")) + cut_files\n",
    "\n",
    "    def channel_group(self, channel_id):\n",
    "        if self._channel_groups_dirty:\n",
    "            self._read_channel_groups()\n",
    "\n",
    "        return self._channel_id_to_channel_group[channel_id]\n",
    "\n",
    "    @property\n",
    "    def channel_groups(self):\n",
    "        if self._channel_groups_dirty:\n",
    "            self._read_channel_groups()\n",
    "\n",
    "        return self._channel_groups\n",
    "\n",
    "    @property\n",
    "    def analog_signals(self):\n",
    "        if self._analog_signals_dirty:\n",
    "            self._read_analog_signals()\n",
    "\n",
    "        return self._analog_signals\n",
    "\n",
    "    @property\n",
    "    def tracking(self):\n",
    "        if self._tracking_dirty:\n",
    "            self._read_tracking()\n",
    "\n",
    "        return self._tracking\n",
    "\n",
    "    @property\n",
    "    def inp_data(self):\n",
    "        if self._inp_data_dirty:\n",
    "            self._read_inp_data()\n",
    "\n",
    "        return self._inp_data\n",
    "\n",
    "    @property\n",
    "    def cuts(self):\n",
    "        if self._cuts_dirty:\n",
    "            self._read_cuts()\n",
    "\n",
    "        return self._cuts\n",
    "\n",
    "    def _read_channel_groups(self):\n",
    "        self._channel_id_to_channel_group = {}\n",
    "        self._channel_group_id_to_channel_group = {}\n",
    "        self._channel_count = 0\n",
    "        self._channel_groups = []\n",
    "\n",
    "        # TODO this file reading can be removed, perhaps?\n",
    "        channel_group_filenames = glob.glob(\n",
    "            os.path.join(self._path, self._base_filename) + \".[0-9]*\")\n",
    "        channel_group_filenames = sorted(\n",
    "            channel_group_filenames,\n",
    "            key=lambda x: os.path.splitext(x)[1][1:])\n",
    "\n",
    "        _, extension = os.path.splitext(channel_group_filenames[0])\n",
    "        start_channel_group = int(extension[1:]) - 1\n",
    "        if start_channel_group != 0:\n",
    "            warnings.warn(\n",
    "                'Channel group file starts at {} '.format(start_channel_group) +\n",
    "                'assumes that channel groups not saved have the same channel ' +\n",
    "                'count and infers channel ids from that.')\n",
    "            with open(channel_group_filenames[0], \"rb\") as f:\n",
    "                channel_group_attrs = parse_header_and_leave_cursor(f)\n",
    "                num_chans = channel_group_attrs[\"num_chans\"]\n",
    "                self._channel_count = (start_channel_group + 1) * num_chans\n",
    "\n",
    "        for ii, channel_group_filename in enumerate(channel_group_filenames, start_channel_group):\n",
    "            # increment before, because channel_groups start at 1\n",
    "            basename, extension = os.path.splitext(channel_group_filename)\n",
    "            channel_group_id = int(extension[1:]) - 1\n",
    "            if ii != channel_group_id:\n",
    "                raise IOError('Missing channel group file, unable to map channel ids')\n",
    "            with open(channel_group_filename, \"rb\") as f:\n",
    "                channel_group_attrs = parse_header_and_leave_cursor(f)\n",
    "                num_chans = channel_group_attrs[\"num_chans\"]\n",
    "                channels = []\n",
    "                for i in range(num_chans):\n",
    "                    channel_id = self._channel_count + i\n",
    "                    channel = Channel(\n",
    "                        channel_id,\n",
    "                        name=\"channel_{}_channel_group_{}_internal_{}\".format(\n",
    "                            channel_id, channel_group_id, i),\n",
    "                        gain=self._channel_gain(channel_group_id, i)\n",
    "                    )\n",
    "                    channels.append(channel)\n",
    "\n",
    "                channel_group = ChannelGroup(\n",
    "                    channel_group_id,\n",
    "                    filename=channel_group_filename,\n",
    "                    channels=channels,\n",
    "                    adc_fullscale=self._adc_fullscale,\n",
    "                    attrs=channel_group_attrs\n",
    "                )\n",
    "\n",
    "                self._channel_groups.append(channel_group)\n",
    "                self._channel_group_id_to_channel_group[channel_group_id] = channel_group\n",
    "\n",
    "                for i in range(num_chans):\n",
    "                    channel_id = self._channel_count + i\n",
    "                    self._channel_id_to_channel_group[channel_id] = channel_group\n",
    "\n",
    "                # increment after, because channels start at 0\n",
    "                self._channel_count += num_chans\n",
    "\n",
    "        # TODO add channels only for files that exist\n",
    "        self._channel_ids = np.arange(self._channel_count)\n",
    "        self._channel_groups_dirty = False\n",
    "\n",
    "    def _channel_gain(self, channel_group_index, channel_index):\n",
    "        # TODO split into two functions, one for mapping and one for gain lookup\n",
    "        global_channel_index = channel_group_index * 4 + channel_index\n",
    "        param_name = \"gain_ch_{}\".format(global_channel_index)\n",
    "        return float(self.attrs[param_name])\n",
    "\n",
    "    def _read_inp_data(self):\n",
    "        \"\"\"\n",
    "        Reads axona .inp files.\n",
    "        Event type can be 'I', 'O', or 'K' representing input,\n",
    "        output, and keypress, respectively.\n",
    "        The value of all event types is assumed to have dtype='>i',\n",
    "        even though this is not true for keypress.\n",
    "        \"\"\"\n",
    "        inp_filename = os.path.join(self._path, self._base_filename + \".inp\")\n",
    "        if not os.path.exists(inp_filename):\n",
    "            raise IOError(\"'.inp' file not found:\" + inp_filename)\n",
    "\n",
    "        with open(inp_filename, \"rb\") as f:\n",
    "            attrs = parse_header_and_leave_cursor(f)\n",
    "\n",
    "            sample_rate_split = attrs[\"timebase\"].split(\" \")\n",
    "            assert(sample_rate_split[1] == \"hz\")\n",
    "            sample_rate = float(sample_rate_split[0]) * pq.Hz  # sample_rate 50.0 hz\n",
    "\n",
    "            duration = float(attrs[\"duration\"]) * pq.s\n",
    "            num_inp_samples = int(attrs[\"num_inp_samples\"])\n",
    "            bytes_per_timestamp = int(attrs[\"bytes_per_timestamp\"])\n",
    "            bytes_per_type = int(attrs[\"bytes_per_type\"])\n",
    "            bytes_per_value = int(attrs[\"bytes_per_value\"])\n",
    "\n",
    "            timestamp_dtype = \">i\" + str(bytes_per_timestamp)\n",
    "            type_dtype = \"S\"\n",
    "            value_dtype = 'i1'\n",
    "\n",
    "            # read data:\n",
    "            dtype = np.dtype([(\"t\", (timestamp_dtype, 1)),\n",
    "                              (\"event_types\", (type_dtype, bytes_per_type)),\n",
    "                              (\"values\", (value_dtype, bytes_per_value))])\n",
    "\n",
    "            # num_inp_samples cannot be used because it\n",
    "            # does not include outputs ('O').\n",
    "            # We need to find the length of the data manually\n",
    "            # by seeking to the end of the file and subtracting\n",
    "            # the position at data_start.\n",
    "            current_position = f.tell()\n",
    "            f.seek(-data_end_length, os.SEEK_END)\n",
    "            end_position = f.tell()\n",
    "            data_byte_count = end_position - current_position\n",
    "            data_count = int(data_byte_count / dtype.itemsize)\n",
    "            assert_end_of_data(f)\n",
    "\n",
    "            # seek back to data start and read the newly calculated\n",
    "            # number of samples\n",
    "            f.seek(current_position, os.SEEK_SET)\n",
    "\n",
    "            data = np.fromfile(f, dtype=dtype, count=data_count)\n",
    "\n",
    "            assert_end_of_data(f)\n",
    "            times = data[\"t\"].astype(float) / sample_rate\n",
    "\n",
    "            inp_data = InpData(\n",
    "                duration=duration,\n",
    "                times=times,\n",
    "                event_types=data[\"event_types\"].astype(str),\n",
    "                values=data[\"values\"],\n",
    "            )\n",
    "\n",
    "        self._inp_data = inp_data\n",
    "        self._inp_data_dirty = False\n",
    "\n",
    "    def _read_tracking(self):\n",
    "        pos_filename = os.path.join(self._path, self._base_filename + \".pos\")\n",
    "        if not os.path.exists(pos_filename):\n",
    "            raise IOError(\"'.pos' file not found:\" + pos_filename)\n",
    "\n",
    "        with open(pos_filename, \"rb\") as f:\n",
    "            attrs = parse_header_and_leave_cursor(f)\n",
    "\n",
    "            sample_rate_split = attrs[\"sample_rate\"].split(\" \")\n",
    "            assert(sample_rate_split[1] == \"hz\")\n",
    "            sample_rate = float(sample_rate_split[0]) * pq.Hz  # sample_rate 50.0 hz\n",
    "\n",
    "            eeg_samples_per_position = float(attrs[\"EEG_samples_per_position\"])\n",
    "            pos_samples_count = int(attrs[\"num_pos_samples\"])\n",
    "            bytes_per_timestamp = int(attrs[\"bytes_per_timestamp\"])\n",
    "            bytes_per_coord = int(attrs[\"bytes_per_coord\"])\n",
    "\n",
    "            timestamp_dtype = \">i\" + str(bytes_per_timestamp)\n",
    "            coord_dtype = \">i\" + str(bytes_per_coord)\n",
    "\n",
    "            bytes_per_pixel_count = 4\n",
    "            pixel_count_dtype = \">i\" + str(bytes_per_pixel_count)\n",
    "\n",
    "            # pos_format is as follows for this file t,x1,y1,x2,y2,numpix1,numpix2.\n",
    "            data_spots_count = 2\n",
    "            assert attrs['pos_format'] == 't,x1,y1,x2,y2,numpix1,numpix2', (\n",
    "                'We only support the given pos format')\n",
    "            # read data:\n",
    "            dtype = np.dtype([(\"t\", (timestamp_dtype, 1)),\n",
    "                             (\"coords\", (coord_dtype, 1), 2 * data_spots_count),\n",
    "                             (\"pixel_count\", (pixel_count_dtype, 1), data_spots_count)])\n",
    "\n",
    "            data = np.fromfile(f, dtype=dtype, count=pos_samples_count)\n",
    "\n",
    "            try:\n",
    "                assert_end_of_data(f)\n",
    "            except AssertionError:\n",
    "                warnings.warn(\"Found remaining data while parsing pos file\")\n",
    "\n",
    "            time_scale = float(attrs[\"timebase\"].split(\" \")[0]) * pq.Hz\n",
    "            times = data[\"t\"].astype(float) / time_scale\n",
    "\n",
    "            window_min_x = float(attrs[\"window_min_x\"])\n",
    "            window_max_x = float(attrs[\"window_max_x\"])\n",
    "            window_min_y = float(attrs[\"window_min_y\"])\n",
    "            window_max_y = float(attrs[\"window_max_y\"])\n",
    "            xsize = window_max_x - window_min_x\n",
    "            ysize = window_max_y - window_min_y\n",
    "            length_scale = [xsize, ysize, xsize, ysize]\n",
    "            coords = data[\"coords\"].astype(float) * pq.m\n",
    "            # dacq doc: positions with value 1023 are missing\n",
    "            coords[data[\"coords\"] == 1023] = np.nan * pq.m\n",
    "            for i in range(2 * data_spots_count):\n",
    "                coords[:, i] /= length_scale[i]\n",
    "\n",
    "            tracking_data = TrackingData(\n",
    "                times=times,\n",
    "                positions=coords,\n",
    "                attrs=attrs\n",
    "            )\n",
    "\n",
    "        self._tracking = tracking_data\n",
    "        self._tracking_dirty = False\n",
    "\n",
    "    def _read_analog_signals(self):\n",
    "        # TODO read for specific channel\n",
    "        # TODO check that .egf file exists\n",
    "\n",
    "        self._analog_signals = []\n",
    "        eeg_basename = os.path.join(self._path, self._base_filename)\n",
    "        eeg_files = glob.glob(eeg_basename + \".eeg\")\n",
    "        eeg_files += glob.glob(eeg_basename + \".eeg[0-9]*\")\n",
    "        eeg_files += glob.glob(eeg_basename + \".egf\")\n",
    "        eeg_files += glob.glob(eeg_basename + \".egf[0-9]*\")\n",
    "        for eeg_filename in sorted(eeg_files):\n",
    "            extension = os.path.splitext(eeg_filename)[-1][1:]\n",
    "            file_type = extension[:3]\n",
    "            suffix = extension[3:]\n",
    "            if suffix == \"\":\n",
    "                suffix = \"1\"\n",
    "            suffix = int(suffix)\n",
    "            with open(eeg_filename, \"rb\") as f:\n",
    "                try:\n",
    "                    attrs = parse_header_and_leave_cursor(f)\n",
    "                except OSError as e:\n",
    "                    warnings.warn(str(e) + ' Unable to load \"' + eeg_filename +\n",
    "                                  '\".')\n",
    "                    continue\n",
    "                attrs[\"raw_filename\"] = eeg_filename\n",
    "\n",
    "                if file_type == \"eeg\":\n",
    "                    sample_count = int(attrs[\"num_EEG_samples\"])\n",
    "                elif file_type == \"egf\":\n",
    "                    sample_count = int(attrs[\"num_EGF_samples\"])\n",
    "                else:\n",
    "                    raise IOError(\"Unknown file type. Should be .eeg or .efg.\")\n",
    "\n",
    "                sample_rate_split = attrs[\"sample_rate\"].split(\" \")\n",
    "                bytes_per_sample = attrs[\"bytes_per_sample\"]\n",
    "                assert(sample_rate_split[1].lower() == \"hz\")\n",
    "                sample_rate = float(sample_rate_split[0]) * pq.Hz  # sample_rate 250.0 hz\n",
    "\n",
    "                sample_dtype = (('<i' + str(bytes_per_sample), 1), attrs[\"num_chans\"])\n",
    "                data = np.fromfile(f, dtype=sample_dtype, count=sample_count)\n",
    "                assert_end_of_data(f)\n",
    "\n",
    "                eeg_final_channel_id = self.attrs[\"EEG_ch_\" + str(suffix)] - 1 # EEG channels are counted from 1, other channels are from 0\n",
    "                if eeg_final_channel_id == -1:\n",
    "                    warnings.warn(\n",
    "                        'eeg saved, but not reffering to any channel' +\n",
    "                        ' skipping {}'.format(eeg_filename))\n",
    "                    continue\n",
    "                assert self.attrs[\"saveEEG_ch_\" + str(suffix)] == 1\n",
    "                eeg_mode = self.attrs[\"mode_ch_\" + str(eeg_final_channel_id)]\n",
    "                if eeg_mode == 0: # signal\n",
    "                    eeg_original_channel_id = eeg_final_channel_id\n",
    "                elif eeg_mode == 1: # ref\n",
    "                    ref_id = self.attrs[\"b_in_ch_\" + str(eeg_final_channel_id)]\n",
    "                    eeg_original_channel_id = self.attrs[\"ref_\" + str(ref_id)]\n",
    "                elif eeg_mode == 2: # what mode is this??\n",
    "                    other_channel = self.attrs[\"b_in_ch_\" + str(eeg_final_channel_id)]\n",
    "                    ref_id = self.attrs[\"b_in_ch_\" + str(other_channel)]\n",
    "                    eeg_original_channel_id = self.attrs[\"ref_\" + str(ref_id)]\n",
    "                    warnings.warn(\n",
    "                        'Not sure how to retrieve original channel from mode ' +\n",
    "                        '{} in {}. '.format(eeg_mode, eeg_filename) +\n",
    "                        'Please make sure it is the correct gain and channel_id.')\n",
    "                else:\n",
    "                    warnings.warn(\n",
    "                        'Not sure how to retrieve original channel from mode ' +\n",
    "                        '{}, skipping {}'.format(eeg_mode, eeg_filename))\n",
    "                    continue\n",
    "\n",
    "                attrs[\"channel_id\"] = eeg_original_channel_id\n",
    "\n",
    "                gain = self.attrs[\"gain_ch_{}\".format(eeg_final_channel_id)]\n",
    "\n",
    "                signal = scale_analog_signal(data,\n",
    "                                             gain,\n",
    "                                             self._adc_fullscale,\n",
    "                                             bytes_per_sample)\n",
    "\n",
    "                # TODO read start time\n",
    "\n",
    "                analog_signal = AnalogSignal(\n",
    "                    channel_id=eeg_original_channel_id,\n",
    "                    signal=signal,\n",
    "                    sample_rate=sample_rate,\n",
    "                    attrs=attrs\n",
    "                )\n",
    "\n",
    "                self._analog_signals.append(analog_signal)\n",
    "\n",
    "        self._analog_signals_dirty = False\n",
    "\n",
    "    def _read_cuts(self):\n",
    "        self._cuts = []\n",
    "        cut_basename = os.path.join(self._path, self._base_filename)\n",
    "        cut_files = glob.glob(cut_basename + \"_[0-9]*.cut\")\n",
    "\n",
    "        if not len(cut_files) > 0:\n",
    "            raise IOError(\"'.cut' file(s) not found\")\n",
    "\n",
    "        for cut_filename in sorted(cut_files):\n",
    "            split_basename = os.path.basename(cut_filename).split(self._base_filename+\"_\")[-1]\n",
    "            suffix = os.path.splitext(split_basename)[0]\n",
    "            try:\n",
    "                channel_group_id = int(suffix) - 1  # -1 to match channel_group_id\n",
    "            except ValueError as e:\n",
    "                warnings.warn(str(e) + ' Unable to load cut file \"' +\n",
    "                              cut_filename + '\".')\n",
    "                continue\n",
    "            lines = \"\"\n",
    "            with open(cut_filename, \"r\") as f:\n",
    "                for line in f:\n",
    "                    if line.lstrip().startswith('Exact_cut_for'):\n",
    "                        break\n",
    "                lines = f.read()\n",
    "                lines = lines.replace(\"\\n\", \"\").strip()\n",
    "                indices = []\n",
    "                try:\n",
    "                    indices += [int(b) for b in lines.split(' ')\n",
    "                                if b.isnumeric()]\n",
    "                except Exception as e:\n",
    "                    raise(type(e)(str(e) +\n",
    "                                  \" Invalid indices in cut file '\" +\n",
    "                                  cut_filename + \"'.\"\n",
    "                          ).with_traceback(sys.exc_info()[2]))\n",
    "                cut = CutData(\n",
    "                    channel_group_id=channel_group_id,\n",
    "                    indices=np.asarray(indices, dtype=np.int)\n",
    "                )\n",
    "                self._cuts.append(cut)\n",
    "\n",
    "        self._cuts_dirty = False\n"
   ]
  },
  {
   "cell_type": "code",
   "execution_count": null,
   "id": "central-irrigation",
   "metadata": {},
   "outputs": [],
   "source": []
  },
  {
   "cell_type": "code",
   "execution_count": null,
   "id": "impressive-understanding",
   "metadata": {},
   "outputs": [],
   "source": []
  },
  {
   "cell_type": "code",
   "execution_count": null,
   "id": "thick-bundle",
   "metadata": {},
   "outputs": [],
   "source": []
  },
  {
   "cell_type": "code",
   "execution_count": null,
   "id": "centered-manhattan",
   "metadata": {},
   "outputs": [],
   "source": []
  },
  {
   "cell_type": "markdown",
   "id": "shaped-tonight",
   "metadata": {},
   "source": [
    "# Read data with Hussaini lab code for comparison (should give same answer)"
   ]
  },
  {
   "cell_type": "code",
   "execution_count": 30,
   "id": "under-prayer",
   "metadata": {
    "scrolled": true
   },
   "outputs": [
    {
     "name": "stdout",
     "output_type": "stream",
     "text": [
      "../../freelance-work/catalyst-neuro/hussaini-lab-to-nwb/example_data_units/Axona_Unit_Mode_SmallFile/20140815-180secs\n",
      "../../freelance-work/catalyst-neuro/hussaini-lab-to-nwb/Axona_Tint_1ms/20201004_Tint\n",
      "Reading UNIT data files:\n",
      "../../freelance-work/catalyst-neuro/hussaini-lab-to-nwb/Axona_Tint_1ms/20201004_Tint.set\n",
      "../../freelance-work/catalyst-neuro/hussaini-lab-to-nwb/Axona_Tint_1ms/20201004_Tint.eeg\n",
      "../../freelance-work/catalyst-neuro/hussaini-lab-to-nwb/Axona_Tint_1ms/20201004_Tint.pos\n",
      "../../freelance-work/catalyst-neuro/hussaini-lab-to-nwb/Axona_Tint_1ms/20201004_Tint.1\n",
      "../../freelance-work/catalyst-neuro/hussaini-lab-to-nwb/Axona_Tint_1ms/20201004_Tint.2\n",
      "../../freelance-work/catalyst-neuro/hussaini-lab-to-nwb/Axona_Tint_1ms/20201004_Tint.3\n",
      "../../freelance-work/catalyst-neuro/hussaini-lab-to-nwb/Axona_Tint_1ms/20201004_Tint.4\n"
     ]
    }
   ],
   "source": [
    "# mini sample data\n",
    "dir_name1 = r'../../freelance-work/catalyst-neuro/hussaini-lab-to-nwb/example_data_units/Axona_Unit_Mode_SmallFile'\n",
    "base_filename1 = '20140815-180secs'\n",
    "filename1 = os.path.join(dir_name1, base_filename1)\n",
    "\n",
    "# 1ms sample data\n",
    "dir_name2 = r'../../freelance-work/catalyst-neuro/hussaini-lab-to-nwb/Axona_Tint_1ms'\n",
    "base_filename2 = '20201004_Tint'\n",
    "filename2 = os.path.join(dir_name2, base_filename2)\n",
    "\n",
    "print(filename1)  # shows waveform centered at ~sample 10\n",
    "print(filename2)  # shows waveform centered at ~sample 25\n",
    "\n",
    "\n",
    "# Set directory and filename\n",
    "\n",
    "dir_name = dir_name2\n",
    "base_filename = base_filename2\n",
    "\n",
    "unit_set_file = os.path.join(dir_name, base_filename + '.set')\n",
    "unit_eeg_file = os.path.join(dir_name, base_filename + '.eeg')\n",
    "unit_pos_file = os.path.join(dir_name, base_filename + '.pos')\n",
    "unit_num_file1 = os.path.join(dir_name, base_filename + '.1')\n",
    "unit_num_file2 = os.path.join(dir_name, base_filename + '.2')\n",
    "unit_num_file3 = os.path.join(dir_name, base_filename + '.3')\n",
    "unit_num_file4 = os.path.join(dir_name, base_filename + '.4')\n",
    "\n",
    "print('Reading UNIT data files:')\n",
    "print(unit_set_file)\n",
    "print(unit_eeg_file)\n",
    "print(unit_pos_file)\n",
    "print(unit_num_file1)\n",
    "print(unit_num_file2)\n",
    "print(unit_num_file3)\n",
    "print(unit_num_file4)"
   ]
  },
  {
   "cell_type": "code",
   "execution_count": 31,
   "id": "resistant-involvement",
   "metadata": {},
   "outputs": [
    {
     "name": "stdout",
     "output_type": "stream",
     "text": [
      "314\n"
     ]
    }
   ],
   "source": [
    "with open(unit_num_file1, 'rb') as f:\n",
    "    data_head = f.read(800)\n",
    "    \n",
    "data_start = data_head.find(b'data_start') + len('data_start')\n",
    "print(data_start)"
   ]
  },
  {
   "cell_type": "code",
   "execution_count": 32,
   "id": "multiple-tennessee",
   "metadata": {},
   "outputs": [
    {
     "name": "stdout",
     "output_type": "stream",
     "text": [
      "data_start\n",
      "b'\\x00\\x00\\x01\\x98 &(\\'\\')(\\x1f\\x11\\x04\\xfc\\xf9\\xf7\\xf1\\xe5\\xdb\\xd6\\xd6\\xd8\\xe2\\xf5\\x0e#.0+!\\x13\\x00\\xe9\\xd5\\xcf\\xdc\\xf3\\x06\\x0e\\x0f\\x08\\xfc\\xee\\xe5\\xe6\\xef\\xfb\\x07\\x13\\x1f#\\x1a\\x07\\x00\\x00\\x01\\x98\\x0c\\r\\n\\x06\\x06\\x0e\\x19 \\x1c\\r\\xfc\\xf3\\xf4\\xf9\\xfb\\xf9\\xf3\\xeb\\xe2\\xdf\\xe7\\xf9\\n\\x14\\x14\\x0e\\x05\\xff\\xfb\\xfb\\xf9\\xf4\\xf0\\xf2\\xf6\\xf7\\xf6\\xf6\\xf9\\xfb\\xfa\\xf6\\xf3\\xf5\\xfd\\x08\\x17$)$\\x00\\x00\\x01\\x98\\xfb\\xec\\xde\\xd9\\xdf\\xef\\x00\\t\\x07\\x00\\xfe\\x00\\x03\\x06\\x03\\xff\\xf8\\xee\\xe0\\xd8\\xde\\xf2\\x08\\x15\\x15\\x0c\\x03\\x00\\x05\\n\\x07\\xff\\xf8\\xf6\\xf7\\xf9\\xf9\\xf5\\xec\\xe3\\xdf\\xe0\\xe7\\xf0\\xf9\\x01\\n\\x10\\x0e\\x07\\x00\\x00\\x01\\x98\\xf9\\xf5\\xf3\\xf6\\x02\\x13 #\\x1b\\x0f\\x08\\n\\x10\\r\\xfc\\xe6\\xd6\\xce\\xce\\xd7\\xe8\\xfd\\x0f\\x1c%)&\\x18\\x02\\xeb\\xd9\\xd3\\xda\\xe8\\xf8\\x07\\x12\\x11\\x00\\xe4\\xcc\\xc3\\xcb\\xdc\\xee\\xfe\\x0c\\x15\\x16\\x10\\x00\\x00\\x02\\xd2\\x03\\x08\\x08\\x06\\x06\\x06\\xff\\xfc\\x00\\x00\\x19$+) \\x16\\x0f\\r\\x0e\\x13\\x1a\"++64.*$\\x18\\x18\\xfc\\xf5\\xf5\\xf9\\xfe\\xff\\xfe\\xfa\\xf4\\xed\\xe9\\xe8\\xe9\\xea\\xeb\\xeb\\xed\\xf1\\xef\\x00\\x00\\x02\\xd2\\xf5\\xfd\\x00\\x00\\xfb\\xf6\\xf3\\xf4\\xf7\\xfd\\x06\\x0f\\x17\\x1e#&%\\x1f\\x14\\x0b\\x07\\x08\\t\\x08\\x06\\x06\\x07\\n\\x0e\\x12\\x13\\x0c\\x03\\xfd\\xfc\\xfe\\x00\\x00\\xff\\x00\\x02\\x05\\x07\\x06\\x02\\xfd\\xfa\\xfb\\xff\\x00\\x00\\x00\\x02\\xd2\\xf6\\xfa\\xfd\\xff\\x00\\xff\\xff\\x02\\t\\x12\\x17\\x19\\x18\\x18\\x19\\x19\\x16\\x10\\x0b\\x0c\\x0f\\x0f\\x0c\\x08\\x02\\xfc\\xfa\\xfd\\x00\\x00\\xfe\\xfe\\x03\\x0e\\x18\\x1d\\x1a\\x13\\t\\x02\\xfe\\xfb\\xfa\\xfc\\xfd\\xfb\\xf9\\xf9\\xfd\\xfe\\x00\\x00\\x02\\xd2\\xf8\\xfd\\x01\\x06\\x05\\x01\\xff\\x01\\t\\x12\\x1a\\x1e\\x1f\\x1e\\x1d\\x1e\\x1d\\x1a\\x19\\x1b\\x1f#%$ \\x19\\x12\\x10\\x13\\x17\\x15\\x11\\x11\\x15\\x17\\x0e\\xfd\\xeb\\xe2\\xe4\\xea\\xf0\\xf4\\xf5\\xf8\\xfa\\xfc\\xff\\x02\\x01\\x00\\x00\\x03F\\x00\\x05\\xff\\xf1\\xe1\\xd0\\xc4\\xc1\\xca\\xd6\\xde\\xe6\\xef\\xf5\\xf5\\xeb\\xea\\xf0\\xfc\\x05\\x0c\\x13\\x1a\\x1d\\x16\\x07\\xfe\\x00\\x0b\\x17\\x1b\\x16\\x06\\xf3\\xe6\\xe8\\xf8\\n\\n\\x1c\\x15\\x08\\xfb\\xf2\\xf1\\xf3\\xf5\\xf5\\xf2\\xed'\n"
     ]
    }
   ],
   "source": [
    "print(data_head.decode('cp1252')[data_start-10:data_start])\n",
    "print(data_head[data_start:])"
   ]
  },
  {
   "cell_type": "code",
   "execution_count": 33,
   "id": "addressed-egypt",
   "metadata": {},
   "outputs": [],
   "source": [
    "header = parse_generic_header(unit_num_file1)"
   ]
  },
  {
   "cell_type": "code",
   "execution_count": 34,
   "id": "sound-superior",
   "metadata": {},
   "outputs": [
    {
     "data": {
      "text/plain": [
       "{'trial_date': 'Sunday, 4 Oct 2020',\n",
       " 'trial_time': '11:07:07',\n",
       " 'experimenter': 'Abid',\n",
       " 'comments': '',\n",
       " 'duration': '601',\n",
       " 'sw_version': '1.2.2.16',\n",
       " 'num_chans': '4',\n",
       " 'timebase': '96000 hz',\n",
       " 'bytes_per_timestamp': '4',\n",
       " 'samples_per_spike': '50',\n",
       " 'sample_rate': '48000 hz',\n",
       " 'bytes_per_sample': '1',\n",
       " 'spike_format': 't,ch1,t,ch2,t,ch3,t,ch4',\n",
       " 'num_spikes': '152938'}"
      ]
     },
     "execution_count": 34,
     "metadata": {},
     "output_type": "execute_result"
    }
   ],
   "source": [
    "header"
   ]
  },
  {
   "cell_type": "code",
   "execution_count": 35,
   "id": "wired-brunswick",
   "metadata": {},
   "outputs": [
    {
     "data": {
      "text/plain": [
       "'../../freelance-work/catalyst-neuro/hussaini-lab-to-nwb/Axona_Tint_1ms/20201004_Tint.1'"
      ]
     },
     "execution_count": 35,
     "metadata": {},
     "output_type": "execute_result"
    }
   ],
   "source": [
    "unit_num_file1"
   ]
  },
  {
   "cell_type": "code",
   "execution_count": 36,
   "id": "governing-mississippi",
   "metadata": {},
   "outputs": [],
   "source": [
    "num_chans = int(header.get('num_chans', 4))\n",
    "samples_per_spike = int(header.get('samples_per_spike', 50))\n",
    "bytes_per_timestamp = int(header.get('bytes_per_timestamp', 4))\n",
    "bytes_per_sample = int(header.get('bytes_per_sample', 1))\n",
    "bytes_per_packet = (bytes_per_timestamp + bytes_per_sample*samples_per_spike) * num_chans"
   ]
  },
  {
   "cell_type": "code",
   "execution_count": 37,
   "id": "trying-thought",
   "metadata": {},
   "outputs": [
    {
     "data": {
      "text/plain": [
       "216"
      ]
     },
     "execution_count": 37,
     "metadata": {},
     "output_type": "execute_result"
    }
   ],
   "source": [
    "bytes_per_packet"
   ]
  },
  {
   "cell_type": "code",
   "execution_count": 38,
   "id": "amber-accessory",
   "metadata": {},
   "outputs": [],
   "source": [
    "time_mm = np.memmap(unit_num_file1, \n",
    "                    dtype='int'+str(int(bytes_per_timestamp)*8), \n",
    "                    mode='r', \n",
    "                    offset=data_start)\n",
    "\n",
    "spike_mm = np.memmap(unit_num_file1, \n",
    "                     dtype='int'+str(int(bytes_per_sample)*8), \n",
    "                     mode='r', \n",
    "                     offset=data_start)"
   ]
  },
  {
   "cell_type": "code",
   "execution_count": 39,
   "id": "south-evaluation",
   "metadata": {},
   "outputs": [],
   "source": [
    "N = 100\n",
    "offs = bytes_per_timestamp\n",
    "\n",
    "my_waves = np.zeros((N, samples_per_spike))\n",
    "for i in range(0, N):\n",
    "    my_waves[i,:] = spike_mm[offs+(i*bytes_per_packet):offs+samples_per_spike+(i*bytes_per_packet)]"
   ]
  },
  {
   "cell_type": "code",
   "execution_count": 40,
   "id": "drawn-intranet",
   "metadata": {},
   "outputs": [],
   "source": [
    "def plot_spike_waveforms(waves, N=10):\n",
    "\n",
    "    # Consider 1st tetrode and plot some example waveforms\n",
    "    plt.subplots(figsize=(8, 8))\n",
    "    ax = plt.axes()\n",
    "\n",
    "    x = np.linspace(-200, 800, 50)\n",
    "    for i in range(0,N):\n",
    "        ax1 = plt.subplot(2, 2, 1)\n",
    "        ax1.set_title(\"10 example waveforms\")\n",
    "        plt.plot(x, waves[i,:])\n",
    "    ax2 = plt.subplot(2, 2, 2)\n",
    "    ax2.set_title(\"Averaged over samples\")\n",
    "    plt.plot(x, np.mean(waves[0:N,:], axis=0))"
   ]
  },
  {
   "cell_type": "code",
   "execution_count": 41,
   "id": "paperback-england",
   "metadata": {},
   "outputs": [
    {
     "data": {
      "image/png": "[encoded data removed]",
      "text/plain": [
       "<Figure size 576x576 with 2 Axes>"
      ]
     },
     "metadata": {
      "needs_background": "light"
     },
     "output_type": "display_data"
    }
   ],
   "source": [
    "plot_spike_waveforms(my_waves, N=N)"
   ]
  },
  {
   "cell_type": "code",
   "execution_count": 42,
   "id": "wanted-venture",
   "metadata": {},
   "outputs": [
    {
     "name": "stdout",
     "output_type": "stream",
     "text": [
      "Tetrode has 152938 spikes over 4 electrodes with 50 samples each.\n"
     ]
    },
    {
     "data": {
      "image/png": "[encoded data removed]",
      "text/plain": [
       "<Figure size 576x576 with 2 Axes>"
      ]
     },
     "metadata": {
      "needs_background": "light"
     },
     "output_type": "display_data"
    }
   ],
   "source": [
    "tetrode_id = 0\n",
    "waves = unit._waveforms[tetrode_id]\n",
    "print('Tetrode has {} spikes over {} electrodes with {} samples each.'\\\n",
    "      .format(waves.shape[0], waves.shape[1], waves.shape[2]))\n",
    "\n",
    "plot_spike_waveforms(np.squeeze(waves[:,0,:]), N=100)"
   ]
  },
  {
   "cell_type": "code",
   "execution_count": 46,
   "id": "timely-channel",
   "metadata": {},
   "outputs": [
    {
     "data": {
      "text/plain": [
       "False"
      ]
     },
     "execution_count": 46,
     "metadata": {},
     "output_type": "execute_result"
    }
   ],
   "source": [
    "my_avg_wave = np.mean(my_waves[0:N,:], axis=0)\n",
    "pyxona_avg_wave = np.mean(waves[0:N,0,:], axis=0)\n",
    "\n",
    "np.array_equal(my_avg_wave, -pyxona_avg_wave)"
   ]
  },
  {
   "cell_type": "code",
   "execution_count": 47,
   "id": "greater-password",
   "metadata": {},
   "outputs": [
    {
     "data": {
      "text/plain": [
       "array([  0.57421875,   0.3515625 ,   0.140625  ,  -0.41015625,\n",
       "        -1.5703125 ,  -2.37890625,  -1.9921875 ,  -1.1484375 ,\n",
       "         0.41015625,   0.8671875 ,   1.0078125 ,  -0.0703125 ,\n",
       "        -0.36328125,  -1.65234375,  -2.87109375,  -3.9375    ,\n",
       "        -5.953125  ,  -7.83984375,  -9.2109375 , -10.27734375,\n",
       "        -7.125     ,   1.34765625,  13.34765625,  30.7265625 ,\n",
       "        46.65234375,  53.56640625,  49.69921875,  35.89453125,\n",
       "        15.64453125,  -3.7734375 , -16.1484375 , -20.34375   ,\n",
       "       -17.73046875, -12.2578125 ,  -6.73828125,  -3.80859375,\n",
       "        -2.42578125,  -3.94921875,  -6.26953125,  -7.921875  ,\n",
       "        -9.24609375,  -9.92578125,  -9.64453125,  -9.59765625,\n",
       "       -10.59375   , -11.25      , -10.76953125,  -9.05859375,\n",
       "        -8.953125  ,  -8.296875  ]) * uV"
      ]
     },
     "execution_count": 47,
     "metadata": {},
     "output_type": "execute_result"
    }
   ],
   "source": [
    "-pyxona_avg_wave"
   ]
  },
  {
   "cell_type": "code",
   "execution_count": 48,
   "id": "boxed-conflict",
   "metadata": {},
   "outputs": [
    {
     "data": {
      "text/plain": [
       "array([  0.49,   0.3 ,   0.12,  -0.35,  -1.34,  -2.03,  -1.7 ,  -0.98,\n",
       "         0.35,   0.74,   0.86,  -0.06,  -0.31,  -1.41,  -2.45,  -3.36,\n",
       "        -5.08,  -6.69,  -7.86,  -8.77,  -6.08,   1.15,  11.39,  26.22,\n",
       "        39.81,  45.71,  42.41,  30.63,  13.35,  -3.22, -13.78, -17.36,\n",
       "       -15.13, -10.46,  -5.75,  -3.25,  -2.07,  -3.37,  -5.35,  -6.76,\n",
       "        -7.89,  -8.47,  -8.23,  -8.19,  -9.04,  -9.6 ,  -9.19,  -7.73,\n",
       "        -7.64,  -7.08])"
      ]
     },
     "execution_count": 48,
     "metadata": {},
     "output_type": "execute_result"
    }
   ],
   "source": [
    "my_avg_wave"
   ]
  },
  {
   "cell_type": "code",
   "execution_count": 51,
   "id": "guided-protection",
   "metadata": {},
   "outputs": [
    {
     "name": "stdout",
     "output_type": "stream",
     "text": [
      "128\n",
      "32768\n"
     ]
    }
   ],
   "source": [
    "print(2**7)\n",
    "print(2**(8*2-1))"
   ]
  },
  {
   "cell_type": "markdown",
   "id": "basic-rebecca",
   "metadata": {},
   "source": [
    "### Unit mode\n",
    "\n",
    "In unit mode, data is stored in 1 ms chunks, 200 μs and 800 μs after a threshold event. The header will contain a setting called “spike_format”. Generally, there are 216 bytes per spike, structured as 54 bytes per channel, in order by channel number (so, for tetrode 1, the channels are in the order 1, 2, 3, 4, or actually 1a, 1b, 1c, 1d in dacq2 nomenclature, etc.). The 54 bytes consist of a 4 byte time stamp (most significant byte first), then 50 8-bit samples. The ASCII header specifies you how many spikes there should be in the file (“num_spikes”), and the “timebase” of the timestamps (almost always 96 kHz, which means the 4-byte timestamp value needs to be divided by 96000 to get a time in seconds). The samples themselves are normally collected at 48 kHz (again, specified in the header).\n",
    "Tetrode and stereotrode data is almost identical, in that both store 4-channels worth of data per spike. The only difference is that in stereotrode mode, either channels 3&4 or 1&2 will be all zeroes, corresponding to a spike on stereotrode 1 or 2, respectively (the stereotrode format is very wasteful of file space)."
   ]
  },
  {
   "cell_type": "code",
   "execution_count": 377,
   "id": "automotive-integration",
   "metadata": {},
   "outputs": [
    {
     "data": {
      "text/plain": [
       "memmap([  0,   0,   1, ..., 100,  13,  10], dtype=int8)"
      ]
     },
     "execution_count": 377,
     "metadata": {},
     "output_type": "execute_result"
    }
   ],
   "source": [
    "data"
   ]
  },
  {
   "cell_type": "code",
   "execution_count": null,
   "id": "agreed-singer",
   "metadata": {},
   "outputs": [],
   "source": []
  },
  {
   "cell_type": "code",
   "execution_count": null,
   "id": "important-trailer",
   "metadata": {},
   "outputs": [],
   "source": []
  },
  {
   "cell_type": "code",
   "execution_count": null,
   "id": "smart-forum",
   "metadata": {},
   "outputs": [],
   "source": []
  },
  {
   "cell_type": "code",
   "execution_count": null,
   "id": "detailed-vegetation",
   "metadata": {},
   "outputs": [],
   "source": []
  },
  {
   "cell_type": "code",
   "execution_count": null,
   "id": "specialized-virgin",
   "metadata": {},
   "outputs": [],
   "source": []
  },
  {
   "cell_type": "code",
   "execution_count": null,
   "id": "operational-proportion",
   "metadata": {},
   "outputs": [],
   "source": []
  },
  {
   "cell_type": "code",
   "execution_count": null,
   "id": "exempt-final",
   "metadata": {},
   "outputs": [],
   "source": []
  },
  {
   "cell_type": "code",
   "execution_count": null,
   "id": "economic-beast",
   "metadata": {},
   "outputs": [],
   "source": []
  }
 ],
 "metadata": {
  "kernelspec": {
   "display_name": "Python 3",
   "language": "python",
   "name": "python3"
  },
  "language_info": {
   "codemirror_mode": {
    "name": "ipython",
    "version": 3
   },
   "file_extension": ".py",
   "mimetype": "text/x-python",
   "name": "python",
   "nbconvert_exporter": "python",
   "pygments_lexer": "ipython3",
   "version": "3.8.5"
  }
 },
 "nbformat": 4,
 "nbformat_minor": 5
}
