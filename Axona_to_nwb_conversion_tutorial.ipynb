{
 "cells": [
  {
   "cell_type": "markdown",
   "id": "6658dc45",
   "metadata": {},
   "source": [
    "# How to convert Axona data to NWB\n",
    "\n",
    "In this notebook we show how to convert Axona raw (`.bin` + `.set`) or unit data (`.X`, `.pos`, `.eeg`, `.egf`) to NWB format. Since the Hussaini lab already has tools for extracting unit data from raw data, we implemented conversions based on `.eeg` or `.egf` and `.pos` files for LFP and position data respectively, rather than extracting the information directly from the `.bin` file. \n",
    "\n",
    "For the `.pos` file data this will allow the option for generating a `.pos` file from another recording setup that can then be added to an `nwb` file.\n",
    "\n",
    "For convenience we made a few `NWBConverters` with various input files. Later we will also show how to add data from from e.g. a `.pos` file to an existing NWB file using the appropriate converter."
   ]
  },
  {
   "cell_type": "markdown",
   "id": "54ca292e",
   "metadata": {},
   "source": [
    "### Setting up the environment"
   ]
  },
  {
   "cell_type": "code",
   "execution_count": 1,
   "id": "bb07a20f",
   "metadata": {},
   "outputs": [],
   "source": [
    "import json\n",
    "from pathlib import Path\n",
    "\n",
    "import matplotlib.pyplot as plt\n",
    "from pynwb import NWBHDF5IO\n",
    "from nwbwidgets import nwb2widget"
   ]
  },
  {
   "cell_type": "code",
   "execution_count": 2,
   "id": "aed240c5",
   "metadata": {},
   "outputs": [],
   "source": [
    "from nwb_conversion_tools import (\n",
    "    NWBConverter,\n",
    "    AxonaRecordingExtractorInterface,\n",
    "    AxonaUnitRecordingExtractorInterface,\n",
    "    AxonaPositionDataInterface,\n",
    "    AxonaLFPDataInterface\n",
    ")"
   ]
  },
  {
   "cell_type": "code",
   "execution_count": 3,
   "id": "3d716e96",
   "metadata": {},
   "outputs": [],
   "source": [
    "# For convenience, make sure to select a set-filename for which we also have raw, tetrode, eeg, egf and pos data.\n",
    "\n",
    "filename = '/mnt/d/freelance-work/catalyst-neuro/hussaini-lab-to-nwb/sample_bin_to_tint/axona_sample.set'\n",
    "filename_eeg = filename.replace('.set', '.eeg')\n",
    "filename_egf = filename.replace('.set', '.egf')\n",
    "\n",
    "base_dir = Path(filename).parent"
   ]
  },
  {
   "cell_type": "code",
   "execution_count": 4,
   "id": "f4506f92",
   "metadata": {},
   "outputs": [],
   "source": [
    "from hussaini_lab_to_nwb import (\n",
    "    HussainiBinNWBConverter,\n",
    "    HussainiBinPosLfpNWBConverter,\n",
    "    HussainiTetrodeNWBConverter,\n",
    "    HussainiPosNWBConverter,\n",
    "    HussainiLfpNWBConverter,\n",
    "    HussainiUnitNWBConverter\n",
    ")"
   ]
  },
  {
   "cell_type": "markdown",
   "id": "075928ec",
   "metadata": {},
   "source": [
    "1. __HussainiBinPosLfpNWBConverter__: `.bin` + `.pos` + `.eeg` + `.set`"
   ]
  },
  {
   "cell_type": "code",
   "execution_count": 5,
   "id": "91a05821",
   "metadata": {},
   "outputs": [
    {
     "name": "stdout",
     "output_type": "stream",
     "text": [
      "{\n",
      "  \"AxonaLFPDataInterface\": {\n",
      "    \"filename\": \"/mnt/d/freelance-work/catalyst-neuro/hussaini-lab-to-nwb/sample_bin_to_tint/axona_sample.eeg\"\n",
      "  },\n",
      "  \"AxonaRecordingExtractorInterface\": {\n",
      "    \"filename\": \"/mnt/d/freelance-work/catalyst-neuro/hussaini-lab-to-nwb/sample_bin_to_tint/axona_sample.set\"\n",
      "  },\n",
      "  \"AxonaPositionDataInterface\": {\n",
      "    \"filename\": \"/mnt/d/freelance-work/catalyst-neuro/hussaini-lab-to-nwb/sample_bin_to_tint/axona_sample.set\"\n",
      "  }\n",
      "}\n",
      "Source data is valid!\n",
      "Metadata is valid!\n"
     ]
    },
    {
     "name": "stderr",
     "output_type": "stream",
     "text": [
      "/home/sbuergers/spikeinterface/hussaini-test-pipeline/venv/lib/python3.8/site-packages/pynwb/file.py:801: UserWarning: Date is missing timezone information. Updating to local timezone.\n",
      "  warn(\"Date is missing timezone information. Updating to local timezone.\")\n",
      "/home/sbuergers/spikeinterface/hussaini-test-pipeline/venv/lib/python3.8/site-packages/hdmf/common/table.py:447: UserWarning: An attribute 'name' already exists on DynamicTable 'electrodes' so this column cannot be accessed as an attribute, e.g., table.name; it can only be accessed using other methods, e.g., table['name'].\n",
      "  warn(msg)\n",
      "/home/sbuergers/spikeinterface/nwb-conversion-tools/nwb_conversion_tools/utils/spike_interface.py:302: UserWarning: cannot create electrodes for this recording as ids already exist\n",
      "  warnings.warn(\"cannot create electrodes for this recording as ids already exist\")\n",
      "/home/sbuergers/spikeinterface/hussaini-test-pipeline/venv/lib/python3.8/site-packages/spikeextractors/extraction_tools.py:802: UserWarning: The recording extractor does not have unscaled traces. Returning scaled traces\n",
      "  warnings.warn(\"The recording extractor does not have unscaled traces. Returning scaled traces\")\n",
      "/home/sbuergers/spikeinterface/hussaini-test-pipeline/venv/lib/python3.8/site-packages/hdmf/build/objectmapper.py:256: DtypeConversionWarning: Spec 'SpatialSeries/timestamps': Value with data type int64 is being converted to data type float64 as specified.\n",
      "  warnings.warn(full_warning_msg, DtypeConversionWarning)\n"
     ]
    },
    {
     "name": "stdout",
     "output_type": "stream",
     "text": [
      "NWB file saved at /mnt/d/freelance-work/catalyst-neuro/hussaini-lab-to-nwb/sample_bin_to_tint/nwb_test_bin_pos_lfp.nwb!\n"
     ]
    }
   ],
   "source": [
    "# Set nwbfile name\n",
    "nwbfile_name = 'nwb_test_bin_pos_lfp.nwb'\n",
    "\n",
    "\n",
    "# Specify source data\n",
    "source_data = dict(\n",
    "    AxonaLFPDataInterface=dict(filename=filename_eeg),\n",
    "    AxonaRecordingExtractorInterface=dict(filename=filename),\n",
    "    AxonaPositionDataInterface=dict(filename=filename),\n",
    ")\n",
    "print(json.dumps(source_data, indent=2))\n",
    "\n",
    "\n",
    "# Initialize Converter\n",
    "converter = HussainiBinPosLfpNWBConverter(source_data=source_data)\n",
    "\n",
    "\n",
    "# Get metadata\n",
    "metadata = converter.get_metadata()\n",
    "\n",
    "\n",
    "# Export to NWB file\n",
    "output_file = base_dir / nwbfile_name\n",
    "\n",
    "converter.run_conversion(\n",
    "    metadata=metadata,\n",
    "    nwbfile_path=output_file,\n",
    "    overwrite=True,\n",
    "    save_to_file=True,\n",
    "    conversion_options=None\n",
    ")"
   ]
  },
  {
   "cell_type": "code",
   "execution_count": 6,
   "id": "f8530c4a",
   "metadata": {
    "scrolled": false
   },
   "outputs": [
    {
     "name": "stdout",
     "output_type": "stream",
     "text": [
      "root pynwb.file.NWBFile at 0x140555491977728\n",
      "Fields:\n",
      "  acquisition: {\n",
      "    ElectricalSeries_raw <class 'pynwb.ecephys.ElectricalSeries'>\n",
      "  }\n",
      "  devices: {\n",
      "    Axona <class 'pynwb.device.Device'>\n",
      "  }\n",
      "  electrode_groups: {\n",
      "    Group0 <class 'pynwb.ecephys.ElectrodeGroup'>,\n",
      "    Group1 <class 'pynwb.ecephys.ElectrodeGroup'>,\n",
      "    Group2 <class 'pynwb.ecephys.ElectrodeGroup'>,\n",
      "    Group3 <class 'pynwb.ecephys.ElectrodeGroup'>\n",
      "  }\n",
      "  electrodes: electrodes <class 'hdmf.common.table.DynamicTable'>\n",
      "  experimenter: ['Abid']\n",
      "  file_create_date: [datetime.datetime(2021, 8, 7, 13, 11, 9, 488518, tzinfo=tzoffset(None, 7200))]\n",
      "  identifier: 8c286951-10ac-4baf-bcd5-6ce2fe5817a0\n",
      "  processing: {\n",
      "    behavior <class 'pynwb.base.ProcessingModule'>,\n",
      "    ecephys <class 'pynwb.base.ProcessingModule'>\n",
      "  }\n",
      "  session_start_time: 2020-10-04 11:07:07+02:00\n",
      "  timestamps_reference_time: 2020-10-04 11:07:07+02:00\n",
      "\n"
     ]
    },
    {
     "data": {
      "application/vnd.jupyter.widget-view+json": {
       "model_id": "12d02a96a32046f78e021bbd3b259b06",
       "version_major": 2,
       "version_minor": 0
      },
      "text/plain": [
       "VBox(children=(HBox(children=(Label(value='session_description:', layout=Layout(max_height='40px', max_width='…"
      ]
     },
     "metadata": {},
     "output_type": "display_data"
    }
   ],
   "source": [
    "# Check NWB file\n",
    "\n",
    "fname = output_file\n",
    "with NWBHDF5IO(fname, 'r') as io:\n",
    "    nwbfile = io.read()\n",
    "    print(nwbfile)\n",
    "    \n",
    "\n",
    "%matplotlib inline\n",
    "\n",
    "io = NWBHDF5IO(output_file, mode='r')\n",
    "nwb = io.read()\n",
    "\n",
    "nwb2widget(nwb)"
   ]
  },
  {
   "cell_type": "markdown",
   "id": "aff84918",
   "metadata": {},
   "source": [
    "2. __HussainiBinNWBConverter__: `.bin` + `.set`"
   ]
  },
  {
   "cell_type": "code",
   "execution_count": 6,
   "id": "fd49496c",
   "metadata": {},
   "outputs": [
    {
     "name": "stdout",
     "output_type": "stream",
     "text": [
      "{\n",
      "  \"AxonaRecordingExtractorInterface\": {\n",
      "    \"filename\": \"/mnt/d/freelance-work/catalyst-neuro/hussaini-lab-to-nwb/sample_bin_to_tint/axona_sample.set\"\n",
      "  }\n",
      "}\n",
      "Source data is valid!\n",
      "Metadata is valid!\n"
     ]
    },
    {
     "name": "stderr",
     "output_type": "stream",
     "text": [
      "/home/sbuergers/spikeinterface/hussaini-test-pipeline/venv/lib/python3.8/site-packages/pynwb/file.py:801: UserWarning: Date is missing timezone information. Updating to local timezone.\n",
      "  warn(\"Date is missing timezone information. Updating to local timezone.\")\n",
      "/home/sbuergers/spikeinterface/hussaini-test-pipeline/venv/lib/python3.8/site-packages/hdmf/common/table.py:447: UserWarning: An attribute 'name' already exists on DynamicTable 'electrodes' so this column cannot be accessed as an attribute, e.g., table.name; it can only be accessed using other methods, e.g., table['name'].\n",
      "  warn(msg)\n"
     ]
    },
    {
     "name": "stdout",
     "output_type": "stream",
     "text": [
      "NWB file saved at /mnt/d/freelance-work/catalyst-neuro/hussaini-lab-to-nwb/sample_bin_to_tint/nwb_test_bin2.nwb!\n",
      "root pynwb.file.NWBFile at 0x140559522303040\n",
      "Fields:\n",
      "  acquisition: {\n",
      "    ElectricalSeries_raw <class 'pynwb.ecephys.ElectricalSeries'>\n",
      "  }\n",
      "  devices: {\n",
      "    Axona <class 'pynwb.device.Device'>\n",
      "  }\n",
      "  electrode_groups: {\n",
      "    Group0 <class 'pynwb.ecephys.ElectrodeGroup'>,\n",
      "    Group1 <class 'pynwb.ecephys.ElectrodeGroup'>,\n",
      "    Group2 <class 'pynwb.ecephys.ElectrodeGroup'>,\n",
      "    Group3 <class 'pynwb.ecephys.ElectrodeGroup'>\n",
      "  }\n",
      "  electrodes: electrodes <class 'hdmf.common.table.DynamicTable'>\n",
      "  experimenter: ['Abid']\n",
      "  file_create_date: [datetime.datetime(2021, 8, 7, 13, 16, 23, 266145, tzinfo=tzoffset(None, 7200))]\n",
      "  identifier: 809854b5-5306-4696-bfba-205b584fd5ae\n",
      "  session_start_time: 2020-10-04 11:07:07+02:00\n",
      "  timestamps_reference_time: 2020-10-04 11:07:07+02:00\n",
      "\n"
     ]
    },
    {
     "data": {
      "application/vnd.jupyter.widget-view+json": {
       "model_id": "150e1342c28845228fe23417fd6ab4e2",
       "version_major": 2,
       "version_minor": 0
      },
      "text/plain": [
       "VBox(children=(HBox(children=(Label(value='session_description:', layout=Layout(max_height='40px', max_width='…"
      ]
     },
     "metadata": {},
     "output_type": "display_data"
    }
   ],
   "source": [
    "# Set nwbfile name\n",
    "nwbfile_name = 'nwb_test_bin.nwb'\n",
    "\n",
    "\n",
    "# Specify source data\n",
    "source_data = dict(\n",
    "    AxonaRecordingExtractorInterface=dict(filename=filename)\n",
    ")\n",
    "print(json.dumps(source_data, indent=2))\n",
    "\n",
    "\n",
    "# Initialize Converter\n",
    "converter = HussainiBinNWBConverter(source_data=source_data)\n",
    "\n",
    "\n",
    "# Get metadata\n",
    "metadata = converter.get_metadata()\n",
    "\n",
    "\n",
    "# Export to NWB file\n",
    "output_file = base_dir / nwbfile_name\n",
    "\n",
    "converter.run_conversion(\n",
    "    metadata=metadata,\n",
    "    nwbfile_path=output_file,\n",
    "    overwrite=True,\n",
    "    save_to_file=True,\n",
    "    conversion_options=None\n",
    ")\n",
    "\n",
    "\n",
    "# Check NWB file\n",
    "fname = output_file\n",
    "with NWBHDF5IO(fname, 'r') as io:\n",
    "    nwbfile = io.read()\n",
    "    print(nwbfile)\n",
    "    \n",
    "\n",
    "%matplotlib inline\n",
    "\n",
    "io = NWBHDF5IO(output_file, mode='r')\n",
    "nwb = io.read()\n",
    "\n",
    "nwb2widget(nwb)"
   ]
  },
  {
   "cell_type": "markdown",
   "id": "b09e318e",
   "metadata": {},
   "source": [
    "3. __HussainiTetrodeNWBConverter__: `.X` + `.set`"
   ]
  },
  {
   "cell_type": "code",
   "execution_count": 7,
   "id": "23a8b73f",
   "metadata": {
    "scrolled": false
   },
   "outputs": [
    {
     "name": "stdout",
     "output_type": "stream",
     "text": [
      "{\n",
      "  \"AxonaUnitRecordingExtractorInterface\": {\n",
      "    \"filename\": \"/mnt/d/freelance-work/catalyst-neuro/hussaini-lab-to-nwb/sample_bin_to_tint/axona_sample.set\"\n",
      "  }\n",
      "}\n",
      "Source data is valid!\n",
      "Metadata is valid!\n",
      "NWB file saved at /mnt/d/freelance-work/catalyst-neuro/hussaini-lab-to-nwb/sample_bin_to_tint/nwb_test_tetrode.nwb!\n",
      "root pynwb.file.NWBFile at 0x140558001034720\n",
      "Fields:\n",
      "  acquisition: {\n",
      "    ElectricalSeries_raw <class 'pynwb.ecephys.ElectricalSeries'>\n",
      "  }\n",
      "  devices: {\n",
      "    Axona <class 'pynwb.device.Device'>\n",
      "  }\n",
      "  electrode_groups: {\n",
      "    Group0 <class 'pynwb.ecephys.ElectrodeGroup'>,\n",
      "    Group1 <class 'pynwb.ecephys.ElectrodeGroup'>,\n",
      "    Group2 <class 'pynwb.ecephys.ElectrodeGroup'>,\n",
      "    Group3 <class 'pynwb.ecephys.ElectrodeGroup'>\n",
      "  }\n",
      "  electrodes: electrodes <class 'hdmf.common.table.DynamicTable'>\n",
      "  experimenter: ['Abid']\n",
      "  file_create_date: [datetime.datetime(2021, 8, 7, 13, 16, 36, 922929, tzinfo=tzoffset(None, 7200))]\n",
      "  identifier: 938f0e64-5a7d-4175-832c-d54712e1f055\n",
      "  session_start_time: 2020-10-04 11:07:07+02:00\n",
      "  timestamps_reference_time: 2020-10-04 11:07:07+02:00\n",
      "\n"
     ]
    },
    {
     "data": {
      "application/vnd.jupyter.widget-view+json": {
       "model_id": "b555c5eebde14414812c08135a5ebec8",
       "version_major": 2,
       "version_minor": 0
      },
      "text/plain": [
       "VBox(children=(HBox(children=(Label(value='session_description:', layout=Layout(max_height='40px', max_width='…"
      ]
     },
     "metadata": {},
     "output_type": "display_data"
    }
   ],
   "source": [
    "# Set nwbfile name\n",
    "nwbfile_name = 'nwb_test_tetrode.nwb'\n",
    "\n",
    "\n",
    "# Specify source data\n",
    "source_data = dict(\n",
    "    AxonaUnitRecordingExtractorInterface=dict(filename=filename)\n",
    ")\n",
    "print(json.dumps(source_data, indent=2))\n",
    "\n",
    "\n",
    "# Initialize Converter\n",
    "converter = HussainiTetrodeNWBConverter(source_data=source_data)\n",
    "\n",
    "\n",
    "# Get metadata\n",
    "metadata = converter.get_metadata()\n",
    "\n",
    "\n",
    "# Export to NWB file\n",
    "output_file = base_dir / nwbfile_name\n",
    "\n",
    "converter.run_conversion(\n",
    "    metadata=metadata,\n",
    "    nwbfile_path=output_file,\n",
    "    overwrite=True,\n",
    "    save_to_file=True,\n",
    "    conversion_options=None\n",
    ")\n",
    "\n",
    "\n",
    "# Check NWB file\n",
    "\n",
    "fname = output_file\n",
    "with NWBHDF5IO(fname, 'r') as io:\n",
    "    nwbfile = io.read()\n",
    "    print(nwbfile)\n",
    "    \n",
    "\n",
    "%matplotlib inline\n",
    "\n",
    "io = NWBHDF5IO(output_file, mode='r')\n",
    "nwb = io.read()\n",
    "\n",
    "nwb2widget(nwb)"
   ]
  },
  {
   "cell_type": "markdown",
   "id": "11d6b435",
   "metadata": {},
   "source": [
    "4. __HussainiPosNWBConverter__: `.pos` + `.set`"
   ]
  },
  {
   "cell_type": "code",
   "execution_count": 8,
   "id": "47610b0f",
   "metadata": {},
   "outputs": [
    {
     "name": "stdout",
     "output_type": "stream",
     "text": [
      "{\n",
      "  \"AxonaPositionDataInterface\": {\n",
      "    \"filename\": \"/mnt/d/freelance-work/catalyst-neuro/hussaini-lab-to-nwb/sample_bin_to_tint/axona_sample.set\"\n",
      "  }\n",
      "}\n",
      "Source data is valid!\n",
      "Metadata is valid!\n"
     ]
    },
    {
     "name": "stderr",
     "output_type": "stream",
     "text": [
      "/home/sbuergers/spikeinterface/hussaini-test-pipeline/venv/lib/python3.8/site-packages/hdmf/build/objectmapper.py:256: DtypeConversionWarning: Spec 'SpatialSeries/timestamps': Value with data type int64 is being converted to data type float64 as specified.\n",
      "  warnings.warn(full_warning_msg, DtypeConversionWarning)\n"
     ]
    },
    {
     "name": "stdout",
     "output_type": "stream",
     "text": [
      "NWB file saved at /mnt/d/freelance-work/catalyst-neuro/hussaini-lab-to-nwb/sample_bin_to_tint/nwb_test_pos.nwb!\n",
      "root pynwb.file.NWBFile at 0x140557352545776\n",
      "Fields:\n",
      "  file_create_date: [datetime.datetime(2021, 8, 7, 13, 16, 42, 465907, tzinfo=tzoffset(None, 7200))]\n",
      "  identifier: 5d57a843-ece2-42bc-bb07-7c320c689e7c\n",
      "  processing: {\n",
      "    behavior <class 'pynwb.base.ProcessingModule'>\n",
      "  }\n",
      "  session_description: no description\n",
      "  session_start_time: 1970-01-01 00:00:00+01:00\n",
      "  timestamps_reference_time: 1970-01-01 00:00:00+01:00\n",
      "\n"
     ]
    },
    {
     "data": {
      "application/vnd.jupyter.widget-view+json": {
       "model_id": "505bab01633141e2930c8d2ea9f91adb",
       "version_major": 2,
       "version_minor": 0
      },
      "text/plain": [
       "VBox(children=(HBox(children=(Label(value='session_description:', layout=Layout(max_height='40px', max_width='…"
      ]
     },
     "metadata": {},
     "output_type": "display_data"
    }
   ],
   "source": [
    "\n",
    "# Set nwbfile name\n",
    "nwbfile_name = 'nwb_test_pos.nwb'\n",
    "\n",
    "\n",
    "# Specify source data\n",
    "source_data = dict(\n",
    "    AxonaPositionDataInterface=dict(filename=filename),\n",
    ")\n",
    "print(json.dumps(source_data, indent=2))\n",
    "\n",
    "\n",
    "# Initialize Converter\n",
    "converter = HussainiPosNWBConverter(source_data=source_data)\n",
    "\n",
    "\n",
    "# Get metadata\n",
    "metadata = converter.get_metadata()\n",
    "\n",
    "\n",
    "# Export to NWB file\n",
    "output_file = base_dir / nwbfile_name\n",
    "\n",
    "converter.run_conversion(\n",
    "    metadata=metadata,\n",
    "    nwbfile_path=output_file,\n",
    "    overwrite=True,\n",
    "    save_to_file=True,\n",
    "    conversion_options=None\n",
    ")\n",
    "\n",
    "\n",
    "# Check NWB file\n",
    "\n",
    "fname = output_file\n",
    "with NWBHDF5IO(fname, 'r') as io:\n",
    "    nwbfile = io.read()\n",
    "    print(nwbfile)\n",
    "    \n",
    "\n",
    "%matplotlib inline\n",
    "\n",
    "io = NWBHDF5IO(output_file, mode='r')\n",
    "nwb = io.read()\n",
    "\n",
    "nwb2widget(nwb)"
   ]
  },
  {
   "cell_type": "markdown",
   "id": "540c8c43",
   "metadata": {},
   "source": [
    "5. __HussainiLfpNWBConverter__: `.eeg` + `.set`\n"
   ]
  },
  {
   "cell_type": "code",
   "execution_count": 9,
   "id": "0c4b81dc",
   "metadata": {},
   "outputs": [
    {
     "name": "stdout",
     "output_type": "stream",
     "text": [
      "{\n",
      "  \"AxonaLFPDataInterface\": {\n",
      "    \"filename\": \"/mnt/d/freelance-work/catalyst-neuro/hussaini-lab-to-nwb/sample_bin_to_tint/axona_sample.eeg\"\n",
      "  }\n",
      "}\n",
      "Source data is valid!\n",
      "Metadata is valid!\n"
     ]
    },
    {
     "name": "stderr",
     "output_type": "stream",
     "text": [
      "/home/sbuergers/spikeinterface/hussaini-test-pipeline/venv/lib/python3.8/site-packages/spikeextractors/extraction_tools.py:802: UserWarning: The recording extractor does not have unscaled traces. Returning scaled traces\n",
      "  warnings.warn(\"The recording extractor does not have unscaled traces. Returning scaled traces\")\n"
     ]
    },
    {
     "name": "stdout",
     "output_type": "stream",
     "text": [
      "NWB file saved at /mnt/d/freelance-work/catalyst-neuro/hussaini-lab-to-nwb/sample_bin_to_tint/nwb_test_lfp_eeg.nwb!\n",
      "root pynwb.file.NWBFile at 0x140557347712784\n",
      "Fields:\n",
      "  devices: {\n",
      "    Axona <class 'pynwb.device.Device'>\n",
      "  }\n",
      "  electrode_groups: {\n",
      "    Group0 <class 'pynwb.ecephys.ElectrodeGroup'>\n",
      "  }\n",
      "  electrodes: electrodes <class 'hdmf.common.table.DynamicTable'>\n",
      "  experimenter: ['Abid']\n",
      "  file_create_date: [datetime.datetime(2021, 8, 7, 13, 16, 45, 865855, tzinfo=tzoffset(None, 7200))]\n",
      "  identifier: 7e033d59-4973-4dc6-a752-8905637f4eb3\n",
      "  processing: {\n",
      "    ecephys <class 'pynwb.base.ProcessingModule'>\n",
      "  }\n",
      "  session_start_time: 2020-10-04 11:07:07+02:00\n",
      "  timestamps_reference_time: 2020-10-04 11:07:07+02:00\n",
      "\n"
     ]
    },
    {
     "data": {
      "application/vnd.jupyter.widget-view+json": {
       "model_id": "b2714c6c1fef4de1916088c3ab0db650",
       "version_major": 2,
       "version_minor": 0
      },
      "text/plain": [
       "VBox(children=(HBox(children=(Label(value='session_description:', layout=Layout(max_height='40px', max_width='…"
      ]
     },
     "metadata": {},
     "output_type": "display_data"
    }
   ],
   "source": [
    "\n",
    "# Set nwbfile name\n",
    "nwbfile_name = 'nwb_test_lfp_eeg.nwb'\n",
    "\n",
    "\n",
    "# Specify source data\n",
    "source_data = dict(\n",
    "    AxonaLFPDataInterface=dict(filename=filename_eeg)\n",
    ")\n",
    "print(json.dumps(source_data, indent=2))\n",
    "\n",
    "\n",
    "# Initialize Converter\n",
    "converter = HussainiLfpNWBConverter(source_data=source_data)\n",
    "\n",
    "\n",
    "# Get metadata\n",
    "metadata = converter.get_metadata()\n",
    "\n",
    "\n",
    "# Export to NWB file\n",
    "output_file = base_dir / nwbfile_name\n",
    "\n",
    "converter.run_conversion(\n",
    "    metadata=metadata,\n",
    "    nwbfile_path=output_file,\n",
    "    overwrite=True,\n",
    "    save_to_file=True,\n",
    "    conversion_options=None\n",
    ")\n",
    "\n",
    "\n",
    "# Check NWB file\n",
    "\n",
    "fname = output_file\n",
    "with NWBHDF5IO(fname, 'r') as io:\n",
    "    nwbfile = io.read()\n",
    "    print(nwbfile)\n",
    "    \n",
    "\n",
    "%matplotlib inline\n",
    "\n",
    "io = NWBHDF5IO(output_file, mode='r')\n",
    "nwb = io.read()\n",
    "\n",
    "nwb2widget(nwb)"
   ]
  },
  {
   "cell_type": "markdown",
   "id": "647a71ad",
   "metadata": {},
   "source": [
    "6. __HussainiLfpNWBConverter__: `.egf` + `.set`\n"
   ]
  },
  {
   "cell_type": "code",
   "execution_count": 10,
   "id": "001088d0",
   "metadata": {},
   "outputs": [
    {
     "name": "stdout",
     "output_type": "stream",
     "text": [
      "{\n",
      "  \"AxonaLFPDataInterface\": {\n",
      "    \"filename\": \"/mnt/d/freelance-work/catalyst-neuro/hussaini-lab-to-nwb/sample_bin_to_tint/axona_sample.egf\"\n",
      "  }\n",
      "}\n",
      "Source data is valid!\n",
      "Metadata is valid!\n",
      "NWB file saved at /mnt/d/freelance-work/catalyst-neuro/hussaini-lab-to-nwb/sample_bin_to_tint/nwb_test_lfp_egf.nwb!\n",
      "root pynwb.file.NWBFile at 0x140557347343616\n",
      "Fields:\n",
      "  devices: {\n",
      "    Axona <class 'pynwb.device.Device'>\n",
      "  }\n",
      "  electrode_groups: {\n",
      "    Group0 <class 'pynwb.ecephys.ElectrodeGroup'>\n",
      "  }\n",
      "  electrodes: electrodes <class 'hdmf.common.table.DynamicTable'>\n",
      "  experimenter: ['Abid']\n",
      "  file_create_date: [datetime.datetime(2021, 8, 7, 13, 16, 49, 479659, tzinfo=tzoffset(None, 7200))]\n",
      "  identifier: 6080d315-77d6-4d22-a6c1-94c06a2359bf\n",
      "  processing: {\n",
      "    ecephys <class 'pynwb.base.ProcessingModule'>\n",
      "  }\n",
      "  session_start_time: 2020-10-04 11:07:07+02:00\n",
      "  timestamps_reference_time: 2020-10-04 11:07:07+02:00\n",
      "\n"
     ]
    },
    {
     "data": {
      "application/vnd.jupyter.widget-view+json": {
       "model_id": "34685091ca364b88a7bf3a820a6d6dcb",
       "version_major": 2,
       "version_minor": 0
      },
      "text/plain": [
       "VBox(children=(HBox(children=(Label(value='session_description:', layout=Layout(max_height='40px', max_width='…"
      ]
     },
     "metadata": {},
     "output_type": "display_data"
    }
   ],
   "source": [
    "\n",
    "# Set nwbfile name\n",
    "nwbfile_name = 'nwb_test_lfp_egf.nwb'\n",
    "\n",
    "\n",
    "# Specify source data\n",
    "source_data = dict(\n",
    "    AxonaLFPDataInterface=dict(filename=filename_egf)\n",
    ")\n",
    "print(json.dumps(source_data, indent=2))\n",
    "\n",
    "\n",
    "# Initialize Converter\n",
    "converter = HussainiLfpNWBConverter(source_data=source_data)\n",
    "\n",
    "\n",
    "# Get metadata\n",
    "metadata = converter.get_metadata()\n",
    "\n",
    "\n",
    "# Export to NWB file\n",
    "output_file = base_dir / nwbfile_name\n",
    "\n",
    "converter.run_conversion(\n",
    "    metadata=metadata,\n",
    "    nwbfile_path=output_file,\n",
    "    overwrite=True,\n",
    "    save_to_file=True,\n",
    "    conversion_options=None\n",
    ")\n",
    "\n",
    "\n",
    "# Check NWB file\n",
    "\n",
    "fname = output_file\n",
    "with NWBHDF5IO(fname, 'r') as io:\n",
    "    nwbfile = io.read()\n",
    "    print(nwbfile)\n",
    "    \n",
    "\n",
    "%matplotlib inline\n",
    "\n",
    "io = NWBHDF5IO(output_file, mode='r')\n",
    "nwb = io.read()\n",
    "\n",
    "nwb2widget(nwb)"
   ]
  },
  {
   "cell_type": "markdown",
   "id": "7ad802b3",
   "metadata": {},
   "source": [
    "7. __HussainiUnitNWBConverter__: `.X` + `.pos` + `.eeg` + `.set`"
   ]
  },
  {
   "cell_type": "code",
   "execution_count": 11,
   "id": "934e8f33",
   "metadata": {
    "scrolled": false
   },
   "outputs": [
    {
     "name": "stdout",
     "output_type": "stream",
     "text": [
      "{\n",
      "  \"AxonaLFPDataInterface\": {\n",
      "    \"filename\": \"/mnt/d/freelance-work/catalyst-neuro/hussaini-lab-to-nwb/sample_bin_to_tint/axona_sample.eeg\"\n",
      "  },\n",
      "  \"AxonaUnitRecordingExtractorInterface\": {\n",
      "    \"filename\": \"/mnt/d/freelance-work/catalyst-neuro/hussaini-lab-to-nwb/sample_bin_to_tint/axona_sample.set\"\n",
      "  },\n",
      "  \"AxonaPositionDataInterface\": {\n",
      "    \"filename\": \"/mnt/d/freelance-work/catalyst-neuro/hussaini-lab-to-nwb/sample_bin_to_tint/axona_sample.set\"\n",
      "  }\n",
      "}\n",
      "Source data is valid!\n",
      "Metadata is valid!\n"
     ]
    },
    {
     "name": "stderr",
     "output_type": "stream",
     "text": [
      "/home/sbuergers/spikeinterface/nwb-conversion-tools/nwb_conversion_tools/utils/spike_interface.py:302: UserWarning: cannot create electrodes for this recording as ids already exist\n",
      "  warnings.warn(\"cannot create electrodes for this recording as ids already exist\")\n"
     ]
    },
    {
     "name": "stdout",
     "output_type": "stream",
     "text": [
      "NWB file saved at /mnt/d/freelance-work/catalyst-neuro/hussaini-lab-to-nwb/sample_bin_to_tint/nwb_test_unit_eeg.nwb!\n",
      "root pynwb.file.NWBFile at 0x140557347188896\n",
      "Fields:\n",
      "  acquisition: {\n",
      "    ElectricalSeries_raw <class 'pynwb.ecephys.ElectricalSeries'>\n",
      "  }\n",
      "  devices: {\n",
      "    Axona <class 'pynwb.device.Device'>\n",
      "  }\n",
      "  electrode_groups: {\n",
      "    Group0 <class 'pynwb.ecephys.ElectrodeGroup'>,\n",
      "    Group1 <class 'pynwb.ecephys.ElectrodeGroup'>,\n",
      "    Group2 <class 'pynwb.ecephys.ElectrodeGroup'>,\n",
      "    Group3 <class 'pynwb.ecephys.ElectrodeGroup'>\n",
      "  }\n",
      "  electrodes: electrodes <class 'hdmf.common.table.DynamicTable'>\n",
      "  experimenter: ['Abid']\n",
      "  file_create_date: [datetime.datetime(2021, 8, 7, 13, 16, 52, 87744, tzinfo=tzoffset(None, 7200))]\n",
      "  identifier: 0748ff8f-b98f-478b-a98c-a46ac33a6dc2\n",
      "  processing: {\n",
      "    behavior <class 'pynwb.base.ProcessingModule'>,\n",
      "    ecephys <class 'pynwb.base.ProcessingModule'>\n",
      "  }\n",
      "  session_start_time: 2020-10-04 11:07:07+02:00\n",
      "  timestamps_reference_time: 2020-10-04 11:07:07+02:00\n",
      "\n"
     ]
    },
    {
     "data": {
      "application/vnd.jupyter.widget-view+json": {
       "model_id": "69287638b5a548fb885a8bbc5d677f22",
       "version_major": 2,
       "version_minor": 0
      },
      "text/plain": [
       "VBox(children=(HBox(children=(Label(value='session_description:', layout=Layout(max_height='40px', max_width='…"
      ]
     },
     "metadata": {},
     "output_type": "display_data"
    }
   ],
   "source": [
    "\n",
    "# Set nwbfile name\n",
    "nwbfile_name = 'nwb_test_unit_eeg.nwb'\n",
    "\n",
    "\n",
    "# Specify source data\n",
    "source_data = dict(\n",
    "    AxonaLFPDataInterface=dict(filename=filename_eeg),\n",
    "    AxonaUnitRecordingExtractorInterface=dict(filename=filename),\n",
    "    AxonaPositionDataInterface=dict(filename=filename),\n",
    ")\n",
    "print(json.dumps(source_data, indent=2))\n",
    "\n",
    "\n",
    "# Initialize Converter\n",
    "converter = HussainiUnitNWBConverter(source_data=source_data)\n",
    "\n",
    "\n",
    "# Get metadata\n",
    "metadata = converter.get_metadata()\n",
    "\n",
    "\n",
    "# Export to NWB file\n",
    "output_file = base_dir / nwbfile_name\n",
    "\n",
    "converter.run_conversion(\n",
    "    metadata=metadata,\n",
    "    nwbfile_path=output_file,\n",
    "    overwrite=True,\n",
    "    save_to_file=True,\n",
    "    conversion_options=None\n",
    ")\n",
    "\n",
    "\n",
    "# Check NWB file\n",
    "\n",
    "fname = output_file\n",
    "with NWBHDF5IO(fname, 'r') as io:\n",
    "    nwbfile = io.read()\n",
    "    print(nwbfile)\n",
    "    \n",
    "\n",
    "%matplotlib inline\n",
    "\n",
    "io = NWBHDF5IO(output_file, mode='r')\n",
    "nwb = io.read()\n",
    "\n",
    "nwb2widget(nwb)"
   ]
  },
  {
   "cell_type": "markdown",
   "id": "58a61fd0",
   "metadata": {},
   "source": [
    "8. __HussainiUnitNWBConverter__: `.X` + `.pos` + `.egf` + `.set`"
   ]
  },
  {
   "cell_type": "code",
   "execution_count": 12,
   "id": "f4bfc8fb",
   "metadata": {
    "scrolled": false
   },
   "outputs": [
    {
     "name": "stdout",
     "output_type": "stream",
     "text": [
      "{\n",
      "  \"AxonaLFPDataInterface\": {\n",
      "    \"filename\": \"/mnt/d/freelance-work/catalyst-neuro/hussaini-lab-to-nwb/sample_bin_to_tint/axona_sample.egf\"\n",
      "  },\n",
      "  \"AxonaUnitRecordingExtractorInterface\": {\n",
      "    \"filename\": \"/mnt/d/freelance-work/catalyst-neuro/hussaini-lab-to-nwb/sample_bin_to_tint/axona_sample.set\"\n",
      "  },\n",
      "  \"AxonaPositionDataInterface\": {\n",
      "    \"filename\": \"/mnt/d/freelance-work/catalyst-neuro/hussaini-lab-to-nwb/sample_bin_to_tint/axona_sample.set\"\n",
      "  }\n",
      "}\n",
      "Source data is valid!\n",
      "Metadata is valid!\n",
      "NWB file saved at /mnt/d/freelance-work/catalyst-neuro/hussaini-lab-to-nwb/sample_bin_to_tint/nwb_test_unit_egf.nwb!\n",
      "root pynwb.file.NWBFile at 0x140557347485056\n",
      "Fields:\n",
      "  acquisition: {\n",
      "    ElectricalSeries_raw <class 'pynwb.ecephys.ElectricalSeries'>\n",
      "  }\n",
      "  devices: {\n",
      "    Axona <class 'pynwb.device.Device'>\n",
      "  }\n",
      "  electrode_groups: {\n",
      "    Group0 <class 'pynwb.ecephys.ElectrodeGroup'>,\n",
      "    Group1 <class 'pynwb.ecephys.ElectrodeGroup'>,\n",
      "    Group2 <class 'pynwb.ecephys.ElectrodeGroup'>,\n",
      "    Group3 <class 'pynwb.ecephys.ElectrodeGroup'>\n",
      "  }\n",
      "  electrodes: electrodes <class 'hdmf.common.table.DynamicTable'>\n",
      "  experimenter: ['Abid']\n",
      "  file_create_date: [datetime.datetime(2021, 8, 7, 13, 16, 56, 587799, tzinfo=tzoffset(None, 7200))]\n",
      "  identifier: b1341c6b-1925-4f08-9318-2cb56869227e\n",
      "  processing: {\n",
      "    behavior <class 'pynwb.base.ProcessingModule'>,\n",
      "    ecephys <class 'pynwb.base.ProcessingModule'>\n",
      "  }\n",
      "  session_start_time: 2020-10-04 11:07:07+02:00\n",
      "  timestamps_reference_time: 2020-10-04 11:07:07+02:00\n",
      "\n"
     ]
    },
    {
     "data": {
      "application/vnd.jupyter.widget-view+json": {
       "model_id": "9e4cf6ceb06b4adbac31b2cbf828406d",
       "version_major": 2,
       "version_minor": 0
      },
      "text/plain": [
       "VBox(children=(HBox(children=(Label(value='session_description:', layout=Layout(max_height='40px', max_width='…"
      ]
     },
     "metadata": {},
     "output_type": "display_data"
    }
   ],
   "source": [
    "\n",
    "# Set nwbfile name\n",
    "nwbfile_name = 'nwb_test_unit_egf.nwb'\n",
    "\n",
    "\n",
    "# Specify source data\n",
    "source_data = dict(\n",
    "    AxonaLFPDataInterface=dict(filename=filename_egf),\n",
    "    AxonaUnitRecordingExtractorInterface=dict(filename=filename),\n",
    "    AxonaPositionDataInterface=dict(filename=filename),\n",
    ")\n",
    "print(json.dumps(source_data, indent=2))\n",
    "\n",
    "\n",
    "# Initialize Converter\n",
    "converter = HussainiUnitNWBConverter(source_data=source_data)\n",
    "\n",
    "\n",
    "# Get metadata\n",
    "metadata = converter.get_metadata()\n",
    "\n",
    "\n",
    "# Export to NWB file\n",
    "output_file = base_dir / nwbfile_name\n",
    "\n",
    "converter.run_conversion(\n",
    "    metadata=metadata,\n",
    "    nwbfile_path=output_file,\n",
    "    overwrite=True,\n",
    "    save_to_file=True,\n",
    "    conversion_options=None\n",
    ")\n",
    "\n",
    "\n",
    "# Check NWB file\n",
    "\n",
    "fname = output_file\n",
    "with NWBHDF5IO(fname, 'r') as io:\n",
    "    nwbfile = io.read()\n",
    "    print(nwbfile)\n",
    "    \n",
    "\n",
    "%matplotlib inline\n",
    "\n",
    "io = NWBHDF5IO(output_file, mode='r')\n",
    "nwb = io.read()\n",
    "\n",
    "nwb2widget(nwb)"
   ]
  },
  {
   "cell_type": "markdown",
   "id": "0d636a18",
   "metadata": {},
   "source": [
    "## Adding data to existing nwb files"
   ]
  },
  {
   "cell_type": "markdown",
   "id": "0ec46ed0",
   "metadata": {},
   "source": [
    "Add `.pos` and `.eeg` data to `.bin` acquisition\n",
    "\n",
    "__Note:__ We did not appropriately close the connection to the nwbfile earlier, and running the below code without doing so will result in an error. To avoid this, simply restart the notebook, evaluate the imports at the beginning and do not evaluate any of the above cells containing inspections of the nwbfiles with nwbwidgets."
   ]
  },
  {
   "cell_type": "code",
   "execution_count": 1,
   "id": "33a390e6",
   "metadata": {},
   "outputs": [
    {
     "ename": "NameError",
     "evalue": "name 'filename' is not defined",
     "output_type": "error",
     "traceback": [
      "\u001b[0;31m---------------------------------------------------------------------------\u001b[0m",
      "\u001b[0;31mNameError\u001b[0m                                 Traceback (most recent call last)",
      "\u001b[0;32m/tmp/ipykernel_30758/744184100.py\u001b[0m in \u001b[0;36m<module>\u001b[0;34m\u001b[0m\n\u001b[1;32m      5\u001b[0m \u001b[0;31m# Specify source data for pos\u001b[0m\u001b[0;34m\u001b[0m\u001b[0;34m\u001b[0m\u001b[0;34m\u001b[0m\u001b[0m\n\u001b[1;32m      6\u001b[0m source_data = dict(\n\u001b[0;32m----> 7\u001b[0;31m     \u001b[0mAxonaPositionDataInterface\u001b[0m\u001b[0;34m=\u001b[0m\u001b[0mdict\u001b[0m\u001b[0;34m(\u001b[0m\u001b[0mfilename\u001b[0m\u001b[0;34m=\u001b[0m\u001b[0mfilename\u001b[0m\u001b[0;34m)\u001b[0m\u001b[0;34m,\u001b[0m\u001b[0;34m\u001b[0m\u001b[0;34m\u001b[0m\u001b[0m\n\u001b[0m\u001b[1;32m      8\u001b[0m )\n\u001b[1;32m      9\u001b[0m \u001b[0mprint\u001b[0m\u001b[0;34m(\u001b[0m\u001b[0mjson\u001b[0m\u001b[0;34m.\u001b[0m\u001b[0mdumps\u001b[0m\u001b[0;34m(\u001b[0m\u001b[0msource_data\u001b[0m\u001b[0;34m,\u001b[0m \u001b[0mindent\u001b[0m\u001b[0;34m=\u001b[0m\u001b[0;36m2\u001b[0m\u001b[0;34m)\u001b[0m\u001b[0;34m)\u001b[0m\u001b[0;34m\u001b[0m\u001b[0;34m\u001b[0m\u001b[0m\n",
      "\u001b[0;31mNameError\u001b[0m: name 'filename' is not defined"
     ]
    }
   ],
   "source": [
    "\n",
    "# Set nwbfile name\n",
    "nwbfile_name = 'nwb_test_bin.nwb'\n",
    "\n",
    "\n",
    "# Specify source data for pos\n",
    "source_data = dict(\n",
    "    AxonaPositionDataInterface=dict(filename=filename),\n",
    ")\n",
    "print(json.dumps(source_data, indent=2))\n",
    "\n",
    "\n",
    "# Initialize Converter\n",
    "converter = HussainiPosNWBConverter(source_data=source_data)\n",
    "\n",
    "\n",
    "# Get metadata\n",
    "metadata = converter.get_metadata()\n",
    "\n",
    "\n",
    "# Export to NWB file\n",
    "output_file = base_dir / nwbfile_name\n",
    "\n",
    "converter.run_conversion(\n",
    "    metadata=metadata,\n",
    "    nwbfile_path=output_file,\n",
    "    overwrite=False,\n",
    "    save_to_file=True,\n",
    "    conversion_options=None\n",
    ")\n",
    "\n",
    "\n",
    "\n",
    "# Specify source data for eeg\n",
    "source_data = dict(\n",
    "    AxonaLFPDataInterface=dict(filename=filename_eeg),\n",
    ")\n",
    "print(json.dumps(source_data, indent=2))\n",
    "\n",
    "\n",
    "# Initialize Converter\n",
    "converter = HussainiLfpNWBConverter(source_data=source_data)\n",
    "\n",
    "\n",
    "# Get metadata\n",
    "metadata = converter.get_metadata()\n",
    "\n",
    "\n",
    "# Export to NWB file\n",
    "output_file = base_dir / nwbfile_name\n",
    "\n",
    "converter.run_conversion(\n",
    "    metadata=metadata,\n",
    "    nwbfile_path=output_file,\n",
    "    overwrite=False,\n",
    "    save_to_file=True,\n",
    "    conversion_options=None\n",
    ")\n",
    "\n",
    "\n",
    "# Check NWB file\n",
    "\n",
    "fname = output_file\n",
    "with NWBHDF5IO(fname, 'r') as io:\n",
    "    nwbfile = io.read()\n",
    "    print(nwbfile)\n",
    "    \n",
    "\n",
    "%matplotlib inline\n",
    "\n",
    "io = NWBHDF5IO(output_file, mode='r')\n",
    "nwb = io.read()\n",
    "\n",
    "nwb2widget(nwb)"
   ]
  },
  {
   "cell_type": "markdown",
   "id": "06093c03",
   "metadata": {},
   "source": [
    "# Intan to NWB\n",
    "\n",
    "For this there are already resources from the Hussaini lab we should be able to use.\n",
    "\n",
    "See here: ..."
   ]
  },
  {
   "cell_type": "code",
   "execution_count": null,
   "id": "d9eae801",
   "metadata": {},
   "outputs": [],
   "source": [
    "from nwb_conversion_tools import (\n",
    "    NWBConverter, AxonaRecordingExtractorInterface, AxonaPositionDataInterface, IntanRecordingInterface\n",
    ")"
   ]
  },
  {
   "cell_type": "code",
   "execution_count": null,
   "id": "6f361f8f",
   "metadata": {},
   "outputs": [],
   "source": [
    "from nwb_conversion_tools import IntanRecordingInterface"
   ]
  },
  {
   "cell_type": "code",
   "execution_count": null,
   "id": "07a1f130",
   "metadata": {},
   "outputs": [],
   "source": [
    "class HussainiIntanNWBConverter(NWBConverter):\n",
    "    data_interface_classes = dict(\n",
    "        IntanRecordingInterface=IntanRecordingInterface,\n",
    "    )"
   ]
  },
  {
   "cell_type": "code",
   "execution_count": null,
   "id": "cfde8e22",
   "metadata": {},
   "outputs": [],
   "source": [
    "intan_file = '/mnt/d/freelance-work/catalyst-neuro/hussaini-lab-to-nwb/Intan_data/intan_rhd_test_1.rhd'"
   ]
  },
  {
   "cell_type": "code",
   "execution_count": null,
   "id": "832e7c15",
   "metadata": {},
   "outputs": [],
   "source": [
    "# Specify source data\n",
    "\n",
    "source_data = dict(\n",
    "    IntanRecordingInterface=dict(\n",
    "        file_path=intan_file\n",
    "    )\n",
    ")\n",
    "print(json.dumps(source_data, indent=2))"
   ]
  },
  {
   "cell_type": "code",
   "execution_count": null,
   "id": "599bb183",
   "metadata": {},
   "outputs": [],
   "source": [
    "# Initialize HussainiIntanNWBConverter\n",
    "\n",
    "intan_converter = HussainiIntanNWBConverter(source_data=source_data)"
   ]
  },
  {
   "cell_type": "code",
   "execution_count": null,
   "id": "47ad4cd5",
   "metadata": {
    "scrolled": true
   },
   "outputs": [],
   "source": [
    "# Get metadata_schema from converter\n",
    "\n",
    "metadata_schema = intan_converter.get_metadata_schema()\n",
    "\n",
    "print(json.dumps(metadata_schema['properties'], indent=2))"
   ]
  },
  {
   "cell_type": "code",
   "execution_count": null,
   "id": "9cd197ac",
   "metadata": {
    "scrolled": true
   },
   "outputs": [],
   "source": [
    "# Validate metadata against metadata_schema\n",
    "\n",
    "validate(\n",
    "    instance=intan_converter.get_metadata(),\n",
    "    schema=intan_converter.get_metadata_schema()\n",
    ")"
   ]
  },
  {
   "cell_type": "code",
   "execution_count": null,
   "id": "d6dd7583",
   "metadata": {},
   "outputs": [],
   "source": []
  },
  {
   "cell_type": "code",
   "execution_count": null,
   "id": "7082643f",
   "metadata": {},
   "outputs": [],
   "source": []
  },
  {
   "cell_type": "code",
   "execution_count": null,
   "id": "d146cc04",
   "metadata": {},
   "outputs": [],
   "source": []
  },
  {
   "cell_type": "code",
   "execution_count": null,
   "id": "fe15a05a",
   "metadata": {},
   "outputs": [],
   "source": []
  }
 ],
 "metadata": {
  "kernelspec": {
   "display_name": "Python3 (hussaini-test-pipeline)",
   "language": "python",
   "name": "hussaini-test-pipeline"
  },
  "language_info": {
   "codemirror_mode": {
    "name": "ipython",
    "version": 3
   },
   "file_extension": ".py",
   "mimetype": "text/x-python",
   "name": "python",
   "nbconvert_exporter": "python",
   "pygments_lexer": "ipython3",
   "version": "3.8.5"
  }
 },
 "nbformat": 4,
 "nbformat_minor": 5
}
