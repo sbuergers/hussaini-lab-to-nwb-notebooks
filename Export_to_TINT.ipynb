{
 "cells": [
  {
   "cell_type": "markdown",
   "id": "38378a04",
   "metadata": {},
   "source": [
    "# Convert recording and sorting extractor data to TINT format\n",
    "\n",
    "The Hussaini lab uses the proprietary TINT software from Axona to analyze extracellular electrophysiology data. While we are already able to read various data formats from Axona (`raw` data or `unit` data) into spikeinterface, perform preprocessing, spike sorting and export the data to NWB, we also want to allow to export data to the TINT format. \n",
    "\n",
    "The TINT format is essentially the same as the `unit` data, including `.X` and `.pos` files, but also `.cut` or `.clu`. The latter two contain information about the spike sorted units.\n",
    "\n",
    "The conversion can be facilitated by using the existing tools from the Hussaini lab, which [convert `.bin` data to `.X` and `.pos`](https://github.com/HussainiLab/BinConverter/blob/master/BinConverter/core/ConversionFunctions.py). Some of this code is only relevant for using the GUI, which did not work for me. I cleared out GUI code and ran a conversion from `.bin` to `.X` and `.pos` in this notebook: [explore_hussaini_tools.ipynb](https://github.com/sbuergers/hussaini-lab-to-nwb-notebooks/blob/master/explore_hussaini_tools.ipynb).\n",
    "\n",
    "They also already wrote a [`write_cut()`](https://github.com/GeoffBarrett/gebaSpike/blob/967097ec28592182ef9783d2d391930e1c63ca58/gebaSpike/core/writeCut.py) function.\n",
    "\n",
    "We can test our solutions by reading data with these [Hussaini lab tools](https://github.com/HussainiLab/BinConverter/blob/master/BinConverter/core/Tint_Matlab.py). "
   ]
  },
  {
   "cell_type": "markdown",
   "id": "ef8f7aaa",
   "metadata": {},
   "source": [
    "<a id='index'></a>\n",
    "## Index\n",
    "\n",
    "* [Testing functions](#testing_functions)\n",
    "* [Hussaini-lab functions](#hussaini-lab_functions)\n",
    "* [Convert Sorting Extractor to TINT](#Convert_sorting_extractor_to_tint)"
   ]
  },
  {
   "cell_type": "code",
   "execution_count": 1,
   "id": "83cf3093",
   "metadata": {},
   "outputs": [
    {
     "name": "stdout",
     "output_type": "stream",
     "text": [
      "3.8.5 (default, Sep  4 2020, 07:30:14) \n",
      "[GCC 7.3.0] linux /home/sbuergers/spikeinterface/spikeinterface_new_api/venv/bin/python\n"
     ]
    }
   ],
   "source": [
    "import sys\n",
    "import os\n",
    "from pathlib import Path\n",
    "import numpy as np\n",
    "import matplotlib\n",
    "import matplotlib.pyplot as plt\n",
    "plt.rcParams[\"figure.figsize\"] = (16, 5)\n",
    "plt.rcParams.update({'font.size':14})\n",
    "%matplotlib inline\n",
    "\n",
    "import spikeextractors as se\n",
    "import spiketoolkit as st\n",
    "import spikewidgets as sw\n",
    "\n",
    "from spikeextractors.extractors.neoextractors import AxonaRecordingExtractor\n",
    "from spikeextractors.extractors.axonaunitrecordingextractor import AxonaUnitRecordingExtractor\n",
    "\n",
    "from hussaini_lab_to_nwb import TintConverter\n",
    "from hussaini_lab_to_nwb.tint_conversion.export_spike_waveforms import get_waveforms, parse_generic_header\n",
    "\n",
    "print(sys.version, sys.platform, sys.executable)"
   ]
  },
  {
   "cell_type": "code",
   "execution_count": 2,
   "id": "1210bfc6",
   "metadata": {},
   "outputs": [
    {
     "name": "stdout",
     "output_type": "stream",
     "text": [
      "Input directory =  /mnt/d/freelance-work/catalyst-neuro/hussaini-lab-to-nwb/sample_bin_to_tint_no_bin\n",
      "Output directory =  /mnt/d/freelance-work/catalyst-neuro/hussaini-lab-to-nwb/sample_bin_to_tint_no_bin/conversion_to_tint\n"
     ]
    }
   ],
   "source": [
    "# Directories\n",
    "\n",
    "dir_name = Path('/mnt/d/freelance-work/catalyst-neuro/hussaini-lab-to-nwb/sample_bin_to_tint_no_bin')\n",
    "print('Input directory = ', dir_name)\n",
    "\n",
    "save_dir = dir_name / 'conversion_to_tint'\n",
    "save_dir.mkdir(parents=True, exist_ok=True)\n",
    "print('Output directory = ', save_dir)"
   ]
  },
  {
   "cell_type": "code",
   "execution_count": 3,
   "id": "aafca1b7",
   "metadata": {},
   "outputs": [],
   "source": [
    "# Read cached spikeextractors data\n",
    "\n",
    "r_cache = se.load_extractor_from_pickle(os.path.join(dir_name, 'cached_unit_data_no_bin_preproc.pkl'))"
   ]
  },
  {
   "cell_type": "code",
   "execution_count": 4,
   "id": "69609f9d",
   "metadata": {},
   "outputs": [
    {
     "name": "stderr",
     "output_type": "stream",
     "text": [
      "/home/sbuergers/spikeinterface/spikeinterface_new_api/venv/lib/python3.8/site-packages/hdmf/common/table.py:442: UserWarning: An attribute 'name' already exists on DynamicTable 'electrodes' so this column cannot be accessed as an attribute, e.g., table.name; it can only be accessed using other methods, e.g., table['name'].\n",
      "  warn(msg)\n"
     ]
    }
   ],
   "source": [
    "# Read NWB recording data\n",
    "\n",
    "nwb_dir = Path(dir_name, 'nwb')\n",
    "recording_nwb = se.NwbRecordingExtractor(nwb_dir / 'axona_tutorial_re2.nwb')"
   ]
  },
  {
   "cell_type": "code",
   "execution_count": 5,
   "id": "29ca4d3b",
   "metadata": {},
   "outputs": [],
   "source": [
    "# Read NWB sorting data\n",
    "\n",
    "sorting_nwb = se.NwbSortingExtractor(nwb_dir / 'axona_se_MS4.nwb', sampling_frequency=48000)"
   ]
  },
  {
   "cell_type": "code",
   "execution_count": 6,
   "id": "43beb92a",
   "metadata": {},
   "outputs": [
    {
     "name": "stdout",
     "output_type": "stream",
     "text": [
      "<class 'spikeextractors.extractors.bindatrecordingextractor.bindatrecordingextractor.BinDatRecordingExtractor'>\n",
      "<class 'spikeextractors.extractors.nwbextractors.nwbextractors.NwbRecordingExtractor'>\n",
      "<class 'spikeextractors.extractors.nwbextractors.nwbextractors.NwbSortingExtractor'>\n"
     ]
    }
   ],
   "source": [
    "# Show data types of different objects\n",
    "\n",
    "print(type(r_cache))\n",
    "print(type(recording_nwb))\n",
    "print(type(sorting_nwb))"
   ]
  },
  {
   "cell_type": "markdown",
   "id": "9b12d160",
   "metadata": {},
   "source": [
    "<a id=\"testing_functions\"></a>\n",
    "## Testing functions\n",
    "[back to index](#index)"
   ]
  },
  {
   "cell_type": "markdown",
   "id": "93029f86",
   "metadata": {},
   "source": [
    "As we start exporting to putative TINT format, we will want to check if we can read it back in."
   ]
  },
  {
   "cell_type": "code",
   "execution_count": 7,
   "id": "d3d0bd7e",
   "metadata": {},
   "outputs": [],
   "source": [
    "def test_axonaunitrecordingextractor(filename):\n",
    "    '''Reads UNIT data with AxonaUnitRecordingExtractor and\n",
    "    performs some simple operations as a sanity check. \n",
    "    \n",
    "    Parameters\n",
    "    ----------\n",
    "    filename : str or Path\n",
    "        Full filename of `.set` file (could be any extension actually)\n",
    "    '''\n",
    "    re = AxonaUnitRecordingExtractor(filename=filename)\n",
    "    \n",
    "    # TEST AXONARECORDINGEXTRACTOR\n",
    "    # Retrieve some simple recording information and print it\n",
    "    recording = re\n",
    "    print('Channel ids = {}'.format(recording.get_channel_ids()))\n",
    "    print('Num. channels = {}'.format(len(recording.get_channel_ids())))\n",
    "    print('Sampling frequency = {} Hz'.format(recording.get_sampling_frequency()))\n",
    "    print('Num. timepoints = {}'.format(recording.get_num_frames()))\n",
    "    print('Stdev. on third channel = {}'.format(np.std(recording.get_traces(channel_ids=2))))\n",
    "    print('Location of third electrode = {}'.format(\n",
    "        recording.get_channel_property(channel_id=2, property_name='location')))\n",
    "    print('Channel groups = {}'.format(recording.get_channel_groups()))\n",
    "    \n",
    "    # TEST NEO_READER (axonaio)\n",
    "    print(recording.neo_reader.header['signal_channels'])\n",
    "    \n",
    "    \n",
    "def test_tetrode_files(filename):\n",
    "    '''Reads UNIT data with AxonaUnitRecordingExtractor and\n",
    "    performs some simple operations as a sanity check. \n",
    "    Will only test .X  and .set files (no .clu or .cut, no .pos).\n",
    "    \n",
    "    Parameters\n",
    "    ----------\n",
    "    filename : str or Path\n",
    "        Full filename of `.set` file (could be any extension actually)\n",
    "    '''\n",
    "    test_axonaunitrecordingextractor(filename)"
   ]
  },
  {
   "cell_type": "code",
   "execution_count": 8,
   "id": "c264026c",
   "metadata": {},
   "outputs": [
    {
     "name": "stdout",
     "output_type": "stream",
     "text": [
      "/mnt/d/freelance-work/catalyst-neuro/hussaini-lab-to-nwb/sample_bin_to_tint_no_bin/conversion_to_tint/axona_sample.set\n",
      "/mnt/d/freelance-work/catalyst-neuro/hussaini-lab-to-nwb/sample_bin_to_tint_no_bin/axona_sample.set\n"
     ]
    }
   ],
   "source": [
    "set_file_to_tint = dir_name / 'conversion_to_tint' / 'axona_sample.set'\n",
    "print(set_file_to_tint)\n",
    "\n",
    "set_file = dir_name / 'axona_sample.set'\n",
    "print(set_file)"
   ]
  },
  {
   "cell_type": "code",
   "execution_count": 9,
   "id": "087e69fd",
   "metadata": {},
   "outputs": [],
   "source": [
    "recording = AxonaUnitRecordingExtractor(filename=set_file, noise_std=0)"
   ]
  },
  {
   "cell_type": "code",
   "execution_count": 10,
   "id": "dea7fd2e",
   "metadata": {
    "scrolled": true
   },
   "outputs": [
    {
     "name": "stdout",
     "output_type": "stream",
     "text": [
      "Writing axona_sample.1\n",
      "Writing axona_sample.2\n",
      "Writing axona_sample.3\n",
      "Writing axona_sample.4\n",
      "Write unit labels for tetrode 0 to .cut and .clu\n",
      "Write unit labels for tetrode 1 to .cut and .clu\n",
      "Write unit labels for tetrode 2 to .cut and .clu\n",
      "Write unit labels for tetrode 3 to .cut and .clu\n"
     ]
    }
   ],
   "source": [
    "tint_converter = TintConverter(recording, sorting_nwb, set_file_to_tint)\n",
    "tint_converter.write_to_tint()"
   ]
  },
  {
   "cell_type": "code",
   "execution_count": 11,
   "id": "d36c365a",
   "metadata": {},
   "outputs": [],
   "source": [
    "recording_y = AxonaUnitRecordingExtractor(filename=set_file_to_tint, noise_std=0)"
   ]
  },
  {
   "cell_type": "markdown",
   "id": "0bb5878a",
   "metadata": {},
   "source": [
    "The data in the exported recording is scaled differently compared to the original! Why?!\n",
    "\n",
    "See below:"
   ]
  },
  {
   "cell_type": "code",
   "execution_count": 128,
   "id": "f551a0ee",
   "metadata": {},
   "outputs": [],
   "source": [
    "# prepare waveform dict (write_to_tetrode_files(recording, sorting, group_ids, set_file))\n",
    "\n",
    "from hussaini_lab_to_nwb.tint_conversion.export_spike_waveforms import (\n",
    "    write_to_tetrode_files,\n",
    "    get_waveforms,\n",
    "    parse_generic_header,\n",
    "    combine_units_on_tetrode\n",
    ")\n",
    "\n",
    "from hussaini_lab_to_nwb.tint_conversion.export_spike_waveforms import get_unit_group_ids\n",
    "\n",
    "sampling_rate = recording.get_sampling_frequency()\n",
    "group_ids = get_unit_group_ids(sorting_nwb)\n",
    "header = parse_generic_header(set_file)\n",
    "\n",
    "group_id = group_ids[0]\n",
    "\n",
    "# get spike samples and waveforms of this group / tetrode\n",
    "group_unit_ids = [i for i, gid in enumerate(group_ids) if gid == group_id]\n",
    "group_waveforms = get_waveforms(recording, sorting_nwb, group_unit_ids, header)\n",
    "group_spike_samples = sorting_nwb.get_units_spike_train(unit_ids=group_unit_ids)\n",
    "\n",
    "# assign each waveform to it's spike sample in a dictionary\n",
    "waveform_dict = combine_units_on_tetrode(group_spike_samples, group_waveforms)"
   ]
  },
  {
   "cell_type": "code",
   "execution_count": 129,
   "id": "474f6d4e",
   "metadata": {},
   "outputs": [
    {
     "data": {
      "text/plain": [
       "57600"
      ]
     },
     "execution_count": 129,
     "metadata": {},
     "output_type": "execute_result"
    }
   ],
   "source": [
    "recording.get_num_frames()"
   ]
  },
  {
   "cell_type": "markdown",
   "id": "e80a84b4",
   "metadata": {},
   "source": [
    "### Try to find a solution like `st.postprocessing.get_unit_waveforms()`, without converting from float to in"
   ]
  },
  {
   "cell_type": "code",
   "execution_count": 130,
   "id": "e527207d",
   "metadata": {},
   "outputs": [
    {
     "name": "stdout",
     "output_type": "stream",
     "text": [
      "['firing_rate', 'group', 'halfwidth', 'isi_violation', 'max_channel', 'peak_to_valley', 'peak_trough_ratio', 'recovery_slope', 'repolarization_slope', 'snr', 'template', 'waveforms_channel_idxs']\n"
     ]
    },
    {
     "data": {
      "text/plain": [
       "0"
      ]
     },
     "execution_count": 130,
     "metadata": {},
     "output_type": "execute_result"
    }
   ],
   "source": [
    "print(sorting_nwb.get_shared_unit_property_names())\n",
    "sorting_nwb.get_unit_property(unit_id=0, property_name='group')"
   ]
  },
  {
   "cell_type": "code",
   "execution_count": 51,
   "id": "272be7c5",
   "metadata": {},
   "outputs": [
    {
     "name": "stdout",
     "output_type": "stream",
     "text": [
      "[  806  1638  1854  2044  2642  2929  4106  5032  5982  6056  6711  7489\n",
      "  7691  8229 10222 11061 11961 13920 14137 16582 17070 17403 17661 18316\n",
      " 18751 18789 18964 20220 20854 22096 24185 24770 24788 25149 26285 26382\n",
      " 26529 27031 27706 29057 29884 30126 30362 30739 31774 33709 34159 36395\n",
      " 36676 37662 38283 38612 39187 40663 41048 41490 41602 42303 43438 44502\n",
      " 44692 44973 45147 45616 45747 45780 46531 47303 49143 49495 52031 55848]\n"
     ]
    }
   ],
   "source": [
    "unit_spike_train = sorting_nwb.get_unit_spike_train(unit_id=0)\n",
    "print(unit_spike_train)"
   ]
  },
  {
   "cell_type": "code",
   "execution_count": 67,
   "id": "800ea224",
   "metadata": {},
   "outputs": [
    {
     "data": {
      "text/plain": [
       "array([ 464,  786, 1570, 1632, 1826, 2017, 2228, 2322, 2493, 2634],\n",
       "      dtype=int32)"
      ]
     },
     "execution_count": 67,
     "metadata": {},
     "output_type": "execute_result"
    }
   ],
   "source": [
    "recording_timestamps = recording.neo_reader.get_spike_timestamps() // 2\n",
    "recording_timestamps[0:10]"
   ]
  },
  {
   "cell_type": "code",
   "execution_count": 54,
   "id": "45921ec7",
   "metadata": {},
   "outputs": [
    {
     "data": {
      "text/plain": [
       "796"
      ]
     },
     "execution_count": 54,
     "metadata": {},
     "output_type": "execute_result"
    }
   ],
   "source": [
    "spike_timestamp - samples_before"
   ]
  },
  {
   "cell_type": "code",
   "execution_count": null,
   "id": "2a236080",
   "metadata": {},
   "outputs": [],
   "source": []
  },
  {
   "cell_type": "code",
   "execution_count": 81,
   "id": "547d27e5",
   "metadata": {},
   "outputs": [
    {
     "data": {
      "text/plain": [
       "array([], shape=(0, 4, 50), dtype=int8)"
      ]
     },
     "execution_count": 81,
     "metadata": {},
     "output_type": "execute_result"
    }
   ],
   "source": [
    "waveforms"
   ]
  },
  {
   "cell_type": "code",
   "execution_count": 73,
   "id": "884b7ad8",
   "metadata": {},
   "outputs": [
    {
     "data": {
      "text/plain": [
       "array([[0, 0, 0, 0, 0, 0, 0, 0, 0, 0, 0, 0, 0, 0, 0, 0, 0, 0, 0],\n",
       "       [0, 0, 0, 0, 0, 0, 0, 0, 0, 0, 0, 0, 0, 0, 0, 0, 0, 0, 0],\n",
       "       [0, 0, 0, 0, 0, 0, 0, 0, 0, 0, 0, 0, 0, 0, 0, 0, 0, 0, 0],\n",
       "       [0, 0, 0, 0, 0, 0, 0, 0, 0, 0, 0, 0, 0, 0, 0, 0, 0, 0, 0]],\n",
       "      dtype=int8)"
      ]
     },
     "execution_count": 73,
     "metadata": {},
     "output_type": "execute_result"
    }
   ],
   "source": [
    "get_traces(recording, start_frame=787, end_frame=806)"
   ]
  },
  {
   "cell_type": "code",
   "execution_count": null,
   "id": "f8d2b113",
   "metadata": {},
   "outputs": [],
   "source": []
  },
  {
   "cell_type": "code",
   "execution_count": null,
   "id": "d5e164bb",
   "metadata": {},
   "outputs": [],
   "source": []
  },
  {
   "cell_type": "code",
   "execution_count": 69,
   "id": "b15439bd",
   "metadata": {},
   "outputs": [
    {
     "data": {
      "text/plain": [
       "array([[0, 0, 0, 0, 0, 0, 0, 0, 0, 0, 0, 0, 0, 0, 0, 0, 0, 0, 0, 0, 0, 0,\n",
       "        0, 0, 0, 0, 0, 0, 0, 0, 0, 0, 0, 0, 0, 0, 0]], dtype=int8)"
      ]
     },
     "execution_count": 69,
     "metadata": {},
     "output_type": "execute_result"
    }
   ],
   "source": [
    "recording.get_traces(channel_ids=0, start_frame=787, end_frame=806+18, return_scaled=False)"
   ]
  },
  {
   "cell_type": "code",
   "execution_count": 131,
   "id": "24ad04b9",
   "metadata": {},
   "outputs": [],
   "source": [
    "samples_before = int(header['pretrigSamps'])\n",
    "samples_after = int(header['spikeLockout'])\n",
    "samples_total = samples_before + samples_after\n",
    "\n",
    "spike_timestamp = unit_spike_train[0]\n",
    "channel_ids = [0, 1, 2, 3]\n",
    "\n",
    "waveforms = []\n",
    "for i, spike_timestamp in enumerate(unit_spike_train):\n",
    "    \n",
    "    # In neo, the timestamp has to be within start_frame and end_frame. Since timestamps\n",
    "    # from spike sorting do not have to align exactly with timestamps from the original\n",
    "    # files, it is safest to read a longer pre- and post- timestamp period first, then\n",
    "    # adjust to the correct waveform length.\n",
    "    waveform = recording.get_traces(\n",
    "        channel_ids=channel_ids,\n",
    "        start_frame=spike_timestamp - samples_total,\n",
    "        end_frame=spike_timestamp + samples_total,\n",
    "        return_scaled=False\n",
    "    )\n",
    "    waveforms.append(waveform)"
   ]
  },
  {
   "cell_type": "code",
   "execution_count": 132,
   "id": "5d0cc3b2",
   "metadata": {},
   "outputs": [
    {
     "data": {
      "text/plain": [
       "memmap([   928,    928,    928,    928,   1573,   1573,   1573,   1573,\n",
       "          3141,   3141,   3141,   3141,   3264,   3264,   3264,   3264,\n",
       "          3652,   3652,   3652,   3652,   4034,   4034,   4034,   4034,\n",
       "          4456,   4456,   4456,   4456,   4644,   4644,   4644,   4644,\n",
       "          4986,   4986,   4986,   4986,   5268,   5268,   5268,   5268,\n",
       "          5810,   5810,   5810,   5810,   6236,   6236,   6236,   6236,\n",
       "          7744,   7744,   7744,   7744,   7852,   7852,   7852,   7852,\n",
       "          8206,   8206,   8206,   8206,   9154,   9154,   9154,   9154,\n",
       "          9346,   9346,   9346,   9346,  10048,  10048,  10048,  10048,\n",
       "         11562,  11562,  11562,  11562,  11948,  11948,  11948,  11948,\n",
       "         12038,  12038,  12038,  12038,  12416,  12416,  12416,  12416,\n",
       "         12519,  12519,  12519,  12519,  13411,  13411,  13411,  13411,\n",
       "         14122,  14122,  14122,  14122,  14964,  14964,  14964,  14964,\n",
       "         15201,  15201,  15201,  15201,  15371,  15371,  15371,  15371,\n",
       "         16044,  16044,  16044,  16044,  16346,  16346,  16346,  16346,\n",
       "         16444,  16444,  16444,  16444,  19392,  19392,  19392,  19392,\n",
       "         19542,  19542,  19542,  19542,  20434,  20434,  20434,  20434,\n",
       "         20752,  20752,  20752,  20752,  22132,  22132,  22132,  22132,\n",
       "         23908,  23908,  23908,  23908,  25353,  25353,  25353,  25353,\n",
       "         25550,  25550,  25550,  25550,  25782,  25782,  25782,  25782,\n",
       "         26156,  26156,  26156,  26156,  27284,  27284,  27284,  27284,\n",
       "         27810,  27810,  27810,  27810,  28074,  28074,  28074,  28074,\n",
       "         28224,  28224,  28224,  28224,  29932,  29932,  29932,  29932,\n",
       "         30616,  30616,  30616,  30616,  31352,  31352,  31352,  31352,\n",
       "         31903,  31903,  31903,  31903,  32854,  32854,  32854,  32854,\n",
       "         34112,  34112,  34112,  34112,  34794,  34794,  34794,  34794,\n",
       "         35146,  35146,  35146,  35146,  35308,  35308,  35308,  35308,\n",
       "         35494,  35494,  35494,  35494,  36638,  36638,  36638,  36638,\n",
       "         37514,  37514,  37514,  37514,  37914,  37914,  37914,  37914,\n",
       "         38434,  38434,  38434,  38434,  39184,  39184,  39184,  39184,\n",
       "         39648,  39648,  39648,  39648,  39798,  39798,  39798,  39798,\n",
       "         40278,  40278,  40278,  40278,  40424,  40424,  40424,  40424,\n",
       "         41696,  41696,  41696,  41696,  42882,  42882,  42882,  42882,\n",
       "         43050,  43050,  43050,  43050,  44210,  44210,  44210,  44210,\n",
       "         45112,  45112,  45112,  45112,  45424,  45424,  45424,  45424,\n",
       "         46602,  46602,  46602,  46602,  46986,  46986,  46986,  46986,\n",
       "         48168,  48168,  48168,  48168,  48316,  48316,  48316,  48316,\n",
       "         49190,  49190,  49190,  49190,  49508,  49508,  49508,  49508,\n",
       "         50284,  50284,  50284,  50284,  50920,  50920,  50920,  50920,\n",
       "         52040,  52040,  52040,  52040,  52506,  52506,  52506,  52506,\n",
       "         52692,  52692,  52692,  52692,  53016,  53016,  53016,  53016,\n",
       "         55158,  55158,  55158,  55158,  55388,  55388,  55388,  55388,\n",
       "         55504,  55504,  55504,  55504,  58564,  58564,  58564,  58564,\n",
       "         59588,  59588,  59588,  59588,  59776,  59776,  59776,  59776,\n",
       "         60198,  60198,  60198,  60198,  60680,  60680,  60680,  60680,\n",
       "         61469,  61469,  61469,  61469,  63356,  63356,  63356,  63356,\n",
       "         63500,  63500,  63500,  63500,  65918,  65918,  65918,  65918,\n",
       "         67408,  67408,  67408,  67408,  68524,  68524,  68524,  68524,\n",
       "         70056,  70056,  70056,  70056,  72022,  72022,  72022,  72022,\n",
       "         72756,  72756,  72756,  72756,  73338,  73338,  73338,  73338,\n",
       "         74276,  74276,  74276,  74276,  75340,  75340,  75340,  75340,\n",
       "         77214,  77214,  77214,  77214,  77418,  77418,  77418,  77418,\n",
       "         78094,  78094,  78094,  78094,  78390,  78390,  78390,  78390,\n",
       "         79448,  79448,  79448,  79448,  79746,  79746,  79746,  79746,\n",
       "         80436,  80436,  80436,  80436,  80530,  80530,  80530,  80530,\n",
       "         82026,  82026,  82026,  82026,  82946,  82946,  82946,  82946,\n",
       "         83174,  83174,  83174,  83174,  84176,  84176,  84176,  84176,\n",
       "         84576,  84576,  84576,  84576,  86402,  86402,  86402,  86402,\n",
       "         86818,  86818,  86818,  86818,  87190,  87190,  87190,  87190,\n",
       "         87826,  87826,  87826,  87826,  88658,  88658,  88658,  88658,\n",
       "         88958,  88958,  88958,  88958,  89330,  89330,  89330,  89330,\n",
       "         89700,  89700,  89700,  89700,  89790,  89790,  89790,  89790,\n",
       "         89884,  89884,  89884,  89884,  90270,  90270,  90270,  90270,\n",
       "         90902,  90902,  90902,  90902,  91172,  91172,  91172,  91172,\n",
       "         91504,  91504,  91504,  91504,  92840,  92840,  92840,  92840,\n",
       "         93046,  93046,  93046,  93046,  93530,  93530,  93530,  93530,\n",
       "         94122,  94122,  94122,  94122,  95170,  95170,  95170,  95170,\n",
       "         95566,  95566,  95566,  95566,  96330,  96330,  96330,  96330,\n",
       "         96892,  96892,  96892,  96892,  97310,  97310,  97310,  97310,\n",
       "         97784,  97784,  97784,  97784,  98228,  98228,  98228,  98228,\n",
       "         98783,  98783,  98783,  98783,  99076,  99076,  99076,  99076,\n",
       "         99248,  99248,  99248,  99248,  99576,  99576,  99576,  99576,\n",
       "        100608, 100608, 100608, 100608, 100909, 100909, 100909, 100909,\n",
       "        101295, 101295, 101295, 101295, 102286, 102286, 102286, 102286,\n",
       "        103132, 103132, 103132, 103132, 103366, 103366, 103366, 103366,\n",
       "        103838, 103838, 103838, 103838, 104048, 104048, 104048, 104048,\n",
       "        104164, 104164, 104164, 104164, 104503, 104503, 104503, 104503,\n",
       "        105038, 105038, 105038, 105038, 108734, 108734, 108734, 108734,\n",
       "        111710, 111710, 111710, 111710, 112405, 112405, 112405, 112405,\n",
       "        114522, 114522, 114522, 114522], dtype=int32)"
      ]
     },
     "execution_count": 132,
     "metadata": {},
     "output_type": "execute_result"
    }
   ],
   "source": [
    "recording.neo_reader._raw_spikes[0]['spiketimes']"
   ]
  },
  {
   "cell_type": "code",
   "execution_count": 133,
   "id": "56c7f816",
   "metadata": {},
   "outputs": [
    {
     "data": {
      "text/plain": [
       "(636, 50)"
      ]
     },
     "execution_count": 133,
     "metadata": {},
     "output_type": "execute_result"
    }
   ],
   "source": [
    "recording.neo_reader._raw_spikes[0]['samples'].shape"
   ]
  },
  {
   "cell_type": "code",
   "execution_count": 134,
   "id": "31262fdb",
   "metadata": {},
   "outputs": [
    {
     "data": {
      "text/plain": [
       "dtype([('spiketimes', '>i4'), ('samples', 'i1', (50,))])"
      ]
     },
     "execution_count": 134,
     "metadata": {},
     "output_type": "execute_result"
    }
   ],
   "source": [
    "recording.neo_reader.file_parameters['unit']['data_type']"
   ]
  },
  {
   "cell_type": "code",
   "execution_count": 135,
   "id": "c1014838",
   "metadata": {},
   "outputs": [
    {
     "data": {
      "text/plain": [
       "72"
      ]
     },
     "execution_count": 135,
     "metadata": {},
     "output_type": "execute_result"
    }
   ],
   "source": [
    "len(waveforms)"
   ]
  },
  {
   "cell_type": "code",
   "execution_count": 136,
   "id": "1f8a8795",
   "metadata": {},
   "outputs": [],
   "source": [
    "# The culprid seems to be st.postprocessing.get_unit_waveforms()...\n",
    "\n",
    "sampling_rate = recording.get_sampling_frequency()\n",
    "samples_before = int(header['pretrigSamps'])\n",
    "samples_after = int(header['spikeLockout'])\n",
    "\n",
    "ms_before = samples_before / (sampling_rate / 1000) + 0.001\n",
    "ms_after = samples_after / (sampling_rate / 1000) + 0.001\n",
    "\n",
    "waveforms = st.postprocessing.get_unit_waveforms(\n",
    "    recording,\n",
    "    sorting_nwb,\n",
    "    unit_ids=0,\n",
    "    max_spikes_per_unit=None,\n",
    "    grouping_property='group',\n",
    "    recompute_info=True,\n",
    "    ms_before=ms_before,\n",
    "    ms_after=ms_after,\n",
    "    return_idxs=False,\n",
    "    return_scaled=False,\n",
    "    dtype=np.int8\n",
    ")"
   ]
  },
  {
   "cell_type": "code",
   "execution_count": 137,
   "id": "1751e591",
   "metadata": {},
   "outputs": [
    {
     "data": {
      "text/plain": [
       "[memmap([[[ -9,  -4,   1, ...,   0,   0,   0],\n",
       "          [-15, -12,  -9, ...,   0,   0,   0],\n",
       "          [-26, -19,  -8, ...,   0,   0,   0],\n",
       "          [-44, -23,   0, ...,   0,   0,   0]],\n",
       " \n",
       "         [[  0,  69,  91, ...,   0,   0,   0],\n",
       "          [  0,   8,  18, ...,   0,   0,   0],\n",
       "          [-16,   0,  17, ...,   0,   0,   0],\n",
       "          [  7,  22,  36, ...,   0,   0,   0]],\n",
       " \n",
       "         [[ 44,  29,   9, ...,   0,   0,   0],\n",
       "          [ 37,  42,  36, ...,   0,   0,   0],\n",
       "          [ 45,  46,  36, ...,   0,   0,   0],\n",
       "          [ 31,  16,  -4, ...,   0,   0,   0]],\n",
       " \n",
       "         ...,\n",
       " \n",
       "         [[  0,   0,   0, ...,  14,  18,  21],\n",
       "          [  0,   0,   0, ..., -21,  -8,   7],\n",
       "          [  0,   0,   0, ...,  -5,   7,  23],\n",
       "          [  0,   0,   0, ..., -30, -11,   3]],\n",
       " \n",
       "         [[ 63,  89,  93, ...,   0,   0,   0],\n",
       "          [ 14,  41,  71, ...,   0,   0,   0],\n",
       "          [ 30,  63,  76, ...,   0,   0,   0],\n",
       "          [ 46,  70,  72, ...,   0,   0,   0]],\n",
       " \n",
       "         [[  0,   0,   0, ..., -12, -19, -19],\n",
       "          [  0,   0,   0, ...,  19,  14,  16],\n",
       "          [  0,   0,   0, ..., -11, -18, -22],\n",
       "          [  0,   0,   0, ..., -26, -44, -50]]], dtype=int8)]"
      ]
     },
     "execution_count": 137,
     "metadata": {},
     "output_type": "execute_result"
    }
   ],
   "source": [
    "waveforms"
   ]
  },
  {
   "cell_type": "code",
   "execution_count": 138,
   "id": "a801d7db",
   "metadata": {},
   "outputs": [
    {
     "data": {
      "text/plain": [
       "(72, 4, 50)"
      ]
     },
     "execution_count": 138,
     "metadata": {},
     "output_type": "execute_result"
    }
   ],
   "source": [
    "waveforms[0].shape"
   ]
  },
  {
   "cell_type": "code",
   "execution_count": 139,
   "id": "26831133",
   "metadata": {},
   "outputs": [
    {
     "data": {
      "text/plain": [
       "array([[  9,  31,  52,  65,  69,  61,  44,  22,   6,   0,   3,   7,   8,\n",
       "          5,  -1,  -7,  -8,  -4,   1,   3,   0, -13, -34, -52, -58, -49,\n",
       "        -32, -14,  -2,   2,   4,   9,  16,  22,  26,  26,  29,  23,  14,\n",
       "          4,   4, -13, -14, -11]], dtype=int8)"
      ]
     },
     "execution_count": 139,
     "metadata": {},
     "output_type": "execute_result"
    }
   ],
   "source": [
    "recording.get_traces(channel_ids=0, start_frame=780, end_frame=806+18, return_scaled=False)"
   ]
  },
  {
   "cell_type": "code",
   "execution_count": 140,
   "id": "8bd26cc2",
   "metadata": {},
   "outputs": [
    {
     "data": {
      "text/plain": [
       "array([[ 52,  52,  44,  29,  17,  10,   4,  -4, -16, -23, -20,  -7,  -7,\n",
       "         21,  27,  27,  22,  11]], dtype=int8)"
      ]
     },
     "execution_count": 140,
     "metadata": {},
     "output_type": "execute_result"
    }
   ],
   "source": [
    "recording.get_traces(channel_ids=0, start_frame=462, end_frame=462+18, return_scaled=False)"
   ]
  },
  {
   "cell_type": "code",
   "execution_count": 141,
   "id": "e06a8837",
   "metadata": {},
   "outputs": [
    {
     "data": {
      "text/plain": [
       "464"
      ]
     },
     "execution_count": 141,
     "metadata": {},
     "output_type": "execute_result"
    }
   ],
   "source": [
    "recording_timestamps = recording.neo_reader.get_spike_timestamps() // 2\n",
    "recording_timestamps[0]"
   ]
  },
  {
   "cell_type": "code",
   "execution_count": 142,
   "id": "e54e3b7c",
   "metadata": {},
   "outputs": [
    {
     "data": {
      "text/plain": [
       "memmap([ 52,  52,  44,  29,  17,  10,   4,  -4, -16, -23, -20,  -7,  -7,\n",
       "         21,  27,  27,  22,  11], dtype=int8)"
      ]
     },
     "execution_count": 142,
     "metadata": {},
     "output_type": "execute_result"
    }
   ],
   "source": [
    "recording.neo_reader.get_spike_raw_waveforms()[0, 0, 8:26]"
   ]
  },
  {
   "cell_type": "code",
   "execution_count": 143,
   "id": "969a83f1",
   "metadata": {},
   "outputs": [
    {
     "data": {
      "text/plain": [
       "memmap([ -9,  -4,   1,   3,   0, -15, -39, -60, -67, -57, -37, -16,  -2,\n",
       "          2,   4,  10,  18,  25], dtype=int8)"
      ]
     },
     "execution_count": 143,
     "metadata": {},
     "output_type": "execute_result"
    }
   ],
   "source": [
    "waveforms[0][0, 0, 0:18]"
   ]
  },
  {
   "cell_type": "code",
   "execution_count": 144,
   "id": "9e517c18",
   "metadata": {},
   "outputs": [
    {
     "data": {
      "text/plain": [
       "memmap([ 60,  60,  51,  33,  19,  11,   4,  -4, -18, -26, -23,  -8,  -8,\n",
       "         24,  31,  31,  25,  12,  -2, -14, -17, -15, -14, -14,  -8,   2,\n",
       "         12,  21,  23,  18,  10,   2,   0,   2,   9,  16,  22,  29,  37,\n",
       "         38,  30,  17,   0,   0,   0,   0,   0,   0,   0,   0], dtype=int8)"
      ]
     },
     "execution_count": 144,
     "metadata": {},
     "output_type": "execute_result"
    }
   ],
   "source": [
    "waveform_dict.get(472)[0] # Still correct at this point!"
   ]
  },
  {
   "cell_type": "code",
   "execution_count": 145,
   "id": "bde78302",
   "metadata": {},
   "outputs": [],
   "source": [
    "# write_tetrode_file_data(tetrode_file, waveform_dict, Fs)\n",
    "\n",
    "import struct\n",
    "\n",
    "Fs = recording.get_sampling_frequency()\n",
    "\n",
    "# create ordered spike times and waveforms from input dict\n",
    "spike_times = np.asarray(sorted(waveform_dict.keys()))\n",
    "spike_times = np.tile(spike_times, (4, 1))\n",
    "spike_times = spike_times.flatten(order='F')\n",
    "\n",
    "n_spikes = spike_times.shape[0]\n",
    "spike_values = np.asarray([value for (key, value) in sorted(waveform_dict.items())])"
   ]
  },
  {
   "cell_type": "code",
   "execution_count": 156,
   "id": "f769ceaa",
   "metadata": {},
   "outputs": [
    {
     "data": {
      "text/plain": [
       "array([   944,    944,    944,    944,   1612,   1612,   1612,   1612,\n",
       "         3158,   3158,   3158,   3158,   3276,   3276,   3276,   3276,\n",
       "         3646,   3646,   3646,   3646,   3708,   3708,   3708,   3708,\n",
       "         4088,   4088,   4088,   4088,   4510,   4510,   4510,   4510,\n",
       "         4690,   4690,   4690,   4690,   5284,   5284,   5284,   5284,\n",
       "         5858,   5858,   5858,   5858,   6264,   6264,   6264,   6264,\n",
       "         7738,   7738,   7738,   7738,   7892,   7892,   7892,   7892,\n",
       "         8212,   8212,   8212,   8212,   9356,   9356,   9356,   9356,\n",
       "        10064,  10064,  10064,  10064,  11578,  11578,  11578,  11578,\n",
       "        11620,  11620,  11620,  11620,  11964,  11964,  11964,  11964,\n",
       "        12112,  12112,  12112,  12112,  12484,  12484,  12484,  12484,\n",
       "        12528,  12528,  12528,  12528,  12820,  12820,  12820,  12820,\n",
       "        13398,  13398,  13398,  13398,  13422,  13422,  13422,  13422,\n",
       "        13450,  13450,  13450,  13450,  13876,  13876,  13876,  13876,\n",
       "        14154,  14154,  14154,  14154,  14512,  14512,  14512,  14512,\n",
       "        14978,  14978,  14978,  14978,  15382,  15382,  15382,  15382,\n",
       "        16118,  16118,  16118,  16118,  16458,  16458,  16458,  16458,\n",
       "        19556,  19556,  19556,  19556,  19598,  19598,  19598,  19598,\n",
       "        20444,  20444,  20444,  20444,  20478,  20478,  20478,  20478,\n",
       "        21444,  21444,  21444,  21444,  22122,  22122,  22122,  22122,\n",
       "        22206,  22206,  22206,  22206,  23892,  23892,  23892,  23892,\n",
       "        23922,  23922,  23922,  23922,  25406,  25406,  25406,  25406,\n",
       "        25538,  25538,  25538,  25538,  25786,  25786,  25786,  25786,\n",
       "        26172,  26172,  26172,  26172,  27296,  27296,  27296,  27296,\n",
       "        27840,  27840,  27840,  27840,  28146,  28146,  28146,  28146,\n",
       "        28274,  28274,  28274,  28274,  28966,  28966,  28966,  28966,\n",
       "        29944,  29944,  29944,  29944,  30014,  30014,  30014,  30014,\n",
       "        30604,  30604,  30604,  30604,  30686,  30686,  30686,  30686,\n",
       "        31358,  31358,  31358,  31358,  31422,  31422,  31422,  31422,\n",
       "        31926,  31926,  31926,  31926,  32918,  32918,  32918,  32918,\n",
       "        33164,  33164,  33164,  33164,  33512,  33512,  33512,  33512,\n",
       "        34140,  34140,  34140,  34140,  34806,  34806,  34806,  34806,\n",
       "        35322,  35322,  35322,  35322,  35502,  35502,  35502,  35502,\n",
       "        36632,  36632,  36632,  36632,  37502,  37502,  37502,  37502,\n",
       "        37578,  37578,  37578,  37578,  37928,  37928,  37928,  37928,\n",
       "        37972,  37972,  37972,  37972,  38442,  38442,  38442,  38442,\n",
       "        39194,  39194,  39194,  39194,  39820,  39820,  39820,  39820,\n",
       "        40284,  40284,  40284,  40284,  40440,  40440,  40440,  40440,\n",
       "        41708,  41708,  41708,  41708,  44192,  44192,  44192,  44192,\n",
       "        45128,  45128,  45128,  45128,  45290,  45290,  45290,  45290,\n",
       "        45440,  45440,  45440,  45440,  46606,  46606,  46606,  46606,\n",
       "        48174,  48174,  48174,  48174,  48370,  48370,  48370,  48370,\n",
       "        49176,  49176,  49176,  49176,  49210,  49210,  49210,  49210,\n",
       "        49540,  49540,  49540,  49540,  49576,  49576,  49576,  49576,\n",
       "        50298,  50298,  50298,  50298,  50948,  50948,  50948,  50948,\n",
       "        52570,  52570,  52570,  52570,  52764,  52764,  52764,  52764,\n",
       "        53058,  53058,  53058,  53058,  54062,  54062,  54062,  54062,\n",
       "        55412,  55412,  55412,  55412,  55546,  55546,  55546,  55546,\n",
       "        58114,  58114,  58114,  58114,  58586,  58586,  58586,  58586,\n",
       "        59658,  59658,  59658,  59658,  59768,  59768,  59768,  59768,\n",
       "        60212,  60212,  60212,  60212,  60252,  60252,  60252,  60252,\n",
       "        60724,  60724,  60724,  60724,  61478,  61478,  61478,  61478,\n",
       "        63548,  63548,  63548,  63548,  65966,  65966,  65966,  65966,\n",
       "        67418,  67418,  67418,  67418,  67450,  67450,  67450,  67450,\n",
       "        68318,  68318,  68318,  68318,  70066,  70066,  70066,  70066,\n",
       "        72790,  72790,  72790,  72790,  72822,  72822,  72822,  72822,\n",
       "        73326,  73326,  73326,  73326,  73352,  73352,  73352,  73352,\n",
       "        74292,  74292,  74292,  74292,  74328,  74328,  74328,  74328,\n",
       "        75324,  75324,  75324,  75324,  75350,  75350,  75350,  75350,\n",
       "        76566,  76566,  76566,  76566,  77224,  77224,  77224,  77224,\n",
       "        78104,  78104,  78104,  78104,  78374,  78374,  78374,  78374,\n",
       "        79820,  79820,  79820,  79820,  80574,  80574,  80574,  80574,\n",
       "        81326,  81326,  81326,  81326,  82096,  82096,  82096,  82096,\n",
       "        82938,  82938,  82938,  82938,  82980,  82980,  82980,  82980,\n",
       "        83204,  83204,  83204,  83204,  84244,  84244,  84244,  84244,\n",
       "        84606,  84606,  84606,  84606,  85358,  85358,  85358,  85358,\n",
       "        86396,  86396,  86396,  86396,  86876,  86876,  86876,  86876,\n",
       "        87178,  87178,  87178,  87178,  87202,  87202,  87202,  87202,\n",
       "        88966,  88966,  88966,  88966,  89004,  89004,  89004,  89004,\n",
       "        89384,  89384,  89384,  89384,  89748,  89748,  89748,  89748,\n",
       "        89800,  89800,  89800,  89800,  89946,  89946,  89946,  89946,\n",
       "        90294,  90294,  90294,  90294,  91192,  91192,  91192,  91192,\n",
       "        91232,  91232,  91232,  91232,  91494,  91494,  91494,  91494,\n",
       "        91560,  91560,  91560,  91560,  92856,  92856,  92856,  92856,\n",
       "        93062,  93062,  93062,  93062,  94140,  94140,  94140,  94140,\n",
       "        94606,  94606,  94606,  94606,  95184,  95184,  95184,  95184,\n",
       "        95592,  95592,  95592,  95592,  96346,  96346,  96346,  96346,\n",
       "        96948,  96948,  96948,  96948,  98286,  98286,  98286,  98286,\n",
       "        98772,  98772,  98772,  98772,  98990,  98990,  98990,  98990,\n",
       "        99084,  99084,  99084,  99084,  99314,  99314,  99314,  99314,\n",
       "        99596,  99596,  99596,  99596, 100600, 100600, 100600, 100600,\n",
       "       100948, 100948, 100948, 100948, 101308, 101308, 101308, 101308,\n",
       "       103170, 103170, 103170, 103170, 103420, 103420, 103420, 103420,\n",
       "       103822, 103822, 103822, 103822, 104062, 104062, 104062, 104062,\n",
       "       104494, 104494, 104494, 104494, 105048, 105048, 105048, 105048,\n",
       "       111696, 111696, 111696, 111696, 112432, 112432, 112432, 112432,\n",
       "       114504, 114504, 114504, 114504])"
      ]
     },
     "execution_count": 156,
     "metadata": {},
     "output_type": "execute_result"
    }
   ],
   "source": [
    "spike_times"
   ]
  },
  {
   "cell_type": "code",
   "execution_count": 155,
   "id": "70f51ff8",
   "metadata": {},
   "outputs": [
    {
     "data": {
      "text/plain": [
       "array([ 60,  70,  70,  55,  31,  11,   0,  -5, -18, -36, -48, -46, -36,\n",
       "       -24, -16, -10,  -8,  -5,   0,   4,   7,   3,  -7, -23, -36, -36,\n",
       "       -24,  -9,   0,   2,  -2,  -9, -10,  -3,   4,   9,  10,  15,  23,\n",
       "        29,  29,  25,   0,   0,   0,   0,   0,   0,   0,   0], dtype=int8)"
      ]
     },
     "execution_count": 155,
     "metadata": {},
     "output_type": "execute_result"
    }
   ],
   "source": [
    "spike_values[1]"
   ]
  },
  {
   "cell_type": "code",
   "execution_count": 146,
   "id": "b6f75a32",
   "metadata": {},
   "outputs": [
    {
     "name": "stdout",
     "output_type": "stream",
     "text": [
      "[ 60  60  51  33  19  11   4  -4 -18 -26 -23  -8  -8  24  31  31  25  12]\n",
      "[ 60  60  51  33  19  11   4  -4 -18 -26 -23  -8  -8  24  31  31  25  12]\n"
     ]
    }
   ],
   "source": [
    "print(waveform_dict.get(472)[0][0:18])\n",
    "print(spike_values[0, 0, 0:18]) # still correct!"
   ]
  },
  {
   "cell_type": "code",
   "execution_count": 147,
   "id": "3d3052e2",
   "metadata": {},
   "outputs": [],
   "source": [
    "spike_values = spike_values.reshape((n_spikes, 50))"
   ]
  },
  {
   "cell_type": "code",
   "execution_count": 148,
   "id": "a092cf72",
   "metadata": {},
   "outputs": [],
   "source": [
    "assert all(spike_values[0, 0:18] == waveform_dict.get(472)[0][0:18]) # still correct!"
   ]
  },
  {
   "cell_type": "code",
   "execution_count": 149,
   "id": "818ba877",
   "metadata": {},
   "outputs": [],
   "source": [
    "# re-adjust spike_times to reflect 96000 hz sampling rate\n",
    "spike_times *= 96000 // Fs\n",
    "\n",
    "t_packed = struct.pack('>%di' % n_spikes, *spike_times)\n",
    "spike_data_pack = struct.pack('<%db' % (n_spikes * 50), *spike_values.flatten())"
   ]
  },
  {
   "cell_type": "code",
   "execution_count": 150,
   "id": "03b63811",
   "metadata": {},
   "outputs": [],
   "source": [
    "assert all(np.frombuffer(spike_data_pack, dtype=np.int8)[0:18] == waveform_dict.get(472)[0][0:18]) # Still correct!"
   ]
  },
  {
   "cell_type": "code",
   "execution_count": 151,
   "id": "f7f2f1a6",
   "metadata": {},
   "outputs": [],
   "source": [
    "# combine timestamps (4 bytes per sample) and waveforms (1 byte per sample)\n",
    "comb_list = [None] * (2 * n_spikes)\n",
    "comb_list[::2] = [t_packed[i:i + 4] for i in range(0, len(t_packed), 4)]\n",
    "comb_list[1::2] = [spike_data_pack[i:i + 50] for i in range(0, len(spike_data_pack), 50)]"
   ]
  },
  {
   "cell_type": "code",
   "execution_count": 152,
   "id": "b71d773a",
   "metadata": {},
   "outputs": [
    {
     "data": {
      "text/plain": [
       "[b'\\x00\\x00\\x03\\xb0',\n",
       " b'<<3!\\x13\\x0b\\x04\\xfc\\xee\\xe6\\xe9\\xf8\\xf8\\x18\\x1f\\x1f\\x19\\x0c\\xfe\\xf2\\xef\\xf1\\xf2\\xf2\\xf8\\x02\\x0c\\x15\\x17\\x12\\n\\x02\\x00\\x02\\t\\x10\\x16\\x1d%&\\x1e\\x11\\x00\\x00\\x00\\x00\\x00\\x00\\x00\\x00',\n",
       " b'\\x00\\x00\\x03\\xb0',\n",
       " b'<FF7\\x1f\\x0b\\x00\\xfb\\xee\\xdc\\xd0\\xd2\\xdc\\xe8\\xf0\\xf6\\xf8\\xfb\\x00\\x04\\x07\\x03\\xf9\\xe9\\xdc\\xdc\\xe8\\xf7\\x00\\x02\\xfe\\xf7\\xf6\\xfd\\x04\\t\\n\\x0f\\x17\\x1d\\x1d\\x19\\x00\\x00\\x00\\x00\\x00\\x00\\x00\\x00',\n",
       " b'\\x00\\x00\\x03\\xb0',\n",
       " b'%++%\\x1e\\x18\\x12\\x02\\xe9\\xcc\\xbf\\xc6\\xdc\\xf6\\x07\\x0e\\x0e\\x0e\\x0f\\x0c\\x07\\x00\\xf7\\xf0\\xf2\\xfe\\x0b\\x16\\x16\\n\\xfb\\xeb\\xe4\\xe8\\xf2\\x00\\x0b\\x17 #\\x1c\\x10\\x00\\x00\\x00\\x00\\x00\\x00\\x00\\x00',\n",
       " b'\\x00\\x00\\x03\\xb0',\n",
       " b',8>8.+*#\\x10\\xfe\\xf7\\x01\\x17+:EC0\\x0c\\xe7\\xcb\\xbf\\xc2\\xd2\\xe7\\xfd\\x0e\\x15\\x10\\x02\\xf1\\xe7\\xe4\\xea\\xf4\\xff\\x0b\\x17\\x1d\\x19\\x0b\\xfd\\x00\\x00\\x00\\x00\\x00\\x00\\x00\\x00',\n",
       " b'\\x00\\x00\\x06L',\n",
       " b'\\xf7\\xfc\\x01\\x03\\x00\\xf1\\xd9\\xc4\\xbd\\xc7\\xdb\\xf0\\xfe\\x02\\x04\\n\\x12\\x19\\x1e\\x1e!\\x1a\\x10\\x04\\x04\\xf1\\xf0\\xf4\\xf5\\xf2\\x00\\x00\\x00\\x00\\x00\\x00\\x00\\x00\\x00\\x00\\x00\\x00\\x00\\x00\\x00\\x00\\x00\\x00\\x00\\x00',\n",
       " b'\\x00\\x00\\x06L',\n",
       " b'\\xf1\\xf4\\xf7\\xfc\\xfe\\xfd\\xf2\\xdd\\xc7\\xbb\\xbd\\xc7\\xd6\\xe4\\xf0\\xf9\\x00\\x08\\x0c\\x0e\\x0e\\x0b\\x08\\x05\\x05\\x03\\xff\\xf8\\xf5\\xf2\\x00\\x00\\x00\\x00\\x00\\x00\\x00\\x00\\x00\\x00\\x00\\x00\\x00\\x00\\x00\\x00\\x00\\x00\\x00\\x00',\n",
       " b'\\x00\\x00\\x06L',\n",
       " b'\\xe6\\xed\\xf8\\x02\\n\\n\\xff\\xea\\xd7\\xcf\\xd3\\xdf\\xeb\\xf6\\xfc\\x00\\x00\\x00\\xfd\\xfb\\xf9\\xf8\\xf8\\xfb\\xfb\\xf7\\xf4\\xf0\\xef\\xf0\\x00\\x00\\x00\\x00\\x00\\x00\\x00\\x00\\x00\\x00\\x00\\x00\\x00\\x00\\x00\\x00\\x00\\x00\\x00\\x00',\n",
       " b'\\x00\\x00\\x06L',\n",
       " b'\\xd4\\xe9\\x00\\x17)*\\x16\\xf4\\xd2\\xc5\\xcf\\xe8\\xfc\\xff\\xf2\\xe4\\xe2\\xe9\\xf7\\x02\\x07\\x01\\xf8\\xf2\\xf1\\xf4\\xf6\\xf6\\xef\\xe4\\x00\\x00\\x00\\x00\\x00\\x00\\x00\\x00\\x00\\x00\\x00\\x00\\x00\\x00\\x00\\x00\\x00\\x00\\x00\\x00',\n",
       " b'\\x00\\x00\\x0cV',\n",
       " b'y\\x94\\x94\\x87?\\xb4jjjj\\xccC\\x8b\\x94\\x94\\x82n`S@&\\t\\xf0\\xe1\\xe0\\xe7\\xeb\\xeb\\xe7\\xe4\\xe9\\xf4\\xfe\\xff\\xf4\\xf4\\xcd\\xc8\\xd2\\xe3\\xf7\\x00\\x00\\x00\\x00\\x00\\x00\\x00\\x00\\x00',\n",
       " b'\\x00\\x00\\x0cV',\n",
       " b\"\\x17&--'\\x19\\x00\\xe7\\xd4\\xd2\\xdc\\xef\\x01\\x11\\x1e%''))$\\x1a\\x0e\\x00\\xf4\\xee\\xee\\xed\\xe8\\xe3\\xe2\\xe9\\xf2\\xfe\\x00\\xfb\\xef\\xe3\\xdf\\xdf\\xe3\\x00\\x00\\x00\\x00\\x00\\x00\\x00\\x00\\x00\",\n",
       " b'\\x00\\x00\\x0cV',\n",
       " b'NZacaP,\\xf5\\xbb\\x95\\x90\\xac\\xd7\\x00\\x1c%#\\x1e\\x1a\\x17\\x11\\x07\\xfb\\xef\\xe9\\xe9\\xea\\xe9\\xe3\\xe0\\xe3\\xee\\xf7\\xf9\\xf1\\xe2\\xd7\\xd4\\xd9\\xe4\\xf4\\x00\\x00\\x00\\x00\\x00\\x00\\x00\\x00\\x00',\n",
       " b'\\x00\\x00\\x0cV',\n",
       " b'~\\x94\\x94\\x82[-\\x05\\xed\\xe1\\xe1\\xe7\\xef\\xf5\\xf9\\xfc\\x00\\x05\\x11\\x1c!!\\x16\\x00\\xeb\\xdd\\xdc\\xe3\\xe9\\xe9\\xe7\\xea\\xf6\\x03\\x08\\xf9\\xdb\\xc1\\xb8\\xc2\\xdc\\xfb\\x00\\x00\\x00\\x00\\x00\\x00\\x00\\x00\\x00',\n",
       " b'\\x00\\x00\\x0c\\xcc',\n",
       " b'\\x00E[aWG,\\xf2\\x8bjjjj\\xf5Z\\x8e\\x94}V.\\x15\\x0e\\x12\\x12\\x07\\xf9\\xef\\xeb\\xef\\xf1\\xf2\\xf5\\xfd\\xfd\\x12\\x18\\x15\\x0e\\x07\\x00\\xf9\\xed\\xe1\\xdb\\x00\\x00\\x00\\x00\\x00\\x00',\n",
       " b'\\x00\\x00\\x0c\\xcc',\n",
       " b'\\x00\\x08\\x12\\x18\\x17\\x0f\\x03\\xf8\\xea\\xdc\\xd5\\xdb\\xea\\xfc\\x08\\x11\\x16\\x16\\x12\\x0b\\x02\\xfe\\xff\\x00\\xfb\\xf2\\xf1\\xfb\\x04\\t\\x05\\x00\\xfc\\xfb\\xfd\\x00\\x02\\x03\\x03\\x04\\x08\\x05\\xff\\xf5\\x00\\x00\\x00\\x00\\x00\\x00',\n",
       " b'\\x00\\x00\\x0c\\xcc',\n",
       " b'\\xf0\\x00\\x11\\x1f$ \\x16\\t\\xff\\xf7\\xf7\\xfb\\x00\\x05\\x0e\\x15\\x18\\x19\\x17\\x11\\x0e\\x0f\\x11\\x0b\\x02\\xfd\\xfb\\xf8\\xf2\\xe7\\xdc\\xd7\\xdc\\xe4\\xee\\xf4\\xf6\\xf6\\xf8\\xff\\x02\\xfe\\xf4\\xeb\\x00\\x00\\x00\\x00\\x00\\x00',\n",
       " b'\\x00\\x00\\x0c\\xcc',\n",
       " b'\\x07\\x16$--\\x19\\xf8\\xd2\\xbf\\xcc\\xf6$BB+\\x0f\\x00\\x00\\xfe\\xf1\\xdd\\xd4\\xda\\xe7\\xef\\xf2\\xf4\\xf7\\xf8\\xf2\\xed\\xe9\\xe8\\xe8\\xe8\\xe8\\xe8\\xe9\\xef\\xf8\\x00\\x00\\xfc\\xf6\\x00\\x00\\x00\\x00\\x00\\x00',\n",
       " b'\\x00\\x00\\x0e>',\n",
       " b'\\x00\\x00\\x00I\\n\\x97jjjj\\xdc8ddO:0+)% \\x1e\\x1e\\x19\\x10\\x04\\xfd\\xfd\\x08\\x1d,,\\x1d\\t\\xf7\\xe2\\xd2\\xcb\\xc8\\xc6\\xc5\\xc8\\xce\\xd3\\xd2\\xcf\\xd2\\xdf\\xeb\\xf1',\n",
       " b'\\x00\\x00\\x0e>',\n",
       " b'\\x00\\x00\\x00\\x12\\x07\\xfc\\xeb\\xdb\\xd2\\xd3\\xd9\\xdf\\xe6\\xed\\xf5\\xfe\\x05\\n\\x04\\xfc\\xf5\\xf6\\xff\\t\\x0c\\x07\\x00\\xff\\x02\\x0b\\x19%*$\\x17\\x03\\xf2\\xe6\\xdf\\xd9\\xd0\\xcb\\xcb\\xd3\\xdc\\xe1\\xe3\\xe9\\xf6\\x04',\n",
       " b'\\x00\\x00\\x0e>',\n",
       " b'\\x00\\x00\\x00 %%\\x17\\xfd\\xdd\\xc9\\xc9\\xd9\\xe7\\xee\\xf0\\xf1\\xf0\\xea\\xe6\\xe3\\xe8\\xf6\\x05\\x12\\x11\\x07\\xfb\\xf1\\xf7\\t\\x1f-.$\\x12\\xff\\xee\\xe3\\xdc\\xd5\\xd0\\xd3\\xda\\xdd\\xdc\\xdb\\xe1\\xee\\xfd\\x03',\n",
       " b'\\x00\\x00\\x0e>',\n",
       " b'\\x00\\x00\\x00\\x19\\x17\\x15\\x0e\\x01\\xf7\\xf1\\xf4\\xfc\\x00\\x00\\xfe\\xfc\\xfb\\xf5\\xee\\xe9\\xe9\\xf0\\xfc\\x03\\x05\\x04\\x04\\x07\\x0f\\x19#\\x1f\\x10\\xfc\\xeb\\xe4\\xe3\\xe2\\xda\\xcc\\xc2\\xc4\\xd2\\xe2\\xee\\xf4\\xfe\\t\\x11\\x0c',\n",
       " b'\\x00\\x00\\x0e|',\n",
       " b',\\x1d\\t\\xf7\\xe2\\xd2\\xcb\\xc8\\xc6\\xc5\\xc8\\xce\\xd3\\xd2\\xcf\\xd2\\xdf\\xeb\\xf1\\xf0\\xf0\\xf5\\x00\\x00\\x00\\x00\\x00\\x00\\x00\\x00\\x00\\x00\\x00\\x00\\x00\\x00\\x00\\x00\\x00\\x00\\x00\\x00\\x00\\x00\\x00\\x00\\x00\\x00\\x00\\x00',\n",
       " b'\\x00\\x00\\x0e|',\n",
       " b'%*$\\x17\\x03\\xf2\\xe6\\xdf\\xd9\\xd0\\xcb\\xcb\\xd3\\xdc\\xe1\\xe3\\xe9\\xf6\\x04\\x0e\\x0f\\x0e\\x00\\x00\\x00\\x00\\x00\\x00\\x00\\x00\\x00\\x00\\x00\\x00\\x00\\x00\\x00\\x00\\x00\\x00\\x00\\x00\\x00\\x00\\x00\\x00\\x00\\x00\\x00\\x00',\n",
       " b'\\x00\\x00\\x0e|',\n",
       " b'-.$\\x12\\xff\\xee\\xe3\\xdc\\xd5\\xd0\\xd3\\xda\\xdd\\xdc\\xdb\\xe1\\xee\\xfd\\x03\\x04\\x00\\xfb\\x00\\x00\\x00\\x00\\x00\\x00\\x00\\x00\\x00\\x00\\x00\\x00\\x00\\x00\\x00\\x00\\x00\\x00\\x00\\x00\\x00\\x00\\x00\\x00\\x00\\x00\\x00\\x00',\n",
       " b'\\x00\\x00\\x0e|',\n",
       " b'\\x1f\\x10\\xfc\\xeb\\xe4\\xe3\\xe2\\xda\\xcc\\xc2\\xc4\\xd2\\xe2\\xee\\xf4\\xfe\\t\\x11\\x0c\\xfe\\xee\\xe7\\x00\\x00\\x00\\x00\\x00\\x00\\x00\\x00\\x00\\x00\\x00\\x00\\x00\\x00\\x00\\x00\\x00\\x00\\x00\\x00\\x00\\x00\\x00\\x00\\x00\\x00\\x00\\x00',\n",
       " b'\\x00\\x00\\x0f\\xf8',\n",
       " b'\\xdd\\xdd\\xdc\\xdc\\xdf\\xdf\\xdd\\xdb\\xd7\\xd6\\xe0\\xf5\\xf5\\x17\\x15\\x04\\xed\\xd4\\xc7\\xc9\\xd7\\xea\\xf9\\x00\\x00\\x00\\x00\\x00\\x00\\x00\\x00\\x00\\x00\\x00\\x00\\x00\\x00\\x00\\x00\\x00\\x00\\x00\\x00\\x00\\x00\\x00\\x00\\x00\\x00\\x00',\n",
       " b'\\x00\\x00\\x0f\\xf8',\n",
       " b'\\n\\x03\\xfe\\xf8\\xf5\\xf0\\xea\\xe3\\xdd\\xd6\\xd0\\xd3\\xe3\\xf8\\x08\\x0f\\t\\xfe\\xf5\\xf4\\xfb\\xff\\x00\\x00\\x00\\x00\\x00\\x00\\x00\\x00\\x00\\x00\\x00\\x00\\x00\\x00\\x00\\x00\\x00\\x00\\x00\\x00\\x00\\x00\\x00\\x00\\x00\\x00\\x00\\x00',\n",
       " b'\\x00\\x00\\x0f\\xf8',\n",
       " b'\\xe6\\xe8\\xed\\xed\\xe6\\xda\\xd4\\xd6\\xdb\\xe1\\xeb\\xfd\\x0c\\x19\\x1f\\x1f\\x1c\\x18\\x11\\x08\\xff\\xf6\\xf1\\x00\\x00\\x00\\x00\\x00\\x00\\x00\\x00\\x00\\x00\\x00\\x00\\x00\\x00\\x00\\x00\\x00\\x00\\x00\\x00\\x00\\x00\\x00\\x00\\x00\\x00\\x00',\n",
       " b'\\x00\\x00\\x0f\\xf8',\n",
       " b'\\xf1\\xf0\\xe9\\xdd\\xd0\\xc6\\xbf\\xbd\\xbe\\xc2\\xd3\\xf0\\x12,1#\\t\\xf4\\xe3\\xe0\\xe8\\xf4\\xfe\\x00\\x00\\x00\\x00\\x00\\x00\\x00\\x00\\x00\\x00\\x00\\x00\\x00\\x00\\x00\\x00\\x00\\x00\\x00\\x00\\x00\\x00\\x00\\x00\\x00\\x00\\x00',\n",
       " b'\\x00\\x00\\x11\\x9e',\n",
       " b\">'\\x10\\x00\\xf6\\xef\\xe9\\xe8\\xeb\\xf1\\xf2\\xf2\\xe9\\xe4\\xe3\\xe6\\xe6\\xe1\\xd9\\xd5\\xdd\\xeb\\xf6\\x00\\x00\\x00\\x00\\x00\\x00\\x00\\x00\\x00\\x00\\x00\\x00\\x00\\x00\\x00\\x00\\x00\\x00\\x00\\x00\\x00\\x00\\x00\\x00\\x00\\x00\\x00\",\n",
       " b'\\x00\\x00\\x11\\x9e',\n",
       " b'++#\\x17\\n\\xff\\xf0\\xe7\\xe9\\xf2\\xf9\\xf7\\xef\\xe6\\xdf\\xdc\\xdc\\xdd\\xdd\\xdb\\xdb\\xdc\\xdd\\x00\\x00\\x00\\x00\\x00\\x00\\x00\\x00\\x00\\x00\\x00\\x00\\x00\\x00\\x00\\x00\\x00\\x00\\x00\\x00\\x00\\x00\\x00\\x00\\x00\\x00\\x00',\n",
       " b'\\x00\\x00\\x11\\x9e',\n",
       " b'\\x0f\\x04\\xf8\\xea\\xdf\\xd5\\xd0\\xd2\\xd3\\xcf\\xc8\\xc7\\xd0\\xe2\\xf5\\xff\\x00\\xff\\xff\\x01\\x02\\xfb\\xe8\\x00\\x00\\x00\\x00\\x00\\x00\\x00\\x00\\x00\\x00\\x00\\x00\\x00\\x00\\x00\\x00\\x00\\x00\\x00\\x00\\x00\\x00\\x00\\x00\\x00\\x00\\x00',\n",
       " b'\\x00\\x00\\x11\\x9e',\n",
       " b'$\\x0f\\xf9\\xe6\\xd7\\xce\\xc9\\xcb\\xcc\\xcb\\xc8\\xc7\\xce\\xdc\\xee\\xf8\\xf9\\xf5\\xef\\xf0\\xf8\\x01\\x05\\x00\\x00\\x00\\x00\\x00\\x00\\x00\\x00\\x00\\x00\\x00\\x00\\x00\\x00\\x00\\x00\\x00\\x00\\x00\\x00\\x00\\x00\\x00\\x00\\x00\\x00\\x00',\n",
       " b'\\x00\\x00\\x12R',\n",
       " b'\\x11\\xf4\\xd9\\xcd\\xcd\\xdf\\xe8\\xe8\\xdd\\xd5\\xd4\\xdb\\xe2\\xe7\\xea\\xeb\\xeb\\xea\\xe8\\xe8\\xe8\\xe9\\xeb\\xf0\\xf8\\x03\\x12\\x00\\x00\\x00\\x00\\x00\\x00\\x00\\x00\\x00\\x00\\x00\\x00\\x00\\x00\\x00\\x00\\x00\\x00\\x00\\x00\\x00\\x00\\x00',\n",
       " b'\\x00\\x00\\x12R',\n",
       " b'\\x08\\x08\\t\\x11\\x1a\\x1f\\x1a\\x0c\\xff\\xf4\\xea\\xe8\\xee\\xf7\\xfc\\xfd\\xfc\\xf8\\xef\\xe2\\xd7\\xda\\xe4\\xf0\\xf7\\xf7\\xf4\\x00\\x00\\x00\\x00\\x00\\x00\\x00\\x00\\x00\\x00\\x00\\x00\\x00\\x00\\x00\\x00\\x00\\x00\\x00\\x00\\x00\\x00\\x00',\n",
       " b'\\x00\\x00\\x12R',\n",
       " b'\\x08\\x08\\x0c\\x15\\x18\\x12\\x03\\xf1\\xe0\\xd5\\xd5\\xdc\\xe6\\xee\\xf4\\xf8\\xf9\\xf6\\xf0\\xe8\\xe6\\xe9\\xf1\\xf6\\xf5\\xf1\\xee\\x00\\x00\\x00\\x00\\x00\\x00\\x00\\x00\\x00\\x00\\x00\\x00\\x00\\x00\\x00\\x00\\x00\\x00\\x00\\x00\\x00\\x00\\x00',\n",
       " b'\\x00\\x00\\x12R',\n",
       " b\"\\xe9\\xff\\x13%-'\\x16\\xfc\\xdd\\xc7\\xbe\\xc2\\xcf\\xdc\\xe6\\xeb\\xef\\xef\\xee\\xeb\\xed\\xf2\\xf9\\xfe\\xff\\x00\\x03\\x00\\x00\\x00\\x00\\x00\\x00\\x00\\x00\\x00\\x00\\x00\\x00\\x00\\x00\\x00\\x00\\x00\\x00\\x00\\x00\\x00\\x00\\x00\",\n",
       " b'\\x00\\x00\\x14\\xa4',\n",
       " b'0IZN%\\xf2\\xce\\xc4\\xcc\\xd9\\xe1\\xe4\\xe2\\xdc\\xd6\\xd5\\xe0\\xf2\\x07\\x17\\x17\\x17\\x05\\xed\\xd3\\xc1\\xc1\\xd2\\xea\\xff\\x08\\t\\x03\\xfe\\xf6\\xe7\\xd6\\xcb\\xcb\\xd2\\xdb\\xe7\\x00\\x00\\x00\\x00\\x00\\x00\\x00\\x00',\n",
       " b'\\x00\\x00\\x14\\xa4',\n",
       " b')A\\\\oe>\\x03\\xcf\\xb0\\xa9\\xb2\\xc2\\xd5\\xe3\\xed\\xf1\\xf7\\x03\\x15#)$\\x16\\x04\\xf2\\xe2\\xd9\\xd7\\xdd\\xe8\\xee\\xef\\xee\\xe9\\xe3\\xda\\xce\\xc4\\xc1\\xc9\\xd6\\xe4\\x00\\x00\\x00\\x00\\x00\\x00\\x00\\x00',\n",
       " b'\\x00\\x00\\x14\\xa4',\n",
       " b'2O`R#\\xea\\xbd\\xaa\\xad\\xbb\\xcc\\xda\\xe2\\xe6\\xe8\\xea\\xf0\\xfb\\x00\\x04\\x07\\x07\\x04\\x00\\xf5\\xea\\xe4\\xea\\xf9\\t\\x17\\x1d\\x17\\t\\xf5\\xdc\\xcb\\xc6\\xcc\\xd5\\xdc\\xe6\\x00\\x00\\x00\\x00\\x00\\x00\\x00\\x00',\n",
       " b'\\x00\\x00\\x14\\xa4',\n",
       " b'Ge{o;\\xf2\\xb3\\x99\\xa2\\xba\\xd5\\xe8\\xf4\\xfb\\xfe\\xff\\x00\\x02\\x07\\x0f\\x19\\x1d\\x11\\xf8\\xd3\\xae\\x9d\\xa4\\xbe\\xdd\\xf7\\x04\\n\\n\\x01\\xee\\xd5\\xc2\\xbd\\xc0\\xcb\\xdb\\x00\\x00\\x00\\x00\\x00\\x00\\x00\\x00',\n",
       " b'\\x00\\x00\\x16\\xe2',\n",
       " b'1\\x1a\\x04\\xf1\\xda\\xc2\\xb1\\xad\\xba\\xd2\\xe8\\xf4\\xf6\\xf5\\xf2\\xf4\\xf9\\x00\\x05\\x05\\x02\\xff\\xf7\\xf0\\xf1\\xf7\\x00\\x00\\x00\\x00\\x00\\x00\\x00\\x00\\x00\\x00\\x00\\x00\\x00\\x00\\x00\\x00\\x00\\x00\\x00\\x00\\x00\\x00\\x00\\x00',\n",
       " b'\\x00\\x00\\x16\\xe2',\n",
       " b'\\x13\\x0b\\xff\\xed\\xdd\\xd5\\xd3\\xcf\\xcb\\xc6\\xc7\\xcd\\xd6\\xe4\\xf0\\xf7\\xf9\\xfd\\x00\\x03\\x04\\x04\\x03\\xfe\\xf2\\xe8\\x00\\x00\\x00\\x00\\x00\\x00\\x00\\x00\\x00\\x00\\x00\\x00\\x00\\x00\\x00\\x00\\x00\\x00\\x00\\x00\\x00\\x00\\x00\\x00',\n",
       " b'\\x00\\x00\\x16\\xe2',\n",
       " b'\\x07\\x01\\xfb\\xf1\\xe7\\xdd\\xd5\\xcf\\xcf\\xd6\\xe1\\xe8\\xe9\\xea\\xed\\xee\\xf2\\xfc\\x02\\x05\\x05\\x04\\xff\\xf4\\xea\\xe6\\x00\\x00\\x00\\x00\\x00\\x00\\x00\\x00\\x00\\x00\\x00\\x00\\x00\\x00\\x00\\x00\\x00\\x00\\x00\\x00\\x00\\x00\\x00\\x00',\n",
       " b'\\x00\\x00\\x16\\xe2',\n",
       " b'\\x17\\x11\\t\\x00\\xf5\\xe4\\xd4\\xc7\\xc1\\xc5\\xce\\xdb\\xed\\xfe\\x08\\x0b\\x0f\\x11\\x0f\\x08\\x02\\x01\\x02\\x07\\x0e\\x10\\x00\\x00\\x00\\x00\\x00\\x00\\x00\\x00\\x00\\x00\\x00\\x00\\x00\\x00\\x00\\x00\\x00\\x00\\x00\\x00\\x00\\x00\\x00\\x00',\n",
       " b'\\x00\\x00\\x18x',\n",
       " b'#\\x18\\x1c# \\x0c\\x0c\\xcd\\xb3\\xa7\\xaa\\xb4\\xc2\\xd0\\xdb\\xe0\\xe3\\xe6\\xe7\\xea\\xf5\\xf5\\n\\t\\x04\\x04\\x07\\x08\\x03\\xf8\\xe9\\xe0\\xdd\\xe0\\xe8\\xf4\\x00\\x00\\x00\\x00\\x00\\x00\\x00\\x00\\x00\\x00\\x00\\x00\\x00\\x00',\n",
       " b'\\x00\\x00\\x18x',\n",
       " b\"0!\\x16\\x11\\x0e\\x07\\xfc\\xe9\\xd5\\xc6\\xbe\\xbf\\xc5\\xcf\\xdc\\xe9\\xf4\\xf9\\xf8\\xf4\\xf2\\xf9\\x08\\x1a'.22*\\x1c\\x0b\\x00\\xf8\\xf5\\xf4\\xf2\\x00\\x00\\x00\\x00\\x00\\x00\\x00\\x00\\x00\\x00\\x00\\x00\\x00\\x00\",\n",
       " b'\\x00\\x00\\x18x',\n",
       " b\"\\x1c\\x10\\x0f\\x10\\n\\xfe\\xea\\xd5\\xc2\\xb8\\xb7\\xbb\\xc2\\xcc\\xdb\\xee\\x00\\x08\\t\\x05\\x07\\x11\\x1e&'%\\x1f\\x16\\t\\xfe\\xf8\\xf8\\xfb\\xf8\\xf1\\xed\\x00\\x00\\x00\\x00\\x00\\x00\\x00\\x00\\x00\\x00\\x00\\x00\\x00\\x00\",\n",
       " b'\\x00\\x00\\x18x',\n",
       " b'\\x18\\x04\\xff\\x00\\x04\\x05\\x00\\xf2\\xe0\\xd0\\xc7\\xc8\\xd0\\xdd\\xe9\\xf1\\xf6\\xf7\\xf6\\xf5\\xfb\\x05\\x17%,.,!\\x0f\\x00\\xfc\\xfd\\xfc\\xf6\\xf0\\xef\\x00\\x00\\x00\\x00\\x00\\x00\\x00\\x00\\x00\\x00\\x00\\x00\\x00\\x00',\n",
       " b'\\x00\\x00\\x1e:',\n",
       " b'\\x00\\x00\\x00C@\\x00{{jjjji\\x94\\x94\\x92nO<4499,\\x16\\xfd\\xe2\\xcd\\xbe\\xb5\\xb4\\xba\\xc6\\xd6\\xe8\\xf8\\x04\\n\\x04\\xf9\\xf0\\xf1\\xfe\\n\\n\\x17\\x17\\x17\\x18\\x18',\n",
       " b'\\x00\\x00\\x1e:',\n",
       " b'\\x00\\x00\\x00\\xe0\\xe6\\xee\\xf0\\xe9\\xdf\\xdb\\xe6\\xfe\\x18,3.#\\x11\\x04\\xfc\\xf2\\xed\\xee\\xf2\\xf4\\xf0\\xea\\xe4\\xe0\\xdd\\xe1\\xe8\\xed\\xee\\xed\\xf1\\xf8\\xff\\xff\\xf8\\xee\\xe6\\xe9\\xf5\\x02\\x12\\x1e&)#',\n",
       " b'\\x00\\x00\\x1e:',\n",
       " b\"\\x00\\x00\\x00\\x12 *&\\x0f\\xea\\xc9\\xc2\\xd6\\xf7\\x13&'\\x18\\x05\\xf5\\xe2\\xd7\\xdd\\xeb\\xf6\\xf8\\xf4\\xeb\\xe1\\xdb\\xdb\\xe0\\xe4\\xe8\\xed\\xf6\\x01\\x0c\\x10\\x07\\xf7\\xe8\\xe4\\xee\\xfe\\x0e\\x1a##\\x19\\x0f\",\n",
       " b'\\x00\\x00\\x1e:',\n",
       " b'\\x00\\x00\\x00\\xfd\\x02\\x04\\x00\\xf2\\xe1\\xd4\\xd7\\xe7\\xfc\\x0c\\x16\\x12\\x08\\xfe\\xf4\\xed\\xed\\xf7\\x01\\x03\\xfc\\xeb\\xd6\\xc7\\xc1\\xc2\\xc8\\xce\\xd6\\xe3\\xf8\\x0e\\x1f#\\x17\\x00\\xed\\xe4\\xe9\\xf7\\x07\\x17!#\\x1e\\x18',\n",
       " b'\\x00\\x00\\x1e\\xd4',\n",
       " b'\\x01\\x0e\\x0f\\x07\\xfe\\xf7\\xf5\\xf6\\xf8\\xf9\\xf6\\xf0\\xea\\xee\\xf6\\xfd\\x00\\x05\\x0f\\x1a\\x1a)& \\x19\\x10\\x02\\xf4\\xe2\\xd5\\x00\\x00\\x00\\x00\\x00\\x00\\x00\\x00\\x00\\x00\\x00\\x00\\x00\\x00\\x00\\x00\\x00\\x00\\x00\\x00',\n",
       " b'\\x00\\x00\\x1e\\xd4',\n",
       " b'\\xf9\\x02\\t\\x04\\xfd\\xf7\\xf9\\x00\\x05\\x04\\xff\\xf7\\xf0\\xf1\\xfd\\x0b\\x15\\x11\\n\\x08\\x0c\\x17\\x1e\\x1c\\x11\\t\\x01\\xf7\\xe8\\xd9\\x00\\x00\\x00\\x00\\x00\\x00\\x00\\x00\\x00\\x00\\x00\\x00\\x00\\x00\\x00\\x00\\x00\\x00\\x00\\x00',\n",
       " b'\\x00\\x00\\x1e\\xd4',\n",
       " b'\\x00\\x05\\x01\\xf8\\xee\\xe9\\xe7\\xe7\\xe3\\xe0\\xda\\xd6\\xdc\\xed\\x00\\n\\n\\x07\\n\\x13\\x1d\\x1f\\x1a\\x13\\x10\\x10\\x10\\t\\xfc\\xe7\\x00\\x00\\x00\\x00\\x00\\x00\\x00\\x00\\x00\\x00\\x00\\x00\\x00\\x00\\x00\\x00\\x00\\x00\\x00\\x00',\n",
       " b'\\x00\\x00\\x1e\\xd4',\n",
       " b\"\\x0f\\x10\\x0b\\x02\\xf7\\xe7\\xd4\\xc2\\xbd\\xc5\\xd4\\xe3\\xf1\\x01\\x10\\x16\\x12\\x0f\\x10\\x15\\x1d$)' \\x16\\x07\\xf6\\xe8\\xe1\\x00\\x00\\x00\\x00\\x00\\x00\\x00\\x00\\x00\\x00\\x00\\x00\\x00\\x00\\x00\\x00\\x00\\x00\\x00\\x00\",\n",
       " b'\\x00\\x00 \\x14',\n",
       " b'jjj\\xb2\\x18SbT<+ \\x1d\\x1e\\x1e**$\\x1e\\x1c#-2-\\x1e\\x0f\\x04\\xfb\\xeb\\xda\\xce\\xd0\\xe0\\xf6\\x08\\x15\\x18\\x15\\x10\\n\\x03\\xff\\xfd\\x00\\t\\x11\\x18\\x1d\\x00\\x00\\x00',\n",
       " b'\\x00\\x00 \\x14',\n",
       " b'\\xfb\\xf8\\xfe\\x07\\n\\x00\\xee\\xdf\\xd4\\xcf\\xcd\\xcf\\xd4\\xe0\\xf7\\x0f\\x1f \\x17\\x10\\x0e\\x10\\x11\\x0f\\x0b\\x07\\x03\\xff\\xf4\\xe4\\xd7\\xd0\\xd4\\xe0\\xf1\\x02\\x13\\x1e\\x1f\\x18\\x0c\\x00\\xf6\\xf6\\xf9\\xfc\\xfc\\x00\\x00\\x00',\n",
       " b'\\x00\\x00 \\x14',\n",
       " b'\\n\\xfc\\xf1\\xed\\xe7\\xdc\\xd2\\xcd\\xce\\xd5\\xda\\xdf\\xe6\\xf2\\xff\\x03\\x00\\xfd\\xfe\\x01\\x05\\t\\x08\\x02\\xfd\\xfb\\xf9\\xf2\\xe2\\xcf\\xc6\\xcd\\xdf\\xf2\\x02\\x0f\\x15\\x15\\x12\\x0f\\x08\\xff\\xf9\\xf8\\xfb\\xfe\\x00\\x00\\x00\\x00',\n",
       " b'\\x00\\x00 \\x14',\n",
       " b'\\xdf\\xe2\\xeb\\xf2\\xed\\xe0\\xd4\\xcf\\xd0\\xcf\\xc9\\xc4\\xcb\\xe1\\xf8\\x01\\x00\\xfe\\x00\\x0b\\x19\\x1f\\x1e\\x16\\x0c\\x01\\xf4\\xe1\\xcf\\xc7\\xce\\xe1\\xf7\\x07\\x12\\x17\\x15\\x10\\n\\x07\\x03\\x04\\x0c\\x15\\x1c\\x1e\\x1e\\x00\\x00\\x00',\n",
       " b'\\x00\\x00$\\x8c',\n",
       " b'\\xcf\\xd5\\xd5\\x11:SK\\x1f\\xe7\\xb4\\xa2\\xae\\xd2\\xf9\\x16 \\x15\\xff\\xeb\\xe8\\xf5\\xfe\\xf9\\xf9\\xdd\\xd5\\xd9\\xd9\\xfb\\x07\\t\\x02\\xf7\\xe7\\xd6\\xcd\\xcf\\xe0\\xe0\\xfb\\xfe\\xff\\xff\\x00\\x02\\x00\\x00\\x00\\x00\\x00',\n",
       " b'\\x00\\x00$\\x8c',\n",
       " b'\\xe2\\xd9\\xe3\\xfd\\x1eF`T$\\xe4\\xad\\x96\\x9b\\xb3\\xd0\\xea\\xfd\\x03\\x02\\xff\\x01\\x0b\\x15\\x12\\x03\\xf1\\xe2\\xdd\\xe3\\xef\\xf8\\xfe\\x00\\xfd\\xf6\\xeb\\xe1\\xdc\\xe2\\xed\\xf4\\xf5\\xf2\\xf5\\xf9\\x00\\x00\\x00\\x00\\x00',\n",
       " b'\\x00\\x00$\\x8c',\n",
       " b'\\xd6\\xea\\x05*OcS\\x1c\\xd3\\x92w\\x83\\xa9\\xd5\\xf9\\x0c\\x0f\\x04\\xfc\\xf8\\xfd\\xff\\xfe\\xf9\\xf4\\xee\\xee\\xf5\\xff\\t\\x10\\x0e\\x02\\xf4\\xe3\\xdb\\xdf\\xea\\xf7\\x00\\x02\\x02\\x01\\x02\\x07\\x00\\x00\\x00\\x00\\x00',\n",
       " b'\\x00\\x00$\\x8c',\n",
       " b\"\\xff\\n\\x1e5LP3\\xf6\\xacwj\\x80\\xb0\\xe4\\x0f',!\\x16\\x16 * \\x05\\xe7\\xd4\\xd9\\xef\\x08\\x18\\x18\\n\\xf7\\xe4\\xd7\\xd0\\xd4\\xe1\\xf1\\xff\\x04\\x05\\x02\\xfc\\xf5\\x00\\x00\\x00\\x00\\x00\",\n",
       " b\"\\x00\\x00'P\",\n",
       " b'@bqa;\\x11\\xf0\\xda\\xd6\\xdc\\xe2\\xe7\\xee\\xfb\\t\\x12\\x12\\n\\x01\\xf8\\xf0\\xea\\xe3\\xdb\\xd5\\xd5\\xdc\\xe7\\xee\\xed\\xe4\\xd9\\xce\\xcd\\xda\\xed\\xf9\\xfd\\xfb\\xfb\\xfe\\x00\\x00\\x00\\x00\\x00\\x00\\x00\\x00\\x00',\n",
       " b\"\\x00\\x00'P\",\n",
       " b'\\x0f7]lZ0\\x00\\xd4\\xb9\\xb3\\xbd\\xc9\\xd3\\xdc\\xe7\\xf4\\xfd\\x00\\x01\\x02\\x03\\x02\\xfd\\xf0\\xe3\\xe0\\xe4\\xef\\xf8\\xfb\\xf7\\xf2\\xee\\xe8\\xe2\\xe6\\xee\\xf7\\xfd\\x02\\t\\x0c\\x00\\x00\\x00\\x00\\x00\\x00\\x00\\x00',\n",
       " b\"\\x00\\x00'P\",\n",
       " b'#UwqF\\x0b\\xdf\\xc8\\xcc\\xdd\\xed\\xf6\\xfc\\x01\\x08\\t\\x02\\xfb\\xf4\\xf2\\xf2\\xf0\\xe6\\xd9\\xd2\\xd4\\xe0\\xee\\xf8\\xfd\\xfd\\xf6\\xeb\\xe2\\xe3\\xed\\xf6\\xfb\\xfc\\xfc\\xfe\\x00\\x00\\x00\\x00\\x00\\x00\\x00\\x00\\x00',\n",
       " b\"\\x00\\x00'P\",\n",
       " b'.`\\x82~W \\xef\\xce\\xc6\\xce\\xd9\\xdf\\xe6\\xf4\\x01\\t\\x08\\x00\\xf5\\xe9\\xe4\\xe2\\xdc\\xd2\\xcb\\xce\\xdb\\xf1\\x08\\x18\\x17\\x00\\xdb\\xc1\\xc2\\xdb\\xf7\\t\\x18%)\\x1f\\x00\\x00\\x00\\x00\\x00\\x00\\x00\\x00',\n",
       " b'\\x00\\x00-:',\n",
       " b'Gh}\\x93\\x94\\x94\\x94\\x89K\\x17\\xfd\\xf7\\xfb\\xf9\\xf0\\xe6\\xe2\\xe4\\xea\\xf2\\xff\\x0b\\x12\\x0c\\xff\\xed\\xe0\\xd9\\xda\\xdf\\xe7\\xf1\\xfc\\x01\\x03\\x02\\xff\\xfb\\xfb\\x05\\x0e\\x10\\x00\\x00\\x00\\x00\\x00\\x00\\x00\\x00',\n",
       " b'\\x00\\x00-:',\n",
       " b'\\xfd\\x01\\n\\x17,H^^A\\x0f\\xe4\\xd0\\xd6\\xe7\\xf6\\xfb\\xf9\\xf7\\xf7\\xf4\\xf2\\xf7\\x00\\x08\\x0b\\t\\x03\\xfe\\xf9\\xf6\\xf5\\xf4\\xf7\\xfc\\x00\\x02\\x03\\x02\\x01\\x07\\x12\\x1d\\x00\\x00\\x00\\x00\\x00\\x00\\x00\\x00',\n",
       " b'\\x00\\x00-:',\n",
       " b'\\xf6\\x04\\x185VgV#\\xe3\\xb4\\xa9\\xbb\\xda\\xf1\\xf9\\xf9\\xfb\\xfc\\xf8\\xef\\xe9\\xe7\\xe9\\xee\\xfb\\x08\\x12\\x0f\\xff\\xe8\\xd5\\xd0\\xd6\\xe0\\xea\\xf4\\xf7\\xf8\\xfd\\x05\\x11\\x19\\x00\\x00\\x00\\x00\\x00\\x00\\x00\\x00',\n",
       " b'\\x00\\x00-:',\n",
       " b'\\x02\\n\\x15,NcW&\\xe9\\xb9\\xad\\xc5\\xe9\\x00\\x01\\xfb\\xf7\\xfd\\x07\\x13\\x1c\\x1c\\x13\\x07\\xfd\\xfb\\x00\\n\\x0f\\x01\\xe6\\xcc\\xc0\\xc5\\xd4\\xe8\\xf6\\xfd\\x00\\x04\\x08\\x0c\\x00\\x00\\x00\\x00\\x00\\x00\\x00\\x00',\n",
       " b'\\x00\\x00-d',\n",
       " b'\\x0b\\x12\\x0c\\xff\\xed\\xe0\\xd9\\xda\\xdf\\xe7\\xf1\\xfc\\x01\\x03\\x02\\xff\\xfb\\xfb\\x05\\x0e\\x10\\x00\\x00\\x00\\x00\\x00\\x00\\x00\\x00\\x00\\x00\\x00\\x00\\x00\\x00\\x00\\x00\\x00\\x00\\x00\\x00\\x00\\x00\\x00\\x00\\x00\\x00\\x00\\x00\\x00',\n",
       " b'\\x00\\x00-d',\n",
       " b'\\xf7\\x00\\x08\\x0b\\t\\x03\\xfe\\xf9\\xf6\\xf5\\xf4\\xf7\\xfc\\x00\\x02\\x03\\x02\\x01\\x07\\x12\\x1d\\x00\\x00\\x00\\x00\\x00\\x00\\x00\\x00\\x00\\x00\\x00\\x00\\x00\\x00\\x00\\x00\\x00\\x00\\x00\\x00\\x00\\x00\\x00\\x00\\x00\\x00\\x00\\x00\\x00',\n",
       " b'\\x00\\x00-d',\n",
       " b'\\xe7\\xe9\\xee\\xfb\\x08\\x12\\x0f\\xff\\xe8\\xd5\\xd0\\xd6\\xe0\\xea\\xf4\\xf7\\xf8\\xfd\\x05\\x11\\x19\\x00\\x00\\x00\\x00\\x00\\x00\\x00\\x00\\x00\\x00\\x00\\x00\\x00\\x00\\x00\\x00\\x00\\x00\\x00\\x00\\x00\\x00\\x00\\x00\\x00\\x00\\x00\\x00\\x00',\n",
       " b'\\x00\\x00-d',\n",
       " b'\\x1c\\x13\\x07\\xfd\\xfb\\x00\\n\\x0f\\x01\\xe6\\xcc\\xc0\\xc5\\xd4\\xe8\\xf6\\xfd\\x00\\x04\\x08\\x0c\\x00\\x00\\x00\\x00\\x00\\x00\\x00\\x00\\x00\\x00\\x00\\x00\\x00\\x00\\x00\\x00\\x00\\x00\\x00\\x00\\x00\\x00\\x00\\x00\\x00\\x00\\x00\\x00\\x00',\n",
       " b'\\x00\\x00.\\xbc',\n",
       " b'\\x122Shd@\\x03\\xc5\\x9b\\x90\\xa2\\xc2\\xe4\\xff\\x0e\\x15\\x17\\x15\\x10\\x0b\\x08\\x03\\xfd\\xf7\\xf7\\xef\\xef\\xf4\\xfb\\x02\\x0e\\x19!$\\x1c\\x08\\xf2\\xdc\\xc5\\xab\\x9d\\xa5\\xc7\\xf8-\\\\w~oO',\n",
       " b'\\x00\\x00.\\xbc',\n",
       " b'\\x03\\x159c|rE\\x01\\xc0\\x95\\x8a\\x99\\xb8\\xd7\\xf0\\xfd\\x00\\x01\\x01\\x01\\x01\\x03\\x04\\x02\\x00\\xff\\x01\\t\\x12\\x18\\x19\\x19\\x1d\\x1f!\\x1f\\x17\\x0e\\x0c\\x11\\x13\\x12\\x0e\\x0c\\x0f\\x17 &$\\x1e',\n",
       " b'\\x00\\x00.\\xbc',\n",
       " b'7\\\\~\\x8c{H\\x03\\xc5\\x9d\\x94\\xa5\\xc2\\xdd\\xf1\\xfb\\xff\\x00\\x00\\x00\\x00\\xfe\\xf8\\xf1\\xee\\xea\\xe4\\xe1\\xe4\\xea\\xf2\\xf9\\x00\\x03\\t\\x0f\\x13\\x18 **\\x1f\\x13\\x0e\\x0f\\x18#+,)$',\n",
       " b'\\x00\\x00.\\xbc',\n",
       " b'8[~\\x94\\x94y5\\xeb\\xb5\\x9e\\x9f\\xad\\xbf\\xd3\\xe6\\xf9\\t\\x15\\x17\\x10\\x03\\xf4\\xe0\\xcb\\xb4\\xa6\\xac\\xc2\\xdd\\xf2\\xfe\\x01\\x03\\x05\\x05\\x01\\xfe\\xff\\x00\\x00\\xf7\\xed\\xe9\\xf0\\xff\\x0c\\x16\\x16\\x16\\x1a',\n",
       " b'\\x00\\x00/P',\n",
       " b'\\xda\\xe1\\xed\\xf2\\xf4\\xf8\\x01\\x0f\\x19\\x1c\\x19\\x12\\n\\x00\\x00\\x00\\x00\\x00\\x00\\x00\\x00\\x00\\x00\\x00\\x00\\x00\\x00\\x00\\x00\\x00\\x00\\x00\\x00\\x00\\x00\\x00\\x00\\x00\\x00\\x00\\x00\\x00\\x00\\x00\\x00\\x00\\x00\\x00\\x00\\x00',\n",
       " b'\\x00\\x00/P',\n",
       " b'\\x0c\\t\\x05\\x04\\x02\\x00\\xfc\\xf7\\xee\\xe3\\xe0\\xe4\\xee\\x00\\x00\\x00\\x00\\x00\\x00\\x00\\x00\\x00\\x00\\x00\\x00\\x00\\x00\\x00\\x00\\x00\\x00\\x00\\x00\\x00\\x00\\x00\\x00\\x00\\x00\\x00\\x00\\x00\\x00\\x00\\x00\\x00\\x00\\x00\\x00\\x00',\n",
       " b'\\x00\\x00/P',\n",
       " b'\\x10\\x11\\x10\\x07\\xfc\\xf2\\xf4\\xf8\\xfc\\xff\\x03\\t\\x0b\\x00\\x00\\x00\\x00\\x00\\x00\\x00\\x00\\x00\\x00\\x00\\x00\\x00\\x00\\x00\\x00\\x00\\x00\\x00\\x00\\x00\\x00\\x00\\x00\\x00\\x00\\x00\\x00\\x00\\x00\\x00\\x00\\x00\\x00\\x00\\x00\\x00',\n",
       " b'\\x00\\x00/P',\n",
       " b'\\t\\x19\\x1e\\x13\\x03\\xf7\\xf4\\xf5\\xf9\\x01\\x0e\\x18\\x1f\\x00\\x00\\x00\\x00\\x00\\x00\\x00\\x00\\x00\\x00\\x00\\x00\\x00\\x00\\x00\\x00\\x00\\x00\\x00\\x00\\x00\\x00\\x00\\x00\\x00\\x00\\x00\\x00\\x00\\x00\\x00\\x00\\x00\\x00\\x00\\x00\\x00',\n",
       " b'\\x00\\x000\\xc4',\n",
       " b\"\\xea\\xe9\\xef\\xf5\\xf5\\xe9\\xd4\\xd4\\xa9\\xa6\\xb3\\xc8\\xdd\\xed\\xf9\\x00\\x00\\xfb\\xeb\\xd9\\xc7\\xbd\\xbe\\xcf\\xcf!KU7\\xfd\\xc0\\x96\\x8a\\x8a\\x9b\\xd9\\xf0\\xfe\\x03\\x04\\x05\\n\\x16!''\\x1c\\x12\\x0c\\n\",\n",
       " b'\\x00\\x000\\xc4',\n",
       " b'\\xf5\\xeb\\xe6\\xea\\xf5\\xfc\\xfb\\xf1\\xe4\\xda\\xd7\\xd9\\xdc\\xdd\\xdf\\xe6\\x00\\xfd\\xf9\\xef\\xe4\\xdf\\xe6\\xf7\\x0f4c\\x8b\\x93q4\\xf6\\xc8\\xb5\\xb9\\xc6\\xd3\\xdd\\xe8\\xf4\\xff\\t\\x13 +22,#\\x1c',\n",
       " b'\\x00\\x000\\xc4',\n",
       " b\"\\xf8\\xf5\\xf6\\xf9\\xfc\\xfb\\xf0\\xdd\\xcb\\xc2\\xc6\\xcf\\xdb\\xe3\\xeb\\xf2\\x00\\xf5\\xeb\\xe0\\xd5\\xcf\\xd3\\xe6\\t<j{b'\\xe8\\xb9\\xab\\xb8\\xd2\\xee\\x02\\x10\\x1a'4@B>4)\\x1f\\x1a\\x19\\x1c\",\n",
       " b'\\x00\\x000\\xc4',\n",
       " b'\\xe4\\xef\\x00\\x12\\x1e\\x1f\\x12\\xf7\\xd0\\xb3\\xab\\xb9\\xd4\\xf5\\x0e\\x1d\\x00\\x05\\xf5\\xe3\\xd4\\xc8\\xc5\\xd0\\xf0 PcL\\x15\\xda\\xb1\\xa4\\xac\\xc2\\xdc\\xf2\\x02\\x10\\x1e.<EE<.\\x1e\\x12\\n\\x07',\n",
       " b'\\x00\\x000\\xf0',\n",
       " b\"\\xbe\\xcf\\xcf!KU7\\xfd\\xc0\\x96\\x8a\\x8a\\x9b\\xd9\\xf0\\xfe\\x03\\x04\\x05\\n\\x16!''\\x1c\\x12\\x0c\\n\\x0c\\x0e\\x0f\\x0f\\x0e\\n\\t\\x0c\\x16$02)\\x18\\x07\\xff\\x00\\x00\\x00\\x00\\x00\\x00\",\n",
       " b'\\x00\\x000\\xf0',\n",
       " b'\\xe6\\xf7\\x0f4c\\x8b\\x93q4\\xf6\\xc8\\xb5\\xb9\\xc6\\xd3\\xdd\\xe8\\xf4\\xff\\t\\x13 +22,#\\x1c\\x1c !\\x1d\\x17\\x11\\t\\xff\\xf6\\xf7\\x04\\x15\\x1e\\x1a\\x10\\x04\\xfe\\x00\\x00\\x00\\x00\\x00',\n",
       " b'\\x00\\x000\\xf0',\n",
       " b\"\\xd3\\xe6\\t<j{b'\\xe8\\xb9\\xab\\xb8\\xd2\\xee\\x02\\x10\\x1a'4@B>4)\\x1f\\x1a\\x19\\x1c\\x1d\\x1a\\x17\\x15\\x11\\x0c\\x04\\xfc\\xf7\\xf9\\xfe\\xff\\xff\\xff\\x02\\x05\\x07\\x00\\x00\\x00\\x00\\x00\",\n",
       " b'\\x00\\x000\\xf0',\n",
       " b\"\\xc5\\xd0\\xf0 PcL\\x15\\xda\\xb1\\xa4\\xac\\xc2\\xdc\\xf2\\x02\\x10\\x1e.<EE<.\\x1e\\x12\\n\\x07\\x07\\x07\\x05\\x03\\x02\\x02\\x04\\x07\\x0b\\x0f\\x12\\x17\\x1c $'*\\x00\\x00\\x00\\x00\\x00\",\n",
       " b'\\x00\\x002\\x14',\n",
       " b'\\x00\\x00\\x00\\x00\\x00\\x00\\x00\\x00\\x00\\x00\\x00\\x00\\x00\\x00\\x00\\x00\\x00\\x00\\x00\\x00\\x00\\x00\\x00\\x00\\x00\\x00\\x00\\x00\\x00\\x00\\x00\\x00\\x00\\x00\\x00\\x00\\x00\\x00\\x00\\x00\\x00\\x00\\x00\\x00\\x00\\x00\\x00\\x00\\x00\\x00',\n",
       " b'\\x00\\x002\\x14',\n",
       " b'\\x00\\x00\\x00\\x00\\x00\\x00\\x00\\x00\\x00\\x00\\x00\\x00\\x00\\x00\\x00\\x00\\x00\\x00\\x00\\x00\\x00\\x00\\x00\\x00\\x00\\x00\\x00\\x00\\x00\\x00\\x00\\x00\\x00\\x00\\x00\\x00\\x00\\x00\\x00\\x00\\x00\\x00\\x00\\x00\\x00\\x00\\x00\\x00\\x00\\x00',\n",
       " b'\\x00\\x002\\x14',\n",
       " b'\\x00\\x00\\x00\\x00\\x00\\x00\\x00\\x00\\x00\\x00\\x00\\x00\\x00\\x00\\x00\\x00\\x00\\x00\\x00\\x00\\x00\\x00\\x00\\x00\\x00\\x00\\x00\\x00\\x00\\x00\\x00\\x00\\x00\\x00\\x00\\x00\\x00\\x00\\x00\\x00\\x00\\x00\\x00\\x00\\x00\\x00\\x00\\x00\\x00\\x00',\n",
       " b'\\x00\\x002\\x14',\n",
       " b'\\x00\\x00\\x00\\x00\\x00\\x00\\x00\\x00\\x00\\x00\\x00\\x00\\x00\\x00\\x00\\x00\\x00\\x00\\x00\\x00\\x00\\x00\\x00\\x00\\x00\\x00\\x00\\x00\\x00\\x00\\x00\\x00\\x00\\x00\\x00\\x00\\x00\\x00\\x00\\x00\\x00\\x00\\x00\\x00\\x00\\x00\\x00\\x00\\x00\\x00',\n",
       " b'\\x00\\x004V',\n",
       " b'\\x00\\x00\\x00\\x00\\x00\\x00\\xfc\\xf4\\xe8\\xd4\\xbf\\xb7\\xc5\\xea%o\\x94\\x94\\x92??\\xad\\xa3\\xbe\\xe4\\xff\\x00\\xef\\xd3\\xbe\\xb8\\xc5\\xd6\\xe3\\xe8\\xe9\\xe9\\xeb\\xef\\xf1\\xf2\\xf1\\xf6\\x01\\x0f\\x18\\x1c\\x1c\\x10\\x07',\n",
       " b'\\x00\\x004V',\n",
       " b'\\x00\\x00\\x00\\x00\\x00\\x00\\xfc\\xff\\xff\\xf8\\xeb\\xe2\\xe8\\xf7\\x0b&BWT1\\xf8\\xc1\\xa9\\xb5\\xdb\\x01\\x1a \\x16\\x05\\xfe\\x00\\x07\\x0f\\x10\\n\\x03\\x00\\x01\\x05\\x0c\\x12\\x10\\x0b\\x0b\\x16 $\\x1d\\x0e',\n",
       " b'\\x00\\x004V',\n",
       " b'\\x00\\x00\\x00\\x00\\x00\\x00\\xf5\\xf2\\xe6\\xd3\\xc4\\xc4\\xd2\\xee\\x18P\\x80\\x8cj*\\xee\\xd0\\xdb\\xf8\\x0f\\x18\\x12\\x08\\x00\\xfb\\xf8\\xf6\\xf2\\xeb\\xe2\\xda\\xd6\\xdc\\xea\\xf9\\x01\\x04\\x08\\x10\\x18\\x1c\\x17\\x0f\\x05\\x00',\n",
       " b'\\x00\\x004V',\n",
       " b'\\x00\\x00\\x00\\x00\\x00\\x00\\xea\\xed\\xe9\\xdd\\xce\\xc7\\xd0\\xf0$g\\x94\\x94\\x8c;\\xe8\\xb2\\xab\\xc1\\xdc\\xeb\\xf0\\xea\\xe1\\xd9\\xd6\\xd9\\xd7\\xd2\\xcc\\xcd\\xd7\\xe8\\xfc\\n\\x11\\x10\\x0c\\x0f\\x17\\x1e\\x1e\\x17\\x0f\\n',\n",
       " b'\\x00\\x004n',\n",
       " b'\\xc5\\xea%o\\x94\\x94\\x92??\\xad\\xa3\\xbe\\xe4\\xff\\x00\\xef\\xd3\\xbe\\xb8\\xc5\\xd6\\xe3\\xe8\\xe9\\xe9\\xeb\\xef\\xf1\\xf2\\xf1\\xf6\\x01\\x0f\\x18\\x1c\\x1c\\x10\\x07\\x02\\x03\\x05\\x05\\xff\\xf5\\x00\\x00\\x00\\x00\\x00\\x00',\n",
       " b'\\x00\\x004n',\n",
       " b'\\xe8\\xf7\\x0b&BWT1\\xf8\\xc1\\xa9\\xb5\\xdb\\x01\\x1a \\x16\\x05\\xfe\\x00\\x07\\x0f\\x10\\n\\x03\\x00\\x01\\x05\\x0c\\x12\\x10\\x0b\\x0b\\x16 $\\x1d\\x0e\\xfd\\xee\\xea\\xf0\\xfb\\x00\\x00\\x00\\x00\\x00\\x00\\x00',\n",
       " b'\\x00\\x004n',\n",
       " b'\\xd2\\xee\\x18P\\x80\\x8cj*\\xee\\xd0\\xdb\\xf8\\x0f\\x18\\x12\\x08\\x00\\xfb\\xf8\\xf6\\xf2\\xeb\\xe2\\xda\\xd6\\xdc\\xea\\xf9\\x01\\x04\\x08\\x10\\x18\\x1c\\x17\\x0f\\x05\\x00\\xff\\xff\\xfe\\xf9\\xf2\\xee\\x00\\x00\\x00\\x00\\x00\\x00',\n",
       " b'\\x00\\x004n',\n",
       " b'\\xd0\\xf0$g\\x94\\x94\\x8c;\\xe8\\xb2\\xab\\xc1\\xdc\\xeb\\xf0\\xea\\xe1\\xd9\\xd6\\xd9\\xd7\\xd2\\xcc\\xcd\\xd7\\xe8\\xfc\\n\\x11\\x10\\x0c\\x0f\\x17\\x1e\\x1e\\x17\\x0f\\n\\t\\x0b\\x10\\x12\\x10\\t\\x00\\x00\\x00\\x00\\x00\\x00',\n",
       " b'\\x00\\x004\\x8a',\n",
       " b'\\x00\\xef\\xd3\\xbe\\xb8\\xc5\\xd6\\xe3\\xe8\\xe9\\xe9\\xeb\\xef\\xf1\\xf2\\xf1\\xf6\\x01\\x0f\\x18\\x1c\\x1c\\x10\\x07\\x02\\x03\\x05\\x05\\xff\\xf5\\x00\\x00\\x00\\x00\\x00\\x00\\x00\\x00\\x00\\x00\\x00\\x00\\x00\\x00\\x00\\x00\\x00\\x00\\x00\\x00',\n",
       " b'\\x00\\x004\\x8a',\n",
       " b'\\x1a \\x16\\x05\\xfe\\x00\\x07\\x0f\\x10\\n\\x03\\x00\\x01\\x05\\x0c\\x12\\x10\\x0b\\x0b\\x16 $\\x1d\\x0e\\xfd\\xee\\xea\\xf0\\xfb\\x00\\x00\\x00\\x00\\x00\\x00\\x00\\x00\\x00\\x00\\x00\\x00\\x00\\x00\\x00\\x00\\x00\\x00\\x00\\x00\\x00',\n",
       " b'\\x00\\x004\\x8a',\n",
       " b'\\x12\\x08\\x00\\xfb\\xf8\\xf6\\xf2\\xeb\\xe2\\xda\\xd6\\xdc\\xea\\xf9\\x01\\x04\\x08\\x10\\x18\\x1c\\x17\\x0f\\x05\\x00\\xff\\xff\\xfe\\xf9\\xf2\\xee\\x00\\x00\\x00\\x00\\x00\\x00\\x00\\x00\\x00\\x00\\x00\\x00\\x00\\x00\\x00\\x00\\x00\\x00\\x00\\x00',\n",
       " b'\\x00\\x004\\x8a',\n",
       " b'\\xf0\\xea\\xe1\\xd9\\xd6\\xd9\\xd7\\xd2\\xcc\\xcd\\xd7\\xe8\\xfc\\n\\x11\\x10\\x0c\\x0f\\x17\\x1e\\x1e\\x17\\x0f\\n\\t\\x0b\\x10\\x12\\x10\\t\\x00\\x00\\x00\\x00\\x00\\x00\\x00\\x00\\x00\\x00\\x00\\x00\\x00\\x00\\x00\\x00\\x00\\x00\\x00\\x00',\n",
       " b'\\x00\\x0064',\n",
       " b'\\x00\\x00\\x00\\x00\\x00\\x00\\x00\\x00\\x00\\x00\\x00\\x00\\x00\\x00\\x00\\x00\\x00\\x00\\x00\\x00\\x00\\x00\\x00\\x00\\x00\\x00\\x00\\x00\\x00\\x00\\x00\\x00\\x00\\x00\\x00\\x00\\x00\\x00\\x00\\x00\\x00\\x00\\x00\\x00\\x00\\x00\\x00\\x00\\x00\\x00',\n",
       " b'\\x00\\x0064',\n",
       " b'\\x00\\x00\\x00\\x00\\x00\\x00\\x00\\x00\\x00\\x00\\x00\\x00\\x00\\x00\\x00\\x00\\x00\\x00\\x00\\x00\\x00\\x00\\x00\\x00\\x00\\x00\\x00\\x00\\x00\\x00\\x00\\x00\\x00\\x00\\x00\\x00\\x00\\x00\\x00\\x00\\x00\\x00\\x00\\x00\\x00\\x00\\x00\\x00\\x00\\x00',\n",
       " b'\\x00\\x0064',\n",
       " b'\\x00\\x00\\x00\\x00\\x00\\x00\\x00\\x00\\x00\\x00\\x00\\x00\\x00\\x00\\x00\\x00\\x00\\x00\\x00\\x00\\x00\\x00\\x00\\x00\\x00\\x00\\x00\\x00\\x00\\x00\\x00\\x00\\x00\\x00\\x00\\x00\\x00\\x00\\x00\\x00\\x00\\x00\\x00\\x00\\x00\\x00\\x00\\x00\\x00\\x00',\n",
       " b'\\x00\\x0064',\n",
       " b'\\x00\\x00\\x00\\x00\\x00\\x00\\x00\\x00\\x00\\x00\\x00\\x00\\x00\\x00\\x00\\x00\\x00\\x00\\x00\\x00\\x00\\x00\\x00\\x00\\x00\\x00\\x00\\x00\\x00\\x00\\x00\\x00\\x00\\x00\\x00\\x00\\x00\\x00\\x00\\x00\\x00\\x00\\x00\\x00\\x00\\x00\\x00\\x00\\x00\\x00',\n",
       " b'\\x00\\x007J',\n",
       " b'G,\\x18\\x0b\\x01\\xfb\\xf2\\xee\\xeb\\xeb\\xf1\\xfc\\x00\\xfd\\xef\\xe0\\xd7\\xdc\\xea\\xf7\\xf5\\xe6\\xd7\\xd4\\xdb\\xe8\\xf1\\xee\\xe0\\xd0\\xc9\\xcd\\xd6\\xdf\\x00\\x00\\x00\\x00\\x00\\x00\\x00\\x00\\x00\\x00\\x00\\x00\\x00\\x00\\x00\\x00',\n",
       " b'\\x00\\x007J',\n",
       " b'\\x11\\xfd\\xed\\xe3\\xe4\\xea\\xf0\\xf5\\xf2\\xe9\\xdd\\xd9\\xdd\\xe6\\xe7\\xe2\\xdb\\xd7\\xda\\xe4\\xee\\xf0\\xe9\\xe1\\xda\\xd6\\xd9\\xdf\\xe6\\xed\\xf4\\xfc\\x00\\x00\\x00\\x00\\x00\\x00\\x00\\x00\\x00\\x00\\x00\\x00\\x00\\x00\\x00\\x00\\x00\\x00',\n",
       " b'\\x00\\x007J',\n",
       " b'\\x02\\xf5\\xf0\\xf4\\xfc\\x02\\x00\\xf5\\xe0\\xcf\\xc9\\xcf\\xd7\\xd9\\xd2\\xc6\\xbf\\xc5\\xd7\\xed\\xf9\\xfd\\xfc\\xf5\\xed\\xe8\\xe8\\xea\\xee\\xf2\\xf8\\xfd\\xfc\\xf4\\x00\\x00\\x00\\x00\\x00\\x00\\x00\\x00\\x00\\x00\\x00\\x00\\x00\\x00\\x00\\x00',\n",
       " b'\\x00\\x007J',\n",
       " b'\\x0e\\t\\x05\\x04\\x04\\xfe\\xeb\\xd5\\xc6\\xc1\\xcc\\xe1\\xf5\\xf9\\xef\\xdf\\xd6\\xd7\\xe3\\xef\\xf5\\xf5\\xed\\xe1\\xd6\\xd3\\xd9\\xe6\\xf5\\x00\\x02\\xfc\\xea\\xda\\x00\\x00\\x00\\x00\\x00\\x00\\x00\\x00\\x00\\x00\\x00\\x00\\x00\\x00\\x00\\x00',\n",
       " b'\\x00\\x008\\xb0',\n",
       " b'\\x00\\x00\\x00\\x00\\x00\\x00\\x00\\x00\\x00\\x00\\x00\\x00\\x00\\x00\\x00\\x00\\x00\\x00\\x00\\x00\\x00\\x00\\x00\\x00\\x00\\x00\\x00\\x00\\x00\\x00\\x00\\x00\\x00\\x00\\x00\\x00\\x00\\x00\\x00\\x00\\x00\\x00\\x00\\x00\\x00\\x00\\x00\\x00\\x00\\x00',\n",
       " b'\\x00\\x008\\xb0',\n",
       " b'\\x00\\x00\\x00\\x00\\x00\\x00\\x00\\x00\\x00\\x00\\x00\\x00\\x00\\x00\\x00\\x00\\x00\\x00\\x00\\x00\\x00\\x00\\x00\\x00\\x00\\x00\\x00\\x00\\x00\\x00\\x00\\x00\\x00\\x00\\x00\\x00\\x00\\x00\\x00\\x00\\x00\\x00\\x00\\x00\\x00\\x00\\x00\\x00\\x00\\x00',\n",
       " b'\\x00\\x008\\xb0',\n",
       " b'\\x00\\x00\\x00\\x00\\x00\\x00\\x00\\x00\\x00\\x00\\x00\\x00\\x00\\x00\\x00\\x00\\x00\\x00\\x00\\x00\\x00\\x00\\x00\\x00\\x00\\x00\\x00\\x00\\x00\\x00\\x00\\x00\\x00\\x00\\x00\\x00\\x00\\x00\\x00\\x00\\x00\\x00\\x00\\x00\\x00\\x00\\x00\\x00\\x00\\x00',\n",
       " b'\\x00\\x008\\xb0',\n",
       " b'\\x00\\x00\\x00\\x00\\x00\\x00\\x00\\x00\\x00\\x00\\x00\\x00\\x00\\x00\\x00\\x00\\x00\\x00\\x00\\x00\\x00\\x00\\x00\\x00\\x00\\x00\\x00\\x00\\x00\\x00\\x00\\x00\\x00\\x00\\x00\\x00\\x00\\x00\\x00\\x00\\x00\\x00\\x00\\x00\\x00\\x00\\x00\\x00\\x00\\x00',\n",
       " b'\\x00\\x00:\\x82',\n",
       " b\"3Mhvt[\\x18\\x9djjjj\\xbb7\\x85\\x94\\x94~eN7#\\x19\\x19 '*'\\x1f\\x15\\t\\xff\\xf5\\xf5\\xeb\\xf2\\xfe\\x07\\x08\\x00\\xf4\\xe8\\xe2\\x00\\x00\\x00\\x00\\x00\\x00\\x00\",\n",
       " b'\\x00\\x00:\\x82',\n",
       " b'\\xfb\\x00\\t\\x16\\x1f#\\x1f\\x0c\\xf0\\xd4\\xc9\\xd3\\xe9\\xff\\x12%031,%\\x18\\x0b\\x04\\x04\\x07\\x08\\x04\\x00\\xf9\\xf4\\xf2\\xf4\\xf6\\xfb\\x00\\x04\\x08\\x08\\x05\\x02\\x01\\xfd\\x00\\x00\\x00\\x00\\x00\\x00\\x00',\n",
       " b'\\x00\\x00:\\x82',\n",
       " b'\\x0b\\x1c+59980\\x1a\\xff\\xe8\\xe0\\xe6\\xf6\\n\\x1c!\\x1e\\x15\\t\\x00\\xfb\\xfb\\xfb\\xfb\\xf9\\xf9\\xfb\\xfb\\xfb\\xf7\\xf1\\xee\\xef\\xf2\\xf7\\xfe\\x05\\x0b\\n\\x02\\xf9\\xf1\\x00\\x00\\x00\\x00\\x00\\x00\\x00',\n",
       " b'\\x00\\x00:\\x82',\n",
       " b'-ASWF\\x1f\\xf5\\xd3\\xc4\\xc9\\xe0\\xf8\\n\\x17\\x1f#$\\x1f\\x16\\t\\x00\\x00\\t\\x19%)#\\x17\\x0b\\x00\\xf2\\xe3\\xd6\\xcf\\xcc\\xd0\\xdb\\xe7\\xea\\xe4\\xd7\\xcb\\xc2\\x00\\x00\\x00\\x00\\x00\\x00\\x00',\n",
       " b'\\x00\\x00<\\x16',\n",
       " b'\\x08\\x1a5UcM\\x15\\xd6\\xab\\x9f\\xae\\xc9\\xe6\\xfd\\x0b\\x17\\x1c\\x19\\x15\\x0f\\t\\x02\\xfd\\xf8\\xf9\\xfd\\x00\\x05\\t\\x08\\x05\\x05\\n\\x0c\\n\\x01\\xf7\\xf2\\xf6\\x00\\n\\x12\\x18\\x18\\x00\\x00\\x00\\x00\\x00\\x00',\n",
       " b'\\x00\\x00<\\x16',\n",
       " b'\\x10\\x1a)>WeT \\xe4\\xb4\\xa5\\xb4\\xd5\\xf9\\x11\\x1a\\x18\\x13\\x0f\\x0e\\x11\\x16\\x17\\x16\\x16\\x18\\x1c\\x1f!\\x1f\\x18\\x11\\x11\\x18\\x1f$$# \\x1e\\x17\\x0c\\x01\\xfb\\x00\\x00\\x00\\x00\\x00\\x00',\n",
       " b'\\x00\\x00<\\x16',\n",
       " b'\\x13%@^jR\\x17\\xdb\\xb7\\xb8\\xd7\\x00\\x1c#\\x11\\xf9\\xe9\\xea\\xf9\\t\\x15\\x1a\\x1c\\x1c\\x1e\\x1c\\x17\\x13\\x11\\x0b\\x05\\x04\\t\\x10\\x11\\t\\xfc\\xf0\\xf0\\xfb\\n\\x1a\\x1f\\x1a\\x00\\x00\\x00\\x00\\x00\\x00',\n",
       " b'\\x00\\x00<\\x16',\n",
       " b'\\n\\x1f8PZE\\x16\\xe7\\xc9\\xc7\\xd5\\xe6\\xef\\xf4\\xf9\\x02\\x10\\x1c\\x1f\\x1c\\x11\\x05\\x00\\xff\\x00\\xff\\xfe\\xff\\x00\\xff\\xfd\\xfd\\xff\\x00\\x00\\xfc\\xf9\\xfd\\x02\\x07\\x08\\x07\\x03\\x00\\x00\\x00\\x00\\x00\\x00\\x00',\n",
       " b'\\x00\\x00>\\xf6',\n",
       " b'\\x04\\xf8\\xef\\xee\\xf5\\xfe\\x01\\x00\\xf9\\xef\\xe4\\xe1\\xe3\\x00\\x00\\x00\\x00\\x00\\x00\\x00\\x00\\x00\\x00\\x00\\x00\\x00\\x00\\x00\\x00\\x00\\x00\\x00\\x00\\x00\\x00\\x00\\x00\\x00\\x00\\x00\\x00\\x00\\x00\\x00\\x00\\x00\\x00\\x00\\x00\\x00',\n",
       " b'\\x00\\x00>\\xf6',\n",
       " b'\\x11\\x16\\x15\\x0f\\n\\x0b\\x13\\x1d \\x19\\n\\xf9\\xeb\\x00\\x00\\x00\\x00\\x00\\x00\\x00\\x00\\x00\\x00\\x00\\x00\\x00\\x00\\x00\\x00\\x00\\x00\\x00\\x00\\x00\\x00\\x00\\x00\\x00\\x00\\x00\\x00\\x00\\x00\\x00\\x00\\x00\\x00\\x00\\x00\\x00',\n",
       " b'\\x00\\x00>\\xf6',\n",
       " b'\\x03\\x05\\x07\\t\\x0b\\x0e\\n\\xff\\xee\\xdd\\xd5\\xd6\\xdd\\x00\\x00\\x00\\x00\\x00\\x00\\x00\\x00\\x00\\x00\\x00\\x00\\x00\\x00\\x00\\x00\\x00\\x00\\x00\\x00\\x00\\x00\\x00\\x00\\x00\\x00\\x00\\x00\\x00\\x00\\x00\\x00\\x00\\x00\\x00\\x00\\x00',\n",
       " b'\\x00\\x00>\\xf6',\n",
       " b'\\xfb\\xeb\\xe0\\xdc\\xe3\\xef\\xf7\\xf7\\xef\\xdd\\xc9\\xbb\\xba\\x00\\x00\\x00\\x00\\x00\\x00\\x00\\x00\\x00\\x00\\x00\\x00\\x00\\x00\\x00\\x00\\x00\\x00\\x00\\x00\\x00\\x00\\x00\\x00\\x00\\x00\\x00\\x00\\x00\\x00\\x00\\x00\\x00\\x00\\x00\\x00\\x00',\n",
       " b'\\x00\\x00@J',\n",
       " b'!Rt{[\\x1d\\xd5\\x9b\\x81\\x8b\\xb0\\xdd\\xdd\\x17\\x18\\x0b\\xfc\\xf1\\xee\\xf2\\xfb\\x00\\x01\\xff\\xfb\\xf6\\xf4\\xf5\\xfc\\x02\\x02\\x08\\x04\\x00\\x00\\xfc\\xfe\\x00\\x01\\x00\\xfd\\xf6\\xee\\x00\\x00\\x00\\x00\\x00\\x00\\x00',\n",
       " b'\\x00\\x00@J',\n",
       " b'\\xfd\\x1eC\\\\[8\\x00\\xc7\\x9d\\x90\\x9f\\xc0\\xe8\\x07\\x17\\x15\\x08\\xfb\\xef\\xed\\xf1\\xf8\\xff\\x00\\xfe\\xf9\\xf7\\xf8\\xfb\\xfe\\x00\\x04\\n\\x0e\\x0c\\t\\x05\\x04\\x07\\x08\\n\\x0c\\x0e\\x00\\x00\\x00\\x00\\x00\\x00\\x00',\n",
       " b'\\x00\\x00@J',\n",
       " b'\\x17;[cI\\x11\\xd5\\xab\\xa0\\xb3\\xd4\\xf7\\x10\\x1e\\x1d\\x11\\x01\\xf5\\xeb\\xea\\xf2\\x00\\x0b\\x11\\x11\\x0e\\x0b\\x0c\\x11\\x15\\x16\\x11\\x0c\\x0b\\x0e\\x0c\\t\\x05\\x04\\x07\\n\\x0c\\x0c\\x00\\x00\\x00\\x00\\x00\\x00\\x00',\n",
       " b'\\x00\\x00@J',\n",
       " b'\\x139Y^?\\x02\\xc1\\x95\\x89\\x9c\\xc2\\xee\\x0f!!\\x13\\xfc\\xe3\\xda\\xe4\\xfb\\x0e\\x18\\x18\\x10\\x07\\x00\\x00\\xff\\x00\\x01\\x02\\x03\\x05\\x07\\x05\\x04\\x07\\n\\x0b\\t\\x02\\xfb\\x00\\x00\\x00\\x00\\x00\\x00\\x00',\n",
       " b'\\x00\\x00Ld',\n",
       " b'!99H9\\x1f\\x05\\xf9\\xf8\\xfb\\xfb\\xfd\\x04\\x16$)!\\x18\\x13\\x13\\x13\\x0f\\x04\\x04\\xeb\\xe4\\xe3\\xe4\\xe7\\xe7\\xe6\\xe3\\xe4\\xe9\\xf1\\xf8\\xfe\\x02\\x05\\x08\\x05\\x03\\x02\\x00\\x00\\x00\\x00\\x00\\x00\\x00',\n",
       " b'\\x00\\x00Ld',\n",
       " b'&%%)-,\\x1e\\t\\xfb\\xf1\\xed\\xe9\\xea\\xf2\\x00\\x0c\\x13\\x16\\x15\\x12\\x0e\\x07\\x00\\xf6\\xeb\\xe1\\xdf\\xe2\\xe4\\xe3\\xe0\\xe0\\xe6\\xed\\xf2\\xfc\\x02\\x05\\x05\\x08\\x0c\\x11\\x12\\x00\\x00\\x00\\x00\\x00\\x00\\x00',\n",
       " b'\\x00\\x00Ld',\n",
       " b'\\x1f)3?F< \\xfe\\xe1\\xd3\\xd2\\xd9\\xe6\\xf8\\x05\\n\\x02\\xf7\\xef\\xf1\\xfe\\x07\\x0c\\x0c\\n\\n\\x08\\x00\\xef\\xdc\\xce\\xcb\\xcf\\xd9\\xe6\\xf2\\xfc\\x00\\x03\\x08\\x0b\\x0c\\x0b\\x00\\x00\\x00\\x00\\x00\\x00\\x00',\n",
       " b'\\x00\\x00Ld',\n",
       " b'-K^lukM%\\x02\\xee\\xe2\\xe0\\xe7\\xf6\\x03\\t\\x04\\xfd\\xf2\\xee\\xee\\xf4\\xfb\\xff\\x00\\x00\\xff\\xfb\\xf1\\xe7\\xdd\\xdb\\xdf\\xe4\\xea\\xed\\xed\\xf1\\xfe\\x0e\\x1a\\x1f\\x19\\x00\\x00\\x00\\x00\\x00\\x00\\x00',\n",
       " b'\\x00\\x00L\\x8e',\n",
       " b'\\x0f\\x04\\x04\\xeb\\xe4\\xe3\\xe4\\xe7\\xe7\\xe6\\xe3\\xe4\\xe9\\xf1\\xf8\\xfe\\x02\\x05\\x08\\x05\\x03\\x02\\x00\\x00\\x00\\x00\\x00\\x00\\x00\\x00\\x00\\x00\\x00\\x00\\x00\\x00\\x00\\x00\\x00\\x00\\x00\\x00\\x00\\x00\\x00\\x00\\x00\\x00\\x00\\x00',\n",
       " b'\\x00\\x00L\\x8e',\n",
       " b'\\x07\\x00\\xf6\\xeb\\xe1\\xdf\\xe2\\xe4\\xe3\\xe0\\xe0\\xe6\\xed\\xf2\\xfc\\x02\\x05\\x05\\x08\\x0c\\x11\\x12\\x00\\x00\\x00\\x00\\x00\\x00\\x00\\x00\\x00\\x00\\x00\\x00\\x00\\x00\\x00\\x00\\x00\\x00\\x00\\x00\\x00\\x00\\x00\\x00\\x00\\x00\\x00\\x00',\n",
       " b'\\x00\\x00L\\x8e',\n",
       " b'\\x07\\x0c\\x0c\\n\\n\\x08\\x00\\xef\\xdc\\xce\\xcb\\xcf\\xd9\\xe6\\xf2\\xfc\\x00\\x03\\x08\\x0b\\x0c\\x0b\\x00\\x00\\x00\\x00\\x00\\x00\\x00\\x00\\x00\\x00\\x00\\x00\\x00\\x00\\x00\\x00\\x00\\x00\\x00\\x00\\x00\\x00\\x00\\x00\\x00\\x00\\x00\\x00',\n",
       " b'\\x00\\x00L\\x8e',\n",
       " b'\\xf4\\xfb\\xff\\x00\\x00\\xff\\xfb\\xf1\\xe7\\xdd\\xdb\\xdf\\xe4\\xea\\xed\\xed\\xf1\\xfe\\x0e\\x1a\\x1f\\x19\\x00\\x00\\x00\\x00\\x00\\x00\\x00\\x00\\x00\\x00\\x00\\x00\\x00\\x00\\x00\\x00\\x00\\x00\\x00\\x00\\x00\\x00\\x00\\x00\\x00\\x00\\x00\\x00',\n",
       " b'\\x00\\x00O\\xdc',\n",
       " b'\\x12\\x1d4OZC\\x17\\xeb\\xcf\\xcd\\xdc\\xef\\xfe\\x05\\t\\x08\\x03\\x01\\x00\\xfe\\xf6\\xee\\xea\\xea\\xe9\\xe7\\xe3\\xdc\\xd5\\xd2\\xd5\\xdf\\xe8\\xe8\\xeb\\xe9\\xed\\xf8\\t\\x1f) \\t\\xef\\xd5\\x00\\x00\\x00\\x00\\x00',\n",
       " b'\\x00\\x00O\\xdc',\n",
       " b'\\xef\\xf6\\x0c0LL)\\xf6\\xc5\\xaa\\xa9\\xb7\\xc9\\xda\\xe9\\xf5\\xfd\\x00\\xfd\\xf5\\xeb\\xe4\\xe3\\xeb\\xf4\\xf9\\xf9\\xf6\\xef\\xe8\\xe6\\xed\\xf7\\xfe\\xfe\\xfc\\xf9\\xfc\\x03\\x0f\\x18\\x1a\\x18\\x19\\x1f\\x00\\x00\\x00\\x00\\x00',\n",
       " b'\\x00\\x00O\\xdc',\n",
       " b'\\x00\\x05\\x17,1\\x1a\\xf1\\xc5\\xaa\\xa6\\xb8\\xd3\\xed\\xff\\x08\\x0c\\x0f\\x0f\\x0c\\n\\x07\\x01\\xfc\\xf4\\xed\\xe6\\xda\\xce\\xc9\\xce\\xdd\\xf0\\xfc\\xfc\\xf5\\xf2\\xf6\\xfd\\x03\\x0c\\x12\\x15\\x18\\x1c\\x1c\\x00\\x00\\x00\\x00\\x00',\n",
       " b'\\x00\\x00O\\xdc',\n",
       " b'\\xe3\\xf2\\x16C]S.\\x07\\xf4\\xf8\\x07\\x13\\x18\\x17\\x11\\n\\x04\\x03\\x03\\x03\\xfd\\xf0\\xe4\\xdc\\xd9\\xd4\\xcc\\xc0\\xb9\\xbe\\xce\\xe3\\xf0\\xee\\xe3\\xdc\\xe0\\xea\\xf6\\x01\\t\\x0c\\x10\\x13\\x15\\x00\\x00\\x00\\x00\\x00',\n",
       " b'\\x00\\x00O\\xfe',\n",
       " b'\\x01\\x00\\xfe\\xf6\\xee\\xea\\xea\\xe9\\xe7\\xe3\\xdc\\xd5\\xd2\\xd5\\xdf\\xe8\\xe8\\xeb\\xe9\\xed\\xf8\\t\\x1f) \\t\\xef\\xd5\\x00\\x00\\x00\\x00\\x00\\x00\\x00\\x00\\x00\\x00\\x00\\x00\\x00\\x00\\x00\\x00\\x00\\x00\\x00\\x00\\x00\\x00',\n",
       " b'\\x00\\x00O\\xfe',\n",
       " b'\\x00\\xfd\\xf5\\xeb\\xe4\\xe3\\xeb\\xf4\\xf9\\xf9\\xf6\\xef\\xe8\\xe6\\xed\\xf7\\xfe\\xfe\\xfc\\xf9\\xfc\\x03\\x0f\\x18\\x1a\\x18\\x19\\x1f\\x00\\x00\\x00\\x00\\x00\\x00\\x00\\x00\\x00\\x00\\x00\\x00\\x00\\x00\\x00\\x00\\x00\\x00\\x00\\x00\\x00\\x00',\n",
       " b'\\x00\\x00O\\xfe',\n",
       " b'\\x0f\\x0c\\n\\x07\\x01\\xfc\\xf4\\xed\\xe6\\xda\\xce\\xc9\\xce\\xdd\\xf0\\xfc\\xfc\\xf5\\xf2\\xf6\\xfd\\x03\\x0c\\x12\\x15\\x18\\x1c\\x1c\\x00\\x00\\x00\\x00\\x00\\x00\\x00\\x00\\x00\\x00\\x00\\x00\\x00\\x00\\x00\\x00\\x00\\x00\\x00\\x00\\x00\\x00',\n",
       " b'\\x00\\x00O\\xfe',\n",
       " b'\\x03\\x03\\x03\\xfd\\xf0\\xe4\\xdc\\xd9\\xd4\\xcc\\xc0\\xb9\\xbe\\xce\\xe3\\xf0\\xee\\xe3\\xdc\\xe0\\xea\\xf6\\x01\\t\\x0c\\x10\\x13\\x15\\x00\\x00\\x00\\x00\\x00\\x00\\x00\\x00\\x00\\x00\\x00\\x00\\x00\\x00\\x00\\x00\\x00\\x00\\x00\\x00\\x00\\x00',\n",
       " b'\\x00\\x00S\\xc4',\n",
       " b'\\x00\\x00\\x00\\x00\\x00\\x00\\x00\\x00\\x00\\x00\\x00\\x00\\x00\\x00\\x00\\x00\\x00\\x00\\x00\\x00\\x00\\x00\\x00\\x00\\x00\\x00\\x00\\x00\\x00\\x00\\x00\\x00\\x00\\x00\\x00\\x00\\x00\\x00\\x00\\x00\\x00\\x00\\x00\\x00\\x00\\x00\\x00\\x00\\x00\\x00',\n",
       " b'\\x00\\x00S\\xc4',\n",
       " b'\\x00\\x00\\x00\\x00\\x00\\x00\\x00\\x00\\x00\\x00\\x00\\x00\\x00\\x00\\x00\\x00\\x00\\x00\\x00\\x00\\x00\\x00\\x00\\x00\\x00\\x00\\x00\\x00\\x00\\x00\\x00\\x00\\x00\\x00\\x00\\x00\\x00\\x00\\x00\\x00\\x00\\x00\\x00\\x00\\x00\\x00\\x00\\x00\\x00\\x00',\n",
       " b'\\x00\\x00S\\xc4',\n",
       " b'\\x00\\x00\\x00\\x00\\x00\\x00\\x00\\x00\\x00\\x00\\x00\\x00\\x00\\x00\\x00\\x00\\x00\\x00\\x00\\x00\\x00\\x00\\x00\\x00\\x00\\x00\\x00\\x00\\x00\\x00\\x00\\x00\\x00\\x00\\x00\\x00\\x00\\x00\\x00\\x00\\x00\\x00\\x00\\x00\\x00\\x00\\x00\\x00\\x00\\x00',\n",
       " b'\\x00\\x00S\\xc4',\n",
       " b'\\x00\\x00\\x00\\x00\\x00\\x00\\x00\\x00\\x00\\x00\\x00\\x00\\x00\\x00\\x00\\x00\\x00\\x00\\x00\\x00\\x00\\x00\\x00\\x00\\x00\\x00\\x00\\x00\\x00\\x00\\x00\\x00\\x00\\x00\\x00\\x00\\x00\\x00\\x00\\x00\\x00\\x00\\x00\\x00\\x00\\x00\\x00\\x00\\x00\\x00',\n",
       " b'\\x00\\x00Vj',\n",
       " b'\\x00\\x00\\x00\\x00\\x00\\xc9\\xb4\\x99|m|\\xb0\\xf9>n~|uldZL;$\\x08\\xf7\\xf6\\xfe\\x03\\x05\\x04\\x04\\x04\\x04\\xff\\xf2\\xe3\\xd6\\xd0\\xd4\\xdf\\xeb\\xf5\\xf8\\xf7\\xf5\\xf4\\xf1\\xe9\\xdd',\n",
       " b'\\x00\\x00Vj',\n",
       " b\"\\x00\\x00\\x00\\x00\\x00\\xe0\\xda\\xda\\xdb\\xd9\\xd4\\xd2\\xda\\xe8\\xf8\\x04\\x0e\\x13\\x18\\x1c\\x1f!',)\\x1c\\x0f\\n\\x0b\\x0c\\x0f\\x12\\x13\\x13\\x10\\t\\x00\\xf6\\xee\\xeb\\xef\\xf4\\xf7\\xf8\\xf8\\xf7\\xf9\\x00\\x04\\x05\",\n",
       " b'\\x00\\x00Vj',\n",
       " b'\\x00\\x00\\x00\\x00\\x00\\xdc\\xd3\\xd6\\xdd\\xdd\\xd5\\xce\\xd0\\xda\\xe7\\xf8\\x0c#3:>AB<+\\x17\\n\\x04\\x03\\x02\\x01\\x02\\x07\\x0b\\t\\xff\\xf0\\xe4\\xe0\\xe4\\xf0\\xff\\x08\\n\\t\\t\\x07\\x01\\xf9\\xed',\n",
       " b'\\x00\\x00Vj',\n",
       " b'\\x00\\x00\\x00\\x00\\x00\\xd3\\xcc\\xc8\\xc7\\xc6\\xc5\\xc7\\xcf\\xd7\\xe1\\xed\\xfc\\n\\x15\\x1c  \\x1d\\x15\\n\\x05\\x0b\\x16\\x1e$*--!\\t\\xef\\xe0\\xe6\\xf9\\n\\x12\\x12\\x0e\\x07\\x04\\x04\\x04\\x00\\xf7\\xeb',\n",
       " b'\\x00\\x00V\\xbe',\n",
       " b'\\xf5\\xf8\\xf7\\xf5\\xf4\\xf1\\xe9\\xdd\\xd2\\xcb\\xcf\\xdc\\xeb\\x00\\x00\\x00\\x00\\x00\\x00\\x00\\x00\\x00\\x00\\x00\\x00\\x00\\x00\\x00\\x00\\x00\\x00\\x00\\x00\\x00\\x00\\x00\\x00\\x00\\x00\\x00\\x00\\x00\\x00\\x00\\x00\\x00\\x00\\x00\\x00\\x00',\n",
       " b'\\x00\\x00V\\xbe',\n",
       " b'\\xf7\\xf8\\xf8\\xf7\\xf9\\x00\\x04\\x05\\x00\\xf7\\xf1\\xf0\\xf2\\x00\\x00\\x00\\x00\\x00\\x00\\x00\\x00\\x00\\x00\\x00\\x00\\x00\\x00\\x00\\x00\\x00\\x00\\x00\\x00\\x00\\x00\\x00\\x00\\x00\\x00\\x00\\x00\\x00\\x00\\x00\\x00\\x00\\x00\\x00\\x00\\x00',\n",
       " b'\\x00\\x00V\\xbe',\n",
       " b'\\x08\\n\\t\\t\\x07\\x01\\xf9\\xed\\xdd\\xd3\\xd0\\xd5\\xdc\\x00\\x00\\x00\\x00\\x00\\x00\\x00\\x00\\x00\\x00\\x00\\x00\\x00\\x00\\x00\\x00\\x00\\x00\\x00\\x00\\x00\\x00\\x00\\x00\\x00\\x00\\x00\\x00\\x00\\x00\\x00\\x00\\x00\\x00\\x00\\x00\\x00',\n",
       " b'\\x00\\x00V\\xbe',\n",
       " b'\\x0e\\x07\\x04\\x04\\x04\\x00\\xf7\\xeb\\xdf\\xd2\\xcb\\xcf\\xdb\\x00\\x00\\x00\\x00\\x00\\x00\\x00\\x00\\x00\\x00\\x00\\x00\\x00\\x00\\x00\\x00\\x00\\x00\\x00\\x00\\x00\\x00\\x00\\x00\\x00\\x00\\x00\\x00\\x00\\x00\\x00\\x00\\x00\\x00\\x00\\x00\\x00',\n",
       " b'\\x00\\x00]T',\n",
       " b'\\x00\\x00\\x00\\x00\\x00\\x00\\x00\\x00\\xc9\\xd0\\xd4\\xd5\\xd7\\xdf\\xef\\t2]ta&\\xe2\\xac\\x9c\\xad\\xce\\xee\\x01\\n\\x0b\\x08\\x08\\x0f\\x1a$$\\x19\\x19\\x02\\x02\\x05\\x03\\xfc\\xea\\xd7\\xcf\\xd5\\xe1\\xe8\\xe8',\n",
       " b'\\x00\\x00]T',\n",
       " b\"\\x00\\x00\\x00\\x00\\x00\\x00\\x00\\x00\\xf0\\xee\\xf2\\xf2\\xef\\xe9\\xe7\\xee\\x02'RhY&\\xea\\xb8\\xa2\\xa6\\xbe\\xdb\\xf5\\x07\\x0f\\x0c\\x07\\x02\\x00\\x00\\xff\\xf9\\xf5\\xf8\\x00\\x04\\x05\\x04\\x02\\x00\\x02\\x05\\x05\\xfe\",\n",
       " b'\\x00\\x00]T',\n",
       " b'\\x00\\x00\\x00\\x00\\x00\\x00\\x00\\x00\\xc2\\xc4\\xc6\\xcc\\xd4\\xe0\\xef\\x082^ve3\\xf7\\xc8\\xb3\\xb7\\xcb\\xe4\\xfc\\x08\\x0c\\t\\x02\\x00\\x00\\x05\\x05\\x00\\xf6\\xed\\xea\\xee\\xf1\\xf2\\xf4\\xf7\\xfc\\x04\\x0c\\x0c\\x05',\n",
       " b'\\x00\\x00]T',\n",
       " b\"\\x00\\x00\\x00\\x00\\x00\\x00\\x00\\x00\\xe8\\xe8\\xe6\\xe4\\xe8\\xf2\\xff\\x124\\\\p\\\\$\\xe6\\xb9\\xae\\xbf\\xdd\\xfc\\x07\\xfe\\xe6\\xd0\\xcc\\xdd\\xff\\x1d-'\\x10\\xf4\\xd6\\xbf\\xb2\\xb4\\xc5\\xdf\\xfb\\x10\\x19\\x17\\x10\",\n",
       " b'\\x00\\x00]r',\n",
       " b'\\t2]ta&\\xe2\\xac\\x9c\\xad\\xce\\xee\\x01\\n\\x0b\\x08\\x08\\x0f\\x1a$$\\x19\\x19\\x02\\x02\\x05\\x03\\xfc\\xea\\xd7\\xcf\\xd5\\xe1\\xe8\\xe8\\xe7\\xed\\xf7\\x01\\t\\x0b\\x07\\x00\\x00\\x00\\x00\\x00\\x00\\x00\\x00',\n",
       " b'\\x00\\x00]r',\n",
       " b\"\\xee\\x02'RhY&\\xea\\xb8\\xa2\\xa6\\xbe\\xdb\\xf5\\x07\\x0f\\x0c\\x07\\x02\\x00\\x00\\xff\\xf9\\xf5\\xf8\\x00\\x04\\x05\\x04\\x02\\x00\\x02\\x05\\x05\\xfe\\xee\\xe0\\xdb\\xdb\\xda\\xd7\\xd6\\xd9\\x00\\x00\\x00\\x00\\x00\\x00\\x00\",\n",
       " b'\\x00\\x00]r',\n",
       " b'\\x082^ve3\\xf7\\xc8\\xb3\\xb7\\xcb\\xe4\\xfc\\x08\\x0c\\t\\x02\\x00\\x00\\x05\\x05\\x00\\xf6\\xed\\xea\\xee\\xf1\\xf2\\xf4\\xf7\\xfc\\x04\\x0c\\x0c\\x05\\x00\\xfd\\xf7\\xe9\\xd6\\xc9\\xcb\\xda\\x00\\x00\\x00\\x00\\x00\\x00\\x00',\n",
       " b'\\x00\\x00]r',\n",
       " b\"\\x124\\\\p\\\\$\\xe6\\xb9\\xae\\xbf\\xdd\\xfc\\x07\\xfe\\xe6\\xd0\\xcc\\xdd\\xff\\x1d-'\\x10\\xf4\\xd6\\xbf\\xb2\\xb4\\xc5\\xdf\\xfb\\x10\\x19\\x17\\x10\\x0c\\x0c\\x10\\x12\\x10\\n\\x00\\xf5\\x00\\x00\\x00\\x00\\x00\\x00\\x00\",\n",
       " b'\\x00\\x00c>',\n",
       " b'\\x1d\\x1d\\x1c\\x15\\x04\\xf0\\xdc\\xd2\\xd0\\xd6\\xe4\\xf7\\x0b\\x1d$\\x1f\\x12\\x02\\xf4\\xe9\\xe8\\xef\\xf7\\x00\\x00\\x00\\x00\\x00\\x00\\x00\\x00\\x00\\x00\\x00\\x00\\x00\\x00\\x00\\x00\\x00\\x00\\x00\\x00\\x00\\x00\\x00\\x00\\x00\\x00\\x00',\n",
       " b'\\x00\\x00c>',\n",
       " b'\\x11\\x0c\\x05\\x00\\xfb\\xf4\\xea\\xe1\\xdd\\xdd\\xe0\\xe6\\xf0\\xfe\\x0c\\x1a\\x1e\\x13\\xfd\\xe1\\xcb\\xc7\\xd3\\x00\\x00\\x00\\x00\\x00\\x00\\x00\\x00\\x00\\x00\\x00\\x00\\x00\\x00\\x00\\x00\\x00\\x00\\x00\\x00\\x00\\x00\\x00\\x00\\x00\\x00\\x00',\n",
       " b'\\x00\\x00c>',\n",
       " b'\\x17\\x1a\\x1d\\x1a\\x10\\x00\\xee\\xd6\\xbb\\xa3\\x99\\xa4\\xc0\\xe0\\xfb\\t\\x0c\\x05\\xfd\\xf7\\xfb\\x00\\x02\\x00\\x00\\x00\\x00\\x00\\x00\\x00\\x00\\x00\\x00\\x00\\x00\\x00\\x00\\x00\\x00\\x00\\x00\\x00\\x00\\x00\\x00\\x00\\x00\\x00\\x00\\x00',\n",
       " b'\\x00\\x00c>',\n",
       " b'&\\x1f\\x18\\x10\\x02\\xf5\\xe8\\xdd\\xd3\\xc8\\xc4\\xcb\\xe2\\xfe\\x16%&\\x13\\xf7\\xdd\\xd6\\xe3\\xf6\\x00\\x00\\x00\\x00\\x00\\x00\\x00\\x00\\x00\\x00\\x00\\x00\\x00\\x00\\x00\\x00\\x00\\x00\\x00\\x00\\x00\\x00\\x00\\x00\\x00\\x00\\x00',\n",
       " b'\\x00\\x00c\\xc2',\n",
       " b'\\x00\\x00\\x00\\x00\\x00\\x00\\xcf\\xa3jjjj\\xa4\\x00CdeZH91120*%%+337*\\x17\\x05\\xf8\\xeb\\xe1\\xdc\\xdf\\xe8\\xf8\\x08\\x15\\x1a\\x18\\x0f\\x01\\xf5\\xea\\xe6',\n",
       " b'\\x00\\x00c\\xc2',\n",
       " b'\\x00\\x00\\x00\\x00\\x00\\x00\\xdc\\xe1\\xe1\\xdc\\xdb\\xe1\\xed\\xf9\\x02\\x07\\x04\\x00\\x00\\x01\\x08\\x15#)!\\x15\\x0e\\x0e\\x11\\x15\\x17\\x16\\x0f\\x04\\xf8\\xe9\\xda\\xd2\\xd4\\xdc\\xe4\\xed\\xf5\\xfc\\x01\\x07\\x08\\x03\\xfd\\xf9',\n",
       " b'\\x00\\x00c\\xc2',\n",
       " b'\\x00\\x00\\x00\\x00\\x00\\x00\\x00\\xf6\\xe3\\xd2\\xc7\\xc8\\xd6\\xeb\\x00\\x0f\\x15\\x13\\x11\\x0f\\x12\\x1a# \\x16\\x0e\\x0b\\x0b\\x0c\\x0f\\x0c\\x03\\xf8\\xef\\xe8\\xdd\\xd5\\xd2\\xd4\\xd7\\xdd\\xe4\\xee\\xf9\\x03\\t\\t\\x04\\x00\\x00',\n",
       " b'\\x00\\x00c\\xc2',\n",
       " b'\\x00\\x00\\x00\\x00\\x00\\x00\\xf6\\xe1\\xc4\\xa6\\x98\\xa0\\xbd\\xe2\\x00\\x0c\\x0e\\x0b\\x08\\x05\\x08\\x11\\x1d&)*0:BB7 \\x07\\xf1\\xe2\\xd7\\xd0\\xcd\\xcb\\xc9\\xcb\\xcd\\xd2\\xdc\\xee\\xfe\\x05\\x05\\x03\\x01',\n",
       " b'\\x00\\x00d\\xba',\n",
       " b'\\xf6\\xe8\\xdd\\xd9\\xdc\\xe6\\xe4\\xcf\\xab\\x90\\x95\\xb9\\xe9\\x0b\\x1a\\x1a\\x16\\x15\\x16\\x18\\x1e$& \\x11\\x01\\xf7\\xf1\\xf1\\xf4\\xf4\\xf0\\xea\\xe6\\xe8\\xf2\\x00\\x0b\\x12\\x12\\x11\\x15\\x1c$*&\\x17\\xff\\x00\\x00',\n",
       " b'\\x00\\x00d\\xba',\n",
       " b\"\\xf4\\xed\\xed\\xf6\\x02\\x13,BC'\\xf8\\xcc\\xb7\\xb9\\xc9\\xd9\\xe2\\xe7\\xea\\xef\\xf6\\xfe\\x07\\x12\\x1a\\x1a\\x0f\\xfb\\xe6\\xda\\xda\\xdd\\xdf\\xdc\\xda\\xda\\xe2\\xf0\\xff\\n\\x10\\x13\\x13\\x11\\x0c\\n\\x08\\x00\\x00\\x00\",\n",
       " b'\\x00\\x00d\\xba',\n",
       " b'\\xf0\\xe8\\xe9\\xf6\\x0b+C@\\x19\\xe2\\xb5\\xa5\\xad\\xc0\\xd5\\xe6\\xf2\\xf8\\xf8\\xf7\\xf7\\xfd\\x03\\x08\\x05\\xff\\xf8\\xf6\\xf7\\xf9\\xf9\\xf5\\xeb\\xe1\\xdf\\xe9\\xf9\\x07\\x10\\x12\\x11\\x10\\x0e\\x0b\\x0e\\x11\\x10\\x07\\x00\\x00',\n",
       " b'\\x00\\x00d\\xba',\n",
       " b'\\xc4\\xb5\\xbd\\xd7\\x000YbF\\x10\\xdd\\xbd\\xb5\\xbf\\xce\\xdd\\xe9\\xeb\\xe9\\xe7\\xe9\\xf2\\x00\\x10\\x18\\x17\\x11\\x07\\xff\\xf7\\xf2\\xee\\xe8\\xe2\\xe4\\xef\\xfd\\x08\\x0c\\t\\x01\\xfe\\x00\\t\\x16\\x1f\\x1a\\n\\x00\\x00',\n",
       " b'\\x00\\x00f<',\n",
       " b\"Poq:\\xbejjjn\\x02n\\x94\\x91v[H>82'\\x16\\x04\\xf8\\xf1\\xf1\\xf6\\xfb\\xfc\\xfe\\x01\\x07\\x0b\\x0e\\n\\x01\\xfc\\xf6\\xef\\xe7\\xe0\\xdb\\xd6\\x00\\x00\\x00\\x00\\x00\\x00\\x00\\x00\",\n",
       " b'\\x00\\x00f<',\n",
       " b'\\xf1\\xf5\\x00\\x0e\\x1d))#\\x1e\\x1d\\x1d\\x18\\x0f\\x03\\xfb\\xf8\\x00\\x0b\\x13\\x13\\x0c\\x02\\xfc\\xf7\\xf6\\xf9\\xfe\\x01\\x03\\x05\\x0b\\x11\\x13\\x11\\t\\x00\\xf8\\xf1\\xef\\xf2\\xf8\\xfc\\x00\\x00\\x00\\x00\\x00\\x00\\x00\\x00',\n",
       " b'\\x00\\x00f<',\n",
       " b'\\x00\\x07\\x193C>!\\x00\\xea\\xe0\\xe0\\xe8\\xf1\\xf8\\xfb\\xf9\\xf9\\xff\\x04\\x05\\x00\\xf6\\xee\\xea\\xef\\xf7\\xff\\x01\\x02\\x07\\x11\\x1a\\x1d\\x13\\x05\\xfd\\xf9\\xfc\\xfe\\xfd\\xf6\\xea\\x00\\x00\\x00\\x00\\x00\\x00\\x00\\x00',\n",
       " b'\\x00\\x00f<',\n",
       " b'\\x00\\n!A\\\\cVB.\\x15\\xf6\\xd4\\xbb\\xb0\\xb3\\xc1\\xd6\\xed\\x00\\t\\x08\\xff\\xf4\\xe9\\xe6\\xeb\\xf6\\x00\\x0c\\x18!+0+\\x1a\\x0b\\x03\\x00\\xf7\\xe1\\xc5\\xb0\\x00\\x00\\x00\\x00\\x00\\x00\\x00\\x00',\n",
       " b'\\x00\\x00j\\xa0',\n",
       " b'\\xf0\\xfc\\x17Gv\\x87i#\\xd0\\x8bjs\\x9c\\xd2\\xff\\x19#\\x1f\\x17\\x12\\x11\\x12\\x10\\t\\x01\\xfd\\xf9\\xf9\\xf9\\xf8\\xf4\\xee\\xea\\xea\\xeb\\xed\\xea\\xe8\\xe9\\xee\\xf2\\xf9\\x05\\x17\\x00\\x00\\x00\\x00\\x00\\x00',\n",
       " b'\\x00\\x00j\\xa0',\n",
       " b'\\xfe\\xf8\\x00\\x19Et\\x87o2\\xea\\xb1\\x99\\xa6\\xcb\\xf1\\x0b\\x1a \\x1e\\x16\\n\\xff\\xf4\\xeb\\xe7\\xe4\\xe8\\xf1\\xfe\\x08\\n\\x04\\xf9\\xed\\xe6\\xe3\\xe2\\xe1\\xe1\\xe3\\xeb\\xf7\\x02\\x0f\\x00\\x00\\x00\\x00\\x00\\x00',\n",
       " b'\\x00\\x00j\\xa0',\n",
       " b'\\xf6\\x07%R}\\x89j+\\xe8\\xb1\\x95\\x99\\xb4\\xd7\\xf9\\x12#& \\x15\\x08\\xff\\xf9\\xf5\\xf1\\xf4\\xfb\\x01\\t\\x0c\\x08\\xff\\xf6\\xed\\xe7\\xe1\\xdc\\xd7\\xd7\\xdc\\xe8\\xf8\\x07\\x15\\x00\\x00\\x00\\x00\\x00\\x00',\n",
       " b'\\x00\\x00j\\xa0',\n",
       " b'\\xfc\\n)U\\x80\\x90p,\\xdc\\x97v\\x80\\xa7\\xd7\\x01\\x1d*&\\x1d\\x19\\x19\\x1c\\x1a\\x12\\x08\\x01\\x01\\x05\\x0c\\x11\\x10\\x0b\\x05\\x02\\x02\\x05\\x07\\x00\\xf0\\xdf\\xd4\\xd6\\xe9\\x00\\x00\\x00\\x00\\x00\\x00\\x00',\n",
       " b'\\x00\\x00l\\xc0',\n",
       " b'\\xfc\\xf1\\xe4\\xdd\\xdd\\xd9\\xce\\xc1\\xb8\\xb9\\xc1\\xce\\xdc\\xeb\\xf7\\xfd\\xfd\\xf5\\xe8\\xdc\\xd7\\xd9\\xe1\\xee\\xfc\\t\\x15\\x17\\x0e\\xff\\xef\\xe4\\xe2\\xe4\\xe8\\x00\\x00\\x00\\x00\\x00\\x00\\x00\\x00\\x00\\x00\\x00\\x00\\x00\\x00\\x00',\n",
       " b'\\x00\\x00l\\xc0',\n",
       " b'\\x17\\x11\\x07\\xff\\xfc\\xfb\\xf2\\xe1\\xd0\\xc6\\xc5\\xc9\\xd2\\xdb\\xe7\\xf2\\xfc\\xff\\xf8\\xea\\xda\\xd0\\xd0\\xda\\xe9\\xf8\\xff\\x00\\xfd\\xf6\\xe9\\xdf\\xdb\\xe0\\xe6\\x00\\x00\\x00\\x00\\x00\\x00\\x00\\x00\\x00\\x00\\x00\\x00\\x00\\x00\\x00',\n",
       " b'\\x00\\x00l\\xc0',\n",
       " b'\\xef\\xea\\xe4\\xe2\\xe1\\xe0\\xdb\\xd6\\xd3\\xcf\\xcd\\xce\\xd6\\xe3\\xf0\\xf9\\xfc\\xf4\\xe4\\xd7\\xcf\\xcd\\xd0\\xdd\\xf0\\x01\\x0e\\x11\\t\\xfd\\xf0\\xea\\xed\\xf2\\xf8\\x00\\x00\\x00\\x00\\x00\\x00\\x00\\x00\\x00\\x00\\x00\\x00\\x00\\x00\\x00',\n",
       " b'\\x00\\x00l\\xc0',\n",
       " b'\\x01\\x03\\xfc\\xe3\\xc1\\xa0\\x8b\\x8b\\x9d\\xb8\\xd3\\xe6\\xee\\xeb\\xe3\\xe0\\xe2\\xe6\\xe3\\xdc\\xd4\\xcd\\xcd\\xd5\\xe4\\xf6\\x01\\x03\\xfc\\xed\\xe2\\xe2\\xeb\\xf6\\xfc\\x00\\x00\\x00\\x00\\x00\\x00\\x00\\x00\\x00\\x00\\x00\\x00\\x00\\x00\\x00',\n",
       " b'\\x00\\x00m\\xf2',\n",
       " b'\\x0f\\x03\\xfd\\xfd\\xff\\x01\\x04\\x02\\xfc\\xee\\xdd\\xd2\\xcf\\xd7\\x00\\x00\\x00\\x00\\x00\\x00\\x00\\x00\\x00\\x00\\x00\\x00\\x00\\x00\\x00\\x00\\x00\\x00\\x00\\x00\\x00\\x00\\x00\\x00\\x00\\xfe\\xfe\\xfd\\xf8\\xf7\\xfe\\x0f\\x0fG]e',\n",
       " b'\\x00\\x00m\\xf2',\n",
       " b'\\n\\x02\\xf9\\xf5\\xf9\\xff\\x01\\x03\\x01\\xfb\\xee\\xe1\\xd6\\xd6\\x00\\x00\\x00\\x00\\x00\\x00\\x00\\x00\\x00\\x00\\x00\\x00\\x00\\x00\\x00\\x00\\x00\\x00\\x00\\x00\\x00\\x00\\x00\\x00\\x00\\x00\\x04\\x04\\xfe\\xf0\\xe8\\xee\\x02#AT',\n",
       " b'\\x00\\x00m\\xf2',\n",
       " b\"\\x00\\xf8\\xf2\\xf5\\xf9\\xfb\\xf8\\xf1\\xe8\\xdd\\xd2\\xcd\\xd3\\xe3\\x00\\x00\\x00\\x00\\x00\\x00\\x00\\x00\\x00\\x00\\x00\\x00\\x00\\x00\\x00\\x00\\x00\\x00\\x00\\x00\\x00\\x00\\x00\\x00\\x00\\x05\\x03\\xfb\\xeb\\xe2\\xea\\x03'FTO\",\n",
       " b'\\x00\\x00m\\xf2',\n",
       " b'\\x05\\xe9\\xcd\\xc6\\xd0\\xe4\\xf7\\x00\\x00\\xf6\\xe4\\xd5\\xd0\\xd7\\x00\\x00\\x00\\x00\\x00\\x00\\x00\\x00\\x00\\x00\\x00\\x00\\x00\\x00\\x00\\x00\\x00\\x00\\x00\\x00\\x00\\x00\\x00\\x00\\x00\\xeb\\xf8\\xfd\\xf9\\xf1\\xf1\\x00\\x1d:MN',\n",
       " b'\\x00\\x00nr',\n",
       " b'\\x05\\x0b\\x18\\x1f\\x18\\x05\\xf5\\xe8\\xe4\\xeb\\xf8\\x03\\x08\\x02\\xfc\\xf6\\xf6\\xf6\\xf6\\xf7\\xfc\\x03\\x0e\\x16\\x1a\\x00\\x00\\x00\\x00\\x00\\x00\\x00\\x00\\x00\\x00\\x00\\x00\\x00\\x00\\x00\\x00\\x00\\x00\\x00\\x00\\x00\\x00\\x00\\x00\\x00',\n",
       " b'\\x00\\x00nr',\n",
       " b'\\x05\\xf9\\xf6\\xfc\\x00\\xff\\xf6\\xea\\xdf\\xd7\\xd9\\xdf\\xe9\\xf1\\xf4\\xf1\\xf4\\xf8\\xfc\\xfb\\xf8\\xf8\\xfc\\x02\\x0c\\x00\\x00\\x00\\x00\\x00\\x00\\x00\\x00\\x00\\x00\\x00\\x00\\x00\\x00\\x00\\x00\\x00\\x00\\x00\\x00\\x00\\x00\\x00\\x00\\x00',\n",
       " b'\\x00\\x00nr',\n",
       " b'\\xfc\\xfe\\x05\\x0c\\n\\x01\\xfb\\xf7\\xf6\\xf6\\xf9\\x00\\t\\x0b\\n\\x08\\x08\\x07\\x05\\x03\\x04\\t\\x13 %\\x00\\x00\\x00\\x00\\x00\\x00\\x00\\x00\\x00\\x00\\x00\\x00\\x00\\x00\\x00\\x00\\x00\\x00\\x00\\x00\\x00\\x00\\x00\\x00\\x00',\n",
       " b'\\x00\\x00nr',\n",
       " b'\\xff\\x04\\x12\\x18\\x11\\x03\\xfc\\xf9\\xfc\\xfe\\x03\\x0c\\x13\\x16\\x11\\x0c\\x08\\x04\\x01\\xff\\x00\\x03\\x0b\\x15\\x18\\x00\\x00\\x00\\x00\\x00\\x00\\x00\\x00\\x00\\x00\\x00\\x00\\x00\\x00\\x00\\x00\\x00\\x00\\x00\\x00\\x00\\x00\\x00\\x00\\x00',\n",
       " b'\\x00\\x00q&',\n",
       " b'\\x00\\x00\\x00\\x00\\x00\\x00\\x00\\x00\\x00\\x00\\x00\\x00\\x00\\x00\\x00\\x00\\x00\\x00\\x00\\x00\\x00\\x00\\x00\\x00\\x00\\x00\\x00\\x00\\x00\\x00\\x00\\x00\\x00\\x00\\x00\\x00\\x00\\x00\\x00\\x00\\x00\\x00\\x00\\x00\\x00\\x00\\x00\\x00\\x00\\x00',\n",
       " b'\\x00\\x00q&',\n",
       " b'\\x00\\x00\\x00\\x00\\x00\\x00\\x00\\x00\\x00\\x00\\x00\\x00\\x00\\x00\\x00\\x00\\x00\\x00\\x00\\x00\\x00\\x00\\x00\\x00\\x00\\x00\\x00\\x00\\x00\\x00\\x00\\x00\\x00\\x00\\x00\\x00\\x00\\x00\\x00\\x00\\x00\\x00\\x00\\x00\\x00\\x00\\x00\\x00\\x00\\x00',\n",
       " b'\\x00\\x00q&',\n",
       " b'\\x00\\x00\\x00\\x00\\x00\\x00\\x00\\x00\\x00\\x00\\x00\\x00\\x00\\x00\\x00\\x00\\x00\\x00\\x00\\x00\\x00\\x00\\x00\\x00\\x00\\x00\\x00\\x00\\x00\\x00\\x00\\x00\\x00\\x00\\x00\\x00\\x00\\x00\\x00\\x00\\x00\\x00\\x00\\x00\\x00\\x00\\x00\\x00\\x00\\x00',\n",
       " b'\\x00\\x00q&',\n",
       " b'\\x00\\x00\\x00\\x00\\x00\\x00\\x00\\x00\\x00\\x00\\x00\\x00\\x00\\x00\\x00\\x00\\x00\\x00\\x00\\x00\\x00\\x00\\x00\\x00\\x00\\x00\\x00\\x00\\x00\\x00\\x00\\x00\\x00\\x00\\x00\\x00\\x00\\x00\\x00\\x00\\x00\\x00\\x00\\x00\\x00\\x00\\x00\\x00\\x00\\x00',\n",
       " b'\\x00\\x00t\\xf8',\n",
       " b'\\xf4\\x07*Rv\\x8e\\x8el3\\xfd\\xd9\\xcd\\xd4\\xe6\\xfc\\x0c\\x15\\x11\\x07\\x00\\xff\\x03\\x0f\\x18\\x19\\x16\\x0f\\x0b\\x10\\x1d)*!\\x15\\x0c\\n\\x0e\\x13\\x17\\x18\\x12\\xf9\\xbf{\\x00\\x00\\x00\\x00\\x00\\x00',\n",
       " b'\\x00\\x00t\\xf8',\n",
       " b'\\xf0\\xf4\\x04!@ZotZ&\\xeb\\xbb\\xaa\\xb3\\xce\\xeb\\x00\\n\\x0e\\x0b\\x07\\x01\\x00\\x04\\x08\\x05\\x02\\x00\\x00\\t\\x17! \\x18\\x11\\x0f\\x11\\x13\\x10\\x07\\xfb\\xed\\xe0\\xd2\\x00\\x00\\x00\\x00\\x00\\x00',\n",
       " b'\\x00\\x00t\\xf8',\n",
       " b'\\xf5\\x04%Ii~\\x7f`$\\xe6\\xb8\\xaa\\xb7\\xd3\\xf1\\x03\\n\\t\\x04\\x02\\x01\\x03\\n\\x11\\x15\\x11\\t\\x02\\x05\\x10\\x1a\\x1f\\x1d\\x16\\x0c\\x07\\x07\\x0b\\x0f\\x10\\t\\xfd\\xe7\\xcb\\x00\\x00\\x00\\x00\\x00\\x00',\n",
       " b'\\x00\\x00t\\xf8',\n",
       " b'\\x15*Nt\\x90\\x94\\x86Z\\x1e\\xe7\\xbf\\xae\\xb7\\xd0\\xf1\\t\\x15\\x13\\n\\xff\\xf8\\xff\\x0f\\x1e \\x16\\x01\\xf1\\xf2\\x03\\x17\\x1e\\x16\\x04\\xf6\\xf0\\xf8\\x03\\x0c\\x0b\\x00\\xed\\xd6\\xc4\\x00\\x00\\x00\\x00\\x00\\x00',\n",
       " b'\\x00\\x00u>',\n",
       " b'\\n\\x0e\\x13\\x17\\x18\\x12\\xf9\\xbf{\\x00\\x00\\x00\\x00\\x00\\x00\\x00\\x00\\x00\\x00\\x00\\x00\\x00\\x00\\x00\\x00\\x00\\x00\\x00\\x00\\x00\\x00\\x00\\x00\\x00\\x00\\x00\\x00\\x00\\x00\\x00\\x00\\x00\\x00\\x00\\x00\\x00\\x00\\x00\\x00\\x00',\n",
       " b'\\x00\\x00u>',\n",
       " b'\\x0f\\x11\\x13\\x10\\x07\\xfb\\xed\\xe0\\xd2\\x00\\x00\\x00\\x00\\x00\\x00\\x00\\x00\\x00\\x00\\x00\\x00\\x00\\x00\\x00\\x00\\x00\\x00\\x00\\x00\\x00\\x00\\x00\\x00\\x00\\x00\\x00\\x00\\x00\\x00\\x00\\x00\\x00\\x00\\x00\\x00\\x00\\x00\\x00\\x00\\x00',\n",
       " b'\\x00\\x00u>',\n",
       " b'\\x07\\x07\\x0b\\x0f\\x10\\t\\xfd\\xe7\\xcb\\x00\\x00\\x00\\x00\\x00\\x00\\x00\\x00\\x00\\x00\\x00\\x00\\x00\\x00\\x00\\x00\\x00\\x00\\x00\\x00\\x00\\x00\\x00\\x00\\x00\\x00\\x00\\x00\\x00\\x00\\x00\\x00\\x00\\x00\\x00\\x00\\x00\\x00\\x00\\x00\\x00',\n",
       " b'\\x00\\x00u>',\n",
       " b'\\xf0\\xf8\\x03\\x0c\\x0b\\x00\\xed\\xd6\\xc4\\x00\\x00\\x00\\x00\\x00\\x00\\x00\\x00\\x00\\x00\\x00\\x00\\x00\\x00\\x00\\x00\\x00\\x00\\x00\\x00\\x00\\x00\\x00\\x00\\x00\\x00\\x00\\x00\\x00\\x00\\x00\\x00\\x00\\x00\\x00\\x00\\x00\\x00\\x00\\x00\\x00',\n",
       " b'\\x00\\x00w\\x8c',\n",
       " b'\\x00\\x00\\x00\\x00\\x00\\x00\\x01\\xee\\xcf\\xb8\\xb7\\xc8\\xe7\\x0b1IOH8%\\x17\\x0e\\x05\\xfd\\xf2\\xf2\\xdf\\xda\\xdd\\xe7\\xf0\\xf9\\x05\\x16!$\\x1f\\x18\\x16\\x15\\x13\\x11\\x0e\\t\\x05\\x03\\x00\\xfb\\xf1\\xe4',\n",
       " b'\\x00\\x00w\\x8c',\n",
       " b'\\x00\\x00\\x00\\x00\\x00\\x00\\x03\\xfd\\xeb\\xd5\\xc5\\xc1\\xcb\\xdf\\xfc\\x16&+)\\x1f\\x15\\x0c\\x08\\x00\\xf6\\xe8\\xdb\\xd4\\xd7\\xe6\\xf7\\x04\\x0c\\x11\\x15\\x16\\x11\\n\\x03\\xfe\\xf9\\xf8\\xfd\\x00\\x00\\xfd\\xf9\\xf7\\xf7\\xf6',\n",
       " b'\\x00\\x00w\\x8c',\n",
       " b'\\x00\\x00\\x00\\x00\\x00\\x00\\xff\\xef\\xdb\\xc8\\xbf\\xc2\\xd6\\xf7\\x16+.$\\x11\\x00\\xf5\\xf1\\xf2\\xf5\\xf6\\xf2\\xed\\xed\\xf7\\x04\\x11\\x1a$-1*\\x1c\\x0e\\x04\\x00\\x00\\x00\\x00\\x03\\x05\\x03\\xff\\xf9\\xf1\\xe4',\n",
       " b'\\x00\\x00w\\x8c',\n",
       " b'\\x00\\x00\\x00\\x00\\x00\\x00\\xff\\xf2\\xd9\\xb9\\xa4\\xaa\\xd0\\x08@abK*\\x0e\\xfe\\xf4\\xee\\xea\\xeb\\xef\\xf2\\xf7\\x00\\x07\\n\\t\\n\\x11\\x17\\x18\\x17\\x18\\x1a\\x1c\\x1c\\x1e\\x1e\\x1a\\x13\\x08\\xfb\\xea\\xdb\\xcc',\n",
       " b'\\x00\\x00w\\xde',\n",
       " b'\\x11\\x0e\\t\\x05\\x03\\x00\\xfb\\xf1\\xe4\\xd9\\xd2\\xd0\\xd5\\xe1\\xf8\\x00\\x00\\x00\\x00\\x00\\x00\\x00\\x00\\x00\\x00\\x00\\x00\\x00\\x00\\x00\\x00\\x00\\x00\\x00\\x00\\x00\\x00\\x00\\x00\\x00\\x00\\x00\\x00\\x00\\x00\\x00\\x00\\x00\\x00\\x00',\n",
       " b'\\x00\\x00w\\xde',\n",
       " b'\\xf8\\xfd\\x00\\x00\\xfd\\xf9\\xf7\\xf7\\xf6\\xf0\\xe8\\xe4\\xe8\\xef\\xfb\\x00\\x00\\x00\\x00\\x00\\x00\\x00\\x00\\x00\\x00\\x00\\x00\\x00\\x00\\x00\\x00\\x00\\x00\\x00\\x00\\x00\\x00\\x00\\x00\\x00\\x00\\x00\\x00\\x00\\x00\\x00\\x00\\x00\\x00\\x00',\n",
       " b'\\x00\\x00w\\xde',\n",
       " b'\\x00\\x00\\x03\\x05\\x03\\xff\\xf9\\xf1\\xe4\\xd6\\xcd\\xce\\xd6\\xe6\\xfb\\x00\\x00\\x00\\x00\\x00\\x00\\x00\\x00\\x00\\x00\\x00\\x00\\x00\\x00\\x00\\x00\\x00\\x00\\x00\\x00\\x00\\x00\\x00\\x00\\x00\\x00\\x00\\x00\\x00\\x00\\x00\\x00\\x00\\x00\\x00',\n",
       " b'\\x00\\x00w\\xde',\n",
       " b'\\x1e\\x1e\\x1a\\x13\\x08\\xfb\\xea\\xdb\\xcc\\xc1\\xc2\\xcb\\xd5\\xdd\\xea\\x00\\x00\\x00\\x00\\x00\\x00\\x00\\x00\\x00\\x00\\x00\\x00\\x00\\x00\\x00\\x00\\x00\\x00\\x00\\x00\\x00\\x00\\x00\\x00\\x00\\x00\\x00\\x00\\x00\\x00\\x00\\x00\\x00\\x00\\x00',\n",
       " b'\\x00\\x00z~',\n",
       " b\"'11)'5@2\\x08\\xda\\xbb\\xb4\\xc0\\xd3\\xe4\\xef\\xf5\\xfb\\xff\\xff\\xf9\\xef\\xdc\\xc5\\xb2\\xaa\\xad\\xbb\\xd2\\xeb\\x00\\t\\n\\t\\x05\\xfd\\xef\\xe4\\xe2\\xe4\\xe8\\xeb\\xef\\xf4\\xfb\\x03\\x10\\x00\\x00\\x00\",\n",
       " b'\\x00\\x00z~',\n",
       " b'\\x0b\\x1a,47@UbN\\x19\\xe0\\xb8\\xad\\xb9\\xce\\xe4\\xf5\\xff\\x04\\t\\x0c\\x0c\\x07\\xff\\xf4\\xe9\\xe4\\xe6\\xee\\xfc\\t\\x11\\x10\\t\\x02\\x00\\x00\\xfd\\xf8\\xf2\\xeb\\xe4\\xe0\\xe1\\xe8\\xf1\\xf8\\x00\\x00\\x00',\n",
       " b'\\x00\\x00z~',\n",
       " b'$7ELWlu[\\x1e\\xdf\\xb2\\xa5\\xb2\\xc7\\xdc\\xea\\xf1\\xf6\\xfc\\x00\\x00\\xf6\\xe8\\xda\\xd0\\xce\\xd4\\xdd\\xe8\\xf5\\x00\\x04\\x04\\x02\\xfe\\xf4\\xe8\\xdf\\xdc\\xdc\\xd9\\xd5\\xd2\\xd2\\xd6\\xe0\\xeb\\x00\\x00\\x00',\n",
       " b'\\x00\\x00z~',\n",
       " b'Rcr{|t\\\\0\\xf7\\xc4\\xa6\\xa2\\xae\\xc2\\xd4\\xe0\\xe3\\xe6\\xe8\\xe9\\xe4\\xdd\\xd2\\xc7\\xc0\\xbe\\xc0\\xc9\\xd9\\xee\\x02\\x0f\\x12\\x0c\\x01\\xf1\\xdd\\xd2\\xd2\\xd7\\xd9\\xd4\\xd0\\xd5\\xe0\\xed\\xfc\\x00\\x00\\x00',\n",
       " b'\\x00\\x00z\\xbe',\n",
       " b'\\n\\t\\x05\\xfd\\xef\\xe4\\xe2\\xe4\\xe8\\xeb\\xef\\xf4\\xfb\\x03\\x10\\x00\\x00\\x00\\x00\\x00\\x00\\x00\\x00\\x00\\x00\\x00\\x00\\x00\\x00\\x00\\x00\\x00\\x00\\x00\\x00\\x00\\x00\\x00\\x00\\x00\\x00\\x00\\x00\\x00\\x00\\x00\\x00\\x00\\x00\\x00',\n",
       " b'\\x00\\x00z\\xbe',\n",
       " b'\\x10\\t\\x02\\x00\\x00\\xfd\\xf8\\xf2\\xeb\\xe4\\xe0\\xe1\\xe8\\xf1\\xf8\\x00\\x00\\x00\\x00\\x00\\x00\\x00\\x00\\x00\\x00\\x00\\x00\\x00\\x00\\x00\\x00\\x00\\x00\\x00\\x00\\x00\\x00\\x00\\x00\\x00\\x00\\x00\\x00\\x00\\x00\\x00\\x00\\x00\\x00\\x00',\n",
       " b'\\x00\\x00z\\xbe',\n",
       " b'\\x04\\x02\\xfe\\xf4\\xe8\\xdf\\xdc\\xdc\\xd9\\xd5\\xd2\\xd2\\xd6\\xe0\\xeb\\x00\\x00\\x00\\x00\\x00\\x00\\x00\\x00\\x00\\x00\\x00\\x00\\x00\\x00\\x00\\x00\\x00\\x00\\x00\\x00\\x00\\x00\\x00\\x00\\x00\\x00\\x00\\x00\\x00\\x00\\x00\\x00\\x00\\x00\\x00',\n",
       " b'\\x00\\x00z\\xbe',\n",
       " b'\\x12\\x0c\\x01\\xf1\\xdd\\xd2\\xd2\\xd7\\xd9\\xd4\\xd0\\xd5\\xe0\\xed\\xfc\\x00\\x00\\x00\\x00\\x00\\x00\\x00\\x00\\x00\\x00\\x00\\x00\\x00\\x00\\x00\\x00\\x00\\x00\\x00\\x00\\x00\\x00\\x00\\x00\\x00\\x00\\x00\\x00\\x00\\x00\\x00\\x00\\x00\\x00\\x00',\n",
       " b'\\x00\\x00|\\xb6',\n",
       " b'\\x0f\\x04\\x02\\x05\\x03\\xf8\\xe3\\xd2\\xcb\\xce\\xdb\\xeb\\xfc\\t\\x16\\x1f$$!\\x1f\\x1c\\x17\\x0f\\x08\\x02\\xff\\xfb\\xf0\\xdf\\xce\\xc8\\xce\\xdb\\xe6\\xe9\\xe6\\xdb\\xce\\x00\\x00\\x00\\x00\\x00\\x00\\x00\\x00\\x00\\x00\\x00\\x00',\n",
       " b'\\x00\\x00|\\xb6',\n",
       " b'\\x1e\\x0f\\x01\\xfc\\xf5\\xef\\xe8\\xe3\\xe1\\xdf\\xdd\\xe2\\xeb\\xf8\\x07\\x15\\x1d\\x1f\\x1e\\x1c\\x1e \\x1e\\x12\\x00\\xf4\\xee\\xef\\xef\\xed\\xea\\xed\\xef\\xee\\xe8\\xdd\\xd0\\xc7\\x00\\x00\\x00\\x00\\x00\\x00\\x00\\x00\\x00\\x00\\x00\\x00',\n",
       " b'\\x00\\x00|\\xb6',\n",
       " b'\\x1a\\x0c\\x07\\x08\\t\\x05\\xff\\xf5\\xe3\\xd3\\xcb\\xd0\\xe6\\x00\\x16!$!\\x1f\\x1d\\x1c\\x17\\x0b\\xfd\\xf0\\xe8\\xe4\\xe1\\xdd\\xdc\\xe1\\xe7\\xed\\xef\\xeb\\xe7\\xdf\\xd7\\x00\\x00\\x00\\x00\\x00\\x00\\x00\\x00\\x00\\x00\\x00\\x00',\n",
       " b'\\x00\\x00|\\xb6',\n",
       " b'\\x1d\\n\\x05\\n\\x0e\\t\\x00\\xf7\\xef\\xe8\\xe3\\xe6\\xf6\\x0c&43&\\x13\\x07\\x02\\x03\\x05\\x08\\n\\x0b\\t\\x02\\xf7\\xed\\xed\\xf2\\xfb\\x00\\x00\\xf7\\xe6\\xcf\\x00\\x00\\x00\\x00\\x00\\x00\\x00\\x00\\x00\\x00\\x00\\x00',\n",
       " b'\\x00\\x00\\x80\\x96',\n",
       " b'\\xfb\\x03\\x0e\\x12\\x0c\\x00\\xf2\\xe6\\xdf\\xdf\\xe1\\xe2\\xe7\\xf5\\x02\\n\\t\\x01\\x00\\x00\\x00\\x00\\x00\\x00\\x00\\x00\\x00\\x00\\x00\\x00\\x00\\x00\\x00\\x00\\x00\\x00\\x00\\x00\\x00\\x00\\x00\\x00\\x00\\x00\\x00\\x00\\x00\\x00\\x00\\x00',\n",
       " b'\\x00\\x00\\x80\\x96',\n",
       " b'\\xe4\\xed\\xfc\\x07\\x07\\xfd\\xee\\xe1\\xda\\xd6\\xd5\\xd4\\xd4\\xdd\\xf0\\x04\\x12\\x16\\x00\\x00\\x00\\x00\\x00\\x00\\x00\\x00\\x00\\x00\\x00\\x00\\x00\\x00\\x00\\x00\\x00\\x00\\x00\\x00\\x00\\x00\\x00\\x00\\x00\\x00\\x00\\x00\\x00\\x00\\x00\\x00',\n",
       " b'\\x00\\x00\\x80\\x96',\n",
       " b'\\xfc\\x03\\x11\\x1e\\x1f\\x12\\xff\\xeb\\xdd\\xd5\\xd2\\xd0\\xda\\xef\\x04\\x11\\x10\\x07\\x00\\x00\\x00\\x00\\x00\\x00\\x00\\x00\\x00\\x00\\x00\\x00\\x00\\x00\\x00\\x00\\x00\\x00\\x00\\x00\\x00\\x00\\x00\\x00\\x00\\x00\\x00\\x00\\x00\\x00\\x00\\x00',\n",
       " b'\\x00\\x00\\x80\\x96',\n",
       " b'\\x00\\x1c01$\\x0c\\xf7\\xe7\\xe2\\xe3\\xe0\\xd6\\xd2\\xdf\\xf8\\x0c\\x15\\x0e\\x00\\x00\\x00\\x00\\x00\\x00\\x00\\x00\\x00\\x00\\x00\\x00\\x00\\x00\\x00\\x00\\x00\\x00\\x00\\x00\\x00\\x00\\x00\\x00\\x00\\x00\\x00\\x00\\x00\\x00\\x00\\x00',\n",
       " b'\\x00\\x00\\x81\\x8c',\n",
       " b'\\x00\\x00\\x00\\x00\\x00\\x00\\x00\\x00\\x00\\x00\\x00\\x00\\x00\\x00\\x00\\x00\\x00\\x00\\x00\\x00\\x00\\x00\\x00\\x00\\x00\\x00\\x00\\x00\\x00\\x00\\x00\\x00\\x00\\x00\\x00\\x00\\x00\\x00\\x00\\x00\\x00\\x00\\x00\\x00\\x00\\x00\\x00\\x00\\x00\\x00',\n",
       " b'\\x00\\x00\\x81\\x8c',\n",
       " b'\\x00\\x00\\x00\\x00\\x00\\x00\\x00\\x00\\x00\\x00\\x00\\x00\\x00\\x00\\x00\\x00\\x00\\x00\\x00\\x00\\x00\\x00\\x00\\x00\\x00\\x00\\x00\\x00\\x00\\x00\\x00\\x00\\x00\\x00\\x00\\x00\\x00\\x00\\x00\\x00\\x00\\x00\\x00\\x00\\x00\\x00\\x00\\x00\\x00\\x00',\n",
       " b'\\x00\\x00\\x81\\x8c',\n",
       " b'\\x00\\x00\\x00\\x00\\x00\\x00\\x00\\x00\\x00\\x00\\x00\\x00\\x00\\x00\\x00\\x00\\x00\\x00\\x00\\x00\\x00\\x00\\x00\\x00\\x00\\x00\\x00\\x00\\x00\\x00\\x00\\x00\\x00\\x00\\x00\\x00\\x00\\x00\\x00\\x00\\x00\\x00\\x00\\x00\\x00\\x00\\x00\\x00\\x00\\x00',\n",
       " b'\\x00\\x00\\x81\\x8c',\n",
       " b'\\x00\\x00\\x00\\x00\\x00\\x00\\x00\\x00\\x00\\x00\\x00\\x00\\x00\\x00\\x00\\x00\\x00\\x00\\x00\\x00\\x00\\x00\\x00\\x00\\x00\\x00\\x00\\x00\\x00\\x00\\x00\\x00\\x00\\x00\\x00\\x00\\x00\\x00\\x00\\x00\\x00\\x00\\x00\\x00\\x00\\x00\\x00\\x00\\x00\\x00',\n",
       " b'\\x00\\x00\\x82\\xe8',\n",
       " b'\\x00\\x00\\x00\\x00\\x00\\x00\\x00\\x00\\x00\\x00\\x00\\x00\\x00\\x00\\x00\\x00\\x00\\x00\\x00\\x00\\x00\\x00\\x00\\x00\\x00\\x00\\x00\\x00\\x00\\x00\\x00\\x00\\x00\\x00\\x00\\x00\\x00\\x00\\x00\\x00\\x00\\x00\\x00\\x00\\x00\\x00\\x00\\x00\\x00\\x00',\n",
       " b'\\x00\\x00\\x82\\xe8',\n",
       " b'\\x00\\x00\\x00\\x00\\x00\\x00\\x00\\x00\\x00\\x00\\x00\\x00\\x00\\x00\\x00\\x00\\x00\\x00\\x00\\x00\\x00\\x00\\x00\\x00\\x00\\x00\\x00\\x00\\x00\\x00\\x00\\x00\\x00\\x00\\x00\\x00\\x00\\x00\\x00\\x00\\x00\\x00\\x00\\x00\\x00\\x00\\x00\\x00\\x00\\x00',\n",
       " b'\\x00\\x00\\x82\\xe8',\n",
       " b'\\x00\\x00\\x00\\x00\\x00\\x00\\x00\\x00\\x00\\x00\\x00\\x00\\x00\\x00\\x00\\x00\\x00\\x00\\x00\\x00\\x00\\x00\\x00\\x00\\x00\\x00\\x00\\x00\\x00\\x00\\x00\\x00\\x00\\x00\\x00\\x00\\x00\\x00\\x00\\x00\\x00\\x00\\x00\\x00\\x00\\x00\\x00\\x00\\x00\\x00',\n",
       " b'\\x00\\x00\\x82\\xe8',\n",
       " b'\\x00\\x00\\x00\\x00\\x00\\x00\\x00\\x00\\x00\\x00\\x00\\x00\\x00\\x00\\x00\\x00\\x00\\x00\\x00\\x00\\x00\\x00\\x00\\x00\\x00\\x00\\x00\\x00\\x00\\x00\\x00\\x00\\x00\\x00\\x00\\x00\\x00\\x00\\x00\\x00\\x00\\x00\\x00\\x00\\x00\\x00\\x00\\x00\\x00\\x00',\n",
       " b'\\x00\\x00\\x85\\\\',\n",
       " b'**)$\\x17\\x05\\xef\\xcd\\x9errr\\xa5\\xe3\\x10),$\\x16\\x0b\\x03\\xff\\xfb\\xfc\\x00\\t\\x15\\x1a\\x13\\x00\\xf1\\xee\\xf4\\xfb\\xff\\x07\\x00\\x00\\x00\\x00\\x00\\x00\\x00\\x00\\x00\\x00\\x00\\x00\\x00\\x00',\n",
       " b'\\x00\\x00\\x85\\\\',\n",
       " b'\\x15\\x10\\n\\n\\x0e\\x0b\\x02\\xf5\\xe2\\xd3\\xcb\\xcd\\xd7\\xe4\\xf0\\xf6\\xf8\\xf9\\xfd\\x00\\x05\\t\\x05\\x00\\x00\\t\\x18%*!\\x13\\t\\x05\\x00\\xf5\\xe8\\x00\\x00\\x00\\x00\\x00\\x00\\x00\\x00\\x00\\x00\\x00\\x00\\x00\\x00',\n",
       " b'\\x00\\x00\\x85\\\\',\n",
       " b'\\x00\\xff\\x00\\x00\\xf9\\xef\\xe8\\xe3\\xe0\\xdb\\xd4\\xd0\\xd4\\xe0\\xed\\xf6\\xfb\\xfd\\xfe\\x00\\x04\\x07\\x05\\x01\\x00\\xff\\x00\\x00\\xff\\xfb\\xf9\\xfc\\xff\\x00\\x00\\x03\\x00\\x00\\x00\\x00\\x00\\x00\\x00\\x00\\x00\\x00\\x00\\x00\\x00\\x00',\n",
       " b'\\x00\\x00\\x85\\\\',\n",
       " b' \\x07\\xf8\\xf0\\xe9\\xdc\\xc8\\xb0\\x96\\x83{\\x81\\x99\\xbd\\xe0\\xf9\\x07\\x0c\\x05\\xf8\\xea\\xe1\\xdc\\xdd\\xe4\\xed\\xf0\\xee\\xe4\\xd7\\xd7\\xeb\\x07 -0\\x00\\x00\\x00\\x00\\x00\\x00\\x00\\x00\\x00\\x00\\x00\\x00\\x00\\x00',\n",
       " b'\\x00\\x00\\x87\\xf6',\n",
       " b'\\x16*BBN,\\xfc\\xd2\\xbe\\xc2\\xd6\\xee\\x00\\x05\\x01\\xf9\\xf0\\xe9\\xe8\\xee\\xf9\\x07\\x12\\x15\\x0e\\x03\\xfd\\xfb\\xfd\\x00\\x01\\x00\\x00\\x03\\n\\x11\\x11\\x07\\xf9\\xef\\xee\\xf6\\xfc\\xfb\\x00\\x00\\x00\\x00\\x00\\x00',\n",
       " b'\\x00\\x00\\x87\\xf6',\n",
       " b'\\x07\\x15)BYV4\\xff\\xcd\\xb0\\xad\\xbf\\xd5\\xe9\\xf5\\xf5\\xf0\\xe9\\xe2\\xe1\\xe8\\xf4\\x00\\n\\x0e\\x0b\\x07\\x00\\xfc\\xf9\\xfb\\xfd\\xfe\\x00\\x03\\x0b\\x13\\x13\\x08\\xfb\\xf0\\xf0\\xf9\\x01\\x00\\x00\\x00\\x00\\x00\\x00',\n",
       " b'\\x00\\x00\\x87\\xf6',\n",
       " b'\\x11$<NG&\\xfb\\xd6\\xc8\\xd0\\xe7\\xfe\\x0b\\x0f\\x08\\xff\\xf8\\xf4\\xf4\\xfb\\x05\\x12\\x17\\x13\\x0c\\x0b\\x11\\x15\\x15\\x12\\x11\\x0f\\x0c\\x0b\\x0c\\x10\\x10\\t\\x00\\xf7\\xf6\\xfe\\n\\x16\\x00\\x00\\x00\\x00\\x00\\x00',\n",
       " b'\\x00\\x00\\x87\\xf6',\n",
       " b'\\n)I`Z4\\x02\\xdc\\xd0\\xe2\\x04*?;#\\x05\\xf4\\xf2\\x04%CUTA%\\n\\xfb\\xf5\\xf9\\x02\\x0f\\x19\\x1c\\x10\\xfe\\xea\\xd7\\xc6\\xbd\\xc0\\xd2\\xea\\x00\\n\\x00\\x00\\x00\\x00\\x00\\x00',\n",
       " b'\\x00\\x00\\x89\\xfa',\n",
       " b\"\\x19,@@'\\xf1\\xb3\\x87z\\x90\\xbf\\xf4\\n\\xf9\\xcd\\xb0\\xb8\\xda\\x00\\x19\\x1c\\x0e\\xfb\\xe6\\xdb\\xe2\\xf7\\t\\x12\\x11\\x0b\\x04\\x04\\x08\\x0b\\x08\\x01\\xfc\\xfb\\xff\\x01\\x00\\xfc\\x00\\x00\\x00\\x00\\x00\\x00\\x00\",\n",
       " b'\\x00\\x00\\x89\\xfa',\n",
       " b'\\x1c,?OP2\\xf7\\xb2\\x81o\\x80\\xa7\\xd7\\xfd\\x0c\\x0e\\n\\x0c\\x0f\\x10\\x0c\\x04\\xf8\\xe6\\xd6\\xd0\\xdc\\xf1\\x02\\x07\\x03\\x01\\x00\\x02\\x05\\x08\\x02\\xfb\\xf1\\xea\\xeb\\xf7\\n\\x00\\x00\\x00\\x00\\x00\\x00\\x00',\n",
       " b'\\x00\\x00\\x89\\xfa',\n",
       " b'$:OWC\\x12\\xd5\\x9f\\x80y\\x8c\\xb4\\xdf\\xf8\\x00\\xfc\\xf4\\xeb\\xe6\\xe3\\xe0\\xdc\\xd4\\xcc\\xcb\\xd4\\xe8\\xfd\\t\\x0b\\x05\\xfe\\xf8\\xf8\\xf7\\xf1\\xe9\\xe2\\xe4\\xf1\\x04\\x17!\\x00\\x00\\x00\\x00\\x00\\x00\\x00',\n",
       " b'\\x00\\x00\\x89\\xfa',\n",
       " b'\\x0c#:A+\\xf9\\xbb\\x89s{\\x99\\xbb\\xd2\\xd5\\xce\\xc9\\xcc\\xcf\\xd4\\xd7\\xda\\xd9\\xd3\\xcc\\xcd\\xe0\\xfc\\x15 \\x1f\\x18\\x0e\\x03\\xfc\\xf4\\xed\\xe7\\xe8\\xf2\\x03\\x16\\x1e\\x1a\\x00\\x00\\x00\\x00\\x00\\x00\\x00',\n",
       " b'\\x00\\x00\\x8a\\xae',\n",
       " b'\\x1c\\x1d%1APP5\\x04\\xd6\\xba\\xbd\\xd0\\xe8\\xfb\\x0b#9EA0\\x1a\\t\\x00\\xfb\\xf5\\xee\\xe2\\xd6\\xcf\\xd4\\xdd\\xe4\\xe4\\xe0\\xd6\\xcf\\xcf\\xd6\\xe0\\xe8\\xf1\\xf8\\xfe\\xfe\\xf7\\x00\\x00\\x00\\x00',\n",
       " b'\\x00\\x00\\x8a\\xae',\n",
       " b'\\x04\\x00\\x02\\x0c\\x1d3FC$\\xf0\\xbd\\xa3\\xa9\\xc1\\xdf\\xf6\\t\\x1f2:5%\\x11\\x02\\xfc\\xf9\\xfe\\x02\\x03\\xff\\xf8\\xf7\\xf8\\xfc\\xfc\\xf7\\xed\\xe1\\xd7\\xd2\\xcf\\xd2\\xdc\\xeb\\xf7\\xfb\\x00\\x00\\x00\\x00',\n",
       " b'\\x00\\x00\\x8a\\xae',\n",
       " b\"\\xff\\x02\\x0e\\x1e5LK'\\xef\\xb9\\xa0\\xa6\\xbe\\xd7\\xeb\\xfe\\x12)88)\\x15\\x08\\x02\\xff\\xfc\\xf9\\xf6\\xf2\\xf0\\xf2\\xf8\\xfb\\xf9\\xf5\\xed\\xe6\\xe2\\xe1\\xe0\\xdf\\xe1\\xe8\\xee\\xf1\\xf4\\x00\\x00\\x00\\x00\",\n",
       " b'\\x00\\x00\\x8a\\xae',\n",
       " b'\\x0c\\x10\\x19*A[cN \\xf1\\xd0\\xc6\\xc8\\xd3\\xe3\\xfe BUO8\\x1e\\n\\xfe\\xf4\\xea\\xe3\\xdd\\xdc\\xdd\\xe3\\xea\\xef\\xee\\xe7\\xe1\\xe1\\xea\\xf8\\x03\\t\\x0b\\x0c\\x0b\\x04\\xf8\\x00\\x00\\x00\\x00',\n",
       " b'\\x00\\x00\\x8f\\x18',\n",
       " b'\\x00\\x00\\x00\\x1c\\x19\\x0c\\xfd\\xf1\\xf4\\xff\\x0f)KgjO\\x1a\\xd4\\x87jjjy\\xb8\\xf2\\x19++!\\x12\\x03\\xf8\\xef\\xe8\\xe6\\xe9\\xf2\\xfd\\x04\\x0c\\x16\\x1a\\x15\\x07\\xf9\\xf1\\xf2\\xfd\\t\\x13',\n",
       " b'\\x00\\x00\\x8f\\x18',\n",
       " b'\\x00\\x00\\x00$--\\x1f\\x08\\xf4\\xe6\\xe6\\xf4\\x0f8\\\\la9\\x03\\xd5\\xbd\\xc0\\xd3\\xe9\\xfb\\xff\\xfc\\xf7\\xf8\\xfd\\x00\\xfe\\xfb\\xf5\\xf0\\xee\\xf0\\xf7\\x00\\t\\x0f\\x10\\n\\x00\\xf5\\xef\\xee\\xef\\xf0\\xf1',\n",
       " b'\\x00\\x00\\x8f\\x18',\n",
       " b'\\x00\\x00\\x00\\x18\\x19\\x0f\\x01\\xf9\\xf9\\x00\\x10)Ieo[1\\xfd\\xd2\\xbf\\xc4\\xd3\\xe1\\xe7\\xe3\\xda\\xd5\\xda\\xe7\\xf2\\xf6\\xf2\\xed\\xe9\\xeb\\xf2\\xfc\\x03\\n\\x10\\x13\\x0e\\xff\\xea\\xda\\xd5\\xdb\\xe6\\xf2\\xfe',\n",
       " b'\\x00\\x00\\x8f\\x18',\n",
       " b'\\x00\\x00\\x00\\x1c#\\x1e\\x0e\\xff\\xf8\\xfd\\x0f1]\\x7f\\x85h,\\xe3\\xa3\\x80~\\x91\\xaa\\xbe\\xc9\\xcd\\xce\\xd3\\xd9\\xdd\\xdc\\xd5\\xcd\\xc8\\xc8\\xcd\\xd6\\xe2\\xee\\xfb\\x04\\n\\x05\\xf9\\xe9\\xe2\\xe3\\xeb\\xf9\\x08',\n",
       " b'\\x00\\x00\\x92~',\n",
       " b'\\x00\\x00\\x00\\x00\\x00\\x00\\t\\x00\\xf7\\xf1\\xf0\\xf5\\x02\\x1fGhoT!\\xf0\\xcd\\xc1\\xcb\\xe0\\xf6\\x01\\x04\\x00\\xf8\\xef\\xe8\\xe8\\xef\\xfb\\x03\\n\\x0b\\t\\x03\\xfc\\xf4\\xee\\xeb\\xe8\\xe2\\xd9\\xce\\xc8\\xcb\\xd5',\n",
       " b'\\x00\\x00\\x92~',\n",
       " b'\\x00\\x00\\x00\\x00\\x00\\x00\\xf6\\xe2\\xd0\\xc4\\xc0\\xc8\\xd6\\xee\\x12BeiH\\x12\\xe1\\xc2\\xc0\\xd0\\xe8\\xff\\x0c\\x11\\x0c\\x07\\x04\\x07\\t\\n\\n\\x0c\\x13\\x1c%)$\\x1d\\x13\\t\\xfe\\xed\\xdb\\xd0\\xd0\\xd9',\n",
       " b'\\x00\\x00\\x92~',\n",
       " b'\\x00\\x00\\x00\\x00\\x00\\x00\\x08\\xfd\\xef\\xe8\\xe7\\xed\\xf9\\x128Y`E\\x10\\xdb\\xb5\\xaa\\xb4\\xc9\\xe0\\xed\\xf1\\xf2\\xf4\\xf9\\xfe\\xfe\\xfc\\xf9\\xf9\\xfc\\x00\\x07\\x0b\\x0b\\x05\\x00\\xf8\\xf0\\xe9\\xe3\\xe3\\xe4\\xe6\\xe1',\n",
       " b'\\x00\\x00\\x92~',\n",
       " b\"\\x00\\x00\\x00\\x00\\x00\\x004\\x1f\\x07\\xf8\\xf7\\xfe\\n'Ry\\x87o5\\xf6\\xc5\\xab\\xa9\\xb5\\xc5\\xce\\xcf\\xcc\\xc7\\xc5\\xc2\\xc1\\xc5\\xd0\\xe1\\xee\\xf5\\xf6\\xf6\\xf6\\xf6\\xf7\\xf7\\xf4\\xea\\xdf\\xd5\\xd0\\xd2\\xd6\",\n",
       " b'\\x00\\x00\\x92\\xca',\n",
       " b'\\x03\\xfc\\xf4\\xee\\xeb\\xe8\\xe2\\xd9\\xce\\xc8\\xcb\\xd5\\xe0\\xe7\\xe8\\xea\\xed\\xf0\\x00\\x00\\x00\\x00\\x00\\x00\\x00\\x00\\x00\\x00\\x00\\x00\\x00\\x00\\x00\\x00\\x00\\x00\\x00\\x00\\x00\\x00\\x00\\x00\\x00\\x00\\x00\\x00\\x00\\x00\\x00\\x00',\n",
       " b'\\x00\\x00\\x92\\xca',\n",
       " b'%)$\\x1d\\x13\\t\\xfe\\xed\\xdb\\xd0\\xd0\\xd9\\xe4\\xef\\xf6\\xfc\\x02\\t\\x00\\x00\\x00\\x00\\x00\\x00\\x00\\x00\\x00\\x00\\x00\\x00\\x00\\x00\\x00\\x00\\x00\\x00\\x00\\x00\\x00\\x00\\x00\\x00\\x00\\x00\\x00\\x00\\x00\\x00\\x00\\x00',\n",
       " b'\\x00\\x00\\x92\\xca',\n",
       " b'\\x0b\\x0b\\x05\\x00\\xf8\\xf0\\xe9\\xe3\\xe3\\xe4\\xe6\\xe1\\xd9\\xd0\\xd0\\xd9\\xe6\\xee\\x00\\x00\\x00\\x00\\x00\\x00\\x00\\x00\\x00\\x00\\x00\\x00\\x00\\x00\\x00\\x00\\x00\\x00\\x00\\x00\\x00\\x00\\x00\\x00\\x00\\x00\\x00\\x00\\x00\\x00\\x00\\x00',\n",
       " b'\\x00\\x00\\x92\\xca',\n",
       " b'\\xf6\\xf6\\xf6\\xf7\\xf7\\xf4\\xea\\xdf\\xd5\\xd0\\xd2\\xd6\\xdc\\xe0\\xe6\\xee\\xf7\\xfe\\x00\\x00\\x00\\x00\\x00\\x00\\x00\\x00\\x00\\x00\\x00\\x00\\x00\\x00\\x00\\x00\\x00\\x00\\x00\\x00\\x00\\x00\\x00\\x00\\x00\\x00\\x00\\x00\\x00\\x00\\x00\\x00',\n",
       " b'\\x00\\x00\\x94(',\n",
       " b'\\xe6\\t4SU>\\x19\\xfc\\xe9\\xe4\\xed\\xfc\\x07\\x0e\\x0f\\t\\xfd\\xf0\\xeb\\xf2\\x01\\x18*.%\\x17\\x0c\\x02\\xf1\\xda\\xcb\\xc9\\xd4\\xe0\\xeb\\xf2\\xf7\\xf9\\xfb\\xfe\\xff\\xf7\\xe6\\x00\\x00\\x00\\x00\\x00\\x00\\x00',\n",
       " b'\\x00\\x00\\x94(',\n",
       " b'\\xe8\\xfc\\x1fMouV#\\xf4\\xd5\\xcd\\xd6\\xe7\\xf4\\xf6\\xf1\\xed\\xea\\xed\\xf1\\xf8\\xff\\x01\\x03\\x04\\x00\\xf6\\xe8\\xdb\\xcc\\xbe\\xb4\\xb7\\xc2\\xd0\\xdc\\xe7\\xf2\\xfd\\x02\\x07\\x08\\x02\\x00\\x00\\x00\\x00\\x00\\x00\\x00',\n",
       " b'\\x00\\x00\\x94(',\n",
       " b'\\x04&LdbF\\x19\\xf1\\xd5\\xcf\\xda\\xef\\xfe\\x02\\x02\\x01\\x01\\x02\\x05\\x0b\\x11\\x15\\x15\\x0f\\x04\\xfb\\xf4\\xed\\xe1\\xcc\\xb5\\xa6\\xa3\\xab\\xb9\\xc8\\xd9\\xe7\\xf2\\xfc\\x00\\x01\\xf9\\x00\\x00\\x00\\x00\\x00\\x00\\x00',\n",
       " b'\\x00\\x00\\x94(',\n",
       " b\"\\x04 ?UV<\\x10\\xe7\\xcf\\xd5\\xef\\x0b!*'\\x1e\\x0f\\x01\\xfc\\xfb\\x00\\x04\\x02\\xf9\\xed\\xe4\\xe2\\xe4\\xe2\\xd7\\xc9\\xc2\\xc6\\xd0\\xdc\\xe7\\xf0\\xf7\\xfd\\x02\\n\\x12\\x13\\x00\\x00\\x00\\x00\\x00\\x00\\x00\",\n",
       " b'\\x00\\x00\\x94T',\n",
       " b'*.%\\x17\\x0c\\x02\\xf1\\xda\\xcb\\xc9\\xd4\\xe0\\xeb\\xf2\\xf7\\xf9\\xfb\\xfe\\xff\\xf7\\xe6\\x00\\x00\\x00\\x00\\x00\\x00\\x00\\x00\\x00\\x00\\x00\\x00\\x00\\x00\\x00\\x00\\x00\\x00\\x00\\x00\\x00\\x00\\x00\\x00\\x00\\x00\\x00\\x00\\x00',\n",
       " b'\\x00\\x00\\x94T',\n",
       " b'\\x01\\x03\\x04\\x00\\xf6\\xe8\\xdb\\xcc\\xbe\\xb4\\xb7\\xc2\\xd0\\xdc\\xe7\\xf2\\xfd\\x02\\x07\\x08\\x02\\x00\\x00\\x00\\x00\\x00\\x00\\x00\\x00\\x00\\x00\\x00\\x00\\x00\\x00\\x00\\x00\\x00\\x00\\x00\\x00\\x00\\x00\\x00\\x00\\x00\\x00\\x00\\x00\\x00',\n",
       " b'\\x00\\x00\\x94T',\n",
       " b'\\x15\\x0f\\x04\\xfb\\xf4\\xed\\xe1\\xcc\\xb5\\xa6\\xa3\\xab\\xb9\\xc8\\xd9\\xe7\\xf2\\xfc\\x00\\x01\\xf9\\x00\\x00\\x00\\x00\\x00\\x00\\x00\\x00\\x00\\x00\\x00\\x00\\x00\\x00\\x00\\x00\\x00\\x00\\x00\\x00\\x00\\x00\\x00\\x00\\x00\\x00\\x00\\x00\\x00',\n",
       " b'\\x00\\x00\\x94T',\n",
       " b'\\x02\\xf9\\xed\\xe4\\xe2\\xe4\\xe2\\xd7\\xc9\\xc2\\xc6\\xd0\\xdc\\xe7\\xf0\\xf7\\xfd\\x02\\n\\x12\\x13\\x00\\x00\\x00\\x00\\x00\\x00\\x00\\x00\\x00\\x00\\x00\\x00\\x00\\x00\\x00\\x00\\x00\\x00\\x00\\x00\\x00\\x00\\x00\\x00\\x00\\x00\\x00\\x00\\x00',\n",
       " b'\\x00\\x00\\x96*',\n",
       " b'\\xe3\\xf9\\x17:H3\\x03\\xcd\\xa3\\x94\\x9f\\xb9\\xd7\\xef\\xfd\\x02\\x07\\x0c\\x10\\x10\\x13\\x19\\x1d\\x1d\\x19\\x16\\x11\\x0e\\x0b\\t\\x08\\n\\x10\\x16\\x12\\x07\\xfe\\xff\\t\\x15\\x1c\\x19\\x10\\x02\\xf9\\xf8\\x00\\x00\\x00\\x00',\n",
       " b'\\x00\\x00\\x96*',\n",
       " b\"\\xd2\\xe1\\xf9\\x1c?L5\\x04\\xcd\\xa3\\x92\\x9d\\xb7\\xcf\\xdf\\xe6\\xeb\\xf2\\xf8\\xfb\\xfc\\x00\\t\\x12\\x13\\x0e\\x08\\x04\\x04\\t\\x12\\x1d'--*#\\x1e\\x1d!%%!\\x1d\\x18\\x11\\x00\\x00\\x00\\x00\",\n",
       " b'\\x00\\x00\\x96*',\n",
       " b\"\\xd3\\xeb\\x0e5K<\\x10\\xda\\xab\\x94\\x97\\xaa\\xc0\\xd5\\xe9\\xf7\\xfb\\xf8\\xf4\\xf1\\xf7\\x03\\x12\\x19\\x15\\x0c\\x05\\x05\\x08\\x0c\\x11\\x15\\x19\\x1e\\x1f\\x1d\\x1a\\x1c  \\x1f!&'\\x1e\\x0f\\x00\\x00\\x00\\x00\",\n",
       " b'\\x00\\x00\\x96*',\n",
       " b'\\xe8\\xfb\\x167E.\\xfe\\xc6\\x9f\\x92\\x9e\\xb8\\xd6\\xf5\\x0e )$\\x12\\xfd\\xeb\\xe8\\xf0\\xfb\\x00\\x03\\x07\\x0c\\x12\\x13\\x12\\x10\\x0e\\x0b\\x05\\xff\\xf7\\xf7\\xfe\\x03\\n\\x10\\x12\\x0f\\t\\x04\\x00\\x00\\x00\\x00',\n",
       " b'\\x00\\x00\\x99\\x1a',\n",
       " b'\\x07\\x13%<Ug`;\\x07\\xd6\\xb5\\xae\\xb9\\xcb\\xdb\\xe8\\xf5\\x02\\x10\\x16\\x13\\x0c\\x05\\x01\\x01\\x03\\x04\\x03\\x03\\x08\\x11\\x19\\x1a\\x15\\n\\xff\\xf5\\xf0\\xf0\\xf1\\xf4\\xfd\\x05\\x0e\\x0f\\x00\\x00\\x00\\x00\\x00',\n",
       " b'\\x00\\x00\\x99\\x1a',\n",
       " b'\\xee\\xfe\\x10$:ShgK\\x19\\xeb\\xce\\xcc\\xd7\\xe7\\xf6\\x01\\n\\x11\\x16\\x18\\x16\\x10\\x07\\xfd\\xf0\\xe3\\xd9\\xd7\\xdf\\xee\\xff\\x0c\\x12\\x0f\\t\\x02\\xfd\\xf8\\xf6\\xf2\\xf4\\xfd\\x0c\\x1a\\x00\\x00\\x00\\x00\\x00',\n",
       " b'\\x00\\x00\\x99\\x1a',\n",
       " b'\\xe0\\xfc\\x1cAcxpH\\x0b\\xd6\\xb9\\xb5\\xc1\\xd4\\xe9\\xfd\\n\\x17\\x1f \\x1e\\x17\\x0c\\x00\\xf2\\xe4\\xdc\\xdf\\xe9\\xf7\\x02\\x0e\\x16\\x18\\x13\\t\\xff\\xf6\\xee\\xe3\\xe1\\xeb\\xff\\x0f\\x19\\x00\\x00\\x00\\x00\\x00',\n",
       " b'\\x00\\x00\\x99\\x1a',\n",
       " b'\\xfd\\x02\\x15-GWS4\\t\\xe1\\xc7\\xbf\\xc2\\xce\\xdf\\xf4\\n!01&\\x18\\x0e\\t\\x0b\\x0c\\x0e\\x0b\\x08\\x03\\x01\\x02\\x02\\x04\\t\\n\\x04\\xf8\\xe9\\xdc\\xda\\xe4\\xf5\\x00\\x04\\x00\\x00\\x00\\x00\\x00',\n",
       " b'\\x00\\x00\\x9b\\x8c',\n",
       " b'\\x8b\\x83`4\\n\\xe0\\xb1\\x8f\\x89\\xa2\\xc9\\xf0\\x05\\x0f\\x0f\\x0b\\t\\x08\\x07\\t\\x0c\\x0c\\x07\\x03\\x04\\x08\\n\\x0c\\x13\\x1e%!\\x13\\x01\\xed\\xd5\\xc1\\xba\\xc1\\x00\\x00\\x00\\x00\\x00\\x00\\x00\\x00\\x00\\x00\\x00',\n",
       " b'\\x00\\x00\\x9b\\x8c',\n",
       " b'j{lG\\x1d\\xfc\\xdf\\xc8\\xbd\\xbb\\xc4\\xd3\\xe6\\xf8\\x05\\x0c\\x0b\\x07\\x01\\xfd\\xfe\\x02\\x05\\x05\\x07\\x0e\\x16\\x18\\x16\\x13\\x12\\x11\\x0b\\x03\\xf9\\xef\\xe4\\xd9\\xd4\\x00\\x00\\x00\\x00\\x00\\x00\\x00\\x00\\x00\\x00\\x00',\n",
       " b'\\x00\\x00\\x9b\\x8c',\n",
       " b\"\\x82qI\\x1e\\x00\\xf1\\xe3\\xcb\\xa9\\x8e\\x87\\x95\\xb3\\xd5\\xef\\xfc\\x02\\x04\\x02\\x02\\x08\\x0c\\x0c\\x0e\\x15 &')-.%\\x15\\x07\\x02\\x03\\x00\\xf2\\xe3\\x00\\x00\\x00\\x00\\x00\\x00\\x00\\x00\\x00\\x00\\x00\",\n",
       " b'\\x00\\x00\\x9b\\x8c',\n",
       " b'wkI\\x1d\\xf9\\xdf\\xce\\xc9\\xcf\\xdb\\xe3\\xe7\\xe9\\xee\\xf4\\xfb\\x01\\x08\\x08\\xff\\xf1\\xe4\\xe2\\xed\\xff\\n\\x0e\\x0e\\x15\\x1d\\x1e\\x11\\x02\\xf9\\xf6\\xf6\\xf6\\xf2\\xeb\\x00\\x00\\x00\\x00\\x00\\x00\\x00\\x00\\x00\\x00\\x00',\n",
       " b'\\x00\\x00\\x9d\\\\',\n",
       " b'\\x00\\xff\\x04\\x04&<E-\\xf7\\xb4\\x87~\\x97\\xbd\\xe0\\xfb\\x0c\\x16\\x13\\x08\\xfc\\xf6\\xfd\\x0b\\x18\\x18\\x0f\\x07\\x07\\x0f\\x1a%+)\\x1f\\x16\\x10\\x0b\\t\\x07\\x02\\x00\\x03\\x0e\\x12\\x0b\\x01\\x00\\x00\\x00',\n",
       " b'\\x00\\x00\\x9d\\\\',\n",
       " b'\\x07\\x00\\xf8\\xf9\\x07&LcY*\\xef\\xbd\\xa6\\xab\\xc1\\xda\\xf1\\x02\\x0e\\x0f\\x05\\xfb\\xf0\\xeb\\xed\\xf0\\xf0\\xee\\xee\\xf4\\xff\\n\\x16\\x1e \\x1d\\x16\\x0f\\x07\\x00\\xf6\\xeb\\xe6\\xe8\\xf0\\xf7\\xf7\\x00\\x00\\x00',\n",
       " b'\\x00\\x00\\x9d\\\\',\n",
       " b'\\x0c\\t\\x07\\n\\x194LF\\x1e\\xe6\\xb3\\x9d\\xa4\\xbf\\xe1\\x00\\x17\\x1f\\x19\\x0e\\x01\\xfc\\xfb\\xfe\\x00\\xfe\\xf5\\xed\\xed\\xf8\\x08\\x18! \\x17\\n\\x02\\xfe\\xf8\\xef\\xe4\\xdf\\xe6\\xf1\\xf6\\xf0\\xea\\x00\\x00\\x00',\n",
       " b'\\x00\\x00\\x9d\\\\',\n",
       " b'\\t\\x0b\\x0f\\x18,GZI\\x11\\xc6\\x84jw\\xa2\\xd2\\xfb\\x18+0&\\x16\\x08\\x02\\x02\\x07\\n\\t\\t\\x0f\\x1a&-0-&\\x1e\\x16\\x0e\\x04\\xfb\\xed\\xe3\\xe7\\xef\\xed\\xe0\\xd4\\x00\\x00\\x00',\n",
       " b'\\x00\\x00\\x9d\\xf8',\n",
       " b'&?SZH\\x1a\\xe6\\xb9\\xa6\\xaa\\xb7\\xc4\\xce\\xd7\\xe0\\xe9\\xf2\\xf7\\xf7\\xf5\\xf6\\xfb\\xfe\\xff\\xff\\x00\\x03\\t\\x0e\\x0f\\t\\x01\\xfe\\xfc\\xfd\\xfc\\xf6\\xeb\\xe2\\xdd\\xe1\\xe8\\x00\\x00\\x00\\x00\\x00\\x00\\x00\\x00',\n",
       " b'\\x00\\x00\\x9d\\xf8',\n",
       " b'\\xfe\\x0c)H[S+\\xf7\\xcc\\xb7\\xb8\\xc4\\xcd\\xd4\\xdc\\xe8\\xf6\\x00\\x05\\x08\\n\\x0f\\x12\\x0e\\x00\\xf2\\xe8\\xe7\\xef\\xfb\\x00\\x01\\x00\\x01\\x05\\x0c\\x11\\x10\\x0b\\x08\\x05\\x03\\x00\\x00\\x00\\x00\\x00\\x00\\x00\\x00',\n",
       " b'\\x00\\x00\\x9d\\xf8',\n",
       " b'\\x0f*GZS-\\xfd\\xd0\\xb9\\xba\\xc7\\xd0\\xd4\\xd3\\xd3\\xd9\\xe2\\xea\\xf2\\xf9\\x00\\x05\\x08\\x04\\xfe\\xf8\\xf7\\xfc\\x00\\x01\\x00\\xfe\\xfd\\xfd\\x00\\x08\\x13\\x1a\\x15\\x05\\xf8\\xeb\\x00\\x00\\x00\\x00\\x00\\x00\\x00\\x00',\n",
       " b'\\x00\\x00\\x9d\\xf8',\n",
       " b'<^}\\x8c~O\\t\\xcb\\xa4\\x9b\\xa7\\xb9\\xc5\\xcd\\xd3\\xdc\\xe3\\xe3\\xdf\\xdb\\xe1\\xf0\\xfc\\xfc\\xf6\\xef\\xe8\\xe6\\xe6\\xe6\\xe3\\xe1\\xdd\\xdd\\xe2\\xf0\\x00\\t\\x05\\xfc\\xeb\\xdd\\x00\\x00\\x00\\x00\\x00\\x00\\x00\\x00',\n",
       " b'\\x00\\x00\\xa2\\xec',\n",
       " b'\\xe3\\x025gw\\\\!\\xe6\\xbf\\xb8\\xc5\\xd6\\xe2\\xe2\\xdc\\xd6\\xd6\\xdc\\xe9\\xfb\\x08\\x0e\\x08\\xff\\xf6\\xf6\\xf9\\xfb\\xf6\\xf1\\xf4\\xff\\x0b\\x13\\x12\\t\\xff\\xf6\\xf1\\xf1\\xf2\\xf9\\x03\\x10\\x00\\x00\\x00\\x00\\x00\\x00',\n",
       " b'\\x00\\x00\\xa2\\xec',\n",
       " b'\\xd3\\xe1\\x012\\\\iO\\x1c\\xe4\\xbd\\xb4\\xc1\\xd3\\xe0\\xe3\\xe0\\xda\\xd5\\xd6\\xdf\\xee\\x00\\x0b\\x0e\\x08\\x02\\x02\\x04\\x07\\x07\\x08\\n\\x11\\x1c%)$\\x19\\x0b\\x03\\x00\\x00\\x05\\x10\\x00\\x00\\x00\\x00\\x00\\x00',\n",
       " b'\\x00\\x00\\xa2\\xec',\n",
       " b'\\x03\\x1c@`gL\\x1c\\xed\\xce\\xc6\\xcb\\xcf\\xd0\\xce\\xcd\\xcf\\xd4\\xdb\\xe3\\xf0\\xfb\\xfe\\xf9\\xf0\\xea\\xee\\xf5\\xfb\\xfc\\xfb\\xfd\\x05\\x13\\x1f\\x1e\\x11\\xfe\\xed\\xe2\\xe0\\xe3\\xeb\\xf7\\x01\\x00\\x00\\x00\\x00\\x00\\x00',\n",
       " b'\\x00\\x00\\xa2\\xec',\n",
       " b'\\xe6\\xfb!L\\\\F\\x13\\xdc\\xb4\\xa9\\xb0\\xbb\\xc6\\xcd\\xd2\\xd7\\xdf\\xe8\\xf4\\x00\\n\\x11\\x10\\x08\\x00\\xfe\\x00\\x02\\x03\\x01\\x02\\x0c\\x1a#\\x1e\\x0f\\x00\\xf5\\xeb\\xdf\\xd3\\xd2\\xdf\\xf0\\x00\\x00\\x00\\x00\\x00\\x00',\n",
       " b'\\x00\\x00\\xac\\xa0',\n",
       " b'\\x00\\x00\\x00\\x00\\x00\\x00\\x00\\x00\\x00\\xd3\\xeb\\xfb\\x01\\x02\\x03\\t\\x13\\x1f%$\\x1e\\x18\\x12\\x0f\\x0e\\x0f\\x0e\\x08\\x00\\xf7\\xf0\\xed\\xeb\\xf1\\xfd\\t\\x15\\x1d\\x1f\\x1a\\x11\\x02\\xf2\\xe8\\xe2\\xe0\\xdd\\xe0\\xe3\\xe8',\n",
       " b'\\x00\\x00\\xac\\xa0',\n",
       " b'\\x00\\x00\\x00\\x00\\x00\\x00\\x00\\x00\\x00\\xa9\\xbb\\xd2\\xe6\\xf5\\xff\\x04\\x0e\\x17 $!\\x1e\\x18\\x0e\\x03\\x00\\x01\\x01\\xfe\\xf7\\xed\\xe4\\xe3\\xe7\\xef\\xf9\\x01\\n\\x10\\x10\\t\\x02\\x00\\x01\\x02\\xff\\xf4\\xe8\\xe3\\xe9',\n",
       " b'\\x00\\x00\\xac\\xa0',\n",
       " b'\\x00\\x00\\x00\\x00\\x00\\x00\\x00\\x00\\x00\\xbf\\xd0\\xdb\\xe1\\xe9\\xf8\\x0e*@MMA-\\x18\\t\\x03\\x02\\x00\\xfd\\xfc\\xfe\\xff\\xfe\\xfb\\xfc\\xff\\x05\\x0e\\x15\\x13\\x0b\\xff\\xf1\\xe6\\xe1\\xe2\\xe6\\xe8\\xe6\\xe3\\xe2',\n",
       " b'\\x00\\x00\\xac\\xa0',\n",
       " b'\\x00\\x00\\x00\\x00\\x00\\x00\\x00\\x00\\x00\\xd2\\xe3\\xf4\\x00\\x0b\\x19,891%\\x1a\\x15\\x10\\n\\x05\\x03\\x02\\x03\\x04\\x00\\xf6\\xe6\\xdc\\xdd\\xe9\\xfb\\x08\\x15\\x1f#\\x1a\\n\\xf8\\xed\\xe9\\xed\\xf2\\xf7\\xfd\\x01',\n",
       " b'\\x00\\x00\\xb0H',\n",
       " b'?TS;\\x19\\xfc\\xe4\\xdb\\xe1\\xef\\xff\\x07\\x08\\x04\\x04\\x07\\x08\\x05\\x02\\x00\\x00\\xfc\\xf7\\xf2\\xf1\\xef\\xe9\\xe2\\xdb\\xd7\\xd6\\xd6\\xda\\xe1\\xed\\xf5\\xf9\\xfd\\x00\\x02\\x02\\x00\\x00\\x00\\x00\\x00\\x00\\x00\\x00\\x00',\n",
       " b'\\x00\\x00\\xb0H',\n",
       " b'\\x1f-<>.\\x13\\xf8\\xe2\\xdc\\xe2\\xeb\\xef\\xe9\\xe0\\xda\\xdf\\xe9\\xf4\\xfb\\xfe\\x00\\x03\\x04\\x03\\x02\\x00\\xff\\xff\\x01\\x05\\x08\\x07\\x02\\xff\\xfe\\xff\\x00\\xfe\\xfd\\xfe\\x00\\x02\\x00\\x00\\x00\\x00\\x00\\x00\\x00\\x00',\n",
       " b'\\x00\\x00\\xb0H',\n",
       " b'HOM?)\\x0b\\xed\\xd2\\xc4\\xc1\\xc4\\xc5\\xc7\\xcd\\xd9\\xea\\xf9\\x00\\x00\\xff\\xfd\\xf8\\xf2\\xee\\xee\\xee\\xed\\xea\\xe9\\xeb\\xef\\xf2\\xf6\\xf9\\xfe\\x01\\x03\\x02\\x00\\xfd\\xfb\\xf7\\x00\\x00\\x00\\x00\\x00\\x00\\x00\\x00',\n",
       " b'\\x00\\x00\\xb0H',\n",
       " b'MRE%\\x00\\xdd\\xc7\\xc2\\xcb\\xd6\\xe0\\xe3\\xe4\\xe7\\xee\\xf5\\xfb\\xfb\\xf7\\xf5\\xf4\\xef\\xeb\\xe9\\xe4\\xdc\\xd5\\xd3\\xd6\\xe3\\xf8\\t\\x15\\x15\\x11\\x11\\x18$*\\x1f\\x03\\xe4\\x00\\x00\\x00\\x00\\x00\\x00\\x00\\x00',\n",
       " b'\\x00\\x00\\xb0\\xea',\n",
       " b'\\x00\\x00\\x00\\x00\\x00\\x00\\x00\\x00\\x00\\x00\\x00\\x00\\x00\\x00\\x00\\x00\\x00\\x00\\x00\\x00\\x00\\x00\\x00\\x00\\x00\\x00\\x00\\x00\\x00\\x00\\x00\\x00\\x00\\x00\\x00\\x00\\x00\\x00\\x00\\x00\\x00\\x00\\x00\\x00\\x00\\x00\\x00\\x00\\x00\\x00',\n",
       " b'\\x00\\x00\\xb0\\xea',\n",
       " b'\\x00\\x00\\x00\\x00\\x00\\x00\\x00\\x00\\x00\\x00\\x00\\x00\\x00\\x00\\x00\\x00\\x00\\x00\\x00\\x00\\x00\\x00\\x00\\x00\\x00\\x00\\x00\\x00\\x00\\x00\\x00\\x00\\x00\\x00\\x00\\x00\\x00\\x00\\x00\\x00\\x00\\x00\\x00\\x00\\x00\\x00\\x00\\x00\\x00\\x00',\n",
       " b'\\x00\\x00\\xb0\\xea',\n",
       " b'\\x00\\x00\\x00\\x00\\x00\\x00\\x00\\x00\\x00\\x00\\x00\\x00\\x00\\x00\\x00\\x00\\x00\\x00\\x00\\x00\\x00\\x00\\x00\\x00\\x00\\x00\\x00\\x00\\x00\\x00\\x00\\x00\\x00\\x00\\x00\\x00\\x00\\x00\\x00\\x00\\x00\\x00\\x00\\x00\\x00\\x00\\x00\\x00\\x00\\x00',\n",
       " b'\\x00\\x00\\xb0\\xea',\n",
       " b'\\x00\\x00\\x00\\x00\\x00\\x00\\x00\\x00\\x00\\x00\\x00\\x00\\x00\\x00\\x00\\x00\\x00\\x00\\x00\\x00\\x00\\x00\\x00\\x00\\x00\\x00\\x00\\x00\\x00\\x00\\x00\\x00\\x00\\x00\\x00\\x00\\x00\\x00\\x00\\x00\\x00\\x00\\x00\\x00\\x00\\x00\\x00\\x00\\x00\\x00',\n",
       " b'\\x00\\x00\\xb1\\x80',\n",
       " b'<SYF!\\xfd\\xe4\\xdd\\xe8\\xfb\\x08\\x0f\\x11\\x12\\x12\\x12\\x10\\n\\x03\\xf9\\xea\\xda\\xd0\\xd2\\xda\\xdf\\xe1\\xe7\\xee\\xf0\\xee\\xee\\xf0\\xf1\\xf0\\xef\\xf1\\xf7\\xff\\x07\\x0e\\x11\\x00\\x00\\x00\\x00\\x00\\x00\\x00\\x00',\n",
       " b'\\x00\\x00\\xb1\\x80',\n",
       " b';VheK \\xfb\\xe1\\xd6\\xd9\\xdd\\xe3\\xea\\xf5\\x01\\x0e\\x13\\x13\\x0f\\x08\\xfe\\xf0\\xe7\\xe0\\xdb\\xd9\\xda\\xdf\\xe9\\xf2\\xf5\\xf0\\xed\\xe8\\xe4\\xe2\\xe3\\xe9\\xf1\\xf9\\x01\\x08\\x00\\x00\\x00\\x00\\x00\\x00\\x00\\x00',\n",
       " b'\\x00\\x00\\xb1\\x80',\n",
       " b'0CL<\\x1a\\xf8\\xe0\\xd4\\xce\\xc9\\xc6\\xc8\\xd2\\xe3\\xf8\\x05\\n\\x08\\x03\\xff\\xfc\\xfb\\xfd\\xff\\x00\\x00\\xfd\\xf6\\xee\\xe6\\xdf\\xdd\\xe3\\xeb\\xf1\\xf5\\xf5\\xf5\\xf9\\x00\\x07\\x0e\\x00\\x00\\x00\\x00\\x00\\x00\\x00\\x00',\n",
       " b'\\x00\\x00\\xb1\\x80',\n",
       " b'4HN;\\x17\\xf7\\xe8\\xeb\\xf7\\xfe\\x00\\xfe\\xfe\\xff\\x00\\xfd\\xf7\\xf2\\xef\\xea\\xe4\\xdd\\xdb\\xdd\\xe4\\xeb\\xf2\\xfb\\xff\\xfb\\xf0\\xe8\\xe9\\xf1\\xfb\\xff\\xff\\x00\\x02\\t\\x12\\x1e\\x00\\x00\\x00\\x00\\x00\\x00\\x00\\x00',\n",
       " b'\\x00\\x00\\xb6\\x0e',\n",
       " b'\\xdd\\xe2\\xef\\x00\\x178TU3\\xff\\xcb\\xa7\\x9d\\xab\\xc6\\xe1\\xf7\\x05\\x11\\x18\\x1c\\x1f%))#\\x17\\x0b\\x03\\x00\\xfd\\xf9\\xf6\\xf2\\xf1\\xf6\\x00\\t\\x08\\x00\\xf7\\xf2\\xf5\\xfd\\x05\\x0f\\x18#\\x00\\x00',\n",
       " b'\\x00\\x00\\xb6\\x0e',\n",
       " b'\\xe6\\xdf\\xdb\\xe1\\xf2\\x0f2HC\\x1e\\xed\\xbf\\xa7\\xa9\\xbf\\xe1\\x00\\x15 %$\\x1f\\x1d\\x1d\\x1d\\x19\\x11\\x07\\xff\\xf6\\xef\\xed\\xf0\\xf4\\xf1\\xe9\\xe4\\xe8\\xee\\xf1\\xef\\xeb\\xea\\xef\\xf9\\x05\\x12\\x1d\\x00\\x00',\n",
       " b'\\x00\\x00\\xb6\\x0e',\n",
       " b'\\xd3\\xdf\\xf6\\x10,CH.\\xf7\\xb5\\x83o|\\x9f\\xcb\\xf1\\x0e%483-*++%\\x17\\x07\\xfd\\xfb\\xfc\\xfe\\xff\\xfd\\xf9\\xf8\\xfc\\xff\\x00\\x00\\x01\\x01\\x00\\x00\\x01\\x03\\n\\x15\\x00\\x00',\n",
       " b'\\x00\\x00\\xb6\\x0e',\n",
       " b\"\\xed\\xdf\\xe0\\xef\\x04\\x1e.'\\x04\\xd5\\xac\\x97\\x97\\xa4\\xb5\\xc7\\xda\\xee\\xff\\x07\\n\\x0c\\x15\\x1d##\\x1e\\x16\\x11\\x12\\x15\\x15\\x11\\x0e\\x0b\\x0f\\x19! \\x1c\\x16\\x0e\\x00\\xf1\\xe6\\xe6\\xf4\\x0b\\x00\\x00\",\n",
       " b'\\x00\\x00\\xbc.',\n",
       " b'\\x16)4>GG2\\x0b\\xe3\\xc8\\xc4\\xd5\\xf0\\x03\\t\\x02\\xf9\\xf5\\xf7\\x00\\n\\x17!*+&\\x1c\\x0b\\xfc\\xf0\\xee\\xed\\xe7\\xda\\xcd\\xc6\\xcc\\xd7\\xe0\\xdf\\xd7\\xce\\xc9\\xd2\\xee\\x0c \\x00\\x00\\x00',\n",
       " b'\\x00\\x00\\xbc.',\n",
       " b'\\xdd\\xee\\x00\\x12)?G4\\x10\\xed\\xd2\\xc9\\xd4\\xe4\\xef\\xf0\\xe8\\xe3\\xe6\\xed\\xf2\\xf7\\xfc\\x01\\n\\x13\\x18\\x15\\t\\xff\\xfd\\x00\\x03\\x03\\x00\\xfc\\xf6\\xf1\\xf1\\xf0\\xe9\\xdf\\xd5\\xd0\\xd5\\xe6\\xfc\\x00\\x00\\x00',\n",
       " b'\\x00\\x00\\xbc.',\n",
       " b'\\xeb\\xff\\x0e!5?1\\x0c\\xe6\\xc8\\xc1\\xce\\xe3\\xf8\\x01\\x00\\xfb\\xf7\\xf9\\xff\\x02\\x05\\t\\x0e\\x11\\x12\\x12\\x0b\\x02\\x01\\x08\\x0f\\x10\\x0c\\x05\\xff\\xfb\\xf9\\xf8\\xf2\\xe6\\xd9\\xd0\\xd6\\xed\\n%\\x00\\x00\\x00',\n",
       " b'\\x00\\x00\\xbc.',\n",
       " b'\\xf4\\x07\\x18)59)\\x03\\xda\\xbb\\xb9\\xcd\\xed\\x07\\x13\\x11\\t\\x02\\x00\\x00\\x07\\x11\\x19\\x19\\x15\\x0f\\t\\x00\\xf7\\xf5\\xfc\\x03\\x05\\x00\\xf4\\xe4\\xd9\\xd7\\xe0\\xe7\\xe3\\xd9\\xcf\\xd3\\xe7\\x00\\x0c\\x00\\x00\\x00',\n",
       " b'\\x00\\x00\\xbc\\xf2',\n",
       " b',*\\x1e\\t\\xf1\\xd9\\xcb\\xc6\\xc5\\xc6\\xc6\\xdf\\xf0\\xfc\\xfb\\xee\\xda\\xd0\\xd9\\xee\\xff\\x03\\x00\\x00\\x00\\x00\\x00\\x00\\x00\\x00\\x00\\x00\\x00\\x00\\x00\\x00\\x00\\x00\\x00\\x00\\x00\\x00\\x00\\x00\\x00\\x00\\x00\\x00\\x00\\x00',\n",
       " b'\\x00\\x00\\xbc\\xf2',\n",
       " b'\\x19\\x1c\\x19\\x10\\x01\\xf2\\xe4\\xdd\\xd9\\xd4\\xce\\xcc\\xd4\\xe3\\xf4\\xfd\\xfe\\xf8\\xf1\\xf1\\xf8\\xff\\x00\\x00\\x00\\x00\\x00\\x00\\x00\\x00\\x00\\x00\\x00\\x00\\x00\\x00\\x00\\x00\\x00\\x00\\x00\\x00\\x00\\x00\\x00\\x00\\x00\\x00\\x00\\x00',\n",
       " b'\\x00\\x00\\xbc\\xf2',\n",
       " b'!\\x1c\\x11\\x02\\xf4\\xe8\\xe8\\xf0\\xf7\\xf5\\xee\\xea\\xf0\\xfd\\x07\\x08\\x00\\xf9\\xfb\\x00\\x02\\xff\\xf2\\x00\\x00\\x00\\x00\\x00\\x00\\x00\\x00\\x00\\x00\\x00\\x00\\x00\\x00\\x00\\x00\\x00\\x00\\x00\\x00\\x00\\x00\\x00\\x00\\x00\\x00\\x00',\n",
       " b'\\x00\\x00\\xbc\\xf2',\n",
       " b'?:$\\x01\\xe2\\xcd\\xc7\\xcd\\xd7\\xe2\\xea\\xf1\\xf6\\xf9\\xf6\\xee\\xe6\\xe4\\xf0\\x01\\x10\\x15\\x0f\\x00\\x00\\x00\\x00\\x00\\x00\\x00\\x00\\x00\\x00\\x00\\x00\\x00\\x00\\x00\\x00\\x00\\x00\\x00\\x00\\x00\\x00\\x00\\x00\\x00\\x00\\x00',\n",
       " b'\\x00\\x00\\xc0\\x18',\n",
       " b'\\x00\\x00\\x00\\x00\\x00\\x00\\x00\\x00\\xea\\xdf\\xe1\\xee\\xfd\\x0c#<NRH8)\\x1c\\x0c\\xfb\\xe3\\xcf\\xc5\\xc8\\xd9\\xf0\\x05\\x15\\x18\\x12\\x07\\xfb\\xed\\xe3\\xe2\\xe6\\xed\\xf5\\xfc\\x02\\t\\x0f\\x17#,-',\n",
       " b'\\x00\\x00\\xc0\\x18',\n",
       " b'\\x00\\x00\\x00\\x00\\x00\\x00\\x00\\n\\xf4\\xdd\\xd4\\xd6\\xdf\\xe7\\xee\\xf5\\xfe\\x04\\x08\\x08\\t\\x0c\\x0e\\x0b\\x02\\xf5\\xe3\\xd3\\xc8\\xc4\\xc6\\xcf\\xd9\\xe3\\xf0\\xff\\x0c\\x15\\x15\\x0f\\t\\x05\\x03\\x04\\t\\x0c\\x10\\x15\\x17\\x15',\n",
       " b'\\x00\\x00\\xc0\\x18',\n",
       " b'\\x00\\x00\\x00\\x00\\x00\\x00\\x00\\xea\\xd2\\xc9\\xcd\\xd6\\xe1\\xed\\xfe\\x11 )*,27-\\x15\\xf8\\xdd\\xcb\\xc2\\xc2\\xc8\\xd4\\xe3\\xef\\xf8\\x00\\x04\\x03\\xff\\xf9\\xf7\\xf8\\xfb\\xfe\\x00\\x02\\x03\\x08\\x10\\x15\\x11',\n",
       " b'\\x00\\x00\\xc0\\x18',\n",
       " b'\\x00\\x00\\x00\\x00\\x00\\x00\\x00\\xe3\\xd0\\xcf\\xdb\\xeb\\xfc\\x0f-Ohj[G3!\\n\\xef\\xcf\\xb5\\xa6\\xa4\\xb1\\xc6\\xdc\\xee\\xf9\\x00\\x08\\x0b\\x05\\xfd\\xf7\\xf6\\xf9\\xfc\\xff\\x05\\x11\\x1d&-0*',\n",
       " b'\\x00\\x00\\xc0:',\n",
       " b'RH8)\\x1c\\x0c\\xfb\\xe3\\xcf\\xc5\\xc8\\xd9\\xf0\\x05\\x15\\x18\\x12\\x07\\xfb\\xed\\xe3\\xe2\\xe6\\xed\\xf5\\xfc\\x02\\t\\x0f\\x17#,-#\\x15\\x0b\\x08\\x05\\x00\\xf6\\x00\\x00\\x00\\x00\\x00\\x00\\x00\\x00\\x00\\x00',\n",
       " b'\\x00\\x00\\xc0:',\n",
       " b'\\x04\\x08\\x08\\t\\x0c\\x0e\\x0b\\x02\\xf5\\xe3\\xd3\\xc8\\xc4\\xc6\\xcf\\xd9\\xe3\\xf0\\xff\\x0c\\x15\\x15\\x0f\\t\\x05\\x03\\x04\\t\\x0c\\x10\\x15\\x17\\x15\\x0e\\x07\\x03\\x04\\n\\x0e\\x0b\\x00\\x00\\x00\\x00\\x00\\x00\\x00\\x00\\x00\\x00',\n",
       " b'\\x00\\x00\\xc0:',\n",
       " b')*,27-\\x15\\xf8\\xdd\\xcb\\xc2\\xc2\\xc8\\xd4\\xe3\\xef\\xf8\\x00\\x04\\x03\\xff\\xf9\\xf7\\xf8\\xfb\\xfe\\x00\\x02\\x03\\x08\\x10\\x15\\x11\\x07\\xff\\xfd\\x00\\x02\\x03\\x01\\x00\\x00\\x00\\x00\\x00\\x00\\x00\\x00\\x00\\x00',\n",
       " b'\\x00\\x00\\xc0:',\n",
       " b'j[G3!\\n\\xef\\xcf\\xb5\\xa6\\xa4\\xb1\\xc6\\xdc\\xee\\xf9\\x00\\x08\\x0b\\x05\\xfd\\xf7\\xf6\\xf9\\xfc\\xff\\x05\\x11\\x1d&-0*\\x1f\\x15\\x0e\\t\\x03\\xfd\\xf0\\x00\\x00\\x00\\x00\\x00\\x00\\x00\\x00\\x00\\x00',\n",
       " b'\\x00\\x00\\xc1\\x84',\n",
       " b\"\\x07\\x1c,'\\x07\\xda\\xb0\\x97\\x92\\x98\\xa5\\xb5\\xc6\\xd2\\xd5\\xd5\\xd5\\xd6\\xdc\\xe7\\xf1\\xfd\\x04\\x0e\\x16\\x1d$%\\x1d\\x0c\\x00\\xfe\\x05\\x11\\x00\\x00\\x00\\x00\\x00\\x00\\x00\\x00\\x00\\x00\\x00\\x00\\x00\\x00\\x00\\x00\",\n",
       " b'\\x00\\x00\\xc1\\x84',\n",
       " b'\\xff\\x07\\x0e\\x13\\x12\\t\\xfc\\xe8\\xd6\\xcb\\xc6\\xc9\\xd6\\xe6\\xf0\\xf4\\xf1\\xed\\xea\\xed\\xf2\\xf7\\xf5\\xee\\xe4\\xe0\\xdf\\xdd\\xdb\\xd7\\xd7\\xe1\\xf1\\x01\\x00\\x00\\x00\\x00\\x00\\x00\\x00\\x00\\x00\\x00\\x00\\x00\\x00\\x00\\x00\\x00',\n",
       " b'\\x00\\x00\\xc1\\x84',\n",
       " b'\\xfc\\xf9\\xf6\\xf6\\xf9\\xfb\\xf8\\xf2\\xef\\xea\\xe3\\xdd\\xdf\\xe4\\xed\\xf4\\xf7\\xf7\\xfb\\xfe\\xfe\\xfb\\xf5\\xf0\\xef\\xf1\\xf6\\xfd\\x02\\x05\\x08\\x08\\x08\\n\\x00\\x00\\x00\\x00\\x00\\x00\\x00\\x00\\x00\\x00\\x00\\x00\\x00\\x00\\x00\\x00',\n",
       " b'\\x00\\x00\\xc1\\x84',\n",
       " b'\\xf5\\xdc\\xcd\\xce\\xd6\\xdc\\xdf\\xdf\\xe1\\xe1\\xdf\\xdc\\xdd\\xe0\\xe0\\xdf\\xdf\\xe2\\xe8\\xef\\xf5\\xf9\\xfc\\xfe\\x00\\x04\\x0e\\x17\\x18\\x0f\\x01\\xfb\\xf9\\xfd\\x00\\x00\\x00\\x00\\x00\\x00\\x00\\x00\\x00\\x00\\x00\\x00\\x00\\x00\\x00\\x00',\n",
       " b'\\x00\\x00\\xc1\\xa8',\n",
       " b'\\xdc\\xe7\\xf1\\xfd\\x04\\x0e\\x16\\x1d$%\\x1d\\x0c\\x00\\xfe\\x05\\x11\\x00\\x00\\x00\\x00\\x00\\x00\\x00\\x00\\x00\\x00\\x00\\x00\\x00\\x00\\x00\\x00\\x00\\x00\\x00\\x00\\x00\\x00\\x00\\x00\\x00\\x00\\x00\\x00\\x00\\x00\\x00\\x00\\x00\\x00',\n",
       " b'\\x00\\x00\\xc1\\xa8',\n",
       " b'\\xea\\xed\\xf2\\xf7\\xf5\\xee\\xe4\\xe0\\xdf\\xdd\\xdb\\xd7\\xd7\\xe1\\xf1\\x01\\x00\\x00\\x00\\x00\\x00\\x00\\x00\\x00\\x00\\x00\\x00\\x00\\x00\\x00\\x00\\x00\\x00\\x00\\x00\\x00\\x00\\x00\\x00\\x00\\x00\\x00\\x00\\x00\\x00\\x00\\x00\\x00\\x00\\x00',\n",
       " b'\\x00\\x00\\xc1\\xa8',\n",
       " b'\\xfb\\xfe\\xfe\\xfb\\xf5\\xf0\\xef\\xf1\\xf6\\xfd\\x02\\x05\\x08\\x08\\x08\\n\\x00\\x00\\x00\\x00\\x00\\x00\\x00\\x00\\x00\\x00\\x00\\x00\\x00\\x00\\x00\\x00\\x00\\x00\\x00\\x00\\x00\\x00\\x00\\x00\\x00\\x00\\x00\\x00\\x00\\x00\\x00\\x00\\x00\\x00',\n",
       " b'\\x00\\x00\\xc1\\xa8',\n",
       " b'\\xe8\\xef\\xf5\\xf9\\xfc\\xfe\\x00\\x04\\x0e\\x17\\x18\\x0f\\x01\\xfb\\xf9\\xfd\\x00\\x00\\x00\\x00\\x00\\x00\\x00\\x00\\x00\\x00\\x00\\x00\\x00\\x00\\x00\\x00\\x00\\x00\\x00\\x00\\x00\\x00\\x00\\x00\\x00\\x00\\x00\\x00\\x00\\x00\\x00\\x00\\x00\\x00',\n",
       " b'\\x00\\x00\\xc4z',\n",
       " b\"\\xff\\x15:ZbN!\\xef\\xc4\\xb2\\xbe\\xda\\xf6\\x04\\t\\t\\x0e\\x1a'+$\\x16\\x0c\\t\\x07\\x04\\x08\\x0e\\x10\\x0e\\x08\\x01\\xfe\\xfc\\xf8\\xf7\\xf6\\xf7\\xf8\\xf9\\xfb\\xfc\\xfc\\x00\\x00\\x00\\x00\\x00\\x00\\x00\",\n",
       " b'\\x00\\x00\\xc4z',\n",
       " b'\\xfd\\x03\\x1a9LF&\\xfd\\xd4\\xb7\\xb0\\xc0\\xdc\\xf6\\x00\\xfe\\xf8\\xf7\\xfe\\x05\\n\\n\\x07\\x02\\x02\\x03\\x03\\x03\\x03\\x02\\x01\\x01\\x00\\xfe\\xfc\\xfb\\xfd\\x00\\x01\\x02\\x03\\x05\\n\\x00\\x00\\x00\\x00\\x00\\x00\\x00',\n",
       " b'\\x00\\x00\\xc4z',\n",
       " b'\\t#ATR8\\x0e\\xe4\\xc8\\xc5\\xd7\\xf4\\x08\\x0f\\x0f\\x11\\x1c+4-\\x19\\x02\\xf6\\xf1\\xf4\\xf6\\xf6\\xf8\\xfc\\xff\\xff\\xf9\\xf1\\xeb\\xe7\\xe7\\xed\\xf5\\xff\\t\\x13\\x19\\x1d\\x00\\x00\\x00\\x00\\x00\\x00\\x00',\n",
       " b'\\x00\\x00\\xc4z',\n",
       " b\"\\x117]ww['\\xeb\\xb4\\x97\\x9e\\xc5\\xf5\\x16%&'.77,\\x1c\\x0e\\x07\\x03\\xff\\xf8\\xf2\\xef\\xed\\xe9\\xe4\\xe2\\xe1\\xe1\\xe4\\xed\\xf6\\x00\\x08\\x0c\\x0b\\n\\x00\\x00\\x00\\x00\\x00\\x00\\x00\",\n",
       " b'\\x00\\x00\\xc7\\x04',\n",
       " b'\\xf2\\xeb\\xee\\xf4\\xf4\\xeb\\xe1\\xdf\\xe3\\xe8\\xe4\\xdc\\xd7\\xdd\\xed\\xfb\\xff\\xfc\\xfc\\x02\\x0b\\x0e\\x08\\x00\\xfc\\xf6\\xef\\xea\\xe8\\xe9\\xed\\xf2\\xfb\\x02\\n\\x0f\\x00\\x00\\x00\\x00\\x00\\x00\\x00\\x00\\x00\\x00\\x00\\x00\\x00\\x00',\n",
       " b'\\x00\\x00\\xc7\\x04',\n",
       " b'\\x12\\xfd\\xf2\\xf5\\xfc\\x00\\xfe\\xfb\\xf9\\xf9\\xf5\\xed\\xe3\\xe1\\xe9\\xf7\\xff\\xfe\\xf6\\xf4\\xfd\\x0b\\x12\\n\\x00\\xf8\\xf5\\xf1\\xef\\xef\\xf4\\xfb\\xfd\\xf7\\xef\\xe9\\x00\\x00\\x00\\x00\\x00\\x00\\x00\\x00\\x00\\x00\\x00\\x00\\x00\\x00',\n",
       " b'\\x00\\x00\\xc7\\x04',\n",
       " b'\\xf1\\xe9\\xee\\xf9\\xff\\xf8\\xeb\\xe0\\xd4\\xc5\\xb8\\xb5\\xc1\\xd7\\xf1\\x02\\x05\\xff\\xf8\\xfc\\x04\\t\\x00\\xf5\\xee\\xee\\xf1\\xf4\\xf7\\xfb\\x00\\x05\\t\\x05\\x01\\x04\\x00\\x00\\x00\\x00\\x00\\x00\\x00\\x00\\x00\\x00\\x00\\x00\\x00\\x00',\n",
       " b'\\x00\\x00\\xc7\\x04',\n",
       " b'\\x18\\xf7\\xdb\\xd0\\xd6\\xdc\\xd7\\xc9\\xb9\\xaa\\xa2\\xa5\\xb7\\xcf\\xe7\\xf2\\xf1\\xe9\\xe4\\xe8\\xee\\xeb\\xe1\\xd9\\xd5\\xd5\\xd5\\xd5\\xdc\\xea\\xf7\\xfd\\xfd\\xfd\\x00\\x0e\\x00\\x00\\x00\\x00\\x00\\x00\\x00\\x00\\x00\\x00\\x00\\x00\\x00\\x00',\n",
       " b'\\x00\\x00\\xcdZ',\n",
       " b'\\xdd\\xdb\\xd4\\xce\\xcd\\xd0\\xd5\\xd6\\xd2\\xcb\\xc6\\xcc\\xda\\xe9\\xf1\\xf4\\xf5\\xf5\\x00\\x00\\x00\\x00\\x00\\x00\\x00\\x00\\x00\\x00\\x00\\x00\\x00\\x00\\x00\\x00\\x00\\x00\\x00\\x00\\x00\\x00\\x00\\x00\\x00\\x00\\x00\\x00\\x00\\x00\\x00\\x00',\n",
       " b'\\x00\\x00\\xcdZ',\n",
       " b'\\xf7\\xf4\\xea\\xe2\\xdd\\xd9\\xd2\\xcb\\xc6\\xc4\\xc0\\xbd\\xbe\\xc8\\xd9\\xe8\\xf0\\xf4\\x00\\x00\\x00\\x00\\x00\\x00\\x00\\x00\\x00\\x00\\x00\\x00\\x00\\x00\\x00\\x00\\x00\\x00\\x00\\x00\\x00\\x00\\x00\\x00\\x00\\x00\\x00\\x00\\x00\\x00\\x00\\x00',\n",
       " b'\\x00\\x00\\xcdZ',\n",
       " b'\\xeb\\xe2\\xd3\\xc5\\xbf\\xc4\\xcf\\xdf\\xe9\\xeb\\xe2\\xd3\\xcc\\xce\\xd4\\xd6\\xd7\\xda\\x00\\x00\\x00\\x00\\x00\\x00\\x00\\x00\\x00\\x00\\x00\\x00\\x00\\x00\\x00\\x00\\x00\\x00\\x00\\x00\\x00\\x00\\x00\\x00\\x00\\x00\\x00\\x00\\x00\\x00\\x00\\x00',\n",
       " b'\\x00\\x00\\xcdZ',\n",
       " b'\\xb8\\xb7\\xb3\\xb1\\xb4\\xbf\\xcb\\xd5\\xdf\\xe3\\xe0\\xd9\\xd7\\xdb\\xdc\\xd3\\xc6\\xbd\\x00\\x00\\x00\\x00\\x00\\x00\\x00\\x00\\x00\\x00\\x00\\x00\\x00\\x00\\x00\\x00\\x00\\x00\\x00\\x00\\x00\\x00\\x00\\x00\\x00\\x00\\x00\\x00\\x00\\x00\\x00\\x00',\n",
       " b'\\x00\\x00\\xce\\x1c',\n",
       " b'\\x16\\t\\x00\\xf2\\xe3\\xd4\\xc9\\xc5\\xc2\\xc5\\xcd\\xd7\\xdf\\xe0\\x00\\x00\\x00\\x00\\x00\\x00\\x00\\x00\\x00\\x00\\x00\\x00\\x00\\x00\\x00\\x00\\x00\\x00\\x00\\x00\\x00\\x00\\x00\\x00\\x00\\x00\\x00\\x00\\x00\\x00\\x00\\x00\\x00\\x00\\x00\\x00',\n",
       " b'\\x00\\x00\\xce\\x1c',\n",
       " b'\\x16\\x0c\\x07\\x03\\x00\\xfc\\xf2\\xe6\\xda\\xd4\\xd3\\xd7\\xe3\\xee\\x00\\x00\\x00\\x00\\x00\\x00\\x00\\x00\\x00\\x00\\x00\\x00\\x00\\x00\\x00\\x00\\x00\\x00\\x00\\x00\\x00\\x00\\x00\\x00\\x00\\x00\\x00\\x00\\x00\\x00\\x00\\x00\\x00\\x00\\x00\\x00',\n",
       " b'\\x00\\x00\\xce\\x1c',\n",
       " b'\\xfd\\xff\\xff\\xf9\\xf0\\xe6\\xe2\\xe6\\xe8\\xe4\\xdc\\xd5\\xd0\\xce\\x00\\x00\\x00\\x00\\x00\\x00\\x00\\x00\\x00\\x00\\x00\\x00\\x00\\x00\\x00\\x00\\x00\\x00\\x00\\x00\\x00\\x00\\x00\\x00\\x00\\x00\\x00\\x00\\x00\\x00\\x00\\x00\\x00\\x00\\x00\\x00',\n",
       " b'\\x00\\x00\\xce\\x1c',\n",
       " b'\\x02\\xfc\\xf5\\xea\\xdc\\xc9\\xbd\\xbe\\xcb\\xd9\\xe1\\xe1\\xdc\\xd4\\x00\\x00\\x00\\x00\\x00\\x00\\x00\\x00\\x00\\x00\\x00\\x00\\x00\\x00\\x00\\x00\\x00\\x00\\x00\\x00\\x00\\x00\\x00\\x00\\x00\\x00\\x00\\x00\\x00\\x00\\x00\\x00\\x00\\x00\\x00\\x00',\n",
       " b'\\x00\\x00\\xcfB',\n",
       " b'\\x04\\x02\\x07\\n\\t\\x03\\xfc\\xee\\xdd\\xd4\\xd6\\xe2\\xef\\xf8\\xfc\\xfc\\xfb\\xfb\\xf7\\xf0\\xe8\\xe4\\xe7\\xed\\xef\\xed\\xe6\\xdd\\xd4\\x00\\x00\\x00\\x00\\x00\\x00\\x00\\x00\\x00\\x00\\x00\\x00\\x00\\x00\\x00\\x00\\x00\\x00\\x00\\x00\\x00',\n",
       " b'\\x00\\x00\\xcfB',\n",
       " b'1!\\x19\\x18\\x15\\x0b\\xfe\\xf0\\xe0\\xce\\xc4\\xc7\\xd2\\xe0\\xed\\xf2\\xf2\\xf0\\xf0\\xef\\xeb\\xe7\\xe4\\xe4\\xe1\\xda\\xd7\\xdc\\xe7\\x00\\x00\\x00\\x00\\x00\\x00\\x00\\x00\\x00\\x00\\x00\\x00\\x00\\x00\\x00\\x00\\x00\\x00\\x00\\x00\\x00',\n",
       " b'\\x00\\x00\\xcfB',\n",
       " b'\\x17\\x15\\x1c!\\x1f\\x15\\x04\\xf2\\xdd\\xd2\\xd4\\xe1\\xef\\xf9\\xfe\\xff\\xff\\xfd\\xf9\\xf5\\xf0\\xed\\xed\\xef\\xef\\xee\\xf0\\xf7\\xff\\x00\\x00\\x00\\x00\\x00\\x00\\x00\\x00\\x00\\x00\\x00\\x00\\x00\\x00\\x00\\x00\\x00\\x00\\x00\\x00\\x00',\n",
       " b'\\x00\\x00\\xcfB',\n",
       " b'\\xf7\\xe3\\xd9\\xd6\\xd6\\xd7\\xd5\\xce\\xc0\\xb5\\xb3\\xbb\\xc9\\xda\\xe6\\xee\\xf6\\xff\\x03\\x00\\xf2\\xdf\\xce\\xc8\\xcc\\xd6\\xe6\\xf7\\x02\\x00\\x00\\x00\\x00\\x00\\x00\\x00\\x00\\x00\\x00\\x00\\x00\\x00\\x00\\x00\\x00\\x00\\x00\\x00\\x00\\x00',\n",
       " b'\\x00\\x00\\xd3.',\n",
       " b'\\x00\\x00\\x00\\x00\\x00\\x00\\x00\\x00\\x00\\x00\\x00\\x00\\x00\\x00\\x00\\x00\\x00\\x00\\x00\\x00\\x00\\x00\\x00\\x00\\x00\\x00\\x00\\x00\\x00\\x00\\x00\\x00\\x00\\x00\\x00\\x00\\x00\\x00\\x00\\x00\\x00\\x00\\x00\\x00\\x00\\x00\\x00\\x00\\x00\\x00',\n",
       " b'\\x00\\x00\\xd3.',\n",
       " b'\\x00\\x00\\x00\\x00\\x00\\x00\\x00\\x00\\x00\\x00\\x00\\x00\\x00\\x00\\x00\\x00\\x00\\x00\\x00\\x00\\x00\\x00\\x00\\x00\\x00\\x00\\x00\\x00\\x00\\x00\\x00\\x00\\x00\\x00\\x00\\x00\\x00\\x00\\x00\\x00\\x00\\x00\\x00\\x00\\x00\\x00\\x00\\x00\\x00\\x00',\n",
       " b'\\x00\\x00\\xd3.',\n",
       " b'\\x00\\x00\\x00\\x00\\x00\\x00\\x00\\x00\\x00\\x00\\x00\\x00\\x00\\x00\\x00\\x00\\x00\\x00\\x00\\x00\\x00\\x00\\x00\\x00\\x00\\x00\\x00\\x00\\x00\\x00\\x00\\x00\\x00\\x00\\x00\\x00\\x00\\x00\\x00\\x00\\x00\\x00\\x00\\x00\\x00\\x00\\x00\\x00\\x00\\x00',\n",
       " b'\\x00\\x00\\xd3.',\n",
       " b'\\x00\\x00\\x00\\x00\\x00\\x00\\x00\\x00\\x00\\x00\\x00\\x00\\x00\\x00\\x00\\x00\\x00\\x00\\x00\\x00\\x00\\x00\\x00\\x00\\x00\\x00\\x00\\x00\\x00\\x00\\x00\\x00\\x00\\x00\\x00\\x00\\x00\\x00\\x00\\x00\\x00\\x00\\x00\\x00\\x00\\x00\\x00\\x00\\x00\\x00',\n",
       " b'\\x00\\x00\\xd8t',\n",
       " b'7#\\x15\\t\\xf9\\xda\\xaayjj\\x82\\xb2\\xe0\\xf8\\xf9\\xeb\\xdf\\xda\\xdb\\xe1\\xe6\\xe9\\xeb\\xf1\\xfb\\x00\\x00\\xf8\\xee\\xea\\xef\\xfb\\x04\\x0b\\x0b\\x0b\\x0e\\x15\\x00\\x00\\x00\\x00\\x00\\x00\\x00\\x00\\x1e\\x16\\x17$',\n",
       " b'\\x00\\x00\\xd8t',\n",
       " b'\\t\\x00\\xfc\\xf6\\xf0\\xe9\\xdd\\xcc\\xb7\\xa5\\xa4\\xb7\\xd6\\xf5\\x08\\x0e\\x07\\xff\\xfb\\xfb\\xfc\\xfe\\xfb\\xf2\\xeb\\xe6\\xe4\\xe6\\xe8\\xef\\xf6\\xfe\\x05\\x11\\x1a\\x1c\\x15\\x0f\\x00\\x00\\x00\\x00\\x00\\x00\\x00\\x00\\x16\\x0b\\x03\\x04',\n",
       " b'\\x00\\x00\\xd8t',\n",
       " b'%\\x1e\\x15\\x0b\\x00\\xef\\xdb\\xcf\\xcf\\xda\\xea\\xfb\\x05\\x0c\\x0c\\x05\\xfe\\xf5\\xee\\xea\\xe9\\xe9\\xe8\\xe9\\xed\\xf2\\xf6\\xf6\\xf4\\xf4\\xf9\\x00\\x07\\t\\x02\\xfd\\xfb\\xfe\\x00\\x00\\x00\\x00\\x00\\x00\\x00\\x00\\xf2\\xf0\\xf6\\x01',\n",
       " b'\\x00\\x00\\xd8t',\n",
       " b'5)\\x19\\x08\\xf2\\xd5\\xb9\\xac\\xb7\\xd4\\xf7\\x10\\x1d\\x1c\\x12\\x05\\xf9\\xee\\xe2\\xda\\xd7\\xd7\\xd9\\xe2\\xef\\xfc\\x01\\xff\\xf5\\xeb\\xe7\\xe8\\xef\\xf2\\xed\\xe2\\xe0\\xe8\\x00\\x00\\x00\\x00\\x00\\x00\\x00\\x00\\x13\\x11\\x16\\x1f',\n",
       " b'\\x00\\x00\\xd8\\xfa',\n",
       " b'\\x00\\x03\\t\\x0b\\x03\\xf1\\xdd\\xd6\\xe0\\xeb\\xef\\xe7\\xdb\\xd2\\xcf\\xd0\\xd3\\xd7\\xdd\\xe7\\xf4\\xff\\x04\\n\\x12\\x17\\x13\\x07\\xf6\\x00\\x00\\x00\\x00\\x00\\x00\\x00\\x00\\x00\\x00\\x00\\x00\\x00\\x00\\x00\\x00\\x00\\x00\\x00\\x00\\x00',\n",
       " b'\\x00\\x00\\xd8\\xfa',\n",
       " b'\\xfb\\xfb\\xfd\\xff\\xff\\xf7\\xeb\\xe3\\xe4\\xeb\\xf1\\xf4\\xf1\\xed\\xe9\\xe8\\xe6\\xe3\\xe2\\xe4\\xe9\\xed\\xef\\xef\\xf1\\xf7\\x00\\t\\t\\x00\\x00\\x00\\x00\\x00\\x00\\x00\\x00\\x00\\x00\\x00\\x00\\x00\\x00\\x00\\x00\\x00\\x00\\x00\\x00\\x00',\n",
       " b'\\x00\\x00\\xd8\\xfa',\n",
       " b'\\x02\\x08\\x10\\x13\\x08\\xf2\\xdb\\xcd\\xc9\\xc9\\xcc\\xcf\\xd3\\xd6\\xdc\\xe0\\xdf\\xdd\\xdf\\xe3\\xea\\xf1\\xf8\\x01\\x0f\\x1a\\x1d\\x16\\n\\x00\\x00\\x00\\x00\\x00\\x00\\x00\\x00\\x00\\x00\\x00\\x00\\x00\\x00\\x00\\x00\\x00\\x00\\x00\\x00\\x00',\n",
       " b'\\x00\\x00\\xd8\\xfa',\n",
       " b'\\xfe\\x00\\x04\\x07\\xf8\\xd6\\xb4\\xa2\\xa4\\xb4\\xc6\\xce\\xce\\xcd\\xd0\\xd5\\xda\\xdd\\xe3\\xee\\xfc\\x0b\\x19#)+&\\x19\\x08\\x00\\x00\\x00\\x00\\x00\\x00\\x00\\x00\\x00\\x00\\x00\\x00\\x00\\x00\\x00\\x00\\x00\\x00\\x00\\x00\\x00',\n",
       " b'\\x00\\x00\\xe3\\x02',\n",
       " b'\\x00\\x00\\x00\\x00\\x00\\x00\\x00\\x00\\x00\\x00\\x00\\x00\\x00\\x00\\x00\\x00\\x00\\x00\\x00\\x00\\x00\\x00\\x00\\x00\\x00\\x00\\x00\\x00\\x00\\x00\\x00\\x00\\x00\\x00\\x00\\x00\\x00\\x00\\x00\\x00\\x00\\x00\\x00\\x00\\x00\\x00\\x00\\x00\\x00\\x00',\n",
       " b'\\x00\\x00\\xe3\\x02',\n",
       " b'\\x00\\x00\\x00\\x00\\x00\\x00\\x00\\x00\\x00\\x00\\x00\\x00\\x00\\x00\\x00\\x00\\x00\\x00\\x00\\x00\\x00\\x00\\x00\\x00\\x00\\x00\\x00\\x00\\x00\\x00\\x00\\x00\\x00\\x00\\x00\\x00\\x00\\x00\\x00\\x00\\x00\\x00\\x00\\x00\\x00\\x00\\x00\\x00\\x00\\x00',\n",
       " b'\\x00\\x00\\xe3\\x02',\n",
       " b'\\x00\\x00\\x00\\x00\\x00\\x00\\x00\\x00\\x00\\x00\\x00\\x00\\x00\\x00\\x00\\x00\\x00\\x00\\x00\\x00\\x00\\x00\\x00\\x00\\x00\\x00\\x00\\x00\\x00\\x00\\x00\\x00\\x00\\x00\\x00\\x00\\x00\\x00\\x00\\x00\\x00\\x00\\x00\\x00\\x00\\x00\\x00\\x00\\x00\\x00',\n",
       " b'\\x00\\x00\\xe3\\x02',\n",
       " b'\\x00\\x00\\x00\\x00\\x00\\x00\\x00\\x00\\x00\\x00\\x00\\x00\\x00\\x00\\x00\\x00\\x00\\x00\\x00\\x00\\x00\\x00\\x00\\x00\\x00\\x00\\x00\\x00\\x00\\x00\\x00\\x00\\x00\\x00\\x00\\x00\\x00\\x00\\x00\\x00\\x00\\x00\\x00\\x00\\x00\\x00\\x00\\x00\\x00\\x00',\n",
       " b'\\x00\\x00\\xe4\\xda',\n",
       " b'3\\x1a\\x08\\xfe\\xfb\\xfc\\xfd\\xfe\\xfd\\xf8\\xf5\\xf1\\xf0\\xf0\\xf6\\x00\\n\\x0e\\n\\x04\\x00\\xfd\\xfe\\x02\\x0e\\x17\\x18\\x13\\x0e\\x07\\x02\\x00\\x02\\x07\\x05\\xfc\\xe9\\xd6\\xcb\\x00\\x00\\x00\\x00\\x00\\x00\\x00\\x00\\x00\\x00\\x00',\n",
       " b'\\x00\\x00\\xe4\\xda',\n",
       " b\"]O?2,)$ \\x1c\\x17\\x0f\\x05\\xff\\xfd\\xfc\\xfe\\x05\\x11\\x17\\x13\\x0b\\x02\\xfd\\xfb\\x01\\x11#'\\x1d\\x0c\\x00\\xfb\\xf7\\xf8\\xf9\\xf7\\xef\\xe0\\xce\\x00\\x00\\x00\\x00\\x00\\x00\\x00\\x00\\x00\\x00\\x00\",\n",
       " b'\\x00\\x00\\xe4\\xda',\n",
       " b'.\\x1d\\x10\\t\\x05\\x04\\x00\\xf6\\xe6\\xd5\\xc9\\xc5\\xcb\\xd9\\xef\\x05\\x1a$!\\x19\\x10\\x08\\x03\\t\\x16!#\\x19\\x0c\\x02\\xfd\\xf8\\xf5\\xf4\\xf4\\xef\\xe3\\xd2\\xc6\\x00\\x00\\x00\\x00\\x00\\x00\\x00\\x00\\x00\\x00\\x00',\n",
       " b'\\x00\\x00\\xe4\\xda',\n",
       " b'0\\x19\\x08\\xff\\xfb\\xfd\\x01\\x08\\t\\x02\\xf9\\xf0\\xea\\xea\\xf2\\x01\\x13\\x1a\\x18\\x16\\x18\\x1a\\x1c\\x1e  \\x17\\x04\\xf4\\xe7\\xe0\\xdd\\xdf\\xe6\\xed\\xf0\\xea\\xe1\\xd9\\x00\\x00\\x00\\x00\\x00\\x00\\x00\\x00\\x00\\x00\\x00',\n",
       " b'\\x00\\x00\\xe9\\n',\n",
       " b'\\xf2\\xe8\\xe2\\xe2\\xe1\\xdb\\xd4\\xd2\\xd5\\xda\\xda\\xd9\\xd9\\xdf\\xe6\\x00\\x00\\x00\\x00\\x00\\x00\\x00\\x00\\x00\\x00\\x00\\x00\\x00\\x00\\x00\\x00\\x00\\x00\\x00\\x00\\x00\\x00\\x00\\x00\\x00\\x00\\x00\\x00\\x00\\x00\\x00\\x00\\x00\\x00\\x00',\n",
       " b'\\x00\\x00\\xe9\\n',\n",
       " b'\\x0c\\x05\\x01\\x03\\n\\x10\\x10\\t\\x02\\x01\\x01\\xff\\xf6\\xee\\xe9\\x00\\x00\\x00\\x00\\x00\\x00\\x00\\x00\\x00\\x00\\x00\\x00\\x00\\x00\\x00\\x00\\x00\\x00\\x00\\x00\\x00\\x00\\x00\\x00\\x00\\x00\\x00\\x00\\x00\\x00\\x00\\x00\\x00\\x00\\x00',\n",
       " b'\\x00\\x00\\xe9\\n',\n",
       " b'\\xff\\xfd\\x00\\x03\\x07\\x01\\xf5\\xe8\\xe2\\xdf\\xdc\\xd9\\xd6\\xd6\\xd6\\x00\\x00\\x00\\x00\\x00\\x00\\x00\\x00\\x00\\x00\\x00\\x00\\x00\\x00\\x00\\x00\\x00\\x00\\x00\\x00\\x00\\x00\\x00\\x00\\x00\\x00\\x00\\x00\\x00\\x00\\x00\\x00\\x00\\x00\\x00',\n",
       " b'\\x00\\x00\\xe9\\n',\n",
       " b'\\xfb\\xf5\\xef\\xea\\xe7\\xe6\\xe8\\xeb\\xed\\xeb\\xe7\\xdf\\xdb\\xe0\\xe7\\x00\\x00\\x00\\x00\\x00\\x00\\x00\\x00\\x00\\x00\\x00\\x00\\x00\\x00\\x00\\x00\\x00\\x00\\x00\\x00\\x00\\x00\\x00\\x00\\x00\\x00\\x00\\x00\\x00\\x00\\x00\\x00\\x00\\x00\\x00',\n",
       " b'\\x00\\x00\\xe9x',\n",
       " b'\\x00\\x00\\x00\\x00\\xf2\\xf1\\xff\\t\\x01\\xe7\\xc9\\xbd\\xc4\\xd5\\xe6\\xf0\\xf5\\xfc\\x07\\x18+9;99@HIB5#\\x08\\xed\\xd3\\xc6\\xc6\\xce\\xd4\\xd5\\xd3\\xd3\\xcf\\xc9\\xc7\\xcd\\xdb\\xe8\\xeb\\xe3\\xd4',\n",
       " b'\\x00\\x00\\xe9x',\n",
       " b\"\\x00\\x00\\x00\\x00\\x11\\xfe\\xf2\\xf1\\xef\\xe7\\xdb\\xd9\\xe6\\xfb\\x0c\\x16\\x15\\x0e\\x05\\x00\\x00\\x08\\x13 )+*&%'%\\x1a\\x0c\\x01\\xfb\\xf7\\xf5\\xf1\\xed\\xe4\\xe0\\xdc\\xda\\xd7\\xda\\xe6\\xf2\\xfb\\xfc\\xf7\",\n",
       " b'\\x00\\x00\\xe9x',\n",
       " b'\\x00\\x00\\x00\\x00\\t\\n\\x0c\\x07\\xfd\\xf4\\xf9\\x08\\x1a%#\\x15\\x05\\xff\\xff\\x07\\x11\\x19\\x1d\\x1c\\x17\\x0f\\x07\\x01\\xff\\xfd\\xf7\\xef\\xe6\\xe1\\xe3\\xea\\xee\\xea\\xe2\\xdf\\xdf\\xe1\\xe0\\xda\\xd7\\xda\\xe1\\xe8\\xea\\xe7',\n",
       " b'\\x00\\x00\\xe9x',\n",
       " b'\\x00\\x00\\x00\\x00\\x04\\x0f\\x18\\x15\\x0b\\x05\\x0b Bgxg8\\n\\xf1\\xf0\\xfe\\x0b\\x15\\x15\\x11\\t\\xfe\\xea\\xd4\\xc4\\xbf\\xc4\\xcc\\xd3\\xd6\\xd6\\xd6\\xd4\\xcf\\xcd\\xc9\\xc2\\xb8\\xb2\\xba\\xce\\xe0\\xe7\\xe2\\xd9',\n",
       " b'\\x00\\x00\\xeb4',\n",
       " b'&Ov\\x89xF\\x00\\xbe\\x92\\x85\\x94\\xb3\\xd5\\xee\\xfb\\xff\\x00\\xfd\\xf7\\xf9\\x01\\x0c\\x16\\x18\\x13\\x08\\xfd\\xef\\xe3\\xdf\\xe1\\xee\\xfb\\x00\\x01\\xff\\xfe\\x00\\x03\\x07\\x0b\\x12\\x16\\x00\\x00\\x00\\x00\\x00\\x00\\x00',\n",
       " b'\\x00\\x00\\xeb4',\n",
       " b'!+@[pr[1\\xff\\xd4\\xbb\\xbb\\xcd\\xe1\\xef\\xf6\\xf9\\xfc\\xf7\\xef\\xe9\\xeb\\xf4\\xfb\\xfe\\xfd\\xf9\\xf4\\xeb\\xe3\\xdd\\xe1\\xee\\xfe\\x05\\x04\\x00\\xff\\x01\\x05\\n\\x0e\\x10\\x00\\x00\\x00\\x00\\x00\\x00\\x00',\n",
       " b'\\x00\\x00\\xeb4',\n",
       " b'\\x15)AUWC\\x1e\\xf2\\xcb\\xb5\\xb5\\xc5\\xd7\\xe7\\xef\\xf4\\xf6\\xf6\\xf4\\xf1\\xf1\\xf4\\xf7\\xfb\\xff\\x04\\x0f\\x17\\x17\\x10\\x08\\x04\\x07\\x05\\x00\\xfe\\x00\\x07\\x0c\\x0e\\x0b\\x05\\xfe\\x00\\x00\\x00\\x00\\x00\\x00\\x00',\n",
       " b'\\x00\\x00\\xeb4',\n",
       " b\"-<GKB'\\xff\\xce\\xa3\\x8b\\x8e\\xa4\\xc1\\xd9\\xe9\\xf6\\xfe\\x01\\x01\\x02\\x04\\x04\\x02\\xfe\\xf8\\xf5\\xf2\\xf4\\xf6\\xf9\\xff\\x07\\x10\\x11\\x0b\\x02\\xfc\\xf9\\xfd\\x02\\t\\x10\\x13\\x00\\x00\\x00\\x00\\x00\\x00\\x00\",\n",
       " b'\\x00\\x00\\xeb\\\\',\n",
       " b'\\x01\\x0c\\x16\\x18\\x13\\x08\\xfd\\xef\\xe3\\xdf\\xe1\\xee\\xfb\\x00\\x01\\xff\\xfe\\x00\\x03\\x07\\x0b\\x12\\x16\\x00\\x00\\x00\\x00\\x00\\x00\\x00\\x00\\x00\\x00\\x00\\x00\\x00\\x00\\x00\\x00\\x00\\x00\\x00\\x00\\x00\\x00\\x00\\x00\\x00\\x00\\x00',\n",
       " b'\\x00\\x00\\xeb\\\\',\n",
       " b'\\xe9\\xeb\\xf4\\xfb\\xfe\\xfd\\xf9\\xf4\\xeb\\xe3\\xdd\\xe1\\xee\\xfe\\x05\\x04\\x00\\xff\\x01\\x05\\n\\x0e\\x10\\x00\\x00\\x00\\x00\\x00\\x00\\x00\\x00\\x00\\x00\\x00\\x00\\x00\\x00\\x00\\x00\\x00\\x00\\x00\\x00\\x00\\x00\\x00\\x00\\x00\\x00\\x00',\n",
       " b'\\x00\\x00\\xeb\\\\',\n",
       " b'\\xf1\\xf4\\xf7\\xfb\\xff\\x04\\x0f\\x17\\x17\\x10\\x08\\x04\\x07\\x05\\x00\\xfe\\x00\\x07\\x0c\\x0e\\x0b\\x05\\xfe\\x00\\x00\\x00\\x00\\x00\\x00\\x00\\x00\\x00\\x00\\x00\\x00\\x00\\x00\\x00\\x00\\x00\\x00\\x00\\x00\\x00\\x00\\x00\\x00\\x00\\x00\\x00',\n",
       " b'\\x00\\x00\\xeb\\\\',\n",
       " b'\\x04\\x04\\x02\\xfe\\xf8\\xf5\\xf2\\xf4\\xf6\\xf9\\xff\\x07\\x10\\x11\\x0b\\x02\\xfc\\xf9\\xfd\\x02\\t\\x10\\x13\\x00\\x00\\x00\\x00\\x00\\x00\\x00\\x00\\x00\\x00\\x00\\x00\\x00\\x00\\x00\\x00\\x00\\x00\\x00\\x00\\x00\\x00\\x00\\x00\\x00\\x00\\x00',\n",
       " b'\\x00\\x00\\xed4',\n",
       " b'\\x08\\xfb\\xf0\\xeb\\xeb\\xea\\xe2\\xd6\\xd2\\xd4\\xdc\\xea\\xf8\\x02\\t\\x0c\\x0e\\x0c\\n\\x08\\n\\x0c\\t\\x02\\xff\\x00\\x08\\x16\\x00\\x00\\x00\\x00\\x00\\x00\\x00\\x00\\x00\\x00\\x00\\x00\\x00\\x00\\x00\\x00\\x00\\x00\\x00\\x00\\x00\\x00',\n",
       " b'\\x00\\x00\\xed4',\n",
       " b'\\x02\\xfd\\xf9\\xf9\\xfd\\xfb\\xf1\\xe1\\xd0\\xc6\\xc2\\xc5\\xcf\\xe1\\xf2\\xff\\x05\\x08\\x03\\xfc\\xf4\\xf0\\xef\\xef\\xf0\\xf4\\xf5\\xf6\\x00\\x00\\x00\\x00\\x00\\x00\\x00\\x00\\x00\\x00\\x00\\x00\\x00\\x00\\x00\\x00\\x00\\x00\\x00\\x00\\x00\\x00',\n",
       " b'\\x00\\x00\\xed4',\n",
       " b'\\xf6\\xe8\\xe1\\xe2\\xe3\\xdf\\xd4\\xcc\\xcd\\xd6\\xe6\\xf5\\x02\\x0f\\x16\\x19\\x17\\x0f\\x03\\xfb\\xf7\\xfb\\x02\\x0b\\x12\\x13\\x10\\x0f\\x00\\x00\\x00\\x00\\x00\\x00\\x00\\x00\\x00\\x00\\x00\\x00\\x00\\x00\\x00\\x00\\x00\\x00\\x00\\x00\\x00\\x00',\n",
       " b'\\x00\\x00\\xed4',\n",
       " b'\\x11\\x0c\\x08\\x00\\xf1\\xdc\\xc8\\xbf\\xc5\\xd5\\xe7\\xf4\\xfc\\x04\\x0f\\x15\\x11\\x04\\xf7\\xed\\xf0\\xff\\x11 %\\x1f\\x13\\x0e\\x00\\x00\\x00\\x00\\x00\\x00\\x00\\x00\\x00\\x00\\x00\\x00\\x00\\x00\\x00\\x00\\x00\\x00\\x00\\x00\\x00\\x00',\n",
       " b'\\x00\\x00\\xf0&',\n",
       " b'\\xe8\\xfc\\x1fCP7\\x02\\xc9\\x9c\\x88\\x92\\xb5\\xdf\\xfc\\x03\\x02\\x00\\x00\\x02\\x08\\x0f\\x13\\x0e\\xff\\xef\\xea\\xf4\\x02\\x13\\x1e\\x1f\\x19\\x10\\x07\\x00\\x00\\t\\x12\\x13\\x0f\\x07\\x00\\xfe\\xfd\\xfc\\x00\\x00\\x00\\x00\\x00',\n",
       " b'\\x00\\x00\\xf0&',\n",
       " b'\\x03\\x0c\\x1d4HF%\\xf2\\xbb\\x96\\x89\\x97\\xb7\\xdc\\xf9\\x07\\x0c\\x10\\x11\\x11\\x0f\\x0f\\x11\\x10\\t\\x00\\xf8\\xf4\\xf6\\xff\\x05\\x07\\x04\\x00\\xfd\\xfd\\x00\\x07\\x0b\\x0b\\t\\x07\\x04\\x05\\x05\\x00\\x00\\x00\\x00\\x00',\n",
       " b'\\x00\\x00\\xf0&',\n",
       " b'\\n\\x17*<<\\x1f\\xf1\\xc1\\xa0\\x94\\x9c\\xb3\\xcf\\xe6\\xf1\\xf5\\xf5\\xf5\\xf6\\xfb\\x02\\x08\\x05\\xfd\\xf1\\xea\\xed\\xf9\\t\\x16\\x16\\x0e\\x07\\x08\\x0c\\x12\\x17\\x16\\x0f\\x04\\x00\\xff\\xff\\xff\\xfc\\x00\\x00\\x00\\x00\\x00',\n",
       " b'\\x00\\x00\\xf0&',\n",
       " b'\\x10\\x162U[5\\xf6\\xb2\\x83t\\x84\\xa9\\xce\\xe7\\xf0\\xf4\\xf6\\xf6\\xf7\\xf7\\xf8\\xfd\\x00\\xfd\\xf6\\xf0\\xf5\\x01\\x13#)&\\x1d\\x11\\x08\\x03\\x04\\x04\\x01\\xfe\\xfb\\xf7\\xf5\\xf5\\xf6\\x00\\x00\\x00\\x00\\x00',\n",
       " b'\\x00\\x00\\xf8<',\n",
       " b'\\xd4\\xc6\\xba\\xb3\\xb0\\xb3\\xbf\\xcc\\xd4\\xd4\\xcf\\xd0\\xd7\\xe3\\xf2\\x01\\n\\x0c\\t\\x03\\xfd\\xf4\\xeb\\xe8\\xeb\\xf7\\x00\\x00\\x00\\x00\\x00\\x00\\x00\\x00\\x00\\x00\\x00\\x00\\x00\\x00\\x00\\x00\\x00\\x00\\x00\\x00\\x00\\x00\\x00\\x00',\n",
       " b'\\x00\\x00\\xf8<',\n",
       " b'\\xef\\xee\\xe8\\xe0\\xd7\\xcf\\xcb\\xc7\\xc4\\xc2\\xc1\\xc2\\xc7\\xd3\\xe3\\xf7\\n\\x17\\x17\\x0e\\x02\\xf8\\xed\\xe6\\xe6\\xef\\x00\\x00\\x00\\x00\\x00\\x00\\x00\\x00\\x00\\x00\\x00\\x00\\x00\\x00\\x00\\x00\\x00\\x00\\x00\\x00\\x00\\x00\\x00\\x00',\n",
       " b'\\x00\\x00\\xf8<',\n",
       " b'\\xfe\\xf8\\xf1\\xeb\\xe8\\xe6\\xe8\\xed\\xef\\xee\\xe9\\xe3\\xe2\\xe4\\xed\\xf7\\x00\\xff\\xf4\\xe6\\xd9\\xd0\\xcd\\xd0\\xd9\\xe6\\x00\\x00\\x00\\x00\\x00\\x00\\x00\\x00\\x00\\x00\\x00\\x00\\x00\\x00\\x00\\x00\\x00\\x00\\x00\\x00\\x00\\x00\\x00\\x00',\n",
       " b'\\x00\\x00\\xf8<',\n",
       " b'\\xf7\\xeb\\xdf\\xd5\\xd3\\xda\\xe8\\xf5\\xfc\\xf9\\xf4\\xee\\xeb\\xef\\xfb\\n\\x17\\x1a\\x16\\x11\\x0f\\x0b\\x04\\xfd\\xf5\\xf0\\x00\\x00\\x00\\x00\\x00\\x00\\x00\\x00\\x00\\x00\\x00\\x00\\x00\\x00\\x00\\x00\\x00\\x00\\x00\\x00\\x00\\x00\\x00\\x00',\n",
       " b'\\x00\\x01\\x01\\xae',\n",
       " b'\\x11\\x0b\\x07\\x03\\x04\\x0b\\x13\\x16\\x11\\x07\\xfe\\xf9\\xfb\\xff\\x03\\x08\\n\\n\\x08\\x03\\x00\\xfe\\x00\\x00\\xf8\\xed\\x00\\x00\\x00\\x00\\x00\\x00\\x00\\x00\\x00\\x00\\x00\\x00\\x00\\x00\\x00\\x00\\x00\\x00\\x00\\x00\\x00\\x00\\x00\\x00',\n",
       " b'\\x00\\x01\\x01\\xae',\n",
       " b'\\x0e\\t\\x05\\x05\\x04\\x04\\x04\\x02\\x00\\xfe\\xfb\\xfb\\xff\\x07\\x10\\x17\\x1d%++$\\x18\\x0f\\n\\x05\\xff\\x00\\x00\\x00\\x00\\x00\\x00\\x00\\x00\\x00\\x00\\x00\\x00\\x00\\x00\\x00\\x00\\x00\\x00\\x00\\x00\\x00\\x00\\x00\\x00',\n",
       " b'\\x00\\x01\\x01\\xae',\n",
       " b'\\x0f\\x0c\\x0e\\x13\\x1a\\x1e\\x17\\x00\\xe6\\xcf\\xc6\\xcd\\xdd\\xef\\xfd\\t\\x15\\x1d\\x1f\\x18\\x0e\\t\\x0b\\x0c\\x08\\x00\\x00\\x00\\x00\\x00\\x00\\x00\\x00\\x00\\x00\\x00\\x00\\x00\\x00\\x00\\x00\\x00\\x00\\x00\\x00\\x00\\x00\\x00\\x00\\x00',\n",
       " b'\\x00\\x01\\x01\\xae',\n",
       " b'\\x00\\xf7\\xf2\\xf7\\x00\\n\\x11\\x10\\x03\\xf1\\xdf\\xd5\\xd7\\xe3\\xf5\\x03\\x0f\\x13\\x13\\x10\\x0b\\t\\x07\\xff\\xf0\\xe3\\x00\\x00\\x00\\x00\\x00\\x00\\x00\\x00\\x00\\x00\\x00\\x00\\x00\\x00\\x00\\x00\\x00\\x00\\x00\\x00\\x00\\x00\\x00\\x00',\n",
       " b'\\x00\\x01\\x07Z',\n",
       " b',8IWWF*\\x10\\xff\\xf9\\x02\\x11\\x10\\xfb\\xdb\\xc8\\xcb\\xdb\\xef\\xfd\\x00\\x01\\x03\\x07\\x04\\xf8\\xe7\\xda\\xdb\\xe8\\xf9\\x05\\t\\x02\\xfb\\xf6\\xf9\\x00\\x03\\x04\\x07\\x0b\\x11\\x18 \\x00\\x00\\x00\\x00\\x00',\n",
       " b'\\x00\\x01\\x07Z',\n",
       " b'459>@;,\\x15\\xfb\\xe3\\xd7\\xe0\\xf4\\x04\\x0c\\x0e\\x0c\\n\\x07\\x04\\x02\\x00\\xfe\\xfe\\xfd\\xf6\\xeb\\xe2\\xe1\\xe8\\xf5\\x01\\x0c\\x12\\x0f\\x03\\xf6\\xed\\xeb\\xf2\\xfe\\x08\\x10\\x0f\\x0b\\x00\\x00\\x00\\x00\\x00',\n",
       " b'\\x00\\x01\\x07Z',\n",
       " b'\\x1c,<KTUPF7)%+0)\\x13\\xf8\\xe1\\xda\\xe4\\xf4\\xfd\\xfc\\xf4\\xe9\\xe0\\xd6\\xd0\\xd3\\xdc\\xea\\xf8\\x00\\x03\\xfe\\xef\\xdd\\xd4\\xd5\\xdc\\xe3\\xe8\\xef\\xf5\\xfb\\x00\\x00\\x00\\x00\\x00\\x00',\n",
       " b'\\x00\\x01\\x07Z',\n",
       " b'\\xed\\xf2\\x01\\x17,9<90*2H]eZ>\\x1a\\xfd\\xea\\xe0\\xd4\\xc9\\xc4\\xc4\\xc5\\xc5\\xc7\\xcd\\xd7\\xe7\\xf9\\x08\\x0b\\x00\\xeb\\xd9\\xd0\\xd4\\xe1\\xee\\xf8\\xfe\\xfd\\xfb\\x00\\x00\\x00\\x00\\x00\\x00',\n",
       " b'\\x00\\x01\\x07z',\n",
       " b'\\xcb\\xdb\\xef\\xfd\\x00\\x01\\x03\\x07\\x04\\xf8\\xe7\\xda\\xdb\\xe8\\xf9\\x05\\t\\x02\\xfb\\xf6\\xf9\\x00\\x03\\x04\\x07\\x0b\\x11\\x18 \\x00\\x00\\x00\\x00\\x00\\x00\\x00\\x00\\x00\\x00\\x00\\x00\\x00\\x00\\x00\\x00\\x00\\x00\\x00\\x00\\x00',\n",
       " b'\\x00\\x01\\x07z',\n",
       " b'\\x0c\\n\\x07\\x04\\x02\\x00\\xfe\\xfe\\xfd\\xf6\\xeb\\xe2\\xe1\\xe8\\xf5\\x01\\x0c\\x12\\x0f\\x03\\xf6\\xed\\xeb\\xf2\\xfe\\x08\\x10\\x0f\\x0b\\x00\\x00\\x00\\x00\\x00\\x00\\x00\\x00\\x00\\x00\\x00\\x00\\x00\\x00\\x00\\x00\\x00\\x00\\x00\\x00\\x00',\n",
       " b'\\x00\\x01\\x07z',\n",
       " b'\\xe1\\xda\\xe4\\xf4\\xfd\\xfc\\xf4\\xe9\\xe0\\xd6\\xd0\\xd3\\xdc\\xea\\xf8\\x00\\x03\\xfe\\xef\\xdd\\xd4\\xd5\\xdc\\xe3\\xe8\\xef\\xf5\\xfb\\x00\\x00\\x00\\x00\\x00\\x00\\x00\\x00\\x00\\x00\\x00\\x00\\x00\\x00\\x00\\x00\\x00\\x00\\x00\\x00\\x00\\x00',\n",
       " b'\\x00\\x01\\x07z',\n",
       " b'\\x1a\\xfd\\xea\\xe0\\xd4\\xc9\\xc4\\xc4\\xc5\\xc5\\xc7\\xcd\\xd7\\xe7\\xf9\\x08\\x0b\\x00\\xeb\\xd9\\xd0\\xd4\\xe1\\xee\\xf8\\xfe\\xfd\\xfb\\x00\\x00\\x00\\x00\\x00\\x00\\x00\\x00\\x00\\x00\\x00\\x00\\x00\\x00\\x00\\x00\\x00\\x00\\x00\\x00\\x00\\x00',\n",
       " b'\\x00\\x01\\n\\xde',\n",
       " b'\\x00\\x00\\x00\\x00\\x00\\x00\\x00\\x00\\x00\\x00\\x00\\x00\\x00\\x00\\x00\\x00\\x00\\x00\\x00\\x00\\x00\\x00\\x00\\x00\\x00\\x00\\x00\\x00\\x00\\x00\\x00\\x00\\x00\\x00\\x00\\x00\\x00\\x00\\x00\\x00\\x00\\x00\\x00\\x00\\x00\\x00\\x00\\x00\\x00\\x00',\n",
       " b'\\x00\\x01\\n\\xde',\n",
       " b'\\x00\\x00\\x00\\x00\\x00\\x00\\x00\\x00\\x00\\x00\\x00\\x00\\x00\\x00\\x00\\x00\\x00\\x00\\x00\\x00\\x00\\x00\\x00\\x00\\x00\\x00\\x00\\x00\\x00\\x00\\x00\\x00\\x00\\x00\\x00\\x00\\x00\\x00\\x00\\x00\\x00\\x00\\x00\\x00\\x00\\x00\\x00\\x00\\x00\\x00',\n",
       " b'\\x00\\x01\\n\\xde',\n",
       " b'\\x00\\x00\\x00\\x00\\x00\\x00\\x00\\x00\\x00\\x00\\x00\\x00\\x00\\x00\\x00\\x00\\x00\\x00\\x00\\x00\\x00\\x00\\x00\\x00\\x00\\x00\\x00\\x00\\x00\\x00\\x00\\x00\\x00\\x00\\x00\\x00\\x00\\x00\\x00\\x00\\x00\\x00\\x00\\x00\\x00\\x00\\x00\\x00\\x00\\x00',\n",
       " b'\\x00\\x01\\n\\xde',\n",
       " b'\\x00\\x00\\x00\\x00\\x00\\x00\\x00\\x00\\x00\\x00\\x00\\x00\\x00\\x00\\x00\\x00\\x00\\x00\\x00\\x00\\x00\\x00\\x00\\x00\\x00\\x00\\x00\\x00\\x00\\x00\\x00\\x00\\x00\\x00\\x00\\x00\\x00\\x00\\x00\\x00\\x00\\x00\\x00\\x00\\x00\\x00\\x00\\x00\\x00\\x00',\n",
       " b'\\x00\\x01\\x11\\xb2',\n",
       " b'\\x0c#<WgaE\\x19\\xf0\\xd5\\xd2\\xdb\\xe6\\xf0\\xf9\\x01\\x07\\t\\x05\\x00\\xf9\\xf6\\xf8\\xfd\\xff\\xfe\\xfe\\xfe\\xfd\\xf9\\xf8\\xf9\\x00\\x04\\x04\\xfe\\xf5\\xf1\\xf2\\xf1\\xef\\xed\\xef\\xf7\\x00\\x00\\x00\\x00\\x00\\x00',\n",
       " b'\\x00\\x01\\x11\\xb2',\n",
       " b'\\xf8\\x05\\x16*BYaP*\\xfd\\xdb\\xcf\\xd6\\xe8\\xf9\\x07\\x12\\x19\\x19\\x12\\x05\\xf9\\xf1\\xf5\\xfc\\x00\\x00\\xff\\xfe\\xfd\\xfd\\xfd\\xff\\x02\\x05\\x08\\n\\x0e\\x0f\\x0e\\x0c\\x0b\\x08\\x01\\xfe\\x00\\x00\\x00\\x00\\x00',\n",
       " b'\\x00\\x01\\x11\\xb2',\n",
       " b'\\x04\\x13%8FF1\\n\\xe4\\xc9\\xc2\\xc9\\xd6\\xe2\\xef\\xfe\\t\\x0f\\n\\x00\\xf4\\xed\\xf2\\xff\\x05\\n\\x0f\\x12\\x15\\x13\\x13\\x13\\x12\\x11\\x11\\x16\\x1a\\x1a\\x12\\x05\\xfb\\xf1\\xef\\xf4\\xfe\\x00\\x00\\x00\\x00\\x00',\n",
       " b'\\x00\\x01\\x11\\xb2',\n",
       " b'\\x13-EUT?\\x1d\\xfb\\xe1\\xd9\\xdc\\xe2\\xe4\\xe2\\xe3\\xeb\\xf7\\xff\\x00\\xfe\\xfb\\xfb\\xfe\\x00\\xff\\xff\\xff\\xfd\\xf6\\xf1\\xf1\\xf7\\xfc\\xfe\\xfe\\xff\\xfe\\xf9\\xf1\\xeb\\xed\\xf1\\xf7\\xfb\\x00\\x00\\x00\\x00\\x00\\x00',\n",
       " b'\\x00\\x01\\x1cV',\n",
       " b'\\x07\\x0c\\x11\\x16\\x12\\x04\\xf1\\xdf\\xda\\xe4\\xf1\\xf1\\xe8\\xd4\\xc6\\xc2\\xc6\\xd0\\xdf\\xea\\xf1\\xee\\xe2\\xd0\\xc1\\xba\\xbd\\xc9\\xdc\\xed\\xf6\\xf8\\xf9\\x00\\x00\\x00\\x00\\x00\\x00\\x00\\x00\\x00\\x00\\x00\\x00\\x00\\x00\\x00\\x00\\x00',\n",
       " b'\\x00\\x01\\x1cV',\n",
       " b'\\xf4\\xfe\\x04\\n\\x0c\\x07\\xf6\\xdf\\xc9\\xbf\\xbf\\xc9\\xd5\\xdd\\xe2\\xe7\\xea\\xea\\xea\\xef\\xf6\\xfe\\x02\\x00\\xf8\\xf0\\xee\\xee\\xf0\\xf0\\xef\\xf0\\xf5\\x00\\x00\\x00\\x00\\x00\\x00\\x00\\x00\\x00\\x00\\x00\\x00\\x00\\x00\\x00\\x00\\x00',\n",
       " b'\\x00\\x01\\x1cV',\n",
       " b'\\xe4\\xee\\x00\\x12\\x1c\\x11\\xfb\\xe1\\xd2\\xce\\xcf\\xd0\\xd3\\xda\\xe6\\xf1\\xf9\\xff\\x04\\t\\t\\x02\\xf6\\xe2\\xcd\\xbe\\xb7\\xb9\\xc0\\xc9\\xd4\\xe0\\xed\\x00\\x00\\x00\\x00\\x00\\x00\\x00\\x00\\x00\\x00\\x00\\x00\\x00\\x00\\x00\\x00\\x00',\n",
       " b'\\x00\\x01\\x1cV',\n",
       " b\"\\n\\x13!.2'\\x13\\x03\\xff\\xfe\\xfc\\xf2\\xe8\\xe3\\xe3\\xe8\\xf0\\xfd\\x08\\x11\\x16\\x12\\x02\\xe9\\xce\\xbe\\xb9\\xc0\\xd0\\xe2\\xf0\\xf9\\xff\\x00\\x00\\x00\\x00\\x00\\x00\\x00\\x00\\x00\\x00\\x00\\x00\\x00\\x00\\x00\\x00\\x00\",\n",
       " b'\\x00\\x01\\x1cv',\n",
       " b'\\xc6\\xd0\\xdf\\xea\\xf1\\xee\\xe2\\xd0\\xc1\\xba\\xbd\\xc9\\xdc\\xed\\xf6\\xf8\\xf9\\x00\\x00\\x00\\x00\\x00\\x00\\x00\\x00\\x00\\x00\\x00\\x00\\x00\\x00\\x00\\x00\\x00\\x00\\x00\\x00\\x00\\x00\\x00\\x00\\x00\\x00\\x00\\x00\\x00\\x00\\x00\\x00\\x00',\n",
       " b'\\x00\\x01\\x1cv',\n",
       " b'\\xea\\xea\\xea\\xef\\xf6\\xfe\\x02\\x00\\xf8\\xf0\\xee\\xee\\xf0\\xf0\\xef\\xf0\\xf5\\x00\\x00\\x00\\x00\\x00\\x00\\x00\\x00\\x00\\x00\\x00\\x00\\x00\\x00\\x00\\x00\\x00\\x00\\x00\\x00\\x00\\x00\\x00\\x00\\x00\\x00\\x00\\x00\\x00\\x00\\x00\\x00\\x00',\n",
       " b'\\x00\\x01\\x1cv',\n",
       " b'\\xf9\\xff\\x04\\t\\t\\x02\\xf6\\xe2\\xcd\\xbe\\xb7\\xb9\\xc0\\xc9\\xd4\\xe0\\xed\\x00\\x00\\x00\\x00\\x00\\x00\\x00\\x00\\x00\\x00\\x00\\x00\\x00\\x00\\x00\\x00\\x00\\x00\\x00\\x00\\x00\\x00\\x00\\x00\\x00\\x00\\x00\\x00\\x00\\x00\\x00\\x00\\x00',\n",
       " b'\\x00\\x01\\x1cv',\n",
       " b'\\xf0\\xfd\\x08\\x11\\x16\\x12\\x02\\xe9\\xce\\xbe\\xb9\\xc0\\xd0\\xe2\\xf0\\xf9\\xff\\x00\\x00\\x00\\x00\\x00\\x00\\x00\\x00\\x00\\x00\\x00\\x00\\x00\\x00\\x00\\x00\\x00\\x00\\x00\\x00\\x00\\x00\\x00\\x00\\x00\\x00\\x00\\x00\\x00\\x00\\x00\\x00\\x00',\n",
       " b'\\x00\\x01\\x1en',\n",
       " b'\\x00\\x00\\x00\\x00\\x00\\x001\\x10\\xcf\\x83ju\\xbe\\x10Txx\\\\3\\x0c\\xf6\\xf2\\xff\\x11%372 \\x00\\xd7\\xba\\xb1\\xba\\xd0\\xe8\\xfc\\x05\\n\\x07\\xfe\\xf0\\xe6\\xdf\\xdd\\xe3\\xed\\xf2\\xeb\\xdd',\n",
       " b'\\x00\\x01\\x1en',\n",
       " b'\\x00\\x00\\x00\\x00\\x00\\x00\\xf5\\xfc\\xfd\\xf1\\xe1\\xdb\\xe9\\x05*GYV?\\x18\\xf2\\xd4\\xc8\\xd2\\xe8\\x03\\x1a%$\\x17\\x02\\xef\\xdf\\xd4\\xd0\\xd9\\xe7\\xf4\\xf9\\xf6\\xea\\xdd\\xd7\\xdd\\xe7\\xf0\\xf2\\xf1\\xee\\xe9',\n",
       " b'\\x00\\x01\\x1en',\n",
       " b'\\x00\\x00\\x00\\x00\\x00\\x00\\xf2\\xef\\xdc\\xbe\\xa2\\x9d\\xb9\\xee%O\\\\K%\\x00\\xe6\\xdf\\xeb\\x04$<KL@*\\x0b\\xef\\xd9\\xd0\\xdb\\xf0\\x07\\x18\\x1a\\x0c\\xfc\\xf0\\xef\\xf0\\xef\\xeb\\xe9\\xe4\\xdd\\xd7',\n",
       " b'\\x00\\x01\\x1en',\n",
       " b'\\x00\\x00\\x00\\x00\\x00\\x00\\xf1\\xf0\\xe3\\xd2\\xc4\\xc1\\xcf\\xed\\x0c&+\\x1c\\x03\\xed\\xdd\\xe0\\xf6\\x153KUR>\\x1a\\xef\\xc5\\xab\\xad\\xc7\\xeb\\t\\x17\\x10\\xfe\\xeb\\xe3\\xe4\\xe8\\xeb\\xf4\\xf9\\xf6\\xe8\\xda',\n",
       " b'\\x00\\x01\\x1e\\x88',\n",
       " b'\\x10Txx\\\\3\\x0c\\xf6\\xf2\\xff\\x11%372 \\x00\\xd7\\xba\\xb1\\xba\\xd0\\xe8\\xfc\\x05\\n\\x07\\xfe\\xf0\\xe6\\xdf\\xdd\\xe3\\xed\\xf2\\xeb\\xdd\\xcf\\xc9\\xce\\xd6\\xe1\\xf2\\x00\\x00\\x00\\x00\\x00\\x00\\x00',\n",
       " b'\\x00\\x01\\x1e\\x88',\n",
       " b'\\x05*GYV?\\x18\\xf2\\xd4\\xc8\\xd2\\xe8\\x03\\x1a%$\\x17\\x02\\xef\\xdf\\xd4\\xd0\\xd9\\xe7\\xf4\\xf9\\xf6\\xea\\xdd\\xd7\\xdd\\xe7\\xf0\\xf2\\xf1\\xee\\xe9\\xe6\\xe4\\xe6\\xe6\\xe7\\xed\\x00\\x00\\x00\\x00\\x00\\x00\\x00',\n",
       " b'\\x00\\x01\\x1e\\x88',\n",
       " b'\\xee%O\\\\K%\\x00\\xe6\\xdf\\xeb\\x04$<KL@*\\x0b\\xef\\xd9\\xd0\\xdb\\xf0\\x07\\x18\\x1a\\x0c\\xfc\\xf0\\xef\\xf0\\xef\\xeb\\xe9\\xe4\\xdd\\xd7\\xd6\\xdd\\xe8\\xf0\\xf4\\xf8\\x00\\x00\\x00\\x00\\x00\\x00\\x00',\n",
       " b'\\x00\\x01\\x1e\\x88',\n",
       " b'\\xed\\x0c&+\\x1c\\x03\\xed\\xdd\\xe0\\xf6\\x153KUR>\\x1a\\xef\\xc5\\xab\\xad\\xc7\\xeb\\t\\x17\\x10\\xfe\\xeb\\xe3\\xe4\\xe8\\xeb\\xf4\\xf9\\xf6\\xe8\\xda\\xd4\\xd9\\xe4\\xf0\\xf8\\x00\\x00\\x00\\x00\\x00\\x00\\x00\\x00',\n",
       " b'\\x00\\x01\"4',\n",
       " b\"0>E;'\\x11\\x00\\xf5\\xe8\\xdb\\xd3\\xd4\\xdc\\xe7\\xee\\xf2\\xf9\\x00\\t\\x11\\x13\\x0b\\xfc\\xea\\xdb\\xcd\\xbf\\xb5\\xb2\\xb9\\xc4\\xce\\xd4\\xda\\xe1\\xee\\xf8\\xfc\\xf7\\xee\\xe3\\xda\\x00\\x00\\x00\\x00\\x00\\x00\\x00\\x00\",\n",
       " b'\\x00\\x01\"4',\n",
       " b'+280\\x1c\\x04\\xf8\\xf5\\xf5\\xf1\\xe8\\xdf\\xdb\\xdf\\xe1\\xe1\\xe0\\xe2\\xe8\\xf0\\xf6\\xf6\\xeb\\xd7\\xc5\\xb9\\xb7\\xba\\xc1\\xc7\\xcc\\xd0\\xd6\\xdc\\xe4\\xed\\xf4\\xf5\\xf0\\xe8\\xdf\\xd6\\x00\\x00\\x00\\x00\\x00\\x00\\x00\\x00',\n",
       " b'\\x00\\x01\"4',\n",
       " b'BOP@%\\t\\xf4\\xe4\\xd7\\xcc\\xc4\\xc2\\xc8\\xd0\\xda\\xe2\\xea\\xf1\\xf8\\xfe\\x02\\x00\\xf8\\xe9\\xd5\\xc2\\xb2\\xa9\\xa7\\xae\\xb7\\xc0\\xc9\\xd5\\xe4\\xf5\\xfd\\xfd\\xf6\\xf0\\xf1\\xf5\\x00\\x00\\x00\\x00\\x00\\x00\\x00\\x00',\n",
       " b'\\x00\\x01\"4',\n",
       " b'[hlaL;0!\\n\\xee\\xd4\\xc6\\xc4\\xcb\\xd7\\xe6\\xed\\xee\\xf1\\xfb\\x02\\x02\\xfb\\xef\\xe1\\xcf\\xb3\\x92ypu\\x84\\x9b\\xba\\xdd\\xfe\\x10\\x15\\x0b\\x00\\xf6\\xe4\\x00\\x00\\x00\\x00\\x00\\x00\\x00\\x00',\n",
       " b'\\x00\\x01\"X',\n",
       " b'\\t\\x11\\x13\\x0b\\xfc\\xea\\xdb\\xcd\\xbf\\xb5\\xb2\\xb9\\xc4\\xce\\xd4\\xda\\xe1\\xee\\xf8\\xfc\\xf7\\xee\\xe3\\xda\\x00\\x00\\x00\\x00\\x00\\x00\\x00\\x00\\x00\\x00\\x00\\x00\\x00\\x00\\x00\\x00\\x00\\x00\\x00\\x00\\x00\\x00\\x00\\x00\\x00\\x00',\n",
       " b'\\x00\\x01\"X',\n",
       " b'\\xe8\\xf0\\xf6\\xf6\\xeb\\xd7\\xc5\\xb9\\xb7\\xba\\xc1\\xc7\\xcc\\xd0\\xd6\\xdc\\xe4\\xed\\xf4\\xf5\\xf0\\xe8\\xdf\\xd6\\x00\\x00\\x00\\x00\\x00\\x00\\x00\\x00\\x00\\x00\\x00\\x00\\x00\\x00\\x00\\x00\\x00\\x00\\x00\\x00\\x00\\x00\\x00\\x00\\x00\\x00',\n",
       " b'\\x00\\x01\"X',\n",
       " b'\\xf8\\xfe\\x02\\x00\\xf8\\xe9\\xd5\\xc2\\xb2\\xa9\\xa7\\xae\\xb7\\xc0\\xc9\\xd5\\xe4\\xf5\\xfd\\xfd\\xf6\\xf0\\xf1\\xf5\\x00\\x00\\x00\\x00\\x00\\x00\\x00\\x00\\x00\\x00\\x00\\x00\\x00\\x00\\x00\\x00\\x00\\x00\\x00\\x00\\x00\\x00\\x00\\x00\\x00\\x00',\n",
       " b'\\x00\\x01\"X',\n",
       " b'\\xf1\\xfb\\x02\\x02\\xfb\\xef\\xe1\\xcf\\xb3\\x92ypu\\x84\\x9b\\xba\\xdd\\xfe\\x10\\x15\\x0b\\x00\\xf6\\xe4\\x00\\x00\\x00\\x00\\x00\\x00\\x00\\x00\\x00\\x00\\x00\\x00\\x00\\x00\\x00\\x00\\x00\\x00\\x00\\x00\\x00\\x00\\x00\\x00\\x00\\x00',\n",
       " b'\\x00\\x01&<',\n",
       " b'\\x00\\x00\\x00\\x00\\x00\\x00\\x00\\x00\\xf9\\xf9\\xf9\\xf9\\xf8\\xf9\\xff\\x0c)Or}e2\\xf5\\xc1\\xaa\\xad\\xc1\\xd9\\xe4\\xe0\\xd5\\xd4\\xe2\\xf6\\x07\\x11\\x15\\x11\\t\\x03\\x05\\x07\\x00\\xef\\xdc\\xd6\\xe6\\x04!%',\n",
       " b'\\x00\\x01&<',\n",
       " b'\\x00\\x00\\x00\\x00\\x00\\x00\\x00\\x00\\xc6\\xbe\\xbb\\xc0\\xcd\\xdb\\xe7\\xf5\\x07$F`cI\\x17\\xe0\\xb5\\xaa\\xb9\\xd3\\xe8\\xef\\xe9\\xe0\\xe0\\xeb\\xfc\\x05\\t\\x04\\xfc\\xf5\\xf1\\xf5\\xf9\\xfe\\xfd\\xf8\\xf7\\x00\\x0f\\x1d',\n",
       " b'\\x00\\x01&<',\n",
       " b'\\x00\\x00\\x00\\x00\\x00\\x00\\x00\\x00\\xcf\\xcd\\xd0\\xda\\xe3\\xee\\xfb\\x0c+Tv{[\\x1e\\xe0\\xb1\\xa3\\xb3\\xcf\\xe6\\xed\\xe7\\xe0\\xe6\\xf9\\x0c\\x16\\x13\\x0b\\x04\\x03\\x04\\x01\\xf9\\xf0\\xe8\\xe4\\xe9\\xf6\\x04\\x10\\x15',\n",
       " b'\\x00\\x01&<',\n",
       " b'\\x00\\x00\\x00\\x00\\x00\\x00\\x00\\x00\\xbf\\xc4\\xda\\xf8\\x11 $ #8Wj\\\\+\\xee\\xb8\\x9e\\x9e\\xad\\xbe\\xc7\\xc9\\xce\\xdb\\xee\\xfb\\xfd\\xf7\\xf4\\xf7\\xfd\\xfe\\xf8\\xee\\xdf\\xce\\xc1\\xbe\\xc8\\xdf\\xf7\\x04',\n",
       " b'\\x00\\x01&V',\n",
       " b'\\xf9\\xff\\x0c)Or}e2\\xf5\\xc1\\xaa\\xad\\xc1\\xd9\\xe4\\xe0\\xd5\\xd4\\xe2\\xf6\\x07\\x11\\x15\\x11\\t\\x03\\x05\\x07\\x00\\xef\\xdc\\xd6\\xe6\\x04!%\\x10\\xf8\\xe6\\xe0\\xe4\\xf0\\x00\\x0e\\x00\\x00\\x00\\x00\\x00',\n",
       " b'\\x00\\x01&V',\n",
       " b'\\xdb\\xe7\\xf5\\x07$F`cI\\x17\\xe0\\xb5\\xaa\\xb9\\xd3\\xe8\\xef\\xe9\\xe0\\xe0\\xeb\\xfc\\x05\\t\\x04\\xfc\\xf5\\xf1\\xf5\\xf9\\xfe\\xfd\\xf8\\xf7\\x00\\x0f\\x1d\\x1d\\x13\\x0c\\x0b\\x0c\\x08\\xfe\\xf1\\x00\\x00\\x00\\x00\\x00',\n",
       " b'\\x00\\x01&V',\n",
       " b'\\xee\\xfb\\x0c+Tv{[\\x1e\\xe0\\xb1\\xa3\\xb3\\xcf\\xe6\\xed\\xe7\\xe0\\xe6\\xf9\\x0c\\x16\\x13\\x0b\\x04\\x03\\x04\\x01\\xf9\\xf0\\xe8\\xe4\\xe9\\xf6\\x04\\x10\\x15\\x16\\x15\\x13\\x0e\\x02\\xf6\\xea\\xe4\\x00\\x00\\x00\\x00\\x00',\n",
       " b'\\x00\\x01&V',\n",
       " b' $ #8Wj\\\\+\\xee\\xb8\\x9e\\x9e\\xad\\xbe\\xc7\\xc9\\xce\\xdb\\xee\\xfb\\xfd\\xf7\\xf4\\xf7\\xfd\\xfe\\xf8\\xee\\xdf\\xce\\xc1\\xbe\\xc8\\xdf\\xf7\\x04\\n\\n\\x05\\xff\\xf5\\xed\\xe9\\xed\\x00\\x00\\x00\\x00\\x00',\n",
       " b'\\x00\\x01+\\x16',\n",
       " b'\\x00\\x00\\x00\\x00\\x00\\x00\\x00\\x00\\x00\\x00\\x00\\x00\\x00\\x00\\x00\\x00\\x00\\x00\\x00\\x00\\x00\\x00\\x00\\x00\\x00\\x00\\x00\\x00\\x00\\x00\\x00\\x00\\x00\\x00\\x00\\x00\\x00\\x00\\x00\\x00\\x00\\x00\\x00\\x00\\x00\\x00\\x00\\x00\\x00\\x00',\n",
       " b'\\x00\\x01+\\x16',\n",
       " b'\\x00\\x00\\x00\\x00\\x00\\x00\\x00\\x00\\x00\\x00\\x00\\x00\\x00\\x00\\x00\\x00\\x00\\x00\\x00\\x00\\x00\\x00\\x00\\x00\\x00\\x00\\x00\\x00\\x00\\x00\\x00\\x00\\x00\\x00\\x00\\x00\\x00\\x00\\x00\\x00\\x00\\x00\\x00\\x00\\x00\\x00\\x00\\x00\\x00\\x00',\n",
       " b'\\x00\\x01+\\x16',\n",
       " b'\\x00\\x00\\x00\\x00\\x00\\x00\\x00\\x00\\x00\\x00\\x00\\x00\\x00\\x00\\x00\\x00\\x00\\x00\\x00\\x00\\x00\\x00\\x00\\x00\\x00\\x00\\x00\\x00\\x00\\x00\\x00\\x00\\x00\\x00\\x00\\x00\\x00\\x00\\x00\\x00\\x00\\x00\\x00\\x00\\x00\\x00\\x00\\x00\\x00\\x00',\n",
       " b'\\x00\\x01+\\x16',\n",
       " b'\\x00\\x00\\x00\\x00\\x00\\x00\\x00\\x00\\x00\\x00\\x00\\x00\\x00\\x00\\x00\\x00\\x00\\x00\\x00\\x00\\x00\\x00\\x00\\x00\\x00\\x00\\x00\\x00\\x00\\x00\\x00\\x00\\x00\\x00\\x00\\x00\\x00\\x00\\x00\\x00\\x00\\x00\\x00\\x00\\x00\\x00\\x00\\x00\\x00\\x00',\n",
       " b'\\x00\\x01-\\xa8',\n",
       " b'\\xf6\\xfc\\x0c*?:\\x1a\\xf2\\xd3\\xd0\\xe3\\xf7\\x00\\x00\\xf9\\xed\\xe3\\xe7\\xf7\\x05\\n\\x01\\xf2\\xe2\\xd9\\xd6\\xdb\\xe6\\xf2\\xfb\\xfb\\xf8\\xf8\\xfc\\x01\\t\\n\\x04\\xfd\\xf9\\xfe\\x08\\x17$-\\x00\\x00\\x00\\x00\\x00',\n",
       " b'\\x00\\x01-\\xa8',\n",
       " b'\\x05\\x11#8IO>\\x17\\xea\\xcc\\xcb\\xe1\\xf9\\x05\\x08\\x03\\xfe\\xf8\\xfb\\x05\\x13\\x18\\x0e\\x00\\xf7\\xf2\\xf0\\xf0\\xf0\\xef\\xef\\xf5\\xfe\\x03\\x07\\x0b\\x15\\x1f$!\\x1c\\x1a\\x1d\\x1c\\x18\\x00\\x00\\x00\\x00\\x00',\n",
       " b'\\x00\\x01-\\xa8',\n",
       " b'\\xfd\\x08\\x1d8G?\\x1d\\xf4\\xd7\\xd6\\xe7\\xf9\\x02\\x02\\xf9\\xea\\xe0\\xe4\\xf6\\x05\\n\\x01\\xf6\\xea\\xe3\\xe1\\xe4\\xea\\xf2\\xfc\\x04\\x10\\x18\\x1c &)$\\x16\\x08\\x00\\xff\\x04\\x10\\x1d\\x00\\x00\\x00\\x00\\x00',\n",
       " b'\\x00\\x01-\\xa8',\n",
       " b'\\xf4\\x02\\x195H?\\x1c\\xef\\xcf\\xcd\\xe0\\xf5\\x00\\xff\\xf7\\xea\\xe0\\xdd\\xe4\\xea\\xe7\\xdd\\xd6\\xd5\\xdb\\xe7\\xf5\\xff\\x02\\x01\\x01\\x07\\x0c\\x13\\x1c&,%\\x12\\xff\\xf2\\xf2\\xfb\\x07\\x19\\x00\\x00\\x00\\x00\\x00',\n",
       " b'\\x00\\x011\\x18',\n",
       " b'\\n\\x13\\x1e.@I;\\x18\\xeb\\xc5\\xb3\\xb9\\xcd\\xdd\\xe2\\xe2\\xe3\\xeb\\xf9\\x07\\x15\\x1d\\x1a\\x0f\\xfe\\xe8\\xd5\\xce\\xd2\\xdf\\xf0\\xfe\\x03\\x04\\x01\\xfb\\xf2\\xeb\\xe9\\xee\\xf7\\x00\\x02\\x00\\xfc\\x00\\x00\\x00\\x00\\x00',\n",
       " b'\\x00\\x011\\x18',\n",
       " b'\\xff\\x07\\x180Poy`,\\xf1\\xc4\\xb1\\xb9\\xcf\\xe3\\xea\\xeb\\xef\\xf7\\xfd\\xff\\x00\\x03\\x05\\x03\\xfc\\xeb\\xdd\\xdb\\xe3\\xf1\\xfd\\xfe\\xf7\\xee\\xe9\\xea\\xf1\\xf9\\x00\\x03\\x03\\x00\\xfc\\xf4\\x00\\x00\\x00\\x00\\x00',\n",
       " b'\\x00\\x011\\x18',\n",
       " b'\\xfc\\x05\\x183MS:\\x0c\\xdc\\xb5\\xa6\\xb0\\xc9\\xe3\\xf5\\xfe\\x01\\x02\\x02\\x04\\x0c\\x18\\x1f\\x1e\\x11\\xff\\xee\\xe6\\xe8\\xf0\\xf8\\xfb\\xf6\\xf0\\xeb\\xe9\\xe8\\xe7\\xe9\\xed\\xf0\\xf4\\xf8\\xfb\\xfb\\x00\\x00\\x00\\x00\\x00',\n",
       " b'\\x00\\x011\\x18',\n",
       " b'\\xff\\x03\\x0e&FTB\\x16\\xe7\\xbf\\xae\\xb7\\xd0\\xea\\xf2\\xea\\xe0\\xe1\\xee\\x00\\x0e\\x17\\x19\\x10\\xfd\\xe3\\xd0\\xcb\\xd2\\xdd\\xeb\\xf4\\xf2\\xed\\xea\\xea\\xe9\\xe4\\xe0\\xe0\\xe6\\xee\\xf6\\xfd\\x01\\x00\\x00\\x00\\x00\\x00',\n",
       " b'\\x00\\x012&',\n",
       " b'\\x00\\x00\\x00\\x00\\x00\\x00\\x00\\x00\\x02\\x0f\\x15\\x13\\x12\\x15\\x18\\x19\\x1a\\x18\\x15\\x12\\x11\\x0e\\x03\\xf9\\xf4\\xf9\\x07\\x16\\x1d\\x1d\\x1e!#\\x1a\\x0e\\x02\\xfb\\xf4\\xe9\\xdd\\xd7\\xda\\xe1\\xe3\\xe2\\xe1\\xe7\\xf7\\t\\x17',\n",
       " b'\\x00\\x012&',\n",
       " b'\\x00\\x00\\x00\\x00\\x00\\x00\\x00\\x00\\xcb\\xc7\\xd2\\xe6\\xf7\\x05\\x19.?GC;0#\\x12\\xfe\\xe8\\xdb\\xe1\\xf7\\x0e\\x1e#\\x1f\\x19\\x11\\t\\x01\\x00\\xfe\\xf9\\xf1\\xe9\\xe7\\xeb\\xf1\\xf5\\xf0\\xe6\\xdd\\xe1\\xf0',\n",
       " b'\\x00\\x012&',\n",
       " b'\\x00\\x00\\x00\\x00\\x00\\x00\\x00\\x00\\xf2\\xee\\xf2\\xff\\x0c\\x1d+34.#\\x16\\x0c\\x04\\xfd\\xf6\\xf6\\x00\\x11\\x1f#\\x1f\\x1c\\x19\\x16\\x0f\\x08\\x03\\x00\\xf9\\xed\\xdf\\xd7\\xd9\\xdf\\xe7\\xed\\xf1\\xf6\\xf9\\xfd\\xff',\n",
       " b'\\x00\\x012&',\n",
       " b\"\\x00\\x00\\x00\\x00\\x00\\x00\\x00\\x00\\x03\\x00\\xfc\\xfb\\x00\\x0c\\x17\\x1a\\x18\\x16\\x18\\x1e&'\\x1e\\x12\\x0e\\x0f\\x0f\\n\\x02\\x00\\x07\\x16%*$\\x19\\x0f\\x04\\xfb\\xed\\xe6\\xe9\\xf1\\xf7\\xfb\\xff\\x08\\x17&,\",\n",
       " b'\\x00\\x017\\xcc',\n",
       " b'\\x00\\xf8\\xe4\\xc9\\xb4\\xac\\xb3\\xc4\\xd9\\xea\\xf4\\xf0\\xe4\\x00\\x00\\x00\\x00\\x00\\x00\\x00\\x00\\x00\\x00\\x00\\x00\\x00\\x00\\x00\\x00\\x00\\x00\\x00\\x00\\x00\\x00\\x00\\x00\\x00\\x00\\x00\\x00\\x00\\x00\\x00\\x00\\x00\\x00\\x00\\x00\\x00',\n",
       " b'\\x00\\x017\\xcc',\n",
       " b'\\xfe\\x02\\x03\\xff\\xf4\\xe4\\xda\\xd5\\xd7\\xdf\\xe9\\xf1\\xf0\\x00\\x00\\x00\\x00\\x00\\x00\\x00\\x00\\x00\\x00\\x00\\x00\\x00\\x00\\x00\\x00\\x00\\x00\\x00\\x00\\x00\\x00\\x00\\x00\\x00\\x00\\x00\\x00\\x00\\x00\\x00\\x00\\x00\\x00\\x00\\x00\\x00',\n",
       " b'\\x00\\x017\\xcc',\n",
       " b'\\xf7\\xf4\\xef\\xea\\xe4\\xe0\\xda\\xd2\\xcc\\xcc\\xcf\\xd4\\xda\\x00\\x00\\x00\\x00\\x00\\x00\\x00\\x00\\x00\\x00\\x00\\x00\\x00\\x00\\x00\\x00\\x00\\x00\\x00\\x00\\x00\\x00\\x00\\x00\\x00\\x00\\x00\\x00\\x00\\x00\\x00\\x00\\x00\\x00\\x00\\x00\\x00',\n",
       " b'\\x00\\x017\\xcc',\n",
       " b'\\xcf\\xcd\\xcf\\xd2\\xd6\\xda\\xdc\\xdf\\xe2\\xe6\\xe9\\xeb\\xea\\x00\\x00\\x00\\x00\\x00\\x00\\x00\\x00\\x00\\x00\\x00\\x00\\x00\\x00\\x00\\x00\\x00\\x00\\x00\\x00\\x00\\x00\\x00\\x00\\x00\\x00\\x00\\x00\\x00\\x00\\x00\\x00\\x00\\x00\\x00\\x00\\x00',\n",
       " b'\\x00\\x01:\\xbe',\n",
       " b'8!\\x11\\x12$8<0\\x18\\x01\\xf4\\xed\\xee\\xf5\\xfc\\x01\\x08\\x0f\\x12\\x13\\x15\\x16\\x15\\x10\\x0b\\n\\x11 \\x00\\x00\\x00\\x00\\x00\\x00\\x00\\x00\\x00\\x00\\x00\\x00\\x00\\x00\\x00\\x00\\x00\\x00\\x00\\x00\\x00\\x00',\n",
       " b'\\x00\\x01:\\xbe',\n",
       " b'\\x00\\x07\\x03\\xfb\\xf5\\xf6\\xf9\\xf8\\xf0\\xe2\\xd5\\xd0\\xd3\\xda\\xe0\\xe4\\xeb\\xf8\\x05\\x0e\\x0e\\x0c\\x11\\x19\\x1e\\x1d\\x17\\x11\\x00\\x00\\x00\\x00\\x00\\x00\\x00\\x00\\x00\\x00\\x00\\x00\\x00\\x00\\x00\\x00\\x00\\x00\\x00\\x00\\x00\\x00',\n",
       " b'\\x00\\x01:\\xbe',\n",
       " b\"\\x10\\x07\\xf5\\xe3\\xe0\\xe3\\xe7\\xe1\\xd5\\xcd\\xcd\\xd3\\xdd\\xee\\x00\\x13!'#\\x18\\x0e\\x0b\\x0e\\x0e\\t\\x02\\x00\\x05\\x00\\x00\\x00\\x00\\x00\\x00\\x00\\x00\\x00\\x00\\x00\\x00\\x00\\x00\\x00\\x00\\x00\\x00\\x00\\x00\\x00\\x00\",\n",
       " b'\\x00\\x01:\\xbe',\n",
       " b\"\\xe7\\xe2\\xe1\\xe8\\xf8\\x04\\x07\\xff\\xef\\xda\\xc6\\xbb\\xbf\\xce\\xe4\\xfe\\x16'00+$\\x19\\x0c\\x02\\xfe\\x03\\x11\\x00\\x00\\x00\\x00\\x00\\x00\\x00\\x00\\x00\\x00\\x00\\x00\\x00\\x00\\x00\\x00\\x00\\x00\\x00\\x00\\x00\\x00\",\n",
       " b'\\x00\\x01=\\xae',\n",
       " b'\\x00\\x00\\x00\\x00\\x00\\x00\\x00\\x00\\x00\\x00\\x00\\x00\\x00\\x00\\x00\\x00\\x00\\x00\\x00\\x00\\x00\\x00\\x00\\x00\\x00\\x00\\x00\\x00\\x00\\x00\\x00\\x00\\x00\\x00\\x00\\x00\\x00\\x00\\x00\\x00\\x00\\x00\\x00\\x00\\x00\\x00\\x00\\x00\\x00\\x00',\n",
       " b'\\x00\\x01=\\xae',\n",
       " b'\\x00\\x00\\x00\\x00\\x00\\x00\\x00\\x00\\x00\\x00\\x00\\x00\\x00\\x00\\x00\\x00\\x00\\x00\\x00\\x00\\x00\\x00\\x00\\x00\\x00\\x00\\x00\\x00\\x00\\x00\\x00\\x00\\x00\\x00\\x00\\x00\\x00\\x00\\x00\\x00\\x00\\x00\\x00\\x00\\x00\\x00\\x00\\x00\\x00\\x00',\n",
       " b'\\x00\\x01=\\xae',\n",
       " b'\\x00\\x00\\x00\\x00\\x00\\x00\\x00\\x00\\x00\\x00\\x00\\x00\\x00\\x00\\x00\\x00\\x00\\x00\\x00\\x00\\x00\\x00\\x00\\x00\\x00\\x00\\x00\\x00\\x00\\x00\\x00\\x00\\x00\\x00\\x00\\x00\\x00\\x00\\x00\\x00\\x00\\x00\\x00\\x00\\x00\\x00\\x00\\x00\\x00\\x00',\n",
       " b'\\x00\\x01=\\xae',\n",
       " b'\\x00\\x00\\x00\\x00\\x00\\x00\\x00\\x00\\x00\\x00\\x00\\x00\\x00\\x00\\x00\\x00\\x00\\x00\\x00\\x00\\x00\\x00\\x00\\x00\\x00\\x00\\x00\\x00\\x00\\x00\\x00\\x00\\x00\\x00\\x00\\x00\\x00\\x00\\x00\\x00\\x00\\x00\\x00\\x00\\x00\\x00\\x00\\x00\\x00\\x00',\n",
       " ...]"
      ]
     },
     "execution_count": 152,
     "metadata": {},
     "output_type": "execute_result"
    }
   ],
   "source": [
    "comb_list"
   ]
  },
  {
   "cell_type": "code",
   "execution_count": 292,
   "id": "cfe1527a",
   "metadata": {},
   "outputs": [],
   "source": [
    "assert all(np.frombuffer(comb_list[1::2][0], dtype=np.int8)[0:18] == waveform_dict.get(472)[0][0:18]) # Still correct!"
   ]
  },
  {
   "cell_type": "code",
   "execution_count": 295,
   "id": "c75f5b51",
   "metadata": {},
   "outputs": [
    {
     "name": "stdout",
     "output_type": "stream",
     "text": [
      "/mnt/d/freelance-work/catalyst-neuro/hussaini-lab-to-nwb/sample_bin_to_tint_no_bin/conversion_to_tint/axona_sample.1\n",
      "/mnt/d/freelance-work/catalyst-neuro/hussaini-lab-to-nwb/sample_bin_to_tint_no_bin/conversion_to_tint/axona_sample.set\n"
     ]
    }
   ],
   "source": [
    "print(tetrode_filename)\n",
    "print(set_file_to_tint)\n",
    "\n",
    "with open(tetrode_filename, 'ab') as f:\n",
    "    f.writelines(comb_list)\n",
    "    f.writelines([bytes('\\r\\ndata_end\\r\\n', 'utf-8')])"
   ]
  },
  {
   "cell_type": "code",
   "execution_count": 316,
   "id": "c88678f7",
   "metadata": {},
   "outputs": [
    {
     "data": {
      "text/plain": [
       "memmap([(   944, [  60,   60,   51,   33,   19,   11,    4,   -4,  -18,  -26,  -23,   -8,   -8,   24,   31,   31,   25,   12,   -2,  -14,  -17,  -15,  -14,  -14,   -8,    2,   12,   21,   23,   18,   10,    2,    0,    2,    9,   16,   22,   29,   37,   38,   30,   17,    0,    0,    0,    0,    0,    0,    0,    0]),\n",
       "        (   944, [  60,   70,   70,   55,   31,   11,    0,   -5,  -18,  -36,  -48,  -46,  -36,  -24,  -16,  -10,   -8,   -5,    0,    4,    7,    3,   -7,  -23,  -36,  -36,  -24,   -9,    0,    2,   -2,   -9,  -10,   -3,    4,    9,   10,   15,   23,   29,   29,   25,    0,    0,    0,    0,    0,    0,    0,    0]),\n",
       "        (   944, [  37,   43,   43,   37,   30,   24,   18,    2,  -23,  -52,  -65,  -58,  -36,  -10,    7,   14,   14,   14,   15,   12,    7,    0,   -9,  -16,  -14,   -2,   11,   22,   22,   10,   -5,  -21,  -28,  -24,  -14,    0,   11,   23,   32,   35,   28,   16,    0,    0,    0,    0,    0,    0,    0,    0]),\n",
       "        (   944, [  44,   56,   62,   56,   46,   43,   42,   35,   16,   -2,   -9,    1,   23,   43,   58,   69,   67,   48,   12,  -25,  -53,  -65,  -62,  -46,  -25,   -3,   14,   21,   16,    2,  -15,  -25,  -28,  -22,  -12,   -1,   11,   23,   29,   25,   11,   -3,    0,    0,    0,    0,    0,    0,    0,    0]),\n",
       "        (  1612, [  -9,   -4,    1,    3,    0,  -15,  -39,  -60,  -67,  -57,  -37,  -16,   -2,    2,    4,   10,   18,   25,   30,   30,   33,   26,   16,    4,    4,  -15,  -16,  -12,  -11,  -14,    0,    0,    0,    0,    0,    0,    0,    0,    0,    0,    0,    0,    0,    0,    0,    0,    0,    0,    0,    0]),\n",
       "        (  1612, [ -15,  -12,   -9,   -4,   -2,   -3,  -14,  -35,  -57,  -69,  -67,  -57,  -42,  -28,  -16,   -7,    0,    8,   12,   14,   14,   11,    8,    5,    5,    3,   -1,   -8,  -11,  -14,    0,    0,    0,    0,    0,    0,    0,    0,    0,    0,    0,    0,    0,    0,    0,    0,    0,    0,    0,    0]),\n",
       "        (  1612, [ -26,  -19,   -8,    2,   10,   10,   -1,  -22,  -41,  -49,  -45,  -33,  -21,  -10,   -4,    0,    0,    0,   -3,   -5,   -7,   -8,   -8,   -5,   -5,   -9,  -12,  -16,  -17,  -16,    0,    0,    0,    0,    0,    0,    0,    0,    0,    0,    0,    0,    0,    0,    0,    0,    0,    0,    0,    0]),\n",
       "        (  1612, [ -44,  -23,    0,   23,   41,   42,   22,  -12,  -46,  -59,  -49,  -24,   -4,   -1,  -14,  -28,  -30,  -23,   -9,    2,    7,    1,   -8,  -14,  -15,  -12,  -10,  -10,  -17,  -28,    0,    0,    0,    0,    0,    0,    0,    0,    0,    0,    0,    0,    0,    0,    0,    0,    0,    0,    0,    0]),\n",
       "        (  3158, [ 121, -108, -108, -121,   63,  -76,  106,  106,  106,  106,  -52,   67, -117, -108, -108, -126,  110,   96,   83,   64,   38,    9,  -16,  -31,  -32,  -25,  -21,  -21,  -25,  -28,  -23,  -12,   -2,   -1,  -12,  -12,  -51,  -56,  -46,  -29,   -9,    0,    0,    0,    0,    0,    0,    0,    0,    0]),\n",
       "        (  3158, [  23,   38,   45,   45,   39,   25,    0,  -25,  -44,  -46,  -36,  -17,    1,   17,   30,   37,   39,   39,   41,   41,   36,   26,   14,    0,  -12,  -18,  -18,  -19,  -24,  -29,  -30,  -23,  -14,   -2,    0,   -5,  -17,  -29,  -33,  -33,  -29,    0,    0,    0,    0,    0,    0,    0,    0,    0]),\n",
       "        (  3158, [  78,   90,   97,   99,   97,   80,   44,  -11,  -69, -107, -112,  -84,  -41,    0,   28,   37,   35,   30,   26,   23,   17,    7,   -5,  -17,  -23,  -23,  -22,  -23,  -29,  -32,  -29,  -18,   -9,   -7,  -15,  -30,  -41,  -44,  -39,  -28,  -12,    0,    0,    0,    0,    0,    0,    0,    0,    0]),\n",
       "        (  3158, [ 126, -108, -108, -126,   91,   45,    5,  -19,  -31,  -31,  -25,  -17,  -11,   -7,   -4,    0,    5,   17,   28,   33,   33,   22,    0,  -21,  -35,  -36,  -29,  -23,  -23,  -25,  -22,  -10,    3,    8,   -7,  -37,  -63,  -72,  -62,  -36,   -5,    0,    0,    0,    0,    0,    0,    0,    0,    0]),\n",
       "        (  3276, [   0,   69,   91,   97,   87,   71,   44,  -14, -117,  106,  106,  106,  106,  -11,   90, -114, -108,  125,   86,   46,   21,   14,   18,   18,    7,   -7,  -17,  -21,  -17,  -15,  -14,  -11,   -3,   -3,   18,   24,   21,   14,    7,    0,   -7,  -19,  -31,  -37,    0,    0,    0,    0,    0,    0]),\n",
       "        (  3276, [   0,    8,   18,   24,   23,   15,    3,   -8,  -22,  -36,  -43,  -37,  -22,   -4,    8,   17,   22,   22,   18,   11,    2,   -2,   -1,    0,   -5,  -14,  -15,   -5,    4,    9,    5,    0,   -4,   -5,   -3,    0,    2,    3,    3,    4,    8,    5,   -1,  -11,    0,    0,    0,    0,    0,    0]),\n",
       "        (  3276, [ -16,    0,   17,   31,   36,   32,   22,    9,   -1,   -9,   -9,   -5,    0,    5,   14,   21,   24,   25,   23,   17,   14,   15,   17,   11,    2,   -3,   -5,   -8,  -14,  -25,  -36,  -41,  -36,  -28,  -18,  -12,  -10,  -10,   -8,   -1,    2,   -2,  -12,  -21,    0,    0,    0,    0,    0,    0]),\n",
       "        (  3276, [   7,   22,   36,   45,   45,   25,   -8,  -46,  -65,  -52,  -10,   36,   66,   66,   43,   15,    0,    0,   -2,  -15,  -35,  -44,  -38,  -25,  -17,  -14,  -12,   -9,   -8,  -14,  -19,  -23,  -24,  -24,  -24,  -24,  -24,  -23,  -17,   -8,    0,    0,   -4,  -10,    0,    0,    0,    0,    0,    0]),\n",
       "        (  3646, [   0,    0,    0,   73,   10, -105,  106,  106,  106,  106,  -36,   56,  100,  100,   79,   58,   48,   43,   41,   37,   32,   30,   30,   25,   16,    4,   -3,   -3,    8,   29,   44,   44,   29,    9,   -9,  -30,  -46,  -53,  -56,  -58,  -59,  -56,  -50,  -45,  -46,  -49,  -46,  -33,  -21,  -15]),\n",
       "        (  3646, [   0,    0,    0,   18,    7,   -4,  -21,  -37,  -46,  -45,  -39,  -33,  -26,  -19,  -11,   -2,    5,   10,    4,   -4,  -11,  -10,   -1,    9,   12,    7,    0,   -1,    2,   11,   25,   37,   42,   36,   23,    3,  -14,  -26,  -33,  -39,  -48,  -53,  -53,  -45,  -36,  -31,  -29,  -23,  -10,    4]),\n",
       "        (  3646, [   0,    0,    0,   32,   37,   37,   23,   -3,  -35,  -55,  -55,  -39,  -25,  -18,  -16,  -15,  -16,  -22,  -26,  -29,  -24,  -10,    5,   18,   17,    7,   -5,  -15,   -9,    9,   31,   45,   46,   36,   18,   -1,  -18,  -29,  -36,  -43,  -48,  -45,  -38,  -35,  -36,  -37,  -31,  -18,   -3,    3]),\n",
       "        (  3646, [   0,    0,    0,   25,   23,   21,   14,    1,   -9,  -15,  -12,   -4,    0,    0,   -2,   -4,   -5,  -11,  -18,  -23,  -23,  -16,   -4,    3,    5,    4,    4,    7,   15,   25,   35,   31,   16,   -4,  -21,  -28,  -29,  -30,  -38,  -52,  -62,  -60,  -46,  -30,  -18,  -12,   -2,    9,   17,   12]),\n",
       "        (  3708, [  44,   29,    9,   -9,  -30,  -46,  -53,  -56,  -58,  -59,  -56,  -50,  -45,  -46,  -49,  -46,  -33,  -21,  -15,  -16,  -16,  -11,    0,    0,    0,    0,    0,    0,    0,    0,    0,    0,    0,    0,    0,    0,    0,    0,    0,    0,    0,    0,    0,    0,    0,    0,    0,    0,    0,    0]),\n",
       "        (  3708, [  37,   42,   36,   23,    3,  -14,  -26,  -33,  -39,  -48,  -53,  -53,  -45,  -36,  -31,  -29,  -23,  -10,    4,   14,   15,   14,    0,    0,    0,    0,    0,    0,    0,    0,    0,    0,    0,    0,    0,    0,    0,    0,    0,    0,    0,    0,    0,    0,    0,    0,    0,    0,    0,    0]),\n",
       "        (  3708, [  45,   46,   36,   18,   -1,  -18,  -29,  -36,  -43,  -48,  -45,  -38,  -35,  -36,  -37,  -31,  -18,   -3,    3,    4,    0,   -5,    0,    0,    0,    0,    0,    0,    0,    0,    0,    0,    0,    0,    0,    0,    0,    0,    0,    0,    0,    0,    0,    0,    0,    0,    0,    0,    0,    0]),\n",
       "        (  3708, [  31,   16,   -4,  -21,  -28,  -29,  -30,  -38,  -52,  -62,  -60,  -46,  -30,  -18,  -12,   -2,    9,   17,   12,   -2,  -18,  -25,    0,    0,    0,    0,    0,    0,    0,    0,    0,    0,    0,    0,    0,    0,    0,    0,    0,    0,    0,    0,    0,    0,    0,    0,    0,    0,    0,    0]),\n",
       "        (  4088, [ -35,  -35,  -36,  -36,  -33,  -33,  -35,  -37,  -41,  -42,  -32,  -11,  -11,   23,   21,    4,  -19,  -44,  -57,  -55,  -41,  -22,   -7,    0,    0,    0,    0,    0,    0,    0,    0,    0,    0,    0,    0,    0,    0,    0,    0,    0,    0,    0,    0,    0,    0,    0,    0,    0,    0,    0]),\n",
       "        (  4088, [  10,    3,   -2,   -8,  -11,  -16,  -22,  -29,  -35,  -42,  -48,  -45,  -29,   -8,    8,   15,    9,   -2,  -11,  -12,   -5,   -1,    0,    0,    0,    0,    0,    0,    0,    0,    0,    0,    0,    0,    0,    0,    0,    0,    0,    0,    0,    0,    0,    0,    0,    0,    0,    0,    0,    0]),\n",
       "        (  4088, [ -26,  -24,  -19,  -19,  -26,  -38,  -44,  -42,  -37,  -31,  -21,   -3,   12,   25,   31,   31,   28,   24,   17,    8,   -1,  -10,  -15,    0,    0,    0,    0,    0,    0,    0,    0,    0,    0,    0,    0,    0,    0,    0,    0,    0,    0,    0,    0,    0,    0,    0,    0,    0,    0,    0]),\n",
       "        (  4088, [ -15,  -16,  -23,  -35,  -48,  -58,  -65,  -67,  -66,  -62,  -45,  -16,   18,   44,   49,   35,    9,  -12,  -29,  -32,  -24,  -12,   -2,    0,    0,    0,    0,    0,    0,    0,    0,    0,    0,    0,    0,    0,    0,    0,    0,    0,    0,    0,    0,    0,    0,    0,    0,    0,    0,    0]),\n",
       "        (  4510, [  62,   39,   16,    0,  -10,  -17,  -23,  -24,  -21,  -15,  -14,  -14,  -23,  -28,  -29,  -26,  -26,  -31,  -39,  -43,  -35,  -21,  -10,    0,    0,    0,    0,    0,    0,    0,    0,    0,    0,    0,    0,    0,    0,    0,    0,    0,    0,    0,    0,    0,    0,    0,    0,    0,    0,    0]),\n",
       "        (  4510, [  43,   43,   35,   23,   10,   -1,  -16,  -25,  -23,  -14,   -7,   -9,  -17,  -26,  -33,  -36,  -36,  -35,  -35,  -37,  -37,  -36,  -35,    0,    0,    0,    0,    0,    0,    0,    0,    0,    0,    0,    0,    0,    0,    0,    0,    0,    0,    0,    0,    0,    0,    0,    0,    0,    0,    0]),\n",
       "        (  4510, [  15,    4,   -8,  -22,  -33,  -43,  -48,  -46,  -45,  -49,  -56,  -57,  -48,  -30,  -11,   -1,    0,   -1,   -1,    1,    2,   -5,  -24,    0,    0,    0,    0,    0,    0,    0,    0,    0,    0,    0,    0,    0,    0,    0,    0,    0,    0,    0,    0,    0,    0,    0,    0,    0,    0,    0]),\n",
       "        (  4510, [  36,   15,   -7,  -26,  -41,  -50,  -55,  -53,  -52,  -53,  -56,  -57,  -50,  -36,  -18,   -8,   -7,  -11,  -17,  -16,   -8,    1,    5,    0,    0,    0,    0,    0,    0,    0,    0,    0,    0,    0,    0,    0,    0,    0,    0,    0,    0,    0,    0,    0,    0,    0,    0,    0,    0,    0]),\n",
       "        (  4690, [  17,  -12,  -39,  -51,  -51,  -33,  -24,  -24,  -35,  -43,  -44,  -37,  -30,  -25,  -22,  -21,  -21,  -22,  -24,  -24,  -24,  -23,  -21,  -16,   -8,    3,   18,    0,    0,    0,    0,    0,    0,    0,    0,    0,    0,    0,    0,    0,    0,    0,    0,    0,    0,    0,    0,    0,    0,    0]),\n",
       "        (  4690, [   8,    8,    9,   17,   26,   31,   26,   12,   -1,  -12,  -22,  -24,  -18,   -9,   -4,   -3,   -4,   -8,  -17,  -30,  -41,  -38,  -28,  -16,   -9,   -9,  -12,    0,    0,    0,    0,    0,    0,    0,    0,    0,    0,    0,    0,    0,    0,    0,    0,    0,    0,    0,    0,    0,    0,    0]),\n",
       "        (  4690, [   8,    8,   12,   21,   24,   18,    3,  -15,  -32,  -43,  -43,  -36,  -26,  -18,  -12,   -8,   -7,  -10,  -16,  -24,  -26,  -23,  -15,  -10,  -11,  -15,  -18,    0,    0,    0,    0,    0,    0,    0,    0,    0,    0,    0,    0,    0,    0,    0,    0,    0,    0,    0,    0,    0,    0,    0]),\n",
       "        (  4690, [ -23,   -1,   19,   37,   45,   39,   22,   -4,  -35,  -57,  -66,  -62,  -49,  -36,  -26,  -21,  -17,  -17,  -18,  -21,  -19,  -14,   -7,   -2,   -1,    0,    3,    0,    0,    0,    0,    0,    0,    0,    0,    0,    0,    0,    0,    0,    0,    0,    0,    0,    0,    0,    0,    0,    0,    0]),\n",
       "        (  5284, [  48,   73,   90,   78,   37,  -14,  -50,  -60,  -52,  -39,  -31,  -28,  -30,  -36,  -42,  -43,  -32,  -14,    7,   23,   23,   23,    5,  -19,  -45,  -63,  -63,  -46,  -22,   -1,    8,    9,    3,   -2,  -10,  -25,  -42,  -53,  -53,  -46,  -37,  -25,    0,    0,    0,    0,    0,    0,    0,    0]),\n",
       "        (  5284, [  41,   65,   92,  111,  101,   62,    3,  -49,  -80,  -87,  -78,  -62,  -43,  -29,  -19,  -15,   -9,    3,   21,   35,   41,   36,   22,    4,  -14,  -30,  -39,  -41,  -35,  -24,  -18,  -17,  -18,  -23,  -29,  -38,  -50,  -60,  -63,  -55,  -42,  -28,    0,    0,    0,    0,    0,    0,    0,    0]),\n",
       "        (  5284, [  50,   79,   96,   82,   35,  -22,  -67,  -86,  -83,  -69,  -52,  -38,  -30,  -26,  -24,  -22,  -16,   -5,    0,    4,    7,    7,    4,    0,  -11,  -22,  -28,  -22,   -7,    9,   23,   29,   23,    9,  -11,  -36,  -53,  -58,  -52,  -43,  -36,  -26,    0,    0,    0,    0,    0,    0,    0,    0]),\n",
       "        (  5284, [  71,  101,  123,  111,   59,  -14,  -77, -103,  -94,  -70,  -43,  -24,  -12,   -5,   -2,   -1,    0,    2,    7,   15,   25,   29,   17,   -8,  -45,  -82,  -99,  -92,  -66,  -35,   -9,    4,   10,   10,    1,  -18,  -43,  -62,  -67,  -64,  -53,  -37,    0,    0,    0,    0,    0,    0,    0,    0]),\n",
       "        (  5858, [  49,   26,    4,  -15,  -38,  -62,  -79,  -83,  -70,  -46,  -24,  -12,  -10,  -11,  -14,  -12,   -7,    0,    5,    5,    2,   -1,   -9,  -16,  -15,   -9,    0,    0,    0,    0,    0,    0,    0,    0,    0,    0,    0,    0,    0,    0,    0,    0,    0,    0,    0,    0,    0,    0,    0,    0]),\n",
       "        (  5858, [  19,   11,   -1,  -19,  -35,  -43,  -45,  -49,  -53,  -58,  -57,  -51,  -42,  -28,  -16,   -9,   -7,   -3,    0,    3,    4,    4,    3,   -2,  -14,  -24,    0,    0,    0,    0,    0,    0,    0,    0,    0,    0,    0,    0,    0,    0,    0,    0,    0,    0,    0,    0,    0,    0,    0,    0]),\n",
       "        (  5858, [   7,    1,   -5,  -15,  -25,  -35,  -43,  -49,  -49,  -42,  -31,  -24,  -23,  -22,  -19,  -18,  -14,   -4,    2,    5,    5,    4,   -1,  -12,  -22,  -26,    0,    0,    0,    0,    0,    0,    0,    0,    0,    0,    0,    0,    0,    0,    0,    0,    0,    0,    0,    0,    0,    0,    0,    0]),\n",
       "        (  5858, [  23,   17,    9,    0,  -11,  -28,  -44,  -57,  -63,  -59,  -50,  -37,  -19,   -2,    8,   11,   15,   17,   15,    8,    2,    1,    2,    7,   14,   16,    0,    0,    0,    0,    0,    0,    0,    0,    0,    0,    0,    0,    0,    0,    0,    0,    0,    0,    0,    0,    0,    0,    0,    0]),\n",
       "        (  6264, [  35,   24,   28,   35,   32,   12,   12,  -51,  -77,  -89,  -86,  -76,  -62,  -48,  -37,  -32,  -29,  -26,  -25,  -22,  -11,  -11,   10,    9,    4,    4,    7,    8,    3,   -8,  -23,  -32,  -35,  -32,  -24,  -12,    0,    0,    0,    0,    0,    0,    0,    0,    0,    0,    0,    0,    0,    0]),\n",
       "        (  6264, [  48,   33,   22,   17,   14,    7,   -4,  -23,  -43,  -58,  -66,  -65,  -59,  -49,  -36,  -23,  -12,   -7,   -8,  -12,  -14,   -7,    8,   26,   39,   46,   50,   50,   42,   28,   11,    0,   -8,  -11,  -12,  -14,    0,    0,    0,    0,    0,    0,    0,    0,    0,    0,    0,    0,    0,    0]),\n",
       "        (  6264, [  28,   16,   15,   16,   10,   -2,  -22,  -43,  -62,  -72,  -73,  -69,  -62,  -52,  -37,  -18,    0,    8,    9,    5,    7,   17,   30,   38,   39,   37,   31,   22,    9,   -2,   -8,   -8,   -5,   -8,  -15,  -19,    0,    0,    0,    0,    0,    0,    0,    0,    0,    0,    0,    0,    0,    0]),\n",
       "        (  6264, [  24,    4,   -1,    0,    4,    5,    0,  -14,  -32,  -48,  -57,  -56,  -48,  -35,  -23,  -15,  -10,   -9,  -10,  -11,   -5,    5,   23,   37,   44,   46,   44,   33,   15,    0,   -4,   -3,   -4,  -10,  -16,  -17,    0,    0,    0,    0,    0,    0,    0,    0,    0,    0,    0,    0,    0,    0]),\n",
       "        (  7738, [   0,    0,    0,   67,   64,    0,  123,  123,  106,  106,  106,  106,  105, -108, -108, -110,  110,   79,   60,   52,   52,   57,   57,   44,   22,   -3,  -30,  -51,  -66,  -75,  -76,  -70,  -58,  -42,  -24,   -8,    4,   10,    4,   -7,  -16,  -15,   -2,   10,   10,   23,   23,   23,   24,   24]),\n",
       "        (  7738, [   0,    0,    0,  -32,  -26,  -18,  -16,  -23,  -33,  -37,  -26,   -2,   24,   44,   51,   46,   35,   17,    4,   -4,  -14,  -19,  -18,  -14,  -12,  -16,  -22,  -28,  -32,  -35,  -31,  -24,  -19,  -18,  -19,  -15,   -8,   -1,   -1,   -8,  -18,  -26,  -23,  -11,    2,   18,   30,   38,   41,   35]),\n",
       "        (  7738, [   0,    0,    0,   18,   32,   42,   38,   15,  -22,  -55,  -62,  -42,   -9,   19,   38,   39,   24,    5,  -11,  -30,  -41,  -35,  -21,  -10,   -8,  -12,  -21,  -31,  -37,  -37,  -32,  -28,  -24,  -19,  -10,    1,   12,   16,    7,   -9,  -24,  -28,  -18,   -2,   14,   26,   35,   35,   25,   15]),\n",
       "        (  7738, [   0,    0,    0,   -3,    2,    4,    0,  -14,  -31,  -44,  -41,  -25,   -4,   12,   22,   18,    8,   -2,  -12,  -19,  -19,   -9,    1,    3,   -4,  -21,  -42,  -57,  -63,  -62,  -56,  -50,  -42,  -29,   -8,   14,   31,   35,   23,    0,  -19,  -28,  -23,   -9,    7,   23,   33,   35,   30,   24]),\n",
       "        (  7892, [   1,   14,   15,    7,   -2,   -9,  -11,  -10,   -8,   -7,  -10,  -16,  -22,  -18,  -10,   -3,    0,    5,   15,   26,   26,   41,   38,   32,   25,   16,    2,  -12,  -30,  -43,    0,    0,    0,    0,    0,    0,    0,    0,    0,    0,    0,    0,    0,    0,    0,    0,    0,    0,    0,    0]),\n",
       "        (  7892, [  -7,    2,    9,    4,   -3,   -9,   -7,    0,    5,    4,   -1,   -9,  -16,  -15,   -3,   11,   21,   17,   10,    8,   12,   23,   30,   28,   17,    9,    1,   -9,  -24,  -39,    0,    0,    0,    0,    0,    0,    0,    0,    0,    0,    0,    0,    0,    0,    0,    0,    0,    0,    0,    0]),\n",
       "        (  7892, [   0,    5,    1,   -8,  -18,  -23,  -25,  -25,  -29,  -32,  -38,  -42,  -36,  -19,    0,   10,   10,    7,   10,   19,   29,   31,   26,   19,   16,   16,   16,    9,   -4,  -25,    0,    0,    0,    0,    0,    0,    0,    0,    0,    0,    0,    0,    0,    0,    0,    0,    0,    0,    0,    0]),\n",
       "        (  7892, [  15,   16,   11,    2,   -9,  -25,  -44,  -62,  -67,  -59,  -44,  -29,  -15,    1,   16,   22,   18,   15,   16,   21,   29,   36,   41,   39,   32,   22,    7,  -10,  -24,  -31,    0,    0,    0,    0,    0,    0,    0,    0,    0,    0,    0,    0,    0,    0,    0,    0,    0,    0,    0,    0]),\n",
       "        (  8212, [ 106,  106,  106,  -78,   24,   83,   98,   84,   60,   43,   32,   29,   30,   30,   42,   42,   36,   30,   28,   35,   45,   50,   45,   30,   15,    4,   -5,  -21,  -38,  -50,  -48,  -32,  -10,    8,   21,   24,   21,   16,   10,    3,   -1,   -3,    0,    9,   17,   24,   29,    0,    0,    0]),\n",
       "        (  8212, [  -5,   -8,   -2,    7,   10,    0,  -18,  -33,  -44,  -49,  -51,  -49,  -44,  -32,   -9,   15,   31,   32,   23,   16,   14,   16,   17,   15,   11,    7,    3,   -1,  -12,  -28,  -41,  -48,  -44,  -32,  -15,    2,   19,   30,   31,   24,   12,    0,  -10,  -10,   -7,   -4,   -4,    0,    0,    0]),\n",
       "        (  8212, [  10,   -4,  -15,  -19,  -25,  -36,  -46,  -51,  -50,  -43,  -38,  -33,  -26,  -14,   -1,    3,    0,   -3,   -2,    1,    5,    9,    8,    2,   -3,   -5,   -7,  -14,  -30,  -49,  -58,  -51,  -33,  -14,    2,   15,   21,   21,   18,   15,    8,   -1,   -7,   -8,   -5,   -2,    0,    0,    0,    0]),\n",
       "        (  8212, [ -33,  -30,  -21,  -14,  -19,  -32,  -44,  -49,  -48,  -49,  -55,  -60,  -53,  -31,   -8,    1,    0,   -2,    0,   11,   25,   31,   30,   22,   12,    1,  -12,  -31,  -49,  -57,  -50,  -31,   -9,    7,   18,   23,   21,   16,   10,    7,    3,    4,   12,   21,   28,   30,   30,    0,    0,    0]),\n",
       "        (  9356, [ -49,  -43,  -43,   17,   58,   83,   75,   31,  -25,  -76,  -94,  -82,  -46,   -7,   22,   32,   21,   -1,  -21,  -24,  -11,   -2,   -7,   -7,  -35,  -43,  -39,  -39,   -5,    7,    9,    2,   -9,  -25,  -42,  -51,  -49,  -32,  -32,   -5,   -2,   -1,   -1,    0,    2,    0,    0,    0,    0,    0]),\n",
       "        (  9356, [ -30,  -39,  -29,   -3,   30,   70,   96,   84,   36,  -28,  -83, -106, -101,  -77,  -48,  -22,   -3,    3,    2,   -1,    1,   11,   21,   18,    3,  -15,  -30,  -35,  -29,  -17,   -8,   -2,    0,   -3,  -10,  -21,  -31,  -36,  -30,  -19,  -12,  -11,  -14,  -11,   -7,    0,    0,    0,    0,    0]),\n",
       "        (  9356, [ -42,  -22,    5,   42,   79,   99,   83,   28,  -45, -110,  119, -125,  -87,  -43,   -7,   12,   15,    4,   -4,   -8,   -3,   -1,   -2,   -7,  -12,  -18,  -18,  -11,   -1,    9,   16,   14,    2,  -12,  -29,  -37,  -33,  -22,   -9,    0,    2,    2,    1,    2,    7,    0,    0,    0,    0,    0]),\n",
       "        (  9356, [  -1,   10,   30,   53,   76,   80,   51,  -10,  -84,  119,  106, -128,  -80,  -28,   15,   39,   44,   33,   22,   22,   32,   42,   32,    5,  -25,  -44,  -39,  -17,    8,   24,   24,   10,   -9,  -28,  -41,  -48,  -44,  -31,  -15,   -1,    4,    5,    2,   -4,  -11,    0,    0,    0,    0,    0]),\n",
       "        ( 10064, [  64,   98,  113,   97,   59,   17,  -16,  -38,  -42,  -36,  -30,  -25,  -18,   -5,    9,   18,   18,   10,    1,   -8,  -16,  -22,  -29,  -37,  -43,  -43,  -36,  -25,  -18,  -19,  -28,  -39,  -50,  -51,  -38,  -19,   -7,   -3,   -5,   -5,   -2,    0,    0,    0,    0,    0,    0,    0,    0,    0]),\n",
       "        ( 10064, [  15,   55,   93,  108,   90,   48,    0,  -44,  -71,  -77,  -67,  -55,  -45,  -36,  -25,  -12,   -3,    0,    1,    2,    3,    2,   -3,  -16,  -29,  -32,  -28,  -17,   -8,   -5,   -9,  -14,  -18,  -24,  -30,  -26,  -18,   -9,   -3,    2,    9,   12,    0,    0,    0,    0,    0,    0,    0,    0]),\n",
       "        ( 10064, [  35,   85,  119,  113,   70,   11,  -33,  -56,  -52,  -35,  -19,  -10,   -4,    1,    8,    9,    2,   -5,  -12,  -14,  -14,  -16,  -26,  -39,  -46,  -44,  -32,  -18,   -8,   -3,   -3,  -10,  -21,  -30,  -29,  -19,  -10,   -5,   -4,   -4,   -2,    0,    0,    0,    0,    0,    0,    0,    0,    0]),\n",
       "        ( 10064, [  46,   96, -126,  126,   87,   32,  -17,  -50,  -58,  -50,  -39,  -33,  -26,  -12,    1,    9,    8,    0,  -11,  -23,  -28,  -30,  -36,  -46,  -53,  -50,  -37,  -15,    8,   24,   23,    0,  -37,  -63,  -62,  -37,   -9,    9,   24,   37,   41,   31,    0,    0,    0,    0,    0,    0,    0,    0]),\n",
       "        ( 11578, [  71,  104,  125, -109, -108, -108, -108, -119,   75,   23,   -3,   -9,   -5,   -7,  -16,  -26,  -30,  -28,  -22,  -14,   -1,   11,   18,   12,   -1,  -19,  -32,  -39,  -38,  -33,  -25,  -15,   -4,    1,    3,    2,   -1,   -5,   -5,    5,   14,   16,    0,    0,    0,    0,    0,    0,    0,    0]),\n",
       "        ( 11578, [  -3,    1,   10,   23,   44,   72,   94,   94,   65,   15,  -28,  -48,  -42,  -25,  -10,   -5,   -7,   -9,   -9,  -12,  -14,   -9,    0,    8,   11,    9,    3,   -2,   -7,  -10,  -11,  -12,   -9,   -4,    0,    2,    3,    2,    1,    7,   18,   29,    0,    0,    0,    0,    0,    0,    0,    0]),\n",
       "        ( 11578, [ -10,    4,   24,   53,   86,  103,   86,   35,  -29,  -76,  -87,  -69,  -38,  -15,   -7,   -7,   -5,   -4,   -8,  -17,  -23,  -25,  -23,  -18,   -5,    8,   18,   15,   -1,  -24,  -43,  -48,  -42,  -32,  -22,  -12,   -9,   -8,   -3,    5,   17,   25,    0,    0,    0,    0,    0,    0,    0,    0]),\n",
       "        ( 11578, [   2,   10,   21,   44,   78,   99,   87,   38,  -23,  -71,  -83,  -59,  -23,    0,    1,   -5,   -9,   -3,    7,   19,   28,   28,   19,    7,   -3,   -5,    0,   10,   15,    1,  -26,  -52,  -64,  -59,  -44,  -24,  -10,   -3,    0,    4,    8,   12,    0,    0,    0,    0,    0,    0,    0,    0]),\n",
       "        ( 11620, [  11,   18,   12,   -1,  -19,  -32,  -39,  -38,  -33,  -25,  -15,   -4,    1,    3,    2,   -1,   -5,   -5,    5,   14,   16,    0,    0,    0,    0,    0,    0,    0,    0,    0,    0,    0,    0,    0,    0,    0,    0,    0,    0,    0,    0,    0,    0,    0,    0,    0,    0,    0,    0,    0]),\n",
       "        ( 11620, [  -9,    0,    8,   11,    9,    3,   -2,   -7,  -10,  -11,  -12,   -9,   -4,    0,    2,    3,    2,    1,    7,   18,   29,    0,    0,    0,    0,    0,    0,    0,    0,    0,    0,    0,    0,    0,    0,    0,    0,    0,    0,    0,    0,    0,    0,    0,    0,    0,    0,    0,    0,    0]),\n",
       "        ( 11620, [ -25,  -23,  -18,   -5,    8,   18,   15,   -1,  -24,  -43,  -48,  -42,  -32,  -22,  -12,   -9,   -8,   -3,    5,   17,   25,    0,    0,    0,    0,    0,    0,    0,    0,    0,    0,    0,    0,    0,    0,    0,    0,    0,    0,    0,    0,    0,    0,    0,    0,    0,    0,    0,    0,    0]),\n",
       "        ( 11620, [  28,   19,    7,   -3,   -5,    0,   10,   15,    1,  -26,  -52,  -64,  -59,  -44,  -24,  -10,   -3,    0,    4,    8,   12,    0,    0,    0,    0,    0,    0,    0,    0,    0,    0,    0,    0,    0,    0,    0,    0,    0,    0,    0,    0,    0,    0,    0,    0,    0,    0,    0,    0,    0]),\n",
       "        ( 11964, [  18,   50,   83,  104,  100,   64,    3,  -59, -101, -112,  -94,  -62,  -28,   -1,   14,   21,   23,   21,   16,   11,    8,    3,   -3,   -9,   -9,  -17,  -17,  -12,   -5,    2,   14,   25,   33,   36,   28,    8,  -14,  -36,  -59,  -85,  -99,  -91,  -57,   -8,   45,   92,  119,  126,  111,   79]),\n",
       "        ( 11964, [   3,   21,   57,   99,  124,  114,   69,    1,  -64, -107, -118, -103,  -72,  -41,  -16,   -3,    0,    1,    1,    1,    1,    3,    4,    2,    0,   -1,    1,    9,   18,   24,   25,   25,   29,   31,   33,   31,   23,   14,   12,   17,   19,   18,   14,   12,   15,   23,   32,   38,   36,   30]),\n",
       "        ( 11964, [  55,   92,  126, -116,  123,   72,    3,  -59,  -99, -108,  -91,  -62,  -35,  -15,   -5,   -1,    0,    0,    0,    0,   -2,   -8,  -15,  -18,  -22,  -28,  -31,  -28,  -22,  -14,   -7,    0,    3,    9,   15,   19,   24,   32,   42,   42,   31,   19,   14,   15,   24,   35,   43,   44,   41,   36]),\n",
       "        ( 11964, [  56,   91,  126, -108, -108,  121,   53,  -21,  -75,  -98,  -97,  -83,  -65,  -45,  -26,   -7,    9,   21,   23,   16,    3,  -12,  -32,  -53,  -76,  -90,  -84,  -62,  -35,  -14,   -2,    1,    3,    5,    5,    1,   -2,   -1,    0,    0,   -9,  -19,  -23,  -16,   -1,   12,   22,   22,   22,   26]),\n",
       "        ( 12112, [ -38,  -31,  -19,  -14,  -12,   -8,    1,   15,   25,   28,   25,   18,   10,    0,    0,    0,    0,    0,    0,    0,    0,    0,    0,    0,    0,    0,    0,    0,    0,    0,    0,    0,    0,    0,    0,    0,    0,    0,    0,    0,    0,    0,    0,    0,    0,    0,    0,    0,    0,    0]),\n",
       "        ( 12112, [  12,    9,    5,    4,    2,    0,   -4,   -9,  -18,  -29,  -32,  -28,  -18,    0,    0,    0,    0,    0,    0,    0,    0,    0,    0,    0,    0,    0,    0,    0,    0,    0,    0,    0,    0,    0,    0,    0,    0,    0,    0,    0,    0,    0,    0,    0,    0,    0,    0,    0,    0,    0]),\n",
       "        ( 12112, [  16,   17,   16,    7,   -4,  -14,  -12,   -8,   -4,   -1,    3,    9,   11,    0,    0,    0,    0,    0,    0,    0,    0,    0,    0,    0,    0,    0,    0,    0,    0,    0,    0,    0,    0,    0,    0,    0,    0,    0,    0,    0,    0,    0,    0,    0,    0,    0,    0,    0,    0,    0]),\n",
       "        ( 12112, [   9,   25,   30,   19,    3,   -9,  -12,  -11,   -7,    1,   14,   24,   31,    0,    0,    0,    0,    0,    0,    0,    0,    0,    0,    0,    0,    0,    0,    0,    0,    0,    0,    0,    0,    0,    0,    0,    0,    0,    0,    0,    0,    0,    0,    0,    0,    0,    0,    0,    0,    0]),\n",
       "        ( 12484, [ -22,  -23,  -17,  -11,  -11,  -23,  -44,  -44,  -87,  -90,  -77,  -56,  -35,  -19,   -7,    0,    0,   -5,  -21,  -39,  -57,  -67,  -66,  -49,  -49,   33,   75,   85,   55,   -3,  -64, -106, -118, -118, -101,  -39,  -16,   -2,    3,    4,    5,   10,   22,   33,   39,   39,   28,   18,   12,   10]),\n",
       "        ( 12484, [ -11,  -21,  -26,  -22,  -11,   -4,   -5,  -15,  -28,  -38,  -41,  -39,  -36,  -35,  -33,  -26,    0,   -3,   -7,  -17,  -28,  -33,  -26,   -9,   15,   52,   99, -117, -109,  113,   52,  -10,  -56,  -75,  -71,  -58,  -45,  -35,  -24,  -12,   -1,    9,   19,   32,   43,   50,   50,   44,   35,   28]),\n",
       "        ( 12484, [  -8,  -11,  -10,   -7,   -4,   -5,  -16,  -35,  -53,  -62,  -58,  -49,  -37,  -29,  -21,  -14,    0,  -11,  -21,  -32,  -43,  -49,  -45,  -26,    9,   60,  106,  123,   98,   39,  -24,  -71,  -85,  -72,  -46,  -18,    2,   16,   26,   39,   52,   64,   66,   62,   52,   41,   31,   26,   25,   28]),\n",
       "        ( 12484, [ -28,  -17,    0,   18,   30,   31,   18,   -9,  -48,  -77,  -85,  -71,  -44,  -11,   14,   29,    0,    5,  -11,  -29,  -44,  -56,  -59,  -48,  -16,   32,   80,   99,   76,   21,  -38,  -79,  -92,  -84,  -62,  -36,  -14,    2,   16,   30,   46,   60,   69,   69,   60,   46,   30,   18,   10,    7]),\n",
       "        ( 12528, [ -66,  -49,  -49,   33,   75,   85,   55,   -3,  -64, -106, -118, -118, -101,  -39,  -16,   -2,    3,    4,    5,   10,   22,   33,   39,   39,   28,   18,   12,   10,   12,   14,   15,   15,   14,   10,    9,   12,   22,   36,   48,   50,   41,   24,    7,   -1,    0,    0,    0,    0,    0,    0]),\n",
       "        ( 12528, [ -26,   -9,   15,   52,   99, -117, -109,  113,   52,  -10,  -56,  -75,  -71,  -58,  -45,  -35,  -24,  -12,   -1,    9,   19,   32,   43,   50,   50,   44,   35,   28,   28,   32,   33,   29,   23,   17,    9,   -1,  -10,   -9,    4,   21,   30,   26,   16,    4,   -2,    0,    0,    0,    0,    0]),\n",
       "        ( 12528, [ -45,  -26,    9,   60,  106,  123,   98,   39,  -24,  -71,  -85,  -72,  -46,  -18,    2,   16,   26,   39,   52,   64,   66,   62,   52,   41,   31,   26,   25,   28,   29,   26,   23,   21,   17,   12,    4,   -4,   -9,   -7,   -2,   -1,   -1,   -1,    2,    5,    7,    0,    0,    0,    0,    0]),\n",
       "        ( 12528, [ -59,  -48,  -16,   32,   80,   99,   76,   21,  -38,  -79,  -92,  -84,  -62,  -36,  -14,    2,   16,   30,   46,   60,   69,   69,   60,   46,   30,   18,   10,    7,    7,    7,    5,    3,    2,    2,    4,    7,   11,   15,   18,   23,   28,   32,   36,   39,   42,    0,    0,    0,    0,    0]),\n",
       "        ( 12820, [   0,    0,    0,    0,    0,    0,    0,    0,    0,    0,    0,    0,    0,    0,    0,    0,    0,    0,    0,    0,    0,    0,    0,    0,    0,    0,    0,    0,    0,    0,    0,    0,    0,    0,    0,    0,    0,    0,    0,    0,    0,    0,    0,    0,    0,    0,    0,    0,    0,    0]),\n",
       "        ( 12820, [   0,    0,    0,    0,    0,    0,    0,    0,    0,    0,    0,    0,    0,    0,    0,    0,    0,    0,    0,    0,    0,    0,    0,    0,    0,    0,    0,    0,    0,    0,    0,    0,    0,    0,    0,    0,    0,    0,    0,    0,    0,    0,    0,    0,    0,    0,    0,    0,    0,    0]),\n",
       "        ( 12820, [   0,    0,    0,    0,    0,    0,    0,    0,    0,    0,    0,    0,    0,    0,    0,    0,    0,    0,    0,    0,    0,    0,    0,    0,    0,    0,    0,    0,    0,    0,    0,    0,    0,    0,    0,    0,    0,    0,    0,    0,    0,    0,    0,    0,    0,    0,    0,    0,    0,    0]),\n",
       "        ( 12820, [   0,    0,    0,    0,    0,    0,    0,    0,    0,    0,    0,    0,    0,    0,    0,    0,    0,    0,    0,    0,    0,    0,    0,    0,    0,    0,    0,    0,    0,    0,    0,    0,    0,    0,    0,    0,    0,    0,    0,    0,    0,    0,    0,    0,    0,    0,    0,    0,    0,    0]),\n",
       "        ( 13398, [   0,    0,    0,    0,    0,    0,   -4,  -12,  -24,  -44,  -65,  -73,  -59,  -22,   37,  111, -108, -108, -110,   63,   63,  -83,  -93,  -66,  -28,   -1,    0,  -17,  -45,  -66,  -72,  -59,  -42,  -29,  -24,  -23,  -23,  -21,  -17,  -15,  -14,  -15,  -10,    1,   15,   24,   28,   28,   16,    7]),\n",
       "        ( 13398, [   0,    0,    0,    0,    0,    0,   -4,   -1,   -1,   -8,  -21,  -30,  -24,   -9,   11,   38,   66,   87,   84,   49,   -8,  -63,  -87,  -75,  -37,    1,   26,   32,   22,    5,   -2,    0,    7,   15,   16,   10,    3,    0,    1,    5,   12,   18,   16,   11,   11,   22,   32,   36,   29,   14]),\n",
       "        ( 13398, [   0,    0,    0,    0,    0,    0,  -11,  -14,  -26,  -45,  -60,  -60,  -46,  -18,   24,   80, -128, -116,  106,   42,  -18,  -48,  -37,   -8,   15,   24,   18,    8,    0,   -5,   -8,  -10,  -14,  -21,  -30,  -38,  -42,  -36,  -22,   -7,    1,    4,    8,   16,   24,   28,   23,   15,    5,    0]),\n",
       "        ( 13398, [   0,    0,    0,    0,    0,    0,  -22,  -19,  -23,  -35,  -50,  -57,  -48,  -16,   36,  103, -108, -108, -116,   59,  -24,  -78,  -85,  -63,  -36,  -21,  -16,  -22,  -31,  -39,  -42,  -39,  -41,  -46,  -52,  -51,  -41,  -24,   -4,   10,   17,   16,   12,   15,   23,   30,   30,   23,   15,   10]),\n",
       "        ( 13422, [ -59,  -22,   37,  111, -108, -108, -110,   63,   63,  -83,  -93,  -66,  -28,   -1,    0,  -17,  -45,  -66,  -72,  -59,  -42,  -29,  -24,  -23,  -23,  -21,  -17,  -15,  -14,  -15,  -10,    1,   15,   24,   28,   28,   16,    7,    2,    3,    5,    5,   -1,  -11,    0,    0,    0,    0,    0,    0]),\n",
       "        ( 13422, [ -24,   -9,   11,   38,   66,   87,   84,   49,   -8,  -63,  -87,  -75,  -37,    1,   26,   32,   22,    5,   -2,    0,    7,   15,   16,   10,    3,    0,    1,    5,   12,   18,   16,   11,   11,   22,   32,   36,   29,   14,   -3,  -18,  -22,  -16,   -5,    0,    0,    0,    0,    0,    0,    0]),\n",
       "        ( 13422, [ -46,  -18,   24,   80, -128, -116,  106,   42,  -18,  -48,  -37,   -8,   15,   24,   18,    8,    0,   -5,   -8,  -10,  -14,  -21,  -30,  -38,  -42,  -36,  -22,   -7,    1,    4,    8,   16,   24,   28,   23,   15,    5,    0,   -1,   -1,   -2,   -7,  -14,  -18,    0,    0,    0,    0,    0,    0]),\n",
       "        ( 13422, [ -48,  -16,   36,  103, -108, -108, -116,   59,  -24,  -78,  -85,  -63,  -36,  -21,  -16,  -22,  -31,  -39,  -42,  -39,  -41,  -46,  -52,  -51,  -41,  -24,   -4,   10,   17,   16,   12,   15,   23,   30,   30,   23,   15,   10,    9,   11,   16,   18,   16,    9,    0,    0,    0,    0,    0,    0]),\n",
       "        ( 13450, [   0,  -17,  -45,  -66,  -72,  -59,  -42,  -29,  -24,  -23,  -23,  -21,  -17,  -15,  -14,  -15,  -10,    1,   15,   24,   28,   28,   16,    7,    2,    3,    5,    5,   -1,  -11,    0,    0,    0,    0,    0,    0,    0,    0,    0,    0,    0,    0,    0,    0,    0,    0,    0,    0,    0,    0]),\n",
       "        ( 13450, [  26,   32,   22,    5,   -2,    0,    7,   15,   16,   10,    3,    0,    1,    5,   12,   18,   16,   11,   11,   22,   32,   36,   29,   14,   -3,  -18,  -22,  -16,   -5,    0,    0,    0,    0,    0,    0,    0,    0,    0,    0,    0,    0,    0,    0,    0,    0,    0,    0,    0,    0,    0]),\n",
       "        ( 13450, [  18,    8,    0,   -5,   -8,  -10,  -14,  -21,  -30,  -38,  -42,  -36,  -22,   -7,    1,    4,    8,   16,   24,   28,   23,   15,    5,    0,   -1,   -1,   -2,   -7,  -14,  -18,    0,    0,    0,    0,    0,    0,    0,    0,    0,    0,    0,    0,    0,    0,    0,    0,    0,    0,    0,    0]),\n",
       "        ( 13450, [ -16,  -22,  -31,  -39,  -42,  -39,  -41,  -46,  -52,  -51,  -41,  -24,   -4,   10,   17,   16,   12,   15,   23,   30,   30,   23,   15,   10,    9,   11,   16,   18,   16,    9,    0,    0,    0,    0,    0,    0,    0,    0,    0,    0,    0,    0,    0,    0,    0,    0,    0,    0,    0,    0]),\n",
       "        ( 13876, [   0,    0,    0,    0,    0,    0,    0,    0,    0,    0,    0,    0,    0,    0,    0,    0,    0,    0,    0,    0,    0,    0,    0,    0,    0,    0,    0,    0,    0,    0,    0,    0,    0,    0,    0,    0,    0,    0,    0,    0,    0,    0,    0,    0,    0,    0,    0,    0,    0,    0]),\n",
       "        ( 13876, [   0,    0,    0,    0,    0,    0,    0,    0,    0,    0,    0,    0,    0,    0,    0,    0,    0,    0,    0,    0,    0,    0,    0,    0,    0,    0,    0,    0,    0,    0,    0,    0,    0,    0,    0,    0,    0,    0,    0,    0,    0,    0,    0,    0,    0,    0,    0,    0,    0,    0]),\n",
       "        ( 13876, [   0,    0,    0,    0,    0,    0,    0,    0,    0,    0,    0,    0,    0,    0,    0,    0,    0,    0,    0,    0,    0,    0,    0,    0,    0,    0,    0,    0,    0,    0,    0,    0,    0,    0,    0,    0,    0,    0,    0,    0,    0,    0,    0,    0,    0,    0,    0,    0,    0,    0]),\n",
       "        ( 13876, [   0,    0,    0,    0,    0,    0,    0,    0,    0,    0,    0,    0,    0,    0,    0,    0,    0,    0,    0,    0,    0,    0,    0,    0,    0,    0,    0,    0,    0,    0,    0,    0,    0,    0,    0,    0,    0,    0,    0,    0,    0,    0,    0,    0,    0,    0,    0,    0,    0,    0]),\n",
       "        ( 14154, [  71,   44,   24,   11,    1,   -5,  -14,  -18,  -21,  -21,  -15,   -4,    0,   -3,  -17,  -32,  -41,  -36,  -22,   -9,  -11,  -26,  -41,  -44,  -37,  -24,  -15,  -18,  -32,  -48,  -55,  -51,  -42,  -33,    0,    0,    0,    0,    0,    0,    0,    0,    0,    0,    0,    0,    0,    0,    0,    0]),\n",
       "        ( 14154, [  17,   -3,  -19,  -29,  -28,  -22,  -16,  -11,  -14,  -23,  -35,  -39,  -35,  -26,  -25,  -30,  -37,  -41,  -38,  -28,  -18,  -16,  -23,  -31,  -38,  -42,  -39,  -33,  -26,  -19,  -12,   -4,    0,    0,    0,    0,    0,    0,    0,    0,    0,    0,    0,    0,    0,    0,    0,    0,    0,    0]),\n",
       "        ( 14154, [   2,  -11,  -16,  -12,   -4,    2,    0,  -11,  -32,  -49,  -55,  -49,  -41,  -39,  -46,  -58,  -65,  -59,  -41,  -19,   -7,   -3,   -4,  -11,  -19,  -24,  -24,  -22,  -18,  -14,   -8,   -3,   -4,  -12,    0,    0,    0,    0,    0,    0,    0,    0,    0,    0,    0,    0,    0,    0,    0,    0]),\n",
       "        ( 14154, [  14,    9,    5,    4,    4,   -2,  -21,  -43,  -58,  -63,  -52,  -31,  -11,   -7,  -17,  -33,  -42,  -41,  -29,  -17,  -11,  -11,  -19,  -31,  -42,  -45,  -39,  -26,  -11,    0,    2,   -4,  -22,  -38,    0,    0,    0,    0,    0,    0,    0,    0,    0,    0,    0,    0,    0,    0,    0,    0]),\n",
       "        ( 14512, [   0,    0,    0,    0,    0,    0,    0,    0,    0,    0,    0,    0,    0,    0,    0,    0,    0,    0,    0,    0,    0,    0,    0,    0,    0,    0,    0,    0,    0,    0,    0,    0,    0,    0,    0,    0,    0,    0,    0,    0,    0,    0,    0,    0,    0,    0,    0,    0,    0,    0]),\n",
       "        ( 14512, [   0,    0,    0,    0,    0,    0,    0,    0,    0,    0,    0,    0,    0,    0,    0,    0,    0,    0,    0,    0,    0,    0,    0,    0,    0,    0,    0,    0,    0,    0,    0,    0,    0,    0,    0,    0,    0,    0,    0,    0,    0,    0,    0,    0,    0,    0,    0,    0,    0,    0]),\n",
       "        ( 14512, [   0,    0,    0,    0,    0,    0,    0,    0,    0,    0,    0,    0,    0,    0,    0,    0,    0,    0,    0,    0,    0,    0,    0,    0,    0,    0,    0,    0,    0,    0,    0,    0,    0,    0,    0,    0,    0,    0,    0,    0,    0,    0,    0,    0,    0,    0,    0,    0,    0,    0]),\n",
       "        ( 14512, [   0,    0,    0,    0,    0,    0,    0,    0,    0,    0,    0,    0,    0,    0,    0,    0,    0,    0,    0,    0,    0,    0,    0,    0,    0,    0,    0,    0,    0,    0,    0,    0,    0,    0,    0,    0,    0,    0,    0,    0,    0,    0,    0,    0,    0,    0,    0,    0,    0,    0]),\n",
       "        ( 14978, [  51,   77,  104,  118,  116,   91,   24,  -99,  106,  106,  106,  106,  -69,   55, -123, -108, -108,  126,  101,   78,   55,   35,   25,   25,   32,   39,   42,   39,   31,   21,    9,   -1,  -11,  -11,  -21,  -14,   -2,    7,    8,    0,  -12,  -24,  -30,    0,    0,    0,    0,    0,    0,    0]),\n",
       "        ( 14978, [  -5,    0,    9,   22,   31,   35,   31,   12,  -16,  -44,  -55,  -45,  -23,   -1,   18,   37,   48,   51,   49,   44,   37,   24,   11,    4,    4,    7,    8,    4,    0,   -7,  -12,  -14,  -12,  -10,   -5,    0,    4,    8,    8,    5,    2,    1,   -3,    0,    0,    0,    0,    0,    0,    0]),\n",
       "        ( 14978, [  11,   28,   43,   53,   57,   57,   56,   48,   26,   -1,  -24,  -32,  -26,  -10,   10,   28,   33,   30,   21,    9,    0,   -5,   -5,   -5,   -5,   -7,   -7,   -5,   -5,   -5,   -9,  -15,  -18,  -17,  -14,   -9,   -2,    5,   11,   10,    2,   -7,  -15,    0,    0,    0,    0,    0,    0,    0]),\n",
       "        ( 14978, [  45,   65,   83,   87,   70,   31,  -11,  -45,  -60,  -55,  -32,   -8,   10,   23,   31,   35,   36,   31,   22,    9,    0,    0,    9,   25,   37,   41,   35,   23,   11,    0,  -14,  -29,  -42,  -49,  -52,  -48,  -37,  -25,  -22,  -28,  -41,  -53,  -62,    0,    0,    0,    0,    0,    0,    0]),\n",
       "        ( 15382, [   8,   26,   53,   85,   99,   77,   21,  -42,  -85,  -97,  -82,  -55,  -26,   -3,   11,   23,   28,   25,   21,   15,    9,    2,   -3,   -8,   -7,   -3,    0,    5,    9,    8,    5,    5,   10,   12,   10,    1,   -9,  -14,  -10,    0,   10,   18,   24,   24,    0,    0,    0,    0,    0,    0]),\n",
       "        ( 15382, [  16,   26,   41,   62,   87,  101,   84,   32,  -28,  -76,  -91,  -76,  -43,   -7,   17,   26,   24,   19,   15,   14,   17,   22,   23,   22,   22,   24,   28,   31,   33,   31,   24,   17,   17,   24,   31,   36,   36,   35,   32,   30,   23,   12,    1,   -5,    0,    0,    0,    0,    0,    0]),\n",
       "        ( 15382, [  19,   37,   64,   94,  106,   82,   23,  -37,  -73,  -72,  -41,    0,   28,   35,   17,   -7,  -23,  -22,   -7,    9,   21,   26,   28,   28,   30,   28,   23,   19,   17,   11,    5,    4,    9,   16,   17,    9,   -4,  -16,  -16,   -5,   10,   26,   31,   26,    0,    0,    0,    0,    0,    0]),\n",
       "        ( 15382, [  10,   31,   56,   80,   90,   69,   22,  -25,  -55,  -57,  -43,  -26,  -17,  -12,   -7,    2,   16,   28,   31,   28,   17,    5,    0,   -1,    0,   -1,   -2,   -1,    0,   -1,   -3,   -3,   -1,    0,    0,   -4,   -7,   -3,    2,    7,    8,    7,    3,    0,    0,    0,    0,    0,    0,    0]),\n",
       "        ( 16118, [   4,   -8,  -17,  -18,  -11,   -2,    1,    0,   -7,  -17,  -28,  -31,  -29,    0,    0,    0,    0,    0,    0,    0,    0,    0,    0,    0,    0,    0,    0,    0,    0,    0,    0,    0,    0,    0,    0,    0,    0,    0,    0,    0,    0,    0,    0,    0,    0,    0,    0,    0,    0,    0]),\n",
       "        ( 16118, [  17,   22,   21,   15,   10,   11,   19,   29,   32,   25,   10,   -7,  -21,    0,    0,    0,    0,    0,    0,    0,    0,    0,    0,    0,    0,    0,    0,    0,    0,    0,    0,    0,    0,    0,    0,    0,    0,    0,    0,    0,    0,    0,    0,    0,    0,    0,    0,    0,    0,    0]),\n",
       "        ( 16118, [   3,    5,    7,    9,   11,   14,   10,   -1,  -18,  -35,  -43,  -42,  -35,    0,    0,    0,    0,    0,    0,    0,    0,    0,    0,    0,    0,    0,    0,    0,    0,    0,    0,    0,    0,    0,    0,    0,    0,    0,    0,    0,    0,    0,    0,    0,    0,    0,    0,    0,    0,    0]),\n",
       "        ( 16118, [  -5,  -21,  -32,  -36,  -29,  -17,   -9,   -9,  -17,  -35,  -55,  -69,  -70,    0,    0,    0,    0,    0,    0,    0,    0,    0,    0,    0,    0,    0,    0,    0,    0,    0,    0,    0,    0,    0,    0,    0,    0,    0,    0,    0,    0,    0,    0,    0,    0,    0,    0,    0,    0,    0]),\n",
       "        ( 16458, [  33,   82,  116,  123,   91,   29,  -43, -101, -127, -117,  -80,  -35,  -35,   23,   24,   11,   -4,  -15,  -18,  -14,   -5,    0,    1,   -1,   -5,  -10,  -12,  -11,   -4,    2,    2,    8,    4,    0,    0,   -4,   -2,    0,    1,    0,   -3,  -10,  -18,    0,    0,    0,    0,    0,    0,    0]),\n",
       "        ( 16458, [  -3,   30,   67,   92,   91,   56,    0,  -57,  -99, -112,  -97,  -64,  -24,    7,   23,   21,    8,   -5,  -17,  -19,  -15,   -8,   -1,    0,   -2,   -7,   -9,   -8,   -5,   -2,    0,    4,   10,   14,   12,    9,    5,    4,    7,    8,   10,   12,   14,    0,    0,    0,    0,    0,    0,    0]),\n",
       "        ( 16458, [  23,   59,   91,   99,   73,   17,  -43,  -85,  -96,  -77,  -44,   -9,   16,   30,   29,   17,    1,  -11,  -21,  -22,  -14,    0,   11,   17,   17,   14,   11,   12,   17,   21,   22,   17,   12,   11,   14,   12,    9,    5,    4,    7,   10,   12,   12,    0,    0,    0,    0,    0,    0,    0]),\n",
       "        ( 16458, [  19,   57,   89,   94,   63,    2,  -63, -107, -119, -100,  -62,  -18,   15,   33,   33,   19,   -4,  -29,  -38,  -28,   -5,   14,   24,   24,   16,    7,    0,    0,   -1,    0,    1,    2,    3,    5,    7,    5,    4,    7,   10,   11,    9,    2,   -5,    0,    0,    0,    0,    0,    0,    0]),\n",
       "        ( 19556, [  33,   57,   57,   72,   57,   31,    5,   -7,   -8,   -5,   -5,   -3,    4,   22,   36,   41,   33,   24,   19,   19,   19,   15,    4,    4,  -21,  -28,  -29,  -28,  -25,  -25,  -26,  -29,  -28,  -23,  -15,   -8,   -2,    2,    5,    8,    5,    3,    2,    0,    0,    0,    0,    0,    0,    0]),\n",
       "        ( 19556, [  38,   37,   37,   41,   45,   44,   30,    9,   -5,  -15,  -19,  -23,  -22,  -14,    0,   12,   19,   22,   21,   18,   14,    7,    0,  -10,  -21,  -31,  -33,  -30,  -28,  -29,  -32,  -32,  -26,  -19,  -14,   -4,    2,    5,    5,    8,   12,   17,   18,    0,    0,    0,    0,    0,    0,    0]),\n",
       "        ( 19556, [  31,   41,   51,   63,   70,   60,   32,   -2,  -31,  -45,  -46,  -39,  -26,   -8,    5,   10,    2,   -9,  -17,  -15,   -2,    7,   12,   12,   10,   10,    8,    0,  -17,  -36,  -50,  -53,  -49,  -39,  -26,  -14,   -4,    0,    3,    8,   11,   12,   11,    0,    0,    0,    0,    0,    0,    0]),\n",
       "        ( 19556, [  45,   75,   94,  108,  117,  107,   77,   37,    2,  -18,  -30,  -32,  -25,  -10,    3,    9,    4,   -3,  -14,  -18,  -18,  -12,   -5,   -1,    0,    0,   -1,   -5,  -15,  -25,  -35,  -37,  -33,  -28,  -22,  -19,  -19,  -15,   -2,   14,   26,   31,   25,    0,    0,    0,    0,    0,    0,    0]),\n",
       "        ( 19598, [  15,    4,    4,  -21,  -28,  -29,  -28,  -25,  -25,  -26,  -29,  -28,  -23,  -15,   -8,   -2,    2,    5,    8,    5,    3,    2,    0,    0,    0,    0,    0,    0,    0,    0,    0,    0,    0,    0,    0,    0,    0,    0,    0,    0,    0,    0,    0,    0,    0,    0,    0,    0,    0,    0]),\n",
       "        ( 19598, [   7,    0,  -10,  -21,  -31,  -33,  -30,  -28,  -29,  -32,  -32,  -26,  -19,  -14,   -4,    2,    5,    5,    8,   12,   17,   18,    0,    0,    0,    0,    0,    0,    0,    0,    0,    0,    0,    0,    0,    0,    0,    0,    0,    0,    0,    0,    0,    0,    0,    0,    0,    0,    0,    0]),\n",
       "        ( 19598, [   7,   12,   12,   10,   10,    8,    0,  -17,  -36,  -50,  -53,  -49,  -39,  -26,  -14,   -4,    0,    3,    8,   11,   12,   11,    0,    0,    0,    0,    0,    0,    0,    0,    0,    0,    0,    0,    0,    0,    0,    0,    0,    0,    0,    0,    0,    0,    0,    0,    0,    0,    0,    0]),\n",
       "        ( 19598, [ -12,   -5,   -1,    0,    0,   -1,   -5,  -15,  -25,  -35,  -37,  -33,  -28,  -22,  -19,  -19,  -15,   -2,   14,   26,   31,   25,    0,    0,    0,    0,    0,    0,    0,    0,    0,    0,    0,    0,    0,    0,    0,    0,    0,    0,    0,    0,    0,    0,    0,    0,    0,    0,    0,    0]),\n",
       "        ( 20444, [  18,   29,   52,   79,   90,   67,   23,  -21,  -49,  -51,  -36,  -17,   -2,    5,    9,    8,    3,    1,    0,   -2,  -10,  -18,  -22,  -22,  -23,  -25,  -29,  -36,  -43,  -46,  -43,  -33,  -24,  -24,  -21,  -23,  -19,   -8,    9,   31,   41,   32,    9,  -17,  -43,    0,    0,    0,    0,    0]),\n",
       "        ( 20444, [ -17,  -10,   12,   48,   76,   76,   41,  -10,  -59,  -86,  -87,  -73,  -55,  -38,  -23,  -11,   -3,    0,   -3,  -11,  -21,  -28,  -29,  -21,  -12,   -7,   -7,  -10,  -17,  -24,  -26,  -19,   -9,   -2,   -2,   -4,   -7,   -4,    3,   15,   24,   26,   24,   25,   31,    0,    0,    0,    0,    0]),\n",
       "        ( 20444, [   0,    5,   23,   44,   49,   26,  -15,  -59,  -86,  -90,  -72,  -45,  -19,   -1,    8,   12,   15,   15,   12,   10,    7,    1,   -4,  -12,  -19,  -26,  -38,  -50,  -55,  -50,  -35,  -16,   -4,   -4,  -11,  -14,  -10,   -3,    3,   12,   18,   21,   24,   28,   28,    0,    0,    0,    0,    0]),\n",
       "        ( 20444, [ -29,  -14,   22,   67,   93,   83,   46,    7,  -12,   -8,    7,   19,   24,   23,   17,   10,    4,    3,    3,    3,   -3,  -16,  -28,  -36,  -39,  -44,  -52,  -64,  -71,  -66,  -50,  -29,  -16,  -18,  -29,  -36,  -32,  -22,  -10,    1,    9,   12,   16,   19,   21,    0,    0,    0,    0,    0]),\n",
       "        ( 20478, [   1,    0,   -2,  -10,  -18,  -22,  -22,  -23,  -25,  -29,  -36,  -43,  -46,  -43,  -33,  -24,  -24,  -21,  -23,  -19,   -8,    9,   31,   41,   32,    9,  -17,  -43,    0,    0,    0,    0,    0,    0,    0,    0,    0,    0,    0,    0,    0,    0,    0,    0,    0,    0,    0,    0,    0,    0]),\n",
       "        ( 20478, [   0,   -3,  -11,  -21,  -28,  -29,  -21,  -12,   -7,   -7,  -10,  -17,  -24,  -26,  -19,   -9,   -2,   -2,   -4,   -7,   -4,    3,   15,   24,   26,   24,   25,   31,    0,    0,    0,    0,    0,    0,    0,    0,    0,    0,    0,    0,    0,    0,    0,    0,    0,    0,    0,    0,    0,    0]),\n",
       "        ( 20478, [  15,   12,   10,    7,    1,   -4,  -12,  -19,  -26,  -38,  -50,  -55,  -50,  -35,  -16,   -4,   -4,  -11,  -14,  -10,   -3,    3,   12,   18,   21,   24,   28,   28,    0,    0,    0,    0,    0,    0,    0,    0,    0,    0,    0,    0,    0,    0,    0,    0,    0,    0,    0,    0,    0,    0]),\n",
       "        ( 20478, [   3,    3,    3,   -3,  -16,  -28,  -36,  -39,  -44,  -52,  -64,  -71,  -66,  -50,  -29,  -16,  -18,  -29,  -36,  -32,  -22,  -10,    1,    9,   12,   16,   19,   21,    0,    0,    0,    0,    0,    0,    0,    0,    0,    0,    0,    0,    0,    0,    0,    0,    0,    0,    0,    0,    0,    0]),\n",
       "        ( 21444, [   0,    0,    0,    0,    0,    0,    0,    0,    0,    0,    0,    0,    0,    0,    0,    0,    0,    0,    0,    0,    0,    0,    0,    0,    0,    0,    0,    0,    0,    0,    0,    0,    0,    0,    0,    0,    0,    0,    0,    0,    0,    0,    0,    0,    0,    0,    0,    0,    0,    0]),\n",
       "        ( 21444, [   0,    0,    0,    0,    0,    0,    0,    0,    0,    0,    0,    0,    0,    0,    0,    0,    0,    0,    0,    0,    0,    0,    0,    0,    0,    0,    0,    0,    0,    0,    0,    0,    0,    0,    0,    0,    0,    0,    0,    0,    0,    0,    0,    0,    0,    0,    0,    0,    0,    0]),\n",
       "        ( 21444, [   0,    0,    0,    0,    0,    0,    0,    0,    0,    0,    0,    0,    0,    0,    0,    0,    0,    0,    0,    0,    0,    0,    0,    0,    0,    0,    0,    0,    0,    0,    0,    0,    0,    0,    0,    0,    0,    0,    0,    0,    0,    0,    0,    0,    0,    0,    0,    0,    0,    0]),\n",
       "        ( 21444, [   0,    0,    0,    0,    0,    0,    0,    0,    0,    0,    0,    0,    0,    0,    0,    0,    0,    0,    0,    0,    0,    0,    0,    0,    0,    0,    0,    0,    0,    0,    0,    0,    0,    0,    0,    0,    0,    0,    0,    0,    0,    0,    0,    0,    0,    0,    0,    0,    0,    0]),\n",
       "        ( 22122, [   0,    0,    0,    0,    0,  -55,  -76, -103,  124,  109,  124,  -80,   -7,   62,  110,  126,  124,  117,  108,  100,   90,   76,   59,   36,    8,   -9,  -10,   -2,    3,    5,    4,    4,    4,    4,   -1,  -14,  -29,  -42,  -48,  -44,  -33,  -21,  -11,   -8,   -9,  -11,  -12,  -15,  -23,  -35]),\n",
       "        ( 22122, [   0,    0,    0,    0,    0,  -32,  -38,  -38,  -37,  -39,  -44,  -46,  -38,  -24,   -8,    4,   14,   19,   24,   28,   31,   33,   39,   44,   41,   28,   15,   10,   11,   12,   15,   18,   19,   19,   16,    9,    0,  -10,  -18,  -21,  -17,  -12,   -9,   -8,   -8,   -9,   -7,    0,    4,    5]),\n",
       "        ( 22122, [   0,    0,    0,    0,    0,  -36,  -45,  -42,  -35,  -35,  -43,  -50,  -48,  -38,  -25,   -8,   12,   35,   51,   58,   62,   65,   66,   60,   43,   23,   10,    4,    3,    2,    1,    2,    7,   11,    9,   -1,  -16,  -28,  -32,  -28,  -16,   -1,    8,   10,    9,    9,    7,    1,   -7,  -19]),\n",
       "        ( 22122, [   0,    0,    0,    0,    0,  -45,  -52,  -56,  -57,  -58,  -59,  -57,  -49,  -41,  -31,  -19,   -4,   10,   21,   28,   32,   32,   29,   21,   10,    5,   11,   22,   30,   36,   42,   45,   45,   33,    9,  -17,  -32,  -26,   -7,   10,   18,   18,   14,    7,    4,    4,    4,    0,   -9,  -21]),\n",
       "        ( 22206, [ -11,   -8,   -9,  -11,  -12,  -15,  -23,  -35,  -46,  -53,  -49,  -36,  -21,    0,    0,    0,    0,    0,    0,    0,    0,    0,    0,    0,    0,    0,    0,    0,    0,    0,    0,    0,    0,    0,    0,    0,    0,    0,    0,    0,    0,    0,    0,    0,    0,    0,    0,    0,    0,    0]),\n",
       "        ( 22206, [  -9,   -8,   -8,   -9,   -7,    0,    4,    5,    0,   -9,  -15,  -16,  -14,    0,    0,    0,    0,    0,    0,    0,    0,    0,    0,    0,    0,    0,    0,    0,    0,    0,    0,    0,    0,    0,    0,    0,    0,    0,    0,    0,    0,    0,    0,    0,    0,    0,    0,    0,    0,    0]),\n",
       "        ( 22206, [   8,   10,    9,    9,    7,    1,   -7,  -19,  -35,  -45,  -48,  -43,  -36,    0,    0,    0,    0,    0,    0,    0,    0,    0,    0,    0,    0,    0,    0,    0,    0,    0,    0,    0,    0,    0,    0,    0,    0,    0,    0,    0,    0,    0,    0,    0,    0,    0,    0,    0,    0,    0]),\n",
       "        ( 22206, [  14,    7,    4,    4,    4,    0,   -9,  -21,  -33,  -46,  -53,  -49,  -37,    0,    0,    0,    0,    0,    0,    0,    0,    0,    0,    0,    0,    0,    0,    0,    0,    0,    0,    0,    0,    0,    0,    0,    0,    0,    0,    0,    0,    0,    0,    0,    0,    0,    0,    0,    0,    0]),\n",
       "        ( 23892, [   0,    0,    0,    0,    0,    0,    0,    0,  -55,  -48,  -44,  -43,  -41,  -33,  -17,    9,   50,   93,  116,   97,   38,  -30,  -84, -100,  -83,  -50,  -18,    1,   10,   11,    8,    8,   15,   26,   36,   36,   25,   25,    2,    2,    5,    3,   -4,  -22,  -41,  -49,  -43,  -31,  -24,  -24]),\n",
       "        ( 23892, [   0,    0,    0,    0,    0,    0,    0,    0,  -16,  -18,  -14,  -14,  -17,  -23,  -25,  -18,    2,   39,   82,  104,   89,   38,  -22,  -72,  -94,  -90,  -66,  -37,  -11,    7,   15,   12,    7,    2,    0,    0,   -1,   -7,  -11,   -8,    0,    4,    5,    4,    2,    0,    2,    5,    5,   -2]),\n",
       "        ( 23892, [   0,    0,    0,    0,    0,    0,    0,    0,  -62,  -60,  -58,  -52,  -44,  -32,  -17,    8,   50,   94,  118,  101,   51,   -9,  -56,  -77,  -73,  -53,  -28,   -4,    8,   12,    9,    2,    0,    0,    5,    5,    0,  -10,  -19,  -22,  -18,  -15,  -14,  -12,   -9,   -4,    4,   12,   12,    5]),\n",
       "        ( 23892, [   0,    0,    0,    0,    0,    0,    0,    0,  -24,  -24,  -26,  -28,  -24,  -14,   -1,   18,   52,   92,  112,   92,   36,  -26,  -71,  -82,  -65,  -35,   -4,    7,   -2,  -26,  -48,  -52,  -35,   -1,   29,   45,   39,   16,  -12,  -42,  -65,  -78,  -76,  -59,  -33,   -5,   16,   25,   23,   16]),\n",
       "        ( 23922, [   9,   50,   93,  116,   97,   38,  -30,  -84, -100,  -83,  -50,  -18,    1,   10,   11,    8,    8,   15,   26,   36,   36,   25,   25,    2,    2,    5,    3,   -4,  -22,  -41,  -49,  -43,  -31,  -24,  -24,  -25,  -19,   -9,    1,    9,   11,    7,    0,    0,    0,    0,    0,    0,    0,    0]),\n",
       "        ( 23922, [ -18,    2,   39,   82,  104,   89,   38,  -22,  -72,  -94,  -90,  -66,  -37,  -11,    7,   15,   12,    7,    2,    0,    0,   -1,   -7,  -11,   -8,    0,    4,    5,    4,    2,    0,    2,    5,    5,   -2,  -18,  -32,  -37,  -37,  -38,  -41,  -42,  -39,    0,    0,    0,    0,    0,    0,    0]),\n",
       "        ( 23922, [   8,   50,   94,  118,  101,   51,   -9,  -56,  -77,  -73,  -53,  -28,   -4,    8,   12,    9,    2,    0,    0,    5,    5,    0,  -10,  -19,  -22,  -18,  -15,  -14,  -12,   -9,   -4,    4,   12,   12,    5,    0,   -3,   -9,  -23,  -42,  -55,  -53,  -38,    0,    0,    0,    0,    0,    0,    0]),\n",
       "        ( 23922, [  18,   52,   92,  112,   92,   36,  -26,  -71,  -82,  -65,  -35,   -4,    7,   -2,  -26,  -48,  -52,  -35,   -1,   29,   45,   39,   16,  -12,  -42,  -65,  -78,  -76,  -59,  -33,   -5,   16,   25,   23,   16,   12,   12,   16,   18,   16,   10,    0,  -11,    0,    0,    0,    0,    0,    0,    0]),\n",
       "        ( 25406, [  29,   29,   28,   21,    4,  -16,  -36,  -46,  -48,  -42,  -28,   -9,   11,   29,   36,   31,   18,    2,  -12,  -23,  -24,  -17,   -9,    0,    0,    0,    0,    0,    0,    0,    0,    0,    0,    0,    0,    0,    0,    0,    0,    0,    0,    0,    0,    0,    0,    0,    0,    0,    0,    0]),\n",
       "        ( 25406, [  17,   12,    5,    0,   -5,  -12,  -22,  -31,  -35,  -35,  -32,  -26,  -16,   -2,   12,   26,   30,   19,   -3,  -31,  -53,  -57,  -45,    0,    0,    0,    0,    0,    0,    0,    0,    0,    0,    0,    0,    0,    0,    0,    0,    0,    0,    0,    0,    0,    0,    0,    0,    0,    0,    0]),\n",
       "        ( 25406, [  23,   26,   29,   26,   16,    0,  -18,  -42,  -69,  -93, -103,  -92,  -64,  -32,   -5,    9,   12,    5,   -3,   -9,   -5,    0,    2,    0,    0,    0,    0,    0,    0,    0,    0,    0,    0,    0,    0,    0,    0,    0,    0,    0,    0,    0,    0,    0,    0,    0,    0,    0,    0,    0]),\n",
       "        ( 25406, [  38,   31,   24,   16,    2,  -11,  -24,  -35,  -45,  -56,  -60,  -53,  -30,   -2,   22,   37,   38,   19,   -9,  -35,  -42,  -29,  -10,    0,    0,    0,    0,    0,    0,    0,    0,    0,    0,    0,    0,    0,    0,    0,    0,    0,    0,    0,    0,    0,    0,    0,    0,    0,    0,    0]),\n",
       "        ( 25538, [   0,    0,    0,    0,    0,    0,  -49,  -93,  106,  106,  106,  106,  -92,    0,   67,  100,  101,   90,   72,   57,   49,   49,   50,   48,   42,   37,   37,   43,   51,   51,   55,   42,   23,    5,   -8,  -21,  -31,  -36,  -33,  -24,   -8,    8,   21,   26,   24,   15,    1,  -11,  -22,  -26]),\n",
       "        ( 25538, [   0,    0,    0,    0,    0,    0,  -36,  -31,  -31,  -36,  -37,  -31,  -19,   -7,    2,    7,    4,    0,    0,    1,    8,   21,   35,   41,   33,   21,   14,   14,   17,   21,   23,   22,   15,    4,   -8,  -23,  -38,  -46,  -44,  -36,  -28,  -19,  -11,   -4,    1,    7,    8,    3,   -3,   -7]),\n",
       "        ( 25538, [   0,    0,    0,    0,    0,    0,    0,  -10,  -29,  -46,  -57,  -56,  -42,  -21,    0,   15,   21,   19,   17,   15,   18,   26,   35,   32,   22,   14,   11,   11,   12,   15,   12,    3,   -8,  -17,  -24,  -35,  -43,  -46,  -44,  -41,  -35,  -28,  -18,   -7,    3,    9,    9,    4,    0,    0]),\n",
       "        ( 25538, [   0,    0,    0,    0,    0,    0,  -10,  -31,  -60,  -90, -104,  -96,  -67,  -30,    0,   12,   14,   11,    8,    5,    8,   17,   29,   38,   41,   42,   48,   58,   66,   66,   55,   32,    7,  -15,  -30,  -41,  -48,  -51,  -53,  -55,  -53,  -51,  -46,  -36,  -18,   -2,    5,    5,    3,    1]),\n",
       "        ( 25786, [ -10,  -24,  -35,  -39,  -36,  -26,  -28,  -49,  -85, -112, -107,  -71,  -23,   11,   26,   26,   22,   21,   22,   24,   30,   36,   38,   32,   17,    1,   -9,  -15,  -15,  -12,  -12,  -16,  -22,  -26,  -24,  -14,    0,   11,   18,   18,   17,   21,   28,   36,   42,   38,   23,   -1,    0,    0]),\n",
       "        ( 25786, [ -12,  -19,  -19,  -10,    2,   19,   44,   66,   67,   39,   -8,  -52,  -73,  -71,  -55,  -39,  -30,  -25,  -22,  -17,  -10,   -2,    7,   18,   26,   26,   15,   -5,  -26,  -38,  -38,  -35,  -33,  -36,  -38,  -38,  -30,  -16,   -1,   10,   16,   19,   19,   17,   12,   10,    8,    0,    0,    0]),\n",
       "        ( 25786, [ -16,  -24,  -23,  -10,   11,   43,   67,   64,   25,  -30,  -75,  -91,  -83,  -64,  -43,  -26,  -14,   -8,   -8,   -9,   -9,   -3,    3,    8,    5,   -1,   -8,  -10,   -9,   -7,   -7,  -11,  -21,  -31,  -33,  -23,   -7,    7,   16,   18,   17,   16,   14,   11,   14,   17,   16,    7,    0,    0]),\n",
       "        ( 25786, [ -60,  -75,  -67,  -41,    0,   48,   89,   98,   70,   16,  -35,  -67,  -75,  -65,  -50,  -35,  -23,  -21,  -23,  -25,  -23,  -14,    0,   16,   24,   23,   17,    7,   -1,   -9,  -14,  -18,  -24,  -30,  -28,  -17,   -3,    8,   12,    9,    1,   -2,    0,    9,   22,   31,   26,   10,    0,    0]),\n",
       "        ( 26172, [  80,  111,  113,   58,  -66,  106,  106,  106,  110,    2,  110, -108, -111,  118,   91,   72,   62,   56,   50,   39,   22,    4,   -8,  -15,  -15,  -10,   -5,   -4,   -2,    1,    7,   11,   14,   10,    1,   -4,  -10,  -17,  -25,  -32,  -37,  -42,    0,    0,    0,    0,    0,    0,    0,    0]),\n",
       "        ( 26172, [ -15,  -11,    0,   14,   29,   41,   41,   35,   30,   29,   29,   24,   15,    3,   -5,   -8,    0,   11,   19,   19,   12,    2,   -4,   -9,  -10,   -7,   -2,    1,    3,    5,   11,   17,   19,   17,    9,    0,   -8,  -15,  -17,  -14,   -8,   -4,    0,    0,    0,    0,    0,    0,    0,    0]),\n",
       "        ( 26172, [   0,    7,   25,   51,   67,   62,   33,    0,  -22,  -32,  -32,  -24,  -15,   -8,   -5,   -7,   -7,   -1,    4,    5,    0,  -10,  -18,  -22,  -17,   -9,   -1,    1,    2,    7,   17,   26,   29,   19,    5,   -3,   -7,   -4,   -2,   -3,  -10,  -22,    0,    0,    0,    0,    0,    0,    0,    0]),\n",
       "        ( 26172, [   0,   10,   33,   65,   92,   99,   86,   66,   46,   21,  -10,  -44,  -69,  -80,  -77,  -63,  -42,  -19,    0,    9,    8,   -1,  -12,  -23,  -26,  -21,  -10,    0,   12,   24,   33,   43,   48,   43,   26,   11,    3,    0,   -9,  -31,  -59,  -80,    0,    0,    0,    0,    0,    0,    0,    0]),\n",
       "        ( 27296, [ -16,   -4,   23,   71,  118, -121,  105,   35,  -48, -117,  106,  115, -100,  -46,   -1,   25,   35,   31,   23,   18,   17,   18,   16,    9,    1,   -3,   -7,   -7,   -7,   -8,  -12,  -18,  -22,  -22,  -21,  -19,  -22,  -24,  -23,  -18,  -14,   -7,    5,   23,    0,    0,    0,    0,    0,    0]),\n",
       "        ( 27296, [  -2,   -8,    0,   25,   69,  116, -121,  111,   50,  -22,  -79, -103,  -90,  -53,  -15,   11,   26,   32,   30,   22,   10,   -1,  -12,  -21,  -25,  -28,  -24,  -15,   -2,    8,   10,    4,   -7,  -19,  -26,  -29,  -30,  -31,  -31,  -29,  -21,   -9,    2,   15,    0,    0,    0,    0,    0,    0]),\n",
       "        ( 27296, [ -10,    7,   37,   82,  125, -119,  106,   43,  -24,  -79, -107, -103,  -76,  -41,   -7,   18,   35,   38,   32,   21,    8,   -1,   -7,  -11,  -15,  -12,   -5,    1,    9,   12,    8,   -1,  -10,  -19,  -25,  -31,  -36,  -41,  -41,  -36,  -24,   -8,    7,   21,    0,    0,    0,    0,    0,    0]),\n",
       "        ( 27296, [  -4,   10,   41,   85, -128, -112,  112,   44,  -36, -105,  118, -128,  -89,  -41,    1,   29,   42,   38,   29,   25,   25,   28,   26,   18,    8,    1,    1,    5,   12,   17,   16,   11,    5,    2,    2,    5,    7,    0,  -16,  -33,  -44,  -42,  -23,    0,    0,    0,    0,    0,    0,    0]),\n",
       "        ( 27840, [  -4,  -15,  -28,  -35,  -35,  -39,  -50,  -63,  -72,  -71,  -63,  -50,  -36,  -21,   -9,   -3,   -3,  -11,  -24,  -36,  -41,  -39,  -31,  -18,   -4,    9,   21,   23,   14,   -1,  -17,  -28,  -30,  -28,  -24,    0,    0,    0,    0,    0,    0,    0,    0,    0,    0,    0,    0,    0,    0,    0]),\n",
       "        ( 27840, [  23,   17,    7,   -1,   -4,   -5,  -14,  -31,  -48,  -58,  -59,  -55,  -46,  -37,  -25,  -14,   -4,   -1,   -8,  -22,  -38,  -48,  -48,  -38,  -23,   -8,   -1,    0,   -3,  -10,  -23,  -33,  -37,  -32,  -26,    0,    0,    0,    0,    0,    0,    0,    0,    0,    0,    0,    0,    0,    0,    0]),\n",
       "        ( 27840, [ -17,  -22,  -28,  -30,  -31,  -32,  -37,  -42,  -45,  -49,  -51,  -50,  -42,  -29,  -16,   -7,   -4,  -12,  -28,  -41,  -49,  -51,  -48,  -35,  -16,    1,   14,   17,    9,   -3,  -16,  -22,  -19,  -14,   -8,    0,    0,    0,    0,    0,    0,    0,    0,    0,    0,    0,    0,    0,    0,    0]),\n",
       "        ( 27840, [   1,    3,   -4,  -29,  -63,  -96, -117, -117,  -99,  -72,  -45,  -26,  -18,  -21,  -29,  -32,  -30,  -26,  -29,  -36,  -44,  -51,  -51,  -43,  -28,  -10,    1,    3,   -4,  -19,  -30,  -30,  -21,  -10,   -4,    0,    0,    0,    0,    0,    0,    0,    0,    0,    0,    0,    0,    0,    0,    0]),\n",
       "        ( 28146, [  15,    3,   -3,   -3,   -1,    1,    4,    2,   -4,  -18,  -35,  -46,  -49,  -41,    0,    0,    0,    0,    0,    0,    0,    0,    0,    0,    0,    0,    0,    0,    0,    0,    0,    0,    0,    0,    0,    0,    0,    0,    0,   -2,   -2,   -3,   -8,   -9,   -2,   15,   15,   71,   93,  101]),\n",
       "        ( 28146, [  10,    2,   -7,  -11,   -7,   -1,    1,    3,    1,   -5,  -18,  -31,  -42,  -42,    0,    0,    0,    0,    0,    0,    0,    0,    0,    0,    0,    0,    0,    0,    0,    0,    0,    0,    0,    0,    0,    0,    0,    0,    0,    0,    4,    4,   -2,  -16,  -24,  -18,    2,   35,   65,   84]),\n",
       "        ( 28146, [   0,   -8,  -14,  -11,   -7,   -5,   -8,  -15,  -24,  -35,  -46,  -51,  -45,  -29,    0,    0,    0,    0,    0,    0,    0,    0,    0,    0,    0,    0,    0,    0,    0,    0,    0,    0,    0,    0,    0,    0,    0,    0,    0,    5,    3,   -5,  -21,  -30,  -22,    3,   39,   70,   84,   79]),\n",
       "        ( 28146, [   5,  -23,  -51,  -58,  -48,  -28,   -9,    0,    0,  -10,  -28,  -43,  -48,  -41,    0,    0,    0,    0,    0,    0,    0,    0,    0,    0,    0,    0,    0,    0,    0,    0,    0,    0,    0,    0,    0,    0,    0,    0,    0,  -21,   -8,   -3,   -7,  -15,  -15,    0,   29,   58,   77,   78]),\n",
       "        ( 28274, [   5,   11,   24,   31,   24,    5,  -11,  -24,  -28,  -21,   -8,    3,    8,    2,   -4,  -10,  -10,  -10,  -10,   -9,   -4,    3,   14,   22,   26,    0,    0,    0,    0,    0,    0,    0,    0,    0,    0,    0,    0,    0,    0,    0,    0,    0,    0,    0,    0,    0,    0,    0,    0,    0]),\n",
       "        ( 28274, [   5,   -7,  -10,   -4,    0,   -1,  -10,  -22,  -33,  -41,  -39,  -33,  -23,  -15,  -12,  -15,  -12,   -8,   -4,   -5,   -8,   -8,   -4,    2,   12,    0,    0,    0,    0,    0,    0,    0,    0,    0,    0,    0,    0,    0,    0,    0,    0,    0,    0,    0,    0,    0,    0,    0,    0,    0]),\n",
       "        ( 28274, [  -4,   -2,    5,   12,   10,    1,   -5,   -9,  -10,  -10,   -7,    0,    9,   11,   10,    8,    8,    7,    5,    3,    4,    9,   19,   32,   37,    0,    0,    0,    0,    0,    0,    0,    0,    0,    0,    0,    0,    0,    0,    0,    0,    0,    0,    0,    0,    0,    0,    0,    0,    0]),\n",
       "        ( 28274, [  -1,    4,   18,   24,   17,    3,   -4,   -7,   -4,   -2,    3,   12,   19,   22,   17,   12,    8,    4,    1,   -1,    0,    3,   11,   21,   24,    0,    0,    0,    0,    0,    0,    0,    0,    0,    0,    0,    0,    0,    0,    0,    0,    0,    0,    0,    0,    0,    0,    0,    0,    0]),\n",
       "        ( 28966, [   0,    0,    0,    0,    0,    0,    0,    0,    0,    0,    0,    0,    0,    0,    0,    0,    0,    0,    0,    0,    0,    0,    0,    0,    0,    0,    0,    0,    0,    0,    0,    0,    0,    0,    0,    0,    0,    0,    0,    0,    0,    0,    0,    0,    0,    0,    0,    0,    0,    0]),\n",
       "        ( 28966, [   0,    0,    0,    0,    0,    0,    0,    0,    0,    0,    0,    0,    0,    0,    0,    0,    0,    0,    0,    0,    0,    0,    0,    0,    0,    0,    0,    0,    0,    0,    0,    0,    0,    0,    0,    0,    0,    0,    0,    0,    0,    0,    0,    0,    0,    0,    0,    0,    0,    0]),\n",
       "        ( 28966, [   0,    0,    0,    0,    0,    0,    0,    0,    0,    0,    0,    0,    0,    0,    0,    0,    0,    0,    0,    0,    0,    0,    0,    0,    0,    0,    0,    0,    0,    0,    0,    0,    0,    0,    0,    0,    0,    0,    0,    0,    0,    0,    0,    0,    0,    0,    0,    0,    0,    0]),\n",
       "        ( 28966, [   0,    0,    0,    0,    0,    0,    0,    0,    0,    0,    0,    0,    0,    0,    0,    0,    0,    0,    0,    0,    0,    0,    0,    0,    0,    0,    0,    0,    0,    0,    0,    0,    0,    0,    0,    0,    0,    0,    0,    0,    0,    0,    0,    0,    0,    0,    0,    0,    0,    0]),\n",
       "        ( 29944, [ -12,    7,   42,   82,  118, -114, -114,  108,   51,   -3,  -39,  -51,  -44,  -26,   -4,   12,   21,   17,    7,    0,   -1,    3,   15,   24,   25,   22,   15,   11,   16,   29,   41,   42,   33,   21,   12,   10,   14,   19,   23,   24,   18,   -7,  -65,  123,    0,    0,    0,    0,    0,    0]),\n",
       "        ( 29944, [ -16,  -12,    4,   33,   64,   90,  111,  116,   90,   38,  -21,  -69,  -86,  -77,  -50,  -21,    0,   10,   14,   11,    7,    1,    0,    4,    8,    5,    2,    0,    0,    9,   23,   33,   32,   24,   17,   15,   17,   19,   16,    7,   -5,  -19,  -32,  -46,    0,    0,    0,    0,    0,    0]),\n",
       "        ( 29944, [ -11,    4,   37,   73,  105,  126,  127,   96,   36,  -26,  -72,  -86,  -73,  -45,  -15,    3,   10,    9,    4,    2,    1,    3,   10,   17,   21,   17,    9,    2,    5,   16,   26,   31,   29,   22,   12,    7,    7,   11,   15,   16,    9,   -3,  -25,  -53,    0,    0,    0,    0,    0,    0]),\n",
       "        ( 29944, [  21,   42,   78,  116, -112, -108, -122,   90,   30,  -25,  -65,  -82,  -73,  -48,  -15,    9,   21,   19,   10,   -1,   -8,   -1,   15,   30,   32,   22,    1,  -15,  -14,    3,   23,   30,   22,    4,  -10,  -16,   -8,    3,   12,   11,    0,  -19,  -42,  -60,    0,    0,    0,    0,    0,    0]),\n",
       "        ( 30014, [  10,   14,   19,   23,   24,   18,   -7,  -65,  123,    0,    0,    0,    0,    0,    0,    0,    0,    0,    0,    0,    0,    0,    0,    0,    0,    0,    0,    0,    0,    0,    0,    0,    0,    0,    0,    0,    0,    0,    0,    0,    0,    0,    0,    0,    0,    0,    0,    0,    0,    0]),\n",
       "        ( 30014, [  15,   17,   19,   16,    7,   -5,  -19,  -32,  -46,    0,    0,    0,    0,    0,    0,    0,    0,    0,    0,    0,    0,    0,    0,    0,    0,    0,    0,    0,    0,    0,    0,    0,    0,    0,    0,    0,    0,    0,    0,    0,    0,    0,    0,    0,    0,    0,    0,    0,    0,    0]),\n",
       "        ( 30014, [   7,    7,   11,   15,   16,    9,   -3,  -25,  -53,    0,    0,    0,    0,    0,    0,    0,    0,    0,    0,    0,    0,    0,    0,    0,    0,    0,    0,    0,    0,    0,    0,    0,    0,    0,    0,    0,    0,    0,    0,    0,    0,    0,    0,    0,    0,    0,    0,    0,    0,    0]),\n",
       "        ( 30014, [ -16,   -8,    3,   12,   11,    0,  -19,  -42,  -60,    0,    0,    0,    0,    0,    0,    0,    0,    0,    0,    0,    0,    0,    0,    0,    0,    0,    0,    0,    0,    0,    0,    0,    0,    0,    0,    0,    0,    0,    0,    0,    0,    0,    0,    0,    0,    0,    0,    0,    0,    0]),\n",
       "        ( 30604, [   0,    0,    0,    0,    0,    0,    1,  -18,  -49,  -72,  -73,  -56,  -25,   11,   49,   73,   79,   72,   56,   37,   23,   14,    5,   -3,  -14,  -14,  -33,  -38,  -35,  -25,  -16,   -7,    5,   22,   33,   36,   31,   24,   22,   21,   19,   17,   14,    9,    5,    3,    0,   -5,  -15,  -28]),\n",
       "        ( 30604, [   0,    0,    0,    0,    0,    0,    3,   -3,  -21,  -43,  -59,  -63,  -53,  -33,   -4,   22,   38,   43,   41,   31,   21,   12,    8,    0,  -10,  -24,  -37,  -44,  -41,  -26,   -9,    4,   12,   17,   21,   22,   17,   10,    3,   -2,   -7,   -8,   -3,    0,    0,   -3,   -7,   -9,   -9,  -10]),\n",
       "        ( 30604, [   0,    0,    0,    0,    0,    0,   -1,  -17,  -37,  -56,  -65,  -62,  -42,   -9,   22,   43,   46,   36,   17,    0,  -11,  -15,  -14,  -11,  -10,  -14,  -19,  -19,   -9,    4,   17,   26,   36,   45,   49,   42,   28,   14,    4,    0,    0,    0,    0,    3,    5,    3,   -1,   -7,  -15,  -28]),\n",
       "        ( 30604, [   0,    0,    0,    0,    0,    0,   -1,  -14,  -39,  -71,  -92,  -86,  -48,    8,   64,   97,   98,   75,   42,   14,   -2,  -12,  -18,  -22,  -21,  -17,  -14,   -9,    0,    7,   10,    9,   10,   17,   23,   24,   23,   24,   26,   28,   28,   30,   30,   26,   19,    8,   -5,  -22,  -37,  -52]),\n",
       "        ( 30686, [  17,   14,    9,    5,    3,    0,   -5,  -15,  -28,  -39,  -46,  -48,  -43,  -31,   -8,    0,    0,    0,    0,    0,    0,    0,    0,    0,    0,    0,    0,    0,    0,    0,    0,    0,    0,    0,    0,    0,    0,    0,    0,    0,    0,    0,    0,    0,    0,    0,    0,    0,    0,    0]),\n",
       "        ( 30686, [  -8,   -3,    0,    0,   -3,   -7,   -9,   -9,  -10,  -16,  -24,  -28,  -24,  -17,   -5,    0,    0,    0,    0,    0,    0,    0,    0,    0,    0,    0,    0,    0,    0,    0,    0,    0,    0,    0,    0,    0,    0,    0,    0,    0,    0,    0,    0,    0,    0,    0,    0,    0,    0,    0]),\n",
       "        ( 30686, [   0,    0,    3,    5,    3,   -1,   -7,  -15,  -28,  -42,  -51,  -50,  -42,  -26,   -5,    0,    0,    0,    0,    0,    0,    0,    0,    0,    0,    0,    0,    0,    0,    0,    0,    0,    0,    0,    0,    0,    0,    0,    0,    0,    0,    0,    0,    0,    0,    0,    0,    0,    0,    0]),\n",
       "        ( 30686, [  30,   30,   26,   19,    8,   -5,  -22,  -37,  -52,  -63,  -62,  -53,  -43,  -35,  -22,    0,    0,    0,    0,    0,    0,    0,    0,    0,    0,    0,    0,    0,    0,    0,    0,    0,    0,    0,    0,    0,    0,    0,    0,    0,    0,    0,    0,    0,    0,    0,    0,    0,    0,    0]),\n",
       "        ( 31358, [  39,   49,   49,   41,   39,   53,   64,   50,    8,  -38,  -69,  -76,  -64,  -45,  -28,  -17,  -11,   -5,   -1,   -1,   -7,  -17,  -36,  -59,  -78,  -86,  -83,  -69,  -46,  -21,    0,    9,   10,    9,    5,   -3,  -17,  -28,  -30,  -28,  -24,  -21,  -17,  -12,   -5,    3,   16,    0,    0,    0]),\n",
       "        ( 31358, [  11,   26,   44,   52,   55,   64,   85,   98,   78,   25,  -32,  -72,  -83,  -71,  -50,  -28,  -11,   -1,    4,    9,   12,   12,    7,   -1,  -12,  -23,  -28,  -26,  -18,   -4,    9,   17,   16,    9,    2,    0,    0,   -3,   -8,  -14,  -21,  -28,  -32,  -31,  -24,  -15,   -8,    0,    0,    0]),\n",
       "        ( 31358, [  36,   55,   69,   76,   87,  108,  117,   91,   30,  -33,  -78,  -91,  -78,  -57,  -36,  -22,  -15,  -10,   -4,    0,    0,  -10,  -24,  -38,  -48,  -50,  -44,  -35,  -24,  -11,    0,    4,    4,    2,   -2,  -12,  -24,  -33,  -36,  -36,  -39,  -43,  -46,  -46,  -42,  -32,  -21,    0,    0,    0]),\n",
       "        ( 31358, [  82,   99,  114,  123,  124,  116,   92,   48,   -9,  -60,  -90,  -94,  -82,  -62,  -44,  -32,  -29,  -26,  -24,  -23,  -28,  -35,  -46,  -57,  -64,  -66,  -64,  -55,  -39,  -18,    2,   15,   18,   12,    1,  -15,  -35,  -46,  -46,  -41,  -39,  -44,  -48,  -43,  -32,  -19,   -4,    0,    0,    0]),\n",
       "        ( 31422, [  10,    9,    5,   -3,  -17,  -28,  -30,  -28,  -24,  -21,  -17,  -12,   -5,    3,   16,    0,    0,    0,    0,    0,    0,    0,    0,    0,    0,    0,    0,    0,    0,    0,    0,    0,    0,    0,    0,    0,    0,    0,    0,    0,    0,    0,    0,    0,    0,    0,    0,    0,    0,    0]),\n",
       "        ( 31422, [  16,    9,    2,    0,    0,   -3,   -8,  -14,  -21,  -28,  -32,  -31,  -24,  -15,   -8,    0,    0,    0,    0,    0,    0,    0,    0,    0,    0,    0,    0,    0,    0,    0,    0,    0,    0,    0,    0,    0,    0,    0,    0,    0,    0,    0,    0,    0,    0,    0,    0,    0,    0,    0]),\n",
       "        ( 31422, [   4,    2,   -2,  -12,  -24,  -33,  -36,  -36,  -39,  -43,  -46,  -46,  -42,  -32,  -21,    0,    0,    0,    0,    0,    0,    0,    0,    0,    0,    0,    0,    0,    0,    0,    0,    0,    0,    0,    0,    0,    0,    0,    0,    0,    0,    0,    0,    0,    0,    0,    0,    0,    0,    0]),\n",
       "        ( 31422, [  18,   12,    1,  -15,  -35,  -46,  -46,  -41,  -39,  -44,  -48,  -43,  -32,  -19,   -4,    0,    0,    0,    0,    0,    0,    0,    0,    0,    0,    0,    0,    0,    0,    0,    0,    0,    0,    0,    0,    0,    0,    0,    0,    0,    0,    0,    0,    0,    0,    0,    0,    0,    0,    0]),\n",
       "        ( 31926, [  15,    4,    2,    5,    3,   -8,  -29,  -46,  -53,  -50,  -37,  -21,   -4,    9,   22,   31,   36,   36,   33,   31,   28,   23,   15,    8,    2,   -1,   -5,  -16,  -33,  -50,  -56,  -50,  -37,  -26,  -23,  -26,  -37,  -50,    0,    0,    0,    0,    0,    0,    0,    0,    0,    0,    0,    0]),\n",
       "        ( 31926, [  30,   15,    1,   -4,  -11,  -17,  -24,  -29,  -31,  -33,  -35,  -30,  -21,   -8,    7,   21,   29,   31,   30,   28,   30,   32,   30,   18,    0,  -12,  -18,  -17,  -17,  -19,  -22,  -19,  -17,  -18,  -24,  -35,  -48,  -57,    0,    0,    0,    0,    0,    0,    0,    0,    0,    0,    0,    0]),\n",
       "        ( 31926, [  26,   12,    7,    8,    9,    5,   -1,  -11,  -29,  -45,  -53,  -48,  -26,    0,   22,   33,   36,   33,   31,   29,   28,   23,   11,   -3,  -16,  -24,  -28,  -31,  -35,  -36,  -31,  -25,  -19,  -17,  -21,  -25,  -33,  -41,    0,    0,    0,    0,    0,    0,    0,    0,    0,    0,    0,    0]),\n",
       "        ( 31926, [  29,   10,    5,   10,   14,    9,    0,   -9,  -17,  -24,  -29,  -26,  -10,   12,   38,   52,   51,   38,   19,    7,    2,    3,    5,    8,   10,   11,    9,    2,   -9,  -19,  -19,  -14,   -5,    0,    0,   -9,  -26,  -49,    0,    0,    0,    0,    0,    0,    0,    0,    0,    0,    0,    0]),\n",
       "        ( 32918, [  -5,    3,   14,   18,   12,    0,  -14,  -26,  -33,  -33,  -31,  -30,  -25,  -11,    2,   10,    9,    1,    0,    0,    0,    0,    0,    0,    0,    0,    0,    0,    0,    0,    0,    0,    0,    0,    0,    0,    0,    0,    0,    0,    0,    0,    0,    0,    0,    0,    0,    0,    0,    0]),\n",
       "        ( 32918, [ -28,  -19,   -4,    7,    7,   -3,  -18,  -31,  -38,  -42,  -43,  -44,  -44,  -35,  -16,    4,   18,   22,    0,    0,    0,    0,    0,    0,    0,    0,    0,    0,    0,    0,    0,    0,    0,    0,    0,    0,    0,    0,    0,    0,    0,    0,    0,    0,    0,    0,    0,    0,    0,    0]),\n",
       "        ( 32918, [  -4,    3,   17,   30,   31,   18,   -1,  -21,  -35,  -43,  -46,  -48,  -38,  -17,    4,   17,   16,    7,    0,    0,    0,    0,    0,    0,    0,    0,    0,    0,    0,    0,    0,    0,    0,    0,    0,    0,    0,    0,    0,    0,    0,    0,    0,    0,    0,    0,    0,    0,    0,    0]),\n",
       "        ( 32918, [   0,   28,   48,   49,   36,   12,   -9,  -25,  -30,  -29,  -32,  -42,  -46,  -33,   -8,   12,   21,   14,    0,    0,    0,    0,    0,    0,    0,    0,    0,    0,    0,    0,    0,    0,    0,    0,    0,    0,    0,    0,    0,    0,    0,    0,    0,    0,    0,    0,    0,    0,    0,    0]),\n",
       "        ( 33164, [   0,    0,    0,    0,    0,    0,    0,    0,    0,    0,    0,    0,    0,    0,    0,    0,    0,    0,    0,    0,    0,    0,    0,    0,    0,    0,    0,    0,    0,    0,    0,    0,    0,    0,    0,    0,    0,    0,    0,    0,    0,    0,    0,    0,    0,    0,    0,    0,    0,    0]),\n",
       "        ( 33164, [   0,    0,    0,    0,    0,    0,    0,    0,    0,    0,    0,    0,    0,    0,    0,    0,    0,    0,    0,    0,    0,    0,    0,    0,    0,    0,    0,    0,    0,    0,    0,    0,    0,    0,    0,    0,    0,    0,    0,    0,    0,    0,    0,    0,    0,    0,    0,    0,    0,    0]),\n",
       "        ( 33164, [   0,    0,    0,    0,    0,    0,    0,    0,    0,    0,    0,    0,    0,    0,    0,    0,    0,    0,    0,    0,    0,    0,    0,    0,    0,    0,    0,    0,    0,    0,    0,    0,    0,    0,    0,    0,    0,    0,    0,    0,    0,    0,    0,    0,    0,    0,    0,    0,    0,    0]),\n",
       "        ( 33164, [   0,    0,    0,    0,    0,    0,    0,    0,    0,    0,    0,    0,    0,    0,    0,    0,    0,    0,    0,    0,    0,    0,    0,    0,    0,    0,    0,    0,    0,    0,    0,    0,    0,    0,    0,    0,    0,    0,    0,    0,    0,    0,    0,    0,    0,    0,    0,    0,    0,    0]),\n",
       "        ( 33512, [   0,    0,    0,    0,    0,    0,    0,    0,    0,    0,    0,    0,    0,    0,    0,    0,    0,    0,    0,    0,    0,    0,    0,    0,    0,    0,    0,    0,    0,    0,    0,    0,    0,    0,    0,    0,    0,    0,    0,    0,    0,    0,    0,    0,    0,    0,    0,    0,    0,    0]),\n",
       "        ( 33512, [   0,    0,    0,    0,    0,    0,    0,    0,    0,    0,    0,    0,    0,    0,    0,    0,    0,    0,    0,    0,    0,    0,    0,    0,    0,    0,    0,    0,    0,    0,    0,    0,    0,    0,    0,    0,    0,    0,    0,    0,    0,    0,    0,    0,    0,    0,    0,    0,    0,    0]),\n",
       "        ( 33512, [   0,    0,    0,    0,    0,    0,    0,    0,    0,    0,    0,    0,    0,    0,    0,    0,    0,    0,    0,    0,    0,    0,    0,    0,    0,    0,    0,    0,    0,    0,    0,    0,    0,    0,    0,    0,    0,    0,    0,    0,    0,    0,    0,    0,    0,    0,    0,    0,    0,    0]),\n",
       "        ( 33512, [   0,    0,    0,    0,    0,    0,    0,    0,    0,    0,    0,    0,    0,    0,    0,    0,    0,    0,    0,    0,    0,    0,    0,    0,    0,    0,    0,    0,    0,    0,    0,    0,    0,    0,    0,    0,    0,    0,    0,    0,    0,    0,    0,    0,    0,    0,    0,    0,    0,    0]),\n",
       "        ( 34140, [  42,   42,   41,   36,   23,    5,  -17,  -51,  -98,  114,  114,  114,  -91,  -29,   16,   41,   44,   36,   22,   11,    3,   -1,   -5,   -4,    0,    9,   21,   26,   19,    0,  -15,  -18,  -12,   -5,   -1,    7,    0,    0,    0,    0,    0,    0,    0,    0,    0,    0,    0,    0,    0,    0]),\n",
       "        ( 34140, [  21,   16,   10,   10,   14,   11,    2,  -11,  -30,  -45,  -53,  -51,  -41,  -28,  -16,  -10,   -8,   -7,   -3,    0,    5,    9,    5,    0,    0,    9,   24,   37,   42,   33,   19,    9,    5,    0,  -11,  -24,    0,    0,    0,    0,    0,    0,    0,    0,    0,    0,    0,    0,    0,    0]),\n",
       "        ( 34140, [   0,   -1,    0,    0,   -7,  -17,  -24,  -29,  -32,  -37,  -44,  -48,  -44,  -32,  -19,  -10,   -5,   -3,   -2,    0,    4,    7,    5,    1,    0,   -1,    0,    0,   -1,   -5,   -7,   -4,   -1,    0,    0,    3,    0,    0,    0,    0,    0,    0,    0,    0,    0,    0,    0,    0,    0,    0]),\n",
       "        ( 34140, [  32,    7,   -8,  -16,  -23,  -36,  -56,  -80, -106, -125,  123, -127, -103,  -67,  -32,   -7,    7,   12,    5,   -8,  -22,  -31,  -36,  -35,  -28,  -19,  -16,  -18,  -28,  -41,  -41,  -21,    7,   32,   45,   48,    0,    0,    0,    0,    0,    0,    0,    0,    0,    0,    0,    0,    0,    0]),\n",
       "        ( 34806, [  22,   42,   66,   66,   78,   44,   -4,  -46,  -66,  -62,  -42,  -18,    0,    5,    1,   -7,  -16,  -23,  -24,  -18,   -7,    7,   18,   21,   14,    3,   -3,   -5,   -3,    0,    1,    0,    0,    3,   10,   17,   17,    7,   -7,  -17,  -18,  -10,   -4,   -5,    0,    0,    0,    0,    0,    0]),\n",
       "        ( 34806, [   7,   21,   41,   66,   89,   86,   52,   -1,  -51,  -80,  -83,  -65,  -43,  -23,  -11,  -11,  -16,  -23,  -30,  -31,  -24,  -12,    0,   10,   14,   11,    7,    0,   -4,   -7,   -5,   -3,   -2,    0,    3,   11,   19,   19,    8,   -5,  -16,  -16,   -7,    1,    0,    0,    0,    0,    0,    0]),\n",
       "        ( 34806, [  17,   36,   60,   78,   71,   38,   -5,  -42,  -56,  -48,  -25,   -2,   11,   15,    8,   -1,   -8,  -12,  -12,   -5,    5,   18,   23,   19,   12,   11,   17,   21,   21,   18,   17,   15,   12,   11,   12,   16,   16,    9,    0,   -9,  -10,   -2,   10,   22,    0,    0,    0,    0,    0,    0]),\n",
       "        ( 34806, [  10,   41,   73,   96,   90,   52,    2,  -36,  -48,  -30,    4,   42,   63,   59,   35,    5,  -12,  -14,    4,   37,   67,   85,   84,   65,   37,   10,   -5,  -11,   -7,    2,   15,   25,   28,   16,   -2,  -22,  -41,  -58,  -67,  -64,  -46,  -22,    0,   10,    0,    0,    0,    0,    0,    0]),\n",
       "        ( 35322, [  25,   44,   64,   64,   39,  -15,  -77, -121,  122, -112,  -65,  -12,   10,   -7,  -51,  -80,  -72,  -38,    0,   25,   28,   14,   -5,  -26,  -37,  -30,   -9,    9,   18,   17,   11,    4,    4,    8,   11,    8,    1,   -4,   -5,   -1,    1,    0,   -4,    0,    0,    0,    0,    0,    0,    0]),\n",
       "        ( 35322, [  28,   44,   63,   79,   80,   50,   -9,  -78, -127,  111, -128,  -89,  -41,   -3,   12,   14,   10,   12,   15,   16,   12,    4,   -8,  -26,  -42,  -48,  -36,  -15,    2,    7,    3,    1,    0,    2,    5,    8,    2,   -5,  -15,  -22,  -21,   -9,   10,    0,    0,    0,    0,    0,    0,    0]),\n",
       "        ( 35322, [  36,   58,   79,   87,   67,   18,  -43,  -97, -128,  121, -116,  -76,  -33,   -8,    0,   -4,  -12,  -21,  -26,  -29,  -32,  -36,  -44,  -52,  -53,  -44,  -24,   -3,    9,   11,    5,   -2,   -8,   -8,   -9,  -15,  -23,  -30,  -28,  -15,    4,   23,   33,    0,    0,    0,    0,    0,    0,    0]),\n",
       "        ( 35322, [  12,   35,   58,   65,   43,   -7,  -69, -119,  115,  123, -103,  -69,  -46,  -43,  -50,  -55,  -52,  -49,  -44,  -41,  -38,  -39,  -45,  -52,  -51,  -32,   -4,   21,   32,   31,   24,   14,    3,   -4,  -12,  -19,  -25,  -24,  -14,    3,   22,   30,   26,    0,    0,    0,    0,    0,    0,    0]),\n",
       "        ( 35502, [  28,   29,   37,   49,   65,   80,   80,   53,    4,  -42,  -70,  -67,  -48,  -24,   -5,   11,   35,   57,   69,   65,   48,   26,    9,    0,   -5,  -11,  -18,  -30,  -42,  -49,  -44,  -35,  -28,  -28,  -32,  -42,  -49,  -49,  -42,  -32,  -24,  -15,   -8,   -2,   -2,   -9,    0,    0,    0,    0]),\n",
       "        ( 35502, [   4,    0,    2,   12,   29,   51,   70,   67,   36,  -16,  -67,  -93,  -87,  -63,  -33,  -10,    9,   31,   50,   58,   53,   37,   17,    2,   -4,   -7,   -2,    2,    3,   -1,   -8,   -9,   -8,   -4,   -4,   -9,  -19,  -31,  -41,  -46,  -49,  -46,  -36,  -21,   -9,   -5,    0,    0,    0,    0]),\n",
       "        ( 35502, [  -1,    2,   14,   30,   53,   76,   75,   39,  -17,  -71,  -96,  -90,  -66,  -41,  -21,   -2,   18,   41,   56,   56,   41,   21,    8,    2,   -1,   -4,   -7,  -10,  -14,  -16,  -14,   -8,   -5,   -7,  -11,  -19,  -26,  -30,  -31,  -32,  -33,  -31,  -24,  -18,  -15,  -12,    0,    0,    0,    0]),\n",
       "        ( 35502, [  12,   16,   25,   42,   65,   91,   99,   78,   32,  -15,  -48,  -58,  -56,  -45,  -29,   -2,   32,   66,   85,   79,   56,   30,   10,   -2,  -12,  -22,  -29,  -35,  -36,  -35,  -29,  -22,  -17,  -18,  -25,  -31,  -31,  -22,   -8,    3,    9,   11,   12,   11,    4,   -8,    0,    0,    0,    0]),\n",
       "        ( 36632, [   0,    0,    0,   28,   25,   12,   -3,  -15,  -12,   -1,   15,   41,   75,  103,  106,   79,   26,  -44, -121,  106,  106,  106,  121,  -72,  -14,   25,   43,   43,   33,   18,    3,   -8,  -17,  -24,  -26,  -23,  -14,   -3,    4,   12,   22,   26,   21,    7,   -7,  -15,  -14,   -3,    9,   19]),\n",
       "        ( 36632, [   0,    0,    0,   36,   45,   45,   31,    8,  -12,  -26,  -26,  -12,   15,   56,   92,  108,   97,   57,    3,  -43,  -67,  -64,  -45,  -23,   -5,   -1,   -4,   -9,   -8,   -3,    0,   -2,   -5,  -11,  -16,  -18,  -16,   -9,    0,    9,   15,   16,   10,    0,  -11,  -17,  -18,  -17,  -16,  -15]),\n",
       "        ( 36632, [   0,    0,    0,   24,   25,   15,    1,   -7,   -7,    0,   16,   41,   73,  101,  111,   91,   49,   -3,  -46,  -65,  -60,  -45,  -31,  -25,  -29,  -38,  -43,  -38,  -25,  -14,  -10,  -14,  -19,  -23,  -21,  -14,   -4,    3,   10,   16,   19,   14,   -1,  -22,  -38,  -43,  -37,  -26,  -14,   -2]),\n",
       "        ( 36632, [   0,    0,    0,   28,   35,   30,   14,   -1,   -8,   -3,   15,   49,   93,  127, -123,  104,   44,  -29,  -93, -128,  126, -111,  -86,  -66,  -55,  -51,  -50,  -45,  -39,  -35,  -36,  -43,  -51,  -56,  -56,  -51,  -42,  -30,  -18,   -5,    4,   10,    5,   -7,  -23,  -30,  -29,  -21,   -7,    8]),\n",
       "        ( 37502, [   0,    0,    0,    0,    0,    0,    9,    0,   -9,  -15,  -16,  -11,    2,   31,   71,  104,  111,   84,   33,  -16,  -51,  -63,  -53,  -32,  -10,    1,    4,    0,   -8,  -17,  -24,  -24,  -17,   -5,    3,   10,   11,    9,    3,   -4,  -12,  -18,  -21,  -24,  -30,  -39,  -50,  -56,  -53,  -43]),\n",
       "        ( 37502, [   0,    0,    0,    0,    0,    0,  -10,  -30,  -48,  -60,  -64,  -56,  -42,  -18,   18,   66,  101,  105,   72,   18,  -31,  -62,  -64,  -48,  -24,   -1,   12,   17,   12,    7,    4,    7,    9,   10,   10,   12,   19,   28,   37,   41,   36,   29,   19,    9,   -2,  -19,  -37,  -48,  -48,  -39]),\n",
       "        ( 37502, [   0,    0,    0,    0,    0,    0,    8,   -3,  -17,  -24,  -25,  -19,   -7,   18,   56,   89,   96,   69,   16,  -37,  -75,  -86,  -76,  -55,  -32,  -19,  -15,  -14,  -12,   -7,   -2,   -2,   -4,   -7,   -7,   -4,    0,    7,   11,   11,    5,    0,   -8,  -16,  -23,  -29,  -29,  -28,  -26,  -31]),\n",
       "        ( 37502, [   0,    0,    0,    0,    0,    0,   52,   31,    7,   -8,   -9,   -2,   10,   39,   82,  121, -121,  111,   53,  -10,  -59,  -85,  -87,  -75,  -59,  -50,  -49,  -52,  -57,  -59,  -62,  -63,  -59,  -48,  -31,  -18,  -11,  -10,  -10,  -10,  -10,   -9,   -9,  -12,  -22,  -33,  -43,  -48,  -46,  -42]),\n",
       "        ( 37578, [   3,   -4,  -12,  -18,  -21,  -24,  -30,  -39,  -50,  -56,  -53,  -43,  -32,  -25,  -24,  -22,  -19,  -16,    0,    0,    0,    0,    0,    0,    0,    0,    0,    0,    0,    0,    0,    0,    0,    0,    0,    0,    0,    0,    0,    0,    0,    0,    0,    0,    0,    0,    0,    0,    0,    0]),\n",
       "        ( 37578, [  37,   41,   36,   29,   19,    9,   -2,  -19,  -37,  -48,  -48,  -39,  -28,  -17,  -10,   -4,    2,    9,    0,    0,    0,    0,    0,    0,    0,    0,    0,    0,    0,    0,    0,    0,    0,    0,    0,    0,    0,    0,    0,    0,    0,    0,    0,    0,    0,    0,    0,    0,    0,    0]),\n",
       "        ( 37578, [  11,   11,    5,    0,   -8,  -16,  -23,  -29,  -29,  -28,  -26,  -31,  -39,  -48,  -48,  -39,  -26,  -18,    0,    0,    0,    0,    0,    0,    0,    0,    0,    0,    0,    0,    0,    0,    0,    0,    0,    0,    0,    0,    0,    0,    0,    0,    0,    0,    0,    0,    0,    0,    0,    0]),\n",
       "        ( 37578, [ -10,  -10,  -10,   -9,   -9,  -12,  -22,  -33,  -43,  -48,  -46,  -42,  -36,  -32,  -26,  -18,   -9,   -2,    0,    0,    0,    0,    0,    0,    0,    0,    0,    0,    0,    0,    0,    0,    0,    0,    0,    0,    0,    0,    0,    0,    0,    0,    0,    0,    0,    0,    0,    0,    0,    0]),\n",
       "        ( 37928, [ -26,    9,   52,   83,   85,   62,   25,   -4,  -23,  -28,  -19,   -4,    7,   14,   15,    9,   -3,  -16,  -21,  -14,    1,   24,   42,   46,   37,   23,   12,    2,  -15,  -38,  -53,  -55,  -44,  -32,  -21,  -14,   -9,   -7,   -5,   -2,   -1,   -9,  -26,    0,    0,    0,    0,    0,    0,    0]),\n",
       "        ( 37928, [ -24,   -4,   31,   77,  111,  117,   86,   35,  -12,  -43,  -51,  -42,  -25,  -12,  -10,  -15,  -19,  -22,  -19,  -15,   -8,   -1,    1,    3,    4,    0,  -10,  -24,  -37,  -52,  -66,  -76,  -73,  -62,  -48,  -36,  -25,  -14,   -3,    2,    7,    8,    2,    0,    0,    0,    0,    0,    0,    0]),\n",
       "        ( 37928, [   4,   38,   76,  100,   98,   70,   25,  -15,  -43,  -49,  -38,  -17,   -2,    2,    2,    1,    1,    2,    5,   11,   17,   21,   21,   15,    4,   -5,  -12,  -19,  -31,  -52,  -75,  -90,  -93,  -85,  -71,  -56,  -39,  -25,  -14,   -4,    0,    1,   -7,    0,    0,    0,    0,    0,    0,    0]),\n",
       "        ( 37928, [   4,   32,   63,   85,   86,   60,   16,  -25,  -49,  -43,  -17,   11,   33,   42,   39,   30,   15,    1,   -4,   -5,    0,    4,    2,   -7,  -19,  -28,  -30,  -28,  -30,  -41,  -55,  -62,  -58,  -48,  -36,  -25,  -16,   -9,   -3,    2,   10,   18,   19,    0,    0,    0,    0,    0,    0,    0]),\n",
       "        ( 37972, [  42,   46,   37,   23,   12,    2,  -15,  -38,  -53,  -55,  -44,  -32,  -21,  -14,   -9,   -7,   -5,   -2,   -1,   -9,  -26,    0,    0,    0,    0,    0,    0,    0,    0,    0,    0,    0,    0,    0,    0,    0,    0,    0,    0,    0,    0,    0,    0,    0,    0,    0,    0,    0,    0,    0]),\n",
       "        ( 37972, [   1,    3,    4,    0,  -10,  -24,  -37,  -52,  -66,  -76,  -73,  -62,  -48,  -36,  -25,  -14,   -3,    2,    7,    8,    2,    0,    0,    0,    0,    0,    0,    0,    0,    0,    0,    0,    0,    0,    0,    0,    0,    0,    0,    0,    0,    0,    0,    0,    0,    0,    0,    0,    0,    0]),\n",
       "        ( 37972, [  21,   15,    4,   -5,  -12,  -19,  -31,  -52,  -75,  -90,  -93,  -85,  -71,  -56,  -39,  -25,  -14,   -4,    0,    1,   -7,    0,    0,    0,    0,    0,    0,    0,    0,    0,    0,    0,    0,    0,    0,    0,    0,    0,    0,    0,    0,    0,    0,    0,    0,    0,    0,    0,    0,    0]),\n",
       "        ( 37972, [   2,   -7,  -19,  -28,  -30,  -28,  -30,  -41,  -55,  -62,  -58,  -48,  -36,  -25,  -16,   -9,   -3,    2,   10,   18,   19,    0,    0,    0,    0,    0,    0,    0,    0,    0,    0,    0,    0,    0,    0,    0,    0,    0,    0,    0,    0,    0,    0,    0,    0,    0,    0,    0,    0,    0]),\n",
       "        ( 38442, [ -29,   -7,   23,   58,   72,   51,    3,  -51,  -93, -108,  -97,  -71,  -41,  -17,   -3,    2,    7,   12,   16,   16,   19,   25,   29,   29,   25,   22,   17,   14,   11,    9,    8,   10,   16,   22,   18,    7,   -2,   -1,    9,   21,   28,   25,   16,    2,   -7,   -8,    0,    0,    0,    0]),\n",
       "        ( 38442, [ -46,  -31,   -7,   28,   63,   76,   53,    4,  -51,  -93, -110,  -99,  -73,  -49,  -33,  -26,  -21,  -14,   -8,   -5,   -4,    0,    9,   18,   19,   14,    8,    4,    4,    9,   18,   29,   39,   45,   45,   42,   35,   30,   29,   33,   37,   37,   33,   29,   24,   17,    0,    0,    0,    0]),\n",
       "        ( 38442, [ -45,  -21,   14,   53,   75,   60,   16,  -38,  -85, -108, -105,  -86,  -64,  -43,  -23,   -9,   -5,   -8,  -12,  -15,   -9,    3,   18,   25,   21,   12,    5,    5,    8,   12,   17,   21,   25,   30,   31,   29,   26,   28,   32,   32,   31,   33,   38,   39,   30,   15,    0,    0,    0,    0]),\n",
       "        ( 38442, [ -24,   -5,   22,   55,   69,   46,   -2,  -58,  -97, -110,  -98,  -72,  -42,  -11,   14,   32,   41,   36,   18,   -3,  -21,  -24,  -16,   -5,    0,    3,    7,   12,   18,   19,   18,   16,   14,   11,    5,   -1,   -9,   -9,   -2,    3,   10,   16,   18,   15,    9,    4,    0,    0,    0,    0]),\n",
       "        ( 39194, [   7,   19,   37,   60,   85,  103,   96,   59,    7,  -42,  -75,  -82,  -71,  -53,  -37,  -24,  -11,    2,   16,   22,   19,   12,    5,    1,    1,    3,    4,    3,    3,    8,   17,   25,   26,   21,   10,   -1,  -11,  -16,  -16,  -15,  -12,   -3,    5,   14,   15,    0,    0,    0,    0,    0]),\n",
       "        ( 39194, [ -18,   -2,   16,   36,   58,   83,  104,  103,   75,   25,  -21,  -50,  -52,  -41,  -25,  -10,    1,   10,   17,   22,   24,   22,   16,    7,   -3,  -16,  -29,  -39,  -41,  -33,  -18,   -1,   12,   18,   15,    9,    2,   -3,   -8,  -10,  -14,  -12,   -3,   12,   26,    0,    0,    0,    0,    0]),\n",
       "        ( 39194, [ -32,   -4,   28,   65,   99,  120,  112,   72,   11,  -42,  -71,  -75,  -63,  -44,  -23,   -3,   10,   23,   31,   32,   30,   23,   12,    0,  -14,  -28,  -36,  -33,  -23,   -9,    2,   14,   22,   24,   19,    9,   -1,  -10,  -18,  -29,  -31,  -21,   -1,   15,   25,    0,    0,    0,    0,    0]),\n",
       "        ( 39194, [  -3,    2,   21,   45,   71,   87,   83,   52,    9,  -31,  -57,  -65,  -62,  -50,  -33,  -12,   10,   33,   48,   49,   38,   24,   14,    9,   11,   12,   14,   11,    8,    3,    1,    2,    2,    4,    9,   10,    4,   -8,  -23,  -36,  -38,  -28,  -11,    0,    4,    0,    0,    0,    0,    0]),\n",
       "        ( 39820, [-117, -125,   96,   52,   10,  -32,  -79, -113, -119,  -94,  -55,  -16,    5,   15,   15,   11,    9,    8,    7,    9,   12,   12,    7,    3,    4,    8,   10,   12,   19,   30,   37,   33,   19,    1,  -19,  -43,  -63,  -70,  -63,    0,    0,    0,    0,    0,    0,    0,    0,    0,    0,    0]),\n",
       "        ( 39820, [ 106,  123,  108,   71,   29,   -4,  -33,  -56,  -67,  -69,  -60,  -45,  -26,   -8,    5,   12,   11,    7,    1,   -3,   -2,    2,    5,    5,    7,   14,   22,   24,   22,   19,   18,   17,   11,    3,   -7,  -17,  -28,  -39,  -44,    0,    0,    0,    0,    0,    0,    0,    0,    0,    0,    0]),\n",
       "        ( 39820, [-126,  113,   73,   30,    0,  -15,  -29,  -53,  -87, -114, -121, -107,  -77,  -43,  -17,   -4,    2,    4,    2,    2,    8,   12,   12,   14,   21,   32,   38,   39,   41,   45,   46,   37,   21,    7,    2,    3,    0,  -14,  -29,    0,    0,    0,    0,    0,    0,    0,    0,    0,    0,    0]),\n",
       "        ( 39820, [ 119,  107,   73,   29,   -7,  -33,  -50,  -55,  -49,  -37,  -29,  -25,  -23,  -18,  -12,   -5,    1,    8,    8,   -1,  -15,  -28,  -30,  -19,   -1,   10,   14,   14,   21,   29,   30,   17,    2,   -7,  -10,  -10,  -10,  -14,  -21,    0,    0,    0,    0,    0,    0,    0,    0,    0,    0,    0]),\n",
       "        ( 40284, [   0,   -1,    4,    4,   38,   60,   69,   45,   -9,  -76, -121,  126, -105,  -67,  -32,   -5,   12,   22,   19,    8,   -4,  -10,   -3,   11,   24,   24,   15,    7,    7,   15,   26,   37,   43,   41,   31,   22,   16,   11,    9,    7,    2,    0,    3,   14,   18,   11,    1,    0,    0,    0]),\n",
       "        ( 40284, [   7,    0,   -8,   -7,    7,   38,   76,   99,   89,   42,  -17,  -67,  -90,  -85,  -63,  -38,  -15,    2,   14,   15,    5,   -5,  -16,  -21,  -19,  -16,  -16,  -18,  -18,  -12,   -1,   10,   22,   30,   32,   29,   22,   15,    7,    0,  -10,  -21,  -26,  -24,  -16,   -9,   -9,    0,    0,    0]),\n",
       "        ( 40284, [  12,    9,    7,   10,   25,   52,   76,   70,   30,  -26,  -77,  -99,  -92,  -65,  -31,    0,   23,   31,   25,   14,    1,   -4,   -5,   -2,    0,   -2,  -11,  -19,  -19,   -8,    8,   24,   33,   32,   23,   10,    2,   -2,   -8,  -17,  -28,  -33,  -26,  -15,  -10,  -16,  -22,    0,    0,    0]),\n",
       "        ( 40284, [   9,   11,   15,   24,   44,   71,   90,   73,   17,  -58, -124,  106,  119,  -94,  -46,   -5,   24,   43,   48,   38,   22,    8,    2,    2,    7,   10,    9,    9,   15,   26,   38,   45,   48,   45,   38,   30,   22,   14,    4,   -5,  -19,  -29,  -25,  -17,  -19,  -32,  -44,    0,    0,    0]),\n",
       "        ( 40440, [  38,   63,   83,   90,   72,   26,  -26,  -71,  -90,  -86,  -73,  -60,  -50,  -41,  -32,  -23,  -14,   -9,   -9,  -11,  -10,   -5,   -2,   -1,   -1,    0,    3,    9,   14,   15,    9,    1,   -2,   -4,   -3,   -4,  -10,  -21,  -30,  -35,  -31,  -24,    0,    0,    0,    0,    0,    0,    0,    0]),\n",
       "        ( 40440, [  -2,   12,   41,   72,   91,   83,   43,   -9,  -52,  -73,  -72,  -60,  -51,  -44,  -36,  -24,  -10,    0,    5,    8,   10,   15,   18,   14,    0,  -14,  -24,  -25,  -17,   -5,    0,    1,    0,    1,    5,   12,   17,   16,   11,    8,    5,    3,    0,    0,    0,    0,    0,    0,    0,    0]),\n",
       "        ( 40440, [  15,   42,   71,   90,   83,   45,   -3,  -48,  -71,  -70,  -57,  -48,  -44,  -45,  -45,  -39,  -30,  -22,  -14,   -7,    0,    5,    8,    4,   -2,   -8,   -9,   -4,    0,    1,    0,   -2,   -3,   -3,    0,    8,   19,   26,   21,    5,   -8,  -21,    0,    0,    0,    0,    0,    0,    0,    0]),\n",
       "        ( 40440, [  60,   94,  125, -116,  126,   79,    9,  -53,  -92, -101,  -89,  -71,  -59,  -51,  -45,  -36,  -29,  -29,  -33,  -37,  -31,  -16,   -4,   -4,  -10,  -17,  -24,  -26,  -26,  -26,  -29,  -31,  -35,  -35,  -30,  -16,    0,    9,    5,   -4,  -21,  -35,    0,    0,    0,    0,    0,    0,    0,    0]),\n",
       "        ( 41708, [ -29,    2,   53,  103,  119,   92,   33,  -26,  -65,  -72,  -59,  -42,  -30,  -30,  -36,  -42,  -42,  -36,  -23,   -5,    8,   14,    8,   -1,  -10,  -10,   -7,   -5,  -10,  -15,  -12,   -1,   11,   19,   18,    9,   -1,  -10,  -15,  -15,  -14,   -7,    3,   16,    0,    0,    0,    0,    0,    0]),\n",
       "        ( 41708, [ -45,  -31,    1,   50,   92,  105,   79,   28,  -28,  -67,  -76,  -63,  -45,  -32,  -29,  -32,  -38,  -43,  -42,  -33,  -18,    0,   11,   14,    8,    2,    2,    4,    7,    7,    8,   10,   17,   28,   37,   41,   36,   25,   11,    3,    0,    0,    5,   16,    0,    0,    0,    0,    0,    0]),\n",
       "        ( 41708, [   3,   28,   64,   96,  103,   76,   28,  -19,  -50,  -58,  -53,  -49,  -48,  -50,  -51,  -49,  -44,  -37,  -29,  -16,   -5,   -2,   -7,  -16,  -22,  -18,  -11,   -5,   -4,   -5,   -3,    5,   19,   31,   30,   17,   -2,  -19,  -30,  -32,  -29,  -21,   -9,    1,    0,    0,    0,    0,    0,    0]),\n",
       "        ( 41708, [ -26,   -5,   33,   76,   92,   70,   19,  -36,  -76,  -87,  -80,  -69,  -58,  -51,  -46,  -41,  -33,  -24,  -12,    0,   10,   17,   16,    8,    0,   -2,    0,    2,    3,    1,    2,   12,   26,   35,   30,   15,    0,  -11,  -21,  -33,  -45,  -46,  -33,  -16,    0,    0,    0,    0,    0,    0]),\n",
       "        ( 44192, [   0,    0,    0,    0,    0,    0,    0,    0,    0,  -45,  -21,   -5,    1,    2,    3,    9,   19,   31,   37,   36,   30,   24,   18,   15,   14,   15,   14,    8,    0,   -9,  -16,  -19,  -21,  -15,   -3,    9,   21,   29,   31,   26,   17,    2,  -14,  -24,  -30,  -32,  -35,  -32,  -29,  -24]),\n",
       "        ( 44192, [   0,    0,    0,    0,    0,    0,    0,    0,    0,  -87,  -69,  -46,  -26,  -11,   -1,    4,   14,   23,   32,   36,   33,   30,   24,   14,    3,    0,    1,    1,   -2,   -9,  -19,  -28,  -29,  -25,  -17,   -7,    1,   10,   16,   16,    9,    2,    0,    1,    2,   -1,  -12,  -24,  -29,  -23]),\n",
       "        ( 44192, [   0,    0,    0,    0,    0,    0,    0,    0,    0,  -65,  -48,  -37,  -31,  -23,   -8,   14,   42,   64,   77,   77,   65,   45,   24,    9,    3,    2,    0,   -3,   -4,   -2,   -1,   -2,   -5,   -4,   -1,    5,   14,   21,   19,   11,   -1,  -15,  -26,  -31,  -30,  -26,  -24,  -26,  -29,  -30]),\n",
       "        ( 44192, [   0,    0,    0,    0,    0,    0,    0,    0,    0,  -46,  -29,  -12,    0,   11,   25,   44,   56,   57,   49,   37,   26,   21,   16,   10,    5,    3,    2,    3,    4,    0,  -10,  -26,  -36,  -35,  -23,   -5,    8,   21,   31,   35,   26,   10,   -8,  -19,  -23,  -19,  -14,   -9,   -3,    1]),\n",
       "        ( 45128, [  63,   84,   83,   59,   25,   -4,  -28,  -37,  -31,  -17,   -1,    7,    8,    4,    4,    7,    8,    5,    2,    0,    0,   -4,   -9,  -14,  -15,  -17,  -23,  -30,  -37,  -41,  -42,  -42,  -38,  -31,  -19,  -11,   -7,   -3,    0,    2,    2,    0,    0,    0,    0,    0,    0,    0,    0,    0]),\n",
       "        ( 45128, [  31,   45,   60,   62,   46,   19,   -8,  -30,  -36,  -30,  -21,  -17,  -23,  -32,  -38,  -33,  -23,  -12,   -5,   -2,    0,    3,    4,    3,    2,    0,   -1,   -1,    1,    5,    8,    7,    2,   -1,   -2,   -1,    0,   -2,   -3,   -2,    0,    2,    0,    0,    0,    0,    0,    0,    0,    0]),\n",
       "        ( 45128, [  72,   79,   77,   63,   41,   11,  -19,  -46,  -60,  -63,  -60,  -59,  -57,  -51,  -39,  -22,   -7,    0,    0,   -1,   -3,   -8,  -14,  -18,  -18,  -18,  -19,  -22,  -23,  -21,  -17,  -14,  -10,   -7,   -2,    1,    3,    2,    0,   -3,   -5,   -9,    0,    0,    0,    0,    0,    0,    0,    0]),\n",
       "        ( 45128, [  77,   82,   69,   37,    0,  -35,  -57,  -62,  -53,  -42,  -32,  -29,  -28,  -25,  -18,  -11,   -5,   -5,   -9,  -11,  -12,  -17,  -21,  -23,  -28,  -36,  -43,  -45,  -42,  -29,   -8,    9,   21,   21,   17,   17,   24,   36,   42,   31,    3,  -28,    0,    0,    0,    0,    0,    0,    0,    0]),\n",
       "        ( 45290, [   0,    0,    0,    0,    0,    0,    0,    0,    0,    0,    0,    0,    0,    0,    0,    0,    0,    0,    0,    0,    0,    0,    0,    0,    0,    0,    0,    0,    0,    0,    0,    0,    0,    0,    0,    0,    0,    0,    0,    0,    0,    0,    0,    0,    0,    0,    0,    0,    0,    0]),\n",
       "        ( 45290, [   0,    0,    0,    0,    0,    0,    0,    0,    0,    0,    0,    0,    0,    0,    0,    0,    0,    0,    0,    0,    0,    0,    0,    0,    0,    0,    0,    0,    0,    0,    0,    0,    0,    0,    0,    0,    0,    0,    0,    0,    0,    0,    0,    0,    0,    0,    0,    0,    0,    0]),\n",
       "        ( 45290, [   0,    0,    0,    0,    0,    0,    0,    0,    0,    0,    0,    0,    0,    0,    0,    0,    0,    0,    0,    0,    0,    0,    0,    0,    0,    0,    0,    0,    0,    0,    0,    0,    0,    0,    0,    0,    0,    0,    0,    0,    0,    0,    0,    0,    0,    0,    0,    0,    0,    0]),\n",
       "        ( 45290, [   0,    0,    0,    0,    0,    0,    0,    0,    0,    0,    0,    0,    0,    0,    0,    0,    0,    0,    0,    0,    0,    0,    0,    0,    0,    0,    0,    0,    0,    0,    0,    0,    0,    0,    0,    0,    0,    0,    0,    0,    0,    0,    0,    0,    0,    0,    0,    0,    0,    0]),\n",
       "        ( 45440, [  60,   83,   89,   70,   33,   -3,  -28,  -35,  -24,   -5,    8,   15,   17,   18,   18,   18,   16,   10,    3,   -7,  -22,  -38,  -48,  -46,  -38,  -33,  -31,  -25,  -18,  -16,  -18,  -18,  -16,  -15,  -16,  -17,  -15,   -9,   -1,    7,   14,   17,    0,    0,    0,    0,    0,    0,    0,    0]),\n",
       "        ( 45440, [  59,   86,  104,  101,   75,   32,   -5,  -31,  -42,  -39,  -35,  -29,  -22,  -11,    1,   14,   19,   19,   15,    8,   -2,  -16,  -25,  -32,  -37,  -39,  -38,  -33,  -23,  -14,  -11,  -16,  -19,  -24,  -28,  -30,  -29,  -23,  -15,   -7,    1,    8,    0,    0,    0,    0,    0,    0,    0,    0]),\n",
       "        ( 45440, [  48,   67,   76,   60,   26,   -8,  -32,  -44,  -50,  -55,  -58,  -56,  -46,  -29,   -8,    5,   10,    8,    3,   -1,   -4,   -5,   -3,   -1,    0,    0,   -3,  -10,  -18,  -26,  -33,  -35,  -29,  -21,  -15,  -11,  -11,  -11,   -7,    0,    7,   14,    0,    0,    0,    0,    0,    0,    0,    0]),\n",
       "        ( 45440, [  52,   72,   78,   59,   23,   -9,  -24,  -21,   -9,   -2,    0,   -2,   -2,   -1,    0,   -3,   -9,  -14,  -17,  -22,  -28,  -35,  -37,  -35,  -28,  -21,  -14,   -5,   -1,   -5,  -16,  -24,  -23,  -15,   -5,   -1,   -1,    0,    2,    9,   18,   30,    0,    0,    0,    0,    0,    0,    0,    0]),\n",
       "        ( 46606, [ -35,  -30,  -17,    0,   23,   56,   84,   85,   51,   -1,  -53,  -89,  -99,  -85,  -58,  -31,   -9,    5,   17,   24,   28,   31,   37,   41,   41,   35,   23,   11,    3,    0,   -3,   -7,  -10,  -14,  -15,  -10,    0,    9,    8,    0,   -9,  -14,  -11,   -3,    5,   15,   24,   35,    0,    0]),\n",
       "        ( 46606, [ -26,  -33,  -37,  -31,  -14,   15,   50,   72,   67,   30,  -19,  -65,  -89,  -87,  -65,  -31,    0,   21,   32,   37,   36,   31,   29,   29,   29,   25,   17,    7,   -1,  -10,  -17,  -19,  -16,  -12,  -15,  -23,  -28,  -24,  -18,  -15,  -17,  -21,  -22,  -17,   -7,    5,   18,   29,    0,    0]),\n",
       "        ( 46606, [ -45,  -33,  -10,   16,   44,   67,   72,   46,   -9,  -75, -125,  111,  124,  -97,  -53,  -15,   14,   37,   52,   56,   51,   45,   42,   43,   43,   37,   23,    7,   -3,   -5,   -4,   -2,   -1,   -3,   -7,   -8,   -4,   -1,    0,    0,    1,    1,    0,    0,    1,    3,   10,   21,    0,    0]),\n",
       "        ( 46606, [ -19,  -33,  -32,  -17,    4,   30,   46,   39,    4,  -43,  -84, -105, -105,  -92,  -75,  -57,  -38,  -18,   -1,    7,   10,   12,   21,   29,   35,   35,   30,   22,   17,   18,   21,   21,   17,   14,   11,   15,   25,   33,   32,   28,   22,   14,    0,  -15,  -26,  -26,  -12,   11,    0,    0]),\n",
       "        ( 48174, [  22,   41,   52,   62,   71,   71,   50,   11,  -29,  -56,  -60,  -43,  -16,    3,    9,    2,   -7,  -11,   -9,    0,   10,   23,   33,   42,   43,   38,   28,   11,   -4,  -16,  -18,  -19,  -25,  -38,  -51,  -58,  -52,  -41,  -32,  -33,  -41,  -50,  -55,  -46,  -18,   12,   32,    0,    0,    0]),\n",
       "        ( 48174, [ -35,  -18,    0,   18,   41,   63,   71,   52,   16,  -19,  -46,  -55,  -44,  -28,  -17,  -16,  -24,  -29,  -26,  -19,  -14,   -9,   -4,    1,   10,   19,   24,   21,    9,   -1,   -3,    0,    3,    3,    0,   -4,  -10,  -15,  -15,  -16,  -23,  -33,  -43,  -48,  -43,  -26,   -4,    0,    0,    0]),\n",
       "        ( 48174, [ -21,   -1,   14,   33,   53,   63,   49,   12,  -26,  -56,  -63,  -50,  -29,   -8,    1,    0,   -5,   -9,   -7,   -1,    2,    5,    9,   14,   17,   18,   18,   11,    2,    1,    8,   15,   16,   12,    5,   -1,   -5,   -7,   -8,  -14,  -26,  -39,  -48,  -42,  -19,   10,   37,    0,    0,    0]),\n",
       "        ( 48174, [ -12,    7,   24,   41,   53,   57,   41,    3,  -38,  -69,  -71,  -51,  -19,    7,   19,   17,    9,    2,    0,    0,    7,   17,   25,   25,   21,   15,    9,    0,   -9,  -11,   -4,    3,    5,    0,  -12,  -28,  -39,  -41,  -32,  -25,  -29,  -39,  -49,  -45,  -25,    0,   12,    0,    0,    0]),\n",
       "        ( 48370, [  44,   42,   30,    9,  -15,  -39,  -53,  -58,  -59,  -58,  -58,  -33,  -16,   -4,   -5,  -18,  -38,  -48,  -39,  -18,   -1,    3,    0,    0,    0,    0,    0,    0,    0,    0,    0,    0,    0,    0,    0,    0,    0,    0,    0,    0,    0,    0,    0,    0,    0,    0,    0,    0,    0,    0]),\n",
       "        ( 48370, [  25,   28,   25,   16,    1,  -14,  -28,  -35,  -39,  -44,  -50,  -52,  -44,  -29,  -12,   -3,   -2,   -8,  -15,  -15,   -8,   -1,    0,    0,    0,    0,    0,    0,    0,    0,    0,    0,    0,    0,    0,    0,    0,    0,    0,    0,    0,    0,    0,    0,    0,    0,    0,    0,    0,    0]),\n",
       "        ( 48370, [  33,   28,   17,    2,  -12,  -24,  -24,  -16,   -9,  -11,  -18,  -22,  -16,   -3,    7,    8,    0,   -7,   -5,    0,    2,   -1,  -14,    0,    0,    0,    0,    0,    0,    0,    0,    0,    0,    0,    0,    0,    0,    0,    0,    0,    0,    0,    0,    0,    0,    0,    0,    0,    0,    0]),\n",
       "        ( 48370, [  63,   58,   36,    1,  -30,  -51,  -57,  -51,  -41,  -30,  -22,  -15,  -10,   -7,  -10,  -18,  -26,  -28,  -16,    1,   16,   21,   15,    0,    0,    0,    0,    0,    0,    0,    0,    0,    0,    0,    0,    0,    0,    0,    0,    0,    0,    0,    0,    0,    0,    0,    0,    0,    0,    0]),\n",
       "        ( 49176, [   0,    0,    0,    0,    0,    0,    0,    0,  -22,  -33,  -31,  -18,   -3,   12,   35,   60,   78,   82,   72,   56,   41,   28,   12,   -5,  -29,  -49,  -59,  -56,  -39,  -16,    5,   21,   24,   18,    7,   -5,  -19,  -29,  -30,  -26,  -19,  -11,   -4,    2,    9,   15,   23,   35,   44,   45]),\n",
       "        ( 49176, [   0,    0,    0,    0,    0,    0,    0,   10,  -12,  -35,  -44,  -42,  -33,  -25,  -18,  -11,   -2,    4,    8,    8,    9,   12,   14,   11,    2,  -11,  -29,  -45,  -56,  -60,  -58,  -49,  -39,  -29,  -16,   -1,   12,   21,   21,   15,    9,    5,    3,    4,    9,   12,   16,   21,   23,   21]),\n",
       "        ( 49176, [   0,    0,    0,    0,    0,    0,    0,  -22,  -46,  -55,  -51,  -42,  -31,  -19,   -2,   17,   32,   41,   42,   44,   50,   55,   45,   21,   -8,  -35,  -53,  -62,  -62,  -56,  -44,  -29,  -17,   -8,    0,    4,    3,   -1,   -7,   -9,   -8,   -5,   -2,    0,    2,    3,    8,   16,   21,   17]),\n",
       "        ( 49176, [   0,    0,    0,    0,    0,    0,    0,  -29,  -48,  -49,  -37,  -21,   -4,   15,   45,   79,  104,  106,   91,   71,   51,   33,   10,  -17,  -49,  -75,  -90,  -92,  -79,  -58,  -36,  -18,   -7,    0,    8,   11,    5,   -3,   -9,  -10,   -7,   -4,   -1,    5,   17,   29,   38,   45,   48,   42]),\n",
       "        ( 49210, [  82,   72,   56,   41,   28,   12,   -5,  -29,  -49,  -59,  -56,  -39,  -16,    5,   21,   24,   18,    7,   -5,  -19,  -29,  -30,  -26,  -19,  -11,   -4,    2,    9,   15,   23,   35,   44,   45,   35,   21,   11,    8,    5,    0,  -10,    0,    0,    0,    0,    0,    0,    0,    0,    0,    0]),\n",
       "        ( 49210, [   4,    8,    8,    9,   12,   14,   11,    2,  -11,  -29,  -45,  -56,  -60,  -58,  -49,  -39,  -29,  -16,   -1,   12,   21,   21,   15,    9,    5,    3,    4,    9,   12,   16,   21,   23,   21,   14,    7,    3,    4,   10,   14,   11,    0,    0,    0,    0,    0,    0,    0,    0,    0,    0]),\n",
       "        ( 49210, [  41,   42,   44,   50,   55,   45,   21,   -8,  -35,  -53,  -62,  -62,  -56,  -44,  -29,  -17,   -8,    0,    4,    3,   -1,   -7,   -9,   -8,   -5,   -2,    0,    2,    3,    8,   16,   21,   17,    7,   -1,   -3,    0,    2,    3,    1,    0,    0,    0,    0,    0,    0,    0,    0,    0,    0]),\n",
       "        ( 49210, [ 106,   91,   71,   51,   33,   10,  -17,  -49,  -75,  -90,  -92,  -79,  -58,  -36,  -18,   -7,    0,    8,   11,    5,   -3,   -9,  -10,   -7,   -4,   -1,    5,   17,   29,   38,   45,   48,   42,   31,   21,   14,    9,    3,   -3,  -16,    0,    0,    0,    0,    0,    0,    0,    0,    0,    0]),\n",
       "        ( 49540, [   7,   28,   44,   39,    7,  -38,  -80, -105, -110, -104,  -91,  -75,  -58,  -46,  -43,  -43,  -43,  -42,  -36,  -25,  -15,   -3,    4,   14,   22,   29,   36,   37,   29,   12,    0,   -2,    5,   17,    0,    0,    0,    0,    0,    0,    0,    0,    0,    0,    0,    0,    0,    0,    0,    0]),\n",
       "        ( 49540, [  -1,    7,   14,   19,   18,    9,   -4,  -24,  -42,  -53,  -58,  -55,  -42,  -26,  -16,  -12,  -15,  -19,  -22,  -19,  -14,   -9,  -11,  -18,  -28,  -32,  -33,  -35,  -37,  -41,  -41,  -31,  -15,    1,    0,    0,    0,    0,    0,    0,    0,    0,    0,    0,    0,    0,    0,    0,    0,    0]),\n",
       "        ( 49540, [  -4,   -7,  -10,  -10,   -7,   -5,   -8,  -14,  -17,  -22,  -29,  -35,  -33,  -28,  -19,  -12,   -9,   -9,   -5,   -2,   -2,   -5,  -11,  -16,  -17,  -15,  -10,   -3,    2,    5,    8,    8,    8,   10,    0,    0,    0,    0,    0,    0,    0,    0,    0,    0,    0,    0,    0,    0,    0,    0]),\n",
       "        ( 49540, [ -11,  -36,  -51,  -50,  -42,  -36,  -33,  -33,  -31,  -31,  -33,  -36,  -35,  -32,  -32,  -33,  -33,  -30,  -24,  -17,  -11,   -7,   -4,   -2,    0,    4,   14,   23,   24,   15,    1,   -5,   -7,   -3,    0,    0,    0,    0,    0,    0,    0,    0,    0,    0,    0,    0,    0,    0,    0,    0]),\n",
       "        ( 49576, [ -36,  -25,  -15,   -3,    4,   14,   22,   29,   36,   37,   29,   12,    0,   -2,    5,   17,    0,    0,    0,    0,    0,    0,    0,    0,    0,    0,    0,    0,    0,    0,    0,    0,    0,    0,    0,    0,    0,    0,    0,    0,    0,    0,    0,    0,    0,    0,    0,    0,    0,    0]),\n",
       "        ( 49576, [ -22,  -19,  -14,   -9,  -11,  -18,  -28,  -32,  -33,  -35,  -37,  -41,  -41,  -31,  -15,    1,    0,    0,    0,    0,    0,    0,    0,    0,    0,    0,    0,    0,    0,    0,    0,    0,    0,    0,    0,    0,    0,    0,    0,    0,    0,    0,    0,    0,    0,    0,    0,    0,    0,    0]),\n",
       "        ( 49576, [  -5,   -2,   -2,   -5,  -11,  -16,  -17,  -15,  -10,   -3,    2,    5,    8,    8,    8,   10,    0,    0,    0,    0,    0,    0,    0,    0,    0,    0,    0,    0,    0,    0,    0,    0,    0,    0,    0,    0,    0,    0,    0,    0,    0,    0,    0,    0,    0,    0,    0,    0,    0,    0]),\n",
       "        ( 49576, [ -24,  -17,  -11,   -7,   -4,   -2,    0,    4,   14,   23,   24,   15,    1,   -5,   -7,   -3,    0,    0,    0,    0,    0,    0,    0,    0,    0,    0,    0,    0,    0,    0,    0,    0,    0,    0,    0,    0,    0,    0,    0,    0,    0,    0,    0,    0,    0,    0,    0,    0,    0,    0]),\n",
       "        ( 50298, [  -1,   21,   58,   90,   98,   78,   33,  -17,  -60,  -78,  -66,  -38,  -10,    4,    9,    9,   14,   26,   39,   43,   36,   22,   12,    9,    7,    4,    8,   14,   16,   14,    8,    1,   -2,   -4,   -8,   -9,  -10,   -9,   -8,   -7,   -5,   -4,   -4,    0,    0,    0,    0,    0,    0,    0]),\n",
       "        ( 50298, [  -3,    3,   26,   57,   76,   70,   38,   -3,  -44,  -73,  -80,  -64,  -36,  -10,    0,   -2,   -8,   -9,   -2,    5,   10,   10,    7,    2,    2,    3,    3,    3,    3,    2,    1,    1,    0,   -2,   -4,   -5,   -3,    0,    1,    2,    3,    5,   10,    0,    0,    0,    0,    0,    0,    0]),\n",
       "        ( 50298, [   9,   35,   65,   84,   82,   56,   14,  -28,  -56,  -59,  -41,  -12,    8,   15,   15,   17,   28,   43,   52,   45,   25,    2,  -10,  -15,  -12,  -10,  -10,   -8,   -4,   -1,   -1,   -7,  -15,  -21,  -25,  -25,  -19,  -11,   -1,    9,   19,   25,   29,    0,    0,    0,    0,    0,    0,    0]),\n",
       "        ( 50298, [  17,   55,   93,  119,  119,   91,   39,  -21,  -76, -105,  -98,  -59,  -11,   22,   37,   38,   39,   46,   55,   55,   44,   28,   14,    7,    3,   -1,   -8,  -14,  -17,  -19,  -23,  -28,  -30,  -31,  -31,  -28,  -19,  -10,    0,    8,   12,   11,   10,    0,    0,    0,    0,    0,    0,    0]),\n",
       "        ( 50948, [ -14,  -21,  -18,  -12,  -12,  -21,  -31,  -33,  -29,  -24,  -28,  -36,  -41,  -35,  -19,   -5,   -1,   -4,   -4,    2,   11,   14,    8,    0,   -4,  -10,  -17,  -22,  -24,  -23,  -19,  -14,   -5,    2,   10,   15,    0,    0,    0,    0,    0,    0,    0,    0,    0,    0,    0,    0,    0,    0]),\n",
       "        ( 50948, [  18,   -3,  -14,  -11,   -4,    0,   -2,   -5,   -7,   -7,  -11,  -19,  -29,  -31,  -23,   -9,   -1,   -2,  -10,  -12,   -3,   11,   18,   10,    0,   -8,  -11,  -15,  -17,  -17,  -12,   -5,   -3,   -9,  -17,  -23,    0,    0,    0,    0,    0,    0,    0,    0,    0,    0,    0,    0,    0,    0]),\n",
       "        ( 50948, [ -15,  -23,  -18,   -7,   -1,   -8,  -21,  -32,  -44,  -59,  -72,  -75,  -63,  -41,  -15,    2,    5,   -1,   -8,   -4,    4,    9,    0,  -11,  -18,  -18,  -15,  -12,   -9,   -5,    0,    5,    9,    5,    1,    4,    0,    0,    0,    0,    0,    0,    0,    0,    0,    0,    0,    0,    0,    0]),\n",
       "        ( 50948, [  24,   -9,  -37,  -48,  -42,  -36,  -41,  -55,  -71,  -86,  -94,  -91,  -73,  -49,  -25,  -14,  -15,  -23,  -28,  -24,  -18,  -21,  -31,  -39,  -43,  -43,  -43,  -43,  -36,  -22,   -9,   -3,   -3,   -3,    0,   14,    0,    0,    0,    0,    0,    0,    0,    0,    0,    0,    0,    0,    0,    0]),\n",
       "        ( 52570, [ -35,  -37,  -44,  -50,  -51,  -48,  -43,  -42,  -46,  -53,  -58,  -52,  -38,  -23,  -15,  -12,  -11,  -11,    0,    0,    0,    0,    0,    0,    0,    0,    0,    0,    0,    0,    0,    0,    0,    0,    0,    0,    0,    0,    0,    0,    0,    0,    0,    0,    0,    0,    0,    0,    0,    0]),\n",
       "        ( 52570, [  -9,  -12,  -22,  -30,  -35,  -39,  -46,  -53,  -58,  -60,  -64,  -67,  -66,  -56,  -39,  -24,  -16,  -12,    0,    0,    0,    0,    0,    0,    0,    0,    0,    0,    0,    0,    0,    0,    0,    0,    0,    0,    0,    0,    0,    0,    0,    0,    0,    0,    0,    0,    0,    0,    0,    0]),\n",
       "        ( 52570, [ -21,  -30,  -45,  -59,  -65,  -60,  -49,  -33,  -23,  -21,  -30,  -45,  -52,  -50,  -44,  -42,  -41,  -38,    0,    0,    0,    0,    0,    0,    0,    0,    0,    0,    0,    0,    0,    0,    0,    0,    0,    0,    0,    0,    0,    0,    0,    0,    0,    0,    0,    0,    0,    0,    0,    0]),\n",
       "        ( 52570, [ -72,  -73,  -77,  -79,  -76,  -65,  -53,  -43,  -33,  -29,  -32,  -39,  -41,  -37,  -36,  -45,  -58,  -67,    0,    0,    0,    0,    0,    0,    0,    0,    0,    0,    0,    0,    0,    0,    0,    0,    0,    0,    0,    0,    0,    0,    0,    0,    0,    0,    0,    0,    0,    0,    0,    0]),\n",
       "        ( 52764, [  22,    9,    0,  -14,  -29,  -44,  -55,  -59,  -62,  -59,  -51,  -41,  -33,  -32,    0,    0,    0,    0,    0,    0,    0,    0,    0,    0,    0,    0,    0,    0,    0,    0,    0,    0,    0,    0,    0,    0,    0,    0,    0,    0,    0,    0,    0,    0,    0,    0,    0,    0,    0,    0]),\n",
       "        ( 52764, [  22,   12,    7,    3,    0,   -4,  -14,  -26,  -38,  -44,  -45,  -41,  -29,  -18,    0,    0,    0,    0,    0,    0,    0,    0,    0,    0,    0,    0,    0,    0,    0,    0,    0,    0,    0,    0,    0,    0,    0,    0,    0,    0,    0,    0,    0,    0,    0,    0,    0,    0,    0,    0]),\n",
       "        ( 52764, [  -3,   -1,   -1,   -7,  -16,  -26,  -30,  -26,  -24,  -28,  -36,  -43,  -48,  -50,    0,    0,    0,    0,    0,    0,    0,    0,    0,    0,    0,    0,    0,    0,    0,    0,    0,    0,    0,    0,    0,    0,    0,    0,    0,    0,    0,    0,    0,    0,    0,    0,    0,    0,    0,    0]),\n",
       "        ( 52764, [   2,   -4,  -11,  -22,  -36,  -55,  -67,  -66,  -53,  -39,  -31,  -31,  -36,  -44,    0,    0,    0,    0,    0,    0,    0,    0,    0,    0,    0,    0,    0,    0,    0,    0,    0,    0,    0,    0,    0,    0,    0,    0,    0,    0,    0,    0,    0,    0,    0,    0,    0,    0,    0,    0]),\n",
       "        ( 53058, [   4,    2,    7,   10,    9,    3,   -4,  -18,  -35,  -44,  -42,  -30,  -17,   -8,   -4,   -4,   -5,   -5,   -9,  -16,  -24,  -28,  -25,  -19,  -17,  -19,  -26,  -35,  -44,    0,    0,    0,    0,    0,    0,    0,    0,    0,    0,    0,    0,    0,    0,    0,    0,    0,    0,    0,    0,    0]),\n",
       "        ( 53058, [  49,   33,   25,   24,   21,   11,   -2,  -16,  -32,  -50,  -60,  -57,  -46,  -32,  -19,  -14,  -14,  -16,  -16,  -17,  -21,  -25,  -28,  -28,  -31,  -38,  -41,  -36,  -25,    0,    0,    0,    0,    0,    0,    0,    0,    0,    0,    0,    0,    0,    0,    0,    0,    0,    0,    0,    0,    0]),\n",
       "        ( 53058, [  23,   21,   28,   33,   31,   21,    4,  -14,  -35,  -46,  -44,  -31,  -17,   -7,   -2,   -1,   -1,   -3,   -7,  -11,  -16,  -19,  -19,  -17,  -17,  -18,  -16,   -9,   -1,    0,    0,    0,    0,    0,    0,    0,    0,    0,    0,    0,    0,    0,    0,    0,    0,    0,    0,    0,    0,    0]),\n",
       "        ( 53058, [  -9,  -29,  -39,  -42,  -42,  -41,  -43,  -50,  -64,  -75,  -77,  -69,  -55,  -38,  -26,  -18,  -10,   -1,    3,    0,  -14,  -33,  -50,  -56,  -52,  -42,  -26,   -9,    2,    0,    0,    0,    0,    0,    0,    0,    0,    0,    0,    0,    0,    0,    0,    0,    0,    0,    0,    0,    0,    0]),\n",
       "        ( 54062, [   0,    0,    0,    0,    0,    0,    0,    0,    0,    0,    0,    0,    0,    0,    0,    0,    0,    0,    0,    0,    0,    0,    0,    0,    0,    0,    0,    0,    0,    0,    0,    0,    0,    0,    0,    0,    0,    0,    0,    0,    0,    0,    0,    0,    0,    0,    0,    0,    0,    0]),\n",
       "        ( 54062, [   0,    0,    0,    0,    0,    0,    0,    0,    0,    0,    0,    0,    0,    0,    0,    0,    0,    0,    0,    0,    0,    0,    0,    0,    0,    0,    0,    0,    0,    0,    0,    0,    0,    0,    0,    0,    0,    0,    0,    0,    0,    0,    0,    0,    0,    0,    0,    0,    0,    0]),\n",
       "        ( 54062, [   0,    0,    0,    0,    0,    0,    0,    0,    0,    0,    0,    0,    0,    0,    0,    0,    0,    0,    0,    0,    0,    0,    0,    0,    0,    0,    0,    0,    0,    0,    0,    0,    0,    0,    0,    0,    0,    0,    0,    0,    0,    0,    0,    0,    0,    0,    0,    0,    0,    0]),\n",
       "        ( 54062, [   0,    0,    0,    0,    0,    0,    0,    0,    0,    0,    0,    0,    0,    0,    0,    0,    0,    0,    0,    0,    0,    0,    0,    0,    0,    0,    0,    0,    0,    0,    0,    0,    0,    0,    0,    0,    0,    0,    0,    0,    0,    0,    0,    0,    0,    0,    0,    0,    0,    0]),\n",
       "        ( 55412, [  55,   35,   21,    9,   -7,  -38,  -86,  121,  106,  106, -126,  -78,  -32,   -8,   -7,  -21,  -33,  -38,  -37,  -31,  -26,  -23,  -21,  -15,   -5,    0,    0,   -8,  -18,  -22,  -17,   -5,    4,   11,   11,   11,   14,   21,    0,    0,    0,    0,    0,    0,    0,    0,   30,   22,   23,   36]),\n",
       "        ( 55412, [   9,    0,   -4,  -10,  -16,  -23,  -35,  -52,  -73,  -91,  -92,  -73,  -42,  -11,    8,   14,    7,   -1,   -5,   -5,   -4,   -2,   -5,  -14,  -21,  -26,  -28,  -26,  -24,  -17,  -10,   -2,    5,   17,   26,   28,   21,   15,    0,    0,    0,    0,    0,    0,    0,    0,   22,   11,    3,    4]),\n",
       "        ( 55412, [  37,   30,   21,   11,    0,  -17,  -37,  -49,  -49,  -38,  -22,   -5,    5,   12,   12,    5,   -2,  -11,  -18,  -22,  -23,  -23,  -24,  -23,  -19,  -14,  -10,  -10,  -12,  -12,   -7,    0,    7,    9,    2,   -3,   -5,   -2,    0,    0,    0,    0,    0,    0,    0,    0,  -14,  -16,  -10,    1]),\n",
       "        ( 55412, [  53,   41,   25,    8,  -14,  -43,  -71,  -84,  -73,  -44,   -9,   16,   29,   28,   18,    5,   -7,  -18,  -30,  -38,  -41,  -41,  -39,  -30,  -17,   -4,    1,   -1,  -11,  -21,  -25,  -24,  -17,  -14,  -19,  -30,  -32,  -24,    0,    0,    0,    0,    0,    0,    0,    0,   19,   17,   22,   31]),\n",
       "        ( 55546, [   0,    3,    9,   11,    3,  -15,  -35,  -42,  -32,  -21,  -17,  -25,  -37,  -46,  -49,  -48,  -45,  -41,  -35,  -25,  -12,   -1,    4,   10,   18,   23,   19,    7,  -10,    0,    0,    0,    0,    0,    0,    0,    0,    0,    0,    0,    0,    0,    0,    0,    0,    0,    0,    0,    0,    0]),\n",
       "        ( 55546, [  -5,   -5,   -3,   -1,   -1,   -9,  -21,  -29,  -28,  -21,  -15,  -12,  -15,  -19,  -23,  -24,  -26,  -29,  -30,  -28,  -23,  -19,  -17,  -17,  -15,   -9,    0,    9,    9,    0,    0,    0,    0,    0,    0,    0,    0,    0,    0,    0,    0,    0,    0,    0,    0,    0,    0,    0,    0,    0]),\n",
       "        ( 55546, [   2,    8,   16,   19,    8,  -14,  -37,  -51,  -55,  -55,  -52,  -49,  -45,  -42,  -36,  -32,  -33,  -35,  -33,  -29,  -22,  -15,   -8,    1,   15,   26,   29,   22,   10,    0,    0,    0,    0,    0,    0,    0,    0,    0,    0,    0,    0,    0,    0,    0,    0,    0,    0,    0,    0,    0]),\n",
       "        ( 55546, [  -2,    0,    4,    7,   -8,  -42,  -76,  -94,  -92,  -76,  -58,  -50,  -50,  -51,  -48,  -43,  -38,  -35,  -29,  -18,   -4,   11,   25,   35,   41,   43,   38,   25,    8,    0,    0,    0,    0,    0,    0,    0,    0,    0,    0,    0,    0,    0,    0,    0,    0,    0,    0,    0,    0,    0]),\n",
       "        ( 58114, [   0,    0,    0,    0,    0,    0,    0,    0,    0,    0,    0,    0,    0,    0,    0,    0,    0,    0,    0,    0,    0,    0,    0,    0,    0,    0,    0,    0,    0,    0,    0,    0,    0,    0,    0,    0,    0,    0,    0,    0,    0,    0,    0,    0,    0,    0,    0,    0,    0,    0]),\n",
       "        ( 58114, [   0,    0,    0,    0,    0,    0,    0,    0,    0,    0,    0,    0,    0,    0,    0,    0,    0,    0,    0,    0,    0,    0,    0,    0,    0,    0,    0,    0,    0,    0,    0,    0,    0,    0,    0,    0,    0,    0,    0,    0,    0,    0,    0,    0,    0,    0,    0,    0,    0,    0]),\n",
       "        ( 58114, [   0,    0,    0,    0,    0,    0,    0,    0,    0,    0,    0,    0,    0,    0,    0,    0,    0,    0,    0,    0,    0,    0,    0,    0,    0,    0,    0,    0,    0,    0,    0,    0,    0,    0,    0,    0,    0,    0,    0,    0,    0,    0,    0,    0,    0,    0,    0,    0,    0,    0]),\n",
       "        ( 58114, [   0,    0,    0,    0,    0,    0,    0,    0,    0,    0,    0,    0,    0,    0,    0,    0,    0,    0,    0,    0,    0,    0,    0,    0,    0,    0,    0,    0,    0,    0,    0,    0,    0,    0,    0,    0,    0,    0,    0,    0,    0,    0,    0,    0,    0,    0,    0,    0,    0,    0]),\n",
       "        ( 58586, [  51,   26,    8,   -2,   -5,   -4,   -3,   -2,   -3,   -8,  -11,  -15,  -16,  -16,  -10,    0,   10,   14,   10,    4,    0,   -3,   -2,    2,   14,   23,   24,   19,   14,    7,    2,    0,    2,    7,    5,   -4,  -23,  -42,  -53,    0,    0,    0,    0,    0,    0,    0,    0,    0,    0,    0]),\n",
       "        ( 58586, [  93,   79,   63,   50,   44,   41,   36,   32,   28,   23,   15,    5,   -1,   -3,   -4,   -2,    5,   17,   23,   19,   11,    2,   -3,   -5,    1,   17,   35,   39,   29,   12,    0,   -5,   -9,   -8,   -7,   -9,  -17,  -32,  -50,    0,    0,    0,    0,    0,    0,    0,    0,    0,    0,    0]),\n",
       "        ( 58586, [  46,   29,   16,    9,    5,    4,    0,  -10,  -26,  -43,  -55,  -59,  -53,  -39,  -17,    5,   26,   36,   33,   25,   16,    8,    3,    9,   22,   33,   35,   25,   12,    2,   -3,   -8,  -11,  -12,  -12,  -17,  -29,  -46,  -58,    0,    0,    0,    0,    0,    0,    0,    0,    0,    0,    0]),\n",
       "        ( 58586, [  48,   25,    8,   -1,   -5,   -3,    1,    8,    9,    2,   -7,  -16,  -22,  -22,  -14,    1,   19,   26,   24,   22,   24,   26,   28,   30,   32,   32,   23,    4,  -12,  -25,  -32,  -35,  -33,  -26,  -19,  -16,  -22,  -31,  -39,    0,    0,    0,    0,    0,    0,    0,    0,    0,    0,    0]),\n",
       "        ( 59658, [ -14,  -24,  -30,  -30,  -31,  -37,  -44,  -46,  -43,  -38,  -38,  -39,  -39,  -33,  -26,    0,    0,    0,    0,    0,    0,    0,    0,    0,    0,    0,    0,    0,    0,    0,    0,    0,    0,    0,    0,    0,    0,    0,    0,    0,    0,    0,    0,    0,    0,    0,    0,    0,    0,    0]),\n",
       "        ( 59658, [  12,    5,    1,    3,   10,   16,   16,    9,    2,    1,    1,   -1,  -10,  -18,  -23,    0,    0,    0,    0,    0,    0,    0,    0,    0,    0,    0,    0,    0,    0,    0,    0,    0,    0,    0,    0,    0,    0,    0,    0,    0,    0,    0,    0,    0,    0,    0,    0,    0,    0,    0]),\n",
       "        ( 59658, [  -1,   -3,    0,    3,    7,    1,  -11,  -24,  -30,  -33,  -36,  -39,  -42,  -42,  -42,    0,    0,    0,    0,    0,    0,    0,    0,    0,    0,    0,    0,    0,    0,    0,    0,    0,    0,    0,    0,    0,    0,    0,    0,    0,    0,    0,    0,    0,    0,    0,    0,    0,    0,    0]),\n",
       "        ( 59658, [  -5,  -11,  -17,  -22,  -25,  -26,  -24,  -21,  -19,  -21,  -25,  -33,  -37,  -32,  -25,    0,    0,    0,    0,    0,    0,    0,    0,    0,    0,    0,    0,    0,    0,    0,    0,    0,    0,    0,    0,    0,    0,    0,    0,    0,    0,    0,    0,    0,    0,    0,    0,    0,    0,    0]),\n",
       "        ( 59768, [   0,    0,    0,    0,  -14,  -15,   -1,    9,    1,  -25,  -55,  -67,  -60,  -43,  -26,  -16,  -11,   -4,    7,   24,   43,   57,   59,   57,   57,   64,   72,   73,   66,   53,   35,    8,  -19,  -45,  -58,  -58,  -50,  -44,  -43,  -45,  -45,  -49,  -55,  -57,  -51,  -37,  -24,  -21,  -29,  -44]),\n",
       "        ( 59768, [   0,    0,    0,    0,   17,   -2,  -14,  -15,  -17,  -25,  -37,  -39,  -26,   -5,   12,   22,   21,   14,    5,    0,    0,    8,   19,   32,   41,   43,   42,   38,   37,   39,   37,   26,   12,    1,   -5,   -9,  -11,  -15,  -19,  -28,  -32,  -36,  -38,  -41,  -38,  -26,  -14,   -5,   -4,   -9]),\n",
       "        ( 59768, [   0,    0,    0,    0,    9,   10,   12,    7,   -3,  -12,   -7,    8,   26,   37,   35,   21,    5,   -1,   -1,    7,   17,   25,   29,   28,   23,   15,    7,    1,   -1,   -3,   -9,  -17,  -26,  -31,  -29,  -22,  -18,  -22,  -30,  -33,  -33,  -31,  -32,  -38,  -41,  -38,  -31,  -24,  -22,  -25]),\n",
       "        ( 59768, [   0,    0,    0,    0,    4,   15,   24,   21,   11,    5,   11,   32,   66,  103,  120,  103,   56,   10,  -15,  -16,   -2,   11,   21,   21,   17,    9,   -2,  -22,  -44,  -60,  -65,  -60,  -52,  -45,  -42,  -42,  -42,  -44,  -49,  -51,  -55,  -62,  -72,  -78,  -70,  -50,  -32,  -25,  -30,  -39]),\n",
       "        ( 60212, [  38,   79,  118, -119,  120,   70,    0,  -66, -110, -123, -108,  -77,  -43,  -18,   -5,   -1,    0,   -3,   -9,   -7,    1,   12,   22,   24,   19,    8,   -3,  -17,  -29,  -33,  -31,  -18,   -5,    0,    1,   -1,   -2,    0,    3,    7,   11,   18,   22,    0,    0,    0,    0,    0,    0,    0]),\n",
       "        ( 60212, [  33,   43,   64,   91,  112,  114,   91,   49,   -1,  -44,  -69,  -69,  -51,  -31,  -17,  -10,   -7,   -4,   -9,  -17,  -23,  -21,  -12,   -5,   -2,   -3,   -7,  -12,  -21,  -29,  -35,  -31,  -18,   -2,    5,    4,    0,   -1,    1,    5,   10,   14,   16,    0,    0,    0,    0,    0,    0,    0]),\n",
       "        ( 60212, [  21,   41,   65,   85,   87,   67,   30,  -14,  -53,  -75,  -75,  -59,  -41,  -25,  -17,  -12,  -10,  -10,  -12,  -15,  -15,  -12,   -9,   -5,   -1,    4,   15,   23,   23,   16,    8,    4,    7,    5,    0,   -2,    0,    7,   12,   14,   11,    5,   -2,    0,    0,    0,    0,    0,    0,    0]),\n",
       "        ( 60212, [  45,   60,   71,   75,   66,   39,   -1,  -50,  -93, -117, -114,  -92,  -63,  -39,  -23,  -10,   -2,    1,    1,    2,    4,    4,    2,   -2,   -8,  -11,  -14,  -12,  -10,   -7,   -1,    7,   16,   17,   11,    2,   -4,   -7,   -3,    2,    9,   16,   19,    0,    0,    0,    0,    0,    0,    0]),\n",
       "        ( 60252, [   1,   12,   22,   24,   19,    8,   -3,  -17,  -29,  -33,  -31,  -18,   -5,    0,    1,   -1,   -2,    0,    3,    7,   11,   18,   22,    0,    0,    0,    0,    0,    0,    0,    0,    0,    0,    0,    0,    0,    0,    0,    0,    0,    0,    0,    0,    0,    0,    0,    0,    0,    0,    0]),\n",
       "        ( 60252, [ -23,  -21,  -12,   -5,   -2,   -3,   -7,  -12,  -21,  -29,  -35,  -31,  -18,   -2,    5,    4,    0,   -1,    1,    5,   10,   14,   16,    0,    0,    0,    0,    0,    0,    0,    0,    0,    0,    0,    0,    0,    0,    0,    0,    0,    0,    0,    0,    0,    0,    0,    0,    0,    0,    0]),\n",
       "        ( 60252, [ -15,  -12,   -9,   -5,   -1,    4,   15,   23,   23,   16,    8,    4,    7,    5,    0,   -2,    0,    7,   12,   14,   11,    5,   -2,    0,    0,    0,    0,    0,    0,    0,    0,    0,    0,    0,    0,    0,    0,    0,    0,    0,    0,    0,    0,    0,    0,    0,    0,    0,    0,    0]),\n",
       "        ( 60252, [   4,    4,    2,   -2,   -8,  -11,  -14,  -12,  -10,   -7,   -1,    7,   16,   17,   11,    2,   -4,   -7,   -3,    2,    9,   16,   19,    0,    0,    0,    0,    0,    0,    0,    0,    0,    0,    0,    0,    0,    0,    0,    0,    0,    0,    0,    0,    0,    0,    0,    0,    0,    0,    0]),\n",
       "        ( 60724, [   8,   -5,  -16,  -21,  -21,  -22,  -30,  -42,  -46,  -44,  -36,  -22,   -8,    2,    9,   12,   14,   12,   10,    8,   10,   12,    9,    2,   -1,    0,    8,   22,    0,    0,    0,    0,    0,    0,    0,    0,    0,    0,    0,    0,    0,    0,    0,    0,    0,    0,    0,    0,    0,    0]),\n",
       "        ( 60724, [   2,   -3,   -7,   -7,   -3,   -5,  -15,  -31,  -48,  -58,  -62,  -59,  -49,  -31,  -14,   -1,    5,    8,    3,   -4,  -12,  -16,  -17,  -17,  -16,  -12,  -11,  -10,    0,    0,    0,    0,    0,    0,    0,    0,    0,    0,    0,    0,    0,    0,    0,    0,    0,    0,    0,    0,    0,    0]),\n",
       "        ( 60724, [ -10,  -24,  -31,  -30,  -29,  -33,  -44,  -52,  -51,  -42,  -26,  -11,    2,   15,   22,   25,   23,   15,    3,   -5,   -9,   -5,    2,   11,   18,   19,   16,   15,    0,    0,    0,    0,    0,    0,    0,    0,    0,    0,    0,    0,    0,    0,    0,    0,    0,    0,    0,    0,    0,    0]),\n",
       "        ( 60724, [  17,   12,    8,    0,  -15,  -36,  -56,  -65,  -59,  -43,  -25,  -12,   -4,    4,   15,   21,   17,    4,   -9,  -19,  -16,   -1,   17,   32,   37,   31,   19,   14,    0,    0,    0,    0,    0,    0,    0,    0,    0,    0,    0,    0,    0,    0,    0,    0,    0,    0,    0,    0,    0,    0]),\n",
       "        ( 61478, [ -24,   -4,   31,   67,   80,   55,    2,  -55, -100, -120, -110,  -75,  -33,   -4,    3,    2,    0,    0,    2,    8,   15,   19,   14,   -1,  -17,  -22,  -12,    2,   19,   30,   31,   25,   16,    7,    0,    0,    9,   18,   19,   15,    7,    0,   -2,   -3,   -4,    0,    0,    0,    0,    0]),\n",
       "        ( 61478, [   3,   12,   29,   52,   72,   70,   37,  -14,  -69, -106, -119, -105,  -73,  -36,   -7,    7,   12,   16,   17,   17,   15,   15,   17,   16,    9,    0,   -8,  -12,  -10,   -1,    5,    7,    4,    0,   -3,   -3,    0,    7,   11,   11,    9,    7,    4,    5,    5,    0,    0,    0,    0,    0]),\n",
       "        ( 61478, [  10,   23,   42,   60,   60,   31,  -15,  -63,  -96, -108, -100,  -77,  -49,  -26,  -15,  -11,  -11,  -11,  -10,   -5,    2,    8,    5,   -3,  -15,  -22,  -19,   -7,    9,   22,   22,   14,    7,    8,   12,   18,   23,   22,   15,    4,    0,   -1,   -1,   -1,   -4,    0,    0,    0,    0,    0]),\n",
       "        ( 61478, [  16,   22,   50,   85,   91,   53,  -10,  -78, -125,  116, -124,  -87,  -50,  -25,  -16,  -12,  -10,  -10,   -9,   -9,   -8,   -3,    0,   -3,  -10,  -16,  -11,    1,   19,   35,   41,   38,   29,   17,    8,    3,    4,    4,    1,   -2,   -5,   -9,  -11,  -11,  -10,    0,    0,    0,    0,    0]),\n",
       "        ( 63548, [ -44,  -58,  -70,  -77,  -80,  -77,  -65,  -52,  -44,  -44,  -49,  -48,  -41,  -29,  -14,    1,   10,   12,    9,    3,   -3,  -12,  -21,  -24,  -21,   -9,    0,    0,    0,    0,    0,    0,    0,    0,    0,    0,    0,    0,    0,    0,    0,    0,    0,    0,    0,    0,    0,    0,    0,    0]),\n",
       "        ( 63548, [ -17,  -18,  -24,  -32,  -41,  -49,  -53,  -57,  -60,  -62,  -63,  -62,  -57,  -45,  -29,   -9,   10,   23,   23,   14,    2,   -8,  -19,  -26,  -26,  -17,    0,    0,    0,    0,    0,    0,    0,    0,    0,    0,    0,    0,    0,    0,    0,    0,    0,    0,    0,    0,    0,    0,    0,    0]),\n",
       "        ( 63548, [  -2,   -8,  -15,  -21,  -24,  -26,  -24,  -19,  -17,  -18,  -23,  -29,  -30,  -28,  -19,   -9,    0,   -1,  -12,  -26,  -39,  -48,  -51,  -48,  -39,  -26,    0,    0,    0,    0,    0,    0,    0,    0,    0,    0,    0,    0,    0,    0,    0,    0,    0,    0,    0,    0,    0,    0,    0,    0]),\n",
       "        ( 63548, [  -9,  -21,  -33,  -43,  -45,  -38,  -24,  -11,   -4,   -7,  -12,  -18,  -21,  -17,   -5,   10,   23,   26,   22,   17,   15,   11,    4,   -3,  -11,  -16,    0,    0,    0,    0,    0,    0,    0,    0,    0,    0,    0,    0,    0,    0,    0,    0,    0,    0,    0,    0,    0,    0,    0,    0]),\n",
       "        ( 65966, [  17,   11,    7,    3,    4,   11,   19,   22,   17,    7,   -2,   -7,   -5,   -1,    3,    8,   10,   10,    8,    3,    0,   -2,    0,    0,   -8,  -19,    0,    0,    0,    0,    0,    0,    0,    0,    0,    0,    0,    0,    0,    0,    0,    0,    0,    0,    0,    0,    0,    0,    0,    0]),\n",
       "        ( 65966, [  14,    9,    5,    5,    4,    4,    4,    2,    0,   -2,   -5,   -5,   -1,    7,   16,   23,   29,   37,   43,   43,   36,   24,   15,   10,    5,   -1,    0,    0,    0,    0,    0,    0,    0,    0,    0,    0,    0,    0,    0,    0,    0,    0,    0,    0,    0,    0,    0,    0,    0,    0]),\n",
       "        ( 65966, [  15,   12,   14,   19,   26,   30,   23,    0,  -26,  -49,  -58,  -51,  -35,  -17,   -3,    9,   21,   29,   31,   24,   14,    9,   11,   12,    8,    0,    0,    0,    0,    0,    0,    0,    0,    0,    0,    0,    0,    0,    0,    0,    0,    0,    0,    0,    0,    0,    0,    0,    0,    0]),\n",
       "        ( 65966, [   0,   -9,  -14,   -9,    0,   10,   17,   16,    3,  -15,  -33,  -43,  -41,  -29,  -11,    3,   15,   19,   19,   16,   11,    9,    7,   -1,  -16,  -29,    0,    0,    0,    0,    0,    0,    0,    0,    0,    0,    0,    0,    0,    0,    0,    0,    0,    0,    0,    0,    0,    0,    0,    0]),\n",
       "        ( 67418, [  44,   56,   73,   87,   87,   70,   42,   16,   -1,   -7,    2,   17,   16,   -5,  -37,  -56,  -53,  -37,  -17,   -3,    0,    1,    3,    7,    4,   -8,  -25,  -38,  -37,  -24,   -7,    5,    9,    2,   -5,  -10,   -7,    0,    3,    4,    7,   11,   17,   24,   32,    0,    0,    0,    0,    0]),\n",
       "        ( 67418, [  52,   53,   57,   62,   64,   59,   44,   21,   -5,  -29,  -41,  -32,  -12,    4,   12,   14,   12,   10,    7,    4,    2,    0,   -2,   -2,   -3,  -10,  -21,  -30,  -31,  -24,  -11,    1,   12,   18,   15,    3,  -10,  -19,  -21,  -14,   -2,    8,   16,   15,   11,    0,    0,    0,    0,    0]),\n",
       "        ( 67418, [  28,   44,   60,   75,   84,   85,   80,   70,   55,   41,   37,   43,   48,   41,   19,   -8,  -31,  -38,  -28,  -12,   -3,   -4,  -12,  -23,  -32,  -42,  -48,  -45,  -36,  -22,   -8,    0,    3,   -2,  -17,  -35,  -44,  -43,  -36,  -29,  -24,  -17,  -11,   -5,    0,    0,    0,    0,    0,    0]),\n",
       "        ( 67418, [ -19,  -14,    1,   23,   44,   57,   60,   57,   48,   42,   50,   72,   93,  101,   90,   62,   26,   -3,  -22,  -32,  -44,  -55,  -60,  -60,  -59,  -59,  -57,  -51,  -41,  -25,   -7,    8,   11,    0,  -21,  -39,  -48,  -44,  -31,  -18,   -8,   -2,   -3,   -5,    0,    0,    0,    0,    0,    0]),\n",
       "        ( 67450, [ -53,  -37,  -17,   -3,    0,    1,    3,    7,    4,   -8,  -25,  -38,  -37,  -24,   -7,    5,    9,    2,   -5,  -10,   -7,    0,    3,    4,    7,   11,   17,   24,   32,    0,    0,    0,    0,    0,    0,    0,    0,    0,    0,    0,    0,    0,    0,    0,    0,    0,    0,    0,    0,    0]),\n",
       "        ( 67450, [  12,   10,    7,    4,    2,    0,   -2,   -2,   -3,  -10,  -21,  -30,  -31,  -24,  -11,    1,   12,   18,   15,    3,  -10,  -19,  -21,  -14,   -2,    8,   16,   15,   11,    0,    0,    0,    0,    0,    0,    0,    0,    0,    0,    0,    0,    0,    0,    0,    0,    0,    0,    0,    0,    0]),\n",
       "        ( 67450, [ -31,  -38,  -28,  -12,   -3,   -4,  -12,  -23,  -32,  -42,  -48,  -45,  -36,  -22,   -8,    0,    3,   -2,  -17,  -35,  -44,  -43,  -36,  -29,  -24,  -17,  -11,   -5,    0,    0,    0,    0,    0,    0,    0,    0,    0,    0,    0,    0,    0,    0,    0,    0,    0,    0,    0,    0,    0,    0]),\n",
       "        ( 67450, [  26,   -3,  -22,  -32,  -44,  -55,  -60,  -60,  -59,  -59,  -57,  -51,  -41,  -25,   -7,    8,   11,    0,  -21,  -39,  -48,  -44,  -31,  -18,   -8,   -2,   -3,   -5,    0,    0,    0,    0,    0,    0,    0,    0,    0,    0,    0,    0,    0,    0,    0,    0,    0,    0,    0,    0,    0,    0]),\n",
       "        ( 68318, [   0,    0,    0,    0,    0,    0,    0,    0,    0,    0,    0,    0,    0,    0,    0,    0,    0,    0,    0,    0,    0,    0,    0,    0,    0,    0,    0,    0,    0,    0,    0,    0,    0,    0,    0,    0,    0,    0,    0,    0,    0,    0,    0,    0,    0,    0,    0,    0,    0,    0]),\n",
       "        ( 68318, [   0,    0,    0,    0,    0,    0,    0,    0,    0,    0,    0,    0,    0,    0,    0,    0,    0,    0,    0,    0,    0,    0,    0,    0,    0,    0,    0,    0,    0,    0,    0,    0,    0,    0,    0,    0,    0,    0,    0,    0,    0,    0,    0,    0,    0,    0,    0,    0,    0,    0]),\n",
       "        ( 68318, [   0,    0,    0,    0,    0,    0,    0,    0,    0,    0,    0,    0,    0,    0,    0,    0,    0,    0,    0,    0,    0,    0,    0,    0,    0,    0,    0,    0,    0,    0,    0,    0,    0,    0,    0,    0,    0,    0,    0,    0,    0,    0,    0,    0,    0,    0,    0,    0,    0,    0]),\n",
       "        ( 68318, [   0,    0,    0,    0,    0,    0,    0,    0,    0,    0,    0,    0,    0,    0,    0,    0,    0,    0,    0,    0,    0,    0,    0,    0,    0,    0,    0,    0,    0,    0,    0,    0,    0,    0,    0,    0,    0,    0,    0,    0,    0,    0,    0,    0,    0,    0,    0,    0,    0,    0]),\n",
       "        ( 70066, [  12,   35,   60,   87,  103,   97,   69,   25,  -16,  -43,  -46,  -37,  -26,  -16,   -7,    1,    7,    9,    5,    0,   -7,  -10,   -8,   -3,   -1,   -2,   -2,   -2,   -3,   -7,   -8,   -7,    0,    4,    4,   -2,  -11,  -15,  -14,  -15,  -17,  -19,  -17,   -9,    0,    0,    0,    0,    0,    0]),\n",
       "        ( 70066, [  -8,    5,   22,   42,   66,   89,   97,   80,   42,   -3,  -37,  -49,  -42,  -24,   -7,    7,   18,   25,   25,   18,    5,   -7,  -15,  -11,   -4,    0,    0,   -1,   -2,   -3,   -3,   -3,   -1,    2,    5,    8,   10,   14,   15,   14,   12,   11,    8,    1,   -2,    0,    0,    0,    0,    0]),\n",
       "        ( 70066, [   4,   19,   37,   56,   70,   70,   49,   10,  -28,  -55,  -62,  -55,  -42,  -30,  -17,   -2,    9,   15,   10,    0,  -12,  -19,  -14,   -1,    5,   10,   15,   18,   21,   19,   19,   19,   18,   17,   17,   22,   26,   26,   18,    5,   -5,  -15,  -17,  -12,   -2,    0,    0,    0,    0,    0]),\n",
       "        ( 70066, [  19,   45,   69,   85,   84,   63,   29,   -5,  -31,  -39,  -36,  -30,  -28,  -30,  -29,  -21,   -9,   -1,    0,   -2,   -5,   -5,   -2,    0,   -1,   -1,   -1,   -3,  -10,  -15,  -15,   -9,   -4,   -2,   -2,   -1,   -2,   -7,  -15,  -21,  -19,  -15,   -9,   -5,    0,    0,    0,    0,    0,    0]),\n",
       "        ( 72790, [   7,   12,   17,   22,   18,    4,  -15,  -33,  -38,  -28,  -15,  -15,  -24,  -44,  -58,  -62,  -58,  -48,  -33,  -22,  -15,  -18,  -30,  -48,  -63,  -70,  -67,  -55,  -36,  -19,  -10,   -8,   -7,    0,    0,    0,    0,    0,    0,    0,    0,    0,    0,    0,    0,    0,    0,    0,    0,    0]),\n",
       "        ( 72790, [ -12,   -2,    4,   10,   12,    7,  -10,  -33,  -55,  -65,  -65,  -55,  -43,  -35,  -30,  -25,  -22,  -22,  -22,  -17,  -10,   -2,    2,    0,   -8,  -16,  -18,  -18,  -16,  -16,  -17,  -16,  -11,    0,    0,    0,    0,    0,    0,    0,    0,    0,    0,    0,    0,    0,    0,    0,    0,    0]),\n",
       "        ( 72790, [ -28,  -18,    0,   18,   28,   17,   -5,  -31,  -46,  -50,  -49,  -48,  -45,  -38,  -26,  -15,   -7,   -1,    4,    9,    9,    2,  -10,  -30,  -51,  -66,  -73,  -71,  -64,  -55,  -44,  -32,  -19,    0,    0,    0,    0,    0,    0,    0,    0,    0,    0,    0,    0,    0,    0,    0,    0,    0]),\n",
       "        ( 72790, [  10,   19,   33,   46,   50,   39,   19,    3,   -1,   -2,   -4,  -14,  -24,  -29,  -29,  -24,  -16,   -3,    8,   17,   22,   18,    2,  -23,  -50,  -66,  -71,  -64,  -48,  -30,  -16,   -7,   -1,    0,    0,    0,    0,    0,    0,    0,    0,    0,    0,    0,    0,    0,    0,    0,    0,    0]),\n",
       "        ( 72822, [ -58,  -48,  -33,  -22,  -15,  -18,  -30,  -48,  -63,  -70,  -67,  -55,  -36,  -19,  -10,   -8,   -7,    0,    0,    0,    0,    0,    0,    0,    0,    0,    0,    0,    0,    0,    0,    0,    0,    0,    0,    0,    0,    0,    0,    0,    0,    0,    0,    0,    0,    0,    0,    0,    0,    0]),\n",
       "        ( 72822, [ -22,  -22,  -22,  -17,  -10,   -2,    2,    0,   -8,  -16,  -18,  -18,  -16,  -16,  -17,  -16,  -11,    0,    0,    0,    0,    0,    0,    0,    0,    0,    0,    0,    0,    0,    0,    0,    0,    0,    0,    0,    0,    0,    0,    0,    0,    0,    0,    0,    0,    0,    0,    0,    0,    0]),\n",
       "        ( 72822, [  -7,   -1,    4,    9,    9,    2,  -10,  -30,  -51,  -66,  -73,  -71,  -64,  -55,  -44,  -32,  -19,    0,    0,    0,    0,    0,    0,    0,    0,    0,    0,    0,    0,    0,    0,    0,    0,    0,    0,    0,    0,    0,    0,    0,    0,    0,    0,    0,    0,    0,    0,    0,    0,    0]),\n",
       "        ( 72822, [ -16,   -3,    8,   17,   22,   18,    2,  -23,  -50,  -66,  -71,  -64,  -48,  -30,  -16,   -7,   -1,    0,    0,    0,    0,    0,    0,    0,    0,    0,    0,    0,    0,    0,    0,    0,    0,    0,    0,    0,    0,    0,    0,    0,    0,    0,    0,    0,    0,    0,    0,    0,    0,    0]),\n",
       "        ( 73326, [   0,    0,    0,    0,    0,    0,   49,   16,  -49, -125,  106,  117,  -66,   16,   84,  120,  120,   92,   51,   12,  -10,  -14,   -1,   17,   37,   51,   55,   50,   32,    0,  -41,  -70,  -79,  -70,  -48,  -24,   -4,    5,   10,    7,   -2,  -16,  -26,  -33,  -35,  -29,  -19,  -14,  -21,  -35]),\n",
       "        ( 73326, [   0,    0,    0,    0,    0,    0,  -11,   -4,   -3,  -15,  -31,  -37,  -23,    5,   42,   71,   89,   86,   63,   24,  -14,  -44,  -56,  -46,  -24,    3,   26,   37,   36,   23,    2,  -17,  -33,  -44,  -48,  -39,  -25,  -12,   -7,  -10,  -22,  -35,  -41,  -35,  -25,  -16,  -14,  -15,  -18,  -23]),\n",
       "        ( 73326, [   0,    0,    0,    0,    0,    0,  -14,  -17,  -36,  -66,  -94,  -99,  -71,  -18,   37,   79,   92,   75,   37,    0,  -26,  -33,  -21,    4,   36,   60,   75,   76,   64,   42,   11,  -17,  -39,  -48,  -37,  -16,    7,   24,   26,   12,   -4,  -16,  -17,  -16,  -17,  -21,  -23,  -28,  -35,  -41]),\n",
       "        ( 73326, [   0,    0,    0,    0,    0,    0,  -15,  -16,  -29,  -46,  -60,  -63,  -49,  -19,   12,   38,   43,   28,    3,  -19,  -35,  -32,  -10,   21,   51,   75,   85,   82,   62,   26,  -17,  -59,  -85,  -83,  -57,  -21,    9,   23,   16,   -2,  -21,  -29,  -28,  -24,  -21,  -12,   -7,  -10,  -24,  -38]),\n",
       "        ( 73352, [  16,   84,  120,  120,   92,   51,   12,  -10,  -14,   -1,   17,   37,   51,   55,   50,   32,    0,  -41,  -70,  -79,  -70,  -48,  -24,   -4,    5,   10,    7,   -2,  -16,  -26,  -33,  -35,  -29,  -19,  -14,  -21,  -35,  -49,  -55,  -50,  -42,  -31,  -14,    0,    0,    0,    0,    0,    0,    0]),\n",
       "        ( 73352, [   5,   42,   71,   89,   86,   63,   24,  -14,  -44,  -56,  -46,  -24,    3,   26,   37,   36,   23,    2,  -17,  -33,  -44,  -48,  -39,  -25,  -12,   -7,  -10,  -22,  -35,  -41,  -35,  -25,  -16,  -14,  -15,  -18,  -23,  -26,  -28,  -26,  -26,  -25,  -19,    0,    0,    0,    0,    0,    0,    0]),\n",
       "        ( 73352, [ -18,   37,   79,   92,   75,   37,    0,  -26,  -33,  -21,    4,   36,   60,   75,   76,   64,   42,   11,  -17,  -39,  -48,  -37,  -16,    7,   24,   26,   12,   -4,  -16,  -17,  -16,  -17,  -21,  -23,  -28,  -35,  -41,  -42,  -35,  -24,  -16,  -12,   -8,    0,    0,    0,    0,    0,    0,    0]),\n",
       "        ( 73352, [ -19,   12,   38,   43,   28,    3,  -19,  -35,  -32,  -10,   21,   51,   75,   85,   82,   62,   26,  -17,  -59,  -85,  -83,  -57,  -21,    9,   23,   16,   -2,  -21,  -29,  -28,  -24,  -21,  -12,   -7,  -10,  -24,  -38,  -44,  -39,  -28,  -16,   -8,    0,    0,    0,    0,    0,    0,    0,    0]),\n",
       "        ( 74292, [  48,   62,   69,   59,   39,   17,    0,  -11,  -24,  -37,  -45,  -44,  -36,  -25,  -18,  -14,   -7,    0,    9,   17,   19,   11,   -4,  -22,  -37,  -51,  -65,  -75,  -78,  -71,  -60,  -50,  -44,  -38,  -31,  -18,   -8,   -4,   -9,  -18,  -29,  -38,    0,    0,    0,    0,    0,    0,    0,    0]),\n",
       "        ( 74292, [  43,   50,   56,   48,   28,    4,   -8,  -11,  -11,  -15,  -24,  -33,  -37,  -33,  -31,  -31,  -32,  -30,  -24,  -16,  -10,  -10,  -21,  -41,  -59,  -71,  -73,  -70,  -63,  -57,  -52,  -48,  -42,  -36,  -28,  -19,  -12,  -11,  -16,  -24,  -33,  -42,    0,    0,    0,    0,    0,    0,    0,    0]),\n",
       "        ( 74292, [  66,   79,   80,   64,   37,    9,  -12,  -28,  -41,  -52,  -60,  -62,  -56,  -48,  -38,  -30,  -22,  -15,   -8,   -2,    2,    0,   -8,  -23,  -43,  -62,  -78,  -87,  -89,  -82,  -73,  -64,  -55,  -43,  -28,  -11,   -3,   -3,  -10,  -16,  -15,  -11,    0,    0,    0,    0,    0,    0,    0,    0]),\n",
       "        ( 74292, [  91,  104,  108,   97,   76,   59,   48,   33,   10,  -18,  -44,  -58,  -60,  -53,  -41,  -26,  -19,  -18,  -15,   -5,    2,    2,   -5,  -17,  -31,  -49,  -77, -110,  121,  112,  117, -124, -101,  -70,  -35,   -2,   16,   21,   11,    0,  -10,  -28,    0,    0,    0,    0,    0,    0,    0,    0]),\n",
       "        ( 74328, [   9,   17,   19,   11,   -4,  -22,  -37,  -51,  -65,  -75,  -78,  -71,  -60,  -50,  -44,  -38,  -31,  -18,   -8,   -4,   -9,  -18,  -29,  -38,    0,    0,    0,    0,    0,    0,    0,    0,    0,    0,    0,    0,    0,    0,    0,    0,    0,    0,    0,    0,    0,    0,    0,    0,    0,    0]),\n",
       "        ( 74328, [ -24,  -16,  -10,  -10,  -21,  -41,  -59,  -71,  -73,  -70,  -63,  -57,  -52,  -48,  -42,  -36,  -28,  -19,  -12,  -11,  -16,  -24,  -33,  -42,    0,    0,    0,    0,    0,    0,    0,    0,    0,    0,    0,    0,    0,    0,    0,    0,    0,    0,    0,    0,    0,    0,    0,    0,    0,    0]),\n",
       "        ( 74328, [  -8,   -2,    2,    0,   -8,  -23,  -43,  -62,  -78,  -87,  -89,  -82,  -73,  -64,  -55,  -43,  -28,  -11,   -3,   -3,  -10,  -16,  -15,  -11,    0,    0,    0,    0,    0,    0,    0,    0,    0,    0,    0,    0,    0,    0,    0,    0,    0,    0,    0,    0,    0,    0,    0,    0,    0,    0]),\n",
       "        ( 74328, [ -15,   -5,    2,    2,   -5,  -17,  -31,  -49,  -77, -110,  121,  112,  117, -124, -101,  -70,  -35,   -2,   16,   21,   11,    0,  -10,  -28,    0,    0,    0,    0,    0,    0,    0,    0,    0,    0,    0,    0,    0,    0,    0,    0,    0,    0,    0,    0,    0,    0,    0,    0,    0,    0]),\n",
       "        ( 75324, [   0,    0,    0,    0,    0,    0,    0,    0,   -7,   -7,   -7,   -7,   -8,   -7,   -1,   12,   41,   79,  114,  125,  101,   50,  -11,  -63,  -86,  -83,  -63,  -39,  -28,  -32,  -43,  -44,  -30,  -10,    7,   17,   21,   17,    9,    3,    5,    7,    0,  -17,  -36,  -42,  -26,    4,   33,   37]),\n",
       "        ( 75324, [   0,    0,    0,    0,    0,    0,    0,    0,  -58,  -66,  -69,  -64,  -51,  -37,  -25,  -11,    7,   36,   70,   96,   99,   73,   23,  -32,  -75,  -86,  -71,  -45,  -24,  -17,  -23,  -32,  -32,  -21,   -4,    5,    9,    4,   -4,  -11,  -15,  -11,   -7,   -2,   -3,   -8,   -9,    0,   15,   29]),\n",
       "        ( 75324, [   0,    0,    0,    0,    0,    0,    0,    0,  -49,  -51,  -48,  -38,  -29,  -18,   -5,   12,   43,   84,  118,  123,   91,   30,  -32,  -79,  -93,  -77,  -49,  -26,  -19,  -25,  -32,  -26,   -7,   12,   22,   19,   11,    4,    3,    4,    1,   -7,  -16,  -24,  -28,  -23,  -10,    4,   16,   21]),\n",
       "        ( 75324, [   0,    0,    0,    0,    0,    0,    0,    0,  -65,  -60,  -38,   -8,   17,   32,   36,   32,   35,   56,   87,  106,   92,   43,  -18,  -72,  -98,  -98,  -83,  -66,  -57,  -55,  -50,  -37,  -18,   -5,   -3,   -9,  -12,   -9,   -3,   -2,   -8,  -18,  -33,  -50,  -63,  -66,  -56,  -33,   -9,    4]),\n",
       "        ( 75350, [  -7,   -1,   12,   41,   79,  114,  125,  101,   50,  -11,  -63,  -86,  -83,  -63,  -39,  -28,  -32,  -43,  -44,  -30,  -10,    7,   17,   21,   17,    9,    3,    5,    7,    0,  -17,  -36,  -42,  -26,    4,   33,   37,   16,   -8,  -26,  -32,  -28,  -16,    0,   14,    0,    0,    0,    0,    0]),\n",
       "        ( 75350, [ -37,  -25,  -11,    7,   36,   70,   96,   99,   73,   23,  -32,  -75,  -86,  -71,  -45,  -24,  -17,  -23,  -32,  -32,  -21,   -4,    5,    9,    4,   -4,  -11,  -15,  -11,   -7,   -2,   -3,   -8,   -9,    0,   15,   29,   29,   19,   12,   11,   12,    8,   -2,  -15,    0,    0,    0,    0,    0]),\n",
       "        ( 75350, [ -18,   -5,   12,   43,   84,  118,  123,   91,   30,  -32,  -79,  -93,  -77,  -49,  -26,  -19,  -25,  -32,  -26,   -7,   12,   22,   19,   11,    4,    3,    4,    1,   -7,  -16,  -24,  -28,  -23,  -10,    4,   16,   21,   22,   21,   19,   14,    2,  -10,  -22,  -28,    0,    0,    0,    0,    0]),\n",
       "        ( 75350, [  32,   36,   32,   35,   56,   87,  106,   92,   43,  -18,  -72,  -98,  -98,  -83,  -66,  -57,  -55,  -50,  -37,  -18,   -5,   -3,   -9,  -12,   -9,   -3,   -2,   -8,  -18,  -33,  -50,  -63,  -66,  -56,  -33,   -9,    4,   10,   10,    5,   -1,  -11,  -19,  -23,  -19,    0,    0,    0,    0,    0]),\n",
       "        ( 76566, [   0,    0,    0,    0,    0,    0,    0,    0,    0,    0,    0,    0,    0,    0,    0,    0,    0,    0,    0,    0,    0,    0,    0,    0,    0,    0,    0,    0,    0,    0,    0,    0,    0,    0,    0,    0,    0,    0,    0,    0,    0,    0,    0,    0,    0,    0,    0,    0,    0,    0]),\n",
       "        ( 76566, [   0,    0,    0,    0,    0,    0,    0,    0,    0,    0,    0,    0,    0,    0,    0,    0,    0,    0,    0,    0,    0,    0,    0,    0,    0,    0,    0,    0,    0,    0,    0,    0,    0,    0,    0,    0,    0,    0,    0,    0,    0,    0,    0,    0,    0,    0,    0,    0,    0,    0]),\n",
       "        ( 76566, [   0,    0,    0,    0,    0,    0,    0,    0,    0,    0,    0,    0,    0,    0,    0,    0,    0,    0,    0,    0,    0,    0,    0,    0,    0,    0,    0,    0,    0,    0,    0,    0,    0,    0,    0,    0,    0,    0,    0,    0,    0,    0,    0,    0,    0,    0,    0,    0,    0,    0]),\n",
       "        ( 76566, [   0,    0,    0,    0,    0,    0,    0,    0,    0,    0,    0,    0,    0,    0,    0,    0,    0,    0,    0,    0,    0,    0,    0,    0,    0,    0,    0,    0,    0,    0,    0,    0,    0,    0,    0,    0,    0,    0,    0,    0,    0,    0,    0,    0,    0,    0,    0,    0,    0,    0]),\n",
       "        ( 77224, [ -10,   -4,   12,   42,   63,   58,   26,  -14,  -45,  -48,  -29,   -9,    0,    0,   -7,  -19,  -29,  -25,   -9,    5,   10,    1,  -14,  -30,  -39,  -42,  -37,  -26,  -14,   -5,   -5,   -8,   -8,   -4,    1,    9,   10,    4,   -3,   -7,   -2,    8,   23,   36,   45,    0,    0,    0,    0,    0]),\n",
       "        ( 77224, [   5,   17,   35,   56,   73,   79,   62,   23,  -22,  -52,  -53,  -31,   -7,    5,    8,    3,   -2,   -8,   -5,    5,   19,   24,   14,    0,   -9,  -14,  -16,  -16,  -16,  -17,  -17,  -11,   -2,    3,    7,   11,   21,   31,   36,   33,   28,   26,   29,   28,   24,    0,    0,    0,    0,    0]),\n",
       "        ( 77224, [  -3,    8,   29,   56,   71,   63,   29,  -12,  -41,  -42,  -25,   -7,    2,    2,   -7,  -22,  -32,  -28,  -10,    5,   10,    1,  -10,  -22,  -29,  -31,  -28,  -22,  -14,   -4,    4,   16,   24,   28,   32,   38,   41,   36,   22,    8,    0,   -1,    4,   16,   29,    0,    0,    0,    0,    0]),\n",
       "        ( 77224, [ -12,    2,   25,   53,   72,   63,   28,  -17,  -49,  -51,  -32,  -11,    0,   -1,   -9,  -22,  -32,  -35,  -28,  -22,  -25,  -35,  -42,  -43,  -37,  -25,  -11,   -1,    2,    1,    1,    7,   12,   19,   28,   38,   44,   37,   18,   -1,  -14,  -14,   -5,    7,   25,    0,    0,    0,    0,    0]),\n",
       "        ( 78104, [  10,   19,   30,   46,   64,   73,   59,   24,  -21,  -59,  -77,  -71,  -51,  -35,  -30,  -30,  -29,  -21,   -7,    7,   21,   29,   26,   15,   -2,  -24,  -43,  -50,  -46,  -33,  -16,   -2,    3,    4,    1,   -5,  -14,  -21,  -23,  -18,   -9,    0,    2,    0,   -4,    0,    0,    0,    0,    0]),\n",
       "        ( 78104, [  -1,    7,   24,   48,   80,  111,  121,   96,   44,  -15,  -60,  -79,  -71,  -49,  -29,  -22,  -21,  -17,   -9,   -3,   -1,    0,    3,    5,    3,   -4,  -21,  -35,  -37,  -29,  -15,   -3,   -2,   -9,  -18,  -23,  -22,  -15,   -7,    0,    3,    3,    0,   -4,  -12,    0,    0,    0,    0,    0]),\n",
       "        ( 78104, [  -4,    5,   24,   51,   77,   83,   58,   12,  -36,  -75,  -90,  -80,  -55,  -29,  -11,   -2,    1,    2,    2,    4,   12,   24,   31,   30,   17,   -1,  -18,  -26,  -24,  -16,   -8,   -5,  -10,  -16,  -21,  -23,  -24,  -25,  -23,  -19,  -16,  -12,   -8,   -5,   -5,    0,    0,    0,    0,    0]),\n",
       "        ( 78104, [  -1,    3,   14,   38,   70,   84,   66,   22,  -25,  -65,  -82,  -73,  -48,  -22,  -14,  -22,  -32,  -31,  -18,    0,   14,   23,   25,   16,   -3,  -29,  -48,  -53,  -46,  -35,  -21,  -12,  -14,  -19,  -22,  -22,  -23,  -28,  -32,  -32,  -26,  -18,  -10,   -3,    1,    0,    0,    0,    0,    0]),\n",
       "        ( 78374, [   0,    0,    0,    0,    0,    0,    0,    0,    2,   15,   21,   19,   18,   21,   24,   25,   26,   24,   21,   18,   17,   14,    3,   -7,  -12,   -7,    7,   22,   29,   29,   30,   33,   35,   26,   14,    2,   -5,  -12,  -23,  -35,  -41,  -38,  -31,  -29,  -30,  -31,  -25,   -9,    9,   23]),\n",
       "        ( 78374, [   0,    0,    0,    0,    0,    0,    0,    0,  -53,  -57,  -46,  -26,   -9,    5,   25,   46,   63,   71,   67,   59,   48,   35,   18,   -2,  -24,  -37,  -31,   -9,   14,   30,   35,   31,   25,   17,    9,    1,    0,   -2,   -7,  -15,  -23,  -25,  -21,  -15,  -11,  -16,  -26,  -35,  -31,  -16]),\n",
       "        ( 78374, [   0,    0,    0,    0,    0,    0,    0,    0,  -14,  -18,  -14,   -1,   12,   29,   43,   51,   52,   46,   35,   22,   12,    4,   -3,  -10,  -10,    0,   17,   31,   35,   31,   28,   25,   22,   15,    8,    3,    0,   -7,  -19,  -33,  -41,  -39,  -33,  -25,  -19,  -15,  -10,   -7,   -3,   -1]),\n",
       "        ( 78374, [   0,    0,    0,    0,    0,    0,    0,    0,    3,    0,   -4,   -5,    0,   12,   23,   26,   24,   22,   24,   30,   38,   39,   30,   18,   14,   15,   15,   10,    2,    0,    7,   22,   37,   42,   36,   25,   15,    4,   -5,  -19,  -26,  -23,  -15,   -9,   -5,   -1,    8,   23,   38,   44]),\n",
       "        ( 79820, [   0,   -8,  -28,  -55,  -76,  -84,  -77,  -60,  -39,  -22,  -12,  -16,  -28,    0,    0,    0,    0,    0,    0,    0,    0,    0,    0,    0,    0,    0,    0,    0,    0,    0,    0,    0,    0,    0,    0,    0,    0,    0,    0,    0,    0,    0,    0,    0,    0,    0,    0,    0,    0,    0]),\n",
       "        ( 79820, [  -2,    2,    3,   -1,  -12,  -28,  -38,  -43,  -41,  -33,  -23,  -15,  -16,    0,    0,    0,    0,    0,    0,    0,    0,    0,    0,    0,    0,    0,    0,    0,    0,    0,    0,    0,    0,    0,    0,    0,    0,    0,    0,    0,    0,    0,    0,    0,    0,    0,    0,    0,    0,    0]),\n",
       "        ( 79820, [  -9,  -12,  -17,  -22,  -28,  -32,  -38,  -46,  -52,  -52,  -49,  -44,  -38,    0,    0,    0,    0,    0,    0,    0,    0,    0,    0,    0,    0,    0,    0,    0,    0,    0,    0,    0,    0,    0,    0,    0,    0,    0,    0,    0,    0,    0,    0,    0,    0,    0,    0,    0,    0,    0]),\n",
       "        ( 79820, [ -49,  -51,  -49,  -46,  -42,  -38,  -36,  -33,  -30,  -26,  -23,  -21,  -22,    0,    0,    0,    0,    0,    0,    0,    0,    0,    0,    0,    0,    0,    0,    0,    0,    0,    0,    0,    0,    0,    0,    0,    0,    0,    0,    0,    0,    0,    0,    0,    0,    0,    0,    0,    0,    0]),\n",
       "        ( 80574, [  56,   33,   17,   18,   36,   56,   60,   48,   24,    1,  -12,  -19,  -18,  -11,   -4,    1,    8,   15,   18,   19,   21,   22,   21,   16,   11,   10,   17,   32,    0,    0,    0,    0,    0,    0,    0,    0,    0,    0,    0,    0,    0,    0,    0,    0,    0,    0,    0,    0,    0,    0]),\n",
       "        ( 80574, [   0,    7,    3,   -5,  -11,  -10,   -7,   -8,  -16,  -30,  -43,  -48,  -45,  -38,  -32,  -28,  -21,   -8,    5,   14,   14,   12,   17,   25,   30,   29,   23,   17,    0,    0,    0,    0,    0,    0,    0,    0,    0,    0,    0,    0,    0,    0,    0,    0,    0,    0,    0,    0,    0,    0]),\n",
       "        ( 80574, [  16,    7,  -11,  -29,  -32,  -29,  -25,  -31,  -43,  -51,  -51,  -45,  -35,  -18,    0,   19,   33,   39,   35,   24,   14,   11,   14,   14,    9,    2,    0,    5,    0,    0,    0,    0,    0,    0,    0,    0,    0,    0,    0,    0,    0,    0,    0,    0,    0,    0,    0,    0,    0,    0]),\n",
       "        ( 80574, [ -25,  -30,  -31,  -24,   -8,    4,    7,   -1,  -17,  -38,  -58,  -69,  -65,  -50,  -28,   -2,   22,   39,   48,   48,   43,   36,   25,   12,    2,   -2,    3,   17,    0,    0,    0,    0,    0,    0,    0,    0,    0,    0,    0,    0,    0,    0,    0,    0,    0,    0,    0,    0,    0,    0]),\n",
       "        ( 81326, [   0,    0,    0,    0,    0,    0,    0,    0,    0,    0,    0,    0,    0,    0,    0,    0,    0,    0,    0,    0,    0,    0,    0,    0,    0,    0,    0,    0,    0,    0,    0,    0,    0,    0,    0,    0,    0,    0,    0,    0,    0,    0,    0,    0,    0,    0,    0,    0,    0,    0]),\n",
       "        ( 81326, [   0,    0,    0,    0,    0,    0,    0,    0,    0,    0,    0,    0,    0,    0,    0,    0,    0,    0,    0,    0,    0,    0,    0,    0,    0,    0,    0,    0,    0,    0,    0,    0,    0,    0,    0,    0,    0,    0,    0,    0,    0,    0,    0,    0,    0,    0,    0,    0,    0,    0]),\n",
       "        ( 81326, [   0,    0,    0,    0,    0,    0,    0,    0,    0,    0,    0,    0,    0,    0,    0,    0,    0,    0,    0,    0,    0,    0,    0,    0,    0,    0,    0,    0,    0,    0,    0,    0,    0,    0,    0,    0,    0,    0,    0,    0,    0,    0,    0,    0,    0,    0,    0,    0,    0,    0]),\n",
       "        ( 81326, [   0,    0,    0,    0,    0,    0,    0,    0,    0,    0,    0,    0,    0,    0,    0,    0,    0,    0,    0,    0,    0,    0,    0,    0,    0,    0,    0,    0,    0,    0,    0,    0,    0,    0,    0,    0,    0,    0,    0,    0,    0,    0,    0,    0,    0,    0,    0,    0,    0,    0]),\n",
       "        ( 82096, [ -52,  -41,  -26,  -29,  -62, -114,  106,  106,  106,  109, -108,  -83,  -76,  -77,  -75,    0,    0,    0,    0,    0,    0,    0,    0,    0,    0,    0,    0,    0,    0,    0,    0,    0,    0,    0,    0,    0,    0,    0,    0,    0,    0,    0,    0,    0,    0,    0,    0,    0,    0,    0]),\n",
       "        ( 82096, [  -3,    4,   14,    9,  -23,  -90,  106,  106,  106,  106,  106,  106,  106,  106,  106,    0,    0,    0,    0,    0,    0,    0,    0,    0,    0,    0,    0,    0,    0,    0,    0,    0,    0,    0,    0,    0,    0,    0,    0,    0,    0,    0,    0,    0,    0,    0,    0,    0,    0,    0]),\n",
       "        ( 82096, [ -26,  -14,   -8,  -21,  -57, -106,  106,  106,  106,  106,  108,  112,  109,  110,  117,    0,    0,    0,    0,    0,    0,    0,    0,    0,    0,    0,    0,    0,    0,    0,    0,    0,    0,    0,    0,    0,    0,    0,    0,    0,    0,    0,    0,    0,    0,    0,    0,    0,    0,    0]),\n",
       "        ( 82096, [ -59,  -42,  -22,  -17,  -33,  -66,  -96, -101,  -80,  -43,   -7,   12,   16,    9,    7,    0,    0,    0,    0,    0,    0,    0,    0,    0,    0,    0,    0,    0,    0,    0,    0,    0,    0,    0,    0,    0,    0,    0,    0,    0,    0,    0,    0,    0,    0,    0,    0,    0,    0,    0]),\n",
       "        ( 82938, [   0,    0,    0,    0,   39,  -14, -120,  106,  106,  106,  106,  -82,   32,  106, -128,  116,   90,   73,   67,   64,   59,   53,   44,   32,   15,   -7,  -31,  -52,  -65,  -70,  -69,  -59,  -42,  -21,   -1,   11,   22,   29,   30,   21,    2,  -19,  -39,  -45,  -36,  -18,   -1,    9,   12,   12]),\n",
       "        ( 82938, [   0,    0,    0,    0,  -16,   -9,   -3,   -4,  -14,  -25,  -36,  -39,  -33,  -23,  -14,  -12,  -17,  -24,  -26,  -21,  -14,  -10,   -5,    0,   -2,  -14,  -30,  -45,  -57,  -65,  -71,  -75,  -71,  -55,  -26,    0,   17,   22,   21,   16,   11,    8,    4,    1,    1,    7,   18,   26,   24,   16]),\n",
       "        ( 82938, [   0,    0,    0,    0,   -2,   10,   16,    4,  -23,  -55,  -71,  -64,  -42,  -15,    3,   15,   16,   16,   17,   19,   19,   21,   21,   17,    4,  -15,  -39,  -57,  -63,  -60,  -56,  -49,  -38,  -21,   -2,   11,   22,   25,   23,   17,   12,    8,    0,  -10,  -19,  -17,   -7,    0,    4,    7]),\n",
       "        ( 82938, [   0,    0,    0,    0,    8,   17,   22,   14,   -5,  -26,  -37,  -33,  -19,   -4,    8,   22,   35,   45,   55,   62,   62,   55,   42,   24,    3,  -17,  -33,  -45,  -56,  -65,  -69,  -60,  -39,  -17,   -1,    5,    8,    3,   -2,   -8,   -8,   -2,    4,    9,   12,   16,   15,    5,   -7,  -18]),\n",
       "        ( 82980, [  53,   44,   32,   15,   -7,  -31,  -52,  -65,  -70,  -69,  -59,  -42,  -21,   -1,   11,   22,   29,   30,   21,    2,  -19,  -39,  -45,  -36,  -18,   -1,    9,   12,   12,    5,   -7,  -28,  -48,    0,    0,    0,    0,    0,    0,    0,    0,    0,    0,    0,    0,    0,    0,    0,    0,    0]),\n",
       "        ( 82980, [ -10,   -5,    0,   -2,  -14,  -30,  -45,  -57,  -65,  -71,  -75,  -71,  -55,  -26,    0,   17,   22,   21,   16,   11,    8,    4,    1,    1,    7,   18,   26,   24,   16,    9,    3,   -5,  -22,    0,    0,    0,    0,    0,    0,    0,    0,    0,    0,    0,    0,    0,    0,    0,    0,    0]),\n",
       "        ( 82980, [  21,   21,   17,    4,  -15,  -39,  -57,  -63,  -60,  -56,  -49,  -38,  -21,   -2,   11,   22,   25,   23,   17,   12,    8,    0,  -10,  -19,  -17,   -7,    0,    4,    7,    3,   -7,  -24,  -41,    0,    0,    0,    0,    0,    0,    0,    0,    0,    0,    0,    0,    0,    0,    0,    0,    0]),\n",
       "        ( 82980, [  55,   42,   24,    3,  -17,  -33,  -45,  -56,  -65,  -69,  -60,  -39,  -17,   -1,    5,    8,    3,   -2,   -8,   -8,   -2,    4,    9,   12,   16,   15,    5,   -7,  -18,  -26,  -36,  -48,  -59,    0,    0,    0,    0,    0,    0,    0,    0,    0,    0,    0,    0,    0,    0,    0,    0,    0]),\n",
       "        ( 83204, [ 106,  -77,   26,   91,  107,   91,   59,   29,    9,    3,    4,    4,    3,    4,   10,   18,   22,   18,    8,   -2,  -12,  -22,  -28,  -26,  -21,  -15,   -5,   10,   32,   48,   50,   39,   23,    7,   -2,    0,    0,    0,    0,    0,    0,    0,    0,    0,    0,    0,    0,    0,    0,    0]),\n",
       "        ( 83204, [   0,    0,    8,   15,   18,   14,    1,  -15,  -31,  -39,  -39,  -33,  -24,   -9,   12,   36,   49,   44,   29,   11,    2,    2,    4,    7,    7,    2,   -5,  -16,  -17,   -7,    4,   14,   16,   12,    2,    0,    0,    0,    0,    0,    0,    0,    0,    0,    0,    0,    0,    0,    0,    0]),\n",
       "        ( 83204, [ -23,  -28,  -18,   -2,    9,   11,    4,   -8,  -21,  -28,  -23,  -14,   -2,    9,   19,   24,   21,   10,    0,   -4,   -7,   -8,  -14,  -22,  -29,  -29,  -22,   -8,    9,   25,   33,   31,   22,    9,   -5,    0,    0,    0,    0,    0,    0,    0,    0,    0,    0,    0,    0,    0,    0,    0]),\n",
       "        ( 83204, [ -17,  -14,   -7,    0,    7,   10,    8,   -2,  -19,  -33,  -41,  -39,  -32,  -21,   -7,    5,   15,   17,   17,   18,   17,   12,    4,   -1,   -4,   -2,    4,   17,   32,   43,   43,   32,   17,    3,   -4,    0,    0,    0,    0,    0,    0,    0,    0,    0,    0,    0,    0,    0,    0,    0]),\n",
       "        ( 84244, [  14,   10,    5,    2,    1,    1,   -3,  -24,  -57,  -87, -103,  -99,  -82,  -62,  -42,  -30,    0,    0,    0,    0,    0,    0,    0,    0,    0,    0,    0,    0,    0,    0,    0,    0,    0,    0,    0,    0,    0,    0,    0,    0,    0,    0,    0,    0,    0,    0,    0,    0,    0,    0]),\n",
       "        ( 84244, [   9,   12,   15,   11,    0,  -16,  -26,  -26,  -23,  -23,  -26,  -30,  -33,  -38,  -43,  -42,    0,    0,    0,    0,    0,    0,    0,    0,    0,    0,    0,    0,    0,    0,    0,    0,    0,    0,    0,    0,    0,    0,    0,    0,    0,    0,    0,    0,    0,    0,    0,    0,    0,    0]),\n",
       "        ( 84244, [   2,    5,    4,   -3,  -17,  -31,  -43,  -52,  -59,  -60,  -58,  -53,  -48,  -43,  -37,  -33,    0,    0,    0,    0,    0,    0,    0,    0,    0,    0,    0,    0,    0,    0,    0,    0,    0,    0,    0,    0,    0,    0,    0,    0,    0,    0,    0,    0,    0,    0,    0,    0,    0,    0]),\n",
       "        ( 84244, [  -9,   -5,   -8,  -15,  -24,  -31,  -32,  -36,  -44,  -56,  -63,  -63,  -58,  -52,  -48,  -49,    0,    0,    0,    0,    0,    0,    0,    0,    0,    0,    0,    0,    0,    0,    0,    0,    0,    0,    0,    0,    0,    0,    0,    0,    0,    0,    0,    0,    0,    0,    0,    0,    0,    0]),\n",
       "        ( 84606, [  22,    2,  -18,  -38,  -45,  -42,  -35,  -29,  -24,  -19,  -14,   -7,   -4,   -3,    0,    4,    8,   11,   22,   35,   42,   38,   30,   21,   14,   12,   12,    9,   -4,  -22,  -31,  -24,   -7,    8,   14,    0,    0,    0,    0,    0,    0,    0,    0,    0,    0,    0,    0,    0,    0,    0]),\n",
       "        ( 84606, [  28,   11,   -2,  -16,  -28,  -37,  -46,  -55,  -65,  -75,  -79,  -77,  -67,  -53,  -38,  -23,  -10,   -5,   -3,    1,   11,   23,   31,   36,   36,   33,   28,   19,   10,   -1,  -12,  -17,  -12,   -4,    0,    0,    0,    0,    0,    0,    0,    0,    0,    0,    0,    0,    0,    0,    0,    0]),\n",
       "        ( 84606, [   0,   -1,   -4,   -8,   -5,   -4,  -11,  -26,  -46,  -60,  -63,  -53,  -42,  -32,  -24,  -15,   -8,   -3,    1,    8,   16,   24,   31,   33,   30,   26,   22,   12,   -1,  -19,  -31,  -28,  -15,   -1,    7,    0,    0,    0,    0,    0,    0,    0,    0,    0,    0,    0,    0,    0,    0,    0]),\n",
       "        ( 84606, [ -17,  -30,  -42,  -49,  -46,  -33,  -14,    3,   12,   10,    0,  -14,  -24,  -28,  -21,  -10,   -2,    0,    0,    0,    0,   -1,    0,    2,    8,   12,    9,   -3,  -26,  -50,  -59,  -51,  -31,  -15,   -5,    0,    0,    0,    0,    0,    0,    0,    0,    0,    0,    0,    0,    0,    0,    0]),\n",
       "        ( 85358, [   0,    0,    0,    0,    0,    0,    0,    0,    0,    0,    0,    0,    0,    0,    0,    0,    0,    0,    0,    0,    0,    0,    0,    0,    0,    0,    0,    0,    0,    0,    0,    0,    0,    0,    0,    0,    0,    0,    0,    0,    0,    0,    0,    0,    0,    0,    0,    0,    0,    0]),\n",
       "        ( 85358, [   0,    0,    0,    0,    0,    0,    0,    0,    0,    0,    0,    0,    0,    0,    0,    0,    0,    0,    0,    0,    0,    0,    0,    0,    0,    0,    0,    0,    0,    0,    0,    0,    0,    0,    0,    0,    0,    0,    0,    0,    0,    0,    0,    0,    0,    0,    0,    0,    0,    0]),\n",
       "        ( 85358, [   0,    0,    0,    0,    0,    0,    0,    0,    0,    0,    0,    0,    0,    0,    0,    0,    0,    0,    0,    0,    0,    0,    0,    0,    0,    0,    0,    0,    0,    0,    0,    0,    0,    0,    0,    0,    0,    0,    0,    0,    0,    0,    0,    0,    0,    0,    0,    0,    0,    0]),\n",
       "        ( 85358, [   0,    0,    0,    0,    0,    0,    0,    0,    0,    0,    0,    0,    0,    0,    0,    0,    0,    0,    0,    0,    0,    0,    0,    0,    0,    0,    0,    0,    0,    0,    0,    0,    0,    0,    0,    0,    0,    0,    0,    0,    0,    0,    0,    0,    0,    0,    0,    0,    0,    0]),\n",
       "        ( 86396, [   0,    0,    0,   91,   53,  -42,  106,  106,  106,  106,  -72,   37,  105,  126,  114,   90,   65,   48,   41,   38,   35,   31,   24,   16,   12,   14,   12,    9,    5,    3,    1,    0,   -3,   -5,   -4,    2,   10,   15,   17,   16,   16,   15,   12,    9,    8,   10,   16,   21,   24,   25]),\n",
       "        ( 86396, [   0,    0,    0,   12,   18,   18,    9,   -9,  -30,  -38,  -26,   -2,   19,   31,   30,   19,    8,   -1,   -4,   -1,    2,    2,    0,   -3,   -9,  -14,  -17,  -23,  -25,  -21,  -15,  -11,   -7,   -1,    2,    5,    8,    9,   11,   16,   22,   30,   41,   46,   41,   29,   14,    3,   -1,   -4]),\n",
       "        ( 86396, [   0,    0,    0,   25,   44,   51,   31,  -14,  -66,  -96,  -91,  -62,  -26,   -1,    8,    8,    3,    1,    1,    0,   -2,   -2,    1,    4,    9,   11,   11,    9,    3,   -2,   -9,  -11,  -11,  -10,   -9,   -3,    5,   15,   19,   19,   16,   10,    3,    0,    0,    3,   10,   15,   16,   16]),\n",
       "        ( 86396, [   0,    0,    0,    4,   14,   25,   29,   17,   -5,  -31,  -46,  -45,  -32,  -16,   -2,    4,    3,   -4,  -15,  -23,  -19,   -2,   22,   43,   53,   58,   60,   58,   48,   23,   -8,  -33,  -43,  -38,  -22,   -1,   16,   25,   24,   17,    9,    5,    2,   -2,   -4,   -2,    4,   10,   12,   11]),\n",
       "        ( 86876, [ -24,  -23,  -22,  -25,  -33,  -43,  -46,  -41,  -28,  -15,   -5,    1,   12,   24,   30,   29,   22,   15,    8,    8,   17,    0,    0,    0,    0,    0,    0,    0,    0,    0,    0,    0,    0,    0,    0,    0,    0,    0,    0,    0,    0,    0,    0,    0,    0,    0,    0,    0,    0,    0]),\n",
       "        ( 86876, [  -7,    0,    4,    7,    3,   -2,  -11,  -18,  -23,  -21,  -14,   -7,   -2,    1,    7,   12,   17,   21,   23,   22,   18,    0,    0,    0,    0,    0,    0,    0,    0,    0,    0,    0,    0,    0,    0,    0,    0,    0,    0,    0,    0,    0,    0,    0,    0,    0,    0,    0,    0,    0]),\n",
       "        ( 86876, [ -10,  -10,  -10,  -11,  -12,  -15,  -16,  -14,   -4,    8,   18,   23,   21,   15,    5,    0,    0,    1,    4,    8,   10,    0,    0,    0,    0,    0,    0,    0,    0,    0,    0,    0,    0,    0,    0,    0,    0,    0,    0,    0,    0,    0,    0,    0,    0,    0,    0,    0,    0,    0]),\n",
       "        ( 86876, [   8,   12,    9,    0,  -11,  -17,  -16,   -8,    2,   16,   25,   31,   38,   45,   44,   30,   10,   -5,  -10,    0,   16,    0,    0,    0,    0,    0,    0,    0,    0,    0,    0,    0,    0,    0,    0,    0,    0,    0,    0,    0,    0,    0,    0,    0,    0,    0,    0,    0,    0,    0]),\n",
       "        ( 87178, [   0,    0,    0,    0,    0,    0,   21,   12,   -3,  -26,  -46,  -51,  -37,   -4,   35,   71,   89,   75,   28,  -35,  -93, -126,  126, -112,  -87,  -63,  -41,  -28,  -25,  -28,  -31,  -31,  -22,   -2,   18,   29,   24,    9,    0,    1,    9,   18,   22,   19,   12,    4,   -1,    0,   10,   25]),\n",
       "        ( 87178, [   0,    0,    0,    0,    0,    0,    1,    9,    4,   -7,  -24,  -37,  -36,  -16,   18,   62,  100,  120,  107,   62,    0,  -56,  -90,  -97,  -84,  -63,  -44,  -31,  -28,  -31,  -38,  -44,  -49,  -44,  -29,   -9,    3,    7,    3,    0,    0,    3,    8,   11,    9,    0,  -15,  -25,  -23,   -5]),\n",
       "        ( 87178, [   0,    0,    0,    0,    0,    0,   -3,  -12,  -31,  -52,  -66,  -64,  -45,  -10,   33,   78,  104,   97,   57,   -2,  -59,  -93, -100,  -89,  -70,  -48,  -28,  -16,  -14,  -17,  -26,  -37,  -43,  -36,  -21,   -9,   -5,   -5,   -3,    3,   15,   21,   19,   12,    2,   -5,   -9,   -2,   10,   28]),\n",
       "        ( 87178, [   0,    0,    0,    0,    0,    0,    2,   -4,  -23,  -44,  -58,  -59,  -43,  -11,   30,   71,   93,   83,   41,  -16,  -72, -107, -112,  -96,  -71,  -49,  -29,  -16,  -14,  -21,  -29,  -30,  -21,    0,   24,   36,   29,   15,    9,   14,   19,   23,   19,   11,    2,   -5,  -10,   -3,   12,   32]),\n",
       "        ( 87202, [ -37,   -4,   35,   71,   89,   75,   28,  -35,  -93, -126,  126, -112,  -87,  -63,  -41,  -28,  -25,  -28,  -31,  -31,  -22,   -2,   18,   29,   24,    9,    0,    1,    9,   18,   22,   19,   12,    4,   -1,    0,   10,   25,   37,   39,   29,   10,   -3,   -4,    0,    0,    0,    0,    0,    0]),\n",
       "        ( 87202, [ -36,  -16,   18,   62,  100,  120,  107,   62,    0,  -56,  -90,  -97,  -84,  -63,  -44,  -31,  -28,  -31,  -38,  -44,  -49,  -44,  -29,   -9,    3,    7,    3,    0,    0,    3,    8,   11,    9,    0,  -15,  -25,  -23,   -5,   12,   26,   30,   25,   14,    2,    0,    0,    0,    0,    0,    0]),\n",
       "        ( 87202, [ -45,  -10,   33,   78,  104,   97,   57,   -2,  -59,  -93, -100,  -89,  -70,  -48,  -28,  -16,  -14,  -17,  -26,  -37,  -43,  -36,  -21,   -9,   -5,   -5,   -3,    3,   15,   21,   19,   12,    2,   -5,   -9,   -2,   10,   28,   39,   45,   41,   23,    0,  -15,    0,    0,    0,    0,    0,    0]),\n",
       "        ( 87202, [ -43,  -11,   30,   71,   93,   83,   41,  -16,  -72, -107, -112,  -96,  -71,  -49,  -29,  -16,  -14,  -21,  -29,  -30,  -21,    0,   24,   36,   29,   15,    9,   14,   19,   23,   19,   11,    2,   -5,  -10,   -3,   12,   32,   45,   45,   29,    1,  -26,  -43,    0,    0,    0,    0,    0,    0]),\n",
       "        ( 88966, [ -10,    0,   22,   49,   79,  111, -126,  117,   67,    3,  -50,  -79,  -83,  -67,  -46,  -26,  -16,  -15,  -21,  -28,  -32,  -35,  -31,  -25,  -24,  -28,  -36,  -44,  -45,  -39,  -23,   -1,   16,   23,   22,   15,    5,    0,    4,   14,   18,   16,    7,    0,   -1,    7,    0,    0,    0,    0]),\n",
       "        ( 88966, [  -8,  -22,  -23,  -11,    5,   33,   67,   92,   85,   46,   -2,  -39,  -53,  -43,  -18,    2,   17,   21,   17,    9,    2,   -2,   -9,  -14,  -17,  -22,  -29,  -38,  -50,  -59,  -60,  -48,  -24,   -2,   11,   16,   14,    8,    7,   12,   22,   24,   15,   -3,  -22,  -31,    0,    0,    0,    0]),\n",
       "        ( 88966, [  -2,   -7,    0,   21,   56,   97,  120,  104,   49,  -17,  -70,  -96,  -94,  -73,  -44,  -18,   -5,   -5,  -11,  -17,  -24,  -31,  -32,  -30,  -25,  -17,  -11,  -11,  -19,  -29,  -32,  -25,  -11,    0,    9,   12,   12,   14,   17,   22,   18,    4,  -12,  -26,  -32,  -31,    0,    0,    0,    0]),\n",
       "        ( 88966, [  11,   12,   28,   51,   78,  107,  124,  106,   50,  -22,  -84, -117, -119,  -98,  -65,  -33,  -11,   -2,    0,   -1,  -11,  -31,  -53,  -69,  -71,  -63,  -48,  -33,  -22,  -10,    1,   12,   17,   11,    0,  -12,  -22,  -21,  -11,   -1,    1,   -1,  -10,  -19,  -28,  -38,    0,    0,    0,    0]),\n",
       "        ( 89004, [ -28,  -32,  -35,  -31,  -25,  -24,  -28,  -36,  -44,  -45,  -39,  -23,   -1,   16,   23,   22,   15,    5,    0,    4,   14,   18,   16,    7,    0,   -1,    7,    0,    0,    0,    0,    0,    0,    0,    0,    0,    0,    0,    0,    0,    0,    0,    0,    0,    0,    0,    0,    0,    0,    0]),\n",
       "        ( 89004, [   9,    2,   -2,   -9,  -14,  -17,  -22,  -29,  -38,  -50,  -59,  -60,  -48,  -24,   -2,   11,   16,   14,    8,    7,   12,   22,   24,   15,   -3,  -22,  -31,    0,    0,    0,    0,    0,    0,    0,    0,    0,    0,    0,    0,    0,    0,    0,    0,    0,    0,    0,    0,    0,    0,    0]),\n",
       "        ( 89004, [ -17,  -24,  -31,  -32,  -30,  -25,  -17,  -11,  -11,  -19,  -29,  -32,  -25,  -11,    0,    9,   12,   12,   14,   17,   22,   18,    4,  -12,  -26,  -32,  -31,    0,    0,    0,    0,    0,    0,    0,    0,    0,    0,    0,    0,    0,    0,    0,    0,    0,    0,    0,    0,    0,    0,    0]),\n",
       "        ( 89004, [  -1,  -11,  -31,  -53,  -69,  -71,  -63,  -48,  -33,  -22,  -10,    1,   12,   17,   11,    0,  -12,  -22,  -21,  -11,   -1,    1,   -1,  -10,  -19,  -28,  -38,    0,    0,    0,    0,    0,    0,    0,    0,    0,    0,    0,    0,    0,    0,    0,    0,    0,    0,    0,    0,    0,    0,    0]),\n",
       "        ( 89384, [ -14,  -41,  -79, -123,  110,  123,  -84,  -24,   21,   43,   46,   43,   37,   33,   32,   31,   24,    7,  -14,  -32,  -41,  -37,  -24,    0,    0,    0,    0,    0,    0,    0,    0,    0,    0,    0,    0,    0,    0,    0,    0,    0,    0,    0,    0,    0,    0,    0,    0,    0,    0,    0]),\n",
       "        ( 89384, [  22,   19,   21,   17,    7,   -5,  -18,  -28,  -36,  -44,  -46,  -39,  -26,  -16,   -9,   -4,   -3,   -8,  -21,  -33,  -43,  -44,  -38,    0,    0,    0,    0,    0,    0,    0,    0,    0,    0,    0,    0,    0,    0,    0,    0,    0,    0,    0,    0,    0,    0,    0,    0,    0,    0,    0]),\n",
       "        ( 89384, [   3,    7,    8,    0,  -17,  -36,  -45,  -43,  -36,  -31,  -26,  -21,  -12,   -7,   -3,   -5,  -12,  -22,  -29,  -31,  -30,  -24,  -12,    0,    0,    0,    0,    0,    0,    0,    0,    0,    0,    0,    0,    0,    0,    0,    0,    0,    0,    0,    0,    0,    0,    0,    0,    0,    0,    0]),\n",
       "        ( 89384, [ -21,  -14,   -7,   -9,  -22,  -36,  -45,  -51,  -53,  -50,  -39,  -22,   -4,    7,   14,   17,   14,    0,  -21,  -46,  -63,  -60,  -39,    0,    0,    0,    0,    0,    0,    0,    0,    0,    0,    0,    0,    0,    0,    0,    0,    0,    0,    0,    0,    0,    0,    0,    0,    0,    0,    0]),\n",
       "        ( 89748, [  75,   57,   32,    2,  -24,  -42,  -43,  -35,  -26,  -24,  -24,  -24,  -22,  -16,  -11,  -12,  -22,  -30,  -31,  -32,  -37,  -42,  -43,  -37,  -26,  -15,   -2,   12,   38,   70,   90,   79,   31,  -36,  -93, -119, -110,  -80,  -44,  -11,    7,   12,    7,   -4,  -15,  -16,   -7,    5,   14,   14]),\n",
       "        ( 89748, [  17,    9,   -3,  -19,  -33,  -44,  -49,  -50,  -45,  -36,  -21,   -4,    8,   16,   22,   23,   18,    4,   -5,   -9,   -8,  -10,  -16,  -23,  -28,  -30,  -28,  -15,    7,   42,   80,  106,   99,   55,   -8,  -64,  -89,  -84,  -59,  -31,  -10,   -2,   -1,   -5,  -15,  -25,  -29,  -28,  -21,  -12]),\n",
       "        ( 89748, [  38,   36,   29,   16,    2,   -8,  -21,  -41,  -60,  -72,  -67,  -53,  -39,  -30,  -25,  -24,  -25,  -24,  -19,  -17,  -22,  -32,  -42,  -46,  -44,  -32,  -15,    7,   38,   73,   99,   97,   58,   -5,  -65,  -96,  -96,  -77,  -50,  -25,  -11,   -5,   -7,   -9,   -9,   -3,    8,   19,   24,   24]),\n",
       "        ( 89748, [  55,   32,    8,  -12,  -25,  -31,  -32,  -38,  -50,  -62,  -69,  -67,  -57,  -45,  -39,  -43,  -50,  -55,  -56,  -58,  -65,  -71,  -67,  -53,  -36,  -21,   -7,    9,   36,   70,   98,  100,   66,    4,  -60, -108, -128, -119,  -90,  -53,  -24,   -4,    3,    4,    1,   -1,    1,    9,   17,   21]),\n",
       "        ( 89800, [  -2,   12,   38,   70,   90,   79,   31,  -36,  -93, -119, -110,  -80,  -44,  -11,    7,   12,    7,   -4,  -15,  -16,   -7,    5,   14,   14,   10,    9,   11,   14,   18,   28,   39,   46,   46,   42,   39,   42,   43,   43,   39,   32,   24,    9,  -19,  -66, -114,  117, -125,  -80,  -21,   36]),\n",
       "        ( 89800, [ -28,  -15,    7,   42,   80,  106,   99,   55,   -8,  -64,  -89,  -84,  -59,  -31,  -10,   -2,   -1,   -5,  -15,  -25,  -29,  -28,  -21,  -12,   -4,    2,    7,   11,   16,   21,   26,   33,   39,   43,   45,   45,   42,   32,   18,    8,    0,   -3,   -7,  -10,  -15,  -17,  -14,   -8,   -3,    0]),\n",
       "        ( 89800, [ -15,    7,   38,   73,   99,   97,   58,   -5,  -65,  -96,  -96,  -77,  -50,  -25,  -11,   -5,   -7,   -9,   -9,   -3,    8,   19,   24,   24,   22,   21,   22,   23,   24,   24,   24,   23,   23,   24,   26,   28,   26,   23,   18,   12,    7,    3,    4,    7,    5,    0,   -8,  -12,   -8,    5]),\n",
       "        ( 89800, [  -7,    9,   36,   70,   98,  100,   66,    4,  -60, -108, -128, -119,  -90,  -53,  -24,   -4,    3,    4,    1,   -1,    1,    9,   17,   21,   19,   15,   10,    8,   12,   21,   30,   35,   33,   31,   31,   36,   38,   35,   23,    9,   -5,  -17,  -19,  -19,  -22,  -23,  -18,   -8,    7,   29]),\n",
       "        ( 89946, [ -52,  -48,  -37,  -26,  -21,  -18,  -23,  -31,  -42,  -51,  -60,  -67,  -66,  -55,  -39,  -25,  -21,  -24,  -30,    0,    0,    0,    0,    0,    0,    0,    0,    0,    0,    0,    0,    0,    0,    0,    0,    0,    0,    0,    0,    0,    0,    0,    0,    0,    0,    0,    0,    0,    0,    0]),\n",
       "        ( 89946, [   3,   -4,  -10,  -14,  -16,  -19,  -30,  -43,  -57,  -64,  -63,  -57,  -51,  -44,  -37,  -29,  -24,  -24,  -24,    0,    0,    0,    0,    0,    0,    0,    0,    0,    0,    0,    0,    0,    0,    0,    0,    0,    0,    0,    0,    0,    0,    0,    0,    0,    0,    0,    0,    0,    0,    0]),\n",
       "        ( 89946, [ -23,  -24,  -24,  -25,  -29,  -36,  -42,  -45,  -44,  -41,  -38,  -39,  -43,  -42,  -37,  -33,  -30,  -25,  -19,    0,    0,    0,    0,    0,    0,    0,    0,    0,    0,    0,    0,    0,    0,    0,    0,    0,    0,    0,    0,    0,    0,    0,    0,    0,    0,    0,    0,    0,    0,    0]),\n",
       "        ( 89946, [ -29,  -38,  -36,  -25,  -16,  -12,  -15,  -21,  -26,  -33,  -43,  -52,  -52,  -43,  -29,  -16,   -7,    0,    3,    0,    0,    0,    0,    0,    0,    0,    0,    0,    0,    0,    0,    0,    0,    0,    0,    0,    0,    0,    0,    0,    0,    0,    0,    0,    0,    0,    0,    0,    0,    0]),\n",
       "        ( 90294, [  75,   67,   56,   41,   22,    4,   -7,  -15,  -23,  -32,  -35,  -24,   -7,    8,   12,    4,   -8,  -22,  -33,  -42,  -44,  -36,  -23,  -15,  -12,   -8,    3,   19,   31,   35,   30,   19,    4,   -7,  -18,  -29,  -38,  -46,    0,    0,    0,    0,    0,    0,    0,    0,    0,    0,    0,    0]),\n",
       "        ( 90294, [  21,   18,   16,   11,    7,    1,   -7,  -21,  -32,  -37,  -38,  -38,  -37,  -28,  -12,   -1,    0,   -5,   -8,   -7,   -5,   -9,  -12,  -17,  -24,  -29,  -23,   -8,    8,   18,   22,   17,    7,   -3,   -9,   -9,   -8,   -8,    0,    0,    0,    0,    0,    0,    0,    0,    0,    0,    0,    0]),\n",
       "        ( 90294, [  48,   46,   39,   28,   12,    0,  -10,  -16,  -23,  -32,  -35,  -29,  -14,    0,    4,    1,   -5,  -11,  -15,  -21,  -22,  -18,  -14,  -15,  -19,  -19,   -8,    2,    8,    5,    1,   -3,   -7,   -5,   -1,   -1,   -7,  -19,    0,    0,    0,    0,    0,    0,    0,    0,    0,    0,    0,    0]),\n",
       "        ( 90294, [  97,   79,   57,   38,   25,   18,   11,    1,  -17,  -39,  -43,  -21,   16,   48,   55,   39,   14,  -15,  -52,  -92, -120, -120,  -96,  -59,  -25,    2,   23,   33,   31,   21,    8,   -3,  -12,  -11,   -2,    2,    0,  -16,    0,    0,    0,    0,    0,    0,    0,    0,    0,    0,    0,    0]),\n",
       "        ( 91192, [  96,   43,  -16,  -50,  -45,  -12,   28,   56,   65,   63,   59,   57,   50,   31,    3,  -19,  -30,  -28,  -17,   -5,    0,    1,    0,   -4,  -12,  -24,  -37,  -46,  -44,  -32,  -18,   -7,    0,   -3,  -22,  -44,  -58,  -57,  -46,  -26,    0,    0,    0,    0,    0,    0,    0,    0,    0,    0]),\n",
       "        ( 91192, [  -5,   -9,  -15,  -22,  -22,  -15,   -7,   -1,    0,    1,    4,   10,   15,   15,    8,   -1,   -7,   -8,   -4,    0,    1,   -1,   -8,  -14,  -22,  -33,  -46,  -59,  -65,  -65,  -59,  -51,  -39,  -22,   -9,   -7,  -16,  -29,  -39,  -44,    0,    0,    0,    0,    0,    0,    0,    0,    0,    0]),\n",
       "        ( 91192, [  28,   30,   29,   23,   15,    7,    0,   -7,  -21,  -37,  -49,  -46,  -33,  -22,  -18,  -18,  -16,  -11,  -10,  -15,  -21,  -26,  -33,  -45,  -59,  -70,  -72,  -64,  -48,  -30,  -16,   -2,   14,   26,   22,    0,  -32,  -60,  -73,  -67,    0,    0,    0,    0,    0,    0,    0,    0,    0,    0]),\n",
       "        ( 91192, [  48,   57,   63,   59,   44,   22,    4,   -3,   -7,   -8,  -14,  -24,  -37,  -49,  -53,  -45,  -28,  -12,  -12,  -24,  -37,  -44,  -45,  -44,  -42,  -41,  -39,  -36,  -28,  -18,  -12,   -9,   -7,   -7,  -16,  -31,  -46,  -57,  -59,  -48,    0,    0,    0,    0,    0,    0,    0,    0,    0,    0]),\n",
       "        ( 91232, [   0,    1,    0,   -4,  -12,  -24,  -37,  -46,  -44,  -32,  -18,   -7,    0,   -3,  -22,  -44,  -58,  -57,  -46,  -26,    0,    0,    0,    0,    0,    0,    0,    0,    0,    0,    0,    0,    0,    0,    0,    0,    0,    0,    0,    0,    0,    0,    0,    0,    0,    0,    0,    0,    0,    0]),\n",
       "        ( 91232, [   1,   -1,   -8,  -14,  -22,  -33,  -46,  -59,  -65,  -65,  -59,  -51,  -39,  -22,   -9,   -7,  -16,  -29,  -39,  -44,    0,    0,    0,    0,    0,    0,    0,    0,    0,    0,    0,    0,    0,    0,    0,    0,    0,    0,    0,    0,    0,    0,    0,    0,    0,    0,    0,    0,    0,    0]),\n",
       "        ( 91232, [ -21,  -26,  -33,  -45,  -59,  -70,  -72,  -64,  -48,  -30,  -16,   -2,   14,   26,   22,    0,  -32,  -60,  -73,  -67,    0,    0,    0,    0,    0,    0,    0,    0,    0,    0,    0,    0,    0,    0,    0,    0,    0,    0,    0,    0,    0,    0,    0,    0,    0,    0,    0,    0,    0,    0]),\n",
       "        ( 91232, [ -37,  -44,  -45,  -44,  -42,  -41,  -39,  -36,  -28,  -18,  -12,   -9,   -7,   -7,  -16,  -31,  -46,  -57,  -59,  -48,    0,    0,    0,    0,    0,    0,    0,    0,    0,    0,    0,    0,    0,    0,    0,    0,    0,    0,    0,    0,    0,    0,    0,    0,    0,    0,    0,    0,    0,    0]),\n",
       "        ( 91494, [   0,    0,    0,    0,    0,    7,   -5,  -26,  -39,  -32,   -5,   29,   63,   87,  100,   94,   35,  -86,  106,  106,  106, -121,   16,  125, -108, -108, -108,  114,   77,   45,   21,    3,    0,    9,   22,   29,   28,   23,   16,    9,    2,    0,   -2,   -2,   -1,    0,    5,   16,   22,   18]),\n",
       "        ( 91494, [   0,    0,    0,    0,    0,   -8,  -11,  -23,  -36,  -45,  -46,  -39,  -25,   -7,    7,   15,   10,   -4,  -29,  -44,  -37,  -10,   22,   48,   57,   49,   36,   24,   18,   15,   10,    3,   -2,   -4,   -3,   -3,   -7,  -15,  -22,  -25,  -29,  -37,  -48,  -55,  -56,  -49,  -33,  -11,    8,   18]),\n",
       "        ( 91494, [   0,    0,    0,    0,    0,  -14,   -1,   -1,  -11,  -22,  -23,  -11,    7,   25,   37,   41,   37,   29,   17,    7,    0,    2,   15,   31,   43,   44,   37,   28,   21,   16,   15,   16,   17,   14,    4,   -7,  -17,  -22,  -22,  -19,  -16,  -16,  -19,  -22,  -23,  -23,  -21,  -14,   -9,   -7]),\n",
       "        ( 91494, [   0,    0,    0,    0,    0,   -7,  -19,  -31,  -36,  -25,   -2,   24,   45,   58,   59,   51,   36,   21,   10,   12,   26,   48,   66,   77,   75,   64,   51,   38,   24,    9,   -7,  -22,  -28,  -26,  -18,   -9,    0,    5,   11,   22,   38,   48,   37,    9,  -21,  -39,  -31,   -3,   23,   36]),\n",
       "        ( 91560, [   9,   22,   29,   28,   23,   16,    9,    2,    0,   -2,   -2,   -1,    0,    5,   16,   22,   18,   10,    4,    2,    1,   -2,    0,    0,    0,    0,    0,    0,    0,    0,    0,    0,    0,    0,    0,    0,    0,    0,    0,    0,    0,    0,    0,    0,    0,    0,    0,    0,    0,    0]),\n",
       "        ( 91560, [  -4,   -3,   -3,   -7,  -15,  -22,  -25,  -29,  -37,  -48,  -55,  -56,  -49,  -33,  -11,    8,   18,   16,    8,    4,    7,   14,    0,    0,    0,    0,    0,    0,    0,    0,    0,    0,    0,    0,    0,    0,    0,    0,    0,    0,    0,    0,    0,    0,    0,    0,    0,    0,    0,    0]),\n",
       "        ( 91560, [  14,    4,   -7,  -17,  -22,  -22,  -19,  -16,  -16,  -19,  -22,  -23,  -23,  -21,  -14,   -9,   -7,   -7,   -9,  -14,  -14,   -8,    0,    0,    0,    0,    0,    0,    0,    0,    0,    0,    0,    0,    0,    0,    0,    0,    0,    0,    0,    0,    0,    0,    0,    0,    0,    0,    0,    0]),\n",
       "        ( 91560, [ -26,  -18,   -9,    0,    5,   11,   22,   38,   48,   37,    9,  -21,  -39,  -31,   -3,   23,   36,   28,    4,  -19,  -35,  -35,    0,    0,    0,    0,    0,    0,    0,    0,    0,    0,    0,    0,    0,    0,    0,    0,    0,    0,    0,    0,    0,    0,    0,    0,    0,    0,    0,    0]),\n",
       "        ( 92856, [  85,  101,  108,   98,   38,  -86,  106,  106,  106,  106,  -72,   35,   98,  119,  121,  117,  105,   82,   51,   26,   19,   23,   29,   30,   28,   24,   23,   25,   28,   25,   14,   -2,  -14,  -15,  -11,  -12,  -16,  -21,  -28,  -32,  -31,  -24,    0,    0,    0,    0,    0,    0,    0,    0]),\n",
       "        ( 92856, [   9,   18,   26,   31,   31,   23,    7,   -9,  -17,  -12,   -1,    4,    2,   -3,   -9,   -9,   -5,   -3,   -1,    0,    5,    9,   10,    4,   -1,  -11,  -18,  -22,  -21,  -14,   -5,   -7,  -15,  -23,  -22,  -14,   -4,   -1,    0,   -1,   -3,   -2,    0,    0,    0,    0,    0,    0,    0,    0]),\n",
       "        ( 92856, [  18,   31,   38,   41,   39,   32,   14,  -10,  -35,  -46,  -45,  -35,  -22,  -10,    1,   12,   19,   22,   21,   17,   12,    3,   -7,  -17,  -24,  -25,  -21,  -10,    0,    2,   -4,  -21,  -31,  -30,  -22,  -17,  -21,  -30,  -35,  -32,  -21,   -7,    0,    0,    0,    0,    0,    0,    0,    0]),\n",
       "        ( 92856, [  28,   32,   38,   42,   39,   28,   11,   -1,  -11,  -21,  -26,  -28,  -21,   -7,   11,   30,   37,   28,    4,  -16,  -29,  -32,  -26,  -16,   -7,   -1,    7,   15,   16,    9,   -3,  -17,  -21,  -11,    0,    0,   -9,  -23,  -31,  -29,  -16,    0,    0,    0,    0,    0,    0,    0,    0,    0]),\n",
       "        ( 93062, [  -7,   42,   72,   92,   89,   60,   15,  -32,  -69,  -83,  -82,  -71,  -57,  -41,  -25,  -14,   -4,   -1,    0,    1,    5,   16,   25,   32,   31,   26,   19,   14,   14,   17,   16,    8,   -5,  -17,  -19,  -11,   -2,    4,   14,   21,   25,   29,    0,    0,    0,    0,    0,    0,    0,    0]),\n",
       "        ( 93062, [ -11,    3,   26,   57,   80,   77,   43,   -4,  -48,  -70,  -66,  -46,  -23,   -8,   -2,   -1,    1,    8,   12,   12,    8,    5,   11,   21,   29,   31,   24,   15,    9,   12,   22,   24,   15,    0,   -7,   -5,    0,    1,   -1,   -4,   -2,    0,    0,    0,    0,    0,    0,    0,    0,    0]),\n",
       "        ( 93062, [  28,   57,   90,  108,   98,   62,   16,  -22,  -45,  -45,  -24,    1,   18,   19,    9,   -3,  -14,  -21,  -26,  -25,  -17,   -3,   10,   18,   21,   17,    8,    2,    5,   15,   21,   14,    1,   -5,   -4,    0,    0,   -5,   -8,   -2,    3,    5,    0,    0,    0,    0,    0,    0,    0,    0]),\n",
       "        ( 93062, [  65,  111, -108, -108, -108,  106,   35,  -32,  -79,  -96,  -87,  -64,  -38,  -18,  -10,   -8,   -9,  -15,  -26,  -39,  -43,  -32,  -11,    7,   17,   17,    8,    0,    0,    2,    1,   -9,  -29,  -43,  -43,  -26,   -4,   14,   24,   25,   21,   17,    0,    0,    0,    0,    0,    0,    0,    0]),\n",
       "        ( 94140, [  63,   67,   62,   43,   15,  -12,  -37,  -55,  -67,  -73,  -72,  -64,  -55,  -48,  -42,  -38,  -41,  -42,  -38,  -29,  -18,   -7,    2,   10,   19,   29,   38,   43,   45,   45,   44,   41,   35,   23,   10,    7,   15,   23,   25,   17,    3,    0,    0,    0,    0,    0,    0,    0,    0,    0]),\n",
       "        ( 94140, [  15,   26,   33,   33,   26,   12,   -2,  -18,  -35,  -50,  -65,  -71,  -65,  -55,  -46,  -41,  -36,  -32,  -26,  -17,   -9,   -2,    0,    3,    8,   15,   23,   32,   39,   43,   45,   49,   45,   35,   21,    9,    9,   17,   26,   25,   15,    0,    0,    0,    0,    0,    0,    0,    0,    0]),\n",
       "        ( 94140, [  37,   46,   42,   29,   11,   -5,  -25,  -45,  -62,  -73,  -77,  -73,  -66,  -58,  -46,  -36,  -26,  -21,  -18,  -18,  -18,  -12,   -5,    2,   10,   23,   36,   43,   37,   24,   11,    3,   -2,   -9,  -15,  -12,    1,   19,   32,   32,   19,    0,    0,    0,    0,    0,    0,    0,    0,    0]),\n",
       "        ( 94140, [ 100,  119,  114,   87,   49,    8,  -23,  -48,  -69,  -84,  -92,  -91,  -87,  -79,  -67,  -55,  -46,  -42,  -39,  -38,  -36,  -26,  -12,    0,    8,   15,   22,   26,   29,   26,   18,    4,   -8,  -19,  -24,  -18,   -2,   11,   12,    1,  -14,    0,    0,    0,    0,    0,    0,    0,    0,    0]),\n",
       "        ( 94606, [   0,    0,    0,    0,    0,    0,    0,    0,    0,    0,    0,    0,    0,    0,    0,    0,    0,    0,    0,    0,    0,    0,    0,    0,    0,    0,    0,    0,    0,    0,    0,    0,    0,    0,    0,    0,    0,    0,    0,    0,    0,    0,    0,    0,    0,    0,    0,    0,    0,    0]),\n",
       "        ( 94606, [   0,    0,    0,    0,    0,    0,    0,    0,    0,    0,    0,    0,    0,    0,    0,    0,    0,    0,    0,    0,    0,    0,    0,    0,    0,    0,    0,    0,    0,    0,    0,    0,    0,    0,    0,    0,    0,    0,    0,    0,    0,    0,    0,    0,    0,    0,    0,    0,    0,    0]),\n",
       "        ( 94606, [   0,    0,    0,    0,    0,    0,    0,    0,    0,    0,    0,    0,    0,    0,    0,    0,    0,    0,    0,    0,    0,    0,    0,    0,    0,    0,    0,    0,    0,    0,    0,    0,    0,    0,    0,    0,    0,    0,    0,    0,    0,    0,    0,    0,    0,    0,    0,    0,    0,    0]),\n",
       "        ( 94606, [   0,    0,    0,    0,    0,    0,    0,    0,    0,    0,    0,    0,    0,    0,    0,    0,    0,    0,    0,    0,    0,    0,    0,    0,    0,    0,    0,    0,    0,    0,    0,    0,    0,    0,    0,    0,    0,    0,    0,    0,    0,    0,    0,    0,    0,    0,    0,    0,    0,    0]),\n",
       "        ( 95184, [  31,   72,   98,  107,   89,   18, -107,  106,  106,  106,  118,   -8,   86,  124,  112,   75,   35,    7,   -1,    2,   12,   23,   30,   35,   35,   31,   22,   11,    7,    8,   11,    9,    0,  -10,  -18,  -19,  -16,  -12,  -11,  -11,  -12,   -9,   -1,    0,    0,    0,    0,    0,    0,    0]),\n",
       "        ( 95184, [   1,   10,   19,   19,   12,    2,   -8,  -23,  -41,  -55,  -58,  -49,  -32,  -17,   -4,    0,    0,   -4,   -9,  -12,  -15,   -9,    2,   14,   18,   19,   24,   29,   29,   26,   28,   32,   37,   35,   24,   12,    4,    2,    0,   -2,   -7,   -5,    0,    0,    0,    0,    0,    0,    0,    0]),\n",
       "        ( 95184, [ -22,  -10,   -1,    1,    1,    0,   -5,  -23,  -50,  -72,  -79,  -67,  -42,  -12,   10,   19,   14,    0,  -18,  -32,  -36,  -31,  -21,  -14,  -11,  -11,  -10,   -3,    7,   14,   16,   14,    8,    3,    0,    0,   -2,   -2,    0,    2,    5,    9,   16,    0,    0,    0,    0,    0,    0,    0]),\n",
       "        ( 95184, [  -8,    8,   22,   29,   24,    8,  -10,  -25,  -29,  -19,   -2,   15,   28,   35,   39,   38,   21,  -15,  -59,  -85,  -83,  -57,  -24,    1,   12,    8,   -2,  -11,  -15,  -10,   -3,   -1,   -8,  -22,  -35,  -37,  -29,  -16,   -4,    2,    8,   12,   16,    0,    0,    0,    0,    0,    0,    0]),\n",
       "        ( 95592, [   3,  -11,  -18,  -10,   11,   38,   46,   32,    4,  -19,  -32,  -30,  -18,   -4,    2,    1,   -7,  -17,  -24,  -24,  -17,   -3,   12,   25,   29,   21,    5,   -9,  -18,  -19,  -16,  -15,  -19,  -32,  -43,  -42,  -28,    0,    0,    0,    0,    0,    0,    0,    0,    0,    0,    0,    0,    0]),\n",
       "        ( 95592, [  41,   23,   11,    8,   12,   24,   38,   42,   31,    8,  -15,  -32,  -41,  -41,  -36,  -30,  -26,  -25,  -22,  -17,  -10,   -2,    8,   21,   32,   36,   29,   16,    3,   -1,    0,    4,    9,    4,   -9,  -22,  -23,    0,    0,    0,    0,    0,    0,    0,    0,    0,    0,    0,    0,    0]),\n",
       "        ( 95592, [  18,   14,   14,   21,   32,   42,   35,    2,  -38,  -69,  -72,  -55,  -30,   -9,    2,    3,   -2,   -9,   -9,   -3,    5,   17,   29,   37,   38,   30,   15,    0,  -12,  -22,  -28,  -30,  -31,  -31,  -25,  -10,    8,    0,    0,    0,    0,    0,    0,    0,    0,    0,    0,    0,    0,    0]),\n",
       "        ( 95592, [  18,   -7,  -23,  -22,   -2,   17,   22,    4,  -24,  -50,  -58,  -46,  -25,   -8,   -4,  -12,  -24,  -30,  -28,  -18,   -7,    4,   18,   28,   30,   23,   10,   -1,   -9,  -10,   -8,   -8,  -12,  -25,  -38,  -42,  -32,    0,    0,    0,    0,    0,    0,    0,    0,    0,    0,    0,    0,    0]),\n",
       "        ( 96346, [  25,   26,   14,  -17,  -57,  -82,  -77,  -45,   -5,   22,   33,   33,   35,   44,   55,   58,   53,   48,   46,   48,   45,   33,   23,   22,   29,   35,   35,   30,   21,    9,   -5,  -22,  -38,  -50,  -53,  -46,  -35,  -25,  -29,  -42,  -53,  -57,    0,    0,    0,    0,    0,    0,    0,    0]),\n",
       "        ( 96346, [   2,    8,   15,   21,   21,   18,   17,   16,   15,   11,    3,   -7,  -16,  -15,   -4,    4,    5,   -2,  -12,  -14,   -8,   -3,   -3,   -4,    0,    9,   17,   19,   12,    1,   -9,  -17,  -19,  -15,   -3,   10,   19,   21,   14,    0,  -16,  -25,    0,    0,    0,    0,    0,    0,    0,    0]),\n",
       "        ( 96346, [  37,   49,   53,   49,   38,   28,   16,    4,   -8,  -25,  -42,  -48,  -37,  -16,    2,   11,   11,    9,   12,   15,    9,   -7,  -24,  -29,  -18,   -1,   10,   14,    9,    2,   -4,  -11,  -14,   -9,   -1,    4,    7,    3,   -7,  -24,  -36,  -38,    0,    0,    0,    0,    0,    0,    0,    0]),\n",
       "        ( 96346, [  77,   93,   91,   70,   44,   24,    7,  -11,  -35,  -62,  -84,  -93,  -83,  -53,  -18,    5,   18,   22,   21,   10,  -10,  -35,  -45,  -35,   -9,   16,   30,   29,   17,    4,   -2,   -2,    2,    5,    3,    0,   -3,   -8,  -17,  -28,  -35,  -36,    0,    0,    0,    0,    0,    0,    0,    0]),\n",
       "        ( 96948, [  28,   37,   41,   31,   15,    0,   -8,  -15,  -22,  -29,  -33,  -30,  -22,  -12,   -5,   -7,  -17,  -33,  -46,  -48,  -36,  -36,    0,    0,    0,    0,    0,    0,    0,    0,    0,    0,    0,    0,    0,    0,    0,    0,    0,    0,    0,    0,    0,    0,    0,    0,    0,    0,    0,    0]),\n",
       "        ( 96948, [   2,   11,   21,   26,   26,   24,   21,   19,   18,   14,    5,   -3,   -9,   -7,    0,    4,    5,    1,   -8,  -17,  -25,  -29,    0,    0,    0,    0,    0,    0,    0,    0,    0,    0,    0,    0,    0,    0,    0,    0,    0,    0,    0,    0,    0,    0,    0,    0,    0,    0,    0,    0]),\n",
       "        ( 96948, [   7,   17,   22,   16,    1,  -10,  -17,  -18,  -18,  -23,  -32,  -41,  -41,  -33,  -25,  -19,  -19,  -25,  -35,  -38,  -35,  -28,    0,    0,    0,    0,    0,    0,    0,    0,    0,    0,    0,    0,    0,    0,    0,    0,    0,    0,    0,    0,    0,    0,    0,    0,    0,    0,    0,    0]),\n",
       "        ( 96948, [  -7,   -8,  -11,  -22,  -33,  -38,  -35,  -29,  -24,  -23,  -22,  -16,   -4,    4,    7,   -1,  -19,  -45,  -67,  -78,  -72,  -57,    0,    0,    0,    0,    0,    0,    0,    0,    0,    0,    0,    0,    0,    0,    0,    0,    0,    0,    0,    0,    0,    0,    0,    0,    0,    0,    0,    0]),\n",
       "        ( 98286, [  25,    8,  -15,  -39,  -57,  -65,  -64,  -59,  -53,  -45,  -35,  -21,   -7,    0,   -2,   -9,  -15,  -12,   -2,    2,   -3,    0,    0,    0,    0,    0,    0,    0,    0,    0,    0,    0,    0,    0,    0,    0,    0,    0,    0,    0,    0,    0,    0,    0,    0,    0,    0,    0,    0,    0]),\n",
       "        ( 98286, [  25,   28,   24,   17,    5,   -9,  -24,  -36,  -46,  -52,  -51,  -45,  -38,  -31,  -26,  -24,  -23,  -24,  -22,  -19,  -19,    0,    0,    0,    0,    0,    0,    0,    0,    0,    0,    0,    0,    0,    0,    0,    0,    0,    0,    0,    0,    0,    0,    0,    0,    0,    0,    0,    0,    0]),\n",
       "        ( 98286, [  50,   38,   23,    8,   -5,  -21,  -32,  -43,  -50,  -51,  -46,  -37,  -26,  -19,  -18,  -22,  -25,  -23,  -16,  -10,  -14,    0,    0,    0,    0,    0,    0,    0,    0,    0,    0,    0,    0,    0,    0,    0,    0,    0,    0,    0,    0,    0,    0,    0,    0,    0,    0,    0,    0,    0]),\n",
       "        ( 98286, [  31,   18,   -2,  -25,  -43,  -50,  -50,  -48,  -43,  -36,  -29,  -19,  -11,   -8,  -14,  -28,  -42,  -43,  -29,  -10,    0,    0,    0,    0,    0,    0,    0,    0,    0,    0,    0,    0,    0,    0,    0,    0,    0,    0,    0,    0,    0,    0,    0,    0,    0,    0,    0,    0,    0,    0]),\n",
       "        ( 98772, [   0,    0,    0,    0,    0,   22,  -62,  106,  106,  106,  106, -125,    3,   84,  108,   94,   67,   45,   36,   33,   37,   42,   42,   38,   33,   29,   22,   12,    5,    0,   -8,  -14,  -17,  -16,  -12,  -10,   -9,   -5,    1,   11,   16,   14,    8,    1,   -4,  -10,   -7,   11,   33,   43]),\n",
       "        ( 98772, [   0,    0,    0,    0,    0,  -17,  -21,  -28,  -38,  -46,  -44,  -32,  -24,  -25,  -35,  -43,  -46,  -45,  -41,  -33,  -25,  -14,    0,    9,   14,   16,   17,   17,   16,   14,   10,    4,   -4,  -17,  -25,  -29,  -24,  -12,    1,   17,   26,   25,   12,   -3,  -15,  -21,  -22,  -16,    1,   28]),\n",
       "        ( 98772, [   0,    0,    0,    0,    0,  -18,  -19,  -25,  -39,  -53,  -58,  -53,  -44,  -31,  -15,   -2,    3,    2,   -5,  -15,  -18,  -10,    2,   15,   23,   24,   19,   11,    2,    0,    0,    0,   -2,  -10,  -17,  -15,   -5,    4,   17,   28,   29,   19,    5,   -5,  -15,  -21,  -17,    1,   22,   29]),\n",
       "        ( 98772, [   0,    0,    0,    0,    0,  -36,  -41,  -44,  -49,  -49,  -43,  -31,  -22,  -14,   -9,   -7,   -4,   -4,   -8,  -12,  -11,   -4,    1,    7,   14,   17,   15,    8,   -1,  -10,  -14,  -11,  -12,  -19,  -29,  -31,  -24,   -9,   11,   33,   46,   44,   33,   22,   10,    0,    0,   17,   41,   48]),\n",
       "        ( 98990, [   0,    0,    0,    0,    0,    0,    0,    0,    0,    0,    0,    0,    0,    0,    0,    0,    0,    0,    0,    0,    0,    0,    0,    0,    0,    0,    0,    0,    0,    0,    0,    0,    0,    0,    0,    0,    0,    0,    0,    0,    0,    0,    0,   -2,   -7,   -4,    4,   14,   18,   21]),\n",
       "        ( 98990, [   0,    0,    0,    0,    0,    0,    0,    0,    0,    0,    0,    0,    0,    0,    0,    0,    0,    0,    0,    0,    0,    0,    0,    0,    0,    0,    0,    0,    0,    0,    0,    0,    0,    0,    0,    0,    0,    0,    0,    0,    0,    0,    0,    5,   -4,  -16,  -24,  -21,   -8,    7]),\n",
       "        ( 98990, [   0,    0,    0,    0,    0,    0,    0,    0,    0,    0,    0,    0,    0,    0,    0,    0,    0,    0,    0,    0,    0,    0,    0,    0,    0,    0,    0,    0,    0,    0,    0,    0,    0,    0,    0,    0,    0,    0,    0,    0,    0,    0,    0,  -12,  -21,  -23,  -17,   -5,    7,   23]),\n",
       "        ( 98990, [   0,    0,    0,    0,    0,    0,    0,    0,    0,    0,    0,    0,    0,    0,    0,    0,    0,    0,    0,    0,    0,    0,    0,    0,    0,    0,    0,    0,    0,    0,    0,    0,    0,    0,    0,    0,    0,    0,    0,    0,    0,    0,    0,  -53,  -53,  -52,  -45,  -30,  -11,    3]),\n",
       "        ( 99084, [  14,   18,   21,   29,   46,   64,   63,   36,   -9,  -57,  -89,  -96,  -83,  -59,  -33,  -14,   -5,   -4,   -4,   -1,    2,    7,   12,   16,   15,   10,    1,  -10,  -24,  -35,  -42,  -43,  -38,  -28,  -15,    0,   16,   29,   33,   30,   22,   10,   -2,  -15,  -23,  -24,    0,    0,    0,    0]),\n",
       "        ( 99084, [ -21,   -8,    7,   24,   46,   73,   96,   94,   60,    2,  -57,  -96, -105,  -91,  -65,  -39,  -18,   -7,   -7,  -10,  -11,   -9,   -8,   -7,   -7,   -8,   -8,   -8,  -12,  -18,  -23,  -22,  -15,   -5,    0,    4,    9,   17,   28,   33,   30,   19,    9,    1,   -2,   -4,    0,    0,    0,    0]),\n",
       "        ( 99084, [  -5,    7,   23,   41,   58,   70,   64,   36,  -10,  -63, -100, -112, -101,  -75,  -42,  -15,   -5,   -8,  -11,   -9,   -3,    0,    5,   10,   11,    3,  -11,  -28,  -37,  -38,  -32,  -22,   -9,   -1,    1,    2,    7,   16,   24,   26,   21,    8,   -3,  -11,  -15,  -12,    0,    0,    0,    0]),\n",
       "        ( 99084, [ -30,  -11,    3,   19,   42,   65,   71,   45,   -4,  -60,  -96, -103,  -91,  -67,  -44,  -31,  -30,  -33,  -26,   -9,    8,   19,   25,   26,   21,    5,  -11,  -28,  -37,  -39,  -33,  -22,  -11,   -7,  -10,  -11,   -4,    9,   25,   36,   32,   17,    0,   -9,  -11,   -8,    0,    0,    0,    0]),\n",
       "        ( 99314, [ -46,  -38,  -26,  -16,   -7,    2,    8,    7,    2,    0,    0,   -4,  -19,  -45,  -73,  -90,  -83,    0,    0,    0,    0,    0,    0,    0,    0,    0,    0,    0,    0,    0,    0,    0,    0,    0,    0,    0,    0,    0,    0,    0,    0,    0,    0,    0,    0,    0,    0,    0,    0,    0]),\n",
       "        ( 99314, [   5,    3,   -1,   -8,  -12,  -18,  -25,  -36,  -46,  -51,  -48,  -37,  -24,  -12,   -9,  -15,  -23,    0,    0,    0,    0,    0,    0,    0,    0,    0,    0,    0,    0,    0,    0,    0,    0,    0,    0,    0,    0,    0,    0,    0,    0,    0,    0,    0,    0,    0,    0,    0,    0,    0]),\n",
       "        ( 99314, [  -4,  -14,  -22,  -26,  -28,  -25,  -24,  -28,  -36,  -45,  -48,  -42,  -32,  -23,  -16,  -18,  -29,    0,    0,    0,    0,    0,    0,    0,    0,    0,    0,    0,    0,    0,    0,    0,    0,    0,    0,    0,    0,    0,    0,    0,    0,    0,    0,    0,    0,    0,    0,    0,    0,    0]),\n",
       "        ( 99314, [ -32,  -21,  -11,   -9,   -9,   -5,    0,    2,    0,   -5,   -9,  -11,  -21,  -37,  -51,  -57,  -51,    0,    0,    0,    0,    0,    0,    0,    0,    0,    0,    0,    0,    0,    0,    0,    0,    0,    0,    0,    0,    0,    0,    0,    0,    0,    0,    0,    0,    0,    0,    0,    0,    0]),\n",
       "        ( 99596, [ 108,  103,   87,   70,   53,   37,   24,   15,   10,    8,    4,    0,    2,   12,   25,   31,   28,   11,   -8,  -26,  -36,  -32,  -21,   -7,    5,   15,   21,   22,   18,   11,    0,  -10,  -18,  -14,   -1,   10,   12,    7,   -2,  -12,    0,    0,    0,    0,    0,    0,    0,    0,    0,    0]),\n",
       "        ( 99596, [   7,    9,    2,   -4,   -4,    0,    3,   -1,  -10,  -16,  -15,  -10,   -2,    8,   19,   24,   17,    4,   -7,  -16,  -19,  -17,  -14,  -11,   -7,    0,    8,   17,   22,   22,   18,   16,   17,   19,   18,   16,   11,    9,    7,    1,    0,    0,    0,    0,    0,    0,    0,    0,    0,    0]),\n",
       "        ( 99596, [ -11,  -11,   -9,    1,   19,   30,   23,    1,  -19,  -35,  -41,  -37,  -21,    0,   14,   11,    0,  -14,  -22,  -25,  -23,  -19,  -18,  -16,  -11,   -5,    2,   11,   21,   26,   31,   35,   33,   31,   28,   23,   21,   22,   23,   22,    0,    0,    0,    0,    0,    0,    0,    0,    0,    0]),\n",
       "        ( 99596, [   9,    7,    7,   14,   24,   32,   31,   22,    7,  -12,  -38,  -59,  -64,  -50,  -26,   -5,    5,    7,    0,  -12,  -21,  -19,  -14,   -4,    2,   10,   19,   29,   30,   24,   15,    8,    4,    4,   11,   19,   25,   23,   16,    9,    0,    0,    0,    0,    0,    0,    0,    0,    0,    0]),\n",
       "        (100600, [   0,    0,    0,    0,   63,  -11,  106,  106,  106,  106,  106,  -16,   85, -121, -114,  126,  103,   79,   58,   44,   37,   32,   26,   25,   35,   56,   78,   86,   72,   39,    2,  -26,  -51,  -69,  -71,  -53,  -22,    4,   18,   14,    0,  -19,  -33,  -38,  -33,  -22,   -9,    0,    2,    0]),\n",
       "        (100600, [   0,    0,    0,    0,  -24,  -16,  -12,  -24,  -44,  -57,  -56,  -44,  -28,  -12,   -1,    2,    0,   -4,  -11,  -16,  -18,  -15,  -12,   -9,   -1,   10,   25,   38,   44,   41,   28,    9,   -8,  -23,  -36,  -45,  -44,  -37,  -29,  -24,  -21,  -17,  -12,   -8,   -3,    0,    5,   14,   23,   31]),\n",
       "        (100600, [   0,    0,    0,    0,    3,   16,   10,  -14,  -50,  -78,  -86,  -73,  -45,  -15,    8,   19,   17,    5,   -5,  -14,  -15,  -11,  -10,   -7,    1,   18,   35,   44,   41,   29,   14,    0,  -11,  -23,  -31,  -33,  -33,  -35,  -35,  -31,  -25,  -17,   -9,   -4,    2,   14,   25,   32,   33,   31]),\n",
       "        (100600, [   0,    0,    0,    0,    0,    4,   -3,  -23,  -41,  -48,  -45,  -37,  -23,   -5,    9,   17,   17,    9,    1,   -2,   -3,   -3,   -3,    0,    8,   23,   39,   48,   39,   19,   -3,  -19,  -30,  -37,  -39,  -33,  -21,  -14,  -15,  -16,  -15,  -11,  -10,   -9,   -4,    0,    2,    1,    0,   -1]),\n",
       "        (100948, [  12,    7,   -7,  -29,  -57,  -83, -100, -107, -105,  -97,  -90,  -86,  -83,  -73,  -57,  -39,  -25,  -11,   -1,    3,    2,    0,   -4,   -8,   -2,   10,   24,   28,   21,   11,    0,    0,    0,    0,    0,    0,    0,    0,    0,    0,    0,    0,    0,    0,    0,    0,    0,    0,    0,    0]),\n",
       "        (100948, [  31,   33,   29,   22,   10,   -2,  -15,  -24,  -29,  -31,  -32,  -35,  -37,  -41,  -38,  -29,  -15,   -1,   10,   18,   18,   15,   14,   14,   15,   19,   31,   44,   48,   41,    0,    0,    0,    0,    0,    0,    0,    0,    0,    0,    0,    0,    0,    0,    0,    0,    0,    0,    0,    0]),\n",
       "        (100948, [  14,   19,   22,   21,   16,    4,   -9,  -24,  -36,  -44,  -49,  -50,  -49,  -41,  -28,  -15,   -4,    1,    7,    9,    8,    7,    4,    4,    8,   17,   26,   29,   23,   18,    0,    0,    0,    0,    0,    0,    0,    0,    0,    0,    0,    0,    0,    0,    0,    0,    0,    0,    0,    0]),\n",
       "        (100948, [  52,   49,   29,    0,  -33,  -64,  -79,  -82,  -78,  -77,  -78,  -77,  -69,  -52,  -29,   -3,   17,   36,   48,   50,   38,   19,    0,  -16,  -23,  -17,   -2,   11,   19,   22,    0,    0,    0,    0,    0,    0,    0,    0,    0,    0,    0,    0,    0,    0,    0,    0,    0,    0,    0,    0]),\n",
       "        (101308, [ -70,   41,  112, -114, -112, -125,  111,   89,   63,   35,   11,    3,   11,   26,   33,   28,   16,    7,    2,    3,    7,   14,   16,   12,    3,   -5,   -9,   -4,    7,   17,   16,    2,  -11,  -19,  -18,  -17,  -21,  -30,  -45,  -55,  -53,  -41,  -25,    0,    0,    0,    0,    0,    0,    0]),\n",
       "        (101308, [ -28,  -17,   -3,    4,    8,   10,   12,   12,   11,    5,   -1,  -10,  -14,   -8,    3,   16,   22,   18,   12,    7,    1,    0,    2,    8,   11,   11,    5,    2,    7,   21,   31,   29,   18,    9,    7,    8,    3,   -2,  -10,  -14,  -15,  -11,   -5,    0,    0,    0,    0,    0,    0,    0]),\n",
       "        (101308, [ -49,  -33,   -5,   22,   42,   44,   31,    9,  -14,  -33,  -44,  -39,  -19,    1,   21,   31,   31,   21,    7,   -2,   -3,    0,    2,    1,    0,    0,    5,   19,   35,   41,   32,   12,   -2,   -8,   -4,    0,    0,   -5,  -17,  -28,  -36,  -36,  -31,    0,    0,    0,    0,    0,    0,    0]),\n",
       "        (101308, [  22,    1,  -10,   -8,    8,   29,   41,   38,   24,    3,  -17,  -32,  -32,  -19,   -2,    9,    8,    0,  -12,  -22,  -24,  -22,  -19,  -22,  -25,  -30,  -30,  -23,   -9,    0,   -2,  -18,  -37,  -45,  -42,  -35,  -32,  -38,  -50,  -62,  -64,  -55,  -38,    0,    0,    0,    0,    0,    0,    0]),\n",
       "        (103170, [  16,   -1,  -25,  -60, -105,  116,  111, -114,  -62,  -10,   19,   25,   17,    9,    7,    7,    8,   11,   16,   21,   25,   28,   25,   17,    3,   -9,  -17,  -22,  -25,  -29,  -32,    0,    0,    0,    0,    0,    0,    0,    0,    0,    0,    0,    0,    0,    0,    0,    0,    0,    0,    0]),\n",
       "        (103170, [   5,  -10,  -21,  -23,  -18,  -14,  -12,  -16,  -18,  -15,  -11,  -11,  -19,  -26,  -26,  -17,   -5,    0,    4,    8,   14,   23,   33,   39,   35,   21,    7,   -2,   -7,   -9,   -7,    0,    0,    0,    0,    0,    0,    0,    0,    0,    0,    0,    0,    0,    0,    0,    0,    0,    0,    0]),\n",
       "        (103170, [ -12,  -29,  -37,  -33,  -24,  -21,  -30,  -42,  -48,  -46,  -45,  -48,  -48,  -36,  -16,    2,   14,   19,   24,   29,   31,   31,   29,   25,   22,   21,   19,   12,    0,  -14,  -19,    0,    0,    0,    0,    0,    0,    0,    0,    0,    0,    0,    0,    0,    0,    0,    0,    0,    0,    0]),\n",
       "        (103170, [  -5,  -29,  -46,  -53,  -55,  -57,  -65,  -71,  -66,  -58,  -53,  -57,  -58,  -46,  -28,  -10,    1,    9,   14,   17,   22,   30,   37,   36,   30,   21,   14,    7,    0,   -5,   -8,    0,    0,    0,    0,    0,    0,    0,    0,    0,    0,    0,    0,    0,    0,    0,    0,    0,    0,    0]),\n",
       "        (103420, [  43,   56,   50,   15,  -41, -106,  106,  106,  119,  -92,  -56,  -39,  -38,  -37,  -28,  -15,   -9,  -12,  -22,  -30,  -32,  -26,  -15,    0,    0,    0,    0,    0,    0,    0,    0,    0,    0,    0,    0,    0,    0,    0,    0,    0,    0,    0,    0,    0,    0,    0,    0,    0,    0,    0]),\n",
       "        (103420, [  21,   22,   23,   19,    8,   -7,  -22,  -32,  -41,  -48,  -50,  -52,  -57,  -62,  -59,  -49,  -32,  -18,  -11,  -14,  -23,  -32,  -38,    0,    0,    0,    0,    0,    0,    0,    0,    0,    0,    0,    0,    0,    0,    0,    0,    0,    0,    0,    0,    0,    0,    0,    0,    0,    0,    0]),\n",
       "        (103420, [   5,   10,    8,    0,  -10,  -19,  -30,  -48,  -65,  -78,  -83,  -79,  -70,  -56,  -39,  -25,  -15,   -8,  -10,  -24,  -41,  -50,  -49,    0,    0,    0,    0,    0,    0,    0,    0,    0,    0,    0,    0,    0,    0,    0,    0,    0,    0,    0,    0,    0,    0,    0,    0,    0,    0,    0]),\n",
       "        (103420, [   9,   11,    8,    0,   -8,  -17,  -29,  -45,  -62,  -77,  -91, -104, -105,  -91,  -64,  -38,  -19,  -10,   -7,   -9,  -15,  -19,  -23,    0,    0,    0,    0,    0,    0,    0,    0,    0,    0,    0,    0,    0,    0,    0,    0,    0,    0,    0,    0,    0,    0,    0,    0,    0,    0,    0]),\n",
       "        (103822, [   0,    0,    0,    0,    0,    0,    0,    0,  -43,  -55,  -67,  -83,  -91,  -79,  -50,  -14,   14,   31,   37,   35,   28,   17,    8,    1,    2,    7,   10,    7,   -3,  -17,  -22,  -15,   -2,   12,   28,   36,   33,   22,    4,   -7,   -8,   -2,    2,    4,    4,    4,    8,   11,   14,   14]),\n",
       "        (103822, [   0,    0,    0,    0,    0,    0,    0,    0,  -19,  -38,  -55,  -65,  -69,  -60,  -35,   -1,   24,   33,   26,   10,   -3,  -11,  -15,  -17,  -19,  -18,  -11,   -2,    4,    5,    1,   -2,   -1,    3,   12,   19,   23,   22,   16,    7,   -1,    0,    5,   14,   14,    5,   -1,   -2,    2,    8]),\n",
       "        (103822, [   0,    0,    0,    0,    0,    0,    0,    0,  -79,  -72,  -60,  -51,  -38,  -14,   15,   41,   53,   53,   46,   37,   33,   37,   39,   38,   28,   12,   -1,   -8,   -8,   -7,   -5,   -4,    0,    7,   21,   30,   31,   21,    4,   -8,  -12,   -7,    1,    7,   10,   11,   14,   19,   22,   19]),\n",
       "        (103822, [   0,    0,    0,    0,    0,    0,    0,    0,  -38,  -33,  -35,  -44,  -52,  -41,   -7,   35,   72,   94,  101,   91,   71,   50,   32,   22,   17,    9,   -9,  -38,  -67,  -84,  -83,  -69,  -51,  -33,  -17,   -5,   -1,   -2,   -5,   -7,   -3,    1,    7,   12,   14,   12,    9,    3,   -1,   -3]),\n",
       "        (104062, [  63,   89,   93,   65,    9,  -50,  -94, -107,  -92,  -62,  -30,  -11,  -11,  -24,  -38,  -43,  -42,  -35,  -28,  -25,  -28,  -32,  -35,  -32,  -23,  -11,   -2,    0,   -4,  -17,  -30,  -36,  -33,  -25,  -17,   -8,    0,    5,   12,   18,   22,   22,   19,    0,    0,    0,    0,    0,    0,    0]),\n",
       "        (104062, [  14,   41,   71,   86,   67,   18,  -39,  -84,  -99,  -87,  -62,  -38,  -23,  -18,  -21,  -22,  -18,  -11,   -4,    2,    5,    1,   -5,  -11,  -11,   -4,    2,    5,    1,   -8,  -22,  -32,  -36,  -31,  -24,  -19,  -15,   -8,    1,   12,   19,   18,   16,    0,    0,    0,    0,    0,    0,    0]),\n",
       "        (104062, [  30,   63,   76,   53,    3,  -52,  -96, -111,  -97,  -69,  -37,  -14,   -7,  -18,  -36,  -46,  -44,  -33,  -19,   -8,   -5,  -15,  -29,  -37,  -35,  -28,  -19,  -15,  -12,  -16,  -23,  -28,  -24,  -16,   -7,    1,    7,   11,   16,   19,   17,   12,   10,    0,    0,    0,    0,    0,    0,    0]),\n",
       "        (104062, [  46,   70,   72,   41,  -16,  -77, -114, -118,  -93,  -56,  -15,   15,   19,   -5,  -45,  -73,  -80,  -67,  -46,  -26,  -17,  -16,  -18,  -22,  -22,  -18,  -10,   -2,    3,    4,    2,    0,   -3,   -4,    0,    5,   14,   16,   15,   12,    8,    1,   -1,    0,    0,    0,    0,    0,    0,    0]),\n",
       "        (104494, [   0,    0,    0,    0,   25,  -93,  106,  106,  106,  106,  -71,   23,   80,  105,  105,   87,   62,   42,   30,   23,   15,    7,    4,    8,   12,   16,   18,   12,    3,    0,    0,   -7,  -21,  -37,  -50,  -59,  -62,  -56,  -44,  -31,  -18,   -8,    0,    4,   11,   23,   35,   42,   38,   30]),\n",
       "        (104494, [   0,    0,    0,    0,   17,   18,    7,  -15,  -37,  -49,  -45,  -38,  -35,  -31,  -23,  -15,   -7,    0,    4,    7,    2,   -7,  -19,  -28,  -31,  -26,  -15,   -4,   -3,  -12,  -22,  -24,  -17,  -12,  -16,  -28,  -41,  -45,  -37,  -23,  -12,   -9,  -10,  -11,  -12,   -9,    0,   11,   21,   21]),\n",
       "        (104494, [   0,    0,    0,    0,   48,   46,   26,   -8,  -44,  -66,  -71,  -60,  -41,  -17,    0,    8,   11,   12,   14,   11,    2,   -9,  -19,  -26,  -28,  -22,  -15,  -15,  -19,  -24,  -22,  -14,   -4,   -1,   -5,  -19,  -37,  -50,  -53,  -51,  -44,  -35,  -25,  -18,  -12,   -7,    0,    7,    9,    7]),\n",
       "        (104494, [   0,    0,    0,    0,   21,   11,    0,  -12,  -23,  -28,  -25,  -17,   -1,   22,   41,   42,   26,    4,  -17,  -33,  -42,  -43,  -42,  -39,  -33,  -23,  -15,  -12,  -12,  -12,   -9,   -3,    0,    3,    1,   -8,  -24,  -38,  -41,  -31,  -16,   -3,    2,    2,    3,   12,   26,   38,   42,   37]),\n",
       "        (105048, [  32,   57,   73,   70,   45,   11,  -10,  -19,  -25,  -35,  -43,  -43,  -30,   -9,   11,   29,   39,   41,   31,   18,    7,    2,    0,   -2,   -8,  -12,  -14,  -11,   -4,    4,   12,   15,    8,   -7,  -25,  -41,  -50,  -50,  -45,  -41,  -33,  -22,   -8,    5,   17,    0,    0,    0,    0,    0]),\n",
       "        (105048, [   7,   14,   24,   38,   55,   72,   94,  116,  114,   82,   22,  -39,  -83,  -92,  -75,  -46,  -19,   -1,    8,   11,   10,    4,   -3,   -9,  -12,  -17,  -22,  -21,  -15,   -4,    8,   19,   28,   26,   18,    8,    0,   -7,  -14,  -24,  -36,  -39,  -32,  -22,  -12,    0,    0,    0,    0,    0]),\n",
       "        (105048, [  -5,   16,   44,   71,   93,  110,  114,   96,   49,  -14,  -70,  -98,  -92,  -60,  -21,    8,   23,   23,   12,   -1,  -14,  -19,  -16,  -10,   -5,   -2,    2,    8,   12,   14,   14,   11,    9,    7,    2,   -4,  -11,  -18,  -28,  -38,  -45,  -44,  -33,  -16,    4,    0,    0,    0,    0,    0]),\n",
       "        (105048, [ -28,   -5,   21,   50,   75,   94,  104,   90,   46,  -15,  -73, -105,  -98,  -64,  -23,    7,   25,   31,   26,   12,    1,   -1,    0,    4,    5,    5,    8,    9,    9,   10,    9,    8,    5,    5,    4,    1,   -7,  -18,  -29,  -36,  -32,  -18,   -1,   14,   25,    0,    0,    0,    0,    0]),\n",
       "        (111696, [   0,    0,    0,    0,    0,    0,    0,  -46,  -83, -126,  106,  106,  117,  -64,   22,   85,  105,   84,   45,   14,    1,    4,   12,   23,   31,   30,   24,   23,   31,   43,   45,   36,   19,    8,    8,   18,   28,   26,   18,   10,    7,    7,   10,   15,   17,   11,    0,  -12,  -19,  -19]),\n",
       "        (111696, [   0,    0,    0,    0,    0,    0,    0,  -41,  -45,  -50,  -52,  -52,  -45,  -26,    0,   26,   43,   41,   22,   -1,  -19,  -30,  -28,  -14,    7,   28,   37,   37,   36,   42,   50,   51,   43,   31,   21,   15,   16,   22,   23,   17,   10,    9,   15,   23,   29,   30,   26,   19,   14,   16]),\n",
       "        (111696, [   0,    0,    0,    0,    0,    0,    0,  -17,  -19,  -25,  -31,  -33,  -22,    3,   33,   53,   52,   35,   11,   -7,  -23,  -32,  -30,  -16,    0,    9,   11,   14,   22,   33,   38,   35,   22,    9,    1,    1,    2,    1,    0,    3,   10,   21,   30,   31,   26,   15,    0,  -11,  -18,  -22]),\n",
       "        (111696, [   0,    0,    0,    0,    0,    0,    0,  -23,  -23,  -30,  -39,  -44,  -38,  -22,   -7,   -5,  -19,  -42,  -57,  -58,  -50,  -38,  -25,  -12,   -4,   -3,   -3,    3,   22,   45,   58,   56,   45,   35,   31,   31,   26,   12,    0,   -5,   -2,    8,   24,   37,   37,   19,   -3,  -26,  -44,  -50]),\n",
       "        (112432, [ 114,  106,  100,   93,   76,   51,   25,    3,  -12,  -25,  -39,  -55,  -75,  -97, -116, -123, -118, -107,  -99, -100, -108, -116, -111,  -93,  -73,  -57,  -46,  -44,  -45,  -41,  -26,   -7,    5,   10,    7,    1,    0,    0,    0,    0,    0,    0,    0,    0,    0,    0,    0,    0,    0,    0]),\n",
       "        (112432, [ 126,  113,   93,   70,   45,   19,   -2,  -18,  -24,  -23,  -17,  -15,  -24,  -45,  -70,  -86,  -94,  -94,  -91,  -86,  -84,  -83,  -78,  -66,  -52,  -42,  -37,  -33,  -33,  -37,  -38,  -33,  -24,  -17,  -15,  -18,    0,    0,    0,    0,    0,    0,    0,    0,    0,    0,    0,    0,    0,    0]),\n",
       "        (112432, [ 114,  103,   87,   69,   46,   21,   -4,  -29,  -48,  -57,  -59,  -60,  -67,  -84, -103, -114, -117, -111, -103,  -94,  -86,  -78,  -65,  -52,  -43,  -35,  -30,  -28,  -30,  -32,  -28,  -15,   -4,   -1,   -5,  -10,    0,    0,    0,    0,    0,    0,    0,    0,    0,    0,    0,    0,    0,    0]),\n",
       "        (112432, [-119,  107,   77,   50,   29,   14,    3,   -3,   -8,  -11,  -21,  -38,  -62,  -86, -105, -117, -123, -124, -118, -106,  -91,  -75,  -56,  -43,  -39,  -42,  -48,  -53,  -55,  -48,  -33,  -19,  -10,   -9,  -11,  -11,    0,    0,    0,    0,    0,    0,    0,    0,    0,    0,    0,    0,    0,    0]),\n",
       "        (114504, [   0,    0,    0,    0,    0,    0,    0,    0,    0,  -32,  -33,  -22,   -3,   15,   32,   43,   50,   57,   64,   62,   49,   29,   10,   -1,   -1,    7,   17,   26,   32,   36,   39,   42,   39,   28,    9,  -10,  -26,  -38,  -45,  -46,  -38,  -23,   -7,    0,   -5,  -18,  -26,  -29,  -29,  -30]),\n",
       "        (114504, [   0,    0,    0,    0,    0,    0,    0,    0,    0,   23,    9,    4,   11,   28,   44,   55,   60,   64,   70,   71,   63,   43,   17,   -5,  -19,  -21,  -10,    0,    8,   11,   12,   10,    5,   -3,  -14,  -18,  -19,  -19,  -21,  -21,  -18,  -12,   -4,    2,    7,    4,   -2,  -11,  -17,  -23]),\n",
       "        (114504, [   0,    0,    0,    0,    0,    0,    0,    0,    0,  -46,  -56,  -43,  -15,   15,   38,   51,   57,   60,   60,   51,   36,   18,    7,    2,    4,   11,   19,   24,   25,   22,   19,   19,   19,   16,    9,    0,  -10,  -18,  -19,  -12,   -2,    7,   16,   21,   18,   10,    0,  -10,  -22,  -35]),\n",
       "        (114504, [   0,    0,    0,    0,    0,    0,    0,    0,    0,  -24,   -9,   14,   36,   53,   59,   50,   31,   17,   14,   17,   18,   14,    4,    0,    0,    5,   15,   21,   25,   28,   31,   33,   32,   22,    3,  -11,  -23,  -28,  -24,  -15,   -3,    5,   12,   11,    1,   -9,  -16,  -21,  -29,  -41])],\n",
       "       dtype=[('spiketimes', '>i4'), ('samples', 'i1', (50,))])"
      ]
     },
     "execution_count": 316,
     "metadata": {},
     "output_type": "execute_result"
    }
   ],
   "source": [
    "recording_y.neo_reader._raw_spikes[0] # still correct!!!"
   ]
  },
  {
   "cell_type": "code",
   "execution_count": 322,
   "id": "36cd3d04",
   "metadata": {},
   "outputs": [
    {
     "data": {
      "text/plain": [
       "memmap([ 52,  52,  44,  29,  17,  10,   4,  -4, -16, -23, -20,  -7,  -7,\n",
       "         21,  27,  27,  22,  11], dtype=int8)"
      ]
     },
     "execution_count": 322,
     "metadata": {},
     "output_type": "execute_result"
    }
   ],
   "source": [
    "recording.neo_reader.get_spike_raw_waveforms()[0, 0, 8:26]"
   ]
  },
  {
   "cell_type": "code",
   "execution_count": 323,
   "id": "3c51e1e4",
   "metadata": {},
   "outputs": [
    {
     "data": {
      "text/plain": [
       "memmap([ 60,  60,  51,  33,  19,  11,   4,  -4, -18, -26, -23,  -8,  -8,\n",
       "         24,  31,  31,  25,  12], dtype=int8)"
      ]
     },
     "execution_count": 323,
     "metadata": {},
     "output_type": "execute_result"
    }
   ],
   "source": [
    "recording_y.neo_reader.get_spike_raw_waveforms()[0, 0, 0:18]  # Still correct!!!"
   ]
  },
  {
   "cell_type": "code",
   "execution_count": null,
   "id": "bc73b02c",
   "metadata": {},
   "outputs": [],
   "source": []
  },
  {
   "cell_type": "code",
   "execution_count": 311,
   "id": "bf4e1d37",
   "metadata": {},
   "outputs": [],
   "source": [
    "with open(tetrode_filename, 'rb') as f:\n",
    "    lines = f.readlines()"
   ]
  },
  {
   "cell_type": "code",
   "execution_count": 314,
   "id": "0156ba20",
   "metadata": {},
   "outputs": [
    {
     "data": {
      "text/plain": [
       "45"
      ]
     },
     "execution_count": 314,
     "metadata": {},
     "output_type": "execute_result"
    }
   ],
   "source": [
    "np.frombuffer(lines[14], dtype=np.int8)"
   ]
  },
  {
   "cell_type": "code",
   "execution_count": null,
   "id": "f6679e5e",
   "metadata": {},
   "outputs": [],
   "source": []
  },
  {
   "cell_type": "code",
   "execution_count": 315,
   "id": "af619649",
   "metadata": {},
   "outputs": [],
   "source": [
    "recording_y = AxonaUnitRecordingExtractor(filename=set_file_to_tint, noise_std=0)"
   ]
  },
  {
   "cell_type": "code",
   "execution_count": 341,
   "id": "c78d38ed",
   "metadata": {},
   "outputs": [
    {
     "data": {
      "text/plain": [
       "array([  0,   0,  -7,   2,  18,  36,  49,  54,  53,  51,  52,  52,  44,\n",
       "        29,  17,  10,   4,  -4, -16, -23, -20,  -7,  -7,  21,  27,  27,\n",
       "        22,  11,  -2, -12, -15, -13, -12, -12,  -7,   2,  11,  18],\n",
       "      dtype=int8)"
      ]
     },
     "execution_count": 341,
     "metadata": {},
     "output_type": "execute_result"
    }
   ],
   "source": [
    "dat1[472-20:472+18]"
   ]
  },
  {
   "cell_type": "code",
   "execution_count": 340,
   "id": "3cab5816",
   "metadata": {},
   "outputs": [
    {
     "data": {
      "text/plain": [
       "array([  0,   0,   0,   0,   0,   0,   0,   0,   0,   0,  60,  60,  51,\n",
       "        33,  19,  11,   4,  -4, -18, -26, -23,  -8,  -8,  24,  31,  31,\n",
       "        25,  12,  -2, -14, -17, -15, -14, -14,  -8,   2,  12,  21],\n",
       "      dtype=int8)"
      ]
     },
     "execution_count": 340,
     "metadata": {},
     "output_type": "execute_result"
    }
   ],
   "source": [
    "dat2[472-20:472+18]"
   ]
  },
  {
   "cell_type": "code",
   "execution_count": 337,
   "id": "5ba2b7e2",
   "metadata": {},
   "outputs": [
    {
     "data": {
      "text/plain": [
       "[<matplotlib.lines.Line2D at 0x7f37c9f3c5e0>]"
      ]
     },
     "execution_count": 337,
     "metadata": {},
     "output_type": "execute_result"
    },
    {
     "data": {
      "image/png": "[encoded data removed]",
      "text/plain": [
       "<Figure size 1152x360 with 1 Axes>"
      ]
     },
     "metadata": {
      "needs_background": "light"
     },
     "output_type": "display_data"
    }
   ],
   "source": [
    "%matplotlib inline\n",
    "\n",
    "plt.rcParams[\"figure.figsize\"] = (16, 5)\n",
    "plt.rcParams.update({'font.size':14})\n",
    "\n",
    "#w_ts = sw.plot_timeseries(recording, trange=[0, 0.3])\n",
    "dat1 = recording.get_traces(channel_ids=[0], return_scaled=False).ravel()\n",
    "dat2 = recording_y.get_traces(channel_ids=[0], return_scaled=False).ravel()\n",
    "plt.plot(dat1[472:472+18])\n",
    "plt.plot(dat2[472:472+18])"
   ]
  },
  {
   "cell_type": "code",
   "execution_count": 179,
   "id": "a9a10418",
   "metadata": {},
   "outputs": [],
   "source": [
    "recording.get_traces?"
   ]
  },
  {
   "cell_type": "code",
   "execution_count": 28,
   "id": "51efe8e6",
   "metadata": {},
   "outputs": [
    {
     "data": {
      "image/png": "[encoded data removed]",
      "text/plain": [
       "<Figure size 1152x360 with 1 Axes>"
      ]
     },
     "metadata": {
      "needs_background": "light"
     },
     "output_type": "display_data"
    }
   ],
   "source": [
    "w_ts = sw.plot_timeseries(recording_y, trange=[0, 0.3])"
   ]
  },
  {
   "cell_type": "markdown",
   "id": "c96ad0c9",
   "metadata": {},
   "source": [
    "Waveforms do not match comparing `recording` (origin X recording) and `recording_y` (converted to tint)"
   ]
  },
  {
   "cell_type": "code",
   "execution_count": 172,
   "id": "8ac4ede3",
   "metadata": {},
   "outputs": [],
   "source": [
    "st.postprocessing.get_unit_waveforms??"
   ]
  },
  {
   "cell_type": "code",
   "execution_count": 167,
   "id": "4ea5c757",
   "metadata": {},
   "outputs": [],
   "source": [
    "from spiketoolkit.postprocessing.utils import get_unit_waveforms_for_chunk"
   ]
  },
  {
   "cell_type": "code",
   "execution_count": 168,
   "id": "d0e6f39a",
   "metadata": {},
   "outputs": [],
   "source": [
    "get_unit_waveforms_for_chunk?"
   ]
  },
  {
   "cell_type": "code",
   "execution_count": 149,
   "id": "2cb10fb0",
   "metadata": {},
   "outputs": [],
   "source": [
    "sampling_rate = recording.get_sampling_frequency()\n",
    "samples_before = int(header['pretrigSamps'])\n",
    "samples_after = int(header['spikeLockout'])\n",
    "\n",
    "ms_before = samples_before / (sampling_rate / 1000) + 0.001\n",
    "ms_after = samples_after / (sampling_rate / 1000) + 0.001\n",
    "\n",
    "waveforms = st.postprocessing.get_unit_waveforms(\n",
    "    recording,\n",
    "    sorting_nwb,\n",
    "    unit_ids=0,\n",
    "    max_spikes_per_unit=None,\n",
    "    grouping_property='group',\n",
    "    recompute_info=True,\n",
    "    ms_before=ms_before,\n",
    "    ms_after=ms_after,\n",
    "    return_idxs=False,\n",
    "    return_scaled=False,\n",
    "    dtype=np.int8\n",
    ")"
   ]
  },
  {
   "cell_type": "code",
   "execution_count": 159,
   "id": "65085fe0",
   "metadata": {},
   "outputs": [
    {
     "name": "stdout",
     "output_type": "stream",
     "text": [
      "(72, 4, 50)\n",
      "[ -9  -4   1   3   0 -15 -39 -60 -67 -57 -37 -16  -2   2   4  10  18  25\n",
      "  30  30  33  26  16   4   4 -15 -16 -12 -11 -14   0   0   0   0   0   0\n",
      "   0   0   0   0   0   0   0   0   0   0   0   0   0   0]\n"
     ]
    }
   ],
   "source": [
    "print(waveforms[0].shape)\n",
    "print(waveforms[0][0,0,:])"
   ]
  },
  {
   "cell_type": "code",
   "execution_count": 165,
   "id": "c5e86547",
   "metadata": {},
   "outputs": [
    {
     "data": {
      "text/plain": [
       "array([  806,  1638,  1854,  2044,  2642,  2929,  4106,  5032,  5982,\n",
       "        6056,  6711,  7489,  7691,  8229, 10222, 11061, 11961, 13920,\n",
       "       14137, 16582, 17070, 17403, 17661, 18316, 18751, 18789, 18964,\n",
       "       20220, 20854, 22096, 24185, 24770, 24788, 25149, 26285, 26382,\n",
       "       26529, 27031, 27706, 29057, 29884, 30126, 30362, 30739, 31774,\n",
       "       33709, 34159, 36395, 36676, 37662, 38283, 38612, 39187, 40663,\n",
       "       41048, 41490, 41602, 42303, 43438, 44502, 44692, 44973, 45147,\n",
       "       45616, 45747, 45780, 46531, 47303, 49143, 49495, 52031, 55848])"
      ]
     },
     "execution_count": 165,
     "metadata": {},
     "output_type": "execute_result"
    }
   ],
   "source": [
    "sorting_nwb.get_unit_spike_train(unit_id=0)"
   ]
  },
  {
   "cell_type": "code",
   "execution_count": null,
   "id": "4da67a6b",
   "metadata": {},
   "outputs": [],
   "source": []
  },
  {
   "cell_type": "code",
   "execution_count": null,
   "id": "3fcdad1e",
   "metadata": {},
   "outputs": [],
   "source": []
  },
  {
   "cell_type": "code",
   "execution_count": null,
   "id": "f02b9dd2",
   "metadata": {},
   "outputs": [],
   "source": []
  },
  {
   "cell_type": "code",
   "execution_count": 146,
   "id": "73215a41",
   "metadata": {},
   "outputs": [],
   "source": [
    "get_waveforms??"
   ]
  },
  {
   "cell_type": "code",
   "execution_count": 35,
   "id": "943e195b",
   "metadata": {},
   "outputs": [
    {
     "name": "stdout",
     "output_type": "stream",
     "text": [
      "(72,) (72, 4, 50)\n",
      "(101,) (101, 4, 50)\n",
      "(59,) (59, 4, 50)\n",
      "(15,) (15, 4, 50)\n",
      "(39,) (39, 4, 50)\n",
      "(51,) (51, 4, 50)\n",
      "(38,) (38, 4, 50)\n",
      "(50,) (50, 4, 50)\n",
      "(47,) (47, 4, 50)\n",
      "(73,) (73, 4, 50)\n",
      "(47,) (47, 4, 50)\n",
      "(42,) (42, 4, 50)\n",
      "(67,) (67, 4, 50)\n",
      "(52,) (52, 4, 50)\n"
     ]
    },
    {
     "data": {
      "text/plain": [
       "memmap([[ -9,  -4,   1,   3,   0, -15, -39, -60, -67, -57, -37, -16,  -2,\n",
       "           2,   4,  10,  18,  25,  30,  30,  33,  26,  16,   4,   4, -15,\n",
       "         -16, -12, -11, -14,   0,   0,   0,   0,   0,   0,   0,   0,   0,\n",
       "           0,   0,   0,   0,   0,   0,   0,   0,   0,   0,   0],\n",
       "        [-15, -12,  -9,  -4,  -2,  -3, -14, -35, -57, -69, -67, -57, -42,\n",
       "         -28, -16,  -7,   0,   8,  12,  14,  14,  11,   8,   5,   5,   3,\n",
       "          -1,  -8, -11, -14,   0,   0,   0,   0,   0,   0,   0,   0,   0,\n",
       "           0,   0,   0,   0,   0,   0,   0,   0,   0,   0,   0],\n",
       "        [-26, -19,  -8,   2,  10,  10,  -1, -22, -41, -49, -45, -33, -21,\n",
       "         -10,  -4,   0,   0,   0,  -3,  -5,  -7,  -8,  -8,  -5,  -5,  -9,\n",
       "         -12, -16, -17, -16,   0,   0,   0,   0,   0,   0,   0,   0,   0,\n",
       "           0,   0,   0,   0,   0,   0,   0,   0,   0,   0,   0],\n",
       "        [-44, -23,   0,  23,  41,  42,  22, -12, -46, -59, -49, -24,  -4,\n",
       "          -1, -14, -28, -30, -23,  -9,   2,   7,   1,  -8, -14, -15, -12,\n",
       "         -10, -10, -17, -28,   0,   0,   0,   0,   0,   0,   0,   0,   0,\n",
       "           0,   0,   0,   0,   0,   0,   0,   0,   0,   0,   0]],\n",
       "       dtype=int8)"
      ]
     },
     "execution_count": 35,
     "metadata": {},
     "output_type": "execute_result"
    }
   ],
   "source": [
    "# Compare a single waveform between pre-conversion and post-conversion .X data\n",
    "\n",
    "from hussaini_lab_to_nwb.tint_conversion.export_spike_waveforms import (\n",
    "    write_to_tetrode_files,\n",
    "    get_waveforms,\n",
    "    parse_generic_header,\n",
    "    combine_units_on_tetrode\n",
    ")\n",
    "\n",
    "header = parse_generic_header(set_file_to_tint)\n",
    "group_unit_ids = None\n",
    "\n",
    "waveforms_pre = get_waveforms(recording, sorting_nwb, group_unit_ids, header)\n",
    "spike_samples_pre = sorting_nwb.get_units_spike_train()\n",
    "for spk_trn, wv in zip(spike_samples_pre, waveforms_pre):\n",
    "    print(spk_trn.shape, wv.shape)\n",
    "    \n",
    "waveforms_pre[0][0,:,:]"
   ]
  },
  {
   "cell_type": "code",
   "execution_count": 192,
   "id": "8f29d693",
   "metadata": {},
   "outputs": [
    {
     "name": "stdout",
     "output_type": "stream",
     "text": [
      "/mnt/d/freelance-work/catalyst-neuro/hussaini-lab-to-nwb/sample_bin_to_tint_no_bin/conversion_to_tint/axona_sample.1\n",
      "(173, 4, 50)\n"
     ]
    }
   ],
   "source": [
    "# Read data back in to see if it worked as expected\n",
    "\n",
    "tetrode_filename = \\\n",
    "    '/mnt/d/freelance-work/catalyst-neuro/hussaini-lab-to-nwb/sample_bin_to_tint_no_bin/conversion_to_tint/axona_sample.1'\n",
    "print(tetrode_filename)\n",
    "\n",
    "from neo import AxonaIO\n",
    "\n",
    "neoio = AxonaIO(tetrode_filename)\n",
    "\n",
    "waveforms_post = neoio.get_spike_raw_waveforms()\n",
    "spike_samples_post = sorting_nwb.get_units_spike_train()\n",
    "print(waveforms_post.shape)\n",
    "x = waveforms_post[0, 0, :]"
   ]
  },
  {
   "cell_type": "code",
   "execution_count": 105,
   "id": "55c85c6b",
   "metadata": {},
   "outputs": [],
   "source": [
    "recording.neo_reader.get_spike_raw_waveforms??"
   ]
  },
  {
   "cell_type": "code",
   "execution_count": 191,
   "id": "d9a695d6",
   "metadata": {},
   "outputs": [
    {
     "name": "stdout",
     "output_type": "stream",
     "text": [
      "(159, 4, 50)\n"
     ]
    }
   ],
   "source": [
    "print(recording.neo_reader.get_spike_raw_waveforms().shape)\n",
    "y = recording.neo_reader._get_spike_raw_waveforms(block_index=0, seg_index=0, unit_index=0, t_start=None, t_stop=None)[0,0,:]"
   ]
  },
  {
   "cell_type": "code",
   "execution_count": 224,
   "id": "cebdc56c",
   "metadata": {},
   "outputs": [
    {
     "data": {
      "text/plain": [
       "memmap([[ 60,  60,  51,  33,  19,  11,   4,  -4, -18, -26, -23,  -8,  -8,\n",
       "          24,  31,  31,  25,  12,  -2, -14, -17, -15, -14, -14,  -8,   2,\n",
       "          12,  21,  23,  18,  10,   2,   0,   2,   9,  16,  22,  29,  37,\n",
       "          38,  30,  17,   0,   0,   0,   0,   0,   0,   0,   0],\n",
       "        [ 60,  70,  70,  55,  31,  11,   0,  -5, -18, -36, -48, -46, -36,\n",
       "         -24, -16, -10,  -8,  -5,   0,   4,   7,   3,  -7, -23, -36, -36,\n",
       "         -24,  -9,   0,   2,  -2,  -9, -10,  -3,   4,   9,  10,  15,  23,\n",
       "          29,  29,  25,   0,   0,   0,   0,   0,   0,   0,   0],\n",
       "        [ 37,  43,  43,  37,  30,  24,  18,   2, -23, -52, -65, -58, -36,\n",
       "         -10,   7,  14,  14,  14,  15,  12,   7,   0,  -9, -16, -14,  -2,\n",
       "          11,  22,  22,  10,  -5, -21, -28, -24, -14,   0,  11,  23,  32,\n",
       "          35,  28,  16,   0,   0,   0,   0,   0,   0,   0,   0],\n",
       "        [ 44,  56,  62,  56,  46,  43,  42,  35,  16,  -2,  -9,   1,  23,\n",
       "          43,  58,  69,  67,  48,  12, -25, -53, -65, -62, -46, -25,  -3,\n",
       "          14,  21,  16,   2, -15, -25, -28, -22, -12,  -1,  11,  23,  29,\n",
       "          25,  11,  -3,   0,   0,   0,   0,   0,   0,   0,   0]],\n",
       "       dtype=int8)"
      ]
     },
     "execution_count": 224,
     "metadata": {},
     "output_type": "execute_result"
    }
   ],
   "source": [
    "spike_waveform_dict.get(472)"
   ]
  },
  {
   "cell_type": "code",
   "execution_count": 208,
   "id": "20adc408",
   "metadata": {},
   "outputs": [
    {
     "name": "stdout",
     "output_type": "stream",
     "text": [
      "[ 52  52  44  29  17  10   4  -4 -16 -23 -20  -7  -7  21  27  27  22  11\n",
      "  -2 -12 -15 -13 -12 -12  -7   2  11  18  20  16   9   2   0   2   8  14\n",
      "  19  25  32  33  26  15]\n",
      "[ 60  60  51  33  19  11   4  -4 -18 -26 -23  -8  -8  24  31  31  25  12\n",
      "  -2 -14 -17 -15 -14 -14  -8   2  12  21  23  18  10   2   0   2   9  16\n",
      "  22  29  37  38  30  17]\n"
     ]
    }
   ],
   "source": [
    "print(y[8:])\n",
    "print(x[:42])"
   ]
  },
  {
   "cell_type": "code",
   "execution_count": 203,
   "id": "9c0c40e7",
   "metadata": {},
   "outputs": [
    {
     "data": {
      "text/plain": [
       "[<matplotlib.lines.Line2D at 0x7f37ca96ba90>]"
      ]
     },
     "execution_count": 203,
     "metadata": {},
     "output_type": "execute_result"
    },
    {
     "data": {
      "image/png": "[encoded data removed]",
      "text/plain": [
       "<Figure size 1152x360 with 1 Axes>"
      ]
     },
     "metadata": {
      "needs_background": "light"
     },
     "output_type": "display_data"
    }
   ],
   "source": [
    "plt.plot(list(range(50)), x)\n",
    "plt.plot(list(range(-8, 42)), y)"
   ]
  },
  {
   "cell_type": "code",
   "execution_count": 96,
   "id": "5f94c5fd",
   "metadata": {},
   "outputs": [],
   "source": [
    "st_y = recording_y.neo_reader._get_spike_timestamps(block_index=0, seg_index=0, unit_index=0, t_start=None, t_stop=None) // 2"
   ]
  },
  {
   "cell_type": "code",
   "execution_count": 98,
   "id": "7acbdf17",
   "metadata": {},
   "outputs": [],
   "source": [
    "st_x = recording.neo_reader._get_spike_timestamps(block_index=0, seg_index=0, unit_index=0, t_start=None, t_stop=None) // 2"
   ]
  },
  {
   "cell_type": "code",
   "execution_count": 102,
   "id": "b0caab9d",
   "metadata": {},
   "outputs": [
    {
     "name": "stdout",
     "output_type": "stream",
     "text": [
      "173 159\n",
      " \n",
      "472 464\n",
      "806 786\n",
      "1579 1570\n",
      "1638 1632\n",
      "1823 1826\n",
      "1854 2017\n",
      "2044 2228\n",
      "2255 2322\n",
      "2345 2493\n",
      "2642 2634\n",
      "2929 2905\n",
      "3132 3118\n",
      "3869 3872\n",
      "3946 3926\n",
      "4106 4103\n",
      "4678 4577\n",
      "5032 4673\n",
      "5789 5024\n",
      "5810 5781\n",
      "5982 5974\n",
      "6056 6019\n",
      "6242 6208\n",
      "6264 6259\n",
      "6410 6705\n",
      "6699 7061\n",
      "6711 7482\n",
      "6725 7600\n",
      "6938 7685\n",
      "7077 8022\n",
      "7256 8173\n",
      "7489 8222\n",
      "7691 9696\n",
      "8059 9771\n",
      "8229 10217\n",
      "9778 10376\n",
      "9799 11066\n",
      "10222 11954\n",
      "10239 12676\n",
      "10722 12775\n",
      "11061 12891\n",
      "11103 13078\n",
      "11946 13642\n",
      "11961 13905\n",
      "12703 14037\n",
      "12769 14112\n",
      "12893 14966\n",
      "13086 15308\n",
      "13648 15676\n",
      "13920 15951\n",
      "14073 16427\n",
      "14137 17056\n",
      "14483 17397\n",
      "14972 17573\n",
      "15007 17654\n",
      "15302 17747\n",
      "15343 18319\n",
      "15679 18757\n",
      "15711 18957\n",
      "15963 19217\n",
      "16459 19592\n",
      "16582 19824\n",
      "16756 19899\n",
      "17070 20139\n",
      "17403 20212\n",
      "17661 20848\n",
      "17751 21441\n",
      "18316 21525\n",
      "18751 22105\n",
      "18789 22556\n",
      "18964 22712\n",
      "18986 23301\n",
      "19221 23493\n",
      "19597 24084\n",
      "19910 24158\n",
      "20142 24595\n",
      "20220 24754\n",
      "20854 25142\n",
      "22096 25460\n",
      "22564 26020\n",
      "22645 26253\n",
      "22720 26346\n",
      "23303 26508\n",
      "24087 27579\n",
      "24185 27694\n",
      "24588 27752\n",
      "24605 29282\n",
      "24770 29794\n",
      "24788 29888\n",
      "25149 30099\n",
      "25474 30340\n",
      "26285 30734\n",
      "26382 31678\n",
      "26529 31750\n",
      "27031 32959\n",
      "27706 33704\n",
      "27773 34262\n",
      "29057 35028\n",
      "29293 36011\n",
      "29829 36378\n",
      "29884 36669\n",
      "30106 37138\n",
      "30126 37670\n",
      "30362 38607\n",
      "30739 38709\n",
      "31774 39047\n",
      "32983 39195\n",
      "33709 39724\n",
      "33725 39873\n",
      "34159 40218\n",
      "35033 40265\n",
      "36395 41013\n",
      "36411 41473\n",
      "36663 41587\n",
      "36676 42088\n",
      "37146 42288\n",
      "37164 43201\n",
      "37662 43409\n",
      "37675 43595\n",
      "38283 43913\n",
      "38612 44329\n",
      "39052 44479\n",
      "39187 44665\n",
      "39910 44850\n",
      "40287 44895\n",
      "40663 44942\n",
      "41048 45135\n",
      "41469 45451\n",
      "41490 45586\n",
      "41602 45752\n",
      "42122 46420\n",
      "42303 46523\n",
      "42679 46765\n",
      "43198 47061\n",
      "43438 47585\n",
      "43589 47783\n",
      "43601 48165\n",
      "44483 48446\n",
      "44502 48655\n",
      "44692 48892\n",
      "44874 49114\n",
      "44900 49391\n",
      "44973 49538\n",
      "45147 49624\n",
      "45596 49788\n",
      "45616 50304\n",
      "45747 50454\n",
      "45780 50647\n",
      "46428 51143\n",
      "46531 51566\n",
      "47070 51683\n",
      "47303 51919\n",
      "47592 52024\n",
      "47796 52082\n",
      "48173 52251\n",
      "48474 52519\n",
      "49143 54367\n",
      "49386 55855\n",
      "49495 56202\n",
      "49542 57261\n"
     ]
    }
   ],
   "source": [
    "print(len(st_y), len(st_x))\n",
    "print(' ')\n",
    "_ = [print(x, y) for x, y in zip(st_y, st_x)]"
   ]
  },
  {
   "cell_type": "code",
   "execution_count": 37,
   "id": "c11e99a7",
   "metadata": {},
   "outputs": [],
   "source": [
    "# Waveforms look the same, what about spike times?\n",
    "\n",
    "spike_samples_pre1 = [item for subl in spike_samples_pre[:2] for item in subl]\n",
    "spike_samples_pre1 = sorted(spike_samples_pre1)"
   ]
  },
  {
   "cell_type": "code",
   "execution_count": 38,
   "id": "e685a8ec",
   "metadata": {},
   "outputs": [],
   "source": [
    "spike_samples_post = neoio.get_spike_timestamps()"
   ]
  },
  {
   "cell_type": "code",
   "execution_count": 39,
   "id": "dd16f60a",
   "metadata": {},
   "outputs": [
    {
     "data": {
      "text/plain": [
       "[472, 806, 1579, 1638, 1823, 1854, 2044, 2255, 2345, 2642]"
      ]
     },
     "execution_count": 39,
     "metadata": {},
     "output_type": "execute_result"
    }
   ],
   "source": [
    "spike_samples_pre1[0:10]"
   ]
  },
  {
   "cell_type": "code",
   "execution_count": 40,
   "id": "6c1f0451",
   "metadata": {},
   "outputs": [
    {
     "data": {
      "text/plain": [
       "memmap([ 944, 1612, 3158, 3276, 3646, 3708, 4088, 4510, 4690, 5284],\n",
       "       dtype=int32)"
      ]
     },
     "execution_count": 40,
     "metadata": {},
     "output_type": "execute_result"
    }
   ],
   "source": [
    "spike_samples_post[0:10]"
   ]
  },
  {
   "cell_type": "code",
   "execution_count": 41,
   "id": "9aff0341",
   "metadata": {},
   "outputs": [
    {
     "data": {
      "text/plain": [
       "array([False, False, False, False, False, False, False, False, False,\n",
       "       False, False, False, False, False, False, False, False, False,\n",
       "       False, False, False, False, False, False, False, False, False,\n",
       "       False, False, False, False, False, False, False, False, False,\n",
       "       False, False, False, False, False, False, False, False, False,\n",
       "       False, False, False, False, False, False, False, False, False,\n",
       "       False, False, False, False, False, False, False, False, False,\n",
       "       False, False, False, False, False, False, False, False, False,\n",
       "       False, False, False, False, False, False, False, False, False,\n",
       "       False, False, False, False, False, False, False, False, False,\n",
       "       False, False, False, False, False, False, False, False, False,\n",
       "       False, False, False, False, False, False, False, False, False,\n",
       "       False, False, False, False, False, False, False, False, False,\n",
       "       False, False, False, False, False, False, False, False, False,\n",
       "       False, False, False, False, False, False, False, False, False,\n",
       "       False, False, False, False, False, False, False, False, False,\n",
       "       False, False, False, False, False, False, False, False, False,\n",
       "       False, False, False, False, False, False, False, False, False,\n",
       "       False, False, False, False, False, False, False, False, False,\n",
       "       False, False])"
      ]
     },
     "execution_count": 41,
     "metadata": {},
     "output_type": "execute_result"
    }
   ],
   "source": [
    "spike_samples_pre1 == spike_samples_post"
   ]
  },
  {
   "cell_type": "markdown",
   "id": "c6333895",
   "metadata": {},
   "source": [
    "<a id=\"hussaini-lab_functions\"></a>\n",
    "## Hussaini-lab functions\n",
    "[back to index](#index)\n",
    "\n",
    "`gebaSpike` actually wants already existing `.cut` or `.clu` files, and allows modifying them. So these might not be all that useful for exporting to `.cut` or `.clu`."
   ]
  },
  {
   "cell_type": "markdown",
   "id": "c9ef3444",
   "metadata": {},
   "source": [
    "Test writing data to tetrode files (following Hussaini lab implementation - is this the best way?)"
   ]
  },
  {
   "cell_type": "code",
   "execution_count": 8,
   "id": "d504aee7",
   "metadata": {},
   "outputs": [],
   "source": [
    "# From \n",
    "# https://github.com/HussainiLab/BinConverter/blob/master/BinConverter/core/ConvertTetrode.py\n",
    "\n",
    "import os\n",
    "from BinConverter.core.conversion_utils import get_set_header\n",
    "import numpy as np\n",
    "import struct\n",
    "\n",
    "\n",
    "def write_tetrode(filepath, data, Fs):\n",
    "\n",
    "    session_path, session_filename = os.path.split(filepath)\n",
    "    tint_basename = os.path.splitext(session_filename)[0]\n",
    "    set_filename = os.path.join(session_path, '%s.set' % tint_basename)\n",
    "\n",
    "    n = len(data)\n",
    "\n",
    "    header = get_set_header(set_filename)\n",
    "\n",
    "    with open(filepath, 'w') as f:\n",
    "        num_chans = 'num_chans 4'\n",
    "        timebase_head = '\\ntimebase %d hz' % (96000)\n",
    "        bp_timestamp = '\\nbytes_per_timestamp %d' % (4)\n",
    "        # samps_per_spike = '\\nsamples_per_spike %d' % (int(Fs*1e-3))\n",
    "        samps_per_spike = '\\nsamples_per_spike %d' % (50)\n",
    "        sample_rate = '\\nsample_rate %d hz' % (Fs)\n",
    "        b_p_sample = '\\nbytes_per_sample %d' % (1)\n",
    "        # b_p_sample = '\\nbytes_per_sample %d' % (4)\n",
    "        spike_form = '\\nspike_format t,ch1,t,ch2,t,ch3,t,ch4'\n",
    "        num_spikes = '\\nnum_spikes %d' % (n)\n",
    "        start = '\\ndata_start'\n",
    "\n",
    "        write_order = [header, num_chans, timebase_head,\n",
    "                       bp_timestamp,\n",
    "                       samps_per_spike, sample_rate, b_p_sample, spike_form, num_spikes, start]\n",
    "\n",
    "        f.writelines(write_order)\n",
    "\n",
    "    # rearranging the data to have a flat array of t1, waveform1, t2, waveform2, t3, waveform3, etc....\n",
    "    spike_times = np.asarray(sorted(data.keys()))\n",
    "\n",
    "    # the spike times are repeated for each channel so lets tile this\n",
    "    spike_times = np.tile(spike_times, (4, 1))\n",
    "    spike_times = spike_times.flatten(order='F')\n",
    "\n",
    "    spike_values = np.asarray([value for (key, value) in sorted(data.items())])\n",
    "\n",
    "    # this will create a (n_samples, n_channels, n_samples_per_spike) => (n, 4, 50) sized matrix, we will create a\n",
    "    # matrix of all the samples and channels going from ch1 -> ch4 for each spike time\n",
    "    # time1 ch1_data\n",
    "    # time1 ch2_data\n",
    "    # time1 ch3_data\n",
    "    # time1 ch4_data\n",
    "    # time2 ch1_data\n",
    "    # time2 ch2_data\n",
    "    # .\n",
    "    # .\n",
    "    # .\n",
    "\n",
    "    spike_values = spike_values.reshape((n * 4, 50))  # create the 4nx50 channel data matrix\n",
    "\n",
    "    # make the first column the time values\n",
    "    spike_array = np.hstack((spike_times.reshape(len(spike_times), 1), spike_values))\n",
    "\n",
    "    data = None\n",
    "    spike_times = None\n",
    "    spike_values = None\n",
    "\n",
    "    spike_n = spike_array.shape[0]\n",
    "\n",
    "    t_packed = struct.pack('>%di' % spike_n, *spike_array[:, 0].astype(int))\n",
    "    spike_array = spike_array[:, 1:]  # removing time data from this matrix to save memory\n",
    "\n",
    "    spike_data_pack = struct.pack('<%db' % (spike_n*50), *spike_array.astype(int).flatten())\n",
    "\n",
    "    spike_array = None\n",
    "\n",
    "    # now we need to combine the lists by alternating\n",
    "\n",
    "    comb_list = [None] * (2*spike_n)\n",
    "    comb_list[::2] = [t_packed[i:i + 4] for i in range(0, len(t_packed), 4)]  # breaks up t_packed into a list,\n",
    "    # each timestamp is one 4 byte integer\n",
    "    comb_list[1::2] = [spike_data_pack[i:i + 50] for i in range(0, len(spike_data_pack), 50)]  # breaks up spike_data_\n",
    "    # pack and puts it into a list, each spike is 50 one byte integers\n",
    "\n",
    "    t_packed = None\n",
    "    spike_data_pack = None\n",
    "\n",
    "    write_order = []\n",
    "    with open(filepath, 'rb+') as f:\n",
    "\n",
    "        write_order.extend(comb_list)\n",
    "        write_order.append(bytes('\\r\\ndata_end\\r\\n', 'utf-8'))\n",
    "\n",
    "        f.seek(0, 2)\n",
    "        f.writelines(write_order)"
   ]
  },
  {
   "cell_type": "markdown",
   "id": "85d90289",
   "metadata": {},
   "source": [
    "<a id=\"Convert_sorting_extractor_to_tint\"></a>\n",
    "## Convert Sorting extractor to TINT\n",
    "[back to index](#index)\n",
    "\n",
    "There are several points in the pipeline at which we might want to export to TINT. Ideally it should work for any `SortingExtractor` object!"
   ]
  },
  {
   "cell_type": "code",
   "execution_count": 9,
   "id": "7fe21ef8",
   "metadata": {},
   "outputs": [
    {
     "name": "stdout",
     "output_type": "stream",
     "text": [
      "Where do we load data from?\n",
      " /mnt/d/freelance-work/catalyst-neuro/hussaini-lab-to-nwb/sample_bin_to_tint_no_bin\n"
     ]
    }
   ],
   "source": [
    "print('Where do we load data from?\\n', dir_name)"
   ]
  },
  {
   "cell_type": "markdown",
   "id": "ae069b09",
   "metadata": {},
   "source": [
    "From a sorting extractor we can obtain a list unit spike sample arrays. We can convert this to the .clu or .cut type array of unit ID labels for each spike.\n"
   ]
  },
  {
   "cell_type": "code",
   "execution_count": 10,
   "id": "0fc1e882",
   "metadata": {},
   "outputs": [
    {
     "name": "stdout",
     "output_type": "stream",
     "text": [
      "20201004_Tint_1\n"
     ]
    }
   ],
   "source": [
    "cut_filename = Path('/mnt/d/freelance-work/catalyst-neuro/hussaini-lab-to-nwb/Axona_Tint_1ms/20201004_Tint_1.cut')\n",
    "\n",
    "basename = os.path.basename(os.path.splitext(cut_filename)[0])\n",
    "\n",
    "print(basename)"
   ]
  },
  {
   "cell_type": "code",
   "execution_count": 11,
   "id": "8bae0e8e",
   "metadata": {},
   "outputs": [
    {
     "name": "stdout",
     "output_type": "stream",
     "text": [
      "/mnt/d/freelance-work/catalyst-neuro/hussaini-lab-to-nwb/Axona_Tint_1ms/20201004_Tint.set\n"
     ]
    },
    {
     "data": {
      "text/plain": [
       "PosixPath('/mnt/d/freelance-work/catalyst-neuro/hussaini-lab-to-nwb/Axona_Tint_1ms/20201004_Tint_1.cut')"
      ]
     },
     "execution_count": 11,
     "metadata": {},
     "output_type": "execute_result"
    }
   ],
   "source": [
    "filename = Path('/mnt/d/freelance-work/catalyst-neuro/hussaini-lab-to-nwb/Axona_Tint_1ms/20201004_Tint.set')\n",
    "print(filename)\n",
    "\n",
    "Path(str(filename.with_suffix('')) + '_{}'.format(1) + '.cut')"
   ]
  },
  {
   "cell_type": "markdown",
   "id": "8855a9c0",
   "metadata": {},
   "source": [
    "### Write unit labels to .cut and .clu files"
   ]
  },
  {
   "cell_type": "code",
   "execution_count": 12,
   "id": "2270a472",
   "metadata": {},
   "outputs": [],
   "source": [
    "def convert_spike_train_to_label_array(spike_train):\n",
    "    '''Takes a list of arrays, where each array is a series of\n",
    "    sample points at which a spike occured for a given unit\n",
    "    (each list item is a unit). Converts to .cut array, i.e.\n",
    "    orders spike samples from all units and labels each sample\n",
    "    with the appropriate unit ID.\n",
    "    \n",
    "    Parameters\n",
    "    ----------\n",
    "    spike_train : List of np.arrays\n",
    "        Output of `get_units_spike_train()` method of sorting extractor\n",
    "        \n",
    "    Return\n",
    "    ------\n",
    "    unit_labels_sorted : np.array\n",
    "        Each entry is the unit ID corresponding to the spike sample that\n",
    "        occured at this ordinal position\n",
    "    '''\n",
    "\n",
    "    # Generate Index array (indexing the unit for a given spike sample)\n",
    "    unit_labels = []\n",
    "    for i, l in enumerate(spike_train):\n",
    "        unit_labels.append(np.ones((len(l),), dtype=int) * i)\n",
    "    \n",
    "    # Flatten lists and sort them\n",
    "    spike_train_flat = np.concatenate(spike_train).ravel()\n",
    "    unit_labels_flat = np.concatenate(unit_labels).ravel()\n",
    "\n",
    "    sort_index = np.argsort(spike_train_flat)\n",
    "\n",
    "    unit_labels_sorted = unit_labels_flat[sort_index]\n",
    "\n",
    "    return unit_labels_sorted"
   ]
  },
  {
   "cell_type": "code",
   "execution_count": 13,
   "id": "8215d02d",
   "metadata": {},
   "outputs": [],
   "source": [
    "def write_to_cut_file(cut_filename, unit_labels):\n",
    "    '''Write spike sorting output to .cut file.\n",
    "    \n",
    "    Parameters\n",
    "    ----------\n",
    "    cut_filename : str or Path\n",
    "        Full filename of .cut file to write to. A given .cut file belongs\n",
    "        to a given tetrode file. For example, for tetrode `my_file.1`, the\n",
    "        corresponding cut_filename should be `my_file_1.cut`.\n",
    "    unit_labels : np.array\n",
    "        Vector of unit labels for each spike sample (ordered by time of \n",
    "        occurence)\n",
    "        \n",
    "    Example\n",
    "    -------\n",
    "    # Given a sortingextractor called sorting_nwb:\n",
    "    spike_train = sorting_nwb.get_units_spike_train()\n",
    "    unit_labels = convert_spike_train_to_label_array(spike_train)\n",
    "    write_to_cut_file(cut_filename, unit_labels)\n",
    "    \n",
    "    ---\n",
    "    Largely based on gebaSpike implementation by Geoff Barrett\n",
    "    https://github.com/GeoffBarrett/gebaSpike\n",
    "    '''\n",
    "\n",
    "    unique_cells = np.unique(unit_labels)\n",
    "\n",
    "    n_clusters = len(np.unique(unit_labels))\n",
    "    n_spikes = len(unit_labels)\n",
    "\n",
    "    write_list = []\n",
    "\n",
    "    tab = '    '\n",
    "    spaces = '               '\n",
    "\n",
    "    write_list.append('n_clusters: {}\\n'.format(n_clusters))\n",
    "    write_list.append('n_channels: 4\\n')\n",
    "    write_list.append('n_params: 2\\n')\n",
    "    write_list.append('times_used_in_Vt:{}'.format((tab + '0') * 4 + '\\n'))\n",
    "\n",
    "    zero_line = (tab + '0') * 8 + '\\n'\n",
    "\n",
    "    for cell_i in np.arange(n_clusters):\n",
    "        write_list.append(' cluster: {} center:{}'.format(cell_i, zero_line))\n",
    "        write_list.append('{}min:{}'.format(spaces, zero_line))\n",
    "        write_list.append('{}max:{}'.format(spaces, zero_line))\n",
    "    write_list.append('\\nExact_cut_for: {} spikes: {}\\n'.format(basename, n_spikes))\n",
    "\n",
    "    # The unit label array consists of 25 values per row in .cut file\n",
    "    n_rows = int(np.floor(n_spikes / 25))\n",
    "    remaining = int(n_spikes - n_rows * 25)\n",
    "\n",
    "    cut_string = ('%3u' * 25 + '\\n') * n_rows + '%3u' * remaining\n",
    "\n",
    "    write_list.append(cut_string % (tuple(unit_labels)))\n",
    "\n",
    "    with open(cut_filename, 'w') as f:\n",
    "        f.writelines(write_list)"
   ]
  },
  {
   "cell_type": "code",
   "execution_count": 14,
   "id": "2487be27",
   "metadata": {},
   "outputs": [],
   "source": [
    "def write_to_clu_file(clu_filename, unit_labels):\n",
    "    ''' .clu files are pruned .cut files, containing only a long vector of unit\n",
    "    labels, which are 1-indexed, instead of 0-indexed. In addition, the very first\n",
    "    entry is the total number of units.\n",
    "    \n",
    "    Parameters\n",
    "    ----------\n",
    "    clu_filename : str or Path\n",
    "        Full filename of .clu file to write to. A given .clu file belongs\n",
    "        to a given tetrode file. For example, for tetrode `my_file.1`, the\n",
    "        corresponding clu_filename should be `my_file_1.clu`.\n",
    "    unit_labels : np.array\n",
    "        Vector of unit labels for each spike sample (ordered by time of \n",
    "        occurence)\n",
    "        \n",
    "    ---\n",
    "    Largely based on gebaSpike implementation by Geoff Barrett\n",
    "    https://github.com/GeoffBarrett/gebaSpike\n",
    "    '''\n",
    "    unit_labels = np.asarray(unit_labels).astype(int)\n",
    "    unit_labels += 1\n",
    "\n",
    "    n_clust = len(np.unique(unit_labels))\n",
    "    unit_labels = np.concatenate(([n_clust], unit_labels))\n",
    "\n",
    "    np.savetxt(clu_filename, unit_labels, fmt='%d', delimiter='\\n')"
   ]
  },
  {
   "cell_type": "code",
   "execution_count": 15,
   "id": "995d9aa5",
   "metadata": {},
   "outputs": [],
   "source": [
    "def set_cut_filename_from_basename(filename, tetrode_id):\n",
    "    '''Given a str or Path object, assume the last entry after a slash\n",
    "    is a filename, strip any file suffix, add tetrode ID label, and\n",
    "    .cut suffix to name.\n",
    "    \n",
    "    Parameters\n",
    "    ----------\n",
    "    filename : str or Path\n",
    "    tetrode_id : int\n",
    "    '''\n",
    "    return Path(str(filename).split('.')[0] + '_{}'.format(tetrode_id) + '.cut')"
   ]
  },
  {
   "cell_type": "code",
   "execution_count": 16,
   "id": "fadbd312",
   "metadata": {},
   "outputs": [],
   "source": [
    "def write_unit_labels_to_file(sorting_extractor, filename):\n",
    "    '''Write spike sorting output to .cut and .clu file, separately for each\n",
    "    tetrode.\n",
    "    \n",
    "    Parameters\n",
    "    ----------\n",
    "    sorting_extractor : spikeextractors.SortingExtractor\n",
    "    filename : str or Path\n",
    "        Full filename of .set file or base-filename (i.e. the part of the\n",
    "        filename all Axona files have in common). A given .cut file belongs\n",
    "        to a given tetrode file. For example, for tetrode `my_file.1`, the\n",
    "        corresponding cut_filename should be `my_file_1.cut`. This will be\n",
    "        set automatically given the base-filename or set file.\n",
    "        \n",
    "    TODO: Any reason one might want to only convert some tetrodes or some\n",
    "    samples? Should those be parameters?\n",
    "    '''\n",
    "    tetrode_ids = sorting_extractor.get_units_property(property_name='group')\n",
    "    tetrode_ids = np.array(tetrode_ids)\n",
    "    \n",
    "    unit_ids = np.array(sorting_extractor.get_unit_ids())\n",
    "    \n",
    "    for i in np.unique(tetrode_ids):\n",
    "        \n",
    "        print('Write unit labels for tetrode {} to .cut and .clu'.format(i))\n",
    "\n",
    "        spike_train = sorting_extractor.get_units_spike_train(unit_ids=unit_ids[tetrode_ids==i])\n",
    "        unit_labels = convert_spike_train_to_label_array(spike_train)\n",
    "\n",
    "        # We use Axona conventions for filenames (tetrodes are 1 indexed)\n",
    "        cut_filename = set_cut_filename_from_basename(filename, i + 1)\n",
    "        clu_filename = Path(str(cut_filename).replace('.cut', '.clu'))\n",
    "\n",
    "        write_to_cut_file(cut_filename, unit_labels)\n",
    "        write_to_clu_file(clu_filename, unit_labels)"
   ]
  },
  {
   "cell_type": "code",
   "execution_count": 17,
   "id": "001d00c1",
   "metadata": {},
   "outputs": [
    {
     "name": "stdout",
     "output_type": "stream",
     "text": [
      "<class 'spikeextractors.extractors.nwbextractors.nwbextractors.NwbSortingExtractor'>\n"
     ]
    }
   ],
   "source": [
    "# We have sorting data exported in `.nwb` format\n",
    "\n",
    "nwb_dir = Path(dir_name, 'nwb')\n",
    "sorting_nwb = se.NwbSortingExtractor(nwb_dir / 'axona_se_MS4.nwb', sampling_frequency=48000)\n",
    "\n",
    "print(type(sorting_nwb))"
   ]
  },
  {
   "cell_type": "code",
   "execution_count": 18,
   "id": "45c9d08a",
   "metadata": {},
   "outputs": [
    {
     "name": "stdout",
     "output_type": "stream",
     "text": [
      "Sampling frequency: 48000 Hz\n"
     ]
    }
   ],
   "source": [
    "print('Sampling frequency:', sorting_nwb.get_sampling_frequency(), 'Hz')"
   ]
  },
  {
   "cell_type": "code",
   "execution_count": 22,
   "id": "e0ddef20",
   "metadata": {},
   "outputs": [
    {
     "name": "stdout",
     "output_type": "stream",
     "text": [
      "Write unit labels for tetrode 0 to .cut and .clu\n",
      "Write unit labels for tetrode 1 to .cut and .clu\n",
      "Write unit labels for tetrode 2 to .cut and .clu\n",
      "Write unit labels for tetrode 3 to .cut and .clu\n"
     ]
    }
   ],
   "source": [
    "# Convert all tetrodes from sorting extractor to cut files\n",
    "write_unit_labels_to_file(sorting_nwb, filename)"
   ]
  },
  {
   "cell_type": "markdown",
   "id": "5f79ce30",
   "metadata": {},
   "source": [
    "### Write waveforms from `sortingextractor` to tetrode files (`.X`)\n",
    "\n",
    "Here, we need information that is available in the `.set` file."
   ]
  },
  {
   "cell_type": "code",
   "execution_count": 19,
   "id": "3349fa4f",
   "metadata": {},
   "outputs": [],
   "source": [
    "from BinConverter.core.ConvertTetrode import write_tetrode"
   ]
  },
  {
   "cell_type": "code",
   "execution_count": 20,
   "id": "6ab1f7d8",
   "metadata": {},
   "outputs": [],
   "source": [
    "def parse_generic_header(filename):\n",
    "    \"\"\"\n",
    "    Given a binary file with phrases and line breaks, enters the\n",
    "    first word of a phrase as dictionary key and the following\n",
    "    string (without linebreaks) as value. Returns the dictionary.\n",
    "    \n",
    "    Parameters\n",
    "    ----------\n",
    "    filename : str or Path\n",
    "        Full filename.\n",
    "    \"\"\"\n",
    "    header = {}\n",
    "    with open(filename, 'rb') as f:\n",
    "        for bin_line in f:\n",
    "            if b'data_start' in bin_line:\n",
    "                break\n",
    "            line = bin_line.decode('cp1252').replace('\\r\\n', '').replace('\\r', '').strip()\n",
    "            parts = line.split(' ')\n",
    "            key = parts[0]\n",
    "            value = ' '.join(parts[1:])\n",
    "            header[key] = value\n",
    "            \n",
    "    return header"
   ]
  },
  {
   "cell_type": "code",
   "execution_count": 21,
   "id": "c74d8706",
   "metadata": {},
   "outputs": [],
   "source": [
    "def get_unit_group_ids(sorting):\n",
    "    '''Get group ids.\n",
    "    \n",
    "    Parameters\n",
    "    ----------\n",
    "    sorting : SortingExtractor\n",
    "    \n",
    "    Returns\n",
    "    -------\n",
    "    group_ids : List\n",
    "        List of groups ids for each Unit in `sorting`.\n",
    "    '''\n",
    "    unit_ids = sorting.get_unit_ids()\n",
    "    group_ids = [sorting.get_unit_property(\n",
    "        unit_id=unit_id, property_name='group') for unit_id in unit_ids\n",
    "    ]\n",
    "\n",
    "    return group_ids"
   ]
  },
  {
   "cell_type": "code",
   "execution_count": 22,
   "id": "4493ba1c",
   "metadata": {},
   "outputs": [],
   "source": [
    "def combine_units_on_tetrode(group_spike_samples, group_waveforms):\n",
    "    '''Write all waveforms of given tetrode in dictionary with the\n",
    "    corresponding spike samples being the keys (1 sample for each\n",
    "    waveform).\n",
    "    \n",
    "    Parameters\n",
    "    ----------\n",
    "    group_spike_samples : list\n",
    "        As returned by sortingextractor.get_units_spike_train()\n",
    "    group_waveforms : list\n",
    "        As returned by spiketoolkit.postprocessing.get_unit_waveforms()\n",
    "    \n",
    "    Returns\n",
    "    -------\n",
    "    tetrode_spikes : dict\n",
    "        Keys are spike samples, values are waveforms (ntrls x nch x nsamp)\n",
    "    '''\n",
    "    tetrode_spikes = {}\n",
    "\n",
    "    for i, (samples, waveforms) in enumerate(zip(group_spike_samples, group_waveforms)):\n",
    "\n",
    "        for sample, waveform in zip(samples, waveforms):\n",
    "\n",
    "            tetrode_spikes[sample] = waveform\n",
    "            \n",
    "    return tetrode_spikes"
   ]
  },
  {
   "cell_type": "code",
   "execution_count": 23,
   "id": "2b9cdb66",
   "metadata": {},
   "outputs": [],
   "source": [
    "st.postprocessing.get_unit_waveforms??"
   ]
  },
  {
   "cell_type": "code",
   "execution_count": 24,
   "id": "70dbf774",
   "metadata": {},
   "outputs": [],
   "source": [
    "def get_waveforms(recording, sorting, unit_ids, header):\n",
    "    '''Get waveforms for specific tetrode.\n",
    "    \n",
    "    Parameters\n",
    "    ----------\n",
    "    recording : RecordingExtractor\n",
    "    sorting : SortingExtractor\n",
    "    unit_ids : List\n",
    "        List of unit ids to extract waveforms\n",
    "    header : dict\n",
    "        maps parameters from .set file to their values (as strings).\n",
    "        \n",
    "    Returns\n",
    "    -------\n",
    "    waveforms : List\n",
    "        List of np.array (n_spikes, n_channels, n_timepoints) with waveforms for each unit\n",
    "    '''\n",
    "    sampling_rate = recording.get_sampling_frequency()\n",
    "    samples_before = int(header['pretrigSamps'])\n",
    "    samples_after = int(header['spikeLockout'])\n",
    "\n",
    "    ms_before = samples_before / (sampling_rate / 1000) + 0.001\n",
    "    ms_after = samples_after / (sampling_rate / 1000) + 0.001\n",
    "\n",
    "    waveforms = st.postprocessing.get_unit_waveforms(\n",
    "        recording,\n",
    "        sorting,\n",
    "        unit_ids=unit_ids,\n",
    "        max_spikes_per_unit=None, \n",
    "        grouping_property='group',\n",
    "        recompute_info=True,\n",
    "        ms_before=ms_before,\n",
    "        ms_after=ms_after,\n",
    "        return_idxs=False,\n",
    "        return_scaled=False,\n",
    "        dtype=np.int8\n",
    "    )\n",
    "\n",
    "    return waveforms"
   ]
  },
  {
   "cell_type": "code",
   "execution_count": 253,
   "id": "5c4a1b89",
   "metadata": {},
   "outputs": [
    {
     "name": "stdout",
     "output_type": "stream",
     "text": [
      "45.5 ms ± 12.6 ms per loop (mean ± std. dev. of 7 runs, 10 loops each)\n"
     ]
    }
   ],
   "source": [
    "%%timeit\n",
    "\n",
    "write_tetrode(tetrode_file, spike_waveform_dict, 48000)"
   ]
  },
  {
   "cell_type": "code",
   "execution_count": 25,
   "id": "3aef804f",
   "metadata": {},
   "outputs": [],
   "source": [
    "def write_tetrode_file_header(tetrode_file, n_spikes_chan, Fs):\n",
    "    ''' Generate and write header of tetrode file\n",
    "    \n",
    "    Parameters\n",
    "    ----------\n",
    "    tetrode_file : str or Path\n",
    "        Full filename to write to\n",
    "    n_spikes_chan : int\n",
    "        Number of spikes to write to file\n",
    "    Fs : int\n",
    "        Sampling frequency of data\n",
    "    '''\n",
    "    path = Path(tetrode_file).parent\n",
    "    filename = Path(tetrode_file).name\n",
    "    basename = filename.split('.')[0]\n",
    "    set_file = path / '{}.set'.format(basename)\n",
    "\n",
    "    # We are enforcing the defaults from the file format manual\n",
    "    header = get_set_header(set_file)\n",
    "    to_write = [\n",
    "        header,\n",
    "        'num_chans 4\\n',\n",
    "        'timebase {} hz\\n'.format(96000),\n",
    "        'bytes_per_timestamp {}\\n'.format(4),\n",
    "        'samples_per_spike {}\\n'.format(50),\n",
    "        'sample_rate {} hz\\n'.format(Fs),\n",
    "        'bytes_per_sample {}\\n'.format(1),\n",
    "        'spike_format t,ch1,t,ch2,t,ch3,t,ch4\\n',\n",
    "        'num_spikes {}\\n'.format(n_spikes_chan),\n",
    "        'data_start'\n",
    "    ]\n",
    "    \n",
    "    with open(tetrode_file, 'w') as f:\n",
    "        f.writelines(to_write)"
   ]
  },
  {
   "cell_type": "code",
   "execution_count": 26,
   "id": "0daa48ce",
   "metadata": {},
   "outputs": [],
   "source": [
    "def write_tetrode_file_data(tetrode_file, waveform_dict):\n",
    "    ''' Write binary data to tetrode file\n",
    "    \n",
    "    Parameters\n",
    "    ----------\n",
    "    tetrode_file : str or Path\n",
    "        Full filename of tetrode file to write to\n",
    "    waveform_dict : dict\n",
    "        Keys are spike timestamps, values are corresponding waveforms (np.memmap).\n",
    "        Timestamps are int64, waveforms are int8\n",
    "    '''\n",
    "\n",
    "    # created ordered spike times and waveforms from input dict\n",
    "    spike_times = np.asarray(sorted(waveform_dict.keys()))\n",
    "    spike_times = np.tile(spike_times, (4, 1))\n",
    "    spike_times = spike_times.flatten(order='F')\n",
    "    \n",
    "    n_spikes = spike_times.shape[0]\n",
    "    spike_values = np.asarray([value for (key, value) in sorted(waveform_dict.items())])\n",
    "    spike_values = spike_values.reshape((n_spikes, 50))\n",
    "\n",
    "    t_packed = struct.pack('>%di' % n_spikes, *spike_times)\n",
    "    spike_data_pack = struct.pack('<%db' % (n_spikes * 50), *spike_values.flatten())\n",
    "\n",
    "    # combine timestamps (4 bytes per sample) and waveforms (1 byte per sample)\n",
    "    comb_list = [None] * (2 * n_spikes)\n",
    "    comb_list[::2] = [t_packed[i:i + 4] for i in range(0, len(t_packed), 4)]\n",
    "    comb_list[1::2] = [spike_data_pack[i:i + 50] for i in range(0, len(spike_data_pack), 50)]\n",
    "\n",
    "    with open(tetrode_file, 'ab') as f:\n",
    "\n",
    "        f.writelines(comb_list)\n",
    "        f.writelines([bytes('\\r\\ndata_end\\r\\n', 'utf-8')])"
   ]
  },
  {
   "cell_type": "code",
   "execution_count": 27,
   "id": "a601013e",
   "metadata": {},
   "outputs": [],
   "source": [
    "def write_tetrode(tetrode_file, waveform_dict, Fs):\n",
    "    ''' Write data to tetrode (`.X`) file\n",
    "    \n",
    "    Parameters\n",
    "    ----------\n",
    "    tetrode_file : str or Path\n",
    "        Full filename of tetrode file to write to\n",
    "    waveform_dict : dict\n",
    "        Keys are spike timestamps, values are corresponding waveforms (np.memmap).\n",
    "        Timestamps are int64, waveforms are int8\n",
    "    Fs : int\n",
    "        Sampling frequency of data\n",
    "    '''\n",
    "    write_tetrode_file_header(tetrode_file, len(waveform_dict), Fs)\n",
    "    write_tetrode_file_data(tetrode_file, waveform_dict)"
   ]
  },
  {
   "cell_type": "code",
   "execution_count": null,
   "id": "656f3e15",
   "metadata": {},
   "outputs": [],
   "source": [
    "write_tetrode_file_header(tetrode_file, len(spike_waveform_dict), Fs)"
   ]
  },
  {
   "cell_type": "code",
   "execution_count": 247,
   "id": "21a27d9c",
   "metadata": {},
   "outputs": [],
   "source": [
    "write_tetrode_file_data(tetrode_file, waveform_dict)"
   ]
  },
  {
   "cell_type": "code",
   "execution_count": 250,
   "id": "16ce9836",
   "metadata": {},
   "outputs": [],
   "source": [
    "write_tetrode(tetrode_file, spike_waveform_dict, 48000)"
   ]
  },
  {
   "cell_type": "code",
   "execution_count": 28,
   "id": "f268615f",
   "metadata": {},
   "outputs": [],
   "source": [
    "def write_to_tetrode_files(recording, sorting, group_ids, set_file):\n",
    "    '''Get spike samples and waveforms for all tetrodes specified in\n",
    "    `group_ids`. Note that `group_ids` is 0-indexed, whereas tetrodes are\n",
    "    1-indexed (so if you want tetrodes 1+2, specify group_ids=[0, 1]).\n",
    "    \n",
    "    Parameters\n",
    "    ----------\n",
    "    recording : RecordingExtractor\n",
    "    sorting : SortingExtractor\n",
    "    group_ids : array like\n",
    "        Tetrodes to include, but 0-indexed (i.e. tetrodeID - 1)\n",
    "    set_file : Path or str\n",
    "        .set file location. Used to determine how many samples prior to and\n",
    "        post spike sample should be cut out for each waveform. .X files will have\n",
    "        the same base filename as the .set file. So if you do not want to overwrite\n",
    "        existing .X files in your .set file directory, copy the .set file to a new\n",
    "        folder and give its new location. The new .X files will appear there.\n",
    "    '''\n",
    "    sampling_rate = recording.get_sampling_frequency()\n",
    "    group_ids = get_unit_group_ids(sorting)\n",
    "    header = parse_generic_header(set_file)\n",
    "\n",
    "    for group_id in np.unique(group_ids):\n",
    "\n",
    "        # get spike samples and waveforms of this group / tetrode\n",
    "        group_unit_ids = [i for i, gid in enumerate(group_ids) if gid==group_id]\n",
    "        group_waveforms = get_waveforms(recording, sorting, group_unit_ids, header)\n",
    "        group_spike_samples = sorting.get_units_spike_train(unit_ids=group_unit_ids)\n",
    "\n",
    "        # Assign each waveform to it's spike sample in a dictionary\n",
    "        spike_waveform_dict = combine_units_on_tetrode(group_spike_samples, group_waveforms)\n",
    "\n",
    "        # Set tetrode filename\n",
    "        tetrode_filename = str(set_file).split('.')[0] + '.{}'.format(group_id + 1)\n",
    "        print('Writing', Path(tetrode_filename).name)\n",
    "\n",
    "        # Use `BinConverter` function to write to tetrode file\n",
    "        write_tetrode(tetrode_filename, spike_waveform_dict, sampling_rate)"
   ]
  },
  {
   "cell_type": "code",
   "execution_count": 29,
   "id": "4c8782d9",
   "metadata": {},
   "outputs": [
    {
     "name": "stdout",
     "output_type": "stream",
     "text": [
      "/mnt/d/freelance-work/catalyst-neuro/hussaini-lab-to-nwb/sample_bin_to_tint_no_bin/axona_sample.set\n"
     ]
    }
   ],
   "source": [
    "set_file = dir_name / 'axona_sample.set'\n",
    "print(set_file)"
   ]
  },
  {
   "cell_type": "code",
   "execution_count": 30,
   "id": "26f6b729",
   "metadata": {},
   "outputs": [],
   "source": [
    "from spikeextractors.extractors.axonaunitrecordingextractor import AxonaUnitRecordingExtractor\n",
    "\n",
    "recording = AxonaUnitRecordingExtractor(filename=set_file)\n",
    "signal = recording.get_traces(channel_ids=None, start_frame=None, end_frame=None, return_scaled=False)"
   ]
  },
  {
   "cell_type": "code",
   "execution_count": 31,
   "id": "50aa6e78",
   "metadata": {},
   "outputs": [
    {
     "name": "stdout",
     "output_type": "stream",
     "text": [
      "/mnt/d/freelance-work/catalyst-neuro/hussaini-lab-to-nwb/sample_bin_to_tint_no_bin/conversion_to_tint/axona_sample.set\n"
     ]
    }
   ],
   "source": [
    "set_file_to_tint = dir_name / 'conversion_to_tint' / 'axona_sample.set'\n",
    "print(set_file_to_tint)"
   ]
  },
  {
   "cell_type": "code",
   "execution_count": 32,
   "id": "a713f68e",
   "metadata": {},
   "outputs": [
    {
     "data": {
      "text/html": [
       "<div>\n",
       "<style scoped>\n",
       "    .dataframe tbody tr th:only-of-type {\n",
       "        vertical-align: middle;\n",
       "    }\n",
       "\n",
       "    .dataframe tbody tr th {\n",
       "        vertical-align: top;\n",
       "    }\n",
       "\n",
       "    .dataframe thead th {\n",
       "        text-align: right;\n",
       "    }\n",
       "</style>\n",
       "<table border=\"1\" class=\"dataframe\">\n",
       "  <thead>\n",
       "    <tr style=\"text-align: right;\">\n",
       "      <th></th>\n",
       "      <th>channel_ids</th>\n",
       "      <th>channel_groups</th>\n",
       "      <th>tetrode_ids</th>\n",
       "    </tr>\n",
       "  </thead>\n",
       "  <tbody>\n",
       "    <tr>\n",
       "      <th>0</th>\n",
       "      <td>0</td>\n",
       "      <td>0</td>\n",
       "      <td>1</td>\n",
       "    </tr>\n",
       "    <tr>\n",
       "      <th>1</th>\n",
       "      <td>1</td>\n",
       "      <td>0</td>\n",
       "      <td>1</td>\n",
       "    </tr>\n",
       "    <tr>\n",
       "      <th>2</th>\n",
       "      <td>2</td>\n",
       "      <td>0</td>\n",
       "      <td>1</td>\n",
       "    </tr>\n",
       "    <tr>\n",
       "      <th>3</th>\n",
       "      <td>3</td>\n",
       "      <td>0</td>\n",
       "      <td>1</td>\n",
       "    </tr>\n",
       "    <tr>\n",
       "      <th>4</th>\n",
       "      <td>4</td>\n",
       "      <td>1</td>\n",
       "      <td>2</td>\n",
       "    </tr>\n",
       "    <tr>\n",
       "      <th>5</th>\n",
       "      <td>5</td>\n",
       "      <td>1</td>\n",
       "      <td>2</td>\n",
       "    </tr>\n",
       "    <tr>\n",
       "      <th>6</th>\n",
       "      <td>6</td>\n",
       "      <td>1</td>\n",
       "      <td>2</td>\n",
       "    </tr>\n",
       "    <tr>\n",
       "      <th>7</th>\n",
       "      <td>7</td>\n",
       "      <td>1</td>\n",
       "      <td>2</td>\n",
       "    </tr>\n",
       "    <tr>\n",
       "      <th>8</th>\n",
       "      <td>8</td>\n",
       "      <td>2</td>\n",
       "      <td>3</td>\n",
       "    </tr>\n",
       "    <tr>\n",
       "      <th>9</th>\n",
       "      <td>9</td>\n",
       "      <td>2</td>\n",
       "      <td>3</td>\n",
       "    </tr>\n",
       "    <tr>\n",
       "      <th>10</th>\n",
       "      <td>10</td>\n",
       "      <td>2</td>\n",
       "      <td>3</td>\n",
       "    </tr>\n",
       "    <tr>\n",
       "      <th>11</th>\n",
       "      <td>11</td>\n",
       "      <td>2</td>\n",
       "      <td>3</td>\n",
       "    </tr>\n",
       "    <tr>\n",
       "      <th>12</th>\n",
       "      <td>12</td>\n",
       "      <td>3</td>\n",
       "      <td>4</td>\n",
       "    </tr>\n",
       "    <tr>\n",
       "      <th>13</th>\n",
       "      <td>13</td>\n",
       "      <td>3</td>\n",
       "      <td>4</td>\n",
       "    </tr>\n",
       "    <tr>\n",
       "      <th>14</th>\n",
       "      <td>14</td>\n",
       "      <td>3</td>\n",
       "      <td>4</td>\n",
       "    </tr>\n",
       "    <tr>\n",
       "      <th>15</th>\n",
       "      <td>15</td>\n",
       "      <td>3</td>\n",
       "      <td>4</td>\n",
       "    </tr>\n",
       "  </tbody>\n",
       "</table>\n",
       "</div>"
      ],
      "text/plain": [
       "    channel_ids  channel_groups  tetrode_ids\n",
       "0             0               0            1\n",
       "1             1               0            1\n",
       "2             2               0            1\n",
       "3             3               0            1\n",
       "4             4               1            2\n",
       "5             5               1            2\n",
       "6             6               1            2\n",
       "7             7               1            2\n",
       "8             8               2            3\n",
       "9             9               2            3\n",
       "10           10               2            3\n",
       "11           11               2            3\n",
       "12           12               3            4\n",
       "13           13               3            4\n",
       "14           14               3            4\n",
       "15           15               3            4"
      ]
     },
     "execution_count": 32,
     "metadata": {},
     "output_type": "execute_result"
    }
   ],
   "source": [
    "import pandas as pd\n",
    "\n",
    "df = pd.DataFrame({\n",
    "    'channel_ids': recording.get_channel_ids(),\n",
    "    'channel_groups': recording.get_channel_groups(),\n",
    "    'tetrode_ids': recording.get_channel_groups() + 1\n",
    "})\n",
    "df"
   ]
  },
  {
   "cell_type": "code",
   "execution_count": 33,
   "id": "6ef24b4e",
   "metadata": {},
   "outputs": [
    {
     "data": {
      "text/plain": [
       "array([0, 0, 0, 0, 1, 1, 1, 1, 2, 2, 2, 2, 3, 3, 3, 3])"
      ]
     },
     "execution_count": 33,
     "metadata": {},
     "output_type": "execute_result"
    }
   ],
   "source": [
    "channel_groups = recording.get_channel_groups()\n",
    "channel_groups"
   ]
  },
  {
   "cell_type": "code",
   "execution_count": 34,
   "id": "4aca32ea",
   "metadata": {},
   "outputs": [],
   "source": [
    "from hussaini_lab_to_nwb.tint_conversion.export_spike_waveforms import (\n",
    "    write_to_tetrode_files,\n",
    "    get_waveforms,\n",
    "    parse_generic_header,\n",
    "    combine_units_on_tetrode\n",
    ")"
   ]
  },
  {
   "cell_type": "code",
   "execution_count": 16,
   "id": "d13dade4",
   "metadata": {},
   "outputs": [
    {
     "name": "stdout",
     "output_type": "stream",
     "text": [
      "Writing axona_sample.1\n",
      "Writing axona_sample.2\n",
      "Writing axona_sample.3\n",
      "Writing axona_sample.4\n"
     ]
    }
   ],
   "source": [
    "write_to_tetrode_files(recording, sorting_nwb, channel_groups, set_file_to_tint)"
   ]
  },
  {
   "cell_type": "code",
   "execution_count": 35,
   "id": "ecbe4011",
   "metadata": {},
   "outputs": [
    {
     "name": "stdout",
     "output_type": "stream",
     "text": [
      "(72,) (72, 4, 50)\n",
      "(101,) (101, 4, 50)\n",
      "(59,) (59, 4, 50)\n",
      "(15,) (15, 4, 50)\n",
      "(39,) (39, 4, 50)\n",
      "(51,) (51, 4, 50)\n",
      "(38,) (38, 4, 50)\n",
      "(50,) (50, 4, 50)\n",
      "(47,) (47, 4, 50)\n",
      "(73,) (73, 4, 50)\n",
      "(47,) (47, 4, 50)\n",
      "(42,) (42, 4, 50)\n",
      "(67,) (67, 4, 50)\n",
      "(52,) (52, 4, 50)\n"
     ]
    }
   ],
   "source": [
    "# On the .X file there will be no more unit information, we will write all units from a given\n",
    "# tetrode for each tetrode channel\n",
    "\n",
    "header = parse_generic_header(set_file_to_tint)\n",
    "group_unit_ids = None\n",
    "\n",
    "waveforms = get_waveforms(recording, sorting_nwb, group_unit_ids, header)\n",
    "spike_samples = sorting_nwb.get_units_spike_train()\n",
    "for spk_trn, wv in zip(spike_samples, waveforms):\n",
    "    print(spk_trn.shape, wv.shape)"
   ]
  },
  {
   "cell_type": "code",
   "execution_count": 36,
   "id": "270fb512",
   "metadata": {},
   "outputs": [
    {
     "data": {
      "text/plain": [
       "memmap([[ -9,  -4,   1,   3,   0, -15, -39, -60, -67, -57, -37, -16,  -2,\n",
       "           2,   4,  10,  18,  25,  30,  30,  33,  26,  16,   4,   4, -15,\n",
       "         -16, -12, -11, -14,   0,  -8,   1,  -1,   1,  -1,   0,   1,   0,\n",
       "          -7,   1,   1,  -1,   0,   1,  -6,   1,   0,   0,   0],\n",
       "        [-15, -12,  -9,  -4,  -2,  -3, -14, -35, -57, -69, -67, -57, -42,\n",
       "         -28, -16,  -7,   0,   8,  12,  14,  14,  11,   8,   5,   5,   3,\n",
       "          -1,  -8, -11, -14,   0,  -1,   3,   1,  -1,   5,  -1,  -2,   1,\n",
       "          -2,  -8,   2,   0,  -1,   0,   8,   2,   4,  -4,  -4],\n",
       "        [-26, -19,  -8,   2,  10,  10,  -1, -22, -41, -49, -45, -33, -21,\n",
       "         -10,  -4,   0,   0,   0,  -3,  -5,  -7,  -8,  -8,  -5,  -5,  -9,\n",
       "         -12, -16, -17, -16,   1,  -1,  -1,  -1,   0,   2,   0,   0,   0,\n",
       "           0,  -6,   4,   0,   0,   1,   2,   7,  -2,  -1,   1],\n",
       "        [-44, -23,   0,  23,  41,  42,  22, -12, -46, -59, -49, -24,  -4,\n",
       "          -1, -14, -28, -30, -23,  -9,   2,   7,   1,  -8, -14, -15, -12,\n",
       "         -10, -10, -17, -28,   0,   0,   6,   2,   0,  -1,  -1,   0,  -1,\n",
       "           0,  -1,  -3,   1,   9,   1,  -2,   1,   0,  -1,   0]],\n",
       "       dtype=int8)"
      ]
     },
     "execution_count": 36,
     "metadata": {},
     "output_type": "execute_result"
    }
   ],
   "source": [
    "waveforms[0][0,:,:]"
   ]
  },
  {
   "cell_type": "code",
   "execution_count": 37,
   "id": "f5489547",
   "metadata": {},
   "outputs": [],
   "source": [
    "# get spike samples and waveforms of this group / tetrode\n",
    "group_waveforms = get_waveforms(recording, sorting_nwb, group_unit_ids, header)\n",
    "group_spike_samples = sorting_nwb.get_units_spike_train(unit_ids=group_unit_ids)\n",
    "\n",
    "# Assign each waveform to it's spike sample in a dictionary\n",
    "spike_waveform_dict = combine_units_on_tetrode(group_spike_samples, group_waveforms)\n"
   ]
  },
  {
   "cell_type": "code",
   "execution_count": 38,
   "id": "ccf36e6f",
   "metadata": {},
   "outputs": [
    {
     "name": "stdout",
     "output_type": "stream",
     "text": [
      "/mnt/d/freelance-work/catalyst-neuro/hussaini-lab-to-nwb/sample_bin_to_tint_no_bin/conversion_to_tint/axona_sample.1\n",
      "(173, 4, 50)\n"
     ]
    },
    {
     "data": {
      "text/plain": [
       "memmap([[ -9,  -4,   1,   3,   0, -15, -39, -60, -67, -57, -37, -16,  -2,\n",
       "           2,   4,  10,  18,  25,  30,  30,  33,  26,  16,   4,   4, -15,\n",
       "         -16, -12, -11, -14,   0,  -8,   1,  -1,   1,  -1,   0,   1,   0,\n",
       "          -7,   1,   1,  -1,   0,   1,  -6,   1,   0,   0,   0],\n",
       "        [-15, -12,  -9,  -4,  -2,  -3, -14, -35, -57, -69, -67, -57, -42,\n",
       "         -28, -16,  -7,   0,   8,  12,  14,  14,  11,   8,   5,   5,   3,\n",
       "          -1,  -8, -11, -14,   0,  -1,   3,   1,  -1,   5,  -1,  -2,   1,\n",
       "          -2,  -8,   2,   0,  -1,   0,   8,   2,   4,  -4,  -4],\n",
       "        [-26, -19,  -8,   2,  10,  10,  -1, -22, -41, -49, -45, -33, -21,\n",
       "         -10,  -4,   0,   0,   0,  -3,  -5,  -7,  -8,  -8,  -5,  -5,  -9,\n",
       "         -12, -16, -17, -16,   1,  -1,  -1,  -1,   0,   2,   0,   0,   0,\n",
       "           0,  -6,   4,   0,   0,   1,   2,   7,  -2,  -1,   1],\n",
       "        [-44, -23,   0,  23,  41,  42,  22, -12, -46, -59, -49, -24,  -4,\n",
       "          -1, -14, -28, -30, -23,  -9,   2,   7,   1,  -8, -14, -15, -12,\n",
       "         -10, -10, -17, -28,   0,   0,   6,   2,   0,  -1,  -1,   0,  -1,\n",
       "           0,  -1,  -3,   1,   9,   1,  -2,   1,   0,  -1,   0]],\n",
       "       dtype=int8)"
      ]
     },
     "execution_count": 38,
     "metadata": {},
     "output_type": "execute_result"
    }
   ],
   "source": [
    "# Read data back in to see if it worked as expected\n",
    "\n",
    "tetrode_filename = \\\n",
    "    '/mnt/d/freelance-work/catalyst-neuro/hussaini-lab-to-nwb/sample_bin_to_tint_no_bin/conversion_to_tint/axona_sample.1'\n",
    "print(tetrode_filename)\n",
    "\n",
    "from neo import AxonaIO\n",
    "\n",
    "neoio = AxonaIO(tetrode_filename)\n",
    "\n",
    "waveforms = neoio.get_spike_raw_waveforms()\n",
    "print(waveforms.shape)\n",
    "waveforms[1, :, :]"
   ]
  },
  {
   "cell_type": "markdown",
   "id": "4bd032c4",
   "metadata": {},
   "source": [
    "### Write to .X, .cut and .clu"
   ]
  },
  {
   "cell_type": "code",
   "execution_count": 44,
   "id": "2b544ae1",
   "metadata": {},
   "outputs": [],
   "source": [
    "def write_to_tint(recording, sorting, set_file):\n",
    "    '''Given a sorting extractor object, write appropriate data\n",
    "    to TINT format (from Axona). Will therefore create .X (tetrode),\n",
    "    .cut and .clu (spike sorting information) files.\n",
    "    \n",
    "    Parameters\n",
    "    ----------\n",
    "    recording : spikeextractors.RecordingExtractor\n",
    "    sorting : spikeextractors.SortingExtractor\n",
    "    set_file : Path or str\n",
    "        .set file location. Used to determine how many samples prior to and\n",
    "        post spike sample should be cut out for each waveform. .X files will have\n",
    "        the same base filename as the .set file. So if you do not want to overwrite\n",
    "        existing .X files in your .set file directory, copy the .set file to a new\n",
    "        folder and give its new location. The new files will appear there.\n",
    "        \n",
    "    Notes\n",
    "    -----\n",
    "    For details about the .X file format see:\n",
    "    http://space-memory-navigation.org/DacqUSBFileFormats.pdf\n",
    "    '''\n",
    "    \n",
    "    # writes to .X files for each tetrode\n",
    "    group_ids = recording.get_channel_groups()\n",
    "    write_to_tetrode_files(recording, sorting, group_ids, set_file)\n",
    "    \n",
    "    # writes to .cut and .clu files for each tetrode\n",
    "    write_unit_labels_to_file(sorting, set_file)"
   ]
  },
  {
   "cell_type": "code",
   "execution_count": 45,
   "id": "c15691ae",
   "metadata": {},
   "outputs": [
    {
     "name": "stdout",
     "output_type": "stream",
     "text": [
      "Writing axona_sample.1\n",
      "Writing axona_sample.2\n",
      "Writing axona_sample.3\n",
      "Writing axona_sample.4\n",
      "Write unit labels for tetrode 0 to .cut and .clu\n",
      "Write unit labels for tetrode 1 to .cut and .clu\n",
      "Write unit labels for tetrode 2 to .cut and .clu\n",
      "Write unit labels for tetrode 3 to .cut and .clu\n"
     ]
    }
   ],
   "source": [
    "write_to_tint(recording, sorting_nwb, set_file_to_tint)"
   ]
  },
  {
   "cell_type": "markdown",
   "id": "13b87295",
   "metadata": {},
   "source": [
    "## Misc"
   ]
  },
  {
   "cell_type": "code",
   "execution_count": null,
   "id": "0e684fd1",
   "metadata": {},
   "outputs": [],
   "source": [
    "def scale_values(x, maxabs, bound=127):\n",
    "    '''Scale signal `x` between -`bound` and +`bound`,\n",
    "    preserves 0 point.\n",
    "    \n",
    "    Parameters\n",
    "    ----------\n",
    "    x : np.array\n",
    "    absmax : numeric\n",
    "        max(|min(x)|, |max(x)|)\n",
    "    bound : numeric\n",
    "    \n",
    "    Return\n",
    "    ------\n",
    "    np.array\n",
    "    '''\n",
    "    return x / maxabs * bound"
   ]
  },
  {
   "cell_type": "code",
   "execution_count": null,
   "id": "0db6c27f",
   "metadata": {},
   "outputs": [],
   "source": []
  }
 ],
 "metadata": {
  "kernelspec": {
   "display_name": "spikeinterface",
   "language": "python",
   "name": "venv"
  },
  "language_info": {
   "codemirror_mode": {
    "name": "ipython",
    "version": 3
   },
   "file_extension": ".py",
   "mimetype": "text/x-python",
   "name": "python",
   "nbconvert_exporter": "python",
   "pygments_lexer": "ipython3",
   "version": "3.8.5"
  }
 },
 "nbformat": 4,
 "nbformat_minor": 5
}
