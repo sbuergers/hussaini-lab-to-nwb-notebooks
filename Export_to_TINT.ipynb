{
 "cells": [
  {
   "cell_type": "markdown",
   "id": "38378a04",
   "metadata": {},
   "source": [
    "# Convert recording and sorting extractor data to TINT format\n",
    "\n",
    "The Hussaini lab uses the proprietary TINT software from Axona to analyze extracellular electrophysiology data. While we are already able to read various data formats from Axona (`raw` data or `unit` data) into spikeinterface, perform preprocessing, spike sorting and export the data to NWB, we also want to allow to export data to the TINT format. \n",
    "\n",
    "The TINT format is essentially the same as the `unit` data, including `.X` and `.pos` files, but also `.cut` or `.clu`. The latter two contain information about the spike sorted units.\n",
    "\n",
    "The conversion can be facilitated by using the existing tools from the Hussaini lab, which [convert `.bin` data to `.X` and `.pos`](https://github.com/HussainiLab/BinConverter/blob/master/BinConverter/core/ConversionFunctions.py). Some of this code is only relevant for using the GUI, which did not work for me. I cleared out GUI code and ran a conversion from `.bin` to `.X` and `.pos` in this notebook: [explore_hussaini_tools.ipynb](https://github.com/sbuergers/hussaini-lab-to-nwb-notebooks/blob/master/explore_hussaini_tools.ipynb).\n",
    "\n",
    "They also already wrote a [`write_cut()`](https://github.com/GeoffBarrett/gebaSpike/blob/967097ec28592182ef9783d2d391930e1c63ca58/gebaSpike/core/writeCut.py) function.\n",
    "\n",
    "We can test our solutions by reading data with these [Hussaini lab tools](https://github.com/HussainiLab/BinConverter/blob/master/BinConverter/core/Tint_Matlab.py). "
   ]
  },
  {
   "cell_type": "markdown",
   "id": "ef8f7aaa",
   "metadata": {},
   "source": [
    "<a id='index'></a>\n",
    "## Index\n",
    "\n",
    "* [Testing functions](#testing_functions)\n",
    "* [Hussaini-lab functions](#hussaini-lab_functions)\n",
    "* [Convert Sorting Extractor to TINT](#Convert_sorting_extractor_to_tint)"
   ]
  },
  {
   "cell_type": "code",
   "execution_count": 1,
   "id": "83cf3093",
   "metadata": {},
   "outputs": [
    {
     "name": "stdout",
     "output_type": "stream",
     "text": [
      "3.8.5 (default, Sep  4 2020, 07:30:14) \n",
      "[GCC 7.3.0] linux /home/sbuergers/spikeinterface/hussaini_test_pipeline/venv/bin/python\n"
     ]
    }
   ],
   "source": [
    "import sys\n",
    "import os\n",
    "from pathlib import Path\n",
    "import numpy as np\n",
    "import matplotlib\n",
    "import matplotlib.pyplot as plt\n",
    "plt.rcParams[\"figure.figsize\"] = (16, 5)\n",
    "plt.rcParams.update({'font.size':14})\n",
    "%matplotlib inline\n",
    "\n",
    "import spikeextractors as se\n",
    "import spiketoolkit as st\n",
    "import spikewidgets as sw\n",
    "\n",
    "from spikeextractors.extractors.neoextractors import AxonaRecordingExtractor\n",
    "from spikeextractors.extractors.axonaunitrecordingextractor import AxonaUnitRecordingExtractor\n",
    "\n",
    "from hussaini_lab_to_nwb import TintConverter\n",
    "from hussaini_lab_to_nwb.tint_conversion.export_spike_waveforms import get_waveforms, parse_generic_header\n",
    "\n",
    "print(sys.version, sys.platform, sys.executable)"
   ]
  },
  {
   "cell_type": "code",
   "execution_count": 2,
   "id": "1210bfc6",
   "metadata": {},
   "outputs": [
    {
     "name": "stdout",
     "output_type": "stream",
     "text": [
      "Input directory =  /mnt/d/freelance-work/catalyst-neuro/hussaini-lab-to-nwb/sample_bin_to_tint_no_bin\n",
      "Output directory =  /mnt/d/freelance-work/catalyst-neuro/hussaini-lab-to-nwb/sample_bin_to_tint_no_bin/conversion_to_tint\n"
     ]
    }
   ],
   "source": [
    "# Directories\n",
    "\n",
    "dir_name = Path('/mnt/d/freelance-work/catalyst-neuro/hussaini-lab-to-nwb/sample_bin_to_tint_no_bin')\n",
    "print('Input directory = ', dir_name)\n",
    "\n",
    "save_dir = dir_name / 'conversion_to_tint'\n",
    "save_dir.mkdir(parents=True, exist_ok=True)\n",
    "print('Output directory = ', save_dir)"
   ]
  },
  {
   "cell_type": "code",
   "execution_count": 3,
   "id": "aafca1b7",
   "metadata": {},
   "outputs": [],
   "source": [
    "# Read cached spikeextractors data\n",
    "\n",
    "r_cache = se.load_extractor_from_pickle(os.path.join(dir_name, 'cached_unit_data_no_bin_preproc.pkl'))"
   ]
  },
  {
   "cell_type": "code",
   "execution_count": 4,
   "id": "69609f9d",
   "metadata": {},
   "outputs": [
    {
     "name": "stderr",
     "output_type": "stream",
     "text": [
      "/home/sbuergers/spikeinterface/hussaini_test_pipeline/venv/lib/python3.8/site-packages/hdmf/common/table.py:447: UserWarning: An attribute 'name' already exists on DynamicTable 'electrodes' so this column cannot be accessed as an attribute, e.g., table.name; it can only be accessed using other methods, e.g., table['name'].\n",
      "  warn(msg)\n"
     ]
    }
   ],
   "source": [
    "# Read NWB recording data\n",
    "\n",
    "nwb_dir = Path(dir_name, 'nwb')\n",
    "recording_nwb = se.NwbRecordingExtractor(nwb_dir / 'axona_tutorial_re2.nwb')"
   ]
  },
  {
   "cell_type": "code",
   "execution_count": 5,
   "id": "29ca4d3b",
   "metadata": {},
   "outputs": [],
   "source": [
    "# Read NWB sorting data\n",
    "\n",
    "sorting_nwb = se.NwbSortingExtractor(nwb_dir / 'axona_se_MS4.nwb', sampling_frequency=48000)"
   ]
  },
  {
   "cell_type": "code",
   "execution_count": 6,
   "id": "43beb92a",
   "metadata": {},
   "outputs": [
    {
     "name": "stdout",
     "output_type": "stream",
     "text": [
      "<class 'spikeextractors.extractors.bindatrecordingextractor.bindatrecordingextractor.BinDatRecordingExtractor'>\n",
      "<class 'spikeextractors.extractors.nwbextractors.nwbextractors.NwbRecordingExtractor'>\n",
      "<class 'spikeextractors.extractors.nwbextractors.nwbextractors.NwbSortingExtractor'>\n"
     ]
    }
   ],
   "source": [
    "# Show data types of different objects\n",
    "\n",
    "print(type(r_cache))\n",
    "print(type(recording_nwb))\n",
    "print(type(sorting_nwb))"
   ]
  },
  {
   "cell_type": "code",
   "execution_count": 7,
   "id": "1525167b",
   "metadata": {},
   "outputs": [],
   "source": [
    "sorting = se.NwbSortingExtractor(nwb_dir / 'axona_se_MS4.nwb', sampling_frequency=48000)"
   ]
  },
  {
   "cell_type": "markdown",
   "id": "9b12d160",
   "metadata": {},
   "source": [
    "<a id=\"testing_functions\"></a>\n",
    "## Testing functions\n",
    "[back to index](#index)"
   ]
  },
  {
   "cell_type": "markdown",
   "id": "93029f86",
   "metadata": {},
   "source": [
    "As we start exporting to putative TINT format, we will want to check if we can read it back in."
   ]
  },
  {
   "cell_type": "code",
   "execution_count": 8,
   "id": "d3d0bd7e",
   "metadata": {},
   "outputs": [],
   "source": [
    "def test_axonaunitrecordingextractor(filename):\n",
    "    '''Reads UNIT data with AxonaUnitRecordingExtractor and\n",
    "    performs some simple operations as a sanity check. \n",
    "    \n",
    "    Parameters\n",
    "    ----------\n",
    "    filename : str or Path\n",
    "        Full filename of `.set` file (could be any extension actually)\n",
    "    '''\n",
    "    re = AxonaUnitRecordingExtractor(filename=filename)\n",
    "    \n",
    "    # TEST AXONARECORDINGEXTRACTOR\n",
    "    # Retrieve some simple recording information and print it\n",
    "    recording = re\n",
    "    print('Channel ids = {}'.format(recording.get_channel_ids()))\n",
    "    print('Num. channels = {}'.format(len(recording.get_channel_ids())))\n",
    "    print('Sampling frequency = {} Hz'.format(recording.get_sampling_frequency()))\n",
    "    print('Num. timepoints = {}'.format(recording.get_num_frames()))\n",
    "    print('Stdev. on third channel = {}'.format(np.std(recording.get_traces(channel_ids=2))))\n",
    "    print('Location of third electrode = {}'.format(\n",
    "        recording.get_channel_property(channel_id=2, property_name='location')))\n",
    "    print('Channel groups = {}'.format(recording.get_channel_groups()))\n",
    "    \n",
    "    # TEST NEO_READER (axonaio)\n",
    "    print(recording.neo_reader.header['signal_channels'])\n",
    "    \n",
    "    \n",
    "def test_tetrode_files(filename):\n",
    "    '''Reads UNIT data with AxonaUnitRecordingExtractor and\n",
    "    performs some simple operations as a sanity check. \n",
    "    Will only test .X  and .set files (no .clu or .cut, no .pos).\n",
    "    \n",
    "    Parameters\n",
    "    ----------\n",
    "    filename : str or Path\n",
    "        Full filename of `.set` file (could be any extension actually)\n",
    "    '''\n",
    "    test_axonaunitrecordingextractor(filename)"
   ]
  },
  {
   "cell_type": "code",
   "execution_count": 9,
   "id": "b0cf42dc",
   "metadata": {},
   "outputs": [],
   "source": [
    "def test_tint_conversion(recording, sorting, input_dir, output_dir, setfile_name):\n",
    "    ''' Test tint conversion for a given recording and sorting extractor object.\n",
    "    Note: There needs to be a `.set` file in both the `input_dir` and `output_dir`,\n",
    "    with the same `setfile_name`. In addition, this only works when there are also\n",
    "    `.X` files in the `input_dir` to compare the output to.\n",
    "    \n",
    "    Parameters\n",
    "    ----------\n",
    "    recording : spikeextractors.recordingextractor\n",
    "    sorting : spikeextractors.sortingextractor\n",
    "    input_dir : str or Path\n",
    "    output_dir : str or Path\n",
    "    setfile_name : str or Path\n",
    "        Only the filename, not the path\n",
    "    '''\n",
    "    \n",
    "    print('Input directory = ', input_dir)\n",
    "    print('Output directory = ', output_dir)\n",
    "    print('Set-filename =', setfile_name)\n",
    "    \n",
    "    if input_dir == output_dir:\n",
    "        raise Exception('Please provide a different `output_dir` than `input_dir`.')\n",
    "        \n",
    "    set_file = Path(input_dir, setfile_name)\n",
    "    set_file_to_tint = Path(output_dir, setfile_name)\n",
    "        \n",
    "    print('Conversion syntax 1')\n",
    "    tint_converter = TintConverter(recording, sorting, set_file_to_tint)\n",
    "    tint_converter.write_to_tint()\n",
    "    \n",
    "    print('Conversion syntax 2')\n",
    "    tint_converter = TintConverter()\n",
    "    tint_converter.write_to_tint(recording, sorting, set_file_to_tint)\n",
    "    \n",
    "    # Read converted data back in and compare\n",
    "    if type(recording) == AxonaUnitRecordingExtractor:\n",
    "        df = tint_converter.compare_timestamps_after_conversion(\n",
    "            filename_old=set_file,\n",
    "            filename_new=set_file_to_tint\n",
    "        )\n",
    "        assert df.shape[0] == 4\n",
    "        display(df.T)\n",
    "        \n",
    "    # Figures\n",
    "    recording_tint = AxonaUnitRecordingExtractor(filename=Path(output_dir, setfile_name), noise_std=0)\n",
    "    w_ts = sw.plot_timeseries(recording, trange=[0, 0.1])\n",
    "    w_ts = sw.plot_timeseries(recording_tint, trange=[0, 0.1])"
   ]
  },
  {
   "cell_type": "code",
   "execution_count": 10,
   "id": "ce183797",
   "metadata": {},
   "outputs": [],
   "source": [
    "# Create lists that go through different test cases,\n",
    "# Entry 0: AxonaRecordingExtractor\n",
    "# Entry 1: AxonaUnitRecordingExtractor\n",
    "# Entry 2: AxonaUnitRecordingExtractor\n",
    "# Entry 3: AxonaUnitRecordingExtractor\n",
    "# Entry 4: AxonaRecordingExtractor\n",
    "\n",
    "extractor_types = [\n",
    "    'AxonaRecordingExtractor',\n",
    "    'AxonaUnitRecordingExtractor',\n",
    "    'AxonaUnitRecordingExtractor',\n",
    "    'AxonaRecordingExtractor',\n",
    "]\n",
    "\n",
    "setfile_names = [\n",
    "    'axona_raw.set',\n",
    "    'axona_sample.set',\n",
    "    'axona_sample.set',\n",
    "    'axona_sample.set',\n",
    "]\n",
    "\n",
    "input_dirs = [\n",
    "    Path('/mnt/d/freelance-work/catalyst-neuro/hussaini-lab-to-nwb/axona_raw'),\n",
    "    Path('/mnt/d/freelance-work/catalyst-neuro/hussaini-lab-to-nwb/sample_bin_to_tint_no_bin'),\n",
    "    Path('/mnt/d/freelance-work/catalyst-neuro/hussaini-lab-to-nwb/sample_bin_to_tint'),\n",
    "    Path('/mnt/d/freelance-work/catalyst-neuro/hussaini-lab-to-nwb/sample_bin_to_tint'),\n",
    "]"
   ]
  },
  {
   "cell_type": "code",
   "execution_count": 11,
   "id": "53072708",
   "metadata": {
    "scrolled": false
   },
   "outputs": [
    {
     "name": "stdout",
     "output_type": "stream",
     "text": [
      "----------------------------------------------------\n",
      "                iteration 1 of 4                  \n",
      "----------------------------------------------------\n"
     ]
    },
    {
     "ename": "KeyboardInterrupt",
     "evalue": "",
     "output_type": "error",
     "traceback": [
      "\u001b[0;31m---------------------------------------------------------------------------\u001b[0m",
      "\u001b[0;31mKeyboardInterrupt\u001b[0m                         Traceback (most recent call last)",
      "\u001b[0;32m<ipython-input-11-dd69c777044b>\u001b[0m in \u001b[0;36m<module>\u001b[0;34m\u001b[0m\n\u001b[1;32m     15\u001b[0m         \u001b[0mrecording\u001b[0m \u001b[0;34m=\u001b[0m \u001b[0mAxonaRecordingExtractor\u001b[0m\u001b[0;34m(\u001b[0m\u001b[0mfilename\u001b[0m\u001b[0;34m=\u001b[0m\u001b[0mPath\u001b[0m\u001b[0;34m(\u001b[0m\u001b[0minput_dir\u001b[0m\u001b[0;34m,\u001b[0m \u001b[0msetfile_name\u001b[0m\u001b[0;34m)\u001b[0m\u001b[0;34m)\u001b[0m\u001b[0;34m\u001b[0m\u001b[0;34m\u001b[0m\u001b[0m\n\u001b[1;32m     16\u001b[0m \u001b[0;34m\u001b[0m\u001b[0m\n\u001b[0;32m---> 17\u001b[0;31m     \u001b[0msorting\u001b[0m \u001b[0;34m=\u001b[0m \u001b[0mse\u001b[0m\u001b[0;34m.\u001b[0m\u001b[0mNwbSortingExtractor\u001b[0m\u001b[0;34m(\u001b[0m\u001b[0minput_dir\u001b[0m \u001b[0;34m/\u001b[0m \u001b[0;34m'nwb'\u001b[0m \u001b[0;34m/\u001b[0m \u001b[0;34m'axona_se_MS4.nwb'\u001b[0m\u001b[0;34m,\u001b[0m \u001b[0msampling_frequency\u001b[0m\u001b[0;34m=\u001b[0m\u001b[0;36m48000\u001b[0m\u001b[0;34m)\u001b[0m\u001b[0;34m\u001b[0m\u001b[0;34m\u001b[0m\u001b[0m\n\u001b[0m\u001b[1;32m     18\u001b[0m \u001b[0;34m\u001b[0m\u001b[0m\n\u001b[1;32m     19\u001b[0m     \u001b[0mtest_tint_conversion\u001b[0m\u001b[0;34m(\u001b[0m\u001b[0mrecording\u001b[0m\u001b[0;34m,\u001b[0m \u001b[0msorting\u001b[0m\u001b[0;34m,\u001b[0m \u001b[0minput_dir\u001b[0m\u001b[0;34m,\u001b[0m \u001b[0moutput_dir\u001b[0m\u001b[0;34m,\u001b[0m \u001b[0msetfile_name\u001b[0m\u001b[0;34m)\u001b[0m\u001b[0;34m\u001b[0m\u001b[0;34m\u001b[0m\u001b[0m\n",
      "\u001b[0;32m~/spikeinterface/spikeextractors/spikeextractors/extractors/nwbextractors/nwbextractors.py\u001b[0m in \u001b[0;36m__init__\u001b[0;34m(self, file_path, electrical_series, sampling_frequency)\u001b[0m\n\u001b[1;32m   1195\u001b[0m                         \u001b[0;32melse\u001b[0m\u001b[0;34m:\u001b[0m\u001b[0;34m\u001b[0m\u001b[0;34m\u001b[0m\u001b[0m\n\u001b[1;32m   1196\u001b[0m                             \u001b[0;32mif\u001b[0m \u001b[0mprop_value\u001b[0m \u001b[0;34m==\u001b[0m \u001b[0mprop_value\u001b[0m\u001b[0;34m:\u001b[0m  \u001b[0;31m# not nan\u001b[0m\u001b[0;34m\u001b[0m\u001b[0;34m\u001b[0m\u001b[0m\n\u001b[0;32m-> 1197\u001b[0;31m                                 \u001b[0mself\u001b[0m\u001b[0;34m.\u001b[0m\u001b[0mset_unit_property\u001b[0m\u001b[0;34m(\u001b[0m\u001b[0mu_id\u001b[0m\u001b[0;34m,\u001b[0m \u001b[0mitem\u001b[0m\u001b[0;34m,\u001b[0m \u001b[0mprop_value\u001b[0m\u001b[0;34m)\u001b[0m\u001b[0;34m\u001b[0m\u001b[0;34m\u001b[0m\u001b[0m\n\u001b[0m\u001b[1;32m   1198\u001b[0m \u001b[0;34m\u001b[0m\u001b[0m\n\u001b[1;32m   1199\u001b[0m             \u001b[0;31m# Fill epochs dictionary\u001b[0m\u001b[0;34m\u001b[0m\u001b[0;34m\u001b[0m\u001b[0;34m\u001b[0m\u001b[0m\n",
      "\u001b[0;32m~/spikeinterface/spikeextractors/spikeextractors/sortingextractor.py\u001b[0m in \u001b[0;36mset_unit_property\u001b[0;34m(self, unit_id, property_name, value)\u001b[0m\n\u001b[1;32m    395\u001b[0m         \"\"\"\n\u001b[1;32m    396\u001b[0m         \u001b[0;32mif\u001b[0m \u001b[0misinstance\u001b[0m\u001b[0;34m(\u001b[0m\u001b[0munit_id\u001b[0m\u001b[0;34m,\u001b[0m \u001b[0;34m(\u001b[0m\u001b[0mint\u001b[0m\u001b[0;34m,\u001b[0m \u001b[0mnp\u001b[0m\u001b[0;34m.\u001b[0m\u001b[0minteger\u001b[0m\u001b[0;34m)\u001b[0m\u001b[0;34m)\u001b[0m\u001b[0;34m:\u001b[0m\u001b[0;34m\u001b[0m\u001b[0;34m\u001b[0m\u001b[0m\n\u001b[0;32m--> 397\u001b[0;31m             \u001b[0;32mif\u001b[0m \u001b[0munit_id\u001b[0m \u001b[0;32min\u001b[0m \u001b[0mself\u001b[0m\u001b[0;34m.\u001b[0m\u001b[0mget_unit_ids\u001b[0m\u001b[0;34m(\u001b[0m\u001b[0;34m)\u001b[0m\u001b[0;34m:\u001b[0m\u001b[0;34m\u001b[0m\u001b[0;34m\u001b[0m\u001b[0m\n\u001b[0m\u001b[1;32m    398\u001b[0m                 \u001b[0;32mif\u001b[0m \u001b[0munit_id\u001b[0m \u001b[0;32mnot\u001b[0m \u001b[0;32min\u001b[0m \u001b[0mself\u001b[0m\u001b[0;34m.\u001b[0m\u001b[0m_properties\u001b[0m\u001b[0;34m.\u001b[0m\u001b[0mkeys\u001b[0m\u001b[0;34m(\u001b[0m\u001b[0;34m)\u001b[0m\u001b[0;34m:\u001b[0m\u001b[0;34m\u001b[0m\u001b[0;34m\u001b[0m\u001b[0m\n\u001b[1;32m    399\u001b[0m                     \u001b[0mself\u001b[0m\u001b[0;34m.\u001b[0m\u001b[0m_properties\u001b[0m\u001b[0;34m[\u001b[0m\u001b[0munit_id\u001b[0m\u001b[0;34m]\u001b[0m \u001b[0;34m=\u001b[0m \u001b[0;34m{\u001b[0m\u001b[0;34m}\u001b[0m\u001b[0;34m\u001b[0m\u001b[0;34m\u001b[0m\u001b[0m\n",
      "\u001b[0;32m~/spikeinterface/spikeextractors/spikeextractors/extractors/nwbextractors/nwbextractors.py\u001b[0m in \u001b[0;36mget_unit_ids\u001b[0;34m(self)\u001b[0m\n\u001b[1;32m   1217\u001b[0m         \u001b[0mcheck_nwb_install\u001b[0m\u001b[0;34m(\u001b[0m\u001b[0;34m)\u001b[0m\u001b[0;34m\u001b[0m\u001b[0;34m\u001b[0m\u001b[0m\n\u001b[1;32m   1218\u001b[0m         \u001b[0;32mwith\u001b[0m \u001b[0mNWBHDF5IO\u001b[0m\u001b[0;34m(\u001b[0m\u001b[0mself\u001b[0m\u001b[0;34m.\u001b[0m\u001b[0m_path\u001b[0m\u001b[0;34m,\u001b[0m \u001b[0;34m'r'\u001b[0m\u001b[0;34m)\u001b[0m \u001b[0;32mas\u001b[0m \u001b[0mio\u001b[0m\u001b[0;34m:\u001b[0m\u001b[0;34m\u001b[0m\u001b[0;34m\u001b[0m\u001b[0m\n\u001b[0;32m-> 1219\u001b[0;31m             \u001b[0mnwbfile\u001b[0m \u001b[0;34m=\u001b[0m \u001b[0mio\u001b[0m\u001b[0;34m.\u001b[0m\u001b[0mread\u001b[0m\u001b[0;34m(\u001b[0m\u001b[0;34m)\u001b[0m\u001b[0;34m\u001b[0m\u001b[0;34m\u001b[0m\u001b[0m\n\u001b[0m\u001b[1;32m   1220\u001b[0m             \u001b[0munit_ids\u001b[0m \u001b[0;34m=\u001b[0m \u001b[0;34m[\u001b[0m\u001b[0mint\u001b[0m\u001b[0;34m(\u001b[0m\u001b[0mi\u001b[0m\u001b[0;34m)\u001b[0m \u001b[0;32mfor\u001b[0m \u001b[0mi\u001b[0m \u001b[0;32min\u001b[0m \u001b[0mnwbfile\u001b[0m\u001b[0;34m.\u001b[0m\u001b[0munits\u001b[0m\u001b[0;34m.\u001b[0m\u001b[0mid\u001b[0m\u001b[0;34m[\u001b[0m\u001b[0;34m:\u001b[0m\u001b[0;34m]\u001b[0m\u001b[0;34m]\u001b[0m\u001b[0;34m\u001b[0m\u001b[0;34m\u001b[0m\u001b[0m\n\u001b[1;32m   1221\u001b[0m         \u001b[0;32mreturn\u001b[0m \u001b[0munit_ids\u001b[0m\u001b[0;34m\u001b[0m\u001b[0;34m\u001b[0m\u001b[0m\n",
      "\u001b[0;32m~/spikeinterface/hussaini_test_pipeline/venv/lib/python3.8/site-packages/hdmf/backends/hdf5/h5tools.py\u001b[0m in \u001b[0;36mread\u001b[0;34m(self, **kwargs)\u001b[0m\n\u001b[1;32m    493\u001b[0m                                        % (self.source, self.__mode))\n\u001b[1;32m    494\u001b[0m         \u001b[0;32mtry\u001b[0m\u001b[0;34m:\u001b[0m\u001b[0;34m\u001b[0m\u001b[0;34m\u001b[0m\u001b[0m\n\u001b[0;32m--> 495\u001b[0;31m             \u001b[0;32mreturn\u001b[0m \u001b[0mcall_docval_func\u001b[0m\u001b[0;34m(\u001b[0m\u001b[0msuper\u001b[0m\u001b[0;34m(\u001b[0m\u001b[0;34m)\u001b[0m\u001b[0;34m.\u001b[0m\u001b[0mread\u001b[0m\u001b[0;34m,\u001b[0m \u001b[0mkwargs\u001b[0m\u001b[0;34m)\u001b[0m\u001b[0;34m\u001b[0m\u001b[0;34m\u001b[0m\u001b[0m\n\u001b[0m\u001b[1;32m    496\u001b[0m         \u001b[0;32mexcept\u001b[0m \u001b[0mUnsupportedOperation\u001b[0m \u001b[0;32mas\u001b[0m \u001b[0me\u001b[0m\u001b[0;34m:\u001b[0m\u001b[0;34m\u001b[0m\u001b[0;34m\u001b[0m\u001b[0m\n\u001b[1;32m    497\u001b[0m             \u001b[0;32mif\u001b[0m \u001b[0mstr\u001b[0m\u001b[0;34m(\u001b[0m\u001b[0me\u001b[0m\u001b[0;34m)\u001b[0m \u001b[0;34m==\u001b[0m \u001b[0;34m'Cannot build data. There are no values.'\u001b[0m\u001b[0;34m:\u001b[0m  \u001b[0;31m# pragma: no cover\u001b[0m\u001b[0;34m\u001b[0m\u001b[0;34m\u001b[0m\u001b[0m\n",
      "\u001b[0;32m~/spikeinterface/hussaini_test_pipeline/venv/lib/python3.8/site-packages/hdmf/utils.py\u001b[0m in \u001b[0;36mcall_docval_func\u001b[0;34m(func, kwargs)\u001b[0m\n\u001b[1;32m    421\u001b[0m \u001b[0;32mdef\u001b[0m \u001b[0mcall_docval_func\u001b[0m\u001b[0;34m(\u001b[0m\u001b[0mfunc\u001b[0m\u001b[0;34m,\u001b[0m \u001b[0mkwargs\u001b[0m\u001b[0;34m)\u001b[0m\u001b[0;34m:\u001b[0m\u001b[0;34m\u001b[0m\u001b[0;34m\u001b[0m\u001b[0m\n\u001b[1;32m    422\u001b[0m     \u001b[0mfargs\u001b[0m\u001b[0;34m,\u001b[0m \u001b[0mfkwargs\u001b[0m \u001b[0;34m=\u001b[0m \u001b[0mfmt_docval_args\u001b[0m\u001b[0;34m(\u001b[0m\u001b[0mfunc\u001b[0m\u001b[0;34m,\u001b[0m \u001b[0mkwargs\u001b[0m\u001b[0;34m)\u001b[0m\u001b[0;34m\u001b[0m\u001b[0;34m\u001b[0m\u001b[0m\n\u001b[0;32m--> 423\u001b[0;31m     \u001b[0;32mreturn\u001b[0m \u001b[0mfunc\u001b[0m\u001b[0;34m(\u001b[0m\u001b[0;34m*\u001b[0m\u001b[0mfargs\u001b[0m\u001b[0;34m,\u001b[0m \u001b[0;34m**\u001b[0m\u001b[0mfkwargs\u001b[0m\u001b[0;34m)\u001b[0m\u001b[0;34m\u001b[0m\u001b[0;34m\u001b[0m\u001b[0m\n\u001b[0m\u001b[1;32m    424\u001b[0m \u001b[0;34m\u001b[0m\u001b[0m\n\u001b[1;32m    425\u001b[0m \u001b[0;34m\u001b[0m\u001b[0m\n",
      "\u001b[0;32m~/spikeinterface/hussaini_test_pipeline/venv/lib/python3.8/site-packages/hdmf/utils.py\u001b[0m in \u001b[0;36mfunc_call\u001b[0;34m(*args, **kwargs)\u001b[0m\n\u001b[1;32m    578\u001b[0m             \u001b[0;32mdef\u001b[0m \u001b[0mfunc_call\u001b[0m\u001b[0;34m(\u001b[0m\u001b[0;34m*\u001b[0m\u001b[0margs\u001b[0m\u001b[0;34m,\u001b[0m \u001b[0;34m**\u001b[0m\u001b[0mkwargs\u001b[0m\u001b[0;34m)\u001b[0m\u001b[0;34m:\u001b[0m\u001b[0;34m\u001b[0m\u001b[0;34m\u001b[0m\u001b[0m\n\u001b[1;32m    579\u001b[0m                 \u001b[0mpargs\u001b[0m \u001b[0;34m=\u001b[0m \u001b[0m_check_args\u001b[0m\u001b[0;34m(\u001b[0m\u001b[0margs\u001b[0m\u001b[0;34m,\u001b[0m \u001b[0mkwargs\u001b[0m\u001b[0;34m)\u001b[0m\u001b[0;34m\u001b[0m\u001b[0;34m\u001b[0m\u001b[0m\n\u001b[0;32m--> 580\u001b[0;31m                 \u001b[0;32mreturn\u001b[0m \u001b[0mfunc\u001b[0m\u001b[0;34m(\u001b[0m\u001b[0margs\u001b[0m\u001b[0;34m[\u001b[0m\u001b[0;36m0\u001b[0m\u001b[0;34m]\u001b[0m\u001b[0;34m,\u001b[0m \u001b[0;34m**\u001b[0m\u001b[0mpargs\u001b[0m\u001b[0;34m)\u001b[0m\u001b[0;34m\u001b[0m\u001b[0;34m\u001b[0m\u001b[0m\n\u001b[0m\u001b[1;32m    581\u001b[0m         \u001b[0;32melse\u001b[0m\u001b[0;34m:\u001b[0m\u001b[0;34m\u001b[0m\u001b[0;34m\u001b[0m\u001b[0m\n\u001b[1;32m    582\u001b[0m             \u001b[0;32mdef\u001b[0m \u001b[0mfunc_call\u001b[0m\u001b[0;34m(\u001b[0m\u001b[0;34m*\u001b[0m\u001b[0margs\u001b[0m\u001b[0;34m,\u001b[0m \u001b[0;34m**\u001b[0m\u001b[0mkwargs\u001b[0m\u001b[0;34m)\u001b[0m\u001b[0;34m:\u001b[0m\u001b[0;34m\u001b[0m\u001b[0;34m\u001b[0m\u001b[0m\n",
      "\u001b[0;32m~/spikeinterface/hussaini_test_pipeline/venv/lib/python3.8/site-packages/hdmf/backends/io.py\u001b[0m in \u001b[0;36mread\u001b[0;34m(self, **kwargs)\u001b[0m\n\u001b[1;32m     35\u001b[0m     \u001b[0;32mdef\u001b[0m \u001b[0mread\u001b[0m\u001b[0;34m(\u001b[0m\u001b[0mself\u001b[0m\u001b[0;34m,\u001b[0m \u001b[0;34m**\u001b[0m\u001b[0mkwargs\u001b[0m\u001b[0;34m)\u001b[0m\u001b[0;34m:\u001b[0m\u001b[0;34m\u001b[0m\u001b[0;34m\u001b[0m\u001b[0m\n\u001b[1;32m     36\u001b[0m         \u001b[0;34m\"\"\"Read a container from the IO source.\"\"\"\u001b[0m\u001b[0;34m\u001b[0m\u001b[0;34m\u001b[0m\u001b[0m\n\u001b[0;32m---> 37\u001b[0;31m         \u001b[0mf_builder\u001b[0m \u001b[0;34m=\u001b[0m \u001b[0mself\u001b[0m\u001b[0;34m.\u001b[0m\u001b[0mread_builder\u001b[0m\u001b[0;34m(\u001b[0m\u001b[0;34m)\u001b[0m\u001b[0;34m\u001b[0m\u001b[0;34m\u001b[0m\u001b[0m\n\u001b[0m\u001b[1;32m     38\u001b[0m         \u001b[0;32mif\u001b[0m \u001b[0mall\u001b[0m\u001b[0;34m(\u001b[0m\u001b[0mlen\u001b[0m\u001b[0;34m(\u001b[0m\u001b[0mv\u001b[0m\u001b[0;34m)\u001b[0m \u001b[0;34m==\u001b[0m \u001b[0;36m0\u001b[0m \u001b[0;32mfor\u001b[0m \u001b[0mv\u001b[0m \u001b[0;32min\u001b[0m \u001b[0mf_builder\u001b[0m\u001b[0;34m.\u001b[0m\u001b[0mvalues\u001b[0m\u001b[0;34m(\u001b[0m\u001b[0;34m)\u001b[0m\u001b[0;34m)\u001b[0m\u001b[0;34m:\u001b[0m\u001b[0;34m\u001b[0m\u001b[0;34m\u001b[0m\u001b[0m\n\u001b[1;32m     39\u001b[0m             \u001b[0;31m# TODO also check that the keys are appropriate. print a better error message\u001b[0m\u001b[0;34m\u001b[0m\u001b[0;34m\u001b[0m\u001b[0;34m\u001b[0m\u001b[0m\n",
      "\u001b[0;32m~/spikeinterface/hussaini_test_pipeline/venv/lib/python3.8/site-packages/hdmf/utils.py\u001b[0m in \u001b[0;36mfunc_call\u001b[0;34m(*args, **kwargs)\u001b[0m\n\u001b[1;32m    578\u001b[0m             \u001b[0;32mdef\u001b[0m \u001b[0mfunc_call\u001b[0m\u001b[0;34m(\u001b[0m\u001b[0;34m*\u001b[0m\u001b[0margs\u001b[0m\u001b[0;34m,\u001b[0m \u001b[0;34m**\u001b[0m\u001b[0mkwargs\u001b[0m\u001b[0;34m)\u001b[0m\u001b[0;34m:\u001b[0m\u001b[0;34m\u001b[0m\u001b[0;34m\u001b[0m\u001b[0m\n\u001b[1;32m    579\u001b[0m                 \u001b[0mpargs\u001b[0m \u001b[0;34m=\u001b[0m \u001b[0m_check_args\u001b[0m\u001b[0;34m(\u001b[0m\u001b[0margs\u001b[0m\u001b[0;34m,\u001b[0m \u001b[0mkwargs\u001b[0m\u001b[0;34m)\u001b[0m\u001b[0;34m\u001b[0m\u001b[0;34m\u001b[0m\u001b[0m\n\u001b[0;32m--> 580\u001b[0;31m                 \u001b[0;32mreturn\u001b[0m \u001b[0mfunc\u001b[0m\u001b[0;34m(\u001b[0m\u001b[0margs\u001b[0m\u001b[0;34m[\u001b[0m\u001b[0;36m0\u001b[0m\u001b[0;34m]\u001b[0m\u001b[0;34m,\u001b[0m \u001b[0;34m**\u001b[0m\u001b[0mpargs\u001b[0m\u001b[0;34m)\u001b[0m\u001b[0;34m\u001b[0m\u001b[0;34m\u001b[0m\u001b[0m\n\u001b[0m\u001b[1;32m    581\u001b[0m         \u001b[0;32melse\u001b[0m\u001b[0;34m:\u001b[0m\u001b[0;34m\u001b[0m\u001b[0;34m\u001b[0m\u001b[0m\n\u001b[1;32m    582\u001b[0m             \u001b[0;32mdef\u001b[0m \u001b[0mfunc_call\u001b[0m\u001b[0;34m(\u001b[0m\u001b[0;34m*\u001b[0m\u001b[0margs\u001b[0m\u001b[0;34m,\u001b[0m \u001b[0;34m**\u001b[0m\u001b[0mkwargs\u001b[0m\u001b[0;34m)\u001b[0m\u001b[0;34m:\u001b[0m\u001b[0;34m\u001b[0m\u001b[0;34m\u001b[0m\u001b[0m\n",
      "\u001b[0;32m~/spikeinterface/hussaini_test_pipeline/venv/lib/python3.8/site-packages/hdmf/backends/hdf5/h5tools.py\u001b[0m in \u001b[0;36mread_builder\u001b[0;34m(self)\u001b[0m\n\u001b[1;32m    510\u001b[0m             \u001b[0mignore\u001b[0m\u001b[0;34m.\u001b[0m\u001b[0madd\u001b[0m\u001b[0;34m(\u001b[0m\u001b[0mself\u001b[0m\u001b[0;34m.\u001b[0m\u001b[0m__file\u001b[0m\u001b[0;34m[\u001b[0m\u001b[0mspecloc\u001b[0m\u001b[0;34m]\u001b[0m\u001b[0;34m.\u001b[0m\u001b[0mname\u001b[0m\u001b[0;34m)\u001b[0m\u001b[0;34m\u001b[0m\u001b[0;34m\u001b[0m\u001b[0m\n\u001b[1;32m    511\u001b[0m         \u001b[0;32mif\u001b[0m \u001b[0mf_builder\u001b[0m \u001b[0;32mis\u001b[0m \u001b[0;32mNone\u001b[0m\u001b[0;34m:\u001b[0m\u001b[0;34m\u001b[0m\u001b[0;34m\u001b[0m\u001b[0m\n\u001b[0;32m--> 512\u001b[0;31m             \u001b[0mf_builder\u001b[0m \u001b[0;34m=\u001b[0m \u001b[0mself\u001b[0m\u001b[0;34m.\u001b[0m\u001b[0m__read_group\u001b[0m\u001b[0;34m(\u001b[0m\u001b[0mself\u001b[0m\u001b[0;34m.\u001b[0m\u001b[0m__file\u001b[0m\u001b[0;34m,\u001b[0m \u001b[0mROOT_NAME\u001b[0m\u001b[0;34m,\u001b[0m \u001b[0mignore\u001b[0m\u001b[0;34m=\u001b[0m\u001b[0mignore\u001b[0m\u001b[0;34m)\u001b[0m\u001b[0;34m\u001b[0m\u001b[0;34m\u001b[0m\u001b[0m\n\u001b[0m\u001b[1;32m    513\u001b[0m             \u001b[0mself\u001b[0m\u001b[0;34m.\u001b[0m\u001b[0m__read\u001b[0m\u001b[0;34m[\u001b[0m\u001b[0mself\u001b[0m\u001b[0;34m.\u001b[0m\u001b[0m__file\u001b[0m\u001b[0;34m]\u001b[0m \u001b[0;34m=\u001b[0m \u001b[0mf_builder\u001b[0m\u001b[0;34m\u001b[0m\u001b[0;34m\u001b[0m\u001b[0m\n\u001b[1;32m    514\u001b[0m         \u001b[0;32mreturn\u001b[0m \u001b[0mf_builder\u001b[0m\u001b[0;34m\u001b[0m\u001b[0;34m\u001b[0m\u001b[0m\n",
      "\u001b[0;32m~/spikeinterface/hussaini_test_pipeline/venv/lib/python3.8/site-packages/hdmf/backends/hdf5/h5tools.py\u001b[0m in \u001b[0;36m__read_group\u001b[0;34m(self, h5obj, name, ignore)\u001b[0m\n\u001b[1;32m    652\u001b[0m                     \u001b[0;32mif\u001b[0m \u001b[0mbuilder\u001b[0m \u001b[0;32mis\u001b[0m \u001b[0;32mNone\u001b[0m\u001b[0;34m:\u001b[0m\u001b[0;34m\u001b[0m\u001b[0;34m\u001b[0m\u001b[0m\n\u001b[1;32m    653\u001b[0m                         \u001b[0mbuilder\u001b[0m \u001b[0;34m=\u001b[0m \u001b[0mread_method\u001b[0m\u001b[0;34m(\u001b[0m\u001b[0msub_h5obj\u001b[0m\u001b[0;34m)\u001b[0m\u001b[0;34m\u001b[0m\u001b[0;34m\u001b[0m\u001b[0m\n\u001b[0;32m--> 654\u001b[0;31m                         \u001b[0mself\u001b[0m\u001b[0;34m.\u001b[0m\u001b[0m__set_built\u001b[0m\u001b[0;34m(\u001b[0m\u001b[0msub_h5obj\u001b[0m\u001b[0;34m.\u001b[0m\u001b[0mfile\u001b[0m\u001b[0;34m.\u001b[0m\u001b[0mfilename\u001b[0m\u001b[0;34m,\u001b[0m \u001b[0msub_h5obj\u001b[0m\u001b[0;34m.\u001b[0m\u001b[0mid\u001b[0m\u001b[0;34m,\u001b[0m \u001b[0mbuilder\u001b[0m\u001b[0;34m)\u001b[0m\u001b[0;34m\u001b[0m\u001b[0;34m\u001b[0m\u001b[0m\n\u001b[0m\u001b[1;32m    655\u001b[0m                     \u001b[0mobj_type\u001b[0m\u001b[0;34m[\u001b[0m\u001b[0mbuilder\u001b[0m\u001b[0;34m.\u001b[0m\u001b[0mname\u001b[0m\u001b[0;34m]\u001b[0m \u001b[0;34m=\u001b[0m \u001b[0mbuilder\u001b[0m\u001b[0;34m\u001b[0m\u001b[0;34m\u001b[0m\u001b[0m\n\u001b[1;32m    656\u001b[0m             \u001b[0;32melse\u001b[0m\u001b[0;34m:\u001b[0m\u001b[0;34m\u001b[0m\u001b[0;34m\u001b[0m\u001b[0m\n",
      "\u001b[0;32mh5py/_objects.pyx\u001b[0m in \u001b[0;36mh5py._objects.with_phil.wrapper\u001b[0;34m()\u001b[0m\n",
      "\u001b[0;32mh5py/_objects.pyx\u001b[0m in \u001b[0;36mh5py._objects.with_phil.wrapper\u001b[0;34m()\u001b[0m\n",
      "\u001b[0;32m~/spikeinterface/hussaini_test_pipeline/venv/lib/python3.8/site-packages/h5py/_hl/files.py\u001b[0m in \u001b[0;36mfilename\u001b[0;34m(self)\u001b[0m\n\u001b[1;32m    237\u001b[0m     \u001b[0;32mdef\u001b[0m \u001b[0mfilename\u001b[0m\u001b[0;34m(\u001b[0m\u001b[0mself\u001b[0m\u001b[0;34m)\u001b[0m\u001b[0;34m:\u001b[0m\u001b[0;34m\u001b[0m\u001b[0;34m\u001b[0m\u001b[0m\n\u001b[1;32m    238\u001b[0m         \u001b[0;34m\"\"\"File name on disk\"\"\"\u001b[0m\u001b[0;34m\u001b[0m\u001b[0;34m\u001b[0m\u001b[0m\n\u001b[0;32m--> 239\u001b[0;31m         \u001b[0;32mreturn\u001b[0m \u001b[0mfilename_decode\u001b[0m\u001b[0;34m(\u001b[0m\u001b[0mh5f\u001b[0m\u001b[0;34m.\u001b[0m\u001b[0mget_name\u001b[0m\u001b[0;34m(\u001b[0m\u001b[0mself\u001b[0m\u001b[0;34m.\u001b[0m\u001b[0mid\u001b[0m\u001b[0;34m)\u001b[0m\u001b[0;34m)\u001b[0m\u001b[0;34m\u001b[0m\u001b[0;34m\u001b[0m\u001b[0m\n\u001b[0m\u001b[1;32m    240\u001b[0m \u001b[0;34m\u001b[0m\u001b[0m\n\u001b[1;32m    241\u001b[0m     \u001b[0;34m@\u001b[0m\u001b[0mproperty\u001b[0m\u001b[0;34m\u001b[0m\u001b[0;34m\u001b[0m\u001b[0m\n",
      "\u001b[0;31mKeyboardInterrupt\u001b[0m: "
     ]
    }
   ],
   "source": [
    "%matplotlib inline\n",
    "plt.rcParams[\"figure.figsize\"] = (16, 5)\n",
    "plt.rcParams.update({'font.size':14})\n",
    "\n",
    "for i, (setfile_name, input_dir, extractor_type) in enumerate(zip(setfile_names, input_dirs, extractor_types)):\n",
    "    \n",
    "    print('----------------------------------------------------')\n",
    "    print('                iteration {} of {}                  '.format(i + 1, len(input_dirs)))\n",
    "    print('----------------------------------------------------')\n",
    "    output_dir = input_dir / 'conversion_to_tint'\n",
    "    \n",
    "    if extractor_type == 'AxonaUnitRecordingExtractor':\n",
    "        recording = AxonaUnitRecordingExtractor(filename=Path(input_dir, setfile_name), noise_std=0)\n",
    "    else:\n",
    "        recording = AxonaRecordingExtractor(filename=Path(input_dir, setfile_name))\n",
    "    \n",
    "    sorting = se.NwbSortingExtractor(input_dir / 'nwb' / 'axona_se_MS4.nwb', sampling_frequency=48000)\n",
    "\n",
    "    test_tint_conversion(recording, sorting, input_dir, output_dir, setfile_name)"
   ]
  },
  {
   "cell_type": "code",
   "execution_count": 12,
   "id": "78006862",
   "metadata": {},
   "outputs": [
    {
     "data": {
      "text/plain": [
       "PosixPath('/mnt/d/freelance-work/catalyst-neuro/hussaini-lab-to-nwb/sample_bin_to_tint_no_bin/axona_sample.set')"
      ]
     },
     "execution_count": 12,
     "metadata": {},
     "output_type": "execute_result"
    }
   ],
   "source": [
    "Path(input_dirs[1], setfile_names[1])"
   ]
  },
  {
   "cell_type": "code",
   "execution_count": 13,
   "id": "2c363ccc",
   "metadata": {},
   "outputs": [],
   "source": [
    "recording_tint = AxonaUnitRecordingExtractor(filename=Path(input_dirs[1], setfile_names[1]), noise_std=0)"
   ]
  },
  {
   "cell_type": "code",
   "execution_count": 14,
   "id": "aac3e784",
   "metadata": {},
   "outputs": [
    {
     "data": {
      "text/plain": [
       "memmap([   928,   1573,   3141,   3264,   3652,   4034,   4456,   4644,\n",
       "          4986,   5268,   5810,   6236,   7744,   7852,   8206,   9154,\n",
       "          9346,  10048,  11562,  11948,  12038,  12416,  12519,  13411,\n",
       "         14122,  14964,  15201,  15371,  16044,  16346,  16444,  19392,\n",
       "         19542,  20434,  20752,  22132,  23908,  25353,  25550,  25782,\n",
       "         26156,  27284,  27810,  28074,  28224,  29932,  30616,  31352,\n",
       "         31903,  32854,  34112,  34794,  35146,  35308,  35494,  36638,\n",
       "         37514,  37914,  38434,  39184,  39648,  39798,  40278,  40424,\n",
       "         41696,  42882,  43050,  44210,  45112,  45424,  46602,  46986,\n",
       "         48168,  48316,  49190,  49508,  50284,  50920,  52040,  52506,\n",
       "         52692,  53016,  55158,  55388,  55504,  58564,  59588,  59776,\n",
       "         60198,  60680,  61469,  63356,  63500,  65918,  67408,  68524,\n",
       "         70056,  72022,  72756,  73338,  74276,  75340,  77214,  77418,\n",
       "         78094,  78390,  79448,  79746,  80436,  80530,  82026,  82946,\n",
       "         83174,  84176,  84576,  86402,  86818,  87190,  87826,  88658,\n",
       "         88958,  89330,  89700,  89790,  89884,  90270,  90902,  91172,\n",
       "         91504,  92840,  93046,  93530,  94122,  95170,  95566,  96330,\n",
       "         96892,  97310,  97784,  98228,  98783,  99076,  99248,  99576,\n",
       "        100608, 100909, 101295, 102286, 103132, 103366, 103838, 104048,\n",
       "        104164, 104503, 105038, 108734, 111710, 112405, 114522],\n",
       "       dtype=int32)"
      ]
     },
     "execution_count": 14,
     "metadata": {},
     "output_type": "execute_result"
    }
   ],
   "source": [
    "recording_tint.neo_reader.get_spike_timestamps()"
   ]
  },
  {
   "cell_type": "code",
   "execution_count": 15,
   "id": "78fda392",
   "metadata": {},
   "outputs": [
    {
     "data": {
      "text/plain": [
       "memmap([[[  -7,    2,   18, ...,   33,   26,   15],\n",
       "         [  -6,   -2,    1, ...,   25,   25,   22],\n",
       "         [  -2,    3,   14, ...,   30,   24,   14],\n",
       "         [ -18,   -6,   13, ...,   22,   10,   -3]],\n",
       "\n",
       "        [[   4,   -3,  -11, ...,  -11,  -10,  -12],\n",
       "         [  28,   22,    8, ...,   -7,  -10,  -12],\n",
       "         [  22,   15,    1, ...,  -14,  -15,  -14],\n",
       "         [  40,   56,   57, ...,   -9,  -15,  -24]],\n",
       "\n",
       "        [[  15,    6,   -1, ...,  -40,  -25,   -8],\n",
       "         [  17,   14,    6, ...,  -29,  -29,  -25],\n",
       "         [  20,   15,    7, ...,  -34,  -24,  -11],\n",
       "         [   1,  -13,  -27, ...,  -53,  -31,   -5]],\n",
       "\n",
       "        ...,\n",
       "\n",
       "        [[ -40,  -71, -108, ...,  -36,  -57,  -71],\n",
       "         [ -35,  -39,  -43, ...,   14,    0,  -20],\n",
       "         [ -15,  -17,  -22, ...,    5,  -15,  -46],\n",
       "         [ -20,  -20,  -26, ...,   12,   -6,  -32]],\n",
       "\n",
       "        [[   7,    5,    7, ...,    9,    6,    1],\n",
       "         [  -2,   -7,  -12, ...,  -15,  -13,  -16],\n",
       "         [  42,   44,   33, ...,   -1,   -5,   -9],\n",
       "         [  38,   44,   46, ...,   -8,  -10,  -10]],\n",
       "\n",
       "        [[ -28,  -29,  -19, ...,   17,   21,   26],\n",
       "         [  20,    8,    4, ...,    0,  -11,  -16],\n",
       "         [ -40,  -48,  -37, ...,   -5,   -5,    1],\n",
       "         [ -21,   -8,   12, ...,   22,   31,   36]]], dtype=int8)"
      ]
     },
     "execution_count": 15,
     "metadata": {},
     "output_type": "execute_result"
    }
   ],
   "source": [
    "recording_tint.neo_reader.get_spike_raw_waveforms()"
   ]
  },
  {
   "cell_type": "code",
   "execution_count": 16,
   "id": "cafe71ad",
   "metadata": {},
   "outputs": [
    {
     "data": {
      "text/plain": [
       "array([('1a', '0', 48000., 'int16', 'uV', 0.00457764, 0., '0'),\n",
       "       ('1b', '1', 48000., 'int16', 'uV', 0.00457764, 0., '0'),\n",
       "       ('1c', '2', 48000., 'int16', 'uV', 0.00457764, 0., '0'),\n",
       "       ('1d', '3', 48000., 'int16', 'uV', 0.00457764, 0., '0'),\n",
       "       ('2a', '4', 48000., 'int16', 'uV', 0.00228882, 0., '0'),\n",
       "       ('2b', '5', 48000., 'int16', 'uV', 0.00228882, 0., '0'),\n",
       "       ('2c', '6', 48000., 'int16', 'uV', 0.00228882, 0., '0'),\n",
       "       ('2d', '7', 48000., 'int16', 'uV', 0.00228882, 0., '0'),\n",
       "       ('3a', '8', 48000., 'int16', 'uV', 0.00305176, 0., '0'),\n",
       "       ('3b', '9', 48000., 'int16', 'uV', 0.00305176, 0., '0'),\n",
       "       ('3c', '10', 48000., 'int16', 'uV', 0.00305176, 0., '0'),\n",
       "       ('3d', '11', 48000., 'int16', 'uV', 0.00305176, 0., '0'),\n",
       "       ('4a', '12', 48000., 'int16', 'uV', 0.00305176, 0., '0'),\n",
       "       ('4b', '13', 48000., 'int16', 'uV', 0.00305176, 0., '0'),\n",
       "       ('4c', '14', 48000., 'int16', 'uV', 0.00305176, 0., '0'),\n",
       "       ('4d', '15', 48000., 'int16', 'uV', 0.00305176, 0., '0')],\n",
       "      dtype=[('name', '<U64'), ('id', '<U64'), ('sampling_rate', '<f8'), ('dtype', '<U16'), ('units', '<U64'), ('gain', '<f8'), ('offset', '<f8'), ('stream_id', '<U64')])"
      ]
     },
     "execution_count": 16,
     "metadata": {},
     "output_type": "execute_result"
    }
   ],
   "source": [
    "recording_tint.neo_reader._get_signal_chan_header()"
   ]
  },
  {
   "cell_type": "code",
   "execution_count": 17,
   "id": "266b1afa",
   "metadata": {},
   "outputs": [
    {
     "data": {
      "text/plain": [
       "AxonaRawIO: /mnt/d/freelance-work/catalyst-neuro/hussaini-lab-to-nwb/sample_bin_to_tint_no_bin/axona_sample\n",
       "nb_block: 1\n",
       "nb_segment:  [1]\n",
       "signal_streams: [stream 0 (chans: 16)]\n",
       "signal_channels: [1a, 1b, 1c, 1d ... 4a , 4b , 4c , 4d]\n",
       "spike_channels: [tetrode 1, tetrode 2, tetrode 3, tetrode 4]\n",
       "event_channels: []"
      ]
     },
     "execution_count": 17,
     "metadata": {},
     "output_type": "execute_result"
    }
   ],
   "source": [
    "recording_tint.neo_reader"
   ]
  },
  {
   "cell_type": "code",
   "execution_count": null,
   "id": "f5ed2248",
   "metadata": {},
   "outputs": [],
   "source": []
  },
  {
   "cell_type": "code",
   "execution_count": 18,
   "id": "6abc9b9a",
   "metadata": {},
   "outputs": [
    {
     "data": {
      "text/plain": [
       "57600"
      ]
     },
     "execution_count": 18,
     "metadata": {},
     "output_type": "execute_result"
    }
   ],
   "source": [
    "recording_tint.get_num_frames()"
   ]
  },
  {
   "cell_type": "code",
   "execution_count": 19,
   "id": "cd14c5a6",
   "metadata": {},
   "outputs": [
    {
     "data": {
      "text/plain": [
       "48000"
      ]
     },
     "execution_count": 19,
     "metadata": {},
     "output_type": "execute_result"
    }
   ],
   "source": [
    "recording_tint.get_sampling_frequency()"
   ]
  },
  {
   "cell_type": "code",
   "execution_count": 20,
   "id": "b646cc11",
   "metadata": {},
   "outputs": [
    {
     "data": {
      "text/plain": [
       "0"
      ]
     },
     "execution_count": 20,
     "metadata": {},
     "output_type": "execute_result"
    }
   ],
   "source": [
    "recording_tint.neo_reader.get_signal_size(block_index=0, seg_index=0)"
   ]
  },
  {
   "cell_type": "code",
   "execution_count": 21,
   "id": "abb95f9a",
   "metadata": {},
   "outputs": [],
   "source": [
    "rec_dur = recording_tint.neo_reader.segment_t_stop(block_index=0, seg_index=0)\n",
    "num_total_samples = int(rec_dur * recording_tint.get_sampling_frequency())"
   ]
  },
  {
   "cell_type": "code",
   "execution_count": 22,
   "id": "41e3d7d9",
   "metadata": {},
   "outputs": [
    {
     "name": "stdout",
     "output_type": "stream",
     "text": [
      "channel ids: [0, 1, 2, 3, 4, 5, 6, 7, 8, 9, 10, 11, 12, 13, 14, 15]\n",
      "Channel property names: ['gain', 'group', 'name', 'offset']\n",
      "channel groups: [0 0 0 0 1 1 1 1 2 2 2 2 3 3 3 3]\n",
      "Channel data: [[0 0 0 ... 0 0 0]\n",
      " [0 0 0 ... 0 0 0]]\n"
     ]
    }
   ],
   "source": [
    "print('channel ids:', recording_tint.get_channel_ids())\n",
    "print('Channel property names:', recording_tint.get_channel_property_names(channel_id=0))\n",
    "print('channel groups:', recording_tint.get_channel_groups())\n",
    "print('Channel data:', recording_tint.get_traces(channel_ids=[0, 1], start_frame=0, end_frame=1000, return_scaled=False))"
   ]
  },
  {
   "cell_type": "code",
   "execution_count": 23,
   "id": "f765c3e6",
   "metadata": {},
   "outputs": [
    {
     "data": {
      "text/plain": [
       "<spikeextractors.extractors.axonaunitrecordingextractor.axonaunitrecordingextractor.AxonaUnitRecordingExtractor at 0x7ff9670053d0>"
      ]
     },
     "execution_count": 23,
     "metadata": {},
     "output_type": "execute_result"
    }
   ],
   "source": [
    "recording_tint"
   ]
  },
  {
   "cell_type": "code",
   "execution_count": 24,
   "id": "a17fbb61",
   "metadata": {},
   "outputs": [
    {
     "data": {
      "text/plain": [
       "AxonaRawIO: /mnt/d/freelance-work/catalyst-neuro/hussaini-lab-to-nwb/sample_bin_to_tint_no_bin/axona_sample\n",
       "nb_block: 1\n",
       "nb_segment:  [1]\n",
       "signal_streams: [stream 0 (chans: 16)]\n",
       "signal_channels: [1a, 1b, 1c, 1d ... 4a , 4b , 4c , 4d]\n",
       "spike_channels: [tetrode 1, tetrode 2, tetrode 3, tetrode 4]\n",
       "event_channels: []"
      ]
     },
     "execution_count": 24,
     "metadata": {},
     "output_type": "execute_result"
    }
   ],
   "source": [
    "recording_tint.neo_reader"
   ]
  },
  {
   "cell_type": "code",
   "execution_count": 33,
   "id": "f37118ba",
   "metadata": {},
   "outputs": [],
   "source": [
    "from neo import AxonaIO\n",
    "\n",
    "reader = AxonaIO(filename='/home/sbuergers/ephy_testing_data/axona/unit_files_after_spikesorting/axona_sample.set')"
   ]
  },
  {
   "cell_type": "code",
   "execution_count": 54,
   "id": "d316aa08",
   "metadata": {},
   "outputs": [
    {
     "data": {
      "text/plain": [
       "AxonaRawIO: /mnt/d/freelance-work/catalyst-neuro/hussaini-lab-to-nwb/sample_bin_to_tint_no_bin/axona_sample\n",
       "nb_block: 1\n",
       "nb_segment:  [1]\n",
       "signal_streams: [stream 0 (chans: 16)]\n",
       "signal_channels: [1a, 1b, 1c, 1d ... 4a , 4b , 4c , 4d]\n",
       "spike_channels: [tetrode 1, tetrode 2, tetrode 3, tetrode 4]\n",
       "event_channels: []"
      ]
     },
     "execution_count": 54,
     "metadata": {},
     "output_type": "execute_result"
    }
   ],
   "source": [
    "reader"
   ]
  },
  {
   "cell_type": "code",
   "execution_count": 56,
   "id": "74a00311",
   "metadata": {},
   "outputs": [
    {
     "data": {
      "text/plain": [
       "PosixPath('/mnt/d/freelance-work/catalyst-neuro/hussaini-lab-to-nwb/sample_bin_to_tint_no_bin/axona_sample.set')"
      ]
     },
     "execution_count": 56,
     "metadata": {},
     "output_type": "execute_result"
    }
   ],
   "source": [
    "Path(input_dirs[1], setfile_names[1])"
   ]
  },
  {
   "cell_type": "code",
   "execution_count": null,
   "id": "37922195",
   "metadata": {},
   "outputs": [],
   "source": []
  },
  {
   "cell_type": "code",
   "execution_count": 19,
   "id": "a30449c6",
   "metadata": {},
   "outputs": [
    {
     "name": "stdout",
     "output_type": "stream",
     "text": [
      "----------------------------------------------------\n",
      "                iteration 1 of 4                  \n",
      "----------------------------------------------------\n",
      "Input directory =  /mnt/d/freelance-work/catalyst-neuro/hussaini-lab-to-nwb/axona_raw\n",
      "Output directory =  /mnt/d/freelance-work/catalyst-neuro/hussaini-lab-to-nwb/axona_raw/conversion_to_tint\n",
      "Set-filename = axona_raw.set\n",
      "Conversion syntax 1\n",
      "Writing axona_raw.2\n",
      "Writing axona_raw.4\n",
      "Write unit labels for tetrode 1 to .cut and .clu\n",
      "Write unit labels for tetrode 3 to .cut and .clu\n",
      "Conversion syntax 2\n",
      "Writing axona_raw.2\n",
      "Writing axona_raw.4\n",
      "Write unit labels for tetrode 1 to .cut and .clu\n",
      "Write unit labels for tetrode 3 to .cut and .clu\n"
     ]
    },
    {
     "data": {
      "image/png": "[encoded data removed]",
      "text/plain": [
       "<Figure size 432x288 with 1 Axes>"
      ]
     },
     "metadata": {
      "needs_background": "light"
     },
     "output_type": "display_data"
    },
    {
     "data": {
      "image/png": "[encoded data removed]",
      "text/plain": [
       "<Figure size 432x288 with 1 Axes>"
      ]
     },
     "metadata": {
      "needs_background": "light"
     },
     "output_type": "display_data"
    }
   ],
   "source": [
    "import spiketoolkit as st\n",
    "\n",
    "sorting_auto_MS4 = st.curation.threshold_isi_violations(sorting, 0.01, 'greater', recording.get_num_frames())\n",
    "\n",
    "sorting_auto_MS4.get_unit_ids()\n",
    "\n",
    "i = 0\n",
    "setfile_name = setfile_names[0]\n",
    "input_dir = input_dirs[0]\n",
    "extractor_type = extractor_types[0]\n",
    "\n",
    "print('----------------------------------------------------')\n",
    "print('                iteration {} of {}                  '.format(i + 1, len(input_dirs)))\n",
    "print('----------------------------------------------------')\n",
    "output_dir = input_dir / 'conversion_to_tint'\n",
    "\n",
    "if extractor_type == 'AxonaUnitRecordingExtractor':\n",
    "    recording = AxonaUnitRecordingExtractor(filename=Path(input_dir, setfile_name), noise_std=0)\n",
    "else:\n",
    "    recording = AxonaRecordingExtractor(filename=Path(input_dir, setfile_name))\n",
    "\n",
    "test_tint_conversion(recording, sorting_auto_MS4, input_dir, output_dir, setfile_name)"
   ]
  },
  {
   "cell_type": "code",
   "execution_count": null,
   "id": "16b4fef8",
   "metadata": {},
   "outputs": [],
   "source": []
  },
  {
   "cell_type": "code",
   "execution_count": null,
   "id": "ab226a38",
   "metadata": {},
   "outputs": [],
   "source": []
  },
  {
   "cell_type": "code",
   "execution_count": 31,
   "id": "1d1f6024",
   "metadata": {},
   "outputs": [],
   "source": [
    "input_dir = Path('/mnt/d/freelance-work/catalyst-neuro/hussaini-lab-to-nwb/example_data_raw')\n",
    "output_dir = Path('/mnt/d/freelance-work/catalyst-neuro/hussaini-lab-to-nwb/example_data_raw/conversion_to_tint')\n",
    "setfile_name = '20201004_Raw.set'"
   ]
  },
  {
   "cell_type": "code",
   "execution_count": 32,
   "id": "cc93a773",
   "metadata": {},
   "outputs": [],
   "source": [
    "input_dir = Path('/mnt/d/freelance-work/catalyst-neuro/hussaini-lab-to-nwb/axona_raw')\n",
    "output_dir = Path('/mnt/d/freelance-work/catalyst-neuro/hussaini-lab-to-nwb/axona_raw/conversion_to_tint')\n",
    "setfile_name = 'axona_raw.set'"
   ]
  },
  {
   "cell_type": "code",
   "execution_count": 28,
   "id": "d0325e9f",
   "metadata": {},
   "outputs": [],
   "source": [
    "input_dir = Path('/mnt/d/freelance-work/catalyst-neuro/hussaini-lab-to-nwb/raw_data_210621')\n",
    "output_dir = Path('/mnt/d/freelance-work/catalyst-neuro/hussaini-lab-to-nwb/raw_data_210621/conversion_to_tint')\n",
    "setfile_name = '20201004_Raw.set'"
   ]
  },
  {
   "cell_type": "code",
   "execution_count": 77,
   "id": "414e7d37",
   "metadata": {},
   "outputs": [],
   "source": [
    "input_dir = Path('/mnt/d/freelance-work/catalyst-neuro/hussaini-lab-to-nwb/example_data_raw/data_5s')\n",
    "output_dir = Path('/mnt/d/freelance-work/catalyst-neuro/hussaini-lab-to-nwb/example_data_raw/data_5s/conversion_to_tint')\n",
    "setfile_name = 'axona_raw_5s.set'"
   ]
  },
  {
   "cell_type": "code",
   "execution_count": 29,
   "id": "ff0e3464",
   "metadata": {},
   "outputs": [],
   "source": [
    "recording = se.AxonaRecordingExtractor(filename=input_dir / setfile_name)\n",
    "sorting = se.NwbSortingExtractor(input_dir / 'nwb' / 'axona_se_MS4.nwb', sampling_frequency=48000)"
   ]
  },
  {
   "cell_type": "code",
   "execution_count": 33,
   "id": "2e1297a2",
   "metadata": {},
   "outputs": [],
   "source": [
    "sorting_TRI = se.MdaSortingExtractor( \n",
    "    file_path=os.path.join(input_dir, 'tridesclous.mda'),\n",
    "    sampling_frequency=48000\n",
    ")"
   ]
  },
  {
   "cell_type": "code",
   "execution_count": 34,
   "id": "e4f51149",
   "metadata": {},
   "outputs": [
    {
     "name": "stdout",
     "output_type": "stream",
     "text": [
      "Input directory = /mnt/d/freelance-work/catalyst-neuro/hussaini-lab-to-nwb/example_data_raw\n",
      "Output directory = /mnt/d/freelance-work/catalyst-neuro/hussaini-lab-to-nwb/example_data_raw/conversion_to_tint\n",
      "Set-filename = 20201004_Raw.set\n",
      "Conversion syntax 1\n"
     ]
    },
    {
     "ename": "AssertionError",
     "evalue": "Unit group property name and channel group property name have to match",
     "output_type": "error",
     "traceback": [
      "\u001b[0;31m---------------------------------------------------------------------------\u001b[0m",
      "\u001b[0;31mAssertionError\u001b[0m                            Traceback (most recent call last)",
      "\u001b[0;32m<ipython-input-34-646362373835>\u001b[0m in \u001b[0;36m<module>\u001b[0;34m\u001b[0m\n\u001b[1;32m     13\u001b[0m \u001b[0mprint\u001b[0m\u001b[0;34m(\u001b[0m\u001b[0;34m'Conversion syntax 1'\u001b[0m\u001b[0;34m)\u001b[0m\u001b[0;34m\u001b[0m\u001b[0;34m\u001b[0m\u001b[0m\n\u001b[1;32m     14\u001b[0m \u001b[0mtint_converter\u001b[0m \u001b[0;34m=\u001b[0m \u001b[0mTintConverter\u001b[0m\u001b[0;34m(\u001b[0m\u001b[0mrecording\u001b[0m\u001b[0;34m,\u001b[0m \u001b[0msorting\u001b[0m\u001b[0;34m,\u001b[0m \u001b[0mset_file_to_tint\u001b[0m\u001b[0;34m)\u001b[0m\u001b[0;34m\u001b[0m\u001b[0;34m\u001b[0m\u001b[0m\n\u001b[0;32m---> 15\u001b[0;31m \u001b[0mtint_converter\u001b[0m\u001b[0;34m.\u001b[0m\u001b[0mwrite_to_tint\u001b[0m\u001b[0;34m(\u001b[0m\u001b[0;34m)\u001b[0m\u001b[0;34m\u001b[0m\u001b[0;34m\u001b[0m\u001b[0m\n\u001b[0m\u001b[1;32m     16\u001b[0m \u001b[0;34m\u001b[0m\u001b[0m\n\u001b[1;32m     17\u001b[0m \u001b[0mprint\u001b[0m\u001b[0;34m(\u001b[0m\u001b[0;34m'Conversion syntax 2'\u001b[0m\u001b[0;34m)\u001b[0m\u001b[0;34m\u001b[0m\u001b[0;34m\u001b[0m\u001b[0m\n",
      "\u001b[0;32m~/spikeinterface/hussaini-lab-to-nwb/hussaini_lab_to_nwb/tintconverter.py\u001b[0m in \u001b[0;36mwrite_to_tint\u001b[0;34m(self, recording, sorting, set_file)\u001b[0m\n\u001b[1;32m     91\u001b[0m             \u001b[0mself\u001b[0m\u001b[0;34m.\u001b[0m\u001b[0mset_file\u001b[0m \u001b[0;34m=\u001b[0m \u001b[0mset_file\u001b[0m\u001b[0;34m\u001b[0m\u001b[0;34m\u001b[0m\u001b[0m\n\u001b[1;32m     92\u001b[0m \u001b[0;34m\u001b[0m\u001b[0m\n\u001b[0;32m---> 93\u001b[0;31m         \u001b[0massert_group_names_match\u001b[0m\u001b[0;34m(\u001b[0m\u001b[0mself\u001b[0m\u001b[0;34m.\u001b[0m\u001b[0msorting\u001b[0m\u001b[0;34m,\u001b[0m \u001b[0mself\u001b[0m\u001b[0;34m.\u001b[0m\u001b[0mrecording\u001b[0m\u001b[0;34m)\u001b[0m\u001b[0;34m\u001b[0m\u001b[0;34m\u001b[0m\u001b[0m\n\u001b[0m\u001b[1;32m     94\u001b[0m \u001b[0;34m\u001b[0m\u001b[0m\n\u001b[1;32m     95\u001b[0m         \u001b[0;31m# writes to .X files for each tetrode\u001b[0m\u001b[0;34m\u001b[0m\u001b[0;34m\u001b[0m\u001b[0;34m\u001b[0m\u001b[0m\n",
      "\u001b[0;32m~/spikeinterface/hussaini-lab-to-nwb/hussaini_lab_to_nwb/tint_conversion/utils.py\u001b[0m in \u001b[0;36massert_group_names_match\u001b[0;34m(sorting, recording)\u001b[0m\n\u001b[1;32m     46\u001b[0m         \u001b[0mchannel_group_property\u001b[0m \u001b[0;34m=\u001b[0m \u001b[0;34m[\u001b[0m\u001b[0mproperty_name\u001b[0m \u001b[0;32mfor\u001b[0m \u001b[0mproperty_name\u001b[0m \u001b[0;32min\u001b[0m \u001b[0mchannel_property_names\u001b[0m \u001b[0;32mif\u001b[0m \u001b[0;34m'group'\u001b[0m \u001b[0;32min\u001b[0m \u001b[0mproperty_name\u001b[0m\u001b[0;34m]\u001b[0m\u001b[0;34m\u001b[0m\u001b[0;34m\u001b[0m\u001b[0m\n\u001b[1;32m     47\u001b[0m \u001b[0;34m\u001b[0m\u001b[0m\n\u001b[0;32m---> 48\u001b[0;31m         \u001b[0;32massert\u001b[0m \u001b[0munit_group_property\u001b[0m \u001b[0;34m==\u001b[0m \u001b[0mchannel_group_property\u001b[0m\u001b[0;34m,\u001b[0m\u001b[0;31m \u001b[0m\u001b[0;31m\\\u001b[0m\u001b[0;34m\u001b[0m\u001b[0;34m\u001b[0m\u001b[0m\n\u001b[0m\u001b[1;32m     49\u001b[0m             \u001b[0;34m'Unit group property name and channel group property name have to match'\u001b[0m\u001b[0;34m\u001b[0m\u001b[0;34m\u001b[0m\u001b[0m\n",
      "\u001b[0;31mAssertionError\u001b[0m: Unit group property name and channel group property name have to match"
     ]
    }
   ],
   "source": [
    "sorting = sorting_TRI\n",
    "\n",
    "print('Input directory =', input_dir)\n",
    "print('Output directory =', output_dir)\n",
    "print('Set-filename =', setfile_name)\n",
    "\n",
    "if input_dir == output_dir:\n",
    "    raise Exception('Please provide a different `output_dir` than `input_dir`.')\n",
    "\n",
    "set_file = Path(input_dir, setfile_name)\n",
    "set_file_to_tint = Path(output_dir, setfile_name)\n",
    "\n",
    "print('Conversion syntax 1')\n",
    "tint_converter = TintConverter(recording, sorting, set_file_to_tint)\n",
    "tint_converter.write_to_tint()\n",
    "\n",
    "print('Conversion syntax 2')\n",
    "tint_converter = TintConverter()\n",
    "tint_converter.write_to_tint(recording, sorting, set_file_to_tint)\n"
   ]
  },
  {
   "cell_type": "code",
   "execution_count": 25,
   "id": "b2f1bd10",
   "metadata": {},
   "outputs": [
    {
     "data": {
      "text/plain": [
       "PosixPath('/mnt/d/freelance-work/catalyst-neuro/hussaini-lab-to-nwb/axona_raw')"
      ]
     },
     "execution_count": 25,
     "metadata": {},
     "output_type": "execute_result"
    }
   ],
   "source": [
    "input_dir"
   ]
  },
  {
   "cell_type": "code",
   "execution_count": 54,
   "id": "94c7a342",
   "metadata": {},
   "outputs": [],
   "source": [
    "from hussaini_lab_to_nwb.tint_conversion.export_spike_waveforms import parse_generic_header\n",
    "from hussaini_lab_to_nwb.tint_conversion.utils import get_group_property_name\n",
    "\n",
    "header = parse_generic_header(set_file)\n",
    "\n",
    "sampling_rate = recording.get_sampling_frequency()\n",
    "samples_before = int(header['pretrigSamps'])\n",
    "samples_after = int(header['spikeLockout'])\n",
    "\n",
    "ms_before = samples_before / (sampling_rate / 1000) + 0.001\n",
    "ms_after = samples_after / (sampling_rate / 1000) + 0.001\n",
    "\n",
    "group_property_name = get_group_property_name(sorting)"
   ]
  },
  {
   "cell_type": "code",
   "execution_count": 55,
   "id": "fc351b30",
   "metadata": {},
   "outputs": [
    {
     "name": "stdout",
     "output_type": "stream",
     "text": [
      "[3, 9, 12, 14, 15, 17, 18, 20]\n"
     ]
    }
   ],
   "source": [
    "unit_ids = sorting.get_unit_ids()\n",
    "print(unit_ids)"
   ]
  },
  {
   "cell_type": "code",
   "execution_count": 67,
   "id": "ef7ec041",
   "metadata": {},
   "outputs": [
    {
     "data": {
      "text/plain": [
       "spikeextractors.extractors.neoextractors.axonaextractor.AxonaRecordingExtractor"
      ]
     },
     "execution_count": 67,
     "metadata": {},
     "output_type": "execute_result"
    }
   ],
   "source": [
    "type(recording)"
   ]
  },
  {
   "cell_type": "code",
   "execution_count": 65,
   "id": "1ca8a1fe",
   "metadata": {},
   "outputs": [],
   "source": [
    "max_spikes_per_unit = 999999\n",
    "n_channels = 16\n",
    "dtype = recording.get_dtype()\n",
    "num_frames = recording.get_num_frames()\n",
    "fs = recording.get_sampling_frequency()\n",
    "n_pad = [int(ms_before * fs / 1000), int(ms_after * fs / 1000)]\n",
    "memmap = True\n",
    "\n",
    "all_unit_waveforms = []\n",
    "for unit_id in unit_ids:\n",
    "    fname = f'waveforms_{unit_id}.raw'\n",
    "    len_wf = len(sorting.get_unit_spike_train(unit_id))\n",
    "    if max_spikes_per_unit is not None:\n",
    "        if len_wf > max_spikes_per_unit:\n",
    "            len_wf = max_spikes_per_unit\n",
    "    shape = (len_wf, n_channels, sum(n_pad))\n",
    "    arr = sorting.allocate_array(shape=shape, dtype=dtype, name=fname, memmap=memmap)\n",
    "    all_unit_waveforms.append(arr)"
   ]
  },
  {
   "cell_type": "code",
   "execution_count": 70,
   "id": "cd0ff68a",
   "metadata": {},
   "outputs": [
    {
     "data": {
      "text/plain": [
       "memmap([[[0., 0., 0., ..., 0., 0., 0.],\n",
       "         [0., 0., 0., ..., 0., 0., 0.],\n",
       "         [0., 0., 0., ..., 0., 0., 0.],\n",
       "         ...,\n",
       "         [0., 0., 0., ..., 0., 0., 0.],\n",
       "         [0., 0., 0., ..., 0., 0., 0.],\n",
       "         [0., 0., 0., ..., 0., 0., 0.]],\n",
       "\n",
       "        [[0., 0., 0., ..., 0., 0., 0.],\n",
       "         [0., 0., 0., ..., 0., 0., 0.],\n",
       "         [0., 0., 0., ..., 0., 0., 0.],\n",
       "         ...,\n",
       "         [0., 0., 0., ..., 0., 0., 0.],\n",
       "         [0., 0., 0., ..., 0., 0., 0.],\n",
       "         [0., 0., 0., ..., 0., 0., 0.]],\n",
       "\n",
       "        [[0., 0., 0., ..., 0., 0., 0.],\n",
       "         [0., 0., 0., ..., 0., 0., 0.],\n",
       "         [0., 0., 0., ..., 0., 0., 0.],\n",
       "         ...,\n",
       "         [0., 0., 0., ..., 0., 0., 0.],\n",
       "         [0., 0., 0., ..., 0., 0., 0.],\n",
       "         [0., 0., 0., ..., 0., 0., 0.]],\n",
       "\n",
       "        ...,\n",
       "\n",
       "        [[0., 0., 0., ..., 0., 0., 0.],\n",
       "         [0., 0., 0., ..., 0., 0., 0.],\n",
       "         [0., 0., 0., ..., 0., 0., 0.],\n",
       "         ...,\n",
       "         [0., 0., 0., ..., 0., 0., 0.],\n",
       "         [0., 0., 0., ..., 0., 0., 0.],\n",
       "         [0., 0., 0., ..., 0., 0., 0.]],\n",
       "\n",
       "        [[0., 0., 0., ..., 0., 0., 0.],\n",
       "         [0., 0., 0., ..., 0., 0., 0.],\n",
       "         [0., 0., 0., ..., 0., 0., 0.],\n",
       "         ...,\n",
       "         [0., 0., 0., ..., 0., 0., 0.],\n",
       "         [0., 0., 0., ..., 0., 0., 0.],\n",
       "         [0., 0., 0., ..., 0., 0., 0.]],\n",
       "\n",
       "        [[0., 0., 0., ..., 0., 0., 0.],\n",
       "         [0., 0., 0., ..., 0., 0., 0.],\n",
       "         [0., 0., 0., ..., 0., 0., 0.],\n",
       "         ...,\n",
       "         [0., 0., 0., ..., 0., 0., 0.],\n",
       "         [0., 0., 0., ..., 0., 0., 0.],\n",
       "         [0., 0., 0., ..., 0., 0., 0.]]], dtype=float32)"
      ]
     },
     "execution_count": 70,
     "metadata": {},
     "output_type": "execute_result"
    }
   ],
   "source": [
    "all_unit_waveforms[0]"
   ]
  },
  {
   "cell_type": "code",
   "execution_count": 74,
   "id": "8c684286",
   "metadata": {},
   "outputs": [
    {
     "ename": "FileNotFoundError",
     "evalue": "[Errno 2] No such file or directory: '/tmp/tmp9mo3rpcu/waveforms_3.raw'",
     "output_type": "error",
     "traceback": [
      "\u001b[0;31m---------------------------------------------------------------------------\u001b[0m",
      "\u001b[0;31mFileNotFoundError\u001b[0m                         Traceback (most recent call last)",
      "\u001b[0;32m<ipython-input-74-f50739acb5d3>\u001b[0m in \u001b[0;36m<module>\u001b[0;34m\u001b[0m\n\u001b[1;32m      6\u001b[0m     \u001b[0mwf\u001b[0m\u001b[0;34m.\u001b[0m\u001b[0m_mmap\u001b[0m\u001b[0;34m.\u001b[0m\u001b[0mclose\u001b[0m\u001b[0;34m(\u001b[0m\u001b[0;34m)\u001b[0m\u001b[0;34m\u001b[0m\u001b[0;34m\u001b[0m\u001b[0m\n\u001b[1;32m      7\u001b[0m \u001b[0;32mdel\u001b[0m \u001b[0mwf\u001b[0m\u001b[0;34m\u001b[0m\u001b[0;34m\u001b[0m\u001b[0m\n\u001b[0;32m----> 8\u001b[0;31m \u001b[0mPath\u001b[0m\u001b[0;34m(\u001b[0m\u001b[0mmemmap_file\u001b[0m\u001b[0;34m)\u001b[0m\u001b[0;34m.\u001b[0m\u001b[0munlink\u001b[0m\u001b[0;34m(\u001b[0m\u001b[0;34m)\u001b[0m\u001b[0;34m\u001b[0m\u001b[0;34m\u001b[0m\u001b[0m\n\u001b[0m\u001b[1;32m      9\u001b[0m memmap_array = np.memmap(memmap_file, mode='w+', shape=waveform.shape,\n\u001b[1;32m     10\u001b[0m                          dtype=waveform.dtype)\n",
      "\u001b[0;32m~/conda/lib/python3.8/pathlib.py\u001b[0m in \u001b[0;36munlink\u001b[0;34m(self, missing_ok)\u001b[0m\n\u001b[1;32m   1319\u001b[0m             \u001b[0mself\u001b[0m\u001b[0;34m.\u001b[0m\u001b[0m_raise_closed\u001b[0m\u001b[0;34m(\u001b[0m\u001b[0;34m)\u001b[0m\u001b[0;34m\u001b[0m\u001b[0;34m\u001b[0m\u001b[0m\n\u001b[1;32m   1320\u001b[0m         \u001b[0;32mtry\u001b[0m\u001b[0;34m:\u001b[0m\u001b[0;34m\u001b[0m\u001b[0;34m\u001b[0m\u001b[0m\n\u001b[0;32m-> 1321\u001b[0;31m             \u001b[0mself\u001b[0m\u001b[0;34m.\u001b[0m\u001b[0m_accessor\u001b[0m\u001b[0;34m.\u001b[0m\u001b[0munlink\u001b[0m\u001b[0;34m(\u001b[0m\u001b[0mself\u001b[0m\u001b[0;34m)\u001b[0m\u001b[0;34m\u001b[0m\u001b[0;34m\u001b[0m\u001b[0m\n\u001b[0m\u001b[1;32m   1322\u001b[0m         \u001b[0;32mexcept\u001b[0m \u001b[0mFileNotFoundError\u001b[0m\u001b[0;34m:\u001b[0m\u001b[0;34m\u001b[0m\u001b[0;34m\u001b[0m\u001b[0m\n\u001b[1;32m   1323\u001b[0m             \u001b[0;32mif\u001b[0m \u001b[0;32mnot\u001b[0m \u001b[0mmissing_ok\u001b[0m\u001b[0;34m:\u001b[0m\u001b[0;34m\u001b[0m\u001b[0;34m\u001b[0m\u001b[0m\n",
      "\u001b[0;31mFileNotFoundError\u001b[0m: [Errno 2] No such file or directory: '/tmp/tmp9mo3rpcu/waveforms_3.raw'"
     ]
    }
   ],
   "source": [
    "wf = all_unit_waveforms[0]\n",
    "waveform = wf[:, :]\n",
    "\n",
    "memmap_file = wf.filename\n",
    "if not wf._mmap.closed:\n",
    "    wf._mmap.close()\n",
    "del wf\n",
    "Path(memmap_file).unlink()\n",
    "memmap_array = np.memmap(memmap_file, mode='w+', shape=waveform.shape,\n",
    "                         dtype=waveform.dtype)\n",
    "memmap_array[:] = waveform"
   ]
  },
  {
   "cell_type": "code",
   "execution_count": 58,
   "id": "400a0a3e",
   "metadata": {},
   "outputs": [
    {
     "ename": "ValueError",
     "evalue": "cannot mmap an empty file",
     "output_type": "error",
     "traceback": [
      "\u001b[0;31m---------------------------------------------------------------------------\u001b[0m",
      "\u001b[0;31mValueError\u001b[0m                                Traceback (most recent call last)",
      "\u001b[0;32m<ipython-input-58-fd53e7eb6058>\u001b[0m in \u001b[0;36m<module>\u001b[0;34m\u001b[0m\n\u001b[0;32m----> 1\u001b[0;31m waveforms = st.postprocessing.get_unit_waveforms(\n\u001b[0m\u001b[1;32m      2\u001b[0m     \u001b[0mrecording\u001b[0m\u001b[0;34m,\u001b[0m\u001b[0;34m\u001b[0m\u001b[0;34m\u001b[0m\u001b[0m\n\u001b[1;32m      3\u001b[0m     \u001b[0msorting\u001b[0m\u001b[0;34m,\u001b[0m\u001b[0;34m\u001b[0m\u001b[0;34m\u001b[0m\u001b[0m\n\u001b[1;32m      4\u001b[0m     \u001b[0munit_ids\u001b[0m\u001b[0;34m=\u001b[0m\u001b[0;34m[\u001b[0m\u001b[0;36m3\u001b[0m\u001b[0;34m]\u001b[0m\u001b[0;34m,\u001b[0m\u001b[0;34m\u001b[0m\u001b[0;34m\u001b[0m\u001b[0m\n\u001b[1;32m      5\u001b[0m     \u001b[0mmax_spikes_per_unit\u001b[0m\u001b[0;34m=\u001b[0m\u001b[0;32mNone\u001b[0m\u001b[0;34m,\u001b[0m\u001b[0;34m\u001b[0m\u001b[0;34m\u001b[0m\u001b[0m\n",
      "\u001b[0;32m~/spikeinterface/spiketoolkit/spiketoolkit/postprocessing/postprocessing_tools.py\u001b[0m in \u001b[0;36mget_unit_waveforms\u001b[0;34m(recording, sorting, unit_ids, channel_ids, return_idxs, chunk_size, chunk_mb, **kwargs)\u001b[0m\n\u001b[1;32m    340\u001b[0m                     \u001b[0;32mdel\u001b[0m \u001b[0mwf\u001b[0m\u001b[0;34m\u001b[0m\u001b[0;34m\u001b[0m\u001b[0m\n\u001b[1;32m    341\u001b[0m                     \u001b[0mPath\u001b[0m\u001b[0;34m(\u001b[0m\u001b[0mmemmap_file\u001b[0m\u001b[0;34m)\u001b[0m\u001b[0;34m.\u001b[0m\u001b[0munlink\u001b[0m\u001b[0;34m(\u001b[0m\u001b[0;34m)\u001b[0m\u001b[0;34m\u001b[0m\u001b[0;34m\u001b[0m\u001b[0m\n\u001b[0;32m--> 342\u001b[0;31m                     memmap_array = np.memmap(memmap_file, mode='w+', shape=waveform.shape,\n\u001b[0m\u001b[1;32m    343\u001b[0m                                              dtype=waveform.dtype)\n\u001b[1;32m    344\u001b[0m                     \u001b[0mmemmap_array\u001b[0m\u001b[0;34m[\u001b[0m\u001b[0;34m:\u001b[0m\u001b[0;34m]\u001b[0m \u001b[0;34m=\u001b[0m \u001b[0mwaveform\u001b[0m\u001b[0;34m\u001b[0m\u001b[0;34m\u001b[0m\u001b[0m\n",
      "\u001b[0;32m~/spikeinterface/hussaini_test_pipeline/venv/lib/python3.8/site-packages/numpy/core/memmap.py\u001b[0m in \u001b[0;36m__new__\u001b[0;34m(subtype, filename, dtype, mode, offset, shape, order)\u001b[0m\n\u001b[1;32m    265\u001b[0m             \u001b[0mbytes\u001b[0m \u001b[0;34m-=\u001b[0m \u001b[0mstart\u001b[0m\u001b[0;34m\u001b[0m\u001b[0;34m\u001b[0m\u001b[0m\n\u001b[1;32m    266\u001b[0m             \u001b[0marray_offset\u001b[0m \u001b[0;34m=\u001b[0m \u001b[0moffset\u001b[0m \u001b[0;34m-\u001b[0m \u001b[0mstart\u001b[0m\u001b[0;34m\u001b[0m\u001b[0;34m\u001b[0m\u001b[0m\n\u001b[0;32m--> 267\u001b[0;31m             \u001b[0mmm\u001b[0m \u001b[0;34m=\u001b[0m \u001b[0mmmap\u001b[0m\u001b[0;34m.\u001b[0m\u001b[0mmmap\u001b[0m\u001b[0;34m(\u001b[0m\u001b[0mfid\u001b[0m\u001b[0;34m.\u001b[0m\u001b[0mfileno\u001b[0m\u001b[0;34m(\u001b[0m\u001b[0;34m)\u001b[0m\u001b[0;34m,\u001b[0m \u001b[0mbytes\u001b[0m\u001b[0;34m,\u001b[0m \u001b[0maccess\u001b[0m\u001b[0;34m=\u001b[0m\u001b[0macc\u001b[0m\u001b[0;34m,\u001b[0m \u001b[0moffset\u001b[0m\u001b[0;34m=\u001b[0m\u001b[0mstart\u001b[0m\u001b[0;34m)\u001b[0m\u001b[0;34m\u001b[0m\u001b[0;34m\u001b[0m\u001b[0m\n\u001b[0m\u001b[1;32m    268\u001b[0m \u001b[0;34m\u001b[0m\u001b[0m\n\u001b[1;32m    269\u001b[0m             self = ndarray.__new__(subtype, shape, dtype=descr, buffer=mm,\n",
      "\u001b[0;31mValueError\u001b[0m: cannot mmap an empty file"
     ]
    }
   ],
   "source": [
    "waveforms = st.postprocessing.get_unit_waveforms(\n",
    "    recording,\n",
    "    sorting,\n",
    "    unit_ids=[3],\n",
    "    max_spikes_per_unit=None,\n",
    "    grouping_property=group_property_name,\n",
    "    recompute_info=True,\n",
    "    ms_before=ms_before,\n",
    "    ms_after=ms_after,\n",
    "    return_idxs=False,\n",
    "    return_scaled=False,\n",
    "    dtype=np.int8\n",
    ")"
   ]
  },
  {
   "cell_type": "code",
   "execution_count": null,
   "id": "ca547dde",
   "metadata": {},
   "outputs": [],
   "source": []
  },
  {
   "cell_type": "code",
   "execution_count": null,
   "id": "fbb6caa5",
   "metadata": {},
   "outputs": [],
   "source": []
  },
  {
   "cell_type": "code",
   "execution_count": null,
   "id": "02983b55",
   "metadata": {},
   "outputs": [],
   "source": []
  },
  {
   "cell_type": "code",
   "execution_count": null,
   "id": "2e0d28a0",
   "metadata": {},
   "outputs": [],
   "source": []
  },
  {
   "cell_type": "code",
   "execution_count": null,
   "id": "36e9f0c9",
   "metadata": {},
   "outputs": [],
   "source": []
  },
  {
   "cell_type": "markdown",
   "id": "a8f0cec2",
   "metadata": {},
   "source": [
    "### Test converted data read back with `AxonaIO`"
   ]
  },
  {
   "cell_type": "code",
   "execution_count": 64,
   "id": "b572820d",
   "metadata": {},
   "outputs": [
    {
     "data": {
      "text/plain": [
       "AxonaIO: /mnt/d/freelance-work/catalyst-neuro/hussaini-lab-to-nwb/sample_bin_to_tint_no_bin/conversion_to_tint/axona_sample.set\n",
       "nb_block: 1\n",
       "nb_segment:  [1]\n",
       "signal_streams: []\n",
       "signal_channels: []\n",
       "spike_channels: [tetrode 1, tetrode 2, tetrode 3, tetrode 4]\n",
       "event_channels: []"
      ]
     },
     "execution_count": 64,
     "metadata": {},
     "output_type": "execute_result"
    }
   ],
   "source": [
    "reader2 = AxonaIO(filename=Path(input_dirs[1], setfile_names[1]))\n",
    "reader2 = AxonaIO(filename=Path(input_dirs[1] / 'conversion_to_tint', setfile_names[1]))\n",
    "\n",
    "reader2"
   ]
  },
  {
   "cell_type": "code",
   "execution_count": 67,
   "id": "b912a2f5",
   "metadata": {},
   "outputs": [],
   "source": [
    "reader = reader2"
   ]
  },
  {
   "cell_type": "code",
   "execution_count": 76,
   "id": "4c3a4ff1",
   "metadata": {},
   "outputs": [
    {
     "data": {
      "text/plain": [
       "memmap([   944,   1612,   3158,   3276,   3646,   3708,   4088,   4510,\n",
       "          4690,   5284,   5858,   6264,   7738,   7892,   8212,   9356,\n",
       "         10064,  11578,  11620,  11964,  12112,  12484,  12528,  12820,\n",
       "         13398,  13422,  13450,  13876,  14154,  14512,  14978,  15382,\n",
       "         16118,  16458,  19556,  19598,  20444,  20478,  21444,  22122,\n",
       "         22206,  23892,  23922,  25406,  25538,  25786,  26172,  27296,\n",
       "         27840,  28146,  28274,  28966,  29944,  30014,  30604,  30686,\n",
       "         31358,  31422,  31926,  32918,  33164,  33512,  34140,  34806,\n",
       "         35322,  35502,  36632,  37502,  37578,  37928,  37972,  38442,\n",
       "         39194,  39820,  40284,  40440,  41708,  44192,  45128,  45290,\n",
       "         45440,  46606,  48174,  48370,  49176,  49210,  49540,  49576,\n",
       "         50298,  50948,  52570,  52764,  53058,  54062,  55412,  55546,\n",
       "         58114,  58586,  59658,  59768,  60212,  60252,  60724,  61478,\n",
       "         63548,  65966,  67418,  67450,  68318,  70066,  72790,  72822,\n",
       "         73326,  73352,  74292,  74328,  75324,  75350,  76566,  77224,\n",
       "         78104,  78374,  79820,  80574,  81326,  82096,  82938,  82980,\n",
       "         83204,  84244,  84606,  85358,  86396,  86876,  87178,  87202,\n",
       "         88966,  89004,  89384,  89748,  89800,  89946,  90294,  91192,\n",
       "         91232,  91494,  91560,  92856,  93062,  94140,  94606,  95184,\n",
       "         95592,  96346,  96948,  98286,  98772,  98990,  99084,  99314,\n",
       "         99596, 100600, 100948, 101308, 103170, 103420, 103822, 104062,\n",
       "        104494, 105048, 111696, 112432, 114504], dtype=int32)"
      ]
     },
     "execution_count": 76,
     "metadata": {},
     "output_type": "execute_result"
    }
   ],
   "source": [
    "reader._raw_spikes[0]['spiketimes'][::4]"
   ]
  },
  {
   "cell_type": "code",
   "execution_count": 78,
   "id": "b255a9b6",
   "metadata": {},
   "outputs": [
    {
     "data": {
      "text/plain": [
       "memmap([0.00195833, 0.011875  , 0.01222917, 0.01258333, 0.054875  ,\n",
       "        0.06002083, 0.06041667, 0.080875  , 0.08147917, 0.0835    ,\n",
       "        0.08672917, 0.0873125 , 0.09735417, 0.10685417, 0.10902083,\n",
       "        0.11072917, 0.11114583, 0.11679167, 0.1185    , 0.1189375 ,\n",
       "        0.1205    , 0.124625  , 0.1274375 , 0.13354167, 0.13970833,\n",
       "        0.14454167, 0.14714583, 0.15116667, 0.17127083, 0.19408333,\n",
       "        0.19445833, 0.20204167, 0.21283333, 0.22339583, 0.2490625 ,\n",
       "        0.25022917, 0.25104167, 0.26854167, 0.268875  , 0.29858333,\n",
       "        0.29895833, 0.29925   , 0.30202083, 0.308125  , 0.3118125 ,\n",
       "        0.31504167, 0.320875  , 0.32654167, 0.3271875 , 0.32766667,\n",
       "        0.32991667, 0.3303125 , 0.33733333, 0.34554167, 0.3490625 ,\n",
       "        0.3539375 , 0.36241667, 0.36335417, 0.3638125 , 0.36410417,\n",
       "        0.36514583, 0.36779167, 0.36970833, 0.36995833, 0.37658333,\n",
       "        0.38047917, 0.38175   , 0.382     , 0.39075   , 0.39722917,\n",
       "        0.3975625 , 0.4081875 , 0.413     , 0.41466667, 0.41527083,\n",
       "        0.41941667, 0.41972917, 0.4200625 , 0.42033333, 0.42125   ,\n",
       "        0.42183333, 0.44858333, 0.45091667, 0.46047917, 0.47022917,\n",
       "        0.47125   , 0.471875  , 0.47314583, 0.4799375 , 0.48110417,\n",
       "        0.48145833, 0.4819375 , 0.53039583, 0.542125  , 0.54891667,\n",
       "        0.55402083, 0.55908333, 0.5595    , 0.578125  , 0.61002083,\n",
       "        0.62177083, 0.62210417, 0.62583333, 0.62722917, 0.629875  ,\n",
       "        0.6614375 , 0.6718125 , 0.67210417, 0.6745    , 0.67525   ,\n",
       "        0.74197917, 0.7424375 , 0.7639375 , 0.773625  , 0.78479167,\n",
       "        0.7939375 , 0.8018125 , 0.80222917, 0.82277083, 0.83789583,\n",
       "        0.83816667, 0.8476875 , 0.87797917, 0.87854167, 0.87879167,\n",
       "        0.88422917, 0.88466667, 0.88914583, 0.90420833, 0.90479167,\n",
       "        0.91316667, 0.91375   , 0.92320833, 0.92358333, 0.92664583,\n",
       "        0.92772917, 0.93127083, 0.93160417, 0.93541667, 0.93602083,\n",
       "        0.9365    , 0.94008333, 0.9471875 , 0.948     , 0.97227083,\n",
       "        0.973     , 1.031125  , 1.03202083, 1.03620833, 1.03647917,\n",
       "        1.03679167, 1.0806875 , 1.08177083, 1.08225   , 1.083625  ,\n",
       "        1.08397917, 1.08433333, 1.08733333, 1.0911875 , 1.0915    ,\n",
       "        1.09435417, 1.11666667, 1.1323125 , 1.17095833])"
      ]
     },
     "execution_count": 78,
     "metadata": {},
     "output_type": "execute_result"
    }
   ],
   "source": [
    "spike_times"
   ]
  },
  {
   "cell_type": "code",
   "execution_count": 77,
   "id": "b44edf6a",
   "metadata": {},
   "outputs": [
    {
     "name": "stdout",
     "output_type": "stream",
     "text": [
      "[1140 1174 1208]\n"
     ]
    }
   ],
   "source": [
    "t_start = spike_times[1] - 0.001\n",
    "t_stop = spike_times[1] + 0.001\n",
    "\n",
    "spike_timestamp2 = reader.get_spike_timestamps(block_index=block_index,\n",
    "                                seg_index=seg_index,\n",
    "                                spike_channel_index=spike_channel_index,\n",
    "                                t_start=t_start, t_stop=t_stop)\n",
    "print(spike_timestamp2)"
   ]
  },
  {
   "cell_type": "code",
   "execution_count": 79,
   "id": "8a2018dc",
   "metadata": {},
   "outputs": [
    {
     "data": {
      "text/plain": [
       "memmap([   188,   1140,   1174,   1208,   5268,   5762,   5800,   7764,\n",
       "          7822,   8016,   8326,   8382,   9346,  10258,  10466,  10630,\n",
       "         10670,  11212,  11376,  11418,  11568,  11964,  12234,  12820,\n",
       "         13412,  13876,  14126,  14512,  16442,  18632,  18668,  19396,\n",
       "         20432,  21446,  23910,  24022,  24100,  25780,  25812,  28664,\n",
       "         28700,  28728,  28994,  29580,  29934,  30244,  30804,  31348,\n",
       "         31410,  31456,  31672,  31710,  32384,  33172,  33510,  33978,\n",
       "         34792,  34882,  34926,  34954,  35054,  35308,  35492,  35516,\n",
       "         36152,  36526,  36648,  36672,  37512,  38134,  38166,  39186,\n",
       "         39648,  39808,  39866,  40264,  40294,  40326,  40352,  40440,\n",
       "         40496,  43064,  43288,  44206,  45142,  45240,  45300,  45422,\n",
       "         46074,  46186,  46220,  46266,  50918,  52044,  52696,  53186,\n",
       "         53672,  53712,  55500,  58562,  59690,  59722,  60080,  60214,\n",
       "         60468,  63498,  64494,  64522,  64752,  64824,  71230,  71274,\n",
       "         73338,  74268,  75340,  76218,  76974,  77014,  78986,  80438,\n",
       "         80464,  81378,  84286,  84340,  84364,  84886,  84928,  85358,\n",
       "         86804,  86860,  87664,  87720,  88628,  88664,  88958,  89062,\n",
       "         89402,  89434,  89800,  89858,  89904,  90248,  90930,  91008,\n",
       "         93338,  93408,  98988,  99074,  99476,  99502,  99532, 103746,\n",
       "        103850, 103896, 104028, 104062, 104096, 104384, 104754, 104784,\n",
       "        105058, 107200, 108702, 112412], dtype=int32)"
      ]
     },
     "execution_count": 79,
     "metadata": {},
     "output_type": "execute_result"
    }
   ],
   "source": [
    "spike_timestamp"
   ]
  },
  {
   "cell_type": "code",
   "execution_count": 85,
   "id": "d28c2f20",
   "metadata": {},
   "outputs": [],
   "source": [
    "reader._get_spike_timestamps??"
   ]
  },
  {
   "cell_type": "code",
   "execution_count": 82,
   "id": "4c489063",
   "metadata": {},
   "outputs": [
    {
     "data": {
      "text/plain": [
       "memmap([0.00195833, 0.011875  , 0.01222917, 0.01258333, 0.054875  ,\n",
       "        0.06002083, 0.06041667, 0.080875  , 0.08147917, 0.0835    ,\n",
       "        0.08672917, 0.0873125 , 0.09735417, 0.10685417, 0.10902083,\n",
       "        0.11072917, 0.11114583, 0.11679167, 0.1185    , 0.1189375 ,\n",
       "        0.1205    , 0.124625  , 0.1274375 , 0.13354167, 0.13970833,\n",
       "        0.14454167, 0.14714583, 0.15116667, 0.17127083, 0.19408333,\n",
       "        0.19445833, 0.20204167, 0.21283333, 0.22339583, 0.2490625 ,\n",
       "        0.25022917, 0.25104167, 0.26854167, 0.268875  , 0.29858333,\n",
       "        0.29895833, 0.29925   , 0.30202083, 0.308125  , 0.3118125 ,\n",
       "        0.31504167, 0.320875  , 0.32654167, 0.3271875 , 0.32766667,\n",
       "        0.32991667, 0.3303125 , 0.33733333, 0.34554167, 0.3490625 ,\n",
       "        0.3539375 , 0.36241667, 0.36335417, 0.3638125 , 0.36410417,\n",
       "        0.36514583, 0.36779167, 0.36970833, 0.36995833, 0.37658333,\n",
       "        0.38047917, 0.38175   , 0.382     , 0.39075   , 0.39722917,\n",
       "        0.3975625 , 0.4081875 , 0.413     , 0.41466667, 0.41527083,\n",
       "        0.41941667, 0.41972917, 0.4200625 , 0.42033333, 0.42125   ,\n",
       "        0.42183333, 0.44858333, 0.45091667, 0.46047917, 0.47022917,\n",
       "        0.47125   , 0.471875  , 0.47314583, 0.4799375 , 0.48110417,\n",
       "        0.48145833, 0.4819375 , 0.53039583, 0.542125  , 0.54891667,\n",
       "        0.55402083, 0.55908333, 0.5595    , 0.578125  , 0.61002083,\n",
       "        0.62177083, 0.62210417, 0.62583333, 0.62722917, 0.629875  ,\n",
       "        0.6614375 , 0.6718125 , 0.67210417, 0.6745    , 0.67525   ,\n",
       "        0.74197917, 0.7424375 , 0.7639375 , 0.773625  , 0.78479167,\n",
       "        0.7939375 , 0.8018125 , 0.80222917, 0.82277083, 0.83789583,\n",
       "        0.83816667, 0.8476875 , 0.87797917, 0.87854167, 0.87879167,\n",
       "        0.88422917, 0.88466667, 0.88914583, 0.90420833, 0.90479167,\n",
       "        0.91316667, 0.91375   , 0.92320833, 0.92358333, 0.92664583,\n",
       "        0.92772917, 0.93127083, 0.93160417, 0.93541667, 0.93602083,\n",
       "        0.9365    , 0.94008333, 0.9471875 , 0.948     , 0.97227083,\n",
       "        0.973     , 1.031125  , 1.03202083, 1.03620833, 1.03647917,\n",
       "        1.03679167, 1.0806875 , 1.08177083, 1.08225   , 1.083625  ,\n",
       "        1.08397917, 1.08433333, 1.08733333, 1.0911875 , 1.0915    ,\n",
       "        1.09435417, 1.11666667, 1.1323125 , 1.17095833])"
      ]
     },
     "execution_count": 82,
     "metadata": {},
     "output_type": "execute_result"
    }
   ],
   "source": [
    "reader.rescale_spike_timestamp(spike_timestamp, 'float64')"
   ]
  },
  {
   "cell_type": "code",
   "execution_count": 97,
   "id": "04e5d7f7",
   "metadata": {},
   "outputs": [
    {
     "name": "stdout",
     "output_type": "stream",
     "text": [
      "[1573]\n",
      "[5728]\n",
      "[704]\n",
      "[2732]\n"
     ]
    }
   ],
   "source": [
    "nb_block = reader.block_count()\n",
    "nb_unit = reader.spike_channels_count()\n",
    "\n",
    "for block_index in range(nb_block):\n",
    "    nb_seg = reader.segment_count(block_index)\n",
    "    for seg_index in range(nb_seg):\n",
    "        for spike_channel_index in range(nb_unit):\n",
    "            nb_spike = reader.spike_count(block_index=block_index,\n",
    "                                          seg_index=seg_index,\n",
    "                                          spike_channel_index=spike_channel_index)\n",
    "            if nb_spike == 0:\n",
    "                continue\n",
    "\n",
    "            spike_timestamp = reader.get_spike_timestamps(block_index=block_index,\n",
    "                                                    seg_index=seg_index,\n",
    "                                                    spike_channel_index=spike_channel_index,\n",
    "                                                    t_start=None, t_stop=None)\n",
    "            assert spike_timestamp.shape[0] == nb_spike, 'nb_spike {} != {}'.format(\n",
    "                spike_timestamp.shape[0], nb_spike)\n",
    "\n",
    "            spike_times = reader.rescale_spike_timestamp(spike_timestamp, 'float64')\n",
    "            assert spike_times.dtype == 'float64'\n",
    "\n",
    "            if spike_times.size > 3:\n",
    "                # load only one spike by forcing limits\n",
    "                t_start = spike_times[1] - 0.001\n",
    "                t_stop = spike_times[1] + 0.001\n",
    "\n",
    "                spike_timestamp2 = reader.get_spike_timestamps(block_index=block_index,\n",
    "                                                seg_index=seg_index,\n",
    "                                                spike_channel_index=spike_channel_index,\n",
    "                                                t_start=t_start, t_stop=t_stop)\n",
    "                print(spike_timestamp2)\n",
    "                assert spike_timestamp2.shape[0] == 1\n",
    "\n",
    "                spike_times2 = reader.rescale_spike_timestamp(spike_timestamp2, 'float64')\n",
    "                assert spike_times2[0] == spike_times[1]"
   ]
  },
  {
   "cell_type": "code",
   "execution_count": 99,
   "id": "110a99c3",
   "metadata": {},
   "outputs": [],
   "source": [
    "from neo.test.rawiotest import rawio_compliance as compliance\n",
    "\n",
    "compliance.header_is_total(reader2)\n",
    "compliance.count_element(reader2)\n",
    "#compliance.read_spike_times(reader2)\n",
    "compliance.read_analogsignals(reader2)\n",
    "compliance.read_spike_waveforms(reader2)\n",
    "compliance.read_events(reader2)\n",
    "compliance.has_annotations(reader2)\n",
    "\n",
    "# basic benchmark\n",
    "level = logging.getLogger().getEffectiveLevel()\n",
    "logging.getLogger().setLevel(logging.INFO)\n",
    "compliance.benchmark_speed_read_signals(reader2)\n",
    "logging.getLogger().setLevel(level)"
   ]
  },
  {
   "cell_type": "code",
   "execution_count": 96,
   "id": "578dd230",
   "metadata": {},
   "outputs": [],
   "source": [
    "compliance.read_spike_times(reader)"
   ]
  },
  {
   "cell_type": "code",
   "execution_count": 91,
   "id": "1d823690",
   "metadata": {},
   "outputs": [
    {
     "data": {
      "text/plain": [
       "1"
      ]
     },
     "execution_count": 91,
     "metadata": {},
     "output_type": "execute_result"
    }
   ],
   "source": [
    "reader.signal_streams_count()"
   ]
  },
  {
   "cell_type": "code",
   "execution_count": 94,
   "id": "01d41b89",
   "metadata": {},
   "outputs": [],
   "source": [
    "import logging\n",
    "\n",
    "reader = recording_tint.neo_reader\n",
    "\n",
    "# lanch a series of test compliance\n",
    "compliance.header_is_total(reader)\n",
    "compliance.count_element(reader)\n",
    "# compliance.read_analogsignals(reader)  # Fails, because I added a stream in AxonaUnitRecordingExtractor\n",
    "compliance.read_spike_times(reader)\n",
    "compliance.read_spike_waveforms(reader)\n",
    "compliance.read_events(reader)\n",
    "compliance.has_annotations(reader)\n",
    "\n",
    "# basic benchmark\n",
    "level = logging.getLogger().getEffectiveLevel()\n",
    "logging.getLogger().setLevel(logging.INFO)\n",
    "# compliance.benchmark_speed_read_signals(reader)\n",
    "logging.getLogger().setLevel(level)"
   ]
  },
  {
   "cell_type": "code",
   "execution_count": null,
   "id": "1a7564ec",
   "metadata": {},
   "outputs": [],
   "source": []
  },
  {
   "cell_type": "code",
   "execution_count": null,
   "id": "78bec82b",
   "metadata": {},
   "outputs": [],
   "source": []
  },
  {
   "cell_type": "code",
   "execution_count": 62,
   "id": "ffd54e93",
   "metadata": {},
   "outputs": [],
   "source": [
    "reader = recording_tint.neo_reader\n",
    "\n",
    "read_spike_times(reader)"
   ]
  },
  {
   "cell_type": "code",
   "execution_count": null,
   "id": "1d4fff76",
   "metadata": {},
   "outputs": [],
   "source": []
  },
  {
   "cell_type": "markdown",
   "id": "cea1ad31",
   "metadata": {},
   "source": [
    "## Can we actually read the data back in correctly with `axonarawio.py` after exporting to TINT?"
   ]
  },
  {
   "cell_type": "code",
   "execution_count": null,
   "id": "083f9a62",
   "metadata": {},
   "outputs": [],
   "source": [
    "from neo import AxonaIO"
   ]
  },
  {
   "cell_type": "code",
   "execution_count": null,
   "id": "0ee7859b",
   "metadata": {},
   "outputs": [],
   "source": [
    "io = AxonaIO(filename=output_dir / setfile_name)"
   ]
  },
  {
   "cell_type": "code",
   "execution_count": null,
   "id": "9dfc152e",
   "metadata": {},
   "outputs": [],
   "source": []
  },
  {
   "cell_type": "code",
   "execution_count": 8,
   "id": "7c072ea6",
   "metadata": {},
   "outputs": [
    {
     "name": "stdout",
     "output_type": "stream",
     "text": [
      "/mnt/d/freelance-work/catalyst-neuro/hussaini-lab-to-nwb/sample_bin_to_tint_no_bin/conversion_to_tint/axona_sample.set\n",
      "/mnt/d/freelance-work/catalyst-neuro/hussaini-lab-to-nwb/sample_bin_to_tint_no_bin/axona_sample.set\n"
     ]
    }
   ],
   "source": [
    "set_file_to_tint = dir_name / 'conversion_to_tint' / 'axona_sample.set'\n",
    "print(set_file_to_tint)\n",
    "\n",
    "set_file = dir_name / 'axona_sample.set'\n",
    "print(set_file)"
   ]
  },
  {
   "cell_type": "code",
   "execution_count": 19,
   "id": "c1750bd6",
   "metadata": {},
   "outputs": [
    {
     "ename": "NameError",
     "evalue": "name 'recording_y' is not defined",
     "output_type": "error",
     "traceback": [
      "\u001b[0;31m---------------------------------------------------------------------------\u001b[0m",
      "\u001b[0;31mNameError\u001b[0m                                 Traceback (most recent call last)",
      "\u001b[0;32m<ipython-input-19-32326e13db0e>\u001b[0m in \u001b[0;36m<module>\u001b[0;34m\u001b[0m\n\u001b[1;32m      5\u001b[0m \u001b[0;34m\u001b[0m\u001b[0m\n\u001b[1;32m      6\u001b[0m \u001b[0mw_ts\u001b[0m \u001b[0;34m=\u001b[0m \u001b[0msw\u001b[0m\u001b[0;34m.\u001b[0m\u001b[0mplot_timeseries\u001b[0m\u001b[0;34m(\u001b[0m\u001b[0mrecording\u001b[0m\u001b[0;34m,\u001b[0m \u001b[0mtrange\u001b[0m\u001b[0;34m=\u001b[0m\u001b[0;34m[\u001b[0m\u001b[0;36m0\u001b[0m\u001b[0;34m,\u001b[0m \u001b[0;36m0.9\u001b[0m\u001b[0;34m]\u001b[0m\u001b[0;34m)\u001b[0m\u001b[0;34m\u001b[0m\u001b[0;34m\u001b[0m\u001b[0m\n\u001b[0;32m----> 7\u001b[0;31m \u001b[0mw_ts\u001b[0m \u001b[0;34m=\u001b[0m \u001b[0msw\u001b[0m\u001b[0;34m.\u001b[0m\u001b[0mplot_timeseries\u001b[0m\u001b[0;34m(\u001b[0m\u001b[0mrecording_y\u001b[0m\u001b[0;34m,\u001b[0m \u001b[0mtrange\u001b[0m\u001b[0;34m=\u001b[0m\u001b[0;34m[\u001b[0m\u001b[0;36m0\u001b[0m\u001b[0;34m,\u001b[0m \u001b[0;36m0.9\u001b[0m\u001b[0;34m]\u001b[0m\u001b[0;34m)\u001b[0m\u001b[0;34m\u001b[0m\u001b[0;34m\u001b[0m\u001b[0m\n\u001b[0m",
      "\u001b[0;31mNameError\u001b[0m: name 'recording_y' is not defined"
     ]
    },
    {
     "data": {
      "image/png": "[encoded data removed]",
      "text/plain": [
       "<Figure size 1152x360 with 1 Axes>"
      ]
     },
     "metadata": {
      "needs_background": "light"
     },
     "output_type": "display_data"
    }
   ],
   "source": [
    "%matplotlib inline\n",
    "\n",
    "plt.rcParams[\"figure.figsize\"] = (16, 5)\n",
    "plt.rcParams.update({'font.size':14})\n",
    "\n",
    "w_ts = sw.plot_timeseries(recording, trange=[0, 0.9])"
   ]
  },
  {
   "cell_type": "code",
   "execution_count": 61,
   "id": "6fb34410",
   "metadata": {},
   "outputs": [
    {
     "data": {
      "image/png": "[encoded data removed]",
      "text/plain": [
       "<Figure size 1152x360 with 1 Axes>"
      ]
     },
     "metadata": {
      "needs_background": "light"
     },
     "output_type": "display_data"
    }
   ],
   "source": [
    "w_ts = sw.plot_timeseries(recording_y, trange=[0, 0.9])"
   ]
  },
  {
   "cell_type": "markdown",
   "id": "c6333895",
   "metadata": {},
   "source": [
    "<a id=\"hussaini-lab_functions\"></a>\n",
    "## Hussaini-lab functions\n",
    "[back to index](#index)\n",
    "\n",
    "`gebaSpike` actually wants already existing `.cut` or `.clu` files, and allows modifying them. So these might not be all that useful for exporting to `.cut` or `.clu`."
   ]
  },
  {
   "cell_type": "markdown",
   "id": "c9ef3444",
   "metadata": {},
   "source": [
    "Test writing data to tetrode files (following Hussaini lab implementation - is this the best way?)"
   ]
  },
  {
   "cell_type": "code",
   "execution_count": 8,
   "id": "d504aee7",
   "metadata": {},
   "outputs": [],
   "source": [
    "# From \n",
    "# https://github.com/HussainiLab/BinConverter/blob/master/BinConverter/core/ConvertTetrode.py\n",
    "\n",
    "import os\n",
    "from BinConverter.core.conversion_utils import get_set_header\n",
    "import numpy as np\n",
    "import struct\n",
    "\n",
    "\n",
    "def write_tetrode(filepath, data, Fs):\n",
    "\n",
    "    session_path, session_filename = os.path.split(filepath)\n",
    "    tint_basename = os.path.splitext(session_filename)[0]\n",
    "    set_filename = os.path.join(session_path, '%s.set' % tint_basename)\n",
    "\n",
    "    n = len(data)\n",
    "\n",
    "    header = get_set_header(set_filename)\n",
    "\n",
    "    with open(filepath, 'w') as f:\n",
    "        num_chans = 'num_chans 4'\n",
    "        timebase_head = '\\ntimebase %d hz' % (96000)\n",
    "        bp_timestamp = '\\nbytes_per_timestamp %d' % (4)\n",
    "        # samps_per_spike = '\\nsamples_per_spike %d' % (int(Fs*1e-3))\n",
    "        samps_per_spike = '\\nsamples_per_spike %d' % (50)\n",
    "        sample_rate = '\\nsample_rate %d hz' % (Fs)\n",
    "        b_p_sample = '\\nbytes_per_sample %d' % (1)\n",
    "        # b_p_sample = '\\nbytes_per_sample %d' % (4)\n",
    "        spike_form = '\\nspike_format t,ch1,t,ch2,t,ch3,t,ch4'\n",
    "        num_spikes = '\\nnum_spikes %d' % (n)\n",
    "        start = '\\ndata_start'\n",
    "\n",
    "        write_order = [header, num_chans, timebase_head,\n",
    "                       bp_timestamp,\n",
    "                       samps_per_spike, sample_rate, b_p_sample, spike_form, num_spikes, start]\n",
    "\n",
    "        f.writelines(write_order)\n",
    "\n",
    "    # rearranging the data to have a flat array of t1, waveform1, t2, waveform2, t3, waveform3, etc....\n",
    "    spike_times = np.asarray(sorted(data.keys()))\n",
    "\n",
    "    # the spike times are repeated for each channel so lets tile this\n",
    "    spike_times = np.tile(spike_times, (4, 1))\n",
    "    spike_times = spike_times.flatten(order='F')\n",
    "\n",
    "    spike_values = np.asarray([value for (key, value) in sorted(data.items())])\n",
    "\n",
    "    # this will create a (n_samples, n_channels, n_samples_per_spike) => (n, 4, 50) sized matrix, we will create a\n",
    "    # matrix of all the samples and channels going from ch1 -> ch4 for each spike time\n",
    "    # time1 ch1_data\n",
    "    # time1 ch2_data\n",
    "    # time1 ch3_data\n",
    "    # time1 ch4_data\n",
    "    # time2 ch1_data\n",
    "    # time2 ch2_data\n",
    "    # .\n",
    "    # .\n",
    "    # .\n",
    "\n",
    "    spike_values = spike_values.reshape((n * 4, 50))  # create the 4nx50 channel data matrix\n",
    "\n",
    "    # make the first column the time values\n",
    "    spike_array = np.hstack((spike_times.reshape(len(spike_times), 1), spike_values))\n",
    "\n",
    "    data = None\n",
    "    spike_times = None\n",
    "    spike_values = None\n",
    "\n",
    "    spike_n = spike_array.shape[0]\n",
    "\n",
    "    t_packed = struct.pack('>%di' % spike_n, *spike_array[:, 0].astype(int))\n",
    "    spike_array = spike_array[:, 1:]  # removing time data from this matrix to save memory\n",
    "\n",
    "    spike_data_pack = struct.pack('<%db' % (spike_n*50), *spike_array.astype(int).flatten())\n",
    "\n",
    "    spike_array = None\n",
    "\n",
    "    # now we need to combine the lists by alternating\n",
    "\n",
    "    comb_list = [None] * (2*spike_n)\n",
    "    comb_list[::2] = [t_packed[i:i + 4] for i in range(0, len(t_packed), 4)]  # breaks up t_packed into a list,\n",
    "    # each timestamp is one 4 byte integer\n",
    "    comb_list[1::2] = [spike_data_pack[i:i + 50] for i in range(0, len(spike_data_pack), 50)]  # breaks up spike_data_\n",
    "    # pack and puts it into a list, each spike is 50 one byte integers\n",
    "\n",
    "    t_packed = None\n",
    "    spike_data_pack = None\n",
    "\n",
    "    write_order = []\n",
    "    with open(filepath, 'rb+') as f:\n",
    "\n",
    "        write_order.extend(comb_list)\n",
    "        write_order.append(bytes('\\r\\ndata_end\\r\\n', 'utf-8'))\n",
    "\n",
    "        f.seek(0, 2)\n",
    "        f.writelines(write_order)"
   ]
  },
  {
   "cell_type": "markdown",
   "id": "85d90289",
   "metadata": {},
   "source": [
    "<a id=\"Convert_sorting_extractor_to_tint\"></a>\n",
    "## Convert Sorting extractor to TINT\n",
    "[back to index](#index)\n",
    "\n",
    "There are several points in the pipeline at which we might want to export to TINT. Ideally it should work for any `SortingExtractor` object!"
   ]
  },
  {
   "cell_type": "code",
   "execution_count": 9,
   "id": "7fe21ef8",
   "metadata": {},
   "outputs": [
    {
     "name": "stdout",
     "output_type": "stream",
     "text": [
      "Where do we load data from?\n",
      " /mnt/d/freelance-work/catalyst-neuro/hussaini-lab-to-nwb/sample_bin_to_tint_no_bin\n"
     ]
    }
   ],
   "source": [
    "print('Where do we load data from?\\n', dir_name)"
   ]
  },
  {
   "cell_type": "markdown",
   "id": "ae069b09",
   "metadata": {},
   "source": [
    "From a sorting extractor we can obtain a list unit spike sample arrays. We can convert this to the .clu or .cut type array of unit ID labels for each spike.\n"
   ]
  },
  {
   "cell_type": "code",
   "execution_count": 10,
   "id": "0fc1e882",
   "metadata": {},
   "outputs": [
    {
     "name": "stdout",
     "output_type": "stream",
     "text": [
      "20201004_Tint_1\n"
     ]
    }
   ],
   "source": [
    "cut_filename = Path('/mnt/d/freelance-work/catalyst-neuro/hussaini-lab-to-nwb/Axona_Tint_1ms/20201004_Tint_1.cut')\n",
    "\n",
    "basename = os.path.basename(os.path.splitext(cut_filename)[0])\n",
    "\n",
    "print(basename)"
   ]
  },
  {
   "cell_type": "code",
   "execution_count": 11,
   "id": "8bae0e8e",
   "metadata": {},
   "outputs": [
    {
     "name": "stdout",
     "output_type": "stream",
     "text": [
      "/mnt/d/freelance-work/catalyst-neuro/hussaini-lab-to-nwb/Axona_Tint_1ms/20201004_Tint.set\n"
     ]
    },
    {
     "data": {
      "text/plain": [
       "PosixPath('/mnt/d/freelance-work/catalyst-neuro/hussaini-lab-to-nwb/Axona_Tint_1ms/20201004_Tint_1.cut')"
      ]
     },
     "execution_count": 11,
     "metadata": {},
     "output_type": "execute_result"
    }
   ],
   "source": [
    "filename = Path('/mnt/d/freelance-work/catalyst-neuro/hussaini-lab-to-nwb/Axona_Tint_1ms/20201004_Tint.set')\n",
    "print(filename)\n",
    "\n",
    "Path(str(filename.with_suffix('')) + '_{}'.format(1) + '.cut')"
   ]
  },
  {
   "cell_type": "markdown",
   "id": "8855a9c0",
   "metadata": {},
   "source": [
    "### Write unit labels to .cut and .clu files"
   ]
  },
  {
   "cell_type": "code",
   "execution_count": 12,
   "id": "2270a472",
   "metadata": {},
   "outputs": [],
   "source": [
    "def convert_spike_train_to_label_array(spike_train):\n",
    "    '''Takes a list of arrays, where each array is a series of\n",
    "    sample points at which a spike occured for a given unit\n",
    "    (each list item is a unit). Converts to .cut array, i.e.\n",
    "    orders spike samples from all units and labels each sample\n",
    "    with the appropriate unit ID.\n",
    "    \n",
    "    Parameters\n",
    "    ----------\n",
    "    spike_train : List of np.arrays\n",
    "        Output of `get_units_spike_train()` method of sorting extractor\n",
    "        \n",
    "    Return\n",
    "    ------\n",
    "    unit_labels_sorted : np.array\n",
    "        Each entry is the unit ID corresponding to the spike sample that\n",
    "        occured at this ordinal position\n",
    "    '''\n",
    "\n",
    "    # Generate Index array (indexing the unit for a given spike sample)\n",
    "    unit_labels = []\n",
    "    for i, l in enumerate(spike_train):\n",
    "        unit_labels.append(np.ones((len(l),), dtype=int) * i)\n",
    "    \n",
    "    # Flatten lists and sort them\n",
    "    spike_train_flat = np.concatenate(spike_train).ravel()\n",
    "    unit_labels_flat = np.concatenate(unit_labels).ravel()\n",
    "\n",
    "    sort_index = np.argsort(spike_train_flat)\n",
    "\n",
    "    unit_labels_sorted = unit_labels_flat[sort_index]\n",
    "\n",
    "    return unit_labels_sorted"
   ]
  },
  {
   "cell_type": "code",
   "execution_count": 13,
   "id": "8215d02d",
   "metadata": {},
   "outputs": [],
   "source": [
    "def write_to_cut_file(cut_filename, unit_labels):\n",
    "    '''Write spike sorting output to .cut file.\n",
    "    \n",
    "    Parameters\n",
    "    ----------\n",
    "    cut_filename : str or Path\n",
    "        Full filename of .cut file to write to. A given .cut file belongs\n",
    "        to a given tetrode file. For example, for tetrode `my_file.1`, the\n",
    "        corresponding cut_filename should be `my_file_1.cut`.\n",
    "    unit_labels : np.array\n",
    "        Vector of unit labels for each spike sample (ordered by time of \n",
    "        occurence)\n",
    "        \n",
    "    Example\n",
    "    -------\n",
    "    # Given a sortingextractor called sorting_nwb:\n",
    "    spike_train = sorting_nwb.get_units_spike_train()\n",
    "    unit_labels = convert_spike_train_to_label_array(spike_train)\n",
    "    write_to_cut_file(cut_filename, unit_labels)\n",
    "    \n",
    "    ---\n",
    "    Largely based on gebaSpike implementation by Geoff Barrett\n",
    "    https://github.com/GeoffBarrett/gebaSpike\n",
    "    '''\n",
    "\n",
    "    unique_cells = np.unique(unit_labels)\n",
    "\n",
    "    n_clusters = len(np.unique(unit_labels))\n",
    "    n_spikes = len(unit_labels)\n",
    "\n",
    "    write_list = []\n",
    "\n",
    "    tab = '    '\n",
    "    spaces = '               '\n",
    "\n",
    "    write_list.append('n_clusters: {}\\n'.format(n_clusters))\n",
    "    write_list.append('n_channels: 4\\n')\n",
    "    write_list.append('n_params: 2\\n')\n",
    "    write_list.append('times_used_in_Vt:{}'.format((tab + '0') * 4 + '\\n'))\n",
    "\n",
    "    zero_line = (tab + '0') * 8 + '\\n'\n",
    "\n",
    "    for cell_i in np.arange(n_clusters):\n",
    "        write_list.append(' cluster: {} center:{}'.format(cell_i, zero_line))\n",
    "        write_list.append('{}min:{}'.format(spaces, zero_line))\n",
    "        write_list.append('{}max:{}'.format(spaces, zero_line))\n",
    "    write_list.append('\\nExact_cut_for: {} spikes: {}\\n'.format(basename, n_spikes))\n",
    "\n",
    "    # The unit label array consists of 25 values per row in .cut file\n",
    "    n_rows = int(np.floor(n_spikes / 25))\n",
    "    remaining = int(n_spikes - n_rows * 25)\n",
    "\n",
    "    cut_string = ('%3u' * 25 + '\\n') * n_rows + '%3u' * remaining\n",
    "\n",
    "    write_list.append(cut_string % (tuple(unit_labels)))\n",
    "\n",
    "    with open(cut_filename, 'w') as f:\n",
    "        f.writelines(write_list)"
   ]
  },
  {
   "cell_type": "code",
   "execution_count": 14,
   "id": "2487be27",
   "metadata": {},
   "outputs": [],
   "source": [
    "def write_to_clu_file(clu_filename, unit_labels):\n",
    "    ''' .clu files are pruned .cut files, containing only a long vector of unit\n",
    "    labels, which are 1-indexed, instead of 0-indexed. In addition, the very first\n",
    "    entry is the total number of units.\n",
    "    \n",
    "    Parameters\n",
    "    ----------\n",
    "    clu_filename : str or Path\n",
    "        Full filename of .clu file to write to. A given .clu file belongs\n",
    "        to a given tetrode file. For example, for tetrode `my_file.1`, the\n",
    "        corresponding clu_filename should be `my_file_1.clu`.\n",
    "    unit_labels : np.array\n",
    "        Vector of unit labels for each spike sample (ordered by time of \n",
    "        occurence)\n",
    "        \n",
    "    ---\n",
    "    Largely based on gebaSpike implementation by Geoff Barrett\n",
    "    https://github.com/GeoffBarrett/gebaSpike\n",
    "    '''\n",
    "    unit_labels = np.asarray(unit_labels).astype(int)\n",
    "    unit_labels += 1\n",
    "\n",
    "    n_clust = len(np.unique(unit_labels))\n",
    "    unit_labels = np.concatenate(([n_clust], unit_labels))\n",
    "\n",
    "    np.savetxt(clu_filename, unit_labels, fmt='%d', delimiter='\\n')"
   ]
  },
  {
   "cell_type": "code",
   "execution_count": 15,
   "id": "995d9aa5",
   "metadata": {},
   "outputs": [],
   "source": [
    "def set_cut_filename_from_basename(filename, tetrode_id):\n",
    "    '''Given a str or Path object, assume the last entry after a slash\n",
    "    is a filename, strip any file suffix, add tetrode ID label, and\n",
    "    .cut suffix to name.\n",
    "    \n",
    "    Parameters\n",
    "    ----------\n",
    "    filename : str or Path\n",
    "    tetrode_id : int\n",
    "    '''\n",
    "    return Path(str(filename).split('.')[0] + '_{}'.format(tetrode_id) + '.cut')"
   ]
  },
  {
   "cell_type": "code",
   "execution_count": 16,
   "id": "fadbd312",
   "metadata": {},
   "outputs": [],
   "source": [
    "def write_unit_labels_to_file(sorting_extractor, filename):\n",
    "    '''Write spike sorting output to .cut and .clu file, separately for each\n",
    "    tetrode.\n",
    "    \n",
    "    Parameters\n",
    "    ----------\n",
    "    sorting_extractor : spikeextractors.SortingExtractor\n",
    "    filename : str or Path\n",
    "        Full filename of .set file or base-filename (i.e. the part of the\n",
    "        filename all Axona files have in common). A given .cut file belongs\n",
    "        to a given tetrode file. For example, for tetrode `my_file.1`, the\n",
    "        corresponding cut_filename should be `my_file_1.cut`. This will be\n",
    "        set automatically given the base-filename or set file.\n",
    "        \n",
    "    TODO: Any reason one might want to only convert some tetrodes or some\n",
    "    samples? Should those be parameters?\n",
    "    '''\n",
    "    tetrode_ids = sorting_extractor.get_units_property(property_name='group')\n",
    "    tetrode_ids = np.array(tetrode_ids)\n",
    "    \n",
    "    unit_ids = np.array(sorting_extractor.get_unit_ids())\n",
    "    \n",
    "    for i in np.unique(tetrode_ids):\n",
    "        \n",
    "        print('Write unit labels for tetrode {} to .cut and .clu'.format(i))\n",
    "\n",
    "        spike_train = sorting_extractor.get_units_spike_train(unit_ids=unit_ids[tetrode_ids==i])\n",
    "        unit_labels = convert_spike_train_to_label_array(spike_train)\n",
    "\n",
    "        # We use Axona conventions for filenames (tetrodes are 1 indexed)\n",
    "        cut_filename = set_cut_filename_from_basename(filename, i + 1)\n",
    "        clu_filename = Path(str(cut_filename).replace('.cut', '.clu'))\n",
    "\n",
    "        write_to_cut_file(cut_filename, unit_labels)\n",
    "        write_to_clu_file(clu_filename, unit_labels)"
   ]
  },
  {
   "cell_type": "code",
   "execution_count": 17,
   "id": "001d00c1",
   "metadata": {},
   "outputs": [
    {
     "name": "stdout",
     "output_type": "stream",
     "text": [
      "<class 'spikeextractors.extractors.nwbextractors.nwbextractors.NwbSortingExtractor'>\n"
     ]
    }
   ],
   "source": [
    "# We have sorting data exported in `.nwb` format\n",
    "\n",
    "nwb_dir = Path(dir_name, 'nwb')\n",
    "sorting_nwb = se.NwbSortingExtractor(nwb_dir / 'axona_se_MS4.nwb', sampling_frequency=48000)\n",
    "\n",
    "print(type(sorting_nwb))"
   ]
  },
  {
   "cell_type": "code",
   "execution_count": 18,
   "id": "45c9d08a",
   "metadata": {},
   "outputs": [
    {
     "name": "stdout",
     "output_type": "stream",
     "text": [
      "Sampling frequency: 48000 Hz\n"
     ]
    }
   ],
   "source": [
    "print('Sampling frequency:', sorting_nwb.get_sampling_frequency(), 'Hz')"
   ]
  },
  {
   "cell_type": "code",
   "execution_count": 22,
   "id": "e0ddef20",
   "metadata": {},
   "outputs": [
    {
     "name": "stdout",
     "output_type": "stream",
     "text": [
      "Write unit labels for tetrode 0 to .cut and .clu\n",
      "Write unit labels for tetrode 1 to .cut and .clu\n",
      "Write unit labels for tetrode 2 to .cut and .clu\n",
      "Write unit labels for tetrode 3 to .cut and .clu\n"
     ]
    }
   ],
   "source": [
    "# Convert all tetrodes from sorting extractor to cut files\n",
    "write_unit_labels_to_file(sorting_nwb, filename)"
   ]
  },
  {
   "cell_type": "markdown",
   "id": "5f79ce30",
   "metadata": {},
   "source": [
    "### Write waveforms from `sortingextractor` to tetrode files (`.X`)\n",
    "\n",
    "Here, we need information that is available in the `.set` file."
   ]
  },
  {
   "cell_type": "code",
   "execution_count": 19,
   "id": "3349fa4f",
   "metadata": {},
   "outputs": [],
   "source": [
    "from BinConverter.core.ConvertTetrode import write_tetrode"
   ]
  },
  {
   "cell_type": "code",
   "execution_count": 20,
   "id": "6ab1f7d8",
   "metadata": {},
   "outputs": [],
   "source": [
    "def parse_generic_header(filename):\n",
    "    \"\"\"\n",
    "    Given a binary file with phrases and line breaks, enters the\n",
    "    first word of a phrase as dictionary key and the following\n",
    "    string (without linebreaks) as value. Returns the dictionary.\n",
    "    \n",
    "    Parameters\n",
    "    ----------\n",
    "    filename : str or Path\n",
    "        Full filename.\n",
    "    \"\"\"\n",
    "    header = {}\n",
    "    with open(filename, 'rb') as f:\n",
    "        for bin_line in f:\n",
    "            if b'data_start' in bin_line:\n",
    "                break\n",
    "            line = bin_line.decode('cp1252').replace('\\r\\n', '').replace('\\r', '').strip()\n",
    "            parts = line.split(' ')\n",
    "            key = parts[0]\n",
    "            value = ' '.join(parts[1:])\n",
    "            header[key] = value\n",
    "            \n",
    "    return header"
   ]
  },
  {
   "cell_type": "code",
   "execution_count": 21,
   "id": "c74d8706",
   "metadata": {},
   "outputs": [],
   "source": [
    "def get_unit_group_ids(sorting):\n",
    "    '''Get group ids.\n",
    "    \n",
    "    Parameters\n",
    "    ----------\n",
    "    sorting : SortingExtractor\n",
    "    \n",
    "    Returns\n",
    "    -------\n",
    "    group_ids : List\n",
    "        List of groups ids for each Unit in `sorting`.\n",
    "    '''\n",
    "    unit_ids = sorting.get_unit_ids()\n",
    "    group_ids = [sorting.get_unit_property(\n",
    "        unit_id=unit_id, property_name='group') for unit_id in unit_ids\n",
    "    ]\n",
    "\n",
    "    return group_ids"
   ]
  },
  {
   "cell_type": "code",
   "execution_count": 22,
   "id": "4493ba1c",
   "metadata": {},
   "outputs": [],
   "source": [
    "def combine_units_on_tetrode(group_spike_samples, group_waveforms):\n",
    "    '''Write all waveforms of given tetrode in dictionary with the\n",
    "    corresponding spike samples being the keys (1 sample for each\n",
    "    waveform).\n",
    "    \n",
    "    Parameters\n",
    "    ----------\n",
    "    group_spike_samples : list\n",
    "        As returned by sortingextractor.get_units_spike_train()\n",
    "    group_waveforms : list\n",
    "        As returned by spiketoolkit.postprocessing.get_unit_waveforms()\n",
    "    \n",
    "    Returns\n",
    "    -------\n",
    "    tetrode_spikes : dict\n",
    "        Keys are spike samples, values are waveforms (ntrls x nch x nsamp)\n",
    "    '''\n",
    "    tetrode_spikes = {}\n",
    "\n",
    "    for i, (samples, waveforms) in enumerate(zip(group_spike_samples, group_waveforms)):\n",
    "\n",
    "        for sample, waveform in zip(samples, waveforms):\n",
    "\n",
    "            tetrode_spikes[sample] = waveform\n",
    "            \n",
    "    return tetrode_spikes"
   ]
  },
  {
   "cell_type": "code",
   "execution_count": 23,
   "id": "2b9cdb66",
   "metadata": {},
   "outputs": [],
   "source": [
    "st.postprocessing.get_unit_waveforms??"
   ]
  },
  {
   "cell_type": "code",
   "execution_count": 24,
   "id": "70dbf774",
   "metadata": {},
   "outputs": [],
   "source": [
    "def get_waveforms(recording, sorting, unit_ids, header):\n",
    "    '''Get waveforms for specific tetrode.\n",
    "    \n",
    "    Parameters\n",
    "    ----------\n",
    "    recording : RecordingExtractor\n",
    "    sorting : SortingExtractor\n",
    "    unit_ids : List\n",
    "        List of unit ids to extract waveforms\n",
    "    header : dict\n",
    "        maps parameters from .set file to their values (as strings).\n",
    "        \n",
    "    Returns\n",
    "    -------\n",
    "    waveforms : List\n",
    "        List of np.array (n_spikes, n_channels, n_timepoints) with waveforms for each unit\n",
    "    '''\n",
    "    sampling_rate = recording.get_sampling_frequency()\n",
    "    samples_before = int(header['pretrigSamps'])\n",
    "    samples_after = int(header['spikeLockout'])\n",
    "\n",
    "    ms_before = samples_before / (sampling_rate / 1000) + 0.001\n",
    "    ms_after = samples_after / (sampling_rate / 1000) + 0.001\n",
    "\n",
    "    waveforms = st.postprocessing.get_unit_waveforms(\n",
    "        recording,\n",
    "        sorting,\n",
    "        unit_ids=unit_ids,\n",
    "        max_spikes_per_unit=None, \n",
    "        grouping_property='group',\n",
    "        recompute_info=True,\n",
    "        ms_before=ms_before,\n",
    "        ms_after=ms_after,\n",
    "        return_idxs=False,\n",
    "        return_scaled=False,\n",
    "        dtype=np.int8\n",
    "    )\n",
    "\n",
    "    return waveforms"
   ]
  },
  {
   "cell_type": "code",
   "execution_count": 253,
   "id": "5c4a1b89",
   "metadata": {},
   "outputs": [
    {
     "name": "stdout",
     "output_type": "stream",
     "text": [
      "45.5 ms ± 12.6 ms per loop (mean ± std. dev. of 7 runs, 10 loops each)\n"
     ]
    }
   ],
   "source": [
    "%%timeit\n",
    "\n",
    "write_tetrode(tetrode_file, spike_waveform_dict, 48000)"
   ]
  },
  {
   "cell_type": "code",
   "execution_count": 25,
   "id": "3aef804f",
   "metadata": {},
   "outputs": [],
   "source": [
    "def write_tetrode_file_header(tetrode_file, n_spikes_chan, Fs):\n",
    "    ''' Generate and write header of tetrode file\n",
    "    \n",
    "    Parameters\n",
    "    ----------\n",
    "    tetrode_file : str or Path\n",
    "        Full filename to write to\n",
    "    n_spikes_chan : int\n",
    "        Number of spikes to write to file\n",
    "    Fs : int\n",
    "        Sampling frequency of data\n",
    "    '''\n",
    "    path = Path(tetrode_file).parent\n",
    "    filename = Path(tetrode_file).name\n",
    "    basename = filename.split('.')[0]\n",
    "    set_file = path / '{}.set'.format(basename)\n",
    "\n",
    "    # We are enforcing the defaults from the file format manual\n",
    "    header = get_set_header(set_file)\n",
    "    to_write = [\n",
    "        header,\n",
    "        'num_chans 4\\n',\n",
    "        'timebase {} hz\\n'.format(96000),\n",
    "        'bytes_per_timestamp {}\\n'.format(4),\n",
    "        'samples_per_spike {}\\n'.format(50),\n",
    "        'sample_rate {} hz\\n'.format(Fs),\n",
    "        'bytes_per_sample {}\\n'.format(1),\n",
    "        'spike_format t,ch1,t,ch2,t,ch3,t,ch4\\n',\n",
    "        'num_spikes {}\\n'.format(n_spikes_chan),\n",
    "        'data_start'\n",
    "    ]\n",
    "    \n",
    "    with open(tetrode_file, 'w') as f:\n",
    "        f.writelines(to_write)"
   ]
  },
  {
   "cell_type": "code",
   "execution_count": 26,
   "id": "0daa48ce",
   "metadata": {},
   "outputs": [],
   "source": [
    "def write_tetrode_file_data(tetrode_file, waveform_dict):\n",
    "    ''' Write binary data to tetrode file\n",
    "    \n",
    "    Parameters\n",
    "    ----------\n",
    "    tetrode_file : str or Path\n",
    "        Full filename of tetrode file to write to\n",
    "    waveform_dict : dict\n",
    "        Keys are spike timestamps, values are corresponding waveforms (np.memmap).\n",
    "        Timestamps are int64, waveforms are int8\n",
    "    '''\n",
    "\n",
    "    # created ordered spike times and waveforms from input dict\n",
    "    spike_times = np.asarray(sorted(waveform_dict.keys()))\n",
    "    spike_times = np.tile(spike_times, (4, 1))\n",
    "    spike_times = spike_times.flatten(order='F')\n",
    "    \n",
    "    n_spikes = spike_times.shape[0]\n",
    "    spike_values = np.asarray([value for (key, value) in sorted(waveform_dict.items())])\n",
    "    spike_values = spike_values.reshape((n_spikes, 50))\n",
    "\n",
    "    t_packed = struct.pack('>%di' % n_spikes, *spike_times)\n",
    "    spike_data_pack = struct.pack('<%db' % (n_spikes * 50), *spike_values.flatten())\n",
    "\n",
    "    # combine timestamps (4 bytes per sample) and waveforms (1 byte per sample)\n",
    "    comb_list = [None] * (2 * n_spikes)\n",
    "    comb_list[::2] = [t_packed[i:i + 4] for i in range(0, len(t_packed), 4)]\n",
    "    comb_list[1::2] = [spike_data_pack[i:i + 50] for i in range(0, len(spike_data_pack), 50)]\n",
    "\n",
    "    with open(tetrode_file, 'ab') as f:\n",
    "\n",
    "        f.writelines(comb_list)\n",
    "        f.writelines([bytes('\\r\\ndata_end\\r\\n', 'utf-8')])"
   ]
  },
  {
   "cell_type": "code",
   "execution_count": 27,
   "id": "a601013e",
   "metadata": {},
   "outputs": [],
   "source": [
    "def write_tetrode(tetrode_file, waveform_dict, Fs):\n",
    "    ''' Write data to tetrode (`.X`) file\n",
    "    \n",
    "    Parameters\n",
    "    ----------\n",
    "    tetrode_file : str or Path\n",
    "        Full filename of tetrode file to write to\n",
    "    waveform_dict : dict\n",
    "        Keys are spike timestamps, values are corresponding waveforms (np.memmap).\n",
    "        Timestamps are int64, waveforms are int8\n",
    "    Fs : int\n",
    "        Sampling frequency of data\n",
    "    '''\n",
    "    write_tetrode_file_header(tetrode_file, len(waveform_dict), Fs)\n",
    "    write_tetrode_file_data(tetrode_file, waveform_dict)"
   ]
  },
  {
   "cell_type": "code",
   "execution_count": null,
   "id": "656f3e15",
   "metadata": {},
   "outputs": [],
   "source": [
    "write_tetrode_file_header(tetrode_file, len(spike_waveform_dict), Fs)"
   ]
  },
  {
   "cell_type": "code",
   "execution_count": 247,
   "id": "21a27d9c",
   "metadata": {},
   "outputs": [],
   "source": [
    "write_tetrode_file_data(tetrode_file, waveform_dict)"
   ]
  },
  {
   "cell_type": "code",
   "execution_count": 250,
   "id": "16ce9836",
   "metadata": {},
   "outputs": [],
   "source": [
    "write_tetrode(tetrode_file, spike_waveform_dict, 48000)"
   ]
  },
  {
   "cell_type": "code",
   "execution_count": 28,
   "id": "f268615f",
   "metadata": {},
   "outputs": [],
   "source": [
    "def write_to_tetrode_files(recording, sorting, group_ids, set_file):\n",
    "    '''Get spike samples and waveforms for all tetrodes specified in\n",
    "    `group_ids`. Note that `group_ids` is 0-indexed, whereas tetrodes are\n",
    "    1-indexed (so if you want tetrodes 1+2, specify group_ids=[0, 1]).\n",
    "    \n",
    "    Parameters\n",
    "    ----------\n",
    "    recording : RecordingExtractor\n",
    "    sorting : SortingExtractor\n",
    "    group_ids : array like\n",
    "        Tetrodes to include, but 0-indexed (i.e. tetrodeID - 1)\n",
    "    set_file : Path or str\n",
    "        .set file location. Used to determine how many samples prior to and\n",
    "        post spike sample should be cut out for each waveform. .X files will have\n",
    "        the same base filename as the .set file. So if you do not want to overwrite\n",
    "        existing .X files in your .set file directory, copy the .set file to a new\n",
    "        folder and give its new location. The new .X files will appear there.\n",
    "    '''\n",
    "    sampling_rate = recording.get_sampling_frequency()\n",
    "    group_ids = get_unit_group_ids(sorting)\n",
    "    header = parse_generic_header(set_file)\n",
    "\n",
    "    for group_id in np.unique(group_ids):\n",
    "\n",
    "        # get spike samples and waveforms of this group / tetrode\n",
    "        group_unit_ids = [i for i, gid in enumerate(group_ids) if gid==group_id]\n",
    "        group_waveforms = get_waveforms(recording, sorting, group_unit_ids, header)\n",
    "        group_spike_samples = sorting.get_units_spike_train(unit_ids=group_unit_ids)\n",
    "\n",
    "        # Assign each waveform to it's spike sample in a dictionary\n",
    "        spike_waveform_dict = combine_units_on_tetrode(group_spike_samples, group_waveforms)\n",
    "\n",
    "        # Set tetrode filename\n",
    "        tetrode_filename = str(set_file).split('.')[0] + '.{}'.format(group_id + 1)\n",
    "        print('Writing', Path(tetrode_filename).name)\n",
    "\n",
    "        # Use `BinConverter` function to write to tetrode file\n",
    "        write_tetrode(tetrode_filename, spike_waveform_dict, sampling_rate)"
   ]
  },
  {
   "cell_type": "code",
   "execution_count": 29,
   "id": "4c8782d9",
   "metadata": {},
   "outputs": [
    {
     "name": "stdout",
     "output_type": "stream",
     "text": [
      "/mnt/d/freelance-work/catalyst-neuro/hussaini-lab-to-nwb/sample_bin_to_tint_no_bin/axona_sample.set\n"
     ]
    }
   ],
   "source": [
    "set_file = dir_name / 'axona_sample.set'\n",
    "print(set_file)"
   ]
  },
  {
   "cell_type": "code",
   "execution_count": 30,
   "id": "26f6b729",
   "metadata": {},
   "outputs": [],
   "source": [
    "from spikeextractors.extractors.axonaunitrecordingextractor import AxonaUnitRecordingExtractor\n",
    "\n",
    "recording = AxonaUnitRecordingExtractor(filename=set_file)\n",
    "signal = recording.get_traces(channel_ids=None, start_frame=None, end_frame=None, return_scaled=False)"
   ]
  },
  {
   "cell_type": "code",
   "execution_count": 31,
   "id": "50aa6e78",
   "metadata": {},
   "outputs": [
    {
     "name": "stdout",
     "output_type": "stream",
     "text": [
      "/mnt/d/freelance-work/catalyst-neuro/hussaini-lab-to-nwb/sample_bin_to_tint_no_bin/conversion_to_tint/axona_sample.set\n"
     ]
    }
   ],
   "source": [
    "set_file_to_tint = dir_name / 'conversion_to_tint' / 'axona_sample.set'\n",
    "print(set_file_to_tint)"
   ]
  },
  {
   "cell_type": "code",
   "execution_count": 32,
   "id": "a713f68e",
   "metadata": {},
   "outputs": [
    {
     "data": {
      "text/html": [
       "<div>\n",
       "<style scoped>\n",
       "    .dataframe tbody tr th:only-of-type {\n",
       "        vertical-align: middle;\n",
       "    }\n",
       "\n",
       "    .dataframe tbody tr th {\n",
       "        vertical-align: top;\n",
       "    }\n",
       "\n",
       "    .dataframe thead th {\n",
       "        text-align: right;\n",
       "    }\n",
       "</style>\n",
       "<table border=\"1\" class=\"dataframe\">\n",
       "  <thead>\n",
       "    <tr style=\"text-align: right;\">\n",
       "      <th></th>\n",
       "      <th>channel_ids</th>\n",
       "      <th>channel_groups</th>\n",
       "      <th>tetrode_ids</th>\n",
       "    </tr>\n",
       "  </thead>\n",
       "  <tbody>\n",
       "    <tr>\n",
       "      <th>0</th>\n",
       "      <td>0</td>\n",
       "      <td>0</td>\n",
       "      <td>1</td>\n",
       "    </tr>\n",
       "    <tr>\n",
       "      <th>1</th>\n",
       "      <td>1</td>\n",
       "      <td>0</td>\n",
       "      <td>1</td>\n",
       "    </tr>\n",
       "    <tr>\n",
       "      <th>2</th>\n",
       "      <td>2</td>\n",
       "      <td>0</td>\n",
       "      <td>1</td>\n",
       "    </tr>\n",
       "    <tr>\n",
       "      <th>3</th>\n",
       "      <td>3</td>\n",
       "      <td>0</td>\n",
       "      <td>1</td>\n",
       "    </tr>\n",
       "    <tr>\n",
       "      <th>4</th>\n",
       "      <td>4</td>\n",
       "      <td>1</td>\n",
       "      <td>2</td>\n",
       "    </tr>\n",
       "    <tr>\n",
       "      <th>5</th>\n",
       "      <td>5</td>\n",
       "      <td>1</td>\n",
       "      <td>2</td>\n",
       "    </tr>\n",
       "    <tr>\n",
       "      <th>6</th>\n",
       "      <td>6</td>\n",
       "      <td>1</td>\n",
       "      <td>2</td>\n",
       "    </tr>\n",
       "    <tr>\n",
       "      <th>7</th>\n",
       "      <td>7</td>\n",
       "      <td>1</td>\n",
       "      <td>2</td>\n",
       "    </tr>\n",
       "    <tr>\n",
       "      <th>8</th>\n",
       "      <td>8</td>\n",
       "      <td>2</td>\n",
       "      <td>3</td>\n",
       "    </tr>\n",
       "    <tr>\n",
       "      <th>9</th>\n",
       "      <td>9</td>\n",
       "      <td>2</td>\n",
       "      <td>3</td>\n",
       "    </tr>\n",
       "    <tr>\n",
       "      <th>10</th>\n",
       "      <td>10</td>\n",
       "      <td>2</td>\n",
       "      <td>3</td>\n",
       "    </tr>\n",
       "    <tr>\n",
       "      <th>11</th>\n",
       "      <td>11</td>\n",
       "      <td>2</td>\n",
       "      <td>3</td>\n",
       "    </tr>\n",
       "    <tr>\n",
       "      <th>12</th>\n",
       "      <td>12</td>\n",
       "      <td>3</td>\n",
       "      <td>4</td>\n",
       "    </tr>\n",
       "    <tr>\n",
       "      <th>13</th>\n",
       "      <td>13</td>\n",
       "      <td>3</td>\n",
       "      <td>4</td>\n",
       "    </tr>\n",
       "    <tr>\n",
       "      <th>14</th>\n",
       "      <td>14</td>\n",
       "      <td>3</td>\n",
       "      <td>4</td>\n",
       "    </tr>\n",
       "    <tr>\n",
       "      <th>15</th>\n",
       "      <td>15</td>\n",
       "      <td>3</td>\n",
       "      <td>4</td>\n",
       "    </tr>\n",
       "  </tbody>\n",
       "</table>\n",
       "</div>"
      ],
      "text/plain": [
       "    channel_ids  channel_groups  tetrode_ids\n",
       "0             0               0            1\n",
       "1             1               0            1\n",
       "2             2               0            1\n",
       "3             3               0            1\n",
       "4             4               1            2\n",
       "5             5               1            2\n",
       "6             6               1            2\n",
       "7             7               1            2\n",
       "8             8               2            3\n",
       "9             9               2            3\n",
       "10           10               2            3\n",
       "11           11               2            3\n",
       "12           12               3            4\n",
       "13           13               3            4\n",
       "14           14               3            4\n",
       "15           15               3            4"
      ]
     },
     "execution_count": 32,
     "metadata": {},
     "output_type": "execute_result"
    }
   ],
   "source": [
    "import pandas as pd\n",
    "\n",
    "df = pd.DataFrame({\n",
    "    'channel_ids': recording.get_channel_ids(),\n",
    "    'channel_groups': recording.get_channel_groups(),\n",
    "    'tetrode_ids': recording.get_channel_groups() + 1\n",
    "})\n",
    "df"
   ]
  },
  {
   "cell_type": "code",
   "execution_count": 33,
   "id": "6ef24b4e",
   "metadata": {},
   "outputs": [
    {
     "data": {
      "text/plain": [
       "array([0, 0, 0, 0, 1, 1, 1, 1, 2, 2, 2, 2, 3, 3, 3, 3])"
      ]
     },
     "execution_count": 33,
     "metadata": {},
     "output_type": "execute_result"
    }
   ],
   "source": [
    "channel_groups = recording.get_channel_groups()\n",
    "channel_groups"
   ]
  },
  {
   "cell_type": "code",
   "execution_count": 34,
   "id": "4aca32ea",
   "metadata": {},
   "outputs": [],
   "source": [
    "from hussaini_lab_to_nwb.tint_conversion.export_spike_waveforms import (\n",
    "    write_to_tetrode_files,\n",
    "    get_waveforms,\n",
    "    parse_generic_header,\n",
    "    combine_units_on_tetrode\n",
    ")"
   ]
  },
  {
   "cell_type": "code",
   "execution_count": 16,
   "id": "d13dade4",
   "metadata": {},
   "outputs": [
    {
     "name": "stdout",
     "output_type": "stream",
     "text": [
      "Writing axona_sample.1\n",
      "Writing axona_sample.2\n",
      "Writing axona_sample.3\n",
      "Writing axona_sample.4\n"
     ]
    }
   ],
   "source": [
    "write_to_tetrode_files(recording, sorting_nwb, channel_groups, set_file_to_tint)"
   ]
  },
  {
   "cell_type": "code",
   "execution_count": 35,
   "id": "ecbe4011",
   "metadata": {},
   "outputs": [
    {
     "name": "stdout",
     "output_type": "stream",
     "text": [
      "(72,) (72, 4, 50)\n",
      "(101,) (101, 4, 50)\n",
      "(59,) (59, 4, 50)\n",
      "(15,) (15, 4, 50)\n",
      "(39,) (39, 4, 50)\n",
      "(51,) (51, 4, 50)\n",
      "(38,) (38, 4, 50)\n",
      "(50,) (50, 4, 50)\n",
      "(47,) (47, 4, 50)\n",
      "(73,) (73, 4, 50)\n",
      "(47,) (47, 4, 50)\n",
      "(42,) (42, 4, 50)\n",
      "(67,) (67, 4, 50)\n",
      "(52,) (52, 4, 50)\n"
     ]
    }
   ],
   "source": [
    "# On the .X file there will be no more unit information, we will write all units from a given\n",
    "# tetrode for each tetrode channel\n",
    "\n",
    "header = parse_generic_header(set_file_to_tint)\n",
    "group_unit_ids = None\n",
    "\n",
    "waveforms = get_waveforms(recording, sorting_nwb, group_unit_ids, header)\n",
    "spike_samples = sorting_nwb.get_units_spike_train()\n",
    "for spk_trn, wv in zip(spike_samples, waveforms):\n",
    "    print(spk_trn.shape, wv.shape)"
   ]
  },
  {
   "cell_type": "code",
   "execution_count": 36,
   "id": "270fb512",
   "metadata": {},
   "outputs": [
    {
     "data": {
      "text/plain": [
       "memmap([[ -9,  -4,   1,   3,   0, -15, -39, -60, -67, -57, -37, -16,  -2,\n",
       "           2,   4,  10,  18,  25,  30,  30,  33,  26,  16,   4,   4, -15,\n",
       "         -16, -12, -11, -14,   0,  -8,   1,  -1,   1,  -1,   0,   1,   0,\n",
       "          -7,   1,   1,  -1,   0,   1,  -6,   1,   0,   0,   0],\n",
       "        [-15, -12,  -9,  -4,  -2,  -3, -14, -35, -57, -69, -67, -57, -42,\n",
       "         -28, -16,  -7,   0,   8,  12,  14,  14,  11,   8,   5,   5,   3,\n",
       "          -1,  -8, -11, -14,   0,  -1,   3,   1,  -1,   5,  -1,  -2,   1,\n",
       "          -2,  -8,   2,   0,  -1,   0,   8,   2,   4,  -4,  -4],\n",
       "        [-26, -19,  -8,   2,  10,  10,  -1, -22, -41, -49, -45, -33, -21,\n",
       "         -10,  -4,   0,   0,   0,  -3,  -5,  -7,  -8,  -8,  -5,  -5,  -9,\n",
       "         -12, -16, -17, -16,   1,  -1,  -1,  -1,   0,   2,   0,   0,   0,\n",
       "           0,  -6,   4,   0,   0,   1,   2,   7,  -2,  -1,   1],\n",
       "        [-44, -23,   0,  23,  41,  42,  22, -12, -46, -59, -49, -24,  -4,\n",
       "          -1, -14, -28, -30, -23,  -9,   2,   7,   1,  -8, -14, -15, -12,\n",
       "         -10, -10, -17, -28,   0,   0,   6,   2,   0,  -1,  -1,   0,  -1,\n",
       "           0,  -1,  -3,   1,   9,   1,  -2,   1,   0,  -1,   0]],\n",
       "       dtype=int8)"
      ]
     },
     "execution_count": 36,
     "metadata": {},
     "output_type": "execute_result"
    }
   ],
   "source": [
    "waveforms[0][0,:,:]"
   ]
  },
  {
   "cell_type": "code",
   "execution_count": 37,
   "id": "f5489547",
   "metadata": {},
   "outputs": [],
   "source": [
    "# get spike samples and waveforms of this group / tetrode\n",
    "group_waveforms = get_waveforms(recording, sorting_nwb, group_unit_ids, header)\n",
    "group_spike_samples = sorting_nwb.get_units_spike_train(unit_ids=group_unit_ids)\n",
    "\n",
    "# Assign each waveform to it's spike sample in a dictionary\n",
    "spike_waveform_dict = combine_units_on_tetrode(group_spike_samples, group_waveforms)\n"
   ]
  },
  {
   "cell_type": "code",
   "execution_count": 38,
   "id": "ccf36e6f",
   "metadata": {},
   "outputs": [
    {
     "name": "stdout",
     "output_type": "stream",
     "text": [
      "/mnt/d/freelance-work/catalyst-neuro/hussaini-lab-to-nwb/sample_bin_to_tint_no_bin/conversion_to_tint/axona_sample.1\n",
      "(173, 4, 50)\n"
     ]
    },
    {
     "data": {
      "text/plain": [
       "memmap([[ -9,  -4,   1,   3,   0, -15, -39, -60, -67, -57, -37, -16,  -2,\n",
       "           2,   4,  10,  18,  25,  30,  30,  33,  26,  16,   4,   4, -15,\n",
       "         -16, -12, -11, -14,   0,  -8,   1,  -1,   1,  -1,   0,   1,   0,\n",
       "          -7,   1,   1,  -1,   0,   1,  -6,   1,   0,   0,   0],\n",
       "        [-15, -12,  -9,  -4,  -2,  -3, -14, -35, -57, -69, -67, -57, -42,\n",
       "         -28, -16,  -7,   0,   8,  12,  14,  14,  11,   8,   5,   5,   3,\n",
       "          -1,  -8, -11, -14,   0,  -1,   3,   1,  -1,   5,  -1,  -2,   1,\n",
       "          -2,  -8,   2,   0,  -1,   0,   8,   2,   4,  -4,  -4],\n",
       "        [-26, -19,  -8,   2,  10,  10,  -1, -22, -41, -49, -45, -33, -21,\n",
       "         -10,  -4,   0,   0,   0,  -3,  -5,  -7,  -8,  -8,  -5,  -5,  -9,\n",
       "         -12, -16, -17, -16,   1,  -1,  -1,  -1,   0,   2,   0,   0,   0,\n",
       "           0,  -6,   4,   0,   0,   1,   2,   7,  -2,  -1,   1],\n",
       "        [-44, -23,   0,  23,  41,  42,  22, -12, -46, -59, -49, -24,  -4,\n",
       "          -1, -14, -28, -30, -23,  -9,   2,   7,   1,  -8, -14, -15, -12,\n",
       "         -10, -10, -17, -28,   0,   0,   6,   2,   0,  -1,  -1,   0,  -1,\n",
       "           0,  -1,  -3,   1,   9,   1,  -2,   1,   0,  -1,   0]],\n",
       "       dtype=int8)"
      ]
     },
     "execution_count": 38,
     "metadata": {},
     "output_type": "execute_result"
    }
   ],
   "source": [
    "# Read data back in to see if it worked as expected\n",
    "\n",
    "tetrode_filename = \\\n",
    "    '/mnt/d/freelance-work/catalyst-neuro/hussaini-lab-to-nwb/sample_bin_to_tint_no_bin/conversion_to_tint/axona_sample.1'\n",
    "print(tetrode_filename)\n",
    "\n",
    "from neo import AxonaIO\n",
    "\n",
    "neoio = AxonaIO(tetrode_filename)\n",
    "\n",
    "waveforms = neoio.get_spike_raw_waveforms()\n",
    "print(waveforms.shape)\n",
    "waveforms[1, :, :]"
   ]
  },
  {
   "cell_type": "markdown",
   "id": "4bd032c4",
   "metadata": {},
   "source": [
    "### Write to .X, .cut and .clu"
   ]
  },
  {
   "cell_type": "code",
   "execution_count": 44,
   "id": "2b544ae1",
   "metadata": {},
   "outputs": [],
   "source": [
    "def write_to_tint(recording, sorting, set_file):\n",
    "    '''Given a sorting extractor object, write appropriate data\n",
    "    to TINT format (from Axona). Will therefore create .X (tetrode),\n",
    "    .cut and .clu (spike sorting information) files.\n",
    "    \n",
    "    Parameters\n",
    "    ----------\n",
    "    recording : spikeextractors.RecordingExtractor\n",
    "    sorting : spikeextractors.SortingExtractor\n",
    "    set_file : Path or str\n",
    "        .set file location. Used to determine how many samples prior to and\n",
    "        post spike sample should be cut out for each waveform. .X files will have\n",
    "        the same base filename as the .set file. So if you do not want to overwrite\n",
    "        existing .X files in your .set file directory, copy the .set file to a new\n",
    "        folder and give its new location. The new files will appear there.\n",
    "        \n",
    "    Notes\n",
    "    -----\n",
    "    For details about the .X file format see:\n",
    "    http://space-memory-navigation.org/DacqUSBFileFormats.pdf\n",
    "    '''\n",
    "    \n",
    "    # writes to .X files for each tetrode\n",
    "    group_ids = recording.get_channel_groups()\n",
    "    write_to_tetrode_files(recording, sorting, group_ids, set_file)\n",
    "    \n",
    "    # writes to .cut and .clu files for each tetrode\n",
    "    write_unit_labels_to_file(sorting, set_file)"
   ]
  },
  {
   "cell_type": "code",
   "execution_count": 45,
   "id": "c15691ae",
   "metadata": {},
   "outputs": [
    {
     "name": "stdout",
     "output_type": "stream",
     "text": [
      "Writing axona_sample.1\n",
      "Writing axona_sample.2\n",
      "Writing axona_sample.3\n",
      "Writing axona_sample.4\n",
      "Write unit labels for tetrode 0 to .cut and .clu\n",
      "Write unit labels for tetrode 1 to .cut and .clu\n",
      "Write unit labels for tetrode 2 to .cut and .clu\n",
      "Write unit labels for tetrode 3 to .cut and .clu\n"
     ]
    }
   ],
   "source": [
    "write_to_tint(recording, sorting_nwb, set_file_to_tint)"
   ]
  },
  {
   "cell_type": "markdown",
   "id": "13b87295",
   "metadata": {},
   "source": [
    "## Misc"
   ]
  },
  {
   "cell_type": "code",
   "execution_count": null,
   "id": "0e684fd1",
   "metadata": {},
   "outputs": [],
   "source": [
    "def scale_values(x, maxabs, bound=127):\n",
    "    '''Scale signal `x` between -`bound` and +`bound`,\n",
    "    preserves 0 point.\n",
    "    \n",
    "    Parameters\n",
    "    ----------\n",
    "    x : np.array\n",
    "    absmax : numeric\n",
    "        max(|min(x)|, |max(x)|)\n",
    "    bound : numeric\n",
    "    \n",
    "    Return\n",
    "    ------\n",
    "    np.array\n",
    "    '''\n",
    "    return x / maxabs * bound"
   ]
  },
  {
   "cell_type": "code",
   "execution_count": null,
   "id": "0db6c27f",
   "metadata": {},
   "outputs": [],
   "source": []
  }
 ],
 "metadata": {
  "kernelspec": {
   "display_name": "Python (whatever you want to call it)",
   "language": "python",
   "name": "envname"
  },
  "language_info": {
   "codemirror_mode": {
    "name": "ipython",
    "version": 3
   },
   "file_extension": ".py",
   "mimetype": "text/x-python",
   "name": "python",
   "nbconvert_exporter": "python",
   "pygments_lexer": "ipython3",
   "version": "3.8.5"
  }
 },
 "nbformat": 4,
 "nbformat_minor": 5
}
