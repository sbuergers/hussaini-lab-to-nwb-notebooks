{
 "cells": [
  {
   "cell_type": "markdown",
   "id": "38378a04",
   "metadata": {},
   "source": [
    "# Convert recording and sorting extractor data to TINT format\n",
    "\n",
    "The Hussaini lab uses the proprietary TINT software from Axona to analyze extracellular electrophysiology data. While we are already able to read various data formats from Axona (`raw` data or `unit` data) into spikeinterface, perform preprocessing, spike sorting and export the data to NWB, we also want to allow to export data to the TINT format. \n",
    "\n",
    "The TINT format is essentially the same as the `unit` data, including `.X` and `.pos` files, but also `.cut` or `.clu`. The latter two contain information about the spike sorted units.\n",
    "\n",
    "The conversion can be facilitated by using the existing tools from the Hussaini lab, which [convert `.bin` data to `.X` and `.pos`](https://github.com/HussainiLab/BinConverter/blob/master/BinConverter/core/ConversionFunctions.py). Some of this code is only relevant for using the GUI, which did not work for me. I cleared out GUI code and ran a conversion from `.bin` to `.X` and `.pos` in this notebook: [explore_hussaini_tools.ipynb](https://github.com/sbuergers/hussaini-lab-to-nwb-notebooks/blob/master/explore_hussaini_tools.ipynb).\n",
    "\n",
    "They also already wrote a [`write_cut()`](https://github.com/GeoffBarrett/gebaSpike/blob/967097ec28592182ef9783d2d391930e1c63ca58/gebaSpike/core/writeCut.py) function.\n",
    "\n",
    "We can test our solutions by reading data with these [Hussaini lab tools](https://github.com/HussainiLab/BinConverter/blob/master/BinConverter/core/Tint_Matlab.py). "
   ]
  },
  {
   "cell_type": "markdown",
   "id": "ef8f7aaa",
   "metadata": {},
   "source": [
    "<a id='index'></a>\n",
    "## Index\n",
    "\n",
    "* [Testing functions](#testing_functions)\n",
    "* [Hussaini-lab functions](#hussaini-lab_functions)\n",
    "* [Convert Recording Extractor to TINT](#Convert_recording_extractor_to_tint)\n",
    "* [Convert Sorting Extractor to TINT](#Convert_sorting_extractor_to_tint)"
   ]
  },
  {
   "cell_type": "code",
   "execution_count": 10,
   "id": "83cf3093",
   "metadata": {},
   "outputs": [
    {
     "name": "stdout",
     "output_type": "stream",
     "text": [
      "3.8.5 (default, Sep  4 2020, 07:30:14) \n",
      "[GCC 7.3.0] linux /home/sbuergers/spikeinterface/spikeinterface_new_api/venv/bin/python\n"
     ]
    }
   ],
   "source": [
    "import sys\n",
    "import os\n",
    "from pathlib import Path\n",
    "import numpy as np\n",
    "import matplotlib\n",
    "import matplotlib.pyplot as plt\n",
    "plt.rcParams[\"figure.figsize\"] = (16, 8)\n",
    "plt.rcParams.update({'font.size':14})\n",
    "%matplotlib inline\n",
    "\n",
    "import spikeextractors as se\n",
    "import spiketoolkit as st\n",
    "\n",
    "print(sys.version, sys.platform, sys.executable)"
   ]
  },
  {
   "cell_type": "code",
   "execution_count": 11,
   "id": "1210bfc6",
   "metadata": {},
   "outputs": [
    {
     "name": "stdout",
     "output_type": "stream",
     "text": [
      "Input directory =  /mnt/d/freelance-work/catalyst-neuro/hussaini-lab-to-nwb/sample_bin_to_tint_no_bin\n",
      "Output directory =  /mnt/d/freelance-work/catalyst-neuro/hussaini-lab-to-nwb/sample_bin_to_tint_no_bin/conversion_to_tint\n"
     ]
    }
   ],
   "source": [
    "# Directories\n",
    "\n",
    "dir_name = Path('/mnt/d/freelance-work/catalyst-neuro/hussaini-lab-to-nwb/sample_bin_to_tint_no_bin')\n",
    "print('Input directory = ', dir_name)\n",
    "\n",
    "save_dir = dir_name / 'conversion_to_tint'\n",
    "save_dir.mkdir(parents=True, exist_ok=True)\n",
    "print('Output directory = ', save_dir)"
   ]
  },
  {
   "cell_type": "code",
   "execution_count": 12,
   "id": "aafca1b7",
   "metadata": {},
   "outputs": [],
   "source": [
    "# Read cached spikeextractors data\n",
    "\n",
    "r_cache = se.load_extractor_from_pickle(os.path.join(dir_name, 'cached_unit_data_no_bin_preproc.pkl'))"
   ]
  },
  {
   "cell_type": "code",
   "execution_count": 13,
   "id": "69609f9d",
   "metadata": {},
   "outputs": [
    {
     "name": "stderr",
     "output_type": "stream",
     "text": [
      "/home/sbuergers/spikeinterface/spikeinterface_new_api/venv/lib/python3.8/site-packages/hdmf/common/table.py:442: UserWarning: An attribute 'name' already exists on DynamicTable 'electrodes' so this column cannot be accessed as an attribute, e.g., table.name; it can only be accessed using other methods, e.g., table['name'].\n",
      "  warn(msg)\n"
     ]
    }
   ],
   "source": [
    "# Read NWB recording data\n",
    "\n",
    "nwb_dir = Path(dir_name, 'nwb')\n",
    "recording_nwb = se.NwbRecordingExtractor(nwb_dir / 'axona_tutorial_re2.nwb')"
   ]
  },
  {
   "cell_type": "code",
   "execution_count": 14,
   "id": "29ca4d3b",
   "metadata": {},
   "outputs": [],
   "source": [
    "# Read NWB sorting data\n",
    "\n",
    "sorting_nwb = se.NwbSortingExtractor(nwb_dir / 'axona_se_MS4.nwb', sampling_frequency=48000)"
   ]
  },
  {
   "cell_type": "code",
   "execution_count": 15,
   "id": "43beb92a",
   "metadata": {},
   "outputs": [
    {
     "name": "stdout",
     "output_type": "stream",
     "text": [
      "<class 'spikeextractors.extractors.bindatrecordingextractor.bindatrecordingextractor.BinDatRecordingExtractor'>\n",
      "<class 'spikeextractors.extractors.nwbextractors.nwbextractors.NwbRecordingExtractor'>\n",
      "<class 'spikeextractors.extractors.nwbextractors.nwbextractors.NwbSortingExtractor'>\n"
     ]
    }
   ],
   "source": [
    "# Show data types of different objects\n",
    "\n",
    "print(type(r_cache))\n",
    "print(type(recording_nwb))\n",
    "print(type(sorting_nwb))"
   ]
  },
  {
   "cell_type": "markdown",
   "id": "9b12d160",
   "metadata": {},
   "source": [
    "<a id=\"testing_functions\"></a>\n",
    "## Testing functions\n",
    "[back to index](#index)"
   ]
  },
  {
   "cell_type": "markdown",
   "id": "93029f86",
   "metadata": {},
   "source": [
    "As we start exporting to putative TINT format, we will want to check if we can read it back in."
   ]
  },
  {
   "cell_type": "code",
   "execution_count": 3,
   "id": "d3d0bd7e",
   "metadata": {},
   "outputs": [],
   "source": [
    "from spikeextractors.extractors.axonaunitrecordingextractor import AxonaUnitRecordingExtractor\n",
    "import os\n",
    "\n",
    "\n",
    "def test_axonaunitrecordingextractor(filename):\n",
    "    '''Reads UNIT data with AxonaUnitRecordingExtractor and\n",
    "    performs some simple operations as a sanity check. \n",
    "    \n",
    "    Parameters\n",
    "    ----------\n",
    "    filename : str or Path\n",
    "        Full filename of `.set` file (could be any extension actually)\n",
    "    '''\n",
    "    re = AxonaUnitRecordingExtractor(filename=filename)\n",
    "    \n",
    "    # TEST AXONARECORDINGEXTRACTOR\n",
    "    # Retrieve some simple recording information and print it\n",
    "    recording = re\n",
    "    print('Channel ids = {}'.format(recording.get_channel_ids()))\n",
    "    print('Num. channels = {}'.format(len(recording.get_channel_ids())))\n",
    "    print('Sampling frequency = {} Hz'.format(recording.get_sampling_frequency()))\n",
    "    print('Num. timepoints = {}'.format(recording.get_num_frames()))\n",
    "    print('Stdev. on third channel = {}'.format(np.std(recording.get_traces(channel_ids=2))))\n",
    "    print('Location of third electrode = {}'.format(\n",
    "        recording.get_channel_property(channel_id=2, property_name='location')))\n",
    "    print('Channel groups = {}'.format(recording.get_channel_groups()))\n",
    "    \n",
    "    # TEST NEO_READER (axonaio)\n",
    "    print(recording.neo_reader.header['signal_channels'])\n",
    "    \n",
    "    \n",
    "def test_tetrode_files(filename):\n",
    "    '''Reads UNIT data with AxonaUnitRecordingExtractor and\n",
    "    performs some simple operations as a sanity check. \n",
    "    Will only test .X  and .set files (no .clu or .cut, no .pos).\n",
    "    \n",
    "    Parameters\n",
    "    ----------\n",
    "    filename : str or Path\n",
    "        Full filename of `.set` file (could be any extension actually)\n",
    "    '''\n",
    "    test_axonaunitrecordingextractor(filename)"
   ]
  },
  {
   "cell_type": "markdown",
   "id": "c6333895",
   "metadata": {},
   "source": [
    "<a id=\"hussaini-lab_functions\"></a>\n",
    "## Hussaini-lab functions\n",
    "[back to index](#index)\n",
    "\n",
    "`gebaSpike` actually wants already existing `.cut` or `.clu` files, and allows modifying them. So these might not be all that useful for exporting to `.cut` or `.clu`."
   ]
  },
  {
   "cell_type": "code",
   "execution_count": 4,
   "id": "4c221133",
   "metadata": {},
   "outputs": [],
   "source": [
    "# From \n",
    "# https://github.com/GeoffBarrett/gebaSpike/blob/967097ec28592182ef9783d2d391930e1c63ca58/gebaSpike/main.py\n",
    "\n",
    "def save_function(self):\n",
    "    \"\"\"\n",
    "    this method will save the .cut file\n",
    "    :return:\n",
    "    \"\"\"\n",
    "    if self.cut_filename.text() == default_filename:\n",
    "        return\n",
    "\n",
    "    save_filename = os.path.realpath(self.cut_filename.text())\n",
    "\n",
    "    if os.path.exists(save_filename):\n",
    "        self.choice = None\n",
    "        self.LogError.signal.emit('OverwriteCut!%s' % save_filename)\n",
    "        while self.choice is None:\n",
    "            time.sleep(0.1)\n",
    "\n",
    "        if self.choice != QtWidgets.QMessageBox.Yes:\n",
    "            return\n",
    "\n",
    "    if len(self.tetrode_data) == 0:\n",
    "        return\n",
    "\n",
    "    # organize the cut data\n",
    "    n_spikes_expected = self.tetrode_data.shape[1]\n",
    "    n_spikes = len(np.asarray([item for sublist in self.cell_indices.values() for item in sublist]))\n",
    "\n",
    "    # check that with the manipulation of the spikes, that we still have the correct number of spikes\n",
    "    if n_spikes != n_spikes_expected:\n",
    "        self.choice = None\n",
    "        self.LogError.signal.emit('cutSizeError')\n",
    "        while self.choice is None:\n",
    "            time.sleep(0.1)\n",
    "        return\n",
    "\n",
    "    # we will check if we are missing some of the spikes somehow. If we kept track of them, then the indices from\n",
    "    # the spikes, when sorted, should produce an array from 0 -> N-1 spikes.\n",
    "    if not np.array_equal(np.sort(np.asarray([item for sublist in self.cell_indices.values() for item in sublist])),\n",
    "                      np.arange(len(self.cut_data_original))):\n",
    "        self.choice = None\n",
    "        self.LogError.signal.emit('cutIndexError')\n",
    "        while self.choice is None:\n",
    "            time.sleep(0.1)\n",
    "        return\n",
    "\n",
    "    cut_values = np.zeros(n_spikes)\n",
    "    for cell, cell_indices in self.cell_indices.items():\n",
    "        cut_values[cell_indices] = cell\n",
    "\n",
    "    if '.clu.' in save_filename:\n",
    "        # save the .clu filename\n",
    "        write_clu(save_filename, cut_values)\n",
    "        self.choice = None\n",
    "        self.LogError.signal.emit('saveCompleteClu')\n",
    "        while self.choice is None:\n",
    "            time.sleep(0.1)\n",
    "        self.actions_made = False\n",
    "\n",
    "    else:\n",
    "        # save the cut filename\n",
    "        write_cut(save_filename, cut_values)\n",
    "        self.choice = None\n",
    "        self.LogError.signal.emit('saveComplete')\n",
    "        while self.choice is None:\n",
    "            time.sleep(0.1)\n",
    "        self.actions_made = False"
   ]
  },
  {
   "cell_type": "code",
   "execution_count": 5,
   "id": "01729f77",
   "metadata": {},
   "outputs": [],
   "source": [
    "# From \n",
    "# https://github.com/GeoffBarrett/gebaSpike/blob/967097ec28592182ef9783d2d391930e1c63ca58/gebaSpike/core/writeCut.py\n",
    "\n",
    "def write_cut(cut_filename, cut, basename=None):\n",
    "    if basename is None:\n",
    "        basename = os.path.basename(os.path.splitext(cut_filename)[0])\n",
    "\n",
    "    unique_cells = np.unique(cut)\n",
    "\n",
    "    if 0 not in unique_cells:\n",
    "        # if it happens that there is no zero cell, add it anyways\n",
    "        unique_cells = np.insert(unique_cells, 0, 0)  # object, index, value to insert\n",
    "\n",
    "    n_clusters = len(np.unique(cut))\n",
    "    n_spikes = len(cut)\n",
    "\n",
    "    write_list = []  # the list of values to write\n",
    "\n",
    "    tab = '    '  # the spaces didn't line up with my tab so I just created a string with enough spaces\n",
    "    empty_space = '               '  # some of the empty spaces don't line up to x tabs\n",
    "\n",
    "    # we add 1 to n_clusters because zero is the garbage cell that no one uses\n",
    "    write_list.append('n_clusters: %d\\n' % (n_clusters))\n",
    "    write_list.append('n_channels: 4\\n')\n",
    "    write_list.append('n_params: 2\\n')\n",
    "    write_list.append('times_used_in_Vt:%s' % ((tab + '0') * 4 + '\\n'))\n",
    "\n",
    "    zero_string = (tab + '0') * 8 + '\\n'\n",
    "\n",
    "    for cell_i in np.arange(n_clusters):\n",
    "        write_list.append(' cluster: %d center:%s' % (cell_i, zero_string))\n",
    "        write_list.append('%smin:%s' % (empty_space, zero_string))\n",
    "        write_list.append('%smax:%s' % (empty_space, zero_string))\n",
    "    write_list.append('\\nExact_cut_for: %s spikes: %d\\n' % (basename, n_spikes))\n",
    "\n",
    "    # now the cut file lists 25 values per row\n",
    "    n_rows = int(np.floor(n_spikes / 25))  # number of full rows\n",
    "\n",
    "    remaining = int(n_spikes - n_rows * 25)\n",
    "    cut_string = ('%3u' * 25 + '\\n') * n_rows + '%3u' * remaining\n",
    "\n",
    "    write_list.append(cut_string % (tuple(cut)))\n",
    "\n",
    "    with open(cut_filename, 'w') as f:\n",
    "        f.writelines(write_list)"
   ]
  },
  {
   "cell_type": "code",
   "execution_count": 6,
   "id": "07cc054b",
   "metadata": {},
   "outputs": [],
   "source": [
    "# From \n",
    "# https://github.com/GeoffBarrett/gebaSpike/blob/967097ec28592182ef9783d2d391930e1c63ca58/gebaSpike/core/writeCut.py\n",
    "\n",
    "def write_clu(clu_filename, data):\n",
    "    # the .clu files and the .cut files are different since the .clu files are the .cut files (with no manual sorting)\n",
    "    # without the headers, and the values go from 1 -> N instead of 0 -> N, (1-based numbering instead of 0-based). Thus\n",
    "    # we add 1 to the .cut data to get the .clu data\n",
    "\n",
    "    data = np.asarray(data).astype(int)  # ensuring that the data is the integer data-type\n",
    "\n",
    "    data += 1  # making the data 1-based instead of 0-based\n",
    "\n",
    "    # calculating the number of clusters\n",
    "    n_clust = len(np.unique(data))\n",
    "\n",
    "    # ensuring that the cluster number is the 1st value\n",
    "    data = np.concatenate(([n_clust], data))\n",
    "\n",
    "    # saving the data as a column (delimter='\\n') and integer format.\n",
    "    np.savetxt(clu_filename, data, fmt='%d', delimiter='\\n')"
   ]
  },
  {
   "cell_type": "code",
   "execution_count": 7,
   "id": "230e729d",
   "metadata": {},
   "outputs": [],
   "source": [
    "# From \n",
    "# https://github.com/HussainiLab/BinConverter/blob/master/BinConverter/core/ConvertTetrode.py\n",
    "\n",
    "import os\n",
    "from BinConverter.core.conversion_utils import get_set_header\n",
    "import numpy as np\n",
    "import struct\n",
    "\n",
    "\n",
    "def write_tetrode(filepath, data, Fs):\n",
    "\n",
    "    session_path, session_filename = os.path.split(filepath)\n",
    "    tint_basename = os.path.splitext(session_filename)[0]\n",
    "    set_filename = os.path.join(session_path, '%s.set' % tint_basename)\n",
    "\n",
    "    n = len(data)\n",
    "\n",
    "    header = get_set_header(set_filename)\n",
    "\n",
    "    with open(filepath, 'w') as f:\n",
    "        num_chans = 'num_chans 4'\n",
    "        timebase_head = '\\ntimebase %d hz' % (96000)\n",
    "        bp_timestamp = '\\nbytes_per_timestamp %d' % (4)\n",
    "        # samps_per_spike = '\\nsamples_per_spike %d' % (int(Fs*1e-3))\n",
    "        samps_per_spike = '\\nsamples_per_spike %d' % (50)\n",
    "        sample_rate = '\\nsample_rate %d hz' % (Fs)\n",
    "        b_p_sample = '\\nbytes_per_sample %d' % (1)\n",
    "        # b_p_sample = '\\nbytes_per_sample %d' % (4)\n",
    "        spike_form = '\\nspike_format t,ch1,t,ch2,t,ch3,t,ch4'\n",
    "        num_spikes = '\\nnum_spikes %d' % (n)\n",
    "        start = '\\ndata_start'\n",
    "\n",
    "        write_order = [header, num_chans, timebase_head,\n",
    "                       bp_timestamp,\n",
    "                       samps_per_spike, sample_rate, b_p_sample, spike_form, num_spikes, start]\n",
    "\n",
    "        f.writelines(write_order)\n",
    "\n",
    "    # rearranging the data to have a flat array of t1, waveform1, t2, waveform2, t3, waveform3, etc....\n",
    "    spike_times = np.asarray(sorted(data.keys()))\n",
    "\n",
    "    # the spike times are repeated for each channel so lets tile this\n",
    "    spike_times = np.tile(spike_times, (4, 1))\n",
    "    spike_times = spike_times.flatten(order='F')\n",
    "\n",
    "    spike_values = np.asarray([value for (key, value) in sorted(data.items())])\n",
    "\n",
    "    # this will create a (n_samples, n_channels, n_samples_per_spike) => (n, 4, 50) sized matrix, we will create a\n",
    "    # matrix of all the samples and channels going from ch1 -> ch4 for each spike time\n",
    "    # time1 ch1_data\n",
    "    # time1 ch2_data\n",
    "    # time1 ch3_data\n",
    "    # time1 ch4_data\n",
    "    # time2 ch1_data\n",
    "    # time2 ch2_data\n",
    "    # .\n",
    "    # .\n",
    "    # .\n",
    "\n",
    "    spike_values = spike_values.reshape((n * 4, 50))  # create the 4nx50 channel data matrix\n",
    "\n",
    "    # make the first column the time values\n",
    "    spike_array = np.hstack((spike_times.reshape(len(spike_times), 1), spike_values))\n",
    "\n",
    "    data = None\n",
    "    spike_times = None\n",
    "    spike_values = None\n",
    "\n",
    "    spike_n = spike_array.shape[0]\n",
    "\n",
    "    t_packed = struct.pack('>%di' % spike_n, *spike_array[:, 0].astype(int))\n",
    "    spike_array = spike_array[:, 1:]  # removing time data from this matrix to save memory\n",
    "\n",
    "    spike_data_pack = struct.pack('<%db' % (spike_n*50), *spike_array.astype(int).flatten())\n",
    "\n",
    "    spike_array = None\n",
    "\n",
    "    # now we need to combine the lists by alternating\n",
    "\n",
    "    comb_list = [None] * (2*spike_n)\n",
    "    comb_list[::2] = [t_packed[i:i + 4] for i in range(0, len(t_packed), 4)]  # breaks up t_packed into a list,\n",
    "    # each timestamp is one 4 byte integer\n",
    "    comb_list[1::2] = [spike_data_pack[i:i + 50] for i in range(0, len(spike_data_pack), 50)]  # breaks up spike_data_\n",
    "    # pack and puts it into a list, each spike is 50 one byte integers\n",
    "\n",
    "    t_packed = None\n",
    "    spike_data_pack = None\n",
    "\n",
    "    write_order = []\n",
    "    with open(filepath, 'rb+') as f:\n",
    "\n",
    "        write_order.extend(comb_list)\n",
    "        write_order.append(bytes('\\r\\ndata_end\\r\\n', 'utf-8'))\n",
    "\n",
    "        f.seek(0, 2)\n",
    "        f.writelines(write_order)"
   ]
  },
  {
   "cell_type": "code",
   "execution_count": null,
   "id": "75bfa970",
   "metadata": {},
   "outputs": [],
   "source": []
  },
  {
   "cell_type": "code",
   "execution_count": null,
   "id": "62ff0753",
   "metadata": {},
   "outputs": [],
   "source": []
  },
  {
   "cell_type": "code",
   "execution_count": null,
   "id": "bc976e55",
   "metadata": {},
   "outputs": [],
   "source": []
  },
  {
   "cell_type": "markdown",
   "id": "bc8c7b45",
   "metadata": {},
   "source": [
    "<a id=\"Convert_recording_extractor_to_tint\"></a>\n",
    "## Convert Recording extractor to TINT\n",
    "[back to index](#index)"
   ]
  },
  {
   "cell_type": "markdown",
   "id": "852eb64d",
   "metadata": {},
   "source": [
    "Hmm, since we are writing to TINT, thereby creating `.X` tetrode files, we throw away all information in-between spikes. There is no point to convert the fake continuous recording used for spike sorting to TINT at all. We really only want to export the spike sorting output!"
   ]
  },
  {
   "cell_type": "code",
   "execution_count": 12,
   "id": "90a3c847",
   "metadata": {},
   "outputs": [],
   "source": [
    "# Anything to do here?"
   ]
  },
  {
   "cell_type": "markdown",
   "id": "85d90289",
   "metadata": {},
   "source": [
    "<a id=\"Convert_sorting_extractor_to_tint\"></a>\n",
    "## Convert Sorting extractor to TINT\n",
    "[back to index](#index)\n",
    "\n",
    "There are several points in the pipeline at which we might want to export to TINT. Ideally it should work for any `SortingExtractor` object!"
   ]
  },
  {
   "cell_type": "code",
   "execution_count": 13,
   "id": "7fe21ef8",
   "metadata": {},
   "outputs": [
    {
     "name": "stdout",
     "output_type": "stream",
     "text": [
      "Where do we load data from?\n",
      " /mnt/d/freelance-work/catalyst-neuro/hussaini-lab-to-nwb/sample_bin_to_tint_no_bin\n"
     ]
    }
   ],
   "source": [
    "print('Where do we load data from?\\n', dir_name)"
   ]
  },
  {
   "cell_type": "markdown",
   "id": "ae069b09",
   "metadata": {},
   "source": [
    "From a sorting extractor we can obtain a list unit spike sample arrays. We can convert this to the .clu or .cut type array of unit ID labels for each spike.\n"
   ]
  },
  {
   "cell_type": "code",
   "execution_count": 14,
   "id": "0fc1e882",
   "metadata": {},
   "outputs": [
    {
     "name": "stdout",
     "output_type": "stream",
     "text": [
      "20201004_Tint_1\n"
     ]
    }
   ],
   "source": [
    "cut_filename = Path('/mnt/d/freelance-work/catalyst-neuro/hussaini-lab-to-nwb/Axona_Tint_1ms/20201004_Tint_1.cut')\n",
    "\n",
    "basename = os.path.basename(os.path.splitext(cut_filename)[0])\n",
    "\n",
    "print(basename)"
   ]
  },
  {
   "cell_type": "code",
   "execution_count": 15,
   "id": "8bae0e8e",
   "metadata": {},
   "outputs": [
    {
     "name": "stdout",
     "output_type": "stream",
     "text": [
      "/mnt/d/freelance-work/catalyst-neuro/hussaini-lab-to-nwb/Axona_Tint_1ms/20201004_Tint.set\n"
     ]
    },
    {
     "data": {
      "text/plain": [
       "PosixPath('/mnt/d/freelance-work/catalyst-neuro/hussaini-lab-to-nwb/Axona_Tint_1ms/20201004_Tint_1.cut')"
      ]
     },
     "execution_count": 15,
     "metadata": {},
     "output_type": "execute_result"
    }
   ],
   "source": [
    "filename = Path('/mnt/d/freelance-work/catalyst-neuro/hussaini-lab-to-nwb/Axona_Tint_1ms/20201004_Tint.set')\n",
    "print(filename)\n",
    "\n",
    "Path(str(filename.with_suffix('')) + '_{}'.format(1) + '.cut')"
   ]
  },
  {
   "cell_type": "markdown",
   "id": "09a7d9cc",
   "metadata": {},
   "source": [
    "### Write unit labels to .cut and .clu files"
   ]
  },
  {
   "cell_type": "code",
   "execution_count": 16,
   "id": "2270a472",
   "metadata": {},
   "outputs": [],
   "source": [
    "def convert_spike_train_to_label_array(spike_train):\n",
    "    '''Takes a list of arrays, where each array is a series of\n",
    "    sample points at which a spike occured for a given unit\n",
    "    (each list item is a unit). Converts to .cut array, i.e.\n",
    "    orders spike samples from all units and labels each sample\n",
    "    with the appropriate unit ID.\n",
    "    \n",
    "    Parameters\n",
    "    ----------\n",
    "    spike_train : List of np.arrays\n",
    "        Output of `get_units_spike_train()` method of sorting extractor\n",
    "        \n",
    "    Return\n",
    "    ------\n",
    "    unit_labels_sorted : np.array\n",
    "        Each entry is the unit ID corresponding to the spike sample that\n",
    "        occured at this ordinal position\n",
    "    '''\n",
    "\n",
    "    # Generate Index array (indexing the unit for a given spike sample)\n",
    "    unit_labels = []\n",
    "    for i, l in enumerate(spike_train):\n",
    "        unit_labels.append(np.ones((len(l),), dtype=int) * i)\n",
    "    \n",
    "    # Flatten lists and sort them\n",
    "    spike_train_flat = np.concatenate(spike_train).ravel()\n",
    "    unit_labels_flat = np.concatenate(unit_labels).ravel()\n",
    "\n",
    "    sort_index = np.argsort(spike_train_flat)\n",
    "\n",
    "    unit_labels_sorted = unit_labels_flat[sort_index]\n",
    "\n",
    "    return unit_labels_sorted"
   ]
  },
  {
   "cell_type": "code",
   "execution_count": 17,
   "id": "8215d02d",
   "metadata": {},
   "outputs": [],
   "source": [
    "def write_to_cut_file(cut_filename, unit_labels):\n",
    "    '''Write spike sorting output to .cut file.\n",
    "    \n",
    "    Parameters\n",
    "    ----------\n",
    "    cut_filename : str or Path\n",
    "        Full filename of .cut file to write to. A given .cut file belongs\n",
    "        to a given tetrode file. For example, for tetrode `my_file.1`, the\n",
    "        corresponding cut_filename should be `my_file_1.cut`.\n",
    "    unit_labels : np.array\n",
    "        Vector of unit labels for each spike sample (ordered by time of \n",
    "        occurence)\n",
    "        \n",
    "    Example\n",
    "    -------\n",
    "    # Given a sortingextractor called sorting_nwb:\n",
    "    spike_train = sorting_nwb.get_units_spike_train()\n",
    "    unit_labels = convert_spike_train_to_label_array(spike_train)\n",
    "    write_to_cut_file(cut_filename, unit_labels)\n",
    "    \n",
    "    ---\n",
    "    Largely based on gebaSpike implementation by Geoff Barrett\n",
    "    https://github.com/GeoffBarrett/gebaSpike\n",
    "    '''\n",
    "\n",
    "    unique_cells = np.unique(unit_labels)\n",
    "\n",
    "    n_clusters = len(np.unique(unit_labels))\n",
    "    n_spikes = len(unit_labels)\n",
    "\n",
    "    write_list = []\n",
    "\n",
    "    tab = '    '\n",
    "    empty_space = '               '\n",
    "\n",
    "    write_list.append('n_clusters: %d\\n' % (n_clusters))\n",
    "    write_list.append('n_channels: 4\\n')\n",
    "    write_list.append('n_params: 2\\n')\n",
    "    write_list.append('times_used_in_Vt:%s' % ((tab + '0') * 4 + '\\n'))\n",
    "\n",
    "    zero_string = (tab + '0') * 8 + '\\n'\n",
    "\n",
    "    for cell_i in np.arange(n_clusters):\n",
    "        write_list.append(' cluster: %d center:%s' % (cell_i, zero_string))\n",
    "        write_list.append('%smin:%s' % (empty_space, zero_string))\n",
    "        write_list.append('%smax:%s' % (empty_space, zero_string))\n",
    "    write_list.append('\\nExact_cut_for: %s spikes: %d\\n' % (basename, n_spikes))\n",
    "\n",
    "    # The unit label array consists of 25 values per row in .cut file\n",
    "    n_rows = int(np.floor(n_spikes / 25))\n",
    "    remaining = int(n_spikes - n_rows * 25)\n",
    "\n",
    "    cut_string = ('%3u' * 25 + '\\n') * n_rows + '%3u' * remaining\n",
    "\n",
    "    write_list.append(cut_string % (tuple(unit_labels)))\n",
    "\n",
    "    with open(cut_filename, 'w') as f:\n",
    "        f.writelines(write_list)"
   ]
  },
  {
   "cell_type": "code",
   "execution_count": 18,
   "id": "2487be27",
   "metadata": {},
   "outputs": [],
   "source": [
    "def write_to_clu_file(clu_filename, unit_labels):\n",
    "    ''' .clu files are pruned .cut files, containing only a long vector of unit\n",
    "    labels, which are 1-indexed, instead of 0-indexed. In addition, the very first\n",
    "    entry is the total number of units.\n",
    "    \n",
    "    Parameters\n",
    "    ----------\n",
    "    clu_filename : str or Path\n",
    "        Full filename of .clu file to write to. A given .clu file belongs\n",
    "        to a given tetrode file. For example, for tetrode `my_file.1`, the\n",
    "        corresponding clu_filename should be `my_file_1.clu`.\n",
    "    unit_labels : np.array\n",
    "        Vector of unit labels for each spike sample (ordered by time of \n",
    "        occurence)\n",
    "        \n",
    "    ---\n",
    "    Largely based on gebaSpike implementation by Geoff Barrett\n",
    "    https://github.com/GeoffBarrett/gebaSpike\n",
    "    '''\n",
    "    unit_labels = np.asarray(unit_labels).astype(int)\n",
    "    unit_labels += 1\n",
    "\n",
    "    n_clust = len(np.unique(unit_labels))\n",
    "    unit_labels = np.concatenate(([n_clust], unit_labels))\n",
    "\n",
    "    np.savetxt(clu_filename, unit_labels, fmt='%d', delimiter='\\n')"
   ]
  },
  {
   "cell_type": "code",
   "execution_count": 19,
   "id": "995d9aa5",
   "metadata": {},
   "outputs": [],
   "source": [
    "def set_cut_filename_from_basename(filename, tetrode_id):\n",
    "    '''Given a str or Path object, assume the last entry after a slash\n",
    "    is a filename, strip any file suffix, add tetrode ID label, and\n",
    "    .cut suffix to name.\n",
    "    \n",
    "    Parameters\n",
    "    ----------\n",
    "    filename : str or Path\n",
    "    tetrode_id : int\n",
    "    '''\n",
    "    return Path(str(filename).split('.')[0] + '_{}'.format(tetrode_id) + '.cut')"
   ]
  },
  {
   "cell_type": "code",
   "execution_count": 20,
   "id": "fadbd312",
   "metadata": {},
   "outputs": [],
   "source": [
    "def write_unit_labels_to_file(sorting_extractor, filename):\n",
    "    '''Write spike sorting output to .cut file, separately for each\n",
    "    tetrode.\n",
    "    \n",
    "    Parameters\n",
    "    ----------\n",
    "    sorting_extractor : spikeextractors.SortingExtractor\n",
    "    filename : str or Path\n",
    "        Full filename of .set file or base-filename (i.e. the part of the\n",
    "        filename all Axona files have in common). A given .cut file belongs\n",
    "        to a given tetrode file. For example, for tetrode `my_file.1`, the\n",
    "        corresponding cut_filename should be `my_file_1.cut`. This will be\n",
    "        set automatically given the base-filename or set file.\n",
    "        \n",
    "    TODO: Any reason one might want to only convert some tetrodes or some\n",
    "    samples? Should those be parameters?\n",
    "    '''\n",
    "    tetrode_ids = sorting_extractor.get_units_property(property_name='group')\n",
    "    tetrode_ids = np.array(tetrode_ids)\n",
    "    \n",
    "    unit_ids = np.array(sorting_extractor.get_unit_ids())\n",
    "    \n",
    "    for i in np.unique(tetrode_ids):\n",
    "        \n",
    "        print('Converting Tetrode {}'.format(i))\n",
    "\n",
    "        spike_train = sorting_extractor.get_units_spike_train(unit_ids=unit_ids[tetrode_ids==i])\n",
    "        unit_labels = convert_spike_train_to_label_array(spike_train)\n",
    "\n",
    "        # We use Axona conventions for filenames (tetrodes are 1 indexed)\n",
    "        cut_filename = set_cut_filename_from_basename(filename, i + 1)\n",
    "        clu_filename = Path(str(cut_filename).replace('.cut', '.clu'))\n",
    "\n",
    "        write_to_cut_file(cut_filename, unit_labels)\n",
    "        write_to_clu_file(clu_filename, unit_labels)"
   ]
  },
  {
   "cell_type": "code",
   "execution_count": 21,
   "id": "001d00c1",
   "metadata": {},
   "outputs": [
    {
     "name": "stdout",
     "output_type": "stream",
     "text": [
      "<class 'spikeextractors.extractors.nwbextractors.nwbextractors.NwbSortingExtractor'>\n"
     ]
    }
   ],
   "source": [
    "# We have sorting data exported in `.nwb` format\n",
    "\n",
    "nwb_dir = Path(dir_name, 'nwb')\n",
    "sorting_nwb = se.NwbSortingExtractor(nwb_dir / 'axona_se_MS4.nwb', sampling_frequency=48000)\n",
    "\n",
    "print(type(sorting_nwb))"
   ]
  },
  {
   "cell_type": "code",
   "execution_count": 22,
   "id": "45c9d08a",
   "metadata": {},
   "outputs": [
    {
     "name": "stdout",
     "output_type": "stream",
     "text": [
      "Sampling frequency: 48000 Hz\n"
     ]
    }
   ],
   "source": [
    "print('Sampling frequency:', sorting_nwb.get_sampling_frequency(), 'Hz')"
   ]
  },
  {
   "cell_type": "code",
   "execution_count": 23,
   "id": "e0ddef20",
   "metadata": {},
   "outputs": [
    {
     "name": "stdout",
     "output_type": "stream",
     "text": [
      "Converting Tetrode 0\n",
      "Converting Tetrode 1\n",
      "Converting Tetrode 2\n",
      "Converting Tetrode 3\n"
     ]
    }
   ],
   "source": [
    "# Convert all tetrodes from sorting extractor to cut files\n",
    "write_unit_labels_to_file(sorting_nwb, filename)"
   ]
  },
  {
   "cell_type": "markdown",
   "id": "bb4bd5ca",
   "metadata": {},
   "source": [
    "### Write waveforms to tetrode files (.X)\n",
    "\n",
    "Here, we need information that is available in the `.set` file."
   ]
  },
  {
   "cell_type": "code",
   "execution_count": 86,
   "id": "372f0a6d",
   "metadata": {},
   "outputs": [],
   "source": [
    "def parse_generic_header(filename):\n",
    "    \"\"\"\n",
    "    Given a binary file with phrases and line breaks, enters the\n",
    "    first word of a phrase as dictionary key and the following\n",
    "    string (without linebreaks) as value. Returns the dictionary.\n",
    "    \"\"\"\n",
    "    header = {}\n",
    "    with open(filename, 'rb') as f:\n",
    "        for bin_line in f:\n",
    "            if b'data_start' in bin_line:\n",
    "                break\n",
    "            line = bin_line.decode('cp1252').replace('\\r\\n', '').replace('\\r', '').strip()\n",
    "            parts = line.split(' ')\n",
    "            key = parts[0]\n",
    "            value = ' '.join(parts[1:])\n",
    "            header[key] = value\n",
    "            \n",
    "    return header"
   ]
  },
  {
   "cell_type": "code",
   "execution_count": 87,
   "id": "1e554741",
   "metadata": {},
   "outputs": [
    {
     "name": "stdout",
     "output_type": "stream",
     "text": [
      "1.0426666666666666\n",
      "0.20933333333333334 0.8343333333333334\n"
     ]
    }
   ],
   "source": [
    "# There are 50 samples per waveform in .X files\n",
    "# TODO: Should depend on pre_spike_samples and post_spike_samples!\n",
    "\n",
    "ms_per_wave = 50 / (48000 / 1000) + 0.001\n",
    "print(ms_per_wave)\n",
    "\n",
    "ms_before = 10 / (48000 / 1000) + 0.001\n",
    "ms_after = 40 / (48000 / 1000) + 0.001\n",
    "print(ms_before, ms_after)"
   ]
  },
  {
   "cell_type": "code",
   "execution_count": 352,
   "id": "d4fda41d",
   "metadata": {},
   "outputs": [],
   "source": [
    "st.postprocessing.get_unit_waveforms??"
   ]
  },
  {
   "cell_type": "code",
   "execution_count": 137,
   "id": "796a4580",
   "metadata": {},
   "outputs": [
    {
     "name": "stdout",
     "output_type": "stream",
     "text": [
      "Number of chunks: 1 - Number of jobs: 1\n"
     ]
    },
    {
     "name": "stderr",
     "output_type": "stream",
     "text": [
      "Extracting waveforms in chunks: 100%|##########| 1/1 [00:01<00:00,  1.54s/it]\n"
     ]
    }
   ],
   "source": [
    "waveforms = st.postprocessing.get_unit_waveforms(\n",
    "    r_cache,\n",
    "    sorting_nwb,\n",
    "    max_spikes_per_unit=None, \n",
    "    grouping_property='group',\n",
    "    recompute_info=True,\n",
    "    verbose=True,\n",
    "    ms_before=ms_before,\n",
    "    ms_after=ms_after\n",
    ")"
   ]
  },
  {
   "cell_type": "code",
   "execution_count": 138,
   "id": "61394c26",
   "metadata": {},
   "outputs": [
    {
     "name": "stdout",
     "output_type": "stream",
     "text": [
      "(72, 2, 50)\n",
      "(101, 2, 50)\n",
      "(59, 3, 50)\n",
      "(15, 3, 50)\n",
      "(39, 3, 50)\n",
      "(51, 3, 50)\n",
      "(38, 4, 50)\n",
      "(50, 4, 50)\n",
      "(47, 4, 50)\n",
      "(73, 4, 50)\n",
      "(47, 4, 50)\n",
      "(42, 4, 50)\n",
      "(67, 4, 50)\n",
      "(52, 4, 50)\n"
     ]
    }
   ],
   "source": [
    "for wf in waveforms:\n",
    "    print(wf.shape)"
   ]
  },
  {
   "cell_type": "code",
   "execution_count": 139,
   "id": "9cbdb908",
   "metadata": {},
   "outputs": [
    {
     "data": {
      "text/plain": [
       "[0, 1, 2, 3, 4, 5, 6, 7, 8, 9, 10, 11, 12, 13]"
      ]
     },
     "execution_count": 139,
     "metadata": {},
     "output_type": "execute_result"
    }
   ],
   "source": [
    "sorting_nwb.get_unit_ids()"
   ]
  },
  {
   "cell_type": "code",
   "execution_count": 359,
   "id": "cc3f326c",
   "metadata": {},
   "outputs": [
    {
     "data": {
      "text/plain": [
       "[<matplotlib.lines.Line2D at 0x7fb2c65e06a0>]"
      ]
     },
     "execution_count": 359,
     "metadata": {},
     "output_type": "execute_result"
    },
    {
     "data": {
      "image/png": "[encoded data removed]",
      "text/plain": [
       "<Figure size 432x288 with 1 Axes>"
      ]
     },
     "metadata": {
      "needs_background": "light"
     },
     "output_type": "display_data"
    }
   ],
   "source": [
    "plt.plot(r_cache.get_traces(channel_ids=[1], start_frame=400, end_frame=550)[0])\n",
    "\n",
    "# The scaling of the data after preprocessing is very different, so using the gain from the set file does not make sense!\n",
    "# In this case this is probably because of the median filter"
   ]
  },
  {
   "cell_type": "code",
   "execution_count": 360,
   "id": "b41cb84a",
   "metadata": {},
   "outputs": [
    {
     "data": {
      "text/plain": [
       "[<matplotlib.lines.Line2D at 0x7fb2c654daf0>]"
      ]
     },
     "execution_count": 360,
     "metadata": {},
     "output_type": "execute_result"
    },
    {
     "data": {
      "image/png": "[encoded data removed]",
      "text/plain": [
       "<Figure size 432x288 with 1 Axes>"
      ]
     },
     "metadata": {
      "needs_background": "light"
     },
     "output_type": "display_data"
    }
   ],
   "source": [
    "plt.plot(recording.get_traces(channel_ids=[1], start_frame=400, end_frame=550)[0])"
   ]
  },
  {
   "cell_type": "code",
   "execution_count": 140,
   "id": "223979f4",
   "metadata": {},
   "outputs": [
    {
     "data": {
      "text/plain": [
       "[<matplotlib.lines.Line2D at 0x7fb344dc2550>]"
      ]
     },
     "execution_count": 140,
     "metadata": {},
     "output_type": "execute_result"
    },
    {
     "data": {
      "image/png": "[encoded data removed]",
      "text/plain": [
       "<Figure size 432x288 with 1 Axes>"
      ]
     },
     "metadata": {
      "needs_background": "light"
     },
     "output_type": "display_data"
    }
   ],
   "source": [
    "# Show example waveforms and mean waveform for first unit\n",
    "\n",
    "for i in range(20):\n",
    "    plt.plot(waveforms[0][i, 0, :], 'c')\n",
    "plt.plot(np.mean(waveforms[0][:, 0, :], axis=0))"
   ]
  },
  {
   "cell_type": "code",
   "execution_count": 141,
   "id": "fc2cb031",
   "metadata": {},
   "outputs": [
    {
     "data": {
      "text/plain": [
       "memmap([-0.04597167, -0.03142679], dtype=float32)"
      ]
     },
     "execution_count": 141,
     "metadata": {},
     "output_type": "execute_result"
    }
   ],
   "source": [
    "# Waveforms on the binary .X files are in int8, so we need to convert back to it\n",
    "# Originally, AxonaUnitRecordingExtractor converts from int8 to float32 using the `gain`\n",
    "# from `recording.get_channel_gains()`\n",
    "# At a later point though, we may not have this method available to us anymore, and we\n",
    "# we could instead determine the right `gain` empirically. It might also be possible to\n",
    "# use the `.set` file, but I would need to know which unit belongs to which channel, since\n",
    "# gain is saved for each channel, not unit. Actually, it seems that the gain for a given\n",
    "# tetrode is the same for all channels, so using the `.set` file might be possible.\n",
    "\n",
    "waveforms[0][0, 0, 0:2]"
   ]
  },
  {
   "cell_type": "code",
   "execution_count": 142,
   "id": "695e4767",
   "metadata": {},
   "outputs": [
    {
     "data": {
      "text/plain": [
       "array([1., 1., 1., 1., 1., 1., 1., 1., 1., 1., 1., 1., 1.])"
      ]
     },
     "execution_count": 142,
     "metadata": {},
     "output_type": "execute_result"
    }
   ],
   "source": [
    "recording_nwb.get_channel_gains()"
   ]
  },
  {
   "cell_type": "code",
   "execution_count": 143,
   "id": "6c837af6",
   "metadata": {},
   "outputs": [],
   "source": [
    "# Read .set file header information\n",
    "\n",
    "set_file = dir_name / 'axona_sample.set'\n",
    "\n",
    "header = parse_generic_header(set_file)"
   ]
  },
  {
   "cell_type": "code",
   "execution_count": 144,
   "id": "cde11a4d",
   "metadata": {},
   "outputs": [
    {
     "name": "stdout",
     "output_type": "stream",
     "text": [
      "1500\n",
      "128\n"
     ]
    },
    {
     "data": {
      "text/plain": [
       "1.171875"
      ]
     },
     "execution_count": 144,
     "metadata": {},
     "output_type": "execute_result"
    }
   ],
   "source": [
    "# Note that here we need to specify byes_per_samples=2, because the gain in the .set file is based\n",
    "# on the .bin data. When we compute the gain empirically based on the .X data we obtain a roughly\n",
    "# similar result (based on a single channel).\n",
    "\n",
    "bytes_per_sample = 1\n",
    "gain = 10000\n",
    "\n",
    "adc_fm = int(header['ADC_fullscale_mv'])\n",
    "print(adc_fm)\n",
    "\n",
    "max_value = 2**(8 * bytes_per_sample - 1)\n",
    "print(max_value)\n",
    "\n",
    "1000 * adc_fm / (gain * max_value)"
   ]
  },
  {
   "cell_type": "code",
   "execution_count": 195,
   "id": "b9a544c3",
   "metadata": {},
   "outputs": [],
   "source": [
    "def scale_values(x, maxabs, bound=127):\n",
    "    '''Scale signal `x` between -`bound` and +`bound`,\n",
    "    preserves 0 point.\n",
    "    \n",
    "    Parameters\n",
    "    ----------\n",
    "    x : np.array\n",
    "    absmax : numeric\n",
    "        max(|min(x)|, |max(x)|)\n",
    "    bound : numeric\n",
    "    \n",
    "    Return\n",
    "    ------\n",
    "    np.array\n",
    "    '''\n",
    "    return x / maxabs * bound"
   ]
  },
  {
   "cell_type": "code",
   "execution_count": 196,
   "id": "8cf94fbb",
   "metadata": {},
   "outputs": [],
   "source": [
    "def uV_to_int(x, gain):\n",
    "    '''\n",
    "    Parameters\n",
    "    ----------\n",
    "    x : np.array\n",
    "    gain : float\n",
    "    \n",
    "    Return\n",
    "    ------\n",
    "    np.array\n",
    "    '''\n",
    "    return x / gain"
   ]
  },
  {
   "cell_type": "code",
   "execution_count": 197,
   "id": "6e72fb58",
   "metadata": {},
   "outputs": [],
   "source": [
    "def int_to_uV(x, gain):\n",
    "    '''\n",
    "    Parameters\n",
    "    ----------\n",
    "    x : np.array\n",
    "    gain : float\n",
    "    \n",
    "    Return\n",
    "    ------\n",
    "    np.array\n",
    "    '''\n",
    "    return x * gain"
   ]
  },
  {
   "cell_type": "code",
   "execution_count": 325,
   "id": "f5c36799",
   "metadata": {},
   "outputs": [],
   "source": [
    "wave = waveforms[0][0, 0, :]\n",
    "x = wave"
   ]
  },
  {
   "cell_type": "code",
   "execution_count": 326,
   "id": "b2824379",
   "metadata": {},
   "outputs": [
    {
     "name": "stdout",
     "output_type": "stream",
     "text": [
      "0.2485281\n"
     ]
    }
   ],
   "source": [
    "bound = 127\n",
    "maxabs = max(abs(np.array([max(wave), min(wave)])))\n",
    "print(maxabs)"
   ]
  },
  {
   "cell_type": "code",
   "execution_count": 327,
   "id": "e47d9fdd",
   "metadata": {},
   "outputs": [],
   "source": [
    "maxabs = max(abs(np.array([max(wave), min(wave)])))\n",
    "wv_flt32 = scale_values(wave, maxabs, 127)\n",
    "wv_int8 = wv_flt32.astype(np.int8)"
   ]
  },
  {
   "cell_type": "code",
   "execution_count": 335,
   "id": "bc7e900a",
   "metadata": {},
   "outputs": [
    {
     "data": {
      "text/plain": [
       "array([0.00117187])"
      ]
     },
     "execution_count": 335,
     "metadata": {},
     "output_type": "execute_result"
    }
   ],
   "source": [
    "gains[0] / 1000"
   ]
  },
  {
   "cell_type": "code",
   "execution_count": 331,
   "id": "4fcec332",
   "metadata": {},
   "outputs": [
    {
     "data": {
      "text/plain": [
       "0.0019569141188944417"
      ]
     },
     "execution_count": 331,
     "metadata": {},
     "output_type": "execute_result"
    }
   ],
   "source": [
    "maxabs / bound"
   ]
  },
  {
   "cell_type": "code",
   "execution_count": 328,
   "id": "518bdb49",
   "metadata": {},
   "outputs": [
    {
     "data": {
      "text/plain": [
       "[<matplotlib.lines.Line2D at 0x7fb315a2f1c0>]"
      ]
     },
     "execution_count": 328,
     "metadata": {},
     "output_type": "execute_result"
    },
    {
     "data": {
      "image/png": "[encoded data removed]",
      "text/plain": [
       "<Figure size 432x288 with 1 Axes>"
      ]
     },
     "metadata": {
      "needs_background": "light"
     },
     "output_type": "display_data"
    }
   ],
   "source": [
    "plt.plot(wave)"
   ]
  },
  {
   "cell_type": "code",
   "execution_count": 329,
   "id": "c4d16b2a",
   "metadata": {},
   "outputs": [
    {
     "data": {
      "text/plain": [
       "[<matplotlib.lines.Line2D at 0x7fb315a4a2b0>]"
      ]
     },
     "execution_count": 329,
     "metadata": {},
     "output_type": "execute_result"
    },
    {
     "data": {
      "image/png": "[encoded data removed]",
      "text/plain": [
       "<Figure size 432x288 with 1 Axes>"
      ]
     },
     "metadata": {
      "needs_background": "light"
     },
     "output_type": "display_data"
    }
   ],
   "source": [
    "plt.plot(wv_flt32)\n",
    "plt.plot(wv_int8)"
   ]
  },
  {
   "cell_type": "code",
   "execution_count": 330,
   "id": "fb148a1c",
   "metadata": {},
   "outputs": [
    {
     "data": {
      "text/plain": [
       "memmap([-4.59716655e-02, -3.14267948e-02, -1.18867327e-02,\n",
       "        -8.51369055e-04, -1.52516412e-04, -2.15674788e-02,\n",
       "        -5.75896502e-02, -1.17732257e-01, -1.90118372e-01,\n",
       "        -2.34858811e-01, -2.48528093e-01, -2.24426940e-01,\n",
       "        -1.77180007e-01, -1.11156002e-01, -5.11078313e-02,\n",
       "         2.15539802e-03,  2.46903282e-02,  4.49373238e-02,\n",
       "         5.74426055e-02,  5.66299409e-02,  5.82408383e-02,\n",
       "         5.24550267e-02,  4.75387871e-02,  3.37717682e-02,\n",
       "         2.75323708e-02,  1.16140656e-02, -5.98585466e-05,\n",
       "        -1.82659999e-02, -2.89097149e-02, -4.09241617e-02,\n",
       "        -4.90252078e-02, -5.38289510e-02, -5.44340685e-02,\n",
       "        -5.56213371e-02, -4.77544963e-02, -2.74660885e-02,\n",
       "        -1.55911082e-03,  1.15676690e-02,  1.89493429e-02,\n",
       "         3.68975922e-02,  3.31486017e-02,  1.01742214e-02,\n",
       "        -1.54932905e-02, -3.43379416e-02, -6.29887283e-02,\n",
       "        -6.82341456e-02, -5.97973838e-02, -4.08681594e-02,\n",
       "        -1.39398230e-02,  2.23009363e-02], dtype=float32)"
      ]
     },
     "execution_count": 330,
     "metadata": {},
     "output_type": "execute_result"
    }
   ],
   "source": [
    "# Convert wv_int8 back to wave (float32, uV)\n",
    "\n",
    "wave"
   ]
  },
  {
   "cell_type": "code",
   "execution_count": 152,
   "id": "b8d3812e",
   "metadata": {},
   "outputs": [
    {
     "data": {
      "text/plain": [
       "array([ -23,  -16,   -6,    0,    0,  -11,  -29,  -60,  -97, -120, -127,\n",
       "       -114,  -90,  -56,  -26,    1,   12,   22,   29,   28,   29,   26,\n",
       "         24,   17,   14,    5,    0,   -9,  -14,  -20,  -25,  -27,  -27,\n",
       "        -28,  -24,  -14,    0,    5,    9,   18,   16,    5,   -7,  -17,\n",
       "        -32,  -34,  -30,  -20,   -7,   11], dtype=int8)"
      ]
     },
     "execution_count": 152,
     "metadata": {},
     "output_type": "execute_result"
    }
   ],
   "source": [
    "wv_int8"
   ]
  },
  {
   "cell_type": "code",
   "execution_count": 153,
   "id": "a940ee96",
   "metadata": {},
   "outputs": [
    {
     "data": {
      "text/plain": [
       "[array([  806,  1638,  1854,  2044,  2642,  2929,  4106,  5032,  5982,\n",
       "         6056,  6711,  7489,  7691,  8229, 10222, 11061, 11961, 13920,\n",
       "        14137, 16582, 17070, 17403, 17661, 18316, 18751, 18789, 18964,\n",
       "        20220, 20854, 22096, 24185, 24770, 24788, 25149, 26285, 26382,\n",
       "        26529, 27031, 27706, 29057, 29884, 30126, 30362, 30739, 31774,\n",
       "        33709, 34159, 36395, 36676, 37662, 38283, 38612, 39187, 40663,\n",
       "        41048, 41490, 41602, 42303, 43438, 44502, 44692, 44973, 45147,\n",
       "        45616, 45747, 45780, 46531, 47303, 49143, 49495, 52031, 55848])]"
      ]
     },
     "execution_count": 153,
     "metadata": {},
     "output_type": "execute_result"
    }
   ],
   "source": [
    "spike_train = sorting_nwb.get_units_spike_train(unit_ids=[0])\n",
    "spike_train"
   ]
  },
  {
   "cell_type": "code",
   "execution_count": 154,
   "id": "0c37466d",
   "metadata": {},
   "outputs": [
    {
     "name": "stdout",
     "output_type": "stream",
     "text": [
      "/mnt/d/freelance-work/catalyst-neuro/hussaini-lab-to-nwb/sample_bin_to_tint_no_bin/axona_sample.1\n",
      "[1.171875] [0.]\n",
      "[1.171875] [0.]\n",
      "[1.171875] [0.]\n",
      "[1.171875] [0.]\n",
      "[0.5859375] [0.]\n",
      "[0.5859375] [0.]\n",
      "[0.5859375] [0.]\n",
      "[0.5859375] [0.]\n",
      "[0.78125] [0.]\n",
      "[0.78125] [0.]\n",
      "[0.78125] [0.]\n",
      "[0.78125] [0.]\n",
      "[0.78125] [0.]\n",
      "[0.78125] [0.]\n",
      "[0.78125] [0.]\n",
      "[0.78125] [0.]\n"
     ]
    }
   ],
   "source": [
    "# Get gains and offsets from recordingextractor\n",
    "\n",
    "print(dir_name / 'axona_sample.1')\n",
    "recording = se.AxonaUnitRecordingExtractor(filename=dir_name / 'axona_sample.1', noise_std=15)\n",
    "\n",
    "channel_ids = recording.get_channel_ids()\n",
    "channel_idxs = np.array([recording.get_channel_ids().index(ch) for ch in channel_ids])\n",
    "gains = recording.get_channel_gains()[channel_idxs, None]\n",
    "offsets = recording.get_channel_offsets()[channel_idxs, None]\n",
    "_ = [print(g, o) for g, o in zip(gains, offsets)]"
   ]
  },
  {
   "cell_type": "code",
   "execution_count": 155,
   "id": "7ef91ea3",
   "metadata": {},
   "outputs": [
    {
     "data": {
      "text/plain": [
       "[1.171875,\n",
       " 1.171875,\n",
       " 1.171875,\n",
       " 1.171875,\n",
       " 0.5859375,\n",
       " 0.5859375,\n",
       " 0.5859375,\n",
       " 0.5859375,\n",
       " 0.78125,\n",
       " 0.78125,\n",
       " 0.78125,\n",
       " 0.78125,\n",
       " 0.78125,\n",
       " 0.78125,\n",
       " 0.78125,\n",
       " 0.78125]"
      ]
     },
     "execution_count": 155,
     "metadata": {},
     "output_type": "execute_result"
    }
   ],
   "source": [
    "recording.neo_reader._get_channel_gain(bytes_per_sample=1)[0:len(recording.get_channel_ids())]"
   ]
  },
  {
   "cell_type": "code",
   "execution_count": 156,
   "id": "0ef38a5f",
   "metadata": {},
   "outputs": [
    {
     "name": "stdout",
     "output_type": "stream",
     "text": [
      "AxonaIO: /mnt/d/freelance-work/catalyst-neuro/hussaini-lab-to-nwb/sample_bin_to_tint_no_bin/axona_sample.set\n",
      "nb_block: 1\n",
      "nb_segment:  [1]\n",
      "signal_streams: [stream 0 (chans: 16)]\n",
      "signal_channels: [1a, 1b, 1c, 1d ... 4a , 4b , 4c , 4d]\n",
      "spike_channels: [tetrode 1, tetrode 2, tetrode 3, tetrode 4]\n",
      "event_channels: []\n",
      "\n",
      "(159, 4, 50)\n",
      "(159, 50)\n"
     ]
    }
   ],
   "source": [
    "# ultimately we want to compate the waveforms in spikeextractors that were originally extracted\n",
    "# from the .bin file (without any addition changes in spikeextractors) with the tetrode file waveforms\n",
    "# in the .X files to see if our conversion to `int8` makes sense!\n",
    "\n",
    "from neo import AxonaIO\n",
    "\n",
    "neoio = AxonaIO(dir_name / 'axona_sample.set')\n",
    "print(neoio)\n",
    "\n",
    "waveforms = neoio.get_spike_raw_waveforms(spike_channel_index=0)\n",
    "print(waveforms.shape)\n",
    "channel_waves = waveforms[:, 0, :]\n",
    "print(channel_waves.shape)\n",
    "\n",
    "# Convert channel_waves from .X file to float32 using gains and offsets from axonaunitrecordingextractor\n",
    "gain = gains[0]\n",
    "offset = offsets[0]\n",
    "channel_waves_flt32 = (channel_waves.astype(\"float32\") * gain + offset).astype(\"float32\")"
   ]
  },
  {
   "cell_type": "code",
   "execution_count": 157,
   "id": "7fe5c8e9",
   "metadata": {},
   "outputs": [
    {
     "data": {
      "text/plain": [
       "[1.171875,\n",
       " 1.171875,\n",
       " 1.171875,\n",
       " 1.171875,\n",
       " 0.5859375,\n",
       " 0.5859375,\n",
       " 0.5859375,\n",
       " 0.5859375,\n",
       " 0.78125,\n",
       " 0.78125,\n",
       " 0.78125,\n",
       " 0.78125,\n",
       " 0.78125,\n",
       " 0.78125,\n",
       " 0.78125,\n",
       " 0.78125]"
      ]
     },
     "execution_count": 157,
     "metadata": {},
     "output_type": "execute_result"
    }
   ],
   "source": [
    "neoio._get_channel_gain(bytes_per_sample=1)[0:16]"
   ]
  },
  {
   "cell_type": "code",
   "execution_count": 158,
   "id": "d867fc84",
   "metadata": {},
   "outputs": [
    {
     "data": {
      "text/plain": [
       "memmap([[[  -7,    2,   18, ...,   33,   26,   15],\n",
       "         [  -6,   -2,    1, ...,   25,   25,   22],\n",
       "         [  -2,    3,   14, ...,   30,   24,   14],\n",
       "         [ -18,   -6,   13, ...,   22,   10,   -3]],\n",
       "\n",
       "        [[   4,   -3,  -11, ...,  -11,  -10,  -12],\n",
       "         [  28,   22,    8, ...,   -7,  -10,  -12],\n",
       "         [  22,   15,    1, ...,  -14,  -15,  -14],\n",
       "         [  40,   56,   57, ...,   -9,  -15,  -24]],\n",
       "\n",
       "        [[  15,    6,   -1, ...,  -40,  -25,   -8],\n",
       "         [  17,   14,    6, ...,  -29,  -29,  -25],\n",
       "         [  20,   15,    7, ...,  -34,  -24,  -11],\n",
       "         [   1,  -13,  -27, ...,  -53,  -31,   -5]],\n",
       "\n",
       "        ...,\n",
       "\n",
       "        [[ -40,  -71, -108, ...,  -36,  -57,  -71],\n",
       "         [ -35,  -39,  -43, ...,   14,    0,  -20],\n",
       "         [ -15,  -17,  -22, ...,    5,  -15,  -46],\n",
       "         [ -20,  -20,  -26, ...,   12,   -6,  -32]],\n",
       "\n",
       "        [[   7,    5,    7, ...,    9,    6,    1],\n",
       "         [  -2,   -7,  -12, ...,  -15,  -13,  -16],\n",
       "         [  42,   44,   33, ...,   -1,   -5,   -9],\n",
       "         [  38,   44,   46, ...,   -8,  -10,  -10]],\n",
       "\n",
       "        [[ -28,  -29,  -19, ...,   17,   21,   26],\n",
       "         [  20,    8,    4, ...,    0,  -11,  -16],\n",
       "         [ -40,  -48,  -37, ...,   -5,   -5,    1],\n",
       "         [ -21,   -8,   12, ...,   22,   31,   36]]], dtype=int8)"
      ]
     },
     "execution_count": 158,
     "metadata": {},
     "output_type": "execute_result"
    }
   ],
   "source": [
    "waveforms"
   ]
  },
  {
   "cell_type": "code",
   "execution_count": 159,
   "id": "34bd76d7",
   "metadata": {},
   "outputs": [
    {
     "data": {
      "text/plain": [
       "array([ 464,  786, 1570, 1632, 1826, 2017, 2228, 2322, 2493, 2634],\n",
       "      dtype=int32)"
      ]
     },
     "execution_count": 159,
     "metadata": {},
     "output_type": "execute_result"
    }
   ],
   "source": [
    "spike_samples = neoio.get_spike_timestamps(spike_channel_index=0)\n",
    "spike_samples2 = neoio._get_spike_timestamps(block_index=0, seg_index=0, unit_index=0, t_start=0, t_stop=None)\n",
    "assert np.array_equal(spike_samples, spike_samples2)\n",
    "\n",
    "# We need to divide the spike_samples by 2, because timestamps are sampled at a higher frequency than \n",
    "# data samples (96khz vs 48khz)\n",
    "spike_samples = (spike_samples / 2).astype(np.int32)\n",
    "spike_samples[0:10]"
   ]
  },
  {
   "cell_type": "code",
   "execution_count": 160,
   "id": "ef3dd70f",
   "metadata": {},
   "outputs": [
    {
     "data": {
      "text/plain": [
       "array([ -7.,   2.,  18.,  36.,  49.,  54.,  53.,  51.,  52.,  52.,  44.,\n",
       "        29.,  17.,  10.,   4.,  -4., -16., -23., -20.,  -7.,  -7.,  21.,\n",
       "        27.,  27.,  22.,  11.,  -2., -12., -15., -13., -12., -12.,  -7.,\n",
       "         2.,  11.,  18.,  20.,  16.,   9.,   2.,   0.,   2.,   8.,  14.,\n",
       "        19.,  25.,  32.,  33.,  26.,  15.])"
      ]
     },
     "execution_count": 160,
     "metadata": {},
     "output_type": "execute_result"
    }
   ],
   "source": [
    "traces_channel1 = recording.get_traces(channel_ids=[0], start_frame=0,end_frame=recording.get_num_frames(),\n",
    "                                       return_scaled=False)\n",
    "traces_channel1[0, spike_samples[0]-10 : spike_samples[0]+40]"
   ]
  },
  {
   "cell_type": "code",
   "execution_count": 161,
   "id": "24d36140",
   "metadata": {},
   "outputs": [
    {
     "data": {
      "text/plain": [
       "array([[ -8.203125,   2.34375 ,  21.09375 ,  42.1875  ,  57.421875,\n",
       "         63.28125 ,  62.109375,  59.765625,  60.9375  ,  60.9375  ,\n",
       "         51.5625  ,  33.984375,  19.921875,  11.71875 ,   4.6875  ,\n",
       "         -4.6875  , -18.75    , -26.953125, -23.4375  ,  -8.203125,\n",
       "         -8.203125,  24.609375,  31.640625,  31.640625,  25.78125 ,\n",
       "         12.890625,  -2.34375 , -14.0625  , -17.578125, -15.234375,\n",
       "        -14.0625  , -14.0625  ,  -8.203125,   2.34375 ,  12.890625,\n",
       "         21.09375 ,  23.4375  ,  18.75    ,  10.546875,   2.34375 ,\n",
       "          0.      ,   2.34375 ,   9.375   ,  16.40625 ,  22.265625,\n",
       "         29.296875,  37.5     ,  38.671875,  30.46875 ,  17.578125]],\n",
       "      dtype=float32)"
      ]
     },
     "execution_count": 161,
     "metadata": {},
     "output_type": "execute_result"
    }
   ],
   "source": [
    "traces_channel1_flt32 = recording.get_traces(channel_ids=[0], start_frame=spike_samples[0]-10, \n",
    "                                             end_frame=spike_samples[0]+40, return_scaled=True)\n",
    "traces_channel1_flt32"
   ]
  },
  {
   "cell_type": "code",
   "execution_count": 162,
   "id": "8b77748d",
   "metadata": {},
   "outputs": [
    {
     "name": "stdout",
     "output_type": "stream",
     "text": [
      "[1.171875]\n"
     ]
    }
   ],
   "source": [
    "print(gain)"
   ]
  },
  {
   "cell_type": "code",
   "execution_count": 163,
   "id": "26e56f93",
   "metadata": {},
   "outputs": [
    {
     "name": "stdout",
     "output_type": "stream",
     "text": [
      "[ -8.203125   2.34375   21.09375   42.1875    57.421875  63.28125\n",
      "  62.109375  59.765625  60.9375    60.9375    51.5625    33.984375\n",
      "  19.921875  11.71875    4.6875    -4.6875   -18.75     -26.953125\n",
      " -23.4375    -8.203125  -8.203125  24.609375  31.640625  31.640625\n",
      "  25.78125   12.890625  -2.34375  -14.0625   -17.578125 -15.234375\n",
      " -14.0625   -14.0625    -8.203125   2.34375   12.890625  21.09375\n",
      "  23.4375    18.75      10.546875   2.34375    0.         2.34375\n",
      "   9.375     16.40625   22.265625  29.296875  37.5       38.671875\n",
      "  30.46875   17.578125]\n",
      "[-16   4  42  84 115 127 124 119 122 122 103  68  39  23   9  -9 -37 -54\n",
      " -47 -16 -16  49  63  63  51  25  -4 -28 -35 -30 -28 -28 -16   4  25  42\n",
      "  47  37  21   4   0   4  18  32  44  58  75  77  61  35]\n",
      "[ -7.97244094   1.99311024  20.92765748  41.85531496  57.30191929\n",
      "  63.28125     61.78641732  59.29502953  60.7898622   60.7898622\n",
      "  51.32258858  33.88287402  19.4328248   11.46038386   4.48449803\n",
      "  -4.48449803 -18.43626969 -26.90698819 -23.41904528  -7.97244094\n",
      "  -7.97244094  24.41560039  31.39148622  31.39148622  25.41215551\n",
      "  12.45693898  -1.99311024 -13.95177165 -17.43971457 -14.94832677\n",
      " -13.95177165 -13.95177165  -7.97244094   1.99311024  12.45693898\n",
      "  20.92765748  23.41904528  18.43626969  10.46382874   1.99311024\n",
      "   0.           1.99311024   8.96899606  15.94488189  21.9242126\n",
      "  28.90009843  37.37081693  38.36737205  30.3949311   17.43971457]\n"
     ]
    }
   ],
   "source": [
    "wave = traces_channel1_flt32[0,:]\n",
    "print(wave)\n",
    "\n",
    "maxabs = max(abs(np.array([max(wave), min(wave)])))\n",
    "wv_flt32 = scale_values(wave, maxabs, 127)\n",
    "wv_int8 = wv_flt32.astype(np.int8)\n",
    "\n",
    "print(wv_int8)\n",
    "\n",
    "wave_backtrans = wv_int8 / bound * maxabs\n",
    "print(wave_backtrans)"
   ]
  },
  {
   "cell_type": "code",
   "execution_count": 164,
   "id": "4acc1349",
   "metadata": {},
   "outputs": [
    {
     "name": "stdout",
     "output_type": "stream",
     "text": [
      "0.4982775590551181\n"
     ]
    }
   ],
   "source": [
    "empirical_gain = maxabs / bound\n",
    "print(empirical_gain)"
   ]
  },
  {
   "cell_type": "code",
   "execution_count": 165,
   "id": "4bd22da5",
   "metadata": {},
   "outputs": [
    {
     "data": {
      "text/plain": [
       "array([[ -7.,   2.,  18.,  36.,  49.,  54.,  53.,  51.,  52.,  52.,  44.,\n",
       "         29.,  17.,  10.,   4.,  -4., -16., -23., -20.,  -7.,  -7.,  21.,\n",
       "         27.,  27.,  22.,  11.,  -2., -12., -15., -13., -12., -12.,  -7.,\n",
       "          2.,  11.,  18.,  20.,  16.,   9.,   2.,   0.,   2.,   8.,  14.,\n",
       "         19.,  25.,  32.,  33.,  26.,  15.]])"
      ]
     },
     "execution_count": 165,
     "metadata": {},
     "output_type": "execute_result"
    }
   ],
   "source": [
    "# convert back to int8\n",
    "# traces_channel1_flt32 = traces.astype(\"float32\") * gains + offsets\n",
    "# traces_channel1_int8 = (traces_channel1_flt32 - offsets) / gains\n",
    "\n",
    "traces_channel1_int8 = (traces_channel1_flt32 - offset) / gain\n",
    "traces_channel1_int8"
   ]
  },
  {
   "cell_type": "code",
   "execution_count": 166,
   "id": "b53323ad",
   "metadata": {},
   "outputs": [
    {
     "data": {
      "text/plain": [
       "memmap([[  -7,    2,   18, ...,   33,   26,   15],\n",
       "        [   4,   -3,  -11, ...,  -11,  -10,  -12],\n",
       "        [  15,    6,   -1, ...,  -40,  -25,   -8],\n",
       "        ...,\n",
       "        [ -40,  -71, -108, ...,  -36,  -57,  -71],\n",
       "        [   7,    5,    7, ...,    9,    6,    1],\n",
       "        [ -28,  -29,  -19, ...,   17,   21,   26]], dtype=int8)"
      ]
     },
     "execution_count": 166,
     "metadata": {},
     "output_type": "execute_result"
    }
   ],
   "source": [
    "channel_waves"
   ]
  },
  {
   "cell_type": "code",
   "execution_count": 167,
   "id": "76fd0ffd",
   "metadata": {},
   "outputs": [
    {
     "name": "stdout",
     "output_type": "stream",
     "text": [
      "[ -8.203125   2.34375   21.09375   42.1875    57.421875  63.28125\n",
      "  62.109375  59.765625  60.9375    60.9375    51.5625    33.984375\n",
      "  19.921875  11.71875    4.6875    -4.6875   -18.75     -26.953125\n",
      " -23.4375    -8.203125  -8.203125  24.609375  31.640625  31.640625\n",
      "  25.78125   12.890625  -2.34375  -14.0625   -17.578125 -15.234375\n",
      " -14.0625   -14.0625    -8.203125   2.34375   12.890625  21.09375\n",
      "  23.4375    18.75      10.546875   2.34375    0.         2.34375\n",
      "   9.375     16.40625   22.265625  29.296875  37.5       38.671875\n",
      "  30.46875   17.578125]\n",
      "[-16   4  42  84 115 127 124 119 122 122 103  68  39  23   9  -9 -37 -54\n",
      " -47 -16 -16  49  63  63  51  25  -4 -28 -35 -30 -28 -28 -16   4  25  42\n",
      "  47  37  21   4   0   4  18  32  44  58  75  77  61  35]\n",
      "[ -7.97244094   1.99311024  20.92765748  41.85531496  57.30191929\n",
      "  63.28125     61.78641732  59.29502953  60.7898622   60.7898622\n",
      "  51.32258858  33.88287402  19.4328248   11.46038386   4.48449803\n",
      "  -4.48449803 -18.43626969 -26.90698819 -23.41904528  -7.97244094\n",
      "  -7.97244094  24.41560039  31.39148622  31.39148622  25.41215551\n",
      "  12.45693898  -1.99311024 -13.95177165 -17.43971457 -14.94832677\n",
      " -13.95177165 -13.95177165  -7.97244094   1.99311024  12.45693898\n",
      "  20.92765748  23.41904528  18.43626969  10.46382874   1.99311024\n",
      "   0.           1.99311024   8.96899606  15.94488189  21.9242126\n",
      "  28.90009843  37.37081693  38.36737205  30.3949311   17.43971457]\n"
     ]
    }
   ],
   "source": [
    "wave = traces_channel1_flt32[0,:]\n",
    "print(wave)\n",
    "\n",
    "maxabs = max(abs(np.array([max(wave), min(wave)])))\n",
    "wv_flt32 = scale_values(wave, maxabs, 127)\n",
    "wv_int8 = wv_flt32.astype(np.int8)\n",
    "\n",
    "print(wv_int8)\n",
    "\n",
    "wave_backtrans = wv_int8 / bound * maxabs\n",
    "print(wave_backtrans)"
   ]
  },
  {
   "cell_type": "code",
   "execution_count": 178,
   "id": "8b77c958",
   "metadata": {},
   "outputs": [
    {
     "name": "stdout",
     "output_type": "stream",
     "text": [
      "(1, 57600)\n",
      "[ -8.203125   2.34375   21.09375   42.1875    57.421875  63.28125\n",
      "  62.109375  59.765625  60.9375    60.9375    51.5625    33.984375\n",
      "  19.921875  11.71875    4.6875    -4.6875   -18.75     -26.953125\n",
      " -23.4375    -8.203125  -8.203125  24.609375  31.640625  31.640625\n",
      "  25.78125   12.890625  -2.34375  -14.0625   -17.578125 -15.234375\n",
      " -14.0625   -14.0625    -8.203125   2.34375   12.890625  21.09375\n",
      "  23.4375    18.75      10.546875   2.34375    0.         2.34375\n",
      "   9.375     16.40625   22.265625  29.296875  37.5       38.671875\n",
      "  30.46875   17.578125]\n",
      "[ -6   1  17  35  48  53  52  50  51  51  43  28  16   9   3  -3 -15 -22\n",
      " -19  -6  -6  20  26  26  21  10  -1 -11 -14 -12 -11 -11  -6   1  10  17\n",
      "  19  15   8   1   0   1   7  13  18  24  31  32  25  14]\n",
      "[ -7.08661417   1.18110236  20.07874016  41.33858268  56.69291339\n",
      "  62.5984252   61.41732283  59.05511811  60.23622047  60.23622047\n",
      "  50.78740157  33.07086614  18.8976378   10.62992126   3.54330709\n",
      "  -3.54330709 -17.71653543 -25.98425197 -22.44094488  -7.08661417\n",
      "  -7.08661417  23.62204724  30.70866142  30.70866142  24.80314961\n",
      "  11.81102362  -1.18110236 -12.99212598 -16.53543307 -14.17322835\n",
      " -12.99212598 -12.99212598  -7.08661417   1.18110236  11.81102362\n",
      "  20.07874016  22.44094488  17.71653543   9.4488189    1.18110236\n",
      "   0.           1.18110236   8.26771654  15.35433071  21.25984252\n",
      "  28.34645669  36.61417323  37.79527559  29.52755906  16.53543307]\n"
     ]
    },
    {
     "data": {
      "text/plain": [
       "[<matplotlib.lines.Line2D at 0x7fb344863ee0>]"
      ]
     },
     "execution_count": 178,
     "metadata": {},
     "output_type": "execute_result"
    },
    {
     "data": {
      "image/png": "[encoded data removed]",
      "text/plain": [
       "<Figure size 432x288 with 1 Axes>"
      ]
     },
     "metadata": {
      "needs_background": "light"
     },
     "output_type": "display_data"
    }
   ],
   "source": [
    "# we should normalize based on the entire signal\n",
    "traces_channel1 = recording.get_traces(channel_ids=[0], start_frame=0,end_frame=recording.get_num_frames(),\n",
    "                                       return_scaled=True)\n",
    "print(traces_channel1.shape)\n",
    "\n",
    "wave = traces_channel1[0,:]\n",
    "print(wave[spike_samples[0]-10 : spike_samples[0]+40])\n",
    "\n",
    "maxabs = max(abs(np.array([max(wave), min(wave)])))\n",
    "wv_flt32 = scale_values(wave, maxabs, 127)\n",
    "wv_int8 = wv_flt32.astype(np.int8)\n",
    "\n",
    "print(wv_int8[spike_samples[0]-10 : spike_samples[0]+40])\n",
    "\n",
    "wave_backtrans = wv_int8 / bound * maxabs\n",
    "gain = maxabs / bound\n",
    "wave_backtrans2 = wv_int8 * gain\n",
    "print(wave_backtrans[spike_samples[0]-10 : spike_samples[0]+40])\n",
    "\n",
    "plt.plot(wave[spike_samples[0]-10 : spike_samples[0]+40])\n",
    "plt.plot(wave_backtrans[spike_samples[0]-10 : spike_samples[0]+40])\n",
    "plt.plot(wave_backtrans2[spike_samples[0]-10 : spike_samples[0]+40])"
   ]
  },
  {
   "cell_type": "code",
   "execution_count": 169,
   "id": "31ddf23f",
   "metadata": {},
   "outputs": [
    {
     "data": {
      "text/plain": [
       "[<matplotlib.lines.Line2D at 0x7fb34476cbb0>]"
      ]
     },
     "execution_count": 169,
     "metadata": {},
     "output_type": "execute_result"
    },
    {
     "data": {
      "image/png": "[encoded data removed]",
      "text/plain": [
       "<Figure size 432x288 with 1 Axes>"
      ]
     },
     "metadata": {
      "needs_background": "light"
     },
     "output_type": "display_data"
    }
   ],
   "source": [
    "plt.plot(wave)"
   ]
  },
  {
   "cell_type": "code",
   "execution_count": 170,
   "id": "4aa59006",
   "metadata": {},
   "outputs": [],
   "source": [
    "# IMPORTANT: I need to keep track of `bound` and `maxabs`, otherwise I can never go back to uV from .X\n",
    "# Is maxabs equivalent to the gain / scaling factor from neo? \n",
    "# Check how the scaling factor is used, then\n",
    "# write my own accordingly. Make sure this doesn't lead to awkward conflicts between `.bin` and `.X` files!\n",
    "\n",
    "# From spikeextractors extraction_tools check_get_traces_args\n",
    "#if recording.has_unscaled and return_scaled:\n",
    "#    channel_idxs = np.array([recording.get_channel_ids().index(ch) for ch in channel_ids])\n",
    "#    gains = recording.get_channel_gains()[channel_idxs, None]\n",
    "#    offsets = recording.get_channel_offsets()[channel_idxs, None]\n",
    "#    traces = (traces.astype(\"float32\") * gains + offsets).astype(\"float32\")\n",
    "\n",
    "# So we need to be able to get `gains` by calling `recording.get_channel_gains()`\n",
    "\n",
    "wave_backtrans = wv_int8 / bound * maxabs"
   ]
  },
  {
   "cell_type": "code",
   "execution_count": 171,
   "id": "92c0267b",
   "metadata": {},
   "outputs": [],
   "source": [
    "gain = maxabs / bound\n",
    "wave_backtrans2 = wv_int8 * gain"
   ]
  },
  {
   "cell_type": "code",
   "execution_count": 172,
   "id": "d9a90b05",
   "metadata": {},
   "outputs": [
    {
     "data": {
      "text/plain": [
       "array([[1.171875 ],\n",
       "       [1.171875 ],\n",
       "       [1.171875 ],\n",
       "       [1.171875 ],\n",
       "       [0.5859375],\n",
       "       [0.5859375],\n",
       "       [0.5859375],\n",
       "       [0.5859375],\n",
       "       [0.78125  ],\n",
       "       [0.78125  ],\n",
       "       [0.78125  ],\n",
       "       [0.78125  ],\n",
       "       [0.78125  ],\n",
       "       [0.78125  ],\n",
       "       [0.78125  ],\n",
       "       [0.78125  ]])"
      ]
     },
     "execution_count": 172,
     "metadata": {},
     "output_type": "execute_result"
    }
   ],
   "source": [
    "gains"
   ]
  },
  {
   "cell_type": "code",
   "execution_count": 173,
   "id": "a1c44807",
   "metadata": {},
   "outputs": [
    {
     "data": {
      "text/plain": [
       "1.1811023622047243"
      ]
     },
     "execution_count": 173,
     "metadata": {},
     "output_type": "execute_result"
    }
   ],
   "source": [
    "gain"
   ]
  },
  {
   "cell_type": "code",
   "execution_count": 174,
   "id": "dca3cf8b",
   "metadata": {},
   "outputs": [
    {
     "data": {
      "text/plain": [
       "[<matplotlib.lines.Line2D at 0x7fb3447304c0>]"
      ]
     },
     "execution_count": 174,
     "metadata": {},
     "output_type": "execute_result"
    },
    {
     "data": {
      "image/png": "[encoded data removed]",
      "text/plain": [
       "<Figure size 432x288 with 1 Axes>"
      ]
     },
     "metadata": {
      "needs_background": "light"
     },
     "output_type": "display_data"
    }
   ],
   "source": [
    "plt.plot(wave)\n",
    "plt.plot(wave_backtrans)\n",
    "plt.plot(wave_backtrans2)"
   ]
  },
  {
   "cell_type": "code",
   "execution_count": 175,
   "id": "02370cc7",
   "metadata": {},
   "outputs": [
    {
     "data": {
      "text/plain": [
       "array([-10.604283 ,  -0.5503425, -12.034132 , ...,  10.509245 ,\n",
       "        19.490213 ,  -2.8848197], dtype=float32)"
      ]
     },
     "execution_count": 175,
     "metadata": {},
     "output_type": "execute_result"
    }
   ],
   "source": [
    "wave"
   ]
  },
  {
   "cell_type": "code",
   "execution_count": null,
   "id": "98eccc10",
   "metadata": {},
   "outputs": [],
   "source": []
  },
  {
   "cell_type": "code",
   "execution_count": null,
   "id": "b34918ae",
   "metadata": {},
   "outputs": [],
   "source": []
  },
  {
   "cell_type": "code",
   "execution_count": null,
   "id": "afe2d598",
   "metadata": {},
   "outputs": [],
   "source": []
  },
  {
   "cell_type": "code",
   "execution_count": 188,
   "id": "36acedff",
   "metadata": {},
   "outputs": [
    {
     "name": "stdout",
     "output_type": "stream",
     "text": [
      "[ 17.179863     5.091243   -16.353863    -0.32273036] 148.82812 -150.0\n"
     ]
    }
   ],
   "source": [
    "x = wave\n",
    "print(x[0:4], max(x), min(x))"
   ]
  },
  {
   "cell_type": "code",
   "execution_count": null,
   "id": "02e3f36d",
   "metadata": {},
   "outputs": [],
   "source": [
    "x_norm = x / maxabs * bound"
   ]
  },
  {
   "cell_type": "code",
   "execution_count": null,
   "id": "bd821fb2",
   "metadata": {},
   "outputs": [],
   "source": [
    "gain = maxabs / bound"
   ]
  },
  {
   "cell_type": "code",
   "execution_count": 190,
   "id": "78c79de3",
   "metadata": {},
   "outputs": [
    {
     "name": "stdout",
     "output_type": "stream",
     "text": [
      "[ 14.545617     4.3105855  -13.846271    -0.27324504]\n"
     ]
    }
   ],
   "source": [
    "x_norm = x / gain\n",
    "print(x_norm[0:4])"
   ]
  },
  {
   "cell_type": "code",
   "execution_count": 183,
   "id": "77ff32c1",
   "metadata": {},
   "outputs": [
    {
     "data": {
      "text/plain": [
       "array([ 14,   4, -13, ...,  13, -33,   7], dtype=int8)"
      ]
     },
     "execution_count": 183,
     "metadata": {},
     "output_type": "execute_result"
    }
   ],
   "source": [
    "maxabs = max(abs(np.array([max(wave), min(wave)])))\n",
    "wv_flt32_gainset = scale_values(wave, maxabs, 127)\n",
    "wv_int8_gainset = wv_flt32.astype(np.int8)"
   ]
  },
  {
   "cell_type": "code",
   "execution_count": null,
   "id": "209e3f51",
   "metadata": {},
   "outputs": [],
   "source": []
  },
  {
   "cell_type": "code",
   "execution_count": 182,
   "id": "ce09facf",
   "metadata": {},
   "outputs": [
    {
     "data": {
      "text/plain": [
       "array([ 14,   4, -13, ...,  13, -33,   7], dtype=int8)"
      ]
     },
     "execution_count": 182,
     "metadata": {},
     "output_type": "execute_result"
    }
   ],
   "source": [
    "wv_int8"
   ]
  },
  {
   "cell_type": "code",
   "execution_count": null,
   "id": "6a54c93a",
   "metadata": {},
   "outputs": [],
   "source": [
    "# Can we determine channel gain from the `.set` file rather than estimating empirically?\n",
    "\n",
    "wv_int8\n",
    "\n",
    "gain = maxabs / bound\n",
    "wave_backtrans2 = wv_int8 * gain\n",
    "\n",
    "plt.plot(wave)\n",
    "plt.plot(wave_backtrans)\n",
    "plt.plot(wave_backtrans2)"
   ]
  },
  {
   "cell_type": "code",
   "execution_count": 198,
   "id": "51008c48",
   "metadata": {},
   "outputs": [
    {
     "data": {
      "text/plain": [
       "1.1811023622047243"
      ]
     },
     "execution_count": 198,
     "metadata": {},
     "output_type": "execute_result"
    }
   ],
   "source": [
    "gain"
   ]
  },
  {
   "cell_type": "code",
   "execution_count": 199,
   "id": "d2e82881",
   "metadata": {},
   "outputs": [
    {
     "data": {
      "text/plain": [
       "array([1.171875])"
      ]
     },
     "execution_count": 199,
     "metadata": {},
     "output_type": "execute_result"
    }
   ],
   "source": [
    "gains[0]"
   ]
  },
  {
   "cell_type": "code",
   "execution_count": 200,
   "id": "c7940f76",
   "metadata": {},
   "outputs": [
    {
     "data": {
      "text/plain": [
       "array([[1.171875 ],\n",
       "       [1.171875 ],\n",
       "       [1.171875 ],\n",
       "       [1.171875 ],\n",
       "       [0.5859375],\n",
       "       [0.5859375],\n",
       "       [0.5859375],\n",
       "       [0.5859375],\n",
       "       [0.78125  ],\n",
       "       [0.78125  ],\n",
       "       [0.78125  ],\n",
       "       [0.78125  ],\n",
       "       [0.78125  ],\n",
       "       [0.78125  ],\n",
       "       [0.78125  ],\n",
       "       [0.78125  ]])"
      ]
     },
     "execution_count": 200,
     "metadata": {},
     "output_type": "execute_result"
    }
   ],
   "source": [
    "gains"
   ]
  },
  {
   "cell_type": "code",
   "execution_count": 237,
   "id": "71b5d585",
   "metadata": {},
   "outputs": [],
   "source": [
    "st.postprocessing.get_unit_waveforms??"
   ]
  },
  {
   "cell_type": "code",
   "execution_count": 242,
   "id": "32cfa251",
   "metadata": {},
   "outputs": [
    {
     "data": {
      "text/html": [
       "<div>\n",
       "<style scoped>\n",
       "    .dataframe tbody tr th:only-of-type {\n",
       "        vertical-align: middle;\n",
       "    }\n",
       "\n",
       "    .dataframe tbody tr th {\n",
       "        vertical-align: top;\n",
       "    }\n",
       "\n",
       "    .dataframe thead th {\n",
       "        text-align: right;\n",
       "    }\n",
       "</style>\n",
       "<table border=\"1\" class=\"dataframe\">\n",
       "  <thead>\n",
       "    <tr style=\"text-align: right;\">\n",
       "      <th></th>\n",
       "      <th>channel_ids</th>\n",
       "      <th>channel_groups</th>\n",
       "      <th>tetrode_ids</th>\n",
       "    </tr>\n",
       "  </thead>\n",
       "  <tbody>\n",
       "    <tr>\n",
       "      <th>0</th>\n",
       "      <td>1</td>\n",
       "      <td>0</td>\n",
       "      <td>1</td>\n",
       "    </tr>\n",
       "    <tr>\n",
       "      <th>1</th>\n",
       "      <td>2</td>\n",
       "      <td>0</td>\n",
       "      <td>1</td>\n",
       "    </tr>\n",
       "    <tr>\n",
       "      <th>2</th>\n",
       "      <td>4</td>\n",
       "      <td>1</td>\n",
       "      <td>2</td>\n",
       "    </tr>\n",
       "    <tr>\n",
       "      <th>3</th>\n",
       "      <td>6</td>\n",
       "      <td>1</td>\n",
       "      <td>2</td>\n",
       "    </tr>\n",
       "    <tr>\n",
       "      <th>4</th>\n",
       "      <td>7</td>\n",
       "      <td>1</td>\n",
       "      <td>2</td>\n",
       "    </tr>\n",
       "    <tr>\n",
       "      <th>5</th>\n",
       "      <td>8</td>\n",
       "      <td>2</td>\n",
       "      <td>3</td>\n",
       "    </tr>\n",
       "    <tr>\n",
       "      <th>6</th>\n",
       "      <td>9</td>\n",
       "      <td>2</td>\n",
       "      <td>3</td>\n",
       "    </tr>\n",
       "    <tr>\n",
       "      <th>7</th>\n",
       "      <td>10</td>\n",
       "      <td>2</td>\n",
       "      <td>3</td>\n",
       "    </tr>\n",
       "    <tr>\n",
       "      <th>8</th>\n",
       "      <td>11</td>\n",
       "      <td>2</td>\n",
       "      <td>3</td>\n",
       "    </tr>\n",
       "    <tr>\n",
       "      <th>9</th>\n",
       "      <td>12</td>\n",
       "      <td>3</td>\n",
       "      <td>4</td>\n",
       "    </tr>\n",
       "    <tr>\n",
       "      <th>10</th>\n",
       "      <td>13</td>\n",
       "      <td>3</td>\n",
       "      <td>4</td>\n",
       "    </tr>\n",
       "    <tr>\n",
       "      <th>11</th>\n",
       "      <td>14</td>\n",
       "      <td>3</td>\n",
       "      <td>4</td>\n",
       "    </tr>\n",
       "    <tr>\n",
       "      <th>12</th>\n",
       "      <td>15</td>\n",
       "      <td>3</td>\n",
       "      <td>4</td>\n",
       "    </tr>\n",
       "  </tbody>\n",
       "</table>\n",
       "</div>"
      ],
      "text/plain": [
       "    channel_ids  channel_groups  tetrode_ids\n",
       "0             1               0            1\n",
       "1             2               0            1\n",
       "2             4               1            2\n",
       "3             6               1            2\n",
       "4             7               1            2\n",
       "5             8               2            3\n",
       "6             9               2            3\n",
       "7            10               2            3\n",
       "8            11               2            3\n",
       "9            12               3            4\n",
       "10           13               3            4\n",
       "11           14               3            4\n",
       "12           15               3            4"
      ]
     },
     "execution_count": 242,
     "metadata": {},
     "output_type": "execute_result"
    }
   ],
   "source": [
    "import pandas as pd\n",
    "\n",
    "df = pd.DataFrame({\n",
    "    'channel_ids': r_cache.get_channel_ids(),\n",
    "    'channel_groups': r_cache.get_channel_groups(),\n",
    "    'tetrode_ids': r_cache.get_channel_groups() + 1\n",
    "})\n",
    "df"
   ]
  },
  {
   "cell_type": "code",
   "execution_count": 289,
   "id": "8a8ee0c4",
   "metadata": {},
   "outputs": [
    {
     "data": {
      "text/plain": [
       "array([1.171875 , 1.171875 , 1.171875 , 1.171875 , 0.5859375, 0.5859375,\n",
       "       0.5859375, 0.5859375, 0.78125  , 0.78125  , 0.78125  , 0.78125  ,\n",
       "       0.78125  , 0.78125  , 0.78125  , 0.78125  ])"
      ]
     },
     "execution_count": 289,
     "metadata": {},
     "output_type": "execute_result"
    }
   ],
   "source": []
  },
  {
   "cell_type": "code",
   "execution_count": 291,
   "id": "5e9a807d",
   "metadata": {},
   "outputs": [
    {
     "data": {
      "text/html": [
       "<div>\n",
       "<style scoped>\n",
       "    .dataframe tbody tr th:only-of-type {\n",
       "        vertical-align: middle;\n",
       "    }\n",
       "\n",
       "    .dataframe tbody tr th {\n",
       "        vertical-align: top;\n",
       "    }\n",
       "\n",
       "    .dataframe thead th {\n",
       "        text-align: right;\n",
       "    }\n",
       "</style>\n",
       "<table border=\"1\" class=\"dataframe\">\n",
       "  <thead>\n",
       "    <tr style=\"text-align: right;\">\n",
       "      <th></th>\n",
       "      <th>gain</th>\n",
       "      <th>channel_ids</th>\n",
       "    </tr>\n",
       "  </thead>\n",
       "  <tbody>\n",
       "    <tr>\n",
       "      <th>0</th>\n",
       "      <td>1.171875</td>\n",
       "      <td>0</td>\n",
       "    </tr>\n",
       "    <tr>\n",
       "      <th>1</th>\n",
       "      <td>1.171875</td>\n",
       "      <td>1</td>\n",
       "    </tr>\n",
       "    <tr>\n",
       "      <th>2</th>\n",
       "      <td>1.171875</td>\n",
       "      <td>2</td>\n",
       "    </tr>\n",
       "    <tr>\n",
       "      <th>3</th>\n",
       "      <td>1.171875</td>\n",
       "      <td>3</td>\n",
       "    </tr>\n",
       "    <tr>\n",
       "      <th>4</th>\n",
       "      <td>0.585938</td>\n",
       "      <td>4</td>\n",
       "    </tr>\n",
       "    <tr>\n",
       "      <th>5</th>\n",
       "      <td>0.585938</td>\n",
       "      <td>5</td>\n",
       "    </tr>\n",
       "    <tr>\n",
       "      <th>6</th>\n",
       "      <td>0.585938</td>\n",
       "      <td>6</td>\n",
       "    </tr>\n",
       "    <tr>\n",
       "      <th>7</th>\n",
       "      <td>0.585938</td>\n",
       "      <td>7</td>\n",
       "    </tr>\n",
       "    <tr>\n",
       "      <th>8</th>\n",
       "      <td>0.781250</td>\n",
       "      <td>8</td>\n",
       "    </tr>\n",
       "    <tr>\n",
       "      <th>9</th>\n",
       "      <td>0.781250</td>\n",
       "      <td>9</td>\n",
       "    </tr>\n",
       "    <tr>\n",
       "      <th>10</th>\n",
       "      <td>0.781250</td>\n",
       "      <td>10</td>\n",
       "    </tr>\n",
       "    <tr>\n",
       "      <th>11</th>\n",
       "      <td>0.781250</td>\n",
       "      <td>11</td>\n",
       "    </tr>\n",
       "    <tr>\n",
       "      <th>12</th>\n",
       "      <td>0.781250</td>\n",
       "      <td>12</td>\n",
       "    </tr>\n",
       "    <tr>\n",
       "      <th>13</th>\n",
       "      <td>0.781250</td>\n",
       "      <td>13</td>\n",
       "    </tr>\n",
       "    <tr>\n",
       "      <th>14</th>\n",
       "      <td>0.781250</td>\n",
       "      <td>14</td>\n",
       "    </tr>\n",
       "    <tr>\n",
       "      <th>15</th>\n",
       "      <td>0.781250</td>\n",
       "      <td>15</td>\n",
       "    </tr>\n",
       "  </tbody>\n",
       "</table>\n",
       "</div>"
      ],
      "text/plain": [
       "        gain  channel_ids\n",
       "0   1.171875            0\n",
       "1   1.171875            1\n",
       "2   1.171875            2\n",
       "3   1.171875            3\n",
       "4   0.585938            4\n",
       "5   0.585938            5\n",
       "6   0.585938            6\n",
       "7   0.585938            7\n",
       "8   0.781250            8\n",
       "9   0.781250            9\n",
       "10  0.781250           10\n",
       "11  0.781250           11\n",
       "12  0.781250           12\n",
       "13  0.781250           13\n",
       "14  0.781250           14\n",
       "15  0.781250           15"
      ]
     },
     "execution_count": 291,
     "metadata": {},
     "output_type": "execute_result"
    }
   ],
   "source": [
    "# add gains to df\n",
    "\n",
    "df_gain = pd.DataFrame({'gain': gains[:,0],\n",
    "                        'channel_ids': [i for i in range(16)]})\n",
    "df_gain"
   ]
  },
  {
   "cell_type": "code",
   "execution_count": 294,
   "id": "352cbb95",
   "metadata": {},
   "outputs": [],
   "source": [
    "# add gain to df\n",
    "\n",
    "df = df.merge(df_gain, how='left', on='channel_ids')"
   ]
  },
  {
   "cell_type": "code",
   "execution_count": 295,
   "id": "62b3b372",
   "metadata": {},
   "outputs": [
    {
     "data": {
      "text/html": [
       "<div>\n",
       "<style scoped>\n",
       "    .dataframe tbody tr th:only-of-type {\n",
       "        vertical-align: middle;\n",
       "    }\n",
       "\n",
       "    .dataframe tbody tr th {\n",
       "        vertical-align: top;\n",
       "    }\n",
       "\n",
       "    .dataframe thead th {\n",
       "        text-align: right;\n",
       "    }\n",
       "</style>\n",
       "<table border=\"1\" class=\"dataframe\">\n",
       "  <thead>\n",
       "    <tr style=\"text-align: right;\">\n",
       "      <th></th>\n",
       "      <th>channel_ids</th>\n",
       "      <th>channel_groups</th>\n",
       "      <th>tetrode_ids</th>\n",
       "      <th>gain</th>\n",
       "    </tr>\n",
       "  </thead>\n",
       "  <tbody>\n",
       "    <tr>\n",
       "      <th>0</th>\n",
       "      <td>1</td>\n",
       "      <td>0</td>\n",
       "      <td>1</td>\n",
       "      <td>1.171875</td>\n",
       "    </tr>\n",
       "    <tr>\n",
       "      <th>1</th>\n",
       "      <td>2</td>\n",
       "      <td>0</td>\n",
       "      <td>1</td>\n",
       "      <td>1.171875</td>\n",
       "    </tr>\n",
       "    <tr>\n",
       "      <th>2</th>\n",
       "      <td>4</td>\n",
       "      <td>1</td>\n",
       "      <td>2</td>\n",
       "      <td>0.585938</td>\n",
       "    </tr>\n",
       "    <tr>\n",
       "      <th>3</th>\n",
       "      <td>6</td>\n",
       "      <td>1</td>\n",
       "      <td>2</td>\n",
       "      <td>0.585938</td>\n",
       "    </tr>\n",
       "    <tr>\n",
       "      <th>4</th>\n",
       "      <td>7</td>\n",
       "      <td>1</td>\n",
       "      <td>2</td>\n",
       "      <td>0.585938</td>\n",
       "    </tr>\n",
       "    <tr>\n",
       "      <th>5</th>\n",
       "      <td>8</td>\n",
       "      <td>2</td>\n",
       "      <td>3</td>\n",
       "      <td>0.781250</td>\n",
       "    </tr>\n",
       "    <tr>\n",
       "      <th>6</th>\n",
       "      <td>9</td>\n",
       "      <td>2</td>\n",
       "      <td>3</td>\n",
       "      <td>0.781250</td>\n",
       "    </tr>\n",
       "    <tr>\n",
       "      <th>7</th>\n",
       "      <td>10</td>\n",
       "      <td>2</td>\n",
       "      <td>3</td>\n",
       "      <td>0.781250</td>\n",
       "    </tr>\n",
       "    <tr>\n",
       "      <th>8</th>\n",
       "      <td>11</td>\n",
       "      <td>2</td>\n",
       "      <td>3</td>\n",
       "      <td>0.781250</td>\n",
       "    </tr>\n",
       "    <tr>\n",
       "      <th>9</th>\n",
       "      <td>12</td>\n",
       "      <td>3</td>\n",
       "      <td>4</td>\n",
       "      <td>0.781250</td>\n",
       "    </tr>\n",
       "    <tr>\n",
       "      <th>10</th>\n",
       "      <td>13</td>\n",
       "      <td>3</td>\n",
       "      <td>4</td>\n",
       "      <td>0.781250</td>\n",
       "    </tr>\n",
       "    <tr>\n",
       "      <th>11</th>\n",
       "      <td>14</td>\n",
       "      <td>3</td>\n",
       "      <td>4</td>\n",
       "      <td>0.781250</td>\n",
       "    </tr>\n",
       "    <tr>\n",
       "      <th>12</th>\n",
       "      <td>15</td>\n",
       "      <td>3</td>\n",
       "      <td>4</td>\n",
       "      <td>0.781250</td>\n",
       "    </tr>\n",
       "  </tbody>\n",
       "</table>\n",
       "</div>"
      ],
      "text/plain": [
       "    channel_ids  channel_groups  tetrode_ids      gain\n",
       "0             1               0            1  1.171875\n",
       "1             2               0            1  1.171875\n",
       "2             4               1            2  0.585938\n",
       "3             6               1            2  0.585938\n",
       "4             7               1            2  0.585938\n",
       "5             8               2            3  0.781250\n",
       "6             9               2            3  0.781250\n",
       "7            10               2            3  0.781250\n",
       "8            11               2            3  0.781250\n",
       "9            12               3            4  0.781250\n",
       "10           13               3            4  0.781250\n",
       "11           14               3            4  0.781250\n",
       "12           15               3            4  0.781250"
      ]
     },
     "execution_count": 295,
     "metadata": {},
     "output_type": "execute_result"
    }
   ],
   "source": [
    "df"
   ]
  },
  {
   "cell_type": "code",
   "execution_count": 254,
   "id": "9ecac033",
   "metadata": {},
   "outputs": [],
   "source": [
    "channel_ids = list(df.loc[df['channel_groups'] == 0, 'channel_ids'].values)"
   ]
  },
  {
   "cell_type": "code",
   "execution_count": 296,
   "id": "df4c843a",
   "metadata": {},
   "outputs": [
    {
     "data": {
      "text/plain": [
       "[1, 2]"
      ]
     },
     "execution_count": 296,
     "metadata": {},
     "output_type": "execute_result"
    }
   ],
   "source": [
    "list(df.loc[df['channel_groups'] == 0, 'channel_ids'].values)"
   ]
  },
  {
   "cell_type": "code",
   "execution_count": 259,
   "id": "991272d7",
   "metadata": {},
   "outputs": [
    {
     "data": {
      "text/plain": [
       "[1, 2]"
      ]
     },
     "execution_count": 259,
     "metadata": {},
     "output_type": "execute_result"
    }
   ],
   "source": [
    "channel_ids"
   ]
  },
  {
   "cell_type": "code",
   "execution_count": 260,
   "id": "ba7cdcb5",
   "metadata": {},
   "outputs": [
    {
     "data": {
      "text/plain": [
       "[1, 2, 4, 6, 7, 8, 9, 10, 11, 12, 13, 14, 15]"
      ]
     },
     "execution_count": 260,
     "metadata": {},
     "output_type": "execute_result"
    }
   ],
   "source": [
    "r_cache.get_channel_ids()"
   ]
  },
  {
   "cell_type": "code",
   "execution_count": 261,
   "id": "e6751680",
   "metadata": {},
   "outputs": [
    {
     "data": {
      "text/plain": [
       "[1, 2, 4, 6, 7, 8, 9, 10, 11, 12, 13, 14, 15]"
      ]
     },
     "execution_count": 261,
     "metadata": {},
     "output_type": "execute_result"
    }
   ],
   "source": [
    "list(r_cache.get_channel_ids())"
   ]
  },
  {
   "cell_type": "code",
   "execution_count": 262,
   "id": "a1f919a9",
   "metadata": {},
   "outputs": [
    {
     "data": {
      "text/plain": [
       "array([0, 1])"
      ]
     },
     "execution_count": 262,
     "metadata": {},
     "output_type": "execute_result"
    }
   ],
   "source": [
    "np.array([list(r_cache.get_channel_ids()).index(ch) for ch in channel_ids])"
   ]
  },
  {
   "cell_type": "code",
   "execution_count": 272,
   "id": "26b1a0f5",
   "metadata": {},
   "outputs": [],
   "source": [
    "st.postprocessing.get_unit_waveforms??"
   ]
  },
  {
   "cell_type": "code",
   "execution_count": 278,
   "id": "8ba69963",
   "metadata": {
    "scrolled": true
   },
   "outputs": [
    {
     "name": "stdout",
     "output_type": "stream",
     "text": [
      "Number of chunks: 1 - Number of jobs: 1\n"
     ]
    },
    {
     "name": "stderr",
     "output_type": "stream",
     "text": [
      "Extracting waveforms in chunks: 100%|##########| 1/1 [00:01<00:00,  1.51s/it]\n"
     ]
    }
   ],
   "source": [
    "# retrieve waveforms for tetrode 1 (channel group 0)\n",
    "\n",
    "waveforms, spk_idxs, chn_idxs = st.postprocessing.get_unit_waveforms(\n",
    "    r_cache,\n",
    "    sorting_nwb,\n",
    "    max_spikes_per_unit=None, \n",
    "    grouping_property='group',\n",
    "    recompute_info=True,\n",
    "    verbose=True,\n",
    "    ms_before=ms_before,\n",
    "    ms_after=ms_after,\n",
    "    return_idxs=True\n",
    ")"
   ]
  },
  {
   "cell_type": "code",
   "execution_count": 279,
   "id": "33cbec6a",
   "metadata": {},
   "outputs": [
    {
     "data": {
      "text/plain": [
       "[array([0, 1]),\n",
       " array([0, 1]),\n",
       " array([2, 3, 4]),\n",
       " array([2, 3, 4]),\n",
       " array([2, 3, 4]),\n",
       " array([2, 3, 4]),\n",
       " array([5, 6, 7, 8]),\n",
       " array([5, 6, 7, 8]),\n",
       " array([5, 6, 7, 8]),\n",
       " array([5, 6, 7, 8]),\n",
       " array([ 9, 10, 11, 12]),\n",
       " array([ 9, 10, 11, 12]),\n",
       " array([ 9, 10, 11, 12]),\n",
       " array([ 9, 10, 11, 12])]"
      ]
     },
     "execution_count": 279,
     "metadata": {},
     "output_type": "execute_result"
    }
   ],
   "source": [
    "# channel indeces returned by get_unit_waveforms seem to reference what is returned by\n",
    "# r_cache.get_channel_ids(), so if channel 0 is missing, 0 in chn_idxs would refer to channel 1\n",
    "\n",
    "chn_idxs"
   ]
  },
  {
   "cell_type": "code",
   "execution_count": 276,
   "id": "7edf8a32",
   "metadata": {},
   "outputs": [
    {
     "data": {
      "text/plain": [
       "(72, 2, 50)"
      ]
     },
     "execution_count": 276,
     "metadata": {},
     "output_type": "execute_result"
    }
   ],
   "source": [
    "waveforms[0].shape"
   ]
  },
  {
   "cell_type": "code",
   "execution_count": 277,
   "id": "da3bb3e8",
   "metadata": {},
   "outputs": [
    {
     "name": "stdout",
     "output_type": "stream",
     "text": [
      "(72, 2, 50)\n",
      "(101, 2, 50)\n",
      "(59, 3, 50)\n",
      "(15, 3, 50)\n",
      "(39, 3, 50)\n",
      "(51, 3, 50)\n",
      "(38, 4, 50)\n",
      "(50, 4, 50)\n",
      "(47, 4, 50)\n",
      "(73, 4, 50)\n",
      "(47, 4, 50)\n",
      "(42, 4, 50)\n",
      "(67, 4, 50)\n",
      "(52, 4, 50)\n"
     ]
    }
   ],
   "source": [
    "for wf in waveforms:\n",
    "    print(wf.shape)"
   ]
  },
  {
   "cell_type": "code",
   "execution_count": 239,
   "id": "4e9e1694",
   "metadata": {},
   "outputs": [
    {
     "data": {
      "text/plain": [
       "array([0, 0, 1, 1, 1, 2, 2, 2, 2, 3, 3, 3, 3])"
      ]
     },
     "execution_count": 239,
     "metadata": {},
     "output_type": "execute_result"
    }
   ],
   "source": [
    "channel_groups = r_cache.get_channel_groups()\n",
    "channel_groups"
   ]
  },
  {
   "cell_type": "code",
   "execution_count": 223,
   "id": "72dbd800",
   "metadata": {},
   "outputs": [
    {
     "data": {
      "text/plain": [
       "1.171875"
      ]
     },
     "execution_count": 223,
     "metadata": {},
     "output_type": "execute_result"
    }
   ],
   "source": [
    "itetrode = 0\n",
    "np.unique(gains[channel_groups[channel_groups == itetrode]])[0]"
   ]
  },
  {
   "cell_type": "code",
   "execution_count": 230,
   "id": "c7b03e7d",
   "metadata": {},
   "outputs": [],
   "source": [
    "st.postprocessing.get_unit_waveforms??"
   ]
  },
  {
   "cell_type": "code",
   "execution_count": 229,
   "id": "a986edc6",
   "metadata": {},
   "outputs": [
    {
     "data": {
      "text/plain": [
       "(72, 2, 50)"
      ]
     },
     "execution_count": 229,
     "metadata": {},
     "output_type": "execute_result"
    }
   ],
   "source": [
    "waveforms[0].shape"
   ]
  },
  {
   "cell_type": "code",
   "execution_count": 299,
   "id": "bd52990b",
   "metadata": {},
   "outputs": [
    {
     "data": {
      "text/plain": [
       "array([0, 1])"
      ]
     },
     "execution_count": 299,
     "metadata": {},
     "output_type": "execute_result"
    }
   ],
   "source": [
    "np.unique(chn_idxs[0])"
   ]
  },
  {
   "cell_type": "code",
   "execution_count": 303,
   "id": "cc630d69",
   "metadata": {},
   "outputs": [
    {
     "data": {
      "text/plain": [
       "0"
      ]
     },
     "execution_count": 303,
     "metadata": {},
     "output_type": "execute_result"
    }
   ],
   "source": [
    "ch_id = chn_idxs[0][0]\n",
    "ch_id"
   ]
  },
  {
   "cell_type": "code",
   "execution_count": 361,
   "id": "06d4a2a2",
   "metadata": {},
   "outputs": [
    {
     "data": {
      "text/plain": [
       "(72, 2, 50)"
      ]
     },
     "execution_count": 361,
     "metadata": {},
     "output_type": "execute_result"
    }
   ],
   "source": [
    "wave = waveforms[0]\n",
    "wave.shape"
   ]
  },
  {
   "cell_type": "code",
   "execution_count": 369,
   "id": "d362b897",
   "metadata": {},
   "outputs": [
    {
     "data": {
      "text/plain": [
       "0.45975673"
      ]
     },
     "execution_count": 369,
     "metadata": {},
     "output_type": "execute_result"
    }
   ],
   "source": [
    "max(wave.flatten())"
   ]
  },
  {
   "cell_type": "code",
   "execution_count": 371,
   "id": "6a21f7b8",
   "metadata": {},
   "outputs": [],
   "source": [
    "# Since we cannot use the gain from AxonaUnitRecordingExtractor, because preprocessing steps may have \n",
    "# re-scaled the signal, we will simply re-scale each unit separatley based on its data.\n",
    "\n",
    "wave = waveforms[0]\n",
    "ch_ids = chn_idxs[0]\n",
    "\n",
    "bound = 127\n",
    "maxabs = max(abs(np.array([max(wave.flatten()), min(wave.flatten())])))"
   ]
  },
  {
   "cell_type": "code",
   "execution_count": 372,
   "id": "02a206ce",
   "metadata": {},
   "outputs": [
    {
     "data": {
      "text/plain": [
       "0.5839966"
      ]
     },
     "execution_count": 372,
     "metadata": {},
     "output_type": "execute_result"
    }
   ],
   "source": [
    "maxabs"
   ]
  },
  {
   "cell_type": "code",
   "execution_count": 391,
   "id": "6fa0f3ff",
   "metadata": {},
   "outputs": [
    {
     "data": {
      "text/plain": [
       "0.41966096"
      ]
     },
     "execution_count": 391,
     "metadata": {},
     "output_type": "execute_result"
    }
   ],
   "source": [
    "max([abs(max(wave.flatten())), abs(min(wave.flatten()))])"
   ]
  },
  {
   "cell_type": "code",
   "execution_count": 394,
   "id": "e6bb6b8c",
   "metadata": {},
   "outputs": [],
   "source": [
    "# Check if I ever get values beyong 127 or -128 when using the gain values from the .set file\n",
    "\n",
    "bound = 127\n",
    "waveforms_int8 = []\n",
    "maxabs_list = []\n",
    "for wave, chn_idxs_wave in zip(waveforms, chn_idxs):\n",
    "    \n",
    "    maxabs = max(abs(np.array([max(wave.flatten()), min(wave.flatten())])))\n",
    "    maxabs_list.append(maxabs)\n",
    "    \n",
    "    wave_int8 = np.zeros((wave.shape))\n",
    "    for i, ch_id in enumerate(chn_idxs_wave):\n",
    "        \n",
    "        gain = df.loc[ch_id, 'gain']\n",
    "        wave_int8[:,i,:] = (scale_values(wave[:,i,:], maxabs, bound)).astype(np.int8)\n",
    "        \n",
    "    waveforms_int8.append(wave_int8)"
   ]
  },
  {
   "cell_type": "code",
   "execution_count": 397,
   "id": "e7f2f49a",
   "metadata": {},
   "outputs": [
    {
     "name": "stdout",
     "output_type": "stream",
     "text": [
      "99.0 -127.0\n",
      "127.0 -106.0\n",
      "127.0 -114.0\n",
      "111.0 -127.0\n",
      "104.0 -127.0\n",
      "97.0 -127.0\n",
      "125.0 -127.0\n",
      "125.0 -127.0\n",
      "126.0 -127.0\n",
      "113.0 -127.0\n",
      "127.0 -106.0\n",
      "127.0 -115.0\n",
      "124.0 -127.0\n",
      "127.0 -119.0\n"
     ]
    }
   ],
   "source": [
    "# Do we indeed have max and min values of -127 or +127 now for each waveform?\n",
    "\n",
    "_ = [print(max(wv_int8.flatten()), min(wv_int8.flatten())) for wv_int8 in waveforms_int8]"
   ]
  },
  {
   "cell_type": "code",
   "execution_count": 401,
   "id": "1ebeb523",
   "metadata": {},
   "outputs": [
    {
     "data": {
      "text/plain": [
       "48000.0"
      ]
     },
     "execution_count": 401,
     "metadata": {},
     "output_type": "execute_result"
    }
   ],
   "source": []
  },
  {
   "cell_type": "code",
   "execution_count": null,
   "id": "702ea355",
   "metadata": {},
   "outputs": [],
   "source": []
  },
  {
   "cell_type": "code",
   "execution_count": null,
   "id": "28e3c7b3",
   "metadata": {},
   "outputs": [],
   "source": []
  },
  {
   "cell_type": "code",
   "execution_count": null,
   "id": "34133acb",
   "metadata": {},
   "outputs": [],
   "source": []
  },
  {
   "cell_type": "code",
   "execution_count": null,
   "id": "2f9123ab",
   "metadata": {},
   "outputs": [],
   "source": []
  },
  {
   "cell_type": "code",
   "execution_count": null,
   "id": "ec7bf939",
   "metadata": {},
   "outputs": [],
   "source": []
  },
  {
   "cell_type": "code",
   "execution_count": null,
   "id": "f0f8960e",
   "metadata": {},
   "outputs": [],
   "source": []
  },
  {
   "cell_type": "code",
   "execution_count": null,
   "id": "b4346ca0",
   "metadata": {},
   "outputs": [],
   "source": []
  },
  {
   "cell_type": "code",
   "execution_count": 402,
   "id": "d9c73409",
   "metadata": {
    "scrolled": true
   },
   "outputs": [
    {
     "name": "stdout",
     "output_type": "stream",
     "text": [
      "Number of chunks: 1 - Number of jobs: 1\n"
     ]
    },
    {
     "name": "stderr",
     "output_type": "stream",
     "text": [
      "Extracting waveforms in chunks: 100%|##########| 1/1 [00:01<00:00,  1.56s/it]\n"
     ]
    }
   ],
   "source": [
    "# Put float to int8 conversion together\n",
    "\n",
    "# retrieve waveforms (all units)\n",
    "sampling_rate = r_cache.get_sampling_frequency()\n",
    "samples_before = int(header['pretrigSamps'])\n",
    "samples_after = int(header['spikeLockout'])\n",
    "\n",
    "ms_before = samples_before / (sampling_rate / 1000) + 0.001\n",
    "ms_after = samples_after / (sampling_rate / 1000) + 0.001\n",
    "\n",
    "waveforms, spk_idxs, chn_idxs = st.postprocessing.get_unit_waveforms(\n",
    "    r_cache,\n",
    "    sorting_nwb,\n",
    "    max_spikes_per_unit=None, \n",
    "    grouping_property='group',\n",
    "    recompute_info=True,\n",
    "    verbose=True,\n",
    "    ms_before=ms_before,\n",
    "    ms_after=ms_after,\n",
    "    return_idxs=True\n",
    ")\n",
    "\n",
    "# Convert float waveforms to int8\n",
    "bound = 127\n",
    "waveforms_int8 = []\n",
    "maxabs_list = []\n",
    "for wave, chn_idxs_wave in zip(waveforms, chn_idxs):\n",
    "    \n",
    "    maxabs = max(abs(np.array([max(wave.flatten()), min(wave.flatten())])))\n",
    "    maxabs_list.append(maxabs)\n",
    "    \n",
    "    wave_int8 = np.zeros((wave.shape))\n",
    "    for i, ch_id in enumerate(chn_idxs_wave):\n",
    "        \n",
    "        gain = df.loc[ch_id, 'gain']\n",
    "        wave_int8[:,i,:] = (scale_values(wave[:,i,:], maxabs, bound)).astype(np.int8)\n",
    "        \n",
    "    waveforms_int8.append(wave_int8)"
   ]
  },
  {
   "cell_type": "code",
   "execution_count": 403,
   "id": "9c867d20",
   "metadata": {},
   "outputs": [
    {
     "name": "stdout",
     "output_type": "stream",
     "text": [
      "99.0 -127.0\n",
      "127.0 -106.0\n",
      "127.0 -114.0\n",
      "111.0 -127.0\n",
      "104.0 -127.0\n",
      "97.0 -127.0\n",
      "125.0 -127.0\n",
      "125.0 -127.0\n",
      "126.0 -127.0\n",
      "113.0 -127.0\n",
      "127.0 -106.0\n",
      "127.0 -115.0\n",
      "124.0 -127.0\n",
      "127.0 -119.0\n"
     ]
    }
   ],
   "source": [
    "# Do we indeed have max and min values of -127 or +127 now for each waveform?\n",
    "\n",
    "_ = [print(max(wv_int8.flatten()), min(wv_int8.flatten())) for wv_int8 in waveforms_int8]"
   ]
  },
  {
   "cell_type": "code",
   "execution_count": 408,
   "id": "6cbcbfe9",
   "metadata": {},
   "outputs": [
    {
     "data": {
      "text/plain": [
       "[array([0, 1]),\n",
       " array([0, 1]),\n",
       " array([2, 3, 4]),\n",
       " array([2, 3, 4]),\n",
       " array([2, 3, 4]),\n",
       " array([2, 3, 4]),\n",
       " array([5, 6, 7, 8]),\n",
       " array([5, 6, 7, 8]),\n",
       " array([5, 6, 7, 8]),\n",
       " array([5, 6, 7, 8]),\n",
       " array([ 9, 10, 11, 12]),\n",
       " array([ 9, 10, 11, 12]),\n",
       " array([ 9, 10, 11, 12]),\n",
       " array([ 9, 10, 11, 12])]"
      ]
     },
     "execution_count": 408,
     "metadata": {},
     "output_type": "execute_result"
    }
   ],
   "source": [
    "chn_idxs"
   ]
  },
  {
   "cell_type": "code",
   "execution_count": 413,
   "id": "6fcd27fe",
   "metadata": {},
   "outputs": [
    {
     "name": "stdout",
     "output_type": "stream",
     "text": [
      "[ 0  1  2  3  4  5  6  7  8  9 10 11 12 13]\n",
      "[0 0 1 1 1 1 2 2 2 2 3 3 3 3]\n"
     ]
    }
   ],
   "source": [
    "unit_ids = np.array(sorting_nwb.get_unit_ids())\n",
    "print(unit_ids)\n",
    "\n",
    "group_ids = sorting_nwb.get_units_property(property_name='group')\n",
    "group_ids = np.array(tetrode_ids)\n",
    "print(group_ids)"
   ]
  },
  {
   "cell_type": "code",
   "execution_count": 426,
   "id": "578e1eab",
   "metadata": {},
   "outputs": [
    {
     "name": "stdout",
     "output_type": "stream",
     "text": [
      "(72,)\n",
      "(101,)\n",
      "(59,)\n",
      "(15,)\n",
      "(39,)\n",
      "(51,)\n",
      "(38,)\n",
      "(50,)\n",
      "(47,)\n",
      "(73,)\n",
      "(47,)\n",
      "(42,)\n",
      "(67,)\n",
      "(52,)\n"
     ]
    }
   ],
   "source": [
    "# On the .X file there will be no more unit information, we will write all units from a given\n",
    "# tetrode for each tetrode channel\n",
    "\n",
    "spike_samples = sorting_nwb.get_units_spike_train()\n",
    "for spk_trn in spike_samples:\n",
    "    print(spk_trn.shape)"
   ]
  },
  {
   "cell_type": "code",
   "execution_count": 427,
   "id": "f811cdc7",
   "metadata": {},
   "outputs": [
    {
     "data": {
      "text/plain": [
       "[array([  806,  1638,  1854,  2044,  2642,  2929,  4106,  5032,  5982,\n",
       "         6056,  6711,  7489,  7691,  8229, 10222, 11061, 11961, 13920,\n",
       "        14137, 16582, 17070, 17403, 17661, 18316, 18751, 18789, 18964,\n",
       "        20220, 20854, 22096, 24185, 24770, 24788, 25149, 26285, 26382,\n",
       "        26529, 27031, 27706, 29057, 29884, 30126, 30362, 30739, 31774,\n",
       "        33709, 34159, 36395, 36676, 37662, 38283, 38612, 39187, 40663,\n",
       "        41048, 41490, 41602, 42303, 43438, 44502, 44692, 44973, 45147,\n",
       "        45616, 45747, 45780, 46531, 47303, 49143, 49495, 52031, 55848]),\n",
       " array([  472,  1579,  1823,  2255,  2345,  3132,  3869,  3946,  4678,\n",
       "         5789,  5810,  6242,  6264,  6410,  6699,  6725,  6938,  7077,\n",
       "         7256,  8059,  9778,  9799, 10239, 10722, 11103, 11946, 12703,\n",
       "        12769, 12893, 13086, 13648, 14073, 14483, 14972, 15007, 15302,\n",
       "        15343, 15679, 15711, 15963, 16459, 16756, 17751, 18986, 19221,\n",
       "        19597, 19910, 20142, 22564, 22645, 22720, 23303, 24087, 24588,\n",
       "        24605, 25474, 27773, 29293, 29829, 30106, 32983, 33725, 35033,\n",
       "        36411, 36663, 37146, 37164, 37675, 39052, 39910, 40287, 41469,\n",
       "        42122, 42679, 43198, 43589, 43601, 44483, 44874, 44900, 45596,\n",
       "        46428, 47070, 47592, 47796, 48173, 48474, 49386, 49542, 49657,\n",
       "        49798, 50300, 50474, 50654, 51585, 51710, 51911, 52247, 52524,\n",
       "        56216, 57252]),\n",
       " array([ 2634,  3911,  4008,  5606,  5709,  5784,  5982,  6410,  6938,\n",
       "         7256,  8221, 10723, 12011, 12890, 14332, 14364, 15705, 15728,\n",
       "        15836, 17396, 17441, 17463, 17746, 18336, 19067, 19083, 19824,\n",
       "        20147, 20176, 20220, 20248, 21532, 22103, 22571, 26593, 26836,\n",
       "        27750, 30040, 30107, 35615, 38487, 40689, 42182, 42464, 43860,\n",
       "        44531, 45124, 45504, 49494, 49537, 49751, 49766, 51925, 52031,\n",
       "        52192, 52392, 52529, 54351, 56206]),\n",
       " array([  570,  3882,  4163,  5315,  5688, 32376, 42143, 42443, 43402,\n",
       "        43832, 44314, 44900, 46669, 49738, 52377]),\n",
       " array([  604,  2900,  6706,  9316, 10216, 11955, 12906, 16586, 16755,\n",
       "        16989, 17477, 17758, 18076, 18263, 18324, 19593, 19904, 21644,\n",
       "        22711, 23037, 23133, 25459, 26022, 26348, 26856, 29281, 32261,\n",
       "        36669, 37134, 40219, 40232, 42170, 42679, 44479, 44717, 44952,\n",
       "        51873, 52014, 53600]),\n",
       " array([   94,   587,  2881,  4191,  4673,  5129,  5233,  5335,  6117,\n",
       "         7063,  9334,  9698, 12050, 14350, 14497, 14790, 14967, 15122,\n",
       "        15402, 15674, 15855, 16192, 17527, 17654, 18756, 19933, 20132,\n",
       "        20163, 22620, 22650, 23093, 23110, 29845, 29861, 30234, 31749,\n",
       "        32247, 32412, 35637, 37670, 38109, 38507, 39493, 43430, 44332,\n",
       "        44701, 44929, 45465, 46704, 51948, 52048]),\n",
       " array([  390,  1596,  3306,  5165,  5791,  6758,  6955,  7894,  9324,\n",
       "        14963, 16114, 16295, 16526, 17662, 17914, 18321, 19380, 21088,\n",
       "        21520, 25281, 25820, 26010, 29307, 29466, 32020, 36665, 36676,\n",
       "        36988, 39187, 39873, 42714, 43055, 49506, 50102, 53094, 53600,\n",
       "        53912, 56577]),\n",
       " array([  685,  2647,  3660,  4086,  6706,  9584, 10730, 13689, 14975,\n",
       "        16194, 16778, 17070, 17677, 18194, 18264, 19037, 19073, 20274,\n",
       "        25836, 25947, 25959, 28164, 28504, 28536, 29975, 30354, 31163,\n",
       "        31991, 32258, 34275, 34289, 36810, 37154, 37992, 38242, 38257,\n",
       "        38784, 39223, 39501, 39775, 40214, 40256, 41752, 42686, 43444,\n",
       "        46314, 46959, 52031, 54043, 55952]),\n",
       " array([  564,  2669,  3279,  4382,  6789,  7262,  9561, 10750, 12893,\n",
       "        15126, 15157, 15674, 16269, 16586, 16760, 17750, 18750, 19347,\n",
       "        19596, 19611, 19893, 20210, 20980, 21076, 22715, 23040, 23303,\n",
       "        26349, 29284, 29820, 31970, 36202, 36258, 36692, 37662, 40658,\n",
       "        40901, 41775, 43022, 44533, 44690, 46298, 47545, 49486, 49563,\n",
       "        52521, 54028]),\n",
       " array([  535,   548,  2288,  3687,  4073,  4356,  5145,  5228,  6394,\n",
       "         6414,  6776,  7918,  8225,  9038, 10525, 13674, 13702, 14487,\n",
       "        14507, 15419, 17048, 19827, 19905, 20142, 20168, 21014, 21046,\n",
       "        22619, 26024, 26239, 26905, 27043, 28144, 28549, 29800, 29958,\n",
       "        29988, 30319, 31701, 32240, 32500, 33267, 34460, 35798, 36238,\n",
       "        36497, 36521, 36790, 37092, 37675, 39790, 40399, 40449, 40641,\n",
       "        40770, 40797, 41739, 43432, 44483, 44517, 44549, 47530, 49019,\n",
       "        49541, 52197, 52851, 53834, 53859, 54014, 55938, 55968, 56206,\n",
       "        56217]),\n",
       " array([ 1495,  1735,  2824,  5145,  5261,  8894,  9690,  9709, 10247,\n",
       "        11980, 12898, 14967, 15129, 16651, 16670, 16824, 17426, 19614,\n",
       "        19820, 21482, 21540, 22095, 22744, 24127, 27059, 29277, 33585,\n",
       "        37223, 37451, 38067, 42192, 42585, 43468, 44126, 44567, 44844,\n",
       "        44975, 45626, 47275, 48453, 49112, 50293, 51933, 51983, 55141,\n",
       "        56978, 57495]),\n",
       " array([ 1466,  2635,  2942,  4708,  5239,  5924,  6712,  7102,  8297,\n",
       "         9727, 10731, 10875, 11204, 11386, 15437, 15682, 16862, 17403,\n",
       "        17759, 18343, 18756, 19833, 20139, 20703, 24009, 25482, 26382,\n",
       "        27043, 27762, 33570, 33740, 38203, 42328, 42711, 44554, 44876,\n",
       "        46432, 48438, 49501, 51968, 52724, 55156]),\n",
       " array([  126,  1697,  2803,  2923,  4691,  5166,  6413,  6442,  6699,\n",
       "         6732,  7080,  7219, 11169, 12702, 12883, 12911, 14487, 16586,\n",
       "        16628, 16760, 16781, 19629, 20689, 21325, 21338, 21469, 22712,\n",
       "        23041, 23073, 23819, 23987, 24441, 25374, 25417, 26015, 26368,\n",
       "        27746, 29303, 37134, 37169, 38046, 38190, 39497, 39513, 40223,\n",
       "        42146, 42170, 42685, 43442, 44102, 44540, 45596, 47236, 47256,\n",
       "        47312, 47350, 47457, 49075, 49097, 49520, 51952, 52513, 55180,\n",
       "        56230, 57071, 57088, 57476]),\n",
       " array([ 1386,  1714,  2838,  4677,  5784,  5903,  6950,  7065,  7260,\n",
       "         8222,  8915, 10221, 11803, 11818, 11958, 12689, 14247, 14276,\n",
       "        15144, 15420, 15664, 16794, 16838, 17386, 18324, 19596, 19900,\n",
       "        21526, 22371, 22392, 23564, 23804, 23835, 25212, 25392, 25462,\n",
       "        30511, 32425, 35916, 36789, 37670, 39898, 40248, 42306, 43757,\n",
       "        44483, 44864, 46416, 48701, 51189, 52023, 52525])]"
      ]
     },
     "execution_count": 427,
     "metadata": {},
     "output_type": "execute_result"
    }
   ],
   "source": [
    "spike_samples"
   ]
  },
  {
   "cell_type": "code",
   "execution_count": 428,
   "id": "5835ae4f",
   "metadata": {},
   "outputs": [],
   "source": [
    "# Getting close to being able to write tetrode files using `write_tetrode` from `BinConverter`\n",
    "# Remember: Timestamps are at 96 kHz.\n",
    "\n",
    "tetrode_spikes = {}\n",
    "\n",
    "for iunit, (unit_spike_samples, unit_waveforms) in enumerate(zip(spike_samples, waveforms_int8)):\n",
    "    \n",
    "    for iwave, (spike_sample, spike_waveform) in enumerate(zip(unit_spike_samples, unit_waveforms)):\n",
    "        \n",
    "        tetrode_spikes[spike_sample] = spike_waveform"
   ]
  },
  {
   "cell_type": "code",
   "execution_count": 435,
   "id": "67655321",
   "metadata": {},
   "outputs": [
    {
     "data": {
      "text/plain": [
       "PosixPath('/mnt/d/freelance-work/catalyst-neuro/hussaini-lab-to-nwb/sample_bin_to_tint_no_bin/conversion_to_tint/axona_sample.1')"
      ]
     },
     "execution_count": 435,
     "metadata": {},
     "output_type": "execute_result"
    }
   ],
   "source": [
    "tetrode_filename = dir_name / 'conversion_to_tint' / 'axona_sample.1'\n",
    "tetrode_filename"
   ]
  },
  {
   "cell_type": "code",
   "execution_count": 438,
   "id": "102655f3",
   "metadata": {},
   "outputs": [],
   "source": [
    "filepath = tetrode_filename\n",
    "data = tetrode_spikes\n",
    "Fs = sampling_rate"
   ]
  },
  {
   "cell_type": "code",
   "execution_count": 442,
   "id": "754445a1",
   "metadata": {},
   "outputs": [
    {
     "ename": "AttributeError",
     "evalue": "'PosixPath' object has no attribute 'split'",
     "output_type": "error",
     "traceback": [
      "\u001b[0;31m---------------------------------------------------------------------------\u001b[0m",
      "\u001b[0;31mAttributeError\u001b[0m                            Traceback (most recent call last)",
      "\u001b[0;32m<ipython-input-442-3c28e93f7526>\u001b[0m in \u001b[0;36m<module>\u001b[0;34m\u001b[0m\n\u001b[0;32m----> 1\u001b[0;31m \u001b[0mfilepath\u001b[0m\u001b[0;34m.\u001b[0m\u001b[0msplit\u001b[0m\u001b[0;34m(\u001b[0m\u001b[0;34m)\u001b[0m\u001b[0;34m\u001b[0m\u001b[0;34m\u001b[0m\u001b[0m\n\u001b[0m",
      "\u001b[0;31mAttributeError\u001b[0m: 'PosixPath' object has no attribute 'split'"
     ]
    }
   ],
   "source": [
    "filepath.split()"
   ]
  },
  {
   "cell_type": "code",
   "execution_count": 444,
   "id": "84a173bd",
   "metadata": {},
   "outputs": [
    {
     "data": {
      "text/plain": [
       "'/mnt/d/freelance-work/catalyst-neuro/hussaini-lab-to-nwb/sample_bin_to_tint_no_bin/conversion_to_tint/axona_sample.set'"
      ]
     },
     "execution_count": 444,
     "metadata": {},
     "output_type": "execute_result"
    }
   ],
   "source": [
    "session_path, session_filename = os.path.split(filepath)\n",
    "tint_basename = os.path.splitext(session_filename)[0]\n",
    "set_filename = os.path.join(session_path, '%s.set' % tint_basename)\n"
   ]
  },
  {
   "cell_type": "code",
   "execution_count": 446,
   "id": "893746c4",
   "metadata": {},
   "outputs": [
    {
     "data": {
      "text/plain": [
       "'trial_date Sunday, 4 Oct 2020\\ntrial_time 11:07:07\\nexperimenter Abid\\ncomments \\nduration 1.2\\nsw_version 1.2.2.16\\n'"
      ]
     },
     "execution_count": 446,
     "metadata": {},
     "output_type": "execute_result"
    }
   ],
   "source": [
    "header = get_set_header(set_filename)\n",
    "header"
   ]
  },
  {
   "cell_type": "code",
   "execution_count": 447,
   "id": "fd024254",
   "metadata": {},
   "outputs": [],
   "source": [
    "n = len(data)\n",
    "num_chans = 'num_chans 4'\n",
    "timebase_head = '\\ntimebase %d hz' % (96000)\n",
    "bp_timestamp = '\\nbytes_per_timestamp %d' % (4)\n",
    "# samps_per_spike = '\\nsamples_per_spike %d' % (int(Fs*1e-3))\n",
    "samps_per_spike = '\\nsamples_per_spike %d' % (50)\n",
    "sample_rate = '\\nsample_rate %d hz' % (Fs)\n",
    "b_p_sample = '\\nbytes_per_sample %d' % (1)\n",
    "# b_p_sample = '\\nbytes_per_sample %d' % (4)\n",
    "spike_form = '\\nspike_format t,ch1,t,ch2,t,ch3,t,ch4'\n",
    "num_spikes = '\\nnum_spikes %d' % (n)\n",
    "start = '\\ndata_start'\n",
    "\n",
    "write_order = [header, num_chans, timebase_head,\n",
    "               bp_timestamp,\n",
    "               samps_per_spike, sample_rate, b_p_sample, spike_form, num_spikes, start]\n"
   ]
  },
  {
   "cell_type": "code",
   "execution_count": 448,
   "id": "621f8d7c",
   "metadata": {
    "scrolled": true
   },
   "outputs": [
    {
     "data": {
      "text/plain": [
       "['trial_date Sunday, 4 Oct 2020\\ntrial_time 11:07:07\\nexperimenter Abid\\ncomments \\nduration 1.2\\nsw_version 1.2.2.16\\n',\n",
       " 'num_chans 4',\n",
       " '\\ntimebase 96000 hz',\n",
       " '\\nbytes_per_timestamp 4',\n",
       " '\\nsamples_per_spike 50',\n",
       " '\\nsample_rate 48000 hz',\n",
       " '\\nbytes_per_sample 1',\n",
       " '\\nspike_format t,ch1,t,ch2,t,ch3,t,ch4',\n",
       " '\\nnum_spikes 712',\n",
       " '\\ndata_start']"
      ]
     },
     "execution_count": 448,
     "metadata": {},
     "output_type": "execute_result"
    }
   ],
   "source": [
    "write_order"
   ]
  },
  {
   "cell_type": "code",
   "execution_count": 449,
   "id": "f5e9a8fb",
   "metadata": {},
   "outputs": [],
   "source": [
    "spike_times = np.asarray(sorted(data.keys()))\n",
    "\n",
    "# the spike times are repeated for each channel so lets tile this\n",
    "spike_times = np.tile(spike_times, (4, 1))\n",
    "spike_times = spike_times.flatten(order='F')\n",
    "\n",
    "spike_values = np.asarray([value for (key, value) in sorted(data.items())])"
   ]
  },
  {
   "cell_type": "code",
   "execution_count": 452,
   "id": "f38f597b",
   "metadata": {},
   "outputs": [
    {
     "data": {
      "text/plain": [
       "array([   94,    94,    94, ..., 57495, 57495, 57495])"
      ]
     },
     "execution_count": 452,
     "metadata": {},
     "output_type": "execute_result"
    }
   ],
   "source": [
    "spike_times"
   ]
  },
  {
   "cell_type": "code",
   "execution_count": null,
   "id": "a381c37a",
   "metadata": {},
   "outputs": [],
   "source": [
    "def write_tetrode(filepath, data, Fs):\n",
    "\n",
    "    session_path, session_filename = os.path.split(filepath)\n",
    "    tint_basename = os.path.splitext(session_filename)[0]\n",
    "    set_filename = os.path.join(session_path, '%s.set' % tint_basename)\n",
    "\n",
    "    n = len(data)\n",
    "\n",
    "    header = get_set_header(set_filename)\n",
    "\n",
    "    with open(filepath, 'w') as f:\n",
    "        num_chans = 'num_chans 4'\n",
    "        timebase_head = '\\ntimebase %d hz' % (96000)\n",
    "        bp_timestamp = '\\nbytes_per_timestamp %d' % (4)\n",
    "        # samps_per_spike = '\\nsamples_per_spike %d' % (int(Fs*1e-3))\n",
    "        samps_per_spike = '\\nsamples_per_spike %d' % (50)\n",
    "        sample_rate = '\\nsample_rate %d hz' % (Fs)\n",
    "        b_p_sample = '\\nbytes_per_sample %d' % (1)\n",
    "        # b_p_sample = '\\nbytes_per_sample %d' % (4)\n",
    "        spike_form = '\\nspike_format t,ch1,t,ch2,t,ch3,t,ch4'\n",
    "        num_spikes = '\\nnum_spikes %d' % (n)\n",
    "        start = '\\ndata_start'\n",
    "\n",
    "        write_order = [header, num_chans, timebase_head,\n",
    "                       bp_timestamp,\n",
    "                       samps_per_spike, sample_rate, b_p_sample, spike_form, num_spikes, start]\n",
    "\n",
    "        f.writelines(write_order)\n",
    "\n",
    "    # rearranging the data to have a flat array of t1, waveform1, t2, waveform2, t3, waveform3, etc....\n",
    "    spike_times = np.asarray(sorted(data.keys()))\n",
    "\n",
    "    # the spike times are repeated for each channel so lets tile this\n",
    "    spike_times = np.tile(spike_times, (4, 1))\n",
    "    spike_times = spike_times.flatten(order='F')\n",
    "\n",
    "    spike_values = np.asarray([value for (key, value) in sorted(data.items())])\n",
    "\n",
    "    # this will create a (n_samples, n_channels, n_samples_per_spike) => (n, 4, 50) sized matrix, we will create a\n",
    "    # matrix of all the samples and channels going from ch1 -> ch4 for each spike time\n",
    "    # time1 ch1_data\n",
    "    # time1 ch2_data\n",
    "    # time1 ch3_data\n",
    "    # time1 ch4_data\n",
    "    # time2 ch1_data\n",
    "    # time2 ch2_data\n",
    "    # .\n",
    "    # .\n",
    "    # .\n",
    "\n",
    "    spike_values = spike_values.reshape((n * 4, 50))  # create the 4nx50 channel data matrix\n",
    "\n",
    "    # make the first column the time values\n",
    "    spike_array = np.hstack((spike_times.reshape(len(spike_times), 1), spike_values))\n",
    "\n",
    "    data = None\n",
    "    spike_times = None\n",
    "    spike_values = None\n",
    "\n",
    "    spike_n = spike_array.shape[0]\n",
    "\n",
    "    t_packed = struct.pack('>%di' % spike_n, *spike_array[:, 0].astype(int))\n",
    "    spike_array = spike_array[:, 1:]  # removing time data from this matrix to save memory\n",
    "\n",
    "    spike_data_pack = struct.pack('<%db' % (spike_n*50), *spike_array.astype(int).flatten())\n",
    "\n",
    "    spike_array = None\n",
    "\n",
    "    # now we need to combine the lists by alternating\n",
    "\n",
    "    comb_list = [None] * (2*spike_n)\n",
    "    comb_list[::2] = [t_packed[i:i + 4] for i in range(0, len(t_packed), 4)]  # breaks up t_packed into a list,\n",
    "    # each timestamp is one 4 byte integer\n",
    "    comb_list[1::2] = [spike_data_pack[i:i + 50] for i in range(0, len(spike_data_pack), 50)]  # breaks up spike_data_\n",
    "    # pack and puts it into a list, each spike is 50 one byte integers\n",
    "\n",
    "    t_packed = None\n",
    "    spike_data_pack = None\n",
    "\n",
    "    write_order = []\n",
    "    with open(filepath, 'rb+') as f:\n",
    "\n",
    "        write_order.extend(comb_list)\n",
    "        write_order.append(bytes('\\r\\ndata_end\\r\\n', 'utf-8'))\n",
    "\n",
    "        f.seek(0, 2)\n",
    "        f.writelines(write_order)"
   ]
  },
  {
   "cell_type": "code",
   "execution_count": null,
   "id": "01fa211c",
   "metadata": {},
   "outputs": [],
   "source": []
  },
  {
   "cell_type": "code",
   "execution_count": null,
   "id": "cce280d9",
   "metadata": {},
   "outputs": [],
   "source": []
  },
  {
   "cell_type": "code",
   "execution_count": null,
   "id": "b2f7b700",
   "metadata": {},
   "outputs": [],
   "source": []
  },
  {
   "cell_type": "code",
   "execution_count": 436,
   "id": "b2f8fe2c",
   "metadata": {},
   "outputs": [
    {
     "name": "stderr",
     "output_type": "stream",
     "text": [
      "/home/sbuergers/spikeinterface/spikeinterface_new_api/venv/lib/python3.8/site-packages/numpy-1.20.3-py3.8-linux-x86_64.egg/numpy/core/_asarray.py:102: VisibleDeprecationWarning: Creating an ndarray from ragged nested sequences (which is a list-or-tuple of lists-or-tuples-or ndarrays with different lengths or shapes) is deprecated. If you meant to do this, you must specify 'dtype=object' when creating the ndarray.\n",
      "  return array(a, dtype, copy=False, order=order)\n"
     ]
    },
    {
     "ename": "ValueError",
     "evalue": "cannot reshape array of size 712 into shape (2848,50)",
     "output_type": "error",
     "traceback": [
      "\u001b[0;31m---------------------------------------------------------------------------\u001b[0m",
      "\u001b[0;31mValueError\u001b[0m                                Traceback (most recent call last)",
      "\u001b[0;32m<ipython-input-436-33f1a5ac93c8>\u001b[0m in \u001b[0;36m<module>\u001b[0;34m\u001b[0m\n\u001b[0;32m----> 1\u001b[0;31m \u001b[0mwrite_tetrode\u001b[0m\u001b[0;34m(\u001b[0m\u001b[0mtetrode_filename\u001b[0m\u001b[0;34m,\u001b[0m \u001b[0mtetrode_spikes\u001b[0m\u001b[0;34m,\u001b[0m \u001b[0msampling_rate\u001b[0m\u001b[0;34m)\u001b[0m\u001b[0;34m\u001b[0m\u001b[0;34m\u001b[0m\u001b[0m\n\u001b[0m",
      "\u001b[0;32m<ipython-input-7-7f489f554232>\u001b[0m in \u001b[0;36mwrite_tetrode\u001b[0;34m(filepath, data, Fs)\u001b[0m\n\u001b[1;32m     58\u001b[0m     \u001b[0;31m# .\u001b[0m\u001b[0;34m\u001b[0m\u001b[0;34m\u001b[0m\u001b[0;34m\u001b[0m\u001b[0m\n\u001b[1;32m     59\u001b[0m \u001b[0;34m\u001b[0m\u001b[0m\n\u001b[0;32m---> 60\u001b[0;31m     \u001b[0mspike_values\u001b[0m \u001b[0;34m=\u001b[0m \u001b[0mspike_values\u001b[0m\u001b[0;34m.\u001b[0m\u001b[0mreshape\u001b[0m\u001b[0;34m(\u001b[0m\u001b[0;34m(\u001b[0m\u001b[0mn\u001b[0m \u001b[0;34m*\u001b[0m \u001b[0;36m4\u001b[0m\u001b[0;34m,\u001b[0m \u001b[0;36m50\u001b[0m\u001b[0;34m)\u001b[0m\u001b[0;34m)\u001b[0m  \u001b[0;31m# create the 4nx50 channel data matrix\u001b[0m\u001b[0;34m\u001b[0m\u001b[0;34m\u001b[0m\u001b[0m\n\u001b[0m\u001b[1;32m     61\u001b[0m \u001b[0;34m\u001b[0m\u001b[0m\n\u001b[1;32m     62\u001b[0m     \u001b[0;31m# make the first column the time values\u001b[0m\u001b[0;34m\u001b[0m\u001b[0;34m\u001b[0m\u001b[0;34m\u001b[0m\u001b[0m\n",
      "\u001b[0;31mValueError\u001b[0m: cannot reshape array of size 712 into shape (2848,50)"
     ]
    }
   ],
   "source": [
    "write_tetrode(tetrode_filename, tetrode_spikes, sampling_rate)"
   ]
  },
  {
   "cell_type": "code",
   "execution_count": null,
   "id": "44771e40",
   "metadata": {},
   "outputs": [],
   "source": []
  },
  {
   "cell_type": "markdown",
   "id": "bd251800",
   "metadata": {},
   "source": [
    "## Convert recording extractor to tetrode files (.X)"
   ]
  },
  {
   "cell_type": "code",
   "execution_count": 23,
   "id": "10194d8f",
   "metadata": {},
   "outputs": [],
   "source": [
    "from BinConverter.core.ConvertTetrode import write_tetrode\n",
    "from BinConverter.core.readBin import (\n",
    "    get_bin_data, get_raw_pos, get_channel_from_tetrode, get_active_tetrode, get_active_eeg\n",
    ")\n",
    "from BinConverter.core.Tint_Matlab import int16toint8\n",
    "\n",
    "from spikeextractors.extractors.axonaunitrecordingextractor import AxonaUnitRecordingExtractor\n",
    "\n",
    "import pandas as pd"
   ]
  },
  {
   "cell_type": "code",
   "execution_count": 43,
   "id": "f5882ea8",
   "metadata": {},
   "outputs": [],
   "source": [
    "def parse_generic_header(filename):\n",
    "    \"\"\"\n",
    "    Given a binary file with phrases and line breaks, enters the\n",
    "    first word of a phrase as dictionary key and the following\n",
    "    string (without linebreaks) as value. Returns the dictionary.\n",
    "    \"\"\"\n",
    "    header = {}\n",
    "    with open(filename, 'rb') as f:\n",
    "        for bin_line in f:\n",
    "            if b'data_start' in bin_line:\n",
    "                break\n",
    "            line = bin_line.decode('cp1252').replace('\\r\\n', '').replace('\\r', '').strip()\n",
    "            parts = line.split(' ')\n",
    "            key = parts[0]\n",
    "            value = ' '.join(parts[1:])\n",
    "            header[key] = value\n",
    "            \n",
    "    return header"
   ]
  },
  {
   "cell_type": "code",
   "execution_count": 44,
   "id": "0ff4d999",
   "metadata": {},
   "outputs": [],
   "source": [
    "def get_channel_from_tetrode(tetrode):\n",
    "    \"\"\"\n",
    "    This function will take the tetrode number and return the Axona\n",
    "    channel numbers, i.e. Tetrode 1 = Ch0-Ch3, Tetrode 2 = Ch4-Ch7, etc.\n",
    "    \"\"\"\n",
    "    return np.arange(0, 4) + 4 * (int(tetrode) - 1)"
   ]
  },
  {
   "cell_type": "code",
   "execution_count": 45,
   "id": "df479c5e",
   "metadata": {},
   "outputs": [
    {
     "name": "stdout",
     "output_type": "stream",
     "text": [
      "/mnt/d/freelance-work/catalyst-neuro/hussaini-lab-to-nwb/sample_bin_to_tint_no_bin/axona_sample.set\n"
     ]
    }
   ],
   "source": [
    "set_file = dir_name / 'axona_sample.set'\n",
    "set_filename = set_file\n",
    "print(set_file)"
   ]
  },
  {
   "cell_type": "code",
   "execution_count": 46,
   "id": "d87e2fd6",
   "metadata": {},
   "outputs": [],
   "source": [
    "re = AxonaUnitRecordingExtractor(filename=set_file)"
   ]
  },
  {
   "cell_type": "code",
   "execution_count": 47,
   "id": "f26aa3a0",
   "metadata": {},
   "outputs": [
    {
     "data": {
      "text/plain": [
       "AxonaRawIO: /mnt/d/freelance-work/catalyst-neuro/hussaini-lab-to-nwb/sample_bin_to_tint_no_bin/axona_sample\n",
       "nb_block: 1\n",
       "nb_segment:  [1]\n",
       "signal_streams: [stream 0 (chans: 16)]\n",
       "signal_channels: [1a, 1b, 1c, 1d ... 4a , 4b , 4c , 4d]\n",
       "spike_channels: [tetrode 1, tetrode 2, tetrode 3, tetrode 4]\n",
       "event_channels: []"
      ]
     },
     "execution_count": 47,
     "metadata": {},
     "output_type": "execute_result"
    }
   ],
   "source": [
    "re.neo_reader"
   ]
  },
  {
   "cell_type": "code",
   "execution_count": 48,
   "id": "27349ae6",
   "metadata": {},
   "outputs": [
    {
     "data": {
      "text/plain": [
       "PosixPath('/mnt/d/freelance-work/catalyst-neuro/hussaini-lab-to-nwb/sample_bin_to_tint_no_bin')"
      ]
     },
     "execution_count": 48,
     "metadata": {},
     "output_type": "execute_result"
    }
   ],
   "source": [
    "dir_name"
   ]
  },
  {
   "cell_type": "code",
   "execution_count": 49,
   "id": "00de1c0f",
   "metadata": {},
   "outputs": [],
   "source": [
    "header = parse_generic_header(set_file)"
   ]
  },
  {
   "cell_type": "code",
   "execution_count": 50,
   "id": "bb4d4e96",
   "metadata": {},
   "outputs": [
    {
     "name": "stdout",
     "output_type": "stream",
     "text": [
      "10\n",
      "40\n",
      "30\n",
      "43\n",
      "100\n",
      "-100\n"
     ]
    }
   ],
   "source": [
    "pre_spike_samples = int(header['pretrigSamps'])\n",
    "post_spike_samples = int(header['spikeLockout'])\n",
    "rejstart = int(header['rejstart'])\n",
    "rejthreshtail = int(header['rejthreshtail'])\n",
    "rejthreshupper = int(header['rejthreshupper'])\n",
    "rejthreshlower = int(header['rejthreshlower'])\n",
    "\n",
    "print(pre_spike_samples)\n",
    "print(post_spike_samples)\n",
    "print(rejstart)\n",
    "print(rejthreshtail)\n",
    "print(rejthreshupper)\n",
    "print(rejthreshlower)"
   ]
  },
  {
   "cell_type": "code",
   "execution_count": 51,
   "id": "6f4d7186",
   "metadata": {},
   "outputs": [
    {
     "data": {
      "text/plain": [
       "<spikeextractors.extractors.bindatrecordingextractor.bindatrecordingextractor.BinDatRecordingExtractor at 0x7fb2ff61db20>"
      ]
     },
     "execution_count": 51,
     "metadata": {},
     "output_type": "execute_result"
    }
   ],
   "source": [
    "r_cache"
   ]
  },
  {
   "cell_type": "code",
   "execution_count": 52,
   "id": "2b5068c9",
   "metadata": {},
   "outputs": [
    {
     "data": {
      "text/plain": [
       "'axona_sample.1'"
      ]
     },
     "execution_count": 52,
     "metadata": {},
     "output_type": "execute_result"
    }
   ],
   "source": [
    "tetrode = 1\n",
    "set_file.stem + '.{}'.format(tetrode)"
   ]
  },
  {
   "cell_type": "code",
   "execution_count": 53,
   "id": "b6c860aa",
   "metadata": {},
   "outputs": [],
   "source": [
    "tetrode_channels = get_channel_from_tetrode(tetrode)"
   ]
  },
  {
   "cell_type": "code",
   "execution_count": 54,
   "id": "06809590",
   "metadata": {},
   "outputs": [
    {
     "name": "stdout",
     "output_type": "stream",
     "text": [
      "Object `get_bin_data` not found.\n"
     ]
    }
   ],
   "source": [
    "get_bin_data??"
   ]
  },
  {
   "cell_type": "code",
   "execution_count": 55,
   "id": "6dff6db5",
   "metadata": {},
   "outputs": [
    {
     "data": {
      "text/plain": [
       "1"
      ]
     },
     "execution_count": 55,
     "metadata": {},
     "output_type": "execute_result"
    }
   ],
   "source": [
    "tetrode"
   ]
  },
  {
   "cell_type": "code",
   "execution_count": 56,
   "id": "c5082a5e",
   "metadata": {},
   "outputs": [],
   "source": [
    "import contextlib\n",
    "import mmap\n",
    "\n",
    "def get_bin_data(bin_filename, channels=None, tetrode=None):\n",
    "    \"\"\"This function will be used to acquire the actual lfp data given the .bin filename,\n",
    "    and the tetrode or channels (from 1-64) that you want to get\"\"\"\n",
    "\n",
    "    if tetrode is not None:\n",
    "        channels = get_channel_from_tetrode(tetrode)\n",
    "    else:\n",
    "        channels = np.array(channels)  # just in case it isn't an np.array\n",
    "\n",
    "    bytes_per_iteration = 432\n",
    "\n",
    "    with open(bin_filename, 'rb') as f:\n",
    "        # pass\n",
    "        with contextlib.closing(mmap.mmap(f.fileno(), 0, access=mmap.ACCESS_READ)) as m:\n",
    "            num_iterations = int(len(m)/bytes_per_iteration)\n",
    "\n",
    "            data = np.ndarray((num_iterations,), (np.int16, (1,192)), m, 32, (bytes_per_iteration,)).reshape((-1, 1)).flatten()\n",
    "            data = samples_to_array(data, channels=channels.tolist())\n",
    "\n",
    "    return data\n",
    "\n",
    "def samples_to_array(A, channels=[]):\n",
    "    \"\"\"This will take data matrix A, and convert it into a numpy array, there are three samples of\n",
    "    64 channels in this matrix, however their channels do need to be re-mapped\"\"\"\n",
    "\n",
    "    if channels == []:\n",
    "        channels = np.arange(64) + 1\n",
    "    else:\n",
    "        channels = np.asarray(channels)\n",
    "\n",
    "    A = np.asarray(A)\n",
    "\n",
    "    sample_num = int(len(A) / 64)  # get the sample numbers\n",
    "\n",
    "    sample_array = np.zeros((len(channels), sample_num))  # creating a 64x3 array of zeros (64 channels, 3 samples)\n",
    "\n",
    "    for i, channel in enumerate(channels):\n",
    "        sample_array[i, :] = A[get_sample_indices(channel, sample_num)]\n",
    "\n",
    "    return sample_array\n",
    "\n",
    "def get_sample_indices(channel_number, samples):\n",
    "    remap_channel = get_remap_chan(channel_number)\n",
    "\n",
    "    indices_scalar = np.multiply(np.arange(samples), 64)\n",
    "    sample_indices = indices_scalar + np.multiply(np.ones(samples), remap_channel)\n",
    "\n",
    "    # return np.array([remap_channel, 64 + remap_channel, 64*2 + remap_channel])\n",
    "    return (indices_scalar + np.multiply(np.ones(samples), remap_channel)).astype(int)\n",
    "\n",
    "def get_remap_chan(chan_num):\n",
    "    \"\"\"There is re-mapping, thus to get the correct channel data, you need to incorporate re-mapping\n",
    "    input will be a channel from 1 to 64, and will return the remapped channel\"\"\"\n",
    "\n",
    "    remap_channels = np.array([32, 33, 34, 35, 36, 37, 38, 39, 0, 1, 2, 3, 4, 5,\n",
    "                               6, 7, 40, 41, 42, 43, 44, 45, 46, 47, 8, 9, 10, 11,\n",
    "                               12, 13, 14, 15, 48, 49, 50, 51, 52, 53, 54, 55, 16, 17,\n",
    "                               18, 19, 20, 21, 22, 23, 56, 57, 58, 59, 60, 61, 62, 63,\n",
    "                               24, 25, 26, 27, 28, 29, 30, 31])\n",
    "\n",
    "    return remap_channels[chan_num - 1]"
   ]
  },
  {
   "cell_type": "code",
   "execution_count": 57,
   "id": "b7121c2d",
   "metadata": {},
   "outputs": [],
   "source": [
    "bin_filename = Path('/mnt/d/freelance-work/catalyst-neuro/hussaini-lab-to-nwb/sample_bin_to_tint/axona_sample.bin')\n",
    "data = get_bin_data(bin_filename, tetrode=tetrode)"
   ]
  },
  {
   "cell_type": "code",
   "execution_count": 58,
   "id": "f4c610fb",
   "metadata": {},
   "outputs": [
    {
     "data": {
      "text/plain": [
       "(4, 57600)"
      ]
     },
     "execution_count": 58,
     "metadata": {},
     "output_type": "execute_result"
    }
   ],
   "source": [
    "data.shape"
   ]
  },
  {
   "cell_type": "code",
   "execution_count": 59,
   "id": "ddd6dab7",
   "metadata": {},
   "outputs": [
    {
     "data": {
      "text/plain": [
       "array([[  3574.,   -230.,      0., ...,      0.,      0.,      0.],\n",
       "       [  3682.,  -3870.,      0., ..., -13700., -14410., -11876.],\n",
       "       [  1714.,   -188.,      0., ...,  -9006.,  -9980.,  -9502.],\n",
       "       [ 10480.,   5308.,      0., ...,  -8460.,  -7266.,  -4906.]])"
      ]
     },
     "execution_count": 59,
     "metadata": {},
     "output_type": "execute_result"
    }
   ],
   "source": [
    "data"
   ]
  },
  {
   "cell_type": "code",
   "execution_count": 60,
   "id": "9b283da0",
   "metadata": {},
   "outputs": [],
   "source": [
    "from neo import AxonaIO"
   ]
  },
  {
   "cell_type": "code",
   "execution_count": 61,
   "id": "8b54a621",
   "metadata": {},
   "outputs": [],
   "source": [
    "neoio = AxonaIO(bin_filename)"
   ]
  },
  {
   "cell_type": "code",
   "execution_count": 62,
   "id": "26f25a6f",
   "metadata": {},
   "outputs": [],
   "source": [
    "bin_data_neo = neoio.get_analogsignal_chunk(channel_indexes=[12, 13, 14, 15]).T"
   ]
  },
  {
   "cell_type": "code",
   "execution_count": 63,
   "id": "96f7082e",
   "metadata": {},
   "outputs": [
    {
     "data": {
      "text/plain": [
       "array([[ -7572,  -1930,      0, ..., -26920, -22956, -17398],\n",
       "       [ -5500,   -206,      0, ..., -18238, -17952, -15410],\n",
       "       [   798,  -9238,      0, ..., -17090, -13344,  -8568],\n",
       "       [  2378,  -6200,      0, ..., -17912, -15948, -11356]], dtype=int16)"
      ]
     },
     "execution_count": 63,
     "metadata": {},
     "output_type": "execute_result"
    }
   ],
   "source": [
    "bin_data_neo"
   ]
  },
  {
   "cell_type": "code",
   "execution_count": 64,
   "id": "7a47ead3",
   "metadata": {},
   "outputs": [],
   "source": [
    "tet1_data_neo = neoio.get_spike_raw_waveforms()"
   ]
  },
  {
   "cell_type": "code",
   "execution_count": 65,
   "id": "72f01e49",
   "metadata": {},
   "outputs": [
    {
     "data": {
      "text/plain": [
       "memmap([[[  -7,    2,   18, ...,   33,   26,   15],\n",
       "         [  -6,   -2,    1, ...,   25,   25,   22],\n",
       "         [  -2,    3,   14, ...,   30,   24,   14],\n",
       "         [ -18,   -6,   13, ...,   22,   10,   -3]],\n",
       "\n",
       "        [[   4,   -3,  -11, ...,  -11,  -10,  -12],\n",
       "         [  28,   22,    8, ...,   -7,  -10,  -12],\n",
       "         [  22,   15,    1, ...,  -14,  -15,  -14],\n",
       "         [  40,   56,   57, ...,   -9,  -15,  -24]],\n",
       "\n",
       "        [[  15,    6,   -1, ...,  -40,  -25,   -8],\n",
       "         [  17,   14,    6, ...,  -29,  -29,  -25],\n",
       "         [  20,   15,    7, ...,  -34,  -24,  -11],\n",
       "         [   1,  -13,  -27, ...,  -53,  -31,   -5]],\n",
       "\n",
       "        ...,\n",
       "\n",
       "        [[ -40,  -71, -108, ...,  -36,  -57,  -71],\n",
       "         [ -35,  -39,  -43, ...,   14,    0,  -20],\n",
       "         [ -15,  -17,  -22, ...,    5,  -15,  -46],\n",
       "         [ -20,  -20,  -26, ...,   12,   -6,  -32]],\n",
       "\n",
       "        [[   7,    5,    7, ...,    9,    6,    1],\n",
       "         [  -2,   -7,  -12, ...,  -15,  -13,  -16],\n",
       "         [  42,   44,   33, ...,   -1,   -5,   -9],\n",
       "         [  38,   44,   46, ...,   -8,  -10,  -10]],\n",
       "\n",
       "        [[ -28,  -29,  -19, ...,   17,   21,   26],\n",
       "         [  20,    8,    4, ...,    0,  -11,  -16],\n",
       "         [ -40,  -48,  -37, ...,   -5,   -5,    1],\n",
       "         [ -21,   -8,   12, ...,   22,   31,   36]]], dtype=int8)"
      ]
     },
     "execution_count": 65,
     "metadata": {},
     "output_type": "execute_result"
    }
   ],
   "source": [
    "tet1_data_neo"
   ]
  },
  {
   "cell_type": "code",
   "execution_count": 66,
   "id": "5e0c8e46",
   "metadata": {},
   "outputs": [],
   "source": [
    "fraw = 3682\n",
    "f = 4314.84375  # should be 3682"
   ]
  },
  {
   "cell_type": "code",
   "execution_count": 48,
   "id": "047981dc",
   "metadata": {},
   "outputs": [
    {
     "data": {
      "text/plain": [
       "'0b111001100010'"
      ]
     },
     "execution_count": 48,
     "metadata": {},
     "output_type": "execute_result"
    }
   ],
   "source": [
    "bin(fraw)"
   ]
  },
  {
   "cell_type": "code",
   "execution_count": 49,
   "id": "8550067a",
   "metadata": {},
   "outputs": [
    {
     "ename": "TypeError",
     "evalue": "'float' object cannot be interpreted as an integer",
     "output_type": "error",
     "traceback": [
      "\u001b[0;31m---------------------------------------------------------------------------\u001b[0m",
      "\u001b[0;31mTypeError\u001b[0m                                 Traceback (most recent call last)",
      "\u001b[0;32m<ipython-input-49-57d3acba662e>\u001b[0m in \u001b[0;36m<module>\u001b[0;34m\u001b[0m\n\u001b[0;32m----> 1\u001b[0;31m \u001b[0mbin\u001b[0m\u001b[0;34m(\u001b[0m\u001b[0mf\u001b[0m\u001b[0;34m)\u001b[0m\u001b[0;34m\u001b[0m\u001b[0;34m\u001b[0m\u001b[0m\n\u001b[0m",
      "\u001b[0;31mTypeError\u001b[0m: 'float' object cannot be interpreted as an integer"
     ]
    }
   ],
   "source": [
    "bin(f)"
   ]
  },
  {
   "cell_type": "code",
   "execution_count": 50,
   "id": "9666751c",
   "metadata": {},
   "outputs": [
    {
     "ename": "NameError",
     "evalue": "name 'traces' is not defined",
     "output_type": "error",
     "traceback": [
      "\u001b[0;31m---------------------------------------------------------------------------\u001b[0m",
      "\u001b[0;31mNameError\u001b[0m                                 Traceback (most recent call last)",
      "\u001b[0;32m<ipython-input-50-aa2b57c00f22>\u001b[0m in \u001b[0;36m<module>\u001b[0;34m\u001b[0m\n\u001b[0;32m----> 1\u001b[0;31m \u001b[0mtraces\u001b[0m \u001b[0;34m*\u001b[0m \u001b[0;36m1000\u001b[0m\u001b[0;34m\u001b[0m\u001b[0;34m\u001b[0m\u001b[0m\n\u001b[0m",
      "\u001b[0;31mNameError\u001b[0m: name 'traces' is not defined"
     ]
    }
   ],
   "source": [
    "traces * 1000"
   ]
  },
  {
   "cell_type": "code",
   "execution_count": 51,
   "id": "d1c49bfa",
   "metadata": {},
   "outputs": [
    {
     "data": {
      "text/plain": [
       "numpy.float64"
      ]
     },
     "execution_count": 51,
     "metadata": {},
     "output_type": "execute_result"
    }
   ],
   "source": [
    "type(data[1,1])"
   ]
  },
  {
   "cell_type": "code",
   "execution_count": 52,
   "id": "49660066",
   "metadata": {},
   "outputs": [
    {
     "data": {
      "text/html": [
       "<div>\n",
       "<style scoped>\n",
       "    .dataframe tbody tr th:only-of-type {\n",
       "        vertical-align: middle;\n",
       "    }\n",
       "\n",
       "    .dataframe tbody tr th {\n",
       "        vertical-align: top;\n",
       "    }\n",
       "\n",
       "    .dataframe thead th {\n",
       "        text-align: right;\n",
       "    }\n",
       "</style>\n",
       "<table border=\"1\" class=\"dataframe\">\n",
       "  <thead>\n",
       "    <tr style=\"text-align: right;\">\n",
       "      <th></th>\n",
       "      <th>channel_ids</th>\n",
       "      <th>channel_groups</th>\n",
       "      <th>tetrode_ids</th>\n",
       "    </tr>\n",
       "  </thead>\n",
       "  <tbody>\n",
       "    <tr>\n",
       "      <th>0</th>\n",
       "      <td>1</td>\n",
       "      <td>0</td>\n",
       "      <td>1</td>\n",
       "    </tr>\n",
       "    <tr>\n",
       "      <th>1</th>\n",
       "      <td>2</td>\n",
       "      <td>0</td>\n",
       "      <td>1</td>\n",
       "    </tr>\n",
       "    <tr>\n",
       "      <th>2</th>\n",
       "      <td>4</td>\n",
       "      <td>1</td>\n",
       "      <td>2</td>\n",
       "    </tr>\n",
       "    <tr>\n",
       "      <th>3</th>\n",
       "      <td>6</td>\n",
       "      <td>1</td>\n",
       "      <td>2</td>\n",
       "    </tr>\n",
       "    <tr>\n",
       "      <th>4</th>\n",
       "      <td>7</td>\n",
       "      <td>1</td>\n",
       "      <td>2</td>\n",
       "    </tr>\n",
       "    <tr>\n",
       "      <th>5</th>\n",
       "      <td>8</td>\n",
       "      <td>2</td>\n",
       "      <td>3</td>\n",
       "    </tr>\n",
       "    <tr>\n",
       "      <th>6</th>\n",
       "      <td>9</td>\n",
       "      <td>2</td>\n",
       "      <td>3</td>\n",
       "    </tr>\n",
       "    <tr>\n",
       "      <th>7</th>\n",
       "      <td>10</td>\n",
       "      <td>2</td>\n",
       "      <td>3</td>\n",
       "    </tr>\n",
       "    <tr>\n",
       "      <th>8</th>\n",
       "      <td>11</td>\n",
       "      <td>2</td>\n",
       "      <td>3</td>\n",
       "    </tr>\n",
       "    <tr>\n",
       "      <th>9</th>\n",
       "      <td>12</td>\n",
       "      <td>3</td>\n",
       "      <td>4</td>\n",
       "    </tr>\n",
       "    <tr>\n",
       "      <th>10</th>\n",
       "      <td>13</td>\n",
       "      <td>3</td>\n",
       "      <td>4</td>\n",
       "    </tr>\n",
       "    <tr>\n",
       "      <th>11</th>\n",
       "      <td>14</td>\n",
       "      <td>3</td>\n",
       "      <td>4</td>\n",
       "    </tr>\n",
       "    <tr>\n",
       "      <th>12</th>\n",
       "      <td>15</td>\n",
       "      <td>3</td>\n",
       "      <td>4</td>\n",
       "    </tr>\n",
       "  </tbody>\n",
       "</table>\n",
       "</div>"
      ],
      "text/plain": [
       "    channel_ids  channel_groups  tetrode_ids\n",
       "0             1               0            1\n",
       "1             2               0            1\n",
       "2             4               1            2\n",
       "3             6               1            2\n",
       "4             7               1            2\n",
       "5             8               2            3\n",
       "6             9               2            3\n",
       "7            10               2            3\n",
       "8            11               2            3\n",
       "9            12               3            4\n",
       "10           13               3            4\n",
       "11           14               3            4\n",
       "12           15               3            4"
      ]
     },
     "execution_count": 52,
     "metadata": {},
     "output_type": "execute_result"
    }
   ],
   "source": [
    "df = pd.DataFrame({\n",
    "    'channel_ids': r_cache.get_channel_ids(),\n",
    "    'channel_groups': r_cache.get_channel_groups(),\n",
    "    'tetrode_ids': r_cache.get_channel_groups() + 1\n",
    "})\n",
    "df"
   ]
  },
  {
   "cell_type": "code",
   "execution_count": 53,
   "id": "80d638ac",
   "metadata": {},
   "outputs": [
    {
     "data": {
      "text/plain": [
       "array([2, 3])"
      ]
     },
     "execution_count": 53,
     "metadata": {},
     "output_type": "execute_result"
    }
   ],
   "source": [
    "tetrode_channels = df.loc[df['tetrode_ids'] == tetrode, 'channel_ids'].values + 1\n",
    "tetrode_channels"
   ]
  },
  {
   "cell_type": "code",
   "execution_count": 54,
   "id": "b524bcf5",
   "metadata": {},
   "outputs": [
    {
     "data": {
      "text/plain": [
       "array([1, 2])"
      ]
     },
     "execution_count": 54,
     "metadata": {},
     "output_type": "execute_result"
    }
   ],
   "source": [
    "tetrode_channels-1"
   ]
  },
  {
   "cell_type": "code",
   "execution_count": 55,
   "id": "3eb2357d",
   "metadata": {},
   "outputs": [
    {
     "data": {
      "text/plain": [
       "(4, 57600)"
      ]
     },
     "execution_count": 55,
     "metadata": {},
     "output_type": "execute_result"
    }
   ],
   "source": [
    "# A tetrode file expects 4 channels. Fill missing channels with zeros.\n",
    "\n",
    "traces = np.zeros((4, r_cache.get_num_frames()))\n",
    "traces[tetrode_channels-1, :] = r_cache.get_traces(channel_ids=tetrode_channels-1)\n",
    "traces.shape"
   ]
  },
  {
   "cell_type": "code",
   "execution_count": 56,
   "id": "a7decf93",
   "metadata": {},
   "outputs": [],
   "source": [
    "r_cache.get_traces?"
   ]
  },
  {
   "cell_type": "code",
   "execution_count": 57,
   "id": "9638e015",
   "metadata": {},
   "outputs": [
    {
     "data": {
      "text/plain": [
       "1"
      ]
     },
     "execution_count": 57,
     "metadata": {},
     "output_type": "execute_result"
    }
   ],
   "source": [
    "tetrode"
   ]
  },
  {
   "cell_type": "code",
   "execution_count": 58,
   "id": "3c94b3bb",
   "metadata": {},
   "outputs": [
    {
     "data": {
      "text/plain": [
       "array([2, 3])"
      ]
     },
     "execution_count": 58,
     "metadata": {},
     "output_type": "execute_result"
    }
   ],
   "source": [
    "tetrode_channels"
   ]
  },
  {
   "cell_type": "code",
   "execution_count": 59,
   "id": "6fa77dcf",
   "metadata": {},
   "outputs": [],
   "source": [
    "tetrode = int(tetrode)\n",
    "\n",
    "tetrode_filename = save_dir / Path(set_file.stem + '.{}'.format(tetrode))\n",
    "\n",
    "tetrode_channels = df.loc[df['tetrode_ids'] == tetrode, 'channel_ids'].values + 1\n",
    "\n",
    "traces = np.zeros((4, r_cache.get_num_frames()))\n",
    "traces[(tetrode_channels-1) % 4, :] = r_cache.get_traces(channel_ids=tetrode_channels-1)"
   ]
  },
  {
   "cell_type": "code",
   "execution_count": 60,
   "id": "5295607d",
   "metadata": {},
   "outputs": [],
   "source": [
    "Fs = r_cache.get_sampling_frequency()\n",
    "active_tetrodes = np.unique(r_cache.get_channel_groups()) + 1\n",
    "\n",
    "pre_spike_samples = int(header['pretrigSamps'])\n",
    "post_spike_samples = int(header['spikeLockout'])\n",
    "rejstart = int(header['rejstart'])\n",
    "rejthreshtail = int(header['rejthreshtail'])\n",
    "rejthreshupper = int(header['rejthreshupper'])\n",
    "rejthreshlower = int(header['rejthreshlower'])\n",
    "\n",
    "df = pd.DataFrame({\n",
    "    'channel_ids': r_cache.get_channel_ids(),\n",
    "    'channel_groups': r_cache.get_channel_groups(),\n",
    "    'tetrode_ids': r_cache.get_channel_groups() + 1\n",
    "})\n",
    "\n",
    "for tetrode in active_tetrodes:\n",
    "\n",
    "    tetrode = int(tetrode)\n",
    "    \n",
    "    tetrode_filename = save_dir / Path(set_file.stem + '.{}'.format(tetrode))\n",
    "    \n",
    "    tetrode_channels = df.loc[df['tetrode_ids'] == tetrode, 'channel_ids'].values + 1\n",
    "    \n",
    "    traces = np.zeros((4, r_cache.get_num_frames()))\n",
    "    traces[(tetrode_channels - 1) % 4, :] = r_cache.get_traces(channel_ids=tetrode_channels-1)\n",
    "\n",
    "    n_samples = traces.shape[1]\n",
    "\n",
    "    # create a time array that represents the 48kHz sampled data times\n",
    "    t = np.arange(0, n_samples) / Fs  # creates a time array of the signal starting from 0 (in seconds)\n",
    "\n",
    "    "
   ]
  },
  {
   "cell_type": "code",
   "execution_count": 74,
   "id": "6b678887",
   "metadata": {},
   "outputs": [
    {
     "data": {
      "text/plain": [
       "<spikeextractors.extractors.bindatrecordingextractor.bindatrecordingextractor.BinDatRecordingExtractor at 0x7fb78c216730>"
      ]
     },
     "execution_count": 74,
     "metadata": {},
     "output_type": "execute_result"
    }
   ],
   "source": []
  },
  {
   "cell_type": "code",
   "execution_count": 61,
   "id": "86a1fba3",
   "metadata": {},
   "outputs": [],
   "source": [
    "def get_spikes(data, threshold):\n",
    "    all_spikes = np.array([])\n",
    "\n",
    "    for i, channel_data in enumerate(data):\n",
    "        spike_indices = np.where(channel_data >= threshold[i])[0]\n",
    "\n",
    "        if len(spike_indices) == 0:\n",
    "            continue\n",
    "\n",
    "        spike_indices = find_consec(spike_indices)\n",
    "\n",
    "        spike_indices = np.asarray([value[0] for value in spike_indices])\n",
    "\n",
    "        if len(all_spikes) == 0:\n",
    "            # this is the first iteration of the tetrode, no need to sort\n",
    "            unadded_spikes = spike_indices\n",
    "        else:\n",
    "            idx = matching_ind(all_spikes, spike_indices)\n",
    "            if len(idx) == 0:\n",
    "                unadded_spikes = spike_indices\n",
    "            else:\n",
    "                unadded_spikes = np.setdiff1d(spike_indices, all_spikes[idx])\n",
    "\n",
    "        if len(all_spikes) != 0:\n",
    "            all_spikes = np.sort(np.concatenate((all_spikes, unadded_spikes)))\n",
    "            unadded_spikes = None\n",
    "        else:\n",
    "            all_spikes = np.array(unadded_spikes)\n",
    "\n",
    "    return all_spikes\n",
    "\n",
    "def find_consec(data):\n",
    "    '''finds the consecutive numbers and outputs as a list'''\n",
    "    consecutive_values = []  # a list for the output\n",
    "    current_consecutive = [data[0]]\n",
    "\n",
    "    if len(data) == 1:\n",
    "        return [[data[0]]]\n",
    "\n",
    "    for index in range(1, len(data)):\n",
    "\n",
    "        if data[index] == data[index - 1] + 1:\n",
    "            current_consecutive.append(data[index])\n",
    "\n",
    "            if index == len(data) - 1:\n",
    "                consecutive_values.append(current_consecutive)\n",
    "\n",
    "        else:\n",
    "            consecutive_values.append(current_consecutive)\n",
    "            current_consecutive = [data[index]]\n",
    "\n",
    "            if index == len(data) - 1:\n",
    "                consecutive_values.append(current_consecutive)\n",
    "    return consecutive_values\n",
    "\n",
    "def matching_ind(haystack, needle):\n",
    "    idx = np.searchsorted(haystack, needle)\n",
    "    mask = idx < haystack.size\n",
    "    mask[mask] = haystack[idx[mask]] == needle[mask]\n",
    "    idx = idx[mask]\n",
    "    return idx\n",
    "\n",
    "def validate_spikes(tetrode, spikes, data, t, pre_spike_samples=10, post_spike_samples=40, rejstart=30,\n",
    "                    rejthreshtail=43, rejthreshupper=100, rejthreshlower=-100):\n",
    "    latest_spike = None\n",
    "\n",
    "    spike_count = 0\n",
    "    percentage_values = [int(value) for value in np.rint(np.linspace(0, len(spikes), num=21)).tolist()]\n",
    "\n",
    "    n_max = data.shape[1]\n",
    "\n",
    "    tetrode_spikes = {}\n",
    "\n",
    "    for spike in sorted(spikes):\n",
    "        # iterate through each spike and validate to ensure no spikes occur at the same time or within the\n",
    "        # refractory period\n",
    "\n",
    "        spike_count += 1\n",
    "\n",
    "        if spike_count in percentage_values:\n",
    "            pass\n",
    "\n",
    "        if spike - pre_spike_samples + 1 < 0:\n",
    "            continue\n",
    "\n",
    "        elif spike + post_spike_samples >= n_max:\n",
    "            continue\n",
    "\n",
    "        if latest_spike is not None:\n",
    "            if spike != latest_spike:\n",
    "                if spike in spike_refractory:\n",
    "                    # ensures no overlapping spikes\n",
    "                    continue\n",
    "        else:\n",
    "            pass\n",
    "\n",
    "        latest_spike = spike\n",
    "        spike_refractory = list(np.arange(spike + 1, spike + post_spike_samples + 1))\n",
    "\n",
    "        # spike_time = t[int(spike)]\n",
    "        spike_time = t[int(spike)]\n",
    "\n",
    "        # waveform_indices = np.where((t>=spike_time-250/1e6) & (t<=spike_time+850/1e6))[0]  # too slow\n",
    "        waveform_indices = np.arange(spike - pre_spike_samples + 1, spike + post_spike_samples + 1).astype(int)\n",
    "\n",
    "        # spike_t = t[waveform_indices] - spike_time  # making the times from -200 us to 800 us\n",
    "\n",
    "        # spike_waveform = np.zeros((len(tetrode_channels), 50))\n",
    "\n",
    "        spike_waveform = data[:, waveform_indices]\n",
    "\n",
    "        spike_time = spike_time * 96000  # multiply it by the timebase to get the frame count\n",
    "\n",
    "        spike_waveform = np.rint(spike_waveform)\n",
    "\n",
    "        # artifact rejection\n",
    "\n",
    "        if sum(spike_waveform[:, rejstart:].flatten() > rejthreshtail) > 0:\n",
    "            # this is 33% above baseline (0)\n",
    "            continue\n",
    "\n",
    "        # check if the first sample is well above or well below baseline\n",
    "        elif sum(spike_waveform[:, 0].flatten() > rejthreshupper) > 0:\n",
    "            # the first sample is >100\n",
    "            continue\n",
    "\n",
    "        elif sum(spike_waveform[:, 0].flatten() < rejthreshlower) > 0:\n",
    "            # or < -100\n",
    "            continue\n",
    "\n",
    "        tetrode_spikes[spike_time] = spike_waveform\n",
    "\n",
    "        # latest_spike = spike\n",
    "        # spike_refractory = list(np.arange(spike + 1, spike + post_spike_samples + 1))\n",
    "\n",
    "    return tetrode_spikes"
   ]
  },
  {
   "cell_type": "code",
   "execution_count": 62,
   "id": "d57ab544",
   "metadata": {},
   "outputs": [
    {
     "data": {
      "text/plain": [
       "array([13, 14, 15, 16])"
      ]
     },
     "execution_count": 62,
     "metadata": {},
     "output_type": "execute_result"
    }
   ],
   "source": [
    "tetrode_channels"
   ]
  },
  {
   "cell_type": "code",
   "execution_count": 63,
   "id": "ffbdb5fa",
   "metadata": {},
   "outputs": [],
   "source": [
    "threshold = 3\n",
    "\n",
    "tetrode_spikes = {}  # creates an empty dictionary to hold the spike times\n",
    "# for each tetrode, find the spikes\n",
    "\n",
    "k = 0\n",
    "\n",
    "# data = int16toint8(data)  # converting the data into int8\n",
    "\n",
    "tetrode_thresholds = []\n",
    "for channel_index, channel in enumerate(tetrode_channels):\n",
    "    k += 1\n",
    "    '''\n",
    "    Auto thresholding technique incorporated by:\n",
    "    Quian Quiroga in 2014 - Unsupervised Spike Detection and Sorting with Wavelets and\n",
    "    Superparamagnetic Clustering\n",
    "    Thr = 4*sigma, sigma = median(abs(x)/0.6745)\n",
    "    '''\n",
    "    standard_deviations = float(threshold)\n",
    "\n",
    "    sigma_n = np.median(np.divide(np.abs(data[channel_index, :]), 0.6745))\n",
    "    # threshold = sigma_n / channel_max\n",
    "    # threshold = standard_deviations * sigma_n\n",
    "    tetrode_thresholds.append(standard_deviations * sigma_n)\n",
    "\n",
    "valid_spikes = get_spikes(data, tetrode_thresholds)\n",
    "\n",
    "# threshold is done in 16 bit values, but the rejection is done in 8bit, so we convert here\n",
    "# data = int16toint8(data)  # converting the data into int8\n",
    "\n",
    "data_int16 = int16toint8(data)  # converting the"
   ]
  },
  {
   "cell_type": "code",
   "execution_count": 64,
   "id": "717e709d",
   "metadata": {},
   "outputs": [
    {
     "data": {
      "text/plain": [
       "[0.0, 20993.32839140104, 15389.177168272796, 16474.425500370642]"
      ]
     },
     "execution_count": 64,
     "metadata": {},
     "output_type": "execute_result"
    }
   ],
   "source": [
    "tetrode_thresholds"
   ]
  },
  {
   "cell_type": "code",
   "execution_count": 65,
   "id": "4dd12d8f",
   "metadata": {},
   "outputs": [
    {
     "data": {
      "text/plain": [
       "array([  126,  1386,  1466,  1495,  1697,  1714,  1735,  2635,  2803,\n",
       "        2824,  2838,  2923,  2942,  4677,  4691,  4708,  5145,  5166,\n",
       "        5239,  5261,  5784,  5903,  5924,  6413,  6442,  6699,  6712,\n",
       "        6732,  6950,  7065,  7080,  7102,  7219,  7260,  8222,  8297,\n",
       "        8894,  8915,  9690,  9709,  9727, 10221, 10247, 10731, 10875,\n",
       "       11169, 11204, 11386, 11803, 11818, 11958, 11980, 12689, 12702,\n",
       "       12883, 12898, 12911, 14247, 14276, 14487, 14967, 15129, 15144,\n",
       "       15420, 15437, 15664, 15682, 16586, 16628, 16651, 16670, 16760,\n",
       "       16781, 16794, 16824, 16838, 16862, 17386, 17403, 17426, 17759,\n",
       "       18324, 18343, 18756, 19596, 19614, 19629, 19820, 19833, 19900,\n",
       "       20139, 20689, 20703, 21325, 21338, 21469, 21482, 21526, 21540,\n",
       "       22095, 22371, 22392, 22712, 22744, 23041, 23073, 23564, 23804,\n",
       "       23819, 23835, 23987, 24009, 24127, 24441, 25212, 25374, 25392,\n",
       "       25417, 25462, 25482, 26015, 26368, 26382, 27043, 27059, 27746,\n",
       "       27762, 29277, 29303, 30511, 32425, 33570, 33585, 33740, 35916,\n",
       "       36789, 37134, 37169, 37223, 37451, 37670, 38046, 38067, 38190,\n",
       "       38203, 39497, 39513, 39898, 40223, 40248, 42146, 42170, 42192,\n",
       "       42306, 42328, 42585, 42685, 42711, 43442, 43468, 43757, 44102,\n",
       "       44126, 44483, 44540, 44554, 44567, 44844, 44864, 44876, 44975,\n",
       "       45596, 45626, 46416, 46432, 47236, 47256, 47275, 47312, 47350,\n",
       "       47457, 48438, 48453, 48701, 49075, 49097, 49112, 49501, 49520,\n",
       "       50293, 51189, 51933, 51952, 51968, 51983, 52023, 52513, 52525,\n",
       "       52724, 55141, 55156, 55180, 56230, 56978, 57071, 57088, 57476,\n",
       "       57495])"
      ]
     },
     "execution_count": 65,
     "metadata": {},
     "output_type": "execute_result"
    }
   ],
   "source": [
    "tetrode_ids = sorting_nwb.get_units_property(property_name='group')\n",
    "tetrode_ids = np.array(tetrode_ids)\n",
    "\n",
    "unit_ids = np.array(sorting_nwb.get_unit_ids())\n",
    "spike_train = sorting_nwb.get_units_spike_train(unit_ids=unit_ids[tetrode_ids==3])\n",
    "\n",
    "sorted_spike_train = np.sort(np.concatenate(spike_train))\n",
    "\n",
    "sorted_spike_train"
   ]
  },
  {
   "cell_type": "code",
   "execution_count": 66,
   "id": "83b2554a",
   "metadata": {},
   "outputs": [
    {
     "data": {
      "text/plain": [
       "array([    0,     2,   464,   584,   627,   691,   751,   787,   788,\n",
       "        1021,  1088,  1150,  1230,  1238,  1571,  1583,  1632,  1644,\n",
       "        1826,  2228,  2238,  2322,  2326,  2377,  2634,  2635,  2905,\n",
       "        2911,  2912,  3118,  3277,  3297,  3653,  3752,  3785,  3787,\n",
       "        3872,  3926,  4103,  4352,  4353,  4364,  4577,  4673,  4674,\n",
       "        4934,  4935,  5024,  5025,  5165,  5232,  5233,  5568,  5569,\n",
       "        5781,  5784,  5785,  5974,  5976,  6019,  6208,  6260,  6410,\n",
       "        6411,  6706,  6708,  6768,  6788,  6982,  6983,  7061,  7064,\n",
       "        7255,  7256,  7482,  7494,  7601,  7686,  7687,  7837,  8173,\n",
       "        8222,  8223,  8435,  8437,  8464,  8465,  8655,  8755,  8756,\n",
       "        9357,  9366,  9557,  9696, 10217, 10376, 10723, 10844, 10869,\n",
       "       10870, 11066, 11455, 11456, 11954, 11955, 12441, 12444, 12451,\n",
       "       12454, 12677, 12775, 13078, 13087, 13642, 13643, 13644, 14112,\n",
       "       14113, 14241, 14242, 14483, 14484, 14502, 14621, 14681, 14682,\n",
       "       14850, 14853, 14862, 14967, 14968, 15122, 15123, 15124, 15448,\n",
       "       15449, 15673, 15676, 15830, 15831, 15952, 16108, 16109, 16110,\n",
       "       16189, 16227, 16520, 16521, 16756, 16757, 16984, 17204, 17205,\n",
       "       17397, 17398, 17573, 17583, 17654, 17655, 17747, 17748, 17906,\n",
       "       17908, 18177, 18178, 18257, 18320, 18321, 18396, 18581, 18757,\n",
       "       18758, 18863, 18957, 18958, 19026, 19086, 19098, 19121, 19217,\n",
       "       19342, 19343, 19592, 19593, 19696, 19824, 19825, 19899, 19900,\n",
       "       20139, 20214, 20551, 20552, 20553, 20848, 20849, 21052, 21083,\n",
       "       21406, 21407, 21441, 21525, 21919, 21920, 21921, 22105, 22367,\n",
       "       22368, 22556, 22712, 22713, 22785, 23036, 23038, 23301, 23493,\n",
       "       23799, 23800, 24084, 24158, 24463, 24464, 24476, 24477, 24478,\n",
       "       24701, 24754, 25007, 25143, 25144, 25460, 25461, 25619, 25621,\n",
       "       25838, 26020, 26021, 26348, 26350, 27120, 27121, 27694, 27752,\n",
       "       28440, 28587, 28641, 28988, 29060, 29282, 29349, 29673, 29794,\n",
       "       29800, 30034, 30035, 30099, 30100, 30494, 30735, 30886, 30887,\n",
       "       31167, 31750, 31934, 31965, 32149, 32830, 33704, 34144, 34159,\n",
       "       34160, 34262, 34626, 34766, 34767, 34882, 35028, 35029, 35292,\n",
       "       35333, 35334, 35607, 35608, 35637, 35638, 36074, 36332, 36352,\n",
       "       36353, 36378, 36435, 36488, 36628, 36631, 36669, 36681, 36758,\n",
       "       36781, 36794, 36981, 36982, 37138, 37203, 37535, 37536, 37670,\n",
       "       37671, 37986, 38177, 38302, 38607, 39047, 39195, 39330, 39381,\n",
       "       39403, 39438, 39491, 39493, 39536, 39680, 39681, 39713, 39724,\n",
       "       39768, 39769, 39785, 39873, 39874, 39875, 39883, 39891, 39937,\n",
       "       40147, 40148, 40149, 40175, 40218, 40219, 40233, 40236, 40265,\n",
       "       40414, 40499, 40500, 40512, 40637, 40667, 40677, 40729, 40736,\n",
       "       40787, 40805, 40864, 40896, 40913, 40931, 40965, 40999, 41013,\n",
       "       41064, 41068, 41083, 41092, 41098, 41114, 41176, 41196, 41217,\n",
       "       41229, 41297, 41321, 41330, 41347, 41401, 41417, 41418, 41431,\n",
       "       41473, 41587, 41597, 41687, 41689, 41759, 41799, 41818, 41918,\n",
       "       41932, 41946, 42028, 42029, 42088, 42165, 42240, 42241, 42272,\n",
       "       42288, 42290, 42401, 42413, 42457, 42458, 42482, 42491, 42641,\n",
       "       42654, 42679, 42680, 43017, 43018, 43038, 43201, 43409, 43595,\n",
       "       43596, 43777, 43785, 43802, 43863, 43913, 44232, 44329, 44479,\n",
       "       44481, 44532, 44533, 44748, 44749, 44750, 44758, 44895, 44942,\n",
       "       45195, 45523, 45524, 45545, 45586, 45752, 45761, 45850, 45851,\n",
       "       45881, 45965, 45976, 46266, 46305, 46306, 46326, 46420, 46431,\n",
       "       46524, 46526, 46640, 46643, 46765, 46865, 46951, 47114, 47126,\n",
       "       47128, 47223, 47363, 47585, 47596, 47783, 47784, 48079, 48259,\n",
       "       48561, 48562, 48572, 48655, 48805, 48892, 49014, 49023, 49039,\n",
       "       49114, 49392, 49494, 49495, 49538, 49624, 49641, 49676, 49679,\n",
       "       49690, 49788, 50057, 50304, 50455, 50457, 50569, 50648, 51143,\n",
       "       51566, 52024, 52082, 52194, 52252, 52353, 52519, 52520, 52824,\n",
       "       52832, 53194, 53672, 53682, 53856, 54157, 55616, 55621, 55640,\n",
       "       55688, 55732, 55806, 55855, 55906, 55966, 56070, 56072, 56203,\n",
       "       56204, 56548, 56570, 56571, 57261])"
      ]
     },
     "execution_count": 66,
     "metadata": {},
     "output_type": "execute_result"
    }
   ],
   "source": [
    "valid_spikes"
   ]
  },
  {
   "cell_type": "code",
   "execution_count": 67,
   "id": "a0c5e9e4",
   "metadata": {},
   "outputs": [
    {
     "data": {
      "text/plain": [
       "array([[ 0.00442661, -0.00972959, -0.01101197, ..., -0.02006962,\n",
       "        -0.00963475, -0.00524077],\n",
       "       [-0.00532733, -0.013263  , -0.00653222, ..., -0.00630658,\n",
       "        -0.00487059, -0.00842494],\n",
       "       [ 0.00252745, -0.0046536 , -0.00752856, ..., -0.03252275,\n",
       "        -0.01737364, -0.00533893],\n",
       "       [-0.00476253, -0.01768241, -0.01526715, ..., -0.02812541,\n",
       "        -0.03498014, -0.04006043]])"
      ]
     },
     "execution_count": 67,
     "metadata": {},
     "output_type": "execute_result"
    }
   ],
   "source": [
    "traces"
   ]
  },
  {
   "cell_type": "code",
   "execution_count": 68,
   "id": "b9bf372a",
   "metadata": {},
   "outputs": [
    {
     "data": {
      "text/plain": [
       "array([[ 13,   0,   0, ...,   0,   0,   0],\n",
       "       [ 14, -15,   0, ..., -53, -56, -46],\n",
       "       [  6,   0,   0, ..., -35, -38, -37],\n",
       "       [ 40,  20,   0, ..., -33, -28, -19]])"
      ]
     },
     "execution_count": 68,
     "metadata": {},
     "output_type": "execute_result"
    }
   ],
   "source": [
    "data_int16"
   ]
  },
  {
   "cell_type": "code",
   "execution_count": 69,
   "id": "65ae01ab",
   "metadata": {},
   "outputs": [
    {
     "data": {
      "text/plain": [
       "array([[  3574.,   -230.,      0., ...,      0.,      0.,      0.],\n",
       "       [  3682.,  -3870.,      0., ..., -13700., -14410., -11876.],\n",
       "       [  1714.,   -188.,      0., ...,  -9006.,  -9980.,  -9502.],\n",
       "       [ 10480.,   5308.,      0., ...,  -8460.,  -7266.,  -4906.]])"
      ]
     },
     "execution_count": 69,
     "metadata": {},
     "output_type": "execute_result"
    }
   ],
   "source": [
    "data"
   ]
  },
  {
   "cell_type": "code",
   "execution_count": 70,
   "id": "6c9a9445",
   "metadata": {},
   "outputs": [
    {
     "data": {
      "text/plain": [
       "array([    0,     2,   464,   584,   627,   691,   751,   787,   788,\n",
       "        1021,  1088,  1150,  1230,  1238,  1571,  1583,  1632,  1644,\n",
       "        1826,  2228,  2238,  2322,  2326,  2377,  2634,  2635,  2905,\n",
       "        2911,  2912,  3118,  3277,  3297,  3653,  3752,  3785,  3787,\n",
       "        3872,  3926,  4103,  4352,  4353,  4364,  4577,  4673,  4674,\n",
       "        4934,  4935,  5024,  5025,  5165,  5232,  5233,  5568,  5569,\n",
       "        5781,  5784,  5785,  5974,  5976,  6019,  6208,  6260,  6410,\n",
       "        6411,  6706,  6708,  6768,  6788,  6982,  6983,  7061,  7064,\n",
       "        7255,  7256,  7482,  7494,  7601,  7686,  7687,  7837,  8173,\n",
       "        8222,  8223,  8435,  8437,  8464,  8465,  8655,  8755,  8756,\n",
       "        9357,  9366,  9557,  9696, 10217, 10376, 10723, 10844, 10869,\n",
       "       10870, 11066, 11455, 11456, 11954, 11955, 12441, 12444, 12451,\n",
       "       12454, 12677, 12775, 13078, 13087, 13642, 13643, 13644, 14112,\n",
       "       14113, 14241, 14242, 14483, 14484, 14502, 14621, 14681, 14682,\n",
       "       14850, 14853, 14862, 14967, 14968, 15122, 15123, 15124, 15448,\n",
       "       15449, 15673, 15676, 15830, 15831, 15952, 16108, 16109, 16110,\n",
       "       16189, 16227, 16520, 16521, 16756, 16757, 16984, 17204, 17205,\n",
       "       17397, 17398, 17573, 17583, 17654, 17655, 17747, 17748, 17906,\n",
       "       17908, 18177, 18178, 18257, 18320, 18321, 18396, 18581, 18757,\n",
       "       18758, 18863, 18957, 18958, 19026, 19086, 19098, 19121, 19217,\n",
       "       19342, 19343, 19592, 19593, 19696, 19824, 19825, 19899, 19900,\n",
       "       20139, 20214, 20551, 20552, 20553, 20848, 20849, 21052, 21083,\n",
       "       21406, 21407, 21441, 21525, 21919, 21920, 21921, 22105, 22367,\n",
       "       22368, 22556, 22712, 22713, 22785, 23036, 23038, 23301, 23493,\n",
       "       23799, 23800, 24084, 24158, 24463, 24464, 24476, 24477, 24478,\n",
       "       24701, 24754, 25007, 25143, 25144, 25460, 25461, 25619, 25621,\n",
       "       25838, 26020, 26021, 26348, 26350, 27120, 27121, 27694, 27752,\n",
       "       28440, 28587, 28641, 28988, 29060, 29282, 29349, 29673, 29794,\n",
       "       29800, 30034, 30035, 30099, 30100, 30494, 30735, 30886, 30887,\n",
       "       31167, 31750, 31934, 31965, 32149, 32830, 33704, 34144, 34159,\n",
       "       34160, 34262, 34626, 34766, 34767, 34882, 35028, 35029, 35292,\n",
       "       35333, 35334, 35607, 35608, 35637, 35638, 36074, 36332, 36352,\n",
       "       36353, 36378, 36435, 36488, 36628, 36631, 36669, 36681, 36758,\n",
       "       36781, 36794, 36981, 36982, 37138, 37203, 37535, 37536, 37670,\n",
       "       37671, 37986, 38177, 38302, 38607, 39047, 39195, 39330, 39381,\n",
       "       39403, 39438, 39491, 39493, 39536, 39680, 39681, 39713, 39724,\n",
       "       39768, 39769, 39785, 39873, 39874, 39875, 39883, 39891, 39937,\n",
       "       40147, 40148, 40149, 40175, 40218, 40219, 40233, 40236, 40265,\n",
       "       40414, 40499, 40500, 40512, 40637, 40667, 40677, 40729, 40736,\n",
       "       40787, 40805, 40864, 40896, 40913, 40931, 40965, 40999, 41013,\n",
       "       41064, 41068, 41083, 41092, 41098, 41114, 41176, 41196, 41217,\n",
       "       41229, 41297, 41321, 41330, 41347, 41401, 41417, 41418, 41431,\n",
       "       41473, 41587, 41597, 41687, 41689, 41759, 41799, 41818, 41918,\n",
       "       41932, 41946, 42028, 42029, 42088, 42165, 42240, 42241, 42272,\n",
       "       42288, 42290, 42401, 42413, 42457, 42458, 42482, 42491, 42641,\n",
       "       42654, 42679, 42680, 43017, 43018, 43038, 43201, 43409, 43595,\n",
       "       43596, 43777, 43785, 43802, 43863, 43913, 44232, 44329, 44479,\n",
       "       44481, 44532, 44533, 44748, 44749, 44750, 44758, 44895, 44942,\n",
       "       45195, 45523, 45524, 45545, 45586, 45752, 45761, 45850, 45851,\n",
       "       45881, 45965, 45976, 46266, 46305, 46306, 46326, 46420, 46431,\n",
       "       46524, 46526, 46640, 46643, 46765, 46865, 46951, 47114, 47126,\n",
       "       47128, 47223, 47363, 47585, 47596, 47783, 47784, 48079, 48259,\n",
       "       48561, 48562, 48572, 48655, 48805, 48892, 49014, 49023, 49039,\n",
       "       49114, 49392, 49494, 49495, 49538, 49624, 49641, 49676, 49679,\n",
       "       49690, 49788, 50057, 50304, 50455, 50457, 50569, 50648, 51143,\n",
       "       51566, 52024, 52082, 52194, 52252, 52353, 52519, 52520, 52824,\n",
       "       52832, 53194, 53672, 53682, 53856, 54157, 55616, 55621, 55640,\n",
       "       55688, 55732, 55806, 55855, 55906, 55966, 56070, 56072, 56203,\n",
       "       56204, 56548, 56570, 56571, 57261])"
      ]
     },
     "execution_count": 70,
     "metadata": {},
     "output_type": "execute_result"
    }
   ],
   "source": [
    "valid_spikes"
   ]
  },
  {
   "cell_type": "code",
   "execution_count": null,
   "id": "fd7285c5",
   "metadata": {},
   "outputs": [],
   "source": [
    "# --------------------------------------Write Tetrode Data----------------------------------------\n",
    "\n",
    "Fs = get_Fs(set_filename)  # read the sampling frequency from the .set file, most like 48k\n",
    "\n",
    "active_tetrodes = get_active_tetrode(set_filename)\n",
    "\n",
    "# converts the data one tetrode at a time so we can eliminate memory errors\n",
    "\n",
    "pre_spike_samples = int(get_setfile_parameter('pretrigSamps', set_filename))\n",
    "post_spike_samples = int(get_setfile_parameter('spikeLockout', set_filename))\n",
    "rejstart = int(get_setfile_parameter('rejstart', set_filename))\n",
    "rejthreshtail = int(get_setfile_parameter('rejthreshtail', set_filename))\n",
    "rejthreshupper = int(get_setfile_parameter('rejthreshupper', set_filename))\n",
    "rejthreshlower = int(get_setfile_parameter('rejthreshlower', set_filename))\n",
    "\n",
    "for tetrode in active_tetrodes:\n",
    "\n",
    "    tetrode = int(tetrode)\n",
    "    # check if this tetrode exists already\n",
    "\n",
    "    tetrode_filename = os.path.join(directory, '%s.%d' % (tint_basename, tetrode))\n",
    "    if os.path.exists(tetrode_filename):\n",
    "        continue\n",
    "\n",
    "    tetrode_channels = get_channel_from_tetrode(tetrode)  # get the channels (from range of 1->64)\n",
    "\n",
    "    data = get_bin_data(bin_filename, tetrode=tetrode)  # 16bit, get data associated with the tetrode\n",
    "\n",
    "    # converting data to uV\n",
    "\n",
    "    n_samples = data.shape[1]\n",
    "    # create a time array that represents the 48kHz sampled data times\n",
    "    t = np.arange(0, n_samples) / Fs  # creates a time array of the signal starting from 0 (in seconds)\n",
    "\n",
    "    if not os.path.exists(tetrode_filename):\n",
    "\n",
    "        # ---------------------------Find the spikes in the unit data --------------------------------------\n",
    "\n",
    "        tetrode_spikes = {}  # creates an empty dictionary to hold the spike times\n",
    "        # for each tetrode, find the spikes\n",
    "\n",
    "        k = 0\n",
    "\n",
    "        # data = int16toint8(data)  # converting the data into int8\n",
    "\n",
    "        tetrode_thresholds = []\n",
    "        for channel_index, channel in enumerate(tetrode_channels):\n",
    "            k += 1\n",
    "            '''\n",
    "            Auto thresholding technique incorporated by:\n",
    "            Quian Quiroga in 2014 - Unsupervised Spike Detection and Sorting with Wavelets and\n",
    "            Superparamagnetic Clustering\n",
    "            Thr = 4*sigma, sigma = median(abs(x)/0.6745)\n",
    "            '''\n",
    "            standard_deviations = float(threshold)\n",
    "\n",
    "            sigma_n = np.median(np.divide(np.abs(data[channel_index, :]), 0.6745))\n",
    "            # threshold = sigma_n / channel_max\n",
    "            # threshold = standard_deviations * sigma_n\n",
    "            tetrode_thresholds.append(standard_deviations * sigma_n)\n",
    "\n",
    "        valid_spikes = get_spikes(data, tetrode_thresholds)\n",
    "\n",
    "        # threshold is done in 16 bit values, but the rejection is done in 8bit, so we convert here\n",
    "        # data = int16toint8(data)  # converting the data into int8\n",
    "\n",
    "        data = int16toint8(data)  # converting the data into int8\n",
    "\n",
    "        tetrode_spikes = validate_spikes(tetrode, valid_spikes, data, t, pre_spike_samples,\n",
    "                                         post_spike_samples, rejstart, rejthreshtail, rejthreshupper,\n",
    "                                         rejthreshlower)\n",
    "\n",
    "        # write the tetrode data to create the .N file\n",
    "        write_tetrode(tetrode_filename, tetrode_spikes, Fs)\n",
    "    else:\n",
    "        pass\n",
    "\n",
    "    data = None\n",
    "    tetrode_spikes = None\n",
    "    valid_spikes = None"
   ]
  },
  {
   "cell_type": "code",
   "execution_count": null,
   "id": "a09179af",
   "metadata": {},
   "outputs": [],
   "source": []
  },
  {
   "cell_type": "code",
   "execution_count": null,
   "id": "0bfc6a77",
   "metadata": {},
   "outputs": [],
   "source": [
    "import os\n",
    "from .conversion_utils import get_set_header\n",
    "import numpy as np\n",
    "import struct\n",
    "\n",
    "\n",
    "def write_tetrode(filepath, data, Fs):\n",
    "\n",
    "    session_path, session_filename = os.path.split(filepath)\n",
    "    tint_basename = os.path.splitext(session_filename)[0]\n",
    "    set_filename = os.path.join(session_path, '%s.set' % tint_basename)\n",
    "\n",
    "    n = len(data)\n",
    "\n",
    "    header = get_set_header(set_filename)\n",
    "\n",
    "    with open(filepath, 'w') as f:\n",
    "        num_chans = 'num_chans 4'\n",
    "        timebase_head = '\\ntimebase %d hz' % (96000)\n",
    "        bp_timestamp = '\\nbytes_per_timestamp %d' % (4)\n",
    "        # samps_per_spike = '\\nsamples_per_spike %d' % (int(Fs*1e-3))\n",
    "        samps_per_spike = '\\nsamples_per_spike %d' % (50)\n",
    "        sample_rate = '\\nsample_rate %d hz' % (Fs)\n",
    "        b_p_sample = '\\nbytes_per_sample %d' % (1)\n",
    "        # b_p_sample = '\\nbytes_per_sample %d' % (4)\n",
    "        spike_form = '\\nspike_format t,ch1,t,ch2,t,ch3,t,ch4'\n",
    "        num_spikes = '\\nnum_spikes %d' % (n)\n",
    "        start = '\\ndata_start'\n",
    "\n",
    "        write_order = [header, num_chans, timebase_head,\n",
    "                       bp_timestamp,\n",
    "                       samps_per_spike, sample_rate, b_p_sample, spike_form, num_spikes, start]\n",
    "\n",
    "        f.writelines(write_order)\n",
    "\n",
    "    # rearranging the data to have a flat array of t1, waveform1, t2, waveform2, t3, waveform3, etc....\n",
    "    spike_times = np.asarray(sorted(data.keys()))\n",
    "\n",
    "    # the spike times are repeated for each channel so lets tile this\n",
    "    spike_times = np.tile(spike_times, (4, 1))\n",
    "    spike_times = spike_times.flatten(order='F')\n",
    "\n",
    "    spike_values = np.asarray([value for (key, value) in sorted(data.items())])\n",
    "\n",
    "    # this will create a (n_samples, n_channels, n_samples_per_spike) => (n, 4, 50) sized matrix, we will create a\n",
    "    # matrix of all the samples and channels going from ch1 -> ch4 for each spike time\n",
    "    # time1 ch1_data\n",
    "    # time1 ch2_data\n",
    "    # time1 ch3_data\n",
    "    # time1 ch4_data\n",
    "    # time2 ch1_data\n",
    "    # time2 ch2_data\n",
    "    # .\n",
    "    # .\n",
    "    # .\n",
    "\n",
    "    spike_values = spike_values.reshape((n * 4, 50))  # create the 4nx50 channel data matrix\n",
    "\n",
    "    # make the first column the time values\n",
    "    spike_array = np.hstack((spike_times.reshape(len(spike_times), 1), spike_values))\n",
    "\n",
    "    data = None\n",
    "    spike_times = None\n",
    "    spike_values = None\n",
    "\n",
    "    spike_n = spike_array.shape[0]\n",
    "\n",
    "    t_packed = struct.pack('>%di' % spike_n, *spike_array[:, 0].astype(int))\n",
    "    spike_array = spike_array[:, 1:]  # removing time data from this matrix to save memory\n",
    "\n",
    "    spike_data_pack = struct.pack('<%db' % (spike_n*50), *spike_array.astype(int).flatten())\n",
    "\n",
    "    spike_array = None\n",
    "\n",
    "    # now we need to combine the lists by alternating\n",
    "\n",
    "    comb_list = [None] * (2*spike_n)\n",
    "    comb_list[::2] = [t_packed[i:i + 4] for i in range(0, len(t_packed), 4)]  # breaks up t_packed into a list,\n",
    "    # each timestamp is one 4 byte integer\n",
    "    comb_list[1::2] = [spike_data_pack[i:i + 50] for i in range(0, len(spike_data_pack), 50)]  # breaks up spike_data_\n",
    "    # pack and puts it into a list, each spike is 50 one byte integers\n",
    "\n",
    "    t_packed = None\n",
    "    spike_data_pack = None\n",
    "\n",
    "    write_order = []\n",
    "    with open(filepath, 'rb+') as f:\n",
    "\n",
    "        write_order.extend(comb_list)\n",
    "        write_order.append(bytes('\\r\\ndata_end\\r\\n', 'utf-8'))\n",
    "\n",
    "        f.seek(0, 2)\n",
    "        f.writelines(write_order)"
   ]
  },
  {
   "cell_type": "code",
   "execution_count": 220,
   "id": "1dea0450",
   "metadata": {},
   "outputs": [],
   "source": [
    "def write_to_tetrode_files(sorting_extractor, save_dir):\n",
    "    '''Given a sorting extractor object create .X (tetrode) files.\n",
    "    \n",
    "    Parameters\n",
    "    ----------\n",
    "    sorting_extractor : spikeextractors.SortingExtractor\n",
    "    save_dir : str or Path\n",
    "        Directory where to save the output\n",
    "    '''\n",
    "    # TODO ...\n",
    "    pass"
   ]
  },
  {
   "cell_type": "code",
   "execution_count": 232,
   "id": "1e81b2a1",
   "metadata": {},
   "outputs": [],
   "source": [
    "def write_to_tint(sorting_extractor, filename):\n",
    "    '''Given a sorting extractor object, write appropriate data\n",
    "    to TINT format (from Axona). Will therefore create .X (tetrode),\n",
    "    .cut and .clu (spike sorting information) files.\n",
    "    \n",
    "    Parameters\n",
    "    ----------\n",
    "    sorting_extractor : spikeextractors.SortingExtractor\n",
    "    filename : str or Path\n",
    "        Full path and base filename shared by all output files \n",
    "        (e.g. my_dir/my_file will yield\n",
    "        my_dir/my_file.1, my_dir/my_file.2, ..., \n",
    "        my_dir/my_file_1.cut, my_dir/my_file_2.cut, ...,\n",
    "        my_dir/my_file_1.clu, my_dir/my_file_2.clu, ...)\n",
    "        If a file extension is given, it is simply ignored.\n",
    "        \n",
    "    Notes\n",
    "    -----\n",
    "    For details about the .X file format see:\n",
    "    http://space-memory-navigation.org/DacqUSBFileFormats.pdf\n",
    "    '''\n",
    "    # Make sure directory exists\n",
    "    filename.parent.absolute().mkdir(parents=True, exist_ok=True)\n",
    "    \n",
    "    # writes to .X files for each tetrode\n",
    "    # TODO...\n",
    "    write_to_tetrode_file(sorting_extractor, filename)\n",
    "    \n",
    "    # writes to .cut and .clu files for each tetrode\n",
    "    write_unit_labels_to_file(sorting_extractor, filename)\n",
    "    \n",
    "    # Position data?\n",
    "    # TODO ..."
   ]
  },
  {
   "cell_type": "code",
   "execution_count": 233,
   "id": "048d6928",
   "metadata": {},
   "outputs": [],
   "source": [
    "filename = Path(\n",
    "    '/mnt/d/freelance-work/catalyst-neuro/hussaini-lab-to-nwb/Axona_Tint_1ms/spikeextractors_to_tint/20201004_Tint'\n",
    ")"
   ]
  },
  {
   "cell_type": "code",
   "execution_count": 234,
   "id": "84ce7c96",
   "metadata": {},
   "outputs": [
    {
     "name": "stdout",
     "output_type": "stream",
     "text": [
      "Converting Tetrode 0\n",
      "Converting Tetrode 1\n",
      "Converting Tetrode 2\n",
      "Converting Tetrode 3\n"
     ]
    }
   ],
   "source": [
    "write_to_tint(sorting_nwb, filename)"
   ]
  },
  {
   "cell_type": "code",
   "execution_count": null,
   "id": "c15691ae",
   "metadata": {},
   "outputs": [],
   "source": []
  },
  {
   "cell_type": "code",
   "execution_count": null,
   "id": "ba4051f5",
   "metadata": {},
   "outputs": [],
   "source": []
  },
  {
   "cell_type": "code",
   "execution_count": null,
   "id": "490f3329",
   "metadata": {},
   "outputs": [],
   "source": []
  },
  {
   "cell_type": "code",
   "execution_count": null,
   "id": "c5693d63",
   "metadata": {},
   "outputs": [],
   "source": []
  },
  {
   "cell_type": "code",
   "execution_count": null,
   "id": "0e684fd1",
   "metadata": {},
   "outputs": [],
   "source": []
  },
  {
   "cell_type": "code",
   "execution_count": null,
   "id": "0db6c27f",
   "metadata": {},
   "outputs": [],
   "source": []
  }
 ],
 "metadata": {
  "kernelspec": {
   "display_name": "spikeinterface",
   "language": "python",
   "name": "venv"
  },
  "language_info": {
   "codemirror_mode": {
    "name": "ipython",
    "version": 3
   },
   "file_extension": ".py",
   "mimetype": "text/x-python",
   "name": "python",
   "nbconvert_exporter": "python",
   "pygments_lexer": "ipython3",
   "version": "3.8.5"
  }
 },
 "nbformat": 4,
 "nbformat_minor": 5
}
