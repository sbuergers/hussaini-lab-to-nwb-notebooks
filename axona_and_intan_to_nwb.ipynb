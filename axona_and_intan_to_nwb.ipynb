{
 "cells": [
  {
   "cell_type": "markdown",
   "id": "6658dc45",
   "metadata": {},
   "source": [
    "# Axona to NWB\n",
    "\n",
    "Convert Axona raw (`.bin` + `.set`) or unit data (`.X`, `.pos`, `.eeg`, `.egf`) to NWB format. \n",
    "\n",
    "It might be handy to convert the position data in the `.bin` file to a `.pos` file, allowing us to use the same code for both axona formats, as well as the Intan format later on (requiring the Hussaini lab to create their own `.pos` files based on the position tracking used). "
   ]
  },
  {
   "cell_type": "markdown",
   "id": "76d60dde",
   "metadata": {},
   "source": [
    "### Axona raw (`.bin` + `.set`)"
   ]
  },
  {
   "cell_type": "code",
   "execution_count": 1,
   "id": "30fea3ba",
   "metadata": {},
   "outputs": [],
   "source": [
    "%load_ext autoreload\n",
    "%autoreload 2\n",
    "%config Completer.use_jedi = False"
   ]
  },
  {
   "cell_type": "code",
   "execution_count": 2,
   "id": "b70c4213",
   "metadata": {},
   "outputs": [
    {
     "name": "stdout",
     "output_type": "stream",
     "text": [
      "/mnt/d/freelance-work/catalyst-neuro/hussaini-lab-to-nwb/new_session_data/06172021-HPC-B6-RAW/06172021-HPC-B6-RAW\n"
     ]
    }
   ],
   "source": [
    "import os\n",
    "from pathlib import Path\n",
    "\n",
    "# Old .bin file\n",
    "base_dir = Path('/mnt/d/freelance-work/catalyst-neuro/hussaini-lab-to-nwb/')\n",
    "dir_name = base_dir / 'example_data_raw'\n",
    "base_filename = '20201004_Raw'\n",
    "\n",
    "# New .bin file\n",
    "base_dir = Path('/mnt/d/freelance-work/catalyst-neuro/hussaini-lab-to-nwb/new_session_data')\n",
    "dir_name = base_dir / '06172021-HPC-B6-RAW'\n",
    "base_filename = '06172021-HPC-B6-RAW'\n",
    "filename = os.path.join(dir_name, base_filename)\n",
    "set_file = filename + '.set'\n",
    "bin_file = filename + '.bin'\n",
    "print(filename)"
   ]
  },
  {
   "cell_type": "code",
   "execution_count": 3,
   "id": "b6778f5e",
   "metadata": {},
   "outputs": [],
   "source": [
    "from nwb_conversion_tools import (\n",
    "    NWBConverter, AxonaRecordingExtractorInterface, AxonaPositionDataInterface\n",
    ")"
   ]
  },
  {
   "cell_type": "code",
   "execution_count": 4,
   "id": "148eb5e8",
   "metadata": {},
   "outputs": [],
   "source": [
    "class HussainiAxonaNWBConverter(NWBConverter):\n",
    "    data_interface_classes = dict(\n",
    "        AxonaRecordingExtractorInterface=AxonaRecordingExtractorInterface,\n",
    "        AxonaPositionDataInterface=AxonaPositionDataInterface\n",
    "    )"
   ]
  },
  {
   "cell_type": "code",
   "execution_count": 38,
   "id": "6bd070ff",
   "metadata": {},
   "outputs": [],
   "source": [
    "import random\n",
    "import string\n",
    "from typing import Union, Optional\n",
    "from pathlib import Path\n",
    "import spikeextractors as se\n",
    "from pynwb import NWBFile\n",
    "import numpy as np\n",
    "import re\n",
    "import datetime\n",
    "import json\n",
    "from jsonschema import validate, ValidationError\n",
    "\n",
    "from nwb_conversion_tools.utils.json_schema import get_schema_from_method_signature, get_base_schema, fill_defaults\n",
    "from nwb_conversion_tools import SpikeGLXRecordingInterface\n",
    "from nwb_conversion_tools.datainterfaces.ecephys.axona.axonadatainterface import parse_generic_header"
   ]
  },
  {
   "cell_type": "code",
   "execution_count": 6,
   "id": "fe7d419d",
   "metadata": {},
   "outputs": [
    {
     "name": "stdout",
     "output_type": "stream",
     "text": [
      "{\n",
      "  \"AxonaPositionDataInterface\": {\n",
      "    \"filename\": \"/mnt/d/freelance-work/catalyst-neuro/hussaini-lab-to-nwb/new_session_data/06172021-HPC-B6-RAW/06172021-HPC-B6-RAW.set\"\n",
      "  },\n",
      "  \"AxonaRecordingExtractorInterface\": {\n",
      "    \"filename\": \"/mnt/d/freelance-work/catalyst-neuro/hussaini-lab-to-nwb/new_session_data/06172021-HPC-B6-RAW/06172021-HPC-B6-RAW.set\"\n",
      "  }\n",
      "}\n"
     ]
    }
   ],
   "source": [
    "# Specify source data\n",
    "\n",
    "source_data = dict(\n",
    "    AxonaPositionDataInterface=dict(\n",
    "        filename=set_file\n",
    "    ),\n",
    "    AxonaRecordingExtractorInterface=dict(\n",
    "        filename=set_file\n",
    "    )\n",
    ")\n",
    "print(json.dumps(source_data, indent=2))"
   ]
  },
  {
   "cell_type": "code",
   "execution_count": 7,
   "id": "b44e238b",
   "metadata": {},
   "outputs": [
    {
     "name": "stdout",
     "output_type": "stream",
     "text": [
      "Source data is valid!\n"
     ]
    }
   ],
   "source": [
    "# Initialize HussainiAxonaNWBConverter\n",
    "\n",
    "converter = HussainiAxonaNWBConverter(source_data=source_data)"
   ]
  },
  {
   "cell_type": "code",
   "execution_count": 8,
   "id": "e650f581",
   "metadata": {},
   "outputs": [
    {
     "data": {
      "text/plain": [
       "{'NWBFile': {'session_description': '',\n",
       "  'session_start_time': '2021-06-17T12:22:02',\n",
       "  'identifier': 'cad781cf-49bb-49b0-8c21-da41a28b22f7',\n",
       "  'experimenter': ['Abid']},\n",
       " 'Ecephys': {'Device': [{'name': 'Axona',\n",
       "    'description': 'Axona DacqUSB, sw_version=1.2.2.16',\n",
       "    'manufacturer': 'Axona'}],\n",
       "  'ElectrodeGroup': [{'name': 'Group0',\n",
       "    'location': '',\n",
       "    'device': 'Axona',\n",
       "    'description': 'Group 0 electrodes.'},\n",
       "   {'name': 'Group1',\n",
       "    'location': '',\n",
       "    'device': 'Axona',\n",
       "    'description': 'Group 1 electrodes.'},\n",
       "   {'name': 'Group2',\n",
       "    'location': '',\n",
       "    'device': 'Axona',\n",
       "    'description': 'Group 2 electrodes.'},\n",
       "   {'name': 'Group3',\n",
       "    'location': '',\n",
       "    'device': 'Axona',\n",
       "    'description': 'Group 3 electrodes.'}],\n",
       "  'Electrodes': [{'name': 'group_name',\n",
       "    'description': 'The name of the ElectrodeGroup this electrode is a part of.'}],\n",
       "  'ElectricalSeries_raw': {'name': 'ElectricalSeries_raw',\n",
       "   'description': 'Raw acquisition traces.'}}}"
      ]
     },
     "execution_count": 8,
     "metadata": {},
     "output_type": "execute_result"
    }
   ],
   "source": [
    "# Get metadata\n",
    "\n",
    "metadata = converter.get_metadata()\n",
    "metadata"
   ]
  },
  {
   "cell_type": "code",
   "execution_count": 9,
   "id": "8066a21f",
   "metadata": {},
   "outputs": [
    {
     "name": "stdout",
     "output_type": "stream",
     "text": [
      "{\n",
      "  \"NWBFile\": {\n",
      "    \"required\": [\n",
      "      \"session_description\",\n",
      "      \"identifier\",\n",
      "      \"session_start_time\"\n",
      "    ],\n",
      "    \"properties\": {\n",
      "      \"session_description\": {\n",
      "        \"type\": \"string\",\n",
      "        \"format\": \"long\",\n",
      "        \"description\": \"a description of the session where this data was generated\",\n",
      "        \"default\": \"\"\n",
      "      },\n",
      "      \"identifier\": {\n",
      "        \"type\": \"string\",\n",
      "        \"description\": \"a unique text identifier for the file\",\n",
      "        \"default\": \"425d784a-0465-496e-881c-6fe8814d1861\"\n",
      "      },\n",
      "      \"session_start_time\": {\n",
      "        \"type\": \"string\",\n",
      "        \"description\": \"the start date and time of the recording session\",\n",
      "        \"format\": \"date-time\",\n",
      "        \"default\": \"2021-06-17T12:22:02\"\n",
      "      },\n",
      "      \"experimenter\": {\n",
      "        \"type\": \"array\",\n",
      "        \"items\": {\n",
      "          \"type\": \"string\",\n",
      "          \"title\": \"experimenter\"\n",
      "        },\n",
      "        \"description\": \"name of person who performed experiment\",\n",
      "        \"default\": [\n",
      "          \"Abid\"\n",
      "        ]\n",
      "      },\n",
      "      \"experiment_description\": {\n",
      "        \"type\": \"string\",\n",
      "        \"description\": \"general description of the experiment\"\n",
      "      },\n",
      "      \"session_id\": {\n",
      "        \"type\": \"string\",\n",
      "        \"description\": \"lab-specific ID for the session\"\n",
      "      },\n",
      "      \"institution\": {\n",
      "        \"type\": \"string\",\n",
      "        \"description\": \"institution(s) where experiment is performed\"\n",
      "      },\n",
      "      \"notes\": {\n",
      "        \"type\": \"string\",\n",
      "        \"description\": \"Notes about the experiment.\"\n",
      "      },\n",
      "      \"pharmacology\": {\n",
      "        \"type\": \"string\",\n",
      "        \"description\": \"Description of drugs used, including how and when they were administered. Anesthesia(s), painkiller(s), etc., plus dosage, concentration, etc.\"\n",
      "      },\n",
      "      \"protocol\": {\n",
      "        \"type\": \"string\",\n",
      "        \"description\": \"Experimental protocol, if applicable. E.g., include IACUC protocol\"\n",
      "      },\n",
      "      \"related_publications\": {\n",
      "        \"type\": \"string\",\n",
      "        \"description\": \"Publication information.PMID, DOI, URL, etc. If multiple, concatenate together and describe which is which. such as PMID, DOI, URL, etc\"\n",
      "      },\n",
      "      \"slices\": {\n",
      "        \"type\": \"string\",\n",
      "        \"description\": \"Description of slices, including information about preparation thickness, orientation, temperature and bath solution\"\n",
      "      },\n",
      "      \"source_script\": {\n",
      "        \"type\": \"string\",\n",
      "        \"description\": \"Script file used to create this NWB file.\"\n",
      "      },\n",
      "      \"source_script_file_name\": {\n",
      "        \"type\": \"string\",\n",
      "        \"description\": \"Name of the source_script file\"\n",
      "      },\n",
      "      \"data_collection\": {\n",
      "        \"type\": \"string\",\n",
      "        \"description\": \"Notes about data collection and analysis.\"\n",
      "      },\n",
      "      \"surgery\": {\n",
      "        \"type\": \"string\",\n",
      "        \"description\": \"Narrative description about surgery/surgeries, including date(s) and who performed surgery.\"\n",
      "      },\n",
      "      \"virus\": {\n",
      "        \"type\": \"string\",\n",
      "        \"description\": \"Information about virus(es) used in experiments, including virus ID, source, date made, injection location, volume, etc.\"\n",
      "      },\n",
      "      \"stimulus_notes\": {\n",
      "        \"type\": \"string\",\n",
      "        \"description\": \"Notes about stimuli, such as how and where presented.\"\n",
      "      },\n",
      "      \"lab\": {\n",
      "        \"type\": \"string\",\n",
      "        \"description\": \"lab where experiment was performed\"\n",
      "      }\n",
      "    },\n",
      "    \"type\": \"object\",\n",
      "    \"additionalProperties\": false,\n",
      "    \"tag\": \"pynwb.file.NWBFile\"\n",
      "  },\n",
      "  \"Subject\": {\n",
      "    \"required\": [],\n",
      "    \"properties\": {\n",
      "      \"age\": {\n",
      "        \"description\": \"The age of the subject. The ISO 8601 Duration format is recommended, e.g., \\\"P90D\\\" for 90 days old.\",\n",
      "        \"type\": \"string\"\n",
      "      },\n",
      "      \"description\": {\n",
      "        \"description\": \"A description of the subject, e.g., \\\"mouse A10\\\".\",\n",
      "        \"type\": \"string\"\n",
      "      },\n",
      "      \"genotype\": {\n",
      "        \"description\": \"The genotype of the subject, e.g., \\\"Sst-IRES-Cre/wt;Ai32(RCL-ChR2(H134R)_EYFP)/wt\\\".\",\n",
      "        \"type\": \"string\"\n",
      "      },\n",
      "      \"sex\": {\n",
      "        \"description\": \"The sex of the subject. Using \\\"F\\\" (female), \\\"M\\\" (male), \\\"U\\\" (unknown), or \\\"O\\\" (other) is recommended.\",\n",
      "        \"type\": \"string\"\n",
      "      },\n",
      "      \"species\": {\n",
      "        \"description\": \"The species of the subject. The formal latin binomal name is recommended, e.g., \\\"Mus musculus\\\"\",\n",
      "        \"type\": \"string\"\n",
      "      },\n",
      "      \"subject_id\": {\n",
      "        \"description\": \"A unique identifier for the subject, e.g., \\\"A10\\\"\",\n",
      "        \"type\": \"string\"\n",
      "      },\n",
      "      \"weight\": {\n",
      "        \"description\": \"The weight of the subject, including units. Using kilograms is recommended. e.g., \\\"0.02 kg\\\". If a float is provided, then the weight will be stored as \\\"[value] kg\\\".\",\n",
      "        \"type\": \"number\"\n",
      "      },\n",
      "      \"date_of_birth\": {\n",
      "        \"description\": \"The datetime of the date of birth. May be supplied instead of age.\",\n",
      "        \"type\": \"string\",\n",
      "        \"format\": \"date-time\"\n",
      "      },\n",
      "      \"strain\": {\n",
      "        \"description\": \"The strain of the subject, e.g., \\\"C57BL/6J\\\"\",\n",
      "        \"type\": \"string\"\n",
      "      }\n",
      "    },\n",
      "    \"type\": \"object\",\n",
      "    \"additionalProperties\": false,\n",
      "    \"tag\": \"pynwb.file.Subject\"\n",
      "  },\n",
      "  \"Ecephys\": {\n",
      "    \"required\": [\n",
      "      \"ElectrodeGroup\",\n",
      "      \"Device\"\n",
      "    ],\n",
      "    \"properties\": {\n",
      "      \"Device\": {\n",
      "        \"type\": \"array\",\n",
      "        \"minItems\": 1,\n",
      "        \"items\": {\n",
      "          \"$ref\": \"#/properties/Ecephys/properties/definitions/Device\"\n",
      "        },\n",
      "        \"default\": [\n",
      "          {\n",
      "            \"name\": \"Axona\",\n",
      "            \"description\": \"Axona DacqUSB, sw_version=1.2.2.16\",\n",
      "            \"manufacturer\": \"Axona\"\n",
      "          }\n",
      "        ]\n",
      "      },\n",
      "      \"ElectrodeGroup\": {\n",
      "        \"type\": \"array\",\n",
      "        \"minItems\": 1,\n",
      "        \"items\": {\n",
      "          \"$ref\": \"#/properties/Ecephys/properties/definitions/ElectrodeGroup\"\n",
      "        },\n",
      "        \"default\": [\n",
      "          {\n",
      "            \"name\": \"Group0\",\n",
      "            \"location\": \"\",\n",
      "            \"device\": \"Axona\",\n",
      "            \"description\": \"Group 0 electrodes.\"\n",
      "          },\n",
      "          {\n",
      "            \"name\": \"Group1\",\n",
      "            \"location\": \"\",\n",
      "            \"device\": \"Axona\",\n",
      "            \"description\": \"Group 1 electrodes.\"\n",
      "          },\n",
      "          {\n",
      "            \"name\": \"Group2\",\n",
      "            \"location\": \"\",\n",
      "            \"device\": \"Axona\",\n",
      "            \"description\": \"Group 2 electrodes.\"\n",
      "          },\n",
      "          {\n",
      "            \"name\": \"Group3\",\n",
      "            \"location\": \"\",\n",
      "            \"device\": \"Axona\",\n",
      "            \"description\": \"Group 3 electrodes.\"\n",
      "          }\n",
      "        ]\n",
      "      },\n",
      "      \"Electrodes\": {\n",
      "        \"type\": \"array\",\n",
      "        \"minItems\": 0,\n",
      "        \"renderForm\": false,\n",
      "        \"items\": {\n",
      "          \"$ref\": \"#/properties/Ecephys/properties/definitions/Electrodes\"\n",
      "        },\n",
      "        \"default\": [\n",
      "          {\n",
      "            \"name\": \"group_name\",\n",
      "            \"description\": \"The name of the ElectrodeGroup this electrode is a part of.\"\n",
      "          }\n",
      "        ]\n",
      "      },\n",
      "      \"definitions\": {\n",
      "        \"Device\": {\n",
      "          \"required\": [\n",
      "            \"name\"\n",
      "          ],\n",
      "          \"properties\": {\n",
      "            \"name\": {\n",
      "              \"description\": \"the name of this device\",\n",
      "              \"type\": \"string\"\n",
      "            },\n",
      "            \"description\": {\n",
      "              \"description\": \"Description of the device (e.g., model, firmware version, processing software version, etc.)\",\n",
      "              \"type\": \"string\"\n",
      "            },\n",
      "            \"manufacturer\": {\n",
      "              \"description\": \"the name of the manufacturer of this device\",\n",
      "              \"type\": \"string\"\n",
      "            }\n",
      "          },\n",
      "          \"type\": \"object\",\n",
      "          \"additionalProperties\": false,\n",
      "          \"tag\": \"pynwb.device.Device\"\n",
      "        },\n",
      "        \"ElectrodeGroup\": {\n",
      "          \"required\": [\n",
      "            \"name\",\n",
      "            \"device\",\n",
      "            \"location\",\n",
      "            \"description\"\n",
      "          ],\n",
      "          \"properties\": {\n",
      "            \"name\": {\n",
      "              \"description\": \"the name of this electrode\",\n",
      "              \"type\": \"string\"\n",
      "            },\n",
      "            \"description\": {\n",
      "              \"description\": \"description of this electrode group\",\n",
      "              \"type\": \"string\"\n",
      "            },\n",
      "            \"location\": {\n",
      "              \"description\": \"description of location of this electrode group\",\n",
      "              \"type\": \"string\"\n",
      "            },\n",
      "            \"device\": {\n",
      "              \"description\": \"the device that was used to record from this electrode group\",\n",
      "              \"type\": \"string\",\n",
      "              \"target\": \"pynwb.device.Device\"\n",
      "            }\n",
      "          },\n",
      "          \"type\": \"object\",\n",
      "          \"additionalProperties\": false,\n",
      "          \"tag\": \"pynwb.ecephys.ElectrodeGroup\"\n",
      "        },\n",
      "        \"Electrodes\": {\n",
      "          \"type\": \"object\",\n",
      "          \"additionalProperties\": false,\n",
      "          \"required\": [\n",
      "            \"name\"\n",
      "          ],\n",
      "          \"properties\": {\n",
      "            \"name\": {\n",
      "              \"type\": \"string\",\n",
      "              \"description\": \"name of this electrodes column\"\n",
      "            },\n",
      "            \"description\": {\n",
      "              \"type\": \"string\",\n",
      "              \"description\": \"description of this electrodes column\"\n",
      "            }\n",
      "          }\n",
      "        }\n",
      "      },\n",
      "      \"ElectricalSeries_raw\": {\n",
      "        \"required\": [\n",
      "          \"name\"\n",
      "        ],\n",
      "        \"properties\": {\n",
      "          \"name\": {\n",
      "            \"description\": \"The name of this TimeSeries dataset\",\n",
      "            \"type\": \"string\",\n",
      "            \"default\": \"ElectricalSeries_raw\"\n",
      "          },\n",
      "          \"filtering\": {\n",
      "            \"description\": \"Filtering applied to all channels of the data. For example, if this ElectricalSeries represents high-pass-filtered data (also known as AP Band), then this value could be 'High-pass 4-pole Bessel filter at 500 Hz'. If this ElectricalSeries represents low-pass-filtered LFP data and the type of filter is unknown, then this value could be 'Low-pass filter at 300 Hz'. If a non-standard filter type is used, provide as much detail about the filter properties as possible.\",\n",
      "            \"type\": \"string\"\n",
      "          },\n",
      "          \"resolution\": {\n",
      "            \"description\": \"The smallest meaningful difference (in specified unit) between values in data\",\n",
      "            \"type\": \"number\",\n",
      "            \"default\": -1.0\n",
      "          },\n",
      "          \"conversion\": {\n",
      "            \"description\": \"Scalar to multiply each element in data to convert it to the specified unit\",\n",
      "            \"type\": \"number\",\n",
      "            \"default\": 1.0\n",
      "          },\n",
      "          \"starting_time\": {\n",
      "            \"description\": \"The timestamp of the first sample\",\n",
      "            \"type\": \"number\"\n",
      "          },\n",
      "          \"rate\": {\n",
      "            \"description\": \"Sampling rate in Hz\",\n",
      "            \"type\": \"number\"\n",
      "          },\n",
      "          \"comments\": {\n",
      "            \"description\": \"Human-readable comments about this TimeSeries dataset\",\n",
      "            \"type\": \"string\",\n",
      "            \"default\": \"no comments\"\n",
      "          },\n",
      "          \"description\": {\n",
      "            \"description\": \"Description of this TimeSeries dataset\",\n",
      "            \"type\": \"string\",\n",
      "            \"default\": \"Raw acquisition traces.\"\n",
      "          }\n",
      "        },\n",
      "        \"type\": \"object\",\n",
      "        \"additionalProperties\": false,\n",
      "        \"tag\": \"pynwb.ecephys.ElectricalSeries\"\n",
      "      }\n",
      "    },\n",
      "    \"type\": \"object\",\n",
      "    \"additionalProperties\": false,\n",
      "    \"tag\": \"Ecephys\"\n",
      "  }\n",
      "}\n"
     ]
    }
   ],
   "source": [
    "# Get metadata_schema from converter\n",
    "\n",
    "metadata_schema = converter.get_metadata_schema()\n",
    "\n",
    "print(json.dumps(metadata_schema['properties'], indent=2))"
   ]
  },
  {
   "cell_type": "code",
   "execution_count": 10,
   "id": "fc2107a9",
   "metadata": {},
   "outputs": [],
   "source": [
    "# Validate metadata against metadata_schema\n",
    "\n",
    "validate(\n",
    "    instance=converter.get_metadata(),\n",
    "    schema=converter.get_metadata_schema()\n",
    ")"
   ]
  },
  {
   "cell_type": "code",
   "execution_count": 11,
   "id": "68fe1035",
   "metadata": {},
   "outputs": [
    {
     "data": {
      "text/plain": [
       "{'NWBFile': {'session_description': '',\n",
       "  'session_start_time': '2021-06-17T12:22:02',\n",
       "  'identifier': '268152aa-aa12-4183-9557-53be8a8ba026',\n",
       "  'experimenter': ['Abid']},\n",
       " 'Ecephys': {'Device': [{'name': 'Axona',\n",
       "    'description': 'Axona DacqUSB, sw_version=1.2.2.16',\n",
       "    'manufacturer': 'Axona'}],\n",
       "  'ElectrodeGroup': [{'name': 'Group0',\n",
       "    'location': '',\n",
       "    'device': 'Axona',\n",
       "    'description': 'Group 0 electrodes.'},\n",
       "   {'name': 'Group1',\n",
       "    'location': '',\n",
       "    'device': 'Axona',\n",
       "    'description': 'Group 1 electrodes.'},\n",
       "   {'name': 'Group2',\n",
       "    'location': '',\n",
       "    'device': 'Axona',\n",
       "    'description': 'Group 2 electrodes.'},\n",
       "   {'name': 'Group3',\n",
       "    'location': '',\n",
       "    'device': 'Axona',\n",
       "    'description': 'Group 3 electrodes.'}],\n",
       "  'Electrodes': [{'name': 'group_name',\n",
       "    'description': 'The name of the ElectrodeGroup this electrode is a part of.'}],\n",
       "  'ElectricalSeries_raw': {'name': 'ElectricalSeries_raw',\n",
       "   'description': 'Raw acquisition traces.'}}}"
      ]
     },
     "execution_count": 11,
     "metadata": {},
     "output_type": "execute_result"
    }
   ],
   "source": [
    "converter.get_metadata()"
   ]
  },
  {
   "cell_type": "code",
   "execution_count": 12,
   "id": "99f72455",
   "metadata": {},
   "outputs": [],
   "source": [
    "from nwb_conversion_tools.utils.conversion_tools import (\n",
    "    get_default_nwbfile_metadata, make_nwbfile_from_metadata\n",
    ")"
   ]
  },
  {
   "cell_type": "code",
   "execution_count": 13,
   "id": "22b1683a",
   "metadata": {},
   "outputs": [
    {
     "data": {
      "text/plain": [
       "{'NWBFile': {'session_description': '',\n",
       "  'session_start_time': '2021-06-17T12:22:02',\n",
       "  'identifier': 'cad781cf-49bb-49b0-8c21-da41a28b22f7',\n",
       "  'experimenter': ['Abid']},\n",
       " 'Ecephys': {'Device': [{'name': 'Axona',\n",
       "    'description': 'Axona DacqUSB, sw_version=1.2.2.16',\n",
       "    'manufacturer': 'Axona'}],\n",
       "  'ElectrodeGroup': [{'name': 'Group0',\n",
       "    'location': '',\n",
       "    'device': 'Axona',\n",
       "    'description': 'Group 0 electrodes.'},\n",
       "   {'name': 'Group1',\n",
       "    'location': '',\n",
       "    'device': 'Axona',\n",
       "    'description': 'Group 1 electrodes.'},\n",
       "   {'name': 'Group2',\n",
       "    'location': '',\n",
       "    'device': 'Axona',\n",
       "    'description': 'Group 2 electrodes.'},\n",
       "   {'name': 'Group3',\n",
       "    'location': '',\n",
       "    'device': 'Axona',\n",
       "    'description': 'Group 3 electrodes.'}],\n",
       "  'Electrodes': [{'name': 'group_name',\n",
       "    'description': 'The name of the ElectrodeGroup this electrode is a part of.'}],\n",
       "  'ElectricalSeries_raw': {'name': 'ElectricalSeries_raw',\n",
       "   'description': 'Raw acquisition traces.'}}}"
      ]
     },
     "execution_count": 13,
     "metadata": {},
     "output_type": "execute_result"
    }
   ],
   "source": [
    "metadata"
   ]
  },
  {
   "cell_type": "code",
   "execution_count": 14,
   "id": "45fda3af",
   "metadata": {},
   "outputs": [],
   "source": [
    "output_file = base_dir / 'out_example.nwb'"
   ]
  },
  {
   "cell_type": "code",
   "execution_count": 15,
   "id": "c9e58314",
   "metadata": {},
   "outputs": [
    {
     "data": {
      "text/plain": [
       "PosixPath('/mnt/d/freelance-work/catalyst-neuro/hussaini-lab-to-nwb/new_session_data/out_example.nwb')"
      ]
     },
     "execution_count": 15,
     "metadata": {},
     "output_type": "execute_result"
    }
   ],
   "source": [
    "output_file"
   ]
  },
  {
   "cell_type": "code",
   "execution_count": 16,
   "id": "34150f49",
   "metadata": {},
   "outputs": [
    {
     "name": "stdout",
     "output_type": "stream",
     "text": [
      "Metadata is valid!\n"
     ]
    },
    {
     "name": "stderr",
     "output_type": "stream",
     "text": [
      "/home/sbuergers/spikeinterface/hussaini-test-pipeline/venv/lib/python3.8/site-packages/pynwb/file.py:801: UserWarning: Date is missing timezone information. Updating to local timezone.\n",
      "  warn(\"Date is missing timezone information. Updating to local timezone.\")\n",
      "/home/sbuergers/spikeinterface/hussaini-test-pipeline/venv/lib/python3.8/site-packages/hdmf/common/table.py:447: UserWarning: An attribute 'name' already exists on DynamicTable 'electrodes' so this column cannot be accessed as an attribute, e.g., table.name; it can only be accessed using other methods, e.g., table['name'].\n",
      "  warn(msg)\n",
      "/home/sbuergers/spikeinterface/hussaini-test-pipeline/venv/lib/python3.8/site-packages/hdmf/build/objectmapper.py:256: DtypeConversionWarning: Spec 'SpatialSeries/timestamps': Value with data type int64 is being converted to data type float64 as specified.\n",
      "  warnings.warn(full_warning_msg, DtypeConversionWarning)\n"
     ]
    },
    {
     "name": "stdout",
     "output_type": "stream",
     "text": [
      "NWB file saved at /mnt/d/freelance-work/catalyst-neuro/hussaini-lab-to-nwb/new_session_data/out_example.nwb!\n"
     ]
    }
   ],
   "source": [
    "# Export to NWB file\n",
    "\n",
    "output_file = base_dir / 'out_example.nwb'\n",
    "\n",
    "converter.run_conversion(\n",
    "    metadata=metadata,\n",
    "    nwbfile_path=output_file,\n",
    "    overwrite=True,\n",
    "    save_to_file=True,\n",
    "    conversion_options=None\n",
    ")"
   ]
  },
  {
   "cell_type": "code",
   "execution_count": 17,
   "id": "c73b88a5",
   "metadata": {},
   "outputs": [
    {
     "name": "stdout",
     "output_type": "stream",
     "text": [
      "root pynwb.file.NWBFile at 0x139930166872192\n",
      "Fields:\n",
      "  acquisition: {\n",
      "    ElectricalSeries_raw <class 'pynwb.ecephys.ElectricalSeries'>\n",
      "  }\n",
      "  devices: {\n",
      "    Axona <class 'pynwb.device.Device'>\n",
      "  }\n",
      "  electrode_groups: {\n",
      "    Group0 <class 'pynwb.ecephys.ElectrodeGroup'>,\n",
      "    Group1 <class 'pynwb.ecephys.ElectrodeGroup'>,\n",
      "    Group2 <class 'pynwb.ecephys.ElectrodeGroup'>,\n",
      "    Group3 <class 'pynwb.ecephys.ElectrodeGroup'>\n",
      "  }\n",
      "  electrodes: electrodes <class 'hdmf.common.table.DynamicTable'>\n",
      "  experimenter: ['Abid']\n",
      "  file_create_date: [datetime.datetime(2021, 8, 6, 23, 6, 35, 329992, tzinfo=tzoffset(None, 7200))]\n",
      "  identifier: cad781cf-49bb-49b0-8c21-da41a28b22f7\n",
      "  processing: {\n",
      "    behavior <class 'pynwb.base.ProcessingModule'>\n",
      "  }\n",
      "  session_start_time: 2021-06-17 12:22:02+02:00\n",
      "  timestamps_reference_time: 2021-06-17 12:22:02+02:00\n",
      "\n"
     ]
    }
   ],
   "source": [
    "# Check NWB file\n",
    "\n",
    "from pynwb import NWBHDF5IO\n",
    "\n",
    "fname = output_file\n",
    "with NWBHDF5IO(fname, 'r') as io:\n",
    "    nwbfile = io.read()\n",
    "    print(nwbfile)"
   ]
  },
  {
   "cell_type": "code",
   "execution_count": 18,
   "id": "4dc5a057",
   "metadata": {
    "scrolled": false
   },
   "outputs": [
    {
     "name": "stderr",
     "output_type": "stream",
     "text": [
      "/home/sbuergers/spikeinterface/hussaini-test-pipeline/venv/lib/python3.8/site-packages/hdmf/common/table.py:447: UserWarning: An attribute 'name' already exists on DynamicTable 'electrodes' so this column cannot be accessed as an attribute, e.g., table.name; it can only be accessed using other methods, e.g., table['name'].\n",
      "  warn(msg)\n"
     ]
    },
    {
     "data": {
      "application/vnd.jupyter.widget-view+json": {
       "model_id": "b786421a400c45ecbd71628b586e4c02",
       "version_major": 2,
       "version_minor": 0
      },
      "text/plain": [
       "VBox(children=(HBox(children=(Label(value='session_description:', layout=Layout(max_height='40px', max_width='…"
      ]
     },
     "metadata": {},
     "output_type": "display_data"
    },
    {
     "data": {
      "image/png": "[encoded data removed]",
      "text/plain": [
       "<Figure size 576x504 with 1 Axes>"
      ]
     },
     "metadata": {
      "needs_background": "light"
     },
     "output_type": "display_data"
    }
   ],
   "source": [
    "%matplotlib inline\n",
    "import matplotlib.pyplot as plt\n",
    "\n",
    "\n",
    "from nwbwidgets import nwb2widget\n",
    "\n",
    "output_file = base_dir / 'out_example.nwb'\n",
    "\n",
    "io = NWBHDF5IO(output_file, mode='r')\n",
    "nwb = io.read()\n",
    "\n",
    "nwb2widget(nwb)"
   ]
  },
  {
   "cell_type": "code",
   "execution_count": 18,
   "id": "4aa4ce59",
   "metadata": {},
   "outputs": [],
   "source": [
    "from nwb_conversion_tools.datainterfaces.ecephys.axona.axonadatainterface import get_position_object\n",
    "\n",
    "pos = get_position_object(filename=set_file)"
   ]
  },
  {
   "cell_type": "code",
   "execution_count": 19,
   "id": "86eee72b",
   "metadata": {},
   "outputs": [
    {
     "ename": "KeyError",
     "evalue": "'behavior'",
     "output_type": "error",
     "traceback": [
      "\u001b[0;31m---------------------------------------------------------------------------\u001b[0m",
      "\u001b[0;31mKeyError\u001b[0m                                  Traceback (most recent call last)",
      "\u001b[0;32m/tmp/ipykernel_13517/3549227181.py\u001b[0m in \u001b[0;36m<module>\u001b[0;34m\u001b[0m\n\u001b[0;32m----> 1\u001b[0;31m \u001b[0mnwb\u001b[0m\u001b[0;34m.\u001b[0m\u001b[0mprocessing\u001b[0m\u001b[0;34m[\u001b[0m\u001b[0;34m'behavior'\u001b[0m\u001b[0;34m]\u001b[0m\u001b[0;34m.\u001b[0m\u001b[0mdata_interfaces\u001b[0m\u001b[0;34m[\u001b[0m\u001b[0;34m'Position'\u001b[0m\u001b[0;34m]\u001b[0m\u001b[0;34m.\u001b[0m\u001b[0mspatial_series\u001b[0m\u001b[0;34m[\u001b[0m\u001b[0;34m't'\u001b[0m\u001b[0;34m]\u001b[0m\u001b[0;34m.\u001b[0m\u001b[0mdata\u001b[0m\u001b[0;34m\u001b[0m\u001b[0;34m\u001b[0m\u001b[0m\n\u001b[0m",
      "\u001b[0;32m~/spikeinterface/hussaini-test-pipeline/venv/lib/python3.8/site-packages/hdmf/utils.py\u001b[0m in \u001b[0;36m__getitem__\u001b[0;34m(self, args)\u001b[0m\n\u001b[1;32m    927\u001b[0m                 \u001b[0;32mreturn\u001b[0m \u001b[0msuper\u001b[0m\u001b[0;34m(\u001b[0m\u001b[0;34m)\u001b[0m\u001b[0;34m.\u001b[0m\u001b[0m__getitem__\u001b[0m\u001b[0;34m(\u001b[0m\u001b[0mval\u001b[0m\u001b[0;34m)\u001b[0m\u001b[0;34m\u001b[0m\u001b[0;34m\u001b[0m\u001b[0m\n\u001b[1;32m    928\u001b[0m         \u001b[0;32melse\u001b[0m\u001b[0;34m:\u001b[0m\u001b[0;34m\u001b[0m\u001b[0;34m\u001b[0m\u001b[0m\n\u001b[0;32m--> 929\u001b[0;31m             \u001b[0;32mreturn\u001b[0m \u001b[0msuper\u001b[0m\u001b[0;34m(\u001b[0m\u001b[0;34m)\u001b[0m\u001b[0;34m.\u001b[0m\u001b[0m__getitem__\u001b[0m\u001b[0;34m(\u001b[0m\u001b[0mkey\u001b[0m\u001b[0;34m)\u001b[0m\u001b[0;34m\u001b[0m\u001b[0;34m\u001b[0m\u001b[0m\n\u001b[0m\u001b[1;32m    930\u001b[0m \u001b[0;34m\u001b[0m\u001b[0m\n\u001b[1;32m    931\u001b[0m     \u001b[0;32mdef\u001b[0m \u001b[0m__setitem__\u001b[0m\u001b[0;34m(\u001b[0m\u001b[0mself\u001b[0m\u001b[0;34m,\u001b[0m \u001b[0mkey\u001b[0m\u001b[0;34m,\u001b[0m \u001b[0mvalue\u001b[0m\u001b[0;34m)\u001b[0m\u001b[0;34m:\u001b[0m\u001b[0;34m\u001b[0m\u001b[0;34m\u001b[0m\u001b[0m\n",
      "\u001b[0;31mKeyError\u001b[0m: 'behavior'"
     ]
    }
   ],
   "source": [
    "nwb.processing['behavior'].data_interfaces['Position'].spatial_series['t'].data"
   ]
  },
  {
   "cell_type": "code",
   "execution_count": 20,
   "id": "dfcd815d",
   "metadata": {},
   "outputs": [
    {
     "ename": "KeyError",
     "evalue": "'t'",
     "output_type": "error",
     "traceback": [
      "\u001b[0;31m---------------------------------------------------------------------------\u001b[0m",
      "\u001b[0;31mKeyError\u001b[0m                                  Traceback (most recent call last)",
      "\u001b[0;32m/tmp/ipykernel_13517/4292772036.py\u001b[0m in \u001b[0;36m<module>\u001b[0;34m\u001b[0m\n\u001b[0;32m----> 1\u001b[0;31m \u001b[0mpos\u001b[0m\u001b[0;34m.\u001b[0m\u001b[0mspatial_series\u001b[0m\u001b[0;34m[\u001b[0m\u001b[0;34m't'\u001b[0m\u001b[0;34m]\u001b[0m\u001b[0;34m.\u001b[0m\u001b[0mtimestamps\u001b[0m\u001b[0;34m\u001b[0m\u001b[0;34m\u001b[0m\u001b[0m\n\u001b[0m",
      "\u001b[0;32m~/spikeinterface/hussaini-test-pipeline/venv/lib/python3.8/site-packages/hdmf/utils.py\u001b[0m in \u001b[0;36m__getitem__\u001b[0;34m(self, args)\u001b[0m\n\u001b[1;32m    927\u001b[0m                 \u001b[0;32mreturn\u001b[0m \u001b[0msuper\u001b[0m\u001b[0;34m(\u001b[0m\u001b[0;34m)\u001b[0m\u001b[0;34m.\u001b[0m\u001b[0m__getitem__\u001b[0m\u001b[0;34m(\u001b[0m\u001b[0mval\u001b[0m\u001b[0;34m)\u001b[0m\u001b[0;34m\u001b[0m\u001b[0;34m\u001b[0m\u001b[0m\n\u001b[1;32m    928\u001b[0m         \u001b[0;32melse\u001b[0m\u001b[0;34m:\u001b[0m\u001b[0;34m\u001b[0m\u001b[0;34m\u001b[0m\u001b[0m\n\u001b[0;32m--> 929\u001b[0;31m             \u001b[0;32mreturn\u001b[0m \u001b[0msuper\u001b[0m\u001b[0;34m(\u001b[0m\u001b[0;34m)\u001b[0m\u001b[0;34m.\u001b[0m\u001b[0m__getitem__\u001b[0m\u001b[0;34m(\u001b[0m\u001b[0mkey\u001b[0m\u001b[0;34m)\u001b[0m\u001b[0;34m\u001b[0m\u001b[0;34m\u001b[0m\u001b[0m\n\u001b[0m\u001b[1;32m    930\u001b[0m \u001b[0;34m\u001b[0m\u001b[0m\n\u001b[1;32m    931\u001b[0m     \u001b[0;32mdef\u001b[0m \u001b[0m__setitem__\u001b[0m\u001b[0;34m(\u001b[0m\u001b[0mself\u001b[0m\u001b[0;34m,\u001b[0m \u001b[0mkey\u001b[0m\u001b[0;34m,\u001b[0m \u001b[0mvalue\u001b[0m\u001b[0;34m)\u001b[0m\u001b[0;34m:\u001b[0m\u001b[0;34m\u001b[0m\u001b[0;34m\u001b[0m\u001b[0m\n",
      "\u001b[0;31mKeyError\u001b[0m: 't'"
     ]
    }
   ],
   "source": [
    "pos.spatial_series['t'].timestamps"
   ]
  },
  {
   "cell_type": "markdown",
   "id": "05f6cef9",
   "metadata": {},
   "source": [
    "### Parse `.pos` files"
   ]
  },
  {
   "cell_type": "code",
   "execution_count": 24,
   "id": "819630f8",
   "metadata": {},
   "outputs": [
    {
     "name": "stdout",
     "output_type": "stream",
     "text": [
      "/mnt/d/freelance-work/catalyst-neuro/hussaini-lab-to-nwb/new_session_data/06172021-HPC-B6-UNIT/06172021-HPC-B6-UNIT/06172021-B6-HPC-UNIT.pos\n"
     ]
    },
    {
     "data": {
      "text/plain": [
       "{'trial_date': 'Thursday, 17 Jun 2021',\n",
       " 'trial_time': '12:22:02',\n",
       " 'experimenter': 'Abid',\n",
       " 'comments': '',\n",
       " 'duration': '301',\n",
       " 'sw_version': '1.2.2.16',\n",
       " 'num_colours': '4',\n",
       " 'min_x': '0',\n",
       " 'max_x': '640',\n",
       " 'min_y': '0',\n",
       " 'max_y': '480',\n",
       " 'window_min_x': '247',\n",
       " 'window_max_x': '426',\n",
       " 'window_min_y': '179',\n",
       " 'window_max_y': '357',\n",
       " 'timebase': '50 hz',\n",
       " 'bytes_per_timestamp': '4',\n",
       " 'sample_rate': '50.0 hz',\n",
       " 'EEG_samples_per_position': '5',\n",
       " 'bearing_colour_1': '0',\n",
       " 'bearing_colour_2': '0',\n",
       " 'bearing_colour_3': '0',\n",
       " 'bearing_colour_4': '0',\n",
       " 'pos_format': 't,x1,y1,x2,y2,numpix1,numpix2',\n",
       " 'bytes_per_coord': '2',\n",
       " 'pixels_per_metre': '300',\n",
       " 'num_pos_samples': '15050'}"
      ]
     },
     "execution_count": 24,
     "metadata": {},
     "output_type": "execute_result"
    }
   ],
   "source": [
    "from nwb_conversion_tools.datainterfaces.ecephys.axona.axonadatainterface import parse_generic_header\n",
    "\n",
    "# Old pos file\n",
    "pos_file = '/mnt/d/freelance-work/catalyst-neuro/hussaini-lab-to-nwb/sample_bin_to_tint/axona_sample.pos'\n",
    "\n",
    "# New pos file\n",
    "pos_file = '/mnt/d/freelance-work/catalyst-neuro/hussaini-lab-to-nwb/new_session_data/06172021-HPC-B6-UNIT/06172021-HPC-B6-UNIT/06172021-B6-HPC-UNIT.pos'\n",
    "print(pos_file)\n",
    "\n",
    "pos_header = parse_generic_header(pos_file, None)\n",
    "pos_header"
   ]
  },
  {
   "cell_type": "markdown",
   "id": "12a57f8e",
   "metadata": {},
   "source": [
    "Data (with memory map)"
   ]
  },
  {
   "cell_type": "code",
   "execution_count": 22,
   "id": "27f40d99",
   "metadata": {},
   "outputs": [],
   "source": [
    "def get_header_bstring(file):\n",
    "    \"\"\"\n",
    "    Scan file for the occurrence of 'data_start' and return the header\n",
    "    as byte string\n",
    "\n",
    "    Parameters\n",
    "    ----------\n",
    "    file (str or path): file to be loaded\n",
    "\n",
    "    Returns\n",
    "    -------\n",
    "    str: header byte content\n",
    "    \"\"\"\n",
    "\n",
    "    header = b''\n",
    "    with open(file, 'rb') as f:\n",
    "        for bin_line in f:\n",
    "            if b'data_start' in bin_line:\n",
    "                header += b'data_start'\n",
    "                break\n",
    "            else:\n",
    "                header += bin_line\n",
    "    return header"
   ]
  },
  {
   "cell_type": "code",
   "execution_count": 23,
   "id": "d5c2e9aa",
   "metadata": {},
   "outputs": [
    {
     "name": "stdout",
     "output_type": "stream",
     "text": [
      "b'trial_date Thursday, 17 Jun 2021\\r\\ntrial_time 12:22:02\\r\\nexperimenter Abid\\r\\ncomments \\r\\nduration 301       \\r\\nsw_version 1.2.2.16\\r\\nnum_colours 4\\r\\nmin_x 0\\r\\nmax_x 640\\r\\nmin_y 0\\r\\nmax_y 480\\r\\nwindow_min_x 247\\r\\nwindow_max_x 426\\r\\nwindow_min_y 179\\r\\nwindow_max_y 357\\r\\ntimebase 50 hz\\r\\nbytes_per_timestamp 4\\r\\nsample_rate 50.0 hz\\r\\nEEG_samples_per_position 5\\r\\nbearing_colour_1 0\\r\\nbearing_colour_2 0\\r\\nbearing_colour_3 0\\r\\nbearing_colour_4 0\\r\\npos_format t,x1,y1,x2,y2,numpix1,numpix2\\r\\nbytes_per_coord 2\\r\\npixels_per_metre 300\\r\\nnum_pos_samples 15050     \\r'\n",
      "b'\\n'\n"
     ]
    }
   ],
   "source": [
    "with open(pos_file, 'rb') as f:\n",
    "    print(f.read(532))\n",
    "    print(f.read(1))"
   ]
  },
  {
   "cell_type": "markdown",
   "id": "d5011b19",
   "metadata": {},
   "source": [
    "### LFP data"
   ]
  },
  {
   "cell_type": "markdown",
   "id": "0ef36150",
   "metadata": {},
   "source": [
    "First, let's look at the tools from the Hussaini lab. And let's also remind ourselves what the file formats of .eeg and .egf data should look like:\n",
    "\n",
    "```\n",
    "EEG data is usually recorded continuously at 250 Hz in unit recording mode. The “.eeg” and “.eg2” files contain the data from the primary and secondary EEG channels, if these have been enabled. Very simply, the data consist of “num_EEG_samples” data bytes, following on from the data_start. The sample count is specified in the header. The “.egf” file is stored if a user selects a higher-sample rate EEG. Samples are normally collected at 4800 Hz (specified in the header), and are also normally 2 bytes long, rather than just 1.\n",
    "```"
   ]
  },
  {
   "cell_type": "code",
   "execution_count": 19,
   "id": "9fc793a1",
   "metadata": {},
   "outputs": [],
   "source": [
    "# Hussaini lab tools: https://github.com/HussainiLab/BinConverter/blob/master/BinConverter/core/CreateEEG.py\n",
    "\n",
    "from BinConverter.core.CreateEEG import (\n",
    "    fir_hann, fir_hann, EEG_downsample, create_egf, write_eeg\n",
    ")"
   ]
  },
  {
   "cell_type": "markdown",
   "id": "fcde0804",
   "metadata": {},
   "source": [
    "Try using a NumpyRecordingExtractor to ingest '.eeg' or '.egf' data.\n",
    "The user can ultimately specify whether to use .eeg or .egf data to be saved as LFP data in the nwb file. By default we\n",
    "will prefer .eeg data, since it has a lower sampling rate and is more memory efficient. In most cases researchers will\n",
    "not want to look at high frequency oscillations in LFP data.\n",
    "\n",
    "We can first extract the data of interest as a numpy ndarray, then create a NumpyRecordingExtractor for the nwb conversion.\n"
   ]
  },
  {
   "cell_type": "markdown",
   "id": "b46d0aa2",
   "metadata": {},
   "source": [
    "*  Case 1: Extract numpy ndarray from `.bin` data (very high Fs)"
   ]
  },
  {
   "cell_type": "code",
   "execution_count": 321,
   "id": "a67dd240",
   "metadata": {},
   "outputs": [
    {
     "name": "stdout",
     "output_type": "stream",
     "text": [
      "135.0\n",
      "100.0\n"
     ]
    }
   ],
   "source": [
    "not_scaled = 100\n",
    "gain = 1.25\n",
    "offset = 10\n",
    "scaled = not_scaled * gain + offset\n",
    "\n",
    "print(scaled)\n",
    "\n",
    "unscaled = (scaled - offset) / gain\n",
    "\n",
    "print(unscaled)"
   ]
  },
  {
   "cell_type": "code",
   "execution_count": null,
   "id": "afa900bb",
   "metadata": {},
   "outputs": [],
   "source": []
  },
  {
   "cell_type": "code",
   "execution_count": 325,
   "id": "63dc09a5",
   "metadata": {},
   "outputs": [
    {
     "data": {
      "text/plain": [
       "array([1., 1., 1., 1., 1., 1., 1., 1., 1., 1., 1., 1., 1., 1., 1., 1.])"
      ]
     },
     "execution_count": 325,
     "metadata": {},
     "output_type": "execute_result"
    }
   ],
   "source": [
    "recording_filt.get_channel_gains()"
   ]
  },
  {
   "cell_type": "code",
   "execution_count": null,
   "id": "0c8ad4ec",
   "metadata": {},
   "outputs": [],
   "source": [
    "scaled = not_scaled * gain + offset\n",
    "\n",
    "non_scales = (scaled - offset) / gain"
   ]
  },
  {
   "cell_type": "code",
   "execution_count": 312,
   "id": "e6c6d926",
   "metadata": {},
   "outputs": [],
   "source": [
    "# scaling\n",
    "channel_ids = recording.get_channel_ids()\n",
    "traces = recording.get_traces(start_frame=0, end_frame=100, return_scaled=False)\n",
    "\n",
    "channel_idxs = np.array([recording.get_channel_ids().index(ch) for ch in channel_ids])\n",
    "gains = recording.get_channel_gains()[channel_idxs, None]\n",
    "offsets = recording.get_channel_offsets()[channel_idxs, None]\n",
    "unscaled = (scaled - offset) / gain\n",
    "\n",
    "traces = (traces.astype(\"float32\") * gains + offsets).astype(\"float32\")"
   ]
  },
  {
   "cell_type": "code",
   "execution_count": 313,
   "id": "fef50016",
   "metadata": {},
   "outputs": [
    {
     "data": {
      "text/plain": [
       "array([[   776,  11836,   2654, ...,  -7130,  -7420,  -6984],\n",
       "       [ -3108,   6930,  -2686, ...,  -8120, -15106, -15106],\n",
       "       [ -8126,   3032,   5224, ...,  -7418,  -9540, -10140],\n",
       "       ...,\n",
       "       [ -2998,  -2500,   -908, ...,   1540,     32,   -624],\n",
       "       [  3430,   -832,   3690, ...,   4788,   3974,   3870],\n",
       "       [  2376,   4430,   4290, ...,  -4968,  -6388,  -7966]], dtype=int16)"
      ]
     },
     "execution_count": 313,
     "metadata": {},
     "output_type": "execute_result"
    }
   ],
   "source": [
    "recording.get_traces(start_frame=0, end_frame=100, return_scaled=False)"
   ]
  },
  {
   "cell_type": "code",
   "execution_count": 314,
   "id": "15c28d4a",
   "metadata": {},
   "outputs": [
    {
     "data": {
      "text/plain": [
       "array([[  0.8880615 ,  13.545227  ,   3.037262  , ...,  -8.159637  ,\n",
       "         -8.491516  ,  -7.9925537 ],\n",
       "       [ -3.5568237 ,   7.9307556 ,  -3.073883  , ...,  -9.292603  ,\n",
       "        -17.287445  , -17.287445  ],\n",
       "       [ -9.299469  ,   3.4698486 ,   5.9783936 , ...,  -8.489227  ,\n",
       "        -10.917664  , -11.604309  ],\n",
       "       ...,\n",
       "       [ -3.4309387 ,  -2.861023  ,  -1.0391235 , ...,   1.7623901 ,\n",
       "          0.03662109,  -0.7141113 ],\n",
       "       [  3.9253235 ,  -0.95214844,   4.22287   , ...,   5.479431  ,\n",
       "          4.547882  ,   4.4288635 ],\n",
       "       [  2.7191162 ,   5.0697327 ,   4.9095154 , ...,  -5.685425  ,\n",
       "         -7.310486  ,  -9.116364  ]], dtype=float32)"
      ]
     },
     "execution_count": 314,
     "metadata": {},
     "output_type": "execute_result"
    }
   ],
   "source": [
    "traces"
   ]
  },
  {
   "cell_type": "code",
   "execution_count": 326,
   "id": "2a7b581e",
   "metadata": {},
   "outputs": [],
   "source": [
    "se.CacheRecordingExtractor??"
   ]
  },
  {
   "cell_type": "code",
   "execution_count": null,
   "id": "d4f4424f",
   "metadata": {},
   "outputs": [],
   "source": [
    "# Filter the data to avoid aliasing based on desired sampling frequency. The nyquest theorem states we need \n",
    "# twice the sampling rate of the highest frequency we are interested in. Conversely, we want to filter out all frequencies\n",
    "# higher than half our sampling rate. Since filters are not perfect and have a certain transition width until full\n",
    "# attenuation, we are conservative and choose sampling_rate / 2.25 as our cut-off high frequency threshold.\n",
    "\n",
    "import spiketoolkit as st\n",
    "\n",
    "sampling_rate = 250  # .eeg=250, .egf=4800\n",
    "\n",
    "recording_filt = st.preprocessing.bandpass_filter(recording, freq_min=0, freq_max=np.floor(sampling_rate / 2.25))\n",
    "\n",
    "#recording_downsamp = st.preprocessing.ResampleRecording(recording_filt, sampling_rate)\n",
    "\n",
    "channel_ids = recording.get_channel_ids()\n",
    "channel_idxs = np.array([recording.get_channel_ids().index(ch) for ch in channel_ids])\n",
    "gains = recording.get_channel_gains()[channel_idxs, None]\n",
    "offsets = recording.get_channel_offsets()[channel_idxs, None]\n",
    "unscaled = (recording_filt.get_traces() - offsets) / gains\n",
    "\n",
    "traces = (traces.astype(\"float32\") * gains + offsets).astype(\"float32\")"
   ]
  },
  {
   "cell_type": "code",
   "execution_count": 266,
   "id": "90f8cd95",
   "metadata": {},
   "outputs": [],
   "source": [
    "# Filter the data to avoid aliasing based on desired sampling frequency. The nyquest theorem states we need \n",
    "# twice the sampling rate of the highest frequency we are interested in. Conversely, we want to filter out all frequencies\n",
    "# higher than half our sampling rate. Since filters are not perfect and have a certain transition width until full\n",
    "# attenuation, we are conservative and choose sampling_rate / 2.25 as our cut-off high frequency threshold.\n",
    "\n",
    "import spiketoolkit as st\n",
    "\n",
    "sampling_rate = 250  # .eeg=250, .egf=4800\n",
    "\n",
    "recording_filt = st.preprocessing.bandpass_filter(recording, freq_min=0, freq_max=np.floor(sampling_rate / 2.25))\n",
    "\n",
    "recording_downsamp = st.preprocessing.ResampleRecording(recording_filt, sampling_rate)"
   ]
  },
  {
   "cell_type": "code",
   "execution_count": 152,
   "id": "ba390ee6",
   "metadata": {},
   "outputs": [],
   "source": [
    "perma_cache_filename = os.path.join(dir_name, 'cached_data_eeg.dat') \n",
    "recording_cache = se.CacheRecordingExtractor(recording_filt, save_path = perma_cache_filename)\n",
    "recording_cache.dump_to_pickle(os.path.join(dir_name, 'cached_data_eeg.pkl'))"
   ]
  },
  {
   "cell_type": "code",
   "execution_count": null,
   "id": "40a077a6",
   "metadata": {},
   "outputs": [],
   "source": []
  },
  {
   "cell_type": "code",
   "execution_count": null,
   "id": "a430f3a3",
   "metadata": {},
   "outputs": [],
   "source": [
    "recording_cache = se.load_extractor_from_pickle(os.path.join(dir_name, 'cached_data_eeg.pkl'))"
   ]
  },
  {
   "cell_type": "code",
   "execution_count": 153,
   "id": "17fad425",
   "metadata": {},
   "outputs": [
    {
     "data": {
      "text/plain": [
       "spikeextractors.cacheextractors.CacheRecordingExtractor"
      ]
     },
     "execution_count": 153,
     "metadata": {},
     "output_type": "execute_result"
    }
   ],
   "source": [
    "type(recording_cache)"
   ]
  },
  {
   "cell_type": "markdown",
   "id": "444078da",
   "metadata": {},
   "source": [
    "*  Case 2: Extract numpy ndarray from `.eeg` data (low Fs)"
   ]
  },
  {
   "cell_type": "markdown",
   "id": "52981432",
   "metadata": {},
   "source": [
    "I believe I can simply extract the int8 or int16 data from an .eeg or .egf file, which corresponds to a particular EEG channel, and put it into a numpy recordingextractor (like Ben suggested). Then I only need to include the gain information for each channel and the metadata and I should be done. "
   ]
  },
  {
   "cell_type": "code",
   "execution_count": 22,
   "id": "f31ab61c",
   "metadata": {},
   "outputs": [],
   "source": [
    "def get_eeg_sampling_frequency(filename):\n",
    "    \"\"\"\n",
    "    Read sampling frequency from .eegX or .egfX file header.\n",
    "    \n",
    "    Parameters:\n",
    "    -----------\n",
    "    filename : Path or str\n",
    "        Full filename of Axona `.eegX` or `.egfX` file.\n",
    "        \n",
    "    Returns:\n",
    "    --------\n",
    "    Fs : int\n",
    "        Sampling frequency\n",
    "    \"\"\"\n",
    "    Fs_entry = parse_generic_header(eeg_fname, ['sample_rate'])\n",
    "    Fs = int(float(Fs_entry.get('sample_rate').split(' ')[0]))\n",
    "\n",
    "    return Fs"
   ]
  },
  {
   "cell_type": "code",
   "execution_count": 23,
   "id": "2ab9d86e",
   "metadata": {},
   "outputs": [],
   "source": [
    "# Function for reading .eegX or .egfX data (unscaled)\n",
    "\n",
    "from nwb_conversion_tools.datainterfaces.ecephys.axona.axonadatainterface import get_header_bstring\n",
    "\n",
    "def read_eeg_file_lfp_data(filename):\n",
    "    \"\"\"\n",
    "    Read LFP data from Axona `.eegX` or `.egfX` file.\n",
    "\n",
    "    Parameters:\n",
    "    -------\n",
    "    filename (Path or Str):\n",
    "        Full filename of Axona `.eegX` or `.egfX` file.\n",
    "\n",
    "    Returns:\n",
    "    -------\n",
    "    np.memmap (nobs x 1)\n",
    "    \"\"\"\n",
    "\n",
    "    # .eeg files are int8, .egf files are int16\n",
    "    lfp_dtype = '>i1'\n",
    "    if str(filename).split('.')[1][0:2] == 'egf':\n",
    "        lfp_dtype = '>i2'\n",
    "\n",
    "    footer_size = len('\\r\\ndata_end\\r\\n')\n",
    "    header_size = len(get_header_bstring(filename))\n",
    "    num_bytes = os.path.getsize(filename) - header_size - footer_size\n",
    "\n",
    "    eeg_data = np.memmap(\n",
    "        filename=filename,\n",
    "        dtype=lfp_dtype,\n",
    "        mode='r',\n",
    "        offset=len(get_header_bstring(filename)),\n",
    "        shape=(1, num_bytes),\n",
    "    )\n",
    "\n",
    "    return eeg_data"
   ]
  },
  {
   "cell_type": "code",
   "execution_count": 24,
   "id": "746518d2",
   "metadata": {},
   "outputs": [],
   "source": [
    "def get_all_filenames(filename):\n",
    "    \"\"\"\n",
    "    Read LFP filenames of `.eeg` or `.egf` files in filename's directory.\n",
    "    E.g. if filename='/my/directory/my_file.eeg', all .eeg channels will be\n",
    "    appended to the output.\n",
    "    \n",
    "    Parameters:\n",
    "    -----------\n",
    "    filename : path-like\n",
    "        Full filename of either .egg or .egf file\n",
    "        \n",
    "    Returns:\n",
    "    --------\n",
    "    path_list : list\n",
    "        List of filenames\n",
    "    \"\"\"\n",
    "    \n",
    "    suffix = Path(filename).suffix[0:4]\n",
    "    current_path = Path(filename).parent\n",
    "\n",
    "    path_list = [cur_path.name for cur_path in Path(filename).parent.rglob('*' + suffix + '*')]\n",
    "\n",
    "    return path_list"
   ]
  },
  {
   "cell_type": "code",
   "execution_count": 25,
   "id": "801d2ca2",
   "metadata": {},
   "outputs": [],
   "source": [
    "def read_all_eeg_file_lfp_data(filename):\n",
    "    \"\"\"\n",
    "    Read LFP data from all Axona `.eeg` or `.egf` files in filename's directory.\n",
    "    E.g. if filename='/my/directory/my_file.eeg', all .eeg channels will be conactenated\n",
    "    to a single np.array (chans x nobs). For .egf files substitude the file suffix.\n",
    "\n",
    "    Parameters:\n",
    "    -------\n",
    "    filename (Path or Str):\n",
    "        Full filename of Axona `.eeg` or `.egf` file.\n",
    "\n",
    "    Returns:\n",
    "    -------\n",
    "    np.array (chans x obs)\n",
    "    \"\"\"\n",
    "\n",
    "    filename_list = get_all_filenames(filename)\n",
    "    parent_path = Path(filename).parent\n",
    "\n",
    "    eeg_memmaps = list()\n",
    "    sampling_rates = set()\n",
    "    for fname in filename_list:\n",
    "\n",
    "        sampling_rates.add(get_eeg_sampling_frequency(parent_path / fname))\n",
    "        \n",
    "        eeg_memmaps.append(read_eeg_file_lfp_data(parent_path / fname))\n",
    "\n",
    "    assert len(sampling_rates) < 2, 'File headers specify different sampling rates. Cannot combine EEG data.'\n",
    "    \n",
    "    eeg_data = np.concatenate(eeg_memmaps, axis=0)\n",
    "    \n",
    "    return eeg_data"
   ]
  },
  {
   "cell_type": "code",
   "execution_count": 26,
   "id": "5958f84c",
   "metadata": {},
   "outputs": [],
   "source": [
    "from nwb_conversion_tools.datainterfaces.ecephys.baselfpextractorinterface import BaseLFPExtractorInterface\n",
    "from nwb_conversion_tools.datainterfaces.ecephys.axona.axonadatainterface import AxonaRecordingExtractorInterface\n",
    "from nwb_conversion_tools.utils.json_schema import get_schema_from_hdmf_class\n",
    "from nwb_conversion_tools.utils.spike_interface import write_recording\n",
    "from pynwb.ecephys import ElectricalSeries\n",
    "import spiketoolkit as st\n",
    "\n",
    "\n",
    "OptionalPathType = Optional[Union[str, Path]]\n",
    "\n",
    "\n",
    "def AxonaLFPNumpyExtractorWrapper(filename):\n",
    "    \"\"\"\n",
    "    Wrapper for instantiating a NumpyRecordingExtractor given an `.eeg` or `.egf` filename.\n",
    "    \"\"\"\n",
    "    return se.NumpyRecordingExtractor(\n",
    "        timeseries=read_all_eeg_file_lfp_data(filename),\n",
    "        sampling_frequency=get_eeg_sampling_frequency(filename)\n",
    "    )\n",
    "\n",
    "class AxonaLFPDataInterface(AxonaRecordingExtractorInterface):\n",
    "    \"\"\" ... \"\"\"\n",
    "\n",
    "    @classmethod\n",
    "    def get_source_schema(cls):\n",
    "        return dict(\n",
    "            required=['filename'],\n",
    "            properties=dict(\n",
    "                filename=dict(\n",
    "                    type='string'\n",
    "                )\n",
    "            ),\n",
    "            type='object',\n",
    "            additionalProperties=False\n",
    "        )\n",
    "    \n",
    "    def __init__(self, **source_data):\n",
    "        self.recording_extractor = AxonaLFPNumpyExtractorWrapper(filename)\n",
    "        self.subset_channels = None\n",
    "        self.source_data = source_data\n",
    "        \n",
    "    def get_metadata_schema(self):\n",
    "        metadata_schema = super().get_metadata_schema()\n",
    "        metadata_schema[\"properties\"][\"Ecephys\"][\"properties\"].update(\n",
    "            ElectricalSeries_lfp=get_schema_from_hdmf_class(ElectricalSeries)\n",
    "        )\n",
    "        return metadata_schema\n",
    "\n",
    "    def get_metadata(self):\n",
    "        \"\"\"Retrieve Ecephys metadata specific to the Axona format.\"\"\"\n",
    "        metadata = super().get_metadata()\n",
    "        metadata['Ecephys'].pop('ElectricalSeries_raw', None)\n",
    "        metadata['Ecephys'].update(\n",
    "            ElectricalSeries_lfp=dict(\n",
    "                name=\"LFP\",\n",
    "                description=\"Local field potential signal.\"\n",
    "            )\n",
    "        )\n",
    "\n",
    "        return metadata\n",
    "    \n",
    "    def run_conversion(\n",
    "        self,\n",
    "        nwbfile: NWBFile,\n",
    "        metadata: dict = None,\n",
    "        stub_test: bool = False,\n",
    "        use_times: bool = False,\n",
    "        save_path: OptionalPathType = None,\n",
    "        overwrite: bool = False,\n",
    "        buffer_mb: int = 500\n",
    "    ):\n",
    "        \"\"\"\n",
    "        Primary function for converting low-pass recording extractor data to nwb.\n",
    "\n",
    "        Parameters\n",
    "        ----------\n",
    "        nwbfile: NWBFile\n",
    "            nwb file to which the recording information is to be added\n",
    "        metadata: dict\n",
    "            metadata info for constructing the nwb file (optional).\n",
    "            Should be of the format\n",
    "                metadata['Ecephys']['ElectricalSeries'] = dict(name=my_name, description=my_description)\n",
    "        use_times: bool\n",
    "            If True, the times are saved to the nwb file using recording.frame_to_time(). If False (default),\n",
    "            the sampling rate is used.\n",
    "        save_path: PathType\n",
    "            Required if an nwbfile is not passed. Must be the path to the nwbfile\n",
    "            being appended, otherwise one is created and written.\n",
    "        overwrite: bool\n",
    "            If using save_path, whether or not to overwrite the NWBFile if it already exists.\n",
    "        stub_test: bool, optional (default False)\n",
    "            If True, will truncate the data to run the conversion faster and take up less memory.\n",
    "        buffer_mb: int (optional, defaults to 500MB)\n",
    "            Maximum amount of memory (in MB) to use per iteration of the internal DataChunkIterator.\n",
    "            Requires trace data in the RecordingExtractor to be a memmap object.\n",
    "        \"\"\"\n",
    "        if stub_test or self.subset_channels is not None:\n",
    "            recording = self.subset_recording(stub_test=stub_test)\n",
    "        else:\n",
    "            recording = self.recording_extractor\n",
    "        write_recording(\n",
    "            recording=recording,\n",
    "            nwbfile=nwbfile,\n",
    "            metadata=metadata,\n",
    "            use_times=use_times,\n",
    "            write_as=\"lfp\",\n",
    "            es_key=\"ElectricalSeries_lfp\",\n",
    "            save_path=save_path,\n",
    "            overwrite=overwrite,\n",
    "            buffer_mb=buffer_mb\n",
    "        )"
   ]
  },
  {
   "cell_type": "code",
   "execution_count": 27,
   "id": "ea5e1218",
   "metadata": {},
   "outputs": [
    {
     "data": {
      "text/plain": [
       "'\\nfrom nwb_conversion_tools.datainterfaces.ecephys.baselfpextractorinterface import BaseLFPExtractorInterface\\nfrom nwb_conversion_tools.utils.json_schema import get_schema_from_hdmf_class\\nfrom pynwb.ecephys import ElectricalSeries\\n\\n\\ndef AxonaLFPNumpyExtractorWrapper(filename):\\n    \"\"\"\\n    Wrapper for instantiating a NumpyRecordingExtractor given an `.eeg` or `.egf` filename.\\n    \"\"\"\\n    return se.NumpyRecordingExtractor(\\n        timeseries=read_all_eeg_file_lfp_data(filename),\\n        sampling_frequency=get_eeg_sampling_frequency(filename)\\n    )\\n\\nclass AxonaLFPDataInterface(BaseLFPExtractorInterface):\\n    \"\"\" ... \"\"\"\\n\\n    RX = se.NumpyRecordingExtractor\\n\\n    @classmethod\\n    def get_source_schema(cls):\\n        return dict(\\n                    required=[\\'filename\\'],\\n                    properties=dict(\\n                        filename=dict(\\n                            type=\\'string\\'\\n                        )\\n                    ),\\n                    type=\\'object\\',\\n                    additionalProperties=False\\n                )\\n    \\n    def __init__(self, **source_data):\\n        self.recording_extractor = AxonaLFPNumpyExtractorWrapper(filename)\\n        self.subset_channels = None\\n        self.source_data = source_data\\n        \\n    def get_metadata_schema(self):\\n        metadata_schema = super().get_metadata_schema()\\n        metadata_schema[\"properties\"][\"Ecephys\"][\"properties\"].update(\\n            ElectricalSeries_lfp=get_schema_from_hdmf_class(ElectricalSeries)\\n        )\\n        return metadata_schema\\n\\n    def get_metadata(self):\\n\\n        # Extract information for specific parameters from .set file\\n        params_of_interest = [\"experimenter\", \"comments\", \"duration\", \"sw_version\"]\\n        set_file = self.source_data[\"filename\"].split(\".\")[0] + \".set\"\\n        par = parse_generic_header(set_file, params_of_interest)\\n\\n#        # assign unique group to each channel, and fill in group_name property\\n#        RX.set_channel_groups(\\n#            groups=RX.get_channel_ids(),\\n#            channel_ids=RX.get_channel_ids()\\n#        )\\n#        unique_elec_group_names = set(RX.get_channel_groups())\\n\\n#        for channel_id in RX.get_channel_ids():\\n#            RX.set_channel_property(\\n#                channel_id=channel_id,\\n#                property_name=\"group_name\",\\n#                value=f\"Group{channel_id}\"\\n#            )\\n\\n        # Add available metadata\\n        metadata = super().get_metadata()\\n        metadata[\"NWBFile\"] = dict(\\n            session_start_time=read_axona_iso_datetime(set_file),\\n            session_description=par[\"comments\"],\\n            experimenter=[par[\"experimenter\"]],\\n        )\\n\\n        metadata[\"Ecephys\"] = dict(\\n            Device=[\\n                dict(\\n                    name=\"Axona\",\\n                    description=\"Axona DacqUSB, sw_version={}\".format(par[\"sw_version\"]),\\n                    manufacturer=\"Axona\",\\n                ),\\n            ],\\n            ElectrodeGroup=[\\n                dict(\\n                    name=f\"Group{group_name}\",\\n                    location=\"\",\\n                    device=\"Axona\",\\n                    description=f\"Group {group_name} electrodes.\",\\n                )\\n                for group_name in unique_elec_group_names\\n            ],\\n            Electrodes=[\\n                dict(\\n                    name=\\'group_name\\',\\n                    description=\"The name of the ElectrodeGroup this electrode is a part of.\"\\n                )\\n            ],\\n            ElectricalSeries_lfp=dict(\\n                name=\"ElectricalSeries_lfp\",\\n                description=\"EEG (lfp) acquisition traces.\"\\n            ),\\n        )\\n        \\n        return metadata\\n'"
      ]
     },
     "execution_count": 27,
     "metadata": {},
     "output_type": "execute_result"
    }
   ],
   "source": [
    "# I cannot get it to work with a child of BaseLFPExtractorInterface\n",
    "'''\n",
    "from nwb_conversion_tools.datainterfaces.ecephys.baselfpextractorinterface import BaseLFPExtractorInterface\n",
    "from nwb_conversion_tools.utils.json_schema import get_schema_from_hdmf_class\n",
    "from pynwb.ecephys import ElectricalSeries\n",
    "\n",
    "\n",
    "def AxonaLFPNumpyExtractorWrapper(filename):\n",
    "    \"\"\"\n",
    "    Wrapper for instantiating a NumpyRecordingExtractor given an `.eeg` or `.egf` filename.\n",
    "    \"\"\"\n",
    "    return se.NumpyRecordingExtractor(\n",
    "        timeseries=read_all_eeg_file_lfp_data(filename),\n",
    "        sampling_frequency=get_eeg_sampling_frequency(filename)\n",
    "    )\n",
    "\n",
    "class AxonaLFPDataInterface(BaseLFPExtractorInterface):\n",
    "    \"\"\" ... \"\"\"\n",
    "\n",
    "    RX = se.NumpyRecordingExtractor\n",
    "\n",
    "    @classmethod\n",
    "    def get_source_schema(cls):\n",
    "        return dict(\n",
    "                    required=['filename'],\n",
    "                    properties=dict(\n",
    "                        filename=dict(\n",
    "                            type='string'\n",
    "                        )\n",
    "                    ),\n",
    "                    type='object',\n",
    "                    additionalProperties=False\n",
    "                )\n",
    "    \n",
    "    def __init__(self, **source_data):\n",
    "        self.recording_extractor = AxonaLFPNumpyExtractorWrapper(filename)\n",
    "        self.subset_channels = None\n",
    "        self.source_data = source_data\n",
    "        \n",
    "    def get_metadata_schema(self):\n",
    "        metadata_schema = super().get_metadata_schema()\n",
    "        metadata_schema[\"properties\"][\"Ecephys\"][\"properties\"].update(\n",
    "            ElectricalSeries_lfp=get_schema_from_hdmf_class(ElectricalSeries)\n",
    "        )\n",
    "        return metadata_schema\n",
    "\n",
    "    def get_metadata(self):\n",
    "\n",
    "        # Extract information for specific parameters from .set file\n",
    "        params_of_interest = [\"experimenter\", \"comments\", \"duration\", \"sw_version\"]\n",
    "        set_file = self.source_data[\"filename\"].split(\".\")[0] + \".set\"\n",
    "        par = parse_generic_header(set_file, params_of_interest)\n",
    "\n",
    "#        # assign unique group to each channel, and fill in group_name property\n",
    "#        RX.set_channel_groups(\n",
    "#            groups=RX.get_channel_ids(),\n",
    "#            channel_ids=RX.get_channel_ids()\n",
    "#        )\n",
    "#        unique_elec_group_names = set(RX.get_channel_groups())\n",
    "\n",
    "#        for channel_id in RX.get_channel_ids():\n",
    "#            RX.set_channel_property(\n",
    "#                channel_id=channel_id,\n",
    "#                property_name=\"group_name\",\n",
    "#                value=f\"Group{channel_id}\"\n",
    "#            )\n",
    "\n",
    "        # Add available metadata\n",
    "        metadata = super().get_metadata()\n",
    "        metadata[\"NWBFile\"] = dict(\n",
    "            session_start_time=read_axona_iso_datetime(set_file),\n",
    "            session_description=par[\"comments\"],\n",
    "            experimenter=[par[\"experimenter\"]],\n",
    "        )\n",
    "\n",
    "        metadata[\"Ecephys\"] = dict(\n",
    "            Device=[\n",
    "                dict(\n",
    "                    name=\"Axona\",\n",
    "                    description=\"Axona DacqUSB, sw_version={}\".format(par[\"sw_version\"]),\n",
    "                    manufacturer=\"Axona\",\n",
    "                ),\n",
    "            ],\n",
    "            ElectrodeGroup=[\n",
    "                dict(\n",
    "                    name=f\"Group{group_name}\",\n",
    "                    location=\"\",\n",
    "                    device=\"Axona\",\n",
    "                    description=f\"Group {group_name} electrodes.\",\n",
    "                )\n",
    "                for group_name in unique_elec_group_names\n",
    "            ],\n",
    "            Electrodes=[\n",
    "                dict(\n",
    "                    name='group_name',\n",
    "                    description=\"The name of the ElectrodeGroup this electrode is a part of.\"\n",
    "                )\n",
    "            ],\n",
    "            ElectricalSeries_lfp=dict(\n",
    "                name=\"ElectricalSeries_lfp\",\n",
    "                description=\"EEG (lfp) acquisition traces.\"\n",
    "            ),\n",
    "        )\n",
    "        \n",
    "        return metadata\n",
    "'''"
   ]
  },
  {
   "cell_type": "code",
   "execution_count": 28,
   "id": "079672b1",
   "metadata": {},
   "outputs": [],
   "source": [
    "from nwb_conversion_tools.datainterfaces.ecephys.axona.axonadatainterface import read_axona_iso_datetime"
   ]
  },
  {
   "cell_type": "code",
   "execution_count": 29,
   "id": "59ac8e94",
   "metadata": {},
   "outputs": [],
   "source": [
    "eeg_fname = '/mnt/d/freelance-work/catalyst-neuro/hussaini-lab-to-nwb/Axona_Tint_1ms/20201004_Tint.eeg'"
   ]
  },
  {
   "cell_type": "code",
   "execution_count": 30,
   "id": "621513df",
   "metadata": {},
   "outputs": [],
   "source": [
    "filename = eeg_fname"
   ]
  },
  {
   "cell_type": "code",
   "execution_count": 39,
   "id": "f822c535",
   "metadata": {},
   "outputs": [],
   "source": [
    "lfp_interface = AxonaLFPDataInterface(filename=eeg_fname)"
   ]
  },
  {
   "cell_type": "code",
   "execution_count": 32,
   "id": "16382c0f",
   "metadata": {},
   "outputs": [],
   "source": [
    "class HussainiAxonaNWBConverter(NWBConverter):\n",
    "    data_interface_classes = dict(\n",
    "        #AxonaRecordingExtractorInterface=AxonaRecordingExtractorInterface,\n",
    "        AxonaPositionDataInterface=AxonaPositionDataInterface,\n",
    "        AxonaLFPDataInterface=AxonaLFPDataInterface\n",
    "    )"
   ]
  },
  {
   "cell_type": "code",
   "execution_count": 33,
   "id": "c9469295",
   "metadata": {
    "scrolled": false
   },
   "outputs": [
    {
     "name": "stdout",
     "output_type": "stream",
     "text": [
      "{\n",
      "  \"AxonaPositionDataInterface\": {\n",
      "    \"filename\": \"/mnt/d/freelance-work/catalyst-neuro/hussaini-lab-to-nwb/Axona_Tint_1ms/20201004_Tint.set\"\n",
      "  },\n",
      "  \"AxonaLFPDataInterface\": {\n",
      "    \"filename\": \"/mnt/d/freelance-work/catalyst-neuro/hussaini-lab-to-nwb/Axona_Tint_1ms/20201004_Tint.eeg\"\n",
      "  }\n",
      "}\n",
      "Source data is valid!\n"
     ]
    },
    {
     "ename": "NameError",
     "evalue": "name 'parse_generic_header' is not defined",
     "output_type": "error",
     "traceback": [
      "\u001b[0;31m---------------------------------------------------------------------------\u001b[0m",
      "\u001b[0;31mNameError\u001b[0m                                 Traceback (most recent call last)",
      "\u001b[0;32m/tmp/ipykernel_22608/4293234657.py\u001b[0m in \u001b[0;36m<module>\u001b[0;34m\u001b[0m\n\u001b[1;32m     16\u001b[0m \u001b[0;34m\u001b[0m\u001b[0m\n\u001b[1;32m     17\u001b[0m \u001b[0;31m# Instantiate converter\u001b[0m\u001b[0;34m\u001b[0m\u001b[0;34m\u001b[0m\u001b[0;34m\u001b[0m\u001b[0m\n\u001b[0;32m---> 18\u001b[0;31m \u001b[0mconverter\u001b[0m \u001b[0;34m=\u001b[0m \u001b[0mHussainiAxonaNWBConverter\u001b[0m\u001b[0;34m(\u001b[0m\u001b[0msource_data\u001b[0m\u001b[0;34m=\u001b[0m\u001b[0msource_data\u001b[0m\u001b[0;34m)\u001b[0m\u001b[0;34m\u001b[0m\u001b[0;34m\u001b[0m\u001b[0m\n\u001b[0m",
      "\u001b[0;32m~/spikeinterface/nwb-conversion-tools/nwb_conversion_tools/nwbconverter.py\u001b[0m in \u001b[0;36m__init__\u001b[0;34m(self, source_data)\u001b[0m\n\u001b[1;32m     65\u001b[0m \u001b[0;34m\u001b[0m\u001b[0m\n\u001b[1;32m     66\u001b[0m         \u001b[0;31m# If data is valid, proceed to instantiate DataInterface objects\u001b[0m\u001b[0;34m\u001b[0m\u001b[0;34m\u001b[0m\u001b[0;34m\u001b[0m\u001b[0m\n\u001b[0;32m---> 67\u001b[0;31m         self.data_interface_objects = {\n\u001b[0m\u001b[1;32m     68\u001b[0m             \u001b[0mname\u001b[0m\u001b[0;34m:\u001b[0m \u001b[0mdata_interface\u001b[0m\u001b[0;34m(\u001b[0m\u001b[0;34m**\u001b[0m\u001b[0msource_data\u001b[0m\u001b[0;34m[\u001b[0m\u001b[0mname\u001b[0m\u001b[0;34m]\u001b[0m\u001b[0;34m)\u001b[0m\u001b[0;34m\u001b[0m\u001b[0;34m\u001b[0m\u001b[0m\n\u001b[1;32m     69\u001b[0m             \u001b[0;32mfor\u001b[0m \u001b[0mname\u001b[0m\u001b[0;34m,\u001b[0m \u001b[0mdata_interface\u001b[0m \u001b[0;32min\u001b[0m \u001b[0mself\u001b[0m\u001b[0;34m.\u001b[0m\u001b[0mdata_interface_classes\u001b[0m\u001b[0;34m.\u001b[0m\u001b[0mitems\u001b[0m\u001b[0;34m(\u001b[0m\u001b[0;34m)\u001b[0m\u001b[0;34m\u001b[0m\u001b[0;34m\u001b[0m\u001b[0m\n",
      "\u001b[0;32m~/spikeinterface/nwb-conversion-tools/nwb_conversion_tools/nwbconverter.py\u001b[0m in \u001b[0;36m<dictcomp>\u001b[0;34m(.0)\u001b[0m\n\u001b[1;32m     66\u001b[0m         \u001b[0;31m# If data is valid, proceed to instantiate DataInterface objects\u001b[0m\u001b[0;34m\u001b[0m\u001b[0;34m\u001b[0m\u001b[0;34m\u001b[0m\u001b[0m\n\u001b[1;32m     67\u001b[0m         self.data_interface_objects = {\n\u001b[0;32m---> 68\u001b[0;31m             \u001b[0mname\u001b[0m\u001b[0;34m:\u001b[0m \u001b[0mdata_interface\u001b[0m\u001b[0;34m(\u001b[0m\u001b[0;34m**\u001b[0m\u001b[0msource_data\u001b[0m\u001b[0;34m[\u001b[0m\u001b[0mname\u001b[0m\u001b[0;34m]\u001b[0m\u001b[0;34m)\u001b[0m\u001b[0;34m\u001b[0m\u001b[0;34m\u001b[0m\u001b[0m\n\u001b[0m\u001b[1;32m     69\u001b[0m             \u001b[0;32mfor\u001b[0m \u001b[0mname\u001b[0m\u001b[0;34m,\u001b[0m \u001b[0mdata_interface\u001b[0m \u001b[0;32min\u001b[0m \u001b[0mself\u001b[0m\u001b[0;34m.\u001b[0m\u001b[0mdata_interface_classes\u001b[0m\u001b[0;34m.\u001b[0m\u001b[0mitems\u001b[0m\u001b[0;34m(\u001b[0m\u001b[0;34m)\u001b[0m\u001b[0;34m\u001b[0m\u001b[0;34m\u001b[0m\u001b[0m\n\u001b[1;32m     70\u001b[0m             \u001b[0;32mif\u001b[0m \u001b[0mname\u001b[0m \u001b[0;32min\u001b[0m \u001b[0msource_data\u001b[0m\u001b[0;34m\u001b[0m\u001b[0;34m\u001b[0m\u001b[0m\n",
      "\u001b[0;32m/tmp/ipykernel_22608/1703049047.py\u001b[0m in \u001b[0;36m__init__\u001b[0;34m(self, **source_data)\u001b[0m\n\u001b[1;32m     36\u001b[0m \u001b[0;34m\u001b[0m\u001b[0m\n\u001b[1;32m     37\u001b[0m     \u001b[0;32mdef\u001b[0m \u001b[0m__init__\u001b[0m\u001b[0;34m(\u001b[0m\u001b[0mself\u001b[0m\u001b[0;34m,\u001b[0m \u001b[0;34m**\u001b[0m\u001b[0msource_data\u001b[0m\u001b[0;34m)\u001b[0m\u001b[0;34m:\u001b[0m\u001b[0;34m\u001b[0m\u001b[0;34m\u001b[0m\u001b[0m\n\u001b[0;32m---> 38\u001b[0;31m         \u001b[0mself\u001b[0m\u001b[0;34m.\u001b[0m\u001b[0mrecording_extractor\u001b[0m \u001b[0;34m=\u001b[0m \u001b[0mAxonaLFPNumpyExtractorWrapper\u001b[0m\u001b[0;34m(\u001b[0m\u001b[0mfilename\u001b[0m\u001b[0;34m)\u001b[0m\u001b[0;34m\u001b[0m\u001b[0;34m\u001b[0m\u001b[0m\n\u001b[0m\u001b[1;32m     39\u001b[0m         \u001b[0mself\u001b[0m\u001b[0;34m.\u001b[0m\u001b[0msubset_channels\u001b[0m \u001b[0;34m=\u001b[0m \u001b[0;32mNone\u001b[0m\u001b[0;34m\u001b[0m\u001b[0;34m\u001b[0m\u001b[0m\n\u001b[1;32m     40\u001b[0m         \u001b[0mself\u001b[0m\u001b[0;34m.\u001b[0m\u001b[0msource_data\u001b[0m \u001b[0;34m=\u001b[0m \u001b[0msource_data\u001b[0m\u001b[0;34m\u001b[0m\u001b[0;34m\u001b[0m\u001b[0m\n",
      "\u001b[0;32m/tmp/ipykernel_22608/1703049047.py\u001b[0m in \u001b[0;36mAxonaLFPNumpyExtractorWrapper\u001b[0;34m(filename)\u001b[0m\n\u001b[1;32m     15\u001b[0m     \"\"\"\n\u001b[1;32m     16\u001b[0m     return se.NumpyRecordingExtractor(\n\u001b[0;32m---> 17\u001b[0;31m         \u001b[0mtimeseries\u001b[0m\u001b[0;34m=\u001b[0m\u001b[0mread_all_eeg_file_lfp_data\u001b[0m\u001b[0;34m(\u001b[0m\u001b[0mfilename\u001b[0m\u001b[0;34m)\u001b[0m\u001b[0;34m,\u001b[0m\u001b[0;34m\u001b[0m\u001b[0;34m\u001b[0m\u001b[0m\n\u001b[0m\u001b[1;32m     18\u001b[0m         \u001b[0msampling_frequency\u001b[0m\u001b[0;34m=\u001b[0m\u001b[0mget_eeg_sampling_frequency\u001b[0m\u001b[0;34m(\u001b[0m\u001b[0mfilename\u001b[0m\u001b[0;34m)\u001b[0m\u001b[0;34m\u001b[0m\u001b[0;34m\u001b[0m\u001b[0m\n\u001b[1;32m     19\u001b[0m     )\n",
      "\u001b[0;32m/tmp/ipykernel_22608/1816662548.py\u001b[0m in \u001b[0;36mread_all_eeg_file_lfp_data\u001b[0;34m(filename)\u001b[0m\n\u001b[1;32m     22\u001b[0m     \u001b[0;32mfor\u001b[0m \u001b[0mfname\u001b[0m \u001b[0;32min\u001b[0m \u001b[0mfilename_list\u001b[0m\u001b[0;34m:\u001b[0m\u001b[0;34m\u001b[0m\u001b[0;34m\u001b[0m\u001b[0m\n\u001b[1;32m     23\u001b[0m \u001b[0;34m\u001b[0m\u001b[0m\n\u001b[0;32m---> 24\u001b[0;31m         \u001b[0msampling_rates\u001b[0m\u001b[0;34m.\u001b[0m\u001b[0madd\u001b[0m\u001b[0;34m(\u001b[0m\u001b[0mget_eeg_sampling_frequency\u001b[0m\u001b[0;34m(\u001b[0m\u001b[0mparent_path\u001b[0m \u001b[0;34m/\u001b[0m \u001b[0mfname\u001b[0m\u001b[0;34m)\u001b[0m\u001b[0;34m)\u001b[0m\u001b[0;34m\u001b[0m\u001b[0;34m\u001b[0m\u001b[0m\n\u001b[0m\u001b[1;32m     25\u001b[0m \u001b[0;34m\u001b[0m\u001b[0m\n\u001b[1;32m     26\u001b[0m         \u001b[0meeg_memmaps\u001b[0m\u001b[0;34m.\u001b[0m\u001b[0mappend\u001b[0m\u001b[0;34m(\u001b[0m\u001b[0mread_eeg_file_lfp_data\u001b[0m\u001b[0;34m(\u001b[0m\u001b[0mparent_path\u001b[0m \u001b[0;34m/\u001b[0m \u001b[0mfname\u001b[0m\u001b[0;34m)\u001b[0m\u001b[0;34m)\u001b[0m\u001b[0;34m\u001b[0m\u001b[0;34m\u001b[0m\u001b[0m\n",
      "\u001b[0;32m/tmp/ipykernel_22608/2042153197.py\u001b[0m in \u001b[0;36mget_eeg_sampling_frequency\u001b[0;34m(filename)\u001b[0m\n\u001b[1;32m     13\u001b[0m         \u001b[0mSampling\u001b[0m \u001b[0mfrequency\u001b[0m\u001b[0;34m\u001b[0m\u001b[0;34m\u001b[0m\u001b[0m\n\u001b[1;32m     14\u001b[0m     \"\"\"\n\u001b[0;32m---> 15\u001b[0;31m     \u001b[0mFs_entry\u001b[0m \u001b[0;34m=\u001b[0m \u001b[0mparse_generic_header\u001b[0m\u001b[0;34m(\u001b[0m\u001b[0meeg_fname\u001b[0m\u001b[0;34m,\u001b[0m \u001b[0;34m[\u001b[0m\u001b[0;34m'sample_rate'\u001b[0m\u001b[0;34m]\u001b[0m\u001b[0;34m)\u001b[0m\u001b[0;34m\u001b[0m\u001b[0;34m\u001b[0m\u001b[0m\n\u001b[0m\u001b[1;32m     16\u001b[0m     \u001b[0mFs\u001b[0m \u001b[0;34m=\u001b[0m \u001b[0mint\u001b[0m\u001b[0;34m(\u001b[0m\u001b[0mfloat\u001b[0m\u001b[0;34m(\u001b[0m\u001b[0mFs_entry\u001b[0m\u001b[0;34m.\u001b[0m\u001b[0mget\u001b[0m\u001b[0;34m(\u001b[0m\u001b[0;34m'sample_rate'\u001b[0m\u001b[0;34m)\u001b[0m\u001b[0;34m.\u001b[0m\u001b[0msplit\u001b[0m\u001b[0;34m(\u001b[0m\u001b[0;34m' '\u001b[0m\u001b[0;34m)\u001b[0m\u001b[0;34m[\u001b[0m\u001b[0;36m0\u001b[0m\u001b[0;34m]\u001b[0m\u001b[0;34m)\u001b[0m\u001b[0;34m)\u001b[0m\u001b[0;34m\u001b[0m\u001b[0;34m\u001b[0m\u001b[0m\n\u001b[1;32m     17\u001b[0m \u001b[0;34m\u001b[0m\u001b[0m\n",
      "\u001b[0;31mNameError\u001b[0m: name 'parse_generic_header' is not defined"
     ]
    }
   ],
   "source": [
    "# Specify source data\n",
    "\n",
    "source_data = dict(\n",
    "    AxonaPositionDataInterface=dict(\n",
    "        filename=eeg_fname.replace('.eeg', '.set')\n",
    "    ),\n",
    "    #AxonaRecordingExtractorInterface=dict(\n",
    "    #    filename=eeg_fname.replace('.eeg', '.set')\n",
    "    #),\n",
    "    AxonaLFPDataInterface=dict(\n",
    "        filename=eeg_fname\n",
    "    )\n",
    ")\n",
    "print(json.dumps(source_data, indent=2))\n",
    "\n",
    "\n",
    "# Instantiate converter\n",
    "converter = HussainiAxonaNWBConverter(source_data=source_data)"
   ]
  },
  {
   "cell_type": "code",
   "execution_count": 41,
   "id": "727f8aa7",
   "metadata": {
    "scrolled": true
   },
   "outputs": [
    {
     "ename": "ValidationError",
     "evalue": "Additional properties are not allowed ('NWBFile' was unexpected)\n\nFailed validating 'additionalProperties' in schema:\n    {'$id': 'metadata.schema.json',\n     '$schema': 'http://json-schema.org/draft-07/schema#',\n     'additionalProperties': False,\n     'description': 'Schema for the metadata',\n     'properties': {'Ecephys': {'additionalProperties': False,\n                                'properties': {'Device': {'items': {'$ref': '#/properties/Ecephys/properties/definitions/Device'},\n                                                          'minItems': 1,\n                                                          'type': 'array'},\n                                               'ElectricalSeries_lfp': {'additionalProperties': False,\n                                                                        'properties': {'comments': {'default': 'no '\n                                                                                                               'comments',\n                                                                                                    'description': 'Human-readable '\n                                                                                                                   'comments '\n                                                                                                                   'about '\n                                                                                                                   'this '\n                                                                                                                   'TimeSeries '\n                                                                                                                   'dataset',\n                                                                                                    'type': 'string'},\n                                                                                       'conversion': {'default': 1.0,\n                                                                                                      'description': 'Scalar '\n                                                                                                                     'to '\n                                                                                                                     'multiply '\n                                                                                                                     'each '\n                                                                                                                     'element '\n                                                                                                                     'in '\n                                                                                                                     'data '\n                                                                                                                     'to '\n                                                                                                                     'convert '\n                                                                                                                     'it '\n                                                                                                                     'to '\n                                                                                                                     'the '\n                                                                                                                     'specified '\n                                                                                                                     'unit',\n                                                                                                      'type': 'number'},\n                                                                                       'description': {'default': 'no '\n                                                                                                                  'description',\n                                                                                                       'description': 'Description '\n                                                                                                                      'of '\n                                                                                                                      'this '\n                                                                                                                      'TimeSeries '\n                                                                                                                      'dataset',\n                                                                                                       'type': 'string'},\n                                                                                       'filtering': {'description': 'Filtering '\n                                                                                                                    'applied '\n                                                                                                                    'to '\n                                                                                                                    'all '\n                                                                                                                    'channels '\n                                                                                                                    'of '\n                                                                                                                    'the '\n                                                                                                                    'data. '\n                                                                                                                    'For '\n                                                                                                                    'example, '\n                                                                                                                    'if '\n                                                                                                                    'this '\n                                                                                                                    'ElectricalSeries '\n                                                                                                                    'represents '\n                                                                                                                    'high-pass-filtered '\n                                                                                                                    'data '\n                                                                                                                    '(also '\n                                                                                                                    'known '\n                                                                                                                    'as '\n                                                                                                                    'AP '\n                                                                                                                    'Band), '\n                                                                                                                    'then '\n                                                                                                                    'this '\n                                                                                                                    'value '\n                                                                                                                    'could '\n                                                                                                                    'be '\n                                                                                                                    \"'High-pass \"\n                                                                                                                    '4-pole '\n                                                                                                                    'Bessel '\n                                                                                                                    'filter '\n                                                                                                                    'at '\n                                                                                                                    '500 '\n                                                                                                                    \"Hz'. \"\n                                                                                                                    'If '\n                                                                                                                    'this '\n                                                                                                                    'ElectricalSeries '\n                                                                                                                    'represents '\n                                                                                                                    'low-pass-filtered '\n                                                                                                                    'LFP '\n                                                                                                                    'data '\n                                                                                                                    'and '\n                                                                                                                    'the '\n                                                                                                                    'type '\n                                                                                                                    'of '\n                                                                                                                    'filter '\n                                                                                                                    'is '\n                                                                                                                    'unknown, '\n                                                                                                                    'then '\n                                                                                                                    'this '\n                                                                                                                    'value '\n                                                                                                                    'could '\n                                                                                                                    'be '\n                                                                                                                    \"'Low-pass \"\n                                                                                                                    'filter '\n                                                                                                                    'at '\n                                                                                                                    '300 '\n                                                                                                                    \"Hz'. \"\n                                                                                                                    'If '\n                                                                                                                    'a '\n                                                                                                                    'non-standard '\n                                                                                                                    'filter '\n                                                                                                                    'type '\n                                                                                                                    'is '\n                                                                                                                    'used, '\n                                                                                                                    'provide '\n                                                                                                                    'as '\n                                                                                                                    'much '\n                                                                                                                    'detail '\n                                                                                                                    'about '\n                                                                                                                    'the '\n                                                                                                                    'filter '\n                                                                                                                    'properties '\n                                                                                                                    'as '\n                                                                                                                    'possible.',\n                                                                                                     'type': 'string'},\n                                                                                       'name': {'description': 'The '\n                                                                                                               'name '\n                                                                                                               'of '\n                                                                                                               'this '\n                                                                                                               'TimeSeries '\n                                                                                                               'dataset',\n                                                                                                'type': 'string'},\n                                                                                       'rate': {'description': 'Sampling '\n                                                                                                               'rate '\n                                                                                                               'in '\n                                                                                                               'Hz',\n                                                                                                'type': 'number'},\n                                                                                       'resolution': {'default': -1.0,\n                                                                                                      'description': 'The '\n                                                                                                                     'smallest '\n                                                                                                                     'meaningful '\n                                                                                                                     'difference '\n                                                                                                                     '(in '\n                                                                                                                     'specified '\n                                                                                                                     'unit) '\n                                                                                                                     'between '\n                                                                                                                     'values '\n                                                                                                                     'in '\n                                                                                                                     'data',\n                                                                                                      'type': 'number'},\n                                                                                       'starting_time': {'description': 'The '\n                                                                                                                        'timestamp '\n                                                                                                                        'of '\n                                                                                                                        'the '\n                                                                                                                        'first '\n                                                                                                                        'sample',\n                                                                                                         'type': 'number'}},\n                                                                        'required': ['name'],\n                                                                        'tag': 'pynwb.ecephys.ElectricalSeries',\n                                                                        'type': 'object'},\n                                               'ElectricalSeries_raw': {'additionalProperties': False,\n                                                                        'properties': {'comments': {'default': 'no '\n                                                                                                               'comments',\n                                                                                                    'description': 'Human-readable '\n                                                                                                                   'comments '\n                                                                                                                   'about '\n                                                                                                                   'this '\n                                                                                                                   'TimeSeries '\n                                                                                                                   'dataset',\n                                                                                                    'type': 'string'},\n                                                                                       'conversion': {'default': 1.0,\n                                                                                                      'description': 'Scalar '\n                                                                                                                     'to '\n                                                                                                                     'multiply '\n                                                                                                                     'each '\n                                                                                                                     'element '\n                                                                                                                     'in '\n                                                                                                                     'data '\n                                                                                                                     'to '\n                                                                                                                     'convert '\n                                                                                                                     'it '\n                                                                                                                     'to '\n                                                                                                                     'the '\n                                                                                                                     'specified '\n                                                                                                                     'unit',\n                                                                                                      'type': 'number'},\n                                                                                       'description': {'default': 'no '\n                                                                                                                  'description',\n                                                                                                       'description': 'Description '\n                                                                                                                      'of '\n                                                                                                                      'this '\n                                                                                                                      'TimeSeries '\n                                                                                                                      'dataset',\n                                                                                                       'type': 'string'},\n                                                                                       'filtering': {'description': 'Filtering '\n                                                                                                                    'applied '\n                                                                                                                    'to '\n                                                                                                                    'all '\n                                                                                                                    'channels '\n                                                                                                                    'of '\n                                                                                                                    'the '\n                                                                                                                    'data. '\n                                                                                                                    'For '\n                                                                                                                    'example, '\n                                                                                                                    'if '\n                                                                                                                    'this '\n                                                                                                                    'ElectricalSeries '\n                                                                                                                    'represents '\n                                                                                                                    'high-pass-filtered '\n                                                                                                                    'data '\n                                                                                                                    '(also '\n                                                                                                                    'known '\n                                                                                                                    'as '\n                                                                                                                    'AP '\n                                                                                                                    'Band), '\n                                                                                                                    'then '\n                                                                                                                    'this '\n                                                                                                                    'value '\n                                                                                                                    'could '\n                                                                                                                    'be '\n                                                                                                                    \"'High-pass \"\n                                                                                                                    '4-pole '\n                                                                                                                    'Bessel '\n                                                                                                                    'filter '\n                                                                                                                    'at '\n                                                                                                                    '500 '\n                                                                                                                    \"Hz'. \"\n                                                                                                                    'If '\n                                                                                                                    'this '\n                                                                                                                    'ElectricalSeries '\n                                                                                                                    'represents '\n                                                                                                                    'low-pass-filtered '\n                                                                                                                    'LFP '\n                                                                                                                    'data '\n                                                                                                                    'and '\n                                                                                                                    'the '\n                                                                                                                    'type '\n                                                                                                                    'of '\n                                                                                                                    'filter '\n                                                                                                                    'is '\n                                                                                                                    'unknown, '\n                                                                                                                    'then '\n                                                                                                                    'this '\n                                                                                                                    'value '\n                                                                                                                    'could '\n                                                                                                                    'be '\n                                                                                                                    \"'Low-pass \"\n                                                                                                                    'filter '\n                                                                                                                    'at '\n                                                                                                                    '300 '\n                                                                                                                    \"Hz'. \"\n                                                                                                                    'If '\n                                                                                                                    'a '\n                                                                                                                    'non-standard '\n                                                                                                                    'filter '\n                                                                                                                    'type '\n                                                                                                                    'is '\n                                                                                                                    'used, '\n                                                                                                                    'provide '\n                                                                                                                    'as '\n                                                                                                                    'much '\n                                                                                                                    'detail '\n                                                                                                                    'about '\n                                                                                                                    'the '\n                                                                                                                    'filter '\n                                                                                                                    'properties '\n                                                                                                                    'as '\n                                                                                                                    'possible.',\n                                                                                                     'type': 'string'},\n                                                                                       'name': {'description': 'The '\n                                                                                                               'name '\n                                                                                                               'of '\n                                                                                                               'this '\n                                                                                                               'TimeSeries '\n                                                                                                               'dataset',\n                                                                                                'type': 'string'},\n                                                                                       'rate': {'description': 'Sampling '\n                                                                                                               'rate '\n                                                                                                               'in '\n                                                                                                               'Hz',\n                                                                                                'type': 'number'},\n                                                                                       'resolution': {'default': -1.0,\n                                                                                                      'description': 'The '\n                                                                                                                     'smallest '\n                                                                                                                     'meaningful '\n                                                                                                                     'difference '\n                                                                                                                     '(in '\n                                                                                                                     'specified '\n                                                                                                                     'unit) '\n                                                                                                                     'between '\n                                                                                                                     'values '\n                                                                                                                     'in '\n                                                                                                                     'data',\n                                                                                                      'type': 'number'},\n                                                                                       'starting_time': {'description': 'The '\n                                                                                                                        'timestamp '\n                                                                                                                        'of '\n                                                                                                                        'the '\n                                                                                                                        'first '\n                                                                                                                        'sample',\n                                                                                                         'type': 'number'}},\n                                                                        'required': ['name'],\n                                                                        'tag': 'pynwb.ecephys.ElectricalSeries',\n                                                                        'type': 'object'},\n                                               'ElectrodeGroup': {'items': {'$ref': '#/properties/Ecephys/properties/definitions/ElectrodeGroup'},\n                                                                  'minItems': 1,\n                                                                  'type': 'array'},\n                                               'Electrodes': {'items': {'$ref': '#/properties/Ecephys/properties/definitions/Electrodes'},\n                                                              'minItems': 0,\n                                                              'renderForm': False,\n                                                              'type': 'array'},\n                                               'definitions': {'Device': {'additionalProperties': False,\n                                                                          'properties': {'description': {'description': 'Description '\n                                                                                                                        'of '\n                                                                                                                        'the '\n                                                                                                                        'device '\n                                                                                                                        '(e.g., '\n                                                                                                                        'model, '\n                                                                                                                        'firmware '\n                                                                                                                        'version, '\n                                                                                                                        'processing '\n                                                                                                                        'software '\n                                                                                                                        'version, '\n                                                                                                                        'etc.)',\n                                                                                                         'type': 'string'},\n                                                                                         'manufacturer': {'description': 'the '\n                                                                                                                         'name '\n                                                                                                                         'of '\n                                                                                                                         'the '\n                                                                                                                         'manufacturer '\n                                                                                                                         'of '\n                                                                                                                         'this '\n                                                                                                                         'device',\n                                                                                                          'type': 'string'},\n                                                                                         'name': {'description': 'the '\n                                                                                                                 'name '\n                                                                                                                 'of '\n                                                                                                                 'this '\n                                                                                                                 'device',\n                                                                                                  'type': 'string'}},\n                                                                          'required': ['name'],\n                                                                          'tag': 'pynwb.device.Device',\n                                                                          'type': 'object'},\n                                                               'ElectrodeGroup': {'additionalProperties': False,\n                                                                                  'properties': {'description': {'description': 'description '\n                                                                                                                                'of '\n                                                                                                                                'this '\n                                                                                                                                'electrode '\n                                                                                                                                'group',\n                                                                                                                 'type': 'string'},\n                                                                                                 'device': {'description': 'the '\n                                                                                                                           'device '\n                                                                                                                           'that '\n                                                                                                                           'was '\n                                                                                                                           'used '\n                                                                                                                           'to '\n                                                                                                                           'record '\n                                                                                                                           'from '\n                                                                                                                           'this '\n                                                                                                                           'electrode '\n                                                                                                                           'group',\n                                                                                                            'target': 'pynwb.device.Device',\n                                                                                                            'type': 'string'},\n                                                                                                 'location': {'description': 'description '\n                                                                                                                             'of '\n                                                                                                                             'location '\n                                                                                                                             'of '\n                                                                                                                             'this '\n                                                                                                                             'electrode '\n                                                                                                                             'group',\n                                                                                                              'type': 'string'},\n                                                                                                 'name': {'description': 'the '\n                                                                                                                         'name '\n                                                                                                                         'of '\n                                                                                                                         'this '\n                                                                                                                         'electrode',\n                                                                                                          'type': 'string'}},\n                                                                                  'required': ['name',\n                                                                                               'description',\n                                                                                               'location',\n                                                                                               'device'],\n                                                                                  'tag': 'pynwb.ecephys.ElectrodeGroup',\n                                                                                  'type': 'object'},\n                                                               'Electrodes': {'additionalProperties': False,\n                                                                              'properties': {'description': {'description': 'description '\n                                                                                                                            'of '\n                                                                                                                            'this '\n                                                                                                                            'electrodes '\n                                                                                                                            'column',\n                                                                                                             'type': 'string'},\n                                                                                             'name': {'description': 'name '\n                                                                                                                     'of '\n                                                                                                                     'this '\n                                                                                                                     'electrodes '\n                                                                                                                     'column',\n                                                                                                      'type': 'string'}},\n                                                                              'required': ['name'],\n                                                                              'type': 'object'}}},\n                                'required': ['Device', 'ElectrodeGroup'],\n                                'tag': 'Ecephys',\n                                'type': 'object'}},\n     'required': [],\n     'title': 'Metadata',\n     'type': 'object',\n     'version': '0.1.0'}\n\nOn instance:\n    {'Ecephys': {'Device': [{'description': 'Axona DacqUSB, '\n                                            'sw_version=1.2.2.16',\n                             'manufacturer': 'Axona',\n                             'name': 'Axona'}],\n                 'ElectricalSeries_lfp': {'description': 'Local field '\n                                                         'potential '\n                                                         'signal.',\n                                          'name': 'LFP'},\n                 'ElectrodeGroup': [{'description': 'Group 0 electrodes.',\n                                     'device': 'Axona',\n                                     'location': '',\n                                     'name': 'Group0'}],\n                 'Electrodes': [{'description': 'The name of the '\n                                                'ElectrodeGroup this '\n                                                'electrode is a part of.',\n                                 'name': 'group_name'}]},\n     'NWBFile': {'experimenter': ['Abid'],\n                 'session_description': '',\n                 'session_start_time': '2020-10-04T11:07:07'}}",
     "output_type": "error",
     "traceback": [
      "\u001b[0;31m---------------------------------------------------------------------------\u001b[0m",
      "\u001b[0;31mValidationError\u001b[0m                           Traceback (most recent call last)",
      "\u001b[0;32m/tmp/ipykernel_18857/383033430.py\u001b[0m in \u001b[0;36m<module>\u001b[0;34m\u001b[0m\n\u001b[0;32m----> 1\u001b[0;31m validate(\n\u001b[0m\u001b[1;32m      2\u001b[0m     \u001b[0minstance\u001b[0m\u001b[0;34m=\u001b[0m\u001b[0mlfp_interface\u001b[0m\u001b[0;34m.\u001b[0m\u001b[0mget_metadata\u001b[0m\u001b[0;34m(\u001b[0m\u001b[0;34m)\u001b[0m\u001b[0;34m,\u001b[0m\u001b[0;34m\u001b[0m\u001b[0;34m\u001b[0m\u001b[0m\n\u001b[1;32m      3\u001b[0m     \u001b[0mschema\u001b[0m\u001b[0;34m=\u001b[0m\u001b[0mlfp_interface\u001b[0m\u001b[0;34m.\u001b[0m\u001b[0mget_metadata_schema\u001b[0m\u001b[0;34m(\u001b[0m\u001b[0;34m)\u001b[0m\u001b[0;34m\u001b[0m\u001b[0;34m\u001b[0m\u001b[0m\n\u001b[1;32m      4\u001b[0m )\n",
      "\u001b[0;32m~/spikeinterface/hussaini-test-pipeline/venv/lib/python3.8/site-packages/jsonschema/validators.py\u001b[0m in \u001b[0;36mvalidate\u001b[0;34m(instance, schema, cls, *args, **kwargs)\u001b[0m\n\u001b[1;32m    932\u001b[0m     \u001b[0merror\u001b[0m \u001b[0;34m=\u001b[0m \u001b[0mexceptions\u001b[0m\u001b[0;34m.\u001b[0m\u001b[0mbest_match\u001b[0m\u001b[0;34m(\u001b[0m\u001b[0mvalidator\u001b[0m\u001b[0;34m.\u001b[0m\u001b[0miter_errors\u001b[0m\u001b[0;34m(\u001b[0m\u001b[0minstance\u001b[0m\u001b[0;34m)\u001b[0m\u001b[0;34m)\u001b[0m\u001b[0;34m\u001b[0m\u001b[0;34m\u001b[0m\u001b[0m\n\u001b[1;32m    933\u001b[0m     \u001b[0;32mif\u001b[0m \u001b[0merror\u001b[0m \u001b[0;32mis\u001b[0m \u001b[0;32mnot\u001b[0m \u001b[0;32mNone\u001b[0m\u001b[0;34m:\u001b[0m\u001b[0;34m\u001b[0m\u001b[0;34m\u001b[0m\u001b[0m\n\u001b[0;32m--> 934\u001b[0;31m         \u001b[0;32mraise\u001b[0m \u001b[0merror\u001b[0m\u001b[0;34m\u001b[0m\u001b[0;34m\u001b[0m\u001b[0m\n\u001b[0m\u001b[1;32m    935\u001b[0m \u001b[0;34m\u001b[0m\u001b[0m\n\u001b[1;32m    936\u001b[0m \u001b[0;34m\u001b[0m\u001b[0m\n",
      "\u001b[0;31mValidationError\u001b[0m: Additional properties are not allowed ('NWBFile' was unexpected)\n\nFailed validating 'additionalProperties' in schema:\n    {'$id': 'metadata.schema.json',\n     '$schema': 'http://json-schema.org/draft-07/schema#',\n     'additionalProperties': False,\n     'description': 'Schema for the metadata',\n     'properties': {'Ecephys': {'additionalProperties': False,\n                                'properties': {'Device': {'items': {'$ref': '#/properties/Ecephys/properties/definitions/Device'},\n                                                          'minItems': 1,\n                                                          'type': 'array'},\n                                               'ElectricalSeries_lfp': {'additionalProperties': False,\n                                                                        'properties': {'comments': {'default': 'no '\n                                                                                                               'comments',\n                                                                                                    'description': 'Human-readable '\n                                                                                                                   'comments '\n                                                                                                                   'about '\n                                                                                                                   'this '\n                                                                                                                   'TimeSeries '\n                                                                                                                   'dataset',\n                                                                                                    'type': 'string'},\n                                                                                       'conversion': {'default': 1.0,\n                                                                                                      'description': 'Scalar '\n                                                                                                                     'to '\n                                                                                                                     'multiply '\n                                                                                                                     'each '\n                                                                                                                     'element '\n                                                                                                                     'in '\n                                                                                                                     'data '\n                                                                                                                     'to '\n                                                                                                                     'convert '\n                                                                                                                     'it '\n                                                                                                                     'to '\n                                                                                                                     'the '\n                                                                                                                     'specified '\n                                                                                                                     'unit',\n                                                                                                      'type': 'number'},\n                                                                                       'description': {'default': 'no '\n                                                                                                                  'description',\n                                                                                                       'description': 'Description '\n                                                                                                                      'of '\n                                                                                                                      'this '\n                                                                                                                      'TimeSeries '\n                                                                                                                      'dataset',\n                                                                                                       'type': 'string'},\n                                                                                       'filtering': {'description': 'Filtering '\n                                                                                                                    'applied '\n                                                                                                                    'to '\n                                                                                                                    'all '\n                                                                                                                    'channels '\n                                                                                                                    'of '\n                                                                                                                    'the '\n                                                                                                                    'data. '\n                                                                                                                    'For '\n                                                                                                                    'example, '\n                                                                                                                    'if '\n                                                                                                                    'this '\n                                                                                                                    'ElectricalSeries '\n                                                                                                                    'represents '\n                                                                                                                    'high-pass-filtered '\n                                                                                                                    'data '\n                                                                                                                    '(also '\n                                                                                                                    'known '\n                                                                                                                    'as '\n                                                                                                                    'AP '\n                                                                                                                    'Band), '\n                                                                                                                    'then '\n                                                                                                                    'this '\n                                                                                                                    'value '\n                                                                                                                    'could '\n                                                                                                                    'be '\n                                                                                                                    \"'High-pass \"\n                                                                                                                    '4-pole '\n                                                                                                                    'Bessel '\n                                                                                                                    'filter '\n                                                                                                                    'at '\n                                                                                                                    '500 '\n                                                                                                                    \"Hz'. \"\n                                                                                                                    'If '\n                                                                                                                    'this '\n                                                                                                                    'ElectricalSeries '\n                                                                                                                    'represents '\n                                                                                                                    'low-pass-filtered '\n                                                                                                                    'LFP '\n                                                                                                                    'data '\n                                                                                                                    'and '\n                                                                                                                    'the '\n                                                                                                                    'type '\n                                                                                                                    'of '\n                                                                                                                    'filter '\n                                                                                                                    'is '\n                                                                                                                    'unknown, '\n                                                                                                                    'then '\n                                                                                                                    'this '\n                                                                                                                    'value '\n                                                                                                                    'could '\n                                                                                                                    'be '\n                                                                                                                    \"'Low-pass \"\n                                                                                                                    'filter '\n                                                                                                                    'at '\n                                                                                                                    '300 '\n                                                                                                                    \"Hz'. \"\n                                                                                                                    'If '\n                                                                                                                    'a '\n                                                                                                                    'non-standard '\n                                                                                                                    'filter '\n                                                                                                                    'type '\n                                                                                                                    'is '\n                                                                                                                    'used, '\n                                                                                                                    'provide '\n                                                                                                                    'as '\n                                                                                                                    'much '\n                                                                                                                    'detail '\n                                                                                                                    'about '\n                                                                                                                    'the '\n                                                                                                                    'filter '\n                                                                                                                    'properties '\n                                                                                                                    'as '\n                                                                                                                    'possible.',\n                                                                                                     'type': 'string'},\n                                                                                       'name': {'description': 'The '\n                                                                                                               'name '\n                                                                                                               'of '\n                                                                                                               'this '\n                                                                                                               'TimeSeries '\n                                                                                                               'dataset',\n                                                                                                'type': 'string'},\n                                                                                       'rate': {'description': 'Sampling '\n                                                                                                               'rate '\n                                                                                                               'in '\n                                                                                                               'Hz',\n                                                                                                'type': 'number'},\n                                                                                       'resolution': {'default': -1.0,\n                                                                                                      'description': 'The '\n                                                                                                                     'smallest '\n                                                                                                                     'meaningful '\n                                                                                                                     'difference '\n                                                                                                                     '(in '\n                                                                                                                     'specified '\n                                                                                                                     'unit) '\n                                                                                                                     'between '\n                                                                                                                     'values '\n                                                                                                                     'in '\n                                                                                                                     'data',\n                                                                                                      'type': 'number'},\n                                                                                       'starting_time': {'description': 'The '\n                                                                                                                        'timestamp '\n                                                                                                                        'of '\n                                                                                                                        'the '\n                                                                                                                        'first '\n                                                                                                                        'sample',\n                                                                                                         'type': 'number'}},\n                                                                        'required': ['name'],\n                                                                        'tag': 'pynwb.ecephys.ElectricalSeries',\n                                                                        'type': 'object'},\n                                               'ElectricalSeries_raw': {'additionalProperties': False,\n                                                                        'properties': {'comments': {'default': 'no '\n                                                                                                               'comments',\n                                                                                                    'description': 'Human-readable '\n                                                                                                                   'comments '\n                                                                                                                   'about '\n                                                                                                                   'this '\n                                                                                                                   'TimeSeries '\n                                                                                                                   'dataset',\n                                                                                                    'type': 'string'},\n                                                                                       'conversion': {'default': 1.0,\n                                                                                                      'description': 'Scalar '\n                                                                                                                     'to '\n                                                                                                                     'multiply '\n                                                                                                                     'each '\n                                                                                                                     'element '\n                                                                                                                     'in '\n                                                                                                                     'data '\n                                                                                                                     'to '\n                                                                                                                     'convert '\n                                                                                                                     'it '\n                                                                                                                     'to '\n                                                                                                                     'the '\n                                                                                                                     'specified '\n                                                                                                                     'unit',\n                                                                                                      'type': 'number'},\n                                                                                       'description': {'default': 'no '\n                                                                                                                  'description',\n                                                                                                       'description': 'Description '\n                                                                                                                      'of '\n                                                                                                                      'this '\n                                                                                                                      'TimeSeries '\n                                                                                                                      'dataset',\n                                                                                                       'type': 'string'},\n                                                                                       'filtering': {'description': 'Filtering '\n                                                                                                                    'applied '\n                                                                                                                    'to '\n                                                                                                                    'all '\n                                                                                                                    'channels '\n                                                                                                                    'of '\n                                                                                                                    'the '\n                                                                                                                    'data. '\n                                                                                                                    'For '\n                                                                                                                    'example, '\n                                                                                                                    'if '\n                                                                                                                    'this '\n                                                                                                                    'ElectricalSeries '\n                                                                                                                    'represents '\n                                                                                                                    'high-pass-filtered '\n                                                                                                                    'data '\n                                                                                                                    '(also '\n                                                                                                                    'known '\n                                                                                                                    'as '\n                                                                                                                    'AP '\n                                                                                                                    'Band), '\n                                                                                                                    'then '\n                                                                                                                    'this '\n                                                                                                                    'value '\n                                                                                                                    'could '\n                                                                                                                    'be '\n                                                                                                                    \"'High-pass \"\n                                                                                                                    '4-pole '\n                                                                                                                    'Bessel '\n                                                                                                                    'filter '\n                                                                                                                    'at '\n                                                                                                                    '500 '\n                                                                                                                    \"Hz'. \"\n                                                                                                                    'If '\n                                                                                                                    'this '\n                                                                                                                    'ElectricalSeries '\n                                                                                                                    'represents '\n                                                                                                                    'low-pass-filtered '\n                                                                                                                    'LFP '\n                                                                                                                    'data '\n                                                                                                                    'and '\n                                                                                                                    'the '\n                                                                                                                    'type '\n                                                                                                                    'of '\n                                                                                                                    'filter '\n                                                                                                                    'is '\n                                                                                                                    'unknown, '\n                                                                                                                    'then '\n                                                                                                                    'this '\n                                                                                                                    'value '\n                                                                                                                    'could '\n                                                                                                                    'be '\n                                                                                                                    \"'Low-pass \"\n                                                                                                                    'filter '\n                                                                                                                    'at '\n                                                                                                                    '300 '\n                                                                                                                    \"Hz'. \"\n                                                                                                                    'If '\n                                                                                                                    'a '\n                                                                                                                    'non-standard '\n                                                                                                                    'filter '\n                                                                                                                    'type '\n                                                                                                                    'is '\n                                                                                                                    'used, '\n                                                                                                                    'provide '\n                                                                                                                    'as '\n                                                                                                                    'much '\n                                                                                                                    'detail '\n                                                                                                                    'about '\n                                                                                                                    'the '\n                                                                                                                    'filter '\n                                                                                                                    'properties '\n                                                                                                                    'as '\n                                                                                                                    'possible.',\n                                                                                                     'type': 'string'},\n                                                                                       'name': {'description': 'The '\n                                                                                                               'name '\n                                                                                                               'of '\n                                                                                                               'this '\n                                                                                                               'TimeSeries '\n                                                                                                               'dataset',\n                                                                                                'type': 'string'},\n                                                                                       'rate': {'description': 'Sampling '\n                                                                                                               'rate '\n                                                                                                               'in '\n                                                                                                               'Hz',\n                                                                                                'type': 'number'},\n                                                                                       'resolution': {'default': -1.0,\n                                                                                                      'description': 'The '\n                                                                                                                     'smallest '\n                                                                                                                     'meaningful '\n                                                                                                                     'difference '\n                                                                                                                     '(in '\n                                                                                                                     'specified '\n                                                                                                                     'unit) '\n                                                                                                                     'between '\n                                                                                                                     'values '\n                                                                                                                     'in '\n                                                                                                                     'data',\n                                                                                                      'type': 'number'},\n                                                                                       'starting_time': {'description': 'The '\n                                                                                                                        'timestamp '\n                                                                                                                        'of '\n                                                                                                                        'the '\n                                                                                                                        'first '\n                                                                                                                        'sample',\n                                                                                                         'type': 'number'}},\n                                                                        'required': ['name'],\n                                                                        'tag': 'pynwb.ecephys.ElectricalSeries',\n                                                                        'type': 'object'},\n                                               'ElectrodeGroup': {'items': {'$ref': '#/properties/Ecephys/properties/definitions/ElectrodeGroup'},\n                                                                  'minItems': 1,\n                                                                  'type': 'array'},\n                                               'Electrodes': {'items': {'$ref': '#/properties/Ecephys/properties/definitions/Electrodes'},\n                                                              'minItems': 0,\n                                                              'renderForm': False,\n                                                              'type': 'array'},\n                                               'definitions': {'Device': {'additionalProperties': False,\n                                                                          'properties': {'description': {'description': 'Description '\n                                                                                                                        'of '\n                                                                                                                        'the '\n                                                                                                                        'device '\n                                                                                                                        '(e.g., '\n                                                                                                                        'model, '\n                                                                                                                        'firmware '\n                                                                                                                        'version, '\n                                                                                                                        'processing '\n                                                                                                                        'software '\n                                                                                                                        'version, '\n                                                                                                                        'etc.)',\n                                                                                                         'type': 'string'},\n                                                                                         'manufacturer': {'description': 'the '\n                                                                                                                         'name '\n                                                                                                                         'of '\n                                                                                                                         'the '\n                                                                                                                         'manufacturer '\n                                                                                                                         'of '\n                                                                                                                         'this '\n                                                                                                                         'device',\n                                                                                                          'type': 'string'},\n                                                                                         'name': {'description': 'the '\n                                                                                                                 'name '\n                                                                                                                 'of '\n                                                                                                                 'this '\n                                                                                                                 'device',\n                                                                                                  'type': 'string'}},\n                                                                          'required': ['name'],\n                                                                          'tag': 'pynwb.device.Device',\n                                                                          'type': 'object'},\n                                                               'ElectrodeGroup': {'additionalProperties': False,\n                                                                                  'properties': {'description': {'description': 'description '\n                                                                                                                                'of '\n                                                                                                                                'this '\n                                                                                                                                'electrode '\n                                                                                                                                'group',\n                                                                                                                 'type': 'string'},\n                                                                                                 'device': {'description': 'the '\n                                                                                                                           'device '\n                                                                                                                           'that '\n                                                                                                                           'was '\n                                                                                                                           'used '\n                                                                                                                           'to '\n                                                                                                                           'record '\n                                                                                                                           'from '\n                                                                                                                           'this '\n                                                                                                                           'electrode '\n                                                                                                                           'group',\n                                                                                                            'target': 'pynwb.device.Device',\n                                                                                                            'type': 'string'},\n                                                                                                 'location': {'description': 'description '\n                                                                                                                             'of '\n                                                                                                                             'location '\n                                                                                                                             'of '\n                                                                                                                             'this '\n                                                                                                                             'electrode '\n                                                                                                                             'group',\n                                                                                                              'type': 'string'},\n                                                                                                 'name': {'description': 'the '\n                                                                                                                         'name '\n                                                                                                                         'of '\n                                                                                                                         'this '\n                                                                                                                         'electrode',\n                                                                                                          'type': 'string'}},\n                                                                                  'required': ['name',\n                                                                                               'description',\n                                                                                               'location',\n                                                                                               'device'],\n                                                                                  'tag': 'pynwb.ecephys.ElectrodeGroup',\n                                                                                  'type': 'object'},\n                                                               'Electrodes': {'additionalProperties': False,\n                                                                              'properties': {'description': {'description': 'description '\n                                                                                                                            'of '\n                                                                                                                            'this '\n                                                                                                                            'electrodes '\n                                                                                                                            'column',\n                                                                                                             'type': 'string'},\n                                                                                             'name': {'description': 'name '\n                                                                                                                     'of '\n                                                                                                                     'this '\n                                                                                                                     'electrodes '\n                                                                                                                     'column',\n                                                                                                      'type': 'string'}},\n                                                                              'required': ['name'],\n                                                                              'type': 'object'}}},\n                                'required': ['Device', 'ElectrodeGroup'],\n                                'tag': 'Ecephys',\n                                'type': 'object'}},\n     'required': [],\n     'title': 'Metadata',\n     'type': 'object',\n     'version': '0.1.0'}\n\nOn instance:\n    {'Ecephys': {'Device': [{'description': 'Axona DacqUSB, '\n                                            'sw_version=1.2.2.16',\n                             'manufacturer': 'Axona',\n                             'name': 'Axona'}],\n                 'ElectricalSeries_lfp': {'description': 'Local field '\n                                                         'potential '\n                                                         'signal.',\n                                          'name': 'LFP'},\n                 'ElectrodeGroup': [{'description': 'Group 0 electrodes.',\n                                     'device': 'Axona',\n                                     'location': '',\n                                     'name': 'Group0'}],\n                 'Electrodes': [{'description': 'The name of the '\n                                                'ElectrodeGroup this '\n                                                'electrode is a part of.',\n                                 'name': 'group_name'}]},\n     'NWBFile': {'experimenter': ['Abid'],\n                 'session_description': '',\n                 'session_start_time': '2020-10-04T11:07:07'}}"
     ]
    }
   ],
   "source": [
    "validate(\n",
    "    instance=lfp_interface.get_metadata(),\n",
    "    schema=lfp_interface.get_metadata_schema()\n",
    ")"
   ]
  },
  {
   "cell_type": "code",
   "execution_count": 42,
   "id": "40122470",
   "metadata": {
    "scrolled": true
   },
   "outputs": [
    {
     "name": "stdout",
     "output_type": "stream",
     "text": [
      "Source data is valid!\n",
      "{\n",
      "  \"NWBFile\": {\n",
      "    \"required\": [\n",
      "      \"session_description\",\n",
      "      \"identifier\",\n",
      "      \"session_start_time\"\n",
      "    ],\n",
      "    \"properties\": {\n",
      "      \"session_description\": {\n",
      "        \"type\": \"string\",\n",
      "        \"format\": \"long\",\n",
      "        \"description\": \"a description of the session where this data was generated\",\n",
      "        \"default\": \"\"\n",
      "      },\n",
      "      \"identifier\": {\n",
      "        \"type\": \"string\",\n",
      "        \"description\": \"a unique text identifier for the file\",\n",
      "        \"default\": \"0b58d457-bd33-4af4-9dba-07a225f61fa2\"\n",
      "      },\n",
      "      \"session_start_time\": {\n",
      "        \"type\": \"string\",\n",
      "        \"description\": \"the start date and time of the recording session\",\n",
      "        \"format\": \"date-time\",\n",
      "        \"default\": \"2020-10-04T11:07:07\"\n",
      "      },\n",
      "      \"experimenter\": {\n",
      "        \"type\": \"array\",\n",
      "        \"items\": {\n",
      "          \"type\": \"string\",\n",
      "          \"title\": \"experimenter\"\n",
      "        },\n",
      "        \"description\": \"name of person who performed experiment\",\n",
      "        \"default\": [\n",
      "          \"Abid\"\n",
      "        ]\n",
      "      },\n",
      "      \"experiment_description\": {\n",
      "        \"type\": \"string\",\n",
      "        \"description\": \"general description of the experiment\"\n",
      "      },\n",
      "      \"session_id\": {\n",
      "        \"type\": \"string\",\n",
      "        \"description\": \"lab-specific ID for the session\"\n",
      "      },\n",
      "      \"institution\": {\n",
      "        \"type\": \"string\",\n",
      "        \"description\": \"institution(s) where experiment is performed\"\n",
      "      },\n",
      "      \"notes\": {\n",
      "        \"type\": \"string\",\n",
      "        \"description\": \"Notes about the experiment.\"\n",
      "      },\n",
      "      \"pharmacology\": {\n",
      "        \"type\": \"string\",\n",
      "        \"description\": \"Description of drugs used, including how and when they were administered. Anesthesia(s), painkiller(s), etc., plus dosage, concentration, etc.\"\n",
      "      },\n",
      "      \"protocol\": {\n",
      "        \"type\": \"string\",\n",
      "        \"description\": \"Experimental protocol, if applicable. E.g., include IACUC protocol\"\n",
      "      },\n",
      "      \"related_publications\": {\n",
      "        \"type\": \"string\",\n",
      "        \"description\": \"Publication information.PMID, DOI, URL, etc. If multiple, concatenate together and describe which is which. such as PMID, DOI, URL, etc\"\n",
      "      },\n",
      "      \"slices\": {\n",
      "        \"type\": \"string\",\n",
      "        \"description\": \"Description of slices, including information about preparation thickness, orientation, temperature and bath solution\"\n",
      "      },\n",
      "      \"source_script\": {\n",
      "        \"type\": \"string\",\n",
      "        \"description\": \"Script file used to create this NWB file.\"\n",
      "      },\n",
      "      \"source_script_file_name\": {\n",
      "        \"type\": \"string\",\n",
      "        \"description\": \"Name of the source_script file\"\n",
      "      },\n",
      "      \"data_collection\": {\n",
      "        \"type\": \"string\",\n",
      "        \"description\": \"Notes about data collection and analysis.\"\n",
      "      },\n",
      "      \"surgery\": {\n",
      "        \"type\": \"string\",\n",
      "        \"description\": \"Narrative description about surgery/surgeries, including date(s) and who performed surgery.\"\n",
      "      },\n",
      "      \"virus\": {\n",
      "        \"type\": \"string\",\n",
      "        \"description\": \"Information about virus(es) used in experiments, including virus ID, source, date made, injection location, volume, etc.\"\n",
      "      },\n",
      "      \"stimulus_notes\": {\n",
      "        \"type\": \"string\",\n",
      "        \"description\": \"Notes about stimuli, such as how and where presented.\"\n",
      "      },\n",
      "      \"lab\": {\n",
      "        \"type\": \"string\",\n",
      "        \"description\": \"lab where experiment was performed\"\n",
      "      }\n",
      "    },\n",
      "    \"type\": \"object\",\n",
      "    \"additionalProperties\": false,\n",
      "    \"tag\": \"pynwb.file.NWBFile\"\n",
      "  },\n",
      "  \"Subject\": {\n",
      "    \"required\": [],\n",
      "    \"properties\": {\n",
      "      \"age\": {\n",
      "        \"description\": \"The age of the subject. The ISO 8601 Duration format is recommended, e.g., \\\"P90D\\\" for 90 days old.\",\n",
      "        \"type\": \"string\"\n",
      "      },\n",
      "      \"description\": {\n",
      "        \"description\": \"A description of the subject, e.g., \\\"mouse A10\\\".\",\n",
      "        \"type\": \"string\"\n",
      "      },\n",
      "      \"genotype\": {\n",
      "        \"description\": \"The genotype of the subject, e.g., \\\"Sst-IRES-Cre/wt;Ai32(RCL-ChR2(H134R)_EYFP)/wt\\\".\",\n",
      "        \"type\": \"string\"\n",
      "      },\n",
      "      \"sex\": {\n",
      "        \"description\": \"The sex of the subject. Using \\\"F\\\" (female), \\\"M\\\" (male), \\\"U\\\" (unknown), or \\\"O\\\" (other) is recommended.\",\n",
      "        \"type\": \"string\"\n",
      "      },\n",
      "      \"species\": {\n",
      "        \"description\": \"The species of the subject. The formal latin binomal name is recommended, e.g., \\\"Mus musculus\\\"\",\n",
      "        \"type\": \"string\"\n",
      "      },\n",
      "      \"subject_id\": {\n",
      "        \"description\": \"A unique identifier for the subject, e.g., \\\"A10\\\"\",\n",
      "        \"type\": \"string\"\n",
      "      },\n",
      "      \"weight\": {\n",
      "        \"description\": \"The weight of the subject, including units. Using kilograms is recommended. e.g., \\\"0.02 kg\\\". If a float is provided, then the weight will be stored as \\\"[value] kg\\\".\",\n",
      "        \"type\": \"number\"\n",
      "      },\n",
      "      \"date_of_birth\": {\n",
      "        \"description\": \"The datetime of the date of birth. May be supplied instead of age.\",\n",
      "        \"type\": \"string\",\n",
      "        \"format\": \"date-time\"\n",
      "      },\n",
      "      \"strain\": {\n",
      "        \"description\": \"The strain of the subject, e.g., \\\"C57BL/6J\\\"\",\n",
      "        \"type\": \"string\"\n",
      "      }\n",
      "    },\n",
      "    \"type\": \"object\",\n",
      "    \"additionalProperties\": false,\n",
      "    \"tag\": \"pynwb.file.Subject\"\n",
      "  },\n",
      "  \"Ecephys\": {\n",
      "    \"required\": [\n",
      "      \"Device\",\n",
      "      \"ElectrodeGroup\"\n",
      "    ],\n",
      "    \"properties\": {\n",
      "      \"Device\": {\n",
      "        \"type\": \"array\",\n",
      "        \"minItems\": 1,\n",
      "        \"items\": {\n",
      "          \"$ref\": \"#/properties/Ecephys/properties/definitions/Device\"\n",
      "        },\n",
      "        \"default\": [\n",
      "          {\n",
      "            \"name\": \"Axona\",\n",
      "            \"description\": \"Axona DacqUSB, sw_version=1.2.2.16\",\n",
      "            \"manufacturer\": \"Axona\"\n",
      "          }\n",
      "        ]\n",
      "      },\n",
      "      \"ElectrodeGroup\": {\n",
      "        \"type\": \"array\",\n",
      "        \"minItems\": 1,\n",
      "        \"items\": {\n",
      "          \"$ref\": \"#/properties/Ecephys/properties/definitions/ElectrodeGroup\"\n",
      "        },\n",
      "        \"default\": [\n",
      "          {\n",
      "            \"name\": \"Group0\",\n",
      "            \"location\": \"\",\n",
      "            \"device\": \"Axona\",\n",
      "            \"description\": \"Group 0 electrodes.\"\n",
      "          }\n",
      "        ]\n",
      "      },\n",
      "      \"Electrodes\": {\n",
      "        \"type\": \"array\",\n",
      "        \"minItems\": 0,\n",
      "        \"renderForm\": false,\n",
      "        \"items\": {\n",
      "          \"$ref\": \"#/properties/Ecephys/properties/definitions/Electrodes\"\n",
      "        },\n",
      "        \"default\": [\n",
      "          {\n",
      "            \"name\": \"group_name\",\n",
      "            \"description\": \"The name of the ElectrodeGroup this electrode is a part of.\"\n",
      "          }\n",
      "        ]\n",
      "      },\n",
      "      \"definitions\": {\n",
      "        \"Device\": {\n",
      "          \"required\": [\n",
      "            \"name\"\n",
      "          ],\n",
      "          \"properties\": {\n",
      "            \"name\": {\n",
      "              \"description\": \"the name of this device\",\n",
      "              \"type\": \"string\"\n",
      "            },\n",
      "            \"description\": {\n",
      "              \"description\": \"Description of the device (e.g., model, firmware version, processing software version, etc.)\",\n",
      "              \"type\": \"string\"\n",
      "            },\n",
      "            \"manufacturer\": {\n",
      "              \"description\": \"the name of the manufacturer of this device\",\n",
      "              \"type\": \"string\"\n",
      "            }\n",
      "          },\n",
      "          \"type\": \"object\",\n",
      "          \"additionalProperties\": false,\n",
      "          \"tag\": \"pynwb.device.Device\"\n",
      "        },\n",
      "        \"ElectrodeGroup\": {\n",
      "          \"required\": [\n",
      "            \"description\",\n",
      "            \"device\",\n",
      "            \"location\",\n",
      "            \"name\"\n",
      "          ],\n",
      "          \"properties\": {\n",
      "            \"name\": {\n",
      "              \"description\": \"the name of this electrode\",\n",
      "              \"type\": \"string\"\n",
      "            },\n",
      "            \"description\": {\n",
      "              \"description\": \"description of this electrode group\",\n",
      "              \"type\": \"string\"\n",
      "            },\n",
      "            \"location\": {\n",
      "              \"description\": \"description of location of this electrode group\",\n",
      "              \"type\": \"string\"\n",
      "            },\n",
      "            \"device\": {\n",
      "              \"description\": \"the device that was used to record from this electrode group\",\n",
      "              \"type\": \"string\",\n",
      "              \"target\": \"pynwb.device.Device\"\n",
      "            }\n",
      "          },\n",
      "          \"type\": \"object\",\n",
      "          \"additionalProperties\": false,\n",
      "          \"tag\": \"pynwb.ecephys.ElectrodeGroup\"\n",
      "        },\n",
      "        \"Electrodes\": {\n",
      "          \"type\": \"object\",\n",
      "          \"additionalProperties\": false,\n",
      "          \"required\": [\n",
      "            \"name\"\n",
      "          ],\n",
      "          \"properties\": {\n",
      "            \"name\": {\n",
      "              \"type\": \"string\",\n",
      "              \"description\": \"name of this electrodes column\"\n",
      "            },\n",
      "            \"description\": {\n",
      "              \"type\": \"string\",\n",
      "              \"description\": \"description of this electrodes column\"\n",
      "            }\n",
      "          }\n",
      "        }\n",
      "      },\n",
      "      \"ElectricalSeries_raw\": {\n",
      "        \"required\": [\n",
      "          \"name\"\n",
      "        ],\n",
      "        \"properties\": {\n",
      "          \"name\": {\n",
      "            \"description\": \"The name of this TimeSeries dataset\",\n",
      "            \"type\": \"string\"\n",
      "          },\n",
      "          \"filtering\": {\n",
      "            \"description\": \"Filtering applied to all channels of the data. For example, if this ElectricalSeries represents high-pass-filtered data (also known as AP Band), then this value could be 'High-pass 4-pole Bessel filter at 500 Hz'. If this ElectricalSeries represents low-pass-filtered LFP data and the type of filter is unknown, then this value could be 'Low-pass filter at 300 Hz'. If a non-standard filter type is used, provide as much detail about the filter properties as possible.\",\n",
      "            \"type\": \"string\"\n",
      "          },\n",
      "          \"resolution\": {\n",
      "            \"description\": \"The smallest meaningful difference (in specified unit) between values in data\",\n",
      "            \"type\": \"number\",\n",
      "            \"default\": -1.0\n",
      "          },\n",
      "          \"conversion\": {\n",
      "            \"description\": \"Scalar to multiply each element in data to convert it to the specified unit\",\n",
      "            \"type\": \"number\",\n",
      "            \"default\": 1.0\n",
      "          },\n",
      "          \"starting_time\": {\n",
      "            \"description\": \"The timestamp of the first sample\",\n",
      "            \"type\": \"number\"\n",
      "          },\n",
      "          \"rate\": {\n",
      "            \"description\": \"Sampling rate in Hz\",\n",
      "            \"type\": \"number\"\n",
      "          },\n",
      "          \"comments\": {\n",
      "            \"description\": \"Human-readable comments about this TimeSeries dataset\",\n",
      "            \"type\": \"string\",\n",
      "            \"default\": \"no comments\"\n",
      "          },\n",
      "          \"description\": {\n",
      "            \"description\": \"Description of this TimeSeries dataset\",\n",
      "            \"type\": \"string\",\n",
      "            \"default\": \"no description\"\n",
      "          }\n",
      "        },\n",
      "        \"type\": \"object\",\n",
      "        \"additionalProperties\": false,\n",
      "        \"tag\": \"pynwb.ecephys.ElectricalSeries\"\n",
      "      },\n",
      "      \"ElectricalSeries_lfp\": {\n",
      "        \"required\": [\n",
      "          \"name\"\n",
      "        ],\n",
      "        \"properties\": {\n",
      "          \"name\": {\n",
      "            \"description\": \"The name of this TimeSeries dataset\",\n",
      "            \"type\": \"string\",\n",
      "            \"default\": \"LFP\"\n",
      "          },\n",
      "          \"filtering\": {\n",
      "            \"description\": \"Filtering applied to all channels of the data. For example, if this ElectricalSeries represents high-pass-filtered data (also known as AP Band), then this value could be 'High-pass 4-pole Bessel filter at 500 Hz'. If this ElectricalSeries represents low-pass-filtered LFP data and the type of filter is unknown, then this value could be 'Low-pass filter at 300 Hz'. If a non-standard filter type is used, provide as much detail about the filter properties as possible.\",\n",
      "            \"type\": \"string\"\n",
      "          },\n",
      "          \"resolution\": {\n",
      "            \"description\": \"The smallest meaningful difference (in specified unit) between values in data\",\n",
      "            \"type\": \"number\",\n",
      "            \"default\": -1.0\n",
      "          },\n",
      "          \"conversion\": {\n",
      "            \"description\": \"Scalar to multiply each element in data to convert it to the specified unit\",\n",
      "            \"type\": \"number\",\n",
      "            \"default\": 1.0\n",
      "          },\n",
      "          \"starting_time\": {\n",
      "            \"description\": \"The timestamp of the first sample\",\n",
      "            \"type\": \"number\"\n",
      "          },\n",
      "          \"rate\": {\n",
      "            \"description\": \"Sampling rate in Hz\",\n",
      "            \"type\": \"number\"\n",
      "          },\n",
      "          \"comments\": {\n",
      "            \"description\": \"Human-readable comments about this TimeSeries dataset\",\n",
      "            \"type\": \"string\",\n",
      "            \"default\": \"no comments\"\n",
      "          },\n",
      "          \"description\": {\n",
      "            \"description\": \"Description of this TimeSeries dataset\",\n",
      "            \"type\": \"string\",\n",
      "            \"default\": \"Local field potential signal.\"\n",
      "          }\n",
      "        },\n",
      "        \"type\": \"object\",\n",
      "        \"additionalProperties\": false,\n",
      "        \"tag\": \"pynwb.ecephys.ElectricalSeries\"\n",
      "      }\n",
      "    },\n",
      "    \"type\": \"object\",\n",
      "    \"additionalProperties\": false,\n",
      "    \"tag\": \"Ecephys\"\n",
      "  }\n",
      "}\n",
      "Metadata is valid!\n"
     ]
    },
    {
     "name": "stderr",
     "output_type": "stream",
     "text": [
      "/home/sbuergers/spikeinterface/hussaini-test-pipeline/venv/lib/python3.8/site-packages/pynwb/file.py:801: UserWarning: Date is missing timezone information. Updating to local timezone.\n",
      "  warn(\"Date is missing timezone information. Updating to local timezone.\")\n",
      "/home/sbuergers/spikeinterface/hussaini-test-pipeline/venv/lib/python3.8/site-packages/spikeextractors/extraction_tools.py:802: UserWarning: The recording extractor does not have unscaled traces. Returning scaled traces\n",
      "  warnings.warn(\"The recording extractor does not have unscaled traces. Returning scaled traces\")\n",
      "/home/sbuergers/spikeinterface/hussaini-test-pipeline/venv/lib/python3.8/site-packages/hdmf/build/objectmapper.py:256: DtypeConversionWarning: Spec 'SpatialSeries/timestamps': Value with data type int64 is being converted to data type float64 as specified.\n",
      "  warnings.warn(full_warning_msg, DtypeConversionWarning)\n"
     ]
    },
    {
     "name": "stdout",
     "output_type": "stream",
     "text": [
      "NWB file saved at /mnt/d/freelance-work/catalyst-neuro/hussaini-lab-to-nwb/new_session_data/out_example.nwb!\n"
     ]
    }
   ],
   "source": [
    "converter = HussainiAxonaNWBConverter(source_data=source_data)\n",
    "\n",
    "\n",
    "# Get metadata\n",
    "metadata = converter.get_metadata()\n",
    "metadata\n",
    "\n",
    "\n",
    "# Get metadata_schema from converter\n",
    "metadata_schema = converter.get_metadata_schema()\n",
    "\n",
    "print(json.dumps(metadata_schema['properties'], indent=2))\n",
    "\n",
    "\n",
    "# Validate metadata against metadata_schema\n",
    "validate(\n",
    "    instance=converter.get_metadata(),\n",
    "    schema=converter.get_metadata_schema()\n",
    ")\n",
    "\n",
    "\n",
    "converter.get_metadata()\n",
    "\n",
    "\n",
    "# Export to NWB file\n",
    "output_file = base_dir / 'out_example.nwb'\n",
    "\n",
    "converter.run_conversion(\n",
    "    metadata=metadata, \n",
    "    nwbfile_path=output_file,\n",
    "    overwrite=True,\n",
    "    save_to_file=True,\n",
    "    conversion_options=None\n",
    ")"
   ]
  },
  {
   "cell_type": "code",
   "execution_count": 43,
   "id": "c112ff37",
   "metadata": {},
   "outputs": [
    {
     "name": "stdout",
     "output_type": "stream",
     "text": [
      "root pynwb.file.NWBFile at 0x140471163325072\n",
      "Fields:\n",
      "  devices: {\n",
      "    Axona <class 'pynwb.device.Device'>\n",
      "  }\n",
      "  electrode_groups: {\n",
      "    Group0 <class 'pynwb.ecephys.ElectrodeGroup'>\n",
      "  }\n",
      "  electrodes: electrodes <class 'hdmf.common.table.DynamicTable'>\n",
      "  experimenter: ['Abid']\n",
      "  file_create_date: [datetime.datetime(2021, 8, 6, 16, 55, 11, 138252, tzinfo=tzoffset(None, 7200))]\n",
      "  identifier: 7eacdd6b-66e0-48ee-9411-2db4616d6f4f\n",
      "  processing: {\n",
      "    behavior <class 'pynwb.base.ProcessingModule'>,\n",
      "    ecephys <class 'pynwb.base.ProcessingModule'>\n",
      "  }\n",
      "  session_start_time: 2020-10-04 11:07:07+02:00\n",
      "  timestamps_reference_time: 2020-10-04 11:07:07+02:00\n",
      "\n"
     ]
    }
   ],
   "source": [
    "# Check NWB file\n",
    "\n",
    "from pynwb import NWBHDF5IO\n",
    "\n",
    "output_file = base_dir / 'out_example.nwb'\n",
    "\n",
    "fname = output_file\n",
    "with NWBHDF5IO(fname, 'r') as io:\n",
    "    nwbfile = io.read()\n",
    "    print(nwbfile)"
   ]
  },
  {
   "cell_type": "code",
   "execution_count": 44,
   "id": "1ff91e8c",
   "metadata": {},
   "outputs": [
    {
     "data": {
      "application/vnd.jupyter.widget-view+json": {
       "model_id": "2a356b570776493e874459de951d76ec",
       "version_major": 2,
       "version_minor": 0
      },
      "text/plain": [
       "VBox(children=(HBox(children=(Label(value='session_description:', layout=Layout(max_height='40px', max_width='…"
      ]
     },
     "metadata": {},
     "output_type": "display_data"
    },
    {
     "data": {
      "image/png": "[encoded data removed]",
      "text/plain": [
       "<Figure size 576x504 with 1 Axes>"
      ]
     },
     "metadata": {
      "needs_background": "light"
     },
     "output_type": "display_data"
    }
   ],
   "source": [
    "%matplotlib inline\n",
    "import matplotlib.pyplot as plt\n",
    "\n",
    "from nwbwidgets import nwb2widget\n",
    "\n",
    "output_file = base_dir / 'out_example.nwb'\n",
    "\n",
    "io = NWBHDF5IO(output_file, mode='r')\n",
    "nwb = io.read()\n",
    "\n",
    "nwb2widget(nwb)"
   ]
  },
  {
   "cell_type": "markdown",
   "id": "e465f1c4",
   "metadata": {},
   "source": [
    "The Axona format comes in the form of the raw data (`.bin` + `.set`) or Unit data (`.X`, `.set`, `.eegX` or `.egfX`, `.pos`). As such, a datainterface has to be somewhat flexible. \n",
    "\n",
    "We decided that it is not worth the effort to allow for a direct conversion from raw data to `nwb` including EEG and position data, since the Hussaini lab can already convert raw data to EEG and pos respectively. In addition, the converter for position data could also be used for `Intan` data, if the lab converts `Intan` to `.pos` themselves. \n",
    "\n",
    "Regarding the Unit data, I am not sure how or whether to add a datainterface that converts to `nwb` directly. As it stands the converted data would include the Gaussian noise added by the `AxonaUnitRecordingExtractor`. I do not really think that this is useful. In addition, if desired one could simply use the syntax from the tutorial notebook to export unit data to nwb.\n",
    "\n",
    "In general, lab specific data converters are a combination of multiple data interfaces. But in this case it might really depend on which data types the user has available and wants to convert. \n",
    "\n",
    "Currently, we can convert `.bin` file ecephys data, `.eeg` or `.egf` file data and `.pos` file data."
   ]
  },
  {
   "cell_type": "code",
   "execution_count": 34,
   "id": "5ae9e39d",
   "metadata": {},
   "outputs": [],
   "source": [
    "# Add a datainterface for unit data just for good measure\n",
    "\n",
    "class AxonaUnitRecordingExtractorInterface(AxonaRecordingExtractorInterface):\n",
    "    \"\"\"Primary data interface class for converting a AxonaRecordingExtractor\"\"\"\n",
    "\n",
    "    RX = se.AxonaUnitRecordingExtractor\n",
    "\n",
    "    @classmethod\n",
    "    def get_source_schema(cls):\n",
    "        return get_schema_from_method_signature(cls.__init__)\n",
    "\n",
    "    def __init__(self, **source_data):\n",
    "        self.recording_extractor=se.AxonaUnitRecordingExtractor(**source_data)\n",
    "        self.subset_channels = None\n",
    "        self.source_data = source_data"
   ]
  },
  {
   "cell_type": "code",
   "execution_count": 35,
   "id": "cb692831",
   "metadata": {},
   "outputs": [],
   "source": [
    "# Add a datainterface for unit data just for good measure\n",
    "\n",
    "class AxonaUnitRecordingExtractorInterface(AxonaRecordingExtractorInterface):\n",
    "    \"\"\"Primary data interface class for converting a AxonaRecordingExtractor\"\"\"\n",
    "\n",
    "    RX = se.AxonaUnitRecordingExtractor\n",
    "\n",
    "    @classmethod\n",
    "    def get_source_schema(cls):\n",
    "        return dict(\n",
    "            required=['filename'],\n",
    "            properties=dict(\n",
    "                filename=dict(\n",
    "                    type='string'\n",
    "                ),\n",
    "            ),\n",
    "            type='object',\n",
    "            additionalProperties=True\n",
    "        )\n",
    "        return \n",
    "\n",
    "    def __init__(self, filename: str, noise_std=3.5):\n",
    "        super().__init__(filename=filename)\n",
    "        self.recording_extractor =se.AxonaUnitRecordingExtractor(filename=filename, noise_std=noise_std)"
   ]
  },
  {
   "cell_type": "code",
   "execution_count": 40,
   "id": "cd67eed3",
   "metadata": {},
   "outputs": [
    {
     "name": "stdout",
     "output_type": "stream",
     "text": [
      "{\n",
      "  \"AxonaPositionDataInterface\": {\n",
      "    \"filename\": \"/mnt/d/freelance-work/catalyst-neuro/hussaini-lab-to-nwb/Axona_Tint_1ms/20201004_Tint.set\"\n",
      "  },\n",
      "  \"AxonaUnitRecordingExtractorInterface\": {\n",
      "    \"filename\": \"/mnt/d/freelance-work/catalyst-neuro/hussaini-lab-to-nwb/Axona_Tint_1ms/20201004_Tint.set\",\n",
      "    \"noise_std\": 3.5\n",
      "  },\n",
      "  \"AxonaLFPDataInterface\": {\n",
      "    \"filename\": \"/mnt/d/freelance-work/catalyst-neuro/hussaini-lab-to-nwb/Axona_Tint_1ms/20201004_Tint.eeg\"\n",
      "  }\n",
      "}\n",
      "Source data is valid!\n",
      "{\n",
      "  \"NWBFile\": {\n",
      "    \"required\": [\n",
      "      \"session_description\",\n",
      "      \"identifier\",\n",
      "      \"session_start_time\"\n",
      "    ],\n",
      "    \"properties\": {\n",
      "      \"session_description\": {\n",
      "        \"type\": \"string\",\n",
      "        \"format\": \"long\",\n",
      "        \"description\": \"a description of the session where this data was generated\",\n",
      "        \"default\": \"\"\n",
      "      },\n",
      "      \"identifier\": {\n",
      "        \"type\": \"string\",\n",
      "        \"description\": \"a unique text identifier for the file\",\n",
      "        \"default\": \"5a3dd879-62c2-4b0d-accd-1d37b1fff02d\"\n",
      "      },\n",
      "      \"session_start_time\": {\n",
      "        \"type\": \"string\",\n",
      "        \"description\": \"the start date and time of the recording session\",\n",
      "        \"format\": \"date-time\",\n",
      "        \"default\": \"2020-10-04T11:07:07\"\n",
      "      },\n",
      "      \"experimenter\": {\n",
      "        \"type\": \"array\",\n",
      "        \"items\": {\n",
      "          \"type\": \"string\",\n",
      "          \"title\": \"experimenter\"\n",
      "        },\n",
      "        \"description\": \"name of person who performed experiment\",\n",
      "        \"default\": [\n",
      "          \"Abid\"\n",
      "        ]\n",
      "      },\n",
      "      \"experiment_description\": {\n",
      "        \"type\": \"string\",\n",
      "        \"description\": \"general description of the experiment\"\n",
      "      },\n",
      "      \"session_id\": {\n",
      "        \"type\": \"string\",\n",
      "        \"description\": \"lab-specific ID for the session\"\n",
      "      },\n",
      "      \"institution\": {\n",
      "        \"type\": \"string\",\n",
      "        \"description\": \"institution(s) where experiment is performed\"\n",
      "      },\n",
      "      \"notes\": {\n",
      "        \"type\": \"string\",\n",
      "        \"description\": \"Notes about the experiment.\"\n",
      "      },\n",
      "      \"pharmacology\": {\n",
      "        \"type\": \"string\",\n",
      "        \"description\": \"Description of drugs used, including how and when they were administered. Anesthesia(s), painkiller(s), etc., plus dosage, concentration, etc.\"\n",
      "      },\n",
      "      \"protocol\": {\n",
      "        \"type\": \"string\",\n",
      "        \"description\": \"Experimental protocol, if applicable. E.g., include IACUC protocol\"\n",
      "      },\n",
      "      \"related_publications\": {\n",
      "        \"type\": \"string\",\n",
      "        \"description\": \"Publication information.PMID, DOI, URL, etc. If multiple, concatenate together and describe which is which. such as PMID, DOI, URL, etc\"\n",
      "      },\n",
      "      \"slices\": {\n",
      "        \"type\": \"string\",\n",
      "        \"description\": \"Description of slices, including information about preparation thickness, orientation, temperature and bath solution\"\n",
      "      },\n",
      "      \"source_script\": {\n",
      "        \"type\": \"string\",\n",
      "        \"description\": \"Script file used to create this NWB file.\"\n",
      "      },\n",
      "      \"source_script_file_name\": {\n",
      "        \"type\": \"string\",\n",
      "        \"description\": \"Name of the source_script file\"\n",
      "      },\n",
      "      \"data_collection\": {\n",
      "        \"type\": \"string\",\n",
      "        \"description\": \"Notes about data collection and analysis.\"\n",
      "      },\n",
      "      \"surgery\": {\n",
      "        \"type\": \"string\",\n",
      "        \"description\": \"Narrative description about surgery/surgeries, including date(s) and who performed surgery.\"\n",
      "      },\n",
      "      \"virus\": {\n",
      "        \"type\": \"string\",\n",
      "        \"description\": \"Information about virus(es) used in experiments, including virus ID, source, date made, injection location, volume, etc.\"\n",
      "      },\n",
      "      \"stimulus_notes\": {\n",
      "        \"type\": \"string\",\n",
      "        \"description\": \"Notes about stimuli, such as how and where presented.\"\n",
      "      },\n",
      "      \"lab\": {\n",
      "        \"type\": \"string\",\n",
      "        \"description\": \"lab where experiment was performed\"\n",
      "      }\n",
      "    },\n",
      "    \"type\": \"object\",\n",
      "    \"additionalProperties\": false,\n",
      "    \"tag\": \"pynwb.file.NWBFile\"\n",
      "  },\n",
      "  \"Subject\": {\n",
      "    \"required\": [],\n",
      "    \"properties\": {\n",
      "      \"age\": {\n",
      "        \"description\": \"The age of the subject. The ISO 8601 Duration format is recommended, e.g., \\\"P90D\\\" for 90 days old.\",\n",
      "        \"type\": \"string\"\n",
      "      },\n",
      "      \"description\": {\n",
      "        \"description\": \"A description of the subject, e.g., \\\"mouse A10\\\".\",\n",
      "        \"type\": \"string\"\n",
      "      },\n",
      "      \"genotype\": {\n",
      "        \"description\": \"The genotype of the subject, e.g., \\\"Sst-IRES-Cre/wt;Ai32(RCL-ChR2(H134R)_EYFP)/wt\\\".\",\n",
      "        \"type\": \"string\"\n",
      "      },\n",
      "      \"sex\": {\n",
      "        \"description\": \"The sex of the subject. Using \\\"F\\\" (female), \\\"M\\\" (male), \\\"U\\\" (unknown), or \\\"O\\\" (other) is recommended.\",\n",
      "        \"type\": \"string\"\n",
      "      },\n",
      "      \"species\": {\n",
      "        \"description\": \"The species of the subject. The formal latin binomal name is recommended, e.g., \\\"Mus musculus\\\"\",\n",
      "        \"type\": \"string\"\n",
      "      },\n",
      "      \"subject_id\": {\n",
      "        \"description\": \"A unique identifier for the subject, e.g., \\\"A10\\\"\",\n",
      "        \"type\": \"string\"\n",
      "      },\n",
      "      \"weight\": {\n",
      "        \"description\": \"The weight of the subject, including units. Using kilograms is recommended. e.g., \\\"0.02 kg\\\". If a float is provided, then the weight will be stored as \\\"[value] kg\\\".\",\n",
      "        \"type\": \"number\"\n",
      "      },\n",
      "      \"date_of_birth\": {\n",
      "        \"description\": \"The datetime of the date of birth. May be supplied instead of age.\",\n",
      "        \"type\": \"string\",\n",
      "        \"format\": \"date-time\"\n",
      "      },\n",
      "      \"strain\": {\n",
      "        \"description\": \"The strain of the subject, e.g., \\\"C57BL/6J\\\"\",\n",
      "        \"type\": \"string\"\n",
      "      }\n",
      "    },\n",
      "    \"type\": \"object\",\n",
      "    \"additionalProperties\": false,\n",
      "    \"tag\": \"pynwb.file.Subject\"\n",
      "  },\n",
      "  \"Ecephys\": {\n",
      "    \"required\": [\n",
      "      \"Device\",\n",
      "      \"ElectrodeGroup\"\n",
      "    ],\n",
      "    \"properties\": {\n",
      "      \"Device\": {\n",
      "        \"type\": \"array\",\n",
      "        \"minItems\": 1,\n",
      "        \"items\": {\n",
      "          \"$ref\": \"#/properties/Ecephys/properties/definitions/Device\"\n",
      "        },\n",
      "        \"default\": [\n",
      "          {\n",
      "            \"name\": \"Axona\",\n",
      "            \"description\": \"Axona DacqUSB, sw_version=1.2.2.16\",\n",
      "            \"manufacturer\": \"Axona\"\n",
      "          }\n",
      "        ]\n",
      "      },\n",
      "      \"ElectrodeGroup\": {\n",
      "        \"type\": \"array\",\n",
      "        \"minItems\": 1,\n",
      "        \"items\": {\n",
      "          \"$ref\": \"#/properties/Ecephys/properties/definitions/ElectrodeGroup\"\n",
      "        },\n",
      "        \"default\": [\n",
      "          {\n",
      "            \"name\": \"Group0\",\n",
      "            \"location\": \"\",\n",
      "            \"device\": \"Axona\",\n",
      "            \"description\": \"Group 0 electrodes.\"\n",
      "          },\n",
      "          {\n",
      "            \"name\": \"Group1\",\n",
      "            \"location\": \"\",\n",
      "            \"device\": \"Axona\",\n",
      "            \"description\": \"Group 1 electrodes.\"\n",
      "          },\n",
      "          {\n",
      "            \"name\": \"Group2\",\n",
      "            \"location\": \"\",\n",
      "            \"device\": \"Axona\",\n",
      "            \"description\": \"Group 2 electrodes.\"\n",
      "          },\n",
      "          {\n",
      "            \"name\": \"Group3\",\n",
      "            \"location\": \"\",\n",
      "            \"device\": \"Axona\",\n",
      "            \"description\": \"Group 3 electrodes.\"\n",
      "          }\n",
      "        ]\n",
      "      },\n",
      "      \"Electrodes\": {\n",
      "        \"type\": \"array\",\n",
      "        \"minItems\": 0,\n",
      "        \"renderForm\": false,\n",
      "        \"items\": {\n",
      "          \"$ref\": \"#/properties/Ecephys/properties/definitions/Electrodes\"\n",
      "        },\n",
      "        \"default\": [\n",
      "          {\n",
      "            \"name\": \"group_name\",\n",
      "            \"description\": \"The name of the ElectrodeGroup this electrode is a part of.\"\n",
      "          }\n",
      "        ]\n",
      "      },\n",
      "      \"definitions\": {\n",
      "        \"Device\": {\n",
      "          \"required\": [\n",
      "            \"name\"\n",
      "          ],\n",
      "          \"properties\": {\n",
      "            \"name\": {\n",
      "              \"description\": \"the name of this device\",\n",
      "              \"type\": \"string\"\n",
      "            },\n",
      "            \"description\": {\n",
      "              \"description\": \"Description of the device (e.g., model, firmware version, processing software version, etc.)\",\n",
      "              \"type\": \"string\"\n",
      "            },\n",
      "            \"manufacturer\": {\n",
      "              \"description\": \"the name of the manufacturer of this device\",\n",
      "              \"type\": \"string\"\n",
      "            }\n",
      "          },\n",
      "          \"type\": \"object\",\n",
      "          \"additionalProperties\": false,\n",
      "          \"tag\": \"pynwb.device.Device\"\n",
      "        },\n",
      "        \"ElectrodeGroup\": {\n",
      "          \"required\": [\n",
      "            \"name\",\n",
      "            \"device\",\n",
      "            \"location\",\n",
      "            \"description\"\n",
      "          ],\n",
      "          \"properties\": {\n",
      "            \"name\": {\n",
      "              \"description\": \"the name of this electrode\",\n",
      "              \"type\": \"string\"\n",
      "            },\n",
      "            \"description\": {\n",
      "              \"description\": \"description of this electrode group\",\n",
      "              \"type\": \"string\"\n",
      "            },\n",
      "            \"location\": {\n",
      "              \"description\": \"description of location of this electrode group\",\n",
      "              \"type\": \"string\"\n",
      "            },\n",
      "            \"device\": {\n",
      "              \"description\": \"the device that was used to record from this electrode group\",\n",
      "              \"type\": \"string\",\n",
      "              \"target\": \"pynwb.device.Device\"\n",
      "            }\n",
      "          },\n",
      "          \"type\": \"object\",\n",
      "          \"additionalProperties\": false,\n",
      "          \"tag\": \"pynwb.ecephys.ElectrodeGroup\"\n",
      "        },\n",
      "        \"Electrodes\": {\n",
      "          \"type\": \"object\",\n",
      "          \"additionalProperties\": false,\n",
      "          \"required\": [\n",
      "            \"name\"\n",
      "          ],\n",
      "          \"properties\": {\n",
      "            \"name\": {\n",
      "              \"type\": \"string\",\n",
      "              \"description\": \"name of this electrodes column\"\n",
      "            },\n",
      "            \"description\": {\n",
      "              \"type\": \"string\",\n",
      "              \"description\": \"description of this electrodes column\"\n",
      "            }\n",
      "          }\n",
      "        }\n",
      "      },\n",
      "      \"ElectricalSeries_raw\": {\n",
      "        \"required\": [\n",
      "          \"name\"\n",
      "        ],\n",
      "        \"properties\": {\n",
      "          \"name\": {\n",
      "            \"description\": \"The name of this TimeSeries dataset\",\n",
      "            \"type\": \"string\",\n",
      "            \"default\": \"ElectricalSeries_raw\"\n",
      "          },\n",
      "          \"filtering\": {\n",
      "            \"description\": \"Filtering applied to all channels of the data. For example, if this ElectricalSeries represents high-pass-filtered data (also known as AP Band), then this value could be 'High-pass 4-pole Bessel filter at 500 Hz'. If this ElectricalSeries represents low-pass-filtered LFP data and the type of filter is unknown, then this value could be 'Low-pass filter at 300 Hz'. If a non-standard filter type is used, provide as much detail about the filter properties as possible.\",\n",
      "            \"type\": \"string\"\n",
      "          },\n",
      "          \"resolution\": {\n",
      "            \"description\": \"The smallest meaningful difference (in specified unit) between values in data\",\n",
      "            \"type\": \"number\",\n",
      "            \"default\": -1.0\n",
      "          },\n",
      "          \"conversion\": {\n",
      "            \"description\": \"Scalar to multiply each element in data to convert it to the specified unit\",\n",
      "            \"type\": \"number\",\n",
      "            \"default\": 1.0\n",
      "          },\n",
      "          \"starting_time\": {\n",
      "            \"description\": \"The timestamp of the first sample\",\n",
      "            \"type\": \"number\"\n",
      "          },\n",
      "          \"rate\": {\n",
      "            \"description\": \"Sampling rate in Hz\",\n",
      "            \"type\": \"number\"\n",
      "          },\n",
      "          \"comments\": {\n",
      "            \"description\": \"Human-readable comments about this TimeSeries dataset\",\n",
      "            \"type\": \"string\",\n",
      "            \"default\": \"no comments\"\n",
      "          },\n",
      "          \"description\": {\n",
      "            \"description\": \"Description of this TimeSeries dataset\",\n",
      "            \"type\": \"string\",\n",
      "            \"default\": \"Raw acquisition traces.\"\n",
      "          }\n",
      "        },\n",
      "        \"type\": \"object\",\n",
      "        \"additionalProperties\": false,\n",
      "        \"tag\": \"pynwb.ecephys.ElectricalSeries\"\n",
      "      },\n",
      "      \"ElectricalSeries_lfp\": {\n",
      "        \"required\": [\n",
      "          \"name\"\n",
      "        ],\n",
      "        \"properties\": {\n",
      "          \"name\": {\n",
      "            \"description\": \"The name of this TimeSeries dataset\",\n",
      "            \"type\": \"string\",\n",
      "            \"default\": \"LFP\"\n",
      "          },\n",
      "          \"filtering\": {\n",
      "            \"description\": \"Filtering applied to all channels of the data. For example, if this ElectricalSeries represents high-pass-filtered data (also known as AP Band), then this value could be 'High-pass 4-pole Bessel filter at 500 Hz'. If this ElectricalSeries represents low-pass-filtered LFP data and the type of filter is unknown, then this value could be 'Low-pass filter at 300 Hz'. If a non-standard filter type is used, provide as much detail about the filter properties as possible.\",\n",
      "            \"type\": \"string\"\n",
      "          },\n",
      "          \"resolution\": {\n",
      "            \"description\": \"The smallest meaningful difference (in specified unit) between values in data\",\n",
      "            \"type\": \"number\",\n",
      "            \"default\": -1.0\n",
      "          },\n",
      "          \"conversion\": {\n",
      "            \"description\": \"Scalar to multiply each element in data to convert it to the specified unit\",\n",
      "            \"type\": \"number\",\n",
      "            \"default\": 1.0\n",
      "          },\n",
      "          \"starting_time\": {\n",
      "            \"description\": \"The timestamp of the first sample\",\n",
      "            \"type\": \"number\"\n",
      "          },\n",
      "          \"rate\": {\n",
      "            \"description\": \"Sampling rate in Hz\",\n",
      "            \"type\": \"number\"\n",
      "          },\n",
      "          \"comments\": {\n",
      "            \"description\": \"Human-readable comments about this TimeSeries dataset\",\n",
      "            \"type\": \"string\",\n",
      "            \"default\": \"no comments\"\n",
      "          },\n",
      "          \"description\": {\n",
      "            \"description\": \"Description of this TimeSeries dataset\",\n",
      "            \"type\": \"string\",\n",
      "            \"default\": \"Local field potential signal.\"\n",
      "          }\n",
      "        },\n",
      "        \"type\": \"object\",\n",
      "        \"additionalProperties\": false,\n",
      "        \"tag\": \"pynwb.ecephys.ElectricalSeries\"\n",
      "      }\n",
      "    },\n",
      "    \"type\": \"object\",\n",
      "    \"additionalProperties\": false,\n",
      "    \"tag\": \"Ecephys\"\n",
      "  }\n",
      "}\n",
      "Metadata is valid!\n"
     ]
    },
    {
     "name": "stderr",
     "output_type": "stream",
     "text": [
      "/home/sbuergers/spikeinterface/hussaini-test-pipeline/venv/lib/python3.8/site-packages/pynwb/file.py:801: UserWarning: Date is missing timezone information. Updating to local timezone.\n",
      "  warn(\"Date is missing timezone information. Updating to local timezone.\")\n",
      "/home/sbuergers/spikeinterface/hussaini-test-pipeline/venv/lib/python3.8/site-packages/hdmf/common/table.py:447: UserWarning: An attribute 'name' already exists on DynamicTable 'electrodes' so this column cannot be accessed as an attribute, e.g., table.name; it can only be accessed using other methods, e.g., table['name'].\n",
      "  warn(msg)\n",
      "/home/sbuergers/spikeinterface/nwb-conversion-tools/nwb_conversion_tools/utils/spike_interface.py:302: UserWarning: cannot create electrodes for this recording as ids already exist\n",
      "  warnings.warn(\"cannot create electrodes for this recording as ids already exist\")\n",
      "/home/sbuergers/spikeinterface/hussaini-test-pipeline/venv/lib/python3.8/site-packages/spikeextractors/extraction_tools.py:802: UserWarning: The recording extractor does not have unscaled traces. Returning scaled traces\n",
      "  warnings.warn(\"The recording extractor does not have unscaled traces. Returning scaled traces\")\n",
      "/home/sbuergers/spikeinterface/hussaini-test-pipeline/venv/lib/python3.8/site-packages/hdmf/build/objectmapper.py:256: DtypeConversionWarning: Spec 'SpatialSeries/timestamps': Value with data type int64 is being converted to data type float64 as specified.\n",
      "  warnings.warn(full_warning_msg, DtypeConversionWarning)\n"
     ]
    },
    {
     "name": "stdout",
     "output_type": "stream",
     "text": [
      "NWB file saved at /mnt/d/freelance-work/catalyst-neuro/hussaini-lab-to-nwb/new_session_data/out_example3.nwb!\n"
     ]
    }
   ],
   "source": [
    "class HussainiAxonaNWBConverter(NWBConverter):\n",
    "    data_interface_classes = dict(\n",
    "        AxonaUnitRecordingExtractorInterface=AxonaUnitRecordingExtractorInterface,\n",
    "        AxonaPositionDataInterface=AxonaPositionDataInterface,\n",
    "        AxonaLFPDataInterface=AxonaLFPDataInterface\n",
    "    )\n",
    "    \n",
    "# Specify source data\n",
    "source_data = dict(\n",
    "    AxonaPositionDataInterface=dict(\n",
    "        filename=eeg_fname.replace('.eeg', '.set')\n",
    "    ),\n",
    "    AxonaUnitRecordingExtractorInterface=dict(\n",
    "        filename=eeg_fname.replace('.eeg', '.set'),\n",
    "        noise_std=3.5\n",
    "    ),\n",
    "    AxonaLFPDataInterface=dict(\n",
    "        filename=eeg_fname\n",
    "    )\n",
    ")\n",
    "print(json.dumps(source_data, indent=2))\n",
    "\n",
    "\n",
    "# Instantiate converter\n",
    "converter = HussainiAxonaNWBConverter(source_data=source_data)\n",
    "\n",
    "\n",
    "# Get metadata\n",
    "metadata = converter.get_metadata()\n",
    "metadata\n",
    "\n",
    "\n",
    "# Get metadata_schema from converter\n",
    "metadata_schema = converter.get_metadata_schema()\n",
    "print(json.dumps(metadata_schema['properties'], indent=2))\n",
    "\n",
    "\n",
    "# Validate metadata against metadata_schema\n",
    "validate(\n",
    "    instance=converter.get_metadata(),\n",
    "    schema=converter.get_metadata_schema()\n",
    ")\n",
    "\n",
    "\n",
    "# Export to NWB file\n",
    "output_file = base_dir / 'out_example3.nwb'\n",
    "\n",
    "converter.run_conversion(\n",
    "    metadata=metadata, \n",
    "    nwbfile_path=output_file,\n",
    "    overwrite=True,\n",
    "    save_to_file=True,\n",
    "    conversion_options=None\n",
    ")"
   ]
  },
  {
   "cell_type": "code",
   "execution_count": 41,
   "id": "b2510db0",
   "metadata": {},
   "outputs": [
    {
     "name": "stdout",
     "output_type": "stream",
     "text": [
      "root pynwb.file.NWBFile at 0x139930166131248\n",
      "Fields:\n",
      "  acquisition: {\n",
      "    ElectricalSeries_raw <class 'pynwb.ecephys.ElectricalSeries'>\n",
      "  }\n",
      "  devices: {\n",
      "    Axona <class 'pynwb.device.Device'>\n",
      "  }\n",
      "  electrode_groups: {\n",
      "    Group0 <class 'pynwb.ecephys.ElectrodeGroup'>,\n",
      "    Group1 <class 'pynwb.ecephys.ElectrodeGroup'>,\n",
      "    Group2 <class 'pynwb.ecephys.ElectrodeGroup'>,\n",
      "    Group3 <class 'pynwb.ecephys.ElectrodeGroup'>\n",
      "  }\n",
      "  electrodes: electrodes <class 'hdmf.common.table.DynamicTable'>\n",
      "  experimenter: ['Abid']\n",
      "  file_create_date: [datetime.datetime(2021, 8, 6, 23, 9, 47, 495248, tzinfo=tzoffset(None, 7200))]\n",
      "  identifier: 86a85739-95f9-4c3d-89ca-fd2f381a0cec\n",
      "  processing: {\n",
      "    behavior <class 'pynwb.base.ProcessingModule'>,\n",
      "    ecephys <class 'pynwb.base.ProcessingModule'>\n",
      "  }\n",
      "  session_start_time: 2020-10-04 11:07:07+02:00\n",
      "  timestamps_reference_time: 2020-10-04 11:07:07+02:00\n",
      "\n"
     ]
    }
   ],
   "source": [
    "# Check NWB file\n",
    "from pynwb import NWBHDF5IO\n",
    "\n",
    "fname = output_file\n",
    "with NWBHDF5IO(fname, 'r') as io:\n",
    "    nwbfile = io.read()\n",
    "    print(nwbfile)"
   ]
  },
  {
   "cell_type": "code",
   "execution_count": 42,
   "id": "c7536a01",
   "metadata": {},
   "outputs": [
    {
     "data": {
      "application/vnd.jupyter.widget-view+json": {
       "model_id": "f1df3f2e45c34f5b8a8058266cb6242e",
       "version_major": 2,
       "version_minor": 0
      },
      "text/plain": [
       "VBox(children=(HBox(children=(Label(value='session_description:', layout=Layout(max_height='40px', max_width='…"
      ]
     },
     "metadata": {},
     "output_type": "display_data"
    },
    {
     "data": {
      "image/png": "[encoded data removed]",
      "text/plain": [
       "<Figure size 576x504 with 1 Axes>"
      ]
     },
     "metadata": {
      "needs_background": "light"
     },
     "output_type": "display_data"
    }
   ],
   "source": [
    "%matplotlib inline\n",
    "import matplotlib.pyplot as plt\n",
    "\n",
    "from nwbwidgets import nwb2widget\n",
    "\n",
    "output_file = base_dir / 'out_example3.nwb'\n",
    "\n",
    "io = NWBHDF5IO(output_file, mode='r')\n",
    "nwb = io.read()\n",
    "\n",
    "nwb2widget(nwb)"
   ]
  },
  {
   "cell_type": "code",
   "execution_count": null,
   "id": "88bc2aed",
   "metadata": {},
   "outputs": [],
   "source": []
  },
  {
   "cell_type": "code",
   "execution_count": null,
   "id": "8d24b1dc",
   "metadata": {},
   "outputs": [],
   "source": []
  },
  {
   "cell_type": "code",
   "execution_count": null,
   "id": "aa469290",
   "metadata": {},
   "outputs": [],
   "source": []
  },
  {
   "cell_type": "code",
   "execution_count": null,
   "id": "35ad40c5",
   "metadata": {},
   "outputs": [],
   "source": []
  },
  {
   "cell_type": "code",
   "execution_count": null,
   "id": "ee70f097",
   "metadata": {},
   "outputs": [],
   "source": []
  },
  {
   "cell_type": "code",
   "execution_count": 62,
   "id": "c201b0f8",
   "metadata": {},
   "outputs": [],
   "source": [
    "output_file_test = '/mnt/d/freelance-work/catalyst-neuro/hussaini-lab-to-nwb/new_session_data/out_example2.nwb'"
   ]
  },
  {
   "cell_type": "code",
   "execution_count": 65,
   "id": "eae84d15",
   "metadata": {},
   "outputs": [],
   "source": [
    "axona_unit_interface.run_conversion??"
   ]
  },
  {
   "cell_type": "code",
   "execution_count": 77,
   "id": "310f357b",
   "metadata": {},
   "outputs": [
    {
     "ename": "TypeError",
     "evalue": "NWBFile.__init__: incorrect type for 'session_start_time' (got 'str', expected 'datetime')",
     "output_type": "error",
     "traceback": [
      "\u001b[0;31m---------------------------------------------------------------------------\u001b[0m",
      "\u001b[0;31mTypeError\u001b[0m                                 Traceback (most recent call last)",
      "\u001b[0;32m/tmp/ipykernel_18857/3722147903.py\u001b[0m in \u001b[0;36m<module>\u001b[0;34m\u001b[0m\n\u001b[1;32m      1\u001b[0m \u001b[0mmetadata\u001b[0m \u001b[0;34m=\u001b[0m \u001b[0maxona_unit_interface\u001b[0m\u001b[0;34m.\u001b[0m\u001b[0mget_metadata\u001b[0m\u001b[0;34m(\u001b[0m\u001b[0;34m)\u001b[0m\u001b[0;34m\u001b[0m\u001b[0;34m\u001b[0m\u001b[0m\n\u001b[1;32m      2\u001b[0m \u001b[0;34m\u001b[0m\u001b[0m\n\u001b[0;32m----> 3\u001b[0;31m nwb_test = axona_unit_interface.run_conversion(\n\u001b[0m\u001b[1;32m      4\u001b[0m     \u001b[0mnwbfile\u001b[0m\u001b[0;34m=\u001b[0m\u001b[0;32mNone\u001b[0m\u001b[0;34m,\u001b[0m\u001b[0;34m\u001b[0m\u001b[0;34m\u001b[0m\u001b[0m\n\u001b[1;32m      5\u001b[0m     \u001b[0msave_path\u001b[0m\u001b[0;34m=\u001b[0m\u001b[0moutput_file_test\u001b[0m\u001b[0;34m,\u001b[0m\u001b[0;34m\u001b[0m\u001b[0;34m\u001b[0m\u001b[0m\n",
      "\u001b[0;32m~/spikeinterface/nwb-conversion-tools/nwb_conversion_tools/datainterfaces/ecephys/baserecordingextractorinterface.py\u001b[0m in \u001b[0;36mrun_conversion\u001b[0;34m(self, nwbfile, metadata, stub_test, use_times, save_path, overwrite, buffer_mb, write_as, es_key)\u001b[0m\n\u001b[1;32m    151\u001b[0m             \u001b[0mrecording\u001b[0m \u001b[0;34m=\u001b[0m \u001b[0mself\u001b[0m\u001b[0;34m.\u001b[0m\u001b[0mrecording_extractor\u001b[0m\u001b[0;34m\u001b[0m\u001b[0;34m\u001b[0m\u001b[0m\n\u001b[1;32m    152\u001b[0m \u001b[0;34m\u001b[0m\u001b[0m\n\u001b[0;32m--> 153\u001b[0;31m         write_recording(\n\u001b[0m\u001b[1;32m    154\u001b[0m             \u001b[0mrecording\u001b[0m\u001b[0;34m=\u001b[0m\u001b[0mrecording\u001b[0m\u001b[0;34m,\u001b[0m\u001b[0;34m\u001b[0m\u001b[0;34m\u001b[0m\u001b[0m\n\u001b[1;32m    155\u001b[0m             \u001b[0mnwbfile\u001b[0m\u001b[0;34m=\u001b[0m\u001b[0mnwbfile\u001b[0m\u001b[0;34m,\u001b[0m\u001b[0;34m\u001b[0m\u001b[0;34m\u001b[0m\u001b[0m\n",
      "\u001b[0;32m~/spikeinterface/nwb-conversion-tools/nwb_conversion_tools/utils/spike_interface.py\u001b[0m in \u001b[0;36mwrite_recording\u001b[0;34m(recording, save_path, overwrite, nwbfile, buffer_mb, use_times, metadata, write_as, es_key, write_scaled, compression, iterate)\u001b[0m\n\u001b[1;32m    953\u001b[0m                 \u001b[0;32mif\u001b[0m \u001b[0mmetadata\u001b[0m \u001b[0;32mis\u001b[0m \u001b[0;32mnot\u001b[0m \u001b[0;32mNone\u001b[0m \u001b[0;32mand\u001b[0m \u001b[0;34m\"NWBFile\"\u001b[0m \u001b[0;32min\u001b[0m \u001b[0mmetadata\u001b[0m\u001b[0;34m:\u001b[0m\u001b[0;34m\u001b[0m\u001b[0;34m\u001b[0m\u001b[0m\n\u001b[1;32m    954\u001b[0m                     \u001b[0mnwbfile_kwargs\u001b[0m\u001b[0;34m.\u001b[0m\u001b[0mupdate\u001b[0m\u001b[0;34m(\u001b[0m\u001b[0mmetadata\u001b[0m\u001b[0;34m[\u001b[0m\u001b[0;34m\"NWBFile\"\u001b[0m\u001b[0;34m]\u001b[0m\u001b[0;34m)\u001b[0m\u001b[0;34m\u001b[0m\u001b[0;34m\u001b[0m\u001b[0m\n\u001b[0;32m--> 955\u001b[0;31m                 \u001b[0mnwbfile\u001b[0m \u001b[0;34m=\u001b[0m \u001b[0mpynwb\u001b[0m\u001b[0;34m.\u001b[0m\u001b[0mNWBFile\u001b[0m\u001b[0;34m(\u001b[0m\u001b[0;34m**\u001b[0m\u001b[0mnwbfile_kwargs\u001b[0m\u001b[0;34m)\u001b[0m\u001b[0;34m\u001b[0m\u001b[0;34m\u001b[0m\u001b[0m\n\u001b[0m\u001b[1;32m    956\u001b[0m \u001b[0;34m\u001b[0m\u001b[0m\n\u001b[1;32m    957\u001b[0m             add_all_to_nwbfile(\n",
      "\u001b[0;32m~/spikeinterface/hussaini-test-pipeline/venv/lib/python3.8/site-packages/hdmf/utils.py\u001b[0m in \u001b[0;36mfunc_call\u001b[0;34m(*args, **kwargs)\u001b[0m\n\u001b[1;32m    577\u001b[0m         \u001b[0;32mif\u001b[0m \u001b[0mis_method\u001b[0m\u001b[0;34m:\u001b[0m\u001b[0;34m\u001b[0m\u001b[0;34m\u001b[0m\u001b[0m\n\u001b[1;32m    578\u001b[0m             \u001b[0;32mdef\u001b[0m \u001b[0mfunc_call\u001b[0m\u001b[0;34m(\u001b[0m\u001b[0;34m*\u001b[0m\u001b[0margs\u001b[0m\u001b[0;34m,\u001b[0m \u001b[0;34m**\u001b[0m\u001b[0mkwargs\u001b[0m\u001b[0;34m)\u001b[0m\u001b[0;34m:\u001b[0m\u001b[0;34m\u001b[0m\u001b[0;34m\u001b[0m\u001b[0m\n\u001b[0;32m--> 579\u001b[0;31m                 \u001b[0mpargs\u001b[0m \u001b[0;34m=\u001b[0m \u001b[0m_check_args\u001b[0m\u001b[0;34m(\u001b[0m\u001b[0margs\u001b[0m\u001b[0;34m,\u001b[0m \u001b[0mkwargs\u001b[0m\u001b[0;34m)\u001b[0m\u001b[0;34m\u001b[0m\u001b[0;34m\u001b[0m\u001b[0m\n\u001b[0m\u001b[1;32m    580\u001b[0m                 \u001b[0;32mreturn\u001b[0m \u001b[0mfunc\u001b[0m\u001b[0;34m(\u001b[0m\u001b[0margs\u001b[0m\u001b[0;34m[\u001b[0m\u001b[0;36m0\u001b[0m\u001b[0;34m]\u001b[0m\u001b[0;34m,\u001b[0m \u001b[0;34m**\u001b[0m\u001b[0mpargs\u001b[0m\u001b[0;34m)\u001b[0m\u001b[0;34m\u001b[0m\u001b[0;34m\u001b[0m\u001b[0m\n\u001b[1;32m    581\u001b[0m         \u001b[0;32melse\u001b[0m\u001b[0;34m:\u001b[0m\u001b[0;34m\u001b[0m\u001b[0;34m\u001b[0m\u001b[0m\n",
      "\u001b[0;32m~/spikeinterface/hussaini-test-pipeline/venv/lib/python3.8/site-packages/hdmf/utils.py\u001b[0m in \u001b[0;36m_check_args\u001b[0;34m(args, kwargs)\u001b[0m\n\u001b[1;32m    570\u001b[0m                 \u001b[0;32mif\u001b[0m \u001b[0mparse_err\u001b[0m\u001b[0;34m:\u001b[0m\u001b[0;34m\u001b[0m\u001b[0;34m\u001b[0m\u001b[0m\n\u001b[1;32m    571\u001b[0m                     \u001b[0mmsg\u001b[0m \u001b[0;34m=\u001b[0m \u001b[0;34m'%s: %s'\u001b[0m \u001b[0;34m%\u001b[0m \u001b[0;34m(\u001b[0m\u001b[0mfunc\u001b[0m\u001b[0;34m.\u001b[0m\u001b[0m__qualname__\u001b[0m\u001b[0;34m,\u001b[0m \u001b[0;34m', '\u001b[0m\u001b[0;34m.\u001b[0m\u001b[0mjoin\u001b[0m\u001b[0;34m(\u001b[0m\u001b[0mparse_err\u001b[0m\u001b[0;34m)\u001b[0m\u001b[0;34m)\u001b[0m\u001b[0;34m\u001b[0m\u001b[0;34m\u001b[0m\u001b[0m\n\u001b[0;32m--> 572\u001b[0;31m                     \u001b[0;32mraise\u001b[0m \u001b[0mExceptionType\u001b[0m\u001b[0;34m(\u001b[0m\u001b[0mmsg\u001b[0m\u001b[0;34m)\u001b[0m\u001b[0;34m\u001b[0m\u001b[0;34m\u001b[0m\u001b[0m\n\u001b[0m\u001b[1;32m    573\u001b[0m \u001b[0;34m\u001b[0m\u001b[0m\n\u001b[1;32m    574\u001b[0m             \u001b[0;32mreturn\u001b[0m \u001b[0mparsed\u001b[0m\u001b[0;34m[\u001b[0m\u001b[0;34m'args'\u001b[0m\u001b[0;34m]\u001b[0m\u001b[0;34m\u001b[0m\u001b[0;34m\u001b[0m\u001b[0m\n",
      "\u001b[0;31mTypeError\u001b[0m: NWBFile.__init__: incorrect type for 'session_start_time' (got 'str', expected 'datetime')"
     ]
    }
   ],
   "source": [
    "metadata = axona_unit_interface.get_metadata()\n",
    "\n",
    "nwb_test = axona_unit_interface.run_conversion(\n",
    "    nwbfile=None,\n",
    "    save_path=output_file_test,\n",
    "    metadata=metadata\n",
    ")"
   ]
  },
  {
   "cell_type": "code",
   "execution_count": null,
   "id": "b842f19f",
   "metadata": {},
   "outputs": [],
   "source": []
  },
  {
   "cell_type": "code",
   "execution_count": null,
   "id": "eb5b91e1",
   "metadata": {},
   "outputs": [],
   "source": []
  },
  {
   "cell_type": "code",
   "execution_count": null,
   "id": "1c8443c8",
   "metadata": {},
   "outputs": [],
   "source": []
  },
  {
   "cell_type": "code",
   "execution_count": null,
   "id": "fb86273e",
   "metadata": {},
   "outputs": [],
   "source": []
  },
  {
   "cell_type": "code",
   "execution_count": null,
   "id": "4ef5848c",
   "metadata": {},
   "outputs": [],
   "source": []
  },
  {
   "cell_type": "code",
   "execution_count": null,
   "id": "8a951074",
   "metadata": {},
   "outputs": [],
   "source": []
  },
  {
   "cell_type": "code",
   "execution_count": null,
   "id": "5e983b80",
   "metadata": {},
   "outputs": [],
   "source": []
  },
  {
   "cell_type": "code",
   "execution_count": null,
   "id": "385eee4d",
   "metadata": {},
   "outputs": [],
   "source": []
  },
  {
   "cell_type": "code",
   "execution_count": null,
   "id": "3d6a54bd",
   "metadata": {},
   "outputs": [],
   "source": []
  },
  {
   "cell_type": "code",
   "execution_count": 23,
   "id": "096bcc3e",
   "metadata": {},
   "outputs": [],
   "source": [
    "# Read .eeg data with Hussaini lab tool\n",
    "\n",
    "import mmap\n",
    "import contextlib\n",
    "\n",
    "def ReadEEG(eeg_fname):\n",
    "    \"\"\"input:\n",
    "    eeg_filename: the fullpath to the eeg file that is desired to be read.\n",
    "    Example: C:\\Location\\of\\eegfile.eegX\n",
    "    Output:\n",
    "    The EEG waveform, and the sampling frequency\"\"\"\n",
    "\n",
    "    with open(eeg_fname, 'rb') as f:\n",
    "\n",
    "        is_eeg = False\n",
    "        if 'eeg' in eeg_fname:\n",
    "            is_eeg = True\n",
    "            # Fs = 250\n",
    "        # else:\n",
    "        #    Fs = 4.8e3\n",
    "\n",
    "        with contextlib.closing(mmap.mmap(f.fileno(), 0, access=mmap.ACCESS_READ)) as m:\n",
    "            # find the data_start\n",
    "            start_index = int(m.find(b'data_start') + len('data_start'))  # start of the data\n",
    "            stop_index = int(m.find(b'\\r\\ndata_end'))  # end of the data\n",
    "\n",
    "            sample_rate_start = m.find(b'sample_rate')\n",
    "            sample_rate_end = m[sample_rate_start:].find(b'\\r\\n')\n",
    "            Fs = float(m[sample_rate_start:sample_rate_start + sample_rate_end].decode('utf-8').split(' ')[1])\n",
    "\n",
    "            m = m[start_index:stop_index]\n",
    "\n",
    "            if is_eeg:\n",
    "                EEG = np.fromstring(m, dtype='>b')\n",
    "            else:\n",
    "                EEG = np.fromstring(m, dtype='<h')\n",
    "\n",
    "            return EEG, int(Fs)"
   ]
  },
  {
   "cell_type": "code",
   "execution_count": 24,
   "id": "c9d4f01b",
   "metadata": {},
   "outputs": [],
   "source": [
    "eeg_fname = '/mnt/d/freelance-work/catalyst-neuro/hussaini-lab-to-nwb/Axona_Tint_1ms/20201004_Tint.eeg'\n",
    "\n",
    "eeg = read_eeg_file_lfp_data(eeg_fname)"
   ]
  },
  {
   "cell_type": "code",
   "execution_count": 25,
   "id": "aa3b7f90",
   "metadata": {},
   "outputs": [
    {
     "name": "stderr",
     "output_type": "stream",
     "text": [
      "/tmp/ipykernel_1252/278864083.py:34: DeprecationWarning: The binary mode of fromstring is deprecated, as it behaves surprisingly on unicode inputs. Use frombuffer instead\n",
      "  EEG = np.fromstring(m, dtype='>b')\n"
     ]
    }
   ],
   "source": [
    "eeg_huss = ReadEEG(eeg_fname)"
   ]
  },
  {
   "cell_type": "code",
   "execution_count": 30,
   "id": "06dcdf87",
   "metadata": {},
   "outputs": [
    {
     "name": "stdout",
     "output_type": "stream",
     "text": [
      "(150250,)\n",
      "[  0   0   0  -5  -7  -5 -19   0 -10  -4   2   5  -4  -8 -13   1  18  29\n",
      "  21  -1   5  -2  17  10  -2 -24 -15 -25  -1 -23   0   0   3   8  12   1\n",
      "  12  27  -7 -10 -10 -21   0   0 -27  17   0   3  -5   0  -8 -21  -7 -28\n",
      " -31 -10 -29  -9 -23 -14   0 -18 -23 -19  -5   3   8   6  -8  -3 -10   4\n",
      "   6   0 -11  -5 -16 -17   0 -21 -23 -19 -23 -19 -21 -21  -9 -15 -14 -18\n",
      " -33 -18 -26 -15 -37 -25 -36 -29 -33 -28]\n"
     ]
    }
   ],
   "source": [
    "print(eeg.shape)\n",
    "print(eeg[0:100])"
   ]
  },
  {
   "cell_type": "code",
   "execution_count": 26,
   "id": "e68fa6b7",
   "metadata": {},
   "outputs": [
    {
     "name": "stdout",
     "output_type": "stream",
     "text": [
      "(150250,)\n"
     ]
    },
    {
     "data": {
      "text/plain": [
       "array([  0,   0,   0,  -5,  -7,  -5, -19,   0, -10,  -4,   2,   5,  -4,\n",
       "        -8, -13,   1,  18,  29,  21,  -1,   5,  -2,  17,  10,  -2, -24,\n",
       "       -15, -25,  -1, -23,   0,   0,   3,   8,  12,   1,  12,  27,  -7,\n",
       "       -10, -10, -21,   0,   0, -27,  17,   0,   3,  -5,   0,  -8, -21,\n",
       "        -7, -28, -31, -10, -29,  -9, -23, -14,   0, -18, -23, -19,  -5,\n",
       "         3,   8,   6,  -8,  -3, -10,   4,   6,   0, -11,  -5, -16, -17,\n",
       "         0, -21, -23, -19, -23, -19, -21, -21,  -9, -15, -14, -18, -33,\n",
       "       -18, -26, -15, -37, -25, -36, -29, -33, -28], dtype=int8)"
      ]
     },
     "execution_count": 26,
     "metadata": {},
     "output_type": "execute_result"
    }
   ],
   "source": [
    "print(eeg_huss[0].shape)\n",
    "eeg_huss[0][0:100]"
   ]
  },
  {
   "cell_type": "code",
   "execution_count": 370,
   "id": "30ce3c36",
   "metadata": {},
   "outputs": [],
   "source": [
    "def get_header_bstring(file):\n",
    "    \"\"\"\n",
    "    Scan file for the occurrence of 'data_start' and return the header\n",
    "    as byte string\n",
    "\n",
    "    Parameters\n",
    "    ----------\n",
    "    file (str or path): file to be loaded\n",
    "\n",
    "    Returns\n",
    "    -------\n",
    "    str: header byte content\n",
    "    \"\"\"\n",
    "    header = b''\n",
    "    with open(file, 'rb') as f:\n",
    "        for bin_line in f:\n",
    "            if b'data_start' in bin_line:\n",
    "                header += b'data_start'\n",
    "                break\n",
    "            else:\n",
    "                header += bin_line\n",
    "    return header"
   ]
  },
  {
   "cell_type": "code",
   "execution_count": 412,
   "id": "e639432e",
   "metadata": {},
   "outputs": [
    {
     "data": {
      "text/plain": [
       "'/mnt/d/freelance-work/catalyst-neuro/hussaini-lab-to-nwb/new_session_data/06172021-HPC-B6-RAW/06172021-HPC-B6-RAW.set'"
      ]
     },
     "execution_count": 412,
     "metadata": {},
     "output_type": "execute_result"
    }
   ],
   "source": [
    "set_filename"
   ]
  },
  {
   "cell_type": "code",
   "execution_count": 434,
   "id": "399a947b",
   "metadata": {},
   "outputs": [
    {
     "data": {
      "text/plain": [
       "[<matplotlib.lines.Line2D at 0x7ff55d4d6700>]"
      ]
     },
     "execution_count": 434,
     "metadata": {},
     "output_type": "execute_result"
    },
    {
     "data": {
      "image/png": "[encoded data removed]",
      "text/plain": [
       "<Figure size 432x288 with 1 Axes>"
      ]
     },
     "metadata": {
      "needs_background": "light"
     },
     "output_type": "display_data"
    }
   ],
   "source": [
    "#plt.plot(recording.neo_reader.get_analogsignal_chunk(channel_indexes=[15])[0:4800])\n",
    "plt.plot(recording.neo_reader.get_analogsignal_chunk(channel_indexes=[16])[0:4800])\n",
    "plt.plot(recording.neo_reader.get_analogsignal_chunk(channel_indexes=[17])[0:4800])\n",
    "plt.plot(recording.neo_reader.get_analogsignal_chunk(channel_indexes=[18])[0:4800])\n",
    "plt.plot(recording.neo_reader.get_analogsignal_chunk(channel_indexes=[19])[0:4800])"
   ]
  },
  {
   "cell_type": "code",
   "execution_count": 462,
   "id": "1edf0a8f",
   "metadata": {},
   "outputs": [
    {
     "data": {
      "text/plain": [
       "(0.0, 5000.0)"
      ]
     },
     "execution_count": 462,
     "metadata": {},
     "output_type": "execute_result"
    },
    {
     "data": {
      "image/png": "[encoded data removed]",
      "text/plain": [
       "<Figure size 432x288 with 1 Axes>"
      ]
     },
     "metadata": {
      "needs_background": "light"
     },
     "output_type": "display_data"
    }
   ],
   "source": [
    "import scipy as sci\n",
    "\n",
    "f, Pxx_den = sci.signal.welch(\n",
    "    np.squeeze(recording.neo_reader.get_analogsignal_chunk(channel_indexes=[19])),\n",
    "    48000,\n",
    "    nperseg=1024\n",
    ")\n",
    "plt.semilogy(f, Pxx_den)\n",
    "plt.xlim([0, 5000])\n",
    "\n",
    "# If this is how the eeg data is saved in the .bin file, what is the point of the egf sampling rate of 4800 Hz?!\n",
    "# It looks like the data is already lowpass filtered at approximately 1000 Hz."
   ]
  },
  {
   "cell_type": "code",
   "execution_count": 424,
   "id": "3ccfe6ce",
   "metadata": {},
   "outputs": [
    {
     "data": {
      "text/plain": [
       "{1: 16, 2: 17, 3: 18, 4: 19}"
      ]
     },
     "execution_count": 424,
     "metadata": {},
     "output_type": "execute_result"
    }
   ],
   "source": [
    "#https://github.com/HussainiLab/BinConverter/blob/master/BinConverter/core/Tint_Matlab.py\n",
    "from BinConverter.core.Tint_Matlab import get_active_eeg\n",
    "\n",
    "set_file_eeg = '/mnt/c/tmp_data/catalystneuro/sample_bin_to_tint/axona_sample.set'\n",
    "bin_file_eeg = '/mnt/c/tmp_data/catalystneuro/sample_bin_to_tint/axona_sample.bin'\n",
    "\n",
    "active_eeg_channels = get_active_eeg(set_file_eeg)\n",
    "active_eeg_channels"
   ]
  },
  {
   "cell_type": "code",
   "execution_count": 425,
   "id": "f6b6f5bc",
   "metadata": {},
   "outputs": [
    {
     "data": {
      "text/plain": [
       "array([17, 18, 19, 20])"
      ]
     },
     "execution_count": 425,
     "metadata": {},
     "output_type": "execute_result"
    }
   ],
   "source": [
    "active_eeg_channel_numbers = np.asarray(list(active_eeg_channels.values())) + 1\n",
    "active_eeg_channel_numbers"
   ]
  },
  {
   "cell_type": "code",
   "execution_count": 426,
   "id": "4fcd52a6",
   "metadata": {},
   "outputs": [
    {
     "name": "stdout",
     "output_type": "stream",
     "text": [
      "1 16\n",
      "2 17\n",
      "3 18\n",
      "4 19\n"
     ]
    }
   ],
   "source": [
    "for channel in active_eeg_channel_numbers:\n",
    "\n",
    "    for eeg_number, eeg_chan_value in sorted(active_eeg_channels.items()):\n",
    "        if eeg_chan_value == channel - 1:\n",
    "            \n",
    "            print(eeg_number, eeg_chan_value)"
   ]
  },
  {
   "cell_type": "code",
   "execution_count": null,
   "id": "164f7c51",
   "metadata": {},
   "outputs": [],
   "source": []
  },
  {
   "cell_type": "code",
   "execution_count": 427,
   "id": "1877ca24",
   "metadata": {},
   "outputs": [
    {
     "data": {
      "text/plain": [
       "(1, 57600)"
      ]
     },
     "execution_count": 427,
     "metadata": {},
     "output_type": "execute_result"
    }
   ],
   "source": [
    "from BinConverter.core.readBin import get_bin_data\n",
    "\n",
    "EEG = get_bin_data(bin_file_eeg, channels=[channel])\n",
    "\n",
    "EEG.shape"
   ]
  },
  {
   "cell_type": "code",
   "execution_count": 431,
   "id": "0fc8f9cc",
   "metadata": {},
   "outputs": [],
   "source": [
    "rx.get_traces?"
   ]
  },
  {
   "cell_type": "code",
   "execution_count": 433,
   "id": "e0927d00",
   "metadata": {},
   "outputs": [
    {
     "data": {
      "text/plain": [
       "20"
      ]
     },
     "execution_count": 433,
     "metadata": {},
     "output_type": "execute_result"
    }
   ],
   "source": [
    "channel"
   ]
  },
  {
   "cell_type": "code",
   "execution_count": 432,
   "id": "a3ad3efb",
   "metadata": {},
   "outputs": [
    {
     "data": {
      "text/plain": [
       "array([[  3682,  -3870,      0, ..., -13700, -14410, -11876],\n",
       "       [  1714,   -188,      0, ...,  -9006,  -9980,  -9502],\n",
       "       [ 10480,   5308,      0, ...,  -8460,  -7266,  -4906],\n",
       "       ...,\n",
       "       [ -5500,   -206,      0, ..., -18238, -17952, -15410],\n",
       "       [   798,  -9238,      0, ..., -17090, -13344,  -8568],\n",
       "       [  2378,  -6200,      0, ..., -17912, -15948, -11356]], dtype=int16)"
      ]
     },
     "execution_count": 432,
     "metadata": {},
     "output_type": "execute_result"
    }
   ],
   "source": [
    "rx = se.AxonaRecordingExtractor(filename=bin_file_eeg)\n",
    "\n",
    "rx.get_traces(return_scaled=False)"
   ]
  },
  {
   "cell_type": "code",
   "execution_count": 428,
   "id": "63c695b3",
   "metadata": {},
   "outputs": [
    {
     "data": {
      "text/plain": [
       "array([[  984.,     0.,     0., ..., -1214., -1218., -1218.]])"
      ]
     },
     "execution_count": 428,
     "metadata": {},
     "output_type": "execute_result"
    }
   ],
   "source": [
    "EEG"
   ]
  },
  {
   "cell_type": "code",
   "execution_count": null,
   "id": "2da8cfb5",
   "metadata": {},
   "outputs": [],
   "source": [
    "create_eeg(eeg_filename, EEG, Fs, DC_Blocker=self.dc_blocker.isChecked())"
   ]
  },
  {
   "cell_type": "code",
   "execution_count": null,
   "id": "e0d40c78",
   "metadata": {},
   "outputs": [],
   "source": []
  },
  {
   "cell_type": "code",
   "execution_count": null,
   "id": "1051b0cc",
   "metadata": {},
   "outputs": [],
   "source": []
  },
  {
   "cell_type": "code",
   "execution_count": null,
   "id": "228becb0",
   "metadata": {},
   "outputs": [],
   "source": []
  },
  {
   "cell_type": "code",
   "execution_count": null,
   "id": "4eb026a2",
   "metadata": {},
   "outputs": [],
   "source": []
  },
  {
   "cell_type": "code",
   "execution_count": 407,
   "id": "a4655079",
   "metadata": {},
   "outputs": [
    {
     "name": "stdout",
     "output_type": "stream",
     "text": [
      "37562\n",
      "(37562, 4)\n"
     ]
    }
   ],
   "source": [
    "eeg_length = eeg_data.shape[0]\n",
    "print(eeg_length)\n",
    "print(eeg_data.shape)"
   ]
  },
  {
   "cell_type": "code",
   "execution_count": 403,
   "id": "08c6ed0e",
   "metadata": {},
   "outputs": [
    {
     "data": {
      "text/plain": [
       "(150250,)"
      ]
     },
     "execution_count": 403,
     "metadata": {},
     "output_type": "execute_result"
    }
   ],
   "source": [
    "eeg_huss[0][0:eeg_length].shape"
   ]
  },
  {
   "cell_type": "code",
   "execution_count": 404,
   "id": "423cbe2a",
   "metadata": {},
   "outputs": [
    {
     "data": {
      "text/plain": [
       "True"
      ]
     },
     "execution_count": 404,
     "metadata": {},
     "output_type": "execute_result"
    }
   ],
   "source": [
    "np.array_equal(eeg_data, eeg_huss[0])"
   ]
  },
  {
   "cell_type": "code",
   "execution_count": 395,
   "id": "5c530c5f",
   "metadata": {},
   "outputs": [
    {
     "data": {
      "text/plain": [
       "(150250,)"
      ]
     },
     "execution_count": 395,
     "metadata": {},
     "output_type": "execute_result"
    }
   ],
   "source": [
    "eeg_huss[0].shape"
   ]
  },
  {
   "cell_type": "markdown",
   "id": "a0ca274e",
   "metadata": {},
   "source": [
    "*  Case 3: Extract numpy ndarray from `.egf` data (high Fs)"
   ]
  },
  {
   "cell_type": "code",
   "execution_count": null,
   "id": "7dbae977",
   "metadata": {},
   "outputs": [],
   "source": []
  },
  {
   "cell_type": "code",
   "execution_count": 23,
   "id": "6270b8e9",
   "metadata": {},
   "outputs": [
    {
     "name": "stderr",
     "output_type": "stream",
     "text": [
      "Exception ignored in: <function BaseExtractor.__del__ at 0x7fc18fedd9d0>\n",
      "Traceback (most recent call last):\n",
      "  File \"/home/sbuergers/spikeinterface/hussaini-test-pipeline/venv/lib/python3.8/site-packages/spikeextractors/baseextractor.py\", line 36, in __del__\n",
      "    for memmap_obj in self._memmap_files:\n",
      "AttributeError: 'NumpyRecordingExtractor' object has no attribute '_memmap_files'\n"
     ]
    },
    {
     "ename": "TypeError",
     "evalue": "__init__() missing 2 required positional arguments: 'timeseries' and 'sampling_frequency'",
     "output_type": "error",
     "traceback": [
      "\u001b[0;31m---------------------------------------------------------------------------\u001b[0m",
      "\u001b[0;31mTypeError\u001b[0m                                 Traceback (most recent call last)",
      "\u001b[0;32m/tmp/ipykernel_2560/3632837562.py\u001b[0m in \u001b[0;36m<module>\u001b[0;34m\u001b[0m\n\u001b[1;32m      4\u001b[0m \u001b[0;31m# not want to look at high frequency oscillations in LFP data.\u001b[0m\u001b[0;34m\u001b[0m\u001b[0;34m\u001b[0m\u001b[0;34m\u001b[0m\u001b[0m\n\u001b[1;32m      5\u001b[0m \u001b[0;34m\u001b[0m\u001b[0m\n\u001b[0;32m----> 6\u001b[0;31m \u001b[0mRX\u001b[0m \u001b[0;34m=\u001b[0m \u001b[0mse\u001b[0m\u001b[0;34m.\u001b[0m\u001b[0mNumpyRecordingExtractor\u001b[0m\u001b[0;34m(\u001b[0m\u001b[0;34m)\u001b[0m\u001b[0;34m\u001b[0m\u001b[0;34m\u001b[0m\u001b[0m\n\u001b[0m\u001b[1;32m      7\u001b[0m \u001b[0;34m\u001b[0m\u001b[0m\n\u001b[1;32m      8\u001b[0m \u001b[0mRX\u001b[0m\u001b[0;34m\u001b[0m\u001b[0;34m\u001b[0m\u001b[0m\n",
      "\u001b[0;31mTypeError\u001b[0m: __init__() missing 2 required positional arguments: 'timeseries' and 'sampling_frequency'"
     ]
    }
   ],
   "source": [
    "\n",
    "RX = se.NumpyRecordingExtractor()\n",
    "\n",
    "RX"
   ]
  },
  {
   "cell_type": "code",
   "execution_count": 348,
   "id": "236caf58",
   "metadata": {},
   "outputs": [],
   "source": [
    "se.CacheRecordingExtractor??"
   ]
  },
  {
   "cell_type": "code",
   "execution_count": null,
   "id": "9f231db6",
   "metadata": {},
   "outputs": [],
   "source": []
  },
  {
   "cell_type": "code",
   "execution_count": 340,
   "id": "92554ca6",
   "metadata": {},
   "outputs": [],
   "source": [
    "from nwb_conversion_tools.datainterfaces.ecephys.baselfpextractorinterface import BaseLFPExtractorInterface\n",
    "from nwb_conversion_tools.datainterfaces.ecephys.axona.axonadatainterface import AxonaRecordingExtractorInterface\n",
    "from nwb_conversion_tools.utils.json_schema import get_schema_from_hdmf_class\n",
    "from nwb_conversion_tools.utils.spike_interface import write_recording\n",
    "from pynwb.ecephys import ElectricalSeries\n",
    "import spiketoolkit as st\n",
    "\n",
    "\n",
    "OptionalPathType = Optional[Union[str, Path]]\n",
    "\n",
    "\n",
    "class AxonaLFPExtractorInterface(AxonaRecordingExtractorInterface):\n",
    "    \"\"\"...\"\"\"\n",
    "    \n",
    "    def __init__(self, filename: str):\n",
    "        super().__init__(filename=filename)\n",
    "        sampling_rate = 250  # .eeg=250, .egf=4800\n",
    "        print('Filtering and caching, this may take a few minutes ...')\n",
    "        recording_filt = st.preprocessing.bandpass_filter(\n",
    "            self.RX(filename=filename),\n",
    "            freq_min=0,\n",
    "            freq_max=np.floor(sampling_rate / 2.25)\n",
    "        )\n",
    "        recording_downsamp = st.preprocessing.ResampleRecording(recording_filt, sampling_rate)\n",
    "        recording_downsamp\n",
    "        self.recording_extractor = se.CacheRecordingExtractor(\n",
    "            recording_downsamp, return_scaled=False\n",
    "        )\n",
    "        self.subset_channels = None\n",
    "        \n",
    "    def get_metadata_schema(self):\n",
    "        metadata_schema = super().get_metadata_schema()\n",
    "        metadata_schema[\"properties\"][\"Ecephys\"][\"properties\"].update(\n",
    "            ElectricalSeries_lfp=get_schema_from_hdmf_class(ElectricalSeries)\n",
    "        )\n",
    "        return metadata_schema\n",
    "\n",
    "    def get_metadata(self):\n",
    "        \"\"\"Retrieve Ecephys metadata specific to the Axona format.\"\"\"\n",
    "        metadata = super().get_metadata()\n",
    "        metadata['Ecephys'].pop('ElectricalSeries_raw', None)\n",
    "        metadata['Ecephys'].update(\n",
    "            ElectricalSeries_lfp=dict(\n",
    "                name=\"LFP\",\n",
    "                description=\"Local field potential signal.\"\n",
    "            )\n",
    "        )\n",
    "\n",
    "        return metadata\n",
    "    \n",
    "    def run_conversion(\n",
    "        self,\n",
    "        nwbfile: NWBFile,\n",
    "        metadata: dict = None,\n",
    "        stub_test: bool = False,\n",
    "        use_times: bool = False,\n",
    "        save_path: OptionalPathType = None,\n",
    "        overwrite: bool = False,\n",
    "        buffer_mb: int = 500\n",
    "    ):\n",
    "        \"\"\"\n",
    "        Primary function for converting low-pass recording extractor data to nwb.\n",
    "\n",
    "        Parameters\n",
    "        ----------\n",
    "        nwbfile: NWBFile\n",
    "            nwb file to which the recording information is to be added\n",
    "        metadata: dict\n",
    "            metadata info for constructing the nwb file (optional).\n",
    "            Should be of the format\n",
    "                metadata['Ecephys']['ElectricalSeries'] = dict(name=my_name, description=my_description)\n",
    "        use_times: bool\n",
    "            If True, the times are saved to the nwb file using recording.frame_to_time(). If False (default),\n",
    "            the sampling rate is used.\n",
    "        save_path: PathType\n",
    "            Required if an nwbfile is not passed. Must be the path to the nwbfile\n",
    "            being appended, otherwise one is created and written.\n",
    "        overwrite: bool\n",
    "            If using save_path, whether or not to overwrite the NWBFile if it already exists.\n",
    "        stub_test: bool, optional (default False)\n",
    "            If True, will truncate the data to run the conversion faster and take up less memory.\n",
    "        buffer_mb: int (optional, defaults to 500MB)\n",
    "            Maximum amount of memory (in MB) to use per iteration of the internal DataChunkIterator.\n",
    "            Requires trace data in the RecordingExtractor to be a memmap object.\n",
    "        \"\"\"\n",
    "        if stub_test or self.subset_channels is not None:\n",
    "            recording = self.subset_recording(stub_test=stub_test)\n",
    "        else:\n",
    "            recording = self.recording_extractor\n",
    "        write_recording(\n",
    "            recording=recording,\n",
    "            nwbfile=nwbfile,\n",
    "            metadata=metadata,\n",
    "            use_times=use_times,\n",
    "            write_as=\"lfp\",\n",
    "            es_key=\"ElectricalSeries_lfp\",\n",
    "            save_path=save_path,\n",
    "            overwrite=overwrite,\n",
    "            buffer_mb=buffer_mb\n",
    "        )"
   ]
  },
  {
   "cell_type": "code",
   "execution_count": 341,
   "id": "7a163a87",
   "metadata": {},
   "outputs": [],
   "source": [
    "set_filename = '/mnt/d/freelance-work/catalyst-neuro/hussaini-lab-to-nwb/new_session_data/06172021-HPC-B6-RAW/06172021-HPC-B6-RAW.set'"
   ]
  },
  {
   "cell_type": "code",
   "execution_count": 342,
   "id": "05ca956c",
   "metadata": {},
   "outputs": [
    {
     "name": "stdout",
     "output_type": "stream",
     "text": [
      "['gain', 'group', 'name', 'offset']\n"
     ]
    },
    {
     "data": {
      "text/plain": [
       "['gain', 'group', 'group_name', 'name', 'offset']"
      ]
     },
     "execution_count": 342,
     "metadata": {},
     "output_type": "execute_result"
    }
   ],
   "source": [
    "axo_raw = AxonaRecordingExtractorInterface(filename=set_filename)\n",
    "\n",
    "print(axo_raw.recording_extractor.get_shared_channel_property_names())\n",
    "\n",
    "axo_raw.get_metadata()\n",
    "axo_raw.recording_extractor.get_shared_channel_property_names()"
   ]
  },
  {
   "cell_type": "code",
   "execution_count": 343,
   "id": "ba7818db",
   "metadata": {},
   "outputs": [
    {
     "data": {
      "text/plain": [
       "{'filename': '/mnt/d/freelance-work/catalyst-neuro/hussaini-lab-to-nwb/new_session_data/06172021-HPC-B6-RAW/06172021-HPC-B6-RAW.set'}"
      ]
     },
     "execution_count": 343,
     "metadata": {},
     "output_type": "execute_result"
    }
   ],
   "source": [
    "axo_lfp.source_data"
   ]
  },
  {
   "cell_type": "code",
   "execution_count": 344,
   "id": "18387d05",
   "metadata": {},
   "outputs": [
    {
     "name": "stderr",
     "output_type": "stream",
     "text": [
      "Exception ignored in: <function CacheRecordingExtractor.__del__ at 0x7ff5ce4b68b0>\n",
      "Traceback (most recent call last):\n",
      "  File \"/home/sbuergers/spikeinterface/hussaini-test-pipeline/venv/lib/python3.8/site-packages/spikeextractors/cacheextractors.py\", line 57, in __del__\n",
      "    if self._is_tmp:\n",
      "AttributeError: 'CacheRecordingExtractor' object has no attribute '_is_tmp'\n"
     ]
    },
    {
     "name": "stdout",
     "output_type": "stream",
     "text": [
      "Filtering and caching, this may take a few minutes ...\n"
     ]
    },
    {
     "ename": "TypeError",
     "evalue": "__init__() got an unexpected keyword argument 'dtype'",
     "output_type": "error",
     "traceback": [
      "\u001b[0;31m---------------------------------------------------------------------------\u001b[0m",
      "\u001b[0;31mTypeError\u001b[0m                                 Traceback (most recent call last)",
      "\u001b[0;32m/tmp/ipykernel_1048/4024521150.py\u001b[0m in \u001b[0;36m<module>\u001b[0;34m\u001b[0m\n\u001b[0;32m----> 1\u001b[0;31m \u001b[0maxo_lfp\u001b[0m \u001b[0;34m=\u001b[0m \u001b[0mAxonaLFPExtractorInterface\u001b[0m\u001b[0;34m(\u001b[0m\u001b[0mfilename\u001b[0m\u001b[0;34m=\u001b[0m\u001b[0mset_filename\u001b[0m\u001b[0;34m)\u001b[0m\u001b[0;34m\u001b[0m\u001b[0;34m\u001b[0m\u001b[0m\n\u001b[0m\u001b[1;32m      2\u001b[0m \u001b[0;34m\u001b[0m\u001b[0m\n\u001b[1;32m      3\u001b[0m \u001b[0mprint\u001b[0m\u001b[0;34m(\u001b[0m\u001b[0maxo_lfp\u001b[0m\u001b[0;34m.\u001b[0m\u001b[0mrecording_extractor\u001b[0m\u001b[0;34m.\u001b[0m\u001b[0mget_shared_channel_property_names\u001b[0m\u001b[0;34m(\u001b[0m\u001b[0;34m)\u001b[0m\u001b[0;34m)\u001b[0m\u001b[0;34m\u001b[0m\u001b[0;34m\u001b[0m\u001b[0m\n\u001b[1;32m      4\u001b[0m \u001b[0;34m\u001b[0m\u001b[0m\n\u001b[1;32m      5\u001b[0m \u001b[0maxo_lfp\u001b[0m\u001b[0;34m.\u001b[0m\u001b[0mget_metadata\u001b[0m\u001b[0;34m(\u001b[0m\u001b[0;34m)\u001b[0m\u001b[0;34m\u001b[0m\u001b[0;34m\u001b[0m\u001b[0m\n",
      "\u001b[0;32m/tmp/ipykernel_1048/48177054.py\u001b[0m in \u001b[0;36m__init__\u001b[0;34m(self, filename)\u001b[0m\n\u001b[1;32m     23\u001b[0m         )\n\u001b[1;32m     24\u001b[0m         \u001b[0mrecording_downsamp\u001b[0m \u001b[0;34m=\u001b[0m \u001b[0mst\u001b[0m\u001b[0;34m.\u001b[0m\u001b[0mpreprocessing\u001b[0m\u001b[0;34m.\u001b[0m\u001b[0mResampleRecording\u001b[0m\u001b[0;34m(\u001b[0m\u001b[0mrecording_filt\u001b[0m\u001b[0;34m,\u001b[0m \u001b[0msampling_rate\u001b[0m\u001b[0;34m)\u001b[0m\u001b[0;34m\u001b[0m\u001b[0;34m\u001b[0m\u001b[0m\n\u001b[0;32m---> 25\u001b[0;31m         self.recording_extractor = se.CacheRecordingExtractor(\n\u001b[0m\u001b[1;32m     26\u001b[0m             \u001b[0mrecording_downsamp\u001b[0m\u001b[0;34m,\u001b[0m\u001b[0;34m\u001b[0m\u001b[0;34m\u001b[0m\u001b[0m\n\u001b[1;32m     27\u001b[0m             \u001b[0mreturn_scaled\u001b[0m\u001b[0;34m=\u001b[0m\u001b[0;32mFalse\u001b[0m\u001b[0;34m,\u001b[0m\u001b[0;34m\u001b[0m\u001b[0;34m\u001b[0m\u001b[0m\n",
      "\u001b[0;31mTypeError\u001b[0m: __init__() got an unexpected keyword argument 'dtype'"
     ]
    }
   ],
   "source": [
    "axo_lfp = AxonaLFPExtractorInterface(filename=set_filename)\n",
    "\n",
    "print(axo_lfp.recording_extractor.get_shared_channel_property_names())\n",
    "\n",
    "axo_lfp.get_metadata()\n",
    "axo_lfp.recording_extractor.get_shared_channel_property_names()"
   ]
  },
  {
   "cell_type": "code",
   "execution_count": 345,
   "id": "a4118d65",
   "metadata": {},
   "outputs": [
    {
     "data": {
      "text/plain": [
       "{'required': ['filename'],\n",
       " 'properties': {'filename': {'type': 'string'}},\n",
       " 'type': 'object',\n",
       " 'additionalProperties': False}"
      ]
     },
     "execution_count": 345,
     "metadata": {},
     "output_type": "execute_result"
    }
   ],
   "source": [
    "axo_lfp.get_source_schema()"
   ]
  },
  {
   "cell_type": "code",
   "execution_count": 346,
   "id": "c84dc0ce",
   "metadata": {},
   "outputs": [
    {
     "data": {
      "text/plain": [
       "{}"
      ]
     },
     "execution_count": 346,
     "metadata": {},
     "output_type": "execute_result"
    }
   ],
   "source": [
    "axo_lfp.get_conversion_options()"
   ]
  },
  {
   "cell_type": "code",
   "execution_count": 244,
   "id": "49b28c34",
   "metadata": {},
   "outputs": [
    {
     "data": {
      "text/plain": [
       "{'required': [],\n",
       " 'properties': {'stub_test': {'type': 'boolean', 'default': False},\n",
       "  'use_times': {'type': 'boolean', 'default': False},\n",
       "  'save_path': {'type': 'string'},\n",
       "  'overwrite': {'type': 'boolean', 'default': False},\n",
       "  'buffer_mb': {'type': 'number', 'default': 500}},\n",
       " 'type': 'object',\n",
       " 'additionalProperties': False}"
      ]
     },
     "execution_count": 244,
     "metadata": {},
     "output_type": "execute_result"
    }
   ],
   "source": [
    "axo_lfp.get_conversion_options_schema()"
   ]
  },
  {
   "cell_type": "code",
   "execution_count": 245,
   "id": "7e5dd903",
   "metadata": {},
   "outputs": [],
   "source": [
    "axo_lfp.run_conversion?"
   ]
  },
  {
   "cell_type": "code",
   "execution_count": null,
   "id": "0d66ee6b",
   "metadata": {},
   "outputs": [],
   "source": []
  },
  {
   "cell_type": "code",
   "execution_count": 159,
   "id": "1de48c4d",
   "metadata": {},
   "outputs": [
    {
     "data": {
      "text/plain": [
       "{'Ecephys': {'Device': [{'name': 'Axona',\n",
       "    'description': 'Axona DacqUSB, sw_version=1.2.2.16',\n",
       "    'manufacturer': 'Axona'}],\n",
       "  'ElectrodeGroup': [{'name': 'Group0',\n",
       "    'location': '',\n",
       "    'device': 'Axona',\n",
       "    'description': 'Group 0 electrodes.'},\n",
       "   {'name': 'Group1',\n",
       "    'location': '',\n",
       "    'device': 'Axona',\n",
       "    'description': 'Group 1 electrodes.'},\n",
       "   {'name': 'Group2',\n",
       "    'location': '',\n",
       "    'device': 'Axona',\n",
       "    'description': 'Group 2 electrodes.'},\n",
       "   {'name': 'Group3',\n",
       "    'location': '',\n",
       "    'device': 'Axona',\n",
       "    'description': 'Group 3 electrodes.'}],\n",
       "  'Electrodes': [{'name': 'group_name',\n",
       "    'description': 'The name of the ElectrodeGroup this electrode is a part of.'}],\n",
       "  'ElectricalSeries_lfp': {'name': 'LFP',\n",
       "   'description': 'Local field potential signal.'}},\n",
       " 'NWBFile': {'session_start_time': '2021-06-17T12:22:02',\n",
       "  'session_description': '',\n",
       "  'experimenter': ['Abid']}}"
      ]
     },
     "execution_count": 159,
     "metadata": {},
     "output_type": "execute_result"
    }
   ],
   "source": [
    "metadata = axo_lfp.get_metadata()\n",
    "\n",
    "metadata"
   ]
  },
  {
   "cell_type": "code",
   "execution_count": 339,
   "id": "cda5eb3d",
   "metadata": {},
   "outputs": [],
   "source": [
    "import uuid\n",
    "from datetime import datetime\n",
    "import warnings\n",
    "import numpy as np\n",
    "import distutils.version\n",
    "from pathlib import Path\n",
    "from typing import Union, Optional, List\n",
    "from warnings import warn\n",
    "import psutil\n",
    "from collections import defaultdict\n",
    "\n",
    "import spikeextractors as se\n",
    "import pynwb\n",
    "from numbers import Real\n",
    "from hdmf.data_utils import DataChunkIterator\n",
    "from hdmf.backends.hdf5.h5_utils import H5DataIO\n",
    "#from .json_schema import dict_deep_update\n",
    "\n",
    "PathType = Union[str, Path, None]\n",
    "ArrayType = Union[list, np.ndarray]"
   ]
  },
  {
   "cell_type": "code",
   "execution_count": 92,
   "id": "26701616",
   "metadata": {},
   "outputs": [
    {
     "data": {
      "text/plain": [
       "root pynwb.file.NWBFile at 0x140690625870624\n",
       "Fields:\n",
       "  devices: {\n",
       "    Axona <class 'pynwb.device.Device'>\n",
       "  }\n",
       "  electrode_groups: {\n",
       "    Group0 <class 'pynwb.ecephys.ElectrodeGroup'>,\n",
       "    Group1 <class 'pynwb.ecephys.ElectrodeGroup'>,\n",
       "    Group2 <class 'pynwb.ecephys.ElectrodeGroup'>,\n",
       "    Group3 <class 'pynwb.ecephys.ElectrodeGroup'>\n",
       "  }\n",
       "  experimenter: ['Abid']\n",
       "  file_create_date: [datetime.datetime(2021, 7, 29, 10, 56, 37, 843939, tzinfo=tzlocal())]\n",
       "  identifier: 332e3cde-bb07-4db4-859c-1c0cd8e697d4\n",
       "  session_start_time: 2021-06-17 12:22:02+02:00\n",
       "  timestamps_reference_time: 2021-06-17 12:22:02+02:00"
      ]
     },
     "execution_count": 92,
     "metadata": {},
     "output_type": "execute_result"
    }
   ],
   "source": [
    "nwbfile"
   ]
  },
  {
   "cell_type": "code",
   "execution_count": 160,
   "id": "c12d007b",
   "metadata": {
    "scrolled": false
   },
   "outputs": [
    {
     "name": "stdout",
     "output_type": "stream",
     "text": [
      "{\n",
      "  \"AxonaLFPExtractorInterface\": {\n",
      "    \"filename\": \"/mnt/d/freelance-work/catalyst-neuro/hussaini-lab-to-nwb/new_session_data/06172021-HPC-B6-RAW/06172021-HPC-B6-RAW.set\"\n",
      "  }\n",
      "}\n",
      "Source data is valid!\n"
     ]
    }
   ],
   "source": [
    "class HussainiAxonaNWBConverter(NWBConverter):\n",
    "    data_interface_classes = dict(\n",
    "        AxonaRecordingExtractorInterface=AxonaRecordingExtractorInterface,\n",
    "        AxonaPositionDataInterface=AxonaPositionDataInterface,\n",
    "        AxonaLFPExtractorInterface=AxonaLFPExtractorInterface\n",
    "    )\n",
    "    \n",
    "# Specify source data\n",
    "source_data = dict(\n",
    "#    AxonaPositionDataInterface=dict(\n",
    "#        filename=set_file\n",
    "#    ),\n",
    "#    AxonaRecordingExtractorInterface=dict(\n",
    "#        filename=set_file\n",
    "#    ),\n",
    "    AxonaLFPExtractorInterface=dict(\n",
    "        filename=set_file\n",
    "    )\n",
    ")\n",
    "print(json.dumps(source_data, indent=2))\n",
    "\n",
    "# Initialize HussainiAxonaNWBConverter\n",
    "converter = HussainiAxonaNWBConverter(source_data=source_data)\n",
    "\n",
    "# Get metadata\n",
    "metadata = converter.get_metadata()\n",
    "\n",
    "# Validate metadata against metadata_schema\n",
    "validate(\n",
    "    instance=converter.get_metadata(),\n",
    "    schema=converter.get_metadata_schema()\n",
    ")"
   ]
  },
  {
   "cell_type": "code",
   "execution_count": 347,
   "id": "d3aabfa7",
   "metadata": {},
   "outputs": [
    {
     "name": "stderr",
     "output_type": "stream",
     "text": [
      "Exception ignored in: <function CacheRecordingExtractor.__del__ at 0x7ff5ce4b68b0>\n",
      "Traceback (most recent call last):\n",
      "  File \"/home/sbuergers/spikeinterface/hussaini-test-pipeline/venv/lib/python3.8/site-packages/spikeextractors/cacheextractors.py\", line 57, in __del__\n",
      "    if self._is_tmp:\n",
      "AttributeError: 'CacheRecordingExtractor' object has no attribute '_is_tmp'\n"
     ]
    },
    {
     "name": "stdout",
     "output_type": "stream",
     "text": [
      "{\n",
      "  \"AxonaPositionDataInterface\": {\n",
      "    \"filename\": \"/mnt/d/freelance-work/catalyst-neuro/hussaini-lab-to-nwb/new_session_data/06172021-HPC-B6-RAW/06172021-HPC-B6-RAW.set\"\n",
      "  },\n",
      "  \"AxonaRecordingExtractorInterface\": {\n",
      "    \"filename\": \"/mnt/d/freelance-work/catalyst-neuro/hussaini-lab-to-nwb/new_session_data/06172021-HPC-B6-RAW/06172021-HPC-B6-RAW.set\"\n",
      "  },\n",
      "  \"AxonaLFPExtractorInterface\": {\n",
      "    \"filename\": \"/mnt/d/freelance-work/catalyst-neuro/hussaini-lab-to-nwb/new_session_data/06172021-HPC-B6-RAW/06172021-HPC-B6-RAW.set\"\n",
      "  }\n",
      "}\n",
      "Source data is valid!\n",
      "Filtering and caching, this may take a few minutes ...\n"
     ]
    },
    {
     "ename": "TypeError",
     "evalue": "__init__() got an unexpected keyword argument 'dtype'",
     "output_type": "error",
     "traceback": [
      "\u001b[0;31m---------------------------------------------------------------------------\u001b[0m",
      "\u001b[0;31mTypeError\u001b[0m                                 Traceback (most recent call last)",
      "\u001b[0;32m/tmp/ipykernel_1048/4062880886.py\u001b[0m in \u001b[0;36m<module>\u001b[0;34m\u001b[0m\n\u001b[1;32m     21\u001b[0m \u001b[0;34m\u001b[0m\u001b[0m\n\u001b[1;32m     22\u001b[0m \u001b[0;31m# Initialize HussainiAxonaNWBConverter\u001b[0m\u001b[0;34m\u001b[0m\u001b[0;34m\u001b[0m\u001b[0;34m\u001b[0m\u001b[0m\n\u001b[0;32m---> 23\u001b[0;31m \u001b[0mconverter\u001b[0m \u001b[0;34m=\u001b[0m \u001b[0mHussainiAxonaNWBConverter\u001b[0m\u001b[0;34m(\u001b[0m\u001b[0msource_data\u001b[0m\u001b[0;34m=\u001b[0m\u001b[0msource_data\u001b[0m\u001b[0;34m)\u001b[0m\u001b[0;34m\u001b[0m\u001b[0;34m\u001b[0m\u001b[0m\n\u001b[0m\u001b[1;32m     24\u001b[0m \u001b[0;34m\u001b[0m\u001b[0m\n\u001b[1;32m     25\u001b[0m \u001b[0;31m# Get metadata\u001b[0m\u001b[0;34m\u001b[0m\u001b[0;34m\u001b[0m\u001b[0;34m\u001b[0m\u001b[0m\n",
      "\u001b[0;32m~/spikeinterface/nwb-conversion-tools/nwb_conversion_tools/nwbconverter.py\u001b[0m in \u001b[0;36m__init__\u001b[0;34m(self, source_data)\u001b[0m\n\u001b[1;32m     66\u001b[0m \u001b[0;34m\u001b[0m\u001b[0m\n\u001b[1;32m     67\u001b[0m         \u001b[0;31m# If data is valid, proceed to instantiate DataInterface objects\u001b[0m\u001b[0;34m\u001b[0m\u001b[0;34m\u001b[0m\u001b[0;34m\u001b[0m\u001b[0m\n\u001b[0;32m---> 68\u001b[0;31m         self.data_interface_objects = {\n\u001b[0m\u001b[1;32m     69\u001b[0m             \u001b[0mname\u001b[0m\u001b[0;34m:\u001b[0m \u001b[0mdata_interface\u001b[0m\u001b[0;34m(\u001b[0m\u001b[0;34m**\u001b[0m\u001b[0msource_data\u001b[0m\u001b[0;34m[\u001b[0m\u001b[0mname\u001b[0m\u001b[0;34m]\u001b[0m\u001b[0;34m)\u001b[0m\u001b[0;34m\u001b[0m\u001b[0;34m\u001b[0m\u001b[0m\n\u001b[1;32m     70\u001b[0m             \u001b[0;32mfor\u001b[0m \u001b[0mname\u001b[0m\u001b[0;34m,\u001b[0m \u001b[0mdata_interface\u001b[0m \u001b[0;32min\u001b[0m \u001b[0mself\u001b[0m\u001b[0;34m.\u001b[0m\u001b[0mdata_interface_classes\u001b[0m\u001b[0;34m.\u001b[0m\u001b[0mitems\u001b[0m\u001b[0;34m(\u001b[0m\u001b[0;34m)\u001b[0m\u001b[0;34m\u001b[0m\u001b[0;34m\u001b[0m\u001b[0m\n",
      "\u001b[0;32m~/spikeinterface/nwb-conversion-tools/nwb_conversion_tools/nwbconverter.py\u001b[0m in \u001b[0;36m<dictcomp>\u001b[0;34m(.0)\u001b[0m\n\u001b[1;32m     67\u001b[0m         \u001b[0;31m# If data is valid, proceed to instantiate DataInterface objects\u001b[0m\u001b[0;34m\u001b[0m\u001b[0;34m\u001b[0m\u001b[0;34m\u001b[0m\u001b[0m\n\u001b[1;32m     68\u001b[0m         self.data_interface_objects = {\n\u001b[0;32m---> 69\u001b[0;31m             \u001b[0mname\u001b[0m\u001b[0;34m:\u001b[0m \u001b[0mdata_interface\u001b[0m\u001b[0;34m(\u001b[0m\u001b[0;34m**\u001b[0m\u001b[0msource_data\u001b[0m\u001b[0;34m[\u001b[0m\u001b[0mname\u001b[0m\u001b[0;34m]\u001b[0m\u001b[0;34m)\u001b[0m\u001b[0;34m\u001b[0m\u001b[0;34m\u001b[0m\u001b[0m\n\u001b[0m\u001b[1;32m     70\u001b[0m             \u001b[0;32mfor\u001b[0m \u001b[0mname\u001b[0m\u001b[0;34m,\u001b[0m \u001b[0mdata_interface\u001b[0m \u001b[0;32min\u001b[0m \u001b[0mself\u001b[0m\u001b[0;34m.\u001b[0m\u001b[0mdata_interface_classes\u001b[0m\u001b[0;34m.\u001b[0m\u001b[0mitems\u001b[0m\u001b[0;34m(\u001b[0m\u001b[0;34m)\u001b[0m\u001b[0;34m\u001b[0m\u001b[0;34m\u001b[0m\u001b[0m\n\u001b[1;32m     71\u001b[0m             \u001b[0;32mif\u001b[0m \u001b[0mname\u001b[0m \u001b[0;32min\u001b[0m \u001b[0msource_data\u001b[0m\u001b[0;34m\u001b[0m\u001b[0;34m\u001b[0m\u001b[0m\n",
      "\u001b[0;32m/tmp/ipykernel_1048/48177054.py\u001b[0m in \u001b[0;36m__init__\u001b[0;34m(self, filename)\u001b[0m\n\u001b[1;32m     23\u001b[0m         )\n\u001b[1;32m     24\u001b[0m         \u001b[0mrecording_downsamp\u001b[0m \u001b[0;34m=\u001b[0m \u001b[0mst\u001b[0m\u001b[0;34m.\u001b[0m\u001b[0mpreprocessing\u001b[0m\u001b[0;34m.\u001b[0m\u001b[0mResampleRecording\u001b[0m\u001b[0;34m(\u001b[0m\u001b[0mrecording_filt\u001b[0m\u001b[0;34m,\u001b[0m \u001b[0msampling_rate\u001b[0m\u001b[0;34m)\u001b[0m\u001b[0;34m\u001b[0m\u001b[0;34m\u001b[0m\u001b[0m\n\u001b[0;32m---> 25\u001b[0;31m         self.recording_extractor = se.CacheRecordingExtractor(\n\u001b[0m\u001b[1;32m     26\u001b[0m             \u001b[0mrecording_downsamp\u001b[0m\u001b[0;34m,\u001b[0m\u001b[0;34m\u001b[0m\u001b[0;34m\u001b[0m\u001b[0m\n\u001b[1;32m     27\u001b[0m             \u001b[0mreturn_scaled\u001b[0m\u001b[0;34m=\u001b[0m\u001b[0;32mFalse\u001b[0m\u001b[0;34m,\u001b[0m\u001b[0;34m\u001b[0m\u001b[0;34m\u001b[0m\u001b[0m\n",
      "\u001b[0;31mTypeError\u001b[0m: __init__() got an unexpected keyword argument 'dtype'"
     ]
    }
   ],
   "source": [
    "class HussainiAxonaNWBConverter(NWBConverter):\n",
    "    data_interface_classes = dict(\n",
    "        AxonaRecordingExtractorInterface=AxonaRecordingExtractorInterface,\n",
    "        AxonaPositionDataInterface=AxonaPositionDataInterface,\n",
    "        AxonaLFPExtractorInterface=AxonaLFPExtractorInterface\n",
    "    )\n",
    "    \n",
    "# Specify source data\n",
    "source_data = dict(\n",
    "    AxonaPositionDataInterface=dict(\n",
    "        filename=set_file\n",
    "    ),\n",
    "    AxonaRecordingExtractorInterface=dict(\n",
    "        filename=set_file\n",
    "    ),\n",
    "    AxonaLFPExtractorInterface=dict(\n",
    "        filename=set_file\n",
    "    )\n",
    ")\n",
    "print(json.dumps(source_data, indent=2))\n",
    "\n",
    "# Initialize HussainiAxonaNWBConverter\n",
    "converter = HussainiAxonaNWBConverter(source_data=source_data)\n",
    "\n",
    "# Get metadata\n",
    "metadata = converter.get_metadata()\n",
    "\n",
    "# Validate metadata against metadata_schema\n",
    "validate(\n",
    "    instance=converter.get_metadata(),\n",
    "    schema=converter.get_metadata_schema()\n",
    ")\n",
    "\n",
    "# Export to NWB file\n",
    "output_file = base_dir / 'out_example_test5.nwb'\n",
    "\n",
    "converter.run_conversion(\n",
    "    metadata=metadata, \n",
    "    nwbfile_path=output_file,\n",
    "    overwrite=True,\n",
    "    save_to_file=True,\n",
    "    conversion_options=None\n",
    ")"
   ]
  },
  {
   "cell_type": "code",
   "execution_count": 333,
   "id": "3d7f4dca",
   "metadata": {},
   "outputs": [],
   "source": [
    "# Read data from the nwb file to see if we converted everything correctly\n",
    "\n",
    "io = NWBHDF5IO(output_file, 'r')\n",
    "nwbfile_in = io.read()"
   ]
  },
  {
   "cell_type": "code",
   "execution_count": 334,
   "id": "a35248d0",
   "metadata": {},
   "outputs": [
    {
     "data": {
      "text/plain": [
       "<HDF5 dataset \"data\": shape (14438700, 16), type \"<i2\">"
      ]
     },
     "execution_count": 334,
     "metadata": {},
     "output_type": "execute_result"
    }
   ],
   "source": [
    "nwbfile_in.acquisition['ElectricalSeries_raw'].data"
   ]
  },
  {
   "cell_type": "code",
   "execution_count": 335,
   "id": "1084a985",
   "metadata": {},
   "outputs": [
    {
     "data": {
      "text/plain": [
       "<HDF5 dataset \"data\": shape (75201, 16), type \"<f4\">"
      ]
     },
     "execution_count": 335,
     "metadata": {},
     "output_type": "execute_result"
    }
   ],
   "source": [
    "nwbfile_in.processing['ecephys'].data_interfaces['LFP'].electrical_series['LFP'].data"
   ]
  },
  {
   "cell_type": "code",
   "execution_count": 336,
   "id": "87c81aa1",
   "metadata": {},
   "outputs": [
    {
     "data": {
      "text/plain": [
       "array([ 0,  1,  2,  3,  4,  5,  6,  7,  8,  9, 10, 11, 12, 13, 14, 15, 16,\n",
       "       17, 18, 19, 20, 21, 22, 23, 24, 25, 26, 27, 28, 29, 30, 31, 32, 33,\n",
       "       34, 35, 36, 37, 38, 39, 40, 41, 42, 43, 44, 45, 46, 47, 48, 49, 50,\n",
       "       51, 52, 53, 54, 55, 56, 57, 58, 59, 60, 61, 62, 63, 64, 65, 66, 67,\n",
       "       68, 69, 70, 71, 72, 73, 74, 75, 76, 77, 78, 79, 80, 81, 82, 83, 84,\n",
       "       85, 86, 87, 88, 89, 90, 91, 92, 93, 94, 95, 96, 97, 98, 99])"
      ]
     },
     "execution_count": 336,
     "metadata": {},
     "output_type": "execute_result"
    }
   ],
   "source": [
    "np.arange(0,100)"
   ]
  },
  {
   "cell_type": "code",
   "execution_count": 337,
   "id": "9f3a2d94",
   "metadata": {},
   "outputs": [
    {
     "data": {
      "text/plain": [
       "[<matplotlib.lines.Line2D at 0x7ff55d6ff3a0>]"
      ]
     },
     "execution_count": 337,
     "metadata": {},
     "output_type": "execute_result"
    },
    {
     "data": {
      "image/png": "[encoded data removed]",
      "text/plain": [
       "<Figure size 432x288 with 1 Axes>"
      ]
     },
     "metadata": {
      "needs_background": "light"
     },
     "output_type": "display_data"
    }
   ],
   "source": [
    "plt.plot(nwbfile_in.acquisition['ElectricalSeries_raw'].data[0:2300, 0])"
   ]
  },
  {
   "cell_type": "code",
   "execution_count": 338,
   "id": "7cc55474",
   "metadata": {},
   "outputs": [
    {
     "data": {
      "text/plain": [
       "[<matplotlib.lines.Line2D at 0x7ff55d65f640>]"
      ]
     },
     "execution_count": 338,
     "metadata": {},
     "output_type": "execute_result"
    },
    {
     "data": {
      "image/png": "[encoded data removed]",
      "text/plain": [
       "<Figure size 432x288 with 1 Axes>"
      ]
     },
     "metadata": {
      "needs_background": "light"
     },
     "output_type": "display_data"
    }
   ],
   "source": [
    "plt.plot(nwbfile_in.processing['ecephys'].data_interfaces['LFP'].electrical_series['LFP'].data[0:12, 0])"
   ]
  },
  {
   "cell_type": "code",
   "execution_count": null,
   "id": "f60a7835",
   "metadata": {},
   "outputs": [],
   "source": [
    "test_timeseries_in = nwbfile_in.processing['test_timeseries']\n",
    "print(test_timeseries_in)"
   ]
  },
  {
   "cell_type": "code",
   "execution_count": null,
   "id": "65eff0dd",
   "metadata": {},
   "outputs": [],
   "source": []
  },
  {
   "cell_type": "code",
   "execution_count": null,
   "id": "8eac7049",
   "metadata": {},
   "outputs": [],
   "source": []
  },
  {
   "cell_type": "code",
   "execution_count": null,
   "id": "9f2720cd",
   "metadata": {},
   "outputs": [],
   "source": []
  },
  {
   "cell_type": "code",
   "execution_count": null,
   "id": "ec43d436",
   "metadata": {},
   "outputs": [],
   "source": []
  },
  {
   "cell_type": "code",
   "execution_count": 97,
   "id": "07fcf0aa",
   "metadata": {},
   "outputs": [],
   "source": [
    "axo_raw = AxonaRecordingExtractorInterface(filename=set_file)"
   ]
  },
  {
   "cell_type": "code",
   "execution_count": 102,
   "id": "803f7d86",
   "metadata": {},
   "outputs": [
    {
     "data": {
      "text/plain": [
       "root pynwb.file.NWBFile at 0x140690625870624\n",
       "Fields:\n",
       "  devices: {\n",
       "    Axona <class 'pynwb.device.Device'>\n",
       "  }\n",
       "  electrode_groups: {\n",
       "    Group0 <class 'pynwb.ecephys.ElectrodeGroup'>,\n",
       "    Group1 <class 'pynwb.ecephys.ElectrodeGroup'>,\n",
       "    Group2 <class 'pynwb.ecephys.ElectrodeGroup'>,\n",
       "    Group3 <class 'pynwb.ecephys.ElectrodeGroup'>\n",
       "  }\n",
       "  experimenter: ['Abid']\n",
       "  file_create_date: [datetime.datetime(2021, 7, 29, 10, 56, 37, 843939, tzinfo=tzlocal())]\n",
       "  identifier: 332e3cde-bb07-4db4-859c-1c0cd8e697d4\n",
       "  session_start_time: 2021-06-17 12:22:02+02:00\n",
       "  timestamps_reference_time: 2021-06-17 12:22:02+02:00"
      ]
     },
     "execution_count": 102,
     "metadata": {},
     "output_type": "execute_result"
    }
   ],
   "source": [
    "nwbfile = generate_nwb"
   ]
  },
  {
   "cell_type": "code",
   "execution_count": 141,
   "id": "3a5bf788",
   "metadata": {},
   "outputs": [],
   "source": [
    "metadata = axo_raw.get_metadata()\n",
    "\n",
    "axo_raw.run_conversion(\n",
    "    nwbfile=make_nwbfile_from_metadata(metadata),\n",
    "    metadata=metadata,\n",
    "    overwrite=True,\n",
    "    write_as='raw'\n",
    ")"
   ]
  },
  {
   "cell_type": "code",
   "execution_count": 215,
   "id": "39faf403",
   "metadata": {},
   "outputs": [],
   "source": [
    "metadata = axo_lfp.get_metadata()\n",
    "\n",
    "axo_lfp.run_conversion(\n",
    "    nwbfile=make_nwbfile_from_metadata(metadata),\n",
    "    metadata=metadata,\n",
    "    overwrite=True,\n",
    "    write_as='lfp'\n",
    ")"
   ]
  },
  {
   "cell_type": "code",
   "execution_count": 136,
   "id": "2b031e07",
   "metadata": {},
   "outputs": [],
   "source": [
    "axo_raw.run_conversion??"
   ]
  },
  {
   "cell_type": "code",
   "execution_count": null,
   "id": "988aaff4",
   "metadata": {},
   "outputs": [],
   "source": []
  },
  {
   "cell_type": "code",
   "execution_count": null,
   "id": "0dd333ce",
   "metadata": {},
   "outputs": [],
   "source": []
  },
  {
   "cell_type": "code",
   "execution_count": null,
   "id": "69f9dadd",
   "metadata": {},
   "outputs": [],
   "source": []
  },
  {
   "cell_type": "code",
   "execution_count": null,
   "id": "6c21f8de",
   "metadata": {},
   "outputs": [],
   "source": []
  },
  {
   "cell_type": "code",
   "execution_count": null,
   "id": "c930cdac",
   "metadata": {},
   "outputs": [],
   "source": []
  },
  {
   "cell_type": "code",
   "execution_count": null,
   "id": "1287f09c",
   "metadata": {},
   "outputs": [],
   "source": []
  },
  {
   "cell_type": "code",
   "execution_count": null,
   "id": "e6bec678",
   "metadata": {},
   "outputs": [],
   "source": []
  },
  {
   "cell_type": "code",
   "execution_count": null,
   "id": "6f203307",
   "metadata": {},
   "outputs": [],
   "source": []
  },
  {
   "cell_type": "code",
   "execution_count": null,
   "id": "5b12bca4",
   "metadata": {},
   "outputs": [],
   "source": []
  },
  {
   "cell_type": "code",
   "execution_count": 216,
   "id": "afee899e",
   "metadata": {},
   "outputs": [
    {
     "ename": "ValidationError",
     "evalue": "'identifier' is a required property\n\nFailed validating 'required' in schema['properties']['NWBFile']:\n    {'additionalProperties': False,\n     'properties': {'data_collection': {'description': 'Notes about data '\n                                                       'collection and '\n                                                       'analysis.',\n                                        'type': 'string'},\n                    'experiment_description': {'description': 'general '\n                                                              'description '\n                                                              'of the '\n                                                              'experiment',\n                                               'type': 'string'},\n                    'experimenter': {'default': ['Abid'],\n                                     'description': 'name of person who '\n                                                    'performed experiment',\n                                     'items': {'title': 'experimenter',\n                                               'type': 'string'},\n                                     'type': 'array'},\n                    'identifier': {'default': 'b4205d2a-451f-4e71-9bcd-00f3c65e50da',\n                                   'description': 'a unique text '\n                                                  'identifier for the file',\n                                   'type': 'string'},\n                    'institution': {'description': 'institution(s) where '\n                                                   'experiment is '\n                                                   'performed',\n                                    'type': 'string'},\n                    'lab': {'description': 'lab where experiment was '\n                                           'performed',\n                            'type': 'string'},\n                    'notes': {'description': 'Notes about the experiment.',\n                              'type': 'string'},\n                    'pharmacology': {'description': 'Description of drugs '\n                                                    'used, including how '\n                                                    'and when they were '\n                                                    'administered. '\n                                                    'Anesthesia(s), '\n                                                    'painkiller(s), etc., '\n                                                    'plus dosage, '\n                                                    'concentration, etc.',\n                                     'type': 'string'},\n                    'protocol': {'description': 'Experimental protocol, if '\n                                                'applicable. E.g., include '\n                                                'IACUC protocol',\n                                 'type': 'string'},\n                    'related_publications': {'description': 'Publication '\n                                                            'information.PMID, '\n                                                            'DOI, URL, '\n                                                            'etc. If '\n                                                            'multiple, '\n                                                            'concatenate '\n                                                            'together and '\n                                                            'describe '\n                                                            'which is '\n                                                            'which. such '\n                                                            'as PMID, DOI, '\n                                                            'URL, etc',\n                                             'type': 'string'},\n                    'session_description': {'default': '',\n                                            'description': 'a description '\n                                                           'of the session '\n                                                           'where this '\n                                                           'data was '\n                                                           'generated',\n                                            'format': 'long',\n                                            'type': 'string'},\n                    'session_id': {'description': 'lab-specific ID for the '\n                                                  'session',\n                                   'type': 'string'},\n                    'session_start_time': {'default': '2021-06-17T12:22:02',\n                                           'description': 'the start date '\n                                                          'and time of the '\n                                                          'recording '\n                                                          'session',\n                                           'format': 'date-time',\n                                           'type': 'string'},\n                    'slices': {'description': 'Description of slices, '\n                                              'including information about '\n                                              'preparation thickness, '\n                                              'orientation, temperature '\n                                              'and bath solution',\n                               'type': 'string'},\n                    'source_script': {'description': 'Script file used to '\n                                                     'create this NWB '\n                                                     'file.',\n                                      'type': 'string'},\n                    'source_script_file_name': {'description': 'Name of '\n                                                               'the '\n                                                               'source_script '\n                                                               'file',\n                                                'type': 'string'},\n                    'stimulus_notes': {'description': 'Notes about '\n                                                      'stimuli, such as '\n                                                      'how and where '\n                                                      'presented.',\n                                       'type': 'string'},\n                    'surgery': {'description': 'Narrative description '\n                                               'about surgery/surgeries, '\n                                               'including date(s) and who '\n                                               'performed surgery.',\n                                'type': 'string'},\n                    'virus': {'description': 'Information about virus(es) '\n                                             'used in experiments, '\n                                             'including virus ID, source, '\n                                             'date made, injection '\n                                             'location, volume, etc.',\n                              'type': 'string'}},\n     'required': ['session_description',\n                  'identifier',\n                  'session_start_time'],\n     'tag': 'pynwb.file.NWBFile',\n     'type': 'object'}\n\nOn instance['NWBFile']:\n    {'experimenter': ['Abid'],\n     'session_description': '',\n     'session_start_time': '2021-06-17T12:22:02'}",
     "output_type": "error",
     "traceback": [
      "\u001b[0;31m---------------------------------------------------------------------------\u001b[0m",
      "\u001b[0;31mValidationError\u001b[0m                           Traceback (most recent call last)",
      "\u001b[0;32m/tmp/ipykernel_1048/1830884681.py\u001b[0m in \u001b[0;36m<module>\u001b[0;34m\u001b[0m\n\u001b[1;32m      2\u001b[0m \u001b[0moutput_file\u001b[0m \u001b[0;34m=\u001b[0m \u001b[0mbase_dir\u001b[0m \u001b[0;34m/\u001b[0m \u001b[0;34m'out_example_lfp.nwb'\u001b[0m\u001b[0;34m\u001b[0m\u001b[0;34m\u001b[0m\u001b[0m\n\u001b[1;32m      3\u001b[0m \u001b[0;34m\u001b[0m\u001b[0m\n\u001b[0;32m----> 4\u001b[0;31m converter.run_conversion(\n\u001b[0m\u001b[1;32m      5\u001b[0m     \u001b[0mmetadata\u001b[0m\u001b[0;34m=\u001b[0m\u001b[0mmetadata\u001b[0m\u001b[0;34m,\u001b[0m\u001b[0;34m\u001b[0m\u001b[0;34m\u001b[0m\u001b[0m\n\u001b[1;32m      6\u001b[0m     \u001b[0mnwbfile_path\u001b[0m\u001b[0;34m=\u001b[0m\u001b[0moutput_file\u001b[0m\u001b[0;34m,\u001b[0m\u001b[0;34m\u001b[0m\u001b[0;34m\u001b[0m\u001b[0m\n",
      "\u001b[0;32m~/spikeinterface/nwb-conversion-tools/nwb_conversion_tools/nwbconverter.py\u001b[0m in \u001b[0;36mrun_conversion\u001b[0;34m(self, metadata, save_to_file, nwbfile_path, overwrite, nwbfile, conversion_options)\u001b[0m\n\u001b[1;32m    153\u001b[0m         \u001b[0;32mif\u001b[0m \u001b[0mmetadata\u001b[0m \u001b[0;32mis\u001b[0m \u001b[0;32mNone\u001b[0m\u001b[0;34m:\u001b[0m\u001b[0;34m\u001b[0m\u001b[0;34m\u001b[0m\u001b[0m\n\u001b[1;32m    154\u001b[0m             \u001b[0mmetadata\u001b[0m \u001b[0;34m=\u001b[0m \u001b[0mself\u001b[0m\u001b[0;34m.\u001b[0m\u001b[0mget_metadata\u001b[0m\u001b[0;34m(\u001b[0m\u001b[0;34m)\u001b[0m\u001b[0;34m\u001b[0m\u001b[0;34m\u001b[0m\u001b[0m\n\u001b[0;32m--> 155\u001b[0;31m         \u001b[0mself\u001b[0m\u001b[0;34m.\u001b[0m\u001b[0mvalidate_metadata\u001b[0m\u001b[0;34m(\u001b[0m\u001b[0mmetadata\u001b[0m\u001b[0;34m=\u001b[0m\u001b[0mmetadata\u001b[0m\u001b[0;34m)\u001b[0m\u001b[0;34m\u001b[0m\u001b[0;34m\u001b[0m\u001b[0m\n\u001b[0m\u001b[1;32m    156\u001b[0m \u001b[0;34m\u001b[0m\u001b[0m\n\u001b[1;32m    157\u001b[0m         \u001b[0;31m# Validate conversion options\u001b[0m\u001b[0;34m\u001b[0m\u001b[0;34m\u001b[0m\u001b[0;34m\u001b[0m\u001b[0m\n",
      "\u001b[0;32m~/spikeinterface/nwb-conversion-tools/nwb_conversion_tools/nwbconverter.py\u001b[0m in \u001b[0;36mvalidate_metadata\u001b[0;34m(self, metadata)\u001b[0m\n\u001b[1;32m    110\u001b[0m     \u001b[0;32mdef\u001b[0m \u001b[0mvalidate_metadata\u001b[0m\u001b[0;34m(\u001b[0m\u001b[0mself\u001b[0m\u001b[0;34m,\u001b[0m \u001b[0mmetadata\u001b[0m\u001b[0;34m)\u001b[0m\u001b[0;34m:\u001b[0m\u001b[0;34m\u001b[0m\u001b[0;34m\u001b[0m\u001b[0m\n\u001b[1;32m    111\u001b[0m         \u001b[0;34m\"\"\"Validate metadata against Converter metadata_schema.\"\"\"\u001b[0m\u001b[0;34m\u001b[0m\u001b[0;34m\u001b[0m\u001b[0m\n\u001b[0;32m--> 112\u001b[0;31m         \u001b[0mvalidate\u001b[0m\u001b[0;34m(\u001b[0m\u001b[0minstance\u001b[0m\u001b[0;34m=\u001b[0m\u001b[0mmetadata\u001b[0m\u001b[0;34m,\u001b[0m \u001b[0mschema\u001b[0m\u001b[0;34m=\u001b[0m\u001b[0mself\u001b[0m\u001b[0;34m.\u001b[0m\u001b[0mget_metadata_schema\u001b[0m\u001b[0;34m(\u001b[0m\u001b[0;34m)\u001b[0m\u001b[0;34m)\u001b[0m\u001b[0;34m\u001b[0m\u001b[0;34m\u001b[0m\u001b[0m\n\u001b[0m\u001b[1;32m    113\u001b[0m         \u001b[0mprint\u001b[0m\u001b[0;34m(\u001b[0m\u001b[0;34m'Metadata is valid!'\u001b[0m\u001b[0;34m)\u001b[0m\u001b[0;34m\u001b[0m\u001b[0;34m\u001b[0m\u001b[0m\n\u001b[1;32m    114\u001b[0m \u001b[0;34m\u001b[0m\u001b[0m\n",
      "\u001b[0;32m~/spikeinterface/hussaini-test-pipeline/venv/lib/python3.8/site-packages/jsonschema/validators.py\u001b[0m in \u001b[0;36mvalidate\u001b[0;34m(instance, schema, cls, *args, **kwargs)\u001b[0m\n\u001b[1;32m    932\u001b[0m     \u001b[0merror\u001b[0m \u001b[0;34m=\u001b[0m \u001b[0mexceptions\u001b[0m\u001b[0;34m.\u001b[0m\u001b[0mbest_match\u001b[0m\u001b[0;34m(\u001b[0m\u001b[0mvalidator\u001b[0m\u001b[0;34m.\u001b[0m\u001b[0miter_errors\u001b[0m\u001b[0;34m(\u001b[0m\u001b[0minstance\u001b[0m\u001b[0;34m)\u001b[0m\u001b[0;34m)\u001b[0m\u001b[0;34m\u001b[0m\u001b[0;34m\u001b[0m\u001b[0m\n\u001b[1;32m    933\u001b[0m     \u001b[0;32mif\u001b[0m \u001b[0merror\u001b[0m \u001b[0;32mis\u001b[0m \u001b[0;32mnot\u001b[0m \u001b[0;32mNone\u001b[0m\u001b[0;34m:\u001b[0m\u001b[0;34m\u001b[0m\u001b[0;34m\u001b[0m\u001b[0m\n\u001b[0;32m--> 934\u001b[0;31m         \u001b[0;32mraise\u001b[0m \u001b[0merror\u001b[0m\u001b[0;34m\u001b[0m\u001b[0;34m\u001b[0m\u001b[0m\n\u001b[0m\u001b[1;32m    935\u001b[0m \u001b[0;34m\u001b[0m\u001b[0m\n\u001b[1;32m    936\u001b[0m \u001b[0;34m\u001b[0m\u001b[0m\n",
      "\u001b[0;31mValidationError\u001b[0m: 'identifier' is a required property\n\nFailed validating 'required' in schema['properties']['NWBFile']:\n    {'additionalProperties': False,\n     'properties': {'data_collection': {'description': 'Notes about data '\n                                                       'collection and '\n                                                       'analysis.',\n                                        'type': 'string'},\n                    'experiment_description': {'description': 'general '\n                                                              'description '\n                                                              'of the '\n                                                              'experiment',\n                                               'type': 'string'},\n                    'experimenter': {'default': ['Abid'],\n                                     'description': 'name of person who '\n                                                    'performed experiment',\n                                     'items': {'title': 'experimenter',\n                                               'type': 'string'},\n                                     'type': 'array'},\n                    'identifier': {'default': 'b4205d2a-451f-4e71-9bcd-00f3c65e50da',\n                                   'description': 'a unique text '\n                                                  'identifier for the file',\n                                   'type': 'string'},\n                    'institution': {'description': 'institution(s) where '\n                                                   'experiment is '\n                                                   'performed',\n                                    'type': 'string'},\n                    'lab': {'description': 'lab where experiment was '\n                                           'performed',\n                            'type': 'string'},\n                    'notes': {'description': 'Notes about the experiment.',\n                              'type': 'string'},\n                    'pharmacology': {'description': 'Description of drugs '\n                                                    'used, including how '\n                                                    'and when they were '\n                                                    'administered. '\n                                                    'Anesthesia(s), '\n                                                    'painkiller(s), etc., '\n                                                    'plus dosage, '\n                                                    'concentration, etc.',\n                                     'type': 'string'},\n                    'protocol': {'description': 'Experimental protocol, if '\n                                                'applicable. E.g., include '\n                                                'IACUC protocol',\n                                 'type': 'string'},\n                    'related_publications': {'description': 'Publication '\n                                                            'information.PMID, '\n                                                            'DOI, URL, '\n                                                            'etc. If '\n                                                            'multiple, '\n                                                            'concatenate '\n                                                            'together and '\n                                                            'describe '\n                                                            'which is '\n                                                            'which. such '\n                                                            'as PMID, DOI, '\n                                                            'URL, etc',\n                                             'type': 'string'},\n                    'session_description': {'default': '',\n                                            'description': 'a description '\n                                                           'of the session '\n                                                           'where this '\n                                                           'data was '\n                                                           'generated',\n                                            'format': 'long',\n                                            'type': 'string'},\n                    'session_id': {'description': 'lab-specific ID for the '\n                                                  'session',\n                                   'type': 'string'},\n                    'session_start_time': {'default': '2021-06-17T12:22:02',\n                                           'description': 'the start date '\n                                                          'and time of the '\n                                                          'recording '\n                                                          'session',\n                                           'format': 'date-time',\n                                           'type': 'string'},\n                    'slices': {'description': 'Description of slices, '\n                                              'including information about '\n                                              'preparation thickness, '\n                                              'orientation, temperature '\n                                              'and bath solution',\n                               'type': 'string'},\n                    'source_script': {'description': 'Script file used to '\n                                                     'create this NWB '\n                                                     'file.',\n                                      'type': 'string'},\n                    'source_script_file_name': {'description': 'Name of '\n                                                               'the '\n                                                               'source_script '\n                                                               'file',\n                                                'type': 'string'},\n                    'stimulus_notes': {'description': 'Notes about '\n                                                      'stimuli, such as '\n                                                      'how and where '\n                                                      'presented.',\n                                       'type': 'string'},\n                    'surgery': {'description': 'Narrative description '\n                                               'about surgery/surgeries, '\n                                               'including date(s) and who '\n                                               'performed surgery.',\n                                'type': 'string'},\n                    'virus': {'description': 'Information about virus(es) '\n                                             'used in experiments, '\n                                             'including virus ID, source, '\n                                             'date made, injection '\n                                             'location, volume, etc.',\n                              'type': 'string'}},\n     'required': ['session_description',\n                  'identifier',\n                  'session_start_time'],\n     'tag': 'pynwb.file.NWBFile',\n     'type': 'object'}\n\nOn instance['NWBFile']:\n    {'experimenter': ['Abid'],\n     'session_description': '',\n     'session_start_time': '2021-06-17T12:22:02'}"
     ]
    }
   ],
   "source": [
    "# Export to NWB file\n",
    "output_file = base_dir / 'out_example_lfp.nwb'\n",
    "\n",
    "converter.run_conversion(\n",
    "    metadata=metadata, \n",
    "    nwbfile_path=output_file,\n",
    "    overwrite=True,\n",
    "    save_to_file=True,\n",
    "    conversion_options=None\n",
    ")"
   ]
  },
  {
   "cell_type": "code",
   "execution_count": 43,
   "id": "cdec0ea7",
   "metadata": {},
   "outputs": [
    {
     "data": {
      "text/plain": [
       "PosixPath('/mnt/d/freelance-work/catalyst-neuro/hussaini-lab-to-nwb/new_session_data')"
      ]
     },
     "execution_count": 43,
     "metadata": {},
     "output_type": "execute_result"
    }
   ],
   "source": [
    "base_dir"
   ]
  },
  {
   "cell_type": "code",
   "execution_count": null,
   "id": "3345042e",
   "metadata": {},
   "outputs": [],
   "source": []
  },
  {
   "cell_type": "code",
   "execution_count": null,
   "id": "33b336ee",
   "metadata": {},
   "outputs": [],
   "source": []
  },
  {
   "cell_type": "code",
   "execution_count": null,
   "id": "42f777e4",
   "metadata": {},
   "outputs": [],
   "source": []
  },
  {
   "cell_type": "code",
   "execution_count": 337,
   "id": "928e2f8d",
   "metadata": {},
   "outputs": [],
   "source": [
    "from nwb_conversion_tools.utils.spike_interface import add_electrode_groups"
   ]
  },
  {
   "cell_type": "code",
   "execution_count": 31,
   "id": "43be7d69",
   "metadata": {},
   "outputs": [],
   "source": [
    "axo_raw = AxonaRecordingExtractorInterface(filename=filename)"
   ]
  },
  {
   "cell_type": "code",
   "execution_count": 147,
   "id": "1420dfeb",
   "metadata": {},
   "outputs": [
    {
     "data": {
      "text/plain": [
       "['gain', 'group', 'name', 'offset']"
      ]
     },
     "execution_count": 147,
     "metadata": {},
     "output_type": "execute_result"
    }
   ],
   "source": [
    "axo_lfp.recording_extractor.get_channel_property_names(channel_id=0)"
   ]
  },
  {
   "cell_type": "code",
   "execution_count": 148,
   "id": "0e723059",
   "metadata": {},
   "outputs": [
    {
     "data": {
      "text/plain": [
       "['gain', 'group', 'group_name', 'name', 'offset']"
      ]
     },
     "execution_count": 148,
     "metadata": {},
     "output_type": "execute_result"
    }
   ],
   "source": [
    "axo_raw.recording_extractor.get_channel_property_names(channel_id=0)"
   ]
  },
  {
   "cell_type": "code",
   "execution_count": 340,
   "id": "762966cf",
   "metadata": {},
   "outputs": [],
   "source": [
    "import uuid\n",
    "from datetime import datetime\n",
    "import warnings\n",
    "import numpy as np\n",
    "import distutils.version\n",
    "from pathlib import Path\n",
    "from typing import Union, Optional, List\n",
    "from warnings import warn\n",
    "import psutil\n",
    "from collections import defaultdict\n",
    "\n",
    "import spikeextractors as se\n",
    "import pynwb\n",
    "from numbers import Real\n",
    "from hdmf.data_utils import DataChunkIterator\n",
    "from hdmf.backends.hdf5.h5_utils import H5DataIO\n",
    "#from .json_schema import dict_deep_update\n",
    "\n",
    "PathType = Union[str, Path, None]\n",
    "ArrayType = Union[list, np.ndarray]"
   ]
  },
  {
   "cell_type": "code",
   "execution_count": 334,
   "id": "1a76795e",
   "metadata": {},
   "outputs": [
    {
     "ename": "NameError",
     "evalue": "name 'axo_lfp' is not defined",
     "output_type": "error",
     "traceback": [
      "\u001b[0;31m---------------------------------------------------------------------------\u001b[0m",
      "\u001b[0;31mNameError\u001b[0m                                 Traceback (most recent call last)",
      "\u001b[0;32m/tmp/ipykernel_13517/906195353.py\u001b[0m in \u001b[0;36m<module>\u001b[0;34m\u001b[0m\n\u001b[0;32m----> 1\u001b[0;31m \u001b[0mrecording\u001b[0m \u001b[0;34m=\u001b[0m \u001b[0maxo_lfp\u001b[0m\u001b[0;34m.\u001b[0m\u001b[0mrecording_extractor\u001b[0m\u001b[0;34m\u001b[0m\u001b[0;34m\u001b[0m\u001b[0m\n\u001b[0m\u001b[1;32m      2\u001b[0m \u001b[0;31m#recording = axo_raw.recording_extractor\u001b[0m\u001b[0;34m\u001b[0m\u001b[0;34m\u001b[0m\u001b[0;34m\u001b[0m\u001b[0m\n\u001b[1;32m      3\u001b[0m \u001b[0mexclude\u001b[0m \u001b[0;34m=\u001b[0m \u001b[0;34m(\u001b[0m\u001b[0;34m)\u001b[0m\u001b[0;34m\u001b[0m\u001b[0;34m\u001b[0m\u001b[0m\n\u001b[1;32m      4\u001b[0m \u001b[0mnwbfile\u001b[0m \u001b[0;34m=\u001b[0m \u001b[0mmake_nwbfile_from_metadata\u001b[0m\u001b[0;34m(\u001b[0m\u001b[0mmetadata\u001b[0m\u001b[0;34m=\u001b[0m\u001b[0mmetadata\u001b[0m\u001b[0;34m)\u001b[0m\u001b[0;34m\u001b[0m\u001b[0;34m\u001b[0m\u001b[0m\n\u001b[1;32m      5\u001b[0m \u001b[0;34m\u001b[0m\u001b[0m\n",
      "\u001b[0;31mNameError\u001b[0m: name 'axo_lfp' is not defined"
     ]
    }
   ],
   "source": [
    "recording = axo_lfp.recording_extractor\n",
    "#recording = axo_raw.recording_extractor\n",
    "exclude = ()\n",
    "nwbfile = make_nwbfile_from_metadata(metadata=metadata)\n",
    "\n",
    "\n",
    "if nwbfile.electrodes is not None:\n",
    "    ids_absent = [id not in nwbfile.electrodes.id for id in recording.get_channel_ids()]\n",
    "    if not all(ids_absent):\n",
    "        warnings.warn('cannot create electrodes for this recording as ids already exist')\n",
    "\n",
    "if nwbfile is not None:\n",
    "    assert isinstance(nwbfile, pynwb.NWBFile), \"'nwbfile' should be of type pynwb.NWBFile\"\n",
    "if nwbfile.electrode_groups is None or len(nwbfile.electrode_groups) == 0:\n",
    "    add_electrode_groups(recording, nwbfile, metadata)\n",
    "# For older versions of pynwb, we need to manually add these columns\n",
    "if distutils.version.LooseVersion(pynwb.__version__) < '1.3.0':\n",
    "    if nwbfile.electrodes is None or 'rel_x' not in nwbfile.electrodes.colnames:\n",
    "        nwbfile.add_electrode_column('rel_x', 'x position of electrode in electrode group')\n",
    "    if nwbfile.electrodes is None or 'rel_y' not in nwbfile.electrodes.colnames:\n",
    "        nwbfile.add_electrode_column('rel_y', 'y position of electrode in electrode group')\n",
    "\n",
    "defaults = dict(\n",
    "    x=np.nan,\n",
    "    y=np.nan,\n",
    "    z=np.nan,\n",
    "    # There doesn't seem to be a canonical default for impedence, if missing.\n",
    "    # The NwbRecordingExtractor follows the -1.0 convention, other scripts sometimes use np.nan\n",
    "    imp=-1.0,\n",
    "    location=\"unknown\",\n",
    "    filtering=\"none\",\n",
    "    group_name=\"0\"\n",
    ")\n",
    "if metadata is None:\n",
    "    metadata = dict(Ecephys=dict())\n",
    "\n",
    "if 'Ecephys' not in metadata:\n",
    "    metadata['Ecephys'] = dict()\n",
    "\n",
    "if 'Electrodes' not in metadata['Ecephys']:\n",
    "    metadata['Ecephys']['Electrodes'] = []\n",
    "\n",
    "assert all([isinstance(x, dict) and set(x.keys()) == set(['name', 'description'])\n",
    "            for x in metadata['Ecephys']['Electrodes']]), \\\n",
    "    \"Expected metadata['Ecephys']['Electrodes'] to be a list of dictionaries, containing the keys 'name' and 'description'\"\n",
    "assert all([x['name'] != 'group' for x in metadata['Ecephys']['Electrodes']]), \\\n",
    "    \"Passing metadata field 'group' is deprecated; pass group_name instead!\"\n",
    "\n",
    "if nwbfile.electrodes is None:\n",
    "    nwb_elec_ids = []\n",
    "else:\n",
    "    nwb_elec_ids = nwbfile.electrodes.id.data[:]\n",
    "\n",
    "elec_columns = defaultdict(dict)  # dict(name: dict(description='',data=data, index=False))\n",
    "elec_columns_append = defaultdict(dict)\n",
    "property_names = set()\n",
    "for chan_id in recording.get_channel_ids():\n",
    "    for i in recording.get_channel_property_names(channel_id=chan_id):\n",
    "        property_names.add(i)\n",
    "\n",
    "# property 'brain_area' of RX channels corresponds to 'location' of NWB electrodes\n",
    "exclude_names = set(['location','group'] + list(exclude))\n",
    "\n",
    "channel_property_defaults = {\n",
    "    list: [],\n",
    "    np.ndarray: np.array(np.nan),\n",
    "    str: '',\n",
    "    Real: np.nan\n",
    "}\n",
    "found_property_types = {prop: Real for prop in property_names}"
   ]
  },
  {
   "cell_type": "code",
   "execution_count": 218,
   "id": "6eabc1e4",
   "metadata": {},
   "outputs": [
    {
     "data": {
      "text/plain": [
       "defaultdict(dict, {})"
      ]
     },
     "execution_count": 218,
     "metadata": {},
     "output_type": "execute_result"
    }
   ],
   "source": [
    "elec_columns"
   ]
  },
  {
   "cell_type": "code",
   "execution_count": 219,
   "id": "bc4d244a",
   "metadata": {},
   "outputs": [
    {
     "data": {
      "text/plain": [
       "['gain', 'group', 'group_name', 'name', 'offset']"
      ]
     },
     "execution_count": 219,
     "metadata": {},
     "output_type": "execute_result"
    }
   ],
   "source": [
    "recording.get_channel_property_names(channel_id=chan_id)"
   ]
  },
  {
   "cell_type": "code",
   "execution_count": 220,
   "id": "cf88b773",
   "metadata": {},
   "outputs": [
    {
     "data": {
      "text/plain": [
       "['gain', 'group', 'group_name', 'name', 'offset']"
      ]
     },
     "execution_count": 220,
     "metadata": {},
     "output_type": "execute_result"
    }
   ],
   "source": [
    "axo_lfp.recording_extractor.get_channel_property_names(channel_id=chan_id)"
   ]
  },
  {
   "cell_type": "code",
   "execution_count": 221,
   "id": "cbac62a5",
   "metadata": {},
   "outputs": [
    {
     "name": "stderr",
     "output_type": "stream",
     "text": [
      "/tmp/ipykernel_1048/4126945387.py:18: DeprecationWarning: `np.float` is a deprecated alias for the builtin `float`. To silence this warning, use `float` by itself. Doing this will not modify any behavior and is safe. If you specifically wanted the numpy scalar type, use `np.float64` here.\n",
      "Deprecated in NumPy 1.20; for more details and guidance: https://numpy.org/devdocs/release/1.20.0-notes.html#deprecations\n",
      "  chan_data = np.float(chan_data)\n"
     ]
    }
   ],
   "source": [
    "for prop in property_names:\n",
    "    prop_skip = False\n",
    "    if prop not in exclude_names:\n",
    "        data = []\n",
    "        prop_chan_count = 0\n",
    "        # build data:\n",
    "        for chan_id in recording.get_channel_ids():\n",
    "            if prop in recording.get_channel_property_names(channel_id=chan_id):\n",
    "                prop_chan_count += 1\n",
    "                chan_data = recording.get_channel_property(channel_id=chan_id, property_name=prop)\n",
    "                # find the type and store (only when the first channel with given property is found):\n",
    "                if prop_chan_count==1:\n",
    "                    proptype = [proptype for proptype in channel_property_defaults if isinstance(chan_data, proptype)]\n",
    "                    if len(proptype) > 0:\n",
    "                        found_property_types[prop] = proptype[0]\n",
    "                        # cast as float if any number:\n",
    "                        if found_property_types[prop]==Real:\n",
    "                            chan_data = np.float(chan_data)\n",
    "                        # update data if wrong datatype items filled prior:\n",
    "                        if len(data) > 0 and not isinstance(data[-1], found_property_types[prop]):\n",
    "                            data = [channel_property_defaults[found_property_types[prop]]] * len(data)\n",
    "                    else:\n",
    "                        prop_skip = True  # skip storing that property if not of default type\n",
    "                        break\n",
    "                data.append(chan_data)\n",
    "            else:\n",
    "                data.append(channel_property_defaults[found_property_types[prop]])\n",
    "        # store data after build:\n",
    "        if not prop_skip:\n",
    "            index = found_property_types[prop] == ArrayType\n",
    "            prop_name_new = 'location' if prop == 'brain_area' else prop\n",
    "            found_property_types[prop_name_new] = found_property_types.pop(prop)\n",
    "            elec_columns[prop_name_new].update(description=prop_name_new, data=data, index=index)\n"
   ]
  },
  {
   "cell_type": "code",
   "execution_count": 222,
   "id": "cccbfc57",
   "metadata": {},
   "outputs": [
    {
     "data": {
      "text/plain": [
       "defaultdict(dict,\n",
       "            {'name': {'description': 'name',\n",
       "              'data': ['1a',\n",
       "               '1b',\n",
       "               '1c',\n",
       "               '1d',\n",
       "               '2a',\n",
       "               '2b',\n",
       "               '2c',\n",
       "               '2d',\n",
       "               '3a',\n",
       "               '3b',\n",
       "               '3c',\n",
       "               '3d',\n",
       "               '4a',\n",
       "               '4b',\n",
       "               '4c',\n",
       "               '4d'],\n",
       "              'index': False},\n",
       "             'gain': {'description': 'gain',\n",
       "              'data': [1.0,\n",
       "               1.0,\n",
       "               1.0,\n",
       "               1.0,\n",
       "               1.0,\n",
       "               1.0,\n",
       "               1.0,\n",
       "               1.0,\n",
       "               1.0,\n",
       "               1.0,\n",
       "               1.0,\n",
       "               1.0,\n",
       "               1.0,\n",
       "               1.0,\n",
       "               1.0,\n",
       "               1.0],\n",
       "              'index': False},\n",
       "             'group_name': {'description': 'group_name',\n",
       "              'data': ['Group0',\n",
       "               'Group0',\n",
       "               'Group0',\n",
       "               'Group0',\n",
       "               'Group1',\n",
       "               'Group1',\n",
       "               'Group1',\n",
       "               'Group1',\n",
       "               'Group2',\n",
       "               'Group2',\n",
       "               'Group2',\n",
       "               'Group2',\n",
       "               'Group3',\n",
       "               'Group3',\n",
       "               'Group3',\n",
       "               'Group3'],\n",
       "              'index': False},\n",
       "             'offset': {'description': 'offset',\n",
       "              'data': [0.0,\n",
       "               0.0,\n",
       "               0.0,\n",
       "               0.0,\n",
       "               0.0,\n",
       "               0.0,\n",
       "               0.0,\n",
       "               0.0,\n",
       "               0.0,\n",
       "               0.0,\n",
       "               0.0,\n",
       "               0.0,\n",
       "               0.0,\n",
       "               0.0,\n",
       "               0.0,\n",
       "               0.0],\n",
       "              'index': False}})"
      ]
     },
     "execution_count": 222,
     "metadata": {},
     "output_type": "execute_result"
    }
   ],
   "source": [
    "elec_columns"
   ]
  },
  {
   "cell_type": "code",
   "execution_count": 223,
   "id": "7261bebc",
   "metadata": {},
   "outputs": [],
   "source": [
    "for x in metadata['Ecephys']['Electrodes']:\n",
    "    elec_columns[x['name']]['description'] = x['description']\n",
    "    if x['name'] not in list(elec_columns):\n",
    "        raise ValueError(f'\"{x[\"name\"]}\" not a property of se object')\n",
    "\n",
    "# updating default arguments if electrodes table already present:\n",
    "default_updated = dict()\n",
    "if nwbfile.electrodes is not None:\n",
    "    for colname in nwbfile.electrodes.colnames:\n",
    "        if colname!='group':\n",
    "            samp_data = nwbfile.electrodes[colname].data[0]\n",
    "            default_datatype = [proptype for proptype in channel_property_defaults if isinstance(samp_data, proptype)][0]\n",
    "            default_updated.update({colname:channel_property_defaults[default_datatype]})\n",
    "default_updated.update(defaults)\n",
    "\n",
    "for name, des_dict in elec_columns.items():\n",
    "    des_args = dict(des_dict)\n",
    "    if name not in default_updated:\n",
    "        if nwbfile.electrodes is None:\n",
    "            nwbfile.add_electrode_column(name=name, description=des_args['description'], index=des_args['index'])\n",
    "        else:\n",
    "            # build default junk values for data to force add columns later:\n",
    "            combine_data = [channel_property_defaults[found_property_types[name]]] * len(nwbfile.electrodes.id)\n",
    "            des_args['data'] = combine_data + des_args['data']\n",
    "            elec_columns_append[name] = des_args\n",
    "\n",
    "for name in elec_columns_append:\n",
    "    _ = elec_columns.pop(name)\n",
    "\n",
    "for j, channel_id in enumerate(recording.get_channel_ids()):\n",
    "    if channel_id not in nwb_elec_ids:\n",
    "        electrode_kwargs = dict(default_updated)\n",
    "        electrode_kwargs.update(id=channel_id)\n",
    "\n",
    "        # recording.get_channel_locations defaults to np.nan if there are none\n",
    "        location = recording.get_channel_locations(channel_ids=channel_id)[0]\n",
    "        if all([not np.isnan(loc) for loc in location]):\n",
    "            # property 'location' of RX channels corresponds to rel_x and rel_ y of NWB electrodes\n",
    "            electrode_kwargs.update(\n",
    "                dict(\n",
    "                    rel_x=float(location[0]),\n",
    "                    rel_y=float(location[1])\n",
    "                )\n",
    "            )\n",
    "\n",
    "        for name, desc in elec_columns.items():\n",
    "            if name == 'group_name':\n",
    "                group_name = str(desc['data'][j])\n",
    "                if group_name!='' and group_name not in nwbfile.electrode_groups:\n",
    "                    warnings.warn(f\"Electrode group {group_name} for electrode {channel_id} was not \"\n",
    "                                  \"found in the nwbfile! Automatically adding.\")\n",
    "                    missing_group_metadata = dict(\n",
    "                        Ecephys=dict(\n",
    "                            ElectrodeGroup=[dict(\n",
    "                                name=group_name,\n",
    "                            )]\n",
    "                        )\n",
    "                    )\n",
    "                    add_electrode_groups(recording, nwbfile, missing_group_metadata)\n",
    "                electrode_kwargs.update(\n",
    "                    dict(\n",
    "                        group=nwbfile.electrode_groups[group_name],\n",
    "                        group_name=group_name\n",
    "                    )\n",
    "                )\n",
    "            elif 'data' in desc:\n",
    "                electrode_kwargs[name] = desc['data'][j]\n",
    "\n",
    "        if 'group_name' not in elec_columns:\n",
    "            group_id = recording.get_channel_groups(channel_ids=channel_id)[0]\n",
    "            electrode_kwargs.update(\n",
    "                dict(\n",
    "                    group=nwbfile.electrode_groups[str(group_id)],\n",
    "                    group_name=str(group_id)\n",
    "                )\n",
    "            )\n",
    "\n",
    "        nwbfile.add_electrode(**electrode_kwargs)\n",
    "# add columns for existing electrodes:\n",
    "for col_name, cols_args in elec_columns_append.items():\n",
    "    nwbfile.add_electrode_column(col_name,**cols_args)\n",
    "assert nwbfile.electrodes is not None, \\\n",
    "    \"Unable to form electrode table! Check device, electrode group, and electrode metadata.\""
   ]
  },
  {
   "cell_type": "code",
   "execution_count": 224,
   "id": "ed4f10ee",
   "metadata": {},
   "outputs": [
    {
     "data": {
      "text/plain": [
       "defaultdict(dict,\n",
       "            {'name': {'description': 'name',\n",
       "              'data': ['1a',\n",
       "               '1b',\n",
       "               '1c',\n",
       "               '1d',\n",
       "               '2a',\n",
       "               '2b',\n",
       "               '2c',\n",
       "               '2d',\n",
       "               '3a',\n",
       "               '3b',\n",
       "               '3c',\n",
       "               '3d',\n",
       "               '4a',\n",
       "               '4b',\n",
       "               '4c',\n",
       "               '4d'],\n",
       "              'index': False},\n",
       "             'group_name': {'description': 'The name of the ElectrodeGroup this electrode is a part of.',\n",
       "              'data': ['Group0',\n",
       "               'Group0',\n",
       "               'Group0',\n",
       "               'Group0',\n",
       "               'Group1',\n",
       "               'Group1',\n",
       "               'Group1',\n",
       "               'Group1',\n",
       "               'Group2',\n",
       "               'Group2',\n",
       "               'Group2',\n",
       "               'Group2',\n",
       "               'Group3',\n",
       "               'Group3',\n",
       "               'Group3',\n",
       "               'Group3'],\n",
       "              'index': False}})"
      ]
     },
     "execution_count": 224,
     "metadata": {},
     "output_type": "execute_result"
    }
   ],
   "source": [
    "elec_columns"
   ]
  },
  {
   "cell_type": "code",
   "execution_count": null,
   "id": "689565b9",
   "metadata": {},
   "outputs": [],
   "source": []
  },
  {
   "cell_type": "code",
   "execution_count": 163,
   "id": "b7653618",
   "metadata": {},
   "outputs": [
    {
     "data": {
      "text/plain": [
       "defaultdict(dict,\n",
       "            {'offset': {'description': 'offset',\n",
       "              'data': [0.0,\n",
       "               0.0,\n",
       "               0.0,\n",
       "               0.0,\n",
       "               0.0,\n",
       "               0.0,\n",
       "               0.0,\n",
       "               0.0,\n",
       "               0.0,\n",
       "               0.0,\n",
       "               0.0,\n",
       "               0.0,\n",
       "               0.0,\n",
       "               0.0,\n",
       "               0.0,\n",
       "               0.0],\n",
       "              'index': False},\n",
       "             'group_name': {'description': 'The name of the ElectrodeGroup this electrode is a part of.'}})"
      ]
     },
     "execution_count": 163,
     "metadata": {},
     "output_type": "execute_result"
    }
   ],
   "source": []
  },
  {
   "cell_type": "code",
   "execution_count": 74,
   "id": "2ea364f0",
   "metadata": {},
   "outputs": [
    {
     "data": {
      "text/plain": [
       "[]"
      ]
     },
     "execution_count": 74,
     "metadata": {},
     "output_type": "execute_result"
    }
   ],
   "source": [
    "nwbfile.electrodes[colname].data"
   ]
  },
  {
   "cell_type": "code",
   "execution_count": 225,
   "id": "9719bae9",
   "metadata": {},
   "outputs": [],
   "source": [
    "metadata = axo_lfp.get_metadata()\n",
    "\n",
    "nwbfile = make_nwbfile_from_metadata(metadata=metadata)\n",
    "\n",
    "axo_lfp.run_conversion(nwbfile, metadata)"
   ]
  },
  {
   "cell_type": "code",
   "execution_count": null,
   "id": "639f6f5f",
   "metadata": {},
   "outputs": [],
   "source": []
  },
  {
   "cell_type": "code",
   "execution_count": null,
   "id": "868b178d",
   "metadata": {},
   "outputs": [],
   "source": []
  },
  {
   "cell_type": "code",
   "execution_count": null,
   "id": "0934c00a",
   "metadata": {},
   "outputs": [],
   "source": []
  },
  {
   "cell_type": "markdown",
   "id": "06093c03",
   "metadata": {},
   "source": [
    "# Intan to NWB\n",
    "\n",
    "For this there are already resources from the Hussaini lab we should be able to use.\n",
    "\n",
    "See here: ..."
   ]
  },
  {
   "cell_type": "code",
   "execution_count": 39,
   "id": "d9eae801",
   "metadata": {},
   "outputs": [],
   "source": [
    "from nwb_conversion_tools import (\n",
    "    NWBConverter, AxonaRecordingExtractorInterface, AxonaPositionDataInterface, IntanRecordingInterface\n",
    ")"
   ]
  },
  {
   "cell_type": "code",
   "execution_count": 40,
   "id": "6f361f8f",
   "metadata": {},
   "outputs": [],
   "source": [
    "from nwb_conversion_tools import IntanRecordingInterface"
   ]
  },
  {
   "cell_type": "code",
   "execution_count": 41,
   "id": "07a1f130",
   "metadata": {},
   "outputs": [],
   "source": [
    "class HussainiIntanNWBConverter(NWBConverter):\n",
    "    data_interface_classes = dict(\n",
    "        IntanRecordingInterface=IntanRecordingInterface,\n",
    "    )"
   ]
  },
  {
   "cell_type": "code",
   "execution_count": 42,
   "id": "cfde8e22",
   "metadata": {},
   "outputs": [],
   "source": [
    "intan_file = '/mnt/d/freelance-work/catalyst-neuro/hussaini-lab-to-nwb/Intan_data/intan_rhd_test_1.rhd'"
   ]
  },
  {
   "cell_type": "code",
   "execution_count": 43,
   "id": "832e7c15",
   "metadata": {},
   "outputs": [
    {
     "name": "stdout",
     "output_type": "stream",
     "text": [
      "{\n",
      "  \"IntanRecordingInterface\": {\n",
      "    \"file_path\": \"/mnt/d/freelance-work/catalyst-neuro/hussaini-lab-to-nwb/Intan_data/intan_rhd_test_1.rhd\"\n",
      "  }\n",
      "}\n"
     ]
    }
   ],
   "source": [
    "# Specify source data\n",
    "\n",
    "source_data = dict(\n",
    "    IntanRecordingInterface=dict(\n",
    "        file_path=intan_file\n",
    "    )\n",
    ")\n",
    "print(json.dumps(source_data, indent=2))"
   ]
  },
  {
   "cell_type": "code",
   "execution_count": 44,
   "id": "599bb183",
   "metadata": {},
   "outputs": [
    {
     "name": "stdout",
     "output_type": "stream",
     "text": [
      "Source data is valid!\n"
     ]
    }
   ],
   "source": [
    "# Initialize HussainiIntanNWBConverter\n",
    "\n",
    "intan_converter = HussainiIntanNWBConverter(source_data=source_data)"
   ]
  },
  {
   "cell_type": "code",
   "execution_count": 45,
   "id": "47ad4cd5",
   "metadata": {
    "scrolled": true
   },
   "outputs": [
    {
     "name": "stdout",
     "output_type": "stream",
     "text": [
      "{\n",
      "  \"NWBFile\": {\n",
      "    \"required\": [\n",
      "      \"session_description\",\n",
      "      \"identifier\",\n",
      "      \"session_start_time\"\n",
      "    ],\n",
      "    \"properties\": {\n",
      "      \"session_description\": {\n",
      "        \"type\": \"string\",\n",
      "        \"format\": \"long\",\n",
      "        \"description\": \"a description of the session where this data was generated\",\n",
      "        \"default\": \"no description\"\n",
      "      },\n",
      "      \"identifier\": {\n",
      "        \"type\": \"string\",\n",
      "        \"description\": \"a unique text identifier for the file\",\n",
      "        \"default\": \"74a1b10c-84a8-4a5f-8a2d-9ea071e282b4\"\n",
      "      },\n",
      "      \"session_start_time\": {\n",
      "        \"type\": \"string\",\n",
      "        \"description\": \"the start date and time of the recording session\",\n",
      "        \"format\": \"date-time\",\n",
      "        \"default\": \"1970-01-01T00:00:00\"\n",
      "      },\n",
      "      \"experimenter\": {\n",
      "        \"type\": \"array\",\n",
      "        \"items\": {\n",
      "          \"type\": \"string\",\n",
      "          \"title\": \"experimenter\"\n",
      "        },\n",
      "        \"description\": \"name of person who performed experiment\"\n",
      "      },\n",
      "      \"experiment_description\": {\n",
      "        \"type\": \"string\",\n",
      "        \"description\": \"general description of the experiment\"\n",
      "      },\n",
      "      \"session_id\": {\n",
      "        \"type\": \"string\",\n",
      "        \"description\": \"lab-specific ID for the session\"\n",
      "      },\n",
      "      \"institution\": {\n",
      "        \"type\": \"string\",\n",
      "        \"description\": \"institution(s) where experiment is performed\"\n",
      "      },\n",
      "      \"notes\": {\n",
      "        \"type\": \"string\",\n",
      "        \"description\": \"Notes about the experiment.\"\n",
      "      },\n",
      "      \"pharmacology\": {\n",
      "        \"type\": \"string\",\n",
      "        \"description\": \"Description of drugs used, including how and when they were administered. Anesthesia(s), painkiller(s), etc., plus dosage, concentration, etc.\"\n",
      "      },\n",
      "      \"protocol\": {\n",
      "        \"type\": \"string\",\n",
      "        \"description\": \"Experimental protocol, if applicable. E.g., include IACUC protocol\"\n",
      "      },\n",
      "      \"related_publications\": {\n",
      "        \"type\": \"string\",\n",
      "        \"description\": \"Publication information.PMID, DOI, URL, etc. If multiple, concatenate together and describe which is which. such as PMID, DOI, URL, etc\"\n",
      "      },\n",
      "      \"slices\": {\n",
      "        \"type\": \"string\",\n",
      "        \"description\": \"Description of slices, including information about preparation thickness, orientation, temperature and bath solution\"\n",
      "      },\n",
      "      \"source_script\": {\n",
      "        \"type\": \"string\",\n",
      "        \"description\": \"Script file used to create this NWB file.\"\n",
      "      },\n",
      "      \"source_script_file_name\": {\n",
      "        \"type\": \"string\",\n",
      "        \"description\": \"Name of the source_script file\"\n",
      "      },\n",
      "      \"data_collection\": {\n",
      "        \"type\": \"string\",\n",
      "        \"description\": \"Notes about data collection and analysis.\"\n",
      "      },\n",
      "      \"surgery\": {\n",
      "        \"type\": \"string\",\n",
      "        \"description\": \"Narrative description about surgery/surgeries, including date(s) and who performed surgery.\"\n",
      "      },\n",
      "      \"virus\": {\n",
      "        \"type\": \"string\",\n",
      "        \"description\": \"Information about virus(es) used in experiments, including virus ID, source, date made, injection location, volume, etc.\"\n",
      "      },\n",
      "      \"stimulus_notes\": {\n",
      "        \"type\": \"string\",\n",
      "        \"description\": \"Notes about stimuli, such as how and where presented.\"\n",
      "      },\n",
      "      \"lab\": {\n",
      "        \"type\": \"string\",\n",
      "        \"description\": \"lab where experiment was performed\"\n",
      "      }\n",
      "    },\n",
      "    \"type\": \"object\",\n",
      "    \"additionalProperties\": false,\n",
      "    \"tag\": \"pynwb.file.NWBFile\"\n",
      "  },\n",
      "  \"Subject\": {\n",
      "    \"required\": [],\n",
      "    \"properties\": {\n",
      "      \"age\": {\n",
      "        \"description\": \"The age of the subject. The ISO 8601 Duration format is recommended, e.g., \\\"P90D\\\" for 90 days old.\",\n",
      "        \"type\": \"string\"\n",
      "      },\n",
      "      \"description\": {\n",
      "        \"description\": \"A description of the subject, e.g., \\\"mouse A10\\\".\",\n",
      "        \"type\": \"string\"\n",
      "      },\n",
      "      \"genotype\": {\n",
      "        \"description\": \"The genotype of the subject, e.g., \\\"Sst-IRES-Cre/wt;Ai32(RCL-ChR2(H134R)_EYFP)/wt\\\".\",\n",
      "        \"type\": \"string\"\n",
      "      },\n",
      "      \"sex\": {\n",
      "        \"description\": \"The sex of the subject. Using \\\"F\\\" (female), \\\"M\\\" (male), \\\"U\\\" (unknown), or \\\"O\\\" (other) is recommended.\",\n",
      "        \"type\": \"string\"\n",
      "      },\n",
      "      \"species\": {\n",
      "        \"description\": \"The species of the subject. The formal latin binomal name is recommended, e.g., \\\"Mus musculus\\\"\",\n",
      "        \"type\": \"string\"\n",
      "      },\n",
      "      \"subject_id\": {\n",
      "        \"description\": \"A unique identifier for the subject, e.g., \\\"A10\\\"\",\n",
      "        \"type\": \"string\"\n",
      "      },\n",
      "      \"weight\": {\n",
      "        \"description\": \"The weight of the subject, including units. Using kilograms is recommended. e.g., \\\"0.02 kg\\\". If a float is provided, then the weight will be stored as \\\"[value] kg\\\".\",\n",
      "        \"type\": \"number\"\n",
      "      },\n",
      "      \"date_of_birth\": {\n",
      "        \"description\": \"The datetime of the date of birth. May be supplied instead of age.\",\n",
      "        \"type\": \"string\",\n",
      "        \"format\": \"date-time\"\n",
      "      },\n",
      "      \"strain\": {\n",
      "        \"description\": \"The strain of the subject, e.g., \\\"C57BL/6J\\\"\",\n",
      "        \"type\": \"string\"\n",
      "      }\n",
      "    },\n",
      "    \"type\": \"object\",\n",
      "    \"additionalProperties\": false,\n",
      "    \"tag\": \"pynwb.file.Subject\"\n",
      "  },\n",
      "  \"Ecephys\": {\n",
      "    \"required\": [\n",
      "      \"Device\",\n",
      "      \"ElectrodeGroup\"\n",
      "    ],\n",
      "    \"properties\": {\n",
      "      \"Device\": {\n",
      "        \"type\": \"array\",\n",
      "        \"minItems\": 1,\n",
      "        \"items\": {\n",
      "          \"$ref\": \"#/properties/Ecephys/properties/definitions/Device\"\n",
      "        },\n",
      "        \"default\": [\n",
      "          {}\n",
      "        ]\n",
      "      },\n",
      "      \"ElectrodeGroup\": {\n",
      "        \"type\": \"array\",\n",
      "        \"minItems\": 1,\n",
      "        \"items\": {\n",
      "          \"$ref\": \"#/properties/Ecephys/properties/definitions/ElectrodeGroup\"\n",
      "        },\n",
      "        \"default\": [\n",
      "          {\n",
      "            \"name\": \"GroupB\",\n",
      "            \"description\": \"Group B electrodes.\"\n",
      "          },\n",
      "          {\n",
      "            \"name\": \"GroupA\",\n",
      "            \"description\": \"Group A electrodes.\"\n",
      "          },\n",
      "          {\n",
      "            \"name\": \"GroupC\",\n",
      "            \"description\": \"Group C electrodes.\"\n",
      "          }\n",
      "        ]\n",
      "      },\n",
      "      \"Electrodes\": {\n",
      "        \"type\": \"array\",\n",
      "        \"minItems\": 0,\n",
      "        \"renderForm\": false,\n",
      "        \"items\": {\n",
      "          \"$ref\": \"#/properties/Ecephys/properties/definitions/Electrodes\"\n",
      "        },\n",
      "        \"default\": [\n",
      "          {\n",
      "            \"name\": \"group_name\",\n",
      "            \"description\": \"The name of the ElectrodeGroup this electrode is a part of.\"\n",
      "          },\n",
      "          {\n",
      "            \"name\": \"group_electrode_number\",\n",
      "            \"description\": \"0-indexed channel within a group.\",\n",
      "            \"data\": [\n",
      "              [\n",
      "                0,\n",
      "                1,\n",
      "                2,\n",
      "                3,\n",
      "                4,\n",
      "                5,\n",
      "                6,\n",
      "                7,\n",
      "                8,\n",
      "                9,\n",
      "                10,\n",
      "                11,\n",
      "                12,\n",
      "                13,\n",
      "                14,\n",
      "                15,\n",
      "                16,\n",
      "                17,\n",
      "                18,\n",
      "                19,\n",
      "                20,\n",
      "                21,\n",
      "                22,\n",
      "                23,\n",
      "                24,\n",
      "                25,\n",
      "                26,\n",
      "                27,\n",
      "                28,\n",
      "                29,\n",
      "                30,\n",
      "                31,\n",
      "                32,\n",
      "                33,\n",
      "                34,\n",
      "                35,\n",
      "                36,\n",
      "                37,\n",
      "                38,\n",
      "                39,\n",
      "                40,\n",
      "                41,\n",
      "                42,\n",
      "                43,\n",
      "                44,\n",
      "                45,\n",
      "                46,\n",
      "                47,\n",
      "                48,\n",
      "                49,\n",
      "                50,\n",
      "                51,\n",
      "                52,\n",
      "                53,\n",
      "                54,\n",
      "                55,\n",
      "                56,\n",
      "                57,\n",
      "                58,\n",
      "                59,\n",
      "                60,\n",
      "                61,\n",
      "                62,\n",
      "                63,\n",
      "                0,\n",
      "                1,\n",
      "                2,\n",
      "                3,\n",
      "                4,\n",
      "                5,\n",
      "                6,\n",
      "                7,\n",
      "                8,\n",
      "                9,\n",
      "                10,\n",
      "                11,\n",
      "                12,\n",
      "                13,\n",
      "                14,\n",
      "                15,\n",
      "                16,\n",
      "                17,\n",
      "                18,\n",
      "                19,\n",
      "                20,\n",
      "                21,\n",
      "                22,\n",
      "                23,\n",
      "                24,\n",
      "                25,\n",
      "                26,\n",
      "                27,\n",
      "                28,\n",
      "                29,\n",
      "                30,\n",
      "                31,\n",
      "                32,\n",
      "                33,\n",
      "                34,\n",
      "                35,\n",
      "                36,\n",
      "                37,\n",
      "                38,\n",
      "                39,\n",
      "                40,\n",
      "                41,\n",
      "                42,\n",
      "                43,\n",
      "                44,\n",
      "                45,\n",
      "                46,\n",
      "                47,\n",
      "                48,\n",
      "                49,\n",
      "                50,\n",
      "                51,\n",
      "                52,\n",
      "                53,\n",
      "                54,\n",
      "                55,\n",
      "                56,\n",
      "                57,\n",
      "                58,\n",
      "                59,\n",
      "                60,\n",
      "                61,\n",
      "                62,\n",
      "                63,\n",
      "                0,\n",
      "                1,\n",
      "                2,\n",
      "                3,\n",
      "                4,\n",
      "                5,\n",
      "                6,\n",
      "                7,\n",
      "                8,\n",
      "                9,\n",
      "                10,\n",
      "                11,\n",
      "                12,\n",
      "                13,\n",
      "                14,\n",
      "                15,\n",
      "                16,\n",
      "                17,\n",
      "                18,\n",
      "                19,\n",
      "                20,\n",
      "                21,\n",
      "                22,\n",
      "                23,\n",
      "                24,\n",
      "                25,\n",
      "                26,\n",
      "                27,\n",
      "                28,\n",
      "                29,\n",
      "                30,\n",
      "                31,\n",
      "                32,\n",
      "                33,\n",
      "                34,\n",
      "                35,\n",
      "                36,\n",
      "                37,\n",
      "                38,\n",
      "                39,\n",
      "                40,\n",
      "                41,\n",
      "                42,\n",
      "                43,\n",
      "                44,\n",
      "                45,\n",
      "                46,\n",
      "                47,\n",
      "                48,\n",
      "                49,\n",
      "                50,\n",
      "                51,\n",
      "                52,\n",
      "                53,\n",
      "                54,\n",
      "                55,\n",
      "                56,\n",
      "                57,\n",
      "                58,\n",
      "                59,\n",
      "                60,\n",
      "                61,\n",
      "                62,\n",
      "                63\n",
      "              ]\n",
      "            ]\n",
      "          },\n",
      "          {\n",
      "            \"name\": \"custom_channel_name\",\n",
      "            \"description\": \"Custom channel name assigned in Intan.\",\n",
      "            \"data\": [\n",
      "              \"F1-01\",\n",
      "              \"F1-02\",\n",
      "              \"F1-03\",\n",
      "              \"F1-04\",\n",
      "              \"F1-05\",\n",
      "              \"F1-06\",\n",
      "              \"F1-07\",\n",
      "              \"F1-08\",\n",
      "              \"F1-09\",\n",
      "              \"F1-10\",\n",
      "              \"F1-11\",\n",
      "              \"F1-12\",\n",
      "              \"F1-13\",\n",
      "              \"F1-14\",\n",
      "              \"F1-15\",\n",
      "              \"F1-16\",\n",
      "              \"F1-17\",\n",
      "              \"F1-18\",\n",
      "              \"F1-19\",\n",
      "              \"F1-20\",\n",
      "              \"F1-21\",\n",
      "              \"F1-22\",\n",
      "              \"F1-23\",\n",
      "              \"F1-24\",\n",
      "              \"F1-25\",\n",
      "              \"F1-26\",\n",
      "              \"F1-27\",\n",
      "              \"F1-28\",\n",
      "              \"F1-29\",\n",
      "              \"F1-30\",\n",
      "              \"F1-31\",\n",
      "              \"F1-32\",\n",
      "              \"F5(HAND)-01\",\n",
      "              \"F5(HAND)-02\",\n",
      "              \"F5(HAND)-03\",\n",
      "              \"F5(HAND)-04\",\n",
      "              \"F5(HAND)-05\",\n",
      "              \"F5(HAND)-06\",\n",
      "              \"F5(HAND)-07\",\n",
      "              \"F5(HAND)-08\",\n",
      "              \"F5(hand)-09\",\n",
      "              \"F5(HAND)-10\",\n",
      "              \"F5(HAND)-11\",\n",
      "              \"F5(HAND)-12\",\n",
      "              \"F5(HAND)-13\",\n",
      "              \"F5(HAND)-14\",\n",
      "              \"F5(HAND)-15\",\n",
      "              \"F5(HAND)-16\",\n",
      "              \"F5(HAND)-17\",\n",
      "              \"F5(HAND)-18\",\n",
      "              \"F5(HAND)-19\",\n",
      "              \"F5(HAND)-20\",\n",
      "              \"F5(HAND)-21\",\n",
      "              \"F5(HAND)-22\",\n",
      "              \"F5(HAND)-23\",\n",
      "              \"F5(HAND)-24\",\n",
      "              \"F5(HAND)-25\",\n",
      "              \"F5(HAND)-26\",\n",
      "              \"F5(HAND)-27\",\n",
      "              \"F5(HAND)-28\",\n",
      "              \"F5(HAND)-29\",\n",
      "              \"F5(HAND)-30\",\n",
      "              \"F5(HAND)-31\",\n",
      "              \"F5(HAND)-32\",\n",
      "              \"F5(MOUTH)-01\",\n",
      "              \"F5(MOUTH)-02\",\n",
      "              \"F5(MOUTH)-03\",\n",
      "              \"F5(MOUTH)-04\",\n",
      "              \"F5(MOUTH)-05\",\n",
      "              \"F5(MOUTH)-06\",\n",
      "              \"F5(MOUTH)-07\",\n",
      "              \"F5(MOUTH)-08\",\n",
      "              \"F5(MOUTH)-09\",\n",
      "              \"F5(MOUTH)-10\",\n",
      "              \"F5(MOUTH)-11\",\n",
      "              \"F5(MOUTH)-12\",\n",
      "              \"F5(MOUTH)-13\",\n",
      "              \"F5(MOUTH)-14\",\n",
      "              \"F5(MOUTH)-15\",\n",
      "              \"F5(MOUTH)-16\",\n",
      "              \"F5(MOUTH)-17\",\n",
      "              \"F5(MOUTH)-18\",\n",
      "              \"F5(MOUTH)-19\",\n",
      "              \"F5(MOUTH)-20\",\n",
      "              \"F5(MOUTH)-21\",\n",
      "              \"F5(MOUTH)-22\",\n",
      "              \"F5(MOUTH)-23\",\n",
      "              \"F5(MOUTH)-24\",\n",
      "              \"F5(MOUTH)-25\",\n",
      "              \"F5(MOUTH)-26\",\n",
      "              \"F5(MOUTH)-27\",\n",
      "              \"F5(MOUTH)-28\",\n",
      "              \"F5(MOUTH)-29\",\n",
      "              \"F5(MOUTH)-30\",\n",
      "              \"F5(MOUTH)-31\",\n",
      "              \"F5(MOUTH)-32\",\n",
      "              \"46v/12r-01\",\n",
      "              \"46v/12r-02\",\n",
      "              \"46v/12r-03\",\n",
      "              \"46v/12r-04\",\n",
      "              \"46v/12r-05\",\n",
      "              \"46v/12r-06\",\n",
      "              \"46v/12r-07\",\n",
      "              \"46v/12r-08\",\n",
      "              \"46v/12r-09\",\n",
      "              \"46v/12r-10\",\n",
      "              \"46v/12r-11\",\n",
      "              \"46v/12r-12\",\n",
      "              \"46v/12r-13\",\n",
      "              \"46v/12r-14\",\n",
      "              \"46v/12r-15\",\n",
      "              \"46v/12r-16\",\n",
      "              \"46v/12r-17\",\n",
      "              \"46v/12r-18\",\n",
      "              \"46v/12r-19\",\n",
      "              \"46v/12r-20\",\n",
      "              \"46v/12r-21\",\n",
      "              \"46v/12r-22\",\n",
      "              \"46v/12r-23\",\n",
      "              \"46v/12r-24\",\n",
      "              \"46v/12r-25\",\n",
      "              \"46v/12r-26\",\n",
      "              \"46v/12r-27\",\n",
      "              \"46v/12r-28\",\n",
      "              \"46v/12r-29\",\n",
      "              \"46v/12r-30\",\n",
      "              \"46v/12r-31\",\n",
      "              \"46v/12r-32\",\n",
      "              \"45A-01\",\n",
      "              \"45A-02\",\n",
      "              \"45A-03\",\n",
      "              \"45A-04\",\n",
      "              \"45A-05\",\n",
      "              \"45A-06\",\n",
      "              \"45A-07\",\n",
      "              \"45A-08\",\n",
      "              \"45A-09\",\n",
      "              \"45A-10\",\n",
      "              \"45A-11\",\n",
      "              \"45A-12\",\n",
      "              \"45A-13\",\n",
      "              \"45A-14\",\n",
      "              \"45A-15\",\n",
      "              \"45A-16\",\n",
      "              \"45A-17\",\n",
      "              \"45A-18\",\n",
      "              \"45A-19\",\n",
      "              \"45A-20\",\n",
      "              \"45A-21\",\n",
      "              \"45A-22\",\n",
      "              \"45A-23\",\n",
      "              \"45A-24\",\n",
      "              \"45A-25\",\n",
      "              \"45A-26\",\n",
      "              \"45A-27\",\n",
      "              \"45A-28\",\n",
      "              \"45A-29\",\n",
      "              \"45A-30\",\n",
      "              \"45A-31\",\n",
      "              \"45A-32\",\n",
      "              \"F2-01\",\n",
      "              \"F2-02\",\n",
      "              \"F2-03\",\n",
      "              \"F2-04\",\n",
      "              \"F2-05\",\n",
      "              \"F2-06\",\n",
      "              \"F2-07\",\n",
      "              \"F2-08\",\n",
      "              \"F2-09\",\n",
      "              \"F2-10\",\n",
      "              \"F2-11\",\n",
      "              \"F2-12\",\n",
      "              \"F2-13\",\n",
      "              \"F2-14\",\n",
      "              \"F2-15\",\n",
      "              \"F2-16\",\n",
      "              \"F2-17\",\n",
      "              \"F2-18\",\n",
      "              \"F2-19\",\n",
      "              \"F2-20\",\n",
      "              \"F2-21\",\n",
      "              \"F2-22\",\n",
      "              \"F2-23\",\n",
      "              \"F2-24\",\n",
      "              \"F2-25\",\n",
      "              \"F2-26\",\n",
      "              \"F2-27\",\n",
      "              \"F2-28\",\n",
      "              \"F2-29\",\n",
      "              \"F2-30\",\n",
      "              \"F2-31\",\n",
      "              \"F2-32\"\n",
      "            ]\n",
      "          }\n",
      "        ]\n",
      "      },\n",
      "      \"definitions\": {\n",
      "        \"Device\": {\n",
      "          \"required\": [\n",
      "            \"name\"\n",
      "          ],\n",
      "          \"properties\": {\n",
      "            \"name\": {\n",
      "              \"description\": \"the name of this device\",\n",
      "              \"type\": \"string\"\n",
      "            },\n",
      "            \"description\": {\n",
      "              \"description\": \"Description of the device (e.g., model, firmware version, processing software version, etc.)\",\n",
      "              \"type\": \"string\"\n",
      "            },\n",
      "            \"manufacturer\": {\n",
      "              \"description\": \"the name of the manufacturer of this device\",\n",
      "              \"type\": \"string\"\n",
      "            }\n",
      "          },\n",
      "          \"type\": \"object\",\n",
      "          \"additionalProperties\": false,\n",
      "          \"tag\": \"pynwb.device.Device\"\n",
      "        },\n",
      "        \"ElectrodeGroup\": {\n",
      "          \"required\": [\n",
      "            \"location\",\n",
      "            \"name\",\n",
      "            \"description\",\n",
      "            \"device\"\n",
      "          ],\n",
      "          \"properties\": {\n",
      "            \"name\": {\n",
      "              \"description\": \"the name of this electrode\",\n",
      "              \"type\": \"string\"\n",
      "            },\n",
      "            \"description\": {\n",
      "              \"description\": \"description of this electrode group\",\n",
      "              \"type\": \"string\"\n",
      "            },\n",
      "            \"location\": {\n",
      "              \"description\": \"description of location of this electrode group\",\n",
      "              \"type\": \"string\"\n",
      "            },\n",
      "            \"device\": {\n",
      "              \"description\": \"the device that was used to record from this electrode group\",\n",
      "              \"type\": \"string\",\n",
      "              \"target\": \"pynwb.device.Device\"\n",
      "            }\n",
      "          },\n",
      "          \"type\": \"object\",\n",
      "          \"additionalProperties\": false,\n",
      "          \"tag\": \"pynwb.ecephys.ElectrodeGroup\"\n",
      "        },\n",
      "        \"Electrodes\": {\n",
      "          \"type\": \"object\",\n",
      "          \"additionalProperties\": false,\n",
      "          \"required\": [\n",
      "            \"name\"\n",
      "          ],\n",
      "          \"properties\": {\n",
      "            \"name\": {\n",
      "              \"type\": \"string\",\n",
      "              \"description\": \"name of this electrodes column\"\n",
      "            },\n",
      "            \"description\": {\n",
      "              \"type\": \"string\",\n",
      "              \"description\": \"description of this electrodes column\"\n",
      "            }\n",
      "          }\n",
      "        }\n",
      "      }\n",
      "    },\n",
      "    \"type\": \"object\",\n",
      "    \"additionalProperties\": false,\n",
      "    \"tag\": \"Ecephys\"\n",
      "  }\n",
      "}\n"
     ]
    }
   ],
   "source": [
    "# Get metadata_schema from converter\n",
    "\n",
    "metadata_schema = intan_converter.get_metadata_schema()\n",
    "\n",
    "print(json.dumps(metadata_schema['properties'], indent=2))"
   ]
  },
  {
   "cell_type": "code",
   "execution_count": 46,
   "id": "9cd197ac",
   "metadata": {
    "scrolled": true
   },
   "outputs": [
    {
     "ename": "ValidationError",
     "evalue": "Additional properties are not allowed ('ElectricalSeries_raw' was unexpected)\n\nFailed validating 'additionalProperties' in schema['properties']['Ecephys']:\n    {'additionalProperties': False,\n     'properties': {'Device': {'default': [{}],\n                               'items': {'$ref': '#/properties/Ecephys/properties/definitions/Device'},\n                               'minItems': 1,\n                               'type': 'array'},\n                    'ElectrodeGroup': {'default': [{'description': 'Group '\n                                                                   'B '\n                                                                   'electrodes.',\n                                                    'name': 'GroupB'},\n                                                   {'description': 'Group '\n                                                                   'A '\n                                                                   'electrodes.',\n                                                    'name': 'GroupA'},\n                                                   {'description': 'Group '\n                                                                   'C '\n                                                                   'electrodes.',\n                                                    'name': 'GroupC'}],\n                                       'items': {'$ref': '#/properties/Ecephys/properties/definitions/ElectrodeGroup'},\n                                       'minItems': 1,\n                                       'type': 'array'},\n                    'Electrodes': {'default': [{'description': 'The name '\n                                                               'of the '\n                                                               'ElectrodeGroup '\n                                                               'this '\n                                                               'electrode '\n                                                               'is a part '\n                                                               'of.',\n                                                'name': 'group_name'},\n                                               {'data': [[0,\n                                                          1,\n                                                          2,\n                                                          3,\n                                                          4,\n                                                          5,\n                                                          6,\n                                                          7,\n                                                          8,\n                                                          9,\n                                                          10,\n                                                          11,\n                                                          12,\n                                                          13,\n                                                          14,\n                                                          15,\n                                                          16,\n                                                          17,\n                                                          18,\n                                                          19,\n                                                          20,\n                                                          21,\n                                                          22,\n                                                          23,\n                                                          24,\n                                                          25,\n                                                          26,\n                                                          27,\n                                                          28,\n                                                          29,\n                                                          30,\n                                                          31,\n                                                          32,\n                                                          33,\n                                                          34,\n                                                          35,\n                                                          36,\n                                                          37,\n                                                          38,\n                                                          39,\n                                                          40,\n                                                          41,\n                                                          42,\n                                                          43,\n                                                          44,\n                                                          45,\n                                                          46,\n                                                          47,\n                                                          48,\n                                                          49,\n                                                          50,\n                                                          51,\n                                                          52,\n                                                          53,\n                                                          54,\n                                                          55,\n                                                          56,\n                                                          57,\n                                                          58,\n                                                          59,\n                                                          60,\n                                                          61,\n                                                          62,\n                                                          63,\n                                                          0,\n                                                          1,\n                                                          2,\n                                                          3,\n                                                          4,\n                                                          5,\n                                                          6,\n                                                          7,\n                                                          8,\n                                                          9,\n                                                          10,\n                                                          11,\n                                                          12,\n                                                          13,\n                                                          14,\n                                                          15,\n                                                          16,\n                                                          17,\n                                                          18,\n                                                          19,\n                                                          20,\n                                                          21,\n                                                          22,\n                                                          23,\n                                                          24,\n                                                          25,\n                                                          26,\n                                                          27,\n                                                          28,\n                                                          29,\n                                                          30,\n                                                          31,\n                                                          32,\n                                                          33,\n                                                          34,\n                                                          35,\n                                                          36,\n                                                          37,\n                                                          38,\n                                                          39,\n                                                          40,\n                                                          41,\n                                                          42,\n                                                          43,\n                                                          44,\n                                                          45,\n                                                          46,\n                                                          47,\n                                                          48,\n                                                          49,\n                                                          50,\n                                                          51,\n                                                          52,\n                                                          53,\n                                                          54,\n                                                          55,\n                                                          56,\n                                                          57,\n                                                          58,\n                                                          59,\n                                                          60,\n                                                          61,\n                                                          62,\n                                                          63,\n                                                          0,\n                                                          1,\n                                                          2,\n                                                          3,\n                                                          4,\n                                                          5,\n                                                          6,\n                                                          7,\n                                                          8,\n                                                          9,\n                                                          10,\n                                                          11,\n                                                          12,\n                                                          13,\n                                                          14,\n                                                          15,\n                                                          16,\n                                                          17,\n                                                          18,\n                                                          19,\n                                                          20,\n                                                          21,\n                                                          22,\n                                                          23,\n                                                          24,\n                                                          25,\n                                                          26,\n                                                          27,\n                                                          28,\n                                                          29,\n                                                          30,\n                                                          31,\n                                                          32,\n                                                          33,\n                                                          34,\n                                                          35,\n                                                          36,\n                                                          37,\n                                                          38,\n                                                          39,\n                                                          40,\n                                                          41,\n                                                          42,\n                                                          43,\n                                                          44,\n                                                          45,\n                                                          46,\n                                                          47,\n                                                          48,\n                                                          49,\n                                                          50,\n                                                          51,\n                                                          52,\n                                                          53,\n                                                          54,\n                                                          55,\n                                                          56,\n                                                          57,\n                                                          58,\n                                                          59,\n                                                          60,\n                                                          61,\n                                                          62,\n                                                          63]],\n                                                'description': '0-indexed '\n                                                               'channel '\n                                                               'within a '\n                                                               'group.',\n                                                'name': 'group_electrode_number'},\n                                               {'data': ['F1-01',\n                                                         'F1-02',\n                                                         'F1-03',\n                                                         'F1-04',\n                                                         'F1-05',\n                                                         'F1-06',\n                                                         'F1-07',\n                                                         'F1-08',\n                                                         'F1-09',\n                                                         'F1-10',\n                                                         'F1-11',\n                                                         'F1-12',\n                                                         'F1-13',\n                                                         'F1-14',\n                                                         'F1-15',\n                                                         'F1-16',\n                                                         'F1-17',\n                                                         'F1-18',\n                                                         'F1-19',\n                                                         'F1-20',\n                                                         'F1-21',\n                                                         'F1-22',\n                                                         'F1-23',\n                                                         'F1-24',\n                                                         'F1-25',\n                                                         'F1-26',\n                                                         'F1-27',\n                                                         'F1-28',\n                                                         'F1-29',\n                                                         'F1-30',\n                                                         'F1-31',\n                                                         'F1-32',\n                                                         'F5(HAND)-01',\n                                                         'F5(HAND)-02',\n                                                         'F5(HAND)-03',\n                                                         'F5(HAND)-04',\n                                                         'F5(HAND)-05',\n                                                         'F5(HAND)-06',\n                                                         'F5(HAND)-07',\n                                                         'F5(HAND)-08',\n                                                         'F5(hand)-09',\n                                                         'F5(HAND)-10',\n                                                         'F5(HAND)-11',\n                                                         'F5(HAND)-12',\n                                                         'F5(HAND)-13',\n                                                         'F5(HAND)-14',\n                                                         'F5(HAND)-15',\n                                                         'F5(HAND)-16',\n                                                         'F5(HAND)-17',\n                                                         'F5(HAND)-18',\n                                                         'F5(HAND)-19',\n                                                         'F5(HAND)-20',\n                                                         'F5(HAND)-21',\n                                                         'F5(HAND)-22',\n                                                         'F5(HAND)-23',\n                                                         'F5(HAND)-24',\n                                                         'F5(HAND)-25',\n                                                         'F5(HAND)-26',\n                                                         'F5(HAND)-27',\n                                                         'F5(HAND)-28',\n                                                         'F5(HAND)-29',\n                                                         'F5(HAND)-30',\n                                                         'F5(HAND)-31',\n                                                         'F5(HAND)-32',\n                                                         'F5(MOUTH)-01',\n                                                         'F5(MOUTH)-02',\n                                                         'F5(MOUTH)-03',\n                                                         'F5(MOUTH)-04',\n                                                         'F5(MOUTH)-05',\n                                                         'F5(MOUTH)-06',\n                                                         'F5(MOUTH)-07',\n                                                         'F5(MOUTH)-08',\n                                                         'F5(MOUTH)-09',\n                                                         'F5(MOUTH)-10',\n                                                         'F5(MOUTH)-11',\n                                                         'F5(MOUTH)-12',\n                                                         'F5(MOUTH)-13',\n                                                         'F5(MOUTH)-14',\n                                                         'F5(MOUTH)-15',\n                                                         'F5(MOUTH)-16',\n                                                         'F5(MOUTH)-17',\n                                                         'F5(MOUTH)-18',\n                                                         'F5(MOUTH)-19',\n                                                         'F5(MOUTH)-20',\n                                                         'F5(MOUTH)-21',\n                                                         'F5(MOUTH)-22',\n                                                         'F5(MOUTH)-23',\n                                                         'F5(MOUTH)-24',\n                                                         'F5(MOUTH)-25',\n                                                         'F5(MOUTH)-26',\n                                                         'F5(MOUTH)-27',\n                                                         'F5(MOUTH)-28',\n                                                         'F5(MOUTH)-29',\n                                                         'F5(MOUTH)-30',\n                                                         'F5(MOUTH)-31',\n                                                         'F5(MOUTH)-32',\n                                                         '46v/12r-01',\n                                                         '46v/12r-02',\n                                                         '46v/12r-03',\n                                                         '46v/12r-04',\n                                                         '46v/12r-05',\n                                                         '46v/12r-06',\n                                                         '46v/12r-07',\n                                                         '46v/12r-08',\n                                                         '46v/12r-09',\n                                                         '46v/12r-10',\n                                                         '46v/12r-11',\n                                                         '46v/12r-12',\n                                                         '46v/12r-13',\n                                                         '46v/12r-14',\n                                                         '46v/12r-15',\n                                                         '46v/12r-16',\n                                                         '46v/12r-17',\n                                                         '46v/12r-18',\n                                                         '46v/12r-19',\n                                                         '46v/12r-20',\n                                                         '46v/12r-21',\n                                                         '46v/12r-22',\n                                                         '46v/12r-23',\n                                                         '46v/12r-24',\n                                                         '46v/12r-25',\n                                                         '46v/12r-26',\n                                                         '46v/12r-27',\n                                                         '46v/12r-28',\n                                                         '46v/12r-29',\n                                                         '46v/12r-30',\n                                                         '46v/12r-31',\n                                                         '46v/12r-32',\n                                                         '45A-01',\n                                                         '45A-02',\n                                                         '45A-03',\n                                                         '45A-04',\n                                                         '45A-05',\n                                                         '45A-06',\n                                                         '45A-07',\n                                                         '45A-08',\n                                                         '45A-09',\n                                                         '45A-10',\n                                                         '45A-11',\n                                                         '45A-12',\n                                                         '45A-13',\n                                                         '45A-14',\n                                                         '45A-15',\n                                                         '45A-16',\n                                                         '45A-17',\n                                                         '45A-18',\n                                                         '45A-19',\n                                                         '45A-20',\n                                                         '45A-21',\n                                                         '45A-22',\n                                                         '45A-23',\n                                                         '45A-24',\n                                                         '45A-25',\n                                                         '45A-26',\n                                                         '45A-27',\n                                                         '45A-28',\n                                                         '45A-29',\n                                                         '45A-30',\n                                                         '45A-31',\n                                                         '45A-32',\n                                                         'F2-01',\n                                                         'F2-02',\n                                                         'F2-03',\n                                                         'F2-04',\n                                                         'F2-05',\n                                                         'F2-06',\n                                                         'F2-07',\n                                                         'F2-08',\n                                                         'F2-09',\n                                                         'F2-10',\n                                                         'F2-11',\n                                                         'F2-12',\n                                                         'F2-13',\n                                                         'F2-14',\n                                                         'F2-15',\n                                                         'F2-16',\n                                                         'F2-17',\n                                                         'F2-18',\n                                                         'F2-19',\n                                                         'F2-20',\n                                                         'F2-21',\n                                                         'F2-22',\n                                                         'F2-23',\n                                                         'F2-24',\n                                                         'F2-25',\n                                                         'F2-26',\n                                                         'F2-27',\n                                                         'F2-28',\n                                                         'F2-29',\n                                                         'F2-30',\n                                                         'F2-31',\n                                                         'F2-32'],\n                                                'description': 'Custom '\n                                                               'channel '\n                                                               'name '\n                                                               'assigned '\n                                                               'in Intan.',\n                                                'name': 'custom_channel_name'}],\n                                   'items': {'$ref': '#/properties/Ecephys/properties/definitions/Electrodes'},\n                                   'minItems': 0,\n                                   'renderForm': False,\n                                   'type': 'array'},\n                    'definitions': {'Device': {'additionalProperties': False,\n                                               'properties': {'description': {'description': 'Description '\n                                                                                             'of '\n                                                                                             'the '\n                                                                                             'device '\n                                                                                             '(e.g., '\n                                                                                             'model, '\n                                                                                             'firmware '\n                                                                                             'version, '\n                                                                                             'processing '\n                                                                                             'software '\n                                                                                             'version, '\n                                                                                             'etc.)',\n                                                                              'type': 'string'},\n                                                              'manufacturer': {'description': 'the '\n                                                                                              'name '\n                                                                                              'of '\n                                                                                              'the '\n                                                                                              'manufacturer '\n                                                                                              'of '\n                                                                                              'this '\n                                                                                              'device',\n                                                                               'type': 'string'},\n                                                              'name': {'description': 'the '\n                                                                                      'name '\n                                                                                      'of '\n                                                                                      'this '\n                                                                                      'device',\n                                                                       'type': 'string'}},\n                                               'required': ['name'],\n                                               'tag': 'pynwb.device.Device',\n                                               'type': 'object'},\n                                    'ElectrodeGroup': {'additionalProperties': False,\n                                                       'properties': {'description': {'description': 'description '\n                                                                                                     'of '\n                                                                                                     'this '\n                                                                                                     'electrode '\n                                                                                                     'group',\n                                                                                      'type': 'string'},\n                                                                      'device': {'description': 'the '\n                                                                                                'device '\n                                                                                                'that '\n                                                                                                'was '\n                                                                                                'used '\n                                                                                                'to '\n                                                                                                'record '\n                                                                                                'from '\n                                                                                                'this '\n                                                                                                'electrode '\n                                                                                                'group',\n                                                                                 'target': 'pynwb.device.Device',\n                                                                                 'type': 'string'},\n                                                                      'location': {'description': 'description '\n                                                                                                  'of '\n                                                                                                  'location '\n                                                                                                  'of '\n                                                                                                  'this '\n                                                                                                  'electrode '\n                                                                                                  'group',\n                                                                                   'type': 'string'},\n                                                                      'name': {'description': 'the '\n                                                                                              'name '\n                                                                                              'of '\n                                                                                              'this '\n                                                                                              'electrode',\n                                                                               'type': 'string'}},\n                                                       'required': ['location',\n                                                                    'name',\n                                                                    'description',\n                                                                    'device'],\n                                                       'tag': 'pynwb.ecephys.ElectrodeGroup',\n                                                       'type': 'object'},\n                                    'Electrodes': {'additionalProperties': False,\n                                                   'properties': {'description': {'description': 'description '\n                                                                                                 'of '\n                                                                                                 'this '\n                                                                                                 'electrodes '\n                                                                                                 'column',\n                                                                                  'type': 'string'},\n                                                                  'name': {'description': 'name '\n                                                                                          'of '\n                                                                                          'this '\n                                                                                          'electrodes '\n                                                                                          'column',\n                                                                           'type': 'string'}},\n                                                   'required': ['name'],\n                                                   'type': 'object'}}},\n     'required': ['Device', 'ElectrodeGroup'],\n     'tag': 'Ecephys',\n     'type': 'object'}\n\nOn instance['Ecephys']:\n    {'Device': [{}],\n     'ElectricalSeries_raw': {'description': 'Raw acquisition traces.',\n                              'name': 'ElectricalSeries_raw'},\n     'ElectrodeGroup': [{'description': 'Group B electrodes.',\n                         'name': 'GroupB'},\n                        {'description': 'Group A electrodes.',\n                         'name': 'GroupA'},\n                        {'description': 'Group C electrodes.',\n                         'name': 'GroupC'}],\n     'Electrodes': [{'description': 'The name of the ElectrodeGroup this '\n                                    'electrode is a part of.',\n                     'name': 'group_name'},\n                    {'data': [[0,\n                               1,\n                               2,\n                               3,\n                               4,\n                               5,\n                               6,\n                               7,\n                               8,\n                               9,\n                               10,\n                               11,\n                               12,\n                               13,\n                               14,\n                               15,\n                               16,\n                               17,\n                               18,\n                               19,\n                               20,\n                               21,\n                               22,\n                               23,\n                               24,\n                               25,\n                               26,\n                               27,\n                               28,\n                               29,\n                               30,\n                               31,\n                               32,\n                               33,\n                               34,\n                               35,\n                               36,\n                               37,\n                               38,\n                               39,\n                               40,\n                               41,\n                               42,\n                               43,\n                               44,\n                               45,\n                               46,\n                               47,\n                               48,\n                               49,\n                               50,\n                               51,\n                               52,\n                               53,\n                               54,\n                               55,\n                               56,\n                               57,\n                               58,\n                               59,\n                               60,\n                               61,\n                               62,\n                               63,\n                               0,\n                               1,\n                               2,\n                               3,\n                               4,\n                               5,\n                               6,\n                               7,\n                               8,\n                               9,\n                               10,\n                               11,\n                               12,\n                               13,\n                               14,\n                               15,\n                               16,\n                               17,\n                               18,\n                               19,\n                               20,\n                               21,\n                               22,\n                               23,\n                               24,\n                               25,\n                               26,\n                               27,\n                               28,\n                               29,\n                               30,\n                               31,\n                               32,\n                               33,\n                               34,\n                               35,\n                               36,\n                               37,\n                               38,\n                               39,\n                               40,\n                               41,\n                               42,\n                               43,\n                               44,\n                               45,\n                               46,\n                               47,\n                               48,\n                               49,\n                               50,\n                               51,\n                               52,\n                               53,\n                               54,\n                               55,\n                               56,\n                               57,\n                               58,\n                               59,\n                               60,\n                               61,\n                               62,\n                               63,\n                               0,\n                               1,\n                               2,\n                               3,\n                               4,\n                               5,\n                               6,\n                               7,\n                               8,\n                               9,\n                               10,\n                               11,\n                               12,\n                               13,\n                               14,\n                               15,\n                               16,\n                               17,\n                               18,\n                               19,\n                               20,\n                               21,\n                               22,\n                               23,\n                               24,\n                               25,\n                               26,\n                               27,\n                               28,\n                               29,\n                               30,\n                               31,\n                               32,\n                               33,\n                               34,\n                               35,\n                               36,\n                               37,\n                               38,\n                               39,\n                               40,\n                               41,\n                               42,\n                               43,\n                               44,\n                               45,\n                               46,\n                               47,\n                               48,\n                               49,\n                               50,\n                               51,\n                               52,\n                               53,\n                               54,\n                               55,\n                               56,\n                               57,\n                               58,\n                               59,\n                               60,\n                               61,\n                               62,\n                               63]],\n                     'description': '0-indexed channel within a group.',\n                     'name': 'group_electrode_number'},\n                    {'data': ['F1-01',\n                              'F1-02',\n                              'F1-03',\n                              'F1-04',\n                              'F1-05',\n                              'F1-06',\n                              'F1-07',\n                              'F1-08',\n                              'F1-09',\n                              'F1-10',\n                              'F1-11',\n                              'F1-12',\n                              'F1-13',\n                              'F1-14',\n                              'F1-15',\n                              'F1-16',\n                              'F1-17',\n                              'F1-18',\n                              'F1-19',\n                              'F1-20',\n                              'F1-21',\n                              'F1-22',\n                              'F1-23',\n                              'F1-24',\n                              'F1-25',\n                              'F1-26',\n                              'F1-27',\n                              'F1-28',\n                              'F1-29',\n                              'F1-30',\n                              'F1-31',\n                              'F1-32',\n                              'F5(HAND)-01',\n                              'F5(HAND)-02',\n                              'F5(HAND)-03',\n                              'F5(HAND)-04',\n                              'F5(HAND)-05',\n                              'F5(HAND)-06',\n                              'F5(HAND)-07',\n                              'F5(HAND)-08',\n                              'F5(hand)-09',\n                              'F5(HAND)-10',\n                              'F5(HAND)-11',\n                              'F5(HAND)-12',\n                              'F5(HAND)-13',\n                              'F5(HAND)-14',\n                              'F5(HAND)-15',\n                              'F5(HAND)-16',\n                              'F5(HAND)-17',\n                              'F5(HAND)-18',\n                              'F5(HAND)-19',\n                              'F5(HAND)-20',\n                              'F5(HAND)-21',\n                              'F5(HAND)-22',\n                              'F5(HAND)-23',\n                              'F5(HAND)-24',\n                              'F5(HAND)-25',\n                              'F5(HAND)-26',\n                              'F5(HAND)-27',\n                              'F5(HAND)-28',\n                              'F5(HAND)-29',\n                              'F5(HAND)-30',\n                              'F5(HAND)-31',\n                              'F5(HAND)-32',\n                              'F5(MOUTH)-01',\n                              'F5(MOUTH)-02',\n                              'F5(MOUTH)-03',\n                              'F5(MOUTH)-04',\n                              'F5(MOUTH)-05',\n                              'F5(MOUTH)-06',\n                              'F5(MOUTH)-07',\n                              'F5(MOUTH)-08',\n                              'F5(MOUTH)-09',\n                              'F5(MOUTH)-10',\n                              'F5(MOUTH)-11',\n                              'F5(MOUTH)-12',\n                              'F5(MOUTH)-13',\n                              'F5(MOUTH)-14',\n                              'F5(MOUTH)-15',\n                              'F5(MOUTH)-16',\n                              'F5(MOUTH)-17',\n                              'F5(MOUTH)-18',\n                              'F5(MOUTH)-19',\n                              'F5(MOUTH)-20',\n                              'F5(MOUTH)-21',\n                              'F5(MOUTH)-22',\n                              'F5(MOUTH)-23',\n                              'F5(MOUTH)-24',\n                              'F5(MOUTH)-25',\n                              'F5(MOUTH)-26',\n                              'F5(MOUTH)-27',\n                              'F5(MOUTH)-28',\n                              'F5(MOUTH)-29',\n                              'F5(MOUTH)-30',\n                              'F5(MOUTH)-31',\n                              'F5(MOUTH)-32',\n                              '46v/12r-01',\n                              '46v/12r-02',\n                              '46v/12r-03',\n                              '46v/12r-04',\n                              '46v/12r-05',\n                              '46v/12r-06',\n                              '46v/12r-07',\n                              '46v/12r-08',\n                              '46v/12r-09',\n                              '46v/12r-10',\n                              '46v/12r-11',\n                              '46v/12r-12',\n                              '46v/12r-13',\n                              '46v/12r-14',\n                              '46v/12r-15',\n                              '46v/12r-16',\n                              '46v/12r-17',\n                              '46v/12r-18',\n                              '46v/12r-19',\n                              '46v/12r-20',\n                              '46v/12r-21',\n                              '46v/12r-22',\n                              '46v/12r-23',\n                              '46v/12r-24',\n                              '46v/12r-25',\n                              '46v/12r-26',\n                              '46v/12r-27',\n                              '46v/12r-28',\n                              '46v/12r-29',\n                              '46v/12r-30',\n                              '46v/12r-31',\n                              '46v/12r-32',\n                              '45A-01',\n                              '45A-02',\n                              '45A-03',\n                              '45A-04',\n                              '45A-05',\n                              '45A-06',\n                              '45A-07',\n                              '45A-08',\n                              '45A-09',\n                              '45A-10',\n                              '45A-11',\n                              '45A-12',\n                              '45A-13',\n                              '45A-14',\n                              '45A-15',\n                              '45A-16',\n                              '45A-17',\n                              '45A-18',\n                              '45A-19',\n                              '45A-20',\n                              '45A-21',\n                              '45A-22',\n                              '45A-23',\n                              '45A-24',\n                              '45A-25',\n                              '45A-26',\n                              '45A-27',\n                              '45A-28',\n                              '45A-29',\n                              '45A-30',\n                              '45A-31',\n                              '45A-32',\n                              'F2-01',\n                              'F2-02',\n                              'F2-03',\n                              'F2-04',\n                              'F2-05',\n                              'F2-06',\n                              'F2-07',\n                              'F2-08',\n                              'F2-09',\n                              'F2-10',\n                              'F2-11',\n                              'F2-12',\n                              'F2-13',\n                              'F2-14',\n                              'F2-15',\n                              'F2-16',\n                              'F2-17',\n                              'F2-18',\n                              'F2-19',\n                              'F2-20',\n                              'F2-21',\n                              'F2-22',\n                              'F2-23',\n                              'F2-24',\n                              'F2-25',\n                              'F2-26',\n                              'F2-27',\n                              'F2-28',\n                              'F2-29',\n                              'F2-30',\n                              'F2-31',\n                              'F2-32'],\n                     'description': 'Custom channel name assigned in '\n                                    'Intan.',\n                     'name': 'custom_channel_name'}]}",
     "output_type": "error",
     "traceback": [
      "\u001b[0;31m---------------------------------------------------------------------------\u001b[0m",
      "\u001b[0;31mValidationError\u001b[0m                           Traceback (most recent call last)",
      "\u001b[0;32m/tmp/ipykernel_1716/1198757450.py\u001b[0m in \u001b[0;36m<module>\u001b[0;34m\u001b[0m\n\u001b[1;32m      1\u001b[0m \u001b[0;31m# Validate metadata against metadata_schema\u001b[0m\u001b[0;34m\u001b[0m\u001b[0;34m\u001b[0m\u001b[0;34m\u001b[0m\u001b[0m\n\u001b[1;32m      2\u001b[0m \u001b[0;34m\u001b[0m\u001b[0m\n\u001b[0;32m----> 3\u001b[0;31m validate(\n\u001b[0m\u001b[1;32m      4\u001b[0m     \u001b[0minstance\u001b[0m\u001b[0;34m=\u001b[0m\u001b[0mintan_converter\u001b[0m\u001b[0;34m.\u001b[0m\u001b[0mget_metadata\u001b[0m\u001b[0;34m(\u001b[0m\u001b[0;34m)\u001b[0m\u001b[0;34m,\u001b[0m\u001b[0;34m\u001b[0m\u001b[0;34m\u001b[0m\u001b[0m\n\u001b[1;32m      5\u001b[0m     \u001b[0mschema\u001b[0m\u001b[0;34m=\u001b[0m\u001b[0mintan_converter\u001b[0m\u001b[0;34m.\u001b[0m\u001b[0mget_metadata_schema\u001b[0m\u001b[0;34m(\u001b[0m\u001b[0;34m)\u001b[0m\u001b[0;34m\u001b[0m\u001b[0;34m\u001b[0m\u001b[0m\n",
      "\u001b[0;32m~/spikeinterface/hussaini-test-pipeline/venv/lib/python3.8/site-packages/jsonschema/validators.py\u001b[0m in \u001b[0;36mvalidate\u001b[0;34m(instance, schema, cls, *args, **kwargs)\u001b[0m\n\u001b[1;32m    932\u001b[0m     \u001b[0merror\u001b[0m \u001b[0;34m=\u001b[0m \u001b[0mexceptions\u001b[0m\u001b[0;34m.\u001b[0m\u001b[0mbest_match\u001b[0m\u001b[0;34m(\u001b[0m\u001b[0mvalidator\u001b[0m\u001b[0;34m.\u001b[0m\u001b[0miter_errors\u001b[0m\u001b[0;34m(\u001b[0m\u001b[0minstance\u001b[0m\u001b[0;34m)\u001b[0m\u001b[0;34m)\u001b[0m\u001b[0;34m\u001b[0m\u001b[0;34m\u001b[0m\u001b[0m\n\u001b[1;32m    933\u001b[0m     \u001b[0;32mif\u001b[0m \u001b[0merror\u001b[0m \u001b[0;32mis\u001b[0m \u001b[0;32mnot\u001b[0m \u001b[0;32mNone\u001b[0m\u001b[0;34m:\u001b[0m\u001b[0;34m\u001b[0m\u001b[0;34m\u001b[0m\u001b[0m\n\u001b[0;32m--> 934\u001b[0;31m         \u001b[0;32mraise\u001b[0m \u001b[0merror\u001b[0m\u001b[0;34m\u001b[0m\u001b[0;34m\u001b[0m\u001b[0m\n\u001b[0m\u001b[1;32m    935\u001b[0m \u001b[0;34m\u001b[0m\u001b[0m\n\u001b[1;32m    936\u001b[0m \u001b[0;34m\u001b[0m\u001b[0m\n",
      "\u001b[0;31mValidationError\u001b[0m: Additional properties are not allowed ('ElectricalSeries_raw' was unexpected)\n\nFailed validating 'additionalProperties' in schema['properties']['Ecephys']:\n    {'additionalProperties': False,\n     'properties': {'Device': {'default': [{}],\n                               'items': {'$ref': '#/properties/Ecephys/properties/definitions/Device'},\n                               'minItems': 1,\n                               'type': 'array'},\n                    'ElectrodeGroup': {'default': [{'description': 'Group '\n                                                                   'B '\n                                                                   'electrodes.',\n                                                    'name': 'GroupB'},\n                                                   {'description': 'Group '\n                                                                   'A '\n                                                                   'electrodes.',\n                                                    'name': 'GroupA'},\n                                                   {'description': 'Group '\n                                                                   'C '\n                                                                   'electrodes.',\n                                                    'name': 'GroupC'}],\n                                       'items': {'$ref': '#/properties/Ecephys/properties/definitions/ElectrodeGroup'},\n                                       'minItems': 1,\n                                       'type': 'array'},\n                    'Electrodes': {'default': [{'description': 'The name '\n                                                               'of the '\n                                                               'ElectrodeGroup '\n                                                               'this '\n                                                               'electrode '\n                                                               'is a part '\n                                                               'of.',\n                                                'name': 'group_name'},\n                                               {'data': [[0,\n                                                          1,\n                                                          2,\n                                                          3,\n                                                          4,\n                                                          5,\n                                                          6,\n                                                          7,\n                                                          8,\n                                                          9,\n                                                          10,\n                                                          11,\n                                                          12,\n                                                          13,\n                                                          14,\n                                                          15,\n                                                          16,\n                                                          17,\n                                                          18,\n                                                          19,\n                                                          20,\n                                                          21,\n                                                          22,\n                                                          23,\n                                                          24,\n                                                          25,\n                                                          26,\n                                                          27,\n                                                          28,\n                                                          29,\n                                                          30,\n                                                          31,\n                                                          32,\n                                                          33,\n                                                          34,\n                                                          35,\n                                                          36,\n                                                          37,\n                                                          38,\n                                                          39,\n                                                          40,\n                                                          41,\n                                                          42,\n                                                          43,\n                                                          44,\n                                                          45,\n                                                          46,\n                                                          47,\n                                                          48,\n                                                          49,\n                                                          50,\n                                                          51,\n                                                          52,\n                                                          53,\n                                                          54,\n                                                          55,\n                                                          56,\n                                                          57,\n                                                          58,\n                                                          59,\n                                                          60,\n                                                          61,\n                                                          62,\n                                                          63,\n                                                          0,\n                                                          1,\n                                                          2,\n                                                          3,\n                                                          4,\n                                                          5,\n                                                          6,\n                                                          7,\n                                                          8,\n                                                          9,\n                                                          10,\n                                                          11,\n                                                          12,\n                                                          13,\n                                                          14,\n                                                          15,\n                                                          16,\n                                                          17,\n                                                          18,\n                                                          19,\n                                                          20,\n                                                          21,\n                                                          22,\n                                                          23,\n                                                          24,\n                                                          25,\n                                                          26,\n                                                          27,\n                                                          28,\n                                                          29,\n                                                          30,\n                                                          31,\n                                                          32,\n                                                          33,\n                                                          34,\n                                                          35,\n                                                          36,\n                                                          37,\n                                                          38,\n                                                          39,\n                                                          40,\n                                                          41,\n                                                          42,\n                                                          43,\n                                                          44,\n                                                          45,\n                                                          46,\n                                                          47,\n                                                          48,\n                                                          49,\n                                                          50,\n                                                          51,\n                                                          52,\n                                                          53,\n                                                          54,\n                                                          55,\n                                                          56,\n                                                          57,\n                                                          58,\n                                                          59,\n                                                          60,\n                                                          61,\n                                                          62,\n                                                          63,\n                                                          0,\n                                                          1,\n                                                          2,\n                                                          3,\n                                                          4,\n                                                          5,\n                                                          6,\n                                                          7,\n                                                          8,\n                                                          9,\n                                                          10,\n                                                          11,\n                                                          12,\n                                                          13,\n                                                          14,\n                                                          15,\n                                                          16,\n                                                          17,\n                                                          18,\n                                                          19,\n                                                          20,\n                                                          21,\n                                                          22,\n                                                          23,\n                                                          24,\n                                                          25,\n                                                          26,\n                                                          27,\n                                                          28,\n                                                          29,\n                                                          30,\n                                                          31,\n                                                          32,\n                                                          33,\n                                                          34,\n                                                          35,\n                                                          36,\n                                                          37,\n                                                          38,\n                                                          39,\n                                                          40,\n                                                          41,\n                                                          42,\n                                                          43,\n                                                          44,\n                                                          45,\n                                                          46,\n                                                          47,\n                                                          48,\n                                                          49,\n                                                          50,\n                                                          51,\n                                                          52,\n                                                          53,\n                                                          54,\n                                                          55,\n                                                          56,\n                                                          57,\n                                                          58,\n                                                          59,\n                                                          60,\n                                                          61,\n                                                          62,\n                                                          63]],\n                                                'description': '0-indexed '\n                                                               'channel '\n                                                               'within a '\n                                                               'group.',\n                                                'name': 'group_electrode_number'},\n                                               {'data': ['F1-01',\n                                                         'F1-02',\n                                                         'F1-03',\n                                                         'F1-04',\n                                                         'F1-05',\n                                                         'F1-06',\n                                                         'F1-07',\n                                                         'F1-08',\n                                                         'F1-09',\n                                                         'F1-10',\n                                                         'F1-11',\n                                                         'F1-12',\n                                                         'F1-13',\n                                                         'F1-14',\n                                                         'F1-15',\n                                                         'F1-16',\n                                                         'F1-17',\n                                                         'F1-18',\n                                                         'F1-19',\n                                                         'F1-20',\n                                                         'F1-21',\n                                                         'F1-22',\n                                                         'F1-23',\n                                                         'F1-24',\n                                                         'F1-25',\n                                                         'F1-26',\n                                                         'F1-27',\n                                                         'F1-28',\n                                                         'F1-29',\n                                                         'F1-30',\n                                                         'F1-31',\n                                                         'F1-32',\n                                                         'F5(HAND)-01',\n                                                         'F5(HAND)-02',\n                                                         'F5(HAND)-03',\n                                                         'F5(HAND)-04',\n                                                         'F5(HAND)-05',\n                                                         'F5(HAND)-06',\n                                                         'F5(HAND)-07',\n                                                         'F5(HAND)-08',\n                                                         'F5(hand)-09',\n                                                         'F5(HAND)-10',\n                                                         'F5(HAND)-11',\n                                                         'F5(HAND)-12',\n                                                         'F5(HAND)-13',\n                                                         'F5(HAND)-14',\n                                                         'F5(HAND)-15',\n                                                         'F5(HAND)-16',\n                                                         'F5(HAND)-17',\n                                                         'F5(HAND)-18',\n                                                         'F5(HAND)-19',\n                                                         'F5(HAND)-20',\n                                                         'F5(HAND)-21',\n                                                         'F5(HAND)-22',\n                                                         'F5(HAND)-23',\n                                                         'F5(HAND)-24',\n                                                         'F5(HAND)-25',\n                                                         'F5(HAND)-26',\n                                                         'F5(HAND)-27',\n                                                         'F5(HAND)-28',\n                                                         'F5(HAND)-29',\n                                                         'F5(HAND)-30',\n                                                         'F5(HAND)-31',\n                                                         'F5(HAND)-32',\n                                                         'F5(MOUTH)-01',\n                                                         'F5(MOUTH)-02',\n                                                         'F5(MOUTH)-03',\n                                                         'F5(MOUTH)-04',\n                                                         'F5(MOUTH)-05',\n                                                         'F5(MOUTH)-06',\n                                                         'F5(MOUTH)-07',\n                                                         'F5(MOUTH)-08',\n                                                         'F5(MOUTH)-09',\n                                                         'F5(MOUTH)-10',\n                                                         'F5(MOUTH)-11',\n                                                         'F5(MOUTH)-12',\n                                                         'F5(MOUTH)-13',\n                                                         'F5(MOUTH)-14',\n                                                         'F5(MOUTH)-15',\n                                                         'F5(MOUTH)-16',\n                                                         'F5(MOUTH)-17',\n                                                         'F5(MOUTH)-18',\n                                                         'F5(MOUTH)-19',\n                                                         'F5(MOUTH)-20',\n                                                         'F5(MOUTH)-21',\n                                                         'F5(MOUTH)-22',\n                                                         'F5(MOUTH)-23',\n                                                         'F5(MOUTH)-24',\n                                                         'F5(MOUTH)-25',\n                                                         'F5(MOUTH)-26',\n                                                         'F5(MOUTH)-27',\n                                                         'F5(MOUTH)-28',\n                                                         'F5(MOUTH)-29',\n                                                         'F5(MOUTH)-30',\n                                                         'F5(MOUTH)-31',\n                                                         'F5(MOUTH)-32',\n                                                         '46v/12r-01',\n                                                         '46v/12r-02',\n                                                         '46v/12r-03',\n                                                         '46v/12r-04',\n                                                         '46v/12r-05',\n                                                         '46v/12r-06',\n                                                         '46v/12r-07',\n                                                         '46v/12r-08',\n                                                         '46v/12r-09',\n                                                         '46v/12r-10',\n                                                         '46v/12r-11',\n                                                         '46v/12r-12',\n                                                         '46v/12r-13',\n                                                         '46v/12r-14',\n                                                         '46v/12r-15',\n                                                         '46v/12r-16',\n                                                         '46v/12r-17',\n                                                         '46v/12r-18',\n                                                         '46v/12r-19',\n                                                         '46v/12r-20',\n                                                         '46v/12r-21',\n                                                         '46v/12r-22',\n                                                         '46v/12r-23',\n                                                         '46v/12r-24',\n                                                         '46v/12r-25',\n                                                         '46v/12r-26',\n                                                         '46v/12r-27',\n                                                         '46v/12r-28',\n                                                         '46v/12r-29',\n                                                         '46v/12r-30',\n                                                         '46v/12r-31',\n                                                         '46v/12r-32',\n                                                         '45A-01',\n                                                         '45A-02',\n                                                         '45A-03',\n                                                         '45A-04',\n                                                         '45A-05',\n                                                         '45A-06',\n                                                         '45A-07',\n                                                         '45A-08',\n                                                         '45A-09',\n                                                         '45A-10',\n                                                         '45A-11',\n                                                         '45A-12',\n                                                         '45A-13',\n                                                         '45A-14',\n                                                         '45A-15',\n                                                         '45A-16',\n                                                         '45A-17',\n                                                         '45A-18',\n                                                         '45A-19',\n                                                         '45A-20',\n                                                         '45A-21',\n                                                         '45A-22',\n                                                         '45A-23',\n                                                         '45A-24',\n                                                         '45A-25',\n                                                         '45A-26',\n                                                         '45A-27',\n                                                         '45A-28',\n                                                         '45A-29',\n                                                         '45A-30',\n                                                         '45A-31',\n                                                         '45A-32',\n                                                         'F2-01',\n                                                         'F2-02',\n                                                         'F2-03',\n                                                         'F2-04',\n                                                         'F2-05',\n                                                         'F2-06',\n                                                         'F2-07',\n                                                         'F2-08',\n                                                         'F2-09',\n                                                         'F2-10',\n                                                         'F2-11',\n                                                         'F2-12',\n                                                         'F2-13',\n                                                         'F2-14',\n                                                         'F2-15',\n                                                         'F2-16',\n                                                         'F2-17',\n                                                         'F2-18',\n                                                         'F2-19',\n                                                         'F2-20',\n                                                         'F2-21',\n                                                         'F2-22',\n                                                         'F2-23',\n                                                         'F2-24',\n                                                         'F2-25',\n                                                         'F2-26',\n                                                         'F2-27',\n                                                         'F2-28',\n                                                         'F2-29',\n                                                         'F2-30',\n                                                         'F2-31',\n                                                         'F2-32'],\n                                                'description': 'Custom '\n                                                               'channel '\n                                                               'name '\n                                                               'assigned '\n                                                               'in Intan.',\n                                                'name': 'custom_channel_name'}],\n                                   'items': {'$ref': '#/properties/Ecephys/properties/definitions/Electrodes'},\n                                   'minItems': 0,\n                                   'renderForm': False,\n                                   'type': 'array'},\n                    'definitions': {'Device': {'additionalProperties': False,\n                                               'properties': {'description': {'description': 'Description '\n                                                                                             'of '\n                                                                                             'the '\n                                                                                             'device '\n                                                                                             '(e.g., '\n                                                                                             'model, '\n                                                                                             'firmware '\n                                                                                             'version, '\n                                                                                             'processing '\n                                                                                             'software '\n                                                                                             'version, '\n                                                                                             'etc.)',\n                                                                              'type': 'string'},\n                                                              'manufacturer': {'description': 'the '\n                                                                                              'name '\n                                                                                              'of '\n                                                                                              'the '\n                                                                                              'manufacturer '\n                                                                                              'of '\n                                                                                              'this '\n                                                                                              'device',\n                                                                               'type': 'string'},\n                                                              'name': {'description': 'the '\n                                                                                      'name '\n                                                                                      'of '\n                                                                                      'this '\n                                                                                      'device',\n                                                                       'type': 'string'}},\n                                               'required': ['name'],\n                                               'tag': 'pynwb.device.Device',\n                                               'type': 'object'},\n                                    'ElectrodeGroup': {'additionalProperties': False,\n                                                       'properties': {'description': {'description': 'description '\n                                                                                                     'of '\n                                                                                                     'this '\n                                                                                                     'electrode '\n                                                                                                     'group',\n                                                                                      'type': 'string'},\n                                                                      'device': {'description': 'the '\n                                                                                                'device '\n                                                                                                'that '\n                                                                                                'was '\n                                                                                                'used '\n                                                                                                'to '\n                                                                                                'record '\n                                                                                                'from '\n                                                                                                'this '\n                                                                                                'electrode '\n                                                                                                'group',\n                                                                                 'target': 'pynwb.device.Device',\n                                                                                 'type': 'string'},\n                                                                      'location': {'description': 'description '\n                                                                                                  'of '\n                                                                                                  'location '\n                                                                                                  'of '\n                                                                                                  'this '\n                                                                                                  'electrode '\n                                                                                                  'group',\n                                                                                   'type': 'string'},\n                                                                      'name': {'description': 'the '\n                                                                                              'name '\n                                                                                              'of '\n                                                                                              'this '\n                                                                                              'electrode',\n                                                                               'type': 'string'}},\n                                                       'required': ['location',\n                                                                    'name',\n                                                                    'description',\n                                                                    'device'],\n                                                       'tag': 'pynwb.ecephys.ElectrodeGroup',\n                                                       'type': 'object'},\n                                    'Electrodes': {'additionalProperties': False,\n                                                   'properties': {'description': {'description': 'description '\n                                                                                                 'of '\n                                                                                                 'this '\n                                                                                                 'electrodes '\n                                                                                                 'column',\n                                                                                  'type': 'string'},\n                                                                  'name': {'description': 'name '\n                                                                                          'of '\n                                                                                          'this '\n                                                                                          'electrodes '\n                                                                                          'column',\n                                                                           'type': 'string'}},\n                                                   'required': ['name'],\n                                                   'type': 'object'}}},\n     'required': ['Device', 'ElectrodeGroup'],\n     'tag': 'Ecephys',\n     'type': 'object'}\n\nOn instance['Ecephys']:\n    {'Device': [{}],\n     'ElectricalSeries_raw': {'description': 'Raw acquisition traces.',\n                              'name': 'ElectricalSeries_raw'},\n     'ElectrodeGroup': [{'description': 'Group B electrodes.',\n                         'name': 'GroupB'},\n                        {'description': 'Group A electrodes.',\n                         'name': 'GroupA'},\n                        {'description': 'Group C electrodes.',\n                         'name': 'GroupC'}],\n     'Electrodes': [{'description': 'The name of the ElectrodeGroup this '\n                                    'electrode is a part of.',\n                     'name': 'group_name'},\n                    {'data': [[0,\n                               1,\n                               2,\n                               3,\n                               4,\n                               5,\n                               6,\n                               7,\n                               8,\n                               9,\n                               10,\n                               11,\n                               12,\n                               13,\n                               14,\n                               15,\n                               16,\n                               17,\n                               18,\n                               19,\n                               20,\n                               21,\n                               22,\n                               23,\n                               24,\n                               25,\n                               26,\n                               27,\n                               28,\n                               29,\n                               30,\n                               31,\n                               32,\n                               33,\n                               34,\n                               35,\n                               36,\n                               37,\n                               38,\n                               39,\n                               40,\n                               41,\n                               42,\n                               43,\n                               44,\n                               45,\n                               46,\n                               47,\n                               48,\n                               49,\n                               50,\n                               51,\n                               52,\n                               53,\n                               54,\n                               55,\n                               56,\n                               57,\n                               58,\n                               59,\n                               60,\n                               61,\n                               62,\n                               63,\n                               0,\n                               1,\n                               2,\n                               3,\n                               4,\n                               5,\n                               6,\n                               7,\n                               8,\n                               9,\n                               10,\n                               11,\n                               12,\n                               13,\n                               14,\n                               15,\n                               16,\n                               17,\n                               18,\n                               19,\n                               20,\n                               21,\n                               22,\n                               23,\n                               24,\n                               25,\n                               26,\n                               27,\n                               28,\n                               29,\n                               30,\n                               31,\n                               32,\n                               33,\n                               34,\n                               35,\n                               36,\n                               37,\n                               38,\n                               39,\n                               40,\n                               41,\n                               42,\n                               43,\n                               44,\n                               45,\n                               46,\n                               47,\n                               48,\n                               49,\n                               50,\n                               51,\n                               52,\n                               53,\n                               54,\n                               55,\n                               56,\n                               57,\n                               58,\n                               59,\n                               60,\n                               61,\n                               62,\n                               63,\n                               0,\n                               1,\n                               2,\n                               3,\n                               4,\n                               5,\n                               6,\n                               7,\n                               8,\n                               9,\n                               10,\n                               11,\n                               12,\n                               13,\n                               14,\n                               15,\n                               16,\n                               17,\n                               18,\n                               19,\n                               20,\n                               21,\n                               22,\n                               23,\n                               24,\n                               25,\n                               26,\n                               27,\n                               28,\n                               29,\n                               30,\n                               31,\n                               32,\n                               33,\n                               34,\n                               35,\n                               36,\n                               37,\n                               38,\n                               39,\n                               40,\n                               41,\n                               42,\n                               43,\n                               44,\n                               45,\n                               46,\n                               47,\n                               48,\n                               49,\n                               50,\n                               51,\n                               52,\n                               53,\n                               54,\n                               55,\n                               56,\n                               57,\n                               58,\n                               59,\n                               60,\n                               61,\n                               62,\n                               63]],\n                     'description': '0-indexed channel within a group.',\n                     'name': 'group_electrode_number'},\n                    {'data': ['F1-01',\n                              'F1-02',\n                              'F1-03',\n                              'F1-04',\n                              'F1-05',\n                              'F1-06',\n                              'F1-07',\n                              'F1-08',\n                              'F1-09',\n                              'F1-10',\n                              'F1-11',\n                              'F1-12',\n                              'F1-13',\n                              'F1-14',\n                              'F1-15',\n                              'F1-16',\n                              'F1-17',\n                              'F1-18',\n                              'F1-19',\n                              'F1-20',\n                              'F1-21',\n                              'F1-22',\n                              'F1-23',\n                              'F1-24',\n                              'F1-25',\n                              'F1-26',\n                              'F1-27',\n                              'F1-28',\n                              'F1-29',\n                              'F1-30',\n                              'F1-31',\n                              'F1-32',\n                              'F5(HAND)-01',\n                              'F5(HAND)-02',\n                              'F5(HAND)-03',\n                              'F5(HAND)-04',\n                              'F5(HAND)-05',\n                              'F5(HAND)-06',\n                              'F5(HAND)-07',\n                              'F5(HAND)-08',\n                              'F5(hand)-09',\n                              'F5(HAND)-10',\n                              'F5(HAND)-11',\n                              'F5(HAND)-12',\n                              'F5(HAND)-13',\n                              'F5(HAND)-14',\n                              'F5(HAND)-15',\n                              'F5(HAND)-16',\n                              'F5(HAND)-17',\n                              'F5(HAND)-18',\n                              'F5(HAND)-19',\n                              'F5(HAND)-20',\n                              'F5(HAND)-21',\n                              'F5(HAND)-22',\n                              'F5(HAND)-23',\n                              'F5(HAND)-24',\n                              'F5(HAND)-25',\n                              'F5(HAND)-26',\n                              'F5(HAND)-27',\n                              'F5(HAND)-28',\n                              'F5(HAND)-29',\n                              'F5(HAND)-30',\n                              'F5(HAND)-31',\n                              'F5(HAND)-32',\n                              'F5(MOUTH)-01',\n                              'F5(MOUTH)-02',\n                              'F5(MOUTH)-03',\n                              'F5(MOUTH)-04',\n                              'F5(MOUTH)-05',\n                              'F5(MOUTH)-06',\n                              'F5(MOUTH)-07',\n                              'F5(MOUTH)-08',\n                              'F5(MOUTH)-09',\n                              'F5(MOUTH)-10',\n                              'F5(MOUTH)-11',\n                              'F5(MOUTH)-12',\n                              'F5(MOUTH)-13',\n                              'F5(MOUTH)-14',\n                              'F5(MOUTH)-15',\n                              'F5(MOUTH)-16',\n                              'F5(MOUTH)-17',\n                              'F5(MOUTH)-18',\n                              'F5(MOUTH)-19',\n                              'F5(MOUTH)-20',\n                              'F5(MOUTH)-21',\n                              'F5(MOUTH)-22',\n                              'F5(MOUTH)-23',\n                              'F5(MOUTH)-24',\n                              'F5(MOUTH)-25',\n                              'F5(MOUTH)-26',\n                              'F5(MOUTH)-27',\n                              'F5(MOUTH)-28',\n                              'F5(MOUTH)-29',\n                              'F5(MOUTH)-30',\n                              'F5(MOUTH)-31',\n                              'F5(MOUTH)-32',\n                              '46v/12r-01',\n                              '46v/12r-02',\n                              '46v/12r-03',\n                              '46v/12r-04',\n                              '46v/12r-05',\n                              '46v/12r-06',\n                              '46v/12r-07',\n                              '46v/12r-08',\n                              '46v/12r-09',\n                              '46v/12r-10',\n                              '46v/12r-11',\n                              '46v/12r-12',\n                              '46v/12r-13',\n                              '46v/12r-14',\n                              '46v/12r-15',\n                              '46v/12r-16',\n                              '46v/12r-17',\n                              '46v/12r-18',\n                              '46v/12r-19',\n                              '46v/12r-20',\n                              '46v/12r-21',\n                              '46v/12r-22',\n                              '46v/12r-23',\n                              '46v/12r-24',\n                              '46v/12r-25',\n                              '46v/12r-26',\n                              '46v/12r-27',\n                              '46v/12r-28',\n                              '46v/12r-29',\n                              '46v/12r-30',\n                              '46v/12r-31',\n                              '46v/12r-32',\n                              '45A-01',\n                              '45A-02',\n                              '45A-03',\n                              '45A-04',\n                              '45A-05',\n                              '45A-06',\n                              '45A-07',\n                              '45A-08',\n                              '45A-09',\n                              '45A-10',\n                              '45A-11',\n                              '45A-12',\n                              '45A-13',\n                              '45A-14',\n                              '45A-15',\n                              '45A-16',\n                              '45A-17',\n                              '45A-18',\n                              '45A-19',\n                              '45A-20',\n                              '45A-21',\n                              '45A-22',\n                              '45A-23',\n                              '45A-24',\n                              '45A-25',\n                              '45A-26',\n                              '45A-27',\n                              '45A-28',\n                              '45A-29',\n                              '45A-30',\n                              '45A-31',\n                              '45A-32',\n                              'F2-01',\n                              'F2-02',\n                              'F2-03',\n                              'F2-04',\n                              'F2-05',\n                              'F2-06',\n                              'F2-07',\n                              'F2-08',\n                              'F2-09',\n                              'F2-10',\n                              'F2-11',\n                              'F2-12',\n                              'F2-13',\n                              'F2-14',\n                              'F2-15',\n                              'F2-16',\n                              'F2-17',\n                              'F2-18',\n                              'F2-19',\n                              'F2-20',\n                              'F2-21',\n                              'F2-22',\n                              'F2-23',\n                              'F2-24',\n                              'F2-25',\n                              'F2-26',\n                              'F2-27',\n                              'F2-28',\n                              'F2-29',\n                              'F2-30',\n                              'F2-31',\n                              'F2-32'],\n                     'description': 'Custom channel name assigned in '\n                                    'Intan.',\n                     'name': 'custom_channel_name'}]}"
     ]
    }
   ],
   "source": [
    "# Validate metadata against metadata_schema\n",
    "\n",
    "validate(\n",
    "    instance=intan_converter.get_metadata(),\n",
    "    schema=intan_converter.get_metadata_schema()\n",
    ")"
   ]
  },
  {
   "cell_type": "code",
   "execution_count": null,
   "id": "d6dd7583",
   "metadata": {},
   "outputs": [],
   "source": []
  },
  {
   "cell_type": "code",
   "execution_count": null,
   "id": "7082643f",
   "metadata": {},
   "outputs": [],
   "source": []
  },
  {
   "cell_type": "code",
   "execution_count": null,
   "id": "d146cc04",
   "metadata": {},
   "outputs": [],
   "source": []
  },
  {
   "cell_type": "code",
   "execution_count": null,
   "id": "fe15a05a",
   "metadata": {},
   "outputs": [],
   "source": []
  }
 ],
 "metadata": {
  "kernelspec": {
   "display_name": "Python3 (hussaini-test-pipeline)",
   "language": "python",
   "name": "hussaini-test-pipeline"
  },
  "language_info": {
   "codemirror_mode": {
    "name": "ipython",
    "version": 3
   },
   "file_extension": ".py",
   "mimetype": "text/x-python",
   "name": "python",
   "nbconvert_exporter": "python",
   "pygments_lexer": "ipython3",
   "version": "3.8.5"
  }
 },
 "nbformat": 4,
 "nbformat_minor": 5
}
