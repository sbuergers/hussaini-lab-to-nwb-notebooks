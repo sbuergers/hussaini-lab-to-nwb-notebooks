{
 "cells": [
  {
   "cell_type": "markdown",
   "metadata": {},
   "source": [
    "Adapted from https://github.com/catalystneuro/movshon-lab-to-nwb/blob/main/tutorials/blackrock_nwb_conversion_detailed.ipynb"
   ]
  },
  {
   "cell_type": "code",
   "execution_count": 2,
   "metadata": {},
   "outputs": [
    {
     "name": "stdout",
     "output_type": "stream",
     "text": [
      "The autoreload extension is already loaded. To reload it, use:\n",
      "  %reload_ext autoreload\n"
     ]
    }
   ],
   "source": [
    "%load_ext autoreload\n",
    "%autoreload 2\n",
    "%config Completer.use_jedi = False"
   ]
  },
  {
   "cell_type": "code",
   "execution_count": null,
   "metadata": {},
   "outputs": [],
   "source": []
  },
  {
   "cell_type": "code",
   "execution_count": 10,
   "metadata": {},
   "outputs": [
    {
     "name": "stdout",
     "output_type": "stream",
     "text": [
      "total 76\r\n",
      "-rwxrwxrwx 1 steburg steburg    69 Apr  5 11:28 __init__.py\r\n",
      "-rwxrwxrwx 1 steburg steburg  1404 Apr  5 11:28 auto_qc.py\r\n",
      "-rwxrwxrwx 1 steburg steburg  1338 Apr  5 11:28 basedatainterface.py\r\n",
      "-rwxrwxrwx 1 steburg steburg  2134 Apr  5 11:28 baseimagingextractorinterface.py\r\n",
      "-rwxrwxrwx 1 steburg steburg  2775 Apr  5 11:28 baselfpextractorinterface.py\r\n",
      "-rwxrwxrwx 1 steburg steburg  4629 Apr  5 11:28 baserecordingextractorinterface.py\r\n",
      "-rwxrwxrwx 1 steburg steburg  2363 Apr  5 11:28 basesegmentationextractorinterface.py\r\n",
      "-rwxrwxrwx 1 steburg steburg  3829 Apr  5 11:28 basesortingextractorinterface.py\r\n",
      "-rwxrwxrwx 1 steburg steburg  4312 Apr  5 11:28 conversion_tools.py\r\n",
      "drwxrwxrwx 1 steburg steburg  4096 Apr  5 11:28 datainterfaces\r\n",
      "-rwxrwxrwx 1 steburg steburg  5100 Apr  5 11:28 json_schema_utils.py\r\n",
      "-rwxrwxrwx 1 steburg steburg 10154 Apr  5 11:28 metafile.schema.json\r\n",
      "-rwxrwxrwx 1 steburg steburg  6665 Apr  5 11:28 nwbconverter.py\r\n",
      "drwxrwxrwx 1 steburg steburg  4096 Apr  5 11:28 schemas\r\n",
      "-rwxrwxrwx 1 steburg steburg  7355 Apr  5 11:28 utils.py\r\n"
     ]
    }
   ],
   "source": [
    "!ls ../nwb-conversion-tools/nwb_conversion_tools -l"
   ]
  },
  {
   "cell_type": "code",
   "execution_count": 18,
   "metadata": {},
   "outputs": [],
   "source": [
    "# Import modules\n",
    "\n",
    "import random\n",
    "import string\n",
    "import pytz\n",
    "from typing import Union, Optional\n",
    "from pathlib import Path\n",
    "import spikeextractors as se\n",
    "from pynwb import NWBFile\n",
    "\n",
    "from nwb_conversion_tools.baserecordingextractorinterface import BaseRecordingExtractorInterface\n",
    "from nwb_conversion_tools.basesortingextractorinterface import BaseSortingExtractorInterface\n",
    "from nwb_conversion_tools.json_schema_utils import get_schema_from_method_signature\n",
    "from nwb_conversion_tools.datainterfaces.interface_utils.brpylib import NsxFile"
   ]
  },
  {
   "cell_type": "code",
   "execution_count": 21,
   "metadata": {},
   "outputs": [
    {
     "name": "stdout",
     "output_type": "stream",
     "text": [
      "typing.Union[str, pathlib.Path, NoneType]\n"
     ]
    }
   ],
   "source": [
    "PathType = Union[str, Path, None]\n",
    "print(PathType)"
   ]
  },
  {
   "cell_type": "code",
   "execution_count": 27,
   "metadata": {},
   "outputs": [],
   "source": [
    "get_schema_from_method_signature?"
   ]
  },
  {
   "cell_type": "code",
   "execution_count": 22,
   "metadata": {},
   "outputs": [],
   "source": [
    "RX = se.AxonaRecordingExtractor"
   ]
  },
  {
   "cell_type": "code",
   "execution_count": 23,
   "metadata": {},
   "outputs": [
    {
     "data": {
      "text/plain": [
       "spikeextractors.extractors.neoextractors.axonaextractor.AxonaRecordingExtractor"
      ]
     },
     "execution_count": 23,
     "metadata": {},
     "output_type": "execute_result"
    }
   ],
   "source": [
    "RX"
   ]
  },
  {
   "cell_type": "code",
   "execution_count": 41,
   "metadata": {},
   "outputs": [],
   "source": [
    "import inspect"
   ]
  },
  {
   "cell_type": "code",
   "execution_count": 42,
   "metadata": {},
   "outputs": [
    {
     "data": {
      "text/plain": [
       "mappingproxy({'self': <Parameter \"self\">,\n",
       "              'block_index': <Parameter \"block_index=None\">,\n",
       "              'seg_index': <Parameter \"seg_index=None\">,\n",
       "              'kargs': <Parameter \"**kargs\">})"
      ]
     },
     "execution_count": 42,
     "metadata": {},
     "output_type": "execute_result"
    }
   ],
   "source": [
    "inspect.signature(RX.__init__).parameters"
   ]
  },
  {
   "cell_type": "code",
   "execution_count": 48,
   "metadata": {},
   "outputs": [
    {
     "name": "stdout",
     "output_type": "stream",
     "text": [
      "odict_keys(['self', 'block_index', 'seg_index', 'kargs'])\n"
     ]
    }
   ],
   "source": [
    "keys = inspect.signature(RX.__init__).parameters.keys()\n",
    "print(keys)"
   ]
  },
  {
   "cell_type": "code",
   "execution_count": 50,
   "metadata": {},
   "outputs": [
    {
     "data": {
      "text/plain": [
       "inspect._empty"
      ]
     },
     "execution_count": 50,
     "metadata": {},
     "output_type": "execute_result"
    }
   ],
   "source": [
    "inspect.signature(RX.__init__).parameters['block_index'].annotation"
   ]
  },
  {
   "cell_type": "code",
   "execution_count": 43,
   "metadata": {},
   "outputs": [
    {
     "ename": "ValueError",
     "evalue": "No valid arguments were found in the json type mapping!",
     "output_type": "error",
     "traceback": [
      "\u001b[0;31m---------------------------------------------------------------------------\u001b[0m",
      "\u001b[0;31mValueError\u001b[0m                                Traceback (most recent call last)",
      "\u001b[0;32m<ipython-input-43-22a182472205>\u001b[0m in \u001b[0;36m<module>\u001b[0;34m\u001b[0m\n\u001b[0;32m----> 1\u001b[0;31m get_schema_from_method_signature(\n\u001b[0m\u001b[1;32m      2\u001b[0m     \u001b[0mclass_method\u001b[0m\u001b[0;34m=\u001b[0m\u001b[0mRX\u001b[0m\u001b[0;34m.\u001b[0m\u001b[0m__init__\u001b[0m\u001b[0;34m,\u001b[0m\u001b[0;34m\u001b[0m\u001b[0;34m\u001b[0m\u001b[0m\n\u001b[1;32m      3\u001b[0m     \u001b[0mexclude\u001b[0m\u001b[0;34m=\u001b[0m\u001b[0;32mNone\u001b[0m\u001b[0;34m\u001b[0m\u001b[0;34m\u001b[0m\u001b[0m\n\u001b[1;32m      4\u001b[0m )\n",
      "\u001b[0;32m/mnt/d/spikeinterface/hussaini-to-nwb/venv/lib/python3.8/site-packages/nwb_conversion_tools/json_schema_utils.py\u001b[0m in \u001b[0;36mget_schema_from_method_signature\u001b[0;34m(class_method, exclude)\u001b[0m\n\u001b[1;32m     88\u001b[0m                         \u001b[0mparam_type\u001b[0m \u001b[0;34m=\u001b[0m \u001b[0mannotation_json_type_map\u001b[0m\u001b[0;34m[\u001b[0m\u001b[0marg\u001b[0m\u001b[0;34m]\u001b[0m\u001b[0;34m\u001b[0m\u001b[0;34m\u001b[0m\u001b[0m\n\u001b[1;32m     89\u001b[0m                     \u001b[0;32melse\u001b[0m\u001b[0;34m:\u001b[0m\u001b[0;34m\u001b[0m\u001b[0;34m\u001b[0m\u001b[0m\n\u001b[0;32m---> 90\u001b[0;31m                         \u001b[0;32mraise\u001b[0m \u001b[0mValueError\u001b[0m\u001b[0;34m(\u001b[0m\u001b[0;34m\"No valid arguments were found in the json type mapping!\"\u001b[0m\u001b[0;34m)\u001b[0m\u001b[0;34m\u001b[0m\u001b[0;34m\u001b[0m\u001b[0m\n\u001b[0m\u001b[1;32m     91\u001b[0m             \u001b[0;32melse\u001b[0m\u001b[0;34m:\u001b[0m\u001b[0;34m\u001b[0m\u001b[0;34m\u001b[0m\u001b[0m\n\u001b[1;32m     92\u001b[0m                 raise NotImplementedError(f\"The annotation type of '{param}' in function '{class_method}' \"\n",
      "\u001b[0;31mValueError\u001b[0m: No valid arguments were found in the json type mapping!"
     ]
    }
   ],
   "source": [
    "get_schema_from_method_signature(\n",
    "    class_method=RX.__init__,\n",
    "    exclude=None\n",
    ")"
   ]
  },
  {
   "cell_type": "code",
   "execution_count": 40,
   "metadata": {},
   "outputs": [
    {
     "ename": "ValueError",
     "evalue": "No valid arguments were found in the json type mapping!",
     "output_type": "error",
     "traceback": [
      "\u001b[0;31m---------------------------------------------------------------------------\u001b[0m",
      "\u001b[0;31mValueError\u001b[0m                                Traceback (most recent call last)",
      "\u001b[0;32m<ipython-input-40-60b07299c489>\u001b[0m in \u001b[0;36m<module>\u001b[0;34m\u001b[0m\n\u001b[0;32m----> 1\u001b[0;31m metadata_schema = get_schema_from_method_signature(\n\u001b[0m\u001b[1;32m      2\u001b[0m         \u001b[0mclass_method\u001b[0m\u001b[0;34m=\u001b[0m\u001b[0mRX\u001b[0m\u001b[0;34m.\u001b[0m\u001b[0m__init__\u001b[0m\u001b[0;34m,\u001b[0m\u001b[0;34m\u001b[0m\u001b[0;34m\u001b[0m\u001b[0m\n\u001b[1;32m      3\u001b[0m         \u001b[0mexclude\u001b[0m\u001b[0;34m=\u001b[0m\u001b[0;32mNone\u001b[0m\u001b[0;34m\u001b[0m\u001b[0;34m\u001b[0m\u001b[0m\n\u001b[1;32m      4\u001b[0m     )\n",
      "\u001b[0;32m/mnt/d/spikeinterface/hussaini-to-nwb/venv/lib/python3.8/site-packages/nwb_conversion_tools/json_schema_utils.py\u001b[0m in \u001b[0;36mget_schema_from_method_signature\u001b[0;34m(class_method, exclude)\u001b[0m\n\u001b[1;32m     88\u001b[0m                         \u001b[0mparam_type\u001b[0m \u001b[0;34m=\u001b[0m \u001b[0mannotation_json_type_map\u001b[0m\u001b[0;34m[\u001b[0m\u001b[0marg\u001b[0m\u001b[0;34m]\u001b[0m\u001b[0;34m\u001b[0m\u001b[0;34m\u001b[0m\u001b[0m\n\u001b[1;32m     89\u001b[0m                     \u001b[0;32melse\u001b[0m\u001b[0;34m:\u001b[0m\u001b[0;34m\u001b[0m\u001b[0;34m\u001b[0m\u001b[0m\n\u001b[0;32m---> 90\u001b[0;31m                         \u001b[0;32mraise\u001b[0m \u001b[0mValueError\u001b[0m\u001b[0;34m(\u001b[0m\u001b[0;34m\"No valid arguments were found in the json type mapping!\"\u001b[0m\u001b[0;34m)\u001b[0m\u001b[0;34m\u001b[0m\u001b[0;34m\u001b[0m\u001b[0m\n\u001b[0m\u001b[1;32m     91\u001b[0m             \u001b[0;32melse\u001b[0m\u001b[0;34m:\u001b[0m\u001b[0;34m\u001b[0m\u001b[0;34m\u001b[0m\u001b[0m\n\u001b[1;32m     92\u001b[0m                 raise NotImplementedError(f\"The annotation type of '{param}' in function '{class_method}' \"\n",
      "\u001b[0;31mValueError\u001b[0m: No valid arguments were found in the json type mapping!"
     ]
    }
   ],
   "source": [
    "metadata_schema = get_schema_from_method_signature(\n",
    "        class_method=RX.__init__,\n",
    "        exclude=['block_index', 'seg_index']\n",
    "    )"
   ]
  },
  {
   "cell_type": "code",
   "execution_count": 34,
   "metadata": {},
   "outputs": [
    {
     "data": {
      "text/plain": [
       "spikeextractors.extractors.neoextractors.axonaextractor.AxonaRecordingExtractor"
      ]
     },
     "execution_count": 34,
     "metadata": {},
     "output_type": "execute_result"
    }
   ],
   "source": [
    "RX."
   ]
  },
  {
   "cell_type": "code",
   "execution_count": 68,
   "metadata": {},
   "outputs": [],
   "source": [
    "class AxonaRecordingExtractorInterface(BaseRecordingExtractorInterface):\n",
    "    \"\"\"Primary data interface class for converting a AxonaRecordingExtractor.\"\"\"\n",
    "\n",
    "    RX = se.AxonaRecordingExtractor\n",
    "\n",
    "    @classmethod\n",
    "    def get_source_schema(cls):\n",
    "        \"\"\"Compile input schema for the RecordingExtractor.\"\"\"\n",
    "        metadata_schema = get_schema_from_method_signature(\n",
    "            class_method=cls.RX.__init__,\n",
    "            exclude=['block_index', 'seg_index']\n",
    "        )\n",
    "        metadata_schema['additionalProperties'] = True\n",
    "        metadata_schema['properties']['filename']['format'] = 'file'\n",
    "        metadata_schema['properties']['filename']['description'] = 'Path to Axona files.'\n",
    "        return metadata_schema\n",
    "    \n",
    "    def __init__(self, filename: PathType, nsx_to_load: Optional[int] = None):\n",
    "        super().__init__(filename=filename, nsx_to_load=nsx_to_load)"
   ]
  },
  {
   "cell_type": "code",
   "execution_count": 69,
   "metadata": {},
   "outputs": [
    {
     "ename": "TypeError",
     "evalue": "__init__() got an unexpected keyword argument 'nsx_to_load'",
     "output_type": "error",
     "traceback": [
      "\u001b[0;31m---------------------------------------------------------------------------\u001b[0m",
      "\u001b[0;31mTypeError\u001b[0m                                 Traceback (most recent call last)",
      "\u001b[0;32m<ipython-input-69-3cab6cf24889>\u001b[0m in \u001b[0;36m<module>\u001b[0;34m\u001b[0m\n\u001b[0;32m----> 1\u001b[0;31m \u001b[0mRXI\u001b[0m \u001b[0;34m=\u001b[0m \u001b[0mAxonaRecordingExtractorInterface\u001b[0m\u001b[0;34m(\u001b[0m\u001b[0mfilename\u001b[0m\u001b[0;34m=\u001b[0m\u001b[0;34m'axona_raw_5s'\u001b[0m\u001b[0;34m)\u001b[0m\u001b[0;34m\u001b[0m\u001b[0;34m\u001b[0m\u001b[0m\n\u001b[0m",
      "\u001b[0;32m<ipython-input-68-f12c4cbf778b>\u001b[0m in \u001b[0;36m__init__\u001b[0;34m(self, filename, nsx_to_load)\u001b[0m\n\u001b[1;32m     17\u001b[0m \u001b[0;34m\u001b[0m\u001b[0m\n\u001b[1;32m     18\u001b[0m     \u001b[0;32mdef\u001b[0m \u001b[0m__init__\u001b[0m\u001b[0;34m(\u001b[0m\u001b[0mself\u001b[0m\u001b[0;34m,\u001b[0m \u001b[0mfilename\u001b[0m\u001b[0;34m:\u001b[0m \u001b[0mPathType\u001b[0m\u001b[0;34m,\u001b[0m \u001b[0mnsx_to_load\u001b[0m\u001b[0;34m:\u001b[0m \u001b[0mOptional\u001b[0m\u001b[0;34m[\u001b[0m\u001b[0mint\u001b[0m\u001b[0;34m]\u001b[0m \u001b[0;34m=\u001b[0m \u001b[0;32mNone\u001b[0m\u001b[0;34m)\u001b[0m\u001b[0;34m:\u001b[0m\u001b[0;34m\u001b[0m\u001b[0;34m\u001b[0m\u001b[0m\n\u001b[0;32m---> 19\u001b[0;31m         \u001b[0msuper\u001b[0m\u001b[0;34m(\u001b[0m\u001b[0;34m)\u001b[0m\u001b[0;34m.\u001b[0m\u001b[0m__init__\u001b[0m\u001b[0;34m(\u001b[0m\u001b[0mfilename\u001b[0m\u001b[0;34m=\u001b[0m\u001b[0mfilename\u001b[0m\u001b[0;34m,\u001b[0m \u001b[0mnsx_to_load\u001b[0m\u001b[0;34m=\u001b[0m\u001b[0mnsx_to_load\u001b[0m\u001b[0;34m)\u001b[0m\u001b[0;34m\u001b[0m\u001b[0;34m\u001b[0m\u001b[0m\n\u001b[0m",
      "\u001b[0;32m/mnt/d/spikeinterface/hussaini-to-nwb/venv/lib/python3.8/site-packages/nwb_conversion_tools/baserecordingextractorinterface.py\u001b[0m in \u001b[0;36m__init__\u001b[0;34m(self, **source_data)\u001b[0m\n\u001b[1;32m     28\u001b[0m     \u001b[0;32mdef\u001b[0m \u001b[0m__init__\u001b[0m\u001b[0;34m(\u001b[0m\u001b[0mself\u001b[0m\u001b[0;34m,\u001b[0m \u001b[0;34m**\u001b[0m\u001b[0msource_data\u001b[0m\u001b[0;34m)\u001b[0m\u001b[0;34m:\u001b[0m\u001b[0;34m\u001b[0m\u001b[0;34m\u001b[0m\u001b[0m\n\u001b[1;32m     29\u001b[0m         \u001b[0msuper\u001b[0m\u001b[0;34m(\u001b[0m\u001b[0;34m)\u001b[0m\u001b[0;34m.\u001b[0m\u001b[0m__init__\u001b[0m\u001b[0;34m(\u001b[0m\u001b[0;34m**\u001b[0m\u001b[0msource_data\u001b[0m\u001b[0;34m)\u001b[0m\u001b[0;34m\u001b[0m\u001b[0;34m\u001b[0m\u001b[0m\n\u001b[0;32m---> 30\u001b[0;31m         \u001b[0mself\u001b[0m\u001b[0;34m.\u001b[0m\u001b[0mrecording_extractor\u001b[0m \u001b[0;34m=\u001b[0m \u001b[0mself\u001b[0m\u001b[0;34m.\u001b[0m\u001b[0mRX\u001b[0m\u001b[0;34m(\u001b[0m\u001b[0;34m**\u001b[0m\u001b[0msource_data\u001b[0m\u001b[0;34m)\u001b[0m\u001b[0;34m\u001b[0m\u001b[0;34m\u001b[0m\u001b[0m\n\u001b[0m\u001b[1;32m     31\u001b[0m         \u001b[0mself\u001b[0m\u001b[0;34m.\u001b[0m\u001b[0msubset_channels\u001b[0m \u001b[0;34m=\u001b[0m \u001b[0;32mNone\u001b[0m\u001b[0;34m\u001b[0m\u001b[0;34m\u001b[0m\u001b[0m\n\u001b[1;32m     32\u001b[0m         \u001b[0mself\u001b[0m\u001b[0;34m.\u001b[0m\u001b[0msource_data\u001b[0m \u001b[0;34m=\u001b[0m \u001b[0msource_data\u001b[0m\u001b[0;34m\u001b[0m\u001b[0;34m\u001b[0m\u001b[0m\n",
      "\u001b[0;32m/mnt/d/spikeinterface/spikeextractors/spikeextractors/extractors/neoextractors/neobaseextractor.py\u001b[0m in \u001b[0;36m__init__\u001b[0;34m(self, block_index, seg_index, **kargs)\u001b[0m\n\u001b[1;32m     56\u001b[0m     \u001b[0;32mdef\u001b[0m \u001b[0m__init__\u001b[0m\u001b[0;34m(\u001b[0m\u001b[0mself\u001b[0m\u001b[0;34m,\u001b[0m \u001b[0mblock_index\u001b[0m\u001b[0;34m=\u001b[0m\u001b[0;32mNone\u001b[0m\u001b[0;34m,\u001b[0m \u001b[0mseg_index\u001b[0m\u001b[0;34m=\u001b[0m\u001b[0;32mNone\u001b[0m\u001b[0;34m,\u001b[0m \u001b[0;34m**\u001b[0m\u001b[0mkargs\u001b[0m\u001b[0;34m)\u001b[0m\u001b[0;34m:\u001b[0m\u001b[0;34m\u001b[0m\u001b[0;34m\u001b[0m\u001b[0m\n\u001b[1;32m     57\u001b[0m         \u001b[0mRecordingExtractor\u001b[0m\u001b[0;34m.\u001b[0m\u001b[0m__init__\u001b[0m\u001b[0;34m(\u001b[0m\u001b[0mself\u001b[0m\u001b[0;34m)\u001b[0m\u001b[0;34m\u001b[0m\u001b[0;34m\u001b[0m\u001b[0m\n\u001b[0;32m---> 58\u001b[0;31m         \u001b[0m_NeoBaseExtractor\u001b[0m\u001b[0;34m.\u001b[0m\u001b[0m__init__\u001b[0m\u001b[0;34m(\u001b[0m\u001b[0mself\u001b[0m\u001b[0;34m,\u001b[0m \u001b[0mblock_index\u001b[0m\u001b[0;34m=\u001b[0m\u001b[0mblock_index\u001b[0m\u001b[0;34m,\u001b[0m \u001b[0mseg_index\u001b[0m\u001b[0;34m=\u001b[0m\u001b[0mseg_index\u001b[0m\u001b[0;34m,\u001b[0m \u001b[0;34m**\u001b[0m\u001b[0mkargs\u001b[0m\u001b[0;34m)\u001b[0m\u001b[0;34m\u001b[0m\u001b[0;34m\u001b[0m\u001b[0m\n\u001b[0m\u001b[1;32m     59\u001b[0m \u001b[0;34m\u001b[0m\u001b[0m\n\u001b[1;32m     60\u001b[0m         \u001b[0;32mif\u001b[0m \u001b[0mhasattr\u001b[0m\u001b[0;34m(\u001b[0m\u001b[0mself\u001b[0m\u001b[0;34m.\u001b[0m\u001b[0mneo_reader\u001b[0m\u001b[0;34m,\u001b[0m \u001b[0;34m'get_group_signal_channel_indexes'\u001b[0m\u001b[0;34m)\u001b[0m\u001b[0;34m:\u001b[0m\u001b[0;34m\u001b[0m\u001b[0;34m\u001b[0m\u001b[0m\n",
      "\u001b[0;32m/mnt/d/spikeinterface/spikeextractors/spikeextractors/extractors/neoextractors/neobaseextractor.py\u001b[0m in \u001b[0;36m__init__\u001b[0;34m(self, block_index, seg_index, **kargs)\u001b[0m\n\u001b[1;32m     31\u001b[0m         \u001b[0mneoIOclass\u001b[0m \u001b[0;34m=\u001b[0m \u001b[0meval\u001b[0m\u001b[0;34m(\u001b[0m\u001b[0;34m'neo.rawio.'\u001b[0m \u001b[0;34m+\u001b[0m \u001b[0mself\u001b[0m\u001b[0;34m.\u001b[0m\u001b[0mNeoRawIOClass\u001b[0m\u001b[0;34m)\u001b[0m\u001b[0;34m\u001b[0m\u001b[0;34m\u001b[0m\u001b[0m\n\u001b[1;32m     32\u001b[0m \u001b[0;34m\u001b[0m\u001b[0m\n\u001b[0;32m---> 33\u001b[0;31m         \u001b[0mself\u001b[0m\u001b[0;34m.\u001b[0m\u001b[0mneo_reader\u001b[0m \u001b[0;34m=\u001b[0m \u001b[0mneoIOclass\u001b[0m\u001b[0;34m(\u001b[0m\u001b[0;34m**\u001b[0m\u001b[0mkargs\u001b[0m\u001b[0;34m)\u001b[0m\u001b[0;34m\u001b[0m\u001b[0;34m\u001b[0m\u001b[0m\n\u001b[0m\u001b[1;32m     34\u001b[0m         \u001b[0mself\u001b[0m\u001b[0;34m.\u001b[0m\u001b[0mneo_reader\u001b[0m\u001b[0;34m.\u001b[0m\u001b[0mparse_header\u001b[0m\u001b[0;34m(\u001b[0m\u001b[0;34m)\u001b[0m\u001b[0;34m\u001b[0m\u001b[0;34m\u001b[0m\u001b[0m\n\u001b[1;32m     35\u001b[0m \u001b[0;34m\u001b[0m\u001b[0m\n",
      "\u001b[0;31mTypeError\u001b[0m: __init__() got an unexpected keyword argument 'nsx_to_load'"
     ]
    }
   ],
   "source": [
    "RXI = AxonaRecordingExtractorInterface(filename='axona_raw_5s')"
   ]
  },
  {
   "cell_type": "code",
   "execution_count": 58,
   "metadata": {},
   "outputs": [
    {
     "ename": "ValueError",
     "evalue": "No valid arguments were found in the json type mapping!",
     "output_type": "error",
     "traceback": [
      "\u001b[0;31m---------------------------------------------------------------------------\u001b[0m",
      "\u001b[0;31mValueError\u001b[0m                                Traceback (most recent call last)",
      "\u001b[0;32m<ipython-input-58-79e043f92e8e>\u001b[0m in \u001b[0;36m<module>\u001b[0;34m\u001b[0m\n\u001b[0;32m----> 1\u001b[0;31m \u001b[0mRXI\u001b[0m\u001b[0;34m.\u001b[0m\u001b[0mget_source_schema\u001b[0m\u001b[0;34m(\u001b[0m\u001b[0;34m)\u001b[0m\u001b[0;34m\u001b[0m\u001b[0;34m\u001b[0m\u001b[0m\n\u001b[0m",
      "\u001b[0;32m<ipython-input-56-f12c4cbf778b>\u001b[0m in \u001b[0;36mget_source_schema\u001b[0;34m(cls)\u001b[0m\n\u001b[1;32m      7\u001b[0m     \u001b[0;32mdef\u001b[0m \u001b[0mget_source_schema\u001b[0m\u001b[0;34m(\u001b[0m\u001b[0mcls\u001b[0m\u001b[0;34m)\u001b[0m\u001b[0;34m:\u001b[0m\u001b[0;34m\u001b[0m\u001b[0;34m\u001b[0m\u001b[0m\n\u001b[1;32m      8\u001b[0m         \u001b[0;34m\"\"\"Compile input schema for the RecordingExtractor.\"\"\"\u001b[0m\u001b[0;34m\u001b[0m\u001b[0;34m\u001b[0m\u001b[0m\n\u001b[0;32m----> 9\u001b[0;31m         metadata_schema = get_schema_from_method_signature(\n\u001b[0m\u001b[1;32m     10\u001b[0m             \u001b[0mclass_method\u001b[0m\u001b[0;34m=\u001b[0m\u001b[0mcls\u001b[0m\u001b[0;34m.\u001b[0m\u001b[0mRX\u001b[0m\u001b[0;34m.\u001b[0m\u001b[0m__init__\u001b[0m\u001b[0;34m,\u001b[0m\u001b[0;34m\u001b[0m\u001b[0;34m\u001b[0m\u001b[0m\n\u001b[1;32m     11\u001b[0m             \u001b[0mexclude\u001b[0m\u001b[0;34m=\u001b[0m\u001b[0;34m[\u001b[0m\u001b[0;34m'block_index'\u001b[0m\u001b[0;34m,\u001b[0m \u001b[0;34m'seg_index'\u001b[0m\u001b[0;34m]\u001b[0m\u001b[0;34m\u001b[0m\u001b[0;34m\u001b[0m\u001b[0m\n",
      "\u001b[0;32m/mnt/d/spikeinterface/hussaini-to-nwb/venv/lib/python3.8/site-packages/nwb_conversion_tools/json_schema_utils.py\u001b[0m in \u001b[0;36mget_schema_from_method_signature\u001b[0;34m(class_method, exclude)\u001b[0m\n\u001b[1;32m     88\u001b[0m                         \u001b[0mparam_type\u001b[0m \u001b[0;34m=\u001b[0m \u001b[0mannotation_json_type_map\u001b[0m\u001b[0;34m[\u001b[0m\u001b[0marg\u001b[0m\u001b[0;34m]\u001b[0m\u001b[0;34m\u001b[0m\u001b[0;34m\u001b[0m\u001b[0m\n\u001b[1;32m     89\u001b[0m                     \u001b[0;32melse\u001b[0m\u001b[0;34m:\u001b[0m\u001b[0;34m\u001b[0m\u001b[0;34m\u001b[0m\u001b[0m\n\u001b[0;32m---> 90\u001b[0;31m                         \u001b[0;32mraise\u001b[0m \u001b[0mValueError\u001b[0m\u001b[0;34m(\u001b[0m\u001b[0;34m\"No valid arguments were found in the json type mapping!\"\u001b[0m\u001b[0;34m)\u001b[0m\u001b[0;34m\u001b[0m\u001b[0;34m\u001b[0m\u001b[0m\n\u001b[0m\u001b[1;32m     91\u001b[0m             \u001b[0;32melse\u001b[0m\u001b[0;34m:\u001b[0m\u001b[0;34m\u001b[0m\u001b[0;34m\u001b[0m\u001b[0m\n\u001b[1;32m     92\u001b[0m                 raise NotImplementedError(f\"The annotation type of '{param}' in function '{class_method}' \"\n",
      "\u001b[0;31mValueError\u001b[0m: No valid arguments were found in the json type mapping!"
     ]
    }
   ],
   "source": [
    "RXI.get_source_schema()"
   ]
  },
  {
   "cell_type": "code",
   "execution_count": null,
   "metadata": {},
   "outputs": [],
   "source": [
    "\"\"\"Authors: Luiz Tauffer\"\"\"\n",
    "import random\n",
    "import string\n",
    "import pytz\n",
    "from typing import Union, Optional\n",
    "from pathlib import Path\n",
    "import spikeextractors as se\n",
    "from pynwb import NWBFile\n",
    "\n",
    "from nwb_conversion_tools.baserecordingextractorinterface import BaseRecordingExtractorInterface\n",
    "from nwb_conversion_tools.basesortingextractorinterface import BaseSortingExtractorInterface\n",
    "from ..json_schema_utils import get_schema_from_method_signature\n",
    "from .interface_utils.brpylib import NsxFile\n",
    "\n",
    "PathType = Union[str, Path, None]\n",
    "\n",
    "\n",
    "class BlackrockRecordingExtractorInterface(BaseRecordingExtractorInterface):\n",
    "    \"\"\"Primary data interface class for converting a BlackrockRecordingExtractor.\"\"\"\n",
    "\n",
    "    RX = se.BlackrockRecordingExtractor\n",
    "\n",
    "    @classmethod\n",
    "    def get_source_schema(cls):\n",
    "        \"\"\"Compile input schema for the RecordingExtractor.\"\"\"\n",
    "        metadata_schema = get_schema_from_method_signature(\n",
    "            class_method=cls.RX.__init__,\n",
    "            exclude=['block_index', 'seg_index']\n",
    "        )\n",
    "        metadata_schema['additionalProperties'] = True\n",
    "        metadata_schema['properties']['filename']['format'] = 'file'\n",
    "        metadata_schema['properties']['filename']['description'] = 'Path to Blackrock file.'\n",
    "        return metadata_schema\n",
    "    \n",
    "    def __init__(self, filename: PathType, nsx_to_load: Optional[int] = None):\n",
    "        super().__init__(filename=filename, nsx_to_load=nsx_to_load)\n",
    "\n",
    "    def get_metadata(self):\n",
    "        \"\"\"Auto-fill as much of the metadata as possible. Must comply with metadata schema.\"\"\"\n",
    "        metadata = super().get_metadata()\n",
    "\n",
    "        # Open file and extract headers\n",
    "        nsx_file = NsxFile(datafile=self.source_data['filename'])\n",
    "        session_start_time = nsx_file.basic_header['TimeOrigin']\n",
    "        session_start_time_tzaware = pytz.timezone('EST').localize(session_start_time)\n",
    "        comment = nsx_file.basic_header['Comment']\n",
    "\n",
    "        metadata['NWBFile'] = dict(\n",
    "            session_start_time=session_start_time_tzaware,\n",
    "            session_description=comment,\n",
    "            identifier=''.join(random.choices(string.ascii_uppercase + string.digits, k=12))\n",
    "        )\n",
    "\n",
    "        metadata['Ecephys'] = dict(\n",
    "            Device=[dict(\n",
    "                name='Device_ecephys',\n",
    "                description='no description'\n",
    "            )],\n",
    "            ElectrodeGroup=[],\n",
    "        )\n",
    "\n",
    "        if self.source_data['nsx_to_load'] != 6:\n",
    "            metadata['Ecephys']['LFPElectricalSeries'] = dict()\n",
    "        else:\n",
    "            metadata['Ecephys']['ElectricalSeries'] = dict()\n",
    "\n",
    "        return metadata\n",
    "\n",
    "    def run_conversion(self, nwbfile: NWBFile, metadata: dict = None, use_times: bool = False, \n",
    "                       write_as_lfp: bool = False, save_path: PathType = None, overwrite: bool = False, \n",
    "                       stub_test: bool = False):\n",
    "        \"\"\"\n",
    "        Primary function for converting recording extractor data to nwb.\n",
    "        Parameters\n",
    "        ----------\n",
    "        nwbfile: NWBFile\n",
    "            nwb file to which the recording information is to be added\n",
    "        metadata: dict\n",
    "            metadata info for constructing the nwb file (optional).\n",
    "            Should be of the format\n",
    "                metadata['Ecephys']['ElectricalSeries'] = {'name': my_name,\n",
    "                                                           'description': my_description}\n",
    "        use_times: bool\n",
    "            If True, the timestamps are saved to the nwb file using recording.frame_to_time(). If False (default),\n",
    "            the sampling rate is used.\n",
    "        write_as_lfp: bool (optional, defaults to False)\n",
    "            If True, writes the traces under a processing LFP module in the NWBFile instead of acquisition.\n",
    "        save_path: PathType\n",
    "            Required if an nwbfile is not passed. Must be the path to the nwbfile\n",
    "            being appended, otherwise one is created and written.\n",
    "        overwrite: bool\n",
    "            If using save_path, whether or not to overwrite the NWBFile if it already exists.\n",
    "        stub_test: bool, optional (default False)\n",
    "            If True, will truncate the data to run the conversion faster and take up less memory.\n",
    "        \"\"\"\n",
    "        if self.source_data['nsx_to_load'] != 6:\n",
    "            write_as_lfp = True\n",
    "\n",
    "        super().run_conversion(\n",
    "            nwbfile=nwbfile, \n",
    "            metadata=metadata, \n",
    "            use_times=use_times, \n",
    "            write_as_lfp=write_as_lfp,\n",
    "            save_path=save_path, \n",
    "            overwrite=overwrite,\n",
    "            stub_test=stub_test\n",
    "        )\n",
    "\n",
    "\n",
    "class BlackrockSortingExtractorInterface(BaseSortingExtractorInterface):\n",
    "    \"\"\"Primary data interface class for converting Blackrock spiking data.\"\"\"\n",
    "\n",
    "    SX = se.BlackrockSortingExtractor\n",
    "\n",
    "    @classmethod\n",
    "    def get_source_schema(cls):\n",
    "        \"\"\"Compile input schema for the RecordingExtractor.\"\"\"\n",
    "        metadata_schema = get_schema_from_method_signature(\n",
    "            class_method=cls.SX.__init__,\n",
    "            exclude=['block_index', 'seg_index', 'nsx_to_load']\n",
    "        )\n",
    "        metadata_schema['additionalProperties'] = True\n",
    "        metadata_schema['properties']['filename']['format'] = 'file'\n",
    "        metadata_schema['properties']['filename']['description'] = 'Path to Blackrock file.'\n",
    "        return metadata_schema\n",
    "\n",
    "    def __init__(self, filename: PathType, nsx_to_load: Optional[int] = None):\n",
    "        super().__init__(filename=filename, nsx_to_load=nsx_to_load)"
   ]
  },
  {
   "cell_type": "code",
   "execution_count": null,
   "metadata": {},
   "outputs": [],
   "source": []
  },
  {
   "cell_type": "code",
   "execution_count": null,
   "metadata": {},
   "outputs": [],
   "source": []
  },
  {
   "cell_type": "code",
   "execution_count": null,
   "metadata": {},
   "outputs": [],
   "source": []
  },
  {
   "cell_type": "code",
   "execution_count": null,
   "metadata": {},
   "outputs": [],
   "source": []
  },
  {
   "cell_type": "code",
   "execution_count": null,
   "metadata": {},
   "outputs": [],
   "source": []
  },
  {
   "cell_type": "code",
   "execution_count": null,
   "metadata": {},
   "outputs": [],
   "source": []
  },
  {
   "cell_type": "code",
   "execution_count": null,
   "metadata": {},
   "outputs": [],
   "source": []
  },
  {
   "cell_type": "markdown",
   "metadata": {},
   "source": [
    "# Movshon lab - Blackrock Converter\n",
    "This tutorial follows the step-by-step guide for a [NWB Converter](https://github.com/catalystneuro/nwb-conversion-tools/blob/master/documentation/conversion_tools_structure.md#step-by-step-operations)"
   ]
  },
  {
   "cell_type": "code",
   "execution_count": 3,
   "metadata": {},
   "outputs": [],
   "source": [
    "from hussaini_lab_to_nwb import HussainiNWBConverter\n",
    "from pynwb import NWBFile, NWBHDF5IO\n",
    "from nwbwidgets import nwb2widget\n",
    "from pathlib import Path\n",
    "import yaml\n",
    "import pprint"
   ]
  },
  {
   "cell_type": "markdown",
   "metadata": {},
   "source": [
    "## Step 1 - Converter.get_source_schema()"
   ]
  },
  {
   "cell_type": "code",
   "execution_count": 6,
   "metadata": {},
   "outputs": [
    {
     "name": "stdout",
     "output_type": "stream",
     "text": [
      "{'BlackrockRecordingExtractorInterface': {'additionalProperties': True,\n",
      "                                          'properties': {'filename': {'description': 'Path to Blackrock file.',\n",
      "                                                                      'format': 'file',\n",
      "                                                                      'type': 'string'},\n",
      "                                                         'nsx_to_load': {'type': 'number'}},\n",
      "                                          'required': ['filename'],\n",
      "                                          'type': 'object'},\n",
      " 'BlackrockSortingExtractorInterface': {'additionalProperties': True,\n",
      "                                        'properties': {'filename': {'description': 'Path to Blackrock file.',\n",
      "                                                                    'format': 'file',\n",
      "                                                                    'type': 'string'}},\n",
      "                                        'required': ['filename'],\n",
      "                                        'type': 'object'}}\n"
     ]
    }
   ],
   "source": [
    "# Get source_schema\n",
    "source_schema = HussainiNWBConverter.get_source_schema()\n",
    "pprint.pprint(source_schema['properties'], width=120)"
   ]
  },
  {
   "cell_type": "markdown",
   "metadata": {},
   "source": [
    "## Step 2 - Get user-input source_data that complies to the returned full source_schema"
   ]
  },
  {
   "cell_type": "code",
   "execution_count": 4,
   "metadata": {},
   "outputs": [
    {
     "name": "stdout",
     "output_type": "stream",
     "text": [
      "{'BlackrockRecordingExtractorInterface': {'filename': '/media/luiz/storage/taufferconsulting/client_ben/project_movshon/data/XX_LE_textures_20191128_002.ns3',\n",
      "                                          'nsx_to_load': 3},\n",
      " 'BlackrockSortingExtractorInterface': {'filename': '/media/luiz/storage/taufferconsulting/client_ben/project_movshon/data/XX_LE_textures_20191128_002.nev',\n",
      "                                        'nsx_to_load': 6}}\n"
     ]
    }
   ],
   "source": [
    "# Source data\n",
    "base_path = Path('/media/luiz/storage/taufferconsulting/client_ben/project_movshon/data/')\n",
    "file_recording = str(base_path / 'XX_LE_textures_20191128_002.ns3')\n",
    "file_sorting = str(base_path / 'XX_LE_textures_20191128_002.nev')\n",
    "\n",
    "source_data = dict(\n",
    "    BlackrockRecordingExtractorInterface=dict(\n",
    "        filename=file_recording,\n",
    "        nsx_to_load=3\n",
    "    ),\n",
    "    BlackrockSortingExtractorInterface=dict(\n",
    "        filename=file_sorting,\n",
    "        nsx_to_load=6\n",
    "    )\n",
    ")\n",
    "\n",
    "pprint.pprint(source_data, width=120)"
   ]
  },
  {
   "cell_type": "markdown",
   "metadata": {},
   "source": [
    "## Step 3 - Instantiate Converter"
   ]
  },
  {
   "cell_type": "code",
   "execution_count": 5,
   "metadata": {},
   "outputs": [
    {
     "name": "stdout",
     "output_type": "stream",
     "text": [
      "Data interfaces for this converter:\n",
      "{'BlackrockRecordingExtractorInterface': <nwb_conversion_tools.datainterfaces.blackrockdatainterface.BlackrockRecordingExtractorInterface object at 0x7f962d62a410>,\n",
      " 'BlackrockSortingExtractorInterface': <nwb_conversion_tools.datainterfaces.blackrockdatainterface.BlackrockSortingExtractorInterface object at 0x7f962c5bd8d0>}\n"
     ]
    }
   ],
   "source": [
    "# Initialize converter\n",
    "converter = MovshonBlackrockNWBConverter(source_data=source_data)\n",
    "\n",
    "print('Data interfaces for this converter:')\n",
    "pprint.pprint(converter.data_interface_objects, width=120)"
   ]
  },
  {
   "cell_type": "markdown",
   "metadata": {},
   "source": [
    "## Step 4 - Converter.get_metadata_schema()"
   ]
  },
  {
   "cell_type": "code",
   "execution_count": 6,
   "metadata": {
    "scrolled": false
   },
   "outputs": [
    {
     "name": "stdout",
     "output_type": "stream",
     "text": [
      "{'$id': 'metadata.schema.json',\n",
      " '$schema': 'http://json-schema.org/draft-07/schema#',\n",
      " 'additionalProperties': False,\n",
      " 'description': 'Schema for the metadata',\n",
      " 'properties': {'Ecephys': {'Device': {'additionalProperties': False,\n",
      "                                       'properties': {'description': {'description': 'Description of the device (e.g., '\n",
      "                                                                                     'model, firmware version, '\n",
      "                                                                                     'processing software version, '\n",
      "                                                                                     'etc.)',\n",
      "                                                                      'type': 'string'},\n",
      "                                                      'manufacturer': {'description': 'the name of the manufacturer of '\n",
      "                                                                                      'this device',\n",
      "                                                                       'type': 'string'},\n",
      "                                                      'name': {'description': 'the name of this device',\n",
      "                                                               'type': 'string'}},\n",
      "                                       'required': ['name'],\n",
      "                                       'tag': 'pynwb.device.Device',\n",
      "                                       'type': 'object'},\n",
      "                            'ElectricalSeries': {'additionalProperties': False,\n",
      "                                                 'properties': {'comments': {'default': 'no comments',\n",
      "                                                                             'description': 'Human-readable comments '\n",
      "                                                                                            'about this TimeSeries '\n",
      "                                                                                            'dataset',\n",
      "                                                                             'type': 'string'},\n",
      "                                                                'conversion': {'default': 1.0,\n",
      "                                                                               'description': 'Scalar to multiply each '\n",
      "                                                                                              'element in data to '\n",
      "                                                                                              'convert it to the '\n",
      "                                                                                              'specified unit',\n",
      "                                                                               'type': 'number'},\n",
      "                                                                'description': {'default': 'no description',\n",
      "                                                                                'description': 'Description of this '\n",
      "                                                                                               'TimeSeries dataset',\n",
      "                                                                                'type': 'string'},\n",
      "                                                                'name': {'description': 'The name of this TimeSeries '\n",
      "                                                                                        'dataset',\n",
      "                                                                         'type': 'string'},\n",
      "                                                                'rate': {'description': 'Sampling rate in Hz',\n",
      "                                                                         'type': 'number'},\n",
      "                                                                'resolution': {'default': -1.0,\n",
      "                                                                               'description': 'The smallest meaningful '\n",
      "                                                                                              'difference (in '\n",
      "                                                                                              'specified unit) between '\n",
      "                                                                                              'values in data',\n",
      "                                                                               'type': 'number'},\n",
      "                                                                'starting_time': {'description': 'The timestamp of the '\n",
      "                                                                                                 'first sample',\n",
      "                                                                                  'type': 'number'}},\n",
      "                                                 'required': ['name'],\n",
      "                                                 'tag': 'pynwb.ecephys.ElectricalSeries',\n",
      "                                                 'type': 'object'},\n",
      "                            'ElectrodeGroup': {'additionalProperties': False,\n",
      "                                               'properties': {'description': {'description': 'description of this '\n",
      "                                                                                             'electrode group',\n",
      "                                                                              'type': 'string'},\n",
      "                                                              'device': {'description': 'the device that was used to '\n",
      "                                                                                        'record from this electrode '\n",
      "                                                                                        'group',\n",
      "                                                                         'target': 'pynwb.device.Device',\n",
      "                                                                         'type': 'string'},\n",
      "                                                              'location': {'description': 'description of location of '\n",
      "                                                                                          'this electrode group',\n",
      "                                                                           'type': 'string'},\n",
      "                                                              'name': {'description': 'the name of this electrode',\n",
      "                                                                       'type': 'string'}},\n",
      "                                               'required': ['location', 'device', 'description', 'name'],\n",
      "                                               'tag': 'pynwb.ecephys.ElectrodeGroup',\n",
      "                                               'type': 'object'},\n",
      "                            'required': ['Device', 'ElectrodeGroup', 'ElectricalSeries']},\n",
      "                'NWBFile': {'additionalProperties': False,\n",
      "                            'properties': {'data_collection': {'description': 'Notes about data collection and '\n",
      "                                                                              'analysis.',\n",
      "                                                               'type': 'string'},\n",
      "                                           'experiment_description': {'description': 'general description of the '\n",
      "                                                                                     'experiment',\n",
      "                                                                      'type': 'string'},\n",
      "                                           'experimenter': {'description': 'name of person who performed experiment',\n",
      "                                                            'items': {'title': 'experimenter', 'type': 'string'},\n",
      "                                                            'type': 'array'},\n",
      "                                           'identifier': {'description': 'a unique text identifier for the file',\n",
      "                                                          'type': 'string'},\n",
      "                                           'institution': {'description': 'institution(s) where experiment is '\n",
      "                                                                          'performed',\n",
      "                                                           'type': 'string'},\n",
      "                                           'lab': {'description': 'lab where experiment was performed',\n",
      "                                                   'type': 'string'},\n",
      "                                           'notes': {'description': 'Notes about the experiment.', 'type': 'string'},\n",
      "                                           'pharmacology': {'description': 'Description of drugs used, including how '\n",
      "                                                                           'and when they were administered. '\n",
      "                                                                           'Anesthesia(s), painkiller(s), etc., plus '\n",
      "                                                                           'dosage, concentration, etc.',\n",
      "                                                            'type': 'string'},\n",
      "                                           'protocol': {'description': 'Experimental protocol, if applicable. E.g., '\n",
      "                                                                       'include IACUC protocol',\n",
      "                                                        'type': 'string'},\n",
      "                                           'related_publications': {'description': 'Publication information.PMID, DOI, '\n",
      "                                                                                   'URL, etc. If multiple, concatenate '\n",
      "                                                                                   'together and describe which is '\n",
      "                                                                                   'which. such as PMID, DOI, URL, etc',\n",
      "                                                                    'type': 'string'},\n",
      "                                           'session_description': {'description': 'a description of the session where '\n",
      "                                                                                  'this data was generated',\n",
      "                                                                   'format': 'long',\n",
      "                                                                   'type': 'string'},\n",
      "                                           'session_id': {'description': 'lab-specific ID for the session',\n",
      "                                                          'type': 'string'},\n",
      "                                           'session_start_time': {'description': 'the start date and time of the '\n",
      "                                                                                 'recording session',\n",
      "                                                                  'format': 'date-time',\n",
      "                                                                  'type': 'string'},\n",
      "                                           'slices': {'description': 'Description of slices, including information '\n",
      "                                                                     'about preparation thickness, orientation, '\n",
      "                                                                     'temperature and bath solution',\n",
      "                                                      'type': 'string'},\n",
      "                                           'source_script': {'description': 'Script file used to create this NWB file.',\n",
      "                                                             'type': 'string'},\n",
      "                                           'source_script_file_name': {'description': 'Name of the source_script file',\n",
      "                                                                       'type': 'string'},\n",
      "                                           'stimulus_notes': {'description': 'Notes about stimuli, such as how and '\n",
      "                                                                             'where presented.',\n",
      "                                                              'type': 'string'},\n",
      "                                           'surgery': {'description': 'Narrative description about surgery/surgeries, '\n",
      "                                                                      'including date(s) and who performed surgery.',\n",
      "                                                       'type': 'string'},\n",
      "                                           'virus': {'description': 'Information about virus(es) used in experiments, '\n",
      "                                                                    'including virus ID, source, date made, injection '\n",
      "                                                                    'location, volume, etc.',\n",
      "                                                     'type': 'string'}},\n",
      "                            'required': ['session_description', 'identifier', 'session_start_time'],\n",
      "                            'tag': 'pynwb.file.NWBFile',\n",
      "                            'type': 'object'},\n",
      "                'SpikeEventSeries': {'additionalProperties': False,\n",
      "                                     'properties': {'comments': {'default': 'no comments',\n",
      "                                                                 'description': 'Human-readable comments about this '\n",
      "                                                                                'TimeSeries dataset',\n",
      "                                                                 'type': 'string'},\n",
      "                                                    'conversion': {'default': 1.0,\n",
      "                                                                   'description': 'Scalar to multiply each element in '\n",
      "                                                                                  'data to convert it to the specified '\n",
      "                                                                                  'unit',\n",
      "                                                                   'type': 'number'},\n",
      "                                                    'description': {'default': 'no description',\n",
      "                                                                    'description': 'Description of this TimeSeries '\n",
      "                                                                                   'dataset',\n",
      "                                                                    'type': 'string'},\n",
      "                                                    'name': {'description': 'The name of this TimeSeries dataset',\n",
      "                                                             'type': 'string'},\n",
      "                                                    'resolution': {'default': -1.0,\n",
      "                                                                   'description': 'The smallest meaningful difference '\n",
      "                                                                                  '(in specified unit) between values '\n",
      "                                                                                  'in data',\n",
      "                                                                   'type': 'number'}},\n",
      "                                     'required': ['name'],\n",
      "                                     'tag': 'pynwb.ecephys.SpikeEventSeries',\n",
      "                                     'type': 'object'},\n",
      "                'Subject': {'additionalProperties': False,\n",
      "                            'properties': {'age': {'description': 'the age of the subject', 'type': 'string'},\n",
      "                                           'date_of_birth': {'description': 'datetime of date of birth. May be '\n",
      "                                                                            'supplied instead of age.',\n",
      "                                                             'format': 'date-time',\n",
      "                                                             'type': 'string'},\n",
      "                                           'description': {'description': 'a description of the subject',\n",
      "                                                           'type': 'string'},\n",
      "                                           'genotype': {'description': 'the genotype of the subject', 'type': 'string'},\n",
      "                                           'sex': {'description': 'the sex of the subject', 'type': 'string'},\n",
      "                                           'species': {'description': 'the species of the subject', 'type': 'string'},\n",
      "                                           'subject_id': {'description': 'a unique identifier for the subject',\n",
      "                                                          'type': 'string'},\n",
      "                                           'weight': {'description': 'the weight of the subject', 'type': 'string'}},\n",
      "                            'required': [],\n",
      "                            'tag': 'pynwb.file.Subject',\n",
      "                            'type': 'object'}},\n",
      " 'required': ['NWBFile', 'SpikeEventSeries'],\n",
      " 'title': 'Metadata',\n",
      " 'type': 'object',\n",
      " 'version': '0.1.0'}\n"
     ]
    }
   ],
   "source": [
    "# Get metadata_schema\n",
    "metadata_schema = converter.get_metadata_schema()\n",
    "pprint.pprint(metadata_schema, width=120)"
   ]
  },
  {
   "cell_type": "markdown",
   "metadata": {},
   "source": [
    "## Step 5 - Automatically fetches available metadata with Converter.get_metadata()"
   ]
  },
  {
   "cell_type": "code",
   "execution_count": 7,
   "metadata": {},
   "outputs": [
    {
     "name": "stdout",
     "output_type": "stream",
     "text": [
      "{'Ecephys': {'Device': [{'description': 'no description', 'name': 'Device_ecephys'}],\n",
      "             'ElectrodeGroup': [],\n",
      "             'LFPElectricalSeries': {}},\n",
      " 'NWBFile': {'identifier': 'JES40X1FWSHT',\n",
      "             'session_description': '',\n",
      "             'session_start_time': datetime.datetime(2019, 11, 28, 22, 35, 54, 729000, tzinfo=<StaticTzInfo 'EST'>)}}\n"
     ]
    }
   ],
   "source": [
    "# Get metadata from source data\n",
    "metadata = converter.get_metadata()\n",
    "pprint.pprint(metadata, width=120)"
   ]
  },
  {
   "cell_type": "markdown",
   "metadata": {},
   "source": [
    "## Step 6 - Get user-input metadata"
   ]
  },
  {
   "cell_type": "code",
   "execution_count": 8,
   "metadata": {},
   "outputs": [
    {
     "name": "stdout",
     "output_type": "stream",
     "text": [
      "{'Ecephys': {'Device': [{'description': 'no description', 'name': 'Device_ecephys'}],\n",
      "             'ElectrodeGroup': [],\n",
      "             'LFPElectricalSeries': {}},\n",
      " 'NWBFile': {'identifier': 'JES40X1FWSHT',\n",
      "             'session_description': 'example conversion',\n",
      "             'session_start_time': datetime.datetime(2019, 11, 28, 22, 35, 54, 729000, tzinfo=<StaticTzInfo 'EST'>)}}\n"
     ]
    }
   ],
   "source": [
    "metadata['NWBFile']['session_description'] = 'example conversion'\n",
    "pprint.pprint(metadata, width=120)"
   ]
  },
  {
   "cell_type": "markdown",
   "metadata": {},
   "source": [
    "## Step 7 - Converter.get_conversion_options_schema()"
   ]
  },
  {
   "cell_type": "code",
   "execution_count": 9,
   "metadata": {},
   "outputs": [],
   "source": [
    "# Not used for this converter"
   ]
  },
  {
   "cell_type": "markdown",
   "metadata": {},
   "source": [
    "## Step 8 - Get user-input conversion options"
   ]
  },
  {
   "cell_type": "code",
   "execution_count": 10,
   "metadata": {},
   "outputs": [],
   "source": [
    "# Not used for this converter"
   ]
  },
  {
   "cell_type": "markdown",
   "metadata": {},
   "source": [
    "## Step 9 - Run conversion user filled metadata and conversion_options"
   ]
  },
  {
   "cell_type": "code",
   "execution_count": 11,
   "metadata": {},
   "outputs": [
    {
     "name": "stderr",
     "output_type": "stream",
     "text": [
      "/home/luiz/anaconda3/envs/env_klusta/lib/python3.7/site-packages/hdmf/common/table.py:415: UserWarning: An attribute 'name' already exists on DynamicTable 'electrodes' so this column cannot be accessed as an attribute, e.g., table.name; it can only be accessed using other methods, e.g., table['name'].\n",
      "  warn(msg)\n"
     ]
    },
    {
     "name": "stdout",
     "output_type": "stream",
     "text": [
      "NWB file saved at out_example.nwb!\n"
     ]
    }
   ],
   "source": [
    "output_file = 'out_example.nwb'\n",
    "\n",
    "converter.run_conversion(\n",
    "    metadata=metadata, \n",
    "    nwbfile_path=output_file, \n",
    "    save_to_file=True,\n",
    "    conversion_options=None\n",
    ")"
   ]
  },
  {
   "cell_type": "markdown",
   "metadata": {},
   "source": [
    "## Final 1 - Check NWB file"
   ]
  },
  {
   "cell_type": "code",
   "execution_count": 12,
   "metadata": {
    "scrolled": false
   },
   "outputs": [
    {
     "name": "stdout",
     "output_type": "stream",
     "text": [
      "root pynwb.file.NWBFile at 0x140281502197008\n",
      "Fields:\n",
      "  devices: {\n",
      "    Device <class 'pynwb.device.Device'>\n",
      "  }\n",
      "  electrode_groups: {\n",
      "    0 <class 'pynwb.ecephys.ElectrodeGroup'>\n",
      "  }\n",
      "  electrodes: electrodes <class 'hdmf.common.table.DynamicTable'>\n",
      "  file_create_date: [datetime.datetime(2021, 3, 5, 18, 47, 48, 213380, tzinfo=tzoffset(None, 3600))]\n",
      "  identifier: JES40X1FWSHT\n",
      "  processing: {\n",
      "    ecephys <class 'pynwb.base.ProcessingModule'>\n",
      "  }\n",
      "  session_description: example conversion\n",
      "  session_start_time: 2019-11-28 22:35:54.729000-05:00\n",
      "  timestamps_reference_time: 2019-11-28 22:35:54.729000-05:00\n",
      "  units: units <class 'pynwb.misc.Units'>\n",
      "\n"
     ]
    }
   ],
   "source": [
    "# load file\n",
    "fname = 'out_example.nwb'\n",
    "with NWBHDF5IO(fname, 'r') as io:\n",
    "    nwbfile = io.read()\n",
    "    print(nwbfile)"
   ]
  },
  {
   "cell_type": "markdown",
   "metadata": {
    "scrolled": false
   },
   "source": [
    "## Final 2 - Check NWB file with widgets"
   ]
  },
  {
   "cell_type": "code",
   "execution_count": 13,
   "metadata": {},
   "outputs": [
    {
     "data": {
      "application/vnd.jupyter.widget-view+json": {
       "model_id": "f398d0ac8b8e40e49cf3b2f4724d4c58",
       "version_major": 2,
       "version_minor": 0
      },
      "text/plain": [
       "VBox(children=(HBox(children=(Label(value='session_description:', layout=Layout(max_height='40px', max_width='…"
      ]
     },
     "metadata": {},
     "output_type": "display_data"
    }
   ],
   "source": [
    "io = NWBHDF5IO(fname, 'r')\n",
    "nwbfile = io.read()\n",
    "nwb2widget(nwbfile)"
   ]
  }
 ],
 "metadata": {
  "kernelspec": {
   "display_name": "Python 3",
   "language": "python",
   "name": "python3"
  },
  "language_info": {
   "codemirror_mode": {
    "name": "ipython",
    "version": 3
   },
   "file_extension": ".py",
   "mimetype": "text/x-python",
   "name": "python",
   "nbconvert_exporter": "python",
   "pygments_lexer": "ipython3",
   "version": "3.8.5"
  }
 },
 "nbformat": 4,
 "nbformat_minor": 4
}
