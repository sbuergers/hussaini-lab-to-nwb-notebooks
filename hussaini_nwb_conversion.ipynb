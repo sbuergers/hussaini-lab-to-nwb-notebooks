{
 "cells": [
  {
   "cell_type": "markdown",
   "metadata": {},
   "source": [
    "# Hussaini lab data (Axona) conversion to NWB and TINT\n",
    "\n",
    "Here, I am going to test code for doing said conversions.\n",
    "\n",
    "### NWB\n",
    "\n",
    "To convert to NWB we will need a separate Interface class (e.g. AxonaRecordingExtractorInterface) for each data type / extractor. Those are then combined with an NWBConverter class for the Lab (e.g. HussainiLabNWBConverter), which exports to NWB. "
   ]
  },
  {
   "cell_type": "markdown",
   "metadata": {},
   "source": [
    "Adapted from https://github.com/catalystneuro/movshon-lab-to-nwb/blob/main/tutorials/blackrock_nwb_conversion_detailed.ipynb"
   ]
  },
  {
   "cell_type": "code",
   "execution_count": 1,
   "metadata": {},
   "outputs": [],
   "source": [
    "%load_ext autoreload\n",
    "%autoreload 2\n",
    "%config Completer.use_jedi = False"
   ]
  },
  {
   "cell_type": "code",
   "execution_count": 2,
   "metadata": {},
   "outputs": [
    {
     "name": "stdout",
     "output_type": "stream",
     "text": [
      "/mnt/d/freelance-work/catalyst-neuro/hussaini-lab-to-nwb/example_data_raw/axona_raw_5s\n"
     ]
    }
   ],
   "source": [
    "import os\n",
    "\n",
    "dir_name = r'/mnt/d/freelance-work/catalyst-neuro/hussaini-lab-to-nwb/example_data_raw'\n",
    "base_filename = 'axona_raw_5s'\n",
    "filename = os.path.join(dir_name, base_filename)\n",
    "print(filename)"
   ]
  },
  {
   "cell_type": "code",
   "execution_count": 3,
   "metadata": {},
   "outputs": [
    {
     "name": "stdout",
     "output_type": "stream",
     "text": [
      "total 76\r\n",
      "-rwxrwxrwx 1 steburg steburg    69 Apr  5 11:28 __init__.py\r\n",
      "-rwxrwxrwx 1 steburg steburg  1404 Apr  5 11:28 auto_qc.py\r\n",
      "-rwxrwxrwx 1 steburg steburg  1338 Apr  5 11:28 basedatainterface.py\r\n",
      "-rwxrwxrwx 1 steburg steburg  2134 Apr  5 11:28 baseimagingextractorinterface.py\r\n",
      "-rwxrwxrwx 1 steburg steburg  2775 Apr  5 11:28 baselfpextractorinterface.py\r\n",
      "-rwxrwxrwx 1 steburg steburg  4629 Apr  5 11:28 baserecordingextractorinterface.py\r\n",
      "-rwxrwxrwx 1 steburg steburg  2363 Apr  5 11:28 basesegmentationextractorinterface.py\r\n",
      "-rwxrwxrwx 1 steburg steburg  3829 Apr  5 11:28 basesortingextractorinterface.py\r\n",
      "-rwxrwxrwx 1 steburg steburg  4312 Apr  5 11:28 conversion_tools.py\r\n",
      "drwxrwxrwx 1 steburg steburg  4096 Apr  8 17:10 datainterfaces\r\n",
      "-rwxrwxrwx 1 steburg steburg  5100 Apr  5 11:28 json_schema_utils.py\r\n",
      "-rwxrwxrwx 1 steburg steburg 10154 Apr  5 11:28 metafile.schema.json\r\n",
      "-rwxrwxrwx 1 steburg steburg  6665 Apr  5 11:28 nwbconverter.py\r\n",
      "drwxrwxrwx 1 steburg steburg  4096 Apr  5 11:28 schemas\r\n",
      "-rwxrwxrwx 1 steburg steburg  7355 Apr  5 11:28 utils.py\r\n"
     ]
    }
   ],
   "source": [
    "!ls ../nwb-conversion-tools/nwb_conversion_tools -l"
   ]
  },
  {
   "cell_type": "code",
   "execution_count": 4,
   "metadata": {},
   "outputs": [],
   "source": [
    "# Import modules\n",
    "\n",
    "import random\n",
    "import string\n",
    "from typing import Union, Optional\n",
    "from pathlib import Path\n",
    "import spikeextractors as se\n",
    "from pynwb import NWBFile\n",
    "import numpy as np\n",
    "import re\n",
    "import datetime\n",
    "\n",
    "from nwb_conversion_tools.baserecordingextractorinterface import BaseRecordingExtractorInterface,  BaseDataInterface\n",
    "from nwb_conversion_tools.basesortingextractorinterface import BaseSortingExtractorInterface\n",
    "from nwb_conversion_tools.json_schema_utils import get_schema_from_method_signature, get_base_schema, fill_defaults\n",
    "from nwb_conversion_tools.datainterfaces.interface_utils.brpylib import NsxFile\n",
    "from nwb_conversion_tools import SpikeGLXRecordingInterface"
   ]
  },
  {
   "cell_type": "code",
   "execution_count": 5,
   "metadata": {},
   "outputs": [],
   "source": [
    "# from basedatainterface.py\n",
    "base_schema = get_base_schema(\n",
    "    id_='metadata.schema.json',\n",
    "    root=True,\n",
    "    title='Metadata',\n",
    "    description='Schema for the metadata',\n",
    "    version=\"0.1.0\",\n",
    ")"
   ]
  },
  {
   "cell_type": "code",
   "execution_count": 6,
   "metadata": {},
   "outputs": [
    {
     "data": {
      "text/plain": [
       "{'required': [],\n",
       " 'properties': {},\n",
       " 'type': 'object',\n",
       " 'additionalProperties': False,\n",
       " '$schema': 'http://json-schema.org/draft-07/schema#',\n",
       " '$id': 'metadata.schema.json',\n",
       " 'title': 'Metadata',\n",
       " 'description': 'Schema for the metadata',\n",
       " 'version': '0.1.0'}"
      ]
     },
     "execution_count": 6,
     "metadata": {},
     "output_type": "execute_result"
    }
   ],
   "source": [
    "base_schema"
   ]
  },
  {
   "cell_type": "code",
   "execution_count": 7,
   "metadata": {},
   "outputs": [],
   "source": [
    "glx = SpikeGLXRecordingInterface"
   ]
  },
  {
   "cell_type": "code",
   "execution_count": 8,
   "metadata": {},
   "outputs": [
    {
     "data": {
      "text/plain": [
       "{'required': ['file_path'],\n",
       " 'properties': {'file_path': {'type': 'string',\n",
       "   'format': 'file',\n",
       "   'description': 'Path to SpikeGLX file.'}},\n",
       " 'type': 'object',\n",
       " 'additionalProperties': True}"
      ]
     },
     "execution_count": 8,
     "metadata": {},
     "output_type": "execute_result"
    }
   ],
   "source": [
    "glx.get_source_schema()"
   ]
  },
  {
   "cell_type": "code",
   "execution_count": 9,
   "metadata": {},
   "outputs": [
    {
     "data": {
      "text/plain": [
       "mappingproxy({'self': <Parameter \"self\">,\n",
       "              'file_path': <Parameter \"file_path: Union[str, pathlib.Path, NoneType]\">,\n",
       "              'stub_test': <Parameter \"stub_test: Union[bool, NoneType] = False\">})"
      ]
     },
     "execution_count": 9,
     "metadata": {},
     "output_type": "execute_result"
    }
   ],
   "source": [
    "import inspect\n",
    "\n",
    "inspect.signature(glx.__init__).parameters"
   ]
  },
  {
   "cell_type": "code",
   "execution_count": 10,
   "metadata": {},
   "outputs": [
    {
     "name": "stdout",
     "output_type": "stream",
     "text": [
      "total 224\r\n",
      "-rwxrwxrwx 1 steburg steburg    86 Mar 24 10:00 MANIFEST.in\r\n",
      "-rwxrwxrwx 1 steburg steburg  1265 Mar 19 08:48 __init__.py\r\n",
      "drwxrwxrwx 1 steburg steburg  4096 Apr  5 09:53 __pycache__\r\n",
      "-rwxrwxrwx 1 steburg steburg 22834 Mar 19 08:52 baseextractor.py\r\n",
      "-rwxrwxrwx 1 steburg steburg  9269 Mar 19 08:52 cacheextractors.py\r\n",
      "drwxrwxrwx 1 steburg steburg  4096 Mar 24 10:00 example_datasets\r\n",
      "-rwxrwxrwx 1 steburg steburg   105 Mar 19 08:48 exceptions.py\r\n",
      "-rwxrwxrwx 1 steburg steburg 36890 Mar 19 08:52 extraction_tools.py\r\n",
      "-rwxrwxrwx 1 steburg steburg  5952 Apr  1 17:10 extractorlist.py\r\n",
      "drwxrwxrwx 1 steburg steburg  4096 Mar 22 09:47 extractors\r\n",
      "-rwxrwxrwx 1 steburg steburg  6494 Mar 19 08:52 multirecordingchannelextractor.py\r\n",
      "-rwxrwxrwx 1 steburg steburg  8390 Mar 19 08:52 multirecordingtimeextractor.py\r\n",
      "-rwxrwxrwx 1 steburg steburg  5458 Mar 19 08:52 multisortingextractor.py\r\n",
      "-rwxrwxrwx 1 steburg steburg 41357 Mar 19 08:52 recordingextractor.py\r\n",
      "-rwxrwxrwx 1 steburg steburg 30642 Mar 19 08:52 sortingextractor.py\r\n",
      "-rwxrwxrwx 1 steburg steburg  8275 Mar 19 08:52 subrecordingextractor.py\r\n",
      "-rwxrwxrwx 1 steburg steburg  7788 Mar 19 08:52 subsortingextractor.py\r\n",
      "-rwxrwxrwx 1 steburg steburg  8296 Mar 19 08:52 testing.py\r\n",
      "-rwxrwxrwx 1 steburg steburg    18 Mar 19 08:52 version.py\r\n"
     ]
    }
   ],
   "source": [
    "!ls ../spikeextractors/spikeextractors -l"
   ]
  },
  {
   "cell_type": "code",
   "execution_count": 11,
   "metadata": {},
   "outputs": [],
   "source": [
    "from spikeextractors.extractors.neoextractors import AxonaRecordingExtractor"
   ]
  },
  {
   "cell_type": "code",
   "execution_count": 12,
   "metadata": {},
   "outputs": [
    {
     "name": "stdout",
     "output_type": "stream",
     "text": [
      "Number of channels: 16\n",
      "Channel groups: [0 0 0 0 0 0 0 0 0 0 0 0 0 0 0 0]\n"
     ]
    }
   ],
   "source": [
    "are = AxonaRecordingExtractor(filename=filename)\n",
    "print('Number of channels:', are.get_num_channels())\n",
    "print('Channel groups:', are.get_channel_groups())"
   ]
  },
  {
   "cell_type": "markdown",
   "metadata": {},
   "source": [
    "Parse .set file for metadata to include in metadata."
   ]
  },
  {
   "cell_type": "code",
   "execution_count": 13,
   "metadata": {},
   "outputs": [],
   "source": [
    "def parse_generic_header(filename, params):\n",
    "    \"\"\"\n",
    "    Given a binary file with phrases and line breaks, enters the\n",
    "    first word of a phrase as dictionary key and the following\n",
    "    string (without linebreaks) as value. Returns the dictionary.\n",
    "    \n",
    "    INPUT\n",
    "    filename (str): .set file path and name.\n",
    "    params (list or set): parameter names to search for. \n",
    "    \n",
    "    OUTPUT\n",
    "    header (dict): dictionary with keys being the parameters that\n",
    "                   were found & values being strings of the data.\n",
    "                   \n",
    "    EXAMPLE\n",
    "    parse_generic_header('myset_file.set', ['experimenter', 'trial_time'])\n",
    "    \"\"\"\n",
    "    header = {}\n",
    "    params = set(params)\n",
    "    with open(filename, 'rb') as f:\n",
    "        for bin_line in f:\n",
    "            if b'data_start' in bin_line:\n",
    "                break\n",
    "            line = bin_line.decode('cp1252').replace('\\r\\n', '').replace('\\r', '').strip()\n",
    "            parts = line.split(' ')\n",
    "            key = parts[0]\n",
    "            if key in params:\n",
    "                header[key] = ' '.join(parts[1:])\n",
    "            \n",
    "    return header"
   ]
  },
  {
   "cell_type": "code",
   "execution_count": 14,
   "metadata": {},
   "outputs": [],
   "source": [
    "set_file = filename+'.set'"
   ]
  },
  {
   "cell_type": "code",
   "execution_count": 15,
   "metadata": {},
   "outputs": [],
   "source": [
    "params_of_interest = [\n",
    "    'experimenter', \n",
    "    'comments',\n",
    "    'duration', \n",
    "    'sw_version',\n",
    "    'tracker_version',\n",
    "    'stim_version',\n",
    "    'audio_version'\n",
    "]"
   ]
  },
  {
   "cell_type": "code",
   "execution_count": 16,
   "metadata": {},
   "outputs": [
    {
     "data": {
      "text/plain": [
       "{'experimenter': 'Abid',\n",
       " 'comments': '',\n",
       " 'duration': '600.00625',\n",
       " 'sw_version': '1.2.2.16',\n",
       " 'tracker_version': '0',\n",
       " 'stim_version': '1',\n",
       " 'audio_version': '0'}"
      ]
     },
     "execution_count": 16,
     "metadata": {},
     "output_type": "execute_result"
    }
   ],
   "source": [
    "parse_generic_header(set_file, params_of_interest)"
   ]
  },
  {
   "cell_type": "code",
   "execution_count": null,
   "metadata": {},
   "outputs": [],
   "source": []
  },
  {
   "cell_type": "code",
   "execution_count": 17,
   "metadata": {},
   "outputs": [],
   "source": [
    "def read_iso_datetime(set_file):\n",
    "    \"\"\" \n",
    "    Creates datetime object (y, m, d, h, m, s) from .set file header \n",
    "    \"\"\"\n",
    "    with open(set_file, 'r', encoding='cp1252') as f:\n",
    "        for line in f:\n",
    "            if line.startswith('trial_date'):\n",
    "                date_string = re.findall(r'\\d+\\s\\w+\\s\\d{4}$', line)[0]\n",
    "            if line.startswith('trial_time'):\n",
    "                time_string = line[len('trial_time')+1::].replace('\\n', '')\n",
    "\n",
    "    return datetime.datetime.strptime(date_string + ', ' + time_string, \\\n",
    "        \"%d %b %Y, %H:%M:%S\").isoformat()"
   ]
  },
  {
   "cell_type": "code",
   "execution_count": 18,
   "metadata": {},
   "outputs": [],
   "source": [
    "class AxonaRecordingExtractorInterface(BaseRecordingExtractorInterface):\n",
    "    \"\"\"Primary data interface class for converting a AxonaRecordingExtractor.\"\"\"\n",
    "\n",
    "    RX = se.AxonaRecordingExtractor\n",
    "\n",
    "    @classmethod\n",
    "    def get_source_schema(cls):\n",
    "        source_schema = {\n",
    "            'required': ['filename'],\n",
    "            'properties': {\n",
    "                'filename': {\n",
    "                    'type': 'string',\n",
    "                    'format': 'file',\n",
    "                    'description': 'Path to Axona files.'\n",
    "                }\n",
    "            },\n",
    "            'type': 'object',\n",
    "            'additionalProperties': True\n",
    "        }\n",
    "        return source_schema\n",
    "       \n",
    "    def __init__(self, **source_data):\n",
    "        super().__init__(**source_data)\n",
    "        \n",
    "    def get_metadata(self):\n",
    "        \"\"\"Auto-fill as much of the metadata as possible. Must comply with metadata schema.\"\"\"        \n",
    "                \n",
    "        # Extract information for specific parameters from .set file\n",
    "        params_of_interest = [\n",
    "            'experimenter', \n",
    "            'comments',\n",
    "            'duration', \n",
    "            'sw_version',\n",
    "            'tracker_version',\n",
    "            'stim_version',\n",
    "            'audio_version'\n",
    "        ]\n",
    "        set_file = self.source_data['filename']+'.set'\n",
    "        par = parse_generic_header(set_file, params_of_interest)\n",
    "        \n",
    "        # Extract information from AxonaRecordingExtractor\n",
    "        elec_group_names = self.recording_extractor.get_channel_groups()\n",
    "        unique_elec_group_names = set(elec_group_names)\n",
    "        \n",
    "        # Add available metadata\n",
    "        # NOTE that this interface is meant to be used within an NWBconverter, \n",
    "        # which contains a much larger metadata_schema. As such a datainterface\n",
    "        # metadata by itself does not necessarily validate with its own schema!\n",
    "        metadata = super().get_metadata()\n",
    "        metadata['NWBFile'] = dict(\n",
    "            session_start_time=read_iso_datetime(set_file),\n",
    "            session_description=par['comments'],\n",
    "            identifier=''.join(random.choices(string.ascii_uppercase + string.digits, k=12)),\n",
    "            #session_duration=par['duration']+'s',\n",
    "            #tracker_version=par['tracker_version'],\n",
    "            #stim_version=par['stim_version'],\n",
    "            #audio_version=par['audio_version']\n",
    "            experimenter=[par['experimenter']]\n",
    "        )\n",
    "        \n",
    "        metadata['Ecephys'] = dict(\n",
    "            Device=dict(\n",
    "                    name=\"Axona\",\n",
    "                    description=\"Axona DacqUSB, sw_version={}\".format(par['sw_version']),\n",
    "                    manufacturer=\"Axona\"\n",
    "                ),\n",
    "            ElectrodeGroup=dict(\n",
    "                name='Group0',\n",
    "                location='',\n",
    "                device='',\n",
    "                description=\"Group0 - all electrodes grouped together.\",\n",
    "            ),\n",
    "            #ElectrodeGroup=[\n",
    "            #    dict(\n",
    "            #        name=f'Group{group_name}',\n",
    "            #        location='',\n",
    "            #        device='',\n",
    "            #        description=f\"Group {group_name} electrodes.\",\n",
    "            #    )\n",
    "            #    for group_name in unique_elec_group_names\n",
    "            #],\n",
    "            # Electrodes is not in the metadata_schema by default... \n",
    "            #Electrodes=[\n",
    "            #    dict(\n",
    "            #        name='group_name',\n",
    "            #        description=\"The name of the ElectrodeGroup this electrode is a part of.\",\n",
    "            #        data=[f\"Group{x}\" for x in elec_group_names]\n",
    "            #    )\n",
    "            #],\n",
    "            ElectricalSeries=dict(\n",
    "                name='ElectricalSeries',\n",
    "                description=\"Raw acquisition traces.\"\n",
    "            )\n",
    "        )\n",
    "  \n",
    "        return metadata"
   ]
  },
  {
   "cell_type": "code",
   "execution_count": 19,
   "metadata": {},
   "outputs": [],
   "source": [
    "RXI = AxonaRecordingExtractorInterface(filename=filename)"
   ]
  },
  {
   "cell_type": "code",
   "execution_count": 20,
   "metadata": {},
   "outputs": [
    {
     "data": {
      "text/plain": [
       "{'NWBFile': {'session_start_time': '2020-10-04T11:07:07',\n",
       "  'session_description': '',\n",
       "  'identifier': 'AA080MF5I2JC',\n",
       "  'experimenter': ['Abid']},\n",
       " 'Ecephys': {'Device': {'name': 'Axona',\n",
       "   'description': 'Axona DacqUSB, sw_version=1.2.2.16',\n",
       "   'manufacturer': 'Axona'},\n",
       "  'ElectrodeGroup': {'name': 'Group0',\n",
       "   'location': '',\n",
       "   'device': '',\n",
       "   'description': 'Group0 - all electrodes grouped together.'},\n",
       "  'ElectricalSeries': {'name': 'ElectricalSeries',\n",
       "   'description': 'Raw acquisition traces.'}}}"
      ]
     },
     "execution_count": 20,
     "metadata": {},
     "output_type": "execute_result"
    }
   ],
   "source": [
    "RXI.get_metadata()"
   ]
  },
  {
   "cell_type": "code",
   "execution_count": 21,
   "metadata": {},
   "outputs": [],
   "source": [
    "base_metadata_schema = RXI.get_metadata_schema()"
   ]
  },
  {
   "cell_type": "code",
   "execution_count": 22,
   "metadata": {},
   "outputs": [
    {
     "name": "stdout",
     "output_type": "stream",
     "text": [
      "{\n",
      "  \"required\": [],\n",
      "  \"properties\": {\n",
      "    \"Ecephys\": {\n",
      "      \"required\": [\n",
      "        \"Device\",\n",
      "        \"ElectrodeGroup\",\n",
      "        \"ElectricalSeries\"\n",
      "      ],\n",
      "      \"properties\": {\n",
      "        \"Device\": {\n",
      "          \"required\": [\n",
      "            \"name\"\n",
      "          ],\n",
      "          \"properties\": {\n",
      "            \"name\": {\n",
      "              \"description\": \"the name of this device\",\n",
      "              \"type\": \"string\",\n",
      "              \"default\": \"Axona\"\n",
      "            },\n",
      "            \"description\": {\n",
      "              \"description\": \"Description of the device (e.g., model, firmware version, processing software version, etc.)\",\n",
      "              \"type\": \"string\",\n",
      "              \"default\": \"Axona DacqUSB, sw_version=1.2.2.16\"\n",
      "            },\n",
      "            \"manufacturer\": {\n",
      "              \"description\": \"the name of the manufacturer of this device\",\n",
      "              \"type\": \"string\",\n",
      "              \"default\": \"Axona\"\n",
      "            }\n",
      "          },\n",
      "          \"type\": \"object\",\n",
      "          \"additionalProperties\": false,\n",
      "          \"tag\": \"pynwb.device.Device\"\n",
      "        },\n",
      "        \"ElectrodeGroup\": {\n",
      "          \"required\": [\n",
      "            \"name\",\n",
      "            \"description\",\n",
      "            \"location\",\n",
      "            \"device\"\n",
      "          ],\n",
      "          \"properties\": {\n",
      "            \"name\": {\n",
      "              \"description\": \"the name of this electrode\",\n",
      "              \"type\": \"string\",\n",
      "              \"default\": \"Group0\"\n",
      "            },\n",
      "            \"description\": {\n",
      "              \"description\": \"description of this electrode group\",\n",
      "              \"type\": \"string\",\n",
      "              \"default\": \"Group0 - all electrodes grouped together.\"\n",
      "            },\n",
      "            \"location\": {\n",
      "              \"description\": \"description of location of this electrode group\",\n",
      "              \"type\": \"string\",\n",
      "              \"default\": \"\"\n",
      "            },\n",
      "            \"device\": {\n",
      "              \"description\": \"the device that was used to record from this electrode group\",\n",
      "              \"type\": \"string\",\n",
      "              \"target\": \"pynwb.device.Device\",\n",
      "              \"default\": \"\"\n",
      "            }\n",
      "          },\n",
      "          \"type\": \"object\",\n",
      "          \"additionalProperties\": false,\n",
      "          \"tag\": \"pynwb.ecephys.ElectrodeGroup\"\n",
      "        },\n",
      "        \"ElectricalSeries\": {\n",
      "          \"required\": [\n",
      "            \"name\"\n",
      "          ],\n",
      "          \"properties\": {\n",
      "            \"name\": {\n",
      "              \"description\": \"The name of this TimeSeries dataset\",\n",
      "              \"type\": \"string\",\n",
      "              \"default\": \"ElectricalSeries\"\n",
      "            },\n",
      "            \"resolution\": {\n",
      "              \"description\": \"The smallest meaningful difference (in specified unit) between values in data\",\n",
      "              \"type\": \"number\",\n",
      "              \"default\": -1.0\n",
      "            },\n",
      "            \"conversion\": {\n",
      "              \"description\": \"Scalar to multiply each element in data to convert it to the specified unit\",\n",
      "              \"type\": \"number\",\n",
      "              \"default\": 1.0\n",
      "            },\n",
      "            \"starting_time\": {\n",
      "              \"description\": \"The timestamp of the first sample\",\n",
      "              \"type\": \"number\"\n",
      "            },\n",
      "            \"rate\": {\n",
      "              \"description\": \"Sampling rate in Hz\",\n",
      "              \"type\": \"number\"\n",
      "            },\n",
      "            \"comments\": {\n",
      "              \"description\": \"Human-readable comments about this TimeSeries dataset\",\n",
      "              \"type\": \"string\",\n",
      "              \"default\": \"no comments\"\n",
      "            },\n",
      "            \"description\": {\n",
      "              \"description\": \"Description of this TimeSeries dataset\",\n",
      "              \"type\": \"string\",\n",
      "              \"default\": \"Raw acquisition traces.\"\n",
      "            }\n",
      "          },\n",
      "          \"type\": \"object\",\n",
      "          \"additionalProperties\": false,\n",
      "          \"tag\": \"pynwb.ecephys.ElectricalSeries\"\n",
      "        }\n",
      "      },\n",
      "      \"type\": \"object\",\n",
      "      \"additionalProperties\": false,\n",
      "      \"tag\": \"Ecephys\"\n",
      "    }\n",
      "  },\n",
      "  \"type\": \"object\",\n",
      "  \"additionalProperties\": false,\n",
      "  \"$schema\": \"http://json-schema.org/draft-07/schema#\",\n",
      "  \"$id\": \"metadata.schema.json\",\n",
      "  \"title\": \"Metadata\",\n",
      "  \"description\": \"Schema for the metadata\",\n",
      "  \"version\": \"0.1.0\"\n",
      "}\n"
     ]
    }
   ],
   "source": [
    "import json\n",
    "print(json.dumps(base_metadata_schema, indent=2))"
   ]
  },
  {
   "cell_type": "code",
   "execution_count": 23,
   "metadata": {},
   "outputs": [
    {
     "name": "stdout",
     "output_type": "stream",
     "text": [
      "validation FAILED\n"
     ]
    }
   ],
   "source": [
    "# The metadata_schema does not validate with the metadata, bc\n",
    "# the full metadata_schema is only inherited when defining the\n",
    "# nwbconverter (see below).\n",
    "\n",
    "from jsonschema import validate, ValidationError\n",
    "\n",
    "try:\n",
    "    validate(\n",
    "        instance=RXI.get_metadata(),\n",
    "        schema=RXI.get_metadata_schema()\n",
    "    )\n",
    "    print('validation SUCCESS')\n",
    "except ValidationError:\n",
    "    print('validation FAILED')"
   ]
  },
  {
   "cell_type": "code",
   "execution_count": 24,
   "metadata": {},
   "outputs": [],
   "source": [
    "# So let's create an AxonaNWBconverter\n",
    "\n",
    "# Here we will also import all necessary datainterfaces\n",
    "from nwb_conversion_tools import (\n",
    "    NWBConverter\n",
    ")\n",
    "\n",
    "\n",
    "# A separate class for each datatype\n",
    "class HussainiRawNWBConverter(NWBConverter):\n",
    "    \n",
    "    '''\n",
    "    # If I want to be able to add arbitrary additional / optional properties\n",
    "    def get_metadata_schema(cls):\n",
    "        metadata_schema = super().get_metadata_schema()\n",
    "        metadata_schema['properties']['NWBFile']['additionalProperties'] = True\n",
    "        return metadata_schema\n",
    "    '''\n",
    "    data_interface_classes = dict(\n",
    "        AxonaRecordingExtractorInterface=AxonaRecordingExtractorInterface, \n",
    "        # AxonaSortingExtractorInterface=AxonaSortingExtractorInterface\n",
    "    )"
   ]
  },
  {
   "cell_type": "code",
   "execution_count": 25,
   "metadata": {},
   "outputs": [
    {
     "name": "stdout",
     "output_type": "stream",
     "text": [
      "{\n",
      "  \"AxonaRecordingExtractorInterface\": {\n",
      "    \"required\": [\n",
      "      \"filename\"\n",
      "    ],\n",
      "    \"properties\": {\n",
      "      \"filename\": {\n",
      "        \"type\": \"string\",\n",
      "        \"format\": \"file\",\n",
      "        \"description\": \"Path to Axona files.\"\n",
      "      }\n",
      "    },\n",
      "    \"type\": \"object\",\n",
      "    \"additionalProperties\": true\n",
      "  }\n",
      "}\n"
     ]
    }
   ],
   "source": [
    "# Get source_schema from converter\n",
    "\n",
    "source_schema = HussainiRawNWBConverter.get_source_schema()\n",
    "print(json.dumps(source_schema['properties'], indent=2))"
   ]
  },
  {
   "cell_type": "code",
   "execution_count": 26,
   "metadata": {},
   "outputs": [
    {
     "name": "stdout",
     "output_type": "stream",
     "text": [
      "{\n",
      "  \"AxonaRecordingExtractorInterface\": {\n",
      "    \"filename\": \"/mnt/d/freelance-work/catalyst-neuro/hussaini-lab-to-nwb/example_data_raw/axona_raw_5s\"\n",
      "  }\n",
      "}\n"
     ]
    }
   ],
   "source": [
    "# Define source data (required for instantiating converter)\n",
    "\n",
    "# TODO add sortingextractor\n",
    "source_data = dict(\n",
    "    AxonaRecordingExtractorInterface=dict(\n",
    "        filename=filename\n",
    "    )\n",
    ")\n",
    "\n",
    "print(json.dumps(source_data, indent=2))"
   ]
  },
  {
   "cell_type": "code",
   "execution_count": 27,
   "metadata": {},
   "outputs": [],
   "source": [
    "# Instantiate Hussaini-lab converter\n",
    "\n",
    "converter = HussainiRawNWBConverter(source_data=source_data)"
   ]
  },
  {
   "cell_type": "code",
   "execution_count": 28,
   "metadata": {},
   "outputs": [
    {
     "name": "stdout",
     "output_type": "stream",
     "text": [
      "{\n",
      "  \"NWBFile\": {\n",
      "    \"required\": [\n",
      "      \"session_description\",\n",
      "      \"identifier\",\n",
      "      \"session_start_time\"\n",
      "    ],\n",
      "    \"properties\": {\n",
      "      \"session_description\": {\n",
      "        \"type\": \"string\",\n",
      "        \"format\": \"long\",\n",
      "        \"description\": \"a description of the session where this data was generated\",\n",
      "        \"default\": \"\"\n",
      "      },\n",
      "      \"identifier\": {\n",
      "        \"type\": \"string\",\n",
      "        \"description\": \"a unique text identifier for the file\",\n",
      "        \"default\": \"1UTWTCMZBFMR\"\n",
      "      },\n",
      "      \"session_start_time\": {\n",
      "        \"type\": \"string\",\n",
      "        \"description\": \"the start date and time of the recording session\",\n",
      "        \"format\": \"date-time\",\n",
      "        \"default\": \"2020-10-04T11:07:07\"\n",
      "      },\n",
      "      \"experimenter\": {\n",
      "        \"type\": \"array\",\n",
      "        \"items\": {\n",
      "          \"type\": \"string\",\n",
      "          \"title\": \"experimenter\"\n",
      "        },\n",
      "        \"description\": \"name of person who performed experiment\",\n",
      "        \"default\": [\n",
      "          \"Abid\"\n",
      "        ]\n",
      "      },\n",
      "      \"experiment_description\": {\n",
      "        \"type\": \"string\",\n",
      "        \"description\": \"general description of the experiment\"\n",
      "      },\n",
      "      \"session_id\": {\n",
      "        \"type\": \"string\",\n",
      "        \"description\": \"lab-specific ID for the session\"\n",
      "      },\n",
      "      \"institution\": {\n",
      "        \"type\": \"string\",\n",
      "        \"description\": \"institution(s) where experiment is performed\"\n",
      "      },\n",
      "      \"notes\": {\n",
      "        \"type\": \"string\",\n",
      "        \"description\": \"Notes about the experiment.\"\n",
      "      },\n",
      "      \"pharmacology\": {\n",
      "        \"type\": \"string\",\n",
      "        \"description\": \"Description of drugs used, including how and when they were administered. Anesthesia(s), painkiller(s), etc., plus dosage, concentration, etc.\"\n",
      "      },\n",
      "      \"protocol\": {\n",
      "        \"type\": \"string\",\n",
      "        \"description\": \"Experimental protocol, if applicable. E.g., include IACUC protocol\"\n",
      "      },\n",
      "      \"related_publications\": {\n",
      "        \"type\": \"string\",\n",
      "        \"description\": \"Publication information.PMID, DOI, URL, etc. If multiple, concatenate together and describe which is which. such as PMID, DOI, URL, etc\"\n",
      "      },\n",
      "      \"slices\": {\n",
      "        \"type\": \"string\",\n",
      "        \"description\": \"Description of slices, including information about preparation thickness, orientation, temperature and bath solution\"\n",
      "      },\n",
      "      \"source_script\": {\n",
      "        \"type\": \"string\",\n",
      "        \"description\": \"Script file used to create this NWB file.\"\n",
      "      },\n",
      "      \"source_script_file_name\": {\n",
      "        \"type\": \"string\",\n",
      "        \"description\": \"Name of the source_script file\"\n",
      "      },\n",
      "      \"data_collection\": {\n",
      "        \"type\": \"string\",\n",
      "        \"description\": \"Notes about data collection and analysis.\"\n",
      "      },\n",
      "      \"surgery\": {\n",
      "        \"type\": \"string\",\n",
      "        \"description\": \"Narrative description about surgery/surgeries, including date(s) and who performed surgery.\"\n",
      "      },\n",
      "      \"virus\": {\n",
      "        \"type\": \"string\",\n",
      "        \"description\": \"Information about virus(es) used in experiments, including virus ID, source, date made, injection location, volume, etc.\"\n",
      "      },\n",
      "      \"stimulus_notes\": {\n",
      "        \"type\": \"string\",\n",
      "        \"description\": \"Notes about stimuli, such as how and where presented.\"\n",
      "      },\n",
      "      \"lab\": {\n",
      "        \"type\": \"string\",\n",
      "        \"description\": \"lab where experiment was performed\"\n",
      "      }\n",
      "    },\n",
      "    \"type\": \"object\",\n",
      "    \"additionalProperties\": false,\n",
      "    \"tag\": \"pynwb.file.NWBFile\"\n",
      "  },\n",
      "  \"Subject\": {\n",
      "    \"required\": [],\n",
      "    \"properties\": {\n",
      "      \"age\": {\n",
      "        \"description\": \"the age of the subject\",\n",
      "        \"type\": \"string\"\n",
      "      },\n",
      "      \"description\": {\n",
      "        \"description\": \"a description of the subject\",\n",
      "        \"type\": \"string\"\n",
      "      },\n",
      "      \"genotype\": {\n",
      "        \"description\": \"the genotype of the subject\",\n",
      "        \"type\": \"string\"\n",
      "      },\n",
      "      \"sex\": {\n",
      "        \"description\": \"the sex of the subject\",\n",
      "        \"type\": \"string\"\n",
      "      },\n",
      "      \"species\": {\n",
      "        \"description\": \"the species of the subject\",\n",
      "        \"type\": \"string\"\n",
      "      },\n",
      "      \"subject_id\": {\n",
      "        \"description\": \"a unique identifier for the subject\",\n",
      "        \"type\": \"string\"\n",
      "      },\n",
      "      \"weight\": {\n",
      "        \"description\": \"the weight of the subject\",\n",
      "        \"type\": \"string\"\n",
      "      },\n",
      "      \"date_of_birth\": {\n",
      "        \"description\": \"datetime of date of birth. May be supplied instead of age.\",\n",
      "        \"type\": \"string\",\n",
      "        \"format\": \"date-time\"\n",
      "      }\n",
      "    },\n",
      "    \"type\": \"object\",\n",
      "    \"additionalProperties\": false,\n",
      "    \"tag\": \"pynwb.file.Subject\"\n",
      "  },\n",
      "  \"Ecephys\": {\n",
      "    \"required\": [\n",
      "      \"ElectricalSeries\",\n",
      "      \"ElectrodeGroup\",\n",
      "      \"Device\"\n",
      "    ],\n",
      "    \"properties\": {\n",
      "      \"Device\": {\n",
      "        \"required\": [\n",
      "          \"name\"\n",
      "        ],\n",
      "        \"properties\": {\n",
      "          \"name\": {\n",
      "            \"description\": \"the name of this device\",\n",
      "            \"type\": \"string\",\n",
      "            \"default\": \"Axona\"\n",
      "          },\n",
      "          \"description\": {\n",
      "            \"description\": \"Description of the device (e.g., model, firmware version, processing software version, etc.)\",\n",
      "            \"type\": \"string\",\n",
      "            \"default\": \"Axona DacqUSB, sw_version=1.2.2.16\"\n",
      "          },\n",
      "          \"manufacturer\": {\n",
      "            \"description\": \"the name of the manufacturer of this device\",\n",
      "            \"type\": \"string\",\n",
      "            \"default\": \"Axona\"\n",
      "          }\n",
      "        },\n",
      "        \"type\": \"object\",\n",
      "        \"additionalProperties\": false,\n",
      "        \"tag\": \"pynwb.device.Device\"\n",
      "      },\n",
      "      \"ElectrodeGroup\": {\n",
      "        \"required\": [\n",
      "          \"device\",\n",
      "          \"location\",\n",
      "          \"description\",\n",
      "          \"name\"\n",
      "        ],\n",
      "        \"properties\": {\n",
      "          \"name\": {\n",
      "            \"description\": \"the name of this electrode\",\n",
      "            \"type\": \"string\",\n",
      "            \"default\": \"Group0\"\n",
      "          },\n",
      "          \"description\": {\n",
      "            \"description\": \"description of this electrode group\",\n",
      "            \"type\": \"string\",\n",
      "            \"default\": \"Group0 - all electrodes grouped together.\"\n",
      "          },\n",
      "          \"location\": {\n",
      "            \"description\": \"description of location of this electrode group\",\n",
      "            \"type\": \"string\",\n",
      "            \"default\": \"\"\n",
      "          },\n",
      "          \"device\": {\n",
      "            \"description\": \"the device that was used to record from this electrode group\",\n",
      "            \"type\": \"string\",\n",
      "            \"target\": \"pynwb.device.Device\",\n",
      "            \"default\": \"\"\n",
      "          }\n",
      "        },\n",
      "        \"type\": \"object\",\n",
      "        \"additionalProperties\": false,\n",
      "        \"tag\": \"pynwb.ecephys.ElectrodeGroup\"\n",
      "      },\n",
      "      \"ElectricalSeries\": {\n",
      "        \"required\": [\n",
      "          \"name\"\n",
      "        ],\n",
      "        \"properties\": {\n",
      "          \"name\": {\n",
      "            \"description\": \"The name of this TimeSeries dataset\",\n",
      "            \"type\": \"string\",\n",
      "            \"default\": \"ElectricalSeries\"\n",
      "          },\n",
      "          \"resolution\": {\n",
      "            \"description\": \"The smallest meaningful difference (in specified unit) between values in data\",\n",
      "            \"type\": \"number\",\n",
      "            \"default\": -1.0\n",
      "          },\n",
      "          \"conversion\": {\n",
      "            \"description\": \"Scalar to multiply each element in data to convert it to the specified unit\",\n",
      "            \"type\": \"number\",\n",
      "            \"default\": 1.0\n",
      "          },\n",
      "          \"starting_time\": {\n",
      "            \"description\": \"The timestamp of the first sample\",\n",
      "            \"type\": \"number\"\n",
      "          },\n",
      "          \"rate\": {\n",
      "            \"description\": \"Sampling rate in Hz\",\n",
      "            \"type\": \"number\"\n",
      "          },\n",
      "          \"comments\": {\n",
      "            \"description\": \"Human-readable comments about this TimeSeries dataset\",\n",
      "            \"type\": \"string\",\n",
      "            \"default\": \"no comments\"\n",
      "          },\n",
      "          \"description\": {\n",
      "            \"description\": \"Description of this TimeSeries dataset\",\n",
      "            \"type\": \"string\",\n",
      "            \"default\": \"Raw acquisition traces.\"\n",
      "          }\n",
      "        },\n",
      "        \"type\": \"object\",\n",
      "        \"additionalProperties\": false,\n",
      "        \"tag\": \"pynwb.ecephys.ElectricalSeries\"\n",
      "      }\n",
      "    },\n",
      "    \"type\": \"object\",\n",
      "    \"additionalProperties\": false,\n",
      "    \"tag\": \"Ecephys\"\n",
      "  }\n",
      "}\n"
     ]
    }
   ],
   "source": [
    "# Get metadata_schema from converter\n",
    "\n",
    "metadata_schema = converter.get_metadata_schema()\n",
    "print(json.dumps(metadata_schema['properties'], indent=2))"
   ]
  },
  {
   "cell_type": "code",
   "execution_count": 29,
   "metadata": {},
   "outputs": [
    {
     "data": {
      "text/plain": [
       "{'NWBFile': {'session_description': '',\n",
       "  'session_start_time': '2020-10-04T11:07:07',\n",
       "  'identifier': '8BVOGGHXZT27',\n",
       "  'experimenter': ['Abid']},\n",
       " 'Ecephys': {'Device': {'name': 'Axona',\n",
       "   'description': 'Axona DacqUSB, sw_version=1.2.2.16',\n",
       "   'manufacturer': 'Axona'},\n",
       "  'ElectrodeGroup': {'name': 'Group0',\n",
       "   'location': '',\n",
       "   'device': '',\n",
       "   'description': 'Group0 - all electrodes grouped together.'},\n",
       "  'ElectricalSeries': {'name': 'ElectricalSeries',\n",
       "   'description': 'Raw acquisition traces.'}}}"
      ]
     },
     "execution_count": 29,
     "metadata": {},
     "output_type": "execute_result"
    }
   ],
   "source": [
    "metadata = converter.get_metadata()\n",
    "metadata"
   ]
  },
  {
   "cell_type": "code",
   "execution_count": 30,
   "metadata": {},
   "outputs": [
    {
     "data": {
      "text/plain": [
       "{'Device': {'name': 'Axona',\n",
       "  'description': 'Axona DacqUSB, sw_version=1.2.2.16',\n",
       "  'manufacturer': 'Axona'},\n",
       " 'ElectrodeGroup': {'name': 'Group0',\n",
       "  'location': '',\n",
       "  'device': '',\n",
       "  'description': 'Group0 - all electrodes grouped together.'},\n",
       " 'ElectricalSeries': {'name': 'ElectricalSeries',\n",
       "  'description': 'Raw acquisition traces.'}}"
      ]
     },
     "execution_count": 30,
     "metadata": {},
     "output_type": "execute_result"
    }
   ],
   "source": [
    "metadata['Ecephys']"
   ]
  },
  {
   "cell_type": "code",
   "execution_count": 31,
   "metadata": {
    "scrolled": true
   },
   "outputs": [],
   "source": [
    "# Validate metadata with metadata_schema from nwbconverter\n",
    "\n",
    "validate(\n",
    "    instance=converter.get_metadata(),\n",
    "    schema=converter.get_metadata_schema()\n",
    ")"
   ]
  },
  {
   "cell_type": "code",
   "execution_count": null,
   "metadata": {},
   "outputs": [],
   "source": []
  },
  {
   "cell_type": "markdown",
   "metadata": {},
   "source": [
    "## Test axonadatainterface from nwb_conversion_tools"
   ]
  },
  {
   "cell_type": "code",
   "execution_count": 13,
   "metadata": {},
   "outputs": [],
   "source": [
    "import json\n",
    "from jsonschema import validate"
   ]
  },
  {
   "cell_type": "code",
   "execution_count": 14,
   "metadata": {},
   "outputs": [
    {
     "name": "stdout",
     "output_type": "stream",
     "text": [
      "/mnt/d/freelance-work/catalyst-neuro/hussaini-lab-to-nwb/example_data_raw/axona_raw_5s\n"
     ]
    }
   ],
   "source": [
    "import os\n",
    "\n",
    "dir_name = r'/mnt/d/freelance-work/catalyst-neuro/hussaini-lab-to-nwb/example_data_raw'\n",
    "base_filename = 'axona_raw_5s'\n",
    "filename = os.path.join(dir_name, base_filename)\n",
    "print(filename)"
   ]
  },
  {
   "cell_type": "code",
   "execution_count": 15,
   "metadata": {},
   "outputs": [],
   "source": [
    "#from nwb_conversion_tools import axonadatainterface"
   ]
  },
  {
   "cell_type": "code",
   "execution_count": 16,
   "metadata": {},
   "outputs": [],
   "source": [
    "from nwb_conversion_tools import (\n",
    "    NWBConverter, AxonaRecordingExtractorInterface\n",
    ")"
   ]
  },
  {
   "cell_type": "code",
   "execution_count": 17,
   "metadata": {},
   "outputs": [
    {
     "name": "stdout",
     "output_type": "stream",
     "text": [
      "total 0\r\n",
      "-rwxrwxrwx 1 steburg steburg   65 Apr  5 11:54 \u001b[0m\u001b[01;32m__init__.py\u001b[0m*\r\n",
      "drwxrwxrwx 1 steburg steburg 4096 Apr  8 17:51 \u001b[34;42m__pycache__\u001b[0m/\r\n",
      "-rwxrwxrwx 1 steburg steburg  256 Apr  8 17:50 \u001b[01;32mhussaininwbconverter.py\u001b[0m*\r\n"
     ]
    }
   ],
   "source": [
    "ls /mnt/d/spikeinterface/hussaini-lab-to-nwb/hussaini_lab_to_nwb -l"
   ]
  },
  {
   "cell_type": "code",
   "execution_count": 18,
   "metadata": {},
   "outputs": [],
   "source": [
    "import sys\n",
    "sys.path.append('/mnt/d/spikeinterface/hussaini-lab-to-nwb/hussaini_lab_to_nwb')"
   ]
  },
  {
   "cell_type": "code",
   "execution_count": 19,
   "metadata": {},
   "outputs": [],
   "source": [
    "from hussaininwbconverter import HussainiNWBConverter"
   ]
  },
  {
   "cell_type": "code",
   "execution_count": 20,
   "metadata": {
    "scrolled": false
   },
   "outputs": [
    {
     "name": "stdout",
     "output_type": "stream",
     "text": [
      "{\n",
      "  \"AxonaRecordingExtractorInterface\": {\n",
      "    \"required\": [\n",
      "      \"filename\"\n",
      "    ],\n",
      "    \"properties\": {\n",
      "      \"filename\": {\n",
      "        \"type\": \"string\",\n",
      "        \"format\": \"file\",\n",
      "        \"description\": \"Path to Axona files.\"\n",
      "      }\n",
      "    },\n",
      "    \"type\": \"object\",\n",
      "    \"additionalProperties\": true\n",
      "  }\n",
      "}\n"
     ]
    }
   ],
   "source": [
    "# Get source_schema from converter\n",
    "\n",
    "source_schema = HussainiNWBConverter.get_source_schema()\n",
    "print(json.dumps(source_schema['properties'], indent=2))"
   ]
  },
  {
   "cell_type": "code",
   "execution_count": 21,
   "metadata": {},
   "outputs": [
    {
     "name": "stdout",
     "output_type": "stream",
     "text": [
      "{\n",
      "  \"AxonaRecordingExtractorInterface\": {\n",
      "    \"filename\": \"/mnt/d/freelance-work/catalyst-neuro/hussaini-lab-to-nwb/example_data_raw/axona_raw_5s\"\n",
      "  }\n",
      "}\n"
     ]
    }
   ],
   "source": [
    "source_data = dict(\n",
    "    AxonaRecordingExtractorInterface=dict(\n",
    "        filename=filename\n",
    "    )\n",
    ")\n",
    "print(json.dumps(source_data, indent=2))"
   ]
  },
  {
   "cell_type": "code",
   "execution_count": 22,
   "metadata": {},
   "outputs": [],
   "source": [
    "# Instantiate Hussaini-lab converter\n",
    "\n",
    "converter = HussainiNWBConverter(source_data=source_data)"
   ]
  },
  {
   "cell_type": "code",
   "execution_count": 23,
   "metadata": {},
   "outputs": [
    {
     "name": "stdout",
     "output_type": "stream",
     "text": [
      "{\n",
      "  \"NWBFile\": {\n",
      "    \"required\": [\n",
      "      \"session_description\",\n",
      "      \"identifier\",\n",
      "      \"session_start_time\"\n",
      "    ],\n",
      "    \"properties\": {\n",
      "      \"session_description\": {\n",
      "        \"type\": \"string\",\n",
      "        \"format\": \"long\",\n",
      "        \"description\": \"a description of the session where this data was generated\",\n",
      "        \"default\": \"\"\n",
      "      },\n",
      "      \"identifier\": {\n",
      "        \"type\": \"string\",\n",
      "        \"description\": \"a unique text identifier for the file\",\n",
      "        \"default\": \"VQOB7HEDJH54\"\n",
      "      },\n",
      "      \"session_start_time\": {\n",
      "        \"type\": \"string\",\n",
      "        \"description\": \"the start date and time of the recording session\",\n",
      "        \"format\": \"date-time\",\n",
      "        \"default\": \"2020-10-04T11:07:07\"\n",
      "      },\n",
      "      \"experimenter\": {\n",
      "        \"type\": \"array\",\n",
      "        \"items\": {\n",
      "          \"type\": \"string\",\n",
      "          \"title\": \"experimenter\"\n",
      "        },\n",
      "        \"description\": \"name of person who performed experiment\",\n",
      "        \"default\": [\n",
      "          \"Abid\"\n",
      "        ]\n",
      "      },\n",
      "      \"experiment_description\": {\n",
      "        \"type\": \"string\",\n",
      "        \"description\": \"general description of the experiment\"\n",
      "      },\n",
      "      \"session_id\": {\n",
      "        \"type\": \"string\",\n",
      "        \"description\": \"lab-specific ID for the session\"\n",
      "      },\n",
      "      \"institution\": {\n",
      "        \"type\": \"string\",\n",
      "        \"description\": \"institution(s) where experiment is performed\"\n",
      "      },\n",
      "      \"notes\": {\n",
      "        \"type\": \"string\",\n",
      "        \"description\": \"Notes about the experiment.\"\n",
      "      },\n",
      "      \"pharmacology\": {\n",
      "        \"type\": \"string\",\n",
      "        \"description\": \"Description of drugs used, including how and when they were administered. Anesthesia(s), painkiller(s), etc., plus dosage, concentration, etc.\"\n",
      "      },\n",
      "      \"protocol\": {\n",
      "        \"type\": \"string\",\n",
      "        \"description\": \"Experimental protocol, if applicable. E.g., include IACUC protocol\"\n",
      "      },\n",
      "      \"related_publications\": {\n",
      "        \"type\": \"string\",\n",
      "        \"description\": \"Publication information.PMID, DOI, URL, etc. If multiple, concatenate together and describe which is which. such as PMID, DOI, URL, etc\"\n",
      "      },\n",
      "      \"slices\": {\n",
      "        \"type\": \"string\",\n",
      "        \"description\": \"Description of slices, including information about preparation thickness, orientation, temperature and bath solution\"\n",
      "      },\n",
      "      \"source_script\": {\n",
      "        \"type\": \"string\",\n",
      "        \"description\": \"Script file used to create this NWB file.\"\n",
      "      },\n",
      "      \"source_script_file_name\": {\n",
      "        \"type\": \"string\",\n",
      "        \"description\": \"Name of the source_script file\"\n",
      "      },\n",
      "      \"data_collection\": {\n",
      "        \"type\": \"string\",\n",
      "        \"description\": \"Notes about data collection and analysis.\"\n",
      "      },\n",
      "      \"surgery\": {\n",
      "        \"type\": \"string\",\n",
      "        \"description\": \"Narrative description about surgery/surgeries, including date(s) and who performed surgery.\"\n",
      "      },\n",
      "      \"virus\": {\n",
      "        \"type\": \"string\",\n",
      "        \"description\": \"Information about virus(es) used in experiments, including virus ID, source, date made, injection location, volume, etc.\"\n",
      "      },\n",
      "      \"stimulus_notes\": {\n",
      "        \"type\": \"string\",\n",
      "        \"description\": \"Notes about stimuli, such as how and where presented.\"\n",
      "      },\n",
      "      \"lab\": {\n",
      "        \"type\": \"string\",\n",
      "        \"description\": \"lab where experiment was performed\"\n",
      "      }\n",
      "    },\n",
      "    \"type\": \"object\",\n",
      "    \"additionalProperties\": false,\n",
      "    \"tag\": \"pynwb.file.NWBFile\"\n",
      "  },\n",
      "  \"Subject\": {\n",
      "    \"required\": [],\n",
      "    \"properties\": {\n",
      "      \"age\": {\n",
      "        \"description\": \"the age of the subject\",\n",
      "        \"type\": \"string\"\n",
      "      },\n",
      "      \"description\": {\n",
      "        \"description\": \"a description of the subject\",\n",
      "        \"type\": \"string\"\n",
      "      },\n",
      "      \"genotype\": {\n",
      "        \"description\": \"the genotype of the subject\",\n",
      "        \"type\": \"string\"\n",
      "      },\n",
      "      \"sex\": {\n",
      "        \"description\": \"the sex of the subject\",\n",
      "        \"type\": \"string\"\n",
      "      },\n",
      "      \"species\": {\n",
      "        \"description\": \"the species of the subject\",\n",
      "        \"type\": \"string\"\n",
      "      },\n",
      "      \"subject_id\": {\n",
      "        \"description\": \"a unique identifier for the subject\",\n",
      "        \"type\": \"string\"\n",
      "      },\n",
      "      \"weight\": {\n",
      "        \"description\": \"the weight of the subject\",\n",
      "        \"type\": \"string\"\n",
      "      },\n",
      "      \"date_of_birth\": {\n",
      "        \"description\": \"datetime of date of birth. May be supplied instead of age.\",\n",
      "        \"type\": \"string\",\n",
      "        \"format\": \"date-time\"\n",
      "      }\n",
      "    },\n",
      "    \"type\": \"object\",\n",
      "    \"additionalProperties\": false,\n",
      "    \"tag\": \"pynwb.file.Subject\"\n",
      "  },\n",
      "  \"Ecephys\": {\n",
      "    \"required\": [\n",
      "      \"Device\",\n",
      "      \"ElectricalSeries\",\n",
      "      \"ElectrodeGroup\"\n",
      "    ],\n",
      "    \"properties\": {\n",
      "      \"Device\": {\n",
      "        \"required\": [\n",
      "          \"name\"\n",
      "        ],\n",
      "        \"properties\": {\n",
      "          \"name\": {\n",
      "            \"description\": \"the name of this device\",\n",
      "            \"type\": \"string\",\n",
      "            \"default\": \"Axona\"\n",
      "          },\n",
      "          \"description\": {\n",
      "            \"description\": \"Description of the device (e.g., model, firmware version, processing software version, etc.)\",\n",
      "            \"type\": \"string\",\n",
      "            \"default\": \"Axona DacqUSB, sw_version=1.2.2.16\"\n",
      "          },\n",
      "          \"manufacturer\": {\n",
      "            \"description\": \"the name of the manufacturer of this device\",\n",
      "            \"type\": \"string\",\n",
      "            \"default\": \"Axona\"\n",
      "          }\n",
      "        },\n",
      "        \"type\": \"object\",\n",
      "        \"additionalProperties\": false,\n",
      "        \"tag\": \"pynwb.device.Device\"\n",
      "      },\n",
      "      \"ElectrodeGroup\": {\n",
      "        \"required\": [\n",
      "          \"name\",\n",
      "          \"device\",\n",
      "          \"location\",\n",
      "          \"description\"\n",
      "        ],\n",
      "        \"properties\": {\n",
      "          \"name\": {\n",
      "            \"description\": \"the name of this electrode\",\n",
      "            \"type\": \"string\",\n",
      "            \"default\": \"Group0\"\n",
      "          },\n",
      "          \"description\": {\n",
      "            \"description\": \"description of this electrode group\",\n",
      "            \"type\": \"string\",\n",
      "            \"default\": \"Group0 - all electrodes grouped together.\"\n",
      "          },\n",
      "          \"location\": {\n",
      "            \"description\": \"description of location of this electrode group\",\n",
      "            \"type\": \"string\",\n",
      "            \"default\": \"\"\n",
      "          },\n",
      "          \"device\": {\n",
      "            \"description\": \"the device that was used to record from this electrode group\",\n",
      "            \"type\": \"string\",\n",
      "            \"target\": \"pynwb.device.Device\",\n",
      "            \"default\": \"\"\n",
      "          }\n",
      "        },\n",
      "        \"type\": \"object\",\n",
      "        \"additionalProperties\": false,\n",
      "        \"tag\": \"pynwb.ecephys.ElectrodeGroup\"\n",
      "      },\n",
      "      \"ElectricalSeries\": {\n",
      "        \"required\": [\n",
      "          \"name\"\n",
      "        ],\n",
      "        \"properties\": {\n",
      "          \"name\": {\n",
      "            \"description\": \"The name of this TimeSeries dataset\",\n",
      "            \"type\": \"string\",\n",
      "            \"default\": \"ElectricalSeries\"\n",
      "          },\n",
      "          \"resolution\": {\n",
      "            \"description\": \"The smallest meaningful difference (in specified unit) between values in data\",\n",
      "            \"type\": \"number\",\n",
      "            \"default\": -1.0\n",
      "          },\n",
      "          \"conversion\": {\n",
      "            \"description\": \"Scalar to multiply each element in data to convert it to the specified unit\",\n",
      "            \"type\": \"number\",\n",
      "            \"default\": 1.0\n",
      "          },\n",
      "          \"starting_time\": {\n",
      "            \"description\": \"The timestamp of the first sample\",\n",
      "            \"type\": \"number\"\n",
      "          },\n",
      "          \"rate\": {\n",
      "            \"description\": \"Sampling rate in Hz\",\n",
      "            \"type\": \"number\"\n",
      "          },\n",
      "          \"comments\": {\n",
      "            \"description\": \"Human-readable comments about this TimeSeries dataset\",\n",
      "            \"type\": \"string\",\n",
      "            \"default\": \"no comments\"\n",
      "          },\n",
      "          \"description\": {\n",
      "            \"description\": \"Description of this TimeSeries dataset\",\n",
      "            \"type\": \"string\",\n",
      "            \"default\": \"Raw acquisition traces.\"\n",
      "          }\n",
      "        },\n",
      "        \"type\": \"object\",\n",
      "        \"additionalProperties\": false,\n",
      "        \"tag\": \"pynwb.ecephys.ElectricalSeries\"\n",
      "      }\n",
      "    },\n",
      "    \"type\": \"object\",\n",
      "    \"additionalProperties\": false,\n",
      "    \"tag\": \"Ecephys\"\n",
      "  }\n",
      "}\n"
     ]
    },
    {
     "data": {
      "text/plain": [
       "{'NWBFile': {'session_description': '',\n",
       "  'session_start_time': '2020-10-04T11:07:07',\n",
       "  'identifier': 'DT7C4LJRTPDZ',\n",
       "  'experimenter': ['Abid']},\n",
       " 'Ecephys': {'Device': {'name': 'Axona',\n",
       "   'description': 'Axona DacqUSB, sw_version=1.2.2.16',\n",
       "   'manufacturer': 'Axona'},\n",
       "  'ElectrodeGroup': {'name': 'Group0',\n",
       "   'location': '',\n",
       "   'device': '',\n",
       "   'description': 'Group0 - all electrodes grouped together.'},\n",
       "  'ElectricalSeries': {'name': 'ElectricalSeries',\n",
       "   'description': 'Raw acquisition traces.'}}}"
      ]
     },
     "execution_count": 23,
     "metadata": {},
     "output_type": "execute_result"
    }
   ],
   "source": [
    "# Get metadata_schema from converter\n",
    "\n",
    "metadata_schema = converter.get_metadata_schema()\n",
    "print(json.dumps(metadata_schema['properties'], indent=2))\n",
    "\n",
    "\n",
    "metadata = converter.get_metadata()\n",
    "metadata"
   ]
  },
  {
   "cell_type": "code",
   "execution_count": 24,
   "metadata": {},
   "outputs": [],
   "source": [
    "# Validate metadata with metadata_schema from nwbconverter\n",
    "\n",
    "validate(\n",
    "    instance=converter.get_metadata(),\n",
    "    schema=converter.get_metadata_schema()\n",
    ")"
   ]
  },
  {
   "cell_type": "code",
   "execution_count": null,
   "metadata": {},
   "outputs": [],
   "source": []
  },
  {
   "cell_type": "code",
   "execution_count": null,
   "metadata": {},
   "outputs": [],
   "source": []
  },
  {
   "cell_type": "markdown",
   "metadata": {},
   "source": [
    "# Movshon lab - Blackrock Converter\n",
    "This tutorial follows the step-by-step guide for a [NWB Converter](https://github.com/catalystneuro/nwb-conversion-tools/blob/master/documentation/conversion_tools_structure.md#step-by-step-operations)"
   ]
  },
  {
   "cell_type": "code",
   "execution_count": 3,
   "metadata": {},
   "outputs": [],
   "source": [
    "from hussaini_lab_to_nwb import HussainiNWBConverter\n",
    "from pynwb import NWBFile, NWBHDF5IO\n",
    "from nwbwidgets import nwb2widget\n",
    "from pathlib import Path\n",
    "import yaml\n",
    "import pprint"
   ]
  },
  {
   "cell_type": "markdown",
   "metadata": {},
   "source": [
    "## Step 1 - Converter.get_source_schema()"
   ]
  },
  {
   "cell_type": "code",
   "execution_count": 6,
   "metadata": {},
   "outputs": [
    {
     "name": "stdout",
     "output_type": "stream",
     "text": [
      "{'BlackrockRecordingExtractorInterface': {'additionalProperties': True,\n",
      "                                          'properties': {'filename': {'description': 'Path to Blackrock file.',\n",
      "                                                                      'format': 'file',\n",
      "                                                                      'type': 'string'},\n",
      "                                                         'nsx_to_load': {'type': 'number'}},\n",
      "                                          'required': ['filename'],\n",
      "                                          'type': 'object'},\n",
      " 'BlackrockSortingExtractorInterface': {'additionalProperties': True,\n",
      "                                        'properties': {'filename': {'description': 'Path to Blackrock file.',\n",
      "                                                                    'format': 'file',\n",
      "                                                                    'type': 'string'}},\n",
      "                                        'required': ['filename'],\n",
      "                                        'type': 'object'}}\n"
     ]
    }
   ],
   "source": [
    "# Get source_schema\n",
    "source_schema = HussainiNWBConverter.get_source_schema()\n",
    "pprint.pprint(source_schema['properties'], width=120)"
   ]
  },
  {
   "cell_type": "markdown",
   "metadata": {},
   "source": [
    "## Step 2 - Get user-input source_data that complies to the returned full source_schema"
   ]
  },
  {
   "cell_type": "code",
   "execution_count": 4,
   "metadata": {},
   "outputs": [
    {
     "name": "stdout",
     "output_type": "stream",
     "text": [
      "{'BlackrockRecordingExtractorInterface': {'filename': '/media/luiz/storage/taufferconsulting/client_ben/project_movshon/data/XX_LE_textures_20191128_002.ns3',\n",
      "                                          'nsx_to_load': 3},\n",
      " 'BlackrockSortingExtractorInterface': {'filename': '/media/luiz/storage/taufferconsulting/client_ben/project_movshon/data/XX_LE_textures_20191128_002.nev',\n",
      "                                        'nsx_to_load': 6}}\n"
     ]
    }
   ],
   "source": [
    "# Source data\n",
    "base_path = Path('/media/luiz/storage/taufferconsulting/client_ben/project_movshon/data/')\n",
    "file_recording = str(base_path / 'XX_LE_textures_20191128_002.ns3')\n",
    "file_sorting = str(base_path / 'XX_LE_textures_20191128_002.nev')\n",
    "\n",
    "source_data = dict(\n",
    "    BlackrockRecordingExtractorInterface=dict(\n",
    "        filename=file_recording,\n",
    "        nsx_to_load=3\n",
    "    ),\n",
    "    BlackrockSortingExtractorInterface=dict(\n",
    "        filename=file_sorting,\n",
    "        nsx_to_load=6\n",
    "    )\n",
    ")\n",
    "\n",
    "pprint.pprint(source_data, width=120)"
   ]
  },
  {
   "cell_type": "markdown",
   "metadata": {},
   "source": [
    "## Step 3 - Instantiate Converter"
   ]
  },
  {
   "cell_type": "code",
   "execution_count": 79,
   "metadata": {},
   "outputs": [
    {
     "ename": "NameError",
     "evalue": "name 'MovshonBlackrockNWBConverter' is not defined",
     "output_type": "error",
     "traceback": [
      "\u001b[0;31m---------------------------------------------------------------------------\u001b[0m",
      "\u001b[0;31mNameError\u001b[0m                                 Traceback (most recent call last)",
      "\u001b[0;32m<ipython-input-79-d8189884c86c>\u001b[0m in \u001b[0;36m<module>\u001b[0;34m\u001b[0m\n\u001b[1;32m      1\u001b[0m \u001b[0;31m# Initialize converter\u001b[0m\u001b[0;34m\u001b[0m\u001b[0;34m\u001b[0m\u001b[0;34m\u001b[0m\u001b[0m\n\u001b[0;32m----> 2\u001b[0;31m \u001b[0mconverter\u001b[0m \u001b[0;34m=\u001b[0m \u001b[0mMovshonBlackrockNWBConverter\u001b[0m\u001b[0;34m(\u001b[0m\u001b[0msource_data\u001b[0m\u001b[0;34m=\u001b[0m\u001b[0msource_data\u001b[0m\u001b[0;34m)\u001b[0m\u001b[0;34m\u001b[0m\u001b[0;34m\u001b[0m\u001b[0m\n\u001b[0m\u001b[1;32m      3\u001b[0m \u001b[0;34m\u001b[0m\u001b[0m\n\u001b[1;32m      4\u001b[0m \u001b[0mprint\u001b[0m\u001b[0;34m(\u001b[0m\u001b[0;34m'Data interfaces for this converter:'\u001b[0m\u001b[0;34m)\u001b[0m\u001b[0;34m\u001b[0m\u001b[0;34m\u001b[0m\u001b[0m\n\u001b[1;32m      5\u001b[0m \u001b[0mpprint\u001b[0m\u001b[0;34m.\u001b[0m\u001b[0mpprint\u001b[0m\u001b[0;34m(\u001b[0m\u001b[0mconverter\u001b[0m\u001b[0;34m.\u001b[0m\u001b[0mdata_interface_objects\u001b[0m\u001b[0;34m,\u001b[0m \u001b[0mwidth\u001b[0m\u001b[0;34m=\u001b[0m\u001b[0;36m120\u001b[0m\u001b[0;34m)\u001b[0m\u001b[0;34m\u001b[0m\u001b[0;34m\u001b[0m\u001b[0m\n",
      "\u001b[0;31mNameError\u001b[0m: name 'MovshonBlackrockNWBConverter' is not defined"
     ]
    }
   ],
   "source": [
    "# Initialize converter\n",
    "converter = MovshonBlackrockNWBConverter(source_data=source_data)\n",
    "\n",
    "print('Data interfaces for this converter:')\n",
    "pprint.pprint(converter.data_interface_objects, width=120)"
   ]
  },
  {
   "cell_type": "markdown",
   "metadata": {},
   "source": [
    "## Step 4 - Converter.get_metadata_schema()"
   ]
  },
  {
   "cell_type": "code",
   "execution_count": 78,
   "metadata": {
    "scrolled": false
   },
   "outputs": [
    {
     "ename": "NameError",
     "evalue": "name 'converter' is not defined",
     "output_type": "error",
     "traceback": [
      "\u001b[0;31m---------------------------------------------------------------------------\u001b[0m",
      "\u001b[0;31mNameError\u001b[0m                                 Traceback (most recent call last)",
      "\u001b[0;32m<ipython-input-78-e7f2fe3a2b2b>\u001b[0m in \u001b[0;36m<module>\u001b[0;34m\u001b[0m\n\u001b[1;32m      1\u001b[0m \u001b[0;31m# Get metadata_schema\u001b[0m\u001b[0;34m\u001b[0m\u001b[0;34m\u001b[0m\u001b[0;34m\u001b[0m\u001b[0m\n\u001b[0;32m----> 2\u001b[0;31m \u001b[0mmetadata_schema\u001b[0m \u001b[0;34m=\u001b[0m \u001b[0mconverter\u001b[0m\u001b[0;34m.\u001b[0m\u001b[0mget_metadata_schema\u001b[0m\u001b[0;34m(\u001b[0m\u001b[0;34m)\u001b[0m\u001b[0;34m\u001b[0m\u001b[0;34m\u001b[0m\u001b[0m\n\u001b[0m\u001b[1;32m      3\u001b[0m \u001b[0mpprint\u001b[0m\u001b[0;34m.\u001b[0m\u001b[0mpprint\u001b[0m\u001b[0;34m(\u001b[0m\u001b[0mmetadata_schema\u001b[0m\u001b[0;34m,\u001b[0m \u001b[0mwidth\u001b[0m\u001b[0;34m=\u001b[0m\u001b[0;36m80\u001b[0m\u001b[0;34m)\u001b[0m\u001b[0;34m\u001b[0m\u001b[0;34m\u001b[0m\u001b[0m\n",
      "\u001b[0;31mNameError\u001b[0m: name 'converter' is not defined"
     ]
    }
   ],
   "source": [
    "# Get metadata_schema\n",
    "metadata_schema = converter.get_metadata_schema()\n",
    "pprint.pprint(metadata_schema, width=80)"
   ]
  },
  {
   "cell_type": "markdown",
   "metadata": {},
   "source": [
    "## Step 5 - Automatically fetches available metadata with Converter.get_metadata()"
   ]
  },
  {
   "cell_type": "code",
   "execution_count": 7,
   "metadata": {},
   "outputs": [
    {
     "name": "stdout",
     "output_type": "stream",
     "text": [
      "{'Ecephys': {'Device': [{'description': 'no description', 'name': 'Device_ecephys'}],\n",
      "             'ElectrodeGroup': [],\n",
      "             'LFPElectricalSeries': {}},\n",
      " 'NWBFile': {'identifier': 'JES40X1FWSHT',\n",
      "             'session_description': '',\n",
      "             'session_start_time': datetime.datetime(2019, 11, 28, 22, 35, 54, 729000, tzinfo=<StaticTzInfo 'EST'>)}}\n"
     ]
    }
   ],
   "source": [
    "# Get metadata from source data\n",
    "metadata = converter.get_metadata()\n",
    "pprint.pprint(metadata, width=120)"
   ]
  },
  {
   "cell_type": "markdown",
   "metadata": {},
   "source": [
    "## Step 6 - Get user-input metadata"
   ]
  },
  {
   "cell_type": "code",
   "execution_count": 8,
   "metadata": {},
   "outputs": [
    {
     "name": "stdout",
     "output_type": "stream",
     "text": [
      "{'Ecephys': {'Device': [{'description': 'no description', 'name': 'Device_ecephys'}],\n",
      "             'ElectrodeGroup': [],\n",
      "             'LFPElectricalSeries': {}},\n",
      " 'NWBFile': {'identifier': 'JES40X1FWSHT',\n",
      "             'session_description': 'example conversion',\n",
      "             'session_start_time': datetime.datetime(2019, 11, 28, 22, 35, 54, 729000, tzinfo=<StaticTzInfo 'EST'>)}}\n"
     ]
    }
   ],
   "source": [
    "metadata['NWBFile']['session_description'] = 'example conversion'\n",
    "pprint.pprint(metadata, width=120)"
   ]
  },
  {
   "cell_type": "markdown",
   "metadata": {},
   "source": [
    "## Step 7 - Converter.get_conversion_options_schema()"
   ]
  },
  {
   "cell_type": "code",
   "execution_count": 9,
   "metadata": {},
   "outputs": [],
   "source": [
    "# Not used for this converter"
   ]
  },
  {
   "cell_type": "markdown",
   "metadata": {},
   "source": [
    "## Step 8 - Get user-input conversion options"
   ]
  },
  {
   "cell_type": "code",
   "execution_count": 10,
   "metadata": {},
   "outputs": [],
   "source": [
    "# Not used for this converter"
   ]
  },
  {
   "cell_type": "markdown",
   "metadata": {},
   "source": [
    "## Step 9 - Run conversion user filled metadata and conversion_options"
   ]
  },
  {
   "cell_type": "code",
   "execution_count": 11,
   "metadata": {},
   "outputs": [
    {
     "name": "stderr",
     "output_type": "stream",
     "text": [
      "/home/luiz/anaconda3/envs/env_klusta/lib/python3.7/site-packages/hdmf/common/table.py:415: UserWarning: An attribute 'name' already exists on DynamicTable 'electrodes' so this column cannot be accessed as an attribute, e.g., table.name; it can only be accessed using other methods, e.g., table['name'].\n",
      "  warn(msg)\n"
     ]
    },
    {
     "name": "stdout",
     "output_type": "stream",
     "text": [
      "NWB file saved at out_example.nwb!\n"
     ]
    }
   ],
   "source": [
    "output_file = 'out_example.nwb'\n",
    "\n",
    "converter.run_conversion(\n",
    "    metadata=metadata, \n",
    "    nwbfile_path=output_file, \n",
    "    save_to_file=True,\n",
    "    conversion_options=None\n",
    ")"
   ]
  },
  {
   "cell_type": "markdown",
   "metadata": {},
   "source": [
    "## Final 1 - Check NWB file"
   ]
  },
  {
   "cell_type": "code",
   "execution_count": 12,
   "metadata": {
    "scrolled": false
   },
   "outputs": [
    {
     "name": "stdout",
     "output_type": "stream",
     "text": [
      "root pynwb.file.NWBFile at 0x140281502197008\n",
      "Fields:\n",
      "  devices: {\n",
      "    Device <class 'pynwb.device.Device'>\n",
      "  }\n",
      "  electrode_groups: {\n",
      "    0 <class 'pynwb.ecephys.ElectrodeGroup'>\n",
      "  }\n",
      "  electrodes: electrodes <class 'hdmf.common.table.DynamicTable'>\n",
      "  file_create_date: [datetime.datetime(2021, 3, 5, 18, 47, 48, 213380, tzinfo=tzoffset(None, 3600))]\n",
      "  identifier: JES40X1FWSHT\n",
      "  processing: {\n",
      "    ecephys <class 'pynwb.base.ProcessingModule'>\n",
      "  }\n",
      "  session_description: example conversion\n",
      "  session_start_time: 2019-11-28 22:35:54.729000-05:00\n",
      "  timestamps_reference_time: 2019-11-28 22:35:54.729000-05:00\n",
      "  units: units <class 'pynwb.misc.Units'>\n",
      "\n"
     ]
    }
   ],
   "source": [
    "# load file\n",
    "fname = 'out_example.nwb'\n",
    "with NWBHDF5IO(fname, 'r') as io:\n",
    "    nwbfile = io.read()\n",
    "    print(nwbfile)"
   ]
  },
  {
   "cell_type": "markdown",
   "metadata": {
    "scrolled": false
   },
   "source": [
    "## Final 2 - Check NWB file with widgets"
   ]
  },
  {
   "cell_type": "code",
   "execution_count": 13,
   "metadata": {},
   "outputs": [
    {
     "data": {
      "application/vnd.jupyter.widget-view+json": {
       "model_id": "f398d0ac8b8e40e49cf3b2f4724d4c58",
       "version_major": 2,
       "version_minor": 0
      },
      "text/plain": [
       "VBox(children=(HBox(children=(Label(value='session_description:', layout=Layout(max_height='40px', max_width='…"
      ]
     },
     "metadata": {},
     "output_type": "display_data"
    }
   ],
   "source": [
    "io = NWBHDF5IO(fname, 'r')\n",
    "nwbfile = io.read()\n",
    "nwb2widget(nwbfile)"
   ]
  }
 ],
 "metadata": {
  "kernelspec": {
   "display_name": "Python 3",
   "language": "python",
   "name": "python3"
  },
  "language_info": {
   "codemirror_mode": {
    "name": "ipython",
    "version": 3
   },
   "file_extension": ".py",
   "mimetype": "text/x-python",
   "name": "python",
   "nbconvert_exporter": "python",
   "pygments_lexer": "ipython3",
   "version": "3.8.5"
  }
 },
 "nbformat": 4,
 "nbformat_minor": 4
}
