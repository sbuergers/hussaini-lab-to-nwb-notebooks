{
 "cells": [
  {
   "cell_type": "markdown",
   "metadata": {},
   "source": [
    "Adapted from https://github.com/catalystneuro/movshon-lab-to-nwb/blob/main/tutorials/blackrock_nwb_conversion_detailed.ipynb"
   ]
  },
  {
   "cell_type": "code",
   "execution_count": 1,
   "metadata": {},
   "outputs": [],
   "source": [
    "%load_ext autoreload\n",
    "%autoreload 2\n",
    "%config Completer.use_jedi = False"
   ]
  },
  {
   "cell_type": "code",
   "execution_count": 2,
   "metadata": {},
   "outputs": [
    {
     "name": "stdout",
     "output_type": "stream",
     "text": [
      "/mnt/d/freelance-work/catalyst-neuro/hussaini-lab-to-nwb/example_data_raw/axona_raw_5s\n"
     ]
    }
   ],
   "source": [
    "import os\n",
    "\n",
    "dir_name = r'/mnt/d/freelance-work/catalyst-neuro/hussaini-lab-to-nwb/example_data_raw'\n",
    "base_filename = 'axona_raw_5s'\n",
    "filename = os.path.join(dir_name, base_filename)\n",
    "print(filename)"
   ]
  },
  {
   "cell_type": "code",
   "execution_count": 3,
   "metadata": {},
   "outputs": [
    {
     "name": "stdout",
     "output_type": "stream",
     "text": [
      "total 76\n",
      "-rwxrwxrwx 1 steburg steburg    69 Apr  5 11:28 __init__.py\n",
      "-rwxrwxrwx 1 steburg steburg  1404 Apr  5 11:28 auto_qc.py\n",
      "-rwxrwxrwx 1 steburg steburg  1338 Apr  5 11:28 basedatainterface.py\n",
      "-rwxrwxrwx 1 steburg steburg  2134 Apr  5 11:28 baseimagingextractorinterface.py\n",
      "-rwxrwxrwx 1 steburg steburg  2775 Apr  5 11:28 baselfpextractorinterface.py\n",
      "-rwxrwxrwx 1 steburg steburg  4629 Apr  5 11:28 baserecordingextractorinterface.py\n",
      "-rwxrwxrwx 1 steburg steburg  2363 Apr  5 11:28 basesegmentationextractorinterface.py\n",
      "-rwxrwxrwx 1 steburg steburg  3829 Apr  5 11:28 basesortingextractorinterface.py\n",
      "-rwxrwxrwx 1 steburg steburg  4312 Apr  5 11:28 conversion_tools.py\n",
      "drwxrwxrwx 1 steburg steburg  4096 Apr  5 11:28 datainterfaces\n",
      "-rwxrwxrwx 1 steburg steburg  5100 Apr  5 11:28 json_schema_utils.py\n",
      "-rwxrwxrwx 1 steburg steburg 10154 Apr  5 11:28 metafile.schema.json\n",
      "-rwxrwxrwx 1 steburg steburg  6665 Apr  5 11:28 nwbconverter.py\n",
      "drwxrwxrwx 1 steburg steburg  4096 Apr  5 11:28 schemas\n",
      "-rwxrwxrwx 1 steburg steburg  7355 Apr  5 11:28 utils.py\n"
     ]
    }
   ],
   "source": [
    "!ls ../nwb-conversion-tools/nwb_conversion_tools -l"
   ]
  },
  {
   "cell_type": "code",
   "execution_count": 4,
   "metadata": {},
   "outputs": [],
   "source": [
    "# Import modules\n",
    "\n",
    "import random\n",
    "import string\n",
    "import pytz\n",
    "from typing import Union, Optional\n",
    "from pathlib import Path\n",
    "import spikeextractors as se\n",
    "from pynwb import NWBFile\n",
    "import numpy as np\n",
    "\n",
    "from nwb_conversion_tools.baserecordingextractorinterface import BaseRecordingExtractorInterface,  BaseDataInterface\n",
    "from nwb_conversion_tools.basesortingextractorinterface import BaseSortingExtractorInterface\n",
    "from nwb_conversion_tools.json_schema_utils import get_schema_from_method_signature, get_base_schema, fill_defaults\n",
    "from nwb_conversion_tools.datainterfaces.interface_utils.brpylib import NsxFile\n",
    "from nwb_conversion_tools import SpikeGLXRecordingInterface"
   ]
  },
  {
   "cell_type": "code",
   "execution_count": 5,
   "metadata": {},
   "outputs": [],
   "source": [
    "# from basedatainterface.py\n",
    "metadata_schema = get_base_schema(\n",
    "    id_='metadata.schema.json',\n",
    "    root=True,\n",
    "    title='Metadata',\n",
    "    description='Schema for the metadata',\n",
    "    version=\"0.1.0\",\n",
    ")"
   ]
  },
  {
   "cell_type": "code",
   "execution_count": 6,
   "metadata": {},
   "outputs": [
    {
     "data": {
      "text/plain": [
       "{'required': [],\n",
       " 'properties': {},\n",
       " 'type': 'object',\n",
       " 'additionalProperties': False,\n",
       " '$schema': 'http://json-schema.org/draft-07/schema#',\n",
       " '$id': 'metadata.schema.json',\n",
       " 'title': 'Metadata',\n",
       " 'description': 'Schema for the metadata',\n",
       " 'version': '0.1.0'}"
      ]
     },
     "execution_count": 6,
     "metadata": {},
     "output_type": "execute_result"
    }
   ],
   "source": [
    "metadata_schema"
   ]
  },
  {
   "cell_type": "code",
   "execution_count": 7,
   "metadata": {},
   "outputs": [],
   "source": [
    "glx = SpikeGLXRecordingInterface"
   ]
  },
  {
   "cell_type": "code",
   "execution_count": 8,
   "metadata": {},
   "outputs": [
    {
     "data": {
      "text/plain": [
       "{'required': ['file_path'],\n",
       " 'properties': {'file_path': {'type': 'string',\n",
       "   'format': 'file',\n",
       "   'description': 'Path to SpikeGLX file.'}},\n",
       " 'type': 'object',\n",
       " 'additionalProperties': True}"
      ]
     },
     "execution_count": 8,
     "metadata": {},
     "output_type": "execute_result"
    }
   ],
   "source": [
    "glx.get_source_schema()"
   ]
  },
  {
   "cell_type": "code",
   "execution_count": 9,
   "metadata": {},
   "outputs": [
    {
     "data": {
      "text/plain": [
       "mappingproxy({'self': <Parameter \"self\">,\n",
       "              'file_path': <Parameter \"file_path: Union[str, pathlib.Path, NoneType]\">,\n",
       "              'stub_test': <Parameter \"stub_test: Union[bool, NoneType] = False\">})"
      ]
     },
     "execution_count": 9,
     "metadata": {},
     "output_type": "execute_result"
    }
   ],
   "source": [
    "import inspect\n",
    "\n",
    "inspect.signature(glx.__init__).parameters"
   ]
  },
  {
   "cell_type": "code",
   "execution_count": 12,
   "metadata": {},
   "outputs": [],
   "source": [
    "test = dict(\n",
    "            Ecephys=dict(\n",
    "                Device=[\n",
    "                    dict(\n",
    "                        description=\"Device for the NWB Conversion Tools tutorial.\"\n",
    "                    )\n",
    "                ],\n",
    "                ElectrodeGroup=[\n",
    "                    dict(\n",
    "                        name=\"ElectrodeGroup\",\n",
    "                        description=\"Electrode group for the NWB Conversion Tools tutorial.\"\n",
    "                    )\n",
    "                ],\n",
    "                Electrodes=[\n",
    "                    dict(\n",
    "                        name=\"group_name\",\n",
    "                        description=\"Custom ElectrodeGroup name for these electrodes.\",\n",
    "                        data=[\"ElectrodeGroup\" for x in range(1)]\n",
    "                    ),\n",
    "                    dict(\n",
    "                        name=\"custom_electrodes_column\",\n",
    "                        description=\"Custom column in the electrodes table for the NWB Conversion Tools tutorial.\",\n",
    "                        data=[x for x in range(1)]\n",
    "                    )\n",
    "                ],\n",
    "                ElectricalSeries=dict(\n",
    "                    name=\"ElectricalSeries\",\n",
    "                    description=\"Raw acquisition traces for the NWB Conversion Tools tutorial.\"\n",
    "                )\n",
    "            )\n",
    "        )"
   ]
  },
  {
   "cell_type": "code",
   "execution_count": 14,
   "metadata": {},
   "outputs": [],
   "source": [
    "test = {'required': ['file_path'],\n",
    " 'properties': {'file_path': {'type': 'string',\n",
    "   'format': 'file',\n",
    "   'description': 'Path to SpikeGLX file.'}},\n",
    " 'type': 'object',\n",
    " 'additionalProperties': True}"
   ]
  },
  {
   "cell_type": "code",
   "execution_count": 15,
   "metadata": {},
   "outputs": [
    {
     "data": {
      "text/plain": [
       "{'required': ['file_path'],\n",
       " 'properties': {'file_path': {'type': 'string',\n",
       "   'format': 'file',\n",
       "   'description': 'Path to SpikeGLX file.'}},\n",
       " 'type': 'object',\n",
       " 'additionalProperties': True}"
      ]
     },
     "execution_count": 15,
     "metadata": {},
     "output_type": "execute_result"
    }
   ],
   "source": [
    "test"
   ]
  },
  {
   "cell_type": "code",
   "execution_count": 42,
   "metadata": {},
   "outputs": [
    {
     "name": "stdout",
     "output_type": "stream",
     "text": [
      "total 224\r\n",
      "-rwxrwxrwx 1 steburg steburg    86 Mar 24 10:00 MANIFEST.in\r\n",
      "-rwxrwxrwx 1 steburg steburg  1265 Mar 19 08:48 __init__.py\r\n",
      "drwxrwxrwx 1 steburg steburg  4096 Apr  5 09:53 __pycache__\r\n",
      "-rwxrwxrwx 1 steburg steburg 22834 Mar 19 08:52 baseextractor.py\r\n",
      "-rwxrwxrwx 1 steburg steburg  9269 Mar 19 08:52 cacheextractors.py\r\n",
      "drwxrwxrwx 1 steburg steburg  4096 Mar 24 10:00 example_datasets\r\n",
      "-rwxrwxrwx 1 steburg steburg   105 Mar 19 08:48 exceptions.py\r\n",
      "-rwxrwxrwx 1 steburg steburg 36890 Mar 19 08:52 extraction_tools.py\r\n",
      "-rwxrwxrwx 1 steburg steburg  5952 Apr  1 17:10 extractorlist.py\r\n",
      "drwxrwxrwx 1 steburg steburg  4096 Mar 22 09:47 extractors\r\n",
      "-rwxrwxrwx 1 steburg steburg  6494 Mar 19 08:52 multirecordingchannelextractor.py\r\n",
      "-rwxrwxrwx 1 steburg steburg  8390 Mar 19 08:52 multirecordingtimeextractor.py\r\n",
      "-rwxrwxrwx 1 steburg steburg  5458 Mar 19 08:52 multisortingextractor.py\r\n",
      "-rwxrwxrwx 1 steburg steburg 41357 Mar 19 08:52 recordingextractor.py\r\n",
      "-rwxrwxrwx 1 steburg steburg 30642 Mar 19 08:52 sortingextractor.py\r\n",
      "-rwxrwxrwx 1 steburg steburg  8275 Mar 19 08:52 subrecordingextractor.py\r\n",
      "-rwxrwxrwx 1 steburg steburg  7788 Mar 19 08:52 subsortingextractor.py\r\n",
      "-rwxrwxrwx 1 steburg steburg  8296 Mar 19 08:52 testing.py\r\n",
      "-rwxrwxrwx 1 steburg steburg    18 Mar 19 08:52 version.py\r\n"
     ]
    }
   ],
   "source": [
    "!ls ../spikeextractors/spikeextractors -l"
   ]
  },
  {
   "cell_type": "code",
   "execution_count": 45,
   "metadata": {},
   "outputs": [],
   "source": [
    "from spikeextractors.extractors.neoextractors import AxonaRecordingExtractor"
   ]
  },
  {
   "cell_type": "code",
   "execution_count": 53,
   "metadata": {},
   "outputs": [
    {
     "name": "stdout",
     "output_type": "stream",
     "text": [
      "Number of channels: 16\n",
      "Channel groups: [0 0 0 0 0 0 0 0 0 0 0 0 0 0 0 0]\n"
     ]
    }
   ],
   "source": [
    "re = AxonaRecordingExtractor(filename=filename)\n",
    "print('Number of channels:', re.get_num_channels())\n",
    "print('Channel groups:', re.get_channel_groups())"
   ]
  },
  {
   "cell_type": "code",
   "execution_count": null,
   "metadata": {},
   "outputs": [],
   "source": []
  },
  {
   "cell_type": "markdown",
   "metadata": {},
   "source": [
    "Parse .set file for metadata to include in metadata."
   ]
  },
  {
   "cell_type": "code",
   "execution_count": 65,
   "metadata": {},
   "outputs": [],
   "source": [
    "def parse_generic_header(filename, params):\n",
    "    \"\"\"\n",
    "    Given a binary file with phrases and line breaks, enters the\n",
    "    first word of a phrase as dictionary key and the following\n",
    "    string (without linebreaks) as value. Returns the dictionary.\n",
    "    \n",
    "    INPUT\n",
    "    filename (str): .set file path and name.\n",
    "    params (list or set): parameter names to search for. \n",
    "    \n",
    "    OUTPUT\n",
    "    header (dict): dictionary with keys being the parameters that\n",
    "                   were found & values being strings of the data.\n",
    "                   \n",
    "    EXAMPLE\n",
    "    parse_generic_header('myset_file.set', ['experimenter', 'trial_time'])\n",
    "    \"\"\"\n",
    "    header = {}\n",
    "    params = set(params)\n",
    "    with open(filename, 'rb') as f:\n",
    "        for bin_line in f:\n",
    "            if b'data_start' in bin_line:\n",
    "                break\n",
    "            line = bin_line.decode('cp1252').replace('\\r\\n', '').replace('\\r', '').strip()\n",
    "            parts = line.split(' ')\n",
    "            key = parts[0]\n",
    "            if key in params:\n",
    "                header[key] = ' '.join(parts[1:])\n",
    "            \n",
    "    return header"
   ]
  },
  {
   "cell_type": "code",
   "execution_count": 71,
   "metadata": {},
   "outputs": [],
   "source": [
    "params_of_interest = [\n",
    "    'trial_date',\n",
    "    'trial_time',\n",
    "    'experimenter', \n",
    "    'comments',\n",
    "    'duration', \n",
    "    'sw_version',\n",
    "    'tracker_version',\n",
    "    'stim_version',\n",
    "    'audio_version',\n",
    "    'pretrigSamps',\n",
    "    'spikeLockout'\n",
    "]"
   ]
  },
  {
   "cell_type": "code",
   "execution_count": 72,
   "metadata": {},
   "outputs": [],
   "source": [
    "set_file = filename+'.set'"
   ]
  },
  {
   "cell_type": "code",
   "execution_count": 73,
   "metadata": {},
   "outputs": [
    {
     "data": {
      "text/plain": [
       "{'trial_date': 'Sunday, 4 Oct 2020',\n",
       " 'trial_time': '11:07:07',\n",
       " 'experimenter': 'Abid',\n",
       " 'comments': '',\n",
       " 'duration': '600.00625',\n",
       " 'sw_version': '1.2.2.16',\n",
       " 'tracker_version': '0',\n",
       " 'stim_version': '1',\n",
       " 'audio_version': '0',\n",
       " 'pretrigSamps': '10',\n",
       " 'spikeLockout': '40'}"
      ]
     },
     "execution_count": 73,
     "metadata": {},
     "output_type": "execute_result"
    }
   ],
   "source": [
    "parse_generic_header(set_file, params_of_interest)"
   ]
  },
  {
   "cell_type": "code",
   "execution_count": 74,
   "metadata": {},
   "outputs": [],
   "source": [
    "class AxonaRecordingExtractorInterface(BaseRecordingExtractorInterface):\n",
    "    \"\"\"Primary data interface class for converting a AxonaRecordingExtractor.\"\"\"\n",
    "\n",
    "    RX = se.AxonaRecordingExtractor\n",
    "\n",
    "    @classmethod\n",
    "    def get_source_schema(cls):\n",
    "        source_schema = {\n",
    "            'required': ['file_path'],\n",
    "            'properties': {\n",
    "                'file_path': {\n",
    "                    'type': 'string',\n",
    "                    'format': 'file',\n",
    "                    'description': 'Path to Axona files.'\n",
    "                }\n",
    "            },\n",
    "            'type': 'object',\n",
    "            'additionalProperties': True\n",
    "        }\n",
    "        return source_schema\n",
    "       \n",
    "    def __init__(self, *args, **kwargs):\n",
    "        super().__init__(*args, **kwargs)\n",
    "        \n",
    "    def get_metadata(self):\n",
    "        \"\"\"Auto-fill as much of the metadata as possible. Must comply with metadata schema.\"\"\"\n",
    "        metadata = super().get_metadata()\n",
    "        \n",
    "        header = parse_generic_header(set_file, params_of_interest)\n",
    "        \n",
    "        metadata['properties']['Ecephys'] = \\\n",
    "            dict(\n",
    "                Device=[\n",
    "                    dict(\n",
    "                        name=\"Axona\",\n",
    "                        description=\"Axona DacqUSB, sw_version={}\".format(header['sw_version']),\n",
    "                        manufacturer=\"Axona\"\n",
    "                    )\n",
    "                ],\n",
    "                ElectrodeGroup=[\n",
    "                    dict(\n",
    "                        name=\"ElectrodeGroup\",\n",
    "                        description=\"Electrode group (e.g. grouped by tetrodes).\",\n",
    "                        location=\"\",\n",
    "                        device=\"Axona\"\n",
    "                    )\n",
    "                ],\n",
    "                Electrodes=[\n",
    "                    dict(\n",
    "                        name=\"group_name\",\n",
    "                        description=\"Custom ElectrodeGroup name for these electrodes.\",\n",
    "                        data=[\"ElectrodeGroup\" for x in range(self.recording_extractor.get_num_channels())]\n",
    "                    ),\n",
    "                    dict(\n",
    "                        name=\"custom_electrodes_column\",\n",
    "                        description=\"Custom column in the electrodes table for the NWB Conversion Tools tutorial.\",\n",
    "                        data=[x for x in range(self.recording_extractor.get_num_channels())]\n",
    "                    )\n",
    "                ],\n",
    "                ElectricalSeries=dict(\n",
    "                    name=\"ElectricalSeries\",\n",
    "                    description=\"Raw acquisition traces from Axona .bin file.\"\n",
    "                )\n",
    "            )\n",
    "        return metadata"
   ]
  },
  {
   "cell_type": "code",
   "execution_count": 86,
   "metadata": {},
   "outputs": [
    {
     "data": {
      "text/plain": [
       "['Device', 'ElectrodeGroup', 'ElectricalSeries']"
      ]
     },
     "execution_count": 86,
     "metadata": {},
     "output_type": "execute_result"
    }
   ],
   "source": [
    "schema['properties']['Ecephys']['required']"
   ]
  },
  {
   "cell_type": "code",
   "execution_count": 89,
   "metadata": {},
   "outputs": [
    {
     "data": {
      "text/plain": [
       "['name']"
      ]
     },
     "execution_count": 89,
     "metadata": {},
     "output_type": "execute_result"
    }
   ],
   "source": [
    "schema['properties']['Ecephys']['properties']['Device']['required']"
   ]
  },
  {
   "cell_type": "code",
   "execution_count": 98,
   "metadata": {},
   "outputs": [
    {
     "data": {
      "text/plain": [
       "{'name': {'description': 'Device name', 'type': 'string'},\n",
       " 'description': 'Some Device',\n",
       " 'manufacturer': {'description': 'the name of the manufacturer of this device',\n",
       "  'type': 'string'}}"
      ]
     },
     "execution_count": 98,
     "metadata": {},
     "output_type": "execute_result"
    }
   ],
   "source": [
    "schema['properties']['Ecephys']['properties']['Device']['properties']"
   ]
  },
  {
   "cell_type": "code",
   "execution_count": 97,
   "metadata": {},
   "outputs": [],
   "source": [
    "schema['properties']['Ecephys']['properties']['Device']['properties']['name']['description'] = 'Device name'"
   ]
  },
  {
   "cell_type": "code",
   "execution_count": 92,
   "metadata": {},
   "outputs": [],
   "source": [
    "schema['properties']['Ecephys']['properties']['Device']['properties']['description'] = 'Some Device'"
   ]
  },
  {
   "cell_type": "code",
   "execution_count": null,
   "metadata": {},
   "outputs": [],
   "source": [
    "schema = {\n",
    "  \"required\": [],\n",
    "  \"properties\": {\n",
    "    \"Ecephys\": {\n",
    "      \"required\": [\n",
    "        \"Device\",\n",
    "        \"ElectrodeGroup\",\n",
    "        \"ElectricalSeries\"\n",
    "      ],\n",
    "      \"properties\": {\n",
    "        \"ElectricalSeries\": {\n",
    "          \"required\": [\n",
    "            \"name\"\n",
    "          ],\n",
    "          \"properties\": {\n",
    "            \"name\": {\n",
    "              \"description\": \"The name of this TimeSeries dataset\",\n",
    "              \"type\": \"string\",\n",
    "              \"default\": \"ElectricalSeries\"\n",
    "            },\n",
    "            \"resolution\": {\n",
    "              \"description\": \"The smallest meaningful difference (in specified unit) between values in data\",\n",
    "              \"type\": \"number\",\n",
    "              \"default\": -1.0\n",
    "            },\n",
    "            \"conversion\": {\n",
    "              \"description\": \"Scalar to multiply each element in data to convert it to the specified unit\",\n",
    "              \"type\": \"number\",\n",
    "              \"default\": 1.0\n",
    "            },\n",
    "            \"starting_time\": {\n",
    "              \"description\": \"The timestamp of the first sample\",\n",
    "              \"type\": \"number\"\n",
    "            },\n",
    "            \"rate\": {\n",
    "              \"description\": \"Sampling rate in Hz\",\n",
    "              \"type\": \"number\"\n",
    "            },\n",
    "            \"comments\": {\n",
    "              \"description\": \"Human-readable comments about this TimeSeries dataset\",\n",
    "              \"type\": \"string\",\n",
    "              \"default\": \"no comments\"\n",
    "            },\n",
    "            \"description\": {\n",
    "              \"description\": \"Description of this TimeSeries dataset\",\n",
    "              \"type\": \"string\",\n",
    "              \"default\": \"Raw acquisition traces for the NWB Conversion Tools tutorial.\"\n",
    "            }\n",
    "          },\n",
    "          \"type\": \"object\",\n",
    "          \"additionalProperties\": False,\n",
    "          \"tag\": \"pynwb.ecephys.ElectricalSeries\"\n",
    "        }\n",
    "      },\n",
    "      \"type\": \"object\",\n",
    "      \"additionalProperties\": False,\n",
    "      \"tag\": \"Ecephys\"\n",
    "    }\n",
    "  },\n",
    "  \"type\": \"object\",\n",
    "  \"additionalProperties\": False,\n",
    "  \"$schema\": \"http://json-schema.org/draft-07/schema#\",\n",
    "  \"$id\": \"metadata.schema.json\",\n",
    "  \"title\": \"Metadata\",\n",
    "  \"description\": \"Schema for the metadata\",\n",
    "  \"version\": \"0.1.0\"\n",
    "}"
   ]
  },
  {
   "cell_type": "code",
   "execution_count": 81,
   "metadata": {},
   "outputs": [],
   "source": [
    "schema = {\n",
    "  \"required\": [],\n",
    "  \"properties\": {\n",
    "    \"Ecephys\": {\n",
    "      \"required\": [\n",
    "        \"Device\",\n",
    "        \"ElectrodeGroup\",\n",
    "        \"ElectricalSeries\"\n",
    "      ],\n",
    "      \"properties\": {\n",
    "        \"Device\": {\n",
    "          \"required\": [\n",
    "            \"name\"\n",
    "          ],\n",
    "          \"properties\": {\n",
    "            \"name\": {\n",
    "              \"description\": \"the name of this device\",\n",
    "              \"type\": \"string\"\n",
    "            },\n",
    "            \"description\": {\n",
    "              \"description\": \"Description of the device (e.g., model, firmware version, processing software version, etc.)\",\n",
    "              \"type\": \"string\"\n",
    "            },\n",
    "            \"manufacturer\": {\n",
    "              \"description\": \"the name of the manufacturer of this device\",\n",
    "              \"type\": \"string\"\n",
    "            }\n",
    "          },\n",
    "          \"type\": \"object\",\n",
    "          \"additionalProperties\": False,\n",
    "          \"tag\": \"pynwb.device.Device\"\n",
    "        },\n",
    "        \"ElectrodeGroup\": {\n",
    "          \"required\": [\n",
    "            \"name\",\n",
    "            \"description\",\n",
    "            \"location\",\n",
    "            \"device\"\n",
    "          ],\n",
    "          \"properties\": {\n",
    "            \"name\": {\n",
    "              \"description\": \"the name of this electrode\",\n",
    "              \"type\": \"string\"\n",
    "            },\n",
    "            \"description\": {\n",
    "              \"description\": \"description of this electrode group\",\n",
    "              \"type\": \"string\"\n",
    "            },\n",
    "            \"location\": {\n",
    "              \"description\": \"description of location of this electrode group\",\n",
    "              \"type\": \"string\"\n",
    "            },\n",
    "            \"device\": {\n",
    "              \"description\": \"the device that was used to record from this electrode group\",\n",
    "              \"type\": \"string\",\n",
    "              \"target\": \"pynwb.device.Device\"\n",
    "            }\n",
    "          },\n",
    "          \"type\": \"object\",\n",
    "          \"additionalProperties\": False,\n",
    "          \"tag\": \"pynwb.ecephys.ElectrodeGroup\"\n",
    "        },\n",
    "        \"ElectricalSeries\": {\n",
    "          \"required\": [\n",
    "            \"name\"\n",
    "          ],\n",
    "          \"properties\": {\n",
    "            \"name\": {\n",
    "              \"description\": \"The name of this TimeSeries dataset\",\n",
    "              \"type\": \"string\",\n",
    "              \"default\": \"ElectricalSeries\"\n",
    "            },\n",
    "            \"resolution\": {\n",
    "              \"description\": \"The smallest meaningful difference (in specified unit) between values in data\",\n",
    "              \"type\": \"number\",\n",
    "              \"default\": -1.0\n",
    "            },\n",
    "            \"conversion\": {\n",
    "              \"description\": \"Scalar to multiply each element in data to convert it to the specified unit\",\n",
    "              \"type\": \"number\",\n",
    "              \"default\": 1.0\n",
    "            },\n",
    "            \"starting_time\": {\n",
    "              \"description\": \"The timestamp of the first sample\",\n",
    "              \"type\": \"number\"\n",
    "            },\n",
    "            \"rate\": {\n",
    "              \"description\": \"Sampling rate in Hz\",\n",
    "              \"type\": \"number\"\n",
    "            },\n",
    "            \"comments\": {\n",
    "              \"description\": \"Human-readable comments about this TimeSeries dataset\",\n",
    "              \"type\": \"string\",\n",
    "              \"default\": \"no comments\"\n",
    "            },\n",
    "            \"description\": {\n",
    "              \"description\": \"Description of this TimeSeries dataset\",\n",
    "              \"type\": \"string\",\n",
    "              \"default\": \"Raw acquisition traces for the NWB Conversion Tools tutorial.\"\n",
    "            }\n",
    "          },\n",
    "          \"type\": \"object\",\n",
    "          \"additionalProperties\": False,\n",
    "          \"tag\": \"pynwb.ecephys.ElectricalSeries\"\n",
    "        }\n",
    "      },\n",
    "      \"type\": \"object\",\n",
    "      \"additionalProperties\": False,\n",
    "      \"tag\": \"Ecephys\"\n",
    "    }\n",
    "  },\n",
    "  \"type\": \"object\",\n",
    "  \"additionalProperties\": False,\n",
    "  \"$schema\": \"http://json-schema.org/draft-07/schema#\",\n",
    "  \"$id\": \"metadata.schema.json\",\n",
    "  \"title\": \"Metadata\",\n",
    "  \"description\": \"Schema for the metadata\",\n",
    "  \"version\": \"0.1.0\"\n",
    "}"
   ]
  },
  {
   "cell_type": "code",
   "execution_count": 84,
   "metadata": {},
   "outputs": [
    {
     "data": {
      "text/plain": [
       "{'required': ['Device', 'ElectrodeGroup', 'ElectricalSeries'],\n",
       " 'properties': {'Device': {'required': ['name'],\n",
       "   'properties': {'name': {'description': 'the name of this device',\n",
       "     'type': 'string'},\n",
       "    'description': {'description': 'Description of the device (e.g., model, firmware version, processing software version, etc.)',\n",
       "     'type': 'string'},\n",
       "    'manufacturer': {'description': 'the name of the manufacturer of this device',\n",
       "     'type': 'string'}},\n",
       "   'type': 'object',\n",
       "   'additionalProperties': False,\n",
       "   'tag': 'pynwb.device.Device'},\n",
       "  'ElectrodeGroup': {'required': ['name', 'description', 'location', 'device'],\n",
       "   'properties': {'name': {'description': 'the name of this electrode',\n",
       "     'type': 'string'},\n",
       "    'description': {'description': 'description of this electrode group',\n",
       "     'type': 'string'},\n",
       "    'location': {'description': 'description of location of this electrode group',\n",
       "     'type': 'string'},\n",
       "    'device': {'description': 'the device that was used to record from this electrode group',\n",
       "     'type': 'string',\n",
       "     'target': 'pynwb.device.Device'}},\n",
       "   'type': 'object',\n",
       "   'additionalProperties': False,\n",
       "   'tag': 'pynwb.ecephys.ElectrodeGroup'},\n",
       "  'ElectricalSeries': {'required': ['name'],\n",
       "   'properties': {'name': {'description': 'The name of this TimeSeries dataset',\n",
       "     'type': 'string',\n",
       "     'default': 'ElectricalSeries'},\n",
       "    'resolution': {'description': 'The smallest meaningful difference (in specified unit) between values in data',\n",
       "     'type': 'number',\n",
       "     'default': -1.0},\n",
       "    'conversion': {'description': 'Scalar to multiply each element in data to convert it to the specified unit',\n",
       "     'type': 'number',\n",
       "     'default': 1.0},\n",
       "    'starting_time': {'description': 'The timestamp of the first sample',\n",
       "     'type': 'number'},\n",
       "    'rate': {'description': 'Sampling rate in Hz', 'type': 'number'},\n",
       "    'comments': {'description': 'Human-readable comments about this TimeSeries dataset',\n",
       "     'type': 'string',\n",
       "     'default': 'no comments'},\n",
       "    'description': {'description': 'Description of this TimeSeries dataset',\n",
       "     'type': 'string',\n",
       "     'default': 'Raw acquisition traces for the NWB Conversion Tools tutorial.'}},\n",
       "   'type': 'object',\n",
       "   'additionalProperties': False,\n",
       "   'tag': 'pynwb.ecephys.ElectricalSeries'}},\n",
       " 'type': 'object',\n",
       " 'additionalProperties': False,\n",
       " 'tag': 'Ecephys'}"
      ]
     },
     "execution_count": 84,
     "metadata": {},
     "output_type": "execute_result"
    }
   ],
   "source": [
    "schema['properties']['Ecephys']"
   ]
  },
  {
   "cell_type": "code",
   "execution_count": 75,
   "metadata": {},
   "outputs": [],
   "source": [
    "RX = AxonaRecordingExtractorInterface(filename=filename)"
   ]
  },
  {
   "cell_type": "code",
   "execution_count": 76,
   "metadata": {},
   "outputs": [],
   "source": [
    "base_metadata_schema = RX.get_metadata_schema()"
   ]
  },
  {
   "cell_type": "code",
   "execution_count": 77,
   "metadata": {},
   "outputs": [
    {
     "name": "stdout",
     "output_type": "stream",
     "text": [
      "{\n",
      "  \"required\": [],\n",
      "  \"properties\": {\n",
      "    \"Ecephys\": {\n",
      "      \"required\": [\n",
      "        \"Device\",\n",
      "        \"ElectrodeGroup\",\n",
      "        \"ElectricalSeries\"\n",
      "      ],\n",
      "      \"properties\": {\n",
      "        \"Device\": {\n",
      "          \"required\": [\n",
      "            \"name\"\n",
      "          ],\n",
      "          \"properties\": {\n",
      "            \"name\": {\n",
      "              \"description\": \"the name of this device\",\n",
      "              \"type\": \"string\"\n",
      "            },\n",
      "            \"description\": {\n",
      "              \"description\": \"Description of the device (e.g., model, firmware version, processing software version, etc.)\",\n",
      "              \"type\": \"string\"\n",
      "            },\n",
      "            \"manufacturer\": {\n",
      "              \"description\": \"the name of the manufacturer of this device\",\n",
      "              \"type\": \"string\"\n",
      "            }\n",
      "          },\n",
      "          \"type\": \"object\",\n",
      "          \"additionalProperties\": false,\n",
      "          \"tag\": \"pynwb.device.Device\"\n",
      "        },\n",
      "        \"ElectrodeGroup\": {\n",
      "          \"required\": [\n",
      "            \"name\",\n",
      "            \"description\",\n",
      "            \"location\",\n",
      "            \"device\"\n",
      "          ],\n",
      "          \"properties\": {\n",
      "            \"name\": {\n",
      "              \"description\": \"the name of this electrode\",\n",
      "              \"type\": \"string\"\n",
      "            },\n",
      "            \"description\": {\n",
      "              \"description\": \"description of this electrode group\",\n",
      "              \"type\": \"string\"\n",
      "            },\n",
      "            \"location\": {\n",
      "              \"description\": \"description of location of this electrode group\",\n",
      "              \"type\": \"string\"\n",
      "            },\n",
      "            \"device\": {\n",
      "              \"description\": \"the device that was used to record from this electrode group\",\n",
      "              \"type\": \"string\",\n",
      "              \"target\": \"pynwb.device.Device\"\n",
      "            }\n",
      "          },\n",
      "          \"type\": \"object\",\n",
      "          \"additionalProperties\": false,\n",
      "          \"tag\": \"pynwb.ecephys.ElectrodeGroup\"\n",
      "        },\n",
      "        \"ElectricalSeries\": {\n",
      "          \"required\": [\n",
      "            \"name\"\n",
      "          ],\n",
      "          \"properties\": {\n",
      "            \"name\": {\n",
      "              \"description\": \"The name of this TimeSeries dataset\",\n",
      "              \"type\": \"string\",\n",
      "              \"default\": \"ElectricalSeries\"\n",
      "            },\n",
      "            \"resolution\": {\n",
      "              \"description\": \"The smallest meaningful difference (in specified unit) between values in data\",\n",
      "              \"type\": \"number\",\n",
      "              \"default\": -1.0\n",
      "            },\n",
      "            \"conversion\": {\n",
      "              \"description\": \"Scalar to multiply each element in data to convert it to the specified unit\",\n",
      "              \"type\": \"number\",\n",
      "              \"default\": 1.0\n",
      "            },\n",
      "            \"starting_time\": {\n",
      "              \"description\": \"The timestamp of the first sample\",\n",
      "              \"type\": \"number\"\n",
      "            },\n",
      "            \"rate\": {\n",
      "              \"description\": \"Sampling rate in Hz\",\n",
      "              \"type\": \"number\"\n",
      "            },\n",
      "            \"comments\": {\n",
      "              \"description\": \"Human-readable comments about this TimeSeries dataset\",\n",
      "              \"type\": \"string\",\n",
      "              \"default\": \"no comments\"\n",
      "            },\n",
      "            \"description\": {\n",
      "              \"description\": \"Description of this TimeSeries dataset\",\n",
      "              \"type\": \"string\",\n",
      "              \"default\": \"Raw acquisition traces for the NWB Conversion Tools tutorial.\"\n",
      "            }\n",
      "          },\n",
      "          \"type\": \"object\",\n",
      "          \"additionalProperties\": false,\n",
      "          \"tag\": \"pynwb.ecephys.ElectricalSeries\"\n",
      "        }\n",
      "      },\n",
      "      \"type\": \"object\",\n",
      "      \"additionalProperties\": false,\n",
      "      \"tag\": \"Ecephys\"\n",
      "    }\n",
      "  },\n",
      "  \"type\": \"object\",\n",
      "  \"additionalProperties\": false,\n",
      "  \"$schema\": \"http://json-schema.org/draft-07/schema#\",\n",
      "  \"$id\": \"metadata.schema.json\",\n",
      "  \"title\": \"Metadata\",\n",
      "  \"description\": \"Schema for the metadata\",\n",
      "  \"version\": \"0.1.0\"\n",
      "}\n"
     ]
    }
   ],
   "source": [
    "import json\n",
    "print(json.dumps(base_metadata_schema, indent=2))"
   ]
  },
  {
   "cell_type": "code",
   "execution_count": null,
   "metadata": {},
   "outputs": [],
   "source": [
    "# Example for metadata_schema from \n",
    "# https://github.com/catalystneuro/nwb-conversion-tools/blob/master/documentation/conversion_tools_structure.md#step-by-step-operations\n",
    "{\n",
    "  \"$schema\": \"http://json-schema.org/draft-07/schema#\",\n",
    "  \"$id\": \"metafile.schema.json\",\n",
    "  \"title\": \"Metadata\",\n",
    "  \"description\": \"Schema for the metadata\",\n",
    "  \"version\": \"0.1.0\",\n",
    "  \"type\": \"object\",\n",
    "  \"required\": [\"NWBFile\"],\n",
    "  \"additionalProperties\": false,\n",
    "  \"properties\": {\n",
    "    \"NWBFile\": {\n",
    "      \"type\": \"object\",\n",
    "      \"additionalProperties\": false,\n",
    "      \"tag\": \"pynwb.file.NWBFile\",\n",
    "      \"required\": [\"session_description\", \"identifier\", \"session_start_time\"],\n",
    "      \"properties\": {\n",
    "        \"session_description\": {\n",
    "          \"type\": \"string\",\n",
    "          \"format\": \"long\",\n",
    "          \"description\": \"a description of the session where this data was generated\"\n",
    "        },\n",
    "        \"identifier\": {\n",
    "          \"type\": \"string\",\n",
    "          \"description\": \"a unique text identifier for the file\"\n",
    "        },\n",
    "        \"session_start_time\": {\n",
    "          \"type\": \"string\",\n",
    "          \"description\": \"the start date and time of the recording session\",\n",
    "          \"format\": \"date-time\"\n",
    "        }\n",
    "      }\n",
    "    },\n",
    "    \"Ecephys\": {\n",
    "      \"type\": \"object\",\n",
    "      \"title\": \"Ecephys\",\n",
    "      \"required\": [],\n",
    "      \"properties\": {\n",
    "        \"Device\": {\"$ref\": \"#/definitions/Device\"},\n",
    "        \"ElectricalSeries_raw\": {\"$ref\": \"#/definitions/ElectricalSeries\"},\n",
    "        \"ElectricalSeries_processed\": {\"$ref\": \"#/definitions/ElectricalSeries\"},\n",
    "        \"ElectrodeGroup\": {\"$ref\": \"#/definitions/ElectrodeGroup\"}\n",
    "      }\n",
    "    }\n",
    "  }\n",
    "}"
   ]
  },
  {
   "cell_type": "code",
   "execution_count": null,
   "metadata": {},
   "outputs": [],
   "source": [
    "NeuroscopeRecordingInterface"
   ]
  },
  {
   "cell_type": "code",
   "execution_count": 13,
   "metadata": {},
   "outputs": [],
   "source": [
    "RXI = AxonaRecordingExtractorInterface(filename=filename)"
   ]
  },
  {
   "cell_type": "code",
   "execution_count": 14,
   "metadata": {},
   "outputs": [
    {
     "data": {
      "text/plain": [
       "{'filename': '/mnt/d/freelance-work/catalyst-neuro/hussaini-lab-to-nwb/example_data_raw/axona_raw_5s'}"
      ]
     },
     "execution_count": 14,
     "metadata": {},
     "output_type": "execute_result"
    }
   ],
   "source": [
    "RXI.source_data"
   ]
  },
  {
   "cell_type": "code",
   "execution_count": 15,
   "metadata": {},
   "outputs": [
    {
     "data": {
      "text/plain": [
       "{'required': ['file_path'],\n",
       " 'properties': {'file_path': {'type': 'string',\n",
       "   'format': 'file',\n",
       "   'description': 'Path to Axona files.'}},\n",
       " 'type': 'object',\n",
       " 'additionalProperties': True}"
      ]
     },
     "execution_count": 15,
     "metadata": {},
     "output_type": "execute_result"
    }
   ],
   "source": [
    "RXI.get_source_schema()"
   ]
  },
  {
   "cell_type": "code",
   "execution_count": 46,
   "metadata": {},
   "outputs": [
    {
     "ename": "ImportError",
     "evalue": "cannot import name 'NeuroscopeRecordingInterface' from 'nwb_conversion_tools.basesortingextractorinterface' (/mnt/d/spikeinterface/hussaini-to-nwb/venv/lib/python3.8/site-packages/nwb_conversion_tools/basesortingextractorinterface.py)",
     "output_type": "error",
     "traceback": [
      "\u001b[0;31m---------------------------------------------------------------------------\u001b[0m",
      "\u001b[0;31mImportError\u001b[0m                               Traceback (most recent call last)",
      "\u001b[0;32m<ipython-input-46-87df9fcf2ff4>\u001b[0m in \u001b[0;36m<module>\u001b[0;34m\u001b[0m\n\u001b[1;32m      9\u001b[0m \u001b[0;34m\u001b[0m\u001b[0m\n\u001b[1;32m     10\u001b[0m \u001b[0;32mfrom\u001b[0m \u001b[0mnwb_conversion_tools\u001b[0m\u001b[0;34m.\u001b[0m\u001b[0mbaserecordingextractorinterface\u001b[0m \u001b[0;32mimport\u001b[0m \u001b[0mBaseRecordingExtractorInterface\u001b[0m\u001b[0;34m\u001b[0m\u001b[0;34m\u001b[0m\u001b[0m\n\u001b[0;32m---> 11\u001b[0;31m \u001b[0;32mfrom\u001b[0m \u001b[0mnwb_conversion_tools\u001b[0m\u001b[0;34m.\u001b[0m\u001b[0mbasesortingextractorinterface\u001b[0m \u001b[0;32mimport\u001b[0m \u001b[0mBaseSortingExtractorInterface\u001b[0m\u001b[0;34m,\u001b[0m \u001b[0mNeuroscopeRecordingInterface\u001b[0m\u001b[0;34m\u001b[0m\u001b[0;34m\u001b[0m\u001b[0m\n\u001b[0m\u001b[1;32m     12\u001b[0m \u001b[0;32mfrom\u001b[0m \u001b[0;34m.\u001b[0m\u001b[0;34m.\u001b[0m\u001b[0mjson_schema_utils\u001b[0m \u001b[0;32mimport\u001b[0m \u001b[0mget_schema_from_method_signature\u001b[0m\u001b[0;34m\u001b[0m\u001b[0;34m\u001b[0m\u001b[0m\n\u001b[1;32m     13\u001b[0m \u001b[0;32mfrom\u001b[0m \u001b[0;34m.\u001b[0m\u001b[0minterface_utils\u001b[0m\u001b[0;34m.\u001b[0m\u001b[0mbrpylib\u001b[0m \u001b[0;32mimport\u001b[0m \u001b[0mNsxFile\u001b[0m\u001b[0;34m\u001b[0m\u001b[0;34m\u001b[0m\u001b[0m\n",
      "\u001b[0;31mImportError\u001b[0m: cannot import name 'NeuroscopeRecordingInterface' from 'nwb_conversion_tools.basesortingextractorinterface' (/mnt/d/spikeinterface/hussaini-to-nwb/venv/lib/python3.8/site-packages/nwb_conversion_tools/basesortingextractorinterface.py)"
     ]
    }
   ],
   "source": [
    "\"\"\"Authors: Luiz Tauffer\"\"\"\n",
    "import random\n",
    "import string\n",
    "import pytz\n",
    "from typing import Union, Optional\n",
    "from pathlib import Path\n",
    "import spikeextractors as se\n",
    "from pynwb import NWBFile\n",
    "\n",
    "from nwb_conversion_tools.baserecordingextractorinterface import BaseRecordingExtractorInterface\n",
    "from nwb_conversion_tools.basesortingextractorinterface import BaseSortingExtractorInterface\n",
    "from ..json_schema_utils import get_schema_from_method_signature\n",
    "from .interface_utils.brpylib import NsxFile\n",
    "\n",
    "PathType = Union[str, Path, None]\n",
    "\n",
    "\n",
    "class BlackrockRecordingExtractorInterface(BaseRecordingExtractorInterface):\n",
    "    \"\"\"Primary data interface class for converting a BlackrockRecordingExtractor.\"\"\"\n",
    "\n",
    "    RX = se.BlackrockRecordingExtractor\n",
    "\n",
    "    @classmethod\n",
    "    def get_source_schema(cls):\n",
    "        \"\"\"Compile input schema for the RecordingExtractor.\"\"\"\n",
    "        metadata_schema = get_schema_from_method_signature(\n",
    "            class_method=cls.RX.__init__,\n",
    "            exclude=['block_index', 'seg_index']\n",
    "        )\n",
    "        metadata_schema['additionalProperties'] = True\n",
    "        metadata_schema['properties']['filename']['format'] = 'file'\n",
    "        metadata_schema['properties']['filename']['description'] = 'Path to Blackrock file.'\n",
    "        return metadata_schema\n",
    "    \n",
    "    def __init__(self, filename: PathType, nsx_to_load: Optional[int] = None):\n",
    "        super().__init__(filename=filename, nsx_to_load=nsx_to_load)\n",
    "\n",
    "    def get_metadata(self):\n",
    "        \"\"\"Auto-fill as much of the metadata as possible. Must comply with metadata schema.\"\"\"\n",
    "        metadata = super().get_metadata()\n",
    "\n",
    "        # Open file and extract headers\n",
    "        set_file = NsxFile(datafile=self.source_data['filename'])\n",
    "        session_start_time = nsx_file.basic_header['TimeOrigin']\n",
    "        session_start_time_tzaware = pytz.timezone('EST').localize(session_start_time)\n",
    "        comment = nsx_file.basic_header['Comment']\n",
    "\n",
    "        metadata['NWBFile'] = dict(\n",
    "            session_start_time=session_start_time_tzaware,\n",
    "            session_description=comment,\n",
    "            identifier=''.join(random.choices(string.ascii_uppercase + string.digits, k=12))\n",
    "        )\n",
    "\n",
    "        metadata['Ecephys'] = dict(\n",
    "            Device=[dict(\n",
    "                name='Device_ecephys',\n",
    "                description='no description'\n",
    "            )],\n",
    "            ElectrodeGroup=[],\n",
    "        )\n",
    "\n",
    "        if self.source_data['nsx_to_load'] != 6:\n",
    "            metadata['Ecephys']['LFPElectricalSeries'] = dict()\n",
    "        else:\n",
    "            metadata['Ecephys']['ElectricalSeries'] = dict()\n",
    "\n",
    "        return metadata\n",
    "\n",
    "    def run_conversion(self, nwbfile: NWBFile, metadata: dict = None, use_times: bool = False, \n",
    "                       write_as_lfp: bool = False, save_path: PathType = None, overwrite: bool = False, \n",
    "                       stub_test: bool = False):\n",
    "        \"\"\"\n",
    "        Primary function for converting recording extractor data to nwb.\n",
    "        Parameters\n",
    "        ----------\n",
    "        nwbfile: NWBFile\n",
    "            nwb file to which the recording information is to be added\n",
    "        metadata: dict\n",
    "            metadata info for constructing the nwb file (optional).\n",
    "            Should be of the format\n",
    "                metadata['Ecephys']['ElectricalSeries'] = {'name': my_name,\n",
    "                                                           'description': my_description}\n",
    "        use_times: bool\n",
    "            If True, the timestamps are saved to the nwb file using recording.frame_to_time(). If False (default),\n",
    "            the sampling rate is used.\n",
    "        write_as_lfp: bool (optional, defaults to False)\n",
    "            If True, writes the traces under a processing LFP module in the NWBFile instead of acquisition.\n",
    "        save_path: PathType\n",
    "            Required if an nwbfile is not passed. Must be the path to the nwbfile\n",
    "            being appended, otherwise one is created and written.\n",
    "        overwrite: bool\n",
    "            If using save_path, whether or not to overwrite the NWBFile if it already exists.\n",
    "        stub_test: bool, optional (default False)\n",
    "            If True, will truncate the data to run the conversion faster and take up less memory.\n",
    "        \"\"\"\n",
    "        if self.source_data['nsx_to_load'] != 6:\n",
    "            write_as_lfp = True\n",
    "\n",
    "        super().run_conversion(\n",
    "            nwbfile=nwbfile, \n",
    "            metadata=metadata, \n",
    "            use_times=use_times, \n",
    "            write_as_lfp=write_as_lfp,\n",
    "            save_path=save_path, \n",
    "            overwrite=overwrite,\n",
    "            stub_test=stub_test\n",
    "        )\n",
    "\n",
    "\n",
    "class BlackrockSortingExtractorInterface(BaseSortingExtractorInterface):\n",
    "    \"\"\"Primary data interface class for converting Blackrock spiking data.\"\"\"\n",
    "\n",
    "    SX = se.BlackrockSortingExtractor\n",
    "\n",
    "    @classmethod\n",
    "    def get_source_schema(cls):\n",
    "        \"\"\"Compile input schema for the RecordingExtractor.\"\"\"\n",
    "        metadata_schema = get_schema_from_method_signature(\n",
    "            class_method=cls.SX.__init__,\n",
    "            exclude=['block_index', 'seg_index', 'nsx_to_load']\n",
    "        )\n",
    "        metadata_schema['additionalProperties'] = True\n",
    "        metadata_schema['properties']['filename']['format'] = 'file'\n",
    "        metadata_schema['properties']['filename']['description'] = 'Path to Blackrock file.'\n",
    "        return metadata_schema\n",
    "\n",
    "    def __init__(self, filename: PathType, nsx_to_load: Optional[int] = None):\n",
    "        super().__init__(filename=filename, nsx_to_load=nsx_to_load)"
   ]
  },
  {
   "cell_type": "code",
   "execution_count": null,
   "metadata": {},
   "outputs": [],
   "source": []
  },
  {
   "cell_type": "code",
   "execution_count": null,
   "metadata": {},
   "outputs": [],
   "source": []
  },
  {
   "cell_type": "code",
   "execution_count": null,
   "metadata": {},
   "outputs": [],
   "source": []
  },
  {
   "cell_type": "code",
   "execution_count": null,
   "metadata": {},
   "outputs": [],
   "source": []
  },
  {
   "cell_type": "code",
   "execution_count": null,
   "metadata": {},
   "outputs": [],
   "source": []
  },
  {
   "cell_type": "code",
   "execution_count": null,
   "metadata": {},
   "outputs": [],
   "source": []
  },
  {
   "cell_type": "code",
   "execution_count": null,
   "metadata": {},
   "outputs": [],
   "source": []
  },
  {
   "cell_type": "markdown",
   "metadata": {},
   "source": [
    "# Movshon lab - Blackrock Converter\n",
    "This tutorial follows the step-by-step guide for a [NWB Converter](https://github.com/catalystneuro/nwb-conversion-tools/blob/master/documentation/conversion_tools_structure.md#step-by-step-operations)"
   ]
  },
  {
   "cell_type": "code",
   "execution_count": 3,
   "metadata": {},
   "outputs": [],
   "source": [
    "from hussaini_lab_to_nwb import HussainiNWBConverter\n",
    "from pynwb import NWBFile, NWBHDF5IO\n",
    "from nwbwidgets import nwb2widget\n",
    "from pathlib import Path\n",
    "import yaml\n",
    "import pprint"
   ]
  },
  {
   "cell_type": "markdown",
   "metadata": {},
   "source": [
    "## Step 1 - Converter.get_source_schema()"
   ]
  },
  {
   "cell_type": "code",
   "execution_count": 6,
   "metadata": {},
   "outputs": [
    {
     "name": "stdout",
     "output_type": "stream",
     "text": [
      "{'BlackrockRecordingExtractorInterface': {'additionalProperties': True,\n",
      "                                          'properties': {'filename': {'description': 'Path to Blackrock file.',\n",
      "                                                                      'format': 'file',\n",
      "                                                                      'type': 'string'},\n",
      "                                                         'nsx_to_load': {'type': 'number'}},\n",
      "                                          'required': ['filename'],\n",
      "                                          'type': 'object'},\n",
      " 'BlackrockSortingExtractorInterface': {'additionalProperties': True,\n",
      "                                        'properties': {'filename': {'description': 'Path to Blackrock file.',\n",
      "                                                                    'format': 'file',\n",
      "                                                                    'type': 'string'}},\n",
      "                                        'required': ['filename'],\n",
      "                                        'type': 'object'}}\n"
     ]
    }
   ],
   "source": [
    "# Get source_schema\n",
    "source_schema = HussainiNWBConverter.get_source_schema()\n",
    "pprint.pprint(source_schema['properties'], width=120)"
   ]
  },
  {
   "cell_type": "markdown",
   "metadata": {},
   "source": [
    "## Step 2 - Get user-input source_data that complies to the returned full source_schema"
   ]
  },
  {
   "cell_type": "code",
   "execution_count": 4,
   "metadata": {},
   "outputs": [
    {
     "name": "stdout",
     "output_type": "stream",
     "text": [
      "{'BlackrockRecordingExtractorInterface': {'filename': '/media/luiz/storage/taufferconsulting/client_ben/project_movshon/data/XX_LE_textures_20191128_002.ns3',\n",
      "                                          'nsx_to_load': 3},\n",
      " 'BlackrockSortingExtractorInterface': {'filename': '/media/luiz/storage/taufferconsulting/client_ben/project_movshon/data/XX_LE_textures_20191128_002.nev',\n",
      "                                        'nsx_to_load': 6}}\n"
     ]
    }
   ],
   "source": [
    "# Source data\n",
    "base_path = Path('/media/luiz/storage/taufferconsulting/client_ben/project_movshon/data/')\n",
    "file_recording = str(base_path / 'XX_LE_textures_20191128_002.ns3')\n",
    "file_sorting = str(base_path / 'XX_LE_textures_20191128_002.nev')\n",
    "\n",
    "source_data = dict(\n",
    "    BlackrockRecordingExtractorInterface=dict(\n",
    "        filename=file_recording,\n",
    "        nsx_to_load=3\n",
    "    ),\n",
    "    BlackrockSortingExtractorInterface=dict(\n",
    "        filename=file_sorting,\n",
    "        nsx_to_load=6\n",
    "    )\n",
    ")\n",
    "\n",
    "pprint.pprint(source_data, width=120)"
   ]
  },
  {
   "cell_type": "markdown",
   "metadata": {},
   "source": [
    "## Step 3 - Instantiate Converter"
   ]
  },
  {
   "cell_type": "code",
   "execution_count": 79,
   "metadata": {},
   "outputs": [
    {
     "ename": "NameError",
     "evalue": "name 'MovshonBlackrockNWBConverter' is not defined",
     "output_type": "error",
     "traceback": [
      "\u001b[0;31m---------------------------------------------------------------------------\u001b[0m",
      "\u001b[0;31mNameError\u001b[0m                                 Traceback (most recent call last)",
      "\u001b[0;32m<ipython-input-79-d8189884c86c>\u001b[0m in \u001b[0;36m<module>\u001b[0;34m\u001b[0m\n\u001b[1;32m      1\u001b[0m \u001b[0;31m# Initialize converter\u001b[0m\u001b[0;34m\u001b[0m\u001b[0;34m\u001b[0m\u001b[0;34m\u001b[0m\u001b[0m\n\u001b[0;32m----> 2\u001b[0;31m \u001b[0mconverter\u001b[0m \u001b[0;34m=\u001b[0m \u001b[0mMovshonBlackrockNWBConverter\u001b[0m\u001b[0;34m(\u001b[0m\u001b[0msource_data\u001b[0m\u001b[0;34m=\u001b[0m\u001b[0msource_data\u001b[0m\u001b[0;34m)\u001b[0m\u001b[0;34m\u001b[0m\u001b[0;34m\u001b[0m\u001b[0m\n\u001b[0m\u001b[1;32m      3\u001b[0m \u001b[0;34m\u001b[0m\u001b[0m\n\u001b[1;32m      4\u001b[0m \u001b[0mprint\u001b[0m\u001b[0;34m(\u001b[0m\u001b[0;34m'Data interfaces for this converter:'\u001b[0m\u001b[0;34m)\u001b[0m\u001b[0;34m\u001b[0m\u001b[0;34m\u001b[0m\u001b[0m\n\u001b[1;32m      5\u001b[0m \u001b[0mpprint\u001b[0m\u001b[0;34m.\u001b[0m\u001b[0mpprint\u001b[0m\u001b[0;34m(\u001b[0m\u001b[0mconverter\u001b[0m\u001b[0;34m.\u001b[0m\u001b[0mdata_interface_objects\u001b[0m\u001b[0;34m,\u001b[0m \u001b[0mwidth\u001b[0m\u001b[0;34m=\u001b[0m\u001b[0;36m120\u001b[0m\u001b[0;34m)\u001b[0m\u001b[0;34m\u001b[0m\u001b[0;34m\u001b[0m\u001b[0m\n",
      "\u001b[0;31mNameError\u001b[0m: name 'MovshonBlackrockNWBConverter' is not defined"
     ]
    }
   ],
   "source": [
    "# Initialize converter\n",
    "converter = MovshonBlackrockNWBConverter(source_data=source_data)\n",
    "\n",
    "print('Data interfaces for this converter:')\n",
    "pprint.pprint(converter.data_interface_objects, width=120)"
   ]
  },
  {
   "cell_type": "markdown",
   "metadata": {},
   "source": [
    "## Step 4 - Converter.get_metadata_schema()"
   ]
  },
  {
   "cell_type": "code",
   "execution_count": 78,
   "metadata": {
    "scrolled": false
   },
   "outputs": [
    {
     "ename": "NameError",
     "evalue": "name 'converter' is not defined",
     "output_type": "error",
     "traceback": [
      "\u001b[0;31m---------------------------------------------------------------------------\u001b[0m",
      "\u001b[0;31mNameError\u001b[0m                                 Traceback (most recent call last)",
      "\u001b[0;32m<ipython-input-78-e7f2fe3a2b2b>\u001b[0m in \u001b[0;36m<module>\u001b[0;34m\u001b[0m\n\u001b[1;32m      1\u001b[0m \u001b[0;31m# Get metadata_schema\u001b[0m\u001b[0;34m\u001b[0m\u001b[0;34m\u001b[0m\u001b[0;34m\u001b[0m\u001b[0m\n\u001b[0;32m----> 2\u001b[0;31m \u001b[0mmetadata_schema\u001b[0m \u001b[0;34m=\u001b[0m \u001b[0mconverter\u001b[0m\u001b[0;34m.\u001b[0m\u001b[0mget_metadata_schema\u001b[0m\u001b[0;34m(\u001b[0m\u001b[0;34m)\u001b[0m\u001b[0;34m\u001b[0m\u001b[0;34m\u001b[0m\u001b[0m\n\u001b[0m\u001b[1;32m      3\u001b[0m \u001b[0mpprint\u001b[0m\u001b[0;34m.\u001b[0m\u001b[0mpprint\u001b[0m\u001b[0;34m(\u001b[0m\u001b[0mmetadata_schema\u001b[0m\u001b[0;34m,\u001b[0m \u001b[0mwidth\u001b[0m\u001b[0;34m=\u001b[0m\u001b[0;36m80\u001b[0m\u001b[0;34m)\u001b[0m\u001b[0;34m\u001b[0m\u001b[0;34m\u001b[0m\u001b[0m\n",
      "\u001b[0;31mNameError\u001b[0m: name 'converter' is not defined"
     ]
    }
   ],
   "source": [
    "# Get metadata_schema\n",
    "metadata_schema = converter.get_metadata_schema()\n",
    "pprint.pprint(metadata_schema, width=80)"
   ]
  },
  {
   "cell_type": "markdown",
   "metadata": {},
   "source": [
    "## Step 5 - Automatically fetches available metadata with Converter.get_metadata()"
   ]
  },
  {
   "cell_type": "code",
   "execution_count": 7,
   "metadata": {},
   "outputs": [
    {
     "name": "stdout",
     "output_type": "stream",
     "text": [
      "{'Ecephys': {'Device': [{'description': 'no description', 'name': 'Device_ecephys'}],\n",
      "             'ElectrodeGroup': [],\n",
      "             'LFPElectricalSeries': {}},\n",
      " 'NWBFile': {'identifier': 'JES40X1FWSHT',\n",
      "             'session_description': '',\n",
      "             'session_start_time': datetime.datetime(2019, 11, 28, 22, 35, 54, 729000, tzinfo=<StaticTzInfo 'EST'>)}}\n"
     ]
    }
   ],
   "source": [
    "# Get metadata from source data\n",
    "metadata = converter.get_metadata()\n",
    "pprint.pprint(metadata, width=120)"
   ]
  },
  {
   "cell_type": "markdown",
   "metadata": {},
   "source": [
    "## Step 6 - Get user-input metadata"
   ]
  },
  {
   "cell_type": "code",
   "execution_count": 8,
   "metadata": {},
   "outputs": [
    {
     "name": "stdout",
     "output_type": "stream",
     "text": [
      "{'Ecephys': {'Device': [{'description': 'no description', 'name': 'Device_ecephys'}],\n",
      "             'ElectrodeGroup': [],\n",
      "             'LFPElectricalSeries': {}},\n",
      " 'NWBFile': {'identifier': 'JES40X1FWSHT',\n",
      "             'session_description': 'example conversion',\n",
      "             'session_start_time': datetime.datetime(2019, 11, 28, 22, 35, 54, 729000, tzinfo=<StaticTzInfo 'EST'>)}}\n"
     ]
    }
   ],
   "source": [
    "metadata['NWBFile']['session_description'] = 'example conversion'\n",
    "pprint.pprint(metadata, width=120)"
   ]
  },
  {
   "cell_type": "markdown",
   "metadata": {},
   "source": [
    "## Step 7 - Converter.get_conversion_options_schema()"
   ]
  },
  {
   "cell_type": "code",
   "execution_count": 9,
   "metadata": {},
   "outputs": [],
   "source": [
    "# Not used for this converter"
   ]
  },
  {
   "cell_type": "markdown",
   "metadata": {},
   "source": [
    "## Step 8 - Get user-input conversion options"
   ]
  },
  {
   "cell_type": "code",
   "execution_count": 10,
   "metadata": {},
   "outputs": [],
   "source": [
    "# Not used for this converter"
   ]
  },
  {
   "cell_type": "markdown",
   "metadata": {},
   "source": [
    "## Step 9 - Run conversion user filled metadata and conversion_options"
   ]
  },
  {
   "cell_type": "code",
   "execution_count": 11,
   "metadata": {},
   "outputs": [
    {
     "name": "stderr",
     "output_type": "stream",
     "text": [
      "/home/luiz/anaconda3/envs/env_klusta/lib/python3.7/site-packages/hdmf/common/table.py:415: UserWarning: An attribute 'name' already exists on DynamicTable 'electrodes' so this column cannot be accessed as an attribute, e.g., table.name; it can only be accessed using other methods, e.g., table['name'].\n",
      "  warn(msg)\n"
     ]
    },
    {
     "name": "stdout",
     "output_type": "stream",
     "text": [
      "NWB file saved at out_example.nwb!\n"
     ]
    }
   ],
   "source": [
    "output_file = 'out_example.nwb'\n",
    "\n",
    "converter.run_conversion(\n",
    "    metadata=metadata, \n",
    "    nwbfile_path=output_file, \n",
    "    save_to_file=True,\n",
    "    conversion_options=None\n",
    ")"
   ]
  },
  {
   "cell_type": "markdown",
   "metadata": {},
   "source": [
    "## Final 1 - Check NWB file"
   ]
  },
  {
   "cell_type": "code",
   "execution_count": 12,
   "metadata": {
    "scrolled": false
   },
   "outputs": [
    {
     "name": "stdout",
     "output_type": "stream",
     "text": [
      "root pynwb.file.NWBFile at 0x140281502197008\n",
      "Fields:\n",
      "  devices: {\n",
      "    Device <class 'pynwb.device.Device'>\n",
      "  }\n",
      "  electrode_groups: {\n",
      "    0 <class 'pynwb.ecephys.ElectrodeGroup'>\n",
      "  }\n",
      "  electrodes: electrodes <class 'hdmf.common.table.DynamicTable'>\n",
      "  file_create_date: [datetime.datetime(2021, 3, 5, 18, 47, 48, 213380, tzinfo=tzoffset(None, 3600))]\n",
      "  identifier: JES40X1FWSHT\n",
      "  processing: {\n",
      "    ecephys <class 'pynwb.base.ProcessingModule'>\n",
      "  }\n",
      "  session_description: example conversion\n",
      "  session_start_time: 2019-11-28 22:35:54.729000-05:00\n",
      "  timestamps_reference_time: 2019-11-28 22:35:54.729000-05:00\n",
      "  units: units <class 'pynwb.misc.Units'>\n",
      "\n"
     ]
    }
   ],
   "source": [
    "# load file\n",
    "fname = 'out_example.nwb'\n",
    "with NWBHDF5IO(fname, 'r') as io:\n",
    "    nwbfile = io.read()\n",
    "    print(nwbfile)"
   ]
  },
  {
   "cell_type": "markdown",
   "metadata": {
    "scrolled": false
   },
   "source": [
    "## Final 2 - Check NWB file with widgets"
   ]
  },
  {
   "cell_type": "code",
   "execution_count": 13,
   "metadata": {},
   "outputs": [
    {
     "data": {
      "application/vnd.jupyter.widget-view+json": {
       "model_id": "f398d0ac8b8e40e49cf3b2f4724d4c58",
       "version_major": 2,
       "version_minor": 0
      },
      "text/plain": [
       "VBox(children=(HBox(children=(Label(value='session_description:', layout=Layout(max_height='40px', max_width='…"
      ]
     },
     "metadata": {},
     "output_type": "display_data"
    }
   ],
   "source": [
    "io = NWBHDF5IO(fname, 'r')\n",
    "nwbfile = io.read()\n",
    "nwb2widget(nwbfile)"
   ]
  }
 ],
 "metadata": {
  "kernelspec": {
   "display_name": "Python 3",
   "language": "python",
   "name": "python3"
  },
  "language_info": {
   "codemirror_mode": {
    "name": "ipython",
    "version": 3
   },
   "file_extension": ".py",
   "mimetype": "text/x-python",
   "name": "python",
   "nbconvert_exporter": "python",
   "pygments_lexer": "ipython3",
   "version": "3.8.5"
  }
 },
 "nbformat": 4,
 "nbformat_minor": 4
}
