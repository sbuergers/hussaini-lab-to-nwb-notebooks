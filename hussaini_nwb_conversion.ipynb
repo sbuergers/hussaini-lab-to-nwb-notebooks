{
 "cells": [
  {
   "cell_type": "markdown",
   "metadata": {},
   "source": [
    "# Hussaini lab data (Axona) conversion to NWB\n",
    "\n",
    "Here, I am going to test code for doing said conversions.\n",
    "\n",
    "### NWB\n",
    "\n",
    "To convert to NWB we will need a separate Interface class (e.g. AxonaRecordingExtractorInterface) for each data type / extractor. Those are then combined with an NWBConverter class for the Lab (e.g. HussainiLabNWBConverter), which exports to NWB. \n",
    "\n",
    "Note that for Milestone2, we might not need any of this, since spikeextractors has its own NWBconverters for extractor and sorting classes!"
   ]
  },
  {
   "cell_type": "markdown",
   "metadata": {},
   "source": [
    "Adapted from https://github.com/catalystneuro/movshon-lab-to-nwb/blob/main/tutorials/blackrock_nwb_conversion_detailed.ipynb"
   ]
  },
  {
   "cell_type": "code",
   "execution_count": 1,
   "metadata": {},
   "outputs": [],
   "source": [
    "%load_ext autoreload\n",
    "%autoreload 2\n",
    "%config Completer.use_jedi = False"
   ]
  },
  {
   "cell_type": "code",
   "execution_count": 2,
   "metadata": {},
   "outputs": [
    {
     "name": "stdout",
     "output_type": "stream",
     "text": [
      "/mnt/d/freelance-work/catalyst-neuro/hussaini-lab-to-nwb/example_data_raw/axona_raw_5s\n"
     ]
    }
   ],
   "source": [
    "import os\n",
    "\n",
    "dir_name = r'/mnt/d/freelance-work/catalyst-neuro/hussaini-lab-to-nwb/example_data_raw'\n",
    "base_filename = 'axona_raw_5s'\n",
    "filename = os.path.join(dir_name, base_filename)\n",
    "set_file = filename + '.set'\n",
    "print(filename)"
   ]
  },
  {
   "cell_type": "code",
   "execution_count": 3,
   "metadata": {},
   "outputs": [
    {
     "name": "stdout",
     "output_type": "stream",
     "text": [
      "total 76\r\n",
      "-rwxrwxrwx 1 sbuergers sbuergers    69 Apr  5 11:28 __init__.py\r\n",
      "drwxrwxrwx 1 sbuergers sbuergers  4096 Apr 27 15:21 __pycache__\r\n",
      "-rwxrwxrwx 1 sbuergers sbuergers  1404 Apr  5 11:28 auto_qc.py\r\n",
      "-rwxrwxrwx 1 sbuergers sbuergers  1338 Apr  5 11:28 basedatainterface.py\r\n",
      "-rwxrwxrwx 1 sbuergers sbuergers  2134 Apr  5 11:28 baseimagingextractorinterface.py\r\n",
      "-rwxrwxrwx 1 sbuergers sbuergers  2775 Apr  5 11:28 baselfpextractorinterface.py\r\n",
      "-rwxrwxrwx 1 sbuergers sbuergers  5052 Apr 27 15:20 baserecordingextractorinterface.py\r\n",
      "-rwxrwxrwx 1 sbuergers sbuergers  2363 Apr  5 11:28 basesegmentationextractorinterface.py\r\n",
      "-rwxrwxrwx 1 sbuergers sbuergers  3786 Apr 27 15:20 basesortingextractorinterface.py\r\n",
      "-rwxrwxrwx 1 sbuergers sbuergers  5015 Apr 27 15:20 conversion_tools.py\r\n",
      "drwxrwxrwx 1 sbuergers sbuergers  4096 Apr 27 15:20 datainterfaces\r\n",
      "-rwxrwxrwx 1 sbuergers sbuergers  5100 Apr 27 15:20 json_schema_utils.py\r\n",
      "-rwxrwxrwx 1 sbuergers sbuergers 10154 Apr  5 11:28 metafile.schema.json\r\n",
      "-rwxrwxrwx 1 sbuergers sbuergers  7472 Apr 27 15:20 nwbconverter.py\r\n",
      "drwxrwxrwx 1 sbuergers sbuergers  4096 Apr  5 11:28 schemas\r\n",
      "-rwxrwxrwx 1 sbuergers sbuergers  7355 Apr  5 11:28 utils.py\r\n"
     ]
    }
   ],
   "source": [
    "!ls ../nwb-conversion-tools/nwb_conversion_tools -l"
   ]
  },
  {
   "cell_type": "code",
   "execution_count": null,
   "metadata": {},
   "outputs": [],
   "source": []
  },
  {
   "cell_type": "code",
   "execution_count": 4,
   "metadata": {},
   "outputs": [],
   "source": [
    "# Import modules\n",
    "\n",
    "import random\n",
    "import string\n",
    "from typing import Union, Optional\n",
    "from pathlib import Path\n",
    "import spikeextractors as se\n",
    "from pynwb import NWBFile\n",
    "import numpy as np\n",
    "import re\n",
    "import datetime\n",
    "import json\n",
    "from jsonschema import validate, ValidationError\n",
    "\n",
    "from nwb_conversion_tools.baserecordingextractorinterface import BaseRecordingExtractorInterface,  BaseDataInterface\n",
    "from nwb_conversion_tools.basesortingextractorinterface import BaseSortingExtractorInterface\n",
    "from nwb_conversion_tools.json_schema_utils import get_schema_from_method_signature, get_base_schema, fill_defaults\n",
    "from nwb_conversion_tools.datainterfaces.interface_utils.brpylib import NsxFile\n",
    "from nwb_conversion_tools import SpikeGLXRecordingInterface"
   ]
  },
  {
   "cell_type": "code",
   "execution_count": 5,
   "metadata": {},
   "outputs": [],
   "source": [
    "# from basedatainterface.py\n",
    "base_schema = get_base_schema(\n",
    "    id_='metadata.schema.json',\n",
    "    root=True,\n",
    "    title='Metadata',\n",
    "    description='Schema for the metadata',\n",
    "    version=\"0.1.0\",\n",
    ")"
   ]
  },
  {
   "cell_type": "code",
   "execution_count": 6,
   "metadata": {},
   "outputs": [
    {
     "data": {
      "text/plain": [
       "{'required': [],\n",
       " 'properties': {},\n",
       " 'type': 'object',\n",
       " 'additionalProperties': False,\n",
       " '$schema': 'http://json-schema.org/draft-07/schema#',\n",
       " '$id': 'metadata.schema.json',\n",
       " 'title': 'Metadata',\n",
       " 'description': 'Schema for the metadata',\n",
       " 'version': '0.1.0'}"
      ]
     },
     "execution_count": 6,
     "metadata": {},
     "output_type": "execute_result"
    }
   ],
   "source": [
    "base_schema"
   ]
  },
  {
   "cell_type": "code",
   "execution_count": 7,
   "metadata": {},
   "outputs": [],
   "source": [
    "glx = SpikeGLXRecordingInterface"
   ]
  },
  {
   "cell_type": "code",
   "execution_count": 8,
   "metadata": {},
   "outputs": [
    {
     "data": {
      "text/plain": [
       "{'required': ['file_path'],\n",
       " 'properties': {'file_path': {'type': 'string',\n",
       "   'format': 'file',\n",
       "   'description': 'Path to SpikeGLX file.'}},\n",
       " 'type': 'object',\n",
       " 'additionalProperties': True}"
      ]
     },
     "execution_count": 8,
     "metadata": {},
     "output_type": "execute_result"
    }
   ],
   "source": [
    "glx.get_source_schema()"
   ]
  },
  {
   "cell_type": "code",
   "execution_count": 9,
   "metadata": {},
   "outputs": [
    {
     "data": {
      "text/plain": [
       "mappingproxy({'self': <Parameter \"self\">,\n",
       "              'file_path': <Parameter \"file_path: Union[str, pathlib.Path, NoneType]\">,\n",
       "              'stub_test': <Parameter \"stub_test: Union[bool, NoneType] = False\">})"
      ]
     },
     "execution_count": 9,
     "metadata": {},
     "output_type": "execute_result"
    }
   ],
   "source": [
    "import inspect\n",
    "\n",
    "inspect.signature(glx.__init__).parameters"
   ]
  },
  {
   "cell_type": "code",
   "execution_count": 10,
   "metadata": {},
   "outputs": [
    {
     "name": "stdout",
     "output_type": "stream",
     "text": [
      "total 224\r\n",
      "-rwxrwxrwx 1 sbuergers sbuergers  1265 Mar 19 08:48 __init__.py\r\n",
      "drwxrwxrwx 1 sbuergers sbuergers  4096 Apr 27 20:11 __pycache__\r\n",
      "-rwxrwxrwx 1 sbuergers sbuergers 22834 Apr 27 20:11 baseextractor.py\r\n",
      "-rwxrwxrwx 1 sbuergers sbuergers  9153 Apr 27 20:11 cacheextractors.py\r\n",
      "drwxrwxrwx 1 sbuergers sbuergers  4096 Apr 20 21:40 example_datasets\r\n",
      "-rwxrwxrwx 1 sbuergers sbuergers   105 Mar 19 08:48 exceptions.py\r\n",
      "-rwxrwxrwx 1 sbuergers sbuergers 37347 Apr 27 20:11 extraction_tools.py\r\n",
      "-rwxrwxrwx 1 sbuergers sbuergers  5952 Apr 27 20:11 extractorlist.py\r\n",
      "drwxrwxrwx 1 sbuergers sbuergers  4096 Mar 22 09:47 extractors\r\n",
      "-rwxrwxrwx 1 sbuergers sbuergers  6255 Apr 27 20:11 multirecordingchannelextractor.py\r\n",
      "-rwxrwxrwx 1 sbuergers sbuergers  8547 Apr 27 20:11 multirecordingtimeextractor.py\r\n",
      "-rwxrwxrwx 1 sbuergers sbuergers  5459 Apr 27 20:11 multisortingextractor.py\r\n",
      "-rwxrwxrwx 1 sbuergers sbuergers 41337 Apr 27 20:11 recordingextractor.py\r\n",
      "-rwxrwxrwx 1 sbuergers sbuergers 30652 Apr 27 20:11 sortingextractor.py\r\n",
      "-rwxrwxrwx 1 sbuergers sbuergers  8382 Apr 20 21:40 subrecordingextractor.py\r\n",
      "-rwxrwxrwx 1 sbuergers sbuergers  7788 Mar 19 08:52 subsortingextractor.py\r\n",
      "-rwxrwxrwx 1 sbuergers sbuergers  8296 Mar 19 08:52 testing.py\r\n",
      "-rwxrwxrwx 1 sbuergers sbuergers    18 Apr 20 21:40 version.py\r\n"
     ]
    }
   ],
   "source": [
    "!ls ../spikeextractors/spikeextractors -l"
   ]
  },
  {
   "cell_type": "code",
   "execution_count": 11,
   "metadata": {},
   "outputs": [],
   "source": [
    "from spikeextractors.extractors.neoextractors import AxonaRecordingExtractor"
   ]
  },
  {
   "cell_type": "code",
   "execution_count": 12,
   "metadata": {},
   "outputs": [
    {
     "name": "stdout",
     "output_type": "stream",
     "text": [
      "Number of channels: 16\n",
      "Channel groups: [0 0 0 0 1 1 1 1 2 2 2 2 3 3 3 3]\n"
     ]
    }
   ],
   "source": [
    "are = AxonaRecordingExtractor(filename=filename)\n",
    "print('Number of channels:', are.get_num_channels())\n",
    "print('Channel groups:', are.get_channel_groups())"
   ]
  },
  {
   "cell_type": "markdown",
   "metadata": {},
   "source": [
    "Parse .set file for metadata to include in metadata."
   ]
  },
  {
   "cell_type": "code",
   "execution_count": 13,
   "metadata": {},
   "outputs": [],
   "source": [
    "def parse_generic_header(filename, params):\n",
    "    \"\"\"\n",
    "    Given a binary file with phrases and line breaks, enters the\n",
    "    first word of a phrase as dictionary key and the following\n",
    "    string (without linebreaks) as value. Returns the dictionary.\n",
    "    \n",
    "    INPUT\n",
    "    filename (str): .set file path and name.\n",
    "    params (list or set): parameter names to search for. \n",
    "    \n",
    "    OUTPUT\n",
    "    header (dict): dictionary with keys being the parameters that\n",
    "                   were found & values being strings of the data.\n",
    "                   \n",
    "    EXAMPLE\n",
    "    parse_generic_header('myset_file.set', ['experimenter', 'trial_time'])\n",
    "    \"\"\"\n",
    "    header = {}\n",
    "    params = set(params)\n",
    "    with open(filename, 'rb') as f:\n",
    "        for bin_line in f:\n",
    "            if b'data_start' in bin_line:\n",
    "                break\n",
    "            line = bin_line.decode('cp1252').replace('\\r\\n', '').replace('\\r', '').strip()\n",
    "            parts = line.split(' ')\n",
    "            key = parts[0]\n",
    "            if key in params:\n",
    "                header[key] = ' '.join(parts[1:])\n",
    "            \n",
    "    return header"
   ]
  },
  {
   "cell_type": "code",
   "execution_count": 14,
   "metadata": {},
   "outputs": [],
   "source": [
    "params_of_interest = [\n",
    "    'experimenter', \n",
    "    'comments',\n",
    "    'duration', \n",
    "    'sw_version',\n",
    "    'tracker_version',\n",
    "    'stim_version',\n",
    "    'audio_version'\n",
    "]"
   ]
  },
  {
   "cell_type": "code",
   "execution_count": 15,
   "metadata": {},
   "outputs": [
    {
     "data": {
      "text/plain": [
       "{'experimenter': 'Abid',\n",
       " 'comments': '',\n",
       " 'duration': '600.00625',\n",
       " 'sw_version': '1.2.2.16',\n",
       " 'tracker_version': '0',\n",
       " 'stim_version': '1',\n",
       " 'audio_version': '0'}"
      ]
     },
     "execution_count": 15,
     "metadata": {},
     "output_type": "execute_result"
    }
   ],
   "source": [
    "parse_generic_header(set_file, params_of_interest)"
   ]
  },
  {
   "cell_type": "code",
   "execution_count": 16,
   "metadata": {},
   "outputs": [],
   "source": [
    "def read_iso_datetime(set_file):\n",
    "    \"\"\" \n",
    "    Creates datetime object (y, m, d, h, m, s) from .set file header \n",
    "    \"\"\"\n",
    "    with open(set_file, 'r', encoding='cp1252') as f:\n",
    "        for line in f:\n",
    "            if line.startswith('trial_date'):\n",
    "                date_string = re.findall(r'\\d+\\s\\w+\\s\\d{4}$', line)[0]\n",
    "            if line.startswith('trial_time'):\n",
    "                time_string = line[len('trial_time')+1::].replace('\\n', '')\n",
    "\n",
    "    return datetime.datetime.strptime(date_string + ', ' + time_string, \\\n",
    "        \"%d %b %Y, %H:%M:%S\").isoformat()"
   ]
  },
  {
   "cell_type": "code",
   "execution_count": 17,
   "metadata": {},
   "outputs": [],
   "source": [
    "class AxonaRecordingExtractorInterface(BaseRecordingExtractorInterface):\n",
    "    \"\"\"Primary data interface class for converting a AxonaRecordingExtractor.\"\"\"\n",
    "\n",
    "    RX = se.AxonaRecordingExtractor\n",
    "\n",
    "    @classmethod\n",
    "    def get_source_schema(cls):\n",
    "        source_schema = {\n",
    "            'required': ['filename'],\n",
    "            'properties': {\n",
    "                'filename': {\n",
    "                    'type': 'string',\n",
    "                    'format': 'file',\n",
    "                    'description': 'Path to Axona files.'\n",
    "                }\n",
    "            },\n",
    "            'type': 'object',\n",
    "            'additionalProperties': True\n",
    "        }\n",
    "        return source_schema\n",
    "        \n",
    "    def get_metadata(self):\n",
    "        \"\"\"Auto-fill as much of the metadata as possible. Must comply with metadata schema.\"\"\"        \n",
    "                \n",
    "        # Extract information for specific parameters from .set file\n",
    "        params_of_interest = [\n",
    "            'experimenter', \n",
    "            'comments',\n",
    "            'duration', \n",
    "            'sw_version',\n",
    "            'tracker_version',\n",
    "            'stim_version',\n",
    "            'audio_version'\n",
    "        ]\n",
    "        set_file = self.source_data['filename']+'.set'\n",
    "        par = parse_generic_header(set_file, params_of_interest)\n",
    "        \n",
    "        # Extract information from AxonaRecordingExtractor\n",
    "        elec_group_names = self.recording_extractor.get_channel_groups()\n",
    "        unique_elec_group_names = set(elec_group_names)\n",
    "        \n",
    "        # Add available metadata\n",
    "        metadata = super().get_metadata()\n",
    "        metadata['NWBFile'] = dict(\n",
    "            session_start_time=read_iso_datetime(set_file),\n",
    "            session_description=par['comments'],\n",
    "            session_duration=par['duration']+'s',\n",
    "            experimenter=[par['experimenter']]\n",
    "        )\n",
    "        \n",
    "        metadata['Ecephys'] = dict(\n",
    "            Device=[\n",
    "                dict(\n",
    "                    name=\"Axona\",\n",
    "                    description=\"Axona DacqUSB, sw_version={}\".format(par['sw_version']),\n",
    "                    manufacturer=\"Axona\"\n",
    "                ),\n",
    "            ],\n",
    "            ElectrodeGroup=[\n",
    "                dict(\n",
    "                    name=f'Group{group_name}',\n",
    "                    location='',\n",
    "                    device='Axona',\n",
    "                    description=f\"Group {group_name} electrodes.\",\n",
    "                )\n",
    "                for group_name in unique_elec_group_names\n",
    "            ],\n",
    "            Electrodes=[\n",
    "                dict(\n",
    "                    name='group_name',\n",
    "                    description=\"The name of the ElectrodeGroup this electrode is a part of.\",\n",
    "                    data=[f\"Group{x}\" for x in elec_group_names]\n",
    "                )\n",
    "            ],\n",
    "            ElectricalSeries=dict(\n",
    "                name='ElectricalSeries',\n",
    "                description=\"Raw acquisition traces.\"\n",
    "            )\n",
    "        )\n",
    "  \n",
    "        return metadata"
   ]
  },
  {
   "cell_type": "code",
   "execution_count": 18,
   "metadata": {},
   "outputs": [],
   "source": [
    "\"\"\"Authors: Steffen Buergers\"\"\"\n",
    "import re\n",
    "import datetime\n",
    "import spikeextractors as se\n",
    "\n",
    "from nwb_conversion_tools.baserecordingextractorinterface import BaseRecordingExtractorInterface\n",
    "\n",
    "\n",
    "def parse_generic_header(filename, params):\n",
    "    \"\"\"\n",
    "    Given a binary file with phrases and line breaks, enters the\n",
    "    first word of a phrase as dictionary key and the following\n",
    "    string (without linebreaks) as value. Returns the dictionary.\n",
    "\n",
    "    INPUT\n",
    "    filename (str): .set file path and name.\n",
    "    params (list or set): parameter names to search for.\n",
    "\n",
    "    OUTPUT\n",
    "    header (dict): dictionary with keys being the parameters that\n",
    "                   were found & values being strings of the data.\n",
    "\n",
    "    EXAMPLE\n",
    "    parse_generic_header('myset_file.set', ['experimenter', 'trial_time'])\n",
    "    \"\"\"\n",
    "    header = {}\n",
    "    params = set(params)\n",
    "    with open(filename, 'rb') as f:\n",
    "        for bin_line in f:\n",
    "            if b'data_start' in bin_line:\n",
    "                break\n",
    "            line = bin_line.decode('cp1252').replace('\\r\\n', '').\\\n",
    "                replace('\\r', '').strip()\n",
    "            parts = line.split(' ')\n",
    "            key = parts[0]\n",
    "            if key in params:\n",
    "                header[key] = ' '.join(parts[1:])\n",
    "\n",
    "    return header\n",
    "\n",
    "\n",
    "def read_iso_datetime(set_file):\n",
    "    \"\"\"\n",
    "    Creates datetime object (y, m, d, h, m, s) from .set file header\n",
    "    and converts it to ISO 8601 format\n",
    "    \"\"\"\n",
    "    with open(set_file, 'r', encoding='cp1252') as f:\n",
    "        for line in f:\n",
    "            if line.startswith('trial_date'):\n",
    "                date_string = re.findall(r'\\d+\\s\\w+\\s\\d{4}$', line)[0]\n",
    "            if line.startswith('trial_time'):\n",
    "                time_string = line[len('trial_time')+1::].replace('\\n', '')\n",
    "\n",
    "    return datetime.datetime.strptime(date_string + ', ' + time_string,\n",
    "                                      \"%d %b %Y, %H:%M:%S\").isoformat()\n",
    "\n",
    "\n",
    "class AxonaRecordingExtractorInterface(BaseRecordingExtractorInterface):\n",
    "    \"\"\"Primary data interface class for converting a AxonaRecordingExtractor\"\"\"\n",
    "\n",
    "    RX = se.AxonaRecordingExtractor\n",
    "\n",
    "    @classmethod\n",
    "    def get_source_schema(cls):\n",
    "        source_schema = {\n",
    "            'required': ['filename'],\n",
    "            'properties': {\n",
    "                'filename': {\n",
    "                    'type': 'string',\n",
    "                    'format': 'file',\n",
    "                    'description': 'Path to Axona files.'\n",
    "                }\n",
    "            },\n",
    "            'type': 'object',\n",
    "            'additionalProperties': True\n",
    "        }\n",
    "        return source_schema\n",
    "\n",
    "    def get_metadata(self):\n",
    "\n",
    "        # Extract information for specific parameters from .set file\n",
    "        params_of_interest = [\n",
    "            'experimenter',\n",
    "            'comments',\n",
    "            'duration',\n",
    "            'sw_version'\n",
    "        ]\n",
    "        set_file = self.source_data['filename'].split('.')[0]+'.set'\n",
    "        par = parse_generic_header(set_file, params_of_interest)\n",
    "\n",
    "        # Extract information from AxonaRecordingExtractor\n",
    "        elec_group_names = self.recording_extractor.get_channel_groups()\n",
    "        unique_elec_group_names = set(elec_group_names)\n",
    "\n",
    "        # Add available metadata\n",
    "        metadata = super().get_metadata()\n",
    "        metadata['NWBFile'] = dict(\n",
    "            session_start_time=read_iso_datetime(set_file),\n",
    "            session_description=par['comments'],\n",
    "            #session_duration=par['duration']+'s',\n",
    "            experimenter=[par['experimenter']]\n",
    "        )\n",
    "\n",
    "        metadata['Ecephys'] = dict(\n",
    "            Device=[\n",
    "                dict(\n",
    "                    name=\"Axona\",\n",
    "                    description=\"Axona DacqUSB, sw_version={}\"\n",
    "                                .format(par['sw_version']),\n",
    "                    manufacturer=\"Axona\"\n",
    "                ),\n",
    "            ],\n",
    "            ElectrodeGroup=[\n",
    "                dict(\n",
    "                    name=f'Group{group_name}',\n",
    "                    location='',\n",
    "                    device='Axona',\n",
    "                    description=f\"Group {group_name} electrodes.\",\n",
    "                )\n",
    "                for group_name in unique_elec_group_names\n",
    "            ],\n",
    "            #Electrodes=[\n",
    "            #    dict(\n",
    "            #        name='group_name',\n",
    "            #        description=\"The name of the ElectrodeGroup this \\\n",
    "            #            electrode is a part of.\",\n",
    "            #        data=[f\"Group{x}\" for x in elec_group_names]\n",
    "            #    )\n",
    "            #],\n",
    "            #ElectricalSeries=dict(\n",
    "            #    name='ElectricalSeries',\n",
    "            #    description=\"Raw acquisition traces.\"\n",
    "            #)\n",
    "        )\n",
    "\n",
    "        return metadata"
   ]
  },
  {
   "cell_type": "code",
   "execution_count": 20,
   "metadata": {},
   "outputs": [
    {
     "name": "stdout",
     "output_type": "stream",
     "text": [
      "/mnt/d/freelance-work/catalyst-neuro/hussaini-lab-to-nwb/example_data_raw/axona_raw_5s\n",
      "{\n",
      "  \"AxonaRecordingExtractorInterface\": {\n",
      "    \"filename\": \"/mnt/d/freelance-work/catalyst-neuro/hussaini-lab-to-nwb/example_data_raw/axona_raw_5s\"\n",
      "  }\n",
      "}\n",
      "Source data is valid!\n",
      "{\n",
      "  \"NWBFile\": {\n",
      "    \"required\": [\n",
      "      \"session_description\",\n",
      "      \"identifier\",\n",
      "      \"session_start_time\"\n",
      "    ],\n",
      "    \"properties\": {\n",
      "      \"session_description\": {\n",
      "        \"type\": \"string\",\n",
      "        \"format\": \"long\",\n",
      "        \"description\": \"a description of the session where this data was generated\",\n",
      "        \"default\": \"\"\n",
      "      },\n",
      "      \"identifier\": {\n",
      "        \"type\": \"string\",\n",
      "        \"description\": \"a unique text identifier for the file\",\n",
      "        \"default\": \"6f64cfad-d2de-40b2-9af5-405bdb17eac0\"\n",
      "      },\n",
      "      \"session_start_time\": {\n",
      "        \"type\": \"string\",\n",
      "        \"description\": \"the start date and time of the recording session\",\n",
      "        \"format\": \"date-time\",\n",
      "        \"default\": \"2020-10-04T11:07:07\"\n",
      "      },\n",
      "      \"experimenter\": {\n",
      "        \"type\": \"array\",\n",
      "        \"items\": {\n",
      "          \"type\": \"string\",\n",
      "          \"title\": \"experimenter\"\n",
      "        },\n",
      "        \"description\": \"name of person who performed experiment\",\n",
      "        \"default\": [\n",
      "          \"Abid\"\n",
      "        ]\n",
      "      },\n",
      "      \"experiment_description\": {\n",
      "        \"type\": \"string\",\n",
      "        \"description\": \"general description of the experiment\"\n",
      "      },\n",
      "      \"session_id\": {\n",
      "        \"type\": \"string\",\n",
      "        \"description\": \"lab-specific ID for the session\"\n",
      "      },\n",
      "      \"institution\": {\n",
      "        \"type\": \"string\",\n",
      "        \"description\": \"institution(s) where experiment is performed\"\n",
      "      },\n",
      "      \"notes\": {\n",
      "        \"type\": \"string\",\n",
      "        \"description\": \"Notes about the experiment.\"\n",
      "      },\n",
      "      \"pharmacology\": {\n",
      "        \"type\": \"string\",\n",
      "        \"description\": \"Description of drugs used, including how and when they were administered. Anesthesia(s), painkiller(s), etc., plus dosage, concentration, etc.\"\n",
      "      },\n",
      "      \"protocol\": {\n",
      "        \"type\": \"string\",\n",
      "        \"description\": \"Experimental protocol, if applicable. E.g., include IACUC protocol\"\n",
      "      },\n",
      "      \"related_publications\": {\n",
      "        \"type\": \"string\",\n",
      "        \"description\": \"Publication information.PMID, DOI, URL, etc. If multiple, concatenate together and describe which is which. such as PMID, DOI, URL, etc\"\n",
      "      },\n",
      "      \"slices\": {\n",
      "        \"type\": \"string\",\n",
      "        \"description\": \"Description of slices, including information about preparation thickness, orientation, temperature and bath solution\"\n",
      "      },\n",
      "      \"source_script\": {\n",
      "        \"type\": \"string\",\n",
      "        \"description\": \"Script file used to create this NWB file.\"\n",
      "      },\n",
      "      \"source_script_file_name\": {\n",
      "        \"type\": \"string\",\n",
      "        \"description\": \"Name of the source_script file\"\n",
      "      },\n",
      "      \"data_collection\": {\n",
      "        \"type\": \"string\",\n",
      "        \"description\": \"Notes about data collection and analysis.\"\n",
      "      },\n",
      "      \"surgery\": {\n",
      "        \"type\": \"string\",\n",
      "        \"description\": \"Narrative description about surgery/surgeries, including date(s) and who performed surgery.\"\n",
      "      },\n",
      "      \"virus\": {\n",
      "        \"type\": \"string\",\n",
      "        \"description\": \"Information about virus(es) used in experiments, including virus ID, source, date made, injection location, volume, etc.\"\n",
      "      },\n",
      "      \"stimulus_notes\": {\n",
      "        \"type\": \"string\",\n",
      "        \"description\": \"Notes about stimuli, such as how and where presented.\"\n",
      "      },\n",
      "      \"lab\": {\n",
      "        \"type\": \"string\",\n",
      "        \"description\": \"lab where experiment was performed\"\n",
      "      }\n",
      "    },\n",
      "    \"type\": \"object\",\n",
      "    \"additionalProperties\": false,\n",
      "    \"tag\": \"pynwb.file.NWBFile\"\n",
      "  },\n",
      "  \"Subject\": {\n",
      "    \"required\": [],\n",
      "    \"properties\": {\n",
      "      \"age\": {\n",
      "        \"description\": \"the age of the subject\",\n",
      "        \"type\": \"string\"\n",
      "      },\n",
      "      \"description\": {\n",
      "        \"description\": \"a description of the subject\",\n",
      "        \"type\": \"string\"\n",
      "      },\n",
      "      \"genotype\": {\n",
      "        \"description\": \"the genotype of the subject\",\n",
      "        \"type\": \"string\"\n",
      "      },\n",
      "      \"sex\": {\n",
      "        \"description\": \"the sex of the subject\",\n",
      "        \"type\": \"string\"\n",
      "      },\n",
      "      \"species\": {\n",
      "        \"description\": \"the species of the subject\",\n",
      "        \"type\": \"string\"\n",
      "      },\n",
      "      \"subject_id\": {\n",
      "        \"description\": \"a unique identifier for the subject\",\n",
      "        \"type\": \"string\"\n",
      "      },\n",
      "      \"weight\": {\n",
      "        \"description\": \"the weight of the subject\",\n",
      "        \"type\": \"string\"\n",
      "      },\n",
      "      \"date_of_birth\": {\n",
      "        \"description\": \"datetime of date of birth. May be supplied instead of age.\",\n",
      "        \"type\": \"string\",\n",
      "        \"format\": \"date-time\"\n",
      "      }\n",
      "    },\n",
      "    \"type\": \"object\",\n",
      "    \"additionalProperties\": false,\n",
      "    \"tag\": \"pynwb.file.Subject\"\n",
      "  },\n",
      "  \"Ecephys\": {\n",
      "    \"required\": [\n",
      "      \"Device\",\n",
      "      \"ElectrodeGroup\"\n",
      "    ],\n",
      "    \"properties\": {\n",
      "      \"Device\": {\n",
      "        \"type\": \"array\",\n",
      "        \"minItems\": 1,\n",
      "        \"items\": {\n",
      "          \"$ref\": \"#/properties/Ecephys/properties/definitions/Device\"\n",
      "        },\n",
      "        \"default\": [\n",
      "          {\n",
      "            \"name\": \"Axona\",\n",
      "            \"description\": \"Axona DacqUSB, sw_version=1.2.2.16\",\n",
      "            \"manufacturer\": \"Axona\"\n",
      "          }\n",
      "        ]\n",
      "      },\n",
      "      \"ElectrodeGroup\": {\n",
      "        \"type\": \"array\",\n",
      "        \"minItems\": 1,\n",
      "        \"items\": {\n",
      "          \"$ref\": \"#/properties/Ecephys/properties/definitions/ElectrodeGroup\"\n",
      "        },\n",
      "        \"default\": [\n",
      "          {\n",
      "            \"name\": \"Group0\",\n",
      "            \"location\": \"\",\n",
      "            \"device\": \"Axona\",\n",
      "            \"description\": \"Group 0 electrodes.\"\n",
      "          },\n",
      "          {\n",
      "            \"name\": \"Group1\",\n",
      "            \"location\": \"\",\n",
      "            \"device\": \"Axona\",\n",
      "            \"description\": \"Group 1 electrodes.\"\n",
      "          },\n",
      "          {\n",
      "            \"name\": \"Group2\",\n",
      "            \"location\": \"\",\n",
      "            \"device\": \"Axona\",\n",
      "            \"description\": \"Group 2 electrodes.\"\n",
      "          },\n",
      "          {\n",
      "            \"name\": \"Group3\",\n",
      "            \"location\": \"\",\n",
      "            \"device\": \"Axona\",\n",
      "            \"description\": \"Group 3 electrodes.\"\n",
      "          }\n",
      "        ]\n",
      "      },\n",
      "      \"definitions\": {\n",
      "        \"Device\": {\n",
      "          \"required\": [\n",
      "            \"name\"\n",
      "          ],\n",
      "          \"properties\": {\n",
      "            \"name\": {\n",
      "              \"description\": \"the name of this device\",\n",
      "              \"type\": \"string\"\n",
      "            },\n",
      "            \"description\": {\n",
      "              \"description\": \"Description of the device (e.g., model, firmware version, processing software version, etc.)\",\n",
      "              \"type\": \"string\"\n",
      "            },\n",
      "            \"manufacturer\": {\n",
      "              \"description\": \"the name of the manufacturer of this device\",\n",
      "              \"type\": \"string\"\n",
      "            }\n",
      "          },\n",
      "          \"type\": \"object\",\n",
      "          \"additionalProperties\": false,\n",
      "          \"tag\": \"pynwb.device.Device\"\n",
      "        },\n",
      "        \"ElectrodeGroup\": {\n",
      "          \"required\": [\n",
      "            \"location\",\n",
      "            \"device\",\n",
      "            \"description\",\n",
      "            \"name\"\n",
      "          ],\n",
      "          \"properties\": {\n",
      "            \"name\": {\n",
      "              \"description\": \"the name of this electrode\",\n",
      "              \"type\": \"string\"\n",
      "            },\n",
      "            \"description\": {\n",
      "              \"description\": \"description of this electrode group\",\n",
      "              \"type\": \"string\"\n",
      "            },\n",
      "            \"location\": {\n",
      "              \"description\": \"description of location of this electrode group\",\n",
      "              \"type\": \"string\"\n",
      "            },\n",
      "            \"device\": {\n",
      "              \"description\": \"the device that was used to record from this electrode group\",\n",
      "              \"type\": \"string\",\n",
      "              \"target\": \"pynwb.device.Device\"\n",
      "            }\n",
      "          },\n",
      "          \"type\": \"object\",\n",
      "          \"additionalProperties\": false,\n",
      "          \"tag\": \"pynwb.ecephys.ElectrodeGroup\"\n",
      "        }\n",
      "      }\n",
      "    },\n",
      "    \"type\": \"object\",\n",
      "    \"additionalProperties\": false,\n",
      "    \"tag\": \"Ecephys\"\n",
      "  }\n",
      "}\n",
      "{\n",
      "  \"NWBFile\": {\n",
      "    \"session_description\": \"\",\n",
      "    \"session_start_time\": \"2020-10-04T11:07:07\",\n",
      "    \"identifier\": \"c7d8d0ac-77c3-4612-9216-1f745e43a1c6\",\n",
      "    \"experimenter\": [\n",
      "      \"Abid\"\n",
      "    ]\n",
      "  },\n",
      "  \"Ecephys\": {\n",
      "    \"Device\": [\n",
      "      {\n",
      "        \"name\": \"Axona\",\n",
      "        \"description\": \"Axona DacqUSB, sw_version=1.2.2.16\",\n",
      "        \"manufacturer\": \"Axona\"\n",
      "      }\n",
      "    ],\n",
      "    \"ElectrodeGroup\": [\n",
      "      {\n",
      "        \"name\": \"Group0\",\n",
      "        \"location\": \"\",\n",
      "        \"device\": \"Axona\",\n",
      "        \"description\": \"Group 0 electrodes.\"\n",
      "      },\n",
      "      {\n",
      "        \"name\": \"Group1\",\n",
      "        \"location\": \"\",\n",
      "        \"device\": \"Axona\",\n",
      "        \"description\": \"Group 1 electrodes.\"\n",
      "      },\n",
      "      {\n",
      "        \"name\": \"Group2\",\n",
      "        \"location\": \"\",\n",
      "        \"device\": \"Axona\",\n",
      "        \"description\": \"Group 2 electrodes.\"\n",
      "      },\n",
      "      {\n",
      "        \"name\": \"Group3\",\n",
      "        \"location\": \"\",\n",
      "        \"device\": \"Axona\",\n",
      "        \"description\": \"Group 3 electrodes.\"\n",
      "      }\n",
      "    ]\n",
      "  }\n",
      "}\n"
     ]
    }
   ],
   "source": [
    "# TEST CODE IN ONE CELL\n",
    "\n",
    "dir_name = r'/mnt/d/freelance-work/catalyst-neuro/hussaini-lab-to-nwb/example_data_raw'\n",
    "base_filename = 'axona_raw_5s'\n",
    "filename = os.path.join(dir_name, base_filename)\n",
    "print(filename)\n",
    "\n",
    "# Define source data (required for instantiating converter)\n",
    "source_data = dict(\n",
    "    AxonaRecordingExtractorInterface=dict(\n",
    "        filename=filename\n",
    "    )\n",
    ")\n",
    "print(json.dumps(source_data, indent=2))\n",
    "\n",
    "\n",
    "# Create a Hussaini-lab converter\n",
    "from nwb_conversion_tools import NWBConverter\n",
    "\n",
    "class HussainiNWBConverter(NWBConverter):\n",
    "    data_interface_classes = dict(\n",
    "        AxonaRecordingExtractorInterface=AxonaRecordingExtractorInterface\n",
    "    )\n",
    "\n",
    "    \n",
    "# Instantiate Hussaini-lab converter\n",
    "converter = HussainiNWBConverter(source_data=source_data)\n",
    "\n",
    "\n",
    "# View metadata_schema from converter\n",
    "metadata_schema = converter.get_metadata_schema()\n",
    "print(json.dumps(metadata_schema['properties'], indent=2))\n",
    "\n",
    "\n",
    "# View converter metadata\n",
    "metadata = converter.get_metadata()\n",
    "print(json.dumps(metadata, indent=2))\n",
    "\n",
    "\n",
    "# Validate metadata with metadata_schema\n",
    "validate(\n",
    "    instance=converter.get_metadata(),\n",
    "    schema=converter.get_metadata_schema()\n",
    ")"
   ]
  },
  {
   "cell_type": "code",
   "execution_count": 21,
   "metadata": {},
   "outputs": [],
   "source": [
    "RXI = AxonaRecordingExtractorInterface(filename=filename)"
   ]
  },
  {
   "cell_type": "code",
   "execution_count": 22,
   "metadata": {},
   "outputs": [
    {
     "data": {
      "text/plain": [
       "{'NWBFile': {'session_start_time': '2020-10-04T11:07:07',\n",
       "  'session_description': '',\n",
       "  'experimenter': ['Abid']},\n",
       " 'Ecephys': {'Device': [{'name': 'Axona',\n",
       "    'description': 'Axona DacqUSB, sw_version=1.2.2.16',\n",
       "    'manufacturer': 'Axona'}],\n",
       "  'ElectrodeGroup': [{'name': 'Group0',\n",
       "    'location': '',\n",
       "    'device': 'Axona',\n",
       "    'description': 'Group 0 electrodes.'},\n",
       "   {'name': 'Group1',\n",
       "    'location': '',\n",
       "    'device': 'Axona',\n",
       "    'description': 'Group 1 electrodes.'},\n",
       "   {'name': 'Group2',\n",
       "    'location': '',\n",
       "    'device': 'Axona',\n",
       "    'description': 'Group 2 electrodes.'},\n",
       "   {'name': 'Group3',\n",
       "    'location': '',\n",
       "    'device': 'Axona',\n",
       "    'description': 'Group 3 electrodes.'}]}}"
      ]
     },
     "execution_count": 22,
     "metadata": {},
     "output_type": "execute_result"
    }
   ],
   "source": [
    "RXI.get_metadata()"
   ]
  },
  {
   "cell_type": "code",
   "execution_count": 23,
   "metadata": {},
   "outputs": [],
   "source": [
    "base_metadata_schema = RXI.get_metadata_schema()"
   ]
  },
  {
   "cell_type": "code",
   "execution_count": 24,
   "metadata": {},
   "outputs": [
    {
     "name": "stdout",
     "output_type": "stream",
     "text": [
      "{\n",
      "  \"required\": [],\n",
      "  \"properties\": {\n",
      "    \"Ecephys\": {\n",
      "      \"required\": [\n",
      "        \"Device\",\n",
      "        \"ElectrodeGroup\"\n",
      "      ],\n",
      "      \"properties\": {\n",
      "        \"Device\": {\n",
      "          \"type\": \"array\",\n",
      "          \"minItems\": 1,\n",
      "          \"items\": {\n",
      "            \"$ref\": \"#/properties/Ecephys/properties/definitions/Device\"\n",
      "          }\n",
      "        },\n",
      "        \"ElectrodeGroup\": {\n",
      "          \"type\": \"array\",\n",
      "          \"minItems\": 1,\n",
      "          \"items\": {\n",
      "            \"$ref\": \"#/properties/Ecephys/properties/definitions/ElectrodeGroup\"\n",
      "          }\n",
      "        },\n",
      "        \"definitions\": {\n",
      "          \"Device\": {\n",
      "            \"required\": [\n",
      "              \"name\"\n",
      "            ],\n",
      "            \"properties\": {\n",
      "              \"name\": {\n",
      "                \"description\": \"the name of this device\",\n",
      "                \"type\": \"string\"\n",
      "              },\n",
      "              \"description\": {\n",
      "                \"description\": \"Description of the device (e.g., model, firmware version, processing software version, etc.)\",\n",
      "                \"type\": \"string\"\n",
      "              },\n",
      "              \"manufacturer\": {\n",
      "                \"description\": \"the name of the manufacturer of this device\",\n",
      "                \"type\": \"string\"\n",
      "              }\n",
      "            },\n",
      "            \"type\": \"object\",\n",
      "            \"additionalProperties\": false,\n",
      "            \"tag\": \"pynwb.device.Device\"\n",
      "          },\n",
      "          \"ElectrodeGroup\": {\n",
      "            \"required\": [\n",
      "              \"name\",\n",
      "              \"description\",\n",
      "              \"location\",\n",
      "              \"device\"\n",
      "            ],\n",
      "            \"properties\": {\n",
      "              \"name\": {\n",
      "                \"description\": \"the name of this electrode\",\n",
      "                \"type\": \"string\"\n",
      "              },\n",
      "              \"description\": {\n",
      "                \"description\": \"description of this electrode group\",\n",
      "                \"type\": \"string\"\n",
      "              },\n",
      "              \"location\": {\n",
      "                \"description\": \"description of location of this electrode group\",\n",
      "                \"type\": \"string\"\n",
      "              },\n",
      "              \"device\": {\n",
      "                \"description\": \"the device that was used to record from this electrode group\",\n",
      "                \"type\": \"string\",\n",
      "                \"target\": \"pynwb.device.Device\"\n",
      "              }\n",
      "            },\n",
      "            \"type\": \"object\",\n",
      "            \"additionalProperties\": false,\n",
      "            \"tag\": \"pynwb.ecephys.ElectrodeGroup\"\n",
      "          }\n",
      "        }\n",
      "      },\n",
      "      \"type\": \"object\",\n",
      "      \"additionalProperties\": false,\n",
      "      \"tag\": \"Ecephys\"\n",
      "    }\n",
      "  },\n",
      "  \"type\": \"object\",\n",
      "  \"additionalProperties\": false,\n",
      "  \"$schema\": \"http://json-schema.org/draft-07/schema#\",\n",
      "  \"$id\": \"metadata.schema.json\",\n",
      "  \"title\": \"Metadata\",\n",
      "  \"description\": \"Schema for the metadata\",\n",
      "  \"version\": \"0.1.0\"\n",
      "}\n"
     ]
    }
   ],
   "source": [
    "print(json.dumps(base_metadata_schema, indent=2))"
   ]
  },
  {
   "cell_type": "code",
   "execution_count": 25,
   "metadata": {},
   "outputs": [
    {
     "name": "stdout",
     "output_type": "stream",
     "text": [
      "validation FAILED\n"
     ]
    }
   ],
   "source": [
    "# The metadata_schema does not validate with the metadata, bc\n",
    "# the full metadata_schema is only inherited when defining the\n",
    "# nwbconverter (see below).\n",
    "\n",
    "try:\n",
    "    validate(\n",
    "        instance=RXI.get_metadata(),\n",
    "        schema=RXI.get_metadata_schema()\n",
    "    )\n",
    "    print('validation SUCCESS')\n",
    "except ValidationError:\n",
    "    print('validation FAILED')"
   ]
  },
  {
   "cell_type": "code",
   "execution_count": 26,
   "metadata": {},
   "outputs": [],
   "source": [
    "from nwb_conversion_tools import (\n",
    "    NWBConverter\n",
    ")\n",
    "\n",
    "\n",
    "class HussainiNWBConverter(NWBConverter):\n",
    "    \n",
    "    #@classmethod\n",
    "    #def validate_source(cls, source_data):\n",
    "    #    \"\"\"Validate source_data against Converter source_schema.\"\"\"\n",
    "    #    validate(instance=source_data, schema=cls.get_source_schema())\n",
    "    #    print('Source data is valid!')\n",
    "    # \n",
    "    data_interface_classes = dict(\n",
    "        AxonaRecordingExtractorInterface=AxonaRecordingExtractorInterface\n",
    "    )"
   ]
  },
  {
   "cell_type": "code",
   "execution_count": 27,
   "metadata": {},
   "outputs": [],
   "source": [
    "validate(instance=source_data, schema=HussainiNWBConverter.get_source_schema())"
   ]
  },
  {
   "cell_type": "code",
   "execution_count": 28,
   "metadata": {},
   "outputs": [
    {
     "name": "stdout",
     "output_type": "stream",
     "text": [
      "{\n",
      "  \"AxonaRecordingExtractorInterface\": {\n",
      "    \"required\": [\n",
      "      \"filename\"\n",
      "    ],\n",
      "    \"properties\": {\n",
      "      \"filename\": {\n",
      "        \"type\": \"string\",\n",
      "        \"format\": \"file\",\n",
      "        \"description\": \"Path to Axona files.\"\n",
      "      }\n",
      "    },\n",
      "    \"type\": \"object\",\n",
      "    \"additionalProperties\": true\n",
      "  }\n",
      "}\n"
     ]
    }
   ],
   "source": [
    "# Get source_schema from converter\n",
    "\n",
    "source_schema = HussainiNWBConverter.get_source_schema()\n",
    "print(json.dumps(source_schema['properties'], indent=2))"
   ]
  },
  {
   "cell_type": "code",
   "execution_count": 29,
   "metadata": {},
   "outputs": [
    {
     "name": "stdout",
     "output_type": "stream",
     "text": [
      "{\n",
      "  \"AxonaRecordingExtractorInterface\": {\n",
      "    \"filename\": \"/mnt/d/freelance-work/catalyst-neuro/hussaini-lab-to-nwb/example_data_raw/axona_raw_5s\"\n",
      "  }\n",
      "}\n"
     ]
    }
   ],
   "source": [
    "# Define source data (required for instantiating converter)\n",
    "\n",
    "source_data = dict(\n",
    "    AxonaRecordingExtractorInterface=dict(\n",
    "        filename=filename\n",
    "    )\n",
    ")\n",
    "\n",
    "print(json.dumps(source_data, indent=2))"
   ]
  },
  {
   "cell_type": "code",
   "execution_count": 30,
   "metadata": {},
   "outputs": [
    {
     "data": {
      "text/plain": [
       "{'AxonaRecordingExtractorInterface': __main__.AxonaRecordingExtractorInterface}"
      ]
     },
     "execution_count": 30,
     "metadata": {},
     "output_type": "execute_result"
    }
   ],
   "source": [
    "HussainiNWBConverter.data_interface_classes"
   ]
  },
  {
   "cell_type": "code",
   "execution_count": 31,
   "metadata": {},
   "outputs": [
    {
     "data": {
      "text/plain": [
       "dict_items([('AxonaRecordingExtractorInterface', <class '__main__.AxonaRecordingExtractorInterface'>)])"
      ]
     },
     "execution_count": 31,
     "metadata": {},
     "output_type": "execute_result"
    }
   ],
   "source": [
    "HussainiNWBConverter.data_interface_classes.items()"
   ]
  },
  {
   "cell_type": "code",
   "execution_count": 32,
   "metadata": {},
   "outputs": [],
   "source": [
    "validate(instance=source_data, schema=HussainiNWBConverter.get_source_schema())"
   ]
  },
  {
   "cell_type": "code",
   "execution_count": 33,
   "metadata": {},
   "outputs": [
    {
     "data": {
      "text/plain": [
       "{'required': [],\n",
       " 'properties': {'AxonaRecordingExtractorInterface': {'required': ['filename'],\n",
       "   'properties': {'filename': {'type': 'string',\n",
       "     'format': 'file',\n",
       "     'description': 'Path to Axona files.'}},\n",
       "   'type': 'object',\n",
       "   'additionalProperties': True}},\n",
       " 'type': 'object',\n",
       " 'additionalProperties': False,\n",
       " '$schema': 'http://json-schema.org/draft-07/schema#',\n",
       " '$id': 'source.schema.json',\n",
       " 'title': 'Source data schema',\n",
       " 'description': 'Schema for the source data, files and directories',\n",
       " 'version': '0.1.0'}"
      ]
     },
     "execution_count": 33,
     "metadata": {},
     "output_type": "execute_result"
    }
   ],
   "source": [
    "HussainiNWBConverter.get_source_schema()"
   ]
  },
  {
   "cell_type": "code",
   "execution_count": 34,
   "metadata": {},
   "outputs": [
    {
     "name": "stdout",
     "output_type": "stream",
     "text": [
      "Source data is valid!\n"
     ]
    }
   ],
   "source": [
    "# Instantiate Hussaini-lab converter\n",
    "\n",
    "HussainiNWBConverter.validate_source(source_data=source_data)"
   ]
  },
  {
   "cell_type": "code",
   "execution_count": 35,
   "metadata": {},
   "outputs": [
    {
     "name": "stdout",
     "output_type": "stream",
     "text": [
      "Source data is valid!\n",
      "{\n",
      "  \"NWBFile\": {\n",
      "    \"required\": [\n",
      "      \"session_description\",\n",
      "      \"identifier\",\n",
      "      \"session_start_time\"\n",
      "    ],\n",
      "    \"properties\": {\n",
      "      \"session_description\": {\n",
      "        \"type\": \"string\",\n",
      "        \"format\": \"long\",\n",
      "        \"description\": \"a description of the session where this data was generated\",\n",
      "        \"default\": \"\"\n",
      "      },\n",
      "      \"identifier\": {\n",
      "        \"type\": \"string\",\n",
      "        \"description\": \"a unique text identifier for the file\",\n",
      "        \"default\": \"17c83aba-8c1e-4bc5-828a-a0f9af12651f\"\n",
      "      },\n",
      "      \"session_start_time\": {\n",
      "        \"type\": \"string\",\n",
      "        \"description\": \"the start date and time of the recording session\",\n",
      "        \"format\": \"date-time\",\n",
      "        \"default\": \"2020-10-04T11:07:07\"\n",
      "      },\n",
      "      \"experimenter\": {\n",
      "        \"type\": \"array\",\n",
      "        \"items\": {\n",
      "          \"type\": \"string\",\n",
      "          \"title\": \"experimenter\"\n",
      "        },\n",
      "        \"description\": \"name of person who performed experiment\",\n",
      "        \"default\": [\n",
      "          \"Abid\"\n",
      "        ]\n",
      "      },\n",
      "      \"experiment_description\": {\n",
      "        \"type\": \"string\",\n",
      "        \"description\": \"general description of the experiment\"\n",
      "      },\n",
      "      \"session_id\": {\n",
      "        \"type\": \"string\",\n",
      "        \"description\": \"lab-specific ID for the session\"\n",
      "      },\n",
      "      \"institution\": {\n",
      "        \"type\": \"string\",\n",
      "        \"description\": \"institution(s) where experiment is performed\"\n",
      "      },\n",
      "      \"notes\": {\n",
      "        \"type\": \"string\",\n",
      "        \"description\": \"Notes about the experiment.\"\n",
      "      },\n",
      "      \"pharmacology\": {\n",
      "        \"type\": \"string\",\n",
      "        \"description\": \"Description of drugs used, including how and when they were administered. Anesthesia(s), painkiller(s), etc., plus dosage, concentration, etc.\"\n",
      "      },\n",
      "      \"protocol\": {\n",
      "        \"type\": \"string\",\n",
      "        \"description\": \"Experimental protocol, if applicable. E.g., include IACUC protocol\"\n",
      "      },\n",
      "      \"related_publications\": {\n",
      "        \"type\": \"string\",\n",
      "        \"description\": \"Publication information.PMID, DOI, URL, etc. If multiple, concatenate together and describe which is which. such as PMID, DOI, URL, etc\"\n",
      "      },\n",
      "      \"slices\": {\n",
      "        \"type\": \"string\",\n",
      "        \"description\": \"Description of slices, including information about preparation thickness, orientation, temperature and bath solution\"\n",
      "      },\n",
      "      \"source_script\": {\n",
      "        \"type\": \"string\",\n",
      "        \"description\": \"Script file used to create this NWB file.\"\n",
      "      },\n",
      "      \"source_script_file_name\": {\n",
      "        \"type\": \"string\",\n",
      "        \"description\": \"Name of the source_script file\"\n",
      "      },\n",
      "      \"data_collection\": {\n",
      "        \"type\": \"string\",\n",
      "        \"description\": \"Notes about data collection and analysis.\"\n",
      "      },\n",
      "      \"surgery\": {\n",
      "        \"type\": \"string\",\n",
      "        \"description\": \"Narrative description about surgery/surgeries, including date(s) and who performed surgery.\"\n",
      "      },\n",
      "      \"virus\": {\n",
      "        \"type\": \"string\",\n",
      "        \"description\": \"Information about virus(es) used in experiments, including virus ID, source, date made, injection location, volume, etc.\"\n",
      "      },\n",
      "      \"stimulus_notes\": {\n",
      "        \"type\": \"string\",\n",
      "        \"description\": \"Notes about stimuli, such as how and where presented.\"\n",
      "      },\n",
      "      \"lab\": {\n",
      "        \"type\": \"string\",\n",
      "        \"description\": \"lab where experiment was performed\"\n",
      "      }\n",
      "    },\n",
      "    \"type\": \"object\",\n",
      "    \"additionalProperties\": false,\n",
      "    \"tag\": \"pynwb.file.NWBFile\"\n",
      "  },\n",
      "  \"Subject\": {\n",
      "    \"required\": [],\n",
      "    \"properties\": {\n",
      "      \"age\": {\n",
      "        \"description\": \"the age of the subject\",\n",
      "        \"type\": \"string\"\n",
      "      },\n",
      "      \"description\": {\n",
      "        \"description\": \"a description of the subject\",\n",
      "        \"type\": \"string\"\n",
      "      },\n",
      "      \"genotype\": {\n",
      "        \"description\": \"the genotype of the subject\",\n",
      "        \"type\": \"string\"\n",
      "      },\n",
      "      \"sex\": {\n",
      "        \"description\": \"the sex of the subject\",\n",
      "        \"type\": \"string\"\n",
      "      },\n",
      "      \"species\": {\n",
      "        \"description\": \"the species of the subject\",\n",
      "        \"type\": \"string\"\n",
      "      },\n",
      "      \"subject_id\": {\n",
      "        \"description\": \"a unique identifier for the subject\",\n",
      "        \"type\": \"string\"\n",
      "      },\n",
      "      \"weight\": {\n",
      "        \"description\": \"the weight of the subject\",\n",
      "        \"type\": \"string\"\n",
      "      },\n",
      "      \"date_of_birth\": {\n",
      "        \"description\": \"datetime of date of birth. May be supplied instead of age.\",\n",
      "        \"type\": \"string\",\n",
      "        \"format\": \"date-time\"\n",
      "      }\n",
      "    },\n",
      "    \"type\": \"object\",\n",
      "    \"additionalProperties\": false,\n",
      "    \"tag\": \"pynwb.file.Subject\"\n",
      "  },\n",
      "  \"Ecephys\": {\n",
      "    \"required\": [\n",
      "      \"Device\",\n",
      "      \"ElectrodeGroup\"\n",
      "    ],\n",
      "    \"properties\": {\n",
      "      \"Device\": {\n",
      "        \"type\": \"array\",\n",
      "        \"minItems\": 1,\n",
      "        \"items\": {\n",
      "          \"$ref\": \"#/properties/Ecephys/properties/definitions/Device\"\n",
      "        },\n",
      "        \"default\": [\n",
      "          {\n",
      "            \"name\": \"Axona\",\n",
      "            \"description\": \"Axona DacqUSB, sw_version=1.2.2.16\",\n",
      "            \"manufacturer\": \"Axona\"\n",
      "          }\n",
      "        ]\n",
      "      },\n",
      "      \"ElectrodeGroup\": {\n",
      "        \"type\": \"array\",\n",
      "        \"minItems\": 1,\n",
      "        \"items\": {\n",
      "          \"$ref\": \"#/properties/Ecephys/properties/definitions/ElectrodeGroup\"\n",
      "        },\n",
      "        \"default\": [\n",
      "          {\n",
      "            \"name\": \"Group0\",\n",
      "            \"location\": \"\",\n",
      "            \"device\": \"Axona\",\n",
      "            \"description\": \"Group 0 electrodes.\"\n",
      "          },\n",
      "          {\n",
      "            \"name\": \"Group1\",\n",
      "            \"location\": \"\",\n",
      "            \"device\": \"Axona\",\n",
      "            \"description\": \"Group 1 electrodes.\"\n",
      "          },\n",
      "          {\n",
      "            \"name\": \"Group2\",\n",
      "            \"location\": \"\",\n",
      "            \"device\": \"Axona\",\n",
      "            \"description\": \"Group 2 electrodes.\"\n",
      "          },\n",
      "          {\n",
      "            \"name\": \"Group3\",\n",
      "            \"location\": \"\",\n",
      "            \"device\": \"Axona\",\n",
      "            \"description\": \"Group 3 electrodes.\"\n",
      "          }\n",
      "        ]\n",
      "      },\n",
      "      \"definitions\": {\n",
      "        \"Device\": {\n",
      "          \"required\": [\n",
      "            \"name\"\n",
      "          ],\n",
      "          \"properties\": {\n",
      "            \"name\": {\n",
      "              \"description\": \"the name of this device\",\n",
      "              \"type\": \"string\"\n",
      "            },\n",
      "            \"description\": {\n",
      "              \"description\": \"Description of the device (e.g., model, firmware version, processing software version, etc.)\",\n",
      "              \"type\": \"string\"\n",
      "            },\n",
      "            \"manufacturer\": {\n",
      "              \"description\": \"the name of the manufacturer of this device\",\n",
      "              \"type\": \"string\"\n",
      "            }\n",
      "          },\n",
      "          \"type\": \"object\",\n",
      "          \"additionalProperties\": false,\n",
      "          \"tag\": \"pynwb.device.Device\"\n",
      "        },\n",
      "        \"ElectrodeGroup\": {\n",
      "          \"required\": [\n",
      "            \"location\",\n",
      "            \"device\",\n",
      "            \"description\",\n",
      "            \"name\"\n",
      "          ],\n",
      "          \"properties\": {\n",
      "            \"name\": {\n",
      "              \"description\": \"the name of this electrode\",\n",
      "              \"type\": \"string\"\n",
      "            },\n",
      "            \"description\": {\n",
      "              \"description\": \"description of this electrode group\",\n",
      "              \"type\": \"string\"\n",
      "            },\n",
      "            \"location\": {\n",
      "              \"description\": \"description of location of this electrode group\",\n",
      "              \"type\": \"string\"\n",
      "            },\n",
      "            \"device\": {\n",
      "              \"description\": \"the device that was used to record from this electrode group\",\n",
      "              \"type\": \"string\",\n",
      "              \"target\": \"pynwb.device.Device\"\n",
      "            }\n",
      "          },\n",
      "          \"type\": \"object\",\n",
      "          \"additionalProperties\": false,\n",
      "          \"tag\": \"pynwb.ecephys.ElectrodeGroup\"\n",
      "        }\n",
      "      }\n",
      "    },\n",
      "    \"type\": \"object\",\n",
      "    \"additionalProperties\": false,\n",
      "    \"tag\": \"Ecephys\"\n",
      "  }\n",
      "}\n"
     ]
    }
   ],
   "source": [
    "# Get metadata_schema from converter\n",
    "\n",
    "converter = HussainiNWBConverter(source_data=source_data)\n",
    "metadata_schema = converter.get_metadata_schema()\n",
    "print(json.dumps(metadata_schema['properties'], indent=2))"
   ]
  },
  {
   "cell_type": "code",
   "execution_count": 36,
   "metadata": {},
   "outputs": [
    {
     "data": {
      "text/plain": [
       "{'NWBFile': {'session_description': '',\n",
       "  'session_start_time': '2020-10-04T11:07:07',\n",
       "  'identifier': 'a7f3d423-9399-4c60-8953-cdc25fd267ca',\n",
       "  'experimenter': ['Abid']},\n",
       " 'Ecephys': {'Device': [{'name': 'Axona',\n",
       "    'description': 'Axona DacqUSB, sw_version=1.2.2.16',\n",
       "    'manufacturer': 'Axona'}],\n",
       "  'ElectrodeGroup': [{'name': 'Group0',\n",
       "    'location': '',\n",
       "    'device': 'Axona',\n",
       "    'description': 'Group 0 electrodes.'},\n",
       "   {'name': 'Group1',\n",
       "    'location': '',\n",
       "    'device': 'Axona',\n",
       "    'description': 'Group 1 electrodes.'},\n",
       "   {'name': 'Group2',\n",
       "    'location': '',\n",
       "    'device': 'Axona',\n",
       "    'description': 'Group 2 electrodes.'},\n",
       "   {'name': 'Group3',\n",
       "    'location': '',\n",
       "    'device': 'Axona',\n",
       "    'description': 'Group 3 electrodes.'}]}}"
      ]
     },
     "execution_count": 36,
     "metadata": {},
     "output_type": "execute_result"
    }
   ],
   "source": [
    "metadata = converter.get_metadata()\n",
    "metadata"
   ]
  },
  {
   "cell_type": "code",
   "execution_count": 37,
   "metadata": {
    "scrolled": true
   },
   "outputs": [
    {
     "data": {
      "text/plain": [
       "{'Device': [{'name': 'Axona',\n",
       "   'description': 'Axona DacqUSB, sw_version=1.2.2.16',\n",
       "   'manufacturer': 'Axona'}],\n",
       " 'ElectrodeGroup': [{'name': 'Group0',\n",
       "   'location': '',\n",
       "   'device': 'Axona',\n",
       "   'description': 'Group 0 electrodes.'},\n",
       "  {'name': 'Group1',\n",
       "   'location': '',\n",
       "   'device': 'Axona',\n",
       "   'description': 'Group 1 electrodes.'},\n",
       "  {'name': 'Group2',\n",
       "   'location': '',\n",
       "   'device': 'Axona',\n",
       "   'description': 'Group 2 electrodes.'},\n",
       "  {'name': 'Group3',\n",
       "   'location': '',\n",
       "   'device': 'Axona',\n",
       "   'description': 'Group 3 electrodes.'}]}"
      ]
     },
     "execution_count": 37,
     "metadata": {},
     "output_type": "execute_result"
    }
   ],
   "source": [
    "metadata['Ecephys']"
   ]
  },
  {
   "cell_type": "code",
   "execution_count": 38,
   "metadata": {
    "scrolled": true
   },
   "outputs": [],
   "source": [
    "# Validate metadata with metadata_schema from nwbconverter\n",
    "\n",
    "validate(\n",
    "    instance=converter.get_metadata(),\n",
    "    schema=converter.get_metadata_schema()\n",
    ")"
   ]
  },
  {
   "cell_type": "markdown",
   "metadata": {},
   "source": [
    "## Test axonadatainterface from nwb_conversion_tools"
   ]
  },
  {
   "cell_type": "code",
   "execution_count": 40,
   "metadata": {},
   "outputs": [],
   "source": [
    "import json\n",
    "from jsonschema import validate"
   ]
  },
  {
   "cell_type": "code",
   "execution_count": 41,
   "metadata": {},
   "outputs": [
    {
     "name": "stdout",
     "output_type": "stream",
     "text": [
      "/mnt/d/freelance-work/catalyst-neuro/hussaini-lab-to-nwb/example_data_raw/axona_raw_5s\n"
     ]
    }
   ],
   "source": [
    "import os\n",
    "\n",
    "dir_name = r'/mnt/d/freelance-work/catalyst-neuro/hussaini-lab-to-nwb/example_data_raw'\n",
    "base_filename = 'axona_raw_5s'\n",
    "filename = os.path.join(dir_name, base_filename)\n",
    "print(filename)"
   ]
  },
  {
   "cell_type": "code",
   "execution_count": 42,
   "metadata": {},
   "outputs": [],
   "source": [
    "#from nwb_conversion_tools import axonadatainterface"
   ]
  },
  {
   "cell_type": "code",
   "execution_count": 43,
   "metadata": {},
   "outputs": [
    {
     "ename": "ImportError",
     "evalue": "cannot import name 'AxonaRecordingExtractorInterface' from 'nwb_conversion_tools' (/mnt/d/spikeinterface/nwb-conversion-tools/nwb_conversion_tools/__init__.py)",
     "output_type": "error",
     "traceback": [
      "\u001b[0;31m---------------------------------------------------------------------------\u001b[0m",
      "\u001b[0;31mImportError\u001b[0m                               Traceback (most recent call last)",
      "\u001b[0;32m<ipython-input-43-169c04f867bc>\u001b[0m in \u001b[0;36m<module>\u001b[0;34m\u001b[0m\n\u001b[0;32m----> 1\u001b[0;31m from nwb_conversion_tools import (\n\u001b[0m\u001b[1;32m      2\u001b[0m     \u001b[0mNWBConverter\u001b[0m\u001b[0;34m,\u001b[0m \u001b[0mAxonaRecordingExtractorInterface\u001b[0m\u001b[0;34m\u001b[0m\u001b[0;34m\u001b[0m\u001b[0m\n\u001b[1;32m      3\u001b[0m )\n",
      "\u001b[0;31mImportError\u001b[0m: cannot import name 'AxonaRecordingExtractorInterface' from 'nwb_conversion_tools' (/mnt/d/spikeinterface/nwb-conversion-tools/nwb_conversion_tools/__init__.py)"
     ]
    }
   ],
   "source": [
    "from nwb_conversion_tools import (\n",
    "    NWBConverter, AxonaRecordingExtractorInterface\n",
    ")"
   ]
  },
  {
   "cell_type": "code",
   "execution_count": 44,
   "metadata": {},
   "outputs": [],
   "source": [
    "import sys\n",
    "sys.path.append('/mnt/d/spikeinterface/hussaini-lab-to-nwb/hussaini_lab_to_nwb')"
   ]
  },
  {
   "cell_type": "code",
   "execution_count": 45,
   "metadata": {},
   "outputs": [
    {
     "ename": "ImportError",
     "evalue": "cannot import name 'AxonaRecordingExtractorInterface' from 'nwb_conversion_tools' (/mnt/d/spikeinterface/nwb-conversion-tools/nwb_conversion_tools/__init__.py)",
     "output_type": "error",
     "traceback": [
      "\u001b[0;31m---------------------------------------------------------------------------\u001b[0m",
      "\u001b[0;31mImportError\u001b[0m                               Traceback (most recent call last)",
      "\u001b[0;32m<ipython-input-45-b60f1f6480d6>\u001b[0m in \u001b[0;36m<module>\u001b[0;34m\u001b[0m\n\u001b[0;32m----> 1\u001b[0;31m \u001b[0;32mfrom\u001b[0m \u001b[0mhussaininwbconverter\u001b[0m \u001b[0;32mimport\u001b[0m \u001b[0mHussainiNWBConverter\u001b[0m\u001b[0;34m\u001b[0m\u001b[0;34m\u001b[0m\u001b[0m\n\u001b[0m",
      "\u001b[0;32m/mnt/d/spikeinterface/hussaini-lab-to-nwb/hussaini_lab_to_nwb/hussaininwbconverter.py\u001b[0m in \u001b[0;36m<module>\u001b[0;34m\u001b[0m\n\u001b[0;32m----> 1\u001b[0;31m from nwb_conversion_tools import (\n\u001b[0m\u001b[1;32m      2\u001b[0m     \u001b[0mNWBConverter\u001b[0m\u001b[0;34m,\u001b[0m \u001b[0mAxonaRecordingExtractorInterface\u001b[0m\u001b[0;34m\u001b[0m\u001b[0;34m\u001b[0m\u001b[0m\n\u001b[1;32m      3\u001b[0m )\n\u001b[1;32m      4\u001b[0m \u001b[0;34m\u001b[0m\u001b[0m\n\u001b[1;32m      5\u001b[0m \u001b[0;34m\u001b[0m\u001b[0m\n",
      "\u001b[0;31mImportError\u001b[0m: cannot import name 'AxonaRecordingExtractorInterface' from 'nwb_conversion_tools' (/mnt/d/spikeinterface/nwb-conversion-tools/nwb_conversion_tools/__init__.py)"
     ]
    }
   ],
   "source": [
    "from hussaininwbconverter import HussainiNWBConverter"
   ]
  },
  {
   "cell_type": "code",
   "execution_count": 46,
   "metadata": {
    "scrolled": false
   },
   "outputs": [
    {
     "name": "stdout",
     "output_type": "stream",
     "text": [
      "{\n",
      "  \"AxonaRecordingExtractorInterface\": {\n",
      "    \"required\": [\n",
      "      \"filename\"\n",
      "    ],\n",
      "    \"properties\": {\n",
      "      \"filename\": {\n",
      "        \"type\": \"string\",\n",
      "        \"format\": \"file\",\n",
      "        \"description\": \"Path to Axona files.\"\n",
      "      }\n",
      "    },\n",
      "    \"type\": \"object\",\n",
      "    \"additionalProperties\": true\n",
      "  }\n",
      "}\n"
     ]
    }
   ],
   "source": [
    "# Get source_schema from converter\n",
    "\n",
    "source_schema = HussainiNWBConverter.get_source_schema()\n",
    "print(json.dumps(source_schema['properties'], indent=2))"
   ]
  },
  {
   "cell_type": "code",
   "execution_count": 47,
   "metadata": {},
   "outputs": [
    {
     "name": "stdout",
     "output_type": "stream",
     "text": [
      "{\n",
      "  \"AxonaRecordingExtractorInterface\": {\n",
      "    \"filename\": \"/mnt/d/freelance-work/catalyst-neuro/hussaini-lab-to-nwb/example_data_raw/axona_raw_5s\"\n",
      "  }\n",
      "}\n"
     ]
    }
   ],
   "source": [
    "source_data = dict(\n",
    "    AxonaRecordingExtractorInterface=dict(\n",
    "        filename=filename\n",
    "    )\n",
    ")\n",
    "print(json.dumps(source_data, indent=2))"
   ]
  },
  {
   "cell_type": "code",
   "execution_count": 48,
   "metadata": {},
   "outputs": [],
   "source": [
    "# Validate source_data with source_schema\n",
    "\n",
    "validate(\n",
    "    instance=source_data,\n",
    "    schema=source_schema\n",
    ")"
   ]
  },
  {
   "cell_type": "code",
   "execution_count": 49,
   "metadata": {},
   "outputs": [
    {
     "name": "stdout",
     "output_type": "stream",
     "text": [
      "Source data is valid!\n"
     ]
    }
   ],
   "source": [
    "# Instantiate Hussaini-lab converter\n",
    "\n",
    "converter = HussainiNWBConverter(source_data=source_data)"
   ]
  },
  {
   "cell_type": "code",
   "execution_count": 50,
   "metadata": {},
   "outputs": [],
   "source": [
    "import datetime"
   ]
  },
  {
   "cell_type": "code",
   "execution_count": 51,
   "metadata": {},
   "outputs": [
    {
     "data": {
      "text/plain": [
       "{'NWBFile': {'session_description': '',\n",
       "  'session_start_time': '2020-10-04T11:07:07',\n",
       "  'identifier': '88fdeb9b-bb2b-43ce-a30f-f5901a1bff62',\n",
       "  'experimenter': ['Abid']},\n",
       " 'Ecephys': {'Device': [{'name': 'Axona',\n",
       "    'description': 'Axona DacqUSB, sw_version=1.2.2.16',\n",
       "    'manufacturer': 'Axona'}],\n",
       "  'ElectrodeGroup': [{'name': 'Group0',\n",
       "    'location': '',\n",
       "    'device': 'Axona',\n",
       "    'description': 'Group 0 electrodes.'},\n",
       "   {'name': 'Group1',\n",
       "    'location': '',\n",
       "    'device': 'Axona',\n",
       "    'description': 'Group 1 electrodes.'},\n",
       "   {'name': 'Group2',\n",
       "    'location': '',\n",
       "    'device': 'Axona',\n",
       "    'description': 'Group 2 electrodes.'},\n",
       "   {'name': 'Group3',\n",
       "    'location': '',\n",
       "    'device': 'Axona',\n",
       "    'description': 'Group 3 electrodes.'}]}}"
      ]
     },
     "execution_count": 51,
     "metadata": {},
     "output_type": "execute_result"
    }
   ],
   "source": [
    "# Get metadata_schema from converter\n",
    "metadata = converter.get_metadata()\n",
    "metadata"
   ]
  },
  {
   "cell_type": "code",
   "execution_count": 50,
   "metadata": {},
   "outputs": [],
   "source": [
    "# Validate metadata with metadata_schema from nwbconverter\n",
    "\n",
    "validate(\n",
    "    instance=converter.get_metadata(),\n",
    "    schema=converter.get_metadata_schema()\n",
    ")"
   ]
  },
  {
   "cell_type": "code",
   "execution_count": 51,
   "metadata": {},
   "outputs": [
    {
     "name": "stdout",
     "output_type": "stream",
     "text": [
      "{\n",
      "  \"required\": [\n",
      "    \"NWBFile\"\n",
      "  ],\n",
      "  \"properties\": {\n",
      "    \"NWBFile\": {\n",
      "      \"required\": [\n",
      "        \"session_description\",\n",
      "        \"identifier\",\n",
      "        \"session_start_time\"\n",
      "      ],\n",
      "      \"properties\": {\n",
      "        \"session_description\": {\n",
      "          \"type\": \"string\",\n",
      "          \"format\": \"long\",\n",
      "          \"description\": \"a description of the session where this data was generated\",\n",
      "          \"default\": \"\"\n",
      "        },\n",
      "        \"identifier\": {\n",
      "          \"type\": \"string\",\n",
      "          \"description\": \"a unique text identifier for the file\",\n",
      "          \"default\": \"24d00e69-c905-4efc-93be-c5b67f5ce223\"\n",
      "        },\n",
      "        \"session_start_time\": {\n",
      "          \"type\": \"string\",\n",
      "          \"description\": \"the start date and time of the recording session\",\n",
      "          \"format\": \"date-time\",\n",
      "          \"default\": \"2020-10-04T11:07:07\"\n",
      "        },\n",
      "        \"experimenter\": {\n",
      "          \"type\": \"array\",\n",
      "          \"items\": {\n",
      "            \"type\": \"string\",\n",
      "            \"title\": \"experimenter\"\n",
      "          },\n",
      "          \"description\": \"name of person who performed experiment\",\n",
      "          \"default\": [\n",
      "            \"Abid\"\n",
      "          ]\n",
      "        },\n",
      "        \"experiment_description\": {\n",
      "          \"type\": \"string\",\n",
      "          \"description\": \"general description of the experiment\"\n",
      "        },\n",
      "        \"session_id\": {\n",
      "          \"type\": \"string\",\n",
      "          \"description\": \"lab-specific ID for the session\"\n",
      "        },\n",
      "        \"institution\": {\n",
      "          \"type\": \"string\",\n",
      "          \"description\": \"institution(s) where experiment is performed\"\n",
      "        },\n",
      "        \"notes\": {\n",
      "          \"type\": \"string\",\n",
      "          \"description\": \"Notes about the experiment.\"\n",
      "        },\n",
      "        \"pharmacology\": {\n",
      "          \"type\": \"string\",\n",
      "          \"description\": \"Description of drugs used, including how and when they were administered. Anesthesia(s), painkiller(s), etc., plus dosage, concentration, etc.\"\n",
      "        },\n",
      "        \"protocol\": {\n",
      "          \"type\": \"string\",\n",
      "          \"description\": \"Experimental protocol, if applicable. E.g., include IACUC protocol\"\n",
      "        },\n",
      "        \"related_publications\": {\n",
      "          \"type\": \"string\",\n",
      "          \"description\": \"Publication information.PMID, DOI, URL, etc. If multiple, concatenate together and describe which is which. such as PMID, DOI, URL, etc\"\n",
      "        },\n",
      "        \"slices\": {\n",
      "          \"type\": \"string\",\n",
      "          \"description\": \"Description of slices, including information about preparation thickness, orientation, temperature and bath solution\"\n",
      "        },\n",
      "        \"source_script\": {\n",
      "          \"type\": \"string\",\n",
      "          \"description\": \"Script file used to create this NWB file.\"\n",
      "        },\n",
      "        \"source_script_file_name\": {\n",
      "          \"type\": \"string\",\n",
      "          \"description\": \"Name of the source_script file\"\n",
      "        },\n",
      "        \"data_collection\": {\n",
      "          \"type\": \"string\",\n",
      "          \"description\": \"Notes about data collection and analysis.\"\n",
      "        },\n",
      "        \"surgery\": {\n",
      "          \"type\": \"string\",\n",
      "          \"description\": \"Narrative description about surgery/surgeries, including date(s) and who performed surgery.\"\n",
      "        },\n",
      "        \"virus\": {\n",
      "          \"type\": \"string\",\n",
      "          \"description\": \"Information about virus(es) used in experiments, including virus ID, source, date made, injection location, volume, etc.\"\n",
      "        },\n",
      "        \"stimulus_notes\": {\n",
      "          \"type\": \"string\",\n",
      "          \"description\": \"Notes about stimuli, such as how and where presented.\"\n",
      "        },\n",
      "        \"lab\": {\n",
      "          \"type\": \"string\",\n",
      "          \"description\": \"lab where experiment was performed\"\n",
      "        }\n",
      "      },\n",
      "      \"type\": \"object\",\n",
      "      \"additionalProperties\": false,\n",
      "      \"tag\": \"pynwb.file.NWBFile\"\n",
      "    },\n",
      "    \"Subject\": {\n",
      "      \"required\": [],\n",
      "      \"properties\": {\n",
      "        \"age\": {\n",
      "          \"description\": \"the age of the subject\",\n",
      "          \"type\": \"string\"\n",
      "        },\n",
      "        \"description\": {\n",
      "          \"description\": \"a description of the subject\",\n",
      "          \"type\": \"string\"\n",
      "        },\n",
      "        \"genotype\": {\n",
      "          \"description\": \"the genotype of the subject\",\n",
      "          \"type\": \"string\"\n",
      "        },\n",
      "        \"sex\": {\n",
      "          \"description\": \"the sex of the subject\",\n",
      "          \"type\": \"string\"\n",
      "        },\n",
      "        \"species\": {\n",
      "          \"description\": \"the species of the subject\",\n",
      "          \"type\": \"string\"\n",
      "        },\n",
      "        \"subject_id\": {\n",
      "          \"description\": \"a unique identifier for the subject\",\n",
      "          \"type\": \"string\"\n",
      "        },\n",
      "        \"weight\": {\n",
      "          \"description\": \"the weight of the subject\",\n",
      "          \"type\": \"string\"\n",
      "        },\n",
      "        \"date_of_birth\": {\n",
      "          \"description\": \"datetime of date of birth. May be supplied instead of age.\",\n",
      "          \"type\": \"string\",\n",
      "          \"format\": \"date-time\"\n",
      "        }\n",
      "      },\n",
      "      \"type\": \"object\",\n",
      "      \"additionalProperties\": false,\n",
      "      \"tag\": \"pynwb.file.Subject\"\n",
      "    },\n",
      "    \"Ecephys\": {\n",
      "      \"required\": [\n",
      "        \"ElectrodeGroup\",\n",
      "        \"Device\"\n",
      "      ],\n",
      "      \"properties\": {\n",
      "        \"Device\": {\n",
      "          \"type\": \"array\",\n",
      "          \"minItems\": 1,\n",
      "          \"items\": {\n",
      "            \"$ref\": \"#/properties/Ecephys/properties/definitions/Device\"\n",
      "          },\n",
      "          \"default\": [\n",
      "            {\n",
      "              \"name\": \"Axona\",\n",
      "              \"description\": \"Axona DacqUSB, sw_version=1.2.2.16\",\n",
      "              \"manufacturer\": \"Axona\"\n",
      "            }\n",
      "          ]\n",
      "        },\n",
      "        \"ElectrodeGroup\": {\n",
      "          \"type\": \"array\",\n",
      "          \"minItems\": 1,\n",
      "          \"items\": {\n",
      "            \"$ref\": \"#/properties/Ecephys/properties/definitions/ElectrodeGroup\"\n",
      "          },\n",
      "          \"default\": [\n",
      "            {\n",
      "              \"name\": \"Group0\",\n",
      "              \"location\": \"\",\n",
      "              \"device\": \"Axona\",\n",
      "              \"description\": \"Group 0 electrodes.\"\n",
      "            },\n",
      "            {\n",
      "              \"name\": \"Group1\",\n",
      "              \"location\": \"\",\n",
      "              \"device\": \"Axona\",\n",
      "              \"description\": \"Group 1 electrodes.\"\n",
      "            },\n",
      "            {\n",
      "              \"name\": \"Group2\",\n",
      "              \"location\": \"\",\n",
      "              \"device\": \"Axona\",\n",
      "              \"description\": \"Group 2 electrodes.\"\n",
      "            },\n",
      "            {\n",
      "              \"name\": \"Group3\",\n",
      "              \"location\": \"\",\n",
      "              \"device\": \"Axona\",\n",
      "              \"description\": \"Group 3 electrodes.\"\n",
      "            }\n",
      "          ]\n",
      "        },\n",
      "        \"definitions\": {\n",
      "          \"Device\": {\n",
      "            \"required\": [\n",
      "              \"name\"\n",
      "            ],\n",
      "            \"properties\": {\n",
      "              \"name\": {\n",
      "                \"description\": \"the name of this device\",\n",
      "                \"type\": \"string\"\n",
      "              },\n",
      "              \"description\": {\n",
      "                \"description\": \"Description of the device (e.g., model, firmware version, processing software version, etc.)\",\n",
      "                \"type\": \"string\"\n",
      "              },\n",
      "              \"manufacturer\": {\n",
      "                \"description\": \"the name of the manufacturer of this device\",\n",
      "                \"type\": \"string\"\n",
      "              }\n",
      "            },\n",
      "            \"type\": \"object\",\n",
      "            \"additionalProperties\": false,\n",
      "            \"tag\": \"pynwb.device.Device\"\n",
      "          },\n",
      "          \"ElectrodeGroup\": {\n",
      "            \"required\": [\n",
      "              \"location\",\n",
      "              \"description\",\n",
      "              \"device\",\n",
      "              \"name\"\n",
      "            ],\n",
      "            \"properties\": {\n",
      "              \"name\": {\n",
      "                \"description\": \"the name of this electrode\",\n",
      "                \"type\": \"string\"\n",
      "              },\n",
      "              \"description\": {\n",
      "                \"description\": \"description of this electrode group\",\n",
      "                \"type\": \"string\"\n",
      "              },\n",
      "              \"location\": {\n",
      "                \"description\": \"description of location of this electrode group\",\n",
      "                \"type\": \"string\"\n",
      "              },\n",
      "              \"device\": {\n",
      "                \"description\": \"the device that was used to record from this electrode group\",\n",
      "                \"type\": \"string\",\n",
      "                \"target\": \"pynwb.device.Device\"\n",
      "              }\n",
      "            },\n",
      "            \"type\": \"object\",\n",
      "            \"additionalProperties\": false,\n",
      "            \"tag\": \"pynwb.ecephys.ElectrodeGroup\"\n",
      "          }\n",
      "        }\n",
      "      },\n",
      "      \"type\": \"object\",\n",
      "      \"additionalProperties\": false,\n",
      "      \"tag\": \"Ecephys\"\n",
      "    }\n",
      "  },\n",
      "  \"type\": \"object\",\n",
      "  \"additionalProperties\": false,\n",
      "  \"$schema\": \"http://json-schema.org/draft-07/schema#\",\n",
      "  \"$id\": \"metadata.schema.json\",\n",
      "  \"title\": \"Metadata\",\n",
      "  \"description\": \"Schema for the metadata\",\n",
      "  \"version\": \"0.1.0\"\n",
      "}\n"
     ]
    }
   ],
   "source": [
    "print(json.dumps(converter.get_metadata_schema(), indent=2))"
   ]
  },
  {
   "cell_type": "code",
   "execution_count": 52,
   "metadata": {},
   "outputs": [],
   "source": [
    "# Test pytest function test_interface_schemas() for this specific interface\n",
    "\n",
    "from jsonschema import Draft7Validator"
   ]
  },
  {
   "cell_type": "code",
   "execution_count": 53,
   "metadata": {},
   "outputs": [],
   "source": [
    "data_interface = AxonaRecordingExtractorInterface(filename=filename)\n",
    "\n",
    "schema = data_interface.get_source_schema()\n",
    "Draft7Validator.check_schema(schema)\n",
    "\n",
    "# check validity of conversion options schema\n",
    "schema = data_interface.get_conversion_options_schema()\n",
    "Draft7Validator.check_schema(schema)"
   ]
  },
  {
   "cell_type": "code",
   "execution_count": 54,
   "metadata": {},
   "outputs": [
    {
     "data": {
      "text/plain": [
       "'/mnt/d/freelance-work/catalyst-neuro/hussaini-lab-to-nwb/example_data_raw'"
      ]
     },
     "execution_count": 54,
     "metadata": {},
     "output_type": "execute_result"
    }
   ],
   "source": [
    "dir_name"
   ]
  },
  {
   "cell_type": "code",
   "execution_count": 56,
   "metadata": {},
   "outputs": [
    {
     "ename": "UnsupportedOperation",
     "evalue": "Cannot read data from file /mnt/d/freelance-work/catalyst-neuro/hussaini-lab-to-nwb/example_data_raw/axonadatainterface_test.nwb in mode 'r+'. There are no values.",
     "output_type": "error",
     "traceback": [
      "\u001b[0;31m---------------------------------------------------------------------------\u001b[0m",
      "\u001b[0;31mUnsupportedOperation\u001b[0m                      Traceback (most recent call last)",
      "\u001b[0;32m/mnt/d/spikeinterface/hussaini-to-nwb/venv/lib/python3.8/site-packages/hdmf/backends/hdf5/h5tools.py\u001b[0m in \u001b[0;36mread\u001b[0;34m(self, **kwargs)\u001b[0m\n\u001b[1;32m    430\u001b[0m         \u001b[0;32mtry\u001b[0m\u001b[0;34m:\u001b[0m\u001b[0;34m\u001b[0m\u001b[0;34m\u001b[0m\u001b[0m\n\u001b[0;32m--> 431\u001b[0;31m             \u001b[0;32mreturn\u001b[0m \u001b[0mcall_docval_func\u001b[0m\u001b[0;34m(\u001b[0m\u001b[0msuper\u001b[0m\u001b[0;34m(\u001b[0m\u001b[0;34m)\u001b[0m\u001b[0;34m.\u001b[0m\u001b[0mread\u001b[0m\u001b[0;34m,\u001b[0m \u001b[0mkwargs\u001b[0m\u001b[0;34m)\u001b[0m\u001b[0;34m\u001b[0m\u001b[0;34m\u001b[0m\u001b[0m\n\u001b[0m\u001b[1;32m    432\u001b[0m         \u001b[0;32mexcept\u001b[0m \u001b[0mUnsupportedOperation\u001b[0m \u001b[0;32mas\u001b[0m \u001b[0me\u001b[0m\u001b[0;34m:\u001b[0m\u001b[0;34m\u001b[0m\u001b[0;34m\u001b[0m\u001b[0m\n",
      "\u001b[0;32m/mnt/d/spikeinterface/hussaini-to-nwb/venv/lib/python3.8/site-packages/hdmf/utils.py\u001b[0m in \u001b[0;36mcall_docval_func\u001b[0;34m(func, kwargs)\u001b[0m\n\u001b[1;32m    422\u001b[0m     \u001b[0mfargs\u001b[0m\u001b[0;34m,\u001b[0m \u001b[0mfkwargs\u001b[0m \u001b[0;34m=\u001b[0m \u001b[0mfmt_docval_args\u001b[0m\u001b[0;34m(\u001b[0m\u001b[0mfunc\u001b[0m\u001b[0;34m,\u001b[0m \u001b[0mkwargs\u001b[0m\u001b[0;34m)\u001b[0m\u001b[0;34m\u001b[0m\u001b[0;34m\u001b[0m\u001b[0m\n\u001b[0;32m--> 423\u001b[0;31m     \u001b[0;32mreturn\u001b[0m \u001b[0mfunc\u001b[0m\u001b[0;34m(\u001b[0m\u001b[0;34m*\u001b[0m\u001b[0mfargs\u001b[0m\u001b[0;34m,\u001b[0m \u001b[0;34m**\u001b[0m\u001b[0mfkwargs\u001b[0m\u001b[0;34m)\u001b[0m\u001b[0;34m\u001b[0m\u001b[0;34m\u001b[0m\u001b[0m\n\u001b[0m\u001b[1;32m    424\u001b[0m \u001b[0;34m\u001b[0m\u001b[0m\n",
      "\u001b[0;32m/mnt/d/spikeinterface/hussaini-to-nwb/venv/lib/python3.8/site-packages/hdmf/utils.py\u001b[0m in \u001b[0;36mfunc_call\u001b[0;34m(*args, **kwargs)\u001b[0m\n\u001b[1;32m    579\u001b[0m                 \u001b[0mpargs\u001b[0m \u001b[0;34m=\u001b[0m \u001b[0m_check_args\u001b[0m\u001b[0;34m(\u001b[0m\u001b[0margs\u001b[0m\u001b[0;34m,\u001b[0m \u001b[0mkwargs\u001b[0m\u001b[0;34m)\u001b[0m\u001b[0;34m\u001b[0m\u001b[0;34m\u001b[0m\u001b[0m\n\u001b[0;32m--> 580\u001b[0;31m                 \u001b[0;32mreturn\u001b[0m \u001b[0mfunc\u001b[0m\u001b[0;34m(\u001b[0m\u001b[0margs\u001b[0m\u001b[0;34m[\u001b[0m\u001b[0;36m0\u001b[0m\u001b[0;34m]\u001b[0m\u001b[0;34m,\u001b[0m \u001b[0;34m**\u001b[0m\u001b[0mpargs\u001b[0m\u001b[0;34m)\u001b[0m\u001b[0;34m\u001b[0m\u001b[0;34m\u001b[0m\u001b[0m\n\u001b[0m\u001b[1;32m    581\u001b[0m         \u001b[0;32melse\u001b[0m\u001b[0;34m:\u001b[0m\u001b[0;34m\u001b[0m\u001b[0;34m\u001b[0m\u001b[0m\n",
      "\u001b[0;32m/mnt/d/spikeinterface/hussaini-to-nwb/venv/lib/python3.8/site-packages/hdmf/backends/io.py\u001b[0m in \u001b[0;36mread\u001b[0;34m(self, **kwargs)\u001b[0m\n\u001b[1;32m     39\u001b[0m             \u001b[0;31m# TODO also check that the keys are appropriate. print a better error message\u001b[0m\u001b[0;34m\u001b[0m\u001b[0;34m\u001b[0m\u001b[0;34m\u001b[0m\u001b[0m\n\u001b[0;32m---> 40\u001b[0;31m             \u001b[0;32mraise\u001b[0m \u001b[0mUnsupportedOperation\u001b[0m\u001b[0;34m(\u001b[0m\u001b[0;34m'Cannot build data. There are no values.'\u001b[0m\u001b[0;34m)\u001b[0m\u001b[0;34m\u001b[0m\u001b[0;34m\u001b[0m\u001b[0m\n\u001b[0m\u001b[1;32m     41\u001b[0m         \u001b[0mcontainer\u001b[0m \u001b[0;34m=\u001b[0m \u001b[0mself\u001b[0m\u001b[0;34m.\u001b[0m\u001b[0m__manager\u001b[0m\u001b[0;34m.\u001b[0m\u001b[0mconstruct\u001b[0m\u001b[0;34m(\u001b[0m\u001b[0mf_builder\u001b[0m\u001b[0;34m)\u001b[0m\u001b[0;34m\u001b[0m\u001b[0;34m\u001b[0m\u001b[0m\n",
      "\u001b[0;31mUnsupportedOperation\u001b[0m: Cannot build data. There are no values.",
      "\nDuring handling of the above exception, another exception occurred:\n",
      "\u001b[0;31mUnsupportedOperation\u001b[0m                      Traceback (most recent call last)",
      "\u001b[0;32m<ipython-input-56-a55a9fe74d3a>\u001b[0m in \u001b[0;36m<module>\u001b[0;34m\u001b[0m\n\u001b[0;32m----> 1\u001b[0;31m \u001b[0mconverter\u001b[0m\u001b[0;34m.\u001b[0m\u001b[0mrun_conversion\u001b[0m\u001b[0;34m(\u001b[0m\u001b[0mmetadata\u001b[0m\u001b[0;34m=\u001b[0m\u001b[0mmetadata\u001b[0m\u001b[0;34m,\u001b[0m \u001b[0mnwbfile_path\u001b[0m\u001b[0;34m=\u001b[0m\u001b[0mos\u001b[0m\u001b[0;34m.\u001b[0m\u001b[0mpath\u001b[0m\u001b[0;34m.\u001b[0m\u001b[0mjoin\u001b[0m\u001b[0;34m(\u001b[0m\u001b[0mdir_name\u001b[0m\u001b[0;34m,\u001b[0m \u001b[0;34m'axonadatainterface_test.nwb'\u001b[0m\u001b[0;34m)\u001b[0m\u001b[0;34m)\u001b[0m\u001b[0;34m\u001b[0m\u001b[0;34m\u001b[0m\u001b[0m\n\u001b[0m",
      "\u001b[0;32m/mnt/d/spikeinterface/nwb-conversion-tools/nwb_conversion_tools/nwbconverter.py\u001b[0m in \u001b[0;36mrun_conversion\u001b[0;34m(self, metadata, save_to_file, nwbfile_path, overwrite, nwbfile, conversion_options)\u001b[0m\n\u001b[1;32m    158\u001b[0m             \u001b[0;32mwith\u001b[0m \u001b[0mNWBHDF5IO\u001b[0m\u001b[0;34m(\u001b[0m\u001b[0mnwbfile_path\u001b[0m\u001b[0;34m,\u001b[0m \u001b[0mmode\u001b[0m\u001b[0;34m=\u001b[0m\u001b[0mmode\u001b[0m\u001b[0;34m)\u001b[0m \u001b[0;32mas\u001b[0m \u001b[0mio\u001b[0m\u001b[0;34m:\u001b[0m\u001b[0;34m\u001b[0m\u001b[0;34m\u001b[0m\u001b[0m\n\u001b[1;32m    159\u001b[0m                 \u001b[0;32mif\u001b[0m \u001b[0mmode\u001b[0m \u001b[0;34m==\u001b[0m \u001b[0;34m\"r+\"\u001b[0m\u001b[0;34m:\u001b[0m\u001b[0;34m\u001b[0m\u001b[0;34m\u001b[0m\u001b[0m\n\u001b[0;32m--> 160\u001b[0;31m                     \u001b[0mnwbfile\u001b[0m \u001b[0;34m=\u001b[0m \u001b[0mio\u001b[0m\u001b[0;34m.\u001b[0m\u001b[0mread\u001b[0m\u001b[0;34m(\u001b[0m\u001b[0;34m)\u001b[0m\u001b[0;34m\u001b[0m\u001b[0;34m\u001b[0m\u001b[0m\n\u001b[0m\u001b[1;32m    161\u001b[0m                 \u001b[0;32melif\u001b[0m \u001b[0mnwbfile\u001b[0m \u001b[0;32mis\u001b[0m \u001b[0;32mNone\u001b[0m\u001b[0;34m:\u001b[0m\u001b[0;34m\u001b[0m\u001b[0;34m\u001b[0m\u001b[0m\n\u001b[1;32m    162\u001b[0m                     \u001b[0mnwbfile\u001b[0m \u001b[0;34m=\u001b[0m \u001b[0mmake_nwbfile_from_metadata\u001b[0m\u001b[0;34m(\u001b[0m\u001b[0mmetadata\u001b[0m\u001b[0;34m=\u001b[0m\u001b[0mmetadata\u001b[0m\u001b[0;34m)\u001b[0m\u001b[0;34m\u001b[0m\u001b[0;34m\u001b[0m\u001b[0m\n",
      "\u001b[0;32m/mnt/d/spikeinterface/hussaini-to-nwb/venv/lib/python3.8/site-packages/hdmf/backends/hdf5/h5tools.py\u001b[0m in \u001b[0;36mread\u001b[0;34m(self, **kwargs)\u001b[0m\n\u001b[1;32m    432\u001b[0m         \u001b[0;32mexcept\u001b[0m \u001b[0mUnsupportedOperation\u001b[0m \u001b[0;32mas\u001b[0m \u001b[0me\u001b[0m\u001b[0;34m:\u001b[0m\u001b[0;34m\u001b[0m\u001b[0;34m\u001b[0m\u001b[0m\n\u001b[1;32m    433\u001b[0m             \u001b[0;32mif\u001b[0m \u001b[0mstr\u001b[0m\u001b[0;34m(\u001b[0m\u001b[0me\u001b[0m\u001b[0;34m)\u001b[0m \u001b[0;34m==\u001b[0m \u001b[0;34m'Cannot build data. There are no values.'\u001b[0m\u001b[0;34m:\u001b[0m  \u001b[0;31m# pragma: no cover\u001b[0m\u001b[0;34m\u001b[0m\u001b[0;34m\u001b[0m\u001b[0m\n\u001b[0;32m--> 434\u001b[0;31m                 raise UnsupportedOperation(\"Cannot read data from file %s in mode '%s'. There are no values.\"\n\u001b[0m\u001b[1;32m    435\u001b[0m                                            % (self.source, self.__mode))\n\u001b[1;32m    436\u001b[0m \u001b[0;34m\u001b[0m\u001b[0m\n",
      "\u001b[0;31mUnsupportedOperation\u001b[0m: Cannot read data from file /mnt/d/freelance-work/catalyst-neuro/hussaini-lab-to-nwb/example_data_raw/axonadatainterface_test.nwb in mode 'r+'. There are no values."
     ]
    }
   ],
   "source": [
    "converter.run_conversion(metadata=metadata, nwbfile_path=os.path.join(dir_name, 'axonadatainterface_test.nwb'))"
   ]
  },
  {
   "cell_type": "code",
   "execution_count": 52,
   "metadata": {},
   "outputs": [],
   "source": [
    "from nwb_conversion_tools.conversion_tools import get_default_nwbfile_metadata\n",
    "from nwb_conversion_tools.json_schema_utils import dict_deep_update"
   ]
  },
  {
   "cell_type": "code",
   "execution_count": 53,
   "metadata": {},
   "outputs": [],
   "source": [
    "metadata = dict_deep_update(get_default_nwbfile_metadata(), metadata)"
   ]
  },
  {
   "cell_type": "code",
   "execution_count": 54,
   "metadata": {},
   "outputs": [
    {
     "data": {
      "text/plain": [
       "{'session_description': '',\n",
       " 'session_start_time': '2020-10-04T11:07:07',\n",
       " 'identifier': '88fdeb9b-bb2b-43ce-a30f-f5901a1bff62',\n",
       " 'experimenter': ['Abid']}"
      ]
     },
     "execution_count": 54,
     "metadata": {},
     "output_type": "execute_result"
    }
   ],
   "source": [
    "metadata['NWBFile']"
   ]
  },
  {
   "cell_type": "code",
   "execution_count": 55,
   "metadata": {},
   "outputs": [],
   "source": [
    "metadata_test = metadata"
   ]
  },
  {
   "cell_type": "code",
   "execution_count": 56,
   "metadata": {},
   "outputs": [
    {
     "data": {
      "text/plain": [
       "{'NWBFile': {'session_description': '',\n",
       "  'session_start_time': '2020-10-04T11:07:07',\n",
       "  'identifier': '88fdeb9b-bb2b-43ce-a30f-f5901a1bff62',\n",
       "  'experimenter': ['Abid']},\n",
       " 'Ecephys': {'Device': [{'name': 'Axona',\n",
       "    'description': 'Axona DacqUSB, sw_version=1.2.2.16',\n",
       "    'manufacturer': 'Axona'}],\n",
       "  'ElectrodeGroup': [{'name': 'Group0',\n",
       "    'location': '',\n",
       "    'device': 'Axona',\n",
       "    'description': 'Group 0 electrodes.'},\n",
       "   {'name': 'Group1',\n",
       "    'location': '',\n",
       "    'device': 'Axona',\n",
       "    'description': 'Group 1 electrodes.'},\n",
       "   {'name': 'Group2',\n",
       "    'location': '',\n",
       "    'device': 'Axona',\n",
       "    'description': 'Group 2 electrodes.'},\n",
       "   {'name': 'Group3',\n",
       "    'location': '',\n",
       "    'device': 'Axona',\n",
       "    'description': 'Group 3 electrodes.'}]}}"
      ]
     },
     "execution_count": 56,
     "metadata": {},
     "output_type": "execute_result"
    }
   ],
   "source": [
    "metadata_test"
   ]
  },
  {
   "cell_type": "code",
   "execution_count": 57,
   "metadata": {},
   "outputs": [
    {
     "data": {
      "text/plain": [
       "{'AxonaRecordingExtractorInterface': <__main__.AxonaRecordingExtractorInterface at 0x7ff3341401f0>}"
      ]
     },
     "execution_count": 57,
     "metadata": {},
     "output_type": "execute_result"
    }
   ],
   "source": [
    "converter.data_interface_objects"
   ]
  },
  {
   "cell_type": "code",
   "execution_count": 58,
   "metadata": {},
   "outputs": [
    {
     "data": {
      "text/plain": [
       "{'session_description': '',\n",
       " 'session_start_time': '2020-10-04T11:07:07',\n",
       " 'identifier': '88fdeb9b-bb2b-43ce-a30f-f5901a1bff62',\n",
       " 'experimenter': ['Abid']}"
      ]
     },
     "execution_count": 58,
     "metadata": {},
     "output_type": "execute_result"
    }
   ],
   "source": [
    "metadata[\"NWBFile\"]"
   ]
  },
  {
   "cell_type": "code",
   "execution_count": 59,
   "metadata": {},
   "outputs": [],
   "source": [
    "from datetime import datetime\n",
    "from pynwb import NWBFile"
   ]
  },
  {
   "cell_type": "code",
   "execution_count": 60,
   "metadata": {},
   "outputs": [],
   "source": [
    "def make_nwbfile_from_metadata(metadata: dict):\n",
    "    \"\"\"Make NWBFile from available metadata.\"\"\"\n",
    "    metadata = dict_deep_update(get_default_nwbfile_metadata(), metadata)\n",
    "    nwbfile_kwargs = metadata[\"NWBFile\"]\n",
    "    if \"Subject\" in metadata:\n",
    "        # convert ISO 8601 string to datetime\n",
    "        if \"date_of_birth\" in metadata[\"Subject\"] and isinstance(metadata[\"Subject\"][\"date_of_birth\"], str):\n",
    "            metadata[\"Subject\"][\"date_of_birth\"] = datetime.fromisoformat(metadata[\"Subject\"][\"date_of_birth\"])\n",
    "        nwbfile_kwargs.update(subject=Subject(**metadata[\"Subject\"]))\n",
    "    # convert ISO 8601 string to datetime\n",
    "    if isinstance(nwbfile_kwargs.get(\"session_start_time\", None), str):\n",
    "        nwbfile_kwargs[\"session_start_time\"] = datetime.fromisoformat(metadata[\"NWBFile\"][\"session_start_time\"])\n",
    "    return NWBFile(**nwbfile_kwargs)"
   ]
  },
  {
   "cell_type": "code",
   "execution_count": 61,
   "metadata": {},
   "outputs": [
    {
     "name": "stderr",
     "output_type": "stream",
     "text": [
      "/mnt/d/spikeinterface/hussaini-to-nwb/venv/lib/python3.8/site-packages/pynwb/file.py:753: UserWarning: Date is missing timezone information. Updating to local timezone.\n",
      "  warn(\"Date is missing timezone information. Updating to local timezone.\")\n"
     ]
    }
   ],
   "source": [
    "nwbfile = make_nwbfile_from_metadata(metadata=metadata_test)"
   ]
  },
  {
   "cell_type": "code",
   "execution_count": 62,
   "metadata": {},
   "outputs": [
    {
     "name": "stdout",
     "output_type": "stream",
     "text": [
      "<class 'list'>\n",
      "<class 'dict'>\n"
     ]
    }
   ],
   "source": [
    "print(type(metadata_test['Ecephys']['Device']))\n",
    "print(type(metadata_test['Ecephys']['Device'][0]))"
   ]
  },
  {
   "cell_type": "code",
   "execution_count": 63,
   "metadata": {},
   "outputs": [],
   "source": [
    "import spikeextractors as se\n",
    "import numpy as np"
   ]
  },
  {
   "cell_type": "code",
   "execution_count": 64,
   "metadata": {},
   "outputs": [],
   "source": [
    "r_cache = se.load_extractor_from_pickle(os.path.join(dir_name, 'cached_data_preproc.pkl'))"
   ]
  },
  {
   "cell_type": "code",
   "execution_count": 65,
   "metadata": {},
   "outputs": [],
   "source": [
    "data_interface = HussainiNWBConverter"
   ]
  },
  {
   "cell_type": "code",
   "execution_count": 66,
   "metadata": {},
   "outputs": [
    {
     "data": {
      "text/plain": [
       "{'NWBFile': {'session_description': '',\n",
       "  'session_start_time': '2020-10-04T11:07:07',\n",
       "  'identifier': '88fdeb9b-bb2b-43ce-a30f-f5901a1bff62',\n",
       "  'experimenter': ['Abid']},\n",
       " 'Ecephys': {'Device': [{'name': 'Axona',\n",
       "    'description': 'Axona DacqUSB, sw_version=1.2.2.16',\n",
       "    'manufacturer': 'Axona'}],\n",
       "  'ElectrodeGroup': [{'name': 'Group0',\n",
       "    'location': '',\n",
       "    'device': 'Axona',\n",
       "    'description': 'Group 0 electrodes.'},\n",
       "   {'name': 'Group1',\n",
       "    'location': '',\n",
       "    'device': 'Axona',\n",
       "    'description': 'Group 1 electrodes.'},\n",
       "   {'name': 'Group2',\n",
       "    'location': '',\n",
       "    'device': 'Axona',\n",
       "    'description': 'Group 2 electrodes.'},\n",
       "   {'name': 'Group3',\n",
       "    'location': '',\n",
       "    'device': 'Axona',\n",
       "    'description': 'Group 3 electrodes.'}]}}"
      ]
     },
     "execution_count": 66,
     "metadata": {},
     "output_type": "execute_result"
    }
   ],
   "source": [
    "metadata_test"
   ]
  },
  {
   "cell_type": "code",
   "execution_count": 67,
   "metadata": {},
   "outputs": [
    {
     "name": "stdout",
     "output_type": "stream",
     "text": [
      "Using Device to instantiate electrode group\n"
     ]
    },
    {
     "name": "stderr",
     "output_type": "stream",
     "text": [
      "/mnt/d/spikeinterface/hussaini-to-nwb/venv/lib/python3.8/site-packages/hdmf/common/table.py:415: UserWarning: An attribute 'name' already exists on DynamicTable 'electrodes' so this column cannot be accessed as an attribute, e.g., table.name; it can only be accessed using other methods, e.g., table['name'].\n",
      "  warn(msg)\n"
     ]
    },
    {
     "data": {
      "text/plain": [
       "root pynwb.file.NWBFile at 0x140682527782128\n",
       "Fields:\n",
       "  acquisition: {\n",
       "    ElectricalSeries <class 'pynwb.ecephys.ElectricalSeries'>\n",
       "  }\n",
       "  devices: {\n",
       "    Device <class 'pynwb.device.Device'>\n",
       "  }\n",
       "  electrode_groups: {\n",
       "    0 <class 'pynwb.ecephys.ElectrodeGroup'>,\n",
       "    1 <class 'pynwb.ecephys.ElectrodeGroup'>,\n",
       "    2 <class 'pynwb.ecephys.ElectrodeGroup'>,\n",
       "    3 <class 'pynwb.ecephys.ElectrodeGroup'>\n",
       "  }\n",
       "  electrodes: electrodes <class 'hdmf.common.table.DynamicTable'>\n",
       "  experimenter: ['Abid']\n",
       "  file_create_date: [datetime.datetime(2021, 4, 27, 21, 7, 59, 871506, tzinfo=tzlocal())]\n",
       "  identifier: 88fdeb9b-bb2b-43ce-a30f-f5901a1bff62\n",
       "  session_start_time: 2020-10-04 11:07:07-04:00\n",
       "  timestamps_reference_time: 2020-10-04 11:07:07-04:00"
      ]
     },
     "execution_count": 67,
     "metadata": {},
     "output_type": "execute_result"
    }
   ],
   "source": [
    "converter.run_conversion(metadata=metadata_test,\n",
    "                         save_to_file=False,\n",
    "                         nwbfile_path=None,\n",
    "                         nwbfile=None)"
   ]
  },
  {
   "cell_type": "code",
   "execution_count": 69,
   "metadata": {},
   "outputs": [],
   "source": [
    "import datetime"
   ]
  },
  {
   "cell_type": "code",
   "execution_count": 70,
   "metadata": {},
   "outputs": [
    {
     "data": {
      "text/plain": [
       "{'NWBFile': {'session_description': '',\n",
       "  'session_start_time': '2020-10-04T11:07:07',\n",
       "  'identifier': 'fd4d9661-9fc2-4532-b38e-7ed81eae2f64',\n",
       "  'experimenter': ['Abid']},\n",
       " 'Ecephys': {'Device': [{'name': 'Axona',\n",
       "    'description': 'Axona DacqUSB, sw_version=1.2.2.16',\n",
       "    'manufacturer': 'Axona'}],\n",
       "  'ElectrodeGroup': [{'name': 'Group0',\n",
       "    'location': '',\n",
       "    'device': 'Axona',\n",
       "    'description': 'Group 0 electrodes.'},\n",
       "   {'name': 'Group1',\n",
       "    'location': '',\n",
       "    'device': 'Axona',\n",
       "    'description': 'Group 1 electrodes.'},\n",
       "   {'name': 'Group2',\n",
       "    'location': '',\n",
       "    'device': 'Axona',\n",
       "    'description': 'Group 2 electrodes.'},\n",
       "   {'name': 'Group3',\n",
       "    'location': '',\n",
       "    'device': 'Axona',\n",
       "    'description': 'Group 3 electrodes.'}]}}"
      ]
     },
     "execution_count": 70,
     "metadata": {},
     "output_type": "execute_result"
    }
   ],
   "source": [
    "metadata=converter.get_metadata()\n",
    "metadata"
   ]
  },
  {
   "cell_type": "code",
   "execution_count": 71,
   "metadata": {
    "scrolled": true
   },
   "outputs": [
    {
     "name": "stdout",
     "output_type": "stream",
     "text": [
      "Using Device to instantiate electrode group\n"
     ]
    },
    {
     "data": {
      "text/plain": [
       "root pynwb.file.NWBFile at 0x140682527810752\n",
       "Fields:\n",
       "  acquisition: {\n",
       "    ElectricalSeries <class 'pynwb.ecephys.ElectricalSeries'>\n",
       "  }\n",
       "  devices: {\n",
       "    Device <class 'pynwb.device.Device'>\n",
       "  }\n",
       "  electrode_groups: {\n",
       "    0 <class 'pynwb.ecephys.ElectrodeGroup'>,\n",
       "    1 <class 'pynwb.ecephys.ElectrodeGroup'>,\n",
       "    2 <class 'pynwb.ecephys.ElectrodeGroup'>,\n",
       "    3 <class 'pynwb.ecephys.ElectrodeGroup'>\n",
       "  }\n",
       "  electrodes: electrodes <class 'hdmf.common.table.DynamicTable'>\n",
       "  experimenter: ['Abid']\n",
       "  file_create_date: [datetime.datetime(2021, 4, 27, 21, 8, 23, 515216, tzinfo=tzlocal())]\n",
       "  identifier: 5cbd738e-54bc-4040-bef6-7cc468974b68\n",
       "  session_start_time: 2020-10-04 11:07:07-04:00\n",
       "  timestamps_reference_time: 2020-10-04 11:07:07-04:00"
      ]
     },
     "execution_count": 71,
     "metadata": {},
     "output_type": "execute_result"
    }
   ],
   "source": [
    "# Get metadata_schema from converter\n",
    "converter.run_conversion(metadata=converter.get_metadata(),\n",
    "                         save_to_file=False,\n",
    "                         nwbfile_path=None,\n",
    "                         nwbfile=None)"
   ]
  },
  {
   "cell_type": "code",
   "execution_count": 50,
   "metadata": {},
   "outputs": [],
   "source": [
    "se.NwbRecordingExtractor.add_devices(\n",
    "    recording=recording,\n",
    "    nwbfile=nwbfile,\n",
    "    metadata=metadata\n",
    ")"
   ]
  },
  {
   "cell_type": "code",
   "execution_count": 79,
   "metadata": {},
   "outputs": [
    {
     "data": {
      "text/plain": [
       "[{'name': 'Device', 'description': 'no description'}]"
      ]
     },
     "execution_count": 79,
     "metadata": {},
     "output_type": "execute_result"
    }
   ],
   "source": [
    "metadata['Ecephys']['Device']"
   ]
  },
  {
   "cell_type": "code",
   "execution_count": 89,
   "metadata": {},
   "outputs": [
    {
     "data": {
      "text/plain": [
       "{'Axona': Axona pynwb.device.Device at 0x140012976895456\n",
       " Fields:\n",
       "   description: Axona DacqUSB, sw_version=1.2.2.16\n",
       "   manufacturer: Axona,\n",
       " 'Device': Device pynwb.device.Device at 0x140012976897712\n",
       " Fields:\n",
       "   description: no description}"
      ]
     },
     "execution_count": 89,
     "metadata": {},
     "output_type": "execute_result"
    }
   ],
   "source": [
    "nwbfile.devices"
   ]
  },
  {
   "cell_type": "code",
   "execution_count": 90,
   "metadata": {},
   "outputs": [],
   "source": [
    "if nwbfile is not None:\n",
    "    assert isinstance(nwbfile, NWBFile), \"'nwbfile' should be of type pynwb.NWBFile\"\n",
    "if len(nwbfile.devices) == 0:\n",
    "    se.NwbRecordingExtractor.add_devices(recording, nwbfile)\n",
    "defaults = dict(\n",
    "    name=\"Electrode Group\",\n",
    "    description=\"no description\",\n",
    "    location=\"unknown\",\n",
    "    device_name=\"Device\"\n",
    ")\n",
    "if metadata is None or 'ElectrodeGroup' not in metadata['Ecephys']:\n",
    "    metadata = dict(\n",
    "        Ecephys=dict(\n",
    "            ElectrodeGroup=[defaults]\n",
    "        )\n",
    "    )"
   ]
  },
  {
   "cell_type": "code",
   "execution_count": 91,
   "metadata": {},
   "outputs": [],
   "source": [
    "assert all([isinstance(x, dict) for x in metadata['Ecephys']['ElectrodeGroup']]), \\\n",
    "    \"Expected metadata['Ecephys']['ElectrodeGroup'] to be a list of dictionaries!\""
   ]
  },
  {
   "cell_type": "code",
   "execution_count": 94,
   "metadata": {},
   "outputs": [
    {
     "data": {
      "text/plain": [
       "'Device'"
      ]
     },
     "execution_count": 94,
     "metadata": {},
     "output_type": "execute_result"
    }
   ],
   "source": [
    "defaults['device_name']"
   ]
  },
  {
   "cell_type": "code",
   "execution_count": 95,
   "metadata": {},
   "outputs": [
    {
     "data": {
      "text/plain": [
       "[{'name': 'Group0',\n",
       "  'location': '',\n",
       "  'device': 'Axona',\n",
       "  'description': 'Group 0 electrodes.'},\n",
       " {'name': 'Group1',\n",
       "  'location': '',\n",
       "  'device': 'Axona',\n",
       "  'description': 'Group 1 electrodes.'},\n",
       " {'name': 'Group2',\n",
       "  'location': '',\n",
       "  'device': 'Axona',\n",
       "  'description': 'Group 2 electrodes.'},\n",
       " {'name': 'Group3',\n",
       "  'location': '',\n",
       "  'device': 'Axona',\n",
       "  'description': 'Group 3 electrodes.'}]"
      ]
     },
     "execution_count": 95,
     "metadata": {},
     "output_type": "execute_result"
    }
   ],
   "source": [
    "metadata['Ecephys']['ElectrodeGroup']"
   ]
  },
  {
   "cell_type": "code",
   "execution_count": 92,
   "metadata": {},
   "outputs": [
    {
     "name": "stdout",
     "output_type": "stream",
     "text": [
      "Device\n",
      "Device\n",
      "Device\n",
      "Device\n"
     ]
    }
   ],
   "source": [
    "for grp in metadata['Ecephys']['ElectrodeGroup']:\n",
    "    device_name = grp.get('device_name', defaults['device_name'])\n",
    "    print(device_name)"
   ]
  },
  {
   "cell_type": "code",
   "execution_count": 93,
   "metadata": {},
   "outputs": [
    {
     "data": {
      "text/plain": [
       "[{'name': 'Group0',\n",
       "  'location': '',\n",
       "  'device': 'Axona',\n",
       "  'description': 'Group 0 electrodes.'},\n",
       " {'name': 'Group1',\n",
       "  'location': '',\n",
       "  'device': 'Axona',\n",
       "  'description': 'Group 1 electrodes.'},\n",
       " {'name': 'Group2',\n",
       "  'location': '',\n",
       "  'device': 'Axona',\n",
       "  'description': 'Group 2 electrodes.'},\n",
       " {'name': 'Group3',\n",
       "  'location': '',\n",
       "  'device': 'Axona',\n",
       "  'description': 'Group 3 electrodes.'}]"
      ]
     },
     "execution_count": 93,
     "metadata": {},
     "output_type": "execute_result"
    }
   ],
   "source": [
    "metadata['Ecephys']['ElectrodeGroup']"
   ]
  },
  {
   "cell_type": "code",
   "execution_count": 57,
   "metadata": {},
   "outputs": [
    {
     "data": {
      "text/plain": [
       "'Device'"
      ]
     },
     "execution_count": 57,
     "metadata": {},
     "output_type": "execute_result"
    }
   ],
   "source": [
    "device_name"
   ]
  },
  {
   "cell_type": "code",
   "execution_count": 58,
   "metadata": {},
   "outputs": [
    {
     "data": {
      "text/plain": [
       "[{'name': 'Group0',\n",
       "  'location': '',\n",
       "  'device': 'Axona',\n",
       "  'description': 'Group 0 electrodes.'}]"
      ]
     },
     "execution_count": 58,
     "metadata": {},
     "output_type": "execute_result"
    }
   ],
   "source": [
    "metadata['Ecephys']['ElectrodeGroup']"
   ]
  },
  {
   "cell_type": "code",
   "execution_count": 62,
   "metadata": {},
   "outputs": [
    {
     "data": {
      "text/plain": [
       "{'name': 'Group0',\n",
       " 'location': '',\n",
       " 'device': 'Axona',\n",
       " 'description': 'Group 0 electrodes.'}"
      ]
     },
     "execution_count": 62,
     "metadata": {},
     "output_type": "execute_result"
    }
   ],
   "source": [
    "grp = metadata['Ecephys']['ElectrodeGroup'][0]\n",
    "grp"
   ]
  },
  {
   "cell_type": "code",
   "execution_count": 61,
   "metadata": {},
   "outputs": [
    {
     "data": {
      "text/plain": [
       "'Device'"
      ]
     },
     "execution_count": 61,
     "metadata": {},
     "output_type": "execute_result"
    }
   ],
   "source": [
    "device_name = grp.get('device_name', defaults['device_name'])\n",
    "device_name"
   ]
  },
  {
   "cell_type": "code",
   "execution_count": 66,
   "metadata": {},
   "outputs": [
    {
     "data": {
      "text/plain": [
       "{'Axona': Axona pynwb.device.Device at 0x140690185518672\n",
       " Fields:\n",
       "   description: Axona DacqUSB, sw_version=1.2.2.16\n",
       "   manufacturer: Axona}"
      ]
     },
     "execution_count": 66,
     "metadata": {},
     "output_type": "execute_result"
    }
   ],
   "source": [
    "nwbfile.devices"
   ]
  },
  {
   "cell_type": "code",
   "execution_count": 64,
   "metadata": {},
   "outputs": [
    {
     "data": {
      "text/plain": [
       "{}"
      ]
     },
     "execution_count": 64,
     "metadata": {},
     "output_type": "execute_result"
    }
   ],
   "source": [
    "nwbfile.electrode_groups"
   ]
  },
  {
   "cell_type": "code",
   "execution_count": 63,
   "metadata": {},
   "outputs": [
    {
     "data": {
      "text/plain": [
       "True"
      ]
     },
     "execution_count": 63,
     "metadata": {},
     "output_type": "execute_result"
    }
   ],
   "source": [
    "grp.get('name', defaults['name']) not in nwbfile.electrode_groups"
   ]
  },
  {
   "cell_type": "code",
   "execution_count": 70,
   "metadata": {},
   "outputs": [
    {
     "data": {
      "text/plain": [
       "{'name': 'Group0',\n",
       " 'location': '',\n",
       " 'device': 'Axona',\n",
       " 'description': 'Group 0 electrodes.'}"
      ]
     },
     "execution_count": 70,
     "metadata": {},
     "output_type": "execute_result"
    }
   ],
   "source": [
    "grp"
   ]
  },
  {
   "cell_type": "code",
   "execution_count": 68,
   "metadata": {},
   "outputs": [
    {
     "data": {
      "text/plain": [
       "{'Axona': Axona pynwb.device.Device at 0x140690185518672\n",
       " Fields:\n",
       "   description: Axona DacqUSB, sw_version=1.2.2.16\n",
       "   manufacturer: Axona}"
      ]
     },
     "execution_count": 68,
     "metadata": {},
     "output_type": "execute_result"
    }
   ],
   "source": [
    "nwbfile.devices"
   ]
  },
  {
   "cell_type": "code",
   "execution_count": 71,
   "metadata": {},
   "outputs": [
    {
     "data": {
      "text/plain": [
       "{}"
      ]
     },
     "execution_count": 71,
     "metadata": {},
     "output_type": "execute_result"
    }
   ],
   "source": [
    "nwbfile.electrode_groups"
   ]
  },
  {
   "cell_type": "code",
   "execution_count": 67,
   "metadata": {},
   "outputs": [
    {
     "ename": "AssertionError",
     "evalue": "Expected metadata['Ecephys']['Device'] to be a list of dictionaries!",
     "output_type": "error",
     "traceback": [
      "\u001b[0;31m---------------------------------------------------------------------------\u001b[0m",
      "\u001b[0;31mAssertionError\u001b[0m                            Traceback (most recent call last)",
      "\u001b[0;32m<ipython-input-67-c304305ea55f>\u001b[0m in \u001b[0;36m<module>\u001b[0;34m\u001b[0m\n\u001b[1;32m     10\u001b[0m                 )\n\u001b[1;32m     11\u001b[0m             )\n\u001b[0;32m---> 12\u001b[0;31m             \u001b[0mse\u001b[0m\u001b[0;34m.\u001b[0m\u001b[0mNwbRecordingExtractor\u001b[0m\u001b[0;34m.\u001b[0m\u001b[0madd_devices\u001b[0m\u001b[0;34m(\u001b[0m\u001b[0mrecording\u001b[0m\u001b[0;34m,\u001b[0m \u001b[0mnwbfile\u001b[0m\u001b[0;34m,\u001b[0m \u001b[0mmetadata\u001b[0m\u001b[0;34m=\u001b[0m\u001b[0mnew_device\u001b[0m\u001b[0;34m)\u001b[0m\u001b[0;34m\u001b[0m\u001b[0;34m\u001b[0m\u001b[0m\n\u001b[0m",
      "\u001b[0;32m/mnt/d/spikeinterface/spikeextractors/spikeextractors/extractors/nwbextractors/nwbextractors.py\u001b[0m in \u001b[0;36madd_devices\u001b[0;34m(recording, nwbfile, metadata)\u001b[0m\n\u001b[1;32m    376\u001b[0m                 )\n\u001b[1;32m    377\u001b[0m             )\n\u001b[0;32m--> 378\u001b[0;31m         \u001b[0;32massert\u001b[0m \u001b[0mall\u001b[0m\u001b[0;34m(\u001b[0m\u001b[0;34m[\u001b[0m\u001b[0misinstance\u001b[0m\u001b[0;34m(\u001b[0m\u001b[0mx\u001b[0m\u001b[0;34m,\u001b[0m \u001b[0mdict\u001b[0m\u001b[0;34m)\u001b[0m \u001b[0;32mfor\u001b[0m \u001b[0mx\u001b[0m \u001b[0;32min\u001b[0m \u001b[0mmetadata\u001b[0m\u001b[0;34m[\u001b[0m\u001b[0;34m'Ecephys'\u001b[0m\u001b[0;34m]\u001b[0m\u001b[0;34m[\u001b[0m\u001b[0;34m'Device'\u001b[0m\u001b[0;34m]\u001b[0m\u001b[0;34m]\u001b[0m\u001b[0;34m)\u001b[0m\u001b[0;34m,\u001b[0m\u001b[0;31m \u001b[0m\u001b[0;31m\\\u001b[0m\u001b[0;34m\u001b[0m\u001b[0;34m\u001b[0m\u001b[0m\n\u001b[0m\u001b[1;32m    379\u001b[0m             \u001b[0;34m\"Expected metadata['Ecephys']['Device'] to be a list of dictionaries!\"\u001b[0m\u001b[0;34m\u001b[0m\u001b[0;34m\u001b[0m\u001b[0m\n\u001b[1;32m    380\u001b[0m \u001b[0;34m\u001b[0m\u001b[0m\n",
      "\u001b[0;31mAssertionError\u001b[0m: Expected metadata['Ecephys']['Device'] to be a list of dictionaries!"
     ]
    }
   ],
   "source": [
    "for grp in metadata['Ecephys']['ElectrodeGroup']:\n",
    "    device_name = grp.get('device_name', defaults['device_name'])\n",
    "    if grp.get('name', defaults['name']) not in nwbfile.electrode_groups:\n",
    "        if device_name not in nwbfile.devices:\n",
    "            new_device = dict(\n",
    "                Ecephys=dict(\n",
    "                    Device=dict(\n",
    "                        name=device_name\n",
    "                    )\n",
    "                )\n",
    "            )\n",
    "            se.NwbRecordingExtractor.add_devices(recording, nwbfile, metadata=new_device)"
   ]
  },
  {
   "cell_type": "code",
   "execution_count": 236,
   "metadata": {},
   "outputs": [
    {
     "data": {
      "text/plain": [
       "1"
      ]
     },
     "execution_count": 236,
     "metadata": {},
     "output_type": "execute_result"
    }
   ],
   "source": [
    "len(nwbfile.devices)"
   ]
  },
  {
   "cell_type": "code",
   "execution_count": 237,
   "metadata": {},
   "outputs": [],
   "source": [
    "se.NwbRecordingExtractor.add_electrode_groups(\n",
    "    recording=recording,\n",
    "    nwbfile=nwbfile,\n",
    "    metadata=metadata\n",
    ")"
   ]
  },
  {
   "cell_type": "code",
   "execution_count": null,
   "metadata": {},
   "outputs": [],
   "source": [
    "converter.run_conversion(metadata=metadata_test,\n",
    "                         save_to_file=False,\n",
    "                         nwbfile_path=os.path.join(dir_name, 'axonadatainterface_test.nwb'),\n",
    "                         nwbfile=None)"
   ]
  },
  {
   "cell_type": "code",
   "execution_count": 239,
   "metadata": {},
   "outputs": [
    {
     "data": {
      "text/plain": [
       "{'NWBFile': {'session_description': '',\n",
       "  'session_start_time': '2020-10-04T11:07:07',\n",
       "  'identifier': 'bff4a978-7d4d-4878-9c3b-c4c9a0a28e02',\n",
       "  'experimenter': ['Abid']},\n",
       " 'Ecephys': {'Device': [{'name': 'Axona',\n",
       "    'description': 'Axona DacqUSB, sw_version=1.2.2.16',\n",
       "    'manufacturer': 'Axona'}],\n",
       "  'ElectrodeGroup': [{'name': 'Group0',\n",
       "    'location': '',\n",
       "    'device': 'Axona',\n",
       "    'description': 'Group 0 electrodes.'}],\n",
       "  'Electrodes': [{'name': 'group_name',\n",
       "    'description': 'The name of the ElectrodeGroup this                         electrode is a part of.',\n",
       "    'data': ['Group0',\n",
       "     'Group0',\n",
       "     'Group0',\n",
       "     'Group0',\n",
       "     'Group0',\n",
       "     'Group0',\n",
       "     'Group0',\n",
       "     'Group0',\n",
       "     'Group0',\n",
       "     'Group0',\n",
       "     'Group0',\n",
       "     'Group0',\n",
       "     'Group0',\n",
       "     'Group0',\n",
       "     'Group0',\n",
       "     'Group0']}],\n",
       "  'ElectricalSeries': {'name': 'ElectricalSeries',\n",
       "   'description': 'Raw acquisition traces.'}}}"
      ]
     },
     "execution_count": 239,
     "metadata": {},
     "output_type": "execute_result"
    }
   ],
   "source": [
    "metadata_test"
   ]
  },
  {
   "cell_type": "code",
   "execution_count": null,
   "metadata": {},
   "outputs": [],
   "source": []
  },
  {
   "cell_type": "code",
   "execution_count": null,
   "metadata": {},
   "outputs": [],
   "source": []
  },
  {
   "cell_type": "code",
   "execution_count": null,
   "metadata": {},
   "outputs": [],
   "source": []
  },
  {
   "cell_type": "code",
   "execution_count": null,
   "metadata": {},
   "outputs": [],
   "source": []
  },
  {
   "cell_type": "code",
   "execution_count": null,
   "metadata": {},
   "outputs": [],
   "source": []
  },
  {
   "cell_type": "code",
   "execution_count": 18,
   "metadata": {},
   "outputs": [],
   "source": [
    "import nwb_conversion_tools"
   ]
  },
  {
   "cell_type": "code",
   "execution_count": 19,
   "metadata": {},
   "outputs": [],
   "source": [
    "# Try to see for which data_interface pytest crashes\n",
    "# Only for tutorialinterfaces! But it works fine for AxonaRecordingExtractorInterface!\n",
    "\n",
    "interfaces_that_crash = [nwb_conversion_tools.datainterfaces.tutorialdatainterface.TutorialRecordingInterface,\n",
    "                         nwb_conversion_tools.datainterfaces.tutorialdatainterface.TutorialSortingInterface]\n",
    "\n",
    "from nwb_conversion_tools import interface_list\n",
    "\n",
    "for data_interface in interface_list:\n",
    "    \n",
    "    if not data_interface in interfaces_that_crash:\n",
    "    \n",
    "        # check validity of source schema\n",
    "        schema = data_interface.get_source_schema()\n",
    "        Draft7Validator.check_schema(schema)\n",
    "\n",
    "        # check validity of conversion options schema\n",
    "        schema = data_interface.get_conversion_options_schema()\n",
    "        Draft7Validator.check_schema(schema)"
   ]
  },
  {
   "cell_type": "code",
   "execution_count": 20,
   "metadata": {},
   "outputs": [],
   "source": [
    "interfaces_that_crash = [nwb_conversion_tools.datainterfaces.tutorialdatainterface.TutorialRecordingInterface,\n",
    "                         nwb_conversion_tools.datainterfaces.tutorialdatainterface.TutorialSortingInterface]\n",
    "\n",
    "data_interface = interfaces_that_crash[0]\n",
    "        \n",
    "# check validity of source schema\n",
    "schema = data_interface.get_source_schema()\n",
    "Draft7Validator.check_schema(schema)\n",
    "\n",
    "# check validity of conversion options schema\n",
    "schema = data_interface.get_conversion_options_schema()\n",
    "Draft7Validator.check_schema(schema)"
   ]
  },
  {
   "cell_type": "code",
   "execution_count": 21,
   "metadata": {},
   "outputs": [],
   "source": [
    "data_interface = interfaces_that_crash[1]\n",
    "        \n",
    "# check validity of source schema\n",
    "schema = data_interface.get_source_schema()\n",
    "Draft7Validator.check_schema(schema)\n",
    "\n",
    "# check validity of conversion options schema\n",
    "schema = data_interface.get_conversion_options_schema()\n",
    "Draft7Validator.check_schema(schema)"
   ]
  },
  {
   "cell_type": "code",
   "execution_count": null,
   "metadata": {},
   "outputs": [],
   "source": []
  },
  {
   "cell_type": "code",
   "execution_count": null,
   "metadata": {},
   "outputs": [],
   "source": []
  },
  {
   "cell_type": "code",
   "execution_count": null,
   "metadata": {},
   "outputs": [],
   "source": []
  }
 ],
 "metadata": {
  "kernelspec": {
   "display_name": "Python 3",
   "language": "python",
   "name": "python3"
  },
  "language_info": {
   "codemirror_mode": {
    "name": "ipython",
    "version": 3
   },
   "file_extension": ".py",
   "mimetype": "text/x-python",
   "name": "python",
   "nbconvert_exporter": "python",
   "pygments_lexer": "ipython3",
   "version": "3.8.5"
  }
 },
 "nbformat": 4,
 "nbformat_minor": 4
}
