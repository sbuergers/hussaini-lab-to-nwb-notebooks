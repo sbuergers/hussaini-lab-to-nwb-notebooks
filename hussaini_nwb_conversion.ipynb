{
 "cells": [
  {
   "cell_type": "markdown",
   "metadata": {},
   "source": [
    "# Hussaini lab data (Axona) conversion to NWB\n",
    "\n",
    "Here, I am going to test code for doing said conversions.\n",
    "\n",
    "### NWB\n",
    "\n",
    "To convert to NWB we will need a separate Interface class (e.g. AxonaRecordingExtractorInterface) for each data type / extractor. Those are then combined with an NWBConverter class for the Lab (e.g. HussainiLabNWBConverter), which exports to NWB. \n",
    "\n",
    "Note that for Milestone2, we might not need any of this, since spikeextractors has its own NWBconverters for extractor and sorting classes!"
   ]
  },
  {
   "cell_type": "markdown",
   "metadata": {},
   "source": [
    "Adapted from https://github.com/catalystneuro/movshon-lab-to-nwb/blob/main/tutorials/blackrock_nwb_conversion_detailed.ipynb"
   ]
  },
  {
   "cell_type": "code",
   "execution_count": 1,
   "metadata": {},
   "outputs": [],
   "source": [
    "%load_ext autoreload\n",
    "%autoreload 2\n",
    "%config Completer.use_jedi = False"
   ]
  },
  {
   "cell_type": "code",
   "execution_count": 2,
   "metadata": {},
   "outputs": [
    {
     "name": "stdout",
     "output_type": "stream",
     "text": [
      "/mnt/d/freelance-work/catalyst-neuro/hussaini-lab-to-nwb/example_data_raw/20201004_Raw\n"
     ]
    }
   ],
   "source": [
    "import os\n",
    "\n",
    "dir_name = r'/mnt/d/freelance-work/catalyst-neuro/hussaini-lab-to-nwb/example_data_raw'\n",
    "base_filename = '20201004_Raw'\n",
    "filename = os.path.join(dir_name, base_filename)\n",
    "set_file = filename + '.set'\n",
    "print(filename)"
   ]
  },
  {
   "cell_type": "code",
   "execution_count": 61,
   "metadata": {},
   "outputs": [
    {
     "name": "stdout",
     "output_type": "stream",
     "text": [
      "total 76\r\n",
      "-rwxrwxrwx 1 sbuergers sbuergers    69 Apr  5 11:28 __init__.py\r\n",
      "drwxrwxrwx 1 sbuergers sbuergers  4096 Apr 28 12:03 __pycache__\r\n",
      "-rwxrwxrwx 1 sbuergers sbuergers  1404 Apr  5 11:28 auto_qc.py\r\n",
      "-rwxrwxrwx 1 sbuergers sbuergers  1338 May  4 15:51 basedatainterface.py\r\n",
      "-rwxrwxrwx 1 sbuergers sbuergers  2134 Apr  5 11:28 baseimagingextractorinterface.py\r\n",
      "-rwxrwxrwx 1 sbuergers sbuergers  2812 May 10 08:50 baselfpextractorinterface.py\r\n",
      "-rwxrwxrwx 1 sbuergers sbuergers  5385 May 10 08:50 baserecordingextractorinterface.py\r\n",
      "-rwxrwxrwx 1 sbuergers sbuergers  2363 Apr  5 11:28 basesegmentationextractorinterface.py\r\n",
      "-rwxrwxrwx 1 sbuergers sbuergers  3786 Apr 28 11:58 basesortingextractorinterface.py\r\n",
      "-rwxrwxrwx 1 sbuergers sbuergers  5015 Apr 28 11:58 conversion_tools.py\r\n",
      "drwxrwxrwx 1 sbuergers sbuergers  4096 May 10 08:50 datainterfaces\r\n",
      "-rwxrwxrwx 1 sbuergers sbuergers  5100 Apr 28 11:58 json_schema_utils.py\r\n",
      "-rwxrwxrwx 1 sbuergers sbuergers 10154 Apr  5 11:28 metafile.schema.json\r\n",
      "-rwxrwxrwx 1 sbuergers sbuergers  7472 Apr 28 11:58 nwbconverter.py\r\n",
      "drwxrwxrwx 1 sbuergers sbuergers  4096 Apr  5 11:28 schemas\r\n",
      "-rwxrwxrwx 1 sbuergers sbuergers  7355 Apr  5 11:28 utils.py\r\n"
     ]
    }
   ],
   "source": [
    "!ls ../nwb-conversion-tools/nwb_conversion_tools -l"
   ]
  },
  {
   "cell_type": "code",
   "execution_count": 62,
   "metadata": {},
   "outputs": [],
   "source": [
    "# Import modules\n",
    "\n",
    "import random\n",
    "import string\n",
    "from typing import Union, Optional\n",
    "from pathlib import Path\n",
    "import spikeextractors as se\n",
    "from pynwb import NWBFile\n",
    "import numpy as np\n",
    "import re\n",
    "import datetime\n",
    "import json\n",
    "from jsonschema import validate, ValidationError\n",
    "\n",
    "from nwb_conversion_tools.baserecordingextractorinterface import BaseRecordingExtractorInterface,  BaseDataInterface\n",
    "from nwb_conversion_tools.basesortingextractorinterface import BaseSortingExtractorInterface\n",
    "from nwb_conversion_tools.json_schema_utils import get_schema_from_method_signature, get_base_schema, fill_defaults\n",
    "from nwb_conversion_tools.datainterfaces.interface_utils.brpylib import NsxFile\n",
    "from nwb_conversion_tools import SpikeGLXRecordingInterface"
   ]
  },
  {
   "cell_type": "code",
   "execution_count": 6,
   "metadata": {},
   "outputs": [],
   "source": [
    "# from basedatainterface.py\n",
    "base_schema = get_base_schema(\n",
    "    id_='metadata.schema.json',\n",
    "    root=True,\n",
    "    title='Metadata',\n",
    "    description='Schema for the metadata',\n",
    "    version=\"0.1.0\",\n",
    ")"
   ]
  },
  {
   "cell_type": "code",
   "execution_count": 7,
   "metadata": {},
   "outputs": [
    {
     "data": {
      "text/plain": [
       "{'required': [],\n",
       " 'properties': {},\n",
       " 'type': 'object',\n",
       " 'additionalProperties': False,\n",
       " '$schema': 'http://json-schema.org/draft-07/schema#',\n",
       " '$id': 'metadata.schema.json',\n",
       " 'title': 'Metadata',\n",
       " 'description': 'Schema for the metadata',\n",
       " 'version': '0.1.0'}"
      ]
     },
     "execution_count": 7,
     "metadata": {},
     "output_type": "execute_result"
    }
   ],
   "source": [
    "base_schema"
   ]
  },
  {
   "cell_type": "code",
   "execution_count": 8,
   "metadata": {},
   "outputs": [],
   "source": [
    "glx = SpikeGLXRecordingInterface"
   ]
  },
  {
   "cell_type": "code",
   "execution_count": 9,
   "metadata": {},
   "outputs": [
    {
     "data": {
      "text/plain": [
       "{'required': ['file_path'],\n",
       " 'properties': {'file_path': {'type': 'string',\n",
       "   'format': 'file',\n",
       "   'description': 'Path to SpikeGLX file.'}},\n",
       " 'type': 'object',\n",
       " 'additionalProperties': True}"
      ]
     },
     "execution_count": 9,
     "metadata": {},
     "output_type": "execute_result"
    }
   ],
   "source": [
    "glx.get_source_schema()"
   ]
  },
  {
   "cell_type": "code",
   "execution_count": 10,
   "metadata": {},
   "outputs": [
    {
     "data": {
      "text/plain": [
       "mappingproxy({'self': <Parameter \"self\">,\n",
       "              'file_path': <Parameter \"file_path: Union[str, pathlib.Path, NoneType]\">,\n",
       "              'stub_test': <Parameter \"stub_test: Union[bool, NoneType] = False\">})"
      ]
     },
     "execution_count": 10,
     "metadata": {},
     "output_type": "execute_result"
    }
   ],
   "source": [
    "import inspect\n",
    "\n",
    "inspect.signature(glx.__init__).parameters"
   ]
  },
  {
   "cell_type": "code",
   "execution_count": 11,
   "metadata": {},
   "outputs": [
    {
     "name": "stdout",
     "output_type": "stream",
     "text": [
      "total 224\r\n",
      "-rwxrwxrwx 1 sbuergers sbuergers  1265 Mar 19 08:48 __init__.py\r\n",
      "drwxrwxrwx 1 sbuergers sbuergers  4096 Apr 28 12:02 __pycache__\r\n",
      "-rwxrwxrwx 1 sbuergers sbuergers 22834 Apr 27 20:11 baseextractor.py\r\n",
      "-rwxrwxrwx 1 sbuergers sbuergers  9153 Apr 27 20:11 cacheextractors.py\r\n",
      "drwxrwxrwx 1 sbuergers sbuergers  4096 Apr 20 21:40 example_datasets\r\n",
      "-rwxrwxrwx 1 sbuergers sbuergers   105 Mar 19 08:48 exceptions.py\r\n",
      "-rwxrwxrwx 1 sbuergers sbuergers 37347 Apr 27 20:11 extraction_tools.py\r\n",
      "-rwxrwxrwx 1 sbuergers sbuergers  5952 Apr 28 11:50 extractorlist.py\r\n",
      "drwxrwxrwx 1 sbuergers sbuergers  4096 Mar 22 09:47 extractors\r\n",
      "-rwxrwxrwx 1 sbuergers sbuergers  6255 Apr 27 20:11 multirecordingchannelextractor.py\r\n",
      "-rwxrwxrwx 1 sbuergers sbuergers  8547 Apr 27 20:11 multirecordingtimeextractor.py\r\n",
      "-rwxrwxrwx 1 sbuergers sbuergers  5459 Apr 27 20:11 multisortingextractor.py\r\n",
      "-rwxrwxrwx 1 sbuergers sbuergers 41337 Apr 27 20:11 recordingextractor.py\r\n",
      "-rwxrwxrwx 1 sbuergers sbuergers 30652 Apr 27 20:11 sortingextractor.py\r\n",
      "-rwxrwxrwx 1 sbuergers sbuergers  8382 Apr 20 21:40 subrecordingextractor.py\r\n",
      "-rwxrwxrwx 1 sbuergers sbuergers  7788 Mar 19 08:52 subsortingextractor.py\r\n",
      "-rwxrwxrwx 1 sbuergers sbuergers  9329 Apr 28 11:51 testing.py\r\n",
      "-rwxrwxrwx 1 sbuergers sbuergers    18 Apr 20 21:40 version.py\r\n"
     ]
    }
   ],
   "source": [
    "!ls ../spikeextractors/spikeextractors -l"
   ]
  },
  {
   "cell_type": "code",
   "execution_count": 12,
   "metadata": {},
   "outputs": [],
   "source": [
    "from spikeextractors.extractors.neoextractors import AxonaRecordingExtractor"
   ]
  },
  {
   "cell_type": "code",
   "execution_count": 13,
   "metadata": {},
   "outputs": [
    {
     "name": "stdout",
     "output_type": "stream",
     "text": [
      "Number of channels: 16\n",
      "Channel groups: [0 0 0 0 1 1 1 1 2 2 2 2 3 3 3 3]\n"
     ]
    }
   ],
   "source": [
    "are = AxonaRecordingExtractor(filename=filename)\n",
    "print('Number of channels:', are.get_num_channels())\n",
    "print('Channel groups:', are.get_channel_groups())"
   ]
  },
  {
   "cell_type": "markdown",
   "metadata": {},
   "source": [
    "Parse .set file for metadata to include in metadata."
   ]
  },
  {
   "cell_type": "code",
   "execution_count": 5,
   "metadata": {},
   "outputs": [],
   "source": [
    "def parse_generic_header(filename, params):\n",
    "    \"\"\"\n",
    "    Given a binary file with phrases and line breaks, enters the\n",
    "    first word of a phrase as dictionary key and the following\n",
    "    string (without linebreaks) as value. Returns the dictionary.\n",
    "    \n",
    "    INPUT\n",
    "    filename (str): .set file path and name.\n",
    "    params (list or set): parameter names to search for. \n",
    "    \n",
    "    OUTPUT\n",
    "    header (dict): dictionary with keys being the parameters that\n",
    "                   were found & values being strings of the data.\n",
    "                   \n",
    "    EXAMPLE\n",
    "    parse_generic_header('myset_file.set', ['experimenter', 'trial_time'])\n",
    "    \"\"\"\n",
    "    header = {}\n",
    "    params = set(params)\n",
    "    with open(filename, 'rb') as f:\n",
    "        for bin_line in f:\n",
    "            if b'data_start' in bin_line:\n",
    "                break\n",
    "            line = bin_line.decode('cp1252').replace('\\r\\n', '').replace('\\r', '').strip()\n",
    "            parts = line.split(' ')\n",
    "            key = parts[0]\n",
    "            if key in params:\n",
    "                header[key] = ' '.join(parts[1:])\n",
    "            \n",
    "    return header"
   ]
  },
  {
   "cell_type": "code",
   "execution_count": 6,
   "metadata": {},
   "outputs": [],
   "source": [
    "params_of_interest = [\n",
    "    'experimenter', \n",
    "    'comments',\n",
    "    'duration', \n",
    "    'sw_version',\n",
    "    'tracker_version',\n",
    "    'stim_version',\n",
    "    'audio_version'\n",
    "]"
   ]
  },
  {
   "cell_type": "code",
   "execution_count": 7,
   "metadata": {},
   "outputs": [
    {
     "data": {
      "text/plain": [
       "{'experimenter': 'Abid',\n",
       " 'comments': '',\n",
       " 'duration': '600.00625',\n",
       " 'sw_version': '1.2.2.16',\n",
       " 'tracker_version': '0',\n",
       " 'stim_version': '1',\n",
       " 'audio_version': '0'}"
      ]
     },
     "execution_count": 7,
     "metadata": {},
     "output_type": "execute_result"
    }
   ],
   "source": [
    "parse_generic_header(set_file, params_of_interest)"
   ]
  },
  {
   "cell_type": "code",
   "execution_count": 8,
   "metadata": {},
   "outputs": [],
   "source": [
    "def read_iso_datetime(set_file):\n",
    "    \"\"\" \n",
    "    Creates datetime object (y, m, d, h, m, s) from .set file header \n",
    "    \"\"\"\n",
    "    with open(set_file, 'r', encoding='cp1252') as f:\n",
    "        for line in f:\n",
    "            if line.startswith('trial_date'):\n",
    "                date_string = re.findall(r'\\d+\\s\\w+\\s\\d{4}$', line)[0]\n",
    "            if line.startswith('trial_time'):\n",
    "                time_string = line[len('trial_time')+1::].replace('\\n', '')\n",
    "\n",
    "    return datetime.datetime.strptime(date_string + ', ' + time_string, \\\n",
    "        \"%d %b %Y, %H:%M:%S\").isoformat()"
   ]
  },
  {
   "cell_type": "code",
   "execution_count": 9,
   "metadata": {},
   "outputs": [],
   "source": [
    "class AxonaRecordingExtractorInterface(BaseRecordingExtractorInterface):\n",
    "    \"\"\"Primary data interface class for converting a AxonaRecordingExtractor.\"\"\"\n",
    "\n",
    "    RX = se.AxonaRecordingExtractor\n",
    "\n",
    "    @classmethod\n",
    "    def get_source_schema(cls):\n",
    "        source_schema = {\n",
    "            'required': ['filename'],\n",
    "            'properties': {\n",
    "                'filename': {\n",
    "                    'type': 'string',\n",
    "                    'format': 'file',\n",
    "                    'description': 'Path to Axona files.'\n",
    "                }\n",
    "            },\n",
    "            'type': 'object',\n",
    "            'additionalProperties': True\n",
    "        }\n",
    "        return source_schema\n",
    "        \n",
    "    def get_metadata(self):\n",
    "        \"\"\"Auto-fill as much of the metadata as possible. Must comply with metadata schema.\"\"\"        \n",
    "                \n",
    "        # Extract information for specific parameters from .set file\n",
    "        params_of_interest = [\n",
    "            'experimenter', \n",
    "            'comments',\n",
    "            'duration', \n",
    "            'sw_version',\n",
    "            'tracker_version',\n",
    "            'stim_version',\n",
    "            'audio_version'\n",
    "        ]\n",
    "        set_file = self.source_data['filename']+'.set'\n",
    "        par = parse_generic_header(set_file, params_of_interest)\n",
    "        \n",
    "        # Extract information from AxonaRecordingExtractor\n",
    "        elec_group_names = self.recording_extractor.get_channel_groups()\n",
    "        unique_elec_group_names = set(elec_group_names)\n",
    "        \n",
    "        # Add available metadata\n",
    "        metadata = super().get_metadata()\n",
    "        metadata['NWBFile'] = dict(\n",
    "            session_start_time=read_iso_datetime(set_file),\n",
    "            session_description=par['comments'],\n",
    "            session_duration=par['duration']+'s',\n",
    "            experimenter=[par['experimenter']]\n",
    "        )\n",
    "        \n",
    "        metadata['Ecephys'] = dict(\n",
    "            Device=[\n",
    "                dict(\n",
    "                    name=\"Axona\",\n",
    "                    description=\"Axona DacqUSB, sw_version={}\".format(par['sw_version']),\n",
    "                    manufacturer=\"Axona\"\n",
    "                ),\n",
    "            ],\n",
    "            ElectrodeGroup=[\n",
    "                dict(\n",
    "                    name=f'Group{group_name}',\n",
    "                    location='',\n",
    "                    device='Axona',\n",
    "                    description=f\"Group {group_name} electrodes.\",\n",
    "                )\n",
    "                for group_name in unique_elec_group_names\n",
    "            ],\n",
    "            Electrodes=[\n",
    "                dict(\n",
    "                    name='group_name',\n",
    "                    description=\"The name of the ElectrodeGroup this electrode is a part of.\",\n",
    "                    data=[f\"Group{x}\" for x in elec_group_names]\n",
    "                )\n",
    "            ],\n",
    "            ElectricalSeries=dict(\n",
    "                name='ElectricalSeries',\n",
    "                description=\"Raw acquisition traces.\"\n",
    "            )\n",
    "        )\n",
    "  \n",
    "        return metadata"
   ]
  },
  {
   "cell_type": "code",
   "execution_count": 10,
   "metadata": {},
   "outputs": [],
   "source": [
    "\"\"\"Authors: Steffen Buergers (old)\"\"\"\n",
    "import re\n",
    "import datetime\n",
    "import spikeextractors as se\n",
    "\n",
    "from pynwb.ecephys import ElectricalSeries\n",
    "from nwb_conversion_tools.utils import get_schema_from_hdmf_class\n",
    "from nwb_conversion_tools.baserecordingextractorinterface import BaseRecordingExtractorInterface\n",
    "\n",
    "\n",
    "def parse_generic_header(filename, params):\n",
    "    \"\"\"\n",
    "    Given a binary file with phrases and line breaks, enters the\n",
    "    first word of a phrase as dictionary key and the following\n",
    "    string (without linebreaks) as value. Returns the dictionary.\n",
    "\n",
    "    INPUT\n",
    "    filename (str): .set file path and name.\n",
    "    params (list or set): parameter names to search for.\n",
    "\n",
    "    OUTPUT\n",
    "    header (dict): dictionary with keys being the parameters that\n",
    "                   were found & values being strings of the data.\n",
    "\n",
    "    EXAMPLE\n",
    "    parse_generic_header('myset_file.set', ['experimenter', 'trial_time'])\n",
    "    \"\"\"\n",
    "    header = {}\n",
    "    params = set(params)\n",
    "    with open(filename, 'rb') as f:\n",
    "        for bin_line in f:\n",
    "            if b'data_start' in bin_line:\n",
    "                break\n",
    "            line = bin_line.decode('cp1252').replace('\\r\\n', '').\\\n",
    "                replace('\\r', '').strip()\n",
    "            parts = line.split(' ')\n",
    "            key = parts[0]\n",
    "            if key in params:\n",
    "                header[key] = ' '.join(parts[1:])\n",
    "\n",
    "    return header\n",
    "\n",
    "\n",
    "def read_iso_datetime(set_file):\n",
    "    \"\"\"\n",
    "    Creates datetime object (y, m, d, h, m, s) from .set file header\n",
    "    and converts it to ISO 8601 format\n",
    "    \"\"\"\n",
    "    with open(set_file, 'r', encoding='cp1252') as f:\n",
    "        for line in f:\n",
    "            if line.startswith('trial_date'):\n",
    "                date_string = re.findall(r'\\d+\\s\\w+\\s\\d{4}$', line)[0]\n",
    "            if line.startswith('trial_time'):\n",
    "                time_string = line[len('trial_time')+1::].replace('\\n', '')\n",
    "\n",
    "    return datetime.datetime.strptime(date_string + ', ' + time_string,\n",
    "                                      \"%d %b %Y, %H:%M:%S\").isoformat()\n",
    "\n",
    "\n",
    "class AxonaRecordingExtractorInterface(BaseRecordingExtractorInterface):\n",
    "    \"\"\"Primary data interface class for converting a AxonaRecordingExtractor\"\"\"\n",
    "\n",
    "    RX = se.AxonaRecordingExtractor\n",
    "\n",
    "    @classmethod\n",
    "    def get_source_schema(cls):\n",
    "        source_schema = {\n",
    "            'required': ['filename'],\n",
    "            'properties': {\n",
    "                'filename': {\n",
    "                    'type': 'string',\n",
    "                    'format': 'file',\n",
    "                    'description': 'Path to Axona files.'\n",
    "                }\n",
    "            },\n",
    "            'type': 'object',\n",
    "            'additionalProperties': True\n",
    "        }\n",
    "        return source_schema\n",
    "    \n",
    "    def get_metadata_schema(self):\n",
    "        metadata_schema = super().get_metadata_schema()\n",
    "        \n",
    "        # Update Ecephys metadata\n",
    "        Electrodes = {\n",
    "            \"required\": [\n",
    "                \"name\",\n",
    "                \"description\",\n",
    "                \"data\"\n",
    "            ],\n",
    "            \"properties\": {\n",
    "                \"name\": {\n",
    "                    \"description\": \"Electrode group name this electrode is a part of.\",\n",
    "                    \"type\": \"string\"\n",
    "                },\n",
    "                \"description\": {\n",
    "                    \"description\": \"Description of this electrode group\",\n",
    "                    \"type\": \"string\"\n",
    "                },\n",
    "                \"data\": {\n",
    "                    \"description\": \"Electrode group name for each electrode.\",\n",
    "                    \"type\": \"array\",\n",
    "                }\n",
    "            },\n",
    "            \"type\": \"array\",\n",
    "            \"additionalProperties\": False,\n",
    "            \"tag\": \"Electrodes\"\n",
    "        }\n",
    "        \n",
    "        metadata_schema['properties']['Ecephys']['properties'].update(\n",
    "            Electrodes=Electrodes,\n",
    "            ElectricalSeries=get_schema_from_hdmf_class(ElectricalSeries),\n",
    "        )\n",
    "\n",
    "        return metadata_schema\n",
    "\n",
    "    def get_metadata(self):\n",
    "\n",
    "        # Extract information for specific parameters from .set file\n",
    "        params_of_interest = [\n",
    "            'experimenter',\n",
    "            'comments',\n",
    "            'duration',\n",
    "            'sw_version'\n",
    "        ]\n",
    "        set_file = self.source_data['filename'].split('.')[0]+'.set'\n",
    "        par = parse_generic_header(set_file, params_of_interest)\n",
    "\n",
    "        # Extract information from AxonaRecordingExtractor\n",
    "        elec_group_names = self.recording_extractor.get_channel_groups()\n",
    "        unique_elec_group_names = set(elec_group_names)\n",
    "\n",
    "        # Add available metadata\n",
    "        metadata = super().get_metadata()\n",
    "        metadata['NWBFile'] = dict(\n",
    "            session_start_time=read_iso_datetime(set_file),\n",
    "            session_description=par['comments'],\n",
    "            #session_duration=par['duration']+'s',\n",
    "            experimenter=[par['experimenter']]\n",
    "        )\n",
    "\n",
    "        metadata['Ecephys'] = dict(\n",
    "            Device=[\n",
    "                dict(\n",
    "                    name=\"Axona\",\n",
    "                    description=\"Axona DacqUSB, sw_version={}\"\n",
    "                                .format(par['sw_version']),\n",
    "                    manufacturer=\"Axona\"\n",
    "                ),\n",
    "            ],\n",
    "            ElectrodeGroup=[\n",
    "                dict(\n",
    "                    name=f'Group{group_name}',\n",
    "                    location='',\n",
    "                    device='Axona',\n",
    "                    description=f\"Group {group_name} electrodes.\",\n",
    "                )\n",
    "                for group_name in unique_elec_group_names\n",
    "            ],\n",
    "            Electrodes=[\n",
    "                dict(\n",
    "                    name='group_name',\n",
    "                    description=\"The name of the ElectrodeGroup this electrode is a part of.\",\n",
    "                    data=[f\"Group{x}\" for x in elec_group_names]\n",
    "                )\n",
    "            ],\n",
    "            ElectricalSeries=dict(\n",
    "                name='ElectricalSeries',\n",
    "                description=\"Raw acquisition traces.\"\n",
    "            )\n",
    "        )\n",
    "\n",
    "        return metadata"
   ]
  },
  {
   "cell_type": "code",
   "execution_count": 11,
   "metadata": {},
   "outputs": [],
   "source": [
    "\"\"\"Authors: Steffen Buergers\"\"\"\n",
    "import re\n",
    "import datetime\n",
    "import spikeextractors as se\n",
    "\n",
    "from pynwb.ecephys import ElectricalSeries\n",
    "from nwb_conversion_tools.utils import get_schema_from_hdmf_class\n",
    "from nwb_conversion_tools.basedatainterface import BaseDataInterface\n",
    "from nwb_conversion_tools.baserecordingextractorinterface import (\n",
    "    BaseRecordingExtractorInterface\n",
    ")\n",
    "\n",
    "\n",
    "def parse_generic_header(filename, params):\n",
    "    \"\"\"\n",
    "    Given a binary file with phrases and line breaks, enters the\n",
    "    first word of a phrase as dictionary key and the following\n",
    "    string (without linebreaks) as value. Returns the dictionary.\n",
    "\n",
    "    INPUT\n",
    "    filename (str): .set file path and name.\n",
    "    params (list or set): parameter names to search for.\n",
    "\n",
    "    OUTPUT\n",
    "    header (dict): dictionary with keys being the parameters that\n",
    "                   were found & values being strings of the data.\n",
    "\n",
    "    EXAMPLE\n",
    "    parse_generic_header('myset_file.set', ['experimenter', 'trial_time'])\n",
    "    \"\"\"\n",
    "    header = {}\n",
    "    params = set(params)\n",
    "    with open(filename, 'rb') as f:\n",
    "        for bin_line in f:\n",
    "            if b'data_start' in bin_line:\n",
    "                break\n",
    "            line = bin_line.decode('cp1252').replace('\\r\\n', '').\\\n",
    "                replace('\\r', '').strip()\n",
    "            parts = line.split(' ')\n",
    "            key = parts[0]\n",
    "            if key in params:\n",
    "                header[key] = ' '.join(parts[1:])\n",
    "\n",
    "    return header\n",
    "\n",
    "\n",
    "def read_iso_datetime(set_file):\n",
    "    \"\"\"\n",
    "    Creates datetime object (y, m, d, h, m, s) from .set file header\n",
    "    and converts it to ISO 8601 format\n",
    "    \"\"\"\n",
    "    with open(set_file, 'r', encoding='cp1252') as f:\n",
    "        for line in f:\n",
    "            if line.startswith('trial_date'):\n",
    "                date_string = re.findall(r'\\d+\\s\\w+\\s\\d{4}$', line)[0]\n",
    "            if line.startswith('trial_time'):\n",
    "                time_string = line[len('trial_time')+1::].replace('\\n', '')\n",
    "\n",
    "    return datetime.datetime.strptime(date_string + ', ' + time_string,\n",
    "                                      \"%d %b %Y, %H:%M:%S\").isoformat()\n",
    "\n",
    "\n",
    "class AxonaRecordingExtractorInterface(BaseRecordingExtractorInterface):\n",
    "    \"\"\"Primary data interface class for converting a AxonaRecordingExtractor\"\"\"\n",
    "\n",
    "    RX = se.AxonaRecordingExtractor\n",
    "\n",
    "    @classmethod\n",
    "    def get_source_schema(cls):\n",
    "        source_schema = {\n",
    "            'required': ['filename'],\n",
    "            'properties': {\n",
    "                'filename': {\n",
    "                    'type': 'string',\n",
    "                    'format': 'file',\n",
    "                    'description': 'Path to Axona files.'\n",
    "                }\n",
    "            },\n",
    "            'type': 'object',\n",
    "            'additionalProperties': True\n",
    "        }\n",
    "        return source_schema\n",
    "\n",
    "    def get_metadata_schema(self):\n",
    "        metadata_schema = super().get_metadata_schema()\n",
    "\n",
    "        # Update Ecephys metadata\n",
    "        Electrodes = {\n",
    "            \"required\": [\n",
    "                \"name\",\n",
    "                \"description\",\n",
    "                \"data\"\n",
    "            ],\n",
    "            \"properties\": {\n",
    "                \"name\": {\n",
    "                    \"description\": \"Electrode group name this electrode is a part of.\",\n",
    "                    \"type\": \"string\"\n",
    "                },\n",
    "                \"description\": {\n",
    "                    \"description\": \"Description of this electrode group\",\n",
    "                    \"type\": \"string\"\n",
    "                },\n",
    "                \"data\": {\n",
    "                    \"description\": \"Electrode group name for each electrode.\",\n",
    "                    \"type\": \"array\",\n",
    "                }\n",
    "            },\n",
    "            \"type\": \"array\",\n",
    "            \"additionalProperties\": False,\n",
    "            \"tag\": \"Electrodes\"\n",
    "        }\n",
    "\n",
    "        metadata_schema['properties']['Ecephys']['properties'].update(\n",
    "            Electrodes=Electrodes,\n",
    "            ElectricalSeries=get_schema_from_hdmf_class(ElectricalSeries),\n",
    "        )\n",
    "\n",
    "        return metadata_schema\n",
    "\n",
    "    def get_metadata(self):\n",
    "\n",
    "        # Extract information for specific parameters from .set file\n",
    "        params_of_interest = [\n",
    "            'experimenter',\n",
    "            'comments',\n",
    "            'duration',\n",
    "            'sw_version'\n",
    "        ]\n",
    "        set_file = self.source_data['filename'].split('.')[0]+'.set'\n",
    "        par = parse_generic_header(set_file, params_of_interest)\n",
    "\n",
    "        # Extract information from AxonaRecordingExtractor\n",
    "        elec_group_names = self.recording_extractor.get_channel_groups()\n",
    "        unique_elec_group_names = set(elec_group_names)\n",
    "\n",
    "        # Add available metadata\n",
    "        metadata = super().get_metadata()\n",
    "        metadata['NWBFile'] = dict(\n",
    "            session_start_time=read_iso_datetime(set_file),\n",
    "            session_description=par['comments'],\n",
    "            experimenter=[par['experimenter']]\n",
    "        )\n",
    "\n",
    "        metadata['Ecephys'] = dict(\n",
    "            Device=[\n",
    "                dict(\n",
    "                    name=\"Axona\",\n",
    "                    description=\"Axona DacqUSB, sw_version={}\"\n",
    "                                .format(par['sw_version']),\n",
    "                    manufacturer=\"Axona\"\n",
    "                ),\n",
    "            ],\n",
    "            ElectrodeGroup=[\n",
    "                dict(\n",
    "                    name=f'Group{group_name}',\n",
    "                    location='',\n",
    "                    device='Axona',\n",
    "                    description=f\"Group {group_name} electrodes.\",\n",
    "                )\n",
    "                for group_name in unique_elec_group_names\n",
    "            ],\n",
    "            Electrodes=[\n",
    "                dict(\n",
    "                    name='group_name',\n",
    "                    description=\"The name of the ElectrodeGroup this electrode is a part of.\",\n",
    "                    data=[f\"Group{x}\" for x in elec_group_names]\n",
    "                )\n",
    "            ],\n",
    "            ElectricalSeries=dict(\n",
    "                name='ElectricalSeries',\n",
    "                description=\"Raw acquisition traces.\"\n",
    "            )\n",
    "        )\n",
    "\n",
    "        return metadata\n",
    "\n",
    "\n",
    "class AxonaPositionDataInterface(BaseDataInterface):\n",
    "    \"\"\"Primary data interface class for converting a AxonaRecordingExtractor\"\"\"\n",
    "    pass"
   ]
  },
  {
   "cell_type": "code",
   "execution_count": 12,
   "metadata": {},
   "outputs": [
    {
     "data": {
      "text/plain": [
       "{'NWBFile': {'session_start_time': '2020-10-04T11:07:07',\n",
       "  'session_description': '',\n",
       "  'experimenter': ['Abid']},\n",
       " 'Ecephys': {'Device': [{'name': 'Axona',\n",
       "    'description': 'Axona DacqUSB, sw_version=1.2.2.16',\n",
       "    'manufacturer': 'Axona'}],\n",
       "  'ElectrodeGroup': [{'name': 'Group0',\n",
       "    'location': '',\n",
       "    'device': 'Axona',\n",
       "    'description': 'Group 0 electrodes.'},\n",
       "   {'name': 'Group1',\n",
       "    'location': '',\n",
       "    'device': 'Axona',\n",
       "    'description': 'Group 1 electrodes.'},\n",
       "   {'name': 'Group2',\n",
       "    'location': '',\n",
       "    'device': 'Axona',\n",
       "    'description': 'Group 2 electrodes.'},\n",
       "   {'name': 'Group3',\n",
       "    'location': '',\n",
       "    'device': 'Axona',\n",
       "    'description': 'Group 3 electrodes.'}],\n",
       "  'Electrodes': [{'name': 'group_name',\n",
       "    'description': 'The name of the ElectrodeGroup this electrode is a part of.',\n",
       "    'data': ['Group0',\n",
       "     'Group0',\n",
       "     'Group0',\n",
       "     'Group0',\n",
       "     'Group1',\n",
       "     'Group1',\n",
       "     'Group1',\n",
       "     'Group1',\n",
       "     'Group2',\n",
       "     'Group2',\n",
       "     'Group2',\n",
       "     'Group2',\n",
       "     'Group3',\n",
       "     'Group3',\n",
       "     'Group3',\n",
       "     'Group3']}],\n",
       "  'ElectricalSeries': {'name': 'ElectricalSeries',\n",
       "   'description': 'Raw acquisition traces.'}}}"
      ]
     },
     "execution_count": 12,
     "metadata": {},
     "output_type": "execute_result"
    }
   ],
   "source": [
    "RXI = AxonaRecordingExtractorInterface(filename=filename)\n",
    "\n",
    "RXI.get_metadata()"
   ]
  },
  {
   "cell_type": "code",
   "execution_count": 13,
   "metadata": {},
   "outputs": [],
   "source": [
    "base_metadata_schema = RXI.get_metadata_schema()"
   ]
  },
  {
   "cell_type": "code",
   "execution_count": 14,
   "metadata": {},
   "outputs": [
    {
     "name": "stdout",
     "output_type": "stream",
     "text": [
      "{\n",
      "  \"required\": [],\n",
      "  \"properties\": {\n",
      "    \"Ecephys\": {\n",
      "      \"required\": [\n",
      "        \"Device\",\n",
      "        \"ElectrodeGroup\"\n",
      "      ],\n",
      "      \"properties\": {\n",
      "        \"Device\": {\n",
      "          \"type\": \"array\",\n",
      "          \"minItems\": 1,\n",
      "          \"items\": {\n",
      "            \"$ref\": \"#/properties/Ecephys/properties/definitions/Device\"\n",
      "          }\n",
      "        },\n",
      "        \"ElectrodeGroup\": {\n",
      "          \"type\": \"array\",\n",
      "          \"minItems\": 1,\n",
      "          \"items\": {\n",
      "            \"$ref\": \"#/properties/Ecephys/properties/definitions/ElectrodeGroup\"\n",
      "          }\n",
      "        },\n",
      "        \"definitions\": {\n",
      "          \"Device\": {\n",
      "            \"required\": [\n",
      "              \"name\"\n",
      "            ],\n",
      "            \"properties\": {\n",
      "              \"name\": {\n",
      "                \"description\": \"the name of this device\",\n",
      "                \"type\": \"string\"\n",
      "              },\n",
      "              \"description\": {\n",
      "                \"description\": \"Description of the device (e.g., model, firmware version, processing software version, etc.)\",\n",
      "                \"type\": \"string\"\n",
      "              },\n",
      "              \"manufacturer\": {\n",
      "                \"description\": \"the name of the manufacturer of this device\",\n",
      "                \"type\": \"string\"\n",
      "              }\n",
      "            },\n",
      "            \"type\": \"object\",\n",
      "            \"additionalProperties\": false,\n",
      "            \"tag\": \"pynwb.device.Device\"\n",
      "          },\n",
      "          \"ElectrodeGroup\": {\n",
      "            \"required\": [\n",
      "              \"name\",\n",
      "              \"description\",\n",
      "              \"location\",\n",
      "              \"device\"\n",
      "            ],\n",
      "            \"properties\": {\n",
      "              \"name\": {\n",
      "                \"description\": \"the name of this electrode\",\n",
      "                \"type\": \"string\"\n",
      "              },\n",
      "              \"description\": {\n",
      "                \"description\": \"description of this electrode group\",\n",
      "                \"type\": \"string\"\n",
      "              },\n",
      "              \"location\": {\n",
      "                \"description\": \"description of location of this electrode group\",\n",
      "                \"type\": \"string\"\n",
      "              },\n",
      "              \"device\": {\n",
      "                \"description\": \"the device that was used to record from this electrode group\",\n",
      "                \"type\": \"string\",\n",
      "                \"target\": \"pynwb.device.Device\"\n",
      "              }\n",
      "            },\n",
      "            \"type\": \"object\",\n",
      "            \"additionalProperties\": false,\n",
      "            \"tag\": \"pynwb.ecephys.ElectrodeGroup\"\n",
      "          }\n",
      "        },\n",
      "        \"Electrodes\": {\n",
      "          \"required\": [\n",
      "            \"name\",\n",
      "            \"description\",\n",
      "            \"data\"\n",
      "          ],\n",
      "          \"properties\": {\n",
      "            \"name\": {\n",
      "              \"description\": \"Electrode group name this electrode is a part of.\",\n",
      "              \"type\": \"string\"\n",
      "            },\n",
      "            \"description\": {\n",
      "              \"description\": \"Description of this electrode group\",\n",
      "              \"type\": \"string\"\n",
      "            },\n",
      "            \"data\": {\n",
      "              \"description\": \"Electrode group name for each electrode.\",\n",
      "              \"type\": \"array\"\n",
      "            }\n",
      "          },\n",
      "          \"type\": \"array\",\n",
      "          \"additionalProperties\": false,\n",
      "          \"tag\": \"Electrodes\"\n",
      "        },\n",
      "        \"ElectricalSeries\": {\n",
      "          \"required\": [\n",
      "            \"name\"\n",
      "          ],\n",
      "          \"properties\": {\n",
      "            \"name\": {\n",
      "              \"description\": \"The name of this TimeSeries dataset\",\n",
      "              \"type\": \"string\"\n",
      "            },\n",
      "            \"resolution\": {\n",
      "              \"description\": \"The smallest meaningful difference (in specified unit) between values in data\",\n",
      "              \"type\": \"number\",\n",
      "              \"default\": -1.0\n",
      "            },\n",
      "            \"conversion\": {\n",
      "              \"description\": \"Scalar to multiply each element in data to convert it to the specified unit\",\n",
      "              \"type\": \"number\",\n",
      "              \"default\": 1.0\n",
      "            },\n",
      "            \"starting_time\": {\n",
      "              \"description\": \"The timestamp of the first sample\",\n",
      "              \"type\": \"number\"\n",
      "            },\n",
      "            \"rate\": {\n",
      "              \"description\": \"Sampling rate in Hz\",\n",
      "              \"type\": \"number\"\n",
      "            },\n",
      "            \"comments\": {\n",
      "              \"description\": \"Human-readable comments about this TimeSeries dataset\",\n",
      "              \"type\": \"string\",\n",
      "              \"default\": \"no comments\"\n",
      "            },\n",
      "            \"description\": {\n",
      "              \"description\": \"Description of this TimeSeries dataset\",\n",
      "              \"type\": \"string\",\n",
      "              \"default\": \"no description\"\n",
      "            }\n",
      "          },\n",
      "          \"type\": \"object\",\n",
      "          \"additionalProperties\": false,\n",
      "          \"tag\": \"pynwb.ecephys.ElectricalSeries\"\n",
      "        }\n",
      "      },\n",
      "      \"type\": \"object\",\n",
      "      \"additionalProperties\": false,\n",
      "      \"tag\": \"Ecephys\"\n",
      "    }\n",
      "  },\n",
      "  \"type\": \"object\",\n",
      "  \"additionalProperties\": false,\n",
      "  \"$schema\": \"http://json-schema.org/draft-07/schema#\",\n",
      "  \"$id\": \"metadata.schema.json\",\n",
      "  \"title\": \"Metadata\",\n",
      "  \"description\": \"Schema for the metadata\",\n",
      "  \"version\": \"0.1.0\"\n",
      "}\n"
     ]
    }
   ],
   "source": [
    "print(json.dumps(base_metadata_schema, indent=2))"
   ]
  },
  {
   "cell_type": "code",
   "execution_count": 15,
   "metadata": {},
   "outputs": [
    {
     "name": "stdout",
     "output_type": "stream",
     "text": [
      "validation FAILED\n"
     ]
    }
   ],
   "source": [
    "# The metadata_schema does not validate with the metadata, bc\n",
    "# the full metadata_schema is only inherited when defining the\n",
    "# nwbconverter (see below).\n",
    "\n",
    "try:\n",
    "    validate(\n",
    "        instance=RXI.get_metadata(),\n",
    "        schema=RXI.get_metadata_schema()\n",
    "    )\n",
    "    print('validation SUCCESS')\n",
    "except ValidationError:\n",
    "    print('validation FAILED')"
   ]
  },
  {
   "cell_type": "code",
   "execution_count": 16,
   "metadata": {},
   "outputs": [],
   "source": [
    "from nwb_conversion_tools import (\n",
    "    NWBConverter\n",
    ")\n",
    "\n",
    "\n",
    "class HussainiNWBConverter(NWBConverter):\n",
    "    \n",
    "    #@classmethod\n",
    "    #def validate_source(cls, source_data):\n",
    "    #    \"\"\"Validate source_data against Converter source_schema.\"\"\"\n",
    "    #    validate(instance=source_data, schema=cls.get_source_schema())\n",
    "    #    print('Source data is valid!')\n",
    "    # \n",
    "    data_interface_classes = dict(\n",
    "        AxonaRecordingExtractorInterface=AxonaRecordingExtractorInterface\n",
    "    )"
   ]
  },
  {
   "cell_type": "code",
   "execution_count": 94,
   "metadata": {},
   "outputs": [
    {
     "data": {
      "text/plain": [
       "{'required': ['filename'],\n",
       " 'properties': {'filename': {'type': 'string',\n",
       "   'format': 'file',\n",
       "   'description': 'Path to Axona files.'}},\n",
       " 'type': 'object',\n",
       " 'additionalProperties': True}"
      ]
     },
     "execution_count": 94,
     "metadata": {},
     "output_type": "execute_result"
    }
   ],
   "source": [
    "RXI.get_source_schema()"
   ]
  },
  {
   "cell_type": "code",
   "execution_count": 95,
   "metadata": {},
   "outputs": [
    {
     "name": "stdout",
     "output_type": "stream",
     "text": [
      "{\n",
      "  \"AxonaRecordingExtractorInterface\": {\n",
      "    \"required\": [\n",
      "      \"filename\"\n",
      "    ],\n",
      "    \"properties\": {\n",
      "      \"filename\": {\n",
      "        \"type\": \"string\",\n",
      "        \"format\": \"file\",\n",
      "        \"description\": \"Full filename of Axona .set file (or other)\"\n",
      "      }\n",
      "    },\n",
      "    \"type\": \"object\",\n",
      "    \"additionalProperties\": true\n",
      "  },\n",
      "  \"AxonaPositionDataInterface\": {\n",
      "    \"required\": [\n",
      "      \"filename\"\n",
      "    ],\n",
      "    \"properties\": {\n",
      "      \"filename\": {\n",
      "        \"type\": \"string\",\n",
      "        \"format\": \"file\",\n",
      "        \"description\": \"Full filename of Axona .bin or .pos file\"\n",
      "      }\n",
      "    },\n",
      "    \"type\": \"object\",\n",
      "    \"additionalProperties\": true\n",
      "  }\n",
      "}\n"
     ]
    }
   ],
   "source": [
    "# Get source_schema from converter\n",
    "\n",
    "source_schema = HussainiNWBConverter.get_source_schema()\n",
    "print(json.dumps(source_schema['properties'], indent=2))"
   ]
  },
  {
   "cell_type": "code",
   "execution_count": 108,
   "metadata": {},
   "outputs": [
    {
     "name": "stdout",
     "output_type": "stream",
     "text": [
      "{\n",
      "  \"AxonaRecordingExtractorInterface\": {\n",
      "    \"filename\": \"/mnt/d/freelance-work/catalyst-neuro/hussaini-lab-to-nwb/example_data_raw/20201004_Raw\"\n",
      "  }\n",
      "}\n"
     ]
    }
   ],
   "source": [
    "# Define source data (required for instantiating converter)\n",
    "\n",
    "source_data = dict(\n",
    "    AxonaRecordingExtractorInterface=dict(\n",
    "        filename=filename\n",
    "    )\n",
    ")\n",
    "\n",
    "print(json.dumps(source_data, indent=2))"
   ]
  },
  {
   "cell_type": "code",
   "execution_count": 19,
   "metadata": {},
   "outputs": [
    {
     "data": {
      "text/plain": [
       "{'AxonaRecordingExtractorInterface': __main__.AxonaRecordingExtractorInterface}"
      ]
     },
     "execution_count": 19,
     "metadata": {},
     "output_type": "execute_result"
    }
   ],
   "source": [
    "HussainiNWBConverter.data_interface_classes"
   ]
  },
  {
   "cell_type": "code",
   "execution_count": 20,
   "metadata": {},
   "outputs": [
    {
     "data": {
      "text/plain": [
       "dict_items([('AxonaRecordingExtractorInterface', <class '__main__.AxonaRecordingExtractorInterface'>)])"
      ]
     },
     "execution_count": 20,
     "metadata": {},
     "output_type": "execute_result"
    }
   ],
   "source": [
    "HussainiNWBConverter.data_interface_classes.items()"
   ]
  },
  {
   "cell_type": "code",
   "execution_count": 109,
   "metadata": {},
   "outputs": [],
   "source": [
    "validate(instance=source_data, schema=HussainiNWBConverter.get_source_schema())"
   ]
  },
  {
   "cell_type": "code",
   "execution_count": 110,
   "metadata": {},
   "outputs": [
    {
     "data": {
      "text/plain": [
       "{'required': [],\n",
       " 'properties': {'AxonaRecordingExtractorInterface': {'required': ['filename'],\n",
       "   'properties': {'filename': {'type': 'string',\n",
       "     'format': 'file',\n",
       "     'description': 'Full filename of Axona .set file (or other)'}},\n",
       "   'type': 'object',\n",
       "   'additionalProperties': True},\n",
       "  'AxonaPositionDataInterface': {'required': ['filename'],\n",
       "   'properties': {'filename': {'type': 'string',\n",
       "     'format': 'file',\n",
       "     'description': 'Full filename of Axona .bin or .pos file'}},\n",
       "   'type': 'object',\n",
       "   'additionalProperties': True}},\n",
       " 'type': 'object',\n",
       " 'additionalProperties': False,\n",
       " '$schema': 'http://json-schema.org/draft-07/schema#',\n",
       " '$id': 'source.schema.json',\n",
       " 'title': 'Source data schema',\n",
       " 'description': 'Schema for the source data, files and directories',\n",
       " 'version': '0.1.0'}"
      ]
     },
     "execution_count": 110,
     "metadata": {},
     "output_type": "execute_result"
    }
   ],
   "source": [
    "HussainiNWBConverter.get_source_schema()"
   ]
  },
  {
   "cell_type": "code",
   "execution_count": 111,
   "metadata": {},
   "outputs": [
    {
     "name": "stdout",
     "output_type": "stream",
     "text": [
      "Source data is valid!\n"
     ]
    }
   ],
   "source": [
    "# Instantiate Hussaini-lab converter\n",
    "\n",
    "HussainiNWBConverter.validate_source(source_data=source_data)"
   ]
  },
  {
   "cell_type": "code",
   "execution_count": 24,
   "metadata": {},
   "outputs": [
    {
     "name": "stdout",
     "output_type": "stream",
     "text": [
      "Source data is valid!\n",
      "{\n",
      "  \"NWBFile\": {\n",
      "    \"required\": [\n",
      "      \"session_description\",\n",
      "      \"identifier\",\n",
      "      \"session_start_time\"\n",
      "    ],\n",
      "    \"properties\": {\n",
      "      \"session_description\": {\n",
      "        \"type\": \"string\",\n",
      "        \"format\": \"long\",\n",
      "        \"description\": \"a description of the session where this data was generated\",\n",
      "        \"default\": \"\"\n",
      "      },\n",
      "      \"identifier\": {\n",
      "        \"type\": \"string\",\n",
      "        \"description\": \"a unique text identifier for the file\",\n",
      "        \"default\": \"8e404754-cb4b-46f7-b205-1733d0768008\"\n",
      "      },\n",
      "      \"session_start_time\": {\n",
      "        \"type\": \"string\",\n",
      "        \"description\": \"the start date and time of the recording session\",\n",
      "        \"format\": \"date-time\",\n",
      "        \"default\": \"2020-10-04T11:07:07\"\n",
      "      },\n",
      "      \"experimenter\": {\n",
      "        \"type\": \"array\",\n",
      "        \"items\": {\n",
      "          \"type\": \"string\",\n",
      "          \"title\": \"experimenter\"\n",
      "        },\n",
      "        \"description\": \"name of person who performed experiment\",\n",
      "        \"default\": [\n",
      "          \"Abid\"\n",
      "        ]\n",
      "      },\n",
      "      \"experiment_description\": {\n",
      "        \"type\": \"string\",\n",
      "        \"description\": \"general description of the experiment\"\n",
      "      },\n",
      "      \"session_id\": {\n",
      "        \"type\": \"string\",\n",
      "        \"description\": \"lab-specific ID for the session\"\n",
      "      },\n",
      "      \"institution\": {\n",
      "        \"type\": \"string\",\n",
      "        \"description\": \"institution(s) where experiment is performed\"\n",
      "      },\n",
      "      \"notes\": {\n",
      "        \"type\": \"string\",\n",
      "        \"description\": \"Notes about the experiment.\"\n",
      "      },\n",
      "      \"pharmacology\": {\n",
      "        \"type\": \"string\",\n",
      "        \"description\": \"Description of drugs used, including how and when they were administered. Anesthesia(s), painkiller(s), etc., plus dosage, concentration, etc.\"\n",
      "      },\n",
      "      \"protocol\": {\n",
      "        \"type\": \"string\",\n",
      "        \"description\": \"Experimental protocol, if applicable. E.g., include IACUC protocol\"\n",
      "      },\n",
      "      \"related_publications\": {\n",
      "        \"type\": \"string\",\n",
      "        \"description\": \"Publication information.PMID, DOI, URL, etc. If multiple, concatenate together and describe which is which. such as PMID, DOI, URL, etc\"\n",
      "      },\n",
      "      \"slices\": {\n",
      "        \"type\": \"string\",\n",
      "        \"description\": \"Description of slices, including information about preparation thickness, orientation, temperature and bath solution\"\n",
      "      },\n",
      "      \"source_script\": {\n",
      "        \"type\": \"string\",\n",
      "        \"description\": \"Script file used to create this NWB file.\"\n",
      "      },\n",
      "      \"source_script_file_name\": {\n",
      "        \"type\": \"string\",\n",
      "        \"description\": \"Name of the source_script file\"\n",
      "      },\n",
      "      \"data_collection\": {\n",
      "        \"type\": \"string\",\n",
      "        \"description\": \"Notes about data collection and analysis.\"\n",
      "      },\n",
      "      \"surgery\": {\n",
      "        \"type\": \"string\",\n",
      "        \"description\": \"Narrative description about surgery/surgeries, including date(s) and who performed surgery.\"\n",
      "      },\n",
      "      \"virus\": {\n",
      "        \"type\": \"string\",\n",
      "        \"description\": \"Information about virus(es) used in experiments, including virus ID, source, date made, injection location, volume, etc.\"\n",
      "      },\n",
      "      \"stimulus_notes\": {\n",
      "        \"type\": \"string\",\n",
      "        \"description\": \"Notes about stimuli, such as how and where presented.\"\n",
      "      },\n",
      "      \"lab\": {\n",
      "        \"type\": \"string\",\n",
      "        \"description\": \"lab where experiment was performed\"\n",
      "      }\n",
      "    },\n",
      "    \"type\": \"object\",\n",
      "    \"additionalProperties\": false,\n",
      "    \"tag\": \"pynwb.file.NWBFile\"\n",
      "  },\n",
      "  \"Subject\": {\n",
      "    \"required\": [],\n",
      "    \"properties\": {\n",
      "      \"age\": {\n",
      "        \"description\": \"the age of the subject\",\n",
      "        \"type\": \"string\"\n",
      "      },\n",
      "      \"description\": {\n",
      "        \"description\": \"a description of the subject\",\n",
      "        \"type\": \"string\"\n",
      "      },\n",
      "      \"genotype\": {\n",
      "        \"description\": \"the genotype of the subject\",\n",
      "        \"type\": \"string\"\n",
      "      },\n",
      "      \"sex\": {\n",
      "        \"description\": \"the sex of the subject\",\n",
      "        \"type\": \"string\"\n",
      "      },\n",
      "      \"species\": {\n",
      "        \"description\": \"the species of the subject\",\n",
      "        \"type\": \"string\"\n",
      "      },\n",
      "      \"subject_id\": {\n",
      "        \"description\": \"a unique identifier for the subject\",\n",
      "        \"type\": \"string\"\n",
      "      },\n",
      "      \"weight\": {\n",
      "        \"description\": \"the weight of the subject\",\n",
      "        \"type\": \"string\"\n",
      "      },\n",
      "      \"date_of_birth\": {\n",
      "        \"description\": \"datetime of date of birth. May be supplied instead of age.\",\n",
      "        \"type\": \"string\",\n",
      "        \"format\": \"date-time\"\n",
      "      }\n",
      "    },\n",
      "    \"type\": \"object\",\n",
      "    \"additionalProperties\": false,\n",
      "    \"tag\": \"pynwb.file.Subject\"\n",
      "  },\n",
      "  \"Ecephys\": {\n",
      "    \"required\": [\n",
      "      \"Device\",\n",
      "      \"ElectrodeGroup\"\n",
      "    ],\n",
      "    \"properties\": {\n",
      "      \"Device\": {\n",
      "        \"type\": \"array\",\n",
      "        \"minItems\": 1,\n",
      "        \"items\": {\n",
      "          \"$ref\": \"#/properties/Ecephys/properties/definitions/Device\"\n",
      "        },\n",
      "        \"default\": [\n",
      "          {\n",
      "            \"name\": \"Axona\",\n",
      "            \"description\": \"Axona DacqUSB, sw_version=1.2.2.16\",\n",
      "            \"manufacturer\": \"Axona\"\n",
      "          }\n",
      "        ]\n",
      "      },\n",
      "      \"ElectrodeGroup\": {\n",
      "        \"type\": \"array\",\n",
      "        \"minItems\": 1,\n",
      "        \"items\": {\n",
      "          \"$ref\": \"#/properties/Ecephys/properties/definitions/ElectrodeGroup\"\n",
      "        },\n",
      "        \"default\": [\n",
      "          {\n",
      "            \"name\": \"Group0\",\n",
      "            \"location\": \"\",\n",
      "            \"device\": \"Axona\",\n",
      "            \"description\": \"Group 0 electrodes.\"\n",
      "          },\n",
      "          {\n",
      "            \"name\": \"Group1\",\n",
      "            \"location\": \"\",\n",
      "            \"device\": \"Axona\",\n",
      "            \"description\": \"Group 1 electrodes.\"\n",
      "          },\n",
      "          {\n",
      "            \"name\": \"Group2\",\n",
      "            \"location\": \"\",\n",
      "            \"device\": \"Axona\",\n",
      "            \"description\": \"Group 2 electrodes.\"\n",
      "          },\n",
      "          {\n",
      "            \"name\": \"Group3\",\n",
      "            \"location\": \"\",\n",
      "            \"device\": \"Axona\",\n",
      "            \"description\": \"Group 3 electrodes.\"\n",
      "          }\n",
      "        ]\n",
      "      },\n",
      "      \"definitions\": {\n",
      "        \"Device\": {\n",
      "          \"required\": [\n",
      "            \"name\"\n",
      "          ],\n",
      "          \"properties\": {\n",
      "            \"name\": {\n",
      "              \"description\": \"the name of this device\",\n",
      "              \"type\": \"string\"\n",
      "            },\n",
      "            \"description\": {\n",
      "              \"description\": \"Description of the device (e.g., model, firmware version, processing software version, etc.)\",\n",
      "              \"type\": \"string\"\n",
      "            },\n",
      "            \"manufacturer\": {\n",
      "              \"description\": \"the name of the manufacturer of this device\",\n",
      "              \"type\": \"string\"\n",
      "            }\n",
      "          },\n",
      "          \"type\": \"object\",\n",
      "          \"additionalProperties\": false,\n",
      "          \"tag\": \"pynwb.device.Device\"\n",
      "        },\n",
      "        \"ElectrodeGroup\": {\n",
      "          \"required\": [\n",
      "            \"location\",\n",
      "            \"name\",\n",
      "            \"device\",\n",
      "            \"description\"\n",
      "          ],\n",
      "          \"properties\": {\n",
      "            \"name\": {\n",
      "              \"description\": \"the name of this electrode\",\n",
      "              \"type\": \"string\"\n",
      "            },\n",
      "            \"description\": {\n",
      "              \"description\": \"description of this electrode group\",\n",
      "              \"type\": \"string\"\n",
      "            },\n",
      "            \"location\": {\n",
      "              \"description\": \"description of location of this electrode group\",\n",
      "              \"type\": \"string\"\n",
      "            },\n",
      "            \"device\": {\n",
      "              \"description\": \"the device that was used to record from this electrode group\",\n",
      "              \"type\": \"string\",\n",
      "              \"target\": \"pynwb.device.Device\"\n",
      "            }\n",
      "          },\n",
      "          \"type\": \"object\",\n",
      "          \"additionalProperties\": false,\n",
      "          \"tag\": \"pynwb.ecephys.ElectrodeGroup\"\n",
      "        }\n",
      "      },\n",
      "      \"Electrodes\": {\n",
      "        \"required\": [\n",
      "          \"name\",\n",
      "          \"data\",\n",
      "          \"description\"\n",
      "        ],\n",
      "        \"properties\": {\n",
      "          \"name\": {\n",
      "            \"description\": \"Electrode group name this electrode is a part of.\",\n",
      "            \"type\": \"string\"\n",
      "          },\n",
      "          \"description\": {\n",
      "            \"description\": \"Description of this electrode group\",\n",
      "            \"type\": \"string\"\n",
      "          },\n",
      "          \"data\": {\n",
      "            \"description\": \"Electrode group name for each electrode.\",\n",
      "            \"type\": \"array\"\n",
      "          }\n",
      "        },\n",
      "        \"type\": \"array\",\n",
      "        \"additionalProperties\": false,\n",
      "        \"tag\": \"Electrodes\",\n",
      "        \"default\": [\n",
      "          {\n",
      "            \"name\": \"group_name\",\n",
      "            \"description\": \"The name of the ElectrodeGroup this electrode is a part of.\",\n",
      "            \"data\": [\n",
      "              \"Group0\",\n",
      "              \"Group0\",\n",
      "              \"Group0\",\n",
      "              \"Group0\",\n",
      "              \"Group1\",\n",
      "              \"Group1\",\n",
      "              \"Group1\",\n",
      "              \"Group1\",\n",
      "              \"Group2\",\n",
      "              \"Group2\",\n",
      "              \"Group2\",\n",
      "              \"Group2\",\n",
      "              \"Group3\",\n",
      "              \"Group3\",\n",
      "              \"Group3\",\n",
      "              \"Group3\"\n",
      "            ]\n",
      "          }\n",
      "        ]\n",
      "      },\n",
      "      \"ElectricalSeries\": {\n",
      "        \"required\": [\n",
      "          \"name\"\n",
      "        ],\n",
      "        \"properties\": {\n",
      "          \"name\": {\n",
      "            \"description\": \"The name of this TimeSeries dataset\",\n",
      "            \"type\": \"string\",\n",
      "            \"default\": \"ElectricalSeries\"\n",
      "          },\n",
      "          \"resolution\": {\n",
      "            \"description\": \"The smallest meaningful difference (in specified unit) between values in data\",\n",
      "            \"type\": \"number\",\n",
      "            \"default\": -1.0\n",
      "          },\n",
      "          \"conversion\": {\n",
      "            \"description\": \"Scalar to multiply each element in data to convert it to the specified unit\",\n",
      "            \"type\": \"number\",\n",
      "            \"default\": 1.0\n",
      "          },\n",
      "          \"starting_time\": {\n",
      "            \"description\": \"The timestamp of the first sample\",\n",
      "            \"type\": \"number\"\n",
      "          },\n",
      "          \"rate\": {\n",
      "            \"description\": \"Sampling rate in Hz\",\n",
      "            \"type\": \"number\"\n",
      "          },\n",
      "          \"comments\": {\n",
      "            \"description\": \"Human-readable comments about this TimeSeries dataset\",\n",
      "            \"type\": \"string\",\n",
      "            \"default\": \"no comments\"\n",
      "          },\n",
      "          \"description\": {\n",
      "            \"description\": \"Description of this TimeSeries dataset\",\n",
      "            \"type\": \"string\",\n",
      "            \"default\": \"Raw acquisition traces.\"\n",
      "          }\n",
      "        },\n",
      "        \"type\": \"object\",\n",
      "        \"additionalProperties\": false,\n",
      "        \"tag\": \"pynwb.ecephys.ElectricalSeries\"\n",
      "      }\n",
      "    },\n",
      "    \"type\": \"object\",\n",
      "    \"additionalProperties\": false,\n",
      "    \"tag\": \"Ecephys\"\n",
      "  }\n",
      "}\n"
     ]
    }
   ],
   "source": [
    "# Get metadata_schema from converter\n",
    "\n",
    "converter = HussainiNWBConverter(source_data=source_data)\n",
    "metadata_schema = converter.get_metadata_schema()\n",
    "print(json.dumps(metadata_schema['properties'], indent=2))"
   ]
  },
  {
   "cell_type": "code",
   "execution_count": 25,
   "metadata": {},
   "outputs": [],
   "source": [
    "import datetime"
   ]
  },
  {
   "cell_type": "code",
   "execution_count": 26,
   "metadata": {},
   "outputs": [
    {
     "data": {
      "text/plain": [
       "{'NWBFile': {'session_description': '',\n",
       "  'session_start_time': '2020-10-04T11:07:07',\n",
       "  'identifier': '6f34acdb-ed3d-4672-b7e0-92970012fa0d',\n",
       "  'experimenter': ['Abid']},\n",
       " 'Ecephys': {'Device': [{'name': 'Axona',\n",
       "    'description': 'Axona DacqUSB, sw_version=1.2.2.16',\n",
       "    'manufacturer': 'Axona'}],\n",
       "  'ElectrodeGroup': [{'name': 'Group0',\n",
       "    'location': '',\n",
       "    'device': 'Axona',\n",
       "    'description': 'Group 0 electrodes.'},\n",
       "   {'name': 'Group1',\n",
       "    'location': '',\n",
       "    'device': 'Axona',\n",
       "    'description': 'Group 1 electrodes.'},\n",
       "   {'name': 'Group2',\n",
       "    'location': '',\n",
       "    'device': 'Axona',\n",
       "    'description': 'Group 2 electrodes.'},\n",
       "   {'name': 'Group3',\n",
       "    'location': '',\n",
       "    'device': 'Axona',\n",
       "    'description': 'Group 3 electrodes.'}],\n",
       "  'Electrodes': [{'name': 'group_name',\n",
       "    'description': 'The name of the ElectrodeGroup this electrode is a part of.',\n",
       "    'data': ['Group0',\n",
       "     'Group0',\n",
       "     'Group0',\n",
       "     'Group0',\n",
       "     'Group1',\n",
       "     'Group1',\n",
       "     'Group1',\n",
       "     'Group1',\n",
       "     'Group2',\n",
       "     'Group2',\n",
       "     'Group2',\n",
       "     'Group2',\n",
       "     'Group3',\n",
       "     'Group3',\n",
       "     'Group3',\n",
       "     'Group3']}],\n",
       "  'ElectricalSeries': {'name': 'ElectricalSeries',\n",
       "   'description': 'Raw acquisition traces.'}}}"
      ]
     },
     "execution_count": 26,
     "metadata": {},
     "output_type": "execute_result"
    }
   ],
   "source": [
    "metadata = converter.get_metadata()\n",
    "metadata"
   ]
  },
  {
   "cell_type": "code",
   "execution_count": 27,
   "metadata": {},
   "outputs": [],
   "source": [
    "metadata_backup = metadata"
   ]
  },
  {
   "cell_type": "code",
   "execution_count": 28,
   "metadata": {
    "scrolled": true
   },
   "outputs": [
    {
     "data": {
      "text/plain": [
       "{'Device': [{'name': 'Axona',\n",
       "   'description': 'Axona DacqUSB, sw_version=1.2.2.16',\n",
       "   'manufacturer': 'Axona'}],\n",
       " 'ElectrodeGroup': [{'name': 'Group0',\n",
       "   'location': '',\n",
       "   'device': 'Axona',\n",
       "   'description': 'Group 0 electrodes.'},\n",
       "  {'name': 'Group1',\n",
       "   'location': '',\n",
       "   'device': 'Axona',\n",
       "   'description': 'Group 1 electrodes.'},\n",
       "  {'name': 'Group2',\n",
       "   'location': '',\n",
       "   'device': 'Axona',\n",
       "   'description': 'Group 2 electrodes.'},\n",
       "  {'name': 'Group3',\n",
       "   'location': '',\n",
       "   'device': 'Axona',\n",
       "   'description': 'Group 3 electrodes.'}],\n",
       " 'Electrodes': [{'name': 'group_name',\n",
       "   'description': 'The name of the ElectrodeGroup this electrode is a part of.',\n",
       "   'data': ['Group0',\n",
       "    'Group0',\n",
       "    'Group0',\n",
       "    'Group0',\n",
       "    'Group1',\n",
       "    'Group1',\n",
       "    'Group1',\n",
       "    'Group1',\n",
       "    'Group2',\n",
       "    'Group2',\n",
       "    'Group2',\n",
       "    'Group2',\n",
       "    'Group3',\n",
       "    'Group3',\n",
       "    'Group3',\n",
       "    'Group3']}],\n",
       " 'ElectricalSeries': {'name': 'ElectricalSeries',\n",
       "  'description': 'Raw acquisition traces.'}}"
      ]
     },
     "execution_count": 28,
     "metadata": {},
     "output_type": "execute_result"
    }
   ],
   "source": [
    "metadata['Ecephys']"
   ]
  },
  {
   "cell_type": "code",
   "execution_count": 29,
   "metadata": {
    "scrolled": true
   },
   "outputs": [],
   "source": [
    "# Validate metadata with metadata_schema from nwbconverter\n",
    "\n",
    "validate(\n",
    "    instance=converter.get_metadata(),\n",
    "    schema=converter.get_metadata_schema()\n",
    ")"
   ]
  },
  {
   "cell_type": "markdown",
   "metadata": {},
   "source": [
    "## Implement AxonaPositionDataInterface"
   ]
  },
  {
   "cell_type": "code",
   "execution_count": 3,
   "metadata": {},
   "outputs": [],
   "source": [
    "\"\"\"Authors: Steffen Buergers\"\"\"\n",
    "import os\n",
    "import re\n",
    "import datetime\n",
    "import contextlib\n",
    "import mmap\n",
    "import numpy as np\n",
    "\n",
    "import spikeextractors as se\n",
    "\n",
    "from pynwb import NWBFile\n",
    "from pynwb.ecephys import ElectricalSeries\n",
    "from pynwb.behavior import Position, SpatialSeries\n",
    "\n",
    "from nwb_conversion_tools.utils import get_schema_from_hdmf_class\n",
    "from nwb_conversion_tools.basedatainterface import BaseDataInterface\n",
    "from nwb_conversion_tools.baserecordingextractorinterface import (\n",
    "    BaseRecordingExtractorInterface\n",
    ")\n",
    "\n",
    "\n",
    "# Helper functions for AxonaRecordingExtractorInterface\n",
    "def parse_generic_header(filename, params):\n",
    "    \"\"\"\n",
    "    Given a binary file with phrases and line breaks, enters the\n",
    "    first word of a phrase as dictionary key and the following\n",
    "    string (without linebreaks) as value. Returns the dictionary.\n",
    "\n",
    "    INPUT\n",
    "    filename (str): .set file path and name.\n",
    "    params (list or set): parameter names to search for.\n",
    "\n",
    "    OUTPUT\n",
    "    header (dict): dictionary with keys being the parameters that\n",
    "                   were found & values being strings of the data.\n",
    "\n",
    "    EXAMPLE\n",
    "    parse_generic_header('myset_file.set', ['experimenter', 'trial_time'])\n",
    "    \"\"\"\n",
    "    header = {}\n",
    "    params = set(params)\n",
    "    with open(filename, 'rb') as f:\n",
    "        for bin_line in f:\n",
    "            if b'data_start' in bin_line:\n",
    "                break\n",
    "            line = bin_line.decode('cp1252').replace('\\r\\n', '').\\\n",
    "                replace('\\r', '').strip()\n",
    "            parts = line.split(' ')\n",
    "            key = parts[0]\n",
    "            if key in params:\n",
    "                header[key] = ' '.join(parts[1:])\n",
    "\n",
    "    return header\n",
    "\n",
    "\n",
    "def read_iso_datetime(set_file):\n",
    "    \"\"\"\n",
    "    Creates datetime object (y, m, d, h, m, s) from .set file header\n",
    "    and converts it to ISO 8601 format\n",
    "    \"\"\"\n",
    "    with open(set_file, 'r', encoding='cp1252') as f:\n",
    "        for line in f:\n",
    "            if line.startswith('trial_date'):\n",
    "                date_string = re.findall(r'\\d+\\s\\w+\\s\\d{4}$', line)[0]\n",
    "            if line.startswith('trial_time'):\n",
    "                time_string = line[len('trial_time')+1::].replace('\\n', '')\n",
    "\n",
    "    return datetime.datetime.strptime(date_string + ', ' + time_string,\n",
    "                                      \"%d %b %Y, %H:%M:%S\").isoformat()\n",
    "\n",
    "\n",
    "class AxonaRecordingExtractorInterface(BaseRecordingExtractorInterface):\n",
    "    \"\"\"Primary data interface class for converting a AxonaRecordingExtractor\"\"\"\n",
    "\n",
    "    RX = se.AxonaRecordingExtractor\n",
    "\n",
    "    @classmethod\n",
    "    def get_source_schema(cls):\n",
    "\n",
    "        source_schema = super().get_source_schema()\n",
    "        source_schema.update(\n",
    "            required=['filename'],\n",
    "            properties=dict(\n",
    "                filename=dict(\n",
    "                    type='string',\n",
    "                    format='file',\n",
    "                    description='Full filename of Axona .set file (or other)'\n",
    "                )\n",
    "            ),\n",
    "            type='object',\n",
    "            additionalProperties=True\n",
    "        )\n",
    "\n",
    "        return source_schema\n",
    "\n",
    "    def get_metadata_schema(self):\n",
    "        metadata_schema = super().get_metadata_schema()\n",
    "\n",
    "        # Update Ecephys metadata\n",
    "        Electrodes = {\n",
    "            \"required\": [\n",
    "                \"name\",\n",
    "                \"description\",\n",
    "                \"data\"\n",
    "            ],\n",
    "            \"properties\": {\n",
    "                \"name\": {\n",
    "                    \"description\": \"Electrode group name this electrode is a part of.\",\n",
    "                    \"type\": \"string\"\n",
    "                },\n",
    "                \"description\": {\n",
    "                    \"description\": \"Description of this electrode group\",\n",
    "                    \"type\": \"string\"\n",
    "                },\n",
    "                \"data\": {\n",
    "                    \"description\": \"Electrode group name for each electrode.\",\n",
    "                    \"type\": \"array\",\n",
    "                }\n",
    "            },\n",
    "            \"type\": \"array\",\n",
    "            \"additionalProperties\": False,\n",
    "            \"tag\": \"Electrodes\"\n",
    "        }\n",
    "\n",
    "        metadata_schema['properties']['Ecephys']['properties'].update(\n",
    "            Electrodes=Electrodes,\n",
    "            ElectricalSeries=get_schema_from_hdmf_class(ElectricalSeries),\n",
    "        )\n",
    "\n",
    "        return metadata_schema\n",
    "\n",
    "    def get_metadata(self):\n",
    "\n",
    "        # Extract information for specific parameters from .set file\n",
    "        params_of_interest = [\n",
    "            'experimenter',\n",
    "            'comments',\n",
    "            'duration',\n",
    "            'sw_version'\n",
    "        ]\n",
    "        set_file = self.source_data['filename'].split('.')[0]+'.set'\n",
    "        par = parse_generic_header(set_file, params_of_interest)\n",
    "\n",
    "        # Extract information from AxonaRecordingExtractor\n",
    "        elec_group_names = self.recording_extractor.get_channel_groups()\n",
    "        unique_elec_group_names = set(elec_group_names)\n",
    "\n",
    "        # Add available metadata\n",
    "        metadata = super().get_metadata()\n",
    "        metadata['NWBFile'] = dict(\n",
    "            session_start_time=read_iso_datetime(set_file),\n",
    "            session_description=par['comments'],\n",
    "            experimenter=[par['experimenter']]\n",
    "        )\n",
    "\n",
    "        metadata['Ecephys'] = dict(\n",
    "            Device=[\n",
    "                dict(\n",
    "                    name=\"Axona\",\n",
    "                    description=\"Axona DacqUSB, sw_version={}\"\n",
    "                                .format(par['sw_version']),\n",
    "                    manufacturer=\"Axona\"\n",
    "                ),\n",
    "            ],\n",
    "            ElectrodeGroup=[\n",
    "                dict(\n",
    "                    name=f'Group{group_name}',\n",
    "                    location='',\n",
    "                    device='Axona',\n",
    "                    description=f\"Group {group_name} electrodes.\",\n",
    "                )\n",
    "                for group_name in unique_elec_group_names\n",
    "            ],\n",
    "            Electrodes=[\n",
    "                dict(\n",
    "                    name='group_name',\n",
    "                    description=\"The name of the ElectrodeGroup this electrode is a part of.\",\n",
    "                    data=[f\"Group{x}\" for x in elec_group_names]\n",
    "                )\n",
    "            ],\n",
    "            ElectricalSeries=dict(\n",
    "                name='ElectricalSeries',\n",
    "                description=\"Raw acquisition traces.\"\n",
    "            )\n",
    "        )\n",
    "\n",
    "        return metadata\n",
    "\n",
    "\n",
    "# Helper functions for AxonaPositionDataInterface\n",
    "def establish_mmap_to_position_data(filename):\n",
    "    '''\n",
    "    Generates a memory map (mmap) object connected to an Axona .bin\n",
    "    file, referencing only the animal position data (if present).\n",
    "\n",
    "    When no .bin file is available or no position data is included,\n",
    "    returns None.\n",
    "\n",
    "    TODO: Also allow using .pos file (currently only support .bin)\n",
    "\n",
    "    Parameters:\n",
    "    -------\n",
    "    filename (Path or Str): Full filename of Axona file with any\n",
    "        extension.\n",
    "\n",
    "    Returns:\n",
    "    -------\n",
    "    mm (mmap or None): Memory map to .bin file position data\n",
    "    '''\n",
    "    mmpos = None\n",
    "\n",
    "    bin_file = filename.split('.')[0]+'.bin'\n",
    "    set_file = filename.split('.')[0]+'.set'\n",
    "    par = parse_generic_header(set_file, ['rawRate', 'duration'])\n",
    "    sr_ecephys = int(par['rawRate'])\n",
    "    sr_pos = 100\n",
    "    bytes_packet = 432\n",
    "\n",
    "    num_packets = int(os.path.getsize(bin_file) / bytes_packet)\n",
    "    num_ecephys_samples = num_packets * 3\n",
    "    dur_ecephys = num_ecephys_samples / sr_ecephys\n",
    "    assert dur_ecephys == float(par['duration'])\n",
    "\n",
    "    # Check if position data exists in .bin file\n",
    "    with open(bin_file, 'rb') as f:\n",
    "        with contextlib.closing(\n",
    "            mmap.mmap(f.fileno(), sr_ecephys // 3 // sr_pos\n",
    "                      * bytes_packet, access=mmap.ACCESS_READ)\n",
    "        ) as mmap_obj:\n",
    "            contains_pos_tracking = mmap_obj.find(b'ADU2') > -1\n",
    "\n",
    "    # Establish memory map to .bin file, considering only position data\n",
    "    if contains_pos_tracking:\n",
    "        fbin = open(bin_file, 'rb')\n",
    "        mmpos = mmap.mmap(fbin.fileno(), 0, access=mmap.ACCESS_READ)\n",
    "\n",
    "    return mmpos\n",
    "\n",
    "\n",
    "def read_bin_file_position_data(filename):\n",
    "    '''\n",
    "    Reads position data from Axona .bin file (if present in\n",
    "    recording) and returns it as a numpy.array.\n",
    "\n",
    "    Parameters:\n",
    "    -------\n",
    "    filename (Path or Str): Full filename of Axona file with any\n",
    "        extension.\n",
    "\n",
    "    Returns:\n",
    "    -------\n",
    "    pos (np.array)\n",
    "    '''\n",
    "    bin_file = filename.split('.')[0]+'.bin'\n",
    "    mm = establish_mmap_to_position_data(bin_file)\n",
    "\n",
    "    bytes_packet = 432\n",
    "    num_packets = int(os.path.getsize(bin_file) / bytes_packet)\n",
    "\n",
    "    set_file = filename.split('.')[0]+'.set'\n",
    "    par = parse_generic_header(set_file, ['rawRate', 'duration'])\n",
    "    sr_ecephys = int(par['rawRate'])\n",
    "\n",
    "    pos = np.array([]).astype(float)\n",
    "\n",
    "    flags = np.ndarray((num_packets,), 'S4', mm, 0, bytes_packet)\n",
    "    ADU2_idx = np.where(flags == b'ADU2')\n",
    "\n",
    "    pos = np.ndarray(\n",
    "        (num_packets,), (np.int16, (1, 8)), mm, 16, (bytes_packet,)\n",
    "    ).reshape((-1, 8))[ADU2_idx][:]\n",
    "\n",
    "    pos = np.hstack((ADU2_idx[0].reshape((-1, 1)), pos)).astype(float)\n",
    "\n",
    "    # The timestamp from the recording is dubious, create our own\n",
    "    packets_per_ms = sr_ecephys / 3000\n",
    "    pos[:, 0] = pos[:, 0] / packets_per_ms\n",
    "    pos = np.delete(pos, 1, 1)\n",
    "\n",
    "    return pos\n",
    "\n",
    "\n",
    "def generate_position_data(filename):\n",
    "    '''\n",
    "    Read position data from .bin or .pos file and convert to\n",
    "    pynwb.behavior.SpatialSeries objects.\n",
    "\n",
    "    Parameters:\n",
    "    -------\n",
    "    filename (Path or Str): Full filename of Axona file with any\n",
    "        extension.\n",
    "\n",
    "    Returns:\n",
    "    -------\n",
    "    position (pynwb.behavior.Position)\n",
    "    '''\n",
    "    position = Position()\n",
    "\n",
    "    position_channel_names = 't,x1,y1,x2,y2,numpix1,numpix2,unused'.split(',')\n",
    "    position_data = read_bin_file_position_data(filename)\n",
    "    position_timestamps = position_data[:, 0]\n",
    "\n",
    "    for ichan in range(0, position_data.shape[1]):\n",
    "\n",
    "        spatial_series = SpatialSeries(\n",
    "            name=position_channel_names[ichan],\n",
    "            timestamps=position_timestamps,\n",
    "            data=position_data[:, ichan],\n",
    "            reference_frame='start of raw aquisition (.bin file)'\n",
    "        )\n",
    "        position.add_spatial_series(spatial_series)\n",
    "\n",
    "    return position\n",
    "\n",
    "\n",
    "class AxonaPositionDataInterface(BaseDataInterface):\n",
    "    \"\"\"Primary data interface class for converting a AxonaRecordingExtractor\"\"\"\n",
    "\n",
    "    @classmethod\n",
    "    def get_source_schema(cls):\n",
    "\n",
    "        source_schema = super().get_source_schema()\n",
    "        source_schema.update(\n",
    "            required=['filename'],\n",
    "            properties=dict(\n",
    "                filename=dict(\n",
    "                    type='string',\n",
    "                    format='file',\n",
    "                    description='Full filename of Axona .bin or .pos file'\n",
    "                )\n",
    "            ),\n",
    "            type='object',\n",
    "            additionalProperties=True\n",
    "        )\n",
    "\n",
    "        return source_schema\n",
    "\n",
    "    def run_conversion(self, nwbfile: NWBFile, metadata: dict):\n",
    "        \"\"\"\n",
    "        Run conversion for this data interface.\n",
    "\n",
    "        Parameters\n",
    "        ----------\n",
    "        nwbfile : NWBFile\n",
    "        metadata : dict\n",
    "        \"\"\"\n",
    "        position = generate_position_data(self.filename)\n",
    "\n",
    "        # Create processing module for behavioral data\n",
    "        nwbfile.create_processing_module(\n",
    "            name='behavior',\n",
    "            description='behavioral data'\n",
    "        )\n",
    "        nwbfile.processing['behavior'].add(position)"
   ]
  },
  {
   "cell_type": "code",
   "execution_count": 31,
   "metadata": {},
   "outputs": [],
   "source": [
    "# TODO: See if I can also read .pos data, not just .bin!"
   ]
  },
  {
   "cell_type": "code",
   "execution_count": 144,
   "metadata": {},
   "outputs": [
    {
     "data": {
      "text/plain": [
       "{'required': ['filename'],\n",
       " 'properties': {'filename': {'type': 'string',\n",
       "   'format': 'file',\n",
       "   'description': 'Full filename of Axona .bin or .pos file'}},\n",
       " 'type': 'object',\n",
       " 'additionalProperties': True}"
      ]
     },
     "execution_count": 144,
     "metadata": {},
     "output_type": "execute_result"
    }
   ],
   "source": [
    "AxonaPositionDataInterface.get_source_schema()"
   ]
  },
  {
   "cell_type": "code",
   "execution_count": 145,
   "metadata": {},
   "outputs": [
    {
     "data": {
      "text/plain": [
       "'/mnt/d/freelance-work/catalyst-neuro/hussaini-lab-to-nwb/example_data_raw/20201004_Raw.bin'"
      ]
     },
     "execution_count": 145,
     "metadata": {},
     "output_type": "execute_result"
    }
   ],
   "source": [
    "bin_file = filename + '.bin'\n",
    "bin_file"
   ]
  },
  {
   "cell_type": "code",
   "execution_count": 154,
   "metadata": {},
   "outputs": [
    {
     "data": {
      "text/plain": [
       "{'filename': '/mnt/d/freelance-work/catalyst-neuro/hussaini-lab-to-nwb/example_data_raw/20201004_Raw'}"
      ]
     },
     "execution_count": 154,
     "metadata": {},
     "output_type": "execute_result"
    }
   ],
   "source": [
    "pos_interface = AxonaPositionDataInterface(filename=filename)\n",
    "\n",
    "pos_interface.source_data"
   ]
  },
  {
   "cell_type": "code",
   "execution_count": 155,
   "metadata": {},
   "outputs": [],
   "source": [
    "validate(pos_interface.source_data, pos_interface.get_source_schema())"
   ]
  },
  {
   "cell_type": "code",
   "execution_count": 156,
   "metadata": {},
   "outputs": [
    {
     "name": "stdout",
     "output_type": "stream",
     "text": [
      "{\n",
      "  \"AxonaPositionDataInterface\": {\n",
      "    \"filename\": \"/mnt/d/freelance-work/catalyst-neuro/hussaini-lab-to-nwb/example_data_raw/20201004_Raw.bin\"\n",
      "  },\n",
      "  \"AxonaRecordingExtractorInterface\": {\n",
      "    \"filename\": \"/mnt/d/freelance-work/catalyst-neuro/hussaini-lab-to-nwb/example_data_raw/20201004_Raw.bin\"\n",
      "  }\n",
      "}\n"
     ]
    }
   ],
   "source": [
    "source_data = dict(\n",
    "    AxonaPositionDataInterface=dict(\n",
    "        filename=bin_file\n",
    "    ),\n",
    "    AxonaRecordingExtractorInterface=dict(\n",
    "        filename=bin_file\n",
    "    )\n",
    ")\n",
    "print(json.dumps(source_data, indent=2))"
   ]
  },
  {
   "cell_type": "code",
   "execution_count": 157,
   "metadata": {},
   "outputs": [
    {
     "name": "stdout",
     "output_type": "stream",
     "text": [
      "Source data is valid!\n"
     ]
    },
    {
     "data": {
      "text/plain": [
       "<__main__.HussainiNWBConverter at 0x7fa86d807550>"
      ]
     },
     "execution_count": 157,
     "metadata": {},
     "output_type": "execute_result"
    }
   ],
   "source": [
    "converter = HussainiNWBConverter(source_data=source_data)\n",
    "\n",
    "converter"
   ]
  },
  {
   "cell_type": "code",
   "execution_count": 131,
   "metadata": {},
   "outputs": [
    {
     "data": {
      "text/plain": [
       "{'required': [],\n",
       " 'properties': {'AxonaRecordingExtractorInterface': {'required': ['filename'],\n",
       "   'properties': {'filename': {'type': 'string',\n",
       "     'format': 'file',\n",
       "     'description': 'Full filename of Axona .set file (or other)'}},\n",
       "   'type': 'object',\n",
       "   'additionalProperties': True},\n",
       "  'AxonaPositionDataInterface': {'required': ['filename'],\n",
       "   'properties': {'filename': {'type': 'string',\n",
       "     'format': 'file',\n",
       "     'description': 'Full filename of Axona .bin or .pos file'}},\n",
       "   'type': 'object',\n",
       "   'additionalProperties': True}},\n",
       " 'type': 'object',\n",
       " 'additionalProperties': False,\n",
       " '$schema': 'http://json-schema.org/draft-07/schema#',\n",
       " '$id': 'source.schema.json',\n",
       " 'title': 'Source data schema',\n",
       " 'description': 'Schema for the source data, files and directories',\n",
       " 'version': '0.1.0'}"
      ]
     },
     "execution_count": 131,
     "metadata": {},
     "output_type": "execute_result"
    }
   ],
   "source": [
    "converter.get_source_schema()"
   ]
  },
  {
   "cell_type": "code",
   "execution_count": 132,
   "metadata": {},
   "outputs": [
    {
     "data": {
      "text/plain": [
       "'/mnt/d/freelance-work/catalyst-neuro/hussaini-lab-to-nwb/example_data_raw/20201004_Raw.bin'"
      ]
     },
     "execution_count": 132,
     "metadata": {},
     "output_type": "execute_result"
    }
   ],
   "source": [
    "pos_interface.source_data['source_data']['AxonaPositionDataInterface']['filename']"
   ]
  },
  {
   "cell_type": "code",
   "execution_count": 80,
   "metadata": {},
   "outputs": [
    {
     "data": {
      "text/plain": [
       "{'required': [],\n",
       " 'properties': {},\n",
       " 'type': 'object',\n",
       " 'additionalProperties': False,\n",
       " '$schema': 'http://json-schema.org/draft-07/schema#',\n",
       " '$id': 'metadata.schema.json',\n",
       " 'title': 'Metadata',\n",
       " 'description': 'Schema for the metadata',\n",
       " 'version': '0.1.0'}"
      ]
     },
     "execution_count": 80,
     "metadata": {},
     "output_type": "execute_result"
    }
   ],
   "source": [
    "pos_interface.get_metadata_schema()"
   ]
  },
  {
   "cell_type": "code",
   "execution_count": 38,
   "metadata": {},
   "outputs": [
    {
     "name": "stderr",
     "output_type": "stream",
     "text": [
      "/mnt/d/spikeinterface/hussaini-to-nwb/venv/lib/python3.8/site-packages/pynwb/file.py:753: UserWarning: Date is missing timezone information. Updating to local timezone.\n",
      "  warn(\"Date is missing timezone information. Updating to local timezone.\")\n"
     ]
    }
   ],
   "source": [
    "from nwb_conversion_tools.conversion_tools import (\n",
    "    get_default_nwbfile_metadata, make_nwbfile_from_metadata\n",
    ")\n",
    "\n",
    "nwbfile = make_nwbfile_from_metadata(metadata=metadata)"
   ]
  },
  {
   "cell_type": "code",
   "execution_count": 39,
   "metadata": {},
   "outputs": [
    {
     "data": {
      "text/plain": [
       "root pynwb.file.NWBFile at 0x140361368127712\n",
       "Fields:\n",
       "  experimenter: ['Abid']\n",
       "  file_create_date: [datetime.datetime(2021, 5, 10, 13, 45, 42, 813814, tzinfo=tzlocal())]\n",
       "  identifier: 6f34acdb-ed3d-4672-b7e0-92970012fa0d\n",
       "  session_start_time: 2020-10-04 11:07:07-04:00\n",
       "  timestamps_reference_time: 2020-10-04 11:07:07-04:00"
      ]
     },
     "execution_count": 39,
     "metadata": {},
     "output_type": "execute_result"
    }
   ],
   "source": [
    "nwbfile"
   ]
  },
  {
   "cell_type": "code",
   "execution_count": 40,
   "metadata": {},
   "outputs": [],
   "source": [
    "pos_interface.run_conversion(nwbfile, metadata)"
   ]
  },
  {
   "cell_type": "code",
   "execution_count": 41,
   "metadata": {},
   "outputs": [
    {
     "data": {
      "text/plain": [
       "root pynwb.file.NWBFile at 0x140361368127712\n",
       "Fields:\n",
       "  experimenter: ['Abid']\n",
       "  file_create_date: [datetime.datetime(2021, 5, 10, 13, 45, 42, 813814, tzinfo=tzlocal())]\n",
       "  identifier: 6f34acdb-ed3d-4672-b7e0-92970012fa0d\n",
       "  processing: {\n",
       "    behavior <class 'pynwb.base.ProcessingModule'>\n",
       "  }\n",
       "  session_start_time: 2020-10-04 11:07:07-04:00\n",
       "  timestamps_reference_time: 2020-10-04 11:07:07-04:00"
      ]
     },
     "execution_count": 41,
     "metadata": {},
     "output_type": "execute_result"
    }
   ],
   "source": [
    "nwbfile"
   ]
  },
  {
   "cell_type": "code",
   "execution_count": 42,
   "metadata": {},
   "outputs": [
    {
     "data": {
      "text/plain": [
       "{'NWBFile': {'session_description': '',\n",
       "  'session_start_time': '2020-10-04T11:07:07',\n",
       "  'identifier': '6f34acdb-ed3d-4672-b7e0-92970012fa0d',\n",
       "  'experimenter': ['Abid']},\n",
       " 'Ecephys': {'Device': [{'name': 'Axona',\n",
       "    'description': 'Axona DacqUSB, sw_version=1.2.2.16',\n",
       "    'manufacturer': 'Axona'}],\n",
       "  'ElectrodeGroup': [{'name': 'Group0',\n",
       "    'location': '',\n",
       "    'device': 'Axona',\n",
       "    'description': 'Group 0 electrodes.'},\n",
       "   {'name': 'Group1',\n",
       "    'location': '',\n",
       "    'device': 'Axona',\n",
       "    'description': 'Group 1 electrodes.'},\n",
       "   {'name': 'Group2',\n",
       "    'location': '',\n",
       "    'device': 'Axona',\n",
       "    'description': 'Group 2 electrodes.'},\n",
       "   {'name': 'Group3',\n",
       "    'location': '',\n",
       "    'device': 'Axona',\n",
       "    'description': 'Group 3 electrodes.'}],\n",
       "  'Electrodes': [{'name': 'group_name',\n",
       "    'description': 'The name of the ElectrodeGroup this electrode is a part of.',\n",
       "    'data': ['Group0',\n",
       "     'Group0',\n",
       "     'Group0',\n",
       "     'Group0',\n",
       "     'Group1',\n",
       "     'Group1',\n",
       "     'Group1',\n",
       "     'Group1',\n",
       "     'Group2',\n",
       "     'Group2',\n",
       "     'Group2',\n",
       "     'Group2',\n",
       "     'Group3',\n",
       "     'Group3',\n",
       "     'Group3',\n",
       "     'Group3']}],\n",
       "  'ElectricalSeries': {'name': 'ElectricalSeries',\n",
       "   'description': 'Raw acquisition traces.'}}}"
      ]
     },
     "execution_count": 42,
     "metadata": {},
     "output_type": "execute_result"
    }
   ],
   "source": [
    "metadata"
   ]
  },
  {
   "cell_type": "code",
   "execution_count": 50,
   "metadata": {},
   "outputs": [],
   "source": [
    "# Convert to NWB for ecephys data interface\n",
    "\n",
    "RXI.run_conversion(nwbfile, metadata)"
   ]
  },
  {
   "cell_type": "code",
   "execution_count": null,
   "metadata": {},
   "outputs": [],
   "source": [
    "nwbfile"
   ]
  },
  {
   "cell_type": "markdown",
   "metadata": {},
   "source": [
    "### Test HussainiNWBConverter conversion to NWB with ecephys and position data"
   ]
  },
  {
   "cell_type": "code",
   "execution_count": null,
   "metadata": {},
   "outputs": [],
   "source": [
    "from nwb_conversion_tools import (\n",
    "    NWBConverter, AxonaRecordingExtractorInterface, AxonaPositionDataInterface\n",
    ")\n",
    "\n",
    "\n",
    "class HussainiNWBConverter(NWBConverter):\n",
    "    data_interface_classes = dict(\n",
    "        AxonaRecordingExtractorInterface=AxonaRecordingExtractorInterface,\n",
    "        AxonaPositionDataInterface=AxonaPositionDataInterface\n",
    "    )"
   ]
  },
  {
   "cell_type": "code",
   "execution_count": 53,
   "metadata": {},
   "outputs": [
    {
     "name": "stderr",
     "output_type": "stream",
     "text": [
      "/mnt/d/spikeinterface/hussaini-to-nwb/venv/lib/python3.8/site-packages/pynwb/file.py:753: UserWarning: Date is missing timezone information. Updating to local timezone.\n",
      "  warn(\"Date is missing timezone information. Updating to local timezone.\")\n"
     ]
    }
   ],
   "source": [
    "nwbfile = make_nwbfile_from_metadata(metadata=metadata)"
   ]
  },
  {
   "cell_type": "code",
   "execution_count": 98,
   "metadata": {},
   "outputs": [
    {
     "ename": "ValidationError",
     "evalue": "Additional properties are not allowed ('filename' was unexpected)\n\nFailed validating 'additionalProperties' in schema:\n    {'$id': 'source.schema.json',\n     '$schema': 'http://json-schema.org/draft-07/schema#',\n     'additionalProperties': False,\n     'description': 'Schema for the source data, files and directories',\n     'properties': {'AxonaPositionDataInterface': {'additionalProperties': True,\n                                                   'properties': {'filename': {'description': 'Full '\n                                                                                              'filename '\n                                                                                              'of '\n                                                                                              'Axona '\n                                                                                              '.bin '\n                                                                                              'or '\n                                                                                              '.pos '\n                                                                                              'file',\n                                                                               'format': 'file',\n                                                                               'type': 'string'}},\n                                                   'required': ['filename'],\n                                                   'type': 'object'},\n                    'AxonaRecordingExtractorInterface': {'additionalProperties': True,\n                                                         'properties': {'filename': {'description': 'Full '\n                                                                                                    'filename '\n                                                                                                    'of '\n                                                                                                    'Axona '\n                                                                                                    '.set '\n                                                                                                    'file '\n                                                                                                    '(or '\n                                                                                                    'other)',\n                                                                                     'format': 'file',\n                                                                                     'type': 'string'}},\n                                                         'required': ['filename'],\n                                                         'type': 'object'}},\n     'required': [],\n     'title': 'Source data schema',\n     'type': 'object',\n     'version': '0.1.0'}\n\nOn instance:\n    {'filename': '/mnt/d/freelance-work/catalyst-neuro/hussaini-lab-to-nwb/example_data_raw/20201004_Raw'}",
     "output_type": "error",
     "traceback": [
      "\u001b[0;31m---------------------------------------------------------------------------\u001b[0m",
      "\u001b[0;31mValidationError\u001b[0m                           Traceback (most recent call last)",
      "\u001b[0;32m<ipython-input-98-6fd9f7fb219d>\u001b[0m in \u001b[0;36m<module>\u001b[0;34m\u001b[0m\n\u001b[0;32m----> 1\u001b[0;31m \u001b[0mconverter\u001b[0m \u001b[0;34m=\u001b[0m \u001b[0mHussainiNWBConverter\u001b[0m\u001b[0;34m(\u001b[0m\u001b[0msource_data\u001b[0m\u001b[0;34m=\u001b[0m\u001b[0msource_data\u001b[0m\u001b[0;34m)\u001b[0m\u001b[0;34m\u001b[0m\u001b[0;34m\u001b[0m\u001b[0m\n\u001b[0m\u001b[1;32m      2\u001b[0m \u001b[0;34m\u001b[0m\u001b[0m\n\u001b[1;32m      3\u001b[0m \u001b[0mconverter\u001b[0m\u001b[0;34m\u001b[0m\u001b[0;34m\u001b[0m\u001b[0m\n",
      "\u001b[0;32m/mnt/d/spikeinterface/hussaini-to-nwb/venv/lib/python3.8/site-packages/nwb_conversion_tools/nwbconverter.py\u001b[0m in \u001b[0;36m__init__\u001b[0;34m(self, source_data)\u001b[0m\n\u001b[1;32m     58\u001b[0m         \u001b[0;34m\"\"\"Validate source_data against source_schema and initialize all data interfaces.\"\"\"\u001b[0m\u001b[0;34m\u001b[0m\u001b[0;34m\u001b[0m\u001b[0m\n\u001b[1;32m     59\u001b[0m         \u001b[0;31m# Validate source_data against source_schema\u001b[0m\u001b[0;34m\u001b[0m\u001b[0;34m\u001b[0m\u001b[0;34m\u001b[0m\u001b[0m\n\u001b[0;32m---> 60\u001b[0;31m         \u001b[0mself\u001b[0m\u001b[0;34m.\u001b[0m\u001b[0mvalidate_source\u001b[0m\u001b[0;34m(\u001b[0m\u001b[0msource_data\u001b[0m\u001b[0;34m=\u001b[0m\u001b[0msource_data\u001b[0m\u001b[0;34m)\u001b[0m\u001b[0;34m\u001b[0m\u001b[0;34m\u001b[0m\u001b[0m\n\u001b[0m\u001b[1;32m     61\u001b[0m \u001b[0;34m\u001b[0m\u001b[0m\n\u001b[1;32m     62\u001b[0m         \u001b[0;31m# If data is valid, proceed to instantiate DataInterface objects\u001b[0m\u001b[0;34m\u001b[0m\u001b[0;34m\u001b[0m\u001b[0;34m\u001b[0m\u001b[0m\n",
      "\u001b[0;32m/mnt/d/spikeinterface/hussaini-to-nwb/venv/lib/python3.8/site-packages/nwb_conversion_tools/nwbconverter.py\u001b[0m in \u001b[0;36mvalidate_source\u001b[0;34m(cls, source_data)\u001b[0m\n\u001b[1;32m     52\u001b[0m     \u001b[0;32mdef\u001b[0m \u001b[0mvalidate_source\u001b[0m\u001b[0;34m(\u001b[0m\u001b[0mcls\u001b[0m\u001b[0;34m,\u001b[0m \u001b[0msource_data\u001b[0m\u001b[0;34m)\u001b[0m\u001b[0;34m:\u001b[0m\u001b[0;34m\u001b[0m\u001b[0;34m\u001b[0m\u001b[0m\n\u001b[1;32m     53\u001b[0m         \u001b[0;34m\"\"\"Validate source_data against Converter source_schema.\"\"\"\u001b[0m\u001b[0;34m\u001b[0m\u001b[0;34m\u001b[0m\u001b[0m\n\u001b[0;32m---> 54\u001b[0;31m         \u001b[0mvalidate\u001b[0m\u001b[0;34m(\u001b[0m\u001b[0minstance\u001b[0m\u001b[0;34m=\u001b[0m\u001b[0msource_data\u001b[0m\u001b[0;34m,\u001b[0m \u001b[0mschema\u001b[0m\u001b[0;34m=\u001b[0m\u001b[0mcls\u001b[0m\u001b[0;34m.\u001b[0m\u001b[0mget_source_schema\u001b[0m\u001b[0;34m(\u001b[0m\u001b[0;34m)\u001b[0m\u001b[0;34m)\u001b[0m\u001b[0;34m\u001b[0m\u001b[0;34m\u001b[0m\u001b[0m\n\u001b[0m\u001b[1;32m     55\u001b[0m         \u001b[0mprint\u001b[0m\u001b[0;34m(\u001b[0m\u001b[0;34m'Source data is valid!'\u001b[0m\u001b[0;34m)\u001b[0m\u001b[0;34m\u001b[0m\u001b[0;34m\u001b[0m\u001b[0m\n\u001b[1;32m     56\u001b[0m \u001b[0;34m\u001b[0m\u001b[0m\n",
      "\u001b[0;32m/mnt/d/spikeinterface/hussaini-to-nwb/venv/lib/python3.8/site-packages/jsonschema/validators.py\u001b[0m in \u001b[0;36mvalidate\u001b[0;34m(instance, schema, cls, *args, **kwargs)\u001b[0m\n\u001b[1;32m    932\u001b[0m     \u001b[0merror\u001b[0m \u001b[0;34m=\u001b[0m \u001b[0mexceptions\u001b[0m\u001b[0;34m.\u001b[0m\u001b[0mbest_match\u001b[0m\u001b[0;34m(\u001b[0m\u001b[0mvalidator\u001b[0m\u001b[0;34m.\u001b[0m\u001b[0miter_errors\u001b[0m\u001b[0;34m(\u001b[0m\u001b[0minstance\u001b[0m\u001b[0;34m)\u001b[0m\u001b[0;34m)\u001b[0m\u001b[0;34m\u001b[0m\u001b[0;34m\u001b[0m\u001b[0m\n\u001b[1;32m    933\u001b[0m     \u001b[0;32mif\u001b[0m \u001b[0merror\u001b[0m \u001b[0;32mis\u001b[0m \u001b[0;32mnot\u001b[0m \u001b[0;32mNone\u001b[0m\u001b[0;34m:\u001b[0m\u001b[0;34m\u001b[0m\u001b[0;34m\u001b[0m\u001b[0m\n\u001b[0;32m--> 934\u001b[0;31m         \u001b[0;32mraise\u001b[0m \u001b[0merror\u001b[0m\u001b[0;34m\u001b[0m\u001b[0;34m\u001b[0m\u001b[0m\n\u001b[0m\u001b[1;32m    935\u001b[0m \u001b[0;34m\u001b[0m\u001b[0m\n\u001b[1;32m    936\u001b[0m \u001b[0;34m\u001b[0m\u001b[0m\n",
      "\u001b[0;31mValidationError\u001b[0m: Additional properties are not allowed ('filename' was unexpected)\n\nFailed validating 'additionalProperties' in schema:\n    {'$id': 'source.schema.json',\n     '$schema': 'http://json-schema.org/draft-07/schema#',\n     'additionalProperties': False,\n     'description': 'Schema for the source data, files and directories',\n     'properties': {'AxonaPositionDataInterface': {'additionalProperties': True,\n                                                   'properties': {'filename': {'description': 'Full '\n                                                                                              'filename '\n                                                                                              'of '\n                                                                                              'Axona '\n                                                                                              '.bin '\n                                                                                              'or '\n                                                                                              '.pos '\n                                                                                              'file',\n                                                                               'format': 'file',\n                                                                               'type': 'string'}},\n                                                   'required': ['filename'],\n                                                   'type': 'object'},\n                    'AxonaRecordingExtractorInterface': {'additionalProperties': True,\n                                                         'properties': {'filename': {'description': 'Full '\n                                                                                                    'filename '\n                                                                                                    'of '\n                                                                                                    'Axona '\n                                                                                                    '.set '\n                                                                                                    'file '\n                                                                                                    '(or '\n                                                                                                    'other)',\n                                                                                     'format': 'file',\n                                                                                     'type': 'string'}},\n                                                         'required': ['filename'],\n                                                         'type': 'object'}},\n     'required': [],\n     'title': 'Source data schema',\n     'type': 'object',\n     'version': '0.1.0'}\n\nOn instance:\n    {'filename': '/mnt/d/freelance-work/catalyst-neuro/hussaini-lab-to-nwb/example_data_raw/20201004_Raw'}"
     ]
    }
   ],
   "source": [
    "converter = HussainiNWBConverter(source_data=source_data)\n",
    "\n",
    "converter"
   ]
  },
  {
   "cell_type": "code",
   "execution_count": 57,
   "metadata": {},
   "outputs": [],
   "source": [
    "converter.run_conversion??"
   ]
  },
  {
   "cell_type": "code",
   "execution_count": 58,
   "metadata": {},
   "outputs": [
    {
     "name": "stderr",
     "output_type": "stream",
     "text": [
      "/mnt/d/spikeinterface/hussaini-to-nwb/venv/lib/python3.8/site-packages/hdmf/common/table.py:442: UserWarning: An attribute 'name' already exists on DynamicTable 'electrodes' so this column cannot be accessed as an attribute, e.g., table.name; it can only be accessed using other methods, e.g., table['name'].\n",
      "  warn(msg)\n"
     ]
    },
    {
     "data": {
      "text/plain": [
       "root pynwb.file.NWBFile at 0x140361368125696\n",
       "Fields:\n",
       "  acquisition: {\n",
       "    ElectricalSeries_raw <class 'pynwb.ecephys.ElectricalSeries'>\n",
       "  }\n",
       "  devices: {\n",
       "    Axona <class 'pynwb.device.Device'>\n",
       "  }\n",
       "  electrode_groups: {\n",
       "    Group0 <class 'pynwb.ecephys.ElectrodeGroup'>,\n",
       "    Group1 <class 'pynwb.ecephys.ElectrodeGroup'>,\n",
       "    Group2 <class 'pynwb.ecephys.ElectrodeGroup'>,\n",
       "    Group3 <class 'pynwb.ecephys.ElectrodeGroup'>\n",
       "  }\n",
       "  electrodes: electrodes <class 'hdmf.common.table.DynamicTable'>\n",
       "  experimenter: ['Abid']\n",
       "  file_create_date: [datetime.datetime(2021, 5, 10, 13, 54, 37, 191854, tzinfo=tzlocal())]\n",
       "  identifier: 6f34acdb-ed3d-4672-b7e0-92970012fa0d\n",
       "  session_start_time: 2020-10-04 11:07:07-04:00\n",
       "  timestamps_reference_time: 2020-10-04 11:07:07-04:00"
      ]
     },
     "execution_count": 58,
     "metadata": {},
     "output_type": "execute_result"
    }
   ],
   "source": [
    "converter.run_conversion(nwbfile=nwbfile, metadata=metadata, save_to_file=False)\n",
    "nwbfile"
   ]
  },
  {
   "cell_type": "markdown",
   "metadata": {},
   "source": [
    "### Finally, test implementation in `nwb-conversion-tools` and `hussaini-lab-to-nwb`"
   ]
  },
  {
   "cell_type": "code",
   "execution_count": null,
   "metadata": {},
   "outputs": [],
   "source": []
  },
  {
   "cell_type": "code",
   "execution_count": null,
   "metadata": {},
   "outputs": [],
   "source": []
  },
  {
   "cell_type": "code",
   "execution_count": null,
   "metadata": {},
   "outputs": [],
   "source": []
  },
  {
   "cell_type": "code",
   "execution_count": null,
   "metadata": {},
   "outputs": [],
   "source": []
  },
  {
   "cell_type": "markdown",
   "metadata": {},
   "source": [
    "#### Familiarize a bit with handling nwbfile objects"
   ]
  },
  {
   "cell_type": "code",
   "execution_count": 51,
   "metadata": {},
   "outputs": [
    {
     "name": "stderr",
     "output_type": "stream",
     "text": [
      "/mnt/d/spikeinterface/hussaini-to-nwb/venv/lib/python3.8/site-packages/pynwb/file.py:753: UserWarning: Date is missing timezone information. Updating to local timezone.\n",
      "  warn(\"Date is missing timezone information. Updating to local timezone.\")\n"
     ]
    }
   ],
   "source": [
    "from nwb_conversion_tools.conversion_tools import (\n",
    "    get_default_nwbfile_metadata, make_nwbfile_from_metadata\n",
    ")\n",
    "\n",
    "nwbfile = make_nwbfile_from_metadata(metadata=metadata)"
   ]
  },
  {
   "cell_type": "code",
   "execution_count": 132,
   "metadata": {},
   "outputs": [
    {
     "data": {
      "text/plain": [
       "{}"
      ]
     },
     "execution_count": 132,
     "metadata": {},
     "output_type": "execute_result"
    }
   ],
   "source": [
    "nwbfile.processing"
   ]
  },
  {
   "cell_type": "markdown",
   "metadata": {},
   "source": [
    "Follow tutorial guidelines for creating Position data in pynwb!\n",
    "\n",
    "See this tutorial on DataInterfaces in NWB: https://pynwb.readthedocs.io/en/stable/tutorials/general/file.html\n",
    "\n",
    "NWB provides the concept of a data interface–an object for a standard storage location of specific types of data–through the NWBDataInterface class. For example, Position provides a container that holds one or more SpatialSeries objects. SpatialSeries is a subtype of TimeSeries that represents the spatial position of an animal over time. By putting your position data into a Position container, downstream users and tools know where to look to retrieve position data. For a comprehensive list of available data interfaces, see the overview page. Here is how to create a Position object named ‘Position’ [3]."
   ]
  },
  {
   "cell_type": "code",
   "execution_count": 56,
   "metadata": {},
   "outputs": [],
   "source": [
    "from pynwb.behavior import Position\n",
    "\n",
    "position = Position()"
   ]
  },
  {
   "cell_type": "markdown",
   "metadata": {},
   "source": [
    "You can add objects to a data interface as a method of the data interface:"
   ]
  },
  {
   "cell_type": "code",
   "execution_count": 58,
   "metadata": {},
   "outputs": [
    {
     "data": {
      "text/plain": [
       "position1 pynwb.behavior.SpatialSeries at 0x139665061120656\n",
       "Fields:\n",
       "  comments: no comments\n",
       "  conversion: 1.0\n",
       "  data: [0.         0.05263158 0.10526316 0.15789474 0.21052632 0.26315789\n",
       " 0.31578947 0.36842105 0.42105263 0.47368421 0.52631579 0.57894737\n",
       " 0.63157895 0.68421053 0.73684211 0.78947368 0.84210526 0.89473684\n",
       " 0.94736842 1.        ]\n",
       "  description: no description\n",
       "  rate: 50.0\n",
       "  reference_frame: starting gate\n",
       "  resolution: -1.0\n",
       "  starting_time: 0.0\n",
       "  starting_time_unit: seconds\n",
       "  unit: meters"
      ]
     },
     "execution_count": 58,
     "metadata": {},
     "output_type": "execute_result"
    }
   ],
   "source": [
    "position.create_spatial_series(name='position1',\n",
    "                               data=np.linspace(0, 1, 20),\n",
    "                               rate=50.,\n",
    "                               reference_frame='starting gate')"
   ]
  },
  {
   "cell_type": "markdown",
   "metadata": {},
   "source": [
    "or you can add pre-existing objects:\n",
    "\n"
   ]
  },
  {
   "cell_type": "code",
   "execution_count": 59,
   "metadata": {},
   "outputs": [
    {
     "data": {
      "text/plain": [
       "position2 pynwb.behavior.SpatialSeries at 0x139665061710864\n",
       "Fields:\n",
       "  comments: no comments\n",
       "  conversion: 1.0\n",
       "  data: [0.         0.05263158 0.10526316 0.15789474 0.21052632 0.26315789\n",
       " 0.31578947 0.36842105 0.42105263 0.47368421 0.52631579 0.57894737\n",
       " 0.63157895 0.68421053 0.73684211 0.78947368 0.84210526 0.89473684\n",
       " 0.94736842 1.        ]\n",
       "  description: no description\n",
       "  rate: 50.0\n",
       "  reference_frame: starting gate\n",
       "  resolution: -1.0\n",
       "  starting_time: 0.0\n",
       "  starting_time_unit: seconds\n",
       "  unit: meters"
      ]
     },
     "execution_count": 59,
     "metadata": {},
     "output_type": "execute_result"
    }
   ],
   "source": [
    "from pynwb.behavior import SpatialSeries\n",
    "\n",
    "spatial_series = SpatialSeries(name='position',\n",
    "                               data=position_data,\n",
    "                               reference_frame='start of raw aquisition (.bin file)')\n",
    "\n",
    "position.add_spatial_series(spatial_series)"
   ]
  },
  {
   "cell_type": "markdown",
   "metadata": {},
   "source": [
    "or include the object during construction:"
   ]
  },
  {
   "cell_type": "code",
   "execution_count": 60,
   "metadata": {},
   "outputs": [],
   "source": [
    "spatial_series = SpatialSeries(name='position2',\n",
    "                               data=np.linspace(0, 1, 20),\n",
    "                               rate=50.,\n",
    "                               reference_frame='starting gate')\n",
    "\n",
    "position = Position(spatial_series=spatial_series)"
   ]
  },
  {
   "cell_type": "code",
   "execution_count": 61,
   "metadata": {},
   "outputs": [
    {
     "data": {
      "text/plain": [
       "Position pynwb.behavior.Position at 0x139665061118256\n",
       "Fields:\n",
       "  spatial_series: {\n",
       "    position2 <class 'pynwb.behavior.SpatialSeries'>\n",
       "  }"
      ]
     },
     "execution_count": 61,
     "metadata": {},
     "output_type": "execute_result"
    }
   ],
   "source": [
    "position"
   ]
  },
  {
   "cell_type": "code",
   "execution_count": 46,
   "metadata": {},
   "outputs": [
    {
     "ename": "TypeError",
     "evalue": "Can't instantiate abstract class BaseDataInterface with abstract methods run_conversion",
     "output_type": "error",
     "traceback": [
      "\u001b[0;31m---------------------------------------------------------------------------\u001b[0m",
      "\u001b[0;31mTypeError\u001b[0m                                 Traceback (most recent call last)",
      "\u001b[0;32m<ipython-input-46-35eea12befe4>\u001b[0m in \u001b[0;36m<module>\u001b[0;34m\u001b[0m\n\u001b[0;32m----> 1\u001b[0;31m \u001b[0mbi\u001b[0m \u001b[0;34m=\u001b[0m \u001b[0mBaseDataInterface\u001b[0m\u001b[0;34m(\u001b[0m\u001b[0msource_data\u001b[0m\u001b[0;34m=\u001b[0m\u001b[0mfilename\u001b[0m\u001b[0;34m)\u001b[0m\u001b[0;34m\u001b[0m\u001b[0;34m\u001b[0m\u001b[0m\n\u001b[0m\u001b[1;32m      2\u001b[0m \u001b[0mbi\u001b[0m\u001b[0;34m.\u001b[0m\u001b[0mget_conversion_options_schema\u001b[0m\u001b[0;34m(\u001b[0m\u001b[0;34m)\u001b[0m\u001b[0;34m\u001b[0m\u001b[0;34m\u001b[0m\u001b[0m\n",
      "\u001b[0;31mTypeError\u001b[0m: Can't instantiate abstract class BaseDataInterface with abstract methods run_conversion"
     ]
    }
   ],
   "source": [
    "bi = BaseDataInterface(source_data=filename)\n",
    "bi.get_conversion_options_schema()"
   ]
  },
  {
   "cell_type": "code",
   "execution_count": 48,
   "metadata": {},
   "outputs": [],
   "source": [
    "from nwb_conversion_tools.json_schema_utils import (\n",
    "    get_base_schema, get_schema_from_method_signature, fill_defaults)"
   ]
  },
  {
   "cell_type": "code",
   "execution_count": 49,
   "metadata": {},
   "outputs": [
    {
     "ename": "ValueError",
     "evalue": "No valid arguments were found in the json type mapping!",
     "output_type": "error",
     "traceback": [
      "\u001b[0;31m---------------------------------------------------------------------------\u001b[0m",
      "\u001b[0;31mValueError\u001b[0m                                Traceback (most recent call last)",
      "\u001b[0;32m<ipython-input-49-94abbe1f57bb>\u001b[0m in \u001b[0;36m<module>\u001b[0;34m\u001b[0m\n\u001b[0;32m----> 1\u001b[0;31m \u001b[0mget_schema_from_method_signature\u001b[0m\u001b[0;34m(\u001b[0m\u001b[0mBaseDataInterface\u001b[0m\u001b[0;34m.\u001b[0m\u001b[0mrun_conversion\u001b[0m\u001b[0;34m,\u001b[0m \u001b[0mexclude\u001b[0m\u001b[0;34m=\u001b[0m\u001b[0;34m[\u001b[0m\u001b[0;34m'nwbfile'\u001b[0m\u001b[0;34m,\u001b[0m \u001b[0;34m'metadata'\u001b[0m\u001b[0;34m]\u001b[0m\u001b[0;34m)\u001b[0m\u001b[0;34m\u001b[0m\u001b[0;34m\u001b[0m\u001b[0m\n\u001b[0m",
      "\u001b[0;32m/mnt/d/spikeinterface/hussaini-to-nwb/venv/lib/python3.8/site-packages/nwb_conversion_tools/json_schema_utils.py\u001b[0m in \u001b[0;36mget_schema_from_method_signature\u001b[0;34m(class_method, exclude)\u001b[0m\n\u001b[1;32m     88\u001b[0m                         \u001b[0mparam_type\u001b[0m \u001b[0;34m=\u001b[0m \u001b[0mannotation_json_type_map\u001b[0m\u001b[0;34m[\u001b[0m\u001b[0marg\u001b[0m\u001b[0;34m]\u001b[0m\u001b[0;34m\u001b[0m\u001b[0;34m\u001b[0m\u001b[0m\n\u001b[1;32m     89\u001b[0m                     \u001b[0;32melse\u001b[0m\u001b[0;34m:\u001b[0m\u001b[0;34m\u001b[0m\u001b[0;34m\u001b[0m\u001b[0m\n\u001b[0;32m---> 90\u001b[0;31m                         \u001b[0;32mraise\u001b[0m \u001b[0mValueError\u001b[0m\u001b[0;34m(\u001b[0m\u001b[0;34m\"No valid arguments were found in the json type mapping!\"\u001b[0m\u001b[0;34m)\u001b[0m\u001b[0;34m\u001b[0m\u001b[0;34m\u001b[0m\u001b[0m\n\u001b[0m\u001b[1;32m     91\u001b[0m             \u001b[0;32melse\u001b[0m\u001b[0;34m:\u001b[0m\u001b[0;34m\u001b[0m\u001b[0;34m\u001b[0m\u001b[0m\n\u001b[1;32m     92\u001b[0m                 raise NotImplementedError(f\"The annotation type of '{param}' in function '{class_method}' \"\n",
      "\u001b[0;31mValueError\u001b[0m: No valid arguments were found in the json type mapping!"
     ]
    }
   ],
   "source": [
    "get_schema_from_method_signature(BaseDataInterface.run_conversion, exclude=['nwbfile', 'metadata'])"
   ]
  },
  {
   "cell_type": "code",
   "execution_count": null,
   "metadata": {},
   "outputs": [],
   "source": []
  },
  {
   "cell_type": "markdown",
   "metadata": {},
   "source": [
    "## Test axonadatainterface from nwb_conversion_tools"
   ]
  },
  {
   "cell_type": "code",
   "execution_count": null,
   "metadata": {},
   "outputs": [],
   "source": [
    "import json\n",
    "from jsonschema import validate"
   ]
  },
  {
   "cell_type": "code",
   "execution_count": null,
   "metadata": {},
   "outputs": [],
   "source": [
    "import os\n",
    "\n",
    "dir_name = r'/mnt/d/freelance-work/catalyst-neuro/hussaini-lab-to-nwb/example_data_raw'\n",
    "base_filename = 'axona_raw_5s'\n",
    "filename = os.path.join(dir_name, base_filename)\n",
    "print(filename)"
   ]
  },
  {
   "cell_type": "code",
   "execution_count": 25,
   "metadata": {},
   "outputs": [],
   "source": [
    "from nwb_conversion_tools import axonadatainterface"
   ]
  },
  {
   "cell_type": "code",
   "execution_count": 26,
   "metadata": {},
   "outputs": [],
   "source": [
    "from nwb_conversion_tools import (\n",
    "    NWBConverter, AxonaRecordingExtractorInterface\n",
    ")"
   ]
  },
  {
   "cell_type": "code",
   "execution_count": 27,
   "metadata": {},
   "outputs": [],
   "source": [
    "import sys\n",
    "sys.path.append('/mnt/d/spikeinterface/hussaini-lab-to-nwb/hussaini_lab_to_nwb')"
   ]
  },
  {
   "cell_type": "code",
   "execution_count": 28,
   "metadata": {},
   "outputs": [],
   "source": [
    "from hussaininwbconverter import HussainiNWBConverter"
   ]
  },
  {
   "cell_type": "code",
   "execution_count": 29,
   "metadata": {
    "scrolled": false
   },
   "outputs": [
    {
     "name": "stdout",
     "output_type": "stream",
     "text": [
      "{\n",
      "  \"AxonaRecordingExtractorInterface\": {\n",
      "    \"required\": [\n",
      "      \"filename\"\n",
      "    ],\n",
      "    \"properties\": {\n",
      "      \"filename\": {\n",
      "        \"type\": \"string\",\n",
      "        \"format\": \"file\",\n",
      "        \"description\": \"Path to Axona files.\"\n",
      "      }\n",
      "    },\n",
      "    \"type\": \"object\",\n",
      "    \"additionalProperties\": true\n",
      "  }\n",
      "}\n"
     ]
    }
   ],
   "source": [
    "# Get source_schema from converter\n",
    "\n",
    "source_schema = HussainiNWBConverter.get_source_schema()\n",
    "print(json.dumps(source_schema['properties'], indent=2))"
   ]
  },
  {
   "cell_type": "code",
   "execution_count": 30,
   "metadata": {},
   "outputs": [
    {
     "name": "stdout",
     "output_type": "stream",
     "text": [
      "{\n",
      "  \"AxonaRecordingExtractorInterface\": {\n",
      "    \"filename\": \"/mnt/d/freelance-work/catalyst-neuro/hussaini-lab-to-nwb/example_data_raw/axona_raw_5s\"\n",
      "  }\n",
      "}\n"
     ]
    }
   ],
   "source": [
    "source_data = dict(\n",
    "    AxonaRecordingExtractorInterface=dict(\n",
    "        filename=filename\n",
    "    )\n",
    ")\n",
    "print(json.dumps(source_data, indent=2))"
   ]
  },
  {
   "cell_type": "code",
   "execution_count": 31,
   "metadata": {},
   "outputs": [],
   "source": [
    "# Validate source_data with source_schema\n",
    "\n",
    "validate(\n",
    "    instance=source_data,\n",
    "    schema=source_schema\n",
    ")"
   ]
  },
  {
   "cell_type": "code",
   "execution_count": 32,
   "metadata": {},
   "outputs": [
    {
     "name": "stdout",
     "output_type": "stream",
     "text": [
      "Source data is valid!\n"
     ]
    }
   ],
   "source": [
    "# Instantiate Hussaini-lab converter\n",
    "\n",
    "converter = HussainiNWBConverter(source_data=source_data)"
   ]
  },
  {
   "cell_type": "code",
   "execution_count": 33,
   "metadata": {},
   "outputs": [],
   "source": [
    "import datetime"
   ]
  },
  {
   "cell_type": "code",
   "execution_count": 34,
   "metadata": {},
   "outputs": [
    {
     "data": {
      "text/plain": [
       "{'NWBFile': {'session_description': '',\n",
       "  'session_start_time': '2020-10-04T11:07:07',\n",
       "  'identifier': 'e5db422b-34e6-438b-bba7-7310cb409366',\n",
       "  'experimenter': ['Abid']},\n",
       " 'Ecephys': {'Device': [{'name': 'Axona',\n",
       "    'description': 'Axona DacqUSB, sw_version=1.2.2.16',\n",
       "    'manufacturer': 'Axona'}],\n",
       "  'ElectrodeGroup': [{'name': 'Group0',\n",
       "    'location': '',\n",
       "    'device': 'Axona',\n",
       "    'description': 'Group 0 electrodes.'},\n",
       "   {'name': 'Group1',\n",
       "    'location': '',\n",
       "    'device': 'Axona',\n",
       "    'description': 'Group 1 electrodes.'},\n",
       "   {'name': 'Group2',\n",
       "    'location': '',\n",
       "    'device': 'Axona',\n",
       "    'description': 'Group 2 electrodes.'},\n",
       "   {'name': 'Group3',\n",
       "    'location': '',\n",
       "    'device': 'Axona',\n",
       "    'description': 'Group 3 electrodes.'}],\n",
       "  'Electrodes': [{'name': 'group_name',\n",
       "    'description': 'The name of the ElectrodeGroup this electrode is a part of.',\n",
       "    'data': ['Group0',\n",
       "     'Group0',\n",
       "     'Group0',\n",
       "     'Group0',\n",
       "     'Group1',\n",
       "     'Group1',\n",
       "     'Group1',\n",
       "     'Group1',\n",
       "     'Group2',\n",
       "     'Group2',\n",
       "     'Group2',\n",
       "     'Group2',\n",
       "     'Group3',\n",
       "     'Group3',\n",
       "     'Group3',\n",
       "     'Group3']}],\n",
       "  'ElectricalSeries': {'name': 'ElectricalSeries',\n",
       "   'description': 'Raw acquisition traces.'}}}"
      ]
     },
     "execution_count": 34,
     "metadata": {},
     "output_type": "execute_result"
    }
   ],
   "source": [
    "# Get metadata_schema from converter\n",
    "metadata = converter.get_metadata()\n",
    "metadata"
   ]
  },
  {
   "cell_type": "code",
   "execution_count": 35,
   "metadata": {},
   "outputs": [
    {
     "data": {
      "text/plain": [
       "{'required': ['name'],\n",
       " 'properties': {'name': {'description': 'The name of this TimeSeries dataset',\n",
       "   'type': 'string'},\n",
       "  'resolution': {'description': 'The smallest meaningful difference (in specified unit) between values in data',\n",
       "   'type': 'number',\n",
       "   'default': -1.0},\n",
       "  'conversion': {'description': 'Scalar to multiply each element in data to convert it to the specified unit',\n",
       "   'type': 'number',\n",
       "   'default': 1.0},\n",
       "  'starting_time': {'description': 'The timestamp of the first sample',\n",
       "   'type': 'number'},\n",
       "  'rate': {'description': 'Sampling rate in Hz', 'type': 'number'},\n",
       "  'comments': {'description': 'Human-readable comments about this TimeSeries dataset',\n",
       "   'type': 'string',\n",
       "   'default': 'no comments'},\n",
       "  'description': {'description': 'Description of this TimeSeries dataset',\n",
       "   'type': 'string',\n",
       "   'default': 'no description'}},\n",
       " 'type': 'object',\n",
       " 'additionalProperties': False,\n",
       " 'tag': 'pynwb.ecephys.ElectricalSeries'}"
      ]
     },
     "execution_count": 35,
     "metadata": {},
     "output_type": "execute_result"
    }
   ],
   "source": [
    "get_schema_from_hdmf_class(ElectricalSeries)"
   ]
  },
  {
   "cell_type": "code",
   "execution_count": 36,
   "metadata": {},
   "outputs": [
    {
     "data": {
      "text/plain": [
       "{'required': ['NWBFile'],\n",
       " 'properties': {'NWBFile': {'required': ['session_description',\n",
       "    'identifier',\n",
       "    'session_start_time'],\n",
       "   'properties': {'session_description': {'type': 'string',\n",
       "     'format': 'long',\n",
       "     'description': 'a description of the session where this data was generated',\n",
       "     'default': ''},\n",
       "    'identifier': {'type': 'string',\n",
       "     'description': 'a unique text identifier for the file',\n",
       "     'default': 'dbf47d28-0940-43e2-b922-73e270c18653'},\n",
       "    'session_start_time': {'type': 'string',\n",
       "     'description': 'the start date and time of the recording session',\n",
       "     'format': 'date-time',\n",
       "     'default': '2020-10-04T11:07:07'},\n",
       "    'experimenter': {'type': 'array',\n",
       "     'items': {'type': 'string', 'title': 'experimenter'},\n",
       "     'description': 'name of person who performed experiment',\n",
       "     'default': ['Abid']},\n",
       "    'experiment_description': {'type': 'string',\n",
       "     'description': 'general description of the experiment'},\n",
       "    'session_id': {'type': 'string',\n",
       "     'description': 'lab-specific ID for the session'},\n",
       "    'institution': {'type': 'string',\n",
       "     'description': 'institution(s) where experiment is performed'},\n",
       "    'notes': {'type': 'string', 'description': 'Notes about the experiment.'},\n",
       "    'pharmacology': {'type': 'string',\n",
       "     'description': 'Description of drugs used, including how and when they were administered. Anesthesia(s), painkiller(s), etc., plus dosage, concentration, etc.'},\n",
       "    'protocol': {'type': 'string',\n",
       "     'description': 'Experimental protocol, if applicable. E.g., include IACUC protocol'},\n",
       "    'related_publications': {'type': 'string',\n",
       "     'description': 'Publication information.PMID, DOI, URL, etc. If multiple, concatenate together and describe which is which. such as PMID, DOI, URL, etc'},\n",
       "    'slices': {'type': 'string',\n",
       "     'description': 'Description of slices, including information about preparation thickness, orientation, temperature and bath solution'},\n",
       "    'source_script': {'type': 'string',\n",
       "     'description': 'Script file used to create this NWB file.'},\n",
       "    'source_script_file_name': {'type': 'string',\n",
       "     'description': 'Name of the source_script file'},\n",
       "    'data_collection': {'type': 'string',\n",
       "     'description': 'Notes about data collection and analysis.'},\n",
       "    'surgery': {'type': 'string',\n",
       "     'description': 'Narrative description about surgery/surgeries, including date(s) and who performed surgery.'},\n",
       "    'virus': {'type': 'string',\n",
       "     'description': 'Information about virus(es) used in experiments, including virus ID, source, date made, injection location, volume, etc.'},\n",
       "    'stimulus_notes': {'type': 'string',\n",
       "     'description': 'Notes about stimuli, such as how and where presented.'},\n",
       "    'lab': {'type': 'string',\n",
       "     'description': 'lab where experiment was performed'}},\n",
       "   'type': 'object',\n",
       "   'additionalProperties': False,\n",
       "   'tag': 'pynwb.file.NWBFile'},\n",
       "  'Subject': {'required': [],\n",
       "   'properties': {'age': {'description': 'the age of the subject',\n",
       "     'type': 'string'},\n",
       "    'description': {'description': 'a description of the subject',\n",
       "     'type': 'string'},\n",
       "    'genotype': {'description': 'the genotype of the subject',\n",
       "     'type': 'string'},\n",
       "    'sex': {'description': 'the sex of the subject', 'type': 'string'},\n",
       "    'species': {'description': 'the species of the subject', 'type': 'string'},\n",
       "    'subject_id': {'description': 'a unique identifier for the subject',\n",
       "     'type': 'string'},\n",
       "    'weight': {'description': 'the weight of the subject', 'type': 'string'},\n",
       "    'date_of_birth': {'description': 'datetime of date of birth. May be supplied instead of age.',\n",
       "     'type': 'string',\n",
       "     'format': 'date-time'}},\n",
       "   'type': 'object',\n",
       "   'additionalProperties': False,\n",
       "   'tag': 'pynwb.file.Subject'},\n",
       "  'Ecephys': {'required': ['Device', 'ElectrodeGroup'],\n",
       "   'properties': {'Device': {'type': 'array',\n",
       "     'minItems': 1,\n",
       "     'items': {'$ref': '#/properties/Ecephys/properties/definitions/Device'},\n",
       "     'default': [{'name': 'Axona',\n",
       "       'description': 'Axona DacqUSB, sw_version=1.2.2.16',\n",
       "       'manufacturer': 'Axona'}]},\n",
       "    'ElectrodeGroup': {'type': 'array',\n",
       "     'minItems': 1,\n",
       "     'items': {'$ref': '#/properties/Ecephys/properties/definitions/ElectrodeGroup'},\n",
       "     'default': [{'name': 'Group0',\n",
       "       'location': '',\n",
       "       'device': 'Axona',\n",
       "       'description': 'Group 0 electrodes.'},\n",
       "      {'name': 'Group1',\n",
       "       'location': '',\n",
       "       'device': 'Axona',\n",
       "       'description': 'Group 1 electrodes.'},\n",
       "      {'name': 'Group2',\n",
       "       'location': '',\n",
       "       'device': 'Axona',\n",
       "       'description': 'Group 2 electrodes.'},\n",
       "      {'name': 'Group3',\n",
       "       'location': '',\n",
       "       'device': 'Axona',\n",
       "       'description': 'Group 3 electrodes.'}]},\n",
       "    'definitions': {'Device': {'required': ['name'],\n",
       "      'properties': {'name': {'description': 'the name of this device',\n",
       "        'type': 'string'},\n",
       "       'description': {'description': 'Description of the device (e.g., model, firmware version, processing software version, etc.)',\n",
       "        'type': 'string'},\n",
       "       'manufacturer': {'description': 'the name of the manufacturer of this device',\n",
       "        'type': 'string'}},\n",
       "      'type': 'object',\n",
       "      'additionalProperties': False,\n",
       "      'tag': 'pynwb.device.Device'},\n",
       "     'ElectrodeGroup': {'required': ['device',\n",
       "       'name',\n",
       "       'description',\n",
       "       'location'],\n",
       "      'properties': {'name': {'description': 'the name of this electrode',\n",
       "        'type': 'string'},\n",
       "       'description': {'description': 'description of this electrode group',\n",
       "        'type': 'string'},\n",
       "       'location': {'description': 'description of location of this electrode group',\n",
       "        'type': 'string'},\n",
       "       'device': {'description': 'the device that was used to record from this electrode group',\n",
       "        'type': 'string',\n",
       "        'target': 'pynwb.device.Device'}},\n",
       "      'type': 'object',\n",
       "      'additionalProperties': False,\n",
       "      'tag': 'pynwb.ecephys.ElectrodeGroup'}},\n",
       "    'Electrodes': {'required': ['name', 'description', 'data'],\n",
       "     'properties': {'name': {'description': 'Electrode group name this electrode is a part of.',\n",
       "       'type': 'string'},\n",
       "      'description': {'description': 'Description of this electrode group',\n",
       "       'type': 'string'},\n",
       "      'data': {'description': 'Electrode group name for each electrode.',\n",
       "       'type': 'array'}},\n",
       "     'type': 'array',\n",
       "     'additionalProperties': False,\n",
       "     'tag': 'Electrodes',\n",
       "     'default': [{'name': 'group_name',\n",
       "       'description': 'The name of the ElectrodeGroup this electrode is a part of.',\n",
       "       'data': ['Group0',\n",
       "        'Group0',\n",
       "        'Group0',\n",
       "        'Group0',\n",
       "        'Group1',\n",
       "        'Group1',\n",
       "        'Group1',\n",
       "        'Group1',\n",
       "        'Group2',\n",
       "        'Group2',\n",
       "        'Group2',\n",
       "        'Group2',\n",
       "        'Group3',\n",
       "        'Group3',\n",
       "        'Group3',\n",
       "        'Group3']}]},\n",
       "    'ElectricalSeries': {'required': ['name'],\n",
       "     'properties': {'name': {'description': 'The name of this TimeSeries dataset',\n",
       "       'type': 'string',\n",
       "       'default': 'ElectricalSeries'},\n",
       "      'resolution': {'description': 'The smallest meaningful difference (in specified unit) between values in data',\n",
       "       'type': 'number',\n",
       "       'default': -1.0},\n",
       "      'conversion': {'description': 'Scalar to multiply each element in data to convert it to the specified unit',\n",
       "       'type': 'number',\n",
       "       'default': 1.0},\n",
       "      'starting_time': {'description': 'The timestamp of the first sample',\n",
       "       'type': 'number'},\n",
       "      'rate': {'description': 'Sampling rate in Hz', 'type': 'number'},\n",
       "      'comments': {'description': 'Human-readable comments about this TimeSeries dataset',\n",
       "       'type': 'string',\n",
       "       'default': 'no comments'},\n",
       "      'description': {'description': 'Description of this TimeSeries dataset',\n",
       "       'type': 'string',\n",
       "       'default': 'Raw acquisition traces.'}},\n",
       "     'type': 'object',\n",
       "     'additionalProperties': False,\n",
       "     'tag': 'pynwb.ecephys.ElectricalSeries'}},\n",
       "   'type': 'object',\n",
       "   'additionalProperties': False,\n",
       "   'tag': 'Ecephys'}},\n",
       " 'type': 'object',\n",
       " 'additionalProperties': False,\n",
       " '$schema': 'http://json-schema.org/draft-07/schema#',\n",
       " '$id': 'metadata.schema.json',\n",
       " 'title': 'Metadata',\n",
       " 'description': 'Schema for the metadata',\n",
       " 'version': '0.1.0'}"
      ]
     },
     "execution_count": 36,
     "metadata": {},
     "output_type": "execute_result"
    }
   ],
   "source": [
    "converter.get_metadata_schema()"
   ]
  },
  {
   "cell_type": "code",
   "execution_count": 37,
   "metadata": {},
   "outputs": [],
   "source": [
    "# Validate metadata with metadata_schema from nwbconverter\n",
    "\n",
    "validate(\n",
    "    instance=converter.get_metadata(),\n",
    "    schema=converter.get_metadata_schema()\n",
    ")"
   ]
  },
  {
   "cell_type": "code",
   "execution_count": 38,
   "metadata": {},
   "outputs": [
    {
     "name": "stdout",
     "output_type": "stream",
     "text": [
      "{\n",
      "  \"required\": [\n",
      "    \"NWBFile\"\n",
      "  ],\n",
      "  \"properties\": {\n",
      "    \"NWBFile\": {\n",
      "      \"required\": [\n",
      "        \"session_description\",\n",
      "        \"identifier\",\n",
      "        \"session_start_time\"\n",
      "      ],\n",
      "      \"properties\": {\n",
      "        \"session_description\": {\n",
      "          \"type\": \"string\",\n",
      "          \"format\": \"long\",\n",
      "          \"description\": \"a description of the session where this data was generated\",\n",
      "          \"default\": \"\"\n",
      "        },\n",
      "        \"identifier\": {\n",
      "          \"type\": \"string\",\n",
      "          \"description\": \"a unique text identifier for the file\",\n",
      "          \"default\": \"833cf6b5-ab3e-4657-80f3-f40958f2683c\"\n",
      "        },\n",
      "        \"session_start_time\": {\n",
      "          \"type\": \"string\",\n",
      "          \"description\": \"the start date and time of the recording session\",\n",
      "          \"format\": \"date-time\",\n",
      "          \"default\": \"2020-10-04T11:07:07\"\n",
      "        },\n",
      "        \"experimenter\": {\n",
      "          \"type\": \"array\",\n",
      "          \"items\": {\n",
      "            \"type\": \"string\",\n",
      "            \"title\": \"experimenter\"\n",
      "          },\n",
      "          \"description\": \"name of person who performed experiment\",\n",
      "          \"default\": [\n",
      "            \"Abid\"\n",
      "          ]\n",
      "        },\n",
      "        \"experiment_description\": {\n",
      "          \"type\": \"string\",\n",
      "          \"description\": \"general description of the experiment\"\n",
      "        },\n",
      "        \"session_id\": {\n",
      "          \"type\": \"string\",\n",
      "          \"description\": \"lab-specific ID for the session\"\n",
      "        },\n",
      "        \"institution\": {\n",
      "          \"type\": \"string\",\n",
      "          \"description\": \"institution(s) where experiment is performed\"\n",
      "        },\n",
      "        \"notes\": {\n",
      "          \"type\": \"string\",\n",
      "          \"description\": \"Notes about the experiment.\"\n",
      "        },\n",
      "        \"pharmacology\": {\n",
      "          \"type\": \"string\",\n",
      "          \"description\": \"Description of drugs used, including how and when they were administered. Anesthesia(s), painkiller(s), etc., plus dosage, concentration, etc.\"\n",
      "        },\n",
      "        \"protocol\": {\n",
      "          \"type\": \"string\",\n",
      "          \"description\": \"Experimental protocol, if applicable. E.g., include IACUC protocol\"\n",
      "        },\n",
      "        \"related_publications\": {\n",
      "          \"type\": \"string\",\n",
      "          \"description\": \"Publication information.PMID, DOI, URL, etc. If multiple, concatenate together and describe which is which. such as PMID, DOI, URL, etc\"\n",
      "        },\n",
      "        \"slices\": {\n",
      "          \"type\": \"string\",\n",
      "          \"description\": \"Description of slices, including information about preparation thickness, orientation, temperature and bath solution\"\n",
      "        },\n",
      "        \"source_script\": {\n",
      "          \"type\": \"string\",\n",
      "          \"description\": \"Script file used to create this NWB file.\"\n",
      "        },\n",
      "        \"source_script_file_name\": {\n",
      "          \"type\": \"string\",\n",
      "          \"description\": \"Name of the source_script file\"\n",
      "        },\n",
      "        \"data_collection\": {\n",
      "          \"type\": \"string\",\n",
      "          \"description\": \"Notes about data collection and analysis.\"\n",
      "        },\n",
      "        \"surgery\": {\n",
      "          \"type\": \"string\",\n",
      "          \"description\": \"Narrative description about surgery/surgeries, including date(s) and who performed surgery.\"\n",
      "        },\n",
      "        \"virus\": {\n",
      "          \"type\": \"string\",\n",
      "          \"description\": \"Information about virus(es) used in experiments, including virus ID, source, date made, injection location, volume, etc.\"\n",
      "        },\n",
      "        \"stimulus_notes\": {\n",
      "          \"type\": \"string\",\n",
      "          \"description\": \"Notes about stimuli, such as how and where presented.\"\n",
      "        },\n",
      "        \"lab\": {\n",
      "          \"type\": \"string\",\n",
      "          \"description\": \"lab where experiment was performed\"\n",
      "        }\n",
      "      },\n",
      "      \"type\": \"object\",\n",
      "      \"additionalProperties\": false,\n",
      "      \"tag\": \"pynwb.file.NWBFile\"\n",
      "    },\n",
      "    \"Subject\": {\n",
      "      \"required\": [],\n",
      "      \"properties\": {\n",
      "        \"age\": {\n",
      "          \"description\": \"the age of the subject\",\n",
      "          \"type\": \"string\"\n",
      "        },\n",
      "        \"description\": {\n",
      "          \"description\": \"a description of the subject\",\n",
      "          \"type\": \"string\"\n",
      "        },\n",
      "        \"genotype\": {\n",
      "          \"description\": \"the genotype of the subject\",\n",
      "          \"type\": \"string\"\n",
      "        },\n",
      "        \"sex\": {\n",
      "          \"description\": \"the sex of the subject\",\n",
      "          \"type\": \"string\"\n",
      "        },\n",
      "        \"species\": {\n",
      "          \"description\": \"the species of the subject\",\n",
      "          \"type\": \"string\"\n",
      "        },\n",
      "        \"subject_id\": {\n",
      "          \"description\": \"a unique identifier for the subject\",\n",
      "          \"type\": \"string\"\n",
      "        },\n",
      "        \"weight\": {\n",
      "          \"description\": \"the weight of the subject\",\n",
      "          \"type\": \"string\"\n",
      "        },\n",
      "        \"date_of_birth\": {\n",
      "          \"description\": \"datetime of date of birth. May be supplied instead of age.\",\n",
      "          \"type\": \"string\",\n",
      "          \"format\": \"date-time\"\n",
      "        }\n",
      "      },\n",
      "      \"type\": \"object\",\n",
      "      \"additionalProperties\": false,\n",
      "      \"tag\": \"pynwb.file.Subject\"\n",
      "    },\n",
      "    \"Ecephys\": {\n",
      "      \"required\": [\n",
      "        \"Device\",\n",
      "        \"ElectrodeGroup\"\n",
      "      ],\n",
      "      \"properties\": {\n",
      "        \"Device\": {\n",
      "          \"type\": \"array\",\n",
      "          \"minItems\": 1,\n",
      "          \"items\": {\n",
      "            \"$ref\": \"#/properties/Ecephys/properties/definitions/Device\"\n",
      "          },\n",
      "          \"default\": [\n",
      "            {\n",
      "              \"name\": \"Axona\",\n",
      "              \"description\": \"Axona DacqUSB, sw_version=1.2.2.16\",\n",
      "              \"manufacturer\": \"Axona\"\n",
      "            }\n",
      "          ]\n",
      "        },\n",
      "        \"ElectrodeGroup\": {\n",
      "          \"type\": \"array\",\n",
      "          \"minItems\": 1,\n",
      "          \"items\": {\n",
      "            \"$ref\": \"#/properties/Ecephys/properties/definitions/ElectrodeGroup\"\n",
      "          },\n",
      "          \"default\": [\n",
      "            {\n",
      "              \"name\": \"Group0\",\n",
      "              \"location\": \"\",\n",
      "              \"device\": \"Axona\",\n",
      "              \"description\": \"Group 0 electrodes.\"\n",
      "            },\n",
      "            {\n",
      "              \"name\": \"Group1\",\n",
      "              \"location\": \"\",\n",
      "              \"device\": \"Axona\",\n",
      "              \"description\": \"Group 1 electrodes.\"\n",
      "            },\n",
      "            {\n",
      "              \"name\": \"Group2\",\n",
      "              \"location\": \"\",\n",
      "              \"device\": \"Axona\",\n",
      "              \"description\": \"Group 2 electrodes.\"\n",
      "            },\n",
      "            {\n",
      "              \"name\": \"Group3\",\n",
      "              \"location\": \"\",\n",
      "              \"device\": \"Axona\",\n",
      "              \"description\": \"Group 3 electrodes.\"\n",
      "            }\n",
      "          ]\n",
      "        },\n",
      "        \"definitions\": {\n",
      "          \"Device\": {\n",
      "            \"required\": [\n",
      "              \"name\"\n",
      "            ],\n",
      "            \"properties\": {\n",
      "              \"name\": {\n",
      "                \"description\": \"the name of this device\",\n",
      "                \"type\": \"string\"\n",
      "              },\n",
      "              \"description\": {\n",
      "                \"description\": \"Description of the device (e.g., model, firmware version, processing software version, etc.)\",\n",
      "                \"type\": \"string\"\n",
      "              },\n",
      "              \"manufacturer\": {\n",
      "                \"description\": \"the name of the manufacturer of this device\",\n",
      "                \"type\": \"string\"\n",
      "              }\n",
      "            },\n",
      "            \"type\": \"object\",\n",
      "            \"additionalProperties\": false,\n",
      "            \"tag\": \"pynwb.device.Device\"\n",
      "          },\n",
      "          \"ElectrodeGroup\": {\n",
      "            \"required\": [\n",
      "              \"device\",\n",
      "              \"name\",\n",
      "              \"description\",\n",
      "              \"location\"\n",
      "            ],\n",
      "            \"properties\": {\n",
      "              \"name\": {\n",
      "                \"description\": \"the name of this electrode\",\n",
      "                \"type\": \"string\"\n",
      "              },\n",
      "              \"description\": {\n",
      "                \"description\": \"description of this electrode group\",\n",
      "                \"type\": \"string\"\n",
      "              },\n",
      "              \"location\": {\n",
      "                \"description\": \"description of location of this electrode group\",\n",
      "                \"type\": \"string\"\n",
      "              },\n",
      "              \"device\": {\n",
      "                \"description\": \"the device that was used to record from this electrode group\",\n",
      "                \"type\": \"string\",\n",
      "                \"target\": \"pynwb.device.Device\"\n",
      "              }\n",
      "            },\n",
      "            \"type\": \"object\",\n",
      "            \"additionalProperties\": false,\n",
      "            \"tag\": \"pynwb.ecephys.ElectrodeGroup\"\n",
      "          }\n",
      "        },\n",
      "        \"Electrodes\": {\n",
      "          \"required\": [\n",
      "            \"name\",\n",
      "            \"description\",\n",
      "            \"data\"\n",
      "          ],\n",
      "          \"properties\": {\n",
      "            \"name\": {\n",
      "              \"description\": \"Electrode group name this electrode is a part of.\",\n",
      "              \"type\": \"string\"\n",
      "            },\n",
      "            \"description\": {\n",
      "              \"description\": \"Description of this electrode group\",\n",
      "              \"type\": \"string\"\n",
      "            },\n",
      "            \"data\": {\n",
      "              \"description\": \"Electrode group name for each electrode.\",\n",
      "              \"type\": \"array\"\n",
      "            }\n",
      "          },\n",
      "          \"type\": \"array\",\n",
      "          \"additionalProperties\": false,\n",
      "          \"tag\": \"Electrodes\",\n",
      "          \"default\": [\n",
      "            {\n",
      "              \"name\": \"group_name\",\n",
      "              \"description\": \"The name of the ElectrodeGroup this electrode is a part of.\",\n",
      "              \"data\": [\n",
      "                \"Group0\",\n",
      "                \"Group0\",\n",
      "                \"Group0\",\n",
      "                \"Group0\",\n",
      "                \"Group1\",\n",
      "                \"Group1\",\n",
      "                \"Group1\",\n",
      "                \"Group1\",\n",
      "                \"Group2\",\n",
      "                \"Group2\",\n",
      "                \"Group2\",\n",
      "                \"Group2\",\n",
      "                \"Group3\",\n",
      "                \"Group3\",\n",
      "                \"Group3\",\n",
      "                \"Group3\"\n",
      "              ]\n",
      "            }\n",
      "          ]\n",
      "        },\n",
      "        \"ElectricalSeries\": {\n",
      "          \"required\": [\n",
      "            \"name\"\n",
      "          ],\n",
      "          \"properties\": {\n",
      "            \"name\": {\n",
      "              \"description\": \"The name of this TimeSeries dataset\",\n",
      "              \"type\": \"string\",\n",
      "              \"default\": \"ElectricalSeries\"\n",
      "            },\n",
      "            \"resolution\": {\n",
      "              \"description\": \"The smallest meaningful difference (in specified unit) between values in data\",\n",
      "              \"type\": \"number\",\n",
      "              \"default\": -1.0\n",
      "            },\n",
      "            \"conversion\": {\n",
      "              \"description\": \"Scalar to multiply each element in data to convert it to the specified unit\",\n",
      "              \"type\": \"number\",\n",
      "              \"default\": 1.0\n",
      "            },\n",
      "            \"starting_time\": {\n",
      "              \"description\": \"The timestamp of the first sample\",\n",
      "              \"type\": \"number\"\n",
      "            },\n",
      "            \"rate\": {\n",
      "              \"description\": \"Sampling rate in Hz\",\n",
      "              \"type\": \"number\"\n",
      "            },\n",
      "            \"comments\": {\n",
      "              \"description\": \"Human-readable comments about this TimeSeries dataset\",\n",
      "              \"type\": \"string\",\n",
      "              \"default\": \"no comments\"\n",
      "            },\n",
      "            \"description\": {\n",
      "              \"description\": \"Description of this TimeSeries dataset\",\n",
      "              \"type\": \"string\",\n",
      "              \"default\": \"Raw acquisition traces.\"\n",
      "            }\n",
      "          },\n",
      "          \"type\": \"object\",\n",
      "          \"additionalProperties\": false,\n",
      "          \"tag\": \"pynwb.ecephys.ElectricalSeries\"\n",
      "        }\n",
      "      },\n",
      "      \"type\": \"object\",\n",
      "      \"additionalProperties\": false,\n",
      "      \"tag\": \"Ecephys\"\n",
      "    }\n",
      "  },\n",
      "  \"type\": \"object\",\n",
      "  \"additionalProperties\": false,\n",
      "  \"$schema\": \"http://json-schema.org/draft-07/schema#\",\n",
      "  \"$id\": \"metadata.schema.json\",\n",
      "  \"title\": \"Metadata\",\n",
      "  \"description\": \"Schema for the metadata\",\n",
      "  \"version\": \"0.1.0\"\n",
      "}\n"
     ]
    }
   ],
   "source": [
    "print(json.dumps(converter.get_metadata_schema(), indent=2))"
   ]
  },
  {
   "cell_type": "code",
   "execution_count": 39,
   "metadata": {},
   "outputs": [],
   "source": [
    "# Test pytest function test_interface_schemas() for this specific interface\n",
    "\n",
    "from jsonschema import Draft7Validator"
   ]
  },
  {
   "cell_type": "code",
   "execution_count": 40,
   "metadata": {},
   "outputs": [],
   "source": [
    "data_interface = AxonaRecordingExtractorInterface(filename=filename)\n",
    "\n",
    "schema = data_interface.get_source_schema()\n",
    "Draft7Validator.check_schema(schema)\n",
    "\n",
    "# check validity of conversion options schema\n",
    "schema = data_interface.get_conversion_options_schema()\n",
    "Draft7Validator.check_schema(schema)"
   ]
  },
  {
   "cell_type": "code",
   "execution_count": 41,
   "metadata": {},
   "outputs": [
    {
     "data": {
      "text/plain": [
       "'/mnt/d/freelance-work/catalyst-neuro/hussaini-lab-to-nwb/example_data_raw'"
      ]
     },
     "execution_count": 41,
     "metadata": {},
     "output_type": "execute_result"
    }
   ],
   "source": [
    "dir_name"
   ]
  },
  {
   "cell_type": "code",
   "execution_count": 42,
   "metadata": {},
   "outputs": [],
   "source": [
    "from nwb_conversion_tools.conversion_tools import get_default_nwbfile_metadata\n",
    "from nwb_conversion_tools.json_schema_utils import dict_deep_update"
   ]
  },
  {
   "cell_type": "code",
   "execution_count": 43,
   "metadata": {},
   "outputs": [],
   "source": [
    "metadata = dict_deep_update(get_default_nwbfile_metadata(), metadata)"
   ]
  },
  {
   "cell_type": "code",
   "execution_count": 44,
   "metadata": {},
   "outputs": [
    {
     "data": {
      "text/plain": [
       "{'session_description': '',\n",
       " 'session_start_time': '2020-10-04T11:07:07',\n",
       " 'identifier': 'e5db422b-34e6-438b-bba7-7310cb409366',\n",
       " 'experimenter': ['Abid']}"
      ]
     },
     "execution_count": 44,
     "metadata": {},
     "output_type": "execute_result"
    }
   ],
   "source": [
    "metadata['NWBFile']"
   ]
  },
  {
   "cell_type": "code",
   "execution_count": 45,
   "metadata": {},
   "outputs": [],
   "source": [
    "metadata_test = metadata"
   ]
  },
  {
   "cell_type": "code",
   "execution_count": 46,
   "metadata": {},
   "outputs": [
    {
     "data": {
      "text/plain": [
       "{'NWBFile': {'session_description': '',\n",
       "  'session_start_time': '2020-10-04T11:07:07',\n",
       "  'identifier': 'e5db422b-34e6-438b-bba7-7310cb409366',\n",
       "  'experimenter': ['Abid']},\n",
       " 'Ecephys': {'Device': [{'name': 'Axona',\n",
       "    'description': 'Axona DacqUSB, sw_version=1.2.2.16',\n",
       "    'manufacturer': 'Axona'}],\n",
       "  'ElectrodeGroup': [{'name': 'Group0',\n",
       "    'location': '',\n",
       "    'device': 'Axona',\n",
       "    'description': 'Group 0 electrodes.'},\n",
       "   {'name': 'Group1',\n",
       "    'location': '',\n",
       "    'device': 'Axona',\n",
       "    'description': 'Group 1 electrodes.'},\n",
       "   {'name': 'Group2',\n",
       "    'location': '',\n",
       "    'device': 'Axona',\n",
       "    'description': 'Group 2 electrodes.'},\n",
       "   {'name': 'Group3',\n",
       "    'location': '',\n",
       "    'device': 'Axona',\n",
       "    'description': 'Group 3 electrodes.'}],\n",
       "  'Electrodes': [{'name': 'group_name',\n",
       "    'description': 'The name of the ElectrodeGroup this electrode is a part of.',\n",
       "    'data': ['Group0',\n",
       "     'Group0',\n",
       "     'Group0',\n",
       "     'Group0',\n",
       "     'Group1',\n",
       "     'Group1',\n",
       "     'Group1',\n",
       "     'Group1',\n",
       "     'Group2',\n",
       "     'Group2',\n",
       "     'Group2',\n",
       "     'Group2',\n",
       "     'Group3',\n",
       "     'Group3',\n",
       "     'Group3',\n",
       "     'Group3']}],\n",
       "  'ElectricalSeries': {'name': 'ElectricalSeries',\n",
       "   'description': 'Raw acquisition traces.'}}}"
      ]
     },
     "execution_count": 46,
     "metadata": {},
     "output_type": "execute_result"
    }
   ],
   "source": [
    "metadata_test"
   ]
  },
  {
   "cell_type": "code",
   "execution_count": 47,
   "metadata": {},
   "outputs": [
    {
     "data": {
      "text/plain": [
       "{'AxonaRecordingExtractorInterface': <nwb_conversion_tools.datainterfaces.axonadatainterface.AxonaRecordingExtractorInterface at 0x7f6339cc64f0>}"
      ]
     },
     "execution_count": 47,
     "metadata": {},
     "output_type": "execute_result"
    }
   ],
   "source": [
    "converter.data_interface_objects"
   ]
  },
  {
   "cell_type": "code",
   "execution_count": 48,
   "metadata": {},
   "outputs": [
    {
     "data": {
      "text/plain": [
       "{'session_description': '',\n",
       " 'session_start_time': '2020-10-04T11:07:07',\n",
       " 'identifier': 'e5db422b-34e6-438b-bba7-7310cb409366',\n",
       " 'experimenter': ['Abid']}"
      ]
     },
     "execution_count": 48,
     "metadata": {},
     "output_type": "execute_result"
    }
   ],
   "source": [
    "metadata[\"NWBFile\"]"
   ]
  },
  {
   "cell_type": "code",
   "execution_count": 49,
   "metadata": {},
   "outputs": [],
   "source": [
    "from datetime import datetime\n",
    "from pynwb import NWBFile"
   ]
  },
  {
   "cell_type": "code",
   "execution_count": 50,
   "metadata": {},
   "outputs": [],
   "source": [
    "def make_nwbfile_from_metadata(metadata: dict):\n",
    "    \"\"\"Make NWBFile from available metadata.\"\"\"\n",
    "    metadata = dict_deep_update(get_default_nwbfile_metadata(), metadata)\n",
    "    nwbfile_kwargs = metadata[\"NWBFile\"]\n",
    "    if \"Subject\" in metadata:\n",
    "        # convert ISO 8601 string to datetime\n",
    "        if \"date_of_birth\" in metadata[\"Subject\"] and isinstance(metadata[\"Subject\"][\"date_of_birth\"], str):\n",
    "            metadata[\"Subject\"][\"date_of_birth\"] = datetime.fromisoformat(metadata[\"Subject\"][\"date_of_birth\"])\n",
    "        nwbfile_kwargs.update(subject=Subject(**metadata[\"Subject\"]))\n",
    "    # convert ISO 8601 string to datetime\n",
    "    if isinstance(nwbfile_kwargs.get(\"session_start_time\", None), str):\n",
    "        nwbfile_kwargs[\"session_start_time\"] = datetime.fromisoformat(metadata[\"NWBFile\"][\"session_start_time\"])\n",
    "    return NWBFile(**nwbfile_kwargs)"
   ]
  },
  {
   "cell_type": "code",
   "execution_count": 51,
   "metadata": {},
   "outputs": [
    {
     "name": "stderr",
     "output_type": "stream",
     "text": [
      "/mnt/d/spikeinterface/hussaini-to-nwb/venv/lib/python3.8/site-packages/pynwb/file.py:753: UserWarning: Date is missing timezone information. Updating to local timezone.\n",
      "  warn(\"Date is missing timezone information. Updating to local timezone.\")\n"
     ]
    }
   ],
   "source": [
    "nwbfile = make_nwbfile_from_metadata(metadata=metadata_test)"
   ]
  },
  {
   "cell_type": "code",
   "execution_count": 52,
   "metadata": {},
   "outputs": [
    {
     "name": "stdout",
     "output_type": "stream",
     "text": [
      "<class 'list'>\n",
      "<class 'dict'>\n"
     ]
    }
   ],
   "source": [
    "print(type(metadata_test['Ecephys']['Device']))\n",
    "print(type(metadata_test['Ecephys']['Device'][0]))"
   ]
  },
  {
   "cell_type": "code",
   "execution_count": 53,
   "metadata": {},
   "outputs": [],
   "source": [
    "import spikeextractors as se\n",
    "import numpy as np"
   ]
  },
  {
   "cell_type": "code",
   "execution_count": 54,
   "metadata": {},
   "outputs": [],
   "source": [
    "r_cache = se.load_extractor_from_pickle(os.path.join(dir_name, 'cached_data_preproc.pkl'))"
   ]
  },
  {
   "cell_type": "code",
   "execution_count": 55,
   "metadata": {},
   "outputs": [],
   "source": [
    "data_interface = HussainiNWBConverter"
   ]
  },
  {
   "cell_type": "code",
   "execution_count": 56,
   "metadata": {},
   "outputs": [
    {
     "data": {
      "text/plain": [
       "{'NWBFile': {'session_description': '',\n",
       "  'session_start_time': '2020-10-04T11:07:07',\n",
       "  'identifier': 'e5db422b-34e6-438b-bba7-7310cb409366',\n",
       "  'experimenter': ['Abid']},\n",
       " 'Ecephys': {'Device': [{'name': 'Axona',\n",
       "    'description': 'Axona DacqUSB, sw_version=1.2.2.16',\n",
       "    'manufacturer': 'Axona'}],\n",
       "  'ElectrodeGroup': [{'name': 'Group0',\n",
       "    'location': '',\n",
       "    'device': 'Axona',\n",
       "    'description': 'Group 0 electrodes.'},\n",
       "   {'name': 'Group1',\n",
       "    'location': '',\n",
       "    'device': 'Axona',\n",
       "    'description': 'Group 1 electrodes.'},\n",
       "   {'name': 'Group2',\n",
       "    'location': '',\n",
       "    'device': 'Axona',\n",
       "    'description': 'Group 2 electrodes.'},\n",
       "   {'name': 'Group3',\n",
       "    'location': '',\n",
       "    'device': 'Axona',\n",
       "    'description': 'Group 3 electrodes.'}],\n",
       "  'Electrodes': [{'name': 'group_name',\n",
       "    'description': 'The name of the ElectrodeGroup this electrode is a part of.',\n",
       "    'data': ['Group0',\n",
       "     'Group0',\n",
       "     'Group0',\n",
       "     'Group0',\n",
       "     'Group1',\n",
       "     'Group1',\n",
       "     'Group1',\n",
       "     'Group1',\n",
       "     'Group2',\n",
       "     'Group2',\n",
       "     'Group2',\n",
       "     'Group2',\n",
       "     'Group3',\n",
       "     'Group3',\n",
       "     'Group3',\n",
       "     'Group3']}],\n",
       "  'ElectricalSeries': {'name': 'ElectricalSeries',\n",
       "   'description': 'Raw acquisition traces.'}}}"
      ]
     },
     "execution_count": 56,
     "metadata": {},
     "output_type": "execute_result"
    }
   ],
   "source": [
    "metadata_test"
   ]
  },
  {
   "cell_type": "code",
   "execution_count": 57,
   "metadata": {},
   "outputs": [
    {
     "name": "stdout",
     "output_type": "stream",
     "text": [
      "Using Device to instantiate electrode group\n"
     ]
    },
    {
     "name": "stderr",
     "output_type": "stream",
     "text": [
      "/mnt/d/spikeinterface/spikeextractors/spikeextractors/extractors/nwbextractors/nwbextractors.py:581: UserWarning: Electrode group for electrode 0 was not found in the nwbfile! Automatically adding.\n",
      "  warnings.warn(f\"Electrode group for electrode {channel_id} was not \"\n"
     ]
    },
    {
     "ename": "AssertionError",
     "evalue": "Expected metadata['Ecephys']['ElectrodeGroup'] to be a list of dictionaries!",
     "output_type": "error",
     "traceback": [
      "\u001b[0;31m---------------------------------------------------------------------------\u001b[0m",
      "\u001b[0;31mAssertionError\u001b[0m                            Traceback (most recent call last)",
      "\u001b[0;32m<ipython-input-57-8e296201d50a>\u001b[0m in \u001b[0;36m<module>\u001b[0;34m\u001b[0m\n\u001b[0;32m----> 1\u001b[0;31m converter.run_conversion(metadata=metadata_test,\n\u001b[0m\u001b[1;32m      2\u001b[0m                          \u001b[0msave_to_file\u001b[0m\u001b[0;34m=\u001b[0m\u001b[0;32mFalse\u001b[0m\u001b[0;34m,\u001b[0m\u001b[0;34m\u001b[0m\u001b[0;34m\u001b[0m\u001b[0m\n\u001b[1;32m      3\u001b[0m                          \u001b[0mnwbfile_path\u001b[0m\u001b[0;34m=\u001b[0m\u001b[0;32mNone\u001b[0m\u001b[0;34m,\u001b[0m\u001b[0;34m\u001b[0m\u001b[0;34m\u001b[0m\u001b[0m\n\u001b[1;32m      4\u001b[0m                          nwbfile=None)\n",
      "\u001b[0;32m/mnt/d/spikeinterface/hussaini-to-nwb/venv/lib/python3.8/site-packages/nwb_conversion_tools/nwbconverter.py\u001b[0m in \u001b[0;36mrun_conversion\u001b[0;34m(self, metadata, save_to_file, nwbfile_path, overwrite, nwbfile, conversion_options)\u001b[0m\n\u001b[1;32m    171\u001b[0m                 \u001b[0mnwbfile\u001b[0m \u001b[0;34m=\u001b[0m \u001b[0mmake_nwbfile_from_metadata\u001b[0m\u001b[0;34m(\u001b[0m\u001b[0mmetadata\u001b[0m\u001b[0;34m=\u001b[0m\u001b[0mmetadata\u001b[0m\u001b[0;34m)\u001b[0m\u001b[0;34m\u001b[0m\u001b[0;34m\u001b[0m\u001b[0m\n\u001b[1;32m    172\u001b[0m             \u001b[0;32mfor\u001b[0m \u001b[0minterface_name\u001b[0m\u001b[0;34m,\u001b[0m \u001b[0mdata_interface\u001b[0m \u001b[0;32min\u001b[0m \u001b[0mself\u001b[0m\u001b[0;34m.\u001b[0m\u001b[0mdata_interface_objects\u001b[0m\u001b[0;34m.\u001b[0m\u001b[0mitems\u001b[0m\u001b[0;34m(\u001b[0m\u001b[0;34m)\u001b[0m\u001b[0;34m:\u001b[0m\u001b[0;34m\u001b[0m\u001b[0;34m\u001b[0m\u001b[0m\n\u001b[0;32m--> 173\u001b[0;31m                 \u001b[0mdata_interface\u001b[0m\u001b[0;34m.\u001b[0m\u001b[0mrun_conversion\u001b[0m\u001b[0;34m(\u001b[0m\u001b[0mnwbfile\u001b[0m\u001b[0;34m,\u001b[0m \u001b[0mmetadata\u001b[0m\u001b[0;34m,\u001b[0m \u001b[0;34m**\u001b[0m\u001b[0mconversion_options\u001b[0m\u001b[0;34m.\u001b[0m\u001b[0mget\u001b[0m\u001b[0;34m(\u001b[0m\u001b[0minterface_name\u001b[0m\u001b[0;34m,\u001b[0m \u001b[0mdict\u001b[0m\u001b[0;34m(\u001b[0m\u001b[0;34m)\u001b[0m\u001b[0;34m)\u001b[0m\u001b[0;34m)\u001b[0m\u001b[0;34m\u001b[0m\u001b[0;34m\u001b[0m\u001b[0m\n\u001b[0m\u001b[1;32m    174\u001b[0m             \u001b[0;32mreturn\u001b[0m \u001b[0mnwbfile\u001b[0m\u001b[0;34m\u001b[0m\u001b[0;34m\u001b[0m\u001b[0m\n",
      "\u001b[0;32m/mnt/d/spikeinterface/hussaini-to-nwb/venv/lib/python3.8/site-packages/nwb_conversion_tools/baserecordingextractorinterface.py\u001b[0m in \u001b[0;36mrun_conversion\u001b[0;34m(self, nwbfile, metadata, stub_test, use_times, save_path, overwrite, buffer_mb, write_as, es_key)\u001b[0m\n\u001b[1;32m    129\u001b[0m             \u001b[0mrecording\u001b[0m \u001b[0;34m=\u001b[0m \u001b[0mself\u001b[0m\u001b[0;34m.\u001b[0m\u001b[0mrecording_extractor\u001b[0m\u001b[0;34m\u001b[0m\u001b[0;34m\u001b[0m\u001b[0m\n\u001b[1;32m    130\u001b[0m \u001b[0;34m\u001b[0m\u001b[0m\n\u001b[0;32m--> 131\u001b[0;31m         se.NwbRecordingExtractor.write_recording(\n\u001b[0m\u001b[1;32m    132\u001b[0m             \u001b[0mrecording\u001b[0m\u001b[0;34m=\u001b[0m\u001b[0mrecording\u001b[0m\u001b[0;34m,\u001b[0m\u001b[0;34m\u001b[0m\u001b[0;34m\u001b[0m\u001b[0m\n\u001b[1;32m    133\u001b[0m             \u001b[0mnwbfile\u001b[0m\u001b[0;34m=\u001b[0m\u001b[0mnwbfile\u001b[0m\u001b[0;34m,\u001b[0m\u001b[0;34m\u001b[0m\u001b[0;34m\u001b[0m\u001b[0m\n",
      "\u001b[0;32m/mnt/d/spikeinterface/spikeextractors/spikeextractors/extractors/nwbextractors/nwbextractors.py\u001b[0m in \u001b[0;36mwrite_recording\u001b[0;34m(recording, save_path, overwrite, nwbfile, buffer_mb, use_times, metadata, write_as, es_key, write_scaled)\u001b[0m\n\u001b[1;32m   1089\u001b[0m                 \u001b[0mio\u001b[0m\u001b[0;34m.\u001b[0m\u001b[0mwrite\u001b[0m\u001b[0;34m(\u001b[0m\u001b[0mnwbfile\u001b[0m\u001b[0;34m)\u001b[0m\u001b[0;34m\u001b[0m\u001b[0;34m\u001b[0m\u001b[0m\n\u001b[1;32m   1090\u001b[0m         \u001b[0;32melse\u001b[0m\u001b[0;34m:\u001b[0m\u001b[0;34m\u001b[0m\u001b[0;34m\u001b[0m\u001b[0m\n\u001b[0;32m-> 1091\u001b[0;31m             se.NwbRecordingExtractor.add_all_to_nwbfile(\n\u001b[0m\u001b[1;32m   1092\u001b[0m                 \u001b[0mrecording\u001b[0m\u001b[0;34m=\u001b[0m\u001b[0mrecording\u001b[0m\u001b[0;34m,\u001b[0m\u001b[0;34m\u001b[0m\u001b[0;34m\u001b[0m\u001b[0m\n\u001b[1;32m   1093\u001b[0m                 \u001b[0mnwbfile\u001b[0m\u001b[0;34m=\u001b[0m\u001b[0mnwbfile\u001b[0m\u001b[0;34m,\u001b[0m\u001b[0;34m\u001b[0m\u001b[0;34m\u001b[0m\u001b[0m\n",
      "\u001b[0;32m/mnt/d/spikeinterface/spikeextractors/spikeextractors/extractors/nwbextractors/nwbextractors.py\u001b[0m in \u001b[0;36madd_all_to_nwbfile\u001b[0;34m(recording, nwbfile, buffer_mb, use_times, metadata, write_as, es_key, write_scaled)\u001b[0m\n\u001b[1;32m    949\u001b[0m             \u001b[0mmetadata\u001b[0m\u001b[0;34m=\u001b[0m\u001b[0mmetadata\u001b[0m\u001b[0;34m\u001b[0m\u001b[0;34m\u001b[0m\u001b[0m\n\u001b[1;32m    950\u001b[0m         )\n\u001b[0;32m--> 951\u001b[0;31m         se.NwbRecordingExtractor.add_electrodes(\n\u001b[0m\u001b[1;32m    952\u001b[0m             \u001b[0mrecording\u001b[0m\u001b[0;34m=\u001b[0m\u001b[0mrecording\u001b[0m\u001b[0;34m,\u001b[0m\u001b[0;34m\u001b[0m\u001b[0;34m\u001b[0m\u001b[0m\n\u001b[1;32m    953\u001b[0m             \u001b[0mnwbfile\u001b[0m\u001b[0;34m=\u001b[0m\u001b[0mnwbfile\u001b[0m\u001b[0;34m,\u001b[0m\u001b[0;34m\u001b[0m\u001b[0;34m\u001b[0m\u001b[0m\n",
      "\u001b[0;32m/mnt/d/spikeinterface/spikeextractors/spikeextractors/extractors/nwbextractors/nwbextractors.py\u001b[0m in \u001b[0;36madd_electrodes\u001b[0;34m(recording, nwbfile, metadata, write_scaled)\u001b[0m\n\u001b[1;32m    591\u001b[0m                                 )\n\u001b[1;32m    592\u001b[0m                             )\n\u001b[0;32m--> 593\u001b[0;31m                             \u001b[0mse\u001b[0m\u001b[0;34m.\u001b[0m\u001b[0mNwbRecordingExtractor\u001b[0m\u001b[0;34m.\u001b[0m\u001b[0madd_electrode_groups\u001b[0m\u001b[0;34m(\u001b[0m\u001b[0mrecording\u001b[0m\u001b[0;34m,\u001b[0m \u001b[0mnwbfile\u001b[0m\u001b[0;34m,\u001b[0m \u001b[0mmissing_group_metadata\u001b[0m\u001b[0;34m)\u001b[0m\u001b[0;34m\u001b[0m\u001b[0;34m\u001b[0m\u001b[0m\n\u001b[0m\u001b[1;32m    594\u001b[0m                         electrode_kwargs.update(\n\u001b[1;32m    595\u001b[0m                             dict(\n",
      "\u001b[0;32m/mnt/d/spikeinterface/spikeextractors/spikeextractors/extractors/nwbextractors/nwbextractors.py\u001b[0m in \u001b[0;36madd_electrode_groups\u001b[0;34m(recording, nwbfile, metadata)\u001b[0m\n\u001b[1;32m    429\u001b[0m                 )\n\u001b[1;32m    430\u001b[0m             )\n\u001b[0;32m--> 431\u001b[0;31m         \u001b[0;32massert\u001b[0m \u001b[0mall\u001b[0m\u001b[0;34m(\u001b[0m\u001b[0;34m[\u001b[0m\u001b[0misinstance\u001b[0m\u001b[0;34m(\u001b[0m\u001b[0mx\u001b[0m\u001b[0;34m,\u001b[0m \u001b[0mdict\u001b[0m\u001b[0;34m)\u001b[0m \u001b[0;32mfor\u001b[0m \u001b[0mx\u001b[0m \u001b[0;32min\u001b[0m \u001b[0mmetadata\u001b[0m\u001b[0;34m[\u001b[0m\u001b[0;34m'Ecephys'\u001b[0m\u001b[0;34m]\u001b[0m\u001b[0;34m[\u001b[0m\u001b[0;34m'ElectrodeGroup'\u001b[0m\u001b[0;34m]\u001b[0m\u001b[0;34m]\u001b[0m\u001b[0;34m)\u001b[0m\u001b[0;34m,\u001b[0m\u001b[0;31m \u001b[0m\u001b[0;31m\\\u001b[0m\u001b[0;34m\u001b[0m\u001b[0;34m\u001b[0m\u001b[0m\n\u001b[0m\u001b[1;32m    432\u001b[0m             \u001b[0;34m\"Expected metadata['Ecephys']['ElectrodeGroup'] to be a list of dictionaries!\"\u001b[0m\u001b[0;34m\u001b[0m\u001b[0;34m\u001b[0m\u001b[0m\n\u001b[1;32m    433\u001b[0m \u001b[0;34m\u001b[0m\u001b[0m\n",
      "\u001b[0;31mAssertionError\u001b[0m: Expected metadata['Ecephys']['ElectrodeGroup'] to be a list of dictionaries!"
     ]
    }
   ],
   "source": [
    "converter.run_conversion(metadata=metadata_test,\n",
    "                         save_to_file=False,\n",
    "                         nwbfile_path=None,\n",
    "                         nwbfile=None)"
   ]
  },
  {
   "cell_type": "code",
   "execution_count": null,
   "metadata": {},
   "outputs": [],
   "source": [
    "import datetime"
   ]
  },
  {
   "cell_type": "code",
   "execution_count": null,
   "metadata": {},
   "outputs": [],
   "source": [
    "metadata=converter.get_metadata()\n",
    "metadata"
   ]
  },
  {
   "cell_type": "code",
   "execution_count": null,
   "metadata": {
    "scrolled": true
   },
   "outputs": [],
   "source": [
    "# Get metadata_schema from converter\n",
    "converter.run_conversion(metadata=converter.get_metadata(),\n",
    "                         save_to_file=False,\n",
    "                         nwbfile_path=None,\n",
    "                         nwbfile=None)"
   ]
  },
  {
   "cell_type": "code",
   "execution_count": null,
   "metadata": {},
   "outputs": [],
   "source": [
    "se.NwbRecordingExtractor.add_devices(\n",
    "    recording=recording,\n",
    "    nwbfile=nwbfile,\n",
    "    metadata=metadata\n",
    ")"
   ]
  },
  {
   "cell_type": "code",
   "execution_count": null,
   "metadata": {},
   "outputs": [],
   "source": [
    "metadata['Ecephys']['Device']"
   ]
  },
  {
   "cell_type": "code",
   "execution_count": null,
   "metadata": {},
   "outputs": [],
   "source": [
    "nwbfile.devices"
   ]
  },
  {
   "cell_type": "code",
   "execution_count": null,
   "metadata": {},
   "outputs": [],
   "source": [
    "if nwbfile is not None:\n",
    "    assert isinstance(nwbfile, NWBFile), \"'nwbfile' should be of type pynwb.NWBFile\"\n",
    "if len(nwbfile.devices) == 0:\n",
    "    se.NwbRecordingExtractor.add_devices(recording, nwbfile)\n",
    "defaults = dict(\n",
    "    name=\"Electrode Group\",\n",
    "    description=\"no description\",\n",
    "    location=\"unknown\",\n",
    "    device_name=\"Device\"\n",
    ")\n",
    "if metadata is None or 'ElectrodeGroup' not in metadata['Ecephys']:\n",
    "    metadata = dict(\n",
    "        Ecephys=dict(\n",
    "            ElectrodeGroup=[defaults]\n",
    "        )\n",
    "    )"
   ]
  },
  {
   "cell_type": "code",
   "execution_count": null,
   "metadata": {},
   "outputs": [],
   "source": [
    "assert all([isinstance(x, dict) for x in metadata['Ecephys']['ElectrodeGroup']]), \\\n",
    "    \"Expected metadata['Ecephys']['ElectrodeGroup'] to be a list of dictionaries!\""
   ]
  },
  {
   "cell_type": "code",
   "execution_count": null,
   "metadata": {},
   "outputs": [],
   "source": [
    "defaults['device_name']"
   ]
  },
  {
   "cell_type": "code",
   "execution_count": null,
   "metadata": {},
   "outputs": [],
   "source": [
    "metadata['Ecephys']['ElectrodeGroup']"
   ]
  },
  {
   "cell_type": "code",
   "execution_count": null,
   "metadata": {},
   "outputs": [],
   "source": [
    "for grp in metadata['Ecephys']['ElectrodeGroup']:\n",
    "    device_name = grp.get('device_name', defaults['device_name'])\n",
    "    print(device_name)"
   ]
  },
  {
   "cell_type": "code",
   "execution_count": null,
   "metadata": {},
   "outputs": [],
   "source": [
    "metadata['Ecephys']['ElectrodeGroup']"
   ]
  },
  {
   "cell_type": "code",
   "execution_count": null,
   "metadata": {},
   "outputs": [],
   "source": [
    "device_name"
   ]
  },
  {
   "cell_type": "code",
   "execution_count": null,
   "metadata": {},
   "outputs": [],
   "source": [
    "metadata['Ecephys']['ElectrodeGroup']"
   ]
  },
  {
   "cell_type": "code",
   "execution_count": null,
   "metadata": {},
   "outputs": [],
   "source": [
    "grp = metadata['Ecephys']['ElectrodeGroup'][0]\n",
    "grp"
   ]
  },
  {
   "cell_type": "code",
   "execution_count": null,
   "metadata": {},
   "outputs": [],
   "source": [
    "device_name = grp.get('device_name', defaults['device_name'])\n",
    "device_name"
   ]
  },
  {
   "cell_type": "code",
   "execution_count": null,
   "metadata": {},
   "outputs": [],
   "source": [
    "nwbfile.devices"
   ]
  },
  {
   "cell_type": "code",
   "execution_count": null,
   "metadata": {},
   "outputs": [],
   "source": [
    "nwbfile.electrode_groups"
   ]
  },
  {
   "cell_type": "code",
   "execution_count": 63,
   "metadata": {},
   "outputs": [
    {
     "data": {
      "text/plain": [
       "True"
      ]
     },
     "execution_count": 63,
     "metadata": {},
     "output_type": "execute_result"
    }
   ],
   "source": [
    "grp.get('name', defaults['name']) not in nwbfile.electrode_groups"
   ]
  },
  {
   "cell_type": "code",
   "execution_count": 70,
   "metadata": {},
   "outputs": [
    {
     "data": {
      "text/plain": [
       "{'name': 'Group0',\n",
       " 'location': '',\n",
       " 'device': 'Axona',\n",
       " 'description': 'Group 0 electrodes.'}"
      ]
     },
     "execution_count": 70,
     "metadata": {},
     "output_type": "execute_result"
    }
   ],
   "source": [
    "grp"
   ]
  },
  {
   "cell_type": "code",
   "execution_count": 68,
   "metadata": {},
   "outputs": [
    {
     "data": {
      "text/plain": [
       "{'Axona': Axona pynwb.device.Device at 0x140690185518672\n",
       " Fields:\n",
       "   description: Axona DacqUSB, sw_version=1.2.2.16\n",
       "   manufacturer: Axona}"
      ]
     },
     "execution_count": 68,
     "metadata": {},
     "output_type": "execute_result"
    }
   ],
   "source": [
    "nwbfile.devices"
   ]
  },
  {
   "cell_type": "code",
   "execution_count": 71,
   "metadata": {},
   "outputs": [
    {
     "data": {
      "text/plain": [
       "{}"
      ]
     },
     "execution_count": 71,
     "metadata": {},
     "output_type": "execute_result"
    }
   ],
   "source": [
    "nwbfile.electrode_groups"
   ]
  },
  {
   "cell_type": "code",
   "execution_count": 67,
   "metadata": {},
   "outputs": [
    {
     "ename": "AssertionError",
     "evalue": "Expected metadata['Ecephys']['Device'] to be a list of dictionaries!",
     "output_type": "error",
     "traceback": [
      "\u001b[0;31m---------------------------------------------------------------------------\u001b[0m",
      "\u001b[0;31mAssertionError\u001b[0m                            Traceback (most recent call last)",
      "\u001b[0;32m<ipython-input-67-c304305ea55f>\u001b[0m in \u001b[0;36m<module>\u001b[0;34m\u001b[0m\n\u001b[1;32m     10\u001b[0m                 )\n\u001b[1;32m     11\u001b[0m             )\n\u001b[0;32m---> 12\u001b[0;31m             \u001b[0mse\u001b[0m\u001b[0;34m.\u001b[0m\u001b[0mNwbRecordingExtractor\u001b[0m\u001b[0;34m.\u001b[0m\u001b[0madd_devices\u001b[0m\u001b[0;34m(\u001b[0m\u001b[0mrecording\u001b[0m\u001b[0;34m,\u001b[0m \u001b[0mnwbfile\u001b[0m\u001b[0;34m,\u001b[0m \u001b[0mmetadata\u001b[0m\u001b[0;34m=\u001b[0m\u001b[0mnew_device\u001b[0m\u001b[0;34m)\u001b[0m\u001b[0;34m\u001b[0m\u001b[0;34m\u001b[0m\u001b[0m\n\u001b[0m",
      "\u001b[0;32m/mnt/d/spikeinterface/spikeextractors/spikeextractors/extractors/nwbextractors/nwbextractors.py\u001b[0m in \u001b[0;36madd_devices\u001b[0;34m(recording, nwbfile, metadata)\u001b[0m\n\u001b[1;32m    376\u001b[0m                 )\n\u001b[1;32m    377\u001b[0m             )\n\u001b[0;32m--> 378\u001b[0;31m         \u001b[0;32massert\u001b[0m \u001b[0mall\u001b[0m\u001b[0;34m(\u001b[0m\u001b[0;34m[\u001b[0m\u001b[0misinstance\u001b[0m\u001b[0;34m(\u001b[0m\u001b[0mx\u001b[0m\u001b[0;34m,\u001b[0m \u001b[0mdict\u001b[0m\u001b[0;34m)\u001b[0m \u001b[0;32mfor\u001b[0m \u001b[0mx\u001b[0m \u001b[0;32min\u001b[0m \u001b[0mmetadata\u001b[0m\u001b[0;34m[\u001b[0m\u001b[0;34m'Ecephys'\u001b[0m\u001b[0;34m]\u001b[0m\u001b[0;34m[\u001b[0m\u001b[0;34m'Device'\u001b[0m\u001b[0;34m]\u001b[0m\u001b[0;34m]\u001b[0m\u001b[0;34m)\u001b[0m\u001b[0;34m,\u001b[0m\u001b[0;31m \u001b[0m\u001b[0;31m\\\u001b[0m\u001b[0;34m\u001b[0m\u001b[0;34m\u001b[0m\u001b[0m\n\u001b[0m\u001b[1;32m    379\u001b[0m             \u001b[0;34m\"Expected metadata['Ecephys']['Device'] to be a list of dictionaries!\"\u001b[0m\u001b[0;34m\u001b[0m\u001b[0;34m\u001b[0m\u001b[0m\n\u001b[1;32m    380\u001b[0m \u001b[0;34m\u001b[0m\u001b[0m\n",
      "\u001b[0;31mAssertionError\u001b[0m: Expected metadata['Ecephys']['Device'] to be a list of dictionaries!"
     ]
    }
   ],
   "source": [
    "for grp in metadata['Ecephys']['ElectrodeGroup']:\n",
    "    device_name = grp.get('device_name', defaults['device_name'])\n",
    "    if grp.get('name', defaults['name']) not in nwbfile.electrode_groups:\n",
    "        if device_name not in nwbfile.devices:\n",
    "            new_device = dict(\n",
    "                Ecephys=dict(\n",
    "                    Device=dict(\n",
    "                        name=device_name\n",
    "                    )\n",
    "                )\n",
    "            )\n",
    "            se.NwbRecordingExtractor.add_devices(recording, nwbfile, metadata=new_device)"
   ]
  },
  {
   "cell_type": "code",
   "execution_count": 236,
   "metadata": {},
   "outputs": [
    {
     "data": {
      "text/plain": [
       "1"
      ]
     },
     "execution_count": 236,
     "metadata": {},
     "output_type": "execute_result"
    }
   ],
   "source": [
    "len(nwbfile.devices)"
   ]
  },
  {
   "cell_type": "code",
   "execution_count": 237,
   "metadata": {},
   "outputs": [],
   "source": [
    "se.NwbRecordingExtractor.add_electrode_groups(\n",
    "    recording=recording,\n",
    "    nwbfile=nwbfile,\n",
    "    metadata=metadata\n",
    ")"
   ]
  },
  {
   "cell_type": "code",
   "execution_count": null,
   "metadata": {},
   "outputs": [],
   "source": [
    "converter.run_conversion(metadata=metadata_test,\n",
    "                         save_to_file=False,\n",
    "                         nwbfile_path=os.path.join(dir_name, 'axonadatainterface_test.nwb'),\n",
    "                         nwbfile=None)"
   ]
  },
  {
   "cell_type": "code",
   "execution_count": 239,
   "metadata": {},
   "outputs": [
    {
     "data": {
      "text/plain": [
       "{'NWBFile': {'session_description': '',\n",
       "  'session_start_time': '2020-10-04T11:07:07',\n",
       "  'identifier': 'bff4a978-7d4d-4878-9c3b-c4c9a0a28e02',\n",
       "  'experimenter': ['Abid']},\n",
       " 'Ecephys': {'Device': [{'name': 'Axona',\n",
       "    'description': 'Axona DacqUSB, sw_version=1.2.2.16',\n",
       "    'manufacturer': 'Axona'}],\n",
       "  'ElectrodeGroup': [{'name': 'Group0',\n",
       "    'location': '',\n",
       "    'device': 'Axona',\n",
       "    'description': 'Group 0 electrodes.'}],\n",
       "  'Electrodes': [{'name': 'group_name',\n",
       "    'description': 'The name of the ElectrodeGroup this                         electrode is a part of.',\n",
       "    'data': ['Group0',\n",
       "     'Group0',\n",
       "     'Group0',\n",
       "     'Group0',\n",
       "     'Group0',\n",
       "     'Group0',\n",
       "     'Group0',\n",
       "     'Group0',\n",
       "     'Group0',\n",
       "     'Group0',\n",
       "     'Group0',\n",
       "     'Group0',\n",
       "     'Group0',\n",
       "     'Group0',\n",
       "     'Group0',\n",
       "     'Group0']}],\n",
       "  'ElectricalSeries': {'name': 'ElectricalSeries',\n",
       "   'description': 'Raw acquisition traces.'}}}"
      ]
     },
     "execution_count": 239,
     "metadata": {},
     "output_type": "execute_result"
    }
   ],
   "source": [
    "metadata_test"
   ]
  },
  {
   "cell_type": "code",
   "execution_count": null,
   "metadata": {},
   "outputs": [],
   "source": []
  },
  {
   "cell_type": "code",
   "execution_count": null,
   "metadata": {},
   "outputs": [],
   "source": []
  },
  {
   "cell_type": "code",
   "execution_count": null,
   "metadata": {},
   "outputs": [],
   "source": []
  },
  {
   "cell_type": "code",
   "execution_count": null,
   "metadata": {},
   "outputs": [],
   "source": []
  },
  {
   "cell_type": "code",
   "execution_count": null,
   "metadata": {},
   "outputs": [],
   "source": []
  },
  {
   "cell_type": "code",
   "execution_count": 18,
   "metadata": {},
   "outputs": [],
   "source": [
    "import nwb_conversion_tools"
   ]
  },
  {
   "cell_type": "code",
   "execution_count": 19,
   "metadata": {},
   "outputs": [],
   "source": [
    "# Try to see for which data_interface pytest crashes\n",
    "# Only for tutorialinterfaces! But it works fine for AxonaRecordingExtractorInterface!\n",
    "\n",
    "interfaces_that_crash = [nwb_conversion_tools.datainterfaces.tutorialdatainterface.TutorialRecordingInterface,\n",
    "                         nwb_conversion_tools.datainterfaces.tutorialdatainterface.TutorialSortingInterface]\n",
    "\n",
    "from nwb_conversion_tools import interface_list\n",
    "\n",
    "for data_interface in interface_list:\n",
    "    \n",
    "    if not data_interface in interfaces_that_crash:\n",
    "    \n",
    "        # check validity of source schema\n",
    "        schema = data_interface.get_source_schema()\n",
    "        Draft7Validator.check_schema(schema)\n",
    "\n",
    "        # check validity of conversion options schema\n",
    "        schema = data_interface.get_conversion_options_schema()\n",
    "        Draft7Validator.check_schema(schema)"
   ]
  },
  {
   "cell_type": "code",
   "execution_count": 20,
   "metadata": {},
   "outputs": [],
   "source": [
    "interfaces_that_crash = [nwb_conversion_tools.datainterfaces.tutorialdatainterface.TutorialRecordingInterface,\n",
    "                         nwb_conversion_tools.datainterfaces.tutorialdatainterface.TutorialSortingInterface]\n",
    "\n",
    "data_interface = interfaces_that_crash[0]\n",
    "        \n",
    "# check validity of source schema\n",
    "schema = data_interface.get_source_schema()\n",
    "Draft7Validator.check_schema(schema)\n",
    "\n",
    "# check validity of conversion options schema\n",
    "schema = data_interface.get_conversion_options_schema()\n",
    "Draft7Validator.check_schema(schema)"
   ]
  },
  {
   "cell_type": "code",
   "execution_count": 21,
   "metadata": {},
   "outputs": [],
   "source": [
    "data_interface = interfaces_that_crash[1]\n",
    "        \n",
    "# check validity of source schema\n",
    "schema = data_interface.get_source_schema()\n",
    "Draft7Validator.check_schema(schema)\n",
    "\n",
    "# check validity of conversion options schema\n",
    "schema = data_interface.get_conversion_options_schema()\n",
    "Draft7Validator.check_schema(schema)"
   ]
  },
  {
   "cell_type": "code",
   "execution_count": null,
   "metadata": {},
   "outputs": [],
   "source": []
  },
  {
   "cell_type": "code",
   "execution_count": null,
   "metadata": {},
   "outputs": [],
   "source": []
  },
  {
   "cell_type": "code",
   "execution_count": null,
   "metadata": {},
   "outputs": [],
   "source": []
  }
 ],
 "metadata": {
  "kernelspec": {
   "display_name": "python 3.8.5 (hussaini-to-nwb)",
   "language": "python",
   "name": "venv"
  },
  "language_info": {
   "codemirror_mode": {
    "name": "ipython",
    "version": 3
   },
   "file_extension": ".py",
   "mimetype": "text/x-python",
   "name": "python",
   "nbconvert_exporter": "python",
   "pygments_lexer": "ipython3",
   "version": "3.8.5"
  }
 },
 "nbformat": 4,
 "nbformat_minor": 4
}
