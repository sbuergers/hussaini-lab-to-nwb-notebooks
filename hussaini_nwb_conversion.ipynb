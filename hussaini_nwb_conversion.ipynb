{
 "cells": [
  {
   "cell_type": "markdown",
   "metadata": {},
   "source": [
    "# Hussaini lab data (Axona) conversion to NWB\n",
    "\n",
    "Here, I am going to test code for doing said conversions.\n",
    "\n",
    "### NWB\n",
    "\n",
    "To convert to NWB we will need a separate Interface class (e.g. AxonaRecordingExtractorInterface) for each data type / extractor. Those are then combined with an NWBConverter class for the Lab (e.g. HussainiLabNWBConverter), which exports to NWB. \n",
    "\n",
    "Note that for Milestone2, we might not need any of this, since spikeextractors has its own NWBconverters for extractor and sorting classes!"
   ]
  },
  {
   "cell_type": "markdown",
   "metadata": {},
   "source": [
    "Adapted from https://github.com/catalystneuro/movshon-lab-to-nwb/blob/main/tutorials/blackrock_nwb_conversion_detailed.ipynb"
   ]
  },
  {
   "cell_type": "code",
   "execution_count": 1,
   "metadata": {},
   "outputs": [],
   "source": [
    "%load_ext autoreload\n",
    "%autoreload 2\n",
    "%config Completer.use_jedi = False"
   ]
  },
  {
   "cell_type": "code",
   "execution_count": 2,
   "metadata": {},
   "outputs": [
    {
     "name": "stdout",
     "output_type": "stream",
     "text": [
      "/mnt/d/freelance-work/catalyst-neuro/hussaini-lab-to-nwb/example_data_raw/axona_raw_5s\n"
     ]
    }
   ],
   "source": [
    "import os\n",
    "\n",
    "dir_name = r'/mnt/d/freelance-work/catalyst-neuro/hussaini-lab-to-nwb/example_data_raw'\n",
    "base_filename = 'axona_raw_5s'\n",
    "filename = os.path.join(dir_name, base_filename)\n",
    "set_file = filename + '.set'\n",
    "print(filename)"
   ]
  },
  {
   "cell_type": "code",
   "execution_count": 3,
   "metadata": {},
   "outputs": [
    {
     "name": "stdout",
     "output_type": "stream",
     "text": [
      "total 76\r\n",
      "-rwxrwxrwx 1 sbuergers sbuergers    69 Apr  5 11:28 __init__.py\r\n",
      "drwxrwxrwx 1 sbuergers sbuergers  4096 Apr 28 12:03 __pycache__\r\n",
      "-rwxrwxrwx 1 sbuergers sbuergers  1404 Apr  5 11:28 auto_qc.py\r\n",
      "-rwxrwxrwx 1 sbuergers sbuergers  1338 Apr  5 11:28 basedatainterface.py\r\n",
      "-rwxrwxrwx 1 sbuergers sbuergers  2134 Apr  5 11:28 baseimagingextractorinterface.py\r\n",
      "-rwxrwxrwx 1 sbuergers sbuergers  2812 Apr 28 11:58 baselfpextractorinterface.py\r\n",
      "-rwxrwxrwx 1 sbuergers sbuergers  5385 Apr 28 11:58 baserecordingextractorinterface.py\r\n",
      "-rwxrwxrwx 1 sbuergers sbuergers  2363 Apr  5 11:28 basesegmentationextractorinterface.py\r\n",
      "-rwxrwxrwx 1 sbuergers sbuergers  3786 Apr 28 11:58 basesortingextractorinterface.py\r\n",
      "-rwxrwxrwx 1 sbuergers sbuergers  5015 Apr 28 11:58 conversion_tools.py\r\n",
      "drwxrwxrwx 1 sbuergers sbuergers  4096 Apr 28 11:58 datainterfaces\r\n",
      "-rwxrwxrwx 1 sbuergers sbuergers  5100 Apr 28 11:58 json_schema_utils.py\r\n",
      "-rwxrwxrwx 1 sbuergers sbuergers 10154 Apr  5 11:28 metafile.schema.json\r\n",
      "-rwxrwxrwx 1 sbuergers sbuergers  7472 Apr 28 11:58 nwbconverter.py\r\n",
      "drwxrwxrwx 1 sbuergers sbuergers  4096 Apr  5 11:28 schemas\r\n",
      "-rwxrwxrwx 1 sbuergers sbuergers  7355 Apr  5 11:28 utils.py\r\n"
     ]
    }
   ],
   "source": [
    "!ls ../nwb-conversion-tools/nwb_conversion_tools -l"
   ]
  },
  {
   "cell_type": "code",
   "execution_count": null,
   "metadata": {},
   "outputs": [],
   "source": []
  },
  {
   "cell_type": "code",
   "execution_count": 4,
   "metadata": {},
   "outputs": [],
   "source": [
    "# Import modules\n",
    "\n",
    "import random\n",
    "import string\n",
    "from typing import Union, Optional\n",
    "from pathlib import Path\n",
    "import spikeextractors as se\n",
    "from pynwb import NWBFile\n",
    "import numpy as np\n",
    "import re\n",
    "import datetime\n",
    "import json\n",
    "from jsonschema import validate, ValidationError\n",
    "\n",
    "from nwb_conversion_tools.baserecordingextractorinterface import BaseRecordingExtractorInterface,  BaseDataInterface\n",
    "from nwb_conversion_tools.basesortingextractorinterface import BaseSortingExtractorInterface\n",
    "from nwb_conversion_tools.json_schema_utils import get_schema_from_method_signature, get_base_schema, fill_defaults\n",
    "from nwb_conversion_tools.datainterfaces.interface_utils.brpylib import NsxFile\n",
    "from nwb_conversion_tools import SpikeGLXRecordingInterface"
   ]
  },
  {
   "cell_type": "code",
   "execution_count": 5,
   "metadata": {},
   "outputs": [],
   "source": [
    "# from basedatainterface.py\n",
    "base_schema = get_base_schema(\n",
    "    id_='metadata.schema.json',\n",
    "    root=True,\n",
    "    title='Metadata',\n",
    "    description='Schema for the metadata',\n",
    "    version=\"0.1.0\",\n",
    ")"
   ]
  },
  {
   "cell_type": "code",
   "execution_count": 6,
   "metadata": {},
   "outputs": [
    {
     "data": {
      "text/plain": [
       "{'required': [],\n",
       " 'properties': {},\n",
       " 'type': 'object',\n",
       " 'additionalProperties': False,\n",
       " '$schema': 'http://json-schema.org/draft-07/schema#',\n",
       " '$id': 'metadata.schema.json',\n",
       " 'title': 'Metadata',\n",
       " 'description': 'Schema for the metadata',\n",
       " 'version': '0.1.0'}"
      ]
     },
     "execution_count": 6,
     "metadata": {},
     "output_type": "execute_result"
    }
   ],
   "source": [
    "base_schema"
   ]
  },
  {
   "cell_type": "code",
   "execution_count": 7,
   "metadata": {},
   "outputs": [],
   "source": [
    "glx = SpikeGLXRecordingInterface"
   ]
  },
  {
   "cell_type": "code",
   "execution_count": 8,
   "metadata": {},
   "outputs": [
    {
     "data": {
      "text/plain": [
       "{'required': ['file_path'],\n",
       " 'properties': {'file_path': {'type': 'string',\n",
       "   'format': 'file',\n",
       "   'description': 'Path to SpikeGLX file.'}},\n",
       " 'type': 'object',\n",
       " 'additionalProperties': True}"
      ]
     },
     "execution_count": 8,
     "metadata": {},
     "output_type": "execute_result"
    }
   ],
   "source": [
    "glx.get_source_schema()"
   ]
  },
  {
   "cell_type": "code",
   "execution_count": 9,
   "metadata": {},
   "outputs": [
    {
     "data": {
      "text/plain": [
       "mappingproxy({'self': <Parameter \"self\">,\n",
       "              'file_path': <Parameter \"file_path: Union[str, pathlib.Path, NoneType]\">,\n",
       "              'stub_test': <Parameter \"stub_test: Union[bool, NoneType] = False\">})"
      ]
     },
     "execution_count": 9,
     "metadata": {},
     "output_type": "execute_result"
    }
   ],
   "source": [
    "import inspect\n",
    "\n",
    "inspect.signature(glx.__init__).parameters"
   ]
  },
  {
   "cell_type": "code",
   "execution_count": 10,
   "metadata": {},
   "outputs": [
    {
     "name": "stdout",
     "output_type": "stream",
     "text": [
      "total 224\r\n",
      "-rwxrwxrwx 1 sbuergers sbuergers  1265 Mar 19 08:48 __init__.py\r\n",
      "drwxrwxrwx 1 sbuergers sbuergers  4096 Apr 28 12:02 __pycache__\r\n",
      "-rwxrwxrwx 1 sbuergers sbuergers 22834 Apr 27 20:11 baseextractor.py\r\n",
      "-rwxrwxrwx 1 sbuergers sbuergers  9153 Apr 27 20:11 cacheextractors.py\r\n",
      "drwxrwxrwx 1 sbuergers sbuergers  4096 Apr 20 21:40 example_datasets\r\n",
      "-rwxrwxrwx 1 sbuergers sbuergers   105 Mar 19 08:48 exceptions.py\r\n",
      "-rwxrwxrwx 1 sbuergers sbuergers 37347 Apr 27 20:11 extraction_tools.py\r\n",
      "-rwxrwxrwx 1 sbuergers sbuergers  5952 Apr 28 11:50 extractorlist.py\r\n",
      "drwxrwxrwx 1 sbuergers sbuergers  4096 Mar 22 09:47 extractors\r\n",
      "-rwxrwxrwx 1 sbuergers sbuergers  6255 Apr 27 20:11 multirecordingchannelextractor.py\r\n",
      "-rwxrwxrwx 1 sbuergers sbuergers  8547 Apr 27 20:11 multirecordingtimeextractor.py\r\n",
      "-rwxrwxrwx 1 sbuergers sbuergers  5459 Apr 27 20:11 multisortingextractor.py\r\n",
      "-rwxrwxrwx 1 sbuergers sbuergers 41337 Apr 27 20:11 recordingextractor.py\r\n",
      "-rwxrwxrwx 1 sbuergers sbuergers 30652 Apr 27 20:11 sortingextractor.py\r\n",
      "-rwxrwxrwx 1 sbuergers sbuergers  8382 Apr 20 21:40 subrecordingextractor.py\r\n",
      "-rwxrwxrwx 1 sbuergers sbuergers  7788 Mar 19 08:52 subsortingextractor.py\r\n",
      "-rwxrwxrwx 1 sbuergers sbuergers  9329 Apr 28 11:51 testing.py\r\n",
      "-rwxrwxrwx 1 sbuergers sbuergers    18 Apr 20 21:40 version.py\r\n"
     ]
    }
   ],
   "source": [
    "!ls ../spikeextractors/spikeextractors -l"
   ]
  },
  {
   "cell_type": "code",
   "execution_count": 11,
   "metadata": {},
   "outputs": [],
   "source": [
    "from spikeextractors.extractors.neoextractors import AxonaRecordingExtractor"
   ]
  },
  {
   "cell_type": "code",
   "execution_count": 12,
   "metadata": {},
   "outputs": [
    {
     "name": "stdout",
     "output_type": "stream",
     "text": [
      "Number of channels: 16\n",
      "Channel groups: [0 0 0 0 1 1 1 1 2 2 2 2 3 3 3 3]\n"
     ]
    }
   ],
   "source": [
    "are = AxonaRecordingExtractor(filename=filename)\n",
    "print('Number of channels:', are.get_num_channels())\n",
    "print('Channel groups:', are.get_channel_groups())"
   ]
  },
  {
   "cell_type": "markdown",
   "metadata": {},
   "source": [
    "Parse .set file for metadata to include in metadata."
   ]
  },
  {
   "cell_type": "code",
   "execution_count": 13,
   "metadata": {},
   "outputs": [],
   "source": [
    "def parse_generic_header(filename, params):\n",
    "    \"\"\"\n",
    "    Given a binary file with phrases and line breaks, enters the\n",
    "    first word of a phrase as dictionary key and the following\n",
    "    string (without linebreaks) as value. Returns the dictionary.\n",
    "    \n",
    "    INPUT\n",
    "    filename (str): .set file path and name.\n",
    "    params (list or set): parameter names to search for. \n",
    "    \n",
    "    OUTPUT\n",
    "    header (dict): dictionary with keys being the parameters that\n",
    "                   were found & values being strings of the data.\n",
    "                   \n",
    "    EXAMPLE\n",
    "    parse_generic_header('myset_file.set', ['experimenter', 'trial_time'])\n",
    "    \"\"\"\n",
    "    header = {}\n",
    "    params = set(params)\n",
    "    with open(filename, 'rb') as f:\n",
    "        for bin_line in f:\n",
    "            if b'data_start' in bin_line:\n",
    "                break\n",
    "            line = bin_line.decode('cp1252').replace('\\r\\n', '').replace('\\r', '').strip()\n",
    "            parts = line.split(' ')\n",
    "            key = parts[0]\n",
    "            if key in params:\n",
    "                header[key] = ' '.join(parts[1:])\n",
    "            \n",
    "    return header"
   ]
  },
  {
   "cell_type": "code",
   "execution_count": 14,
   "metadata": {},
   "outputs": [],
   "source": [
    "params_of_interest = [\n",
    "    'experimenter', \n",
    "    'comments',\n",
    "    'duration', \n",
    "    'sw_version',\n",
    "    'tracker_version',\n",
    "    'stim_version',\n",
    "    'audio_version'\n",
    "]"
   ]
  },
  {
   "cell_type": "code",
   "execution_count": 15,
   "metadata": {},
   "outputs": [
    {
     "data": {
      "text/plain": [
       "{'experimenter': 'Abid',\n",
       " 'comments': '',\n",
       " 'duration': '600.00625',\n",
       " 'sw_version': '1.2.2.16',\n",
       " 'tracker_version': '0',\n",
       " 'stim_version': '1',\n",
       " 'audio_version': '0'}"
      ]
     },
     "execution_count": 15,
     "metadata": {},
     "output_type": "execute_result"
    }
   ],
   "source": [
    "parse_generic_header(set_file, params_of_interest)"
   ]
  },
  {
   "cell_type": "code",
   "execution_count": 16,
   "metadata": {},
   "outputs": [],
   "source": [
    "def read_iso_datetime(set_file):\n",
    "    \"\"\" \n",
    "    Creates datetime object (y, m, d, h, m, s) from .set file header \n",
    "    \"\"\"\n",
    "    with open(set_file, 'r', encoding='cp1252') as f:\n",
    "        for line in f:\n",
    "            if line.startswith('trial_date'):\n",
    "                date_string = re.findall(r'\\d+\\s\\w+\\s\\d{4}$', line)[0]\n",
    "            if line.startswith('trial_time'):\n",
    "                time_string = line[len('trial_time')+1::].replace('\\n', '')\n",
    "\n",
    "    return datetime.datetime.strptime(date_string + ', ' + time_string, \\\n",
    "        \"%d %b %Y, %H:%M:%S\").isoformat()"
   ]
  },
  {
   "cell_type": "code",
   "execution_count": 17,
   "metadata": {},
   "outputs": [],
   "source": [
    "class AxonaRecordingExtractorInterface(BaseRecordingExtractorInterface):\n",
    "    \"\"\"Primary data interface class for converting a AxonaRecordingExtractor.\"\"\"\n",
    "\n",
    "    RX = se.AxonaRecordingExtractor\n",
    "\n",
    "    @classmethod\n",
    "    def get_source_schema(cls):\n",
    "        source_schema = {\n",
    "            'required': ['filename'],\n",
    "            'properties': {\n",
    "                'filename': {\n",
    "                    'type': 'string',\n",
    "                    'format': 'file',\n",
    "                    'description': 'Path to Axona files.'\n",
    "                }\n",
    "            },\n",
    "            'type': 'object',\n",
    "            'additionalProperties': True\n",
    "        }\n",
    "        return source_schema\n",
    "        \n",
    "    def get_metadata(self):\n",
    "        \"\"\"Auto-fill as much of the metadata as possible. Must comply with metadata schema.\"\"\"        \n",
    "                \n",
    "        # Extract information for specific parameters from .set file\n",
    "        params_of_interest = [\n",
    "            'experimenter', \n",
    "            'comments',\n",
    "            'duration', \n",
    "            'sw_version',\n",
    "            'tracker_version',\n",
    "            'stim_version',\n",
    "            'audio_version'\n",
    "        ]\n",
    "        set_file = self.source_data['filename']+'.set'\n",
    "        par = parse_generic_header(set_file, params_of_interest)\n",
    "        \n",
    "        # Extract information from AxonaRecordingExtractor\n",
    "        elec_group_names = self.recording_extractor.get_channel_groups()\n",
    "        unique_elec_group_names = set(elec_group_names)\n",
    "        \n",
    "        # Add available metadata\n",
    "        metadata = super().get_metadata()\n",
    "        metadata['NWBFile'] = dict(\n",
    "            session_start_time=read_iso_datetime(set_file),\n",
    "            session_description=par['comments'],\n",
    "            session_duration=par['duration']+'s',\n",
    "            experimenter=[par['experimenter']]\n",
    "        )\n",
    "        \n",
    "        metadata['Ecephys'] = dict(\n",
    "            Device=[\n",
    "                dict(\n",
    "                    name=\"Axona\",\n",
    "                    description=\"Axona DacqUSB, sw_version={}\".format(par['sw_version']),\n",
    "                    manufacturer=\"Axona\"\n",
    "                ),\n",
    "            ],\n",
    "            ElectrodeGroup=[\n",
    "                dict(\n",
    "                    name=f'Group{group_name}',\n",
    "                    location='',\n",
    "                    device='Axona',\n",
    "                    description=f\"Group {group_name} electrodes.\",\n",
    "                )\n",
    "                for group_name in unique_elec_group_names\n",
    "            ],\n",
    "            Electrodes=[\n",
    "                dict(\n",
    "                    name='group_name',\n",
    "                    description=\"The name of the ElectrodeGroup this electrode is a part of.\",\n",
    "                    data=[f\"Group{x}\" for x in elec_group_names]\n",
    "                )\n",
    "            ],\n",
    "            ElectricalSeries=dict(\n",
    "                name='ElectricalSeries',\n",
    "                description=\"Raw acquisition traces.\"\n",
    "            )\n",
    "        )\n",
    "  \n",
    "        return metadata"
   ]
  },
  {
   "cell_type": "code",
   "execution_count": 38,
   "metadata": {},
   "outputs": [],
   "source": [
    "\"\"\"Authors: Steffen Buergers\"\"\"\n",
    "import re\n",
    "import datetime\n",
    "import spikeextractors as se\n",
    "\n",
    "from pynwb.ecephys import ElectricalSeries\n",
    "from nwb_conversion_tools.utils import get_schema_from_hdmf_class\n",
    "from nwb_conversion_tools.baserecordingextractorinterface import BaseRecordingExtractorInterface\n",
    "\n",
    "\n",
    "def parse_generic_header(filename, params):\n",
    "    \"\"\"\n",
    "    Given a binary file with phrases and line breaks, enters the\n",
    "    first word of a phrase as dictionary key and the following\n",
    "    string (without linebreaks) as value. Returns the dictionary.\n",
    "\n",
    "    INPUT\n",
    "    filename (str): .set file path and name.\n",
    "    params (list or set): parameter names to search for.\n",
    "\n",
    "    OUTPUT\n",
    "    header (dict): dictionary with keys being the parameters that\n",
    "                   were found & values being strings of the data.\n",
    "\n",
    "    EXAMPLE\n",
    "    parse_generic_header('myset_file.set', ['experimenter', 'trial_time'])\n",
    "    \"\"\"\n",
    "    header = {}\n",
    "    params = set(params)\n",
    "    with open(filename, 'rb') as f:\n",
    "        for bin_line in f:\n",
    "            if b'data_start' in bin_line:\n",
    "                break\n",
    "            line = bin_line.decode('cp1252').replace('\\r\\n', '').\\\n",
    "                replace('\\r', '').strip()\n",
    "            parts = line.split(' ')\n",
    "            key = parts[0]\n",
    "            if key in params:\n",
    "                header[key] = ' '.join(parts[1:])\n",
    "\n",
    "    return header\n",
    "\n",
    "\n",
    "def read_iso_datetime(set_file):\n",
    "    \"\"\"\n",
    "    Creates datetime object (y, m, d, h, m, s) from .set file header\n",
    "    and converts it to ISO 8601 format\n",
    "    \"\"\"\n",
    "    with open(set_file, 'r', encoding='cp1252') as f:\n",
    "        for line in f:\n",
    "            if line.startswith('trial_date'):\n",
    "                date_string = re.findall(r'\\d+\\s\\w+\\s\\d{4}$', line)[0]\n",
    "            if line.startswith('trial_time'):\n",
    "                time_string = line[len('trial_time')+1::].replace('\\n', '')\n",
    "\n",
    "    return datetime.datetime.strptime(date_string + ', ' + time_string,\n",
    "                                      \"%d %b %Y, %H:%M:%S\").isoformat()\n",
    "\n",
    "\n",
    "class AxonaRecordingExtractorInterface(BaseRecordingExtractorInterface):\n",
    "    \"\"\"Primary data interface class for converting a AxonaRecordingExtractor\"\"\"\n",
    "\n",
    "    RX = se.AxonaRecordingExtractor\n",
    "\n",
    "    @classmethod\n",
    "    def get_source_schema(cls):\n",
    "        source_schema = {\n",
    "            'required': ['filename'],\n",
    "            'properties': {\n",
    "                'filename': {\n",
    "                    'type': 'string',\n",
    "                    'format': 'file',\n",
    "                    'description': 'Path to Axona files.'\n",
    "                }\n",
    "            },\n",
    "            'type': 'object',\n",
    "            'additionalProperties': True\n",
    "        }\n",
    "        return source_schema\n",
    "    \n",
    "    def get_metadata_schema(self):\n",
    "        metadata_schema = super().get_metadata_schema()\n",
    "        \n",
    "        # Update Ecephys metadata\n",
    "        Electrodes = {\n",
    "            \"required\": [\n",
    "                \"name\",\n",
    "                \"description\",\n",
    "                \"data\"\n",
    "            ],\n",
    "            \"properties\": {\n",
    "                \"name\": {\n",
    "                    \"description\": \"Electrode group name this electrode is a part of.\",\n",
    "                    \"type\": \"string\"\n",
    "                },\n",
    "                \"description\": {\n",
    "                    \"description\": \"Description of this electrode group\",\n",
    "                    \"type\": \"string\"\n",
    "                },\n",
    "                \"data\": {\n",
    "                    \"description\": \"Electrode group name for each electrode.\",\n",
    "                    \"type\": \"array\",\n",
    "                }\n",
    "            },\n",
    "            \"type\": \"array\",\n",
    "            \"additionalProperties\": False,\n",
    "            \"tag\": \"Electrodes\"\n",
    "        }\n",
    "        \n",
    "        metadata_schema['properties']['Ecephys']['properties'][\"definitions\"].update(\n",
    "            dict(\n",
    "                Electrodes=Electrodes,\n",
    "                ElectricalSeries=get_schema_from_hdmf_class(ElectricalSeries),\n",
    "            )\n",
    "        )      \n",
    "\n",
    "        metadata_schema['properties']['Ecephys']['required'].extend(\n",
    "            ['Electrodes', 'ElectricalSeries']\n",
    "        )\n",
    "        metadata_schema['properties']['Ecephys']['properties'].update(\n",
    "            dict(\n",
    "                Electrodes=dict(\n",
    "                    type=\"array\",\n",
    "                    minItems=1,\n",
    "                    items={\"$ref\": \"#/properties/Ecephys/properties/definitions/Electrodes\"}\n",
    "                ),\n",
    "                ElectricalSeries=dict(\n",
    "                    type=\"array\",\n",
    "                    minItems=1,\n",
    "                    items={\"$ref\": \"#/properties/Ecephys/properties/definitions/ElectricalSeries\"}\n",
    "                )\n",
    "            )\n",
    "        )  \n",
    "        \n",
    "        return metadata_schema\n",
    "\n",
    "    def get_metadata(self):\n",
    "\n",
    "        # Extract information for specific parameters from .set file\n",
    "        params_of_interest = [\n",
    "            'experimenter',\n",
    "            'comments',\n",
    "            'duration',\n",
    "            'sw_version'\n",
    "        ]\n",
    "        set_file = self.source_data['filename'].split('.')[0]+'.set'\n",
    "        par = parse_generic_header(set_file, params_of_interest)\n",
    "\n",
    "        # Extract information from AxonaRecordingExtractor\n",
    "        elec_group_names = self.recording_extractor.get_channel_groups()\n",
    "        unique_elec_group_names = set(elec_group_names)\n",
    "\n",
    "        # Add available metadata\n",
    "        metadata = super().get_metadata()\n",
    "        metadata['NWBFile'] = dict(\n",
    "            session_start_time=read_iso_datetime(set_file),\n",
    "            session_description=par['comments'],\n",
    "            #session_duration=par['duration']+'s',\n",
    "            experimenter=[par['experimenter']]\n",
    "        )\n",
    "\n",
    "        metadata['Ecephys'] = dict(\n",
    "            Device=[\n",
    "                dict(\n",
    "                    name=\"Axona\",\n",
    "                    description=\"Axona DacqUSB, sw_version={}\"\n",
    "                                .format(par['sw_version']),\n",
    "                    manufacturer=\"Axona\"\n",
    "                ),\n",
    "            ],\n",
    "            ElectrodeGroup=[\n",
    "                dict(\n",
    "                    name=f'Group{group_name}',\n",
    "                    location='',\n",
    "                    device='Axona',\n",
    "                    description=f\"Group {group_name} electrodes.\",\n",
    "                )\n",
    "                for group_name in unique_elec_group_names\n",
    "            ],\n",
    "            Electrodes=[\n",
    "                dict(\n",
    "                    name='group_name',\n",
    "                    description=\"The name of the ElectrodeGroup this electrode is a part of.\",\n",
    "                    data=[f\"Group{x}\" for x in elec_group_names]\n",
    "                )\n",
    "            ],\n",
    "            ElectricalSeries=dict(\n",
    "                name='ElectricalSeries',\n",
    "                description=\"Raw acquisition traces.\"\n",
    "            )\n",
    "        )\n",
    "\n",
    "        return metadata"
   ]
  },
  {
   "cell_type": "code",
   "execution_count": 73,
   "metadata": {},
   "outputs": [],
   "source": [
    "\"\"\"Authors: Steffen Buergers\"\"\"\n",
    "import re\n",
    "import datetime\n",
    "import spikeextractors as se\n",
    "\n",
    "from pynwb.ecephys import ElectricalSeries\n",
    "from nwb_conversion_tools.utils import get_schema_from_hdmf_class\n",
    "from nwb_conversion_tools.baserecordingextractorinterface import BaseRecordingExtractorInterface\n",
    "\n",
    "\n",
    "def parse_generic_header(filename, params):\n",
    "    \"\"\"\n",
    "    Given a binary file with phrases and line breaks, enters the\n",
    "    first word of a phrase as dictionary key and the following\n",
    "    string (without linebreaks) as value. Returns the dictionary.\n",
    "\n",
    "    INPUT\n",
    "    filename (str): .set file path and name.\n",
    "    params (list or set): parameter names to search for.\n",
    "\n",
    "    OUTPUT\n",
    "    header (dict): dictionary with keys being the parameters that\n",
    "                   were found & values being strings of the data.\n",
    "\n",
    "    EXAMPLE\n",
    "    parse_generic_header('myset_file.set', ['experimenter', 'trial_time'])\n",
    "    \"\"\"\n",
    "    header = {}\n",
    "    params = set(params)\n",
    "    with open(filename, 'rb') as f:\n",
    "        for bin_line in f:\n",
    "            if b'data_start' in bin_line:\n",
    "                break\n",
    "            line = bin_line.decode('cp1252').replace('\\r\\n', '').\\\n",
    "                replace('\\r', '').strip()\n",
    "            parts = line.split(' ')\n",
    "            key = parts[0]\n",
    "            if key in params:\n",
    "                header[key] = ' '.join(parts[1:])\n",
    "\n",
    "    return header\n",
    "\n",
    "\n",
    "def read_iso_datetime(set_file):\n",
    "    \"\"\"\n",
    "    Creates datetime object (y, m, d, h, m, s) from .set file header\n",
    "    and converts it to ISO 8601 format\n",
    "    \"\"\"\n",
    "    with open(set_file, 'r', encoding='cp1252') as f:\n",
    "        for line in f:\n",
    "            if line.startswith('trial_date'):\n",
    "                date_string = re.findall(r'\\d+\\s\\w+\\s\\d{4}$', line)[0]\n",
    "            if line.startswith('trial_time'):\n",
    "                time_string = line[len('trial_time')+1::].replace('\\n', '')\n",
    "\n",
    "    return datetime.datetime.strptime(date_string + ', ' + time_string,\n",
    "                                      \"%d %b %Y, %H:%M:%S\").isoformat()\n",
    "\n",
    "\n",
    "class AxonaRecordingExtractorInterface(BaseRecordingExtractorInterface):\n",
    "    \"\"\"Primary data interface class for converting a AxonaRecordingExtractor\"\"\"\n",
    "\n",
    "    RX = se.AxonaRecordingExtractor\n",
    "\n",
    "    @classmethod\n",
    "    def get_source_schema(cls):\n",
    "        source_schema = {\n",
    "            'required': ['filename'],\n",
    "            'properties': {\n",
    "                'filename': {\n",
    "                    'type': 'string',\n",
    "                    'format': 'file',\n",
    "                    'description': 'Path to Axona files.'\n",
    "                }\n",
    "            },\n",
    "            'type': 'object',\n",
    "            'additionalProperties': True\n",
    "        }\n",
    "        return source_schema\n",
    "    \n",
    "    def get_metadata_schema(self):\n",
    "        metadata_schema = super().get_metadata_schema()\n",
    "        \n",
    "        # Update Ecephys metadata\n",
    "        Electrodes = {\n",
    "            \"required\": [\n",
    "                \"name\",\n",
    "                \"description\",\n",
    "                \"data\"\n",
    "            ],\n",
    "            \"properties\": {\n",
    "                \"name\": {\n",
    "                    \"description\": \"Electrode group name this electrode is a part of.\",\n",
    "                    \"type\": \"string\"\n",
    "                },\n",
    "                \"description\": {\n",
    "                    \"description\": \"Description of this electrode group\",\n",
    "                    \"type\": \"string\"\n",
    "                },\n",
    "                \"data\": {\n",
    "                    \"description\": \"Electrode group name for each electrode.\",\n",
    "                    \"type\": \"array\",\n",
    "                }\n",
    "            },\n",
    "            \"type\": \"array\",\n",
    "            \"additionalProperties\": False,\n",
    "            \"tag\": \"Electrodes\"\n",
    "        }\n",
    "        \n",
    "        metadata_schema['properties']['Ecephys']['properties'].update(\n",
    "            Electrodes=Electrodes,\n",
    "            ElectricalSeries=get_schema_from_hdmf_class(ElectricalSeries),\n",
    "        )\n",
    "\n",
    "        return metadata_schema\n",
    "\n",
    "    def get_metadata(self):\n",
    "\n",
    "        # Extract information for specific parameters from .set file\n",
    "        params_of_interest = [\n",
    "            'experimenter',\n",
    "            'comments',\n",
    "            'duration',\n",
    "            'sw_version'\n",
    "        ]\n",
    "        set_file = self.source_data['filename'].split('.')[0]+'.set'\n",
    "        par = parse_generic_header(set_file, params_of_interest)\n",
    "\n",
    "        # Extract information from AxonaRecordingExtractor\n",
    "        elec_group_names = self.recording_extractor.get_channel_groups()\n",
    "        unique_elec_group_names = set(elec_group_names)\n",
    "\n",
    "        # Add available metadata\n",
    "        metadata = super().get_metadata()\n",
    "        metadata['NWBFile'] = dict(\n",
    "            session_start_time=read_iso_datetime(set_file),\n",
    "            session_description=par['comments'],\n",
    "            #session_duration=par['duration']+'s',\n",
    "            experimenter=[par['experimenter']]\n",
    "        )\n",
    "\n",
    "        metadata['Ecephys'] = dict(\n",
    "            Device=[\n",
    "                dict(\n",
    "                    name=\"Axona\",\n",
    "                    description=\"Axona DacqUSB, sw_version={}\"\n",
    "                                .format(par['sw_version']),\n",
    "                    manufacturer=\"Axona\"\n",
    "                ),\n",
    "            ],\n",
    "            ElectrodeGroup=[\n",
    "                dict(\n",
    "                    name=f'Group{group_name}',\n",
    "                    location='',\n",
    "                    device='Axona',\n",
    "                    description=f\"Group {group_name} electrodes.\",\n",
    "                )\n",
    "                for group_name in unique_elec_group_names\n",
    "            ],\n",
    "            Electrodes=[\n",
    "                dict(\n",
    "                    name='group_name',\n",
    "                    description=\"The name of the ElectrodeGroup this electrode is a part of.\",\n",
    "                    data=[f\"Group{x}\" for x in elec_group_names]\n",
    "                )\n",
    "            ],\n",
    "            ElectricalSeries=dict(\n",
    "                name='ElectricalSeries',\n",
    "                description=\"Raw acquisition traces.\"\n",
    "            )\n",
    "        )\n",
    "\n",
    "        return metadata"
   ]
  },
  {
   "cell_type": "code",
   "execution_count": 74,
   "metadata": {},
   "outputs": [],
   "source": [
    "RXI = AxonaRecordingExtractorInterface(filename=filename)"
   ]
  },
  {
   "cell_type": "code",
   "execution_count": 75,
   "metadata": {},
   "outputs": [
    {
     "data": {
      "text/plain": [
       "{'NWBFile': {'session_start_time': '2020-10-04T11:07:07',\n",
       "  'session_description': '',\n",
       "  'experimenter': ['Abid']},\n",
       " 'Ecephys': {'Device': [{'name': 'Axona',\n",
       "    'description': 'Axona DacqUSB, sw_version=1.2.2.16',\n",
       "    'manufacturer': 'Axona'}],\n",
       "  'ElectrodeGroup': [{'name': 'Group0',\n",
       "    'location': '',\n",
       "    'device': 'Axona',\n",
       "    'description': 'Group 0 electrodes.'},\n",
       "   {'name': 'Group1',\n",
       "    'location': '',\n",
       "    'device': 'Axona',\n",
       "    'description': 'Group 1 electrodes.'},\n",
       "   {'name': 'Group2',\n",
       "    'location': '',\n",
       "    'device': 'Axona',\n",
       "    'description': 'Group 2 electrodes.'},\n",
       "   {'name': 'Group3',\n",
       "    'location': '',\n",
       "    'device': 'Axona',\n",
       "    'description': 'Group 3 electrodes.'}],\n",
       "  'Electrodes': [{'name': 'group_name',\n",
       "    'description': 'The name of the ElectrodeGroup this electrode is a part of.',\n",
       "    'data': ['Group0',\n",
       "     'Group0',\n",
       "     'Group0',\n",
       "     'Group0',\n",
       "     'Group1',\n",
       "     'Group1',\n",
       "     'Group1',\n",
       "     'Group1',\n",
       "     'Group2',\n",
       "     'Group2',\n",
       "     'Group2',\n",
       "     'Group2',\n",
       "     'Group3',\n",
       "     'Group3',\n",
       "     'Group3',\n",
       "     'Group3']}],\n",
       "  'ElectricalSeries': {'name': 'ElectricalSeries',\n",
       "   'description': 'Raw acquisition traces.'}}}"
      ]
     },
     "execution_count": 75,
     "metadata": {},
     "output_type": "execute_result"
    }
   ],
   "source": [
    "RXI.get_metadata()"
   ]
  },
  {
   "cell_type": "code",
   "execution_count": 76,
   "metadata": {},
   "outputs": [],
   "source": [
    "base_metadata_schema = RXI.get_metadata_schema()"
   ]
  },
  {
   "cell_type": "code",
   "execution_count": 77,
   "metadata": {},
   "outputs": [
    {
     "name": "stdout",
     "output_type": "stream",
     "text": [
      "{\n",
      "  \"required\": [],\n",
      "  \"properties\": {\n",
      "    \"Ecephys\": {\n",
      "      \"required\": [\n",
      "        \"Device\",\n",
      "        \"ElectrodeGroup\"\n",
      "      ],\n",
      "      \"properties\": {\n",
      "        \"Device\": {\n",
      "          \"type\": \"array\",\n",
      "          \"minItems\": 1,\n",
      "          \"items\": {\n",
      "            \"$ref\": \"#/properties/Ecephys/properties/definitions/Device\"\n",
      "          }\n",
      "        },\n",
      "        \"ElectrodeGroup\": {\n",
      "          \"type\": \"array\",\n",
      "          \"minItems\": 1,\n",
      "          \"items\": {\n",
      "            \"$ref\": \"#/properties/Ecephys/properties/definitions/ElectrodeGroup\"\n",
      "          }\n",
      "        },\n",
      "        \"definitions\": {\n",
      "          \"Device\": {\n",
      "            \"required\": [\n",
      "              \"name\"\n",
      "            ],\n",
      "            \"properties\": {\n",
      "              \"name\": {\n",
      "                \"description\": \"the name of this device\",\n",
      "                \"type\": \"string\"\n",
      "              },\n",
      "              \"description\": {\n",
      "                \"description\": \"Description of the device (e.g., model, firmware version, processing software version, etc.)\",\n",
      "                \"type\": \"string\"\n",
      "              },\n",
      "              \"manufacturer\": {\n",
      "                \"description\": \"the name of the manufacturer of this device\",\n",
      "                \"type\": \"string\"\n",
      "              }\n",
      "            },\n",
      "            \"type\": \"object\",\n",
      "            \"additionalProperties\": false,\n",
      "            \"tag\": \"pynwb.device.Device\"\n",
      "          },\n",
      "          \"ElectrodeGroup\": {\n",
      "            \"required\": [\n",
      "              \"name\",\n",
      "              \"description\",\n",
      "              \"location\",\n",
      "              \"device\"\n",
      "            ],\n",
      "            \"properties\": {\n",
      "              \"name\": {\n",
      "                \"description\": \"the name of this electrode\",\n",
      "                \"type\": \"string\"\n",
      "              },\n",
      "              \"description\": {\n",
      "                \"description\": \"description of this electrode group\",\n",
      "                \"type\": \"string\"\n",
      "              },\n",
      "              \"location\": {\n",
      "                \"description\": \"description of location of this electrode group\",\n",
      "                \"type\": \"string\"\n",
      "              },\n",
      "              \"device\": {\n",
      "                \"description\": \"the device that was used to record from this electrode group\",\n",
      "                \"type\": \"string\",\n",
      "                \"target\": \"pynwb.device.Device\"\n",
      "              }\n",
      "            },\n",
      "            \"type\": \"object\",\n",
      "            \"additionalProperties\": false,\n",
      "            \"tag\": \"pynwb.ecephys.ElectrodeGroup\"\n",
      "          }\n",
      "        },\n",
      "        \"Electrodes\": {\n",
      "          \"required\": [\n",
      "            \"name\",\n",
      "            \"description\",\n",
      "            \"data\"\n",
      "          ],\n",
      "          \"properties\": {\n",
      "            \"name\": {\n",
      "              \"description\": \"Electrode group name this electrode is a part of.\",\n",
      "              \"type\": \"string\"\n",
      "            },\n",
      "            \"description\": {\n",
      "              \"description\": \"Description of this electrode group\",\n",
      "              \"type\": \"string\"\n",
      "            },\n",
      "            \"data\": {\n",
      "              \"description\": \"Electrode group name for each electrode.\",\n",
      "              \"type\": \"array\"\n",
      "            }\n",
      "          },\n",
      "          \"type\": \"array\",\n",
      "          \"additionalProperties\": false,\n",
      "          \"tag\": \"Electrodes\"\n",
      "        },\n",
      "        \"ElectricalSeries\": {\n",
      "          \"required\": [\n",
      "            \"name\"\n",
      "          ],\n",
      "          \"properties\": {\n",
      "            \"name\": {\n",
      "              \"description\": \"The name of this TimeSeries dataset\",\n",
      "              \"type\": \"string\"\n",
      "            },\n",
      "            \"resolution\": {\n",
      "              \"description\": \"The smallest meaningful difference (in specified unit) between values in data\",\n",
      "              \"type\": \"number\",\n",
      "              \"default\": -1.0\n",
      "            },\n",
      "            \"conversion\": {\n",
      "              \"description\": \"Scalar to multiply each element in data to convert it to the specified unit\",\n",
      "              \"type\": \"number\",\n",
      "              \"default\": 1.0\n",
      "            },\n",
      "            \"starting_time\": {\n",
      "              \"description\": \"The timestamp of the first sample\",\n",
      "              \"type\": \"number\"\n",
      "            },\n",
      "            \"rate\": {\n",
      "              \"description\": \"Sampling rate in Hz\",\n",
      "              \"type\": \"number\"\n",
      "            },\n",
      "            \"comments\": {\n",
      "              \"description\": \"Human-readable comments about this TimeSeries dataset\",\n",
      "              \"type\": \"string\",\n",
      "              \"default\": \"no comments\"\n",
      "            },\n",
      "            \"description\": {\n",
      "              \"description\": \"Description of this TimeSeries dataset\",\n",
      "              \"type\": \"string\",\n",
      "              \"default\": \"no description\"\n",
      "            }\n",
      "          },\n",
      "          \"type\": \"object\",\n",
      "          \"additionalProperties\": false,\n",
      "          \"tag\": \"pynwb.ecephys.ElectricalSeries\"\n",
      "        }\n",
      "      },\n",
      "      \"type\": \"object\",\n",
      "      \"additionalProperties\": false,\n",
      "      \"tag\": \"Ecephys\"\n",
      "    }\n",
      "  },\n",
      "  \"type\": \"object\",\n",
      "  \"additionalProperties\": false,\n",
      "  \"$schema\": \"http://json-schema.org/draft-07/schema#\",\n",
      "  \"$id\": \"metadata.schema.json\",\n",
      "  \"title\": \"Metadata\",\n",
      "  \"description\": \"Schema for the metadata\",\n",
      "  \"version\": \"0.1.0\"\n",
      "}\n"
     ]
    }
   ],
   "source": [
    "print(json.dumps(base_metadata_schema, indent=2))"
   ]
  },
  {
   "cell_type": "code",
   "execution_count": 78,
   "metadata": {},
   "outputs": [
    {
     "ename": "ValidationError",
     "evalue": "Additional properties are not allowed ('NWBFile' was unexpected)\n\nFailed validating 'additionalProperties' in schema:\n    {'$id': 'metadata.schema.json',\n     '$schema': 'http://json-schema.org/draft-07/schema#',\n     'additionalProperties': False,\n     'description': 'Schema for the metadata',\n     'properties': {'Ecephys': {'additionalProperties': False,\n                                'properties': {'Device': {'items': {'$ref': '#/properties/Ecephys/properties/definitions/Device'},\n                                                          'minItems': 1,\n                                                          'type': 'array'},\n                                               'ElectricalSeries': {'additionalProperties': False,\n                                                                    'properties': {'comments': {'default': 'no '\n                                                                                                           'comments',\n                                                                                                'description': 'Human-readable '\n                                                                                                               'comments '\n                                                                                                               'about '\n                                                                                                               'this '\n                                                                                                               'TimeSeries '\n                                                                                                               'dataset',\n                                                                                                'type': 'string'},\n                                                                                   'conversion': {'default': 1.0,\n                                                                                                  'description': 'Scalar '\n                                                                                                                 'to '\n                                                                                                                 'multiply '\n                                                                                                                 'each '\n                                                                                                                 'element '\n                                                                                                                 'in '\n                                                                                                                 'data '\n                                                                                                                 'to '\n                                                                                                                 'convert '\n                                                                                                                 'it '\n                                                                                                                 'to '\n                                                                                                                 'the '\n                                                                                                                 'specified '\n                                                                                                                 'unit',\n                                                                                                  'type': 'number'},\n                                                                                   'description': {'default': 'no '\n                                                                                                              'description',\n                                                                                                   'description': 'Description '\n                                                                                                                  'of '\n                                                                                                                  'this '\n                                                                                                                  'TimeSeries '\n                                                                                                                  'dataset',\n                                                                                                   'type': 'string'},\n                                                                                   'name': {'description': 'The '\n                                                                                                           'name '\n                                                                                                           'of '\n                                                                                                           'this '\n                                                                                                           'TimeSeries '\n                                                                                                           'dataset',\n                                                                                            'type': 'string'},\n                                                                                   'rate': {'description': 'Sampling '\n                                                                                                           'rate '\n                                                                                                           'in '\n                                                                                                           'Hz',\n                                                                                            'type': 'number'},\n                                                                                   'resolution': {'default': -1.0,\n                                                                                                  'description': 'The '\n                                                                                                                 'smallest '\n                                                                                                                 'meaningful '\n                                                                                                                 'difference '\n                                                                                                                 '(in '\n                                                                                                                 'specified '\n                                                                                                                 'unit) '\n                                                                                                                 'between '\n                                                                                                                 'values '\n                                                                                                                 'in '\n                                                                                                                 'data',\n                                                                                                  'type': 'number'},\n                                                                                   'starting_time': {'description': 'The '\n                                                                                                                    'timestamp '\n                                                                                                                    'of '\n                                                                                                                    'the '\n                                                                                                                    'first '\n                                                                                                                    'sample',\n                                                                                                     'type': 'number'}},\n                                                                    'required': ['name'],\n                                                                    'tag': 'pynwb.ecephys.ElectricalSeries',\n                                                                    'type': 'object'},\n                                               'ElectrodeGroup': {'items': {'$ref': '#/properties/Ecephys/properties/definitions/ElectrodeGroup'},\n                                                                  'minItems': 1,\n                                                                  'type': 'array'},\n                                               'Electrodes': {'additionalProperties': False,\n                                                              'properties': {'data': {'description': 'Electrode '\n                                                                                                     'group '\n                                                                                                     'name '\n                                                                                                     'for '\n                                                                                                     'each '\n                                                                                                     'electrode.',\n                                                                                      'type': 'array'},\n                                                                             'description': {'description': 'Description '\n                                                                                                            'of '\n                                                                                                            'this '\n                                                                                                            'electrode '\n                                                                                                            'group',\n                                                                                             'type': 'string'},\n                                                                             'name': {'description': 'Electrode '\n                                                                                                     'group '\n                                                                                                     'name '\n                                                                                                     'this '\n                                                                                                     'electrode '\n                                                                                                     'is '\n                                                                                                     'a '\n                                                                                                     'part '\n                                                                                                     'of.',\n                                                                                      'type': 'string'}},\n                                                              'required': ['name',\n                                                                           'description',\n                                                                           'data'],\n                                                              'tag': 'Electrodes',\n                                                              'type': 'array'},\n                                               'definitions': {'Device': {'additionalProperties': False,\n                                                                          'properties': {'description': {'description': 'Description '\n                                                                                                                        'of '\n                                                                                                                        'the '\n                                                                                                                        'device '\n                                                                                                                        '(e.g., '\n                                                                                                                        'model, '\n                                                                                                                        'firmware '\n                                                                                                                        'version, '\n                                                                                                                        'processing '\n                                                                                                                        'software '\n                                                                                                                        'version, '\n                                                                                                                        'etc.)',\n                                                                                                         'type': 'string'},\n                                                                                         'manufacturer': {'description': 'the '\n                                                                                                                         'name '\n                                                                                                                         'of '\n                                                                                                                         'the '\n                                                                                                                         'manufacturer '\n                                                                                                                         'of '\n                                                                                                                         'this '\n                                                                                                                         'device',\n                                                                                                          'type': 'string'},\n                                                                                         'name': {'description': 'the '\n                                                                                                                 'name '\n                                                                                                                 'of '\n                                                                                                                 'this '\n                                                                                                                 'device',\n                                                                                                  'type': 'string'}},\n                                                                          'required': ['name'],\n                                                                          'tag': 'pynwb.device.Device',\n                                                                          'type': 'object'},\n                                                               'ElectrodeGroup': {'additionalProperties': False,\n                                                                                  'properties': {'description': {'description': 'description '\n                                                                                                                                'of '\n                                                                                                                                'this '\n                                                                                                                                'electrode '\n                                                                                                                                'group',\n                                                                                                                 'type': 'string'},\n                                                                                                 'device': {'description': 'the '\n                                                                                                                           'device '\n                                                                                                                           'that '\n                                                                                                                           'was '\n                                                                                                                           'used '\n                                                                                                                           'to '\n                                                                                                                           'record '\n                                                                                                                           'from '\n                                                                                                                           'this '\n                                                                                                                           'electrode '\n                                                                                                                           'group',\n                                                                                                            'target': 'pynwb.device.Device',\n                                                                                                            'type': 'string'},\n                                                                                                 'location': {'description': 'description '\n                                                                                                                             'of '\n                                                                                                                             'location '\n                                                                                                                             'of '\n                                                                                                                             'this '\n                                                                                                                             'electrode '\n                                                                                                                             'group',\n                                                                                                              'type': 'string'},\n                                                                                                 'name': {'description': 'the '\n                                                                                                                         'name '\n                                                                                                                         'of '\n                                                                                                                         'this '\n                                                                                                                         'electrode',\n                                                                                                          'type': 'string'}},\n                                                                                  'required': ['name',\n                                                                                               'description',\n                                                                                               'location',\n                                                                                               'device'],\n                                                                                  'tag': 'pynwb.ecephys.ElectrodeGroup',\n                                                                                  'type': 'object'}}},\n                                'required': ['Device', 'ElectrodeGroup'],\n                                'tag': 'Ecephys',\n                                'type': 'object'}},\n     'required': [],\n     'title': 'Metadata',\n     'type': 'object',\n     'version': '0.1.0'}\n\nOn instance:\n    {'Ecephys': {'Device': [{'description': 'Axona DacqUSB, '\n                                            'sw_version=1.2.2.16',\n                             'manufacturer': 'Axona',\n                             'name': 'Axona'}],\n                 'ElectricalSeries': {'description': 'Raw acquisition '\n                                                     'traces.',\n                                      'name': 'ElectricalSeries'},\n                 'ElectrodeGroup': [{'description': 'Group 0 electrodes.',\n                                     'device': 'Axona',\n                                     'location': '',\n                                     'name': 'Group0'},\n                                    {'description': 'Group 1 electrodes.',\n                                     'device': 'Axona',\n                                     'location': '',\n                                     'name': 'Group1'},\n                                    {'description': 'Group 2 electrodes.',\n                                     'device': 'Axona',\n                                     'location': '',\n                                     'name': 'Group2'},\n                                    {'description': 'Group 3 electrodes.',\n                                     'device': 'Axona',\n                                     'location': '',\n                                     'name': 'Group3'}],\n                 'Electrodes': [{'data': ['Group0',\n                                          'Group0',\n                                          'Group0',\n                                          'Group0',\n                                          'Group1',\n                                          'Group1',\n                                          'Group1',\n                                          'Group1',\n                                          'Group2',\n                                          'Group2',\n                                          'Group2',\n                                          'Group2',\n                                          'Group3',\n                                          'Group3',\n                                          'Group3',\n                                          'Group3'],\n                                 'description': 'The name of the '\n                                                'ElectrodeGroup this '\n                                                'electrode is a part of.',\n                                 'name': 'group_name'}]},\n     'NWBFile': {'experimenter': ['Abid'],\n                 'session_description': '',\n                 'session_start_time': '2020-10-04T11:07:07'}}",
     "output_type": "error",
     "traceback": [
      "\u001b[0;31m---------------------------------------------------------------------------\u001b[0m",
      "\u001b[0;31mValidationError\u001b[0m                           Traceback (most recent call last)",
      "\u001b[0;32m<ipython-input-78-b4e55dd916a1>\u001b[0m in \u001b[0;36m<module>\u001b[0;34m\u001b[0m\n\u001b[0;32m----> 1\u001b[0;31m validate(\n\u001b[0m\u001b[1;32m      2\u001b[0m     \u001b[0minstance\u001b[0m\u001b[0;34m=\u001b[0m\u001b[0mRXI\u001b[0m\u001b[0;34m.\u001b[0m\u001b[0mget_metadata\u001b[0m\u001b[0;34m(\u001b[0m\u001b[0;34m)\u001b[0m\u001b[0;34m,\u001b[0m\u001b[0;34m\u001b[0m\u001b[0;34m\u001b[0m\u001b[0m\n\u001b[1;32m      3\u001b[0m     \u001b[0mschema\u001b[0m\u001b[0;34m=\u001b[0m\u001b[0mRXI\u001b[0m\u001b[0;34m.\u001b[0m\u001b[0mget_metadata_schema\u001b[0m\u001b[0;34m(\u001b[0m\u001b[0;34m)\u001b[0m\u001b[0;34m\u001b[0m\u001b[0;34m\u001b[0m\u001b[0m\n\u001b[1;32m      4\u001b[0m )\n",
      "\u001b[0;32m/mnt/d/spikeinterface/hussaini-to-nwb/venv/lib/python3.8/site-packages/jsonschema/validators.py\u001b[0m in \u001b[0;36mvalidate\u001b[0;34m(instance, schema, cls, *args, **kwargs)\u001b[0m\n\u001b[1;32m    932\u001b[0m     \u001b[0merror\u001b[0m \u001b[0;34m=\u001b[0m \u001b[0mexceptions\u001b[0m\u001b[0;34m.\u001b[0m\u001b[0mbest_match\u001b[0m\u001b[0;34m(\u001b[0m\u001b[0mvalidator\u001b[0m\u001b[0;34m.\u001b[0m\u001b[0miter_errors\u001b[0m\u001b[0;34m(\u001b[0m\u001b[0minstance\u001b[0m\u001b[0;34m)\u001b[0m\u001b[0;34m)\u001b[0m\u001b[0;34m\u001b[0m\u001b[0;34m\u001b[0m\u001b[0m\n\u001b[1;32m    933\u001b[0m     \u001b[0;32mif\u001b[0m \u001b[0merror\u001b[0m \u001b[0;32mis\u001b[0m \u001b[0;32mnot\u001b[0m \u001b[0;32mNone\u001b[0m\u001b[0;34m:\u001b[0m\u001b[0;34m\u001b[0m\u001b[0;34m\u001b[0m\u001b[0m\n\u001b[0;32m--> 934\u001b[0;31m         \u001b[0;32mraise\u001b[0m \u001b[0merror\u001b[0m\u001b[0;34m\u001b[0m\u001b[0;34m\u001b[0m\u001b[0m\n\u001b[0m\u001b[1;32m    935\u001b[0m \u001b[0;34m\u001b[0m\u001b[0m\n\u001b[1;32m    936\u001b[0m \u001b[0;34m\u001b[0m\u001b[0m\n",
      "\u001b[0;31mValidationError\u001b[0m: Additional properties are not allowed ('NWBFile' was unexpected)\n\nFailed validating 'additionalProperties' in schema:\n    {'$id': 'metadata.schema.json',\n     '$schema': 'http://json-schema.org/draft-07/schema#',\n     'additionalProperties': False,\n     'description': 'Schema for the metadata',\n     'properties': {'Ecephys': {'additionalProperties': False,\n                                'properties': {'Device': {'items': {'$ref': '#/properties/Ecephys/properties/definitions/Device'},\n                                                          'minItems': 1,\n                                                          'type': 'array'},\n                                               'ElectricalSeries': {'additionalProperties': False,\n                                                                    'properties': {'comments': {'default': 'no '\n                                                                                                           'comments',\n                                                                                                'description': 'Human-readable '\n                                                                                                               'comments '\n                                                                                                               'about '\n                                                                                                               'this '\n                                                                                                               'TimeSeries '\n                                                                                                               'dataset',\n                                                                                                'type': 'string'},\n                                                                                   'conversion': {'default': 1.0,\n                                                                                                  'description': 'Scalar '\n                                                                                                                 'to '\n                                                                                                                 'multiply '\n                                                                                                                 'each '\n                                                                                                                 'element '\n                                                                                                                 'in '\n                                                                                                                 'data '\n                                                                                                                 'to '\n                                                                                                                 'convert '\n                                                                                                                 'it '\n                                                                                                                 'to '\n                                                                                                                 'the '\n                                                                                                                 'specified '\n                                                                                                                 'unit',\n                                                                                                  'type': 'number'},\n                                                                                   'description': {'default': 'no '\n                                                                                                              'description',\n                                                                                                   'description': 'Description '\n                                                                                                                  'of '\n                                                                                                                  'this '\n                                                                                                                  'TimeSeries '\n                                                                                                                  'dataset',\n                                                                                                   'type': 'string'},\n                                                                                   'name': {'description': 'The '\n                                                                                                           'name '\n                                                                                                           'of '\n                                                                                                           'this '\n                                                                                                           'TimeSeries '\n                                                                                                           'dataset',\n                                                                                            'type': 'string'},\n                                                                                   'rate': {'description': 'Sampling '\n                                                                                                           'rate '\n                                                                                                           'in '\n                                                                                                           'Hz',\n                                                                                            'type': 'number'},\n                                                                                   'resolution': {'default': -1.0,\n                                                                                                  'description': 'The '\n                                                                                                                 'smallest '\n                                                                                                                 'meaningful '\n                                                                                                                 'difference '\n                                                                                                                 '(in '\n                                                                                                                 'specified '\n                                                                                                                 'unit) '\n                                                                                                                 'between '\n                                                                                                                 'values '\n                                                                                                                 'in '\n                                                                                                                 'data',\n                                                                                                  'type': 'number'},\n                                                                                   'starting_time': {'description': 'The '\n                                                                                                                    'timestamp '\n                                                                                                                    'of '\n                                                                                                                    'the '\n                                                                                                                    'first '\n                                                                                                                    'sample',\n                                                                                                     'type': 'number'}},\n                                                                    'required': ['name'],\n                                                                    'tag': 'pynwb.ecephys.ElectricalSeries',\n                                                                    'type': 'object'},\n                                               'ElectrodeGroup': {'items': {'$ref': '#/properties/Ecephys/properties/definitions/ElectrodeGroup'},\n                                                                  'minItems': 1,\n                                                                  'type': 'array'},\n                                               'Electrodes': {'additionalProperties': False,\n                                                              'properties': {'data': {'description': 'Electrode '\n                                                                                                     'group '\n                                                                                                     'name '\n                                                                                                     'for '\n                                                                                                     'each '\n                                                                                                     'electrode.',\n                                                                                      'type': 'array'},\n                                                                             'description': {'description': 'Description '\n                                                                                                            'of '\n                                                                                                            'this '\n                                                                                                            'electrode '\n                                                                                                            'group',\n                                                                                             'type': 'string'},\n                                                                             'name': {'description': 'Electrode '\n                                                                                                     'group '\n                                                                                                     'name '\n                                                                                                     'this '\n                                                                                                     'electrode '\n                                                                                                     'is '\n                                                                                                     'a '\n                                                                                                     'part '\n                                                                                                     'of.',\n                                                                                      'type': 'string'}},\n                                                              'required': ['name',\n                                                                           'description',\n                                                                           'data'],\n                                                              'tag': 'Electrodes',\n                                                              'type': 'array'},\n                                               'definitions': {'Device': {'additionalProperties': False,\n                                                                          'properties': {'description': {'description': 'Description '\n                                                                                                                        'of '\n                                                                                                                        'the '\n                                                                                                                        'device '\n                                                                                                                        '(e.g., '\n                                                                                                                        'model, '\n                                                                                                                        'firmware '\n                                                                                                                        'version, '\n                                                                                                                        'processing '\n                                                                                                                        'software '\n                                                                                                                        'version, '\n                                                                                                                        'etc.)',\n                                                                                                         'type': 'string'},\n                                                                                         'manufacturer': {'description': 'the '\n                                                                                                                         'name '\n                                                                                                                         'of '\n                                                                                                                         'the '\n                                                                                                                         'manufacturer '\n                                                                                                                         'of '\n                                                                                                                         'this '\n                                                                                                                         'device',\n                                                                                                          'type': 'string'},\n                                                                                         'name': {'description': 'the '\n                                                                                                                 'name '\n                                                                                                                 'of '\n                                                                                                                 'this '\n                                                                                                                 'device',\n                                                                                                  'type': 'string'}},\n                                                                          'required': ['name'],\n                                                                          'tag': 'pynwb.device.Device',\n                                                                          'type': 'object'},\n                                                               'ElectrodeGroup': {'additionalProperties': False,\n                                                                                  'properties': {'description': {'description': 'description '\n                                                                                                                                'of '\n                                                                                                                                'this '\n                                                                                                                                'electrode '\n                                                                                                                                'group',\n                                                                                                                 'type': 'string'},\n                                                                                                 'device': {'description': 'the '\n                                                                                                                           'device '\n                                                                                                                           'that '\n                                                                                                                           'was '\n                                                                                                                           'used '\n                                                                                                                           'to '\n                                                                                                                           'record '\n                                                                                                                           'from '\n                                                                                                                           'this '\n                                                                                                                           'electrode '\n                                                                                                                           'group',\n                                                                                                            'target': 'pynwb.device.Device',\n                                                                                                            'type': 'string'},\n                                                                                                 'location': {'description': 'description '\n                                                                                                                             'of '\n                                                                                                                             'location '\n                                                                                                                             'of '\n                                                                                                                             'this '\n                                                                                                                             'electrode '\n                                                                                                                             'group',\n                                                                                                              'type': 'string'},\n                                                                                                 'name': {'description': 'the '\n                                                                                                                         'name '\n                                                                                                                         'of '\n                                                                                                                         'this '\n                                                                                                                         'electrode',\n                                                                                                          'type': 'string'}},\n                                                                                  'required': ['name',\n                                                                                               'description',\n                                                                                               'location',\n                                                                                               'device'],\n                                                                                  'tag': 'pynwb.ecephys.ElectrodeGroup',\n                                                                                  'type': 'object'}}},\n                                'required': ['Device', 'ElectrodeGroup'],\n                                'tag': 'Ecephys',\n                                'type': 'object'}},\n     'required': [],\n     'title': 'Metadata',\n     'type': 'object',\n     'version': '0.1.0'}\n\nOn instance:\n    {'Ecephys': {'Device': [{'description': 'Axona DacqUSB, '\n                                            'sw_version=1.2.2.16',\n                             'manufacturer': 'Axona',\n                             'name': 'Axona'}],\n                 'ElectricalSeries': {'description': 'Raw acquisition '\n                                                     'traces.',\n                                      'name': 'ElectricalSeries'},\n                 'ElectrodeGroup': [{'description': 'Group 0 electrodes.',\n                                     'device': 'Axona',\n                                     'location': '',\n                                     'name': 'Group0'},\n                                    {'description': 'Group 1 electrodes.',\n                                     'device': 'Axona',\n                                     'location': '',\n                                     'name': 'Group1'},\n                                    {'description': 'Group 2 electrodes.',\n                                     'device': 'Axona',\n                                     'location': '',\n                                     'name': 'Group2'},\n                                    {'description': 'Group 3 electrodes.',\n                                     'device': 'Axona',\n                                     'location': '',\n                                     'name': 'Group3'}],\n                 'Electrodes': [{'data': ['Group0',\n                                          'Group0',\n                                          'Group0',\n                                          'Group0',\n                                          'Group1',\n                                          'Group1',\n                                          'Group1',\n                                          'Group1',\n                                          'Group2',\n                                          'Group2',\n                                          'Group2',\n                                          'Group2',\n                                          'Group3',\n                                          'Group3',\n                                          'Group3',\n                                          'Group3'],\n                                 'description': 'The name of the '\n                                                'ElectrodeGroup this '\n                                                'electrode is a part of.',\n                                 'name': 'group_name'}]},\n     'NWBFile': {'experimenter': ['Abid'],\n                 'session_description': '',\n                 'session_start_time': '2020-10-04T11:07:07'}}"
     ]
    }
   ],
   "source": [
    "validate(\n",
    "    instance=RXI.get_metadata(),\n",
    "    schema=RXI.get_metadata_schema()\n",
    ")"
   ]
  },
  {
   "cell_type": "code",
   "execution_count": null,
   "metadata": {},
   "outputs": [],
   "source": [
    "# The metadata_schema does not validate with the metadata, bc\n",
    "# the full metadata_schema is only inherited when defining the\n",
    "# nwbconverter (see below).\n",
    "\n",
    "try:\n",
    "    validate(\n",
    "        instance=RXI.get_metadata(),\n",
    "        schema=RXI.get_metadata_schema()\n",
    "    )\n",
    "    print('validation SUCCESS')\n",
    "except ValidationError:\n",
    "    print('validation FAILED')"
   ]
  },
  {
   "cell_type": "code",
   "execution_count": 79,
   "metadata": {},
   "outputs": [],
   "source": [
    "from nwb_conversion_tools import (\n",
    "    NWBConverter\n",
    ")\n",
    "\n",
    "\n",
    "class HussainiNWBConverter(NWBConverter):\n",
    "    \n",
    "    #@classmethod\n",
    "    #def validate_source(cls, source_data):\n",
    "    #    \"\"\"Validate source_data against Converter source_schema.\"\"\"\n",
    "    #    validate(instance=source_data, schema=cls.get_source_schema())\n",
    "    #    print('Source data is valid!')\n",
    "    # \n",
    "    data_interface_classes = dict(\n",
    "        AxonaRecordingExtractorInterface=AxonaRecordingExtractorInterface\n",
    "    )"
   ]
  },
  {
   "cell_type": "code",
   "execution_count": 80,
   "metadata": {},
   "outputs": [],
   "source": [
    "validate(instance=source_data, schema=HussainiNWBConverter.get_source_schema())"
   ]
  },
  {
   "cell_type": "code",
   "execution_count": 81,
   "metadata": {},
   "outputs": [
    {
     "name": "stdout",
     "output_type": "stream",
     "text": [
      "{\n",
      "  \"AxonaRecordingExtractorInterface\": {\n",
      "    \"required\": [\n",
      "      \"filename\"\n",
      "    ],\n",
      "    \"properties\": {\n",
      "      \"filename\": {\n",
      "        \"type\": \"string\",\n",
      "        \"format\": \"file\",\n",
      "        \"description\": \"Path to Axona files.\"\n",
      "      }\n",
      "    },\n",
      "    \"type\": \"object\",\n",
      "    \"additionalProperties\": true\n",
      "  }\n",
      "}\n"
     ]
    }
   ],
   "source": [
    "# Get source_schema from converter\n",
    "\n",
    "source_schema = HussainiNWBConverter.get_source_schema()\n",
    "print(json.dumps(source_schema['properties'], indent=2))"
   ]
  },
  {
   "cell_type": "code",
   "execution_count": 82,
   "metadata": {},
   "outputs": [
    {
     "name": "stdout",
     "output_type": "stream",
     "text": [
      "{\n",
      "  \"AxonaRecordingExtractorInterface\": {\n",
      "    \"filename\": \"/mnt/d/freelance-work/catalyst-neuro/hussaini-lab-to-nwb/example_data_raw/axona_raw_5s\"\n",
      "  }\n",
      "}\n"
     ]
    }
   ],
   "source": [
    "# Define source data (required for instantiating converter)\n",
    "\n",
    "source_data = dict(\n",
    "    AxonaRecordingExtractorInterface=dict(\n",
    "        filename=filename\n",
    "    )\n",
    ")\n",
    "\n",
    "print(json.dumps(source_data, indent=2))"
   ]
  },
  {
   "cell_type": "code",
   "execution_count": 83,
   "metadata": {},
   "outputs": [
    {
     "data": {
      "text/plain": [
       "{'AxonaRecordingExtractorInterface': __main__.AxonaRecordingExtractorInterface}"
      ]
     },
     "execution_count": 83,
     "metadata": {},
     "output_type": "execute_result"
    }
   ],
   "source": [
    "HussainiNWBConverter.data_interface_classes"
   ]
  },
  {
   "cell_type": "code",
   "execution_count": 84,
   "metadata": {},
   "outputs": [
    {
     "data": {
      "text/plain": [
       "dict_items([('AxonaRecordingExtractorInterface', <class '__main__.AxonaRecordingExtractorInterface'>)])"
      ]
     },
     "execution_count": 84,
     "metadata": {},
     "output_type": "execute_result"
    }
   ],
   "source": [
    "HussainiNWBConverter.data_interface_classes.items()"
   ]
  },
  {
   "cell_type": "code",
   "execution_count": 85,
   "metadata": {},
   "outputs": [],
   "source": [
    "validate(instance=source_data, schema=HussainiNWBConverter.get_source_schema())"
   ]
  },
  {
   "cell_type": "code",
   "execution_count": 86,
   "metadata": {},
   "outputs": [
    {
     "data": {
      "text/plain": [
       "{'required': [],\n",
       " 'properties': {'AxonaRecordingExtractorInterface': {'required': ['filename'],\n",
       "   'properties': {'filename': {'type': 'string',\n",
       "     'format': 'file',\n",
       "     'description': 'Path to Axona files.'}},\n",
       "   'type': 'object',\n",
       "   'additionalProperties': True}},\n",
       " 'type': 'object',\n",
       " 'additionalProperties': False,\n",
       " '$schema': 'http://json-schema.org/draft-07/schema#',\n",
       " '$id': 'source.schema.json',\n",
       " 'title': 'Source data schema',\n",
       " 'description': 'Schema for the source data, files and directories',\n",
       " 'version': '0.1.0'}"
      ]
     },
     "execution_count": 86,
     "metadata": {},
     "output_type": "execute_result"
    }
   ],
   "source": [
    "HussainiNWBConverter.get_source_schema()"
   ]
  },
  {
   "cell_type": "code",
   "execution_count": 87,
   "metadata": {},
   "outputs": [
    {
     "name": "stdout",
     "output_type": "stream",
     "text": [
      "Source data is valid!\n"
     ]
    }
   ],
   "source": [
    "# Instantiate Hussaini-lab converter\n",
    "\n",
    "HussainiNWBConverter.validate_source(source_data=source_data)"
   ]
  },
  {
   "cell_type": "code",
   "execution_count": 88,
   "metadata": {},
   "outputs": [
    {
     "name": "stdout",
     "output_type": "stream",
     "text": [
      "Source data is valid!\n",
      "{\n",
      "  \"NWBFile\": {\n",
      "    \"required\": [\n",
      "      \"session_description\",\n",
      "      \"identifier\",\n",
      "      \"session_start_time\"\n",
      "    ],\n",
      "    \"properties\": {\n",
      "      \"session_description\": {\n",
      "        \"type\": \"string\",\n",
      "        \"format\": \"long\",\n",
      "        \"description\": \"a description of the session where this data was generated\",\n",
      "        \"default\": \"\"\n",
      "      },\n",
      "      \"identifier\": {\n",
      "        \"type\": \"string\",\n",
      "        \"description\": \"a unique text identifier for the file\",\n",
      "        \"default\": \"70abc149-3822-40c2-bea8-50d383cd2e35\"\n",
      "      },\n",
      "      \"session_start_time\": {\n",
      "        \"type\": \"string\",\n",
      "        \"description\": \"the start date and time of the recording session\",\n",
      "        \"format\": \"date-time\",\n",
      "        \"default\": \"2020-10-04T11:07:07\"\n",
      "      },\n",
      "      \"experimenter\": {\n",
      "        \"type\": \"array\",\n",
      "        \"items\": {\n",
      "          \"type\": \"string\",\n",
      "          \"title\": \"experimenter\"\n",
      "        },\n",
      "        \"description\": \"name of person who performed experiment\",\n",
      "        \"default\": [\n",
      "          \"Abid\"\n",
      "        ]\n",
      "      },\n",
      "      \"experiment_description\": {\n",
      "        \"type\": \"string\",\n",
      "        \"description\": \"general description of the experiment\"\n",
      "      },\n",
      "      \"session_id\": {\n",
      "        \"type\": \"string\",\n",
      "        \"description\": \"lab-specific ID for the session\"\n",
      "      },\n",
      "      \"institution\": {\n",
      "        \"type\": \"string\",\n",
      "        \"description\": \"institution(s) where experiment is performed\"\n",
      "      },\n",
      "      \"notes\": {\n",
      "        \"type\": \"string\",\n",
      "        \"description\": \"Notes about the experiment.\"\n",
      "      },\n",
      "      \"pharmacology\": {\n",
      "        \"type\": \"string\",\n",
      "        \"description\": \"Description of drugs used, including how and when they were administered. Anesthesia(s), painkiller(s), etc., plus dosage, concentration, etc.\"\n",
      "      },\n",
      "      \"protocol\": {\n",
      "        \"type\": \"string\",\n",
      "        \"description\": \"Experimental protocol, if applicable. E.g., include IACUC protocol\"\n",
      "      },\n",
      "      \"related_publications\": {\n",
      "        \"type\": \"string\",\n",
      "        \"description\": \"Publication information.PMID, DOI, URL, etc. If multiple, concatenate together and describe which is which. such as PMID, DOI, URL, etc\"\n",
      "      },\n",
      "      \"slices\": {\n",
      "        \"type\": \"string\",\n",
      "        \"description\": \"Description of slices, including information about preparation thickness, orientation, temperature and bath solution\"\n",
      "      },\n",
      "      \"source_script\": {\n",
      "        \"type\": \"string\",\n",
      "        \"description\": \"Script file used to create this NWB file.\"\n",
      "      },\n",
      "      \"source_script_file_name\": {\n",
      "        \"type\": \"string\",\n",
      "        \"description\": \"Name of the source_script file\"\n",
      "      },\n",
      "      \"data_collection\": {\n",
      "        \"type\": \"string\",\n",
      "        \"description\": \"Notes about data collection and analysis.\"\n",
      "      },\n",
      "      \"surgery\": {\n",
      "        \"type\": \"string\",\n",
      "        \"description\": \"Narrative description about surgery/surgeries, including date(s) and who performed surgery.\"\n",
      "      },\n",
      "      \"virus\": {\n",
      "        \"type\": \"string\",\n",
      "        \"description\": \"Information about virus(es) used in experiments, including virus ID, source, date made, injection location, volume, etc.\"\n",
      "      },\n",
      "      \"stimulus_notes\": {\n",
      "        \"type\": \"string\",\n",
      "        \"description\": \"Notes about stimuli, such as how and where presented.\"\n",
      "      },\n",
      "      \"lab\": {\n",
      "        \"type\": \"string\",\n",
      "        \"description\": \"lab where experiment was performed\"\n",
      "      }\n",
      "    },\n",
      "    \"type\": \"object\",\n",
      "    \"additionalProperties\": false,\n",
      "    \"tag\": \"pynwb.file.NWBFile\"\n",
      "  },\n",
      "  \"Subject\": {\n",
      "    \"required\": [],\n",
      "    \"properties\": {\n",
      "      \"age\": {\n",
      "        \"description\": \"the age of the subject\",\n",
      "        \"type\": \"string\"\n",
      "      },\n",
      "      \"description\": {\n",
      "        \"description\": \"a description of the subject\",\n",
      "        \"type\": \"string\"\n",
      "      },\n",
      "      \"genotype\": {\n",
      "        \"description\": \"the genotype of the subject\",\n",
      "        \"type\": \"string\"\n",
      "      },\n",
      "      \"sex\": {\n",
      "        \"description\": \"the sex of the subject\",\n",
      "        \"type\": \"string\"\n",
      "      },\n",
      "      \"species\": {\n",
      "        \"description\": \"the species of the subject\",\n",
      "        \"type\": \"string\"\n",
      "      },\n",
      "      \"subject_id\": {\n",
      "        \"description\": \"a unique identifier for the subject\",\n",
      "        \"type\": \"string\"\n",
      "      },\n",
      "      \"weight\": {\n",
      "        \"description\": \"the weight of the subject\",\n",
      "        \"type\": \"string\"\n",
      "      },\n",
      "      \"date_of_birth\": {\n",
      "        \"description\": \"datetime of date of birth. May be supplied instead of age.\",\n",
      "        \"type\": \"string\",\n",
      "        \"format\": \"date-time\"\n",
      "      }\n",
      "    },\n",
      "    \"type\": \"object\",\n",
      "    \"additionalProperties\": false,\n",
      "    \"tag\": \"pynwb.file.Subject\"\n",
      "  },\n",
      "  \"Ecephys\": {\n",
      "    \"required\": [\n",
      "      \"ElectrodeGroup\",\n",
      "      \"Device\"\n",
      "    ],\n",
      "    \"properties\": {\n",
      "      \"Device\": {\n",
      "        \"type\": \"array\",\n",
      "        \"minItems\": 1,\n",
      "        \"items\": {\n",
      "          \"$ref\": \"#/properties/Ecephys/properties/definitions/Device\"\n",
      "        },\n",
      "        \"default\": [\n",
      "          {\n",
      "            \"name\": \"Axona\",\n",
      "            \"description\": \"Axona DacqUSB, sw_version=1.2.2.16\",\n",
      "            \"manufacturer\": \"Axona\"\n",
      "          }\n",
      "        ]\n",
      "      },\n",
      "      \"ElectrodeGroup\": {\n",
      "        \"type\": \"array\",\n",
      "        \"minItems\": 1,\n",
      "        \"items\": {\n",
      "          \"$ref\": \"#/properties/Ecephys/properties/definitions/ElectrodeGroup\"\n",
      "        },\n",
      "        \"default\": [\n",
      "          {\n",
      "            \"name\": \"Group0\",\n",
      "            \"location\": \"\",\n",
      "            \"device\": \"Axona\",\n",
      "            \"description\": \"Group 0 electrodes.\"\n",
      "          },\n",
      "          {\n",
      "            \"name\": \"Group1\",\n",
      "            \"location\": \"\",\n",
      "            \"device\": \"Axona\",\n",
      "            \"description\": \"Group 1 electrodes.\"\n",
      "          },\n",
      "          {\n",
      "            \"name\": \"Group2\",\n",
      "            \"location\": \"\",\n",
      "            \"device\": \"Axona\",\n",
      "            \"description\": \"Group 2 electrodes.\"\n",
      "          },\n",
      "          {\n",
      "            \"name\": \"Group3\",\n",
      "            \"location\": \"\",\n",
      "            \"device\": \"Axona\",\n",
      "            \"description\": \"Group 3 electrodes.\"\n",
      "          }\n",
      "        ]\n",
      "      },\n",
      "      \"definitions\": {\n",
      "        \"Device\": {\n",
      "          \"required\": [\n",
      "            \"name\"\n",
      "          ],\n",
      "          \"properties\": {\n",
      "            \"name\": {\n",
      "              \"description\": \"the name of this device\",\n",
      "              \"type\": \"string\"\n",
      "            },\n",
      "            \"description\": {\n",
      "              \"description\": \"Description of the device (e.g., model, firmware version, processing software version, etc.)\",\n",
      "              \"type\": \"string\"\n",
      "            },\n",
      "            \"manufacturer\": {\n",
      "              \"description\": \"the name of the manufacturer of this device\",\n",
      "              \"type\": \"string\"\n",
      "            }\n",
      "          },\n",
      "          \"type\": \"object\",\n",
      "          \"additionalProperties\": false,\n",
      "          \"tag\": \"pynwb.device.Device\"\n",
      "        },\n",
      "        \"ElectrodeGroup\": {\n",
      "          \"required\": [\n",
      "            \"location\",\n",
      "            \"description\",\n",
      "            \"device\",\n",
      "            \"name\"\n",
      "          ],\n",
      "          \"properties\": {\n",
      "            \"name\": {\n",
      "              \"description\": \"the name of this electrode\",\n",
      "              \"type\": \"string\"\n",
      "            },\n",
      "            \"description\": {\n",
      "              \"description\": \"description of this electrode group\",\n",
      "              \"type\": \"string\"\n",
      "            },\n",
      "            \"location\": {\n",
      "              \"description\": \"description of location of this electrode group\",\n",
      "              \"type\": \"string\"\n",
      "            },\n",
      "            \"device\": {\n",
      "              \"description\": \"the device that was used to record from this electrode group\",\n",
      "              \"type\": \"string\",\n",
      "              \"target\": \"pynwb.device.Device\"\n",
      "            }\n",
      "          },\n",
      "          \"type\": \"object\",\n",
      "          \"additionalProperties\": false,\n",
      "          \"tag\": \"pynwb.ecephys.ElectrodeGroup\"\n",
      "        }\n",
      "      },\n",
      "      \"Electrodes\": {\n",
      "        \"required\": [\n",
      "          \"description\",\n",
      "          \"name\",\n",
      "          \"data\"\n",
      "        ],\n",
      "        \"properties\": {\n",
      "          \"name\": {\n",
      "            \"description\": \"Electrode group name this electrode is a part of.\",\n",
      "            \"type\": \"string\"\n",
      "          },\n",
      "          \"description\": {\n",
      "            \"description\": \"Description of this electrode group\",\n",
      "            \"type\": \"string\"\n",
      "          },\n",
      "          \"data\": {\n",
      "            \"description\": \"Electrode group name for each electrode.\",\n",
      "            \"type\": \"array\"\n",
      "          }\n",
      "        },\n",
      "        \"type\": \"array\",\n",
      "        \"additionalProperties\": false,\n",
      "        \"tag\": \"Electrodes\",\n",
      "        \"default\": [\n",
      "          {\n",
      "            \"name\": \"group_name\",\n",
      "            \"description\": \"The name of the ElectrodeGroup this electrode is a part of.\",\n",
      "            \"data\": [\n",
      "              \"Group0\",\n",
      "              \"Group0\",\n",
      "              \"Group0\",\n",
      "              \"Group0\",\n",
      "              \"Group1\",\n",
      "              \"Group1\",\n",
      "              \"Group1\",\n",
      "              \"Group1\",\n",
      "              \"Group2\",\n",
      "              \"Group2\",\n",
      "              \"Group2\",\n",
      "              \"Group2\",\n",
      "              \"Group3\",\n",
      "              \"Group3\",\n",
      "              \"Group3\",\n",
      "              \"Group3\"\n",
      "            ]\n",
      "          }\n",
      "        ]\n",
      "      },\n",
      "      \"ElectricalSeries\": {\n",
      "        \"required\": [\n",
      "          \"name\"\n",
      "        ],\n",
      "        \"properties\": {\n",
      "          \"name\": {\n",
      "            \"description\": \"The name of this TimeSeries dataset\",\n",
      "            \"type\": \"string\",\n",
      "            \"default\": \"ElectricalSeries\"\n",
      "          },\n",
      "          \"resolution\": {\n",
      "            \"description\": \"The smallest meaningful difference (in specified unit) between values in data\",\n",
      "            \"type\": \"number\",\n",
      "            \"default\": -1.0\n",
      "          },\n",
      "          \"conversion\": {\n",
      "            \"description\": \"Scalar to multiply each element in data to convert it to the specified unit\",\n",
      "            \"type\": \"number\",\n",
      "            \"default\": 1.0\n",
      "          },\n",
      "          \"starting_time\": {\n",
      "            \"description\": \"The timestamp of the first sample\",\n",
      "            \"type\": \"number\"\n",
      "          },\n",
      "          \"rate\": {\n",
      "            \"description\": \"Sampling rate in Hz\",\n",
      "            \"type\": \"number\"\n",
      "          },\n",
      "          \"comments\": {\n",
      "            \"description\": \"Human-readable comments about this TimeSeries dataset\",\n",
      "            \"type\": \"string\",\n",
      "            \"default\": \"no comments\"\n",
      "          },\n",
      "          \"description\": {\n",
      "            \"description\": \"Description of this TimeSeries dataset\",\n",
      "            \"type\": \"string\",\n",
      "            \"default\": \"Raw acquisition traces.\"\n",
      "          }\n",
      "        },\n",
      "        \"type\": \"object\",\n",
      "        \"additionalProperties\": false,\n",
      "        \"tag\": \"pynwb.ecephys.ElectricalSeries\"\n",
      "      }\n",
      "    },\n",
      "    \"type\": \"object\",\n",
      "    \"additionalProperties\": false,\n",
      "    \"tag\": \"Ecephys\"\n",
      "  }\n",
      "}\n"
     ]
    }
   ],
   "source": [
    "# Get metadata_schema from converter\n",
    "\n",
    "converter = HussainiNWBConverter(source_data=source_data)\n",
    "metadata_schema = converter.get_metadata_schema()\n",
    "print(json.dumps(metadata_schema['properties'], indent=2))"
   ]
  },
  {
   "cell_type": "code",
   "execution_count": 89,
   "metadata": {},
   "outputs": [
    {
     "data": {
      "text/plain": [
       "{'NWBFile': {'session_description': '',\n",
       "  'session_start_time': '2020-10-04T11:07:07',\n",
       "  'identifier': 'caacc59f-bac9-4c9a-83b6-a570bfdd8032',\n",
       "  'experimenter': ['Abid']},\n",
       " 'Ecephys': {'Device': [{'name': 'Axona',\n",
       "    'description': 'Axona DacqUSB, sw_version=1.2.2.16',\n",
       "    'manufacturer': 'Axona'}],\n",
       "  'ElectrodeGroup': [{'name': 'Group0',\n",
       "    'location': '',\n",
       "    'device': 'Axona',\n",
       "    'description': 'Group 0 electrodes.'},\n",
       "   {'name': 'Group1',\n",
       "    'location': '',\n",
       "    'device': 'Axona',\n",
       "    'description': 'Group 1 electrodes.'},\n",
       "   {'name': 'Group2',\n",
       "    'location': '',\n",
       "    'device': 'Axona',\n",
       "    'description': 'Group 2 electrodes.'},\n",
       "   {'name': 'Group3',\n",
       "    'location': '',\n",
       "    'device': 'Axona',\n",
       "    'description': 'Group 3 electrodes.'}],\n",
       "  'Electrodes': [{'name': 'group_name',\n",
       "    'description': 'The name of the ElectrodeGroup this electrode is a part of.',\n",
       "    'data': ['Group0',\n",
       "     'Group0',\n",
       "     'Group0',\n",
       "     'Group0',\n",
       "     'Group1',\n",
       "     'Group1',\n",
       "     'Group1',\n",
       "     'Group1',\n",
       "     'Group2',\n",
       "     'Group2',\n",
       "     'Group2',\n",
       "     'Group2',\n",
       "     'Group3',\n",
       "     'Group3',\n",
       "     'Group3',\n",
       "     'Group3']}],\n",
       "  'ElectricalSeries': {'name': 'ElectricalSeries',\n",
       "   'description': 'Raw acquisition traces.'}}}"
      ]
     },
     "execution_count": 89,
     "metadata": {},
     "output_type": "execute_result"
    }
   ],
   "source": [
    "metadata = converter.get_metadata()\n",
    "metadata"
   ]
  },
  {
   "cell_type": "code",
   "execution_count": 90,
   "metadata": {
    "scrolled": true
   },
   "outputs": [
    {
     "data": {
      "text/plain": [
       "{'Device': [{'name': 'Axona',\n",
       "   'description': 'Axona DacqUSB, sw_version=1.2.2.16',\n",
       "   'manufacturer': 'Axona'}],\n",
       " 'ElectrodeGroup': [{'name': 'Group0',\n",
       "   'location': '',\n",
       "   'device': 'Axona',\n",
       "   'description': 'Group 0 electrodes.'},\n",
       "  {'name': 'Group1',\n",
       "   'location': '',\n",
       "   'device': 'Axona',\n",
       "   'description': 'Group 1 electrodes.'},\n",
       "  {'name': 'Group2',\n",
       "   'location': '',\n",
       "   'device': 'Axona',\n",
       "   'description': 'Group 2 electrodes.'},\n",
       "  {'name': 'Group3',\n",
       "   'location': '',\n",
       "   'device': 'Axona',\n",
       "   'description': 'Group 3 electrodes.'}],\n",
       " 'Electrodes': [{'name': 'group_name',\n",
       "   'description': 'The name of the ElectrodeGroup this electrode is a part of.',\n",
       "   'data': ['Group0',\n",
       "    'Group0',\n",
       "    'Group0',\n",
       "    'Group0',\n",
       "    'Group1',\n",
       "    'Group1',\n",
       "    'Group1',\n",
       "    'Group1',\n",
       "    'Group2',\n",
       "    'Group2',\n",
       "    'Group2',\n",
       "    'Group2',\n",
       "    'Group3',\n",
       "    'Group3',\n",
       "    'Group3',\n",
       "    'Group3']}],\n",
       " 'ElectricalSeries': {'name': 'ElectricalSeries',\n",
       "  'description': 'Raw acquisition traces.'}}"
      ]
     },
     "execution_count": 90,
     "metadata": {},
     "output_type": "execute_result"
    }
   ],
   "source": [
    "metadata['Ecephys']"
   ]
  },
  {
   "cell_type": "code",
   "execution_count": 92,
   "metadata": {
    "scrolled": true
   },
   "outputs": [],
   "source": [
    "# Validate metadata with metadata_schema from nwbconverter\n",
    "\n",
    "validate(\n",
    "    instance=converter.get_metadata(),\n",
    "    schema=converter.get_metadata_schema()\n",
    ")"
   ]
  },
  {
   "cell_type": "markdown",
   "metadata": {},
   "source": [
    "## Test axonadatainterface from nwb_conversion_tools"
   ]
  },
  {
   "cell_type": "code",
   "execution_count": 133,
   "metadata": {},
   "outputs": [],
   "source": [
    "import json\n",
    "from jsonschema import validate"
   ]
  },
  {
   "cell_type": "code",
   "execution_count": 134,
   "metadata": {},
   "outputs": [
    {
     "name": "stdout",
     "output_type": "stream",
     "text": [
      "/mnt/d/freelance-work/catalyst-neuro/hussaini-lab-to-nwb/example_data_raw/axona_raw_5s\n"
     ]
    }
   ],
   "source": [
    "import os\n",
    "\n",
    "dir_name = r'/mnt/d/freelance-work/catalyst-neuro/hussaini-lab-to-nwb/example_data_raw'\n",
    "base_filename = 'axona_raw_5s'\n",
    "filename = os.path.join(dir_name, base_filename)\n",
    "print(filename)"
   ]
  },
  {
   "cell_type": "code",
   "execution_count": 135,
   "metadata": {},
   "outputs": [],
   "source": [
    "from nwb_conversion_tools import axonadatainterface"
   ]
  },
  {
   "cell_type": "code",
   "execution_count": 136,
   "metadata": {},
   "outputs": [],
   "source": [
    "from nwb_conversion_tools import (\n",
    "    NWBConverter, AxonaRecordingExtractorInterface\n",
    ")"
   ]
  },
  {
   "cell_type": "code",
   "execution_count": 137,
   "metadata": {},
   "outputs": [],
   "source": [
    "import sys\n",
    "sys.path.append('/mnt/d/spikeinterface/hussaini-lab-to-nwb/hussaini_lab_to_nwb')"
   ]
  },
  {
   "cell_type": "code",
   "execution_count": 138,
   "metadata": {},
   "outputs": [],
   "source": [
    "from hussaininwbconverter import HussainiNWBConverter"
   ]
  },
  {
   "cell_type": "code",
   "execution_count": 139,
   "metadata": {
    "scrolled": false
   },
   "outputs": [
    {
     "name": "stdout",
     "output_type": "stream",
     "text": [
      "{\n",
      "  \"AxonaRecordingExtractorInterface\": {\n",
      "    \"required\": [\n",
      "      \"filename\"\n",
      "    ],\n",
      "    \"properties\": {\n",
      "      \"filename\": {\n",
      "        \"type\": \"string\",\n",
      "        \"format\": \"file\",\n",
      "        \"description\": \"Path to Axona files.\"\n",
      "      }\n",
      "    },\n",
      "    \"type\": \"object\",\n",
      "    \"additionalProperties\": true\n",
      "  }\n",
      "}\n"
     ]
    }
   ],
   "source": [
    "# Get source_schema from converter\n",
    "\n",
    "source_schema = HussainiNWBConverter.get_source_schema()\n",
    "print(json.dumps(source_schema['properties'], indent=2))"
   ]
  },
  {
   "cell_type": "code",
   "execution_count": 140,
   "metadata": {},
   "outputs": [
    {
     "name": "stdout",
     "output_type": "stream",
     "text": [
      "{\n",
      "  \"AxonaRecordingExtractorInterface\": {\n",
      "    \"filename\": \"/mnt/d/freelance-work/catalyst-neuro/hussaini-lab-to-nwb/example_data_raw/axona_raw_5s\"\n",
      "  }\n",
      "}\n"
     ]
    }
   ],
   "source": [
    "source_data = dict(\n",
    "    AxonaRecordingExtractorInterface=dict(\n",
    "        filename=filename\n",
    "    )\n",
    ")\n",
    "print(json.dumps(source_data, indent=2))"
   ]
  },
  {
   "cell_type": "code",
   "execution_count": 141,
   "metadata": {},
   "outputs": [],
   "source": [
    "# Validate source_data with source_schema\n",
    "\n",
    "validate(\n",
    "    instance=source_data,\n",
    "    schema=source_schema\n",
    ")"
   ]
  },
  {
   "cell_type": "code",
   "execution_count": 142,
   "metadata": {},
   "outputs": [
    {
     "name": "stdout",
     "output_type": "stream",
     "text": [
      "Source data is valid!\n"
     ]
    }
   ],
   "source": [
    "# Instantiate Hussaini-lab converter\n",
    "\n",
    "converter = HussainiNWBConverter(source_data=source_data)"
   ]
  },
  {
   "cell_type": "code",
   "execution_count": 143,
   "metadata": {},
   "outputs": [],
   "source": [
    "import datetime"
   ]
  },
  {
   "cell_type": "code",
   "execution_count": 144,
   "metadata": {},
   "outputs": [
    {
     "data": {
      "text/plain": [
       "{'NWBFile': {'session_description': '',\n",
       "  'session_start_time': '2020-10-04T11:07:07',\n",
       "  'identifier': '1c6dd41e-e532-4a87-bb1d-b20e4467d8f0',\n",
       "  'experimenter': ['Abid']},\n",
       " 'Ecephys': {'Device': [{'name': 'Axona',\n",
       "    'description': 'Axona DacqUSB, sw_version=1.2.2.16',\n",
       "    'manufacturer': 'Axona'}],\n",
       "  'ElectrodeGroup': [{'name': 'Group0',\n",
       "    'location': '',\n",
       "    'device': 'Axona',\n",
       "    'description': 'Group 0 electrodes.'},\n",
       "   {'name': 'Group1',\n",
       "    'location': '',\n",
       "    'device': 'Axona',\n",
       "    'description': 'Group 1 electrodes.'},\n",
       "   {'name': 'Group2',\n",
       "    'location': '',\n",
       "    'device': 'Axona',\n",
       "    'description': 'Group 2 electrodes.'},\n",
       "   {'name': 'Group3',\n",
       "    'location': '',\n",
       "    'device': 'Axona',\n",
       "    'description': 'Group 3 electrodes.'}],\n",
       "  'Electrodes': [{'name': 'group_name',\n",
       "    'description': 'The name of the ElectrodeGroup this electrode is a part of.',\n",
       "    'data': ['Group0',\n",
       "     'Group0',\n",
       "     'Group0',\n",
       "     'Group0',\n",
       "     'Group1',\n",
       "     'Group1',\n",
       "     'Group1',\n",
       "     'Group1',\n",
       "     'Group2',\n",
       "     'Group2',\n",
       "     'Group2',\n",
       "     'Group2',\n",
       "     'Group3',\n",
       "     'Group3',\n",
       "     'Group3',\n",
       "     'Group3']}],\n",
       "  'ElectricalSeries': {'name': 'ElectricalSeries',\n",
       "   'description': 'Raw acquisition traces.'}}}"
      ]
     },
     "execution_count": 144,
     "metadata": {},
     "output_type": "execute_result"
    }
   ],
   "source": [
    "# Get metadata_schema from converter\n",
    "metadata = converter.get_metadata()\n",
    "metadata"
   ]
  },
  {
   "cell_type": "code",
   "execution_count": 145,
   "metadata": {},
   "outputs": [
    {
     "data": {
      "text/plain": [
       "{'required': ['name'],\n",
       " 'properties': {'name': {'description': 'The name of this TimeSeries dataset',\n",
       "   'type': 'string'},\n",
       "  'resolution': {'description': 'The smallest meaningful difference (in specified unit) between values in data',\n",
       "   'type': 'number',\n",
       "   'default': -1.0},\n",
       "  'conversion': {'description': 'Scalar to multiply each element in data to convert it to the specified unit',\n",
       "   'type': 'number',\n",
       "   'default': 1.0},\n",
       "  'starting_time': {'description': 'The timestamp of the first sample',\n",
       "   'type': 'number'},\n",
       "  'rate': {'description': 'Sampling rate in Hz', 'type': 'number'},\n",
       "  'comments': {'description': 'Human-readable comments about this TimeSeries dataset',\n",
       "   'type': 'string',\n",
       "   'default': 'no comments'},\n",
       "  'description': {'description': 'Description of this TimeSeries dataset',\n",
       "   'type': 'string',\n",
       "   'default': 'no description'}},\n",
       " 'type': 'object',\n",
       " 'additionalProperties': False,\n",
       " 'tag': 'pynwb.ecephys.ElectricalSeries'}"
      ]
     },
     "execution_count": 145,
     "metadata": {},
     "output_type": "execute_result"
    }
   ],
   "source": [
    "get_schema_from_hdmf_class(ElectricalSeries)"
   ]
  },
  {
   "cell_type": "code",
   "execution_count": 146,
   "metadata": {},
   "outputs": [
    {
     "data": {
      "text/plain": [
       "{'required': ['NWBFile'],\n",
       " 'properties': {'NWBFile': {'required': ['session_description',\n",
       "    'identifier',\n",
       "    'session_start_time'],\n",
       "   'properties': {'session_description': {'type': 'string',\n",
       "     'format': 'long',\n",
       "     'description': 'a description of the session where this data was generated',\n",
       "     'default': ''},\n",
       "    'identifier': {'type': 'string',\n",
       "     'description': 'a unique text identifier for the file',\n",
       "     'default': '96f530d6-1b75-4e32-b9f1-c76ae1b34fba'},\n",
       "    'session_start_time': {'type': 'string',\n",
       "     'description': 'the start date and time of the recording session',\n",
       "     'format': 'date-time',\n",
       "     'default': '2020-10-04T11:07:07'},\n",
       "    'experimenter': {'type': 'array',\n",
       "     'items': {'type': 'string', 'title': 'experimenter'},\n",
       "     'description': 'name of person who performed experiment',\n",
       "     'default': ['Abid']},\n",
       "    'experiment_description': {'type': 'string',\n",
       "     'description': 'general description of the experiment'},\n",
       "    'session_id': {'type': 'string',\n",
       "     'description': 'lab-specific ID for the session'},\n",
       "    'institution': {'type': 'string',\n",
       "     'description': 'institution(s) where experiment is performed'},\n",
       "    'notes': {'type': 'string', 'description': 'Notes about the experiment.'},\n",
       "    'pharmacology': {'type': 'string',\n",
       "     'description': 'Description of drugs used, including how and when they were administered. Anesthesia(s), painkiller(s), etc., plus dosage, concentration, etc.'},\n",
       "    'protocol': {'type': 'string',\n",
       "     'description': 'Experimental protocol, if applicable. E.g., include IACUC protocol'},\n",
       "    'related_publications': {'type': 'string',\n",
       "     'description': 'Publication information.PMID, DOI, URL, etc. If multiple, concatenate together and describe which is which. such as PMID, DOI, URL, etc'},\n",
       "    'slices': {'type': 'string',\n",
       "     'description': 'Description of slices, including information about preparation thickness, orientation, temperature and bath solution'},\n",
       "    'source_script': {'type': 'string',\n",
       "     'description': 'Script file used to create this NWB file.'},\n",
       "    'source_script_file_name': {'type': 'string',\n",
       "     'description': 'Name of the source_script file'},\n",
       "    'data_collection': {'type': 'string',\n",
       "     'description': 'Notes about data collection and analysis.'},\n",
       "    'surgery': {'type': 'string',\n",
       "     'description': 'Narrative description about surgery/surgeries, including date(s) and who performed surgery.'},\n",
       "    'virus': {'type': 'string',\n",
       "     'description': 'Information about virus(es) used in experiments, including virus ID, source, date made, injection location, volume, etc.'},\n",
       "    'stimulus_notes': {'type': 'string',\n",
       "     'description': 'Notes about stimuli, such as how and where presented.'},\n",
       "    'lab': {'type': 'string',\n",
       "     'description': 'lab where experiment was performed'}},\n",
       "   'type': 'object',\n",
       "   'additionalProperties': False,\n",
       "   'tag': 'pynwb.file.NWBFile'},\n",
       "  'Subject': {'required': [],\n",
       "   'properties': {'age': {'description': 'the age of the subject',\n",
       "     'type': 'string'},\n",
       "    'description': {'description': 'a description of the subject',\n",
       "     'type': 'string'},\n",
       "    'genotype': {'description': 'the genotype of the subject',\n",
       "     'type': 'string'},\n",
       "    'sex': {'description': 'the sex of the subject', 'type': 'string'},\n",
       "    'species': {'description': 'the species of the subject', 'type': 'string'},\n",
       "    'subject_id': {'description': 'a unique identifier for the subject',\n",
       "     'type': 'string'},\n",
       "    'weight': {'description': 'the weight of the subject', 'type': 'string'},\n",
       "    'date_of_birth': {'description': 'datetime of date of birth. May be supplied instead of age.',\n",
       "     'type': 'string',\n",
       "     'format': 'date-time'}},\n",
       "   'type': 'object',\n",
       "   'additionalProperties': False,\n",
       "   'tag': 'pynwb.file.Subject'},\n",
       "  'Ecephys': {'required': ['ElectrodeGroup', 'Device'],\n",
       "   'properties': {'Device': {'type': 'array',\n",
       "     'minItems': 1,\n",
       "     'items': {'$ref': '#/properties/Ecephys/properties/definitions/Device'},\n",
       "     'default': [{'name': 'Axona',\n",
       "       'description': 'Axona DacqUSB, sw_version=1.2.2.16',\n",
       "       'manufacturer': 'Axona'}]},\n",
       "    'ElectrodeGroup': {'type': 'array',\n",
       "     'minItems': 1,\n",
       "     'items': {'$ref': '#/properties/Ecephys/properties/definitions/ElectrodeGroup'},\n",
       "     'default': [{'name': 'Group0',\n",
       "       'location': '',\n",
       "       'device': 'Axona',\n",
       "       'description': 'Group 0 electrodes.'},\n",
       "      {'name': 'Group1',\n",
       "       'location': '',\n",
       "       'device': 'Axona',\n",
       "       'description': 'Group 1 electrodes.'},\n",
       "      {'name': 'Group2',\n",
       "       'location': '',\n",
       "       'device': 'Axona',\n",
       "       'description': 'Group 2 electrodes.'},\n",
       "      {'name': 'Group3',\n",
       "       'location': '',\n",
       "       'device': 'Axona',\n",
       "       'description': 'Group 3 electrodes.'}]},\n",
       "    'definitions': {'Device': {'required': ['name'],\n",
       "      'properties': {'name': {'description': 'the name of this device',\n",
       "        'type': 'string'},\n",
       "       'description': {'description': 'Description of the device (e.g., model, firmware version, processing software version, etc.)',\n",
       "        'type': 'string'},\n",
       "       'manufacturer': {'description': 'the name of the manufacturer of this device',\n",
       "        'type': 'string'}},\n",
       "      'type': 'object',\n",
       "      'additionalProperties': False,\n",
       "      'tag': 'pynwb.device.Device'},\n",
       "     'ElectrodeGroup': {'required': ['location',\n",
       "       'description',\n",
       "       'device',\n",
       "       'name'],\n",
       "      'properties': {'name': {'description': 'the name of this electrode',\n",
       "        'type': 'string'},\n",
       "       'description': {'description': 'description of this electrode group',\n",
       "        'type': 'string'},\n",
       "       'location': {'description': 'description of location of this electrode group',\n",
       "        'type': 'string'},\n",
       "       'device': {'description': 'the device that was used to record from this electrode group',\n",
       "        'type': 'string',\n",
       "        'target': 'pynwb.device.Device'}},\n",
       "      'type': 'object',\n",
       "      'additionalProperties': False,\n",
       "      'tag': 'pynwb.ecephys.ElectrodeGroup'}},\n",
       "    'Electrodes': {'required': ['description', 'name', 'data'],\n",
       "     'properties': {'name': {'description': 'Electrode group name this electrode is a part of.',\n",
       "       'type': 'string'},\n",
       "      'description': {'description': 'Description of this electrode group',\n",
       "       'type': 'string'},\n",
       "      'data': {'description': 'Electrode group name for each electrode.',\n",
       "       'type': 'array'}},\n",
       "     'type': 'array',\n",
       "     'additionalProperties': False,\n",
       "     'tag': 'Electrodes',\n",
       "     'default': [{'name': 'group_name',\n",
       "       'description': 'The name of the ElectrodeGroup this electrode is a part of.',\n",
       "       'data': ['Group0',\n",
       "        'Group0',\n",
       "        'Group0',\n",
       "        'Group0',\n",
       "        'Group1',\n",
       "        'Group1',\n",
       "        'Group1',\n",
       "        'Group1',\n",
       "        'Group2',\n",
       "        'Group2',\n",
       "        'Group2',\n",
       "        'Group2',\n",
       "        'Group3',\n",
       "        'Group3',\n",
       "        'Group3',\n",
       "        'Group3']}]},\n",
       "    'ElectricalSeries': {'required': ['name'],\n",
       "     'properties': {'name': {'description': 'The name of this TimeSeries dataset',\n",
       "       'type': 'string',\n",
       "       'default': 'ElectricalSeries'},\n",
       "      'resolution': {'description': 'The smallest meaningful difference (in specified unit) between values in data',\n",
       "       'type': 'number',\n",
       "       'default': -1.0},\n",
       "      'conversion': {'description': 'Scalar to multiply each element in data to convert it to the specified unit',\n",
       "       'type': 'number',\n",
       "       'default': 1.0},\n",
       "      'starting_time': {'description': 'The timestamp of the first sample',\n",
       "       'type': 'number'},\n",
       "      'rate': {'description': 'Sampling rate in Hz', 'type': 'number'},\n",
       "      'comments': {'description': 'Human-readable comments about this TimeSeries dataset',\n",
       "       'type': 'string',\n",
       "       'default': 'no comments'},\n",
       "      'description': {'description': 'Description of this TimeSeries dataset',\n",
       "       'type': 'string',\n",
       "       'default': 'Raw acquisition traces.'}},\n",
       "     'type': 'object',\n",
       "     'additionalProperties': False,\n",
       "     'tag': 'pynwb.ecephys.ElectricalSeries'}},\n",
       "   'type': 'object',\n",
       "   'additionalProperties': False,\n",
       "   'tag': 'Ecephys'}},\n",
       " 'type': 'object',\n",
       " 'additionalProperties': False,\n",
       " '$schema': 'http://json-schema.org/draft-07/schema#',\n",
       " '$id': 'metadata.schema.json',\n",
       " 'title': 'Metadata',\n",
       " 'description': 'Schema for the metadata',\n",
       " 'version': '0.1.0'}"
      ]
     },
     "execution_count": 146,
     "metadata": {},
     "output_type": "execute_result"
    }
   ],
   "source": [
    "converter.get_metadata_schema()"
   ]
  },
  {
   "cell_type": "code",
   "execution_count": 147,
   "metadata": {},
   "outputs": [],
   "source": [
    "# Validate metadata with metadata_schema from nwbconverter\n",
    "\n",
    "validate(\n",
    "    instance=converter.get_metadata(),\n",
    "    schema=converter.get_metadata_schema()\n",
    ")"
   ]
  },
  {
   "cell_type": "code",
   "execution_count": 148,
   "metadata": {},
   "outputs": [
    {
     "name": "stdout",
     "output_type": "stream",
     "text": [
      "{\n",
      "  \"required\": [\n",
      "    \"NWBFile\"\n",
      "  ],\n",
      "  \"properties\": {\n",
      "    \"NWBFile\": {\n",
      "      \"required\": [\n",
      "        \"session_description\",\n",
      "        \"identifier\",\n",
      "        \"session_start_time\"\n",
      "      ],\n",
      "      \"properties\": {\n",
      "        \"session_description\": {\n",
      "          \"type\": \"string\",\n",
      "          \"format\": \"long\",\n",
      "          \"description\": \"a description of the session where this data was generated\",\n",
      "          \"default\": \"\"\n",
      "        },\n",
      "        \"identifier\": {\n",
      "          \"type\": \"string\",\n",
      "          \"description\": \"a unique text identifier for the file\",\n",
      "          \"default\": \"8992b28b-da95-4a65-ab7b-039887bafd93\"\n",
      "        },\n",
      "        \"session_start_time\": {\n",
      "          \"type\": \"string\",\n",
      "          \"description\": \"the start date and time of the recording session\",\n",
      "          \"format\": \"date-time\",\n",
      "          \"default\": \"2020-10-04T11:07:07\"\n",
      "        },\n",
      "        \"experimenter\": {\n",
      "          \"type\": \"array\",\n",
      "          \"items\": {\n",
      "            \"type\": \"string\",\n",
      "            \"title\": \"experimenter\"\n",
      "          },\n",
      "          \"description\": \"name of person who performed experiment\",\n",
      "          \"default\": [\n",
      "            \"Abid\"\n",
      "          ]\n",
      "        },\n",
      "        \"experiment_description\": {\n",
      "          \"type\": \"string\",\n",
      "          \"description\": \"general description of the experiment\"\n",
      "        },\n",
      "        \"session_id\": {\n",
      "          \"type\": \"string\",\n",
      "          \"description\": \"lab-specific ID for the session\"\n",
      "        },\n",
      "        \"institution\": {\n",
      "          \"type\": \"string\",\n",
      "          \"description\": \"institution(s) where experiment is performed\"\n",
      "        },\n",
      "        \"notes\": {\n",
      "          \"type\": \"string\",\n",
      "          \"description\": \"Notes about the experiment.\"\n",
      "        },\n",
      "        \"pharmacology\": {\n",
      "          \"type\": \"string\",\n",
      "          \"description\": \"Description of drugs used, including how and when they were administered. Anesthesia(s), painkiller(s), etc., plus dosage, concentration, etc.\"\n",
      "        },\n",
      "        \"protocol\": {\n",
      "          \"type\": \"string\",\n",
      "          \"description\": \"Experimental protocol, if applicable. E.g., include IACUC protocol\"\n",
      "        },\n",
      "        \"related_publications\": {\n",
      "          \"type\": \"string\",\n",
      "          \"description\": \"Publication information.PMID, DOI, URL, etc. If multiple, concatenate together and describe which is which. such as PMID, DOI, URL, etc\"\n",
      "        },\n",
      "        \"slices\": {\n",
      "          \"type\": \"string\",\n",
      "          \"description\": \"Description of slices, including information about preparation thickness, orientation, temperature and bath solution\"\n",
      "        },\n",
      "        \"source_script\": {\n",
      "          \"type\": \"string\",\n",
      "          \"description\": \"Script file used to create this NWB file.\"\n",
      "        },\n",
      "        \"source_script_file_name\": {\n",
      "          \"type\": \"string\",\n",
      "          \"description\": \"Name of the source_script file\"\n",
      "        },\n",
      "        \"data_collection\": {\n",
      "          \"type\": \"string\",\n",
      "          \"description\": \"Notes about data collection and analysis.\"\n",
      "        },\n",
      "        \"surgery\": {\n",
      "          \"type\": \"string\",\n",
      "          \"description\": \"Narrative description about surgery/surgeries, including date(s) and who performed surgery.\"\n",
      "        },\n",
      "        \"virus\": {\n",
      "          \"type\": \"string\",\n",
      "          \"description\": \"Information about virus(es) used in experiments, including virus ID, source, date made, injection location, volume, etc.\"\n",
      "        },\n",
      "        \"stimulus_notes\": {\n",
      "          \"type\": \"string\",\n",
      "          \"description\": \"Notes about stimuli, such as how and where presented.\"\n",
      "        },\n",
      "        \"lab\": {\n",
      "          \"type\": \"string\",\n",
      "          \"description\": \"lab where experiment was performed\"\n",
      "        }\n",
      "      },\n",
      "      \"type\": \"object\",\n",
      "      \"additionalProperties\": false,\n",
      "      \"tag\": \"pynwb.file.NWBFile\"\n",
      "    },\n",
      "    \"Subject\": {\n",
      "      \"required\": [],\n",
      "      \"properties\": {\n",
      "        \"age\": {\n",
      "          \"description\": \"the age of the subject\",\n",
      "          \"type\": \"string\"\n",
      "        },\n",
      "        \"description\": {\n",
      "          \"description\": \"a description of the subject\",\n",
      "          \"type\": \"string\"\n",
      "        },\n",
      "        \"genotype\": {\n",
      "          \"description\": \"the genotype of the subject\",\n",
      "          \"type\": \"string\"\n",
      "        },\n",
      "        \"sex\": {\n",
      "          \"description\": \"the sex of the subject\",\n",
      "          \"type\": \"string\"\n",
      "        },\n",
      "        \"species\": {\n",
      "          \"description\": \"the species of the subject\",\n",
      "          \"type\": \"string\"\n",
      "        },\n",
      "        \"subject_id\": {\n",
      "          \"description\": \"a unique identifier for the subject\",\n",
      "          \"type\": \"string\"\n",
      "        },\n",
      "        \"weight\": {\n",
      "          \"description\": \"the weight of the subject\",\n",
      "          \"type\": \"string\"\n",
      "        },\n",
      "        \"date_of_birth\": {\n",
      "          \"description\": \"datetime of date of birth. May be supplied instead of age.\",\n",
      "          \"type\": \"string\",\n",
      "          \"format\": \"date-time\"\n",
      "        }\n",
      "      },\n",
      "      \"type\": \"object\",\n",
      "      \"additionalProperties\": false,\n",
      "      \"tag\": \"pynwb.file.Subject\"\n",
      "    },\n",
      "    \"Ecephys\": {\n",
      "      \"required\": [\n",
      "        \"ElectrodeGroup\",\n",
      "        \"Device\"\n",
      "      ],\n",
      "      \"properties\": {\n",
      "        \"Device\": {\n",
      "          \"type\": \"array\",\n",
      "          \"minItems\": 1,\n",
      "          \"items\": {\n",
      "            \"$ref\": \"#/properties/Ecephys/properties/definitions/Device\"\n",
      "          },\n",
      "          \"default\": [\n",
      "            {\n",
      "              \"name\": \"Axona\",\n",
      "              \"description\": \"Axona DacqUSB, sw_version=1.2.2.16\",\n",
      "              \"manufacturer\": \"Axona\"\n",
      "            }\n",
      "          ]\n",
      "        },\n",
      "        \"ElectrodeGroup\": {\n",
      "          \"type\": \"array\",\n",
      "          \"minItems\": 1,\n",
      "          \"items\": {\n",
      "            \"$ref\": \"#/properties/Ecephys/properties/definitions/ElectrodeGroup\"\n",
      "          },\n",
      "          \"default\": [\n",
      "            {\n",
      "              \"name\": \"Group0\",\n",
      "              \"location\": \"\",\n",
      "              \"device\": \"Axona\",\n",
      "              \"description\": \"Group 0 electrodes.\"\n",
      "            },\n",
      "            {\n",
      "              \"name\": \"Group1\",\n",
      "              \"location\": \"\",\n",
      "              \"device\": \"Axona\",\n",
      "              \"description\": \"Group 1 electrodes.\"\n",
      "            },\n",
      "            {\n",
      "              \"name\": \"Group2\",\n",
      "              \"location\": \"\",\n",
      "              \"device\": \"Axona\",\n",
      "              \"description\": \"Group 2 electrodes.\"\n",
      "            },\n",
      "            {\n",
      "              \"name\": \"Group3\",\n",
      "              \"location\": \"\",\n",
      "              \"device\": \"Axona\",\n",
      "              \"description\": \"Group 3 electrodes.\"\n",
      "            }\n",
      "          ]\n",
      "        },\n",
      "        \"definitions\": {\n",
      "          \"Device\": {\n",
      "            \"required\": [\n",
      "              \"name\"\n",
      "            ],\n",
      "            \"properties\": {\n",
      "              \"name\": {\n",
      "                \"description\": \"the name of this device\",\n",
      "                \"type\": \"string\"\n",
      "              },\n",
      "              \"description\": {\n",
      "                \"description\": \"Description of the device (e.g., model, firmware version, processing software version, etc.)\",\n",
      "                \"type\": \"string\"\n",
      "              },\n",
      "              \"manufacturer\": {\n",
      "                \"description\": \"the name of the manufacturer of this device\",\n",
      "                \"type\": \"string\"\n",
      "              }\n",
      "            },\n",
      "            \"type\": \"object\",\n",
      "            \"additionalProperties\": false,\n",
      "            \"tag\": \"pynwb.device.Device\"\n",
      "          },\n",
      "          \"ElectrodeGroup\": {\n",
      "            \"required\": [\n",
      "              \"location\",\n",
      "              \"description\",\n",
      "              \"device\",\n",
      "              \"name\"\n",
      "            ],\n",
      "            \"properties\": {\n",
      "              \"name\": {\n",
      "                \"description\": \"the name of this electrode\",\n",
      "                \"type\": \"string\"\n",
      "              },\n",
      "              \"description\": {\n",
      "                \"description\": \"description of this electrode group\",\n",
      "                \"type\": \"string\"\n",
      "              },\n",
      "              \"location\": {\n",
      "                \"description\": \"description of location of this electrode group\",\n",
      "                \"type\": \"string\"\n",
      "              },\n",
      "              \"device\": {\n",
      "                \"description\": \"the device that was used to record from this electrode group\",\n",
      "                \"type\": \"string\",\n",
      "                \"target\": \"pynwb.device.Device\"\n",
      "              }\n",
      "            },\n",
      "            \"type\": \"object\",\n",
      "            \"additionalProperties\": false,\n",
      "            \"tag\": \"pynwb.ecephys.ElectrodeGroup\"\n",
      "          }\n",
      "        },\n",
      "        \"Electrodes\": {\n",
      "          \"required\": [\n",
      "            \"description\",\n",
      "            \"name\",\n",
      "            \"data\"\n",
      "          ],\n",
      "          \"properties\": {\n",
      "            \"name\": {\n",
      "              \"description\": \"Electrode group name this electrode is a part of.\",\n",
      "              \"type\": \"string\"\n",
      "            },\n",
      "            \"description\": {\n",
      "              \"description\": \"Description of this electrode group\",\n",
      "              \"type\": \"string\"\n",
      "            },\n",
      "            \"data\": {\n",
      "              \"description\": \"Electrode group name for each electrode.\",\n",
      "              \"type\": \"array\"\n",
      "            }\n",
      "          },\n",
      "          \"type\": \"array\",\n",
      "          \"additionalProperties\": false,\n",
      "          \"tag\": \"Electrodes\",\n",
      "          \"default\": [\n",
      "            {\n",
      "              \"name\": \"group_name\",\n",
      "              \"description\": \"The name of the ElectrodeGroup this electrode is a part of.\",\n",
      "              \"data\": [\n",
      "                \"Group0\",\n",
      "                \"Group0\",\n",
      "                \"Group0\",\n",
      "                \"Group0\",\n",
      "                \"Group1\",\n",
      "                \"Group1\",\n",
      "                \"Group1\",\n",
      "                \"Group1\",\n",
      "                \"Group2\",\n",
      "                \"Group2\",\n",
      "                \"Group2\",\n",
      "                \"Group2\",\n",
      "                \"Group3\",\n",
      "                \"Group3\",\n",
      "                \"Group3\",\n",
      "                \"Group3\"\n",
      "              ]\n",
      "            }\n",
      "          ]\n",
      "        },\n",
      "        \"ElectricalSeries\": {\n",
      "          \"required\": [\n",
      "            \"name\"\n",
      "          ],\n",
      "          \"properties\": {\n",
      "            \"name\": {\n",
      "              \"description\": \"The name of this TimeSeries dataset\",\n",
      "              \"type\": \"string\",\n",
      "              \"default\": \"ElectricalSeries\"\n",
      "            },\n",
      "            \"resolution\": {\n",
      "              \"description\": \"The smallest meaningful difference (in specified unit) between values in data\",\n",
      "              \"type\": \"number\",\n",
      "              \"default\": -1.0\n",
      "            },\n",
      "            \"conversion\": {\n",
      "              \"description\": \"Scalar to multiply each element in data to convert it to the specified unit\",\n",
      "              \"type\": \"number\",\n",
      "              \"default\": 1.0\n",
      "            },\n",
      "            \"starting_time\": {\n",
      "              \"description\": \"The timestamp of the first sample\",\n",
      "              \"type\": \"number\"\n",
      "            },\n",
      "            \"rate\": {\n",
      "              \"description\": \"Sampling rate in Hz\",\n",
      "              \"type\": \"number\"\n",
      "            },\n",
      "            \"comments\": {\n",
      "              \"description\": \"Human-readable comments about this TimeSeries dataset\",\n",
      "              \"type\": \"string\",\n",
      "              \"default\": \"no comments\"\n",
      "            },\n",
      "            \"description\": {\n",
      "              \"description\": \"Description of this TimeSeries dataset\",\n",
      "              \"type\": \"string\",\n",
      "              \"default\": \"Raw acquisition traces.\"\n",
      "            }\n",
      "          },\n",
      "          \"type\": \"object\",\n",
      "          \"additionalProperties\": false,\n",
      "          \"tag\": \"pynwb.ecephys.ElectricalSeries\"\n",
      "        }\n",
      "      },\n",
      "      \"type\": \"object\",\n",
      "      \"additionalProperties\": false,\n",
      "      \"tag\": \"Ecephys\"\n",
      "    }\n",
      "  },\n",
      "  \"type\": \"object\",\n",
      "  \"additionalProperties\": false,\n",
      "  \"$schema\": \"http://json-schema.org/draft-07/schema#\",\n",
      "  \"$id\": \"metadata.schema.json\",\n",
      "  \"title\": \"Metadata\",\n",
      "  \"description\": \"Schema for the metadata\",\n",
      "  \"version\": \"0.1.0\"\n",
      "}\n"
     ]
    }
   ],
   "source": [
    "print(json.dumps(converter.get_metadata_schema(), indent=2))"
   ]
  },
  {
   "cell_type": "code",
   "execution_count": 149,
   "metadata": {},
   "outputs": [],
   "source": [
    "# Test pytest function test_interface_schemas() for this specific interface\n",
    "\n",
    "from jsonschema import Draft7Validator"
   ]
  },
  {
   "cell_type": "code",
   "execution_count": 150,
   "metadata": {},
   "outputs": [],
   "source": [
    "data_interface = AxonaRecordingExtractorInterface(filename=filename)\n",
    "\n",
    "schema = data_interface.get_source_schema()\n",
    "Draft7Validator.check_schema(schema)\n",
    "\n",
    "# check validity of conversion options schema\n",
    "schema = data_interface.get_conversion_options_schema()\n",
    "Draft7Validator.check_schema(schema)"
   ]
  },
  {
   "cell_type": "code",
   "execution_count": 151,
   "metadata": {},
   "outputs": [
    {
     "data": {
      "text/plain": [
       "'/mnt/d/freelance-work/catalyst-neuro/hussaini-lab-to-nwb/example_data_raw'"
      ]
     },
     "execution_count": 151,
     "metadata": {},
     "output_type": "execute_result"
    }
   ],
   "source": [
    "dir_name"
   ]
  },
  {
   "cell_type": "code",
   "execution_count": 152,
   "metadata": {},
   "outputs": [],
   "source": [
    "from nwb_conversion_tools.conversion_tools import get_default_nwbfile_metadata\n",
    "from nwb_conversion_tools.json_schema_utils import dict_deep_update"
   ]
  },
  {
   "cell_type": "code",
   "execution_count": 153,
   "metadata": {},
   "outputs": [],
   "source": [
    "metadata = dict_deep_update(get_default_nwbfile_metadata(), metadata)"
   ]
  },
  {
   "cell_type": "code",
   "execution_count": 154,
   "metadata": {},
   "outputs": [
    {
     "data": {
      "text/plain": [
       "{'session_description': '',\n",
       " 'session_start_time': '2020-10-04T11:07:07',\n",
       " 'identifier': '1c6dd41e-e532-4a87-bb1d-b20e4467d8f0',\n",
       " 'experimenter': ['Abid']}"
      ]
     },
     "execution_count": 154,
     "metadata": {},
     "output_type": "execute_result"
    }
   ],
   "source": [
    "metadata['NWBFile']"
   ]
  },
  {
   "cell_type": "code",
   "execution_count": 155,
   "metadata": {},
   "outputs": [],
   "source": [
    "metadata_test = metadata"
   ]
  },
  {
   "cell_type": "code",
   "execution_count": 156,
   "metadata": {},
   "outputs": [
    {
     "data": {
      "text/plain": [
       "{'NWBFile': {'session_description': '',\n",
       "  'session_start_time': '2020-10-04T11:07:07',\n",
       "  'identifier': '1c6dd41e-e532-4a87-bb1d-b20e4467d8f0',\n",
       "  'experimenter': ['Abid']},\n",
       " 'Ecephys': {'Device': [{'name': 'Axona',\n",
       "    'description': 'Axona DacqUSB, sw_version=1.2.2.16',\n",
       "    'manufacturer': 'Axona'}],\n",
       "  'ElectrodeGroup': [{'name': 'Group0',\n",
       "    'location': '',\n",
       "    'device': 'Axona',\n",
       "    'description': 'Group 0 electrodes.'},\n",
       "   {'name': 'Group1',\n",
       "    'location': '',\n",
       "    'device': 'Axona',\n",
       "    'description': 'Group 1 electrodes.'},\n",
       "   {'name': 'Group2',\n",
       "    'location': '',\n",
       "    'device': 'Axona',\n",
       "    'description': 'Group 2 electrodes.'},\n",
       "   {'name': 'Group3',\n",
       "    'location': '',\n",
       "    'device': 'Axona',\n",
       "    'description': 'Group 3 electrodes.'}],\n",
       "  'Electrodes': [{'name': 'group_name',\n",
       "    'description': 'The name of the ElectrodeGroup this electrode is a part of.',\n",
       "    'data': ['Group0',\n",
       "     'Group0',\n",
       "     'Group0',\n",
       "     'Group0',\n",
       "     'Group1',\n",
       "     'Group1',\n",
       "     'Group1',\n",
       "     'Group1',\n",
       "     'Group2',\n",
       "     'Group2',\n",
       "     'Group2',\n",
       "     'Group2',\n",
       "     'Group3',\n",
       "     'Group3',\n",
       "     'Group3',\n",
       "     'Group3']}],\n",
       "  'ElectricalSeries': {'name': 'ElectricalSeries',\n",
       "   'description': 'Raw acquisition traces.'}}}"
      ]
     },
     "execution_count": 156,
     "metadata": {},
     "output_type": "execute_result"
    }
   ],
   "source": [
    "metadata_test"
   ]
  },
  {
   "cell_type": "code",
   "execution_count": 157,
   "metadata": {},
   "outputs": [
    {
     "data": {
      "text/plain": [
       "{'AxonaRecordingExtractorInterface': <nwb_conversion_tools.datainterfaces.axonadatainterface.AxonaRecordingExtractorInterface at 0x7f16c7eed4c0>}"
      ]
     },
     "execution_count": 157,
     "metadata": {},
     "output_type": "execute_result"
    }
   ],
   "source": [
    "converter.data_interface_objects"
   ]
  },
  {
   "cell_type": "code",
   "execution_count": 158,
   "metadata": {},
   "outputs": [
    {
     "data": {
      "text/plain": [
       "{'session_description': '',\n",
       " 'session_start_time': '2020-10-04T11:07:07',\n",
       " 'identifier': '1c6dd41e-e532-4a87-bb1d-b20e4467d8f0',\n",
       " 'experimenter': ['Abid']}"
      ]
     },
     "execution_count": 158,
     "metadata": {},
     "output_type": "execute_result"
    }
   ],
   "source": [
    "metadata[\"NWBFile\"]"
   ]
  },
  {
   "cell_type": "code",
   "execution_count": 159,
   "metadata": {},
   "outputs": [],
   "source": [
    "from datetime import datetime\n",
    "from pynwb import NWBFile"
   ]
  },
  {
   "cell_type": "code",
   "execution_count": 160,
   "metadata": {},
   "outputs": [],
   "source": [
    "def make_nwbfile_from_metadata(metadata: dict):\n",
    "    \"\"\"Make NWBFile from available metadata.\"\"\"\n",
    "    metadata = dict_deep_update(get_default_nwbfile_metadata(), metadata)\n",
    "    nwbfile_kwargs = metadata[\"NWBFile\"]\n",
    "    if \"Subject\" in metadata:\n",
    "        # convert ISO 8601 string to datetime\n",
    "        if \"date_of_birth\" in metadata[\"Subject\"] and isinstance(metadata[\"Subject\"][\"date_of_birth\"], str):\n",
    "            metadata[\"Subject\"][\"date_of_birth\"] = datetime.fromisoformat(metadata[\"Subject\"][\"date_of_birth\"])\n",
    "        nwbfile_kwargs.update(subject=Subject(**metadata[\"Subject\"]))\n",
    "    # convert ISO 8601 string to datetime\n",
    "    if isinstance(nwbfile_kwargs.get(\"session_start_time\", None), str):\n",
    "        nwbfile_kwargs[\"session_start_time\"] = datetime.fromisoformat(metadata[\"NWBFile\"][\"session_start_time\"])\n",
    "    return NWBFile(**nwbfile_kwargs)"
   ]
  },
  {
   "cell_type": "code",
   "execution_count": 161,
   "metadata": {},
   "outputs": [],
   "source": [
    "nwbfile = make_nwbfile_from_metadata(metadata=metadata_test)"
   ]
  },
  {
   "cell_type": "code",
   "execution_count": 162,
   "metadata": {},
   "outputs": [
    {
     "name": "stdout",
     "output_type": "stream",
     "text": [
      "<class 'list'>\n",
      "<class 'dict'>\n"
     ]
    }
   ],
   "source": [
    "print(type(metadata_test['Ecephys']['Device']))\n",
    "print(type(metadata_test['Ecephys']['Device'][0]))"
   ]
  },
  {
   "cell_type": "code",
   "execution_count": 163,
   "metadata": {},
   "outputs": [],
   "source": [
    "import spikeextractors as se\n",
    "import numpy as np"
   ]
  },
  {
   "cell_type": "code",
   "execution_count": 164,
   "metadata": {},
   "outputs": [],
   "source": [
    "r_cache = se.load_extractor_from_pickle(os.path.join(dir_name, 'cached_data_preproc.pkl'))"
   ]
  },
  {
   "cell_type": "code",
   "execution_count": 165,
   "metadata": {},
   "outputs": [],
   "source": [
    "data_interface = HussainiNWBConverter"
   ]
  },
  {
   "cell_type": "code",
   "execution_count": 166,
   "metadata": {},
   "outputs": [
    {
     "data": {
      "text/plain": [
       "{'NWBFile': {'session_description': '',\n",
       "  'session_start_time': '2020-10-04T11:07:07',\n",
       "  'identifier': '1c6dd41e-e532-4a87-bb1d-b20e4467d8f0',\n",
       "  'experimenter': ['Abid']},\n",
       " 'Ecephys': {'Device': [{'name': 'Axona',\n",
       "    'description': 'Axona DacqUSB, sw_version=1.2.2.16',\n",
       "    'manufacturer': 'Axona'}],\n",
       "  'ElectrodeGroup': [{'name': 'Group0',\n",
       "    'location': '',\n",
       "    'device': 'Axona',\n",
       "    'description': 'Group 0 electrodes.'},\n",
       "   {'name': 'Group1',\n",
       "    'location': '',\n",
       "    'device': 'Axona',\n",
       "    'description': 'Group 1 electrodes.'},\n",
       "   {'name': 'Group2',\n",
       "    'location': '',\n",
       "    'device': 'Axona',\n",
       "    'description': 'Group 2 electrodes.'},\n",
       "   {'name': 'Group3',\n",
       "    'location': '',\n",
       "    'device': 'Axona',\n",
       "    'description': 'Group 3 electrodes.'}],\n",
       "  'Electrodes': [{'name': 'group_name',\n",
       "    'description': 'The name of the ElectrodeGroup this electrode is a part of.',\n",
       "    'data': ['Group0',\n",
       "     'Group0',\n",
       "     'Group0',\n",
       "     'Group0',\n",
       "     'Group1',\n",
       "     'Group1',\n",
       "     'Group1',\n",
       "     'Group1',\n",
       "     'Group2',\n",
       "     'Group2',\n",
       "     'Group2',\n",
       "     'Group2',\n",
       "     'Group3',\n",
       "     'Group3',\n",
       "     'Group3',\n",
       "     'Group3']}],\n",
       "  'ElectricalSeries': {'name': 'ElectricalSeries',\n",
       "   'description': 'Raw acquisition traces.'}}}"
      ]
     },
     "execution_count": 166,
     "metadata": {},
     "output_type": "execute_result"
    }
   ],
   "source": [
    "metadata_test"
   ]
  },
  {
   "cell_type": "code",
   "execution_count": 167,
   "metadata": {},
   "outputs": [
    {
     "name": "stdout",
     "output_type": "stream",
     "text": [
      "Using Device to instantiate electrode group\n"
     ]
    },
    {
     "name": "stderr",
     "output_type": "stream",
     "text": [
      "/mnt/d/spikeinterface/spikeextractors/spikeextractors/extractors/nwbextractors/nwbextractors.py:581: UserWarning: Electrode group for electrode 0 was not found in the nwbfile! Automatically adding.\n",
      "  se.NwbRecordingExtractor.add_electrode_groups(recording, nwbfile, missing_group_metadata)\n"
     ]
    },
    {
     "ename": "AssertionError",
     "evalue": "Expected metadata['Ecephys']['ElectrodeGroup'] to be a list of dictionaries!",
     "output_type": "error",
     "traceback": [
      "\u001b[0;31m---------------------------------------------------------------------------\u001b[0m",
      "\u001b[0;31mAssertionError\u001b[0m                            Traceback (most recent call last)",
      "\u001b[0;32m<ipython-input-167-8e296201d50a>\u001b[0m in \u001b[0;36m<module>\u001b[0;34m\u001b[0m\n\u001b[0;32m----> 1\u001b[0;31m converter.run_conversion(metadata=metadata_test,\n\u001b[0m\u001b[1;32m      2\u001b[0m                          \u001b[0msave_to_file\u001b[0m\u001b[0;34m=\u001b[0m\u001b[0;32mFalse\u001b[0m\u001b[0;34m,\u001b[0m\u001b[0;34m\u001b[0m\u001b[0;34m\u001b[0m\u001b[0m\n\u001b[1;32m      3\u001b[0m                          \u001b[0mnwbfile_path\u001b[0m\u001b[0;34m=\u001b[0m\u001b[0;32mNone\u001b[0m\u001b[0;34m,\u001b[0m\u001b[0;34m\u001b[0m\u001b[0;34m\u001b[0m\u001b[0m\n\u001b[1;32m      4\u001b[0m                          nwbfile=None)\n",
      "\u001b[0;32m/mnt/d/spikeinterface/nwb-conversion-tools/nwb_conversion_tools/nwbconverter.py\u001b[0m in \u001b[0;36mrun_conversion\u001b[0;34m(self, metadata, save_to_file, nwbfile_path, overwrite, nwbfile, conversion_options)\u001b[0m\n\u001b[1;32m    171\u001b[0m                 \u001b[0mnwbfile\u001b[0m \u001b[0;34m=\u001b[0m \u001b[0mmake_nwbfile_from_metadata\u001b[0m\u001b[0;34m(\u001b[0m\u001b[0mmetadata\u001b[0m\u001b[0;34m=\u001b[0m\u001b[0mmetadata\u001b[0m\u001b[0;34m)\u001b[0m\u001b[0;34m\u001b[0m\u001b[0;34m\u001b[0m\u001b[0m\n\u001b[1;32m    172\u001b[0m             \u001b[0;32mfor\u001b[0m \u001b[0minterface_name\u001b[0m\u001b[0;34m,\u001b[0m \u001b[0mdata_interface\u001b[0m \u001b[0;32min\u001b[0m \u001b[0mself\u001b[0m\u001b[0;34m.\u001b[0m\u001b[0mdata_interface_objects\u001b[0m\u001b[0;34m.\u001b[0m\u001b[0mitems\u001b[0m\u001b[0;34m(\u001b[0m\u001b[0;34m)\u001b[0m\u001b[0;34m:\u001b[0m\u001b[0;34m\u001b[0m\u001b[0;34m\u001b[0m\u001b[0m\n\u001b[0;32m--> 173\u001b[0;31m                 \u001b[0mdata_interface\u001b[0m\u001b[0;34m.\u001b[0m\u001b[0mrun_conversion\u001b[0m\u001b[0;34m(\u001b[0m\u001b[0mnwbfile\u001b[0m\u001b[0;34m,\u001b[0m \u001b[0mmetadata\u001b[0m\u001b[0;34m,\u001b[0m \u001b[0;34m**\u001b[0m\u001b[0mconversion_options\u001b[0m\u001b[0;34m.\u001b[0m\u001b[0mget\u001b[0m\u001b[0;34m(\u001b[0m\u001b[0minterface_name\u001b[0m\u001b[0;34m,\u001b[0m \u001b[0mdict\u001b[0m\u001b[0;34m(\u001b[0m\u001b[0;34m)\u001b[0m\u001b[0;34m)\u001b[0m\u001b[0;34m)\u001b[0m\u001b[0;34m\u001b[0m\u001b[0;34m\u001b[0m\u001b[0m\n\u001b[0m\u001b[1;32m    174\u001b[0m             \u001b[0;32mreturn\u001b[0m \u001b[0mnwbfile\u001b[0m\u001b[0;34m\u001b[0m\u001b[0;34m\u001b[0m\u001b[0m\n",
      "\u001b[0;32m/mnt/d/spikeinterface/nwb-conversion-tools/nwb_conversion_tools/baserecordingextractorinterface.py\u001b[0m in \u001b[0;36mrun_conversion\u001b[0;34m(self, nwbfile, metadata, stub_test, use_times, save_path, overwrite, buffer_mb, write_as, es_key)\u001b[0m\n\u001b[1;32m    129\u001b[0m             \u001b[0mrecording\u001b[0m \u001b[0;34m=\u001b[0m \u001b[0mself\u001b[0m\u001b[0;34m.\u001b[0m\u001b[0mrecording_extractor\u001b[0m\u001b[0;34m\u001b[0m\u001b[0;34m\u001b[0m\u001b[0m\n\u001b[1;32m    130\u001b[0m \u001b[0;34m\u001b[0m\u001b[0m\n\u001b[0;32m--> 131\u001b[0;31m         se.NwbRecordingExtractor.write_recording(\n\u001b[0m\u001b[1;32m    132\u001b[0m             \u001b[0mrecording\u001b[0m\u001b[0;34m=\u001b[0m\u001b[0mrecording\u001b[0m\u001b[0;34m,\u001b[0m\u001b[0;34m\u001b[0m\u001b[0;34m\u001b[0m\u001b[0m\n\u001b[1;32m    133\u001b[0m             \u001b[0mnwbfile\u001b[0m\u001b[0;34m=\u001b[0m\u001b[0mnwbfile\u001b[0m\u001b[0;34m,\u001b[0m\u001b[0;34m\u001b[0m\u001b[0;34m\u001b[0m\u001b[0m\n",
      "\u001b[0;32m/mnt/d/spikeinterface/spikeextractors/spikeextractors/extractors/nwbextractors/nwbextractors.py\u001b[0m in \u001b[0;36mwrite_recording\u001b[0;34m(recording, save_path, overwrite, nwbfile, buffer_mb, use_times, metadata, write_as, es_key, write_scaled)\u001b[0m\n\u001b[1;32m   1089\u001b[0m                 \u001b[0mio\u001b[0m\u001b[0;34m.\u001b[0m\u001b[0mwrite\u001b[0m\u001b[0;34m(\u001b[0m\u001b[0mnwbfile\u001b[0m\u001b[0;34m)\u001b[0m\u001b[0;34m\u001b[0m\u001b[0;34m\u001b[0m\u001b[0m\n\u001b[1;32m   1090\u001b[0m         \u001b[0;32melse\u001b[0m\u001b[0;34m:\u001b[0m\u001b[0;34m\u001b[0m\u001b[0;34m\u001b[0m\u001b[0m\n\u001b[0;32m-> 1091\u001b[0;31m             se.NwbRecordingExtractor.add_all_to_nwbfile(\n\u001b[0m\u001b[1;32m   1092\u001b[0m                 \u001b[0mrecording\u001b[0m\u001b[0;34m=\u001b[0m\u001b[0mrecording\u001b[0m\u001b[0;34m,\u001b[0m\u001b[0;34m\u001b[0m\u001b[0;34m\u001b[0m\u001b[0m\n\u001b[1;32m   1093\u001b[0m                 \u001b[0mnwbfile\u001b[0m\u001b[0;34m=\u001b[0m\u001b[0mnwbfile\u001b[0m\u001b[0;34m,\u001b[0m\u001b[0;34m\u001b[0m\u001b[0;34m\u001b[0m\u001b[0m\n",
      "\u001b[0;32m/mnt/d/spikeinterface/spikeextractors/spikeextractors/extractors/nwbextractors/nwbextractors.py\u001b[0m in \u001b[0;36madd_all_to_nwbfile\u001b[0;34m(recording, nwbfile, buffer_mb, use_times, metadata, write_as, es_key, write_scaled)\u001b[0m\n\u001b[1;32m    949\u001b[0m             \u001b[0mmetadata\u001b[0m\u001b[0;34m=\u001b[0m\u001b[0mmetadata\u001b[0m\u001b[0;34m\u001b[0m\u001b[0;34m\u001b[0m\u001b[0m\n\u001b[1;32m    950\u001b[0m         )\n\u001b[0;32m--> 951\u001b[0;31m         se.NwbRecordingExtractor.add_electrodes(\n\u001b[0m\u001b[1;32m    952\u001b[0m             \u001b[0mrecording\u001b[0m\u001b[0;34m=\u001b[0m\u001b[0mrecording\u001b[0m\u001b[0;34m,\u001b[0m\u001b[0;34m\u001b[0m\u001b[0;34m\u001b[0m\u001b[0m\n\u001b[1;32m    953\u001b[0m             \u001b[0mnwbfile\u001b[0m\u001b[0;34m=\u001b[0m\u001b[0mnwbfile\u001b[0m\u001b[0;34m,\u001b[0m\u001b[0;34m\u001b[0m\u001b[0;34m\u001b[0m\u001b[0m\n",
      "\u001b[0;32m/mnt/d/spikeinterface/spikeextractors/spikeextractors/extractors/nwbextractors/nwbextractors.py\u001b[0m in \u001b[0;36madd_electrodes\u001b[0;34m(recording, nwbfile, metadata, write_scaled)\u001b[0m\n\u001b[1;32m    591\u001b[0m                                 )\n\u001b[1;32m    592\u001b[0m                             )\n\u001b[0;32m--> 593\u001b[0;31m                             \u001b[0mse\u001b[0m\u001b[0;34m.\u001b[0m\u001b[0mNwbRecordingExtractor\u001b[0m\u001b[0;34m.\u001b[0m\u001b[0madd_electrode_groups\u001b[0m\u001b[0;34m(\u001b[0m\u001b[0mrecording\u001b[0m\u001b[0;34m,\u001b[0m \u001b[0mnwbfile\u001b[0m\u001b[0;34m,\u001b[0m \u001b[0mmissing_group_metadata\u001b[0m\u001b[0;34m)\u001b[0m\u001b[0;34m\u001b[0m\u001b[0;34m\u001b[0m\u001b[0m\n\u001b[0m\u001b[1;32m    594\u001b[0m                         electrode_kwargs.update(\n\u001b[1;32m    595\u001b[0m                             dict(\n",
      "\u001b[0;32m/mnt/d/spikeinterface/spikeextractors/spikeextractors/extractors/nwbextractors/nwbextractors.py\u001b[0m in \u001b[0;36madd_electrode_groups\u001b[0;34m(recording, nwbfile, metadata)\u001b[0m\n\u001b[1;32m    429\u001b[0m                 )\n\u001b[1;32m    430\u001b[0m             )\n\u001b[0;32m--> 431\u001b[0;31m         \u001b[0;32massert\u001b[0m \u001b[0mall\u001b[0m\u001b[0;34m(\u001b[0m\u001b[0;34m[\u001b[0m\u001b[0misinstance\u001b[0m\u001b[0;34m(\u001b[0m\u001b[0mx\u001b[0m\u001b[0;34m,\u001b[0m \u001b[0mdict\u001b[0m\u001b[0;34m)\u001b[0m \u001b[0;32mfor\u001b[0m \u001b[0mx\u001b[0m \u001b[0;32min\u001b[0m \u001b[0mmetadata\u001b[0m\u001b[0;34m[\u001b[0m\u001b[0;34m'Ecephys'\u001b[0m\u001b[0;34m]\u001b[0m\u001b[0;34m[\u001b[0m\u001b[0;34m'ElectrodeGroup'\u001b[0m\u001b[0;34m]\u001b[0m\u001b[0;34m]\u001b[0m\u001b[0;34m)\u001b[0m\u001b[0;34m,\u001b[0m\u001b[0;31m \u001b[0m\u001b[0;31m\\\u001b[0m\u001b[0;34m\u001b[0m\u001b[0;34m\u001b[0m\u001b[0m\n\u001b[0m\u001b[1;32m    432\u001b[0m             \u001b[0;34m\"Expected metadata['Ecephys']['ElectrodeGroup'] to be a list of dictionaries!\"\u001b[0m\u001b[0;34m\u001b[0m\u001b[0;34m\u001b[0m\u001b[0m\n\u001b[1;32m    433\u001b[0m \u001b[0;34m\u001b[0m\u001b[0m\n",
      "\u001b[0;31mAssertionError\u001b[0m: Expected metadata['Ecephys']['ElectrodeGroup'] to be a list of dictionaries!"
     ]
    }
   ],
   "source": [
    "converter.run_conversion(metadata=metadata_test,\n",
    "                         save_to_file=False,\n",
    "                         nwbfile_path=None,\n",
    "                         nwbfile=None)"
   ]
  },
  {
   "cell_type": "code",
   "execution_count": 130,
   "metadata": {},
   "outputs": [],
   "source": [
    "import datetime"
   ]
  },
  {
   "cell_type": "code",
   "execution_count": 131,
   "metadata": {},
   "outputs": [
    {
     "data": {
      "text/plain": [
       "{'NWBFile': {'session_description': '',\n",
       "  'session_start_time': '2020-10-04T11:07:07',\n",
       "  'identifier': '011b9194-3012-41ad-a617-310bd4b8624d',\n",
       "  'experimenter': ['Abid']},\n",
       " 'Ecephys': {'Device': [{'name': 'Axona',\n",
       "    'description': 'Axona DacqUSB, sw_version=1.2.2.16',\n",
       "    'manufacturer': 'Axona'}],\n",
       "  'ElectrodeGroup': [{'name': 'Group0',\n",
       "    'location': '',\n",
       "    'device': 'Axona',\n",
       "    'description': 'Group 0 electrodes.'},\n",
       "   {'name': 'Group1',\n",
       "    'location': '',\n",
       "    'device': 'Axona',\n",
       "    'description': 'Group 1 electrodes.'},\n",
       "   {'name': 'Group2',\n",
       "    'location': '',\n",
       "    'device': 'Axona',\n",
       "    'description': 'Group 2 electrodes.'},\n",
       "   {'name': 'Group3',\n",
       "    'location': '',\n",
       "    'device': 'Axona',\n",
       "    'description': 'Group 3 electrodes.'}],\n",
       "  'Electrodes': [{'name': 'group_name',\n",
       "    'description': 'The name of the ElectrodeGroup this electrode is a part of.',\n",
       "    'data': ['Group0',\n",
       "     'Group0',\n",
       "     'Group0',\n",
       "     'Group0',\n",
       "     'Group1',\n",
       "     'Group1',\n",
       "     'Group1',\n",
       "     'Group1',\n",
       "     'Group2',\n",
       "     'Group2',\n",
       "     'Group2',\n",
       "     'Group2',\n",
       "     'Group3',\n",
       "     'Group3',\n",
       "     'Group3',\n",
       "     'Group3']}],\n",
       "  'ElectricalSeries': {'name': 'ElectricalSeries',\n",
       "   'description': 'Raw acquisition traces.'}}}"
      ]
     },
     "execution_count": 131,
     "metadata": {},
     "output_type": "execute_result"
    }
   ],
   "source": [
    "metadata=converter.get_metadata()\n",
    "metadata"
   ]
  },
  {
   "cell_type": "code",
   "execution_count": 168,
   "metadata": {
    "scrolled": true
   },
   "outputs": [
    {
     "name": "stdout",
     "output_type": "stream",
     "text": [
      "Using Device to instantiate electrode group\n"
     ]
    },
    {
     "ename": "AssertionError",
     "evalue": "Expected metadata['Ecephys']['ElectrodeGroup'] to be a list of dictionaries!",
     "output_type": "error",
     "traceback": [
      "\u001b[0;31m---------------------------------------------------------------------------\u001b[0m",
      "\u001b[0;31mAssertionError\u001b[0m                            Traceback (most recent call last)",
      "\u001b[0;32m<ipython-input-168-c5f8d91b32e0>\u001b[0m in \u001b[0;36m<module>\u001b[0;34m\u001b[0m\n\u001b[1;32m      1\u001b[0m \u001b[0;31m# Get metadata_schema from converter\u001b[0m\u001b[0;34m\u001b[0m\u001b[0;34m\u001b[0m\u001b[0;34m\u001b[0m\u001b[0m\n\u001b[0;32m----> 2\u001b[0;31m converter.run_conversion(metadata=converter.get_metadata(),\n\u001b[0m\u001b[1;32m      3\u001b[0m                          \u001b[0msave_to_file\u001b[0m\u001b[0;34m=\u001b[0m\u001b[0;32mFalse\u001b[0m\u001b[0;34m,\u001b[0m\u001b[0;34m\u001b[0m\u001b[0;34m\u001b[0m\u001b[0m\n\u001b[1;32m      4\u001b[0m                          \u001b[0mnwbfile_path\u001b[0m\u001b[0;34m=\u001b[0m\u001b[0;32mNone\u001b[0m\u001b[0;34m,\u001b[0m\u001b[0;34m\u001b[0m\u001b[0;34m\u001b[0m\u001b[0m\n\u001b[1;32m      5\u001b[0m                          nwbfile=None)\n",
      "\u001b[0;32m/mnt/d/spikeinterface/nwb-conversion-tools/nwb_conversion_tools/nwbconverter.py\u001b[0m in \u001b[0;36mrun_conversion\u001b[0;34m(self, metadata, save_to_file, nwbfile_path, overwrite, nwbfile, conversion_options)\u001b[0m\n\u001b[1;32m    171\u001b[0m                 \u001b[0mnwbfile\u001b[0m \u001b[0;34m=\u001b[0m \u001b[0mmake_nwbfile_from_metadata\u001b[0m\u001b[0;34m(\u001b[0m\u001b[0mmetadata\u001b[0m\u001b[0;34m=\u001b[0m\u001b[0mmetadata\u001b[0m\u001b[0;34m)\u001b[0m\u001b[0;34m\u001b[0m\u001b[0;34m\u001b[0m\u001b[0m\n\u001b[1;32m    172\u001b[0m             \u001b[0;32mfor\u001b[0m \u001b[0minterface_name\u001b[0m\u001b[0;34m,\u001b[0m \u001b[0mdata_interface\u001b[0m \u001b[0;32min\u001b[0m \u001b[0mself\u001b[0m\u001b[0;34m.\u001b[0m\u001b[0mdata_interface_objects\u001b[0m\u001b[0;34m.\u001b[0m\u001b[0mitems\u001b[0m\u001b[0;34m(\u001b[0m\u001b[0;34m)\u001b[0m\u001b[0;34m:\u001b[0m\u001b[0;34m\u001b[0m\u001b[0;34m\u001b[0m\u001b[0m\n\u001b[0;32m--> 173\u001b[0;31m                 \u001b[0mdata_interface\u001b[0m\u001b[0;34m.\u001b[0m\u001b[0mrun_conversion\u001b[0m\u001b[0;34m(\u001b[0m\u001b[0mnwbfile\u001b[0m\u001b[0;34m,\u001b[0m \u001b[0mmetadata\u001b[0m\u001b[0;34m,\u001b[0m \u001b[0;34m**\u001b[0m\u001b[0mconversion_options\u001b[0m\u001b[0;34m.\u001b[0m\u001b[0mget\u001b[0m\u001b[0;34m(\u001b[0m\u001b[0minterface_name\u001b[0m\u001b[0;34m,\u001b[0m \u001b[0mdict\u001b[0m\u001b[0;34m(\u001b[0m\u001b[0;34m)\u001b[0m\u001b[0;34m)\u001b[0m\u001b[0;34m)\u001b[0m\u001b[0;34m\u001b[0m\u001b[0;34m\u001b[0m\u001b[0m\n\u001b[0m\u001b[1;32m    174\u001b[0m             \u001b[0;32mreturn\u001b[0m \u001b[0mnwbfile\u001b[0m\u001b[0;34m\u001b[0m\u001b[0;34m\u001b[0m\u001b[0m\n",
      "\u001b[0;32m/mnt/d/spikeinterface/nwb-conversion-tools/nwb_conversion_tools/baserecordingextractorinterface.py\u001b[0m in \u001b[0;36mrun_conversion\u001b[0;34m(self, nwbfile, metadata, stub_test, use_times, save_path, overwrite, buffer_mb, write_as, es_key)\u001b[0m\n\u001b[1;32m    129\u001b[0m             \u001b[0mrecording\u001b[0m \u001b[0;34m=\u001b[0m \u001b[0mself\u001b[0m\u001b[0;34m.\u001b[0m\u001b[0mrecording_extractor\u001b[0m\u001b[0;34m\u001b[0m\u001b[0;34m\u001b[0m\u001b[0m\n\u001b[1;32m    130\u001b[0m \u001b[0;34m\u001b[0m\u001b[0m\n\u001b[0;32m--> 131\u001b[0;31m         se.NwbRecordingExtractor.write_recording(\n\u001b[0m\u001b[1;32m    132\u001b[0m             \u001b[0mrecording\u001b[0m\u001b[0;34m=\u001b[0m\u001b[0mrecording\u001b[0m\u001b[0;34m,\u001b[0m\u001b[0;34m\u001b[0m\u001b[0;34m\u001b[0m\u001b[0m\n\u001b[1;32m    133\u001b[0m             \u001b[0mnwbfile\u001b[0m\u001b[0;34m=\u001b[0m\u001b[0mnwbfile\u001b[0m\u001b[0;34m,\u001b[0m\u001b[0;34m\u001b[0m\u001b[0;34m\u001b[0m\u001b[0m\n",
      "\u001b[0;32m/mnt/d/spikeinterface/spikeextractors/spikeextractors/extractors/nwbextractors/nwbextractors.py\u001b[0m in \u001b[0;36mwrite_recording\u001b[0;34m(recording, save_path, overwrite, nwbfile, buffer_mb, use_times, metadata, write_as, es_key, write_scaled)\u001b[0m\n\u001b[1;32m   1089\u001b[0m                 \u001b[0mio\u001b[0m\u001b[0;34m.\u001b[0m\u001b[0mwrite\u001b[0m\u001b[0;34m(\u001b[0m\u001b[0mnwbfile\u001b[0m\u001b[0;34m)\u001b[0m\u001b[0;34m\u001b[0m\u001b[0;34m\u001b[0m\u001b[0m\n\u001b[1;32m   1090\u001b[0m         \u001b[0;32melse\u001b[0m\u001b[0;34m:\u001b[0m\u001b[0;34m\u001b[0m\u001b[0;34m\u001b[0m\u001b[0m\n\u001b[0;32m-> 1091\u001b[0;31m             se.NwbRecordingExtractor.add_all_to_nwbfile(\n\u001b[0m\u001b[1;32m   1092\u001b[0m                 \u001b[0mrecording\u001b[0m\u001b[0;34m=\u001b[0m\u001b[0mrecording\u001b[0m\u001b[0;34m,\u001b[0m\u001b[0;34m\u001b[0m\u001b[0;34m\u001b[0m\u001b[0m\n\u001b[1;32m   1093\u001b[0m                 \u001b[0mnwbfile\u001b[0m\u001b[0;34m=\u001b[0m\u001b[0mnwbfile\u001b[0m\u001b[0;34m,\u001b[0m\u001b[0;34m\u001b[0m\u001b[0;34m\u001b[0m\u001b[0m\n",
      "\u001b[0;32m/mnt/d/spikeinterface/spikeextractors/spikeextractors/extractors/nwbextractors/nwbextractors.py\u001b[0m in \u001b[0;36madd_all_to_nwbfile\u001b[0;34m(recording, nwbfile, buffer_mb, use_times, metadata, write_as, es_key, write_scaled)\u001b[0m\n\u001b[1;32m    949\u001b[0m             \u001b[0mmetadata\u001b[0m\u001b[0;34m=\u001b[0m\u001b[0mmetadata\u001b[0m\u001b[0;34m\u001b[0m\u001b[0;34m\u001b[0m\u001b[0m\n\u001b[1;32m    950\u001b[0m         )\n\u001b[0;32m--> 951\u001b[0;31m         se.NwbRecordingExtractor.add_electrodes(\n\u001b[0m\u001b[1;32m    952\u001b[0m             \u001b[0mrecording\u001b[0m\u001b[0;34m=\u001b[0m\u001b[0mrecording\u001b[0m\u001b[0;34m,\u001b[0m\u001b[0;34m\u001b[0m\u001b[0;34m\u001b[0m\u001b[0m\n\u001b[1;32m    953\u001b[0m             \u001b[0mnwbfile\u001b[0m\u001b[0;34m=\u001b[0m\u001b[0mnwbfile\u001b[0m\u001b[0;34m,\u001b[0m\u001b[0;34m\u001b[0m\u001b[0;34m\u001b[0m\u001b[0m\n",
      "\u001b[0;32m/mnt/d/spikeinterface/spikeextractors/spikeextractors/extractors/nwbextractors/nwbextractors.py\u001b[0m in \u001b[0;36madd_electrodes\u001b[0;34m(recording, nwbfile, metadata, write_scaled)\u001b[0m\n\u001b[1;32m    591\u001b[0m                                 )\n\u001b[1;32m    592\u001b[0m                             )\n\u001b[0;32m--> 593\u001b[0;31m                             \u001b[0mse\u001b[0m\u001b[0;34m.\u001b[0m\u001b[0mNwbRecordingExtractor\u001b[0m\u001b[0;34m.\u001b[0m\u001b[0madd_electrode_groups\u001b[0m\u001b[0;34m(\u001b[0m\u001b[0mrecording\u001b[0m\u001b[0;34m,\u001b[0m \u001b[0mnwbfile\u001b[0m\u001b[0;34m,\u001b[0m \u001b[0mmissing_group_metadata\u001b[0m\u001b[0;34m)\u001b[0m\u001b[0;34m\u001b[0m\u001b[0;34m\u001b[0m\u001b[0m\n\u001b[0m\u001b[1;32m    594\u001b[0m                         electrode_kwargs.update(\n\u001b[1;32m    595\u001b[0m                             dict(\n",
      "\u001b[0;32m/mnt/d/spikeinterface/spikeextractors/spikeextractors/extractors/nwbextractors/nwbextractors.py\u001b[0m in \u001b[0;36madd_electrode_groups\u001b[0;34m(recording, nwbfile, metadata)\u001b[0m\n\u001b[1;32m    429\u001b[0m                 )\n\u001b[1;32m    430\u001b[0m             )\n\u001b[0;32m--> 431\u001b[0;31m         \u001b[0;32massert\u001b[0m \u001b[0mall\u001b[0m\u001b[0;34m(\u001b[0m\u001b[0;34m[\u001b[0m\u001b[0misinstance\u001b[0m\u001b[0;34m(\u001b[0m\u001b[0mx\u001b[0m\u001b[0;34m,\u001b[0m \u001b[0mdict\u001b[0m\u001b[0;34m)\u001b[0m \u001b[0;32mfor\u001b[0m \u001b[0mx\u001b[0m \u001b[0;32min\u001b[0m \u001b[0mmetadata\u001b[0m\u001b[0;34m[\u001b[0m\u001b[0;34m'Ecephys'\u001b[0m\u001b[0;34m]\u001b[0m\u001b[0;34m[\u001b[0m\u001b[0;34m'ElectrodeGroup'\u001b[0m\u001b[0;34m]\u001b[0m\u001b[0;34m]\u001b[0m\u001b[0;34m)\u001b[0m\u001b[0;34m,\u001b[0m\u001b[0;31m \u001b[0m\u001b[0;31m\\\u001b[0m\u001b[0;34m\u001b[0m\u001b[0;34m\u001b[0m\u001b[0m\n\u001b[0m\u001b[1;32m    432\u001b[0m             \u001b[0;34m\"Expected metadata['Ecephys']['ElectrodeGroup'] to be a list of dictionaries!\"\u001b[0m\u001b[0;34m\u001b[0m\u001b[0;34m\u001b[0m\u001b[0m\n\u001b[1;32m    433\u001b[0m \u001b[0;34m\u001b[0m\u001b[0m\n",
      "\u001b[0;31mAssertionError\u001b[0m: Expected metadata['Ecephys']['ElectrodeGroup'] to be a list of dictionaries!"
     ]
    }
   ],
   "source": [
    "# Get metadata_schema from converter\n",
    "converter.run_conversion(metadata=converter.get_metadata(),\n",
    "                         save_to_file=False,\n",
    "                         nwbfile_path=None,\n",
    "                         nwbfile=None)"
   ]
  },
  {
   "cell_type": "code",
   "execution_count": 50,
   "metadata": {},
   "outputs": [],
   "source": [
    "se.NwbRecordingExtractor.add_devices(\n",
    "    recording=recording,\n",
    "    nwbfile=nwbfile,\n",
    "    metadata=metadata\n",
    ")"
   ]
  },
  {
   "cell_type": "code",
   "execution_count": 79,
   "metadata": {},
   "outputs": [
    {
     "data": {
      "text/plain": [
       "[{'name': 'Device', 'description': 'no description'}]"
      ]
     },
     "execution_count": 79,
     "metadata": {},
     "output_type": "execute_result"
    }
   ],
   "source": [
    "metadata['Ecephys']['Device']"
   ]
  },
  {
   "cell_type": "code",
   "execution_count": 89,
   "metadata": {},
   "outputs": [
    {
     "data": {
      "text/plain": [
       "{'Axona': Axona pynwb.device.Device at 0x140012976895456\n",
       " Fields:\n",
       "   description: Axona DacqUSB, sw_version=1.2.2.16\n",
       "   manufacturer: Axona,\n",
       " 'Device': Device pynwb.device.Device at 0x140012976897712\n",
       " Fields:\n",
       "   description: no description}"
      ]
     },
     "execution_count": 89,
     "metadata": {},
     "output_type": "execute_result"
    }
   ],
   "source": [
    "nwbfile.devices"
   ]
  },
  {
   "cell_type": "code",
   "execution_count": 90,
   "metadata": {},
   "outputs": [],
   "source": [
    "if nwbfile is not None:\n",
    "    assert isinstance(nwbfile, NWBFile), \"'nwbfile' should be of type pynwb.NWBFile\"\n",
    "if len(nwbfile.devices) == 0:\n",
    "    se.NwbRecordingExtractor.add_devices(recording, nwbfile)\n",
    "defaults = dict(\n",
    "    name=\"Electrode Group\",\n",
    "    description=\"no description\",\n",
    "    location=\"unknown\",\n",
    "    device_name=\"Device\"\n",
    ")\n",
    "if metadata is None or 'ElectrodeGroup' not in metadata['Ecephys']:\n",
    "    metadata = dict(\n",
    "        Ecephys=dict(\n",
    "            ElectrodeGroup=[defaults]\n",
    "        )\n",
    "    )"
   ]
  },
  {
   "cell_type": "code",
   "execution_count": 91,
   "metadata": {},
   "outputs": [],
   "source": [
    "assert all([isinstance(x, dict) for x in metadata['Ecephys']['ElectrodeGroup']]), \\\n",
    "    \"Expected metadata['Ecephys']['ElectrodeGroup'] to be a list of dictionaries!\""
   ]
  },
  {
   "cell_type": "code",
   "execution_count": 94,
   "metadata": {},
   "outputs": [
    {
     "data": {
      "text/plain": [
       "'Device'"
      ]
     },
     "execution_count": 94,
     "metadata": {},
     "output_type": "execute_result"
    }
   ],
   "source": [
    "defaults['device_name']"
   ]
  },
  {
   "cell_type": "code",
   "execution_count": 95,
   "metadata": {},
   "outputs": [
    {
     "data": {
      "text/plain": [
       "[{'name': 'Group0',\n",
       "  'location': '',\n",
       "  'device': 'Axona',\n",
       "  'description': 'Group 0 electrodes.'},\n",
       " {'name': 'Group1',\n",
       "  'location': '',\n",
       "  'device': 'Axona',\n",
       "  'description': 'Group 1 electrodes.'},\n",
       " {'name': 'Group2',\n",
       "  'location': '',\n",
       "  'device': 'Axona',\n",
       "  'description': 'Group 2 electrodes.'},\n",
       " {'name': 'Group3',\n",
       "  'location': '',\n",
       "  'device': 'Axona',\n",
       "  'description': 'Group 3 electrodes.'}]"
      ]
     },
     "execution_count": 95,
     "metadata": {},
     "output_type": "execute_result"
    }
   ],
   "source": [
    "metadata['Ecephys']['ElectrodeGroup']"
   ]
  },
  {
   "cell_type": "code",
   "execution_count": 92,
   "metadata": {},
   "outputs": [
    {
     "name": "stdout",
     "output_type": "stream",
     "text": [
      "Device\n",
      "Device\n",
      "Device\n",
      "Device\n"
     ]
    }
   ],
   "source": [
    "for grp in metadata['Ecephys']['ElectrodeGroup']:\n",
    "    device_name = grp.get('device_name', defaults['device_name'])\n",
    "    print(device_name)"
   ]
  },
  {
   "cell_type": "code",
   "execution_count": 93,
   "metadata": {},
   "outputs": [
    {
     "data": {
      "text/plain": [
       "[{'name': 'Group0',\n",
       "  'location': '',\n",
       "  'device': 'Axona',\n",
       "  'description': 'Group 0 electrodes.'},\n",
       " {'name': 'Group1',\n",
       "  'location': '',\n",
       "  'device': 'Axona',\n",
       "  'description': 'Group 1 electrodes.'},\n",
       " {'name': 'Group2',\n",
       "  'location': '',\n",
       "  'device': 'Axona',\n",
       "  'description': 'Group 2 electrodes.'},\n",
       " {'name': 'Group3',\n",
       "  'location': '',\n",
       "  'device': 'Axona',\n",
       "  'description': 'Group 3 electrodes.'}]"
      ]
     },
     "execution_count": 93,
     "metadata": {},
     "output_type": "execute_result"
    }
   ],
   "source": [
    "metadata['Ecephys']['ElectrodeGroup']"
   ]
  },
  {
   "cell_type": "code",
   "execution_count": 57,
   "metadata": {},
   "outputs": [
    {
     "data": {
      "text/plain": [
       "'Device'"
      ]
     },
     "execution_count": 57,
     "metadata": {},
     "output_type": "execute_result"
    }
   ],
   "source": [
    "device_name"
   ]
  },
  {
   "cell_type": "code",
   "execution_count": 58,
   "metadata": {},
   "outputs": [
    {
     "data": {
      "text/plain": [
       "[{'name': 'Group0',\n",
       "  'location': '',\n",
       "  'device': 'Axona',\n",
       "  'description': 'Group 0 electrodes.'}]"
      ]
     },
     "execution_count": 58,
     "metadata": {},
     "output_type": "execute_result"
    }
   ],
   "source": [
    "metadata['Ecephys']['ElectrodeGroup']"
   ]
  },
  {
   "cell_type": "code",
   "execution_count": 62,
   "metadata": {},
   "outputs": [
    {
     "data": {
      "text/plain": [
       "{'name': 'Group0',\n",
       " 'location': '',\n",
       " 'device': 'Axona',\n",
       " 'description': 'Group 0 electrodes.'}"
      ]
     },
     "execution_count": 62,
     "metadata": {},
     "output_type": "execute_result"
    }
   ],
   "source": [
    "grp = metadata['Ecephys']['ElectrodeGroup'][0]\n",
    "grp"
   ]
  },
  {
   "cell_type": "code",
   "execution_count": 61,
   "metadata": {},
   "outputs": [
    {
     "data": {
      "text/plain": [
       "'Device'"
      ]
     },
     "execution_count": 61,
     "metadata": {},
     "output_type": "execute_result"
    }
   ],
   "source": [
    "device_name = grp.get('device_name', defaults['device_name'])\n",
    "device_name"
   ]
  },
  {
   "cell_type": "code",
   "execution_count": 66,
   "metadata": {},
   "outputs": [
    {
     "data": {
      "text/plain": [
       "{'Axona': Axona pynwb.device.Device at 0x140690185518672\n",
       " Fields:\n",
       "   description: Axona DacqUSB, sw_version=1.2.2.16\n",
       "   manufacturer: Axona}"
      ]
     },
     "execution_count": 66,
     "metadata": {},
     "output_type": "execute_result"
    }
   ],
   "source": [
    "nwbfile.devices"
   ]
  },
  {
   "cell_type": "code",
   "execution_count": 64,
   "metadata": {},
   "outputs": [
    {
     "data": {
      "text/plain": [
       "{}"
      ]
     },
     "execution_count": 64,
     "metadata": {},
     "output_type": "execute_result"
    }
   ],
   "source": [
    "nwbfile.electrode_groups"
   ]
  },
  {
   "cell_type": "code",
   "execution_count": 63,
   "metadata": {},
   "outputs": [
    {
     "data": {
      "text/plain": [
       "True"
      ]
     },
     "execution_count": 63,
     "metadata": {},
     "output_type": "execute_result"
    }
   ],
   "source": [
    "grp.get('name', defaults['name']) not in nwbfile.electrode_groups"
   ]
  },
  {
   "cell_type": "code",
   "execution_count": 70,
   "metadata": {},
   "outputs": [
    {
     "data": {
      "text/plain": [
       "{'name': 'Group0',\n",
       " 'location': '',\n",
       " 'device': 'Axona',\n",
       " 'description': 'Group 0 electrodes.'}"
      ]
     },
     "execution_count": 70,
     "metadata": {},
     "output_type": "execute_result"
    }
   ],
   "source": [
    "grp"
   ]
  },
  {
   "cell_type": "code",
   "execution_count": 68,
   "metadata": {},
   "outputs": [
    {
     "data": {
      "text/plain": [
       "{'Axona': Axona pynwb.device.Device at 0x140690185518672\n",
       " Fields:\n",
       "   description: Axona DacqUSB, sw_version=1.2.2.16\n",
       "   manufacturer: Axona}"
      ]
     },
     "execution_count": 68,
     "metadata": {},
     "output_type": "execute_result"
    }
   ],
   "source": [
    "nwbfile.devices"
   ]
  },
  {
   "cell_type": "code",
   "execution_count": 71,
   "metadata": {},
   "outputs": [
    {
     "data": {
      "text/plain": [
       "{}"
      ]
     },
     "execution_count": 71,
     "metadata": {},
     "output_type": "execute_result"
    }
   ],
   "source": [
    "nwbfile.electrode_groups"
   ]
  },
  {
   "cell_type": "code",
   "execution_count": 67,
   "metadata": {},
   "outputs": [
    {
     "ename": "AssertionError",
     "evalue": "Expected metadata['Ecephys']['Device'] to be a list of dictionaries!",
     "output_type": "error",
     "traceback": [
      "\u001b[0;31m---------------------------------------------------------------------------\u001b[0m",
      "\u001b[0;31mAssertionError\u001b[0m                            Traceback (most recent call last)",
      "\u001b[0;32m<ipython-input-67-c304305ea55f>\u001b[0m in \u001b[0;36m<module>\u001b[0;34m\u001b[0m\n\u001b[1;32m     10\u001b[0m                 )\n\u001b[1;32m     11\u001b[0m             )\n\u001b[0;32m---> 12\u001b[0;31m             \u001b[0mse\u001b[0m\u001b[0;34m.\u001b[0m\u001b[0mNwbRecordingExtractor\u001b[0m\u001b[0;34m.\u001b[0m\u001b[0madd_devices\u001b[0m\u001b[0;34m(\u001b[0m\u001b[0mrecording\u001b[0m\u001b[0;34m,\u001b[0m \u001b[0mnwbfile\u001b[0m\u001b[0;34m,\u001b[0m \u001b[0mmetadata\u001b[0m\u001b[0;34m=\u001b[0m\u001b[0mnew_device\u001b[0m\u001b[0;34m)\u001b[0m\u001b[0;34m\u001b[0m\u001b[0;34m\u001b[0m\u001b[0m\n\u001b[0m",
      "\u001b[0;32m/mnt/d/spikeinterface/spikeextractors/spikeextractors/extractors/nwbextractors/nwbextractors.py\u001b[0m in \u001b[0;36madd_devices\u001b[0;34m(recording, nwbfile, metadata)\u001b[0m\n\u001b[1;32m    376\u001b[0m                 )\n\u001b[1;32m    377\u001b[0m             )\n\u001b[0;32m--> 378\u001b[0;31m         \u001b[0;32massert\u001b[0m \u001b[0mall\u001b[0m\u001b[0;34m(\u001b[0m\u001b[0;34m[\u001b[0m\u001b[0misinstance\u001b[0m\u001b[0;34m(\u001b[0m\u001b[0mx\u001b[0m\u001b[0;34m,\u001b[0m \u001b[0mdict\u001b[0m\u001b[0;34m)\u001b[0m \u001b[0;32mfor\u001b[0m \u001b[0mx\u001b[0m \u001b[0;32min\u001b[0m \u001b[0mmetadata\u001b[0m\u001b[0;34m[\u001b[0m\u001b[0;34m'Ecephys'\u001b[0m\u001b[0;34m]\u001b[0m\u001b[0;34m[\u001b[0m\u001b[0;34m'Device'\u001b[0m\u001b[0;34m]\u001b[0m\u001b[0;34m]\u001b[0m\u001b[0;34m)\u001b[0m\u001b[0;34m,\u001b[0m\u001b[0;31m \u001b[0m\u001b[0;31m\\\u001b[0m\u001b[0;34m\u001b[0m\u001b[0;34m\u001b[0m\u001b[0m\n\u001b[0m\u001b[1;32m    379\u001b[0m             \u001b[0;34m\"Expected metadata['Ecephys']['Device'] to be a list of dictionaries!\"\u001b[0m\u001b[0;34m\u001b[0m\u001b[0;34m\u001b[0m\u001b[0m\n\u001b[1;32m    380\u001b[0m \u001b[0;34m\u001b[0m\u001b[0m\n",
      "\u001b[0;31mAssertionError\u001b[0m: Expected metadata['Ecephys']['Device'] to be a list of dictionaries!"
     ]
    }
   ],
   "source": [
    "for grp in metadata['Ecephys']['ElectrodeGroup']:\n",
    "    device_name = grp.get('device_name', defaults['device_name'])\n",
    "    if grp.get('name', defaults['name']) not in nwbfile.electrode_groups:\n",
    "        if device_name not in nwbfile.devices:\n",
    "            new_device = dict(\n",
    "                Ecephys=dict(\n",
    "                    Device=dict(\n",
    "                        name=device_name\n",
    "                    )\n",
    "                )\n",
    "            )\n",
    "            se.NwbRecordingExtractor.add_devices(recording, nwbfile, metadata=new_device)"
   ]
  },
  {
   "cell_type": "code",
   "execution_count": 236,
   "metadata": {},
   "outputs": [
    {
     "data": {
      "text/plain": [
       "1"
      ]
     },
     "execution_count": 236,
     "metadata": {},
     "output_type": "execute_result"
    }
   ],
   "source": [
    "len(nwbfile.devices)"
   ]
  },
  {
   "cell_type": "code",
   "execution_count": 237,
   "metadata": {},
   "outputs": [],
   "source": [
    "se.NwbRecordingExtractor.add_electrode_groups(\n",
    "    recording=recording,\n",
    "    nwbfile=nwbfile,\n",
    "    metadata=metadata\n",
    ")"
   ]
  },
  {
   "cell_type": "code",
   "execution_count": null,
   "metadata": {},
   "outputs": [],
   "source": [
    "converter.run_conversion(metadata=metadata_test,\n",
    "                         save_to_file=False,\n",
    "                         nwbfile_path=os.path.join(dir_name, 'axonadatainterface_test.nwb'),\n",
    "                         nwbfile=None)"
   ]
  },
  {
   "cell_type": "code",
   "execution_count": 239,
   "metadata": {},
   "outputs": [
    {
     "data": {
      "text/plain": [
       "{'NWBFile': {'session_description': '',\n",
       "  'session_start_time': '2020-10-04T11:07:07',\n",
       "  'identifier': 'bff4a978-7d4d-4878-9c3b-c4c9a0a28e02',\n",
       "  'experimenter': ['Abid']},\n",
       " 'Ecephys': {'Device': [{'name': 'Axona',\n",
       "    'description': 'Axona DacqUSB, sw_version=1.2.2.16',\n",
       "    'manufacturer': 'Axona'}],\n",
       "  'ElectrodeGroup': [{'name': 'Group0',\n",
       "    'location': '',\n",
       "    'device': 'Axona',\n",
       "    'description': 'Group 0 electrodes.'}],\n",
       "  'Electrodes': [{'name': 'group_name',\n",
       "    'description': 'The name of the ElectrodeGroup this                         electrode is a part of.',\n",
       "    'data': ['Group0',\n",
       "     'Group0',\n",
       "     'Group0',\n",
       "     'Group0',\n",
       "     'Group0',\n",
       "     'Group0',\n",
       "     'Group0',\n",
       "     'Group0',\n",
       "     'Group0',\n",
       "     'Group0',\n",
       "     'Group0',\n",
       "     'Group0',\n",
       "     'Group0',\n",
       "     'Group0',\n",
       "     'Group0',\n",
       "     'Group0']}],\n",
       "  'ElectricalSeries': {'name': 'ElectricalSeries',\n",
       "   'description': 'Raw acquisition traces.'}}}"
      ]
     },
     "execution_count": 239,
     "metadata": {},
     "output_type": "execute_result"
    }
   ],
   "source": [
    "metadata_test"
   ]
  },
  {
   "cell_type": "code",
   "execution_count": null,
   "metadata": {},
   "outputs": [],
   "source": []
  },
  {
   "cell_type": "code",
   "execution_count": null,
   "metadata": {},
   "outputs": [],
   "source": []
  },
  {
   "cell_type": "code",
   "execution_count": null,
   "metadata": {},
   "outputs": [],
   "source": []
  },
  {
   "cell_type": "code",
   "execution_count": null,
   "metadata": {},
   "outputs": [],
   "source": []
  },
  {
   "cell_type": "code",
   "execution_count": null,
   "metadata": {},
   "outputs": [],
   "source": []
  },
  {
   "cell_type": "code",
   "execution_count": 18,
   "metadata": {},
   "outputs": [],
   "source": [
    "import nwb_conversion_tools"
   ]
  },
  {
   "cell_type": "code",
   "execution_count": 19,
   "metadata": {},
   "outputs": [],
   "source": [
    "# Try to see for which data_interface pytest crashes\n",
    "# Only for tutorialinterfaces! But it works fine for AxonaRecordingExtractorInterface!\n",
    "\n",
    "interfaces_that_crash = [nwb_conversion_tools.datainterfaces.tutorialdatainterface.TutorialRecordingInterface,\n",
    "                         nwb_conversion_tools.datainterfaces.tutorialdatainterface.TutorialSortingInterface]\n",
    "\n",
    "from nwb_conversion_tools import interface_list\n",
    "\n",
    "for data_interface in interface_list:\n",
    "    \n",
    "    if not data_interface in interfaces_that_crash:\n",
    "    \n",
    "        # check validity of source schema\n",
    "        schema = data_interface.get_source_schema()\n",
    "        Draft7Validator.check_schema(schema)\n",
    "\n",
    "        # check validity of conversion options schema\n",
    "        schema = data_interface.get_conversion_options_schema()\n",
    "        Draft7Validator.check_schema(schema)"
   ]
  },
  {
   "cell_type": "code",
   "execution_count": 20,
   "metadata": {},
   "outputs": [],
   "source": [
    "interfaces_that_crash = [nwb_conversion_tools.datainterfaces.tutorialdatainterface.TutorialRecordingInterface,\n",
    "                         nwb_conversion_tools.datainterfaces.tutorialdatainterface.TutorialSortingInterface]\n",
    "\n",
    "data_interface = interfaces_that_crash[0]\n",
    "        \n",
    "# check validity of source schema\n",
    "schema = data_interface.get_source_schema()\n",
    "Draft7Validator.check_schema(schema)\n",
    "\n",
    "# check validity of conversion options schema\n",
    "schema = data_interface.get_conversion_options_schema()\n",
    "Draft7Validator.check_schema(schema)"
   ]
  },
  {
   "cell_type": "code",
   "execution_count": 21,
   "metadata": {},
   "outputs": [],
   "source": [
    "data_interface = interfaces_that_crash[1]\n",
    "        \n",
    "# check validity of source schema\n",
    "schema = data_interface.get_source_schema()\n",
    "Draft7Validator.check_schema(schema)\n",
    "\n",
    "# check validity of conversion options schema\n",
    "schema = data_interface.get_conversion_options_schema()\n",
    "Draft7Validator.check_schema(schema)"
   ]
  },
  {
   "cell_type": "code",
   "execution_count": null,
   "metadata": {},
   "outputs": [],
   "source": []
  },
  {
   "cell_type": "code",
   "execution_count": null,
   "metadata": {},
   "outputs": [],
   "source": []
  },
  {
   "cell_type": "code",
   "execution_count": null,
   "metadata": {},
   "outputs": [],
   "source": []
  }
 ],
 "metadata": {
  "kernelspec": {
   "display_name": "Python 3",
   "language": "python",
   "name": "python3"
  },
  "language_info": {
   "codemirror_mode": {
    "name": "ipython",
    "version": 3
   },
   "file_extension": ".py",
   "mimetype": "text/x-python",
   "name": "python",
   "nbconvert_exporter": "python",
   "pygments_lexer": "ipython3",
   "version": "3.8.5"
  }
 },
 "nbformat": 4,
 "nbformat_minor": 4
}
