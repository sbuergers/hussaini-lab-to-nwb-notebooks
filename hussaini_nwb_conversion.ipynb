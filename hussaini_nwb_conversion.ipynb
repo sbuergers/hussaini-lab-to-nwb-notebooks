{
 "cells": [
  {
   "cell_type": "markdown",
   "metadata": {},
   "source": [
    "# Hussaini lab data (Axona) conversion to NWB\n",
    "\n",
    "Here, I am going to test code for doing said conversions.\n",
    "\n",
    "### NWB\n",
    "\n",
    "To convert to NWB we will need a separate Interface class (e.g. AxonaRecordingExtractorInterface) for each data type / extractor. Those are then combined with an NWBConverter class for the Lab (e.g. HussainiLabNWBConverter), which exports to NWB. \n",
    "\n",
    "Note that for Milestone2, we might not need any of this, since spikeextractors has its own NWBconverters for extractor and sorting classes!"
   ]
  },
  {
   "cell_type": "markdown",
   "metadata": {},
   "source": [
    "Adapted from https://github.com/catalystneuro/movshon-lab-to-nwb/blob/main/tutorials/blackrock_nwb_conversion_detailed.ipynb"
   ]
  },
  {
   "cell_type": "code",
   "execution_count": 115,
   "metadata": {},
   "outputs": [],
   "source": [
    "%load_ext autoreload\n",
    "%autoreload 2\n",
    "%config Completer.use_jedi = False"
   ]
  },
  {
   "cell_type": "code",
   "execution_count": 116,
   "metadata": {},
   "outputs": [
    {
     "name": "stdout",
     "output_type": "stream",
     "text": [
      "/mnt/d/freelance-work/catalyst-neuro/hussaini-lab-to-nwb/example_data_raw/axona_raw_5s\n"
     ]
    }
   ],
   "source": [
    "import os\n",
    "\n",
    "dir_name = r'/mnt/d/freelance-work/catalyst-neuro/hussaini-lab-to-nwb/example_data_raw'\n",
    "base_filename = 'axona_raw_5s'\n",
    "filename = os.path.join(dir_name, base_filename)\n",
    "print(filename)"
   ]
  },
  {
   "cell_type": "code",
   "execution_count": 117,
   "metadata": {},
   "outputs": [
    {
     "name": "stdout",
     "output_type": "stream",
     "text": [
      "total 76\r\n",
      "-rwxrwxrwx 1 steburg steburg    69 Apr  5 11:28 __init__.py\r\n",
      "drwxrwxrwx 1 steburg steburg  4096 Apr 12 09:49 __pycache__\r\n",
      "-rwxrwxrwx 1 steburg steburg  1404 Apr  5 11:28 auto_qc.py\r\n",
      "-rwxrwxrwx 1 steburg steburg  1338 Apr  5 11:28 basedatainterface.py\r\n",
      "-rwxrwxrwx 1 steburg steburg  2134 Apr  5 11:28 baseimagingextractorinterface.py\r\n",
      "-rwxrwxrwx 1 steburg steburg  2775 Apr  5 11:28 baselfpextractorinterface.py\r\n",
      "-rwxrwxrwx 1 steburg steburg  5127 Apr 12 09:46 baserecordingextractorinterface.py\r\n",
      "-rwxrwxrwx 1 steburg steburg  2363 Apr  5 11:28 basesegmentationextractorinterface.py\r\n",
      "-rwxrwxrwx 1 steburg steburg  3831 Apr 12 09:46 basesortingextractorinterface.py\r\n",
      "-rwxrwxrwx 1 steburg steburg  5003 Apr  8 17:38 conversion_tools.py\r\n",
      "drwxrwxrwx 1 steburg steburg  4096 Apr 12 09:46 datainterfaces\r\n",
      "-rwxrwxrwx 1 steburg steburg  5099 Apr 12 09:46 json_schema_utils.py\r\n",
      "-rwxrwxrwx 1 steburg steburg 10154 Apr  5 11:28 metafile.schema.json\r\n",
      "-rwxrwxrwx 1 steburg steburg  6665 Apr  5 11:28 nwbconverter.py\r\n",
      "drwxrwxrwx 1 steburg steburg  4096 Apr  5 11:28 schemas\r\n",
      "-rwxrwxrwx 1 steburg steburg  7355 Apr  5 11:28 utils.py\r\n"
     ]
    }
   ],
   "source": [
    "!ls ../nwb-conversion-tools/nwb_conversion_tools -l"
   ]
  },
  {
   "cell_type": "code",
   "execution_count": 118,
   "metadata": {},
   "outputs": [],
   "source": [
    "# Import modules\n",
    "\n",
    "import random\n",
    "import string\n",
    "from typing import Union, Optional\n",
    "from pathlib import Path\n",
    "import spikeextractors as se\n",
    "from pynwb import NWBFile\n",
    "import numpy as np\n",
    "import re\n",
    "import datetime\n",
    "\n",
    "from nwb_conversion_tools.baserecordingextractorinterface import BaseRecordingExtractorInterface,  BaseDataInterface\n",
    "from nwb_conversion_tools.basesortingextractorinterface import BaseSortingExtractorInterface\n",
    "from nwb_conversion_tools.json_schema_utils import get_schema_from_method_signature, get_base_schema, fill_defaults\n",
    "from nwb_conversion_tools.datainterfaces.interface_utils.brpylib import NsxFile\n",
    "from nwb_conversion_tools import SpikeGLXRecordingInterface"
   ]
  },
  {
   "cell_type": "code",
   "execution_count": 119,
   "metadata": {},
   "outputs": [],
   "source": [
    "# from basedatainterface.py\n",
    "base_schema = get_base_schema(\n",
    "    id_='metadata.schema.json',\n",
    "    root=True,\n",
    "    title='Metadata',\n",
    "    description='Schema for the metadata',\n",
    "    version=\"0.1.0\",\n",
    ")"
   ]
  },
  {
   "cell_type": "code",
   "execution_count": 120,
   "metadata": {},
   "outputs": [
    {
     "data": {
      "text/plain": [
       "{'required': [],\n",
       " 'properties': {},\n",
       " 'type': 'object',\n",
       " 'additionalProperties': True,\n",
       " '$schema': 'http://json-schema.org/draft-07/schema#',\n",
       " '$id': 'metadata.schema.json',\n",
       " 'title': 'Metadata',\n",
       " 'description': 'Schema for the metadata',\n",
       " 'version': '0.1.0'}"
      ]
     },
     "execution_count": 120,
     "metadata": {},
     "output_type": "execute_result"
    }
   ],
   "source": [
    "base_schema"
   ]
  },
  {
   "cell_type": "code",
   "execution_count": 121,
   "metadata": {},
   "outputs": [],
   "source": [
    "glx = SpikeGLXRecordingInterface"
   ]
  },
  {
   "cell_type": "code",
   "execution_count": 122,
   "metadata": {},
   "outputs": [
    {
     "data": {
      "text/plain": [
       "{'required': ['file_path'],\n",
       " 'properties': {'file_path': {'type': 'string',\n",
       "   'format': 'file',\n",
       "   'description': 'Path to SpikeGLX file.'}},\n",
       " 'type': 'object',\n",
       " 'additionalProperties': True}"
      ]
     },
     "execution_count": 122,
     "metadata": {},
     "output_type": "execute_result"
    }
   ],
   "source": [
    "glx.get_source_schema()"
   ]
  },
  {
   "cell_type": "code",
   "execution_count": 123,
   "metadata": {},
   "outputs": [
    {
     "data": {
      "text/plain": [
       "mappingproxy({'self': <Parameter \"self\">,\n",
       "              'file_path': <Parameter \"file_path: Union[str, pathlib.Path, NoneType]\">,\n",
       "              'stub_test': <Parameter \"stub_test: Union[bool, NoneType] = False\">})"
      ]
     },
     "execution_count": 123,
     "metadata": {},
     "output_type": "execute_result"
    }
   ],
   "source": [
    "import inspect\n",
    "\n",
    "inspect.signature(glx.__init__).parameters"
   ]
  },
  {
   "cell_type": "code",
   "execution_count": 124,
   "metadata": {},
   "outputs": [
    {
     "name": "stdout",
     "output_type": "stream",
     "text": [
      "total 224\r\n",
      "-rwxrwxrwx 1 steburg steburg  1265 Mar 19 08:48 __init__.py\r\n",
      "drwxrwxrwx 1 steburg steburg  4096 Apr 12 09:47 __pycache__\r\n",
      "-rwxrwxrwx 1 steburg steburg 22834 Mar 19 08:52 baseextractor.py\r\n",
      "-rwxrwxrwx 1 steburg steburg  9269 Mar 19 08:52 cacheextractors.py\r\n",
      "drwxrwxrwx 1 steburg steburg  4096 Apr  9 15:25 example_datasets\r\n",
      "-rwxrwxrwx 1 steburg steburg   105 Mar 19 08:48 exceptions.py\r\n",
      "-rwxrwxrwx 1 steburg steburg 36890 Mar 19 08:52 extraction_tools.py\r\n",
      "-rwxrwxrwx 1 steburg steburg  5952 Apr 10 17:04 extractorlist.py\r\n",
      "drwxrwxrwx 1 steburg steburg  4096 Mar 22 09:47 extractors\r\n",
      "-rwxrwxrwx 1 steburg steburg  6273 Apr  9 15:25 multirecordingchannelextractor.py\r\n",
      "-rwxrwxrwx 1 steburg steburg  8558 Apr  9 15:25 multirecordingtimeextractor.py\r\n",
      "-rwxrwxrwx 1 steburg steburg  5458 Mar 19 08:52 multisortingextractor.py\r\n",
      "-rwxrwxrwx 1 steburg steburg 41357 Mar 19 08:52 recordingextractor.py\r\n",
      "-rwxrwxrwx 1 steburg steburg 30642 Mar 19 08:52 sortingextractor.py\r\n",
      "-rwxrwxrwx 1 steburg steburg  8382 Apr  9 15:25 subrecordingextractor.py\r\n",
      "-rwxrwxrwx 1 steburg steburg  7788 Mar 19 08:52 subsortingextractor.py\r\n",
      "-rwxrwxrwx 1 steburg steburg  8296 Mar 19 08:52 testing.py\r\n",
      "-rwxrwxrwx 1 steburg steburg    18 Apr  9 15:25 version.py\r\n"
     ]
    }
   ],
   "source": [
    "!ls ../spikeextractors/spikeextractors -l"
   ]
  },
  {
   "cell_type": "code",
   "execution_count": 125,
   "metadata": {},
   "outputs": [],
   "source": [
    "from spikeextractors.extractors.neoextractors import AxonaRecordingExtractor"
   ]
  },
  {
   "cell_type": "code",
   "execution_count": 126,
   "metadata": {},
   "outputs": [
    {
     "name": "stdout",
     "output_type": "stream",
     "text": [
      "Number of channels: 16\n",
      "Channel groups: [0 0 0 0 0 0 0 0 0 0 0 0 0 0 0 0]\n"
     ]
    }
   ],
   "source": [
    "are = AxonaRecordingExtractor(filename=filename)\n",
    "print('Number of channels:', are.get_num_channels())\n",
    "print('Channel groups:', are.get_channel_groups())"
   ]
  },
  {
   "cell_type": "markdown",
   "metadata": {},
   "source": [
    "Parse .set file for metadata to include in metadata."
   ]
  },
  {
   "cell_type": "code",
   "execution_count": 127,
   "metadata": {},
   "outputs": [],
   "source": [
    "def parse_generic_header(filename, params):\n",
    "    \"\"\"\n",
    "    Given a binary file with phrases and line breaks, enters the\n",
    "    first word of a phrase as dictionary key and the following\n",
    "    string (without linebreaks) as value. Returns the dictionary.\n",
    "    \n",
    "    INPUT\n",
    "    filename (str): .set file path and name.\n",
    "    params (list or set): parameter names to search for. \n",
    "    \n",
    "    OUTPUT\n",
    "    header (dict): dictionary with keys being the parameters that\n",
    "                   were found & values being strings of the data.\n",
    "                   \n",
    "    EXAMPLE\n",
    "    parse_generic_header('myset_file.set', ['experimenter', 'trial_time'])\n",
    "    \"\"\"\n",
    "    header = {}\n",
    "    params = set(params)\n",
    "    with open(filename, 'rb') as f:\n",
    "        for bin_line in f:\n",
    "            if b'data_start' in bin_line:\n",
    "                break\n",
    "            line = bin_line.decode('cp1252').replace('\\r\\n', '').replace('\\r', '').strip()\n",
    "            parts = line.split(' ')\n",
    "            key = parts[0]\n",
    "            if key in params:\n",
    "                header[key] = ' '.join(parts[1:])\n",
    "            \n",
    "    return header"
   ]
  },
  {
   "cell_type": "code",
   "execution_count": 128,
   "metadata": {},
   "outputs": [],
   "source": [
    "params_of_interest = [\n",
    "    'experimenter', \n",
    "    'comments',\n",
    "    'duration', \n",
    "    'sw_version',\n",
    "    'tracker_version',\n",
    "    'stim_version',\n",
    "    'audio_version'\n",
    "]"
   ]
  },
  {
   "cell_type": "code",
   "execution_count": 129,
   "metadata": {},
   "outputs": [
    {
     "ename": "NameError",
     "evalue": "name 'set_file' is not defined",
     "output_type": "error",
     "traceback": [
      "\u001b[0;31m---------------------------------------------------------------------------\u001b[0m",
      "\u001b[0;31mNameError\u001b[0m                                 Traceback (most recent call last)",
      "\u001b[0;32m<ipython-input-129-5a2e2a672909>\u001b[0m in \u001b[0;36m<module>\u001b[0;34m\u001b[0m\n\u001b[0;32m----> 1\u001b[0;31m \u001b[0mparse_generic_header\u001b[0m\u001b[0;34m(\u001b[0m\u001b[0mset_file\u001b[0m\u001b[0;34m,\u001b[0m \u001b[0mparams_of_interest\u001b[0m\u001b[0;34m)\u001b[0m\u001b[0;34m\u001b[0m\u001b[0;34m\u001b[0m\u001b[0m\n\u001b[0m",
      "\u001b[0;31mNameError\u001b[0m: name 'set_file' is not defined"
     ]
    }
   ],
   "source": [
    "parse_generic_header(set_file, params_of_interest)"
   ]
  },
  {
   "cell_type": "code",
   "execution_count": null,
   "metadata": {},
   "outputs": [],
   "source": [
    "def read_iso_datetime(set_file):\n",
    "    \"\"\" \n",
    "    Creates datetime object (y, m, d, h, m, s) from .set file header \n",
    "    \"\"\"\n",
    "    with open(set_file, 'r', encoding='cp1252') as f:\n",
    "        for line in f:\n",
    "            if line.startswith('trial_date'):\n",
    "                date_string = re.findall(r'\\d+\\s\\w+\\s\\d{4}$', line)[0]\n",
    "            if line.startswith('trial_time'):\n",
    "                time_string = line[len('trial_time')+1::].replace('\\n', '')\n",
    "\n",
    "    return datetime.datetime.strptime(date_string + ', ' + time_string, \\\n",
    "        \"%d %b %Y, %H:%M:%S\").isoformat()"
   ]
  },
  {
   "cell_type": "code",
   "execution_count": null,
   "metadata": {},
   "outputs": [],
   "source": [
    "class AxonaRecordingExtractorInterface(BaseRecordingExtractorInterface):\n",
    "    \"\"\"Primary data interface class for converting a AxonaRecordingExtractor.\"\"\"\n",
    "\n",
    "    RX = se.AxonaRecordingExtractor\n",
    "\n",
    "    @classmethod\n",
    "    def get_source_schema(cls):\n",
    "        source_schema = {\n",
    "            'required': ['filename'],\n",
    "            'properties': {\n",
    "                'filename': {\n",
    "                    'type': 'string',\n",
    "                    'format': 'file',\n",
    "                    'description': 'Path to Axona files.'\n",
    "                }\n",
    "            },\n",
    "            'type': 'object',\n",
    "            'additionalProperties': True\n",
    "        }\n",
    "        return source_schema\n",
    "        \n",
    "    def get_metadata(self):\n",
    "        \"\"\"Auto-fill as much of the metadata as possible. Must comply with metadata schema.\"\"\"        \n",
    "                \n",
    "        # Extract information for specific parameters from .set file\n",
    "        params_of_interest = [\n",
    "            'experimenter', \n",
    "            'comments',\n",
    "            'duration', \n",
    "            'sw_version',\n",
    "            'tracker_version',\n",
    "            'stim_version',\n",
    "            'audio_version'\n",
    "        ]\n",
    "        set_file = self.source_data['filename']+'.set'\n",
    "        par = parse_generic_header(set_file, params_of_interest)\n",
    "        \n",
    "        # Extract information from AxonaRecordingExtractor\n",
    "        elec_group_names = self.recording_extractor.get_channel_groups()\n",
    "        unique_elec_group_names = set(elec_group_names)\n",
    "        \n",
    "        # Add available metadata\n",
    "        metadata = super().get_metadata()\n",
    "        metadata['NWBFile'] = dict(\n",
    "            session_start_time=read_iso_datetime(set_file),\n",
    "            session_description=par['comments'],\n",
    "            session_duration=par['duration']+'s',\n",
    "            experimenter=[par['experimenter']]\n",
    "        )\n",
    "        \n",
    "        metadata['Ecephys'] = dict(\n",
    "            Device=[\n",
    "                dict(\n",
    "                    name=\"Axona\",\n",
    "                    description=\"Axona DacqUSB, sw_version={}\".format(par['sw_version']),\n",
    "                    manufacturer=\"Axona\"\n",
    "                ),\n",
    "            ],\n",
    "            ElectrodeGroup=[\n",
    "                dict(\n",
    "                    name=f'Group{group_name}',\n",
    "                    location='',\n",
    "                    device='Axona',\n",
    "                    description=f\"Group {group_name} electrodes.\",\n",
    "                )\n",
    "                for group_name in unique_elec_group_names\n",
    "            ],\n",
    "            Electrodes=[\n",
    "                dict(\n",
    "                    name='group_name',\n",
    "                    description=\"The name of the ElectrodeGroup this electrode is a part of.\",\n",
    "                    data=[f\"Group{x}\" for x in elec_group_names]\n",
    "                )\n",
    "            ],\n",
    "            ElectricalSeries=dict(\n",
    "                name='ElectricalSeries',\n",
    "                description=\"Raw acquisition traces.\"\n",
    "            )\n",
    "        )\n",
    "  \n",
    "        return metadata"
   ]
  },
  {
   "cell_type": "code",
   "execution_count": null,
   "metadata": {},
   "outputs": [],
   "source": [
    "# TEST CODE IN ONE CELL\n",
    "\n",
    "import os\n",
    "import json\n",
    "from jsonschema import validate\n",
    "import spikeextractors as se\n",
    "import re\n",
    "import datetime\n",
    "\n",
    "from nwb_conversion_tools.baserecordingextractorinterface import BaseRecordingExtractorInterface\n",
    "\n",
    "dir_name = r'/mnt/d/freelance-work/catalyst-neuro/hussaini-lab-to-nwb/example_data_raw'\n",
    "base_filename = 'axona_raw_5s'\n",
    "filename = os.path.join(dir_name, base_filename)\n",
    "print(filename)\n",
    "\n",
    "\n",
    "def read_iso_datetime(set_file):\n",
    "    \"\"\" \n",
    "    Creates datetime object (y, m, d, h, m, s) from .set file header \n",
    "    \"\"\"\n",
    "    with open(set_file, 'r', encoding='cp1252') as f:\n",
    "        for line in f:\n",
    "            if line.startswith('trial_date'):\n",
    "                date_string = re.findall(r'\\d+\\s\\w+\\s\\d{4}$', line)[0]\n",
    "            if line.startswith('trial_time'):\n",
    "                time_string = line[len('trial_time')+1::].replace('\\n', '')\n",
    "\n",
    "    return datetime.datetime.strptime(date_string + ', ' + time_string, \\\n",
    "        \"%d %b %Y, %H:%M:%S\").isoformat()\n",
    "\n",
    "\n",
    "class AxonaRecordingExtractorInterface(BaseRecordingExtractorInterface):\n",
    "    \"\"\"Primary data interface class for converting a AxonaRecordingExtractor.\"\"\"\n",
    "\n",
    "    RX = se.AxonaRecordingExtractor\n",
    "\n",
    "    @classmethod\n",
    "    def get_source_schema(cls):\n",
    "        source_schema = {\n",
    "            'required': ['filename'],\n",
    "            'properties': {\n",
    "                'filename': {\n",
    "                    'type': 'string',\n",
    "                    'format': 'file',\n",
    "                    'description': 'Path to Axona files.'\n",
    "                }\n",
    "            },\n",
    "            'type': 'object',\n",
    "            'additionalProperties': True\n",
    "        }\n",
    "        return source_schema\n",
    "        \n",
    "    def get_metadata(self):\n",
    "        \"\"\"Auto-fill as much of the metadata as possible. Must comply with metadata schema.\"\"\"        \n",
    "                \n",
    "        # Extract information for specific parameters from .set file\n",
    "        set_file = self.source_data['filename']+'.set'\n",
    "        \n",
    "        # Add available metadata\n",
    "        metadata = super().get_metadata()\n",
    "        metadata['NWBFile'] = dict(\n",
    "            session_start_time=read_iso_datetime(set_file),\n",
    "        )\n",
    "        \n",
    "        metadata['Ecephys'] = dict(\n",
    "            Device=[\n",
    "                dict(\n",
    "                    name='Axona',\n",
    "                    description='Device'\n",
    "                )\n",
    "            ],\n",
    "            ElectrodeGroup=[\n",
    "                dict(\n",
    "                    name=f'shank{n + 1}',\n",
    "                    description=f\"shank{n + 1} electrodes\",\n",
    "                    location='',\n",
    "                    device='Axona'\n",
    "                )\n",
    "                for n, _ in enumerate([1])\n",
    "            ],\n",
    "            ElectricalSeries=dict(\n",
    "                name='ElectricalSeries'\n",
    "            )\n",
    "        )\n",
    "  \n",
    "        return metadata\n",
    "\n",
    "\n",
    "# Define source data (required for instantiating converter)\n",
    "source_data = dict(\n",
    "    AxonaRecordingExtractorInterface=dict(\n",
    "        filename=filename\n",
    "    )\n",
    ")\n",
    "print(json.dumps(source_data, indent=2))\n",
    "\n",
    "\n",
    "# Create a Hussaini-lab converter\n",
    "from nwb_conversion_tools import NWBConverter\n",
    "\n",
    "class HussainiRawNWBConverter(NWBConverter):\n",
    "    data_interface_classes = dict(\n",
    "        AxonaRecordingExtractorInterface=AxonaRecordingExtractorInterface\n",
    "    )\n",
    "\n",
    "    \n",
    "# Instantiate Hussaini-lab converter\n",
    "converter = HussainiRawNWBConverter(source_data=source_data)\n",
    "\n",
    "\n",
    "# View metadata_schema from converter\n",
    "metadata_schema = converter.get_metadata_schema()\n",
    "print(json.dumps(metadata_schema['properties'], indent=2))\n",
    "\n",
    "\n",
    "# View converter metadata\n",
    "metadata = converter.get_metadata()\n",
    "print(json.dumps(metadata, indent=2))\n",
    "\n",
    "\n",
    "# Validate metadata with metadata_schema\n",
    "validate(\n",
    "    instance=converter.get_metadata(),\n",
    "    schema=converter.get_metadata_schema()\n",
    ")"
   ]
  },
  {
   "cell_type": "code",
   "execution_count": null,
   "metadata": {},
   "outputs": [],
   "source": [
    "RXI = AxonaRecordingExtractorInterface(filename=filename)"
   ]
  },
  {
   "cell_type": "code",
   "execution_count": null,
   "metadata": {},
   "outputs": [],
   "source": [
    "RXI.get_metadata()"
   ]
  },
  {
   "cell_type": "code",
   "execution_count": null,
   "metadata": {},
   "outputs": [],
   "source": [
    "base_metadata_schema = RXI.get_metadata_schema()"
   ]
  },
  {
   "cell_type": "code",
   "execution_count": null,
   "metadata": {},
   "outputs": [],
   "source": [
    "import json\n",
    "print(json.dumps(base_metadata_schema, indent=2))"
   ]
  },
  {
   "cell_type": "code",
   "execution_count": null,
   "metadata": {},
   "outputs": [],
   "source": [
    "# The metadata_schema does not validate with the metadata, bc\n",
    "# the full metadata_schema is only inherited when defining the\n",
    "# nwbconverter (see below).\n",
    "\n",
    "from jsonschema import validate, ValidationError\n",
    "\n",
    "try:\n",
    "    validate(\n",
    "        instance=RXI.get_metadata(),\n",
    "        schema=RXI.get_metadata_schema()\n",
    "    )\n",
    "    print('validation SUCCESS')\n",
    "except ValidationError:\n",
    "    print('validation FAILED')"
   ]
  },
  {
   "cell_type": "code",
   "execution_count": 130,
   "metadata": {},
   "outputs": [],
   "source": [
    "# So let's create an AxonaNWBconverter\n",
    "\n",
    "# Here we will also import all necessary datainterfaces\n",
    "from nwb_conversion_tools import (\n",
    "    NWBConverter\n",
    ")\n",
    "\n",
    "\n",
    "# A separate class for each datatype\n",
    "class HussainiRawNWBConverter(NWBConverter):\n",
    "    \n",
    "    '''\n",
    "    # If I want to be able to add arbitrary additional / optional properties\n",
    "    def get_metadata_schema(cls):\n",
    "        metadata_schema = super().get_metadata_schema()\n",
    "        metadata_schema['properties']['NWBFile']['additionalProperties'] = True\n",
    "        return metadata_schema\n",
    "    '''\n",
    "    data_interface_classes = dict(\n",
    "        AxonaRecordingExtractorInterface=AxonaRecordingExtractorInterface, \n",
    "        # AxonaSortingExtractorInterface=AxonaSortingExtractorInterface\n",
    "    )"
   ]
  },
  {
   "cell_type": "code",
   "execution_count": 131,
   "metadata": {},
   "outputs": [
    {
     "name": "stdout",
     "output_type": "stream",
     "text": [
      "{\n",
      "  \"AxonaRecordingExtractorInterface\": {\n",
      "    \"required\": [\n",
      "      \"filename\"\n",
      "    ],\n",
      "    \"properties\": {\n",
      "      \"filename\": {\n",
      "        \"type\": \"string\",\n",
      "        \"format\": \"file\",\n",
      "        \"description\": \"Path to Axona files.\"\n",
      "      }\n",
      "    },\n",
      "    \"type\": \"object\",\n",
      "    \"additionalProperties\": true\n",
      "  }\n",
      "}\n"
     ]
    }
   ],
   "source": [
    "# Get source_schema from converter\n",
    "\n",
    "source_schema = HussainiRawNWBConverter.get_source_schema()\n",
    "print(json.dumps(source_schema['properties'], indent=2))"
   ]
  },
  {
   "cell_type": "code",
   "execution_count": 132,
   "metadata": {},
   "outputs": [
    {
     "name": "stdout",
     "output_type": "stream",
     "text": [
      "{\n",
      "  \"AxonaRecordingExtractorInterface\": {\n",
      "    \"filename\": \"/mnt/d/freelance-work/catalyst-neuro/hussaini-lab-to-nwb/example_data_raw/axona_raw_5s\"\n",
      "  }\n",
      "}\n"
     ]
    }
   ],
   "source": [
    "# Define source data (required for instantiating converter)\n",
    "\n",
    "source_data = dict(\n",
    "    AxonaRecordingExtractorInterface=dict(\n",
    "        filename=filename\n",
    "    )\n",
    ")\n",
    "\n",
    "print(json.dumps(source_data, indent=2))"
   ]
  },
  {
   "cell_type": "code",
   "execution_count": 133,
   "metadata": {},
   "outputs": [],
   "source": [
    "# Instantiate Hussaini-lab converter\n",
    "\n",
    "converter = HussainiRawNWBConverter(source_data=source_data)"
   ]
  },
  {
   "cell_type": "code",
   "execution_count": 134,
   "metadata": {},
   "outputs": [
    {
     "name": "stdout",
     "output_type": "stream",
     "text": [
      "{\n",
      "  \"NWBFile\": {\n",
      "    \"required\": [\n",
      "      \"session_description\",\n",
      "      \"identifier\",\n",
      "      \"session_start_time\"\n",
      "    ],\n",
      "    \"properties\": {\n",
      "      \"session_description\": {\n",
      "        \"type\": \"string\",\n",
      "        \"format\": \"long\",\n",
      "        \"description\": \"a description of the session where this data was generated\",\n",
      "        \"default\": \"\"\n",
      "      },\n",
      "      \"identifier\": {\n",
      "        \"type\": \"string\",\n",
      "        \"description\": \"a unique text identifier for the file\",\n",
      "        \"default\": \"a0697ae0-e8ba-4820-ac9f-114581fac68d\"\n",
      "      },\n",
      "      \"session_start_time\": {\n",
      "        \"type\": \"string\",\n",
      "        \"description\": \"the start date and time of the recording session\",\n",
      "        \"format\": \"date-time\",\n",
      "        \"default\": \"2020-10-04T11:07:07\"\n",
      "      },\n",
      "      \"experimenter\": {\n",
      "        \"type\": \"array\",\n",
      "        \"items\": {\n",
      "          \"type\": \"string\",\n",
      "          \"title\": \"experimenter\"\n",
      "        },\n",
      "        \"description\": \"name of person who performed experiment\",\n",
      "        \"default\": [\n",
      "          \"Abid\"\n",
      "        ]\n",
      "      },\n",
      "      \"experiment_description\": {\n",
      "        \"type\": \"string\",\n",
      "        \"description\": \"general description of the experiment\"\n",
      "      },\n",
      "      \"session_id\": {\n",
      "        \"type\": \"string\",\n",
      "        \"description\": \"lab-specific ID for the session\"\n",
      "      },\n",
      "      \"institution\": {\n",
      "        \"type\": \"string\",\n",
      "        \"description\": \"institution(s) where experiment is performed\"\n",
      "      },\n",
      "      \"notes\": {\n",
      "        \"type\": \"string\",\n",
      "        \"description\": \"Notes about the experiment.\"\n",
      "      },\n",
      "      \"pharmacology\": {\n",
      "        \"type\": \"string\",\n",
      "        \"description\": \"Description of drugs used, including how and when they were administered. Anesthesia(s), painkiller(s), etc., plus dosage, concentration, etc.\"\n",
      "      },\n",
      "      \"protocol\": {\n",
      "        \"type\": \"string\",\n",
      "        \"description\": \"Experimental protocol, if applicable. E.g., include IACUC protocol\"\n",
      "      },\n",
      "      \"related_publications\": {\n",
      "        \"type\": \"string\",\n",
      "        \"description\": \"Publication information.PMID, DOI, URL, etc. If multiple, concatenate together and describe which is which. such as PMID, DOI, URL, etc\"\n",
      "      },\n",
      "      \"slices\": {\n",
      "        \"type\": \"string\",\n",
      "        \"description\": \"Description of slices, including information about preparation thickness, orientation, temperature and bath solution\"\n",
      "      },\n",
      "      \"source_script\": {\n",
      "        \"type\": \"string\",\n",
      "        \"description\": \"Script file used to create this NWB file.\"\n",
      "      },\n",
      "      \"source_script_file_name\": {\n",
      "        \"type\": \"string\",\n",
      "        \"description\": \"Name of the source_script file\"\n",
      "      },\n",
      "      \"data_collection\": {\n",
      "        \"type\": \"string\",\n",
      "        \"description\": \"Notes about data collection and analysis.\"\n",
      "      },\n",
      "      \"surgery\": {\n",
      "        \"type\": \"string\",\n",
      "        \"description\": \"Narrative description about surgery/surgeries, including date(s) and who performed surgery.\"\n",
      "      },\n",
      "      \"virus\": {\n",
      "        \"type\": \"string\",\n",
      "        \"description\": \"Information about virus(es) used in experiments, including virus ID, source, date made, injection location, volume, etc.\"\n",
      "      },\n",
      "      \"stimulus_notes\": {\n",
      "        \"type\": \"string\",\n",
      "        \"description\": \"Notes about stimuli, such as how and where presented.\"\n",
      "      },\n",
      "      \"lab\": {\n",
      "        \"type\": \"string\",\n",
      "        \"description\": \"lab where experiment was performed\"\n",
      "      }\n",
      "    },\n",
      "    \"type\": \"object\",\n",
      "    \"additionalProperties\": true,\n",
      "    \"tag\": \"pynwb.file.NWBFile\"\n",
      "  },\n",
      "  \"Subject\": {\n",
      "    \"required\": [],\n",
      "    \"properties\": {\n",
      "      \"age\": {\n",
      "        \"description\": \"the age of the subject\",\n",
      "        \"type\": \"string\"\n",
      "      },\n",
      "      \"description\": {\n",
      "        \"description\": \"a description of the subject\",\n",
      "        \"type\": \"string\"\n",
      "      },\n",
      "      \"genotype\": {\n",
      "        \"description\": \"the genotype of the subject\",\n",
      "        \"type\": \"string\"\n",
      "      },\n",
      "      \"sex\": {\n",
      "        \"description\": \"the sex of the subject\",\n",
      "        \"type\": \"string\"\n",
      "      },\n",
      "      \"species\": {\n",
      "        \"description\": \"the species of the subject\",\n",
      "        \"type\": \"string\"\n",
      "      },\n",
      "      \"subject_id\": {\n",
      "        \"description\": \"a unique identifier for the subject\",\n",
      "        \"type\": \"string\"\n",
      "      },\n",
      "      \"weight\": {\n",
      "        \"description\": \"the weight of the subject\",\n",
      "        \"type\": \"string\"\n",
      "      },\n",
      "      \"date_of_birth\": {\n",
      "        \"description\": \"datetime of date of birth. May be supplied instead of age.\",\n",
      "        \"type\": \"string\",\n",
      "        \"format\": \"date-time\"\n",
      "      }\n",
      "    },\n",
      "    \"type\": \"object\",\n",
      "    \"additionalProperties\": false,\n",
      "    \"tag\": \"pynwb.file.Subject\"\n",
      "  },\n",
      "  \"Ecephys\": {\n",
      "    \"required\": [\n",
      "      \"Device\",\n",
      "      \"ElectrodeGroup\"\n",
      "    ],\n",
      "    \"properties\": {\n",
      "      \"Device\": {\n",
      "        \"type\": \"array\",\n",
      "        \"minItems\": 1,\n",
      "        \"items\": {\n",
      "          \"$ref\": \"#/properties/Ecephys/properties/definitions/Device\"\n",
      "        },\n",
      "        \"default\": [\n",
      "          {\n",
      "            \"name\": \"Axona\",\n",
      "            \"description\": \"Axona DacqUSB, sw_version=1.2.2.16\",\n",
      "            \"manufacturer\": \"Axona\"\n",
      "          }\n",
      "        ]\n",
      "      },\n",
      "      \"ElectrodeGroup\": {\n",
      "        \"type\": \"array\",\n",
      "        \"minItems\": 1,\n",
      "        \"items\": {\n",
      "          \"$ref\": \"#/properties/Ecephys/properties/definitions/ElectrodeGroup\"\n",
      "        },\n",
      "        \"default\": [\n",
      "          {\n",
      "            \"name\": \"Group0\",\n",
      "            \"location\": \"\",\n",
      "            \"device\": \"Axona\",\n",
      "            \"description\": \"Group 0 electrodes.\"\n",
      "          }\n",
      "        ]\n",
      "      },\n",
      "      \"ElectricalSeries\": {\n",
      "        \"required\": [\n",
      "          \"name\"\n",
      "        ],\n",
      "        \"properties\": {\n",
      "          \"name\": {\n",
      "            \"description\": \"The name of this TimeSeries dataset\",\n",
      "            \"type\": \"string\",\n",
      "            \"default\": \"ElectricalSeries\"\n",
      "          },\n",
      "          \"resolution\": {\n",
      "            \"description\": \"The smallest meaningful difference (in specified unit) between values in data\",\n",
      "            \"type\": \"number\",\n",
      "            \"default\": -1.0\n",
      "          },\n",
      "          \"conversion\": {\n",
      "            \"description\": \"Scalar to multiply each element in data to convert it to the specified unit\",\n",
      "            \"type\": \"number\",\n",
      "            \"default\": 1.0\n",
      "          },\n",
      "          \"starting_time\": {\n",
      "            \"description\": \"The timestamp of the first sample\",\n",
      "            \"type\": \"number\"\n",
      "          },\n",
      "          \"rate\": {\n",
      "            \"description\": \"Sampling rate in Hz\",\n",
      "            \"type\": \"number\"\n",
      "          },\n",
      "          \"comments\": {\n",
      "            \"description\": \"Human-readable comments about this TimeSeries dataset\",\n",
      "            \"type\": \"string\",\n",
      "            \"default\": \"no comments\"\n",
      "          },\n",
      "          \"description\": {\n",
      "            \"description\": \"Description of this TimeSeries dataset\",\n",
      "            \"type\": \"string\",\n",
      "            \"default\": \"Raw acquisition traces.\"\n",
      "          }\n",
      "        },\n",
      "        \"type\": \"object\",\n",
      "        \"additionalProperties\": false,\n",
      "        \"tag\": \"pynwb.ecephys.ElectricalSeries\"\n",
      "      },\n",
      "      \"definitions\": {\n",
      "        \"Device\": {\n",
      "          \"required\": [\n",
      "            \"name\"\n",
      "          ],\n",
      "          \"properties\": {\n",
      "            \"name\": {\n",
      "              \"description\": \"the name of this device\",\n",
      "              \"type\": \"string\"\n",
      "            },\n",
      "            \"description\": {\n",
      "              \"description\": \"Description of the device (e.g., model, firmware version, processing software version, etc.)\",\n",
      "              \"type\": \"string\"\n",
      "            },\n",
      "            \"manufacturer\": {\n",
      "              \"description\": \"the name of the manufacturer of this device\",\n",
      "              \"type\": \"string\"\n",
      "            }\n",
      "          },\n",
      "          \"type\": \"object\",\n",
      "          \"additionalProperties\": false,\n",
      "          \"tag\": \"pynwb.device.Device\"\n",
      "        },\n",
      "        \"ElectrodeGroup\": {\n",
      "          \"required\": [\n",
      "            \"name\",\n",
      "            \"location\",\n",
      "            \"description\",\n",
      "            \"device\"\n",
      "          ],\n",
      "          \"properties\": {\n",
      "            \"name\": {\n",
      "              \"description\": \"the name of this electrode\",\n",
      "              \"type\": \"string\"\n",
      "            },\n",
      "            \"description\": {\n",
      "              \"description\": \"description of this electrode group\",\n",
      "              \"type\": \"string\"\n",
      "            },\n",
      "            \"location\": {\n",
      "              \"description\": \"description of location of this electrode group\",\n",
      "              \"type\": \"string\"\n",
      "            },\n",
      "            \"device\": {\n",
      "              \"description\": \"the device that was used to record from this electrode group\",\n",
      "              \"type\": \"string\",\n",
      "              \"target\": \"pynwb.device.Device\"\n",
      "            }\n",
      "          },\n",
      "          \"type\": \"object\",\n",
      "          \"additionalProperties\": false,\n",
      "          \"tag\": \"pynwb.ecephys.ElectrodeGroup\"\n",
      "        }\n",
      "      }\n",
      "    },\n",
      "    \"type\": \"object\",\n",
      "    \"additionalProperties\": true,\n",
      "    \"tag\": \"Ecephys\"\n",
      "  }\n",
      "}\n"
     ]
    }
   ],
   "source": [
    "# Get metadata_schema from converter\n",
    "\n",
    "metadata_schema = converter.get_metadata_schema()\n",
    "print(json.dumps(metadata_schema['properties'], indent=2))"
   ]
  },
  {
   "cell_type": "code",
   "execution_count": 135,
   "metadata": {},
   "outputs": [
    {
     "data": {
      "text/plain": [
       "{'NWBFile': {'session_description': '',\n",
       "  'session_start_time': '2020-10-04T11:07:07',\n",
       "  'identifier': 'cac6c794-5f4c-48d0-9847-d84875321b9a',\n",
       "  'session_duration': '600.00625s',\n",
       "  'experimenter': ['Abid']},\n",
       " 'Ecephys': {'Device': [{'name': 'Axona',\n",
       "    'description': 'Axona DacqUSB, sw_version=1.2.2.16',\n",
       "    'manufacturer': 'Axona'}],\n",
       "  'ElectrodeGroup': [{'name': 'Group0',\n",
       "    'location': '',\n",
       "    'device': 'Axona',\n",
       "    'description': 'Group 0 electrodes.'}],\n",
       "  'Electrodes': [{'name': 'group_name',\n",
       "    'description': 'The name of the ElectrodeGroup this                         electrode is a part of.',\n",
       "    'data': ['Group0',\n",
       "     'Group0',\n",
       "     'Group0',\n",
       "     'Group0',\n",
       "     'Group0',\n",
       "     'Group0',\n",
       "     'Group0',\n",
       "     'Group0',\n",
       "     'Group0',\n",
       "     'Group0',\n",
       "     'Group0',\n",
       "     'Group0',\n",
       "     'Group0',\n",
       "     'Group0',\n",
       "     'Group0',\n",
       "     'Group0']}],\n",
       "  'ElectricalSeries': {'name': 'ElectricalSeries',\n",
       "   'description': 'Raw acquisition traces.'}}}"
      ]
     },
     "execution_count": 135,
     "metadata": {},
     "output_type": "execute_result"
    }
   ],
   "source": [
    "metadata = converter.get_metadata()\n",
    "metadata"
   ]
  },
  {
   "cell_type": "code",
   "execution_count": 136,
   "metadata": {},
   "outputs": [
    {
     "data": {
      "text/plain": [
       "{'Device': [{'name': 'Axona',\n",
       "   'description': 'Axona DacqUSB, sw_version=1.2.2.16',\n",
       "   'manufacturer': 'Axona'}],\n",
       " 'ElectrodeGroup': [{'name': 'Group0',\n",
       "   'location': '',\n",
       "   'device': 'Axona',\n",
       "   'description': 'Group 0 electrodes.'}],\n",
       " 'Electrodes': [{'name': 'group_name',\n",
       "   'description': 'The name of the ElectrodeGroup this                         electrode is a part of.',\n",
       "   'data': ['Group0',\n",
       "    'Group0',\n",
       "    'Group0',\n",
       "    'Group0',\n",
       "    'Group0',\n",
       "    'Group0',\n",
       "    'Group0',\n",
       "    'Group0',\n",
       "    'Group0',\n",
       "    'Group0',\n",
       "    'Group0',\n",
       "    'Group0',\n",
       "    'Group0',\n",
       "    'Group0',\n",
       "    'Group0',\n",
       "    'Group0']}],\n",
       " 'ElectricalSeries': {'name': 'ElectricalSeries',\n",
       "  'description': 'Raw acquisition traces.'}}"
      ]
     },
     "execution_count": 136,
     "metadata": {},
     "output_type": "execute_result"
    }
   ],
   "source": [
    "metadata['Ecephys']"
   ]
  },
  {
   "cell_type": "code",
   "execution_count": 137,
   "metadata": {
    "scrolled": true
   },
   "outputs": [],
   "source": [
    "# Validate metadata with metadata_schema from nwbconverter\n",
    "\n",
    "validate(\n",
    "    instance=converter.get_metadata(),\n",
    "    schema=converter.get_metadata_schema()\n",
    ")"
   ]
  },
  {
   "cell_type": "code",
   "execution_count": null,
   "metadata": {},
   "outputs": [],
   "source": []
  },
  {
   "cell_type": "markdown",
   "metadata": {},
   "source": [
    "## Test axonadatainterface from nwb_conversion_tools"
   ]
  },
  {
   "cell_type": "code",
   "execution_count": 138,
   "metadata": {},
   "outputs": [],
   "source": [
    "import json\n",
    "from jsonschema import validate"
   ]
  },
  {
   "cell_type": "code",
   "execution_count": 139,
   "metadata": {},
   "outputs": [
    {
     "name": "stdout",
     "output_type": "stream",
     "text": [
      "/mnt/d/freelance-work/catalyst-neuro/hussaini-lab-to-nwb/example_data_raw/axona_raw_5s\n"
     ]
    }
   ],
   "source": [
    "import os\n",
    "\n",
    "dir_name = r'/mnt/d/freelance-work/catalyst-neuro/hussaini-lab-to-nwb/example_data_raw'\n",
    "base_filename = 'axona_raw_5s'\n",
    "filename = os.path.join(dir_name, base_filename)\n",
    "print(filename)"
   ]
  },
  {
   "cell_type": "code",
   "execution_count": 140,
   "metadata": {},
   "outputs": [],
   "source": [
    "#from nwb_conversion_tools import axonadatainterface"
   ]
  },
  {
   "cell_type": "code",
   "execution_count": 141,
   "metadata": {},
   "outputs": [],
   "source": [
    "from nwb_conversion_tools import (\n",
    "    NWBConverter, AxonaRecordingExtractorInterface\n",
    ")"
   ]
  },
  {
   "cell_type": "code",
   "execution_count": 142,
   "metadata": {},
   "outputs": [],
   "source": [
    "import sys\n",
    "sys.path.append('/mnt/d/spikeinterface/hussaini-lab-to-nwb/hussaini_lab_to_nwb')"
   ]
  },
  {
   "cell_type": "code",
   "execution_count": 143,
   "metadata": {},
   "outputs": [],
   "source": [
    "from hussaininwbconverter import HussainiNWBConverter"
   ]
  },
  {
   "cell_type": "code",
   "execution_count": 144,
   "metadata": {
    "scrolled": false
   },
   "outputs": [
    {
     "name": "stdout",
     "output_type": "stream",
     "text": [
      "{\n",
      "  \"AxonaRecordingExtractorInterface\": {\n",
      "    \"required\": [\n",
      "      \"filename\"\n",
      "    ],\n",
      "    \"properties\": {\n",
      "      \"filename\": {\n",
      "        \"type\": \"string\",\n",
      "        \"format\": \"file\",\n",
      "        \"description\": \"Path to Axona files.\"\n",
      "      }\n",
      "    },\n",
      "    \"type\": \"object\",\n",
      "    \"additionalProperties\": true\n",
      "  }\n",
      "}\n"
     ]
    }
   ],
   "source": [
    "# Get source_schema from converter\n",
    "\n",
    "source_schema = HussainiNWBConverter.get_source_schema()\n",
    "print(json.dumps(source_schema['properties'], indent=2))"
   ]
  },
  {
   "cell_type": "code",
   "execution_count": 145,
   "metadata": {},
   "outputs": [
    {
     "name": "stdout",
     "output_type": "stream",
     "text": [
      "{\n",
      "  \"AxonaRecordingExtractorInterface\": {\n",
      "    \"filename\": \"/mnt/d/freelance-work/catalyst-neuro/hussaini-lab-to-nwb/example_data_raw/axona_raw_5s\"\n",
      "  }\n",
      "}\n"
     ]
    }
   ],
   "source": [
    "source_data = dict(\n",
    "    AxonaRecordingExtractorInterface=dict(\n",
    "        filename=filename\n",
    "    )\n",
    ")\n",
    "print(json.dumps(source_data, indent=2))"
   ]
  },
  {
   "cell_type": "code",
   "execution_count": 146,
   "metadata": {},
   "outputs": [],
   "source": [
    "# Validate source_data with source_schema\n",
    "\n",
    "validate(\n",
    "    instance=source_data,\n",
    "    schema=source_schema\n",
    ")"
   ]
  },
  {
   "cell_type": "code",
   "execution_count": 147,
   "metadata": {},
   "outputs": [],
   "source": [
    "# Instantiate Hussaini-lab converter\n",
    "\n",
    "converter = HussainiNWBConverter(source_data=source_data)"
   ]
  },
  {
   "cell_type": "code",
   "execution_count": 148,
   "metadata": {},
   "outputs": [
    {
     "name": "stdout",
     "output_type": "stream",
     "text": [
      "{\n",
      "  \"NWBFile\": {\n",
      "    \"required\": [\n",
      "      \"session_description\",\n",
      "      \"identifier\",\n",
      "      \"session_start_time\"\n",
      "    ],\n",
      "    \"properties\": {\n",
      "      \"session_description\": {\n",
      "        \"type\": \"string\",\n",
      "        \"format\": \"long\",\n",
      "        \"description\": \"a description of the session where this data was generated\",\n",
      "        \"default\": \"\"\n",
      "      },\n",
      "      \"identifier\": {\n",
      "        \"type\": \"string\",\n",
      "        \"description\": \"a unique text identifier for the file\",\n",
      "        \"default\": \"f815f467-6dd1-43fa-b1f4-7b1e61e9b8c5\"\n",
      "      },\n",
      "      \"session_start_time\": {\n",
      "        \"type\": \"string\",\n",
      "        \"description\": \"the start date and time of the recording session\",\n",
      "        \"format\": \"date-time\",\n",
      "        \"default\": \"2020-10-04T11:07:07\"\n",
      "      },\n",
      "      \"experimenter\": {\n",
      "        \"type\": \"array\",\n",
      "        \"items\": {\n",
      "          \"type\": \"string\",\n",
      "          \"title\": \"experimenter\"\n",
      "        },\n",
      "        \"description\": \"name of person who performed experiment\",\n",
      "        \"default\": [\n",
      "          \"Abid\"\n",
      "        ]\n",
      "      },\n",
      "      \"experiment_description\": {\n",
      "        \"type\": \"string\",\n",
      "        \"description\": \"general description of the experiment\"\n",
      "      },\n",
      "      \"session_id\": {\n",
      "        \"type\": \"string\",\n",
      "        \"description\": \"lab-specific ID for the session\"\n",
      "      },\n",
      "      \"institution\": {\n",
      "        \"type\": \"string\",\n",
      "        \"description\": \"institution(s) where experiment is performed\"\n",
      "      },\n",
      "      \"notes\": {\n",
      "        \"type\": \"string\",\n",
      "        \"description\": \"Notes about the experiment.\"\n",
      "      },\n",
      "      \"pharmacology\": {\n",
      "        \"type\": \"string\",\n",
      "        \"description\": \"Description of drugs used, including how and when they were administered. Anesthesia(s), painkiller(s), etc., plus dosage, concentration, etc.\"\n",
      "      },\n",
      "      \"protocol\": {\n",
      "        \"type\": \"string\",\n",
      "        \"description\": \"Experimental protocol, if applicable. E.g., include IACUC protocol\"\n",
      "      },\n",
      "      \"related_publications\": {\n",
      "        \"type\": \"string\",\n",
      "        \"description\": \"Publication information.PMID, DOI, URL, etc. If multiple, concatenate together and describe which is which. such as PMID, DOI, URL, etc\"\n",
      "      },\n",
      "      \"slices\": {\n",
      "        \"type\": \"string\",\n",
      "        \"description\": \"Description of slices, including information about preparation thickness, orientation, temperature and bath solution\"\n",
      "      },\n",
      "      \"source_script\": {\n",
      "        \"type\": \"string\",\n",
      "        \"description\": \"Script file used to create this NWB file.\"\n",
      "      },\n",
      "      \"source_script_file_name\": {\n",
      "        \"type\": \"string\",\n",
      "        \"description\": \"Name of the source_script file\"\n",
      "      },\n",
      "      \"data_collection\": {\n",
      "        \"type\": \"string\",\n",
      "        \"description\": \"Notes about data collection and analysis.\"\n",
      "      },\n",
      "      \"surgery\": {\n",
      "        \"type\": \"string\",\n",
      "        \"description\": \"Narrative description about surgery/surgeries, including date(s) and who performed surgery.\"\n",
      "      },\n",
      "      \"virus\": {\n",
      "        \"type\": \"string\",\n",
      "        \"description\": \"Information about virus(es) used in experiments, including virus ID, source, date made, injection location, volume, etc.\"\n",
      "      },\n",
      "      \"stimulus_notes\": {\n",
      "        \"type\": \"string\",\n",
      "        \"description\": \"Notes about stimuli, such as how and where presented.\"\n",
      "      },\n",
      "      \"lab\": {\n",
      "        \"type\": \"string\",\n",
      "        \"description\": \"lab where experiment was performed\"\n",
      "      }\n",
      "    },\n",
      "    \"type\": \"object\",\n",
      "    \"additionalProperties\": true,\n",
      "    \"tag\": \"pynwb.file.NWBFile\"\n",
      "  },\n",
      "  \"Subject\": {\n",
      "    \"required\": [],\n",
      "    \"properties\": {\n",
      "      \"age\": {\n",
      "        \"description\": \"the age of the subject\",\n",
      "        \"type\": \"string\"\n",
      "      },\n",
      "      \"description\": {\n",
      "        \"description\": \"a description of the subject\",\n",
      "        \"type\": \"string\"\n",
      "      },\n",
      "      \"genotype\": {\n",
      "        \"description\": \"the genotype of the subject\",\n",
      "        \"type\": \"string\"\n",
      "      },\n",
      "      \"sex\": {\n",
      "        \"description\": \"the sex of the subject\",\n",
      "        \"type\": \"string\"\n",
      "      },\n",
      "      \"species\": {\n",
      "        \"description\": \"the species of the subject\",\n",
      "        \"type\": \"string\"\n",
      "      },\n",
      "      \"subject_id\": {\n",
      "        \"description\": \"a unique identifier for the subject\",\n",
      "        \"type\": \"string\"\n",
      "      },\n",
      "      \"weight\": {\n",
      "        \"description\": \"the weight of the subject\",\n",
      "        \"type\": \"string\"\n",
      "      },\n",
      "      \"date_of_birth\": {\n",
      "        \"description\": \"datetime of date of birth. May be supplied instead of age.\",\n",
      "        \"type\": \"string\",\n",
      "        \"format\": \"date-time\"\n",
      "      }\n",
      "    },\n",
      "    \"type\": \"object\",\n",
      "    \"additionalProperties\": false,\n",
      "    \"tag\": \"pynwb.file.Subject\"\n",
      "  },\n",
      "  \"Ecephys\": {\n",
      "    \"required\": [\n",
      "      \"Device\",\n",
      "      \"ElectrodeGroup\"\n",
      "    ],\n",
      "    \"properties\": {\n",
      "      \"Device\": {\n",
      "        \"type\": \"array\",\n",
      "        \"minItems\": 1,\n",
      "        \"items\": {\n",
      "          \"$ref\": \"#/properties/Ecephys/properties/definitions/Device\"\n",
      "        },\n",
      "        \"default\": [\n",
      "          {\n",
      "            \"name\": \"Axona\",\n",
      "            \"description\": \"Axona DacqUSB, sw_version=1.2.2.16\",\n",
      "            \"manufacturer\": \"Axona\"\n",
      "          }\n",
      "        ]\n",
      "      },\n",
      "      \"ElectrodeGroup\": {\n",
      "        \"type\": \"array\",\n",
      "        \"minItems\": 1,\n",
      "        \"items\": {\n",
      "          \"$ref\": \"#/properties/Ecephys/properties/definitions/ElectrodeGroup\"\n",
      "        },\n",
      "        \"default\": [\n",
      "          {\n",
      "            \"name\": \"Group0\",\n",
      "            \"location\": \"\",\n",
      "            \"device\": \"Axona\",\n",
      "            \"description\": \"Group 0 electrodes.\"\n",
      "          }\n",
      "        ]\n",
      "      },\n",
      "      \"ElectricalSeries\": {\n",
      "        \"required\": [\n",
      "          \"name\"\n",
      "        ],\n",
      "        \"properties\": {\n",
      "          \"name\": {\n",
      "            \"description\": \"The name of this TimeSeries dataset\",\n",
      "            \"type\": \"string\",\n",
      "            \"default\": \"ElectricalSeries\"\n",
      "          },\n",
      "          \"resolution\": {\n",
      "            \"description\": \"The smallest meaningful difference (in specified unit) between values in data\",\n",
      "            \"type\": \"number\",\n",
      "            \"default\": -1.0\n",
      "          },\n",
      "          \"conversion\": {\n",
      "            \"description\": \"Scalar to multiply each element in data to convert it to the specified unit\",\n",
      "            \"type\": \"number\",\n",
      "            \"default\": 1.0\n",
      "          },\n",
      "          \"starting_time\": {\n",
      "            \"description\": \"The timestamp of the first sample\",\n",
      "            \"type\": \"number\"\n",
      "          },\n",
      "          \"rate\": {\n",
      "            \"description\": \"Sampling rate in Hz\",\n",
      "            \"type\": \"number\"\n",
      "          },\n",
      "          \"comments\": {\n",
      "            \"description\": \"Human-readable comments about this TimeSeries dataset\",\n",
      "            \"type\": \"string\",\n",
      "            \"default\": \"no comments\"\n",
      "          },\n",
      "          \"description\": {\n",
      "            \"description\": \"Description of this TimeSeries dataset\",\n",
      "            \"type\": \"string\",\n",
      "            \"default\": \"Raw acquisition traces.\"\n",
      "          }\n",
      "        },\n",
      "        \"type\": \"object\",\n",
      "        \"additionalProperties\": false,\n",
      "        \"tag\": \"pynwb.ecephys.ElectricalSeries\"\n",
      "      },\n",
      "      \"definitions\": {\n",
      "        \"Device\": {\n",
      "          \"required\": [\n",
      "            \"name\"\n",
      "          ],\n",
      "          \"properties\": {\n",
      "            \"name\": {\n",
      "              \"description\": \"the name of this device\",\n",
      "              \"type\": \"string\"\n",
      "            },\n",
      "            \"description\": {\n",
      "              \"description\": \"Description of the device (e.g., model, firmware version, processing software version, etc.)\",\n",
      "              \"type\": \"string\"\n",
      "            },\n",
      "            \"manufacturer\": {\n",
      "              \"description\": \"the name of the manufacturer of this device\",\n",
      "              \"type\": \"string\"\n",
      "            }\n",
      "          },\n",
      "          \"type\": \"object\",\n",
      "          \"additionalProperties\": false,\n",
      "          \"tag\": \"pynwb.device.Device\"\n",
      "        },\n",
      "        \"ElectrodeGroup\": {\n",
      "          \"required\": [\n",
      "            \"name\",\n",
      "            \"location\",\n",
      "            \"description\",\n",
      "            \"device\"\n",
      "          ],\n",
      "          \"properties\": {\n",
      "            \"name\": {\n",
      "              \"description\": \"the name of this electrode\",\n",
      "              \"type\": \"string\"\n",
      "            },\n",
      "            \"description\": {\n",
      "              \"description\": \"description of this electrode group\",\n",
      "              \"type\": \"string\"\n",
      "            },\n",
      "            \"location\": {\n",
      "              \"description\": \"description of location of this electrode group\",\n",
      "              \"type\": \"string\"\n",
      "            },\n",
      "            \"device\": {\n",
      "              \"description\": \"the device that was used to record from this electrode group\",\n",
      "              \"type\": \"string\",\n",
      "              \"target\": \"pynwb.device.Device\"\n",
      "            }\n",
      "          },\n",
      "          \"type\": \"object\",\n",
      "          \"additionalProperties\": false,\n",
      "          \"tag\": \"pynwb.ecephys.ElectrodeGroup\"\n",
      "        }\n",
      "      }\n",
      "    },\n",
      "    \"type\": \"object\",\n",
      "    \"additionalProperties\": true,\n",
      "    \"tag\": \"Ecephys\"\n",
      "  }\n",
      "}\n"
     ]
    },
    {
     "data": {
      "text/plain": [
       "{'NWBFile': {'session_description': '',\n",
       "  'session_start_time': '2020-10-04T11:07:07',\n",
       "  'identifier': 'bff4a978-7d4d-4878-9c3b-c4c9a0a28e02',\n",
       "  'session_duration': '600.00625s',\n",
       "  'experimenter': ['Abid']},\n",
       " 'Ecephys': {'Device': [{'name': 'Axona',\n",
       "    'description': 'Axona DacqUSB, sw_version=1.2.2.16',\n",
       "    'manufacturer': 'Axona'}],\n",
       "  'ElectrodeGroup': [{'name': 'Group0',\n",
       "    'location': '',\n",
       "    'device': 'Axona',\n",
       "    'description': 'Group 0 electrodes.'}],\n",
       "  'Electrodes': [{'name': 'group_name',\n",
       "    'description': 'The name of the ElectrodeGroup this                         electrode is a part of.',\n",
       "    'data': ['Group0',\n",
       "     'Group0',\n",
       "     'Group0',\n",
       "     'Group0',\n",
       "     'Group0',\n",
       "     'Group0',\n",
       "     'Group0',\n",
       "     'Group0',\n",
       "     'Group0',\n",
       "     'Group0',\n",
       "     'Group0',\n",
       "     'Group0',\n",
       "     'Group0',\n",
       "     'Group0',\n",
       "     'Group0',\n",
       "     'Group0']}],\n",
       "  'ElectricalSeries': {'name': 'ElectricalSeries',\n",
       "   'description': 'Raw acquisition traces.'}}}"
      ]
     },
     "execution_count": 148,
     "metadata": {},
     "output_type": "execute_result"
    }
   ],
   "source": [
    "# Get metadata_schema from converter\n",
    "\n",
    "metadata_schema = converter.get_metadata_schema()\n",
    "print(json.dumps(metadata_schema['properties'], indent=2))\n",
    "\n",
    "\n",
    "metadata = converter.get_metadata()\n",
    "metadata"
   ]
  },
  {
   "cell_type": "code",
   "execution_count": 149,
   "metadata": {},
   "outputs": [],
   "source": [
    "# Validate metadata with metadata_schema from nwbconverter\n",
    "\n",
    "validate(\n",
    "    instance=converter.get_metadata(),\n",
    "    schema=converter.get_metadata_schema()\n",
    ")"
   ]
  },
  {
   "cell_type": "code",
   "execution_count": 185,
   "metadata": {},
   "outputs": [
    {
     "name": "stdout",
     "output_type": "stream",
     "text": [
      "{\n",
      "  \"required\": [\n",
      "    \"NWBFile\"\n",
      "  ],\n",
      "  \"properties\": {\n",
      "    \"NWBFile\": {\n",
      "      \"required\": [\n",
      "        \"session_description\",\n",
      "        \"identifier\",\n",
      "        \"session_start_time\"\n",
      "      ],\n",
      "      \"properties\": {\n",
      "        \"session_description\": {\n",
      "          \"type\": \"string\",\n",
      "          \"format\": \"long\",\n",
      "          \"description\": \"a description of the session where this data was generated\",\n",
      "          \"default\": \"\"\n",
      "        },\n",
      "        \"identifier\": {\n",
      "          \"type\": \"string\",\n",
      "          \"description\": \"a unique text identifier for the file\",\n",
      "          \"default\": \"e7dcc951-ef88-4dcb-a2fe-0a79b258133c\"\n",
      "        },\n",
      "        \"session_start_time\": {\n",
      "          \"type\": \"string\",\n",
      "          \"description\": \"the start date and time of the recording session\",\n",
      "          \"format\": \"date-time\",\n",
      "          \"default\": \"2020-10-04T11:07:07\"\n",
      "        },\n",
      "        \"experimenter\": {\n",
      "          \"type\": \"array\",\n",
      "          \"items\": {\n",
      "            \"type\": \"string\",\n",
      "            \"title\": \"experimenter\"\n",
      "          },\n",
      "          \"description\": \"name of person who performed experiment\",\n",
      "          \"default\": [\n",
      "            \"Abid\"\n",
      "          ]\n",
      "        },\n",
      "        \"experiment_description\": {\n",
      "          \"type\": \"string\",\n",
      "          \"description\": \"general description of the experiment\"\n",
      "        },\n",
      "        \"session_id\": {\n",
      "          \"type\": \"string\",\n",
      "          \"description\": \"lab-specific ID for the session\"\n",
      "        },\n",
      "        \"institution\": {\n",
      "          \"type\": \"string\",\n",
      "          \"description\": \"institution(s) where experiment is performed\"\n",
      "        },\n",
      "        \"notes\": {\n",
      "          \"type\": \"string\",\n",
      "          \"description\": \"Notes about the experiment.\"\n",
      "        },\n",
      "        \"pharmacology\": {\n",
      "          \"type\": \"string\",\n",
      "          \"description\": \"Description of drugs used, including how and when they were administered. Anesthesia(s), painkiller(s), etc., plus dosage, concentration, etc.\"\n",
      "        },\n",
      "        \"protocol\": {\n",
      "          \"type\": \"string\",\n",
      "          \"description\": \"Experimental protocol, if applicable. E.g., include IACUC protocol\"\n",
      "        },\n",
      "        \"related_publications\": {\n",
      "          \"type\": \"string\",\n",
      "          \"description\": \"Publication information.PMID, DOI, URL, etc. If multiple, concatenate together and describe which is which. such as PMID, DOI, URL, etc\"\n",
      "        },\n",
      "        \"slices\": {\n",
      "          \"type\": \"string\",\n",
      "          \"description\": \"Description of slices, including information about preparation thickness, orientation, temperature and bath solution\"\n",
      "        },\n",
      "        \"source_script\": {\n",
      "          \"type\": \"string\",\n",
      "          \"description\": \"Script file used to create this NWB file.\"\n",
      "        },\n",
      "        \"source_script_file_name\": {\n",
      "          \"type\": \"string\",\n",
      "          \"description\": \"Name of the source_script file\"\n",
      "        },\n",
      "        \"data_collection\": {\n",
      "          \"type\": \"string\",\n",
      "          \"description\": \"Notes about data collection and analysis.\"\n",
      "        },\n",
      "        \"surgery\": {\n",
      "          \"type\": \"string\",\n",
      "          \"description\": \"Narrative description about surgery/surgeries, including date(s) and who performed surgery.\"\n",
      "        },\n",
      "        \"virus\": {\n",
      "          \"type\": \"string\",\n",
      "          \"description\": \"Information about virus(es) used in experiments, including virus ID, source, date made, injection location, volume, etc.\"\n",
      "        },\n",
      "        \"stimulus_notes\": {\n",
      "          \"type\": \"string\",\n",
      "          \"description\": \"Notes about stimuli, such as how and where presented.\"\n",
      "        },\n",
      "        \"lab\": {\n",
      "          \"type\": \"string\",\n",
      "          \"description\": \"lab where experiment was performed\"\n",
      "        }\n",
      "      },\n",
      "      \"type\": \"object\",\n",
      "      \"additionalProperties\": true,\n",
      "      \"tag\": \"pynwb.file.NWBFile\"\n",
      "    },\n",
      "    \"Subject\": {\n",
      "      \"required\": [],\n",
      "      \"properties\": {\n",
      "        \"age\": {\n",
      "          \"description\": \"the age of the subject\",\n",
      "          \"type\": \"string\"\n",
      "        },\n",
      "        \"description\": {\n",
      "          \"description\": \"a description of the subject\",\n",
      "          \"type\": \"string\"\n",
      "        },\n",
      "        \"genotype\": {\n",
      "          \"description\": \"the genotype of the subject\",\n",
      "          \"type\": \"string\"\n",
      "        },\n",
      "        \"sex\": {\n",
      "          \"description\": \"the sex of the subject\",\n",
      "          \"type\": \"string\"\n",
      "        },\n",
      "        \"species\": {\n",
      "          \"description\": \"the species of the subject\",\n",
      "          \"type\": \"string\"\n",
      "        },\n",
      "        \"subject_id\": {\n",
      "          \"description\": \"a unique identifier for the subject\",\n",
      "          \"type\": \"string\"\n",
      "        },\n",
      "        \"weight\": {\n",
      "          \"description\": \"the weight of the subject\",\n",
      "          \"type\": \"string\"\n",
      "        },\n",
      "        \"date_of_birth\": {\n",
      "          \"description\": \"datetime of date of birth. May be supplied instead of age.\",\n",
      "          \"type\": \"string\",\n",
      "          \"format\": \"date-time\"\n",
      "        }\n",
      "      },\n",
      "      \"type\": \"object\",\n",
      "      \"additionalProperties\": false,\n",
      "      \"tag\": \"pynwb.file.Subject\"\n",
      "    },\n",
      "    \"Ecephys\": {\n",
      "      \"required\": [\n",
      "        \"Device\",\n",
      "        \"ElectrodeGroup\"\n",
      "      ],\n",
      "      \"properties\": {\n",
      "        \"Device\": {\n",
      "          \"type\": \"array\",\n",
      "          \"minItems\": 1,\n",
      "          \"items\": {\n",
      "            \"$ref\": \"#/properties/Ecephys/properties/definitions/Device\"\n",
      "          },\n",
      "          \"default\": [\n",
      "            {\n",
      "              \"name\": \"Axona\",\n",
      "              \"description\": \"Axona DacqUSB, sw_version=1.2.2.16\",\n",
      "              \"manufacturer\": \"Axona\"\n",
      "            }\n",
      "          ]\n",
      "        },\n",
      "        \"ElectrodeGroup\": {\n",
      "          \"type\": \"array\",\n",
      "          \"minItems\": 1,\n",
      "          \"items\": {\n",
      "            \"$ref\": \"#/properties/Ecephys/properties/definitions/ElectrodeGroup\"\n",
      "          },\n",
      "          \"default\": [\n",
      "            {\n",
      "              \"name\": \"Group0\",\n",
      "              \"location\": \"\",\n",
      "              \"device\": \"Axona\",\n",
      "              \"description\": \"Group 0 electrodes.\"\n",
      "            }\n",
      "          ]\n",
      "        },\n",
      "        \"ElectricalSeries\": {\n",
      "          \"required\": [\n",
      "            \"name\"\n",
      "          ],\n",
      "          \"properties\": {\n",
      "            \"name\": {\n",
      "              \"description\": \"The name of this TimeSeries dataset\",\n",
      "              \"type\": \"string\",\n",
      "              \"default\": \"ElectricalSeries\"\n",
      "            },\n",
      "            \"resolution\": {\n",
      "              \"description\": \"The smallest meaningful difference (in specified unit) between values in data\",\n",
      "              \"type\": \"number\",\n",
      "              \"default\": -1.0\n",
      "            },\n",
      "            \"conversion\": {\n",
      "              \"description\": \"Scalar to multiply each element in data to convert it to the specified unit\",\n",
      "              \"type\": \"number\",\n",
      "              \"default\": 1.0\n",
      "            },\n",
      "            \"starting_time\": {\n",
      "              \"description\": \"The timestamp of the first sample\",\n",
      "              \"type\": \"number\"\n",
      "            },\n",
      "            \"rate\": {\n",
      "              \"description\": \"Sampling rate in Hz\",\n",
      "              \"type\": \"number\"\n",
      "            },\n",
      "            \"comments\": {\n",
      "              \"description\": \"Human-readable comments about this TimeSeries dataset\",\n",
      "              \"type\": \"string\",\n",
      "              \"default\": \"no comments\"\n",
      "            },\n",
      "            \"description\": {\n",
      "              \"description\": \"Description of this TimeSeries dataset\",\n",
      "              \"type\": \"string\",\n",
      "              \"default\": \"Raw acquisition traces.\"\n",
      "            }\n",
      "          },\n",
      "          \"type\": \"object\",\n",
      "          \"additionalProperties\": false,\n",
      "          \"tag\": \"pynwb.ecephys.ElectricalSeries\"\n",
      "        },\n",
      "        \"definitions\": {\n",
      "          \"Device\": {\n",
      "            \"required\": [\n",
      "              \"name\"\n",
      "            ],\n",
      "            \"properties\": {\n",
      "              \"name\": {\n",
      "                \"description\": \"the name of this device\",\n",
      "                \"type\": \"string\"\n",
      "              },\n",
      "              \"description\": {\n",
      "                \"description\": \"Description of the device (e.g., model, firmware version, processing software version, etc.)\",\n",
      "                \"type\": \"string\"\n",
      "              },\n",
      "              \"manufacturer\": {\n",
      "                \"description\": \"the name of the manufacturer of this device\",\n",
      "                \"type\": \"string\"\n",
      "              }\n",
      "            },\n",
      "            \"type\": \"object\",\n",
      "            \"additionalProperties\": false,\n",
      "            \"tag\": \"pynwb.device.Device\"\n",
      "          },\n",
      "          \"ElectrodeGroup\": {\n",
      "            \"required\": [\n",
      "              \"name\",\n",
      "              \"location\",\n",
      "              \"description\",\n",
      "              \"device\"\n",
      "            ],\n",
      "            \"properties\": {\n",
      "              \"name\": {\n",
      "                \"description\": \"the name of this electrode\",\n",
      "                \"type\": \"string\"\n",
      "              },\n",
      "              \"description\": {\n",
      "                \"description\": \"description of this electrode group\",\n",
      "                \"type\": \"string\"\n",
      "              },\n",
      "              \"location\": {\n",
      "                \"description\": \"description of location of this electrode group\",\n",
      "                \"type\": \"string\"\n",
      "              },\n",
      "              \"device\": {\n",
      "                \"description\": \"the device that was used to record from this electrode group\",\n",
      "                \"type\": \"string\",\n",
      "                \"target\": \"pynwb.device.Device\"\n",
      "              }\n",
      "            },\n",
      "            \"type\": \"object\",\n",
      "            \"additionalProperties\": false,\n",
      "            \"tag\": \"pynwb.ecephys.ElectrodeGroup\"\n",
      "          }\n",
      "        }\n",
      "      },\n",
      "      \"type\": \"object\",\n",
      "      \"additionalProperties\": true,\n",
      "      \"tag\": \"Ecephys\"\n",
      "    }\n",
      "  },\n",
      "  \"type\": \"object\",\n",
      "  \"additionalProperties\": true,\n",
      "  \"$schema\": \"http://json-schema.org/draft-07/schema#\",\n",
      "  \"$id\": \"metadata.schema.json\",\n",
      "  \"title\": \"Metadata\",\n",
      "  \"description\": \"Schema for the metadata\",\n",
      "  \"version\": \"0.1.0\"\n",
      "}\n"
     ]
    }
   ],
   "source": [
    "print(json.dumps(converter.get_metadata_schema(), indent=2))"
   ]
  },
  {
   "cell_type": "code",
   "execution_count": 150,
   "metadata": {},
   "outputs": [],
   "source": [
    "# Test pytest function test_interface_schemas() for this specific interface\n",
    "\n",
    "from jsonschema import Draft7Validator"
   ]
  },
  {
   "cell_type": "code",
   "execution_count": 151,
   "metadata": {},
   "outputs": [],
   "source": [
    "data_interface = AxonaRecordingExtractorInterface(filename=filename)\n",
    "\n",
    "schema = data_interface.get_source_schema()\n",
    "Draft7Validator.check_schema(schema)\n",
    "\n",
    "# check validity of conversion options schema\n",
    "schema = data_interface.get_conversion_options_schema()\n",
    "Draft7Validator.check_schema(schema)"
   ]
  },
  {
   "cell_type": "code",
   "execution_count": 40,
   "metadata": {},
   "outputs": [],
   "source": [
    "data_interface.convert_data?"
   ]
  },
  {
   "cell_type": "code",
   "execution_count": 41,
   "metadata": {},
   "outputs": [],
   "source": [
    "data_interface.run_conversion?"
   ]
  },
  {
   "cell_type": "code",
   "execution_count": 152,
   "metadata": {},
   "outputs": [
    {
     "data": {
      "text/plain": [
       "'/mnt/d/freelance-work/catalyst-neuro/hussaini-lab-to-nwb/example_data_raw'"
      ]
     },
     "execution_count": 152,
     "metadata": {},
     "output_type": "execute_result"
    }
   ],
   "source": [
    "dir_name"
   ]
  },
  {
   "cell_type": "code",
   "execution_count": 43,
   "metadata": {},
   "outputs": [],
   "source": [
    "HussainiNWBConverter.run_conversion?"
   ]
  },
  {
   "cell_type": "code",
   "execution_count": 153,
   "metadata": {},
   "outputs": [
    {
     "ename": "UnsupportedOperation",
     "evalue": "Cannot read data from file /mnt/d/freelance-work/catalyst-neuro/hussaini-lab-to-nwb/example_data_raw/axonadatainterface_test.nwb in mode 'r+'. There are no values.",
     "output_type": "error",
     "traceback": [
      "\u001b[0;31m---------------------------------------------------------------------------\u001b[0m",
      "\u001b[0;31mUnsupportedOperation\u001b[0m                      Traceback (most recent call last)",
      "\u001b[0;32m/mnt/d/spikeinterface/hussaini-to-nwb/venv/lib/python3.8/site-packages/hdmf/backends/hdf5/h5tools.py\u001b[0m in \u001b[0;36mread\u001b[0;34m(self, **kwargs)\u001b[0m\n\u001b[1;32m    430\u001b[0m         \u001b[0;32mtry\u001b[0m\u001b[0;34m:\u001b[0m\u001b[0;34m\u001b[0m\u001b[0;34m\u001b[0m\u001b[0m\n\u001b[0;32m--> 431\u001b[0;31m             \u001b[0;32mreturn\u001b[0m \u001b[0mcall_docval_func\u001b[0m\u001b[0;34m(\u001b[0m\u001b[0msuper\u001b[0m\u001b[0;34m(\u001b[0m\u001b[0;34m)\u001b[0m\u001b[0;34m.\u001b[0m\u001b[0mread\u001b[0m\u001b[0;34m,\u001b[0m \u001b[0mkwargs\u001b[0m\u001b[0;34m)\u001b[0m\u001b[0;34m\u001b[0m\u001b[0;34m\u001b[0m\u001b[0m\n\u001b[0m\u001b[1;32m    432\u001b[0m         \u001b[0;32mexcept\u001b[0m \u001b[0mUnsupportedOperation\u001b[0m \u001b[0;32mas\u001b[0m \u001b[0me\u001b[0m\u001b[0;34m:\u001b[0m\u001b[0;34m\u001b[0m\u001b[0;34m\u001b[0m\u001b[0m\n",
      "\u001b[0;32m/mnt/d/spikeinterface/hussaini-to-nwb/venv/lib/python3.8/site-packages/hdmf/utils.py\u001b[0m in \u001b[0;36mcall_docval_func\u001b[0;34m(func, kwargs)\u001b[0m\n\u001b[1;32m    422\u001b[0m     \u001b[0mfargs\u001b[0m\u001b[0;34m,\u001b[0m \u001b[0mfkwargs\u001b[0m \u001b[0;34m=\u001b[0m \u001b[0mfmt_docval_args\u001b[0m\u001b[0;34m(\u001b[0m\u001b[0mfunc\u001b[0m\u001b[0;34m,\u001b[0m \u001b[0mkwargs\u001b[0m\u001b[0;34m)\u001b[0m\u001b[0;34m\u001b[0m\u001b[0;34m\u001b[0m\u001b[0m\n\u001b[0;32m--> 423\u001b[0;31m     \u001b[0;32mreturn\u001b[0m \u001b[0mfunc\u001b[0m\u001b[0;34m(\u001b[0m\u001b[0;34m*\u001b[0m\u001b[0mfargs\u001b[0m\u001b[0;34m,\u001b[0m \u001b[0;34m**\u001b[0m\u001b[0mfkwargs\u001b[0m\u001b[0;34m)\u001b[0m\u001b[0;34m\u001b[0m\u001b[0;34m\u001b[0m\u001b[0m\n\u001b[0m\u001b[1;32m    424\u001b[0m \u001b[0;34m\u001b[0m\u001b[0m\n",
      "\u001b[0;32m/mnt/d/spikeinterface/hussaini-to-nwb/venv/lib/python3.8/site-packages/hdmf/utils.py\u001b[0m in \u001b[0;36mfunc_call\u001b[0;34m(*args, **kwargs)\u001b[0m\n\u001b[1;32m    579\u001b[0m                 \u001b[0mpargs\u001b[0m \u001b[0;34m=\u001b[0m \u001b[0m_check_args\u001b[0m\u001b[0;34m(\u001b[0m\u001b[0margs\u001b[0m\u001b[0;34m,\u001b[0m \u001b[0mkwargs\u001b[0m\u001b[0;34m)\u001b[0m\u001b[0;34m\u001b[0m\u001b[0;34m\u001b[0m\u001b[0m\n\u001b[0;32m--> 580\u001b[0;31m                 \u001b[0;32mreturn\u001b[0m \u001b[0mfunc\u001b[0m\u001b[0;34m(\u001b[0m\u001b[0margs\u001b[0m\u001b[0;34m[\u001b[0m\u001b[0;36m0\u001b[0m\u001b[0;34m]\u001b[0m\u001b[0;34m,\u001b[0m \u001b[0;34m**\u001b[0m\u001b[0mpargs\u001b[0m\u001b[0;34m)\u001b[0m\u001b[0;34m\u001b[0m\u001b[0;34m\u001b[0m\u001b[0m\n\u001b[0m\u001b[1;32m    581\u001b[0m         \u001b[0;32melse\u001b[0m\u001b[0;34m:\u001b[0m\u001b[0;34m\u001b[0m\u001b[0;34m\u001b[0m\u001b[0m\n",
      "\u001b[0;32m/mnt/d/spikeinterface/hussaini-to-nwb/venv/lib/python3.8/site-packages/hdmf/backends/io.py\u001b[0m in \u001b[0;36mread\u001b[0;34m(self, **kwargs)\u001b[0m\n\u001b[1;32m     39\u001b[0m             \u001b[0;31m# TODO also check that the keys are appropriate. print a better error message\u001b[0m\u001b[0;34m\u001b[0m\u001b[0;34m\u001b[0m\u001b[0;34m\u001b[0m\u001b[0m\n\u001b[0;32m---> 40\u001b[0;31m             \u001b[0;32mraise\u001b[0m \u001b[0mUnsupportedOperation\u001b[0m\u001b[0;34m(\u001b[0m\u001b[0;34m'Cannot build data. There are no values.'\u001b[0m\u001b[0;34m)\u001b[0m\u001b[0;34m\u001b[0m\u001b[0;34m\u001b[0m\u001b[0m\n\u001b[0m\u001b[1;32m     41\u001b[0m         \u001b[0mcontainer\u001b[0m \u001b[0;34m=\u001b[0m \u001b[0mself\u001b[0m\u001b[0;34m.\u001b[0m\u001b[0m__manager\u001b[0m\u001b[0;34m.\u001b[0m\u001b[0mconstruct\u001b[0m\u001b[0;34m(\u001b[0m\u001b[0mf_builder\u001b[0m\u001b[0;34m)\u001b[0m\u001b[0;34m\u001b[0m\u001b[0;34m\u001b[0m\u001b[0m\n",
      "\u001b[0;31mUnsupportedOperation\u001b[0m: Cannot build data. There are no values.",
      "\nDuring handling of the above exception, another exception occurred:\n",
      "\u001b[0;31mUnsupportedOperation\u001b[0m                      Traceback (most recent call last)",
      "\u001b[0;32m<ipython-input-153-a55a9fe74d3a>\u001b[0m in \u001b[0;36m<module>\u001b[0;34m\u001b[0m\n\u001b[0;32m----> 1\u001b[0;31m \u001b[0mconverter\u001b[0m\u001b[0;34m.\u001b[0m\u001b[0mrun_conversion\u001b[0m\u001b[0;34m(\u001b[0m\u001b[0mmetadata\u001b[0m\u001b[0;34m=\u001b[0m\u001b[0mmetadata\u001b[0m\u001b[0;34m,\u001b[0m \u001b[0mnwbfile_path\u001b[0m\u001b[0;34m=\u001b[0m\u001b[0mos\u001b[0m\u001b[0;34m.\u001b[0m\u001b[0mpath\u001b[0m\u001b[0;34m.\u001b[0m\u001b[0mjoin\u001b[0m\u001b[0;34m(\u001b[0m\u001b[0mdir_name\u001b[0m\u001b[0;34m,\u001b[0m \u001b[0;34m'axonadatainterface_test.nwb'\u001b[0m\u001b[0;34m)\u001b[0m\u001b[0;34m)\u001b[0m\u001b[0;34m\u001b[0m\u001b[0;34m\u001b[0m\u001b[0m\n\u001b[0m",
      "\u001b[0;32m/mnt/d/spikeinterface/nwb-conversion-tools/nwb_conversion_tools/nwbconverter.py\u001b[0m in \u001b[0;36mrun_conversion\u001b[0;34m(self, metadata, save_to_file, nwbfile_path, overwrite, nwbfile, conversion_options)\u001b[0m\n\u001b[1;32m    138\u001b[0m             \u001b[0;32mwith\u001b[0m \u001b[0mNWBHDF5IO\u001b[0m\u001b[0;34m(\u001b[0m\u001b[0mnwbfile_path\u001b[0m\u001b[0;34m,\u001b[0m \u001b[0mmode\u001b[0m\u001b[0;34m=\u001b[0m\u001b[0mmode\u001b[0m\u001b[0;34m)\u001b[0m \u001b[0;32mas\u001b[0m \u001b[0mio\u001b[0m\u001b[0;34m:\u001b[0m\u001b[0;34m\u001b[0m\u001b[0;34m\u001b[0m\u001b[0m\n\u001b[1;32m    139\u001b[0m                 \u001b[0;32mif\u001b[0m \u001b[0mmode\u001b[0m \u001b[0;34m==\u001b[0m \u001b[0;34m\"r+\"\u001b[0m\u001b[0;34m:\u001b[0m\u001b[0;34m\u001b[0m\u001b[0;34m\u001b[0m\u001b[0m\n\u001b[0;32m--> 140\u001b[0;31m                     \u001b[0mnwbfile\u001b[0m \u001b[0;34m=\u001b[0m \u001b[0mio\u001b[0m\u001b[0;34m.\u001b[0m\u001b[0mread\u001b[0m\u001b[0;34m(\u001b[0m\u001b[0;34m)\u001b[0m\u001b[0;34m\u001b[0m\u001b[0;34m\u001b[0m\u001b[0m\n\u001b[0m\u001b[1;32m    141\u001b[0m                 \u001b[0;32melif\u001b[0m \u001b[0mnwbfile\u001b[0m \u001b[0;32mis\u001b[0m \u001b[0;32mNone\u001b[0m\u001b[0;34m:\u001b[0m\u001b[0;34m\u001b[0m\u001b[0;34m\u001b[0m\u001b[0m\n\u001b[1;32m    142\u001b[0m                     \u001b[0mnwbfile\u001b[0m \u001b[0;34m=\u001b[0m \u001b[0mmake_nwbfile_from_metadata\u001b[0m\u001b[0;34m(\u001b[0m\u001b[0mmetadata\u001b[0m\u001b[0;34m=\u001b[0m\u001b[0mmetadata\u001b[0m\u001b[0;34m)\u001b[0m\u001b[0;34m\u001b[0m\u001b[0;34m\u001b[0m\u001b[0m\n",
      "\u001b[0;32m/mnt/d/spikeinterface/hussaini-to-nwb/venv/lib/python3.8/site-packages/hdmf/backends/hdf5/h5tools.py\u001b[0m in \u001b[0;36mread\u001b[0;34m(self, **kwargs)\u001b[0m\n\u001b[1;32m    432\u001b[0m         \u001b[0;32mexcept\u001b[0m \u001b[0mUnsupportedOperation\u001b[0m \u001b[0;32mas\u001b[0m \u001b[0me\u001b[0m\u001b[0;34m:\u001b[0m\u001b[0;34m\u001b[0m\u001b[0;34m\u001b[0m\u001b[0m\n\u001b[1;32m    433\u001b[0m             \u001b[0;32mif\u001b[0m \u001b[0mstr\u001b[0m\u001b[0;34m(\u001b[0m\u001b[0me\u001b[0m\u001b[0;34m)\u001b[0m \u001b[0;34m==\u001b[0m \u001b[0;34m'Cannot build data. There are no values.'\u001b[0m\u001b[0;34m:\u001b[0m  \u001b[0;31m# pragma: no cover\u001b[0m\u001b[0;34m\u001b[0m\u001b[0;34m\u001b[0m\u001b[0m\n\u001b[0;32m--> 434\u001b[0;31m                 raise UnsupportedOperation(\"Cannot read data from file %s in mode '%s'. There are no values.\"\n\u001b[0m\u001b[1;32m    435\u001b[0m                                            % (self.source, self.__mode))\n\u001b[1;32m    436\u001b[0m \u001b[0;34m\u001b[0m\u001b[0m\n",
      "\u001b[0;31mUnsupportedOperation\u001b[0m: Cannot read data from file /mnt/d/freelance-work/catalyst-neuro/hussaini-lab-to-nwb/example_data_raw/axonadatainterface_test.nwb in mode 'r+'. There are no values."
     ]
    }
   ],
   "source": [
    "converter.run_conversion(metadata=metadata, nwbfile_path=os.path.join(dir_name, 'axonadatainterface_test.nwb'))"
   ]
  },
  {
   "cell_type": "code",
   "execution_count": 154,
   "metadata": {},
   "outputs": [],
   "source": [
    "from nwb_conversion_tools.conversion_tools import get_default_nwbfile_metadata\n",
    "from nwb_conversion_tools.json_schema_utils import dict_deep_update\n"
   ]
  },
  {
   "cell_type": "code",
   "execution_count": 155,
   "metadata": {},
   "outputs": [],
   "source": [
    "metadata = dict_deep_update(get_default_nwbfile_metadata(), metadata)"
   ]
  },
  {
   "cell_type": "code",
   "execution_count": 156,
   "metadata": {},
   "outputs": [
    {
     "data": {
      "text/plain": [
       "{'session_description': '',\n",
       " 'session_start_time': '2020-10-04T11:07:07',\n",
       " 'identifier': 'bff4a978-7d4d-4878-9c3b-c4c9a0a28e02',\n",
       " 'session_duration': '600.00625s',\n",
       " 'experimenter': ['Abid']}"
      ]
     },
     "execution_count": 156,
     "metadata": {},
     "output_type": "execute_result"
    }
   ],
   "source": [
    "metadata['NWBFile']"
   ]
  },
  {
   "cell_type": "code",
   "execution_count": 157,
   "metadata": {},
   "outputs": [
    {
     "data": {
      "text/plain": [
       "'600.00625s'"
      ]
     },
     "execution_count": 157,
     "metadata": {},
     "output_type": "execute_result"
    }
   ],
   "source": [
    "metadata_test = metadata\n",
    "metadata_test['NWBFile'].pop('session_duration') "
   ]
  },
  {
   "cell_type": "code",
   "execution_count": 158,
   "metadata": {},
   "outputs": [
    {
     "data": {
      "text/plain": [
       "{'NWBFile': {'session_description': '',\n",
       "  'session_start_time': '2020-10-04T11:07:07',\n",
       "  'identifier': 'bff4a978-7d4d-4878-9c3b-c4c9a0a28e02',\n",
       "  'experimenter': ['Abid']},\n",
       " 'Ecephys': {'Device': [{'name': 'Axona',\n",
       "    'description': 'Axona DacqUSB, sw_version=1.2.2.16',\n",
       "    'manufacturer': 'Axona'}],\n",
       "  'ElectrodeGroup': [{'name': 'Group0',\n",
       "    'location': '',\n",
       "    'device': 'Axona',\n",
       "    'description': 'Group 0 electrodes.'}],\n",
       "  'Electrodes': [{'name': 'group_name',\n",
       "    'description': 'The name of the ElectrodeGroup this                         electrode is a part of.',\n",
       "    'data': ['Group0',\n",
       "     'Group0',\n",
       "     'Group0',\n",
       "     'Group0',\n",
       "     'Group0',\n",
       "     'Group0',\n",
       "     'Group0',\n",
       "     'Group0',\n",
       "     'Group0',\n",
       "     'Group0',\n",
       "     'Group0',\n",
       "     'Group0',\n",
       "     'Group0',\n",
       "     'Group0',\n",
       "     'Group0',\n",
       "     'Group0']}],\n",
       "  'ElectricalSeries': {'name': 'ElectricalSeries',\n",
       "   'description': 'Raw acquisition traces.'}}}"
      ]
     },
     "execution_count": 158,
     "metadata": {},
     "output_type": "execute_result"
    }
   ],
   "source": [
    "metadata_test"
   ]
  },
  {
   "cell_type": "code",
   "execution_count": 159,
   "metadata": {},
   "outputs": [
    {
     "data": {
      "text/plain": [
       "{'AxonaRecordingExtractorInterface': <nwb_conversion_tools.datainterfaces.axonadatainterface.AxonaRecordingExtractorInterface at 0x7fa2ad3957f0>}"
      ]
     },
     "execution_count": 159,
     "metadata": {},
     "output_type": "execute_result"
    }
   ],
   "source": [
    "converter.data_interface_objects"
   ]
  },
  {
   "cell_type": "code",
   "execution_count": 160,
   "metadata": {},
   "outputs": [
    {
     "data": {
      "text/plain": [
       "{'session_description': '',\n",
       " 'session_start_time': '2020-10-04T11:07:07',\n",
       " 'identifier': 'bff4a978-7d4d-4878-9c3b-c4c9a0a28e02',\n",
       " 'experimenter': ['Abid']}"
      ]
     },
     "execution_count": 160,
     "metadata": {},
     "output_type": "execute_result"
    }
   ],
   "source": [
    "metadata[\"NWBFile\"]"
   ]
  },
  {
   "cell_type": "code",
   "execution_count": 161,
   "metadata": {},
   "outputs": [],
   "source": [
    "from datetime import datetime\n",
    "from pynwb import NWBFile"
   ]
  },
  {
   "cell_type": "code",
   "execution_count": 162,
   "metadata": {},
   "outputs": [],
   "source": [
    "def make_nwbfile_from_metadata(metadata: dict):\n",
    "    \"\"\"Make NWBFile from available metadata.\"\"\"\n",
    "    metadata = dict_deep_update(get_default_nwbfile_metadata(), metadata)\n",
    "    nwbfile_kwargs = metadata[\"NWBFile\"]\n",
    "    if \"Subject\" in metadata:\n",
    "        # convert ISO 8601 string to datetime\n",
    "        if \"date_of_birth\" in metadata[\"Subject\"] and isinstance(metadata[\"Subject\"][\"date_of_birth\"], str):\n",
    "            metadata[\"Subject\"][\"date_of_birth\"] = datetime.fromisoformat(metadata[\"Subject\"][\"date_of_birth\"])\n",
    "        nwbfile_kwargs.update(subject=Subject(**metadata[\"Subject\"]))\n",
    "    # convert ISO 8601 string to datetime\n",
    "    if isinstance(nwbfile_kwargs.get(\"session_start_time\", None), str):\n",
    "        nwbfile_kwargs[\"session_start_time\"] = datetime.fromisoformat(metadata[\"NWBFile\"][\"session_start_time\"])\n",
    "    return NWBFile(**nwbfile_kwargs)"
   ]
  },
  {
   "cell_type": "code",
   "execution_count": 163,
   "metadata": {},
   "outputs": [],
   "source": [
    "nwbfile = make_nwbfile_from_metadata(metadata=metadata_test)"
   ]
  },
  {
   "cell_type": "code",
   "execution_count": 164,
   "metadata": {},
   "outputs": [
    {
     "data": {
      "text/plain": [
       "dict"
      ]
     },
     "execution_count": 164,
     "metadata": {},
     "output_type": "execute_result"
    }
   ],
   "source": [
    "print(type(metadata_test['Ecephys']['Device']))\n",
    "print(type(metadata_test['Ecephys']['Device'][0]))"
   ]
  },
  {
   "cell_type": "code",
   "execution_count": 165,
   "metadata": {},
   "outputs": [
    {
     "data": {
      "text/plain": [
       "<nwb_conversion_tools.datainterfaces.axonadatainterface.AxonaRecordingExtractorInterface at 0x7fa249727430>"
      ]
     },
     "execution_count": 165,
     "metadata": {},
     "output_type": "execute_result"
    }
   ],
   "source": [
    "data_interface"
   ]
  },
  {
   "cell_type": "code",
   "execution_count": null,
   "metadata": {},
   "outputs": [],
   "source": []
  },
  {
   "cell_type": "code",
   "execution_count": 166,
   "metadata": {},
   "outputs": [
    {
     "data": {
      "text/plain": [
       "root pynwb.file.NWBFile at 0x140334994408064\n",
       "Fields:\n",
       "  experimenter: ['Abid']\n",
       "  file_create_date: [datetime.datetime(2021, 4, 12, 15, 13, 11, 872443, tzinfo=tzlocal())]\n",
       "  identifier: bff4a978-7d4d-4878-9c3b-c4c9a0a28e02\n",
       "  session_start_time: 2020-10-04 11:07:07-04:00\n",
       "  timestamps_reference_time: 2020-10-04 11:07:07-04:00"
      ]
     },
     "execution_count": 166,
     "metadata": {},
     "output_type": "execute_result"
    }
   ],
   "source": [
    "nwbfile"
   ]
  },
  {
   "cell_type": "code",
   "execution_count": 167,
   "metadata": {},
   "outputs": [],
   "source": [
    "import spikeextractors as se\n",
    "import numpy as np"
   ]
  },
  {
   "cell_type": "code",
   "execution_count": 168,
   "metadata": {},
   "outputs": [
    {
     "name": "stdout",
     "output_type": "stream",
     "text": [
      "Versions are not the same. This might lead to errors. Use  spikeextractors version 0.9.5\n"
     ]
    }
   ],
   "source": [
    "r_cache = se.load_extractor_from_pickle(os.path.join(dir_name, 'cached_data_preproc.pkl'))"
   ]
  },
  {
   "cell_type": "code",
   "execution_count": 104,
   "metadata": {},
   "outputs": [],
   "source": [
    "n_channels = max([len(x['data']) for x in metadata['Ecephys']['Electrodes']])\n",
    "\n",
    "recording = se.NumpyRecordingExtractor(timeseries=np.array(range(n_channels)), sampling_frequency=1)\n",
    "se.NwbRecordingExtractor.add_devices(\n",
    "    recording=recording,\n",
    "    nwbfile=nwbfile,\n",
    "    metadata=metadata\n",
    ")"
   ]
  },
  {
   "cell_type": "code",
   "execution_count": 169,
   "metadata": {},
   "outputs": [
    {
     "data": {
      "text/plain": [
       "root pynwb.file.NWBFile at 0x140334994408064\n",
       "Fields:\n",
       "  experimenter: ['Abid']\n",
       "  file_create_date: [datetime.datetime(2021, 4, 12, 15, 13, 11, 872443, tzinfo=tzlocal())]\n",
       "  identifier: bff4a978-7d4d-4878-9c3b-c4c9a0a28e02\n",
       "  session_start_time: 2020-10-04 11:07:07-04:00\n",
       "  timestamps_reference_time: 2020-10-04 11:07:07-04:00"
      ]
     },
     "execution_count": 169,
     "metadata": {},
     "output_type": "execute_result"
    }
   ],
   "source": [
    "nwbfile"
   ]
  },
  {
   "cell_type": "code",
   "execution_count": 103,
   "metadata": {},
   "outputs": [
    {
     "ename": "AssertionError",
     "evalue": "Expected metadata['Ecephys']['Device'] to be a list of dictionaries!",
     "output_type": "error",
     "traceback": [
      "\u001b[0;31m---------------------------------------------------------------------------\u001b[0m",
      "\u001b[0;31mAssertionError\u001b[0m                            Traceback (most recent call last)",
      "\u001b[0;32m<ipython-input-103-9d7d8a2991bc>\u001b[0m in \u001b[0;36m<module>\u001b[0;34m\u001b[0m\n\u001b[0;32m----> 1\u001b[0;31m se.NwbRecordingExtractor.write_recording(\n\u001b[0m\u001b[1;32m      2\u001b[0m     \u001b[0mrecording\u001b[0m\u001b[0;34m=\u001b[0m\u001b[0mr_cache\u001b[0m\u001b[0;34m,\u001b[0m\u001b[0;34m\u001b[0m\u001b[0;34m\u001b[0m\u001b[0m\n\u001b[1;32m      3\u001b[0m     \u001b[0mnwbfile\u001b[0m\u001b[0;34m=\u001b[0m\u001b[0mnwbfile\u001b[0m\u001b[0;34m,\u001b[0m\u001b[0;34m\u001b[0m\u001b[0;34m\u001b[0m\u001b[0m\n\u001b[1;32m      4\u001b[0m     \u001b[0mmetadata\u001b[0m\u001b[0;34m=\u001b[0m\u001b[0mmetadata\u001b[0m\u001b[0;34m\u001b[0m\u001b[0;34m\u001b[0m\u001b[0m\n\u001b[1;32m      5\u001b[0m )\n",
      "\u001b[0;32m/mnt/d/spikeinterface/spikeextractors/spikeextractors/extractors/nwbextractors/nwbextractors.py\u001b[0m in \u001b[0;36mwrite_recording\u001b[0;34m(recording, save_path, overwrite, nwbfile, buffer_mb, use_times, metadata, write_as_lfp, write_scaled)\u001b[0m\n\u001b[1;32m   1045\u001b[0m                 \u001b[0mio\u001b[0m\u001b[0;34m.\u001b[0m\u001b[0mwrite\u001b[0m\u001b[0;34m(\u001b[0m\u001b[0mnwbfile\u001b[0m\u001b[0;34m)\u001b[0m\u001b[0;34m\u001b[0m\u001b[0;34m\u001b[0m\u001b[0m\n\u001b[1;32m   1046\u001b[0m         \u001b[0;32melse\u001b[0m\u001b[0;34m:\u001b[0m\u001b[0;34m\u001b[0m\u001b[0;34m\u001b[0m\u001b[0m\n\u001b[0;32m-> 1047\u001b[0;31m             se.NwbRecordingExtractor.add_all_to_nwbfile(\n\u001b[0m\u001b[1;32m   1048\u001b[0m                 \u001b[0mrecording\u001b[0m\u001b[0;34m=\u001b[0m\u001b[0mrecording\u001b[0m\u001b[0;34m,\u001b[0m\u001b[0;34m\u001b[0m\u001b[0;34m\u001b[0m\u001b[0m\n\u001b[1;32m   1049\u001b[0m                 \u001b[0mnwbfile\u001b[0m\u001b[0;34m=\u001b[0m\u001b[0mnwbfile\u001b[0m\u001b[0;34m,\u001b[0m\u001b[0;34m\u001b[0m\u001b[0;34m\u001b[0m\u001b[0m\n",
      "\u001b[0;32m/mnt/d/spikeinterface/spikeextractors/spikeextractors/extractors/nwbextractors/nwbextractors.py\u001b[0m in \u001b[0;36madd_all_to_nwbfile\u001b[0;34m(recording, nwbfile, buffer_mb, use_times, metadata, write_as_lfp, write_scaled)\u001b[0m\n\u001b[1;32m    910\u001b[0m         )\n\u001b[1;32m    911\u001b[0m \u001b[0;34m\u001b[0m\u001b[0m\n\u001b[0;32m--> 912\u001b[0;31m         se.NwbRecordingExtractor.add_electrode_groups(\n\u001b[0m\u001b[1;32m    913\u001b[0m             \u001b[0mrecording\u001b[0m\u001b[0;34m=\u001b[0m\u001b[0mrecording\u001b[0m\u001b[0;34m,\u001b[0m\u001b[0;34m\u001b[0m\u001b[0;34m\u001b[0m\u001b[0m\n\u001b[1;32m    914\u001b[0m             \u001b[0mnwbfile\u001b[0m\u001b[0;34m=\u001b[0m\u001b[0mnwbfile\u001b[0m\u001b[0;34m,\u001b[0m\u001b[0;34m\u001b[0m\u001b[0;34m\u001b[0m\u001b[0m\n",
      "\u001b[0;32m/mnt/d/spikeinterface/spikeextractors/spikeextractors/extractors/nwbextractors/nwbextractors.py\u001b[0m in \u001b[0;36madd_electrode_groups\u001b[0;34m(recording, nwbfile, metadata)\u001b[0m\n\u001b[1;32m    440\u001b[0m                         )\n\u001b[1;32m    441\u001b[0m                     )\n\u001b[0;32m--> 442\u001b[0;31m                     \u001b[0mse\u001b[0m\u001b[0;34m.\u001b[0m\u001b[0mNwbRecordingExtractor\u001b[0m\u001b[0;34m.\u001b[0m\u001b[0madd_devices\u001b[0m\u001b[0;34m(\u001b[0m\u001b[0mrecording\u001b[0m\u001b[0;34m,\u001b[0m \u001b[0mnwbfile\u001b[0m\u001b[0;34m,\u001b[0m \u001b[0mmetadata\u001b[0m\u001b[0;34m=\u001b[0m\u001b[0mnew_device\u001b[0m\u001b[0;34m)\u001b[0m\u001b[0;34m\u001b[0m\u001b[0;34m\u001b[0m\u001b[0m\n\u001b[0m\u001b[1;32m    443\u001b[0m                     warnings.warn(f\"Device \\'{device_name}\\' not detected in \"\n\u001b[1;32m    444\u001b[0m                                   \"attempted link to electrode group! Automatically generating.\")\n",
      "\u001b[0;32m/mnt/d/spikeinterface/spikeextractors/spikeextractors/extractors/nwbextractors/nwbextractors.py\u001b[0m in \u001b[0;36madd_devices\u001b[0;34m(recording, nwbfile, metadata)\u001b[0m\n\u001b[1;32m    376\u001b[0m                 )\n\u001b[1;32m    377\u001b[0m             )\n\u001b[0;32m--> 378\u001b[0;31m         \u001b[0;32massert\u001b[0m \u001b[0mall\u001b[0m\u001b[0;34m(\u001b[0m\u001b[0;34m[\u001b[0m\u001b[0misinstance\u001b[0m\u001b[0;34m(\u001b[0m\u001b[0mx\u001b[0m\u001b[0;34m,\u001b[0m \u001b[0mdict\u001b[0m\u001b[0;34m)\u001b[0m \u001b[0;32mfor\u001b[0m \u001b[0mx\u001b[0m \u001b[0;32min\u001b[0m \u001b[0mmetadata\u001b[0m\u001b[0;34m[\u001b[0m\u001b[0;34m'Ecephys'\u001b[0m\u001b[0;34m]\u001b[0m\u001b[0;34m[\u001b[0m\u001b[0;34m'Device'\u001b[0m\u001b[0;34m]\u001b[0m\u001b[0;34m]\u001b[0m\u001b[0;34m)\u001b[0m\u001b[0;34m,\u001b[0m\u001b[0;31m \u001b[0m\u001b[0;31m\\\u001b[0m\u001b[0;34m\u001b[0m\u001b[0;34m\u001b[0m\u001b[0m\n\u001b[0m\u001b[1;32m    379\u001b[0m             \u001b[0;34m\"Expected metadata['Ecephys']['Device'] to be a list of dictionaries!\"\u001b[0m\u001b[0;34m\u001b[0m\u001b[0;34m\u001b[0m\u001b[0m\n\u001b[1;32m    380\u001b[0m \u001b[0;34m\u001b[0m\u001b[0m\n",
      "\u001b[0;31mAssertionError\u001b[0m: Expected metadata['Ecephys']['Device'] to be a list of dictionaries!"
     ]
    }
   ],
   "source": [
    "se.NwbRecordingExtractor.write_recording(\n",
    "    recording=r_cache,\n",
    "    nwbfile=nwbfile,\n",
    "    metadata=metadata\n",
    ")"
   ]
  },
  {
   "cell_type": "code",
   "execution_count": 109,
   "metadata": {},
   "outputs": [],
   "source": [
    "data_interface.run_conversion?"
   ]
  },
  {
   "cell_type": "code",
   "execution_count": 107,
   "metadata": {
    "scrolled": true
   },
   "outputs": [
    {
     "ename": "AssertionError",
     "evalue": "Expected metadata['Ecephys']['Device'] to be a list of dictionaries!",
     "output_type": "error",
     "traceback": [
      "\u001b[0;31m---------------------------------------------------------------------------\u001b[0m",
      "\u001b[0;31mAssertionError\u001b[0m                            Traceback (most recent call last)",
      "\u001b[0;32m<ipython-input-107-71ef00e12343>\u001b[0m in \u001b[0;36m<module>\u001b[0;34m\u001b[0m\n\u001b[0;32m----> 1\u001b[0;31m \u001b[0mdata_interface\u001b[0m\u001b[0;34m.\u001b[0m\u001b[0mrun_conversion\u001b[0m\u001b[0;34m(\u001b[0m\u001b[0mnwbfile\u001b[0m\u001b[0;34m,\u001b[0m \u001b[0mmetadata\u001b[0m\u001b[0;34m)\u001b[0m\u001b[0;34m\u001b[0m\u001b[0;34m\u001b[0m\u001b[0m\n\u001b[0m",
      "\u001b[0;32m/mnt/d/spikeinterface/nwb-conversion-tools/nwb_conversion_tools/baserecordingextractorinterface.py\u001b[0m in \u001b[0;36mrun_conversion\u001b[0;34m(self, nwbfile, metadata, stub_test, use_times, save_path, overwrite, buffer_mb)\u001b[0m\n\u001b[1;32m    124\u001b[0m             \u001b[0mrecording\u001b[0m \u001b[0;34m=\u001b[0m \u001b[0mself\u001b[0m\u001b[0;34m.\u001b[0m\u001b[0mrecording_extractor\u001b[0m\u001b[0;34m\u001b[0m\u001b[0;34m\u001b[0m\u001b[0m\n\u001b[1;32m    125\u001b[0m \u001b[0;34m\u001b[0m\u001b[0m\n\u001b[0;32m--> 126\u001b[0;31m         se.NwbRecordingExtractor.write_recording(\n\u001b[0m\u001b[1;32m    127\u001b[0m             \u001b[0mrecording\u001b[0m\u001b[0;34m=\u001b[0m\u001b[0mrecording\u001b[0m\u001b[0;34m,\u001b[0m\u001b[0;34m\u001b[0m\u001b[0;34m\u001b[0m\u001b[0m\n\u001b[1;32m    128\u001b[0m             \u001b[0mnwbfile\u001b[0m\u001b[0;34m=\u001b[0m\u001b[0mnwbfile\u001b[0m\u001b[0;34m,\u001b[0m\u001b[0;34m\u001b[0m\u001b[0;34m\u001b[0m\u001b[0m\n",
      "\u001b[0;32m/mnt/d/spikeinterface/spikeextractors/spikeextractors/extractors/nwbextractors/nwbextractors.py\u001b[0m in \u001b[0;36mwrite_recording\u001b[0;34m(recording, save_path, overwrite, nwbfile, buffer_mb, use_times, metadata, write_as_lfp, write_scaled)\u001b[0m\n\u001b[1;32m   1045\u001b[0m                 \u001b[0mio\u001b[0m\u001b[0;34m.\u001b[0m\u001b[0mwrite\u001b[0m\u001b[0;34m(\u001b[0m\u001b[0mnwbfile\u001b[0m\u001b[0;34m)\u001b[0m\u001b[0;34m\u001b[0m\u001b[0;34m\u001b[0m\u001b[0m\n\u001b[1;32m   1046\u001b[0m         \u001b[0;32melse\u001b[0m\u001b[0;34m:\u001b[0m\u001b[0;34m\u001b[0m\u001b[0;34m\u001b[0m\u001b[0m\n\u001b[0;32m-> 1047\u001b[0;31m             se.NwbRecordingExtractor.add_all_to_nwbfile(\n\u001b[0m\u001b[1;32m   1048\u001b[0m                 \u001b[0mrecording\u001b[0m\u001b[0;34m=\u001b[0m\u001b[0mrecording\u001b[0m\u001b[0;34m,\u001b[0m\u001b[0;34m\u001b[0m\u001b[0;34m\u001b[0m\u001b[0m\n\u001b[1;32m   1049\u001b[0m                 \u001b[0mnwbfile\u001b[0m\u001b[0;34m=\u001b[0m\u001b[0mnwbfile\u001b[0m\u001b[0;34m,\u001b[0m\u001b[0;34m\u001b[0m\u001b[0;34m\u001b[0m\u001b[0m\n",
      "\u001b[0;32m/mnt/d/spikeinterface/spikeextractors/spikeextractors/extractors/nwbextractors/nwbextractors.py\u001b[0m in \u001b[0;36madd_all_to_nwbfile\u001b[0;34m(recording, nwbfile, buffer_mb, use_times, metadata, write_as_lfp, write_scaled)\u001b[0m\n\u001b[1;32m    910\u001b[0m         )\n\u001b[1;32m    911\u001b[0m \u001b[0;34m\u001b[0m\u001b[0m\n\u001b[0;32m--> 912\u001b[0;31m         se.NwbRecordingExtractor.add_electrode_groups(\n\u001b[0m\u001b[1;32m    913\u001b[0m             \u001b[0mrecording\u001b[0m\u001b[0;34m=\u001b[0m\u001b[0mrecording\u001b[0m\u001b[0;34m,\u001b[0m\u001b[0;34m\u001b[0m\u001b[0;34m\u001b[0m\u001b[0m\n\u001b[1;32m    914\u001b[0m             \u001b[0mnwbfile\u001b[0m\u001b[0;34m=\u001b[0m\u001b[0mnwbfile\u001b[0m\u001b[0;34m,\u001b[0m\u001b[0;34m\u001b[0m\u001b[0;34m\u001b[0m\u001b[0m\n",
      "\u001b[0;32m/mnt/d/spikeinterface/spikeextractors/spikeextractors/extractors/nwbextractors/nwbextractors.py\u001b[0m in \u001b[0;36madd_electrode_groups\u001b[0;34m(recording, nwbfile, metadata)\u001b[0m\n\u001b[1;32m    440\u001b[0m                         )\n\u001b[1;32m    441\u001b[0m                     )\n\u001b[0;32m--> 442\u001b[0;31m                     \u001b[0mse\u001b[0m\u001b[0;34m.\u001b[0m\u001b[0mNwbRecordingExtractor\u001b[0m\u001b[0;34m.\u001b[0m\u001b[0madd_devices\u001b[0m\u001b[0;34m(\u001b[0m\u001b[0mrecording\u001b[0m\u001b[0;34m,\u001b[0m \u001b[0mnwbfile\u001b[0m\u001b[0;34m,\u001b[0m \u001b[0mmetadata\u001b[0m\u001b[0;34m=\u001b[0m\u001b[0mnew_device\u001b[0m\u001b[0;34m)\u001b[0m\u001b[0;34m\u001b[0m\u001b[0;34m\u001b[0m\u001b[0m\n\u001b[0m\u001b[1;32m    443\u001b[0m                     warnings.warn(f\"Device \\'{device_name}\\' not detected in \"\n\u001b[1;32m    444\u001b[0m                                   \"attempted link to electrode group! Automatically generating.\")\n",
      "\u001b[0;32m/mnt/d/spikeinterface/spikeextractors/spikeextractors/extractors/nwbextractors/nwbextractors.py\u001b[0m in \u001b[0;36madd_devices\u001b[0;34m(recording, nwbfile, metadata)\u001b[0m\n\u001b[1;32m    376\u001b[0m                 )\n\u001b[1;32m    377\u001b[0m             )\n\u001b[0;32m--> 378\u001b[0;31m         \u001b[0;32massert\u001b[0m \u001b[0mall\u001b[0m\u001b[0;34m(\u001b[0m\u001b[0;34m[\u001b[0m\u001b[0misinstance\u001b[0m\u001b[0;34m(\u001b[0m\u001b[0mx\u001b[0m\u001b[0;34m,\u001b[0m \u001b[0mdict\u001b[0m\u001b[0;34m)\u001b[0m \u001b[0;32mfor\u001b[0m \u001b[0mx\u001b[0m \u001b[0;32min\u001b[0m \u001b[0mmetadata\u001b[0m\u001b[0;34m[\u001b[0m\u001b[0;34m'Ecephys'\u001b[0m\u001b[0;34m]\u001b[0m\u001b[0;34m[\u001b[0m\u001b[0;34m'Device'\u001b[0m\u001b[0;34m]\u001b[0m\u001b[0;34m]\u001b[0m\u001b[0;34m)\u001b[0m\u001b[0;34m,\u001b[0m\u001b[0;31m \u001b[0m\u001b[0;31m\\\u001b[0m\u001b[0;34m\u001b[0m\u001b[0;34m\u001b[0m\u001b[0m\n\u001b[0m\u001b[1;32m    379\u001b[0m             \u001b[0;34m\"Expected metadata['Ecephys']['Device'] to be a list of dictionaries!\"\u001b[0m\u001b[0;34m\u001b[0m\u001b[0;34m\u001b[0m\u001b[0m\n\u001b[1;32m    380\u001b[0m \u001b[0;34m\u001b[0m\u001b[0m\n",
      "\u001b[0;31mAssertionError\u001b[0m: Expected metadata['Ecephys']['Device'] to be a list of dictionaries!"
     ]
    }
   ],
   "source": [
    "data_interface.run_conversion(nwbfile, metadata)"
   ]
  },
  {
   "cell_type": "code",
   "execution_count": 108,
   "metadata": {},
   "outputs": [
    {
     "ename": "AssertionError",
     "evalue": "Expected metadata['Ecephys']['Device'] to be a list of dictionaries!",
     "output_type": "error",
     "traceback": [
      "\u001b[0;31m---------------------------------------------------------------------------\u001b[0m",
      "\u001b[0;31mAssertionError\u001b[0m                            Traceback (most recent call last)",
      "\u001b[0;32m<ipython-input-108-8e296201d50a>\u001b[0m in \u001b[0;36m<module>\u001b[0;34m\u001b[0m\n\u001b[0;32m----> 1\u001b[0;31m converter.run_conversion(metadata=metadata_test,\n\u001b[0m\u001b[1;32m      2\u001b[0m                          \u001b[0msave_to_file\u001b[0m\u001b[0;34m=\u001b[0m\u001b[0;32mFalse\u001b[0m\u001b[0;34m,\u001b[0m\u001b[0;34m\u001b[0m\u001b[0;34m\u001b[0m\u001b[0m\n\u001b[1;32m      3\u001b[0m                          \u001b[0mnwbfile_path\u001b[0m\u001b[0;34m=\u001b[0m\u001b[0;32mNone\u001b[0m\u001b[0;34m,\u001b[0m\u001b[0;34m\u001b[0m\u001b[0;34m\u001b[0m\u001b[0m\n\u001b[1;32m      4\u001b[0m                          nwbfile=None)\n",
      "\u001b[0;32m/mnt/d/spikeinterface/nwb-conversion-tools/nwb_conversion_tools/nwbconverter.py\u001b[0m in \u001b[0;36mrun_conversion\u001b[0;34m(self, metadata, save_to_file, nwbfile_path, overwrite, nwbfile, conversion_options)\u001b[0m\n\u001b[1;32m    151\u001b[0m                 \u001b[0mnwbfile\u001b[0m \u001b[0;34m=\u001b[0m \u001b[0mmake_nwbfile_from_metadata\u001b[0m\u001b[0;34m(\u001b[0m\u001b[0mmetadata\u001b[0m\u001b[0;34m=\u001b[0m\u001b[0mmetadata\u001b[0m\u001b[0;34m)\u001b[0m\u001b[0;34m\u001b[0m\u001b[0;34m\u001b[0m\u001b[0m\n\u001b[1;32m    152\u001b[0m             \u001b[0;32mfor\u001b[0m \u001b[0minterface_name\u001b[0m\u001b[0;34m,\u001b[0m \u001b[0mdata_interface\u001b[0m \u001b[0;32min\u001b[0m \u001b[0mself\u001b[0m\u001b[0;34m.\u001b[0m\u001b[0mdata_interface_objects\u001b[0m\u001b[0;34m.\u001b[0m\u001b[0mitems\u001b[0m\u001b[0;34m(\u001b[0m\u001b[0;34m)\u001b[0m\u001b[0;34m:\u001b[0m\u001b[0;34m\u001b[0m\u001b[0;34m\u001b[0m\u001b[0m\n\u001b[0;32m--> 153\u001b[0;31m                 \u001b[0mdata_interface\u001b[0m\u001b[0;34m.\u001b[0m\u001b[0mrun_conversion\u001b[0m\u001b[0;34m(\u001b[0m\u001b[0mnwbfile\u001b[0m\u001b[0;34m,\u001b[0m \u001b[0mmetadata\u001b[0m\u001b[0;34m,\u001b[0m \u001b[0;34m**\u001b[0m\u001b[0mconversion_options\u001b[0m\u001b[0;34m.\u001b[0m\u001b[0mget\u001b[0m\u001b[0;34m(\u001b[0m\u001b[0minterface_name\u001b[0m\u001b[0;34m,\u001b[0m \u001b[0mdict\u001b[0m\u001b[0;34m(\u001b[0m\u001b[0;34m)\u001b[0m\u001b[0;34m)\u001b[0m\u001b[0;34m)\u001b[0m\u001b[0;34m\u001b[0m\u001b[0;34m\u001b[0m\u001b[0m\n\u001b[0m\u001b[1;32m    154\u001b[0m             \u001b[0;32mreturn\u001b[0m \u001b[0mnwbfile\u001b[0m\u001b[0;34m\u001b[0m\u001b[0;34m\u001b[0m\u001b[0m\n",
      "\u001b[0;32m/mnt/d/spikeinterface/nwb-conversion-tools/nwb_conversion_tools/baserecordingextractorinterface.py\u001b[0m in \u001b[0;36mrun_conversion\u001b[0;34m(self, nwbfile, metadata, stub_test, use_times, save_path, overwrite, buffer_mb)\u001b[0m\n\u001b[1;32m    124\u001b[0m             \u001b[0mrecording\u001b[0m \u001b[0;34m=\u001b[0m \u001b[0mself\u001b[0m\u001b[0;34m.\u001b[0m\u001b[0mrecording_extractor\u001b[0m\u001b[0;34m\u001b[0m\u001b[0;34m\u001b[0m\u001b[0m\n\u001b[1;32m    125\u001b[0m \u001b[0;34m\u001b[0m\u001b[0m\n\u001b[0;32m--> 126\u001b[0;31m         se.NwbRecordingExtractor.write_recording(\n\u001b[0m\u001b[1;32m    127\u001b[0m             \u001b[0mrecording\u001b[0m\u001b[0;34m=\u001b[0m\u001b[0mrecording\u001b[0m\u001b[0;34m,\u001b[0m\u001b[0;34m\u001b[0m\u001b[0;34m\u001b[0m\u001b[0m\n\u001b[1;32m    128\u001b[0m             \u001b[0mnwbfile\u001b[0m\u001b[0;34m=\u001b[0m\u001b[0mnwbfile\u001b[0m\u001b[0;34m,\u001b[0m\u001b[0;34m\u001b[0m\u001b[0;34m\u001b[0m\u001b[0m\n",
      "\u001b[0;32m/mnt/d/spikeinterface/spikeextractors/spikeextractors/extractors/nwbextractors/nwbextractors.py\u001b[0m in \u001b[0;36mwrite_recording\u001b[0;34m(recording, save_path, overwrite, nwbfile, buffer_mb, use_times, metadata, write_as_lfp, write_scaled)\u001b[0m\n\u001b[1;32m   1045\u001b[0m                 \u001b[0mio\u001b[0m\u001b[0;34m.\u001b[0m\u001b[0mwrite\u001b[0m\u001b[0;34m(\u001b[0m\u001b[0mnwbfile\u001b[0m\u001b[0;34m)\u001b[0m\u001b[0;34m\u001b[0m\u001b[0;34m\u001b[0m\u001b[0m\n\u001b[1;32m   1046\u001b[0m         \u001b[0;32melse\u001b[0m\u001b[0;34m:\u001b[0m\u001b[0;34m\u001b[0m\u001b[0;34m\u001b[0m\u001b[0m\n\u001b[0;32m-> 1047\u001b[0;31m             se.NwbRecordingExtractor.add_all_to_nwbfile(\n\u001b[0m\u001b[1;32m   1048\u001b[0m                 \u001b[0mrecording\u001b[0m\u001b[0;34m=\u001b[0m\u001b[0mrecording\u001b[0m\u001b[0;34m,\u001b[0m\u001b[0;34m\u001b[0m\u001b[0;34m\u001b[0m\u001b[0m\n\u001b[1;32m   1049\u001b[0m                 \u001b[0mnwbfile\u001b[0m\u001b[0;34m=\u001b[0m\u001b[0mnwbfile\u001b[0m\u001b[0;34m,\u001b[0m\u001b[0;34m\u001b[0m\u001b[0;34m\u001b[0m\u001b[0m\n",
      "\u001b[0;32m/mnt/d/spikeinterface/spikeextractors/spikeextractors/extractors/nwbextractors/nwbextractors.py\u001b[0m in \u001b[0;36madd_all_to_nwbfile\u001b[0;34m(recording, nwbfile, buffer_mb, use_times, metadata, write_as_lfp, write_scaled)\u001b[0m\n\u001b[1;32m    910\u001b[0m         )\n\u001b[1;32m    911\u001b[0m \u001b[0;34m\u001b[0m\u001b[0m\n\u001b[0;32m--> 912\u001b[0;31m         se.NwbRecordingExtractor.add_electrode_groups(\n\u001b[0m\u001b[1;32m    913\u001b[0m             \u001b[0mrecording\u001b[0m\u001b[0;34m=\u001b[0m\u001b[0mrecording\u001b[0m\u001b[0;34m,\u001b[0m\u001b[0;34m\u001b[0m\u001b[0;34m\u001b[0m\u001b[0m\n\u001b[1;32m    914\u001b[0m             \u001b[0mnwbfile\u001b[0m\u001b[0;34m=\u001b[0m\u001b[0mnwbfile\u001b[0m\u001b[0;34m,\u001b[0m\u001b[0;34m\u001b[0m\u001b[0;34m\u001b[0m\u001b[0m\n",
      "\u001b[0;32m/mnt/d/spikeinterface/spikeextractors/spikeextractors/extractors/nwbextractors/nwbextractors.py\u001b[0m in \u001b[0;36madd_electrode_groups\u001b[0;34m(recording, nwbfile, metadata)\u001b[0m\n\u001b[1;32m    440\u001b[0m                         )\n\u001b[1;32m    441\u001b[0m                     )\n\u001b[0;32m--> 442\u001b[0;31m                     \u001b[0mse\u001b[0m\u001b[0;34m.\u001b[0m\u001b[0mNwbRecordingExtractor\u001b[0m\u001b[0;34m.\u001b[0m\u001b[0madd_devices\u001b[0m\u001b[0;34m(\u001b[0m\u001b[0mrecording\u001b[0m\u001b[0;34m,\u001b[0m \u001b[0mnwbfile\u001b[0m\u001b[0;34m,\u001b[0m \u001b[0mmetadata\u001b[0m\u001b[0;34m=\u001b[0m\u001b[0mnew_device\u001b[0m\u001b[0;34m)\u001b[0m\u001b[0;34m\u001b[0m\u001b[0;34m\u001b[0m\u001b[0m\n\u001b[0m\u001b[1;32m    443\u001b[0m                     warnings.warn(f\"Device \\'{device_name}\\' not detected in \"\n\u001b[1;32m    444\u001b[0m                                   \"attempted link to electrode group! Automatically generating.\")\n",
      "\u001b[0;32m/mnt/d/spikeinterface/spikeextractors/spikeextractors/extractors/nwbextractors/nwbextractors.py\u001b[0m in \u001b[0;36madd_devices\u001b[0;34m(recording, nwbfile, metadata)\u001b[0m\n\u001b[1;32m    376\u001b[0m                 )\n\u001b[1;32m    377\u001b[0m             )\n\u001b[0;32m--> 378\u001b[0;31m         \u001b[0;32massert\u001b[0m \u001b[0mall\u001b[0m\u001b[0;34m(\u001b[0m\u001b[0;34m[\u001b[0m\u001b[0misinstance\u001b[0m\u001b[0;34m(\u001b[0m\u001b[0mx\u001b[0m\u001b[0;34m,\u001b[0m \u001b[0mdict\u001b[0m\u001b[0;34m)\u001b[0m \u001b[0;32mfor\u001b[0m \u001b[0mx\u001b[0m \u001b[0;32min\u001b[0m \u001b[0mmetadata\u001b[0m\u001b[0;34m[\u001b[0m\u001b[0;34m'Ecephys'\u001b[0m\u001b[0;34m]\u001b[0m\u001b[0;34m[\u001b[0m\u001b[0;34m'Device'\u001b[0m\u001b[0;34m]\u001b[0m\u001b[0;34m]\u001b[0m\u001b[0;34m)\u001b[0m\u001b[0;34m,\u001b[0m\u001b[0;31m \u001b[0m\u001b[0;31m\\\u001b[0m\u001b[0;34m\u001b[0m\u001b[0;34m\u001b[0m\u001b[0m\n\u001b[0m\u001b[1;32m    379\u001b[0m             \u001b[0;34m\"Expected metadata['Ecephys']['Device'] to be a list of dictionaries!\"\u001b[0m\u001b[0;34m\u001b[0m\u001b[0;34m\u001b[0m\u001b[0m\n\u001b[1;32m    380\u001b[0m \u001b[0;34m\u001b[0m\u001b[0m\n",
      "\u001b[0;31mAssertionError\u001b[0m: Expected metadata['Ecephys']['Device'] to be a list of dictionaries!"
     ]
    }
   ],
   "source": [
    "converter.run_conversion(metadata=metadata_test,\n",
    "                         save_to_file=False,\n",
    "                         nwbfile_path=None,\n",
    "                         nwbfile=None)"
   ]
  },
  {
   "cell_type": "code",
   "execution_count": 170,
   "metadata": {},
   "outputs": [],
   "source": [
    "se.NwbRecordingExtractor.add_devices(\n",
    "    recording=recording,\n",
    "    nwbfile=nwbfile,\n",
    "    metadata=metadata\n",
    ")"
   ]
  },
  {
   "cell_type": "code",
   "execution_count": 171,
   "metadata": {},
   "outputs": [
    {
     "data": {
      "text/plain": [
       "[{'name': 'Axona',\n",
       "  'description': 'Axona DacqUSB, sw_version=1.2.2.16',\n",
       "  'manufacturer': 'Axona'}]"
      ]
     },
     "execution_count": 171,
     "metadata": {},
     "output_type": "execute_result"
    }
   ],
   "source": [
    "metadata['Ecephys']['Device']"
   ]
  },
  {
   "cell_type": "code",
   "execution_count": 176,
   "metadata": {},
   "outputs": [],
   "source": [
    "if nwbfile is not None:\n",
    "    assert isinstance(nwbfile, NWBFile), \"'nwbfile' should be of type pynwb.NWBFile\"\n",
    "if len(nwbfile.devices) == 0:\n",
    "    se.NwbRecordingExtractor.add_devices(recording, nwbfile)\n",
    "defaults = dict(\n",
    "    name=\"Electrode Group\",\n",
    "    description=\"no description\",\n",
    "    location=\"unknown\",\n",
    "    device_name=\"Device\"\n",
    ")\n",
    "if metadata is None or 'ElectrodeGroup' not in metadata['Ecephys']:\n",
    "    metadata = dict(\n",
    "        Ecephys=dict(\n",
    "            ElectrodeGroup=[defaults]\n",
    "        )\n",
    "    )"
   ]
  },
  {
   "cell_type": "code",
   "execution_count": 181,
   "metadata": {},
   "outputs": [],
   "source": [
    "assert all([isinstance(x, dict) for x in metadata['Ecephys']['ElectrodeGroup']]), \\\n",
    "    \"Expected metadata['Ecephys']['ElectrodeGroup'] to be a list of dictionaries!\""
   ]
  },
  {
   "cell_type": "code",
   "execution_count": 183,
   "metadata": {},
   "outputs": [
    {
     "name": "stdout",
     "output_type": "stream",
     "text": [
      "Device\n"
     ]
    }
   ],
   "source": [
    "for grp in metadata['Ecephys']['ElectrodeGroup']:\n",
    "    device_name = grp.get('device_name', defaults['device_name'])\n",
    "    print(device_name)"
   ]
  },
  {
   "cell_type": "code",
   "execution_count": 184,
   "metadata": {},
   "outputs": [
    {
     "data": {
      "text/plain": [
       "[{'name': 'Group0',\n",
       "  'location': '',\n",
       "  'device': 'Axona',\n",
       "  'description': 'Group 0 electrodes.'}]"
      ]
     },
     "execution_count": 184,
     "metadata": {},
     "output_type": "execute_result"
    }
   ],
   "source": [
    "metadata['Ecephys']['ElectrodeGroup']"
   ]
  },
  {
   "cell_type": "code",
   "execution_count": 182,
   "metadata": {},
   "outputs": [
    {
     "ename": "AssertionError",
     "evalue": "Expected metadata['Ecephys']['Device'] to be a list of dictionaries!",
     "output_type": "error",
     "traceback": [
      "\u001b[0;31m---------------------------------------------------------------------------\u001b[0m",
      "\u001b[0;31mAssertionError\u001b[0m                            Traceback (most recent call last)",
      "\u001b[0;32m<ipython-input-182-8fa2be2680be>\u001b[0m in \u001b[0;36m<module>\u001b[0;34m\u001b[0m\n\u001b[1;32m     10\u001b[0m                 )\n\u001b[1;32m     11\u001b[0m             )\n\u001b[0;32m---> 12\u001b[0;31m             \u001b[0mse\u001b[0m\u001b[0;34m.\u001b[0m\u001b[0mNwbRecordingExtractor\u001b[0m\u001b[0;34m.\u001b[0m\u001b[0madd_devices\u001b[0m\u001b[0;34m(\u001b[0m\u001b[0mrecording\u001b[0m\u001b[0;34m,\u001b[0m \u001b[0mnwbfile\u001b[0m\u001b[0;34m,\u001b[0m \u001b[0mmetadata\u001b[0m\u001b[0;34m=\u001b[0m\u001b[0mnew_device\u001b[0m\u001b[0;34m)\u001b[0m\u001b[0;34m\u001b[0m\u001b[0;34m\u001b[0m\u001b[0m\n\u001b[0m\u001b[1;32m     13\u001b[0m             warnings.warn(f\"Device \\'{device_name}\\' not detected in \"\n\u001b[1;32m     14\u001b[0m                           \"attempted link to electrode group! Automatically generating.\")\n",
      "\u001b[0;32m/mnt/d/spikeinterface/spikeextractors/spikeextractors/extractors/nwbextractors/nwbextractors.py\u001b[0m in \u001b[0;36madd_devices\u001b[0;34m(recording, nwbfile, metadata)\u001b[0m\n\u001b[1;32m    376\u001b[0m                 )\n\u001b[1;32m    377\u001b[0m             )\n\u001b[0;32m--> 378\u001b[0;31m         \u001b[0;32massert\u001b[0m \u001b[0mall\u001b[0m\u001b[0;34m(\u001b[0m\u001b[0;34m[\u001b[0m\u001b[0misinstance\u001b[0m\u001b[0;34m(\u001b[0m\u001b[0mx\u001b[0m\u001b[0;34m,\u001b[0m \u001b[0mdict\u001b[0m\u001b[0;34m)\u001b[0m \u001b[0;32mfor\u001b[0m \u001b[0mx\u001b[0m \u001b[0;32min\u001b[0m \u001b[0mmetadata\u001b[0m\u001b[0;34m[\u001b[0m\u001b[0;34m'Ecephys'\u001b[0m\u001b[0;34m]\u001b[0m\u001b[0;34m[\u001b[0m\u001b[0;34m'Device'\u001b[0m\u001b[0;34m]\u001b[0m\u001b[0;34m]\u001b[0m\u001b[0;34m)\u001b[0m\u001b[0;34m,\u001b[0m\u001b[0;31m \u001b[0m\u001b[0;31m\\\u001b[0m\u001b[0;34m\u001b[0m\u001b[0;34m\u001b[0m\u001b[0m\n\u001b[0m\u001b[1;32m    379\u001b[0m             \u001b[0;34m\"Expected metadata['Ecephys']['Device'] to be a list of dictionaries!\"\u001b[0m\u001b[0;34m\u001b[0m\u001b[0;34m\u001b[0m\u001b[0m\n\u001b[1;32m    380\u001b[0m \u001b[0;34m\u001b[0m\u001b[0m\n",
      "\u001b[0;31mAssertionError\u001b[0m: Expected metadata['Ecephys']['Device'] to be a list of dictionaries!"
     ]
    }
   ],
   "source": [
    "for grp in metadata['Ecephys']['ElectrodeGroup']:\n",
    "    device_name = grp.get('device_name', defaults['device_name'])\n",
    "    if grp.get('name', defaults['name']) not in nwbfile.electrode_groups:\n",
    "        if device_name not in nwbfile.devices:\n",
    "            new_device = dict(\n",
    "                Ecephys=dict(\n",
    "                    Device=dict(\n",
    "                        name=device_name\n",
    "                    )\n",
    "                )\n",
    "            )\n",
    "            se.NwbRecordingExtractor.add_devices(recording, nwbfile, metadata=new_device)\n",
    "            warnings.warn(f\"Device \\'{device_name}\\' not detected in \"\n",
    "                          \"attempted link to electrode group! Automatically generating.\")\n",
    "        electrode_group_kwargs = dict(defaults, **grp)\n",
    "        electrode_group_kwargs.pop('device_name')\n",
    "        electrode_group_kwargs.update(device=nwbfile.devices[device_name])\n",
    "        nwbfile.create_electrode_group(**electrode_group_kwargs)"
   ]
  },
  {
   "cell_type": "code",
   "execution_count": 175,
   "metadata": {},
   "outputs": [
    {
     "data": {
      "text/plain": [
       "1"
      ]
     },
     "execution_count": 175,
     "metadata": {},
     "output_type": "execute_result"
    }
   ],
   "source": [
    "len(nwbfile.devices)"
   ]
  },
  {
   "cell_type": "code",
   "execution_count": 172,
   "metadata": {},
   "outputs": [
    {
     "ename": "AssertionError",
     "evalue": "Expected metadata['Ecephys']['Device'] to be a list of dictionaries!",
     "output_type": "error",
     "traceback": [
      "\u001b[0;31m---------------------------------------------------------------------------\u001b[0m",
      "\u001b[0;31mAssertionError\u001b[0m                            Traceback (most recent call last)",
      "\u001b[0;32m<ipython-input-172-0ca27670de6d>\u001b[0m in \u001b[0;36m<module>\u001b[0;34m\u001b[0m\n\u001b[0;32m----> 1\u001b[0;31m se.NwbRecordingExtractor.add_electrode_groups(\n\u001b[0m\u001b[1;32m      2\u001b[0m     \u001b[0mrecording\u001b[0m\u001b[0;34m=\u001b[0m\u001b[0mrecording\u001b[0m\u001b[0;34m,\u001b[0m\u001b[0;34m\u001b[0m\u001b[0;34m\u001b[0m\u001b[0m\n\u001b[1;32m      3\u001b[0m     \u001b[0mnwbfile\u001b[0m\u001b[0;34m=\u001b[0m\u001b[0mnwbfile\u001b[0m\u001b[0;34m,\u001b[0m\u001b[0;34m\u001b[0m\u001b[0;34m\u001b[0m\u001b[0m\n\u001b[1;32m      4\u001b[0m     \u001b[0mmetadata\u001b[0m\u001b[0;34m=\u001b[0m\u001b[0mmetadata\u001b[0m\u001b[0;34m\u001b[0m\u001b[0;34m\u001b[0m\u001b[0m\n\u001b[1;32m      5\u001b[0m )\n",
      "\u001b[0;32m/mnt/d/spikeinterface/spikeextractors/spikeextractors/extractors/nwbextractors/nwbextractors.py\u001b[0m in \u001b[0;36madd_electrode_groups\u001b[0;34m(recording, nwbfile, metadata)\u001b[0m\n\u001b[1;32m    440\u001b[0m                         )\n\u001b[1;32m    441\u001b[0m                     )\n\u001b[0;32m--> 442\u001b[0;31m                     \u001b[0mse\u001b[0m\u001b[0;34m.\u001b[0m\u001b[0mNwbRecordingExtractor\u001b[0m\u001b[0;34m.\u001b[0m\u001b[0madd_devices\u001b[0m\u001b[0;34m(\u001b[0m\u001b[0mrecording\u001b[0m\u001b[0;34m,\u001b[0m \u001b[0mnwbfile\u001b[0m\u001b[0;34m,\u001b[0m \u001b[0mmetadata\u001b[0m\u001b[0;34m=\u001b[0m\u001b[0mnew_device\u001b[0m\u001b[0;34m)\u001b[0m\u001b[0;34m\u001b[0m\u001b[0;34m\u001b[0m\u001b[0m\n\u001b[0m\u001b[1;32m    443\u001b[0m                     warnings.warn(f\"Device \\'{device_name}\\' not detected in \"\n\u001b[1;32m    444\u001b[0m                                   \"attempted link to electrode group! Automatically generating.\")\n",
      "\u001b[0;32m/mnt/d/spikeinterface/spikeextractors/spikeextractors/extractors/nwbextractors/nwbextractors.py\u001b[0m in \u001b[0;36madd_devices\u001b[0;34m(recording, nwbfile, metadata)\u001b[0m\n\u001b[1;32m    376\u001b[0m                 )\n\u001b[1;32m    377\u001b[0m             )\n\u001b[0;32m--> 378\u001b[0;31m         \u001b[0;32massert\u001b[0m \u001b[0mall\u001b[0m\u001b[0;34m(\u001b[0m\u001b[0;34m[\u001b[0m\u001b[0misinstance\u001b[0m\u001b[0;34m(\u001b[0m\u001b[0mx\u001b[0m\u001b[0;34m,\u001b[0m \u001b[0mdict\u001b[0m\u001b[0;34m)\u001b[0m \u001b[0;32mfor\u001b[0m \u001b[0mx\u001b[0m \u001b[0;32min\u001b[0m \u001b[0mmetadata\u001b[0m\u001b[0;34m[\u001b[0m\u001b[0;34m'Ecephys'\u001b[0m\u001b[0;34m]\u001b[0m\u001b[0;34m[\u001b[0m\u001b[0;34m'Device'\u001b[0m\u001b[0;34m]\u001b[0m\u001b[0;34m]\u001b[0m\u001b[0;34m)\u001b[0m\u001b[0;34m,\u001b[0m\u001b[0;31m \u001b[0m\u001b[0;31m\\\u001b[0m\u001b[0;34m\u001b[0m\u001b[0;34m\u001b[0m\u001b[0m\n\u001b[0m\u001b[1;32m    379\u001b[0m             \u001b[0;34m\"Expected metadata['Ecephys']['Device'] to be a list of dictionaries!\"\u001b[0m\u001b[0;34m\u001b[0m\u001b[0;34m\u001b[0m\u001b[0m\n\u001b[1;32m    380\u001b[0m \u001b[0;34m\u001b[0m\u001b[0m\n",
      "\u001b[0;31mAssertionError\u001b[0m: Expected metadata['Ecephys']['Device'] to be a list of dictionaries!"
     ]
    }
   ],
   "source": [
    "se.NwbRecordingExtractor.add_electrode_groups(\n",
    "    recording=recording,\n",
    "    nwbfile=nwbfile,\n",
    "    metadata=metadata\n",
    ")"
   ]
  },
  {
   "cell_type": "code",
   "execution_count": null,
   "metadata": {},
   "outputs": [],
   "source": [
    "se.NwbRecordingExtractor.add_electrodes(\n",
    "    recording=recording,\n",
    "    nwbfile=nwbfile,\n",
    "    metadata=metadata,\n",
    "    write_scaled=write_scaled\n",
    ")"
   ]
  },
  {
   "cell_type": "code",
   "execution_count": 30,
   "metadata": {},
   "outputs": [
    {
     "ename": "AttributeError",
     "evalue": "'str' object has no attribute 'get'",
     "output_type": "error",
     "traceback": [
      "\u001b[0;31m---------------------------------------------------------------------------\u001b[0m",
      "\u001b[0;31mAttributeError\u001b[0m                            Traceback (most recent call last)",
      "\u001b[0;32m<ipython-input-30-69ef9aabe0ec>\u001b[0m in \u001b[0;36m<module>\u001b[0;34m\u001b[0m\n\u001b[0;32m----> 1\u001b[0;31m converter.run_conversion(metadata=metadata_test,\n\u001b[0m\u001b[1;32m      2\u001b[0m                          \u001b[0msave_to_file\u001b[0m\u001b[0;34m=\u001b[0m\u001b[0;32mFalse\u001b[0m\u001b[0;34m,\u001b[0m\u001b[0;34m\u001b[0m\u001b[0;34m\u001b[0m\u001b[0m\n\u001b[1;32m      3\u001b[0m                          \u001b[0mnwbfile_path\u001b[0m\u001b[0;34m=\u001b[0m\u001b[0mos\u001b[0m\u001b[0;34m.\u001b[0m\u001b[0mpath\u001b[0m\u001b[0;34m.\u001b[0m\u001b[0mjoin\u001b[0m\u001b[0;34m(\u001b[0m\u001b[0mdir_name\u001b[0m\u001b[0;34m,\u001b[0m \u001b[0;34m'axonadatainterface_test.nwb'\u001b[0m\u001b[0;34m)\u001b[0m\u001b[0;34m,\u001b[0m\u001b[0;34m\u001b[0m\u001b[0;34m\u001b[0m\u001b[0m\n\u001b[1;32m      4\u001b[0m                          nwbfile=None)\n",
      "\u001b[0;32m/mnt/d/spikeinterface/nwb-conversion-tools/nwb_conversion_tools/nwbconverter.py\u001b[0m in \u001b[0;36mrun_conversion\u001b[0;34m(self, metadata, save_to_file, nwbfile_path, overwrite, nwbfile, conversion_options)\u001b[0m\n\u001b[1;32m    149\u001b[0m         \u001b[0;32melse\u001b[0m\u001b[0;34m:\u001b[0m\u001b[0;34m\u001b[0m\u001b[0;34m\u001b[0m\u001b[0m\n\u001b[1;32m    150\u001b[0m             \u001b[0;32mif\u001b[0m \u001b[0mnwbfile\u001b[0m \u001b[0;32mis\u001b[0m \u001b[0;32mNone\u001b[0m\u001b[0;34m:\u001b[0m\u001b[0;34m\u001b[0m\u001b[0;34m\u001b[0m\u001b[0m\n\u001b[0;32m--> 151\u001b[0;31m                 \u001b[0mnwbfile\u001b[0m \u001b[0;34m=\u001b[0m \u001b[0mmake_nwbfile_from_metadata\u001b[0m\u001b[0;34m(\u001b[0m\u001b[0mmetadata\u001b[0m\u001b[0;34m=\u001b[0m\u001b[0mmetadata\u001b[0m\u001b[0;34m)\u001b[0m\u001b[0;34m\u001b[0m\u001b[0;34m\u001b[0m\u001b[0m\n\u001b[0m\u001b[1;32m    152\u001b[0m             \u001b[0;32mfor\u001b[0m \u001b[0minterface_name\u001b[0m\u001b[0;34m,\u001b[0m \u001b[0mdata_interface\u001b[0m \u001b[0;32min\u001b[0m \u001b[0mself\u001b[0m\u001b[0;34m.\u001b[0m\u001b[0mdata_interface_objects\u001b[0m\u001b[0;34m.\u001b[0m\u001b[0mitems\u001b[0m\u001b[0;34m(\u001b[0m\u001b[0;34m)\u001b[0m\u001b[0;34m:\u001b[0m\u001b[0;34m\u001b[0m\u001b[0;34m\u001b[0m\u001b[0m\n\u001b[1;32m    153\u001b[0m                 \u001b[0mdata_interface\u001b[0m\u001b[0;34m.\u001b[0m\u001b[0mrun_conversion\u001b[0m\u001b[0;34m(\u001b[0m\u001b[0mnwbfile\u001b[0m\u001b[0;34m,\u001b[0m \u001b[0mmetadata\u001b[0m\u001b[0;34m,\u001b[0m \u001b[0;34m**\u001b[0m\u001b[0mconversion_options\u001b[0m\u001b[0;34m.\u001b[0m\u001b[0mget\u001b[0m\u001b[0;34m(\u001b[0m\u001b[0minterface_name\u001b[0m\u001b[0;34m,\u001b[0m \u001b[0mdict\u001b[0m\u001b[0;34m(\u001b[0m\u001b[0;34m)\u001b[0m\u001b[0;34m)\u001b[0m\u001b[0;34m)\u001b[0m\u001b[0;34m\u001b[0m\u001b[0;34m\u001b[0m\u001b[0m\n",
      "\u001b[0;32m/mnt/d/spikeinterface/nwb-conversion-tools/nwb_conversion_tools/conversion_tools.py\u001b[0m in \u001b[0;36mmake_nwbfile_from_metadata\u001b[0;34m(metadata)\u001b[0m\n\u001b[1;32m     58\u001b[0m         \u001b[0mnwbfile_kwargs\u001b[0m\u001b[0;34m.\u001b[0m\u001b[0mupdate\u001b[0m\u001b[0;34m(\u001b[0m\u001b[0msubject\u001b[0m\u001b[0;34m=\u001b[0m\u001b[0mSubject\u001b[0m\u001b[0;34m(\u001b[0m\u001b[0;34m**\u001b[0m\u001b[0mmetadata\u001b[0m\u001b[0;34m[\u001b[0m\u001b[0;34m\"Subject\"\u001b[0m\u001b[0;34m]\u001b[0m\u001b[0;34m)\u001b[0m\u001b[0;34m)\u001b[0m\u001b[0;34m\u001b[0m\u001b[0;34m\u001b[0m\u001b[0m\n\u001b[1;32m     59\u001b[0m     \u001b[0;31m# convert ISO 8601 string to datetime\u001b[0m\u001b[0;34m\u001b[0m\u001b[0;34m\u001b[0m\u001b[0;34m\u001b[0m\u001b[0m\n\u001b[0;32m---> 60\u001b[0;31m     \u001b[0;32mif\u001b[0m \u001b[0misinstance\u001b[0m\u001b[0;34m(\u001b[0m\u001b[0mnwbfile_kwargs\u001b[0m\u001b[0;34m.\u001b[0m\u001b[0mget\u001b[0m\u001b[0;34m(\u001b[0m\u001b[0;34m\"session_start_time\"\u001b[0m\u001b[0;34m,\u001b[0m \u001b[0;32mNone\u001b[0m\u001b[0;34m)\u001b[0m\u001b[0;34m,\u001b[0m \u001b[0mstr\u001b[0m\u001b[0;34m)\u001b[0m\u001b[0;34m:\u001b[0m\u001b[0;34m\u001b[0m\u001b[0;34m\u001b[0m\u001b[0m\n\u001b[0m\u001b[1;32m     61\u001b[0m         \u001b[0mnwbfile_kwargs\u001b[0m\u001b[0;34m[\u001b[0m\u001b[0;34m\"session_start_time\"\u001b[0m\u001b[0;34m]\u001b[0m \u001b[0;34m=\u001b[0m \u001b[0mdatetime\u001b[0m\u001b[0;34m.\u001b[0m\u001b[0mfromisoformat\u001b[0m\u001b[0;34m(\u001b[0m\u001b[0mmetadata\u001b[0m\u001b[0;34m[\u001b[0m\u001b[0;34m\"NWBFile\"\u001b[0m\u001b[0;34m]\u001b[0m\u001b[0;34m[\u001b[0m\u001b[0;34m\"session_start_time\"\u001b[0m\u001b[0;34m]\u001b[0m\u001b[0;34m)\u001b[0m\u001b[0;34m\u001b[0m\u001b[0;34m\u001b[0m\u001b[0m\n\u001b[1;32m     62\u001b[0m     \u001b[0;32mreturn\u001b[0m \u001b[0mNWBFile\u001b[0m\u001b[0;34m(\u001b[0m\u001b[0;34m**\u001b[0m\u001b[0mnwbfile_kwargs\u001b[0m\u001b[0;34m)\u001b[0m\u001b[0;34m\u001b[0m\u001b[0;34m\u001b[0m\u001b[0m\n",
      "\u001b[0;31mAttributeError\u001b[0m: 'str' object has no attribute 'get'"
     ]
    }
   ],
   "source": [
    "converter.run_conversion(metadata=metadata_test,\n",
    "                         save_to_file=False,\n",
    "                         nwbfile_path=os.path.join(dir_name, 'axonadatainterface_test.nwb'),\n",
    "                         nwbfile=None)"
   ]
  },
  {
   "cell_type": "code",
   "execution_count": null,
   "metadata": {},
   "outputs": [],
   "source": []
  },
  {
   "cell_type": "code",
   "execution_count": null,
   "metadata": {},
   "outputs": [],
   "source": []
  },
  {
   "cell_type": "code",
   "execution_count": null,
   "metadata": {},
   "outputs": [],
   "source": []
  },
  {
   "cell_type": "code",
   "execution_count": null,
   "metadata": {},
   "outputs": [],
   "source": []
  },
  {
   "cell_type": "code",
   "execution_count": null,
   "metadata": {},
   "outputs": [],
   "source": []
  },
  {
   "cell_type": "code",
   "execution_count": null,
   "metadata": {},
   "outputs": [],
   "source": []
  },
  {
   "cell_type": "code",
   "execution_count": 18,
   "metadata": {},
   "outputs": [],
   "source": [
    "import nwb_conversion_tools"
   ]
  },
  {
   "cell_type": "code",
   "execution_count": 19,
   "metadata": {},
   "outputs": [],
   "source": [
    "# Try to see for which data_interface pytest crashes\n",
    "# Only for tutorialinterfaces! But it works fine for AxonaRecordingExtractorInterface!\n",
    "\n",
    "interfaces_that_crash = [nwb_conversion_tools.datainterfaces.tutorialdatainterface.TutorialRecordingInterface,\n",
    "                         nwb_conversion_tools.datainterfaces.tutorialdatainterface.TutorialSortingInterface]\n",
    "\n",
    "from nwb_conversion_tools import interface_list\n",
    "\n",
    "for data_interface in interface_list:\n",
    "    \n",
    "    if not data_interface in interfaces_that_crash:\n",
    "    \n",
    "        # check validity of source schema\n",
    "        schema = data_interface.get_source_schema()\n",
    "        Draft7Validator.check_schema(schema)\n",
    "\n",
    "        # check validity of conversion options schema\n",
    "        schema = data_interface.get_conversion_options_schema()\n",
    "        Draft7Validator.check_schema(schema)"
   ]
  },
  {
   "cell_type": "code",
   "execution_count": 20,
   "metadata": {},
   "outputs": [],
   "source": [
    "interfaces_that_crash = [nwb_conversion_tools.datainterfaces.tutorialdatainterface.TutorialRecordingInterface,\n",
    "                         nwb_conversion_tools.datainterfaces.tutorialdatainterface.TutorialSortingInterface]\n",
    "\n",
    "data_interface = interfaces_that_crash[0]\n",
    "        \n",
    "# check validity of source schema\n",
    "schema = data_interface.get_source_schema()\n",
    "Draft7Validator.check_schema(schema)\n",
    "\n",
    "# check validity of conversion options schema\n",
    "schema = data_interface.get_conversion_options_schema()\n",
    "Draft7Validator.check_schema(schema)"
   ]
  },
  {
   "cell_type": "code",
   "execution_count": 21,
   "metadata": {},
   "outputs": [],
   "source": [
    "data_interface = interfaces_that_crash[1]\n",
    "        \n",
    "# check validity of source schema\n",
    "schema = data_interface.get_source_schema()\n",
    "Draft7Validator.check_schema(schema)\n",
    "\n",
    "# check validity of conversion options schema\n",
    "schema = data_interface.get_conversion_options_schema()\n",
    "Draft7Validator.check_schema(schema)"
   ]
  },
  {
   "cell_type": "code",
   "execution_count": null,
   "metadata": {},
   "outputs": [],
   "source": []
  },
  {
   "cell_type": "code",
   "execution_count": null,
   "metadata": {},
   "outputs": [],
   "source": []
  },
  {
   "cell_type": "code",
   "execution_count": null,
   "metadata": {},
   "outputs": [],
   "source": []
  }
 ],
 "metadata": {
  "kernelspec": {
   "display_name": "Python 3",
   "language": "python",
   "name": "python3"
  },
  "language_info": {
   "codemirror_mode": {
    "name": "ipython",
    "version": 3
   },
   "file_extension": ".py",
   "mimetype": "text/x-python",
   "name": "python",
   "nbconvert_exporter": "python",
   "pygments_lexer": "ipython3",
   "version": "3.8.5"
  }
 },
 "nbformat": 4,
 "nbformat_minor": 4
}
