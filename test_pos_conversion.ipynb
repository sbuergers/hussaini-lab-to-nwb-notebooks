{
 "cells": [
  {
   "cell_type": "markdown",
   "id": "530f2de5",
   "metadata": {},
   "source": [
    "### Read `.bin` file position data from new sessions and convert to `.pos` file"
   ]
  },
  {
   "cell_type": "code",
   "execution_count": 1,
   "id": "f28ca02f",
   "metadata": {},
   "outputs": [],
   "source": [
    "import os\n",
    "\n",
    "import numpy as np"
   ]
  },
  {
   "cell_type": "code",
   "execution_count": 2,
   "id": "a2412170",
   "metadata": {},
   "outputs": [],
   "source": [
    "def get_header_bstring(file):\n",
    "    \"\"\"\n",
    "    Scan file for the occurrence of 'data_start' and return the header\n",
    "    as byte string\n",
    "\n",
    "    Parameters\n",
    "    ----------\n",
    "    file (str or path): file to be loaded\n",
    "\n",
    "    Returns\n",
    "    -------\n",
    "    str: header byte content\n",
    "    \"\"\"\n",
    "\n",
    "    header = b''\n",
    "    with open(file, 'rb') as f:\n",
    "        for bin_line in f:\n",
    "            if b'data_start' in bin_line:\n",
    "                header += b'data_start'\n",
    "                break\n",
    "            else:\n",
    "                header += bin_line\n",
    "    return header"
   ]
  },
  {
   "cell_type": "code",
   "execution_count": 3,
   "id": "e49dbb6a",
   "metadata": {},
   "outputs": [
    {
     "name": "stdout",
     "output_type": "stream",
     "text": [
      "position data read from `.bin` file with BinConverter tool:\n",
      "\n",
      " [[150121    137     42   1023   1023      0     17      0     17]\n",
      " [150122    137     44   1023   1023      0     10      0     10]\n",
      " [150123    137     42   1023   1023      0     13      0     13]\n",
      " [150124    136     44   1023   1023      0     15      0     15]]\n",
      "\n",
      "\n",
      "position data read from `.pos` file with numpy (after converting from .bin with BinConverter):\n",
      "\n",
      " [(150121, 137, 42, 1023, 1023, 0, 17, 0, 17)\n",
      " (150122, 137, 44, 1023, 1023, 0, 10, 0, 10)\n",
      " (150123, 137, 42, 1023, 1023, 0, 13, 0, 13)\n",
      " (150124, 136, 44, 1023, 1023, 0, 15, 0, 15)]\n"
     ]
    }
   ],
   "source": [
    "from BinConverter.core.readBin import get_bin_data, get_raw_pos\n",
    "from BinConverter.core.CreatePos import create_pos\n",
    "\n",
    "# Full filename to .bin file\n",
    "bin_filename = '/mnt/d/freelance-work/catalyst-neuro/hussaini-lab-to-nwb/new_session_data/06172021-HPC-B6-RAW/06172021-HPC-B6-RAW.bin'\n",
    "\n",
    "\n",
    "# Read bin file position data with BinConverter and show first 4 rows\n",
    "raw_position = get_raw_pos(bin_filename)\n",
    "print('position data read from `.bin` file with BinConverter tool:\\n\\n', raw_position[0:4, :].astype(int))\n",
    "\n",
    "\n",
    "# Save to .pos file\n",
    "pos_file_from_bin = bin_filename.replace('.bin', '.pos')\n",
    "create_pos(pos_file_from_bin, raw_position)\n",
    "\n",
    "\n",
    "# Read .pos file data and show first 4 rows\n",
    "bytes_packet = 20\n",
    "footer_size = len('\\r\\ndata_end\\r\\n')\n",
    "header_size = len(get_header_bstring(pos_file_from_bin))\n",
    "num_bytes = os.path.getsize(pos_file_from_bin) - header_size - footer_size\n",
    "num_packets = num_bytes // bytes_packet\n",
    "\n",
    "# Set dtypes\n",
    "pos_dt = np.dtype([('t', \">i4\"), ('X', \">i2\"), ('Y', \">i2\"), ('x', \">i2\"), ('y', \">i2\"), \n",
    "                   ('PX', \">i2\"), ('px', \">i2\"), ('tot_px', \">i2\"), ('unused', \">i2\")])\n",
    "\n",
    "# Read position data from .pos file after conversion from .bin\n",
    "np_pos = np.memmap(\n",
    "    filename=pos_file_from_bin,\n",
    "    dtype=pos_dt,\n",
    "    mode='r',\n",
    "    offset=len(get_header_bstring(pos_file_from_bin)),\n",
    "    shape=(num_packets, ),\n",
    ")\n",
    "print('\\n\\nposition data read from `.pos` file with numpy (after converting from .bin with BinConverter):\\n\\n', np_pos[0:4,])\n"
   ]
  },
  {
   "cell_type": "markdown",
   "id": "3fd60f08",
   "metadata": {},
   "source": [
    "When reading the `.bin` data using custom code (with numpy), the data is sampled at 100 Hz and contains additional samples in the beginning compared to when reading the `.bin` data with `BinConverter` (which is at 50 Hz)."
   ]
  },
  {
   "cell_type": "code",
   "execution_count": 52,
   "id": "0f1421df",
   "metadata": {},
   "outputs": [
    {
     "name": "stdout",
     "output_type": "stream",
     "text": [
      "Reading .bin position data with numpy:\n",
      "\n",
      " [(125330, 56, 152, 1023, 1023, 0, 16, 0, 16)\n",
      " (150120, 44, 136, 1023, 1023, 0, 11, 0, 11)\n",
      " (150120, 44, 136, 1023, 1023, 0, 11, 0, 11)\n",
      " (150121, 42, 137, 1023, 1023, 0, 17, 0, 17)\n",
      " (150121, 42, 137, 1023, 1023, 0, 17, 0, 17)\n",
      " (150122, 44, 137, 1023, 1023, 0, 10, 0, 10)\n",
      " (150122, 44, 137, 1023, 1023, 0, 10, 0, 10)\n",
      " (150123, 42, 137, 1023, 1023, 0, 13, 0, 13)\n",
      " (150123, 42, 137, 1023, 1023, 0, 13, 0, 13)\n",
      " (150124, 44, 136, 1023, 1023, 0, 15, 0, 15)\n",
      " (150124, 44, 136, 1023, 1023, 0, 15, 0, 15)\n",
      " (150125, 43, 137, 1023, 1023, 0, 15, 0, 15)\n",
      " (150125, 43, 137, 1023, 1023, 0, 15, 0, 15)\n",
      " (150126, 45, 138, 1023, 1023, 0, 16, 0, 16)]\n",
      "\n",
      "\n",
      "position data read from `.pos` file with numpy (after converting from .bin with BinConverter):\n",
      "\n",
      " [(150121, 137, 42, 1023, 1023, 0, 17, 0, 17)\n",
      " (150122, 137, 44, 1023, 1023, 0, 10, 0, 10)\n",
      " (150123, 137, 42, 1023, 1023, 0, 13, 0, 13)\n",
      " (150124, 136, 44, 1023, 1023, 0, 15, 0, 15)]\n"
     ]
    },
    {
     "name": "stderr",
     "output_type": "stream",
     "text": [
      "/home/sbuergers/spikeinterface/hussaini-test-pipeline/venv/lib/python3.8/site-packages/numpy/core/memmap.py:334: FutureWarning: Using a non-tuple sequence for multidimensional indexing is deprecated; use `arr[tuple(seq)]` instead of `arr[seq]`. In the future this will be interpreted as an array index, `arr[np.array(seq)]`, which will result either in an error or a different result.\n",
      "  res = super(memmap, self).__getitem__(index)\n"
     ]
    }
   ],
   "source": [
    "pos_dt_se = np.dtype([('t', \"<i4\"), ('X', \"<i2\"), ('Y', \"<i2\"), ('x', \"<i2\"), ('y', \"<i2\"), \n",
    "                   ('PX', \"<i2\"), ('px', \"<i2\"), ('tot_px', \"<i2\"), ('unused', \"<i2\")])\n",
    "\n",
    "bin_dt = np.dtype([('id', \"S4\"), ('packet', \"<i4\"), ('di', \"<i2\"), ('si', \"<i2\"),\n",
    "                   ('pos', pos_dt_se),\n",
    "                   ('ephys', np.byte, 384),\n",
    "                   ('trailer', np.byte, 16)\n",
    "])\n",
    "\n",
    "np_bin = np.memmap(\n",
    "    filename=bin_filename,\n",
    "    dtype=bin_dt,\n",
    "    mode='r',\n",
    "    offset=0,\n",
    ")\n",
    "\n",
    "pos_mask = [np_bin['id'] == b'ADU2']\n",
    "\n",
    "pos_data = np_bin['pos'][pos_mask]\n",
    "\n",
    "print('Reading .bin position data with numpy:\\n\\n', pos_data[0:14, ])\n",
    "\n",
    "print('\\n\\nposition data read from `.pos` file with numpy (after converting from .bin with BinConverter):\\n\\n', np_pos[0:4,])"
   ]
  },
  {
   "cell_type": "markdown",
   "id": "f8f99e3f",
   "metadata": {},
   "source": [
    "Where does this discrepancy come from?\n",
    "\n",
    "Every second sample is taken to reach a sampling rate of 50 Hz. But why are the first few samples missing?"
   ]
  },
  {
   "cell_type": "code",
   "execution_count": 5,
   "id": "5c9cf6ae",
   "metadata": {},
   "outputs": [],
   "source": [
    "from nwb_conversion_tools.datainterfaces.ecephys.axona.axonadatainterface import (\n",
    "    parse_generic_header, establish_mmap_to_position_data, read_bin_file_position_data\n",
    ")\n",
    "import mmap\n",
    "import contextlib"
   ]
  },
  {
   "cell_type": "code",
   "execution_count": 6,
   "id": "d5d5d308",
   "metadata": {},
   "outputs": [
    {
     "data": {
      "text/plain": [
       "array([[   0,  152, 1023, 1023,    0,   16,    0,   16],\n",
       "       [   0,  136, 1023, 1023,    0,   11,    0,   11],\n",
       "       [   3,  136, 1023, 1023,    0,   11,    0,   11],\n",
       "       [  13,  137, 1023, 1023,    0,   17,    0,   17],\n",
       "       [  23,  137, 1023, 1023,    0,   17,    0,   17],\n",
       "       [  33,  137, 1023, 1023,    0,   10,    0,   10],\n",
       "       [  43,  137, 1023, 1023,    0,   10,    0,   10],\n",
       "       [  53,  137, 1023, 1023,    0,   13,    0,   13],\n",
       "       [  63,  137, 1023, 1023,    0,   13,    0,   13],\n",
       "       [  73,  136, 1023, 1023,    0,   15,    0,   15],\n",
       "       [  83,  136, 1023, 1023,    0,   15,    0,   15],\n",
       "       [  93,  137, 1023, 1023,    0,   15,    0,   15],\n",
       "       [ 103,  137, 1023, 1023,    0,   15,    0,   15],\n",
       "       [ 113,  138, 1023, 1023,    0,   16,    0,   16]])"
      ]
     },
     "execution_count": 6,
     "metadata": {},
     "output_type": "execute_result"
    }
   ],
   "source": [
    "pos_bin_conversion_tools = read_bin_file_position_data(bin_filename)\n",
    "pos_bin_conversion_tools.astype(int)[0:14, :]"
   ]
  },
  {
   "cell_type": "markdown",
   "id": "2a9a8b8a",
   "metadata": {},
   "source": [
    "It does not happen in my code, so let's go through the original code from `BinConverter` step by step:"
   ]
  },
  {
   "cell_type": "code",
   "execution_count": 7,
   "id": "c603b3f2",
   "metadata": {},
   "outputs": [],
   "source": [
    "from BinConverter.core.readBin import find_n\n",
    "\n",
    "byte_count = os.path.getsize(bin_filename)\n",
    "bytes_per_iteration = 432\n",
    "iteration_count = int(byte_count / bytes_per_iteration)\n",
    "# sample_count = iteration_count * 192  # each iteration has 192 samples (64*3)\n",
    "\n",
    "optimal_iteration = 1000000\n",
    "if optimal_iteration >= iteration_count:\n",
    "    simul_iterations = iteration_count\n",
    "else:\n",
    "    simul_iterations = find_n(iteration_count, optimal=optimal_iteration)"
   ]
  },
  {
   "cell_type": "code",
   "execution_count": 8,
   "id": "c26a8c53",
   "metadata": {},
   "outputs": [],
   "source": [
    "n = int(iteration_count / simul_iterations)  # finds how many loops to do\n",
    "byte_chunksize = int(simul_iterations * bytes_per_iteration)\n",
    "\n",
    "DaqFs = 48000\n",
    "duration = iteration_count * 3 / DaqFs\n",
    "duration = np.ceil(duration)\n",
    "\n",
    "pos_Fs = 50\n",
    "n_samples = int(duration * pos_Fs)"
   ]
  },
  {
   "cell_type": "code",
   "execution_count": 9,
   "id": "2cd47b84",
   "metadata": {},
   "outputs": [
    {
     "data": {
      "text/plain": [
       "15050"
      ]
     },
     "execution_count": 9,
     "metadata": {},
     "output_type": "execute_result"
    }
   ],
   "source": [
    "n_samples"
   ]
  },
  {
   "cell_type": "code",
   "execution_count": 19,
   "id": "a4f2a78f",
   "metadata": {},
   "outputs": [],
   "source": [
    "raw_pos = np.array([]).astype(float)\n",
    "mode = 'mmap'\n",
    "\n",
    "with open(bin_filename, 'rb') as f:\n",
    "\n",
    "    if mode == 'mmap':\n",
    "        # we will use memory mapped objects\n",
    "\n",
    "        with contextlib.closing(mmap.mmap(f.fileno(), 0, access=mmap.ACCESS_READ)) as m:\n",
    "            \n",
    "            a = len(m) / bytes_per_iteration\n",
    "            \n",
    "            num_iterations = int(len(m) / bytes_per_iteration)\n",
    "\n",
    "            byte_ids = np.ndarray((num_iterations,), 'S4', m, 0, bytes_per_iteration)\n",
    "\n",
    "            pos_bool = np.where(byte_ids == b'ADU2')  # valid position packets have an ADU2 header b'ADU2' in bytes\n",
    "\n",
    "            valid_iterations = np.arange(len(byte_ids))[pos_bool]  # getting the packet number\n",
    "\n",
    "            # timestamp starts at the 12th bit from the start\n",
    "            time_stamp = np.ndarray((num_iterations,), np.int32, m, 12, bytes_per_iteration)[pos_bool].reshape(\n",
    "                (-1, 1))  # gettinge the time stamp data\n",
    "\n",
    "            # position values start from the 16th bit\n",
    "            raw_pos = np.ndarray((num_iterations,), (np.int16, (1, 8)), m, 16,\n",
    "                                 (bytes_per_iteration,)).reshape((-1, 8))[pos_bool][:]\n",
    "\n",
    "            raw_pos = np.hstack((valid_iterations.reshape((-1, 1)), time_stamp, raw_pos)).astype(\n",
    "                float)  # stacking all these values to create one matrix"
   ]
  },
  {
   "cell_type": "code",
   "execution_count": 47,
   "id": "72b7b611",
   "metadata": {},
   "outputs": [],
   "source": [
    "raw_pos_step1 = raw_pos\n",
    "raw_pos_step1[:, 2:6] = raw_pos[:, [3, 2, 5, 4]]\n",
    "\n",
    "# find the first valid sample, since the data is sampled at 48kHz, and there are 3 samples per packet, the packet\n",
    "# rate is 16kHz. The positions are sampled at 50 Hz thus there is a valid position ever 320 packets. The valid position\n",
    "# will essentially take the last ADU2 headered packet values\n",
    "\n",
    "first_sample_index = len(\n",
    "    np.where(raw_pos[:, 0] <= 320 - 1)[0]) - 1  # subtract one since indices in python start at 0\n",
    "\n",
    "raw_pos_step2 = raw_pos_step1[first_sample_index:, :]\n",
    "\n",
    "# indices = np.arange(1,raw_pos.shape[0], 2)\n",
    "indices = np.arange(0, raw_pos_step2.shape[0], 2)\n",
    "if indices[-1] >= raw_pos_step2.shape[0]:\n",
    "    indices = indices[:-1]\n",
    "\n",
    "# raw_pos[indices, 2:4] = 1023\n",
    "raw_pos_step3 = raw_pos_step2[indices, :]"
   ]
  },
  {
   "cell_type": "code",
   "execution_count": 51,
   "id": "b729cedb",
   "metadata": {},
   "outputs": [
    {
     "name": "stdout",
     "output_type": "stream",
     "text": [
      "pos data (BinConverter) step 1 (read all data):\n",
      "\n",
      "    Index  timestamp   X    Y     x     y  PX  px  PX+px  unused\n",
      "0       1     125330  56  152  1023  1023   0  16      0      16\n",
      "1      14     150120  44  136  1023  1023   0  11      0      11\n",
      "2      56     150120  44  136  1023  1023   0  11      0      11\n",
      "3     216     150121  42  137  1023  1023   0  17      0      17\n",
      "4     376     150121  42  137  1023  1023   0  17      0      17\n",
      "5     536     150122  44  137  1023  1023   0  10      0      10\n",
      "6     696     150122  44  137  1023  1023   0  10      0      10\n",
      "7     856     150123  42  137  1023  1023   0  13      0      13\n",
      "8    1016     150123  42  137  1023  1023   0  13      0      13\n",
      "9    1176     150124  44  136  1023  1023   0  15      0      15\n",
      "10   1336     150124  44  136  1023  1023   0  15      0      15\n",
      "\n",
      "\n",
      "pos data (BinConverter) step 2 (select only the last sample within the first 320 observations):\n",
      "\n",
      "   Index  timestamp   X    Y     x     y  PX  px  PX+px  unused\n",
      "0    216     150121  42  137  1023  1023   0  17      0      17\n",
      "1    376     150121  42  137  1023  1023   0  17      0      17\n",
      "2    536     150122  44  137  1023  1023   0  10      0      10\n",
      "3    696     150122  44  137  1023  1023   0  10      0      10\n",
      "4    856     150123  42  137  1023  1023   0  13      0      13\n",
      "5   1016     150123  42  137  1023  1023   0  13      0      13\n",
      "6   1176     150124  44  136  1023  1023   0  15      0      15\n",
      "7   1336     150124  44  136  1023  1023   0  15      0      15\n",
      "\n",
      "\n",
      "pos data (BinConverter) step 3 (select every second sample for 50 Hz resolution)\n",
      "Note that no filter is used, so the point of having a 100 Hz sampling rate to avoid aliasing is mute:\n",
      "\n",
      "   Index  timestamp   X    Y     x     y  PX  px  PX+px  unused\n",
      "0    216     150121  42  137  1023  1023   0  17      0      17\n",
      "1    536     150122  44  137  1023  1023   0  10      0      10\n",
      "2    856     150123  42  137  1023  1023   0  13      0      13\n",
      "3   1176     150124  44  136  1023  1023   0  15      0      15\n"
     ]
    }
   ],
   "source": [
    "import pandas as pd\n",
    "\n",
    "print('pos data (BinConverter) step 1 (read all data):\\n')\n",
    "print(pd.DataFrame(\n",
    "    raw_pos_step1[0:11, :].astype(int),\n",
    "    columns=['Index', 'timestamp', 'X', 'Y', 'x', 'y', 'PX', 'px', 'PX+px', 'unused']\n",
    "))\n",
    "\n",
    "print('\\n\\npos data (BinConverter) step 2 (select only the last sample within the first 320 observations):\\n')\n",
    "print(pd.DataFrame(\n",
    "    raw_pos_step2[0:8, :].astype(int),\n",
    "    columns=['Index', 'timestamp', 'X', 'Y', 'x', 'y', 'PX', 'px', 'PX+px', 'unused']\n",
    "))\n",
    "\n",
    "print('\\n\\npos data (BinConverter) step 3 (select every second sample for 50 Hz resolution)')\n",
    "print('Note that no filter is used, so the point of having a 100 Hz sampling rate to avoid aliasing is mute:\\n')\n",
    "print(pd.DataFrame(\n",
    "    raw_pos_step3[0:4, :].astype(int),\n",
    "    columns=['Index', 'timestamp', 'X', 'Y', 'x', 'y', 'PX', 'px', 'PX+px', 'unused']\n",
    "))"
   ]
  },
  {
   "cell_type": "code",
   "execution_count": null,
   "id": "8ddba4e8",
   "metadata": {},
   "outputs": [],
   "source": []
  },
  {
   "cell_type": "code",
   "execution_count": null,
   "id": "2b05ec26",
   "metadata": {},
   "outputs": [],
   "source": []
  },
  {
   "cell_type": "code",
   "execution_count": null,
   "id": "d9061b92",
   "metadata": {},
   "outputs": [],
   "source": []
  },
  {
   "cell_type": "code",
   "execution_count": 34,
   "id": "edee05ac",
   "metadata": {},
   "outputs": [],
   "source": [
    "import struct\n",
    "\n",
    "def getpos(pos_fpath, arena, method='', flip_y=True):\n",
    "    \"\"\"\n",
    "    getpos function:\n",
    "    ---------------------------------------------\n",
    "    variables:\n",
    "    -pos_fpath: the full path (C:\\example\\session.pos)\n",
    "    output:\n",
    "    t: column numpy array of the time stamps\n",
    "    x: a column array of the x-values (in pixels)\n",
    "    y: a column array of the y-values (in pixels)\n",
    "    \"\"\"\n",
    "\n",
    "    with open(pos_fpath, 'rb+') as f:  # opening the .pos file\n",
    "        headers = ''  # initializing the header string\n",
    "        for line in f:  # reads line by line to read the header of the file\n",
    "            # print(line)\n",
    "            if 'data_start' in str(line):  # if it reads data_start that means the header has ended\n",
    "                headers += 'data_start'\n",
    "                break  # break out of for loop once header has finished\n",
    "            elif 'duration' in str(line):\n",
    "                headers += line.decode(encoding='UTF-8')\n",
    "            elif 'num_pos_samples' in str(line):\n",
    "                num_pos_samples = int(line.decode(encoding='UTF-8')[len('num_pos_samples '):])\n",
    "                headers += line.decode(encoding='UTF-8')\n",
    "            elif 'bytes_per_timestamp' in str(line):\n",
    "                bytes_per_timestamp = int(line.decode(encoding='UTF-8')[len('bytes_per_timestamp '):])\n",
    "                headers += line.decode(encoding='UTF-8')\n",
    "            elif 'bytes_per_coord' in str(line):\n",
    "                bytes_per_coord = int(line.decode(encoding='UTF-8')[len('bytes_per_coord '):])\n",
    "                headers += line.decode(encoding='UTF-8')\n",
    "            elif 'timebase' in str(line):\n",
    "                timebase = (line.decode(encoding='UTF-8')[len('timebase '):]).split(' ')[0]\n",
    "                headers += line.decode(encoding='UTF-8')\n",
    "            elif 'pixels_per_metre' in str(line):\n",
    "                ppm = float(line.decode(encoding='UTF-8')[len('pixels_per_metre '):])\n",
    "                headers += line.decode(encoding='UTF-8')\n",
    "            elif 'min_x' in str(line) and 'window' not in str(line):\n",
    "                min_x = int(line.decode(encoding='UTF-8')[len('min_x '):])\n",
    "                headers += line.decode(encoding='UTF-8')\n",
    "            elif 'max_x' in str(line) and 'window' not in str(line):\n",
    "                max_x = int(line.decode(encoding='UTF-8')[len('max_x '):])\n",
    "                headers += line.decode(encoding='UTF-8')\n",
    "            elif 'min_y' in str(line) and 'window' not in str(line):\n",
    "                min_y = int(line.decode(encoding='UTF-8')[len('min_y '):])\n",
    "                headers += line.decode(encoding='UTF-8')\n",
    "            elif 'max_y' in str(line) and 'window' not in str(line):\n",
    "                max_y = int(line.decode(encoding='UTF-8')[len('max_y '):])\n",
    "                headers += line.decode(encoding='UTF-8')\n",
    "            elif 'pos_format' in str(line):\n",
    "                headers += line.decode(encoding='UTF-8')\n",
    "                if 't,x1,y1,x2,y2,numpix1,numpix2' in str(line):\n",
    "                    two_spot = True\n",
    "                else:\n",
    "                    two_spot = False\n",
    "                    print('The position format is unrecognized!')\n",
    "\n",
    "            elif 'sample_rate' in str(line):\n",
    "                sample_rate = float(line.decode(encoding='UTF-8').split(' ')[1])\n",
    "                headers += line.decode(encoding='UTF-8')\n",
    "\n",
    "            else:\n",
    "                headers += line.decode(encoding='UTF-8')\n",
    "\n",
    "    if two_spot:\n",
    "        '''Run when two spot mode is on, (one_spot has the same format so it will also run here)'''\n",
    "        with open(pos_fpath, 'rb+') as f:\n",
    "            '''get_pos for one_spot'''\n",
    "            pos_data = f.read()  # all the position data values (including header)\n",
    "            pos_data = pos_data[len(headers):-12]  # removes the header values\n",
    "\n",
    "            byte_string = 'i8h'\n",
    "\n",
    "            pos_data = np.asarray(struct.unpack('>%s' % (num_pos_samples * byte_string), pos_data))\n",
    "            pos_data = pos_data.astype(float).reshape((num_pos_samples, 9))\n",
    "    return pos_data"
   ]
  },
  {
   "cell_type": "code",
   "execution_count": 38,
   "id": "2e001182",
   "metadata": {},
   "outputs": [
    {
     "name": "stdout",
     "output_type": "stream",
     "text": [
      "\n",
      "\n",
      "\n",
      "position data read from `.pos` file with numpy (after converting from .bin with BinConverter):\n",
      "\n",
      " [(2357, 55, 74, 1023, 1023, 0, 17, 0, 17)\n",
      " (2358, 56, 76, 1023, 1023, 0, 13, 0, 13)\n",
      " (2359, 57, 74, 1023, 1023, 0, 13, 0, 13)\n",
      " (2360, 54, 78, 1023, 1023, 0, 12, 0, 12)]\n"
     ]
    },
    {
     "data": {
      "text/plain": [
       "array([[2357,   55,   74, 1023, 1023,    0,   17,    0,   17],\n",
       "       [2358,   56,   76, 1023, 1023,    0,   13,    0,   13],\n",
       "       [2359,   57,   74, 1023, 1023,    0,   13,    0,   13],\n",
       "       [2360,   54,   78, 1023, 1023,    0,   12,    0,   12]])"
      ]
     },
     "execution_count": 38,
     "metadata": {},
     "output_type": "execute_result"
    }
   ],
   "source": [
    "print('\\n\\n\\nposition data read from `.pos` file with numpy (after converting from .bin with BinConverter):\\n\\n', np_pos[0:4,])\n",
    "\n",
    "getpos(pos_file_from_bin, arena='BehaviorRoom').astype(int)[0:4, :]"
   ]
  },
  {
   "cell_type": "code",
   "execution_count": null,
   "id": "65c34216",
   "metadata": {},
   "outputs": [],
   "source": []
  },
  {
   "cell_type": "code",
   "execution_count": null,
   "id": "0adca7f7",
   "metadata": {},
   "outputs": [],
   "source": []
  },
  {
   "cell_type": "code",
   "execution_count": null,
   "id": "2e9b024a",
   "metadata": {},
   "outputs": [],
   "source": []
  },
  {
   "cell_type": "code",
   "execution_count": 31,
   "id": "028d6300",
   "metadata": {},
   "outputs": [
    {
     "data": {
      "text/plain": [
       "(array([[-52.41932066],\n",
       "        [-52.21751384],\n",
       "        [-52.01570703],\n",
       "        ...,\n",
       "        [-19.72661634],\n",
       "        [-19.72661634],\n",
       "        [-19.72661634]]),\n",
       " array([[63.87185751],\n",
       "        [63.46824388],\n",
       "        [63.87185751],\n",
       "        ...,\n",
       "        [60.037528  ],\n",
       "        [60.037528  ],\n",
       "        [60.037528  ]]),\n",
       " array([[0.0000e+00],\n",
       "        [2.0000e-02],\n",
       "        [4.0000e-02],\n",
       "        ...,\n",
       "        [6.0094e+02],\n",
       "        [6.0096e+02],\n",
       "        [6.0098e+02]]),\n",
       " 50.0)"
      ]
     },
     "execution_count": 31,
     "metadata": {},
     "output_type": "execute_result"
    }
   ],
   "source": [
    "from BinConverter.core.Tint_Matlab import getpos\n",
    "\n",
    "getpos(pos_file_from_bin, arena='BehaviorRoom')"
   ]
  },
  {
   "cell_type": "code",
   "execution_count": null,
   "id": "65ce46b5",
   "metadata": {},
   "outputs": [],
   "source": []
  },
  {
   "cell_type": "code",
   "execution_count": 19,
   "id": "41b2c853",
   "metadata": {},
   "outputs": [],
   "source": [
    "def establish_mmap_to_pos_file(pos_file):\n",
    "    \"\"\"\n",
    "    Generates a memory map (mmap) object connected to an Axona .pos file.\n",
    "\n",
    "    Parameters:\n",
    "    -------\n",
    "    pos_file (Path or Str):\n",
    "        Full filename of Axona file with any extension.\n",
    "\n",
    "    Returns:\n",
    "    -------\n",
    "    mm (mmap or None):\n",
    "        Memory map to .pos file position data\n",
    "    \"\"\"    \n",
    "    fpos = open(pos_file, \"rb\")\n",
    "    mmpos = mmap.mmap(\n",
    "        fpos.fileno(),\n",
    "        length=0,\n",
    "        access=mmap.ACCESS_READ,\n",
    "        offset=0\n",
    "    )\n",
    "    return mmpos"
   ]
  },
  {
   "cell_type": "code",
   "execution_count": 20,
   "id": "aabf5677",
   "metadata": {},
   "outputs": [
    {
     "name": "stdout",
     "output_type": "stream",
     "text": [
      "/mnt/d/freelance-work/catalyst-neuro/hussaini-lab-to-nwb/new_session_data/06172021-HPC-B6-RAW/06172021-HPC-B6-RAW.pos\n",
      "12\n",
      "15050\n"
     ]
    },
    {
     "data": {
      "text/plain": [
       "array([[ 137,   42, 1023, ...,   17,    0,   17],\n",
       "       [ 137,   44, 1023, ...,   10,    0,   10],\n",
       "       [ 137,   42, 1023, ...,   13,    0,   13],\n",
       "       ...,\n",
       "       [ 129,   29, 1023, ...,   18,    0,   18],\n",
       "       [ 129,   29, 1023, ...,   18,    0,   18],\n",
       "       [ 129,   29, 1023, ...,   18,    0,   18]], dtype=int16)"
      ]
     },
     "execution_count": 20,
     "metadata": {},
     "output_type": "execute_result"
    }
   ],
   "source": [
    "import mmap\n",
    "\n",
    "pos_file = pos_file_from_bin\n",
    "\n",
    "mmpos = establish_mmap_to_pos_file(pos_file)\n",
    "\n",
    "bytes_packet = 20\n",
    "print(pos_file)\n",
    "footer_size = len('\\r\\ndata_end\\r\\n')\n",
    "print(footer_size)\n",
    "header_size = len(get_header_bstring(pos_file))\n",
    "num_bytes = os.path.getsize(pos_file) - header_size - footer_size\n",
    "num_packets = num_bytes // bytes_packet\n",
    "print(num_packets)\n",
    "\n",
    "pos = np.ndarray(\n",
    "    shape=(num_packets,), \n",
    "    dtype=('>i2', 8),\n",
    "    buffer=mmpos,\n",
    "    offset=len(get_header_bstring(pos_file)) + 4,\n",
    "    strides=bytes_packet\n",
    ")\n",
    "pos"
   ]
  },
  {
   "cell_type": "code",
   "execution_count": 21,
   "id": "0ea3454b",
   "metadata": {},
   "outputs": [
    {
     "data": {
      "text/plain": [
       "memmap([(150121, 137, 42, 1023, 1023, 0, 17, 0, 17),\n",
       "        (150122, 137, 44, 1023, 1023, 0, 10, 0, 10),\n",
       "        (150123, 137, 42, 1023, 1023, 0, 13, 0, 13), ...,\n",
       "        (165161, 129, 29, 1023, 1023, 0, 18, 0, 18),\n",
       "        (165161, 129, 29, 1023, 1023, 0, 18, 0, 18),\n",
       "        (165161, 129, 29, 1023, 1023, 0, 18, 0, 18)],\n",
       "       dtype=[('t', '>i4'), ('X', '>i2'), ('Y', '>i2'), ('x', '>i2'), ('y', '>i2'), ('PX', '>i2'), ('px', '>i2'), ('tot_px', '>i2'), ('unused', '>i2')])"
      ]
     },
     "execution_count": 21,
     "metadata": {},
     "output_type": "execute_result"
    }
   ],
   "source": [
    "np_pos"
   ]
  },
  {
   "cell_type": "code",
   "execution_count": null,
   "id": "64be2ffb",
   "metadata": {},
   "outputs": [],
   "source": []
  },
  {
   "cell_type": "code",
   "execution_count": null,
   "id": "c0bb1dcb",
   "metadata": {},
   "outputs": [],
   "source": []
  },
  {
   "cell_type": "code",
   "execution_count": null,
   "id": "0f40578a",
   "metadata": {},
   "outputs": [],
   "source": []
  },
  {
   "cell_type": "code",
   "execution_count": null,
   "id": "93fc8200",
   "metadata": {},
   "outputs": [],
   "source": []
  },
  {
   "cell_type": "code",
   "execution_count": null,
   "id": "625298a5",
   "metadata": {},
   "outputs": [],
   "source": []
  },
  {
   "cell_type": "code",
   "execution_count": null,
   "id": "397d35e7",
   "metadata": {},
   "outputs": [],
   "source": []
  },
  {
   "cell_type": "markdown",
   "id": "ae7e4f96",
   "metadata": {},
   "source": [
    "Strangely, we get different data values after converting from .bin to .pos using the BinConverter tool. I did not think this was the case with the old data, let's try converting that instead:"
   ]
  },
  {
   "cell_type": "code",
   "execution_count": 43,
   "id": "df54b268",
   "metadata": {},
   "outputs": [
    {
     "name": "stdout",
     "output_type": "stream",
     "text": [
      "position data read from `.bin` file with BinConverter tool:\n",
      "\n",
      " [[2357   55   74 1023 1023    0   17    0   17]\n",
      " [2358   56   76 1023 1023    0   13    0   13]\n",
      " [2359   57   74 1023 1023    0   13    0   13]\n",
      " [2360   54   78 1023 1023    0   12    0   12]]\n",
      "\n",
      "\n",
      "\n",
      "position data read from `.pos` file with numpy (after converting from .bin with BinConverter):\n",
      "\n",
      " [(2357, 55, 74, 1023, 1023, 0, 17, 0, 17)\n",
      " (2358, 56, 76, 1023, 1023, 0, 13, 0, 13)\n",
      " (2359, 57, 74, 1023, 1023, 0, 13, 0, 13)\n",
      " (2360, 54, 78, 1023, 1023, 0, 12, 0, 12)]\n"
     ]
    }
   ],
   "source": [
    "from BinConverter.core.readBin import get_bin_data, get_raw_pos\n",
    "from BinConverter.core.CreatePos import create_pos\n",
    "\n",
    "# Full filename to .bin file\n",
    "bin_filename = '/mnt/d/freelance-work/catalyst-neuro/hussaini-lab-to-nwb/example_data_raw/20201004_Raw.bin'\n",
    "\n",
    "# Read bin file position data with BinConverter and show first 4 rows\n",
    "raw_position = get_raw_pos(bin_filename)\n",
    "print('position data read from `.bin` file with BinConverter tool:\\n\\n', raw_position[0:4, :].astype(int))\n",
    "\n",
    "\n",
    "# Save to .pos file\n",
    "pos_file_from_bin = bin_filename.replace('.bin', '.pos')\n",
    "create_pos(pos_file_from_bin, raw_position)\n",
    "\n",
    "\n",
    "# Read .pos file data and show first 4 rows\n",
    "bytes_packet = 20\n",
    "footer_size = len('\\r\\ndata_end\\r\\n')\n",
    "header_size = len(get_header_bstring(pos_file_from_bin))\n",
    "num_bytes = os.path.getsize(pos_file_from_bin) - header_size - footer_size\n",
    "num_packets = num_bytes // bytes_packet\n",
    "\n",
    "# Set dtypes\n",
    "pos_dt = np.dtype([('t', \">i4\"), ('X', \">i2\"), ('Y', \">i2\"), ('x', \">i2\"), ('y', \">i2\"), \n",
    "                   ('PX', \">i2\"), ('px', \">i2\"), ('tot_px', \">i2\"), ('unused', \">i2\")])\n",
    "\n",
    "# Read position data from .pos file after conversion from .bin\n",
    "np_pos = np.memmap(\n",
    "    filename=pos_file_from_bin,\n",
    "    dtype=pos_dt,\n",
    "    mode='r',\n",
    "    offset=len(get_header_bstring(pos_file_from_bin)),\n",
    "    shape=(num_packets, ),\n",
    ")\n",
    "print('\\n\\n\\nposition data read from `.pos` file with numpy (after converting from .bin with BinConverter):\\n\\n', np_pos[0:4,])\n"
   ]
  },
  {
   "cell_type": "code",
   "execution_count": null,
   "id": "81f02353",
   "metadata": {},
   "outputs": [],
   "source": []
  },
  {
   "cell_type": "code",
   "execution_count": null,
   "id": "bdacfa02",
   "metadata": {},
   "outputs": [],
   "source": []
  },
  {
   "cell_type": "code",
   "execution_count": null,
   "id": "f45e14de",
   "metadata": {},
   "outputs": [],
   "source": []
  },
  {
   "cell_type": "code",
   "execution_count": null,
   "id": "22181387",
   "metadata": {},
   "outputs": [],
   "source": []
  },
  {
   "cell_type": "code",
   "execution_count": null,
   "id": "3c8172a8",
   "metadata": {},
   "outputs": [],
   "source": []
  },
  {
   "cell_type": "markdown",
   "id": "1856dbc2",
   "metadata": {},
   "source": [
    "Finally, read `.pos` data that was not converted with the BinConverter tool. I believe this should now be formatted as specified in the file format manual:"
   ]
  },
  {
   "cell_type": "code",
   "execution_count": null,
   "id": "acf35cec",
   "metadata": {},
   "outputs": [],
   "source": []
  },
  {
   "cell_type": "code",
   "execution_count": null,
   "id": "bd039a97",
   "metadata": {},
   "outputs": [],
   "source": []
  },
  {
   "cell_type": "code",
   "execution_count": null,
   "id": "7fb16ab7",
   "metadata": {},
   "outputs": [],
   "source": []
  },
  {
   "cell_type": "code",
   "execution_count": null,
   "id": "4967981d",
   "metadata": {},
   "outputs": [],
   "source": []
  },
  {
   "cell_type": "code",
   "execution_count": null,
   "id": "961c5ad2",
   "metadata": {},
   "outputs": [],
   "source": []
  },
  {
   "cell_type": "code",
   "execution_count": null,
   "id": "d3614c68",
   "metadata": {},
   "outputs": [],
   "source": []
  }
 ],
 "metadata": {
  "kernelspec": {
   "display_name": "Python3 (hussaini-test-pipeline)",
   "language": "python",
   "name": "hussaini-test-pipeline"
  },
  "language_info": {
   "codemirror_mode": {
    "name": "ipython",
    "version": 3
   },
   "file_extension": ".py",
   "mimetype": "text/x-python",
   "name": "python",
   "nbconvert_exporter": "python",
   "pygments_lexer": "ipython3",
   "version": "3.8.5"
  }
 },
 "nbformat": 4,
 "nbformat_minor": 5
}
