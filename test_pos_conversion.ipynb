{
 "cells": [
  {
   "cell_type": "markdown",
   "id": "530f2de5",
   "metadata": {},
   "source": [
    "### Read `.bin` file position data from new sessions and convert to `.pos` file"
   ]
  },
  {
   "cell_type": "code",
   "execution_count": 7,
   "id": "f28ca02f",
   "metadata": {},
   "outputs": [],
   "source": [
    "import os\n",
    "\n",
    "import numpy as np"
   ]
  },
  {
   "cell_type": "code",
   "execution_count": 8,
   "id": "a2412170",
   "metadata": {},
   "outputs": [],
   "source": [
    "def get_header_bstring(file):\n",
    "    \"\"\"\n",
    "    Scan file for the occurrence of 'data_start' and return the header\n",
    "    as byte string\n",
    "\n",
    "    Parameters\n",
    "    ----------\n",
    "    file (str or path): file to be loaded\n",
    "\n",
    "    Returns\n",
    "    -------\n",
    "    str: header byte content\n",
    "    \"\"\"\n",
    "\n",
    "    header = b''\n",
    "    with open(file, 'rb') as f:\n",
    "        for bin_line in f:\n",
    "            if b'data_start' in bin_line:\n",
    "                header += b'data_start'\n",
    "                break\n",
    "            else:\n",
    "                header += bin_line\n",
    "    return header"
   ]
  },
  {
   "cell_type": "code",
   "execution_count": 9,
   "id": "e585c87a",
   "metadata": {},
   "outputs": [
    {
     "name": "stdout",
     "output_type": "stream",
     "text": [
      "position data read from `.bin` file with BinConverter tool:\n",
      "\n",
      " [[150121    137     42   1023   1023      0     17      0     17]\n",
      " [150122    137     44   1023   1023      0     10      0     10]\n",
      " [150123    137     42   1023   1023      0     13      0     13]\n",
      " [150124    136     44   1023   1023      0     15      0     15]]\n"
     ]
    },
    {
     "ename": "FileNotFoundError",
     "evalue": "[Errno 2] No such file or directory: '/mnt/d/freelance-work/catalyst-neuro/hussaini-lab-to-nwb/new_session_data/06172021-HPC-B6-RAW/06172021-HPC-B6-RAW.pos'",
     "output_type": "error",
     "traceback": [
      "\u001b[0;31m---------------------------------------------------------------------------\u001b[0m",
      "\u001b[0;31mFileNotFoundError\u001b[0m                         Traceback (most recent call last)",
      "\u001b[0;32m/tmp/ipykernel_4115/1029044890.py\u001b[0m in \u001b[0;36m<module>\u001b[0;34m\u001b[0m\n\u001b[1;32m     42\u001b[0m \u001b[0;31m# Save to .pos file\u001b[0m\u001b[0;34m\u001b[0m\u001b[0;34m\u001b[0m\u001b[0;34m\u001b[0m\u001b[0m\n\u001b[1;32m     43\u001b[0m \u001b[0mpos_file_from_bin\u001b[0m \u001b[0;34m=\u001b[0m \u001b[0mbin_filename\u001b[0m\u001b[0;34m.\u001b[0m\u001b[0mreplace\u001b[0m\u001b[0;34m(\u001b[0m\u001b[0;34m'.bin'\u001b[0m\u001b[0;34m,\u001b[0m \u001b[0;34m'.pos'\u001b[0m\u001b[0;34m)\u001b[0m\u001b[0;34m\u001b[0m\u001b[0;34m\u001b[0m\u001b[0m\n\u001b[0;32m---> 44\u001b[0;31m \u001b[0mcreate_pos\u001b[0m\u001b[0;34m(\u001b[0m\u001b[0mpos_file_from_bin\u001b[0m\u001b[0;34m,\u001b[0m \u001b[0mraw_position\u001b[0m\u001b[0;34m)\u001b[0m\u001b[0;34m\u001b[0m\u001b[0;34m\u001b[0m\u001b[0m\n\u001b[0m\u001b[1;32m     45\u001b[0m \u001b[0;34m\u001b[0m\u001b[0m\n\u001b[1;32m     46\u001b[0m \u001b[0;34m\u001b[0m\u001b[0m\n",
      "\u001b[0;32m~/spikeinterface/BinConverter/BinConverter/core/CreatePos.py\u001b[0m in \u001b[0;36mcreate_pos\u001b[0;34m(pos_filename, pos_data)\u001b[0m\n\u001b[1;32m     17\u001b[0m     \u001b[0mheader\u001b[0m \u001b[0;34m=\u001b[0m \u001b[0mget_set_header\u001b[0m\u001b[0;34m(\u001b[0m\u001b[0mset_filename\u001b[0m\u001b[0;34m)\u001b[0m\u001b[0;34m\u001b[0m\u001b[0;34m\u001b[0m\u001b[0m\n\u001b[1;32m     18\u001b[0m \u001b[0;34m\u001b[0m\u001b[0m\n\u001b[0;32m---> 19\u001b[0;31m     \u001b[0;32mwith\u001b[0m \u001b[0mopen\u001b[0m\u001b[0;34m(\u001b[0m\u001b[0mpos_filename\u001b[0m\u001b[0;34m,\u001b[0m \u001b[0;34m'wb+'\u001b[0m\u001b[0;34m)\u001b[0m \u001b[0;32mas\u001b[0m \u001b[0mf\u001b[0m\u001b[0;34m:\u001b[0m  \u001b[0;31m# opening the .pos file\u001b[0m\u001b[0;34m\u001b[0m\u001b[0;34m\u001b[0m\u001b[0m\n\u001b[0m\u001b[1;32m     20\u001b[0m         \u001b[0mwrite_list\u001b[0m \u001b[0;34m=\u001b[0m \u001b[0;34m[\u001b[0m\u001b[0;34m]\u001b[0m\u001b[0;34m\u001b[0m\u001b[0;34m\u001b[0m\u001b[0m\n\u001b[1;32m     21\u001b[0m \u001b[0;34m\u001b[0m\u001b[0m\n",
      "\u001b[0;31mFileNotFoundError\u001b[0m: [Errno 2] No such file or directory: '/mnt/d/freelance-work/catalyst-neuro/hussaini-lab-to-nwb/new_session_data/06172021-HPC-B6-RAW/06172021-HPC-B6-RAW.pos'"
     ]
    }
   ],
   "source": [
    "import os\n",
    "import numpy as np\n",
    "\n",
    "from BinConverter.core.readBin import get_bin_data, get_raw_pos\n",
    "from BinConverter.core.CreatePos import create_pos\n",
    "\n",
    "\n",
    "def get_header_bstring(file):\n",
    "    \"\"\"\n",
    "    Scan file for the occurrence of 'data_start' and return the header\n",
    "    as byte string\n",
    "\n",
    "    Parameters\n",
    "    ----------\n",
    "    file (str or path): file to be loaded\n",
    "\n",
    "    Returns\n",
    "    -------\n",
    "    str: header byte content\n",
    "    \"\"\"\n",
    "\n",
    "    header = b''\n",
    "    with open(file, 'rb') as f:\n",
    "        for bin_line in f:\n",
    "            if b'data_start' in bin_line:\n",
    "                header += b'data_start'\n",
    "                break\n",
    "            else:\n",
    "                header += bin_line\n",
    "    return header\n",
    "\n",
    "\n",
    "# Full filename to .bin file\n",
    "bin_filename = '/mnt/d/freelance-work/catalyst-neuro/hussaini-lab-to-nwb/new_session_data/06172021-HPC-B6-RAW/06172021-HPC-B6-RAW.bin'\n",
    "\n",
    "\n",
    "# Read bin file position data with BinConverter and show first 4 rows\n",
    "raw_position = get_raw_pos(bin_filename)\n",
    "print('position data read from `.bin` file with BinConverter tool:\\n\\n', raw_position[0:4, :].astype(int))\n",
    "\n",
    "\n",
    "# Save to .pos file\n",
    "pos_file_from_bin = bin_filename.replace('.bin', '.pos')\n",
    "create_pos(pos_file_from_bin, raw_position)\n",
    "\n",
    "\n",
    "# Read .pos file data and show first 4 rows\n",
    "bytes_packet = 20\n",
    "footer_size = len('\\r\\ndata_end\\r\\n')\n",
    "header_size = len(get_header_bstring(pos_file_from_bin))\n",
    "num_bytes = os.path.getsize(pos_file_from_bin) - header_size - footer_size\n",
    "num_packets = num_bytes // bytes_packet\n",
    "\n",
    "# Set dtypes\n",
    "pos_dt = np.dtype([('t', \">i4\"), ('X', \">i2\"), ('Y', \">i2\"), ('x', \">i2\"), ('y', \">i2\"), \n",
    "                   ('PX', \">i2\"), ('px', \">i2\"), ('tot_px', \">i2\"), ('unused', \">i2\")])\n",
    "\n",
    "# Read position data from .pos file after conversion from .bin\n",
    "np_pos = np.memmap(\n",
    "    filename=pos_file_from_bin,\n",
    "    dtype=pos_dt,\n",
    "    mode='r',\n",
    "    offset=len(get_header_bstring(pos_file_from_bin)),\n",
    "    shape=(num_packets, ),\n",
    ")\n",
    "print('\\n\\n\\nposition data read from `.pos` file with numpy (after converting from .bin with BinConverter):\\n\\n', np_pos[0:4,])\n"
   ]
  },
  {
   "cell_type": "code",
   "execution_count": null,
   "id": "e49dbb6a",
   "metadata": {},
   "outputs": [],
   "source": [
    "from BinConverter.core.readBin import get_bin_data, get_raw_pos\n",
    "from BinConverter.core.CreatePos import create_pos\n",
    "\n",
    "# Full filename to .bin file\n",
    "bin_filename = '/mnt/d/freelance-work/catalyst-neuro/hussaini-lab-to-nwb/new_session_data/06172021-HPC-B6-RAW/06172021-HPC-B6-RAW.bin'\n",
    "\n",
    "\n",
    "# Read bin file position data with BinConverter and show first 4 rows\n",
    "raw_position = get_raw_pos(bin_filename)\n",
    "print('position data read from `.bin` file with BinConverter tool:\\n\\n', raw_position[0:4, :].astype(int))\n",
    "\n",
    "\n",
    "# Save to .pos file\n",
    "pos_file_from_bin = bin_filename.replace('.bin', '.pos')\n",
    "create_pos(pos_file_from_bin, raw_position)\n",
    "\n",
    "\n",
    "# Read .pos file data and show first 4 rows\n",
    "bytes_packet = 20\n",
    "footer_size = len('\\r\\ndata_end\\r\\n')\n",
    "header_size = len(get_header_bstring(pos_file_from_bin))\n",
    "num_bytes = os.path.getsize(pos_file_from_bin) - header_size - footer_size\n",
    "num_packets = num_bytes // bytes_packet\n",
    "\n",
    "# Set dtypes\n",
    "pos_dt = np.dtype([('t', \">i4\"), ('X', \">i2\"), ('Y', \">i2\"), ('x', \">i2\"), ('y', \">i2\"), \n",
    "                   ('PX', \">i2\"), ('px', \">i2\"), ('tot_px', \">i2\"), ('unused', \">i2\")])\n",
    "\n",
    "# Read position data from .pos file after conversion from .bin\n",
    "np_pos = np.memmap(\n",
    "    filename=pos_file_from_bin,\n",
    "    dtype=pos_dt,\n",
    "    mode='r',\n",
    "    offset=len(get_header_bstring(pos_file_from_bin)),\n",
    "    shape=(num_packets, ),\n",
    ")\n",
    "print('\\n\\n\\nposition data read from `.pos` file with numpy (after converting from .bin with BinConverter):\\n\\n', np_pos[0:4,])\n"
   ]
  },
  {
   "cell_type": "code",
   "execution_count": 44,
   "id": "0535bd1b",
   "metadata": {},
   "outputs": [],
   "source": [
    "# Read .bin data with custom code"
   ]
  },
  {
   "cell_type": "code",
   "execution_count": 45,
   "id": "0f1421df",
   "metadata": {},
   "outputs": [],
   "source": [
    "pos_dt_se = np.dtype([('t', \"<i4\"), ('X', \"<i2\"), ('Y', \"<i2\"), ('x', \"<i2\"), ('y', \"<i2\"), \n",
    "                   ('PX', \"<i2\"), ('px', \"<i2\"), ('tot_px', \"<i2\"), ('unused', \"<i2\")])\n",
    "\n",
    "bin_dt = np.dtype([('id', \"S4\"), ('packet', \"<i4\"), ('di', \"<i2\"), ('si', \"<i2\"),\n",
    "                   ('pos', pos_dt_se),\n",
    "                   ('ephys', np.byte, 384),\n",
    "                   ('trailer', np.byte, 16)\n",
    "])"
   ]
  },
  {
   "cell_type": "code",
   "execution_count": 47,
   "id": "567fab27",
   "metadata": {},
   "outputs": [],
   "source": [
    "np_bin = np.memmap(\n",
    "    filename=bin_filename,\n",
    "    dtype=bin_dt,\n",
    "    mode='r',\n",
    "    offset=0,\n",
    ")"
   ]
  },
  {
   "cell_type": "code",
   "execution_count": 48,
   "id": "8643ad21",
   "metadata": {},
   "outputs": [],
   "source": [
    "pos_mask = [np_bin['id'] == b'ADU2']"
   ]
  },
  {
   "cell_type": "code",
   "execution_count": null,
   "id": "630f3d8c",
   "metadata": {},
   "outputs": [],
   "source": [
    "pos_data = np_bin['pos'][pos_mask]\n",
    "\n",
    "pos_data[0:4, :]"
   ]
  },
  {
   "cell_type": "code",
   "execution_count": null,
   "id": "09830c3a",
   "metadata": {},
   "outputs": [],
   "source": []
  },
  {
   "cell_type": "code",
   "execution_count": 34,
   "id": "edee05ac",
   "metadata": {},
   "outputs": [],
   "source": [
    "import struct\n",
    "\n",
    "def getpos(pos_fpath, arena, method='', flip_y=True):\n",
    "    \"\"\"\n",
    "    getpos function:\n",
    "    ---------------------------------------------\n",
    "    variables:\n",
    "    -pos_fpath: the full path (C:\\example\\session.pos)\n",
    "    output:\n",
    "    t: column numpy array of the time stamps\n",
    "    x: a column array of the x-values (in pixels)\n",
    "    y: a column array of the y-values (in pixels)\n",
    "    \"\"\"\n",
    "\n",
    "    with open(pos_fpath, 'rb+') as f:  # opening the .pos file\n",
    "        headers = ''  # initializing the header string\n",
    "        for line in f:  # reads line by line to read the header of the file\n",
    "            # print(line)\n",
    "            if 'data_start' in str(line):  # if it reads data_start that means the header has ended\n",
    "                headers += 'data_start'\n",
    "                break  # break out of for loop once header has finished\n",
    "            elif 'duration' in str(line):\n",
    "                headers += line.decode(encoding='UTF-8')\n",
    "            elif 'num_pos_samples' in str(line):\n",
    "                num_pos_samples = int(line.decode(encoding='UTF-8')[len('num_pos_samples '):])\n",
    "                headers += line.decode(encoding='UTF-8')\n",
    "            elif 'bytes_per_timestamp' in str(line):\n",
    "                bytes_per_timestamp = int(line.decode(encoding='UTF-8')[len('bytes_per_timestamp '):])\n",
    "                headers += line.decode(encoding='UTF-8')\n",
    "            elif 'bytes_per_coord' in str(line):\n",
    "                bytes_per_coord = int(line.decode(encoding='UTF-8')[len('bytes_per_coord '):])\n",
    "                headers += line.decode(encoding='UTF-8')\n",
    "            elif 'timebase' in str(line):\n",
    "                timebase = (line.decode(encoding='UTF-8')[len('timebase '):]).split(' ')[0]\n",
    "                headers += line.decode(encoding='UTF-8')\n",
    "            elif 'pixels_per_metre' in str(line):\n",
    "                ppm = float(line.decode(encoding='UTF-8')[len('pixels_per_metre '):])\n",
    "                headers += line.decode(encoding='UTF-8')\n",
    "            elif 'min_x' in str(line) and 'window' not in str(line):\n",
    "                min_x = int(line.decode(encoding='UTF-8')[len('min_x '):])\n",
    "                headers += line.decode(encoding='UTF-8')\n",
    "            elif 'max_x' in str(line) and 'window' not in str(line):\n",
    "                max_x = int(line.decode(encoding='UTF-8')[len('max_x '):])\n",
    "                headers += line.decode(encoding='UTF-8')\n",
    "            elif 'min_y' in str(line) and 'window' not in str(line):\n",
    "                min_y = int(line.decode(encoding='UTF-8')[len('min_y '):])\n",
    "                headers += line.decode(encoding='UTF-8')\n",
    "            elif 'max_y' in str(line) and 'window' not in str(line):\n",
    "                max_y = int(line.decode(encoding='UTF-8')[len('max_y '):])\n",
    "                headers += line.decode(encoding='UTF-8')\n",
    "            elif 'pos_format' in str(line):\n",
    "                headers += line.decode(encoding='UTF-8')\n",
    "                if 't,x1,y1,x2,y2,numpix1,numpix2' in str(line):\n",
    "                    two_spot = True\n",
    "                else:\n",
    "                    two_spot = False\n",
    "                    print('The position format is unrecognized!')\n",
    "\n",
    "            elif 'sample_rate' in str(line):\n",
    "                sample_rate = float(line.decode(encoding='UTF-8').split(' ')[1])\n",
    "                headers += line.decode(encoding='UTF-8')\n",
    "\n",
    "            else:\n",
    "                headers += line.decode(encoding='UTF-8')\n",
    "\n",
    "    if two_spot:\n",
    "        '''Run when two spot mode is on, (one_spot has the same format so it will also run here)'''\n",
    "        with open(pos_fpath, 'rb+') as f:\n",
    "            '''get_pos for one_spot'''\n",
    "            pos_data = f.read()  # all the position data values (including header)\n",
    "            pos_data = pos_data[len(headers):-12]  # removes the header values\n",
    "\n",
    "            byte_string = 'i8h'\n",
    "\n",
    "            pos_data = np.asarray(struct.unpack('>%s' % (num_pos_samples * byte_string), pos_data))\n",
    "            pos_data = pos_data.astype(float).reshape((num_pos_samples, 9))\n",
    "    return pos_data"
   ]
  },
  {
   "cell_type": "code",
   "execution_count": 38,
   "id": "2e001182",
   "metadata": {},
   "outputs": [
    {
     "name": "stdout",
     "output_type": "stream",
     "text": [
      "\n",
      "\n",
      "\n",
      "position data read from `.pos` file with numpy (after converting from .bin with BinConverter):\n",
      "\n",
      " [(2357, 55, 74, 1023, 1023, 0, 17, 0, 17)\n",
      " (2358, 56, 76, 1023, 1023, 0, 13, 0, 13)\n",
      " (2359, 57, 74, 1023, 1023, 0, 13, 0, 13)\n",
      " (2360, 54, 78, 1023, 1023, 0, 12, 0, 12)]\n"
     ]
    },
    {
     "data": {
      "text/plain": [
       "array([[2357,   55,   74, 1023, 1023,    0,   17,    0,   17],\n",
       "       [2358,   56,   76, 1023, 1023,    0,   13,    0,   13],\n",
       "       [2359,   57,   74, 1023, 1023,    0,   13,    0,   13],\n",
       "       [2360,   54,   78, 1023, 1023,    0,   12,    0,   12]])"
      ]
     },
     "execution_count": 38,
     "metadata": {},
     "output_type": "execute_result"
    }
   ],
   "source": [
    "print('\\n\\n\\nposition data read from `.pos` file with numpy (after converting from .bin with BinConverter):\\n\\n', np_pos[0:4,])\n",
    "\n",
    "getpos(pos_file_from_bin, arena='BehaviorRoom').astype(int)[0:4, :]"
   ]
  },
  {
   "cell_type": "code",
   "execution_count": null,
   "id": "65c34216",
   "metadata": {},
   "outputs": [],
   "source": []
  },
  {
   "cell_type": "code",
   "execution_count": null,
   "id": "0adca7f7",
   "metadata": {},
   "outputs": [],
   "source": []
  },
  {
   "cell_type": "code",
   "execution_count": null,
   "id": "2e9b024a",
   "metadata": {},
   "outputs": [],
   "source": []
  },
  {
   "cell_type": "code",
   "execution_count": 31,
   "id": "028d6300",
   "metadata": {},
   "outputs": [
    {
     "data": {
      "text/plain": [
       "(array([[-52.41932066],\n",
       "        [-52.21751384],\n",
       "        [-52.01570703],\n",
       "        ...,\n",
       "        [-19.72661634],\n",
       "        [-19.72661634],\n",
       "        [-19.72661634]]),\n",
       " array([[63.87185751],\n",
       "        [63.46824388],\n",
       "        [63.87185751],\n",
       "        ...,\n",
       "        [60.037528  ],\n",
       "        [60.037528  ],\n",
       "        [60.037528  ]]),\n",
       " array([[0.0000e+00],\n",
       "        [2.0000e-02],\n",
       "        [4.0000e-02],\n",
       "        ...,\n",
       "        [6.0094e+02],\n",
       "        [6.0096e+02],\n",
       "        [6.0098e+02]]),\n",
       " 50.0)"
      ]
     },
     "execution_count": 31,
     "metadata": {},
     "output_type": "execute_result"
    }
   ],
   "source": [
    "from BinConverter.core.Tint_Matlab import getpos\n",
    "\n",
    "getpos(pos_file_from_bin, arena='BehaviorRoom')"
   ]
  },
  {
   "cell_type": "code",
   "execution_count": null,
   "id": "65ce46b5",
   "metadata": {},
   "outputs": [],
   "source": []
  },
  {
   "cell_type": "code",
   "execution_count": 25,
   "id": "41b2c853",
   "metadata": {},
   "outputs": [],
   "source": [
    "def establish_mmap_to_pos_file(pos_file):\n",
    "    \"\"\"\n",
    "    Generates a memory map (mmap) object connected to an Axona .pos file.\n",
    "\n",
    "    Parameters:\n",
    "    -------\n",
    "    pos_file (Path or Str):\n",
    "        Full filename of Axona file with any extension.\n",
    "\n",
    "    Returns:\n",
    "    -------\n",
    "    mm (mmap or None):\n",
    "        Memory map to .pos file position data\n",
    "    \"\"\"    \n",
    "    fpos = open(pos_file, \"rb\")\n",
    "    mmpos = mmap.mmap(\n",
    "        fpos.fileno(),\n",
    "        length=0,\n",
    "        access=mmap.ACCESS_READ,\n",
    "        offset=0\n",
    "    )\n",
    "    return mmpos"
   ]
  },
  {
   "cell_type": "code",
   "execution_count": 28,
   "id": "aabf5677",
   "metadata": {},
   "outputs": [
    {
     "name": "stdout",
     "output_type": "stream",
     "text": [
      "/mnt/d/freelance-work/catalyst-neuro/hussaini-lab-to-nwb/new_session_data/06172021-HPC-B6-RAW/06172021-HPC-B6-RAW.pos\n",
      "12\n",
      "30050\n"
     ]
    },
    {
     "data": {
      "text/plain": [
       "array([[  55,   74, 1023, ...,   17,    0,   17],\n",
       "       [  56,   76, 1023, ...,   13,    0,   13],\n",
       "       [  57,   74, 1023, ...,   13,    0,   13],\n",
       "       ...,\n",
       "       [ 217,   93, 1023, ...,   11,    0,   11],\n",
       "       [ 217,   93, 1023, ...,   11,    0,   11],\n",
       "       [ 217,   93, 1023, ...,   11,    0,   11]], dtype=int16)"
      ]
     },
     "execution_count": 28,
     "metadata": {},
     "output_type": "execute_result"
    }
   ],
   "source": [
    "import mmap\n",
    "\n",
    "pos_file = pos_file_from_bin\n",
    "\n",
    "mmpos = establish_mmap_to_pos_file(pos_file)\n",
    "\n",
    "bytes_packet = 20\n",
    "print(pos_file)\n",
    "footer_size = len('\\r\\ndata_end\\r\\n')\n",
    "print(footer_size)\n",
    "header_size = len(get_header_bstring(pos_file))\n",
    "num_bytes = os.path.getsize(pos_file) - header_size - footer_size\n",
    "num_packets = num_bytes // bytes_packet\n",
    "print(num_packets)\n",
    "\n",
    "pos = np.ndarray(\n",
    "    shape=(num_packets,), \n",
    "    dtype=('>i2', 8),\n",
    "    buffer=mmpos,\n",
    "    offset=len(get_header_bstring(pos_file)) + 4,\n",
    "    strides=bytes_packet\n",
    ")\n",
    "pos"
   ]
  },
  {
   "cell_type": "code",
   "execution_count": 29,
   "id": "0ea3454b",
   "metadata": {},
   "outputs": [
    {
     "data": {
      "text/plain": [
       "memmap([( 2357,  55, 74, 1023, 1023, 0, 17, 0, 17),\n",
       "        ( 2358,  56, 76, 1023, 1023, 0, 13, 0, 13),\n",
       "        ( 2359,  57, 74, 1023, 1023, 0, 13, 0, 13), ...,\n",
       "        (32357, 217, 93, 1023, 1023, 0, 11, 0, 11),\n",
       "        (32357, 217, 93, 1023, 1023, 0, 11, 0, 11),\n",
       "        (32357, 217, 93, 1023, 1023, 0, 11, 0, 11)],\n",
       "       dtype=[('t', '>i4'), ('X', '>i2'), ('Y', '>i2'), ('x', '>i2'), ('y', '>i2'), ('PX', '>i2'), ('px', '>i2'), ('tot_px', '>i2'), ('unused', '>i2')])"
      ]
     },
     "execution_count": 29,
     "metadata": {},
     "output_type": "execute_result"
    }
   ],
   "source": [
    "np_pos"
   ]
  },
  {
   "cell_type": "code",
   "execution_count": null,
   "id": "64be2ffb",
   "metadata": {},
   "outputs": [],
   "source": []
  },
  {
   "cell_type": "code",
   "execution_count": null,
   "id": "c0bb1dcb",
   "metadata": {},
   "outputs": [],
   "source": []
  },
  {
   "cell_type": "code",
   "execution_count": null,
   "id": "0f40578a",
   "metadata": {},
   "outputs": [],
   "source": []
  },
  {
   "cell_type": "code",
   "execution_count": null,
   "id": "93fc8200",
   "metadata": {},
   "outputs": [],
   "source": []
  },
  {
   "cell_type": "code",
   "execution_count": null,
   "id": "625298a5",
   "metadata": {},
   "outputs": [],
   "source": []
  },
  {
   "cell_type": "code",
   "execution_count": null,
   "id": "397d35e7",
   "metadata": {},
   "outputs": [],
   "source": []
  },
  {
   "cell_type": "markdown",
   "id": "ae7e4f96",
   "metadata": {},
   "source": [
    "Strangely, we get different data values after converting from .bin to .pos using the BinConverter tool. I did not think this was the case with the old data, let's try converting that instead:"
   ]
  },
  {
   "cell_type": "code",
   "execution_count": 43,
   "id": "df54b268",
   "metadata": {},
   "outputs": [
    {
     "name": "stdout",
     "output_type": "stream",
     "text": [
      "position data read from `.bin` file with BinConverter tool:\n",
      "\n",
      " [[2357   55   74 1023 1023    0   17    0   17]\n",
      " [2358   56   76 1023 1023    0   13    0   13]\n",
      " [2359   57   74 1023 1023    0   13    0   13]\n",
      " [2360   54   78 1023 1023    0   12    0   12]]\n",
      "\n",
      "\n",
      "\n",
      "position data read from `.pos` file with numpy (after converting from .bin with BinConverter):\n",
      "\n",
      " [(2357, 55, 74, 1023, 1023, 0, 17, 0, 17)\n",
      " (2358, 56, 76, 1023, 1023, 0, 13, 0, 13)\n",
      " (2359, 57, 74, 1023, 1023, 0, 13, 0, 13)\n",
      " (2360, 54, 78, 1023, 1023, 0, 12, 0, 12)]\n"
     ]
    }
   ],
   "source": [
    "from BinConverter.core.readBin import get_bin_data, get_raw_pos\n",
    "from BinConverter.core.CreatePos import create_pos\n",
    "\n",
    "# Full filename to .bin file\n",
    "bin_filename = '/mnt/d/freelance-work/catalyst-neuro/hussaini-lab-to-nwb/example_data_raw/20201004_Raw.bin'\n",
    "\n",
    "# Read bin file position data with BinConverter and show first 4 rows\n",
    "raw_position = get_raw_pos(bin_filename)\n",
    "print('position data read from `.bin` file with BinConverter tool:\\n\\n', raw_position[0:4, :].astype(int))\n",
    "\n",
    "\n",
    "# Save to .pos file\n",
    "pos_file_from_bin = bin_filename.replace('.bin', '.pos')\n",
    "create_pos(pos_file_from_bin, raw_position)\n",
    "\n",
    "\n",
    "# Read .pos file data and show first 4 rows\n",
    "bytes_packet = 20\n",
    "footer_size = len('\\r\\ndata_end\\r\\n')\n",
    "header_size = len(get_header_bstring(pos_file_from_bin))\n",
    "num_bytes = os.path.getsize(pos_file_from_bin) - header_size - footer_size\n",
    "num_packets = num_bytes // bytes_packet\n",
    "\n",
    "# Set dtypes\n",
    "pos_dt = np.dtype([('t', \">i4\"), ('X', \">i2\"), ('Y', \">i2\"), ('x', \">i2\"), ('y', \">i2\"), \n",
    "                   ('PX', \">i2\"), ('px', \">i2\"), ('tot_px', \">i2\"), ('unused', \">i2\")])\n",
    "\n",
    "# Read position data from .pos file after conversion from .bin\n",
    "np_pos = np.memmap(\n",
    "    filename=pos_file_from_bin,\n",
    "    dtype=pos_dt,\n",
    "    mode='r',\n",
    "    offset=len(get_header_bstring(pos_file_from_bin)),\n",
    "    shape=(num_packets, ),\n",
    ")\n",
    "print('\\n\\n\\nposition data read from `.pos` file with numpy (after converting from .bin with BinConverter):\\n\\n', np_pos[0:4,])\n"
   ]
  },
  {
   "cell_type": "code",
   "execution_count": null,
   "id": "81f02353",
   "metadata": {},
   "outputs": [],
   "source": []
  },
  {
   "cell_type": "code",
   "execution_count": null,
   "id": "bdacfa02",
   "metadata": {},
   "outputs": [],
   "source": []
  }
 ],
 "metadata": {
  "kernelspec": {
   "display_name": "Python3 (hussaini-test-pipeline)",
   "language": "python",
   "name": "hussaini-test-pipeline"
  },
  "language_info": {
   "codemirror_mode": {
    "name": "ipython",
    "version": 3
   },
   "file_extension": ".py",
   "mimetype": "text/x-python",
   "name": "python",
   "nbconvert_exporter": "python",
   "pygments_lexer": "ipython3",
   "version": "3.8.5"
  }
 },
 "nbformat": 4,
 "nbformat_minor": 5
}
