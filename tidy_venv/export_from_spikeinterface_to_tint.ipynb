{
 "cells": [
  {
   "cell_type": "markdown",
   "id": "bearing-polyester",
   "metadata": {},
   "source": [
    "# Explore how to export data to TINT format after spikesorting with spikeinterface\n",
    "\n",
    "Once I understand how to do this with the tools the Hussaini lab uses, I can implement it for spikeinterface. This will be used at the end of the jupyter notebook created in Milestone 2. See `milestone2_modular_pipeline_colab.ipynb`. This is also expressed explicitly in Milestone 4.\n",
    "\n",
    "__Milestone 4__\n",
    "\n",
    "Build software to export into TINT format\n",
    "We will build software that will export the result of the spike sorting pipeline into the TINT format.\n",
    "The exported data will include unit cluster assignment and position data. This data will be\n",
    "readable in gebaSpike and in the TINT program.\n",
    "Time estimate: 60 hours, weeks 10-12"
   ]
  },
  {
   "cell_type": "code",
   "execution_count": null,
   "id": "widespread-ottawa",
   "metadata": {},
   "outputs": [],
   "source": []
  },
  {
   "cell_type": "code",
   "execution_count": null,
   "id": "intermediate-actor",
   "metadata": {},
   "outputs": [],
   "source": []
  },
  {
   "cell_type": "code",
   "execution_count": null,
   "id": "suburban-judgment",
   "metadata": {},
   "outputs": [],
   "source": []
  },
  {
   "cell_type": "code",
   "execution_count": null,
   "id": "isolated-gathering",
   "metadata": {},
   "outputs": [],
   "source": []
  },
  {
   "cell_type": "code",
   "execution_count": null,
   "id": "plastic-width",
   "metadata": {},
   "outputs": [],
   "source": []
  },
  {
   "cell_type": "code",
   "execution_count": null,
   "id": "present-spoke",
   "metadata": {},
   "outputs": [],
   "source": []
  }
 ],
 "metadata": {
  "kernelspec": {
   "display_name": "Python 3",
   "language": "python",
   "name": "python3"
  },
  "language_info": {
   "codemirror_mode": {
    "name": "ipython",
    "version": 3
   },
   "file_extension": ".py",
   "mimetype": "text/x-python",
   "name": "python",
   "nbconvert_exporter": "python",
   "pygments_lexer": "ipython3",
   "version": "3.8.5"
  }
 },
 "nbformat": 4,
 "nbformat_minor": 5
}
