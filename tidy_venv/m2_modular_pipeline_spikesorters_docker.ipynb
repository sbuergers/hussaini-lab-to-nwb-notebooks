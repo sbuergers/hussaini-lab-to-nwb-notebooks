{
 "cells": [
  {
   "cell_type": "markdown",
   "id": "exotic-thumbnail",
   "metadata": {},
   "source": [
    "<a id=\"index\"></a>\n",
    "# A modular processing pipeline for spiking sorting from axona raw data"
   ]
  },
  {
   "cell_type": "markdown",
   "id": "perfect-ability",
   "metadata": {},
   "source": [
    "The notebook largely follows the spiketutorial notebook from the Sep. 2020 developer workshop: https://github.com/SpikeInterface/spiketutorials/blob/master/NWB_Developer_Breakout_Session_Sep2020/SpikeInterface_Tutorial.ipynb"
   ]
  },
  {
   "cell_type": "markdown",
   "id": "vietnamese-hampton",
   "metadata": {},
   "source": [
    "In this notebook we will cover the basics of using SpikeInterface for extracellular analysis and spike sorting comparison for axona raw, axona unit and intan data. We will be using `spikeinterface` from the [SpikeInterface](https://github.com/SpikeInterface) github organization. \n",
    "\n",
    "`spikeinterface` wraps 5 subpackages: `spikeextractors`, `spikesorters`, `spiketoolkit`, `spikecomparison`, and `spikewidgets`.\n",
    "\n",
    "We will show how to\n",
    "1. [Install dependencies](#install_dependencies)\n",
    "2. [load data with spikeextractors](#load_data)\n",
    "3. [Cache data](#cache)\n",
    "5. [Spike sorting](#spike_sorting)\n",
    "6. [Postprocess the signals](#postprocessing)\n",
    "7. [Curate the spike sorting output](#spike_curation) using 1) quality metrics (automatic), 2) [Phy](https://github.com/cortex-lab/phy) (manual), and 3) consensus-based curation\n",
    "8. [Export results to NWB](#export_nwb)\n",
    "9. [Export results to TINT](#export_tint)\n"
   ]
  },
  {
   "cell_type": "markdown",
   "id": "reverse-silence",
   "metadata": {},
   "source": [
    "## Spikesorters docker\n",
    "\n",
    "[`spikesorters_docker`](https://github.com/catalystneuro/spikesorters_docker/) is a test repo for trying to use dockerized environments for spike sorters within spikeinterface, using the [`hither`](https://github.com/flatironinstitute/hither) module. If this works, it would alleviate a headaches from installing different spikesorters coming from dependency issues or lacking Matlab licenses. "
   ]
  },
  {
   "cell_type": "code",
   "execution_count": 3,
   "id": "optical-designer",
   "metadata": {},
   "outputs": [
    {
     "name": "stdout",
     "output_type": "stream",
     "text": [
      "/mnt/d/spikeinterface/hussaini-to-nwb/tidy_venv/venv/bin/python\r\n"
     ]
    }
   ],
   "source": [
    "!which python"
   ]
  },
  {
   "cell_type": "markdown",
   "id": "bisIQYVyr1aT",
   "metadata": {
    "id": "bisIQYVyr1aT"
   },
   "source": [
    "# Import packages"
   ]
  },
  {
   "cell_type": "code",
   "execution_count": null,
   "id": "miniature-symphony",
   "metadata": {},
   "outputs": [],
   "source": [
    "# For trying in docker container\n",
    "import sys\n",
    "import os\n",
    "import numpy as np\n",
    "import matplotlib.pyplot as plt\n",
    "plt.rcParams[\"figure.figsize\"] = (12, 8)\n",
    "plt.rcParams.update({'font.size':20})\n",
    "\n",
    "import spikeextractors as se\n",
    "import spiketoolkit as st\n",
    "import spikesorters as ss\n",
    "\n",
    "print(sys.version, sys.platform, sys.executable)"
   ]
  },
  {
   "cell_type": "code",
   "execution_count": 1,
   "id": "matched-aviation",
   "metadata": {
    "colab": {
     "base_uri": "https://localhost:8080/"
    },
    "id": "matched-aviation",
    "outputId": "19ee9109-a66b-41b7-b02b-b24b4b30889c",
    "scrolled": true
   },
   "outputs": [
    {
     "name": "stderr",
     "output_type": "stream",
     "text": [
      "17:51:19 [I] klustakwik KlustaKwik2 version git-a1d2eaac-dirty\n"
     ]
    },
    {
     "name": "stdout",
     "output_type": "stream",
     "text": [
      "3.8.5 (default, Jan 27 2021, 15:41:15) \n",
      "[GCC 9.3.0] linux /mnt/d/spikeinterface/hussaini-to-nwb/tidy_venv/venv/bin/python3\n"
     ]
    }
   ],
   "source": [
    "# General data handling and visualization\n",
    "import sys\n",
    "import os\n",
    "import numpy as np\n",
    "import matplotlib.pyplot as plt\n",
    "plt.rcParams[\"figure.figsize\"] = (12, 8)\n",
    "plt.rcParams.update({'font.size':20})\n",
    "\n",
    "# SpikeInterface\n",
    "import spikeextractors as se\n",
    "import spikewidgets as sw\n",
    "import spiketoolkit as st\n",
    "import spikesorters as ss\n",
    "import spikesorters_docker as ssd\n",
    "import spikecomparison as sc\n",
    "\n",
    "print(sys.version, sys.platform, sys.executable)"
   ]
  },
  {
   "cell_type": "markdown",
   "id": "large-excerpt",
   "metadata": {
    "id": "large-excerpt"
   },
   "source": [
    "<a id='load_data'></a>\n",
    "# Load data\n",
    "[back to index](#index)"
   ]
  },
  {
   "cell_type": "markdown",
   "id": "ZGnYmYSs7FKP",
   "metadata": {
    "id": "ZGnYmYSs7FKP"
   },
   "source": [
    "Set path and base filename and create an `AxonaRecordingExtractor` instance. The `AxonaRecordingExtractor` will process .bin data together with a .set file. It is sufficient to pass the base filename (without ending), assuming that both files are in the same directory."
   ]
  },
  {
   "cell_type": "code",
   "execution_count": 2,
   "id": "covered-rescue",
   "metadata": {
    "colab": {
     "base_uri": "https://localhost:8080/"
    },
    "id": "covered-rescue",
    "outputId": "6c46c365-0d3b-4e97-db63-a810005bac35"
   },
   "outputs": [
    {
     "name": "stdout",
     "output_type": "stream",
     "text": [
      "/mnt/d/freelance-work/catalyst-neuro/hussaini-lab-to-nwb/example_data_raw/axona_raw_5s\n"
     ]
    },
    {
     "name": "stderr",
     "output_type": "stream",
     "text": [
      "/mnt/d/spikeinterface/hussaini-to-nwb/tidy_venv/venv/lib/python3.8/site-packages/ipykernel/ipkernel.py:283: DeprecationWarning: `should_run_async` will not call `transform_cell` automatically in the future. Please pass the result to `transformed_cell` argument and any exception that happen during thetransform in `preprocessing_exc_tuple` in IPython 7.17 and above.\n",
      "  and should_run_async(code)\n"
     ]
    }
   ],
   "source": [
    "dir_name = r'/mnt/d/freelance-work/catalyst-neuro/hussaini-lab-to-nwb/example_data_raw'\n",
    "base_filename = 'axona_raw_5s'\n",
    "filename = os.path.join(dir_name, base_filename)\n",
    "print(filename)"
   ]
  },
  {
   "cell_type": "code",
   "execution_count": 3,
   "id": "damaged-dimension",
   "metadata": {
    "id": "damaged-dimension"
   },
   "outputs": [
    {
     "name": "stdout",
     "output_type": "stream",
     "text": [
      "Versions are not the same. This might lead to errors. Use  spikeextractors version 0.9.5\n"
     ]
    }
   ],
   "source": [
    "r_cache = se.load_extractor_from_pickle(os.path.join(dir_name, 'cached_data_preproc.pkl'))"
   ]
  },
  {
   "cell_type": "code",
   "execution_count": 4,
   "id": "widespread-storage",
   "metadata": {
    "colab": {
     "base_uri": "https://localhost:8080/"
    },
    "id": "widespread-storage",
    "outputId": "6b0dd01b-a6b3-45fc-d646-fa19d5ce42d8"
   },
   "outputs": [
    {
     "name": "stdout",
     "output_type": "stream",
     "text": [
      "Cached channels: [4, 5, 6, 7, 8, 9, 10, 11, 12, 13, 14, 15]\n",
      "Cached channels ids: [4, 5, 6, 7, 8, 9, 10, 11, 12, 13, 14, 15]\n",
      "Channel groups after caching: [1 1 1 1 2 2 2 2 3 3 3 3]\n",
      "Duration of recording in seconds: 2.0\n"
     ]
    }
   ],
   "source": [
    "print(f'Cached channels: {r_cache.get_channel_ids()}')\n",
    "print(f'Cached channels ids: {r_cache.get_channel_ids()}')\n",
    "print(f'Channel groups after caching: {r_cache.get_channel_groups()}')\n",
    "print('Duration of recording in seconds: {}'.format(r_cache.get_num_frames() / r_cache.get_sampling_frequency()))"
   ]
  },
  {
   "cell_type": "markdown",
   "id": "hourly-carol",
   "metadata": {},
   "source": [
    "**IMPORTANT**: the same caching/dumping mechanisms are available also for all `SortingExtractor` objects."
   ]
  },
  {
   "cell_type": "markdown",
   "id": "federal-definition",
   "metadata": {
    "id": "federal-definition"
   },
   "source": [
    "<a id='spike_sorting'></a>\n",
    "# Spike sorting\n",
    "[back to index](#index)"
   ]
  },
  {
   "cell_type": "markdown",
   "id": "gothic-evidence",
   "metadata": {},
   "source": [
    "From https://github.com/catalystneuro/spikesorters_docker/blob/main/spikesorters_docker/sorters_containerized.py"
   ]
  },
  {
   "cell_type": "code",
   "execution_count": 14,
   "id": "controversial-jesus",
   "metadata": {},
   "outputs": [],
   "source": [
    "from pathlib import Path\n",
    "import hither2 as hither\n",
    "import time\n",
    "import numpy as np\n",
    "import spikesorters as ss\n",
    "import spikeextractors as se\n",
    "from spikesorters_docker.default_docker_images import default_docker_images"
   ]
  },
  {
   "cell_type": "code",
   "execution_count": 15,
   "id": "stretch-decrease",
   "metadata": {},
   "outputs": [],
   "source": [
    "def run_sorter(sorter_name, recording, output_folder, delete_output_folder=False,\n",
    "               grouping_property=None, parallel=False, verbose=False, raise_error=True, n_jobs=-1,\n",
    "               joblib_backend='loky', use_docker=True, container=None,\n",
    "               **params):\n",
    "    output_folder = Path(output_folder)\n",
    "    recording_json = output_folder / \"recording_input.json\"\n",
    "    sorting_json = output_folder / \"sorting_output.json\"\n",
    "\n",
    "    # dump recording\n",
    "    recording.dump_to_json(output_folder / \"recording_input.json\")\n",
    "\n",
    "    if use_docker:\n",
    "        if container is None:\n",
    "            assert sorter_name in default_docker_images, f\"Default docker image for {sorter_name} not found\"\n",
    "            docker_image = default_docker_images[sorter_name]\n",
    "\n",
    "        print(f\"Running in docker image {docker_image}\")\n",
    "        # define hither function with container at run time\n",
    "        @hither.function('run_sorter_docker_with_container', '0.1.0', image=docker_image)\n",
    "        # @hither.container(docker_image)\n",
    "        def run_sorter_docker_with_container(\n",
    "                recording_json, sorter_name, **kwargs\n",
    "        ):\n",
    "            recording = se.load_extractor_from_json(recording_json)\n",
    "            # run sorter\n",
    "            t_start = time.time()\n",
    "            sorting = ss.run_sorter(sorter_name, recording, **kwargs)\n",
    "            t_stop = time.time()\n",
    "            print(f'{sorter_name} run time {np.round(t_stop - t_start)}s')\n",
    "            output_folder = Path(kwargs['output_folder'])\n",
    "            sorting.dump_to_json(output_folder / 'sorting_output.json')\n",
    "\n",
    "        sorting_job = run_sorter_docker_with_container.run(recording_json=recording_json, sorter_name=sorter_name,\n",
    "                                                           output_folder=output_folder,\n",
    "                                                           delete_output_folder=delete_output_folder,\n",
    "                                                           grouping_property=grouping_property, parallel=parallel,\n",
    "                                                           verbose=verbose, raise_error=raise_error, n_jobs=n_jobs,\n",
    "                                                           joblib_backend=joblib_backend,\n",
    "                                                           **params)\n",
    "        sorting_job.wait()\n",
    "        sorting = se.load_extractor_from_json(sorting_json)\n",
    "    else:\n",
    "        sorting = None\n",
    "        print('Standard sorting is turned off, sorry!')\n",
    "\n",
    "    return sorting"
   ]
  },
  {
   "cell_type": "code",
   "execution_count": 20,
   "id": "attempted-clinic",
   "metadata": {},
   "outputs": [
    {
     "name": "stdout",
     "output_type": "stream",
     "text": [
      "Running in docker image docker://spikeinterface/klusta:0.1.0\n",
      "HITHER JOBS: 1 pending; 0 queued; 1 running; 3 finished; 1 errored; 0 cache hits\n",
      "Elapsed time for manage-pending-jobs: 7.563678979873657 sec\n",
      "Found 8 units\n"
     ]
    }
   ],
   "source": [
    "sorting_KL_all = run_sorter(\n",
    "    sorter_name='klusta',\n",
    "    recording=r_cache, \n",
    "    output_folder=os.path.join(dir_name, 'klusta'), \n",
    "    adjacency_radius=50, \n",
    "    verbose=True, \n",
    "    threshold_weak_std_factor=3,\n",
    "    use_docker=True\n",
    ")\n",
    "print('Found', len(sorting_KL_all.get_unit_ids()), 'units')"
   ]
  },
  {
   "cell_type": "code",
   "execution_count": 22,
   "id": "rural-examination",
   "metadata": {},
   "outputs": [
    {
     "name": "stdout",
     "output_type": "stream",
     "text": [
      "Running in docker image docker://spikeinterface/herdingspikes:0.1.0\n",
      "HITHER JOBS: 1 pending; 0 queued; 1 running; 4 finished; 2 errored; 0 cache hits\n",
      "Elapsed time for manage-pending-jobs: 2.240556001663208 sec\n"
     ]
    },
    {
     "ename": "Exception",
     "evalue": "Error in run_sorter_docker_with_container (0.1.0): Spike sorting failed: 'DataFrame' object has no attribute 'cl'. You can inspect the runtime trace in the herdingspikes.log of the output folder.'",
     "output_type": "error",
     "traceback": [
      "\u001b[0;31m---------------------------------------------------------------------------\u001b[0m",
      "\u001b[0;31mException\u001b[0m                                 Traceback (most recent call last)",
      "\u001b[0;32m<ipython-input-22-6a77eff24e64>\u001b[0m in \u001b[0;36m<module>\u001b[0;34m\u001b[0m\n\u001b[0;32m----> 1\u001b[0;31m sorting_HS = run_sorter(\n\u001b[0m\u001b[1;32m      2\u001b[0m     \u001b[0msorter_name\u001b[0m\u001b[0;34m=\u001b[0m\u001b[0;34m'herdingspikes'\u001b[0m\u001b[0;34m,\u001b[0m\u001b[0;34m\u001b[0m\u001b[0;34m\u001b[0m\u001b[0m\n\u001b[1;32m      3\u001b[0m     \u001b[0mrecording\u001b[0m\u001b[0;34m=\u001b[0m\u001b[0mr_cache\u001b[0m\u001b[0;34m,\u001b[0m\u001b[0;34m\u001b[0m\u001b[0;34m\u001b[0m\u001b[0m\n\u001b[1;32m      4\u001b[0m     \u001b[0moutput_folder\u001b[0m\u001b[0;34m=\u001b[0m\u001b[0mos\u001b[0m\u001b[0;34m.\u001b[0m\u001b[0mpath\u001b[0m\u001b[0;34m.\u001b[0m\u001b[0mjoin\u001b[0m\u001b[0;34m(\u001b[0m\u001b[0mdir_name\u001b[0m\u001b[0;34m,\u001b[0m \u001b[0;34m'herdingspikes'\u001b[0m\u001b[0;34m)\u001b[0m\u001b[0;34m,\u001b[0m\u001b[0;34m\u001b[0m\u001b[0;34m\u001b[0m\u001b[0m\n\u001b[1;32m      5\u001b[0m     \u001b[0mverbose\u001b[0m\u001b[0;34m=\u001b[0m\u001b[0;32mTrue\u001b[0m\u001b[0;34m,\u001b[0m\u001b[0;34m\u001b[0m\u001b[0;34m\u001b[0m\u001b[0m\n",
      "\u001b[0;32m<ipython-input-15-ca04b2c212d1>\u001b[0m in \u001b[0;36mrun_sorter\u001b[0;34m(sorter_name, recording, output_folder, delete_output_folder, grouping_property, parallel, verbose, raise_error, n_jobs, joblib_backend, use_docker, container, **params)\u001b[0m\n\u001b[1;32m     38\u001b[0m                                                            \u001b[0mjoblib_backend\u001b[0m\u001b[0;34m=\u001b[0m\u001b[0mjoblib_backend\u001b[0m\u001b[0;34m,\u001b[0m\u001b[0;34m\u001b[0m\u001b[0;34m\u001b[0m\u001b[0m\n\u001b[1;32m     39\u001b[0m                                                            **params)\n\u001b[0;32m---> 40\u001b[0;31m         \u001b[0msorting_job\u001b[0m\u001b[0;34m.\u001b[0m\u001b[0mwait\u001b[0m\u001b[0;34m(\u001b[0m\u001b[0;34m)\u001b[0m\u001b[0;34m\u001b[0m\u001b[0;34m\u001b[0m\u001b[0m\n\u001b[0m\u001b[1;32m     41\u001b[0m         \u001b[0msorting\u001b[0m \u001b[0;34m=\u001b[0m \u001b[0mse\u001b[0m\u001b[0;34m.\u001b[0m\u001b[0mload_extractor_from_json\u001b[0m\u001b[0;34m(\u001b[0m\u001b[0msorting_json\u001b[0m\u001b[0;34m)\u001b[0m\u001b[0;34m\u001b[0m\u001b[0;34m\u001b[0m\u001b[0m\n\u001b[1;32m     42\u001b[0m     \u001b[0;32melse\u001b[0m\u001b[0;34m:\u001b[0m\u001b[0;34m\u001b[0m\u001b[0;34m\u001b[0m\u001b[0m\n",
      "\u001b[0;32m/mnt/d/spikeinterface/hussaini-to-nwb/tidy_venv/venv/lib/python3.8/site-packages/hither-0.5.15-py3.8.egg/hither2/_job.py\u001b[0m in \u001b[0;36mwait\u001b[0;34m(self, timeout_sec)\u001b[0m\n\u001b[1;32m    160\u001b[0m                 \u001b[0me\u001b[0m \u001b[0;34m=\u001b[0m \u001b[0mself\u001b[0m\u001b[0;34m.\u001b[0m\u001b[0m_result\u001b[0m\u001b[0;34m.\u001b[0m\u001b[0m_error\u001b[0m\u001b[0;34m\u001b[0m\u001b[0;34m\u001b[0m\u001b[0m\n\u001b[1;32m    161\u001b[0m                 \u001b[0;32massert\u001b[0m \u001b[0me\u001b[0m \u001b[0;32mis\u001b[0m \u001b[0;32mnot\u001b[0m \u001b[0;32mNone\u001b[0m\u001b[0;34m\u001b[0m\u001b[0;34m\u001b[0m\u001b[0m\n\u001b[0;32m--> 162\u001b[0;31m                 \u001b[0;32mraise\u001b[0m \u001b[0mException\u001b[0m\u001b[0;34m(\u001b[0m\u001b[0;34mf'Error in {self.function_name} ({self.function_version}): {str(e)}'\u001b[0m\u001b[0;34m)\u001b[0m\u001b[0;34m\u001b[0m\u001b[0;34m\u001b[0m\u001b[0m\n\u001b[0m\u001b[1;32m    163\u001b[0m             \u001b[0;32melse\u001b[0m\u001b[0;34m:\u001b[0m\u001b[0;34m\u001b[0m\u001b[0;34m\u001b[0m\u001b[0m\n\u001b[1;32m    164\u001b[0m                 \u001b[0mtime\u001b[0m\u001b[0;34m.\u001b[0m\u001b[0msleep\u001b[0m\u001b[0;34m(\u001b[0m\u001b[0;36m0.05\u001b[0m\u001b[0;34m)\u001b[0m\u001b[0;34m\u001b[0m\u001b[0;34m\u001b[0m\u001b[0m\n",
      "\u001b[0;31mException\u001b[0m: Error in run_sorter_docker_with_container (0.1.0): Spike sorting failed: 'DataFrame' object has no attribute 'cl'. You can inspect the runtime trace in the herdingspikes.log of the output folder.'"
     ]
    }
   ],
   "source": [
    "sorting_HS = run_sorter(\n",
    "    sorter_name='herdingspikes',\n",
    "    recording=r_cache,\n",
    "    output_folder=os.path.join(dir_name, 'herdingspikes'),\n",
    "    verbose=True,\n",
    "    use_docker=True\n",
    ")\n",
    "print('Found', len(sorting_HS.get_unit_ids()), 'units')"
   ]
  },
  {
   "cell_type": "code",
   "execution_count": null,
   "id": "meaning-conversation",
   "metadata": {},
   "outputs": [],
   "source": []
  },
  {
   "cell_type": "markdown",
   "id": "initial-richards",
   "metadata": {
    "id": "initial-richards"
   },
   "source": [
    "### Klusta"
   ]
  },
  {
   "cell_type": "code",
   "execution_count": 5,
   "id": "respected-brass",
   "metadata": {
    "id": "respected-brass",
    "outputId": "07ceab1d-e24c-4622-8581-96938f689dcc"
   },
   "outputs": [
    {
     "name": "stdout",
     "output_type": "stream",
     "text": [
      "Running in docker image docker://spikeinterface/klusta:0.1.0\n"
     ]
    },
    {
     "name": "stderr",
     "output_type": "stream",
     "text": [
      "/mnt/d/spikeinterface/hussaini-to-nwb/tidy_venv/spikeextractors/spikeextractors/baseextractor.py:607: DeprecationWarning: `np.int` is a deprecated alias for the builtin `int`. To silence this warning, use `int` by itself. Doing this will not modify any behavior and is safe. When replacing `np.int`, you may wish to use e.g. `np.int64` or `np.int32` to specify the precision. If you wish to review your current use, check the release note link for additional information.\n",
      "Deprecated in NumPy 1.20; for more details and guidance: https://numpy.org/devdocs/release/1.20.0-notes.html#deprecations\n",
      "  elif isinstance(v, (np.int, np.int32, np.int64)):\n",
      "/mnt/d/spikeinterface/hussaini-to-nwb/tidy_venv/spikeextractors/spikeextractors/baseextractor.py:609: DeprecationWarning: `np.float` is a deprecated alias for the builtin `float`. To silence this warning, use `float` by itself. Doing this will not modify any behavior and is safe. If you specifically wanted the numpy scalar type, use `np.float64` here.\n",
      "Deprecated in NumPy 1.20; for more details and guidance: https://numpy.org/devdocs/release/1.20.0-notes.html#deprecations\n",
      "  elif isinstance(v, (np.float, np.float32, np.float64)):\n"
     ]
    },
    {
     "name": "stdout",
     "output_type": "stream",
     "text": [
      "Elapsed time for manage-pending-jobs: 9.121309041976929 sec\n",
      "HITHER JOBS: 0 pending; 0 queued; 0 running; 1 finished; 0 errored; 0 cache hits\n",
      "Found 7 units\n"
     ]
    }
   ],
   "source": [
    "sorting_KL_all = ssd.run_klusta(\n",
    "    r_cache, \n",
    "    output_folder=os.path.join(dir_name, 'klusta'), \n",
    "    adjacency_radius=50, \n",
    "    verbose=True, \n",
    "    threshold_weak_std_factor=3,\n",
    "    use_docker=True\n",
    ")\n",
    "print('Found', len(sorting_KL_all.get_unit_ids()), 'units')"
   ]
  },
  {
   "cell_type": "markdown",
   "id": "organic-czech",
   "metadata": {},
   "source": [
    "Since we have tetrodes and we know that they are physically apart, we would like to sort them separately as follows:"
   ]
  },
  {
   "cell_type": "code",
   "execution_count": 6,
   "id": "original-bacteria",
   "metadata": {
    "id": "original-bacteria",
    "outputId": "fc3e8035-70aa-414a-8840-f3681f32682a"
   },
   "outputs": [
    {
     "name": "stdout",
     "output_type": "stream",
     "text": [
      "Running in docker image docker://spikeinterface/klusta:0.1.0\n",
      "Elapsed time for manage-pending-jobs: 15.917546033859253 sec\n",
      "HITHER JOBS: 0 pending; 0 queued; 0 running; 2 finished; 0 errored; 0 cache hits\n",
      "Klusta found 10 units\n"
     ]
    }
   ],
   "source": [
    "sorting_KL = ssd.run_klusta(\n",
    "    r_cache, \n",
    "    adjacency_radius=50, \n",
    "    output_folder=os.path.join(dir_name, 'klusta_by_group'), \n",
    "    grouping_property='group', \n",
    "    parallel=True, \n",
    "    threshold_weak_std_factor=3,\n",
    "    use_docker=True\n",
    ")\n",
    "print(f'Klusta found {len(sorting_KL.get_unit_ids())} units')"
   ]
  },
  {
   "cell_type": "code",
   "execution_count": 7,
   "id": "polar-bubble",
   "metadata": {},
   "outputs": [
    {
     "name": "stdout",
     "output_type": "stream",
     "text": [
      "<class 'spikeextractors.multisortingextractor.MultiSortingExtractor'>\n",
      "<class 'spikeextractors.extractors.klustaextractors.klustaextractors.KlustaSortingExtractor'>\n"
     ]
    }
   ],
   "source": [
    "#print(type(sorting_KL_all))\n",
    "print(type(sorting_KL))\n",
    "print(type(sorting_KL.sortings[0]))"
   ]
  },
  {
   "cell_type": "code",
   "execution_count": 8,
   "id": "shaped-mandate",
   "metadata": {
    "id": "shaped-mandate",
    "outputId": "f22449fd-586e-467a-9fd6-cd7e97b572a8"
   },
   "outputs": [
    {
     "name": "stdout",
     "output_type": "stream",
     "text": [
      "Klusta unit ids (no groups): [0, 2, 3, 4, 5, 6, 7]\n",
      "Klusta unit ids (with groups): [0, 1, 2, 3, 4, 5, 6, 7, 8, 9]\n"
     ]
    }
   ],
   "source": [
    "print(f'Klusta unit ids (no groups): {sorting_KL_all.get_unit_ids()}')\n",
    "print(f'Klusta unit ids (with groups): {sorting_KL.get_unit_ids()}')"
   ]
  },
  {
   "cell_type": "code",
   "execution_count": 9,
   "id": "rapid-energy",
   "metadata": {
    "id": "rapid-energy",
    "outputId": "c47c0fe7-2d9e-4b04-9f0b-873d697e4091"
   },
   "outputs": [
    {
     "name": "stdout",
     "output_type": "stream",
     "text": [
      "Spike train of a unit: [  263   667  1277  1349  1495  1754  2055  2262  2460  3167  3401  4438\n",
      "  6008  6866  7624  7906  8207  8255  8393  9286  9388  9428  9471  9635\n",
      "  9658  9691  9836  9900 10552 11569 12016 13055 13652 14937 15586 15627\n",
      " 16612 16725 16880 17037 17332 17409 17452 17601 17711 18053 18221 18227\n",
      " 18339 18368 18540 18884 18899 19076 19131 19465 19501 19589 19740 20227\n",
      " 21693 22143 22279 22551 22822 22852 23119 23198 23311 23328 23384 23434\n",
      " 23491 23507 23576 23614 23699 23745 23786 23806 23847 23857 23923 23944\n",
      " 23982 24037 24067 24164 24270 24316 24913 24931 25062 25088 25656 25749\n",
      " 25803 25816 25863 25900 26001 26078 26102 26115 26216 26258 26288 26330\n",
      " 26384 26396 26425 26466 26499 26614 27394 27646 27912 27957 28378 29118\n",
      " 29488 29619 29688 29794 30224 30359 30418 30479 30798 30858 30992 31538\n",
      " 31711 31890 32089 32140 32302 32924 33469 33524 33647 33784 33881 33983\n",
      " 34075 34111 34295 34321 34660 34670 34734 34818 35055 35381 35531 35626\n",
      " 35674 35839 35912 35957 35991 36014 36298 36327 36475 36705 36980 37416\n",
      " 37469 37533 37565 37705 37966 37988 38679 38751 38845 38920 38936 39047\n",
      " 39143 39180 39294 39415 39429 39507 39530 39602 39755 39799 39824 39907\n",
      " 40001 40017 40116 40180 40296 40513 41486 41732 41815 42023 42196 42328\n",
      " 42781 42843 43009 43172 43601 43796 44066 44212 44326 44445 44715 45267\n",
      " 45313 45720 46228 46455 46528 46698 46725 47101 47187 47239 47588 47809\n",
      " 47903 47956 48012 48061 48156 48276 48458 48586 48611 48859 48905 48965\n",
      " 49112 49307 49418 49588 49792 49815 49833 49909 49998 50124 50166 50187\n",
      " 50210 50216 50267 50279 50576 50643 50850 51186 51345 51473 51482 51522\n",
      " 51611 51833 51909 51915 51937 51947 51997 52018 52138 52259 52325 52602\n",
      " 52764 52776 52848 52915 52959 53309 53330 53362 53419 53487 53522 53660\n",
      " 53688 53694 53733 53750 53789 53870 53890 53925 53952 54084 54165 54208\n",
      " 54239 54488 54529 54603 54747 54761 54814 54843 55119 55173 55219 55285\n",
      " 55297 55356 55392 55424 55536 55654 55667 55811 55864 56024 56102 56192\n",
      " 56255 56400 56697 56734 56917 56983 57492 57590 57665 57757 57799 58205\n",
      " 58266 58339 58558 58625 58714 58953 59100 59182 59315 59336 59572 59651\n",
      " 59694 59855 59902 59942 60199 60275 60373 60420 60664 60950 61355 61396\n",
      " 61498 61566 61673 62012 62063 62134 62208 62283 62352 62419 62500 63239\n",
      " 63361 63416 63799 63821 63892 64371 64596 64769 64886 65044 65182 65450\n",
      " 65739 65783 66182 66397 66502 66533 66798 66848 66969 67013 67072 67158\n",
      " 67219 67290 67332 67384 67442 67559 67785 67803 67939 68246 68685 68962\n",
      " 69214 69614 69627 69784 69846 70032 70087 70114 70174 70262 70296 70470\n",
      " 70662 70711 70751 70854 70954 70961 71163 71517 71850 72203 72243 72293\n",
      " 72371 72513 72655 72751 73038 73153 73244 73622 73795 74022 74056 74634\n",
      " 74691 74778 74885 74936 74993 75031 75048 75110 75178 75427 75460 75504\n",
      " 75746 76123 76246 76296 76314 76613 76822 76922 77137 77286 77705 78019\n",
      " 78072 78530 78695 78907 79077 79230 79401 79580 79682 80012 80169 80208\n",
      " 80251 80336 80575 80701 80879 80912 81712 81817 82225 82491 82593 82706\n",
      " 82843 83001 83064 83288 83377 83400 83803 83897 84001 84303 84352 84417\n",
      " 84474 84649 84858 84883 84918 84969 85753 85887 85896 86555 87357 87411\n",
      " 87595 87737 88221 88326 88489 88583 88648 89359 89423 89438 89520 89654\n",
      " 89890 90445 90495 90663 90805 91110 91346 91619 91699 91898 91963 92071\n",
      " 92234 92249 92371 92464 92570 92602 92657 92733 93708 93769 94140 94150\n",
      " 94422 94448 94584 94639 94687 94769 94849 95154 95706 95773]\n"
     ]
    }
   ],
   "source": [
    "print(f'Spike train of a unit: {sorting_KL.get_unit_spike_train(1)}')"
   ]
  },
  {
   "cell_type": "code",
   "execution_count": 10,
   "id": "dirty-science",
   "metadata": {
    "id": "dirty-science",
    "outputId": "7f049acc-0fa0-4e59-9086-ba62181c54eb"
   },
   "outputs": [
    {
     "name": "stderr",
     "output_type": "stream",
     "text": [
      "/mnt/d/spikeinterface/hussaini-to-nwb/tidy_venv/spikeextractors/spikeextractors/extraction_tools.py:838: DeprecationWarning: `np.float` is a deprecated alias for the builtin `float`. To silence this warning, use `float` by itself. Doing this will not modify any behavior and is safe. If you specifically wanted the numpy scalar type, use `np.float64` here.\n",
      "Deprecated in NumPy 1.20; for more details and guidance: https://numpy.org/devdocs/release/1.20.0-notes.html#deprecations\n",
      "  if isinstance(start_frame, (float, np.float)):\n",
      "/mnt/d/spikeinterface/hussaini-to-nwb/tidy_venv/spikeextractors/spikeextractors/extraction_tools.py:844: DeprecationWarning: `np.float` is a deprecated alias for the builtin `float`. To silence this warning, use `float` by itself. Doing this will not modify any behavior and is safe. If you specifically wanted the numpy scalar type, use `np.float64` here.\n",
      "Deprecated in NumPy 1.20; for more details and guidance: https://numpy.org/devdocs/release/1.20.0-notes.html#deprecations\n",
      "  if isinstance(end_frame, (float, np.float)) and np.isfinite(end_frame):\n",
      "/mnt/d/spikeinterface/hussaini-to-nwb/tidy_venv/spikeextractors/spikeextractors/extraction_tools.py:838: DeprecationWarning: `np.float` is a deprecated alias for the builtin `float`. To silence this warning, use `float` by itself. Doing this will not modify any behavior and is safe. If you specifically wanted the numpy scalar type, use `np.float64` here.\n",
      "Deprecated in NumPy 1.20; for more details and guidance: https://numpy.org/devdocs/release/1.20.0-notes.html#deprecations\n",
      "  if isinstance(start_frame, (float, np.float)):\n",
      "/mnt/d/spikeinterface/hussaini-to-nwb/tidy_venv/spikeextractors/spikeextractors/extraction_tools.py:844: DeprecationWarning: `np.float` is a deprecated alias for the builtin `float`. To silence this warning, use `float` by itself. Doing this will not modify any behavior and is safe. If you specifically wanted the numpy scalar type, use `np.float64` here.\n",
      "Deprecated in NumPy 1.20; for more details and guidance: https://numpy.org/devdocs/release/1.20.0-notes.html#deprecations\n",
      "  if isinstance(end_frame, (float, np.float)) and np.isfinite(end_frame):\n",
      "/mnt/d/spikeinterface/hussaini-to-nwb/tidy_venv/spikeextractors/spikeextractors/extraction_tools.py:838: DeprecationWarning: `np.float` is a deprecated alias for the builtin `float`. To silence this warning, use `float` by itself. Doing this will not modify any behavior and is safe. If you specifically wanted the numpy scalar type, use `np.float64` here.\n",
      "Deprecated in NumPy 1.20; for more details and guidance: https://numpy.org/devdocs/release/1.20.0-notes.html#deprecations\n",
      "  if isinstance(start_frame, (float, np.float)):\n",
      "/mnt/d/spikeinterface/hussaini-to-nwb/tidy_venv/spikeextractors/spikeextractors/extraction_tools.py:844: DeprecationWarning: `np.float` is a deprecated alias for the builtin `float`. To silence this warning, use `float` by itself. Doing this will not modify any behavior and is safe. If you specifically wanted the numpy scalar type, use `np.float64` here.\n",
      "Deprecated in NumPy 1.20; for more details and guidance: https://numpy.org/devdocs/release/1.20.0-notes.html#deprecations\n",
      "  if isinstance(end_frame, (float, np.float)) and np.isfinite(end_frame):\n",
      "/mnt/d/spikeinterface/hussaini-to-nwb/tidy_venv/spikeextractors/spikeextractors/extraction_tools.py:838: DeprecationWarning: `np.float` is a deprecated alias for the builtin `float`. To silence this warning, use `float` by itself. Doing this will not modify any behavior and is safe. If you specifically wanted the numpy scalar type, use `np.float64` here.\n",
      "Deprecated in NumPy 1.20; for more details and guidance: https://numpy.org/devdocs/release/1.20.0-notes.html#deprecations\n",
      "  if isinstance(start_frame, (float, np.float)):\n",
      "/mnt/d/spikeinterface/hussaini-to-nwb/tidy_venv/spikeextractors/spikeextractors/extraction_tools.py:844: DeprecationWarning: `np.float` is a deprecated alias for the builtin `float`. To silence this warning, use `float` by itself. Doing this will not modify any behavior and is safe. If you specifically wanted the numpy scalar type, use `np.float64` here.\n",
      "Deprecated in NumPy 1.20; for more details and guidance: https://numpy.org/devdocs/release/1.20.0-notes.html#deprecations\n",
      "  if isinstance(end_frame, (float, np.float)) and np.isfinite(end_frame):\n",
      "/mnt/d/spikeinterface/hussaini-to-nwb/tidy_venv/spikeextractors/spikeextractors/extraction_tools.py:838: DeprecationWarning: `np.float` is a deprecated alias for the builtin `float`. To silence this warning, use `float` by itself. Doing this will not modify any behavior and is safe. If you specifically wanted the numpy scalar type, use `np.float64` here.\n",
      "Deprecated in NumPy 1.20; for more details and guidance: https://numpy.org/devdocs/release/1.20.0-notes.html#deprecations\n",
      "  if isinstance(start_frame, (float, np.float)):\n",
      "/mnt/d/spikeinterface/hussaini-to-nwb/tidy_venv/spikeextractors/spikeextractors/extraction_tools.py:844: DeprecationWarning: `np.float` is a deprecated alias for the builtin `float`. To silence this warning, use `float` by itself. Doing this will not modify any behavior and is safe. If you specifically wanted the numpy scalar type, use `np.float64` here.\n",
      "Deprecated in NumPy 1.20; for more details and guidance: https://numpy.org/devdocs/release/1.20.0-notes.html#deprecations\n",
      "  if isinstance(end_frame, (float, np.float)) and np.isfinite(end_frame):\n",
      "/mnt/d/spikeinterface/hussaini-to-nwb/tidy_venv/spikeextractors/spikeextractors/extraction_tools.py:838: DeprecationWarning: `np.float` is a deprecated alias for the builtin `float`. To silence this warning, use `float` by itself. Doing this will not modify any behavior and is safe. If you specifically wanted the numpy scalar type, use `np.float64` here.\n",
      "Deprecated in NumPy 1.20; for more details and guidance: https://numpy.org/devdocs/release/1.20.0-notes.html#deprecations\n",
      "  if isinstance(start_frame, (float, np.float)):\n",
      "/mnt/d/spikeinterface/hussaini-to-nwb/tidy_venv/spikeextractors/spikeextractors/extraction_tools.py:844: DeprecationWarning: `np.float` is a deprecated alias for the builtin `float`. To silence this warning, use `float` by itself. Doing this will not modify any behavior and is safe. If you specifically wanted the numpy scalar type, use `np.float64` here.\n",
      "Deprecated in NumPy 1.20; for more details and guidance: https://numpy.org/devdocs/release/1.20.0-notes.html#deprecations\n",
      "  if isinstance(end_frame, (float, np.float)) and np.isfinite(end_frame):\n",
      "/mnt/d/spikeinterface/hussaini-to-nwb/tidy_venv/spikeextractors/spikeextractors/extraction_tools.py:838: DeprecationWarning: `np.float` is a deprecated alias for the builtin `float`. To silence this warning, use `float` by itself. Doing this will not modify any behavior and is safe. If you specifically wanted the numpy scalar type, use `np.float64` here.\n",
      "Deprecated in NumPy 1.20; for more details and guidance: https://numpy.org/devdocs/release/1.20.0-notes.html#deprecations\n",
      "  if isinstance(start_frame, (float, np.float)):\n",
      "/mnt/d/spikeinterface/hussaini-to-nwb/tidy_venv/spikeextractors/spikeextractors/extraction_tools.py:844: DeprecationWarning: `np.float` is a deprecated alias for the builtin `float`. To silence this warning, use `float` by itself. Doing this will not modify any behavior and is safe. If you specifically wanted the numpy scalar type, use `np.float64` here.\n",
      "Deprecated in NumPy 1.20; for more details and guidance: https://numpy.org/devdocs/release/1.20.0-notes.html#deprecations\n",
      "  if isinstance(end_frame, (float, np.float)) and np.isfinite(end_frame):\n",
      "/mnt/d/spikeinterface/hussaini-to-nwb/tidy_venv/spikeextractors/spikeextractors/extraction_tools.py:838: DeprecationWarning: `np.float` is a deprecated alias for the builtin `float`. To silence this warning, use `float` by itself. Doing this will not modify any behavior and is safe. If you specifically wanted the numpy scalar type, use `np.float64` here.\n",
      "Deprecated in NumPy 1.20; for more details and guidance: https://numpy.org/devdocs/release/1.20.0-notes.html#deprecations\n",
      "  if isinstance(start_frame, (float, np.float)):\n",
      "/mnt/d/spikeinterface/hussaini-to-nwb/tidy_venv/spikeextractors/spikeextractors/extraction_tools.py:844: DeprecationWarning: `np.float` is a deprecated alias for the builtin `float`. To silence this warning, use `float` by itself. Doing this will not modify any behavior and is safe. If you specifically wanted the numpy scalar type, use `np.float64` here.\n",
      "Deprecated in NumPy 1.20; for more details and guidance: https://numpy.org/devdocs/release/1.20.0-notes.html#deprecations\n",
      "  if isinstance(end_frame, (float, np.float)) and np.isfinite(end_frame):\n",
      "/mnt/d/spikeinterface/hussaini-to-nwb/tidy_venv/spikeextractors/spikeextractors/extraction_tools.py:838: DeprecationWarning: `np.float` is a deprecated alias for the builtin `float`. To silence this warning, use `float` by itself. Doing this will not modify any behavior and is safe. If you specifically wanted the numpy scalar type, use `np.float64` here.\n",
      "Deprecated in NumPy 1.20; for more details and guidance: https://numpy.org/devdocs/release/1.20.0-notes.html#deprecations\n",
      "  if isinstance(start_frame, (float, np.float)):\n",
      "/mnt/d/spikeinterface/hussaini-to-nwb/tidy_venv/spikeextractors/spikeextractors/extraction_tools.py:844: DeprecationWarning: `np.float` is a deprecated alias for the builtin `float`. To silence this warning, use `float` by itself. Doing this will not modify any behavior and is safe. If you specifically wanted the numpy scalar type, use `np.float64` here.\n",
      "Deprecated in NumPy 1.20; for more details and guidance: https://numpy.org/devdocs/release/1.20.0-notes.html#deprecations\n",
      "  if isinstance(end_frame, (float, np.float)) and np.isfinite(end_frame):\n",
      "/mnt/d/spikeinterface/hussaini-to-nwb/tidy_venv/spikeextractors/spikeextractors/extraction_tools.py:838: DeprecationWarning: `np.float` is a deprecated alias for the builtin `float`. To silence this warning, use `float` by itself. Doing this will not modify any behavior and is safe. If you specifically wanted the numpy scalar type, use `np.float64` here.\n",
      "Deprecated in NumPy 1.20; for more details and guidance: https://numpy.org/devdocs/release/1.20.0-notes.html#deprecations\n",
      "  if isinstance(start_frame, (float, np.float)):\n",
      "/mnt/d/spikeinterface/hussaini-to-nwb/tidy_venv/spikeextractors/spikeextractors/extraction_tools.py:844: DeprecationWarning: `np.float` is a deprecated alias for the builtin `float`. To silence this warning, use `float` by itself. Doing this will not modify any behavior and is safe. If you specifically wanted the numpy scalar type, use `np.float64` here.\n",
      "Deprecated in NumPy 1.20; for more details and guidance: https://numpy.org/devdocs/release/1.20.0-notes.html#deprecations\n",
      "  if isinstance(end_frame, (float, np.float)) and np.isfinite(end_frame):\n"
     ]
    },
    {
     "data": {
      "image/png": "[encoded data removed]",
      "text/plain": [
       "<Figure size 864x576 with 1 Axes>"
      ]
     },
     "metadata": {
      "needs_background": "light"
     },
     "output_type": "display_data"
    }
   ],
   "source": [
    "w_rs = sw.plot_rasters(sorting_KL, trange=[0,0.5])"
   ]
  },
  {
   "cell_type": "markdown",
   "id": "disabled-stand",
   "metadata": {
    "id": "disabled-stand"
   },
   "source": [
    "### Mountainsort4"
   ]
  },
  {
   "cell_type": "code",
   "execution_count": 12,
   "id": "accessible-forest",
   "metadata": {
    "id": "accessible-forest",
    "outputId": "8f6bf37d-7eb3-4d31-ce37-7a1cf04289c6"
   },
   "outputs": [
    {
     "name": "stdout",
     "output_type": "stream",
     "text": [
      "Running in docker image docker://spikeinterface/mountainsort4:0.1.0\n",
      "HITHER JOBS: 1 pending; 0 queued; 0 running; 2 finished; 1 errored; 0 cache hits\n",
      "Elapsed time for manage-pending-jobs: 236.3988220691681 sec\n"
     ]
    },
    {
     "ename": "KeyboardInterrupt",
     "evalue": "",
     "output_type": "error",
     "traceback": [
      "\u001b[0;31m---------------------------------------------------------------------------\u001b[0m",
      "\u001b[0;31mKeyboardInterrupt\u001b[0m                         Traceback (most recent call last)",
      "\u001b[0;32m<ipython-input-12-e5c820fad69e>\u001b[0m in \u001b[0;36m<module>\u001b[0;34m\u001b[0m\n\u001b[0;32m----> 1\u001b[0;31m sorting_MS4 = ssd.run_mountainsort4(\n\u001b[0m\u001b[1;32m      2\u001b[0m     \u001b[0mr_cache\u001b[0m\u001b[0;34m,\u001b[0m\u001b[0;34m\u001b[0m\u001b[0;34m\u001b[0m\u001b[0m\n\u001b[1;32m      3\u001b[0m     \u001b[0mos\u001b[0m\u001b[0;34m.\u001b[0m\u001b[0mpath\u001b[0m\u001b[0;34m.\u001b[0m\u001b[0mjoin\u001b[0m\u001b[0;34m(\u001b[0m\u001b[0mdir_name\u001b[0m\u001b[0;34m,\u001b[0m \u001b[0;34m'mountainsort4_group'\u001b[0m\u001b[0;34m)\u001b[0m\u001b[0;34m,\u001b[0m\u001b[0;34m\u001b[0m\u001b[0;34m\u001b[0m\u001b[0m\n\u001b[1;32m      4\u001b[0m     \u001b[0mgrouping_property\u001b[0m\u001b[0;34m=\u001b[0m\u001b[0;34m'group'\u001b[0m\u001b[0;34m,\u001b[0m\u001b[0;34m\u001b[0m\u001b[0;34m\u001b[0m\u001b[0m\n\u001b[1;32m      5\u001b[0m     \u001b[0mparallel\u001b[0m\u001b[0;34m=\u001b[0m\u001b[0;32mTrue\u001b[0m\u001b[0;34m,\u001b[0m\u001b[0;34m\u001b[0m\u001b[0;34m\u001b[0m\u001b[0m\n",
      "\u001b[0;32m/mnt/d/spikeinterface/spikesorters_docker/spikesorters_docker/sorters_containerized.py\u001b[0m in \u001b[0;36mrun_mountainsort4\u001b[0;34m(*args, **kwargs)\u001b[0m\n\u001b[1;32m     70\u001b[0m \u001b[0;34m\u001b[0m\u001b[0m\n\u001b[1;32m     71\u001b[0m \u001b[0;32mdef\u001b[0m \u001b[0mrun_mountainsort4\u001b[0m\u001b[0;34m(\u001b[0m\u001b[0;34m*\u001b[0m\u001b[0margs\u001b[0m\u001b[0;34m,\u001b[0m \u001b[0;34m**\u001b[0m\u001b[0mkwargs\u001b[0m\u001b[0;34m)\u001b[0m\u001b[0;34m:\u001b[0m\u001b[0;34m\u001b[0m\u001b[0;34m\u001b[0m\u001b[0m\n\u001b[0;32m---> 72\u001b[0;31m     \u001b[0;32mreturn\u001b[0m \u001b[0mrun_sorter\u001b[0m\u001b[0;34m(\u001b[0m\u001b[0;34m\"mountainsort4\"\u001b[0m\u001b[0;34m,\u001b[0m \u001b[0;34m*\u001b[0m\u001b[0margs\u001b[0m\u001b[0;34m,\u001b[0m \u001b[0;34m**\u001b[0m\u001b[0mkwargs\u001b[0m\u001b[0;34m)\u001b[0m\u001b[0;34m\u001b[0m\u001b[0;34m\u001b[0m\u001b[0m\n\u001b[0m\u001b[1;32m     73\u001b[0m \u001b[0;34m\u001b[0m\u001b[0m\n\u001b[1;32m     74\u001b[0m \u001b[0;34m\u001b[0m\u001b[0m\n",
      "\u001b[0;32m/mnt/d/spikeinterface/spikesorters_docker/spikesorters_docker/sorters_containerized.py\u001b[0m in \u001b[0;36mrun_sorter\u001b[0;34m(sorter_name, recording, output_folder, delete_output_folder, grouping_property, parallel, verbose, raise_error, n_jobs, joblib_backend, use_docker, container, **params)\u001b[0m\n\u001b[1;32m     47\u001b[0m                                                            \u001b[0mjoblib_backend\u001b[0m\u001b[0;34m=\u001b[0m\u001b[0mjoblib_backend\u001b[0m\u001b[0;34m,\u001b[0m\u001b[0;34m\u001b[0m\u001b[0;34m\u001b[0m\u001b[0m\n\u001b[1;32m     48\u001b[0m                                                            **params)\n\u001b[0;32m---> 49\u001b[0;31m         \u001b[0msorting_job\u001b[0m\u001b[0;34m.\u001b[0m\u001b[0mwait\u001b[0m\u001b[0;34m(\u001b[0m\u001b[0;34m)\u001b[0m\u001b[0;34m\u001b[0m\u001b[0;34m\u001b[0m\u001b[0m\n\u001b[0m\u001b[1;32m     50\u001b[0m         \u001b[0msorting\u001b[0m \u001b[0;34m=\u001b[0m \u001b[0mse\u001b[0m\u001b[0;34m.\u001b[0m\u001b[0mload_extractor_from_json\u001b[0m\u001b[0;34m(\u001b[0m\u001b[0msorting_json\u001b[0m\u001b[0;34m)\u001b[0m\u001b[0;34m\u001b[0m\u001b[0;34m\u001b[0m\u001b[0m\n\u001b[1;32m     51\u001b[0m     \u001b[0;32melse\u001b[0m\u001b[0;34m:\u001b[0m\u001b[0;34m\u001b[0m\u001b[0;34m\u001b[0m\u001b[0m\n",
      "\u001b[0;32m/mnt/d/spikeinterface/hussaini-to-nwb/tidy_venv/venv/lib/python3.8/site-packages/hither-0.5.15-py3.8.egg/hither2/_job.py\u001b[0m in \u001b[0;36mwait\u001b[0;34m(self, timeout_sec)\u001b[0m\n\u001b[1;32m    152\u001b[0m         \u001b[0mtimer\u001b[0m \u001b[0;34m=\u001b[0m \u001b[0mtime\u001b[0m\u001b[0;34m.\u001b[0m\u001b[0mtime\u001b[0m\u001b[0;34m(\u001b[0m\u001b[0;34m)\u001b[0m\u001b[0;34m\u001b[0m\u001b[0;34m\u001b[0m\u001b[0m\n\u001b[1;32m    153\u001b[0m         \u001b[0;32mwhile\u001b[0m \u001b[0;32mTrue\u001b[0m\u001b[0;34m:\u001b[0m\u001b[0;34m\u001b[0m\u001b[0;34m\u001b[0m\u001b[0m\n\u001b[0;32m--> 154\u001b[0;31m             \u001b[0mself\u001b[0m\u001b[0;34m.\u001b[0m\u001b[0m_job_manager\u001b[0m\u001b[0;34m.\u001b[0m\u001b[0m_iterate\u001b[0m\u001b[0;34m(\u001b[0m\u001b[0;34m)\u001b[0m\u001b[0;34m\u001b[0m\u001b[0;34m\u001b[0m\u001b[0m\n\u001b[0m\u001b[1;32m    155\u001b[0m             \u001b[0;32mif\u001b[0m \u001b[0mself\u001b[0m\u001b[0;34m.\u001b[0m\u001b[0m_status\u001b[0m \u001b[0;34m==\u001b[0m \u001b[0;34m'finished'\u001b[0m\u001b[0;34m:\u001b[0m\u001b[0;34m\u001b[0m\u001b[0;34m\u001b[0m\u001b[0m\n\u001b[1;32m    156\u001b[0m                 \u001b[0mr\u001b[0m \u001b[0;34m=\u001b[0m \u001b[0mself\u001b[0m\u001b[0;34m.\u001b[0m\u001b[0m_result\u001b[0m\u001b[0;34m\u001b[0m\u001b[0;34m\u001b[0m\u001b[0m\n",
      "\u001b[0;32m/mnt/d/spikeinterface/hussaini-to-nwb/tidy_venv/venv/lib/python3.8/site-packages/hither-0.5.15-py3.8.egg/hither2/_job_manager.py\u001b[0m in \u001b[0;36m_iterate\u001b[0;34m(self)\u001b[0m\n\u001b[1;32m     51\u001b[0m                         \u001b[0;32melse\u001b[0m\u001b[0;34m:\u001b[0m\u001b[0;34m\u001b[0m\u001b[0;34m\u001b[0m\u001b[0m\n\u001b[1;32m     52\u001b[0m                             \u001b[0mjob\u001b[0m\u001b[0;34m.\u001b[0m\u001b[0m_set_running\u001b[0m\u001b[0;34m(\u001b[0m\u001b[0;34m)\u001b[0m\u001b[0;34m\u001b[0m\u001b[0;34m\u001b[0m\u001b[0m\n\u001b[0;32m---> 53\u001b[0;31m                             return_value, error, console_lines = _run_function(\n\u001b[0m\u001b[1;32m     54\u001b[0m                                 \u001b[0mfunction_wrapper\u001b[0m\u001b[0;34m=\u001b[0m\u001b[0mfw\u001b[0m\u001b[0;34m,\u001b[0m\u001b[0;34m\u001b[0m\u001b[0;34m\u001b[0m\u001b[0m\n\u001b[1;32m     55\u001b[0m                                 \u001b[0mkwargs\u001b[0m\u001b[0;34m=\u001b[0m\u001b[0mjob\u001b[0m\u001b[0;34m.\u001b[0m\u001b[0mget_resolved_kwargs\u001b[0m\u001b[0;34m(\u001b[0m\u001b[0;34m)\u001b[0m\u001b[0;34m,\u001b[0m\u001b[0;34m\u001b[0m\u001b[0;34m\u001b[0m\u001b[0m\n",
      "\u001b[0;32m/mnt/d/spikeinterface/hussaini-to-nwb/tidy_venv/venv/lib/python3.8/site-packages/hither-0.5.15-py3.8.egg/hither2/_run_function.py\u001b[0m in \u001b[0;36m_run_function\u001b[0;34m(function_wrapper, kwargs, use_container, show_console)\u001b[0m\n\u001b[1;32m     34\u001b[0m         \u001b[0;32mwith\u001b[0m \u001b[0mConsoleCapture\u001b[0m\u001b[0;34m(\u001b[0m\u001b[0mshow_console\u001b[0m\u001b[0;34m=\u001b[0m\u001b[0mshow_console\u001b[0m\u001b[0;34m)\u001b[0m \u001b[0;32mas\u001b[0m \u001b[0mcc\u001b[0m\u001b[0;34m:\u001b[0m\u001b[0;34m\u001b[0m\u001b[0;34m\u001b[0m\u001b[0m\n\u001b[1;32m     35\u001b[0m             \u001b[0;32mtry\u001b[0m\u001b[0;34m:\u001b[0m\u001b[0;34m\u001b[0m\u001b[0;34m\u001b[0m\u001b[0m\n\u001b[0;32m---> 36\u001b[0;31m                 \u001b[0mreturn_value\u001b[0m \u001b[0;34m=\u001b[0m \u001b[0mfunction_wrapper\u001b[0m\u001b[0;34m.\u001b[0m\u001b[0mf\u001b[0m\u001b[0;34m(\u001b[0m\u001b[0;34m**\u001b[0m\u001b[0mkwargs\u001b[0m\u001b[0;34m)\u001b[0m\u001b[0;34m\u001b[0m\u001b[0;34m\u001b[0m\u001b[0m\n\u001b[0m\u001b[1;32m     37\u001b[0m                 \u001b[0merror\u001b[0m \u001b[0;34m=\u001b[0m \u001b[0;32mNone\u001b[0m\u001b[0;34m\u001b[0m\u001b[0;34m\u001b[0m\u001b[0m\n\u001b[1;32m     38\u001b[0m             \u001b[0;32mexcept\u001b[0m \u001b[0mException\u001b[0m \u001b[0;32mas\u001b[0m \u001b[0me\u001b[0m\u001b[0;34m:\u001b[0m\u001b[0;34m\u001b[0m\u001b[0;34m\u001b[0m\u001b[0m\n",
      "\u001b[0;32m/mnt/d/spikeinterface/spikesorters_docker/spikesorters_docker/sorters_containerized.py\u001b[0m in \u001b[0;36mrun_sorter_docker_with_container\u001b[0;34m(recording_json, sorter_name, **kwargs)\u001b[0m\n\u001b[1;32m     34\u001b[0m             \u001b[0;31m# run sorter\u001b[0m\u001b[0;34m\u001b[0m\u001b[0;34m\u001b[0m\u001b[0;34m\u001b[0m\u001b[0m\n\u001b[1;32m     35\u001b[0m             \u001b[0mt_start\u001b[0m \u001b[0;34m=\u001b[0m \u001b[0mtime\u001b[0m\u001b[0;34m.\u001b[0m\u001b[0mtime\u001b[0m\u001b[0;34m(\u001b[0m\u001b[0;34m)\u001b[0m\u001b[0;34m\u001b[0m\u001b[0;34m\u001b[0m\u001b[0m\n\u001b[0;32m---> 36\u001b[0;31m             \u001b[0msorting\u001b[0m \u001b[0;34m=\u001b[0m \u001b[0mss\u001b[0m\u001b[0;34m.\u001b[0m\u001b[0mrun_sorter\u001b[0m\u001b[0;34m(\u001b[0m\u001b[0msorter_name\u001b[0m\u001b[0;34m,\u001b[0m \u001b[0mrecording\u001b[0m\u001b[0;34m,\u001b[0m \u001b[0;34m**\u001b[0m\u001b[0mkwargs\u001b[0m\u001b[0;34m)\u001b[0m\u001b[0;34m\u001b[0m\u001b[0;34m\u001b[0m\u001b[0m\n\u001b[0m\u001b[1;32m     37\u001b[0m             \u001b[0mt_stop\u001b[0m \u001b[0;34m=\u001b[0m \u001b[0mtime\u001b[0m\u001b[0;34m.\u001b[0m\u001b[0mtime\u001b[0m\u001b[0;34m(\u001b[0m\u001b[0;34m)\u001b[0m\u001b[0;34m\u001b[0m\u001b[0;34m\u001b[0m\u001b[0m\n\u001b[1;32m     38\u001b[0m             \u001b[0mprint\u001b[0m\u001b[0;34m(\u001b[0m\u001b[0;34mf'{sorter_name} run time {np.round(t_stop - t_start)}s'\u001b[0m\u001b[0;34m)\u001b[0m\u001b[0;34m\u001b[0m\u001b[0;34m\u001b[0m\u001b[0m\n",
      "\u001b[0;32m/mnt/d/spikeinterface/hussaini-to-nwb/tidy_venv/venv/lib/python3.8/site-packages/spikesorters/sorterlist.py\u001b[0m in \u001b[0;36mrun_sorter\u001b[0;34m(sorter_name_or_class, recording, output_folder, delete_output_folder, grouping_property, parallel, verbose, raise_error, n_jobs, joblib_backend, **params)\u001b[0m\n\u001b[1;32m     91\u001b[0m                          verbose=verbose, delete_output_folder=delete_output_folder)\n\u001b[1;32m     92\u001b[0m     \u001b[0msorter\u001b[0m\u001b[0;34m.\u001b[0m\u001b[0mset_params\u001b[0m\u001b[0;34m(\u001b[0m\u001b[0;34m**\u001b[0m\u001b[0mparams\u001b[0m\u001b[0;34m)\u001b[0m\u001b[0;34m\u001b[0m\u001b[0;34m\u001b[0m\u001b[0m\n\u001b[0;32m---> 93\u001b[0;31m     \u001b[0msorter\u001b[0m\u001b[0;34m.\u001b[0m\u001b[0mrun\u001b[0m\u001b[0;34m(\u001b[0m\u001b[0mraise_error\u001b[0m\u001b[0;34m=\u001b[0m\u001b[0mraise_error\u001b[0m\u001b[0;34m,\u001b[0m \u001b[0mparallel\u001b[0m\u001b[0;34m=\u001b[0m\u001b[0mparallel\u001b[0m\u001b[0;34m,\u001b[0m \u001b[0mn_jobs\u001b[0m\u001b[0;34m=\u001b[0m\u001b[0mn_jobs\u001b[0m\u001b[0;34m,\u001b[0m \u001b[0mjoblib_backend\u001b[0m\u001b[0;34m=\u001b[0m\u001b[0mjoblib_backend\u001b[0m\u001b[0;34m)\u001b[0m\u001b[0;34m\u001b[0m\u001b[0;34m\u001b[0m\u001b[0m\n\u001b[0m\u001b[1;32m     94\u001b[0m     \u001b[0msortingextractor\u001b[0m \u001b[0;34m=\u001b[0m \u001b[0msorter\u001b[0m\u001b[0;34m.\u001b[0m\u001b[0mget_result\u001b[0m\u001b[0;34m(\u001b[0m\u001b[0mraise_error\u001b[0m\u001b[0;34m=\u001b[0m\u001b[0mraise_error\u001b[0m\u001b[0;34m)\u001b[0m\u001b[0;34m\u001b[0m\u001b[0;34m\u001b[0m\u001b[0m\n\u001b[1;32m     95\u001b[0m \u001b[0;34m\u001b[0m\u001b[0m\n",
      "\u001b[0;32m/mnt/d/spikeinterface/hussaini-to-nwb/tidy_venv/venv/lib/python3.8/site-packages/spikesorters/basesorter.py\u001b[0m in \u001b[0;36mrun\u001b[0;34m(self, raise_error, parallel, n_jobs, joblib_backend)\u001b[0m\n\u001b[1;32m    158\u001b[0m                     \u001b[0mself\u001b[0m\u001b[0;34m.\u001b[0m\u001b[0m_run\u001b[0m\u001b[0;34m(\u001b[0m\u001b[0mrecording\u001b[0m\u001b[0;34m,\u001b[0m \u001b[0mself\u001b[0m\u001b[0;34m.\u001b[0m\u001b[0moutput_folders\u001b[0m\u001b[0;34m[\u001b[0m\u001b[0mi\u001b[0m\u001b[0;34m]\u001b[0m\u001b[0;34m)\u001b[0m\u001b[0;34m\u001b[0m\u001b[0;34m\u001b[0m\u001b[0m\n\u001b[1;32m    159\u001b[0m             \u001b[0;32melse\u001b[0m\u001b[0;34m:\u001b[0m\u001b[0;34m\u001b[0m\u001b[0;34m\u001b[0m\u001b[0m\n\u001b[0;32m--> 160\u001b[0;31m                 Parallel(n_jobs=n_jobs, backend=joblib_backend)(\n\u001b[0m\u001b[1;32m    161\u001b[0m                     \u001b[0mdelayed\u001b[0m\u001b[0;34m(\u001b[0m\u001b[0mself\u001b[0m\u001b[0;34m.\u001b[0m\u001b[0m_run\u001b[0m\u001b[0;34m)\u001b[0m\u001b[0;34m(\u001b[0m\u001b[0mrec\u001b[0m\u001b[0;34m.\u001b[0m\u001b[0mdump_to_dict\u001b[0m\u001b[0;34m(\u001b[0m\u001b[0;34m)\u001b[0m\u001b[0;34m,\u001b[0m \u001b[0moutput_folder\u001b[0m\u001b[0;34m)\u001b[0m\u001b[0;34m\u001b[0m\u001b[0;34m\u001b[0m\u001b[0m\n\u001b[1;32m    162\u001b[0m                     for (rec, output_folder) in zip(self.recording_list, self.output_folders))\n",
      "\u001b[0;32m/mnt/d/spikeinterface/hussaini-to-nwb/tidy_venv/venv/lib/python3.8/site-packages/joblib-1.0.1-py3.8.egg/joblib/parallel.py\u001b[0m in \u001b[0;36m__call__\u001b[0;34m(self, iterable)\u001b[0m\n\u001b[1;32m   1052\u001b[0m \u001b[0;34m\u001b[0m\u001b[0m\n\u001b[1;32m   1053\u001b[0m             \u001b[0;32mwith\u001b[0m \u001b[0mself\u001b[0m\u001b[0;34m.\u001b[0m\u001b[0m_backend\u001b[0m\u001b[0;34m.\u001b[0m\u001b[0mretrieval_context\u001b[0m\u001b[0;34m(\u001b[0m\u001b[0;34m)\u001b[0m\u001b[0;34m:\u001b[0m\u001b[0;34m\u001b[0m\u001b[0;34m\u001b[0m\u001b[0m\n\u001b[0;32m-> 1054\u001b[0;31m                 \u001b[0mself\u001b[0m\u001b[0;34m.\u001b[0m\u001b[0mretrieve\u001b[0m\u001b[0;34m(\u001b[0m\u001b[0;34m)\u001b[0m\u001b[0;34m\u001b[0m\u001b[0;34m\u001b[0m\u001b[0m\n\u001b[0m\u001b[1;32m   1055\u001b[0m             \u001b[0;31m# Make sure that we get a last message telling us we are done\u001b[0m\u001b[0;34m\u001b[0m\u001b[0;34m\u001b[0m\u001b[0;34m\u001b[0m\u001b[0m\n\u001b[1;32m   1056\u001b[0m             \u001b[0melapsed_time\u001b[0m \u001b[0;34m=\u001b[0m \u001b[0mtime\u001b[0m\u001b[0;34m.\u001b[0m\u001b[0mtime\u001b[0m\u001b[0;34m(\u001b[0m\u001b[0;34m)\u001b[0m \u001b[0;34m-\u001b[0m \u001b[0mself\u001b[0m\u001b[0;34m.\u001b[0m\u001b[0m_start_time\u001b[0m\u001b[0;34m\u001b[0m\u001b[0;34m\u001b[0m\u001b[0m\n",
      "\u001b[0;32m/mnt/d/spikeinterface/hussaini-to-nwb/tidy_venv/venv/lib/python3.8/site-packages/joblib-1.0.1-py3.8.egg/joblib/parallel.py\u001b[0m in \u001b[0;36mretrieve\u001b[0;34m(self)\u001b[0m\n\u001b[1;32m    931\u001b[0m             \u001b[0;32mtry\u001b[0m\u001b[0;34m:\u001b[0m\u001b[0;34m\u001b[0m\u001b[0;34m\u001b[0m\u001b[0m\n\u001b[1;32m    932\u001b[0m                 \u001b[0;32mif\u001b[0m \u001b[0mgetattr\u001b[0m\u001b[0;34m(\u001b[0m\u001b[0mself\u001b[0m\u001b[0;34m.\u001b[0m\u001b[0m_backend\u001b[0m\u001b[0;34m,\u001b[0m \u001b[0;34m'supports_timeout'\u001b[0m\u001b[0;34m,\u001b[0m \u001b[0;32mFalse\u001b[0m\u001b[0;34m)\u001b[0m\u001b[0;34m:\u001b[0m\u001b[0;34m\u001b[0m\u001b[0;34m\u001b[0m\u001b[0m\n\u001b[0;32m--> 933\u001b[0;31m                     \u001b[0mself\u001b[0m\u001b[0;34m.\u001b[0m\u001b[0m_output\u001b[0m\u001b[0;34m.\u001b[0m\u001b[0mextend\u001b[0m\u001b[0;34m(\u001b[0m\u001b[0mjob\u001b[0m\u001b[0;34m.\u001b[0m\u001b[0mget\u001b[0m\u001b[0;34m(\u001b[0m\u001b[0mtimeout\u001b[0m\u001b[0;34m=\u001b[0m\u001b[0mself\u001b[0m\u001b[0;34m.\u001b[0m\u001b[0mtimeout\u001b[0m\u001b[0;34m)\u001b[0m\u001b[0;34m)\u001b[0m\u001b[0;34m\u001b[0m\u001b[0;34m\u001b[0m\u001b[0m\n\u001b[0m\u001b[1;32m    934\u001b[0m                 \u001b[0;32melse\u001b[0m\u001b[0;34m:\u001b[0m\u001b[0;34m\u001b[0m\u001b[0;34m\u001b[0m\u001b[0m\n\u001b[1;32m    935\u001b[0m                     \u001b[0mself\u001b[0m\u001b[0;34m.\u001b[0m\u001b[0m_output\u001b[0m\u001b[0;34m.\u001b[0m\u001b[0mextend\u001b[0m\u001b[0;34m(\u001b[0m\u001b[0mjob\u001b[0m\u001b[0;34m.\u001b[0m\u001b[0mget\u001b[0m\u001b[0;34m(\u001b[0m\u001b[0;34m)\u001b[0m\u001b[0;34m)\u001b[0m\u001b[0;34m\u001b[0m\u001b[0;34m\u001b[0m\u001b[0m\n",
      "\u001b[0;32m/mnt/d/spikeinterface/hussaini-to-nwb/tidy_venv/venv/lib/python3.8/site-packages/joblib-1.0.1-py3.8.egg/joblib/_parallel_backends.py\u001b[0m in \u001b[0;36mwrap_future_result\u001b[0;34m(future, timeout)\u001b[0m\n\u001b[1;32m    540\u001b[0m         AsyncResults.get from multiprocessing.\"\"\"\n\u001b[1;32m    541\u001b[0m         \u001b[0;32mtry\u001b[0m\u001b[0;34m:\u001b[0m\u001b[0;34m\u001b[0m\u001b[0;34m\u001b[0m\u001b[0m\n\u001b[0;32m--> 542\u001b[0;31m             \u001b[0;32mreturn\u001b[0m \u001b[0mfuture\u001b[0m\u001b[0;34m.\u001b[0m\u001b[0mresult\u001b[0m\u001b[0;34m(\u001b[0m\u001b[0mtimeout\u001b[0m\u001b[0;34m=\u001b[0m\u001b[0mtimeout\u001b[0m\u001b[0;34m)\u001b[0m\u001b[0;34m\u001b[0m\u001b[0;34m\u001b[0m\u001b[0m\n\u001b[0m\u001b[1;32m    543\u001b[0m         \u001b[0;32mexcept\u001b[0m \u001b[0mCfTimeoutError\u001b[0m \u001b[0;32mas\u001b[0m \u001b[0me\u001b[0m\u001b[0;34m:\u001b[0m\u001b[0;34m\u001b[0m\u001b[0;34m\u001b[0m\u001b[0m\n\u001b[1;32m    544\u001b[0m             \u001b[0;32mraise\u001b[0m \u001b[0mTimeoutError\u001b[0m \u001b[0;32mfrom\u001b[0m \u001b[0me\u001b[0m\u001b[0;34m\u001b[0m\u001b[0;34m\u001b[0m\u001b[0m\n",
      "\u001b[0;32m/usr/lib/python3.8/concurrent/futures/_base.py\u001b[0m in \u001b[0;36mresult\u001b[0;34m(self, timeout)\u001b[0m\n\u001b[1;32m    432\u001b[0m                 \u001b[0;32mreturn\u001b[0m \u001b[0mself\u001b[0m\u001b[0;34m.\u001b[0m\u001b[0m__get_result\u001b[0m\u001b[0;34m(\u001b[0m\u001b[0;34m)\u001b[0m\u001b[0;34m\u001b[0m\u001b[0;34m\u001b[0m\u001b[0m\n\u001b[1;32m    433\u001b[0m \u001b[0;34m\u001b[0m\u001b[0m\n\u001b[0;32m--> 434\u001b[0;31m             \u001b[0mself\u001b[0m\u001b[0;34m.\u001b[0m\u001b[0m_condition\u001b[0m\u001b[0;34m.\u001b[0m\u001b[0mwait\u001b[0m\u001b[0;34m(\u001b[0m\u001b[0mtimeout\u001b[0m\u001b[0;34m)\u001b[0m\u001b[0;34m\u001b[0m\u001b[0;34m\u001b[0m\u001b[0m\n\u001b[0m\u001b[1;32m    435\u001b[0m \u001b[0;34m\u001b[0m\u001b[0m\n\u001b[1;32m    436\u001b[0m             \u001b[0;32mif\u001b[0m \u001b[0mself\u001b[0m\u001b[0;34m.\u001b[0m\u001b[0m_state\u001b[0m \u001b[0;32min\u001b[0m \u001b[0;34m[\u001b[0m\u001b[0mCANCELLED\u001b[0m\u001b[0;34m,\u001b[0m \u001b[0mCANCELLED_AND_NOTIFIED\u001b[0m\u001b[0;34m]\u001b[0m\u001b[0;34m:\u001b[0m\u001b[0;34m\u001b[0m\u001b[0;34m\u001b[0m\u001b[0m\n",
      "\u001b[0;32m/usr/lib/python3.8/threading.py\u001b[0m in \u001b[0;36mwait\u001b[0;34m(self, timeout)\u001b[0m\n\u001b[1;32m    300\u001b[0m         \u001b[0;32mtry\u001b[0m\u001b[0;34m:\u001b[0m    \u001b[0;31m# restore state no matter what (e.g., KeyboardInterrupt)\u001b[0m\u001b[0;34m\u001b[0m\u001b[0;34m\u001b[0m\u001b[0m\n\u001b[1;32m    301\u001b[0m             \u001b[0;32mif\u001b[0m \u001b[0mtimeout\u001b[0m \u001b[0;32mis\u001b[0m \u001b[0;32mNone\u001b[0m\u001b[0;34m:\u001b[0m\u001b[0;34m\u001b[0m\u001b[0;34m\u001b[0m\u001b[0m\n\u001b[0;32m--> 302\u001b[0;31m                 \u001b[0mwaiter\u001b[0m\u001b[0;34m.\u001b[0m\u001b[0macquire\u001b[0m\u001b[0;34m(\u001b[0m\u001b[0;34m)\u001b[0m\u001b[0;34m\u001b[0m\u001b[0;34m\u001b[0m\u001b[0m\n\u001b[0m\u001b[1;32m    303\u001b[0m                 \u001b[0mgotit\u001b[0m \u001b[0;34m=\u001b[0m \u001b[0;32mTrue\u001b[0m\u001b[0;34m\u001b[0m\u001b[0;34m\u001b[0m\u001b[0m\n\u001b[1;32m    304\u001b[0m             \u001b[0;32melse\u001b[0m\u001b[0;34m:\u001b[0m\u001b[0;34m\u001b[0m\u001b[0;34m\u001b[0m\u001b[0m\n",
      "\u001b[0;31mKeyboardInterrupt\u001b[0m: "
     ]
    }
   ],
   "source": [
    "sorting_MS4 = ssd.run_mountainsort4(\n",
    "    r_cache,\n",
    "    os.path.join(dir_name, 'mountainsort4_group'),\n",
    "    grouping_property='group',\n",
    "    parallel=True,\n",
    "    verbose=True,\n",
    "    filter=False,\n",
    "    use_docker=True\n",
    ")\n",
    "print(f'Mountainsort4 found {len(sorting_MS4.get_unit_ids())} units')"
   ]
  },
  {
   "cell_type": "code",
   "execution_count": null,
   "id": "occupied-nepal",
   "metadata": {
    "id": "occupied-nepal"
   },
   "outputs": [],
   "source": [
    "print(f'Spike train of a unit: {sorting_MS4.get_unit_spike_train(1)}')"
   ]
  },
  {
   "cell_type": "markdown",
   "id": "inappropriate-enlargement",
   "metadata": {},
   "source": [
    "### Herding spikes"
   ]
  },
  {
   "cell_type": "code",
   "execution_count": 11,
   "id": "governing-title",
   "metadata": {
    "scrolled": true
   },
   "outputs": [
    {
     "name": "stderr",
     "output_type": "stream",
     "text": [
      "/mnt/d/spikeinterface/hussaini-to-nwb/tidy_venv/venv/lib/python3.8/site-packages/ipykernel/ipkernel.py:283: DeprecationWarning: `should_run_async` will not call `transform_cell` automatically in the future. Please pass the result to `transformed_cell` argument and any exception that happen during thetransform in `preprocessing_exc_tuple` in IPython 7.17 and above.\n",
      "  and should_run_async(code)\n",
      "/mnt/d/spikeinterface/hussaini-to-nwb/tidy_venv/spikeextractors/spikeextractors/baseextractor.py:607: DeprecationWarning: `np.int` is a deprecated alias for the builtin `int`. To silence this warning, use `int` by itself. Doing this will not modify any behavior and is safe. When replacing `np.int`, you may wish to use e.g. `np.int64` or `np.int32` to specify the precision. If you wish to review your current use, check the release note link for additional information.\n",
      "Deprecated in NumPy 1.20; for more details and guidance: https://numpy.org/devdocs/release/1.20.0-notes.html#deprecations\n",
      "  elif isinstance(v, (np.int, np.int32, np.int64)):\n",
      "/mnt/d/spikeinterface/hussaini-to-nwb/tidy_venv/spikeextractors/spikeextractors/baseextractor.py:609: DeprecationWarning: `np.float` is a deprecated alias for the builtin `float`. To silence this warning, use `float` by itself. Doing this will not modify any behavior and is safe. If you specifically wanted the numpy scalar type, use `np.float64` here.\n",
      "Deprecated in NumPy 1.20; for more details and guidance: https://numpy.org/devdocs/release/1.20.0-notes.html#deprecations\n",
      "  elif isinstance(v, (np.float, np.float32, np.float64)):\n"
     ]
    },
    {
     "name": "stdout",
     "output_type": "stream",
     "text": [
      "Running in docker image docker://spikeinterface/herdingspikes:0.1.0\n",
      "HITHER JOBS: 1 pending; 0 queued; 0 running; 2 finished; 0 errored; 0 cache hits\n",
      "HITHER JOBS: 0 pending; 0 queued; 0 running; 2 finished; 1 errored; 0 cache hits\n"
     ]
    },
    {
     "ename": "Exception",
     "evalue": "Error in run_sorter_docker_with_container (0.1.0): Spike sorting failed: 'DataFrame' object has no attribute 'cl'. You can inspect the runtime trace in the herdingspikes.log of the output folder.'",
     "output_type": "error",
     "traceback": [
      "\u001b[0;31m---------------------------------------------------------------------------\u001b[0m",
      "\u001b[0;31mException\u001b[0m                                 Traceback (most recent call last)",
      "\u001b[0;32m<ipython-input-11-a1c79527f14a>\u001b[0m in \u001b[0;36m<module>\u001b[0;34m\u001b[0m\n\u001b[0;32m----> 1\u001b[0;31m sorting_HS = ssd.sorters_containerized.run_herdingspikes(\n\u001b[0m\u001b[1;32m      2\u001b[0m     \u001b[0mr_cache\u001b[0m\u001b[0;34m,\u001b[0m\u001b[0;34m\u001b[0m\u001b[0;34m\u001b[0m\u001b[0m\n\u001b[1;32m      3\u001b[0m     \u001b[0mos\u001b[0m\u001b[0;34m.\u001b[0m\u001b[0mpath\u001b[0m\u001b[0;34m.\u001b[0m\u001b[0mjoin\u001b[0m\u001b[0;34m(\u001b[0m\u001b[0mdir_name\u001b[0m\u001b[0;34m,\u001b[0m \u001b[0;34m'herdingspikes_group'\u001b[0m\u001b[0;34m)\u001b[0m\u001b[0;34m,\u001b[0m\u001b[0;34m\u001b[0m\u001b[0;34m\u001b[0m\u001b[0m\n\u001b[1;32m      4\u001b[0m     \u001b[0mfilter\u001b[0m\u001b[0;34m=\u001b[0m\u001b[0;32mFalse\u001b[0m\u001b[0;34m,\u001b[0m\u001b[0;34m\u001b[0m\u001b[0;34m\u001b[0m\u001b[0m\n\u001b[1;32m      5\u001b[0m     \u001b[0muse_docker\u001b[0m\u001b[0;34m=\u001b[0m\u001b[0;32mTrue\u001b[0m\u001b[0;34m\u001b[0m\u001b[0;34m\u001b[0m\u001b[0m\n",
      "\u001b[0;32m/mnt/d/spikeinterface/spikesorters_docker/spikesorters_docker/sorters_containerized.py\u001b[0m in \u001b[0;36mrun_herdingspikes\u001b[0;34m(*args, **kwargs)\u001b[0m\n\u001b[1;32m     66\u001b[0m \u001b[0;34m\u001b[0m\u001b[0m\n\u001b[1;32m     67\u001b[0m \u001b[0;32mdef\u001b[0m \u001b[0mrun_herdingspikes\u001b[0m\u001b[0;34m(\u001b[0m\u001b[0;34m*\u001b[0m\u001b[0margs\u001b[0m\u001b[0;34m,\u001b[0m \u001b[0;34m**\u001b[0m\u001b[0mkwargs\u001b[0m\u001b[0;34m)\u001b[0m\u001b[0;34m:\u001b[0m\u001b[0;34m\u001b[0m\u001b[0;34m\u001b[0m\u001b[0m\n\u001b[0;32m---> 68\u001b[0;31m     \u001b[0;32mreturn\u001b[0m \u001b[0mrun_sorter\u001b[0m\u001b[0;34m(\u001b[0m\u001b[0;34m\"herdingspikes\"\u001b[0m\u001b[0;34m,\u001b[0m \u001b[0;34m*\u001b[0m\u001b[0margs\u001b[0m\u001b[0;34m,\u001b[0m \u001b[0;34m**\u001b[0m\u001b[0mkwargs\u001b[0m\u001b[0;34m)\u001b[0m\u001b[0;34m\u001b[0m\u001b[0;34m\u001b[0m\u001b[0m\n\u001b[0m\u001b[1;32m     69\u001b[0m \u001b[0;34m\u001b[0m\u001b[0m\n\u001b[1;32m     70\u001b[0m \u001b[0;34m\u001b[0m\u001b[0m\n",
      "\u001b[0;32m/mnt/d/spikeinterface/spikesorters_docker/spikesorters_docker/sorters_containerized.py\u001b[0m in \u001b[0;36mrun_sorter\u001b[0;34m(sorter_name, recording, output_folder, delete_output_folder, grouping_property, parallel, verbose, raise_error, n_jobs, joblib_backend, use_docker, container, **params)\u001b[0m\n\u001b[1;32m     47\u001b[0m                                                            \u001b[0mjoblib_backend\u001b[0m\u001b[0;34m=\u001b[0m\u001b[0mjoblib_backend\u001b[0m\u001b[0;34m,\u001b[0m\u001b[0;34m\u001b[0m\u001b[0;34m\u001b[0m\u001b[0m\n\u001b[1;32m     48\u001b[0m                                                            **params)\n\u001b[0;32m---> 49\u001b[0;31m         \u001b[0msorting_job\u001b[0m\u001b[0;34m.\u001b[0m\u001b[0mwait\u001b[0m\u001b[0;34m(\u001b[0m\u001b[0;34m)\u001b[0m\u001b[0;34m\u001b[0m\u001b[0;34m\u001b[0m\u001b[0m\n\u001b[0m\u001b[1;32m     50\u001b[0m         \u001b[0msorting\u001b[0m \u001b[0;34m=\u001b[0m \u001b[0mse\u001b[0m\u001b[0;34m.\u001b[0m\u001b[0mload_extractor_from_json\u001b[0m\u001b[0;34m(\u001b[0m\u001b[0msorting_json\u001b[0m\u001b[0;34m)\u001b[0m\u001b[0;34m\u001b[0m\u001b[0;34m\u001b[0m\u001b[0m\n\u001b[1;32m     51\u001b[0m     \u001b[0;32melse\u001b[0m\u001b[0;34m:\u001b[0m\u001b[0;34m\u001b[0m\u001b[0;34m\u001b[0m\u001b[0m\n",
      "\u001b[0;32m/mnt/d/spikeinterface/hussaini-to-nwb/tidy_venv/venv/lib/python3.8/site-packages/hither-0.5.15-py3.8.egg/hither2/_job.py\u001b[0m in \u001b[0;36mwait\u001b[0;34m(self, timeout_sec)\u001b[0m\n\u001b[1;32m    160\u001b[0m                 \u001b[0me\u001b[0m \u001b[0;34m=\u001b[0m \u001b[0mself\u001b[0m\u001b[0;34m.\u001b[0m\u001b[0m_result\u001b[0m\u001b[0;34m.\u001b[0m\u001b[0m_error\u001b[0m\u001b[0;34m\u001b[0m\u001b[0;34m\u001b[0m\u001b[0m\n\u001b[1;32m    161\u001b[0m                 \u001b[0;32massert\u001b[0m \u001b[0me\u001b[0m \u001b[0;32mis\u001b[0m \u001b[0;32mnot\u001b[0m \u001b[0;32mNone\u001b[0m\u001b[0;34m\u001b[0m\u001b[0;34m\u001b[0m\u001b[0m\n\u001b[0;32m--> 162\u001b[0;31m                 \u001b[0;32mraise\u001b[0m \u001b[0mException\u001b[0m\u001b[0;34m(\u001b[0m\u001b[0;34mf'Error in {self.function_name} ({self.function_version}): {str(e)}'\u001b[0m\u001b[0;34m)\u001b[0m\u001b[0;34m\u001b[0m\u001b[0;34m\u001b[0m\u001b[0m\n\u001b[0m\u001b[1;32m    163\u001b[0m             \u001b[0;32melse\u001b[0m\u001b[0;34m:\u001b[0m\u001b[0;34m\u001b[0m\u001b[0;34m\u001b[0m\u001b[0m\n\u001b[1;32m    164\u001b[0m                 \u001b[0mtime\u001b[0m\u001b[0;34m.\u001b[0m\u001b[0msleep\u001b[0m\u001b[0;34m(\u001b[0m\u001b[0;36m0.05\u001b[0m\u001b[0;34m)\u001b[0m\u001b[0;34m\u001b[0m\u001b[0;34m\u001b[0m\u001b[0m\n",
      "\u001b[0;31mException\u001b[0m: Error in run_sorter_docker_with_container (0.1.0): Spike sorting failed: 'DataFrame' object has no attribute 'cl'. You can inspect the runtime trace in the herdingspikes.log of the output folder.'"
     ]
    }
   ],
   "source": [
    "sorting_HS = ssd.sorters_containerized.run_herdingspikes(\n",
    "    r_cache,\n",
    "    os.path.join(dir_name, 'herdingspikes_group'),\n",
    "    filter=False,\n",
    "    use_docker=True\n",
    ")\n",
    "print(f'Herding Spikes found {len(sorting_HS.get_unit_ids())} units')"
   ]
  },
  {
   "cell_type": "markdown",
   "id": "alive-plate",
   "metadata": {
    "id": "alive-plate"
   },
   "source": [
    "<a id='postprocessing'></a>\n",
    "# 6. Postprocessing\n",
    "[back to index](#index)\n",
    "\n",
    "The `postprocessing` submodule of `spiketoolkit` allows us to extract information from the combination of the recording and sorting extractors. For example, we can extract waveforms, templates, maximum channels and pca scores. In addition, we can also compute waveform features that could be used for further processing, e.g. classyfing excitatory-inhibitory neurons."
   ]
  },
  {
   "cell_type": "markdown",
   "id": "gentle-attendance",
   "metadata": {},
   "source": [
    "Let's start by extracting waveforms."
   ]
  },
  {
   "cell_type": "code",
   "execution_count": 9,
   "id": "binary-twenty",
   "metadata": {
    "id": "binary-twenty",
    "outputId": "a098357d-98cf-4e48-bfdd-cdd7dc32c70c"
   },
   "outputs": [
    {
     "name": "stderr",
     "output_type": "stream",
     "text": [
      "Extracting waveforms in chunks: 100%|##########| 1/1 [00:00<00:00, 11.23it/s]"
     ]
    },
    {
     "name": "stdout",
     "output_type": "stream",
     "text": [
      "Number of chunks: 1 - Number of jobs: 1\n"
     ]
    },
    {
     "name": "stderr",
     "output_type": "stream",
     "text": [
      "\n"
     ]
    }
   ],
   "source": [
    "waveforms = st.postprocessing.get_unit_waveforms(r_cache, sorting_KL, verbose=True)"
   ]
  },
  {
   "cell_type": "code",
   "execution_count": 10,
   "id": "backed-cleanup",
   "metadata": {
    "id": "backed-cleanup",
    "outputId": "f23978f3-e206-483d-b42f-d36a3ef983e8"
   },
   "outputs": [
    {
     "data": {
      "text/plain": [
       "(300, 12, 288)"
      ]
     },
     "execution_count": 10,
     "metadata": {},
     "output_type": "execute_result"
    }
   ],
   "source": [
    "waveforms[1].shape"
   ]
  },
  {
   "cell_type": "markdown",
   "id": "saving-milan",
   "metadata": {},
   "source": [
    "Similarly, we can get templates, maximum channels, and pca scores. \n",
    "Whem these are computed, they are automatically stored in the `SortingExtractor` object, so that they don't need to be recomputed. \n",
    "\n",
    "Each waveform is associated with a specific spike, so they are saved as spike *features*:\n"
   ]
  },
  {
   "cell_type": "markdown",
   "id": "assigned-pride",
   "metadata": {},
   "source": [
    "You may have noticed that 300 waveforms were extracted from the spike train of the first unit. However, it has more spikes:"
   ]
  },
  {
   "cell_type": "code",
   "execution_count": 13,
   "id": "regulation-password",
   "metadata": {
    "id": "regulation-password",
    "outputId": "d2533c4a-9716-48ab-b552-236ed7126ec8"
   },
   "outputs": [
    {
     "data": {
      "text/plain": [
       "762"
      ]
     },
     "execution_count": 13,
     "metadata": {},
     "output_type": "execute_result"
    }
   ],
   "source": [
    "len(sorting_KL.get_unit_spike_train(1))"
   ]
  },
  {
   "cell_type": "markdown",
   "id": "available-lender",
   "metadata": {},
   "source": [
    "It can be convenient to only compute a subset of waveforms to speed up the calculation. The `waveform_idxs` property contains the spike indexes associated with the waveforms."
   ]
  },
  {
   "cell_type": "code",
   "execution_count": 14,
   "id": "fuzzy-gentleman",
   "metadata": {
    "id": "fuzzy-gentleman",
    "outputId": "d7d2ac3d-41e2-44a5-ec4d-1f0badc36389"
   },
   "outputs": [
    {
     "data": {
      "text/plain": [
       "['waveforms', 'waveforms_idxs']"
      ]
     },
     "execution_count": 14,
     "metadata": {},
     "output_type": "execute_result"
    }
   ],
   "source": [
    "sorting_KL.get_shared_unit_spike_feature_names()"
   ]
  },
  {
   "cell_type": "code",
   "execution_count": 15,
   "id": "executive-acrylic",
   "metadata": {
    "id": "executive-acrylic",
    "outputId": "c278007a-1767-41bd-8485-595ba7dd0dfd"
   },
   "outputs": [
    {
     "name": "stdout",
     "output_type": "stream",
     "text": [
      "[  1   2   6   8  10  12  14  15  17  18  21  27  31  34  35  37  39  40\n",
      "  45  48  49  50  52  55  62  64  66  68  71  75  76  77  78  79  85  89\n",
      "  90  92  96  97 101 103 104 109 113 118 122 127 132 140 142 144 145 150\n",
      " 155 156 157 159 161 162 165 170 172 173 175 178 181 187 188 190 193 194\n",
      " 196 198 200 202 204 205 206 210 211 214 215 218 222 229 230 231 233 235\n",
      " 236 239 240 241 242 243 245 247 249 250 251 252 253 255 258 261 263 266\n",
      " 267 268 271 272 278 279 283 285 293 294 299 301 302 303 306 310 312 313\n",
      " 315 316 317 318 319 327 331 333 334 337 338 344 346 350 351 352 354 355\n",
      " 358 360 362 363 364 366 367 374 375 380 382 385 386 390 395 397 399 400\n",
      " 401 402 403 404 406 407 409 412 413 415 417 418 422 424 425 427 432 434\n",
      " 435 436 441 443 447 451 457 458 460 462 463 466 467 468 471 474 477 478\n",
      " 479 485 489 494 495 499 500 501 503 504 506 516 518 520 521 522 523 524\n",
      " 526 527 529 531 532 536 540 542 548 549 556 558 561 563 568 573 575 578\n",
      " 579 582 584 586 588 592 593 601 603 605 613 615 618 620 621 622 628 632\n",
      " 636 644 648 649 652 653 654 655 657 658 668 671 673 674 676 683 687 690\n",
      " 693 694 696 700 701 702 703 711 716 721 724 731 732 733 735 737 739 740\n",
      " 744 745 746 748 751 752 753 755 756 758 759 760]\n"
     ]
    }
   ],
   "source": [
    "print(sorting_KL.get_unit_spike_features(1, 'waveforms_idxs'))"
   ]
  },
  {
   "cell_type": "markdown",
   "id": "duplicate-mathematics",
   "metadata": {},
   "source": [
    "Since waveforms are already computed, the next time we (or another function - e.g. `get_unit_templates()`) call it it will just return the stored waveforms."
   ]
  },
  {
   "cell_type": "code",
   "execution_count": 16,
   "id": "different-dubai",
   "metadata": {},
   "outputs": [],
   "source": [
    "waveforms = st.postprocessing.get_unit_waveforms(r_cache, sorting_KL, verbose=True)"
   ]
  },
  {
   "cell_type": "markdown",
   "id": "focal-state",
   "metadata": {},
   "source": [
    "Lighthing fast! \n",
    "\n",
    "If we want to recompute the waveforms, for example because we want to extract the waveforms divided by group, we can use the `recompute_info` argument (available for all `postprocessing`, `validation`, and `curation` functions):"
   ]
  },
  {
   "cell_type": "markdown",
   "id": "featured-communications",
   "metadata": {},
   "source": [
    "Where are waveforms stored? We have seen above that each `Extractor` object has a tmp folder associated. Waveforms (and other features, e.g. pca scores) are stored in this folder as binary raw files:"
   ]
  },
  {
   "cell_type": "code",
   "execution_count": 17,
   "id": "british-anniversary",
   "metadata": {
    "id": "british-anniversary",
    "outputId": "edca8613-cb64-4c73-ac4a-78bf63fa517f"
   },
   "outputs": [
    {
     "name": "stdout",
     "output_type": "stream",
     "text": [
      "/tmp/tmp6dmua9e0\n",
      "['waveforms_0.raw', 'waveforms_1.raw', 'waveforms_2.raw', 'waveforms_3.raw', 'waveforms_4.raw', 'waveforms_5.raw', 'waveforms_6.raw', 'waveforms_7.raw', 'waveforms_8.raw']\n"
     ]
    }
   ],
   "source": [
    "tmp_folder = sorting_KL.get_tmp_folder()\n",
    "print(tmp_folder)\n",
    "print([(p.name) for p in tmp_folder.iterdir()])"
   ]
  },
  {
   "cell_type": "code",
   "execution_count": 18,
   "id": "parliamentary-shame",
   "metadata": {
    "id": "parliamentary-shame",
    "outputId": "26e7e299-25c5-4e97-da59-04a427a2178d"
   },
   "outputs": [
    {
     "name": "stdout",
     "output_type": "stream",
     "text": [
      "Number of chunks: 1 - Number of jobs: 1\n"
     ]
    },
    {
     "name": "stderr",
     "output_type": "stream",
     "text": [
      "Extracting waveforms in chunks: 100%|##########| 1/1 [00:00<00:00,  7.74it/s]\n"
     ]
    }
   ],
   "source": [
    "waveforms_group = st.postprocessing.get_unit_waveforms(\n",
    "    r_cache, sorting_KL, max_spikes_per_unit=None, \n",
    "    grouping_property='group', recompute_info=True,\n",
    "    verbose=True\n",
    ")"
   ]
  },
  {
   "cell_type": "code",
   "execution_count": 19,
   "id": "parallel-trout",
   "metadata": {
    "id": "parallel-trout",
    "outputId": "f4a8003f-7ddd-40ae-9a21-d800c696d7e4"
   },
   "outputs": [
    {
     "data": {
      "text/plain": [
       "['group', 'quality', 'waveforms_channel_idxs']"
      ]
     },
     "execution_count": 19,
     "metadata": {},
     "output_type": "execute_result"
    }
   ],
   "source": [
    "sorting_KL.get_shared_unit_property_names()"
   ]
  },
  {
   "cell_type": "code",
   "execution_count": 20,
   "id": "saving-forge",
   "metadata": {
    "id": "saving-forge",
    "outputId": "2dd981f3-c519-499d-b65a-58a73c48573d"
   },
   "outputs": [
    {
     "name": "stdout",
     "output_type": "stream",
     "text": [
      "(8, 4, 288)\n",
      "(762, 4, 288)\n",
      "(21, 4, 288)\n",
      "(8, 4, 288)\n",
      "(293, 4, 288)\n",
      "(25, 4, 288)\n",
      "(8, 4, 288)\n",
      "(136, 4, 288)\n",
      "(45, 4, 288)\n"
     ]
    }
   ],
   "source": [
    "for wf in waveforms_group:\n",
    "    print(wf.shape)"
   ]
  },
  {
   "cell_type": "markdown",
   "id": "alternate-civilian",
   "metadata": {},
   "source": [
    "We can use `spikewidgets` to quickly inspect the spike sorting output:"
   ]
  },
  {
   "cell_type": "code",
   "execution_count": 21,
   "id": "linear-occasion",
   "metadata": {
    "id": "linear-occasion",
    "outputId": "2dc097bb-17d8-4ef5-af1b-5515adde7410"
   },
   "outputs": [
    {
     "data": {
      "image/png": "[encoded data removed]",
      "text/plain": [
       "<Figure size 864x576 with 4 Axes>"
      ]
     },
     "metadata": {
      "needs_background": "light"
     },
     "output_type": "display_data"
    }
   ],
   "source": [
    "w_wf = sw.plot_unit_templates(sorting=sorting_IC, recording=r_cache)"
   ]
  },
  {
   "cell_type": "code",
   "execution_count": 22,
   "id": "behind-transmission",
   "metadata": {
    "id": "behind-transmission",
    "outputId": "c6eb8615-7062-4fcb-84ff-c1eefd2f19ef"
   },
   "outputs": [
    {
     "name": "stderr",
     "output_type": "stream",
     "text": [
      "/mnt/d/spikeinterface/hussaini-to-nwb/venv/lib/python3.8/site-packages/ipykernel/ipkernel.py:283: DeprecationWarning: `should_run_async` will not call `transform_cell` automatically in the future. Please pass the result to `transformed_cell` argument and any exception that happen during thetransform in `preprocessing_exc_tuple` in IPython 7.17 and above.\n",
      "  and should_run_async(code)\n",
      "/mnt/d/spikeinterface/spikeextractors/spikeextractors/extraction_tools.py:838: DeprecationWarning: `np.float` is a deprecated alias for the builtin `float`. To silence this warning, use `float` by itself. Doing this will not modify any behavior and is safe. If you specifically wanted the numpy scalar type, use `np.float64` here.\n",
      "Deprecated in NumPy 1.20; for more details and guidance: https://numpy.org/devdocs/release/1.20.0-notes.html#deprecations\n",
      "  if isinstance(start_frame, (float, np.float)):\n",
      "/mnt/d/spikeinterface/spikeextractors/spikeextractors/extraction_tools.py:844: DeprecationWarning: `np.float` is a deprecated alias for the builtin `float`. To silence this warning, use `float` by itself. Doing this will not modify any behavior and is safe. If you specifically wanted the numpy scalar type, use `np.float64` here.\n",
      "Deprecated in NumPy 1.20; for more details and guidance: https://numpy.org/devdocs/release/1.20.0-notes.html#deprecations\n",
      "  if isinstance(end_frame, (float, np.float)) and np.isfinite(end_frame):\n",
      "/mnt/d/spikeinterface/hussaini-to-nwb/venv/lib/python3.8/site-packages/spikewidgets-0.5.3-py3.8.egg/spikewidgets/widgets/correlogramswidget/correlograms_phy.py:21: DeprecationWarning: `np.int` is a deprecated alias for the builtin `int`. To silence this warning, use `int` by itself. Doing this will not modify any behavior and is safe. When replacing `np.int`, you may wish to use e.g. `np.int64` or `np.int32` to specify the precision. If you wish to review your current use, check the release note link for additional information.\n",
      "Deprecated in NumPy 1.20; for more details and guidance: https://numpy.org/devdocs/release/1.20.0-notes.html#deprecations\n",
      "/mnt/d/spikeinterface/hussaini-to-nwb/venv/lib/python3.8/site-packages/spikewidgets-0.5.3-py3.8.egg/spikewidgets/widgets/correlogramswidget/correlograms_phy.py:129: DeprecationWarning: `np.bool` is a deprecated alias for the builtin `bool`. To silence this warning, use `bool` by itself. Doing this will not modify any behavior and is safe. If you specifically wanted the numpy scalar type, use `np.bool_` here.\n",
      "Deprecated in NumPy 1.20; for more details and guidance: https://numpy.org/devdocs/release/1.20.0-notes.html#deprecations\n"
     ]
    },
    {
     "data": {
      "image/png": "[encoded data removed]",
      "text/plain": [
       "<Figure size 864x576 with 7 Axes>"
      ]
     },
     "metadata": {
      "needs_background": "light"
     },
     "output_type": "display_data"
    }
   ],
   "source": [
    "w_acc = sw.plot_autocorrelograms(sorting_IC, unit_ids=[0,1,2,3,4,5])"
   ]
  },
  {
   "cell_type": "markdown",
   "id": "incomplete-bankruptcy",
   "metadata": {
    "id": "incomplete-bankruptcy"
   },
   "source": [
    "### Compute extracellular features\n",
    "\n",
    "Extracellular features, such as peak to valley duration or full-width half maximum, are important to classify neurons into putative classes (excitatory - inhibitory). The `postprocessing` module of `spiketoolkit` allows one to compute several of these features:"
   ]
  },
  {
   "cell_type": "code",
   "execution_count": 23,
   "id": "metric-makeup",
   "metadata": {
    "id": "metric-makeup",
    "outputId": "a1ae3196-461f-46ea-aa22-18f7530a803e"
   },
   "outputs": [
    {
     "name": "stderr",
     "output_type": "stream",
     "text": [
      "/mnt/d/spikeinterface/hussaini-to-nwb/venv/lib/python3.8/site-packages/ipykernel/ipkernel.py:283: DeprecationWarning: `should_run_async` will not call `transform_cell` automatically in the future. Please pass the result to `transformed_cell` argument and any exception that happen during thetransform in `preprocessing_exc_tuple` in IPython 7.17 and above.\n",
      "  and should_run_async(code)\n"
     ]
    },
    {
     "data": {
      "text/plain": [
       "['peak_to_valley',\n",
       " 'halfwidth',\n",
       " 'peak_trough_ratio',\n",
       " 'repolarization_slope',\n",
       " 'recovery_slope']"
      ]
     },
     "execution_count": 23,
     "metadata": {},
     "output_type": "execute_result"
    }
   ],
   "source": [
    "st.postprocessing.get_template_features_list()"
   ]
  },
  {
   "cell_type": "code",
   "execution_count": 24,
   "id": "false-transmission",
   "metadata": {
    "id": "false-transmission",
    "outputId": "387766f9-6a88-4a29-ab36-5b625b5e04cf"
   },
   "outputs": [
    {
     "name": "stderr",
     "output_type": "stream",
     "text": [
      "/mnt/d/spikeinterface/spikeextractors/spikeextractors/extraction_tools.py:838: DeprecationWarning: `np.float` is a deprecated alias for the builtin `float`. To silence this warning, use `float` by itself. Doing this will not modify any behavior and is safe. If you specifically wanted the numpy scalar type, use `np.float64` here.\n",
      "Deprecated in NumPy 1.20; for more details and guidance: https://numpy.org/devdocs/release/1.20.0-notes.html#deprecations\n",
      "  if isinstance(start_frame, (float, np.float)):\n",
      "/mnt/d/spikeinterface/spikeextractors/spikeextractors/extraction_tools.py:844: DeprecationWarning: `np.float` is a deprecated alias for the builtin `float`. To silence this warning, use `float` by itself. Doing this will not modify any behavior and is safe. If you specifically wanted the numpy scalar type, use `np.float64` here.\n",
      "Deprecated in NumPy 1.20; for more details and guidance: https://numpy.org/devdocs/release/1.20.0-notes.html#deprecations\n",
      "  if isinstance(end_frame, (float, np.float)) and np.isfinite(end_frame):\n",
      "/mnt/d/spikeinterface/hussaini-to-nwb/venv/lib/python3.8/site-packages/spikefeatures-0.1.2-py3.8.egg/spikefeatures/features.py:206: DeprecationWarning: `np.int` is a deprecated alias for the builtin `int`. To silence this warning, use `int` by itself. Doing this will not modify any behavior and is safe. When replacing `np.int`, you may wish to use e.g. `np.int64` or `np.int32` to specify the precision. If you wish to review your current use, check the release note link for additional information.\n",
      "Deprecated in NumPy 1.20; for more details and guidance: https://numpy.org/devdocs/release/1.20.0-notes.html#deprecations\n"
     ]
    },
    {
     "data": {
      "text/html": [
       "<div>\n",
       "<style scoped>\n",
       "    .dataframe tbody tr th:only-of-type {\n",
       "        vertical-align: middle;\n",
       "    }\n",
       "\n",
       "    .dataframe tbody tr th {\n",
       "        vertical-align: top;\n",
       "    }\n",
       "\n",
       "    .dataframe thead th {\n",
       "        text-align: right;\n",
       "    }\n",
       "</style>\n",
       "<table border=\"1\" class=\"dataframe\">\n",
       "  <thead>\n",
       "    <tr style=\"text-align: right;\">\n",
       "      <th></th>\n",
       "      <th>peak_to_valley</th>\n",
       "      <th>halfwidth</th>\n",
       "      <th>peak_trough_ratio</th>\n",
       "      <th>repolarization_slope</th>\n",
       "      <th>recovery_slope</th>\n",
       "    </tr>\n",
       "  </thead>\n",
       "  <tbody>\n",
       "    <tr>\n",
       "      <th>0</th>\n",
       "      <td>0.000554</td>\n",
       "      <td>0.001223</td>\n",
       "      <td>-0.797084</td>\n",
       "      <td>4.466142e+07</td>\n",
       "      <td>-1.922599e+07</td>\n",
       "    </tr>\n",
       "    <tr>\n",
       "      <th>1</th>\n",
       "      <td>0.000146</td>\n",
       "      <td>0.000108</td>\n",
       "      <td>-0.295551</td>\n",
       "      <td>2.110328e+08</td>\n",
       "      <td>-3.038246e+06</td>\n",
       "    </tr>\n",
       "    <tr>\n",
       "      <th>2</th>\n",
       "      <td>0.000338</td>\n",
       "      <td>0.000102</td>\n",
       "      <td>-0.647350</td>\n",
       "      <td>1.822814e+08</td>\n",
       "      <td>-2.105851e+07</td>\n",
       "    </tr>\n",
       "    <tr>\n",
       "      <th>3</th>\n",
       "      <td>0.000394</td>\n",
       "      <td>0.000119</td>\n",
       "      <td>-0.529854</td>\n",
       "      <td>9.223924e+07</td>\n",
       "      <td>-6.992583e+06</td>\n",
       "    </tr>\n",
       "    <tr>\n",
       "      <th>4</th>\n",
       "      <td>0.000133</td>\n",
       "      <td>0.000094</td>\n",
       "      <td>-0.572051</td>\n",
       "      <td>2.373724e+08</td>\n",
       "      <td>-8.350991e+06</td>\n",
       "    </tr>\n",
       "    <tr>\n",
       "      <th>5</th>\n",
       "      <td>0.000156</td>\n",
       "      <td>0.000108</td>\n",
       "      <td>-0.222512</td>\n",
       "      <td>1.410114e+08</td>\n",
       "      <td>-2.634128e+06</td>\n",
       "    </tr>\n",
       "    <tr>\n",
       "      <th>6</th>\n",
       "      <td>0.001829</td>\n",
       "      <td>0.000096</td>\n",
       "      <td>-0.306613</td>\n",
       "      <td>1.954598e+08</td>\n",
       "      <td>-5.546730e+06</td>\n",
       "    </tr>\n",
       "    <tr>\n",
       "      <th>7</th>\n",
       "      <td>0.000404</td>\n",
       "      <td>0.000108</td>\n",
       "      <td>-0.141827</td>\n",
       "      <td>2.041086e+08</td>\n",
       "      <td>-2.810326e+06</td>\n",
       "    </tr>\n",
       "    <tr>\n",
       "      <th>8</th>\n",
       "      <td>0.000148</td>\n",
       "      <td>0.000115</td>\n",
       "      <td>-0.404154</td>\n",
       "      <td>2.127449e+08</td>\n",
       "      <td>-1.043968e+07</td>\n",
       "    </tr>\n",
       "  </tbody>\n",
       "</table>\n",
       "</div>"
      ],
      "text/plain": [
       "   peak_to_valley  halfwidth  peak_trough_ratio  repolarization_slope  \\\n",
       "0        0.000554   0.001223          -0.797084          4.466142e+07   \n",
       "1        0.000146   0.000108          -0.295551          2.110328e+08   \n",
       "2        0.000338   0.000102          -0.647350          1.822814e+08   \n",
       "3        0.000394   0.000119          -0.529854          9.223924e+07   \n",
       "4        0.000133   0.000094          -0.572051          2.373724e+08   \n",
       "5        0.000156   0.000108          -0.222512          1.410114e+08   \n",
       "6        0.001829   0.000096          -0.306613          1.954598e+08   \n",
       "7        0.000404   0.000108          -0.141827          2.041086e+08   \n",
       "8        0.000148   0.000115          -0.404154          2.127449e+08   \n",
       "\n",
       "   recovery_slope  \n",
       "0   -1.922599e+07  \n",
       "1   -3.038246e+06  \n",
       "2   -2.105851e+07  \n",
       "3   -6.992583e+06  \n",
       "4   -8.350991e+06  \n",
       "5   -2.634128e+06  \n",
       "6   -5.546730e+06  \n",
       "7   -2.810326e+06  \n",
       "8   -1.043968e+07  "
      ]
     },
     "metadata": {},
     "output_type": "display_data"
    }
   ],
   "source": [
    "features = st.postprocessing.compute_unit_template_features(\n",
    "    r_cache, \n",
    "    sorting_KL, \n",
    "    as_dataframe=True, \n",
    "    upsampling_factor=10\n",
    ")\n",
    "display(features)"
   ]
  },
  {
   "cell_type": "markdown",
   "id": "declared-factory",
   "metadata": {
    "id": "declared-factory"
   },
   "source": [
    "For more information about these waveform features, we refer to this [documentation](https://github.com/AllenInstitute/ecephys_spike_sorting/tree/master/ecephys_spike_sorting/modules/mean_waveforms) from the Allen Institute."
   ]
  },
  {
   "cell_type": "markdown",
   "id": "accredited-charity",
   "metadata": {},
   "source": [
    "### Validation\n",
    "\n",
    "The `spiketoolkit` package also provides several functions to compute qualitity metrics about the spike sorting results through the `validation` module.\n",
    "\n",
    "Let's see what metrics are available:"
   ]
  },
  {
   "cell_type": "code",
   "execution_count": 25,
   "id": "secure-gambling",
   "metadata": {},
   "outputs": [
    {
     "name": "stderr",
     "output_type": "stream",
     "text": [
      "/mnt/d/spikeinterface/hussaini-to-nwb/venv/lib/python3.8/site-packages/ipykernel/ipkernel.py:283: DeprecationWarning: `should_run_async` will not call `transform_cell` automatically in the future. Please pass the result to `transformed_cell` argument and any exception that happen during thetransform in `preprocessing_exc_tuple` in IPython 7.17 and above.\n",
      "  and should_run_async(code)\n"
     ]
    },
    {
     "data": {
      "text/plain": [
       "['num_spikes',\n",
       " 'firing_rate',\n",
       " 'presence_ratio',\n",
       " 'isi_violation',\n",
       " 'amplitude_cutoff',\n",
       " 'snr',\n",
       " 'max_drift',\n",
       " 'cumulative_drift',\n",
       " 'silhouette_score',\n",
       " 'isolation_distance',\n",
       " 'l_ratio',\n",
       " 'd_prime',\n",
       " 'noise_overlap',\n",
       " 'nn_hit_rate',\n",
       " 'nn_miss_rate']"
      ]
     },
     "execution_count": 25,
     "metadata": {},
     "output_type": "execute_result"
    }
   ],
   "source": [
    "st.validation.get_quality_metrics_list()"
   ]
  },
  {
   "cell_type": "markdown",
   "id": "behavioral-wallpaper",
   "metadata": {},
   "source": [
    "We can either compute one metric at a time, or compute a subset of metrics using the `compute_quality_metrics` function. \n"
   ]
  },
  {
   "cell_type": "code",
   "execution_count": 26,
   "id": "gross-accused",
   "metadata": {
    "id": "gross-accused",
    "outputId": "fc2a54a1-99e8-4053-cfba-f2ce4595b4d8",
    "scrolled": true
   },
   "outputs": [
    {
     "name": "stdout",
     "output_type": "stream",
     "text": [
      "ISI violations: [0.         0.40350663 4.56686171 0.         0.21895657 0.\n",
      " 0.         0.39925472 1.98912199]\n",
      "SNRs: [2.4622033 2.8598897 6.041115  4.3859906 6.6449604 2.0387847 6.363214\n",
      " 7.006521  7.258491 ]\n"
     ]
    },
    {
     "name": "stderr",
     "output_type": "stream",
     "text": [
      "/mnt/d/spikeinterface/spikeextractors/spikeextractors/extraction_tools.py:838: DeprecationWarning: `np.float` is a deprecated alias for the builtin `float`. To silence this warning, use `float` by itself. Doing this will not modify any behavior and is safe. If you specifically wanted the numpy scalar type, use `np.float64` here.\n",
      "Deprecated in NumPy 1.20; for more details and guidance: https://numpy.org/devdocs/release/1.20.0-notes.html#deprecations\n",
      "  if isinstance(start_frame, (float, np.float)):\n",
      "/mnt/d/spikeinterface/spikeextractors/spikeextractors/extraction_tools.py:844: DeprecationWarning: `np.float` is a deprecated alias for the builtin `float`. To silence this warning, use `float` by itself. Doing this will not modify any behavior and is safe. If you specifically wanted the numpy scalar type, use `np.float64` here.\n",
      "Deprecated in NumPy 1.20; for more details and guidance: https://numpy.org/devdocs/release/1.20.0-notes.html#deprecations\n",
      "  if isinstance(end_frame, (float, np.float)) and np.isfinite(end_frame):\n"
     ]
    }
   ],
   "source": [
    "duration = r_cache.get_num_frames()\n",
    "isi_violations = st.validation.compute_isi_violations(sorting_KL, duration_in_frames=duration)\n",
    "print('ISI violations:', isi_violations)\n",
    "\n",
    "snrs = st.validation.compute_snrs(sorting_KL, r_cache)\n",
    "print('SNRs:', snrs)"
   ]
  },
  {
   "cell_type": "code",
   "execution_count": 27,
   "id": "duplicate-bicycle",
   "metadata": {
    "id": "duplicate-bicycle",
    "outputId": "1df0e432-5540-4282-cb73-1ebd359be9b1",
    "scrolled": true
   },
   "outputs": [
    {
     "data": {
      "text/html": [
       "<div>\n",
       "<style scoped>\n",
       "    .dataframe tbody tr th:only-of-type {\n",
       "        vertical-align: middle;\n",
       "    }\n",
       "\n",
       "    .dataframe tbody tr th {\n",
       "        vertical-align: top;\n",
       "    }\n",
       "\n",
       "    .dataframe thead th {\n",
       "        text-align: right;\n",
       "    }\n",
       "</style>\n",
       "<table border=\"1\" class=\"dataframe\">\n",
       "  <thead>\n",
       "    <tr style=\"text-align: right;\">\n",
       "      <th></th>\n",
       "      <th>firing_rate</th>\n",
       "      <th>isi_violation</th>\n",
       "      <th>snr</th>\n",
       "    </tr>\n",
       "  </thead>\n",
       "  <tbody>\n",
       "    <tr>\n",
       "      <th>0</th>\n",
       "      <td>4.0</td>\n",
       "      <td>0.000000</td>\n",
       "      <td>2.462203</td>\n",
       "    </tr>\n",
       "    <tr>\n",
       "      <th>1</th>\n",
       "      <td>381.0</td>\n",
       "      <td>0.403507</td>\n",
       "      <td>2.859890</td>\n",
       "    </tr>\n",
       "    <tr>\n",
       "      <th>2</th>\n",
       "      <td>10.5</td>\n",
       "      <td>4.566862</td>\n",
       "      <td>6.041115</td>\n",
       "    </tr>\n",
       "    <tr>\n",
       "      <th>3</th>\n",
       "      <td>4.0</td>\n",
       "      <td>0.000000</td>\n",
       "      <td>4.385991</td>\n",
       "    </tr>\n",
       "    <tr>\n",
       "      <th>4</th>\n",
       "      <td>146.5</td>\n",
       "      <td>0.218957</td>\n",
       "      <td>6.644960</td>\n",
       "    </tr>\n",
       "    <tr>\n",
       "      <th>5</th>\n",
       "      <td>12.5</td>\n",
       "      <td>0.000000</td>\n",
       "      <td>2.038785</td>\n",
       "    </tr>\n",
       "    <tr>\n",
       "      <th>6</th>\n",
       "      <td>4.0</td>\n",
       "      <td>0.000000</td>\n",
       "      <td>6.363214</td>\n",
       "    </tr>\n",
       "    <tr>\n",
       "      <th>7</th>\n",
       "      <td>68.0</td>\n",
       "      <td>0.399255</td>\n",
       "      <td>7.006521</td>\n",
       "    </tr>\n",
       "    <tr>\n",
       "      <th>8</th>\n",
       "      <td>22.5</td>\n",
       "      <td>1.989122</td>\n",
       "      <td>7.258491</td>\n",
       "    </tr>\n",
       "  </tbody>\n",
       "</table>\n",
       "</div>"
      ],
      "text/plain": [
       "   firing_rate  isi_violation       snr\n",
       "0          4.0       0.000000  2.462203\n",
       "1        381.0       0.403507  2.859890\n",
       "2         10.5       4.566862  6.041115\n",
       "3          4.0       0.000000  4.385991\n",
       "4        146.5       0.218957  6.644960\n",
       "5         12.5       0.000000  2.038785\n",
       "6          4.0       0.000000  6.363214\n",
       "7         68.0       0.399255  7.006521\n",
       "8         22.5       1.989122  7.258491"
      ]
     },
     "metadata": {},
     "output_type": "display_data"
    }
   ],
   "source": [
    "quality_metrics = st.validation.compute_quality_metrics(\n",
    "    sorting_KL, \n",
    "    r_cache, \n",
    "    metric_names=['firing_rate', 'isi_violation', 'snr'], \n",
    "    as_dataframe=True\n",
    ")\n",
    "display(quality_metrics)"
   ]
  },
  {
   "cell_type": "markdown",
   "id": "third-lemon",
   "metadata": {},
   "source": [
    "For more information about these waveform features, we refer to this [documentation](https://allensdk.readthedocs.io/en/latest/_static/examples/nb/ecephys_quality_metrics.html) from the Allen Institute."
   ]
  },
  {
   "cell_type": "markdown",
   "id": "injured-affect",
   "metadata": {
    "id": "injured-affect"
   },
   "source": [
    "<a id=\"spike_curation\"></a>\n",
    "# 7. Curation\n",
    "[back to index](#index)"
   ]
  },
  {
   "cell_type": "markdown",
   "id": "contemporary-riding",
   "metadata": {
    "id": "contemporary-riding"
   },
   "source": [
    "### 1) Manual curation using Phy\n",
    "\n",
    "To perform manual curation we will export the data to [Phy](https://github.com/cortex-lab/phy). "
   ]
  },
  {
   "cell_type": "code",
   "execution_count": 45,
   "id": "corporate-purchase",
   "metadata": {},
   "outputs": [
    {
     "name": "stdout",
     "output_type": "stream",
     "text": [
      "Collecting phy\n",
      "  Using cached phy-2.0b1-py2.py3-none-any.whl (593 kB)\n",
      "Requirement already satisfied, skipping upgrade: scipy in ./venv/lib/python3.8/site-packages (from phy) (1.6.2)\n",
      "Collecting phylib\n",
      "  Using cached phylib-2.2-py2.py3-none-any.whl (89 kB)\n",
      "Requirement already satisfied, skipping upgrade: matplotlib in ./venv/lib/python3.8/site-packages (from phy) (3.4.1)\n",
      "Collecting mtscomp\n",
      "  Using cached mtscomp-1.0.1-py2.py3-none-any.whl (15 kB)\n",
      "Requirement already satisfied, skipping upgrade: dask in ./venv/lib/python3.8/site-packages (from phy) (2021.3.1)\n",
      "Requirement already satisfied, skipping upgrade: pillow in ./venv/lib/python3.8/site-packages (from phy) (8.2.0)\n",
      "Requirement already satisfied, skipping upgrade: tqdm in ./venv/lib/python3.8/site-packages/tqdm-4.59.0-py3.8.egg (from phy) (4.59.0)\n",
      "Collecting colorcet\n",
      "  Using cached colorcet-2.0.6-py2.py3-none-any.whl (1.6 MB)\n",
      "Requirement already satisfied, skipping upgrade: requests in ./venv/lib/python3.8/site-packages (from phy) (2.25.1)\n",
      "Requirement already satisfied, skipping upgrade: joblib in ./venv/lib/python3.8/site-packages/joblib-1.0.1-py3.8.egg (from phy) (1.0.1)\n",
      "Requirement already satisfied, skipping upgrade: numpy in ./venv/lib/python3.8/site-packages/numpy-1.20.2-py3.8-linux-x86_64.egg (from phy) (1.20.2)\n",
      "Requirement already satisfied, skipping upgrade: h5py in ./venv/lib/python3.8/site-packages (from phy) (2.10.0)\n",
      "Requirement already satisfied, skipping upgrade: click in ./venv/lib/python3.8/site-packages (from phy) (7.1.2)\n",
      "Collecting mkdocs\n",
      "  Using cached mkdocs-1.1.2-py3-none-any.whl (6.4 MB)\n",
      "Requirement already satisfied, skipping upgrade: cython in ./venv/lib/python3.8/site-packages (from phy) (0.29.22)\n",
      "Collecting pyopengl\n",
      "  Using cached PyOpenGL-3.1.5-py3-none-any.whl (2.4 MB)\n",
      "Requirement already satisfied, skipping upgrade: qtconsole in ./venv/lib/python3.8/site-packages (from phy) (5.0.3)\n",
      "Requirement already satisfied, skipping upgrade: toolz in ./venv/lib/python3.8/site-packages (from phylib->phy) (0.11.1)\n",
      "Requirement already satisfied, skipping upgrade: python-dateutil>=2.7 in ./venv/lib/python3.8/site-packages (from matplotlib->phy) (2.8.1)\n",
      "Requirement already satisfied, skipping upgrade: pyparsing>=2.2.1 in ./venv/lib/python3.8/site-packages (from matplotlib->phy) (2.4.7)\n",
      "Requirement already satisfied, skipping upgrade: cycler>=0.10 in ./venv/lib/python3.8/site-packages (from matplotlib->phy) (0.10.0)\n",
      "Requirement already satisfied, skipping upgrade: kiwisolver>=1.0.1 in ./venv/lib/python3.8/site-packages (from matplotlib->phy) (1.3.1)\n",
      "Requirement already satisfied, skipping upgrade: cloudpickle>=1.1.1 in ./venv/lib/python3.8/site-packages (from dask->phy) (1.6.0)\n",
      "Requirement already satisfied, skipping upgrade: fsspec>=0.6.0 in ./venv/lib/python3.8/site-packages (from dask->phy) (0.8.7)\n",
      "Requirement already satisfied, skipping upgrade: partd>=0.3.10 in ./venv/lib/python3.8/site-packages (from dask->phy) (1.1.0)\n",
      "Requirement already satisfied, skipping upgrade: pyyaml in ./venv/lib/python3.8/site-packages (from dask->phy) (5.4.1)\n",
      "Collecting param>=1.7.0\n",
      "  Downloading param-1.10.2a4-py2.py3-none-any.whl (76 kB)\n",
      "\u001b[K     |████████████████████████████████| 76 kB 1.9 MB/s eta 0:00:011\n",
      "\u001b[?25hCollecting pyct>=0.4.4\n",
      "  Using cached pyct-0.4.8-py2.py3-none-any.whl (15 kB)\n",
      "Requirement already satisfied, skipping upgrade: urllib3<1.27,>=1.21.1 in ./venv/lib/python3.8/site-packages (from requests->phy) (1.26.4)\n",
      "Requirement already satisfied, skipping upgrade: chardet<5,>=3.0.2 in ./venv/lib/python3.8/site-packages (from requests->phy) (4.0.0)\n",
      "Requirement already satisfied, skipping upgrade: certifi>=2017.4.17 in ./venv/lib/python3.8/site-packages (from requests->phy) (2020.12.5)\n",
      "Requirement already satisfied, skipping upgrade: idna<3,>=2.5 in ./venv/lib/python3.8/site-packages (from requests->phy) (2.10)\n",
      "Requirement already satisfied, skipping upgrade: six in ./venv/lib/python3.8/site-packages (from h5py->phy) (1.15.0)\n",
      "Collecting lunr[languages]==0.5.8\n",
      "  Using cached lunr-0.5.8-py2.py3-none-any.whl (2.3 MB)\n",
      "Requirement already satisfied, skipping upgrade: tornado>=5.0 in ./venv/lib/python3.8/site-packages (from mkdocs->phy) (6.1)\n",
      "Requirement already satisfied, skipping upgrade: Jinja2>=2.10.1 in ./venv/lib/python3.8/site-packages (from mkdocs->phy) (2.11.3)\n",
      "Processing /home/steburg/.cache/pip/wheels/48/d7/34/372e0521bd5c9f6dcdff307e37ef6f9c00c1e1e2afc9707b5c/livereload-2.6.3-py2.py3-none-any.whl\n",
      "Collecting Markdown>=3.2.1\n",
      "  Using cached Markdown-3.3.4-py3-none-any.whl (97 kB)\n",
      "Requirement already satisfied, skipping upgrade: traitlets in ./venv/lib/python3.8/site-packages (from qtconsole->phy) (5.0.5)\n",
      "Collecting qtpy\n",
      "  Using cached QtPy-1.9.0-py2.py3-none-any.whl (54 kB)\n",
      "Requirement already satisfied, skipping upgrade: ipykernel>=4.1 in ./venv/lib/python3.8/site-packages (from qtconsole->phy) (5.5.3)\n",
      "Requirement already satisfied, skipping upgrade: jupyter-core in ./venv/lib/python3.8/site-packages (from qtconsole->phy) (4.7.1)\n",
      "Requirement already satisfied, skipping upgrade: jupyter-client>=4.1 in ./venv/lib/python3.8/site-packages (from qtconsole->phy) (6.1.12)\n",
      "Requirement already satisfied, skipping upgrade: pygments in ./venv/lib/python3.8/site-packages (from qtconsole->phy) (2.8.1)\n",
      "Requirement already satisfied, skipping upgrade: pyzmq>=17.1 in ./venv/lib/python3.8/site-packages (from qtconsole->phy) (22.0.3)\n",
      "Requirement already satisfied, skipping upgrade: ipython-genutils in ./venv/lib/python3.8/site-packages (from qtconsole->phy) (0.2.0)\n",
      "Requirement already satisfied, skipping upgrade: locket in ./venv/lib/python3.8/site-packages (from partd>=0.3.10->dask->phy) (0.2.1)\n",
      "Processing /home/steburg/.cache/pip/wheels/8e/70/28/3d6ccd6e315f65f245da085482a2e1c7d14b90b30f239e2cf4/future-0.18.2-py3-none-any.whl\n",
      "Processing /home/steburg/.cache/pip/wheels/ff/d5/7b/f1fb4e1e1603b2f01c2424dd60fbcc50c12ef918bafc44b155/nltk-3.5-py3-none-any.whl\n",
      "Requirement already satisfied, skipping upgrade: MarkupSafe>=0.23 in ./venv/lib/python3.8/site-packages (from Jinja2>=2.10.1->mkdocs->phy) (1.1.1)\n",
      "Requirement already satisfied, skipping upgrade: ipython>=5.0.0 in ./venv/lib/python3.8/site-packages (from ipykernel>=4.1->qtconsole->phy) (7.22.0)\n",
      "Collecting regex\n",
      "  Downloading regex-2021.4.4-cp38-cp38-manylinux2014_x86_64.whl (733 kB)\n",
      "\u001b[K     |████████████████████████████████| 733 kB 3.2 MB/s eta 0:00:01\n",
      "\u001b[?25hRequirement already satisfied, skipping upgrade: pickleshare in ./venv/lib/python3.8/site-packages (from ipython>=5.0.0->ipykernel>=4.1->qtconsole->phy) (0.7.5)\n",
      "Requirement already satisfied, skipping upgrade: decorator in ./venv/lib/python3.8/site-packages (from ipython>=5.0.0->ipykernel>=4.1->qtconsole->phy) (4.4.2)\n",
      "Requirement already satisfied, skipping upgrade: pexpect>4.3; sys_platform != \"win32\" in ./venv/lib/python3.8/site-packages (from ipython>=5.0.0->ipykernel>=4.1->qtconsole->phy) (4.8.0)\n",
      "Requirement already satisfied, skipping upgrade: prompt-toolkit!=3.0.0,!=3.0.1,<3.1.0,>=2.0.0 in ./venv/lib/python3.8/site-packages (from ipython>=5.0.0->ipykernel>=4.1->qtconsole->phy) (3.0.18)\n",
      "Requirement already satisfied, skipping upgrade: jedi>=0.16 in ./venv/lib/python3.8/site-packages (from ipython>=5.0.0->ipykernel>=4.1->qtconsole->phy) (0.18.0)\n",
      "Requirement already satisfied, skipping upgrade: backcall in ./venv/lib/python3.8/site-packages (from ipython>=5.0.0->ipykernel>=4.1->qtconsole->phy) (0.2.0)\n",
      "Requirement already satisfied, skipping upgrade: setuptools>=18.5 in ./venv/lib/python3.8/site-packages (from ipython>=5.0.0->ipykernel>=4.1->qtconsole->phy) (44.0.0)\n",
      "Requirement already satisfied, skipping upgrade: ptyprocess>=0.5 in ./venv/lib/python3.8/site-packages (from pexpect>4.3; sys_platform != \"win32\"->ipython>=5.0.0->ipykernel>=4.1->qtconsole->phy) (0.7.0)\n",
      "Requirement already satisfied, skipping upgrade: wcwidth in ./venv/lib/python3.8/site-packages (from prompt-toolkit!=3.0.0,!=3.0.1,<3.1.0,>=2.0.0->ipython>=5.0.0->ipykernel>=4.1->qtconsole->phy) (0.2.5)\n",
      "Requirement already satisfied, skipping upgrade: parso<0.9.0,>=0.8.0 in ./venv/lib/python3.8/site-packages (from jedi>=0.16->ipython>=5.0.0->ipykernel>=4.1->qtconsole->phy) (0.8.2)\n",
      "Installing collected packages: mtscomp, phylib, param, pyct, colorcet, future, regex, nltk, lunr, livereload, Markdown, mkdocs, pyopengl, phy, qtpy\n"
     ]
    },
    {
     "name": "stdout",
     "output_type": "stream",
     "text": [
      "Successfully installed Markdown-3.3.4 colorcet-2.0.6 future-0.18.2 livereload-2.6.3 lunr-0.5.8 mkdocs-1.1.2 mtscomp-1.0.1 nltk-3.5 param-1.10.2a4 phy-2.0b1 phylib-2.2 pyct-0.4.8 pyopengl-3.1.5 qtpy-1.9.0 regex-2021.4.4\r\n"
     ]
    }
   ],
   "source": [
    "!pip install phy --pre --upgrade"
   ]
  },
  {
   "cell_type": "code",
   "execution_count": 6,
   "id": "legal-bridal",
   "metadata": {
    "id": "legal-bridal",
    "outputId": "41b64a1f-b896-46ad-dd6d-b34153211c1a"
   },
   "outputs": [
    {
     "name": "stderr",
     "output_type": "stream",
     "text": [
      "\r",
      "Extracting waveforms in chunks:   0%|          | 0/1 [00:00<?, ?it/s]"
     ]
    },
    {
     "name": "stdout",
     "output_type": "stream",
     "text": [
      "Converting to Phy format\n",
      "Number of chunks: 1 - Number of jobs: 1\n"
     ]
    },
    {
     "name": "stderr",
     "output_type": "stream",
     "text": [
      "Extracting waveforms in chunks: 100%|##########| 1/1 [00:00<00:00,  7.57it/s]\n"
     ]
    },
    {
     "name": "stdout",
     "output_type": "stream",
     "text": [
      "Fitting PCA of 3 dimensions on 1306 waveforms\n",
      "Projecting waveforms on PC\n"
     ]
    },
    {
     "name": "stderr",
     "output_type": "stream",
     "text": [
      "/mnt/d/spikeinterface/hussaini-to-nwb/tidy_venv/spikeextractors/spikeextractors/extraction_tools.py:838: DeprecationWarning: `np.float` is a deprecated alias for the builtin `float`. To silence this warning, use `float` by itself. Doing this will not modify any behavior and is safe. If you specifically wanted the numpy scalar type, use `np.float64` here.\n",
      "Deprecated in NumPy 1.20; for more details and guidance: https://numpy.org/devdocs/release/1.20.0-notes.html#deprecations\n",
      "  if isinstance(start_frame, (float, np.float)):\n",
      "/mnt/d/spikeinterface/hussaini-to-nwb/tidy_venv/spikeextractors/spikeextractors/extraction_tools.py:844: DeprecationWarning: `np.float` is a deprecated alias for the builtin `float`. To silence this warning, use `float` by itself. Doing this will not modify any behavior and is safe. If you specifically wanted the numpy scalar type, use `np.float64` here.\n",
      "Deprecated in NumPy 1.20; for more details and guidance: https://numpy.org/devdocs/release/1.20.0-notes.html#deprecations\n",
      "  if isinstance(end_frame, (float, np.float)) and np.isfinite(end_frame):\n"
     ]
    },
    {
     "name": "stdout",
     "output_type": "stream",
     "text": [
      "Saving files\n",
      "Saved phy format to:  /mnt/d/spikeinterface/hussaini-to-nwb/tidy_venv/phy_KL\n",
      "Run:\n",
      "\n",
      "phy template-gui  /mnt/d/spikeinterface/hussaini-to-nwb/tidy_venv/phy_KL/params.py\n"
     ]
    }
   ],
   "source": [
    "st.postprocessing.export_to_phy(\n",
    "    r_cache, \n",
    "    sorting_KL, \n",
    "    output_folder='phy_KL',\n",
    "    grouping_property='group', \n",
    "    verbose=True, \n",
    "    recompute_info=True\n",
    ")"
   ]
  },
  {
   "cell_type": "markdown",
   "id": "accurate-mauritius",
   "metadata": {},
   "source": [
    "If you have trouble using the GUI from phy refer to the instructions here: https://github.com/cortex-lab/phy."
   ]
  },
  {
   "cell_type": "code",
   "execution_count": 8,
   "id": "medieval-hurricane",
   "metadata": {},
   "outputs": [
    {
     "name": "stdout",
     "output_type": "stream",
     "text": [
      "Collecting PyQt5\n",
      "  Using cached PyQt5-5.15.4-cp36.cp37.cp38.cp39-abi3-manylinux2014_x86_64.whl (8.3 MB)\n",
      "Collecting PyQt5-sip<13,>=12.8\n",
      "  Using cached PyQt5_sip-12.8.1-cp38-cp38-manylinux1_x86_64.whl (293 kB)\n",
      "Collecting PyQt5-Qt5>=5.15\n",
      "  Using cached PyQt5_Qt5-5.15.2-py3-none-manylinux2014_x86_64.whl (59.9 MB)\n",
      "Installing collected packages: PyQt5-sip, PyQt5-Qt5, PyQt5\n",
      "Successfully installed PyQt5-5.15.4 PyQt5-Qt5-5.15.2 PyQt5-sip-12.8.1\n"
     ]
    }
   ],
   "source": [
    "!pip install PyQt5"
   ]
  },
  {
   "cell_type": "code",
   "execution_count": 9,
   "id": "recent-catalog",
   "metadata": {},
   "outputs": [
    {
     "name": "stdout",
     "output_type": "stream",
     "text": [
      "Collecting PyQtWebEngine\n",
      "  Using cached PyQtWebEngine-5.15.4-cp36.cp37.cp38.cp39-abi3-manylinux2014_x86_64.whl (229 kB)\n",
      "Requirement already satisfied: PyQt5>=5.15.4 in ./venv/lib/python3.8/site-packages (from PyQtWebEngine) (5.15.4)\n",
      "Requirement already satisfied: PyQt5-sip<13,>=12.8 in ./venv/lib/python3.8/site-packages (from PyQtWebEngine) (12.8.1)\n",
      "Collecting PyQtWebEngine-Qt5>=5.15\n",
      "  Using cached PyQtWebEngine_Qt5-5.15.2-py3-none-manylinux2014_x86_64.whl (67.5 MB)\n",
      "Requirement already satisfied: PyQt5-Qt5>=5.15 in ./venv/lib/python3.8/site-packages (from PyQt5>=5.15.4->PyQtWebEngine) (5.15.2)\n",
      "Installing collected packages: PyQtWebEngine-Qt5, PyQtWebEngine\n",
      "Successfully installed PyQtWebEngine-5.15.4 PyQtWebEngine-Qt5-5.15.2\n"
     ]
    }
   ],
   "source": [
    "!pip install PyQtWebEngine"
   ]
  },
  {
   "cell_type": "code",
   "execution_count": 7,
   "id": "lasting-brighton",
   "metadata": {},
   "outputs": [
    {
     "name": "stderr",
     "output_type": "stream",
     "text": [
      "/mnt/d/spikeinterface/hussaini-to-nwb/tidy_venv/venv/lib/python3.8/site-packages/ipykernel/ipkernel.py:283: DeprecationWarning: `should_run_async` will not call `transform_cell` automatically in the future. Please pass the result to `transformed_cell` argument and any exception that happen during thetransform in `preprocessing_exc_tuple` in IPython 7.17 and above.\n",
      "  and should_run_async(code)\n"
     ]
    },
    {
     "name": "stdout",
     "output_type": "stream",
     "text": [
      "QStandardPaths: XDG_RUNTIME_DIR not set, defaulting to '/tmp/runtime-steburg'\n",
      "\u001b[0m15:17:00.205 [I] state:180            Copied /mnt/d/spikeinterface/hussaini-to-nwb/tidy_venv/venv/lib/python3.8/site-packages/phy/apps/template/static/state.json to /home/steburg/.phy/TemplateGUI/state.json.\u001b[0m\n",
      "[829:865:0404/151703.508393:ERROR:udev_watcher.cc(61)] Failed to enable receiving udev events.\n",
      "\u001b[33m15:17:08.245 [W] gui:671              Could not create view TemplateFeatureView.\u001b[0m\n",
      "js: Uncaught SyntaxError: Unexpected token '<'\n",
      "\u001b[31m15:17:17.210 [E] qt:449               [JS:L02] Uncaught SyntaxError: Unexpected token '<'\u001b[0m\n",
      "js: Uncaught SyntaxError: Unexpected token '<'\n",
      "\u001b[31m15:20:47.716 [E] qt:449               [JS:L02] Uncaught SyntaxError: Unexpected token '<'\u001b[0m\n",
      "\u001b[31m15:21:22.956 [E] qt:178               Timeout in _block().\u001b[0m\n",
      "\u001b[31m15:21:24.729 [E] __init__:62          An error has occurred (RuntimeError): Timeout in _block().\n",
      "Traceback (most recent call last):\n",
      "  File \"/mnt/d/spikeinterface/hussaini-to-nwb/tidy_venv/venv/lib/python3.8/site-packages/phy/gui/gui.py\", line 590, in closeEvent\n",
      "    res = emit('close', self)\n",
      "  File \"/mnt/d/spikeinterface/hussaini-to-nwb/tidy_venv/venv/lib/python3.8/site-packages/phylib/utils/event.py\", line 141, in emit\n",
      "    res.append(f(sender, *args, **kwargs))\n",
      "  File \"/mnt/d/spikeinterface/hussaini-to-nwb/tidy_venv/venv/lib/python3.8/site-packages/phy/cluster/supervisor.py\", line 728, in _save_gui_state\n",
      "    gui.state.update_view_state(self.cluster_view, self.cluster_view.state)\n",
      "  File \"/mnt/d/spikeinterface/hussaini-to-nwb/tidy_venv/venv/lib/python3.8/site-packages/phy/cluster/supervisor.py\", line 332, in state\n",
      "    b.wait()\n",
      "  File \"/mnt/d/spikeinterface/hussaini-to-nwb/tidy_venv/venv/lib/python3.8/site-packages/phy/gui/widgets.py\", line 182, in wait\n",
      "    _block(self.have_all_finished)\n",
      "  File \"/mnt/d/spikeinterface/hussaini-to-nwb/tidy_venv/venv/lib/python3.8/site-packages/phy/gui/qt.py\", line 182, in _block\n",
      "    raise RuntimeError(\"Timeout in _block().\")\n",
      "RuntimeError: Timeout in _block().\n",
      "\u001b[0m\n",
      "\u001b[31m15:21:34.603 [E] qt:178               Timeout in _block().\u001b[0m\n",
      "\u001b[31m15:21:34.621 [E] __init__:62          An error has occurred (RuntimeError): Timeout in _block().\n",
      "Traceback (most recent call last):\n",
      "  File \"/mnt/d/spikeinterface/hussaini-to-nwb/tidy_venv/venv/lib/python3.8/site-packages/phy/gui/gui.py\", line 590, in closeEvent\n",
      "    res = emit('close', self)\n",
      "  File \"/mnt/d/spikeinterface/hussaini-to-nwb/tidy_venv/venv/lib/python3.8/site-packages/phylib/utils/event.py\", line 141, in emit\n",
      "    res.append(f(sender, *args, **kwargs))\n",
      "  File \"/mnt/d/spikeinterface/hussaini-to-nwb/tidy_venv/venv/lib/python3.8/site-packages/phy/cluster/supervisor.py\", line 728, in _save_gui_state\n",
      "    gui.state.update_view_state(self.cluster_view, self.cluster_view.state)\n",
      "  File \"/mnt/d/spikeinterface/hussaini-to-nwb/tidy_venv/venv/lib/python3.8/site-packages/phy/cluster/supervisor.py\", line 332, in state\n",
      "    b.wait()\n",
      "  File \"/mnt/d/spikeinterface/hussaini-to-nwb/tidy_venv/venv/lib/python3.8/site-packages/phy/gui/widgets.py\", line 182, in wait\n",
      "    _block(self.have_all_finished)\n",
      "  File \"/mnt/d/spikeinterface/hussaini-to-nwb/tidy_venv/venv/lib/python3.8/site-packages/phy/gui/qt.py\", line 182, in _block\n",
      "    raise RuntimeError(\"Timeout in _block().\")\n",
      "RuntimeError: Timeout in _block().\n",
      "\u001b[0m\n"
     ]
    }
   ],
   "source": [
    "!phy template-gui phy_KL/params.py"
   ]
  },
  {
   "cell_type": "code",
   "execution_count": 8,
   "id": "interstate-rotation",
   "metadata": {
    "id": "interstate-rotation",
    "outputId": "967cfb25-0d5e-4757-97e9-bdc55701479f"
   },
   "outputs": [],
   "source": [
    "%%capture --no-display\n",
    "!phy template-gui phy_KL/params.py"
   ]
  },
  {
   "cell_type": "markdown",
   "id": "agricultural-revelation",
   "metadata": {
    "id": "agricultural-revelation"
   },
   "source": [
    "After curating the results we can reload it using the PhySortingExtractor:"
   ]
  },
  {
   "cell_type": "code",
   "execution_count": 9,
   "id": "scenic-syracuse",
   "metadata": {
    "id": "scenic-syracuse",
    "outputId": "7cccbbde-62fc-40a2-e34e-fc0dc878012a"
   },
   "outputs": [
    {
     "name": "stderr",
     "output_type": "stream",
     "text": [
      "/mnt/d/spikeinterface/hussaini-to-nwb/tidy_venv/spikeextractors/spikeextractors/extractors/phyextractors/phyextractors.py:145: DeprecationWarning: `np.int` is a deprecated alias for the builtin `int`. To silence this warning, use `int` by itself. Doing this will not modify any behavior and is safe. When replacing `np.int`, you may wish to use e.g. `np.int64` or `np.int32` to specify the precision. If you wish to review your current use, check the release note link for additional information.\n",
      "Deprecated in NumPy 1.20; for more details and guidance: https://numpy.org/devdocs/release/1.20.0-notes.html#deprecations\n",
      "  if isinstance(row[1], (int, np.int, float, np.float, str)) and len(row) == 2:\n",
      "/mnt/d/spikeinterface/hussaini-to-nwb/tidy_venv/spikeextractors/spikeextractors/extractors/phyextractors/phyextractors.py:145: DeprecationWarning: `np.float` is a deprecated alias for the builtin `float`. To silence this warning, use `float` by itself. Doing this will not modify any behavior and is safe. If you specifically wanted the numpy scalar type, use `np.float64` here.\n",
      "Deprecated in NumPy 1.20; for more details and guidance: https://numpy.org/devdocs/release/1.20.0-notes.html#deprecations\n",
      "  if isinstance(row[1], (int, np.int, float, np.float, str)) and len(row) == 2:\n"
     ]
    }
   ],
   "source": [
    "sorting_KL_phy_curated = se.PhySortingExtractor('phy_KL/', exclude_cluster_groups=['noise'])"
   ]
  },
  {
   "cell_type": "code",
   "execution_count": 10,
   "id": "presidential-state",
   "metadata": {
    "id": "presidential-state",
    "outputId": "6face789-1f1c-4139-a942-206aa1f65263"
   },
   "outputs": [
    {
     "name": "stdout",
     "output_type": "stream",
     "text": [
      "9\n",
      "Unit ids after manual curation: [0, 1, 2, 3, 4, 5, 6, 7, 8]\n"
     ]
    }
   ],
   "source": [
    "print(len(sorting_KL_phy_curated.get_unit_ids()))\n",
    "print(f\"Unit ids after manual curation: {sorting_KL_phy_curated.get_unit_ids()}\")"
   ]
  },
  {
   "cell_type": "markdown",
   "id": "bulgarian-adult",
   "metadata": {
    "id": "bulgarian-adult"
   },
   "source": [
    "### b) Automatic curation based on quality metrics"
   ]
  },
  {
   "cell_type": "code",
   "execution_count": 28,
   "id": "dynamic-florist",
   "metadata": {
    "id": "dynamic-florist"
   },
   "outputs": [
    {
     "name": "stderr",
     "output_type": "stream",
     "text": [
      "/mnt/d/spikeinterface/hussaini-to-nwb/venv/lib/python3.8/site-packages/ipykernel/ipkernel.py:283: DeprecationWarning: `should_run_async` will not call `transform_cell` automatically in the future. Please pass the result to `transformed_cell` argument and any exception that happen during thetransform in `preprocessing_exc_tuple` in IPython 7.17 and above.\n",
      "  and should_run_async(code)\n"
     ]
    }
   ],
   "source": [
    "snr_thresh = 5\n",
    "isi_viol_thresh = 0.5"
   ]
  },
  {
   "cell_type": "code",
   "execution_count": 29,
   "id": "personal-accessory",
   "metadata": {
    "id": "personal-accessory"
   },
   "outputs": [
    {
     "name": "stderr",
     "output_type": "stream",
     "text": [
      "/mnt/d/spikeinterface/spikeextractors/spikeextractors/extraction_tools.py:838: DeprecationWarning: `np.float` is a deprecated alias for the builtin `float`. To silence this warning, use `float` by itself. Doing this will not modify any behavior and is safe. If you specifically wanted the numpy scalar type, use `np.float64` here.\n",
      "Deprecated in NumPy 1.20; for more details and guidance: https://numpy.org/devdocs/release/1.20.0-notes.html#deprecations\n",
      "  if isinstance(start_frame, (float, np.float)):\n",
      "/mnt/d/spikeinterface/spikeextractors/spikeextractors/extraction_tools.py:844: DeprecationWarning: `np.float` is a deprecated alias for the builtin `float`. To silence this warning, use `float` by itself. Doing this will not modify any behavior and is safe. If you specifically wanted the numpy scalar type, use `np.float64` here.\n",
      "Deprecated in NumPy 1.20; for more details and guidance: https://numpy.org/devdocs/release/1.20.0-notes.html#deprecations\n",
      "  if isinstance(end_frame, (float, np.float)) and np.isfinite(end_frame):\n"
     ]
    }
   ],
   "source": [
    "sorting_auto = st.curation.threshold_isi_violations(sorting_KL, isi_viol_thresh, 'greater', duration)"
   ]
  },
  {
   "cell_type": "code",
   "execution_count": 30,
   "id": "accessible-massage",
   "metadata": {
    "id": "accessible-massage",
    "outputId": "837e3757-5d56-4ed2-d81e-57c97f3aff75"
   },
   "outputs": [
    {
     "data": {
      "text/plain": [
       "7"
      ]
     },
     "execution_count": 30,
     "metadata": {},
     "output_type": "execute_result"
    }
   ],
   "source": [
    "len(sorting_auto.get_unit_ids())"
   ]
  },
  {
   "cell_type": "code",
   "execution_count": 31,
   "id": "portable-voice",
   "metadata": {
    "id": "portable-voice"
   },
   "outputs": [],
   "source": [
    "sorting_auto = st.curation.threshold_snrs(sorting_auto, r_cache, snr_thresh, 'less')"
   ]
  },
  {
   "cell_type": "code",
   "execution_count": 32,
   "id": "assisted-coffee",
   "metadata": {
    "id": "assisted-coffee",
    "outputId": "dc03b4b9-c13b-4ad8-814f-d8aa22de3389"
   },
   "outputs": [
    {
     "data": {
      "text/plain": [
       "1"
      ]
     },
     "execution_count": 32,
     "metadata": {},
     "output_type": "execute_result"
    }
   ],
   "source": [
    "len(sorting_auto.get_unit_ids())"
   ]
  },
  {
   "cell_type": "markdown",
   "id": "passing-circulation",
   "metadata": {
    "id": "passing-circulation"
   },
   "source": [
    "### c) Consensus-based curation"
   ]
  },
  {
   "cell_type": "markdown",
   "id": "separated-dimension",
   "metadata": {
    "id": "separated-dimension"
   },
   "source": [
    "Can we combine the output of multiple sorters to curate the spike sorting output?\n",
    "\n",
    "To answer this question we can use the comparison module. We first compare and match the output spike trains of the different sorters, and we can then extract a new SortingExtractor with only the units in agreement."
   ]
  },
  {
   "cell_type": "code",
   "execution_count": 33,
   "id": "artificial-designer",
   "metadata": {
    "id": "artificial-designer",
    "outputId": "9e9c3e22-7b75-4c1d-fa66-a7944be1516f"
   },
   "outputs": [
    {
     "name": "stdout",
     "output_type": "stream",
     "text": [
      "Multicomaprison step 1: pairwise comparison\n",
      "  Comparing:  KL  and  IC\n",
      "Multicomaprison step 2: make graph\n",
      "Multicomaprison step 3: clean graph\n",
      "Removed 0 duplicate nodes\n",
      "Multicomaprison step 4: extract agreement from graph\n"
     ]
    }
   ],
   "source": [
    "mcmp = sc.compare_multiple_sorters([sorting_KL, sorting_IC], ['KL', 'IC'], spiketrain_mode='union',\n",
    "                                   verbose=True)"
   ]
  },
  {
   "cell_type": "code",
   "execution_count": 34,
   "id": "clear-panel",
   "metadata": {
    "id": "clear-panel",
    "outputId": "d4d7bff1-f168-4a56-c9d0-56476939c168"
   },
   "outputs": [
    {
     "data": {
      "image/png": "[encoded data removed]",
      "text/plain": [
       "<Figure size 864x576 with 1 Axes>"
      ]
     },
     "metadata": {},
     "output_type": "display_data"
    },
    {
     "data": {
      "image/png": "[encoded data removed]",
      "text/plain": [
       "<Figure size 288x172.8 with 3 Axes>"
      ]
     },
     "metadata": {
      "needs_background": "light"
     },
     "output_type": "display_data"
    }
   ],
   "source": [
    "w = sw.plot_multicomp_agreement(mcmp)\n",
    "w = sw.plot_multicomp_agreement_by_sorter(mcmp)"
   ]
  },
  {
   "cell_type": "code",
   "execution_count": 35,
   "id": "economic-county",
   "metadata": {
    "id": "economic-county"
   },
   "outputs": [],
   "source": [
    "agreement_sorting = mcmp.get_agreement_sorting(minimum_agreement_count=2)"
   ]
  },
  {
   "cell_type": "code",
   "execution_count": 36,
   "id": "classical-italy",
   "metadata": {
    "id": "classical-italy",
    "outputId": "e1475179-3643-4a94-dc2d-735b051253fd"
   },
   "outputs": [
    {
     "data": {
      "text/plain": [
       "[]"
      ]
     },
     "execution_count": 36,
     "metadata": {},
     "output_type": "execute_result"
    }
   ],
   "source": [
    "agreement_sorting.get_unit_ids()"
   ]
  },
  {
   "cell_type": "code",
   "execution_count": 37,
   "id": "atomic-notice",
   "metadata": {
    "id": "atomic-notice",
    "outputId": "118ee0af-0c45-441f-dc11-f0e21c0f71c2"
   },
   "outputs": [
    {
     "ename": "NameError",
     "evalue": "name 'sorting_KL_phy_curated' is not defined",
     "output_type": "error",
     "traceback": [
      "\u001b[0;31m---------------------------------------------------------------------------\u001b[0m",
      "\u001b[0;31mNameError\u001b[0m                                 Traceback (most recent call last)",
      "\u001b[0;32m<ipython-input-37-3e2572277b9a>\u001b[0m in \u001b[0;36m<module>\u001b[0;34m\u001b[0m\n\u001b[0;32m----> 1\u001b[0;31m \u001b[0mcmp_manual_agr\u001b[0m \u001b[0;34m=\u001b[0m \u001b[0msc\u001b[0m\u001b[0;34m.\u001b[0m\u001b[0mcompare_sorter_to_ground_truth\u001b[0m\u001b[0;34m(\u001b[0m\u001b[0msorting_KL_phy_curated\u001b[0m\u001b[0;34m,\u001b[0m \u001b[0magreement_sorting\u001b[0m\u001b[0;34m)\u001b[0m\u001b[0;34m\u001b[0m\u001b[0;34m\u001b[0m\u001b[0m\n\u001b[0m",
      "\u001b[0;31mNameError\u001b[0m: name 'sorting_KL_phy_curated' is not defined"
     ]
    }
   ],
   "source": [
    "cmp_manual_agr = sc.compare_sorter_to_ground_truth(sorting_KL_phy_curated, agreement_sorting)"
   ]
  },
  {
   "cell_type": "code",
   "execution_count": 40,
   "id": "closing-factory",
   "metadata": {
    "id": "closing-factory"
   },
   "outputs": [
    {
     "ename": "NameError",
     "evalue": "name 'cmp_manual_agr' is not defined",
     "output_type": "error",
     "traceback": [
      "\u001b[0;31m---------------------------------------------------------------------------\u001b[0m",
      "\u001b[0;31mNameError\u001b[0m                                 Traceback (most recent call last)",
      "\u001b[0;32m<ipython-input-40-14e5f8cce3f8>\u001b[0m in \u001b[0;36m<module>\u001b[0;34m\u001b[0m\n\u001b[0;32m----> 1\u001b[0;31m \u001b[0mw_agr\u001b[0m \u001b[0;34m=\u001b[0m \u001b[0msw\u001b[0m\u001b[0;34m.\u001b[0m\u001b[0mplot_agreement_matrix\u001b[0m\u001b[0;34m(\u001b[0m\u001b[0mcmp_manual_agr\u001b[0m\u001b[0;34m)\u001b[0m\u001b[0;34m\u001b[0m\u001b[0;34m\u001b[0m\u001b[0m\n\u001b[0m",
      "\u001b[0;31mNameError\u001b[0m: name 'cmp_manual_agr' is not defined"
     ]
    }
   ],
   "source": [
    "w_agr = sw.plot_agreement_matrix(cmp_manual_agr)"
   ]
  },
  {
   "cell_type": "code",
   "execution_count": 41,
   "id": "broadband-induction",
   "metadata": {
    "id": "broadband-induction"
   },
   "outputs": [
    {
     "ename": "Exception",
     "evalue": "No non-empty units in the sorting result, can't save to phy.",
     "output_type": "error",
     "traceback": [
      "\u001b[0;31m---------------------------------------------------------------------------\u001b[0m",
      "\u001b[0;31mException\u001b[0m                                 Traceback (most recent call last)",
      "\u001b[0;32m<ipython-input-41-1d62a615d30b>\u001b[0m in \u001b[0;36m<module>\u001b[0;34m\u001b[0m\n\u001b[0;32m----> 1\u001b[0;31m st.postprocessing.export_to_phy(r_cache, \n\u001b[0m\u001b[1;32m      2\u001b[0m                                 \u001b[0magreement_sorting\u001b[0m\u001b[0;34m,\u001b[0m \u001b[0moutput_folder\u001b[0m\u001b[0;34m=\u001b[0m\u001b[0;34m'phy_AGR'\u001b[0m\u001b[0;34m,\u001b[0m\u001b[0;34m\u001b[0m\u001b[0;34m\u001b[0m\u001b[0m\n\u001b[1;32m      3\u001b[0m                                 grouping_property='group', verbose=True, recompute_info=True)\n",
      "\u001b[0;32m/mnt/d/spikeinterface/hussaini-to-nwb/tidy_venv/venv/lib/python3.8/site-packages/spiketoolkit/postprocessing/postprocessing_tools.py\u001b[0m in \u001b[0;36mexport_to_phy\u001b[0;34m(recording, sorting, output_folder, compute_pc_features, compute_amplitudes, max_channels_per_template, copy_binary, **kwargs)\u001b[0m\n\u001b[1;32m   1329\u001b[0m \u001b[0;34m\u001b[0m\u001b[0m\n\u001b[1;32m   1330\u001b[0m     \u001b[0;32mif\u001b[0m \u001b[0mlen\u001b[0m\u001b[0;34m(\u001b[0m\u001b[0msorting\u001b[0m\u001b[0;34m.\u001b[0m\u001b[0mget_unit_ids\u001b[0m\u001b[0;34m(\u001b[0m\u001b[0;34m)\u001b[0m\u001b[0;34m)\u001b[0m \u001b[0;34m==\u001b[0m \u001b[0;36m0\u001b[0m\u001b[0;34m:\u001b[0m\u001b[0;34m\u001b[0m\u001b[0;34m\u001b[0m\u001b[0m\n\u001b[0;32m-> 1331\u001b[0;31m         \u001b[0;32mraise\u001b[0m \u001b[0mException\u001b[0m\u001b[0;34m(\u001b[0m\u001b[0;34m\"No non-empty units in the sorting result, can't save to phy.\"\u001b[0m\u001b[0;34m)\u001b[0m\u001b[0;34m\u001b[0m\u001b[0;34m\u001b[0m\u001b[0m\n\u001b[0m\u001b[1;32m   1332\u001b[0m \u001b[0;34m\u001b[0m\u001b[0m\n\u001b[1;32m   1333\u001b[0m     \u001b[0moutput_folder\u001b[0m \u001b[0;34m=\u001b[0m \u001b[0mPath\u001b[0m\u001b[0;34m(\u001b[0m\u001b[0moutput_folder\u001b[0m\u001b[0;34m)\u001b[0m\u001b[0;34m.\u001b[0m\u001b[0mabsolute\u001b[0m\u001b[0;34m(\u001b[0m\u001b[0;34m)\u001b[0m\u001b[0;34m\u001b[0m\u001b[0;34m\u001b[0m\u001b[0m\n",
      "\u001b[0;31mException\u001b[0m: No non-empty units in the sorting result, can't save to phy."
     ]
    }
   ],
   "source": [
    "st.postprocessing.export_to_phy(r_cache, \n",
    "                                agreement_sorting, output_folder='phy_AGR',\n",
    "                                grouping_property='group', verbose=True, recompute_info=True)"
   ]
  },
  {
   "cell_type": "code",
   "execution_count": null,
   "id": "norwegian-country",
   "metadata": {
    "id": "norwegian-country"
   },
   "outputs": [],
   "source": [
    "%%capture --no-display\n",
    "!phy template-gui phy_AGR/params.py"
   ]
  },
  {
   "cell_type": "markdown",
   "id": "cognitive-warehouse",
   "metadata": {
    "id": "cognitive-warehouse"
   },
   "source": [
    "<a id=\"export_nwb\"></a>\n",
    "# 7. Save to / load from NWB\n",
    "[back to index](#index)"
   ]
  },
  {
   "cell_type": "markdown",
   "id": "informative-atlanta",
   "metadata": {},
   "source": [
    "TODO delete\n",
    "\n",
    "Follow https://github.com/catalystneuro/nwb-conversion-tools/blob/master/documentation/conversion_tools_structure.md#step-by-step-operations\n",
    "\n",
    "and https://github.com/catalystneuro/movshon-lab-to-nwb/blob/main/tutorials/openephys_nwb_conversion_detailed.ipynb"
   ]
  },
  {
   "cell_type": "code",
   "execution_count": 9,
   "id": "about-nightmare",
   "metadata": {},
   "outputs": [
    {
     "name": "stderr",
     "output_type": "stream",
     "text": [
      "/mnt/d/spikeinterface/hussaini-to-nwb/tidy_venv/venv/lib/python3.8/site-packages/hdmf/spec/namespace.py:206: PendingDeprecationWarning: \n",
      "safe_load will be removed, use\n",
      "\n",
      "  yaml=YAML(typ='safe', pure=True)\n",
      "  yaml.load(...)\n",
      "\n",
      "instead\n",
      "  d = yaml.safe_load(stream)\n",
      "/mnt/d/spikeinterface/hussaini-to-nwb/tidy_venv/venv/lib/python3.8/site-packages/ruamel/yaml/main.py:1105: PendingDeprecationWarning: \n",
      "load will be removed, use\n",
      "\n",
      "  yaml=YAML(typ='unsafe', pure=True)\n",
      "  yaml.load(...)\n",
      "\n",
      "instead\n",
      "  return load(stream, SafeLoader, version)\n",
      "/mnt/d/spikeinterface/hussaini-to-nwb/tidy_venv/venv/lib/python3.8/site-packages/hdmf/spec/namespace.py:215: PendingDeprecationWarning: \n",
      "safe_load will be removed, use\n",
      "\n",
      "  yaml=YAML(typ='safe', pure=True)\n",
      "  yaml.load(...)\n",
      "\n",
      "instead\n",
      "  specs = yaml.safe_load(stream)\n",
      "/mnt/d/spikeinterface/hussaini-to-nwb/tidy_venv/venv/lib/python3.8/site-packages/ipywidgets/widgets/widget.py:282: DeprecationWarning: Widget registration using a string name has been deprecated. Widget registration now uses a plain `@register` decorator.\n",
      "  warnings.warn(\"Widget registration using a string name has been deprecated. Widget registration now uses a plain `@register` decorator.\", DeprecationWarning)\n",
      "/mnt/d/spikeinterface/hussaini-to-nwb/tidy_venv/venv/lib/python3.8/site-packages/ipysheet/sheet.py:96: DeprecationWarning: metadata {'value': {}} was set from the constructor. With traitlets 4.1, metadata should be set using the .tag() method, e.g., Int().tag(key1='value1', key2='value2')\n",
      "  named_cells = Dict(value={}, allow_none=False).tag(sync=True, **widgets.widget_serialization)\n",
      "/mnt/d/spikeinterface/hussaini-to-nwb/tidy_venv/venv/lib/python3.8/site-packages/ipyvolume/utils.py:19: DeprecationWarning: Using or importing the ABCs from 'collections' instead of from 'collections.abc' is deprecated since Python 3.3, and in 3.9 it will stop working\n",
      "  if isinstance(v, collections.Mapping):\n",
      "/mnt/d/spikeinterface/hussaini-to-nwb/tidy_venv/venv/lib/python3.8/site-packages/traittypes/traittypes.py:20: DeprecationWarning: \n",
      "            Sentinel is not a public part of the traitlets API.\n",
      "            It was published by mistake, and may be removed in the future.\n",
      "            \n",
      "  Empty = Sentinel('Empty', 'traittypes',\n",
      "/mnt/d/spikeinterface/hussaini-to-nwb/tidy_venv/venv/lib/python3.8/site-packages/ipyvolume/transferfunction.py:46: DeprecationWarning: Traits should be given as instances, not types (for example, `Int()`, not `Int`). Passing types is deprecated in traitlets 4.1.\n",
      "  levels = traitlets.List(traitlets.CFloat, default_value=[0.1, 0.5, 0.8]).tag(sync=True)\n",
      "/mnt/d/spikeinterface/hussaini-to-nwb/tidy_venv/venv/lib/python3.8/site-packages/ipyvolume/transferfunction.py:47: DeprecationWarning: Traits should be given as instances, not types (for example, `Int()`, not `Int`). Passing types is deprecated in traitlets 4.1.\n",
      "  opacities = traitlets.List(traitlets.CFloat, default_value=[0.01, 0.05, 0.1]).tag(sync=True)\n",
      "/mnt/d/spikeinterface/hussaini-to-nwb/tidy_venv/venv/lib/python3.8/site-packages/ipyvolume/transferfunction.py:48: DeprecationWarning: Traits should be given as instances, not types (for example, `Int()`, not `Int`). Passing types is deprecated in traitlets 4.1.\n",
      "  widths = traitlets.List(traitlets.CFloat, default_value=[0.1, 0.1, 0.1]).tag(sync=True)\n",
      "/mnt/d/spikeinterface/hussaini-to-nwb/tidy_venv/venv/lib/python3.8/site-packages/pythreejs/traits.py:269: DeprecationWarning: Keyword `traits` is deprecated in traitlets 5.0, use `per_key_traits` instead\n",
      "  super(Uniform, self).__init__(traits=dict(\n",
      "/mnt/d/spikeinterface/hussaini-to-nwb/tidy_venv/venv/lib/python3.8/site-packages/pythreejs/materials/ShaderMaterial_autogen.py:29: DeprecationWarning: Keyword `trait` is deprecated in traitlets 5.0, use `value_trait` instead\n",
      "  uniforms = Dict(default_value={}, trait=Uniform(allow_none=True), allow_none=False).tag(sync=True, **uniforms_serialization)\n",
      "/mnt/d/spikeinterface/hussaini-to-nwb/tidy_venv/venv/lib/python3.8/site-packages/ipyvolume/widgets.py:43: DeprecationWarning: Traits should be given as instances, not types (for example, `Int()`, not `Int`). Passing types is deprecated in traitlets 4.1.\n",
      "  traitlets.List(Unicode, [], allow_none=True),\n",
      "/mnt/d/spikeinterface/hussaini-to-nwb/tidy_venv/venv/lib/python3.8/site-packages/ipyvolume/widgets.py:102: DeprecationWarning: Traits should be given as instances, not types (for example, `Int()`, not `Int`). Passing types is deprecated in traitlets 4.1.\n",
      "  traitlets.List(Unicode, [], allow_none=True),\n",
      "/mnt/d/spikeinterface/hussaini-to-nwb/tidy_venv/venv/lib/python3.8/site-packages/ipyvolume/widgets.py:213: DeprecationWarning: Traits should be given as instances, not types (for example, `Int()`, not `Int`). Passing types is deprecated in traitlets 4.1.\n",
      "  camera_center = traitlets.List(traitlets.CFloat, default_value=[0, 0, 0]).tag(sync=True)\n",
      "/mnt/d/spikeinterface/hussaini-to-nwb/tidy_venv/venv/lib/python3.8/site-packages/ipyvolume/widgets.py:239: DeprecationWarning: Traits should be given as instances, not types (for example, `Int()`, not `Int`). Passing types is deprecated in traitlets 4.1.\n",
      "  xlim = traitlets.List(traitlets.CFloat, default_value=[0, 1], minlen=2, maxlen=2).tag(sync=True)\n",
      "/mnt/d/spikeinterface/hussaini-to-nwb/tidy_venv/venv/lib/python3.8/site-packages/ipyvolume/widgets.py:240: DeprecationWarning: Traits should be given as instances, not types (for example, `Int()`, not `Int`). Passing types is deprecated in traitlets 4.1.\n",
      "  ylim = traitlets.List(traitlets.CFloat, default_value=[0, 1], minlen=2, maxlen=2).tag(sync=True)\n",
      "/mnt/d/spikeinterface/hussaini-to-nwb/tidy_venv/venv/lib/python3.8/site-packages/ipyvolume/widgets.py:241: DeprecationWarning: Traits should be given as instances, not types (for example, `Int()`, not `Int`). Passing types is deprecated in traitlets 4.1.\n",
      "  zlim = traitlets.List(traitlets.CFloat, default_value=[0, 1], minlen=2, maxlen=2).tag(sync=True)\n",
      "/mnt/d/spikeinterface/hussaini-to-nwb/tidy_venv/venv/lib/python3.8/site-packages/ipyvolume/widgets.py:243: DeprecationWarning: Traits should be given as instances, not types (for example, `Int()`, not `Int`). Passing types is deprecated in traitlets 4.1.\n",
      "  matrix_projection = traitlets.List(traitlets.CFloat, default_value=[0] * 16, allow_none=True, minlen=16, maxlen=16).tag(sync=True)\n",
      "/mnt/d/spikeinterface/hussaini-to-nwb/tidy_venv/venv/lib/python3.8/site-packages/ipyvolume/widgets.py:244: DeprecationWarning: Traits should be given as instances, not types (for example, `Int()`, not `Int`). Passing types is deprecated in traitlets 4.1.\n",
      "  matrix_world = traitlets.List(traitlets.CFloat, default_value=[0] * 16, allow_none=True, minlen=16, maxlen=16).tag(sync=True)\n"
     ]
    }
   ],
   "source": [
    "from pynwb import NWBFile, NWBHDF5IO\n",
    "from nwbwidgets import nwb2widget\n",
    "from pathlib import Path\n",
    "import yaml\n",
    "import pprint"
   ]
  },
  {
   "cell_type": "code",
   "execution_count": null,
   "id": "hidden-patrol",
   "metadata": {
    "id": "hidden-patrol"
   },
   "outputs": [],
   "source": [
    "# TODO ..."
   ]
  },
  {
   "cell_type": "code",
   "execution_count": 8,
   "id": "frank-destination",
   "metadata": {
    "id": "frank-destination"
   },
   "outputs": [],
   "source": [
    "metadata = {'Ecephys': {'Device': [{'name': 'Axona',\n",
    "                                    'description': 'Axona DacqUSB acquisition system'}]}}"
   ]
  },
  {
   "cell_type": "code",
   "execution_count": 11,
   "id": "extended-venice",
   "metadata": {},
   "outputs": [
    {
     "data": {
      "text/plain": [
       "{'Ecephys': {'Device': [{'name': 'Axona',\n",
       "    'description': 'Axona DacqUSB acquisition system'}]}}"
      ]
     },
     "execution_count": 11,
     "metadata": {},
     "output_type": "execute_result"
    }
   ],
   "source": [
    "metadata"
   ]
  },
  {
   "cell_type": "code",
   "execution_count": 18,
   "id": "signal-general",
   "metadata": {
    "id": "signal-general",
    "scrolled": true
   },
   "outputs": [
    {
     "ename": "UnsupportedOperation",
     "evalue": "Cannot read data from file axona_tutorial_re.nwb in mode 'r+'. There are no values.",
     "output_type": "error",
     "traceback": [
      "\u001b[0;31m---------------------------------------------------------------------------\u001b[0m",
      "\u001b[0;31mUnsupportedOperation\u001b[0m                      Traceback (most recent call last)",
      "\u001b[0;32m/mnt/d/spikeinterface/hussaini-to-nwb/venv/lib/python3.8/site-packages/hdmf/backends/hdf5/h5tools.py\u001b[0m in \u001b[0;36mread\u001b[0;34m(self, **kwargs)\u001b[0m\n\u001b[1;32m    430\u001b[0m         \u001b[0;32mtry\u001b[0m\u001b[0;34m:\u001b[0m\u001b[0;34m\u001b[0m\u001b[0;34m\u001b[0m\u001b[0m\n\u001b[0;32m--> 431\u001b[0;31m             \u001b[0;32mreturn\u001b[0m \u001b[0mcall_docval_func\u001b[0m\u001b[0;34m(\u001b[0m\u001b[0msuper\u001b[0m\u001b[0;34m(\u001b[0m\u001b[0;34m)\u001b[0m\u001b[0;34m.\u001b[0m\u001b[0mread\u001b[0m\u001b[0;34m,\u001b[0m \u001b[0mkwargs\u001b[0m\u001b[0;34m)\u001b[0m\u001b[0;34m\u001b[0m\u001b[0;34m\u001b[0m\u001b[0m\n\u001b[0m\u001b[1;32m    432\u001b[0m         \u001b[0;32mexcept\u001b[0m \u001b[0mUnsupportedOperation\u001b[0m \u001b[0;32mas\u001b[0m \u001b[0me\u001b[0m\u001b[0;34m:\u001b[0m\u001b[0;34m\u001b[0m\u001b[0;34m\u001b[0m\u001b[0m\n",
      "\u001b[0;32m/mnt/d/spikeinterface/hussaini-to-nwb/venv/lib/python3.8/site-packages/hdmf/utils.py\u001b[0m in \u001b[0;36mcall_docval_func\u001b[0;34m(func, kwargs)\u001b[0m\n\u001b[1;32m    422\u001b[0m     \u001b[0mfargs\u001b[0m\u001b[0;34m,\u001b[0m \u001b[0mfkwargs\u001b[0m \u001b[0;34m=\u001b[0m \u001b[0mfmt_docval_args\u001b[0m\u001b[0;34m(\u001b[0m\u001b[0mfunc\u001b[0m\u001b[0;34m,\u001b[0m \u001b[0mkwargs\u001b[0m\u001b[0;34m)\u001b[0m\u001b[0;34m\u001b[0m\u001b[0;34m\u001b[0m\u001b[0m\n\u001b[0;32m--> 423\u001b[0;31m     \u001b[0;32mreturn\u001b[0m \u001b[0mfunc\u001b[0m\u001b[0;34m(\u001b[0m\u001b[0;34m*\u001b[0m\u001b[0mfargs\u001b[0m\u001b[0;34m,\u001b[0m \u001b[0;34m**\u001b[0m\u001b[0mfkwargs\u001b[0m\u001b[0;34m)\u001b[0m\u001b[0;34m\u001b[0m\u001b[0;34m\u001b[0m\u001b[0m\n\u001b[0m\u001b[1;32m    424\u001b[0m \u001b[0;34m\u001b[0m\u001b[0m\n",
      "\u001b[0;32m/mnt/d/spikeinterface/hussaini-to-nwb/venv/lib/python3.8/site-packages/hdmf/utils.py\u001b[0m in \u001b[0;36mfunc_call\u001b[0;34m(*args, **kwargs)\u001b[0m\n\u001b[1;32m    579\u001b[0m                 \u001b[0mpargs\u001b[0m \u001b[0;34m=\u001b[0m \u001b[0m_check_args\u001b[0m\u001b[0;34m(\u001b[0m\u001b[0margs\u001b[0m\u001b[0;34m,\u001b[0m \u001b[0mkwargs\u001b[0m\u001b[0;34m)\u001b[0m\u001b[0;34m\u001b[0m\u001b[0;34m\u001b[0m\u001b[0m\n\u001b[0;32m--> 580\u001b[0;31m                 \u001b[0;32mreturn\u001b[0m \u001b[0mfunc\u001b[0m\u001b[0;34m(\u001b[0m\u001b[0margs\u001b[0m\u001b[0;34m[\u001b[0m\u001b[0;36m0\u001b[0m\u001b[0;34m]\u001b[0m\u001b[0;34m,\u001b[0m \u001b[0;34m**\u001b[0m\u001b[0mpargs\u001b[0m\u001b[0;34m)\u001b[0m\u001b[0;34m\u001b[0m\u001b[0;34m\u001b[0m\u001b[0m\n\u001b[0m\u001b[1;32m    581\u001b[0m         \u001b[0;32melse\u001b[0m\u001b[0;34m:\u001b[0m\u001b[0;34m\u001b[0m\u001b[0;34m\u001b[0m\u001b[0m\n",
      "\u001b[0;32m/mnt/d/spikeinterface/hussaini-to-nwb/venv/lib/python3.8/site-packages/hdmf/backends/io.py\u001b[0m in \u001b[0;36mread\u001b[0;34m(self, **kwargs)\u001b[0m\n\u001b[1;32m     39\u001b[0m             \u001b[0;31m# TODO also check that the keys are appropriate. print a better error message\u001b[0m\u001b[0;34m\u001b[0m\u001b[0;34m\u001b[0m\u001b[0;34m\u001b[0m\u001b[0m\n\u001b[0;32m---> 40\u001b[0;31m             \u001b[0;32mraise\u001b[0m \u001b[0mUnsupportedOperation\u001b[0m\u001b[0;34m(\u001b[0m\u001b[0;34m'Cannot build data. There are no values.'\u001b[0m\u001b[0;34m)\u001b[0m\u001b[0;34m\u001b[0m\u001b[0;34m\u001b[0m\u001b[0m\n\u001b[0m\u001b[1;32m     41\u001b[0m         \u001b[0mcontainer\u001b[0m \u001b[0;34m=\u001b[0m \u001b[0mself\u001b[0m\u001b[0;34m.\u001b[0m\u001b[0m__manager\u001b[0m\u001b[0;34m.\u001b[0m\u001b[0mconstruct\u001b[0m\u001b[0;34m(\u001b[0m\u001b[0mf_builder\u001b[0m\u001b[0;34m)\u001b[0m\u001b[0;34m\u001b[0m\u001b[0;34m\u001b[0m\u001b[0m\n",
      "\u001b[0;31mUnsupportedOperation\u001b[0m: Cannot build data. There are no values.",
      "\nDuring handling of the above exception, another exception occurred:\n",
      "\u001b[0;31mUnsupportedOperation\u001b[0m                      Traceback (most recent call last)",
      "\u001b[0;32m<ipython-input-18-c58ce9b5f7cf>\u001b[0m in \u001b[0;36m<module>\u001b[0;34m\u001b[0m\n\u001b[0;32m----> 1\u001b[0;31m \u001b[0mse\u001b[0m\u001b[0;34m.\u001b[0m\u001b[0mNwbRecordingExtractor\u001b[0m\u001b[0;34m.\u001b[0m\u001b[0mwrite_recording\u001b[0m\u001b[0;34m(\u001b[0m\u001b[0mr_cache\u001b[0m\u001b[0;34m,\u001b[0m \u001b[0;34m'axona_tutorial_re.nwb'\u001b[0m\u001b[0;34m,\u001b[0m \u001b[0mmetadata\u001b[0m\u001b[0;34m=\u001b[0m\u001b[0mmetadata\u001b[0m\u001b[0;34m)\u001b[0m\u001b[0;34m\u001b[0m\u001b[0;34m\u001b[0m\u001b[0m\n\u001b[0m",
      "\u001b[0;32m/mnt/d/spikeinterface/spikeextractors/spikeextractors/extractors/nwbextractors/nwbextractors.py\u001b[0m in \u001b[0;36mwrite_recording\u001b[0;34m(recording, save_path, overwrite, nwbfile, buffer_mb, use_times, metadata, write_as_lfp, write_scaled)\u001b[0m\n\u001b[1;32m   1015\u001b[0m             \u001b[0;32mwith\u001b[0m \u001b[0mNWBHDF5IO\u001b[0m\u001b[0;34m(\u001b[0m\u001b[0mstr\u001b[0m\u001b[0;34m(\u001b[0m\u001b[0msave_path\u001b[0m\u001b[0;34m)\u001b[0m\u001b[0;34m,\u001b[0m \u001b[0mmode\u001b[0m\u001b[0;34m=\u001b[0m\u001b[0mread_mode\u001b[0m\u001b[0;34m)\u001b[0m \u001b[0;32mas\u001b[0m \u001b[0mio\u001b[0m\u001b[0;34m:\u001b[0m\u001b[0;34m\u001b[0m\u001b[0;34m\u001b[0m\u001b[0m\n\u001b[1;32m   1016\u001b[0m                 \u001b[0;32mif\u001b[0m \u001b[0mread_mode\u001b[0m \u001b[0;34m==\u001b[0m \u001b[0;34m'r+'\u001b[0m\u001b[0;34m:\u001b[0m\u001b[0;34m\u001b[0m\u001b[0;34m\u001b[0m\u001b[0m\n\u001b[0;32m-> 1017\u001b[0;31m                     \u001b[0mnwbfile\u001b[0m \u001b[0;34m=\u001b[0m \u001b[0mio\u001b[0m\u001b[0;34m.\u001b[0m\u001b[0mread\u001b[0m\u001b[0;34m(\u001b[0m\u001b[0;34m)\u001b[0m\u001b[0;34m\u001b[0m\u001b[0;34m\u001b[0m\u001b[0m\n\u001b[0m\u001b[1;32m   1018\u001b[0m                 \u001b[0;32melse\u001b[0m\u001b[0;34m:\u001b[0m\u001b[0;34m\u001b[0m\u001b[0;34m\u001b[0m\u001b[0m\n\u001b[1;32m   1019\u001b[0m                     \u001b[0;31m# Default arguments will be over-written if contained in metadata\u001b[0m\u001b[0;34m\u001b[0m\u001b[0;34m\u001b[0m\u001b[0;34m\u001b[0m\u001b[0m\n",
      "\u001b[0;32m/mnt/d/spikeinterface/hussaini-to-nwb/venv/lib/python3.8/site-packages/hdmf/backends/hdf5/h5tools.py\u001b[0m in \u001b[0;36mread\u001b[0;34m(self, **kwargs)\u001b[0m\n\u001b[1;32m    432\u001b[0m         \u001b[0;32mexcept\u001b[0m \u001b[0mUnsupportedOperation\u001b[0m \u001b[0;32mas\u001b[0m \u001b[0me\u001b[0m\u001b[0;34m:\u001b[0m\u001b[0;34m\u001b[0m\u001b[0;34m\u001b[0m\u001b[0m\n\u001b[1;32m    433\u001b[0m             \u001b[0;32mif\u001b[0m \u001b[0mstr\u001b[0m\u001b[0;34m(\u001b[0m\u001b[0me\u001b[0m\u001b[0;34m)\u001b[0m \u001b[0;34m==\u001b[0m \u001b[0;34m'Cannot build data. There are no values.'\u001b[0m\u001b[0;34m:\u001b[0m  \u001b[0;31m# pragma: no cover\u001b[0m\u001b[0;34m\u001b[0m\u001b[0;34m\u001b[0m\u001b[0m\n\u001b[0;32m--> 434\u001b[0;31m                 raise UnsupportedOperation(\"Cannot read data from file %s in mode '%s'. There are no values.\"\n\u001b[0m\u001b[1;32m    435\u001b[0m                                            % (self.source, self.__mode))\n\u001b[1;32m    436\u001b[0m \u001b[0;34m\u001b[0m\u001b[0m\n",
      "\u001b[0;31mUnsupportedOperation\u001b[0m: Cannot read data from file axona_tutorial_re.nwb in mode 'r+'. There are no values."
     ]
    }
   ],
   "source": [
    "se.NwbRecordingExtractor.write_recording(r_cache, 'axona_tutorial_re.nwb', metadata=metadata)"
   ]
  },
  {
   "cell_type": "code",
   "execution_count": 19,
   "id": "similar-amount",
   "metadata": {
    "id": "similar-amount"
   },
   "outputs": [
    {
     "name": "stderr",
     "output_type": "stream",
     "text": [
      "/mnt/d/spikeinterface/spikeextractors/spikeextractors/extractors/nwbextractors/nwbextractors.py:1233: DeprecationWarning: `np.float` is a deprecated alias for the builtin `float`. To silence this warning, use `float` by itself. Doing this will not modify any behavior and is safe. If you specifically wanted the numpy scalar type, use `np.float64` here.\n",
      "Deprecated in NumPy 1.20; for more details and guidance: https://numpy.org/devdocs/release/1.20.0-notes.html#deprecations\n",
      "  if isinstance(prop_value, (int, np.integer, float, np.float, str, bool)):\n",
      "/mnt/d/spikeinterface/spikeextractors/spikeextractors/extractors/nwbextractors/nwbextractors.py:1257: UserWarning: Description for property group not found in property_descriptions. Setting description to 'no description'\n",
      "  warnings.warn(\n"
     ]
    }
   ],
   "source": [
    "se.NwbSortingExtractor.write_sorting(sorting_KL, 'axona_tutorial_se.nwb')"
   ]
  },
  {
   "cell_type": "code",
   "execution_count": 21,
   "id": "spatial-stability",
   "metadata": {
    "id": "spatial-stability"
   },
   "outputs": [
    {
     "ename": "UnsupportedOperation",
     "evalue": "Cannot read data from file axona_tutorial_re.nwb in mode 'r'. There are no values.",
     "output_type": "error",
     "traceback": [
      "\u001b[0;31m---------------------------------------------------------------------------\u001b[0m",
      "\u001b[0;31mUnsupportedOperation\u001b[0m                      Traceback (most recent call last)",
      "\u001b[0;32m/mnt/d/spikeinterface/hussaini-to-nwb/venv/lib/python3.8/site-packages/hdmf/backends/hdf5/h5tools.py\u001b[0m in \u001b[0;36mread\u001b[0;34m(self, **kwargs)\u001b[0m\n\u001b[1;32m    430\u001b[0m         \u001b[0;32mtry\u001b[0m\u001b[0;34m:\u001b[0m\u001b[0;34m\u001b[0m\u001b[0;34m\u001b[0m\u001b[0m\n\u001b[0;32m--> 431\u001b[0;31m             \u001b[0;32mreturn\u001b[0m \u001b[0mcall_docval_func\u001b[0m\u001b[0;34m(\u001b[0m\u001b[0msuper\u001b[0m\u001b[0;34m(\u001b[0m\u001b[0;34m)\u001b[0m\u001b[0;34m.\u001b[0m\u001b[0mread\u001b[0m\u001b[0;34m,\u001b[0m \u001b[0mkwargs\u001b[0m\u001b[0;34m)\u001b[0m\u001b[0;34m\u001b[0m\u001b[0;34m\u001b[0m\u001b[0m\n\u001b[0m\u001b[1;32m    432\u001b[0m         \u001b[0;32mexcept\u001b[0m \u001b[0mUnsupportedOperation\u001b[0m \u001b[0;32mas\u001b[0m \u001b[0me\u001b[0m\u001b[0;34m:\u001b[0m\u001b[0;34m\u001b[0m\u001b[0;34m\u001b[0m\u001b[0m\n",
      "\u001b[0;32m/mnt/d/spikeinterface/hussaini-to-nwb/venv/lib/python3.8/site-packages/hdmf/utils.py\u001b[0m in \u001b[0;36mcall_docval_func\u001b[0;34m(func, kwargs)\u001b[0m\n\u001b[1;32m    422\u001b[0m     \u001b[0mfargs\u001b[0m\u001b[0;34m,\u001b[0m \u001b[0mfkwargs\u001b[0m \u001b[0;34m=\u001b[0m \u001b[0mfmt_docval_args\u001b[0m\u001b[0;34m(\u001b[0m\u001b[0mfunc\u001b[0m\u001b[0;34m,\u001b[0m \u001b[0mkwargs\u001b[0m\u001b[0;34m)\u001b[0m\u001b[0;34m\u001b[0m\u001b[0;34m\u001b[0m\u001b[0m\n\u001b[0;32m--> 423\u001b[0;31m     \u001b[0;32mreturn\u001b[0m \u001b[0mfunc\u001b[0m\u001b[0;34m(\u001b[0m\u001b[0;34m*\u001b[0m\u001b[0mfargs\u001b[0m\u001b[0;34m,\u001b[0m \u001b[0;34m**\u001b[0m\u001b[0mfkwargs\u001b[0m\u001b[0;34m)\u001b[0m\u001b[0;34m\u001b[0m\u001b[0;34m\u001b[0m\u001b[0m\n\u001b[0m\u001b[1;32m    424\u001b[0m \u001b[0;34m\u001b[0m\u001b[0m\n",
      "\u001b[0;32m/mnt/d/spikeinterface/hussaini-to-nwb/venv/lib/python3.8/site-packages/hdmf/utils.py\u001b[0m in \u001b[0;36mfunc_call\u001b[0;34m(*args, **kwargs)\u001b[0m\n\u001b[1;32m    579\u001b[0m                 \u001b[0mpargs\u001b[0m \u001b[0;34m=\u001b[0m \u001b[0m_check_args\u001b[0m\u001b[0;34m(\u001b[0m\u001b[0margs\u001b[0m\u001b[0;34m,\u001b[0m \u001b[0mkwargs\u001b[0m\u001b[0;34m)\u001b[0m\u001b[0;34m\u001b[0m\u001b[0;34m\u001b[0m\u001b[0m\n\u001b[0;32m--> 580\u001b[0;31m                 \u001b[0;32mreturn\u001b[0m \u001b[0mfunc\u001b[0m\u001b[0;34m(\u001b[0m\u001b[0margs\u001b[0m\u001b[0;34m[\u001b[0m\u001b[0;36m0\u001b[0m\u001b[0;34m]\u001b[0m\u001b[0;34m,\u001b[0m \u001b[0;34m**\u001b[0m\u001b[0mpargs\u001b[0m\u001b[0;34m)\u001b[0m\u001b[0;34m\u001b[0m\u001b[0;34m\u001b[0m\u001b[0m\n\u001b[0m\u001b[1;32m    581\u001b[0m         \u001b[0;32melse\u001b[0m\u001b[0;34m:\u001b[0m\u001b[0;34m\u001b[0m\u001b[0;34m\u001b[0m\u001b[0m\n",
      "\u001b[0;32m/mnt/d/spikeinterface/hussaini-to-nwb/venv/lib/python3.8/site-packages/hdmf/backends/io.py\u001b[0m in \u001b[0;36mread\u001b[0;34m(self, **kwargs)\u001b[0m\n\u001b[1;32m     39\u001b[0m             \u001b[0;31m# TODO also check that the keys are appropriate. print a better error message\u001b[0m\u001b[0;34m\u001b[0m\u001b[0;34m\u001b[0m\u001b[0;34m\u001b[0m\u001b[0m\n\u001b[0;32m---> 40\u001b[0;31m             \u001b[0;32mraise\u001b[0m \u001b[0mUnsupportedOperation\u001b[0m\u001b[0;34m(\u001b[0m\u001b[0;34m'Cannot build data. There are no values.'\u001b[0m\u001b[0;34m)\u001b[0m\u001b[0;34m\u001b[0m\u001b[0;34m\u001b[0m\u001b[0m\n\u001b[0m\u001b[1;32m     41\u001b[0m         \u001b[0mcontainer\u001b[0m \u001b[0;34m=\u001b[0m \u001b[0mself\u001b[0m\u001b[0;34m.\u001b[0m\u001b[0m__manager\u001b[0m\u001b[0;34m.\u001b[0m\u001b[0mconstruct\u001b[0m\u001b[0;34m(\u001b[0m\u001b[0mf_builder\u001b[0m\u001b[0;34m)\u001b[0m\u001b[0;34m\u001b[0m\u001b[0;34m\u001b[0m\u001b[0m\n",
      "\u001b[0;31mUnsupportedOperation\u001b[0m: Cannot build data. There are no values.",
      "\nDuring handling of the above exception, another exception occurred:\n",
      "\u001b[0;31mUnsupportedOperation\u001b[0m                      Traceback (most recent call last)",
      "\u001b[0;32m<ipython-input-21-b8646d257edb>\u001b[0m in \u001b[0;36m<module>\u001b[0;34m\u001b[0m\n\u001b[0;32m----> 1\u001b[0;31m \u001b[0mrecording_nwb\u001b[0m \u001b[0;34m=\u001b[0m \u001b[0mse\u001b[0m\u001b[0;34m.\u001b[0m\u001b[0mNwbRecordingExtractor\u001b[0m\u001b[0;34m(\u001b[0m\u001b[0;34m'axona_tutorial_re.nwb'\u001b[0m\u001b[0;34m)\u001b[0m\u001b[0;34m\u001b[0m\u001b[0;34m\u001b[0m\u001b[0m\n\u001b[0m",
      "\u001b[0;32m/mnt/d/spikeinterface/spikeextractors/spikeextractors/extractors/nwbextractors/nwbextractors.py\u001b[0m in \u001b[0;36m__init__\u001b[0;34m(self, file_path, electrical_series_name)\u001b[0m\n\u001b[1;32m    183\u001b[0m         \u001b[0mself\u001b[0m\u001b[0;34m.\u001b[0m\u001b[0m_path\u001b[0m \u001b[0;34m=\u001b[0m \u001b[0mstr\u001b[0m\u001b[0;34m(\u001b[0m\u001b[0mfile_path\u001b[0m\u001b[0;34m)\u001b[0m\u001b[0;34m\u001b[0m\u001b[0;34m\u001b[0m\u001b[0m\n\u001b[1;32m    184\u001b[0m         \u001b[0;32mwith\u001b[0m \u001b[0mNWBHDF5IO\u001b[0m\u001b[0;34m(\u001b[0m\u001b[0mself\u001b[0m\u001b[0;34m.\u001b[0m\u001b[0m_path\u001b[0m\u001b[0;34m,\u001b[0m \u001b[0;34m'r'\u001b[0m\u001b[0;34m)\u001b[0m \u001b[0;32mas\u001b[0m \u001b[0mio\u001b[0m\u001b[0;34m:\u001b[0m\u001b[0;34m\u001b[0m\u001b[0;34m\u001b[0m\u001b[0m\n\u001b[0;32m--> 185\u001b[0;31m             \u001b[0mnwbfile\u001b[0m \u001b[0;34m=\u001b[0m \u001b[0mio\u001b[0m\u001b[0;34m.\u001b[0m\u001b[0mread\u001b[0m\u001b[0;34m(\u001b[0m\u001b[0;34m)\u001b[0m\u001b[0;34m\u001b[0m\u001b[0;34m\u001b[0m\u001b[0m\n\u001b[0m\u001b[1;32m    186\u001b[0m             \u001b[0;32mif\u001b[0m \u001b[0melectrical_series_name\u001b[0m \u001b[0;32mis\u001b[0m \u001b[0;32mnot\u001b[0m \u001b[0;32mNone\u001b[0m\u001b[0;34m:\u001b[0m\u001b[0;34m\u001b[0m\u001b[0;34m\u001b[0m\u001b[0m\n\u001b[1;32m    187\u001b[0m                 \u001b[0mself\u001b[0m\u001b[0;34m.\u001b[0m\u001b[0m_electrical_series_name\u001b[0m \u001b[0;34m=\u001b[0m \u001b[0melectrical_series_name\u001b[0m\u001b[0;34m\u001b[0m\u001b[0;34m\u001b[0m\u001b[0m\n",
      "\u001b[0;32m/mnt/d/spikeinterface/hussaini-to-nwb/venv/lib/python3.8/site-packages/hdmf/backends/hdf5/h5tools.py\u001b[0m in \u001b[0;36mread\u001b[0;34m(self, **kwargs)\u001b[0m\n\u001b[1;32m    432\u001b[0m         \u001b[0;32mexcept\u001b[0m \u001b[0mUnsupportedOperation\u001b[0m \u001b[0;32mas\u001b[0m \u001b[0me\u001b[0m\u001b[0;34m:\u001b[0m\u001b[0;34m\u001b[0m\u001b[0;34m\u001b[0m\u001b[0m\n\u001b[1;32m    433\u001b[0m             \u001b[0;32mif\u001b[0m \u001b[0mstr\u001b[0m\u001b[0;34m(\u001b[0m\u001b[0me\u001b[0m\u001b[0;34m)\u001b[0m \u001b[0;34m==\u001b[0m \u001b[0;34m'Cannot build data. There are no values.'\u001b[0m\u001b[0;34m:\u001b[0m  \u001b[0;31m# pragma: no cover\u001b[0m\u001b[0;34m\u001b[0m\u001b[0;34m\u001b[0m\u001b[0m\n\u001b[0;32m--> 434\u001b[0;31m                 raise UnsupportedOperation(\"Cannot read data from file %s in mode '%s'. There are no values.\"\n\u001b[0m\u001b[1;32m    435\u001b[0m                                            % (self.source, self.__mode))\n\u001b[1;32m    436\u001b[0m \u001b[0;34m\u001b[0m\u001b[0m\n",
      "\u001b[0;31mUnsupportedOperation\u001b[0m: Cannot read data from file axona_tutorial_re.nwb in mode 'r'. There are no values."
     ]
    }
   ],
   "source": [
    "recording_nwb = se.NwbRecordingExtractor('axona_tutorial_re.nwb')"
   ]
  },
  {
   "cell_type": "code",
   "execution_count": 22,
   "id": "specific-weekend",
   "metadata": {},
   "outputs": [
    {
     "name": "stderr",
     "output_type": "stream",
     "text": [
      "/mnt/d/spikeinterface/hussaini-to-nwb/venv/lib/python3.8/site-packages/h5py/_hl/dataset.py:541: DeprecationWarning: Passing None into shape arguments as an alias for () is deprecated.\n",
      "  arr = numpy.ndarray(selection.mshape, dtype=new_dtype)\n"
     ]
    },
    {
     "ename": "Exception",
     "evalue": "No acquisitions found in the .nwb file.",
     "output_type": "error",
     "traceback": [
      "\u001b[0;31m---------------------------------------------------------------------------\u001b[0m",
      "\u001b[0;31mException\u001b[0m                                 Traceback (most recent call last)",
      "\u001b[0;32m<ipython-input-22-542c24acdaef>\u001b[0m in \u001b[0;36m<module>\u001b[0;34m\u001b[0m\n\u001b[0;32m----> 1\u001b[0;31m \u001b[0msorting_nwb\u001b[0m \u001b[0;34m=\u001b[0m \u001b[0mse\u001b[0m\u001b[0;34m.\u001b[0m\u001b[0mNwbSortingExtractor\u001b[0m\u001b[0;34m(\u001b[0m\u001b[0;34m'axona_tutorial_se.nwb'\u001b[0m\u001b[0;34m)\u001b[0m\u001b[0;34m\u001b[0m\u001b[0;34m\u001b[0m\u001b[0m\n\u001b[0m",
      "\u001b[0;32m/mnt/d/spikeinterface/spikeextractors/spikeextractors/extractors/nwbextractors/nwbextractors.py\u001b[0m in \u001b[0;36m__init__\u001b[0;34m(self, file_path, electrical_series, sampling_frequency)\u001b[0m\n\u001b[1;32m   1107\u001b[0m                         \u001b[0;32mraise\u001b[0m \u001b[0mException\u001b[0m\u001b[0;34m(\u001b[0m\u001b[0;34m'More than one acquisition found. You must specify electrical_series.'\u001b[0m\u001b[0;34m)\u001b[0m\u001b[0;34m\u001b[0m\u001b[0;34m\u001b[0m\u001b[0m\n\u001b[1;32m   1108\u001b[0m                     \u001b[0;32mif\u001b[0m \u001b[0mlen\u001b[0m\u001b[0;34m(\u001b[0m\u001b[0mnwbfile\u001b[0m\u001b[0;34m.\u001b[0m\u001b[0macquisition\u001b[0m\u001b[0;34m)\u001b[0m \u001b[0;34m==\u001b[0m \u001b[0;36m0\u001b[0m\u001b[0;34m:\u001b[0m\u001b[0;34m\u001b[0m\u001b[0;34m\u001b[0m\u001b[0m\n\u001b[0;32m-> 1109\u001b[0;31m                         \u001b[0;32mraise\u001b[0m \u001b[0mException\u001b[0m\u001b[0;34m(\u001b[0m\u001b[0;34m'No acquisitions found in the .nwb file.'\u001b[0m\u001b[0;34m)\u001b[0m\u001b[0;34m\u001b[0m\u001b[0;34m\u001b[0m\u001b[0m\n\u001b[0m\u001b[1;32m   1110\u001b[0m                     \u001b[0mes\u001b[0m \u001b[0;34m=\u001b[0m \u001b[0mlist\u001b[0m\u001b[0;34m(\u001b[0m\u001b[0mnwbfile\u001b[0m\u001b[0;34m.\u001b[0m\u001b[0macquisition\u001b[0m\u001b[0;34m.\u001b[0m\u001b[0mvalues\u001b[0m\u001b[0;34m(\u001b[0m\u001b[0;34m)\u001b[0m\u001b[0;34m)\u001b[0m\u001b[0;34m[\u001b[0m\u001b[0;36m0\u001b[0m\u001b[0;34m]\u001b[0m\u001b[0;34m\u001b[0m\u001b[0;34m\u001b[0m\u001b[0m\n\u001b[1;32m   1111\u001b[0m                 \u001b[0;32melse\u001b[0m\u001b[0;34m:\u001b[0m\u001b[0;34m\u001b[0m\u001b[0;34m\u001b[0m\u001b[0m\n",
      "\u001b[0;31mException\u001b[0m: No acquisitions found in the .nwb file."
     ]
    }
   ],
   "source": [
    "sorting_nwb = se.NwbSortingExtractor('axona_tutorial_se.nwb')"
   ]
  },
  {
   "cell_type": "markdown",
   "id": "unexpected-handling",
   "metadata": {
    "id": "unexpected-handling"
   },
   "source": [
    "<a id=\"export_tint\"></a>\n",
    "# 8. Save to / load from TINT\n",
    "[back to index](#index)"
   ]
  },
  {
   "cell_type": "code",
   "execution_count": null,
   "id": "narrative-scratch",
   "metadata": {
    "id": "narrative-scratch"
   },
   "outputs": [],
   "source": [
    "# TODO ..."
   ]
  },
  {
   "cell_type": "code",
   "execution_count": null,
   "id": "perfect-herald",
   "metadata": {
    "id": "perfect-herald"
   },
   "outputs": [],
   "source": []
  },
  {
   "cell_type": "code",
   "execution_count": null,
   "id": "weighted-clearance",
   "metadata": {
    "id": "weighted-clearance"
   },
   "outputs": [],
   "source": []
  },
  {
   "cell_type": "code",
   "execution_count": null,
   "id": "abroad-torture",
   "metadata": {
    "id": "abroad-torture"
   },
   "outputs": [],
   "source": []
  },
  {
   "cell_type": "code",
   "execution_count": null,
   "id": "overhead-track",
   "metadata": {
    "id": "overhead-track"
   },
   "outputs": [],
   "source": []
  },
  {
   "cell_type": "code",
   "execution_count": null,
   "id": "constitutional-valentine",
   "metadata": {
    "id": "constitutional-valentine"
   },
   "outputs": [],
   "source": []
  },
  {
   "cell_type": "code",
   "execution_count": null,
   "id": "polyphonic-competition",
   "metadata": {
    "id": "polyphonic-competition"
   },
   "outputs": [],
   "source": []
  },
  {
   "cell_type": "code",
   "execution_count": null,
   "id": "angry-grill",
   "metadata": {
    "id": "angry-grill"
   },
   "outputs": [],
   "source": []
  },
  {
   "cell_type": "code",
   "execution_count": null,
   "id": "relevant-silicon",
   "metadata": {
    "id": "relevant-silicon"
   },
   "outputs": [],
   "source": [
    "# eof"
   ]
  }
 ],
 "metadata": {
  "colab": {
   "collapsed_sections": [
    "initial-richards",
    "honey-bangladesh",
    "disabled-stand",
    "naked-affair",
    "intimate-professional",
    "minus-output",
    "infrared-garage",
    "formed-equity",
    "lightweight-tuition",
    "certified-withdrawal",
    "undefined-satin",
    "respiratory-charter",
    "alive-plate",
    "incomplete-bankruptcy",
    "injured-affect",
    "contemporary-riding",
    "bulgarian-adult",
    "passing-circulation",
    "cognitive-warehouse",
    "unexpected-handling"
   ],
   "name": "milestone2_modular_pipeline_colab.ipynb",
   "provenance": []
  },
  "kernelspec": {
   "display_name": "Python 3",
   "language": "python",
   "name": "python3"
  },
  "language_info": {
   "codemirror_mode": {
    "name": "ipython",
    "version": 3
   },
   "file_extension": ".py",
   "mimetype": "text/x-python",
   "name": "python",
   "nbconvert_exporter": "python",
   "pygments_lexer": "ipython3",
   "version": "3.8.5"
  }
 },
 "nbformat": 4,
 "nbformat_minor": 5
}
