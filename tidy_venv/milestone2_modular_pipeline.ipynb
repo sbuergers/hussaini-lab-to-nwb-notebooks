{
 "cells": [
  {
   "cell_type": "markdown",
   "id": "exotic-thumbnail",
   "metadata": {},
   "source": [
    "<a id=\"index\"></a>\n",
    "# A modular processing pipeline for spike sorting from axona raw data"
   ]
  },
  {
   "cell_type": "markdown",
   "id": "perfect-ability",
   "metadata": {},
   "source": [
    "The notebook largely follows the [spiketutorial notebook from the Sep. 2020 developer workshop](https://github.com/SpikeInterface/spiketutorials/blob/master/NWB_Developer_Breakout_Session_Sep2020/SpikeInterface_Tutorial.ipynb): "
   ]
  },
  {
   "cell_type": "markdown",
   "id": "vietnamese-hampton",
   "metadata": {},
   "source": [
    "In this notebook we will cover the basics of using SpikeInterface for extracellular analysis and spike sorting comparison for axona raw, axona unit and intan data. We will be using `spikeinterface` from the [SpikeInterface](https://github.com/SpikeInterface) github organization. \n",
    "\n",
    "`spikeinterface` wraps 5 subpackages: `spikeextractors`, `spikesorters`, `spiketoolkit`, `spikecomparison`, and `spikewidgets`.\n",
    "\n",
    "We will show how to\n",
    "\n",
    "1. [Install dependencies](#install_dependencies)\n",
    "2. [load data with spikeextractors](#load_data)\n",
    "3. [Preprocess the signals](#preprocess)\n",
    "4. [Cache data](#cache)\n",
    "5. [Spike sorting](#spike_sorting)   \n",
    "   * [Klusta](#klusta)\n",
    "   * [mountainsort4](#mountainsort4)\n",
    "   * [Ironclust](#ironclust)\n",
    "   * [spyking circus](#spykingcircus)\n",
    "   * [tridesclous](#tridesclous)\n",
    "6. [Postprocess the signals](#postprocessing)\n",
    "7. [Curate the spike sorting output](#spike_curation) using 1) quality metrics (automatic), 2) [Phy](https://github.com/cortex-lab/phy) (manual), and 3) consensus-based curation\n",
    "8. [Export results to NWB](#export_nwb)\n",
    "9. [Export results to TINT](#export_tint)\n"
   ]
  },
  {
   "cell_type": "markdown",
   "id": "68_5oVLpxqC0",
   "metadata": {
    "id": "68_5oVLpxqC0"
   },
   "source": [
    "<a id='install_dependencies'></a>\n",
    "# Install dependencies\n",
    "[back to index](#index)\n",
    "\n",
    "TODO streamline installation with requirements.txt, ultimately we will only use spikeinterface\n",
    "\n",
    "We recommend creating a new `spiketutorial` conda environment using:\n",
    "\n",
    "`conda env create -f environment.yml`\n",
    "\n",
    "In addition, for the conda environment, you need to install [Phy](https://github.com/cortex-lab/phy) for the manual curation step.\n",
    "\n",
    "`pip install phy --pre --upgrade`\n",
    "\n",
    "\n",
    "Alternatively, you can install the requirements you can use the `requirements.txt` in this directory by running the command:\n",
    "\n",
    "`pip install -r requirements.txt`\n",
    "\n",
    "(in this case Phy should be automatically installed)\n",
    "\n",
    "Note that some spike sorters require matlab or additional dependencies, which need to be installed separately. For an overview of possible spike sorters and their dependencies see https://spikeinterface.readthedocs.io/en/latest/sortersinfo.html."
   ]
  },
  {
   "cell_type": "code",
   "execution_count": 1,
   "id": "optical-designer",
   "metadata": {},
   "outputs": [
    {
     "name": "stdout",
     "output_type": "stream",
     "text": [
      "/mnt/d/spikeinterface/hussaini-to-nwb/tidy_venv/venv/bin/python\r\n"
     ]
    }
   ],
   "source": [
    "!which python"
   ]
  },
  {
   "cell_type": "code",
   "execution_count": 2,
   "id": "material-earthquake",
   "metadata": {
    "colab": {
     "base_uri": "https://localhost:8080/"
    },
    "id": "material-earthquake",
    "outputId": "98823432-1a36-46af-a47d-2164a443045d"
   },
   "outputs": [
    {
     "name": "stdout",
     "output_type": "stream",
     "text": [
      "total 2472\r\n",
      "-rwxrwxrwx 1 steburg steburg     198 Apr 13 21:11 Dockerfile\r\n",
      "-rwxrwxrwx 1 steburg steburg   54974 Apr  4 15:33 SpikeInterface_Tutorial.ipynb\r\n",
      "-rwxrwxrwx 1 steburg steburg     800 Apr 12 20:23 axona_tutorial_re.nwb\r\n",
      "-rwxrwxrwx 1 steburg steburg  171124 Apr  5 17:18 axona_tutorial_se.nwb\r\n",
      "-rwxrwxrwx 1 steburg steburg     451 Apr 13 21:11 channel_groups.prb\r\n",
      "-rwxrwxrwx 1 steburg steburg    2208 Apr 12 20:27 export_from_spikeinterface_to_tint.ipynb\r\n",
      "drwxrwxrwx 1 steburg steburg    4096 Apr  1 21:38 ironclust\r\n",
      "drwxrwxrwx 1 steburg steburg    4096 Apr 13 09:53 klusta_docker\r\n",
      "-rwxrwxrwx 1 steburg steburg  236408 Apr 11 21:26 m2_modular_pipeline_spikesorters_docker.ipynb\r\n",
      "-rwxrwxrwx 1 steburg steburg 1659656 Apr 14 10:45 milestone2_modular_pipeline_colab.ipynb\r\n",
      "drwxrwxrwx 1 steburg steburg    4096 Apr  4 15:16 phy_KL\r\n",
      "drwxrwxrwx 1 steburg steburg    4096 Apr  1 19:29 python-neo\r\n",
      "drwxrwxrwx 1 steburg steburg    4096 Apr 10 17:01 spikeextractors\r\n",
      "-rwxrwxrwx 1 steburg steburg  149348 Apr 13 21:45 test_spikesorters_docker.ipynb\r\n",
      "-rwxrwxrwx 1 steburg steburg  240677 Apr 13 20:39 test_within_docker_container.ipynb\r\n",
      "drwxrwxrwx 1 steburg steburg    4096 Apr 10 17:14 toy_example\r\n",
      "drwxrwxrwx 1 steburg steburg    4096 Apr  1 19:41 venv\r\n"
     ]
    }
   ],
   "source": [
    "!ls -l"
   ]
  },
  {
   "cell_type": "code",
   "execution_count": 3,
   "id": "oWdpoo_cy38c",
   "metadata": {
    "colab": {
     "base_uri": "https://localhost:8080/"
    },
    "id": "oWdpoo_cy38c",
    "outputId": "7c4b376d-972a-4dd2-c04c-6be2d74796f3"
   },
   "outputs": [],
   "source": [
    "# Ultimately this is the only command needed, but for now we need\n",
    "# to install from github to obtain work in progress.\n",
    "\n",
    "#!pip install spikeinterface"
   ]
  },
  {
   "cell_type": "markdown",
   "id": "YrhD7Hud8cin",
   "metadata": {
    "id": "YrhD7Hud8cin"
   },
   "source": [
    "Once axonarecordingextractors are integrated into spikeextractors, \n",
    "installing spikeinterface should be sufficient. For now we also need to\n",
    "clone spikeextractors and python-neo with the necessary components\n",
    "(e.g. branch axonarawio for python-neo)."
   ]
  },
  {
   "cell_type": "code",
   "execution_count": 4,
   "id": "BFFxAd1Y9r6r",
   "metadata": {
    "colab": {
     "base_uri": "https://localhost:8080/"
    },
    "id": "BFFxAd1Y9r6r",
    "outputId": "d9eb5091-7d52-4bf1-de6f-b5f219694a4f"
   },
   "outputs": [
    {
     "name": "stdout",
     "output_type": "stream",
     "text": [
      "fatal: destination path 'python-neo' already exists and is not an empty directory.\r\n"
     ]
    }
   ],
   "source": [
    "!git clone https://github.com/catalystneuro/python-neo.git"
   ]
  },
  {
   "cell_type": "code",
   "execution_count": 5,
   "id": "retired-router",
   "metadata": {},
   "outputs": [
    {
     "name": "stdout",
     "output_type": "stream",
     "text": [
      "total 2472\r\n",
      "-rwxrwxrwx 1 steburg steburg     198 Apr 13 21:11 Dockerfile\r\n",
      "-rwxrwxrwx 1 steburg steburg   54974 Apr  4 15:33 SpikeInterface_Tutorial.ipynb\r\n",
      "-rwxrwxrwx 1 steburg steburg     800 Apr 12 20:23 axona_tutorial_re.nwb\r\n",
      "-rwxrwxrwx 1 steburg steburg  171124 Apr  5 17:18 axona_tutorial_se.nwb\r\n",
      "-rwxrwxrwx 1 steburg steburg     451 Apr 13 21:11 channel_groups.prb\r\n",
      "-rwxrwxrwx 1 steburg steburg    2208 Apr 12 20:27 export_from_spikeinterface_to_tint.ipynb\r\n",
      "drwxrwxrwx 1 steburg steburg    4096 Apr  1 21:38 ironclust\r\n",
      "drwxrwxrwx 1 steburg steburg    4096 Apr 13 09:53 klusta_docker\r\n",
      "-rwxrwxrwx 1 steburg steburg  236408 Apr 11 21:26 m2_modular_pipeline_spikesorters_docker.ipynb\r\n",
      "-rwxrwxrwx 1 steburg steburg 1659656 Apr 14 10:45 milestone2_modular_pipeline_colab.ipynb\r\n",
      "drwxrwxrwx 1 steburg steburg    4096 Apr  4 15:16 phy_KL\r\n",
      "drwxrwxrwx 1 steburg steburg    4096 Apr  1 19:29 python-neo\r\n",
      "drwxrwxrwx 1 steburg steburg    4096 Apr 10 17:01 spikeextractors\r\n",
      "-rwxrwxrwx 1 steburg steburg  149348 Apr 13 21:45 test_spikesorters_docker.ipynb\r\n",
      "-rwxrwxrwx 1 steburg steburg  240677 Apr 13 20:39 test_within_docker_container.ipynb\r\n",
      "drwxrwxrwx 1 steburg steburg    4096 Apr 10 17:14 toy_example\r\n",
      "drwxrwxrwx 1 steburg steburg    4096 Apr  1 19:41 venv\r\n"
     ]
    }
   ],
   "source": [
    "!ls -l"
   ]
  },
  {
   "cell_type": "code",
   "execution_count": 6,
   "id": "Skg_NQt898om",
   "metadata": {
    "colab": {
     "base_uri": "https://localhost:8080/"
    },
    "id": "Skg_NQt898om",
    "outputId": "b45c008a-c13d-47b4-f316-629b6aaeac11"
   },
   "outputs": [
    {
     "name": "stdout",
     "output_type": "stream",
     "text": [
      "/mnt/d/spikeinterface/hussaini-to-nwb/tidy_venv/python-neo\n",
      "running develop\n",
      "running egg_info\n",
      "writing neo.egg-info/PKG-INFO\n",
      "writing dependency_links to neo.egg-info/dependency_links.txt\n",
      "writing requirements to neo.egg-info/requires.txt\n",
      "writing top-level names to neo.egg-info/top_level.txt\n",
      "reading manifest file 'neo.egg-info/SOURCES.txt'\n",
      "reading manifest template 'MANIFEST.in'\n",
      "warning: no files found matching 'CITATION.rst'\n",
      "no previously-included directories found matching 'drafts'\n",
      "no previously-included directories found matching 'doc/build'\n",
      "writing manifest file 'neo.egg-info/SOURCES.txt'\n",
      "running build_ext\n",
      "Creating /mnt/d/spikeinterface/hussaini-to-nwb/tidy_venv/venv/lib/python3.8/site-packages/neo.egg-link (link to .)\n",
      "Adding neo 0.9.0 to easy-install.pth file\n",
      "\n",
      "Installed /mnt/d/spikeinterface/hussaini-to-nwb/tidy_venv/python-neo\n",
      "Processing dependencies for neo==0.9.0\n",
      "Searching for quantities>=0.12.1\n",
      "Reading https://pypi.org/simple/quantities/\n",
      "Downloading https://files.pythonhosted.org/packages/2b/4f/2e8ce7d6c16fb07c43036f8539962322b2bf241e7397e87f318a1aa2f7c4/quantities-0.12.4.tar.gz#sha256=a33d636d1870c9e1127631185d89b0105a49f827d6aacd44ad9d8f151f331d8b\n",
      "Best match: quantities 0.12.4\n",
      "Processing quantities-0.12.4.tar.gz\n",
      "Writing /tmp/easy_install-xbui0mzc/quantities-0.12.4/setup.cfg\n",
      "Running quantities-0.12.4/setup.py -q bdist_egg --dist-dir /tmp/easy_install-xbui0mzc/quantities-0.12.4/egg-dist-tmp-cr7avzon\n",
      "UPDATING build/lib/quantities/_version.py\n",
      "set build/lib/quantities/_version.py to '0.12.4'\n",
      "zip_safe flag not set; analyzing archive contents...\n",
      "Moving quantities-0.12.4-py3.8.egg to /mnt/d/spikeinterface/hussaini-to-nwb/tidy_venv/venv/lib/python3.8/site-packages\n",
      "Adding quantities 0.12.4 to easy-install.pth file\n",
      "\n",
      "Installed /mnt/d/spikeinterface/hussaini-to-nwb/tidy_venv/venv/lib/python3.8/site-packages/quantities-0.12.4-py3.8.egg\n",
      "Searching for numpy!=1.16.0,>=1.13.0\n",
      "Reading https://pypi.org/simple/numpy/\n",
      "Downloading https://files.pythonhosted.org/packages/fd/67/ea80d7f693a027854e34a44a4c3e91e0fcdfaa5e8283e7b9c9ee0056c09f/numpy-1.20.2-cp38-cp38-manylinux1_x86_64.whl#sha256=2428b109306075d89d21135bdd6b785f132a1f5a3260c371cee1fae427e12727\n",
      "Best match: numpy 1.20.2\n",
      "Processing numpy-1.20.2-cp38-cp38-manylinux1_x86_64.whl\n",
      "Installing numpy-1.20.2-cp38-cp38-manylinux1_x86_64.whl to /mnt/d/spikeinterface/hussaini-to-nwb/tidy_venv/venv/lib/python3.8/site-packages\n",
      "Adding numpy 1.20.2 to easy-install.pth file\n",
      "Installing f2py script to /mnt/d/spikeinterface/hussaini-to-nwb/tidy_venv/venv/bin\n",
      "Installing f2py3 script to /mnt/d/spikeinterface/hussaini-to-nwb/tidy_venv/venv/bin\n",
      "Installing f2py3.8 script to /mnt/d/spikeinterface/hussaini-to-nwb/tidy_venv/venv/bin\n",
      "\n",
      "Installed /mnt/d/spikeinterface/hussaini-to-nwb/tidy_venv/venv/lib/python3.8/site-packages/numpy-1.20.2-py3.8-linux-x86_64.egg\n",
      "Finished processing dependencies for neo==0.9.0\n",
      "/mnt/d/spikeinterface/hussaini-to-nwb/tidy_venv\n"
     ]
    }
   ],
   "source": [
    "%cd ./python-neo\n",
    "!python3 setup.py develop\n",
    "%cd .."
   ]
  },
  {
   "cell_type": "code",
   "execution_count": 68,
   "id": "gd75Kk3A93IO",
   "metadata": {
    "colab": {
     "base_uri": "https://localhost:8080/"
    },
    "id": "gd75Kk3A93IO",
    "outputId": "c339092d-634a-4f9d-9b19-98bee57b61d3"
   },
   "outputs": [
    {
     "name": "stdout",
     "output_type": "stream",
     "text": [
      "fatal: destination path 'spikeextractors' already exists and is not an empty directory.\n"
     ]
    }
   ],
   "source": [
    "!git clone https://github.com/catalystneuro/spikeextractors.git"
   ]
  },
  {
   "cell_type": "code",
   "execution_count": 7,
   "id": "NuMpqvEL8fMA",
   "metadata": {
    "colab": {
     "base_uri": "https://localhost:8080/"
    },
    "id": "NuMpqvEL8fMA",
    "outputId": "a8c05d12-e961-422d-c49b-9e8db9e02c1c"
   },
   "outputs": [
    {
     "name": "stdout",
     "output_type": "stream",
     "text": [
      "/mnt/d/spikeinterface/hussaini-to-nwb/tidy_venv/spikeextractors\n",
      "Warning: 'classifiers' should be a list, got type 'tuple'\n",
      "running develop\n",
      "running egg_info\n",
      "writing spikeextractors.egg-info/PKG-INFO\n",
      "writing dependency_links to spikeextractors.egg-info/dependency_links.txt\n",
      "writing requirements to spikeextractors.egg-info/requires.txt\n",
      "writing top-level names to spikeextractors.egg-info/top_level.txt\n",
      "reading manifest file 'spikeextractors.egg-info/SOURCES.txt'\n",
      "writing manifest file 'spikeextractors.egg-info/SOURCES.txt'\n",
      "running build_ext\n",
      "Creating /mnt/d/spikeinterface/hussaini-to-nwb/tidy_venv/venv/lib/python3.8/site-packages/spikeextractors.egg-link (link to .)\n",
      "Adding spikeextractors 0.9.5 to easy-install.pth file\n",
      "\n",
      "Installed /mnt/d/spikeinterface/hussaini-to-nwb/tidy_venv/spikeextractors\n",
      "Processing dependencies for spikeextractors==0.9.5\n",
      "Searching for tqdm\n",
      "Reading https://pypi.org/simple/tqdm/\n",
      "Downloading https://files.pythonhosted.org/packages/f8/3e/2730d0effc282960dbff3cf91599ad0d8f3faedc8e75720fdf224b31ab24/tqdm-4.59.0-py2.py3-none-any.whl#sha256=9fdf349068d047d4cfbe24862c425883af1db29bcddf4b0eeb2524f6fbdb23c7\n",
      "Best match: tqdm 4.59.0\n",
      "Processing tqdm-4.59.0-py2.py3-none-any.whl\n",
      "Installing tqdm-4.59.0-py2.py3-none-any.whl to /mnt/d/spikeinterface/hussaini-to-nwb/tidy_venv/venv/lib/python3.8/site-packages\n",
      "Adding tqdm 4.59.0 to easy-install.pth file\n",
      "Installing tqdm script to /mnt/d/spikeinterface/hussaini-to-nwb/tidy_venv/venv/bin\n",
      "\n",
      "Installed /mnt/d/spikeinterface/hussaini-to-nwb/tidy_venv/venv/lib/python3.8/site-packages/tqdm-4.59.0-py3.8.egg\n",
      "Searching for joblib\n",
      "Reading https://pypi.org/simple/joblib/\n",
      "Downloading https://files.pythonhosted.org/packages/55/85/70c6602b078bd9e6f3da4f467047e906525c355a4dacd4f71b97a35d9897/joblib-1.0.1-py3-none-any.whl#sha256=feeb1ec69c4d45129954f1b7034954241eedfd6ba39b5e9e4b6883be3332d5e5\n",
      "Best match: joblib 1.0.1\n",
      "Processing joblib-1.0.1-py3-none-any.whl\n",
      "Installing joblib-1.0.1-py3-none-any.whl to /mnt/d/spikeinterface/hussaini-to-nwb/tidy_venv/venv/lib/python3.8/site-packages\n",
      "Adding joblib 1.0.1 to easy-install.pth file\n",
      "\n",
      "Installed /mnt/d/spikeinterface/hussaini-to-nwb/tidy_venv/venv/lib/python3.8/site-packages/joblib-1.0.1-py3.8.egg\n",
      "Searching for numpy==1.20.2\n",
      "Best match: numpy 1.20.2\n",
      "Processing numpy-1.20.2-py3.8-linux-x86_64.egg\n",
      "numpy 1.20.2 is already the active version in easy-install.pth\n",
      "Installing f2py script to /mnt/d/spikeinterface/hussaini-to-nwb/tidy_venv/venv/bin\n",
      "Installing f2py3 script to /mnt/d/spikeinterface/hussaini-to-nwb/tidy_venv/venv/bin\n",
      "Installing f2py3.8 script to /mnt/d/spikeinterface/hussaini-to-nwb/tidy_venv/venv/bin\n",
      "\n",
      "Using /mnt/d/spikeinterface/hussaini-to-nwb/tidy_venv/venv/lib/python3.8/site-packages/numpy-1.20.2-py3.8-linux-x86_64.egg\n",
      "Finished processing dependencies for spikeextractors==0.9.5\n",
      "/mnt/d/spikeinterface/hussaini-to-nwb/tidy_venv\n"
     ]
    }
   ],
   "source": [
    "%cd ./spikeextractors\n",
    "!python3 setup.py develop\n",
    "%cd .."
   ]
  },
  {
   "cell_type": "markdown",
   "id": "RiX1T6rtV41n",
   "metadata": {
    "id": "RiX1T6rtV41n"
   },
   "source": [
    "Switch to correct branches"
   ]
  },
  {
   "cell_type": "code",
   "execution_count": 8,
   "id": "4S6NWnTrBIeb",
   "metadata": {
    "colab": {
     "base_uri": "https://localhost:8080/"
    },
    "id": "4S6NWnTrBIeb",
    "outputId": "edc0b4b8-cce6-4563-f4ee-76d9cce17354"
   },
   "outputs": [
    {
     "name": "stdout",
     "output_type": "stream",
     "text": [
      "/mnt/d/spikeinterface/hussaini-to-nwb/tidy_venv/python-neo\n",
      "Already on 'axonarawio'\n",
      "Your branch is up to date with 'origin/axonarawio'.\n",
      "/mnt/d/spikeinterface/hussaini-to-nwb/tidy_venv\n"
     ]
    }
   ],
   "source": [
    "%cd python-neo\n",
    "!git checkout axonarawio\n",
    "%cd .."
   ]
  },
  {
   "cell_type": "code",
   "execution_count": 9,
   "id": "XsEO-I9QBNOv",
   "metadata": {
    "colab": {
     "base_uri": "https://localhost:8080/"
    },
    "id": "XsEO-I9QBNOv",
    "outputId": "325115e3-26c7-4fb8-d0d0-e652c2840dd9"
   },
   "outputs": [
    {
     "name": "stdout",
     "output_type": "stream",
     "text": [
      "/mnt/d/spikeinterface/hussaini-to-nwb/tidy_venv/spikeextractors\n",
      "Already on 'axonaextractor'\n",
      "Your branch is up to date with 'origin/axonaextractor'.\n",
      "/mnt/d/spikeinterface/hussaini-to-nwb/tidy_venv\n"
     ]
    }
   ],
   "source": [
    "%cd spikeextractors\n",
    "!git checkout axonaextractor\n",
    "%cd .."
   ]
  },
  {
   "cell_type": "markdown",
   "id": "bkl3bPvRV9A4",
   "metadata": {
    "id": "bkl3bPvRV9A4"
   },
   "source": [
    "Install other spikeinterface modules using pip (this may take a few minutes). "
   ]
  },
  {
   "cell_type": "code",
   "execution_count": 10,
   "id": "_R67Bd-cU1sS",
   "metadata": {
    "colab": {
     "base_uri": "https://localhost:8080/",
     "height": 679
    },
    "id": "_R67Bd-cU1sS",
    "outputId": "7dabbd9b-ecce-468c-f67d-1e337eb5ffa4"
   },
   "outputs": [
    {
     "name": "stdout",
     "output_type": "stream",
     "text": [
      "Collecting spiketoolkit\n",
      "  Downloading spiketoolkit-0.7.5.tar.gz (67 kB)\n",
      "\u001b[K     |████████████████████████████████| 67 kB 1.3 MB/s eta 0:00:01\n",
      "\u001b[?25hCollecting spikesorters\n",
      "  Downloading spikesorters-0.4.4.tar.gz (64 kB)\n",
      "\u001b[K     |████████████████████████████████| 64 kB 1.3 MB/s eta 0:00:01\n",
      "\u001b[?25hCollecting spikecomparison\n",
      "  Using cached spikecomparison-0.3.2-py3-none-any.whl (28 kB)\n",
      "Collecting spikewidgets\n",
      "  Downloading spikewidgets-0.5.3.tar.gz (25 kB)\n",
      "Requirement already satisfied: joblib in ./venv/lib/python3.8/site-packages/joblib-1.0.1-py3.8.egg (from spiketoolkit) (1.0.1)\n",
      "Collecting networkx\n",
      "  Using cached networkx-2.5-py3-none-any.whl (1.6 MB)\n",
      "Requirement already satisfied: numpy in ./venv/lib/python3.8/site-packages/numpy-1.20.2-py3.8-linux-x86_64.egg (from spiketoolkit) (1.20.2)\n",
      "Collecting pandas\n",
      "  Using cached pandas-1.2.3-cp38-cp38-manylinux1_x86_64.whl (9.7 MB)\n",
      "Collecting scikit-learn\n",
      "  Using cached scikit_learn-0.24.1-cp38-cp38-manylinux2010_x86_64.whl (24.9 MB)\n",
      "Collecting scipy\n",
      "  Downloading scipy-1.6.2-cp38-cp38-manylinux1_x86_64.whl (27.2 MB)\n",
      "\u001b[K     |████████████████████████████████| 27.2 MB 1.5 MB/s eta 0:00:01     |███████████████████████████████ | 26.4 MB 9.2 MB/s eta 0:00:01\n",
      "\u001b[?25hRequirement already satisfied: spikeextractors>=0.9.4 in ./spikeextractors (from spiketoolkit) (0.9.5)\n",
      "Collecting spikefeatures\n",
      "  Using cached spikefeatures-0.1.2.tar.gz (4.5 kB)\n",
      "Collecting spikemetrics>=0.2.4\n",
      "  Using cached spikemetrics-0.2.4.tar.gz (18 kB)\n",
      "Collecting requests\n",
      "  Using cached requests-2.25.1-py2.py3-none-any.whl (61 kB)\n",
      "Collecting MEAutility>=1.4.8\n",
      "  Using cached MEAutility-1.4.8.tar.gz (33 kB)\n",
      "Collecting matplotlib\n",
      "  Downloading matplotlib-3.4.1-cp38-cp38-manylinux1_x86_64.whl (10.3 MB)\n",
      "\u001b[K     |████████████████████████████████| 10.3 MB 4.2 MB/s eta 0:00:01    |██████▍                         | 2.1 MB 5.8 MB/s eta 0:00:02     |██████████████████████████████▎ | 9.7 MB 4.2 MB/s eta 0:00:01\n",
      "\u001b[?25hRequirement already satisfied: decorator>=4.3.0 in ./venv/lib/python3.8/site-packages (from networkx->spiketoolkit) (4.4.2)\n",
      "Collecting pytz>=2017.3\n",
      "  Using cached pytz-2021.1-py2.py3-none-any.whl (510 kB)\n",
      "Requirement already satisfied: python-dateutil>=2.7.3 in ./venv/lib/python3.8/site-packages (from pandas->spiketoolkit) (2.8.1)\n",
      "Collecting threadpoolctl>=2.0.0\n",
      "  Using cached threadpoolctl-2.1.0-py3-none-any.whl (12 kB)\n",
      "Requirement already satisfied: tqdm in ./venv/lib/python3.8/site-packages/tqdm-4.59.0-py3.8.egg (from spikeextractors>=0.9.4->spiketoolkit) (4.59.0)\n",
      "Collecting chardet<5,>=3.0.2\n",
      "  Using cached chardet-4.0.0-py2.py3-none-any.whl (178 kB)\n",
      "Collecting idna<3,>=2.5\n",
      "  Using cached idna-2.10-py2.py3-none-any.whl (58 kB)\n",
      "Collecting urllib3<1.27,>=1.21.1\n",
      "  Using cached urllib3-1.26.4-py2.py3-none-any.whl (153 kB)\n",
      "Collecting certifi>=2017.4.17\n",
      "  Using cached certifi-2020.12.5-py2.py3-none-any.whl (147 kB)\n",
      "Collecting pyyaml\n",
      "  Using cached PyYAML-5.4.1-cp38-cp38-manylinux1_x86_64.whl (662 kB)\n",
      "Collecting cycler>=0.10\n",
      "  Using cached cycler-0.10.0-py2.py3-none-any.whl (6.5 kB)\n",
      "Requirement already satisfied: pyparsing>=2.2.1 in ./venv/lib/python3.8/site-packages (from matplotlib->spikewidgets) (2.4.7)\n",
      "Collecting pillow>=6.2.0\n",
      "  Downloading Pillow-8.2.0-cp38-cp38-manylinux1_x86_64.whl (3.0 MB)\n",
      "\u001b[K     |████████████████████████████████| 3.0 MB 7.0 MB/s eta 0:00:01\n",
      "\u001b[?25hCollecting kiwisolver>=1.0.1\n",
      "  Using cached kiwisolver-1.3.1-cp38-cp38-manylinux1_x86_64.whl (1.2 MB)\n",
      "Requirement already satisfied: six>=1.5 in ./venv/lib/python3.8/site-packages (from python-dateutil>=2.7.3->pandas->spiketoolkit) (1.15.0)\n",
      "Building wheels for collected packages: spiketoolkit, spikesorters, spikewidgets, spikefeatures, spikemetrics, MEAutility\n",
      "  Building wheel for spiketoolkit (setup.py) ... \u001b[?25lerror\n",
      "\u001b[31m  ERROR: Command errored out with exit status 1:\n",
      "   command: /mnt/d/spikeinterface/hussaini-to-nwb/tidy_venv/venv/bin/python3 -u -c 'import sys, setuptools, tokenize; sys.argv[0] = '\"'\"'/tmp/pip-install-zvap1k0e/spiketoolkit/setup.py'\"'\"'; __file__='\"'\"'/tmp/pip-install-zvap1k0e/spiketoolkit/setup.py'\"'\"';f=getattr(tokenize, '\"'\"'open'\"'\"', open)(__file__);code=f.read().replace('\"'\"'\\r\\n'\"'\"', '\"'\"'\\n'\"'\"');f.close();exec(compile(code, __file__, '\"'\"'exec'\"'\"'))' bdist_wheel -d /tmp/pip-wheel-g2omyfx5\n",
      "       cwd: /tmp/pip-install-zvap1k0e/spiketoolkit/\n",
      "  Complete output (7 lines):\n",
      "  Warning: 'classifiers' should be a list, got type 'tuple'\n",
      "  usage: setup.py [global_opts] cmd1 [cmd1_opts] [cmd2 [cmd2_opts] ...]\n",
      "     or: setup.py --help [cmd1 cmd2 ...]\n",
      "     or: setup.py --help-commands\n",
      "     or: setup.py cmd --help\n",
      "  \n",
      "  error: invalid command 'bdist_wheel'\n",
      "  ----------------------------------------\u001b[0m\n",
      "\u001b[31m  ERROR: Failed building wheel for spiketoolkit\u001b[0m\n",
      "\u001b[?25h  Running setup.py clean for spiketoolkit\n",
      "  Building wheel for spikesorters (setup.py) ... \u001b[?25lerror\n",
      "\u001b[31m  ERROR: Command errored out with exit status 1:\n",
      "   command: /mnt/d/spikeinterface/hussaini-to-nwb/tidy_venv/venv/bin/python3 -u -c 'import sys, setuptools, tokenize; sys.argv[0] = '\"'\"'/tmp/pip-install-zvap1k0e/spikesorters/setup.py'\"'\"'; __file__='\"'\"'/tmp/pip-install-zvap1k0e/spikesorters/setup.py'\"'\"';f=getattr(tokenize, '\"'\"'open'\"'\"', open)(__file__);code=f.read().replace('\"'\"'\\r\\n'\"'\"', '\"'\"'\\n'\"'\"');f.close();exec(compile(code, __file__, '\"'\"'exec'\"'\"'))' bdist_wheel -d /tmp/pip-wheel-ozazrma5\n",
      "       cwd: /tmp/pip-install-zvap1k0e/spikesorters/\n",
      "  Complete output (7 lines):\n",
      "  Warning: 'classifiers' should be a list, got type 'tuple'\n",
      "  usage: setup.py [global_opts] cmd1 [cmd1_opts] [cmd2 [cmd2_opts] ...]\n",
      "     or: setup.py --help [cmd1 cmd2 ...]\n",
      "     or: setup.py --help-commands\n",
      "     or: setup.py cmd --help\n",
      "  \n",
      "  error: invalid command 'bdist_wheel'\n",
      "  ----------------------------------------\u001b[0m\n",
      "\u001b[31m  ERROR: Failed building wheel for spikesorters\u001b[0m\n",
      "\u001b[?25h  Running setup.py clean for spikesorters\n",
      "  Building wheel for spikewidgets (setup.py) ... \u001b[?25lerror\n",
      "\u001b[31m  ERROR: Command errored out with exit status 1:\n",
      "   command: /mnt/d/spikeinterface/hussaini-to-nwb/tidy_venv/venv/bin/python3 -u -c 'import sys, setuptools, tokenize; sys.argv[0] = '\"'\"'/tmp/pip-install-zvap1k0e/spikewidgets/setup.py'\"'\"'; __file__='\"'\"'/tmp/pip-install-zvap1k0e/spikewidgets/setup.py'\"'\"';f=getattr(tokenize, '\"'\"'open'\"'\"', open)(__file__);code=f.read().replace('\"'\"'\\r\\n'\"'\"', '\"'\"'\\n'\"'\"');f.close();exec(compile(code, __file__, '\"'\"'exec'\"'\"'))' bdist_wheel -d /tmp/pip-wheel-sxdl6v37\n",
      "       cwd: /tmp/pip-install-zvap1k0e/spikewidgets/\n",
      "  Complete output (7 lines):\n",
      "  Warning: 'classifiers' should be a list, got type 'tuple'\n",
      "  usage: setup.py [global_opts] cmd1 [cmd1_opts] [cmd2 [cmd2_opts] ...]\n",
      "     or: setup.py --help [cmd1 cmd2 ...]\n",
      "     or: setup.py --help-commands\n",
      "     or: setup.py cmd --help\n",
      "  \n",
      "  error: invalid command 'bdist_wheel'\n",
      "  ----------------------------------------\u001b[0m\n",
      "\u001b[31m  ERROR: Failed building wheel for spikewidgets\u001b[0m\n",
      "\u001b[?25h  Running setup.py clean for spikewidgets\n",
      "  Building wheel for spikefeatures (setup.py) ... \u001b[?25lerror\n",
      "\u001b[31m  ERROR: Command errored out with exit status 1:\n",
      "   command: /mnt/d/spikeinterface/hussaini-to-nwb/tidy_venv/venv/bin/python3 -u -c 'import sys, setuptools, tokenize; sys.argv[0] = '\"'\"'/tmp/pip-install-zvap1k0e/spikefeatures/setup.py'\"'\"'; __file__='\"'\"'/tmp/pip-install-zvap1k0e/spikefeatures/setup.py'\"'\"';f=getattr(tokenize, '\"'\"'open'\"'\"', open)(__file__);code=f.read().replace('\"'\"'\\r\\n'\"'\"', '\"'\"'\\n'\"'\"');f.close();exec(compile(code, __file__, '\"'\"'exec'\"'\"'))' bdist_wheel -d /tmp/pip-wheel-8e8_k37l\n",
      "       cwd: /tmp/pip-install-zvap1k0e/spikefeatures/\n",
      "  Complete output (7 lines):\n",
      "  Warning: 'classifiers' should be a list, got type 'tuple'\n",
      "  usage: setup.py [global_opts] cmd1 [cmd1_opts] [cmd2 [cmd2_opts] ...]\n",
      "     or: setup.py --help [cmd1 cmd2 ...]\n",
      "     or: setup.py --help-commands\n",
      "     or: setup.py cmd --help\n",
      "  \n",
      "  error: invalid command 'bdist_wheel'\n",
      "  ----------------------------------------\u001b[0m\n",
      "\u001b[31m  ERROR: Failed building wheel for spikefeatures\u001b[0m\n",
      "\u001b[?25h  Running setup.py clean for spikefeatures\n",
      "  Building wheel for spikemetrics (setup.py) ... \u001b[?25lerror\n",
      "\u001b[31m  ERROR: Command errored out with exit status 1:\n",
      "   command: /mnt/d/spikeinterface/hussaini-to-nwb/tidy_venv/venv/bin/python3 -u -c 'import sys, setuptools, tokenize; sys.argv[0] = '\"'\"'/tmp/pip-install-zvap1k0e/spikemetrics/setup.py'\"'\"'; __file__='\"'\"'/tmp/pip-install-zvap1k0e/spikemetrics/setup.py'\"'\"';f=getattr(tokenize, '\"'\"'open'\"'\"', open)(__file__);code=f.read().replace('\"'\"'\\r\\n'\"'\"', '\"'\"'\\n'\"'\"');f.close();exec(compile(code, __file__, '\"'\"'exec'\"'\"'))' bdist_wheel -d /tmp/pip-wheel-9m9wbcmg\n",
      "       cwd: /tmp/pip-install-zvap1k0e/spikemetrics/\n",
      "  Complete output (7 lines):\n",
      "  Warning: 'classifiers' should be a list, got type 'tuple'\n",
      "  usage: setup.py [global_opts] cmd1 [cmd1_opts] [cmd2 [cmd2_opts] ...]\n",
      "     or: setup.py --help [cmd1 cmd2 ...]\n",
      "     or: setup.py --help-commands\n",
      "     or: setup.py cmd --help\n",
      "  \n",
      "  error: invalid command 'bdist_wheel'\n",
      "  ----------------------------------------\u001b[0m\n",
      "\u001b[31m  ERROR: Failed building wheel for spikemetrics\u001b[0m\n",
      "\u001b[?25h  Running setup.py clean for spikemetrics\n"
     ]
    },
    {
     "name": "stdout",
     "output_type": "stream",
     "text": [
      "  Building wheel for MEAutility (setup.py) ... \u001b[?25lerror\n",
      "\u001b[31m  ERROR: Command errored out with exit status 1:\n",
      "   command: /mnt/d/spikeinterface/hussaini-to-nwb/tidy_venv/venv/bin/python3 -u -c 'import sys, setuptools, tokenize; sys.argv[0] = '\"'\"'/tmp/pip-install-zvap1k0e/MEAutility/setup.py'\"'\"'; __file__='\"'\"'/tmp/pip-install-zvap1k0e/MEAutility/setup.py'\"'\"';f=getattr(tokenize, '\"'\"'open'\"'\"', open)(__file__);code=f.read().replace('\"'\"'\\r\\n'\"'\"', '\"'\"'\\n'\"'\"');f.close();exec(compile(code, __file__, '\"'\"'exec'\"'\"'))' bdist_wheel -d /tmp/pip-wheel-7v4e8p3m\n",
      "       cwd: /tmp/pip-install-zvap1k0e/MEAutility/\n",
      "  Complete output (6 lines):\n",
      "  usage: setup.py [global_opts] cmd1 [cmd1_opts] [cmd2 [cmd2_opts] ...]\n",
      "     or: setup.py --help [cmd1 cmd2 ...]\n",
      "     or: setup.py --help-commands\n",
      "     or: setup.py cmd --help\n",
      "  \n",
      "  error: invalid command 'bdist_wheel'\n",
      "  ----------------------------------------\u001b[0m\n",
      "\u001b[31m  ERROR: Failed building wheel for MEAutility\u001b[0m\n",
      "\u001b[?25h  Running setup.py clean for MEAutility\n",
      "Failed to build spiketoolkit spikesorters spikewidgets spikefeatures spikemetrics MEAutility\n",
      "Installing collected packages: networkx, pytz, pandas, threadpoolctl, scipy, scikit-learn, spikefeatures, spikemetrics, spiketoolkit, chardet, idna, urllib3, certifi, requests, spikesorters, spikecomparison, cycler, pillow, kiwisolver, matplotlib, pyyaml, MEAutility, spikewidgets\n",
      "    Running setup.py install for spikefeatures ... \u001b[?25ldone\n",
      "\u001b[?25h    Running setup.py install for spikemetrics ... \u001b[?25ldone\n",
      "\u001b[?25h    Running setup.py install for spiketoolkit ... \u001b[?25ldone\n",
      "\u001b[?25h    Running setup.py install for spikesorters ... \u001b[?25ldone\n",
      "\u001b[?25h    Running setup.py install for MEAutility ... \u001b[?25ldone\n",
      "\u001b[?25h    Running setup.py install for spikewidgets ... \u001b[?25ldone\n",
      "\u001b[?25hSuccessfully installed MEAutility-1.4.8 certifi-2020.12.5 chardet-4.0.0 cycler-0.10.0 idna-2.10 kiwisolver-1.3.1 matplotlib-3.4.1 networkx-2.5 pandas-1.2.3 pillow-8.2.0 pytz-2021.1 pyyaml-5.4.1 requests-2.25.1 scikit-learn-0.24.1 scipy-1.6.2 spikecomparison-0.3.2 spikefeatures-0.1.2 spikemetrics-0.2.4 spikesorters-0.4.4 spiketoolkit-0.7.5 spikewidgets-0.5.3 threadpoolctl-2.1.0 urllib3-1.26.4\n"
     ]
    }
   ],
   "source": [
    "!pip install spiketoolkit spikesorters spikecomparison spikewidgets"
   ]
  },
  {
   "cell_type": "markdown",
   "id": "casual-faith",
   "metadata": {},
   "source": [
    "Finally, we should downgrade h5py to version 2.10.0 to be as compatible as possible with spikesorters"
   ]
  },
  {
   "cell_type": "code",
   "execution_count": 3,
   "id": "genetic-stylus",
   "metadata": {},
   "outputs": [
    {
     "name": "stdout",
     "output_type": "stream",
     "text": [
      "Collecting h5py==2.10.0\n",
      "  Using cached h5py-2.10.0-cp38-cp38-manylinux1_x86_64.whl (2.9 MB)\n",
      "Requirement already satisfied: numpy>=1.7 in ./venv/lib/python3.8/site-packages/numpy-1.20.2-py3.8-linux-x86_64.egg (from h5py==2.10.0) (1.20.2)\n",
      "Requirement already satisfied: six in ./venv/lib/python3.8/site-packages (from h5py==2.10.0) (1.15.0)\n",
      "Installing collected packages: h5py\n",
      "Successfully installed h5py-2.10.0\n"
     ]
    }
   ],
   "source": [
    "!pip install h5py==2.10.0"
   ]
  },
  {
   "cell_type": "markdown",
   "id": "according-overall",
   "metadata": {},
   "source": [
    "__Note__: You need to restart the kernel before you can import the newly installed packages."
   ]
  },
  {
   "cell_type": "markdown",
   "id": "bisIQYVyr1aT",
   "metadata": {
    "id": "bisIQYVyr1aT"
   },
   "source": [
    "Import packages"
   ]
  },
  {
   "cell_type": "code",
   "execution_count": 2,
   "id": "matched-aviation",
   "metadata": {
    "colab": {
     "base_uri": "https://localhost:8080/"
    },
    "id": "matched-aviation",
    "outputId": "19ee9109-a66b-41b7-b02b-b24b4b30889c",
    "scrolled": true
   },
   "outputs": [
    {
     "name": "stdout",
     "output_type": "stream",
     "text": [
      "3.8.5 (default, Jan 27 2021, 15:41:15) \n",
      "[GCC 9.3.0] linux /mnt/d/spikeinterface/hussaini-to-nwb/tidy_venv/venv/bin/python3\n"
     ]
    },
    {
     "name": "stderr",
     "output_type": "stream",
     "text": [
      "/mnt/d/spikeinterface/hussaini-to-nwb/tidy_venv/venv/lib/python3.8/site-packages/ipykernel/ipkernel.py:283: DeprecationWarning: `should_run_async` will not call `transform_cell` automatically in the future. Please pass the result to `transformed_cell` argument and any exception that happen during thetransform in `preprocessing_exc_tuple` in IPython 7.17 and above.\n",
      "  and should_run_async(code)\n"
     ]
    }
   ],
   "source": [
    "# General data handling and visualization\n",
    "import sys\n",
    "import os\n",
    "import numpy as np\n",
    "import matplotlib\n",
    "import matplotlib.pyplot as plt\n",
    "plt.rcParams[\"figure.figsize\"] = (16, 8)\n",
    "plt.rcParams.update({'font.size':14})\n",
    "%matplotlib inline\n",
    "\n",
    "# SpikeInterface\n",
    "import spikeextractors as se\n",
    "import spikewidgets as sw\n",
    "import spiketoolkit as st\n",
    "import spikesorters as ss\n",
    "import spikecomparison as sc\n",
    "\n",
    "print(sys.version, sys.platform, sys.executable)"
   ]
  },
  {
   "cell_type": "markdown",
   "id": "hybrid-fortune",
   "metadata": {},
   "source": [
    "We can see all existing recordingextractors, as well as the ones installed and available to us with the following commands."
   ]
  },
  {
   "cell_type": "code",
   "execution_count": 3,
   "id": "amateur-newcastle",
   "metadata": {},
   "outputs": [
    {
     "data": {
      "text/plain": [
       "[spikeextractors.extractors.mdaextractors.mdaextractors.MdaRecordingExtractor,\n",
       " spikeextractors.extractors.mearecextractors.mearecextractors.MEArecRecordingExtractor,\n",
       " spikeextractors.extractors.biocamrecordingextractor.biocamrecordingextractor.BiocamRecordingExtractor,\n",
       " spikeextractors.extractors.exdirextractors.exdirextractors.ExdirRecordingExtractor,\n",
       " spikeextractors.extractors.openephysextractors.openephysextractors.OpenEphysRecordingExtractor,\n",
       " spikeextractors.extractors.openephysextractors.openephysextractors.OpenEphysNPIXRecordingExtractor,\n",
       " spikeextractors.extractors.intanrecordingextractor.intanrecordingextractor.IntanRecordingExtractor,\n",
       " spikeextractors.extractors.bindatrecordingextractor.bindatrecordingextractor.BinDatRecordingExtractor,\n",
       " spikeextractors.extractors.klustaextractors.klustaextractors.KlustaRecordingExtractor,\n",
       " spikeextractors.extractors.kilosortextractors.kilosortextractors.KiloSortRecordingExtractor,\n",
       " spikeextractors.extractors.spykingcircusextractors.spykingcircusextractors.SpykingCircusRecordingExtractor,\n",
       " spikeextractors.extractors.spikeglxrecordingextractor.spikeglxrecordingextractor.SpikeGLXRecordingExtractor,\n",
       " spikeextractors.extractors.phyextractors.phyextractors.PhyRecordingExtractor,\n",
       " spikeextractors.extractors.maxwellextractors.maxwellextractors.MaxOneRecordingExtractor,\n",
       " spikeextractors.extractors.maxwellextractors.maxwellextractors.MaxTwoRecordingExtractor,\n",
       " spikeextractors.extractors.mcsh5recordingextractor.mcsh5recordingextractor.MCSH5RecordingExtractor,\n",
       " spikeextractors.extractors.shybridextractors.shybridextractors.SHYBRIDRecordingExtractor,\n",
       " spikeextractors.extractors.nixioextractors.nixioextractors.NIXIORecordingExtractor,\n",
       " spikeextractors.extractors.nwbextractors.nwbextractors.NwbRecordingExtractor,\n",
       " spikeextractors.extractors.neuroscopeextractors.neuroscopeextractors.NeuroscopeRecordingExtractor,\n",
       " spikeextractors.extractors.neuroscopeextractors.neuroscopeextractors.NeuroscopeMultiRecordingTimeExtractor,\n",
       " spikeextractors.extractors.cedextractors.cedrecordingextractor.CEDRecordingExtractor,\n",
       " spikeextractors.extractors.neuropixelsdatrecordingextractor.neuropixelsdatrecordingextractor.NeuropixelsDatRecordingExtractor,\n",
       " spikeextractors.extractors.neoextractors.axonaextractor.AxonaRecordingExtractor,\n",
       " spikeextractors.extractors.neoextractors.plexonextractor.PlexonRecordingExtractor,\n",
       " spikeextractors.extractors.neoextractors.neuralynxextractor.NeuralynxRecordingExtractor,\n",
       " spikeextractors.extractors.neoextractors.blackrockextractor.BlackrockRecordingExtractor,\n",
       " spikeextractors.extractors.neoextractors.mcsrawrecordingextractor.MCSRawRecordingExtractor,\n",
       " spikeextractors.extractors.neoextractors.spikegadgetsextractor.SpikeGadgetsRecordingExtractor]"
      ]
     },
     "execution_count": 3,
     "metadata": {},
     "output_type": "execute_result"
    }
   ],
   "source": [
    "se.recording_extractor_full_list"
   ]
  },
  {
   "cell_type": "code",
   "execution_count": 4,
   "id": "impossible-words",
   "metadata": {},
   "outputs": [
    {
     "data": {
      "text/plain": [
       "[spikeextractors.extractors.mdaextractors.mdaextractors.MdaRecordingExtractor,\n",
       " spikeextractors.extractors.biocamrecordingextractor.biocamrecordingextractor.BiocamRecordingExtractor,\n",
       " spikeextractors.extractors.openephysextractors.openephysextractors.OpenEphysRecordingExtractor,\n",
       " spikeextractors.extractors.openephysextractors.openephysextractors.OpenEphysNPIXRecordingExtractor,\n",
       " spikeextractors.extractors.bindatrecordingextractor.bindatrecordingextractor.BinDatRecordingExtractor,\n",
       " spikeextractors.extractors.klustaextractors.klustaextractors.KlustaRecordingExtractor,\n",
       " spikeextractors.extractors.kilosortextractors.kilosortextractors.KiloSortRecordingExtractor,\n",
       " spikeextractors.extractors.spykingcircusextractors.spykingcircusextractors.SpykingCircusRecordingExtractor,\n",
       " spikeextractors.extractors.spikeglxrecordingextractor.spikeglxrecordingextractor.SpikeGLXRecordingExtractor,\n",
       " spikeextractors.extractors.phyextractors.phyextractors.PhyRecordingExtractor,\n",
       " spikeextractors.extractors.maxwellextractors.maxwellextractors.MaxOneRecordingExtractor,\n",
       " spikeextractors.extractors.maxwellextractors.maxwellextractors.MaxTwoRecordingExtractor,\n",
       " spikeextractors.extractors.mcsh5recordingextractor.mcsh5recordingextractor.MCSH5RecordingExtractor,\n",
       " spikeextractors.extractors.nwbextractors.nwbextractors.NwbRecordingExtractor,\n",
       " spikeextractors.extractors.neuropixelsdatrecordingextractor.neuropixelsdatrecordingextractor.NeuropixelsDatRecordingExtractor,\n",
       " spikeextractors.extractors.neoextractors.axonaextractor.AxonaRecordingExtractor,\n",
       " spikeextractors.extractors.neoextractors.plexonextractor.PlexonRecordingExtractor,\n",
       " spikeextractors.extractors.neoextractors.neuralynxextractor.NeuralynxRecordingExtractor,\n",
       " spikeextractors.extractors.neoextractors.blackrockextractor.BlackrockRecordingExtractor,\n",
       " spikeextractors.extractors.neoextractors.mcsrawrecordingextractor.MCSRawRecordingExtractor,\n",
       " spikeextractors.extractors.neoextractors.spikegadgetsextractor.SpikeGadgetsRecordingExtractor]"
      ]
     },
     "execution_count": 4,
     "metadata": {},
     "output_type": "execute_result"
    }
   ],
   "source": [
    "se.installed_recording_extractor_list"
   ]
  },
  {
   "cell_type": "markdown",
   "id": "large-excerpt",
   "metadata": {
    "id": "large-excerpt"
   },
   "source": [
    "<a id='load_data'></a>\n",
    "# 2. Load data\n",
    "[back to index](#index)"
   ]
  },
  {
   "cell_type": "markdown",
   "id": "ZGnYmYSs7FKP",
   "metadata": {
    "id": "ZGnYmYSs7FKP"
   },
   "source": [
    "Set path and base filename and create an `AxonaRecordingExtractor` instance. The `AxonaRecordingExtractor` will process .bin data together with a .set file. It is sufficient to pass the base filename (without ending), assuming that both files are in the same directory (.bin or .set extensions will also work). "
   ]
  },
  {
   "cell_type": "code",
   "execution_count": 5,
   "id": "covered-rescue",
   "metadata": {
    "colab": {
     "base_uri": "https://localhost:8080/"
    },
    "id": "covered-rescue",
    "outputId": "6c46c365-0d3b-4e97-db63-a810005bac35"
   },
   "outputs": [
    {
     "name": "stdout",
     "output_type": "stream",
     "text": [
      "/mnt/d/freelance-work/catalyst-neuro/hussaini-lab-to-nwb/example_data_raw/20201004_Raw.bin\n"
     ]
    }
   ],
   "source": [
    "dir_name = r'/mnt/d/freelance-work/catalyst-neuro/hussaini-lab-to-nwb/example_data_raw'\n",
    "base_filename = '20201004_Raw.bin'\n",
    "filename = os.path.join(dir_name, base_filename)\n",
    "print(filename)"
   ]
  },
  {
   "cell_type": "code",
   "execution_count": 5,
   "id": "mechanical-tonight",
   "metadata": {
    "id": "mechanical-tonight",
    "scrolled": true
   },
   "outputs": [],
   "source": [
    "recording = se.AxonaRecordingExtractor(filename=filename)"
   ]
  },
  {
   "cell_type": "markdown",
   "id": "parental-characteristic",
   "metadata": {},
   "source": [
    "A `RecordingExtractor` object extracts information about channel ids, channel locations (if present), the sampling frequency of the recording, and the extracellular traces (when prompted). \n",
    "\n",
    "Here we load information from the recording using the built-in functions from the RecordingExtractor."
   ]
  },
  {
   "cell_type": "code",
   "execution_count": 6,
   "id": "convinced-freeware",
   "metadata": {
    "colab": {
     "base_uri": "https://localhost:8080/"
    },
    "id": "convinced-freeware",
    "outputId": "3dc8056f-0bc3-4531-9a76-8c5b3c69cfe6"
   },
   "outputs": [
    {
     "name": "stdout",
     "output_type": "stream",
     "text": [
      "Type of recorindextractor: <class 'spikeextractors.extractors.neoextractors.axonaextractor.AxonaRecordingExtractor'>\n",
      "Channel ids: [1, 2, 3, 4, 5, 6, 7, 8, 9, 10, 11, 12, 13, 14, 15, 16]\n",
      "Num. channels = 16\n",
      "Sampling frequency = 48000.0 Hz\n",
      "Num. samples = 28800300\n"
     ]
    },
    {
     "name": "stderr",
     "output_type": "stream",
     "text": [
      "/mnt/d/spikeinterface/spikeextractors/spikeextractors/extraction_tools.py:847: DeprecationWarning: `np.float` is a deprecated alias for the builtin `float`. To silence this warning, use `float` by itself. Doing this will not modify any behavior and is safe. If you specifically wanted the numpy scalar type, use `np.float64` here.\n",
      "Deprecated in NumPy 1.20; for more details and guidance: https://numpy.org/devdocs/release/1.20.0-notes.html#deprecations\n",
      "  if isinstance(start_frame, (float, np.float)):\n",
      "/mnt/d/spikeinterface/spikeextractors/spikeextractors/extraction_tools.py:853: DeprecationWarning: `np.float` is a deprecated alias for the builtin `float`. To silence this warning, use `float` by itself. Doing this will not modify any behavior and is safe. If you specifically wanted the numpy scalar type, use `np.float64` here.\n",
      "Deprecated in NumPy 1.20; for more details and guidance: https://numpy.org/devdocs/release/1.20.0-notes.html#deprecations\n",
      "  if isinstance(end_frame, (float, np.float)) and np.isfinite(end_frame):\n"
     ]
    },
    {
     "name": "stdout",
     "output_type": "stream",
     "text": [
      "Stdev. on third channel = 6921.685546875\n",
      "Location of third electrode = [nan nan]\n"
     ]
    }
   ],
   "source": [
    "print('Type of recorindextractor:', type(recording))\n",
    "print('Channel ids: {}'.format(recording.get_channel_ids()))\n",
    "print('Num. channels = {}'.format(len(recording.get_channel_ids())))\n",
    "print('Sampling frequency = {} Hz'.format(recording.get_sampling_frequency()))\n",
    "print('Num. samples = {}'.format(recording.get_num_frames()))\n",
    "print('Stdev. on third channel = {}'.format(np.std(recording.get_traces(\n",
    "    start_frame=0, end_frame=48000, channel_ids=2))))\n",
    "print('Location of third electrode = {}'.format(recording.get_channel_property(channel_id=2, property_name='location')))"
   ]
  },
  {
   "cell_type": "markdown",
   "id": "W_sIsLkcYnCP",
   "metadata": {
    "id": "W_sIsLkcYnCP"
   },
   "source": [
    "The `spikewidgets` module includes several convenient plotting functions that can be used to explore the data:\n",
    "\n",
    "Visualize channels in time domain (from 2.0 to 2.1 seconds)."
   ]
  },
  {
   "cell_type": "code",
   "execution_count": 7,
   "id": "described-barcelona",
   "metadata": {
    "colab": {
     "base_uri": "https://localhost:8080/",
     "height": 515
    },
    "id": "described-barcelona",
    "outputId": "a079470c-5db5-4187-eca1-5b039a484a38"
   },
   "outputs": [],
   "source": [
    "w_ts = sw.plot_timeseries(recording, trange=[2, 2.1])"
   ]
  },
  {
   "cell_type": "markdown",
   "id": "XicpUe1hZAWX",
   "metadata": {
    "id": "XicpUe1hZAWX"
   },
   "source": [
    "Visualize data from a subset of 8 channels in the frequency domain."
   ]
  },
  {
   "cell_type": "code",
   "execution_count": 8,
   "id": "empirical-hearing",
   "metadata": {
    "colab": {
     "base_uri": "https://localhost:8080/",
     "height": 515
    },
    "id": "empirical-hearing",
    "outputId": "7e2f4db1-3720-4d27-a0dd-11d402350970"
   },
   "outputs": [
    {
     "name": "stderr",
     "output_type": "stream",
     "text": [
      "/mnt/d/spikeinterface/hussaini-to-nwb/tidy_venv/venv/lib/python3.8/site-packages/ipykernel/ipkernel.py:283: DeprecationWarning: `should_run_async` will not call `transform_cell` automatically in the future. Please pass the result to `transformed_cell` argument and any exception that happen during thetransform in `preprocessing_exc_tuple` in IPython 7.17 and above.\n",
      "  and should_run_async(code)\n",
      "/mnt/d/spikeinterface/spikeextractors/spikeextractors/extraction_tools.py:847: DeprecationWarning: `np.float` is a deprecated alias for the builtin `float`. To silence this warning, use `float` by itself. Doing this will not modify any behavior and is safe. If you specifically wanted the numpy scalar type, use `np.float64` here.\n",
      "Deprecated in NumPy 1.20; for more details and guidance: https://numpy.org/devdocs/release/1.20.0-notes.html#deprecations\n",
      "  if isinstance(start_frame, (float, np.float)):\n",
      "/mnt/d/spikeinterface/spikeextractors/spikeextractors/extraction_tools.py:853: DeprecationWarning: `np.float` is a deprecated alias for the builtin `float`. To silence this warning, use `float` by itself. Doing this will not modify any behavior and is safe. If you specifically wanted the numpy scalar type, use `np.float64` here.\n",
      "Deprecated in NumPy 1.20; for more details and guidance: https://numpy.org/devdocs/release/1.20.0-notes.html#deprecations\n",
      "  if isinstance(end_frame, (float, np.float)) and np.isfinite(end_frame):\n"
     ]
    }
   ],
   "source": [
    "w_sp = sw.plot_spectrum(recording, trange=[0, 5], channels=[1, 2, 3, 4, 5, 6, 7, 8])"
   ]
  },
  {
   "cell_type": "markdown",
   "id": "WZj10iA-ZdAJ",
   "metadata": {
    "id": "WZj10iA-ZdAJ"
   },
   "source": [
    "It often makes sense to group electrodes together, for instance if they belong to the same tetrode. When reading Axona data channels are automatically grouped by tetrode membership by reading the information form the .set file. If desired, or if using a different recording system where groups are not automatically assigned, the `set_channel_groups()` method can be used. Correspondingly, we can view the `group` property using the `get_channel_groups` method. \n",
    "\n",
    "An alternative way to obtain channel groups is by loading a so called `.prb` file containing channel grouping and physical channel locations. We do not need it here, but it is well explained in this [spikeinterface tutorial](https://github.com/SpikeInterface/spiketutorials/blob/master/NWB_Developer_Breakout_Session_Sep2020/SpikeInterface_Tutorial.ipynb)."
   ]
  },
  {
   "cell_type": "code",
   "execution_count": 9,
   "id": "developmental-thousand",
   "metadata": {
    "colab": {
     "base_uri": "https://localhost:8080/"
    },
    "id": "developmental-thousand",
    "outputId": "67ed1ac0-8fb3-4c07-f0f7-baa34c6a1b47"
   },
   "outputs": [
    {
     "name": "stdout",
     "output_type": "stream",
     "text": [
      "Channel groups:\n",
      "[0 0 0 0 1 1 1 1 2 2 2 2 3 3 3 3]\n"
     ]
    },
    {
     "name": "stderr",
     "output_type": "stream",
     "text": [
      "/mnt/d/spikeinterface/hussaini-to-nwb/tidy_venv/venv/lib/python3.8/site-packages/ipykernel/ipkernel.py:283: DeprecationWarning: `should_run_async` will not call `transform_cell` automatically in the future. Please pass the result to `transformed_cell` argument and any exception that happen during thetransform in `preprocessing_exc_tuple` in IPython 7.17 and above.\n",
      "  and should_run_async(code)\n"
     ]
    }
   ],
   "source": [
    "print(f'Channel groups:\\n{recording.get_channel_groups()}')"
   ]
  },
  {
   "cell_type": "markdown",
   "id": "remarkable-sewing",
   "metadata": {
    "id": "remarkable-sewing"
   },
   "source": [
    "Some spike sorters (e.g. ironclust) require channel locations. So we will create a fake geometry keeping electrodes on single tetrodes close together. One could use a `.prb` file to accomplish this, but we will simply assign locations with the `set_channel_locations()` method. If the actual geometry is known, you can of course use that instead. "
   ]
  },
  {
   "cell_type": "code",
   "execution_count": 10,
   "id": "instrumental-elizabeth",
   "metadata": {},
   "outputs": [
    {
     "data": {
      "text/plain": [
       "[1, 2, 3, 4, 5, 6, 7, 8, 9, 10, 11, 12, 13, 14, 15, 16]"
      ]
     },
     "execution_count": 10,
     "metadata": {},
     "output_type": "execute_result"
    }
   ],
   "source": [
    "recording.get_channel_ids()"
   ]
  },
  {
   "cell_type": "code",
   "execution_count": 11,
   "id": "nominated-terror",
   "metadata": {
    "id": "nominated-terror"
   },
   "outputs": [],
   "source": [
    "recording.set_channel_locations(locations=[[0,0],[0,1],[0,2],[0,3],\n",
    "                                           [0,10],[0,11],[0,12],[0,13],\n",
    "                                           [0,20],[0,21],[0,22],[0,23],\n",
    "                                           [0,30],[0,31],[0,32],[0,33]],\n",
    "                                channel_ids=recording.get_channel_ids())"
   ]
  },
  {
   "cell_type": "markdown",
   "id": "Idpx--IPcDaC",
   "metadata": {
    "id": "Idpx--IPcDaC"
   },
   "source": [
    "We now have the additional channel property `location`."
   ]
  },
  {
   "cell_type": "code",
   "execution_count": 12,
   "id": "impressive-continent",
   "metadata": {
    "colab": {
     "base_uri": "https://localhost:8080/"
    },
    "id": "impressive-continent",
    "outputId": "c5b6e7ac-2026-4c89-caa7-af07ea19ae04",
    "scrolled": true
   },
   "outputs": [
    {
     "name": "stdout",
     "output_type": "stream",
     "text": [
      "Channel ids: [1, 2, 3, 4, 5, 6, 7, 8, 9, 10, 11, 12, 13, 14, 15, 16]\n",
      "Loaded properties ['gain', 'group', 'location', 'name', 'offset']\n",
      "Channel groups: [0 0 0 0 1 1 1 1 2 2 2 2 3 3 3 3]\n",
      "Channel locations:\n",
      " [[ 0.  0.]\n",
      " [ 0.  1.]\n",
      " [ 0.  2.]\n",
      " [ 0.  3.]\n",
      " [ 0. 10.]\n",
      " [ 0. 11.]\n",
      " [ 0. 12.]\n",
      " [ 0. 13.]\n",
      " [ 0. 20.]\n",
      " [ 0. 21.]\n",
      " [ 0. 22.]\n",
      " [ 0. 23.]\n",
      " [ 0. 30.]\n",
      " [ 0. 31.]\n",
      " [ 0. 32.]\n",
      " [ 0. 33.]]\n"
     ]
    }
   ],
   "source": [
    "print('Channel ids:', recording.get_channel_ids())\n",
    "print('Loaded properties', recording.get_shared_channel_property_names())\n",
    "\n",
    "# 'group' and 'location' can be returned as lists:\n",
    "print('Channel groups:', recording.get_channel_groups())\n",
    "print('Channel locations:\\n', recording.get_channel_locations())"
   ]
  },
  {
   "cell_type": "markdown",
   "id": "FD0X7QzRcfrJ",
   "metadata": {
    "id": "FD0X7QzRcfrJ"
   },
   "source": [
    "We can visualize the electrode locations with spikewidgets:"
   ]
  },
  {
   "cell_type": "code",
   "execution_count": 13,
   "id": "extra-lover",
   "metadata": {
    "colab": {
     "base_uri": "https://localhost:8080/",
     "height": 85
    },
    "id": "extra-lover",
    "outputId": "96697da9-26fc-4f93-ac30-be156c38a2c2"
   },
   "outputs": [],
   "source": [
    "fh = plt.figure(figsize=(1,6))\n",
    "w_elec = sw.plot_electrode_geometry(recording, figure=fh)"
   ]
  },
  {
   "cell_type": "markdown",
   "id": "european-truck",
   "metadata": {},
   "source": [
    "### Properties (and features)\n",
    "\n",
    "For now we have seen that the `RecordingEctractor` can have `group` and `location` *properies*. These are very special properties that can be very important for spike sorting. Anything related to a channel can be saved as a property.\n",
    "\n",
    "Similarly, for `SortingExtractor` objects, anything related to a unit can be stored as a property. In addition, for `SortingExtractor` objects we can also store anything related to spikes as *features* (e.g. waveforms, as we'll see later).\n",
    "\n",
    "We can check which properties are in the extractor as follows:"
   ]
  },
  {
   "cell_type": "code",
   "execution_count": 14,
   "id": "placed-equality",
   "metadata": {
    "colab": {
     "base_uri": "https://localhost:8080/"
    },
    "id": "placed-equality",
    "outputId": "09e832f4-c625-45e0-e759-70eba95dead2"
   },
   "outputs": [
    {
     "name": "stdout",
     "output_type": "stream",
     "text": [
      "Shared channel property names\n",
      "['gain', 'group', 'location', 'name', 'offset']\n"
     ]
    }
   ],
   "source": [
    "print('Shared channel property names')\n",
    "print(recording.get_shared_channel_property_names())"
   ]
  },
  {
   "cell_type": "markdown",
   "id": "tight-toddler",
   "metadata": {
    "id": "tight-toddler"
   },
   "source": [
    "<a id='preprocess'></a>\n",
    "# 3. Preprocessing\n",
    "[back to index](#index)"
   ]
  },
  {
   "cell_type": "markdown",
   "id": "gLFcbetfdKRw",
   "metadata": {
    "id": "gLFcbetfdKRw"
   },
   "source": [
    "Now that the probe information is loaded we can do some preprocessing using `spiketoolkit`.\n",
    "\n",
    "We can filter the recordings, rereference the signals to remove noise, discard noisy channels, whiten the data, remove stimulation artifacts, etc. (more info [here](https://spiketoolkit.readthedocs.io/en/latest/preprocessing_example.html)).\n",
    "\n",
    "For this notebook, we will filter the recordings, apply common median reference (CMR) and remove noisy channels. All preprocessing modules return new `RecordingExtractor` objects that apply the underlying preprocessing function. This allows users to access the preprocessed data in the same way as the raw data."
   ]
  },
  {
   "cell_type": "markdown",
   "id": "invisible-strengthening",
   "metadata": {
    "id": "invisible-strengthening"
   },
   "source": [
    "### Bandpass filter"
   ]
  },
  {
   "cell_type": "code",
   "execution_count": 15,
   "id": "fixed-eugene",
   "metadata": {
    "colab": {
     "base_uri": "https://localhost:8080/",
     "height": 515
    },
    "id": "fixed-eugene",
    "outputId": "9a00cfd1-fadb-47a5-b777-6b04b38ce80a"
   },
   "outputs": [
    {
     "name": "stderr",
     "output_type": "stream",
     "text": [
      "/mnt/d/spikeinterface/spikeextractors/spikeextractors/extraction_tools.py:847: DeprecationWarning: `np.float` is a deprecated alias for the builtin `float`. To silence this warning, use `float` by itself. Doing this will not modify any behavior and is safe. If you specifically wanted the numpy scalar type, use `np.float64` here.\n",
      "Deprecated in NumPy 1.20; for more details and guidance: https://numpy.org/devdocs/release/1.20.0-notes.html#deprecations\n",
      "  if isinstance(start_frame, (float, np.float)):\n",
      "/mnt/d/spikeinterface/spikeextractors/spikeextractors/extraction_tools.py:853: DeprecationWarning: `np.float` is a deprecated alias for the builtin `float`. To silence this warning, use `float` by itself. Doing this will not modify any behavior and is safe. If you specifically wanted the numpy scalar type, use `np.float64` here.\n",
      "Deprecated in NumPy 1.20; for more details and guidance: https://numpy.org/devdocs/release/1.20.0-notes.html#deprecations\n",
      "  if isinstance(end_frame, (float, np.float)) and np.isfinite(end_frame):\n"
     ]
    }
   ],
   "source": [
    "r_filt = st.preprocessing.bandpass_filter(recording, freq_min=300, freq_max=6000)\n",
    "\n",
    "w = sw.plot_timeseries(r_filt, trange=[2, 2.4], color_groups=True)"
   ]
  },
  {
   "cell_type": "markdown",
   "id": "outdoor-porter",
   "metadata": {
    "id": "outdoor-porter"
   },
   "source": [
    "### Common median reference (CMR)"
   ]
  },
  {
   "cell_type": "markdown",
   "id": "AqxhdcAJdnZ0",
   "metadata": {
    "id": "AqxhdcAJdnZ0"
   },
   "source": [
    "It is often desirable to use a common median reference to remove noise common to all channels."
   ]
  },
  {
   "cell_type": "code",
   "execution_count": 16,
   "id": "joint-friend",
   "metadata": {
    "colab": {
     "base_uri": "https://localhost:8080/",
     "height": 515
    },
    "id": "joint-friend",
    "outputId": "38316bc9-9d28-4637-ad9c-c67677aaaf99"
   },
   "outputs": [
    {
     "name": "stderr",
     "output_type": "stream",
     "text": [
      "/mnt/d/spikeinterface/hussaini-to-nwb/tidy_venv/venv/lib/python3.8/site-packages/ipykernel/ipkernel.py:283: DeprecationWarning: `should_run_async` will not call `transform_cell` automatically in the future. Please pass the result to `transformed_cell` argument and any exception that happen during thetransform in `preprocessing_exc_tuple` in IPython 7.17 and above.\n",
      "  and should_run_async(code)\n",
      "/mnt/d/spikeinterface/spikeextractors/spikeextractors/extraction_tools.py:847: DeprecationWarning: `np.float` is a deprecated alias for the builtin `float`. To silence this warning, use `float` by itself. Doing this will not modify any behavior and is safe. If you specifically wanted the numpy scalar type, use `np.float64` here.\n",
      "Deprecated in NumPy 1.20; for more details and guidance: https://numpy.org/devdocs/release/1.20.0-notes.html#deprecations\n",
      "  if isinstance(start_frame, (float, np.float)):\n",
      "/mnt/d/spikeinterface/spikeextractors/spikeextractors/extraction_tools.py:853: DeprecationWarning: `np.float` is a deprecated alias for the builtin `float`. To silence this warning, use `float` by itself. Doing this will not modify any behavior and is safe. If you specifically wanted the numpy scalar type, use `np.float64` here.\n",
      "Deprecated in NumPy 1.20; for more details and guidance: https://numpy.org/devdocs/release/1.20.0-notes.html#deprecations\n",
      "  if isinstance(end_frame, (float, np.float)) and np.isfinite(end_frame):\n"
     ]
    }
   ],
   "source": [
    "r_cmr = st.preprocessing.common_reference(r_filt, reference='median')\n",
    "w = sw.plot_timeseries(r_cmr, trange=[2, 2.4], color_groups=True)"
   ]
  },
  {
   "cell_type": "markdown",
   "id": "invalid-salvation",
   "metadata": {},
   "source": [
    "### Remove bad channels"
   ]
  },
  {
   "cell_type": "markdown",
   "id": "assisted-numbers",
   "metadata": {
    "id": "assisted-numbers"
   },
   "source": [
    "Some channels look more noisy than others. This could negatively influence the spike sorters, so let's remove some of the noisier channels. Of course for actual analyses it might be better to use a more objective approach. We can do so as follows (alternatively we could create a `SubRecordingExtractor` and specify the channel IDs to keep):"
   ]
  },
  {
   "cell_type": "code",
   "execution_count": 17,
   "id": "worth-class",
   "metadata": {},
   "outputs": [
    {
     "name": "stdout",
     "output_type": "stream",
     "text": [
      "Channel ids after removing bad channel: [2, 3, 5, 7, 8, 9, 10, 11, 12, 13, 14, 15, 16]\n",
      "Channel groups after removing bad channel: [0 0 1 1 1 2 2 2 2 3 3 3 3]\n"
     ]
    },
    {
     "name": "stderr",
     "output_type": "stream",
     "text": [
      "/mnt/d/spikeinterface/hussaini-to-nwb/tidy_venv/venv/lib/python3.8/site-packages/ipykernel/ipkernel.py:283: DeprecationWarning: `should_run_async` will not call `transform_cell` automatically in the future. Please pass the result to `transformed_cell` argument and any exception that happen during thetransform in `preprocessing_exc_tuple` in IPython 7.17 and above.\n",
      "  and should_run_async(code)\n",
      "/mnt/d/spikeinterface/spikeextractors/spikeextractors/extraction_tools.py:847: DeprecationWarning: `np.float` is a deprecated alias for the builtin `float`. To silence this warning, use `float` by itself. Doing this will not modify any behavior and is safe. If you specifically wanted the numpy scalar type, use `np.float64` here.\n",
      "Deprecated in NumPy 1.20; for more details and guidance: https://numpy.org/devdocs/release/1.20.0-notes.html#deprecations\n",
      "  if isinstance(start_frame, (float, np.float)):\n",
      "/mnt/d/spikeinterface/spikeextractors/spikeextractors/extraction_tools.py:853: DeprecationWarning: `np.float` is a deprecated alias for the builtin `float`. To silence this warning, use `float` by itself. Doing this will not modify any behavior and is safe. If you specifically wanted the numpy scalar type, use `np.float64` here.\n",
      "Deprecated in NumPy 1.20; for more details and guidance: https://numpy.org/devdocs/release/1.20.0-notes.html#deprecations\n",
      "  if isinstance(end_frame, (float, np.float)) and np.isfinite(end_frame):\n"
     ]
    }
   ],
   "source": [
    "channel_ids = np.array(r_cmr.get_channel_ids())\n",
    "r_good_channels = st.preprocessing.remove_bad_channels(r_cmr, bad_channel_ids=channel_ids[[0, 3, 5]])\n",
    "print(f'Channel ids after removing bad channel: {r_good_channels.get_channel_ids()}')\n",
    "print(f'Channel groups after removing bad channel: {r_good_channels.get_channel_groups()}')"
   ]
  },
  {
   "cell_type": "code",
   "execution_count": 18,
   "id": "removable-mention",
   "metadata": {},
   "outputs": [],
   "source": [
    "w = sw.plot_timeseries(r_good_channels, trange=[2, 2.4], color_groups=True)"
   ]
  },
  {
   "cell_type": "markdown",
   "id": "fifty-trainer",
   "metadata": {},
   "source": [
    "We can also select subsets of data in the time domain with `SubRecordingExtractor`. For illustrative purposes and to speed up computation time of the spike sorters, we will select a 2 min sub-window. \n"
   ]
  },
  {
   "cell_type": "code",
   "execution_count": 19,
   "id": "daily-rogers",
   "metadata": {
    "id": "daily-rogers"
   },
   "outputs": [
    {
     "name": "stderr",
     "output_type": "stream",
     "text": [
      "/mnt/d/spikeinterface/hussaini-to-nwb/tidy_venv/venv/lib/python3.8/site-packages/ipykernel/ipkernel.py:283: DeprecationWarning: `should_run_async` will not call `transform_cell` automatically in the future. Please pass the result to `transformed_cell` argument and any exception that happen during thetransform in `preprocessing_exc_tuple` in IPython 7.17 and above.\n",
      "  and should_run_async(code)\n",
      "/mnt/d/spikeinterface/spikeextractors/spikeextractors/extraction_tools.py:847: DeprecationWarning: `np.float` is a deprecated alias for the builtin `float`. To silence this warning, use `float` by itself. Doing this will not modify any behavior and is safe. If you specifically wanted the numpy scalar type, use `np.float64` here.\n",
      "Deprecated in NumPy 1.20; for more details and guidance: https://numpy.org/devdocs/release/1.20.0-notes.html#deprecations\n",
      "  if isinstance(start_frame, (float, np.float)):\n",
      "/mnt/d/spikeinterface/spikeextractors/spikeextractors/extraction_tools.py:853: DeprecationWarning: `np.float` is a deprecated alias for the builtin `float`. To silence this warning, use `float` by itself. Doing this will not modify any behavior and is safe. If you specifically wanted the numpy scalar type, use `np.float64` here.\n",
      "Deprecated in NumPy 1.20; for more details and guidance: https://numpy.org/devdocs/release/1.20.0-notes.html#deprecations\n",
      "  if isinstance(end_frame, (float, np.float)) and np.isfinite(end_frame):\n"
     ]
    }
   ],
   "source": [
    "fs = r_cmr.get_sampling_frequency()\n",
    "r_sub = se.SubRecordingExtractor(r_good_channels, start_frame=0*fs, end_frame=120*fs)"
   ]
  },
  {
   "cell_type": "markdown",
   "id": "precise-hawaiian",
   "metadata": {
    "id": "precise-hawaiian"
   },
   "source": [
    "<a id='cache'></a>\n",
    "# 4. Cache data\n",
    "[back to index](#index)"
   ]
  },
  {
   "cell_type": "markdown",
   "id": "convenient-afghanistan",
   "metadata": {},
   "source": [
    "All operations in SpikeInterface are *lazy*, meaning that they are not performed if not needed. This is why the creation of our filter recording was almost instantaneous. However, to speed up further processing, we might want to perform those operations (eg. filters, CMR, etc.) at once and **cache** the processed data to a file. This is particularly important if we are going to extract waveforms, templates, pca scores, or in general *post-process* the results.\n",
    "\n",
    "Note that if the parameter `save_path` is not specified, the cache file will be saved in a temporary folder that will be deleted when the Python session is closed (or the object destroyed). One can get around this by moving the temporary file with `recording_cache.move_to()`, or simply specifying the `save_path` paramter when creating the cache. You can view the directory of the temporary folder with `recording_cache.get_tmp_folder()`."
   ]
  },
  {
   "cell_type": "code",
   "execution_count": 20,
   "id": "curious-hughes",
   "metadata": {
    "id": "curious-hughes"
   },
   "outputs": [
    {
     "name": "stdout",
     "output_type": "stream",
     "text": [
      "Temporary folder:\n",
      "/tmp/tmp7ljpye95\n"
     ]
    }
   ],
   "source": [
    "perma_cache_filename = os.path.join(dir_name, 'cached_data_preproc.dat') \n",
    "r_cache = se.CacheRecordingExtractor(r_sub, save_path = perma_cache_filename)\n",
    "print('Temporary folder:\\n{}'.format(r_cache.get_tmp_folder()))"
   ]
  },
  {
   "cell_type": "markdown",
   "id": "signal-messenger",
   "metadata": {},
   "source": [
    "Under the hood, this convenient function is retrieving all the traces (in chunks, to save up some memory), applying the preprocessing steps, and dumping them to a binary temporary file:"
   ]
  },
  {
   "cell_type": "code",
   "execution_count": 21,
   "id": "broad-milwaukee",
   "metadata": {},
   "outputs": [
    {
     "name": "stdout",
     "output_type": "stream",
     "text": [
      "Filename: /mnt/d/freelance-work/catalyst-neuro/hussaini-lab-to-nwb/example_data_raw/cached_data_preproc.dat\n"
     ]
    }
   ],
   "source": [
    "print(f'Filename: {r_cache.filename}')"
   ]
  },
  {
   "cell_type": "markdown",
   "id": "altered-personality",
   "metadata": {},
   "source": [
    "The cached recording has all the previously loaded information:"
   ]
  },
  {
   "cell_type": "code",
   "execution_count": 22,
   "id": "smoking-kitchen",
   "metadata": {
    "colab": {
     "base_uri": "https://localhost:8080/"
    },
    "id": "smoking-kitchen",
    "outputId": "c28213c0-57e0-430f-c10c-35698f32e11f"
   },
   "outputs": [
    {
     "name": "stdout",
     "output_type": "stream",
     "text": [
      "Cached channels: [2, 3, 5, 7, 8, 9, 10, 11, 12, 13, 14, 15, 16]\n",
      "Cached channels ids: [2, 3, 5, 7, 8, 9, 10, 11, 12, 13, 14, 15, 16]\n",
      "Channel groups after caching: [0 0 1 1 1 2 2 2 2 3 3 3 3]\n",
      "Duration of recording in seconds: 120.0\n"
     ]
    }
   ],
   "source": [
    "print(f'Cached channels: {r_cache.get_channel_ids()}')\n",
    "print(f'Cached channels ids: {r_cache.get_channel_ids()}')\n",
    "print(f'Channel groups after caching: {r_cache.get_channel_groups()}')\n",
    "print('Duration of recording in seconds: {}'.format(r_cache.get_num_frames() / r_cache.get_sampling_frequency()))"
   ]
  },
  {
   "cell_type": "markdown",
   "id": "synthetic-casino",
   "metadata": {},
   "source": [
    "If we now closed the Python session, we would have a nice `.dat` file, but no information on how to open it! \n",
    "In order to save the state of an extractor, we can use the **dumping** mechanism.\n",
    "Each extractor can be converted to a dictionary, which holds the path to the data file and all relevant information:"
   ]
  },
  {
   "cell_type": "code",
   "execution_count": 23,
   "id": "stuffed-spain",
   "metadata": {},
   "outputs": [
    {
     "data": {
      "text/plain": [
       "{'class': 'spikeextractors.extractors.bindatrecordingextractor.bindatrecordingextractor.BinDatRecordingExtractor',\n",
       " 'module': 'spikeextractors',\n",
       " 'kwargs': {'file_path': '/mnt/d/freelance-work/catalyst-neuro/hussaini-lab-to-nwb/example_data_raw/cached_data_preproc.dat',\n",
       "  'sampling_frequency': 48000.0,\n",
       "  'numchan': 13,\n",
       "  'dtype': 'float32',\n",
       "  'recording_channels': [2, 3, 5, 7, 8, 9, 10, 11, 12, 13, 14, 15, 16],\n",
       "  'time_axis': 0,\n",
       "  'geom': None,\n",
       "  'file_offset': 0,\n",
       "  'gain': None,\n",
       "  'is_filtered': True},\n",
       " 'key_properties': {'group': array([0, 0, 1, 1, 1, 2, 2, 2, 2, 3, 3, 3, 3]),\n",
       "  'location': array([[ 0.,  1., nan],\n",
       "         [ 0.,  2., nan],\n",
       "         [ 0., 10., nan],\n",
       "         [ 0., 12., nan],\n",
       "         [ 0., 13., nan],\n",
       "         [ 0., 20., nan],\n",
       "         [ 0., 21., nan],\n",
       "         [ 0., 22., nan],\n",
       "         [ 0., 23., nan],\n",
       "         [ 0., 30., nan],\n",
       "         [ 0., 31., nan],\n",
       "         [ 0., 32., nan],\n",
       "         [ 0., 33., nan]]),\n",
       "  'gain': array([1., 1., 1., 1., 1., 1., 1., 1., 1., 1., 1., 1., 1.]),\n",
       "  'offset': array([0., 0., 0., 0., 0., 0., 0., 0., 0., 0., 0., 0., 0.])},\n",
       " 'version': '0.9.6',\n",
       " 'dumpable': True}"
      ]
     },
     "execution_count": 23,
     "metadata": {},
     "output_type": "execute_result"
    }
   ],
   "source": [
    "r_cache.dump_to_dict()"
   ]
  },
  {
   "cell_type": "markdown",
   "id": "surprising-economy",
   "metadata": {},
   "source": [
    "We can now dump our extractor object, so it can be loaded in a future session. We can dump either to `.json` or to `.pkl`. Dumping to pickle also allows us to store properties (other than group and locations) and features (for `SortingExtractor` objects)."
   ]
  },
  {
   "cell_type": "code",
   "execution_count": 24,
   "id": "egyptian-colorado",
   "metadata": {
    "id": "egyptian-colorado"
   },
   "outputs": [],
   "source": [
    "r_cache.dump_to_pickle(os.path.join(dir_name, 'cached_data_preproc.pkl'))"
   ]
  },
  {
   "cell_type": "markdown",
   "id": "characteristic-picking",
   "metadata": {},
   "source": [
    "In another session, we can pick up from where we left by loading the extractor from the pickle file:"
   ]
  },
  {
   "cell_type": "code",
   "execution_count": 6,
   "id": "damaged-dimension",
   "metadata": {
    "id": "damaged-dimension"
   },
   "outputs": [],
   "source": [
    "r_cache = se.load_extractor_from_pickle(os.path.join(dir_name, 'cached_data_preproc.pkl'))"
   ]
  },
  {
   "cell_type": "code",
   "execution_count": 7,
   "id": "widespread-storage",
   "metadata": {
    "colab": {
     "base_uri": "https://localhost:8080/"
    },
    "id": "widespread-storage",
    "outputId": "6b0dd01b-a6b3-45fc-d646-fa19d5ce42d8"
   },
   "outputs": [
    {
     "name": "stdout",
     "output_type": "stream",
     "text": [
      "Cached channels ids: [2, 3, 5, 7, 8, 9, 10, 11, 12, 13, 14, 15, 16]\n",
      "Channel groups after caching: [0 0 1 1 1 2 2 2 2 3 3 3 3]\n",
      "Duration of recording in seconds: 120.0\n"
     ]
    }
   ],
   "source": [
    "print(f'Cached channels ids: {r_cache.get_channel_ids()}')\n",
    "print(f'Channel groups after caching: {r_cache.get_channel_groups()}')\n",
    "print('Duration of recording in seconds: {}'.format(r_cache.get_num_frames() / r_cache.get_sampling_frequency()))"
   ]
  },
  {
   "cell_type": "markdown",
   "id": "hourly-carol",
   "metadata": {},
   "source": [
    "__Note__: the same caching/dumping mechanisms are available also for all `SortingExtractor` objects."
   ]
  },
  {
   "cell_type": "markdown",
   "id": "federal-definition",
   "metadata": {
    "id": "federal-definition"
   },
   "source": [
    "<a id='spike_sorting'></a>\n",
    "# 5. Spike sorting\n",
    "[back to index](#index)"
   ]
  },
  {
   "cell_type": "code",
   "execution_count": null,
   "id": "failing-dividend",
   "metadata": {},
   "outputs": [],
   "source": [
    "#TODO are the spikesorters mentioned here indeed used in the end?"
   ]
  },
  {
   "cell_type": "markdown",
   "id": "mineral-logging",
   "metadata": {},
   "source": [
    "We will now run spike sorting on the above recording (`r_cache`). We will use `klusta`, `ironclust`, `mountainsort4`, `spykingcircus` and `trideclous` for this demonstration, to show how easy SpikeInterface makes it to interchengably run different sorters."
   ]
  },
  {
   "cell_type": "markdown",
   "id": "akjGt3qmesNJ",
   "metadata": {
    "id": "akjGt3qmesNJ"
   },
   "source": [
    "First, we need to install the spike sorters we want. There is a complete overview of spike sorters supported by spikeinterface [here](https://spikeinterface.readthedocs.io/en/latest/sortersinfo.html), including installation instructions. Note that not all spikesorters work on every setup. Some require Matlab. Some require CUDA. "
   ]
  },
  {
   "cell_type": "markdown",
   "id": "acting-couple",
   "metadata": {},
   "source": [
    "We can list all installed spike sorting algorithms with the following convenience function."
   ]
  },
  {
   "cell_type": "code",
   "execution_count": 83,
   "id": "dying-patient",
   "metadata": {
    "colab": {
     "base_uri": "https://localhost:8080/"
    },
    "id": "dying-patient",
    "outputId": "c5e99f46-19fe-4751-f646-932ef2aa0c55"
   },
   "outputs": [
    {
     "data": {
      "text/plain": [
       "['herdingspikes', 'klusta', 'mountainsort4', 'spykingcircus']"
      ]
     },
     "execution_count": 83,
     "metadata": {},
     "output_type": "execute_result"
    }
   ],
   "source": [
    "ss.installed_sorters()"
   ]
  },
  {
   "cell_type": "markdown",
   "id": "initial-richards",
   "metadata": {
    "id": "initial-richards"
   },
   "source": [
    "<a id='klusta'></a>\n",
    "### Klusta\n",
    "[back to index](#index)"
   ]
  },
  {
   "cell_type": "markdown",
   "id": "arbitrary-marks",
   "metadata": {},
   "source": [
    "Install `Klusta` with pip."
   ]
  },
  {
   "cell_type": "code",
   "execution_count": 52,
   "id": "interior-austria",
   "metadata": {},
   "outputs": [
    {
     "name": "stdout",
     "output_type": "stream",
     "text": [
      "Requirement already satisfied: Cython in ./venv/lib/python3.8/site-packages (0.29.22)\n",
      "Requirement already satisfied: h5py in ./venv/lib/python3.8/site-packages (2.10.0)\n",
      "Requirement already satisfied: tqdm in ./venv/lib/python3.8/site-packages/tqdm-4.59.0-py3.8.egg (4.59.0)\n",
      "Requirement already satisfied: numpy>=1.7 in ./venv/lib/python3.8/site-packages/numpy-1.20.2-py3.8-linux-x86_64.egg (from h5py) (1.20.2)\n",
      "Requirement already satisfied: six in ./venv/lib/python3.8/site-packages (from h5py) (1.15.0)\n",
      "Collecting click\n",
      "  Using cached click-7.1.2-py2.py3-none-any.whl (82 kB)\n",
      "Collecting klusta\n",
      "  Using cached klusta-3.0.16-py2.py3-none-any.whl (87 kB)\n",
      "Collecting klustakwik2\n",
      "  Using cached klustakwik2-0.2.6.zip (712 kB)\n",
      "Building wheels for collected packages: klustakwik2\n",
      "  Building wheel for klustakwik2 (setup.py) ... \u001b[?25lerror\n",
      "\u001b[31m  ERROR: Command errored out with exit status 1:\n",
      "   command: /mnt/d/spikeinterface/hussaini-to-nwb/tidy_venv/venv/bin/python3 -u -c 'import sys, setuptools, tokenize; sys.argv[0] = '\"'\"'/tmp/pip-install-1alxlhvm/klustakwik2/setup.py'\"'\"'; __file__='\"'\"'/tmp/pip-install-1alxlhvm/klustakwik2/setup.py'\"'\"';f=getattr(tokenize, '\"'\"'open'\"'\"', open)(__file__);code=f.read().replace('\"'\"'\\r\\n'\"'\"', '\"'\"'\\n'\"'\"');f.close();exec(compile(code, __file__, '\"'\"'exec'\"'\"'))' bdist_wheel -d /tmp/pip-wheel-hlwig7as\n",
      "       cwd: /tmp/pip-install-1alxlhvm/klustakwik2/\n",
      "  Complete output (6 lines):\n",
      "  usage: setup.py [global_opts] cmd1 [cmd1_opts] [cmd2 [cmd2_opts] ...]\n",
      "     or: setup.py --help [cmd1 cmd2 ...]\n",
      "     or: setup.py --help-commands\n",
      "     or: setup.py cmd --help\n",
      "  \n",
      "  error: invalid command 'bdist_wheel'\n",
      "  ----------------------------------------\u001b[0m\n",
      "\u001b[31m  ERROR: Failed building wheel for klustakwik2\u001b[0m\n",
      "\u001b[?25h  Running setup.py clean for klustakwik2\n",
      "Failed to build klustakwik2\n",
      "Installing collected packages: click, klusta, klustakwik2\n",
      "    Running setup.py install for klustakwik2 ... \u001b[?25ldone\n",
      "\u001b[?25hSuccessfully installed click-7.1.2 klusta-3.0.16 klustakwik2-0.2.6\n"
     ]
    }
   ],
   "source": [
    "!pip install Cython h5py tqdm\n",
    "!pip install click klusta klustakwik2"
   ]
  },
  {
   "cell_type": "markdown",
   "id": "failing-subject",
   "metadata": {},
   "source": [
    "We can retrieve the parameters associated with any sorter with the `get_default_params()` function from the `spikesorters` module, as well as corresponding parameter descriptions using `get_params_description()`."
   ]
  },
  {
   "cell_type": "code",
   "execution_count": 48,
   "id": "military-oliver",
   "metadata": {
    "id": "military-oliver",
    "outputId": "aae56897-f66d-4631-c342-50ba6fb22203"
   },
   "outputs": [
    {
     "data": {
      "text/plain": [
       "{'adjacency_radius': None,\n",
       " 'threshold_strong_std_factor': 5,\n",
       " 'threshold_weak_std_factor': 2,\n",
       " 'detect_sign': -1,\n",
       " 'extract_s_before': 16,\n",
       " 'extract_s_after': 32,\n",
       " 'n_features_per_channel': 3,\n",
       " 'pca_n_waveforms_max': 10000,\n",
       " 'num_starting_clusters': 50,\n",
       " 'chunk_mb': 500,\n",
       " 'n_jobs_bin': 1}"
      ]
     },
     "execution_count": 48,
     "metadata": {},
     "output_type": "execute_result"
    }
   ],
   "source": [
    "ss.get_default_params('klusta')"
   ]
  },
  {
   "cell_type": "code",
   "execution_count": 49,
   "id": "located-complex",
   "metadata": {
    "id": "located-complex",
    "outputId": "89634d39-a76c-462e-efff-1093d27a541f"
   },
   "outputs": [
    {
     "data": {
      "text/plain": [
       "{'adjacency_radius': 'Radius in um to build channel neighborhood ',\n",
       " 'threshold_strong_std_factor': 'Strong threshold for spike detection',\n",
       " 'threshold_weak_std_factor': 'Weak threshold for spike detection',\n",
       " 'detect_sign': 'Use -1 (negative), 1 (positive) or 0 (both) depending on the sign of the spikes in the recording',\n",
       " 'extract_s_before': 'Number of samples to cut out before the peak',\n",
       " 'extract_s_after': 'Number of samples to cut out after the peak',\n",
       " 'n_features_per_channel': 'Number of PCA features per channel',\n",
       " 'pca_n_waveforms_max': 'Maximum number of waveforms for PCA',\n",
       " 'num_starting_clusters': 'Number of initial clusters',\n",
       " 'chunk_mb': 'Chunk size in Mb for saving to binary format (default 500Mb)',\n",
       " 'n_jobs_bin': 'Number of jobs for saving to binary format (Default 1)'}"
      ]
     },
     "execution_count": 49,
     "metadata": {},
     "output_type": "execute_result"
    }
   ],
   "source": [
    "ss.get_params_description('klusta')"
   ]
  },
  {
   "cell_type": "code",
   "execution_count": 50,
   "id": "proved-suite",
   "metadata": {
    "id": "proved-suite"
   },
   "outputs": [],
   "source": [
    "ss.run_sorter?"
   ]
  },
  {
   "cell_type": "code",
   "execution_count": 51,
   "id": "tough-lucas",
   "metadata": {
    "id": "tough-lucas"
   },
   "outputs": [],
   "source": [
    "ss.run_klusta?"
   ]
  },
  {
   "cell_type": "markdown",
   "id": "organic-czech",
   "metadata": {},
   "source": [
    "Since we have tetrodes and we know that they are physically apart, we would like to sort them separately as follows, assigning the `group` property to the `grouping_property` parameter:"
   ]
  },
  {
   "cell_type": "code",
   "execution_count": 27,
   "id": "original-bacteria",
   "metadata": {
    "id": "original-bacteria",
    "outputId": "fc3e8035-70aa-414a-8840-f3681f32682a"
   },
   "outputs": [
    {
     "name": "stdout",
     "output_type": "stream",
     "text": [
      "Klusta found 23 units\n"
     ]
    }
   ],
   "source": [
    "sorting_KL = ss.run_klusta(\n",
    "    r_cache,\n",
    "    adjacency_radius=5,\n",
    "    output_folder=os.path.join(dir_name, 'klusta_by_group'),\n",
    "    grouping_property='group',\n",
    "    parallel=True\n",
    ")\n",
    "print(f'Klusta found {len(sorting_KL.get_unit_ids())} units')"
   ]
  },
  {
   "cell_type": "markdown",
   "id": "beautiful-thirty",
   "metadata": {},
   "source": [
    "Below you can see that when the `grouping_property` is used a `MultiSortingExtractor` object is returned, containing several `SortingExtractor` objects, which were created separately for each group. "
   ]
  },
  {
   "cell_type": "code",
   "execution_count": 28,
   "id": "polar-bubble",
   "metadata": {},
   "outputs": [
    {
     "name": "stdout",
     "output_type": "stream",
     "text": [
      "<class 'spikeextractors.multisortingextractor.MultiSortingExtractor'>\n",
      "<class 'spikeextractors.extractors.klustaextractors.klustaextractors.KlustaSortingExtractor'>\n"
     ]
    }
   ],
   "source": [
    "print(type(sorting_KL))\n",
    "print(type(sorting_KL.sortings[0]))"
   ]
  },
  {
   "cell_type": "code",
   "execution_count": 29,
   "id": "shaped-mandate",
   "metadata": {
    "id": "shaped-mandate",
    "outputId": "f22449fd-586e-467a-9fd6-cd7e97b572a8"
   },
   "outputs": [
    {
     "name": "stdout",
     "output_type": "stream",
     "text": [
      "Klusta unit ids (with groups): [0, 1, 2, 3, 4, 5, 6, 7, 8, 9, 10, 11, 12, 13, 14, 15, 16, 17, 18, 19, 20, 21, 22]\n"
     ]
    }
   ],
   "source": [
    "print(f'Klusta unit ids (with groups): {sorting_KL.get_unit_ids()}')"
   ]
  },
  {
   "cell_type": "code",
   "execution_count": 30,
   "id": "rapid-energy",
   "metadata": {
    "id": "rapid-energy",
    "outputId": "c47c0fe7-2d9e-4b04-9f0b-873d697e4091"
   },
   "outputs": [
    {
     "name": "stdout",
     "output_type": "stream",
     "text": [
      "Spike train of a unit: [  41045   41055   41065   55619   55630   55636   55639   55660   70549\n",
      "   70557   70706   70854   70858   71001   71104   71108   71114   71128\n",
      "   71140   71145   71151   71177   71182   71186   71191   71207   71251\n",
      "   71270   71287   71304   71344   71355   71381   71395   71473   71483\n",
      "   71487   71503   71506   71511   71518   71532   71536   71570   71575\n",
      "   71594   71598   71605   71622   71627   71631   71658   71665   71671\n",
      "   71693   71696   71701   71706   71711   71733   71738   71744   71752\n",
      "   71764   71775   71783   71798   71807   71817   71825   71832   71837\n",
      "   71841   71849   71860   71866   71876   71881   71888   71908   71913\n",
      "   71917   71922   71940   71946   71949   71955   71970   71981   71985\n",
      "   71991   71996   72000   72033   72076   72146   73782   73803   73808\n",
      "   73821   73826   73830   73841   73846   73859   73865   73876   73893\n",
      "   73897   73903   73955   73958   73962   74072   74076   74080   74100\n",
      "   74108   74115   74119   74124   74195   74215   74225   74233   74239\n",
      "   74245   74252   74257   74283   74289   74292   74297   74300   74314\n",
      "   74319   74323   74331   74343   74347   74357   74363   74369   74387\n",
      "   74399   74410   74418   74422   74426   74429   74438   74441   74444\n",
      "   74463   74469   74476   74482   74494   74499   74515   74519   74526\n",
      "   74530   74533   74537   74543   74549   74553   74557   74560   74564\n",
      "   74569   74574   74583   74590   74595   74599   74602   74619   79928\n",
      "   81753   81759   81824   81898   81937   81950   81978   82123   83617\n",
      "   83620   83624   83638   83641   83643   83648   83664   83672   83742\n",
      "   83750   83773   83779   83785   83799   83807   83818   83845   83857\n",
      "   83889   83907   83911   83917   83930   83980   83996   84001   84006\n",
      "   84015   84023   84027   84030   84062   84068   84311   84315   84325\n",
      "   84509   84514   84518   84530   84771   84909   84929   84978   84982\n",
      "   84997   85002   85005   85017   85050   85055   85059   85062   85080\n",
      "   85147   85150   85154   85224   85547   85551   85574   85602   85607\n",
      "   85687   85691   85701   85969   85974   85987   86290   86295   86308\n",
      "   86330   86673   86678   86683   86687   86691   86699   86734   86751\n",
      "   86755   86783   86811   86816   86823   86837   86843   86859   86914\n",
      "   86917   86922   86932   87031   87036   87134   87140   87146   87150\n",
      "   87159   87194   87198   87205   87285   87288   87293   87300   87322\n",
      "   87326   87411   87415   87419   87427   87475   87489   87502   87507\n",
      "   87592   87595   87601   87609   87662   87666   87683   87706   87773\n",
      "   87783   87790   87796   87814   87818   87823   87830   87859   87863\n",
      "   87867   87878   87883   87890   87898   87904   87926   87931   87970\n",
      "   87974   87980   87986   87992   87997   88001   88005   88010   88065\n",
      "   88075   88088   88099   88104   88107   88110   88116   88176   98996\n",
      "  100390  102251  210458  262332  275471  276207  445261  465056  465063\n",
      "  468495  468499  768883  796300  810861 1241755 1285764 1340030 1340760\n",
      " 1525017 1726346 1790704 1865800 2363248 3038056 3745411 4014939 4418018\n",
      " 4506622 4523463 4688818 4689452 4708044 5014001 5492457]\n"
     ]
    }
   ],
   "source": [
    "print(f'Spike train of a unit: {sorting_KL.get_unit_spike_train(1)}')"
   ]
  },
  {
   "cell_type": "markdown",
   "id": "controlling-reviewer",
   "metadata": {},
   "source": [
    "We can also visually inspect the data using raster plots."
   ]
  },
  {
   "cell_type": "code",
   "execution_count": 51,
   "id": "czech-corner",
   "metadata": {},
   "outputs": [
    {
     "name": "stderr",
     "output_type": "stream",
     "text": [
      "/mnt/d/spikeinterface/hussaini-to-nwb/tidy_venv/venv/lib/python3.8/site-packages/ipykernel/ipkernel.py:283: DeprecationWarning: `should_run_async` will not call `transform_cell` automatically in the future. Please pass the result to `transformed_cell` argument and any exception that happen during thetransform in `preprocessing_exc_tuple` in IPython 7.17 and above.\n",
      "  and should_run_async(code)\n",
      "/mnt/d/spikeinterface/spikeextractors/spikeextractors/extraction_tools.py:847: DeprecationWarning: `np.float` is a deprecated alias for the builtin `float`. To silence this warning, use `float` by itself. Doing this will not modify any behavior and is safe. If you specifically wanted the numpy scalar type, use `np.float64` here.\n",
      "Deprecated in NumPy 1.20; for more details and guidance: https://numpy.org/devdocs/release/1.20.0-notes.html#deprecations\n",
      "  if isinstance(start_frame, (float, np.float)):\n",
      "/mnt/d/spikeinterface/spikeextractors/spikeextractors/extraction_tools.py:853: DeprecationWarning: `np.float` is a deprecated alias for the builtin `float`. To silence this warning, use `float` by itself. Doing this will not modify any behavior and is safe. If you specifically wanted the numpy scalar type, use `np.float64` here.\n",
      "Deprecated in NumPy 1.20; for more details and guidance: https://numpy.org/devdocs/release/1.20.0-notes.html#deprecations\n",
      "  if isinstance(end_frame, (float, np.float)) and np.isfinite(end_frame):\n",
      "/mnt/d/spikeinterface/spikeextractors/spikeextractors/extraction_tools.py:847: DeprecationWarning: `np.float` is a deprecated alias for the builtin `float`. To silence this warning, use `float` by itself. Doing this will not modify any behavior and is safe. If you specifically wanted the numpy scalar type, use `np.float64` here.\n",
      "Deprecated in NumPy 1.20; for more details and guidance: https://numpy.org/devdocs/release/1.20.0-notes.html#deprecations\n",
      "  if isinstance(start_frame, (float, np.float)):\n",
      "/mnt/d/spikeinterface/spikeextractors/spikeextractors/extraction_tools.py:853: DeprecationWarning: `np.float` is a deprecated alias for the builtin `float`. To silence this warning, use `float` by itself. Doing this will not modify any behavior and is safe. If you specifically wanted the numpy scalar type, use `np.float64` here.\n",
      "Deprecated in NumPy 1.20; for more details and guidance: https://numpy.org/devdocs/release/1.20.0-notes.html#deprecations\n",
      "  if isinstance(end_frame, (float, np.float)) and np.isfinite(end_frame):\n",
      "/mnt/d/spikeinterface/spikeextractors/spikeextractors/extraction_tools.py:847: DeprecationWarning: `np.float` is a deprecated alias for the builtin `float`. To silence this warning, use `float` by itself. Doing this will not modify any behavior and is safe. If you specifically wanted the numpy scalar type, use `np.float64` here.\n",
      "Deprecated in NumPy 1.20; for more details and guidance: https://numpy.org/devdocs/release/1.20.0-notes.html#deprecations\n",
      "  if isinstance(start_frame, (float, np.float)):\n",
      "/mnt/d/spikeinterface/spikeextractors/spikeextractors/extraction_tools.py:853: DeprecationWarning: `np.float` is a deprecated alias for the builtin `float`. To silence this warning, use `float` by itself. Doing this will not modify any behavior and is safe. If you specifically wanted the numpy scalar type, use `np.float64` here.\n",
      "Deprecated in NumPy 1.20; for more details and guidance: https://numpy.org/devdocs/release/1.20.0-notes.html#deprecations\n",
      "  if isinstance(end_frame, (float, np.float)) and np.isfinite(end_frame):\n",
      "/mnt/d/spikeinterface/spikeextractors/spikeextractors/extraction_tools.py:847: DeprecationWarning: `np.float` is a deprecated alias for the builtin `float`. To silence this warning, use `float` by itself. Doing this will not modify any behavior and is safe. If you specifically wanted the numpy scalar type, use `np.float64` here.\n",
      "Deprecated in NumPy 1.20; for more details and guidance: https://numpy.org/devdocs/release/1.20.0-notes.html#deprecations\n",
      "  if isinstance(start_frame, (float, np.float)):\n",
      "/mnt/d/spikeinterface/spikeextractors/spikeextractors/extraction_tools.py:853: DeprecationWarning: `np.float` is a deprecated alias for the builtin `float`. To silence this warning, use `float` by itself. Doing this will not modify any behavior and is safe. If you specifically wanted the numpy scalar type, use `np.float64` here.\n",
      "Deprecated in NumPy 1.20; for more details and guidance: https://numpy.org/devdocs/release/1.20.0-notes.html#deprecations\n",
      "  if isinstance(end_frame, (float, np.float)) and np.isfinite(end_frame):\n",
      "/mnt/d/spikeinterface/spikeextractors/spikeextractors/extraction_tools.py:847: DeprecationWarning: `np.float` is a deprecated alias for the builtin `float`. To silence this warning, use `float` by itself. Doing this will not modify any behavior and is safe. If you specifically wanted the numpy scalar type, use `np.float64` here.\n",
      "Deprecated in NumPy 1.20; for more details and guidance: https://numpy.org/devdocs/release/1.20.0-notes.html#deprecations\n",
      "  if isinstance(start_frame, (float, np.float)):\n",
      "/mnt/d/spikeinterface/spikeextractors/spikeextractors/extraction_tools.py:853: DeprecationWarning: `np.float` is a deprecated alias for the builtin `float`. To silence this warning, use `float` by itself. Doing this will not modify any behavior and is safe. If you specifically wanted the numpy scalar type, use `np.float64` here.\n",
      "Deprecated in NumPy 1.20; for more details and guidance: https://numpy.org/devdocs/release/1.20.0-notes.html#deprecations\n",
      "  if isinstance(end_frame, (float, np.float)) and np.isfinite(end_frame):\n",
      "/mnt/d/spikeinterface/spikeextractors/spikeextractors/extraction_tools.py:847: DeprecationWarning: `np.float` is a deprecated alias for the builtin `float`. To silence this warning, use `float` by itself. Doing this will not modify any behavior and is safe. If you specifically wanted the numpy scalar type, use `np.float64` here.\n",
      "Deprecated in NumPy 1.20; for more details and guidance: https://numpy.org/devdocs/release/1.20.0-notes.html#deprecations\n",
      "  if isinstance(start_frame, (float, np.float)):\n",
      "/mnt/d/spikeinterface/spikeextractors/spikeextractors/extraction_tools.py:853: DeprecationWarning: `np.float` is a deprecated alias for the builtin `float`. To silence this warning, use `float` by itself. Doing this will not modify any behavior and is safe. If you specifically wanted the numpy scalar type, use `np.float64` here.\n",
      "Deprecated in NumPy 1.20; for more details and guidance: https://numpy.org/devdocs/release/1.20.0-notes.html#deprecations\n",
      "  if isinstance(end_frame, (float, np.float)) and np.isfinite(end_frame):\n",
      "/mnt/d/spikeinterface/spikeextractors/spikeextractors/extraction_tools.py:847: DeprecationWarning: `np.float` is a deprecated alias for the builtin `float`. To silence this warning, use `float` by itself. Doing this will not modify any behavior and is safe. If you specifically wanted the numpy scalar type, use `np.float64` here.\n",
      "Deprecated in NumPy 1.20; for more details and guidance: https://numpy.org/devdocs/release/1.20.0-notes.html#deprecations\n",
      "  if isinstance(start_frame, (float, np.float)):\n",
      "/mnt/d/spikeinterface/spikeextractors/spikeextractors/extraction_tools.py:853: DeprecationWarning: `np.float` is a deprecated alias for the builtin `float`. To silence this warning, use `float` by itself. Doing this will not modify any behavior and is safe. If you specifically wanted the numpy scalar type, use `np.float64` here.\n",
      "Deprecated in NumPy 1.20; for more details and guidance: https://numpy.org/devdocs/release/1.20.0-notes.html#deprecations\n",
      "  if isinstance(end_frame, (float, np.float)) and np.isfinite(end_frame):\n",
      "/mnt/d/spikeinterface/spikeextractors/spikeextractors/extraction_tools.py:847: DeprecationWarning: `np.float` is a deprecated alias for the builtin `float`. To silence this warning, use `float` by itself. Doing this will not modify any behavior and is safe. If you specifically wanted the numpy scalar type, use `np.float64` here.\n",
      "Deprecated in NumPy 1.20; for more details and guidance: https://numpy.org/devdocs/release/1.20.0-notes.html#deprecations\n",
      "  if isinstance(start_frame, (float, np.float)):\n",
      "/mnt/d/spikeinterface/spikeextractors/spikeextractors/extraction_tools.py:853: DeprecationWarning: `np.float` is a deprecated alias for the builtin `float`. To silence this warning, use `float` by itself. Doing this will not modify any behavior and is safe. If you specifically wanted the numpy scalar type, use `np.float64` here.\n",
      "Deprecated in NumPy 1.20; for more details and guidance: https://numpy.org/devdocs/release/1.20.0-notes.html#deprecations\n",
      "  if isinstance(end_frame, (float, np.float)) and np.isfinite(end_frame):\n",
      "/mnt/d/spikeinterface/spikeextractors/spikeextractors/extraction_tools.py:847: DeprecationWarning: `np.float` is a deprecated alias for the builtin `float`. To silence this warning, use `float` by itself. Doing this will not modify any behavior and is safe. If you specifically wanted the numpy scalar type, use `np.float64` here.\n",
      "Deprecated in NumPy 1.20; for more details and guidance: https://numpy.org/devdocs/release/1.20.0-notes.html#deprecations\n",
      "  if isinstance(start_frame, (float, np.float)):\n",
      "/mnt/d/spikeinterface/spikeextractors/spikeextractors/extraction_tools.py:853: DeprecationWarning: `np.float` is a deprecated alias for the builtin `float`. To silence this warning, use `float` by itself. Doing this will not modify any behavior and is safe. If you specifically wanted the numpy scalar type, use `np.float64` here.\n",
      "Deprecated in NumPy 1.20; for more details and guidance: https://numpy.org/devdocs/release/1.20.0-notes.html#deprecations\n",
      "  if isinstance(end_frame, (float, np.float)) and np.isfinite(end_frame):\n",
      "/mnt/d/spikeinterface/spikeextractors/spikeextractors/extraction_tools.py:847: DeprecationWarning: `np.float` is a deprecated alias for the builtin `float`. To silence this warning, use `float` by itself. Doing this will not modify any behavior and is safe. If you specifically wanted the numpy scalar type, use `np.float64` here.\n",
      "Deprecated in NumPy 1.20; for more details and guidance: https://numpy.org/devdocs/release/1.20.0-notes.html#deprecations\n",
      "  if isinstance(start_frame, (float, np.float)):\n",
      "/mnt/d/spikeinterface/spikeextractors/spikeextractors/extraction_tools.py:853: DeprecationWarning: `np.float` is a deprecated alias for the builtin `float`. To silence this warning, use `float` by itself. Doing this will not modify any behavior and is safe. If you specifically wanted the numpy scalar type, use `np.float64` here.\n",
      "Deprecated in NumPy 1.20; for more details and guidance: https://numpy.org/devdocs/release/1.20.0-notes.html#deprecations\n",
      "  if isinstance(end_frame, (float, np.float)) and np.isfinite(end_frame):\n",
      "/mnt/d/spikeinterface/spikeextractors/spikeextractors/extraction_tools.py:847: DeprecationWarning: `np.float` is a deprecated alias for the builtin `float`. To silence this warning, use `float` by itself. Doing this will not modify any behavior and is safe. If you specifically wanted the numpy scalar type, use `np.float64` here.\n",
      "Deprecated in NumPy 1.20; for more details and guidance: https://numpy.org/devdocs/release/1.20.0-notes.html#deprecations\n",
      "  if isinstance(start_frame, (float, np.float)):\n",
      "/mnt/d/spikeinterface/spikeextractors/spikeextractors/extraction_tools.py:853: DeprecationWarning: `np.float` is a deprecated alias for the builtin `float`. To silence this warning, use `float` by itself. Doing this will not modify any behavior and is safe. If you specifically wanted the numpy scalar type, use `np.float64` here.\n",
      "Deprecated in NumPy 1.20; for more details and guidance: https://numpy.org/devdocs/release/1.20.0-notes.html#deprecations\n",
      "  if isinstance(end_frame, (float, np.float)) and np.isfinite(end_frame):\n",
      "/mnt/d/spikeinterface/spikeextractors/spikeextractors/extraction_tools.py:847: DeprecationWarning: `np.float` is a deprecated alias for the builtin `float`. To silence this warning, use `float` by itself. Doing this will not modify any behavior and is safe. If you specifically wanted the numpy scalar type, use `np.float64` here.\n",
      "Deprecated in NumPy 1.20; for more details and guidance: https://numpy.org/devdocs/release/1.20.0-notes.html#deprecations\n",
      "  if isinstance(start_frame, (float, np.float)):\n",
      "/mnt/d/spikeinterface/spikeextractors/spikeextractors/extraction_tools.py:853: DeprecationWarning: `np.float` is a deprecated alias for the builtin `float`. To silence this warning, use `float` by itself. Doing this will not modify any behavior and is safe. If you specifically wanted the numpy scalar type, use `np.float64` here.\n",
      "Deprecated in NumPy 1.20; for more details and guidance: https://numpy.org/devdocs/release/1.20.0-notes.html#deprecations\n",
      "  if isinstance(end_frame, (float, np.float)) and np.isfinite(end_frame):\n",
      "/mnt/d/spikeinterface/spikeextractors/spikeextractors/extraction_tools.py:847: DeprecationWarning: `np.float` is a deprecated alias for the builtin `float`. To silence this warning, use `float` by itself. Doing this will not modify any behavior and is safe. If you specifically wanted the numpy scalar type, use `np.float64` here.\n",
      "Deprecated in NumPy 1.20; for more details and guidance: https://numpy.org/devdocs/release/1.20.0-notes.html#deprecations\n",
      "  if isinstance(start_frame, (float, np.float)):\n",
      "/mnt/d/spikeinterface/spikeextractors/spikeextractors/extraction_tools.py:853: DeprecationWarning: `np.float` is a deprecated alias for the builtin `float`. To silence this warning, use `float` by itself. Doing this will not modify any behavior and is safe. If you specifically wanted the numpy scalar type, use `np.float64` here.\n",
      "Deprecated in NumPy 1.20; for more details and guidance: https://numpy.org/devdocs/release/1.20.0-notes.html#deprecations\n",
      "  if isinstance(end_frame, (float, np.float)) and np.isfinite(end_frame):\n",
      "/mnt/d/spikeinterface/spikeextractors/spikeextractors/extraction_tools.py:847: DeprecationWarning: `np.float` is a deprecated alias for the builtin `float`. To silence this warning, use `float` by itself. Doing this will not modify any behavior and is safe. If you specifically wanted the numpy scalar type, use `np.float64` here.\n",
      "Deprecated in NumPy 1.20; for more details and guidance: https://numpy.org/devdocs/release/1.20.0-notes.html#deprecations\n",
      "  if isinstance(start_frame, (float, np.float)):\n",
      "/mnt/d/spikeinterface/spikeextractors/spikeextractors/extraction_tools.py:853: DeprecationWarning: `np.float` is a deprecated alias for the builtin `float`. To silence this warning, use `float` by itself. Doing this will not modify any behavior and is safe. If you specifically wanted the numpy scalar type, use `np.float64` here.\n",
      "Deprecated in NumPy 1.20; for more details and guidance: https://numpy.org/devdocs/release/1.20.0-notes.html#deprecations\n",
      "  if isinstance(end_frame, (float, np.float)) and np.isfinite(end_frame):\n",
      "/mnt/d/spikeinterface/spikeextractors/spikeextractors/extraction_tools.py:847: DeprecationWarning: `np.float` is a deprecated alias for the builtin `float`. To silence this warning, use `float` by itself. Doing this will not modify any behavior and is safe. If you specifically wanted the numpy scalar type, use `np.float64` here.\n",
      "Deprecated in NumPy 1.20; for more details and guidance: https://numpy.org/devdocs/release/1.20.0-notes.html#deprecations\n",
      "  if isinstance(start_frame, (float, np.float)):\n",
      "/mnt/d/spikeinterface/spikeextractors/spikeextractors/extraction_tools.py:853: DeprecationWarning: `np.float` is a deprecated alias for the builtin `float`. To silence this warning, use `float` by itself. Doing this will not modify any behavior and is safe. If you specifically wanted the numpy scalar type, use `np.float64` here.\n",
      "Deprecated in NumPy 1.20; for more details and guidance: https://numpy.org/devdocs/release/1.20.0-notes.html#deprecations\n",
      "  if isinstance(end_frame, (float, np.float)) and np.isfinite(end_frame):\n",
      "/mnt/d/spikeinterface/spikeextractors/spikeextractors/extraction_tools.py:847: DeprecationWarning: `np.float` is a deprecated alias for the builtin `float`. To silence this warning, use `float` by itself. Doing this will not modify any behavior and is safe. If you specifically wanted the numpy scalar type, use `np.float64` here.\n",
      "Deprecated in NumPy 1.20; for more details and guidance: https://numpy.org/devdocs/release/1.20.0-notes.html#deprecations\n",
      "  if isinstance(start_frame, (float, np.float)):\n",
      "/mnt/d/spikeinterface/spikeextractors/spikeextractors/extraction_tools.py:853: DeprecationWarning: `np.float` is a deprecated alias for the builtin `float`. To silence this warning, use `float` by itself. Doing this will not modify any behavior and is safe. If you specifically wanted the numpy scalar type, use `np.float64` here.\n",
      "Deprecated in NumPy 1.20; for more details and guidance: https://numpy.org/devdocs/release/1.20.0-notes.html#deprecations\n",
      "  if isinstance(end_frame, (float, np.float)) and np.isfinite(end_frame):\n",
      "/mnt/d/spikeinterface/spikeextractors/spikeextractors/extraction_tools.py:847: DeprecationWarning: `np.float` is a deprecated alias for the builtin `float`. To silence this warning, use `float` by itself. Doing this will not modify any behavior and is safe. If you specifically wanted the numpy scalar type, use `np.float64` here.\n",
      "Deprecated in NumPy 1.20; for more details and guidance: https://numpy.org/devdocs/release/1.20.0-notes.html#deprecations\n",
      "  if isinstance(start_frame, (float, np.float)):\n",
      "/mnt/d/spikeinterface/spikeextractors/spikeextractors/extraction_tools.py:853: DeprecationWarning: `np.float` is a deprecated alias for the builtin `float`. To silence this warning, use `float` by itself. Doing this will not modify any behavior and is safe. If you specifically wanted the numpy scalar type, use `np.float64` here.\n",
      "Deprecated in NumPy 1.20; for more details and guidance: https://numpy.org/devdocs/release/1.20.0-notes.html#deprecations\n",
      "  if isinstance(end_frame, (float, np.float)) and np.isfinite(end_frame):\n",
      "/mnt/d/spikeinterface/spikeextractors/spikeextractors/extraction_tools.py:847: DeprecationWarning: `np.float` is a deprecated alias for the builtin `float`. To silence this warning, use `float` by itself. Doing this will not modify any behavior and is safe. If you specifically wanted the numpy scalar type, use `np.float64` here.\n",
      "Deprecated in NumPy 1.20; for more details and guidance: https://numpy.org/devdocs/release/1.20.0-notes.html#deprecations\n",
      "  if isinstance(start_frame, (float, np.float)):\n",
      "/mnt/d/spikeinterface/spikeextractors/spikeextractors/extraction_tools.py:853: DeprecationWarning: `np.float` is a deprecated alias for the builtin `float`. To silence this warning, use `float` by itself. Doing this will not modify any behavior and is safe. If you specifically wanted the numpy scalar type, use `np.float64` here.\n",
      "Deprecated in NumPy 1.20; for more details and guidance: https://numpy.org/devdocs/release/1.20.0-notes.html#deprecations\n",
      "  if isinstance(end_frame, (float, np.float)) and np.isfinite(end_frame):\n",
      "/mnt/d/spikeinterface/spikeextractors/spikeextractors/extraction_tools.py:847: DeprecationWarning: `np.float` is a deprecated alias for the builtin `float`. To silence this warning, use `float` by itself. Doing this will not modify any behavior and is safe. If you specifically wanted the numpy scalar type, use `np.float64` here.\n",
      "Deprecated in NumPy 1.20; for more details and guidance: https://numpy.org/devdocs/release/1.20.0-notes.html#deprecations\n",
      "  if isinstance(start_frame, (float, np.float)):\n",
      "/mnt/d/spikeinterface/spikeextractors/spikeextractors/extraction_tools.py:853: DeprecationWarning: `np.float` is a deprecated alias for the builtin `float`. To silence this warning, use `float` by itself. Doing this will not modify any behavior and is safe. If you specifically wanted the numpy scalar type, use `np.float64` here.\n",
      "Deprecated in NumPy 1.20; for more details and guidance: https://numpy.org/devdocs/release/1.20.0-notes.html#deprecations\n",
      "  if isinstance(end_frame, (float, np.float)) and np.isfinite(end_frame):\n",
      "/mnt/d/spikeinterface/spikeextractors/spikeextractors/extraction_tools.py:847: DeprecationWarning: `np.float` is a deprecated alias for the builtin `float`. To silence this warning, use `float` by itself. Doing this will not modify any behavior and is safe. If you specifically wanted the numpy scalar type, use `np.float64` here.\n",
      "Deprecated in NumPy 1.20; for more details and guidance: https://numpy.org/devdocs/release/1.20.0-notes.html#deprecations\n",
      "  if isinstance(start_frame, (float, np.float)):\n",
      "/mnt/d/spikeinterface/spikeextractors/spikeextractors/extraction_tools.py:853: DeprecationWarning: `np.float` is a deprecated alias for the builtin `float`. To silence this warning, use `float` by itself. Doing this will not modify any behavior and is safe. If you specifically wanted the numpy scalar type, use `np.float64` here.\n",
      "Deprecated in NumPy 1.20; for more details and guidance: https://numpy.org/devdocs/release/1.20.0-notes.html#deprecations\n",
      "  if isinstance(end_frame, (float, np.float)) and np.isfinite(end_frame):\n"
     ]
    },
    {
     "data": {
      "image/png": "[encoded data removed]",
      "text/plain": [
       "<Figure size 432x288 with 1 Axes>"
      ]
     },
     "metadata": {
      "needs_background": "light"
     },
     "output_type": "display_data"
    }
   ],
   "source": [
    "w_rs = sw.plot_rasters(sorting_KL, trange=[2, 2.4])"
   ]
  },
  {
   "cell_type": "markdown",
   "id": "ambient-alaska",
   "metadata": {},
   "source": [
    "We can plot the temporal data for comparison, though it can be quite difficult to visually make out spiking events in noisy data. We will see more rigorous ways for assessing spike sorting outputs later on."
   ]
  },
  {
   "cell_type": "code",
   "execution_count": 36,
   "id": "selected-paris",
   "metadata": {},
   "outputs": [
    {
     "name": "stderr",
     "output_type": "stream",
     "text": [
      "/mnt/d/spikeinterface/spikeextractors/spikeextractors/extraction_tools.py:847: DeprecationWarning: `np.float` is a deprecated alias for the builtin `float`. To silence this warning, use `float` by itself. Doing this will not modify any behavior and is safe. If you specifically wanted the numpy scalar type, use `np.float64` here.\n",
      "Deprecated in NumPy 1.20; for more details and guidance: https://numpy.org/devdocs/release/1.20.0-notes.html#deprecations\n",
      "  if isinstance(start_frame, (float, np.float)):\n",
      "/mnt/d/spikeinterface/spikeextractors/spikeextractors/extraction_tools.py:853: DeprecationWarning: `np.float` is a deprecated alias for the builtin `float`. To silence this warning, use `float` by itself. Doing this will not modify any behavior and is safe. If you specifically wanted the numpy scalar type, use `np.float64` here.\n",
      "Deprecated in NumPy 1.20; for more details and guidance: https://numpy.org/devdocs/release/1.20.0-notes.html#deprecations\n",
      "  if isinstance(end_frame, (float, np.float)) and np.isfinite(end_frame):\n"
     ]
    },
    {
     "data": {
      "image/png": "[encoded data removed]",
      "text/plain": [
       "<Figure size 1152x576 with 1 Axes>"
      ]
     },
     "metadata": {
      "needs_background": "light"
     },
     "output_type": "display_data"
    }
   ],
   "source": [
    "w = sw.plot_timeseries(r_cache, trange=[2, 2.4], color_groups=True)"
   ]
  },
  {
   "cell_type": "markdown",
   "id": "choice-prayer",
   "metadata": {},
   "source": [
    "### Loading spike sorting output from a spike sorting folder\n",
    "\n",
    "If a spike sorter has been run, you can reload the output as a `SortingExtractor` using the corresponding `spikeextractors` class. Note that if sorting by group/property, single groups must be loaded separately:"
   ]
  },
  {
   "cell_type": "code",
   "execution_count": 37,
   "id": "regulation-saudi",
   "metadata": {
    "id": "regulation-saudi",
    "outputId": "5cf50ad2-bdbd-489e-b40b-5e17d1b2d7eb"
   },
   "outputs": [
    {
     "name": "stderr",
     "output_type": "stream",
     "text": [
      "/mnt/d/spikeinterface/hussaini-to-nwb/tidy_venv/venv/lib/python3.8/site-packages/ipykernel/ipkernel.py:283: DeprecationWarning: `should_run_async` will not call `transform_cell` automatically in the future. Please pass the result to `transformed_cell` argument and any exception that happen during thetransform in `preprocessing_exc_tuple` in IPython 7.17 and above.\n",
      "  and should_run_async(code)\n"
     ]
    }
   ],
   "source": [
    "sorting_KL_grp = []\n",
    "for i in range(0, 3):\n",
    "    sorting_KL_grp.append(se.KlustaSortingExtractor(os.path.join(dir_name, 'klusta_by_group', str(i))))"
   ]
  },
  {
   "cell_type": "code",
   "execution_count": 38,
   "id": "surface-austria",
   "metadata": {
    "id": "surface-austria",
    "outputId": "7a7fd747-5f12-47c5-93a9-97926988756f"
   },
   "outputs": [],
   "source": [
    "sorting_KL_grp\n",
    "sorting_KL = se.MultiSortingExtractor(sorting_KL_grp)"
   ]
  },
  {
   "cell_type": "code",
   "execution_count": 39,
   "id": "flush-murder",
   "metadata": {},
   "outputs": [
    {
     "data": {
      "text/plain": [
       "<spikeextractors.multisortingextractor.MultiSortingExtractor at 0x7fd94c6b9fa0>"
      ]
     },
     "execution_count": 39,
     "metadata": {},
     "output_type": "execute_result"
    }
   ],
   "source": [
    "sorting_KL"
   ]
  },
  {
   "cell_type": "code",
   "execution_count": 40,
   "id": "daily-athletics",
   "metadata": {
    "id": "daily-athletics",
    "outputId": "a5d715e6-688f-475d-e0ef-83a5f6f6703b"
   },
   "outputs": [
    {
     "name": "stdout",
     "output_type": "stream",
     "text": [
      "Klusta unit ids group 0: [0, 2, 3, 4]\n"
     ]
    }
   ],
   "source": [
    "print(f'Klusta unit ids group 0: {sorting_KL_grp[0].get_unit_ids()}')"
   ]
  },
  {
   "cell_type": "markdown",
   "id": "hundred-episode",
   "metadata": {},
   "source": [
    "### Saving and loading spike sorting output"
   ]
  },
  {
   "cell_type": "markdown",
   "id": "consecutive-devon",
   "metadata": {},
   "source": [
    "It is also possible to save spike sorting output in a format of a different spike sorter using the `write_sorting()` method of the sorting extractor of interest. For instance, below we are saving the output from `klusta` in `mountainsort` format. "
   ]
  },
  {
   "cell_type": "code",
   "execution_count": 41,
   "id": "ahead-reliance",
   "metadata": {},
   "outputs": [
    {
     "name": "stderr",
     "output_type": "stream",
     "text": [
      "/mnt/d/spikeinterface/spikeextractors/spikeextractors/extraction_tools.py:847: DeprecationWarning: `np.float` is a deprecated alias for the builtin `float`. To silence this warning, use `float` by itself. Doing this will not modify any behavior and is safe. If you specifically wanted the numpy scalar type, use `np.float64` here.\n",
      "Deprecated in NumPy 1.20; for more details and guidance: https://numpy.org/devdocs/release/1.20.0-notes.html#deprecations\n",
      "  if isinstance(start_frame, (float, np.float)):\n",
      "/mnt/d/spikeinterface/spikeextractors/spikeextractors/extraction_tools.py:853: DeprecationWarning: `np.float` is a deprecated alias for the builtin `float`. To silence this warning, use `float` by itself. Doing this will not modify any behavior and is safe. If you specifically wanted the numpy scalar type, use `np.float64` here.\n",
      "Deprecated in NumPy 1.20; for more details and guidance: https://numpy.org/devdocs/release/1.20.0-notes.html#deprecations\n",
      "  if isinstance(end_frame, (float, np.float)) and np.isfinite(end_frame):\n"
     ]
    }
   ],
   "source": [
    "se.MdaSortingExtractor.write_sorting(sorting=sorting_KL, save_path=os.path.join(dir_name, 'klusta.mda'))"
   ]
  },
  {
   "cell_type": "markdown",
   "id": "activated-somerset",
   "metadata": {},
   "source": [
    "Re-read data from file."
   ]
  },
  {
   "cell_type": "code",
   "execution_count": 8,
   "id": "behind-retailer",
   "metadata": {},
   "outputs": [
    {
     "name": "stdout",
     "output_type": "stream",
     "text": [
      "Unit ids = [0, 1, 2, 3, 4, 5, 6, 7, 8, 9, 10, 11, 12, 13, 14, 15, 16, 17, 18]\n",
      "Num. events for unit 1 = 385\n",
      "Num. events for first second of unit 1 = 0\n"
     ]
    },
    {
     "name": "stderr",
     "output_type": "stream",
     "text": [
      "/mnt/d/spikeinterface/spikeextractors/spikeextractors/extraction_tools.py:847: DeprecationWarning: `np.float` is a deprecated alias for the builtin `float`. To silence this warning, use `float` by itself. Doing this will not modify any behavior and is safe. If you specifically wanted the numpy scalar type, use `np.float64` here.\n",
      "Deprecated in NumPy 1.20; for more details and guidance: https://numpy.org/devdocs/release/1.20.0-notes.html#deprecations\n",
      "  if isinstance(start_frame, (float, np.float)):\n",
      "/mnt/d/spikeinterface/spikeextractors/spikeextractors/extraction_tools.py:853: DeprecationWarning: `np.float` is a deprecated alias for the builtin `float`. To silence this warning, use `float` by itself. Doing this will not modify any behavior and is safe. If you specifically wanted the numpy scalar type, use `np.float64` here.\n",
      "Deprecated in NumPy 1.20; for more details and guidance: https://numpy.org/devdocs/release/1.20.0-notes.html#deprecations\n",
      "  if isinstance(end_frame, (float, np.float)) and np.isfinite(end_frame):\n"
     ]
    }
   ],
   "source": [
    "sorting_KL = se.MdaSortingExtractor(\n",
    "    file_path=os.path.join(dir_name, 'klusta.mda'),\n",
    "    sampling_frequency=48000\n",
    ")\n",
    "print('Unit ids = {}'.format(sorting_KL.get_unit_ids()))\n",
    "spike_train = sorting_KL.get_unit_spike_train(unit_id=1)\n",
    "print('Num. events for unit 1 = {}'.format(len(spike_train)))\n",
    "spike_train1 = sorting_KL.get_unit_spike_train(unit_id=1, start_frame=0, end_frame=30000)\n",
    "print('Num. events for first second of unit 1 = {}'.format(len(spike_train1)))"
   ]
  },
  {
   "cell_type": "markdown",
   "id": "disabled-stand",
   "metadata": {
    "id": "disabled-stand"
   },
   "source": [
    "<a id='mountainsort4'></a>\n",
    "### Mountainsort4\n",
    "[back to index](#index)"
   ]
  },
  {
   "cell_type": "markdown",
   "id": "humanitarian-samuel",
   "metadata": {},
   "source": [
    "To install Mountainsort4 we simply use pip. It installs quite a large number of packages, so this might take a few minutes. "
   ]
  },
  {
   "cell_type": "code",
   "execution_count": 33,
   "id": "subjective-velvet",
   "metadata": {},
   "outputs": [
    {
     "name": "stdout",
     "output_type": "stream",
     "text": [
      "Collecting ml_ms4alg\n",
      "  Using cached ml_ms4alg-0.3.6-py3-none-any.whl (16 kB)\n",
      "Collecting isosplit5\n",
      "  Using cached isosplit5-0.1.3.tar.gz (17 kB)\n",
      "Requirement already satisfied: numpy in ./venv/lib/python3.8/site-packages/numpy-1.20.2-py3.8-linux-x86_64.egg (from ml_ms4alg) (1.20.2)\n",
      "Collecting pybind11\n",
      "  Using cached pybind11-2.6.2-py2.py3-none-any.whl (191 kB)\n",
      "Collecting dask\n",
      "  Downloading dask-2021.3.1-py3-none-any.whl (935 kB)\n",
      "\u001b[K     |████████████████████████████████| 935 kB 3.0 MB/s eta 0:00:01\n",
      "\u001b[?25hCollecting h5py\n",
      "  Using cached h5py-3.2.1-cp38-cp38-manylinux1_x86_64.whl (4.5 MB)\n",
      "Collecting sklearn\n",
      "  Using cached sklearn-0.0.tar.gz (1.1 kB)\n",
      "Requirement already satisfied: spikeextractors>=0.4.1 in ./spikeextractors (from ml_ms4alg) (0.9.5)\n",
      "Collecting mountainlab-pytools\n",
      "  Using cached mountainlab_pytools-0.7.5-py3-none-any.whl (28 kB)\n",
      "Collecting fsspec>=0.6.0\n",
      "  Using cached fsspec-0.8.7-py3-none-any.whl (103 kB)\n",
      "Collecting cloudpickle>=1.1.1\n",
      "  Using cached cloudpickle-1.6.0-py3-none-any.whl (23 kB)\n",
      "Requirement already satisfied: pyyaml in ./venv/lib/python3.8/site-packages (from dask->ml_ms4alg) (5.4.1)\n",
      "Collecting toolz>=0.8.2\n",
      "  Using cached toolz-0.11.1-py3-none-any.whl (55 kB)\n",
      "Collecting partd>=0.3.10\n",
      "  Using cached partd-1.1.0-py3-none-any.whl (19 kB)\n",
      "Requirement already satisfied: scikit-learn in ./venv/lib/python3.8/site-packages (from sklearn->ml_ms4alg) (0.24.1)\n",
      "Requirement already satisfied: joblib in ./venv/lib/python3.8/site-packages/joblib-1.0.1-py3.8.egg (from spikeextractors>=0.4.1->ml_ms4alg) (1.0.1)\n",
      "Requirement already satisfied: tqdm in ./venv/lib/python3.8/site-packages/tqdm-4.59.0-py3.8.egg (from spikeextractors>=0.4.1->ml_ms4alg) (4.59.0)\n",
      "Requirement already satisfied: ipython in ./venv/lib/python3.8/site-packages (from mountainlab-pytools->ml_ms4alg) (7.22.0)\n",
      "Collecting jp-proxy-widget\n",
      "  Using cached jp_proxy_widget-1.0.10-py2.py3-none-any.whl (1.2 MB)\n",
      "Collecting vdom\n",
      "  Using cached vdom-0.6-py3-none-any.whl (13 kB)\n",
      "Collecting numpydoc\n",
      "  Using cached numpydoc-1.1.0-py3-none-any.whl (47 kB)\n",
      "Requirement already satisfied: ipywidgets in ./venv/lib/python3.8/site-packages (from mountainlab-pytools->ml_ms4alg) (7.6.3)\n",
      "Requirement already satisfied: requests in ./venv/lib/python3.8/site-packages (from mountainlab-pytools->ml_ms4alg) (2.25.1)\n",
      "Collecting locket\n",
      "  Using cached locket-0.2.1-py2.py3-none-any.whl (4.1 kB)\n",
      "Requirement already satisfied: scipy>=0.19.1 in ./venv/lib/python3.8/site-packages (from scikit-learn->sklearn->ml_ms4alg) (1.6.2)\n",
      "Requirement already satisfied: threadpoolctl>=2.0.0 in ./venv/lib/python3.8/site-packages (from scikit-learn->sklearn->ml_ms4alg) (2.1.0)\n",
      "Requirement already satisfied: traitlets>=4.2 in ./venv/lib/python3.8/site-packages (from ipython->mountainlab-pytools->ml_ms4alg) (5.0.5)\n",
      "Requirement already satisfied: jedi>=0.16 in ./venv/lib/python3.8/site-packages (from ipython->mountainlab-pytools->ml_ms4alg) (0.18.0)\n",
      "Requirement already satisfied: prompt-toolkit!=3.0.0,!=3.0.1,<3.1.0,>=2.0.0 in ./venv/lib/python3.8/site-packages (from ipython->mountainlab-pytools->ml_ms4alg) (3.0.18)\n",
      "Requirement already satisfied: pygments in ./venv/lib/python3.8/site-packages (from ipython->mountainlab-pytools->ml_ms4alg) (2.8.1)\n",
      "Requirement already satisfied: pexpect>4.3; sys_platform != \"win32\" in ./venv/lib/python3.8/site-packages (from ipython->mountainlab-pytools->ml_ms4alg) (4.8.0)\n",
      "Requirement already satisfied: backcall in ./venv/lib/python3.8/site-packages (from ipython->mountainlab-pytools->ml_ms4alg) (0.2.0)\n",
      "Requirement already satisfied: pickleshare in ./venv/lib/python3.8/site-packages (from ipython->mountainlab-pytools->ml_ms4alg) (0.7.5)\n",
      "Requirement already satisfied: setuptools>=18.5 in ./venv/lib/python3.8/site-packages (from ipython->mountainlab-pytools->ml_ms4alg) (44.0.0)\n",
      "Requirement already satisfied: decorator in ./venv/lib/python3.8/site-packages (from ipython->mountainlab-pytools->ml_ms4alg) (4.4.2)\n",
      "Collecting jupyter-ui-poll\n",
      "  Using cached jupyter_ui_poll-0.1.2-py2.py3-none-any.whl (6.6 kB)\n",
      "Requirement already satisfied: jsonschema in ./venv/lib/python3.8/site-packages (from vdom->mountainlab-pytools->ml_ms4alg) (3.2.0)\n",
      "Requirement already satisfied: Jinja2>=2.3 in ./venv/lib/python3.8/site-packages (from numpydoc->mountainlab-pytools->ml_ms4alg) (2.11.3)\n",
      "Collecting sphinx>=1.6.5\n",
      "  Using cached Sphinx-3.5.3-py3-none-any.whl (2.8 MB)\n",
      "Requirement already satisfied: ipykernel>=4.5.1 in ./venv/lib/python3.8/site-packages (from ipywidgets->mountainlab-pytools->ml_ms4alg) (5.5.3)\n",
      "Requirement already satisfied: nbformat>=4.2.0 in ./venv/lib/python3.8/site-packages (from ipywidgets->mountainlab-pytools->ml_ms4alg) (5.1.2)\n",
      "Requirement already satisfied: jupyterlab-widgets>=1.0.0; python_version >= \"3.6\" in ./venv/lib/python3.8/site-packages (from ipywidgets->mountainlab-pytools->ml_ms4alg) (1.0.0)\n",
      "Requirement already satisfied: widgetsnbextension~=3.5.0 in ./venv/lib/python3.8/site-packages (from ipywidgets->mountainlab-pytools->ml_ms4alg) (3.5.1)\n",
      "Requirement already satisfied: chardet<5,>=3.0.2 in ./venv/lib/python3.8/site-packages (from requests->mountainlab-pytools->ml_ms4alg) (4.0.0)\n",
      "Requirement already satisfied: certifi>=2017.4.17 in ./venv/lib/python3.8/site-packages (from requests->mountainlab-pytools->ml_ms4alg) (2020.12.5)\n",
      "Requirement already satisfied: idna<3,>=2.5 in ./venv/lib/python3.8/site-packages (from requests->mountainlab-pytools->ml_ms4alg) (2.10)\n",
      "Requirement already satisfied: urllib3<1.27,>=1.21.1 in ./venv/lib/python3.8/site-packages (from requests->mountainlab-pytools->ml_ms4alg) (1.26.4)\n",
      "Requirement already satisfied: ipython-genutils in ./venv/lib/python3.8/site-packages (from traitlets>=4.2->ipython->mountainlab-pytools->ml_ms4alg) (0.2.0)\n",
      "Requirement already satisfied: parso<0.9.0,>=0.8.0 in ./venv/lib/python3.8/site-packages (from jedi>=0.16->ipython->mountainlab-pytools->ml_ms4alg) (0.8.2)\n",
      "Requirement already satisfied: wcwidth in ./venv/lib/python3.8/site-packages (from prompt-toolkit!=3.0.0,!=3.0.1,<3.1.0,>=2.0.0->ipython->mountainlab-pytools->ml_ms4alg) (0.2.5)\n",
      "Requirement already satisfied: ptyprocess>=0.5 in ./venv/lib/python3.8/site-packages (from pexpect>4.3; sys_platform != \"win32\"->ipython->mountainlab-pytools->ml_ms4alg) (0.7.0)\n",
      "Requirement already satisfied: six>=1.11.0 in ./venv/lib/python3.8/site-packages (from jsonschema->vdom->mountainlab-pytools->ml_ms4alg) (1.15.0)\n",
      "Requirement already satisfied: attrs>=17.4.0 in ./venv/lib/python3.8/site-packages (from jsonschema->vdom->mountainlab-pytools->ml_ms4alg) (20.3.0)\n",
      "Requirement already satisfied: pyrsistent>=0.14.0 in ./venv/lib/python3.8/site-packages (from jsonschema->vdom->mountainlab-pytools->ml_ms4alg) (0.17.3)\n",
      "Requirement already satisfied: MarkupSafe>=0.23 in ./venv/lib/python3.8/site-packages (from Jinja2>=2.3->numpydoc->mountainlab-pytools->ml_ms4alg) (1.1.1)\n",
      "Collecting sphinxcontrib-serializinghtml\n",
      "  Using cached sphinxcontrib_serializinghtml-1.1.4-py2.py3-none-any.whl (89 kB)\n",
      "Collecting sphinxcontrib-devhelp\n",
      "  Using cached sphinxcontrib_devhelp-1.0.2-py2.py3-none-any.whl (84 kB)\n",
      "Collecting snowballstemmer>=1.1\n",
      "  Using cached snowballstemmer-2.1.0-py2.py3-none-any.whl (93 kB)\n",
      "Collecting sphinxcontrib-jsmath\n",
      "  Using cached sphinxcontrib_jsmath-1.0.1-py2.py3-none-any.whl (5.1 kB)\n",
      "Collecting sphinxcontrib-applehelp\n",
      "  Using cached sphinxcontrib_applehelp-1.0.2-py2.py3-none-any.whl (121 kB)\n",
      "Requirement already satisfied: packaging in ./venv/lib/python3.8/site-packages (from sphinx>=1.6.5->numpydoc->mountainlab-pytools->ml_ms4alg) (20.9)\n",
      "Collecting imagesize\n",
      "  Using cached imagesize-1.2.0-py2.py3-none-any.whl (4.8 kB)\n",
      "Collecting sphinxcontrib-qthelp\n",
      "  Using cached sphinxcontrib_qthelp-1.0.3-py2.py3-none-any.whl (90 kB)\n",
      "Collecting docutils>=0.12\n",
      "  Using cached docutils-0.16-py2.py3-none-any.whl (548 kB)\n",
      "Collecting sphinxcontrib-htmlhelp\n",
      "  Using cached sphinxcontrib_htmlhelp-1.0.3-py2.py3-none-any.whl (96 kB)\n",
      "Collecting alabaster<0.8,>=0.7\n",
      "  Using cached alabaster-0.7.12-py2.py3-none-any.whl (14 kB)\n",
      "Collecting babel>=1.3\n",
      "  Using cached Babel-2.9.0-py2.py3-none-any.whl (8.8 MB)\n",
      "Requirement already satisfied: tornado>=4.2 in ./venv/lib/python3.8/site-packages (from ipykernel>=4.5.1->ipywidgets->mountainlab-pytools->ml_ms4alg) (6.1)\n"
     ]
    },
    {
     "name": "stdout",
     "output_type": "stream",
     "text": [
      "Requirement already satisfied: jupyter-client in ./venv/lib/python3.8/site-packages (from ipykernel>=4.5.1->ipywidgets->mountainlab-pytools->ml_ms4alg) (6.1.12)\n",
      "Requirement already satisfied: jupyter-core in ./venv/lib/python3.8/site-packages (from nbformat>=4.2.0->ipywidgets->mountainlab-pytools->ml_ms4alg) (4.7.1)\n",
      "Requirement already satisfied: notebook>=4.4.1 in ./venv/lib/python3.8/site-packages (from widgetsnbextension~=3.5.0->ipywidgets->mountainlab-pytools->ml_ms4alg) (6.3.0)\n",
      "Requirement already satisfied: pyparsing>=2.0.2 in ./venv/lib/python3.8/site-packages (from packaging->sphinx>=1.6.5->numpydoc->mountainlab-pytools->ml_ms4alg) (2.4.7)\n",
      "Requirement already satisfied: pytz>=2015.7 in ./venv/lib/python3.8/site-packages (from babel>=1.3->sphinx>=1.6.5->numpydoc->mountainlab-pytools->ml_ms4alg) (2021.1)\n",
      "Requirement already satisfied: pyzmq>=13 in ./venv/lib/python3.8/site-packages (from jupyter-client->ipykernel>=4.5.1->ipywidgets->mountainlab-pytools->ml_ms4alg) (22.0.3)\n",
      "Requirement already satisfied: python-dateutil>=2.1 in ./venv/lib/python3.8/site-packages (from jupyter-client->ipykernel>=4.5.1->ipywidgets->mountainlab-pytools->ml_ms4alg) (2.8.1)\n",
      "Requirement already satisfied: Send2Trash>=1.5.0 in ./venv/lib/python3.8/site-packages (from notebook>=4.4.1->widgetsnbextension~=3.5.0->ipywidgets->mountainlab-pytools->ml_ms4alg) (1.5.0)\n",
      "Requirement already satisfied: terminado>=0.8.3 in ./venv/lib/python3.8/site-packages (from notebook>=4.4.1->widgetsnbextension~=3.5.0->ipywidgets->mountainlab-pytools->ml_ms4alg) (0.9.4)\n",
      "Requirement already satisfied: nbconvert in ./venv/lib/python3.8/site-packages (from notebook>=4.4.1->widgetsnbextension~=3.5.0->ipywidgets->mountainlab-pytools->ml_ms4alg) (6.0.7)\n",
      "Requirement already satisfied: prometheus-client in ./venv/lib/python3.8/site-packages (from notebook>=4.4.1->widgetsnbextension~=3.5.0->ipywidgets->mountainlab-pytools->ml_ms4alg) (0.9.0)\n",
      "Requirement already satisfied: argon2-cffi in ./venv/lib/python3.8/site-packages (from notebook>=4.4.1->widgetsnbextension~=3.5.0->ipywidgets->mountainlab-pytools->ml_ms4alg) (20.1.0)\n",
      "Requirement already satisfied: bleach in ./venv/lib/python3.8/site-packages (from nbconvert->notebook>=4.4.1->widgetsnbextension~=3.5.0->ipywidgets->mountainlab-pytools->ml_ms4alg) (3.3.0)\n",
      "Requirement already satisfied: defusedxml in ./venv/lib/python3.8/site-packages (from nbconvert->notebook>=4.4.1->widgetsnbextension~=3.5.0->ipywidgets->mountainlab-pytools->ml_ms4alg) (0.7.1)\n",
      "Requirement already satisfied: entrypoints>=0.2.2 in ./venv/lib/python3.8/site-packages (from nbconvert->notebook>=4.4.1->widgetsnbextension~=3.5.0->ipywidgets->mountainlab-pytools->ml_ms4alg) (0.3)\n",
      "Requirement already satisfied: jupyterlab-pygments in ./venv/lib/python3.8/site-packages (from nbconvert->notebook>=4.4.1->widgetsnbextension~=3.5.0->ipywidgets->mountainlab-pytools->ml_ms4alg) (0.1.2)\n",
      "Requirement already satisfied: nbclient<0.6.0,>=0.5.0 in ./venv/lib/python3.8/site-packages (from nbconvert->notebook>=4.4.1->widgetsnbextension~=3.5.0->ipywidgets->mountainlab-pytools->ml_ms4alg) (0.5.3)\n",
      "Requirement already satisfied: testpath in ./venv/lib/python3.8/site-packages (from nbconvert->notebook>=4.4.1->widgetsnbextension~=3.5.0->ipywidgets->mountainlab-pytools->ml_ms4alg) (0.4.4)\n",
      "Requirement already satisfied: mistune<2,>=0.8.1 in ./venv/lib/python3.8/site-packages (from nbconvert->notebook>=4.4.1->widgetsnbextension~=3.5.0->ipywidgets->mountainlab-pytools->ml_ms4alg) (0.8.4)\n",
      "Requirement already satisfied: pandocfilters>=1.4.1 in ./venv/lib/python3.8/site-packages (from nbconvert->notebook>=4.4.1->widgetsnbextension~=3.5.0->ipywidgets->mountainlab-pytools->ml_ms4alg) (1.4.3)\n",
      "Requirement already satisfied: cffi>=1.0.0 in ./venv/lib/python3.8/site-packages (from argon2-cffi->notebook>=4.4.1->widgetsnbextension~=3.5.0->ipywidgets->mountainlab-pytools->ml_ms4alg) (1.14.5)\n",
      "Requirement already satisfied: webencodings in ./venv/lib/python3.8/site-packages (from bleach->nbconvert->notebook>=4.4.1->widgetsnbextension~=3.5.0->ipywidgets->mountainlab-pytools->ml_ms4alg) (0.5.1)\n",
      "Requirement already satisfied: async-generator in ./venv/lib/python3.8/site-packages (from nbclient<0.6.0,>=0.5.0->nbconvert->notebook>=4.4.1->widgetsnbextension~=3.5.0->ipywidgets->mountainlab-pytools->ml_ms4alg) (1.10)\n",
      "Requirement already satisfied: nest-asyncio in ./venv/lib/python3.8/site-packages (from nbclient<0.6.0,>=0.5.0->nbconvert->notebook>=4.4.1->widgetsnbextension~=3.5.0->ipywidgets->mountainlab-pytools->ml_ms4alg) (1.5.1)\n",
      "Requirement already satisfied: pycparser in ./venv/lib/python3.8/site-packages (from cffi>=1.0.0->argon2-cffi->notebook>=4.4.1->widgetsnbextension~=3.5.0->ipywidgets->mountainlab-pytools->ml_ms4alg) (2.20)\n",
      "Building wheels for collected packages: isosplit5, sklearn\n",
      "  Building wheel for isosplit5 (setup.py) ... \u001b[?25lerror\n",
      "\u001b[31m  ERROR: Command errored out with exit status 1:\n",
      "   command: /mnt/d/spikeinterface/hussaini-to-nwb/tidy_venv/venv/bin/python3 -u -c 'import sys, setuptools, tokenize; sys.argv[0] = '\"'\"'/tmp/pip-install-3awm75ww/isosplit5/setup.py'\"'\"'; __file__='\"'\"'/tmp/pip-install-3awm75ww/isosplit5/setup.py'\"'\"';f=getattr(tokenize, '\"'\"'open'\"'\"', open)(__file__);code=f.read().replace('\"'\"'\\r\\n'\"'\"', '\"'\"'\\n'\"'\"');f.close();exec(compile(code, __file__, '\"'\"'exec'\"'\"'))' bdist_wheel -d /tmp/pip-wheel-arz0jqbb\n",
      "       cwd: /tmp/pip-install-3awm75ww/isosplit5/\n",
      "  Complete output (6 lines):\n",
      "  usage: setup.py [global_opts] cmd1 [cmd1_opts] [cmd2 [cmd2_opts] ...]\n",
      "     or: setup.py --help [cmd1 cmd2 ...]\n",
      "     or: setup.py --help-commands\n",
      "     or: setup.py cmd --help\n",
      "  \n",
      "  error: invalid command 'bdist_wheel'\n",
      "  ----------------------------------------\u001b[0m\n",
      "\u001b[31m  ERROR: Failed building wheel for isosplit5\u001b[0m\n",
      "\u001b[?25h  Running setup.py clean for isosplit5\n",
      "  Building wheel for sklearn (setup.py) ... \u001b[?25lerror\n",
      "\u001b[31m  ERROR: Command errored out with exit status 1:\n",
      "   command: /mnt/d/spikeinterface/hussaini-to-nwb/tidy_venv/venv/bin/python3 -u -c 'import sys, setuptools, tokenize; sys.argv[0] = '\"'\"'/tmp/pip-install-3awm75ww/sklearn/setup.py'\"'\"'; __file__='\"'\"'/tmp/pip-install-3awm75ww/sklearn/setup.py'\"'\"';f=getattr(tokenize, '\"'\"'open'\"'\"', open)(__file__);code=f.read().replace('\"'\"'\\r\\n'\"'\"', '\"'\"'\\n'\"'\"');f.close();exec(compile(code, __file__, '\"'\"'exec'\"'\"'))' bdist_wheel -d /tmp/pip-wheel-44rsqy3u\n",
      "       cwd: /tmp/pip-install-3awm75ww/sklearn/\n",
      "  Complete output (6 lines):\n",
      "  usage: setup.py [global_opts] cmd1 [cmd1_opts] [cmd2 [cmd2_opts] ...]\n",
      "     or: setup.py --help [cmd1 cmd2 ...]\n",
      "     or: setup.py --help-commands\n",
      "     or: setup.py cmd --help\n",
      "  \n",
      "  error: invalid command 'bdist_wheel'\n",
      "  ----------------------------------------\u001b[0m\n",
      "\u001b[31m  ERROR: Failed building wheel for sklearn\u001b[0m\n",
      "\u001b[?25h  Running setup.py clean for sklearn\n",
      "Failed to build isosplit5 sklearn\n",
      "Installing collected packages: pybind11, isosplit5, fsspec, cloudpickle, toolz, locket, partd, dask, h5py, sklearn, jupyter-ui-poll, jp-proxy-widget, vdom, sphinxcontrib-serializinghtml, sphinxcontrib-devhelp, snowballstemmer, sphinxcontrib-jsmath, sphinxcontrib-applehelp, imagesize, sphinxcontrib-qthelp, docutils, sphinxcontrib-htmlhelp, alabaster, babel, sphinx, numpydoc, mountainlab-pytools, ml-ms4alg\n",
      "    Running setup.py install for isosplit5 ... \u001b[?25ldone\n",
      "\u001b[?25h    Running setup.py install for sklearn ... \u001b[?25ldone\n",
      "\u001b[?25hSuccessfully installed alabaster-0.7.12 babel-2.9.0 cloudpickle-1.6.0 dask-2021.3.1 docutils-0.16 fsspec-0.8.7 h5py-3.2.1 imagesize-1.2.0 isosplit5-0.1.3 jp-proxy-widget-1.0.10 jupyter-ui-poll-0.1.2 locket-0.2.1 ml-ms4alg-0.3.6 mountainlab-pytools-0.7.5 numpydoc-1.1.0 partd-1.1.0 pybind11-2.6.2 sklearn-0.0 snowballstemmer-2.1.0 sphinx-3.5.3 sphinxcontrib-applehelp-1.0.2 sphinxcontrib-devhelp-1.0.2 sphinxcontrib-htmlhelp-1.0.3 sphinxcontrib-jsmath-1.0.1 sphinxcontrib-qthelp-1.0.3 sphinxcontrib-serializinghtml-1.1.4 toolz-0.11.1 vdom-0.6\n"
     ]
    }
   ],
   "source": [
    "!pip install ml_ms4alg"
   ]
  },
  {
   "cell_type": "code",
   "execution_count": 69,
   "id": "focused-locking",
   "metadata": {},
   "outputs": [
    {
     "data": {
      "text/plain": [
       "['herdingspikes', 'ironclust', 'klusta', 'mountainsort4', 'spykingcircus']"
      ]
     },
     "execution_count": 69,
     "metadata": {},
     "output_type": "execute_result"
    }
   ],
   "source": [
    "ss.installed_sorters()"
   ]
  },
  {
   "cell_type": "code",
   "execution_count": 70,
   "id": "legal-montreal",
   "metadata": {
    "id": "legal-montreal",
    "outputId": "a38c3335-718e-4b13-ad12-a1dc03608304"
   },
   "outputs": [
    {
     "data": {
      "text/plain": [
       "{'detect_sign': -1,\n",
       " 'adjacency_radius': -1,\n",
       " 'freq_min': 300,\n",
       " 'freq_max': 6000,\n",
       " 'filter': True,\n",
       " 'whiten': True,\n",
       " 'curation': False,\n",
       " 'num_workers': None,\n",
       " 'clip_size': 50,\n",
       " 'detect_threshold': 3,\n",
       " 'detect_interval': 10,\n",
       " 'noise_overlap_threshold': 0.15}"
      ]
     },
     "execution_count": 70,
     "metadata": {},
     "output_type": "execute_result"
    }
   ],
   "source": [
    "ss.get_default_params('mountainsort4')"
   ]
  },
  {
   "cell_type": "code",
   "execution_count": 71,
   "id": "allied-restaurant",
   "metadata": {
    "id": "allied-restaurant",
    "outputId": "0235413c-f583-47ab-eff8-3068f0b52068"
   },
   "outputs": [
    {
     "data": {
      "text/plain": [
       "{'detect_sign': 'Use -1 (negative) or 1 (positive) depending on the sign of the spikes in the recording',\n",
       " 'adjacency_radius': 'Radius in um to build channel neighborhood (Use -1 to include all channels in every neighborhood)',\n",
       " 'freq_min': 'High-pass filter cutoff frequency',\n",
       " 'freq_max': 'Low-pass filter cutoff frequency',\n",
       " 'filter': 'Enable or disable filter',\n",
       " 'whiten': 'Enable or disable whitening',\n",
       " 'curation': 'Enable or disable curation',\n",
       " 'num_workers': 'Number of workers (if None, half of the cpu number is used)',\n",
       " 'clip_size': 'Number of samples per waveform',\n",
       " 'detect_threshold': 'Threshold for spike detection',\n",
       " 'detect_interval': 'Minimum number of timepoints between events detected on the same channel',\n",
       " 'noise_overlap_threshold': 'Noise overlap threshold for automatic curation'}"
      ]
     },
     "execution_count": 71,
     "metadata": {},
     "output_type": "execute_result"
    }
   ],
   "source": [
    "ss.get_params_description('mountainsort4')"
   ]
  },
  {
   "cell_type": "code",
   "execution_count": 64,
   "id": "accessible-forest",
   "metadata": {
    "id": "accessible-forest",
    "outputId": "8f6bf37d-7eb3-4d31-ce37-7a1cf04289c6"
   },
   "outputs": [
    {
     "name": "stderr",
     "output_type": "stream",
     "text": [
      "/mnt/d/spikeinterface/spikeextractors/spikeextractors/extraction_tools.py:847: DeprecationWarning: `np.float` is a deprecated alias for the builtin `float`. To silence this warning, use `float` by itself. Doing this will not modify any behavior and is safe. If you specifically wanted the numpy scalar type, use `np.float64` here.\n",
      "Deprecated in NumPy 1.20; for more details and guidance: https://numpy.org/devdocs/release/1.20.0-notes.html#deprecations\n",
      "  if isinstance(start_frame, (float, np.float)):\n",
      "/mnt/d/spikeinterface/spikeextractors/spikeextractors/extraction_tools.py:853: DeprecationWarning: `np.float` is a deprecated alias for the builtin `float`. To silence this warning, use `float` by itself. Doing this will not modify any behavior and is safe. If you specifically wanted the numpy scalar type, use `np.float64` here.\n",
      "Deprecated in NumPy 1.20; for more details and guidance: https://numpy.org/devdocs/release/1.20.0-notes.html#deprecations\n",
      "  if isinstance(end_frame, (float, np.float)) and np.isfinite(end_frame):\n",
      "/mnt/d/spikeinterface/spikeextractors/spikeextractors/baseextractor.py:607: DeprecationWarning: `np.int` is a deprecated alias for the builtin `int`. To silence this warning, use `int` by itself. Doing this will not modify any behavior and is safe. When replacing `np.int`, you may wish to use e.g. `np.int64` or `np.int32` to specify the precision. If you wish to review your current use, check the release note link for additional information.\n",
      "Deprecated in NumPy 1.20; for more details and guidance: https://numpy.org/devdocs/release/1.20.0-notes.html#deprecations\n",
      "  elif isinstance(v, (np.int, np.int32, np.int64)):\n",
      "/mnt/d/spikeinterface/spikeextractors/spikeextractors/baseextractor.py:609: DeprecationWarning: `np.float` is a deprecated alias for the builtin `float`. To silence this warning, use `float` by itself. Doing this will not modify any behavior and is safe. If you specifically wanted the numpy scalar type, use `np.float64` here.\n",
      "Deprecated in NumPy 1.20; for more details and guidance: https://numpy.org/devdocs/release/1.20.0-notes.html#deprecations\n",
      "  elif isinstance(v, (np.float, np.float32, np.float64)):\n"
     ]
    },
    {
     "name": "stdout",
     "output_type": "stream",
     "text": [
      "Using 4 workers.\n",
      "Using tmpdir: /tmp/tmpm_6edp7c\n",
      "Num. workers = 4\n",
      "Preparing /tmp/tmpm_6edp7c/timeseries.hdf5...\n",
      "Preparing neighborhood sorters (M=2, N=5760000)...\n",
      "Preparing output...\n",
      "Done with ms4alg.\n",
      "Cleaning tmpdir::::: /tmp/tmpm_6edp7c\n",
      "Using 4 workers.\n",
      "Using tmpdir: /tmp/tmpx6p7za2e\n",
      "Num. workers = 4\n",
      "Preparing /tmp/tmpx6p7za2e/timeseries.hdf5...\n",
      "Preparing neighborhood sorters (M=3, N=5760000)...\n",
      "Preparing output...\n",
      "Done with ms4alg.\n",
      "Cleaning tmpdir::::: /tmp/tmpx6p7za2e\n",
      "Using 4 workers.\n",
      "Using tmpdir: /tmp/tmpf58z0kjs\n",
      "Num. workers = 4\n",
      "Preparing /tmp/tmpf58z0kjs/timeseries.hdf5...\n",
      "Preparing neighborhood sorters (M=4, N=5760000)...\n",
      "Preparing output...\n",
      "Done with ms4alg.\n",
      "Cleaning tmpdir::::: /tmp/tmpf58z0kjs\n",
      "Using 4 workers.\n",
      "Using tmpdir: /tmp/tmpgkfqzrjh\n",
      "Num. workers = 4\n",
      "Preparing /tmp/tmpgkfqzrjh/timeseries.hdf5...\n",
      "Preparing neighborhood sorters (M=4, N=5760000)...\n",
      "Preparing output...\n",
      "Done with ms4alg.\n",
      "Cleaning tmpdir::::: /tmp/tmpgkfqzrjh\n",
      "mountainsort4 run time 295.49s\n",
      "Mountainsort4 found 25 units\n"
     ]
    }
   ],
   "source": [
    "sorting_MS4 = ss.run_mountainsort4(\n",
    "    r_cache,\n",
    "    os.path.join(dir_name, 'mountainsort4_group'),\n",
    "    grouping_property='group',\n",
    "    adjacency_radius=5,\n",
    "    parallel=False,  # on my local machine mountainsort fails when parallel=True, that is not generally the case\n",
    "    verbose=True,\n",
    "    filter=False\n",
    ")\n",
    "print(f'Mountainsort4 found {len(sorting_MS4.get_unit_ids())} units')"
   ]
  },
  {
   "cell_type": "code",
   "execution_count": 65,
   "id": "occupied-nepal",
   "metadata": {
    "id": "occupied-nepal",
    "scrolled": true
   },
   "outputs": [
    {
     "name": "stdout",
     "output_type": "stream",
     "text": [
      "Spike train of a unit: [    624    1084    1581 ... 5756678 5758526 5759778]\n"
     ]
    }
   ],
   "source": [
    "print(f'Spike train of a unit: {sorting_MS4.get_unit_spike_train(1)}')"
   ]
  },
  {
   "cell_type": "markdown",
   "id": "economic-producer",
   "metadata": {},
   "source": [
    "Write spike sorting output to memory."
   ]
  },
  {
   "cell_type": "code",
   "execution_count": 66,
   "id": "caring-essence",
   "metadata": {},
   "outputs": [],
   "source": [
    "se.MdaSortingExtractor.write_sorting(sorting=sorting_MS4, save_path=os.path.join(dir_name, 'mountainsort4.mda'))"
   ]
  },
  {
   "cell_type": "markdown",
   "id": "demonstrated-danger",
   "metadata": {},
   "source": [
    "Read spike sorting output from memory."
   ]
  },
  {
   "cell_type": "code",
   "execution_count": 9,
   "id": "young-president",
   "metadata": {},
   "outputs": [
    {
     "name": "stdout",
     "output_type": "stream",
     "text": [
      "Unit ids = [0, 1, 2, 3, 4, 5, 6, 7, 8, 9, 10, 11, 12, 13, 14, 15, 16, 17, 18, 19, 20, 21, 22, 23, 24]\n",
      "Num. events for unit 1 = 15529\n",
      "Num. events for first second of unit 1 = 57\n"
     ]
    }
   ],
   "source": [
    "sorting_MS4 = se.MdaSortingExtractor(\n",
    "    file_path=os.path.join(dir_name, 'mountainsort4.mda'),\n",
    "    sampling_frequency=48000\n",
    ")\n",
    "print('Unit ids = {}'.format(sorting_MS4.get_unit_ids()))\n",
    "spike_train = sorting_MS4.get_unit_spike_train(unit_id=1)\n",
    "print('Num. events for unit 1 = {}'.format(len(spike_train)))\n",
    "spike_train1 = sorting_MS4.get_unit_spike_train(unit_id=1, start_frame=0, end_frame=30000)\n",
    "print('Num. events for first second of unit 1 = {}'.format(len(spike_train1)))"
   ]
  },
  {
   "cell_type": "markdown",
   "id": "honey-bangladesh",
   "metadata": {
    "id": "honey-bangladesh"
   },
   "source": [
    "<a id='ironclust'></a>\n",
    "### Ironclust\n",
    "[back to index](#index)"
   ]
  },
  {
   "cell_type": "markdown",
   "id": "coordinated-zambia",
   "metadata": {},
   "source": [
    "If you haven't already, clone Ironclust github repository to a path of your choice. Here we stay in the same directory. "
   ]
  },
  {
   "cell_type": "code",
   "execution_count": 29,
   "id": "extended-poland",
   "metadata": {},
   "outputs": [
    {
     "name": "stdout",
     "output_type": "stream",
     "text": [
      "Cloning into 'ironclust'...\n",
      "remote: Enumerating objects: 189, done.\u001b[K\n",
      "remote: Counting objects: 100% (189/189), done.\u001b[K\n",
      "remote: Compressing objects: 100% (123/123), done.\u001b[K\n",
      "remote: Total 4964 (delta 131), reused 119 (delta 62), pack-reused 4775\n",
      "Receiving objects: 100% (4964/4964), 83.82 MiB | 6.63 MiB/s, done.\n",
      "Resolving deltas: 100% (3556/3556), done.\n",
      "Updating files: 100% (846/846), done.\n"
     ]
    }
   ],
   "source": [
    "!git clone https://github.com/jamesjun/ironclust"
   ]
  },
  {
   "cell_type": "code",
   "execution_count": 20,
   "id": "thrown-sweden",
   "metadata": {},
   "outputs": [
    {
     "data": {
      "text/plain": [
       "{'detect_sign': -1,\n",
       " 'adjacency_radius': 50,\n",
       " 'adjacency_radius_out': 100,\n",
       " 'detect_threshold': 3.5,\n",
       " 'prm_template_name': '',\n",
       " 'freq_min': 300,\n",
       " 'freq_max': 8000,\n",
       " 'merge_thresh': 0.985,\n",
       " 'pc_per_chan': 9,\n",
       " 'whiten': False,\n",
       " 'filter_type': 'bandpass',\n",
       " 'filter_detect_type': 'none',\n",
       " 'common_ref_type': 'trimmean',\n",
       " 'batch_sec_drift': 300,\n",
       " 'step_sec_drift': 20,\n",
       " 'knn': 30,\n",
       " 'n_jobs_bin': 1,\n",
       " 'chunk_mb': 500,\n",
       " 'min_count': 30,\n",
       " 'fGpu': True,\n",
       " 'fft_thresh': 8,\n",
       " 'fft_thresh_low': 0,\n",
       " 'nSites_whiten': 16,\n",
       " 'feature_type': 'gpca',\n",
       " 'delta_cut': 1,\n",
       " 'post_merge_mode': 1,\n",
       " 'sort_mode': 1,\n",
       " 'fParfor': False,\n",
       " 'filter': True,\n",
       " 'clip_pre': 0.25,\n",
       " 'clip_post': 0.75,\n",
       " 'merge_thresh_cc': 1,\n",
       " 'nRepeat_merge': 3,\n",
       " 'merge_overlap_thresh': 0.95}"
      ]
     },
     "execution_count": 20,
     "metadata": {},
     "output_type": "execute_result"
    }
   ],
   "source": [
    "ss.get_default_params('ironclust')"
   ]
  },
  {
   "cell_type": "code",
   "execution_count": 21,
   "id": "iraqi-andrews",
   "metadata": {},
   "outputs": [
    {
     "data": {
      "text/plain": [
       "{'detect_sign': 'Use -1 (negative), 1 (positive) or 0 (both) depending on the sign of the spikes in the recording',\n",
       " 'adjacency_radius': 'Use -1 to include all channels in every neighborhood',\n",
       " 'adjacency_radius_out': 'Use -1 to include all channels in every neighborhood',\n",
       " 'detect_threshold': 'detection threshold',\n",
       " 'prm_template_name': '.prm template file name',\n",
       " 'freq_min': 'High-pass filter cutoff frequency',\n",
       " 'freq_max': 'Low-pass filter cutoff frequency',\n",
       " 'merge_thresh': 'Threshold for automated merging',\n",
       " 'pc_per_chan': 'Number of principal components per channel',\n",
       " 'whiten': 'Whether to do channel whitening as part of preprocessing',\n",
       " 'filter_type': 'Filter type: none, bandpass, wiener, fftdiff, ndiff',\n",
       " 'filter_detect_type': 'Filter type for detection: none, bandpass, wiener, fftdiff, ndiff',\n",
       " 'common_ref_type': 'Common reference type: none, mean, median, trimmean',\n",
       " 'batch_sec_drift': 'Batch duration in seconds. clustering time duration',\n",
       " 'step_sec_drift': 'Compute anatomical similarity every n sec',\n",
       " 'knn': 'K nearest neighbors',\n",
       " 'min_count': 'Minimum cluster size',\n",
       " 'fGpu': 'Use GPU if True',\n",
       " 'fft_thresh': 'FFT-based noise peak threshold',\n",
       " 'fft_thresh_low': 'FFT-based noise peak lower threshold (set to 0 to disable dual thresholding scheme)',\n",
       " 'nSites_whiten': 'Number of adjacent channels to whiten',\n",
       " 'feature_type': 'gpca, pca, vpp, vmin, vminmax, cov, energy, xcov',\n",
       " 'delta_cut': 'Cluster detection threshold (delta-cutoff)',\n",
       " 'post_merge_mode': 'Post merge mode',\n",
       " 'sort_mode': 'Sort mode',\n",
       " 'fParfor': 'Parfor loop',\n",
       " 'filter': 'Enable or disable filter',\n",
       " 'clip_pre': 'Pre-peak clip duration in ms',\n",
       " 'clip_post': 'Post-peak clip duration in ms',\n",
       " 'merge_thresh_cc': 'Cross-correlogram merging threshold, set to 1 to disable',\n",
       " 'nRepeat_merge': 'Number of repeats for merge',\n",
       " 'merge_overlap_thresh': 'Knn-overlap merge threshold',\n",
       " 'chunk_mb': 'Chunk size in Mb for saving to binary format (default 500Mb)',\n",
       " 'n_jobs_bin': 'Number of jobs for saving to binary format (Default 1)'}"
      ]
     },
     "execution_count": 21,
     "metadata": {},
     "output_type": "execute_result"
    }
   ],
   "source": [
    "ss.get_params_description('ironclust')"
   ]
  },
  {
   "cell_type": "markdown",
   "id": "bulgarian-tablet",
   "metadata": {},
   "source": [
    "Next, we set the ironclust path."
   ]
  },
  {
   "cell_type": "code",
   "execution_count": 22,
   "id": "everyday-queen",
   "metadata": {
    "id": "everyday-queen",
    "outputId": "1710a23b-5b8f-4dc9-b9c4-9c1a9d78ca78"
   },
   "outputs": [
    {
     "name": "stdout",
     "output_type": "stream",
     "text": [
      "Setting IRONCLUST_PATH environment variable for subprocess calls to: /home/sbuergers/spikeinterface/hussaini-to-nwb/tidy_venv/ironclust\n"
     ]
    },
    {
     "data": {
      "text/plain": [
       "'/home/sbuergers/spikeinterface/hussaini-to-nwb/tidy_venv/ironclust'"
      ]
     },
     "execution_count": 22,
     "metadata": {},
     "output_type": "execute_result"
    }
   ],
   "source": [
    "ss.IronClustSorter.set_ironclust_path('./ironclust')\n",
    "ss.IronClustSorter.ironclust_path"
   ]
  },
  {
   "cell_type": "markdown",
   "id": "included-columbia",
   "metadata": {},
   "source": [
    "Note that we can also set a global environment variable called `IRONCLUST_PATH`. In that case we don't need to set the path in each session because the sorter class looks for this environment variable.\n",
    "\n",
    "Now ironclust should be installed and we can run it:"
   ]
  },
  {
   "cell_type": "code",
   "execution_count": 23,
   "id": "administrative-brief",
   "metadata": {
    "id": "administrative-brief",
    "outputId": "71095edc-fda1-419d-f903-18ab309e1c64"
   },
   "outputs": [
    {
     "data": {
      "text/plain": [
       "['herdingspikes',\n",
       " 'ironclust',\n",
       " 'klusta',\n",
       " 'mountainsort4',\n",
       " 'spykingcircus',\n",
       " 'tridesclous']"
      ]
     },
     "execution_count": 23,
     "metadata": {},
     "output_type": "execute_result"
    }
   ],
   "source": [
    "ss.installed_sorters()"
   ]
  },
  {
   "cell_type": "code",
   "execution_count": 24,
   "id": "integral-bikini",
   "metadata": {
    "id": "integral-bikini",
    "outputId": "c5ac02fa-b46f-4360-c94a-2e903bf7e773",
    "scrolled": true
   },
   "outputs": [
    {
     "name": "stderr",
     "output_type": "stream",
     "text": [
      "/home/sbuergers/spikeinterface/spikeextractors/spikeextractors/extraction_tools.py:847: DeprecationWarning: `np.float` is a deprecated alias for the builtin `float`. To silence this warning, use `float` by itself. Doing this will not modify any behavior and is safe. If you specifically wanted the numpy scalar type, use `np.float64` here.\n",
      "Deprecated in NumPy 1.20; for more details and guidance: https://numpy.org/devdocs/release/1.20.0-notes.html#deprecations\n",
      "  if isinstance(start_frame, (float, np.float)):\n",
      "/home/sbuergers/spikeinterface/spikeextractors/spikeextractors/extraction_tools.py:853: DeprecationWarning: `np.float` is a deprecated alias for the builtin `float`. To silence this warning, use `float` by itself. Doing this will not modify any behavior and is safe. If you specifically wanted the numpy scalar type, use `np.float64` here.\n",
      "Deprecated in NumPy 1.20; for more details and guidance: https://numpy.org/devdocs/release/1.20.0-notes.html#deprecations\n",
      "  if isinstance(end_frame, (float, np.float)) and np.isfinite(end_frame):\n",
      "/home/sbuergers/spikeinterface/spikeextractors/spikeextractors/baseextractor.py:607: DeprecationWarning: `np.int` is a deprecated alias for the builtin `int`. To silence this warning, use `int` by itself. Doing this will not modify any behavior and is safe. When replacing `np.int`, you may wish to use e.g. `np.int64` or `np.int32` to specify the precision. If you wish to review your current use, check the release note link for additional information.\n",
      "Deprecated in NumPy 1.20; for more details and guidance: https://numpy.org/devdocs/release/1.20.0-notes.html#deprecations\n",
      "  elif isinstance(v, (np.int, np.int32, np.int64)):\n",
      "/home/sbuergers/spikeinterface/spikeextractors/spikeextractors/baseextractor.py:609: DeprecationWarning: `np.float` is a deprecated alias for the builtin `float`. To silence this warning, use `float` by itself. Doing this will not modify any behavior and is safe. If you specifically wanted the numpy scalar type, use `np.float64` here.\n",
      "Deprecated in NumPy 1.20; for more details and guidance: https://numpy.org/devdocs/release/1.20.0-notes.html#deprecations\n",
      "  elif isinstance(v, (np.float, np.float32, np.float64)):\n",
      "Writing to binary .dat file: 100%|##########| 1/1 [00:00<00:00,  5.56it/s]\n",
      "Writing to binary .dat file: 100%|##########| 1/1 [00:00<00:00,  3.96it/s]\n",
      "Writing to binary .dat file: 100%|##########| 1/1 [00:00<00:00,  3.32it/s]\n",
      "Writing to binary .dat file: 100%|##########| 1/1 [00:00<00:00,  3.35it/s]\n"
     ]
    },
    {
     "ename": "SpikeSortingError",
     "evalue": "Spike sorting failed: ironclust returned a non-zero exit code. You can inspect the runtime trace in the ironclust.log of the output folder.'",
     "output_type": "error",
     "traceback": [
      "\u001b[0;31m---------------------------------------------------------------------------\u001b[0m",
      "\u001b[0;31m_RemoteTraceback\u001b[0m                          Traceback (most recent call last)",
      "\u001b[0;31m_RemoteTraceback\u001b[0m: \n\"\"\"\nTraceback (most recent call last):\n  File \"/mnt/d/spikeinterface/hussaini-to-nwb/tidy_venv/venv/lib/python3.8/site-packages/joblib-1.0.1-py3.8.egg/joblib/externals/loky/process_executor.py\", line 431, in _process_worker\n    r = call_item()\n  File \"/mnt/d/spikeinterface/hussaini-to-nwb/tidy_venv/venv/lib/python3.8/site-packages/joblib-1.0.1-py3.8.egg/joblib/externals/loky/process_executor.py\", line 285, in __call__\n    return self.fn(*self.args, **self.kwargs)\n  File \"/mnt/d/spikeinterface/hussaini-to-nwb/tidy_venv/venv/lib/python3.8/site-packages/joblib-1.0.1-py3.8.egg/joblib/_parallel_backends.py\", line 595, in __call__\n    return self.func(*args, **kwargs)\n  File \"/mnt/d/spikeinterface/hussaini-to-nwb/tidy_venv/venv/lib/python3.8/site-packages/joblib-1.0.1-py3.8.egg/joblib/parallel.py\", line 262, in __call__\n    return [func(*args, **kwargs)\n  File \"/mnt/d/spikeinterface/hussaini-to-nwb/tidy_venv/venv/lib/python3.8/site-packages/joblib-1.0.1-py3.8.egg/joblib/parallel.py\", line 262, in <listcomp>\n    return [func(*args, **kwargs)\n  File \"/mnt/d/spikeinterface/hussaini-to-nwb/tidy_venv/venv/lib/python3.8/site-packages/spikesorters/ironclust/ironclust.py\", line 233, in _run\n    raise Exception('ironclust returned a non-zero exit code')\nException: ironclust returned a non-zero exit code\n\"\"\"",
      "\nThe above exception was the direct cause of the following exception:\n",
      "\u001b[0;31mException\u001b[0m                                 Traceback (most recent call last)",
      "\u001b[0;32m/mnt/d/spikeinterface/hussaini-to-nwb/tidy_venv/venv/lib/python3.8/site-packages/spikesorters/basesorter.py\u001b[0m in \u001b[0;36mrun\u001b[0;34m(self, raise_error, parallel, n_jobs, joblib_backend)\u001b[0m\n\u001b[1;32m    159\u001b[0m             \u001b[0;32melse\u001b[0m\u001b[0;34m:\u001b[0m\u001b[0;34m\u001b[0m\u001b[0;34m\u001b[0m\u001b[0m\n\u001b[0;32m--> 160\u001b[0;31m                 Parallel(n_jobs=n_jobs, backend=joblib_backend)(\n\u001b[0m\u001b[1;32m    161\u001b[0m                     \u001b[0mdelayed\u001b[0m\u001b[0;34m(\u001b[0m\u001b[0mself\u001b[0m\u001b[0;34m.\u001b[0m\u001b[0m_run\u001b[0m\u001b[0;34m)\u001b[0m\u001b[0;34m(\u001b[0m\u001b[0mrec\u001b[0m\u001b[0;34m.\u001b[0m\u001b[0mdump_to_dict\u001b[0m\u001b[0;34m(\u001b[0m\u001b[0;34m)\u001b[0m\u001b[0;34m,\u001b[0m \u001b[0moutput_folder\u001b[0m\u001b[0;34m)\u001b[0m\u001b[0;34m\u001b[0m\u001b[0;34m\u001b[0m\u001b[0m\n",
      "\u001b[0;32m/mnt/d/spikeinterface/hussaini-to-nwb/tidy_venv/venv/lib/python3.8/site-packages/joblib-1.0.1-py3.8.egg/joblib/parallel.py\u001b[0m in \u001b[0;36m__call__\u001b[0;34m(self, iterable)\u001b[0m\n\u001b[1;32m   1053\u001b[0m             \u001b[0;32mwith\u001b[0m \u001b[0mself\u001b[0m\u001b[0;34m.\u001b[0m\u001b[0m_backend\u001b[0m\u001b[0;34m.\u001b[0m\u001b[0mretrieval_context\u001b[0m\u001b[0;34m(\u001b[0m\u001b[0;34m)\u001b[0m\u001b[0;34m:\u001b[0m\u001b[0;34m\u001b[0m\u001b[0;34m\u001b[0m\u001b[0m\n\u001b[0;32m-> 1054\u001b[0;31m                 \u001b[0mself\u001b[0m\u001b[0;34m.\u001b[0m\u001b[0mretrieve\u001b[0m\u001b[0;34m(\u001b[0m\u001b[0;34m)\u001b[0m\u001b[0;34m\u001b[0m\u001b[0;34m\u001b[0m\u001b[0m\n\u001b[0m\u001b[1;32m   1055\u001b[0m             \u001b[0;31m# Make sure that we get a last message telling us we are done\u001b[0m\u001b[0;34m\u001b[0m\u001b[0;34m\u001b[0m\u001b[0;34m\u001b[0m\u001b[0m\n",
      "\u001b[0;32m/mnt/d/spikeinterface/hussaini-to-nwb/tidy_venv/venv/lib/python3.8/site-packages/joblib-1.0.1-py3.8.egg/joblib/parallel.py\u001b[0m in \u001b[0;36mretrieve\u001b[0;34m(self)\u001b[0m\n\u001b[1;32m    932\u001b[0m                 \u001b[0;32mif\u001b[0m \u001b[0mgetattr\u001b[0m\u001b[0;34m(\u001b[0m\u001b[0mself\u001b[0m\u001b[0;34m.\u001b[0m\u001b[0m_backend\u001b[0m\u001b[0;34m,\u001b[0m \u001b[0;34m'supports_timeout'\u001b[0m\u001b[0;34m,\u001b[0m \u001b[0;32mFalse\u001b[0m\u001b[0;34m)\u001b[0m\u001b[0;34m:\u001b[0m\u001b[0;34m\u001b[0m\u001b[0;34m\u001b[0m\u001b[0m\n\u001b[0;32m--> 933\u001b[0;31m                     \u001b[0mself\u001b[0m\u001b[0;34m.\u001b[0m\u001b[0m_output\u001b[0m\u001b[0;34m.\u001b[0m\u001b[0mextend\u001b[0m\u001b[0;34m(\u001b[0m\u001b[0mjob\u001b[0m\u001b[0;34m.\u001b[0m\u001b[0mget\u001b[0m\u001b[0;34m(\u001b[0m\u001b[0mtimeout\u001b[0m\u001b[0;34m=\u001b[0m\u001b[0mself\u001b[0m\u001b[0;34m.\u001b[0m\u001b[0mtimeout\u001b[0m\u001b[0;34m)\u001b[0m\u001b[0;34m)\u001b[0m\u001b[0;34m\u001b[0m\u001b[0;34m\u001b[0m\u001b[0m\n\u001b[0m\u001b[1;32m    934\u001b[0m                 \u001b[0;32melse\u001b[0m\u001b[0;34m:\u001b[0m\u001b[0;34m\u001b[0m\u001b[0;34m\u001b[0m\u001b[0m\n",
      "\u001b[0;32m/mnt/d/spikeinterface/hussaini-to-nwb/tidy_venv/venv/lib/python3.8/site-packages/joblib-1.0.1-py3.8.egg/joblib/_parallel_backends.py\u001b[0m in \u001b[0;36mwrap_future_result\u001b[0;34m(future, timeout)\u001b[0m\n\u001b[1;32m    541\u001b[0m         \u001b[0;32mtry\u001b[0m\u001b[0;34m:\u001b[0m\u001b[0;34m\u001b[0m\u001b[0;34m\u001b[0m\u001b[0m\n\u001b[0;32m--> 542\u001b[0;31m             \u001b[0;32mreturn\u001b[0m \u001b[0mfuture\u001b[0m\u001b[0;34m.\u001b[0m\u001b[0mresult\u001b[0m\u001b[0;34m(\u001b[0m\u001b[0mtimeout\u001b[0m\u001b[0;34m=\u001b[0m\u001b[0mtimeout\u001b[0m\u001b[0;34m)\u001b[0m\u001b[0;34m\u001b[0m\u001b[0;34m\u001b[0m\u001b[0m\n\u001b[0m\u001b[1;32m    543\u001b[0m         \u001b[0;32mexcept\u001b[0m \u001b[0mCfTimeoutError\u001b[0m \u001b[0;32mas\u001b[0m \u001b[0me\u001b[0m\u001b[0;34m:\u001b[0m\u001b[0;34m\u001b[0m\u001b[0;34m\u001b[0m\u001b[0m\n",
      "\u001b[0;32m/usr/lib/python3.8/concurrent/futures/_base.py\u001b[0m in \u001b[0;36mresult\u001b[0;34m(self, timeout)\u001b[0m\n\u001b[1;32m    438\u001b[0m             \u001b[0;32melif\u001b[0m \u001b[0mself\u001b[0m\u001b[0;34m.\u001b[0m\u001b[0m_state\u001b[0m \u001b[0;34m==\u001b[0m \u001b[0mFINISHED\u001b[0m\u001b[0;34m:\u001b[0m\u001b[0;34m\u001b[0m\u001b[0;34m\u001b[0m\u001b[0m\n\u001b[0;32m--> 439\u001b[0;31m                 \u001b[0;32mreturn\u001b[0m \u001b[0mself\u001b[0m\u001b[0;34m.\u001b[0m\u001b[0m__get_result\u001b[0m\u001b[0;34m(\u001b[0m\u001b[0;34m)\u001b[0m\u001b[0;34m\u001b[0m\u001b[0;34m\u001b[0m\u001b[0m\n\u001b[0m\u001b[1;32m    440\u001b[0m             \u001b[0;32melse\u001b[0m\u001b[0;34m:\u001b[0m\u001b[0;34m\u001b[0m\u001b[0;34m\u001b[0m\u001b[0m\n",
      "\u001b[0;32m/usr/lib/python3.8/concurrent/futures/_base.py\u001b[0m in \u001b[0;36m__get_result\u001b[0;34m(self)\u001b[0m\n\u001b[1;32m    387\u001b[0m         \u001b[0;32mif\u001b[0m \u001b[0mself\u001b[0m\u001b[0;34m.\u001b[0m\u001b[0m_exception\u001b[0m\u001b[0;34m:\u001b[0m\u001b[0;34m\u001b[0m\u001b[0;34m\u001b[0m\u001b[0m\n\u001b[0;32m--> 388\u001b[0;31m             \u001b[0;32mraise\u001b[0m \u001b[0mself\u001b[0m\u001b[0;34m.\u001b[0m\u001b[0m_exception\u001b[0m\u001b[0;34m\u001b[0m\u001b[0;34m\u001b[0m\u001b[0m\n\u001b[0m\u001b[1;32m    389\u001b[0m         \u001b[0;32melse\u001b[0m\u001b[0;34m:\u001b[0m\u001b[0;34m\u001b[0m\u001b[0;34m\u001b[0m\u001b[0m\n",
      "\u001b[0;31mException\u001b[0m: ironclust returned a non-zero exit code",
      "\nDuring handling of the above exception, another exception occurred:\n",
      "\u001b[0;31mSpikeSortingError\u001b[0m                         Traceback (most recent call last)",
      "\u001b[0;32m<ipython-input-24-04b898245376>\u001b[0m in \u001b[0;36m<module>\u001b[0;34m\u001b[0m\n\u001b[0;32m----> 1\u001b[0;31m sorting_IC = ss.run_ironclust(\n\u001b[0m\u001b[1;32m      2\u001b[0m     \u001b[0mr_cache\u001b[0m\u001b[0;34m,\u001b[0m\u001b[0;34m\u001b[0m\u001b[0;34m\u001b[0m\u001b[0m\n\u001b[1;32m      3\u001b[0m     \u001b[0mos\u001b[0m\u001b[0;34m.\u001b[0m\u001b[0mpath\u001b[0m\u001b[0;34m.\u001b[0m\u001b[0mjoin\u001b[0m\u001b[0;34m(\u001b[0m\u001b[0mdir_name\u001b[0m\u001b[0;34m,\u001b[0m \u001b[0;34m'ironclust_group'\u001b[0m\u001b[0;34m)\u001b[0m\u001b[0;34m,\u001b[0m\u001b[0;34m\u001b[0m\u001b[0;34m\u001b[0m\u001b[0m\n\u001b[1;32m      4\u001b[0m     \u001b[0mgrouping_property\u001b[0m\u001b[0;34m=\u001b[0m\u001b[0;34m'group'\u001b[0m\u001b[0;34m,\u001b[0m\u001b[0;34m\u001b[0m\u001b[0;34m\u001b[0m\u001b[0m\n\u001b[1;32m      5\u001b[0m     \u001b[0mparallel\u001b[0m\u001b[0;34m=\u001b[0m\u001b[0;32mTrue\u001b[0m\u001b[0;34m,\u001b[0m\u001b[0;34m\u001b[0m\u001b[0;34m\u001b[0m\u001b[0m\n",
      "\u001b[0;32m/mnt/d/spikeinterface/hussaini-to-nwb/tidy_venv/venv/lib/python3.8/site-packages/spikesorters/sorterlist.py\u001b[0m in \u001b[0;36mrun_ironclust\u001b[0;34m(*args, **kwargs)\u001b[0m\n\u001b[1;32m    377\u001b[0m         \u001b[0mThe\u001b[0m \u001b[0mspike\u001b[0m \u001b[0msorted\u001b[0m \u001b[0mdata\u001b[0m\u001b[0;34m\u001b[0m\u001b[0;34m\u001b[0m\u001b[0m\n\u001b[1;32m    378\u001b[0m     \"\"\"\n\u001b[0;32m--> 379\u001b[0;31m     \u001b[0;32mreturn\u001b[0m \u001b[0mrun_sorter\u001b[0m\u001b[0;34m(\u001b[0m\u001b[0;34m'ironclust'\u001b[0m\u001b[0;34m,\u001b[0m \u001b[0;34m*\u001b[0m\u001b[0margs\u001b[0m\u001b[0;34m,\u001b[0m \u001b[0;34m**\u001b[0m\u001b[0mkwargs\u001b[0m\u001b[0;34m)\u001b[0m\u001b[0;34m\u001b[0m\u001b[0;34m\u001b[0m\u001b[0m\n\u001b[0m\u001b[1;32m    380\u001b[0m \u001b[0;34m\u001b[0m\u001b[0m\n\u001b[1;32m    381\u001b[0m \u001b[0;34m\u001b[0m\u001b[0m\n",
      "\u001b[0;32m/mnt/d/spikeinterface/hussaini-to-nwb/tidy_venv/venv/lib/python3.8/site-packages/spikesorters/sorterlist.py\u001b[0m in \u001b[0;36mrun_sorter\u001b[0;34m(sorter_name_or_class, recording, output_folder, delete_output_folder, grouping_property, parallel, verbose, raise_error, n_jobs, joblib_backend, **params)\u001b[0m\n\u001b[1;32m     91\u001b[0m                          verbose=verbose, delete_output_folder=delete_output_folder)\n\u001b[1;32m     92\u001b[0m     \u001b[0msorter\u001b[0m\u001b[0;34m.\u001b[0m\u001b[0mset_params\u001b[0m\u001b[0;34m(\u001b[0m\u001b[0;34m**\u001b[0m\u001b[0mparams\u001b[0m\u001b[0;34m)\u001b[0m\u001b[0;34m\u001b[0m\u001b[0;34m\u001b[0m\u001b[0m\n\u001b[0;32m---> 93\u001b[0;31m     \u001b[0msorter\u001b[0m\u001b[0;34m.\u001b[0m\u001b[0mrun\u001b[0m\u001b[0;34m(\u001b[0m\u001b[0mraise_error\u001b[0m\u001b[0;34m=\u001b[0m\u001b[0mraise_error\u001b[0m\u001b[0;34m,\u001b[0m \u001b[0mparallel\u001b[0m\u001b[0;34m=\u001b[0m\u001b[0mparallel\u001b[0m\u001b[0;34m,\u001b[0m \u001b[0mn_jobs\u001b[0m\u001b[0;34m=\u001b[0m\u001b[0mn_jobs\u001b[0m\u001b[0;34m,\u001b[0m \u001b[0mjoblib_backend\u001b[0m\u001b[0;34m=\u001b[0m\u001b[0mjoblib_backend\u001b[0m\u001b[0;34m)\u001b[0m\u001b[0;34m\u001b[0m\u001b[0;34m\u001b[0m\u001b[0m\n\u001b[0m\u001b[1;32m     94\u001b[0m     \u001b[0msortingextractor\u001b[0m \u001b[0;34m=\u001b[0m \u001b[0msorter\u001b[0m\u001b[0;34m.\u001b[0m\u001b[0mget_result\u001b[0m\u001b[0;34m(\u001b[0m\u001b[0mraise_error\u001b[0m\u001b[0;34m=\u001b[0m\u001b[0mraise_error\u001b[0m\u001b[0;34m)\u001b[0m\u001b[0;34m\u001b[0m\u001b[0;34m\u001b[0m\u001b[0m\n\u001b[1;32m     95\u001b[0m \u001b[0;34m\u001b[0m\u001b[0m\n",
      "\u001b[0;32m/mnt/d/spikeinterface/hussaini-to-nwb/tidy_venv/venv/lib/python3.8/site-packages/spikesorters/basesorter.py\u001b[0m in \u001b[0;36mrun\u001b[0;34m(self, raise_error, parallel, n_jobs, joblib_backend)\u001b[0m\n\u001b[1;32m    167\u001b[0m         \u001b[0;32mexcept\u001b[0m \u001b[0mException\u001b[0m \u001b[0;32mas\u001b[0m \u001b[0merr\u001b[0m\u001b[0;34m:\u001b[0m\u001b[0;34m\u001b[0m\u001b[0;34m\u001b[0m\u001b[0m\n\u001b[1;32m    168\u001b[0m             \u001b[0;32mif\u001b[0m \u001b[0mraise_error\u001b[0m\u001b[0;34m:\u001b[0m\u001b[0;34m\u001b[0m\u001b[0;34m\u001b[0m\u001b[0m\n\u001b[0;32m--> 169\u001b[0;31m                 raise SpikeSortingError(f\"Spike sorting failed: {err}. You can inspect the runtime trace in \"\n\u001b[0m\u001b[1;32m    170\u001b[0m                                         f\"the {self.sorter_name}.log of the output folder.'\")\n\u001b[1;32m    171\u001b[0m             \u001b[0;32melse\u001b[0m\u001b[0;34m:\u001b[0m\u001b[0;34m\u001b[0m\u001b[0;34m\u001b[0m\u001b[0m\n",
      "\u001b[0;31mSpikeSortingError\u001b[0m: Spike sorting failed: ironclust returned a non-zero exit code. You can inspect the runtime trace in the ironclust.log of the output folder.'"
     ]
    }
   ],
   "source": [
    "sorting_IC = ss.run_ironclust(\n",
    "    r_cache, \n",
    "    os.path.join(dir_name, 'ironclust_group'), \n",
    "    grouping_property='group', \n",
    "    parallel=True, \n",
    "    verbose=True,\n",
    "    filter=False,  # we already filtered\n",
    "    common_ref_type=None  # we already applied median reference\n",
    ")\n",
    "print(f'IronClust found {len(sorting_IC.get_unit_ids())} units')"
   ]
  },
  {
   "cell_type": "markdown",
   "id": "undefined-satin",
   "metadata": {
    "id": "undefined-satin"
   },
   "source": [
    "<a id='spykingcircus'></a>\n",
    "### SpykingCircus\n",
    "[back to index](#index)"
   ]
  },
  {
   "cell_type": "markdown",
   "id": "instrumental-malta",
   "metadata": {},
   "source": [
    "Installing spyking circus"
   ]
  },
  {
   "cell_type": "code",
   "execution_count": 73,
   "id": "renewable-modification",
   "metadata": {},
   "outputs": [
    {
     "name": "stdout",
     "output_type": "stream",
     "text": [
      "········\n",
      "Reading package lists... Done: \n",
      "Building dependency tree       \n",
      "Reading state information... Done\n",
      "The following additional packages will be installed:\n",
      "  gfortran gfortran-9 hwloc-nox libgfortran-9-dev libgfortran5\n",
      "  libhwloc-plugins libhwloc15 libmpich12 libxnvctrl0 mpich ocl-icd-libopencl1\n",
      "Suggested packages:\n",
      "  gfortran-multilib gfortran-doc gfortran-9-multilib gfortran-9-doc\n",
      "  libcoarrays-dev libhwloc-contrib-plugins mpich-doc opencl-icd\n",
      "The following NEW packages will be installed:\n",
      "  gfortran gfortran-9 hwloc-nox libgfortran-9-dev libgfortran5\n",
      "  libhwloc-plugins libhwloc15 libmpich-dev libmpich12 libxnvctrl0 mpich\n",
      "  ocl-icd-libopencl1\n",
      "0 upgraded, 12 newly installed, 0 to remove and 5 not upgraded.\n",
      "Need to get 13.0 MB of archives.\n",
      "After this operation, 55.1 MB of additional disk space will be used.\n",
      "Do you want to continue? [Y/n] Abort.\n"
     ]
    }
   ],
   "source": [
    "from getpass import getpass\n",
    "\n",
    "!echo {getpass()} | sudo -S apt install libmpich-dev"
   ]
  },
  {
   "cell_type": "code",
   "execution_count": 72,
   "id": "domestic-mainstream",
   "metadata": {
    "id": "domestic-mainstream"
   },
   "outputs": [
    {
     "name": "stdout",
     "output_type": "stream",
     "text": [
      "Requirement already satisfied: mpi4py in ./venv/lib/python3.8/site-packages (3.0.3)\n",
      "Requirement already satisfied: spyking-circus in ./venv/lib/python3.8/site-packages (1.0.7)\n",
      "Requirement already satisfied: mpi4py in ./venv/lib/python3.8/site-packages (from spyking-circus) (3.0.3)\n",
      "Requirement already satisfied: colorama in ./venv/lib/python3.8/site-packages (from spyking-circus) (0.4.4)\n",
      "Requirement already satisfied: h5py in ./venv/lib/python3.8/site-packages (from spyking-circus) (2.10.0)\n",
      "Requirement already satisfied: matplotlib in ./venv/lib/python3.8/site-packages (from spyking-circus) (3.4.1)\n",
      "Requirement already satisfied: statsmodels in ./venv/lib/python3.8/site-packages (from spyking-circus) (0.12.2)\n",
      "Requirement already satisfied: numpy in ./venv/lib/python3.8/site-packages/numpy-1.20.2-py3.8-linux-x86_64.egg (from spyking-circus) (1.20.2)\n",
      "Requirement already satisfied: tqdm in ./venv/lib/python3.8/site-packages/tqdm-4.59.0-py3.8.egg (from spyking-circus) (4.59.0)\n",
      "Requirement already satisfied: blosc in ./venv/lib/python3.8/site-packages (from spyking-circus) (1.10.2)\n",
      "Requirement already satisfied: psutil in ./venv/lib/python3.8/site-packages (from spyking-circus) (5.8.0)\n",
      "Requirement already satisfied: cython in ./venv/lib/python3.8/site-packages (from spyking-circus) (0.29.22)\n",
      "Requirement already satisfied: scipy in ./venv/lib/python3.8/site-packages (from spyking-circus) (1.6.2)\n",
      "Requirement already satisfied: six in ./venv/lib/python3.8/site-packages (from h5py->spyking-circus) (1.15.0)\n",
      "Requirement already satisfied: cycler>=0.10 in ./venv/lib/python3.8/site-packages (from matplotlib->spyking-circus) (0.10.0)\n",
      "Requirement already satisfied: pyparsing>=2.2.1 in ./venv/lib/python3.8/site-packages (from matplotlib->spyking-circus) (2.4.7)\n",
      "Requirement already satisfied: python-dateutil>=2.7 in ./venv/lib/python3.8/site-packages (from matplotlib->spyking-circus) (2.8.1)\n",
      "Requirement already satisfied: pillow>=6.2.0 in ./venv/lib/python3.8/site-packages (from matplotlib->spyking-circus) (8.2.0)\n",
      "Requirement already satisfied: kiwisolver>=1.0.1 in ./venv/lib/python3.8/site-packages (from matplotlib->spyking-circus) (1.3.1)\n",
      "Requirement already satisfied: patsy>=0.5 in ./venv/lib/python3.8/site-packages (from statsmodels->spyking-circus) (0.5.1)\n",
      "Requirement already satisfied: pandas>=0.21 in ./venv/lib/python3.8/site-packages (from statsmodels->spyking-circus) (1.2.3)\n",
      "Requirement already satisfied: pytz>=2017.3 in ./venv/lib/python3.8/site-packages (from pandas>=0.21->statsmodels->spyking-circus) (2021.1)\n"
     ]
    }
   ],
   "source": [
    "!pip install mpi4py\n",
    "!pip install spyking-circus --no-binary=mpi4py"
   ]
  },
  {
   "cell_type": "code",
   "execution_count": 5,
   "id": "legislative-hearts",
   "metadata": {},
   "outputs": [
    {
     "data": {
      "text/plain": [
       "{'detect_sign': -1,\n",
       " 'adjacency_radius': 100,\n",
       " 'detect_threshold': 6,\n",
       " 'template_width_ms': 3,\n",
       " 'filter': True,\n",
       " 'merge_spikes': True,\n",
       " 'auto_merge': 0.75,\n",
       " 'num_workers': None,\n",
       " 'whitening_max_elts': 1000,\n",
       " 'clustering_max_elts': 10000}"
      ]
     },
     "execution_count": 5,
     "metadata": {},
     "output_type": "execute_result"
    }
   ],
   "source": [
    "ss.get_default_params('spykingcircus')"
   ]
  },
  {
   "cell_type": "code",
   "execution_count": 6,
   "id": "compound-herald",
   "metadata": {},
   "outputs": [
    {
     "data": {
      "text/plain": [
       "{'detect_sign': 'Use -1 (negative), 1 (positive) or 0 (both) depending on the sign of the spikes in the recording',\n",
       " 'adjacency_radius': 'Radius in um to build channel neighborhood',\n",
       " 'detect_threshold': 'Threshold for spike detection',\n",
       " 'template_width_ms': 'Template width in ms. Recommended values: 3 for in vivo - 5 for in vitro',\n",
       " 'filter': 'Enable or disable filter',\n",
       " 'merge_spikes': 'Enable or disable automatic mergind',\n",
       " 'auto_merge': 'Automatic merging threshold',\n",
       " 'num_workers': 'Number of workers (if None, half of the cpu number is used)',\n",
       " 'whitening_max_elts': 'Max number of events per electrode for whitening',\n",
       " 'clustering_max_elts': 'Max number of events per electrode for clustering'}"
      ]
     },
     "execution_count": 6,
     "metadata": {},
     "output_type": "execute_result"
    }
   ],
   "source": [
    "ss.get_params_description('spykingcircus')"
   ]
  },
  {
   "cell_type": "code",
   "execution_count": 74,
   "id": "decreased-element",
   "metadata": {},
   "outputs": [],
   "source": [
    "!export PATH=$PATH:$HOME/.local/bin"
   ]
  },
  {
   "cell_type": "code",
   "execution_count": 75,
   "id": "explicit-companion",
   "metadata": {},
   "outputs": [
    {
     "name": "stdout",
     "output_type": "stream",
     "text": [
      "/mnt/d/spikeinterface/hussaini-to-nwb/tidy_venv/venv/bin:/home/sbuergers/.vscode-server/bin/3c4e3df9e89829dce27b7b5c24508306b151f30d/bin:/home/sbuergers/.local/bin:/usr/local/sbin:/usr/local/bin:/usr/sbin:/usr/bin:/sbin:/bin:/usr/games:/usr/local/games:/mnt/c/Program\r\n",
      "Files\r\n",
      "(x86)/VMware/VMware\r\n",
      "Player/bin/:/mnt/c/WINDOWS/system32:/mnt/c/WINDOWS:/mnt/c/WINDOWS/System32/Wbem:/mnt/c/WINDOWS/System32/WindowsPowerShell/v1.0/:/mnt/c/WINDOWS/System32/OpenSSH/:/mnt/c/Program\r\n",
      "Files/MATLAB/R2020b/bin:/mnt/c/Program\r\n",
      "Files/MATLAB/R2017a/bin:/mnt/c/ProgramData/chocolatey/bin:/mnt/c/tools/lxrunoffline:/mnt/c/Program\r\n",
      "Files/Docker/Docker/resources/bin:/mnt/c/ProgramData/DockerDesktop/version-bin:/mnt/c/Users/sbuer/AppData/Local/Microsoft/WindowsApps:/mnt/c/Users/sbuer/AppData/Local/Programs/Microsoft\r\n",
      "VS\r\n",
      "Code/bin:/snap/bin\r\n"
     ]
    }
   ],
   "source": [
    "!printf \"%s\\n\" $PATH"
   ]
  },
  {
   "cell_type": "code",
   "execution_count": 76,
   "id": "forty-behavior",
   "metadata": {},
   "outputs": [
    {
     "data": {
      "text/plain": [
       "['herdingspikes', 'klusta', 'mountainsort4', 'spykingcircus', 'tridesclous']"
      ]
     },
     "execution_count": 76,
     "metadata": {},
     "output_type": "execute_result"
    }
   ],
   "source": [
    "ss.installed_sorters()"
   ]
  },
  {
   "cell_type": "code",
   "execution_count": 68,
   "id": "similar-welding",
   "metadata": {},
   "outputs": [
    {
     "name": "stdout",
     "output_type": "stream",
     "text": [
      "spykingcircus run time 366.28s\n",
      "Spyking Circus found 20 units\n"
     ]
    }
   ],
   "source": [
    "sorting_SC = ss.run_spykingcircus(\n",
    "    r_cache,\n",
    "    os.path.join(dir_name, 'spykingcircus_group'),\n",
    "    grouping_property='group',\n",
    "    adjacency_radius=5,\n",
    "    parallel=True,\n",
    "    verbose=True,\n",
    "    filter=False\n",
    ")\n",
    "print(f'Spyking Circus found {len(sorting_SC.get_unit_ids())} units')"
   ]
  },
  {
   "cell_type": "markdown",
   "id": "prospective-marriage",
   "metadata": {},
   "source": [
    "Save spike sorting output in mountainsort format."
   ]
  },
  {
   "cell_type": "code",
   "execution_count": 69,
   "id": "patient-table",
   "metadata": {},
   "outputs": [],
   "source": [
    "se.MdaSortingExtractor.write_sorting(sorting=sorting_SC, save_path=os.path.join(dir_name, 'spykingcircus.mda'))"
   ]
  },
  {
   "cell_type": "markdown",
   "id": "cosmetic-nightlife",
   "metadata": {},
   "source": [
    "Read spyking circus spike sorting output. "
   ]
  },
  {
   "cell_type": "code",
   "execution_count": 10,
   "id": "casual-browse",
   "metadata": {},
   "outputs": [
    {
     "name": "stdout",
     "output_type": "stream",
     "text": [
      "Unit ids = [0, 1, 2, 3, 4, 5, 6, 7, 8, 9, 10, 11, 12, 13, 14, 15, 16, 17, 18, 19]\n",
      "Num. events for unit 1 = 1621\n",
      "Num. events for first second of unit 1 = 9\n"
     ]
    }
   ],
   "source": [
    "sorting_SC = se.MdaSortingExtractor( \n",
    "    file_path=os.path.join(dir_name, 'spykingcircus.mda'),\n",
    "    sampling_frequency=48000\n",
    ")\n",
    "print('Unit ids = {}'.format(sorting_SC.get_unit_ids()))\n",
    "spike_train = sorting_SC.get_unit_spike_train(unit_id=1)\n",
    "print('Num. events for unit 1 = {}'.format(len(spike_train)))\n",
    "spike_train1 = sorting_SC.get_unit_spike_train(unit_id=1, start_frame=0, end_frame=30000)\n",
    "print('Num. events for first second of unit 1 = {}'.format(len(spike_train1)))"
   ]
  },
  {
   "cell_type": "markdown",
   "id": "viral-parcel",
   "metadata": {},
   "source": [
    "<a id='tridesclous'></a>\n",
    "### Tridesclous\n",
    "[back to index](#index)"
   ]
  },
  {
   "cell_type": "code",
   "execution_count": null,
   "id": "compact-explosion",
   "metadata": {},
   "outputs": [],
   "source": [
    "!pip install https://github.com/tridesclous/tridesclous/archive/master.zip"
   ]
  },
  {
   "cell_type": "code",
   "execution_count": 5,
   "id": "little-spine",
   "metadata": {},
   "outputs": [
    {
     "data": {
      "text/plain": [
       "{'freq_min': 400.0,\n",
       " 'freq_max': 5000.0,\n",
       " 'detect_sign': -1,\n",
       " 'detect_threshold': 5,\n",
       " 'peak_span_ms': 0.7,\n",
       " 'wf_left_ms': -2.0,\n",
       " 'wf_right_ms': 3.0,\n",
       " 'feature_method': 'auto',\n",
       " 'cluster_method': 'auto',\n",
       " 'clean_catalogue_gui': False,\n",
       " 'chunk_mb': 500,\n",
       " 'n_jobs_bin': 1}"
      ]
     },
     "execution_count": 5,
     "metadata": {},
     "output_type": "execute_result"
    }
   ],
   "source": [
    "ss.get_default_params('tridesclous')"
   ]
  },
  {
   "cell_type": "code",
   "execution_count": 6,
   "id": "fatty-recall",
   "metadata": {},
   "outputs": [
    {
     "data": {
      "text/plain": [
       "{'freq_min': 'High-pass filter cutoff frequency',\n",
       " 'freq_max': 'Low-pass filter cutoff frequency',\n",
       " 'detect_threshold': 'Threshold for spike detection',\n",
       " 'detect_sign': 'Use -1 (negative) or 1 (positive) depending on the sign of the spikes in the recording',\n",
       " 'peak_span_ms': 'Span of the peak in ms',\n",
       " 'wf_left_ms': 'Cut out before peak in ms',\n",
       " 'wf_right_ms': ' Cut out after peak in ms',\n",
       " 'feature_method': 'Feature method to use',\n",
       " 'cluster_method': 'Feature method to use',\n",
       " 'clean_catalogue_gui': 'Enable or disable interactive GUI for cleaning templates before peeler',\n",
       " 'chunk_mb': 'Chunk size in Mb for saving to binary format (default 500Mb)',\n",
       " 'n_jobs_bin': 'Number of jobs for saving to binary format (Default 1)'}"
      ]
     },
     "execution_count": 6,
     "metadata": {},
     "output_type": "execute_result"
    }
   ],
   "source": [
    "ss.get_params_description('tridesclous')"
   ]
  },
  {
   "cell_type": "code",
   "execution_count": 45,
   "id": "dietary-praise",
   "metadata": {},
   "outputs": [
    {
     "name": "stderr",
     "output_type": "stream",
     "text": [
      "/mnt/d/spikeinterface/spikeextractors/spikeextractors/baseextractor.py:607: DeprecationWarning: `np.int` is a deprecated alias for the builtin `int`. To silence this warning, use `int` by itself. Doing this will not modify any behavior and is safe. When replacing `np.int`, you may wish to use e.g. `np.int64` or `np.int32` to specify the precision. If you wish to review your current use, check the release note link for additional information.\n",
      "Deprecated in NumPy 1.20; for more details and guidance: https://numpy.org/devdocs/release/1.20.0-notes.html#deprecations\n",
      "  elif isinstance(v, (np.int, np.int32, np.int64)):\n",
      "/mnt/d/spikeinterface/spikeextractors/spikeextractors/baseextractor.py:609: DeprecationWarning: `np.float` is a deprecated alias for the builtin `float`. To silence this warning, use `float` by itself. Doing this will not modify any behavior and is safe. If you specifically wanted the numpy scalar type, use `np.float64` here.\n",
      "Deprecated in NumPy 1.20; for more details and guidance: https://numpy.org/devdocs/release/1.20.0-notes.html#deprecations\n",
      "  elif isinstance(v, (np.float, np.float32, np.float64)):\n",
      "\r",
      "Writing to binary .dat file:   0%|          | 0/1 [00:00<?, ?it/s]"
     ]
    },
    {
     "name": "stdout",
     "output_type": "stream",
     "text": [
      "Local copy of recording\n"
     ]
    },
    {
     "name": "stderr",
     "output_type": "stream",
     "text": [
      "Writing to binary .dat file: 100%|##########| 1/1 [00:01<00:00,  1.54s/it]\n",
      "Writing to binary .dat file:   0%|          | 0/1 [00:00<?, ?it/s]"
     ]
    },
    {
     "name": "stdout",
     "output_type": "stream",
     "text": [
      "DataIO <id: 140571266862240> \n",
      "  workdir: /mnt/d/freelance-work/catalyst-neuro/hussaini-lab-to-nwb/example_data_raw/tridescluous_group/0\n",
      "  sample_rate: 48000.0\n",
      "  total_channel: 2\n",
      "  channel_groups: 0 [ch0 ch1]\n",
      "  nb_segment: 1\n",
      "  length: 5760000\n",
      "  durations: 120.0 s.\n",
      "Local copy of recording\n"
     ]
    },
    {
     "name": "stderr",
     "output_type": "stream",
     "text": [
      "Writing to binary .dat file: 100%|##########| 1/1 [00:02<00:00,  2.21s/it]\n",
      "Writing to binary .dat file:   0%|          | 0/1 [00:00<?, ?it/s]"
     ]
    },
    {
     "name": "stdout",
     "output_type": "stream",
     "text": [
      "DataIO <id: 140571276384576> \n",
      "  workdir: /mnt/d/freelance-work/catalyst-neuro/hussaini-lab-to-nwb/example_data_raw/tridescluous_group/1\n",
      "  sample_rate: 48000.0\n",
      "  total_channel: 3\n",
      "  channel_groups: 0 [ch0 ch1 ch2]\n",
      "  nb_segment: 1\n",
      "  length: 5760000\n",
      "  durations: 120.0 s.\n",
      "Local copy of recording\n"
     ]
    },
    {
     "name": "stderr",
     "output_type": "stream",
     "text": [
      "Writing to binary .dat file: 100%|##########| 1/1 [00:02<00:00,  2.86s/it]\n",
      "Writing to binary .dat file:   0%|          | 0/1 [00:00<?, ?it/s]"
     ]
    },
    {
     "name": "stdout",
     "output_type": "stream",
     "text": [
      "DataIO <id: 140571275661024> \n",
      "  workdir: /mnt/d/freelance-work/catalyst-neuro/hussaini-lab-to-nwb/example_data_raw/tridescluous_group/2\n",
      "  sample_rate: 48000.0\n",
      "  total_channel: 4\n",
      "  channel_groups: 0 [ch0 ch1 ch2 ch3]\n",
      "  nb_segment: 1\n",
      "  length: 5760000\n",
      "  durations: 120.0 s.\n",
      "Local copy of recording\n"
     ]
    },
    {
     "name": "stderr",
     "output_type": "stream",
     "text": [
      "Writing to binary .dat file: 100%|##########| 1/1 [00:03<00:00,  3.13s/it]\n"
     ]
    },
    {
     "name": "stdout",
     "output_type": "stream",
     "text": [
      "DataIO <id: 140571266494080> \n",
      "  workdir: /mnt/d/freelance-work/catalyst-neuro/hussaini-lab-to-nwb/example_data_raw/tridescluous_group/3\n",
      "  sample_rate: 48000.0\n",
      "  total_channel: 4\n",
      "  channel_groups: 0 [ch0 ch1 ch2 ch3]\n",
      "  nb_segment: 1\n",
      "  length: 5760000\n",
      "  durations: 120.0 s.\n",
      "tridesclous run time 127.12s\n",
      "Tridesclous found 3 units\n"
     ]
    }
   ],
   "source": [
    "# run spike sorting by group\n",
    "sorting_TRI = ss.run_tridesclous(\n",
    "    r_cache, \n",
    "    os.path.join(dir_name, 'tridescluous_group'), \n",
    "    grouping_property='group', \n",
    "    parallel=True, \n",
    "    verbose=True\n",
    ")\n",
    "print(f'Tridesclous found {len(sorting_TRI.get_unit_ids())} units')"
   ]
  },
  {
   "cell_type": "markdown",
   "id": "imported-liverpool",
   "metadata": {},
   "source": [
    "Export spike sorting output from tridesclous."
   ]
  },
  {
   "cell_type": "code",
   "execution_count": 46,
   "id": "tamil-humanity",
   "metadata": {},
   "outputs": [],
   "source": [
    "se.MdaSortingExtractor.write_sorting(sorting=sorting_TRI, save_path=os.path.join(dir_name, 'tridesclous.mda'))"
   ]
  },
  {
   "cell_type": "markdown",
   "id": "matched-antique",
   "metadata": {},
   "source": [
    "Import spike sorting output from tridesclous."
   ]
  },
  {
   "cell_type": "code",
   "execution_count": 11,
   "id": "inner-typing",
   "metadata": {},
   "outputs": [
    {
     "name": "stdout",
     "output_type": "stream",
     "text": [
      "Unit ids = [0, 1, 2]\n",
      "Num. events for unit 1 = 260\n",
      "Num. events for first second of unit 1 = 2\n"
     ]
    }
   ],
   "source": [
    "sorting_TRI = se.MdaSortingExtractor( \n",
    "    file_path=os.path.join(dir_name, 'tridesclous.mda'),\n",
    "    sampling_frequency=48000\n",
    ")\n",
    "print('Unit ids = {}'.format(sorting_TRI.get_unit_ids()))\n",
    "spike_train = sorting_TRI.get_unit_spike_train(unit_id=1)\n",
    "print('Num. events for unit 1 = {}'.format(len(spike_train)))\n",
    "spike_train1 = sorting_TRI.get_unit_spike_train(unit_id=1, start_frame=0, end_frame=30000)\n",
    "print('Num. events for first second of unit 1 = {}'.format(len(spike_train1)))"
   ]
  },
  {
   "cell_type": "markdown",
   "id": "alive-plate",
   "metadata": {
    "id": "alive-plate"
   },
   "source": [
    "<a id='postprocessing'></a>\n",
    "# 6. Postprocessing\n",
    "[back to index](#index)\n",
    "\n",
    "The `postprocessing` submodule of `spiketoolkit` allows us to extract information from the combination of the recording and sorting extractors. For example, we can extract waveforms, templates, maximum channels and pca scores. In addition, we can compute waveform features that could be used for further processing, e.g. classyfing excitatory-inhibitory neurons. \n",
    "\n",
    "Feel free to also browse the [documentation](https://spikeinterface.readthedocs.io/en/latest/modules/toolkit/plot_2_postprocessing.ht) for postprocessing. "
   ]
  },
  {
   "cell_type": "markdown",
   "id": "gentle-attendance",
   "metadata": {},
   "source": [
    "Let's start by extracting waveforms."
   ]
  },
  {
   "cell_type": "code",
   "execution_count": 9,
   "id": "continued-glance",
   "metadata": {},
   "outputs": [],
   "source": [
    "st.postprocessing.get_unit_waveforms?"
   ]
  },
  {
   "cell_type": "code",
   "execution_count": 12,
   "id": "binary-twenty",
   "metadata": {
    "id": "binary-twenty",
    "outputId": "a098357d-98cf-4e48-bfdd-cdd7dc32c70c"
   },
   "outputs": [
    {
     "name": "stderr",
     "output_type": "stream",
     "text": [
      "Extracting waveforms in chunks: 100%|##########| 1/1 [00:00<00:00,  8.72it/s]"
     ]
    },
    {
     "name": "stdout",
     "output_type": "stream",
     "text": [
      "Number of chunks: 1 - Number of jobs: 1\n"
     ]
    },
    {
     "name": "stderr",
     "output_type": "stream",
     "text": [
      "\n"
     ]
    }
   ],
   "source": [
    "waveforms = st.postprocessing.get_unit_waveforms(r_cache, sorting_MS4, ms_before=0.2, ms_after=0.8, verbose=True)"
   ]
  },
  {
   "cell_type": "code",
   "execution_count": 13,
   "id": "backed-cleanup",
   "metadata": {
    "id": "backed-cleanup",
    "outputId": "f23978f3-e206-483d-b42f-d36a3ef983e8"
   },
   "outputs": [
    {
     "data": {
      "text/plain": [
       "(300, 13, 47)"
      ]
     },
     "execution_count": 13,
     "metadata": {},
     "output_type": "execute_result"
    }
   ],
   "source": [
    "waveforms[1].shape"
   ]
  },
  {
   "cell_type": "code",
   "execution_count": 14,
   "id": "convenient-eugene",
   "metadata": {},
   "outputs": [],
   "source": [
    "avg_waveforms = st.postprocessing.get_unit_templates(r_cache, sorting_MS4, max_spikes_per_unit=200,\n",
    "                                                     save_as_property=True, verbose=True)"
   ]
  },
  {
   "cell_type": "code",
   "execution_count": 19,
   "id": "skilled-tract",
   "metadata": {},
   "outputs": [
    {
     "name": "stderr",
     "output_type": "stream",
     "text": [
      "/mnt/d/spikeinterface/hussaini-to-nwb/tidy_venv/venv/lib/python3.8/site-packages/ipykernel/ipkernel.py:283: DeprecationWarning: `should_run_async` will not call `transform_cell` automatically in the future. Please pass the result to `transformed_cell` argument and any exception that happen during thetransform in `preprocessing_exc_tuple` in IPython 7.17 and above.\n",
      "  and should_run_async(code)\n"
     ]
    },
    {
     "data": {
      "text/plain": [
       "Text(0.5, 1.0, 'Average waveforms for three sample units')"
      ]
     },
     "execution_count": 19,
     "metadata": {},
     "output_type": "execute_result"
    },
    {
     "data": {
      "image/png": "[encoded data removed]",
      "text/plain": [
       "<Figure size 1080x576 with 2 Axes>"
      ]
     },
     "metadata": {
      "needs_background": "light"
     },
     "output_type": "display_data"
    }
   ],
   "source": [
    "fig, ax = plt.subplots(1, 2, figsize=(15,8))\n",
    "\n",
    "ax[0].plot(waveforms[0][:, 0, :].T, color='k', lw=0.3)\n",
    "ax[0].plot(waveforms[1][:, 0, :].T, color='r', lw=0.3)\n",
    "ax[0].plot(waveforms[2][:, 0, :].T, color='b', lw=0.3)\n",
    "ax[0].set_xlabel('Sample', fontsize=16)\n",
    "ax[0].set_ylabel('Amplitude', fontsize=16)\n",
    "ax[0].set_title('Individual waveforms for three sample units', fontsize=16)\n",
    "\n",
    "ax[1].plot(avg_waveforms[0][0].T, color='k', lw=0.3)\n",
    "ax[1].plot(avg_waveforms[1][0].T, color='r', lw=0.3)\n",
    "ax[1].plot(avg_waveforms[2][0].T, color='b', lw=0.3)\n",
    "ax[1].set_xlabel('Sample', fontsize=16)\n",
    "ax[1].set_title('Average waveforms for three sample units', fontsize=16)"
   ]
  },
  {
   "cell_type": "markdown",
   "id": "saving-milan",
   "metadata": {},
   "source": [
    "Similarly, we can get templates, maximum channels, and pca scores. \n",
    "When these are computed, they are automatically stored in the `SortingExtractor` object, so that they don't need to be recomputed. \n",
    "\n",
    "Each waveform is associated with a specific spike, so they are saved as spike *features*:\n"
   ]
  },
  {
   "cell_type": "markdown",
   "id": "assigned-pride",
   "metadata": {},
   "source": [
    "You may have noticed that 300 waveforms were extracted from the spike train of the first unit. However, it has more spikes:"
   ]
  },
  {
   "cell_type": "code",
   "execution_count": 20,
   "id": "regulation-password",
   "metadata": {
    "id": "regulation-password",
    "outputId": "d2533c4a-9716-48ab-b552-236ed7126ec8"
   },
   "outputs": [
    {
     "name": "stderr",
     "output_type": "stream",
     "text": [
      "/mnt/d/spikeinterface/hussaini-to-nwb/tidy_venv/venv/lib/python3.8/site-packages/ipykernel/ipkernel.py:283: DeprecationWarning: `should_run_async` will not call `transform_cell` automatically in the future. Please pass the result to `transformed_cell` argument and any exception that happen during thetransform in `preprocessing_exc_tuple` in IPython 7.17 and above.\n",
      "  and should_run_async(code)\n",
      "/mnt/d/spikeinterface/spikeextractors/spikeextractors/extraction_tools.py:847: DeprecationWarning: `np.float` is a deprecated alias for the builtin `float`. To silence this warning, use `float` by itself. Doing this will not modify any behavior and is safe. If you specifically wanted the numpy scalar type, use `np.float64` here.\n",
      "Deprecated in NumPy 1.20; for more details and guidance: https://numpy.org/devdocs/release/1.20.0-notes.html#deprecations\n",
      "  if isinstance(start_frame, (float, np.float)):\n",
      "/mnt/d/spikeinterface/spikeextractors/spikeextractors/extraction_tools.py:853: DeprecationWarning: `np.float` is a deprecated alias for the builtin `float`. To silence this warning, use `float` by itself. Doing this will not modify any behavior and is safe. If you specifically wanted the numpy scalar type, use `np.float64` here.\n",
      "Deprecated in NumPy 1.20; for more details and guidance: https://numpy.org/devdocs/release/1.20.0-notes.html#deprecations\n",
      "  if isinstance(end_frame, (float, np.float)) and np.isfinite(end_frame):\n"
     ]
    },
    {
     "data": {
      "text/plain": [
       "15529"
      ]
     },
     "execution_count": 20,
     "metadata": {},
     "output_type": "execute_result"
    }
   ],
   "source": [
    "len(sorting_MS4.get_unit_spike_train(1))"
   ]
  },
  {
   "cell_type": "markdown",
   "id": "available-lender",
   "metadata": {},
   "source": [
    "This is because it can be convenient to only compute a subset of waveforms to speed up the calculation. The `waveform_idxs` property contains the spike indexes associated with the waveforms."
   ]
  },
  {
   "cell_type": "code",
   "execution_count": 21,
   "id": "fuzzy-gentleman",
   "metadata": {
    "id": "fuzzy-gentleman",
    "outputId": "d7d2ac3d-41e2-44a5-ec4d-1f0badc36389"
   },
   "outputs": [
    {
     "data": {
      "text/plain": [
       "['waveforms', 'waveforms_idxs']"
      ]
     },
     "execution_count": 21,
     "metadata": {},
     "output_type": "execute_result"
    }
   ],
   "source": [
    "sorting_MS4.get_shared_unit_spike_feature_names()"
   ]
  },
  {
   "cell_type": "code",
   "execution_count": 22,
   "id": "executive-acrylic",
   "metadata": {
    "id": "executive-acrylic",
    "outputId": "c278007a-1767-41bd-8485-595ba7dd0dfd"
   },
   "outputs": [
    {
     "name": "stdout",
     "output_type": "stream",
     "text": [
      "[   22    31    88   120   168   278   308   404   439   571   609   617\n",
      "   683   686   759   957   964   980   997  1018  1114  1172  1180  1190\n",
      "  1194  1416  1471  1522  1618  1726  1876  1877  1909  1973  2091  2103\n",
      "  2109  2238  2281  2296  2310  2436  2447  2462  2464  2470  2583  2600\n",
      "  2617  2623  2680  2742  2852  2853  2887  2894  2900  2955  3106  3161\n",
      "  3173  3182  3240  3259  3298  3507  3544  3588  3972  3992  4064  4100\n",
      "  4204  4260  4263  4296  4308  4343  4379  4422  4442  4454  4507  4566\n",
      "  4608  4623  4739  4804  4888  4934  4981  5053  5061  5212  5317  5332\n",
      "  5340  5353  5407  5448  5509  5527  5539  5590  5603  5621  5627  5760\n",
      "  5809  5856  5888  5920  5921  5957  5962  5993  6019  6107  6145  6196\n",
      "  6273  6319  6415  6417  6459  6508  6723  6761  6779  6782  6886  6992\n",
      "  6994  6999  7005  7084  7138  7273  7320  7338  7412  7474  7528  7538\n",
      "  7540  7561  7580  7588  7604  7685  7687  7709  7710  7840  7896  8004\n",
      "  8044  8200  8261  8285  8335  8412  8444  8507  8564  8589  8640  8681\n",
      "  8709  8762  8801  8946  8952  8962  8964  9005  9053  9068  9142  9171\n",
      "  9234  9296  9326  9328  9367  9376  9469  9497  9599  9616  9656  9663\n",
      "  9708  9813  9837  9933  9954  9973 10097 10331 10527 10559 10571 10657\n",
      " 10659 10680 10768 10805 10819 10961 11105 11109 11141 11155 11196 11198\n",
      " 11222 11267 11285 11312 11373 11379 11410 11454 11487 11516 11566 11672\n",
      " 11740 11742 11750 11849 11910 11916 12189 12200 12202 12269 12346 12364\n",
      " 12434 12481 12576 12767 12824 12956 13076 13099 13146 13150 13214 13244\n",
      " 13246 13464 13492 13506 13522 13613 13659 13756 13764 13789 13816 13839\n",
      " 13849 13854 13861 13879 13893 13940 13943 13990 14093 14100 14127 14166\n",
      " 14291 14295 14485 14540 14722 14746 14778 14787 14893 14911 14986 15024\n",
      " 15066 15071 15127 15200 15217 15229 15291 15301 15318 15451 15481 15504]\n"
     ]
    }
   ],
   "source": [
    "print(sorting_MS4.get_unit_spike_features(1, 'waveforms_idxs'))"
   ]
  },
  {
   "cell_type": "markdown",
   "id": "duplicate-mathematics",
   "metadata": {},
   "source": [
    "Since waveforms are already computed, the next time we (or another function - e.g. `get_unit_templates()`) call it it will just return the stored waveforms."
   ]
  },
  {
   "cell_type": "code",
   "execution_count": 23,
   "id": "different-dubai",
   "metadata": {},
   "outputs": [],
   "source": [
    "waveforms = st.postprocessing.get_unit_waveforms(r_cache, sorting_MS4, verbose=True)"
   ]
  },
  {
   "cell_type": "markdown",
   "id": "focal-state",
   "metadata": {},
   "source": [
    "Lighthing fast! \n",
    "\n",
    "If we want to recompute the waveforms, for example because we want to extract the waveforms divided by group, we can use the `recompute_info` argument (available for all `postprocessing`, `validation`, and `curation` functions):"
   ]
  },
  {
   "cell_type": "markdown",
   "id": "featured-communications",
   "metadata": {},
   "source": [
    "Where are waveforms stored? We have seen above that each `Extractor` object has an associated tmp folder. Waveforms (and other features, e.g. pca scores) are stored in this folder as binary files:"
   ]
  },
  {
   "cell_type": "code",
   "execution_count": 24,
   "id": "british-anniversary",
   "metadata": {
    "id": "british-anniversary",
    "outputId": "edca8613-cb64-4c73-ac4a-78bf63fa517f"
   },
   "outputs": [
    {
     "name": "stdout",
     "output_type": "stream",
     "text": [
      "/tmp/tmpu93n8tl2\n",
      "['waveforms_18.raw', 'waveforms_17.raw', 'waveforms_16.raw', 'waveforms_6.raw', 'waveforms_8.raw', 'waveforms_3.raw', 'waveforms_2.raw', 'waveforms_23.raw', 'waveforms_11.raw', 'waveforms_20.raw', 'waveforms_22.raw', 'waveforms_21.raw', 'waveforms_0.raw', 'waveforms_13.raw', 'waveforms_19.raw', 'waveforms_12.raw', 'waveforms_9.raw', 'waveforms_5.raw', 'waveforms_10.raw', 'waveforms_4.raw', 'waveforms_7.raw', 'waveforms_15.raw', 'waveforms_1.raw', 'waveforms_14.raw', 'waveforms_24.raw']\n"
     ]
    }
   ],
   "source": [
    "tmp_folder = sorting_MS4.get_tmp_folder()\n",
    "print(tmp_folder)\n",
    "print([(p.name) for p in tmp_folder.iterdir()])"
   ]
  },
  {
   "cell_type": "code",
   "execution_count": 25,
   "id": "parliamentary-shame",
   "metadata": {
    "id": "parliamentary-shame",
    "outputId": "26e7e299-25c5-4e97-da59-04a427a2178d"
   },
   "outputs": [
    {
     "name": "stdout",
     "output_type": "stream",
     "text": [
      "Number of chunks: 1 - Number of jobs: 1\n"
     ]
    },
    {
     "name": "stderr",
     "output_type": "stream",
     "text": [
      "Extracting waveforms in chunks: 100%|##########| 1/1 [00:02<00:00,  2.61s/it]\n",
      "/mnt/d/spikeinterface/hussaini-to-nwb/tidy_venv/venv/lib/python3.8/site-packages/spiketoolkit/postprocessing/postprocessing_tools.py:302: UserWarning: Grouping property not in sorting extractor. Computing it from the recording extractor\n",
      "  warnings.warn('Grouping property not in sorting extractor. Computing it from the recording extractor')\n"
     ]
    }
   ],
   "source": [
    "waveforms_group = st.postprocessing.get_unit_waveforms(\n",
    "    r_cache,\n",
    "    sorting_MS4,\n",
    "    max_spikes_per_unit=None, \n",
    "    grouping_property='group',\n",
    "    recompute_info=True,\n",
    "    verbose=True\n",
    ")"
   ]
  },
  {
   "cell_type": "code",
   "execution_count": 26,
   "id": "parallel-trout",
   "metadata": {
    "id": "parallel-trout",
    "outputId": "f4a8003f-7ddd-40ae-9a21-d800c696d7e4"
   },
   "outputs": [
    {
     "data": {
      "text/plain": [
       "['template', 'waveforms_channel_idxs']"
      ]
     },
     "execution_count": 26,
     "metadata": {},
     "output_type": "execute_result"
    }
   ],
   "source": [
    "sorting_MS4.get_shared_unit_property_names()"
   ]
  },
  {
   "cell_type": "code",
   "execution_count": 27,
   "id": "saving-forge",
   "metadata": {
    "id": "saving-forge",
    "outputId": "2dd981f3-c519-499d-b65a-58a73c48573d"
   },
   "outputs": [
    {
     "name": "stdout",
     "output_type": "stream",
     "text": [
      "(9744, 2, 288)\n",
      "(15529, 2, 288)\n",
      "(5275, 3, 288)\n",
      "(2002, 3, 288)\n",
      "(747, 3, 288)\n",
      "(5849, 3, 288)\n",
      "(249, 3, 288)\n",
      "(5021, 3, 288)\n",
      "(7383, 3, 288)\n",
      "(861, 4, 288)\n",
      "(4408, 4, 288)\n",
      "(959, 4, 288)\n",
      "(2220, 4, 288)\n",
      "(5199, 4, 288)\n",
      "(546, 4, 288)\n",
      "(733, 4, 288)\n",
      "(6264, 4, 288)\n",
      "(1115, 4, 288)\n",
      "(1684, 4, 288)\n",
      "(3888, 4, 288)\n",
      "(7302, 4, 288)\n",
      "(4589, 4, 288)\n",
      "(7055, 4, 288)\n",
      "(14349, 4, 288)\n",
      "(7907, 4, 288)\n"
     ]
    }
   ],
   "source": [
    "for wf in waveforms_group:\n",
    "    print(wf.shape)"
   ]
  },
  {
   "cell_type": "markdown",
   "id": "alternate-civilian",
   "metadata": {},
   "source": [
    "We can use `spikewidgets` to quickly inspect the spike sorting output:"
   ]
  },
  {
   "cell_type": "code",
   "execution_count": 28,
   "id": "outside-tiger",
   "metadata": {},
   "outputs": [
    {
     "data": {
      "text/plain": [
       "'/mnt/d/freelance-work/catalyst-neuro/hussaini-lab-to-nwb/example_data_raw'"
      ]
     },
     "execution_count": 28,
     "metadata": {},
     "output_type": "execute_result"
    }
   ],
   "source": [
    "dir_name"
   ]
  },
  {
   "cell_type": "code",
   "execution_count": 29,
   "id": "destroyed-renewal",
   "metadata": {},
   "outputs": [
    {
     "data": {
      "text/plain": [
       "[0,\n",
       " 1,\n",
       " 2,\n",
       " 3,\n",
       " 4,\n",
       " 5,\n",
       " 6,\n",
       " 7,\n",
       " 8,\n",
       " 9,\n",
       " 10,\n",
       " 11,\n",
       " 12,\n",
       " 13,\n",
       " 14,\n",
       " 15,\n",
       " 16,\n",
       " 17,\n",
       " 18,\n",
       " 19,\n",
       " 20,\n",
       " 21,\n",
       " 22,\n",
       " 23,\n",
       " 24]"
      ]
     },
     "execution_count": 29,
     "metadata": {},
     "output_type": "execute_result"
    }
   ],
   "source": [
    "sorting_MS4.get_unit_ids()"
   ]
  },
  {
   "cell_type": "code",
   "execution_count": 30,
   "id": "linear-occasion",
   "metadata": {
    "id": "linear-occasion",
    "outputId": "2dc097bb-17d8-4ef5-af1b-5515adde7410"
   },
   "outputs": [
    {
     "data": {
      "image/png": "[encoded data removed]",
      "text/plain": [
       "<Figure size 432x288 with 4 Axes>"
      ]
     },
     "metadata": {
      "needs_background": "light"
     },
     "output_type": "display_data"
    }
   ],
   "source": [
    "w_wf = sw.plot_unit_templates(sorting=sorting_TRI, recording=r_cache)"
   ]
  },
  {
   "cell_type": "code",
   "execution_count": 31,
   "id": "behind-transmission",
   "metadata": {
    "id": "behind-transmission",
    "outputId": "c6eb8615-7062-4fcb-84ff-c1eefd2f19ef"
   },
   "outputs": [
    {
     "name": "stderr",
     "output_type": "stream",
     "text": [
      "/mnt/d/spikeinterface/hussaini-to-nwb/tidy_venv/venv/lib/python3.8/site-packages/ipykernel/ipkernel.py:283: DeprecationWarning: `should_run_async` will not call `transform_cell` automatically in the future. Please pass the result to `transformed_cell` argument and any exception that happen during thetransform in `preprocessing_exc_tuple` in IPython 7.17 and above.\n",
      "  and should_run_async(code)\n",
      "/mnt/d/spikeinterface/spikeextractors/spikeextractors/extraction_tools.py:847: DeprecationWarning: `np.float` is a deprecated alias for the builtin `float`. To silence this warning, use `float` by itself. Doing this will not modify any behavior and is safe. If you specifically wanted the numpy scalar type, use `np.float64` here.\n",
      "Deprecated in NumPy 1.20; for more details and guidance: https://numpy.org/devdocs/release/1.20.0-notes.html#deprecations\n",
      "  if isinstance(start_frame, (float, np.float)):\n",
      "/mnt/d/spikeinterface/spikeextractors/spikeextractors/extraction_tools.py:853: DeprecationWarning: `np.float` is a deprecated alias for the builtin `float`. To silence this warning, use `float` by itself. Doing this will not modify any behavior and is safe. If you specifically wanted the numpy scalar type, use `np.float64` here.\n",
      "Deprecated in NumPy 1.20; for more details and guidance: https://numpy.org/devdocs/release/1.20.0-notes.html#deprecations\n",
      "  if isinstance(end_frame, (float, np.float)) and np.isfinite(end_frame):\n",
      "/mnt/d/spikeinterface/hussaini-to-nwb/tidy_venv/venv/lib/python3.8/site-packages/spikewidgets/widgets/correlogramswidget/correlograms_phy.py:21: DeprecationWarning: `np.int` is a deprecated alias for the builtin `int`. To silence this warning, use `int` by itself. Doing this will not modify any behavior and is safe. When replacing `np.int`, you may wish to use e.g. `np.int64` or `np.int32` to specify the precision. If you wish to review your current use, check the release note link for additional information.\n",
      "Deprecated in NumPy 1.20; for more details and guidance: https://numpy.org/devdocs/release/1.20.0-notes.html#deprecations\n",
      "  tmp = np.zeros(m + 1, dtype=np.int)\n",
      "/mnt/d/spikeinterface/hussaini-to-nwb/tidy_venv/venv/lib/python3.8/site-packages/spikewidgets/widgets/correlogramswidget/correlograms_phy.py:129: DeprecationWarning: `np.bool` is a deprecated alias for the builtin `bool`. To silence this warning, use `bool` by itself. Doing this will not modify any behavior and is safe. If you specifically wanted the numpy scalar type, use `np.bool_` here.\n",
      "Deprecated in NumPy 1.20; for more details and guidance: https://numpy.org/devdocs/release/1.20.0-notes.html#deprecations\n",
      "  mask = np.ones_like(spike_samples, dtype=np.bool)\n"
     ]
    },
    {
     "data": {
      "image/png": "[encoded data removed]",
      "text/plain": [
       "<Figure size 432x288 with 13 Axes>"
      ]
     },
     "metadata": {
      "needs_background": "light"
     },
     "output_type": "display_data"
    }
   ],
   "source": [
    "w_acc = sw.plot_autocorrelograms(sorting_MS4, unit_ids=[0,1,2,3,4,5,6,7,8,9,10,11])"
   ]
  },
  {
   "cell_type": "markdown",
   "id": "incomplete-bankruptcy",
   "metadata": {
    "id": "incomplete-bankruptcy"
   },
   "source": [
    "### Compute extracellular features\n",
    "[back to index](#index)\n",
    "\n",
    "Extracellular features, such as peak to valley duration or full-width half maximum, are important to classify neurons into putative classes (excitatory - inhibitory). The `postprocessing` module of `spiketoolkit` allows one to compute several of these features:"
   ]
  },
  {
   "cell_type": "code",
   "execution_count": 32,
   "id": "metric-makeup",
   "metadata": {
    "id": "metric-makeup",
    "outputId": "a1ae3196-461f-46ea-aa22-18f7530a803e"
   },
   "outputs": [
    {
     "name": "stderr",
     "output_type": "stream",
     "text": [
      "/mnt/d/spikeinterface/hussaini-to-nwb/tidy_venv/venv/lib/python3.8/site-packages/ipykernel/ipkernel.py:283: DeprecationWarning: `should_run_async` will not call `transform_cell` automatically in the future. Please pass the result to `transformed_cell` argument and any exception that happen during thetransform in `preprocessing_exc_tuple` in IPython 7.17 and above.\n",
      "  and should_run_async(code)\n"
     ]
    },
    {
     "data": {
      "text/plain": [
       "['peak_to_valley',\n",
       " 'halfwidth',\n",
       " 'peak_trough_ratio',\n",
       " 'repolarization_slope',\n",
       " 'recovery_slope']"
      ]
     },
     "execution_count": 32,
     "metadata": {},
     "output_type": "execute_result"
    }
   ],
   "source": [
    "st.postprocessing.get_template_features_list()"
   ]
  },
  {
   "cell_type": "code",
   "execution_count": 33,
   "id": "false-transmission",
   "metadata": {
    "id": "false-transmission",
    "outputId": "387766f9-6a88-4a29-ab36-5b625b5e04cf"
   },
   "outputs": [
    {
     "name": "stderr",
     "output_type": "stream",
     "text": [
      "/mnt/d/spikeinterface/spikeextractors/spikeextractors/extraction_tools.py:847: DeprecationWarning: `np.float` is a deprecated alias for the builtin `float`. To silence this warning, use `float` by itself. Doing this will not modify any behavior and is safe. If you specifically wanted the numpy scalar type, use `np.float64` here.\n",
      "Deprecated in NumPy 1.20; for more details and guidance: https://numpy.org/devdocs/release/1.20.0-notes.html#deprecations\n",
      "  if isinstance(start_frame, (float, np.float)):\n",
      "/mnt/d/spikeinterface/spikeextractors/spikeextractors/extraction_tools.py:853: DeprecationWarning: `np.float` is a deprecated alias for the builtin `float`. To silence this warning, use `float` by itself. Doing this will not modify any behavior and is safe. If you specifically wanted the numpy scalar type, use `np.float64` here.\n",
      "Deprecated in NumPy 1.20; for more details and guidance: https://numpy.org/devdocs/release/1.20.0-notes.html#deprecations\n",
      "  if isinstance(end_frame, (float, np.float)) and np.isfinite(end_frame):\n",
      "/mnt/d/spikeinterface/hussaini-to-nwb/tidy_venv/venv/lib/python3.8/site-packages/spikefeatures/features.py:206: DeprecationWarning: `np.int` is a deprecated alias for the builtin `int`. To silence this warning, use `int` by itself. Doing this will not modify any behavior and is safe. When replacing `np.int`, you may wish to use e.g. `np.int64` or `np.int32` to specify the precision. If you wish to review your current use, check the release note link for additional information.\n",
      "Deprecated in NumPy 1.20; for more details and guidance: https://numpy.org/devdocs/release/1.20.0-notes.html#deprecations\n",
      "  return_to_base_idx = np.empty(waveforms.shape[0], dtype=np.int)\n"
     ]
    },
    {
     "data": {
      "text/html": [
       "<div>\n",
       "<style scoped>\n",
       "    .dataframe tbody tr th:only-of-type {\n",
       "        vertical-align: middle;\n",
       "    }\n",
       "\n",
       "    .dataframe tbody tr th {\n",
       "        vertical-align: top;\n",
       "    }\n",
       "\n",
       "    .dataframe thead th {\n",
       "        text-align: right;\n",
       "    }\n",
       "</style>\n",
       "<table border=\"1\" class=\"dataframe\">\n",
       "  <thead>\n",
       "    <tr style=\"text-align: right;\">\n",
       "      <th></th>\n",
       "      <th>peak_to_valley</th>\n",
       "      <th>halfwidth</th>\n",
       "      <th>peak_trough_ratio</th>\n",
       "      <th>repolarization_slope</th>\n",
       "      <th>recovery_slope</th>\n",
       "    </tr>\n",
       "  </thead>\n",
       "  <tbody>\n",
       "    <tr>\n",
       "      <th>0</th>\n",
       "      <td>0.000454</td>\n",
       "      <td>0.001313</td>\n",
       "      <td>-0.822078</td>\n",
       "      <td>1.479297e+08</td>\n",
       "      <td>-2.690334e+07</td>\n",
       "    </tr>\n",
       "    <tr>\n",
       "      <th>1</th>\n",
       "      <td>0.000948</td>\n",
       "      <td>0.000152</td>\n",
       "      <td>-0.288772</td>\n",
       "      <td>2.530228e+07</td>\n",
       "      <td>-5.300692e+06</td>\n",
       "    </tr>\n",
       "    <tr>\n",
       "      <th>2</th>\n",
       "      <td>0.000287</td>\n",
       "      <td>0.000125</td>\n",
       "      <td>-0.247867</td>\n",
       "      <td>1.973143e+08</td>\n",
       "      <td>-6.897874e+06</td>\n",
       "    </tr>\n",
       "    <tr>\n",
       "      <th>3</th>\n",
       "      <td>0.000133</td>\n",
       "      <td>0.000106</td>\n",
       "      <td>-0.261291</td>\n",
       "      <td>2.351346e+08</td>\n",
       "      <td>-3.590821e+06</td>\n",
       "    </tr>\n",
       "    <tr>\n",
       "      <th>4</th>\n",
       "      <td>0.000325</td>\n",
       "      <td>0.001112</td>\n",
       "      <td>-0.457362</td>\n",
       "      <td>5.846728e+07</td>\n",
       "      <td>-9.773711e+06</td>\n",
       "    </tr>\n",
       "    <tr>\n",
       "      <th>5</th>\n",
       "      <td>0.000148</td>\n",
       "      <td>0.000119</td>\n",
       "      <td>-0.235470</td>\n",
       "      <td>1.871515e+08</td>\n",
       "      <td>-3.913906e+06</td>\n",
       "    </tr>\n",
       "    <tr>\n",
       "      <th>6</th>\n",
       "      <td>0.000123</td>\n",
       "      <td>0.000092</td>\n",
       "      <td>-0.784116</td>\n",
       "      <td>2.545497e+08</td>\n",
       "      <td>-1.082400e+07</td>\n",
       "    </tr>\n",
       "    <tr>\n",
       "      <th>7</th>\n",
       "      <td>0.000481</td>\n",
       "      <td>0.000133</td>\n",
       "      <td>-0.259324</td>\n",
       "      <td>1.514430e+08</td>\n",
       "      <td>-6.887637e+06</td>\n",
       "    </tr>\n",
       "    <tr>\n",
       "      <th>8</th>\n",
       "      <td>0.000138</td>\n",
       "      <td>0.000102</td>\n",
       "      <td>-0.361529</td>\n",
       "      <td>2.078120e+08</td>\n",
       "      <td>-4.759150e+06</td>\n",
       "    </tr>\n",
       "    <tr>\n",
       "      <th>9</th>\n",
       "      <td>0.000140</td>\n",
       "      <td>0.000113</td>\n",
       "      <td>-0.212693</td>\n",
       "      <td>1.838417e+08</td>\n",
       "      <td>-2.425513e+06</td>\n",
       "    </tr>\n",
       "    <tr>\n",
       "      <th>10</th>\n",
       "      <td>0.000600</td>\n",
       "      <td>0.000138</td>\n",
       "      <td>-0.070271</td>\n",
       "      <td>2.729649e+07</td>\n",
       "      <td>-1.451041e+06</td>\n",
       "    </tr>\n",
       "    <tr>\n",
       "      <th>11</th>\n",
       "      <td>0.000331</td>\n",
       "      <td>0.000165</td>\n",
       "      <td>-0.605527</td>\n",
       "      <td>1.436367e+08</td>\n",
       "      <td>-1.906598e+07</td>\n",
       "    </tr>\n",
       "    <tr>\n",
       "      <th>12</th>\n",
       "      <td>0.000665</td>\n",
       "      <td>0.002185</td>\n",
       "      <td>-1.033265</td>\n",
       "      <td>2.742492e+08</td>\n",
       "      <td>-8.546881e+07</td>\n",
       "    </tr>\n",
       "    <tr>\n",
       "      <th>13</th>\n",
       "      <td>0.000267</td>\n",
       "      <td>0.000129</td>\n",
       "      <td>-0.228426</td>\n",
       "      <td>9.307753e+07</td>\n",
       "      <td>-3.465681e+06</td>\n",
       "    </tr>\n",
       "    <tr>\n",
       "      <th>14</th>\n",
       "      <td>0.000138</td>\n",
       "      <td>0.000090</td>\n",
       "      <td>-0.635711</td>\n",
       "      <td>3.194019e+08</td>\n",
       "      <td>-1.184384e+07</td>\n",
       "    </tr>\n",
       "    <tr>\n",
       "      <th>15</th>\n",
       "      <td>0.000140</td>\n",
       "      <td>0.000113</td>\n",
       "      <td>-0.255485</td>\n",
       "      <td>1.673933e+08</td>\n",
       "      <td>-2.472019e+06</td>\n",
       "    </tr>\n",
       "    <tr>\n",
       "      <th>16</th>\n",
       "      <td>0.000148</td>\n",
       "      <td>0.000110</td>\n",
       "      <td>-0.178598</td>\n",
       "      <td>1.720274e+08</td>\n",
       "      <td>-2.507036e+06</td>\n",
       "    </tr>\n",
       "    <tr>\n",
       "      <th>17</th>\n",
       "      <td>0.000213</td>\n",
       "      <td>0.000117</td>\n",
       "      <td>-0.324347</td>\n",
       "      <td>1.984133e+08</td>\n",
       "      <td>-9.534530e+06</td>\n",
       "    </tr>\n",
       "    <tr>\n",
       "      <th>18</th>\n",
       "      <td>0.000152</td>\n",
       "      <td>0.000115</td>\n",
       "      <td>-0.077874</td>\n",
       "      <td>1.578739e+08</td>\n",
       "      <td>-2.181116e+05</td>\n",
       "    </tr>\n",
       "  </tbody>\n",
       "</table>\n",
       "</div>"
      ],
      "text/plain": [
       "    peak_to_valley  halfwidth  peak_trough_ratio  repolarization_slope  \\\n",
       "0         0.000454   0.001313          -0.822078          1.479297e+08   \n",
       "1         0.000948   0.000152          -0.288772          2.530228e+07   \n",
       "2         0.000287   0.000125          -0.247867          1.973143e+08   \n",
       "3         0.000133   0.000106          -0.261291          2.351346e+08   \n",
       "4         0.000325   0.001112          -0.457362          5.846728e+07   \n",
       "5         0.000148   0.000119          -0.235470          1.871515e+08   \n",
       "6         0.000123   0.000092          -0.784116          2.545497e+08   \n",
       "7         0.000481   0.000133          -0.259324          1.514430e+08   \n",
       "8         0.000138   0.000102          -0.361529          2.078120e+08   \n",
       "9         0.000140   0.000113          -0.212693          1.838417e+08   \n",
       "10        0.000600   0.000138          -0.070271          2.729649e+07   \n",
       "11        0.000331   0.000165          -0.605527          1.436367e+08   \n",
       "12        0.000665   0.002185          -1.033265          2.742492e+08   \n",
       "13        0.000267   0.000129          -0.228426          9.307753e+07   \n",
       "14        0.000138   0.000090          -0.635711          3.194019e+08   \n",
       "15        0.000140   0.000113          -0.255485          1.673933e+08   \n",
       "16        0.000148   0.000110          -0.178598          1.720274e+08   \n",
       "17        0.000213   0.000117          -0.324347          1.984133e+08   \n",
       "18        0.000152   0.000115          -0.077874          1.578739e+08   \n",
       "\n",
       "    recovery_slope  \n",
       "0    -2.690334e+07  \n",
       "1    -5.300692e+06  \n",
       "2    -6.897874e+06  \n",
       "3    -3.590821e+06  \n",
       "4    -9.773711e+06  \n",
       "5    -3.913906e+06  \n",
       "6    -1.082400e+07  \n",
       "7    -6.887637e+06  \n",
       "8    -4.759150e+06  \n",
       "9    -2.425513e+06  \n",
       "10   -1.451041e+06  \n",
       "11   -1.906598e+07  \n",
       "12   -8.546881e+07  \n",
       "13   -3.465681e+06  \n",
       "14   -1.184384e+07  \n",
       "15   -2.472019e+06  \n",
       "16   -2.507036e+06  \n",
       "17   -9.534530e+06  \n",
       "18   -2.181116e+05  "
      ]
     },
     "metadata": {},
     "output_type": "display_data"
    }
   ],
   "source": [
    "features = st.postprocessing.compute_unit_template_features(\n",
    "    r_cache, \n",
    "    sorting_KL, \n",
    "    as_dataframe=True, \n",
    "    upsampling_factor=10\n",
    ")\n",
    "display(features)"
   ]
  },
  {
   "cell_type": "markdown",
   "id": "declared-factory",
   "metadata": {
    "id": "declared-factory"
   },
   "source": [
    "For more information about these waveform features, we refer to this [documentation](https://github.com/AllenInstitute/ecephys_spike_sorting/tree/master/ecephys_spike_sorting/modules/mean_waveforms) from the Allen Institute."
   ]
  },
  {
   "cell_type": "markdown",
   "id": "accredited-charity",
   "metadata": {},
   "source": [
    "### Validation\n",
    "[back to index](#index)\n",
    "\n",
    "The `spiketoolkit` package also provides several functions to compute qualitity metrics about the spike sorting results through the `validation` module.\n",
    "\n",
    "Let's see what metrics are available:"
   ]
  },
  {
   "cell_type": "code",
   "execution_count": 34,
   "id": "secure-gambling",
   "metadata": {},
   "outputs": [
    {
     "name": "stderr",
     "output_type": "stream",
     "text": [
      "/mnt/d/spikeinterface/hussaini-to-nwb/tidy_venv/venv/lib/python3.8/site-packages/ipykernel/ipkernel.py:283: DeprecationWarning: `should_run_async` will not call `transform_cell` automatically in the future. Please pass the result to `transformed_cell` argument and any exception that happen during thetransform in `preprocessing_exc_tuple` in IPython 7.17 and above.\n",
      "  and should_run_async(code)\n"
     ]
    },
    {
     "data": {
      "text/plain": [
       "['num_spikes',\n",
       " 'firing_rate',\n",
       " 'presence_ratio',\n",
       " 'isi_violation',\n",
       " 'amplitude_cutoff',\n",
       " 'snr',\n",
       " 'max_drift',\n",
       " 'cumulative_drift',\n",
       " 'silhouette_score',\n",
       " 'isolation_distance',\n",
       " 'l_ratio',\n",
       " 'd_prime',\n",
       " 'noise_overlap',\n",
       " 'nn_hit_rate',\n",
       " 'nn_miss_rate']"
      ]
     },
     "execution_count": 34,
     "metadata": {},
     "output_type": "execute_result"
    }
   ],
   "source": [
    "st.validation.get_quality_metrics_list()"
   ]
  },
  {
   "cell_type": "markdown",
   "id": "behavioral-wallpaper",
   "metadata": {},
   "source": [
    "We can compute a subset of quality metrics using the `compute_quality_metrics` function. \n"
   ]
  },
  {
   "cell_type": "code",
   "execution_count": 35,
   "id": "duplicate-bicycle",
   "metadata": {
    "id": "duplicate-bicycle",
    "outputId": "1df0e432-5540-4282-cb73-1ebd359be9b1",
    "scrolled": true
   },
   "outputs": [
    {
     "name": "stderr",
     "output_type": "stream",
     "text": [
      "/mnt/d/spikeinterface/spikeextractors/spikeextractors/extraction_tools.py:847: DeprecationWarning: `np.float` is a deprecated alias for the builtin `float`. To silence this warning, use `float` by itself. Doing this will not modify any behavior and is safe. If you specifically wanted the numpy scalar type, use `np.float64` here.\n",
      "Deprecated in NumPy 1.20; for more details and guidance: https://numpy.org/devdocs/release/1.20.0-notes.html#deprecations\n",
      "  if isinstance(start_frame, (float, np.float)):\n",
      "/mnt/d/spikeinterface/spikeextractors/spikeextractors/extraction_tools.py:853: DeprecationWarning: `np.float` is a deprecated alias for the builtin `float`. To silence this warning, use `float` by itself. Doing this will not modify any behavior and is safe. If you specifically wanted the numpy scalar type, use `np.float64` here.\n",
      "Deprecated in NumPy 1.20; for more details and guidance: https://numpy.org/devdocs/release/1.20.0-notes.html#deprecations\n",
      "  if isinstance(end_frame, (float, np.float)) and np.isfinite(end_frame):\n"
     ]
    },
    {
     "data": {
      "text/html": [
       "<div>\n",
       "<style scoped>\n",
       "    .dataframe tbody tr th:only-of-type {\n",
       "        vertical-align: middle;\n",
       "    }\n",
       "\n",
       "    .dataframe tbody tr th {\n",
       "        vertical-align: top;\n",
       "    }\n",
       "\n",
       "    .dataframe thead th {\n",
       "        text-align: right;\n",
       "    }\n",
       "</style>\n",
       "<table border=\"1\" class=\"dataframe\">\n",
       "  <thead>\n",
       "    <tr style=\"text-align: right;\">\n",
       "      <th></th>\n",
       "      <th>firing_rate</th>\n",
       "      <th>isi_violation</th>\n",
       "      <th>snr</th>\n",
       "    </tr>\n",
       "  </thead>\n",
       "  <tbody>\n",
       "    <tr>\n",
       "      <th>0</th>\n",
       "      <td>0.225000</td>\n",
       "      <td>552.533886</td>\n",
       "      <td>5.839627</td>\n",
       "    </tr>\n",
       "    <tr>\n",
       "      <th>1</th>\n",
       "      <td>3.208333</td>\n",
       "      <td>87.774327</td>\n",
       "      <td>4.278765</td>\n",
       "    </tr>\n",
       "    <tr>\n",
       "      <th>2</th>\n",
       "      <td>8.175000</td>\n",
       "      <td>0.795247</td>\n",
       "      <td>5.276598</td>\n",
       "    </tr>\n",
       "    <tr>\n",
       "      <th>3</th>\n",
       "      <td>27.708333</td>\n",
       "      <td>0.790611</td>\n",
       "      <td>4.922427</td>\n",
       "    </tr>\n",
       "    <tr>\n",
       "      <th>4</th>\n",
       "      <td>0.091667</td>\n",
       "      <td>332.890250</td>\n",
       "      <td>5.291782</td>\n",
       "    </tr>\n",
       "    <tr>\n",
       "      <th>5</th>\n",
       "      <td>12.033333</td>\n",
       "      <td>0.676114</td>\n",
       "      <td>4.750414</td>\n",
       "    </tr>\n",
       "    <tr>\n",
       "      <th>6</th>\n",
       "      <td>18.833333</td>\n",
       "      <td>0.362767</td>\n",
       "      <td>4.824697</td>\n",
       "    </tr>\n",
       "    <tr>\n",
       "      <th>7</th>\n",
       "      <td>6.466667</td>\n",
       "      <td>0.535122</td>\n",
       "      <td>5.125331</td>\n",
       "    </tr>\n",
       "    <tr>\n",
       "      <th>8</th>\n",
       "      <td>2.608333</td>\n",
       "      <td>2.055738</td>\n",
       "      <td>5.604114</td>\n",
       "    </tr>\n",
       "    <tr>\n",
       "      <th>9</th>\n",
       "      <td>2.358333</td>\n",
       "      <td>0.502937</td>\n",
       "      <td>5.458407</td>\n",
       "    </tr>\n",
       "    <tr>\n",
       "      <th>10</th>\n",
       "      <td>2.358333</td>\n",
       "      <td>18.105731</td>\n",
       "      <td>4.631010</td>\n",
       "    </tr>\n",
       "    <tr>\n",
       "      <th>11</th>\n",
       "      <td>4.233333</td>\n",
       "      <td>1.404758</td>\n",
       "      <td>5.252445</td>\n",
       "    </tr>\n",
       "    <tr>\n",
       "      <th>12</th>\n",
       "      <td>0.016667</td>\n",
       "      <td>10069.930070</td>\n",
       "      <td>11.484521</td>\n",
       "    </tr>\n",
       "    <tr>\n",
       "      <th>13</th>\n",
       "      <td>3.858333</td>\n",
       "      <td>1.127394</td>\n",
       "      <td>3.662109</td>\n",
       "    </tr>\n",
       "    <tr>\n",
       "      <th>14</th>\n",
       "      <td>56.591667</td>\n",
       "      <td>0.020088</td>\n",
       "      <td>6.470575</td>\n",
       "    </tr>\n",
       "    <tr>\n",
       "      <th>15</th>\n",
       "      <td>10.375000</td>\n",
       "      <td>0.363811</td>\n",
       "      <td>4.949142</td>\n",
       "    </tr>\n",
       "    <tr>\n",
       "      <th>16</th>\n",
       "      <td>1.583333</td>\n",
       "      <td>1.115782</td>\n",
       "      <td>5.361504</td>\n",
       "    </tr>\n",
       "    <tr>\n",
       "      <th>17</th>\n",
       "      <td>9.741667</td>\n",
       "      <td>0.000000</td>\n",
       "      <td>6.199480</td>\n",
       "    </tr>\n",
       "    <tr>\n",
       "      <th>18</th>\n",
       "      <td>19.650000</td>\n",
       "      <td>0.420172</td>\n",
       "      <td>4.612309</td>\n",
       "    </tr>\n",
       "  </tbody>\n",
       "</table>\n",
       "</div>"
      ],
      "text/plain": [
       "    firing_rate  isi_violation        snr\n",
       "0      0.225000     552.533886   5.839627\n",
       "1      3.208333      87.774327   4.278765\n",
       "2      8.175000       0.795247   5.276598\n",
       "3     27.708333       0.790611   4.922427\n",
       "4      0.091667     332.890250   5.291782\n",
       "5     12.033333       0.676114   4.750414\n",
       "6     18.833333       0.362767   4.824697\n",
       "7      6.466667       0.535122   5.125331\n",
       "8      2.608333       2.055738   5.604114\n",
       "9      2.358333       0.502937   5.458407\n",
       "10     2.358333      18.105731   4.631010\n",
       "11     4.233333       1.404758   5.252445\n",
       "12     0.016667   10069.930070  11.484521\n",
       "13     3.858333       1.127394   3.662109\n",
       "14    56.591667       0.020088   6.470575\n",
       "15    10.375000       0.363811   4.949142\n",
       "16     1.583333       1.115782   5.361504\n",
       "17     9.741667       0.000000   6.199480\n",
       "18    19.650000       0.420172   4.612309"
      ]
     },
     "metadata": {},
     "output_type": "display_data"
    }
   ],
   "source": [
    "quality_metrics = st.validation.compute_quality_metrics(\n",
    "    sorting_KL, \n",
    "    r_cache, \n",
    "    metric_names=['firing_rate', 'isi_violation', 'snr'], \n",
    "    as_dataframe=True\n",
    ")\n",
    "display(quality_metrics)"
   ]
  },
  {
   "cell_type": "markdown",
   "id": "third-lemon",
   "metadata": {},
   "source": [
    "For more information about these waveform features, we refer to this [documentation](https://allensdk.readthedocs.io/en/latest/_static/examples/nb/ecephys_quality_metrics.html) from the Allen Institute."
   ]
  },
  {
   "cell_type": "code",
   "execution_count": 36,
   "id": "federal-brazil",
   "metadata": {},
   "outputs": [
    {
     "name": "stderr",
     "output_type": "stream",
     "text": [
      "/mnt/d/spikeinterface/hussaini-to-nwb/tidy_venv/venv/lib/python3.8/site-packages/ipykernel/ipkernel.py:283: DeprecationWarning: `should_run_async` will not call `transform_cell` automatically in the future. Please pass the result to `transformed_cell` argument and any exception that happen during thetransform in `preprocessing_exc_tuple` in IPython 7.17 and above.\n",
      "  and should_run_async(code)\n"
     ]
    }
   ],
   "source": [
    "st.postprocessing.get_unit_templates?"
   ]
  },
  {
   "cell_type": "code",
   "execution_count": 37,
   "id": "constant-rubber",
   "metadata": {},
   "outputs": [],
   "source": [
    "# Select units with few isi violations.\n",
    "\n",
    "unit_ids_of_interest = quality_metrics.loc[quality_metrics['isi_violation'] < 10,:].index.values"
   ]
  },
  {
   "cell_type": "code",
   "execution_count": 38,
   "id": "concerned-broad",
   "metadata": {},
   "outputs": [
    {
     "name": "stderr",
     "output_type": "stream",
     "text": [
      "/mnt/d/spikeinterface/hussaini-to-nwb/tidy_venv/venv/lib/python3.8/site-packages/ipykernel/ipkernel.py:283: DeprecationWarning: `should_run_async` will not call `transform_cell` automatically in the future. Please pass the result to `transformed_cell` argument and any exception that happen during thetransform in `preprocessing_exc_tuple` in IPython 7.17 and above.\n",
      "  and should_run_async(code)\n"
     ]
    },
    {
     "data": {
      "text/plain": [
       "[<matplotlib.lines.Line2D at 0x7f0895b82f10>,\n",
       " <matplotlib.lines.Line2D at 0x7f0895b82f40>,\n",
       " <matplotlib.lines.Line2D at 0x7f0895b8d0a0>,\n",
       " <matplotlib.lines.Line2D at 0x7f0895b8d1c0>,\n",
       " <matplotlib.lines.Line2D at 0x7f0895b8d2e0>,\n",
       " <matplotlib.lines.Line2D at 0x7f0895b8d400>,\n",
       " <matplotlib.lines.Line2D at 0x7f0895b8d520>,\n",
       " <matplotlib.lines.Line2D at 0x7f0895b8d640>,\n",
       " <matplotlib.lines.Line2D at 0x7f0895b8d760>,\n",
       " <matplotlib.lines.Line2D at 0x7f0895b8d880>,\n",
       " <matplotlib.lines.Line2D at 0x7f0895b8d9a0>,\n",
       " <matplotlib.lines.Line2D at 0x7f0895b8dac0>,\n",
       " <matplotlib.lines.Line2D at 0x7f0895b8dbe0>]"
      ]
     },
     "execution_count": 38,
     "metadata": {},
     "output_type": "execute_result"
    },
    {
     "data": {
      "image/png": "[encoded data removed]",
      "text/plain": [
       "<Figure size 432x288 with 1 Axes>"
      ]
     },
     "metadata": {
      "needs_background": "light"
     },
     "output_type": "display_data"
    }
   ],
   "source": [
    "# Get unit templates (average waveforms)\n",
    "\n",
    "templates = st.postprocessing.get_unit_templates(\n",
    "    r_cache, sorting_MS4, max_spikes_per_unit=200,\n",
    "    unit_ids=unit_ids_of_interest,\n",
    "    save_as_property=True, verbose=True\n",
    ")\n",
    "\n",
    "fig, ax = plt.subplots()\n",
    "ax.plot(templates[0].T, color='k')\n",
    "ax.plot(templates[1].T, color='r')\n",
    "ax.plot(templates[2].T, color='b')"
   ]
  },
  {
   "cell_type": "markdown",
   "id": "injured-affect",
   "metadata": {
    "id": "injured-affect"
   },
   "source": [
    "<a id=\"spike_curation\"></a>\n",
    "# 7. Curation\n",
    "[back to index](#index)"
   ]
  },
  {
   "cell_type": "markdown",
   "id": "contemporary-riding",
   "metadata": {
    "id": "contemporary-riding"
   },
   "source": [
    "### 1) Manual curation using Phy\n",
    "\n",
    "To perform manual curation we will export the data to [Phy](https://github.com/cortex-lab/phy). "
   ]
  },
  {
   "cell_type": "code",
   "execution_count": 40,
   "id": "legal-bridal",
   "metadata": {
    "id": "legal-bridal",
    "outputId": "41b64a1f-b896-46ad-dd6d-b34153211c1a"
   },
   "outputs": [
    {
     "name": "stderr",
     "output_type": "stream",
     "text": [
      "/mnt/d/spikeinterface/hussaini-to-nwb/tidy_venv/venv/lib/python3.8/site-packages/ipykernel/ipkernel.py:283: DeprecationWarning: `should_run_async` will not call `transform_cell` automatically in the future. Please pass the result to `transformed_cell` argument and any exception that happen during thetransform in `preprocessing_exc_tuple` in IPython 7.17 and above.\n",
      "  and should_run_async(code)\n"
     ]
    },
    {
     "name": "stdout",
     "output_type": "stream",
     "text": [
      "Converting to Phy format\n",
      "Number of chunks: 1 - Number of jobs: 1\n"
     ]
    },
    {
     "name": "stderr",
     "output_type": "stream",
     "text": [
      "Extracting waveforms in chunks: 100%|##########| 1/1 [00:03<00:00,  3.83s/it]\n"
     ]
    },
    {
     "name": "stdout",
     "output_type": "stream",
     "text": [
      "Fitting PCA of 3 dimensions on 84001 waveforms\n",
      "Projecting waveforms on PC\n"
     ]
    },
    {
     "name": "stderr",
     "output_type": "stream",
     "text": [
      "/mnt/d/spikeinterface/spikeextractors/spikeextractors/extraction_tools.py:847: DeprecationWarning: `np.float` is a deprecated alias for the builtin `float`. To silence this warning, use `float` by itself. Doing this will not modify any behavior and is safe. If you specifically wanted the numpy scalar type, use `np.float64` here.\n",
      "Deprecated in NumPy 1.20; for more details and guidance: https://numpy.org/devdocs/release/1.20.0-notes.html#deprecations\n",
      "  if isinstance(start_frame, (float, np.float)):\n",
      "/mnt/d/spikeinterface/spikeextractors/spikeextractors/extraction_tools.py:853: DeprecationWarning: `np.float` is a deprecated alias for the builtin `float`. To silence this warning, use `float` by itself. Doing this will not modify any behavior and is safe. If you specifically wanted the numpy scalar type, use `np.float64` here.\n",
      "Deprecated in NumPy 1.20; for more details and guidance: https://numpy.org/devdocs/release/1.20.0-notes.html#deprecations\n",
      "  if isinstance(end_frame, (float, np.float)) and np.isfinite(end_frame):\n"
     ]
    },
    {
     "name": "stdout",
     "output_type": "stream",
     "text": [
      "Saving files\n",
      "Saved phy format to:  /mnt/d/spikeinterface/hussaini-to-nwb/tidy_venv/phy_MS4\n",
      "Run:\n",
      "\n",
      "phy template-gui  /mnt/d/spikeinterface/hussaini-to-nwb/tidy_venv/phy_MS4/params.py\n"
     ]
    }
   ],
   "source": [
    "st.postprocessing.export_to_phy(\n",
    "    r_cache, \n",
    "    sorting_MS4, \n",
    "    output_folder='phy_MS4',\n",
    "    grouping_property='group', \n",
    "    verbose=True, \n",
    "    recompute_info=True\n",
    ")"
   ]
  },
  {
   "cell_type": "markdown",
   "id": "accurate-mauritius",
   "metadata": {},
   "source": [
    "If you have trouble using the GUI from phy refer to the instructions here: https://github.com/cortex-lab/phy."
   ]
  },
  {
   "cell_type": "code",
   "execution_count": 42,
   "id": "lasting-brighton",
   "metadata": {},
   "outputs": [
    {
     "name": "stdout",
     "output_type": "stream",
     "text": [
      "\u001b[33m13:58:52.593 [W] model:655            Skipping spike waveforms that do not exist, they will be extracted on the fly from the raw data as needed.\u001b[0m\n",
      "QStandardPaths: XDG_RUNTIME_DIR not set, defaulting to '/tmp/runtime-sbuergers'\n",
      "\u001b[0m14:09:23.784 [I] supervisor:711       Change metadata_group for clusters 1 to noise.\u001b[0m\n",
      "\u001b[0m14:11:06.826 [I] supervisor:711       Change metadata_group for clusters 0 to noise.\u001b[0m\n",
      "\u001b[0m14:11:15.419 [I] supervisor:711       Change metadata_group for clusters 24 to noise.\u001b[0m\n",
      "\u001b[0m14:11:23.019 [I] supervisor:711       Change metadata_group for clusters 8 to noise.\u001b[0m\n",
      "\u001b[0m14:11:54.570 [I] supervisor:711       Change metadata_group for clusters 20 to good.\u001b[0m\n",
      "\u001b[0m14:11:59.993 [I] supervisor:711       Change metadata_group for clusters 22 to noise.\u001b[0m\n",
      "\u001b[0m14:12:03.341 [I] supervisor:711       Change metadata_group for clusters 16 to noise.\u001b[0m\n",
      "\u001b[0m14:12:05.371 [I] supervisor:711       Change metadata_group for clusters 5 to noise.\u001b[0m\n",
      "\u001b[0m14:12:07.768 [I] supervisor:711       Change metadata_group for clusters 2 to noise.\u001b[0m\n",
      "\u001b[0m14:12:09.343 [I] supervisor:711       Change metadata_group for clusters 13 to noise.\u001b[0m\n",
      "\u001b[0m14:14:00.869 [I] supervisor:711       Change metadata_group for clusters 12 to good.\u001b[0m\n",
      "\u001b[0m14:14:20.929 [I] supervisor:711       Change metadata_group for clusters 3 to good.\u001b[0m\n",
      "\u001b[0m14:15:45.887 [I] supervisor:711       Change metadata_group for clusters 18 to good.\u001b[0m\n",
      "\u001b[0m14:16:14.810 [I] supervisor:700       Merge clusters 11, 17 to 25.\u001b[0m\n",
      "\u001b[0m14:16:38.622 [I] supervisor:711       Change metadata_group for clusters 25 to good.\u001b[0m\n",
      "\u001b[0m14:17:01.977 [I] supervisor:711       Change metadata_group for clusters 9 to good.\u001b[0m\n",
      "\u001b[0m14:17:07.719 [I] supervisor:711       Change metadata_group for clusters 4 to noise.\u001b[0m\n",
      "\u001b[0m14:17:24.818 [I] supervisor:700       Merge clusters 14, 15 to 26.\u001b[0m\n",
      "\u001b[0m14:18:29.245 [I] supervisor:711       Change metadata_group for clusters 26 to good.\u001b[0m\n",
      "\u001b[0m14:18:56.541 [I] supervisor:711       Change metadata_group for clusters 6 to good.\u001b[0m\n",
      "\u001b[0m14:19:27.254 [I] supervisor:711       Change metadata_group for clusters 23 to noise.\u001b[0m\n",
      "\u001b[0m14:19:51.170 [I] supervisor:711       Change metadata_group for clusters 7 to noise.\u001b[0m\n",
      "\u001b[0m14:19:52.743 [I] supervisor:711       Change metadata_group for clusters 21 to noise.\u001b[0m\n",
      "\u001b[0m14:19:53.876 [I] supervisor:711       Change metadata_group for clusters 10 to noise.\u001b[0m\n",
      "\u001b[0m14:19:56.377 [I] supervisor:711       Change metadata_group for clusters 19 to noise.\u001b[0m\n"
     ]
    }
   ],
   "source": [
    "!phy template-gui phy_MS4/params.py"
   ]
  },
  {
   "cell_type": "code",
   "execution_count": 37,
   "id": "interstate-rotation",
   "metadata": {
    "id": "interstate-rotation",
    "outputId": "967cfb25-0d5e-4757-97e9-bdc55701479f"
   },
   "outputs": [],
   "source": [
    "%%capture --no-display\n",
    "!phy template-gui phy_KL/params.py"
   ]
  },
  {
   "cell_type": "markdown",
   "id": "agricultural-revelation",
   "metadata": {
    "id": "agricultural-revelation"
   },
   "source": [
    "After curating the results we can reload it using the PhySortingExtractor:"
   ]
  },
  {
   "cell_type": "code",
   "execution_count": 44,
   "id": "scenic-syracuse",
   "metadata": {
    "id": "scenic-syracuse",
    "outputId": "7cccbbde-62fc-40a2-e34e-fc0dc878012a"
   },
   "outputs": [],
   "source": [
    "sorting_MS4_phy_curated = se.PhySortingExtractor('phy_MS4/', exclude_cluster_groups=['noise'])"
   ]
  },
  {
   "cell_type": "code",
   "execution_count": 45,
   "id": "presidential-state",
   "metadata": {
    "id": "presidential-state",
    "outputId": "6face789-1f1c-4139-a942-206aa1f65263"
   },
   "outputs": [
    {
     "name": "stdout",
     "output_type": "stream",
     "text": [
      "8\n",
      "Unit ids after manual curation: [3, 6, 9, 12, 18, 20, 25, 26]\n"
     ]
    }
   ],
   "source": [
    "print(len(sorting_MS4_phy_curated.get_unit_ids()))\n",
    "print(f\"Unit ids after manual curation: {sorting_MS4_phy_curated.get_unit_ids()}\")"
   ]
  },
  {
   "cell_type": "code",
   "execution_count": 46,
   "id": "reverse-passing",
   "metadata": {},
   "outputs": [
    {
     "name": "stdout",
     "output_type": "stream",
     "text": [
      "good\n",
      "good\n",
      "good\n",
      "good\n",
      "good\n",
      "good\n",
      "good\n",
      "good\n"
     ]
    },
    {
     "data": {
      "text/plain": [
       "[None, None, None, None, None, None, None, None]"
      ]
     },
     "execution_count": 46,
     "metadata": {},
     "output_type": "execute_result"
    }
   ],
   "source": [
    "[print(sorting_MS4_phy_curated.get_unit_property(i, 'quality')) for i in sorting_MS4_phy_curated.get_unit_ids()]"
   ]
  },
  {
   "cell_type": "markdown",
   "id": "bulgarian-adult",
   "metadata": {
    "id": "bulgarian-adult"
   },
   "source": [
    "### b) Automatic curation based on quality metrics\n",
    "[back to index](#index)"
   ]
  },
  {
   "cell_type": "code",
   "execution_count": 47,
   "id": "lesser-collective",
   "metadata": {},
   "outputs": [],
   "source": [
    "st.curation.threshold_isi_violations?"
   ]
  },
  {
   "cell_type": "code",
   "execution_count": 65,
   "id": "dynamic-florist",
   "metadata": {
    "id": "dynamic-florist"
   },
   "outputs": [],
   "source": [
    "snr_thresh = 4\n",
    "isi_viol_thresh = 0.0015\n",
    "duration = r_cache.get_num_frames()"
   ]
  },
  {
   "cell_type": "code",
   "execution_count": 74,
   "id": "lasting-world",
   "metadata": {},
   "outputs": [],
   "source": [
    "isi_violations = st.validation.compute_isi_violations(\n",
    "    sorting_MS4, \n",
    "    duration_in_frames=r_cache.get_num_frames(), \n",
    "    isi_threshold=0.0015\n",
    ")"
   ]
  },
  {
   "cell_type": "code",
   "execution_count": 75,
   "id": "declared-empty",
   "metadata": {},
   "outputs": [
    {
     "data": {
      "text/plain": [
       "array([0.45987646, 0.48622991, 0.39953111, 0.02009964, 0.07218471,\n",
       "       0.44270156, 0.        , 0.30516827, 0.50397046, 0.        ,\n",
       "       0.51203568, 0.08759498, 0.01634596, 0.34572819, 0.        ,\n",
       "       0.        , 0.37366664, 0.06479876, 0.02840745, 0.41301482,\n",
       "       0.20094834, 0.5872036 , 0.59966765, 0.42217704, 0.64490693])"
      ]
     },
     "execution_count": 75,
     "metadata": {},
     "output_type": "execute_result"
    }
   ],
   "source": [
    "isi_violations"
   ]
  },
  {
   "cell_type": "code",
   "execution_count": 83,
   "id": "personal-accessory",
   "metadata": {
    "id": "personal-accessory"
   },
   "outputs": [],
   "source": [
    "sorting_auto_MS4 = st.curation.threshold_isi_violations(sorting_MS4, isi_viol_thresh, 'greater', duration)\n",
    "sorting_auto_SC = st.curation.threshold_isi_violations(sorting_SC, isi_viol_thresh, 'greater', duration)"
   ]
  },
  {
   "cell_type": "code",
   "execution_count": 84,
   "id": "accessible-massage",
   "metadata": {
    "id": "accessible-massage",
    "outputId": "837e3757-5d56-4ed2-d81e-57c97f3aff75"
   },
   "outputs": [
    {
     "name": "stdout",
     "output_type": "stream",
     "text": [
      "Number of units Mountainsort4: 4\n",
      "Number of units Spyking Circus: 1\n"
     ]
    }
   ],
   "source": [
    "print('Number of units Mountainsort4: {}'.format(len(sorting_auto_MS4.get_unit_ids())))\n",
    "print('Number of units Spyking Circus: {}'.format(len(sorting_auto_SC.get_unit_ids())))"
   ]
  },
  {
   "cell_type": "code",
   "execution_count": 85,
   "id": "portable-voice",
   "metadata": {
    "id": "portable-voice"
   },
   "outputs": [
    {
     "ename": "FileNotFoundError",
     "evalue": "[Errno 2] No such file or directory: '/tmp/tmpcbyew1r1/waveforms_14.raw'",
     "output_type": "error",
     "traceback": [
      "\u001b[0;31m---------------------------------------------------------------------------\u001b[0m",
      "\u001b[0;31mFileNotFoundError\u001b[0m                         Traceback (most recent call last)",
      "\u001b[0;32m<ipython-input-85-7e6b0fd3d0f9>\u001b[0m in \u001b[0;36m<module>\u001b[0;34m\u001b[0m\n\u001b[1;32m      1\u001b[0m \u001b[0msorting_auto_MS4\u001b[0m \u001b[0;34m=\u001b[0m \u001b[0mst\u001b[0m\u001b[0;34m.\u001b[0m\u001b[0mcuration\u001b[0m\u001b[0;34m.\u001b[0m\u001b[0mthreshold_snrs\u001b[0m\u001b[0;34m(\u001b[0m\u001b[0msorting_auto_MS4\u001b[0m\u001b[0;34m,\u001b[0m \u001b[0mr_cache\u001b[0m\u001b[0;34m,\u001b[0m \u001b[0msnr_thresh\u001b[0m\u001b[0;34m,\u001b[0m \u001b[0;34m'less'\u001b[0m\u001b[0;34m)\u001b[0m\u001b[0;34m\u001b[0m\u001b[0;34m\u001b[0m\u001b[0m\n\u001b[0;32m----> 2\u001b[0;31m \u001b[0msorting_auto_SC\u001b[0m \u001b[0;34m=\u001b[0m \u001b[0mst\u001b[0m\u001b[0;34m.\u001b[0m\u001b[0mcuration\u001b[0m\u001b[0;34m.\u001b[0m\u001b[0mthreshold_snrs\u001b[0m\u001b[0;34m(\u001b[0m\u001b[0msorting_auto_SC\u001b[0m\u001b[0;34m,\u001b[0m \u001b[0mr_cache\u001b[0m\u001b[0;34m,\u001b[0m \u001b[0msnr_thresh\u001b[0m\u001b[0;34m,\u001b[0m \u001b[0;34m'less'\u001b[0m\u001b[0;34m)\u001b[0m\u001b[0;34m\u001b[0m\u001b[0;34m\u001b[0m\u001b[0m\n\u001b[0m",
      "\u001b[0;32m/mnt/d/spikeinterface/hussaini-to-nwb/tidy_venv/venv/lib/python3.8/site-packages/spiketoolkit/curation/threshold_metrics.py\u001b[0m in \u001b[0;36mthreshold_snrs\u001b[0;34m(sorting, recording, threshold, threshold_sign, snr_mode, snr_noise_duration, max_spikes_per_unit_for_snr, template_mode, max_channel_peak, **kwargs)\u001b[0m\n\u001b[1;32m    371\u001b[0m \u001b[0;34m\u001b[0m\u001b[0m\n\u001b[1;32m    372\u001b[0m     \u001b[0msnr\u001b[0m \u001b[0;34m=\u001b[0m \u001b[0mSNR\u001b[0m\u001b[0;34m(\u001b[0m\u001b[0mmetric_data\u001b[0m\u001b[0;34m=\u001b[0m\u001b[0mmd\u001b[0m\u001b[0;34m)\u001b[0m\u001b[0;34m\u001b[0m\u001b[0;34m\u001b[0m\u001b[0m\n\u001b[0;32m--> 373\u001b[0;31m     threshold_sorting = snr.threshold_metric(threshold, threshold_sign, snr_mode, snr_noise_duration,\n\u001b[0m\u001b[1;32m    374\u001b[0m                                              max_spikes_per_unit_for_snr, template_mode, max_channel_peak, **kwargs)\n\u001b[1;32m    375\u001b[0m     \u001b[0;32mreturn\u001b[0m \u001b[0mthreshold_sorting\u001b[0m\u001b[0;34m\u001b[0m\u001b[0;34m\u001b[0m\u001b[0m\n",
      "\u001b[0;32m/mnt/d/spikeinterface/hussaini-to-nwb/tidy_venv/venv/lib/python3.8/site-packages/spiketoolkit/validation/quality_metric_classes/snr.py\u001b[0m in \u001b[0;36mthreshold_metric\u001b[0;34m(self, threshold, threshold_sign, snr_mode, snr_noise_duration, max_spikes_per_unit_for_snr, template_mode, max_channel_peak, **kwargs)\u001b[0m\n\u001b[1;32m     61\u001b[0m     def threshold_metric(self, threshold, threshold_sign, snr_mode, snr_noise_duration, max_spikes_per_unit_for_snr,\n\u001b[1;32m     62\u001b[0m                          template_mode, max_channel_peak, **kwargs):\n\u001b[0;32m---> 63\u001b[0;31m         snrs = self.compute_metric(snr_mode, snr_noise_duration, max_spikes_per_unit_for_snr,\n\u001b[0m\u001b[1;32m     64\u001b[0m                                    template_mode, max_channel_peak, **kwargs)\n\u001b[1;32m     65\u001b[0m         \u001b[0mthreshold_curator\u001b[0m \u001b[0;34m=\u001b[0m \u001b[0mThresholdCurator\u001b[0m\u001b[0;34m(\u001b[0m\u001b[0msorting\u001b[0m\u001b[0;34m=\u001b[0m\u001b[0mself\u001b[0m\u001b[0;34m.\u001b[0m\u001b[0m_metric_data\u001b[0m\u001b[0;34m.\u001b[0m\u001b[0m_sorting\u001b[0m\u001b[0;34m,\u001b[0m \u001b[0mmetric\u001b[0m\u001b[0;34m=\u001b[0m\u001b[0msnrs\u001b[0m\u001b[0;34m)\u001b[0m\u001b[0;34m\u001b[0m\u001b[0;34m\u001b[0m\u001b[0m\n",
      "\u001b[0;32m/mnt/d/spikeinterface/hussaini-to-nwb/tidy_venv/venv/lib/python3.8/site-packages/spiketoolkit/validation/quality_metric_classes/snr.py\u001b[0m in \u001b[0;36mcompute_metric\u001b[0;34m(self, snr_mode, snr_noise_duration, max_spikes_per_unit_for_snr, template_mode, max_channel_peak, **kwargs)\u001b[0m\n\u001b[1;32m     32\u001b[0m             \u001b[0mseed\u001b[0m\u001b[0;34m=\u001b[0m\u001b[0mseed\u001b[0m\u001b[0;34m,\u001b[0m\u001b[0;34m\u001b[0m\u001b[0;34m\u001b[0m\u001b[0m\n\u001b[1;32m     33\u001b[0m         )\n\u001b[0;32m---> 34\u001b[0;31m         templates = st.postprocessing.get_unit_templates(\n\u001b[0m\u001b[1;32m     35\u001b[0m             \u001b[0mself\u001b[0m\u001b[0;34m.\u001b[0m\u001b[0m_metric_data\u001b[0m\u001b[0;34m.\u001b[0m\u001b[0m_recording\u001b[0m\u001b[0;34m,\u001b[0m\u001b[0;34m\u001b[0m\u001b[0;34m\u001b[0m\u001b[0m\n\u001b[1;32m     36\u001b[0m             \u001b[0mself\u001b[0m\u001b[0;34m.\u001b[0m\u001b[0m_metric_data\u001b[0m\u001b[0;34m.\u001b[0m\u001b[0m_sorting\u001b[0m\u001b[0;34m,\u001b[0m\u001b[0;34m\u001b[0m\u001b[0;34m\u001b[0m\u001b[0m\n",
      "\u001b[0;32m/mnt/d/spikeinterface/hussaini-to-nwb/tidy_venv/venv/lib/python3.8/site-packages/spiketoolkit/postprocessing/postprocessing_tools.py\u001b[0m in \u001b[0;36mget_unit_templates\u001b[0;34m(recording, sorting, unit_ids, channel_ids, mode, _waveforms, **kwargs)\u001b[0m\n\u001b[1;32m    462\u001b[0m     \u001b[0;32melse\u001b[0m\u001b[0;34m:\u001b[0m\u001b[0;34m\u001b[0m\u001b[0;34m\u001b[0m\u001b[0m\n\u001b[1;32m    463\u001b[0m         \u001b[0;32mif\u001b[0m \u001b[0m_waveforms\u001b[0m \u001b[0;32mis\u001b[0m \u001b[0;32mNone\u001b[0m\u001b[0;34m:\u001b[0m\u001b[0;34m\u001b[0m\u001b[0;34m\u001b[0m\u001b[0m\n\u001b[0;32m--> 464\u001b[0;31m             \u001b[0mwaveforms\u001b[0m \u001b[0;34m=\u001b[0m \u001b[0mget_unit_waveforms\u001b[0m\u001b[0;34m(\u001b[0m\u001b[0mrecording\u001b[0m\u001b[0;34m,\u001b[0m \u001b[0msorting\u001b[0m\u001b[0;34m,\u001b[0m \u001b[0munit_ids\u001b[0m\u001b[0;34m,\u001b[0m \u001b[0mchannel_ids\u001b[0m\u001b[0;34m,\u001b[0m \u001b[0mreturn_idxs\u001b[0m\u001b[0;34m=\u001b[0m\u001b[0;32mFalse\u001b[0m\u001b[0;34m,\u001b[0m \u001b[0;34m**\u001b[0m\u001b[0mkwargs\u001b[0m\u001b[0;34m)\u001b[0m\u001b[0;34m\u001b[0m\u001b[0;34m\u001b[0m\u001b[0m\n\u001b[0m\u001b[1;32m    465\u001b[0m         \u001b[0;32melse\u001b[0m\u001b[0;34m:\u001b[0m\u001b[0;34m\u001b[0m\u001b[0;34m\u001b[0m\u001b[0m\n\u001b[1;32m    466\u001b[0m             \u001b[0mwaveforms\u001b[0m \u001b[0;34m=\u001b[0m \u001b[0m_waveforms\u001b[0m\u001b[0;34m\u001b[0m\u001b[0;34m\u001b[0m\u001b[0m\n",
      "\u001b[0;32m/mnt/d/spikeinterface/hussaini-to-nwb/tidy_venv/venv/lib/python3.8/site-packages/spiketoolkit/postprocessing/postprocessing_tools.py\u001b[0m in \u001b[0;36mget_unit_waveforms\u001b[0;34m(recording, sorting, unit_ids, channel_ids, return_idxs, chunk_size, chunk_mb, **kwargs)\u001b[0m\n\u001b[1;32m    200\u001b[0m                         \u001b[0mlen_wf\u001b[0m \u001b[0;34m=\u001b[0m \u001b[0mmax_spikes_per_unit\u001b[0m\u001b[0;34m\u001b[0m\u001b[0;34m\u001b[0m\u001b[0m\n\u001b[1;32m    201\u001b[0m                 \u001b[0mshape\u001b[0m \u001b[0;34m=\u001b[0m \u001b[0;34m(\u001b[0m\u001b[0mlen_wf\u001b[0m\u001b[0;34m,\u001b[0m \u001b[0mn_channels\u001b[0m\u001b[0;34m,\u001b[0m \u001b[0msum\u001b[0m\u001b[0;34m(\u001b[0m\u001b[0mn_pad\u001b[0m\u001b[0;34m)\u001b[0m\u001b[0;34m)\u001b[0m\u001b[0;34m\u001b[0m\u001b[0;34m\u001b[0m\u001b[0m\n\u001b[0;32m--> 202\u001b[0;31m                 \u001b[0marr\u001b[0m \u001b[0;34m=\u001b[0m \u001b[0msorting\u001b[0m\u001b[0;34m.\u001b[0m\u001b[0mallocate_array\u001b[0m\u001b[0;34m(\u001b[0m\u001b[0mshape\u001b[0m\u001b[0;34m=\u001b[0m\u001b[0mshape\u001b[0m\u001b[0;34m,\u001b[0m \u001b[0mdtype\u001b[0m\u001b[0;34m=\u001b[0m\u001b[0mdtype\u001b[0m\u001b[0;34m,\u001b[0m \u001b[0mname\u001b[0m\u001b[0;34m=\u001b[0m\u001b[0mfname\u001b[0m\u001b[0;34m,\u001b[0m \u001b[0mmemmap\u001b[0m\u001b[0;34m=\u001b[0m\u001b[0mmemmap\u001b[0m\u001b[0;34m)\u001b[0m\u001b[0;34m\u001b[0m\u001b[0;34m\u001b[0m\u001b[0m\n\u001b[0m\u001b[1;32m    203\u001b[0m                 \u001b[0mall_unit_waveforms\u001b[0m\u001b[0;34m.\u001b[0m\u001b[0mappend\u001b[0m\u001b[0;34m(\u001b[0m\u001b[0marr\u001b[0m\u001b[0;34m)\u001b[0m\u001b[0;34m\u001b[0m\u001b[0;34m\u001b[0m\u001b[0m\n\u001b[1;32m    204\u001b[0m         \u001b[0;32melse\u001b[0m\u001b[0;34m:\u001b[0m\u001b[0;34m\u001b[0m\u001b[0;34m\u001b[0m\u001b[0m\n",
      "\u001b[0;32m/mnt/d/spikeinterface/spikeextractors/spikeextractors/baseextractor.py\u001b[0m in \u001b[0;36mallocate_array\u001b[0;34m(self, memmap, shape, dtype, name, array)\u001b[0m\n\u001b[1;32m    263\u001b[0m             \u001b[0;31m# make sure any open memmap files with same path are deleted\u001b[0m\u001b[0;34m\u001b[0m\u001b[0;34m\u001b[0m\u001b[0;34m\u001b[0m\u001b[0m\n\u001b[1;32m    264\u001b[0m             \u001b[0mself\u001b[0m\u001b[0;34m.\u001b[0m\u001b[0mdel_memmap_file\u001b[0m\u001b[0;34m(\u001b[0m\u001b[0mraw_tmp_file\u001b[0m\u001b[0;34m)\u001b[0m\u001b[0;34m\u001b[0m\u001b[0;34m\u001b[0m\u001b[0m\n\u001b[0;32m--> 265\u001b[0;31m             \u001b[0marr\u001b[0m \u001b[0;34m=\u001b[0m \u001b[0mnp\u001b[0m\u001b[0;34m.\u001b[0m\u001b[0mmemmap\u001b[0m\u001b[0;34m(\u001b[0m\u001b[0mraw_tmp_file\u001b[0m\u001b[0;34m,\u001b[0m \u001b[0mmode\u001b[0m\u001b[0;34m=\u001b[0m\u001b[0;34m'w+'\u001b[0m\u001b[0;34m,\u001b[0m \u001b[0mshape\u001b[0m\u001b[0;34m=\u001b[0m\u001b[0mshape\u001b[0m\u001b[0;34m,\u001b[0m \u001b[0mdtype\u001b[0m\u001b[0;34m=\u001b[0m\u001b[0mdtype\u001b[0m\u001b[0;34m)\u001b[0m\u001b[0;34m\u001b[0m\u001b[0;34m\u001b[0m\u001b[0m\n\u001b[0m\u001b[1;32m    266\u001b[0m             \u001b[0;32mif\u001b[0m \u001b[0marray\u001b[0m \u001b[0;32mis\u001b[0m \u001b[0;32mnot\u001b[0m \u001b[0;32mNone\u001b[0m\u001b[0;34m:\u001b[0m\u001b[0;34m\u001b[0m\u001b[0;34m\u001b[0m\u001b[0m\n\u001b[1;32m    267\u001b[0m                 \u001b[0marr\u001b[0m\u001b[0;34m[\u001b[0m\u001b[0;34m:\u001b[0m\u001b[0;34m]\u001b[0m \u001b[0;34m=\u001b[0m \u001b[0marray\u001b[0m\u001b[0;34m\u001b[0m\u001b[0;34m\u001b[0m\u001b[0m\n",
      "\u001b[0;32m/mnt/d/spikeinterface/hussaini-to-nwb/tidy_venv/venv/lib/python3.8/site-packages/numpy-1.20.2-py3.8-linux-x86_64.egg/numpy/core/memmap.py\u001b[0m in \u001b[0;36m__new__\u001b[0;34m(subtype, filename, dtype, mode, offset, shape, order)\u001b[0m\n\u001b[1;32m    226\u001b[0m             \u001b[0mf_ctx\u001b[0m \u001b[0;34m=\u001b[0m \u001b[0mcontextlib_nullcontext\u001b[0m\u001b[0;34m(\u001b[0m\u001b[0mfilename\u001b[0m\u001b[0;34m)\u001b[0m\u001b[0;34m\u001b[0m\u001b[0;34m\u001b[0m\u001b[0m\n\u001b[1;32m    227\u001b[0m         \u001b[0;32melse\u001b[0m\u001b[0;34m:\u001b[0m\u001b[0;34m\u001b[0m\u001b[0;34m\u001b[0m\u001b[0m\n\u001b[0;32m--> 228\u001b[0;31m             \u001b[0mf_ctx\u001b[0m \u001b[0;34m=\u001b[0m \u001b[0mopen\u001b[0m\u001b[0;34m(\u001b[0m\u001b[0mos_fspath\u001b[0m\u001b[0;34m(\u001b[0m\u001b[0mfilename\u001b[0m\u001b[0;34m)\u001b[0m\u001b[0;34m,\u001b[0m \u001b[0;34m(\u001b[0m\u001b[0;34m'r'\u001b[0m \u001b[0;32mif\u001b[0m \u001b[0mmode\u001b[0m \u001b[0;34m==\u001b[0m \u001b[0;34m'c'\u001b[0m \u001b[0;32melse\u001b[0m \u001b[0mmode\u001b[0m\u001b[0;34m)\u001b[0m\u001b[0;34m+\u001b[0m\u001b[0;34m'b'\u001b[0m\u001b[0;34m)\u001b[0m\u001b[0;34m\u001b[0m\u001b[0;34m\u001b[0m\u001b[0m\n\u001b[0m\u001b[1;32m    229\u001b[0m \u001b[0;34m\u001b[0m\u001b[0m\n\u001b[1;32m    230\u001b[0m         \u001b[0;32mwith\u001b[0m \u001b[0mf_ctx\u001b[0m \u001b[0;32mas\u001b[0m \u001b[0mfid\u001b[0m\u001b[0;34m:\u001b[0m\u001b[0;34m\u001b[0m\u001b[0;34m\u001b[0m\u001b[0m\n",
      "\u001b[0;31mFileNotFoundError\u001b[0m: [Errno 2] No such file or directory: '/tmp/tmpcbyew1r1/waveforms_14.raw'"
     ]
    }
   ],
   "source": [
    "sorting_auto_MS4 = st.curation.threshold_snrs(sorting_auto_MS4, r_cache, snr_thresh, 'less')\n",
    "sorting_auto_SC = st.curation.threshold_snrs(sorting_auto_SC, r_cache, snr_thresh, 'less')"
   ]
  },
  {
   "cell_type": "code",
   "execution_count": 86,
   "id": "assisted-coffee",
   "metadata": {
    "id": "assisted-coffee",
    "outputId": "dc03b4b9-c13b-4ad8-814f-d8aa22de3389"
   },
   "outputs": [
    {
     "name": "stdout",
     "output_type": "stream",
     "text": [
      "Number of units Mountainsort4: 3\n",
      "Number of units Spyking Circus: 1\n"
     ]
    }
   ],
   "source": [
    "print('Number of units Mountainsort4: {}'.format(len(sorting_auto_MS4.get_unit_ids())))\n",
    "print('Number of units Spyking Circus: {}'.format(len(sorting_auto_SC.get_unit_ids())))"
   ]
  },
  {
   "cell_type": "markdown",
   "id": "passing-circulation",
   "metadata": {
    "id": "passing-circulation"
   },
   "source": [
    "### c) Consensus-based curation\n",
    "[back to index](#index)"
   ]
  },
  {
   "cell_type": "markdown",
   "id": "separated-dimension",
   "metadata": {
    "id": "separated-dimension"
   },
   "source": [
    "Can we combine the output of multiple sorters to curate the spike sorting output?\n",
    "\n",
    "To answer this question we can use the comparison module. We first compare and match the output spike trains of the different sorters, and we can then extract a new SortingExtractor with only the units in agreement."
   ]
  },
  {
   "cell_type": "code",
   "execution_count": 87,
   "id": "artificial-designer",
   "metadata": {
    "id": "artificial-designer",
    "outputId": "9e9c3e22-7b75-4c1d-fa66-a7944be1516f"
   },
   "outputs": [
    {
     "name": "stdout",
     "output_type": "stream",
     "text": [
      "Multicomaprison step 1: pairwise comparison\n",
      "  Comparing:  SC  and  MS4\n",
      "Multicomaprison step 2: make graph\n",
      "Multicomaprison step 3: clean graph\n",
      "Removed 0 duplicate nodes\n",
      "Multicomaprison step 4: extract agreement from graph\n"
     ]
    }
   ],
   "source": [
    "mcmp = sc.compare_multiple_sorters(\n",
    "    [sorting_auto_SC, sorting_auto_MS4], \n",
    "    ['SC', 'MS4'], \n",
    "    spiketrain_mode='union',\n",
    "    verbose=True\n",
    ")"
   ]
  },
  {
   "cell_type": "code",
   "execution_count": 88,
   "id": "clear-panel",
   "metadata": {
    "id": "clear-panel",
    "outputId": "d4d7bff1-f168-4a56-c9d0-56476939c168"
   },
   "outputs": [
    {
     "data": {
      "image/png": "[encoded data removed]",
      "text/plain": [
       "<Figure size 432x288 with 1 Axes>"
      ]
     },
     "metadata": {},
     "output_type": "display_data"
    },
    {
     "data": {
      "image/png": "[encoded data removed]",
      "text/plain": [
       "<Figure size 288x172.8 with 3 Axes>"
      ]
     },
     "metadata": {
      "needs_background": "light"
     },
     "output_type": "display_data"
    }
   ],
   "source": [
    "w = sw.plot_multicomp_agreement(mcmp)\n",
    "w = sw.plot_multicomp_agreement_by_sorter(mcmp)"
   ]
  },
  {
   "cell_type": "code",
   "execution_count": 89,
   "id": "economic-county",
   "metadata": {
    "id": "economic-county"
   },
   "outputs": [],
   "source": [
    "agreement_sorting = mcmp.get_agreement_sorting(minimum_agreement_count=2)"
   ]
  },
  {
   "cell_type": "code",
   "execution_count": 90,
   "id": "classical-italy",
   "metadata": {
    "id": "classical-italy",
    "outputId": "e1475179-3643-4a94-dc2d-735b051253fd"
   },
   "outputs": [
    {
     "data": {
      "text/plain": [
       "[]"
      ]
     },
     "execution_count": 90,
     "metadata": {},
     "output_type": "execute_result"
    }
   ],
   "source": [
    "agreement_sorting.get_unit_ids()"
   ]
  },
  {
   "cell_type": "code",
   "execution_count": 91,
   "id": "atomic-notice",
   "metadata": {
    "id": "atomic-notice",
    "outputId": "118ee0af-0c45-441f-dc11-f0e21c0f71c2"
   },
   "outputs": [],
   "source": [
    "cmp_manual_agr = sc.compare_sorter_to_ground_truth(sorting_KL_phy_curated, agreement_sorting)"
   ]
  },
  {
   "cell_type": "code",
   "execution_count": 92,
   "id": "closing-factory",
   "metadata": {
    "id": "closing-factory"
   },
   "outputs": [
    {
     "name": "stderr",
     "output_type": "stream",
     "text": [
      "/mnt/d/spikeinterface/hussaini-to-nwb/tidy_venv/venv/lib/python3.8/site-packages/spikewidgets/widgets/agreementmatrixwidget/agreementmatrixwidget.py:72: UserWarning: Attempting to set identical left == right == -0.5 results in singular transformations; automatically expanding.\n",
      "  self.ax.matshow(scores.values, cmap='Greens')\n",
      "/mnt/d/spikeinterface/hussaini-to-nwb/tidy_venv/venv/lib/python3.8/site-packages/spikewidgets/widgets/agreementmatrixwidget/agreementmatrixwidget.py:99: UserWarning: Attempting to set identical left == right == -0.5 results in singular transformations; automatically expanding.\n",
      "  self.ax.set_xlim(-0.5, N2-0.5)\n"
     ]
    },
    {
     "data": {
      "image/png": "[encoded data removed]",
      "text/plain": [
       "<Figure size 432x288 with 1 Axes>"
      ]
     },
     "metadata": {
      "needs_background": "light"
     },
     "output_type": "display_data"
    }
   ],
   "source": [
    "w_agr = sw.plot_agreement_matrix(cmp_manual_agr)"
   ]
  },
  {
   "cell_type": "code",
   "execution_count": 93,
   "id": "elementary-cabin",
   "metadata": {},
   "outputs": [
    {
     "ename": "Exception",
     "evalue": "Unit id is invalid",
     "output_type": "error",
     "traceback": [
      "\u001b[0;31m---------------------------------------------------------------------------\u001b[0m",
      "\u001b[0;31mException\u001b[0m                                 Traceback (most recent call last)",
      "\u001b[0;32m<ipython-input-93-b22813d53633>\u001b[0m in \u001b[0;36m<module>\u001b[0;34m\u001b[0m\n\u001b[0;32m----> 1\u001b[0;31m \u001b[0mw_wf\u001b[0m \u001b[0;34m=\u001b[0m \u001b[0msw\u001b[0m\u001b[0;34m.\u001b[0m\u001b[0mplot_unit_templates\u001b[0m\u001b[0;34m(\u001b[0m\u001b[0msorting\u001b[0m\u001b[0;34m=\u001b[0m\u001b[0magreement_sorting\u001b[0m\u001b[0;34m,\u001b[0m \u001b[0mrecording\u001b[0m\u001b[0;34m=\u001b[0m\u001b[0mr_cache\u001b[0m\u001b[0;34m,\u001b[0m \u001b[0munit_ids\u001b[0m\u001b[0;34m=\u001b[0m\u001b[0;34m[\u001b[0m\u001b[0;36m1\u001b[0m\u001b[0;34m]\u001b[0m\u001b[0;34m)\u001b[0m\u001b[0;34m\u001b[0m\u001b[0;34m\u001b[0m\u001b[0m\n\u001b[0m",
      "\u001b[0;32m/mnt/d/spikeinterface/hussaini-to-nwb/tidy_venv/venv/lib/python3.8/site-packages/spikewidgets/widgets/unitwaveformswidget/unitwaveformswidget.py\u001b[0m in \u001b[0;36mplot_unit_templates\u001b[0;34m(recording, sorting, channel_ids, unit_ids, max_channels, channel_locs, radius, show_all_channels, color, lw, axis_equal, plot_channels, set_title, figure, ax, axes, **template_kwargs)\u001b[0m\n\u001b[1;32m    152\u001b[0m         \u001b[0;34m**\u001b[0m\u001b[0mtemplate_kwargs\u001b[0m\u001b[0;34m\u001b[0m\u001b[0;34m\u001b[0m\u001b[0m\n\u001b[1;32m    153\u001b[0m     )\n\u001b[0;32m--> 154\u001b[0;31m     \u001b[0mW\u001b[0m\u001b[0;34m.\u001b[0m\u001b[0mplot\u001b[0m\u001b[0;34m(\u001b[0m\u001b[0;34m)\u001b[0m\u001b[0;34m\u001b[0m\u001b[0;34m\u001b[0m\u001b[0m\n\u001b[0m\u001b[1;32m    155\u001b[0m     \u001b[0;32mreturn\u001b[0m \u001b[0mW\u001b[0m\u001b[0;34m\u001b[0m\u001b[0;34m\u001b[0m\u001b[0m\n\u001b[1;32m    156\u001b[0m \u001b[0;34m\u001b[0m\u001b[0m\n",
      "\u001b[0;32m/mnt/d/spikeinterface/hussaini-to-nwb/tidy_venv/venv/lib/python3.8/site-packages/spikewidgets/widgets/unitwaveformswidget/unitwaveformswidget.py\u001b[0m in \u001b[0;36mplot\u001b[0;34m(self)\u001b[0m\n\u001b[1;32m    184\u001b[0m \u001b[0;34m\u001b[0m\u001b[0m\n\u001b[1;32m    185\u001b[0m     \u001b[0;32mdef\u001b[0m \u001b[0mplot\u001b[0m\u001b[0;34m(\u001b[0m\u001b[0mself\u001b[0m\u001b[0;34m)\u001b[0m\u001b[0;34m:\u001b[0m\u001b[0;34m\u001b[0m\u001b[0;34m\u001b[0m\u001b[0m\n\u001b[0;32m--> 186\u001b[0;31m         \u001b[0mself\u001b[0m\u001b[0;34m.\u001b[0m\u001b[0m_do_plot\u001b[0m\u001b[0;34m(\u001b[0m\u001b[0;34m)\u001b[0m\u001b[0;34m\u001b[0m\u001b[0;34m\u001b[0m\u001b[0m\n\u001b[0m\u001b[1;32m    187\u001b[0m \u001b[0;34m\u001b[0m\u001b[0m\n\u001b[1;32m    188\u001b[0m     \u001b[0;32mdef\u001b[0m \u001b[0m_do_plot\u001b[0m\u001b[0;34m(\u001b[0m\u001b[0mself\u001b[0m\u001b[0;34m)\u001b[0m\u001b[0;34m:\u001b[0m\u001b[0;34m\u001b[0m\u001b[0;34m\u001b[0m\u001b[0m\n",
      "\u001b[0;32m/mnt/d/spikeinterface/hussaini-to-nwb/tidy_venv/venv/lib/python3.8/site-packages/spikewidgets/widgets/unitwaveformswidget/unitwaveformswidget.py\u001b[0m in \u001b[0;36m_do_plot\u001b[0;34m(self)\u001b[0m\n\u001b[1;32m    202\u001b[0m         \u001b[0mmax_channels_list\u001b[0m \u001b[0;34m=\u001b[0m \u001b[0;34m[\u001b[0m\u001b[0;34m]\u001b[0m\u001b[0;34m\u001b[0m\u001b[0;34m\u001b[0m\u001b[0m\n\u001b[1;32m    203\u001b[0m         \u001b[0;32mfor\u001b[0m \u001b[0munit_id\u001b[0m \u001b[0;32min\u001b[0m \u001b[0munit_ids\u001b[0m\u001b[0;34m:\u001b[0m\u001b[0;34m\u001b[0m\u001b[0;34m\u001b[0m\u001b[0m\n\u001b[0;32m--> 204\u001b[0;31m             \u001b[0mspiketrain\u001b[0m \u001b[0;34m=\u001b[0m \u001b[0mself\u001b[0m\u001b[0;34m.\u001b[0m\u001b[0m_sorting\u001b[0m\u001b[0;34m.\u001b[0m\u001b[0mget_unit_spike_train\u001b[0m\u001b[0;34m(\u001b[0m\u001b[0munit_id\u001b[0m\u001b[0;34m=\u001b[0m\u001b[0munit_id\u001b[0m\u001b[0;34m)\u001b[0m\u001b[0;34m\u001b[0m\u001b[0;34m\u001b[0m\u001b[0m\n\u001b[0m\u001b[1;32m    205\u001b[0m             \u001b[0;32mif\u001b[0m \u001b[0mspiketrain\u001b[0m \u001b[0;32mis\u001b[0m \u001b[0;32mnot\u001b[0m \u001b[0;32mNone\u001b[0m\u001b[0;34m:\u001b[0m\u001b[0;34m\u001b[0m\u001b[0;34m\u001b[0m\u001b[0m\n\u001b[1;32m    206\u001b[0m                 \u001b[0;32mif\u001b[0m \u001b[0mself\u001b[0m\u001b[0;34m.\u001b[0m\u001b[0m_plot_waveforms\u001b[0m\u001b[0;34m:\u001b[0m\u001b[0;34m\u001b[0m\u001b[0;34m\u001b[0m\u001b[0m\n",
      "\u001b[0;32m/mnt/d/spikeinterface/hussaini-to-nwb/tidy_venv/venv/lib/python3.8/site-packages/spikecomparison/multisortingcomparison.py\u001b[0m in \u001b[0;36mget_unit_spike_train\u001b[0;34m(self, unit_id, start_frame, end_frame)\u001b[0m\n\u001b[1;32m    298\u001b[0m     \u001b[0;32mdef\u001b[0m \u001b[0mget_unit_spike_train\u001b[0m\u001b[0;34m(\u001b[0m\u001b[0mself\u001b[0m\u001b[0;34m,\u001b[0m \u001b[0munit_id\u001b[0m\u001b[0;34m,\u001b[0m \u001b[0mstart_frame\u001b[0m\u001b[0;34m=\u001b[0m\u001b[0;32mNone\u001b[0m\u001b[0;34m,\u001b[0m \u001b[0mend_frame\u001b[0m\u001b[0;34m=\u001b[0m\u001b[0;32mNone\u001b[0m\u001b[0;34m)\u001b[0m\u001b[0;34m:\u001b[0m\u001b[0;34m\u001b[0m\u001b[0;34m\u001b[0m\u001b[0m\n\u001b[1;32m    299\u001b[0m         \u001b[0;32mif\u001b[0m \u001b[0munit_id\u001b[0m \u001b[0;32mnot\u001b[0m \u001b[0;32min\u001b[0m \u001b[0mself\u001b[0m\u001b[0;34m.\u001b[0m\u001b[0mget_unit_ids\u001b[0m\u001b[0;34m(\u001b[0m\u001b[0;34m)\u001b[0m\u001b[0;34m:\u001b[0m\u001b[0;34m\u001b[0m\u001b[0;34m\u001b[0m\u001b[0m\n\u001b[0;32m--> 300\u001b[0;31m             \u001b[0;32mraise\u001b[0m \u001b[0mException\u001b[0m\u001b[0;34m(\u001b[0m\u001b[0;34m\"Unit id is invalid\"\u001b[0m\u001b[0;34m)\u001b[0m\u001b[0;34m\u001b[0m\u001b[0;34m\u001b[0m\u001b[0m\n\u001b[0m\u001b[1;32m    301\u001b[0m         \u001b[0;32mreturn\u001b[0m \u001b[0mnp\u001b[0m\u001b[0;34m.\u001b[0m\u001b[0marray\u001b[0m\u001b[0;34m(\u001b[0m\u001b[0mself\u001b[0m\u001b[0;34m.\u001b[0m\u001b[0m_msc\u001b[0m\u001b[0;34m.\u001b[0m\u001b[0m_spiketrains\u001b[0m\u001b[0;34m[\u001b[0m\u001b[0mlist\u001b[0m\u001b[0;34m(\u001b[0m\u001b[0mself\u001b[0m\u001b[0;34m.\u001b[0m\u001b[0m_msc\u001b[0m\u001b[0;34m.\u001b[0m\u001b[0m_new_units\u001b[0m\u001b[0;34m.\u001b[0m\u001b[0mkeys\u001b[0m\u001b[0;34m(\u001b[0m\u001b[0;34m)\u001b[0m\u001b[0;34m)\u001b[0m\u001b[0;34m.\u001b[0m\u001b[0mindex\u001b[0m\u001b[0;34m(\u001b[0m\u001b[0munit_id\u001b[0m\u001b[0;34m)\u001b[0m\u001b[0;34m]\u001b[0m\u001b[0;34m)\u001b[0m\u001b[0;34m\u001b[0m\u001b[0;34m\u001b[0m\u001b[0m\n\u001b[1;32m    302\u001b[0m \u001b[0;34m\u001b[0m\u001b[0m\n",
      "\u001b[0;31mException\u001b[0m: Unit id is invalid"
     ]
    },
    {
     "data": {
      "image/png": "[encoded data removed]",
      "text/plain": [
       "<Figure size 432x288 with 1 Axes>"
      ]
     },
     "metadata": {
      "needs_background": "light"
     },
     "output_type": "display_data"
    }
   ],
   "source": [
    "w_wf = sw.plot_unit_templates(sorting=agreement_sorting, recording=r_cache, unit_ids=[1])"
   ]
  },
  {
   "cell_type": "code",
   "execution_count": 94,
   "id": "broadband-induction",
   "metadata": {
    "id": "broadband-induction"
   },
   "outputs": [
    {
     "ename": "Exception",
     "evalue": "No non-empty units in the sorting result, can't save to phy.",
     "output_type": "error",
     "traceback": [
      "\u001b[0;31m---------------------------------------------------------------------------\u001b[0m",
      "\u001b[0;31mException\u001b[0m                                 Traceback (most recent call last)",
      "\u001b[0;32m<ipython-input-94-5a51df3f11a3>\u001b[0m in \u001b[0;36m<module>\u001b[0;34m\u001b[0m\n\u001b[0;32m----> 1\u001b[0;31m st.postprocessing.export_to_phy(\n\u001b[0m\u001b[1;32m      2\u001b[0m     \u001b[0mr_cache\u001b[0m\u001b[0;34m,\u001b[0m\u001b[0;34m\u001b[0m\u001b[0;34m\u001b[0m\u001b[0m\n\u001b[1;32m      3\u001b[0m     \u001b[0magreement_sorting\u001b[0m\u001b[0;34m,\u001b[0m\u001b[0;34m\u001b[0m\u001b[0;34m\u001b[0m\u001b[0m\n\u001b[1;32m      4\u001b[0m     \u001b[0moutput_folder\u001b[0m\u001b[0;34m=\u001b[0m\u001b[0;34m'phy_AGR'\u001b[0m\u001b[0;34m,\u001b[0m\u001b[0;34m\u001b[0m\u001b[0;34m\u001b[0m\u001b[0m\n\u001b[1;32m      5\u001b[0m     \u001b[0mgrouping_property\u001b[0m\u001b[0;34m=\u001b[0m\u001b[0;34m'group'\u001b[0m\u001b[0;34m,\u001b[0m\u001b[0;34m\u001b[0m\u001b[0;34m\u001b[0m\u001b[0m\n",
      "\u001b[0;32m/mnt/d/spikeinterface/hussaini-to-nwb/tidy_venv/venv/lib/python3.8/site-packages/spiketoolkit/postprocessing/postprocessing_tools.py\u001b[0m in \u001b[0;36mexport_to_phy\u001b[0;34m(recording, sorting, output_folder, compute_pc_features, compute_amplitudes, max_channels_per_template, copy_binary, **kwargs)\u001b[0m\n\u001b[1;32m   1329\u001b[0m \u001b[0;34m\u001b[0m\u001b[0m\n\u001b[1;32m   1330\u001b[0m     \u001b[0;32mif\u001b[0m \u001b[0mlen\u001b[0m\u001b[0;34m(\u001b[0m\u001b[0msorting\u001b[0m\u001b[0;34m.\u001b[0m\u001b[0mget_unit_ids\u001b[0m\u001b[0;34m(\u001b[0m\u001b[0;34m)\u001b[0m\u001b[0;34m)\u001b[0m \u001b[0;34m==\u001b[0m \u001b[0;36m0\u001b[0m\u001b[0;34m:\u001b[0m\u001b[0;34m\u001b[0m\u001b[0;34m\u001b[0m\u001b[0m\n\u001b[0;32m-> 1331\u001b[0;31m         \u001b[0;32mraise\u001b[0m \u001b[0mException\u001b[0m\u001b[0;34m(\u001b[0m\u001b[0;34m\"No non-empty units in the sorting result, can't save to phy.\"\u001b[0m\u001b[0;34m)\u001b[0m\u001b[0;34m\u001b[0m\u001b[0;34m\u001b[0m\u001b[0m\n\u001b[0m\u001b[1;32m   1332\u001b[0m \u001b[0;34m\u001b[0m\u001b[0m\n\u001b[1;32m   1333\u001b[0m     \u001b[0moutput_folder\u001b[0m \u001b[0;34m=\u001b[0m \u001b[0mPath\u001b[0m\u001b[0;34m(\u001b[0m\u001b[0moutput_folder\u001b[0m\u001b[0;34m)\u001b[0m\u001b[0;34m.\u001b[0m\u001b[0mabsolute\u001b[0m\u001b[0;34m(\u001b[0m\u001b[0;34m)\u001b[0m\u001b[0;34m\u001b[0m\u001b[0;34m\u001b[0m\u001b[0m\n",
      "\u001b[0;31mException\u001b[0m: No non-empty units in the sorting result, can't save to phy."
     ]
    }
   ],
   "source": [
    "st.postprocessing.export_to_phy(\n",
    "    r_cache, \n",
    "    agreement_sorting, \n",
    "    output_folder='phy_AGR',\n",
    "    grouping_property='group', \n",
    "    verbose=True, \n",
    "    recompute_info=True\n",
    ")"
   ]
  },
  {
   "cell_type": "code",
   "execution_count": 69,
   "id": "norwegian-country",
   "metadata": {
    "id": "norwegian-country"
   },
   "outputs": [
    {
     "name": "stderr",
     "output_type": "stream",
     "text": [
      "/mnt/d/spikeinterface/hussaini-to-nwb/tidy_venv/venv/lib/python3.8/site-packages/ipykernel/ipkernel.py:283: DeprecationWarning: `should_run_async` will not call `transform_cell` automatically in the future. Please pass the result to `transformed_cell` argument and any exception that happen during thetransform in `preprocessing_exc_tuple` in IPython 7.17 and above.\n",
      "  and should_run_async(code)\n"
     ]
    }
   ],
   "source": [
    "%%capture --no-display\n",
    "!phy template-gui phy_AGR/params.py"
   ]
  },
  {
   "cell_type": "markdown",
   "id": "cognitive-warehouse",
   "metadata": {
    "id": "cognitive-warehouse"
   },
   "source": [
    "<a id=\"export_nwb\"></a>\n",
    "# 7. Save to / load from NWB\n",
    "[back to index](#index)"
   ]
  },
  {
   "cell_type": "markdown",
   "id": "informative-atlanta",
   "metadata": {},
   "source": [
    "TODO delete\n",
    "\n",
    "Follow https://github.com/catalystneuro/nwb-conversion-tools/blob/master/documentation/conversion_tools_structure.md#step-by-step-operations\n",
    "\n",
    "and https://github.com/catalystneuro/movshon-lab-to-nwb/blob/main/tutorials/openephys_nwb_conversion_detailed.ipynb"
   ]
  },
  {
   "cell_type": "code",
   "execution_count": 9,
   "id": "about-nightmare",
   "metadata": {},
   "outputs": [
    {
     "name": "stderr",
     "output_type": "stream",
     "text": [
      "/mnt/d/spikeinterface/hussaini-to-nwb/tidy_venv/venv/lib/python3.8/site-packages/hdmf/spec/namespace.py:206: PendingDeprecationWarning: \n",
      "safe_load will be removed, use\n",
      "\n",
      "  yaml=YAML(typ='safe', pure=True)\n",
      "  yaml.load(...)\n",
      "\n",
      "instead\n",
      "  d = yaml.safe_load(stream)\n",
      "/mnt/d/spikeinterface/hussaini-to-nwb/tidy_venv/venv/lib/python3.8/site-packages/ruamel/yaml/main.py:1105: PendingDeprecationWarning: \n",
      "load will be removed, use\n",
      "\n",
      "  yaml=YAML(typ='unsafe', pure=True)\n",
      "  yaml.load(...)\n",
      "\n",
      "instead\n",
      "  return load(stream, SafeLoader, version)\n",
      "/mnt/d/spikeinterface/hussaini-to-nwb/tidy_venv/venv/lib/python3.8/site-packages/hdmf/spec/namespace.py:215: PendingDeprecationWarning: \n",
      "safe_load will be removed, use\n",
      "\n",
      "  yaml=YAML(typ='safe', pure=True)\n",
      "  yaml.load(...)\n",
      "\n",
      "instead\n",
      "  specs = yaml.safe_load(stream)\n",
      "/mnt/d/spikeinterface/hussaini-to-nwb/tidy_venv/venv/lib/python3.8/site-packages/ipywidgets/widgets/widget.py:282: DeprecationWarning: Widget registration using a string name has been deprecated. Widget registration now uses a plain `@register` decorator.\n",
      "  warnings.warn(\"Widget registration using a string name has been deprecated. Widget registration now uses a plain `@register` decorator.\", DeprecationWarning)\n",
      "/mnt/d/spikeinterface/hussaini-to-nwb/tidy_venv/venv/lib/python3.8/site-packages/ipysheet/sheet.py:96: DeprecationWarning: metadata {'value': {}} was set from the constructor. With traitlets 4.1, metadata should be set using the .tag() method, e.g., Int().tag(key1='value1', key2='value2')\n",
      "  named_cells = Dict(value={}, allow_none=False).tag(sync=True, **widgets.widget_serialization)\n",
      "/mnt/d/spikeinterface/hussaini-to-nwb/tidy_venv/venv/lib/python3.8/site-packages/ipyvolume/utils.py:19: DeprecationWarning: Using or importing the ABCs from 'collections' instead of from 'collections.abc' is deprecated since Python 3.3, and in 3.9 it will stop working\n",
      "  if isinstance(v, collections.Mapping):\n",
      "/mnt/d/spikeinterface/hussaini-to-nwb/tidy_venv/venv/lib/python3.8/site-packages/traittypes/traittypes.py:20: DeprecationWarning: \n",
      "            Sentinel is not a public part of the traitlets API.\n",
      "            It was published by mistake, and may be removed in the future.\n",
      "            \n",
      "  Empty = Sentinel('Empty', 'traittypes',\n",
      "/mnt/d/spikeinterface/hussaini-to-nwb/tidy_venv/venv/lib/python3.8/site-packages/ipyvolume/transferfunction.py:46: DeprecationWarning: Traits should be given as instances, not types (for example, `Int()`, not `Int`). Passing types is deprecated in traitlets 4.1.\n",
      "  levels = traitlets.List(traitlets.CFloat, default_value=[0.1, 0.5, 0.8]).tag(sync=True)\n",
      "/mnt/d/spikeinterface/hussaini-to-nwb/tidy_venv/venv/lib/python3.8/site-packages/ipyvolume/transferfunction.py:47: DeprecationWarning: Traits should be given as instances, not types (for example, `Int()`, not `Int`). Passing types is deprecated in traitlets 4.1.\n",
      "  opacities = traitlets.List(traitlets.CFloat, default_value=[0.01, 0.05, 0.1]).tag(sync=True)\n",
      "/mnt/d/spikeinterface/hussaini-to-nwb/tidy_venv/venv/lib/python3.8/site-packages/ipyvolume/transferfunction.py:48: DeprecationWarning: Traits should be given as instances, not types (for example, `Int()`, not `Int`). Passing types is deprecated in traitlets 4.1.\n",
      "  widths = traitlets.List(traitlets.CFloat, default_value=[0.1, 0.1, 0.1]).tag(sync=True)\n",
      "/mnt/d/spikeinterface/hussaini-to-nwb/tidy_venv/venv/lib/python3.8/site-packages/pythreejs/traits.py:269: DeprecationWarning: Keyword `traits` is deprecated in traitlets 5.0, use `per_key_traits` instead\n",
      "  super(Uniform, self).__init__(traits=dict(\n",
      "/mnt/d/spikeinterface/hussaini-to-nwb/tidy_venv/venv/lib/python3.8/site-packages/pythreejs/materials/ShaderMaterial_autogen.py:29: DeprecationWarning: Keyword `trait` is deprecated in traitlets 5.0, use `value_trait` instead\n",
      "  uniforms = Dict(default_value={}, trait=Uniform(allow_none=True), allow_none=False).tag(sync=True, **uniforms_serialization)\n",
      "/mnt/d/spikeinterface/hussaini-to-nwb/tidy_venv/venv/lib/python3.8/site-packages/ipyvolume/widgets.py:43: DeprecationWarning: Traits should be given as instances, not types (for example, `Int()`, not `Int`). Passing types is deprecated in traitlets 4.1.\n",
      "  traitlets.List(Unicode, [], allow_none=True),\n",
      "/mnt/d/spikeinterface/hussaini-to-nwb/tidy_venv/venv/lib/python3.8/site-packages/ipyvolume/widgets.py:102: DeprecationWarning: Traits should be given as instances, not types (for example, `Int()`, not `Int`). Passing types is deprecated in traitlets 4.1.\n",
      "  traitlets.List(Unicode, [], allow_none=True),\n",
      "/mnt/d/spikeinterface/hussaini-to-nwb/tidy_venv/venv/lib/python3.8/site-packages/ipyvolume/widgets.py:213: DeprecationWarning: Traits should be given as instances, not types (for example, `Int()`, not `Int`). Passing types is deprecated in traitlets 4.1.\n",
      "  camera_center = traitlets.List(traitlets.CFloat, default_value=[0, 0, 0]).tag(sync=True)\n",
      "/mnt/d/spikeinterface/hussaini-to-nwb/tidy_venv/venv/lib/python3.8/site-packages/ipyvolume/widgets.py:239: DeprecationWarning: Traits should be given as instances, not types (for example, `Int()`, not `Int`). Passing types is deprecated in traitlets 4.1.\n",
      "  xlim = traitlets.List(traitlets.CFloat, default_value=[0, 1], minlen=2, maxlen=2).tag(sync=True)\n",
      "/mnt/d/spikeinterface/hussaini-to-nwb/tidy_venv/venv/lib/python3.8/site-packages/ipyvolume/widgets.py:240: DeprecationWarning: Traits should be given as instances, not types (for example, `Int()`, not `Int`). Passing types is deprecated in traitlets 4.1.\n",
      "  ylim = traitlets.List(traitlets.CFloat, default_value=[0, 1], minlen=2, maxlen=2).tag(sync=True)\n",
      "/mnt/d/spikeinterface/hussaini-to-nwb/tidy_venv/venv/lib/python3.8/site-packages/ipyvolume/widgets.py:241: DeprecationWarning: Traits should be given as instances, not types (for example, `Int()`, not `Int`). Passing types is deprecated in traitlets 4.1.\n",
      "  zlim = traitlets.List(traitlets.CFloat, default_value=[0, 1], minlen=2, maxlen=2).tag(sync=True)\n",
      "/mnt/d/spikeinterface/hussaini-to-nwb/tidy_venv/venv/lib/python3.8/site-packages/ipyvolume/widgets.py:243: DeprecationWarning: Traits should be given as instances, not types (for example, `Int()`, not `Int`). Passing types is deprecated in traitlets 4.1.\n",
      "  matrix_projection = traitlets.List(traitlets.CFloat, default_value=[0] * 16, allow_none=True, minlen=16, maxlen=16).tag(sync=True)\n",
      "/mnt/d/spikeinterface/hussaini-to-nwb/tidy_venv/venv/lib/python3.8/site-packages/ipyvolume/widgets.py:244: DeprecationWarning: Traits should be given as instances, not types (for example, `Int()`, not `Int`). Passing types is deprecated in traitlets 4.1.\n",
      "  matrix_world = traitlets.List(traitlets.CFloat, default_value=[0] * 16, allow_none=True, minlen=16, maxlen=16).tag(sync=True)\n"
     ]
    }
   ],
   "source": [
    "from pynwb import NWBFile, NWBHDF5IO\n",
    "from nwbwidgets import nwb2widget\n",
    "from pathlib import Path\n",
    "import yaml\n",
    "import pprint"
   ]
  },
  {
   "cell_type": "code",
   "execution_count": null,
   "id": "hidden-patrol",
   "metadata": {
    "id": "hidden-patrol"
   },
   "outputs": [],
   "source": [
    "# TODO ..."
   ]
  },
  {
   "cell_type": "code",
   "execution_count": 95,
   "id": "frank-destination",
   "metadata": {
    "id": "frank-destination"
   },
   "outputs": [],
   "source": [
    "metadata = {'Ecephys': {'Device': [{'name': 'Axona',\n",
    "                                    'description': 'Axona DacqUSB acquisition system'}]}}"
   ]
  },
  {
   "cell_type": "code",
   "execution_count": 96,
   "id": "certified-oklahoma",
   "metadata": {},
   "outputs": [
    {
     "data": {
      "text/plain": [
       "spikeextractors.extractors.bindatrecordingextractor.bindatrecordingextractor.BinDatRecordingExtractor"
      ]
     },
     "execution_count": 96,
     "metadata": {},
     "output_type": "execute_result"
    }
   ],
   "source": [
    "type(r_cache)"
   ]
  },
  {
   "cell_type": "code",
   "execution_count": 97,
   "id": "extended-venice",
   "metadata": {},
   "outputs": [
    {
     "data": {
      "text/plain": [
       "{'Ecephys': {'Device': [{'name': 'Axona',\n",
       "    'description': 'Axona DacqUSB acquisition system'}]}}"
      ]
     },
     "execution_count": 97,
     "metadata": {},
     "output_type": "execute_result"
    }
   ],
   "source": [
    "metadata"
   ]
  },
  {
   "cell_type": "code",
   "execution_count": 98,
   "id": "ancient-processor",
   "metadata": {},
   "outputs": [],
   "source": [
    "se.NwbRecordingExtractor.write_recording?"
   ]
  },
  {
   "cell_type": "code",
   "execution_count": 99,
   "id": "aquatic-sight",
   "metadata": {},
   "outputs": [
    {
     "data": {
      "text/plain": [
       "'/mnt/d/freelance-work/catalyst-neuro/hussaini-lab-to-nwb/example_data_raw'"
      ]
     },
     "execution_count": 99,
     "metadata": {},
     "output_type": "execute_result"
    }
   ],
   "source": [
    "dir_name"
   ]
  },
  {
   "cell_type": "code",
   "execution_count": 101,
   "id": "harmful-maintenance",
   "metadata": {},
   "outputs": [],
   "source": [
    "from pathlib import Path"
   ]
  },
  {
   "cell_type": "code",
   "execution_count": 102,
   "id": "convertible-farmer",
   "metadata": {},
   "outputs": [],
   "source": [
    "nwb_dir = Path(dir_name, 'nwb')\n",
    "\n",
    "nwb_dir.mkdir(parents=True, exist_ok=True)"
   ]
  },
  {
   "cell_type": "code",
   "execution_count": 103,
   "id": "signal-general",
   "metadata": {
    "id": "signal-general",
    "scrolled": false
   },
   "outputs": [
    {
     "name": "stderr",
     "output_type": "stream",
     "text": [
      "/mnt/d/spikeinterface/hussaini-to-nwb/tidy_venv/venv/lib/python3.8/site-packages/h5py/_hl/dataset.py:541: DeprecationWarning: Passing None into shape arguments as an alias for () is deprecated.\n",
      "  arr = numpy.ndarray(selection.mshape, dtype=new_dtype)\n",
      "/mnt/d/spikeinterface/hussaini-to-nwb/tidy_venv/venv/lib/python3.8/site-packages/hdmf/common/table.py:415: UserWarning: An attribute 'name' already exists on DynamicTable 'electrodes' so this column cannot be accessed as an attribute, e.g., table.name; it can only be accessed using other methods, e.g., table['name'].\n",
      "  warn(msg)\n"
     ]
    },
    {
     "ename": "AssertionError",
     "evalue": "Raw ElectricalSeries 'ElectricalSeries' is already written in the NWBFile!",
     "output_type": "error",
     "traceback": [
      "\u001b[0;31m---------------------------------------------------------------------------\u001b[0m",
      "\u001b[0;31mAssertionError\u001b[0m                            Traceback (most recent call last)",
      "\u001b[0;32m<ipython-input-103-175a9256d947>\u001b[0m in \u001b[0;36m<module>\u001b[0;34m\u001b[0m\n\u001b[0;32m----> 1\u001b[0;31m \u001b[0mse\u001b[0m\u001b[0;34m.\u001b[0m\u001b[0mNwbRecordingExtractor\u001b[0m\u001b[0;34m.\u001b[0m\u001b[0mwrite_recording\u001b[0m\u001b[0;34m(\u001b[0m\u001b[0mr_cache\u001b[0m\u001b[0;34m,\u001b[0m \u001b[0mnwb_dir\u001b[0m \u001b[0;34m/\u001b[0m \u001b[0;34m'axona_tutorial_re2.nwb'\u001b[0m\u001b[0;34m)\u001b[0m\u001b[0;34m\u001b[0m\u001b[0;34m\u001b[0m\u001b[0m\n\u001b[0m",
      "\u001b[0;32m/mnt/d/spikeinterface/spikeextractors/spikeextractors/extractors/nwbextractors/nwbextractors.py\u001b[0m in \u001b[0;36mwrite_recording\u001b[0;34m(recording, save_path, overwrite, nwbfile, buffer_mb, use_times, metadata, write_as_lfp, write_scaled)\u001b[0m\n\u001b[1;32m   1032\u001b[0m                     \u001b[0mnwbfile\u001b[0m \u001b[0;34m=\u001b[0m \u001b[0mNWBFile\u001b[0m\u001b[0;34m(\u001b[0m\u001b[0;34m**\u001b[0m\u001b[0mnwbfile_kwargs\u001b[0m\u001b[0;34m)\u001b[0m\u001b[0;34m\u001b[0m\u001b[0;34m\u001b[0m\u001b[0m\n\u001b[1;32m   1033\u001b[0m \u001b[0;34m\u001b[0m\u001b[0m\n\u001b[0;32m-> 1034\u001b[0;31m                 se.NwbRecordingExtractor.add_all_to_nwbfile(\n\u001b[0m\u001b[1;32m   1035\u001b[0m                     \u001b[0mrecording\u001b[0m\u001b[0;34m=\u001b[0m\u001b[0mrecording\u001b[0m\u001b[0;34m,\u001b[0m\u001b[0;34m\u001b[0m\u001b[0;34m\u001b[0m\u001b[0m\n\u001b[1;32m   1036\u001b[0m                     \u001b[0mnwbfile\u001b[0m\u001b[0;34m=\u001b[0m\u001b[0mnwbfile\u001b[0m\u001b[0;34m,\u001b[0m\u001b[0;34m\u001b[0m\u001b[0;34m\u001b[0m\u001b[0m\n",
      "\u001b[0;32m/mnt/d/spikeinterface/spikeextractors/spikeextractors/extractors/nwbextractors/nwbextractors.py\u001b[0m in \u001b[0;36madd_all_to_nwbfile\u001b[0;34m(recording, nwbfile, buffer_mb, use_times, metadata, write_as_lfp, write_scaled)\u001b[0m\n\u001b[1;32m    921\u001b[0m             \u001b[0mwrite_scaled\u001b[0m\u001b[0;34m=\u001b[0m\u001b[0mwrite_scaled\u001b[0m\u001b[0;34m\u001b[0m\u001b[0;34m\u001b[0m\u001b[0m\n\u001b[1;32m    922\u001b[0m         )\n\u001b[0;32m--> 923\u001b[0;31m         se.NwbRecordingExtractor.add_electrical_series(\n\u001b[0m\u001b[1;32m    924\u001b[0m             \u001b[0mrecording\u001b[0m\u001b[0;34m=\u001b[0m\u001b[0mrecording\u001b[0m\u001b[0;34m,\u001b[0m\u001b[0;34m\u001b[0m\u001b[0;34m\u001b[0m\u001b[0m\n\u001b[1;32m    925\u001b[0m             \u001b[0mnwbfile\u001b[0m\u001b[0;34m=\u001b[0m\u001b[0mnwbfile\u001b[0m\u001b[0;34m,\u001b[0m\u001b[0;34m\u001b[0m\u001b[0;34m\u001b[0m\u001b[0m\n",
      "\u001b[0;32m/mnt/d/spikeinterface/spikeextractors/spikeextractors/extractors/nwbextractors/nwbextractors.py\u001b[0m in \u001b[0;36madd_electrical_series\u001b[0;34m(recording, nwbfile, metadata, buffer_mb, use_times, write_as_lfp, write_scaled)\u001b[0m\n\u001b[1;32m    718\u001b[0m         \u001b[0;32mif\u001b[0m \u001b[0;32mnot\u001b[0m \u001b[0mwrite_as_lfp\u001b[0m\u001b[0;34m:\u001b[0m\u001b[0;34m\u001b[0m\u001b[0;34m\u001b[0m\u001b[0m\n\u001b[1;32m    719\u001b[0m             \u001b[0mes_name\u001b[0m \u001b[0;34m=\u001b[0m \u001b[0mmetadata\u001b[0m\u001b[0;34m[\u001b[0m\u001b[0;34m'Ecephys'\u001b[0m\u001b[0;34m]\u001b[0m\u001b[0;34m[\u001b[0m\u001b[0;34m'ElectricalSeries'\u001b[0m\u001b[0;34m]\u001b[0m\u001b[0;34m.\u001b[0m\u001b[0mget\u001b[0m\u001b[0;34m(\u001b[0m\u001b[0;34m'name'\u001b[0m\u001b[0;34m,\u001b[0m \u001b[0mraw_defaults\u001b[0m\u001b[0;34m[\u001b[0m\u001b[0;34m'name'\u001b[0m\u001b[0;34m]\u001b[0m\u001b[0;34m)\u001b[0m\u001b[0;34m\u001b[0m\u001b[0;34m\u001b[0m\u001b[0m\n\u001b[0;32m--> 720\u001b[0;31m             \u001b[0;32massert\u001b[0m \u001b[0mes_name\u001b[0m \u001b[0;32mnot\u001b[0m \u001b[0;32min\u001b[0m \u001b[0mnwbfile\u001b[0m\u001b[0;34m.\u001b[0m\u001b[0macquisition\u001b[0m\u001b[0;34m,\u001b[0m\u001b[0;31m \u001b[0m\u001b[0;31m\\\u001b[0m\u001b[0;34m\u001b[0m\u001b[0;34m\u001b[0m\u001b[0m\n\u001b[0m\u001b[1;32m    721\u001b[0m                 \u001b[0;34mf\"Raw ElectricalSeries '{es_name}' is already written in the NWBFile!\"\u001b[0m\u001b[0;34m\u001b[0m\u001b[0;34m\u001b[0m\u001b[0m\n\u001b[1;32m    722\u001b[0m         \u001b[0;32melse\u001b[0m\u001b[0;34m:\u001b[0m\u001b[0;34m\u001b[0m\u001b[0;34m\u001b[0m\u001b[0m\n",
      "\u001b[0;31mAssertionError\u001b[0m: Raw ElectricalSeries 'ElectricalSeries' is already written in the NWBFile!"
     ]
    }
   ],
   "source": [
    "se.NwbRecordingExtractor.write_recording(r_cache, nwb_dir / 'axona_tutorial_re2.nwb')"
   ]
  },
  {
   "cell_type": "code",
   "execution_count": 105,
   "id": "similar-amount",
   "metadata": {
    "id": "similar-amount"
   },
   "outputs": [
    {
     "name": "stderr",
     "output_type": "stream",
     "text": [
      "/mnt/d/spikeinterface/hussaini-to-nwb/tidy_venv/venv/lib/python3.8/site-packages/pynwb/file.py:753: UserWarning: Date is missing timezone information. Updating to local timezone.\n",
      "  warn(\"Date is missing timezone information. Updating to local timezone.\")\n",
      "/mnt/d/spikeinterface/spikeextractors/spikeextractors/extractors/nwbextractors/nwbextractors.py:1240: DeprecationWarning: `np.float` is a deprecated alias for the builtin `float`. To silence this warning, use `float` by itself. Doing this will not modify any behavior and is safe. If you specifically wanted the numpy scalar type, use `np.float64` here.\n",
      "Deprecated in NumPy 1.20; for more details and guidance: https://numpy.org/devdocs/release/1.20.0-notes.html#deprecations\n",
      "  if isinstance(prop_value, (int, np.integer, float, np.float, str, bool)):\n",
      "/mnt/d/spikeinterface/spikeextractors/spikeextractors/extractors/nwbextractors/nwbextractors.py:1264: UserWarning: Description for property ch_group not found in property_descriptions. Setting description to 'no description'\n",
      "  warnings.warn(\n",
      "/mnt/d/spikeinterface/spikeextractors/spikeextractors/extractors/nwbextractors/nwbextractors.py:1313: DeprecationWarning: `np.float` is a deprecated alias for the builtin `float`. To silence this warning, use `float` by itself. Doing this will not modify any behavior and is safe. If you specifically wanted the numpy scalar type, use `np.float64` here.\n",
      "Deprecated in NumPy 1.20; for more details and guidance: https://numpy.org/devdocs/release/1.20.0-notes.html#deprecations\n",
      "  if isinstance(feat_value[0], (int, np.integer, float, np.float, str, bool)):\n",
      "/mnt/d/spikeinterface/hussaini-to-nwb/tidy_venv/venv/lib/python3.8/site-packages/hdmf/build/objectmapper.py:256: DtypeConversionWarning: Spec 'Units/VectorData': Value with data type int64 is being converted to data type uint64 (min specification: uint8).\n",
      "  warnings.warn(full_warning_msg, DtypeConversionWarning)\n"
     ]
    }
   ],
   "source": [
    "se.NwbSortingExtractor.write_sorting(sorting_MS4_phy_curated, nwb_dir / 'axona_se_MS4.nwb')"
   ]
  },
  {
   "cell_type": "code",
   "execution_count": 106,
   "id": "spatial-stability",
   "metadata": {
    "id": "spatial-stability"
   },
   "outputs": [],
   "source": [
    "recording_nwb = se.NwbRecordingExtractor(nwb_dir / 'axona_tutorial_re2.nwb')"
   ]
  },
  {
   "cell_type": "code",
   "execution_count": 108,
   "id": "specific-weekend",
   "metadata": {
    "scrolled": true
   },
   "outputs": [],
   "source": [
    "sorting_nwb = se.NwbSortingExtractor(nwb_dir / 'axona_se_MS4.nwb', sampling_frequency=48000)"
   ]
  },
  {
   "cell_type": "markdown",
   "id": "unexpected-handling",
   "metadata": {
    "id": "unexpected-handling"
   },
   "source": [
    "<a id=\"export_tint\"></a>\n",
    "# 8. Save to / load from TINT\n",
    "[back to index](#index)"
   ]
  },
  {
   "cell_type": "code",
   "execution_count": null,
   "id": "narrative-scratch",
   "metadata": {
    "id": "narrative-scratch"
   },
   "outputs": [],
   "source": [
    "# TODO ..."
   ]
  },
  {
   "cell_type": "code",
   "execution_count": null,
   "id": "perfect-herald",
   "metadata": {
    "id": "perfect-herald"
   },
   "outputs": [],
   "source": [
    "# finally, read with gebaspike"
   ]
  },
  {
   "cell_type": "code",
   "execution_count": null,
   "id": "weighted-clearance",
   "metadata": {
    "id": "weighted-clearance"
   },
   "outputs": [],
   "source": []
  },
  {
   "cell_type": "code",
   "execution_count": null,
   "id": "abroad-torture",
   "metadata": {
    "id": "abroad-torture"
   },
   "outputs": [],
   "source": []
  },
  {
   "cell_type": "code",
   "execution_count": null,
   "id": "overhead-track",
   "metadata": {
    "id": "overhead-track"
   },
   "outputs": [],
   "source": []
  },
  {
   "cell_type": "code",
   "execution_count": null,
   "id": "constitutional-valentine",
   "metadata": {
    "id": "constitutional-valentine"
   },
   "outputs": [],
   "source": []
  },
  {
   "cell_type": "code",
   "execution_count": null,
   "id": "polyphonic-competition",
   "metadata": {
    "id": "polyphonic-competition"
   },
   "outputs": [],
   "source": []
  },
  {
   "cell_type": "code",
   "execution_count": null,
   "id": "angry-grill",
   "metadata": {
    "id": "angry-grill"
   },
   "outputs": [],
   "source": []
  },
  {
   "cell_type": "code",
   "execution_count": null,
   "id": "relevant-silicon",
   "metadata": {
    "id": "relevant-silicon"
   },
   "outputs": [],
   "source": [
    "# eof"
   ]
  }
 ],
 "metadata": {
  "colab": {
   "collapsed_sections": [
    "initial-richards",
    "honey-bangladesh",
    "disabled-stand",
    "naked-affair",
    "intimate-professional",
    "minus-output",
    "infrared-garage",
    "formed-equity",
    "lightweight-tuition",
    "certified-withdrawal",
    "undefined-satin",
    "respiratory-charter",
    "alive-plate",
    "incomplete-bankruptcy",
    "injured-affect",
    "contemporary-riding",
    "bulgarian-adult",
    "passing-circulation",
    "cognitive-warehouse",
    "unexpected-handling"
   ],
   "name": "milestone2_modular_pipeline_colab.ipynb",
   "provenance": []
  },
  "kernelspec": {
   "display_name": "Python 3",
   "language": "python",
   "name": "python3"
  },
  "language_info": {
   "codemirror_mode": {
    "name": "ipython",
    "version": 3
   },
   "file_extension": ".py",
   "mimetype": "text/x-python",
   "name": "python",
   "nbconvert_exporter": "python",
   "pygments_lexer": "ipython3",
   "version": "3.8.5"
  }
 },
 "nbformat": 4,
 "nbformat_minor": 5
}
